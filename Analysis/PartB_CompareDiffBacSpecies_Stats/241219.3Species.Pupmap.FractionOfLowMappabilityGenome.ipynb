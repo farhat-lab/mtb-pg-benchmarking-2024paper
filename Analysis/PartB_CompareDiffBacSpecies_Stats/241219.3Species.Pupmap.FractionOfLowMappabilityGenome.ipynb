{
 "cells": [
  {
   "cell_type": "code",
   "execution_count": null,
   "id": "c71d0b02-da47-4d49-a73e-04062c515b37",
   "metadata": {},
   "outputs": [],
   "source": []
  },
  {
   "cell_type": "markdown",
   "id": "597aacad-b708-46a4-914a-427f4ef30ae2",
   "metadata": {},
   "source": [
    "# Merged PG Analysis - 3 Species (Mtb, Ecoli, Saureus) comparison"
   ]
  },
  {
   "cell_type": "code",
   "execution_count": null,
   "id": "cd098968-6c31-4c12-b07c-a060548b1e60",
   "metadata": {},
   "outputs": [],
   "source": []
  },
  {
   "cell_type": "markdown",
   "id": "cffa8491-e6ee-4559-b270-d24b8ff159a4",
   "metadata": {
    "toc-hr-collapsed": true
   },
   "source": [
    "### Import Statements"
   ]
  },
  {
   "cell_type": "code",
   "execution_count": 1,
   "id": "f507f44f-6463-4592-822c-55f4dd583f38",
   "metadata": {},
   "outputs": [],
   "source": [
    "import numpy as np\n",
    "import pandas as pd\n",
    "from tqdm import tqdm\n",
    "import matplotlib.pyplot as plt\n",
    "import seaborn as sns\n",
    "import pickle\n",
    "import scipy.stats\n",
    "\n",
    "%matplotlib inline"
   ]
  },
  {
   "cell_type": "code",
   "execution_count": null,
   "id": "41e7a419-d52a-4311-a8af-59008054ddc5",
   "metadata": {},
   "outputs": [],
   "source": []
  },
  {
   "cell_type": "code",
   "execution_count": null,
   "id": "8428fb29-4f05-4286-8bca-42ca87692cf9",
   "metadata": {},
   "outputs": [],
   "source": []
  },
  {
   "cell_type": "code",
   "execution_count": null,
   "id": "8a475706-71d2-48cb-9e4d-cf7032b25c7b",
   "metadata": {},
   "outputs": [],
   "source": []
  },
  {
   "cell_type": "code",
   "execution_count": null,
   "id": "d9725fe1-e389-4997-9ebf-52f8c3cbfa15",
   "metadata": {},
   "outputs": [],
   "source": []
  },
  {
   "cell_type": "markdown",
   "id": "fa773dc4-f3c6-4d6b-b125-fc3520516dc4",
   "metadata": {},
   "source": [
    "#### Pandas Viewing Settings"
   ]
  },
  {
   "cell_type": "code",
   "execution_count": 2,
   "id": "dfd7e9ea-d715-48c8-a022-3acbc5f7f023",
   "metadata": {},
   "outputs": [],
   "source": [
    "pd.set_option('display.max_rows', 500)\n",
    "pd.set_option('display.max_columns', 500)\n",
    "pd.set_option('display.width', 1000)"
   ]
  },
  {
   "cell_type": "code",
   "execution_count": 3,
   "id": "5bc5bfc9-629b-48ab-9734-be7164ee65c0",
   "metadata": {},
   "outputs": [],
   "source": [
    "%reload_ext autoreload\n",
    "%autoreload 2\n",
    "    \n",
    "from panqc.utils import parse_PresAbs_Rtab, get_PG_StatsDF_FromPresAbs\n",
    "\n",
    "from panqc.utils import get_PG_Stats_FromPresAbs, get_PG_Stats_FromPresAbs_V2\n"
   ]
  },
  {
   "cell_type": "code",
   "execution_count": null,
   "id": "a4a631da-cca1-4e85-99a1-a3087109f183",
   "metadata": {},
   "outputs": [],
   "source": []
  },
  {
   "cell_type": "code",
   "execution_count": null,
   "id": "216043ef-442a-4067-980d-e99e4dfe3330",
   "metadata": {},
   "outputs": [],
   "source": []
  },
  {
   "cell_type": "code",
   "execution_count": null,
   "id": "d9572fac-434f-46e2-86ac-ef5d43daf02a",
   "metadata": {},
   "outputs": [],
   "source": []
  },
  {
   "cell_type": "code",
   "execution_count": null,
   "id": "8355bda7-cc60-47dd-a8c0-12bb6bbe3162",
   "metadata": {},
   "outputs": [],
   "source": []
  },
  {
   "cell_type": "code",
   "execution_count": null,
   "id": "9cbc13d7-1aa4-4322-a4e7-d59a0fdf8eff",
   "metadata": {},
   "outputs": [],
   "source": []
  },
  {
   "cell_type": "code",
   "execution_count": null,
   "id": "144f053c-e554-4fee-84f1-8c332e4d193e",
   "metadata": {},
   "outputs": [],
   "source": []
  },
  {
   "cell_type": "code",
   "execution_count": null,
   "id": "ef091d0a-c380-46b4-9cba-aae70d374f6c",
   "metadata": {},
   "outputs": [],
   "source": []
  },
  {
   "cell_type": "code",
   "execution_count": null,
   "id": "f67d310c-77ab-431b-87b4-fd1867b1d87f",
   "metadata": {},
   "outputs": [],
   "source": []
  },
  {
   "cell_type": "code",
   "execution_count": null,
   "id": "c7f3a5c6-7dcc-4b5b-9052-72b0b3172001",
   "metadata": {},
   "outputs": [],
   "source": []
  },
  {
   "cell_type": "markdown",
   "id": "6e299c6a-2f5e-4d89-85e3-4730ed41c9a1",
   "metadata": {},
   "source": [
    "# Define Functions"
   ]
  },
  {
   "cell_type": "code",
   "execution_count": 4,
   "id": "b75f0be5-64d3-463a-ad46-056326b813cf",
   "metadata": {},
   "outputs": [],
   "source": [
    "def parse_PresAbs_Rtab_V2(PresAbs_Rtab_PATH):\n",
    "    '''\n",
    "    This function parsesthe `gene_presence_absence.csv` file output by Panaroo '''\n",
    "\n",
    "    i_Gene_PresAbs_DF = pd.read_csv(PresAbs_Rtab_PATH, sep = \"\\t\")\n",
    "\n",
    "    ### Relabel Columns for presence/absence tracking\n",
    "    i_Gene_PresAbs_DF.columns = [ x.split(\".CDHIT\")[0] for x in i_Gene_PresAbs_DF.columns ]\n",
    "\n",
    "\n",
    "    ListOf_SampleID_Cols = list(i_Gene_PresAbs_DF.drop([\"Gene\"], axis=1).columns)\n",
    "    \n",
    "    i_Gene_PresAbs_DF[\"NumAsm_WiGene\"] = i_Gene_PresAbs_DF[ListOf_SampleID_Cols].sum(axis = 1)\n",
    "\n",
    "    i_Gene_PresAbs_DF = i_Gene_PresAbs_DF.sort_values(by='NumAsm_WiGene', ascending=False)\n",
    "    i_Gene_PresAbs_DF = i_Gene_PresAbs_DF.set_index(\"Gene\", drop=False)\n",
    "\n",
    "    return i_Gene_PresAbs_DF"
   ]
  },
  {
   "cell_type": "code",
   "execution_count": null,
   "id": "1a2928d6-d1d9-4f53-8f60-ba660810aec8",
   "metadata": {},
   "outputs": [],
   "source": []
  },
  {
   "cell_type": "code",
   "execution_count": 5,
   "id": "c97fd460-b5f5-4e6e-88f9-ba9bac654de7",
   "metadata": {},
   "outputs": [],
   "source": [
    "def infer_PG_Stats_FromRtab(i_Pangene_Rtab, i_NumSamples, verbose = False):\n",
    "\n",
    "    Pangene_Rtab_DF = parse_PresAbs_Rtab_V2(i_Pangene_Rtab)\n",
    "\n",
    "    NumTotalGenes, NumCoreGenes, NumAccessoryGenes = get_PG_Stats_FromPresAbs(Pangene_Rtab_DF, i_NumSamples)\n",
    "\n",
    "    listOf_PG_Rows = []\n",
    "    listOf_PG_Rows.append( (\"Total genes\", \"(0% <= strains <= 100%)\", NumTotalGenes) )\n",
    "    listOf_PG_Rows.append( (\"Accessory genes\", \"(0% <= strains < 99%)\", NumAccessoryGenes) )\n",
    "    listOf_PG_Rows.append( (\"Core genes\", \"(99% <= strains <= 100%)\", NumCoreGenes) )\n",
    "\n",
    "    Pangene_PG_Stats_DF = pd.DataFrame(listOf_PG_Rows)\n",
    "    Pangene_PG_Stats_DF.columns = [\"Category\", \"Range\", \"GeneCount\"]\n",
    "    \n",
    "    return Pangene_PG_Stats_DF"
   ]
  },
  {
   "cell_type": "code",
   "execution_count": null,
   "id": "f276831f-6a12-4601-8d12-7cfc5bccbd09",
   "metadata": {},
   "outputs": [],
   "source": []
  },
  {
   "cell_type": "code",
   "execution_count": 6,
   "id": "51c2ba08-0551-4036-8e28-a2b1d2d351ac",
   "metadata": {},
   "outputs": [],
   "source": [
    "\n",
    "def read_PanarooSummaryStats(input_Panaroo_SummaryStats_TXT):\n",
    "    \n",
    "    i_Panaroo_Stats_DF = pd.read_csv(input_Panaroo_SummaryStats_TXT, sep = \"\\t\", header=None)\n",
    "    i_Panaroo_Stats_DF.columns = [\"Category\", \"Range\", \"GeneCount\"]\n",
    "\n",
    "    Acc_GenesCount = i_Panaroo_Stats_DF[\"GeneCount\"].values[-1] - i_Panaroo_Stats_DF[\"GeneCount\"].values[0]\n",
    "\n",
    "    i_Panaroo_AccGenesRow = [\"Accessory genes\",\"(0% <= strains < 99%)\", Acc_GenesCount]\n",
    "\n",
    "    i_Panaroo_Stats_DF.loc[len(i_Panaroo_Stats_DF.index)] = i_Panaroo_AccGenesRow\n",
    "\n",
    "    #listOfCat_ToKeep = [\"Core genes\", \"Accessory Genes\", \"Total genes\"]\n",
    "\n",
    "    i_Panaroo_Stats_DF = i_Panaroo_Stats_DF[ i_Panaroo_Stats_DF[\"Category\"].isin(listOfCat_ToKeep)]   \n",
    "\n",
    "    # https://www.statology.org/pandas-add-row-to-dataframe/#:~:text=You%20can%20use%20the%20df,loc%5Blen(df. \n",
    "\n",
    "    return i_Panaroo_Stats_DF"
   ]
  },
  {
   "cell_type": "code",
   "execution_count": 7,
   "id": "1b32cbed-e4f0-44c3-920e-a16a44a69dea",
   "metadata": {},
   "outputs": [],
   "source": [
    "def read_Ppanggolin_ContextStats(i_Ppanggolin_Default_Content_TXT):\n",
    "    with open(i_Ppanggolin_Default_Content_TXT, \"r\") as f:\n",
    "\n",
    "        #NumCoreGenes = -1\n",
    "        #NumShellGenes = -1\n",
    "        #NumCloudGenes = -1\n",
    "        for line in f:\n",
    "            line_split = line.split(\": \")\n",
    "\n",
    "            Key = line_split[0].split(\" (\")[0]\n",
    "            Value = line_split[-1].strip()\n",
    "\n",
    "            if Key == \"Persistent\": NumCoreGenes = int(Value)\n",
    "            elif Key == \"Shell\": NumShellGenes = int(Value)\n",
    "            elif Key == \"Cloud\": NumCloudGenes = int(Value)\n",
    "\n",
    "        NumAccessoryGenes = NumShellGenes + NumCloudGenes\n",
    "        NumTotalGenes = NumCoreGenes + NumAccessoryGenes\n",
    "\n",
    "    listOf_PG_Rows = []\n",
    "    listOf_PG_Rows.append( (\"Total genes\", \"(0% <= strains <= 100%)\", NumTotalGenes) )\n",
    "    listOf_PG_Rows.append( (\"Accessory genes\", \"(0% <= strains < 99%)\", NumAccessoryGenes) )\n",
    "    listOf_PG_Rows.append( (\"Core genes\", \"(99% <= strains <= 100%)\", NumCoreGenes) )\n",
    "\n",
    "    PPanggolin_Summary_DF = pd.DataFrame(listOf_PG_Rows)\n",
    "    PPanggolin_Summary_DF.columns = [\"Category\", \"Range\", \"GeneCount\"]\n",
    "    \n",
    "    return PPanggolin_Summary_DF"
   ]
  },
  {
   "cell_type": "code",
   "execution_count": null,
   "id": "4052e681-4ff2-4bbc-a787-d08ada3caa5c",
   "metadata": {},
   "outputs": [],
   "source": []
  },
  {
   "cell_type": "code",
   "execution_count": 8,
   "id": "4e0145b8-ecc3-4483-8d08-b3c11aee1ad2",
   "metadata": {},
   "outputs": [],
   "source": [
    "\n",
    "def calculate_gene_gain_loss_stats(branchstats_tsv):\n",
    "    \"\"\"\n",
    "    Calculate gene gain and loss statistics for ancestral branches and tips\n",
    "    from a branchstats.tsv file generated by Panstripe software.\n",
    "    \n",
    "    Parameters:\n",
    "        branchstats_tsv (str): Path to the branchstats.tsv file.\n",
    "        \n",
    "    Returns:\n",
    "        dict: A dictionary containing the four statistics:\n",
    "              - N_Gain_AncBranches: Total number of genes gained on ancestral branches.\n",
    "              - N_Loss_AncBranches: Total number of genes lost on ancestral branches.\n",
    "              - N_Gain_Tips: Total number of genes gained on tips.\n",
    "              - N_Loss_Tips: Total number of genes lost on tips.\n",
    "    \"\"\"\n",
    "    # Load the data\n",
    "    data = pd.read_csv(branchstats_tsv, sep=\"\\t\")\n",
    "    \n",
    "    # Split the data into ancestral branches and tips\n",
    "    data_tips = data.query(\"istip == 1\")\n",
    "    data_ancs = data.query(\"istip == 0\")\n",
    "    \n",
    "    # Calculate statistics\n",
    "    stats = {\n",
    "        \"N_Gain_Ancs\": data_ancs[\"acc_gain\"].sum(),\n",
    "        \"N_Loss_Ancs\": data_ancs[\"acc_loss\"].sum(),\n",
    "        \"N_Gain_Tips\": data_tips[\"acc_gain\"].sum(),\n",
    "        \"N_Loss_Tips\": data_tips[\"acc_loss\"].sum()\n",
    "    }\n",
    "    \n",
    "    return stats\n",
    "\n",
    "# Example usage:\n",
    "# file_path = \"path/to/Panstripe.BranchStats.tsv\"\n",
    "# stats = calculate_gene_gain_loss_stats(file_path)\n",
    "# print(stats)\n"
   ]
  },
  {
   "cell_type": "code",
   "execution_count": null,
   "id": "7c4bc7ad-8abd-4576-a2da-4f5ec5651ed9",
   "metadata": {},
   "outputs": [],
   "source": []
  },
  {
   "cell_type": "code",
   "execution_count": null,
   "id": "986a9d9f-3a0e-4626-b55c-b20bbc4801b0",
   "metadata": {},
   "outputs": [],
   "source": []
  },
  {
   "cell_type": "code",
   "execution_count": null,
   "id": "fb82bc77-9365-4b4b-b1c2-fb8a6d1fc204",
   "metadata": {},
   "outputs": [],
   "source": []
  },
  {
   "cell_type": "code",
   "execution_count": null,
   "id": "de6d22bc-e71e-4ffc-97b7-3190a5028adb",
   "metadata": {},
   "outputs": [],
   "source": []
  },
  {
   "cell_type": "code",
   "execution_count": null,
   "id": "8a3bee13-74cc-45c9-baad-5a950fcc55c3",
   "metadata": {},
   "outputs": [],
   "source": []
  },
  {
   "cell_type": "code",
   "execution_count": 9,
   "id": "ae6cde52-8bd3-4c3a-9e2b-4ec88828ac68",
   "metadata": {},
   "outputs": [],
   "source": [
    "def read_BaktaTXT_ToBasicInfoDict(i_BaktaInfo_TXT):\n",
    "    \"\"\"\n",
    "    Function to read in a bakta.txt file. \n",
    "    \n",
    "    The function extracts the following information & stores it as a dictionary:\n",
    "    1) Total Cumulative Length (Across all contigs), 2) Number of contigs\n",
    "    3) GC content, 4) Assembly N50, 5) Number CDS, 6) Coding Density\n",
    "    \"\"\"\n",
    "    \n",
    "    out_BaktaInfo_Dict = {}\n",
    "    \n",
    "    i_Asm_BaktaInfo_DF = pd.read_csv(i_BaktaInfo_TXT, sep = \":\",header=None)\n",
    "    i_Asm_BaktaInfo_RawDict = dict(i_Asm_BaktaInfo_DF[[0,1]].values)\n",
    "\n",
    "    out_BaktaInfo_Dict[\"TotalContigLength\"] = int(i_Asm_BaktaInfo_RawDict[\"Length\"])\n",
    "    out_BaktaInfo_Dict[\"NumContigs\"] = int(i_Asm_BaktaInfo_RawDict[\"Count\"])\n",
    "    out_BaktaInfo_Dict[\"GCcontent\"] = float(i_Asm_BaktaInfo_RawDict[\"GC\"] )\n",
    "    out_BaktaInfo_Dict[\"N50\"] = float(i_Asm_BaktaInfo_RawDict[\"N50\"])\n",
    "    out_BaktaInfo_Dict[\"NumCDS\"] = int( i_Asm_BaktaInfo_RawDict[\"CDSs\"])\n",
    "\n",
    "    out_BaktaInfo_Dict[\"CodingDensity\"] = float(i_Asm_BaktaInfo_RawDict[\"coding density\"])\n",
    "    out_BaktaInfo_Dict[\"NumHypotheticals\"] = int(i_Asm_BaktaInfo_RawDict['hypotheticals'])\n",
    "\n",
    "    \n",
    "    return out_BaktaInfo_Dict\n"
   ]
  },
  {
   "cell_type": "code",
   "execution_count": null,
   "id": "632fcaa7-f90c-4088-aebf-6a2c30e25336",
   "metadata": {},
   "outputs": [],
   "source": []
  },
  {
   "cell_type": "code",
   "execution_count": null,
   "id": "4454b6ed-5eac-488a-8563-448e811cd403",
   "metadata": {},
   "outputs": [],
   "source": []
  },
  {
   "cell_type": "code",
   "execution_count": null,
   "id": "d30ce5bf-cc6e-46b0-86a0-b52f733bcfaf",
   "metadata": {},
   "outputs": [],
   "source": []
  },
  {
   "cell_type": "code",
   "execution_count": null,
   "id": "a38ad446-d871-49e6-b074-69fd9ba91e1c",
   "metadata": {},
   "outputs": [],
   "source": []
  },
  {
   "cell_type": "code",
   "execution_count": null,
   "id": "9ad30c9e-d519-401e-94f2-de281eb1878c",
   "metadata": {},
   "outputs": [],
   "source": []
  },
  {
   "cell_type": "markdown",
   "id": "9e6467dc-0da0-44c6-8b0c-779ee9b2fec6",
   "metadata": {},
   "source": [
    "# Define paths to metadata & pipeline outputs (All 3 Species)"
   ]
  },
  {
   "cell_type": "code",
   "execution_count": 10,
   "id": "90067ad0-c3ef-4675-8bac-1d48dc2aeb07",
   "metadata": {},
   "outputs": [],
   "source": [
    "\n",
    "Proj_MainDir = \"/n/data1/hms/dbmi/farhat/mm774/Projects\"\n",
    "\n",
    "\n",
    "### Mtb PG Analysis Files ###\n",
    "\n",
    "Mtb_WGA_SMK_Outputs_Dir = \"/n/data1/hms/dbmi/farhat/mm774/Projects/Mtb-WGA-SMK-Output\"\n",
    "\n",
    "WGA151CI_SMK_OutputDir = Mtb_WGA_SMK_Outputs_Dir + \"/231121_MtbSetV3_151CI\"\n",
    "\n",
    "Mtb_SMK_Pipeline_OutputDir = WGA151CI_SMK_OutputDir\n",
    "############################################################\n",
    "\n",
    "\n",
    "\n",
    "\n",
    "### Ecoli PG Analysis Files ###\n",
    "\n",
    "Ecoli_PG_MainDir = f\"{Proj_MainDir}/230905_Ecoli_PG_Analysis\"  \n",
    "\n",
    "Ecoli_SMK_Outputs_Dir = f\"{Ecoli_PG_MainDir}/SMK_OutDirs\"\n",
    "PG_Ecoli_50I_OutDir = Ecoli_SMK_Outputs_Dir + \"/231011_Ecoli_Shaw2021_5OI_V1\"\n",
    "\n",
    "\n",
    "\n",
    "Ecoli_Data_MainDir = f\"{Ecoli_PG_MainDir}/Data\"  \n",
    "\n",
    "Shaw2021_50Asm_Dir = f\"{Ecoli_Data_MainDir}/Shaw2021.50Genomes.Data/data\"\n",
    "Shaw2021_Meta_TSV = f\"{Ecoli_Data_MainDir}/Shaw2021.SelectedIsolates.50I.tsv\"  \n",
    "\n",
    "Ecoli_Meta_Dir = f\"../../Data/230905_Ecoli_50CI_Metadata_Shaw2021\"  \n",
    "\n",
    "Shaw2021_Ecoli_50Asm_Meta_TSV = f\"{Ecoli_Meta_Dir}/231011.Shaw2021.Ecoli.50I.MetaData.tsv\"\n",
    "\n",
    "\n",
    "\n",
    "############################################################\n",
    "\n",
    "\n",
    "### Saureus PG Analysis Files ###\n",
    "\n",
    "SA_PG_MainDir = f\"{Proj_MainDir}/241206_Saureus_PG_Analysis\"  \n",
    "\n",
    "SA_SMK_Outputs_Dir = f\"{SA_PG_MainDir}/SMK_OutDirs\"\n",
    "\n",
    "PG_SA_68I_OutDir = SA_SMK_Outputs_Dir + \"/241206_Saureus_HoutakBouras2023_68I_V1\"\n",
    "\n",
    "\n",
    "\n",
    "SA_Data_MainDir = f\"{SA_PG_MainDir}/Data\"  \n",
    "\n",
    "SA_68CI_GenomeFASTAs_Dir = f\"{SA_Data_MainDir}/CRS.Saureus.68CI.GenomesFromGitRepo\"\n",
    "\n",
    "HoutakBouras2023_Saureus_68CI_AsmPATH_AltPath_TSV = f\"{SA_PG_MainDir}/241206.HoutakBouras2023.Saureus.68I.MetaData.And.AsmFA.tsv\"\n",
    "\n",
    "Saureus_Repo_Meta_Dir = f\"../../Data/241206_Saureus_HoutakBouras2023_Metadata\"  \n",
    "\n",
    "Sa_ENA_RunData_TSV = f\"{Saureus_Repo_Meta_Dir}/ENA.RunMetadata.PRJNA914892.tsv\"\n",
    "\n",
    "Sa_HoutakBouras2023_Isolate_Metadata_TSV = f\"{Saureus_Repo_Meta_Dir}/HoutakBouras2023.metadata.csv\"\n",
    "\n",
    "Sa_HoutakBouras2023_Isolate_MLST_Info_TSV = f\"{Saureus_Repo_Meta_Dir}/metadata/poppunk_mlst.csv\"\n",
    "\n",
    "############################################################\n",
    "\n",
    "\n"
   ]
  },
  {
   "cell_type": "code",
   "execution_count": null,
   "id": "22845732-c041-4a7f-85e9-f59ec0792136",
   "metadata": {},
   "outputs": [],
   "source": []
  },
  {
   "cell_type": "markdown",
   "id": "a8a1e34e-5ed6-4d31-88f7-897253d5f51c",
   "metadata": {},
   "source": [
    "# Parse isolate/sample metadata for all 3 species"
   ]
  },
  {
   "cell_type": "markdown",
   "id": "bbb8fb12-bc9a-44bf-8a8a-ba148ebfb87a",
   "metadata": {
    "jp-MarkdownHeadingCollapsed": true
   },
   "source": [
    "## Parse in SA metadata"
   ]
  },
  {
   "cell_type": "code",
   "execution_count": 11,
   "id": "622ee7f4-03f4-4d91-8261-73762028c2b4",
   "metadata": {},
   "outputs": [
    {
     "name": "stdout",
     "output_type": "stream",
     "text": [
      "(68, 8)\n",
      "(68, 8)\n"
     ]
    }
   ],
   "source": [
    "SA_68CI_Info_DF = pd.read_csv(HoutakBouras2023_Saureus_68CI_AsmPATH_AltPath_TSV,\n",
    "                               sep = \"\\t\")\n",
    "print(SA_68CI_Info_DF.shape)\n",
    "\n",
    "#Sa_68CI_Info_DF = pd.merge(Sa_68CI_Info_DF, MLST_DF, how = \"left\",\n",
    "#                           left_on=\"SampleID\", right_on = \"SampleID\" )\n",
    "\n",
    "print(SA_68CI_Info_DF.shape)"
   ]
  },
  {
   "cell_type": "markdown",
   "id": "9bd6e126-7377-485d-87a5-0d0d51f742e3",
   "metadata": {},
   "source": [
    "### Define list of SA SampleIDs"
   ]
  },
  {
   "cell_type": "code",
   "execution_count": 12,
   "id": "c2db269b-79f9-4896-868e-1d94c8569683",
   "metadata": {},
   "outputs": [
    {
     "data": {
      "text/html": [
       "<div>\n",
       "<style scoped>\n",
       "    .dataframe tbody tr th:only-of-type {\n",
       "        vertical-align: middle;\n",
       "    }\n",
       "\n",
       "    .dataframe tbody tr th {\n",
       "        vertical-align: top;\n",
       "    }\n",
       "\n",
       "    .dataframe thead th {\n",
       "        text-align: right;\n",
       "    }\n",
       "</style>\n",
       "<table border=\"1\" class=\"dataframe\">\n",
       "  <thead>\n",
       "    <tr style=\"text-align: right;\">\n",
       "      <th></th>\n",
       "      <th>SampleID</th>\n",
       "      <th>PatientID</th>\n",
       "      <th>Timepoint</th>\n",
       "      <th>Bioproject</th>\n",
       "      <th>SR_RunAccession</th>\n",
       "      <th>Assembly_Accession</th>\n",
       "      <th>Organism</th>\n",
       "      <th>Genome_ASM_PATH</th>\n",
       "    </tr>\n",
       "  </thead>\n",
       "  <tbody>\n",
       "    <tr>\n",
       "      <th>0</th>\n",
       "      <td>C100</td>\n",
       "      <td>276</td>\n",
       "      <td>T0</td>\n",
       "      <td>PRJNA914892</td>\n",
       "      <td>SRR22859841</td>\n",
       "      <td>GCA_030290035.1</td>\n",
       "      <td>Staphylococcus aureus</td>\n",
       "      <td>/n/data1/hms/dbmi/farhat/mm774/Projects/241206...</td>\n",
       "    </tr>\n",
       "  </tbody>\n",
       "</table>\n",
       "</div>"
      ],
      "text/plain": [
       "  SampleID  PatientID Timepoint   Bioproject SR_RunAccession Assembly_Accession               Organism                                    Genome_ASM_PATH\n",
       "0     C100        276        T0  PRJNA914892     SRR22859841    GCA_030290035.1  Staphylococcus aureus  /n/data1/hms/dbmi/farhat/mm774/Projects/241206..."
      ]
     },
     "execution_count": 12,
     "metadata": {},
     "output_type": "execute_result"
    }
   ],
   "source": [
    "SA_68CI_Info_DF.head(1)  "
   ]
  },
  {
   "cell_type": "code",
   "execution_count": 13,
   "id": "d990eb90-4d48-46cb-9627-4ae206582b84",
   "metadata": {},
   "outputs": [
    {
     "data": {
      "text/plain": [
       "68"
      ]
     },
     "execution_count": 13,
     "metadata": {},
     "output_type": "execute_result"
    }
   ],
   "source": [
    "SA68I_SampleIDs = SA_68CI_Info_DF[\"SampleID\"].values   \n",
    "len(SA68I_SampleIDs)"
   ]
  },
  {
   "cell_type": "code",
   "execution_count": null,
   "id": "76adef88-39ff-462f-8ded-53067cf784c2",
   "metadata": {},
   "outputs": [],
   "source": []
  },
  {
   "cell_type": "markdown",
   "id": "4ff4db57-8f78-433c-8363-9335002e8bf3",
   "metadata": {
    "jp-MarkdownHeadingCollapsed": true
   },
   "source": [
    "## Parse in Ecoli metadata"
   ]
  },
  {
   "cell_type": "code",
   "execution_count": 14,
   "id": "8a4882d1-3beb-4acd-a288-15dded7f394d",
   "metadata": {},
   "outputs": [
    {
     "data": {
      "text/plain": [
       "(50, 24)"
      ]
     },
     "execution_count": 14,
     "metadata": {},
     "output_type": "execute_result"
    }
   ],
   "source": [
    "Shaw_50A_Info_DF = pd.read_csv(Shaw2021_Ecoli_50Asm_Meta_TSV, sep = \"\\t\")\n",
    "Shaw_50A_Info_DF.shape"
   ]
  },
  {
   "cell_type": "markdown",
   "id": "038c1eab-89e4-4114-9dc7-891461ff6e04",
   "metadata": {},
   "source": [
    "### Define list of Ecoli SampleIDs"
   ]
  },
  {
   "cell_type": "code",
   "execution_count": 15,
   "id": "8827e06d-2f20-42ac-865a-00626cd7c7f9",
   "metadata": {},
   "outputs": [
    {
     "data": {
      "text/html": [
       "<div>\n",
       "<style scoped>\n",
       "    .dataframe tbody tr th:only-of-type {\n",
       "        vertical-align: middle;\n",
       "    }\n",
       "\n",
       "    .dataframe tbody tr th {\n",
       "        vertical-align: top;\n",
       "    }\n",
       "\n",
       "    .dataframe thead th {\n",
       "        text-align: right;\n",
       "    }\n",
       "</style>\n",
       "<table border=\"1\" class=\"dataframe\">\n",
       "  <thead>\n",
       "    <tr style=\"text-align: right;\">\n",
       "      <th></th>\n",
       "      <th>Isolate</th>\n",
       "      <th>Biosample Accession</th>\n",
       "      <th>Short Reads Accession</th>\n",
       "      <th>Long Reads Accession</th>\n",
       "      <th>Assembly Accession</th>\n",
       "      <th>Animal or WwTW</th>\n",
       "      <th>Isolate source information</th>\n",
       "      <th>Timepoint</th>\n",
       "      <th>Niche</th>\n",
       "      <th>Niche.2</th>\n",
       "      <th>Location</th>\n",
       "      <th>Genus</th>\n",
       "      <th>Species</th>\n",
       "      <th>ST assignment</th>\n",
       "      <th>Circularised plasmids</th>\n",
       "      <th>Number of contigs</th>\n",
       "      <th>Circularised chromosome (1=yes)</th>\n",
       "      <th>Total genome size (bp)</th>\n",
       "      <th>Chromosome GC (if known)</th>\n",
       "      <th>Phylogroup (E. coli only)</th>\n",
       "      <th>Alternative isolate name</th>\n",
       "      <th>Long read sequencing method</th>\n",
       "      <th>SampleID</th>\n",
       "      <th>Genome_ASM_PATH</th>\n",
       "    </tr>\n",
       "  </thead>\n",
       "  <tbody>\n",
       "    <tr>\n",
       "      <th>0</th>\n",
       "      <td>RH02|T1-C02</td>\n",
       "      <td>SAMN15147960</td>\n",
       "      <td>SRR11948863</td>\n",
       "      <td>SRR12299015</td>\n",
       "      <td>GCA_014109125.1</td>\n",
       "      <td>Animal</td>\n",
       "      <td>Pooled pig faecal samples collected from floor...</td>\n",
       "      <td>1</td>\n",
       "      <td>Pig</td>\n",
       "      <td>Faeces</td>\n",
       "      <td>RH02</td>\n",
       "      <td>Escherichia</td>\n",
       "      <td>Escherichia coli</td>\n",
       "      <td>10.0</td>\n",
       "      <td>1</td>\n",
       "      <td>2</td>\n",
       "      <td>1</td>\n",
       "      <td>4953790</td>\n",
       "      <td>50.7</td>\n",
       "      <td>A</td>\n",
       "      <td>RHB02-C02</td>\n",
       "      <td>PacBio</td>\n",
       "      <td>GCA_014109125</td>\n",
       "      <td>/n/data1/hms/dbmi/farhat/mm774/Projects/230905...</td>\n",
       "    </tr>\n",
       "  </tbody>\n",
       "</table>\n",
       "</div>"
      ],
      "text/plain": [
       "       Isolate Biosample Accession Short Reads Accession Long Reads Accession Assembly Accession Animal or WwTW                         Isolate source information  Timepoint Niche Niche.2 Location        Genus           Species  ST assignment  Circularised plasmids  Number of contigs  Circularised chromosome (1=yes)  Total genome size (bp)  Chromosome GC (if known) Phylogroup (E. coli only) Alternative isolate name Long read sequencing method       SampleID                                    Genome_ASM_PATH\n",
       "0  RH02|T1-C02        SAMN15147960           SRR11948863          SRR12299015    GCA_014109125.1         Animal  Pooled pig faecal samples collected from floor...          1   Pig  Faeces     RH02  Escherichia  Escherichia coli           10.0                      1                  2                                1                 4953790                      50.7                         A                RHB02-C02                      PacBio  GCA_014109125  /n/data1/hms/dbmi/farhat/mm774/Projects/230905..."
      ]
     },
     "execution_count": 15,
     "metadata": {},
     "output_type": "execute_result"
    }
   ],
   "source": [
    "Shaw_50A_Info_DF.head(1)  "
   ]
  },
  {
   "cell_type": "code",
   "execution_count": 16,
   "id": "a7c207ed-2f6e-4f72-b4c0-e8272531d39f",
   "metadata": {},
   "outputs": [
    {
     "data": {
      "text/plain": [
       "50"
      ]
     },
     "execution_count": 16,
     "metadata": {},
     "output_type": "execute_result"
    }
   ],
   "source": [
    "E50I_SampleIDs = Shaw_50A_Info_DF[\"SampleID\"].values   \n",
    "len(E50I_SampleIDs)"
   ]
  },
  {
   "cell_type": "code",
   "execution_count": null,
   "id": "b126127b-a834-4ee9-8b6c-3551243938ed",
   "metadata": {},
   "outputs": [],
   "source": []
  },
  {
   "cell_type": "markdown",
   "id": "6a78c4c4-b6c6-42ca-bcdc-20beb6746b62",
   "metadata": {
    "jp-MarkdownHeadingCollapsed": true
   },
   "source": [
    "## Parse sample Mtb Metadata (N = 151)"
   ]
  },
  {
   "cell_type": "code",
   "execution_count": 17,
   "id": "a877cff1-202c-49a7-b415-f00dbcce1411",
   "metadata": {},
   "outputs": [
    {
     "data": {
      "text/plain": [
       "(151, 7)"
      ]
     },
     "execution_count": 17,
     "metadata": {},
     "output_type": "execute_result"
    }
   ],
   "source": [
    "Repo_DataDir = \"../../Data\"\n",
    "InputAsmPath_Dir = f\"{Repo_DataDir}/231121.InputAsmTSVs.MtbSetV3.151CI\"\n",
    "\n",
    "MtbSetV3_151CI_InputAsmPATHs_TSV = f\"{InputAsmPath_Dir}/231121.MtbSetV3.151CI.HybridAndSRAsm.FAPATHs.V1.tsv\"\n",
    "\n",
    "MtbSetV3_151CI_AsmSumm_TSV = f\"{InputAsmPath_Dir}/231121.MtbSetV3.151CI.HybridAsm.AsmSummary.V2.tsv\"\n",
    "\n",
    "WGA151CI_AsmSummary_DF = pd.read_csv(MtbSetV3_151CI_AsmSumm_TSV, sep = \"\\t\")\n",
    "\n",
    "SampleIDs_151CI_SOI = list( WGA151CI_AsmSummary_DF[\"SampleID\"].values )\n",
    "WGA151CI_SampleIDs = SampleIDs_151CI_SOI\n",
    "\n",
    "ID_To_PrimLineage_Dict = dict(WGA151CI_AsmSummary_DF[['SampleID', 'PrimaryLineage']].values)\n",
    "ID_To_SubLineage_Dict = dict( WGA151CI_AsmSummary_DF[[\"SampleID\", \"Lineage\"]].values)\n",
    "ID_To_Dataset_Dict = dict(WGA151CI_AsmSummary_DF[['SampleID', 'Dataset_Tag']].values)\n",
    "WGA151CI_AsmSummary_DF.shape"
   ]
  },
  {
   "cell_type": "code",
   "execution_count": null,
   "id": "e1dce6ac-0bac-4309-85fa-3c13c8e84adc",
   "metadata": {},
   "outputs": [],
   "source": []
  },
  {
   "cell_type": "code",
   "execution_count": null,
   "id": "9dc4671f-5e8e-419f-926f-253a1a9b70e8",
   "metadata": {},
   "outputs": [],
   "source": []
  },
  {
   "cell_type": "markdown",
   "id": "d5bab222-093d-4991-9b75-890de92a9c7e",
   "metadata": {},
   "source": [
    "# Define paths to all assmembly level outputs (For both Hybrid & SR ASMs) \n",
    "#### Includes Bakta, Pupmapper, etc"
   ]
  },
  {
   "cell_type": "code",
   "execution_count": 24,
   "id": "e69b6290-485b-4850-884a-9bfe948bfa33",
   "metadata": {},
   "outputs": [
    {
     "name": "stdout",
     "output_type": "stream",
     "text": [
      "FastANI\n",
      "GenomeAnnotation\n",
      "Pupmapper\n"
     ]
    }
   ],
   "source": [
    "!ls -1 $sample_Asm_OutputDir/"
   ]
  },
  {
   "cell_type": "code",
   "execution_count": 23,
   "id": "fab2f476-2d70-4583-923c-a7477cd36950",
   "metadata": {},
   "outputs": [
    {
     "name": "stdout",
     "output_type": "stream",
     "text": [
      "C357.Bakta.LowPileupMap.Below1.K50_E0.bed\n",
      "C357.Bakta.PileupMap.K50_E0.bedgraph\n",
      "C357.Bakta.PileupMap.K50_E0.Summary.tsv\n",
      "genmap_index\n",
      "genmap_kmap_K50_E0\n"
     ]
    }
   ],
   "source": [
    "!ls -1 $sample_Asm_OutputDir/Pupmapper/Pupmapper_K50E0"
   ]
  },
  {
   "cell_type": "code",
   "execution_count": 31,
   "id": "3ba6c5ce-a4fa-4bc3-82ad-4d00fb00ef4a",
   "metadata": {},
   "outputs": [],
   "source": [
    "SampleTag_ToPaths_Dict = {}\n",
    "\n",
    "### Mtb 151CI ###\n",
    "listOfSample_Tags = WGA151CI_SampleIDs\n",
    "target_SMK_OutputDir = Mtb_SMK_Pipeline_OutputDir\n",
    "\n",
    "for SampleID in listOfSample_Tags:\n",
    "    sample_Asm_OutputDir = f\"{target_SMK_OutputDir}/AsmAnalysis/{SampleID}\"\n",
    "    GenomeAnno_Dir = f\"{sample_Asm_OutputDir}/GenomeAnnotation\"\n",
    "    \n",
    "    Pupmapper_MainDir = f\"{sample_Asm_OutputDir}/Pupmapper\"\n",
    "    Pupmap_K50E0_OutDir = f\"{Pupmapper_MainDir}/Pupmapper_K50E0\"\n",
    "    Pupmap_K50E0_Summary_TSV = f\"{Pupmap_K50E0_OutDir}/{SampleID}.Bakta.PileupMap.K50_E0.Summary.tsv\"\n",
    "\n",
    "\n",
    "    Bakta_LR_AsmDir = f\"{GenomeAnno_Dir}/{SampleID}_Asm_Bakta\"\n",
    "    Bakta_SR_AsmDir = f\"{GenomeAnno_Dir}/{SampleID}_SR_Asm_Bakta\"\n",
    "\n",
    "    SampleTag_ToPaths_Dict[SampleID] = {\n",
    "        \"Dataset\": \"Mtb_151CI\",\n",
    "        \"Species\": \"Mtb\",\n",
    "        \"LRAsm_Pupmap_K50E0_Stats_TSV\": Pupmap_K50E0_Summary_TSV,\n",
    "        \"LRAsm_Bakta_GFF\": f\"{Bakta_LR_AsmDir}/{SampleID}.Bakta.gff3\",\n",
    "        \"LRAsm_Bakta_GBFF\": f\"{Bakta_LR_AsmDir}/{SampleID}.Bakta.gbff\",\n",
    "        \"LRAsm_Bakta_FAA\": f\"{Bakta_LR_AsmDir}/{SampleID}.Bakta.faa\",\n",
    "        \"LRAsm_Bakta_FFN\": f\"{Bakta_LR_AsmDir}/{SampleID}.Bakta.ffn\",\n",
    "        \"LRAsm_Bakta_FNA\": f\"{Bakta_LR_AsmDir}/{SampleID}.Bakta.fna\",\n",
    "        \"LRAsm_Bakta_TXT\": f\"{Bakta_LR_AsmDir}/{SampleID}.Bakta.txt\",\n",
    "        \"SRAsm_Bakta_GFF\": f\"{Bakta_SR_AsmDir}/{SampleID}.Bakta.gff3\",\n",
    "        \"SRAsm_Bakta_GBFF\": f\"{Bakta_SR_AsmDir}/{SampleID}.Bakta.gbff\",\n",
    "        \"SRAsm_Bakta_FAA\": f\"{Bakta_SR_AsmDir}/{SampleID}.Bakta.faa\",\n",
    "        \"SRAsm_Bakta_FFN\": f\"{Bakta_SR_AsmDir}/{SampleID}.Bakta.ffn\",\n",
    "        \"SRAsm_Bakta_FNA\": f\"{Bakta_SR_AsmDir}/{SampleID}.Bakta.fna\",\n",
    "        \"SRAsm_Bakta_TXT\": f\"{Bakta_SR_AsmDir}/{SampleID}.Bakta.txt\"}\n",
    "\n",
    "#########################################################################\n",
    "\n",
    "\n",
    "\n",
    "\n",
    "##### Ecoli 50CI #####\n",
    "\n",
    "listOfSample_Tags = E50I_SampleIDs\n",
    "target_SMK_OutputDir = PG_Ecoli_50I_OutDir\n",
    "\n",
    "for SampleID in listOfSample_Tags:\n",
    "    sample_Asm_OutputDir = f\"{target_SMK_OutputDir}/AsmAnalysis/{SampleID}\"\n",
    "    GenomeAnno_Dir = f\"{sample_Asm_OutputDir}/GenomeAnnotation\"\n",
    "    \n",
    "    Pupmapper_MainDir = f\"{sample_Asm_OutputDir}/Pupmapper\"\n",
    "    Pupmap_K50E0_OutDir = f\"{Pupmapper_MainDir}/Pupmapper_K50E0\"\n",
    "    Pupmap_K50E0_Summary_TSV = f\"{Pupmap_K50E0_OutDir}/{SampleID}.Bakta.PileupMap.K50_E0.Summary.tsv\"\n",
    "\n",
    "    \n",
    "    sample_SR_Asm_OutputDir = f\"{target_SMK_OutputDir}/SR_DataProcessing/{SampleID}\"\n",
    "    SR_GenomeAnno_Dir = f\"{sample_SR_Asm_OutputDir}/GenomeAnnotation\"\n",
    "\n",
    "    Bakta_LR_AsmDir = f\"{GenomeAnno_Dir}/{SampleID}_Asm_Bakta\"\n",
    "    Bakta_SR_AsmDir = f\"{SR_GenomeAnno_Dir}/{SampleID}_Asm_Bakta\"\n",
    "\n",
    "    SampleTag_ToPaths_Dict[SampleID] = {\n",
    "        \"Dataset\": \"Ecoli_50CI\",\n",
    "        \"Species\": \"Ecoli\",\n",
    "        \"LRAsm_Pupmap_K50E0_Stats_TSV\": Pupmap_K50E0_Summary_TSV,\n",
    "        \"LRAsm_Bakta_GFF\": f\"{Bakta_LR_AsmDir}/{SampleID}.Bakta.gff3\",\n",
    "        \"LRAsm_Bakta_GBFF\": f\"{Bakta_LR_AsmDir}/{SampleID}.Bakta.gbff\",\n",
    "        \"LRAsm_Bakta_FAA\": f\"{Bakta_LR_AsmDir}/{SampleID}.Bakta.faa\",\n",
    "        \"LRAsm_Bakta_FFN\": f\"{Bakta_LR_AsmDir}/{SampleID}.Bakta.ffn\",\n",
    "        \"LRAsm_Bakta_FNA\": f\"{Bakta_LR_AsmDir}/{SampleID}.Bakta.fna\",\n",
    "        \"LRAsm_Bakta_TXT\": f\"{Bakta_LR_AsmDir}/{SampleID}.Bakta.txt\",\n",
    "        \"SRAsm_Bakta_GFF\": f\"{Bakta_SR_AsmDir}/{SampleID}.Bakta.gff3\",\n",
    "        \"SRAsm_Bakta_GBFF\": f\"{Bakta_SR_AsmDir}/{SampleID}.Bakta.gbff\",\n",
    "        \"SRAsm_Bakta_FAA\": f\"{Bakta_SR_AsmDir}/{SampleID}.Bakta.faa\",\n",
    "        \"SRAsm_Bakta_FFN\": f\"{Bakta_SR_AsmDir}/{SampleID}.Bakta.ffn\",\n",
    "        \"SRAsm_Bakta_FNA\": f\"{Bakta_SR_AsmDir}/{SampleID}.Bakta.fna\",\n",
    "        \"SRAsm_Bakta_TXT\": f\"{Bakta_SR_AsmDir}/{SampleID}.Bakta.txt\",\n",
    "    }\n",
    "\n",
    "#########################################################################\n",
    "\n",
    "### Saureus 68CI ###\n",
    "\n",
    "listOfSample_Tags = SA68I_SampleIDs\n",
    "target_SMK_OutputDir = PG_SA_68I_OutDir\n",
    "\n",
    "for SampleID in listOfSample_Tags:\n",
    "    sample_Asm_OutputDir = f\"{target_SMK_OutputDir}/AsmAnalysis/{SampleID}\"\n",
    "    GenomeAnno_Dir = f\"{sample_Asm_OutputDir}/GenomeAnnotation\"\n",
    "\n",
    "    Pupmapper_MainDir = f\"{sample_Asm_OutputDir}/Pupmapper\"\n",
    "    Pupmap_K50E0_OutDir = f\"{Pupmapper_MainDir}/Pupmapper_K50E0\"\n",
    "    Pupmap_K50E0_Summary_TSV = f\"{Pupmap_K50E0_OutDir}/{SampleID}.Bakta.PileupMap.K50_E0.Summary.tsv\"\n",
    "\n",
    "    sample_SR_Asm_OutputDir = f\"{target_SMK_OutputDir}/SR_DataProcessing/{SampleID}\"\n",
    "    SR_GenomeAnno_Dir = f\"{sample_SR_Asm_OutputDir}/GenomeAnnotation\"\n",
    "\n",
    "    Bakta_LR_AsmDir = f\"{GenomeAnno_Dir}/{SampleID}_Asm_Bakta\"\n",
    "    Bakta_SR_AsmDir = f\"{SR_GenomeAnno_Dir}/{SampleID}_Asm_Bakta\"\n",
    "\n",
    "    SampleTag_ToPaths_Dict[SampleID] = {\n",
    "        \"Dataset\": \"Saureus_68CI\",\n",
    "        \"Species\": \"Saureus\",\n",
    "        \"LRAsm_Pupmap_K50E0_Stats_TSV\": Pupmap_K50E0_Summary_TSV,\n",
    "        \"LRAsm_Bakta_GFF\": f\"{Bakta_LR_AsmDir}/{SampleID}.Bakta.gff3\",\n",
    "        \"LRAsm_Bakta_GBFF\": f\"{Bakta_LR_AsmDir}/{SampleID}.Bakta.gbff\",\n",
    "        \"LRAsm_Bakta_FAA\": f\"{Bakta_LR_AsmDir}/{SampleID}.Bakta.faa\",\n",
    "        \"LRAsm_Bakta_FFN\": f\"{Bakta_LR_AsmDir}/{SampleID}.Bakta.ffn\",\n",
    "        \"LRAsm_Bakta_FNA\": f\"{Bakta_LR_AsmDir}/{SampleID}.Bakta.fna\",\n",
    "        \"LRAsm_Bakta_TXT\": f\"{Bakta_LR_AsmDir}/{SampleID}.Bakta.txt\",\n",
    "        \"SRAsm_Bakta_GFF\": f\"{Bakta_SR_AsmDir}/{SampleID}.Bakta.gff3\",\n",
    "        \"SRAsm_Bakta_GBFF\": f\"{Bakta_SR_AsmDir}/{SampleID}.Bakta.gbff\",\n",
    "        \"SRAsm_Bakta_FAA\": f\"{Bakta_SR_AsmDir}/{SampleID}.Bakta.faa\",\n",
    "        \"SRAsm_Bakta_FFN\": f\"{Bakta_SR_AsmDir}/{SampleID}.Bakta.ffn\",\n",
    "        \"SRAsm_Bakta_FNA\": f\"{Bakta_SR_AsmDir}/{SampleID}.Bakta.fna\",\n",
    "        \"SRAsm_Bakta_TXT\": f\"{Bakta_SR_AsmDir}/{SampleID}.Bakta.txt\",\n",
    "    }\n",
    "    \n",
    "#########################################################################\n",
    "\n"
   ]
  },
  {
   "cell_type": "code",
   "execution_count": 19,
   "id": "232dde68-833a-41a1-a18b-999211094cd9",
   "metadata": {},
   "outputs": [],
   "source": [
    "#SampleTag_ToPaths_Dict.keys()"
   ]
  },
  {
   "cell_type": "code",
   "execution_count": null,
   "id": "49701f33-446d-4992-a913-8aacc0032fc1",
   "metadata": {},
   "outputs": [],
   "source": []
  },
  {
   "cell_type": "code",
   "execution_count": 32,
   "id": "821d5d64-90d5-4fb3-bb28-40d1e8687a80",
   "metadata": {},
   "outputs": [
    {
     "name": "stdout",
     "output_type": "stream",
     "text": [
      "FastANI\n",
      "GenomeAnnotation\n",
      "Pupmapper\n"
     ]
    }
   ],
   "source": [
    "!ls -1 $sample_Asm_OutputDir"
   ]
  },
  {
   "cell_type": "code",
   "execution_count": 33,
   "id": "24a3bb73-fae2-4bd1-974a-47a7991e3a93",
   "metadata": {},
   "outputs": [
    {
     "name": "stdout",
     "output_type": "stream",
     "text": [
      "Pupmapper_K50E0\n"
     ]
    }
   ],
   "source": [
    "!ls -1 $sample_Asm_OutputDir/Pupmapper"
   ]
  },
  {
   "cell_type": "code",
   "execution_count": 34,
   "id": "b82093a5-af5d-454b-9847-336b5a3ef456",
   "metadata": {},
   "outputs": [
    {
     "name": "stdout",
     "output_type": "stream",
     "text": [
      "C357.Bakta.LowPileupMap.Below1.K50_E0.bed\n",
      "C357.Bakta.PileupMap.K50_E0.bedgraph\n",
      "C357.Bakta.PileupMap.K50_E0.Summary.tsv\n",
      "genmap_index\n",
      "genmap_kmap_K50_E0\n"
     ]
    }
   ],
   "source": [
    "!ls -1 $sample_Asm_OutputDir/Pupmapper/Pupmapper_K50E0"
   ]
  },
  {
   "cell_type": "code",
   "execution_count": null,
   "id": "48e694e4-9f51-4d22-9840-cc680d643af5",
   "metadata": {},
   "outputs": [],
   "source": []
  },
  {
   "cell_type": "markdown",
   "id": "b3b589e7-cde4-4371-84d6-b6b066b02c6d",
   "metadata": {},
   "source": [
    "# Parse Pupmapper Stats per assembly"
   ]
  },
  {
   "cell_type": "code",
   "execution_count": 54,
   "id": "7073c3ae-a580-419b-9f8f-4cbb23fcfd7a",
   "metadata": {},
   "outputs": [],
   "source": [
    "\n",
    "Asm_Pupmap_Stats_DFs_List = []\n",
    "\n",
    "for i_SampleID, FilePaths_Dict in SampleTag_ToPaths_Dict.items():\n",
    "\n",
    "    i_Dataset = FilePaths_Dict[\"Dataset\"]\n",
    "    i_Species = FilePaths_Dict[\"Species\"]\n",
    "\n",
    "    i_Pupmap_K50E0_Stats_TSV = FilePaths_Dict[\"LRAsm_Pupmap_K50E0_Stats_TSV\"]\n",
    "\n",
    "    i_Pupmap_K50E0_Stats_DF = pd.read_csv(i_Pupmap_K50E0_Stats_TSV, sep=\"\\t\")\n",
    "\n",
    "    i_Pupmap_K50E0_Stats_DF[\"SampleID\"] = i_SampleID\n",
    "    i_Pupmap_K50E0_Stats_DF[\"Dataset\"] = FilePaths_Dict[\"Dataset\"]\n",
    "    i_Pupmap_K50E0_Stats_DF[\"Species\"] = FilePaths_Dict[\"Species\"]\n",
    "\n",
    "\n",
    "    Asm_Pupmap_Stats_DFs_List.append(i_Pupmap_K50E0_Stats_DF)\n",
    "\n",
    "\n",
    "Asm_Pupmap_Stats_DF = pd.concat(Asm_Pupmap_Stats_DFs_List, axis = 0)\n",
    "\n",
    "Asm_Pupmap_Stats_DF[\"Fraction_Below1\"]  = Asm_Pupmap_Stats_DF[\"Pupmap_Below1\"] / Asm_Pupmap_Stats_DF[\"Length\"]\n",
    "Asm_Pupmap_Stats_DF[\"Fraction_Below09\"] = Asm_Pupmap_Stats_DF[\"Pupmap_Below0.9\"] / Asm_Pupmap_Stats_DF[\"Length\"]\n",
    "Asm_Pupmap_Stats_DF[\"Fraction_Below05\"] = Asm_Pupmap_Stats_DF[\"Pupmap_Below0.5\"] / Asm_Pupmap_Stats_DF[\"Length\"]\n",
    "Asm_Pupmap_Stats_DF[\"Percent_Below1\"]   = Asm_Pupmap_Stats_DF[\"Fraction_Below1\"] * 100\n",
    "Asm_Pupmap_Stats_DF[\"Percent_Below09\"]  = Asm_Pupmap_Stats_DF[\"Fraction_Below09\"] * 100\n",
    "Asm_Pupmap_Stats_DF[\"Percent_Below05\"]  = Asm_Pupmap_Stats_DF[\"Fraction_Below05\"] * 100\n"
   ]
  },
  {
   "cell_type": "code",
   "execution_count": 55,
   "id": "a8e4f02a-9518-4751-ac5c-3acf2c6c6dc3",
   "metadata": {},
   "outputs": [
    {
     "data": {
      "text/html": [
       "<div>\n",
       "<style scoped>\n",
       "    .dataframe tbody tr th:only-of-type {\n",
       "        vertical-align: middle;\n",
       "    }\n",
       "\n",
       "    .dataframe tbody tr th {\n",
       "        vertical-align: top;\n",
       "    }\n",
       "\n",
       "    .dataframe thead th {\n",
       "        text-align: right;\n",
       "    }\n",
       "</style>\n",
       "<table border=\"1\" class=\"dataframe\">\n",
       "  <thead>\n",
       "    <tr style=\"text-align: right;\">\n",
       "      <th></th>\n",
       "      <th>Genome</th>\n",
       "      <th>K</th>\n",
       "      <th>E</th>\n",
       "      <th>Length</th>\n",
       "      <th>Pupmap_Below1</th>\n",
       "      <th>Pupmap_Below0.9</th>\n",
       "      <th>Pupmap_Below0.7</th>\n",
       "      <th>Pupmap_Below0.5</th>\n",
       "      <th>Pupmap_Below0.25</th>\n",
       "      <th>SampleID</th>\n",
       "      <th>Dataset</th>\n",
       "      <th>Species</th>\n",
       "      <th>Fraction_Below1</th>\n",
       "      <th>Fraction_Below09</th>\n",
       "      <th>Fraction_Below05</th>\n",
       "      <th>Percent_Below1</th>\n",
       "      <th>Percent_Below09</th>\n",
       "      <th>Percent_Below05</th>\n",
       "    </tr>\n",
       "  </thead>\n",
       "  <tbody>\n",
       "    <tr>\n",
       "      <th>0</th>\n",
       "      <td>N0072.Bakta</td>\n",
       "      <td>50</td>\n",
       "      <td>0</td>\n",
       "      <td>4421404</td>\n",
       "      <td>94916</td>\n",
       "      <td>84644</td>\n",
       "      <td>74854</td>\n",
       "      <td>25532</td>\n",
       "      <td>12850</td>\n",
       "      <td>N0072</td>\n",
       "      <td>Mtb_151CI</td>\n",
       "      <td>Mtb</td>\n",
       "      <td>0.021467</td>\n",
       "      <td>0.019144</td>\n",
       "      <td>0.005775</td>\n",
       "      <td>2.146739</td>\n",
       "      <td>1.914415</td>\n",
       "      <td>0.577464</td>\n",
       "    </tr>\n",
       "    <tr>\n",
       "      <th>0</th>\n",
       "      <td>N0153.Bakta</td>\n",
       "      <td>50</td>\n",
       "      <td>0</td>\n",
       "      <td>4389181</td>\n",
       "      <td>98892</td>\n",
       "      <td>88899</td>\n",
       "      <td>78586</td>\n",
       "      <td>25354</td>\n",
       "      <td>12287</td>\n",
       "      <td>N0153</td>\n",
       "      <td>Mtb_151CI</td>\n",
       "      <td>Mtb</td>\n",
       "      <td>0.022531</td>\n",
       "      <td>0.020254</td>\n",
       "      <td>0.005776</td>\n",
       "      <td>2.253085</td>\n",
       "      <td>2.025412</td>\n",
       "      <td>0.577648</td>\n",
       "    </tr>\n",
       "    <tr>\n",
       "      <th>0</th>\n",
       "      <td>TB3113.Bakta</td>\n",
       "      <td>50</td>\n",
       "      <td>0</td>\n",
       "      <td>4419922</td>\n",
       "      <td>123933</td>\n",
       "      <td>114104</td>\n",
       "      <td>103410</td>\n",
       "      <td>56451</td>\n",
       "      <td>41778</td>\n",
       "      <td>TB3113</td>\n",
       "      <td>Mtb_151CI</td>\n",
       "      <td>Mtb</td>\n",
       "      <td>0.028040</td>\n",
       "      <td>0.025816</td>\n",
       "      <td>0.012772</td>\n",
       "      <td>2.803964</td>\n",
       "      <td>2.581584</td>\n",
       "      <td>1.277194</td>\n",
       "    </tr>\n",
       "    <tr>\n",
       "      <th>0</th>\n",
       "      <td>TB1236.Bakta</td>\n",
       "      <td>50</td>\n",
       "      <td>0</td>\n",
       "      <td>4413161</td>\n",
       "      <td>116191</td>\n",
       "      <td>106779</td>\n",
       "      <td>96411</td>\n",
       "      <td>50616</td>\n",
       "      <td>36796</td>\n",
       "      <td>TB1236</td>\n",
       "      <td>Mtb_151CI</td>\n",
       "      <td>Mtb</td>\n",
       "      <td>0.026328</td>\n",
       "      <td>0.024196</td>\n",
       "      <td>0.011469</td>\n",
       "      <td>2.632829</td>\n",
       "      <td>2.419558</td>\n",
       "      <td>1.146933</td>\n",
       "    </tr>\n",
       "    <tr>\n",
       "      <th>0</th>\n",
       "      <td>TB2659.Bakta</td>\n",
       "      <td>50</td>\n",
       "      <td>0</td>\n",
       "      <td>4413335</td>\n",
       "      <td>116269</td>\n",
       "      <td>106846</td>\n",
       "      <td>96464</td>\n",
       "      <td>50643</td>\n",
       "      <td>36796</td>\n",
       "      <td>TB2659</td>\n",
       "      <td>Mtb_151CI</td>\n",
       "      <td>Mtb</td>\n",
       "      <td>0.026345</td>\n",
       "      <td>0.024210</td>\n",
       "      <td>0.011475</td>\n",
       "      <td>2.634493</td>\n",
       "      <td>2.420981</td>\n",
       "      <td>1.147500</td>\n",
       "    </tr>\n",
       "  </tbody>\n",
       "</table>\n",
       "</div>"
      ],
      "text/plain": [
       "         Genome   K  E   Length  Pupmap_Below1  Pupmap_Below0.9  Pupmap_Below0.7  Pupmap_Below0.5  Pupmap_Below0.25 SampleID    Dataset Species  Fraction_Below1  Fraction_Below09  Fraction_Below05  Percent_Below1  Percent_Below09  Percent_Below05\n",
       "0   N0072.Bakta  50  0  4421404          94916            84644            74854            25532             12850    N0072  Mtb_151CI     Mtb         0.021467          0.019144          0.005775        2.146739         1.914415         0.577464\n",
       "0   N0153.Bakta  50  0  4389181          98892            88899            78586            25354             12287    N0153  Mtb_151CI     Mtb         0.022531          0.020254          0.005776        2.253085         2.025412         0.577648\n",
       "0  TB3113.Bakta  50  0  4419922         123933           114104           103410            56451             41778   TB3113  Mtb_151CI     Mtb         0.028040          0.025816          0.012772        2.803964         2.581584         1.277194\n",
       "0  TB1236.Bakta  50  0  4413161         116191           106779            96411            50616             36796   TB1236  Mtb_151CI     Mtb         0.026328          0.024196          0.011469        2.632829         2.419558         1.146933\n",
       "0  TB2659.Bakta  50  0  4413335         116269           106846            96464            50643             36796   TB2659  Mtb_151CI     Mtb         0.026345          0.024210          0.011475        2.634493         2.420981         1.147500"
      ]
     },
     "execution_count": 55,
     "metadata": {},
     "output_type": "execute_result"
    }
   ],
   "source": [
    "Asm_Pupmap_Stats_DF.head(5)"
   ]
  },
  {
   "cell_type": "markdown",
   "id": "38b219a9-6ef4-4cfe-b955-fd77e6ec66a1",
   "metadata": {},
   "source": [
    "## Viz % of genome with non-unique sequence (Pupmap K50-E0) across 3 species"
   ]
  },
  {
   "cell_type": "code",
   "execution_count": 56,
   "id": "9ba9db5f-2e82-4bd6-a9c0-7dbe2a9ecc78",
   "metadata": {},
   "outputs": [
    {
     "data": {
      "image/png": "[encoded data removed]",
      "text/plain": [
       "<Figure size 432x288 with 1 Axes>"
      ]
     },
     "metadata": {
      "needs_background": "light"
     },
     "output_type": "display_data"
    }
   ],
   "source": [
    "sns.stripplot(x=\"Species\", y=\"Percent_Below1\", data=Asm_Pupmap_Stats_DF, \n",
    "              jitter=True, alpha=0.7) \n",
    "\n",
    "sns.boxplot(x=\"Species\", y=\"Percent_Below1\", data=Asm_Pupmap_Stats_DF, \n",
    "            showcaps=True, boxprops={'facecolor':'none', \"edgecolor\": \"black\"}, \n",
    "            whiskerprops={'linewidth':1.5}, fliersize=0, linewidth=1.5)  # Transparent boxplot\n",
    "\n",
    "plt.show()"
   ]
  },
  {
   "cell_type": "code",
   "execution_count": 58,
   "id": "58718341-a1ef-48a5-8917-ddc2aa23efd5",
   "metadata": {},
   "outputs": [
    {
     "data": {
      "image/png": "[encoded data removed]",
      "text/plain": [
       "<Figure size 432x288 with 1 Axes>"
      ]
     },
     "metadata": {
      "needs_background": "light"
     },
     "output_type": "display_data"
    }
   ],
   "source": [
    "sns.stripplot(x=\"Species\", y=\"Percent_Below09\", data=Asm_Pupmap_Stats_DF, \n",
    "              jitter=True, alpha=0.7) \n",
    "\n",
    "sns.boxplot(x=\"Species\", y=\"Percent_Below09\", data=Asm_Pupmap_Stats_DF, \n",
    "            showcaps=True, boxprops={'facecolor':'none', \"edgecolor\": \"black\"}, \n",
    "            whiskerprops={'linewidth':1.5}, fliersize=0, linewidth=1.5)  # Transparent boxplot\n",
    "\n",
    "plt.show()"
   ]
  },
  {
   "cell_type": "code",
   "execution_count": 59,
   "id": "0b27c8d0-b77e-4ac0-8bba-877778684e6e",
   "metadata": {},
   "outputs": [
    {
     "data": {
      "image/png": "[encoded data removed]",
      "text/plain": [
       "<Figure size 432x288 with 1 Axes>"
      ]
     },
     "metadata": {
      "needs_background": "light"
     },
     "output_type": "display_data"
    }
   ],
   "source": [
    "\n",
    "sns.stripplot(x=\"Species\", y=\"Percent_Below05\", data=Asm_Pupmap_Stats_DF, \n",
    "              jitter=True, alpha=0.7) \n",
    "\n",
    "sns.boxplot(x=\"Species\", y=\"Percent_Below05\", data=Asm_Pupmap_Stats_DF, \n",
    "            showcaps=True, boxprops={'facecolor':'none', \"edgecolor\": \"black\"}, \n",
    "            whiskerprops={'linewidth':1.5}, fliersize=0, linewidth=1.5)  # Transparent boxplot\n",
    "\n",
    "plt.show()"
   ]
  },
  {
   "cell_type": "code",
   "execution_count": null,
   "id": "2760050c-e1e7-4ac9-9572-0fac14de8fd3",
   "metadata": {},
   "outputs": [],
   "source": []
  },
  {
   "cell_type": "code",
   "execution_count": null,
   "id": "6d62436f-782f-4d95-b02e-86d1e2226197",
   "metadata": {},
   "outputs": [],
   "source": []
  },
  {
   "cell_type": "code",
   "execution_count": null,
   "id": "9c172a39-3412-452a-851d-7c6f091a9e60",
   "metadata": {},
   "outputs": [],
   "source": []
  },
  {
   "cell_type": "code",
   "execution_count": null,
   "id": "2976f7c7-3e69-410f-ab7c-c20380a01bfd",
   "metadata": {},
   "outputs": [],
   "source": []
  },
  {
   "cell_type": "code",
   "execution_count": null,
   "id": "42ea9b5e-03b8-4f15-8140-6e627aca00b3",
   "metadata": {},
   "outputs": [],
   "source": []
  },
  {
   "cell_type": "code",
   "execution_count": null,
   "id": "a7d14c1f-448f-4fcb-98a2-3fb7926de307",
   "metadata": {},
   "outputs": [],
   "source": []
  },
  {
   "cell_type": "code",
   "execution_count": null,
   "id": "88e79033-787e-486b-aaa9-b23be9e7375a",
   "metadata": {},
   "outputs": [],
   "source": []
  },
  {
   "cell_type": "code",
   "execution_count": null,
   "id": "be5c4345-0a16-4a93-8e61-793e4a11f6a3",
   "metadata": {},
   "outputs": [],
   "source": []
  },
  {
   "cell_type": "code",
   "execution_count": null,
   "id": "13481465-7a8e-4b9a-bf68-74ccc38a69b9",
   "metadata": {},
   "outputs": [],
   "source": []
  },
  {
   "cell_type": "code",
   "execution_count": null,
   "id": "acb2f73d-ac43-458b-b1a7-b4de40bbfc79",
   "metadata": {},
   "outputs": [],
   "source": []
  }
 ],
 "metadata": {
  "kernelspec": {
   "display_name": "py37_S",
   "language": "python",
   "name": "py37_s"
  },
  "language_info": {
   "codemirror_mode": {
    "name": "ipython",
    "version": 3
   },
   "file_extension": ".py",
   "mimetype": "text/x-python",
   "name": "python",
   "nbconvert_exporter": "python",
   "pygments_lexer": "ipython3",
   "version": "3.7.3"
  }
 },
 "nbformat": 4,
 "nbformat_minor": 5
}
