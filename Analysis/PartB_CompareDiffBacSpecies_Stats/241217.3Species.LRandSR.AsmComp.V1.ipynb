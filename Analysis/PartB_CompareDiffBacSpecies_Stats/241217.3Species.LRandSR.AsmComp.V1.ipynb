{
 "cells": [
  {
   "cell_type": "markdown",
   "id": "2b9b5906-bd59-4679-b89c-40b98378bc27",
   "metadata": {},
   "source": [
    "# Compare SR Assembly Stats between 3 evaluated Bacterial Species"
   ]
  },
  {
   "cell_type": "code",
   "execution_count": null,
   "id": "cb863cea-8c6c-4b89-b9e3-49631edd3b9d",
   "metadata": {},
   "outputs": [],
   "source": []
  },
  {
   "cell_type": "code",
   "execution_count": null,
   "id": "07c293a9-60ef-4eac-9dfb-472e00dcb2f0",
   "metadata": {},
   "outputs": [],
   "source": []
  },
  {
   "cell_type": "markdown",
   "id": "b5a20ba4-a04b-4305-98d6-a4514e92d5fe",
   "metadata": {
    "toc-hr-collapsed": true
   },
   "source": [
    "### Import Statements"
   ]
  },
  {
   "cell_type": "code",
   "execution_count": 107,
   "id": "8b2bf203-0fa0-4ebb-bc45-6d09333aa782",
   "metadata": {},
   "outputs": [],
   "source": [
    "import numpy as np\n",
    "import pandas as pd\n",
    "import vcf\n",
    "from tqdm import tqdm\n",
    "import matplotlib.pyplot as plt\n",
    "import seaborn as sns\n",
    "import pickle\n",
    "import scipy.stats\n",
    "\n",
    "%matplotlib inline"
   ]
  },
  {
   "cell_type": "code",
   "execution_count": null,
   "id": "00473a35-8454-43c4-8f5b-3b72a732eb68",
   "metadata": {},
   "outputs": [],
   "source": []
  },
  {
   "cell_type": "markdown",
   "id": "345129a0-df53-452e-92e0-63da7efc90ce",
   "metadata": {},
   "source": [
    "#### Pandas Viewing Settings"
   ]
  },
  {
   "cell_type": "code",
   "execution_count": 108,
   "id": "d169b431-3e5d-4987-b3cc-76eca7a05485",
   "metadata": {},
   "outputs": [],
   "source": [
    "pd.set_option('display.max_rows', 500)\n",
    "pd.set_option('display.max_columns', 500)\n",
    "pd.set_option('display.width', 1000)"
   ]
  },
  {
   "cell_type": "code",
   "execution_count": null,
   "id": "e35a427b-b109-4990-bb7f-dafb4c728742",
   "metadata": {},
   "outputs": [],
   "source": []
  },
  {
   "cell_type": "code",
   "execution_count": 109,
   "id": "be20dd58-d4e9-4559-839a-4f48d84993e9",
   "metadata": {},
   "outputs": [],
   "source": [
    "def read_BaktaTXT_ToBasicInfoDict(i_BaktaInfo_TXT):\n",
    "    \"\"\"\n",
    "    Function to read in a bakta.txt file. \n",
    "    \n",
    "    The function extracts the following information & stores it as a dictionary:\n",
    "    1) Total Cumulative Length (Across all contigs), 2) Number of contigs\n",
    "    3) GC content, 4) Assembly N50, 5) Number CDS, 6) Coding Density\n",
    "    \"\"\"\n",
    "    \n",
    "    out_BaktaInfo_Dict = {}\n",
    "    \n",
    "    i_Asm_BaktaInfo_DF = pd.read_csv(i_BaktaInfo_TXT, sep = \":\",header=None)\n",
    "    i_Asm_BaktaInfo_RawDict = dict(i_Asm_BaktaInfo_DF[[0,1]].values)\n",
    "\n",
    "    out_BaktaInfo_Dict[\"TotalContigLength\"] = int(i_Asm_BaktaInfo_RawDict[\"Length\"])\n",
    "    out_BaktaInfo_Dict[\"NumContigs\"] = int(i_Asm_BaktaInfo_RawDict[\"Count\"])\n",
    "    out_BaktaInfo_Dict[\"GCcontent\"] = float(i_Asm_BaktaInfo_RawDict[\"GC\"] )\n",
    "    out_BaktaInfo_Dict[\"N50\"] = float(i_Asm_BaktaInfo_RawDict[\"N50\"])\n",
    "    out_BaktaInfo_Dict[\"NumCDS\"] = int( i_Asm_BaktaInfo_RawDict[\"CDSs\"])\n",
    "\n",
    "    out_BaktaInfo_Dict[\"CodingDensity\"] = float(i_Asm_BaktaInfo_RawDict[\"coding density\"])\n",
    "    out_BaktaInfo_Dict[\"NumHypotheticals\"] = int(i_Asm_BaktaInfo_RawDict['hypotheticals'])\n",
    "\n",
    "    \n",
    "    return out_BaktaInfo_Dict\n"
   ]
  },
  {
   "cell_type": "code",
   "execution_count": null,
   "id": "0e19592f-cf47-4012-bc8e-820aa55aebb0",
   "metadata": {},
   "outputs": [],
   "source": []
  },
  {
   "cell_type": "code",
   "execution_count": null,
   "id": "180f22b9-596d-4d55-8adc-6c89cb4c1647",
   "metadata": {},
   "outputs": [],
   "source": []
  },
  {
   "cell_type": "code",
   "execution_count": null,
   "id": "463e9cab-e249-45f8-a5e9-a25f0b313d42",
   "metadata": {},
   "outputs": [],
   "source": []
  },
  {
   "cell_type": "code",
   "execution_count": null,
   "id": "42987c6a-d4c5-4a35-9649-890373fd9a7e",
   "metadata": {},
   "outputs": [],
   "source": []
  },
  {
   "cell_type": "code",
   "execution_count": null,
   "id": "cbd1a7bf-32fe-4c5c-bc42-638f60ee1faf",
   "metadata": {},
   "outputs": [],
   "source": []
  },
  {
   "cell_type": "markdown",
   "id": "13245809-caf4-4c5a-8c32-2189d7d21949",
   "metadata": {},
   "source": [
    "## Define paths to sample metadata files & key directories"
   ]
  },
  {
   "cell_type": "code",
   "execution_count": 110,
   "id": "04a482f9-6002-4a91-8a37-32c2971a2406",
   "metadata": {},
   "outputs": [],
   "source": [
    "\n",
    "Proj_MainDir = \"/n/data1/hms/dbmi/farhat/mm774/Projects\"\n",
    "\n",
    "\n",
    "### Mtb PG Analysis Files ###\n",
    "\n",
    "Mtb_WGA_SMK_Outputs_Dir = \"/n/data1/hms/dbmi/farhat/mm774/Projects/Mtb-WGA-SMK-Output\"\n",
    "\n",
    "WGA151CI_SMK_OutputDir = Mtb_WGA_SMK_Outputs_Dir + \"/231121_MtbSetV3_151CI\"\n",
    "\n",
    "Mtb_SMK_Pipeline_OutputDir = WGA151CI_SMK_OutputDir\n",
    "############################################################\n",
    "\n",
    "\n",
    "\n",
    "\n",
    "### Ecoli PG Analysis Files ###\n",
    "\n",
    "Ecoli_PG_MainDir = f\"{Proj_MainDir}/230905_Ecoli_PG_Analysis\"  \n",
    "\n",
    "Ecoli_SMK_Outputs_Dir = f\"{Ecoli_PG_MainDir}/SMK_OutDirs\"\n",
    "PG_Ecoli_50I_OutDir = Ecoli_SMK_Outputs_Dir + \"/231011_Ecoli_Shaw2021_5OI_V1\"\n",
    "\n",
    "\n",
    "\n",
    "Ecoli_Data_MainDir = f\"{Ecoli_PG_MainDir}/Data\"  \n",
    "\n",
    "Shaw2021_50Asm_Dir = f\"{Ecoli_Data_MainDir}/Shaw2021.50Genomes.Data/data\"\n",
    "Shaw2021_Meta_TSV = f\"{Ecoli_Data_MainDir}/Shaw2021.SelectedIsolates.50I.tsv\"  \n",
    "\n",
    "Ecoli_Meta_Dir = f\"../../Data/230905_Ecoli_50CI_Metadata_Shaw2021\"  \n",
    "\n",
    "Shaw2021_Ecoli_50Asm_Meta_TSV = f\"{Ecoli_Meta_Dir}/231011.Shaw2021.Ecoli.50I.MetaData.tsv\"\n",
    "\n",
    "\n",
    "\n",
    "############################################################\n",
    "\n",
    "\n",
    "\n",
    "\n",
    "### Saureus PG Analysis Files ###\n",
    "\n",
    "SA_PG_MainDir = f\"{Proj_MainDir}/241206_Saureus_PG_Analysis\"  \n",
    "\n",
    "SA_SMK_Outputs_Dir = f\"{SA_PG_MainDir}/SMK_OutDirs\"\n",
    "\n",
    "PG_SA_68I_OutDir = SA_SMK_Outputs_Dir + \"/241206_Saureus_HoutakBouras2023_68I_V1\"\n",
    "\n",
    "\n",
    "\n",
    "SA_Data_MainDir = f\"{SA_PG_MainDir}/Data\"  \n",
    "\n",
    "SA_68CI_GenomeFASTAs_Dir = f\"{SA_Data_MainDir}/CRS.Saureus.68CI.GenomesFromGitRepo\"\n",
    "\n",
    "HoutakBouras2023_Saureus_68CI_AsmPATH_AltPath_TSV = f\"{SA_PG_MainDir}/241206.HoutakBouras2023.Saureus.68I.MetaData.And.AsmFA.tsv\"\n",
    "\n",
    "Saureus_Repo_Meta_Dir = f\"../../Data/241206_Saureus_HoutakBouras2023_Metadata\"  \n",
    "\n",
    "Sa_ENA_RunData_TSV = f\"{Saureus_Repo_Meta_Dir}/ENA.RunMetadata.PRJNA914892.tsv\"\n",
    "\n",
    "Sa_HoutakBouras2023_Isolate_Metadata_TSV = f\"{Saureus_Repo_Meta_Dir}/HoutakBouras2023.metadata.csv\"\n",
    "\n",
    "Sa_HoutakBouras2023_Isolate_MLST_Info_TSV = f\"{Saureus_Repo_Meta_Dir}/metadata/poppunk_mlst.csv\"\n",
    "\n",
    "############################################################\n",
    "\n",
    "\n"
   ]
  },
  {
   "cell_type": "code",
   "execution_count": null,
   "id": "6e597a2b-f2cd-40c5-9f68-8d0b09b92b44",
   "metadata": {},
   "outputs": [],
   "source": []
  },
  {
   "cell_type": "code",
   "execution_count": null,
   "id": "82b5829c-5fc8-4a5d-955f-da339ee84f06",
   "metadata": {},
   "outputs": [],
   "source": []
  },
  {
   "cell_type": "markdown",
   "id": "bc2308ae-85f6-4667-8f39-938dfd165436",
   "metadata": {},
   "source": [
    "## Parse in SA metadata"
   ]
  },
  {
   "cell_type": "code",
   "execution_count": 111,
   "id": "62a604a0-7178-4c83-9508-8ca6462bda53",
   "metadata": {},
   "outputs": [
    {
     "name": "stdout",
     "output_type": "stream",
     "text": [
      "(68, 8)\n",
      "(68, 8)\n"
     ]
    }
   ],
   "source": [
    "SA_68CI_Info_DF = pd.read_csv(HoutakBouras2023_Saureus_68CI_AsmPATH_AltPath_TSV,\n",
    "                               sep = \"\\t\")\n",
    "print(SA_68CI_Info_DF.shape)\n",
    "\n",
    "#Sa_68CI_Info_DF = pd.merge(Sa_68CI_Info_DF, MLST_DF, how = \"left\",\n",
    "#                           left_on=\"SampleID\", right_on = \"SampleID\" )\n",
    "\n",
    "print(SA_68CI_Info_DF.shape)"
   ]
  },
  {
   "cell_type": "markdown",
   "id": "ca564152-b98e-4342-a05c-41fd97c8f0fb",
   "metadata": {},
   "source": [
    "### Define list of SA SampleIDs"
   ]
  },
  {
   "cell_type": "code",
   "execution_count": 112,
   "id": "e1975abe-51b7-4fba-9cd0-e24d30ace0b1",
   "metadata": {},
   "outputs": [
    {
     "data": {
      "text/html": [
       "<div>\n",
       "<style scoped>\n",
       "    .dataframe tbody tr th:only-of-type {\n",
       "        vertical-align: middle;\n",
       "    }\n",
       "\n",
       "    .dataframe tbody tr th {\n",
       "        vertical-align: top;\n",
       "    }\n",
       "\n",
       "    .dataframe thead th {\n",
       "        text-align: right;\n",
       "    }\n",
       "</style>\n",
       "<table border=\"1\" class=\"dataframe\">\n",
       "  <thead>\n",
       "    <tr style=\"text-align: right;\">\n",
       "      <th></th>\n",
       "      <th>SampleID</th>\n",
       "      <th>PatientID</th>\n",
       "      <th>Timepoint</th>\n",
       "      <th>Bioproject</th>\n",
       "      <th>SR_RunAccession</th>\n",
       "      <th>Assembly_Accession</th>\n",
       "      <th>Organism</th>\n",
       "      <th>Genome_ASM_PATH</th>\n",
       "    </tr>\n",
       "  </thead>\n",
       "  <tbody>\n",
       "    <tr>\n",
       "      <th>0</th>\n",
       "      <td>C100</td>\n",
       "      <td>276</td>\n",
       "      <td>T0</td>\n",
       "      <td>PRJNA914892</td>\n",
       "      <td>SRR22859841</td>\n",
       "      <td>GCA_030290035.1</td>\n",
       "      <td>Staphylococcus aureus</td>\n",
       "      <td>/n/data1/hms/dbmi/farhat/mm774/Projects/241206...</td>\n",
       "    </tr>\n",
       "  </tbody>\n",
       "</table>\n",
       "</div>"
      ],
      "text/plain": [
       "  SampleID  PatientID Timepoint   Bioproject SR_RunAccession Assembly_Accession               Organism                                    Genome_ASM_PATH\n",
       "0     C100        276        T0  PRJNA914892     SRR22859841    GCA_030290035.1  Staphylococcus aureus  /n/data1/hms/dbmi/farhat/mm774/Projects/241206..."
      ]
     },
     "execution_count": 112,
     "metadata": {},
     "output_type": "execute_result"
    }
   ],
   "source": [
    "SA_68CI_Info_DF.head(1)  "
   ]
  },
  {
   "cell_type": "code",
   "execution_count": 113,
   "id": "d2651465-383b-4ef3-a63e-aba5e4656447",
   "metadata": {},
   "outputs": [
    {
     "data": {
      "text/plain": [
       "68"
      ]
     },
     "execution_count": 113,
     "metadata": {},
     "output_type": "execute_result"
    }
   ],
   "source": [
    "SA68I_SampleIDs = SA_68CI_Info_DF[\"SampleID\"].values   \n",
    "len(SA68I_SampleIDs)"
   ]
  },
  {
   "cell_type": "code",
   "execution_count": null,
   "id": "7c7d4ade-fcf0-46f4-8103-1276196d07f8",
   "metadata": {},
   "outputs": [],
   "source": []
  },
  {
   "cell_type": "markdown",
   "id": "5e840de5-c373-4daa-b625-c81d5d17cf5f",
   "metadata": {},
   "source": [
    "## Parse in Ecoli metadata"
   ]
  },
  {
   "cell_type": "code",
   "execution_count": 114,
   "id": "43f901dc-b321-4b0b-92fb-dd648748f5ed",
   "metadata": {},
   "outputs": [
    {
     "data": {
      "text/plain": [
       "(50, 24)"
      ]
     },
     "execution_count": 114,
     "metadata": {},
     "output_type": "execute_result"
    }
   ],
   "source": [
    "Shaw_50A_Info_DF = pd.read_csv(Shaw2021_Ecoli_50Asm_Meta_TSV, sep = \"\\t\")\n",
    "Shaw_50A_Info_DF.shape"
   ]
  },
  {
   "cell_type": "markdown",
   "id": "7737828e-c134-4168-a90c-d5d54e789459",
   "metadata": {},
   "source": [
    "### Define list of Ecoli SampleIDs"
   ]
  },
  {
   "cell_type": "code",
   "execution_count": 115,
   "id": "c87b3ad8-0f4d-476e-b4cd-17bd1496ae11",
   "metadata": {},
   "outputs": [
    {
     "data": {
      "text/html": [
       "<div>\n",
       "<style scoped>\n",
       "    .dataframe tbody tr th:only-of-type {\n",
       "        vertical-align: middle;\n",
       "    }\n",
       "\n",
       "    .dataframe tbody tr th {\n",
       "        vertical-align: top;\n",
       "    }\n",
       "\n",
       "    .dataframe thead th {\n",
       "        text-align: right;\n",
       "    }\n",
       "</style>\n",
       "<table border=\"1\" class=\"dataframe\">\n",
       "  <thead>\n",
       "    <tr style=\"text-align: right;\">\n",
       "      <th></th>\n",
       "      <th>Isolate</th>\n",
       "      <th>Biosample Accession</th>\n",
       "      <th>Short Reads Accession</th>\n",
       "      <th>Long Reads Accession</th>\n",
       "      <th>Assembly Accession</th>\n",
       "      <th>Animal or WwTW</th>\n",
       "      <th>Isolate source information</th>\n",
       "      <th>Timepoint</th>\n",
       "      <th>Niche</th>\n",
       "      <th>Niche.2</th>\n",
       "      <th>Location</th>\n",
       "      <th>Genus</th>\n",
       "      <th>Species</th>\n",
       "      <th>ST assignment</th>\n",
       "      <th>Circularised plasmids</th>\n",
       "      <th>Number of contigs</th>\n",
       "      <th>Circularised chromosome (1=yes)</th>\n",
       "      <th>Total genome size (bp)</th>\n",
       "      <th>Chromosome GC (if known)</th>\n",
       "      <th>Phylogroup (E. coli only)</th>\n",
       "      <th>Alternative isolate name</th>\n",
       "      <th>Long read sequencing method</th>\n",
       "      <th>SampleID</th>\n",
       "      <th>Genome_ASM_PATH</th>\n",
       "    </tr>\n",
       "  </thead>\n",
       "  <tbody>\n",
       "    <tr>\n",
       "      <th>0</th>\n",
       "      <td>RH02|T1-C02</td>\n",
       "      <td>SAMN15147960</td>\n",
       "      <td>SRR11948863</td>\n",
       "      <td>SRR12299015</td>\n",
       "      <td>GCA_014109125.1</td>\n",
       "      <td>Animal</td>\n",
       "      <td>Pooled pig faecal samples collected from floor...</td>\n",
       "      <td>1</td>\n",
       "      <td>Pig</td>\n",
       "      <td>Faeces</td>\n",
       "      <td>RH02</td>\n",
       "      <td>Escherichia</td>\n",
       "      <td>Escherichia coli</td>\n",
       "      <td>10.0</td>\n",
       "      <td>1</td>\n",
       "      <td>2</td>\n",
       "      <td>1</td>\n",
       "      <td>4953790</td>\n",
       "      <td>50.7</td>\n",
       "      <td>A</td>\n",
       "      <td>RHB02-C02</td>\n",
       "      <td>PacBio</td>\n",
       "      <td>GCA_014109125</td>\n",
       "      <td>/n/data1/hms/dbmi/farhat/mm774/Projects/230905...</td>\n",
       "    </tr>\n",
       "  </tbody>\n",
       "</table>\n",
       "</div>"
      ],
      "text/plain": [
       "       Isolate Biosample Accession Short Reads Accession Long Reads Accession Assembly Accession Animal or WwTW                         Isolate source information  Timepoint Niche Niche.2 Location        Genus           Species  ST assignment  Circularised plasmids  Number of contigs  Circularised chromosome (1=yes)  Total genome size (bp)  Chromosome GC (if known) Phylogroup (E. coli only) Alternative isolate name Long read sequencing method       SampleID                                    Genome_ASM_PATH\n",
       "0  RH02|T1-C02        SAMN15147960           SRR11948863          SRR12299015    GCA_014109125.1         Animal  Pooled pig faecal samples collected from floor...          1   Pig  Faeces     RH02  Escherichia  Escherichia coli           10.0                      1                  2                                1                 4953790                      50.7                         A                RHB02-C02                      PacBio  GCA_014109125  /n/data1/hms/dbmi/farhat/mm774/Projects/230905..."
      ]
     },
     "execution_count": 115,
     "metadata": {},
     "output_type": "execute_result"
    }
   ],
   "source": [
    "Shaw_50A_Info_DF.head(1)  "
   ]
  },
  {
   "cell_type": "code",
   "execution_count": 116,
   "id": "876b9796-b70e-4629-a924-790b36d40186",
   "metadata": {},
   "outputs": [
    {
     "data": {
      "text/plain": [
       "50"
      ]
     },
     "execution_count": 116,
     "metadata": {},
     "output_type": "execute_result"
    }
   ],
   "source": [
    "E50I_SampleIDs = Shaw_50A_Info_DF[\"SampleID\"].values   \n",
    "len(E50I_SampleIDs)"
   ]
  },
  {
   "cell_type": "code",
   "execution_count": null,
   "id": "e89f1224-b198-47eb-85c7-52c9ae9af437",
   "metadata": {},
   "outputs": [],
   "source": []
  },
  {
   "cell_type": "code",
   "execution_count": null,
   "id": "6cab3a7a-7c7f-4543-a4d1-c2cddb155155",
   "metadata": {},
   "outputs": [],
   "source": []
  },
  {
   "cell_type": "markdown",
   "id": "183dfb0a-8732-403f-94f6-6eaa895b185e",
   "metadata": {},
   "source": [
    "## Parse sample Mtb Metadata (N = 151)"
   ]
  },
  {
   "cell_type": "code",
   "execution_count": 117,
   "id": "f437c24e-e490-4d15-a14a-47065c5330a0",
   "metadata": {},
   "outputs": [
    {
     "data": {
      "text/plain": [
       "(151, 7)"
      ]
     },
     "execution_count": 117,
     "metadata": {},
     "output_type": "execute_result"
    }
   ],
   "source": [
    "Repo_DataDir = \"../../Data\"\n",
    "InputAsmPath_Dir = f\"{Repo_DataDir}/231121.InputAsmTSVs.MtbSetV3.151CI\"\n",
    "\n",
    "MtbSetV3_151CI_InputAsmPATHs_TSV = f\"{InputAsmPath_Dir}/231121.MtbSetV3.151CI.HybridAndSRAsm.FAPATHs.V1.tsv\"\n",
    "\n",
    "MtbSetV3_151CI_AsmSumm_TSV = f\"{InputAsmPath_Dir}/231121.MtbSetV3.151CI.HybridAsm.AsmSummary.V2.tsv\"\n",
    "\n",
    "WGA151CI_AsmSummary_DF = pd.read_csv(MtbSetV3_151CI_AsmSumm_TSV, sep = \"\\t\")\n",
    "\n",
    "SampleIDs_151CI_SOI = list( WGA151CI_AsmSummary_DF[\"SampleID\"].values )\n",
    "WGA151CI_SampleIDs = SampleIDs_151CI_SOI\n",
    "\n",
    "ID_To_PrimLineage_Dict = dict(WGA151CI_AsmSummary_DF[['SampleID', 'PrimaryLineage']].values)\n",
    "ID_To_SubLineage_Dict = dict( WGA151CI_AsmSummary_DF[[\"SampleID\", \"Lineage\"]].values)\n",
    "ID_To_Dataset_Dict = dict(WGA151CI_AsmSummary_DF[['SampleID', 'Dataset_Tag']].values)\n",
    "WGA151CI_AsmSummary_DF.shape"
   ]
  },
  {
   "cell_type": "code",
   "execution_count": null,
   "id": "ccb20fd0-dc25-466d-af4c-9b61e30e1057",
   "metadata": {},
   "outputs": [],
   "source": []
  },
  {
   "cell_type": "code",
   "execution_count": null,
   "id": "ef1e40b7-1558-4c2b-afa7-59d155c39ad2",
   "metadata": {},
   "outputs": [],
   "source": []
  },
  {
   "cell_type": "markdown",
   "id": "fe96ba1d-6023-43e3-ad20-faa2b24ab404",
   "metadata": {},
   "source": [
    "## Define paths to all BAKTA Annotations (For both Hybrid & SR ASMs)"
   ]
  },
  {
   "cell_type": "code",
   "execution_count": 118,
   "id": "202a545e-eb88-41b8-b31e-2897e60d8da2",
   "metadata": {},
   "outputs": [],
   "source": [
    "SampleTag_ToPaths_Dict = {}\n",
    "\n",
    "### Mtb 151CI ###\n",
    "listOfSample_Tags = WGA151CI_SampleIDs\n",
    "target_SMK_OutputDir = Mtb_SMK_Pipeline_OutputDir\n",
    "\n",
    "for SampleID in listOfSample_Tags:\n",
    "    sample_Asm_OutputDir = f\"{target_SMK_OutputDir}/AsmAnalysis/{SampleID}\"\n",
    "    GenomeAnno_Dir = f\"{sample_Asm_OutputDir}/GenomeAnnotation\"\n",
    "\n",
    "    Bakta_LR_AsmDir = f\"{GenomeAnno_Dir}/{SampleID}_Asm_Bakta\"\n",
    "    Bakta_SR_AsmDir = f\"{GenomeAnno_Dir}/{SampleID}_SR_Asm_Bakta\"\n",
    "\n",
    "    SampleTag_ToPaths_Dict[SampleID] = {\n",
    "        \"Dataset\": \"Mtb_151CI\",\n",
    "        \"Species\": \"Mtb\",\n",
    "        \"LRAsm_Bakta_GFF\": f\"{Bakta_LR_AsmDir}/{SampleID}.Bakta.gff3\",\n",
    "        \"LRAsm_Bakta_GBFF\": f\"{Bakta_LR_AsmDir}/{SampleID}.Bakta.gbff\",\n",
    "        \"LRAsm_Bakta_FAA\": f\"{Bakta_LR_AsmDir}/{SampleID}.Bakta.faa\",\n",
    "        \"LRAsm_Bakta_FFN\": f\"{Bakta_LR_AsmDir}/{SampleID}.Bakta.ffn\",\n",
    "        \"LRAsm_Bakta_FNA\": f\"{Bakta_LR_AsmDir}/{SampleID}.Bakta.fna\",\n",
    "        \"LRAsm_Bakta_TXT\": f\"{Bakta_LR_AsmDir}/{SampleID}.Bakta.txt\",\n",
    "        \"SRAsm_Bakta_GFF\": f\"{Bakta_SR_AsmDir}/{SampleID}.Bakta.gff3\",\n",
    "        \"SRAsm_Bakta_GBFF\": f\"{Bakta_SR_AsmDir}/{SampleID}.Bakta.gbff\",\n",
    "        \"SRAsm_Bakta_FAA\": f\"{Bakta_SR_AsmDir}/{SampleID}.Bakta.faa\",\n",
    "        \"SRAsm_Bakta_FFN\": f\"{Bakta_SR_AsmDir}/{SampleID}.Bakta.ffn\",\n",
    "        \"SRAsm_Bakta_FNA\": f\"{Bakta_SR_AsmDir}/{SampleID}.Bakta.fna\",\n",
    "        \"SRAsm_Bakta_TXT\": f\"{Bakta_SR_AsmDir}/{SampleID}.Bakta.txt\",\n",
    "    }\n",
    "\n",
    "#########################################################################\n",
    "\n",
    "\n",
    "\n",
    "\n",
    "##### Ecoli 50CI #####\n",
    "\n",
    "listOfSample_Tags = E50I_SampleIDs\n",
    "target_SMK_OutputDir = PG_Ecoli_50I_OutDir\n",
    "\n",
    "for SampleID in listOfSample_Tags:\n",
    "    sample_Asm_OutputDir = f\"{target_SMK_OutputDir}/AsmAnalysis/{SampleID}\"\n",
    "    GenomeAnno_Dir = f\"{sample_Asm_OutputDir}/GenomeAnnotation\"\n",
    "\n",
    "    sample_SR_Asm_OutputDir = f\"{target_SMK_OutputDir}/SR_DataProcessing/{SampleID}\"\n",
    "    SR_GenomeAnno_Dir = f\"{sample_SR_Asm_OutputDir}/GenomeAnnotation\"\n",
    "\n",
    "    Bakta_LR_AsmDir = f\"{GenomeAnno_Dir}/{SampleID}_Asm_Bakta\"\n",
    "    Bakta_SR_AsmDir = f\"{SR_GenomeAnno_Dir}/{SampleID}_Asm_Bakta\"\n",
    "\n",
    "    SampleTag_ToPaths_Dict[SampleID] = {\n",
    "        \"Dataset\": \"Ecoli_50CI\",\n",
    "        \"Species\": \"Ecoli\",\n",
    "        \"LRAsm_Bakta_GFF\": f\"{Bakta_LR_AsmDir}/{SampleID}.Bakta.gff3\",\n",
    "        \"LRAsm_Bakta_GBFF\": f\"{Bakta_LR_AsmDir}/{SampleID}.Bakta.gbff\",\n",
    "        \"LRAsm_Bakta_FAA\": f\"{Bakta_LR_AsmDir}/{SampleID}.Bakta.faa\",\n",
    "        \"LRAsm_Bakta_FFN\": f\"{Bakta_LR_AsmDir}/{SampleID}.Bakta.ffn\",\n",
    "        \"LRAsm_Bakta_FNA\": f\"{Bakta_LR_AsmDir}/{SampleID}.Bakta.fna\",\n",
    "        \"LRAsm_Bakta_TXT\": f\"{Bakta_LR_AsmDir}/{SampleID}.Bakta.txt\",\n",
    "        \"SRAsm_Bakta_GFF\": f\"{Bakta_SR_AsmDir}/{SampleID}.Bakta.gff3\",\n",
    "        \"SRAsm_Bakta_GBFF\": f\"{Bakta_SR_AsmDir}/{SampleID}.Bakta.gbff\",\n",
    "        \"SRAsm_Bakta_FAA\": f\"{Bakta_SR_AsmDir}/{SampleID}.Bakta.faa\",\n",
    "        \"SRAsm_Bakta_FFN\": f\"{Bakta_SR_AsmDir}/{SampleID}.Bakta.ffn\",\n",
    "        \"SRAsm_Bakta_FNA\": f\"{Bakta_SR_AsmDir}/{SampleID}.Bakta.fna\",\n",
    "        \"SRAsm_Bakta_TXT\": f\"{Bakta_SR_AsmDir}/{SampleID}.Bakta.txt\",\n",
    "    }\n",
    "\n",
    "#########################################################################\n",
    "\n",
    "\n",
    "\n",
    "### Saureus 68CI ###\n",
    "\n",
    "listOfSample_Tags = SA68I_SampleIDs\n",
    "target_SMK_OutputDir = PG_SA_68I_OutDir\n",
    "\n",
    "for SampleID in listOfSample_Tags:\n",
    "    sample_Asm_OutputDir = f\"{target_SMK_OutputDir}/AsmAnalysis/{SampleID}\"\n",
    "    GenomeAnno_Dir = f\"{sample_Asm_OutputDir}/GenomeAnnotation\"\n",
    "\n",
    "    sample_SR_Asm_OutputDir = f\"{target_SMK_OutputDir}/SR_DataProcessing/{SampleID}\"\n",
    "    SR_GenomeAnno_Dir = f\"{sample_SR_Asm_OutputDir}/GenomeAnnotation\"\n",
    "\n",
    "    Bakta_LR_AsmDir = f\"{GenomeAnno_Dir}/{SampleID}_Asm_Bakta\"\n",
    "    Bakta_SR_AsmDir = f\"{SR_GenomeAnno_Dir}/{SampleID}_Asm_Bakta\"\n",
    "\n",
    "    SampleTag_ToPaths_Dict[SampleID] = {\n",
    "        \"Dataset\": \"Saureus_68CI\",\n",
    "        \"Species\": \"Saureus\",\n",
    "        \"LRAsm_Bakta_GFF\": f\"{Bakta_LR_AsmDir}/{SampleID}.Bakta.gff3\",\n",
    "        \"LRAsm_Bakta_GBFF\": f\"{Bakta_LR_AsmDir}/{SampleID}.Bakta.gbff\",\n",
    "        \"LRAsm_Bakta_FAA\": f\"{Bakta_LR_AsmDir}/{SampleID}.Bakta.faa\",\n",
    "        \"LRAsm_Bakta_FFN\": f\"{Bakta_LR_AsmDir}/{SampleID}.Bakta.ffn\",\n",
    "        \"LRAsm_Bakta_FNA\": f\"{Bakta_LR_AsmDir}/{SampleID}.Bakta.fna\",\n",
    "        \"LRAsm_Bakta_TXT\": f\"{Bakta_LR_AsmDir}/{SampleID}.Bakta.txt\",\n",
    "        \"SRAsm_Bakta_GFF\": f\"{Bakta_SR_AsmDir}/{SampleID}.Bakta.gff3\",\n",
    "        \"SRAsm_Bakta_GBFF\": f\"{Bakta_SR_AsmDir}/{SampleID}.Bakta.gbff\",\n",
    "        \"SRAsm_Bakta_FAA\": f\"{Bakta_SR_AsmDir}/{SampleID}.Bakta.faa\",\n",
    "        \"SRAsm_Bakta_FFN\": f\"{Bakta_SR_AsmDir}/{SampleID}.Bakta.ffn\",\n",
    "        \"SRAsm_Bakta_FNA\": f\"{Bakta_SR_AsmDir}/{SampleID}.Bakta.fna\",\n",
    "        \"SRAsm_Bakta_TXT\": f\"{Bakta_SR_AsmDir}/{SampleID}.Bakta.txt\",\n",
    "    }\n",
    "    \n",
    "#########################################################################\n",
    "\n"
   ]
  },
  {
   "cell_type": "code",
   "execution_count": 119,
   "id": "1796b0e8-9d0d-46ef-99e2-ff0519b33b65",
   "metadata": {},
   "outputs": [
    {
     "data": {
      "text/plain": [
       "dict_keys(['N0072', 'N0153', 'TB3113', 'TB1236', 'TB2659', 'TB2780', 'TB1612', 'TB2512', 'TB2981', 'TB3091', 'M0003941_3', 'TB3368', 'N0145', 'N0155', 'TB2995', 'TB3396', 'N0004', 'N1274', 'N0054', '02_R1179', '01_R1134', 'M0017522_5', 'M0016395_7', 'M0010874_7', '02_R1708', '02_R0894', '01_R1430', 'M0014888_3', '02_R1896', 'TB4620', 'TB3162', 'MT_0080', 'TB3054', 'TB3251', 'M0016737_0', 'TB2661', 'TB3237', 'TB3169', 'TB3386', 'TB3334', 'M0011368_9', 'TB2968', 'N1272', 'N1176', 'N1202', 'N1177', 'N0091', 'RW-TB008', '9050-05', '4549-04', '696-05', '702-06', '706-05', '8129-04', '3003-06', '8651-04', 'QC-3', 'QC-9', 'QC-5', 'QC-8', 'QC-10', 'QC-4', 'QC-7', 'QC-6', 'QC-1', 'mada_1-10', 'mada_2-46', 'mada_1-1', 'mada_1-36', 'mada_1-39', 'mada_1-51', 'mada_1-44', 'mada_117', 'mada_118', 'mada_122', 'mada_107', 'R27252', 'R23887', 'R30215', 'R30078', 'R29816', 'R30234', '18_0621851', 'R36431', 'R28703', 'mada_115', 'mada_2-42', 'R31095', 'R28012', 'R37765', 'R27657', 'R25048', 'R24120', 'R28581', 'R29598', 'mada_1-11', 'R24100', 'R21408', 'R20574', 'R20260', 'R18043', 'R22601', 'R23146', 'R32929', 'R21893', 'R30420', 'R26778', 'R26791', 'R28980', 'R27725', 'R18040', 'R27937', 'mada_1-30', 'mada_2-31', 'mada_1-41', 'R21770', 'R21839', 'mada_1-32', 'R30396', 'R21363', 'R20896', 'mada_102', 'mada_129', 'mada_139', 'mada_151', 'mada_105', 'R15311', 'mada_103', 'mada_2-25', 'mada_112', 'mada_124', 'mada_126', 'mada_120', 'R23571', 'mada_128', 'mada_1-12', 'mada_1-15', 'mada_2-1', 'mada_1-53', 'mada_1-50', 'mada_123', 'mada_2-53', 'mada_1-38', 'S0070-08', 'S0085-01', 'S0107-01', 'S0089-01', 'S0256-08', 'S0123-01', 'S0106-01', 'S0262-02', 'GCA_014109125', 'GCA_014109065', 'GCA_013923405', 'GCA_013821965', 'GCA_013819985', 'GCA_013899665', 'GCA_013895455', 'GCA_013783465', 'GCA_013752075', 'GCA_013891895', 'GCA_013796065', 'GCA_013782445', 'GCA_013928845', 'GCA_013924285', 'GCA_013713325', 'GCA_013712565', 'GCA_013894775', 'GCA_013752295', 'GCA_013750375', 'GCA_013899205', 'GCA_013898935', 'GCA_014103665', 'GCA_014103465', 'GCA_013746655', 'GCA_013745515', 'GCA_013732895', 'GCA_013786125', 'GCA_013728735', 'GCA_013897665', 'GCA_013897255', 'GCA_013896775', 'GCA_013896515', 'GCA_013886475', 'GCA_013806925', 'GCA_013806525', 'GCA_013806085', 'GCA_013835405', 'GCA_013817865', 'GCA_013790245', 'GCA_013900245', 'GCA_013836945', 'GCA_013823125', 'GCA_013894235', 'GCA_013817505', 'GCA_013898995', 'GCA_013898775', 'GCA_013830785', 'GCA_013800125', 'GCA_014103195', 'GCA_013602835', 'C100', 'C364', 'C22', 'C320', 'C235', 'C318', 'C79', 'C148', 'C265', 'C324', 'C13', 'C76', 'C80', 'C208', 'C240', 'C295', 'C52', 'C113', 'C24', 'C195', 'C9', 'C353', 'C121', 'C255', 'C3', 'C56', 'C32', 'C188', 'C16', 'C70', 'C67', 'C294', 'C21', 'C273', 'C72', 'C351', 'C133', 'C179', 'C45', 'C149', 'C91', 'C209', 'C206', 'C276', 'C136', 'C197', 'C155', 'C339', 'C196', 'C342', 'C183', 'C312', 'C182', 'C233', 'C224', 'C349', 'C222', 'C333', 'C245', 'C314', 'C285', 'C355', 'C241', 'C309', 'C325', 'C363', 'C311', 'C357'])"
      ]
     },
     "execution_count": 119,
     "metadata": {},
     "output_type": "execute_result"
    }
   ],
   "source": [
    "SampleTag_ToPaths_Dict.keys()"
   ]
  },
  {
   "cell_type": "code",
   "execution_count": null,
   "id": "e345826c-1581-4b19-9432-f00ba743d2fa",
   "metadata": {},
   "outputs": [],
   "source": []
  },
  {
   "cell_type": "code",
   "execution_count": null,
   "id": "af98fae4-ad4d-40d8-b040-cfbb91a3cd4a",
   "metadata": {},
   "outputs": [],
   "source": []
  },
  {
   "cell_type": "code",
   "execution_count": null,
   "id": "009de309-5ffd-41a0-99a9-f8d21ae9b236",
   "metadata": {},
   "outputs": [],
   "source": []
  },
  {
   "cell_type": "code",
   "execution_count": null,
   "id": "e6fcce2a-e6f1-44ce-aa95-aaca6454fc7d",
   "metadata": {},
   "outputs": [],
   "source": []
  },
  {
   "cell_type": "markdown",
   "id": "1a40ae53-8b58-405a-8d60-9e93f5a76c75",
   "metadata": {},
   "source": [
    "# Parse & Summarize assembly info (LR vs SR)\n",
    "The code below will iterate over all samples and parse info from outputs of the analysis pipeline"
   ]
  },
  {
   "cell_type": "markdown",
   "id": "6c536512-5dc3-4a0f-bfef-320e372d68a6",
   "metadata": {},
   "source": [
    "## Asm Info Parsing - For all 3 species (`Mtb`, `Ecoli`, `Saureus`)"
   ]
  },
  {
   "cell_type": "code",
   "execution_count": 161,
   "id": "e61e0484-7631-4514-ab7a-d6adf1d4b61b",
   "metadata": {},
   "outputs": [
    {
     "name": "stderr",
     "output_type": "stream",
     "text": [
      "100%|██████████| 269/269 [00:01<00:00, 137.44it/s]\n"
     ]
    }
   ],
   "source": [
    "\n",
    "listOf_SampleInfoTuples = []\n",
    "\n",
    "listOf_SampleInfoTuplesTidy = []\n",
    "\n",
    "for SampleID, i_InfoAndFilePaths_Dict in tqdm( SampleTag_ToPaths_Dict.items() ):\n",
    "    \n",
    "    SampleID = row[\"SampleID\"]\n",
    "        \n",
    "    i_Dataset = i_InfoAndFilePaths_Dict[\"Dataset\"]\n",
    "    i_Species = i_InfoAndFilePaths_Dict[\"Species\"]\n",
    "\n",
    "    \n",
    "    #### LR & SR Genome Annotation #####    \n",
    "    \n",
    "    i_LRAsm_BaktaInfo_TXT = i_InfoAndFilePaths_Dict[\"LRAsm_Bakta_TXT\"]\n",
    "    i_SRAsm_BaktaInfo_TXT = i_InfoAndFilePaths_Dict[\"SRAsm_Bakta_TXT\"]\n",
    "\n",
    "    i_LRAsm_BaktaInfo_Dict = read_BaktaTXT_ToBasicInfoDict(i_LRAsm_BaktaInfo_TXT)\n",
    "\n",
    "    LRAsm_TotalLen = i_LRAsm_BaktaInfo_Dict[\"TotalContigLength\"] \n",
    "    LRAsm_Ncontigs = i_LRAsm_BaktaInfo_Dict[\"NumContigs\"]\n",
    "    LRAsm_GCcontent = i_LRAsm_BaktaInfo_Dict[\"GCcontent\"]\n",
    "    LRAsm_N50 = i_LRAsm_BaktaInfo_Dict[\"N50\"]\n",
    "    LRAsm_NumCDS = i_LRAsm_BaktaInfo_Dict[\"NumCDS\"]\n",
    "\n",
    "    i_SRAsm_BaktaInfo_Dict = read_BaktaTXT_ToBasicInfoDict(i_SRAsm_BaktaInfo_TXT)\n",
    "    SRAsm_TotalLen = i_SRAsm_BaktaInfo_Dict[\"TotalContigLength\"] \n",
    "    SRAsm_Ncontigs = i_SRAsm_BaktaInfo_Dict[\"NumContigs\"]\n",
    "    SRAsm_GCcontent = i_SRAsm_BaktaInfo_Dict[\"GCcontent\"]\n",
    "    SRAsm_N50 = i_SRAsm_BaktaInfo_Dict[\"N50\"]\n",
    "    SRAsm_NumCDS = i_SRAsm_BaktaInfo_Dict[\"NumCDS\"]\n",
    "\n",
    "    SRAsm_CodingDensity = i_SRAsm_BaktaInfo_Dict[\"CodingDensity\"]\n",
    "\n",
    "    sampleInfo_Tuple = (SampleID,\n",
    "                        i_Species,\n",
    "                        i_Dataset,\n",
    "                        LRAsm_TotalLen,\n",
    "                        LRAsm_Ncontigs,\n",
    "                        LRAsm_GCcontent,\n",
    "                        LRAsm_N50,\n",
    "                        LRAsm_NumCDS,\n",
    "                        SRAsm_TotalLen,\n",
    "                        SRAsm_Ncontigs,\n",
    "                        SRAsm_GCcontent,\n",
    "                        SRAsm_N50,\n",
    "                        SRAsm_NumCDS,)\n",
    "    \n",
    "    listOf_SampleInfoTuples.append(sampleInfo_Tuple)\n",
    "\n",
    "    \n",
    "    sampleInfo_TupleTidy_SR = (SampleID,\n",
    "                               i_Species,\n",
    "                               i_Dataset,\n",
    "                               \"LongRead\",\n",
    "                               LRAsm_TotalLen,\n",
    "                               LRAsm_Ncontigs,\n",
    "                               LRAsm_GCcontent,\n",
    "                               LRAsm_N50,\n",
    "                               LRAsm_NumCDS )\n",
    "\n",
    "    sampleInfo_TupleTidy_LR = (SampleID,\n",
    "                               i_Species,\n",
    "                               i_Dataset,\n",
    "                               \"ShortRead\",\n",
    "                               SRAsm_TotalLen,\n",
    "                               SRAsm_Ncontigs,\n",
    "                               SRAsm_GCcontent,\n",
    "                               SRAsm_N50,\n",
    "                               SRAsm_NumCDS,)\n",
    "    \n",
    "    listOf_SampleInfoTuplesTidy.append(sampleInfo_TupleTidy_LR)\n",
    "    listOf_SampleInfoTuplesTidy.append(sampleInfo_TupleTidy_SR)\n",
    "    \n",
    "    \n",
    "AsmSummary_DF = pd.DataFrame(listOf_SampleInfoTuples)\n",
    "AsmSummary_DF.columns = [\"SampleID\",\n",
    "                         \"Species\",\n",
    "                         \"Dataset\",\n",
    "                        \"LRAsm_TotalLen\",\n",
    "                        \"LRAsm_Ncontigs\",\n",
    "                        \"LRAsm_GCcontent\",\n",
    "                        \"LRAsm_N50\",\n",
    "                        \"LRAsm_NumCDS\",\n",
    "                        \"SRAsm_TotalLen\",\n",
    "                        \"SRAsm_Ncontigs\",\n",
    "                        \"SRAsm_GCcontent\",\n",
    "                        \"SRAsm_N50\",\n",
    "                        \"SRAsm_NumCDS\",]\n",
    "\n",
    "#AsmSummary_DF[\"PrimaryLineage_coll2014\"] = AsmSummary_DF[\"Lineage_coll2014\"].str.split(\".\").str[0]\n",
    "\n",
    "MES_Asm_LRvsSR_DF = AsmSummary_DF\n",
    "MES_Asm_LRvsSR_DF.shape\n",
    "\n",
    "\n",
    "MES_LRvsSR_TidyDF = pd.DataFrame(listOf_SampleInfoTuplesTidy)\n",
    "MES_LRvsSR_TidyDF.columns = [\"SampleID\",\n",
    "                              \"Species\",\n",
    "                              \"Dataset\",\n",
    "                              \"AsmType\",\n",
    "                              \"Asm_TotalLen\",\n",
    "                              \"Asm_Ncontigs\",\n",
    "                              \"Asm_GCcontent\",\n",
    "                              \"Asm_N50\",\n",
    "                              \"Asm_NumCDS\",]\n"
   ]
  },
  {
   "cell_type": "code",
   "execution_count": 162,
   "id": "972ea8a6-b947-471e-a943-92e980046b74",
   "metadata": {},
   "outputs": [
    {
     "data": {
      "text/html": [
       "<div>\n",
       "<style scoped>\n",
       "    .dataframe tbody tr th:only-of-type {\n",
       "        vertical-align: middle;\n",
       "    }\n",
       "\n",
       "    .dataframe tbody tr th {\n",
       "        vertical-align: top;\n",
       "    }\n",
       "\n",
       "    .dataframe thead th {\n",
       "        text-align: right;\n",
       "    }\n",
       "</style>\n",
       "<table border=\"1\" class=\"dataframe\">\n",
       "  <thead>\n",
       "    <tr style=\"text-align: right;\">\n",
       "      <th></th>\n",
       "      <th>SampleID</th>\n",
       "      <th>Species</th>\n",
       "      <th>Dataset</th>\n",
       "      <th>LRAsm_TotalLen</th>\n",
       "      <th>LRAsm_Ncontigs</th>\n",
       "      <th>LRAsm_GCcontent</th>\n",
       "      <th>LRAsm_N50</th>\n",
       "      <th>LRAsm_NumCDS</th>\n",
       "      <th>SRAsm_TotalLen</th>\n",
       "      <th>SRAsm_Ncontigs</th>\n",
       "      <th>SRAsm_GCcontent</th>\n",
       "      <th>SRAsm_N50</th>\n",
       "      <th>SRAsm_NumCDS</th>\n",
       "    </tr>\n",
       "  </thead>\n",
       "  <tbody>\n",
       "    <tr>\n",
       "      <th>0</th>\n",
       "      <td>N0072</td>\n",
       "      <td>Mtb</td>\n",
       "      <td>Mtb_151CI</td>\n",
       "      <td>4421404</td>\n",
       "      <td>1</td>\n",
       "      <td>65.6</td>\n",
       "      <td>4421404.0</td>\n",
       "      <td>4051</td>\n",
       "      <td>4353633</td>\n",
       "      <td>104</td>\n",
       "      <td>65.5</td>\n",
       "      <td>120698.0</td>\n",
       "      <td>4064</td>\n",
       "    </tr>\n",
       "    <tr>\n",
       "      <th>1</th>\n",
       "      <td>N0072</td>\n",
       "      <td>Mtb</td>\n",
       "      <td>Mtb_151CI</td>\n",
       "      <td>4389181</td>\n",
       "      <td>1</td>\n",
       "      <td>65.6</td>\n",
       "      <td>4389181.0</td>\n",
       "      <td>4041</td>\n",
       "      <td>4331132</td>\n",
       "      <td>116</td>\n",
       "      <td>65.5</td>\n",
       "      <td>90314.0</td>\n",
       "      <td>4048</td>\n",
       "    </tr>\n",
       "    <tr>\n",
       "      <th>2</th>\n",
       "      <td>N0072</td>\n",
       "      <td>Mtb</td>\n",
       "      <td>Mtb_151CI</td>\n",
       "      <td>4419922</td>\n",
       "      <td>1</td>\n",
       "      <td>65.6</td>\n",
       "      <td>4419922.0</td>\n",
       "      <td>4083</td>\n",
       "      <td>4332706</td>\n",
       "      <td>114</td>\n",
       "      <td>65.6</td>\n",
       "      <td>93741.0</td>\n",
       "      <td>4058</td>\n",
       "    </tr>\n",
       "  </tbody>\n",
       "</table>\n",
       "</div>"
      ],
      "text/plain": [
       "  SampleID Species    Dataset  LRAsm_TotalLen  LRAsm_Ncontigs  LRAsm_GCcontent  LRAsm_N50  LRAsm_NumCDS  SRAsm_TotalLen  SRAsm_Ncontigs  SRAsm_GCcontent  SRAsm_N50  SRAsm_NumCDS\n",
       "0    N0072     Mtb  Mtb_151CI         4421404               1             65.6  4421404.0          4051         4353633             104             65.5   120698.0          4064\n",
       "1    N0072     Mtb  Mtb_151CI         4389181               1             65.6  4389181.0          4041         4331132             116             65.5    90314.0          4048\n",
       "2    N0072     Mtb  Mtb_151CI         4419922               1             65.6  4419922.0          4083         4332706             114             65.6    93741.0          4058"
      ]
     },
     "execution_count": 162,
     "metadata": {},
     "output_type": "execute_result"
    }
   ],
   "source": [
    "MES_Asm_LRvsSR_DF.head(3)"
   ]
  },
  {
   "cell_type": "code",
   "execution_count": 163,
   "id": "10de7f4c-e768-4d98-8a2a-139cbd3b61cb",
   "metadata": {},
   "outputs": [
    {
     "data": {
      "text/html": [
       "<div>\n",
       "<style scoped>\n",
       "    .dataframe tbody tr th:only-of-type {\n",
       "        vertical-align: middle;\n",
       "    }\n",
       "\n",
       "    .dataframe tbody tr th {\n",
       "        vertical-align: top;\n",
       "    }\n",
       "\n",
       "    .dataframe thead th {\n",
       "        text-align: right;\n",
       "    }\n",
       "</style>\n",
       "<table border=\"1\" class=\"dataframe\">\n",
       "  <thead>\n",
       "    <tr style=\"text-align: right;\">\n",
       "      <th></th>\n",
       "      <th>SampleID</th>\n",
       "      <th>Species</th>\n",
       "      <th>Dataset</th>\n",
       "      <th>AsmType</th>\n",
       "      <th>Asm_TotalLen</th>\n",
       "      <th>Asm_Ncontigs</th>\n",
       "      <th>Asm_GCcontent</th>\n",
       "      <th>Asm_N50</th>\n",
       "      <th>Asm_NumCDS</th>\n",
       "    </tr>\n",
       "  </thead>\n",
       "  <tbody>\n",
       "    <tr>\n",
       "      <th>0</th>\n",
       "      <td>N0072</td>\n",
       "      <td>Mtb</td>\n",
       "      <td>Mtb_151CI</td>\n",
       "      <td>ShortRead</td>\n",
       "      <td>4353633</td>\n",
       "      <td>104</td>\n",
       "      <td>65.5</td>\n",
       "      <td>120698.0</td>\n",
       "      <td>4064</td>\n",
       "    </tr>\n",
       "    <tr>\n",
       "      <th>1</th>\n",
       "      <td>N0072</td>\n",
       "      <td>Mtb</td>\n",
       "      <td>Mtb_151CI</td>\n",
       "      <td>LongRead</td>\n",
       "      <td>4421404</td>\n",
       "      <td>1</td>\n",
       "      <td>65.6</td>\n",
       "      <td>4421404.0</td>\n",
       "      <td>4051</td>\n",
       "    </tr>\n",
       "    <tr>\n",
       "      <th>2</th>\n",
       "      <td>N0072</td>\n",
       "      <td>Mtb</td>\n",
       "      <td>Mtb_151CI</td>\n",
       "      <td>ShortRead</td>\n",
       "      <td>4331132</td>\n",
       "      <td>116</td>\n",
       "      <td>65.5</td>\n",
       "      <td>90314.0</td>\n",
       "      <td>4048</td>\n",
       "    </tr>\n",
       "  </tbody>\n",
       "</table>\n",
       "</div>"
      ],
      "text/plain": [
       "  SampleID Species    Dataset    AsmType  Asm_TotalLen  Asm_Ncontigs  Asm_GCcontent    Asm_N50  Asm_NumCDS\n",
       "0    N0072     Mtb  Mtb_151CI  ShortRead       4353633           104           65.5   120698.0        4064\n",
       "1    N0072     Mtb  Mtb_151CI   LongRead       4421404             1           65.6  4421404.0        4051\n",
       "2    N0072     Mtb  Mtb_151CI  ShortRead       4331132           116           65.5    90314.0        4048"
      ]
     },
     "execution_count": 163,
     "metadata": {},
     "output_type": "execute_result"
    }
   ],
   "source": [
    "MES_LRvsSR_TidyDF.head(3)"
   ]
  },
  {
   "cell_type": "code",
   "execution_count": 164,
   "id": "e5700d49-cda9-4d43-8747-39cbea49f92c",
   "metadata": {},
   "outputs": [
    {
     "data": {
      "text/plain": [
       "(269, 9)"
      ]
     },
     "execution_count": 164,
     "metadata": {},
     "output_type": "execute_result"
    }
   ],
   "source": [
    "MES_SR_TidyDF = MES_LRvsSR_TidyDF.query(\"AsmType == 'ShortRead'\")\n",
    "MES_SR_TidyDF.shape"
   ]
  },
  {
   "cell_type": "code",
   "execution_count": null,
   "id": "7fd6a80e-949c-4370-b423-8f01d0780fce",
   "metadata": {},
   "outputs": [],
   "source": []
  },
  {
   "cell_type": "markdown",
   "id": "6f6cd505-c6b2-47ba-8c44-9f093e60f6de",
   "metadata": {},
   "source": [
    "# Output stats as TSV"
   ]
  },
  {
   "cell_type": "code",
   "execution_count": 168,
   "id": "72c1fc44-7531-4574-86b0-5ff949758003",
   "metadata": {},
   "outputs": [],
   "source": [
    "MES_Asm_LRvsSR_DF.to_csv(\"LRvsSR.AsmStats.3BactSpecies.tsv\", sep = \"\\t\", index=False)"
   ]
  },
  {
   "cell_type": "code",
   "execution_count": 167,
   "id": "97786f45-1e40-4279-9cdb-eeb10473ee64",
   "metadata": {},
   "outputs": [],
   "source": [
    "MES_LRvsSR_TidyDF.to_csv(\"LRvsSR.AsmStats.3BactSpecies.Tidy.tsv\", sep = \"\\t\", index=False)"
   ]
  },
  {
   "cell_type": "code",
   "execution_count": 125,
   "id": "56e4d6d8-6175-42a4-af89-2137085fb97b",
   "metadata": {},
   "outputs": [
    {
     "data": {
      "text/plain": [
       "{'TotalContigLength': 2828747,\n",
       " 'NumContigs': 1,\n",
       " 'GCcontent': 32.9,\n",
       " 'N50': 2828747.0,\n",
       " 'NumCDS': 2624,\n",
       " 'CodingDensity': 85.5,\n",
       " 'NumHypotheticals': 155}"
      ]
     },
     "execution_count": 125,
     "metadata": {},
     "output_type": "execute_result"
    }
   ],
   "source": [
    "i_LRAsm_BaktaInfo_Dict"
   ]
  },
  {
   "cell_type": "markdown",
   "id": "f3c08657-20b2-40e7-89e3-efb3a1a75c81",
   "metadata": {},
   "source": [
    "# Analysis & comparison of stats"
   ]
  },
  {
   "cell_type": "code",
   "execution_count": 165,
   "id": "339a109a-87bb-450a-bcd1-439a6076206c",
   "metadata": {},
   "outputs": [
    {
     "data": {
      "text/html": [
       "<div>\n",
       "<style scoped>\n",
       "    .dataframe tbody tr th:only-of-type {\n",
       "        vertical-align: middle;\n",
       "    }\n",
       "\n",
       "    .dataframe tbody tr th {\n",
       "        vertical-align: top;\n",
       "    }\n",
       "\n",
       "    .dataframe thead th {\n",
       "        text-align: right;\n",
       "    }\n",
       "</style>\n",
       "<table border=\"1\" class=\"dataframe\">\n",
       "  <thead>\n",
       "    <tr style=\"text-align: right;\">\n",
       "      <th></th>\n",
       "      <th>SampleID</th>\n",
       "      <th>Species</th>\n",
       "      <th>Dataset</th>\n",
       "      <th>AsmType</th>\n",
       "      <th>Asm_TotalLen</th>\n",
       "      <th>Asm_Ncontigs</th>\n",
       "      <th>Asm_GCcontent</th>\n",
       "      <th>Asm_N50</th>\n",
       "      <th>Asm_NumCDS</th>\n",
       "    </tr>\n",
       "  </thead>\n",
       "  <tbody>\n",
       "    <tr>\n",
       "      <th>0</th>\n",
       "      <td>N0072</td>\n",
       "      <td>Mtb</td>\n",
       "      <td>Mtb_151CI</td>\n",
       "      <td>ShortRead</td>\n",
       "      <td>4353633</td>\n",
       "      <td>104</td>\n",
       "      <td>65.5</td>\n",
       "      <td>120698.0</td>\n",
       "      <td>4064</td>\n",
       "    </tr>\n",
       "    <tr>\n",
       "      <th>1</th>\n",
       "      <td>N0072</td>\n",
       "      <td>Mtb</td>\n",
       "      <td>Mtb_151CI</td>\n",
       "      <td>LongRead</td>\n",
       "      <td>4421404</td>\n",
       "      <td>1</td>\n",
       "      <td>65.6</td>\n",
       "      <td>4421404.0</td>\n",
       "      <td>4051</td>\n",
       "    </tr>\n",
       "    <tr>\n",
       "      <th>2</th>\n",
       "      <td>N0072</td>\n",
       "      <td>Mtb</td>\n",
       "      <td>Mtb_151CI</td>\n",
       "      <td>ShortRead</td>\n",
       "      <td>4331132</td>\n",
       "      <td>116</td>\n",
       "      <td>65.5</td>\n",
       "      <td>90314.0</td>\n",
       "      <td>4048</td>\n",
       "    </tr>\n",
       "  </tbody>\n",
       "</table>\n",
       "</div>"
      ],
      "text/plain": [
       "  SampleID Species    Dataset    AsmType  Asm_TotalLen  Asm_Ncontigs  Asm_GCcontent    Asm_N50  Asm_NumCDS\n",
       "0    N0072     Mtb  Mtb_151CI  ShortRead       4353633           104           65.5   120698.0        4064\n",
       "1    N0072     Mtb  Mtb_151CI   LongRead       4421404             1           65.6  4421404.0        4051\n",
       "2    N0072     Mtb  Mtb_151CI  ShortRead       4331132           116           65.5    90314.0        4048"
      ]
     },
     "execution_count": 165,
     "metadata": {},
     "output_type": "execute_result"
    }
   ],
   "source": [
    "MES_LRvsSR_TidyDF.head(3)"
   ]
  },
  {
   "cell_type": "code",
   "execution_count": 173,
   "id": "074f32d9-ea25-4219-9291-7b5a939b7aa1",
   "metadata": {},
   "outputs": [
    {
     "name": "stderr",
     "output_type": "stream",
     "text": [
      "/tmp/ipykernel_2998/1530198840.py:19: FutureWarning: Use \"auto\" to set automatic grayscale colors. From v0.14.0, \"gray\" will default to matplotlib's definition.\n",
      "  sns.stripplot(data=MES_LRvsSR_TidyDF, x=\"Species\", y=metric, hue=\"AsmType\",\n",
      "/tmp/ipykernel_2998/1530198840.py:19: FutureWarning: Use \"auto\" to set automatic grayscale colors. From v0.14.0, \"gray\" will default to matplotlib's definition.\n",
      "  sns.stripplot(data=MES_LRvsSR_TidyDF, x=\"Species\", y=metric, hue=\"AsmType\",\n",
      "/tmp/ipykernel_2998/1530198840.py:19: FutureWarning: Use \"auto\" to set automatic grayscale colors. From v0.14.0, \"gray\" will default to matplotlib's definition.\n",
      "  sns.stripplot(data=MES_LRvsSR_TidyDF, x=\"Species\", y=metric, hue=\"AsmType\",\n",
      "/tmp/ipykernel_2998/1530198840.py:19: FutureWarning: Use \"auto\" to set automatic grayscale colors. From v0.14.0, \"gray\" will default to matplotlib's definition.\n",
      "  sns.stripplot(data=MES_LRvsSR_TidyDF, x=\"Species\", y=metric, hue=\"AsmType\",\n",
      "/tmp/ipykernel_2998/1530198840.py:19: FutureWarning: Use \"auto\" to set automatic grayscale colors. From v0.14.0, \"gray\" will default to matplotlib's definition.\n",
      "  sns.stripplot(data=MES_LRvsSR_TidyDF, x=\"Species\", y=metric, hue=\"AsmType\",\n"
     ]
    },
    {
     "data": {
      "image/png": "[encoded data removed]",
      "text/plain": [
       "<Figure size 1600x1800 with 6 Axes>"
      ]
     },
     "metadata": {},
     "output_type": "display_data"
    }
   ],
   "source": [
    "# Define the list of metrics to plot\n",
    "metrics = [\"Asm_TotalLen\", \"Asm_Ncontigs\", \"Asm_GCcontent\", \"Asm_N50\", \"Asm_NumCDS\"]\n",
    "metric_labels = {\n",
    "    \"Asm_TotalLen\": \"Assembly Total Length (bp)\",\n",
    "    \"Asm_Ncontigs\": \"Number of Contigs\",\n",
    "    \"Asm_GCcontent\": \"GC Content (%)\",\n",
    "    \"Asm_N50\": \"Assembly N50 (bp)\",\n",
    "    \"Asm_NumCDS\": \"Number of Annotated CDS\"\n",
    "}\n",
    "\n",
    "# Plot boxplots with jitter points for each metric\n",
    "fig, axes = plt.subplots(nrows=3, ncols=2, figsize=(16, 18))\n",
    "axes = axes.flatten()\n",
    "\n",
    "for i, metric in enumerate(metrics):\n",
    "    ax = axes[i]\n",
    "    sns.boxplot(data=MES_LRvsSR_TidyDF, x=\"Species\", y=metric, hue=\"AsmType\", \n",
    "                palette=[\"#3F84E5\", \"#E85D75\"], ax=ax, fliersize=0)\n",
    "    sns.stripplot(data=MES_LRvsSR_TidyDF, x=\"Species\", y=metric, hue=\"AsmType\", \n",
    "                  dodge=True, linewidth=0, edgecolor='gray', palette=[\"#3F84E5\", \"#E85D75\"], ax=ax)\n",
    "    ax.set_title(metric_labels[metric], fontsize=14)\n",
    "    ax.set_xlabel(\"\")\n",
    "    ax.set_ylabel(metric_labels[metric])\n",
    "    #if i < len(metrics) - 1:  # Remove legend for all but the last plot\n",
    "    ax.get_legend().remove()\n",
    "\n",
    "# Adjust layout and add a single legend\n",
    "#handles, labels = ax.get_legend_handles_labels()\n",
    "#fig.legend(handles, labels, loc='upper right', bbox_to_anchor = (2,1), ncol=4, title=\"Assembly Type\")\n",
    "plt.tight_layout(rect=[0, 0, 1, 0.97])\n",
    "plt.show()"
   ]
  },
  {
   "cell_type": "code",
   "execution_count": null,
   "id": "fe3fd784-0b2b-4e58-9d59-34deb098c988",
   "metadata": {},
   "outputs": [],
   "source": []
  },
  {
   "cell_type": "code",
   "execution_count": null,
   "id": "fd08a7fb-68f8-43f6-80e4-89706a1313d6",
   "metadata": {},
   "outputs": [],
   "source": []
  },
  {
   "cell_type": "code",
   "execution_count": null,
   "id": "f0e188b8-2576-4571-895e-c8f100069d91",
   "metadata": {},
   "outputs": [],
   "source": []
  },
  {
   "cell_type": "code",
   "execution_count": null,
   "id": "2166c42c-1a75-466a-bca9-949b98a203ea",
   "metadata": {},
   "outputs": [],
   "source": []
  },
  {
   "cell_type": "code",
   "execution_count": null,
   "id": "ad31d11e-5be4-4e2f-b6bd-e503119b020a",
   "metadata": {},
   "outputs": [],
   "source": []
  },
  {
   "cell_type": "code",
   "execution_count": null,
   "id": "6bec52a7-5e74-406f-ab31-77bf818f9f4e",
   "metadata": {},
   "outputs": [],
   "source": []
  },
  {
   "cell_type": "code",
   "execution_count": null,
   "id": "76c6647b-1462-4679-b66a-44768c17a119",
   "metadata": {},
   "outputs": [],
   "source": [
    "fig, axs = plt.subplots(3, 2, figsize= (11, 16), sharex=True)\n",
    "#sns.set_context(\"paper\")\n",
    "#sns.set_context(\"paper\", font_scale=2)\n",
    "#sns.set_style(None)\n",
    "sns.set_context(\"poster\", font_scale=1.1)\n",
    "\n",
    "#sns.set()\n",
    "\n",
    "sns.boxplot(y = \"Asm_TotalLen\", x = \"AsmType\", data = MES_LRvsSR_TidyDF,\n",
    "            fliersize=0, ax = axs[0][0], palette = [\"#3F84E5\", \"#E85D75\"], boxprops=dict(alpha=0.7))\n",
    "sns.stripplot(y = \"Asm_TotalLen\", x = \"AsmType\", data = WGA151CI_Asm_LRvsSR_TidyDF,\n",
    "              linewidth=0, edgecolor='gray', ax = axs[0][0], palette = [\"#3F84E5\", \"#E85D75\"])\n",
    "axs[0][0].set_ylabel(\"Cumulative assembly size (bp)\")\n",
    "\n",
    "sns.boxplot(y = \"Asm_NumCDS\", x = \"AsmType\", data = MES_LRvsSR_TidyDF,\n",
    "            fliersize=0, ax = axs[0][1], palette = [\"#3F84E5\", \"#E85D75\"], boxprops=dict(alpha=0.7))\n",
    "sns.stripplot(y = \"Asm_NumCDS\", x = \"AsmType\", data = MES_LRvsSR_TidyDF,\n",
    "              linewidth=0, edgecolor='gray', ax = axs[0][1], palette = [\"#3F84E5\", \"#E85D75\"])\n",
    "axs[0][1].set_ylabel(\"# of annotated CDS\")\n",
    "\n",
    "sns.boxplot(y = \"Asm_N50\", x = \"AsmType\", data = MES_LRvsSR_TidyDF,\n",
    "            fliersize=0, ax = axs[1][0], palette = [\"#3F84E5\", \"#E85D75\"], boxprops=dict(alpha=0.7))\n",
    "sns.stripplot(y = \"Asm_N50\", x = \"AsmType\", data = MES_LRvsSR_TidyDF,\n",
    "              linewidth=0, edgecolor='gray', ax = axs[1][0], palette = [\"#3F84E5\", \"#E85D75\"])\n",
    "axs[1][0].set_ylabel(\"Assembly N50 (bp)\")\n",
    "\n",
    "sns.boxplot(y = \"Asm_Ncontigs\", x = \"AsmType\", data = MES_LRvsSR_TidyDF,\n",
    "            fliersize=0, ax = axs[1][1], palette = [\"#3F84E5\", \"#E85D75\"], boxprops=dict(alpha=0.7))\n",
    "sns.stripplot(y = \"Asm_Ncontigs\", x = \"AsmType\", data = v,\n",
    "              linewidth=0, edgecolor='gray', ax = axs[1][1], palette = [\"#3F84E5\", \"#E85D75\"])\n",
    "axs[1][1].set_ylabel(\"# contigs\")\n",
    "\n",
    "sns.boxplot(y = \"Asm_GCcontent\", x = \"AsmType\", data = MES_LRvsSR_TidyDF,\n",
    "            fliersize=0, ax = axs[2][0], palette = [\"#3F84E5\", \"#E85D75\"], boxprops=dict(alpha=0.7))\n",
    "sns.stripplot(y = \"Asm_GCcontent\", x = \"AsmType\", data = MES_LRvsSR_TidyDF,\n",
    "              linewidth=0, edgecolor='gray', ax = axs[2][0], palette = [\"#3F84E5\", \"#E85D75\"])\n",
    "axs[2][0].set_ylabel(\"Genome GC%\")\n",
    "\n",
    "\n",
    "axs[0][0].set_xlabel(\"\")\n",
    "axs[0][1].set_xlabel(\"\")\n",
    "axs[1][0].set_xlabel(\"\")\n",
    "axs[1][1].set_xlabel(\"\")\n",
    "axs[2][0].set_xlabel(\"\")\n",
    "axs[2][1].set_xlabel(\"\")\n",
    "\n",
    "sns.despine()\n",
    "\n",
    "#plt.savefig(\"Results1_Plots/S2.CompleteVsSR.AsmStats.png\", dpi = 300)\n",
    "#plt.savefig(\"Results1_Plots/S2.CompleteVsSR.AsmStats.svg\")\n",
    "\n",
    "plt.show()\n"
   ]
  },
  {
   "cell_type": "code",
   "execution_count": null,
   "id": "9fa57323-b2bd-4a73-a8f4-01583a9698b3",
   "metadata": {},
   "outputs": [],
   "source": []
  },
  {
   "cell_type": "code",
   "execution_count": null,
   "id": "f78814b3-39f2-4689-b6fa-419f5b7973d2",
   "metadata": {},
   "outputs": [],
   "source": []
  },
  {
   "cell_type": "code",
   "execution_count": null,
   "id": "47b5a9f8-b884-4afc-9724-1355c8835730",
   "metadata": {},
   "outputs": [],
   "source": []
  },
  {
   "cell_type": "code",
   "execution_count": null,
   "id": "d32056f3-6ef7-44f1-8438-77894111b51f",
   "metadata": {},
   "outputs": [],
   "source": []
  },
  {
   "cell_type": "code",
   "execution_count": null,
   "id": "3fc25921-f7e5-46cc-9718-c4daab552ba0",
   "metadata": {},
   "outputs": [],
   "source": []
  },
  {
   "cell_type": "code",
   "execution_count": null,
   "id": "a4976e67-1548-40db-8db0-c6337288159b",
   "metadata": {},
   "outputs": [],
   "source": []
  },
  {
   "cell_type": "code",
   "execution_count": null,
   "id": "beb40eb5-160b-498a-a3b1-b46c44c27a92",
   "metadata": {},
   "outputs": [],
   "source": []
  },
  {
   "cell_type": "code",
   "execution_count": null,
   "id": "01e9e873-daf8-476f-bc32-f8aa77c6be39",
   "metadata": {},
   "outputs": [],
   "source": []
  },
  {
   "cell_type": "code",
   "execution_count": null,
   "id": "97e25a2f-dd6a-4fa2-85ba-8c84825c3514",
   "metadata": {},
   "outputs": [],
   "source": []
  },
  {
   "cell_type": "code",
   "execution_count": 132,
   "id": "3bcd1b57-a13b-48db-bbf4-3b71504b8a2a",
   "metadata": {},
   "outputs": [
    {
     "data": {
      "text/html": [
       "<div>\n",
       "<style scoped>\n",
       "    .dataframe tbody tr th:only-of-type {\n",
       "        vertical-align: middle;\n",
       "    }\n",
       "\n",
       "    .dataframe tbody tr th {\n",
       "        vertical-align: top;\n",
       "    }\n",
       "\n",
       "    .dataframe thead th {\n",
       "        text-align: right;\n",
       "    }\n",
       "</style>\n",
       "<table border=\"1\" class=\"dataframe\">\n",
       "  <thead>\n",
       "    <tr style=\"text-align: right;\">\n",
       "      <th></th>\n",
       "      <th></th>\n",
       "      <th>25%</th>\n",
       "      <th>50%</th>\n",
       "      <th>75%</th>\n",
       "    </tr>\n",
       "    <tr>\n",
       "      <th>Species</th>\n",
       "      <th>AsmType</th>\n",
       "      <th></th>\n",
       "      <th></th>\n",
       "      <th></th>\n",
       "    </tr>\n",
       "  </thead>\n",
       "  <tbody>\n",
       "    <tr>\n",
       "      <th rowspan=\"2\" valign=\"top\">Ecoli</th>\n",
       "      <th>LongRead</th>\n",
       "      <td>4949721.00</td>\n",
       "      <td>5171405.5</td>\n",
       "      <td>5347290.75</td>\n",
       "    </tr>\n",
       "    <tr>\n",
       "      <th>ShortRead</th>\n",
       "      <td>4876901.75</td>\n",
       "      <td>5061643.5</td>\n",
       "      <td>5212460.25</td>\n",
       "    </tr>\n",
       "    <tr>\n",
       "      <th rowspan=\"2\" valign=\"top\">Mtb</th>\n",
       "      <th>LongRead</th>\n",
       "      <td>4407115.50</td>\n",
       "      <td>4413185.0</td>\n",
       "      <td>4420762.00</td>\n",
       "    </tr>\n",
       "    <tr>\n",
       "      <th>ShortRead</th>\n",
       "      <td>4289080.50</td>\n",
       "      <td>4314468.0</td>\n",
       "      <td>4335781.00</td>\n",
       "    </tr>\n",
       "    <tr>\n",
       "      <th rowspan=\"2\" valign=\"top\">Saureus</th>\n",
       "      <th>LongRead</th>\n",
       "      <td>2759938.50</td>\n",
       "      <td>2798712.5</td>\n",
       "      <td>2837675.75</td>\n",
       "    </tr>\n",
       "    <tr>\n",
       "      <th>ShortRead</th>\n",
       "      <td>2709775.25</td>\n",
       "      <td>2753337.5</td>\n",
       "      <td>2787940.75</td>\n",
       "    </tr>\n",
       "  </tbody>\n",
       "</table>\n",
       "</div>"
      ],
      "text/plain": [
       "                          25%        50%         75%\n",
       "Species AsmType                                     \n",
       "Ecoli   LongRead   4949721.00  5171405.5  5347290.75\n",
       "        ShortRead  4876901.75  5061643.5  5212460.25\n",
       "Mtb     LongRead   4407115.50  4413185.0  4420762.00\n",
       "        ShortRead  4289080.50  4314468.0  4335781.00\n",
       "Saureus LongRead   2759938.50  2798712.5  2837675.75\n",
       "        ShortRead  2709775.25  2753337.5  2787940.75"
      ]
     },
     "execution_count": 132,
     "metadata": {},
     "output_type": "execute_result"
    }
   ],
   "source": [
    "MES_LRvsSR_TidyDF.groupby([\"Species\", \"AsmType\"]).describe()[\"Asm_TotalLen\"][[\"25%\",\"50%\",\"75%\"]]"
   ]
  },
  {
   "cell_type": "code",
   "execution_count": 148,
   "id": "1afb2a81-ed76-4612-954b-b801c56eb245",
   "metadata": {},
   "outputs": [
    {
     "data": {
      "text/html": [
       "<div>\n",
       "<style scoped>\n",
       "    .dataframe tbody tr th:only-of-type {\n",
       "        vertical-align: middle;\n",
       "    }\n",
       "\n",
       "    .dataframe tbody tr th {\n",
       "        vertical-align: top;\n",
       "    }\n",
       "\n",
       "    .dataframe thead th {\n",
       "        text-align: right;\n",
       "    }\n",
       "</style>\n",
       "<table border=\"1\" class=\"dataframe\">\n",
       "  <thead>\n",
       "    <tr style=\"text-align: right;\">\n",
       "      <th></th>\n",
       "      <th></th>\n",
       "      <th>Asm_TotalLen</th>\n",
       "      <th>Asm_NumCDS</th>\n",
       "    </tr>\n",
       "    <tr>\n",
       "      <th>Species</th>\n",
       "      <th>AsmType</th>\n",
       "      <th></th>\n",
       "      <th></th>\n",
       "    </tr>\n",
       "  </thead>\n",
       "  <tbody>\n",
       "    <tr>\n",
       "      <th rowspan=\"2\" valign=\"top\">Ecoli</th>\n",
       "      <th>LongRead</th>\n",
       "      <td>5.188887e+06</td>\n",
       "      <td>4866.940000</td>\n",
       "    </tr>\n",
       "    <tr>\n",
       "      <th>ShortRead</th>\n",
       "      <td>5.079807e+06</td>\n",
       "      <td>4751.200000</td>\n",
       "    </tr>\n",
       "    <tr>\n",
       "      <th rowspan=\"2\" valign=\"top\">Mtb</th>\n",
       "      <th>LongRead</th>\n",
       "      <td>4.412729e+06</td>\n",
       "      <td>4077.370861</td>\n",
       "    </tr>\n",
       "    <tr>\n",
       "      <th>ShortRead</th>\n",
       "      <td>4.308387e+06</td>\n",
       "      <td>4031.966887</td>\n",
       "    </tr>\n",
       "    <tr>\n",
       "      <th rowspan=\"2\" valign=\"top\">Saureus</th>\n",
       "      <th>LongRead</th>\n",
       "      <td>2.806825e+06</td>\n",
       "      <td>2590.691176</td>\n",
       "    </tr>\n",
       "    <tr>\n",
       "      <th>ShortRead</th>\n",
       "      <td>2.746150e+06</td>\n",
       "      <td>2550.323529</td>\n",
       "    </tr>\n",
       "  </tbody>\n",
       "</table>\n",
       "</div>"
      ],
      "text/plain": [
       "                   Asm_TotalLen   Asm_NumCDS\n",
       "Species AsmType                             \n",
       "Ecoli   LongRead   5.188887e+06  4866.940000\n",
       "        ShortRead  5.079807e+06  4751.200000\n",
       "Mtb     LongRead   4.412729e+06  4077.370861\n",
       "        ShortRead  4.308387e+06  4031.966887\n",
       "Saureus LongRead   2.806825e+06  2590.691176\n",
       "        ShortRead  2.746150e+06  2550.323529"
      ]
     },
     "execution_count": 148,
     "metadata": {},
     "output_type": "execute_result"
    }
   ],
   "source": [
    "MES_LRvsSR_TidyDF.groupby([\"Species\", \"AsmType\"])[[\"Asm_TotalLen\", \"Asm_NumCDS\"]].mean()"
   ]
  },
  {
   "cell_type": "code",
   "execution_count": 152,
   "id": "0ea72e6a-b397-408a-b0c1-b8dfe35b53e3",
   "metadata": {},
   "outputs": [
    {
     "data": {
      "text/plain": [
       "10434.199999999993"
      ]
     },
     "execution_count": 152,
     "metadata": {},
     "output_type": "execute_result"
    }
   ],
   "source": [
    "(4.412729 - 4.308387) * 100000"
   ]
  },
  {
   "cell_type": "code",
   "execution_count": 153,
   "id": "d1c6eaa8-9d79-47a2-8a75-2cfa7a19a6fd",
   "metadata": {},
   "outputs": [
    {
     "data": {
      "text/plain": [
       "10908.000000000051"
      ]
     },
     "execution_count": 153,
     "metadata": {},
     "output_type": "execute_result"
    }
   ],
   "source": [
    "(5.188887 - 5.079807) * 100000"
   ]
  },
  {
   "cell_type": "code",
   "execution_count": 154,
   "id": "3318e00d-be5a-4018-bfc8-77476d7dc5ce",
   "metadata": {},
   "outputs": [
    {
     "data": {
      "text/plain": [
       "6067.499999999981"
      ]
     },
     "execution_count": 154,
     "metadata": {},
     "output_type": "execute_result"
    }
   ],
   "source": [
    "(2.806825 - 2.746150) * 100000"
   ]
  },
  {
   "cell_type": "code",
   "execution_count": null,
   "id": "2bd1b1e5-889f-48a8-b9cb-2988e797216a",
   "metadata": {},
   "outputs": [],
   "source": []
  },
  {
   "cell_type": "code",
   "execution_count": null,
   "id": "e43dbecc-6af0-4842-a1cf-f9baa97beef2",
   "metadata": {},
   "outputs": [],
   "source": []
  },
  {
   "cell_type": "code",
   "execution_count": null,
   "id": "35d7dc41-9d87-4670-8ef0-41618bcb6987",
   "metadata": {},
   "outputs": [],
   "source": []
  },
  {
   "cell_type": "code",
   "execution_count": null,
   "id": "a539775c-9884-4923-bd2f-eb08106f2fab",
   "metadata": {},
   "outputs": [],
   "source": []
  },
  {
   "cell_type": "code",
   "execution_count": null,
   "id": "05811c58-7a56-42b8-a0ff-eb7acead5c13",
   "metadata": {},
   "outputs": [],
   "source": []
  },
  {
   "cell_type": "code",
   "execution_count": 141,
   "id": "9d3cc0dd-c0ef-4f84-b306-8eb63ecd74a3",
   "metadata": {},
   "outputs": [
    {
     "data": {
      "text/plain": [
       "98717"
      ]
     },
     "execution_count": 141,
     "metadata": {},
     "output_type": "execute_result"
    }
   ],
   "source": [
    "4413185 - 4314468"
   ]
  },
  {
   "cell_type": "code",
   "execution_count": 142,
   "id": "88e22bf3-8c94-453f-82c2-d864c7e071fb",
   "metadata": {},
   "outputs": [
    {
     "data": {
      "text/plain": [
       "109762.0"
      ]
     },
     "execution_count": 142,
     "metadata": {},
     "output_type": "execute_result"
    }
   ],
   "source": [
    "5171405.5 - 5061643.5"
   ]
  },
  {
   "cell_type": "code",
   "execution_count": null,
   "id": "5ace6a4e-bd03-4f22-925d-e4367f0ad5b8",
   "metadata": {},
   "outputs": [],
   "source": []
  },
  {
   "cell_type": "code",
   "execution_count": null,
   "id": "90b067c6-c23c-4431-bcdb-370a6655ca3c",
   "metadata": {},
   "outputs": [],
   "source": []
  },
  {
   "cell_type": "code",
   "execution_count": null,
   "id": "c22d7e8c-3a02-4b99-906b-7ec188efa7d7",
   "metadata": {},
   "outputs": [],
   "source": []
  },
  {
   "cell_type": "code",
   "execution_count": null,
   "id": "e397b2a9-6515-414f-bfaf-d3a762e3f4b4",
   "metadata": {},
   "outputs": [],
   "source": []
  },
  {
   "cell_type": "code",
   "execution_count": null,
   "id": "5dc1a99f-5bae-41f2-bef1-1ac538bbeb09",
   "metadata": {},
   "outputs": [],
   "source": []
  },
  {
   "cell_type": "code",
   "execution_count": null,
   "id": "8b19a511-45e8-417e-aa4f-eaea800b0876",
   "metadata": {},
   "outputs": [],
   "source": []
  },
  {
   "cell_type": "code",
   "execution_count": 129,
   "id": "ee4f3c21-40eb-45a0-be8b-6b8d0302b9cc",
   "metadata": {},
   "outputs": [
    {
     "data": {
      "text/html": [
       "<div>\n",
       "<style scoped>\n",
       "    .dataframe tbody tr th:only-of-type {\n",
       "        vertical-align: middle;\n",
       "    }\n",
       "\n",
       "    .dataframe tbody tr th {\n",
       "        vertical-align: top;\n",
       "    }\n",
       "\n",
       "    .dataframe thead th {\n",
       "        text-align: right;\n",
       "    }\n",
       "</style>\n",
       "<table border=\"1\" class=\"dataframe\">\n",
       "  <thead>\n",
       "    <tr style=\"text-align: right;\">\n",
       "      <th></th>\n",
       "      <th></th>\n",
       "      <th>25%</th>\n",
       "      <th>50%</th>\n",
       "      <th>75%</th>\n",
       "    </tr>\n",
       "    <tr>\n",
       "      <th>Species</th>\n",
       "      <th>AsmType</th>\n",
       "      <th></th>\n",
       "      <th></th>\n",
       "      <th></th>\n",
       "    </tr>\n",
       "  </thead>\n",
       "  <tbody>\n",
       "    <tr>\n",
       "      <th rowspan=\"2\" valign=\"top\">Ecoli</th>\n",
       "      <th>LongRead</th>\n",
       "      <td>2.00</td>\n",
       "      <td>4.0</td>\n",
       "      <td>6.0</td>\n",
       "    </tr>\n",
       "    <tr>\n",
       "      <th>ShortRead</th>\n",
       "      <td>113.75</td>\n",
       "      <td>131.0</td>\n",
       "      <td>197.0</td>\n",
       "    </tr>\n",
       "    <tr>\n",
       "      <th rowspan=\"2\" valign=\"top\">Mtb</th>\n",
       "      <th>LongRead</th>\n",
       "      <td>1.00</td>\n",
       "      <td>1.0</td>\n",
       "      <td>1.0</td>\n",
       "    </tr>\n",
       "    <tr>\n",
       "      <th>ShortRead</th>\n",
       "      <td>105.50</td>\n",
       "      <td>116.0</td>\n",
       "      <td>131.5</td>\n",
       "    </tr>\n",
       "    <tr>\n",
       "      <th rowspan=\"2\" valign=\"top\">Saureus</th>\n",
       "      <th>LongRead</th>\n",
       "      <td>1.00</td>\n",
       "      <td>2.0</td>\n",
       "      <td>2.0</td>\n",
       "    </tr>\n",
       "    <tr>\n",
       "      <th>ShortRead</th>\n",
       "      <td>31.75</td>\n",
       "      <td>46.0</td>\n",
       "      <td>61.5</td>\n",
       "    </tr>\n",
       "  </tbody>\n",
       "</table>\n",
       "</div>"
      ],
      "text/plain": [
       "                      25%    50%    75%\n",
       "Species AsmType                        \n",
       "Ecoli   LongRead     2.00    4.0    6.0\n",
       "        ShortRead  113.75  131.0  197.0\n",
       "Mtb     LongRead     1.00    1.0    1.0\n",
       "        ShortRead  105.50  116.0  131.5\n",
       "Saureus LongRead     1.00    2.0    2.0\n",
       "        ShortRead   31.75   46.0   61.5"
      ]
     },
     "execution_count": 129,
     "metadata": {},
     "output_type": "execute_result"
    }
   ],
   "source": [
    "MES_LRvsSR_TidyDF.groupby([\"Species\", \"AsmType\"]).describe()[\"Asm_Ncontigs\"][[\"25%\",\"50%\",\"75%\"]]"
   ]
  },
  {
   "cell_type": "code",
   "execution_count": 140,
   "id": "f21f2051-87f4-4169-8b99-f3f7931c298e",
   "metadata": {},
   "outputs": [],
   "source": [
    "#MES_LRvsSR_TidyDF.groupby([\"Species\", \"AsmType\"]).describe()[\"Asm_N50\"][[\"25%\",\"50%\",\"75%\"]]"
   ]
  },
  {
   "cell_type": "code",
   "execution_count": 127,
   "id": "fae90ec8-7cec-4054-9e33-8cd9bfdf9754",
   "metadata": {},
   "outputs": [
    {
     "data": {
      "text/html": [
       "<div>\n",
       "<style scoped>\n",
       "    .dataframe tbody tr th:only-of-type {\n",
       "        vertical-align: middle;\n",
       "    }\n",
       "\n",
       "    .dataframe tbody tr th {\n",
       "        vertical-align: top;\n",
       "    }\n",
       "\n",
       "    .dataframe thead th {\n",
       "        text-align: right;\n",
       "    }\n",
       "</style>\n",
       "<table border=\"1\" class=\"dataframe\">\n",
       "  <thead>\n",
       "    <tr style=\"text-align: right;\">\n",
       "      <th></th>\n",
       "      <th></th>\n",
       "      <th>25%</th>\n",
       "      <th>50%</th>\n",
       "      <th>75%</th>\n",
       "    </tr>\n",
       "    <tr>\n",
       "      <th>Species</th>\n",
       "      <th>AsmType</th>\n",
       "      <th></th>\n",
       "      <th></th>\n",
       "      <th></th>\n",
       "    </tr>\n",
       "  </thead>\n",
       "  <tbody>\n",
       "    <tr>\n",
       "      <th rowspan=\"2\" valign=\"top\">Ecoli</th>\n",
       "      <th>LongRead</th>\n",
       "      <td>4619.75</td>\n",
       "      <td>4790.0</td>\n",
       "      <td>4989.25</td>\n",
       "    </tr>\n",
       "    <tr>\n",
       "      <th>ShortRead</th>\n",
       "      <td>4545.25</td>\n",
       "      <td>4701.0</td>\n",
       "      <td>4887.00</td>\n",
       "    </tr>\n",
       "    <tr>\n",
       "      <th rowspan=\"2\" valign=\"top\">Mtb</th>\n",
       "      <th>LongRead</th>\n",
       "      <td>4065.00</td>\n",
       "      <td>4074.0</td>\n",
       "      <td>4088.00</td>\n",
       "    </tr>\n",
       "    <tr>\n",
       "      <th>ShortRead</th>\n",
       "      <td>4022.00</td>\n",
       "      <td>4035.0</td>\n",
       "      <td>4046.00</td>\n",
       "    </tr>\n",
       "    <tr>\n",
       "      <th rowspan=\"2\" valign=\"top\">Saureus</th>\n",
       "      <th>LongRead</th>\n",
       "      <td>2534.50</td>\n",
       "      <td>2572.0</td>\n",
       "      <td>2635.00</td>\n",
       "    </tr>\n",
       "    <tr>\n",
       "      <th>ShortRead</th>\n",
       "      <td>2499.75</td>\n",
       "      <td>2552.5</td>\n",
       "      <td>2589.00</td>\n",
       "    </tr>\n",
       "  </tbody>\n",
       "</table>\n",
       "</div>"
      ],
      "text/plain": [
       "                       25%     50%      75%\n",
       "Species AsmType                            \n",
       "Ecoli   LongRead   4619.75  4790.0  4989.25\n",
       "        ShortRead  4545.25  4701.0  4887.00\n",
       "Mtb     LongRead   4065.00  4074.0  4088.00\n",
       "        ShortRead  4022.00  4035.0  4046.00\n",
       "Saureus LongRead   2534.50  2572.0  2635.00\n",
       "        ShortRead  2499.75  2552.5  2589.00"
      ]
     },
     "execution_count": 127,
     "metadata": {},
     "output_type": "execute_result"
    }
   ],
   "source": [
    "MES_LRvsSR_TidyDF.groupby([\"Species\", \"AsmType\"]).describe()[\"Asm_NumCDS\"][[\"25%\",\"50%\",\"75%\"]]"
   ]
  },
  {
   "cell_type": "code",
   "execution_count": 126,
   "id": "70c6f0b9-1331-4d61-8b2a-dd9aa27513eb",
   "metadata": {},
   "outputs": [
    {
     "data": {
      "text/html": [
       "<div>\n",
       "<style scoped>\n",
       "    .dataframe tbody tr th:only-of-type {\n",
       "        vertical-align: middle;\n",
       "    }\n",
       "\n",
       "    .dataframe tbody tr th {\n",
       "        vertical-align: top;\n",
       "    }\n",
       "\n",
       "    .dataframe thead th {\n",
       "        text-align: right;\n",
       "    }\n",
       "</style>\n",
       "<table border=\"1\" class=\"dataframe\">\n",
       "  <thead>\n",
       "    <tr style=\"text-align: right;\">\n",
       "      <th></th>\n",
       "      <th></th>\n",
       "      <th>25%</th>\n",
       "      <th>50%</th>\n",
       "      <th>75%</th>\n",
       "    </tr>\n",
       "    <tr>\n",
       "      <th>Species</th>\n",
       "      <th>AsmType</th>\n",
       "      <th></th>\n",
       "      <th></th>\n",
       "      <th></th>\n",
       "    </tr>\n",
       "  </thead>\n",
       "  <tbody>\n",
       "    <tr>\n",
       "      <th rowspan=\"2\" valign=\"top\">Ecoli</th>\n",
       "      <th>LongRead</th>\n",
       "      <td>50.4</td>\n",
       "      <td>50.55</td>\n",
       "      <td>50.6</td>\n",
       "    </tr>\n",
       "    <tr>\n",
       "      <th>ShortRead</th>\n",
       "      <td>50.4</td>\n",
       "      <td>50.50</td>\n",
       "      <td>50.6</td>\n",
       "    </tr>\n",
       "    <tr>\n",
       "      <th rowspan=\"2\" valign=\"top\">Mtb</th>\n",
       "      <th>LongRead</th>\n",
       "      <td>65.6</td>\n",
       "      <td>65.60</td>\n",
       "      <td>65.6</td>\n",
       "    </tr>\n",
       "    <tr>\n",
       "      <th>ShortRead</th>\n",
       "      <td>65.5</td>\n",
       "      <td>65.50</td>\n",
       "      <td>65.6</td>\n",
       "    </tr>\n",
       "    <tr>\n",
       "      <th rowspan=\"2\" valign=\"top\">Saureus</th>\n",
       "      <th>LongRead</th>\n",
       "      <td>32.8</td>\n",
       "      <td>32.80</td>\n",
       "      <td>32.9</td>\n",
       "    </tr>\n",
       "    <tr>\n",
       "      <th>ShortRead</th>\n",
       "      <td>32.7</td>\n",
       "      <td>32.70</td>\n",
       "      <td>32.8</td>\n",
       "    </tr>\n",
       "  </tbody>\n",
       "</table>\n",
       "</div>"
      ],
      "text/plain": [
       "                    25%    50%   75%\n",
       "Species AsmType                     \n",
       "Ecoli   LongRead   50.4  50.55  50.6\n",
       "        ShortRead  50.4  50.50  50.6\n",
       "Mtb     LongRead   65.6  65.60  65.6\n",
       "        ShortRead  65.5  65.50  65.6\n",
       "Saureus LongRead   32.8  32.80  32.9\n",
       "        ShortRead  32.7  32.70  32.8"
      ]
     },
     "execution_count": 126,
     "metadata": {},
     "output_type": "execute_result"
    }
   ],
   "source": [
    "MES_LRvsSR_TidyDF.groupby([\"Species\", \"AsmType\"]).describe()[\"Asm_GCcontent\"][[\"25%\",\"50%\",\"75%\"]]"
   ]
  },
  {
   "cell_type": "code",
   "execution_count": null,
   "id": "41062e6d-92e3-4557-b2ea-371dec2eac53",
   "metadata": {},
   "outputs": [],
   "source": []
  },
  {
   "cell_type": "code",
   "execution_count": null,
   "id": "10827ad9-7587-4715-a460-14eae67d0032",
   "metadata": {},
   "outputs": [],
   "source": []
  },
  {
   "cell_type": "code",
   "execution_count": null,
   "id": "788e6e27-90de-4796-a2fe-0870325b6b3f",
   "metadata": {},
   "outputs": [],
   "source": []
  },
  {
   "cell_type": "code",
   "execution_count": null,
   "id": "517e6784-f59c-4d5e-ab27-9a9a61d469bf",
   "metadata": {},
   "outputs": [],
   "source": []
  },
  {
   "cell_type": "code",
   "execution_count": 135,
   "id": "4c53236b-4bc2-4c7f-be84-201575ad7b8e",
   "metadata": {},
   "outputs": [
    {
     "data": {
      "text/html": [
       "<div>\n",
       "<style scoped>\n",
       "    .dataframe tbody tr th:only-of-type {\n",
       "        vertical-align: middle;\n",
       "    }\n",
       "\n",
       "    .dataframe tbody tr th {\n",
       "        vertical-align: top;\n",
       "    }\n",
       "\n",
       "    .dataframe thead th {\n",
       "        text-align: right;\n",
       "    }\n",
       "</style>\n",
       "<table border=\"1\" class=\"dataframe\">\n",
       "  <thead>\n",
       "    <tr style=\"text-align: right;\">\n",
       "      <th></th>\n",
       "      <th></th>\n",
       "      <th>25%</th>\n",
       "      <th>50%</th>\n",
       "      <th>75%</th>\n",
       "    </tr>\n",
       "    <tr>\n",
       "      <th>Species</th>\n",
       "      <th>AsmType</th>\n",
       "      <th></th>\n",
       "      <th></th>\n",
       "      <th></th>\n",
       "    </tr>\n",
       "  </thead>\n",
       "  <tbody>\n",
       "    <tr>\n",
       "      <th>Ecoli</th>\n",
       "      <th>ShortRead</th>\n",
       "      <td>4876901.75</td>\n",
       "      <td>5061643.5</td>\n",
       "      <td>5212460.25</td>\n",
       "    </tr>\n",
       "    <tr>\n",
       "      <th>Mtb</th>\n",
       "      <th>ShortRead</th>\n",
       "      <td>4289080.50</td>\n",
       "      <td>4314468.0</td>\n",
       "      <td>4335781.00</td>\n",
       "    </tr>\n",
       "    <tr>\n",
       "      <th>Saureus</th>\n",
       "      <th>ShortRead</th>\n",
       "      <td>2709775.25</td>\n",
       "      <td>2753337.5</td>\n",
       "      <td>2787940.75</td>\n",
       "    </tr>\n",
       "  </tbody>\n",
       "</table>\n",
       "</div>"
      ],
      "text/plain": [
       "                          25%        50%         75%\n",
       "Species AsmType                                     \n",
       "Ecoli   ShortRead  4876901.75  5061643.5  5212460.25\n",
       "Mtb     ShortRead  4289080.50  4314468.0  4335781.00\n",
       "Saureus ShortRead  2709775.25  2753337.5  2787940.75"
      ]
     },
     "execution_count": 135,
     "metadata": {},
     "output_type": "execute_result"
    }
   ],
   "source": [
    "MES_SR_TidyDF.groupby([\"Species\", \"AsmType\"]).describe()[\"Asm_TotalLen\"][[\"25%\",\"50%\",\"75%\"]]"
   ]
  },
  {
   "cell_type": "code",
   "execution_count": 136,
   "id": "cdaf1093-5722-46f9-84bc-2d37012a18bd",
   "metadata": {},
   "outputs": [
    {
     "data": {
      "text/html": [
       "<div>\n",
       "<style scoped>\n",
       "    .dataframe tbody tr th:only-of-type {\n",
       "        vertical-align: middle;\n",
       "    }\n",
       "\n",
       "    .dataframe tbody tr th {\n",
       "        vertical-align: top;\n",
       "    }\n",
       "\n",
       "    .dataframe thead th {\n",
       "        text-align: right;\n",
       "    }\n",
       "</style>\n",
       "<table border=\"1\" class=\"dataframe\">\n",
       "  <thead>\n",
       "    <tr style=\"text-align: right;\">\n",
       "      <th></th>\n",
       "      <th></th>\n",
       "      <th>25%</th>\n",
       "      <th>50%</th>\n",
       "      <th>75%</th>\n",
       "    </tr>\n",
       "    <tr>\n",
       "      <th>Species</th>\n",
       "      <th>AsmType</th>\n",
       "      <th></th>\n",
       "      <th></th>\n",
       "      <th></th>\n",
       "    </tr>\n",
       "  </thead>\n",
       "  <tbody>\n",
       "    <tr>\n",
       "      <th>Ecoli</th>\n",
       "      <th>ShortRead</th>\n",
       "      <td>113.75</td>\n",
       "      <td>131.0</td>\n",
       "      <td>197.0</td>\n",
       "    </tr>\n",
       "    <tr>\n",
       "      <th>Mtb</th>\n",
       "      <th>ShortRead</th>\n",
       "      <td>105.50</td>\n",
       "      <td>116.0</td>\n",
       "      <td>131.5</td>\n",
       "    </tr>\n",
       "    <tr>\n",
       "      <th>Saureus</th>\n",
       "      <th>ShortRead</th>\n",
       "      <td>31.75</td>\n",
       "      <td>46.0</td>\n",
       "      <td>61.5</td>\n",
       "    </tr>\n",
       "  </tbody>\n",
       "</table>\n",
       "</div>"
      ],
      "text/plain": [
       "                      25%    50%    75%\n",
       "Species AsmType                        \n",
       "Ecoli   ShortRead  113.75  131.0  197.0\n",
       "Mtb     ShortRead  105.50  116.0  131.5\n",
       "Saureus ShortRead   31.75   46.0   61.5"
      ]
     },
     "execution_count": 136,
     "metadata": {},
     "output_type": "execute_result"
    }
   ],
   "source": [
    "MES_SR_TidyDF.groupby([\"Species\", \"AsmType\"]).describe()[\"Asm_Ncontigs\"][[\"25%\",\"50%\",\"75%\"]]"
   ]
  },
  {
   "cell_type": "code",
   "execution_count": 137,
   "id": "748246a3-c255-420f-b37c-daf0e2dd9c59",
   "metadata": {},
   "outputs": [
    {
     "data": {
      "text/html": [
       "<div>\n",
       "<style scoped>\n",
       "    .dataframe tbody tr th:only-of-type {\n",
       "        vertical-align: middle;\n",
       "    }\n",
       "\n",
       "    .dataframe tbody tr th {\n",
       "        vertical-align: top;\n",
       "    }\n",
       "\n",
       "    .dataframe thead th {\n",
       "        text-align: right;\n",
       "    }\n",
       "</style>\n",
       "<table border=\"1\" class=\"dataframe\">\n",
       "  <thead>\n",
       "    <tr style=\"text-align: right;\">\n",
       "      <th></th>\n",
       "      <th></th>\n",
       "      <th>25%</th>\n",
       "      <th>50%</th>\n",
       "      <th>75%</th>\n",
       "    </tr>\n",
       "    <tr>\n",
       "      <th>Species</th>\n",
       "      <th>AsmType</th>\n",
       "      <th></th>\n",
       "      <th></th>\n",
       "      <th></th>\n",
       "    </tr>\n",
       "  </thead>\n",
       "  <tbody>\n",
       "    <tr>\n",
       "      <th>Ecoli</th>\n",
       "      <th>ShortRead</th>\n",
       "      <td>136628.00</td>\n",
       "      <td>195558.5</td>\n",
       "      <td>225380.25</td>\n",
       "    </tr>\n",
       "    <tr>\n",
       "      <th>Mtb</th>\n",
       "      <th>ShortRead</th>\n",
       "      <td>73046.50</td>\n",
       "      <td>92078.0</td>\n",
       "      <td>107113.50</td>\n",
       "    </tr>\n",
       "    <tr>\n",
       "      <th>Saureus</th>\n",
       "      <th>ShortRead</th>\n",
       "      <td>130914.75</td>\n",
       "      <td>190728.5</td>\n",
       "      <td>320868.75</td>\n",
       "    </tr>\n",
       "  </tbody>\n",
       "</table>\n",
       "</div>"
      ],
      "text/plain": [
       "                         25%       50%        75%\n",
       "Species AsmType                                  \n",
       "Ecoli   ShortRead  136628.00  195558.5  225380.25\n",
       "Mtb     ShortRead   73046.50   92078.0  107113.50\n",
       "Saureus ShortRead  130914.75  190728.5  320868.75"
      ]
     },
     "execution_count": 137,
     "metadata": {},
     "output_type": "execute_result"
    }
   ],
   "source": [
    "MES_SR_TidyDF.groupby([\"Species\", \"AsmType\"]).describe()[\"Asm_N50\"][[\"25%\",\"50%\",\"75%\"]]"
   ]
  },
  {
   "cell_type": "code",
   "execution_count": 138,
   "id": "73bb968a-87e2-41c4-997b-7cff96425f78",
   "metadata": {},
   "outputs": [
    {
     "data": {
      "text/html": [
       "<div>\n",
       "<style scoped>\n",
       "    .dataframe tbody tr th:only-of-type {\n",
       "        vertical-align: middle;\n",
       "    }\n",
       "\n",
       "    .dataframe tbody tr th {\n",
       "        vertical-align: top;\n",
       "    }\n",
       "\n",
       "    .dataframe thead th {\n",
       "        text-align: right;\n",
       "    }\n",
       "</style>\n",
       "<table border=\"1\" class=\"dataframe\">\n",
       "  <thead>\n",
       "    <tr style=\"text-align: right;\">\n",
       "      <th></th>\n",
       "      <th></th>\n",
       "      <th>25%</th>\n",
       "      <th>50%</th>\n",
       "      <th>75%</th>\n",
       "    </tr>\n",
       "    <tr>\n",
       "      <th>Species</th>\n",
       "      <th>AsmType</th>\n",
       "      <th></th>\n",
       "      <th></th>\n",
       "      <th></th>\n",
       "    </tr>\n",
       "  </thead>\n",
       "  <tbody>\n",
       "    <tr>\n",
       "      <th>Ecoli</th>\n",
       "      <th>ShortRead</th>\n",
       "      <td>4545.25</td>\n",
       "      <td>4701.0</td>\n",
       "      <td>4887.0</td>\n",
       "    </tr>\n",
       "    <tr>\n",
       "      <th>Mtb</th>\n",
       "      <th>ShortRead</th>\n",
       "      <td>4022.00</td>\n",
       "      <td>4035.0</td>\n",
       "      <td>4046.0</td>\n",
       "    </tr>\n",
       "    <tr>\n",
       "      <th>Saureus</th>\n",
       "      <th>ShortRead</th>\n",
       "      <td>2499.75</td>\n",
       "      <td>2552.5</td>\n",
       "      <td>2589.0</td>\n",
       "    </tr>\n",
       "  </tbody>\n",
       "</table>\n",
       "</div>"
      ],
      "text/plain": [
       "                       25%     50%     75%\n",
       "Species AsmType                           \n",
       "Ecoli   ShortRead  4545.25  4701.0  4887.0\n",
       "Mtb     ShortRead  4022.00  4035.0  4046.0\n",
       "Saureus ShortRead  2499.75  2552.5  2589.0"
      ]
     },
     "execution_count": 138,
     "metadata": {},
     "output_type": "execute_result"
    }
   ],
   "source": [
    "MES_SR_TidyDF.groupby([\"Species\", \"AsmType\"]).describe()[\"Asm_NumCDS\"][[\"25%\",\"50%\",\"75%\"]]"
   ]
  },
  {
   "cell_type": "code",
   "execution_count": 139,
   "id": "acf0d1e3-1ef6-4aac-ad7f-cec689374380",
   "metadata": {},
   "outputs": [
    {
     "data": {
      "text/html": [
       "<div>\n",
       "<style scoped>\n",
       "    .dataframe tbody tr th:only-of-type {\n",
       "        vertical-align: middle;\n",
       "    }\n",
       "\n",
       "    .dataframe tbody tr th {\n",
       "        vertical-align: top;\n",
       "    }\n",
       "\n",
       "    .dataframe thead th {\n",
       "        text-align: right;\n",
       "    }\n",
       "</style>\n",
       "<table border=\"1\" class=\"dataframe\">\n",
       "  <thead>\n",
       "    <tr style=\"text-align: right;\">\n",
       "      <th></th>\n",
       "      <th></th>\n",
       "      <th>25%</th>\n",
       "      <th>50%</th>\n",
       "      <th>75%</th>\n",
       "    </tr>\n",
       "    <tr>\n",
       "      <th>Species</th>\n",
       "      <th>AsmType</th>\n",
       "      <th></th>\n",
       "      <th></th>\n",
       "      <th></th>\n",
       "    </tr>\n",
       "  </thead>\n",
       "  <tbody>\n",
       "    <tr>\n",
       "      <th>Ecoli</th>\n",
       "      <th>ShortRead</th>\n",
       "      <td>50.4</td>\n",
       "      <td>50.5</td>\n",
       "      <td>50.6</td>\n",
       "    </tr>\n",
       "    <tr>\n",
       "      <th>Mtb</th>\n",
       "      <th>ShortRead</th>\n",
       "      <td>65.5</td>\n",
       "      <td>65.5</td>\n",
       "      <td>65.6</td>\n",
       "    </tr>\n",
       "    <tr>\n",
       "      <th>Saureus</th>\n",
       "      <th>ShortRead</th>\n",
       "      <td>32.7</td>\n",
       "      <td>32.7</td>\n",
       "      <td>32.8</td>\n",
       "    </tr>\n",
       "  </tbody>\n",
       "</table>\n",
       "</div>"
      ],
      "text/plain": [
       "                    25%   50%   75%\n",
       "Species AsmType                    \n",
       "Ecoli   ShortRead  50.4  50.5  50.6\n",
       "Mtb     ShortRead  65.5  65.5  65.6\n",
       "Saureus ShortRead  32.7  32.7  32.8"
      ]
     },
     "execution_count": 139,
     "metadata": {},
     "output_type": "execute_result"
    }
   ],
   "source": [
    "MES_SR_TidyDF.groupby([\"Species\", \"AsmType\"]).describe()[\"Asm_GCcontent\"][[\"25%\",\"50%\",\"75%\"]]"
   ]
  },
  {
   "cell_type": "code",
   "execution_count": null,
   "id": "2faf237d-a1a3-4651-a516-7437622b8117",
   "metadata": {},
   "outputs": [],
   "source": []
  },
  {
   "cell_type": "code",
   "execution_count": null,
   "id": "72005da9-e741-48f5-9bc2-f17d47e5700c",
   "metadata": {},
   "outputs": [],
   "source": []
  },
  {
   "cell_type": "code",
   "execution_count": null,
   "id": "461b1bf0-bb22-45ad-8b4f-60e666eb6f9b",
   "metadata": {},
   "outputs": [],
   "source": []
  },
  {
   "cell_type": "code",
   "execution_count": null,
   "id": "e6d16831-fb90-43e6-95fa-de4b0933c37d",
   "metadata": {},
   "outputs": [],
   "source": []
  },
  {
   "cell_type": "code",
   "execution_count": null,
   "id": "d3500d23-68cc-4686-b7cb-9173f06ec621",
   "metadata": {},
   "outputs": [],
   "source": []
  },
  {
   "cell_type": "code",
   "execution_count": 103,
   "id": "88f66538-8d91-45ea-8e28-72210ce315c6",
   "metadata": {},
   "outputs": [],
   "source": [
    "#!ls -1 /n/data1/hms/dbmi/farhat/mm774/Projects/230905_Ecoli_PG_Analysis/SMK_OutDirs/231011_Ecoli_Shaw2021_5OI_V1\n"
   ]
  },
  {
   "cell_type": "code",
   "execution_count": null,
   "id": "518ed836-4c37-4232-aa9d-3ddbe7227d3b",
   "metadata": {},
   "outputs": [],
   "source": []
  },
  {
   "cell_type": "code",
   "execution_count": null,
   "id": "f62a573b-9abf-41dd-9bb6-3ea6c4634506",
   "metadata": {},
   "outputs": [],
   "source": []
  },
  {
   "cell_type": "code",
   "execution_count": 86,
   "id": "76c16241-6cde-415f-844d-3898c6f5394d",
   "metadata": {},
   "outputs": [
    {
     "name": "stdout",
     "output_type": "stream",
     "text": [
      "ls: cannot access /n/data1/hms/dbmi/farhat/mm774/Projects/230905_Ecoli_PG_Analysis/SMK_OutDirs/231011_Ecoli_Shaw2021_5OI_V1/AsmAnalysis/GCA_014109125/GenomeAnnotation/GCA_014109125_SR_Asm_Bakta/GCA_013602835: No such file or directory\n"
     ]
    }
   ],
   "source": [
    "!ls -1 /n/data1/hms/dbmi/farhat/mm774/Projects/230905_Ecoli_PG_Analysis/SMK_OutDirs/231011_Ecoli_Shaw2021_5OI_V1/AsmAnalysis/GCA_014109125/GenomeAnnotation/GCA_014109125_SR_Asm_Bakta/GCA_013602835\n",
    "\n"
   ]
  },
  {
   "cell_type": "code",
   "execution_count": 92,
   "id": "35641af4-2aac-4a1d-9fb2-03355e8d0539",
   "metadata": {},
   "outputs": [
    {
     "name": "stdout",
     "output_type": "stream",
     "text": [
      "GCA_013602835_Asm_Bakta\n"
     ]
    }
   ],
   "source": [
    "!ls -1 /n/data1/hms/dbmi/farhat/mm774/Projects/230905_Ecoli_PG_Analysis/SMK_OutDirs/231011_Ecoli_Shaw2021_5OI_V1/SR_DataProcessing/GCA_013602835/GenomeAnnotation\n",
    "\n"
   ]
  },
  {
   "cell_type": "code",
   "execution_count": null,
   "id": "64d81f99-33bc-4553-86c0-d92cb7c9a889",
   "metadata": {},
   "outputs": [],
   "source": []
  },
  {
   "cell_type": "code",
   "execution_count": null,
   "id": "a5e9a8b2-c00a-471f-9f4f-670e20d69d30",
   "metadata": {},
   "outputs": [],
   "source": []
  },
  {
   "cell_type": "code",
   "execution_count": null,
   "id": "eab1274d-90f2-4698-8184-987254004863",
   "metadata": {},
   "outputs": [],
   "source": []
  }
 ],
 "metadata": {
  "kernelspec": {
   "display_name": "bfds-v1-miniforge",
   "language": "python",
   "name": "bfds-v1-miniforge"
  },
  "language_info": {
   "codemirror_mode": {
    "name": "ipython",
    "version": 3
   },
   "file_extension": ".py",
   "mimetype": "text/x-python",
   "name": "python",
   "nbconvert_exporter": "python",
   "pygments_lexer": "ipython3",
   "version": "3.10.14"
  }
 },
 "nbformat": 4,
 "nbformat_minor": 5
}
