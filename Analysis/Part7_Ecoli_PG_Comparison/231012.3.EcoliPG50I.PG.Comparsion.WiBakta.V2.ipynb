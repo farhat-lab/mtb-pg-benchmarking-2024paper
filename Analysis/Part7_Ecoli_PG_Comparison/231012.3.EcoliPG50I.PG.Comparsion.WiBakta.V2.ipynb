{
 "cells": [
  {
   "cell_type": "markdown",
   "id": "d999a1f7-2a37-469c-a0e5-7620bf2ab0c1",
   "metadata": {},
   "source": [
    "# Comparing Pangenome pipeline predictions - Shaw2021 - 50 e. coli genomes"
   ]
  },
  {
   "cell_type": "markdown",
   "id": "774155fc-86a8-49cb-a9ff-953f02c365ff",
   "metadata": {
    "toc-hr-collapsed": true
   },
   "source": [
    "### Import Statements"
   ]
  },
  {
   "cell_type": "code",
   "execution_count": 18,
   "id": "dc8511b1-c7c2-46a0-8375-47f24a479d12",
   "metadata": {},
   "outputs": [],
   "source": [
    "import numpy as np\n",
    "import pandas as pd\n",
    "import vcf\n",
    "from tqdm import tqdm\n",
    "import matplotlib.pyplot as plt\n",
    "import seaborn as sns\n",
    "import pickle\n",
    "import scipy.stats\n",
    "\n",
    "%matplotlib inline"
   ]
  },
  {
   "cell_type": "code",
   "execution_count": null,
   "id": "09fb9fa2-fdb7-45d3-9b7d-aa4f0973f35b",
   "metadata": {},
   "outputs": [],
   "source": []
  },
  {
   "cell_type": "markdown",
   "id": "069864d1-343f-402d-bcdb-9b2fd9c70703",
   "metadata": {},
   "source": [
    "#### Pandas Viewing Settings"
   ]
  },
  {
   "cell_type": "code",
   "execution_count": 19,
   "id": "f0bc9f4b-b84c-48ce-9429-73b512716f70",
   "metadata": {},
   "outputs": [],
   "source": [
    "pd.set_option('display.max_rows', 500)\n",
    "pd.set_option('display.max_columns', 500)\n",
    "pd.set_option('display.width', 1000)"
   ]
  },
  {
   "cell_type": "code",
   "execution_count": null,
   "id": "31c27e09-dc1c-48ed-884b-1e28d72b4db6",
   "metadata": {},
   "outputs": [],
   "source": []
  },
  {
   "cell_type": "code",
   "execution_count": 20,
   "id": "a99145e9-aa3c-41f4-b170-a1d13ba70db5",
   "metadata": {},
   "outputs": [],
   "source": [
    "\n",
    "def read_PanarooSummaryStats(input_Panaroo_SummaryStats_TXT):\n",
    "    \n",
    "    i_Panaroo_Stats_DF = pd.read_csv(input_Panaroo_SummaryStats_TXT, sep = \"\\t\", header=None)\n",
    "    i_Panaroo_Stats_DF.columns = [\"Category\", \"Range\", \"GeneCount\"]\n",
    "\n",
    "    Acc_GenesCount = i_Panaroo_Stats_DF[\"GeneCount\"].values[-1] - i_Panaroo_Stats_DF[\"GeneCount\"].values[0]\n",
    "\n",
    "    i_Panaroo_AccGenesRow = [\"Accessory genes\",\"(0% <= strains < 99%)\", Acc_GenesCount]\n",
    "\n",
    "    i_Panaroo_Stats_DF.loc[len(i_Panaroo_Stats_DF.index)] = i_Panaroo_AccGenesRow\n",
    "\n",
    "    #listOfCat_ToKeep = [\"Core genes\", \"Accessory Genes\", \"Total genes\"]\n",
    "\n",
    "    i_Panaroo_Stats_DF = i_Panaroo_Stats_DF[ i_Panaroo_Stats_DF[\"Category\"].isin(listOfCat_ToKeep)]   \n",
    "\n",
    "    # https://www.statology.org/pandas-add-row-to-dataframe/#:~:text=You%20can%20use%20the%20df,loc%5Blen(df. \n",
    "\n",
    "    return i_Panaroo_Stats_DF"
   ]
  },
  {
   "cell_type": "code",
   "execution_count": 21,
   "id": "c2e7163b-c19a-4504-8bed-25af76a519f0",
   "metadata": {},
   "outputs": [],
   "source": [
    "def read_Ppanggolin_ContextStats(i_Ppanggolin_Default_Content_TXT):\n",
    "    with open(i_Ppanggolin_Default_Content_TXT, \"r\") as f:\n",
    "\n",
    "        #NumCoreGenes = -1\n",
    "        #NumShellGenes = -1\n",
    "        #NumCloudGenes = -1\n",
    "        for line in f:\n",
    "            line_split = line.split(\": \")\n",
    "\n",
    "            Key = line_split[0].split(\" (\")[0]\n",
    "            Value = line_split[-1].strip()\n",
    "\n",
    "            if Key == \"Persistent\": NumCoreGenes = int(Value)\n",
    "            elif Key == \"Shell\": NumShellGenes = int(Value)\n",
    "            elif Key == \"Cloud\": NumCloudGenes = int(Value)\n",
    "\n",
    "        NumAccessoryGenes = NumShellGenes + NumCloudGenes\n",
    "        NumTotalGenes = NumCoreGenes + NumAccessoryGenes\n",
    "\n",
    "    listOf_PG_Rows = []\n",
    "    listOf_PG_Rows.append( (\"Total genes\", \"(0% <= strains <= 100%)\", NumTotalGenes) )\n",
    "    listOf_PG_Rows.append( (\"Accessory genes\", \"(0% <= strains < 99%)\", NumAccessoryGenes) )\n",
    "    listOf_PG_Rows.append( (\"Core genes\", \"(99% <= strains <= 100%)\", NumCoreGenes) )\n",
    "\n",
    "    PPanggolin_Summary_DF = pd.DataFrame(listOf_PG_Rows)\n",
    "    PPanggolin_Summary_DF.columns = [\"Category\", \"Range\", \"GeneCount\"]\n",
    "    \n",
    "    return PPanggolin_Summary_DF"
   ]
  },
  {
   "cell_type": "code",
   "execution_count": null,
   "id": "d401b2f5-74e0-446e-b2c3-652d4277bb13",
   "metadata": {},
   "outputs": [],
   "source": []
  },
  {
   "cell_type": "code",
   "execution_count": null,
   "id": "03be6486-370c-4863-b32b-16ac5dc53e0f",
   "metadata": {},
   "outputs": [],
   "source": []
  },
  {
   "cell_type": "code",
   "execution_count": null,
   "id": "001686ee-9195-4f3f-9f78-37cf850c32cb",
   "metadata": {},
   "outputs": [],
   "source": []
  },
  {
   "cell_type": "code",
   "execution_count": null,
   "id": "0bcce672-dcf4-4af5-a265-da3ace14d7d6",
   "metadata": {},
   "outputs": [],
   "source": []
  },
  {
   "cell_type": "markdown",
   "id": "dd124242-7e09-4bca-b2c8-bf886db9aa8a",
   "metadata": {},
   "source": [
    "## Define paths to sample metadata files & key directories"
   ]
  },
  {
   "cell_type": "code",
   "execution_count": 22,
   "id": "6f744ad0-2b65-4010-92b9-3f8b69523f9a",
   "metadata": {},
   "outputs": [],
   "source": [
    "\n",
    "Proj_MainDir = \"/n/data1/hms/dbmi/farhat/mm774/Projects\"\n",
    "\n",
    "Ecoli_PG_MainDir = f\"{Proj_MainDir}/230905_Ecoli_PG_Analysis\"  \n",
    "\n",
    "Data_MainDir = f\"{Ecoli_PG_MainDir}/Data\"  \n",
    "\n",
    "#RefSeq_20Asm_Dir = f\"{Data_MainDir}/NCBI.RefSeq.20.EcoliGenomes.dataset/data\"\n",
    "\n",
    "Shaw2021_50Asm_Dir = f\"{Data_MainDir}/Shaw2021.50Genomes.Data/data\"\n",
    "\n",
    "Shaw2021_Meta_TSV = f\"{Data_MainDir}/Shaw2021.SelectedIsolates.50I.tsv\"  \n",
    "\n",
    "input_FA_PATH_TSVs_Dir = f\"{Ecoli_PG_MainDir}/input_PATH_SMK_TSVs\"\n",
    "\n",
    "Shaw2021_Ecoli_50Asm_Meta_TSV = f\"{input_FA_PATH_TSVs_Dir}/231011.Shaw2021.Ecoli.50I.MetaData.tsv\"\n"
   ]
  },
  {
   "cell_type": "markdown",
   "id": "e0741431-104f-4771-ab20-3993fe3d7828",
   "metadata": {},
   "source": [
    "## Parse in metadata DFs"
   ]
  },
  {
   "cell_type": "code",
   "execution_count": 23,
   "id": "8fb8b160-861e-4046-a0d5-f31e14999273",
   "metadata": {},
   "outputs": [
    {
     "data": {
      "text/plain": [
       "(50, 24)"
      ]
     },
     "execution_count": 23,
     "metadata": {},
     "output_type": "execute_result"
    }
   ],
   "source": [
    "Shaw_50A_Info_DF = pd.read_csv(Shaw2021_Ecoli_50Asm_Meta_TSV, sep = \"\\t\")\n",
    "Shaw_50A_Info_DF.shape"
   ]
  },
  {
   "cell_type": "markdown",
   "id": "7a20c29f-3f49-44bc-82c7-dc7581c411d7",
   "metadata": {},
   "source": [
    "### Define list of SampleIDs"
   ]
  },
  {
   "cell_type": "code",
   "execution_count": 24,
   "id": "a64a2a8e-a300-419d-82ef-693e08db1e1a",
   "metadata": {},
   "outputs": [
    {
     "data": {
      "text/html": [
       "<div>\n",
       "<style scoped>\n",
       "    .dataframe tbody tr th:only-of-type {\n",
       "        vertical-align: middle;\n",
       "    }\n",
       "\n",
       "    .dataframe tbody tr th {\n",
       "        vertical-align: top;\n",
       "    }\n",
       "\n",
       "    .dataframe thead th {\n",
       "        text-align: right;\n",
       "    }\n",
       "</style>\n",
       "<table border=\"1\" class=\"dataframe\">\n",
       "  <thead>\n",
       "    <tr style=\"text-align: right;\">\n",
       "      <th></th>\n",
       "      <th>Isolate</th>\n",
       "      <th>Biosample Accession</th>\n",
       "      <th>Short Reads Accession</th>\n",
       "      <th>Long Reads Accession</th>\n",
       "      <th>Assembly Accession</th>\n",
       "      <th>Animal or WwTW</th>\n",
       "      <th>Isolate source information</th>\n",
       "      <th>Timepoint</th>\n",
       "      <th>Niche</th>\n",
       "      <th>Niche.2</th>\n",
       "      <th>Location</th>\n",
       "      <th>Genus</th>\n",
       "      <th>Species</th>\n",
       "      <th>ST assignment</th>\n",
       "      <th>Circularised plasmids</th>\n",
       "      <th>Number of contigs</th>\n",
       "      <th>Circularised chromosome (1=yes)</th>\n",
       "      <th>Total genome size (bp)</th>\n",
       "      <th>Chromosome GC (if known)</th>\n",
       "      <th>Phylogroup (E. coli only)</th>\n",
       "      <th>Alternative isolate name</th>\n",
       "      <th>Long read sequencing method</th>\n",
       "      <th>SampleID</th>\n",
       "      <th>Genome_ASM_PATH</th>\n",
       "    </tr>\n",
       "  </thead>\n",
       "  <tbody>\n",
       "    <tr>\n",
       "      <th>0</th>\n",
       "      <td>RH02|T1-C02</td>\n",
       "      <td>SAMN15147960</td>\n",
       "      <td>SRR11948863</td>\n",
       "      <td>SRR12299015</td>\n",
       "      <td>GCA_014109125.1</td>\n",
       "      <td>Animal</td>\n",
       "      <td>Pooled pig faecal samples collected from floor...</td>\n",
       "      <td>1</td>\n",
       "      <td>Pig</td>\n",
       "      <td>Faeces</td>\n",
       "      <td>RH02</td>\n",
       "      <td>Escherichia</td>\n",
       "      <td>Escherichia coli</td>\n",
       "      <td>10.0</td>\n",
       "      <td>1</td>\n",
       "      <td>2</td>\n",
       "      <td>1</td>\n",
       "      <td>4953790</td>\n",
       "      <td>50.7</td>\n",
       "      <td>A</td>\n",
       "      <td>RHB02-C02</td>\n",
       "      <td>PacBio</td>\n",
       "      <td>GCA_014109125</td>\n",
       "      <td>/n/data1/hms/dbmi/farhat/mm774/Projects/230905...</td>\n",
       "    </tr>\n",
       "  </tbody>\n",
       "</table>\n",
       "</div>"
      ],
      "text/plain": [
       "       Isolate Biosample Accession Short Reads Accession Long Reads Accession Assembly Accession Animal or WwTW                         Isolate source information  Timepoint Niche Niche.2 Location        Genus           Species  ST assignment  Circularised plasmids  Number of contigs  Circularised chromosome (1=yes)  Total genome size (bp)  Chromosome GC (if known) Phylogroup (E. coli only) Alternative isolate name Long read sequencing method       SampleID                                    Genome_ASM_PATH\n",
       "0  RH02|T1-C02        SAMN15147960           SRR11948863          SRR12299015    GCA_014109125.1         Animal  Pooled pig faecal samples collected from floor...          1   Pig  Faeces     RH02  Escherichia  Escherichia coli           10.0                      1                  2                                1                 4953790                      50.7                         A                RHB02-C02                      PacBio  GCA_014109125  /n/data1/hms/dbmi/farhat/mm774/Projects/230905..."
      ]
     },
     "execution_count": 24,
     "metadata": {},
     "output_type": "execute_result"
    }
   ],
   "source": [
    "Shaw_50A_Info_DF.head(1)  "
   ]
  },
  {
   "cell_type": "code",
   "execution_count": 25,
   "id": "fd2e6fcf-34e1-43ca-b6ff-dd208856b78a",
   "metadata": {},
   "outputs": [
    {
     "data": {
      "text/plain": [
       "50"
      ]
     },
     "execution_count": 25,
     "metadata": {},
     "output_type": "execute_result"
    }
   ],
   "source": [
    "E50I_SampleIDs = Shaw_50A_Info_DF[\"SampleID\"].values   \n",
    "len(E50I_SampleIDs)"
   ]
  },
  {
   "cell_type": "code",
   "execution_count": null,
   "id": "b8c459e5-4c4b-4ff5-9cf0-e1a16c798137",
   "metadata": {},
   "outputs": [],
   "source": []
  },
  {
   "cell_type": "code",
   "execution_count": null,
   "id": "0fc6e9e7-47cf-4de2-9dab-944e27b3cce1",
   "metadata": {},
   "outputs": [],
   "source": []
  },
  {
   "cell_type": "markdown",
   "id": "468a6f38-95fc-416b-b5a5-85bdad8bee1b",
   "metadata": {},
   "source": [
    "# Define output dir of the Mtb-WGA-SMK processing pipeline"
   ]
  },
  {
   "cell_type": "code",
   "execution_count": 26,
   "id": "cbff2854-948f-4bfd-b503-928afb7492a5",
   "metadata": {},
   "outputs": [],
   "source": [
    "# Define varaint calling pipeline output directories\n",
    "\n",
    "WGA_SMK_Outputs_Dir = f\"{Ecoli_PG_MainDir}/SMK_OutDirs\"\n",
    "\n",
    "#PG_Ecoli_20I_OutDir = WGA_SMK_Outputs_Dir + \"/230905_Ecoli_2OI_V1\"\n",
    "PG_Ecoli_50I_OutDir = WGA_SMK_Outputs_Dir + \"/231011_Ecoli_Shaw2021_5OI_V1\"\n"
   ]
  },
  {
   "cell_type": "code",
   "execution_count": 27,
   "id": "9ba76e3d-a3c8-4910-83f6-83b4d2ffd35e",
   "metadata": {},
   "outputs": [
    {
     "name": "stdout",
     "output_type": "stream",
     "text": [
      "total 1.9M\n",
      "drwxrwsr-x 59 mm774 farhat 1.8K Jan  1 18:03 .\n",
      "drwxrwsr-x  4 mm774 farhat   83 Oct 11 23:17 ..\n",
      "drwxrwsr-x 53 mm774 farhat 1.6K Oct 12 01:52 AsmAnalysis\n",
      "drwxrwsr-x  4 mm774 farhat   63 Oct 12 02:14 FastANI\n",
      "drwxrwsr-x  3 mm774 farhat   29 Nov 16 00:11 GCA_013602835\n",
      "drwxrwsr-x  3 mm774 farhat   29 Nov 16 00:11 GCA_013712565\n",
      "drwxrwsr-x  3 mm774 farhat   29 Nov 16 00:11 GCA_013713325\n",
      "drwxrwsr-x  3 mm774 farhat   29 Nov 16 00:11 GCA_013728735\n",
      "drwxrwsr-x  3 mm774 farhat   29 Nov 16 00:11 GCA_013732895\n",
      "drwxrwsr-x  3 mm774 farhat   29 Nov 16 00:09 GCA_013745515\n",
      "drwxrwsr-x  3 mm774 farhat   29 Nov 16 00:11 GCA_013746655\n",
      "drwxrwsr-x  3 mm774 farhat   29 Nov 16 00:11 GCA_013750375\n",
      "drwxrwsr-x  3 mm774 farhat   29 Nov 16 00:09 GCA_013752075\n",
      "drwxrwsr-x  3 mm774 farhat   29 Nov 16 00:11 GCA_013752295\n",
      "drwxrwsr-x  3 mm774 farhat   29 Nov 16 00:09 GCA_013782445\n",
      "drwxrwsr-x  3 mm774 farhat   29 Nov 16 00:13 GCA_013783465\n",
      "drwxrwsr-x  3 mm774 farhat   29 Nov 16 00:11 GCA_013786125\n",
      "drwxrwsr-x  3 mm774 farhat   29 Nov 16 00:07 GCA_013790245\n",
      "drwxrwsr-x  3 mm774 farhat   29 Nov 16 00:09 GCA_013796065\n",
      "drwxrwsr-x  3 mm774 farhat   29 Nov 16 00:11 GCA_013800125\n",
      "drwxrwsr-x  3 mm774 farhat   29 Nov 16 00:13 GCA_013806085\n",
      "drwxrwsr-x  3 mm774 farhat   29 Nov 16 00:09 GCA_013806525\n",
      "drwxrwsr-x  3 mm774 farhat   29 Nov 16 00:11 GCA_013806925\n",
      "drwxrwsr-x  3 mm774 farhat   29 Nov 16 00:11 GCA_013817505\n",
      "drwxrwsr-x  3 mm774 farhat   29 Nov 16 00:11 GCA_013817865\n",
      "drwxrwsr-x  3 mm774 farhat   29 Nov 16 00:11 GCA_013819985\n",
      "drwxrwsr-x  3 mm774 farhat   29 Nov 16 00:11 GCA_013821965\n",
      "drwxrwsr-x  3 mm774 farhat   29 Nov 16 00:09 GCA_013823125\n",
      "drwxrwsr-x  3 mm774 farhat   29 Nov 16 00:11 GCA_013830785\n",
      "drwxrwsr-x  3 mm774 farhat   29 Nov 16 00:11 GCA_013835405\n",
      "drwxrwsr-x  3 mm774 farhat   29 Nov 16 00:11 GCA_013836945\n",
      "drwxrwsr-x  3 mm774 farhat   29 Nov 16 00:11 GCA_013886475\n",
      "drwxrwsr-x  3 mm774 farhat   29 Nov 16 00:05 GCA_013891895\n",
      "drwxrwsr-x  3 mm774 farhat   29 Nov 16 00:11 GCA_013894235\n",
      "drwxrwsr-x  3 mm774 farhat   29 Nov 16 00:11 GCA_013894775\n",
      "drwxrwsr-x  3 mm774 farhat   29 Nov 16 00:07 GCA_013895455\n",
      "drwxrwsr-x  3 mm774 farhat   29 Nov 16 00:11 GCA_013896515\n",
      "drwxrwsr-x  3 mm774 farhat   29 Nov 16 00:11 GCA_013896775\n",
      "drwxrwsr-x  3 mm774 farhat   29 Nov 16 00:11 GCA_013897255\n",
      "drwxrwsr-x  3 mm774 farhat   29 Nov 16 00:11 GCA_013897665\n",
      "drwxrwsr-x  3 mm774 farhat   29 Nov 16 00:11 GCA_013898775\n",
      "drwxrwsr-x  3 mm774 farhat   29 Nov 16 00:07 GCA_013898935\n",
      "drwxrwsr-x  3 mm774 farhat   29 Nov 16 00:11 GCA_013898995\n",
      "drwxrwsr-x  3 mm774 farhat   29 Nov 16 00:11 GCA_013899205\n",
      "drwxrwsr-x  3 mm774 farhat   29 Nov 16 00:11 GCA_013899665\n",
      "drwxrwsr-x  3 mm774 farhat   29 Nov 16 00:11 GCA_013900245\n",
      "drwxrwsr-x  3 mm774 farhat   29 Nov 16 00:11 GCA_013923405\n",
      "drwxrwsr-x  3 mm774 farhat   29 Nov 16 00:07 GCA_013924285\n",
      "drwxrwsr-x  3 mm774 farhat   29 Nov 16 00:11 GCA_013928845\n",
      "drwxrwsr-x  3 mm774 farhat   29 Nov 16 00:11 GCA_014103195\n",
      "drwxrwsr-x  3 mm774 farhat   29 Nov 16 00:11 GCA_014103465\n",
      "drwxrwsr-x  3 mm774 farhat   29 Nov 16 00:11 GCA_014103665\n",
      "drwxrwsr-x  3 mm774 farhat   29 Nov 16 00:07 GCA_014109065\n",
      "drwxrwsr-x  3 mm774 farhat   29 Nov 16 00:11 GCA_014109125\n",
      "drwxrwsr-x  3 mm774 farhat   25 Oct 11 23:22 O2logs\n",
      "drwxrwsr-x 22 mm774 farhat 1.3K Dec  3 17:53 PanGenome_Analysis\n",
      "drwxrwsr-x  3 mm774 farhat   24 Jan  1 18:03 Phylogenies\n",
      "drwxrwsr-x  4 mm774 farhat   78 Oct 12 00:23 SourMash\n",
      "drwxrwsr-x 52 mm774 farhat 1.6K Nov 16 15:56 SR_DataProcessing\n"
     ]
    }
   ],
   "source": [
    "!ls -alh $PG_Ecoli_50I_OutDir"
   ]
  },
  {
   "cell_type": "markdown",
   "id": "3912eb80-7b86-4b27-a061-cce7b909ef86",
   "metadata": {
    "tags": []
   },
   "source": [
    "## Define output dirs of pipeline"
   ]
  },
  {
   "cell_type": "code",
   "execution_count": 28,
   "id": "98123754-1649-4c6f-8d98-49f7e7edc476",
   "metadata": {},
   "outputs": [
    {
     "name": "stderr",
     "output_type": "stream",
     "text": [
      "100%|██████████| 7/7 [00:00<00:00, 92.53it/s]\n",
      "100%|██████████| 7/7 [00:00<00:00, 123.24it/s]\n"
     ]
    }
   ],
   "source": [
    "\n",
    "PipeName_WiParam_List = ['Panaroo_Strict_MergeParalogs', 'Panaroo_Moderate_MergeParalogs',\n",
    "                         'Panaroo_Sensitive_MergeParalogs', 'Panaroo_Strict',\n",
    "                         'Panaroo_Moderate', 'Panaroo_Sensitive',  'Roary_NoSplitParalogs_I80', 'Roary_NoSplitParalogs_I90',\n",
    "                         'Roary_NoSplitParalogs',  'Roary_Default', ]# 'Ppanggolin_Default',] #'Ppanggolin_I95', 'Ppanggolin_I90' ]\n",
    "\n",
    "PipeName_WiParam_List = ['Panaroo_Strict_MergeParalogs', 'Panaroo_Moderate_MergeParalogs',\n",
    "                         'Panaroo_Sensitive_MergeParalogs', 'Roary_NoSplitParalogs_I80', 'Roary_NoSplitParalogs_I90',\n",
    "                         'Roary_NoSplitParalogs',  'Roary_Default', ]# 'Ppanggolin_Default',] #'Ppanggolin_I95', 'Ppanggolin_I90' ]\n",
    "\n",
    "\n",
    "target_OutputDir = PG_Ecoli_50I_OutDir\n",
    "\n",
    "i_Pangenome_Dir = f\"{target_OutputDir}/PanGenome_Analysis\"\n",
    "\n",
    "listOfCat_ToKeep = [\"Core genes\", \"Accessory genes\", \"Total genes\"]\n",
    "\n",
    "\n",
    "dictOf_PG_OutInfo = {}\n",
    "dictOf_PG_PresAbs_DF = {}\n",
    "dictOf_PG_OutDir_PATHs = {}\n",
    "\n",
    "for i_SampleSet in [\"All\"]: #\"HighBUSCOIsolates\"]:\n",
    "    \n",
    "    dictOf_PG_OutInfo[i_SampleSet] = {}\n",
    "    dictOf_PG_OutDir_PATHs[i_SampleSet] = {}\n",
    "    dictOf_PG_PresAbs_DF[i_SampleSet] = {}\n",
    "    \n",
    "    for AnnoPipeline in [\"Bakta\",]: #\"PGAP\"]:\n",
    "        \n",
    "        dictOf_PG_OutInfo[i_SampleSet][AnnoPipeline] = {}\n",
    "        dictOf_PG_OutDir_PATHs[i_SampleSet][AnnoPipeline] = {}\n",
    "        dictOf_PG_PresAbs_DF[i_SampleSet][AnnoPipeline] = {}\n",
    "        \n",
    "        for AsmTech in [\"LongRead\", \"ShortRead\"]:       \n",
    "            \n",
    "            dictOf_PG_OutInfo[i_SampleSet][AnnoPipeline][AsmTech] = {}\n",
    "            dictOf_PG_OutDir_PATHs[i_SampleSet][AnnoPipeline][AsmTech] = {}\n",
    "            dictOf_PG_PresAbs_DF[i_SampleSet][AnnoPipeline][AsmTech] = {}\n",
    "            \n",
    "            \n",
    "            for i_PipeNameWiParam in tqdm(PipeName_WiParam_List):\n",
    "                \n",
    "                dictOf_PG_OutDir_PATHs[i_SampleSet][AnnoPipeline][AsmTech][i_PipeNameWiParam] = {}\n",
    "                \n",
    "                #if (AsmTech == \"ShortRead\") & (AnnoPipeline == \"PGAP\"): continue \n",
    "                if (i_SampleSet == \"HighBUSCOIsolates\") & (AnnoPipeline == \"PGAP\"): continue \n",
    "                \n",
    "                if i_SampleSet == \"All\": DataSetSuffix = \"_AllIsolates\"  \n",
    "                elif i_SampleSet == \"HighBUSCOIsolates\": DataSetSuffix = \"_HighBUSCOIsolates\"\n",
    "\n",
    "                if AsmTech == \"LongRead\": SeqTechPrefix = \"\"\n",
    "                elif AsmTech == \"ShortRead\": SeqTechPrefix = \"SR_\"\n",
    "\n",
    "                if AnnoPipeline == \"Bakta\": AnnoSuffix = \"\"\n",
    "                elif AnnoPipeline == \"PGAP\": AnnoSuffix = \"_WiPGAPAnno_V1\"\n",
    "\n",
    "\n",
    "                i_Pipeline_OutDir = f\"{i_Pangenome_Dir}/\"+SeqTechPrefix+i_PipeNameWiParam+DataSetSuffix+AnnoSuffix\n",
    "\n",
    "                if \"Panaroo\" in i_PipeNameWiParam:\n",
    "                    i_PG_Summary_Txt = f\"{i_Pipeline_OutDir}/summary_statistics.txt\"\n",
    "\n",
    "                    i_PG_Stats_DF = read_PanarooSummaryStats(i_PG_Summary_Txt)\n",
    "                    i_PG_Stats_DF[\"Annotation\"] = AnnoPipeline\n",
    "                    i_PG_Stats_DF[\"Method\"] = i_PipeNameWiParam\n",
    "                    i_PG_Stats_DF[\"SeqType\"] = AsmTech\n",
    "                    i_PG_Stats_DF[\"DataSet\"] = i_SampleSet\n",
    "                    \n",
    "                    i_PG_Stats_DF = i_PG_Stats_DF[ i_PG_Stats_DF[\"Category\"].isin(listOfCat_ToKeep)]   \n",
    "                    \n",
    "                    i_Gene_PresAbs_CSV_PATH = f\"{i_Pipeline_OutDir}/gene_presence_absence.csv\"    \n",
    "                    i_Pangenome_Ref_FA_PATH = f\"{i_Pipeline_OutDir}/pan_genome_reference.fa\"\n",
    "                    \n",
    "                    #i_Gene_PresAbs_DF = parse_Panaroo_GenePresAbs_CSV(i_Gene_PresAbs_CSV_PATH)  \n",
    "\n",
    "                    dictOf_PG_OutDir_PATHs[i_SampleSet][AnnoPipeline][AsmTech][i_PipeNameWiParam][\"PresAbs_CSV\"] = i_Gene_PresAbs_CSV_PATH\n",
    "                    dictOf_PG_OutDir_PATHs[i_SampleSet][AnnoPipeline][AsmTech][i_PipeNameWiParam][\"Pangenome_Ref_FA\"] = i_Pangenome_Ref_FA_PATH\n",
    "\n",
    "\n",
    "                elif \"Roary\" in i_PipeNameWiParam:\n",
    "                    i_PG_Summary_Txt = f\"{i_Pipeline_OutDir}/summary_statistics.txt\"\n",
    "\n",
    "                    i_PG_Stats_DF = read_PanarooSummaryStats(i_PG_Summary_Txt)\n",
    "                    i_PG_Stats_DF[\"Annotation\"] = AnnoPipeline\n",
    "                    i_PG_Stats_DF[\"Method\"] = i_PipeNameWiParam\n",
    "                    i_PG_Stats_DF[\"SeqType\"] = AsmTech\n",
    "                    i_PG_Stats_DF[\"DataSet\"] = i_SampleSet\n",
    "                    \n",
    "                    i_PG_Stats_DF = i_PG_Stats_DF[ i_PG_Stats_DF[\"Category\"].isin(listOfCat_ToKeep)]   \n",
    "\n",
    "                    i_Gene_PresAbs_CSV_PATH = f\"{i_Pipeline_OutDir}/gene_presence_absence.csv\"    \n",
    "\n",
    "                    i_Pangenome_Ref_FA_PATH = f\"{i_Pipeline_OutDir}/pan_genome_reference.fa\"\n",
    "\n",
    "                    \n",
    "                    #i_Gene_PresAbs_DF = parse_Panaroo_GenePresAbs_CSV(i_Gene_PresAbs_CSV_PATH)  \n",
    "                    \n",
    "                    \n",
    "                    dictOf_PG_OutDir_PATHs[i_SampleSet][AnnoPipeline][AsmTech][i_PipeNameWiParam][\"PresAbs_CSV\"] = i_Gene_PresAbs_CSV_PATH\n",
    "                    dictOf_PG_OutDir_PATHs[i_SampleSet][AnnoPipeline][AsmTech][i_PipeNameWiParam][\"Pangenome_Ref_FA\"] = i_Pangenome_Ref_FA_PATH\n",
    "\n",
    "                    \n",
    "                elif \"Ppanggolin\" in i_PipeNameWiParam:\n",
    "                    print(i_PipeNameWiParam)\n",
    "                    i_PG_Summary_Txt = f\"{i_Pipeline_OutDir}/pangenome.ContentSummary.txt\"\n",
    "                    #print(i_PG_Summary_Txt)\n",
    "                    #!grep 'Families' $i_PG_Summary_Txt \n",
    "                    i_PG_Stats_DF = read_Ppanggolin_ContextStats(i_PG_Summary_Txt, False)\n",
    "                    i_PG_Stats_DF[\"Annotation\"] = AnnoPipeline\n",
    "                    i_PG_Stats_DF[\"Method\"] = i_PipeNameWiParam\n",
    "                    i_PG_Stats_DF[\"SeqType\"] = AsmTech\n",
    "                    i_PG_Stats_DF[\"DataSet\"] = i_SampleSet\n",
    "                    print(i_PG_Stats_DF)\n",
    "                    \n",
    "                    i_PG_Stats_DF = i_PG_Stats_DF[ i_PG_Stats_DF[\"Category\"].isin(listOfCat_ToKeep)]   \n",
    "\n",
    "                    i_Gene_PresAbs_Rtab_PATH = f\"{i_Pipeline_OutDir}/gene_presence_absence.Rtab\"    \n",
    "                    \n",
    "                    #i_Gene_PresAbs_DF = parse_Panaroo_GenePresAbs_Rtab(i_Gene_PresAbs_Rtab_PATH)\n",
    "                                          \n",
    "                    dictOf_PG_OutDir_PATHs[i_SampleSet][AnnoPipeline][AsmTech][i_PipeNameWiParam][\"PresAbs_Rtab\"] = i_Gene_PresAbs_Rtab_PATH\n",
    "\n",
    "\n",
    "                dictOf_PG_OutInfo[i_SampleSet][AnnoPipeline][AsmTech][i_PipeNameWiParam] = i_PG_Stats_DF\n",
    "                \n",
    "                #dictOf_PG_PresAbs_DF[i_SampleSet][AnnoPipeline][AsmTech][i_PipeNameWiParam] = i_Gene_PresAbs_DF\n",
    "                \n",
    "                dictOf_PG_OutDir_PATHs[i_SampleSet][AnnoPipeline][AsmTech][i_PipeNameWiParam][\"Stats_TXT\"] = i_PG_Summary_Txt\n"
   ]
  },
  {
   "cell_type": "code",
   "execution_count": 29,
   "id": "0ddeb49c-34d6-4d74-8ab8-b12935c1c876",
   "metadata": {},
   "outputs": [],
   "source": [
    "#!ls -1 /n/data1/hms/dbmi/farhat/mm774/Projects/230905_Ecoli_PG_Analysis/SMK_OutDirs/231011_Ecoli_Shaw2021_5OI_V1/PanGenome_Analysis/"
   ]
  },
  {
   "cell_type": "code",
   "execution_count": null,
   "id": "71c96047-510a-4d09-acf6-8f5bfaa0bd66",
   "metadata": {},
   "outputs": [],
   "source": []
  },
  {
   "cell_type": "code",
   "execution_count": 30,
   "id": "6308d43e-0fdc-47b4-9b2e-b02dec020097",
   "metadata": {},
   "outputs": [
    {
     "data": {
      "text/html": [
       "<div>\n",
       "<style scoped>\n",
       "    .dataframe tbody tr th:only-of-type {\n",
       "        vertical-align: middle;\n",
       "    }\n",
       "\n",
       "    .dataframe tbody tr th {\n",
       "        vertical-align: top;\n",
       "    }\n",
       "\n",
       "    .dataframe thead th {\n",
       "        text-align: right;\n",
       "    }\n",
       "</style>\n",
       "<table border=\"1\" class=\"dataframe\">\n",
       "  <thead>\n",
       "    <tr style=\"text-align: right;\">\n",
       "      <th></th>\n",
       "      <th>Category</th>\n",
       "      <th>Range</th>\n",
       "      <th>GeneCount</th>\n",
       "      <th>Annotation</th>\n",
       "      <th>Method</th>\n",
       "      <th>SeqType</th>\n",
       "      <th>DataSet</th>\n",
       "    </tr>\n",
       "  </thead>\n",
       "  <tbody>\n",
       "    <tr>\n",
       "      <th>0</th>\n",
       "      <td>Core genes</td>\n",
       "      <td>(99% &lt;= strains &lt;= 100%)</td>\n",
       "      <td>3035</td>\n",
       "      <td>Bakta</td>\n",
       "      <td>Panaroo_Strict_MergeParalogs</td>\n",
       "      <td>LongRead</td>\n",
       "      <td>All</td>\n",
       "    </tr>\n",
       "    <tr>\n",
       "      <th>4</th>\n",
       "      <td>Total genes</td>\n",
       "      <td>(0% &lt;= strains &lt;= 100%)</td>\n",
       "      <td>14410</td>\n",
       "      <td>Bakta</td>\n",
       "      <td>Panaroo_Strict_MergeParalogs</td>\n",
       "      <td>LongRead</td>\n",
       "      <td>All</td>\n",
       "    </tr>\n",
       "    <tr>\n",
       "      <th>5</th>\n",
       "      <td>Accessory genes</td>\n",
       "      <td>(0% &lt;= strains &lt; 99%)</td>\n",
       "      <td>11375</td>\n",
       "      <td>Bakta</td>\n",
       "      <td>Panaroo_Strict_MergeParalogs</td>\n",
       "      <td>LongRead</td>\n",
       "      <td>All</td>\n",
       "    </tr>\n",
       "  </tbody>\n",
       "</table>\n",
       "</div>"
      ],
      "text/plain": [
       "          Category                     Range  GeneCount Annotation                        Method   SeqType DataSet\n",
       "0       Core genes  (99% <= strains <= 100%)       3035      Bakta  Panaroo_Strict_MergeParalogs  LongRead     All\n",
       "4      Total genes   (0% <= strains <= 100%)      14410      Bakta  Panaroo_Strict_MergeParalogs  LongRead     All\n",
       "5  Accessory genes     (0% <= strains < 99%)      11375      Bakta  Panaroo_Strict_MergeParalogs  LongRead     All"
      ]
     },
     "execution_count": 30,
     "metadata": {},
     "output_type": "execute_result"
    }
   ],
   "source": [
    "dictOf_PG_OutInfo[\"All\"][\"Bakta\"][\"LongRead\"][\"Panaroo_Strict_MergeParalogs\"]"
   ]
  },
  {
   "cell_type": "code",
   "execution_count": 42,
   "id": "63fab4ee-2dd5-4d11-b588-e924e7bc09e2",
   "metadata": {},
   "outputs": [
    {
     "data": {
      "text/html": [
       "<div>\n",
       "<style scoped>\n",
       "    .dataframe tbody tr th:only-of-type {\n",
       "        vertical-align: middle;\n",
       "    }\n",
       "\n",
       "    .dataframe tbody tr th {\n",
       "        vertical-align: top;\n",
       "    }\n",
       "\n",
       "    .dataframe thead th {\n",
       "        text-align: right;\n",
       "    }\n",
       "</style>\n",
       "<table border=\"1\" class=\"dataframe\">\n",
       "  <thead>\n",
       "    <tr style=\"text-align: right;\">\n",
       "      <th></th>\n",
       "      <th>Category</th>\n",
       "      <th>Range</th>\n",
       "      <th>GeneCount</th>\n",
       "      <th>Annotation</th>\n",
       "      <th>Method</th>\n",
       "      <th>SeqType</th>\n",
       "      <th>DataSet</th>\n",
       "    </tr>\n",
       "  </thead>\n",
       "  <tbody>\n",
       "    <tr>\n",
       "      <th>0</th>\n",
       "      <td>Core genes</td>\n",
       "      <td>(99% &lt;= strains &lt;= 100%)</td>\n",
       "      <td>3035</td>\n",
       "      <td>Bakta</td>\n",
       "      <td>Panaroo_Strict_MergeParalogs</td>\n",
       "      <td>LongRead</td>\n",
       "      <td>All</td>\n",
       "    </tr>\n",
       "    <tr>\n",
       "      <th>4</th>\n",
       "      <td>Total genes</td>\n",
       "      <td>(0% &lt;= strains &lt;= 100%)</td>\n",
       "      <td>14410</td>\n",
       "      <td>Bakta</td>\n",
       "      <td>Panaroo_Strict_MergeParalogs</td>\n",
       "      <td>LongRead</td>\n",
       "      <td>All</td>\n",
       "    </tr>\n",
       "    <tr>\n",
       "      <th>5</th>\n",
       "      <td>Accessory genes</td>\n",
       "      <td>(0% &lt;= strains &lt; 99%)</td>\n",
       "      <td>11375</td>\n",
       "      <td>Bakta</td>\n",
       "      <td>Panaroo_Strict_MergeParalogs</td>\n",
       "      <td>LongRead</td>\n",
       "      <td>All</td>\n",
       "    </tr>\n",
       "  </tbody>\n",
       "</table>\n",
       "</div>"
      ],
      "text/plain": [
       "          Category                     Range  GeneCount Annotation                        Method   SeqType DataSet\n",
       "0       Core genes  (99% <= strains <= 100%)       3035      Bakta  Panaroo_Strict_MergeParalogs  LongRead     All\n",
       "4      Total genes   (0% <= strains <= 100%)      14410      Bakta  Panaroo_Strict_MergeParalogs  LongRead     All\n",
       "5  Accessory genes     (0% <= strains < 99%)      11375      Bakta  Panaroo_Strict_MergeParalogs  LongRead     All"
      ]
     },
     "execution_count": 42,
     "metadata": {},
     "output_type": "execute_result"
    }
   ],
   "source": [
    "dictOf_PG_OutInfo[\"All\"][\"Bakta\"][\"LongRead\"][\"Panaroo_Strict_MergeParalogs\"]"
   ]
  },
  {
   "cell_type": "code",
   "execution_count": 43,
   "id": "5c2a32ec-9a00-4b0c-b631-2359cb8e0e6b",
   "metadata": {},
   "outputs": [
    {
     "data": {
      "text/html": [
       "<div>\n",
       "<style scoped>\n",
       "    .dataframe tbody tr th:only-of-type {\n",
       "        vertical-align: middle;\n",
       "    }\n",
       "\n",
       "    .dataframe tbody tr th {\n",
       "        vertical-align: top;\n",
       "    }\n",
       "\n",
       "    .dataframe thead th {\n",
       "        text-align: right;\n",
       "    }\n",
       "</style>\n",
       "<table border=\"1\" class=\"dataframe\">\n",
       "  <thead>\n",
       "    <tr style=\"text-align: right;\">\n",
       "      <th></th>\n",
       "      <th>Category</th>\n",
       "      <th>Range</th>\n",
       "      <th>GeneCount</th>\n",
       "      <th>Annotation</th>\n",
       "      <th>Method</th>\n",
       "      <th>SeqType</th>\n",
       "      <th>DataSet</th>\n",
       "    </tr>\n",
       "  </thead>\n",
       "  <tbody>\n",
       "    <tr>\n",
       "      <th>0</th>\n",
       "      <td>Core genes</td>\n",
       "      <td>(99% &lt;= strains &lt;= 100%)</td>\n",
       "      <td>2834</td>\n",
       "      <td>Bakta</td>\n",
       "      <td>Panaroo_Strict_MergeParalogs</td>\n",
       "      <td>ShortRead</td>\n",
       "      <td>All</td>\n",
       "    </tr>\n",
       "    <tr>\n",
       "      <th>4</th>\n",
       "      <td>Total genes</td>\n",
       "      <td>(0% &lt;= strains &lt;= 100%)</td>\n",
       "      <td>12836</td>\n",
       "      <td>Bakta</td>\n",
       "      <td>Panaroo_Strict_MergeParalogs</td>\n",
       "      <td>ShortRead</td>\n",
       "      <td>All</td>\n",
       "    </tr>\n",
       "    <tr>\n",
       "      <th>5</th>\n",
       "      <td>Accessory genes</td>\n",
       "      <td>(0% &lt;= strains &lt; 99%)</td>\n",
       "      <td>10002</td>\n",
       "      <td>Bakta</td>\n",
       "      <td>Panaroo_Strict_MergeParalogs</td>\n",
       "      <td>ShortRead</td>\n",
       "      <td>All</td>\n",
       "    </tr>\n",
       "  </tbody>\n",
       "</table>\n",
       "</div>"
      ],
      "text/plain": [
       "          Category                     Range  GeneCount Annotation                        Method    SeqType DataSet\n",
       "0       Core genes  (99% <= strains <= 100%)       2834      Bakta  Panaroo_Strict_MergeParalogs  ShortRead     All\n",
       "4      Total genes   (0% <= strains <= 100%)      12836      Bakta  Panaroo_Strict_MergeParalogs  ShortRead     All\n",
       "5  Accessory genes     (0% <= strains < 99%)      10002      Bakta  Panaroo_Strict_MergeParalogs  ShortRead     All"
      ]
     },
     "execution_count": 43,
     "metadata": {},
     "output_type": "execute_result"
    }
   ],
   "source": [
    "dictOf_PG_OutInfo[\"All\"][\"Bakta\"][\"ShortRead\"][\"Panaroo_Strict_MergeParalogs\"]"
   ]
  },
  {
   "cell_type": "code",
   "execution_count": null,
   "id": "e5633e6c-feb3-4941-9421-86cca3c94188",
   "metadata": {},
   "outputs": [],
   "source": []
  },
  {
   "cell_type": "markdown",
   "id": "bfb8e32e-0b7f-485b-bb04-b0a8555d673f",
   "metadata": {},
   "source": [
    "# 1) Merge all Pan-genome counts accross all combinations evaluated"
   ]
  },
  {
   "cell_type": "code",
   "execution_count": 46,
   "id": "d87c4821-49f2-425f-8d87-eb398f0914e7",
   "metadata": {},
   "outputs": [
    {
     "data": {
      "text/plain": [
       "(42, 9)"
      ]
     },
     "execution_count": 46,
     "metadata": {},
     "output_type": "execute_result"
    }
   ],
   "source": [
    "\n",
    "PipeName_WiParam_List = ['Panaroo_Strict_MergeParalogs', 'Panaroo_Moderate_MergeParalogs',\n",
    "                         'Panaroo_Sensitive_MergeParalogs',  'Roary_NoSplitParalogs_I80', 'Roary_NoSplitParalogs_I90',\n",
    "                         'Roary_NoSplitParalogs',  'Roary_Default',] #'Ppanggolin_I95', 'Ppanggolin_I90' ]\n",
    "\n",
    "\n",
    "listOf_PG_InfoDFs = []\n",
    "for i_SampleSet in [\"All\"]: # \"HighBUSCOIsolates\"\n",
    "    for AnnoPipeline in [\"Bakta\"]:\n",
    "        for AsmTech in [\"LongRead\", \"ShortRead\"]:\n",
    "            for i_PipeNameWiParam in PipeName_WiParam_List:\n",
    "                i_PG_Stats_DF = dictOf_PG_OutInfo[i_SampleSet][AnnoPipeline][AsmTech][i_PipeNameWiParam]\n",
    "                \n",
    "                listOf_PG_InfoDFs.append(i_PG_Stats_DF)\n",
    "\n",
    "\n",
    "PG_Merged_Stats_LRandSR_DF = pd.concat(listOf_PG_InfoDFs)\n",
    "\n",
    "PG_Merged_Stats_LRandSR_DF[\"MethodAndTech\"] = PG_Merged_Stats_LRandSR_DF[\"Method\"] + \"_\" +PG_Merged_Stats_LRandSR_DF[\"SeqType\"]\n",
    "\n",
    "PG_Merged_Stats_LRandSR_DF[\"MethodAndTechAndAnno\"] = PG_Merged_Stats_LRandSR_DF[\"Method\"] + \"_\" +PG_Merged_Stats_LRandSR_DF[\"SeqType\"]  + \"_\" +PG_Merged_Stats_LRandSR_DF[\"Annotation\"]  \n",
    "\n",
    "PG_Merged_Stats_LRandSR_DF.shape\n"
   ]
  },
  {
   "cell_type": "code",
   "execution_count": 47,
   "id": "9adb6656-323c-46cf-81bb-a6eb051ee3fc",
   "metadata": {},
   "outputs": [
    {
     "data": {
      "text/html": [
       "<div>\n",
       "<style scoped>\n",
       "    .dataframe tbody tr th:only-of-type {\n",
       "        vertical-align: middle;\n",
       "    }\n",
       "\n",
       "    .dataframe tbody tr th {\n",
       "        vertical-align: top;\n",
       "    }\n",
       "\n",
       "    .dataframe thead th {\n",
       "        text-align: right;\n",
       "    }\n",
       "</style>\n",
       "<table border=\"1\" class=\"dataframe\">\n",
       "  <thead>\n",
       "    <tr style=\"text-align: right;\">\n",
       "      <th></th>\n",
       "      <th>Category</th>\n",
       "      <th>Range</th>\n",
       "      <th>GeneCount</th>\n",
       "      <th>Annotation</th>\n",
       "      <th>Method</th>\n",
       "      <th>SeqType</th>\n",
       "      <th>DataSet</th>\n",
       "      <th>MethodAndTech</th>\n",
       "      <th>MethodAndTechAndAnno</th>\n",
       "    </tr>\n",
       "  </thead>\n",
       "  <tbody>\n",
       "    <tr>\n",
       "      <th>0</th>\n",
       "      <td>Core genes</td>\n",
       "      <td>(99% &lt;= strains &lt;= 100%)</td>\n",
       "      <td>3035</td>\n",
       "      <td>Bakta</td>\n",
       "      <td>Panaroo_Strict_MergeParalogs</td>\n",
       "      <td>LongRead</td>\n",
       "      <td>All</td>\n",
       "      <td>Panaroo_Strict_MergeParalogs_LongRead</td>\n",
       "      <td>Panaroo_Strict_MergeParalogs_LongRead_Bakta</td>\n",
       "    </tr>\n",
       "    <tr>\n",
       "      <th>4</th>\n",
       "      <td>Total genes</td>\n",
       "      <td>(0% &lt;= strains &lt;= 100%)</td>\n",
       "      <td>14410</td>\n",
       "      <td>Bakta</td>\n",
       "      <td>Panaroo_Strict_MergeParalogs</td>\n",
       "      <td>LongRead</td>\n",
       "      <td>All</td>\n",
       "      <td>Panaroo_Strict_MergeParalogs_LongRead</td>\n",
       "      <td>Panaroo_Strict_MergeParalogs_LongRead_Bakta</td>\n",
       "    </tr>\n",
       "    <tr>\n",
       "      <th>5</th>\n",
       "      <td>Accessory genes</td>\n",
       "      <td>(0% &lt;= strains &lt; 99%)</td>\n",
       "      <td>11375</td>\n",
       "      <td>Bakta</td>\n",
       "      <td>Panaroo_Strict_MergeParalogs</td>\n",
       "      <td>LongRead</td>\n",
       "      <td>All</td>\n",
       "      <td>Panaroo_Strict_MergeParalogs_LongRead</td>\n",
       "      <td>Panaroo_Strict_MergeParalogs_LongRead_Bakta</td>\n",
       "    </tr>\n",
       "    <tr>\n",
       "      <th>0</th>\n",
       "      <td>Core genes</td>\n",
       "      <td>(99% &lt;= strains &lt;= 100%)</td>\n",
       "      <td>3036</td>\n",
       "      <td>Bakta</td>\n",
       "      <td>Panaroo_Moderate_MergeParalogs</td>\n",
       "      <td>LongRead</td>\n",
       "      <td>All</td>\n",
       "      <td>Panaroo_Moderate_MergeParalogs_LongRead</td>\n",
       "      <td>Panaroo_Moderate_MergeParalogs_LongRead_Bakta</td>\n",
       "    </tr>\n",
       "  </tbody>\n",
       "</table>\n",
       "</div>"
      ],
      "text/plain": [
       "          Category                     Range  GeneCount Annotation                          Method   SeqType DataSet                            MethodAndTech                           MethodAndTechAndAnno\n",
       "0       Core genes  (99% <= strains <= 100%)       3035      Bakta    Panaroo_Strict_MergeParalogs  LongRead     All    Panaroo_Strict_MergeParalogs_LongRead    Panaroo_Strict_MergeParalogs_LongRead_Bakta\n",
       "4      Total genes   (0% <= strains <= 100%)      14410      Bakta    Panaroo_Strict_MergeParalogs  LongRead     All    Panaroo_Strict_MergeParalogs_LongRead    Panaroo_Strict_MergeParalogs_LongRead_Bakta\n",
       "5  Accessory genes     (0% <= strains < 99%)      11375      Bakta    Panaroo_Strict_MergeParalogs  LongRead     All    Panaroo_Strict_MergeParalogs_LongRead    Panaroo_Strict_MergeParalogs_LongRead_Bakta\n",
       "0       Core genes  (99% <= strains <= 100%)       3036      Bakta  Panaroo_Moderate_MergeParalogs  LongRead     All  Panaroo_Moderate_MergeParalogs_LongRead  Panaroo_Moderate_MergeParalogs_LongRead_Bakta"
      ]
     },
     "execution_count": 47,
     "metadata": {},
     "output_type": "execute_result"
    }
   ],
   "source": [
    "PG_Merged_Stats_LRandSR_DF.head(4)"
   ]
  },
  {
   "cell_type": "code",
   "execution_count": 48,
   "id": "857467a1-7af6-4e7f-bd46-5ceafa6cff4a",
   "metadata": {},
   "outputs": [
    {
     "data": {
      "text/plain": [
       "(99% <= strains <= 100%)    14\n",
       "(0% <= strains <= 100%)     14\n",
       "(0% <= strains < 99%)       14\n",
       "Name: Range, dtype: int64"
      ]
     },
     "execution_count": 48,
     "metadata": {},
     "output_type": "execute_result"
    }
   ],
   "source": [
    "PG_Merged_Stats_LRandSR_DF[\"Range\"].value_counts()"
   ]
  },
  {
   "cell_type": "code",
   "execution_count": 49,
   "id": "e986204b-39de-4b35-ad55-e568678e939a",
   "metadata": {},
   "outputs": [
    {
     "data": {
      "text/html": [
       "<div>\n",
       "<style scoped>\n",
       "    .dataframe tbody tr th:only-of-type {\n",
       "        vertical-align: middle;\n",
       "    }\n",
       "\n",
       "    .dataframe tbody tr th {\n",
       "        vertical-align: top;\n",
       "    }\n",
       "\n",
       "    .dataframe thead th {\n",
       "        text-align: right;\n",
       "    }\n",
       "</style>\n",
       "<table border=\"1\" class=\"dataframe\">\n",
       "  <thead>\n",
       "    <tr style=\"text-align: right;\">\n",
       "      <th></th>\n",
       "      <th>Category</th>\n",
       "      <th>Range</th>\n",
       "      <th>GeneCount</th>\n",
       "      <th>Annotation</th>\n",
       "      <th>Method</th>\n",
       "      <th>SeqType</th>\n",
       "      <th>DataSet</th>\n",
       "      <th>MethodAndTech</th>\n",
       "      <th>MethodAndTechAndAnno</th>\n",
       "    </tr>\n",
       "  </thead>\n",
       "  <tbody>\n",
       "  </tbody>\n",
       "</table>\n",
       "</div>"
      ],
      "text/plain": [
       "Empty DataFrame\n",
       "Columns: [Category, Range, GeneCount, Annotation, Method, SeqType, DataSet, MethodAndTech, MethodAndTechAndAnno]\n",
       "Index: []"
      ]
     },
     "execution_count": 49,
     "metadata": {},
     "output_type": "execute_result"
    }
   ],
   "source": [
    "PG_Merged_Stats_LRandSR_DF[ PG_Merged_Stats_LRandSR_DF[\"Method\"].str.contains(\"Ppanggolin\") ].query(\"Category == 'Accessory genes' \") "
   ]
  },
  {
   "cell_type": "code",
   "execution_count": null,
   "id": "be7c99c3-de94-4e7d-9e1e-f1caf6966d8f",
   "metadata": {},
   "outputs": [],
   "source": []
  },
  {
   "cell_type": "code",
   "execution_count": 50,
   "id": "0818a6a2-7153-4410-9f32-9ab25194b12c",
   "metadata": {},
   "outputs": [
    {
     "data": {
      "text/plain": [
       "(42, 9)"
      ]
     },
     "execution_count": 50,
     "metadata": {},
     "output_type": "execute_result"
    }
   ],
   "source": [
    "PG_Merged_Stats_LRandSR_DF.shape"
   ]
  },
  {
   "cell_type": "markdown",
   "id": "02eaae0d-2e2e-4be8-9730-c9f660d2449c",
   "metadata": {},
   "source": [
    "## Divide Pan-genome summary stats by \"assembly type\" and \"gene category\""
   ]
  },
  {
   "cell_type": "code",
   "execution_count": 51,
   "id": "942d4e9c-a9c3-4b4a-aaa6-9254d8059b6a",
   "metadata": {},
   "outputs": [],
   "source": [
    "PG_Merged_Stats_LRandSR_Pangenome_DF = PG_Merged_Stats_LRandSR_DF.query(\" Category == 'Total genes'  \")\n",
    "PG_Merged_Stats_LRandSR_Core_DF = PG_Merged_Stats_LRandSR_DF.query(\" Category == 'Core genes'  \")\n",
    "PG_Merged_Stats_LRandSR_Acc_DF = PG_Merged_Stats_LRandSR_DF.query(\" Category == 'Accessory genes'  \")"
   ]
  },
  {
   "cell_type": "code",
   "execution_count": 52,
   "id": "d9b5c6e6-ba3d-4ca5-9a79-89faf83f5dbb",
   "metadata": {},
   "outputs": [],
   "source": [
    "PG_Merged_Stats_LR_Pangenome_DF = PG_Merged_Stats_LRandSR_DF.query(\" Category == 'Total genes'  \").query(\" SeqType == 'LongRead'  \")\n",
    "PG_Merged_Stats_LR_Core_DF = PG_Merged_Stats_LRandSR_DF.query(\" Category == 'Core genes'  \").query(\" SeqType == 'LongRead'  \")\n",
    "PG_Merged_Stats_LR_Acc_DF = PG_Merged_Stats_LRandSR_DF.query(\" Category == 'Accessory genes'  \").query(\" SeqType == 'LongRead'  \")"
   ]
  },
  {
   "cell_type": "code",
   "execution_count": 53,
   "id": "56848813-83e9-4e3a-a66a-ba90b4d0db0c",
   "metadata": {},
   "outputs": [],
   "source": [
    "PG_Merged_Stats_SR_Pangenome_DF = PG_Merged_Stats_LRandSR_DF.query(\" Category == 'Total genes'  \").query(\" SeqType == 'ShortRead'  \")\n",
    "PG_Merged_Stats_SR_Core_DF = PG_Merged_Stats_LRandSR_DF.query(\" Category == 'Core genes'  \").query(\" SeqType == 'ShortRead'  \")\n",
    "PG_Merged_Stats_SR_Acc_DF = PG_Merged_Stats_LRandSR_DF.query(\" Category == 'Accessory genes'  \").query(\" SeqType == 'ShortRead'  \")"
   ]
  },
  {
   "cell_type": "code",
   "execution_count": 54,
   "id": "ae2191f9-19b5-4373-85f6-17f7198da595",
   "metadata": {},
   "outputs": [],
   "source": [
    "PG_Merged_Stats_LRandSR_Acc_Bakta_DF = PG_Merged_Stats_LRandSR_Acc_DF.query(\"Annotation == 'Bakta'\")"
   ]
  },
  {
   "cell_type": "markdown",
   "id": "acdfb284-a55e-4a40-8c64-f99406fefd81",
   "metadata": {},
   "source": [
    "# 2) Create Pan-genome summary table - Wide version \n",
    "\n",
    "This table will have pangenome predictions (Total, Core, and Accessory genes) across all methods + technologies."
   ]
  },
  {
   "cell_type": "markdown",
   "id": "2ef1c219-3dfb-42c3-bbac-dae03bf64da7",
   "metadata": {},
   "source": [
    "### Pivot table to get summary per Method and Seqtype"
   ]
  },
  {
   "cell_type": "code",
   "execution_count": 55,
   "id": "18a0b57a-eb32-4b0d-9070-8a9f2375d12b",
   "metadata": {},
   "outputs": [
    {
     "data": {
      "text/html": [
       "<div>\n",
       "<style scoped>\n",
       "    .dataframe tbody tr th:only-of-type {\n",
       "        vertical-align: middle;\n",
       "    }\n",
       "\n",
       "    .dataframe tbody tr th {\n",
       "        vertical-align: top;\n",
       "    }\n",
       "\n",
       "    .dataframe thead th {\n",
       "        text-align: right;\n",
       "    }\n",
       "</style>\n",
       "<table border=\"1\" class=\"dataframe\">\n",
       "  <thead>\n",
       "    <tr style=\"text-align: right;\">\n",
       "      <th></th>\n",
       "      <th>Category</th>\n",
       "      <th>Range</th>\n",
       "      <th>GeneCount</th>\n",
       "      <th>Annotation</th>\n",
       "      <th>Method</th>\n",
       "      <th>SeqType</th>\n",
       "      <th>DataSet</th>\n",
       "      <th>MethodAndTech</th>\n",
       "      <th>MethodAndTechAndAnno</th>\n",
       "    </tr>\n",
       "  </thead>\n",
       "  <tbody>\n",
       "    <tr>\n",
       "      <th>0</th>\n",
       "      <td>Core genes</td>\n",
       "      <td>(99% &lt;= strains &lt;= 100%)</td>\n",
       "      <td>3035</td>\n",
       "      <td>Bakta</td>\n",
       "      <td>Panaroo_Strict_MergeParalogs</td>\n",
       "      <td>LongRead</td>\n",
       "      <td>All</td>\n",
       "      <td>Panaroo_Strict_MergeParalogs_LongRead</td>\n",
       "      <td>Panaroo_Strict_MergeParalogs_LongRead_Bakta</td>\n",
       "    </tr>\n",
       "    <tr>\n",
       "      <th>4</th>\n",
       "      <td>Total genes</td>\n",
       "      <td>(0% &lt;= strains &lt;= 100%)</td>\n",
       "      <td>14410</td>\n",
       "      <td>Bakta</td>\n",
       "      <td>Panaroo_Strict_MergeParalogs</td>\n",
       "      <td>LongRead</td>\n",
       "      <td>All</td>\n",
       "      <td>Panaroo_Strict_MergeParalogs_LongRead</td>\n",
       "      <td>Panaroo_Strict_MergeParalogs_LongRead_Bakta</td>\n",
       "    </tr>\n",
       "  </tbody>\n",
       "</table>\n",
       "</div>"
      ],
      "text/plain": [
       "      Category                     Range  GeneCount Annotation                        Method   SeqType DataSet                          MethodAndTech                         MethodAndTechAndAnno\n",
       "0   Core genes  (99% <= strains <= 100%)       3035      Bakta  Panaroo_Strict_MergeParalogs  LongRead     All  Panaroo_Strict_MergeParalogs_LongRead  Panaroo_Strict_MergeParalogs_LongRead_Bakta\n",
       "4  Total genes   (0% <= strains <= 100%)      14410      Bakta  Panaroo_Strict_MergeParalogs  LongRead     All  Panaroo_Strict_MergeParalogs_LongRead  Panaroo_Strict_MergeParalogs_LongRead_Bakta"
      ]
     },
     "execution_count": 55,
     "metadata": {},
     "output_type": "execute_result"
    }
   ],
   "source": [
    "PG_Merged_Stats_LRandSR_DF.head(2)"
   ]
  },
  {
   "cell_type": "code",
   "execution_count": 56,
   "id": "e961393a-f40a-4ec4-98b6-41d24edeae1f",
   "metadata": {},
   "outputs": [],
   "source": [
    "PG_WideSumm_DF = pd.pivot(PG_Merged_Stats_LRandSR_DF,\n",
    "                          index = [\"MethodAndTechAndAnno\"],\n",
    "                          columns = [\"Category\"],\n",
    "                          values = [\"GeneCount\"] )    \n",
    "\n",
    "PG_WideSumm_DF.columns = PG_WideSumm_DF.columns.droplevel(0)\n",
    "PG_WideSumm_DF.columns.name = None\n",
    "PG_WideSumm_DF = PG_WideSumm_DF.reset_index()\n"
   ]
  },
  {
   "cell_type": "code",
   "execution_count": 57,
   "id": "0d7cf4e7-5dfe-47a2-b580-3866e5d915d1",
   "metadata": {},
   "outputs": [
    {
     "data": {
      "text/plain": [
       "(14, 4)"
      ]
     },
     "execution_count": 57,
     "metadata": {},
     "output_type": "execute_result"
    }
   ],
   "source": [
    "PG_WideSumm_DF.shape"
   ]
  },
  {
   "cell_type": "code",
   "execution_count": 58,
   "id": "2e382062-00ef-4b15-8403-7850b4c06d60",
   "metadata": {},
   "outputs": [
    {
     "data": {
      "text/html": [
       "<div>\n",
       "<style scoped>\n",
       "    .dataframe tbody tr th:only-of-type {\n",
       "        vertical-align: middle;\n",
       "    }\n",
       "\n",
       "    .dataframe tbody tr th {\n",
       "        vertical-align: top;\n",
       "    }\n",
       "\n",
       "    .dataframe thead th {\n",
       "        text-align: right;\n",
       "    }\n",
       "</style>\n",
       "<table border=\"1\" class=\"dataframe\">\n",
       "  <thead>\n",
       "    <tr style=\"text-align: right;\">\n",
       "      <th></th>\n",
       "      <th>MethodAndTechAndAnno</th>\n",
       "      <th>Accessory genes</th>\n",
       "      <th>Core genes</th>\n",
       "      <th>Total genes</th>\n",
       "    </tr>\n",
       "  </thead>\n",
       "  <tbody>\n",
       "    <tr>\n",
       "      <th>0</th>\n",
       "      <td>Panaroo_Moderate_MergeParalogs_LongRead_Bakta</td>\n",
       "      <td>11605</td>\n",
       "      <td>3036</td>\n",
       "      <td>14641</td>\n",
       "    </tr>\n",
       "    <tr>\n",
       "      <th>1</th>\n",
       "      <td>Panaroo_Moderate_MergeParalogs_ShortRead_Bakta</td>\n",
       "      <td>10628</td>\n",
       "      <td>2834</td>\n",
       "      <td>13462</td>\n",
       "    </tr>\n",
       "    <tr>\n",
       "      <th>2</th>\n",
       "      <td>Panaroo_Sensitive_MergeParalogs_LongRead_Bakta</td>\n",
       "      <td>11996</td>\n",
       "      <td>3036</td>\n",
       "      <td>15032</td>\n",
       "    </tr>\n",
       "    <tr>\n",
       "      <th>3</th>\n",
       "      <td>Panaroo_Sensitive_MergeParalogs_ShortRead_Bakta</td>\n",
       "      <td>12690</td>\n",
       "      <td>2834</td>\n",
       "      <td>15524</td>\n",
       "    </tr>\n",
       "    <tr>\n",
       "      <th>4</th>\n",
       "      <td>Panaroo_Strict_MergeParalogs_LongRead_Bakta</td>\n",
       "      <td>11375</td>\n",
       "      <td>3035</td>\n",
       "      <td>14410</td>\n",
       "    </tr>\n",
       "  </tbody>\n",
       "</table>\n",
       "</div>"
      ],
      "text/plain": [
       "                              MethodAndTechAndAnno  Accessory genes  Core genes  Total genes\n",
       "0    Panaroo_Moderate_MergeParalogs_LongRead_Bakta            11605        3036        14641\n",
       "1   Panaroo_Moderate_MergeParalogs_ShortRead_Bakta            10628        2834        13462\n",
       "2   Panaroo_Sensitive_MergeParalogs_LongRead_Bakta            11996        3036        15032\n",
       "3  Panaroo_Sensitive_MergeParalogs_ShortRead_Bakta            12690        2834        15524\n",
       "4      Panaroo_Strict_MergeParalogs_LongRead_Bakta            11375        3035        14410"
      ]
     },
     "execution_count": 58,
     "metadata": {},
     "output_type": "execute_result"
    }
   ],
   "source": [
    "PG_WideSumm_DF.head()"
   ]
  },
  {
   "cell_type": "code",
   "execution_count": 59,
   "id": "311d6c19-e2f6-4077-9570-08b37e930294",
   "metadata": {},
   "outputs": [
    {
     "data": {
      "text/html": [
       "<div>\n",
       "<style scoped>\n",
       "    .dataframe tbody tr th:only-of-type {\n",
       "        vertical-align: middle;\n",
       "    }\n",
       "\n",
       "    .dataframe tbody tr th {\n",
       "        vertical-align: top;\n",
       "    }\n",
       "\n",
       "    .dataframe thead th {\n",
       "        text-align: right;\n",
       "    }\n",
       "</style>\n",
       "<table border=\"1\" class=\"dataframe\">\n",
       "  <thead>\n",
       "    <tr style=\"text-align: right;\">\n",
       "      <th></th>\n",
       "      <th>MethodAndTechAndAnno</th>\n",
       "      <th>Accessory genes</th>\n",
       "      <th>Core genes</th>\n",
       "      <th>Total genes</th>\n",
       "    </tr>\n",
       "  </thead>\n",
       "  <tbody>\n",
       "  </tbody>\n",
       "</table>\n",
       "</div>"
      ],
      "text/plain": [
       "Empty DataFrame\n",
       "Columns: [MethodAndTechAndAnno, Accessory genes, Core genes, Total genes]\n",
       "Index: []"
      ]
     },
     "execution_count": 59,
     "metadata": {},
     "output_type": "execute_result"
    }
   ],
   "source": [
    "PG_WideSumm_DF[ PG_WideSumm_DF[\"MethodAndTechAndAnno\"].str.contains(\"Ppanggolin\") ]  "
   ]
  },
  {
   "cell_type": "code",
   "execution_count": 60,
   "id": "65eb2d01-bd29-4ce1-a361-70a0da96d2f4",
   "metadata": {},
   "outputs": [
    {
     "data": {
      "text/html": [
       "<div>\n",
       "<style scoped>\n",
       "    .dataframe tbody tr th:only-of-type {\n",
       "        vertical-align: middle;\n",
       "    }\n",
       "\n",
       "    .dataframe tbody tr th {\n",
       "        vertical-align: top;\n",
       "    }\n",
       "\n",
       "    .dataframe thead th {\n",
       "        text-align: right;\n",
       "    }\n",
       "</style>\n",
       "<table border=\"1\" class=\"dataframe\">\n",
       "  <thead>\n",
       "    <tr style=\"text-align: right;\">\n",
       "      <th></th>\n",
       "      <th>Category</th>\n",
       "      <th>Range</th>\n",
       "      <th>GeneCount</th>\n",
       "      <th>Annotation</th>\n",
       "      <th>Method</th>\n",
       "      <th>SeqType</th>\n",
       "      <th>DataSet</th>\n",
       "      <th>MethodAndTech</th>\n",
       "      <th>MethodAndTechAndAnno</th>\n",
       "    </tr>\n",
       "  </thead>\n",
       "  <tbody>\n",
       "  </tbody>\n",
       "</table>\n",
       "</div>"
      ],
      "text/plain": [
       "Empty DataFrame\n",
       "Columns: [Category, Range, GeneCount, Annotation, Method, SeqType, DataSet, MethodAndTech, MethodAndTechAndAnno]\n",
       "Index: []"
      ]
     },
     "execution_count": 60,
     "metadata": {},
     "output_type": "execute_result"
    }
   ],
   "source": [
    "PG_Merged_Stats_LRandSR_DF[ PG_Merged_Stats_LRandSR_DF[\"Method\"].str.contains(\"Ppanggolin\") ].query(\"Category == 'Accessory genes' \") "
   ]
  },
  {
   "cell_type": "code",
   "execution_count": null,
   "id": "28f1af60-b806-49b0-b483-a2a2b8d5ecea",
   "metadata": {},
   "outputs": [],
   "source": []
  },
  {
   "cell_type": "code",
   "execution_count": 61,
   "id": "7a1ee959-1d5b-49b3-8ac2-1cf73cc4a39d",
   "metadata": {},
   "outputs": [],
   "source": [
    "PG_WideSumm_DF = pd.pivot(PG_Merged_Stats_LRandSR_DF,\n",
    "                          index = [\"MethodAndTechAndAnno\"],\n",
    "                          columns = [\"Category\"],\n",
    "                          values = [\"GeneCount\"] )    \n",
    "\n",
    "PG_WideSumm_DF.columns = PG_WideSumm_DF.columns.droplevel(0)\n",
    "PG_WideSumm_DF.columns.name = None\n",
    "PG_WideSumm_DF = PG_WideSumm_DF.reset_index()\n",
    "\n",
    "\n",
    "PG_WideSumm_DF[\"SeqType\"] = PG_WideSumm_DF[\"MethodAndTechAndAnno\"].str.split(\"_\").str[-2]\n",
    "PG_WideSumm_DF[\"Anno\"] = PG_WideSumm_DF[\"MethodAndTechAndAnno\"].str.split(\"_\").str[-1]\n",
    "PG_WideSumm_DF[\"Method\"] = PG_WideSumm_DF[\"MethodAndTechAndAnno\"].str.replace(\"_LongRead\", \"\").str.replace(\"_ShortRead\", \"\").str.replace(\"_Bakta\", \"\").str.replace(\"_PGAP\", \"\")       \n",
    "PG_WideSumm_DF[\"PangenomeTool\"] = PG_WideSumm_DF[\"MethodAndTechAndAnno\"].str.split(\"_\").str[0:1].str[0]\n",
    "\n",
    "# Do some reformatting \n",
    "NewColOrder = ['PangenomeTool', 'SeqType', 'Anno', 'Method', 'Total genes',  'Core genes', 'Accessory genes',  ]\n",
    "\n",
    "PG_WideSumm_DF = PG_WideSumm_DF[NewColOrder]\n",
    "\n",
    "PG_WideSumm_DF = PG_WideSumm_DF.sort_values([\"SeqType\", \"PangenomeTool\", \"Accessory genes\"]).reset_index(drop=True)"
   ]
  },
  {
   "cell_type": "code",
   "execution_count": 62,
   "id": "fec5fe96-fda3-40c4-88c3-2d5cc7453d8b",
   "metadata": {},
   "outputs": [
    {
     "data": {
      "text/plain": [
       "Index(['PangenomeTool', 'SeqType', 'Anno', 'Method', 'Total genes', 'Core genes', 'Accessory genes'], dtype='object')"
      ]
     },
     "execution_count": 62,
     "metadata": {},
     "output_type": "execute_result"
    }
   ],
   "source": [
    "PG_WideSumm_DF.columns"
   ]
  },
  {
   "cell_type": "code",
   "execution_count": 63,
   "id": "0ccf1339-f11e-48c0-a91b-ac1e6a83486b",
   "metadata": {},
   "outputs": [],
   "source": [
    "#PG_WideSumm_DF"
   ]
  },
  {
   "cell_type": "code",
   "execution_count": 64,
   "id": "6e6560b5-35f1-48be-aec4-bd6776793fc8",
   "metadata": {},
   "outputs": [
    {
     "data": {
      "text/html": [
       "<div>\n",
       "<style scoped>\n",
       "    .dataframe tbody tr th:only-of-type {\n",
       "        vertical-align: middle;\n",
       "    }\n",
       "\n",
       "    .dataframe tbody tr th {\n",
       "        vertical-align: top;\n",
       "    }\n",
       "\n",
       "    .dataframe thead th {\n",
       "        text-align: right;\n",
       "    }\n",
       "</style>\n",
       "<table border=\"1\" class=\"dataframe\">\n",
       "  <thead>\n",
       "    <tr style=\"text-align: right;\">\n",
       "      <th></th>\n",
       "      <th>PangenomeTool</th>\n",
       "      <th>SeqType</th>\n",
       "      <th>Anno</th>\n",
       "      <th>Method</th>\n",
       "      <th>Total genes</th>\n",
       "      <th>Core genes</th>\n",
       "      <th>Accessory genes</th>\n",
       "    </tr>\n",
       "  </thead>\n",
       "  <tbody>\n",
       "    <tr>\n",
       "      <th>0</th>\n",
       "      <td>Panaroo</td>\n",
       "      <td>LongRead</td>\n",
       "      <td>Bakta</td>\n",
       "      <td>Panaroo_Strict_MergeParalogs</td>\n",
       "      <td>14410</td>\n",
       "      <td>3035</td>\n",
       "      <td>11375</td>\n",
       "    </tr>\n",
       "    <tr>\n",
       "      <th>1</th>\n",
       "      <td>Panaroo</td>\n",
       "      <td>LongRead</td>\n",
       "      <td>Bakta</td>\n",
       "      <td>Panaroo_Moderate_MergeParalogs</td>\n",
       "      <td>14641</td>\n",
       "      <td>3036</td>\n",
       "      <td>11605</td>\n",
       "    </tr>\n",
       "    <tr>\n",
       "      <th>2</th>\n",
       "      <td>Panaroo</td>\n",
       "      <td>LongRead</td>\n",
       "      <td>Bakta</td>\n",
       "      <td>Panaroo_Sensitive_MergeParalogs</td>\n",
       "      <td>15032</td>\n",
       "      <td>3036</td>\n",
       "      <td>11996</td>\n",
       "    </tr>\n",
       "    <tr>\n",
       "      <th>3</th>\n",
       "      <td>Roary</td>\n",
       "      <td>LongRead</td>\n",
       "      <td>Bakta</td>\n",
       "      <td>Roary_NoSplitParalogs_I80</td>\n",
       "      <td>13312</td>\n",
       "      <td>3035</td>\n",
       "      <td>10277</td>\n",
       "    </tr>\n",
       "    <tr>\n",
       "      <th>4</th>\n",
       "      <td>Roary</td>\n",
       "      <td>LongRead</td>\n",
       "      <td>Bakta</td>\n",
       "      <td>Roary_NoSplitParalogs_I90</td>\n",
       "      <td>14851</td>\n",
       "      <td>2915</td>\n",
       "      <td>11936</td>\n",
       "    </tr>\n",
       "    <tr>\n",
       "      <th>5</th>\n",
       "      <td>Roary</td>\n",
       "      <td>LongRead</td>\n",
       "      <td>Bakta</td>\n",
       "      <td>Roary_NoSplitParalogs</td>\n",
       "      <td>17783</td>\n",
       "      <td>2484</td>\n",
       "      <td>15299</td>\n",
       "    </tr>\n",
       "    <tr>\n",
       "      <th>6</th>\n",
       "      <td>Roary</td>\n",
       "      <td>LongRead</td>\n",
       "      <td>Bakta</td>\n",
       "      <td>Roary_Default</td>\n",
       "      <td>21400</td>\n",
       "      <td>2394</td>\n",
       "      <td>19006</td>\n",
       "    </tr>\n",
       "  </tbody>\n",
       "</table>\n",
       "</div>"
      ],
      "text/plain": [
       "  PangenomeTool   SeqType   Anno                           Method  Total genes  Core genes  Accessory genes\n",
       "0       Panaroo  LongRead  Bakta     Panaroo_Strict_MergeParalogs        14410        3035            11375\n",
       "1       Panaroo  LongRead  Bakta   Panaroo_Moderate_MergeParalogs        14641        3036            11605\n",
       "2       Panaroo  LongRead  Bakta  Panaroo_Sensitive_MergeParalogs        15032        3036            11996\n",
       "3         Roary  LongRead  Bakta        Roary_NoSplitParalogs_I80        13312        3035            10277\n",
       "4         Roary  LongRead  Bakta        Roary_NoSplitParalogs_I90        14851        2915            11936\n",
       "5         Roary  LongRead  Bakta            Roary_NoSplitParalogs        17783        2484            15299\n",
       "6         Roary  LongRead  Bakta                    Roary_Default        21400        2394            19006"
      ]
     },
     "execution_count": 64,
     "metadata": {},
     "output_type": "execute_result"
    }
   ],
   "source": [
    "PG_WideSumm_DF.query(\"SeqType == 'LongRead'\")"
   ]
  },
  {
   "cell_type": "code",
   "execution_count": 65,
   "id": "7c39e242-3337-4356-85ae-88bb8b52f479",
   "metadata": {},
   "outputs": [
    {
     "data": {
      "text/html": [
       "<div>\n",
       "<style scoped>\n",
       "    .dataframe tbody tr th:only-of-type {\n",
       "        vertical-align: middle;\n",
       "    }\n",
       "\n",
       "    .dataframe tbody tr th {\n",
       "        vertical-align: top;\n",
       "    }\n",
       "\n",
       "    .dataframe thead th {\n",
       "        text-align: right;\n",
       "    }\n",
       "</style>\n",
       "<table border=\"1\" class=\"dataframe\">\n",
       "  <thead>\n",
       "    <tr style=\"text-align: right;\">\n",
       "      <th></th>\n",
       "      <th>PangenomeTool</th>\n",
       "      <th>SeqType</th>\n",
       "      <th>Anno</th>\n",
       "      <th>Method</th>\n",
       "      <th>Total genes</th>\n",
       "      <th>Core genes</th>\n",
       "      <th>Accessory genes</th>\n",
       "    </tr>\n",
       "  </thead>\n",
       "  <tbody>\n",
       "    <tr>\n",
       "      <th>7</th>\n",
       "      <td>Panaroo</td>\n",
       "      <td>ShortRead</td>\n",
       "      <td>Bakta</td>\n",
       "      <td>Panaroo_Strict_MergeParalogs</td>\n",
       "      <td>12836</td>\n",
       "      <td>2834</td>\n",
       "      <td>10002</td>\n",
       "    </tr>\n",
       "    <tr>\n",
       "      <th>8</th>\n",
       "      <td>Panaroo</td>\n",
       "      <td>ShortRead</td>\n",
       "      <td>Bakta</td>\n",
       "      <td>Panaroo_Moderate_MergeParalogs</td>\n",
       "      <td>13462</td>\n",
       "      <td>2834</td>\n",
       "      <td>10628</td>\n",
       "    </tr>\n",
       "    <tr>\n",
       "      <th>9</th>\n",
       "      <td>Panaroo</td>\n",
       "      <td>ShortRead</td>\n",
       "      <td>Bakta</td>\n",
       "      <td>Panaroo_Sensitive_MergeParalogs</td>\n",
       "      <td>15524</td>\n",
       "      <td>2834</td>\n",
       "      <td>12690</td>\n",
       "    </tr>\n",
       "    <tr>\n",
       "      <th>10</th>\n",
       "      <td>Roary</td>\n",
       "      <td>ShortRead</td>\n",
       "      <td>Bakta</td>\n",
       "      <td>Roary_NoSplitParalogs_I80</td>\n",
       "      <td>13420</td>\n",
       "      <td>2825</td>\n",
       "      <td>10595</td>\n",
       "    </tr>\n",
       "    <tr>\n",
       "      <th>11</th>\n",
       "      <td>Roary</td>\n",
       "      <td>ShortRead</td>\n",
       "      <td>Bakta</td>\n",
       "      <td>Roary_NoSplitParalogs_I90</td>\n",
       "      <td>14933</td>\n",
       "      <td>2711</td>\n",
       "      <td>12222</td>\n",
       "    </tr>\n",
       "    <tr>\n",
       "      <th>12</th>\n",
       "      <td>Roary</td>\n",
       "      <td>ShortRead</td>\n",
       "      <td>Bakta</td>\n",
       "      <td>Roary_NoSplitParalogs</td>\n",
       "      <td>17825</td>\n",
       "      <td>2314</td>\n",
       "      <td>15511</td>\n",
       "    </tr>\n",
       "    <tr>\n",
       "      <th>13</th>\n",
       "      <td>Roary</td>\n",
       "      <td>ShortRead</td>\n",
       "      <td>Bakta</td>\n",
       "      <td>Roary_Default</td>\n",
       "      <td>19721</td>\n",
       "      <td>2234</td>\n",
       "      <td>17487</td>\n",
       "    </tr>\n",
       "  </tbody>\n",
       "</table>\n",
       "</div>"
      ],
      "text/plain": [
       "   PangenomeTool    SeqType   Anno                           Method  Total genes  Core genes  Accessory genes\n",
       "7        Panaroo  ShortRead  Bakta     Panaroo_Strict_MergeParalogs        12836        2834            10002\n",
       "8        Panaroo  ShortRead  Bakta   Panaroo_Moderate_MergeParalogs        13462        2834            10628\n",
       "9        Panaroo  ShortRead  Bakta  Panaroo_Sensitive_MergeParalogs        15524        2834            12690\n",
       "10         Roary  ShortRead  Bakta        Roary_NoSplitParalogs_I80        13420        2825            10595\n",
       "11         Roary  ShortRead  Bakta        Roary_NoSplitParalogs_I90        14933        2711            12222\n",
       "12         Roary  ShortRead  Bakta            Roary_NoSplitParalogs        17825        2314            15511\n",
       "13         Roary  ShortRead  Bakta                    Roary_Default        19721        2234            17487"
      ]
     },
     "execution_count": 65,
     "metadata": {},
     "output_type": "execute_result"
    }
   ],
   "source": [
    "PG_WideSumm_DF.query(\"SeqType == 'ShortRead'\")"
   ]
  },
  {
   "cell_type": "code",
   "execution_count": 66,
   "id": "13004f96-4f63-4d3a-a91d-e5f469749dc1",
   "metadata": {},
   "outputs": [
    {
     "data": {
      "text/html": [
       "<div>\n",
       "<style scoped>\n",
       "    .dataframe tbody tr th:only-of-type {\n",
       "        vertical-align: middle;\n",
       "    }\n",
       "\n",
       "    .dataframe tbody tr th {\n",
       "        vertical-align: top;\n",
       "    }\n",
       "\n",
       "    .dataframe thead th {\n",
       "        text-align: right;\n",
       "    }\n",
       "</style>\n",
       "<table border=\"1\" class=\"dataframe\">\n",
       "  <thead>\n",
       "    <tr style=\"text-align: right;\">\n",
       "      <th></th>\n",
       "      <th>PangenomeTool</th>\n",
       "      <th>SeqType</th>\n",
       "      <th>Anno</th>\n",
       "      <th>Method</th>\n",
       "      <th>Total genes</th>\n",
       "      <th>Core genes</th>\n",
       "      <th>Accessory genes</th>\n",
       "    </tr>\n",
       "  </thead>\n",
       "  <tbody>\n",
       "    <tr>\n",
       "      <th>0</th>\n",
       "      <td>Panaroo</td>\n",
       "      <td>LongRead</td>\n",
       "      <td>Bakta</td>\n",
       "      <td>Panaroo_Strict_MergeParalogs</td>\n",
       "      <td>14410</td>\n",
       "      <td>3035</td>\n",
       "      <td>11375</td>\n",
       "    </tr>\n",
       "    <tr>\n",
       "      <th>1</th>\n",
       "      <td>Panaroo</td>\n",
       "      <td>LongRead</td>\n",
       "      <td>Bakta</td>\n",
       "      <td>Panaroo_Moderate_MergeParalogs</td>\n",
       "      <td>14641</td>\n",
       "      <td>3036</td>\n",
       "      <td>11605</td>\n",
       "    </tr>\n",
       "    <tr>\n",
       "      <th>2</th>\n",
       "      <td>Panaroo</td>\n",
       "      <td>LongRead</td>\n",
       "      <td>Bakta</td>\n",
       "      <td>Panaroo_Sensitive_MergeParalogs</td>\n",
       "      <td>15032</td>\n",
       "      <td>3036</td>\n",
       "      <td>11996</td>\n",
       "    </tr>\n",
       "    <tr>\n",
       "      <th>3</th>\n",
       "      <td>Roary</td>\n",
       "      <td>LongRead</td>\n",
       "      <td>Bakta</td>\n",
       "      <td>Roary_NoSplitParalogs_I80</td>\n",
       "      <td>13312</td>\n",
       "      <td>3035</td>\n",
       "      <td>10277</td>\n",
       "    </tr>\n",
       "    <tr>\n",
       "      <th>4</th>\n",
       "      <td>Roary</td>\n",
       "      <td>LongRead</td>\n",
       "      <td>Bakta</td>\n",
       "      <td>Roary_NoSplitParalogs_I90</td>\n",
       "      <td>14851</td>\n",
       "      <td>2915</td>\n",
       "      <td>11936</td>\n",
       "    </tr>\n",
       "  </tbody>\n",
       "</table>\n",
       "</div>"
      ],
      "text/plain": [
       "  PangenomeTool   SeqType   Anno                           Method  Total genes  Core genes  Accessory genes\n",
       "0       Panaroo  LongRead  Bakta     Panaroo_Strict_MergeParalogs        14410        3035            11375\n",
       "1       Panaroo  LongRead  Bakta   Panaroo_Moderate_MergeParalogs        14641        3036            11605\n",
       "2       Panaroo  LongRead  Bakta  Panaroo_Sensitive_MergeParalogs        15032        3036            11996\n",
       "3         Roary  LongRead  Bakta        Roary_NoSplitParalogs_I80        13312        3035            10277\n",
       "4         Roary  LongRead  Bakta        Roary_NoSplitParalogs_I90        14851        2915            11936"
      ]
     },
     "execution_count": 66,
     "metadata": {},
     "output_type": "execute_result"
    }
   ],
   "source": [
    "PG_WideSumm_DF.head(5)"
   ]
  },
  {
   "cell_type": "code",
   "execution_count": null,
   "id": "a7ecf26b-9f1a-477a-82b8-cedb215d208e",
   "metadata": {},
   "outputs": [],
   "source": []
  },
  {
   "cell_type": "code",
   "execution_count": null,
   "id": "c96a6e8a-2252-4062-aeb8-abb2f117b6d3",
   "metadata": {},
   "outputs": [],
   "source": []
  },
  {
   "cell_type": "markdown",
   "id": "ae2f8d1b-0b59-493f-9ed1-e94fd9c4f4d0",
   "metadata": {},
   "source": [
    "# Plotting key figures (For SR vs LR - Bakta + 3 pipelines)"
   ]
  },
  {
   "cell_type": "markdown",
   "id": "485b3a79-a79f-434e-8fc8-8d456dc2ed54",
   "metadata": {},
   "source": [
    "# Table 1) Pan-genome predictions - LR vs SR - 3 pipelines"
   ]
  },
  {
   "cell_type": "code",
   "execution_count": 67,
   "id": "12459fe2-8840-4cb0-bf5e-eaabdfe09c88",
   "metadata": {},
   "outputs": [
    {
     "data": {
      "text/html": [
       "<div>\n",
       "<style scoped>\n",
       "    .dataframe tbody tr th:only-of-type {\n",
       "        vertical-align: middle;\n",
       "    }\n",
       "\n",
       "    .dataframe tbody tr th {\n",
       "        vertical-align: top;\n",
       "    }\n",
       "\n",
       "    .dataframe thead th {\n",
       "        text-align: right;\n",
       "    }\n",
       "</style>\n",
       "<table border=\"1\" class=\"dataframe\">\n",
       "  <thead>\n",
       "    <tr style=\"text-align: right;\">\n",
       "      <th></th>\n",
       "      <th>PangenomeTool</th>\n",
       "      <th>SeqType</th>\n",
       "      <th>Anno</th>\n",
       "      <th>Method</th>\n",
       "      <th>Total genes</th>\n",
       "      <th>Core genes</th>\n",
       "      <th>Accessory genes</th>\n",
       "    </tr>\n",
       "  </thead>\n",
       "  <tbody>\n",
       "    <tr>\n",
       "      <th>0</th>\n",
       "      <td>Panaroo</td>\n",
       "      <td>LongRead</td>\n",
       "      <td>Bakta</td>\n",
       "      <td>Panaroo_Strict_MergeParalogs</td>\n",
       "      <td>14410</td>\n",
       "      <td>3035</td>\n",
       "      <td>11375</td>\n",
       "    </tr>\n",
       "  </tbody>\n",
       "</table>\n",
       "</div>"
      ],
      "text/plain": [
       "  PangenomeTool   SeqType   Anno                        Method  Total genes  Core genes  Accessory genes\n",
       "0       Panaroo  LongRead  Bakta  Panaroo_Strict_MergeParalogs        14410        3035            11375"
      ]
     },
     "execution_count": 67,
     "metadata": {},
     "output_type": "execute_result"
    }
   ],
   "source": [
    "PG_WideSumm_DF.head(1)"
   ]
  },
  {
   "cell_type": "code",
   "execution_count": 68,
   "id": "f46c8c02-412e-445a-aa2d-bbd397f3242f",
   "metadata": {},
   "outputs": [],
   "source": [
    "#print(PG_WideSumm_DF.to_latex())"
   ]
  },
  {
   "cell_type": "code",
   "execution_count": 69,
   "id": "c976a553-e6d0-4616-8a69-5f45df14ce5e",
   "metadata": {},
   "outputs": [],
   "source": [
    "PG_WideSumm_DF = PG_WideSumm_DF.sort_values([\"Method\", \"SeqType\"])"
   ]
  },
  {
   "cell_type": "code",
   "execution_count": 70,
   "id": "6b144226-bf57-4bf7-aaf1-a0665ed2df8f",
   "metadata": {},
   "outputs": [
    {
     "data": {
      "text/html": [
       "<div>\n",
       "<style scoped>\n",
       "    .dataframe tbody tr th:only-of-type {\n",
       "        vertical-align: middle;\n",
       "    }\n",
       "\n",
       "    .dataframe tbody tr th {\n",
       "        vertical-align: top;\n",
       "    }\n",
       "\n",
       "    .dataframe thead th {\n",
       "        text-align: right;\n",
       "    }\n",
       "</style>\n",
       "<table border=\"1\" class=\"dataframe\">\n",
       "  <thead>\n",
       "    <tr style=\"text-align: right;\">\n",
       "      <th></th>\n",
       "      <th>PangenomeTool</th>\n",
       "      <th>SeqType</th>\n",
       "      <th>Anno</th>\n",
       "      <th>Method</th>\n",
       "      <th>Total genes</th>\n",
       "      <th>Core genes</th>\n",
       "      <th>Accessory genes</th>\n",
       "    </tr>\n",
       "  </thead>\n",
       "  <tbody>\n",
       "    <tr>\n",
       "      <th>1</th>\n",
       "      <td>Panaroo</td>\n",
       "      <td>LongRead</td>\n",
       "      <td>Bakta</td>\n",
       "      <td>Panaroo_Moderate_MergeParalogs</td>\n",
       "      <td>14641</td>\n",
       "      <td>3036</td>\n",
       "      <td>11605</td>\n",
       "    </tr>\n",
       "    <tr>\n",
       "      <th>8</th>\n",
       "      <td>Panaroo</td>\n",
       "      <td>ShortRead</td>\n",
       "      <td>Bakta</td>\n",
       "      <td>Panaroo_Moderate_MergeParalogs</td>\n",
       "      <td>13462</td>\n",
       "      <td>2834</td>\n",
       "      <td>10628</td>\n",
       "    </tr>\n",
       "    <tr>\n",
       "      <th>2</th>\n",
       "      <td>Panaroo</td>\n",
       "      <td>LongRead</td>\n",
       "      <td>Bakta</td>\n",
       "      <td>Panaroo_Sensitive_MergeParalogs</td>\n",
       "      <td>15032</td>\n",
       "      <td>3036</td>\n",
       "      <td>11996</td>\n",
       "    </tr>\n",
       "    <tr>\n",
       "      <th>9</th>\n",
       "      <td>Panaroo</td>\n",
       "      <td>ShortRead</td>\n",
       "      <td>Bakta</td>\n",
       "      <td>Panaroo_Sensitive_MergeParalogs</td>\n",
       "      <td>15524</td>\n",
       "      <td>2834</td>\n",
       "      <td>12690</td>\n",
       "    </tr>\n",
       "    <tr>\n",
       "      <th>0</th>\n",
       "      <td>Panaroo</td>\n",
       "      <td>LongRead</td>\n",
       "      <td>Bakta</td>\n",
       "      <td>Panaroo_Strict_MergeParalogs</td>\n",
       "      <td>14410</td>\n",
       "      <td>3035</td>\n",
       "      <td>11375</td>\n",
       "    </tr>\n",
       "    <tr>\n",
       "      <th>7</th>\n",
       "      <td>Panaroo</td>\n",
       "      <td>ShortRead</td>\n",
       "      <td>Bakta</td>\n",
       "      <td>Panaroo_Strict_MergeParalogs</td>\n",
       "      <td>12836</td>\n",
       "      <td>2834</td>\n",
       "      <td>10002</td>\n",
       "    </tr>\n",
       "    <tr>\n",
       "      <th>6</th>\n",
       "      <td>Roary</td>\n",
       "      <td>LongRead</td>\n",
       "      <td>Bakta</td>\n",
       "      <td>Roary_Default</td>\n",
       "      <td>21400</td>\n",
       "      <td>2394</td>\n",
       "      <td>19006</td>\n",
       "    </tr>\n",
       "    <tr>\n",
       "      <th>13</th>\n",
       "      <td>Roary</td>\n",
       "      <td>ShortRead</td>\n",
       "      <td>Bakta</td>\n",
       "      <td>Roary_Default</td>\n",
       "      <td>19721</td>\n",
       "      <td>2234</td>\n",
       "      <td>17487</td>\n",
       "    </tr>\n",
       "    <tr>\n",
       "      <th>5</th>\n",
       "      <td>Roary</td>\n",
       "      <td>LongRead</td>\n",
       "      <td>Bakta</td>\n",
       "      <td>Roary_NoSplitParalogs</td>\n",
       "      <td>17783</td>\n",
       "      <td>2484</td>\n",
       "      <td>15299</td>\n",
       "    </tr>\n",
       "    <tr>\n",
       "      <th>12</th>\n",
       "      <td>Roary</td>\n",
       "      <td>ShortRead</td>\n",
       "      <td>Bakta</td>\n",
       "      <td>Roary_NoSplitParalogs</td>\n",
       "      <td>17825</td>\n",
       "      <td>2314</td>\n",
       "      <td>15511</td>\n",
       "    </tr>\n",
       "    <tr>\n",
       "      <th>3</th>\n",
       "      <td>Roary</td>\n",
       "      <td>LongRead</td>\n",
       "      <td>Bakta</td>\n",
       "      <td>Roary_NoSplitParalogs_I80</td>\n",
       "      <td>13312</td>\n",
       "      <td>3035</td>\n",
       "      <td>10277</td>\n",
       "    </tr>\n",
       "    <tr>\n",
       "      <th>10</th>\n",
       "      <td>Roary</td>\n",
       "      <td>ShortRead</td>\n",
       "      <td>Bakta</td>\n",
       "      <td>Roary_NoSplitParalogs_I80</td>\n",
       "      <td>13420</td>\n",
       "      <td>2825</td>\n",
       "      <td>10595</td>\n",
       "    </tr>\n",
       "    <tr>\n",
       "      <th>4</th>\n",
       "      <td>Roary</td>\n",
       "      <td>LongRead</td>\n",
       "      <td>Bakta</td>\n",
       "      <td>Roary_NoSplitParalogs_I90</td>\n",
       "      <td>14851</td>\n",
       "      <td>2915</td>\n",
       "      <td>11936</td>\n",
       "    </tr>\n",
       "    <tr>\n",
       "      <th>11</th>\n",
       "      <td>Roary</td>\n",
       "      <td>ShortRead</td>\n",
       "      <td>Bakta</td>\n",
       "      <td>Roary_NoSplitParalogs_I90</td>\n",
       "      <td>14933</td>\n",
       "      <td>2711</td>\n",
       "      <td>12222</td>\n",
       "    </tr>\n",
       "  </tbody>\n",
       "</table>\n",
       "</div>"
      ],
      "text/plain": [
       "   PangenomeTool    SeqType   Anno                           Method  Total genes  Core genes  Accessory genes\n",
       "1        Panaroo   LongRead  Bakta   Panaroo_Moderate_MergeParalogs        14641        3036            11605\n",
       "8        Panaroo  ShortRead  Bakta   Panaroo_Moderate_MergeParalogs        13462        2834            10628\n",
       "2        Panaroo   LongRead  Bakta  Panaroo_Sensitive_MergeParalogs        15032        3036            11996\n",
       "9        Panaroo  ShortRead  Bakta  Panaroo_Sensitive_MergeParalogs        15524        2834            12690\n",
       "0        Panaroo   LongRead  Bakta     Panaroo_Strict_MergeParalogs        14410        3035            11375\n",
       "7        Panaroo  ShortRead  Bakta     Panaroo_Strict_MergeParalogs        12836        2834            10002\n",
       "6          Roary   LongRead  Bakta                    Roary_Default        21400        2394            19006\n",
       "13         Roary  ShortRead  Bakta                    Roary_Default        19721        2234            17487\n",
       "5          Roary   LongRead  Bakta            Roary_NoSplitParalogs        17783        2484            15299\n",
       "12         Roary  ShortRead  Bakta            Roary_NoSplitParalogs        17825        2314            15511\n",
       "3          Roary   LongRead  Bakta        Roary_NoSplitParalogs_I80        13312        3035            10277\n",
       "10         Roary  ShortRead  Bakta        Roary_NoSplitParalogs_I80        13420        2825            10595\n",
       "4          Roary   LongRead  Bakta        Roary_NoSplitParalogs_I90        14851        2915            11936\n",
       "11         Roary  ShortRead  Bakta        Roary_NoSplitParalogs_I90        14933        2711            12222"
      ]
     },
     "execution_count": 70,
     "metadata": {},
     "output_type": "execute_result"
    }
   ],
   "source": [
    "PG_WideSumm_DF"
   ]
  },
  {
   "cell_type": "code",
   "execution_count": 71,
   "id": "5104024d-0ea3-4360-ac70-e89b9976f956",
   "metadata": {},
   "outputs": [
    {
     "data": {
      "text/plain": [
       "240"
      ]
     },
     "execution_count": 71,
     "metadata": {},
     "output_type": "execute_result"
    }
   ],
   "source": [
    "676 - 436"
   ]
  },
  {
   "cell_type": "code",
   "execution_count": 72,
   "id": "db1b8b1b-d981-48da-89ae-db26a8c974c3",
   "metadata": {},
   "outputs": [
    {
     "data": {
      "text/plain": [
       "344"
      ]
     },
     "execution_count": 72,
     "metadata": {},
     "output_type": "execute_result"
    }
   ],
   "source": [
    "813 - 469"
   ]
  },
  {
   "cell_type": "code",
   "execution_count": 73,
   "id": "c046c8ef-f7ef-4069-b08a-a855ece7c167",
   "metadata": {},
   "outputs": [],
   "source": [
    "PG_WideSumm_DF[\"Weight\"] = PG_WideSumm_DF.groupby(\"Method\")[\"Accessory genes\"].transform('sum') / 2"
   ]
  },
  {
   "cell_type": "code",
   "execution_count": 74,
   "id": "e5be57fa-48b0-414a-b661-7e45faecb765",
   "metadata": {},
   "outputs": [],
   "source": [
    "#PG_WideSumm_DF"
   ]
  },
  {
   "cell_type": "code",
   "execution_count": null,
   "id": "938fe0a6-c90d-4581-acf4-23bb77c130c5",
   "metadata": {},
   "outputs": [],
   "source": []
  },
  {
   "cell_type": "code",
   "execution_count": null,
   "id": "64073e90-6882-4009-a432-bd1be72cba7c",
   "metadata": {},
   "outputs": [],
   "source": []
  },
  {
   "cell_type": "code",
   "execution_count": 75,
   "id": "3431cef5-edd1-4b6d-8d2d-6a109eb4c388",
   "metadata": {},
   "outputs": [
    {
     "data": {
      "text/html": [
       "<div>\n",
       "<style scoped>\n",
       "    .dataframe tbody tr th:only-of-type {\n",
       "        vertical-align: middle;\n",
       "    }\n",
       "\n",
       "    .dataframe tbody tr th {\n",
       "        vertical-align: top;\n",
       "    }\n",
       "\n",
       "    .dataframe thead th {\n",
       "        text-align: right;\n",
       "    }\n",
       "</style>\n",
       "<table border=\"1\" class=\"dataframe\">\n",
       "  <thead>\n",
       "    <tr style=\"text-align: right;\">\n",
       "      <th></th>\n",
       "      <th>PangenomeTool</th>\n",
       "      <th>SeqType</th>\n",
       "      <th>Anno</th>\n",
       "      <th>Method</th>\n",
       "      <th>Total genes</th>\n",
       "      <th>Core genes</th>\n",
       "      <th>Accessory genes</th>\n",
       "    </tr>\n",
       "  </thead>\n",
       "  <tbody>\n",
       "    <tr>\n",
       "      <th>0</th>\n",
       "      <td>Panaroo</td>\n",
       "      <td>LongRead</td>\n",
       "      <td>Bakta</td>\n",
       "      <td>Panaroo (Strict &amp; MergeParalogs)</td>\n",
       "      <td>14410</td>\n",
       "      <td>3035</td>\n",
       "      <td>11375</td>\n",
       "    </tr>\n",
       "    <tr>\n",
       "      <th>1</th>\n",
       "      <td>Panaroo</td>\n",
       "      <td>ShortRead</td>\n",
       "      <td>Bakta</td>\n",
       "      <td>Panaroo (Strict &amp; MergeParalogs)</td>\n",
       "      <td>12836</td>\n",
       "      <td>2834</td>\n",
       "      <td>10002</td>\n",
       "    </tr>\n",
       "    <tr>\n",
       "      <th>2</th>\n",
       "      <td>Panaroo</td>\n",
       "      <td>LongRead</td>\n",
       "      <td>Bakta</td>\n",
       "      <td>Panaroo (Moderate &amp; MergeParalogs)</td>\n",
       "      <td>14641</td>\n",
       "      <td>3036</td>\n",
       "      <td>11605</td>\n",
       "    </tr>\n",
       "    <tr>\n",
       "      <th>3</th>\n",
       "      <td>Panaroo</td>\n",
       "      <td>ShortRead</td>\n",
       "      <td>Bakta</td>\n",
       "      <td>Panaroo (Moderate &amp; MergeParalogs)</td>\n",
       "      <td>13462</td>\n",
       "      <td>2834</td>\n",
       "      <td>10628</td>\n",
       "    </tr>\n",
       "    <tr>\n",
       "      <th>4</th>\n",
       "      <td>Panaroo</td>\n",
       "      <td>LongRead</td>\n",
       "      <td>Bakta</td>\n",
       "      <td>Panaroo (Sensitive &amp; MergeParalogs)</td>\n",
       "      <td>15032</td>\n",
       "      <td>3036</td>\n",
       "      <td>11996</td>\n",
       "    </tr>\n",
       "    <tr>\n",
       "      <th>5</th>\n",
       "      <td>Panaroo</td>\n",
       "      <td>ShortRead</td>\n",
       "      <td>Bakta</td>\n",
       "      <td>Panaroo (Sensitive &amp; MergeParalogs)</td>\n",
       "      <td>15524</td>\n",
       "      <td>2834</td>\n",
       "      <td>12690</td>\n",
       "    </tr>\n",
       "    <tr>\n",
       "      <th>6</th>\n",
       "      <td>Roary</td>\n",
       "      <td>LongRead</td>\n",
       "      <td>Bakta</td>\n",
       "      <td>Roary (MergeParalogs &amp; I80)</td>\n",
       "      <td>13312</td>\n",
       "      <td>3035</td>\n",
       "      <td>10277</td>\n",
       "    </tr>\n",
       "    <tr>\n",
       "      <th>7</th>\n",
       "      <td>Roary</td>\n",
       "      <td>ShortRead</td>\n",
       "      <td>Bakta</td>\n",
       "      <td>Roary (MergeParalogs &amp; I80)</td>\n",
       "      <td>13420</td>\n",
       "      <td>2825</td>\n",
       "      <td>10595</td>\n",
       "    </tr>\n",
       "    <tr>\n",
       "      <th>8</th>\n",
       "      <td>Roary</td>\n",
       "      <td>LongRead</td>\n",
       "      <td>Bakta</td>\n",
       "      <td>Roary (MergeParalogs &amp; I90)</td>\n",
       "      <td>14851</td>\n",
       "      <td>2915</td>\n",
       "      <td>11936</td>\n",
       "    </tr>\n",
       "    <tr>\n",
       "      <th>9</th>\n",
       "      <td>Roary</td>\n",
       "      <td>ShortRead</td>\n",
       "      <td>Bakta</td>\n",
       "      <td>Roary (MergeParalogs &amp; I90)</td>\n",
       "      <td>14933</td>\n",
       "      <td>2711</td>\n",
       "      <td>12222</td>\n",
       "    </tr>\n",
       "    <tr>\n",
       "      <th>10</th>\n",
       "      <td>Roary</td>\n",
       "      <td>LongRead</td>\n",
       "      <td>Bakta</td>\n",
       "      <td>Roary (MergeParalogs)</td>\n",
       "      <td>17783</td>\n",
       "      <td>2484</td>\n",
       "      <td>15299</td>\n",
       "    </tr>\n",
       "    <tr>\n",
       "      <th>11</th>\n",
       "      <td>Roary</td>\n",
       "      <td>ShortRead</td>\n",
       "      <td>Bakta</td>\n",
       "      <td>Roary (MergeParalogs)</td>\n",
       "      <td>17825</td>\n",
       "      <td>2314</td>\n",
       "      <td>15511</td>\n",
       "    </tr>\n",
       "    <tr>\n",
       "      <th>12</th>\n",
       "      <td>Roary</td>\n",
       "      <td>LongRead</td>\n",
       "      <td>Bakta</td>\n",
       "      <td>Roary (Default)</td>\n",
       "      <td>21400</td>\n",
       "      <td>2394</td>\n",
       "      <td>19006</td>\n",
       "    </tr>\n",
       "    <tr>\n",
       "      <th>13</th>\n",
       "      <td>Roary</td>\n",
       "      <td>ShortRead</td>\n",
       "      <td>Bakta</td>\n",
       "      <td>Roary (Default)</td>\n",
       "      <td>19721</td>\n",
       "      <td>2234</td>\n",
       "      <td>17487</td>\n",
       "    </tr>\n",
       "  </tbody>\n",
       "</table>\n",
       "</div>"
      ],
      "text/plain": [
       "   PangenomeTool    SeqType   Anno                               Method  Total genes  Core genes  Accessory genes\n",
       "0        Panaroo   LongRead  Bakta     Panaroo (Strict & MergeParalogs)        14410        3035            11375\n",
       "1        Panaroo  ShortRead  Bakta     Panaroo (Strict & MergeParalogs)        12836        2834            10002\n",
       "2        Panaroo   LongRead  Bakta   Panaroo (Moderate & MergeParalogs)        14641        3036            11605\n",
       "3        Panaroo  ShortRead  Bakta   Panaroo (Moderate & MergeParalogs)        13462        2834            10628\n",
       "4        Panaroo   LongRead  Bakta  Panaroo (Sensitive & MergeParalogs)        15032        3036            11996\n",
       "5        Panaroo  ShortRead  Bakta  Panaroo (Sensitive & MergeParalogs)        15524        2834            12690\n",
       "6          Roary   LongRead  Bakta          Roary (MergeParalogs & I80)        13312        3035            10277\n",
       "7          Roary  ShortRead  Bakta          Roary (MergeParalogs & I80)        13420        2825            10595\n",
       "8          Roary   LongRead  Bakta          Roary (MergeParalogs & I90)        14851        2915            11936\n",
       "9          Roary  ShortRead  Bakta          Roary (MergeParalogs & I90)        14933        2711            12222\n",
       "10         Roary   LongRead  Bakta                Roary (MergeParalogs)        17783        2484            15299\n",
       "11         Roary  ShortRead  Bakta                Roary (MergeParalogs)        17825        2314            15511\n",
       "12         Roary   LongRead  Bakta                      Roary (Default)        21400        2394            19006\n",
       "13         Roary  ShortRead  Bakta                      Roary (Default)        19721        2234            17487"
      ]
     },
     "execution_count": 75,
     "metadata": {},
     "output_type": "execute_result"
    }
   ],
   "source": [
    "\n",
    "orderToPlot_X = ['Panaroo_Strict_MergeParalogs', 'Panaroo_Moderate_MergeParalogs',\n",
    "                         'Panaroo_Sensitive_MergeParalogs', 'Panaroo_Strict',\n",
    "                         'Panaroo_Moderate', 'Panaroo_Sensitive',  'Roary_NoSplitParalogs_I80', 'Roary_NoSplitParalogs_I90',\n",
    "                         'Roary_NoSplitParalogs',  'Roary_Default', 'Ppanggolin_Default',] #'Ppanggolin_I95', 'Ppanggolin_I90' ]\n",
    "\n",
    "dictOfValues_To_Label = {'Panaroo_Strict_MergeParalogs': 'Panaroo (Strict & MergeParalogs)',\n",
    "                         'Panaroo_Moderate_MergeParalogs': 'Panaroo (Moderate & MergeParalogs)',\n",
    "                         'Panaroo_Sensitive_MergeParalogs': 'Panaroo (Sensitive & MergeParalogs)',\n",
    "                         'Panaroo_Strict': 'Panaroo (Strict)',\n",
    "                         'Panaroo_Moderate': 'Panaroo (Moderate)',\n",
    "                         'Panaroo_Sensitive': 'Panaroo (Sensitive)',\n",
    "                         'Roary_NoSplitParalogs_I80': 'Roary (MergeParalogs & I80)',\n",
    "                         'Roary_NoSplitParalogs_I90': 'Roary (MergeParalogs & I90)',\n",
    "                         'Roary_NoSplitParalogs': 'Roary (MergeParalogs)',\n",
    "                         'Roary_Default': 'Roary (Default)',\n",
    "                         'Ppanggolin_Default': 'Ppanggolin (Default)',\n",
    "                         'Ppanggolin_I90': 'Ppanggolin (I90)',\n",
    "                         'Ppanggolin_I95': 'Ppanggolin (I95)',}\n",
    "\n",
    "\n",
    "PG_WideSumm_DF = PG_WideSumm_DF.sort_values(\"Method\", key=lambda x: pd.Categorical(x, categories=orderToPlot_X, ordered=True))\n",
    "#PG_WideSumm_DF = PG_WideSumm_DF.sort_values([\"Method\", \"SeqType\"], key=lambda x: pd.Categorical(x, categories=orderToPlot_X, ordered=True))\n",
    "\n",
    "PG_WideSumm_V2_DF = PG_WideSumm_DF.copy()\n",
    "\n",
    "PG_WideSumm_V2_DF[\"Method\"] = PG_WideSumm_V2_DF[\"Method\"].replace(dictOfValues_To_Label)\n",
    "\n",
    "NewColOrder = ['PangenomeTool', 'SeqType', 'Anno', 'Method', 'Total genes',  'Core genes', 'Accessory genes',  ]\n",
    "\n",
    "PG_WideSumm_V2_DF_Trim = PG_WideSumm_V2_DF[NewColOrder].reset_index(drop=True)\n",
    "\n",
    "PG_WideSumm_V2_DF_Trim"
   ]
  },
  {
   "cell_type": "code",
   "execution_count": 76,
   "id": "07c66ac0-9aea-40cf-a494-8ffb1c2a21e0",
   "metadata": {},
   "outputs": [],
   "source": [
    "# https://stackoverflow.com/questions/35634238/how-to-save-a-pandas-dataframe-table-as-a-png   "
   ]
  },
  {
   "cell_type": "code",
   "execution_count": 77,
   "id": "cc8f6484-e5f6-44c8-94fc-1b45f9e17058",
   "metadata": {},
   "outputs": [],
   "source": [
    "#from pandas.table.plotting import table # EDIT: see deprecation warnings below\n",
    "#from pandas.plotting import table \n",
    "#ax = plt.subplot(111, frame_on=False) # no visible frame\n",
    "#ax.xaxis.set_visible(False)  # hide the x axis\n",
    "#ax.yaxis.set_visible(False)  # hide the y axis\n",
    "\n",
    "#table(ax, PG_WideSumm_V2_DF_Trim)  # where df is your data frame\n"
   ]
  },
  {
   "cell_type": "code",
   "execution_count": 78,
   "id": "cb3bb454-897a-4ec7-87b3-657aa4e31b43",
   "metadata": {},
   "outputs": [
    {
     "data": {
      "text/html": [
       "<div>\n",
       "<style scoped>\n",
       "    .dataframe tbody tr th:only-of-type {\n",
       "        vertical-align: middle;\n",
       "    }\n",
       "\n",
       "    .dataframe tbody tr th {\n",
       "        vertical-align: top;\n",
       "    }\n",
       "\n",
       "    .dataframe thead th {\n",
       "        text-align: right;\n",
       "    }\n",
       "</style>\n",
       "<table border=\"1\" class=\"dataframe\">\n",
       "  <thead>\n",
       "    <tr style=\"text-align: right;\">\n",
       "      <th></th>\n",
       "      <th>PangenomeTool</th>\n",
       "      <th>SeqType</th>\n",
       "      <th>Anno</th>\n",
       "      <th>Method</th>\n",
       "      <th>Total genes</th>\n",
       "      <th>Core genes</th>\n",
       "      <th>Accessory genes</th>\n",
       "      <th>Weight</th>\n",
       "    </tr>\n",
       "  </thead>\n",
       "  <tbody>\n",
       "  </tbody>\n",
       "</table>\n",
       "</div>"
      ],
      "text/plain": [
       "Empty DataFrame\n",
       "Columns: [PangenomeTool, SeqType, Anno, Method, Total genes, Core genes, Accessory genes, Weight]\n",
       "Index: []"
      ]
     },
     "execution_count": 78,
     "metadata": {},
     "output_type": "execute_result"
    }
   ],
   "source": [
    "PG_WideSumm_V2_DF[ PG_WideSumm_V2_DF[\"Method\"].str.contains(\"Ppanggolin\") ]  "
   ]
  },
  {
   "cell_type": "code",
   "execution_count": 79,
   "id": "655e30e8-3305-447a-a3a2-2792b16caedd",
   "metadata": {},
   "outputs": [
    {
     "data": {
      "text/plain": [
       "Index(['PangenomeTool', 'SeqType', 'Anno', 'Method', 'Total genes', 'Core genes', 'Accessory genes', 'Weight'], dtype='object')"
      ]
     },
     "execution_count": 79,
     "metadata": {},
     "output_type": "execute_result"
    }
   ],
   "source": [
    "PG_WideSumm_V2_DF.columns  "
   ]
  },
  {
   "cell_type": "code",
   "execution_count": 80,
   "id": "1a3b0ea1-f5d1-4f13-bc53-621540ee31d8",
   "metadata": {},
   "outputs": [
    {
     "data": {
      "text/plain": [
       "dict_keys(['Panaroo_Strict_MergeParalogs', 'Panaroo_Moderate_MergeParalogs', 'Panaroo_Sensitive_MergeParalogs', 'Panaroo_Strict', 'Panaroo_Moderate', 'Panaroo_Sensitive', 'Roary_NoSplitParalogs_I80', 'Roary_NoSplitParalogs_I90', 'Roary_NoSplitParalogs', 'Roary_Default', 'Ppanggolin_Default', 'Ppanggolin_I90', 'Ppanggolin_I95'])"
      ]
     },
     "execution_count": 80,
     "metadata": {},
     "output_type": "execute_result"
    }
   ],
   "source": [
    "dictOfValues_To_Label.keys()"
   ]
  },
  {
   "cell_type": "code",
   "execution_count": 81,
   "id": "d7c4908e-2856-475b-afa2-741e6e484eda",
   "metadata": {},
   "outputs": [
    {
     "data": {
      "text/plain": [
       "dict_values(['Panaroo (Strict & MergeParalogs)', 'Panaroo (Moderate & MergeParalogs)', 'Panaroo (Sensitive & MergeParalogs)', 'Panaroo (Strict)', 'Panaroo (Moderate)', 'Panaroo (Sensitive)', 'Roary (MergeParalogs & I80)', 'Roary (MergeParalogs & I90)', 'Roary (MergeParalogs)', 'Roary (Default)', 'Ppanggolin (Default)', 'Ppanggolin (I90)', 'Ppanggolin (I95)'])"
      ]
     },
     "execution_count": 81,
     "metadata": {},
     "output_type": "execute_result"
    }
   ],
   "source": [
    "dictOfValues_To_Label.values()"
   ]
  },
  {
   "cell_type": "code",
   "execution_count": 82,
   "id": "6772bd12-a6a1-4f72-8b30-b6e3bdaa1ec9",
   "metadata": {},
   "outputs": [],
   "source": [
    "\n",
    "MethodValues_X = ['Panaroo_Strict_MergeParalogs', 'Panaroo_Moderate_MergeParalogs',\n",
    "                 'Panaroo_Sensitive_MergeParalogs', 'Panaroo_Strict',\n",
    "                 'Panaroo_Moderate', 'Panaroo_Sensitive',  'Roary_NoSplitParalogs_I80', 'Roary_NoSplitParalogs_I90',\n",
    "                 'Roary_NoSplitParalogs',  'Roary_Default', 'Ppanggolin_Default' ] #'Ppanggolin_I90', 'Ppanggolin_I95',]\n",
    "\n",
    "Plot_TickLabels = ['Panaroo (Strict & MergeParalogs)', 'Panaroo (Moderate & MergeParalogs)',\n",
    "                 'Panaroo (Sensitive & MergeParalogs)', 'Panaroo (Strict)',\n",
    "                 'Panaroo (Moderate)', 'Panaroo (Sensitive)',  'Roary (MergeParalogs & I80)', 'Roary (MergeParalogs & I90)',\n",
    "                 'Roary (MergeParalogs)', 'Roary (Default)', 'Ppanggolin (Default)' ] #'Ppanggolin (I90)', 'Ppanggolin (I95)']\n",
    "\n",
    "\n",
    "dictOfValues_To_Label = {}  \n",
    "\n",
    "for i in range(len(MethodValues_X)):\n",
    "        \n",
    "    dictOfValues_To_Label[MethodValues_X[i]]   =   Plot_TickLabels[i]\n",
    "    "
   ]
  },
  {
   "cell_type": "code",
   "execution_count": 83,
   "id": "43315445-5b5f-46d7-9a0c-f02e9b1eae24",
   "metadata": {},
   "outputs": [
    {
     "data": {
      "text/plain": [
       "{'Panaroo_Strict_MergeParalogs': 'Panaroo (Strict & MergeParalogs)',\n",
       " 'Panaroo_Moderate_MergeParalogs': 'Panaroo (Moderate & MergeParalogs)',\n",
       " 'Panaroo_Sensitive_MergeParalogs': 'Panaroo (Sensitive & MergeParalogs)',\n",
       " 'Panaroo_Strict': 'Panaroo (Strict)',\n",
       " 'Panaroo_Moderate': 'Panaroo (Moderate)',\n",
       " 'Panaroo_Sensitive': 'Panaroo (Sensitive)',\n",
       " 'Roary_NoSplitParalogs_I80': 'Roary (MergeParalogs & I80)',\n",
       " 'Roary_NoSplitParalogs_I90': 'Roary (MergeParalogs & I90)',\n",
       " 'Roary_NoSplitParalogs': 'Roary (MergeParalogs)',\n",
       " 'Roary_Default': 'Roary (Default)',\n",
       " 'Ppanggolin_Default': 'Ppanggolin (Default)'}"
      ]
     },
     "execution_count": 83,
     "metadata": {},
     "output_type": "execute_result"
    }
   ],
   "source": [
    "dictOfValues_To_Label"
   ]
  },
  {
   "cell_type": "code",
   "execution_count": 84,
   "id": "6a4c068b-9ad0-4497-8545-f38bbf287489",
   "metadata": {},
   "outputs": [],
   "source": [
    "dictOfValues_To_Label = {'Panaroo_Strict_MergeParalogs': 'Panaroo (Strict & MergeParalogs)',\n",
    " 'Panaroo_Moderate_MergeParalogs': 'Panaroo (Moderate & MergeParalogs)',\n",
    " 'Panaroo_Sensitive_MergeParalogs': 'Panaroo (Sensitive & MergeParalogs)',\n",
    " 'Panaroo_Strict': 'Panaroo (Strict)',\n",
    " 'Panaroo_Moderate': 'Panaroo (Moderate)',\n",
    " 'Panaroo_Sensitive': 'Panaroo (Sensitive)',\n",
    " 'Roary_NoSplitParalogs_I80': 'Roary (MergeParalogs & I80)',\n",
    " 'Roary_NoSplitParalogs_I90': 'Roary (MergeParalogs & I90)',\n",
    " 'Roary_NoSplitParalogs': 'Roary (MergeParalogs)',\n",
    " 'Roary_Default': 'Roary (Default)',\n",
    " 'Ppanggolin_Default': 'Ppanggolin (Default)',\n",
    " 'Ppanggolin_I90': 'Ppanggolin (I90)',\n",
    " 'Ppanggolin_I95': 'Ppanggolin (I95)'}\n"
   ]
  },
  {
   "cell_type": "code",
   "execution_count": 85,
   "id": "69e7a8ea-7149-4515-9ecc-06d030770c50",
   "metadata": {},
   "outputs": [
    {
     "data": {
      "text/html": [
       "<div>\n",
       "<style scoped>\n",
       "    .dataframe tbody tr th:only-of-type {\n",
       "        vertical-align: middle;\n",
       "    }\n",
       "\n",
       "    .dataframe tbody tr th {\n",
       "        vertical-align: top;\n",
       "    }\n",
       "\n",
       "    .dataframe thead th {\n",
       "        text-align: right;\n",
       "    }\n",
       "</style>\n",
       "<table border=\"1\" class=\"dataframe\">\n",
       "  <thead>\n",
       "    <tr style=\"text-align: right;\">\n",
       "      <th></th>\n",
       "      <th>count</th>\n",
       "      <th>mean</th>\n",
       "      <th>std</th>\n",
       "      <th>min</th>\n",
       "      <th>25%</th>\n",
       "      <th>50%</th>\n",
       "      <th>75%</th>\n",
       "      <th>max</th>\n",
       "    </tr>\n",
       "    <tr>\n",
       "      <th>SeqType</th>\n",
       "      <th></th>\n",
       "      <th></th>\n",
       "      <th></th>\n",
       "      <th></th>\n",
       "      <th></th>\n",
       "      <th></th>\n",
       "      <th></th>\n",
       "      <th></th>\n",
       "    </tr>\n",
       "  </thead>\n",
       "  <tbody>\n",
       "    <tr>\n",
       "      <th>LongRead</th>\n",
       "      <td>7.0</td>\n",
       "      <td>15918.428571</td>\n",
       "      <td>2773.387271</td>\n",
       "      <td>13312.0</td>\n",
       "      <td>14525.5</td>\n",
       "      <td>14851.0</td>\n",
       "      <td>16407.5</td>\n",
       "      <td>21400.0</td>\n",
       "    </tr>\n",
       "    <tr>\n",
       "      <th>ShortRead</th>\n",
       "      <td>7.0</td>\n",
       "      <td>15388.714286</td>\n",
       "      <td>2550.639770</td>\n",
       "      <td>12836.0</td>\n",
       "      <td>13441.0</td>\n",
       "      <td>14933.0</td>\n",
       "      <td>16674.5</td>\n",
       "      <td>19721.0</td>\n",
       "    </tr>\n",
       "  </tbody>\n",
       "</table>\n",
       "</div>"
      ],
      "text/plain": [
       "           count          mean          std      min      25%      50%      75%      max\n",
       "SeqType                                                                                 \n",
       "LongRead     7.0  15918.428571  2773.387271  13312.0  14525.5  14851.0  16407.5  21400.0\n",
       "ShortRead    7.0  15388.714286  2550.639770  12836.0  13441.0  14933.0  16674.5  19721.0"
      ]
     },
     "execution_count": 85,
     "metadata": {},
     "output_type": "execute_result"
    }
   ],
   "source": [
    "PG_WideSumm_DF.groupby(\"SeqType\")[\"Total genes\"].describe()"
   ]
  },
  {
   "cell_type": "code",
   "execution_count": 86,
   "id": "11478677-9ef2-4c48-b63b-bc8ca447c205",
   "metadata": {},
   "outputs": [
    {
     "data": {
      "text/html": [
       "<div>\n",
       "<style scoped>\n",
       "    .dataframe tbody tr th:only-of-type {\n",
       "        vertical-align: middle;\n",
       "    }\n",
       "\n",
       "    .dataframe tbody tr th {\n",
       "        vertical-align: top;\n",
       "    }\n",
       "\n",
       "    .dataframe thead th {\n",
       "        text-align: right;\n",
       "    }\n",
       "</style>\n",
       "<table border=\"1\" class=\"dataframe\">\n",
       "  <thead>\n",
       "    <tr style=\"text-align: right;\">\n",
       "      <th></th>\n",
       "      <th></th>\n",
       "      <th>count</th>\n",
       "      <th>mean</th>\n",
       "      <th>std</th>\n",
       "      <th>min</th>\n",
       "      <th>25%</th>\n",
       "      <th>50%</th>\n",
       "      <th>75%</th>\n",
       "      <th>max</th>\n",
       "    </tr>\n",
       "    <tr>\n",
       "      <th>SeqType</th>\n",
       "      <th>Anno</th>\n",
       "      <th></th>\n",
       "      <th></th>\n",
       "      <th></th>\n",
       "      <th></th>\n",
       "      <th></th>\n",
       "      <th></th>\n",
       "      <th></th>\n",
       "      <th></th>\n",
       "    </tr>\n",
       "  </thead>\n",
       "  <tbody>\n",
       "    <tr>\n",
       "      <th>LongRead</th>\n",
       "      <th>Bakta</th>\n",
       "      <td>7.0</td>\n",
       "      <td>15918.428571</td>\n",
       "      <td>2773.387271</td>\n",
       "      <td>13312.0</td>\n",
       "      <td>14525.5</td>\n",
       "      <td>14851.0</td>\n",
       "      <td>16407.5</td>\n",
       "      <td>21400.0</td>\n",
       "    </tr>\n",
       "    <tr>\n",
       "      <th>ShortRead</th>\n",
       "      <th>Bakta</th>\n",
       "      <td>7.0</td>\n",
       "      <td>15388.714286</td>\n",
       "      <td>2550.639770</td>\n",
       "      <td>12836.0</td>\n",
       "      <td>13441.0</td>\n",
       "      <td>14933.0</td>\n",
       "      <td>16674.5</td>\n",
       "      <td>19721.0</td>\n",
       "    </tr>\n",
       "  </tbody>\n",
       "</table>\n",
       "</div>"
      ],
      "text/plain": [
       "                 count          mean          std      min      25%      50%      75%      max\n",
       "SeqType   Anno                                                                                \n",
       "LongRead  Bakta    7.0  15918.428571  2773.387271  13312.0  14525.5  14851.0  16407.5  21400.0\n",
       "ShortRead Bakta    7.0  15388.714286  2550.639770  12836.0  13441.0  14933.0  16674.5  19721.0"
      ]
     },
     "execution_count": 86,
     "metadata": {},
     "output_type": "execute_result"
    }
   ],
   "source": [
    "PG_WideSumm_DF.groupby([\"SeqType\", \"Anno\"])[\"Total genes\"].describe()  "
   ]
  },
  {
   "cell_type": "code",
   "execution_count": 87,
   "id": "166da654-5d10-4f5c-a101-7b811cca3894",
   "metadata": {},
   "outputs": [
    {
     "data": {
      "text/html": [
       "<div>\n",
       "<style scoped>\n",
       "    .dataframe tbody tr th:only-of-type {\n",
       "        vertical-align: middle;\n",
       "    }\n",
       "\n",
       "    .dataframe tbody tr th {\n",
       "        vertical-align: top;\n",
       "    }\n",
       "\n",
       "    .dataframe thead th {\n",
       "        text-align: right;\n",
       "    }\n",
       "</style>\n",
       "<table border=\"1\" class=\"dataframe\">\n",
       "  <thead>\n",
       "    <tr style=\"text-align: right;\">\n",
       "      <th></th>\n",
       "      <th></th>\n",
       "      <th>count</th>\n",
       "      <th>mean</th>\n",
       "      <th>std</th>\n",
       "      <th>min</th>\n",
       "      <th>25%</th>\n",
       "      <th>50%</th>\n",
       "      <th>75%</th>\n",
       "      <th>max</th>\n",
       "    </tr>\n",
       "    <tr>\n",
       "      <th>SeqType</th>\n",
       "      <th>Anno</th>\n",
       "      <th></th>\n",
       "      <th></th>\n",
       "      <th></th>\n",
       "      <th></th>\n",
       "      <th></th>\n",
       "      <th></th>\n",
       "      <th></th>\n",
       "      <th></th>\n",
       "    </tr>\n",
       "  </thead>\n",
       "  <tbody>\n",
       "    <tr>\n",
       "      <th>LongRead</th>\n",
       "      <th>Bakta</th>\n",
       "      <td>7.0</td>\n",
       "      <td>13070.571429</td>\n",
       "      <td>3040.396512</td>\n",
       "      <td>10277.0</td>\n",
       "      <td>11490.0</td>\n",
       "      <td>11936.0</td>\n",
       "      <td>13647.5</td>\n",
       "      <td>19006.0</td>\n",
       "    </tr>\n",
       "    <tr>\n",
       "      <th>ShortRead</th>\n",
       "      <th>Bakta</th>\n",
       "      <td>7.0</td>\n",
       "      <td>12733.571429</td>\n",
       "      <td>2800.035646</td>\n",
       "      <td>10002.0</td>\n",
       "      <td>10611.5</td>\n",
       "      <td>12222.0</td>\n",
       "      <td>14100.5</td>\n",
       "      <td>17487.0</td>\n",
       "    </tr>\n",
       "  </tbody>\n",
       "</table>\n",
       "</div>"
      ],
      "text/plain": [
       "                 count          mean          std      min      25%      50%      75%      max\n",
       "SeqType   Anno                                                                                \n",
       "LongRead  Bakta    7.0  13070.571429  3040.396512  10277.0  11490.0  11936.0  13647.5  19006.0\n",
       "ShortRead Bakta    7.0  12733.571429  2800.035646  10002.0  10611.5  12222.0  14100.5  17487.0"
      ]
     },
     "execution_count": 87,
     "metadata": {},
     "output_type": "execute_result"
    }
   ],
   "source": [
    "PG_WideSumm_DF.groupby([\"SeqType\", \"Anno\"])[\"Accessory genes\"].describe()  "
   ]
  },
  {
   "cell_type": "code",
   "execution_count": 88,
   "id": "003d4c81-7d87-4c64-95d7-0b6f67817bab",
   "metadata": {},
   "outputs": [
    {
     "data": {
      "text/html": [
       "<div>\n",
       "<style scoped>\n",
       "    .dataframe tbody tr th:only-of-type {\n",
       "        vertical-align: middle;\n",
       "    }\n",
       "\n",
       "    .dataframe tbody tr th {\n",
       "        vertical-align: top;\n",
       "    }\n",
       "\n",
       "    .dataframe thead th {\n",
       "        text-align: right;\n",
       "    }\n",
       "</style>\n",
       "<table border=\"1\" class=\"dataframe\">\n",
       "  <thead>\n",
       "    <tr style=\"text-align: right;\">\n",
       "      <th></th>\n",
       "      <th></th>\n",
       "      <th>count</th>\n",
       "      <th>mean</th>\n",
       "      <th>std</th>\n",
       "      <th>min</th>\n",
       "      <th>25%</th>\n",
       "      <th>50%</th>\n",
       "      <th>75%</th>\n",
       "      <th>max</th>\n",
       "    </tr>\n",
       "    <tr>\n",
       "      <th>SeqType</th>\n",
       "      <th>Anno</th>\n",
       "      <th></th>\n",
       "      <th></th>\n",
       "      <th></th>\n",
       "      <th></th>\n",
       "      <th></th>\n",
       "      <th></th>\n",
       "      <th></th>\n",
       "      <th></th>\n",
       "    </tr>\n",
       "  </thead>\n",
       "  <tbody>\n",
       "    <tr>\n",
       "      <th>LongRead</th>\n",
       "      <th>Bakta</th>\n",
       "      <td>7.0</td>\n",
       "      <td>2847.857143</td>\n",
       "      <td>283.938625</td>\n",
       "      <td>2394.0</td>\n",
       "      <td>2699.5</td>\n",
       "      <td>3035.0</td>\n",
       "      <td>3035.5</td>\n",
       "      <td>3036.0</td>\n",
       "    </tr>\n",
       "    <tr>\n",
       "      <th>ShortRead</th>\n",
       "      <th>Bakta</th>\n",
       "      <td>7.0</td>\n",
       "      <td>2655.142857</td>\n",
       "      <td>265.104023</td>\n",
       "      <td>2234.0</td>\n",
       "      <td>2512.5</td>\n",
       "      <td>2825.0</td>\n",
       "      <td>2834.0</td>\n",
       "      <td>2834.0</td>\n",
       "    </tr>\n",
       "  </tbody>\n",
       "</table>\n",
       "</div>"
      ],
      "text/plain": [
       "                 count         mean         std     min     25%     50%     75%     max\n",
       "SeqType   Anno                                                                         \n",
       "LongRead  Bakta    7.0  2847.857143  283.938625  2394.0  2699.5  3035.0  3035.5  3036.0\n",
       "ShortRead Bakta    7.0  2655.142857  265.104023  2234.0  2512.5  2825.0  2834.0  2834.0"
      ]
     },
     "execution_count": 88,
     "metadata": {},
     "output_type": "execute_result"
    }
   ],
   "source": [
    "PG_WideSumm_DF.groupby([\"SeqType\", \"Anno\"])[\"Core genes\"].describe()  "
   ]
  },
  {
   "cell_type": "code",
   "execution_count": null,
   "id": "a55100ae-ed95-4090-a3c6-1d1ccc5fa0a4",
   "metadata": {},
   "outputs": [],
   "source": []
  },
  {
   "cell_type": "code",
   "execution_count": null,
   "id": "5db2d174-1215-433f-84fb-0df0e5cb9e97",
   "metadata": {},
   "outputs": [],
   "source": []
  },
  {
   "cell_type": "code",
   "execution_count": 89,
   "id": "3041f021-7b6c-40ab-b99e-615052e885c3",
   "metadata": {},
   "outputs": [
    {
     "data": {
      "text/html": [
       "<div>\n",
       "<style scoped>\n",
       "    .dataframe tbody tr th:only-of-type {\n",
       "        vertical-align: middle;\n",
       "    }\n",
       "\n",
       "    .dataframe tbody tr th {\n",
       "        vertical-align: top;\n",
       "    }\n",
       "\n",
       "    .dataframe thead th {\n",
       "        text-align: right;\n",
       "    }\n",
       "</style>\n",
       "<table border=\"1\" class=\"dataframe\">\n",
       "  <thead>\n",
       "    <tr style=\"text-align: right;\">\n",
       "      <th></th>\n",
       "      <th>PangenomeTool</th>\n",
       "      <th>SeqType</th>\n",
       "      <th>Anno</th>\n",
       "      <th>Method</th>\n",
       "      <th>Total genes</th>\n",
       "      <th>Core genes</th>\n",
       "      <th>Accessory genes</th>\n",
       "      <th>Weight</th>\n",
       "    </tr>\n",
       "  </thead>\n",
       "  <tbody>\n",
       "    <tr>\n",
       "      <th>0</th>\n",
       "      <td>Panaroo</td>\n",
       "      <td>LongRead</td>\n",
       "      <td>Bakta</td>\n",
       "      <td>Panaroo_Strict_MergeParalogs</td>\n",
       "      <td>14410</td>\n",
       "      <td>3035</td>\n",
       "      <td>11375</td>\n",
       "      <td>10688.5</td>\n",
       "    </tr>\n",
       "    <tr>\n",
       "      <th>7</th>\n",
       "      <td>Panaroo</td>\n",
       "      <td>ShortRead</td>\n",
       "      <td>Bakta</td>\n",
       "      <td>Panaroo_Strict_MergeParalogs</td>\n",
       "      <td>12836</td>\n",
       "      <td>2834</td>\n",
       "      <td>10002</td>\n",
       "      <td>10688.5</td>\n",
       "    </tr>\n",
       "    <tr>\n",
       "      <th>1</th>\n",
       "      <td>Panaroo</td>\n",
       "      <td>LongRead</td>\n",
       "      <td>Bakta</td>\n",
       "      <td>Panaroo_Moderate_MergeParalogs</td>\n",
       "      <td>14641</td>\n",
       "      <td>3036</td>\n",
       "      <td>11605</td>\n",
       "      <td>11116.5</td>\n",
       "    </tr>\n",
       "    <tr>\n",
       "      <th>8</th>\n",
       "      <td>Panaroo</td>\n",
       "      <td>ShortRead</td>\n",
       "      <td>Bakta</td>\n",
       "      <td>Panaroo_Moderate_MergeParalogs</td>\n",
       "      <td>13462</td>\n",
       "      <td>2834</td>\n",
       "      <td>10628</td>\n",
       "      <td>11116.5</td>\n",
       "    </tr>\n",
       "  </tbody>\n",
       "</table>\n",
       "</div>"
      ],
      "text/plain": [
       "  PangenomeTool    SeqType   Anno                          Method  Total genes  Core genes  Accessory genes   Weight\n",
       "0       Panaroo   LongRead  Bakta    Panaroo_Strict_MergeParalogs        14410        3035            11375  10688.5\n",
       "7       Panaroo  ShortRead  Bakta    Panaroo_Strict_MergeParalogs        12836        2834            10002  10688.5\n",
       "1       Panaroo   LongRead  Bakta  Panaroo_Moderate_MergeParalogs        14641        3036            11605  11116.5\n",
       "8       Panaroo  ShortRead  Bakta  Panaroo_Moderate_MergeParalogs        13462        2834            10628  11116.5"
      ]
     },
     "execution_count": 89,
     "metadata": {},
     "output_type": "execute_result"
    }
   ],
   "source": [
    "PG_WideSumm_DF.head(4)"
   ]
  },
  {
   "cell_type": "code",
   "execution_count": 90,
   "id": "66fcbae5-9e40-41d1-ad8f-98a2d3855f29",
   "metadata": {},
   "outputs": [],
   "source": [
    "!mkdir Results3_Plots/"
   ]
  },
  {
   "cell_type": "code",
   "execution_count": 91,
   "id": "bb639789-813d-494c-85e6-183a8388768c",
   "metadata": {},
   "outputs": [],
   "source": [
    "PG_WideSumm_DF.to_csv(\"Results3_Plots/Ecoli.PG.LRvsSR.BaktaAnno.tsv\", sep=\"\\t\", index= False)  "
   ]
  },
  {
   "cell_type": "code",
   "execution_count": 92,
   "id": "6108b6e5-2bbf-44a2-bbca-452f6bac054c",
   "metadata": {},
   "outputs": [],
   "source": [
    "PG_Merged_Stats_LRandSR_DF.to_csv(\"Results3_Plots/Ecoli.PG.LRvsSR.BaktaAnno.MergedStats.tsv\", sep=\"\\t\", index= False)  "
   ]
  },
  {
   "cell_type": "code",
   "execution_count": 93,
   "id": "aeb0f155-584c-44e3-bcce-efb42c2e780c",
   "metadata": {},
   "outputs": [
    {
     "data": {
      "text/plain": [
       "Index(['Category', 'Range', 'GeneCount', 'Annotation', 'Method', 'SeqType', 'DataSet', 'MethodAndTech', 'MethodAndTechAndAnno'], dtype='object')"
      ]
     },
     "execution_count": 93,
     "metadata": {},
     "output_type": "execute_result"
    }
   ],
   "source": [
    "PG_Merged_Stats_LRandSR_DF.columns   "
   ]
  },
  {
   "cell_type": "code",
   "execution_count": 94,
   "id": "47690314-2d94-494f-8e39-a9a429e9fc43",
   "metadata": {},
   "outputs": [
    {
     "data": {
      "text/html": [
       "<div>\n",
       "<style scoped>\n",
       "    .dataframe tbody tr th:only-of-type {\n",
       "        vertical-align: middle;\n",
       "    }\n",
       "\n",
       "    .dataframe tbody tr th {\n",
       "        vertical-align: top;\n",
       "    }\n",
       "\n",
       "    .dataframe thead th {\n",
       "        text-align: right;\n",
       "    }\n",
       "</style>\n",
       "<table border=\"1\" class=\"dataframe\">\n",
       "  <thead>\n",
       "    <tr style=\"text-align: right;\">\n",
       "      <th></th>\n",
       "      <th>Category</th>\n",
       "      <th>Range</th>\n",
       "      <th>GeneCount</th>\n",
       "      <th>Annotation</th>\n",
       "      <th>Method</th>\n",
       "      <th>SeqType</th>\n",
       "      <th>DataSet</th>\n",
       "      <th>MethodAndTech</th>\n",
       "      <th>MethodAndTechAndAnno</th>\n",
       "    </tr>\n",
       "  </thead>\n",
       "  <tbody>\n",
       "    <tr>\n",
       "      <th>0</th>\n",
       "      <td>Core genes</td>\n",
       "      <td>(99% &lt;= strains &lt;= 100%)</td>\n",
       "      <td>3035</td>\n",
       "      <td>Bakta</td>\n",
       "      <td>Panaroo_Strict_MergeParalogs</td>\n",
       "      <td>LongRead</td>\n",
       "      <td>All</td>\n",
       "      <td>Panaroo_Strict_MergeParalogs_LongRead</td>\n",
       "      <td>Panaroo_Strict_MergeParalogs_LongRead_Bakta</td>\n",
       "    </tr>\n",
       "    <tr>\n",
       "      <th>4</th>\n",
       "      <td>Total genes</td>\n",
       "      <td>(0% &lt;= strains &lt;= 100%)</td>\n",
       "      <td>14410</td>\n",
       "      <td>Bakta</td>\n",
       "      <td>Panaroo_Strict_MergeParalogs</td>\n",
       "      <td>LongRead</td>\n",
       "      <td>All</td>\n",
       "      <td>Panaroo_Strict_MergeParalogs_LongRead</td>\n",
       "      <td>Panaroo_Strict_MergeParalogs_LongRead_Bakta</td>\n",
       "    </tr>\n",
       "  </tbody>\n",
       "</table>\n",
       "</div>"
      ],
      "text/plain": [
       "      Category                     Range  GeneCount Annotation                        Method   SeqType DataSet                          MethodAndTech                         MethodAndTechAndAnno\n",
       "0   Core genes  (99% <= strains <= 100%)       3035      Bakta  Panaroo_Strict_MergeParalogs  LongRead     All  Panaroo_Strict_MergeParalogs_LongRead  Panaroo_Strict_MergeParalogs_LongRead_Bakta\n",
       "4  Total genes   (0% <= strains <= 100%)      14410      Bakta  Panaroo_Strict_MergeParalogs  LongRead     All  Panaroo_Strict_MergeParalogs_LongRead  Panaroo_Strict_MergeParalogs_LongRead_Bakta"
      ]
     },
     "execution_count": 94,
     "metadata": {},
     "output_type": "execute_result"
    }
   ],
   "source": [
    "PG_Merged_Stats_LRandSR_DF.head(2)  "
   ]
  },
  {
   "cell_type": "code",
   "execution_count": null,
   "id": "4e3de8bf-a69a-41ff-bae7-c64329f0624d",
   "metadata": {},
   "outputs": [],
   "source": []
  },
  {
   "cell_type": "code",
   "execution_count": 95,
   "id": "432924af-7f89-4e1a-87b4-88ffb1238491",
   "metadata": {},
   "outputs": [
    {
     "data": {
      "text/html": [
       "<div>\n",
       "<style scoped>\n",
       "    .dataframe tbody tr th:only-of-type {\n",
       "        vertical-align: middle;\n",
       "    }\n",
       "\n",
       "    .dataframe tbody tr th {\n",
       "        vertical-align: top;\n",
       "    }\n",
       "\n",
       "    .dataframe thead th {\n",
       "        text-align: right;\n",
       "    }\n",
       "</style>\n",
       "<table border=\"1\" class=\"dataframe\">\n",
       "  <thead>\n",
       "    <tr style=\"text-align: right;\">\n",
       "      <th></th>\n",
       "      <th>PangenomeTool</th>\n",
       "      <th>SeqType</th>\n",
       "      <th>Anno</th>\n",
       "      <th>Method</th>\n",
       "      <th>Total genes</th>\n",
       "      <th>Core genes</th>\n",
       "      <th>Accessory genes</th>\n",
       "      <th>Weight</th>\n",
       "    </tr>\n",
       "  </thead>\n",
       "  <tbody>\n",
       "    <tr>\n",
       "      <th>0</th>\n",
       "      <td>Panaroo</td>\n",
       "      <td>LongRead</td>\n",
       "      <td>Bakta</td>\n",
       "      <td>Panaroo_Strict_MergeParalogs</td>\n",
       "      <td>14410</td>\n",
       "      <td>3035</td>\n",
       "      <td>11375</td>\n",
       "      <td>10688.5</td>\n",
       "    </tr>\n",
       "    <tr>\n",
       "      <th>7</th>\n",
       "      <td>Panaroo</td>\n",
       "      <td>ShortRead</td>\n",
       "      <td>Bakta</td>\n",
       "      <td>Panaroo_Strict_MergeParalogs</td>\n",
       "      <td>12836</td>\n",
       "      <td>2834</td>\n",
       "      <td>10002</td>\n",
       "      <td>10688.5</td>\n",
       "    </tr>\n",
       "    <tr>\n",
       "      <th>1</th>\n",
       "      <td>Panaroo</td>\n",
       "      <td>LongRead</td>\n",
       "      <td>Bakta</td>\n",
       "      <td>Panaroo_Moderate_MergeParalogs</td>\n",
       "      <td>14641</td>\n",
       "      <td>3036</td>\n",
       "      <td>11605</td>\n",
       "      <td>11116.5</td>\n",
       "    </tr>\n",
       "    <tr>\n",
       "      <th>8</th>\n",
       "      <td>Panaroo</td>\n",
       "      <td>ShortRead</td>\n",
       "      <td>Bakta</td>\n",
       "      <td>Panaroo_Moderate_MergeParalogs</td>\n",
       "      <td>13462</td>\n",
       "      <td>2834</td>\n",
       "      <td>10628</td>\n",
       "      <td>11116.5</td>\n",
       "    </tr>\n",
       "    <tr>\n",
       "      <th>2</th>\n",
       "      <td>Panaroo</td>\n",
       "      <td>LongRead</td>\n",
       "      <td>Bakta</td>\n",
       "      <td>Panaroo_Sensitive_MergeParalogs</td>\n",
       "      <td>15032</td>\n",
       "      <td>3036</td>\n",
       "      <td>11996</td>\n",
       "      <td>12343.0</td>\n",
       "    </tr>\n",
       "  </tbody>\n",
       "</table>\n",
       "</div>"
      ],
      "text/plain": [
       "  PangenomeTool    SeqType   Anno                           Method  Total genes  Core genes  Accessory genes   Weight\n",
       "0       Panaroo   LongRead  Bakta     Panaroo_Strict_MergeParalogs        14410        3035            11375  10688.5\n",
       "7       Panaroo  ShortRead  Bakta     Panaroo_Strict_MergeParalogs        12836        2834            10002  10688.5\n",
       "1       Panaroo   LongRead  Bakta   Panaroo_Moderate_MergeParalogs        14641        3036            11605  11116.5\n",
       "8       Panaroo  ShortRead  Bakta   Panaroo_Moderate_MergeParalogs        13462        2834            10628  11116.5\n",
       "2       Panaroo   LongRead  Bakta  Panaroo_Sensitive_MergeParalogs        15032        3036            11996  12343.0"
      ]
     },
     "execution_count": 95,
     "metadata": {},
     "output_type": "execute_result"
    }
   ],
   "source": [
    "PG_WideSumm_DF.head(5)"
   ]
  },
  {
   "cell_type": "code",
   "execution_count": null,
   "id": "1dc03764-cf8e-4139-9b4a-6b0190aa17e2",
   "metadata": {},
   "outputs": [],
   "source": []
  },
  {
   "cell_type": "markdown",
   "id": "3d9a9505-cd72-47e8-9330-5efab74d707e",
   "metadata": {},
   "source": [
    "## Figure 2) Accessory genome predictions - Hybrid vs SR - Bakta + 3 pipelines"
   ]
  },
  {
   "cell_type": "code",
   "execution_count": 96,
   "id": "45e20e98-c39d-4a62-b4ee-d1d3b3d61f5d",
   "metadata": {},
   "outputs": [
    {
     "data": {
      "text/html": [
       "<div>\n",
       "<style scoped>\n",
       "    .dataframe tbody tr th:only-of-type {\n",
       "        vertical-align: middle;\n",
       "    }\n",
       "\n",
       "    .dataframe tbody tr th {\n",
       "        vertical-align: top;\n",
       "    }\n",
       "\n",
       "    .dataframe thead th {\n",
       "        text-align: right;\n",
       "    }\n",
       "</style>\n",
       "<table border=\"1\" class=\"dataframe\">\n",
       "  <thead>\n",
       "    <tr style=\"text-align: right;\">\n",
       "      <th></th>\n",
       "      <th>Category</th>\n",
       "      <th>Range</th>\n",
       "      <th>GeneCount</th>\n",
       "      <th>Annotation</th>\n",
       "      <th>Method</th>\n",
       "      <th>SeqType</th>\n",
       "      <th>DataSet</th>\n",
       "      <th>MethodAndTech</th>\n",
       "      <th>MethodAndTechAndAnno</th>\n",
       "    </tr>\n",
       "  </thead>\n",
       "  <tbody>\n",
       "    <tr>\n",
       "      <th>5</th>\n",
       "      <td>Accessory genes</td>\n",
       "      <td>(0% &lt;= strains &lt; 99%)</td>\n",
       "      <td>11375</td>\n",
       "      <td>Bakta</td>\n",
       "      <td>Panaroo_Strict_MergeParalogs</td>\n",
       "      <td>LongRead</td>\n",
       "      <td>All</td>\n",
       "      <td>Panaroo_Strict_MergeParalogs_LongRead</td>\n",
       "      <td>Panaroo_Strict_MergeParalogs_LongRead_Bakta</td>\n",
       "    </tr>\n",
       "  </tbody>\n",
       "</table>\n",
       "</div>"
      ],
      "text/plain": [
       "          Category                  Range  GeneCount Annotation                        Method   SeqType DataSet                          MethodAndTech                         MethodAndTechAndAnno\n",
       "5  Accessory genes  (0% <= strains < 99%)      11375      Bakta  Panaroo_Strict_MergeParalogs  LongRead     All  Panaroo_Strict_MergeParalogs_LongRead  Panaroo_Strict_MergeParalogs_LongRead_Bakta"
      ]
     },
     "execution_count": 96,
     "metadata": {},
     "output_type": "execute_result"
    }
   ],
   "source": [
    "PG_Merged_Stats_LRandSR_Acc_DF.head(1)"
   ]
  },
  {
   "cell_type": "code",
   "execution_count": 97,
   "id": "290dfb5c-0f74-4d77-bdb8-dd26415c58fd",
   "metadata": {},
   "outputs": [
    {
     "data": {
      "text/plain": [
       "Panaroo_Strict_MergeParalogs       2\n",
       "Panaroo_Moderate_MergeParalogs     2\n",
       "Panaroo_Sensitive_MergeParalogs    2\n",
       "Roary_NoSplitParalogs_I80          2\n",
       "Roary_NoSplitParalogs_I90          2\n",
       "Roary_NoSplitParalogs              2\n",
       "Roary_Default                      2\n",
       "Name: Method, dtype: int64"
      ]
     },
     "execution_count": 97,
     "metadata": {},
     "output_type": "execute_result"
    }
   ],
   "source": [
    "PG_Merged_Stats_LRandSR_Acc_DF[\"Method\"].value_counts()"
   ]
  },
  {
   "cell_type": "code",
   "execution_count": null,
   "id": "9da0a6b5-b6c6-40a2-886e-c19a371cd397",
   "metadata": {},
   "outputs": [],
   "source": []
  },
  {
   "cell_type": "code",
   "execution_count": 98,
   "id": "9b601463-6f44-45e1-b006-be852a75bf4e",
   "metadata": {},
   "outputs": [
    {
     "data": {
      "text/html": [
       "<div>\n",
       "<style scoped>\n",
       "    .dataframe tbody tr th:only-of-type {\n",
       "        vertical-align: middle;\n",
       "    }\n",
       "\n",
       "    .dataframe tbody tr th {\n",
       "        vertical-align: top;\n",
       "    }\n",
       "\n",
       "    .dataframe thead th {\n",
       "        text-align: right;\n",
       "    }\n",
       "</style>\n",
       "<table border=\"1\" class=\"dataframe\">\n",
       "  <thead>\n",
       "    <tr style=\"text-align: right;\">\n",
       "      <th></th>\n",
       "      <th>Category</th>\n",
       "      <th>Range</th>\n",
       "      <th>GeneCount</th>\n",
       "      <th>Annotation</th>\n",
       "      <th>Method</th>\n",
       "      <th>SeqType</th>\n",
       "      <th>DataSet</th>\n",
       "      <th>MethodAndTech</th>\n",
       "      <th>MethodAndTechAndAnno</th>\n",
       "    </tr>\n",
       "  </thead>\n",
       "  <tbody>\n",
       "    <tr>\n",
       "      <th>5</th>\n",
       "      <td>Accessory genes</td>\n",
       "      <td>(0% &lt;= strains &lt; 99%)</td>\n",
       "      <td>11375</td>\n",
       "      <td>Bakta</td>\n",
       "      <td>Panaroo_Strict_MergeParalogs</td>\n",
       "      <td>LongRead</td>\n",
       "      <td>All</td>\n",
       "      <td>Panaroo_Strict_MergeParalogs_LongRead</td>\n",
       "      <td>Panaroo_Strict_MergeParalogs_LongRead_Bakta</td>\n",
       "    </tr>\n",
       "    <tr>\n",
       "      <th>5</th>\n",
       "      <td>Accessory genes</td>\n",
       "      <td>(0% &lt;= strains &lt; 99%)</td>\n",
       "      <td>11605</td>\n",
       "      <td>Bakta</td>\n",
       "      <td>Panaroo_Moderate_MergeParalogs</td>\n",
       "      <td>LongRead</td>\n",
       "      <td>All</td>\n",
       "      <td>Panaroo_Moderate_MergeParalogs_LongRead</td>\n",
       "      <td>Panaroo_Moderate_MergeParalogs_LongRead_Bakta</td>\n",
       "    </tr>\n",
       "    <tr>\n",
       "      <th>5</th>\n",
       "      <td>Accessory genes</td>\n",
       "      <td>(0% &lt;= strains &lt; 99%)</td>\n",
       "      <td>11996</td>\n",
       "      <td>Bakta</td>\n",
       "      <td>Panaroo_Sensitive_MergeParalogs</td>\n",
       "      <td>LongRead</td>\n",
       "      <td>All</td>\n",
       "      <td>Panaroo_Sensitive_MergeParalogs_LongRead</td>\n",
       "      <td>Panaroo_Sensitive_MergeParalogs_LongRead_Bakta</td>\n",
       "    </tr>\n",
       "    <tr>\n",
       "      <th>5</th>\n",
       "      <td>Accessory genes</td>\n",
       "      <td>(0% &lt;= strains &lt; 99%)</td>\n",
       "      <td>10277</td>\n",
       "      <td>Bakta</td>\n",
       "      <td>Roary_NoSplitParalogs_I80</td>\n",
       "      <td>LongRead</td>\n",
       "      <td>All</td>\n",
       "      <td>Roary_NoSplitParalogs_I80_LongRead</td>\n",
       "      <td>Roary_NoSplitParalogs_I80_LongRead_Bakta</td>\n",
       "    </tr>\n",
       "  </tbody>\n",
       "</table>\n",
       "</div>"
      ],
      "text/plain": [
       "          Category                  Range  GeneCount Annotation                           Method   SeqType DataSet                             MethodAndTech                            MethodAndTechAndAnno\n",
       "5  Accessory genes  (0% <= strains < 99%)      11375      Bakta     Panaroo_Strict_MergeParalogs  LongRead     All     Panaroo_Strict_MergeParalogs_LongRead     Panaroo_Strict_MergeParalogs_LongRead_Bakta\n",
       "5  Accessory genes  (0% <= strains < 99%)      11605      Bakta   Panaroo_Moderate_MergeParalogs  LongRead     All   Panaroo_Moderate_MergeParalogs_LongRead   Panaroo_Moderate_MergeParalogs_LongRead_Bakta\n",
       "5  Accessory genes  (0% <= strains < 99%)      11996      Bakta  Panaroo_Sensitive_MergeParalogs  LongRead     All  Panaroo_Sensitive_MergeParalogs_LongRead  Panaroo_Sensitive_MergeParalogs_LongRead_Bakta\n",
       "5  Accessory genes  (0% <= strains < 99%)      10277      Bakta        Roary_NoSplitParalogs_I80  LongRead     All        Roary_NoSplitParalogs_I80_LongRead        Roary_NoSplitParalogs_I80_LongRead_Bakta"
      ]
     },
     "execution_count": 98,
     "metadata": {},
     "output_type": "execute_result"
    }
   ],
   "source": [
    "PG_Merged_Stats_LRandSR_Acc_Bakta_DF.head(4)"
   ]
  },
  {
   "cell_type": "code",
   "execution_count": 99,
   "id": "adb98dc5-5015-47d2-937f-d4ea69a24a4c",
   "metadata": {},
   "outputs": [
    {
     "data": {
      "text/html": [
       "<div>\n",
       "<style scoped>\n",
       "    .dataframe tbody tr th:only-of-type {\n",
       "        vertical-align: middle;\n",
       "    }\n",
       "\n",
       "    .dataframe tbody tr th {\n",
       "        vertical-align: top;\n",
       "    }\n",
       "\n",
       "    .dataframe thead th {\n",
       "        text-align: right;\n",
       "    }\n",
       "</style>\n",
       "<table border=\"1\" class=\"dataframe\">\n",
       "  <thead>\n",
       "    <tr style=\"text-align: right;\">\n",
       "      <th></th>\n",
       "      <th>Category</th>\n",
       "      <th>Range</th>\n",
       "      <th>GeneCount</th>\n",
       "      <th>Annotation</th>\n",
       "      <th>Method</th>\n",
       "      <th>SeqType</th>\n",
       "      <th>DataSet</th>\n",
       "      <th>MethodAndTech</th>\n",
       "      <th>MethodAndTechAndAnno</th>\n",
       "    </tr>\n",
       "  </thead>\n",
       "  <tbody>\n",
       "  </tbody>\n",
       "</table>\n",
       "</div>"
      ],
      "text/plain": [
       "Empty DataFrame\n",
       "Columns: [Category, Range, GeneCount, Annotation, Method, SeqType, DataSet, MethodAndTech, MethodAndTechAndAnno]\n",
       "Index: []"
      ]
     },
     "execution_count": 99,
     "metadata": {},
     "output_type": "execute_result"
    }
   ],
   "source": [
    "PG_Merged_Stats_LRandSR_Acc_Bakta_DF[ PG_Merged_Stats_LRandSR_Acc_Bakta_DF[\"Method\"].str.contains(\"Ppanggolin\") ]  "
   ]
  },
  {
   "cell_type": "code",
   "execution_count": 101,
   "id": "966bf033-7f0e-44c8-a566-ccb32be479fe",
   "metadata": {},
   "outputs": [],
   "source": [
    "import matplotlib.patches as mpatches\n"
   ]
  },
  {
   "cell_type": "code",
   "execution_count": 104,
   "id": "e2df591f-345f-455c-8eb0-ea8922ff37da",
   "metadata": {},
   "outputs": [
    {
     "data": {
      "image/png": "[encoded data removed]",
      "text/plain": [
       "<Figure size 864x720 with 1 Axes>"
      ]
     },
     "metadata": {
      "needs_background": "light"
     },
     "output_type": "display_data"
    }
   ],
   "source": [
    "fig, axs = plt.subplots(1, 1, figsize= (12, 10), sharex=True)\n",
    "\n",
    "#sns.set_context(\"poster\")\n",
    "sns.set_context(\"paper\", font_scale=1.5)\n",
    "\n",
    "orderToPlot_X = ['Panaroo_Strict_MergeParalogs', 'Panaroo_Moderate_MergeParalogs',\n",
    "                 'Panaroo_Sensitive_MergeParalogs', 'Roary_NoSplitParalogs_I80', 'Roary_NoSplitParalogs_I90',\n",
    "                 'Roary_NoSplitParalogs',  'Roary_Default', ] # 'Ppanggolin_I95', 'Ppanggolin_I90']\n",
    "\n",
    "\n",
    "sns.barplot(y = \"Method\", x = \"GeneCount\", hue = \"SeqType\", data = PG_Merged_Stats_LRandSR_Acc_Bakta_DF, order = orderToPlot_X, ax = axs, palette = [\"#3F84E5\", \"#E85D75\"] )\n",
    "#plt.ylim(0, 5000)\n",
    "# \n",
    "#axs.set_ylabel(\"Pangenome Analysis Pipeline\")\n",
    "axs.set_ylabel(\"\")\n",
    "\n",
    "axs.set_xlabel(\"# of accessory genes\", fontsize = 20)\n",
    "\n",
    "\n",
    "Plot_TickLabels = ['Panaroo \\n (Strict & MergeParalogs)', 'Panaroo \\n (Moderate & MergeParalogs)',\n",
    "                 'Panaroo \\n (Sensitive & MergeParalogs)', 'Roary \\n (MergeParalogs & I80)', 'Roary \\n (MergeParalogs & I90)',\n",
    "                 'Roary \\n (MergeParalogs)',  'Roary \\n (Default)', ]#'Ppanggolin \\n (Default)',] # 'Ppanggolin \\n (I95)', 'Ppanggolin \\n (I90)',]\n",
    "\n",
    "axs.set_yticklabels(labels = Plot_TickLabels, rotation=0, fontdict = {\"fontsize\": 15})\n",
    "\n",
    "#axs.set_xticklabels(labels = Plot_TickLabels, rotation=45, fontdict = {\"fontsize\": 12})\n",
    "\n",
    "SR_patch = mpatches.Patch(color = \"#E85D75\", label='Short Read Assembly')\n",
    "Hybrid_patch = mpatches.Patch(color=\"#3F84E5\", label='Hybrid Assembly')\n",
    "\n",
    "#axs.legend(title = \"Assembly Type\", labels = [\"Hybrid Assembly\", \"Short Read Assembly\"], color = [\"#3F84E5\", \"#E85D75\"] )\n",
    "plt.legend(title = \"Assembly Type\", handles=[SR_patch, Hybrid_patch])\n",
    "\n",
    "#axs.set_title(\"Accessory genome size predictions\")\n",
    "#axs.set_title(\"Accessory gene counts: Hybrid vs SR assemblies\")\n",
    "sns.despine()\n",
    "plt.xticks(fontsize=25)\n",
    "#plt.savefig(\"Plots/4.PG.AccGeneCounts.SRvsLR.WiBakta.Barplot.png\", dpi = 300, bbox_inches=\"tight\")\n",
    "#plt.savefig(\"Plots/4.PG.AccGeneCounts.SRvsLR.WiBakta.Barplot.svg\", bbox_inches=\"tight\")\n",
    "\n",
    "#plt.xticks(labels = Plot_TickLabels, rotation=45)\n",
    "plt.show()"
   ]
  },
  {
   "cell_type": "code",
   "execution_count": 105,
   "id": "002506c8-d49e-464d-b692-c8176b20f9de",
   "metadata": {},
   "outputs": [
    {
     "data": {
      "text/html": [
       "<div>\n",
       "<style scoped>\n",
       "    .dataframe tbody tr th:only-of-type {\n",
       "        vertical-align: middle;\n",
       "    }\n",
       "\n",
       "    .dataframe tbody tr th {\n",
       "        vertical-align: top;\n",
       "    }\n",
       "\n",
       "    .dataframe thead th {\n",
       "        text-align: right;\n",
       "    }\n",
       "</style>\n",
       "<table border=\"1\" class=\"dataframe\">\n",
       "  <thead>\n",
       "    <tr style=\"text-align: right;\">\n",
       "      <th></th>\n",
       "      <th>PangenomeTool</th>\n",
       "      <th>SeqType</th>\n",
       "      <th>Anno</th>\n",
       "      <th>Method</th>\n",
       "      <th>Total genes</th>\n",
       "      <th>Core genes</th>\n",
       "      <th>Accessory genes</th>\n",
       "      <th>Weight</th>\n",
       "    </tr>\n",
       "  </thead>\n",
       "  <tbody>\n",
       "    <tr>\n",
       "      <th>0</th>\n",
       "      <td>Panaroo</td>\n",
       "      <td>LongRead</td>\n",
       "      <td>Bakta</td>\n",
       "      <td>Panaroo (Strict &amp; MergeParalogs)</td>\n",
       "      <td>14410</td>\n",
       "      <td>3035</td>\n",
       "      <td>11375</td>\n",
       "      <td>10688.5</td>\n",
       "    </tr>\n",
       "    <tr>\n",
       "      <th>7</th>\n",
       "      <td>Panaroo</td>\n",
       "      <td>ShortRead</td>\n",
       "      <td>Bakta</td>\n",
       "      <td>Panaroo (Strict &amp; MergeParalogs)</td>\n",
       "      <td>12836</td>\n",
       "      <td>2834</td>\n",
       "      <td>10002</td>\n",
       "      <td>10688.5</td>\n",
       "    </tr>\n",
       "  </tbody>\n",
       "</table>\n",
       "</div>"
      ],
      "text/plain": [
       "  PangenomeTool    SeqType   Anno                            Method  Total genes  Core genes  Accessory genes   Weight\n",
       "0       Panaroo   LongRead  Bakta  Panaroo (Strict & MergeParalogs)        14410        3035            11375  10688.5\n",
       "7       Panaroo  ShortRead  Bakta  Panaroo (Strict & MergeParalogs)        12836        2834            10002  10688.5"
      ]
     },
     "execution_count": 105,
     "metadata": {},
     "output_type": "execute_result"
    }
   ],
   "source": [
    "PG_WideSumm_V2_DF.head(2)"
   ]
  },
  {
   "cell_type": "code",
   "execution_count": 107,
   "id": "33632fd3-cde1-4e57-b6dd-b33bae65a924",
   "metadata": {},
   "outputs": [
    {
     "data": {
      "text/html": [
       "<div>\n",
       "<style scoped>\n",
       "    .dataframe tbody tr th:only-of-type {\n",
       "        vertical-align: middle;\n",
       "    }\n",
       "\n",
       "    .dataframe tbody tr th {\n",
       "        vertical-align: top;\n",
       "    }\n",
       "\n",
       "    .dataframe thead th {\n",
       "        text-align: right;\n",
       "    }\n",
       "</style>\n",
       "<table border=\"1\" class=\"dataframe\">\n",
       "  <thead>\n",
       "    <tr style=\"text-align: right;\">\n",
       "      <th></th>\n",
       "      <th>Category</th>\n",
       "      <th>Range</th>\n",
       "      <th>GeneCount</th>\n",
       "      <th>Annotation</th>\n",
       "      <th>Method</th>\n",
       "      <th>SeqType</th>\n",
       "      <th>DataSet</th>\n",
       "      <th>MethodAndTech</th>\n",
       "      <th>MethodAndTechAndAnno</th>\n",
       "    </tr>\n",
       "  </thead>\n",
       "  <tbody>\n",
       "    <tr>\n",
       "      <th>4</th>\n",
       "      <td>Total genes</td>\n",
       "      <td>(0% &lt;= strains &lt;= 100%)</td>\n",
       "      <td>14410</td>\n",
       "      <td>Bakta</td>\n",
       "      <td>Panaroo_Strict_MergeParalogs</td>\n",
       "      <td>LongRead</td>\n",
       "      <td>All</td>\n",
       "      <td>Panaroo_Strict_MergeParalogs_LongRead</td>\n",
       "      <td>Panaroo_Strict_MergeParalogs_LongRead_Bakta</td>\n",
       "    </tr>\n",
       "  </tbody>\n",
       "</table>\n",
       "</div>"
      ],
      "text/plain": [
       "      Category                    Range  GeneCount Annotation                        Method   SeqType DataSet                          MethodAndTech                         MethodAndTechAndAnno\n",
       "4  Total genes  (0% <= strains <= 100%)      14410      Bakta  Panaroo_Strict_MergeParalogs  LongRead     All  Panaroo_Strict_MergeParalogs_LongRead  Panaroo_Strict_MergeParalogs_LongRead_Bakta"
      ]
     },
     "execution_count": 107,
     "metadata": {},
     "output_type": "execute_result"
    }
   ],
   "source": [
    "PG_Merged_Stats_LRandSR_Pangenome_DF.head(1)"
   ]
  },
  {
   "cell_type": "code",
   "execution_count": 108,
   "id": "6d31df98-eead-4d3d-b954-03583504289d",
   "metadata": {},
   "outputs": [
    {
     "data": {
      "text/html": [
       "<div>\n",
       "<style scoped>\n",
       "    .dataframe tbody tr th:only-of-type {\n",
       "        vertical-align: middle;\n",
       "    }\n",
       "\n",
       "    .dataframe tbody tr th {\n",
       "        vertical-align: top;\n",
       "    }\n",
       "\n",
       "    .dataframe thead th {\n",
       "        text-align: right;\n",
       "    }\n",
       "</style>\n",
       "<table border=\"1\" class=\"dataframe\">\n",
       "  <thead>\n",
       "    <tr style=\"text-align: right;\">\n",
       "      <th></th>\n",
       "      <th>Category</th>\n",
       "      <th>Range</th>\n",
       "      <th>GeneCount</th>\n",
       "      <th>Annotation</th>\n",
       "      <th>Method</th>\n",
       "      <th>SeqType</th>\n",
       "      <th>DataSet</th>\n",
       "      <th>MethodAndTech</th>\n",
       "      <th>MethodAndTechAndAnno</th>\n",
       "    </tr>\n",
       "  </thead>\n",
       "  <tbody>\n",
       "    <tr>\n",
       "      <th>5</th>\n",
       "      <td>Accessory genes</td>\n",
       "      <td>(0% &lt;= strains &lt; 99%)</td>\n",
       "      <td>11375</td>\n",
       "      <td>Bakta</td>\n",
       "      <td>Panaroo_Strict_MergeParalogs</td>\n",
       "      <td>LongRead</td>\n",
       "      <td>All</td>\n",
       "      <td>Panaroo_Strict_MergeParalogs_LongRead</td>\n",
       "      <td>Panaroo_Strict_MergeParalogs_LongRead_Bakta</td>\n",
       "    </tr>\n",
       "    <tr>\n",
       "      <th>5</th>\n",
       "      <td>Accessory genes</td>\n",
       "      <td>(0% &lt;= strains &lt; 99%)</td>\n",
       "      <td>11605</td>\n",
       "      <td>Bakta</td>\n",
       "      <td>Panaroo_Moderate_MergeParalogs</td>\n",
       "      <td>LongRead</td>\n",
       "      <td>All</td>\n",
       "      <td>Panaroo_Moderate_MergeParalogs_LongRead</td>\n",
       "      <td>Panaroo_Moderate_MergeParalogs_LongRead_Bakta</td>\n",
       "    </tr>\n",
       "    <tr>\n",
       "      <th>5</th>\n",
       "      <td>Accessory genes</td>\n",
       "      <td>(0% &lt;= strains &lt; 99%)</td>\n",
       "      <td>11996</td>\n",
       "      <td>Bakta</td>\n",
       "      <td>Panaroo_Sensitive_MergeParalogs</td>\n",
       "      <td>LongRead</td>\n",
       "      <td>All</td>\n",
       "      <td>Panaroo_Sensitive_MergeParalogs_LongRead</td>\n",
       "      <td>Panaroo_Sensitive_MergeParalogs_LongRead_Bakta</td>\n",
       "    </tr>\n",
       "  </tbody>\n",
       "</table>\n",
       "</div>"
      ],
      "text/plain": [
       "          Category                  Range  GeneCount Annotation                           Method   SeqType DataSet                             MethodAndTech                            MethodAndTechAndAnno\n",
       "5  Accessory genes  (0% <= strains < 99%)      11375      Bakta     Panaroo_Strict_MergeParalogs  LongRead     All     Panaroo_Strict_MergeParalogs_LongRead     Panaroo_Strict_MergeParalogs_LongRead_Bakta\n",
       "5  Accessory genes  (0% <= strains < 99%)      11605      Bakta   Panaroo_Moderate_MergeParalogs  LongRead     All   Panaroo_Moderate_MergeParalogs_LongRead   Panaroo_Moderate_MergeParalogs_LongRead_Bakta\n",
       "5  Accessory genes  (0% <= strains < 99%)      11996      Bakta  Panaroo_Sensitive_MergeParalogs  LongRead     All  Panaroo_Sensitive_MergeParalogs_LongRead  Panaroo_Sensitive_MergeParalogs_LongRead_Bakta"
      ]
     },
     "execution_count": 108,
     "metadata": {},
     "output_type": "execute_result"
    }
   ],
   "source": [
    "PG_Merged_Stats_LRandSR_Acc_DF.head(3)"
   ]
  },
  {
   "cell_type": "code",
   "execution_count": null,
   "id": "9b2ade78-c733-4507-8897-634765e4f695",
   "metadata": {},
   "outputs": [],
   "source": []
  },
  {
   "cell_type": "code",
   "execution_count": null,
   "id": "dffe4502-cbbb-4e11-97fc-9b677cbdb725",
   "metadata": {},
   "outputs": [],
   "source": []
  },
  {
   "cell_type": "code",
   "execution_count": null,
   "id": "5ca56282-644c-4b02-b5bb-bab1f8028b23",
   "metadata": {},
   "outputs": [],
   "source": []
  },
  {
   "cell_type": "markdown",
   "id": "271b99f7-18fb-4149-a102-29dd2adbeed2",
   "metadata": {},
   "source": [
    "# Let's try a 4-way comparison of SeqType & Anno Method"
   ]
  },
  {
   "cell_type": "code",
   "execution_count": 109,
   "id": "64df949e-743b-4431-b8bc-7913513f4411",
   "metadata": {},
   "outputs": [
    {
     "data": {
      "text/plain": [
       "dict_keys(['All'])"
      ]
     },
     "execution_count": 109,
     "metadata": {},
     "output_type": "execute_result"
    }
   ],
   "source": [
    "dictOf_PG_OutInfo.keys()"
   ]
  },
  {
   "cell_type": "code",
   "execution_count": 110,
   "id": "d468be9b-871c-435f-8790-9cf84016422f",
   "metadata": {},
   "outputs": [
    {
     "data": {
      "text/plain": [
       "dict_keys(['Bakta'])"
      ]
     },
     "execution_count": 110,
     "metadata": {},
     "output_type": "execute_result"
    }
   ],
   "source": [
    "dictOf_PG_OutInfo[\"All\"].keys() "
   ]
  },
  {
   "cell_type": "code",
   "execution_count": null,
   "id": "99029a68-c36e-4bae-b66e-02f6292d944a",
   "metadata": {},
   "outputs": [],
   "source": []
  },
  {
   "cell_type": "markdown",
   "id": "a8d16921-7b56-485e-b57b-7323bc5181d4",
   "metadata": {},
   "source": [
    "# 1) Merge all Pan-genome counts accross all combinations evaluated"
   ]
  },
  {
   "cell_type": "code",
   "execution_count": 114,
   "id": "635ed73a-2b4e-4625-a9ff-87085369dea5",
   "metadata": {},
   "outputs": [
    {
     "data": {
      "text/plain": [
       "(42, 10)"
      ]
     },
     "execution_count": 114,
     "metadata": {},
     "output_type": "execute_result"
    }
   ],
   "source": [
    "\n",
    "PipeName_WiParam_List = ['Panaroo_Strict_MergeParalogs', 'Panaroo_Moderate_MergeParalogs',\n",
    "                 'Panaroo_Sensitive_MergeParalogs', 'Roary_NoSplitParalogs_I80', 'Roary_NoSplitParalogs_I90',\n",
    "                 'Roary_NoSplitParalogs',  'Roary_Default', ] # 'Ppanggolin_I95', 'Ppanggolin_I90']\n",
    "\n",
    "\n",
    "listOf_PG_InfoDFs = []\n",
    "for i_SampleSet in [\"All\"]: # \"HighBUSCOIsolates\"\n",
    "    for AnnoPipeline in [\"Bakta\", ]:\n",
    "        for AsmTech in [\"LongRead\", \"ShortRead\"]:\n",
    "            for i_PipeNameWiParam in PipeName_WiParam_List:\n",
    "\n",
    "                #if (AsmTech == \"ShortRead\") and (AnnoPipeline == \"PGAP\"): continue\n",
    "                    #print(\"Remove - \", AnnoPipeline, AsmTech, i_PipeNameWiParam)\n",
    "                \n",
    "                #print(AnnoPipeline, AsmTech, i_PipeNameWiParam)\n",
    "                \n",
    "                i_PG_Stats_DF = dictOf_PG_OutInfo[i_SampleSet][AnnoPipeline][AsmTech][i_PipeNameWiParam]\n",
    "                \n",
    "                listOf_PG_InfoDFs.append(i_PG_Stats_DF)\n",
    "\n",
    "PG_Merged_Stats_SeqAndAnnoType_DF = pd.concat(listOf_PG_InfoDFs)\n",
    "\n",
    "PG_Merged_Stats_SeqAndAnnoType_DF[\"MethodAndTech\"] = PG_Merged_Stats_SeqAndAnnoType_DF[\"Method\"] + \"_\" +PG_Merged_Stats_SeqAndAnnoType_DF[\"SeqType\"]\n",
    "PG_Merged_Stats_SeqAndAnnoType_DF[\"AnnoAndTech\"] = PG_Merged_Stats_SeqAndAnnoType_DF[\"Annotation\"] + \"-\" +PG_Merged_Stats_SeqAndAnnoType_DF[\"SeqType\"]\n",
    "\n",
    "PG_Merged_Stats_SeqAndAnnoType_DF[\"PangenomeTool\"] = PG_Merged_Stats_SeqAndAnnoType_DF[\"Method\"].str.split(\"_\").str[0]\n",
    "\n",
    "PG_Merged_Stats_SeqAndAnnoType_DF.shape\n"
   ]
  },
  {
   "cell_type": "code",
   "execution_count": 115,
   "id": "23adefb6-aece-4dd1-a86f-976ced3a67af",
   "metadata": {},
   "outputs": [
    {
     "data": {
      "text/html": [
       "<div>\n",
       "<style scoped>\n",
       "    .dataframe tbody tr th:only-of-type {\n",
       "        vertical-align: middle;\n",
       "    }\n",
       "\n",
       "    .dataframe tbody tr th {\n",
       "        vertical-align: top;\n",
       "    }\n",
       "\n",
       "    .dataframe thead th {\n",
       "        text-align: right;\n",
       "    }\n",
       "</style>\n",
       "<table border=\"1\" class=\"dataframe\">\n",
       "  <thead>\n",
       "    <tr style=\"text-align: right;\">\n",
       "      <th></th>\n",
       "      <th>Category</th>\n",
       "      <th>Range</th>\n",
       "      <th>GeneCount</th>\n",
       "      <th>Annotation</th>\n",
       "      <th>Method</th>\n",
       "      <th>SeqType</th>\n",
       "      <th>DataSet</th>\n",
       "      <th>MethodAndTech</th>\n",
       "      <th>AnnoAndTech</th>\n",
       "      <th>PangenomeTool</th>\n",
       "    </tr>\n",
       "  </thead>\n",
       "  <tbody>\n",
       "    <tr>\n",
       "      <th>0</th>\n",
       "      <td>Core genes</td>\n",
       "      <td>(99% &lt;= strains &lt;= 100%)</td>\n",
       "      <td>3035</td>\n",
       "      <td>Bakta</td>\n",
       "      <td>Panaroo_Strict_MergeParalogs</td>\n",
       "      <td>LongRead</td>\n",
       "      <td>All</td>\n",
       "      <td>Panaroo_Strict_MergeParalogs_LongRead</td>\n",
       "      <td>Bakta-LongRead</td>\n",
       "      <td>Panaroo</td>\n",
       "    </tr>\n",
       "    <tr>\n",
       "      <th>4</th>\n",
       "      <td>Total genes</td>\n",
       "      <td>(0% &lt;= strains &lt;= 100%)</td>\n",
       "      <td>14410</td>\n",
       "      <td>Bakta</td>\n",
       "      <td>Panaroo_Strict_MergeParalogs</td>\n",
       "      <td>LongRead</td>\n",
       "      <td>All</td>\n",
       "      <td>Panaroo_Strict_MergeParalogs_LongRead</td>\n",
       "      <td>Bakta-LongRead</td>\n",
       "      <td>Panaroo</td>\n",
       "    </tr>\n",
       "  </tbody>\n",
       "</table>\n",
       "</div>"
      ],
      "text/plain": [
       "      Category                     Range  GeneCount Annotation                        Method   SeqType DataSet                          MethodAndTech     AnnoAndTech PangenomeTool\n",
       "0   Core genes  (99% <= strains <= 100%)       3035      Bakta  Panaroo_Strict_MergeParalogs  LongRead     All  Panaroo_Strict_MergeParalogs_LongRead  Bakta-LongRead       Panaroo\n",
       "4  Total genes   (0% <= strains <= 100%)      14410      Bakta  Panaroo_Strict_MergeParalogs  LongRead     All  Panaroo_Strict_MergeParalogs_LongRead  Bakta-LongRead       Panaroo"
      ]
     },
     "execution_count": 115,
     "metadata": {},
     "output_type": "execute_result"
    }
   ],
   "source": [
    "PG_Merged_Stats_SeqAndAnnoType_DF.head(2)"
   ]
  },
  {
   "cell_type": "code",
   "execution_count": 116,
   "id": "1d16e70a-1ed4-4497-8df5-86efbcdceb97",
   "metadata": {},
   "outputs": [
    {
     "data": {
      "text/plain": [
       "array(['Core genes', 'Total genes', 'Accessory genes'], dtype=object)"
      ]
     },
     "execution_count": 116,
     "metadata": {},
     "output_type": "execute_result"
    }
   ],
   "source": [
    "PG_Merged_Stats_SeqAndAnnoType_DF[\"Category\"].unique()"
   ]
  },
  {
   "cell_type": "code",
   "execution_count": null,
   "id": "8b4bcb0c-b506-4f42-83a1-22f478dc0747",
   "metadata": {},
   "outputs": [],
   "source": []
  },
  {
   "cell_type": "code",
   "execution_count": 117,
   "id": "cc05cc76-036d-456d-95ca-a40f153a2197",
   "metadata": {},
   "outputs": [
    {
     "data": {
      "text/plain": [
       "(14, 10)"
      ]
     },
     "execution_count": 117,
     "metadata": {},
     "output_type": "execute_result"
    }
   ],
   "source": [
    "PG_Merged_Stats_SeqAndAnnoType_Total_DF = PG_Merged_Stats_SeqAndAnnoType_DF.query(\"Category == 'Total genes' \")  \n",
    "PG_Merged_Stats_SeqAndAnnoType_Total_DF.shape"
   ]
  },
  {
   "cell_type": "code",
   "execution_count": 118,
   "id": "c1d49576-dbc5-4c55-9a4b-8cafb5d3348d",
   "metadata": {},
   "outputs": [
    {
     "data": {
      "text/plain": [
       "(14, 10)"
      ]
     },
     "execution_count": 118,
     "metadata": {},
     "output_type": "execute_result"
    }
   ],
   "source": [
    "PG_Merged_Stats_SeqAndAnnoType_Core_DF = PG_Merged_Stats_SeqAndAnnoType_DF.query(\"Category == 'Core genes' \")\n",
    "PG_Merged_Stats_SeqAndAnnoType_Core_DF.shape"
   ]
  },
  {
   "cell_type": "code",
   "execution_count": 119,
   "id": "f30f1de0-a93a-43a1-a866-815de6712978",
   "metadata": {},
   "outputs": [
    {
     "data": {
      "text/plain": [
       "(14, 10)"
      ]
     },
     "execution_count": 119,
     "metadata": {},
     "output_type": "execute_result"
    }
   ],
   "source": [
    "PG_Merged_Stats_SeqAndAnnoType_Acc_DF = PG_Merged_Stats_SeqAndAnnoType_DF.query(\"Category == 'Accessory genes' \")\n",
    "PG_Merged_Stats_SeqAndAnnoType_Acc_DF.shape  "
   ]
  },
  {
   "cell_type": "code",
   "execution_count": 120,
   "id": "44f69b48-457f-4b39-bacf-c333eb980315",
   "metadata": {},
   "outputs": [
    {
     "data": {
      "text/plain": [
       "Bakta-LongRead     7\n",
       "Bakta-ShortRead    7\n",
       "Name: AnnoAndTech, dtype: int64"
      ]
     },
     "execution_count": 120,
     "metadata": {},
     "output_type": "execute_result"
    }
   ],
   "source": [
    "PG_Merged_Stats_SeqAndAnnoType_Acc_DF[\"AnnoAndTech\"].value_counts()"
   ]
  },
  {
   "cell_type": "code",
   "execution_count": null,
   "id": "06a42393-7e8b-43d7-85b1-65ed77182dcd",
   "metadata": {},
   "outputs": [],
   "source": []
  },
  {
   "cell_type": "code",
   "execution_count": 121,
   "id": "daf6002e-76e8-4979-9027-55a6a0ab8418",
   "metadata": {},
   "outputs": [
    {
     "name": "stdout",
     "output_type": "stream",
     "text": [
      "mkdir: cannot create directory ‘Results3_Plots/’: File exists\n"
     ]
    }
   ],
   "source": [
    "!mkdir Results3_Plots/"
   ]
  },
  {
   "cell_type": "code",
   "execution_count": 123,
   "id": "135912a8-6d0b-4803-a8a9-acbc61dcfc8c",
   "metadata": {},
   "outputs": [
    {
     "data": {
      "image/png": "[encoded data removed]",
      "text/plain": [
       "<Figure size 864x720 with 1 Axes>"
      ]
     },
     "metadata": {
      "needs_background": "light"
     },
     "output_type": "display_data"
    }
   ],
   "source": [
    "fig, axs = plt.subplots(1, 1, figsize= (12, 10), sharex=True)\n",
    "\n",
    "#sns.set_context(\"poster\")\n",
    "sns.set_context(\"paper\", font_scale=1.5)\n",
    "\n",
    "orderToPlot_X = ['Panaroo_Strict_MergeParalogs', 'Panaroo_Moderate_MergeParalogs',\n",
    "                 'Panaroo_Sensitive_MergeParalogs',  'Roary_NoSplitParalogs_I80', 'Roary_NoSplitParalogs_I90',\n",
    "                 'Roary_NoSplitParalogs',  'Roary_Default', ] # 'Ppanggolin_I95', 'Ppanggolin_I90']\n",
    "\n",
    "Plot_TickLabels = ['Panaroo \\n (Strict & MergeParalogs)', 'Panaroo \\n (Moderate & MergeParalogs)',\n",
    "                 'Panaroo \\n (Sensitive & MergeParalogs)', 'Roary \\n (MergeParalogs & I80)', 'Roary \\n (MergeParalogs & I90)',\n",
    "                 'Roary \\n (MergeParalogs)',  'Roary \\n (Default)',] # 'Ppanggolin \\n (I95)', 'Ppanggolin \\n (I90)',]\n",
    "\n",
    "\n",
    "AnnoAndTech_hue_Color_Dict = { \"Bakta-LongRead\": \"#1f77b4\",\n",
    "                    \"Bakta-ShortRead\": \"#ff7f0e\",\n",
    "                    \"PGAP-LongRead\": \"#2ca02c\",\n",
    "                    \"PGAP-ShortRead\": \"#9467bd\" }\n",
    "\n",
    "\n",
    "hue_orderToPlot_X = AnnoAndTech_hue_Color_Dict.keys()\n",
    "pallete_ForPlot = AnnoAndTech_hue_Color_Dict.values()\n",
    "sns.barplot(y = \"Method\", x = \"GeneCount\", hue = \"AnnoAndTech\", data = PG_Merged_Stats_SeqAndAnnoType_Acc_DF, order = orderToPlot_X, hue_order = hue_orderToPlot_X, ax = axs, palette = pallete_ForPlot )\n",
    "#plt.ylim(0, 5000)\n",
    "# \n",
    "#axs.set_ylabel(\"Pangenome Analysis Pipeline\")\n",
    "axs.set_ylabel(\"\")\n",
    "\n",
    "axs.set_xlabel(\"# of accessory genes\", fontsize = 20)\n",
    "\n",
    "\n",
    "axs.set_yticklabels(labels = Plot_TickLabels, rotation=0, fontdict = {\"fontsize\": 15})\n",
    "\n",
    "#axs.set_xticklabels(labels = Plot_TickLabels, rotation=45, fontdict = {\"fontsize\": 12})\n",
    "\n",
    "Bakta_CompAsm_patch = mpatches.Patch(color = AnnoAndTech_hue_Color_Dict[\"Bakta-LongRead\"], label='Bakta & Complete Assemblies (N=151)')\n",
    "Bakta_SRAsm_patch = mpatches.Patch(color = AnnoAndTech_hue_Color_Dict[\"Bakta-ShortRead\"], label='Bakta & Short-Read Assemblies (N=151)')\n",
    "PGAP_CompAsm_patch = mpatches.Patch(color = AnnoAndTech_hue_Color_Dict[\"PGAP-LongRead\"], label='PGAP & Complete Assemblies (N=151)')\n",
    "PGAP_SRAsm_patch = mpatches.Patch(color = AnnoAndTech_hue_Color_Dict[\"PGAP-ShortRead\"], label='PGAP & Short-Read Assemblies (N=151)')\n",
    "\n",
    "axs.legend(title = \"Annotation/Assembly Combo\", handles=[Bakta_CompAsm_patch, Bakta_SRAsm_patch, PGAP_CompAsm_patch, PGAP_SRAsm_patch])\n",
    "\n",
    "#axs.set_title(\"Accessory genome size predictions\")\n",
    "#axs.set_title(\"Accessory gene counts: Hybrid vs SR assemblies\")\n",
    "sns.despine()\n",
    "plt.xticks(fontsize=25)\n",
    "\n",
    "\n",
    "#plt.savefig(\"Results3_Plots/3.PG.AccGeneCounts.SRvsLR.AND.BaktaVsPGAP.CombinedBarplot.png\", dpi = 300, bbox_inches=\"tight\")\n",
    "#plt.savefig(\"Results3_Plots/3.PG.AccGeneCounts.SRvsLR.AND.BaktaVsPGAP.CombinedBarplot.svg\", bbox_inches=\"tight\")\n",
    "\n",
    "#plt.xticks(labels = Plot_TickLabels, rotation=45)\n",
    "plt.show()"
   ]
  },
  {
   "cell_type": "code",
   "execution_count": 124,
   "id": "2d7bb0ff-f989-4068-922d-5e98105736c8",
   "metadata": {},
   "outputs": [
    {
     "data": {
      "image/png": "[encoded data removed]",
      "text/plain": [
       "<Figure size 864x2160 with 3 Axes>"
      ]
     },
     "metadata": {
      "needs_background": "light"
     },
     "output_type": "display_data"
    }
   ],
   "source": [
    "fig, axs = plt.subplots(3, 1, figsize= (12, 30), sharex=False, sharey=True)\n",
    "sns.set_context(\"poster\")\n",
    "\n",
    "\n",
    "\n",
    "#sns.barplot(y = \"Method\", x = \"GeneCount\", hue = \"Annotation\", data = PG_Merged_Stats_BaktaVsPGAP_Pangenome_DF, order = orderToPlot_X, ax = axs[0], palette = [\"#FF934F\", \"#A9CBB7\"] )\n",
    "\n",
    "sns.barplot(y = \"Method\", x = \"GeneCount\", hue = \"AnnoAndTech\", data = PG_Merged_Stats_SeqAndAnnoType_Acc_DF, order = orderToPlot_X, hue_order = hue_orderToPlot_X, ax = axs[0], palette = pallete_ForPlot )\n",
    "sns.barplot(y = \"Method\", x = \"GeneCount\", hue = \"AnnoAndTech\", data = PG_Merged_Stats_SeqAndAnnoType_Core_DF, order = orderToPlot_X, hue_order = hue_orderToPlot_X, ax = axs[1], palette = pallete_ForPlot )\n",
    "sns.barplot(y = \"Method\", x = \"GeneCount\", hue = \"AnnoAndTech\", data = PG_Merged_Stats_SeqAndAnnoType_Total_DF, order = orderToPlot_X, hue_order = hue_orderToPlot_X, ax = axs[2], palette = pallete_ForPlot )\n",
    "\n",
    "axs[0].set_ylabel(\"\")\n",
    "axs[1].set_ylabel(\"\"), axs[2].set_ylabel(\"\")\n",
    "axs[0].set_xlabel(\"# of accessory genes\", rotation=0,)\n",
    "axs[1].set_xlabel(\"# of core genes\", rotation=0,)\n",
    "axs[2].set_xlabel(\"# of total genes\", rotation=0,)\n",
    "\n",
    "\n",
    "# For all 3 \"ax\" set x tick labels\n",
    "for i_ax in axs:\n",
    "    i_ax.set_yticklabels(labels = Plot_TickLabels, rotation=0, fontdict = {\"fontsize\": 14})\n",
    "\n",
    "Bakta_CompAsm_patch = mpatches.Patch(color=\"#3F84E5\", label='Bakta & Complete Assemblies (N=151)')\n",
    "Bakta_SRAsm_patch = mpatches.Patch(color = \"#E85D75\", label='Bakta & Short-Read Assemblies (N=151)')\n",
    "PGAP_CompAsm_patch = mpatches.Patch(color=\"#ADD8E6\", label='PGAP & Complete Assemblies (N=151)')\n",
    "PGAP_SRAsm_patch = mpatches.Patch(color=\"#f7bfbe\", label='PGAP & Short-Read Assemblies (N=151)')\n",
    "\n",
    "axs[0].legend(title = \"Annotation/Assembly Combo\", handles=[Bakta_CompAsm_patch, PGAP_CompAsm_patch, Bakta_SRAsm_patch, PGAP_SRAsm_patch],\n",
    "              bbox_to_anchor=(1.75, 1), fontsize= 18) \n",
    "\n",
    "axs[1].get_legend().remove(), axs[2].get_legend().remove()\n",
    "\n",
    "axs[0].set_title(\"Accessory genome size\")\n",
    "axs[1].set_title(\"Core genome size\")\n",
    "axs[2].set_title(\"Pangenome size (Core + Accessory)\")\n",
    "sns.despine()\n",
    "#plt.tight_layout()\n",
    "#plt.xticks(labels = Plot_TickLabels, rotation=45)\n",
    "\n",
    "#plt.savefig(\"Results3_Plots/3.PG.Counts.SRvsLR.AND.BaktaVsPGAP.Combined3Barplots.png\", dpi = 300, bbox_inches=\"tight\")\n",
    "#plt.savefig(\"Results3_Plots/3.PG.Counts.SRvsLR.AND.BaktaVsPGAP.Combined3Barplots.svg\", bbox_inches=\"tight\")\n",
    "\n",
    "plt.show()"
   ]
  },
  {
   "cell_type": "code",
   "execution_count": null,
   "id": "6bf29538-6e0f-48b1-b009-4f86a95a34b9",
   "metadata": {},
   "outputs": [],
   "source": []
  },
  {
   "cell_type": "code",
   "execution_count": 130,
   "id": "1bbf89fc-11d9-4bb4-a59f-f93cb652b827",
   "metadata": {},
   "outputs": [
    {
     "data": {
      "image/png": "[encoded data removed]",
      "text/plain": [
       "<Figure size 2160x1008 with 2 Axes>"
      ]
     },
     "metadata": {
      "needs_background": "light"
     },
     "output_type": "display_data"
    }
   ],
   "source": [
    "# Change the subplot configuration to 1 row, 2 columns\n",
    "fig, axs = plt.subplots(1, 2, figsize=(30, 14), sharex=False, sharey=True)\n",
    "sns.set_context(\"poster\")\n",
    "\n",
    "# Plotting on the first and second subplot\n",
    "sns.barplot(y=\"Method\", x=\"GeneCount\", hue=\"AnnoAndTech\", data=PG_Merged_Stats_SeqAndAnnoType_Acc_DF, order=orderToPlot_X, hue_order=hue_orderToPlot_X, ax=axs[0], palette=pallete_ForPlot)\n",
    "sns.barplot(y=\"Method\", x=\"GeneCount\", hue=\"AnnoAndTech\", data=PG_Merged_Stats_SeqAndAnnoType_Core_DF, order=orderToPlot_X, hue_order=hue_orderToPlot_X, ax=axs[1], palette=pallete_ForPlot)\n",
    "\n",
    "# Set labels\n",
    "axs[0].set_ylabel(\"\") # Adjust as needed\n",
    "axs[1].set_ylabel(\"\") # Adjust as needed\n",
    "\n",
    "axs[0].set_xlabel(\"# of accessory genes\", rotation=0)\n",
    "axs[1].set_xlabel(\"# of core genes\", rotation=0)\n",
    "\n",
    "# Set tick labels\n",
    "for i_ax in axs:\n",
    "    i_ax.set_yticklabels(labels=Plot_TickLabels, rotation=0, fontdict={\"fontsize\": 14})\n",
    "\n",
    "# Adjust legend\n",
    "axs[1].legend(title=\"Annotation/Assembly Combo\", handles=[Bakta_CompAsm_patch, Bakta_SRAsm_patch], bbox_to_anchor=(1.05, 1), fontsize= 18) \n",
    "axs[0].get_legend().remove()\n",
    "\n",
    "# Set titles\n",
    "axs[0].set_title(\"Accessory genome size\")\n",
    "axs[1].set_title(\"Core genome size\")\n",
    "\n",
    "# Despine and layout adjustment\n",
    "sns.despine()\n",
    "plt.tight_layout()\n",
    "\n",
    "plt.show()"
   ]
  },
  {
   "cell_type": "code",
   "execution_count": null,
   "id": "5ee7118f-3f7b-4c4b-b559-c01978c28358",
   "metadata": {},
   "outputs": [],
   "source": []
  },
  {
   "cell_type": "code",
   "execution_count": null,
   "id": "ed50b039-6097-4714-b8d8-a7ff773c0170",
   "metadata": {},
   "outputs": [],
   "source": []
  },
  {
   "cell_type": "code",
   "execution_count": null,
   "id": "2770d797-6b11-418a-bc04-4a3c733617c1",
   "metadata": {},
   "outputs": [],
   "source": []
  },
  {
   "cell_type": "code",
   "execution_count": 127,
   "id": "b570ca84-ce31-4710-af7f-2ebf3e7fff14",
   "metadata": {},
   "outputs": [
    {
     "data": {
      "image/png": "[encoded data removed]",
      "text/plain": [
       "<Figure size 1080x720 with 1 Axes>"
      ]
     },
     "metadata": {
      "needs_background": "light"
     },
     "output_type": "display_data"
    }
   ],
   "source": [
    "AnnoAndTech_hue_Color_Dict = { \"Bakta-LongRead\": \"#1f77b4\",\n",
    "                    \"Bakta-ShortRead\": \"#ff7f0e\",\n",
    "                    \"PGAP-LongRead\": \"#2ca02c\",\n",
    "                    \"PGAP-ShortRead\": \"#9467bd\" }\n",
    "\n",
    "\n",
    "fig, axs = plt.subplots(1, 1, figsize= (15, 10), sharey = False)\n",
    "#sns.set_context(\"poster\")\n",
    "sns.set_context(\"paper\", font_scale=2)\n",
    "\n",
    "\n",
    "hue_orderToPlot_V2 = [\"Bakta-LongRead\",  \"PGAP-LongRead\", \"Bakta-ShortRead\", \"PGAP-ShortRead\"]\n",
    "\n",
    "hue_orderToPlot_V2 = [\"Bakta-LongRead\", \"Bakta-ShortRead\" ]\n",
    "\n",
    "\n",
    "sns.stripplot(y = \"GeneCount\", x = \"PangenomeTool\", hue = \"AnnoAndTech\", data = PG_Merged_Stats_SeqAndAnnoType_Acc_DF, linewidth=1, size = 12, palette = AnnoAndTech_hue_Color_Dict, hue_order = hue_orderToPlot_V2, #order = orderToPlot_X, hue_order = hue_orderToPlot_X,\n",
    "              alpha=0.9, dodge = True, edgecolor='gray', ax= axs)\n",
    "\n",
    "sns.boxplot(y = \"GeneCount\", x = \"PangenomeTool\", hue = \"AnnoAndTech\", data = PG_Merged_Stats_SeqAndAnnoType_Acc_DF, fliersize=0, palette = AnnoAndTech_hue_Color_Dict, hue_order = hue_orderToPlot_V2,\n",
    "            ax= axs, boxprops=dict(alpha=0.7) )\n",
    "\n",
    "\n",
    "Bakta_CompAsm_patch = mpatches.Patch(color = AnnoAndTech_hue_Color_Dict[\"Bakta-LongRead\"], label='Bakta & Complete Assemblies (N=151)')\n",
    "Bakta_SRAsm_patch = mpatches.Patch(color = AnnoAndTech_hue_Color_Dict[\"Bakta-ShortRead\"], label='Bakta & Short-Read Assemblies (N=151)')\n",
    "PGAP_CompAsm_patch = mpatches.Patch(color = AnnoAndTech_hue_Color_Dict[\"PGAP-LongRead\"], label='PGAP & Complete Assemblies (N=151)')\n",
    "PGAP_SRAsm_patch = mpatches.Patch(color = AnnoAndTech_hue_Color_Dict[\"PGAP-ShortRead\"], label='PGAP & Short-Read Assemblies (N=151)')\n",
    "\n",
    "\n",
    "axs.legend(title = \"Annotation/Assembly Combo\", handles=[Bakta_CompAsm_patch, PGAP_CompAsm_patch, Bakta_SRAsm_patch, PGAP_SRAsm_patch], bbox_to_anchor=(1.65, 1))\n",
    "\n",
    "#axs.legend(handles=[CompleteAsm_patch, SRAsm_patch], bbox_to_anchor=(0.75 , 1))\n",
    "\n",
    "#axs.set_title(\"Predicted Accessory genome size\", fontsize= 20)\n",
    "\n",
    "#axs.set_ylabel(\"Predicted # accessory genes\", fontsize= 20), \n",
    "# For all 3 \"ax\" set x tick labels\n",
    "\n",
    "#axs.set_xticklabels(labels = [\"Complete Assembly\", \"Short Read Assembly\"], fontsize = 18)\n",
    "\n",
    "#axs.set_ylim(0, 6250)\n",
    "axs.set_xlabel(\"\")\n",
    "axs.set_ylabel(\"# estimated accessory genes\")\n",
    "\n",
    "#axs.get_legend().remove()\n",
    "\n",
    "sns.despine()\n",
    "#plt.savefig(\"Plots/4.PG.AllCounts.SRvsLR.WiBakta.Boxplots.png\", dpi = 300)\n",
    "#plt.savefig(\"Plots/4.PG.AllCounts.SRvsLR.WiBakta.Boxplots.svg\")  \n",
    " \n",
    "#CompleteAsm_patch = mpatches.Patch(color=\"#1D6CAB\", label='Complete Assemblies')\n",
    "#SRAsm_patch = mpatches.Patch(color = \"#FF7410\", label='Short-Read Assemblies')\n",
    "\n",
    "\n",
    "#axs.legend( handles=[CompleteAsm_patch, SRAsm_patch], bbox_to_anchor=(0.75 , 1))\n",
    "plt.show()"
   ]
  },
  {
   "cell_type": "code",
   "execution_count": null,
   "id": "53beb04e-8a19-43ae-a3fa-1fa3fb2109a0",
   "metadata": {},
   "outputs": [],
   "source": []
  },
  {
   "cell_type": "code",
   "execution_count": null,
   "id": "372b5f76-f580-4cfd-b09e-c92f9d2ab905",
   "metadata": {},
   "outputs": [],
   "source": []
  },
  {
   "cell_type": "code",
   "execution_count": null,
   "id": "313fa111-3c33-4aa2-b5fa-6ca74640e6d0",
   "metadata": {},
   "outputs": [],
   "source": []
  },
  {
   "cell_type": "code",
   "execution_count": null,
   "id": "921eb455-c47b-44f8-aaae-c5299441f7b5",
   "metadata": {},
   "outputs": [],
   "source": []
  },
  {
   "cell_type": "code",
   "execution_count": null,
   "id": "15323681-5dce-4346-9d7f-3fc0ebce8603",
   "metadata": {},
   "outputs": [],
   "source": []
  },
  {
   "cell_type": "code",
   "execution_count": null,
   "id": "c7b86cda-9eff-4174-ad80-56b397d8bfb3",
   "metadata": {},
   "outputs": [],
   "source": []
  },
  {
   "cell_type": "code",
   "execution_count": null,
   "id": "0daf6f0a-7a46-44d3-84c0-9402ea2e7467",
   "metadata": {},
   "outputs": [],
   "source": []
  },
  {
   "cell_type": "code",
   "execution_count": null,
   "id": "0603fd71-edbc-4653-840f-628c7ada5a45",
   "metadata": {},
   "outputs": [],
   "source": []
  },
  {
   "cell_type": "code",
   "execution_count": null,
   "id": "28457822-558f-4fec-9b7d-5ed112b13df4",
   "metadata": {},
   "outputs": [],
   "source": []
  },
  {
   "cell_type": "code",
   "execution_count": null,
   "id": "f57c26b3-2151-4d43-9ffc-4eec46b27eb8",
   "metadata": {},
   "outputs": [],
   "source": []
  },
  {
   "cell_type": "code",
   "execution_count": null,
   "id": "78b274a9-8246-4149-ae5d-8a4fd84d2369",
   "metadata": {},
   "outputs": [],
   "source": []
  },
  {
   "cell_type": "code",
   "execution_count": null,
   "id": "efeb8221-d12f-4cf0-a4fd-20fa5cbcf5d5",
   "metadata": {},
   "outputs": [],
   "source": []
  },
  {
   "cell_type": "code",
   "execution_count": null,
   "id": "9439026b-917b-404f-ba5b-f537cb475a9b",
   "metadata": {},
   "outputs": [],
   "source": []
  },
  {
   "cell_type": "code",
   "execution_count": null,
   "id": "27586e26-1b0d-455e-93ac-26109a3eea21",
   "metadata": {},
   "outputs": [],
   "source": []
  },
  {
   "cell_type": "code",
   "execution_count": null,
   "id": "4c64dfdd-3b38-48ec-b106-238e45cb4580",
   "metadata": {},
   "outputs": [],
   "source": []
  },
  {
   "cell_type": "code",
   "execution_count": null,
   "id": "292dfbfe-08d5-4f09-b292-8a272a440967",
   "metadata": {},
   "outputs": [],
   "source": []
  },
  {
   "cell_type": "code",
   "execution_count": null,
   "id": "bedb9c11-7bf0-4c92-8685-7ebeca84290b",
   "metadata": {},
   "outputs": [],
   "source": []
  },
  {
   "cell_type": "code",
   "execution_count": null,
   "id": "2ccd3e1f-0b0e-4781-9073-3e1299e2072f",
   "metadata": {},
   "outputs": [],
   "source": []
  },
  {
   "cell_type": "code",
   "execution_count": null,
   "id": "5a8903ca-3fda-4285-b446-a3ba1153898a",
   "metadata": {},
   "outputs": [],
   "source": []
  },
  {
   "cell_type": "code",
   "execution_count": null,
   "id": "72aef522-d843-44df-9259-6cfb1074f7f0",
   "metadata": {},
   "outputs": [],
   "source": []
  }
 ],
 "metadata": {
  "kernelspec": {
   "display_name": "py37_S",
   "language": "python",
   "name": "py37_s"
  },
  "language_info": {
   "codemirror_mode": {
    "name": "ipython",
    "version": 3
   },
   "file_extension": ".py",
   "mimetype": "text/x-python",
   "name": "python",
   "nbconvert_exporter": "python",
   "pygments_lexer": "ipython3",
   "version": "3.7.3"
  }
 },
 "nbformat": 4,
 "nbformat_minor": 5
}
