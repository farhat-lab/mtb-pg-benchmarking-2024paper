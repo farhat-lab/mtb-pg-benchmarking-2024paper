{
 "cells": [
  {
   "cell_type": "markdown",
   "id": "d999a1f7-2a37-469c-a0e5-7620bf2ab0c1",
   "metadata": {},
   "source": [
    "# Comparing Pangenome pipeline predictions - Shaw2021 - 50 e. coli genomes"
   ]
  },
  {
   "cell_type": "markdown",
   "id": "774155fc-86a8-49cb-a9ff-953f02c365ff",
   "metadata": {
    "toc-hr-collapsed": true
   },
   "source": [
    "### Import Statements"
   ]
  },
  {
   "cell_type": "code",
   "execution_count": 1,
   "id": "dc8511b1-c7c2-46a0-8375-47f24a479d12",
   "metadata": {},
   "outputs": [],
   "source": [
    "import numpy as np\n",
    "import pandas as pd\n",
    "import vcf\n",
    "from tqdm import tqdm\n",
    "import matplotlib.pyplot as plt\n",
    "import seaborn as sns\n",
    "import pickle\n",
    "import scipy.stats\n",
    "\n",
    "%matplotlib inline"
   ]
  },
  {
   "cell_type": "code",
   "execution_count": null,
   "id": "09fb9fa2-fdb7-45d3-9b7d-aa4f0973f35b",
   "metadata": {},
   "outputs": [],
   "source": []
  },
  {
   "cell_type": "markdown",
   "id": "069864d1-343f-402d-bcdb-9b2fd9c70703",
   "metadata": {},
   "source": [
    "#### Pandas Viewing Settings"
   ]
  },
  {
   "cell_type": "code",
   "execution_count": 2,
   "id": "f0bc9f4b-b84c-48ce-9429-73b512716f70",
   "metadata": {},
   "outputs": [],
   "source": [
    "pd.set_option('display.max_rows', 500)\n",
    "pd.set_option('display.max_columns', 500)\n",
    "pd.set_option('display.width', 1000)"
   ]
  },
  {
   "cell_type": "code",
   "execution_count": null,
   "id": "31c27e09-dc1c-48ed-884b-1e28d72b4db6",
   "metadata": {},
   "outputs": [],
   "source": []
  },
  {
   "cell_type": "code",
   "execution_count": 3,
   "id": "a99145e9-aa3c-41f4-b170-a1d13ba70db5",
   "metadata": {},
   "outputs": [],
   "source": [
    "\n",
    "def read_PanarooSummaryStats(input_Panaroo_SummaryStats_TXT):\n",
    "    \n",
    "    i_Panaroo_Stats_DF = pd.read_csv(input_Panaroo_SummaryStats_TXT, sep = \"\\t\", header=None)\n",
    "    i_Panaroo_Stats_DF.columns = [\"Category\", \"Range\", \"GeneCount\"]\n",
    "\n",
    "    Acc_GenesCount = i_Panaroo_Stats_DF[\"GeneCount\"].values[-1] - i_Panaroo_Stats_DF[\"GeneCount\"].values[0]\n",
    "\n",
    "    i_Panaroo_AccGenesRow = [\"Accessory genes\",\"(0% <= strains < 99%)\", Acc_GenesCount]\n",
    "\n",
    "    i_Panaroo_Stats_DF.loc[len(i_Panaroo_Stats_DF.index)] = i_Panaroo_AccGenesRow\n",
    "\n",
    "    #listOfCat_ToKeep = [\"Core genes\", \"Accessory Genes\", \"Total genes\"]\n",
    "\n",
    "    i_Panaroo_Stats_DF = i_Panaroo_Stats_DF[ i_Panaroo_Stats_DF[\"Category\"].isin(listOfCat_ToKeep)]   \n",
    "\n",
    "    # https://www.statology.org/pandas-add-row-to-dataframe/#:~:text=You%20can%20use%20the%20df,loc%5Blen(df. \n",
    "\n",
    "    return i_Panaroo_Stats_DF"
   ]
  },
  {
   "cell_type": "code",
   "execution_count": 4,
   "id": "c2e7163b-c19a-4504-8bed-25af76a519f0",
   "metadata": {},
   "outputs": [],
   "source": [
    "def read_Ppanggolin_ContextStats(i_Ppanggolin_Default_Content_TXT):\n",
    "    with open(i_Ppanggolin_Default_Content_TXT, \"r\") as f:\n",
    "\n",
    "        #NumCoreGenes = -1\n",
    "        #NumShellGenes = -1\n",
    "        #NumCloudGenes = -1\n",
    "        for line in f:\n",
    "            line_split = line.split(\": \")\n",
    "\n",
    "            Key = line_split[0].split(\" (\")[0]\n",
    "            Value = line_split[-1].strip()\n",
    "\n",
    "            if Key == \"Persistent\": NumCoreGenes = int(Value)\n",
    "            elif Key == \"Shell\": NumShellGenes = int(Value)\n",
    "            elif Key == \"Cloud\": NumCloudGenes = int(Value)\n",
    "\n",
    "        NumAccessoryGenes = NumShellGenes + NumCloudGenes\n",
    "        NumTotalGenes = NumCoreGenes + NumAccessoryGenes\n",
    "\n",
    "    listOf_PG_Rows = []\n",
    "    listOf_PG_Rows.append( (\"Total genes\", \"(0% <= strains <= 100%)\", NumTotalGenes) )\n",
    "    listOf_PG_Rows.append( (\"Accessory genes\", \"(0% <= strains < 99%)\", NumAccessoryGenes) )\n",
    "    listOf_PG_Rows.append( (\"Core genes\", \"(99% <= strains <= 100%)\", NumCoreGenes) )\n",
    "\n",
    "    PPanggolin_Summary_DF = pd.DataFrame(listOf_PG_Rows)\n",
    "    PPanggolin_Summary_DF.columns = [\"Category\", \"Range\", \"GeneCount\"]\n",
    "    \n",
    "    return PPanggolin_Summary_DF"
   ]
  },
  {
   "cell_type": "code",
   "execution_count": null,
   "id": "d401b2f5-74e0-446e-b2c3-652d4277bb13",
   "metadata": {},
   "outputs": [],
   "source": []
  },
  {
   "cell_type": "code",
   "execution_count": null,
   "id": "03be6486-370c-4863-b32b-16ac5dc53e0f",
   "metadata": {},
   "outputs": [],
   "source": []
  },
  {
   "cell_type": "code",
   "execution_count": null,
   "id": "001686ee-9195-4f3f-9f78-37cf850c32cb",
   "metadata": {},
   "outputs": [],
   "source": []
  },
  {
   "cell_type": "code",
   "execution_count": null,
   "id": "0bcce672-dcf4-4af5-a265-da3ace14d7d6",
   "metadata": {},
   "outputs": [],
   "source": []
  },
  {
   "cell_type": "markdown",
   "id": "dd124242-7e09-4bca-b2c8-bf886db9aa8a",
   "metadata": {},
   "source": [
    "## Define paths to sample metadata files & key directories"
   ]
  },
  {
   "cell_type": "code",
   "execution_count": 5,
   "id": "6f744ad0-2b65-4010-92b9-3f8b69523f9a",
   "metadata": {},
   "outputs": [],
   "source": [
    "\n",
    "Proj_MainDir = \"/n/data1/hms/dbmi/farhat/mm774/Projects\"\n",
    "\n",
    "Ecoli_PG_MainDir = f\"{Proj_MainDir}/230905_Ecoli_PG_Analysis\"  \n",
    "\n",
    "Data_MainDir = f\"{Ecoli_PG_MainDir}/Data\"  \n",
    "\n",
    "#RefSeq_20Asm_Dir = f\"{Data_MainDir}/NCBI.RefSeq.20.EcoliGenomes.dataset/data\"\n",
    "\n",
    "Shaw2021_50Asm_Dir = f\"{Data_MainDir}/Shaw2021.50Genomes.Data/data\"\n",
    "\n",
    "Shaw2021_Meta_TSV = f\"{Data_MainDir}/Shaw2021.SelectedIsolates.50I.tsv\"  \n",
    "\n",
    "input_FA_PATH_TSVs_Dir = f\"{Ecoli_PG_MainDir}/input_PATH_SMK_TSVs\"\n",
    "\n",
    "Shaw2021_Ecoli_50Asm_Meta_TSV = f\"{input_FA_PATH_TSVs_Dir}/231011.Shaw2021.Ecoli.50I.MetaData.tsv\"\n"
   ]
  },
  {
   "cell_type": "markdown",
   "id": "e0741431-104f-4771-ab20-3993fe3d7828",
   "metadata": {},
   "source": [
    "## Parse in metadata DFs"
   ]
  },
  {
   "cell_type": "code",
   "execution_count": 6,
   "id": "8fb8b160-861e-4046-a0d5-f31e14999273",
   "metadata": {},
   "outputs": [
    {
     "data": {
      "text/plain": [
       "(50, 24)"
      ]
     },
     "execution_count": 6,
     "metadata": {},
     "output_type": "execute_result"
    }
   ],
   "source": [
    "Shaw_50A_Info_DF = pd.read_csv(Shaw2021_Ecoli_50Asm_Meta_TSV, sep = \"\\t\")\n",
    "Shaw_50A_Info_DF.shape"
   ]
  },
  {
   "cell_type": "markdown",
   "id": "7a20c29f-3f49-44bc-82c7-dc7581c411d7",
   "metadata": {},
   "source": [
    "### Define list of SampleIDs"
   ]
  },
  {
   "cell_type": "code",
   "execution_count": 7,
   "id": "a64a2a8e-a300-419d-82ef-693e08db1e1a",
   "metadata": {},
   "outputs": [
    {
     "data": {
      "text/html": [
       "<div>\n",
       "<style scoped>\n",
       "    .dataframe tbody tr th:only-of-type {\n",
       "        vertical-align: middle;\n",
       "    }\n",
       "\n",
       "    .dataframe tbody tr th {\n",
       "        vertical-align: top;\n",
       "    }\n",
       "\n",
       "    .dataframe thead th {\n",
       "        text-align: right;\n",
       "    }\n",
       "</style>\n",
       "<table border=\"1\" class=\"dataframe\">\n",
       "  <thead>\n",
       "    <tr style=\"text-align: right;\">\n",
       "      <th></th>\n",
       "      <th>Isolate</th>\n",
       "      <th>Biosample Accession</th>\n",
       "      <th>Short Reads Accession</th>\n",
       "      <th>Long Reads Accession</th>\n",
       "      <th>Assembly Accession</th>\n",
       "      <th>Animal or WwTW</th>\n",
       "      <th>Isolate source information</th>\n",
       "      <th>Timepoint</th>\n",
       "      <th>Niche</th>\n",
       "      <th>Niche.2</th>\n",
       "      <th>Location</th>\n",
       "      <th>Genus</th>\n",
       "      <th>Species</th>\n",
       "      <th>ST assignment</th>\n",
       "      <th>Circularised plasmids</th>\n",
       "      <th>Number of contigs</th>\n",
       "      <th>Circularised chromosome (1=yes)</th>\n",
       "      <th>Total genome size (bp)</th>\n",
       "      <th>Chromosome GC (if known)</th>\n",
       "      <th>Phylogroup (E. coli only)</th>\n",
       "      <th>Alternative isolate name</th>\n",
       "      <th>Long read sequencing method</th>\n",
       "      <th>SampleID</th>\n",
       "      <th>Genome_ASM_PATH</th>\n",
       "    </tr>\n",
       "  </thead>\n",
       "  <tbody>\n",
       "    <tr>\n",
       "      <th>0</th>\n",
       "      <td>RH02|T1-C02</td>\n",
       "      <td>SAMN15147960</td>\n",
       "      <td>SRR11948863</td>\n",
       "      <td>SRR12299015</td>\n",
       "      <td>GCA_014109125.1</td>\n",
       "      <td>Animal</td>\n",
       "      <td>Pooled pig faecal samples collected from floor...</td>\n",
       "      <td>1</td>\n",
       "      <td>Pig</td>\n",
       "      <td>Faeces</td>\n",
       "      <td>RH02</td>\n",
       "      <td>Escherichia</td>\n",
       "      <td>Escherichia coli</td>\n",
       "      <td>10.0</td>\n",
       "      <td>1</td>\n",
       "      <td>2</td>\n",
       "      <td>1</td>\n",
       "      <td>4953790</td>\n",
       "      <td>50.7</td>\n",
       "      <td>A</td>\n",
       "      <td>RHB02-C02</td>\n",
       "      <td>PacBio</td>\n",
       "      <td>GCA_014109125</td>\n",
       "      <td>/n/data1/hms/dbmi/farhat/mm774/Projects/230905...</td>\n",
       "    </tr>\n",
       "  </tbody>\n",
       "</table>\n",
       "</div>"
      ],
      "text/plain": [
       "       Isolate Biosample Accession Short Reads Accession Long Reads Accession Assembly Accession Animal or WwTW                         Isolate source information  Timepoint Niche Niche.2 Location        Genus           Species  ST assignment  Circularised plasmids  Number of contigs  Circularised chromosome (1=yes)  Total genome size (bp)  Chromosome GC (if known) Phylogroup (E. coli only) Alternative isolate name Long read sequencing method       SampleID                                    Genome_ASM_PATH\n",
       "0  RH02|T1-C02        SAMN15147960           SRR11948863          SRR12299015    GCA_014109125.1         Animal  Pooled pig faecal samples collected from floor...          1   Pig  Faeces     RH02  Escherichia  Escherichia coli           10.0                      1                  2                                1                 4953790                      50.7                         A                RHB02-C02                      PacBio  GCA_014109125  /n/data1/hms/dbmi/farhat/mm774/Projects/230905..."
      ]
     },
     "execution_count": 7,
     "metadata": {},
     "output_type": "execute_result"
    }
   ],
   "source": [
    "Shaw_50A_Info_DF.head(1)  "
   ]
  },
  {
   "cell_type": "code",
   "execution_count": 8,
   "id": "fd2e6fcf-34e1-43ca-b6ff-dd208856b78a",
   "metadata": {},
   "outputs": [
    {
     "data": {
      "text/plain": [
       "50"
      ]
     },
     "execution_count": 8,
     "metadata": {},
     "output_type": "execute_result"
    }
   ],
   "source": [
    "E50I_SampleIDs = Shaw_50A_Info_DF[\"SampleID\"].values   \n",
    "len(E50I_SampleIDs)"
   ]
  },
  {
   "cell_type": "code",
   "execution_count": null,
   "id": "b8c459e5-4c4b-4ff5-9cf0-e1a16c798137",
   "metadata": {},
   "outputs": [],
   "source": []
  },
  {
   "cell_type": "code",
   "execution_count": null,
   "id": "0fc6e9e7-47cf-4de2-9dab-944e27b3cce1",
   "metadata": {},
   "outputs": [],
   "source": []
  },
  {
   "cell_type": "markdown",
   "id": "468a6f38-95fc-416b-b5a5-85bdad8bee1b",
   "metadata": {},
   "source": [
    "# Define output dir of the Mtb-WGA-SMK processing pipeline"
   ]
  },
  {
   "cell_type": "code",
   "execution_count": 9,
   "id": "cbff2854-948f-4bfd-b503-928afb7492a5",
   "metadata": {},
   "outputs": [],
   "source": [
    "# Define varaint calling pipeline output directories\n",
    "\n",
    "WGA_SMK_Outputs_Dir = f\"{Ecoli_PG_MainDir}/SMK_OutDirs\"\n",
    "\n",
    "#PG_Ecoli_20I_OutDir = WGA_SMK_Outputs_Dir + \"/230905_Ecoli_2OI_V1\"\n",
    "PG_Ecoli_50I_OutDir = WGA_SMK_Outputs_Dir + \"/231011_Ecoli_Shaw2021_5OI_V1\"\n"
   ]
  },
  {
   "cell_type": "code",
   "execution_count": 10,
   "id": "9ba76e3d-a3c8-4910-83f6-83b4d2ffd35e",
   "metadata": {},
   "outputs": [
    {
     "name": "stdout",
     "output_type": "stream",
     "text": [
      "total 1.9M\n",
      "drwxrwsr-x 59 mm774 farhat 1.8K Jan  1 18:03 .\n",
      "drwxrwsr-x  4 mm774 farhat   83 Oct 11 23:17 ..\n",
      "drwxrwsr-x 53 mm774 farhat 1.6K Oct 12 01:52 AsmAnalysis\n",
      "drwxrwsr-x  4 mm774 farhat   63 Oct 12 02:14 FastANI\n",
      "drwxrwsr-x  3 mm774 farhat   29 Nov 16 00:11 GCA_013602835\n",
      "drwxrwsr-x  3 mm774 farhat   29 Nov 16 00:11 GCA_013712565\n",
      "drwxrwsr-x  3 mm774 farhat   29 Nov 16 00:11 GCA_013713325\n",
      "drwxrwsr-x  3 mm774 farhat   29 Nov 16 00:11 GCA_013728735\n",
      "drwxrwsr-x  3 mm774 farhat   29 Nov 16 00:11 GCA_013732895\n",
      "drwxrwsr-x  3 mm774 farhat   29 Nov 16 00:09 GCA_013745515\n",
      "drwxrwsr-x  3 mm774 farhat   29 Nov 16 00:11 GCA_013746655\n",
      "drwxrwsr-x  3 mm774 farhat   29 Nov 16 00:11 GCA_013750375\n",
      "drwxrwsr-x  3 mm774 farhat   29 Nov 16 00:09 GCA_013752075\n",
      "drwxrwsr-x  3 mm774 farhat   29 Nov 16 00:11 GCA_013752295\n",
      "drwxrwsr-x  3 mm774 farhat   29 Nov 16 00:09 GCA_013782445\n",
      "drwxrwsr-x  3 mm774 farhat   29 Nov 16 00:13 GCA_013783465\n",
      "drwxrwsr-x  3 mm774 farhat   29 Nov 16 00:11 GCA_013786125\n",
      "drwxrwsr-x  3 mm774 farhat   29 Nov 16 00:07 GCA_013790245\n",
      "drwxrwsr-x  3 mm774 farhat   29 Nov 16 00:09 GCA_013796065\n",
      "drwxrwsr-x  3 mm774 farhat   29 Nov 16 00:11 GCA_013800125\n",
      "drwxrwsr-x  3 mm774 farhat   29 Nov 16 00:13 GCA_013806085\n",
      "drwxrwsr-x  3 mm774 farhat   29 Nov 16 00:09 GCA_013806525\n",
      "drwxrwsr-x  3 mm774 farhat   29 Nov 16 00:11 GCA_013806925\n",
      "drwxrwsr-x  3 mm774 farhat   29 Nov 16 00:11 GCA_013817505\n",
      "drwxrwsr-x  3 mm774 farhat   29 Nov 16 00:11 GCA_013817865\n",
      "drwxrwsr-x  3 mm774 farhat   29 Nov 16 00:11 GCA_013819985\n",
      "drwxrwsr-x  3 mm774 farhat   29 Nov 16 00:11 GCA_013821965\n",
      "drwxrwsr-x  3 mm774 farhat   29 Nov 16 00:09 GCA_013823125\n",
      "drwxrwsr-x  3 mm774 farhat   29 Nov 16 00:11 GCA_013830785\n",
      "drwxrwsr-x  3 mm774 farhat   29 Nov 16 00:11 GCA_013835405\n",
      "drwxrwsr-x  3 mm774 farhat   29 Nov 16 00:11 GCA_013836945\n",
      "drwxrwsr-x  3 mm774 farhat   29 Nov 16 00:11 GCA_013886475\n",
      "drwxrwsr-x  3 mm774 farhat   29 Nov 16 00:05 GCA_013891895\n",
      "drwxrwsr-x  3 mm774 farhat   29 Nov 16 00:11 GCA_013894235\n",
      "drwxrwsr-x  3 mm774 farhat   29 Nov 16 00:11 GCA_013894775\n",
      "drwxrwsr-x  3 mm774 farhat   29 Nov 16 00:07 GCA_013895455\n",
      "drwxrwsr-x  3 mm774 farhat   29 Nov 16 00:11 GCA_013896515\n",
      "drwxrwsr-x  3 mm774 farhat   29 Nov 16 00:11 GCA_013896775\n",
      "drwxrwsr-x  3 mm774 farhat   29 Nov 16 00:11 GCA_013897255\n",
      "drwxrwsr-x  3 mm774 farhat   29 Nov 16 00:11 GCA_013897665\n",
      "drwxrwsr-x  3 mm774 farhat   29 Nov 16 00:11 GCA_013898775\n",
      "drwxrwsr-x  3 mm774 farhat   29 Nov 16 00:07 GCA_013898935\n",
      "drwxrwsr-x  3 mm774 farhat   29 Nov 16 00:11 GCA_013898995\n",
      "drwxrwsr-x  3 mm774 farhat   29 Nov 16 00:11 GCA_013899205\n",
      "drwxrwsr-x  3 mm774 farhat   29 Nov 16 00:11 GCA_013899665\n",
      "drwxrwsr-x  3 mm774 farhat   29 Nov 16 00:11 GCA_013900245\n",
      "drwxrwsr-x  3 mm774 farhat   29 Nov 16 00:11 GCA_013923405\n",
      "drwxrwsr-x  3 mm774 farhat   29 Nov 16 00:07 GCA_013924285\n",
      "drwxrwsr-x  3 mm774 farhat   29 Nov 16 00:11 GCA_013928845\n",
      "drwxrwsr-x  3 mm774 farhat   29 Nov 16 00:11 GCA_014103195\n",
      "drwxrwsr-x  3 mm774 farhat   29 Nov 16 00:11 GCA_014103465\n",
      "drwxrwsr-x  3 mm774 farhat   29 Nov 16 00:11 GCA_014103665\n",
      "drwxrwsr-x  3 mm774 farhat   29 Nov 16 00:07 GCA_014109065\n",
      "drwxrwsr-x  3 mm774 farhat   29 Nov 16 00:11 GCA_014109125\n",
      "drwxrwsr-x  3 mm774 farhat   25 Oct 11 23:22 O2logs\n",
      "drwxrwsr-x 22 mm774 farhat 1.3K Dec  3 17:53 PanGenome_Analysis\n",
      "drwxrwsr-x  3 mm774 farhat   24 Jan  1 18:03 Phylogenies\n",
      "drwxrwsr-x  4 mm774 farhat   78 Oct 12 00:23 SourMash\n",
      "drwxrwsr-x 52 mm774 farhat 1.6K Nov 16 15:56 SR_DataProcessing\n"
     ]
    }
   ],
   "source": [
    "!ls -alh $PG_Ecoli_50I_OutDir"
   ]
  },
  {
   "cell_type": "code",
   "execution_count": null,
   "id": "f0a71c94-d7c7-4918-bd96-44bb8f163867",
   "metadata": {},
   "outputs": [],
   "source": []
  },
  {
   "cell_type": "code",
   "execution_count": 11,
   "id": "3d8aade2-6410-402f-94a6-659c97901b6b",
   "metadata": {},
   "outputs": [
    {
     "name": "stderr",
     "output_type": "stream",
     "text": [
      "100%|██████████| 7/7 [00:00<00:00, 84.90it/s]\n",
      "100%|██████████| 7/7 [00:00<00:00, 87.82it/s]\n"
     ]
    }
   ],
   "source": [
    "\n",
    "PipeName_WiParam_List = ['Panaroo_Strict_MergeParalogs', 'Panaroo_Moderate_MergeParalogs',\n",
    "                         'Panaroo_Sensitive_MergeParalogs', #'Panaroo_Strict','Panaroo_Moderate', 'Panaroo_Sensitive',\n",
    "                         'Roary_NoSplitParalogs_I80', 'Roary_NoSplitParalogs_I90',\n",
    "                         'Roary_NoSplitParalogs',  'Roary_Default',] #'Ppanggolin_Default',]\n",
    "\n",
    "\n",
    "target_OutputDir = PG_Ecoli_50I_OutDir\n",
    "\n",
    "i_Pangenome_Dir = f\"{target_OutputDir}/PanGenome_Analysis\"\n",
    "\n",
    "listOfCat_ToKeep = [\"Core genes\", \"Accessory genes\", \"Total genes\"]\n",
    "\n",
    "\n",
    "dictOf_PG_OutInfo = {}\n",
    "dictOf_PG_PresAbs_DF = {}\n",
    "dictOf_PG_OutDir_PATHs = {}\n",
    "\n",
    "for i_SampleSet in [\"All\"]:\n",
    "    \n",
    "    dictOf_PG_OutInfo[i_SampleSet] = {}\n",
    "    dictOf_PG_OutDir_PATHs[i_SampleSet] = {}\n",
    "    dictOf_PG_PresAbs_DF[i_SampleSet] = {}\n",
    "    \n",
    "    for AnnoPipeline in [\"Bakta\"]:\n",
    "        \n",
    "        dictOf_PG_OutInfo[i_SampleSet][AnnoPipeline] = {}\n",
    "        dictOf_PG_OutDir_PATHs[i_SampleSet][AnnoPipeline] = {}\n",
    "        dictOf_PG_PresAbs_DF[i_SampleSet][AnnoPipeline] = {}\n",
    "        \n",
    "        for AsmTech in [\"LongRead\", \"ShortRead\"]:       \n",
    "            \n",
    "            dictOf_PG_OutInfo[i_SampleSet][AnnoPipeline][AsmTech] = {}\n",
    "            dictOf_PG_OutDir_PATHs[i_SampleSet][AnnoPipeline][AsmTech] = {}\n",
    "            dictOf_PG_PresAbs_DF[i_SampleSet][AnnoPipeline][AsmTech] = {}\n",
    "            \n",
    "            \n",
    "            for i_PipeNameWiParam in tqdm(PipeName_WiParam_List):\n",
    "                \n",
    "                dictOf_PG_OutDir_PATHs[i_SampleSet][AnnoPipeline][AsmTech][i_PipeNameWiParam] = {}\n",
    "                \n",
    "                if (AsmTech == \"ShortRead\") & (AnnoPipeline == \"PGAP\"): continue \n",
    "                if (i_SampleSet == \"HighBUSCOIsolates\") & (AnnoPipeline == \"PGAP\"): continue \n",
    "                \n",
    "                if i_SampleSet == \"All\": DataSetSuffix = \"_AllIsolates\"  \n",
    "                elif i_SampleSet == \"HighBUSCOIsolates\": DataSetSuffix = \"_HighBUSCOIsolates\"\n",
    "\n",
    "                if AsmTech == \"LongRead\": SeqTechPrefix = \"\"\n",
    "                elif AsmTech == \"ShortRead\": SeqTechPrefix = \"SR_\"\n",
    "\n",
    "                if AnnoPipeline == \"Bakta\": AnnoSuffix = \"\"\n",
    "                elif AnnoPipeline == \"PGAP\": AnnoSuffix = \"_WiPGAPAnno_V1\"\n",
    "\n",
    "\n",
    "                i_Pipeline_OutDir = f\"{i_Pangenome_Dir}/\"+SeqTechPrefix+i_PipeNameWiParam+DataSetSuffix+AnnoSuffix\n",
    "\n",
    "                if \"Panaroo\" in i_PipeNameWiParam:\n",
    "                    i_PG_Summary_Txt = f\"{i_Pipeline_OutDir}/summary_statistics.txt\"\n",
    "\n",
    "                    i_PG_Stats_DF = read_PanarooSummaryStats(i_PG_Summary_Txt)\n",
    "                    i_PG_Stats_DF[\"Annotation\"] = AnnoPipeline\n",
    "                    i_PG_Stats_DF[\"Method\"] = i_PipeNameWiParam\n",
    "                    i_PG_Stats_DF[\"SeqType\"] = AsmTech\n",
    "                    i_PG_Stats_DF[\"DataSet\"] = i_SampleSet\n",
    "                    \n",
    "                    i_PG_Stats_DF = i_PG_Stats_DF[ i_PG_Stats_DF[\"Category\"].isin(listOfCat_ToKeep)]   \n",
    "                    \n",
    "                    i_Gene_PresAbs_CSV_PATH = f\"{i_Pipeline_OutDir}/gene_presence_absence.csv\"    \n",
    "                    i_Pangenome_Ref_FA_PATH = f\"{i_Pipeline_OutDir}/pan_genome_reference.fa\"\n",
    "                    \n",
    "                    #i_Gene_PresAbs_DF = parse_Panaroo_GenePresAbs_CSV(i_Gene_PresAbs_CSV_PATH)  \n",
    "\n",
    "                    dictOf_PG_OutDir_PATHs[i_SampleSet][AnnoPipeline][AsmTech][i_PipeNameWiParam][\"PresAbs_CSV\"] = i_Gene_PresAbs_CSV_PATH\n",
    "                    dictOf_PG_OutDir_PATHs[i_SampleSet][AnnoPipeline][AsmTech][i_PipeNameWiParam][\"Pangenome_Ref_FA\"] = i_Pangenome_Ref_FA_PATH\n",
    "\n",
    "\n",
    "                elif \"Roary\" in i_PipeNameWiParam:\n",
    "                    i_PG_Summary_Txt = f\"{i_Pipeline_OutDir}/summary_statistics.txt\"\n",
    "\n",
    "                    i_PG_Stats_DF = read_PanarooSummaryStats(i_PG_Summary_Txt)\n",
    "                    i_PG_Stats_DF[\"Annotation\"] = AnnoPipeline\n",
    "                    i_PG_Stats_DF[\"Method\"] = i_PipeNameWiParam\n",
    "                    i_PG_Stats_DF[\"SeqType\"] = AsmTech\n",
    "                    i_PG_Stats_DF[\"DataSet\"] = i_SampleSet\n",
    "                    \n",
    "                    i_PG_Stats_DF = i_PG_Stats_DF[ i_PG_Stats_DF[\"Category\"].isin(listOfCat_ToKeep)]   \n",
    "\n",
    "                    i_Gene_PresAbs_CSV_PATH = f\"{i_Pipeline_OutDir}/gene_presence_absence.csv\"    \n",
    "\n",
    "                    i_Pangenome_Ref_FA_PATH = f\"{i_Pipeline_OutDir}/pan_genome_reference.fa\"\n",
    "\n",
    "                    \n",
    "                    #i_Gene_PresAbs_DF = parse_Panaroo_GenePresAbs_CSV(i_Gene_PresAbs_CSV_PATH)  \n",
    "                    \n",
    "                    \n",
    "                    dictOf_PG_OutDir_PATHs[i_SampleSet][AnnoPipeline][AsmTech][i_PipeNameWiParam][\"PresAbs_CSV\"] = i_Gene_PresAbs_CSV_PATH\n",
    "                    dictOf_PG_OutDir_PATHs[i_SampleSet][AnnoPipeline][AsmTech][i_PipeNameWiParam][\"Pangenome_Ref_FA\"] = i_Pangenome_Ref_FA_PATH\n",
    "\n",
    "                    \n",
    "                elif \"Ppanggolin\" in i_PipeNameWiParam:\n",
    "                    i_PG_Summary_Txt = f\"{i_Pipeline_OutDir}/pangenome.ContentSummary.txt\"\n",
    "\n",
    "                    i_PG_Stats_DF = read_Ppanggolin_ContextStats(i_PG_Summary_Txt)\n",
    "                    i_PG_Stats_DF[\"Annotation\"] = AnnoPipeline\n",
    "                    i_PG_Stats_DF[\"Method\"] = i_PipeNameWiParam\n",
    "                    i_PG_Stats_DF[\"SeqType\"] = AsmTech\n",
    "                    i_PG_Stats_DF[\"DataSet\"] = i_SampleSet\n",
    "                    \n",
    "                    i_PG_Stats_DF = i_PG_Stats_DF[ i_PG_Stats_DF[\"Category\"].isin(listOfCat_ToKeep)]   \n",
    "\n",
    "                    i_Gene_PresAbs_Rtab_PATH = f\"{i_Pipeline_OutDir}/gene_presence_absence.Rtab\"    \n",
    "                    \n",
    "                    #i_Gene_PresAbs_DF = parse_Panaroo_GenePresAbs_Rtab(i_Gene_PresAbs_Rtab_PATH)\n",
    "                                          \n",
    "                    dictOf_PG_OutDir_PATHs[i_SampleSet][AnnoPipeline][AsmTech][i_PipeNameWiParam][\"PresAbs_Rtab\"] = i_Gene_PresAbs_Rtab_PATH\n",
    "\n",
    "\n",
    "                dictOf_PG_OutInfo[i_SampleSet][AnnoPipeline][AsmTech][i_PipeNameWiParam] = i_PG_Stats_DF\n",
    "                \n",
    "                #dictOf_PG_PresAbs_DF[i_SampleSet][AnnoPipeline][AsmTech][i_PipeNameWiParam] = i_Gene_PresAbs_DF\n",
    "                \n",
    "                dictOf_PG_OutDir_PATHs[i_SampleSet][AnnoPipeline][AsmTech][i_PipeNameWiParam][\"Stats_TXT\"] = i_PG_Summary_Txt\n"
   ]
  },
  {
   "cell_type": "code",
   "execution_count": 12,
   "id": "2c36b68f-ca8a-4959-a414-7cf1d8dc5630",
   "metadata": {},
   "outputs": [
    {
     "data": {
      "text/html": [
       "<div>\n",
       "<style scoped>\n",
       "    .dataframe tbody tr th:only-of-type {\n",
       "        vertical-align: middle;\n",
       "    }\n",
       "\n",
       "    .dataframe tbody tr th {\n",
       "        vertical-align: top;\n",
       "    }\n",
       "\n",
       "    .dataframe thead th {\n",
       "        text-align: right;\n",
       "    }\n",
       "</style>\n",
       "<table border=\"1\" class=\"dataframe\">\n",
       "  <thead>\n",
       "    <tr style=\"text-align: right;\">\n",
       "      <th></th>\n",
       "      <th>Category</th>\n",
       "      <th>Range</th>\n",
       "      <th>GeneCount</th>\n",
       "      <th>Annotation</th>\n",
       "      <th>Method</th>\n",
       "      <th>SeqType</th>\n",
       "      <th>DataSet</th>\n",
       "    </tr>\n",
       "  </thead>\n",
       "  <tbody>\n",
       "    <tr>\n",
       "      <th>0</th>\n",
       "      <td>Core genes</td>\n",
       "      <td>(99% &lt;= strains &lt;= 100%)</td>\n",
       "      <td>3035</td>\n",
       "      <td>Bakta</td>\n",
       "      <td>Panaroo_Strict_MergeParalogs</td>\n",
       "      <td>LongRead</td>\n",
       "      <td>All</td>\n",
       "    </tr>\n",
       "    <tr>\n",
       "      <th>4</th>\n",
       "      <td>Total genes</td>\n",
       "      <td>(0% &lt;= strains &lt;= 100%)</td>\n",
       "      <td>14410</td>\n",
       "      <td>Bakta</td>\n",
       "      <td>Panaroo_Strict_MergeParalogs</td>\n",
       "      <td>LongRead</td>\n",
       "      <td>All</td>\n",
       "    </tr>\n",
       "    <tr>\n",
       "      <th>5</th>\n",
       "      <td>Accessory genes</td>\n",
       "      <td>(0% &lt;= strains &lt; 99%)</td>\n",
       "      <td>11375</td>\n",
       "      <td>Bakta</td>\n",
       "      <td>Panaroo_Strict_MergeParalogs</td>\n",
       "      <td>LongRead</td>\n",
       "      <td>All</td>\n",
       "    </tr>\n",
       "  </tbody>\n",
       "</table>\n",
       "</div>"
      ],
      "text/plain": [
       "          Category                     Range  GeneCount Annotation                        Method   SeqType DataSet\n",
       "0       Core genes  (99% <= strains <= 100%)       3035      Bakta  Panaroo_Strict_MergeParalogs  LongRead     All\n",
       "4      Total genes   (0% <= strains <= 100%)      14410      Bakta  Panaroo_Strict_MergeParalogs  LongRead     All\n",
       "5  Accessory genes     (0% <= strains < 99%)      11375      Bakta  Panaroo_Strict_MergeParalogs  LongRead     All"
      ]
     },
     "execution_count": 12,
     "metadata": {},
     "output_type": "execute_result"
    }
   ],
   "source": [
    "dictOf_PG_OutInfo[\"All\"][\"Bakta\"][\"LongRead\"][\"Panaroo_Strict_MergeParalogs\"]   "
   ]
  },
  {
   "cell_type": "code",
   "execution_count": 13,
   "id": "7476dea4-e0de-418b-8e70-96bfa5dfa62d",
   "metadata": {},
   "outputs": [
    {
     "data": {
      "text/html": [
       "<div>\n",
       "<style scoped>\n",
       "    .dataframe tbody tr th:only-of-type {\n",
       "        vertical-align: middle;\n",
       "    }\n",
       "\n",
       "    .dataframe tbody tr th {\n",
       "        vertical-align: top;\n",
       "    }\n",
       "\n",
       "    .dataframe thead th {\n",
       "        text-align: right;\n",
       "    }\n",
       "</style>\n",
       "<table border=\"1\" class=\"dataframe\">\n",
       "  <thead>\n",
       "    <tr style=\"text-align: right;\">\n",
       "      <th></th>\n",
       "      <th>Category</th>\n",
       "      <th>Range</th>\n",
       "      <th>GeneCount</th>\n",
       "      <th>Annotation</th>\n",
       "      <th>Method</th>\n",
       "      <th>SeqType</th>\n",
       "      <th>DataSet</th>\n",
       "    </tr>\n",
       "  </thead>\n",
       "  <tbody>\n",
       "    <tr>\n",
       "      <th>0</th>\n",
       "      <td>Core genes</td>\n",
       "      <td>(99% &lt;= strains &lt;= 100%)</td>\n",
       "      <td>2834</td>\n",
       "      <td>Bakta</td>\n",
       "      <td>Panaroo_Strict_MergeParalogs</td>\n",
       "      <td>ShortRead</td>\n",
       "      <td>All</td>\n",
       "    </tr>\n",
       "    <tr>\n",
       "      <th>4</th>\n",
       "      <td>Total genes</td>\n",
       "      <td>(0% &lt;= strains &lt;= 100%)</td>\n",
       "      <td>12836</td>\n",
       "      <td>Bakta</td>\n",
       "      <td>Panaroo_Strict_MergeParalogs</td>\n",
       "      <td>ShortRead</td>\n",
       "      <td>All</td>\n",
       "    </tr>\n",
       "    <tr>\n",
       "      <th>5</th>\n",
       "      <td>Accessory genes</td>\n",
       "      <td>(0% &lt;= strains &lt; 99%)</td>\n",
       "      <td>10002</td>\n",
       "      <td>Bakta</td>\n",
       "      <td>Panaroo_Strict_MergeParalogs</td>\n",
       "      <td>ShortRead</td>\n",
       "      <td>All</td>\n",
       "    </tr>\n",
       "  </tbody>\n",
       "</table>\n",
       "</div>"
      ],
      "text/plain": [
       "          Category                     Range  GeneCount Annotation                        Method    SeqType DataSet\n",
       "0       Core genes  (99% <= strains <= 100%)       2834      Bakta  Panaroo_Strict_MergeParalogs  ShortRead     All\n",
       "4      Total genes   (0% <= strains <= 100%)      12836      Bakta  Panaroo_Strict_MergeParalogs  ShortRead     All\n",
       "5  Accessory genes     (0% <= strains < 99%)      10002      Bakta  Panaroo_Strict_MergeParalogs  ShortRead     All"
      ]
     },
     "execution_count": 13,
     "metadata": {},
     "output_type": "execute_result"
    }
   ],
   "source": [
    "dictOf_PG_OutInfo[\"All\"][\"Bakta\"][\"ShortRead\"][\"Panaroo_Strict_MergeParalogs\"]\n"
   ]
  },
  {
   "cell_type": "code",
   "execution_count": null,
   "id": "bcaf6097-9321-409c-93a2-91b77b65a65c",
   "metadata": {},
   "outputs": [],
   "source": []
  },
  {
   "cell_type": "code",
   "execution_count": null,
   "id": "a6b5a89d-0236-4313-b25a-e89da73bc7b6",
   "metadata": {},
   "outputs": [],
   "source": []
  },
  {
   "cell_type": "markdown",
   "id": "4ea8b283-b51a-483b-989d-e811127304cb",
   "metadata": {},
   "source": [
    "# 1) Merge all Pan-genome counts accross all combinations evaluated"
   ]
  },
  {
   "cell_type": "code",
   "execution_count": 14,
   "id": "5146c6dd-654d-4769-86ab-61ffef6fe143",
   "metadata": {},
   "outputs": [
    {
     "data": {
      "text/plain": [
       "(42, 8)"
      ]
     },
     "execution_count": 14,
     "metadata": {},
     "output_type": "execute_result"
    }
   ],
   "source": [
    "\n",
    "PipeName_WiParam_List = ['Panaroo_Strict_MergeParalogs', 'Panaroo_Moderate_MergeParalogs',\n",
    "                         'Panaroo_Sensitive_MergeParalogs', #'Panaroo_Strict', Panaroo_Moderate', 'Panaroo_Sensitive',\n",
    "                         'Roary_NoSplitParalogs_I80', 'Roary_NoSplitParalogs_I90',\n",
    "                         'Roary_NoSplitParalogs',  'Roary_Default',] # 'Ppanggolin_Default']\n",
    "\n",
    "\n",
    "listOf_PG_InfoDFs = []\n",
    "for i_SampleSet in [\"All\"]: # \"HighBUSCOIsolates\"\n",
    "    for AnnoPipeline in [\"Bakta\"]:\n",
    "        for AsmTech in [\"LongRead\", \"ShortRead\"]:\n",
    "            for i_PipeNameWiParam in PipeName_WiParam_List:\n",
    "                i_PG_Stats_DF = dictOf_PG_OutInfo[i_SampleSet][AnnoPipeline][AsmTech][i_PipeNameWiParam]\n",
    "                \n",
    "                listOf_PG_InfoDFs.append(i_PG_Stats_DF)\n",
    "\n",
    "\n",
    "PG_Merged_Stats_LRandSR_DF = pd.concat(listOf_PG_InfoDFs)\n",
    "\n",
    "PG_Merged_Stats_LRandSR_DF[\"MethodAndTech\"] = PG_Merged_Stats_LRandSR_DF[\"Method\"] + \"_\" +PG_Merged_Stats_LRandSR_DF[\"SeqType\"]\n",
    "\n",
    "PG_Merged_Stats_LRandSR_DF.shape\n"
   ]
  },
  {
   "cell_type": "code",
   "execution_count": null,
   "id": "41bfa7e5-268a-4765-a4e2-f68c71e934b4",
   "metadata": {},
   "outputs": [],
   "source": []
  },
  {
   "cell_type": "code",
   "execution_count": null,
   "id": "cf21130c-c39b-4326-ad2b-16c551e86265",
   "metadata": {},
   "outputs": [],
   "source": []
  },
  {
   "cell_type": "code",
   "execution_count": 15,
   "id": "8331dcdf-1b44-4850-96da-34bc1db921e5",
   "metadata": {},
   "outputs": [
    {
     "data": {
      "text/plain": [
       "(99% <= strains <= 100%)    14\n",
       "(0% <= strains <= 100%)     14\n",
       "(0% <= strains < 99%)       14\n",
       "Name: Range, dtype: int64"
      ]
     },
     "execution_count": 15,
     "metadata": {},
     "output_type": "execute_result"
    }
   ],
   "source": [
    "PG_Merged_Stats_LRandSR_DF[\"Range\"].value_counts()"
   ]
  },
  {
   "cell_type": "code",
   "execution_count": null,
   "id": "46244050-50da-415a-8bb0-04d28ab28dbb",
   "metadata": {},
   "outputs": [],
   "source": []
  },
  {
   "cell_type": "code",
   "execution_count": null,
   "id": "3e03fecc-1071-4259-9c9f-8be1ee6d5081",
   "metadata": {},
   "outputs": [],
   "source": []
  },
  {
   "cell_type": "code",
   "execution_count": 16,
   "id": "9dfee8ff-120a-4331-b04d-3b10bf2b7021",
   "metadata": {},
   "outputs": [
    {
     "data": {
      "text/plain": [
       "(42, 8)"
      ]
     },
     "execution_count": 16,
     "metadata": {},
     "output_type": "execute_result"
    }
   ],
   "source": [
    "PG_Merged_Stats_LRandSR_DF.shape"
   ]
  },
  {
   "cell_type": "markdown",
   "id": "f5e9cf93-2d12-434a-9516-836c50d1af01",
   "metadata": {},
   "source": [
    "## Divide Pan-genome summary stats by \"assembly type\" and \"gene category\""
   ]
  },
  {
   "cell_type": "code",
   "execution_count": 17,
   "id": "f7e6366f-b2d9-47c4-81e8-6be3d3dba699",
   "metadata": {},
   "outputs": [],
   "source": [
    "PG_Merged_Stats_LRandSR_Pangenome_DF = PG_Merged_Stats_LRandSR_DF.query(\" Category == 'Total genes'  \")\n",
    "PG_Merged_Stats_LRandSR_Core_DF = PG_Merged_Stats_LRandSR_DF.query(\" Category == 'Core genes'  \")\n",
    "PG_Merged_Stats_LRandSR_Acc_DF = PG_Merged_Stats_LRandSR_DF.query(\" Category == 'Accessory genes'  \")"
   ]
  },
  {
   "cell_type": "code",
   "execution_count": 18,
   "id": "1fa8dd15-8504-4ba5-9105-3bae5c9b1595",
   "metadata": {},
   "outputs": [],
   "source": [
    "PG_Merged_Stats_LR_Pangenome_DF = PG_Merged_Stats_LRandSR_DF.query(\" Category == 'Total genes'  \").query(\" SeqType == 'LongRead'  \")\n",
    "PG_Merged_Stats_LR_Core_DF = PG_Merged_Stats_LRandSR_DF.query(\" Category == 'Core genes'  \").query(\" SeqType == 'LongRead'  \")\n",
    "PG_Merged_Stats_LR_Acc_DF = PG_Merged_Stats_LRandSR_DF.query(\" Category == 'Accessory genes'  \").query(\" SeqType == 'LongRead'  \")"
   ]
  },
  {
   "cell_type": "code",
   "execution_count": 19,
   "id": "e11475ac-368c-40da-b0cd-0c85b5487ef6",
   "metadata": {},
   "outputs": [],
   "source": [
    "PG_Merged_Stats_SR_Pangenome_DF = PG_Merged_Stats_LRandSR_DF.query(\" Category == 'Total genes'  \").query(\" SeqType == 'ShortRead'  \")\n",
    "PG_Merged_Stats_SR_Core_DF = PG_Merged_Stats_LRandSR_DF.query(\" Category == 'Core genes'  \").query(\" SeqType == 'ShortRead'  \")\n",
    "PG_Merged_Stats_SR_Acc_DF = PG_Merged_Stats_LRandSR_DF.query(\" Category == 'Accessory genes'  \").query(\" SeqType == 'ShortRead'  \")"
   ]
  },
  {
   "cell_type": "code",
   "execution_count": null,
   "id": "ebc17283-db97-4bd9-9ed2-569e62fbbe36",
   "metadata": {},
   "outputs": [],
   "source": []
  },
  {
   "cell_type": "code",
   "execution_count": null,
   "id": "a8b76631-658e-49f3-aaf4-98a6a4ecb8b2",
   "metadata": {},
   "outputs": [],
   "source": []
  },
  {
   "cell_type": "code",
   "execution_count": 20,
   "id": "1190d34a-c488-4d5a-9838-86ab5068ac54",
   "metadata": {},
   "outputs": [],
   "source": [
    "# PG_Merged_Stats_LR_DF = pd.concat([Panaroo_Strict_Stats_DF,\n",
    "#                                 Panaroo_Moderate_Stats_DF,\n",
    "#                                 Panaroo_Sensitive_Stats_DF,\n",
    "#                                 Roary_Default_Stats_DF,\n",
    "#                                 Roary_NoSplit_Stats_DF,\n",
    "#                                 Roary_NoSplitI90_Stats_DF,\n",
    "#                                 Ppanggolin_Default_Stats_DF])\n",
    "\n",
    "# PG_Merged_Stats_LR_DF.shape"
   ]
  },
  {
   "cell_type": "code",
   "execution_count": null,
   "id": "197c5f9f-9fd4-4193-bf00-4aaa327a5cc8",
   "metadata": {},
   "outputs": [],
   "source": []
  },
  {
   "cell_type": "code",
   "execution_count": null,
   "id": "03d7ebdb-ad6c-4c19-ba41-587efcd72c5f",
   "metadata": {},
   "outputs": [],
   "source": []
  },
  {
   "cell_type": "markdown",
   "id": "25fc82b2-3d03-43ef-9d1c-b036b3e32070",
   "metadata": {},
   "source": [
    "### Explore data structure a bit"
   ]
  },
  {
   "cell_type": "code",
   "execution_count": 21,
   "id": "1e4615a3-5116-4b91-a729-d7fbdb8454de",
   "metadata": {},
   "outputs": [
    {
     "data": {
      "text/html": [
       "<div>\n",
       "<style scoped>\n",
       "    .dataframe tbody tr th:only-of-type {\n",
       "        vertical-align: middle;\n",
       "    }\n",
       "\n",
       "    .dataframe tbody tr th {\n",
       "        vertical-align: top;\n",
       "    }\n",
       "\n",
       "    .dataframe thead th {\n",
       "        text-align: right;\n",
       "    }\n",
       "</style>\n",
       "<table border=\"1\" class=\"dataframe\">\n",
       "  <thead>\n",
       "    <tr style=\"text-align: right;\">\n",
       "      <th></th>\n",
       "      <th>Category</th>\n",
       "      <th>Range</th>\n",
       "      <th>GeneCount</th>\n",
       "      <th>Annotation</th>\n",
       "      <th>Method</th>\n",
       "      <th>SeqType</th>\n",
       "      <th>DataSet</th>\n",
       "      <th>MethodAndTech</th>\n",
       "    </tr>\n",
       "  </thead>\n",
       "  <tbody>\n",
       "    <tr>\n",
       "      <th>0</th>\n",
       "      <td>Core genes</td>\n",
       "      <td>(99% &lt;= strains &lt;= 100%)</td>\n",
       "      <td>3035</td>\n",
       "      <td>Bakta</td>\n",
       "      <td>Panaroo_Strict_MergeParalogs</td>\n",
       "      <td>LongRead</td>\n",
       "      <td>All</td>\n",
       "      <td>Panaroo_Strict_MergeParalogs_LongRead</td>\n",
       "    </tr>\n",
       "    <tr>\n",
       "      <th>4</th>\n",
       "      <td>Total genes</td>\n",
       "      <td>(0% &lt;= strains &lt;= 100%)</td>\n",
       "      <td>14410</td>\n",
       "      <td>Bakta</td>\n",
       "      <td>Panaroo_Strict_MergeParalogs</td>\n",
       "      <td>LongRead</td>\n",
       "      <td>All</td>\n",
       "      <td>Panaroo_Strict_MergeParalogs_LongRead</td>\n",
       "    </tr>\n",
       "    <tr>\n",
       "      <th>5</th>\n",
       "      <td>Accessory genes</td>\n",
       "      <td>(0% &lt;= strains &lt; 99%)</td>\n",
       "      <td>11375</td>\n",
       "      <td>Bakta</td>\n",
       "      <td>Panaroo_Strict_MergeParalogs</td>\n",
       "      <td>LongRead</td>\n",
       "      <td>All</td>\n",
       "      <td>Panaroo_Strict_MergeParalogs_LongRead</td>\n",
       "    </tr>\n",
       "    <tr>\n",
       "      <th>0</th>\n",
       "      <td>Core genes</td>\n",
       "      <td>(99% &lt;= strains &lt;= 100%)</td>\n",
       "      <td>3036</td>\n",
       "      <td>Bakta</td>\n",
       "      <td>Panaroo_Moderate_MergeParalogs</td>\n",
       "      <td>LongRead</td>\n",
       "      <td>All</td>\n",
       "      <td>Panaroo_Moderate_MergeParalogs_LongRead</td>\n",
       "    </tr>\n",
       "  </tbody>\n",
       "</table>\n",
       "</div>"
      ],
      "text/plain": [
       "          Category                     Range  GeneCount Annotation                          Method   SeqType DataSet                            MethodAndTech\n",
       "0       Core genes  (99% <= strains <= 100%)       3035      Bakta    Panaroo_Strict_MergeParalogs  LongRead     All    Panaroo_Strict_MergeParalogs_LongRead\n",
       "4      Total genes   (0% <= strains <= 100%)      14410      Bakta    Panaroo_Strict_MergeParalogs  LongRead     All    Panaroo_Strict_MergeParalogs_LongRead\n",
       "5  Accessory genes     (0% <= strains < 99%)      11375      Bakta    Panaroo_Strict_MergeParalogs  LongRead     All    Panaroo_Strict_MergeParalogs_LongRead\n",
       "0       Core genes  (99% <= strains <= 100%)       3036      Bakta  Panaroo_Moderate_MergeParalogs  LongRead     All  Panaroo_Moderate_MergeParalogs_LongRead"
      ]
     },
     "execution_count": 21,
     "metadata": {},
     "output_type": "execute_result"
    }
   ],
   "source": [
    "PG_Merged_Stats_LRandSR_DF.head(4)"
   ]
  },
  {
   "cell_type": "code",
   "execution_count": 22,
   "id": "9cf64e3a-c334-44cf-a0e0-1d6171e1740b",
   "metadata": {},
   "outputs": [
    {
     "data": {
      "text/plain": [
       "Core genes         14\n",
       "Total genes        14\n",
       "Accessory genes    14\n",
       "Name: Category, dtype: int64"
      ]
     },
     "execution_count": 22,
     "metadata": {},
     "output_type": "execute_result"
    }
   ],
   "source": [
    "PG_Merged_Stats_LRandSR_DF[\"Category\"].value_counts()"
   ]
  },
  {
   "cell_type": "code",
   "execution_count": null,
   "id": "365ba959-5949-4e8f-bc4c-ed584614d1d8",
   "metadata": {},
   "outputs": [],
   "source": []
  },
  {
   "cell_type": "code",
   "execution_count": null,
   "id": "4a0e43b0-9f88-4aac-96a0-54465123d475",
   "metadata": {},
   "outputs": [],
   "source": []
  },
  {
   "cell_type": "markdown",
   "id": "31ee08f9-365f-4ba6-ba61-9c33b79519bf",
   "metadata": {},
   "source": [
    "# 2) Create Pan-genome summary table - Wide version \n",
    "\n",
    "This table will have pangenome predictions (Total, Core, and Accessory genes) across all methods + technologies."
   ]
  },
  {
   "cell_type": "markdown",
   "id": "bb6ce6c8-21f1-420a-b73e-b6b86930f8c7",
   "metadata": {},
   "source": [
    "### Pivot table to get summary per Method and Seqtype"
   ]
  },
  {
   "cell_type": "code",
   "execution_count": 23,
   "id": "3f019630-64cd-480b-a222-e76e7791e197",
   "metadata": {},
   "outputs": [
    {
     "data": {
      "text/html": [
       "<div>\n",
       "<style scoped>\n",
       "    .dataframe tbody tr th:only-of-type {\n",
       "        vertical-align: middle;\n",
       "    }\n",
       "\n",
       "    .dataframe tbody tr th {\n",
       "        vertical-align: top;\n",
       "    }\n",
       "\n",
       "    .dataframe thead th {\n",
       "        text-align: right;\n",
       "    }\n",
       "</style>\n",
       "<table border=\"1\" class=\"dataframe\">\n",
       "  <thead>\n",
       "    <tr style=\"text-align: right;\">\n",
       "      <th></th>\n",
       "      <th>Category</th>\n",
       "      <th>Range</th>\n",
       "      <th>GeneCount</th>\n",
       "      <th>Annotation</th>\n",
       "      <th>Method</th>\n",
       "      <th>SeqType</th>\n",
       "      <th>DataSet</th>\n",
       "      <th>MethodAndTech</th>\n",
       "    </tr>\n",
       "  </thead>\n",
       "  <tbody>\n",
       "    <tr>\n",
       "      <th>0</th>\n",
       "      <td>Core genes</td>\n",
       "      <td>(99% &lt;= strains &lt;= 100%)</td>\n",
       "      <td>3035</td>\n",
       "      <td>Bakta</td>\n",
       "      <td>Panaroo_Strict_MergeParalogs</td>\n",
       "      <td>LongRead</td>\n",
       "      <td>All</td>\n",
       "      <td>Panaroo_Strict_MergeParalogs_LongRead</td>\n",
       "    </tr>\n",
       "    <tr>\n",
       "      <th>4</th>\n",
       "      <td>Total genes</td>\n",
       "      <td>(0% &lt;= strains &lt;= 100%)</td>\n",
       "      <td>14410</td>\n",
       "      <td>Bakta</td>\n",
       "      <td>Panaroo_Strict_MergeParalogs</td>\n",
       "      <td>LongRead</td>\n",
       "      <td>All</td>\n",
       "      <td>Panaroo_Strict_MergeParalogs_LongRead</td>\n",
       "    </tr>\n",
       "  </tbody>\n",
       "</table>\n",
       "</div>"
      ],
      "text/plain": [
       "      Category                     Range  GeneCount Annotation                        Method   SeqType DataSet                          MethodAndTech\n",
       "0   Core genes  (99% <= strains <= 100%)       3035      Bakta  Panaroo_Strict_MergeParalogs  LongRead     All  Panaroo_Strict_MergeParalogs_LongRead\n",
       "4  Total genes   (0% <= strains <= 100%)      14410      Bakta  Panaroo_Strict_MergeParalogs  LongRead     All  Panaroo_Strict_MergeParalogs_LongRead"
      ]
     },
     "execution_count": 23,
     "metadata": {},
     "output_type": "execute_result"
    }
   ],
   "source": [
    "PG_Merged_Stats_LRandSR_DF.head(2)"
   ]
  },
  {
   "cell_type": "code",
   "execution_count": 24,
   "id": "2ab115e0-a8a2-4823-ba13-10be707b99a2",
   "metadata": {},
   "outputs": [],
   "source": [
    "PG_WideSumm_DF = pd.pivot(PG_Merged_Stats_LRandSR_DF,\n",
    "                          index = [\"MethodAndTech\"],\n",
    "                          columns = [\"Category\"],\n",
    "                          values = [\"GeneCount\"] )    \n",
    "\n",
    "PG_WideSumm_DF.columns = PG_WideSumm_DF.columns.droplevel(0)\n",
    "PG_WideSumm_DF.columns.name = None\n",
    "PG_WideSumm_DF = PG_WideSumm_DF.reset_index()\n",
    "\n",
    "\n",
    "PG_WideSumm_DF[\"SeqType\"] = PG_WideSumm_DF[\"MethodAndTech\"].str.split(\"_\").str[-1]\n",
    "PG_WideSumm_DF[\"Method\"] = PG_WideSumm_DF[\"MethodAndTech\"].str.replace(\"_LongRead\", \"\").str.replace(\"_ShortRead\", \"\")\n",
    "PG_WideSumm_DF[\"PangenomeTool\"] = PG_WideSumm_DF[\"MethodAndTech\"].str.split(\"_\").str[0:1].str[0]\n",
    "\n",
    "# Do some reformatting \n",
    "NewColOrder = ['PangenomeTool', 'SeqType', 'Method', 'Total genes',  'Core genes', 'Accessory genes',  ]\n",
    "\n",
    "PG_WideSumm_DF = PG_WideSumm_DF[NewColOrder]\n",
    "\n",
    "PG_WideSumm_DF = PG_WideSumm_DF.sort_values([\"SeqType\", \"PangenomeTool\", \"Accessory genes\"]).reset_index(drop=True)"
   ]
  },
  {
   "cell_type": "code",
   "execution_count": 25,
   "id": "7d7f6068-9f10-427f-b426-a1b434496d0b",
   "metadata": {},
   "outputs": [
    {
     "data": {
      "text/plain": [
       "Index(['PangenomeTool', 'SeqType', 'Method', 'Total genes', 'Core genes', 'Accessory genes'], dtype='object')"
      ]
     },
     "execution_count": 25,
     "metadata": {},
     "output_type": "execute_result"
    }
   ],
   "source": [
    "PG_WideSumm_DF.columns"
   ]
  },
  {
   "cell_type": "code",
   "execution_count": 26,
   "id": "b441f8be-da49-4fa4-acf5-ce921cfa8cb9",
   "metadata": {},
   "outputs": [],
   "source": [
    "#PG_WideSumm_DF"
   ]
  },
  {
   "cell_type": "code",
   "execution_count": 27,
   "id": "1597b851-967c-4e13-b031-6259cbe79ae7",
   "metadata": {},
   "outputs": [
    {
     "data": {
      "text/html": [
       "<div>\n",
       "<style scoped>\n",
       "    .dataframe tbody tr th:only-of-type {\n",
       "        vertical-align: middle;\n",
       "    }\n",
       "\n",
       "    .dataframe tbody tr th {\n",
       "        vertical-align: top;\n",
       "    }\n",
       "\n",
       "    .dataframe thead th {\n",
       "        text-align: right;\n",
       "    }\n",
       "</style>\n",
       "<table border=\"1\" class=\"dataframe\">\n",
       "  <thead>\n",
       "    <tr style=\"text-align: right;\">\n",
       "      <th></th>\n",
       "      <th>PangenomeTool</th>\n",
       "      <th>SeqType</th>\n",
       "      <th>Method</th>\n",
       "      <th>Total genes</th>\n",
       "      <th>Core genes</th>\n",
       "      <th>Accessory genes</th>\n",
       "    </tr>\n",
       "  </thead>\n",
       "  <tbody>\n",
       "    <tr>\n",
       "      <th>0</th>\n",
       "      <td>Panaroo</td>\n",
       "      <td>LongRead</td>\n",
       "      <td>Panaroo_Strict_MergeParalogs</td>\n",
       "      <td>14410</td>\n",
       "      <td>3035</td>\n",
       "      <td>11375</td>\n",
       "    </tr>\n",
       "    <tr>\n",
       "      <th>1</th>\n",
       "      <td>Panaroo</td>\n",
       "      <td>LongRead</td>\n",
       "      <td>Panaroo_Moderate_MergeParalogs</td>\n",
       "      <td>14641</td>\n",
       "      <td>3036</td>\n",
       "      <td>11605</td>\n",
       "    </tr>\n",
       "    <tr>\n",
       "      <th>2</th>\n",
       "      <td>Panaroo</td>\n",
       "      <td>LongRead</td>\n",
       "      <td>Panaroo_Sensitive_MergeParalogs</td>\n",
       "      <td>15032</td>\n",
       "      <td>3036</td>\n",
       "      <td>11996</td>\n",
       "    </tr>\n",
       "    <tr>\n",
       "      <th>3</th>\n",
       "      <td>Roary</td>\n",
       "      <td>LongRead</td>\n",
       "      <td>Roary_NoSplitParalogs_I80</td>\n",
       "      <td>13312</td>\n",
       "      <td>3035</td>\n",
       "      <td>10277</td>\n",
       "    </tr>\n",
       "    <tr>\n",
       "      <th>4</th>\n",
       "      <td>Roary</td>\n",
       "      <td>LongRead</td>\n",
       "      <td>Roary_NoSplitParalogs_I90</td>\n",
       "      <td>14851</td>\n",
       "      <td>2915</td>\n",
       "      <td>11936</td>\n",
       "    </tr>\n",
       "    <tr>\n",
       "      <th>5</th>\n",
       "      <td>Roary</td>\n",
       "      <td>LongRead</td>\n",
       "      <td>Roary_NoSplitParalogs</td>\n",
       "      <td>17783</td>\n",
       "      <td>2484</td>\n",
       "      <td>15299</td>\n",
       "    </tr>\n",
       "    <tr>\n",
       "      <th>6</th>\n",
       "      <td>Roary</td>\n",
       "      <td>LongRead</td>\n",
       "      <td>Roary_Default</td>\n",
       "      <td>21400</td>\n",
       "      <td>2394</td>\n",
       "      <td>19006</td>\n",
       "    </tr>\n",
       "  </tbody>\n",
       "</table>\n",
       "</div>"
      ],
      "text/plain": [
       "  PangenomeTool   SeqType                           Method  Total genes  Core genes  Accessory genes\n",
       "0       Panaroo  LongRead     Panaroo_Strict_MergeParalogs        14410        3035            11375\n",
       "1       Panaroo  LongRead   Panaroo_Moderate_MergeParalogs        14641        3036            11605\n",
       "2       Panaroo  LongRead  Panaroo_Sensitive_MergeParalogs        15032        3036            11996\n",
       "3         Roary  LongRead        Roary_NoSplitParalogs_I80        13312        3035            10277\n",
       "4         Roary  LongRead        Roary_NoSplitParalogs_I90        14851        2915            11936\n",
       "5         Roary  LongRead            Roary_NoSplitParalogs        17783        2484            15299\n",
       "6         Roary  LongRead                    Roary_Default        21400        2394            19006"
      ]
     },
     "execution_count": 27,
     "metadata": {},
     "output_type": "execute_result"
    }
   ],
   "source": [
    "PG_WideSumm_DF.query(\"SeqType == 'LongRead'\")   "
   ]
  },
  {
   "cell_type": "code",
   "execution_count": 28,
   "id": "f0b008ad-0e84-4238-a342-62f2147fd81d",
   "metadata": {},
   "outputs": [
    {
     "data": {
      "text/html": [
       "<div>\n",
       "<style scoped>\n",
       "    .dataframe tbody tr th:only-of-type {\n",
       "        vertical-align: middle;\n",
       "    }\n",
       "\n",
       "    .dataframe tbody tr th {\n",
       "        vertical-align: top;\n",
       "    }\n",
       "\n",
       "    .dataframe thead th {\n",
       "        text-align: right;\n",
       "    }\n",
       "</style>\n",
       "<table border=\"1\" class=\"dataframe\">\n",
       "  <thead>\n",
       "    <tr style=\"text-align: right;\">\n",
       "      <th></th>\n",
       "      <th>PangenomeTool</th>\n",
       "      <th>SeqType</th>\n",
       "      <th>Method</th>\n",
       "      <th>Total genes</th>\n",
       "      <th>Core genes</th>\n",
       "      <th>Accessory genes</th>\n",
       "    </tr>\n",
       "  </thead>\n",
       "  <tbody>\n",
       "    <tr>\n",
       "      <th>7</th>\n",
       "      <td>Panaroo</td>\n",
       "      <td>ShortRead</td>\n",
       "      <td>Panaroo_Strict_MergeParalogs</td>\n",
       "      <td>12836</td>\n",
       "      <td>2834</td>\n",
       "      <td>10002</td>\n",
       "    </tr>\n",
       "    <tr>\n",
       "      <th>8</th>\n",
       "      <td>Panaroo</td>\n",
       "      <td>ShortRead</td>\n",
       "      <td>Panaroo_Moderate_MergeParalogs</td>\n",
       "      <td>13462</td>\n",
       "      <td>2834</td>\n",
       "      <td>10628</td>\n",
       "    </tr>\n",
       "    <tr>\n",
       "      <th>9</th>\n",
       "      <td>Panaroo</td>\n",
       "      <td>ShortRead</td>\n",
       "      <td>Panaroo_Sensitive_MergeParalogs</td>\n",
       "      <td>15524</td>\n",
       "      <td>2834</td>\n",
       "      <td>12690</td>\n",
       "    </tr>\n",
       "    <tr>\n",
       "      <th>10</th>\n",
       "      <td>Roary</td>\n",
       "      <td>ShortRead</td>\n",
       "      <td>Roary_NoSplitParalogs_I80</td>\n",
       "      <td>13420</td>\n",
       "      <td>2825</td>\n",
       "      <td>10595</td>\n",
       "    </tr>\n",
       "    <tr>\n",
       "      <th>11</th>\n",
       "      <td>Roary</td>\n",
       "      <td>ShortRead</td>\n",
       "      <td>Roary_NoSplitParalogs_I90</td>\n",
       "      <td>14933</td>\n",
       "      <td>2711</td>\n",
       "      <td>12222</td>\n",
       "    </tr>\n",
       "    <tr>\n",
       "      <th>12</th>\n",
       "      <td>Roary</td>\n",
       "      <td>ShortRead</td>\n",
       "      <td>Roary_NoSplitParalogs</td>\n",
       "      <td>17825</td>\n",
       "      <td>2314</td>\n",
       "      <td>15511</td>\n",
       "    </tr>\n",
       "    <tr>\n",
       "      <th>13</th>\n",
       "      <td>Roary</td>\n",
       "      <td>ShortRead</td>\n",
       "      <td>Roary_Default</td>\n",
       "      <td>19721</td>\n",
       "      <td>2234</td>\n",
       "      <td>17487</td>\n",
       "    </tr>\n",
       "  </tbody>\n",
       "</table>\n",
       "</div>"
      ],
      "text/plain": [
       "   PangenomeTool    SeqType                           Method  Total genes  Core genes  Accessory genes\n",
       "7        Panaroo  ShortRead     Panaroo_Strict_MergeParalogs        12836        2834            10002\n",
       "8        Panaroo  ShortRead   Panaroo_Moderate_MergeParalogs        13462        2834            10628\n",
       "9        Panaroo  ShortRead  Panaroo_Sensitive_MergeParalogs        15524        2834            12690\n",
       "10         Roary  ShortRead        Roary_NoSplitParalogs_I80        13420        2825            10595\n",
       "11         Roary  ShortRead        Roary_NoSplitParalogs_I90        14933        2711            12222\n",
       "12         Roary  ShortRead            Roary_NoSplitParalogs        17825        2314            15511\n",
       "13         Roary  ShortRead                    Roary_Default        19721        2234            17487"
      ]
     },
     "execution_count": 28,
     "metadata": {},
     "output_type": "execute_result"
    }
   ],
   "source": [
    "PG_WideSumm_DF.query(\"SeqType == 'ShortRead'\")    "
   ]
  },
  {
   "cell_type": "code",
   "execution_count": 29,
   "id": "860d0b64-6ff1-4673-885a-3189666252ae",
   "metadata": {},
   "outputs": [
    {
     "data": {
      "text/html": [
       "<div>\n",
       "<style scoped>\n",
       "    .dataframe tbody tr th:only-of-type {\n",
       "        vertical-align: middle;\n",
       "    }\n",
       "\n",
       "    .dataframe tbody tr th {\n",
       "        vertical-align: top;\n",
       "    }\n",
       "\n",
       "    .dataframe thead th {\n",
       "        text-align: right;\n",
       "    }\n",
       "</style>\n",
       "<table border=\"1\" class=\"dataframe\">\n",
       "  <thead>\n",
       "    <tr style=\"text-align: right;\">\n",
       "      <th></th>\n",
       "      <th>PangenomeTool</th>\n",
       "      <th>SeqType</th>\n",
       "      <th>Method</th>\n",
       "      <th>Total genes</th>\n",
       "      <th>Core genes</th>\n",
       "      <th>Accessory genes</th>\n",
       "    </tr>\n",
       "  </thead>\n",
       "  <tbody>\n",
       "    <tr>\n",
       "      <th>0</th>\n",
       "      <td>Panaroo</td>\n",
       "      <td>LongRead</td>\n",
       "      <td>Panaroo_Strict_MergeParalogs</td>\n",
       "      <td>14410</td>\n",
       "      <td>3035</td>\n",
       "      <td>11375</td>\n",
       "    </tr>\n",
       "    <tr>\n",
       "      <th>1</th>\n",
       "      <td>Panaroo</td>\n",
       "      <td>LongRead</td>\n",
       "      <td>Panaroo_Moderate_MergeParalogs</td>\n",
       "      <td>14641</td>\n",
       "      <td>3036</td>\n",
       "      <td>11605</td>\n",
       "    </tr>\n",
       "    <tr>\n",
       "      <th>2</th>\n",
       "      <td>Panaroo</td>\n",
       "      <td>LongRead</td>\n",
       "      <td>Panaroo_Sensitive_MergeParalogs</td>\n",
       "      <td>15032</td>\n",
       "      <td>3036</td>\n",
       "      <td>11996</td>\n",
       "    </tr>\n",
       "    <tr>\n",
       "      <th>3</th>\n",
       "      <td>Roary</td>\n",
       "      <td>LongRead</td>\n",
       "      <td>Roary_NoSplitParalogs_I80</td>\n",
       "      <td>13312</td>\n",
       "      <td>3035</td>\n",
       "      <td>10277</td>\n",
       "    </tr>\n",
       "    <tr>\n",
       "      <th>4</th>\n",
       "      <td>Roary</td>\n",
       "      <td>LongRead</td>\n",
       "      <td>Roary_NoSplitParalogs_I90</td>\n",
       "      <td>14851</td>\n",
       "      <td>2915</td>\n",
       "      <td>11936</td>\n",
       "    </tr>\n",
       "    <tr>\n",
       "      <th>5</th>\n",
       "      <td>Roary</td>\n",
       "      <td>LongRead</td>\n",
       "      <td>Roary_NoSplitParalogs</td>\n",
       "      <td>17783</td>\n",
       "      <td>2484</td>\n",
       "      <td>15299</td>\n",
       "    </tr>\n",
       "    <tr>\n",
       "      <th>6</th>\n",
       "      <td>Roary</td>\n",
       "      <td>LongRead</td>\n",
       "      <td>Roary_Default</td>\n",
       "      <td>21400</td>\n",
       "      <td>2394</td>\n",
       "      <td>19006</td>\n",
       "    </tr>\n",
       "    <tr>\n",
       "      <th>7</th>\n",
       "      <td>Panaroo</td>\n",
       "      <td>ShortRead</td>\n",
       "      <td>Panaroo_Strict_MergeParalogs</td>\n",
       "      <td>12836</td>\n",
       "      <td>2834</td>\n",
       "      <td>10002</td>\n",
       "    </tr>\n",
       "    <tr>\n",
       "      <th>8</th>\n",
       "      <td>Panaroo</td>\n",
       "      <td>ShortRead</td>\n",
       "      <td>Panaroo_Moderate_MergeParalogs</td>\n",
       "      <td>13462</td>\n",
       "      <td>2834</td>\n",
       "      <td>10628</td>\n",
       "    </tr>\n",
       "    <tr>\n",
       "      <th>9</th>\n",
       "      <td>Panaroo</td>\n",
       "      <td>ShortRead</td>\n",
       "      <td>Panaroo_Sensitive_MergeParalogs</td>\n",
       "      <td>15524</td>\n",
       "      <td>2834</td>\n",
       "      <td>12690</td>\n",
       "    </tr>\n",
       "    <tr>\n",
       "      <th>10</th>\n",
       "      <td>Roary</td>\n",
       "      <td>ShortRead</td>\n",
       "      <td>Roary_NoSplitParalogs_I80</td>\n",
       "      <td>13420</td>\n",
       "      <td>2825</td>\n",
       "      <td>10595</td>\n",
       "    </tr>\n",
       "    <tr>\n",
       "      <th>11</th>\n",
       "      <td>Roary</td>\n",
       "      <td>ShortRead</td>\n",
       "      <td>Roary_NoSplitParalogs_I90</td>\n",
       "      <td>14933</td>\n",
       "      <td>2711</td>\n",
       "      <td>12222</td>\n",
       "    </tr>\n",
       "    <tr>\n",
       "      <th>12</th>\n",
       "      <td>Roary</td>\n",
       "      <td>ShortRead</td>\n",
       "      <td>Roary_NoSplitParalogs</td>\n",
       "      <td>17825</td>\n",
       "      <td>2314</td>\n",
       "      <td>15511</td>\n",
       "    </tr>\n",
       "    <tr>\n",
       "      <th>13</th>\n",
       "      <td>Roary</td>\n",
       "      <td>ShortRead</td>\n",
       "      <td>Roary_Default</td>\n",
       "      <td>19721</td>\n",
       "      <td>2234</td>\n",
       "      <td>17487</td>\n",
       "    </tr>\n",
       "  </tbody>\n",
       "</table>\n",
       "</div>"
      ],
      "text/plain": [
       "   PangenomeTool    SeqType                           Method  Total genes  Core genes  Accessory genes\n",
       "0        Panaroo   LongRead     Panaroo_Strict_MergeParalogs        14410        3035            11375\n",
       "1        Panaroo   LongRead   Panaroo_Moderate_MergeParalogs        14641        3036            11605\n",
       "2        Panaroo   LongRead  Panaroo_Sensitive_MergeParalogs        15032        3036            11996\n",
       "3          Roary   LongRead        Roary_NoSplitParalogs_I80        13312        3035            10277\n",
       "4          Roary   LongRead        Roary_NoSplitParalogs_I90        14851        2915            11936\n",
       "5          Roary   LongRead            Roary_NoSplitParalogs        17783        2484            15299\n",
       "6          Roary   LongRead                    Roary_Default        21400        2394            19006\n",
       "7        Panaroo  ShortRead     Panaroo_Strict_MergeParalogs        12836        2834            10002\n",
       "8        Panaroo  ShortRead   Panaroo_Moderate_MergeParalogs        13462        2834            10628\n",
       "9        Panaroo  ShortRead  Panaroo_Sensitive_MergeParalogs        15524        2834            12690\n",
       "10         Roary  ShortRead        Roary_NoSplitParalogs_I80        13420        2825            10595\n",
       "11         Roary  ShortRead        Roary_NoSplitParalogs_I90        14933        2711            12222\n",
       "12         Roary  ShortRead            Roary_NoSplitParalogs        17825        2314            15511\n",
       "13         Roary  ShortRead                    Roary_Default        19721        2234            17487"
      ]
     },
     "execution_count": 29,
     "metadata": {},
     "output_type": "execute_result"
    }
   ],
   "source": [
    "PG_WideSumm_DF"
   ]
  },
  {
   "cell_type": "code",
   "execution_count": null,
   "id": "7f19e997-61d9-48a6-9243-70bd28479762",
   "metadata": {},
   "outputs": [],
   "source": []
  },
  {
   "cell_type": "code",
   "execution_count": null,
   "id": "581cb284-e3f8-40bf-8608-5aa26cdbb1a3",
   "metadata": {},
   "outputs": [],
   "source": []
  },
  {
   "cell_type": "markdown",
   "id": "54b0c435-b783-468f-a458-6ceacd389cef",
   "metadata": {},
   "source": [
    "# Plotting key figures (For SR vs LR - Bakta + 3 pipelines)"
   ]
  },
  {
   "cell_type": "markdown",
   "id": "4a191c16-0f03-4752-87d5-d34530048ecb",
   "metadata": {},
   "source": [
    "# Table 1) Pan-genome predictions - LR vs SR - 3 pipelines"
   ]
  },
  {
   "cell_type": "code",
   "execution_count": 30,
   "id": "8b3974c1-cfc1-45de-9e79-d038ded5a2b8",
   "metadata": {},
   "outputs": [
    {
     "data": {
      "text/html": [
       "<div>\n",
       "<style scoped>\n",
       "    .dataframe tbody tr th:only-of-type {\n",
       "        vertical-align: middle;\n",
       "    }\n",
       "\n",
       "    .dataframe tbody tr th {\n",
       "        vertical-align: top;\n",
       "    }\n",
       "\n",
       "    .dataframe thead th {\n",
       "        text-align: right;\n",
       "    }\n",
       "</style>\n",
       "<table border=\"1\" class=\"dataframe\">\n",
       "  <thead>\n",
       "    <tr style=\"text-align: right;\">\n",
       "      <th></th>\n",
       "      <th>PangenomeTool</th>\n",
       "      <th>SeqType</th>\n",
       "      <th>Method</th>\n",
       "      <th>Total genes</th>\n",
       "      <th>Core genes</th>\n",
       "      <th>Accessory genes</th>\n",
       "    </tr>\n",
       "  </thead>\n",
       "  <tbody>\n",
       "    <tr>\n",
       "      <th>0</th>\n",
       "      <td>Panaroo</td>\n",
       "      <td>LongRead</td>\n",
       "      <td>Panaroo_Strict_MergeParalogs</td>\n",
       "      <td>14410</td>\n",
       "      <td>3035</td>\n",
       "      <td>11375</td>\n",
       "    </tr>\n",
       "  </tbody>\n",
       "</table>\n",
       "</div>"
      ],
      "text/plain": [
       "  PangenomeTool   SeqType                        Method  Total genes  Core genes  Accessory genes\n",
       "0       Panaroo  LongRead  Panaroo_Strict_MergeParalogs        14410        3035            11375"
      ]
     },
     "execution_count": 30,
     "metadata": {},
     "output_type": "execute_result"
    }
   ],
   "source": [
    "PG_WideSumm_DF.head(1)"
   ]
  },
  {
   "cell_type": "code",
   "execution_count": 31,
   "id": "2d322a7b-56c3-49ee-a8b3-e0929369aec0",
   "metadata": {},
   "outputs": [],
   "source": [
    "#print(PG_WideSumm_DF.to_latex())"
   ]
  },
  {
   "cell_type": "code",
   "execution_count": 32,
   "id": "0c635203-1e91-4c09-90c2-bae1e97267f9",
   "metadata": {},
   "outputs": [],
   "source": [
    "PG_WideSumm_DF = PG_WideSumm_DF.sort_values([\"Method\", \"SeqType\"])"
   ]
  },
  {
   "cell_type": "code",
   "execution_count": 33,
   "id": "489df045-46f8-4b1d-8958-d9139d9b5a2e",
   "metadata": {},
   "outputs": [
    {
     "data": {
      "text/html": [
       "<div>\n",
       "<style scoped>\n",
       "    .dataframe tbody tr th:only-of-type {\n",
       "        vertical-align: middle;\n",
       "    }\n",
       "\n",
       "    .dataframe tbody tr th {\n",
       "        vertical-align: top;\n",
       "    }\n",
       "\n",
       "    .dataframe thead th {\n",
       "        text-align: right;\n",
       "    }\n",
       "</style>\n",
       "<table border=\"1\" class=\"dataframe\">\n",
       "  <thead>\n",
       "    <tr style=\"text-align: right;\">\n",
       "      <th></th>\n",
       "      <th>PangenomeTool</th>\n",
       "      <th>SeqType</th>\n",
       "      <th>Method</th>\n",
       "      <th>Total genes</th>\n",
       "      <th>Core genes</th>\n",
       "      <th>Accessory genes</th>\n",
       "    </tr>\n",
       "  </thead>\n",
       "  <tbody>\n",
       "    <tr>\n",
       "      <th>1</th>\n",
       "      <td>Panaroo</td>\n",
       "      <td>LongRead</td>\n",
       "      <td>Panaroo_Moderate_MergeParalogs</td>\n",
       "      <td>14641</td>\n",
       "      <td>3036</td>\n",
       "      <td>11605</td>\n",
       "    </tr>\n",
       "    <tr>\n",
       "      <th>8</th>\n",
       "      <td>Panaroo</td>\n",
       "      <td>ShortRead</td>\n",
       "      <td>Panaroo_Moderate_MergeParalogs</td>\n",
       "      <td>13462</td>\n",
       "      <td>2834</td>\n",
       "      <td>10628</td>\n",
       "    </tr>\n",
       "    <tr>\n",
       "      <th>2</th>\n",
       "      <td>Panaroo</td>\n",
       "      <td>LongRead</td>\n",
       "      <td>Panaroo_Sensitive_MergeParalogs</td>\n",
       "      <td>15032</td>\n",
       "      <td>3036</td>\n",
       "      <td>11996</td>\n",
       "    </tr>\n",
       "    <tr>\n",
       "      <th>9</th>\n",
       "      <td>Panaroo</td>\n",
       "      <td>ShortRead</td>\n",
       "      <td>Panaroo_Sensitive_MergeParalogs</td>\n",
       "      <td>15524</td>\n",
       "      <td>2834</td>\n",
       "      <td>12690</td>\n",
       "    </tr>\n",
       "    <tr>\n",
       "      <th>0</th>\n",
       "      <td>Panaroo</td>\n",
       "      <td>LongRead</td>\n",
       "      <td>Panaroo_Strict_MergeParalogs</td>\n",
       "      <td>14410</td>\n",
       "      <td>3035</td>\n",
       "      <td>11375</td>\n",
       "    </tr>\n",
       "    <tr>\n",
       "      <th>7</th>\n",
       "      <td>Panaroo</td>\n",
       "      <td>ShortRead</td>\n",
       "      <td>Panaroo_Strict_MergeParalogs</td>\n",
       "      <td>12836</td>\n",
       "      <td>2834</td>\n",
       "      <td>10002</td>\n",
       "    </tr>\n",
       "    <tr>\n",
       "      <th>6</th>\n",
       "      <td>Roary</td>\n",
       "      <td>LongRead</td>\n",
       "      <td>Roary_Default</td>\n",
       "      <td>21400</td>\n",
       "      <td>2394</td>\n",
       "      <td>19006</td>\n",
       "    </tr>\n",
       "    <tr>\n",
       "      <th>13</th>\n",
       "      <td>Roary</td>\n",
       "      <td>ShortRead</td>\n",
       "      <td>Roary_Default</td>\n",
       "      <td>19721</td>\n",
       "      <td>2234</td>\n",
       "      <td>17487</td>\n",
       "    </tr>\n",
       "    <tr>\n",
       "      <th>5</th>\n",
       "      <td>Roary</td>\n",
       "      <td>LongRead</td>\n",
       "      <td>Roary_NoSplitParalogs</td>\n",
       "      <td>17783</td>\n",
       "      <td>2484</td>\n",
       "      <td>15299</td>\n",
       "    </tr>\n",
       "    <tr>\n",
       "      <th>12</th>\n",
       "      <td>Roary</td>\n",
       "      <td>ShortRead</td>\n",
       "      <td>Roary_NoSplitParalogs</td>\n",
       "      <td>17825</td>\n",
       "      <td>2314</td>\n",
       "      <td>15511</td>\n",
       "    </tr>\n",
       "    <tr>\n",
       "      <th>3</th>\n",
       "      <td>Roary</td>\n",
       "      <td>LongRead</td>\n",
       "      <td>Roary_NoSplitParalogs_I80</td>\n",
       "      <td>13312</td>\n",
       "      <td>3035</td>\n",
       "      <td>10277</td>\n",
       "    </tr>\n",
       "    <tr>\n",
       "      <th>10</th>\n",
       "      <td>Roary</td>\n",
       "      <td>ShortRead</td>\n",
       "      <td>Roary_NoSplitParalogs_I80</td>\n",
       "      <td>13420</td>\n",
       "      <td>2825</td>\n",
       "      <td>10595</td>\n",
       "    </tr>\n",
       "    <tr>\n",
       "      <th>4</th>\n",
       "      <td>Roary</td>\n",
       "      <td>LongRead</td>\n",
       "      <td>Roary_NoSplitParalogs_I90</td>\n",
       "      <td>14851</td>\n",
       "      <td>2915</td>\n",
       "      <td>11936</td>\n",
       "    </tr>\n",
       "    <tr>\n",
       "      <th>11</th>\n",
       "      <td>Roary</td>\n",
       "      <td>ShortRead</td>\n",
       "      <td>Roary_NoSplitParalogs_I90</td>\n",
       "      <td>14933</td>\n",
       "      <td>2711</td>\n",
       "      <td>12222</td>\n",
       "    </tr>\n",
       "  </tbody>\n",
       "</table>\n",
       "</div>"
      ],
      "text/plain": [
       "   PangenomeTool    SeqType                           Method  Total genes  Core genes  Accessory genes\n",
       "1        Panaroo   LongRead   Panaroo_Moderate_MergeParalogs        14641        3036            11605\n",
       "8        Panaroo  ShortRead   Panaroo_Moderate_MergeParalogs        13462        2834            10628\n",
       "2        Panaroo   LongRead  Panaroo_Sensitive_MergeParalogs        15032        3036            11996\n",
       "9        Panaroo  ShortRead  Panaroo_Sensitive_MergeParalogs        15524        2834            12690\n",
       "0        Panaroo   LongRead     Panaroo_Strict_MergeParalogs        14410        3035            11375\n",
       "7        Panaroo  ShortRead     Panaroo_Strict_MergeParalogs        12836        2834            10002\n",
       "6          Roary   LongRead                    Roary_Default        21400        2394            19006\n",
       "13         Roary  ShortRead                    Roary_Default        19721        2234            17487\n",
       "5          Roary   LongRead            Roary_NoSplitParalogs        17783        2484            15299\n",
       "12         Roary  ShortRead            Roary_NoSplitParalogs        17825        2314            15511\n",
       "3          Roary   LongRead        Roary_NoSplitParalogs_I80        13312        3035            10277\n",
       "10         Roary  ShortRead        Roary_NoSplitParalogs_I80        13420        2825            10595\n",
       "4          Roary   LongRead        Roary_NoSplitParalogs_I90        14851        2915            11936\n",
       "11         Roary  ShortRead        Roary_NoSplitParalogs_I90        14933        2711            12222"
      ]
     },
     "execution_count": 33,
     "metadata": {},
     "output_type": "execute_result"
    }
   ],
   "source": [
    "PG_WideSumm_DF"
   ]
  },
  {
   "cell_type": "code",
   "execution_count": 34,
   "id": "f1a83bc8-bfd8-4ae6-b480-a9d2329c3564",
   "metadata": {},
   "outputs": [],
   "source": [
    "PG_WideSumm_DF[\"Weight\"] = PG_WideSumm_DF.groupby(\"Method\")[\"Accessory genes\"].transform('sum') / 2"
   ]
  },
  {
   "cell_type": "code",
   "execution_count": 35,
   "id": "9fd47ae4-19bc-4f7a-946f-ca7395e92e98",
   "metadata": {},
   "outputs": [],
   "source": [
    "#PG_WideSumm_DF"
   ]
  },
  {
   "cell_type": "code",
   "execution_count": null,
   "id": "91962d4f-9791-4cb0-93e4-1fa838fb9999",
   "metadata": {},
   "outputs": [],
   "source": []
  },
  {
   "cell_type": "code",
   "execution_count": null,
   "id": "f2be94ff-bcfc-4910-b5d9-56e63a172e57",
   "metadata": {},
   "outputs": [],
   "source": []
  },
  {
   "cell_type": "code",
   "execution_count": 36,
   "id": "92e913e6-9f87-4d17-b19c-6a193005ca15",
   "metadata": {},
   "outputs": [
    {
     "data": {
      "text/html": [
       "<div>\n",
       "<style scoped>\n",
       "    .dataframe tbody tr th:only-of-type {\n",
       "        vertical-align: middle;\n",
       "    }\n",
       "\n",
       "    .dataframe tbody tr th {\n",
       "        vertical-align: top;\n",
       "    }\n",
       "\n",
       "    .dataframe thead th {\n",
       "        text-align: right;\n",
       "    }\n",
       "</style>\n",
       "<table border=\"1\" class=\"dataframe\">\n",
       "  <thead>\n",
       "    <tr style=\"text-align: right;\">\n",
       "      <th></th>\n",
       "      <th>PangenomeTool</th>\n",
       "      <th>Method</th>\n",
       "      <th>SeqType</th>\n",
       "      <th>Total genes</th>\n",
       "      <th>Core genes</th>\n",
       "      <th>Accessory genes</th>\n",
       "    </tr>\n",
       "  </thead>\n",
       "  <tbody>\n",
       "    <tr>\n",
       "      <th>0</th>\n",
       "      <td>Panaroo</td>\n",
       "      <td>Panaroo (Strict &amp; MergeParalogs)</td>\n",
       "      <td>LongRead</td>\n",
       "      <td>14410</td>\n",
       "      <td>3035</td>\n",
       "      <td>11375</td>\n",
       "    </tr>\n",
       "    <tr>\n",
       "      <th>1</th>\n",
       "      <td>Panaroo</td>\n",
       "      <td>Panaroo (Strict &amp; MergeParalogs)</td>\n",
       "      <td>ShortRead</td>\n",
       "      <td>12836</td>\n",
       "      <td>2834</td>\n",
       "      <td>10002</td>\n",
       "    </tr>\n",
       "    <tr>\n",
       "      <th>2</th>\n",
       "      <td>Panaroo</td>\n",
       "      <td>Panaroo (Moderate &amp; MergeParalogs)</td>\n",
       "      <td>LongRead</td>\n",
       "      <td>14641</td>\n",
       "      <td>3036</td>\n",
       "      <td>11605</td>\n",
       "    </tr>\n",
       "    <tr>\n",
       "      <th>3</th>\n",
       "      <td>Panaroo</td>\n",
       "      <td>Panaroo (Moderate &amp; MergeParalogs)</td>\n",
       "      <td>ShortRead</td>\n",
       "      <td>13462</td>\n",
       "      <td>2834</td>\n",
       "      <td>10628</td>\n",
       "    </tr>\n",
       "    <tr>\n",
       "      <th>4</th>\n",
       "      <td>Panaroo</td>\n",
       "      <td>Panaroo (Sensitive &amp; MergeParalogs)</td>\n",
       "      <td>LongRead</td>\n",
       "      <td>15032</td>\n",
       "      <td>3036</td>\n",
       "      <td>11996</td>\n",
       "    </tr>\n",
       "    <tr>\n",
       "      <th>5</th>\n",
       "      <td>Panaroo</td>\n",
       "      <td>Panaroo (Sensitive &amp; MergeParalogs)</td>\n",
       "      <td>ShortRead</td>\n",
       "      <td>15524</td>\n",
       "      <td>2834</td>\n",
       "      <td>12690</td>\n",
       "    </tr>\n",
       "    <tr>\n",
       "      <th>6</th>\n",
       "      <td>Roary</td>\n",
       "      <td>Roary_NoSplitParalogs_I80</td>\n",
       "      <td>LongRead</td>\n",
       "      <td>13312</td>\n",
       "      <td>3035</td>\n",
       "      <td>10277</td>\n",
       "    </tr>\n",
       "    <tr>\n",
       "      <th>7</th>\n",
       "      <td>Roary</td>\n",
       "      <td>Roary_NoSplitParalogs_I80</td>\n",
       "      <td>ShortRead</td>\n",
       "      <td>13420</td>\n",
       "      <td>2825</td>\n",
       "      <td>10595</td>\n",
       "    </tr>\n",
       "    <tr>\n",
       "      <th>8</th>\n",
       "      <td>Roary</td>\n",
       "      <td>Roary (MergeParalogs &amp; I90)</td>\n",
       "      <td>LongRead</td>\n",
       "      <td>14851</td>\n",
       "      <td>2915</td>\n",
       "      <td>11936</td>\n",
       "    </tr>\n",
       "    <tr>\n",
       "      <th>9</th>\n",
       "      <td>Roary</td>\n",
       "      <td>Roary (MergeParalogs &amp; I90)</td>\n",
       "      <td>ShortRead</td>\n",
       "      <td>14933</td>\n",
       "      <td>2711</td>\n",
       "      <td>12222</td>\n",
       "    </tr>\n",
       "    <tr>\n",
       "      <th>10</th>\n",
       "      <td>Roary</td>\n",
       "      <td>Roary (MergeParalogs)</td>\n",
       "      <td>LongRead</td>\n",
       "      <td>17783</td>\n",
       "      <td>2484</td>\n",
       "      <td>15299</td>\n",
       "    </tr>\n",
       "    <tr>\n",
       "      <th>11</th>\n",
       "      <td>Roary</td>\n",
       "      <td>Roary (MergeParalogs)</td>\n",
       "      <td>ShortRead</td>\n",
       "      <td>17825</td>\n",
       "      <td>2314</td>\n",
       "      <td>15511</td>\n",
       "    </tr>\n",
       "    <tr>\n",
       "      <th>12</th>\n",
       "      <td>Roary</td>\n",
       "      <td>Roary (Default)</td>\n",
       "      <td>LongRead</td>\n",
       "      <td>21400</td>\n",
       "      <td>2394</td>\n",
       "      <td>19006</td>\n",
       "    </tr>\n",
       "    <tr>\n",
       "      <th>13</th>\n",
       "      <td>Roary</td>\n",
       "      <td>Roary (Default)</td>\n",
       "      <td>ShortRead</td>\n",
       "      <td>19721</td>\n",
       "      <td>2234</td>\n",
       "      <td>17487</td>\n",
       "    </tr>\n",
       "  </tbody>\n",
       "</table>\n",
       "</div>"
      ],
      "text/plain": [
       "   PangenomeTool                               Method    SeqType  Total genes  Core genes  Accessory genes\n",
       "0        Panaroo     Panaroo (Strict & MergeParalogs)   LongRead        14410        3035            11375\n",
       "1        Panaroo     Panaroo (Strict & MergeParalogs)  ShortRead        12836        2834            10002\n",
       "2        Panaroo   Panaroo (Moderate & MergeParalogs)   LongRead        14641        3036            11605\n",
       "3        Panaroo   Panaroo (Moderate & MergeParalogs)  ShortRead        13462        2834            10628\n",
       "4        Panaroo  Panaroo (Sensitive & MergeParalogs)   LongRead        15032        3036            11996\n",
       "5        Panaroo  Panaroo (Sensitive & MergeParalogs)  ShortRead        15524        2834            12690\n",
       "6          Roary            Roary_NoSplitParalogs_I80   LongRead        13312        3035            10277\n",
       "7          Roary            Roary_NoSplitParalogs_I80  ShortRead        13420        2825            10595\n",
       "8          Roary          Roary (MergeParalogs & I90)   LongRead        14851        2915            11936\n",
       "9          Roary          Roary (MergeParalogs & I90)  ShortRead        14933        2711            12222\n",
       "10         Roary                Roary (MergeParalogs)   LongRead        17783        2484            15299\n",
       "11         Roary                Roary (MergeParalogs)  ShortRead        17825        2314            15511\n",
       "12         Roary                      Roary (Default)   LongRead        21400        2394            19006\n",
       "13         Roary                      Roary (Default)  ShortRead        19721        2234            17487"
      ]
     },
     "execution_count": 36,
     "metadata": {},
     "output_type": "execute_result"
    }
   ],
   "source": [
    "orderToPlot_X = ['Panaroo_Strict_MergeParalogs',\n",
    "                 'Panaroo_Moderate_MergeParalogs',\n",
    "                 'Panaroo_Sensitive_MergeParalogs', \n",
    "                 'Roary_NoSplitParalogs_I80', 'Roary_NoSplitParalogs_I90',\n",
    "                 'Roary_NoSplitParalogs',  'Roary_Default', ]\n",
    "\n",
    "dictOfValues_To_Label = {'Panaroo_Strict_MergeParalogs': 'Panaroo (Strict & MergeParalogs)',\n",
    "                         'Panaroo_Moderate_MergeParalogs': 'Panaroo (Moderate & MergeParalogs)',\n",
    "                         'Panaroo_Sensitive_MergeParalogs': 'Panaroo (Sensitive & MergeParalogs)',\n",
    "                         'Roary_NoSplitParalogs_I90': 'Roary (MergeParalogs & I90)',\n",
    "                         'Roary_NoSplitParalogs': 'Roary (MergeParalogs)',\n",
    "                         'Roary_Default': 'Roary (Default)' }\n",
    "\n",
    "\n",
    "\n",
    "PG_WideSumm_DF = PG_WideSumm_DF.sort_values(\"Method\", key=lambda x: pd.Categorical(x, categories=orderToPlot_X, ordered=True))\n",
    "#PG_WideSumm_DF = PG_WideSumm_DF.sort_values([\"Method\", \"SeqType\"], key=lambda x: pd.Categorical(x, categories=orderToPlot_X, ordered=True))\n",
    "\n",
    "PG_WideSumm_V2_DF = PG_WideSumm_DF.copy()\n",
    "\n",
    "PG_WideSumm_V2_DF[\"Method\"] = PG_WideSumm_V2_DF[\"Method\"].replace(dictOfValues_To_Label)\n",
    "\n",
    "\n",
    "PG_WideSumm_V2_DF_Trim = PG_WideSumm_V2_DF[['PangenomeTool', 'Method', 'SeqType', 'Total genes', 'Core genes', 'Accessory genes']].reset_index(drop=True)\n",
    "\n",
    "PG_WideSumm_V2_DF_Trim"
   ]
  },
  {
   "cell_type": "code",
   "execution_count": 37,
   "id": "cff647f7-2a4a-4431-9645-3f44bdaf4c69",
   "metadata": {},
   "outputs": [],
   "source": [
    "# https://stackoverflow.com/questions/35634238/how-to-save-a-pandas-dataframe-table-as-a-png   "
   ]
  },
  {
   "cell_type": "code",
   "execution_count": 38,
   "id": "fc9e98ba-5cdf-457e-ac53-e7dc9832340f",
   "metadata": {},
   "outputs": [],
   "source": [
    "#from pandas.table.plotting import table # EDIT: see deprecation warnings below\n",
    "#from pandas.plotting import table \n",
    "#ax = plt.subplot(111, frame_on=False) # no visible frame\n",
    "#ax.xaxis.set_visible(False)  # hide the x axis\n",
    "#ax.yaxis.set_visible(False)  # hide the y axis\n",
    "\n",
    "#table(ax, PG_WideSumm_V2_DF_Trim)  # where df is your data frame\n"
   ]
  },
  {
   "cell_type": "code",
   "execution_count": null,
   "id": "d30408fb-d683-4876-82ca-6dd59e53fc5e",
   "metadata": {},
   "outputs": [],
   "source": []
  },
  {
   "cell_type": "code",
   "execution_count": 39,
   "id": "8bf030f2-0146-4aeb-ad10-5d36d5df21b2",
   "metadata": {},
   "outputs": [
    {
     "data": {
      "text/plain": [
       "Index(['PangenomeTool', 'SeqType', 'Method', 'Total genes', 'Core genes', 'Accessory genes', 'Weight'], dtype='object')"
      ]
     },
     "execution_count": 39,
     "metadata": {},
     "output_type": "execute_result"
    }
   ],
   "source": [
    "PG_WideSumm_V2_DF.columns"
   ]
  },
  {
   "cell_type": "code",
   "execution_count": null,
   "id": "60f5a6e3-0f52-47fd-8646-1cf2e88b91d5",
   "metadata": {},
   "outputs": [],
   "source": []
  },
  {
   "cell_type": "code",
   "execution_count": 40,
   "id": "d9a56261-24bc-42c3-9dbe-327539222078",
   "metadata": {},
   "outputs": [],
   "source": [
    "orderToPlot_X = ['Panaroo_Strict_MergeParalogs',\n",
    "                 'Panaroo_Moderate_MergeParalogs',\n",
    "                 'Panaroo_Sensitive_MergeParalogs', \n",
    "                 'Roary_NoSplitParalogs_I80', 'Roary_NoSplitParalogs_I90',\n",
    "                 'Roary_NoSplitParalogs',  'Roary_Default', ]\n",
    "\n",
    "dictOfValues_To_Label = {'Panaroo_Strict_MergeParalogs': 'Panaroo (Strict & MergeParalogs)',\n",
    "                         'Panaroo_Moderate_MergeParalogs': 'Panaroo (Moderate & MergeParalogs)',\n",
    "                         'Panaroo_Sensitive_MergeParalogs': 'Panaroo (Sensitive & MergeParalogs)',\n",
    "                         'Roary_NoSplitParalogs_I90': 'Roary (MergeParalogs & I90)',\n",
    "                         'Roary_NoSplitParalogs': 'Roary (MergeParalogs)',\n",
    "                         'Roary_Default': 'Roary (Default)' }\n",
    "\n",
    "\n",
    "# dictOfValues_To_Label = {}  \n",
    "\n",
    "# for i in range(len(orderToPlot_X)):\n",
    "        \n",
    "#     dictOfValues_To_Label[MethodValues_X[i]]   =   dictOfValues_To_Label[ orderToPlot_X[i] ]\n",
    "    "
   ]
  },
  {
   "cell_type": "code",
   "execution_count": 41,
   "id": "2088054d-dab8-4bf6-a499-d99b8143d4da",
   "metadata": {},
   "outputs": [
    {
     "data": {
      "text/plain": [
       "dict_keys(['Panaroo_Strict_MergeParalogs', 'Panaroo_Moderate_MergeParalogs', 'Panaroo_Sensitive_MergeParalogs', 'Roary_NoSplitParalogs_I90', 'Roary_NoSplitParalogs', 'Roary_Default'])"
      ]
     },
     "execution_count": 41,
     "metadata": {},
     "output_type": "execute_result"
    }
   ],
   "source": [
    "dictOfValues_To_Label.keys()\n",
    "#['Panaroo_Strict_MergeParalogs'] "
   ]
  },
  {
   "cell_type": "code",
   "execution_count": 42,
   "id": "9ccb0c37-c184-4d40-9300-0f69d6e82c9e",
   "metadata": {},
   "outputs": [
    {
     "data": {
      "text/plain": [
       "'Panaroo_Strict_MergeParalogs'"
      ]
     },
     "execution_count": 42,
     "metadata": {},
     "output_type": "execute_result"
    }
   ],
   "source": [
    "orderToPlot_X[0]"
   ]
  },
  {
   "cell_type": "code",
   "execution_count": 43,
   "id": "9cdd6609-2850-4a57-a35e-95226ca6deab",
   "metadata": {},
   "outputs": [
    {
     "data": {
      "text/plain": [
       "{'Panaroo_Strict_MergeParalogs': 'Panaroo (Strict & MergeParalogs)',\n",
       " 'Panaroo_Moderate_MergeParalogs': 'Panaroo (Moderate & MergeParalogs)',\n",
       " 'Panaroo_Sensitive_MergeParalogs': 'Panaroo (Sensitive & MergeParalogs)',\n",
       " 'Roary_NoSplitParalogs_I90': 'Roary (MergeParalogs & I90)',\n",
       " 'Roary_NoSplitParalogs': 'Roary (MergeParalogs)',\n",
       " 'Roary_Default': 'Roary (Default)'}"
      ]
     },
     "execution_count": 43,
     "metadata": {},
     "output_type": "execute_result"
    }
   ],
   "source": [
    "dictOfValues_To_Label"
   ]
  },
  {
   "cell_type": "code",
   "execution_count": 44,
   "id": "9aa4db0e-200b-47fe-909f-83ce78d84c05",
   "metadata": {},
   "outputs": [],
   "source": [
    "dictOfValues_To_Label = {'Panaroo_Strict_MergeParalogs': 'Panaroo (Strict & MergeParalogs)',\n",
    "                         'Panaroo_Moderate_MergeParalogs': 'Panaroo (Moderate & MergeParalogs)',\n",
    "                         'Panaroo_Sensitive_MergeParalogs': 'Panaroo (Sensitive & MergeParalogs)',\n",
    "                         'Panaroo_Strict': 'Panaroo (Strict)',\n",
    "                         'Panaroo_Moderate': 'Panaroo (Moderate)',\n",
    "                         'Panaroo_Sensitive': 'Panaroo (Sensitive)',\n",
    "                         'Roary_NoSplitParalogs_I80': 'Roary (MergeParalogs & I80)',\n",
    "                         'Roary_NoSplitParalogs_I90': 'Roary (MergeParalogs & I90)',\n",
    "                         'Roary_NoSplitParalogs': 'Roary (MergeParalogs)',\n",
    "                         'Roary_Default': 'Roary (Default)',\n",
    "                         'Ppanggolin_Default': 'Ppanggolin (Default)'}\n"
   ]
  },
  {
   "cell_type": "code",
   "execution_count": 45,
   "id": "e378ebea-8f8f-4106-8bb8-f5aafa25996b",
   "metadata": {},
   "outputs": [
    {
     "data": {
      "text/html": [
       "<div>\n",
       "<style scoped>\n",
       "    .dataframe tbody tr th:only-of-type {\n",
       "        vertical-align: middle;\n",
       "    }\n",
       "\n",
       "    .dataframe tbody tr th {\n",
       "        vertical-align: top;\n",
       "    }\n",
       "\n",
       "    .dataframe thead th {\n",
       "        text-align: right;\n",
       "    }\n",
       "</style>\n",
       "<table border=\"1\" class=\"dataframe\">\n",
       "  <thead>\n",
       "    <tr style=\"text-align: right;\">\n",
       "      <th></th>\n",
       "      <th>count</th>\n",
       "      <th>mean</th>\n",
       "      <th>std</th>\n",
       "      <th>min</th>\n",
       "      <th>25%</th>\n",
       "      <th>50%</th>\n",
       "      <th>75%</th>\n",
       "      <th>max</th>\n",
       "    </tr>\n",
       "    <tr>\n",
       "      <th>SeqType</th>\n",
       "      <th></th>\n",
       "      <th></th>\n",
       "      <th></th>\n",
       "      <th></th>\n",
       "      <th></th>\n",
       "      <th></th>\n",
       "      <th></th>\n",
       "      <th></th>\n",
       "    </tr>\n",
       "  </thead>\n",
       "  <tbody>\n",
       "    <tr>\n",
       "      <th>LongRead</th>\n",
       "      <td>7.0</td>\n",
       "      <td>15918.428571</td>\n",
       "      <td>2773.387271</td>\n",
       "      <td>13312.0</td>\n",
       "      <td>14525.5</td>\n",
       "      <td>14851.0</td>\n",
       "      <td>16407.5</td>\n",
       "      <td>21400.0</td>\n",
       "    </tr>\n",
       "    <tr>\n",
       "      <th>ShortRead</th>\n",
       "      <td>7.0</td>\n",
       "      <td>15388.714286</td>\n",
       "      <td>2550.639770</td>\n",
       "      <td>12836.0</td>\n",
       "      <td>13441.0</td>\n",
       "      <td>14933.0</td>\n",
       "      <td>16674.5</td>\n",
       "      <td>19721.0</td>\n",
       "    </tr>\n",
       "  </tbody>\n",
       "</table>\n",
       "</div>"
      ],
      "text/plain": [
       "           count          mean          std      min      25%      50%      75%      max\n",
       "SeqType                                                                                 \n",
       "LongRead     7.0  15918.428571  2773.387271  13312.0  14525.5  14851.0  16407.5  21400.0\n",
       "ShortRead    7.0  15388.714286  2550.639770  12836.0  13441.0  14933.0  16674.5  19721.0"
      ]
     },
     "execution_count": 45,
     "metadata": {},
     "output_type": "execute_result"
    }
   ],
   "source": [
    "PG_WideSumm_DF.groupby(\"SeqType\")[\"Total genes\"].describe()"
   ]
  },
  {
   "cell_type": "code",
   "execution_count": 46,
   "id": "7632f308-3933-4452-aacd-b491e9012ce5",
   "metadata": {},
   "outputs": [
    {
     "data": {
      "text/html": [
       "<div>\n",
       "<style scoped>\n",
       "    .dataframe tbody tr th:only-of-type {\n",
       "        vertical-align: middle;\n",
       "    }\n",
       "\n",
       "    .dataframe tbody tr th {\n",
       "        vertical-align: top;\n",
       "    }\n",
       "\n",
       "    .dataframe thead th {\n",
       "        text-align: right;\n",
       "    }\n",
       "</style>\n",
       "<table border=\"1\" class=\"dataframe\">\n",
       "  <thead>\n",
       "    <tr style=\"text-align: right;\">\n",
       "      <th></th>\n",
       "      <th>PangenomeTool</th>\n",
       "      <th>SeqType</th>\n",
       "      <th>Method</th>\n",
       "      <th>Total genes</th>\n",
       "      <th>Core genes</th>\n",
       "      <th>Accessory genes</th>\n",
       "      <th>Weight</th>\n",
       "    </tr>\n",
       "  </thead>\n",
       "  <tbody>\n",
       "    <tr>\n",
       "      <th>0</th>\n",
       "      <td>Panaroo</td>\n",
       "      <td>LongRead</td>\n",
       "      <td>Panaroo_Strict_MergeParalogs</td>\n",
       "      <td>14410</td>\n",
       "      <td>3035</td>\n",
       "      <td>11375</td>\n",
       "      <td>10688.5</td>\n",
       "    </tr>\n",
       "    <tr>\n",
       "      <th>7</th>\n",
       "      <td>Panaroo</td>\n",
       "      <td>ShortRead</td>\n",
       "      <td>Panaroo_Strict_MergeParalogs</td>\n",
       "      <td>12836</td>\n",
       "      <td>2834</td>\n",
       "      <td>10002</td>\n",
       "      <td>10688.5</td>\n",
       "    </tr>\n",
       "    <tr>\n",
       "      <th>1</th>\n",
       "      <td>Panaroo</td>\n",
       "      <td>LongRead</td>\n",
       "      <td>Panaroo_Moderate_MergeParalogs</td>\n",
       "      <td>14641</td>\n",
       "      <td>3036</td>\n",
       "      <td>11605</td>\n",
       "      <td>11116.5</td>\n",
       "    </tr>\n",
       "    <tr>\n",
       "      <th>8</th>\n",
       "      <td>Panaroo</td>\n",
       "      <td>ShortRead</td>\n",
       "      <td>Panaroo_Moderate_MergeParalogs</td>\n",
       "      <td>13462</td>\n",
       "      <td>2834</td>\n",
       "      <td>10628</td>\n",
       "      <td>11116.5</td>\n",
       "    </tr>\n",
       "  </tbody>\n",
       "</table>\n",
       "</div>"
      ],
      "text/plain": [
       "  PangenomeTool    SeqType                          Method  Total genes  Core genes  Accessory genes   Weight\n",
       "0       Panaroo   LongRead    Panaroo_Strict_MergeParalogs        14410        3035            11375  10688.5\n",
       "7       Panaroo  ShortRead    Panaroo_Strict_MergeParalogs        12836        2834            10002  10688.5\n",
       "1       Panaroo   LongRead  Panaroo_Moderate_MergeParalogs        14641        3036            11605  11116.5\n",
       "8       Panaroo  ShortRead  Panaroo_Moderate_MergeParalogs        13462        2834            10628  11116.5"
      ]
     },
     "execution_count": 46,
     "metadata": {},
     "output_type": "execute_result"
    }
   ],
   "source": [
    "PG_WideSumm_DF.head(4)"
   ]
  },
  {
   "cell_type": "code",
   "execution_count": null,
   "id": "100e6557-81bb-46de-bd6e-0a44cb6918c7",
   "metadata": {},
   "outputs": [],
   "source": []
  },
  {
   "cell_type": "code",
   "execution_count": 47,
   "id": "b6051a3a-5c1d-4773-ad16-b81da9d34951",
   "metadata": {},
   "outputs": [],
   "source": [
    "PG_WideSumm_DF.to_csv(\"PG.LRvsSR.BaktaAnno.tsv\", sep=\"\\t\", index= False)  "
   ]
  },
  {
   "cell_type": "code",
   "execution_count": null,
   "id": "831affa3-3045-4e2d-9e5d-21bdc539f526",
   "metadata": {},
   "outputs": [],
   "source": []
  },
  {
   "cell_type": "code",
   "execution_count": 48,
   "id": "849476e2-1aaa-443d-8510-ecebd72af0db",
   "metadata": {},
   "outputs": [],
   "source": [
    "PG_Merged_Stats_LRandSR_DF.to_csv(\"PG.LRvsSR.BaktaAnno.MergedStats.tsv\", sep=\"\\t\", index= False)  "
   ]
  },
  {
   "cell_type": "code",
   "execution_count": 49,
   "id": "3143a4c4-3e67-4a1d-91eb-63b6ed3b6ca6",
   "metadata": {},
   "outputs": [
    {
     "data": {
      "text/plain": [
       "Index(['Category', 'Range', 'GeneCount', 'Annotation', 'Method', 'SeqType', 'DataSet', 'MethodAndTech'], dtype='object')"
      ]
     },
     "execution_count": 49,
     "metadata": {},
     "output_type": "execute_result"
    }
   ],
   "source": [
    "PG_Merged_Stats_LRandSR_DF.columns   "
   ]
  },
  {
   "cell_type": "code",
   "execution_count": 50,
   "id": "7bf1fafb-beb0-4179-9d99-c28b347a682b",
   "metadata": {},
   "outputs": [
    {
     "data": {
      "text/html": [
       "<div>\n",
       "<style scoped>\n",
       "    .dataframe tbody tr th:only-of-type {\n",
       "        vertical-align: middle;\n",
       "    }\n",
       "\n",
       "    .dataframe tbody tr th {\n",
       "        vertical-align: top;\n",
       "    }\n",
       "\n",
       "    .dataframe thead th {\n",
       "        text-align: right;\n",
       "    }\n",
       "</style>\n",
       "<table border=\"1\" class=\"dataframe\">\n",
       "  <thead>\n",
       "    <tr style=\"text-align: right;\">\n",
       "      <th></th>\n",
       "      <th>Category</th>\n",
       "      <th>Range</th>\n",
       "      <th>GeneCount</th>\n",
       "      <th>Annotation</th>\n",
       "      <th>Method</th>\n",
       "      <th>SeqType</th>\n",
       "      <th>DataSet</th>\n",
       "      <th>MethodAndTech</th>\n",
       "    </tr>\n",
       "  </thead>\n",
       "  <tbody>\n",
       "    <tr>\n",
       "      <th>0</th>\n",
       "      <td>Core genes</td>\n",
       "      <td>(99% &lt;= strains &lt;= 100%)</td>\n",
       "      <td>3035</td>\n",
       "      <td>Bakta</td>\n",
       "      <td>Panaroo_Strict_MergeParalogs</td>\n",
       "      <td>LongRead</td>\n",
       "      <td>All</td>\n",
       "      <td>Panaroo_Strict_MergeParalogs_LongRead</td>\n",
       "    </tr>\n",
       "    <tr>\n",
       "      <th>4</th>\n",
       "      <td>Total genes</td>\n",
       "      <td>(0% &lt;= strains &lt;= 100%)</td>\n",
       "      <td>14410</td>\n",
       "      <td>Bakta</td>\n",
       "      <td>Panaroo_Strict_MergeParalogs</td>\n",
       "      <td>LongRead</td>\n",
       "      <td>All</td>\n",
       "      <td>Panaroo_Strict_MergeParalogs_LongRead</td>\n",
       "    </tr>\n",
       "  </tbody>\n",
       "</table>\n",
       "</div>"
      ],
      "text/plain": [
       "      Category                     Range  GeneCount Annotation                        Method   SeqType DataSet                          MethodAndTech\n",
       "0   Core genes  (99% <= strains <= 100%)       3035      Bakta  Panaroo_Strict_MergeParalogs  LongRead     All  Panaroo_Strict_MergeParalogs_LongRead\n",
       "4  Total genes   (0% <= strains <= 100%)      14410      Bakta  Panaroo_Strict_MergeParalogs  LongRead     All  Panaroo_Strict_MergeParalogs_LongRead"
      ]
     },
     "execution_count": 50,
     "metadata": {},
     "output_type": "execute_result"
    }
   ],
   "source": [
    "PG_Merged_Stats_LRandSR_DF.head(2)  "
   ]
  },
  {
   "cell_type": "code",
   "execution_count": null,
   "id": "f8b7b750-fab9-44e2-b79a-c132b890d843",
   "metadata": {},
   "outputs": [],
   "source": []
  },
  {
   "cell_type": "code",
   "execution_count": null,
   "id": "640028df-48bf-4271-880a-4e926c3bbbdb",
   "metadata": {},
   "outputs": [],
   "source": []
  },
  {
   "cell_type": "markdown",
   "id": "8d7de69e-f475-4b07-8d3a-cc993fe97ada",
   "metadata": {},
   "source": [
    "## Figure 1) Pan-genome predictions - LR vs SR - 3 pipelines - boxplot + stripplots"
   ]
  },
  {
   "cell_type": "code",
   "execution_count": 51,
   "id": "c5821e94-6a8d-42ce-8404-415d153122b1",
   "metadata": {},
   "outputs": [
    {
     "data": {
      "image/png": "[encoded data removed]",
      "text/plain": [
       "<Figure size 2016x432 with 3 Axes>"
      ]
     },
     "metadata": {
      "needs_background": "light"
     },
     "output_type": "display_data"
    }
   ],
   "source": [
    "fig, axs = plt.subplots(1, 3, figsize= (28, 6), sharey = False)\n",
    "sns.set_context(\"poster\")\n",
    "#sns.set_context(\"paper\", font_scale=1.5)\n",
    "\n",
    "sns.stripplot(y = \"Total genes\", x = \"SeqType\", hue = \"PangenomeTool\", data = PG_WideSumm_DF, linewidth=1, size = 12, dodge = True, edgecolor='gray', ax= axs[0] )\n",
    "sns.stripplot(y = \"Core genes\", x = \"SeqType\", hue = \"PangenomeTool\", data = PG_WideSumm_DF, linewidth=1, size = 12, dodge = True, edgecolor='gray', ax= axs[1] )\n",
    "sns.stripplot(y = \"Accessory genes\", x = \"SeqType\", hue = \"PangenomeTool\", data = PG_WideSumm_DF, linewidth=1, size = 12, dodge = True, edgecolor='gray', ax= axs[2] )\n",
    "\n",
    "sns.boxplot(y = \"Total genes\", x = \"SeqType\", palette = [\"grey\", \"grey\"], data = PG_WideSumm_DF, fliersize=0, ax= axs[0] , boxprops=dict(alpha=0.7) )\n",
    "sns.boxplot(y = \"Core genes\", x = \"SeqType\", palette = [\"grey\", \"grey\"], data = PG_WideSumm_DF, fliersize=0, ax= axs[1] , boxprops=dict(alpha=0.7) )\n",
    "sns.boxplot(y = \"Accessory genes\", x = \"SeqType\", palette = [\"grey\", \"grey\"], data = PG_WideSumm_DF, fliersize=0, ax= axs[2], boxprops=dict(alpha=0.7) )\n",
    "\n",
    "axs[0].set_title(\"Pangenome (Core + Accessory)\", fontsize= 20)\n",
    "axs[1].set_title(\"Core genome size\", fontsize= 20)\n",
    "axs[2].set_title(\"Accessory genome size\", fontsize= 20)\n",
    "\n",
    "axs[0].set_ylabel(\"Predicted # genes\", fontsize= 20), axs[1].set_ylabel(\"\"), axs[2].set_ylabel(\"\")\n",
    "# For all 3 \"ax\" set x tick labels\n",
    "for i_ax in axs:\n",
    "    i_ax.set_xticklabels(labels = [\"Hybrid Assembly\", \"Short Read Assembly\"], fontsize = 18)\n",
    "\n",
    "    #i_ax.set_ylim(0, 6250)\n",
    "    #i_ax.set_xlabel(\"\")\n",
    "\n",
    "axs[0].get_legend().remove()\n",
    "axs[1].get_legend().remove()\n",
    "\n",
    "sns.despine()\n",
    "#plt.savefig(\"Plots/4.PG.AllCounts.SRvsLR.WiBakta.Boxplots.png\", dpi = 300)\n",
    "#plt.savefig(\"Plots/4.PG.AllCounts.SRvsLR.WiBakta.Boxplots.svg\")  \n",
    "\n",
    "#axs[2].legend( bbox_to_anchor=(1.35 , 1))\n",
    "plt.show()"
   ]
  },
  {
   "cell_type": "code",
   "execution_count": null,
   "id": "e86baaf6-df76-489f-bc3f-247d00029e3d",
   "metadata": {},
   "outputs": [],
   "source": []
  },
  {
   "cell_type": "code",
   "execution_count": 52,
   "id": "0377a49a-a796-486b-9875-551f09eafce1",
   "metadata": {},
   "outputs": [],
   "source": [
    "import matplotlib.patches as mpatches\n"
   ]
  },
  {
   "cell_type": "markdown",
   "id": "77de3281-2d00-4990-ae73-38469f115b81",
   "metadata": {},
   "source": [
    "## Figure 2) Accessory genome predictions - Hybrid vs SR - Bakta + 3 pipelines"
   ]
  },
  {
   "cell_type": "code",
   "execution_count": 53,
   "id": "5e3c5299-512f-48e3-a912-74a829793906",
   "metadata": {},
   "outputs": [
    {
     "data": {
      "image/png": "[encoded data removed]",
      "text/plain": [
       "<Figure size 864x720 with 1 Axes>"
      ]
     },
     "metadata": {
      "needs_background": "light"
     },
     "output_type": "display_data"
    }
   ],
   "source": [
    "fig, axs = plt.subplots(1, 1, figsize= (12, 10), sharex=True)\n",
    "\n",
    "#sns.set_context(\"poster\")\n",
    "sns.set_context(\"paper\", font_scale=1.5)\n",
    "\n",
    "orderToPlot_X = ['Panaroo_Strict_MergeParalogs', 'Panaroo_Moderate_MergeParalogs',\n",
    "                 'Panaroo_Sensitive_MergeParalogs', 'Roary_NoSplitParalogs_I80', 'Roary_NoSplitParalogs_I90',\n",
    "                 'Roary_NoSplitParalogs',  'Roary_Default', ]\n",
    "\n",
    "\n",
    "sns.barplot(y = \"Method\", x = \"GeneCount\", hue = \"SeqType\", data = PG_Merged_Stats_LRandSR_Acc_DF, order = orderToPlot_X, ax = axs, palette = [\"#3F84E5\", \"#E85D75\"] )\n",
    "#plt.ylim(0, 5000)\n",
    "# \n",
    "#axs.set_ylabel(\"Pangenome Analysis Pipeline\")\n",
    "axs.set_ylabel(\"\")\n",
    "\n",
    "axs.set_xlabel(\"# of accessory genes\", fontsize = 20)\n",
    "\n",
    "\n",
    "Plot_TickLabels = ['Panaroo \\n (Strict & MergeParalogs)', 'Panaroo \\n (Moderate & MergeParalogs)',\n",
    "                 'Panaroo \\n (Sensitive & MergeParalogs)', 'Roary \\n (MergeParalogs & I80)', 'Roary \\n (MergeParalogs & I90)',\n",
    "                 'Roary \\n (MergeParalogs)',  'Roary \\n (Default)', ]\n",
    "\n",
    "axs.set_yticklabels(labels = Plot_TickLabels, rotation=0, fontdict = {\"fontsize\": 15})\n",
    "\n",
    "#axs.set_xticklabels(labels = Plot_TickLabels, rotation=45, fontdict = {\"fontsize\": 12})\n",
    "\n",
    "SR_patch = mpatches.Patch(color = \"#E85D75\", label='Short Read Assembly')\n",
    "Hybrid_patch = mpatches.Patch(color=\"#3F84E5\", label='Hybrid Assembly')\n",
    "\n",
    "#axs.legend(title = \"Assembly Type\", labels = [\"Hybrid Assembly\", \"Short Read Assembly\"], color = [\"#3F84E5\", \"#E85D75\"] )\n",
    "plt.legend(title = \"Assembly Type\", handles=[SR_patch, Hybrid_patch])\n",
    "\n",
    "#axs.set_title(\"Accessory genome size predictions\")\n",
    "#axs.set_title(\"Accessory gene counts: Hybrid vs SR assemblies\")\n",
    "sns.despine()\n",
    "plt.xticks(fontsize=25)\n",
    "#plt.savefig(\"Plots/4.PG.AccGeneCounts.SRvsLR.WiBakta.Barplot.png\", dpi = 300, bbox_inches=\"tight\")\n",
    "#plt.savefig(\"Plots/4.PG.AccGeneCounts.SRvsLR.WiBakta.Barplot.svg\", bbox_inches=\"tight\")\n",
    "\n",
    "#plt.xticks(labels = Plot_TickLabels, rotation=45)\n",
    "plt.show()"
   ]
  },
  {
   "cell_type": "code",
   "execution_count": 54,
   "id": "10106f0e-c257-4416-883d-41e109d9cc7f",
   "metadata": {},
   "outputs": [
    {
     "data": {
      "text/html": [
       "<div>\n",
       "<style scoped>\n",
       "    .dataframe tbody tr th:only-of-type {\n",
       "        vertical-align: middle;\n",
       "    }\n",
       "\n",
       "    .dataframe tbody tr th {\n",
       "        vertical-align: top;\n",
       "    }\n",
       "\n",
       "    .dataframe thead th {\n",
       "        text-align: right;\n",
       "    }\n",
       "</style>\n",
       "<table border=\"1\" class=\"dataframe\">\n",
       "  <thead>\n",
       "    <tr style=\"text-align: right;\">\n",
       "      <th></th>\n",
       "      <th>PangenomeTool</th>\n",
       "      <th>SeqType</th>\n",
       "      <th>Method</th>\n",
       "      <th>Total genes</th>\n",
       "      <th>Core genes</th>\n",
       "      <th>Accessory genes</th>\n",
       "      <th>Weight</th>\n",
       "    </tr>\n",
       "  </thead>\n",
       "  <tbody>\n",
       "    <tr>\n",
       "      <th>0</th>\n",
       "      <td>Panaroo</td>\n",
       "      <td>LongRead</td>\n",
       "      <td>Panaroo (Strict &amp; MergeParalogs)</td>\n",
       "      <td>14410</td>\n",
       "      <td>3035</td>\n",
       "      <td>11375</td>\n",
       "      <td>10688.5</td>\n",
       "    </tr>\n",
       "    <tr>\n",
       "      <th>7</th>\n",
       "      <td>Panaroo</td>\n",
       "      <td>ShortRead</td>\n",
       "      <td>Panaroo (Strict &amp; MergeParalogs)</td>\n",
       "      <td>12836</td>\n",
       "      <td>2834</td>\n",
       "      <td>10002</td>\n",
       "      <td>10688.5</td>\n",
       "    </tr>\n",
       "  </tbody>\n",
       "</table>\n",
       "</div>"
      ],
      "text/plain": [
       "  PangenomeTool    SeqType                            Method  Total genes  Core genes  Accessory genes   Weight\n",
       "0       Panaroo   LongRead  Panaroo (Strict & MergeParalogs)        14410        3035            11375  10688.5\n",
       "7       Panaroo  ShortRead  Panaroo (Strict & MergeParalogs)        12836        2834            10002  10688.5"
      ]
     },
     "execution_count": 54,
     "metadata": {},
     "output_type": "execute_result"
    }
   ],
   "source": [
    "PG_WideSumm_V2_DF.head(2)"
   ]
  },
  {
   "cell_type": "code",
   "execution_count": 55,
   "id": "92546439-ee59-4098-9d9e-3f41113658ac",
   "metadata": {},
   "outputs": [
    {
     "data": {
      "text/html": [
       "<div>\n",
       "<style scoped>\n",
       "    .dataframe tbody tr th:only-of-type {\n",
       "        vertical-align: middle;\n",
       "    }\n",
       "\n",
       "    .dataframe tbody tr th {\n",
       "        vertical-align: top;\n",
       "    }\n",
       "\n",
       "    .dataframe thead th {\n",
       "        text-align: right;\n",
       "    }\n",
       "</style>\n",
       "<table border=\"1\" class=\"dataframe\">\n",
       "  <thead>\n",
       "    <tr style=\"text-align: right;\">\n",
       "      <th></th>\n",
       "      <th>Category</th>\n",
       "      <th>Range</th>\n",
       "      <th>GeneCount</th>\n",
       "      <th>Annotation</th>\n",
       "      <th>Method</th>\n",
       "      <th>SeqType</th>\n",
       "      <th>DataSet</th>\n",
       "      <th>MethodAndTech</th>\n",
       "    </tr>\n",
       "  </thead>\n",
       "  <tbody>\n",
       "    <tr>\n",
       "      <th>4</th>\n",
       "      <td>Total genes</td>\n",
       "      <td>(0% &lt;= strains &lt;= 100%)</td>\n",
       "      <td>14410</td>\n",
       "      <td>Bakta</td>\n",
       "      <td>Panaroo_Strict_MergeParalogs</td>\n",
       "      <td>LongRead</td>\n",
       "      <td>All</td>\n",
       "      <td>Panaroo_Strict_MergeParalogs_LongRead</td>\n",
       "    </tr>\n",
       "  </tbody>\n",
       "</table>\n",
       "</div>"
      ],
      "text/plain": [
       "      Category                    Range  GeneCount Annotation                        Method   SeqType DataSet                          MethodAndTech\n",
       "4  Total genes  (0% <= strains <= 100%)      14410      Bakta  Panaroo_Strict_MergeParalogs  LongRead     All  Panaroo_Strict_MergeParalogs_LongRead"
      ]
     },
     "execution_count": 55,
     "metadata": {},
     "output_type": "execute_result"
    }
   ],
   "source": [
    "PG_Merged_Stats_LRandSR_Pangenome_DF.head(1)"
   ]
  },
  {
   "cell_type": "code",
   "execution_count": 56,
   "id": "fac7788f-9792-479f-b2a2-ed3403f7d9a9",
   "metadata": {},
   "outputs": [
    {
     "data": {
      "text/html": [
       "<div>\n",
       "<style scoped>\n",
       "    .dataframe tbody tr th:only-of-type {\n",
       "        vertical-align: middle;\n",
       "    }\n",
       "\n",
       "    .dataframe tbody tr th {\n",
       "        vertical-align: top;\n",
       "    }\n",
       "\n",
       "    .dataframe thead th {\n",
       "        text-align: right;\n",
       "    }\n",
       "</style>\n",
       "<table border=\"1\" class=\"dataframe\">\n",
       "  <thead>\n",
       "    <tr style=\"text-align: right;\">\n",
       "      <th></th>\n",
       "      <th>Category</th>\n",
       "      <th>Range</th>\n",
       "      <th>GeneCount</th>\n",
       "      <th>Annotation</th>\n",
       "      <th>Method</th>\n",
       "      <th>SeqType</th>\n",
       "      <th>DataSet</th>\n",
       "      <th>MethodAndTech</th>\n",
       "    </tr>\n",
       "  </thead>\n",
       "  <tbody>\n",
       "    <tr>\n",
       "      <th>5</th>\n",
       "      <td>Accessory genes</td>\n",
       "      <td>(0% &lt;= strains &lt; 99%)</td>\n",
       "      <td>11375</td>\n",
       "      <td>Bakta</td>\n",
       "      <td>Panaroo_Strict_MergeParalogs</td>\n",
       "      <td>LongRead</td>\n",
       "      <td>All</td>\n",
       "      <td>Panaroo_Strict_MergeParalogs_LongRead</td>\n",
       "    </tr>\n",
       "    <tr>\n",
       "      <th>5</th>\n",
       "      <td>Accessory genes</td>\n",
       "      <td>(0% &lt;= strains &lt; 99%)</td>\n",
       "      <td>11605</td>\n",
       "      <td>Bakta</td>\n",
       "      <td>Panaroo_Moderate_MergeParalogs</td>\n",
       "      <td>LongRead</td>\n",
       "      <td>All</td>\n",
       "      <td>Panaroo_Moderate_MergeParalogs_LongRead</td>\n",
       "    </tr>\n",
       "    <tr>\n",
       "      <th>5</th>\n",
       "      <td>Accessory genes</td>\n",
       "      <td>(0% &lt;= strains &lt; 99%)</td>\n",
       "      <td>11996</td>\n",
       "      <td>Bakta</td>\n",
       "      <td>Panaroo_Sensitive_MergeParalogs</td>\n",
       "      <td>LongRead</td>\n",
       "      <td>All</td>\n",
       "      <td>Panaroo_Sensitive_MergeParalogs_LongRead</td>\n",
       "    </tr>\n",
       "  </tbody>\n",
       "</table>\n",
       "</div>"
      ],
      "text/plain": [
       "          Category                  Range  GeneCount Annotation                           Method   SeqType DataSet                             MethodAndTech\n",
       "5  Accessory genes  (0% <= strains < 99%)      11375      Bakta     Panaroo_Strict_MergeParalogs  LongRead     All     Panaroo_Strict_MergeParalogs_LongRead\n",
       "5  Accessory genes  (0% <= strains < 99%)      11605      Bakta   Panaroo_Moderate_MergeParalogs  LongRead     All   Panaroo_Moderate_MergeParalogs_LongRead\n",
       "5  Accessory genes  (0% <= strains < 99%)      11996      Bakta  Panaroo_Sensitive_MergeParalogs  LongRead     All  Panaroo_Sensitive_MergeParalogs_LongRead"
      ]
     },
     "execution_count": 56,
     "metadata": {},
     "output_type": "execute_result"
    }
   ],
   "source": [
    "PG_Merged_Stats_LRandSR_Acc_DF.head(3)"
   ]
  },
  {
   "cell_type": "code",
   "execution_count": null,
   "id": "6cbae14b-6440-468f-81ee-995ae0a819b6",
   "metadata": {},
   "outputs": [],
   "source": []
  },
  {
   "cell_type": "code",
   "execution_count": null,
   "id": "66e91ed8-8877-402f-bc36-8e264e50c1ee",
   "metadata": {},
   "outputs": [],
   "source": []
  },
  {
   "cell_type": "markdown",
   "id": "8510f3a6-fdd2-4db6-abf3-f9f32c27c5b4",
   "metadata": {},
   "source": [
    "## Figure 3) (Supp Figure) Overall Pangenome predictions - Hybrid vs SR - Bakta + 3 pipelines"
   ]
  },
  {
   "cell_type": "code",
   "execution_count": 57,
   "id": "ea3f7704-c346-4acb-8428-21464f67246d",
   "metadata": {},
   "outputs": [
    {
     "data": {
      "image/png": "[encoded data removed]",
      "text/plain": [
       "<Figure size 2160x864 with 3 Axes>"
      ]
     },
     "metadata": {
      "needs_background": "light"
     },
     "output_type": "display_data"
    }
   ],
   "source": [
    "fig, axs = plt.subplots(1, 3, figsize= (30, 12), sharex=False, sharey=True)\n",
    "sns.set_context(\"poster\")\n",
    "\n",
    "orderToPlot_X = ['Panaroo_Strict_MergeParalogs', 'Panaroo_Moderate_MergeParalogs',\n",
    "                 'Panaroo_Sensitive_MergeParalogs', 'Roary_NoSplitParalogs_I80', 'Roary_NoSplitParalogs_I90',\n",
    "                 'Roary_NoSplitParalogs',  'Roary_Default', ]\n",
    "\n",
    "sns.barplot(y = \"Method\", x = \"GeneCount\", hue = \"SeqType\", data = PG_Merged_Stats_LRandSR_Pangenome_DF, order = orderToPlot_X, ax = axs[0], palette = [\"#3F84E5\", \"#E85D75\"] )\n",
    "sns.barplot(y = \"Method\", x = \"GeneCount\", hue = \"SeqType\", data = PG_Merged_Stats_LRandSR_Core_DF, order = orderToPlot_X, ax = axs[1], palette = [\"#3F84E5\", \"#E85D75\"] )\n",
    "sns.barplot(y = \"Method\", x = \"GeneCount\", hue = \"SeqType\", data = PG_Merged_Stats_LRandSR_Acc_DF, order = orderToPlot_X, ax = axs[2], palette = [\"#3F84E5\", \"#E85D75\"] )\n",
    "\n",
    "#axs[0].set_ylabel(\"Pipeline\", rotation=0,)\n",
    "axs[0].set_ylabel(\"\")\n",
    "axs[1].set_ylabel(\"\"), axs[2].set_ylabel(\"\")\n",
    "\n",
    "axs[0].set_xlabel(\"# of genes\", rotation=0,)\n",
    "axs[1].set_xlabel(\"# of genes\", rotation=0,)\n",
    "axs[2].set_xlabel(\"# of genes\", rotation=0,)\n",
    "\n",
    "\n",
    "Plot_TickLabels = ['Panaroo \\n (Strict & MergeParalogs)', 'Panaroo \\n (Moderate & MergeParalogs)',\n",
    "                 'Panaroo \\n (Sensitive & MergeParalogs)', 'Roary \\n (MergeParalogs & I80)', 'Roary \\n (MergeParalogs & I90)',\n",
    "                 'Roary \\n (MergeParalogs)',  'Roary \\n (Default)', ]\n",
    "\n",
    "\n",
    "# For all 3 \"ax\" set x tick labels\n",
    "for i_ax in axs:\n",
    "    i_ax.set_yticklabels(labels = Plot_TickLabels, rotation=0, fontdict = {\"fontsize\": 15})\n",
    "    #i_ax.set_yticklabels(labels = Plot_TickLabels, rotation=0)\n",
    "\n",
    "    \n",
    "SR_patch = mpatches.Patch(color = \"#E85D75\", label='Short Read Assembly')\n",
    "Hybrid_patch = mpatches.Patch(color=\"#3F84E5\", label='Hybrid Assembly')\n",
    "\n",
    "#axs[0].legend(title = \"Assembly Type\", handles=[SR_patch, Hybrid_patch], bbox_to_anchor=(1.5 , 1.01))\n",
    "#axs[1].legend(title = \"Assembly Type\", handles=[SR_patch, Hybrid_patch], bbox_to_anchor=(1.005 , 1))\n",
    "axs[2].legend(title = \"Assembly Type\", handles=[SR_patch, Hybrid_patch], bbox_to_anchor=(1.50 , 1))\n",
    "\n",
    "axs[0].get_legend().remove(), axs[1].get_legend().remove()\n",
    "\n",
    "\n",
    "axs[0].set_title(\"Pangenome size \\n(Core + Accessory)\")\n",
    "axs[1].set_title(\"Core genome size\")\n",
    "axs[2].set_title(\"Accessory genome size\")\n",
    "sns.despine()\n",
    "#plt.xticks(labels = Plot_TickLabels, rotation=45)\n",
    "plt.show()"
   ]
  },
  {
   "cell_type": "code",
   "execution_count": null,
   "id": "0ab1fdcd-446f-4e98-9de4-829e6dfe7c36",
   "metadata": {},
   "outputs": [],
   "source": []
  },
  {
   "cell_type": "code",
   "execution_count": null,
   "id": "7fbe6f16-47bb-41ae-b504-f90afda20906",
   "metadata": {},
   "outputs": [],
   "source": []
  },
  {
   "cell_type": "markdown",
   "id": "a21489d3-32b9-496c-a5f9-529bddddd5a2",
   "metadata": {},
   "source": [
    "# Try to make side-by-side core vs acc genome comparison plots"
   ]
  },
  {
   "cell_type": "code",
   "execution_count": 58,
   "id": "e7e315e9-1b87-48a0-9d07-78b97b62baec",
   "metadata": {},
   "outputs": [
    {
     "data": {
      "text/plain": [
       "array(['Core genes', 'Total genes', 'Accessory genes'], dtype=object)"
      ]
     },
     "execution_count": 58,
     "metadata": {},
     "output_type": "execute_result"
    }
   ],
   "source": [
    "PG_Merged_Stats_LRandSR_DF[\"Category\"].unique()"
   ]
  },
  {
   "cell_type": "code",
   "execution_count": null,
   "id": "c2b5a2e9-12e3-4c8c-9055-682771311321",
   "metadata": {},
   "outputs": [],
   "source": []
  },
  {
   "cell_type": "code",
   "execution_count": 59,
   "id": "373ab4e4-c7bf-4bb9-9c18-95adc755af07",
   "metadata": {},
   "outputs": [
    {
     "data": {
      "text/html": [
       "<div>\n",
       "<style scoped>\n",
       "    .dataframe tbody tr th:only-of-type {\n",
       "        vertical-align: middle;\n",
       "    }\n",
       "\n",
       "    .dataframe tbody tr th {\n",
       "        vertical-align: top;\n",
       "    }\n",
       "\n",
       "    .dataframe thead th {\n",
       "        text-align: right;\n",
       "    }\n",
       "</style>\n",
       "<table border=\"1\" class=\"dataframe\">\n",
       "  <thead>\n",
       "    <tr style=\"text-align: right;\">\n",
       "      <th></th>\n",
       "      <th>Category</th>\n",
       "      <th>Range</th>\n",
       "      <th>GeneCount</th>\n",
       "      <th>Annotation</th>\n",
       "      <th>Method</th>\n",
       "      <th>SeqType</th>\n",
       "      <th>DataSet</th>\n",
       "      <th>MethodAndTech</th>\n",
       "    </tr>\n",
       "  </thead>\n",
       "  <tbody>\n",
       "    <tr>\n",
       "      <th>0</th>\n",
       "      <td>Core genes</td>\n",
       "      <td>(99% &lt;= strains &lt;= 100%)</td>\n",
       "      <td>3035</td>\n",
       "      <td>Bakta</td>\n",
       "      <td>Panaroo_Strict_MergeParalogs</td>\n",
       "      <td>LongRead</td>\n",
       "      <td>All</td>\n",
       "      <td>Panaroo_Strict_MergeParalogs_LongRead</td>\n",
       "    </tr>\n",
       "    <tr>\n",
       "      <th>4</th>\n",
       "      <td>Total genes</td>\n",
       "      <td>(0% &lt;= strains &lt;= 100%)</td>\n",
       "      <td>14410</td>\n",
       "      <td>Bakta</td>\n",
       "      <td>Panaroo_Strict_MergeParalogs</td>\n",
       "      <td>LongRead</td>\n",
       "      <td>All</td>\n",
       "      <td>Panaroo_Strict_MergeParalogs_LongRead</td>\n",
       "    </tr>\n",
       "  </tbody>\n",
       "</table>\n",
       "</div>"
      ],
      "text/plain": [
       "      Category                     Range  GeneCount Annotation                        Method   SeqType DataSet                          MethodAndTech\n",
       "0   Core genes  (99% <= strains <= 100%)       3035      Bakta  Panaroo_Strict_MergeParalogs  LongRead     All  Panaroo_Strict_MergeParalogs_LongRead\n",
       "4  Total genes   (0% <= strains <= 100%)      14410      Bakta  Panaroo_Strict_MergeParalogs  LongRead     All  Panaroo_Strict_MergeParalogs_LongRead"
      ]
     },
     "execution_count": 59,
     "metadata": {},
     "output_type": "execute_result"
    }
   ],
   "source": [
    "PG_Merged_Stats_LRandSR_DF.head(2)"
   ]
  },
  {
   "cell_type": "code",
   "execution_count": 60,
   "id": "64a49961-1db6-4cd9-a230-30a177740020",
   "metadata": {},
   "outputs": [
    {
     "data": {
      "text/html": [
       "<div>\n",
       "<style scoped>\n",
       "    .dataframe tbody tr th:only-of-type {\n",
       "        vertical-align: middle;\n",
       "    }\n",
       "\n",
       "    .dataframe tbody tr th {\n",
       "        vertical-align: top;\n",
       "    }\n",
       "\n",
       "    .dataframe thead th {\n",
       "        text-align: right;\n",
       "    }\n",
       "</style>\n",
       "<table border=\"1\" class=\"dataframe\">\n",
       "  <thead>\n",
       "    <tr style=\"text-align: right;\">\n",
       "      <th></th>\n",
       "      <th>Category</th>\n",
       "      <th>Range</th>\n",
       "      <th>GeneCount</th>\n",
       "      <th>Annotation</th>\n",
       "      <th>Method</th>\n",
       "      <th>SeqType</th>\n",
       "      <th>DataSet</th>\n",
       "      <th>MethodAndTech</th>\n",
       "    </tr>\n",
       "  </thead>\n",
       "  <tbody>\n",
       "    <tr>\n",
       "      <th>0</th>\n",
       "      <td>Core genes</td>\n",
       "      <td>(99% &lt;= strains &lt;= 100%)</td>\n",
       "      <td>3035</td>\n",
       "      <td>Bakta</td>\n",
       "      <td>Panaroo_Strict_MergeParalogs</td>\n",
       "      <td>LongRead</td>\n",
       "      <td>All</td>\n",
       "      <td>Panaroo_Strict_MergeParalogs_LongRead</td>\n",
       "    </tr>\n",
       "    <tr>\n",
       "      <th>5</th>\n",
       "      <td>Accessory genes</td>\n",
       "      <td>(0% &lt;= strains &lt; 99%)</td>\n",
       "      <td>11375</td>\n",
       "      <td>Bakta</td>\n",
       "      <td>Panaroo_Strict_MergeParalogs</td>\n",
       "      <td>LongRead</td>\n",
       "      <td>All</td>\n",
       "      <td>Panaroo_Strict_MergeParalogs_LongRead</td>\n",
       "    </tr>\n",
       "    <tr>\n",
       "      <th>0</th>\n",
       "      <td>Core genes</td>\n",
       "      <td>(99% &lt;= strains &lt;= 100%)</td>\n",
       "      <td>3036</td>\n",
       "      <td>Bakta</td>\n",
       "      <td>Panaroo_Moderate_MergeParalogs</td>\n",
       "      <td>LongRead</td>\n",
       "      <td>All</td>\n",
       "      <td>Panaroo_Moderate_MergeParalogs_LongRead</td>\n",
       "    </tr>\n",
       "    <tr>\n",
       "      <th>5</th>\n",
       "      <td>Accessory genes</td>\n",
       "      <td>(0% &lt;= strains &lt; 99%)</td>\n",
       "      <td>11605</td>\n",
       "      <td>Bakta</td>\n",
       "      <td>Panaroo_Moderate_MergeParalogs</td>\n",
       "      <td>LongRead</td>\n",
       "      <td>All</td>\n",
       "      <td>Panaroo_Moderate_MergeParalogs_LongRead</td>\n",
       "    </tr>\n",
       "  </tbody>\n",
       "</table>\n",
       "</div>"
      ],
      "text/plain": [
       "          Category                     Range  GeneCount Annotation                          Method   SeqType DataSet                            MethodAndTech\n",
       "0       Core genes  (99% <= strains <= 100%)       3035      Bakta    Panaroo_Strict_MergeParalogs  LongRead     All    Panaroo_Strict_MergeParalogs_LongRead\n",
       "5  Accessory genes     (0% <= strains < 99%)      11375      Bakta    Panaroo_Strict_MergeParalogs  LongRead     All    Panaroo_Strict_MergeParalogs_LongRead\n",
       "0       Core genes  (99% <= strains <= 100%)       3036      Bakta  Panaroo_Moderate_MergeParalogs  LongRead     All  Panaroo_Moderate_MergeParalogs_LongRead\n",
       "5  Accessory genes     (0% <= strains < 99%)      11605      Bakta  Panaroo_Moderate_MergeParalogs  LongRead     All  Panaroo_Moderate_MergeParalogs_LongRead"
      ]
     },
     "execution_count": 60,
     "metadata": {},
     "output_type": "execute_result"
    }
   ],
   "source": [
    "PG_Merged_Stats_LRandSR_AccAndCore_DF = PG_Merged_Stats_LRandSR_DF.query(\" Category != 'Total genes' \")\n",
    "PG_Merged_Stats_LRandSR_AccAndCore_DF.head(4)"
   ]
  },
  {
   "cell_type": "code",
   "execution_count": null,
   "id": "41bb1a5b-64ff-4b0d-a9a2-8b0eb0d127d7",
   "metadata": {},
   "outputs": [],
   "source": []
  },
  {
   "cell_type": "code",
   "execution_count": 61,
   "id": "30310285-1854-427e-8bcf-51a9d1538cab",
   "metadata": {},
   "outputs": [
    {
     "data": {
      "text/plain": [
       "(14, 8)"
      ]
     },
     "execution_count": 61,
     "metadata": {},
     "output_type": "execute_result"
    }
   ],
   "source": [
    "PG_Merged_Stats_LR_AccAndCore_DF = PG_Merged_Stats_LRandSR_AccAndCore_DF.query(\" SeqType == 'LongRead' \")\n",
    "PG_Merged_Stats_LR_AccAndCore_DF.shape"
   ]
  },
  {
   "cell_type": "code",
   "execution_count": 62,
   "id": "7d9cec38-9321-4df0-9bfb-cfe708a79556",
   "metadata": {},
   "outputs": [
    {
     "data": {
      "text/plain": [
       "(14, 8)"
      ]
     },
     "execution_count": 62,
     "metadata": {},
     "output_type": "execute_result"
    }
   ],
   "source": [
    "PG_Merged_Stats_SR_AccAndCore_DF = PG_Merged_Stats_LRandSR_AccAndCore_DF.query(\" SeqType == 'ShortRead' \")\n",
    "PG_Merged_Stats_SR_AccAndCore_DF.shape"
   ]
  },
  {
   "cell_type": "code",
   "execution_count": null,
   "id": "08efef93-489a-43c4-a3b9-1c6dcf625c58",
   "metadata": {},
   "outputs": [],
   "source": []
  },
  {
   "cell_type": "code",
   "execution_count": 63,
   "id": "1345b004-9e3c-45f6-a62e-894ab7750171",
   "metadata": {},
   "outputs": [
    {
     "data": {
      "image/png": "[encoded data removed]",
      "text/plain": [
       "<Figure size 1440x720 with 2 Axes>"
      ]
     },
     "metadata": {
      "needs_background": "light"
     },
     "output_type": "display_data"
    }
   ],
   "source": [
    "fig, axs = plt.subplots(1, 2, figsize= (20, 10), sharey=True)\n",
    "\n",
    "#sns.set_context(\"poster\")\n",
    "sns.set_context(\"paper\", font_scale=1.5)\n",
    "\n",
    "orderToPlot_X = ['Panaroo_Strict_MergeParalogs', 'Panaroo_Moderate_MergeParalogs',\n",
    "                 'Panaroo_Sensitive_MergeParalogs', 'Roary_NoSplitParalogs_I80', 'Roary_NoSplitParalogs_I90',\n",
    "                 'Roary_NoSplitParalogs',  'Roary_Default', ]\n",
    "\n",
    "\n",
    "sns.barplot(y = \"Method\", x = \"GeneCount\", hue = \"Category\", data = PG_Merged_Stats_LR_AccAndCore_DF, order = orderToPlot_X, ax = axs[0], palette = [\"#3F84E5\", \"#E85D75\"] )\n",
    "sns.barplot(y = \"Method\", x = \"GeneCount\", hue = \"Category\", data = PG_Merged_Stats_SR_AccAndCore_DF, order = orderToPlot_X, ax = axs[1], palette = [\"#3F84E5\", \"#E85D75\"] )\n",
    "\n",
    "#axs[0].set_xlim(0, 4000)\n",
    "#axs[1].set_xlim(0, 4000)\n",
    "\n",
    "axs[0].set_ylabel(\"\")\n",
    "axs[1].set_ylabel(\"\")\n",
    "\n",
    "axs[0].set_xlabel(\"# of genes\", fontsize = 20)\n",
    "axs[1].set_xlabel(\"# of genes\", fontsize = 20)\n",
    "\n",
    "\n",
    "\n",
    "Plot_TickLabels = ['Panaroo \\n (Strict & MergeParalogs)', 'Panaroo \\n (Moderate & MergeParalogs)',\n",
    "                 'Panaroo \\n (Sensitive & MergeParalogs)', 'Roary \\n (MergeParalogs & I80)', 'Roary \\n (MergeParalogs & I90)',\n",
    "                 'Roary \\n (MergeParalogs)',  'Roary \\n (Default)', ]\n",
    "\n",
    "axs[0].set_yticklabels(labels = Plot_TickLabels, rotation=0, fontdict = {\"fontsize\": 15})\n",
    "axs[1].set_yticklabels(labels = Plot_TickLabels, rotation=0, fontdict = {\"fontsize\": 15})\n",
    "\n",
    "#axs.set_xticklabels(labels = Plot_TickLabels, rotation=45, fontdict = {\"fontsize\": 12})\n",
    "\n",
    "#SR_patch = mpatches.Patch(color = \"#E85D75\", label='Short Read Assembly')\n",
    "#Hybrid_patch = mpatches.Patch(color=\"#3F84E5\", label='Hybrid Assembly')\n",
    "\n",
    "#axs[0].legend(title = \"Genome Part\", labels = [\"Core\", \"Accessory\"], color = [\"#3F84E5\", \"#E85D75\"] )\n",
    "#plt.legend(title = \"Assembly Type\", handles=[SR_patch, Hybrid_patch])\n",
    "\n",
    "#axs[2].legend(title = \"Assembly Type\", handles=[SR_patch, Hybrid_patch], bbox_to_anchor=(1.50 , 1))\n",
    "#axs[0].get_legend().remove(), axs[1].get_legend().remove()\n",
    "axs[0].get_legend().remove()\n",
    "axs[1].get_legend().remove()\n",
    "\n",
    "#axs.set_title(\"Accessory genome size predictions\")\n",
    "#axs.set_title(\"Accessory gene counts: Hybrid vs SR assemblies\")\n",
    "sns.despine()\n",
    "#plt.xticks(fontsize=25)\n",
    "#plt.savefig(\"Plots/4.PG.AccGeneCounts.SRvsLR.WiBakta.Barplot.png\", dpi = 300)\n",
    "#plt.savefig(\"Plots/4.PG.AccGeneCounts.SRvsLR.WiBakta.Barplot.svg\")\n",
    "\n",
    "#plt.xticks(labels = Plot_TickLabels, rotation=45)\n",
    "plt.show()"
   ]
  },
  {
   "cell_type": "code",
   "execution_count": null,
   "id": "7e7205db-300a-4205-8c34-282ff3f1c672",
   "metadata": {},
   "outputs": [],
   "source": []
  },
  {
   "cell_type": "code",
   "execution_count": null,
   "id": "2e68660b-630e-45e5-8b8a-8fe13b1d99bc",
   "metadata": {},
   "outputs": [],
   "source": []
  },
  {
   "cell_type": "code",
   "execution_count": null,
   "id": "9503ad7a-f309-48cc-9b94-f244703b356d",
   "metadata": {},
   "outputs": [],
   "source": []
  },
  {
   "cell_type": "code",
   "execution_count": 64,
   "id": "c4df0f78-cdf5-4ab6-99d6-81a09803da48",
   "metadata": {},
   "outputs": [
    {
     "ename": "NameError",
     "evalue": "name 'PG_Merged_Stats_SeqAndAnnoType_Acc_DF' is not defined",
     "output_type": "error",
     "traceback": [
      "\u001b[0;31m---------------------------------------------------------------------------\u001b[0m",
      "\u001b[0;31mNameError\u001b[0m                                 Traceback (most recent call last)",
      "\u001b[0;32m<ipython-input-64-abd2c2987e4e>\u001b[0m in \u001b[0;36m<module>\u001b[0;34m\u001b[0m\n\u001b[0;32m----> 1\u001b[0;31m \u001b[0mPG_Merged_Stats_SeqAndAnnoType_Acc_DF\u001b[0m\u001b[0;34m.\u001b[0m\u001b[0mhead\u001b[0m\u001b[0;34m(\u001b[0m\u001b[0;36m4\u001b[0m\u001b[0;34m)\u001b[0m\u001b[0;34m\u001b[0m\u001b[0;34m\u001b[0m\u001b[0m\n\u001b[0m",
      "\u001b[0;31mNameError\u001b[0m: name 'PG_Merged_Stats_SeqAndAnnoType_Acc_DF' is not defined"
     ]
    }
   ],
   "source": [
    "PG_Merged_Stats_SeqAndAnnoType_Acc_DF.head(4)"
   ]
  },
  {
   "cell_type": "code",
   "execution_count": null,
   "id": "8cee65fe-f4cc-4959-9ce9-639d66b278cb",
   "metadata": {},
   "outputs": [],
   "source": []
  },
  {
   "cell_type": "code",
   "execution_count": 65,
   "id": "b7eaef11-5d4e-474d-ad56-5ae0470c8034",
   "metadata": {},
   "outputs": [
    {
     "ename": "ValueError",
     "evalue": "Could not interpret input 'PangenomeTool'",
     "output_type": "error",
     "traceback": [
      "\u001b[0;31m---------------------------------------------------------------------------\u001b[0m",
      "\u001b[0;31mValueError\u001b[0m                                Traceback (most recent call last)",
      "\u001b[0;32m<ipython-input-65-0b7fe75958cf>\u001b[0m in \u001b[0;36m<module>\u001b[0;34m\u001b[0m\n\u001b[1;32m     19\u001b[0m \u001b[0;34m\u001b[0m\u001b[0m\n\u001b[1;32m     20\u001b[0m sns.stripplot(y = \"GeneCount\", x = \"PangenomeTool\", hue = \"AnnoAndTech\", data = PG_Merged_Stats_LRandSR_Acc_DF, linewidth=1, size = 12, palette = AnnoAndTech_hue_Color_Dict, hue_order = hue_orderToPlot_V2, \n\u001b[0;32m---> 21\u001b[0;31m               alpha=0.9, dodge = True, edgecolor='gray', ax= axs[0])\n\u001b[0m\u001b[1;32m     22\u001b[0m \u001b[0;34m\u001b[0m\u001b[0m\n\u001b[1;32m     23\u001b[0m sns.boxplot(y = \"GeneCount\", x = \"PangenomeTool\", hue = \"AnnoAndTech\", data = PG_Merged_Stats_LRandSR_Acc_DF, fliersize=0, palette = AnnoAndTech_hue_Color_Dict, hue_order = hue_orderToPlot_V2,\n",
      "\u001b[0;32m~/conda3/envs/py37_S/lib/python3.7/site-packages/seaborn/_decorators.py\u001b[0m in \u001b[0;36minner_f\u001b[0;34m(*args, **kwargs)\u001b[0m\n\u001b[1;32m     44\u001b[0m             )\n\u001b[1;32m     45\u001b[0m         \u001b[0mkwargs\u001b[0m\u001b[0;34m.\u001b[0m\u001b[0mupdate\u001b[0m\u001b[0;34m(\u001b[0m\u001b[0;34m{\u001b[0m\u001b[0mk\u001b[0m\u001b[0;34m:\u001b[0m \u001b[0marg\u001b[0m \u001b[0;32mfor\u001b[0m \u001b[0mk\u001b[0m\u001b[0;34m,\u001b[0m \u001b[0marg\u001b[0m \u001b[0;32min\u001b[0m \u001b[0mzip\u001b[0m\u001b[0;34m(\u001b[0m\u001b[0msig\u001b[0m\u001b[0;34m.\u001b[0m\u001b[0mparameters\u001b[0m\u001b[0;34m,\u001b[0m \u001b[0margs\u001b[0m\u001b[0;34m)\u001b[0m\u001b[0;34m}\u001b[0m\u001b[0;34m)\u001b[0m\u001b[0;34m\u001b[0m\u001b[0;34m\u001b[0m\u001b[0m\n\u001b[0;32m---> 46\u001b[0;31m         \u001b[0;32mreturn\u001b[0m \u001b[0mf\u001b[0m\u001b[0;34m(\u001b[0m\u001b[0;34m**\u001b[0m\u001b[0mkwargs\u001b[0m\u001b[0;34m)\u001b[0m\u001b[0;34m\u001b[0m\u001b[0;34m\u001b[0m\u001b[0m\n\u001b[0m\u001b[1;32m     47\u001b[0m     \u001b[0;32mreturn\u001b[0m \u001b[0minner_f\u001b[0m\u001b[0;34m\u001b[0m\u001b[0;34m\u001b[0m\u001b[0m\n\u001b[1;32m     48\u001b[0m \u001b[0;34m\u001b[0m\u001b[0m\n",
      "\u001b[0;32m~/conda3/envs/py37_S/lib/python3.7/site-packages/seaborn/categorical.py\u001b[0m in \u001b[0;36mstripplot\u001b[0;34m(x, y, hue, data, order, hue_order, jitter, dodge, orient, color, palette, size, edgecolor, linewidth, ax, **kwargs)\u001b[0m\n\u001b[1;32m   2793\u001b[0m \u001b[0;34m\u001b[0m\u001b[0m\n\u001b[1;32m   2794\u001b[0m     plotter = _StripPlotter(x, y, hue, data, order, hue_order,\n\u001b[0;32m-> 2795\u001b[0;31m                             jitter, dodge, orient, color, palette)\n\u001b[0m\u001b[1;32m   2796\u001b[0m     \u001b[0;32mif\u001b[0m \u001b[0max\u001b[0m \u001b[0;32mis\u001b[0m \u001b[0;32mNone\u001b[0m\u001b[0;34m:\u001b[0m\u001b[0;34m\u001b[0m\u001b[0;34m\u001b[0m\u001b[0m\n\u001b[1;32m   2797\u001b[0m         \u001b[0max\u001b[0m \u001b[0;34m=\u001b[0m \u001b[0mplt\u001b[0m\u001b[0;34m.\u001b[0m\u001b[0mgca\u001b[0m\u001b[0;34m(\u001b[0m\u001b[0;34m)\u001b[0m\u001b[0;34m\u001b[0m\u001b[0;34m\u001b[0m\u001b[0m\n",
      "\u001b[0;32m~/conda3/envs/py37_S/lib/python3.7/site-packages/seaborn/categorical.py\u001b[0m in \u001b[0;36m__init__\u001b[0;34m(self, x, y, hue, data, order, hue_order, jitter, dodge, orient, color, palette)\u001b[0m\n\u001b[1;32m   1097\u001b[0m                  jitter, dodge, orient, color, palette):\n\u001b[1;32m   1098\u001b[0m         \u001b[0;34m\"\"\"Initialize the plotter.\"\"\"\u001b[0m\u001b[0;34m\u001b[0m\u001b[0;34m\u001b[0m\u001b[0m\n\u001b[0;32m-> 1099\u001b[0;31m         \u001b[0mself\u001b[0m\u001b[0;34m.\u001b[0m\u001b[0mestablish_variables\u001b[0m\u001b[0;34m(\u001b[0m\u001b[0mx\u001b[0m\u001b[0;34m,\u001b[0m \u001b[0my\u001b[0m\u001b[0;34m,\u001b[0m \u001b[0mhue\u001b[0m\u001b[0;34m,\u001b[0m \u001b[0mdata\u001b[0m\u001b[0;34m,\u001b[0m \u001b[0morient\u001b[0m\u001b[0;34m,\u001b[0m \u001b[0morder\u001b[0m\u001b[0;34m,\u001b[0m \u001b[0mhue_order\u001b[0m\u001b[0;34m)\u001b[0m\u001b[0;34m\u001b[0m\u001b[0;34m\u001b[0m\u001b[0m\n\u001b[0m\u001b[1;32m   1100\u001b[0m         \u001b[0mself\u001b[0m\u001b[0;34m.\u001b[0m\u001b[0mestablish_colors\u001b[0m\u001b[0;34m(\u001b[0m\u001b[0mcolor\u001b[0m\u001b[0;34m,\u001b[0m \u001b[0mpalette\u001b[0m\u001b[0;34m,\u001b[0m \u001b[0;36m1\u001b[0m\u001b[0;34m)\u001b[0m\u001b[0;34m\u001b[0m\u001b[0;34m\u001b[0m\u001b[0m\n\u001b[1;32m   1101\u001b[0m \u001b[0;34m\u001b[0m\u001b[0m\n",
      "\u001b[0;32m~/conda3/envs/py37_S/lib/python3.7/site-packages/seaborn/categorical.py\u001b[0m in \u001b[0;36mestablish_variables\u001b[0;34m(self, x, y, hue, data, orient, order, hue_order, units)\u001b[0m\n\u001b[1;32m    151\u001b[0m                 \u001b[0;32mif\u001b[0m \u001b[0misinstance\u001b[0m\u001b[0;34m(\u001b[0m\u001b[0mvar\u001b[0m\u001b[0;34m,\u001b[0m \u001b[0mstr\u001b[0m\u001b[0;34m)\u001b[0m\u001b[0;34m:\u001b[0m\u001b[0;34m\u001b[0m\u001b[0;34m\u001b[0m\u001b[0m\n\u001b[1;32m    152\u001b[0m                     \u001b[0merr\u001b[0m \u001b[0;34m=\u001b[0m \u001b[0;34m\"Could not interpret input '{}'\"\u001b[0m\u001b[0;34m.\u001b[0m\u001b[0mformat\u001b[0m\u001b[0;34m(\u001b[0m\u001b[0mvar\u001b[0m\u001b[0;34m)\u001b[0m\u001b[0;34m\u001b[0m\u001b[0;34m\u001b[0m\u001b[0m\n\u001b[0;32m--> 153\u001b[0;31m                     \u001b[0;32mraise\u001b[0m \u001b[0mValueError\u001b[0m\u001b[0;34m(\u001b[0m\u001b[0merr\u001b[0m\u001b[0;34m)\u001b[0m\u001b[0;34m\u001b[0m\u001b[0;34m\u001b[0m\u001b[0m\n\u001b[0m\u001b[1;32m    154\u001b[0m \u001b[0;34m\u001b[0m\u001b[0m\n\u001b[1;32m    155\u001b[0m             \u001b[0;31m# Figure out the plotting orientation\u001b[0m\u001b[0;34m\u001b[0m\u001b[0;34m\u001b[0m\u001b[0;34m\u001b[0m\u001b[0m\n",
      "\u001b[0;31mValueError\u001b[0m: Could not interpret input 'PangenomeTool'"
     ]
    },
    {
     "data": {
      "image/png": "[encoded data removed]",
      "text/plain": [
       "<Figure size 1296x1008 with 2 Axes>"
      ]
     },
     "metadata": {
      "needs_background": "light"
     },
     "output_type": "display_data"
    }
   ],
   "source": [
    "# AnnoAndTech_hue_Color_Dict = { \"Bakta-LongRead\": \"#3F84E5\",\n",
    "#                     \"Bakta-ShortRead\": \"#E85D75\",\n",
    "#                     \"PGAP-LongRead\": \"#ADD8E6\",\n",
    "#                     \"PGAP-ShortRead\": \"#f7bfbe\" }\n",
    "\n",
    "AnnoAndTech_hue_Color_Dict = { \"Bakta-LongRead\": \"#1f77b4\",\n",
    "                    \"Bakta-ShortRead\": \"#ff7f0e\",\n",
    "                    \"PGAP-LongRead\": \"#2ca02c\",\n",
    "                    \"PGAP-ShortRead\": \"#9467bd\" }\n",
    "\n",
    "\n",
    "\n",
    "fig, axs = plt.subplots(2, 1, figsize= (18, 14), sharey = False)\n",
    "#sns.set_context(\"poster\")\n",
    "sns.set_context(\"paper\", font_scale=2)\n",
    "\n",
    "\n",
    "hue_orderToPlot_V2 = [\"Bakta-LongRead\",  \"PGAP-LongRead\", \"Bakta-ShortRead\", \"PGAP-ShortRead\"]\n",
    "\n",
    "sns.stripplot(y = \"GeneCount\", x = \"PangenomeTool\", hue = \"AnnoAndTech\", data = PG_Merged_Stats_LRandSR_Acc_DF, linewidth=1, size = 12, palette = AnnoAndTech_hue_Color_Dict, hue_order = hue_orderToPlot_V2, \n",
    "              alpha=0.9, dodge = True, edgecolor='gray', ax= axs[0])\n",
    "\n",
    "sns.boxplot(y = \"GeneCount\", x = \"PangenomeTool\", hue = \"AnnoAndTech\", data = PG_Merged_Stats_LRandSR_Acc_DF, fliersize=0, palette = AnnoAndTech_hue_Color_Dict, hue_order = hue_orderToPlot_V2,\n",
    "            ax= axs[0], boxprops=dict(alpha=0.7) )\n",
    "\n",
    "\n",
    "sns.stripplot(y = \"GeneCount\", x = \"PangenomeTool\", hue = \"AnnoAndTech\", data = PG_Merged_Stats_SeqAndAnnoType_Core_DF, linewidth=1, size = 12, palette = AnnoAndTech_hue_Color_Dict, hue_order = hue_orderToPlot_V2, \n",
    "              alpha=0.9, dodge = True, edgecolor='gray', ax= axs[1])\n",
    "\n",
    "sns.boxplot(y = \"GeneCount\", x = \"PangenomeTool\", hue = \"AnnoAndTech\", data = PG_Merged_Stats_SeqAndAnnoType_Core_DF, fliersize=0, palette = AnnoAndTech_hue_Color_Dict, hue_order = hue_orderToPlot_V2,\n",
    "            ax= axs[1], boxprops=dict(alpha=0.7) )\n",
    "\n",
    "\n",
    "Bakta_CompAsm_patch = mpatches.Patch(color = AnnoAndTech_hue_Color_Dict[\"Bakta-LongRead\"], label='Bakta & Complete Assemblies (N=151)')\n",
    "Bakta_SRAsm_patch = mpatches.Patch(color = AnnoAndTech_hue_Color_Dict[\"Bakta-ShortRead\"], label='Bakta & Short-Read Assemblies (N=151)')\n",
    "PGAP_CompAsm_patch = mpatches.Patch(color = AnnoAndTech_hue_Color_Dict[\"PGAP-LongRead\"], label='PGAP & Complete Assemblies (N=151)')\n",
    "PGAP_SRAsm_patch = mpatches.Patch(color = AnnoAndTech_hue_Color_Dict[\"PGAP-ShortRead\"], label='PGAP & Short-Read Assemblies (N=151)')\n",
    "\n",
    "axs[0].legend(title = \"Annotation/Assembly Combo\", handles=[Bakta_CompAsm_patch, PGAP_CompAsm_patch, Bakta_SRAsm_patch, PGAP_SRAsm_patch], bbox_to_anchor=(1.65, 1))\n",
    "axs[1].get_legend().remove()\n",
    "\n",
    "axs[0].set_xlabel(\"\")\n",
    "axs[1].set_xlabel(\"\")\n",
    "\n",
    "axs[0].set_ylabel(\"# estimated accessory genes\", fontsize=20)\n",
    "axs[1].set_ylabel(\"# estimated core genes\", fontsize=20)\n",
    "\n",
    "axs[0].set_xticklabels(labels = [\"Panaroo\", \"Roary\", \"PPanGGolin\"], fontsize = 24)\n",
    "axs[1].set_xticklabels(labels = [\"Panaroo\", \"Roary\", \"PPanGGolin\"], fontsize = 24)\n",
    "\n",
    "axs[0].set_yticklabels(axs[0].get_yticks().astype(int), fontsize=20)\n",
    "axs[1].set_yticklabels(axs[1].get_yticks().astype(int), fontsize=20)\n",
    "\n",
    "sns.despine()\n",
    "\n",
    "#plt.savefig(\"Results3_Plots/3.PG.Counts.OverallCounts.Boxplots.png\", dpi = 300, bbox_inches=\"tight\")\n",
    "#plt.savefig(\"Results3_Plots/3.PG.Counts.OverallCounts.Boxplots.svg\", bbox_inches=\"tight\")\n",
    "\n",
    "plt.show()"
   ]
  },
  {
   "cell_type": "code",
   "execution_count": null,
   "id": "90edc964-794d-42c9-b866-7e2542fb094c",
   "metadata": {},
   "outputs": [],
   "source": []
  },
  {
   "cell_type": "code",
   "execution_count": null,
   "id": "a208c626-d3be-4de6-9103-92fb4a5b93b7",
   "metadata": {},
   "outputs": [],
   "source": []
  },
  {
   "cell_type": "code",
   "execution_count": null,
   "id": "b22ba544-b11c-4151-914e-bb2e7ae66652",
   "metadata": {},
   "outputs": [],
   "source": []
  },
  {
   "cell_type": "code",
   "execution_count": null,
   "id": "a4a7664e-a2c9-4c8f-b2b4-95df67d2c4f3",
   "metadata": {},
   "outputs": [],
   "source": []
  },
  {
   "cell_type": "code",
   "execution_count": null,
   "id": "30cfa6a6-8270-4326-8e0f-3b6407c3e3b3",
   "metadata": {},
   "outputs": [],
   "source": []
  },
  {
   "cell_type": "code",
   "execution_count": null,
   "id": "61519255-e55e-434e-bafc-ab3dfc10ead8",
   "metadata": {},
   "outputs": [],
   "source": []
  },
  {
   "cell_type": "code",
   "execution_count": null,
   "id": "cb3cf3a1-6f35-45b0-9684-2609b89cf2a2",
   "metadata": {},
   "outputs": [],
   "source": []
  },
  {
   "cell_type": "code",
   "execution_count": null,
   "id": "51ea8a8f-d1f2-46d6-9e07-98c671d6e09b",
   "metadata": {},
   "outputs": [],
   "source": []
  },
  {
   "cell_type": "code",
   "execution_count": null,
   "id": "bc295834-66d9-4b69-b083-34cacc1052d1",
   "metadata": {},
   "outputs": [],
   "source": []
  },
  {
   "cell_type": "code",
   "execution_count": null,
   "id": "883faf79-0bee-4616-8b4a-5d7595d8e439",
   "metadata": {},
   "outputs": [],
   "source": []
  },
  {
   "cell_type": "code",
   "execution_count": null,
   "id": "3d39e7d9-4991-458a-bdc2-f522e3576899",
   "metadata": {},
   "outputs": [],
   "source": []
  },
  {
   "cell_type": "code",
   "execution_count": null,
   "id": "e4c3cfbe-8f04-4571-b2eb-8e4ddc51a323",
   "metadata": {},
   "outputs": [],
   "source": []
  },
  {
   "cell_type": "markdown",
   "id": "67f93012-5198-41c7-a446-0d16c3c3dde3",
   "metadata": {},
   "source": [
    "## Pivot table to get summary per Method and Seqtype"
   ]
  },
  {
   "cell_type": "code",
   "execution_count": null,
   "id": "11a7aed7-c91b-4524-80cd-d22307fe0cab",
   "metadata": {},
   "outputs": [],
   "source": []
  },
  {
   "cell_type": "code",
   "execution_count": 113,
   "id": "019741b1-7c18-4463-8de8-cd1e6f3b6b80",
   "metadata": {},
   "outputs": [
    {
     "data": {
      "text/html": [
       "<div>\n",
       "<style scoped>\n",
       "    .dataframe tbody tr th:only-of-type {\n",
       "        vertical-align: middle;\n",
       "    }\n",
       "\n",
       "    .dataframe tbody tr th {\n",
       "        vertical-align: top;\n",
       "    }\n",
       "\n",
       "    .dataframe thead th {\n",
       "        text-align: right;\n",
       "    }\n",
       "</style>\n",
       "<table border=\"1\" class=\"dataframe\">\n",
       "  <thead>\n",
       "    <tr style=\"text-align: right;\">\n",
       "      <th></th>\n",
       "      <th>Category</th>\n",
       "      <th>Range</th>\n",
       "      <th>GeneCount</th>\n",
       "      <th>Annotation</th>\n",
       "      <th>Method</th>\n",
       "      <th>SeqType</th>\n",
       "      <th>DataSet</th>\n",
       "      <th>MethodAndTech</th>\n",
       "    </tr>\n",
       "  </thead>\n",
       "  <tbody>\n",
       "    <tr>\n",
       "      <th>5</th>\n",
       "      <td>Accessory genes</td>\n",
       "      <td>(0% &lt;= strains &lt; 99%)</td>\n",
       "      <td>11375</td>\n",
       "      <td>Bakta</td>\n",
       "      <td>Panaroo_Strict_MergeParalogs</td>\n",
       "      <td>LongRead</td>\n",
       "      <td>All</td>\n",
       "      <td>Panaroo_Strict_MergeParalogs_LongRead</td>\n",
       "    </tr>\n",
       "    <tr>\n",
       "      <th>5</th>\n",
       "      <td>Accessory genes</td>\n",
       "      <td>(0% &lt;= strains &lt; 99%)</td>\n",
       "      <td>11605</td>\n",
       "      <td>Bakta</td>\n",
       "      <td>Panaroo_Moderate_MergeParalogs</td>\n",
       "      <td>LongRead</td>\n",
       "      <td>All</td>\n",
       "      <td>Panaroo_Moderate_MergeParalogs_LongRead</td>\n",
       "    </tr>\n",
       "    <tr>\n",
       "      <th>5</th>\n",
       "      <td>Accessory genes</td>\n",
       "      <td>(0% &lt;= strains &lt; 99%)</td>\n",
       "      <td>11996</td>\n",
       "      <td>Bakta</td>\n",
       "      <td>Panaroo_Sensitive_MergeParalogs</td>\n",
       "      <td>LongRead</td>\n",
       "      <td>All</td>\n",
       "      <td>Panaroo_Sensitive_MergeParalogs_LongRead</td>\n",
       "    </tr>\n",
       "    <tr>\n",
       "      <th>5</th>\n",
       "      <td>Accessory genes</td>\n",
       "      <td>(0% &lt;= strains &lt; 99%)</td>\n",
       "      <td>10277</td>\n",
       "      <td>Bakta</td>\n",
       "      <td>Roary_NoSplitParalogs_I80</td>\n",
       "      <td>LongRead</td>\n",
       "      <td>All</td>\n",
       "      <td>Roary_NoSplitParalogs_I80_LongRead</td>\n",
       "    </tr>\n",
       "  </tbody>\n",
       "</table>\n",
       "</div>"
      ],
      "text/plain": [
       "          Category                  Range  GeneCount Annotation                           Method   SeqType DataSet                             MethodAndTech\n",
       "5  Accessory genes  (0% <= strains < 99%)      11375      Bakta     Panaroo_Strict_MergeParalogs  LongRead     All     Panaroo_Strict_MergeParalogs_LongRead\n",
       "5  Accessory genes  (0% <= strains < 99%)      11605      Bakta   Panaroo_Moderate_MergeParalogs  LongRead     All   Panaroo_Moderate_MergeParalogs_LongRead\n",
       "5  Accessory genes  (0% <= strains < 99%)      11996      Bakta  Panaroo_Sensitive_MergeParalogs  LongRead     All  Panaroo_Sensitive_MergeParalogs_LongRead\n",
       "5  Accessory genes  (0% <= strains < 99%)      10277      Bakta        Roary_NoSplitParalogs_I80  LongRead     All        Roary_NoSplitParalogs_I80_LongRead"
      ]
     },
     "execution_count": 113,
     "metadata": {},
     "output_type": "execute_result"
    }
   ],
   "source": [
    "PG_Merged_Stats_LR_Acc_DF.head(4)"
   ]
  },
  {
   "cell_type": "code",
   "execution_count": null,
   "id": "c3ef67da-d961-4957-ba41-c8d906d2e5ee",
   "metadata": {},
   "outputs": [],
   "source": []
  },
  {
   "cell_type": "code",
   "execution_count": null,
   "id": "c571306d-7795-495a-8438-385b53d77474",
   "metadata": {},
   "outputs": [],
   "source": []
  },
  {
   "cell_type": "code",
   "execution_count": null,
   "id": "16239d40-4ec3-4aaf-9fbe-8505e26afad5",
   "metadata": {},
   "outputs": [],
   "source": []
  },
  {
   "cell_type": "code",
   "execution_count": null,
   "id": "c297a05f-12b7-41d5-9ef9-65eb4f3eea4d",
   "metadata": {},
   "outputs": [],
   "source": []
  },
  {
   "cell_type": "code",
   "execution_count": 115,
   "id": "a54e40d5-2eac-4374-ae06-26f51c3294d6",
   "metadata": {},
   "outputs": [
    {
     "data": {
      "image/png": "[encoded data removed]",
      "text/plain": [
       "<Figure size 720x864 with 1 Axes>"
      ]
     },
     "metadata": {
      "needs_background": "light"
     },
     "output_type": "display_data"
    }
   ],
   "source": [
    "fig, axs = plt.subplots(1, 1, figsize= (10, 12), sharex=True)\n",
    "\n",
    "\n",
    "orderToPlot_X = ['Panaroo_Strict_MergeParalogs', 'Panaroo_Moderate_MergeParalogs',\n",
    "                 'Panaroo_Sensitive_MergeParalogs',  'Roary_NoSplitParalogs_I90',\n",
    "                 'Roary_NoSplitParalogs',  'Roary_Default' ]\n",
    "\n",
    "\n",
    "sns.barplot(y = \"Method\", x = \"GeneCount\", hue = \"SeqType\", data = PG_Merged_Stats_LR_Acc_DF, order = orderToPlot_X, ax = axs, palette = [\"#3F84E5\", \"#E85D75\"] )\n",
    "#plt.ylim(0, 5000)\n",
    "# \n",
    "axs.set_ylabel(\"Pangenome Analysis Pipeline\")\n",
    "axs.set_xlabel(\"# of accesory genes\")\n",
    "\n",
    "\n",
    "Plot_TickLabels = ['Panaroo \\n (Strict & MergeParalogs)', 'Panaroo \\n (Moderate & MergeParalogs)',\n",
    "                 'Panaroo \\n (Sensitive & MergeParalogs)', 'Roary \\n (NoSplitParalogs & I90)',\n",
    "                 'Roary \\n (NoSplitParalogs)',  'Roary \\n (Default)']\n",
    "\n",
    "axs.set_yticklabels(labels = Plot_TickLabels, rotation=0, fontdict = {\"fontsize\": 12})\n",
    "\n",
    "#axs.set_xticklabels(labels = Plot_TickLabels, rotation=45, fontdict = {\"fontsize\": 12})\n",
    "\n",
    "axs.set_title(\"Accessory gene counts: Hybrid vs SR assemblies\")\n",
    "\n",
    "#plt.xticks(labels = Plot_TickLabels, rotation=45)\n",
    "plt.show()"
   ]
  },
  {
   "cell_type": "code",
   "execution_count": null,
   "id": "e0a8e674-7897-4530-8421-fb23ad89d28a",
   "metadata": {},
   "outputs": [],
   "source": []
  },
  {
   "cell_type": "code",
   "execution_count": null,
   "id": "5c3fec19-db85-4a9b-9cd9-7095678eedec",
   "metadata": {},
   "outputs": [],
   "source": [
    "fig, axs = plt.subplots(1, 1, figsize= (10, 12), sharex=True)\n",
    "\n",
    "\n",
    "orderToPlot_X = ['Panaroo_Strict_MergeParalogs', 'Panaroo_Moderate_MergeParalogs',\n",
    "                 'Panaroo_Sensitive_MergeParalogs',  'Roary_NoSplitParalogs_I90',\n",
    "                 'Roary_NoSplitParalogs',  'Roary_Default' ]\n",
    "\n",
    "\n",
    "sns.barplot(y = \"Method\", x = \"GeneCount\", hue = \"SeqType\", data = PG_Merged_Stats_SR_Acc_DF, order = orderToPlot_X, ax = axs, palette = [\"#3F84E5\", \"#E85D75\"] )\n",
    "#plt.ylim(0, 5000)\n",
    "# \n",
    "axs.set_ylabel(\"Pangenome Analysis Pipeline\")\n",
    "axs.set_xlabel(\"# of accesory genes\")\n",
    "\n",
    "\n",
    "Plot_TickLabels = ['Panaroo \\n (Strict & MergeParalogs)', 'Panaroo \\n (Moderate & MergeParalogs)',\n",
    "                 'Panaroo \\n (Sensitive & MergeParalogs)', 'Roary \\n (NoSplitParalogs & I90)',\n",
    "                 'Roary \\n (NoSplitParalogs)',  'Roary \\n (Default)']\n",
    "\n",
    "axs.set_yticklabels(labels = Plot_TickLabels, rotation=0, fontdict = {\"fontsize\": 12})\n",
    "\n",
    "#axs.set_xticklabels(labels = Plot_TickLabels, rotation=45, fontdict = {\"fontsize\": 12})\n",
    "\n",
    "axs.set_title(\"Accessory gene counts: Hybrid vs SR assemblies\")\n",
    "\n",
    "#plt.xticks(labels = Plot_TickLabels, rotation=45)\n",
    "plt.show()"
   ]
  },
  {
   "cell_type": "code",
   "execution_count": null,
   "id": "27e22559-f5a2-48c6-9a72-a2091e411130",
   "metadata": {},
   "outputs": [],
   "source": []
  },
  {
   "cell_type": "code",
   "execution_count": null,
   "id": "0e8ede32-7e20-47fa-85d3-b41c7ca61a3a",
   "metadata": {},
   "outputs": [],
   "source": []
  },
  {
   "cell_type": "code",
   "execution_count": null,
   "id": "1c0544a4-3a83-4d82-9e39-e22d0e7e4072",
   "metadata": {},
   "outputs": [],
   "source": []
  },
  {
   "cell_type": "code",
   "execution_count": null,
   "id": "d5cb4fb9-17d9-4467-ad64-01fa80dbf6c9",
   "metadata": {},
   "outputs": [],
   "source": []
  },
  {
   "cell_type": "code",
   "execution_count": 55,
   "id": "1ad705f0-887f-4a21-86e7-9fd92017357e",
   "metadata": {},
   "outputs": [],
   "source": [
    "PG_Summ_LR_T2_DF = pd.pivot(PG_Merged_Stats_DF,\n",
    "         index = [\"AnnoAndMethod\"],\n",
    "         columns = [\"Category\"],\n",
    "         values = [\"GeneCount\"] )\n",
    "\n",
    "PG_Summ_LR_T2_DF.columns = PG_Summ_LR_T2_DF.columns.droplevel(0)\n",
    "PG_Summ_LR_T2_DF.columns.name = None\n",
    "PG_Summ_LR_T2_DF = PG_Summ_LR_T2_DF.reset_index()\n",
    "\n",
    "\n",
    "PG_Summ_LR_T2_DF[\"Anno\"] = PG_Summ_LR_T2_DF[\"AnnoAndMethod\"].str.split(\"_\").str[0:1].str[0]\n",
    "PG_Summ_LR_T2_DF[\"PangenomeTool\"] = PG_Summ_LR_T2_DF[\"AnnoAndMethod\"].str.split(\"_\").str[1:2].str[0]\n",
    "PG_Summ_LR_T2_DF['SeqType'] = \"LongRead\"\n",
    "PG_Summ_LR_T2_DF[\"Method\"] = PG_Summ_LR_T2_DF[\"AnnoAndMethod\"].str.replace(\"Bakta_\", \"\").str.replace(\"PGAP_\", \"\")\n",
    "\n",
    "# Do some reformatting \n",
    "NewColOrder = ['SeqType', 'PangenomeTool', 'Method','Anno',  'Total genes',  'Core genes', 'Accessory genes',  ]\n",
    "#NewColOrder = ['SeqType', 'Anno', 'Method', 'Total genes',  'Core genes', 'Accessory genes',  ]\n",
    "\n",
    "PG_Summ_LR_T2_DF = PG_Summ_LR_T2_DF[NewColOrder]\n",
    "\n",
    "\n",
    "PG_Summ_LR_T2_DF = PG_Summ_LR_T2_DF.sort_values([\"Method\", \"Anno\"]).reset_index(drop=True)\n"
   ]
  },
  {
   "cell_type": "code",
   "execution_count": null,
   "id": "c7f3b395-35f7-4769-9091-256c78ac036e",
   "metadata": {},
   "outputs": [],
   "source": []
  },
  {
   "cell_type": "code",
   "execution_count": 69,
   "id": "146c39ee-ca8b-4666-951f-280a3938fb40",
   "metadata": {},
   "outputs": [
    {
     "data": {
      "image/png": "[encoded data removed]",
      "text/plain": [
       "<Figure size 2160x720 with 2 Axes>"
      ]
     },
     "metadata": {
      "needs_background": "light"
     },
     "output_type": "display_data"
    }
   ],
   "source": [
    "fig, axs = plt.subplots(1, 2, figsize= (30, 10), sharex=False, sharey=True)\n",
    "\n",
    "sns.set_context(\"paper\", font_scale=1.5)\n",
    "\n",
    "\n",
    "orderToPlot_X = ['Panaroo_Strict_MergeParalogs', 'Panaroo_Moderate_MergeParalogs',\n",
    "                 'Panaroo_Sensitive_MergeParalogs',  'Roary_NoSplitParalogs_I90',\n",
    "                 'Roary_NoSplitParalogs',  'Roary_Default',]\n",
    "\n",
    "\n",
    "#sns.barplot(y = \"Method\", x = \"GeneCount\", hue = \"SeqType\", data = PG_Merged_Stats_LR_Pangenome_DF, order = orderToPlot_X, ax = axs[0], palette = [\"#3F84E5\", \"#E85D75\"] )\n",
    "sns.barplot(y = \"Method\", x = \"GeneCount\", hue = \"SeqType\", data = PG_Merged_Stats_LR_Core_DF, order = orderToPlot_X, ax = axs[0], palette = [\"#3F84E5\", \"#E85D75\"] )\n",
    "sns.barplot(y = \"Method\", x = \"GeneCount\", hue = \"SeqType\", data = PG_Merged_Stats_LR_Acc_DF, order = orderToPlot_X, ax = axs[1], palette = [\"#3F84E5\", \"#E85D75\"] )\n",
    "\n",
    "axs[0].set_ylabel(\"Pipeline\", rotation=0,)\n",
    "axs[1].set_ylabel(\"\")\n",
    "\n",
    "axs[0].set_ylabel(\"\")\n",
    "axs[1].set_ylabel(\"\")\n",
    "#axs[0].set_xlabel(\"# of genes\", rotation=0,)\n",
    "#axs[1].set_xlabel(\"# of genes\", rotation=0,)\n",
    "axs[0].set_xlabel(\"# of genes\", fontsize = 20)\n",
    "axs[1].set_xlabel(\"# of genes\", fontsize = 20)\n",
    "\n",
    "Plot_TickLabels = ['Panaroo \\n (Strict & MergeParalogs)', 'Panaroo \\n (Moderate & MergeParalogs)',\n",
    "                 'Panaroo \\n (Sensitive & MergeParalogs)', 'Roary \\n (NoSplitParalogs & I90)',\n",
    "                 'Roary \\n (NoSplitParalogs)',  'Roary \\n (Default)',]\n",
    "\n",
    "\n",
    "#axs[0].set_yticklabels(labels = Plot_TickLabels, rotation=0, fontdict = {\"fontsize\": 12})\n",
    "axs[0].set_yticklabels(labels = Plot_TickLabels, rotation=0, fontdict = {\"fontsize\": 12})\n",
    "axs[1].set_yticklabels(labels = Plot_TickLabels, rotation=0, fontdict = {\"fontsize\": 12})\n",
    "\n",
    "axs[0].get_legend().remove()\n",
    "axs[1].get_legend().remove()\n",
    "\n",
    "axs[0].set_title(\"Core genome\")\n",
    "axs[1].set_title(\"Accessory genome\")\n",
    "sns.despine()\n",
    "#plt.xticks(labels = Plot_TickLabels, rotation=45)\n",
    "plt.show()"
   ]
  },
  {
   "cell_type": "code",
   "execution_count": null,
   "id": "27586e26-1b0d-455e-93ac-26109a3eea21",
   "metadata": {},
   "outputs": [],
   "source": []
  },
  {
   "cell_type": "code",
   "execution_count": null,
   "id": "4c64dfdd-3b38-48ec-b106-238e45cb4580",
   "metadata": {},
   "outputs": [],
   "source": []
  },
  {
   "cell_type": "code",
   "execution_count": null,
   "id": "292dfbfe-08d5-4f09-b292-8a272a440967",
   "metadata": {},
   "outputs": [],
   "source": []
  },
  {
   "cell_type": "code",
   "execution_count": null,
   "id": "bedb9c11-7bf0-4c92-8685-7ebeca84290b",
   "metadata": {},
   "outputs": [],
   "source": []
  },
  {
   "cell_type": "code",
   "execution_count": null,
   "id": "2ccd3e1f-0b0e-4781-9073-3e1299e2072f",
   "metadata": {},
   "outputs": [],
   "source": []
  },
  {
   "cell_type": "code",
   "execution_count": null,
   "id": "5a8903ca-3fda-4285-b446-a3ba1153898a",
   "metadata": {},
   "outputs": [],
   "source": []
  },
  {
   "cell_type": "code",
   "execution_count": null,
   "id": "72aef522-d843-44df-9259-6cfb1074f7f0",
   "metadata": {},
   "outputs": [],
   "source": []
  }
 ],
 "metadata": {
  "kernelspec": {
   "display_name": "py37_S",
   "language": "python",
   "name": "py37_s"
  },
  "language_info": {
   "codemirror_mode": {
    "name": "ipython",
    "version": 3
   },
   "file_extension": ".py",
   "mimetype": "text/x-python",
   "name": "python",
   "nbconvert_exporter": "python",
   "pygments_lexer": "ipython3",
   "version": "3.7.3"
  }
 },
 "nbformat": 4,
 "nbformat_minor": 5
}
