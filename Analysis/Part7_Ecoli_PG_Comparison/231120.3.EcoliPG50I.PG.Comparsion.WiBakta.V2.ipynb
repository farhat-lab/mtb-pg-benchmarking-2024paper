{
 "cells": [
  {
   "cell_type": "markdown",
   "id": "d999a1f7-2a37-469c-a0e5-7620bf2ab0c1",
   "metadata": {},
   "source": [
    "# Comparing Pangenome pipeline predictions - Shaw2021 - 50 e. coli genomes"
   ]
  },
  {
   "cell_type": "markdown",
   "id": "774155fc-86a8-49cb-a9ff-953f02c365ff",
   "metadata": {
    "toc-hr-collapsed": true
   },
   "source": [
    "### Import Statements"
   ]
  },
  {
   "cell_type": "code",
   "execution_count": 1,
   "id": "dc8511b1-c7c2-46a0-8375-47f24a479d12",
   "metadata": {},
   "outputs": [],
   "source": [
    "import numpy as np\n",
    "import pandas as pd\n",
    "import vcf\n",
    "from tqdm import tqdm\n",
    "import matplotlib.pyplot as plt\n",
    "import seaborn as sns\n",
    "import pickle\n",
    "import scipy.stats\n",
    "\n",
    "%matplotlib inline"
   ]
  },
  {
   "cell_type": "code",
   "execution_count": null,
   "id": "09fb9fa2-fdb7-45d3-9b7d-aa4f0973f35b",
   "metadata": {},
   "outputs": [],
   "source": []
  },
  {
   "cell_type": "markdown",
   "id": "069864d1-343f-402d-bcdb-9b2fd9c70703",
   "metadata": {},
   "source": [
    "#### Pandas Viewing Settings"
   ]
  },
  {
   "cell_type": "code",
   "execution_count": 2,
   "id": "f0bc9f4b-b84c-48ce-9429-73b512716f70",
   "metadata": {},
   "outputs": [],
   "source": [
    "pd.set_option('display.max_rows', 500)\n",
    "pd.set_option('display.max_columns', 500)\n",
    "pd.set_option('display.width', 1000)"
   ]
  },
  {
   "cell_type": "code",
   "execution_count": null,
   "id": "31c27e09-dc1c-48ed-884b-1e28d72b4db6",
   "metadata": {},
   "outputs": [],
   "source": []
  },
  {
   "cell_type": "code",
   "execution_count": 3,
   "id": "a99145e9-aa3c-41f4-b170-a1d13ba70db5",
   "metadata": {},
   "outputs": [],
   "source": [
    "\n",
    "def read_PanarooSummaryStats(input_Panaroo_SummaryStats_TXT):\n",
    "    \n",
    "    i_Panaroo_Stats_DF = pd.read_csv(input_Panaroo_SummaryStats_TXT, sep = \"\\t\", header=None)\n",
    "    i_Panaroo_Stats_DF.columns = [\"Category\", \"Range\", \"GeneCount\"]\n",
    "\n",
    "    Acc_GenesCount = i_Panaroo_Stats_DF[\"GeneCount\"].values[-1] - i_Panaroo_Stats_DF[\"GeneCount\"].values[0]\n",
    "\n",
    "    i_Panaroo_AccGenesRow = [\"Accessory genes\",\"(0% <= strains < 99%)\", Acc_GenesCount]\n",
    "\n",
    "    i_Panaroo_Stats_DF.loc[len(i_Panaroo_Stats_DF.index)] = i_Panaroo_AccGenesRow\n",
    "\n",
    "    #listOfCat_ToKeep = [\"Core genes\", \"Accessory Genes\", \"Total genes\"]\n",
    "\n",
    "    i_Panaroo_Stats_DF = i_Panaroo_Stats_DF[ i_Panaroo_Stats_DF[\"Category\"].isin(listOfCat_ToKeep)]   \n",
    "\n",
    "    # https://www.statology.org/pandas-add-row-to-dataframe/#:~:text=You%20can%20use%20the%20df,loc%5Blen(df. \n",
    "\n",
    "    return i_Panaroo_Stats_DF"
   ]
  },
  {
   "cell_type": "code",
   "execution_count": 4,
   "id": "c2e7163b-c19a-4504-8bed-25af76a519f0",
   "metadata": {},
   "outputs": [],
   "source": [
    "def read_Ppanggolin_ContextStats(i_Ppanggolin_Default_Content_TXT):\n",
    "    with open(i_Ppanggolin_Default_Content_TXT, \"r\") as f:\n",
    "\n",
    "        #NumCoreGenes = -1\n",
    "        #NumShellGenes = -1\n",
    "        #NumCloudGenes = -1\n",
    "        for line in f:\n",
    "            line_split = line.split(\": \")\n",
    "\n",
    "            Key = line_split[0].split(\" (\")[0]\n",
    "            Value = line_split[-1].strip()\n",
    "\n",
    "            if Key == \"Persistent\": NumCoreGenes = int(Value)\n",
    "            elif Key == \"Shell\": NumShellGenes = int(Value)\n",
    "            elif Key == \"Cloud\": NumCloudGenes = int(Value)\n",
    "\n",
    "        NumAccessoryGenes = NumShellGenes + NumCloudGenes\n",
    "        NumTotalGenes = NumCoreGenes + NumAccessoryGenes\n",
    "\n",
    "    listOf_PG_Rows = []\n",
    "    listOf_PG_Rows.append( (\"Total genes\", \"(0% <= strains <= 100%)\", NumTotalGenes) )\n",
    "    listOf_PG_Rows.append( (\"Accessory genes\", \"(0% <= strains < 99%)\", NumAccessoryGenes) )\n",
    "    listOf_PG_Rows.append( (\"Core genes\", \"(99% <= strains <= 100%)\", NumCoreGenes) )\n",
    "\n",
    "    PPanggolin_Summary_DF = pd.DataFrame(listOf_PG_Rows)\n",
    "    PPanggolin_Summary_DF.columns = [\"Category\", \"Range\", \"GeneCount\"]\n",
    "    \n",
    "    return PPanggolin_Summary_DF"
   ]
  },
  {
   "cell_type": "code",
   "execution_count": null,
   "id": "d401b2f5-74e0-446e-b2c3-652d4277bb13",
   "metadata": {},
   "outputs": [],
   "source": []
  },
  {
   "cell_type": "code",
   "execution_count": null,
   "id": "03be6486-370c-4863-b32b-16ac5dc53e0f",
   "metadata": {},
   "outputs": [],
   "source": []
  },
  {
   "cell_type": "code",
   "execution_count": null,
   "id": "001686ee-9195-4f3f-9f78-37cf850c32cb",
   "metadata": {},
   "outputs": [],
   "source": []
  },
  {
   "cell_type": "code",
   "execution_count": null,
   "id": "0bcce672-dcf4-4af5-a265-da3ace14d7d6",
   "metadata": {},
   "outputs": [],
   "source": []
  },
  {
   "cell_type": "markdown",
   "id": "dd124242-7e09-4bca-b2c8-bf886db9aa8a",
   "metadata": {},
   "source": [
    "## Define paths to sample metadata files & key directories"
   ]
  },
  {
   "cell_type": "code",
   "execution_count": 5,
   "id": "6f744ad0-2b65-4010-92b9-3f8b69523f9a",
   "metadata": {},
   "outputs": [],
   "source": [
    "\n",
    "Proj_MainDir = \"/n/data1/hms/dbmi/farhat/mm774/Projects\"\n",
    "\n",
    "Ecoli_PG_MainDir = f\"{Proj_MainDir}/230905_Ecoli_PG_Analysis\"  \n",
    "\n",
    "Data_MainDir = f\"{Ecoli_PG_MainDir}/Data\"  \n",
    "\n",
    "Shaw2021_50Asm_Dir = f\"{Data_MainDir}/Shaw2021.50Genomes.Data/data\"\n",
    "\n",
    "Shaw2021_Meta_TSV = f\"{Data_MainDir}/Shaw2021.SelectedIsolates.50I.tsv\"  \n",
    "\n",
    "input_FA_PATH_TSVs_Dir = f\"{Ecoli_PG_MainDir}/input_PATH_SMK_TSVs\"\n",
    "\n",
    "Ecoli_Meta_Dir = f\"../../Data/230905_Ecoli_50CI_Metadata_Shaw2021\"  \n",
    "\n",
    "Shaw2021_Ecoli_50Asm_Meta_TSV = f\"{Ecoli_Meta_Dir}/231011.Shaw2021.Ecoli.50I.MetaData.tsv\"\n"
   ]
  },
  {
   "cell_type": "markdown",
   "id": "e0741431-104f-4771-ab20-3993fe3d7828",
   "metadata": {},
   "source": [
    "## Parse in metadata DFs"
   ]
  },
  {
   "cell_type": "code",
   "execution_count": 6,
   "id": "8fb8b160-861e-4046-a0d5-f31e14999273",
   "metadata": {},
   "outputs": [
    {
     "data": {
      "text/plain": [
       "(50, 24)"
      ]
     },
     "execution_count": 6,
     "metadata": {},
     "output_type": "execute_result"
    }
   ],
   "source": [
    "Shaw_50A_Info_DF = pd.read_csv(Shaw2021_Ecoli_50Asm_Meta_TSV, sep = \"\\t\")\n",
    "Shaw_50A_Info_DF.shape"
   ]
  },
  {
   "cell_type": "markdown",
   "id": "7a20c29f-3f49-44bc-82c7-dc7581c411d7",
   "metadata": {},
   "source": [
    "### Define list of SampleIDs"
   ]
  },
  {
   "cell_type": "code",
   "execution_count": 7,
   "id": "a64a2a8e-a300-419d-82ef-693e08db1e1a",
   "metadata": {},
   "outputs": [
    {
     "data": {
      "text/html": [
       "<div>\n",
       "<style scoped>\n",
       "    .dataframe tbody tr th:only-of-type {\n",
       "        vertical-align: middle;\n",
       "    }\n",
       "\n",
       "    .dataframe tbody tr th {\n",
       "        vertical-align: top;\n",
       "    }\n",
       "\n",
       "    .dataframe thead th {\n",
       "        text-align: right;\n",
       "    }\n",
       "</style>\n",
       "<table border=\"1\" class=\"dataframe\">\n",
       "  <thead>\n",
       "    <tr style=\"text-align: right;\">\n",
       "      <th></th>\n",
       "      <th>Isolate</th>\n",
       "      <th>Biosample Accession</th>\n",
       "      <th>Short Reads Accession</th>\n",
       "      <th>Long Reads Accession</th>\n",
       "      <th>Assembly Accession</th>\n",
       "      <th>Animal or WwTW</th>\n",
       "      <th>Isolate source information</th>\n",
       "      <th>Timepoint</th>\n",
       "      <th>Niche</th>\n",
       "      <th>Niche.2</th>\n",
       "      <th>Location</th>\n",
       "      <th>Genus</th>\n",
       "      <th>Species</th>\n",
       "      <th>ST assignment</th>\n",
       "      <th>Circularised plasmids</th>\n",
       "      <th>Number of contigs</th>\n",
       "      <th>Circularised chromosome (1=yes)</th>\n",
       "      <th>Total genome size (bp)</th>\n",
       "      <th>Chromosome GC (if known)</th>\n",
       "      <th>Phylogroup (E. coli only)</th>\n",
       "      <th>Alternative isolate name</th>\n",
       "      <th>Long read sequencing method</th>\n",
       "      <th>SampleID</th>\n",
       "      <th>Genome_ASM_PATH</th>\n",
       "    </tr>\n",
       "  </thead>\n",
       "  <tbody>\n",
       "    <tr>\n",
       "      <th>0</th>\n",
       "      <td>RH02|T1-C02</td>\n",
       "      <td>SAMN15147960</td>\n",
       "      <td>SRR11948863</td>\n",
       "      <td>SRR12299015</td>\n",
       "      <td>GCA_014109125.1</td>\n",
       "      <td>Animal</td>\n",
       "      <td>Pooled pig faecal samples collected from floor...</td>\n",
       "      <td>1</td>\n",
       "      <td>Pig</td>\n",
       "      <td>Faeces</td>\n",
       "      <td>RH02</td>\n",
       "      <td>Escherichia</td>\n",
       "      <td>Escherichia coli</td>\n",
       "      <td>10.0</td>\n",
       "      <td>1</td>\n",
       "      <td>2</td>\n",
       "      <td>1</td>\n",
       "      <td>4953790</td>\n",
       "      <td>50.7</td>\n",
       "      <td>A</td>\n",
       "      <td>RHB02-C02</td>\n",
       "      <td>PacBio</td>\n",
       "      <td>GCA_014109125</td>\n",
       "      <td>/n/data1/hms/dbmi/farhat/mm774/Projects/230905...</td>\n",
       "    </tr>\n",
       "  </tbody>\n",
       "</table>\n",
       "</div>"
      ],
      "text/plain": [
       "       Isolate Biosample Accession Short Reads Accession Long Reads Accession Assembly Accession Animal or WwTW                         Isolate source information  Timepoint Niche Niche.2 Location        Genus           Species  ST assignment  Circularised plasmids  Number of contigs  Circularised chromosome (1=yes)  Total genome size (bp)  Chromosome GC (if known) Phylogroup (E. coli only) Alternative isolate name Long read sequencing method       SampleID                                    Genome_ASM_PATH\n",
       "0  RH02|T1-C02        SAMN15147960           SRR11948863          SRR12299015    GCA_014109125.1         Animal  Pooled pig faecal samples collected from floor...          1   Pig  Faeces     RH02  Escherichia  Escherichia coli           10.0                      1                  2                                1                 4953790                      50.7                         A                RHB02-C02                      PacBio  GCA_014109125  /n/data1/hms/dbmi/farhat/mm774/Projects/230905..."
      ]
     },
     "execution_count": 7,
     "metadata": {},
     "output_type": "execute_result"
    }
   ],
   "source": [
    "Shaw_50A_Info_DF.head(1)  "
   ]
  },
  {
   "cell_type": "code",
   "execution_count": 8,
   "id": "fd2e6fcf-34e1-43ca-b6ff-dd208856b78a",
   "metadata": {},
   "outputs": [
    {
     "data": {
      "text/plain": [
       "50"
      ]
     },
     "execution_count": 8,
     "metadata": {},
     "output_type": "execute_result"
    }
   ],
   "source": [
    "E50I_SampleIDs = Shaw_50A_Info_DF[\"SampleID\"].values   \n",
    "len(E50I_SampleIDs)"
   ]
  },
  {
   "cell_type": "code",
   "execution_count": null,
   "id": "b8c459e5-4c4b-4ff5-9cf0-e1a16c798137",
   "metadata": {},
   "outputs": [],
   "source": []
  },
  {
   "cell_type": "code",
   "execution_count": null,
   "id": "0fc6e9e7-47cf-4de2-9dab-944e27b3cce1",
   "metadata": {},
   "outputs": [],
   "source": []
  },
  {
   "cell_type": "markdown",
   "id": "468a6f38-95fc-416b-b5a5-85bdad8bee1b",
   "metadata": {},
   "source": [
    "# Define output dir of the Mtb-WGA-SMK processing pipeline"
   ]
  },
  {
   "cell_type": "code",
   "execution_count": 9,
   "id": "cbff2854-948f-4bfd-b503-928afb7492a5",
   "metadata": {},
   "outputs": [],
   "source": [
    "# Define genome analysis and pan-genome pipeline output directories\n",
    "\n",
    "WGA_SMK_Outputs_Dir = f\"{Ecoli_PG_MainDir}/SMK_OutDirs\"\n",
    "\n",
    "PG_Ecoli_50I_OutDir = WGA_SMK_Outputs_Dir + \"/231011_Ecoli_Shaw2021_5OI_V1\"\n"
   ]
  },
  {
   "cell_type": "code",
   "execution_count": 10,
   "id": "9ba76e3d-a3c8-4910-83f6-83b4d2ffd35e",
   "metadata": {},
   "outputs": [
    {
     "name": "stdout",
     "output_type": "stream",
     "text": [
      "total 1.9M\n",
      "drwxrwsr-x 59 mm774 farhat 1.8K Jan  1 18:03 .\n",
      "drwxrwsr-x  4 mm774 farhat   83 Oct 11 23:17 ..\n",
      "drwxrwsr-x 53 mm774 farhat 1.6K Oct 12 01:52 AsmAnalysis\n",
      "drwxrwsr-x  4 mm774 farhat   63 Oct 12 02:14 FastANI\n",
      "drwxrwsr-x  3 mm774 farhat   29 Nov 16 00:11 GCA_013602835\n",
      "drwxrwsr-x  3 mm774 farhat   29 Nov 16 00:11 GCA_013712565\n",
      "drwxrwsr-x  3 mm774 farhat   29 Nov 16 00:11 GCA_013713325\n",
      "drwxrwsr-x  3 mm774 farhat   29 Nov 16 00:11 GCA_013728735\n",
      "drwxrwsr-x  3 mm774 farhat   29 Nov 16 00:11 GCA_013732895\n",
      "drwxrwsr-x  3 mm774 farhat   29 Nov 16 00:09 GCA_013745515\n",
      "drwxrwsr-x  3 mm774 farhat   29 Nov 16 00:11 GCA_013746655\n",
      "drwxrwsr-x  3 mm774 farhat   29 Nov 16 00:11 GCA_013750375\n",
      "drwxrwsr-x  3 mm774 farhat   29 Nov 16 00:09 GCA_013752075\n",
      "drwxrwsr-x  3 mm774 farhat   29 Nov 16 00:11 GCA_013752295\n",
      "drwxrwsr-x  3 mm774 farhat   29 Nov 16 00:09 GCA_013782445\n",
      "drwxrwsr-x  3 mm774 farhat   29 Nov 16 00:13 GCA_013783465\n",
      "drwxrwsr-x  3 mm774 farhat   29 Nov 16 00:11 GCA_013786125\n",
      "drwxrwsr-x  3 mm774 farhat   29 Nov 16 00:07 GCA_013790245\n",
      "drwxrwsr-x  3 mm774 farhat   29 Nov 16 00:09 GCA_013796065\n",
      "drwxrwsr-x  3 mm774 farhat   29 Nov 16 00:11 GCA_013800125\n",
      "drwxrwsr-x  3 mm774 farhat   29 Nov 16 00:13 GCA_013806085\n",
      "drwxrwsr-x  3 mm774 farhat   29 Nov 16 00:09 GCA_013806525\n",
      "drwxrwsr-x  3 mm774 farhat   29 Nov 16 00:11 GCA_013806925\n",
      "drwxrwsr-x  3 mm774 farhat   29 Nov 16 00:11 GCA_013817505\n",
      "drwxrwsr-x  3 mm774 farhat   29 Nov 16 00:11 GCA_013817865\n",
      "drwxrwsr-x  3 mm774 farhat   29 Nov 16 00:11 GCA_013819985\n",
      "drwxrwsr-x  3 mm774 farhat   29 Nov 16 00:11 GCA_013821965\n",
      "drwxrwsr-x  3 mm774 farhat   29 Nov 16 00:09 GCA_013823125\n",
      "drwxrwsr-x  3 mm774 farhat   29 Nov 16 00:11 GCA_013830785\n",
      "drwxrwsr-x  3 mm774 farhat   29 Nov 16 00:11 GCA_013835405\n",
      "drwxrwsr-x  3 mm774 farhat   29 Nov 16 00:11 GCA_013836945\n",
      "drwxrwsr-x  3 mm774 farhat   29 Nov 16 00:11 GCA_013886475\n",
      "drwxrwsr-x  3 mm774 farhat   29 Nov 16 00:05 GCA_013891895\n",
      "drwxrwsr-x  3 mm774 farhat   29 Nov 16 00:11 GCA_013894235\n",
      "drwxrwsr-x  3 mm774 farhat   29 Nov 16 00:11 GCA_013894775\n",
      "drwxrwsr-x  3 mm774 farhat   29 Nov 16 00:07 GCA_013895455\n",
      "drwxrwsr-x  3 mm774 farhat   29 Nov 16 00:11 GCA_013896515\n",
      "drwxrwsr-x  3 mm774 farhat   29 Nov 16 00:11 GCA_013896775\n",
      "drwxrwsr-x  3 mm774 farhat   29 Nov 16 00:11 GCA_013897255\n",
      "drwxrwsr-x  3 mm774 farhat   29 Nov 16 00:11 GCA_013897665\n",
      "drwxrwsr-x  3 mm774 farhat   29 Nov 16 00:11 GCA_013898775\n",
      "drwxrwsr-x  3 mm774 farhat   29 Nov 16 00:07 GCA_013898935\n",
      "drwxrwsr-x  3 mm774 farhat   29 Nov 16 00:11 GCA_013898995\n",
      "drwxrwsr-x  3 mm774 farhat   29 Nov 16 00:11 GCA_013899205\n",
      "drwxrwsr-x  3 mm774 farhat   29 Nov 16 00:11 GCA_013899665\n",
      "drwxrwsr-x  3 mm774 farhat   29 Nov 16 00:11 GCA_013900245\n",
      "drwxrwsr-x  3 mm774 farhat   29 Nov 16 00:11 GCA_013923405\n",
      "drwxrwsr-x  3 mm774 farhat   29 Nov 16 00:07 GCA_013924285\n",
      "drwxrwsr-x  3 mm774 farhat   29 Nov 16 00:11 GCA_013928845\n",
      "drwxrwsr-x  3 mm774 farhat   29 Nov 16 00:11 GCA_014103195\n",
      "drwxrwsr-x  3 mm774 farhat   29 Nov 16 00:11 GCA_014103465\n",
      "drwxrwsr-x  3 mm774 farhat   29 Nov 16 00:11 GCA_014103665\n",
      "drwxrwsr-x  3 mm774 farhat   29 Nov 16 00:07 GCA_014109065\n",
      "drwxrwsr-x  3 mm774 farhat   29 Nov 16 00:11 GCA_014109125\n",
      "drwxrwsr-x  3 mm774 farhat   25 Oct 11 23:22 O2logs\n",
      "drwxrwsr-x 22 mm774 farhat 1.3K Dec  3 17:53 PanGenome_Analysis\n",
      "drwxrwsr-x  3 mm774 farhat   24 Jan  1 18:03 Phylogenies\n",
      "drwxrwsr-x  4 mm774 farhat   78 Oct 12 00:23 SourMash\n",
      "drwxrwsr-x 52 mm774 farhat 1.6K Nov 16 15:56 SR_DataProcessing\n"
     ]
    }
   ],
   "source": [
    "!ls -alh $PG_Ecoli_50I_OutDir"
   ]
  },
  {
   "cell_type": "code",
   "execution_count": null,
   "id": "f0a71c94-d7c7-4918-bd96-44bb8f163867",
   "metadata": {},
   "outputs": [],
   "source": []
  },
  {
   "cell_type": "code",
   "execution_count": 11,
   "id": "3d8aade2-6410-402f-94a6-659c97901b6b",
   "metadata": {},
   "outputs": [
    {
     "name": "stderr",
     "output_type": "stream",
     "text": [
      "100%|██████████| 7/7 [00:00<00:00, 71.24it/s]\n",
      "100%|██████████| 7/7 [00:00<00:00, 92.35it/s]\n"
     ]
    }
   ],
   "source": [
    "\n",
    "PipeName_WiParam_List = ['Panaroo_Strict_MergeParalogs', 'Panaroo_Moderate_MergeParalogs',\n",
    "                         'Panaroo_Sensitive_MergeParalogs', #'Panaroo_Strict','Panaroo_Moderate', 'Panaroo_Sensitive',\n",
    "                         'Roary_NoSplitParalogs_I80', 'Roary_NoSplitParalogs_I90',\n",
    "                         'Roary_NoSplitParalogs',  'Roary_Default',] #'Ppanggolin_Default',]\n",
    "\n",
    "# PipeName_WiParam_List = ['Panaroo_Strict_MergeParalogs', 'Panaroo_Moderate_MergeParalogs',\n",
    "#                          'Panaroo_Sensitive_MergeParalogs', 'Panaroo_Strict','Panaroo_Moderate', 'Panaroo_Sensitive',\n",
    "#                          'Roary_NoSplitParalogs_I80', 'Roary_NoSplitParalogs_I90',\n",
    "#                          'Roary_NoSplitParalogs',  'Roary_Default', 'Ppanggolin_Default',]\n",
    "\n",
    "\n",
    "\n",
    "target_OutputDir = PG_Ecoli_50I_OutDir\n",
    "\n",
    "i_Pangenome_Dir = f\"{target_OutputDir}/PanGenome_Analysis\"\n",
    "\n",
    "listOfCat_ToKeep = [\"Core genes\", \"Accessory genes\", \"Total genes\"]\n",
    "\n",
    "\n",
    "dictOf_PG_OutInfo = {}\n",
    "dictOf_PG_PresAbs_DF = {}\n",
    "dictOf_PG_OutDir_PATHs = {}\n",
    "\n",
    "for i_SampleSet in [\"All\"]:\n",
    "    \n",
    "    dictOf_PG_OutInfo[i_SampleSet] = {}\n",
    "    dictOf_PG_OutDir_PATHs[i_SampleSet] = {}\n",
    "    dictOf_PG_PresAbs_DF[i_SampleSet] = {}\n",
    "    \n",
    "    for AnnoPipeline in [\"Bakta\"]:\n",
    "        \n",
    "        dictOf_PG_OutInfo[i_SampleSet][AnnoPipeline] = {}\n",
    "        dictOf_PG_OutDir_PATHs[i_SampleSet][AnnoPipeline] = {}\n",
    "        dictOf_PG_PresAbs_DF[i_SampleSet][AnnoPipeline] = {}\n",
    "        \n",
    "        for AsmTech in [\"LongRead\", \"ShortRead\"]:       \n",
    "            \n",
    "            dictOf_PG_OutInfo[i_SampleSet][AnnoPipeline][AsmTech] = {}\n",
    "            dictOf_PG_OutDir_PATHs[i_SampleSet][AnnoPipeline][AsmTech] = {}\n",
    "            dictOf_PG_PresAbs_DF[i_SampleSet][AnnoPipeline][AsmTech] = {}\n",
    "            \n",
    "            \n",
    "            for i_PipeNameWiParam in tqdm(PipeName_WiParam_List):\n",
    "                \n",
    "                dictOf_PG_OutDir_PATHs[i_SampleSet][AnnoPipeline][AsmTech][i_PipeNameWiParam] = {}\n",
    "                \n",
    "                if (AsmTech == \"ShortRead\") & (AnnoPipeline == \"PGAP\"): continue \n",
    "                if (i_SampleSet == \"HighBUSCOIsolates\") & (AnnoPipeline == \"PGAP\"): continue \n",
    "                \n",
    "                if i_SampleSet == \"All\": DataSetSuffix = \"_AllIsolates\"  \n",
    "                elif i_SampleSet == \"HighBUSCOIsolates\": DataSetSuffix = \"_HighBUSCOIsolates\"\n",
    "\n",
    "                if AsmTech == \"LongRead\": SeqTechPrefix = \"\"\n",
    "                elif AsmTech == \"ShortRead\": SeqTechPrefix = \"SR_\"\n",
    "\n",
    "                if AnnoPipeline == \"Bakta\": AnnoSuffix = \"\"\n",
    "                elif AnnoPipeline == \"PGAP\": AnnoSuffix = \"_WiPGAPAnno_V1\"\n",
    "\n",
    "\n",
    "                i_Pipeline_OutDir = f\"{i_Pangenome_Dir}/\"+SeqTechPrefix+i_PipeNameWiParam+DataSetSuffix+AnnoSuffix\n",
    "\n",
    "                if \"Panaroo\" in i_PipeNameWiParam:\n",
    "                    i_PG_Summary_Txt = f\"{i_Pipeline_OutDir}/summary_statistics.txt\"\n",
    "\n",
    "                    i_PG_Stats_DF = read_PanarooSummaryStats(i_PG_Summary_Txt)\n",
    "                    i_PG_Stats_DF[\"Annotation\"] = AnnoPipeline\n",
    "                    i_PG_Stats_DF[\"Method\"] = i_PipeNameWiParam\n",
    "                    i_PG_Stats_DF[\"SeqType\"] = AsmTech\n",
    "                    i_PG_Stats_DF[\"DataSet\"] = i_SampleSet\n",
    "                    \n",
    "                    i_PG_Stats_DF = i_PG_Stats_DF[ i_PG_Stats_DF[\"Category\"].isin(listOfCat_ToKeep)]   \n",
    "                    \n",
    "                    i_Gene_PresAbs_CSV_PATH = f\"{i_Pipeline_OutDir}/gene_presence_absence.csv\"    \n",
    "                    i_Pangenome_Ref_FA_PATH = f\"{i_Pipeline_OutDir}/pan_genome_reference.fa\"\n",
    "                    \n",
    "                    #i_Gene_PresAbs_DF = parse_Panaroo_GenePresAbs_CSV(i_Gene_PresAbs_CSV_PATH)  \n",
    "\n",
    "                    dictOf_PG_OutDir_PATHs[i_SampleSet][AnnoPipeline][AsmTech][i_PipeNameWiParam][\"PresAbs_CSV\"] = i_Gene_PresAbs_CSV_PATH\n",
    "                    dictOf_PG_OutDir_PATHs[i_SampleSet][AnnoPipeline][AsmTech][i_PipeNameWiParam][\"Pangenome_Ref_FA\"] = i_Pangenome_Ref_FA_PATH\n",
    "\n",
    "\n",
    "                elif \"Roary\" in i_PipeNameWiParam:\n",
    "                    i_PG_Summary_Txt = f\"{i_Pipeline_OutDir}/summary_statistics.txt\"\n",
    "\n",
    "                    i_PG_Stats_DF = read_PanarooSummaryStats(i_PG_Summary_Txt)\n",
    "                    i_PG_Stats_DF[\"Annotation\"] = AnnoPipeline\n",
    "                    i_PG_Stats_DF[\"Method\"] = i_PipeNameWiParam\n",
    "                    i_PG_Stats_DF[\"SeqType\"] = AsmTech\n",
    "                    i_PG_Stats_DF[\"DataSet\"] = i_SampleSet\n",
    "                    \n",
    "                    i_PG_Stats_DF = i_PG_Stats_DF[ i_PG_Stats_DF[\"Category\"].isin(listOfCat_ToKeep)]   \n",
    "\n",
    "                    i_Gene_PresAbs_CSV_PATH = f\"{i_Pipeline_OutDir}/gene_presence_absence.csv\"    \n",
    "\n",
    "                    i_Pangenome_Ref_FA_PATH = f\"{i_Pipeline_OutDir}/pan_genome_reference.fa\"\n",
    "\n",
    "                    \n",
    "                    #i_Gene_PresAbs_DF = parse_Panaroo_GenePresAbs_CSV(i_Gene_PresAbs_CSV_PATH)  \n",
    "                    \n",
    "                    \n",
    "                    dictOf_PG_OutDir_PATHs[i_SampleSet][AnnoPipeline][AsmTech][i_PipeNameWiParam][\"PresAbs_CSV\"] = i_Gene_PresAbs_CSV_PATH\n",
    "                    dictOf_PG_OutDir_PATHs[i_SampleSet][AnnoPipeline][AsmTech][i_PipeNameWiParam][\"Pangenome_Ref_FA\"] = i_Pangenome_Ref_FA_PATH\n",
    "\n",
    "                    \n",
    "                elif \"Ppanggolin\" in i_PipeNameWiParam:\n",
    "                    i_PG_Summary_Txt = f\"{i_Pipeline_OutDir}/pangenome.ContentSummary.txt\"\n",
    "\n",
    "                    i_PG_Stats_DF = read_Ppanggolin_ContextStats(i_PG_Summary_Txt)\n",
    "                    i_PG_Stats_DF[\"Annotation\"] = AnnoPipeline\n",
    "                    i_PG_Stats_DF[\"Method\"] = i_PipeNameWiParam\n",
    "                    i_PG_Stats_DF[\"SeqType\"] = AsmTech\n",
    "                    i_PG_Stats_DF[\"DataSet\"] = i_SampleSet\n",
    "                    \n",
    "                    i_PG_Stats_DF = i_PG_Stats_DF[ i_PG_Stats_DF[\"Category\"].isin(listOfCat_ToKeep)]   \n",
    "\n",
    "                    i_Gene_PresAbs_Rtab_PATH = f\"{i_Pipeline_OutDir}/gene_presence_absence.Rtab\"    \n",
    "                    \n",
    "                    #i_Gene_PresAbs_DF = parse_Panaroo_GenePresAbs_Rtab(i_Gene_PresAbs_Rtab_PATH)\n",
    "                                          \n",
    "                    dictOf_PG_OutDir_PATHs[i_SampleSet][AnnoPipeline][AsmTech][i_PipeNameWiParam][\"PresAbs_Rtab\"] = i_Gene_PresAbs_Rtab_PATH\n",
    "\n",
    "\n",
    "                dictOf_PG_OutInfo[i_SampleSet][AnnoPipeline][AsmTech][i_PipeNameWiParam] = i_PG_Stats_DF\n",
    "                \n",
    "                #dictOf_PG_PresAbs_DF[i_SampleSet][AnnoPipeline][AsmTech][i_PipeNameWiParam] = i_Gene_PresAbs_DF\n",
    "                \n",
    "                dictOf_PG_OutDir_PATHs[i_SampleSet][AnnoPipeline][AsmTech][i_PipeNameWiParam][\"Stats_TXT\"] = i_PG_Summary_Txt\n"
   ]
  },
  {
   "cell_type": "code",
   "execution_count": 12,
   "id": "2c36b68f-ca8a-4959-a414-7cf1d8dc5630",
   "metadata": {},
   "outputs": [
    {
     "data": {
      "text/html": [
       "<div>\n",
       "<style scoped>\n",
       "    .dataframe tbody tr th:only-of-type {\n",
       "        vertical-align: middle;\n",
       "    }\n",
       "\n",
       "    .dataframe tbody tr th {\n",
       "        vertical-align: top;\n",
       "    }\n",
       "\n",
       "    .dataframe thead th {\n",
       "        text-align: right;\n",
       "    }\n",
       "</style>\n",
       "<table border=\"1\" class=\"dataframe\">\n",
       "  <thead>\n",
       "    <tr style=\"text-align: right;\">\n",
       "      <th></th>\n",
       "      <th>Category</th>\n",
       "      <th>Range</th>\n",
       "      <th>GeneCount</th>\n",
       "      <th>Annotation</th>\n",
       "      <th>Method</th>\n",
       "      <th>SeqType</th>\n",
       "      <th>DataSet</th>\n",
       "    </tr>\n",
       "  </thead>\n",
       "  <tbody>\n",
       "    <tr>\n",
       "      <th>0</th>\n",
       "      <td>Core genes</td>\n",
       "      <td>(99% &lt;= strains &lt;= 100%)</td>\n",
       "      <td>3035</td>\n",
       "      <td>Bakta</td>\n",
       "      <td>Panaroo_Strict_MergeParalogs</td>\n",
       "      <td>LongRead</td>\n",
       "      <td>All</td>\n",
       "    </tr>\n",
       "    <tr>\n",
       "      <th>4</th>\n",
       "      <td>Total genes</td>\n",
       "      <td>(0% &lt;= strains &lt;= 100%)</td>\n",
       "      <td>14410</td>\n",
       "      <td>Bakta</td>\n",
       "      <td>Panaroo_Strict_MergeParalogs</td>\n",
       "      <td>LongRead</td>\n",
       "      <td>All</td>\n",
       "    </tr>\n",
       "    <tr>\n",
       "      <th>5</th>\n",
       "      <td>Accessory genes</td>\n",
       "      <td>(0% &lt;= strains &lt; 99%)</td>\n",
       "      <td>11375</td>\n",
       "      <td>Bakta</td>\n",
       "      <td>Panaroo_Strict_MergeParalogs</td>\n",
       "      <td>LongRead</td>\n",
       "      <td>All</td>\n",
       "    </tr>\n",
       "  </tbody>\n",
       "</table>\n",
       "</div>"
      ],
      "text/plain": [
       "          Category                     Range  GeneCount Annotation                        Method   SeqType DataSet\n",
       "0       Core genes  (99% <= strains <= 100%)       3035      Bakta  Panaroo_Strict_MergeParalogs  LongRead     All\n",
       "4      Total genes   (0% <= strains <= 100%)      14410      Bakta  Panaroo_Strict_MergeParalogs  LongRead     All\n",
       "5  Accessory genes     (0% <= strains < 99%)      11375      Bakta  Panaroo_Strict_MergeParalogs  LongRead     All"
      ]
     },
     "execution_count": 12,
     "metadata": {},
     "output_type": "execute_result"
    }
   ],
   "source": [
    "dictOf_PG_OutInfo[\"All\"][\"Bakta\"][\"LongRead\"][\"Panaroo_Strict_MergeParalogs\"]   "
   ]
  },
  {
   "cell_type": "code",
   "execution_count": 13,
   "id": "7476dea4-e0de-418b-8e70-96bfa5dfa62d",
   "metadata": {},
   "outputs": [
    {
     "data": {
      "text/html": [
       "<div>\n",
       "<style scoped>\n",
       "    .dataframe tbody tr th:only-of-type {\n",
       "        vertical-align: middle;\n",
       "    }\n",
       "\n",
       "    .dataframe tbody tr th {\n",
       "        vertical-align: top;\n",
       "    }\n",
       "\n",
       "    .dataframe thead th {\n",
       "        text-align: right;\n",
       "    }\n",
       "</style>\n",
       "<table border=\"1\" class=\"dataframe\">\n",
       "  <thead>\n",
       "    <tr style=\"text-align: right;\">\n",
       "      <th></th>\n",
       "      <th>Category</th>\n",
       "      <th>Range</th>\n",
       "      <th>GeneCount</th>\n",
       "      <th>Annotation</th>\n",
       "      <th>Method</th>\n",
       "      <th>SeqType</th>\n",
       "      <th>DataSet</th>\n",
       "    </tr>\n",
       "  </thead>\n",
       "  <tbody>\n",
       "    <tr>\n",
       "      <th>0</th>\n",
       "      <td>Core genes</td>\n",
       "      <td>(99% &lt;= strains &lt;= 100%)</td>\n",
       "      <td>2834</td>\n",
       "      <td>Bakta</td>\n",
       "      <td>Panaroo_Strict_MergeParalogs</td>\n",
       "      <td>ShortRead</td>\n",
       "      <td>All</td>\n",
       "    </tr>\n",
       "    <tr>\n",
       "      <th>4</th>\n",
       "      <td>Total genes</td>\n",
       "      <td>(0% &lt;= strains &lt;= 100%)</td>\n",
       "      <td>12836</td>\n",
       "      <td>Bakta</td>\n",
       "      <td>Panaroo_Strict_MergeParalogs</td>\n",
       "      <td>ShortRead</td>\n",
       "      <td>All</td>\n",
       "    </tr>\n",
       "    <tr>\n",
       "      <th>5</th>\n",
       "      <td>Accessory genes</td>\n",
       "      <td>(0% &lt;= strains &lt; 99%)</td>\n",
       "      <td>10002</td>\n",
       "      <td>Bakta</td>\n",
       "      <td>Panaroo_Strict_MergeParalogs</td>\n",
       "      <td>ShortRead</td>\n",
       "      <td>All</td>\n",
       "    </tr>\n",
       "  </tbody>\n",
       "</table>\n",
       "</div>"
      ],
      "text/plain": [
       "          Category                     Range  GeneCount Annotation                        Method    SeqType DataSet\n",
       "0       Core genes  (99% <= strains <= 100%)       2834      Bakta  Panaroo_Strict_MergeParalogs  ShortRead     All\n",
       "4      Total genes   (0% <= strains <= 100%)      12836      Bakta  Panaroo_Strict_MergeParalogs  ShortRead     All\n",
       "5  Accessory genes     (0% <= strains < 99%)      10002      Bakta  Panaroo_Strict_MergeParalogs  ShortRead     All"
      ]
     },
     "execution_count": 13,
     "metadata": {},
     "output_type": "execute_result"
    }
   ],
   "source": [
    "dictOf_PG_OutInfo[\"All\"][\"Bakta\"][\"ShortRead\"][\"Panaroo_Strict_MergeParalogs\"]\n"
   ]
  },
  {
   "cell_type": "code",
   "execution_count": null,
   "id": "bcaf6097-9321-409c-93a2-91b77b65a65c",
   "metadata": {},
   "outputs": [],
   "source": []
  },
  {
   "cell_type": "code",
   "execution_count": null,
   "id": "a6b5a89d-0236-4313-b25a-e89da73bc7b6",
   "metadata": {},
   "outputs": [],
   "source": []
  },
  {
   "cell_type": "markdown",
   "id": "4ea8b283-b51a-483b-989d-e811127304cb",
   "metadata": {},
   "source": [
    "# 1) Merge all Pan-genome counts accross all combinations evaluated"
   ]
  },
  {
   "cell_type": "code",
   "execution_count": 14,
   "id": "5146c6dd-654d-4769-86ab-61ffef6fe143",
   "metadata": {},
   "outputs": [
    {
     "data": {
      "text/plain": [
       "(42, 11)"
      ]
     },
     "execution_count": 14,
     "metadata": {},
     "output_type": "execute_result"
    }
   ],
   "source": [
    "\n",
    "PipeName_WiParam_List = ['Panaroo_Strict_MergeParalogs', 'Panaroo_Moderate_MergeParalogs',\n",
    "                         'Panaroo_Sensitive_MergeParalogs', #'Panaroo_Strict', Panaroo_Moderate', 'Panaroo_Sensitive',\n",
    "                         'Roary_NoSplitParalogs_I80', 'Roary_NoSplitParalogs_I90',\n",
    "                         'Roary_NoSplitParalogs',  'Roary_Default',] # 'Ppanggolin_Default']\n",
    "\n",
    "\n",
    "listOf_PG_InfoDFs = []\n",
    "for i_SampleSet in [\"All\"]: # \"HighBUSCOIsolates\"\n",
    "    for AnnoPipeline in [\"Bakta\"]:\n",
    "        for AsmTech in [\"LongRead\", \"ShortRead\"]:\n",
    "            for i_PipeNameWiParam in PipeName_WiParam_List:\n",
    "                i_PG_Stats_DF = dictOf_PG_OutInfo[i_SampleSet][AnnoPipeline][AsmTech][i_PipeNameWiParam]\n",
    "                \n",
    "                listOf_PG_InfoDFs.append(i_PG_Stats_DF)\n",
    "\n",
    "\n",
    "PG_Merged_Stats_LRandSR_DF = pd.concat(listOf_PG_InfoDFs)\n",
    "\n",
    "PG_Merged_Stats_LRandSR_DF[\"MethodAndTech\"] = PG_Merged_Stats_LRandSR_DF[\"Method\"] + \"_\" +PG_Merged_Stats_LRandSR_DF[\"SeqType\"]\n",
    "\n",
    "PG_Merged_Stats_LRandSR_DF[\"MethodAndTechAndAnno\"] = PG_Merged_Stats_LRandSR_DF[\"Method\"] + \"_\" +PG_Merged_Stats_LRandSR_DF[\"SeqType\"]  + \"_\" +PG_Merged_Stats_LRandSR_DF[\"Annotation\"]  \n",
    "\n",
    "PG_Merged_Stats_LRandSR_DF[\"AnnoAndTech\"] = PG_Merged_Stats_LRandSR_DF[\"Annotation\"] + \"-\" + PG_Merged_Stats_LRandSR_DF[\"SeqType\"]\n",
    "\n",
    "PG_Merged_Stats_LRandSR_DF[\"PangenomeTool\"] = PG_Merged_Stats_LRandSR_DF[\"Method\"].str.split(\"_\").str[0]\n",
    "\n",
    "PG_Merged_Stats_LRandSR_DF.shape\n"
   ]
  },
  {
   "cell_type": "code",
   "execution_count": null,
   "id": "cf21130c-c39b-4326-ad2b-16c551e86265",
   "metadata": {},
   "outputs": [],
   "source": []
  },
  {
   "cell_type": "code",
   "execution_count": 15,
   "id": "8331dcdf-1b44-4850-96da-34bc1db921e5",
   "metadata": {},
   "outputs": [
    {
     "data": {
      "text/plain": [
       "(99% <= strains <= 100%)    14\n",
       "(0% <= strains <= 100%)     14\n",
       "(0% <= strains < 99%)       14\n",
       "Name: Range, dtype: int64"
      ]
     },
     "execution_count": 15,
     "metadata": {},
     "output_type": "execute_result"
    }
   ],
   "source": [
    "PG_Merged_Stats_LRandSR_DF[\"Range\"].value_counts()"
   ]
  },
  {
   "cell_type": "code",
   "execution_count": 16,
   "id": "9dfee8ff-120a-4331-b04d-3b10bf2b7021",
   "metadata": {},
   "outputs": [
    {
     "data": {
      "text/plain": [
       "(42, 11)"
      ]
     },
     "execution_count": 16,
     "metadata": {},
     "output_type": "execute_result"
    }
   ],
   "source": [
    "PG_Merged_Stats_LRandSR_DF.shape"
   ]
  },
  {
   "cell_type": "markdown",
   "id": "f5e9cf93-2d12-434a-9516-836c50d1af01",
   "metadata": {},
   "source": [
    "## Divide Pan-genome summary stats by \"assembly type\" and \"gene category\""
   ]
  },
  {
   "cell_type": "code",
   "execution_count": 17,
   "id": "f7e6366f-b2d9-47c4-81e8-6be3d3dba699",
   "metadata": {},
   "outputs": [],
   "source": [
    "PG_Merged_Stats_LRandSR_Pangenome_DF = PG_Merged_Stats_LRandSR_DF.query(\" Category == 'Total genes'  \")\n",
    "PG_Merged_Stats_LRandSR_Core_DF = PG_Merged_Stats_LRandSR_DF.query(\" Category == 'Core genes'  \")\n",
    "PG_Merged_Stats_LRandSR_Acc_DF = PG_Merged_Stats_LRandSR_DF.query(\" Category == 'Accessory genes'  \")"
   ]
  },
  {
   "cell_type": "code",
   "execution_count": 18,
   "id": "1fa8dd15-8504-4ba5-9105-3bae5c9b1595",
   "metadata": {},
   "outputs": [],
   "source": [
    "PG_Merged_Stats_LR_Pangenome_DF = PG_Merged_Stats_LRandSR_DF.query(\" Category == 'Total genes'  \").query(\" SeqType == 'LongRead'  \")\n",
    "PG_Merged_Stats_LR_Core_DF = PG_Merged_Stats_LRandSR_DF.query(\" Category == 'Core genes'  \").query(\" SeqType == 'LongRead'  \")\n",
    "PG_Merged_Stats_LR_Acc_DF = PG_Merged_Stats_LRandSR_DF.query(\" Category == 'Accessory genes'  \").query(\" SeqType == 'LongRead'  \")"
   ]
  },
  {
   "cell_type": "code",
   "execution_count": 19,
   "id": "e11475ac-368c-40da-b0cd-0c85b5487ef6",
   "metadata": {},
   "outputs": [],
   "source": [
    "PG_Merged_Stats_SR_Pangenome_DF = PG_Merged_Stats_LRandSR_DF.query(\" Category == 'Total genes'  \").query(\" SeqType == 'ShortRead'  \")\n",
    "PG_Merged_Stats_SR_Core_DF = PG_Merged_Stats_LRandSR_DF.query(\" Category == 'Core genes'  \").query(\" SeqType == 'ShortRead'  \")\n",
    "PG_Merged_Stats_SR_Acc_DF = PG_Merged_Stats_LRandSR_DF.query(\" Category == 'Accessory genes'  \").query(\" SeqType == 'ShortRead'  \")"
   ]
  },
  {
   "cell_type": "code",
   "execution_count": null,
   "id": "ebc17283-db97-4bd9-9ed2-569e62fbbe36",
   "metadata": {},
   "outputs": [],
   "source": []
  },
  {
   "cell_type": "code",
   "execution_count": 20,
   "id": "1190d34a-c488-4d5a-9838-86ab5068ac54",
   "metadata": {},
   "outputs": [],
   "source": [
    "# PG_Merged_Stats_LR_DF = pd.concat([Panaroo_Strict_Stats_DF,\n",
    "#                                 Panaroo_Moderate_Stats_DF,\n",
    "#                                 Panaroo_Sensitive_Stats_DF,\n",
    "#                                 Roary_Default_Stats_DF,\n",
    "#                                 Roary_NoSplit_Stats_DF,\n",
    "#                                 Roary_NoSplitI90_Stats_DF,\n",
    "#                                 Ppanggolin_Default_Stats_DF])\n",
    "\n",
    "# PG_Merged_Stats_LR_DF.shape"
   ]
  },
  {
   "cell_type": "code",
   "execution_count": null,
   "id": "197c5f9f-9fd4-4193-bf00-4aaa327a5cc8",
   "metadata": {},
   "outputs": [],
   "source": []
  },
  {
   "cell_type": "code",
   "execution_count": null,
   "id": "03d7ebdb-ad6c-4c19-ba41-587efcd72c5f",
   "metadata": {},
   "outputs": [],
   "source": []
  },
  {
   "cell_type": "markdown",
   "id": "25fc82b2-3d03-43ef-9d1c-b036b3e32070",
   "metadata": {},
   "source": [
    "### Explore data structure a bit"
   ]
  },
  {
   "cell_type": "code",
   "execution_count": 21,
   "id": "1e4615a3-5116-4b91-a729-d7fbdb8454de",
   "metadata": {},
   "outputs": [
    {
     "data": {
      "text/html": [
       "<div>\n",
       "<style scoped>\n",
       "    .dataframe tbody tr th:only-of-type {\n",
       "        vertical-align: middle;\n",
       "    }\n",
       "\n",
       "    .dataframe tbody tr th {\n",
       "        vertical-align: top;\n",
       "    }\n",
       "\n",
       "    .dataframe thead th {\n",
       "        text-align: right;\n",
       "    }\n",
       "</style>\n",
       "<table border=\"1\" class=\"dataframe\">\n",
       "  <thead>\n",
       "    <tr style=\"text-align: right;\">\n",
       "      <th></th>\n",
       "      <th>Category</th>\n",
       "      <th>Range</th>\n",
       "      <th>GeneCount</th>\n",
       "      <th>Annotation</th>\n",
       "      <th>Method</th>\n",
       "      <th>SeqType</th>\n",
       "      <th>DataSet</th>\n",
       "      <th>MethodAndTech</th>\n",
       "      <th>MethodAndTechAndAnno</th>\n",
       "      <th>AnnoAndTech</th>\n",
       "      <th>PangenomeTool</th>\n",
       "    </tr>\n",
       "  </thead>\n",
       "  <tbody>\n",
       "    <tr>\n",
       "      <th>0</th>\n",
       "      <td>Core genes</td>\n",
       "      <td>(99% &lt;= strains &lt;= 100%)</td>\n",
       "      <td>3035</td>\n",
       "      <td>Bakta</td>\n",
       "      <td>Panaroo_Strict_MergeParalogs</td>\n",
       "      <td>LongRead</td>\n",
       "      <td>All</td>\n",
       "      <td>Panaroo_Strict_MergeParalogs_LongRead</td>\n",
       "      <td>Panaroo_Strict_MergeParalogs_LongRead_Bakta</td>\n",
       "      <td>Bakta-LongRead</td>\n",
       "      <td>Panaroo</td>\n",
       "    </tr>\n",
       "    <tr>\n",
       "      <th>4</th>\n",
       "      <td>Total genes</td>\n",
       "      <td>(0% &lt;= strains &lt;= 100%)</td>\n",
       "      <td>14410</td>\n",
       "      <td>Bakta</td>\n",
       "      <td>Panaroo_Strict_MergeParalogs</td>\n",
       "      <td>LongRead</td>\n",
       "      <td>All</td>\n",
       "      <td>Panaroo_Strict_MergeParalogs_LongRead</td>\n",
       "      <td>Panaroo_Strict_MergeParalogs_LongRead_Bakta</td>\n",
       "      <td>Bakta-LongRead</td>\n",
       "      <td>Panaroo</td>\n",
       "    </tr>\n",
       "    <tr>\n",
       "      <th>5</th>\n",
       "      <td>Accessory genes</td>\n",
       "      <td>(0% &lt;= strains &lt; 99%)</td>\n",
       "      <td>11375</td>\n",
       "      <td>Bakta</td>\n",
       "      <td>Panaroo_Strict_MergeParalogs</td>\n",
       "      <td>LongRead</td>\n",
       "      <td>All</td>\n",
       "      <td>Panaroo_Strict_MergeParalogs_LongRead</td>\n",
       "      <td>Panaroo_Strict_MergeParalogs_LongRead_Bakta</td>\n",
       "      <td>Bakta-LongRead</td>\n",
       "      <td>Panaroo</td>\n",
       "    </tr>\n",
       "    <tr>\n",
       "      <th>0</th>\n",
       "      <td>Core genes</td>\n",
       "      <td>(99% &lt;= strains &lt;= 100%)</td>\n",
       "      <td>3036</td>\n",
       "      <td>Bakta</td>\n",
       "      <td>Panaroo_Moderate_MergeParalogs</td>\n",
       "      <td>LongRead</td>\n",
       "      <td>All</td>\n",
       "      <td>Panaroo_Moderate_MergeParalogs_LongRead</td>\n",
       "      <td>Panaroo_Moderate_MergeParalogs_LongRead_Bakta</td>\n",
       "      <td>Bakta-LongRead</td>\n",
       "      <td>Panaroo</td>\n",
       "    </tr>\n",
       "  </tbody>\n",
       "</table>\n",
       "</div>"
      ],
      "text/plain": [
       "          Category                     Range  GeneCount Annotation                          Method   SeqType DataSet                            MethodAndTech                           MethodAndTechAndAnno     AnnoAndTech PangenomeTool\n",
       "0       Core genes  (99% <= strains <= 100%)       3035      Bakta    Panaroo_Strict_MergeParalogs  LongRead     All    Panaroo_Strict_MergeParalogs_LongRead    Panaroo_Strict_MergeParalogs_LongRead_Bakta  Bakta-LongRead       Panaroo\n",
       "4      Total genes   (0% <= strains <= 100%)      14410      Bakta    Panaroo_Strict_MergeParalogs  LongRead     All    Panaroo_Strict_MergeParalogs_LongRead    Panaroo_Strict_MergeParalogs_LongRead_Bakta  Bakta-LongRead       Panaroo\n",
       "5  Accessory genes     (0% <= strains < 99%)      11375      Bakta    Panaroo_Strict_MergeParalogs  LongRead     All    Panaroo_Strict_MergeParalogs_LongRead    Panaroo_Strict_MergeParalogs_LongRead_Bakta  Bakta-LongRead       Panaroo\n",
       "0       Core genes  (99% <= strains <= 100%)       3036      Bakta  Panaroo_Moderate_MergeParalogs  LongRead     All  Panaroo_Moderate_MergeParalogs_LongRead  Panaroo_Moderate_MergeParalogs_LongRead_Bakta  Bakta-LongRead       Panaroo"
      ]
     },
     "execution_count": 21,
     "metadata": {},
     "output_type": "execute_result"
    }
   ],
   "source": [
    "PG_Merged_Stats_LRandSR_DF.head(4)"
   ]
  },
  {
   "cell_type": "code",
   "execution_count": 22,
   "id": "9cf64e3a-c334-44cf-a0e0-1d6171e1740b",
   "metadata": {},
   "outputs": [
    {
     "data": {
      "text/plain": [
       "Core genes         14\n",
       "Total genes        14\n",
       "Accessory genes    14\n",
       "Name: Category, dtype: int64"
      ]
     },
     "execution_count": 22,
     "metadata": {},
     "output_type": "execute_result"
    }
   ],
   "source": [
    "PG_Merged_Stats_LRandSR_DF[\"Category\"].value_counts()"
   ]
  },
  {
   "cell_type": "code",
   "execution_count": null,
   "id": "56a9f093-9f30-4b0a-91bd-565cc428fec3",
   "metadata": {},
   "outputs": [],
   "source": []
  },
  {
   "cell_type": "markdown",
   "id": "0c823694-7d68-4268-b374-babead2d3ea7",
   "metadata": {},
   "source": [
    "### Output `PG_Merged_Stats_LRandSR_DF` to TSV"
   ]
  },
  {
   "cell_type": "code",
   "execution_count": 23,
   "id": "d8d021b1-be60-4520-bc44-3b50b1ee9e6d",
   "metadata": {},
   "outputs": [
    {
     "name": "stdout",
     "output_type": "stream",
     "text": [
      "mkdir: cannot create directory ‘../../Data/240116.PG_Results’: File exists\n"
     ]
    }
   ],
   "source": [
    "PG_Results_OutDir = \"../../Data/240116.PG_Results\" \n",
    "\n",
    "!mkdir $PG_Results_OutDir\n",
    "\n",
    "PG_Merged_Stats_LRandSR_DF.to_csv(f\"{PG_Results_OutDir}/Ecoli50CI.PG_Merged_Stats_LRandSR.tsv\", sep=\"\\t\", index=False)\n"
   ]
  },
  {
   "cell_type": "code",
   "execution_count": 24,
   "id": "69be4f52-15ed-493d-875e-ad1004324b2f",
   "metadata": {},
   "outputs": [
    {
     "data": {
      "text/html": [
       "<div>\n",
       "<style scoped>\n",
       "    .dataframe tbody tr th:only-of-type {\n",
       "        vertical-align: middle;\n",
       "    }\n",
       "\n",
       "    .dataframe tbody tr th {\n",
       "        vertical-align: top;\n",
       "    }\n",
       "\n",
       "    .dataframe thead th {\n",
       "        text-align: right;\n",
       "    }\n",
       "</style>\n",
       "<table border=\"1\" class=\"dataframe\">\n",
       "  <thead>\n",
       "    <tr style=\"text-align: right;\">\n",
       "      <th></th>\n",
       "      <th>Category</th>\n",
       "      <th>Range</th>\n",
       "      <th>GeneCount</th>\n",
       "      <th>Annotation</th>\n",
       "      <th>Method</th>\n",
       "      <th>SeqType</th>\n",
       "      <th>DataSet</th>\n",
       "      <th>MethodAndTech</th>\n",
       "      <th>MethodAndTechAndAnno</th>\n",
       "      <th>AnnoAndTech</th>\n",
       "      <th>PangenomeTool</th>\n",
       "    </tr>\n",
       "  </thead>\n",
       "  <tbody>\n",
       "    <tr>\n",
       "      <th>0</th>\n",
       "      <td>Core genes</td>\n",
       "      <td>(99% &lt;= strains &lt;= 100%)</td>\n",
       "      <td>3035</td>\n",
       "      <td>Bakta</td>\n",
       "      <td>Panaroo_Strict_MergeParalogs</td>\n",
       "      <td>LongRead</td>\n",
       "      <td>All</td>\n",
       "      <td>Panaroo_Strict_MergeParalogs_LongRead</td>\n",
       "      <td>Panaroo_Strict_MergeParalogs_LongRead_Bakta</td>\n",
       "      <td>Bakta-LongRead</td>\n",
       "      <td>Panaroo</td>\n",
       "    </tr>\n",
       "    <tr>\n",
       "      <th>4</th>\n",
       "      <td>Total genes</td>\n",
       "      <td>(0% &lt;= strains &lt;= 100%)</td>\n",
       "      <td>14410</td>\n",
       "      <td>Bakta</td>\n",
       "      <td>Panaroo_Strict_MergeParalogs</td>\n",
       "      <td>LongRead</td>\n",
       "      <td>All</td>\n",
       "      <td>Panaroo_Strict_MergeParalogs_LongRead</td>\n",
       "      <td>Panaroo_Strict_MergeParalogs_LongRead_Bakta</td>\n",
       "      <td>Bakta-LongRead</td>\n",
       "      <td>Panaroo</td>\n",
       "    </tr>\n",
       "    <tr>\n",
       "      <th>5</th>\n",
       "      <td>Accessory genes</td>\n",
       "      <td>(0% &lt;= strains &lt; 99%)</td>\n",
       "      <td>11375</td>\n",
       "      <td>Bakta</td>\n",
       "      <td>Panaroo_Strict_MergeParalogs</td>\n",
       "      <td>LongRead</td>\n",
       "      <td>All</td>\n",
       "      <td>Panaroo_Strict_MergeParalogs_LongRead</td>\n",
       "      <td>Panaroo_Strict_MergeParalogs_LongRead_Bakta</td>\n",
       "      <td>Bakta-LongRead</td>\n",
       "      <td>Panaroo</td>\n",
       "    </tr>\n",
       "    <tr>\n",
       "      <th>0</th>\n",
       "      <td>Core genes</td>\n",
       "      <td>(99% &lt;= strains &lt;= 100%)</td>\n",
       "      <td>3036</td>\n",
       "      <td>Bakta</td>\n",
       "      <td>Panaroo_Moderate_MergeParalogs</td>\n",
       "      <td>LongRead</td>\n",
       "      <td>All</td>\n",
       "      <td>Panaroo_Moderate_MergeParalogs_LongRead</td>\n",
       "      <td>Panaroo_Moderate_MergeParalogs_LongRead_Bakta</td>\n",
       "      <td>Bakta-LongRead</td>\n",
       "      <td>Panaroo</td>\n",
       "    </tr>\n",
       "  </tbody>\n",
       "</table>\n",
       "</div>"
      ],
      "text/plain": [
       "          Category                     Range  GeneCount Annotation                          Method   SeqType DataSet                            MethodAndTech                           MethodAndTechAndAnno     AnnoAndTech PangenomeTool\n",
       "0       Core genes  (99% <= strains <= 100%)       3035      Bakta    Panaroo_Strict_MergeParalogs  LongRead     All    Panaroo_Strict_MergeParalogs_LongRead    Panaroo_Strict_MergeParalogs_LongRead_Bakta  Bakta-LongRead       Panaroo\n",
       "4      Total genes   (0% <= strains <= 100%)      14410      Bakta    Panaroo_Strict_MergeParalogs  LongRead     All    Panaroo_Strict_MergeParalogs_LongRead    Panaroo_Strict_MergeParalogs_LongRead_Bakta  Bakta-LongRead       Panaroo\n",
       "5  Accessory genes     (0% <= strains < 99%)      11375      Bakta    Panaroo_Strict_MergeParalogs  LongRead     All    Panaroo_Strict_MergeParalogs_LongRead    Panaroo_Strict_MergeParalogs_LongRead_Bakta  Bakta-LongRead       Panaroo\n",
       "0       Core genes  (99% <= strains <= 100%)       3036      Bakta  Panaroo_Moderate_MergeParalogs  LongRead     All  Panaroo_Moderate_MergeParalogs_LongRead  Panaroo_Moderate_MergeParalogs_LongRead_Bakta  Bakta-LongRead       Panaroo"
      ]
     },
     "execution_count": 24,
     "metadata": {},
     "output_type": "execute_result"
    }
   ],
   "source": [
    "PG_Merged_Stats_LRandSR_DF.head(4)"
   ]
  },
  {
   "cell_type": "code",
   "execution_count": null,
   "id": "c2e0e5c9-94b6-404b-8402-874a8ed0285f",
   "metadata": {},
   "outputs": [],
   "source": []
  },
  {
   "cell_type": "code",
   "execution_count": null,
   "id": "365ba959-5949-4e8f-bc4c-ed584614d1d8",
   "metadata": {},
   "outputs": [],
   "source": []
  },
  {
   "cell_type": "code",
   "execution_count": null,
   "id": "4a0e43b0-9f88-4aac-96a0-54465123d475",
   "metadata": {},
   "outputs": [],
   "source": []
  },
  {
   "cell_type": "markdown",
   "id": "31ee08f9-365f-4ba6-ba61-9c33b79519bf",
   "metadata": {},
   "source": [
    "# 2) Create Pan-genome summary table - Wide version \n",
    "\n",
    "This table will have pangenome predictions (Total, Core, and Accessory genes) across all methods + technologies."
   ]
  },
  {
   "cell_type": "markdown",
   "id": "bb6ce6c8-21f1-420a-b73e-b6b86930f8c7",
   "metadata": {},
   "source": [
    "### Pivot table to get summary per Method and Seqtype"
   ]
  },
  {
   "cell_type": "code",
   "execution_count": 23,
   "id": "3f019630-64cd-480b-a222-e76e7791e197",
   "metadata": {},
   "outputs": [
    {
     "data": {
      "text/html": [
       "<div>\n",
       "<style scoped>\n",
       "    .dataframe tbody tr th:only-of-type {\n",
       "        vertical-align: middle;\n",
       "    }\n",
       "\n",
       "    .dataframe tbody tr th {\n",
       "        vertical-align: top;\n",
       "    }\n",
       "\n",
       "    .dataframe thead th {\n",
       "        text-align: right;\n",
       "    }\n",
       "</style>\n",
       "<table border=\"1\" class=\"dataframe\">\n",
       "  <thead>\n",
       "    <tr style=\"text-align: right;\">\n",
       "      <th></th>\n",
       "      <th>Category</th>\n",
       "      <th>Range</th>\n",
       "      <th>GeneCount</th>\n",
       "      <th>Annotation</th>\n",
       "      <th>Method</th>\n",
       "      <th>SeqType</th>\n",
       "      <th>DataSet</th>\n",
       "      <th>MethodAndTech</th>\n",
       "      <th>MethodAndTechAndAnno</th>\n",
       "      <th>AnnoAndTech</th>\n",
       "      <th>PangenomeTool</th>\n",
       "    </tr>\n",
       "  </thead>\n",
       "  <tbody>\n",
       "    <tr>\n",
       "      <th>0</th>\n",
       "      <td>Core genes</td>\n",
       "      <td>(99% &lt;= strains &lt;= 100%)</td>\n",
       "      <td>3035</td>\n",
       "      <td>Bakta</td>\n",
       "      <td>Panaroo_Strict_MergeParalogs</td>\n",
       "      <td>LongRead</td>\n",
       "      <td>All</td>\n",
       "      <td>Panaroo_Strict_MergeParalogs_LongRead</td>\n",
       "      <td>Panaroo_Strict_MergeParalogs_LongRead_Bakta</td>\n",
       "      <td>Bakta-LongRead</td>\n",
       "      <td>Panaroo</td>\n",
       "    </tr>\n",
       "    <tr>\n",
       "      <th>4</th>\n",
       "      <td>Total genes</td>\n",
       "      <td>(0% &lt;= strains &lt;= 100%)</td>\n",
       "      <td>14410</td>\n",
       "      <td>Bakta</td>\n",
       "      <td>Panaroo_Strict_MergeParalogs</td>\n",
       "      <td>LongRead</td>\n",
       "      <td>All</td>\n",
       "      <td>Panaroo_Strict_MergeParalogs_LongRead</td>\n",
       "      <td>Panaroo_Strict_MergeParalogs_LongRead_Bakta</td>\n",
       "      <td>Bakta-LongRead</td>\n",
       "      <td>Panaroo</td>\n",
       "    </tr>\n",
       "  </tbody>\n",
       "</table>\n",
       "</div>"
      ],
      "text/plain": [
       "      Category                     Range  GeneCount Annotation                        Method   SeqType DataSet                          MethodAndTech                         MethodAndTechAndAnno     AnnoAndTech PangenomeTool\n",
       "0   Core genes  (99% <= strains <= 100%)       3035      Bakta  Panaroo_Strict_MergeParalogs  LongRead     All  Panaroo_Strict_MergeParalogs_LongRead  Panaroo_Strict_MergeParalogs_LongRead_Bakta  Bakta-LongRead       Panaroo\n",
       "4  Total genes   (0% <= strains <= 100%)      14410      Bakta  Panaroo_Strict_MergeParalogs  LongRead     All  Panaroo_Strict_MergeParalogs_LongRead  Panaroo_Strict_MergeParalogs_LongRead_Bakta  Bakta-LongRead       Panaroo"
      ]
     },
     "execution_count": 23,
     "metadata": {},
     "output_type": "execute_result"
    }
   ],
   "source": [
    "PG_Merged_Stats_LRandSR_DF.head(2)"
   ]
  },
  {
   "cell_type": "code",
   "execution_count": 24,
   "id": "2ab115e0-a8a2-4823-ba13-10be707b99a2",
   "metadata": {},
   "outputs": [],
   "source": [
    "PG_WideSumm_DF = pd.pivot(PG_Merged_Stats_LRandSR_DF,\n",
    "                          index = [\"MethodAndTech\"],\n",
    "                          columns = [\"Category\"],\n",
    "                          values = [\"GeneCount\"] )    \n",
    "\n",
    "PG_WideSumm_DF.columns = PG_WideSumm_DF.columns.droplevel(0)\n",
    "PG_WideSumm_DF.columns.name = None\n",
    "PG_WideSumm_DF = PG_WideSumm_DF.reset_index()\n",
    "\n",
    "\n",
    "PG_WideSumm_DF[\"SeqType\"] = PG_WideSumm_DF[\"MethodAndTech\"].str.split(\"_\").str[-1]\n",
    "PG_WideSumm_DF[\"Method\"] = PG_WideSumm_DF[\"MethodAndTech\"].str.replace(\"_LongRead\", \"\").str.replace(\"_ShortRead\", \"\")\n",
    "PG_WideSumm_DF[\"PangenomeTool\"] = PG_WideSumm_DF[\"MethodAndTech\"].str.split(\"_\").str[0:1].str[0]\n",
    "\n",
    "# Do some reformatting \n",
    "NewColOrder = ['PangenomeTool', 'SeqType', 'Method', 'Total genes',  'Core genes', 'Accessory genes',  ]\n",
    "\n",
    "PG_WideSumm_DF = PG_WideSumm_DF[NewColOrder]\n",
    "\n",
    "PG_WideSumm_DF = PG_WideSumm_DF.sort_values([\"SeqType\", \"PangenomeTool\", \"Accessory genes\"]).reset_index(drop=True)"
   ]
  },
  {
   "cell_type": "code",
   "execution_count": 25,
   "id": "7d7f6068-9f10-427f-b426-a1b434496d0b",
   "metadata": {},
   "outputs": [
    {
     "data": {
      "text/plain": [
       "Index(['PangenomeTool', 'SeqType', 'Method', 'Total genes', 'Core genes', 'Accessory genes'], dtype='object')"
      ]
     },
     "execution_count": 25,
     "metadata": {},
     "output_type": "execute_result"
    }
   ],
   "source": [
    "PG_WideSumm_DF.columns"
   ]
  },
  {
   "cell_type": "code",
   "execution_count": 26,
   "id": "b441f8be-da49-4fa4-acf5-ce921cfa8cb9",
   "metadata": {},
   "outputs": [],
   "source": [
    "#PG_WideSumm_DF"
   ]
  },
  {
   "cell_type": "code",
   "execution_count": 27,
   "id": "1597b851-967c-4e13-b031-6259cbe79ae7",
   "metadata": {},
   "outputs": [
    {
     "data": {
      "text/html": [
       "<div>\n",
       "<style scoped>\n",
       "    .dataframe tbody tr th:only-of-type {\n",
       "        vertical-align: middle;\n",
       "    }\n",
       "\n",
       "    .dataframe tbody tr th {\n",
       "        vertical-align: top;\n",
       "    }\n",
       "\n",
       "    .dataframe thead th {\n",
       "        text-align: right;\n",
       "    }\n",
       "</style>\n",
       "<table border=\"1\" class=\"dataframe\">\n",
       "  <thead>\n",
       "    <tr style=\"text-align: right;\">\n",
       "      <th></th>\n",
       "      <th>PangenomeTool</th>\n",
       "      <th>SeqType</th>\n",
       "      <th>Method</th>\n",
       "      <th>Total genes</th>\n",
       "      <th>Core genes</th>\n",
       "      <th>Accessory genes</th>\n",
       "    </tr>\n",
       "  </thead>\n",
       "  <tbody>\n",
       "    <tr>\n",
       "      <th>0</th>\n",
       "      <td>Panaroo</td>\n",
       "      <td>LongRead</td>\n",
       "      <td>Panaroo_Strict_MergeParalogs</td>\n",
       "      <td>14410</td>\n",
       "      <td>3035</td>\n",
       "      <td>11375</td>\n",
       "    </tr>\n",
       "    <tr>\n",
       "      <th>1</th>\n",
       "      <td>Panaroo</td>\n",
       "      <td>LongRead</td>\n",
       "      <td>Panaroo_Moderate_MergeParalogs</td>\n",
       "      <td>14641</td>\n",
       "      <td>3036</td>\n",
       "      <td>11605</td>\n",
       "    </tr>\n",
       "    <tr>\n",
       "      <th>2</th>\n",
       "      <td>Panaroo</td>\n",
       "      <td>LongRead</td>\n",
       "      <td>Panaroo_Sensitive_MergeParalogs</td>\n",
       "      <td>15032</td>\n",
       "      <td>3036</td>\n",
       "      <td>11996</td>\n",
       "    </tr>\n",
       "    <tr>\n",
       "      <th>3</th>\n",
       "      <td>Roary</td>\n",
       "      <td>LongRead</td>\n",
       "      <td>Roary_NoSplitParalogs_I80</td>\n",
       "      <td>13312</td>\n",
       "      <td>3035</td>\n",
       "      <td>10277</td>\n",
       "    </tr>\n",
       "    <tr>\n",
       "      <th>4</th>\n",
       "      <td>Roary</td>\n",
       "      <td>LongRead</td>\n",
       "      <td>Roary_NoSplitParalogs_I90</td>\n",
       "      <td>14851</td>\n",
       "      <td>2915</td>\n",
       "      <td>11936</td>\n",
       "    </tr>\n",
       "    <tr>\n",
       "      <th>5</th>\n",
       "      <td>Roary</td>\n",
       "      <td>LongRead</td>\n",
       "      <td>Roary_NoSplitParalogs</td>\n",
       "      <td>17783</td>\n",
       "      <td>2484</td>\n",
       "      <td>15299</td>\n",
       "    </tr>\n",
       "    <tr>\n",
       "      <th>6</th>\n",
       "      <td>Roary</td>\n",
       "      <td>LongRead</td>\n",
       "      <td>Roary_Default</td>\n",
       "      <td>21400</td>\n",
       "      <td>2394</td>\n",
       "      <td>19006</td>\n",
       "    </tr>\n",
       "  </tbody>\n",
       "</table>\n",
       "</div>"
      ],
      "text/plain": [
       "  PangenomeTool   SeqType                           Method  Total genes  Core genes  Accessory genes\n",
       "0       Panaroo  LongRead     Panaroo_Strict_MergeParalogs        14410        3035            11375\n",
       "1       Panaroo  LongRead   Panaroo_Moderate_MergeParalogs        14641        3036            11605\n",
       "2       Panaroo  LongRead  Panaroo_Sensitive_MergeParalogs        15032        3036            11996\n",
       "3         Roary  LongRead        Roary_NoSplitParalogs_I80        13312        3035            10277\n",
       "4         Roary  LongRead        Roary_NoSplitParalogs_I90        14851        2915            11936\n",
       "5         Roary  LongRead            Roary_NoSplitParalogs        17783        2484            15299\n",
       "6         Roary  LongRead                    Roary_Default        21400        2394            19006"
      ]
     },
     "execution_count": 27,
     "metadata": {},
     "output_type": "execute_result"
    }
   ],
   "source": [
    "PG_WideSumm_DF.query(\"SeqType == 'LongRead'\")   "
   ]
  },
  {
   "cell_type": "code",
   "execution_count": 28,
   "id": "f0b008ad-0e84-4238-a342-62f2147fd81d",
   "metadata": {},
   "outputs": [
    {
     "data": {
      "text/html": [
       "<div>\n",
       "<style scoped>\n",
       "    .dataframe tbody tr th:only-of-type {\n",
       "        vertical-align: middle;\n",
       "    }\n",
       "\n",
       "    .dataframe tbody tr th {\n",
       "        vertical-align: top;\n",
       "    }\n",
       "\n",
       "    .dataframe thead th {\n",
       "        text-align: right;\n",
       "    }\n",
       "</style>\n",
       "<table border=\"1\" class=\"dataframe\">\n",
       "  <thead>\n",
       "    <tr style=\"text-align: right;\">\n",
       "      <th></th>\n",
       "      <th>PangenomeTool</th>\n",
       "      <th>SeqType</th>\n",
       "      <th>Method</th>\n",
       "      <th>Total genes</th>\n",
       "      <th>Core genes</th>\n",
       "      <th>Accessory genes</th>\n",
       "    </tr>\n",
       "  </thead>\n",
       "  <tbody>\n",
       "    <tr>\n",
       "      <th>7</th>\n",
       "      <td>Panaroo</td>\n",
       "      <td>ShortRead</td>\n",
       "      <td>Panaroo_Strict_MergeParalogs</td>\n",
       "      <td>12836</td>\n",
       "      <td>2834</td>\n",
       "      <td>10002</td>\n",
       "    </tr>\n",
       "    <tr>\n",
       "      <th>8</th>\n",
       "      <td>Panaroo</td>\n",
       "      <td>ShortRead</td>\n",
       "      <td>Panaroo_Moderate_MergeParalogs</td>\n",
       "      <td>13462</td>\n",
       "      <td>2834</td>\n",
       "      <td>10628</td>\n",
       "    </tr>\n",
       "    <tr>\n",
       "      <th>9</th>\n",
       "      <td>Panaroo</td>\n",
       "      <td>ShortRead</td>\n",
       "      <td>Panaroo_Sensitive_MergeParalogs</td>\n",
       "      <td>15524</td>\n",
       "      <td>2834</td>\n",
       "      <td>12690</td>\n",
       "    </tr>\n",
       "    <tr>\n",
       "      <th>10</th>\n",
       "      <td>Roary</td>\n",
       "      <td>ShortRead</td>\n",
       "      <td>Roary_NoSplitParalogs_I80</td>\n",
       "      <td>13420</td>\n",
       "      <td>2825</td>\n",
       "      <td>10595</td>\n",
       "    </tr>\n",
       "    <tr>\n",
       "      <th>11</th>\n",
       "      <td>Roary</td>\n",
       "      <td>ShortRead</td>\n",
       "      <td>Roary_NoSplitParalogs_I90</td>\n",
       "      <td>14933</td>\n",
       "      <td>2711</td>\n",
       "      <td>12222</td>\n",
       "    </tr>\n",
       "    <tr>\n",
       "      <th>12</th>\n",
       "      <td>Roary</td>\n",
       "      <td>ShortRead</td>\n",
       "      <td>Roary_NoSplitParalogs</td>\n",
       "      <td>17825</td>\n",
       "      <td>2314</td>\n",
       "      <td>15511</td>\n",
       "    </tr>\n",
       "    <tr>\n",
       "      <th>13</th>\n",
       "      <td>Roary</td>\n",
       "      <td>ShortRead</td>\n",
       "      <td>Roary_Default</td>\n",
       "      <td>19721</td>\n",
       "      <td>2234</td>\n",
       "      <td>17487</td>\n",
       "    </tr>\n",
       "  </tbody>\n",
       "</table>\n",
       "</div>"
      ],
      "text/plain": [
       "   PangenomeTool    SeqType                           Method  Total genes  Core genes  Accessory genes\n",
       "7        Panaroo  ShortRead     Panaroo_Strict_MergeParalogs        12836        2834            10002\n",
       "8        Panaroo  ShortRead   Panaroo_Moderate_MergeParalogs        13462        2834            10628\n",
       "9        Panaroo  ShortRead  Panaroo_Sensitive_MergeParalogs        15524        2834            12690\n",
       "10         Roary  ShortRead        Roary_NoSplitParalogs_I80        13420        2825            10595\n",
       "11         Roary  ShortRead        Roary_NoSplitParalogs_I90        14933        2711            12222\n",
       "12         Roary  ShortRead            Roary_NoSplitParalogs        17825        2314            15511\n",
       "13         Roary  ShortRead                    Roary_Default        19721        2234            17487"
      ]
     },
     "execution_count": 28,
     "metadata": {},
     "output_type": "execute_result"
    }
   ],
   "source": [
    "PG_WideSumm_DF.query(\"SeqType == 'ShortRead'\")    "
   ]
  },
  {
   "cell_type": "code",
   "execution_count": 29,
   "id": "860d0b64-6ff1-4673-885a-3189666252ae",
   "metadata": {},
   "outputs": [
    {
     "data": {
      "text/html": [
       "<div>\n",
       "<style scoped>\n",
       "    .dataframe tbody tr th:only-of-type {\n",
       "        vertical-align: middle;\n",
       "    }\n",
       "\n",
       "    .dataframe tbody tr th {\n",
       "        vertical-align: top;\n",
       "    }\n",
       "\n",
       "    .dataframe thead th {\n",
       "        text-align: right;\n",
       "    }\n",
       "</style>\n",
       "<table border=\"1\" class=\"dataframe\">\n",
       "  <thead>\n",
       "    <tr style=\"text-align: right;\">\n",
       "      <th></th>\n",
       "      <th>PangenomeTool</th>\n",
       "      <th>SeqType</th>\n",
       "      <th>Method</th>\n",
       "      <th>Total genes</th>\n",
       "      <th>Core genes</th>\n",
       "      <th>Accessory genes</th>\n",
       "    </tr>\n",
       "  </thead>\n",
       "  <tbody>\n",
       "    <tr>\n",
       "      <th>0</th>\n",
       "      <td>Panaroo</td>\n",
       "      <td>LongRead</td>\n",
       "      <td>Panaroo_Strict_MergeParalogs</td>\n",
       "      <td>14410</td>\n",
       "      <td>3035</td>\n",
       "      <td>11375</td>\n",
       "    </tr>\n",
       "    <tr>\n",
       "      <th>1</th>\n",
       "      <td>Panaroo</td>\n",
       "      <td>LongRead</td>\n",
       "      <td>Panaroo_Moderate_MergeParalogs</td>\n",
       "      <td>14641</td>\n",
       "      <td>3036</td>\n",
       "      <td>11605</td>\n",
       "    </tr>\n",
       "    <tr>\n",
       "      <th>2</th>\n",
       "      <td>Panaroo</td>\n",
       "      <td>LongRead</td>\n",
       "      <td>Panaroo_Sensitive_MergeParalogs</td>\n",
       "      <td>15032</td>\n",
       "      <td>3036</td>\n",
       "      <td>11996</td>\n",
       "    </tr>\n",
       "    <tr>\n",
       "      <th>3</th>\n",
       "      <td>Roary</td>\n",
       "      <td>LongRead</td>\n",
       "      <td>Roary_NoSplitParalogs_I80</td>\n",
       "      <td>13312</td>\n",
       "      <td>3035</td>\n",
       "      <td>10277</td>\n",
       "    </tr>\n",
       "    <tr>\n",
       "      <th>4</th>\n",
       "      <td>Roary</td>\n",
       "      <td>LongRead</td>\n",
       "      <td>Roary_NoSplitParalogs_I90</td>\n",
       "      <td>14851</td>\n",
       "      <td>2915</td>\n",
       "      <td>11936</td>\n",
       "    </tr>\n",
       "    <tr>\n",
       "      <th>5</th>\n",
       "      <td>Roary</td>\n",
       "      <td>LongRead</td>\n",
       "      <td>Roary_NoSplitParalogs</td>\n",
       "      <td>17783</td>\n",
       "      <td>2484</td>\n",
       "      <td>15299</td>\n",
       "    </tr>\n",
       "    <tr>\n",
       "      <th>6</th>\n",
       "      <td>Roary</td>\n",
       "      <td>LongRead</td>\n",
       "      <td>Roary_Default</td>\n",
       "      <td>21400</td>\n",
       "      <td>2394</td>\n",
       "      <td>19006</td>\n",
       "    </tr>\n",
       "    <tr>\n",
       "      <th>7</th>\n",
       "      <td>Panaroo</td>\n",
       "      <td>ShortRead</td>\n",
       "      <td>Panaroo_Strict_MergeParalogs</td>\n",
       "      <td>12836</td>\n",
       "      <td>2834</td>\n",
       "      <td>10002</td>\n",
       "    </tr>\n",
       "    <tr>\n",
       "      <th>8</th>\n",
       "      <td>Panaroo</td>\n",
       "      <td>ShortRead</td>\n",
       "      <td>Panaroo_Moderate_MergeParalogs</td>\n",
       "      <td>13462</td>\n",
       "      <td>2834</td>\n",
       "      <td>10628</td>\n",
       "    </tr>\n",
       "    <tr>\n",
       "      <th>9</th>\n",
       "      <td>Panaroo</td>\n",
       "      <td>ShortRead</td>\n",
       "      <td>Panaroo_Sensitive_MergeParalogs</td>\n",
       "      <td>15524</td>\n",
       "      <td>2834</td>\n",
       "      <td>12690</td>\n",
       "    </tr>\n",
       "    <tr>\n",
       "      <th>10</th>\n",
       "      <td>Roary</td>\n",
       "      <td>ShortRead</td>\n",
       "      <td>Roary_NoSplitParalogs_I80</td>\n",
       "      <td>13420</td>\n",
       "      <td>2825</td>\n",
       "      <td>10595</td>\n",
       "    </tr>\n",
       "    <tr>\n",
       "      <th>11</th>\n",
       "      <td>Roary</td>\n",
       "      <td>ShortRead</td>\n",
       "      <td>Roary_NoSplitParalogs_I90</td>\n",
       "      <td>14933</td>\n",
       "      <td>2711</td>\n",
       "      <td>12222</td>\n",
       "    </tr>\n",
       "    <tr>\n",
       "      <th>12</th>\n",
       "      <td>Roary</td>\n",
       "      <td>ShortRead</td>\n",
       "      <td>Roary_NoSplitParalogs</td>\n",
       "      <td>17825</td>\n",
       "      <td>2314</td>\n",
       "      <td>15511</td>\n",
       "    </tr>\n",
       "    <tr>\n",
       "      <th>13</th>\n",
       "      <td>Roary</td>\n",
       "      <td>ShortRead</td>\n",
       "      <td>Roary_Default</td>\n",
       "      <td>19721</td>\n",
       "      <td>2234</td>\n",
       "      <td>17487</td>\n",
       "    </tr>\n",
       "  </tbody>\n",
       "</table>\n",
       "</div>"
      ],
      "text/plain": [
       "   PangenomeTool    SeqType                           Method  Total genes  Core genes  Accessory genes\n",
       "0        Panaroo   LongRead     Panaroo_Strict_MergeParalogs        14410        3035            11375\n",
       "1        Panaroo   LongRead   Panaroo_Moderate_MergeParalogs        14641        3036            11605\n",
       "2        Panaroo   LongRead  Panaroo_Sensitive_MergeParalogs        15032        3036            11996\n",
       "3          Roary   LongRead        Roary_NoSplitParalogs_I80        13312        3035            10277\n",
       "4          Roary   LongRead        Roary_NoSplitParalogs_I90        14851        2915            11936\n",
       "5          Roary   LongRead            Roary_NoSplitParalogs        17783        2484            15299\n",
       "6          Roary   LongRead                    Roary_Default        21400        2394            19006\n",
       "7        Panaroo  ShortRead     Panaroo_Strict_MergeParalogs        12836        2834            10002\n",
       "8        Panaroo  ShortRead   Panaroo_Moderate_MergeParalogs        13462        2834            10628\n",
       "9        Panaroo  ShortRead  Panaroo_Sensitive_MergeParalogs        15524        2834            12690\n",
       "10         Roary  ShortRead        Roary_NoSplitParalogs_I80        13420        2825            10595\n",
       "11         Roary  ShortRead        Roary_NoSplitParalogs_I90        14933        2711            12222\n",
       "12         Roary  ShortRead            Roary_NoSplitParalogs        17825        2314            15511\n",
       "13         Roary  ShortRead                    Roary_Default        19721        2234            17487"
      ]
     },
     "execution_count": 29,
     "metadata": {},
     "output_type": "execute_result"
    }
   ],
   "source": [
    "PG_WideSumm_DF"
   ]
  },
  {
   "cell_type": "code",
   "execution_count": null,
   "id": "7f19e997-61d9-48a6-9243-70bd28479762",
   "metadata": {},
   "outputs": [],
   "source": []
  },
  {
   "cell_type": "code",
   "execution_count": null,
   "id": "581cb284-e3f8-40bf-8608-5aa26cdbb1a3",
   "metadata": {},
   "outputs": [],
   "source": []
  },
  {
   "cell_type": "markdown",
   "id": "54b0c435-b783-468f-a458-6ceacd389cef",
   "metadata": {},
   "source": [
    "# Plotting key figures (For SR vs LR - Bakta + 3 pipelines)"
   ]
  },
  {
   "cell_type": "markdown",
   "id": "4a191c16-0f03-4752-87d5-d34530048ecb",
   "metadata": {},
   "source": [
    "# Table 1) Pan-genome predictions - LR vs SR - 3 pipelines"
   ]
  },
  {
   "cell_type": "code",
   "execution_count": 30,
   "id": "8b3974c1-cfc1-45de-9e79-d038ded5a2b8",
   "metadata": {},
   "outputs": [
    {
     "data": {
      "text/html": [
       "<div>\n",
       "<style scoped>\n",
       "    .dataframe tbody tr th:only-of-type {\n",
       "        vertical-align: middle;\n",
       "    }\n",
       "\n",
       "    .dataframe tbody tr th {\n",
       "        vertical-align: top;\n",
       "    }\n",
       "\n",
       "    .dataframe thead th {\n",
       "        text-align: right;\n",
       "    }\n",
       "</style>\n",
       "<table border=\"1\" class=\"dataframe\">\n",
       "  <thead>\n",
       "    <tr style=\"text-align: right;\">\n",
       "      <th></th>\n",
       "      <th>PangenomeTool</th>\n",
       "      <th>SeqType</th>\n",
       "      <th>Method</th>\n",
       "      <th>Total genes</th>\n",
       "      <th>Core genes</th>\n",
       "      <th>Accessory genes</th>\n",
       "    </tr>\n",
       "  </thead>\n",
       "  <tbody>\n",
       "    <tr>\n",
       "      <th>0</th>\n",
       "      <td>Panaroo</td>\n",
       "      <td>LongRead</td>\n",
       "      <td>Panaroo_Strict_MergeParalogs</td>\n",
       "      <td>14410</td>\n",
       "      <td>3035</td>\n",
       "      <td>11375</td>\n",
       "    </tr>\n",
       "  </tbody>\n",
       "</table>\n",
       "</div>"
      ],
      "text/plain": [
       "  PangenomeTool   SeqType                        Method  Total genes  Core genes  Accessory genes\n",
       "0       Panaroo  LongRead  Panaroo_Strict_MergeParalogs        14410        3035            11375"
      ]
     },
     "execution_count": 30,
     "metadata": {},
     "output_type": "execute_result"
    }
   ],
   "source": [
    "PG_WideSumm_DF.head(1)"
   ]
  },
  {
   "cell_type": "code",
   "execution_count": 31,
   "id": "2d322a7b-56c3-49ee-a8b3-e0929369aec0",
   "metadata": {},
   "outputs": [],
   "source": [
    "#print(PG_WideSumm_DF.to_latex())"
   ]
  },
  {
   "cell_type": "code",
   "execution_count": 32,
   "id": "0c635203-1e91-4c09-90c2-bae1e97267f9",
   "metadata": {},
   "outputs": [],
   "source": [
    "PG_WideSumm_DF = PG_WideSumm_DF.sort_values([\"Method\", \"SeqType\"])"
   ]
  },
  {
   "cell_type": "code",
   "execution_count": 33,
   "id": "489df045-46f8-4b1d-8958-d9139d9b5a2e",
   "metadata": {},
   "outputs": [
    {
     "data": {
      "text/html": [
       "<div>\n",
       "<style scoped>\n",
       "    .dataframe tbody tr th:only-of-type {\n",
       "        vertical-align: middle;\n",
       "    }\n",
       "\n",
       "    .dataframe tbody tr th {\n",
       "        vertical-align: top;\n",
       "    }\n",
       "\n",
       "    .dataframe thead th {\n",
       "        text-align: right;\n",
       "    }\n",
       "</style>\n",
       "<table border=\"1\" class=\"dataframe\">\n",
       "  <thead>\n",
       "    <tr style=\"text-align: right;\">\n",
       "      <th></th>\n",
       "      <th>PangenomeTool</th>\n",
       "      <th>SeqType</th>\n",
       "      <th>Method</th>\n",
       "      <th>Total genes</th>\n",
       "      <th>Core genes</th>\n",
       "      <th>Accessory genes</th>\n",
       "    </tr>\n",
       "  </thead>\n",
       "  <tbody>\n",
       "    <tr>\n",
       "      <th>1</th>\n",
       "      <td>Panaroo</td>\n",
       "      <td>LongRead</td>\n",
       "      <td>Panaroo_Moderate_MergeParalogs</td>\n",
       "      <td>14641</td>\n",
       "      <td>3036</td>\n",
       "      <td>11605</td>\n",
       "    </tr>\n",
       "    <tr>\n",
       "      <th>8</th>\n",
       "      <td>Panaroo</td>\n",
       "      <td>ShortRead</td>\n",
       "      <td>Panaroo_Moderate_MergeParalogs</td>\n",
       "      <td>13462</td>\n",
       "      <td>2834</td>\n",
       "      <td>10628</td>\n",
       "    </tr>\n",
       "    <tr>\n",
       "      <th>2</th>\n",
       "      <td>Panaroo</td>\n",
       "      <td>LongRead</td>\n",
       "      <td>Panaroo_Sensitive_MergeParalogs</td>\n",
       "      <td>15032</td>\n",
       "      <td>3036</td>\n",
       "      <td>11996</td>\n",
       "    </tr>\n",
       "    <tr>\n",
       "      <th>9</th>\n",
       "      <td>Panaroo</td>\n",
       "      <td>ShortRead</td>\n",
       "      <td>Panaroo_Sensitive_MergeParalogs</td>\n",
       "      <td>15524</td>\n",
       "      <td>2834</td>\n",
       "      <td>12690</td>\n",
       "    </tr>\n",
       "    <tr>\n",
       "      <th>0</th>\n",
       "      <td>Panaroo</td>\n",
       "      <td>LongRead</td>\n",
       "      <td>Panaroo_Strict_MergeParalogs</td>\n",
       "      <td>14410</td>\n",
       "      <td>3035</td>\n",
       "      <td>11375</td>\n",
       "    </tr>\n",
       "    <tr>\n",
       "      <th>7</th>\n",
       "      <td>Panaroo</td>\n",
       "      <td>ShortRead</td>\n",
       "      <td>Panaroo_Strict_MergeParalogs</td>\n",
       "      <td>12836</td>\n",
       "      <td>2834</td>\n",
       "      <td>10002</td>\n",
       "    </tr>\n",
       "    <tr>\n",
       "      <th>6</th>\n",
       "      <td>Roary</td>\n",
       "      <td>LongRead</td>\n",
       "      <td>Roary_Default</td>\n",
       "      <td>21400</td>\n",
       "      <td>2394</td>\n",
       "      <td>19006</td>\n",
       "    </tr>\n",
       "    <tr>\n",
       "      <th>13</th>\n",
       "      <td>Roary</td>\n",
       "      <td>ShortRead</td>\n",
       "      <td>Roary_Default</td>\n",
       "      <td>19721</td>\n",
       "      <td>2234</td>\n",
       "      <td>17487</td>\n",
       "    </tr>\n",
       "    <tr>\n",
       "      <th>5</th>\n",
       "      <td>Roary</td>\n",
       "      <td>LongRead</td>\n",
       "      <td>Roary_NoSplitParalogs</td>\n",
       "      <td>17783</td>\n",
       "      <td>2484</td>\n",
       "      <td>15299</td>\n",
       "    </tr>\n",
       "    <tr>\n",
       "      <th>12</th>\n",
       "      <td>Roary</td>\n",
       "      <td>ShortRead</td>\n",
       "      <td>Roary_NoSplitParalogs</td>\n",
       "      <td>17825</td>\n",
       "      <td>2314</td>\n",
       "      <td>15511</td>\n",
       "    </tr>\n",
       "    <tr>\n",
       "      <th>3</th>\n",
       "      <td>Roary</td>\n",
       "      <td>LongRead</td>\n",
       "      <td>Roary_NoSplitParalogs_I80</td>\n",
       "      <td>13312</td>\n",
       "      <td>3035</td>\n",
       "      <td>10277</td>\n",
       "    </tr>\n",
       "    <tr>\n",
       "      <th>10</th>\n",
       "      <td>Roary</td>\n",
       "      <td>ShortRead</td>\n",
       "      <td>Roary_NoSplitParalogs_I80</td>\n",
       "      <td>13420</td>\n",
       "      <td>2825</td>\n",
       "      <td>10595</td>\n",
       "    </tr>\n",
       "    <tr>\n",
       "      <th>4</th>\n",
       "      <td>Roary</td>\n",
       "      <td>LongRead</td>\n",
       "      <td>Roary_NoSplitParalogs_I90</td>\n",
       "      <td>14851</td>\n",
       "      <td>2915</td>\n",
       "      <td>11936</td>\n",
       "    </tr>\n",
       "    <tr>\n",
       "      <th>11</th>\n",
       "      <td>Roary</td>\n",
       "      <td>ShortRead</td>\n",
       "      <td>Roary_NoSplitParalogs_I90</td>\n",
       "      <td>14933</td>\n",
       "      <td>2711</td>\n",
       "      <td>12222</td>\n",
       "    </tr>\n",
       "  </tbody>\n",
       "</table>\n",
       "</div>"
      ],
      "text/plain": [
       "   PangenomeTool    SeqType                           Method  Total genes  Core genes  Accessory genes\n",
       "1        Panaroo   LongRead   Panaroo_Moderate_MergeParalogs        14641        3036            11605\n",
       "8        Panaroo  ShortRead   Panaroo_Moderate_MergeParalogs        13462        2834            10628\n",
       "2        Panaroo   LongRead  Panaroo_Sensitive_MergeParalogs        15032        3036            11996\n",
       "9        Panaroo  ShortRead  Panaroo_Sensitive_MergeParalogs        15524        2834            12690\n",
       "0        Panaroo   LongRead     Panaroo_Strict_MergeParalogs        14410        3035            11375\n",
       "7        Panaroo  ShortRead     Panaroo_Strict_MergeParalogs        12836        2834            10002\n",
       "6          Roary   LongRead                    Roary_Default        21400        2394            19006\n",
       "13         Roary  ShortRead                    Roary_Default        19721        2234            17487\n",
       "5          Roary   LongRead            Roary_NoSplitParalogs        17783        2484            15299\n",
       "12         Roary  ShortRead            Roary_NoSplitParalogs        17825        2314            15511\n",
       "3          Roary   LongRead        Roary_NoSplitParalogs_I80        13312        3035            10277\n",
       "10         Roary  ShortRead        Roary_NoSplitParalogs_I80        13420        2825            10595\n",
       "4          Roary   LongRead        Roary_NoSplitParalogs_I90        14851        2915            11936\n",
       "11         Roary  ShortRead        Roary_NoSplitParalogs_I90        14933        2711            12222"
      ]
     },
     "execution_count": 33,
     "metadata": {},
     "output_type": "execute_result"
    }
   ],
   "source": [
    "PG_WideSumm_DF"
   ]
  },
  {
   "cell_type": "code",
   "execution_count": 34,
   "id": "f1a83bc8-bfd8-4ae6-b480-a9d2329c3564",
   "metadata": {},
   "outputs": [],
   "source": [
    "PG_WideSumm_DF[\"Weight\"] = PG_WideSumm_DF.groupby(\"Method\")[\"Accessory genes\"].transform('sum') / 2"
   ]
  },
  {
   "cell_type": "code",
   "execution_count": 35,
   "id": "9fd47ae4-19bc-4f7a-946f-ca7395e92e98",
   "metadata": {},
   "outputs": [],
   "source": [
    "#PG_WideSumm_DF"
   ]
  },
  {
   "cell_type": "code",
   "execution_count": null,
   "id": "91962d4f-9791-4cb0-93e4-1fa838fb9999",
   "metadata": {},
   "outputs": [],
   "source": []
  },
  {
   "cell_type": "code",
   "execution_count": null,
   "id": "f2be94ff-bcfc-4910-b5d9-56e63a172e57",
   "metadata": {},
   "outputs": [],
   "source": []
  },
  {
   "cell_type": "code",
   "execution_count": 36,
   "id": "92e913e6-9f87-4d17-b19c-6a193005ca15",
   "metadata": {},
   "outputs": [
    {
     "data": {
      "text/html": [
       "<div>\n",
       "<style scoped>\n",
       "    .dataframe tbody tr th:only-of-type {\n",
       "        vertical-align: middle;\n",
       "    }\n",
       "\n",
       "    .dataframe tbody tr th {\n",
       "        vertical-align: top;\n",
       "    }\n",
       "\n",
       "    .dataframe thead th {\n",
       "        text-align: right;\n",
       "    }\n",
       "</style>\n",
       "<table border=\"1\" class=\"dataframe\">\n",
       "  <thead>\n",
       "    <tr style=\"text-align: right;\">\n",
       "      <th></th>\n",
       "      <th>PangenomeTool</th>\n",
       "      <th>Method</th>\n",
       "      <th>SeqType</th>\n",
       "      <th>Total genes</th>\n",
       "      <th>Core genes</th>\n",
       "      <th>Accessory genes</th>\n",
       "    </tr>\n",
       "  </thead>\n",
       "  <tbody>\n",
       "    <tr>\n",
       "      <th>0</th>\n",
       "      <td>Panaroo</td>\n",
       "      <td>Panaroo (Strict &amp; MergeParalogs)</td>\n",
       "      <td>LongRead</td>\n",
       "      <td>14410</td>\n",
       "      <td>3035</td>\n",
       "      <td>11375</td>\n",
       "    </tr>\n",
       "    <tr>\n",
       "      <th>1</th>\n",
       "      <td>Panaroo</td>\n",
       "      <td>Panaroo (Strict &amp; MergeParalogs)</td>\n",
       "      <td>ShortRead</td>\n",
       "      <td>12836</td>\n",
       "      <td>2834</td>\n",
       "      <td>10002</td>\n",
       "    </tr>\n",
       "    <tr>\n",
       "      <th>2</th>\n",
       "      <td>Panaroo</td>\n",
       "      <td>Panaroo (Moderate &amp; MergeParalogs)</td>\n",
       "      <td>LongRead</td>\n",
       "      <td>14641</td>\n",
       "      <td>3036</td>\n",
       "      <td>11605</td>\n",
       "    </tr>\n",
       "    <tr>\n",
       "      <th>3</th>\n",
       "      <td>Panaroo</td>\n",
       "      <td>Panaroo (Moderate &amp; MergeParalogs)</td>\n",
       "      <td>ShortRead</td>\n",
       "      <td>13462</td>\n",
       "      <td>2834</td>\n",
       "      <td>10628</td>\n",
       "    </tr>\n",
       "    <tr>\n",
       "      <th>4</th>\n",
       "      <td>Panaroo</td>\n",
       "      <td>Panaroo (Sensitive &amp; MergeParalogs)</td>\n",
       "      <td>LongRead</td>\n",
       "      <td>15032</td>\n",
       "      <td>3036</td>\n",
       "      <td>11996</td>\n",
       "    </tr>\n",
       "    <tr>\n",
       "      <th>5</th>\n",
       "      <td>Panaroo</td>\n",
       "      <td>Panaroo (Sensitive &amp; MergeParalogs)</td>\n",
       "      <td>ShortRead</td>\n",
       "      <td>15524</td>\n",
       "      <td>2834</td>\n",
       "      <td>12690</td>\n",
       "    </tr>\n",
       "    <tr>\n",
       "      <th>6</th>\n",
       "      <td>Roary</td>\n",
       "      <td>Roary_NoSplitParalogs_I80</td>\n",
       "      <td>LongRead</td>\n",
       "      <td>13312</td>\n",
       "      <td>3035</td>\n",
       "      <td>10277</td>\n",
       "    </tr>\n",
       "    <tr>\n",
       "      <th>7</th>\n",
       "      <td>Roary</td>\n",
       "      <td>Roary_NoSplitParalogs_I80</td>\n",
       "      <td>ShortRead</td>\n",
       "      <td>13420</td>\n",
       "      <td>2825</td>\n",
       "      <td>10595</td>\n",
       "    </tr>\n",
       "    <tr>\n",
       "      <th>8</th>\n",
       "      <td>Roary</td>\n",
       "      <td>Roary (MergeParalogs &amp; I90)</td>\n",
       "      <td>LongRead</td>\n",
       "      <td>14851</td>\n",
       "      <td>2915</td>\n",
       "      <td>11936</td>\n",
       "    </tr>\n",
       "    <tr>\n",
       "      <th>9</th>\n",
       "      <td>Roary</td>\n",
       "      <td>Roary (MergeParalogs &amp; I90)</td>\n",
       "      <td>ShortRead</td>\n",
       "      <td>14933</td>\n",
       "      <td>2711</td>\n",
       "      <td>12222</td>\n",
       "    </tr>\n",
       "    <tr>\n",
       "      <th>10</th>\n",
       "      <td>Roary</td>\n",
       "      <td>Roary (MergeParalogs)</td>\n",
       "      <td>LongRead</td>\n",
       "      <td>17783</td>\n",
       "      <td>2484</td>\n",
       "      <td>15299</td>\n",
       "    </tr>\n",
       "    <tr>\n",
       "      <th>11</th>\n",
       "      <td>Roary</td>\n",
       "      <td>Roary (MergeParalogs)</td>\n",
       "      <td>ShortRead</td>\n",
       "      <td>17825</td>\n",
       "      <td>2314</td>\n",
       "      <td>15511</td>\n",
       "    </tr>\n",
       "    <tr>\n",
       "      <th>12</th>\n",
       "      <td>Roary</td>\n",
       "      <td>Roary (Default)</td>\n",
       "      <td>LongRead</td>\n",
       "      <td>21400</td>\n",
       "      <td>2394</td>\n",
       "      <td>19006</td>\n",
       "    </tr>\n",
       "    <tr>\n",
       "      <th>13</th>\n",
       "      <td>Roary</td>\n",
       "      <td>Roary (Default)</td>\n",
       "      <td>ShortRead</td>\n",
       "      <td>19721</td>\n",
       "      <td>2234</td>\n",
       "      <td>17487</td>\n",
       "    </tr>\n",
       "  </tbody>\n",
       "</table>\n",
       "</div>"
      ],
      "text/plain": [
       "   PangenomeTool                               Method    SeqType  Total genes  Core genes  Accessory genes\n",
       "0        Panaroo     Panaroo (Strict & MergeParalogs)   LongRead        14410        3035            11375\n",
       "1        Panaroo     Panaroo (Strict & MergeParalogs)  ShortRead        12836        2834            10002\n",
       "2        Panaroo   Panaroo (Moderate & MergeParalogs)   LongRead        14641        3036            11605\n",
       "3        Panaroo   Panaroo (Moderate & MergeParalogs)  ShortRead        13462        2834            10628\n",
       "4        Panaroo  Panaroo (Sensitive & MergeParalogs)   LongRead        15032        3036            11996\n",
       "5        Panaroo  Panaroo (Sensitive & MergeParalogs)  ShortRead        15524        2834            12690\n",
       "6          Roary            Roary_NoSplitParalogs_I80   LongRead        13312        3035            10277\n",
       "7          Roary            Roary_NoSplitParalogs_I80  ShortRead        13420        2825            10595\n",
       "8          Roary          Roary (MergeParalogs & I90)   LongRead        14851        2915            11936\n",
       "9          Roary          Roary (MergeParalogs & I90)  ShortRead        14933        2711            12222\n",
       "10         Roary                Roary (MergeParalogs)   LongRead        17783        2484            15299\n",
       "11         Roary                Roary (MergeParalogs)  ShortRead        17825        2314            15511\n",
       "12         Roary                      Roary (Default)   LongRead        21400        2394            19006\n",
       "13         Roary                      Roary (Default)  ShortRead        19721        2234            17487"
      ]
     },
     "execution_count": 36,
     "metadata": {},
     "output_type": "execute_result"
    }
   ],
   "source": [
    "orderToPlot_X = ['Panaroo_Strict_MergeParalogs',\n",
    "                 'Panaroo_Moderate_MergeParalogs',\n",
    "                 'Panaroo_Sensitive_MergeParalogs', \n",
    "                 'Roary_NoSplitParalogs_I80', 'Roary_NoSplitParalogs_I90',\n",
    "                 'Roary_NoSplitParalogs',  'Roary_Default', ]\n",
    "\n",
    "dictOfValues_To_Label = {'Panaroo_Strict_MergeParalogs': 'Panaroo (Strict & MergeParalogs)',\n",
    "                         'Panaroo_Moderate_MergeParalogs': 'Panaroo (Moderate & MergeParalogs)',\n",
    "                         'Panaroo_Sensitive_MergeParalogs': 'Panaroo (Sensitive & MergeParalogs)',\n",
    "                         'Roary_NoSplitParalogs_I90': 'Roary (MergeParalogs & I90)',\n",
    "                         'Roary_NoSplitParalogs': 'Roary (MergeParalogs)',\n",
    "                         'Roary_Default': 'Roary (Default)' }\n",
    "\n",
    "\n",
    "\n",
    "PG_WideSumm_DF = PG_WideSumm_DF.sort_values(\"Method\", key=lambda x: pd.Categorical(x, categories=orderToPlot_X, ordered=True))\n",
    "#PG_WideSumm_DF = PG_WideSumm_DF.sort_values([\"Method\", \"SeqType\"], key=lambda x: pd.Categorical(x, categories=orderToPlot_X, ordered=True))\n",
    "\n",
    "PG_WideSumm_V2_DF = PG_WideSumm_DF.copy()\n",
    "\n",
    "PG_WideSumm_V2_DF[\"Method\"] = PG_WideSumm_V2_DF[\"Method\"].replace(dictOfValues_To_Label)\n",
    "\n",
    "\n",
    "PG_WideSumm_V2_DF_Trim = PG_WideSumm_V2_DF[['PangenomeTool', 'Method', 'SeqType', 'Total genes', 'Core genes', 'Accessory genes']].reset_index(drop=True)\n",
    "\n",
    "PG_WideSumm_V2_DF_Trim"
   ]
  },
  {
   "cell_type": "code",
   "execution_count": 37,
   "id": "cff647f7-2a4a-4431-9645-3f44bdaf4c69",
   "metadata": {},
   "outputs": [],
   "source": [
    "# https://stackoverflow.com/questions/35634238/how-to-save-a-pandas-dataframe-table-as-a-png   "
   ]
  },
  {
   "cell_type": "code",
   "execution_count": 38,
   "id": "fc9e98ba-5cdf-457e-ac53-e7dc9832340f",
   "metadata": {},
   "outputs": [],
   "source": [
    "#from pandas.table.plotting import table # EDIT: see deprecation warnings below\n",
    "#from pandas.plotting import table \n",
    "#ax = plt.subplot(111, frame_on=False) # no visible frame\n",
    "#ax.xaxis.set_visible(False)  # hide the x axis\n",
    "#ax.yaxis.set_visible(False)  # hide the y axis\n",
    "\n",
    "#table(ax, PG_WideSumm_V2_DF_Trim)  # where df is your data frame\n"
   ]
  },
  {
   "cell_type": "code",
   "execution_count": null,
   "id": "d30408fb-d683-4876-82ca-6dd59e53fc5e",
   "metadata": {},
   "outputs": [],
   "source": []
  },
  {
   "cell_type": "code",
   "execution_count": 39,
   "id": "8bf030f2-0146-4aeb-ad10-5d36d5df21b2",
   "metadata": {},
   "outputs": [
    {
     "data": {
      "text/plain": [
       "Index(['PangenomeTool', 'SeqType', 'Method', 'Total genes', 'Core genes', 'Accessory genes', 'Weight'], dtype='object')"
      ]
     },
     "execution_count": 39,
     "metadata": {},
     "output_type": "execute_result"
    }
   ],
   "source": [
    "PG_WideSumm_V2_DF.columns"
   ]
  },
  {
   "cell_type": "code",
   "execution_count": null,
   "id": "60f5a6e3-0f52-47fd-8646-1cf2e88b91d5",
   "metadata": {},
   "outputs": [],
   "source": []
  },
  {
   "cell_type": "code",
   "execution_count": 40,
   "id": "d9a56261-24bc-42c3-9dbe-327539222078",
   "metadata": {},
   "outputs": [],
   "source": [
    "orderToPlot_X = ['Panaroo_Strict_MergeParalogs',\n",
    "                 'Panaroo_Moderate_MergeParalogs',\n",
    "                 'Panaroo_Sensitive_MergeParalogs', \n",
    "                 'Roary_NoSplitParalogs_I80', 'Roary_NoSplitParalogs_I90',\n",
    "                 'Roary_NoSplitParalogs',  'Roary_Default', ]\n",
    "\n",
    "dictOfValues_To_Label = {'Panaroo_Strict_MergeParalogs': 'Panaroo (Strict & MergeParalogs)',\n",
    "                         'Panaroo_Moderate_MergeParalogs': 'Panaroo (Moderate & MergeParalogs)',\n",
    "                         'Panaroo_Sensitive_MergeParalogs': 'Panaroo (Sensitive & MergeParalogs)',\n",
    "                         'Roary_NoSplitParalogs_I90': 'Roary (MergeParalogs & I90)',\n",
    "                         'Roary_NoSplitParalogs': 'Roary (MergeParalogs)',\n",
    "                         'Roary_Default': 'Roary (Default)' }\n",
    "\n",
    "\n",
    "# dictOfValues_To_Label = {}  \n",
    "\n",
    "# for i in range(len(orderToPlot_X)):\n",
    "        \n",
    "#     dictOfValues_To_Label[MethodValues_X[i]]   =   dictOfValues_To_Label[ orderToPlot_X[i] ]\n",
    "    "
   ]
  },
  {
   "cell_type": "code",
   "execution_count": 41,
   "id": "2088054d-dab8-4bf6-a499-d99b8143d4da",
   "metadata": {},
   "outputs": [
    {
     "data": {
      "text/plain": [
       "dict_keys(['Panaroo_Strict_MergeParalogs', 'Panaroo_Moderate_MergeParalogs', 'Panaroo_Sensitive_MergeParalogs', 'Roary_NoSplitParalogs_I90', 'Roary_NoSplitParalogs', 'Roary_Default'])"
      ]
     },
     "execution_count": 41,
     "metadata": {},
     "output_type": "execute_result"
    }
   ],
   "source": [
    "dictOfValues_To_Label.keys()\n",
    "#['Panaroo_Strict_MergeParalogs'] "
   ]
  },
  {
   "cell_type": "code",
   "execution_count": 42,
   "id": "9ccb0c37-c184-4d40-9300-0f69d6e82c9e",
   "metadata": {},
   "outputs": [
    {
     "data": {
      "text/plain": [
       "'Panaroo_Strict_MergeParalogs'"
      ]
     },
     "execution_count": 42,
     "metadata": {},
     "output_type": "execute_result"
    }
   ],
   "source": [
    "orderToPlot_X[0]"
   ]
  },
  {
   "cell_type": "code",
   "execution_count": 43,
   "id": "9cdd6609-2850-4a57-a35e-95226ca6deab",
   "metadata": {},
   "outputs": [
    {
     "data": {
      "text/plain": [
       "{'Panaroo_Strict_MergeParalogs': 'Panaroo (Strict & MergeParalogs)',\n",
       " 'Panaroo_Moderate_MergeParalogs': 'Panaroo (Moderate & MergeParalogs)',\n",
       " 'Panaroo_Sensitive_MergeParalogs': 'Panaroo (Sensitive & MergeParalogs)',\n",
       " 'Roary_NoSplitParalogs_I90': 'Roary (MergeParalogs & I90)',\n",
       " 'Roary_NoSplitParalogs': 'Roary (MergeParalogs)',\n",
       " 'Roary_Default': 'Roary (Default)'}"
      ]
     },
     "execution_count": 43,
     "metadata": {},
     "output_type": "execute_result"
    }
   ],
   "source": [
    "dictOfValues_To_Label"
   ]
  },
  {
   "cell_type": "code",
   "execution_count": 44,
   "id": "9aa4db0e-200b-47fe-909f-83ce78d84c05",
   "metadata": {},
   "outputs": [],
   "source": [
    "dictOfValues_To_Label = {'Panaroo_Strict_MergeParalogs': 'Panaroo (Strict & MergeParalogs)',\n",
    "                         'Panaroo_Moderate_MergeParalogs': 'Panaroo (Moderate & MergeParalogs)',\n",
    "                         'Panaroo_Sensitive_MergeParalogs': 'Panaroo (Sensitive & MergeParalogs)',\n",
    "                         'Panaroo_Strict': 'Panaroo (Strict)',\n",
    "                         'Panaroo_Moderate': 'Panaroo (Moderate)',\n",
    "                         'Panaroo_Sensitive': 'Panaroo (Sensitive)',\n",
    "                         'Roary_NoSplitParalogs_I80': 'Roary (MergeParalogs & I80)',\n",
    "                         'Roary_NoSplitParalogs_I90': 'Roary (MergeParalogs & I90)',\n",
    "                         'Roary_NoSplitParalogs': 'Roary (MergeParalogs)',\n",
    "                         'Roary_Default': 'Roary (Default)',\n",
    "                         'Ppanggolin_Default': 'Ppanggolin (Default)'}\n"
   ]
  },
  {
   "cell_type": "code",
   "execution_count": 45,
   "id": "27e5bc7f-ae92-4829-b55f-df85cdfc52d6",
   "metadata": {},
   "outputs": [],
   "source": [
    "MethodValues_X = ['Panaroo_Strict_MergeParalogs', 'Panaroo_Moderate_MergeParalogs',\n",
    "                 'Panaroo_Sensitive_MergeParalogs', 'Roary_NoSplitParalogs_I80',\n",
    "                  'Roary_NoSplitParalogs_I90', 'Roary_NoSplitParalogs',   ] \n",
    "\n",
    "\n",
    "\n",
    "PGCombos_orderToPlot = ['Panaroo_Strict_MergeParalogs', 'Panaroo_Moderate_MergeParalogs',\n",
    "                         'Panaroo_Sensitive_MergeParalogs', 'Roary_NoSplitParalogs_I80', 'Roary_NoSplitParalogs_I90',\n",
    "                         'Roary_NoSplitParalogs', ]\n",
    "\n",
    "PGCombos_TickLabels = ['Panaroo \\n (Strict & MergeParalogs)', 'Panaroo \\n (Moderate & MergeParalogs)',\n",
    "                 'Panaroo \\n (Sensitive & MergeParalogs)', 'Roary \\n (MergeParalogs & I80)',\n",
    "                       'Roary \\n (MergeParalogs & I90)',  'Roary \\n (MergeParalogs)', ]\n",
    "\n",
    "\n",
    "PGCombos_dictOfValues_To_Label = {}  \n",
    "\n",
    "for i in range(len(PGCombos_orderToPlot)):\n",
    "        \n",
    "    PGCombos_dictOfValues_To_Label[MethodValues_X[i]]   =   PGCombos_TickLabels[i]\n",
    "    "
   ]
  },
  {
   "cell_type": "code",
   "execution_count": null,
   "id": "c6e3db3f-1d75-46ec-9f74-20b599592e47",
   "metadata": {},
   "outputs": [],
   "source": []
  },
  {
   "cell_type": "code",
   "execution_count": null,
   "id": "e2d73df3-7375-4d03-a0fa-43a4dda6e3ca",
   "metadata": {},
   "outputs": [],
   "source": []
  },
  {
   "cell_type": "code",
   "execution_count": 46,
   "id": "e378ebea-8f8f-4106-8bb8-f5aafa25996b",
   "metadata": {},
   "outputs": [
    {
     "data": {
      "text/html": [
       "<div>\n",
       "<style scoped>\n",
       "    .dataframe tbody tr th:only-of-type {\n",
       "        vertical-align: middle;\n",
       "    }\n",
       "\n",
       "    .dataframe tbody tr th {\n",
       "        vertical-align: top;\n",
       "    }\n",
       "\n",
       "    .dataframe thead th {\n",
       "        text-align: right;\n",
       "    }\n",
       "</style>\n",
       "<table border=\"1\" class=\"dataframe\">\n",
       "  <thead>\n",
       "    <tr style=\"text-align: right;\">\n",
       "      <th></th>\n",
       "      <th>count</th>\n",
       "      <th>mean</th>\n",
       "      <th>std</th>\n",
       "      <th>min</th>\n",
       "      <th>25%</th>\n",
       "      <th>50%</th>\n",
       "      <th>75%</th>\n",
       "      <th>max</th>\n",
       "    </tr>\n",
       "    <tr>\n",
       "      <th>SeqType</th>\n",
       "      <th></th>\n",
       "      <th></th>\n",
       "      <th></th>\n",
       "      <th></th>\n",
       "      <th></th>\n",
       "      <th></th>\n",
       "      <th></th>\n",
       "      <th></th>\n",
       "    </tr>\n",
       "  </thead>\n",
       "  <tbody>\n",
       "    <tr>\n",
       "      <th>LongRead</th>\n",
       "      <td>7.0</td>\n",
       "      <td>15918.428571</td>\n",
       "      <td>2773.387271</td>\n",
       "      <td>13312.0</td>\n",
       "      <td>14525.5</td>\n",
       "      <td>14851.0</td>\n",
       "      <td>16407.5</td>\n",
       "      <td>21400.0</td>\n",
       "    </tr>\n",
       "    <tr>\n",
       "      <th>ShortRead</th>\n",
       "      <td>7.0</td>\n",
       "      <td>15388.714286</td>\n",
       "      <td>2550.639770</td>\n",
       "      <td>12836.0</td>\n",
       "      <td>13441.0</td>\n",
       "      <td>14933.0</td>\n",
       "      <td>16674.5</td>\n",
       "      <td>19721.0</td>\n",
       "    </tr>\n",
       "  </tbody>\n",
       "</table>\n",
       "</div>"
      ],
      "text/plain": [
       "           count          mean          std      min      25%      50%      75%      max\n",
       "SeqType                                                                                 \n",
       "LongRead     7.0  15918.428571  2773.387271  13312.0  14525.5  14851.0  16407.5  21400.0\n",
       "ShortRead    7.0  15388.714286  2550.639770  12836.0  13441.0  14933.0  16674.5  19721.0"
      ]
     },
     "execution_count": 46,
     "metadata": {},
     "output_type": "execute_result"
    }
   ],
   "source": [
    "PG_WideSumm_DF.groupby(\"SeqType\")[\"Total genes\"].describe()"
   ]
  },
  {
   "cell_type": "code",
   "execution_count": 47,
   "id": "7632f308-3933-4452-aacd-b491e9012ce5",
   "metadata": {},
   "outputs": [
    {
     "data": {
      "text/html": [
       "<div>\n",
       "<style scoped>\n",
       "    .dataframe tbody tr th:only-of-type {\n",
       "        vertical-align: middle;\n",
       "    }\n",
       "\n",
       "    .dataframe tbody tr th {\n",
       "        vertical-align: top;\n",
       "    }\n",
       "\n",
       "    .dataframe thead th {\n",
       "        text-align: right;\n",
       "    }\n",
       "</style>\n",
       "<table border=\"1\" class=\"dataframe\">\n",
       "  <thead>\n",
       "    <tr style=\"text-align: right;\">\n",
       "      <th></th>\n",
       "      <th>PangenomeTool</th>\n",
       "      <th>SeqType</th>\n",
       "      <th>Method</th>\n",
       "      <th>Total genes</th>\n",
       "      <th>Core genes</th>\n",
       "      <th>Accessory genes</th>\n",
       "      <th>Weight</th>\n",
       "    </tr>\n",
       "  </thead>\n",
       "  <tbody>\n",
       "    <tr>\n",
       "      <th>0</th>\n",
       "      <td>Panaroo</td>\n",
       "      <td>LongRead</td>\n",
       "      <td>Panaroo_Strict_MergeParalogs</td>\n",
       "      <td>14410</td>\n",
       "      <td>3035</td>\n",
       "      <td>11375</td>\n",
       "      <td>10688.5</td>\n",
       "    </tr>\n",
       "    <tr>\n",
       "      <th>7</th>\n",
       "      <td>Panaroo</td>\n",
       "      <td>ShortRead</td>\n",
       "      <td>Panaroo_Strict_MergeParalogs</td>\n",
       "      <td>12836</td>\n",
       "      <td>2834</td>\n",
       "      <td>10002</td>\n",
       "      <td>10688.5</td>\n",
       "    </tr>\n",
       "    <tr>\n",
       "      <th>1</th>\n",
       "      <td>Panaroo</td>\n",
       "      <td>LongRead</td>\n",
       "      <td>Panaroo_Moderate_MergeParalogs</td>\n",
       "      <td>14641</td>\n",
       "      <td>3036</td>\n",
       "      <td>11605</td>\n",
       "      <td>11116.5</td>\n",
       "    </tr>\n",
       "    <tr>\n",
       "      <th>8</th>\n",
       "      <td>Panaroo</td>\n",
       "      <td>ShortRead</td>\n",
       "      <td>Panaroo_Moderate_MergeParalogs</td>\n",
       "      <td>13462</td>\n",
       "      <td>2834</td>\n",
       "      <td>10628</td>\n",
       "      <td>11116.5</td>\n",
       "    </tr>\n",
       "  </tbody>\n",
       "</table>\n",
       "</div>"
      ],
      "text/plain": [
       "  PangenomeTool    SeqType                          Method  Total genes  Core genes  Accessory genes   Weight\n",
       "0       Panaroo   LongRead    Panaroo_Strict_MergeParalogs        14410        3035            11375  10688.5\n",
       "7       Panaroo  ShortRead    Panaroo_Strict_MergeParalogs        12836        2834            10002  10688.5\n",
       "1       Panaroo   LongRead  Panaroo_Moderate_MergeParalogs        14641        3036            11605  11116.5\n",
       "8       Panaroo  ShortRead  Panaroo_Moderate_MergeParalogs        13462        2834            10628  11116.5"
      ]
     },
     "execution_count": 47,
     "metadata": {},
     "output_type": "execute_result"
    }
   ],
   "source": [
    "PG_WideSumm_DF.head(4)"
   ]
  },
  {
   "cell_type": "code",
   "execution_count": null,
   "id": "100e6557-81bb-46de-bd6e-0a44cb6918c7",
   "metadata": {},
   "outputs": [],
   "source": []
  },
  {
   "cell_type": "code",
   "execution_count": 48,
   "id": "b6051a3a-5c1d-4773-ad16-b81da9d34951",
   "metadata": {},
   "outputs": [],
   "source": [
    "#PG_WideSumm_DF.to_csv(\"PG.LRvsSR.BaktaAnno.tsv\", sep=\"\\t\", index= False)  "
   ]
  },
  {
   "cell_type": "code",
   "execution_count": null,
   "id": "831affa3-3045-4e2d-9e5d-21bdc539f526",
   "metadata": {},
   "outputs": [],
   "source": []
  },
  {
   "cell_type": "code",
   "execution_count": 49,
   "id": "849476e2-1aaa-443d-8510-ecebd72af0db",
   "metadata": {},
   "outputs": [],
   "source": [
    "#PG_Merged_Stats_LRandSR_DF.to_csv(\"PG.LRvsSR.BaktaAnno.MergedStats.tsv\", sep=\"\\t\", index= False)  "
   ]
  },
  {
   "cell_type": "code",
   "execution_count": 50,
   "id": "3143a4c4-3e67-4a1d-91eb-63b6ed3b6ca6",
   "metadata": {},
   "outputs": [],
   "source": [
    "#PG_Merged_Stats_LRandSR_DF.columns   "
   ]
  },
  {
   "cell_type": "code",
   "execution_count": 51,
   "id": "7bf1fafb-beb0-4179-9d99-c28b347a682b",
   "metadata": {},
   "outputs": [
    {
     "data": {
      "text/html": [
       "<div>\n",
       "<style scoped>\n",
       "    .dataframe tbody tr th:only-of-type {\n",
       "        vertical-align: middle;\n",
       "    }\n",
       "\n",
       "    .dataframe tbody tr th {\n",
       "        vertical-align: top;\n",
       "    }\n",
       "\n",
       "    .dataframe thead th {\n",
       "        text-align: right;\n",
       "    }\n",
       "</style>\n",
       "<table border=\"1\" class=\"dataframe\">\n",
       "  <thead>\n",
       "    <tr style=\"text-align: right;\">\n",
       "      <th></th>\n",
       "      <th>Category</th>\n",
       "      <th>Range</th>\n",
       "      <th>GeneCount</th>\n",
       "      <th>Annotation</th>\n",
       "      <th>Method</th>\n",
       "      <th>SeqType</th>\n",
       "      <th>DataSet</th>\n",
       "      <th>MethodAndTech</th>\n",
       "      <th>MethodAndTechAndAnno</th>\n",
       "      <th>AnnoAndTech</th>\n",
       "      <th>PangenomeTool</th>\n",
       "    </tr>\n",
       "  </thead>\n",
       "  <tbody>\n",
       "    <tr>\n",
       "      <th>0</th>\n",
       "      <td>Core genes</td>\n",
       "      <td>(99% &lt;= strains &lt;= 100%)</td>\n",
       "      <td>3035</td>\n",
       "      <td>Bakta</td>\n",
       "      <td>Panaroo_Strict_MergeParalogs</td>\n",
       "      <td>LongRead</td>\n",
       "      <td>All</td>\n",
       "      <td>Panaroo_Strict_MergeParalogs_LongRead</td>\n",
       "      <td>Panaroo_Strict_MergeParalogs_LongRead_Bakta</td>\n",
       "      <td>Bakta-LongRead</td>\n",
       "      <td>Panaroo</td>\n",
       "    </tr>\n",
       "    <tr>\n",
       "      <th>4</th>\n",
       "      <td>Total genes</td>\n",
       "      <td>(0% &lt;= strains &lt;= 100%)</td>\n",
       "      <td>14410</td>\n",
       "      <td>Bakta</td>\n",
       "      <td>Panaroo_Strict_MergeParalogs</td>\n",
       "      <td>LongRead</td>\n",
       "      <td>All</td>\n",
       "      <td>Panaroo_Strict_MergeParalogs_LongRead</td>\n",
       "      <td>Panaroo_Strict_MergeParalogs_LongRead_Bakta</td>\n",
       "      <td>Bakta-LongRead</td>\n",
       "      <td>Panaroo</td>\n",
       "    </tr>\n",
       "  </tbody>\n",
       "</table>\n",
       "</div>"
      ],
      "text/plain": [
       "      Category                     Range  GeneCount Annotation                        Method   SeqType DataSet                          MethodAndTech                         MethodAndTechAndAnno     AnnoAndTech PangenomeTool\n",
       "0   Core genes  (99% <= strains <= 100%)       3035      Bakta  Panaroo_Strict_MergeParalogs  LongRead     All  Panaroo_Strict_MergeParalogs_LongRead  Panaroo_Strict_MergeParalogs_LongRead_Bakta  Bakta-LongRead       Panaroo\n",
       "4  Total genes   (0% <= strains <= 100%)      14410      Bakta  Panaroo_Strict_MergeParalogs  LongRead     All  Panaroo_Strict_MergeParalogs_LongRead  Panaroo_Strict_MergeParalogs_LongRead_Bakta  Bakta-LongRead       Panaroo"
      ]
     },
     "execution_count": 51,
     "metadata": {},
     "output_type": "execute_result"
    }
   ],
   "source": [
    "PG_Merged_Stats_LRandSR_DF.head(2)  "
   ]
  },
  {
   "cell_type": "code",
   "execution_count": null,
   "id": "a8130a31-039c-4421-8d8f-2374814bc379",
   "metadata": {},
   "outputs": [],
   "source": []
  },
  {
   "cell_type": "code",
   "execution_count": 52,
   "id": "bf87999f-048c-445a-aa8d-43cdfef0e63b",
   "metadata": {},
   "outputs": [],
   "source": [
    "import matplotlib.patches as mpatches\n"
   ]
  },
  {
   "cell_type": "code",
   "execution_count": 53,
   "id": "8da90a95-9b71-40f9-8c53-8c710169d03c",
   "metadata": {},
   "outputs": [
    {
     "data": {
      "text/plain": [
       "Roary      8\n",
       "Panaroo    6\n",
       "Name: PangenomeTool, dtype: int64"
      ]
     },
     "execution_count": 53,
     "metadata": {},
     "output_type": "execute_result"
    }
   ],
   "source": [
    "PG_Merged_Stats_LRandSR_Acc_DF[\"PangenomeTool\"].value_counts()"
   ]
  },
  {
   "cell_type": "code",
   "execution_count": 54,
   "id": "3760ba8f-2b3e-4b1e-a4a0-90ee52457d5f",
   "metadata": {},
   "outputs": [],
   "source": [
    "Tools_hue_Color_Dict = { \"Panaroo\": \"#1f77b4\",\n",
    "                    \"Roary\": \"#ff7f0e\",\n",
    "                    \"Ppanggolin\": \"#2ca02c\" }\n",
    "\n",
    "Panaroo_patch = mpatches.Patch(color = Tools_hue_Color_Dict[\"Panaroo\"], label='Panaroo')\n",
    "Roary_patch = mpatches.Patch(color = Tools_hue_Color_Dict[\"Roary\"], label='Roary')\n",
    "#Ppanggolin_patch = mpatches.Patch(color = Tools_hue_Color_Dict[\"Ppanggolin\"], label='Ppanggolin')\n",
    "\n",
    "#ToolPatches_List = [Panaroo_patch, Roary_patch, Ppanggolin_patch]\n",
    "ToolPatches_List = [Panaroo_patch, Roary_patch ]\n",
    "\n",
    "\n",
    "\n",
    "hue_Order_Tools = [\"Panaroo\", \"Roary\", \"Ppanggolin\"]\n",
    "#Order_AnnoAndType = ['Bakta-LongRead', 'PGAP-LongRead', 'Bakta-ShortRead', 'PGAP-ShortRead']\n",
    "\n",
    "Order_AnnoAndType = ['Bakta-LongRead', 'Bakta-ShortRead',]\n"
   ]
  },
  {
   "cell_type": "code",
   "execution_count": null,
   "id": "35553e00-ee6e-43d9-8250-3a74be35ca32",
   "metadata": {},
   "outputs": [],
   "source": []
  },
  {
   "cell_type": "code",
   "execution_count": 55,
   "id": "c75516e7-b930-4056-83c5-b3ca8edcdef7",
   "metadata": {},
   "outputs": [
    {
     "data": {
      "image/png": "[encoded data removed]",
      "text/plain": [
       "<Figure size 1296x1008 with 2 Axes>"
      ]
     },
     "metadata": {
      "needs_background": "light"
     },
     "output_type": "display_data"
    }
   ],
   "source": [
    "# Set the context for the plot\n",
    "#sns.set_context(\"paper\", font_scale=1.5)\n",
    "sns.set_context(\"poster\")\n",
    "\n",
    "# Create a subplot\n",
    "fig, axs = plt.subplots(2, 1, figsize= (18, 14), sharey = False)\n",
    "\n",
    "\n",
    "sns.stripplot(y = \"GeneCount\", x = \"AnnoAndTech\", hue = \"PangenomeTool\",\n",
    "              data = PG_Merged_Stats_LRandSR_Acc_DF, linewidth=0, size = 8,\n",
    "              order = Order_AnnoAndType,\n",
    "              palette = Tools_hue_Color_Dict, hue_order = hue_Order_Tools, \n",
    "              alpha=1, marker = \"o\", jitter = True, dodge = True, edgecolor='gray', ax= axs[0])\n",
    "\n",
    "sns.boxplot(y = \"GeneCount\", x = \"AnnoAndTech\", hue = \"PangenomeTool\",\n",
    "            data = PG_Merged_Stats_LRandSR_Acc_DF, fliersize=0,\n",
    "            hue_order = hue_Order_Tools, order = Order_AnnoAndType,\n",
    "            ax= axs[0], boxprops=dict(alpha=0.4, linewidth=0),  )\n",
    "\n",
    "sns.stripplot(y = \"GeneCount\", x = \"AnnoAndTech\", hue = \"PangenomeTool\",\n",
    "              data = PG_Merged_Stats_LRandSR_Core_DF, linewidth=0, size = 8,\n",
    "              order = Order_AnnoAndType,\n",
    "              palette = Tools_hue_Color_Dict, hue_order = hue_Order_Tools, \n",
    "              alpha=1, marker = \"o\", jitter = True, dodge = True, edgecolor='gray', ax= axs[1])\n",
    "\n",
    "sns.boxplot(y = \"GeneCount\", x = \"AnnoAndTech\", hue = \"PangenomeTool\",\n",
    "            data = PG_Merged_Stats_LRandSR_Core_DF, fliersize=0,\n",
    "            hue_order = hue_Order_Tools, order = Order_AnnoAndType,\n",
    "            ax= axs[1], boxprops=dict(alpha=0.4, linewidth=0),  )\n",
    "\n",
    "axs[0].set_xlabel(\"\"), axs[1].set_xlabel(\"\")\n",
    "axs[0].set_ylabel(\"# estimated accessory genes\"), axs[1].set_ylabel(\"# estimated core genes\") \n",
    "\n",
    "axs[0].legend(title = \"Analysis Pipeline\",\n",
    "              handles=ToolPatches_List,\n",
    "              bbox_to_anchor=(1.2, 1))\n",
    "axs[1].get_legend().remove()\n",
    "\n",
    "sns.despine()\n",
    "\n",
    "#plt.savefig(\"Results3_Plots/3.PG.Counts.ColorByTool.Barplots.V2.png\", dpi = 300, bbox_inches=\"tight\")\n",
    "#plt.savefig(\"Results3_Plots/3.PG.Counts.ColorByTool.Barplots.V2.svg\", bbox_inches=\"tight\")\n",
    "plt.show()"
   ]
  },
  {
   "cell_type": "code",
   "execution_count": null,
   "id": "4c452221-78b1-4881-9c61-ee2a283ac9ea",
   "metadata": {},
   "outputs": [],
   "source": []
  },
  {
   "cell_type": "code",
   "execution_count": null,
   "id": "4a10fbdd-8c6b-48fd-b649-15567828633c",
   "metadata": {},
   "outputs": [],
   "source": []
  },
  {
   "cell_type": "code",
   "execution_count": null,
   "id": "eb8f98fd-740a-4161-b45f-07051a3940f5",
   "metadata": {},
   "outputs": [],
   "source": []
  },
  {
   "cell_type": "markdown",
   "id": "21fa2089-cedc-4aba-a3f8-4891248621f3",
   "metadata": {},
   "source": [
    "# Viz results coloring by Anno-AsmType combinations"
   ]
  },
  {
   "cell_type": "code",
   "execution_count": 56,
   "id": "84f5ea9c-205f-4bc3-a4eb-91c4c1ec9489",
   "metadata": {},
   "outputs": [],
   "source": [
    "AnnoAndTech_hue_Color_Dict = { \"Bakta-LongRead\": \"#1f77b4\",\n",
    "                               #\"PGAP-LongRead\": \"#2ca02c\",\n",
    "                               \"Bakta-ShortRead\": \"#ff7f0e\", }\n",
    "                               #\"PGAP-ShortRead\": \"#9467bd\" }\n",
    "\n",
    "Bakta_CompAsm_patch = mpatches.Patch(color = AnnoAndTech_hue_Color_Dict[\"Bakta-LongRead\"],\n",
    "                                     label='Bakta & Complete Assemblies (N=50)')\n",
    "Bakta_SRAsm_patch = mpatches.Patch(color = AnnoAndTech_hue_Color_Dict[\"Bakta-ShortRead\"],\n",
    "                                   label='Bakta & Short-Read Assemblies (N=50)')\n",
    "\n",
    "AnnoAndTech_Patches = [Bakta_CompAsm_patch, Bakta_SRAsm_patch]\n",
    "\n",
    "hue_orderToPlot_V2 = [\"Bakta-LongRead\",  \"Bakta-ShortRead\", ]\n",
    "\n",
    "hue_orderToPlot_X = AnnoAndTech_hue_Color_Dict.keys()\n",
    "pallete_ForPlot = AnnoAndTech_hue_Color_Dict.values()\n"
   ]
  },
  {
   "cell_type": "code",
   "execution_count": 57,
   "id": "8fe0f5db-b4c2-4346-af93-4416a5bb21e0",
   "metadata": {},
   "outputs": [
    {
     "data": {
      "text/plain": [
       "{'Bakta-LongRead': '#1f77b4', 'Bakta-ShortRead': '#ff7f0e'}"
      ]
     },
     "execution_count": 57,
     "metadata": {},
     "output_type": "execute_result"
    }
   ],
   "source": [
    "AnnoAndTech_hue_Color_Dict"
   ]
  },
  {
   "cell_type": "code",
   "execution_count": 58,
   "id": "36ea1955-0365-4508-b9a6-5c5c56cc303b",
   "metadata": {},
   "outputs": [
    {
     "data": {
      "text/plain": [
       "{'Bakta-LongRead': '#1f77b4', 'Bakta-ShortRead': '#ff7f0e'}"
      ]
     },
     "execution_count": 58,
     "metadata": {},
     "output_type": "execute_result"
    }
   ],
   "source": [
    "AnnoAndTech_hue_Color_Dict"
   ]
  },
  {
   "cell_type": "code",
   "execution_count": 59,
   "id": "11936520-8bc9-4e68-b95b-1140fcf4b150",
   "metadata": {},
   "outputs": [
    {
     "data": {
      "text/plain": [
       "dict_values(['#1f77b4', '#ff7f0e'])"
      ]
     },
     "execution_count": 59,
     "metadata": {},
     "output_type": "execute_result"
    }
   ],
   "source": [
    "pallete_ForPlot"
   ]
  },
  {
   "cell_type": "code",
   "execution_count": 60,
   "id": "5aeb3c0c-0b33-4774-b0a2-0bae9ef4f4ac",
   "metadata": {},
   "outputs": [
    {
     "data": {
      "image/png": "[encoded data removed]",
      "text/plain": [
       "<Figure size 1728x720 with 2 Axes>"
      ]
     },
     "metadata": {
      "needs_background": "light"
     },
     "output_type": "display_data"
    }
   ],
   "source": [
    "# Change the subplot configuration to 1 row, 2 columns\n",
    "fig, axs = plt.subplots(1, 2, figsize=(24, 10), sharex=False, sharey=True)\n",
    "sns.set_context(\"poster\")\n",
    "\n",
    "hue_orderToPlot_X = AnnoAndTech_hue_Color_Dict.keys()\n",
    "pallete_ForPlot = AnnoAndTech_hue_Color_Dict.values()\n",
    "\n",
    "# Plotting on the first and second subplot\n",
    "sns.barplot(y=\"Method\", x=\"GeneCount\", hue=\"AnnoAndTech\", data=PG_Merged_Stats_LRandSR_Acc_DF,\n",
    "            order=PGCombos_orderToPlot, hue_order=hue_orderToPlot_V2, ax=axs[0], palette=pallete_ForPlot)\n",
    "\n",
    "sns.barplot(y=\"Method\", x=\"GeneCount\", hue=\"AnnoAndTech\", data=PG_Merged_Stats_LRandSR_Core_DF,\n",
    "            order=PGCombos_orderToPlot, hue_order=hue_orderToPlot_V2, ax=axs[1], palette=pallete_ForPlot)\n",
    "\n",
    "# Set labels\n",
    "axs[0].set_ylabel(\"\") # Adjust as needed\n",
    "axs[1].set_ylabel(\"\") # Adjust as needed\n",
    "axs[0].set_xlabel(\"# of accessory genes\", rotation=0)\n",
    "axs[1].set_xlabel(\"# of core genes\", rotation=0)\n",
    "\n",
    "# Set tick labels\n",
    "for i_ax in axs:\n",
    "    i_ax.set_yticklabels(labels=PGCombos_TickLabels, rotation=0, fontdict={\"fontsize\": 14})\n",
    "\n",
    "axs[1].legend(title = \"Annotation/Assembly Combo\", handles = AnnoAndTech_Patches,\n",
    "              bbox_to_anchor=(1.15, 1), fontsize= 18) \n",
    "axs[0].get_legend().remove(), \n",
    "\n",
    "# Set titles\n",
    "axs[0].set_title(\"Accessory genome size\")\n",
    "axs[1].set_title(\"Core genome size\")\n",
    "\n",
    "# Despine and layout adjustment\n",
    "sns.despine()\n",
    "plt.tight_layout()\n",
    "\n",
    "#plt.savefig(\"Results3_Plots/3.PG.Counts.SRvsLR.AND.BaktaVsPGAP.CombinedCoreAccPlots.png\", dpi = 300, bbox_inches=\"tight\")\n",
    "#plt.savefig(\"Results3_Plots/3.PG.Counts.SRvsLR.AND.BaktaVsPGAP.CombinedCoreAccPlots.svg\", bbox_inches=\"tight\")\n",
    "\n",
    "plt.show()"
   ]
  },
  {
   "cell_type": "code",
   "execution_count": null,
   "id": "a9608137-40d0-4da0-974b-fa39019e5b25",
   "metadata": {},
   "outputs": [],
   "source": []
  },
  {
   "cell_type": "code",
   "execution_count": null,
   "id": "292dfbfe-08d5-4f09-b292-8a272a440967",
   "metadata": {},
   "outputs": [],
   "source": []
  },
  {
   "cell_type": "code",
   "execution_count": null,
   "id": "bedb9c11-7bf0-4c92-8685-7ebeca84290b",
   "metadata": {},
   "outputs": [],
   "source": []
  },
  {
   "cell_type": "code",
   "execution_count": null,
   "id": "2ccd3e1f-0b0e-4781-9073-3e1299e2072f",
   "metadata": {},
   "outputs": [],
   "source": []
  },
  {
   "cell_type": "code",
   "execution_count": null,
   "id": "5a8903ca-3fda-4285-b446-a3ba1153898a",
   "metadata": {},
   "outputs": [],
   "source": []
  },
  {
   "cell_type": "code",
   "execution_count": null,
   "id": "72aef522-d843-44df-9259-6cfb1074f7f0",
   "metadata": {},
   "outputs": [],
   "source": []
  }
 ],
 "metadata": {
  "kernelspec": {
   "display_name": "py37_S",
   "language": "python",
   "name": "py37_s"
  },
  "language_info": {
   "codemirror_mode": {
    "name": "ipython",
    "version": 3
   },
   "file_extension": ".py",
   "mimetype": "text/x-python",
   "name": "python",
   "nbconvert_exporter": "python",
   "pygments_lexer": "ipython3",
   "version": "3.7.3"
  }
 },
 "nbformat": 4,
 "nbformat_minor": 5
}
