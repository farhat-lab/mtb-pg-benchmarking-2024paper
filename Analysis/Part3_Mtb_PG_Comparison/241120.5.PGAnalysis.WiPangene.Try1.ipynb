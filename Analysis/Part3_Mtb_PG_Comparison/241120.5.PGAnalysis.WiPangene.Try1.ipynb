{
 "cells": [
  {
   "cell_type": "code",
   "execution_count": null,
   "id": "61182c67-8134-48f1-82d8-6cf6d7d864ae",
   "metadata": {},
   "outputs": [],
   "source": []
  },
  {
   "cell_type": "markdown",
   "id": "a7cb754e-3488-4532-a377-12f281280d8a",
   "metadata": {
    "toc-hr-collapsed": true
   },
   "source": [
    "### Import Statements"
   ]
  },
  {
   "cell_type": "code",
   "execution_count": 322,
   "id": "7610c615-66ff-4dbb-b168-e2d63e9addfe",
   "metadata": {},
   "outputs": [],
   "source": [
    "import numpy as np\n",
    "import pandas as pd\n",
    "import vcf\n",
    "from tqdm import tqdm\n",
    "import matplotlib.pyplot as plt\n",
    "import matplotlib.patches as mpatches\n",
    "\n",
    "import seaborn as sns\n",
    "import pickle\n",
    "import scipy.stats\n",
    "\n",
    "%matplotlib inline"
   ]
  },
  {
   "cell_type": "code",
   "execution_count": 323,
   "id": "0172f523-0305-4cf7-9ee8-0d47d944188f",
   "metadata": {},
   "outputs": [],
   "source": [
    "from Bio import SeqIO\n"
   ]
  },
  {
   "cell_type": "code",
   "execution_count": null,
   "id": "0af2abc7-4451-448c-b387-46c69519051f",
   "metadata": {},
   "outputs": [],
   "source": []
  },
  {
   "cell_type": "markdown",
   "id": "54113cf9-72c4-499b-9dfb-8e95ce719125",
   "metadata": {},
   "source": [
    "### Set matplotlib text export settings for Adobe Illustrator"
   ]
  },
  {
   "cell_type": "code",
   "execution_count": 324,
   "id": "e4d1f246-24a8-4a07-b112-5133112365dc",
   "metadata": {},
   "outputs": [],
   "source": [
    "import matplotlib\n",
    "\n",
    "matplotlib.rcParams['pdf.fonttype'] = 42\n",
    "matplotlib.rcParams['ps.fonttype'] = 42"
   ]
  },
  {
   "cell_type": "markdown",
   "id": "7c858051-763d-4b0e-bba5-93588af6082b",
   "metadata": {},
   "source": [
    "#### Pandas Viewing Settings"
   ]
  },
  {
   "cell_type": "code",
   "execution_count": 325,
   "id": "61a2abdc-98a0-4568-a7f2-8f9c8f0829ba",
   "metadata": {},
   "outputs": [],
   "source": [
    "pd.set_option('display.max_rows', 500)\n",
    "pd.set_option('display.max_columns', 500)\n",
    "pd.set_option('display.width', 1000)"
   ]
  },
  {
   "cell_type": "code",
   "execution_count": null,
   "id": "77928a9b-7820-4f0e-941f-c6ffcc60ebfc",
   "metadata": {},
   "outputs": [],
   "source": []
  },
  {
   "cell_type": "code",
   "execution_count": null,
   "id": "0d1d8912-c11a-4b00-8eb5-4587f6f5d8e8",
   "metadata": {},
   "outputs": [],
   "source": []
  },
  {
   "cell_type": "code",
   "execution_count": null,
   "id": "4964f749-19d4-4199-a309-e928b70ec188",
   "metadata": {},
   "outputs": [],
   "source": []
  },
  {
   "cell_type": "code",
   "execution_count": 326,
   "id": "b954f065-2f7b-4af9-bac3-e62c424abc2b",
   "metadata": {},
   "outputs": [],
   "source": [
    "#from panqc.utils import parse_PresAbs_Rtab, parse_PresAbs_CSV_Roary, parse_PresAbs_CSV_Panaroo, get_PG_Stats_FromPresAbs\n",
    "from panqc.utils import get_PG_Stats_FromPresAbs\n"
   ]
  },
  {
   "cell_type": "code",
   "execution_count": 327,
   "id": "abb8326f-2855-430d-9e6d-e6b5c7030897",
   "metadata": {},
   "outputs": [],
   "source": [
    "def parse_PresAbs_Rtab_V2(PresAbs_Rtab_PATH):\n",
    "    '''\n",
    "    This function parsesthe `gene_presence_absence.csv` file output by Panaroo '''\n",
    "\n",
    "    i_Gene_PresAbs_DF = pd.read_csv(PresAbs_Rtab_PATH, sep = \"\\t\")\n",
    "\n",
    "    ### Relabel Columns for presence/absence tracking\n",
    "    i_Gene_PresAbs_DF.columns = [ x.split(\".CDHIT\")[0] for x in i_Gene_PresAbs_DF.columns ]\n",
    "\n",
    "\n",
    "    ListOf_SampleID_Cols = list(i_Gene_PresAbs_DF.drop([\"Gene\"], axis=1).columns)\n",
    "    \n",
    "    i_Gene_PresAbs_DF[\"NumAsm_WiGene\"] = i_Gene_PresAbs_DF[ListOf_SampleID_Cols].sum(axis = 1)\n",
    "\n",
    "    i_Gene_PresAbs_DF = i_Gene_PresAbs_DF.sort_values(by='NumAsm_WiGene', ascending=False)\n",
    "    i_Gene_PresAbs_DF = i_Gene_PresAbs_DF.set_index(\"Gene\", drop=False)\n",
    "\n",
    "    return i_Gene_PresAbs_DF"
   ]
  },
  {
   "cell_type": "code",
   "execution_count": 328,
   "id": "067ceb8f-0cba-402f-9d77-c34204fdd5fd",
   "metadata": {},
   "outputs": [],
   "source": [
    "def infer_PG_Stats_FromRtab(i_Pangene_Rtab, i_NumSamples, verbose = False):\n",
    "\n",
    "    Pangene_Rtab_DF = parse_PresAbs_Rtab_V2(i_Pangene_Rtab)\n",
    "\n",
    "    NumTotalGenes, NumCoreGenes, NumAccessoryGenes = get_PG_Stats_FromPresAbs(Pangene_Rtab_DF, i_NumSamples)\n",
    "\n",
    "    listOf_PG_Rows = []\n",
    "    listOf_PG_Rows.append( (\"Total genes\", \"(0% <= strains <= 100%)\", NumTotalGenes) )\n",
    "    listOf_PG_Rows.append( (\"Accessory genes\", \"(0% <= strains < 99%)\", NumAccessoryGenes) )\n",
    "    listOf_PG_Rows.append( (\"Core genes\", \"(99% <= strains <= 100%)\", NumCoreGenes) )\n",
    "\n",
    "    Pangene_PG_Stats_DF = pd.DataFrame(listOf_PG_Rows)\n",
    "    Pangene_PG_Stats_DF.columns = [\"Category\", \"Range\", \"GeneCount\"]\n",
    "    \n",
    "    return Pangene_PG_Stats_DF"
   ]
  },
  {
   "cell_type": "code",
   "execution_count": 329,
   "id": "4cd7bdcf-91f5-40cc-a7b2-472823026810",
   "metadata": {},
   "outputs": [],
   "source": [
    "\n",
    "def read_PanarooSummaryStats(input_Panaroo_SummaryStats_TXT):\n",
    "    \n",
    "    i_Panaroo_Stats_DF = pd.read_csv(input_Panaroo_SummaryStats_TXT, sep = \"\\t\", header=None)\n",
    "    i_Panaroo_Stats_DF.columns = [\"Category\", \"Range\", \"GeneCount\"]\n",
    "\n",
    "    Acc_GenesCount = i_Panaroo_Stats_DF[\"GeneCount\"].values[-1] - i_Panaroo_Stats_DF[\"GeneCount\"].values[0]\n",
    "\n",
    "    i_Panaroo_AccGenesRow = [\"Accessory genes\",\"(0% <= strains < 99%)\", Acc_GenesCount]\n",
    "\n",
    "    i_Panaroo_Stats_DF.loc[len(i_Panaroo_Stats_DF.index)] = i_Panaroo_AccGenesRow\n",
    "\n",
    "    #listOfCat_ToKeep = [\"Core genes\", \"Accessory Genes\", \"Total genes\"]\n",
    "\n",
    "    i_Panaroo_Stats_DF = i_Panaroo_Stats_DF[ i_Panaroo_Stats_DF[\"Category\"].isin(listOfCat_ToKeep)]   \n",
    "\n",
    "    # https://www.statology.org/pandas-add-row-to-dataframe/#:~:text=You%20can%20use%20the%20df,loc%5Blen(df. \n",
    "\n",
    "    return i_Panaroo_Stats_DF"
   ]
  },
  {
   "cell_type": "code",
   "execution_count": 330,
   "id": "592e2189-d8ad-4458-8535-964c0b176402",
   "metadata": {},
   "outputs": [],
   "source": [
    "def read_Ppanggolin_ContextStats(i_Ppanggolin_Content_TXT, verbose = False):\n",
    "    if verbose:\n",
    "        print(f\"reading Ppangolin stats from {i_Ppanggolin_Content_TXT}\")\n",
    "        \n",
    "    with open(i_Ppanggolin_Content_TXT, \"r\") as f:\n",
    "\n",
    "        #NumCoreGenes = -1\n",
    "        #NumShellGenes = -1\n",
    "        #NumCloudGenes = -1\n",
    "        for line in f:\n",
    "            #print(line)\n",
    "            line_split = line.split(\": \")\n",
    "\n",
    "            Key = line_split[0].split(\" \")[0]\n",
    "            Value = line_split[-1].strip()\n",
    "\n",
    "            if Key == \"Persistent\": NumCoreGenes = int(Value)\n",
    "            elif Key == \"Shell\": NumShellGenes = int(Value)\n",
    "            elif Key == \"Cloud\": NumCloudGenes = int(Value)\n",
    "        print(NumShellGenes, NumCloudGenes)\n",
    "        NumAccessoryGenes = NumShellGenes + NumCloudGenes\n",
    "        NumTotalGenes = NumCoreGenes + NumAccessoryGenes\n",
    "\n",
    "        #print(NumCoreGenes, NumAccessoryGenes, NumTotalGenes)\n",
    "\n",
    "    listOf_PG_Rows = []\n",
    "    listOf_PG_Rows.append( (\"Total genes\", \"(0% <= strains <= 100%)\", NumTotalGenes) )\n",
    "    listOf_PG_Rows.append( (\"Accessory genes\", \"(0% <= strains < 99%)\", NumAccessoryGenes) )\n",
    "    listOf_PG_Rows.append( (\"Core genes\", \"(99% <= strains <= 100%)\", NumCoreGenes) )\n",
    "\n",
    "    PPanggolin_Summary_DF = pd.DataFrame(listOf_PG_Rows)\n",
    "    PPanggolin_Summary_DF.columns = [\"Category\", \"Range\", \"GeneCount\"]\n",
    "    \n",
    "    return PPanggolin_Summary_DF"
   ]
  },
  {
   "cell_type": "code",
   "execution_count": null,
   "id": "55a98200-15bd-4cd9-b850-b754260956ac",
   "metadata": {},
   "outputs": [],
   "source": []
  },
  {
   "cell_type": "code",
   "execution_count": null,
   "id": "b6bfaaad-f4b0-45dc-88a3-d19e7f7e2a8d",
   "metadata": {},
   "outputs": [],
   "source": []
  },
  {
   "cell_type": "code",
   "execution_count": null,
   "id": "31313309-6f66-4bac-a820-ed04c65144f8",
   "metadata": {},
   "outputs": [],
   "source": []
  },
  {
   "cell_type": "code",
   "execution_count": null,
   "id": "7306607c-6edb-4de8-8e59-3dadfe0d193c",
   "metadata": {},
   "outputs": [],
   "source": []
  },
  {
   "cell_type": "code",
   "execution_count": null,
   "id": "58779012-bff2-4375-9536-34f29ca8f34a",
   "metadata": {},
   "outputs": [],
   "source": []
  },
  {
   "cell_type": "markdown",
   "id": "f53f06b6-a4ea-45b5-ba16-b15d1f12cad9",
   "metadata": {
    "toc-hr-collapsed": true
   },
   "source": [
    "# Parse sample metadata & preprocessed genome info/results"
   ]
  },
  {
   "cell_type": "markdown",
   "id": "7fb4fbfc-2eb1-4dd2-970f-3cb0c2e66fea",
   "metadata": {},
   "source": [
    "## Parse sample Metadata (N = 151)"
   ]
  },
  {
   "cell_type": "code",
   "execution_count": 331,
   "id": "5da8253b-dfdd-4425-a1a4-c48a7fc1fbd8",
   "metadata": {},
   "outputs": [
    {
     "data": {
      "text/plain": [
       "(151, 7)"
      ]
     },
     "execution_count": 331,
     "metadata": {},
     "output_type": "execute_result"
    }
   ],
   "source": [
    "Repo_DataDir = \"../../Data\"\n",
    "InputAsmPath_Dir = f\"{Repo_DataDir}/231121.InputAsmTSVs.MtbSetV3.151CI\"\n",
    "\n",
    "MtbSetV3_151CI_InputAsmPATHs_TSV = f\"{InputAsmPath_Dir}/231121.MtbSetV3.151CI.HybridAndSRAsm.FAPATHs.V1.tsv\"\n",
    "\n",
    "MtbSetV3_151CI_AsmSumm_TSV = f\"{InputAsmPath_Dir}/231121.MtbSetV3.151CI.HybridAsm.AsmSummary.V2.tsv\"\n",
    "\n",
    "WGA151CI_AsmSummary_DF = pd.read_csv(MtbSetV3_151CI_AsmSumm_TSV, sep = \"\\t\")\n",
    "\n",
    "SampleIDs_151CI_SOI = list( WGA151CI_AsmSummary_DF[\"SampleID\"].values )\n",
    "WGA151CI_SampleIDs = SampleIDs_151CI_SOI\n",
    "\n",
    "ID_To_PrimLineage_Dict = dict(WGA151CI_AsmSummary_DF[['SampleID', 'PrimaryLineage']].values)\n",
    "ID_To_SubLineage_Dict = dict( WGA151CI_AsmSummary_DF[[\"SampleID\", \"Lineage\"]].values)\n",
    "ID_To_Dataset_Dict = dict(WGA151CI_AsmSummary_DF[['SampleID', 'Dataset_Tag']].values)\n",
    "WGA151CI_AsmSummary_DF.shape"
   ]
  },
  {
   "cell_type": "code",
   "execution_count": null,
   "id": "a59c4df5-b9ab-45d9-ab86-30328597d1e3",
   "metadata": {},
   "outputs": [],
   "source": []
  },
  {
   "cell_type": "code",
   "execution_count": null,
   "id": "9762daf8-24e1-4b44-8bd6-3f0a6e6dd9fd",
   "metadata": {},
   "outputs": [],
   "source": []
  },
  {
   "cell_type": "markdown",
   "id": "4bc553c0-66b8-4e76-9807-f6c511f48aee",
   "metadata": {},
   "source": [
    "# Define output dir of the Mtb-WGA-SMK processing pipeline"
   ]
  },
  {
   "cell_type": "code",
   "execution_count": 332,
   "id": "5d2bdbf9-8ad6-4c63-af0a-c3b08c2b6cda",
   "metadata": {},
   "outputs": [],
   "source": [
    "# Define pipeline output directories\n",
    "\n",
    "WGA_SMK_Outputs_Dir = \"/n/data1/hms/dbmi/farhat/mm774/Projects/Mtb-WGA-SMK-Output\"\n",
    "\n",
    "#MtbWGA_SMK_Pipeline_OutputDir = WGA_SMK_Outputs_Dir + \"/220427_WGA158CI_V1\"\n",
    "WGA151CI_SMK_OutputDir = WGA_SMK_Outputs_Dir + \"/231121_MtbSetV3_151CI\"\n",
    "Mtb_SMK_Pipeline_OutputDir = WGA151CI_SMK_OutputDir"
   ]
  },
  {
   "cell_type": "code",
   "execution_count": 333,
   "id": "7fc1e635-dee7-4b4a-96dc-f41906a4b1f7",
   "metadata": {},
   "outputs": [],
   "source": [
    "target_OutputDir = Mtb_SMK_Pipeline_OutputDir\n",
    "\n",
    "\n",
    "i_Pangenome_Dir = f\"{target_OutputDir}/PanGenome_Analysis\"\n",
    "\n",
    "i_Pangene_OutDir = f\"{i_Pangenome_Dir}/pangene\"\n"
   ]
  },
  {
   "cell_type": "code",
   "execution_count": 334,
   "id": "ffd3c418-f8a5-4f41-ab33-8a7ac4cf8504",
   "metadata": {},
   "outputs": [
    {
     "name": "stdout",
     "output_type": "stream",
     "text": [
      "Mtb151CI.Bakta.AllCDSMerged.faa\n",
      "Mtb151CI.CDHIT0.95.Clustered.faa\n",
      "Mtb151CI.CDHIT0.95.Clustered.faa.clstr\n",
      "Mtb151CI.CDHIT0.95.Miniprot0.95.gene_presence_absence.Rtab\n",
      "Mtb151CI.CDHIT0.95.Miniprot0.95.pangene.gfa\n",
      "Mtb151CI.CDHIT0.95.Miniprot0.98.gene_presence_absence.Rtab\n",
      "Mtb151CI.CDHIT0.95.Miniprot0.98.pangene.gfa\n",
      "Mtb151CI.CDHIT0.95.Miniprot0.99.gene_presence_absence.Rtab\n",
      "Mtb151CI.CDHIT0.95.Miniprot0.99.pangene.gfa\n",
      "Mtb151CI.CDHIT0.95.Miniprot0.9.gene_presence_absence.Rtab\n",
      "Mtb151CI.CDHIT0.95.Miniprot0.9.pangene.gfa\n",
      "Mtb151CI.CDHIT0.98.Clustered.faa\n",
      "Mtb151CI.CDHIT0.98.Clustered.faa.clstr\n",
      "Mtb151CI.CDHIT0.98.Miniprot0.95.gene_presence_absence.Rtab\n",
      "Mtb151CI.CDHIT0.98.Miniprot0.95.pangene.gfa\n",
      "Mtb151CI.CDHIT0.98.Miniprot0.98.gene_presence_absence.Rtab\n",
      "Mtb151CI.CDHIT0.98.Miniprot0.98.pangene.gfa\n",
      "Mtb151CI.CDHIT0.98.Miniprot0.99.gene_presence_absence.Rtab\n",
      "Mtb151CI.CDHIT0.98.Miniprot0.99.pangene.gfa\n",
      "Mtb151CI.CDHIT0.98.Miniprot0.9.gene_presence_absence.Rtab\n",
      "Mtb151CI.CDHIT0.98.Miniprot0.9.pangene.gfa\n",
      "Mtb151CI.CDHIT0.9.Clustered.faa\n",
      "Mtb151CI.CDHIT0.9.Clustered.faa.clstr\n",
      "Mtb151CI.CDHIT0.9.Miniprot0.95.gene_presence_absence.Rtab\n",
      "Mtb151CI.CDHIT0.9.Miniprot0.95.pangene.gfa\n",
      "Mtb151CI.CDHIT0.9.Miniprot0.98.gene_presence_absence.Rtab\n",
      "Mtb151CI.CDHIT0.9.Miniprot0.98.pangene.gfa\n",
      "Mtb151CI.CDHIT0.9.Miniprot0.99.gene_presence_absence.Rtab\n",
      "Mtb151CI.CDHIT0.9.Miniprot0.99.pangene.gfa\n",
      "Mtb151CI.CDHIT0.9.Miniprot0.9.gene_presence_absence.Rtab\n",
      "Mtb151CI.CDHIT0.9.Miniprot0.9.pangene.gfa\n"
     ]
    }
   ],
   "source": [
    "!ls -1 $i_Pangenome_Dir/pangene"
   ]
  },
  {
   "cell_type": "code",
   "execution_count": null,
   "id": "6c9affa4-218e-430c-96e9-2aa7aad1b80f",
   "metadata": {},
   "outputs": [],
   "source": []
  },
  {
   "cell_type": "code",
   "execution_count": null,
   "id": "b1715021-428d-44a6-8d59-bb8e00ef6ab7",
   "metadata": {},
   "outputs": [],
   "source": []
  },
  {
   "cell_type": "code",
   "execution_count": null,
   "id": "d35298d1-b59a-4f55-8d76-e6a027ccfb77",
   "metadata": {},
   "outputs": [],
   "source": []
  },
  {
   "cell_type": "code",
   "execution_count": null,
   "id": "e8b897f5-956d-4fb2-95dd-e2f11bf39542",
   "metadata": {},
   "outputs": [],
   "source": []
  },
  {
   "cell_type": "code",
   "execution_count": null,
   "id": "75260da7-0d24-49ca-a5c9-f193a2e1b2cf",
   "metadata": {},
   "outputs": [],
   "source": []
  },
  {
   "cell_type": "code",
   "execution_count": 335,
   "id": "e0a4e8ea-d95d-41b7-9373-4effba907865",
   "metadata": {},
   "outputs": [
    {
     "name": "stdout",
     "output_type": "stream",
     "text": [
      "Mtb151CI.CDHIT0.95.Miniprot0.95.gene_presence_absence.Rtab\n",
      "Mtb151CI.CDHIT0.95.Miniprot0.98.gene_presence_absence.Rtab\n",
      "Mtb151CI.CDHIT0.95.Miniprot0.99.gene_presence_absence.Rtab\n",
      "Mtb151CI.CDHIT0.95.Miniprot0.9.gene_presence_absence.Rtab\n",
      "Mtb151CI.CDHIT0.98.Miniprot0.95.gene_presence_absence.Rtab\n",
      "Mtb151CI.CDHIT0.98.Miniprot0.98.gene_presence_absence.Rtab\n",
      "Mtb151CI.CDHIT0.98.Miniprot0.99.gene_presence_absence.Rtab\n",
      "Mtb151CI.CDHIT0.98.Miniprot0.9.gene_presence_absence.Rtab\n",
      "Mtb151CI.CDHIT0.9.Miniprot0.95.gene_presence_absence.Rtab\n",
      "Mtb151CI.CDHIT0.9.Miniprot0.98.gene_presence_absence.Rtab\n",
      "Mtb151CI.CDHIT0.9.Miniprot0.99.gene_presence_absence.Rtab\n",
      "Mtb151CI.CDHIT0.9.Miniprot0.9.gene_presence_absence.Rtab\n"
     ]
    }
   ],
   "source": [
    "!ls -1 $i_Pangene_OutDir | grep Rtab"
   ]
  },
  {
   "cell_type": "code",
   "execution_count": null,
   "id": "95fd6f7a-3e97-468b-bb38-a06f6ac8c58a",
   "metadata": {},
   "outputs": [],
   "source": []
  },
  {
   "cell_type": "code",
   "execution_count": 336,
   "id": "bc92d99d-7789-4743-b8b9-b6b09a02ec5d",
   "metadata": {},
   "outputs": [
    {
     "name": "stdout",
     "output_type": "stream",
     "text": [
      "-rw-rw-r-- 1 mm774 farhat 1.3M Nov 20 13:38 /n/data1/hms/dbmi/farhat/mm774/Projects/Mtb-WGA-SMK-Output/231121_MtbSetV3_151CI/PanGenome_Analysis/pangene/Mtb151CI.CDHIT0.98.Miniprot0.99.gene_presence_absence.Rtab\n"
     ]
    }
   ],
   "source": [
    "Mtb_LR_Pangene_C90M90_Rtab = f\"{i_Pangene_OutDir}/Mtb151CI.CDHIT0.95.Miniprot0.99.gene_presence_absence.Rtab\"    \n",
    "!ls -lah $i_Gene_PresAbs_Rtab_PATH"
   ]
  },
  {
   "cell_type": "code",
   "execution_count": 337,
   "id": "4a7cc7fa-e040-4757-89ab-820093e2566c",
   "metadata": {},
   "outputs": [
    {
     "data": {
      "text/plain": [
       "(4215, 153)"
      ]
     },
     "execution_count": 337,
     "metadata": {},
     "output_type": "execute_result"
    }
   ],
   "source": [
    "Pangene_C90M90_PA = parse_PresAbs_Rtab_V2(Mtb_LR_Pangene_C90M90_Rtab)\n",
    "Pangene_C90M90_PA.shape"
   ]
  },
  {
   "cell_type": "code",
   "execution_count": 338,
   "id": "b5ca6daa-9a94-4141-a04d-3f5b07ddbc9d",
   "metadata": {},
   "outputs": [
    {
     "name": "stdout",
     "output_type": "stream",
     "text": [
      "Accessory Thresh: 149.49\n"
     ]
    }
   ],
   "source": [
    "N_Total, N_Core, N_Acc = get_PG_Stats_FromPresAbs(Pangene_C90M90_PA, 151)"
   ]
  },
  {
   "cell_type": "code",
   "execution_count": null,
   "id": "615d5da6-9c30-4a0d-ae04-a8996468b241",
   "metadata": {},
   "outputs": [],
   "source": []
  },
  {
   "cell_type": "code",
   "execution_count": 339,
   "id": "fc787302-6688-4100-938d-65855e8c0484",
   "metadata": {},
   "outputs": [],
   "source": [
    "#!ls -1 $i_Pangenome_Dir"
   ]
  },
  {
   "cell_type": "code",
   "execution_count": null,
   "id": "7b583e61-e878-4c25-abe2-5645a4e0be0a",
   "metadata": {},
   "outputs": [],
   "source": []
  },
  {
   "cell_type": "code",
   "execution_count": 340,
   "id": "f334ec59-9e54-41c1-959f-1c0058a76fd8",
   "metadata": {},
   "outputs": [
    {
     "name": "stdout",
     "output_type": "stream",
     "text": [
      "Mtb151CI.CDHIT0.95.Miniprot0.95.gene_presence_absence.Rtab\n",
      "Mtb151CI.CDHIT0.95.Miniprot0.98.gene_presence_absence.Rtab\n",
      "Mtb151CI.CDHIT0.95.Miniprot0.99.gene_presence_absence.Rtab\n",
      "Mtb151CI.CDHIT0.95.Miniprot0.9.gene_presence_absence.Rtab\n",
      "Mtb151CI.CDHIT0.98.Miniprot0.95.gene_presence_absence.Rtab\n",
      "Mtb151CI.CDHIT0.98.Miniprot0.98.gene_presence_absence.Rtab\n",
      "Mtb151CI.CDHIT0.98.Miniprot0.99.gene_presence_absence.Rtab\n",
      "Mtb151CI.CDHIT0.98.Miniprot0.9.gene_presence_absence.Rtab\n",
      "Mtb151CI.CDHIT0.9.Miniprot0.95.gene_presence_absence.Rtab\n",
      "Mtb151CI.CDHIT0.9.Miniprot0.98.gene_presence_absence.Rtab\n",
      "Mtb151CI.CDHIT0.9.Miniprot0.99.gene_presence_absence.Rtab\n",
      "Mtb151CI.CDHIT0.9.Miniprot0.9.gene_presence_absence.Rtab\n"
     ]
    }
   ],
   "source": [
    "!ls -1 $i_Pangene_OutDir | grep Rtab"
   ]
  },
  {
   "cell_type": "code",
   "execution_count": null,
   "id": "ba8c4d47-4df5-44e7-88c2-50ce4b365ac2",
   "metadata": {},
   "outputs": [],
   "source": []
  },
  {
   "cell_type": "markdown",
   "id": "05c97882-4018-485c-aeef-0c9b9c3f7304",
   "metadata": {
    "tags": []
   },
   "source": [
    "## Define output dirs of pipeline"
   ]
  },
  {
   "cell_type": "code",
   "execution_count": 341,
   "id": "4206e700-b0eb-4af4-992a-ed7496600885",
   "metadata": {},
   "outputs": [
    {
     "name": "stderr",
     "output_type": "stream",
     "text": [
      " 60%|██████    | 12/20 [00:00<00:00, 39.09it/s]"
     ]
    },
    {
     "name": "stdout",
     "output_type": "stream",
     "text": [
      "Accessory Thresh: 149.49\n",
      "Accessory Thresh: 149.49\n",
      "Accessory Thresh: 149.49\n"
     ]
    },
    {
     "name": "stderr",
     "output_type": "stream",
     "text": [
      " 75%|███████▌  | 15/20 [00:00<00:00, 23.72it/s]"
     ]
    },
    {
     "name": "stdout",
     "output_type": "stream",
     "text": [
      "Accessory Thresh: 149.49\n",
      "CDHIT0.95.Miniprot0.95\n",
      "Accessory Thresh: 149.49\n",
      "CDHIT0.95.Miniprot0.98\n",
      "Accessory Thresh: 149.49\n",
      "CDHIT0.95.Miniprot0.99\n"
     ]
    },
    {
     "name": "stderr",
     "output_type": "stream",
     "text": [
      " 90%|█████████ | 18/20 [00:00<00:00, 19.46it/s]"
     ]
    },
    {
     "name": "stdout",
     "output_type": "stream",
     "text": [
      "Accessory Thresh: 149.49\n",
      "CDHIT0.98.Miniprot0.95\n",
      "Accessory Thresh: 149.49\n",
      "CDHIT0.98.Miniprot0.98\n",
      "Accessory Thresh: 149.49\n",
      "CDHIT0.98.Miniprot0.99\n"
     ]
    },
    {
     "name": "stderr",
     "output_type": "stream",
     "text": [
      "100%|██████████| 20/20 [00:00<00:00, 17.06it/s]"
     ]
    },
    {
     "name": "stdout",
     "output_type": "stream",
     "text": [
      "Accessory Thresh: 149.49\n"
     ]
    },
    {
     "name": "stderr",
     "output_type": "stream",
     "text": [
      "\n"
     ]
    }
   ],
   "source": [
    "\n",
    "PipeName_WiParam_List = ['Panaroo_Strict_MergeParalogs', 'Panaroo_Moderate_MergeParalogs',\n",
    "                         'Panaroo_Sensitive_MergeParalogs', 'Panaroo_Strict',\n",
    "                         'Panaroo_Moderate', 'Panaroo_Sensitive',  'Roary_NoSplitParalogs_I80',\n",
    "                         'Roary_NoSplitParalogs_I90',\n",
    "                         'Roary_NoSplitParalogs',  'Roary_Default',\n",
    "                         'Ppanggolin_I0.80C0.80',\n",
    "                         'Ppanggolin_I0.80C0.90',\n",
    "                         'Ppanggolin_I0.90C0.80',\n",
    "                         'Ppanggolin_I0.90C0.90',\n",
    "                         'Pangene_CDHIT0.95.Miniprot0.95',\n",
    "                         'Pangene_CDHIT0.95.Miniprot0.98',\n",
    "                         'Pangene_CDHIT0.95.Miniprot0.99',\n",
    "                         'Pangene_CDHIT0.98.Miniprot0.95',\n",
    "                         'Pangene_CDHIT0.98.Miniprot0.98',\n",
    "                         'Pangene_CDHIT0.98.Miniprot0.99',] \n",
    "\n",
    "\n",
    "target_OutputDir = Mtb_SMK_Pipeline_OutputDir\n",
    "\n",
    "i_Pangenome_Dir = f\"{target_OutputDir}/PanGenome_Analysis\"\n",
    "\n",
    "listOfCat_ToKeep = [\"Core genes\", \"Accessory genes\", \"Total genes\"]\n",
    "\n",
    "\n",
    "dictOf_PG_OutInfo = {}\n",
    "dictOf_PG_PresAbs_DF = {}\n",
    "dictOf_PG_OutDir_PATHs = {}\n",
    "\n",
    "for i_SampleSet in [\"All\"]:\n",
    "    \n",
    "    dictOf_PG_OutInfo[i_SampleSet] = {}\n",
    "    dictOf_PG_OutDir_PATHs[i_SampleSet] = {}\n",
    "    dictOf_PG_PresAbs_DF[i_SampleSet] = {}\n",
    "    \n",
    "    for AnnoPipeline in [\"Bakta\", ]:\n",
    "        \n",
    "        dictOf_PG_OutInfo[i_SampleSet][AnnoPipeline] = {}\n",
    "        dictOf_PG_OutDir_PATHs[i_SampleSet][AnnoPipeline] = {}\n",
    "        dictOf_PG_PresAbs_DF[i_SampleSet][AnnoPipeline] = {}\n",
    "        \n",
    "        for AsmTech in [\"LongRead\",]:       \n",
    "            \n",
    "            dictOf_PG_OutInfo[i_SampleSet][AnnoPipeline][AsmTech] = {}\n",
    "            dictOf_PG_OutDir_PATHs[i_SampleSet][AnnoPipeline][AsmTech] = {}\n",
    "            dictOf_PG_PresAbs_DF[i_SampleSet][AnnoPipeline][AsmTech] = {}\n",
    "            \n",
    "            \n",
    "            for i_PipeNameWiParam in tqdm(PipeName_WiParam_List):\n",
    "                \n",
    "                dictOf_PG_OutDir_PATHs[i_SampleSet][AnnoPipeline][AsmTech][i_PipeNameWiParam] = {}\n",
    "                                \n",
    "                if i_SampleSet == \"All\": DataSetSuffix = \"_AllIsolates\"  \n",
    "\n",
    "                if AsmTech == \"LongRead\": SeqTechPrefix = \"\"\n",
    "                elif AsmTech == \"ShortRead\": SeqTechPrefix = \"SR_\"\n",
    "\n",
    "                if AnnoPipeline == \"Bakta\": AnnoSuffix = \"\"\n",
    "                elif AnnoPipeline == \"PGAP\": AnnoSuffix = \"_WiPGAPAnno_V1\"\n",
    "\n",
    "\n",
    "                i_Pipeline_OutDir = f\"{i_Pangenome_Dir}/{SeqTechPrefix}{i_PipeNameWiParam}{DataSetSuffix}{AnnoSuffix}\"\n",
    "\n",
    "                i_Pangene_OutDir  = f\"{i_Pangenome_Dir}/pangene\"\n",
    "                \n",
    "                if \"Pangene\" in i_PipeNameWiParam:\n",
    "                    \n",
    "                    Pangene_ParamString = i_PipeNameWiParam[8:]\n",
    "                    print(Pangene_ParamString)\n",
    "                    i_Gene_PresAbs_Rtab_PATH = f\"{i_Pangene_OutDir}/Mtb151CI.{Pangene_ParamString}.gene_presence_absence.Rtab\"    \n",
    "\n",
    "                    i_PG_Stats_DF = infer_PG_Stats_FromRtab(i_Gene_PresAbs_Rtab_PATH, 151)\n",
    "                    i_PG_Stats_DF[\"Annotation\"] = AnnoPipeline\n",
    "                    i_PG_Stats_DF[\"Method\"] = i_PipeNameWiParam\n",
    "                    i_PG_Stats_DF[\"SeqType\"] = AsmTech\n",
    "                    i_PG_Stats_DF[\"DataSet\"] = i_SampleSet\n",
    "                    \n",
    "                    i_PG_Stats_DF = i_PG_Stats_DF[ i_PG_Stats_DF[\"Category\"].isin(listOfCat_ToKeep)]   \n",
    "                    i_PG_Stats_DF = i_PG_Stats_DF.sort_values(\"GeneCount\", ascending=False)\n",
    "\n",
    "                    dictOf_PG_OutDir_PATHs[i_SampleSet][AnnoPipeline][AsmTech][i_PipeNameWiParam][\"PresAbs_Rtab\"] = i_Gene_PresAbs_Rtab_PATH\n",
    "                \n",
    "                \n",
    "                if \"Panaroo\" in i_PipeNameWiParam:\n",
    "                    \n",
    "                    i_PG_Summary_Txt = f\"{i_Pipeline_OutDir}/summary_statistics.txt\"\n",
    "\n",
    "                    i_PG_Stats_DF = read_PanarooSummaryStats(i_PG_Summary_Txt)\n",
    "                    i_PG_Stats_DF[\"Annotation\"] = AnnoPipeline\n",
    "                    i_PG_Stats_DF[\"Method\"] = i_PipeNameWiParam\n",
    "                    i_PG_Stats_DF[\"SeqType\"] = AsmTech\n",
    "                    i_PG_Stats_DF[\"DataSet\"] = i_SampleSet\n",
    "                    \n",
    "                    i_PG_Stats_DF = i_PG_Stats_DF[ i_PG_Stats_DF[\"Category\"].isin(listOfCat_ToKeep)]   \n",
    "                    i_PG_Stats_DF = i_PG_Stats_DF.sort_values(\"GeneCount\", ascending=False)\n",
    "\n",
    "                    i_Gene_PresAbs_CSV_PATH = f\"{i_Pipeline_OutDir}/gene_presence_absence.csv\"    \n",
    "                    i_Pangenome_Ref_FA_PATH = f\"{i_Pipeline_OutDir}/pan_genome_reference.fa\"\n",
    "                    \n",
    "                    #i_Gene_PresAbs_DF = parse_Panaroo_GenePresAbs_CSV(i_Gene_PresAbs_CSV_PATH)  \n",
    "\n",
    "                    dictOf_PG_OutDir_PATHs[i_SampleSet][AnnoPipeline][AsmTech][i_PipeNameWiParam][\"PresAbs_CSV\"] = i_Gene_PresAbs_CSV_PATH\n",
    "                    dictOf_PG_OutDir_PATHs[i_SampleSet][AnnoPipeline][AsmTech][i_PipeNameWiParam][\"Pangenome_Ref_FA\"] = i_Pangenome_Ref_FA_PATH\n",
    "\n",
    "\n",
    "                elif \"Roary\" in i_PipeNameWiParam:\n",
    "                    i_PG_Summary_Txt = f\"{i_Pipeline_OutDir}/summary_statistics.txt\"\n",
    "\n",
    "                    i_PG_Stats_DF = read_PanarooSummaryStats(i_PG_Summary_Txt)\n",
    "                    i_PG_Stats_DF[\"Annotation\"] = AnnoPipeline\n",
    "                    i_PG_Stats_DF[\"Method\"] = i_PipeNameWiParam\n",
    "                    i_PG_Stats_DF[\"SeqType\"] = AsmTech\n",
    "                    i_PG_Stats_DF[\"DataSet\"] = i_SampleSet\n",
    "                    \n",
    "                    i_PG_Stats_DF = i_PG_Stats_DF[ i_PG_Stats_DF[\"Category\"].isin(listOfCat_ToKeep)]   \n",
    "                    i_PG_Stats_DF = i_PG_Stats_DF.sort_values(\"GeneCount\", ascending=False)\n",
    "\n",
    "                    i_Gene_PresAbs_CSV_PATH = f\"{i_Pipeline_OutDir}/gene_presence_absence.csv\"    \n",
    "\n",
    "                    i_Pangenome_Ref_FA_PATH = f\"{i_Pipeline_OutDir}/pan_genome_reference.fa\"\n",
    "                    \n",
    "                    dictOf_PG_OutDir_PATHs[i_SampleSet][AnnoPipeline][AsmTech][i_PipeNameWiParam][\"PresAbs_CSV\"] = i_Gene_PresAbs_CSV_PATH\n",
    "                    dictOf_PG_OutDir_PATHs[i_SampleSet][AnnoPipeline][AsmTech][i_PipeNameWiParam][\"Pangenome_Ref_FA\"] = i_Pangenome_Ref_FA_PATH\n",
    "\n",
    "                    \n",
    "                elif \"Ppanggolin\" in i_PipeNameWiParam:\n",
    "\n",
    "                    \n",
    "                    i_Gene_PresAbs_Rtab_PATH = f\"{i_Pipeline_OutDir}/gene_presence_absence.Rtab\"    \n",
    "\n",
    "                    i_PG_Stats_DF = infer_PG_Stats_FromRtab(i_Gene_PresAbs_Rtab_PATH, 151)\n",
    "                    i_PG_Stats_DF[\"Annotation\"] = AnnoPipeline\n",
    "                    i_PG_Stats_DF[\"Method\"] = i_PipeNameWiParam\n",
    "                    i_PG_Stats_DF[\"SeqType\"] = AsmTech\n",
    "                    i_PG_Stats_DF[\"DataSet\"] = i_SampleSet\n",
    "                    \n",
    "                                        \n",
    "                    i_PG_Stats_DF = i_PG_Stats_DF[ i_PG_Stats_DF[\"Category\"].isin(listOfCat_ToKeep)]   \n",
    "                    i_PG_Stats_DF = i_PG_Stats_DF.sort_values(\"GeneCount\", ascending=False)\n",
    "                    \n",
    "                    i_Gene_PresAbs_Rtab_PATH = f\"{i_Pipeline_OutDir}/gene_presence_absence.Rtab\"    \n",
    "                    \n",
    "                                          \n",
    "                    dictOf_PG_OutDir_PATHs[i_SampleSet][AnnoPipeline][AsmTech][i_PipeNameWiParam][\"PresAbs_Rtab\"] = i_Gene_PresAbs_Rtab_PATH\n",
    "\n",
    "\n",
    "                dictOf_PG_OutInfo[i_SampleSet][AnnoPipeline][AsmTech][i_PipeNameWiParam] = i_PG_Stats_DF\n",
    "                \n",
    "                #dictOf_PG_PresAbs_DF[i_SampleSet][AnnoPipeline][AsmTech][i_PipeNameWiParam] = i_Gene_PresAbs_DF\n",
    "                \n",
    "                dictOf_PG_OutDir_PATHs[i_SampleSet][AnnoPipeline][AsmTech][i_PipeNameWiParam][\"Stats_TXT\"] = i_PG_Summary_Txt\n"
   ]
  },
  {
   "cell_type": "code",
   "execution_count": null,
   "id": "01108159-7635-41fa-8d6e-d616a1c7b422",
   "metadata": {},
   "outputs": [],
   "source": []
  },
  {
   "cell_type": "code",
   "execution_count": 342,
   "id": "33e19795-31af-4602-9b83-b14151623008",
   "metadata": {},
   "outputs": [
    {
     "data": {
      "text/plain": [
       "dict_keys(['Panaroo_Strict_MergeParalogs', 'Panaroo_Moderate_MergeParalogs', 'Panaroo_Sensitive_MergeParalogs', 'Panaroo_Strict', 'Panaroo_Moderate', 'Panaroo_Sensitive', 'Roary_NoSplitParalogs_I80', 'Roary_NoSplitParalogs_I90', 'Roary_NoSplitParalogs', 'Roary_Default', 'Ppanggolin_I0.80C0.80', 'Ppanggolin_I0.80C0.90', 'Ppanggolin_I0.90C0.80', 'Ppanggolin_I0.90C0.90', 'Pangene_CDHIT0.95.Miniprot0.95', 'Pangene_CDHIT0.95.Miniprot0.98', 'Pangene_CDHIT0.95.Miniprot0.99', 'Pangene_CDHIT0.98.Miniprot0.95', 'Pangene_CDHIT0.98.Miniprot0.98', 'Pangene_CDHIT0.98.Miniprot0.99'])"
      ]
     },
     "execution_count": 342,
     "metadata": {},
     "output_type": "execute_result"
    }
   ],
   "source": [
    "dictOf_PG_OutInfo[\"All\"][\"Bakta\"][\"LongRead\"].keys()"
   ]
  },
  {
   "cell_type": "code",
   "execution_count": 343,
   "id": "17a7ebae-f40f-4cee-aa82-a50692820d10",
   "metadata": {},
   "outputs": [
    {
     "data": {
      "text/html": [
       "<div>\n",
       "<style scoped>\n",
       "    .dataframe tbody tr th:only-of-type {\n",
       "        vertical-align: middle;\n",
       "    }\n",
       "\n",
       "    .dataframe tbody tr th {\n",
       "        vertical-align: top;\n",
       "    }\n",
       "\n",
       "    .dataframe thead th {\n",
       "        text-align: right;\n",
       "    }\n",
       "</style>\n",
       "<table border=\"1\" class=\"dataframe\">\n",
       "  <thead>\n",
       "    <tr style=\"text-align: right;\">\n",
       "      <th></th>\n",
       "      <th>Category</th>\n",
       "      <th>Range</th>\n",
       "      <th>GeneCount</th>\n",
       "      <th>Annotation</th>\n",
       "      <th>Method</th>\n",
       "      <th>SeqType</th>\n",
       "      <th>DataSet</th>\n",
       "    </tr>\n",
       "  </thead>\n",
       "  <tbody>\n",
       "    <tr>\n",
       "      <th>0</th>\n",
       "      <td>Total genes</td>\n",
       "      <td>(0% &lt;= strains &lt;= 100%)</td>\n",
       "      <td>4772</td>\n",
       "      <td>Bakta</td>\n",
       "      <td>Ppanggolin_I0.80C0.80</td>\n",
       "      <td>LongRead</td>\n",
       "      <td>All</td>\n",
       "    </tr>\n",
       "    <tr>\n",
       "      <th>2</th>\n",
       "      <td>Core genes</td>\n",
       "      <td>(99% &lt;= strains &lt;= 100%)</td>\n",
       "      <td>3650</td>\n",
       "      <td>Bakta</td>\n",
       "      <td>Ppanggolin_I0.80C0.80</td>\n",
       "      <td>LongRead</td>\n",
       "      <td>All</td>\n",
       "    </tr>\n",
       "    <tr>\n",
       "      <th>1</th>\n",
       "      <td>Accessory genes</td>\n",
       "      <td>(0% &lt;= strains &lt; 99%)</td>\n",
       "      <td>1122</td>\n",
       "      <td>Bakta</td>\n",
       "      <td>Ppanggolin_I0.80C0.80</td>\n",
       "      <td>LongRead</td>\n",
       "      <td>All</td>\n",
       "    </tr>\n",
       "  </tbody>\n",
       "</table>\n",
       "</div>"
      ],
      "text/plain": [
       "          Category                     Range  GeneCount Annotation                 Method   SeqType DataSet\n",
       "0      Total genes   (0% <= strains <= 100%)       4772      Bakta  Ppanggolin_I0.80C0.80  LongRead     All\n",
       "2       Core genes  (99% <= strains <= 100%)       3650      Bakta  Ppanggolin_I0.80C0.80  LongRead     All\n",
       "1  Accessory genes     (0% <= strains < 99%)       1122      Bakta  Ppanggolin_I0.80C0.80  LongRead     All"
      ]
     },
     "execution_count": 343,
     "metadata": {},
     "output_type": "execute_result"
    }
   ],
   "source": [
    "dictOf_PG_OutInfo[\"All\"][\"Bakta\"][\"LongRead\"][\"Ppanggolin_I0.80C0.80\"]"
   ]
  },
  {
   "cell_type": "code",
   "execution_count": 344,
   "id": "2aa109c8-f37d-446a-8598-7f29a2cb3741",
   "metadata": {},
   "outputs": [
    {
     "data": {
      "text/html": [
       "<div>\n",
       "<style scoped>\n",
       "    .dataframe tbody tr th:only-of-type {\n",
       "        vertical-align: middle;\n",
       "    }\n",
       "\n",
       "    .dataframe tbody tr th {\n",
       "        vertical-align: top;\n",
       "    }\n",
       "\n",
       "    .dataframe thead th {\n",
       "        text-align: right;\n",
       "    }\n",
       "</style>\n",
       "<table border=\"1\" class=\"dataframe\">\n",
       "  <thead>\n",
       "    <tr style=\"text-align: right;\">\n",
       "      <th></th>\n",
       "      <th>Category</th>\n",
       "      <th>Range</th>\n",
       "      <th>GeneCount</th>\n",
       "      <th>Annotation</th>\n",
       "      <th>Method</th>\n",
       "      <th>SeqType</th>\n",
       "      <th>DataSet</th>\n",
       "    </tr>\n",
       "  </thead>\n",
       "  <tbody>\n",
       "    <tr>\n",
       "      <th>0</th>\n",
       "      <td>Total genes</td>\n",
       "      <td>(0% &lt;= strains &lt;= 100%)</td>\n",
       "      <td>4192</td>\n",
       "      <td>Bakta</td>\n",
       "      <td>Pangene_CDHIT0.95.Miniprot0.95</td>\n",
       "      <td>LongRead</td>\n",
       "      <td>All</td>\n",
       "    </tr>\n",
       "    <tr>\n",
       "      <th>2</th>\n",
       "      <td>Core genes</td>\n",
       "      <td>(99% &lt;= strains &lt;= 100%)</td>\n",
       "      <td>3795</td>\n",
       "      <td>Bakta</td>\n",
       "      <td>Pangene_CDHIT0.95.Miniprot0.95</td>\n",
       "      <td>LongRead</td>\n",
       "      <td>All</td>\n",
       "    </tr>\n",
       "    <tr>\n",
       "      <th>1</th>\n",
       "      <td>Accessory genes</td>\n",
       "      <td>(0% &lt;= strains &lt; 99%)</td>\n",
       "      <td>397</td>\n",
       "      <td>Bakta</td>\n",
       "      <td>Pangene_CDHIT0.95.Miniprot0.95</td>\n",
       "      <td>LongRead</td>\n",
       "      <td>All</td>\n",
       "    </tr>\n",
       "  </tbody>\n",
       "</table>\n",
       "</div>"
      ],
      "text/plain": [
       "          Category                     Range  GeneCount Annotation                          Method   SeqType DataSet\n",
       "0      Total genes   (0% <= strains <= 100%)       4192      Bakta  Pangene_CDHIT0.95.Miniprot0.95  LongRead     All\n",
       "2       Core genes  (99% <= strains <= 100%)       3795      Bakta  Pangene_CDHIT0.95.Miniprot0.95  LongRead     All\n",
       "1  Accessory genes     (0% <= strains < 99%)        397      Bakta  Pangene_CDHIT0.95.Miniprot0.95  LongRead     All"
      ]
     },
     "execution_count": 344,
     "metadata": {},
     "output_type": "execute_result"
    }
   ],
   "source": [
    "dictOf_PG_OutInfo[\"All\"][\"Bakta\"][\"LongRead\"][\"Pangene_CDHIT0.95.Miniprot0.95\"]"
   ]
  },
  {
   "cell_type": "code",
   "execution_count": 345,
   "id": "6bfd9fc7-0483-4cdc-828e-f9976d232250",
   "metadata": {},
   "outputs": [
    {
     "data": {
      "text/html": [
       "<div>\n",
       "<style scoped>\n",
       "    .dataframe tbody tr th:only-of-type {\n",
       "        vertical-align: middle;\n",
       "    }\n",
       "\n",
       "    .dataframe tbody tr th {\n",
       "        vertical-align: top;\n",
       "    }\n",
       "\n",
       "    .dataframe thead th {\n",
       "        text-align: right;\n",
       "    }\n",
       "</style>\n",
       "<table border=\"1\" class=\"dataframe\">\n",
       "  <thead>\n",
       "    <tr style=\"text-align: right;\">\n",
       "      <th></th>\n",
       "      <th>Category</th>\n",
       "      <th>Range</th>\n",
       "      <th>GeneCount</th>\n",
       "      <th>Annotation</th>\n",
       "      <th>Method</th>\n",
       "      <th>SeqType</th>\n",
       "      <th>DataSet</th>\n",
       "    </tr>\n",
       "  </thead>\n",
       "  <tbody>\n",
       "    <tr>\n",
       "      <th>0</th>\n",
       "      <td>Total genes</td>\n",
       "      <td>(0% &lt;= strains &lt;= 100%)</td>\n",
       "      <td>4245</td>\n",
       "      <td>Bakta</td>\n",
       "      <td>Pangene_CDHIT0.98.Miniprot0.99</td>\n",
       "      <td>LongRead</td>\n",
       "      <td>All</td>\n",
       "    </tr>\n",
       "    <tr>\n",
       "      <th>2</th>\n",
       "      <td>Core genes</td>\n",
       "      <td>(99% &lt;= strains &lt;= 100%)</td>\n",
       "      <td>3792</td>\n",
       "      <td>Bakta</td>\n",
       "      <td>Pangene_CDHIT0.98.Miniprot0.99</td>\n",
       "      <td>LongRead</td>\n",
       "      <td>All</td>\n",
       "    </tr>\n",
       "    <tr>\n",
       "      <th>1</th>\n",
       "      <td>Accessory genes</td>\n",
       "      <td>(0% &lt;= strains &lt; 99%)</td>\n",
       "      <td>453</td>\n",
       "      <td>Bakta</td>\n",
       "      <td>Pangene_CDHIT0.98.Miniprot0.99</td>\n",
       "      <td>LongRead</td>\n",
       "      <td>All</td>\n",
       "    </tr>\n",
       "  </tbody>\n",
       "</table>\n",
       "</div>"
      ],
      "text/plain": [
       "          Category                     Range  GeneCount Annotation                          Method   SeqType DataSet\n",
       "0      Total genes   (0% <= strains <= 100%)       4245      Bakta  Pangene_CDHIT0.98.Miniprot0.99  LongRead     All\n",
       "2       Core genes  (99% <= strains <= 100%)       3792      Bakta  Pangene_CDHIT0.98.Miniprot0.99  LongRead     All\n",
       "1  Accessory genes     (0% <= strains < 99%)        453      Bakta  Pangene_CDHIT0.98.Miniprot0.99  LongRead     All"
      ]
     },
     "execution_count": 345,
     "metadata": {},
     "output_type": "execute_result"
    }
   ],
   "source": [
    "dictOf_PG_OutInfo[\"All\"][\"Bakta\"][\"LongRead\"][\"Pangene_CDHIT0.98.Miniprot0.99\"]"
   ]
  },
  {
   "cell_type": "code",
   "execution_count": null,
   "id": "462e0eec-f01c-437b-a814-0702bff91052",
   "metadata": {},
   "outputs": [],
   "source": []
  },
  {
   "cell_type": "code",
   "execution_count": 346,
   "id": "5e02f1fb-0caa-48e2-ad48-6c6faac3b4d1",
   "metadata": {},
   "outputs": [
    {
     "data": {
      "text/html": [
       "<div>\n",
       "<style scoped>\n",
       "    .dataframe tbody tr th:only-of-type {\n",
       "        vertical-align: middle;\n",
       "    }\n",
       "\n",
       "    .dataframe tbody tr th {\n",
       "        vertical-align: top;\n",
       "    }\n",
       "\n",
       "    .dataframe thead th {\n",
       "        text-align: right;\n",
       "    }\n",
       "</style>\n",
       "<table border=\"1\" class=\"dataframe\">\n",
       "  <thead>\n",
       "    <tr style=\"text-align: right;\">\n",
       "      <th></th>\n",
       "      <th>Category</th>\n",
       "      <th>Range</th>\n",
       "      <th>GeneCount</th>\n",
       "      <th>Annotation</th>\n",
       "      <th>Method</th>\n",
       "      <th>SeqType</th>\n",
       "      <th>DataSet</th>\n",
       "    </tr>\n",
       "  </thead>\n",
       "  <tbody>\n",
       "    <tr>\n",
       "      <th>4</th>\n",
       "      <td>Total genes</td>\n",
       "      <td>(0% &lt;= strains &lt;= 100%)</td>\n",
       "      <td>4200</td>\n",
       "      <td>Bakta</td>\n",
       "      <td>Panaroo_Strict_MergeParalogs</td>\n",
       "      <td>LongRead</td>\n",
       "      <td>All</td>\n",
       "    </tr>\n",
       "    <tr>\n",
       "      <th>0</th>\n",
       "      <td>Core genes</td>\n",
       "      <td>(99% &lt;= strains &lt;= 100%)</td>\n",
       "      <td>3779</td>\n",
       "      <td>Bakta</td>\n",
       "      <td>Panaroo_Strict_MergeParalogs</td>\n",
       "      <td>LongRead</td>\n",
       "      <td>All</td>\n",
       "    </tr>\n",
       "    <tr>\n",
       "      <th>5</th>\n",
       "      <td>Accessory genes</td>\n",
       "      <td>(0% &lt;= strains &lt; 99%)</td>\n",
       "      <td>421</td>\n",
       "      <td>Bakta</td>\n",
       "      <td>Panaroo_Strict_MergeParalogs</td>\n",
       "      <td>LongRead</td>\n",
       "      <td>All</td>\n",
       "    </tr>\n",
       "  </tbody>\n",
       "</table>\n",
       "</div>"
      ],
      "text/plain": [
       "          Category                     Range  GeneCount Annotation                        Method   SeqType DataSet\n",
       "4      Total genes   (0% <= strains <= 100%)       4200      Bakta  Panaroo_Strict_MergeParalogs  LongRead     All\n",
       "0       Core genes  (99% <= strains <= 100%)       3779      Bakta  Panaroo_Strict_MergeParalogs  LongRead     All\n",
       "5  Accessory genes     (0% <= strains < 99%)        421      Bakta  Panaroo_Strict_MergeParalogs  LongRead     All"
      ]
     },
     "execution_count": 346,
     "metadata": {},
     "output_type": "execute_result"
    }
   ],
   "source": [
    "dictOf_PG_OutInfo[\"All\"][\"Bakta\"][\"LongRead\"][\"Panaroo_Strict_MergeParalogs\"]"
   ]
  },
  {
   "cell_type": "code",
   "execution_count": null,
   "id": "4e6ab548-8ab3-41fa-811c-e53f0cb6da04",
   "metadata": {},
   "outputs": [],
   "source": []
  },
  {
   "cell_type": "code",
   "execution_count": null,
   "id": "4e981129-5a64-4044-90d1-836796429711",
   "metadata": {},
   "outputs": [],
   "source": []
  },
  {
   "cell_type": "code",
   "execution_count": null,
   "id": "3d59198b-3e77-4d30-a9b4-fd497b771914",
   "metadata": {},
   "outputs": [],
   "source": []
  },
  {
   "cell_type": "code",
   "execution_count": null,
   "id": "b8740778-fdd2-4db6-82d5-7ea37864dbea",
   "metadata": {},
   "outputs": [],
   "source": []
  },
  {
   "cell_type": "markdown",
   "id": "79b48e22-cd62-4657-ae09-d06876d6dcff",
   "metadata": {},
   "source": [
    "# 1) Merge all Pan-genome counts accross all combinations evaluated"
   ]
  },
  {
   "cell_type": "code",
   "execution_count": 347,
   "id": "0fa44f01-a489-47ff-9d3f-df7eb7504262",
   "metadata": {},
   "outputs": [
    {
     "data": {
      "text/plain": [
       "(60, 11)"
      ]
     },
     "execution_count": 347,
     "metadata": {},
     "output_type": "execute_result"
    }
   ],
   "source": [
    "\n",
    "PipeName_WiParam_List = ['Panaroo_Strict_MergeParalogs', 'Panaroo_Moderate_MergeParalogs',\n",
    "                         'Panaroo_Sensitive_MergeParalogs', 'Panaroo_Strict',\n",
    "                         'Panaroo_Moderate', 'Panaroo_Sensitive',  'Roary_NoSplitParalogs_I80',\n",
    "                         'Roary_NoSplitParalogs_I90',\n",
    "                         'Roary_NoSplitParalogs',  'Roary_Default',\n",
    "                         'Ppanggolin_I0.80C0.80',\n",
    "                         'Ppanggolin_I0.80C0.90',\n",
    "                         'Ppanggolin_I0.90C0.80',\n",
    "                         'Ppanggolin_I0.90C0.90',\n",
    "                         'Pangene_CDHIT0.95.Miniprot0.95',\n",
    "                         'Pangene_CDHIT0.95.Miniprot0.98',\n",
    "                         'Pangene_CDHIT0.95.Miniprot0.99',\n",
    "                         'Pangene_CDHIT0.98.Miniprot0.95',\n",
    "                         'Pangene_CDHIT0.98.Miniprot0.98',\n",
    "                         'Pangene_CDHIT0.98.Miniprot0.99',] \n",
    "\n",
    "\n",
    "listOf_PG_InfoDFs = []\n",
    "for i_SampleSet in [\"All\"]:\n",
    "    for AnnoPipeline in [\"Bakta\",]:\n",
    "        for AsmTech in [\"LongRead\",]:\n",
    "            for i_PipeNameWiParam in PipeName_WiParam_List:\n",
    "                i_PG_Stats_DF = dictOf_PG_OutInfo[i_SampleSet][AnnoPipeline][AsmTech][i_PipeNameWiParam]\n",
    "                \n",
    "                listOf_PG_InfoDFs.append(i_PG_Stats_DF)\n",
    "\n",
    "\n",
    "PG_Merged_Stats_LRandSR_DF = pd.concat(listOf_PG_InfoDFs)\n",
    "\n",
    "PG_Merged_Stats_LRandSR_DF[\"MethodAndTech\"] = PG_Merged_Stats_LRandSR_DF[\"Method\"] + \"_\" +PG_Merged_Stats_LRandSR_DF[\"SeqType\"]\n",
    "\n",
    "PG_Merged_Stats_LRandSR_DF[\"MethodAndTechAndAnno\"] = PG_Merged_Stats_LRandSR_DF[\"Method\"] + \"_\" +PG_Merged_Stats_LRandSR_DF[\"SeqType\"]  + \"_\" +PG_Merged_Stats_LRandSR_DF[\"Annotation\"]  \n",
    "\n",
    "PG_Merged_Stats_LRandSR_DF[\"AnnoAndTech\"] = PG_Merged_Stats_LRandSR_DF[\"Annotation\"] + \"-\" + PG_Merged_Stats_LRandSR_DF[\"SeqType\"]\n",
    "\n",
    "PG_Merged_Stats_LRandSR_DF[\"PangenomeTool\"] = PG_Merged_Stats_LRandSR_DF[\"Method\"].str.split(\"_\").str[0]\n",
    "\n",
    "\n",
    "PG_Merged_Stats_LRandSR_DF.shape\n"
   ]
  },
  {
   "cell_type": "code",
   "execution_count": 348,
   "id": "d1129269-f7e8-4d92-8d3e-3b4e1dffc432",
   "metadata": {},
   "outputs": [
    {
     "data": {
      "text/plain": [
       "Panaroo       18\n",
       "Pangene       18\n",
       "Roary         12\n",
       "Ppanggolin    12\n",
       "Name: PangenomeTool, dtype: int64"
      ]
     },
     "execution_count": 348,
     "metadata": {},
     "output_type": "execute_result"
    }
   ],
   "source": [
    "PG_Merged_Stats_LRandSR_DF[\"PangenomeTool\"].value_counts()"
   ]
  },
  {
   "cell_type": "code",
   "execution_count": null,
   "id": "7f6453cf-fc13-4983-bc29-9b782c01e5aa",
   "metadata": {},
   "outputs": [],
   "source": []
  },
  {
   "cell_type": "code",
   "execution_count": 349,
   "id": "ed46dbbe-9ef6-4a3f-8259-5ec0b3bd9505",
   "metadata": {},
   "outputs": [
    {
     "data": {
      "text/html": [
       "<div>\n",
       "<style scoped>\n",
       "    .dataframe tbody tr th:only-of-type {\n",
       "        vertical-align: middle;\n",
       "    }\n",
       "\n",
       "    .dataframe tbody tr th {\n",
       "        vertical-align: top;\n",
       "    }\n",
       "\n",
       "    .dataframe thead th {\n",
       "        text-align: right;\n",
       "    }\n",
       "</style>\n",
       "<table border=\"1\" class=\"dataframe\">\n",
       "  <thead>\n",
       "    <tr style=\"text-align: right;\">\n",
       "      <th></th>\n",
       "      <th>Category</th>\n",
       "      <th>Range</th>\n",
       "      <th>GeneCount</th>\n",
       "      <th>Annotation</th>\n",
       "      <th>Method</th>\n",
       "      <th>SeqType</th>\n",
       "      <th>DataSet</th>\n",
       "      <th>MethodAndTech</th>\n",
       "      <th>MethodAndTechAndAnno</th>\n",
       "      <th>AnnoAndTech</th>\n",
       "      <th>PangenomeTool</th>\n",
       "    </tr>\n",
       "  </thead>\n",
       "  <tbody>\n",
       "    <tr>\n",
       "      <th>4</th>\n",
       "      <td>Total genes</td>\n",
       "      <td>(0% &lt;= strains &lt;= 100%)</td>\n",
       "      <td>4200</td>\n",
       "      <td>Bakta</td>\n",
       "      <td>Panaroo_Strict_MergeParalogs</td>\n",
       "      <td>LongRead</td>\n",
       "      <td>All</td>\n",
       "      <td>Panaroo_Strict_MergeParalogs_LongRead</td>\n",
       "      <td>Panaroo_Strict_MergeParalogs_LongRead_Bakta</td>\n",
       "      <td>Bakta-LongRead</td>\n",
       "      <td>Panaroo</td>\n",
       "    </tr>\n",
       "    <tr>\n",
       "      <th>0</th>\n",
       "      <td>Core genes</td>\n",
       "      <td>(99% &lt;= strains &lt;= 100%)</td>\n",
       "      <td>3779</td>\n",
       "      <td>Bakta</td>\n",
       "      <td>Panaroo_Strict_MergeParalogs</td>\n",
       "      <td>LongRead</td>\n",
       "      <td>All</td>\n",
       "      <td>Panaroo_Strict_MergeParalogs_LongRead</td>\n",
       "      <td>Panaroo_Strict_MergeParalogs_LongRead_Bakta</td>\n",
       "      <td>Bakta-LongRead</td>\n",
       "      <td>Panaroo</td>\n",
       "    </tr>\n",
       "    <tr>\n",
       "      <th>5</th>\n",
       "      <td>Accessory genes</td>\n",
       "      <td>(0% &lt;= strains &lt; 99%)</td>\n",
       "      <td>421</td>\n",
       "      <td>Bakta</td>\n",
       "      <td>Panaroo_Strict_MergeParalogs</td>\n",
       "      <td>LongRead</td>\n",
       "      <td>All</td>\n",
       "      <td>Panaroo_Strict_MergeParalogs_LongRead</td>\n",
       "      <td>Panaroo_Strict_MergeParalogs_LongRead_Bakta</td>\n",
       "      <td>Bakta-LongRead</td>\n",
       "      <td>Panaroo</td>\n",
       "    </tr>\n",
       "    <tr>\n",
       "      <th>4</th>\n",
       "      <td>Total genes</td>\n",
       "      <td>(0% &lt;= strains &lt;= 100%)</td>\n",
       "      <td>4280</td>\n",
       "      <td>Bakta</td>\n",
       "      <td>Panaroo_Moderate_MergeParalogs</td>\n",
       "      <td>LongRead</td>\n",
       "      <td>All</td>\n",
       "      <td>Panaroo_Moderate_MergeParalogs_LongRead</td>\n",
       "      <td>Panaroo_Moderate_MergeParalogs_LongRead_Bakta</td>\n",
       "      <td>Bakta-LongRead</td>\n",
       "      <td>Panaroo</td>\n",
       "    </tr>\n",
       "    <tr>\n",
       "      <th>0</th>\n",
       "      <td>Core genes</td>\n",
       "      <td>(99% &lt;= strains &lt;= 100%)</td>\n",
       "      <td>3825</td>\n",
       "      <td>Bakta</td>\n",
       "      <td>Panaroo_Moderate_MergeParalogs</td>\n",
       "      <td>LongRead</td>\n",
       "      <td>All</td>\n",
       "      <td>Panaroo_Moderate_MergeParalogs_LongRead</td>\n",
       "      <td>Panaroo_Moderate_MergeParalogs_LongRead_Bakta</td>\n",
       "      <td>Bakta-LongRead</td>\n",
       "      <td>Panaroo</td>\n",
       "    </tr>\n",
       "  </tbody>\n",
       "</table>\n",
       "</div>"
      ],
      "text/plain": [
       "          Category                     Range  GeneCount Annotation                          Method   SeqType DataSet                            MethodAndTech                           MethodAndTechAndAnno     AnnoAndTech PangenomeTool\n",
       "4      Total genes   (0% <= strains <= 100%)       4200      Bakta    Panaroo_Strict_MergeParalogs  LongRead     All    Panaroo_Strict_MergeParalogs_LongRead    Panaroo_Strict_MergeParalogs_LongRead_Bakta  Bakta-LongRead       Panaroo\n",
       "0       Core genes  (99% <= strains <= 100%)       3779      Bakta    Panaroo_Strict_MergeParalogs  LongRead     All    Panaroo_Strict_MergeParalogs_LongRead    Panaroo_Strict_MergeParalogs_LongRead_Bakta  Bakta-LongRead       Panaroo\n",
       "5  Accessory genes     (0% <= strains < 99%)        421      Bakta    Panaroo_Strict_MergeParalogs  LongRead     All    Panaroo_Strict_MergeParalogs_LongRead    Panaroo_Strict_MergeParalogs_LongRead_Bakta  Bakta-LongRead       Panaroo\n",
       "4      Total genes   (0% <= strains <= 100%)       4280      Bakta  Panaroo_Moderate_MergeParalogs  LongRead     All  Panaroo_Moderate_MergeParalogs_LongRead  Panaroo_Moderate_MergeParalogs_LongRead_Bakta  Bakta-LongRead       Panaroo\n",
       "0       Core genes  (99% <= strains <= 100%)       3825      Bakta  Panaroo_Moderate_MergeParalogs  LongRead     All  Panaroo_Moderate_MergeParalogs_LongRead  Panaroo_Moderate_MergeParalogs_LongRead_Bakta  Bakta-LongRead       Panaroo"
      ]
     },
     "execution_count": 349,
     "metadata": {},
     "output_type": "execute_result"
    }
   ],
   "source": [
    "PG_Merged_Stats_LRandSR_DF.head()"
   ]
  },
  {
   "cell_type": "code",
   "execution_count": 350,
   "id": "8bbee8d0-13ae-457e-9f48-be13a1e829dd",
   "metadata": {},
   "outputs": [
    {
     "data": {
      "text/plain": [
       "Panaroo       18\n",
       "Pangene       18\n",
       "Roary         12\n",
       "Ppanggolin    12\n",
       "Name: PangenomeTool, dtype: int64"
      ]
     },
     "execution_count": 350,
     "metadata": {},
     "output_type": "execute_result"
    }
   ],
   "source": [
    "PG_Merged_Stats_LRandSR_DF[\"PangenomeTool\"].value_counts()"
   ]
  },
  {
   "cell_type": "code",
   "execution_count": null,
   "id": "ac3e697a-6f38-4297-9ecc-00c85d5c523d",
   "metadata": {},
   "outputs": [],
   "source": []
  },
  {
   "cell_type": "code",
   "execution_count": null,
   "id": "7baf01de-c951-4446-a58a-911acf823f4b",
   "metadata": {},
   "outputs": [],
   "source": []
  },
  {
   "cell_type": "code",
   "execution_count": 351,
   "id": "3554da4d-1ed7-4aa2-af56-1b0de6fede3b",
   "metadata": {},
   "outputs": [
    {
     "data": {
      "text/plain": [
       "{'Panaroo_Strict_MergeParalogs': 'Panaroo \\n (Strict & MergeParalogs)',\n",
       " 'Panaroo_Moderate_MergeParalogs': 'Panaroo \\n (Moderate & MergeParalogs)',\n",
       " 'Panaroo_Sensitive_MergeParalogs': 'Panaroo \\n (Sensitive & MergeParalogs)',\n",
       " 'Panaroo_Strict': 'Panaroo \\n (Strict)',\n",
       " 'Panaroo_Moderate': 'Panaroo \\n (Moderate)',\n",
       " 'Panaroo_Sensitive': 'Panaroo \\n (Sensitive)',\n",
       " 'Roary_NoSplitParalogs_I80': 'Roary \\n (MergeParalogs & I80)',\n",
       " 'Roary_NoSplitParalogs_I90': 'Roary \\n (MergeParalogs & I90)',\n",
       " 'Roary_NoSplitParalogs': 'Roary \\n (MergeParalogs)',\n",
       " 'Roary_Default': 'Roary \\n (Default)',\n",
       " 'Ppanggolin_I0.80C0.80': 'Ppanggolin (I0.80-C0.80)',\n",
       " 'Ppanggolin_I0.80C0.90': 'Ppanggolin (I0.80-C0.90)',\n",
       " 'Ppanggolin_I0.90C0.80': 'Ppanggolin (I0.90-C0.80)',\n",
       " 'Ppanggolin_I0.90C0.90': 'Ppanggolin (I0.90-C0.90)',\n",
       " 'Pangene_CDHIT0.95.Miniprot0.95': 'Pangene \\n (C0.95-M0.95)',\n",
       " 'Pangene_CDHIT0.95.Miniprot0.98': 'Pangene \\n (C0.95-M0.98)',\n",
       " 'Pangene_CDHIT0.95.Miniprot0.99': 'Pangene \\n (C0.95-M0.99)',\n",
       " 'Pangene_CDHIT0.98.Miniprot0.95': 'Pangene \\n (C0.98-M0.95)',\n",
       " 'Pangene_CDHIT0.98.Miniprot0.98': 'Pangene \\n (C0.98-M0.98)',\n",
       " 'Pangene_CDHIT0.98.Miniprot0.99': 'Pangene \\n (C0.98-M0.99)'}"
      ]
     },
     "execution_count": 351,
     "metadata": {},
     "output_type": "execute_result"
    }
   ],
   "source": [
    "\n",
    "PipeName_WiParam_List = ['Panaroo_Strict_MergeParalogs', 'Panaroo_Moderate_MergeParalogs',\n",
    "                         'Panaroo_Sensitive_MergeParalogs', 'Panaroo_Strict',\n",
    "                         'Panaroo_Moderate', 'Panaroo_Sensitive',  'Roary_NoSplitParalogs_I80',\n",
    "                         'Roary_NoSplitParalogs_I90',\n",
    "                         'Roary_NoSplitParalogs',  'Roary_Default',\n",
    "                         'Ppanggolin_I0.80C0.80',\n",
    "                         'Ppanggolin_I0.80C0.90',\n",
    "                         'Ppanggolin_I0.90C0.80',\n",
    "                         'Ppanggolin_I0.90C0.90',\n",
    "                         'Pangene_CDHIT0.95.Miniprot0.95',\n",
    "                         'Pangene_CDHIT0.95.Miniprot0.98',\n",
    "                         'Pangene_CDHIT0.95.Miniprot0.99',\n",
    "                         'Pangene_CDHIT0.98.Miniprot0.95',\n",
    "                         'Pangene_CDHIT0.98.Miniprot0.98',\n",
    "                         'Pangene_CDHIT0.98.Miniprot0.99',] \n",
    "\n",
    "\n",
    "PGCombos_TickLabels = ['Panaroo \\n (Strict & MergeParalogs)', 'Panaroo \\n (Moderate & MergeParalogs)',\n",
    "                       'Panaroo \\n (Sensitive & MergeParalogs)', 'Panaroo \\n (Strict)',\n",
    "                       'Panaroo \\n (Moderate)', 'Panaroo \\n (Sensitive)', \n",
    "                       'Roary \\n (MergeParalogs & I80)', 'Roary \\n (MergeParalogs & I90)',\n",
    "                       'Roary \\n (MergeParalogs)',  'Roary \\n (Default)',\n",
    "                       'Ppanggolin (I0.80-C0.80)',\n",
    "                       'Ppanggolin (I0.80-C0.90)',\n",
    "                       'Ppanggolin (I0.90-C0.80)',\n",
    "                       'Ppanggolin (I0.90-C0.90)',\n",
    "                       'Pangene \\n (C0.95-M0.95)',\n",
    "                       'Pangene \\n (C0.95-M0.98)',\n",
    "                       'Pangene \\n (C0.95-M0.99)',\n",
    "                       'Pangene \\n (C0.98-M0.95)',\n",
    "                       'Pangene \\n (C0.98-M0.98)',\n",
    "                       'Pangene \\n (C0.98-M0.99)',\n",
    "                       ]\n",
    "\n",
    "\n",
    "PGCombos_dictOfValues_To_Label = {}  \n",
    "\n",
    "for i in range(len(PipeName_WiParam_List)):\n",
    "        \n",
    "    PGCombos_dictOfValues_To_Label[PipeName_WiParam_List[i]]   =   PGCombos_TickLabels[i]\n",
    "    \n",
    "PGCombos_dictOfValues_To_Label"
   ]
  },
  {
   "cell_type": "code",
   "execution_count": null,
   "id": "59f1edb4-6e0d-4e34-91a1-f0e0ccdd378f",
   "metadata": {},
   "outputs": [],
   "source": []
  },
  {
   "cell_type": "code",
   "execution_count": null,
   "id": "5d17f82f-f43f-4525-a828-f070e003190a",
   "metadata": {},
   "outputs": [],
   "source": []
  },
  {
   "cell_type": "markdown",
   "id": "7d3651f0-385d-4076-9289-01509765813b",
   "metadata": {},
   "source": [
    "### Pivot table to get summary per Method and Seqtype"
   ]
  },
  {
   "cell_type": "code",
   "execution_count": 352,
   "id": "557ce8cc-de0c-4172-a8bb-e5750908cc14",
   "metadata": {},
   "outputs": [],
   "source": [
    "#PG_Merged_Stats_LRandSR_DF.head(2)"
   ]
  },
  {
   "cell_type": "code",
   "execution_count": 353,
   "id": "c001497e-865d-4218-b8be-ede0bb4a9b5d",
   "metadata": {},
   "outputs": [],
   "source": [
    "PG_WideSumm_DF = pd.pivot(PG_Merged_Stats_LRandSR_DF,\n",
    "                          index = [\"MethodAndTechAndAnno\"],\n",
    "                          columns = [\"Category\"],\n",
    "                          values = [\"GeneCount\"] )    \n",
    "\n",
    "PG_WideSumm_DF.columns = PG_WideSumm_DF.columns.droplevel(0)\n",
    "PG_WideSumm_DF.columns.name = None\n",
    "PG_WideSumm_DF = PG_WideSumm_DF.reset_index()\n",
    "\n",
    "\n",
    "PG_WideSumm_DF[\"SeqType\"] = PG_WideSumm_DF[\"MethodAndTechAndAnno\"].str.split(\"_\").str[-2]\n",
    "PG_WideSumm_DF[\"Anno\"] = PG_WideSumm_DF[\"MethodAndTechAndAnno\"].str.split(\"_\").str[-1]\n",
    "PG_WideSumm_DF[\"Method\"] = PG_WideSumm_DF[\"MethodAndTechAndAnno\"].str.replace(\"_LongRead\", \"\").str.replace(\"_ShortRead\", \"\").str.replace(\"_Bakta\", \"\").str.replace(\"_PGAP\", \"\")       \n",
    "PG_WideSumm_DF[\"PangenomeTool\"] = PG_WideSumm_DF[\"MethodAndTechAndAnno\"].str.split(\"_\").str[0:1].str[0]\n",
    "\n",
    "# Do some reformatting \n",
    "NewColOrder = ['PangenomeTool', 'SeqType', 'Anno', 'Method', 'Total genes',  'Core genes', 'Accessory genes',  ]\n",
    "\n",
    "PG_WideSumm_DF = PG_WideSumm_DF[NewColOrder]\n",
    "\n",
    "PG_WideSumm_DF = PG_WideSumm_DF.sort_values([\"SeqType\", \"PangenomeTool\", \"Accessory genes\"]).reset_index(drop=True)"
   ]
  },
  {
   "cell_type": "code",
   "execution_count": 354,
   "id": "22f033bf-2c33-457c-866f-5f107906ab40",
   "metadata": {},
   "outputs": [
    {
     "data": {
      "text/html": [
       "<div>\n",
       "<style scoped>\n",
       "    .dataframe tbody tr th:only-of-type {\n",
       "        vertical-align: middle;\n",
       "    }\n",
       "\n",
       "    .dataframe tbody tr th {\n",
       "        vertical-align: top;\n",
       "    }\n",
       "\n",
       "    .dataframe thead th {\n",
       "        text-align: right;\n",
       "    }\n",
       "</style>\n",
       "<table border=\"1\" class=\"dataframe\">\n",
       "  <thead>\n",
       "    <tr style=\"text-align: right;\">\n",
       "      <th></th>\n",
       "      <th>PangenomeTool</th>\n",
       "      <th>SeqType</th>\n",
       "      <th>Anno</th>\n",
       "      <th>Method</th>\n",
       "      <th>Total genes</th>\n",
       "      <th>Core genes</th>\n",
       "      <th>Accessory genes</th>\n",
       "    </tr>\n",
       "  </thead>\n",
       "  <tbody>\n",
       "    <tr>\n",
       "      <th>0</th>\n",
       "      <td>Panaroo</td>\n",
       "      <td>LongRead</td>\n",
       "      <td>Bakta</td>\n",
       "      <td>Panaroo_Strict_MergeParalogs</td>\n",
       "      <td>4200</td>\n",
       "      <td>3779</td>\n",
       "      <td>421</td>\n",
       "    </tr>\n",
       "    <tr>\n",
       "      <th>1</th>\n",
       "      <td>Panaroo</td>\n",
       "      <td>LongRead</td>\n",
       "      <td>Bakta</td>\n",
       "      <td>Panaroo_Moderate_MergeParalogs</td>\n",
       "      <td>4280</td>\n",
       "      <td>3825</td>\n",
       "      <td>455</td>\n",
       "    </tr>\n",
       "    <tr>\n",
       "      <th>2</th>\n",
       "      <td>Panaroo</td>\n",
       "      <td>LongRead</td>\n",
       "      <td>Bakta</td>\n",
       "      <td>Panaroo_Sensitive_MergeParalogs</td>\n",
       "      <td>4281</td>\n",
       "      <td>3825</td>\n",
       "      <td>456</td>\n",
       "    </tr>\n",
       "    <tr>\n",
       "      <th>3</th>\n",
       "      <td>Panaroo</td>\n",
       "      <td>LongRead</td>\n",
       "      <td>Bakta</td>\n",
       "      <td>Panaroo_Strict</td>\n",
       "      <td>4305</td>\n",
       "      <td>3787</td>\n",
       "      <td>518</td>\n",
       "    </tr>\n",
       "    <tr>\n",
       "      <th>4</th>\n",
       "      <td>Panaroo</td>\n",
       "      <td>LongRead</td>\n",
       "      <td>Bakta</td>\n",
       "      <td>Panaroo_Moderate</td>\n",
       "      <td>4387</td>\n",
       "      <td>3833</td>\n",
       "      <td>554</td>\n",
       "    </tr>\n",
       "    <tr>\n",
       "      <th>5</th>\n",
       "      <td>Panaroo</td>\n",
       "      <td>LongRead</td>\n",
       "      <td>Bakta</td>\n",
       "      <td>Panaroo_Sensitive</td>\n",
       "      <td>4388</td>\n",
       "      <td>3833</td>\n",
       "      <td>555</td>\n",
       "    </tr>\n",
       "  </tbody>\n",
       "</table>\n",
       "</div>"
      ],
      "text/plain": [
       "  PangenomeTool   SeqType   Anno                           Method  Total genes  Core genes  Accessory genes\n",
       "0       Panaroo  LongRead  Bakta     Panaroo_Strict_MergeParalogs         4200        3779              421\n",
       "1       Panaroo  LongRead  Bakta   Panaroo_Moderate_MergeParalogs         4280        3825              455\n",
       "2       Panaroo  LongRead  Bakta  Panaroo_Sensitive_MergeParalogs         4281        3825              456\n",
       "3       Panaroo  LongRead  Bakta                   Panaroo_Strict         4305        3787              518\n",
       "4       Panaroo  LongRead  Bakta                 Panaroo_Moderate         4387        3833              554\n",
       "5       Panaroo  LongRead  Bakta                Panaroo_Sensitive         4388        3833              555"
      ]
     },
     "execution_count": 354,
     "metadata": {},
     "output_type": "execute_result"
    }
   ],
   "source": [
    "PG_WideSumm_DF.head(6)"
   ]
  },
  {
   "cell_type": "code",
   "execution_count": 355,
   "id": "e3b055eb-1f67-4353-841f-47c1aa774498",
   "metadata": {},
   "outputs": [],
   "source": [
    "\n",
    "\n",
    "PG_WideSumm_DF = PG_WideSumm_DF.sort_values(\"Method\",\n",
    "                                            key=lambda x: pd.Categorical(x, categories=PipeName_WiParam_List, ordered=True))\n",
    "#PG_WideSumm_DF = PG_WideSumm_DF.sort_values([\"Method\", \"SeqType\"], key=lambda x: pd.Categorical(x, categories=orderToPlot_X, ordered=True))\n",
    "\n",
    "PG_WideSumm_V2_DF = PG_WideSumm_DF.copy()\n",
    "\n",
    "PG_WideSumm_V2_DF[\"Method\"] = PG_WideSumm_V2_DF[\"Method\"].replace(PGCombos_dictOfValues_To_Label)\n",
    "\n",
    "NewColOrder = ['PangenomeTool', 'SeqType', 'Anno', 'Method', 'Total genes',  'Core genes', 'Accessory genes',  ]\n",
    "\n",
    "PG_WideSumm_V2_DF_Trim = PG_WideSumm_V2_DF[NewColOrder].reset_index(drop=True)"
   ]
  },
  {
   "cell_type": "code",
   "execution_count": 356,
   "id": "c292624d-35b3-42e5-b4df-1889a8ba1969",
   "metadata": {},
   "outputs": [
    {
     "data": {
      "text/html": [
       "<div>\n",
       "<style scoped>\n",
       "    .dataframe tbody tr th:only-of-type {\n",
       "        vertical-align: middle;\n",
       "    }\n",
       "\n",
       "    .dataframe tbody tr th {\n",
       "        vertical-align: top;\n",
       "    }\n",
       "\n",
       "    .dataframe thead th {\n",
       "        text-align: right;\n",
       "    }\n",
       "</style>\n",
       "<table border=\"1\" class=\"dataframe\">\n",
       "  <thead>\n",
       "    <tr style=\"text-align: right;\">\n",
       "      <th></th>\n",
       "      <th>PangenomeTool</th>\n",
       "      <th>SeqType</th>\n",
       "      <th>Anno</th>\n",
       "      <th>Method</th>\n",
       "      <th>Total genes</th>\n",
       "      <th>Core genes</th>\n",
       "      <th>Accessory genes</th>\n",
       "    </tr>\n",
       "  </thead>\n",
       "  <tbody>\n",
       "    <tr>\n",
       "      <th>0</th>\n",
       "      <td>Panaroo</td>\n",
       "      <td>LongRead</td>\n",
       "      <td>Bakta</td>\n",
       "      <td>Panaroo \\n (Strict &amp; MergeParalogs)</td>\n",
       "      <td>4200</td>\n",
       "      <td>3779</td>\n",
       "      <td>421</td>\n",
       "    </tr>\n",
       "    <tr>\n",
       "      <th>1</th>\n",
       "      <td>Panaroo</td>\n",
       "      <td>LongRead</td>\n",
       "      <td>Bakta</td>\n",
       "      <td>Panaroo \\n (Moderate &amp; MergeParalogs)</td>\n",
       "      <td>4280</td>\n",
       "      <td>3825</td>\n",
       "      <td>455</td>\n",
       "    </tr>\n",
       "    <tr>\n",
       "      <th>2</th>\n",
       "      <td>Panaroo</td>\n",
       "      <td>LongRead</td>\n",
       "      <td>Bakta</td>\n",
       "      <td>Panaroo \\n (Sensitive &amp; MergeParalogs)</td>\n",
       "      <td>4281</td>\n",
       "      <td>3825</td>\n",
       "      <td>456</td>\n",
       "    </tr>\n",
       "    <tr>\n",
       "      <th>3</th>\n",
       "      <td>Panaroo</td>\n",
       "      <td>LongRead</td>\n",
       "      <td>Bakta</td>\n",
       "      <td>Panaroo \\n (Strict)</td>\n",
       "      <td>4305</td>\n",
       "      <td>3787</td>\n",
       "      <td>518</td>\n",
       "    </tr>\n",
       "    <tr>\n",
       "      <th>4</th>\n",
       "      <td>Panaroo</td>\n",
       "      <td>LongRead</td>\n",
       "      <td>Bakta</td>\n",
       "      <td>Panaroo \\n (Moderate)</td>\n",
       "      <td>4387</td>\n",
       "      <td>3833</td>\n",
       "      <td>554</td>\n",
       "    </tr>\n",
       "    <tr>\n",
       "      <th>5</th>\n",
       "      <td>Panaroo</td>\n",
       "      <td>LongRead</td>\n",
       "      <td>Bakta</td>\n",
       "      <td>Panaroo \\n (Sensitive)</td>\n",
       "      <td>4388</td>\n",
       "      <td>3833</td>\n",
       "      <td>555</td>\n",
       "    </tr>\n",
       "    <tr>\n",
       "      <th>6</th>\n",
       "      <td>Roary</td>\n",
       "      <td>LongRead</td>\n",
       "      <td>Bakta</td>\n",
       "      <td>Roary \\n (MergeParalogs &amp; I80)</td>\n",
       "      <td>4252</td>\n",
       "      <td>3714</td>\n",
       "      <td>538</td>\n",
       "    </tr>\n",
       "    <tr>\n",
       "      <th>7</th>\n",
       "      <td>Roary</td>\n",
       "      <td>LongRead</td>\n",
       "      <td>Bakta</td>\n",
       "      <td>Roary \\n (MergeParalogs &amp; I90)</td>\n",
       "      <td>4293</td>\n",
       "      <td>3723</td>\n",
       "      <td>570</td>\n",
       "    </tr>\n",
       "    <tr>\n",
       "      <th>8</th>\n",
       "      <td>Roary</td>\n",
       "      <td>LongRead</td>\n",
       "      <td>Bakta</td>\n",
       "      <td>Roary \\n (MergeParalogs)</td>\n",
       "      <td>4366</td>\n",
       "      <td>3716</td>\n",
       "      <td>650</td>\n",
       "    </tr>\n",
       "    <tr>\n",
       "      <th>9</th>\n",
       "      <td>Roary</td>\n",
       "      <td>LongRead</td>\n",
       "      <td>Bakta</td>\n",
       "      <td>Roary \\n (Default)</td>\n",
       "      <td>5366</td>\n",
       "      <td>3499</td>\n",
       "      <td>1867</td>\n",
       "    </tr>\n",
       "    <tr>\n",
       "      <th>10</th>\n",
       "      <td>Ppanggolin</td>\n",
       "      <td>LongRead</td>\n",
       "      <td>Bakta</td>\n",
       "      <td>Ppanggolin (I0.80-C0.80)</td>\n",
       "      <td>4772</td>\n",
       "      <td>3650</td>\n",
       "      <td>1122</td>\n",
       "    </tr>\n",
       "    <tr>\n",
       "      <th>11</th>\n",
       "      <td>Ppanggolin</td>\n",
       "      <td>LongRead</td>\n",
       "      <td>Bakta</td>\n",
       "      <td>Ppanggolin (I0.80-C0.90)</td>\n",
       "      <td>5292</td>\n",
       "      <td>3576</td>\n",
       "      <td>1716</td>\n",
       "    </tr>\n",
       "    <tr>\n",
       "      <th>12</th>\n",
       "      <td>Ppanggolin</td>\n",
       "      <td>LongRead</td>\n",
       "      <td>Bakta</td>\n",
       "      <td>Ppanggolin (I0.90-C0.80)</td>\n",
       "      <td>5072</td>\n",
       "      <td>3640</td>\n",
       "      <td>1432</td>\n",
       "    </tr>\n",
       "    <tr>\n",
       "      <th>13</th>\n",
       "      <td>Ppanggolin</td>\n",
       "      <td>LongRead</td>\n",
       "      <td>Bakta</td>\n",
       "      <td>Ppanggolin (I0.90-C0.90)</td>\n",
       "      <td>5580</td>\n",
       "      <td>3572</td>\n",
       "      <td>2008</td>\n",
       "    </tr>\n",
       "    <tr>\n",
       "      <th>14</th>\n",
       "      <td>Pangene</td>\n",
       "      <td>LongRead</td>\n",
       "      <td>Bakta</td>\n",
       "      <td>Pangene \\n (C0.95-M0.95)</td>\n",
       "      <td>4192</td>\n",
       "      <td>3795</td>\n",
       "      <td>397</td>\n",
       "    </tr>\n",
       "    <tr>\n",
       "      <th>15</th>\n",
       "      <td>Pangene</td>\n",
       "      <td>LongRead</td>\n",
       "      <td>Bakta</td>\n",
       "      <td>Pangene \\n (C0.95-M0.98)</td>\n",
       "      <td>4204</td>\n",
       "      <td>3793</td>\n",
       "      <td>411</td>\n",
       "    </tr>\n",
       "    <tr>\n",
       "      <th>16</th>\n",
       "      <td>Pangene</td>\n",
       "      <td>LongRead</td>\n",
       "      <td>Bakta</td>\n",
       "      <td>Pangene \\n (C0.95-M0.99)</td>\n",
       "      <td>4215</td>\n",
       "      <td>3792</td>\n",
       "      <td>423</td>\n",
       "    </tr>\n",
       "    <tr>\n",
       "      <th>17</th>\n",
       "      <td>Pangene</td>\n",
       "      <td>LongRead</td>\n",
       "      <td>Bakta</td>\n",
       "      <td>Pangene \\n (C0.98-M0.95)</td>\n",
       "      <td>4224</td>\n",
       "      <td>3796</td>\n",
       "      <td>428</td>\n",
       "    </tr>\n",
       "    <tr>\n",
       "      <th>18</th>\n",
       "      <td>Pangene</td>\n",
       "      <td>LongRead</td>\n",
       "      <td>Bakta</td>\n",
       "      <td>Pangene \\n (C0.98-M0.98)</td>\n",
       "      <td>4238</td>\n",
       "      <td>3796</td>\n",
       "      <td>442</td>\n",
       "    </tr>\n",
       "    <tr>\n",
       "      <th>19</th>\n",
       "      <td>Pangene</td>\n",
       "      <td>LongRead</td>\n",
       "      <td>Bakta</td>\n",
       "      <td>Pangene \\n (C0.98-M0.99)</td>\n",
       "      <td>4245</td>\n",
       "      <td>3792</td>\n",
       "      <td>453</td>\n",
       "    </tr>\n",
       "  </tbody>\n",
       "</table>\n",
       "</div>"
      ],
      "text/plain": [
       "   PangenomeTool   SeqType   Anno                                  Method  Total genes  Core genes  Accessory genes\n",
       "0        Panaroo  LongRead  Bakta     Panaroo \\n (Strict & MergeParalogs)         4200        3779              421\n",
       "1        Panaroo  LongRead  Bakta   Panaroo \\n (Moderate & MergeParalogs)         4280        3825              455\n",
       "2        Panaroo  LongRead  Bakta  Panaroo \\n (Sensitive & MergeParalogs)         4281        3825              456\n",
       "3        Panaroo  LongRead  Bakta                     Panaroo \\n (Strict)         4305        3787              518\n",
       "4        Panaroo  LongRead  Bakta                   Panaroo \\n (Moderate)         4387        3833              554\n",
       "5        Panaroo  LongRead  Bakta                  Panaroo \\n (Sensitive)         4388        3833              555\n",
       "6          Roary  LongRead  Bakta          Roary \\n (MergeParalogs & I80)         4252        3714              538\n",
       "7          Roary  LongRead  Bakta          Roary \\n (MergeParalogs & I90)         4293        3723              570\n",
       "8          Roary  LongRead  Bakta                Roary \\n (MergeParalogs)         4366        3716              650\n",
       "9          Roary  LongRead  Bakta                      Roary \\n (Default)         5366        3499             1867\n",
       "10    Ppanggolin  LongRead  Bakta                Ppanggolin (I0.80-C0.80)         4772        3650             1122\n",
       "11    Ppanggolin  LongRead  Bakta                Ppanggolin (I0.80-C0.90)         5292        3576             1716\n",
       "12    Ppanggolin  LongRead  Bakta                Ppanggolin (I0.90-C0.80)         5072        3640             1432\n",
       "13    Ppanggolin  LongRead  Bakta                Ppanggolin (I0.90-C0.90)         5580        3572             2008\n",
       "14       Pangene  LongRead  Bakta                Pangene \\n (C0.95-M0.95)         4192        3795              397\n",
       "15       Pangene  LongRead  Bakta                Pangene \\n (C0.95-M0.98)         4204        3793              411\n",
       "16       Pangene  LongRead  Bakta                Pangene \\n (C0.95-M0.99)         4215        3792              423\n",
       "17       Pangene  LongRead  Bakta                Pangene \\n (C0.98-M0.95)         4224        3796              428\n",
       "18       Pangene  LongRead  Bakta                Pangene \\n (C0.98-M0.98)         4238        3796              442\n",
       "19       Pangene  LongRead  Bakta                Pangene \\n (C0.98-M0.99)         4245        3792              453"
      ]
     },
     "execution_count": 356,
     "metadata": {},
     "output_type": "execute_result"
    }
   ],
   "source": [
    "PG_WideSumm_V2_DF_Trim"
   ]
  },
  {
   "cell_type": "code",
   "execution_count": null,
   "id": "8192db29-9b74-4dd1-abd3-78329fec7946",
   "metadata": {},
   "outputs": [],
   "source": []
  },
  {
   "cell_type": "code",
   "execution_count": 357,
   "id": "de606bea-5a13-4dd6-9409-79a0c091e983",
   "metadata": {},
   "outputs": [
    {
     "data": {
      "text/html": [
       "<div>\n",
       "<style scoped>\n",
       "    .dataframe tbody tr th:only-of-type {\n",
       "        vertical-align: middle;\n",
       "    }\n",
       "\n",
       "    .dataframe tbody tr th {\n",
       "        vertical-align: top;\n",
       "    }\n",
       "\n",
       "    .dataframe thead th {\n",
       "        text-align: right;\n",
       "    }\n",
       "</style>\n",
       "<table border=\"1\" class=\"dataframe\">\n",
       "  <thead>\n",
       "    <tr style=\"text-align: right;\">\n",
       "      <th></th>\n",
       "      <th></th>\n",
       "      <th></th>\n",
       "      <th>Total genes</th>\n",
       "      <th>Core genes</th>\n",
       "      <th>Accessory genes</th>\n",
       "    </tr>\n",
       "    <tr>\n",
       "      <th>SeqType</th>\n",
       "      <th>Anno</th>\n",
       "      <th>PangenomeTool</th>\n",
       "      <th></th>\n",
       "      <th></th>\n",
       "      <th></th>\n",
       "    </tr>\n",
       "  </thead>\n",
       "  <tbody>\n",
       "    <tr>\n",
       "      <th rowspan=\"4\" valign=\"top\">LongRead</th>\n",
       "      <th rowspan=\"4\" valign=\"top\">Bakta</th>\n",
       "      <th>Panaroo</th>\n",
       "      <td>4293.0</td>\n",
       "      <td>3825.0</td>\n",
       "      <td>487.0</td>\n",
       "    </tr>\n",
       "    <tr>\n",
       "      <th>Pangene</th>\n",
       "      <td>4219.5</td>\n",
       "      <td>3794.0</td>\n",
       "      <td>425.5</td>\n",
       "    </tr>\n",
       "    <tr>\n",
       "      <th>Ppanggolin</th>\n",
       "      <td>5182.0</td>\n",
       "      <td>3608.0</td>\n",
       "      <td>1574.0</td>\n",
       "    </tr>\n",
       "    <tr>\n",
       "      <th>Roary</th>\n",
       "      <td>4329.5</td>\n",
       "      <td>3715.0</td>\n",
       "      <td>610.0</td>\n",
       "    </tr>\n",
       "  </tbody>\n",
       "</table>\n",
       "</div>"
      ],
      "text/plain": [
       "                              Total genes  Core genes  Accessory genes\n",
       "SeqType  Anno  PangenomeTool                                          \n",
       "LongRead Bakta Panaroo             4293.0      3825.0            487.0\n",
       "               Pangene             4219.5      3794.0            425.5\n",
       "               Ppanggolin          5182.0      3608.0           1574.0\n",
       "               Roary               4329.5      3715.0            610.0"
      ]
     },
     "execution_count": 357,
     "metadata": {},
     "output_type": "execute_result"
    }
   ],
   "source": [
    "PG_WideSumm_V2_DF.groupby([\"SeqType\", \"Anno\", \"PangenomeTool\"]).median()"
   ]
  },
  {
   "cell_type": "code",
   "execution_count": null,
   "id": "ff31e280-b5d5-4479-bb42-9e0a23118c2e",
   "metadata": {},
   "outputs": [],
   "source": []
  },
  {
   "cell_type": "code",
   "execution_count": null,
   "id": "66f8bb1a-2908-4bde-93a8-e16b9365c4b5",
   "metadata": {},
   "outputs": [],
   "source": []
  },
  {
   "cell_type": "code",
   "execution_count": null,
   "id": "ec7cebe3-bf76-475d-98ff-1ba0c1dd3485",
   "metadata": {},
   "outputs": [],
   "source": []
  },
  {
   "cell_type": "markdown",
   "id": "99ac7acc-5d98-4341-8ee6-31ec3beefc76",
   "metadata": {},
   "source": [
    "## Divide Pan-genome summary stats by \"assembly type\" and \"gene category\""
   ]
  },
  {
   "cell_type": "code",
   "execution_count": 358,
   "id": "11676735-bac8-4e07-931d-33b98bf52683",
   "metadata": {},
   "outputs": [],
   "source": [
    "PG_Merged_Stats_LRandSR_Pangenome_DF = PG_Merged_Stats_LRandSR_DF.query(\" Category == 'Total genes'  \")\n",
    "PG_Merged_Stats_LRandSR_Core_DF = PG_Merged_Stats_LRandSR_DF.query(\" Category == 'Core genes'  \")\n",
    "PG_Merged_Stats_LRandSR_Acc_DF = PG_Merged_Stats_LRandSR_DF.query(\" Category == 'Accessory genes'  \")"
   ]
  },
  {
   "cell_type": "code",
   "execution_count": 359,
   "id": "f8c47c0c-3463-4425-8c52-86fca7939ce6",
   "metadata": {},
   "outputs": [],
   "source": [
    "PG_Merged_Stats_LR_Pangenome_DF = PG_Merged_Stats_LRandSR_DF.query(\" Category == 'Total genes'  \").query(\" SeqType == 'LongRead'  \")\n",
    "PG_Merged_Stats_LR_Core_DF = PG_Merged_Stats_LRandSR_DF.query(\" Category == 'Core genes'  \").query(\" SeqType == 'LongRead'  \")\n",
    "PG_Merged_Stats_LR_Acc_DF = PG_Merged_Stats_LRandSR_DF.query(\" Category == 'Accessory genes'  \").query(\" SeqType == 'LongRead'  \")"
   ]
  },
  {
   "cell_type": "code",
   "execution_count": null,
   "id": "aed22b01-1f1c-4f88-93fd-c798a897043b",
   "metadata": {},
   "outputs": [],
   "source": []
  },
  {
   "cell_type": "markdown",
   "id": "86459b2b-b7fa-4995-a179-24ffd26fa6a4",
   "metadata": {},
   "source": [
    "# Viz Explore - V2"
   ]
  },
  {
   "cell_type": "code",
   "execution_count": 265,
   "id": "637e4632-b778-4fda-96fb-dccea205ee1b",
   "metadata": {},
   "outputs": [],
   "source": [
    "#PG_Merged_Stats_LRandSR_Acc_DF.head(4)"
   ]
  },
  {
   "cell_type": "code",
   "execution_count": 361,
   "id": "e478c817-04dc-4e0e-b665-2e1a9dafdae1",
   "metadata": {},
   "outputs": [],
   "source": [
    "Tools_hue_Color_Dict = {\"Panaroo\": \"#1f77b4\",\n",
    "                        \"Roary\": \"#ff7f0e\",\n",
    "                        \"Ppanggolin\": \"#2ca02c\" ,\n",
    "                        \"Pangene\": \"red\" }\n",
    "\n",
    "Panaroo_patch = mpatches.Patch(color = Tools_hue_Color_Dict[\"Panaroo\"], label='Panaroo')\n",
    "Roary_patch = mpatches.Patch(color = Tools_hue_Color_Dict[\"Roary\"], label='Roary')\n",
    "Ppanggolin_patch = mpatches.Patch(color = Tools_hue_Color_Dict[\"Ppanggolin\"], label='Ppanggolin')\n",
    "Pangene_patch = mpatches.Patch(color = Tools_hue_Color_Dict[\"Pangene\"], label='Pangene')\n",
    "\n",
    "ToolPatches_List = [Panaroo_patch, Roary_patch, Ppanggolin_patch, Pangene_patch]\n",
    "\n",
    "\n",
    "\n",
    "hue_Order_Tools = [\"Panaroo\", \"Roary\", \"Ppanggolin\", \"Pangene\"]\n",
    "Order_AnnoAndType = ['Bakta-LongRead', 'PGAP-LongRead', 'Bakta-ShortRead', 'PGAP-ShortRead']\n"
   ]
  },
  {
   "cell_type": "code",
   "execution_count": 363,
   "id": "9a339bd8-3698-4e81-888d-198dd00836d1",
   "metadata": {},
   "outputs": [
    {
     "data": {
      "image/png": "[encoded data removed]",
      "text/plain": [
       "<Figure size 1296x1008 with 2 Axes>"
      ]
     },
     "metadata": {
      "needs_background": "light"
     },
     "output_type": "display_data"
    }
   ],
   "source": [
    "# Set the context for the plot\n",
    "#sns.set_context(\"paper\", font_scale=1.5)\n",
    "sns.set_context(\"poster\")\n",
    "\n",
    "# Create a subplot\n",
    "fig, axs = plt.subplots(2, 1, figsize= (18, 14), sharey = False)\n",
    "\n",
    "\n",
    "sns.stripplot(y = \"GeneCount\", x = \"AnnoAndTech\", hue = \"PangenomeTool\",\n",
    "              data = PG_Merged_Stats_LRandSR_Acc_DF, linewidth=0, size = 8,\n",
    "              #order = Order_AnnoAndType,\n",
    "              palette = Tools_hue_Color_Dict, hue_order = hue_Order_Tools, \n",
    "              alpha=1, marker = \"o\", jitter = True, dodge = True, edgecolor='gray', ax= axs[0])\n",
    "\n",
    "# sns.boxplot(y = \"GeneCount\", x = \"AnnoAndTech\", hue = \"PangenomeTool\",\n",
    "#             data = PG_Merged_Stats_LRandSR_Acc_DF, fliersize=0,\n",
    "#             hue_order = hue_Order_Tools,\n",
    "#             #order = Order_AnnoAndType,\n",
    "#             ax= axs[0], boxprops=dict(alpha=0.4, linewidth=0),  )\n",
    "\n",
    "sns.stripplot(y = \"GeneCount\", x = \"AnnoAndTech\", hue = \"PangenomeTool\",\n",
    "              data = PG_Merged_Stats_LRandSR_Core_DF, linewidth=0, size = 8,\n",
    "              #order = Order_AnnoAndType,\n",
    "              palette = Tools_hue_Color_Dict, hue_order = hue_Order_Tools, \n",
    "              alpha=1, marker = \"o\", jitter = True, dodge = True, edgecolor='gray', ax= axs[1])\n",
    "\n",
    "# sns.boxplot(y = \"GeneCount\", x = \"AnnoAndTech\", hue = \"PangenomeTool\",\n",
    "#             data = PG_Merged_Stats_LRandSR_Core_DF, fliersize=0,\n",
    "#             hue_order = hue_Order_Tools, #order = Order_AnnoAndType,\n",
    "#             ax= axs[1], boxprops=dict(alpha=0.4, linewidth=0),  )\n",
    "\n",
    "axs[0].set_xlabel(\"\"), axs[1].set_xlabel(\"\")\n",
    "axs[0].set_ylabel(\"# estimated accessory genes\"), axs[1].set_ylabel(\"# estimated core genes\") \n",
    "\n",
    "axs[0].legend(title = \"Analysis Pipeline\",\n",
    "              handles=ToolPatches_List,\n",
    "              bbox_to_anchor=(1.25, 1))\n",
    "axs[1].get_legend().remove()\n",
    "\n",
    "sns.despine()\n",
    "\n",
    "plt.show()"
   ]
  },
  {
   "cell_type": "code",
   "execution_count": null,
   "id": "6ed11fb0-b330-4c35-8291-172fa315ec2b",
   "metadata": {},
   "outputs": [],
   "source": []
  },
  {
   "cell_type": "code",
   "execution_count": null,
   "id": "9c197e62-3fec-4c4e-ba0a-355e2995876a",
   "metadata": {},
   "outputs": [],
   "source": []
  },
  {
   "cell_type": "code",
   "execution_count": null,
   "id": "40af868d-3604-42f8-990d-ed6947fc63b4",
   "metadata": {},
   "outputs": [],
   "source": []
  },
  {
   "cell_type": "code",
   "execution_count": null,
   "id": "a3177401-f2f7-4dd3-8dfa-ed8e039a21ce",
   "metadata": {},
   "outputs": [],
   "source": []
  }
 ],
 "metadata": {
  "kernelspec": {
   "display_name": "py37_S",
   "language": "python",
   "name": "py37_s"
  },
  "language_info": {
   "codemirror_mode": {
    "name": "ipython",
    "version": 3
   },
   "file_extension": ".py",
   "mimetype": "text/x-python",
   "name": "python",
   "nbconvert_exporter": "python",
   "pygments_lexer": "ipython3",
   "version": "3.7.3"
  }
 },
 "nbformat": 4,
 "nbformat_minor": 5
}
