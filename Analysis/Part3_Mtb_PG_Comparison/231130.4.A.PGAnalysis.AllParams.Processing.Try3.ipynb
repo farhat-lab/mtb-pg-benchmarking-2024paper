{
 "cells": [
  {
   "cell_type": "code",
   "execution_count": null,
   "id": "d85345c8-41d7-45fd-922f-caa5d063cd1b",
   "metadata": {},
   "outputs": [],
   "source": []
  },
  {
   "cell_type": "markdown",
   "id": "b3492399-7b6a-475c-85f8-0981130f7f31",
   "metadata": {
    "toc-hr-collapsed": true
   },
   "source": [
    "### Import Statements"
   ]
  },
  {
   "cell_type": "code",
   "execution_count": 2,
   "id": "5bfd6dff-fa35-470e-acbb-20d950e9d9f4",
   "metadata": {},
   "outputs": [],
   "source": [
    "import numpy as np\n",
    "import pandas as pd\n",
    "import vcf\n",
    "from tqdm import tqdm\n",
    "import matplotlib.pyplot as plt\n",
    "import matplotlib.patches as mpatches\n",
    "\n",
    "import seaborn as sns\n",
    "import pickle\n",
    "import scipy.stats\n",
    "\n",
    "%matplotlib inline"
   ]
  },
  {
   "cell_type": "code",
   "execution_count": 3,
   "id": "feaae4c2-f692-4793-94c7-71466d4e0f61",
   "metadata": {},
   "outputs": [],
   "source": [
    "from Bio import SeqIO\n"
   ]
  },
  {
   "cell_type": "code",
   "execution_count": null,
   "id": "766cd405-6e53-4c00-bf1a-985c7ab24ce3",
   "metadata": {},
   "outputs": [],
   "source": []
  },
  {
   "cell_type": "markdown",
   "id": "ed83529c-6cd6-4eb1-b6d5-114661e0c498",
   "metadata": {},
   "source": [
    "### Set matplotlib text export settings for Adobe Illustrator"
   ]
  },
  {
   "cell_type": "code",
   "execution_count": 4,
   "id": "a48baf51-e9d0-4fae-9f9c-b3f61d0ceea2",
   "metadata": {},
   "outputs": [],
   "source": [
    "import matplotlib\n",
    "\n",
    "matplotlib.rcParams['pdf.fonttype'] = 42\n",
    "matplotlib.rcParams['ps.fonttype'] = 42"
   ]
  },
  {
   "cell_type": "markdown",
   "id": "e4885474-53c8-4b5e-9e3a-44e4aebb41f3",
   "metadata": {},
   "source": [
    "#### Pandas Viewing Settings"
   ]
  },
  {
   "cell_type": "code",
   "execution_count": 5,
   "id": "b5dde914-7136-4882-871a-cfea7302091e",
   "metadata": {},
   "outputs": [],
   "source": [
    "pd.set_option('display.max_rows', 500)\n",
    "pd.set_option('display.max_columns', 500)\n",
    "pd.set_option('display.width', 1000)"
   ]
  },
  {
   "cell_type": "code",
   "execution_count": null,
   "id": "575ae97e-c865-405c-87e0-ac45b1248a1b",
   "metadata": {},
   "outputs": [],
   "source": []
  },
  {
   "cell_type": "markdown",
   "id": "505711ac-d851-46c9-9ce5-95d497bd7549",
   "metadata": {},
   "source": [
    "### Set matplotlib text export settings for Adobe Illustrator"
   ]
  },
  {
   "cell_type": "code",
   "execution_count": 6,
   "id": "eedfce80-d0a6-46e0-9aa7-ca6979952ebb",
   "metadata": {},
   "outputs": [],
   "source": [
    "import matplotlib\n",
    "matplotlib.rcParams['pdf.fonttype'] = 42\n",
    "matplotlib.rcParams['ps.fonttype'] = 42"
   ]
  },
  {
   "cell_type": "code",
   "execution_count": null,
   "id": "7480d262-7564-47fc-a6ea-428330909ea6",
   "metadata": {},
   "outputs": [],
   "source": []
  },
  {
   "cell_type": "markdown",
   "id": "b5fec146-9f2a-4867-ad0e-69dd75692e4b",
   "metadata": {
    "toc-hr-collapsed": true
   },
   "source": [
    "# Parse sample metadata & preprocessed genome info/results"
   ]
  },
  {
   "cell_type": "markdown",
   "id": "aac1a0ab-6294-409f-91ac-1614f90c515a",
   "metadata": {},
   "source": [
    "## Parse sample Metadata (N = 151)"
   ]
  },
  {
   "cell_type": "code",
   "execution_count": 7,
   "id": "e3c8d597-683f-4f27-bb84-18372f091d93",
   "metadata": {},
   "outputs": [
    {
     "data": {
      "text/plain": [
       "(151, 7)"
      ]
     },
     "execution_count": 7,
     "metadata": {},
     "output_type": "execute_result"
    }
   ],
   "source": [
    "Repo_DataDir = \"../../Data\"\n",
    "InputAsmPath_Dir = f\"{Repo_DataDir}/231121.InputAsmTSVs.MtbSetV3.151CI\"\n",
    "\n",
    "MtbSetV3_151CI_InputAsmPATHs_TSV = f\"{InputAsmPath_Dir}/231121.MtbSetV3.151CI.HybridAndSRAsm.FAPATHs.V1.tsv\"\n",
    "\n",
    "MtbSetV3_151CI_AsmSumm_TSV = f\"{InputAsmPath_Dir}/231121.MtbSetV3.151CI.HybridAsm.AsmSummary.V2.tsv\"\n",
    "\n",
    "WGA151CI_AsmSummary_DF = pd.read_csv(MtbSetV3_151CI_AsmSumm_TSV, sep = \"\\t\")\n",
    "\n",
    "SampleIDs_151CI_SOI = list( WGA151CI_AsmSummary_DF[\"SampleID\"].values )\n",
    "WGA151CI_SampleIDs = SampleIDs_151CI_SOI\n",
    "\n",
    "ID_To_PrimLineage_Dict = dict(WGA151CI_AsmSummary_DF[['SampleID', 'PrimaryLineage']].values)\n",
    "ID_To_SubLineage_Dict = dict( WGA151CI_AsmSummary_DF[[\"SampleID\", \"Lineage\"]].values)\n",
    "ID_To_Dataset_Dict = dict(WGA151CI_AsmSummary_DF[['SampleID', 'Dataset_Tag']].values)\n",
    "WGA151CI_AsmSummary_DF.shape"
   ]
  },
  {
   "cell_type": "code",
   "execution_count": null,
   "id": "8d0e4e90-bfeb-4271-a30e-b4c7d3dd720e",
   "metadata": {},
   "outputs": [],
   "source": []
  },
  {
   "cell_type": "code",
   "execution_count": 8,
   "id": "f8e51aec-b695-4cc3-84c2-7f6a4af4a41b",
   "metadata": {},
   "outputs": [],
   "source": [
    "High_SRBusco_SampleIDs_143CI = ['N0072', 'N0153', 'DNA028', 'N0155', 'N0145', 'DNA075',\n",
    "       'M0003941_3', 'DNA019_Vash', 'DNA091', 'DNA096', 'AZE_02_067',\n",
    "       'AZE_02_041', 'ZRB10578980', 'DNA089', 'N0004', 'N1274', 'N0054',\n",
    "       'DNA124', 'DNA044', 'DNA020', 'AZE_02_042', 'DNA182', 'DNA120',\n",
    "       'DNA188', 'DNA086', 'M0011368_9', 'MT_0080', 'M0016737_0',\n",
    "       'DNA054', 'M0014888_3', '02_R1179', '01_R1134', 'M0017522_5',\n",
    "       'M0016395_7', '02_R1708', '02_R0894', '01_R1430', 'M0010874_7',\n",
    "       'N1272', 'N0091', 'N1202', '9050-05', '4549-04', '696-05',\n",
    "       '702-06', '706-05', '8129-04', '3003-06', '8651-04', 'QC-3',\n",
    "       'QC-9', 'QC-5', 'QC-8', 'QC-10', 'QC-4', 'QC-6', 'QC-1', '8644-04',\n",
    "       'mada_1-10', 'mada_2-46', 'mada_1-1', 'mada_1-36', 'mada_1-39',\n",
    "       'mada_1-40', 'mada_1-51', 'mada_1-44', 'mada_117', 'mada_118',\n",
    "       'mada_122', 'R27252', 'R23887', 'R30078', 'R29816', 'R30234',\n",
    "       '18_0621851', 'R36431', 'R28703', 'mada_115', 'mada_2-42',\n",
    "       'R31095', 'R28012', 'R37765', 'R27657', 'R24120', 'R28581',\n",
    "       'R29598', 'mada_1-11', 'R24100', 'R20574', 'R20260', 'R18043',\n",
    "       'R22601', 'R23146', 'R32929', 'R21893', 'R30420', 'R26778',\n",
    "       'R26791', 'R28980', 'R27725', 'R18040', 'R27937', 'mada_1-30',\n",
    "       'mada_2-31', 'mada_1-41', 'R21839', 'mada_1-32', 'R30396',\n",
    "       'R21363', 'mada_102', 'mada_129', 'mada_139', 'mada_151',\n",
    "       'mada_105', 'R15311', 'mada_103', 'mada_2-25', 'mada_112',\n",
    "       'mada_124', 'mada_126', 'mada_120', 'R23571', 'mada_128',\n",
    "       'mada_1-12', 'mada_1-15', 'mada_1-2', 'mada_2-1', 'mada_1-53',\n",
    "       'mada_1-50', 'mada_123', 'mada_2-53', 'MFS-3', 'MFS-59', 'MFS-173',\n",
    "       'MFS-54', 'MFS-58', 'MFS-51', 'MFS-42', 'MFS-52', 'MFS-56',\n",
    "       'MFS-60', 'MFS-61', 'MFS-181']"
   ]
  },
  {
   "cell_type": "code",
   "execution_count": null,
   "id": "9f4c4cc4-8c20-432e-bb66-14b24431597d",
   "metadata": {},
   "outputs": [],
   "source": []
  },
  {
   "cell_type": "code",
   "execution_count": 9,
   "id": "2522767c-e2db-480c-b037-ca327603c160",
   "metadata": {},
   "outputs": [],
   "source": [
    "\n",
    "def read_PanarooSummaryStats(input_Panaroo_SummaryStats_TXT):\n",
    "    \n",
    "    i_Panaroo_Stats_DF = pd.read_csv(input_Panaroo_SummaryStats_TXT, sep = \"\\t\", header=None)\n",
    "    i_Panaroo_Stats_DF.columns = [\"Category\", \"Range\", \"GeneCount\"]\n",
    "\n",
    "    Acc_GenesCount = i_Panaroo_Stats_DF[\"GeneCount\"].values[-1] - i_Panaroo_Stats_DF[\"GeneCount\"].values[0]\n",
    "\n",
    "    i_Panaroo_AccGenesRow = [\"Accessory genes\",\"(0% <= strains < 99%)\", Acc_GenesCount]\n",
    "\n",
    "    i_Panaroo_Stats_DF.loc[len(i_Panaroo_Stats_DF.index)] = i_Panaroo_AccGenesRow\n",
    "\n",
    "    #listOfCat_ToKeep = [\"Core genes\", \"Accessory Genes\", \"Total genes\"]\n",
    "\n",
    "    i_Panaroo_Stats_DF = i_Panaroo_Stats_DF[ i_Panaroo_Stats_DF[\"Category\"].isin(listOfCat_ToKeep)]   \n",
    "\n",
    "    # https://www.statology.org/pandas-add-row-to-dataframe/#:~:text=You%20can%20use%20the%20df,loc%5Blen(df. \n",
    "\n",
    "    return i_Panaroo_Stats_DF"
   ]
  },
  {
   "cell_type": "code",
   "execution_count": 10,
   "id": "a643f4bf-85ed-481d-8320-879f240d35d4",
   "metadata": {},
   "outputs": [],
   "source": [
    "def read_Ppanggolin_ContextStats(i_Ppanggolin_Content_TXT, verbose = False):\n",
    "    if verbose:\n",
    "        print(f\"reading Ppangolin stats from {i_Ppanggolin_Content_TXT}\")\n",
    "        \n",
    "    with open(i_Ppanggolin_Content_TXT, \"r\") as f:\n",
    "\n",
    "        #NumCoreGenes = -1\n",
    "        #NumShellGenes = -1\n",
    "        #NumCloudGenes = -1\n",
    "        for line in f:\n",
    "            #print(line)\n",
    "            line_split = line.split(\": \")\n",
    "\n",
    "            Key = line_split[0].split(\" \")[0]\n",
    "            Value = line_split[-1].strip()\n",
    "\n",
    "            if Key == \"Persistent\": NumCoreGenes = int(Value)\n",
    "            elif Key == \"Shell\": NumShellGenes = int(Value)\n",
    "            elif Key == \"Cloud\": NumCloudGenes = int(Value)\n",
    "        print(NumShellGenes, NumCloudGenes)\n",
    "        NumAccessoryGenes = NumShellGenes + NumCloudGenes\n",
    "        NumTotalGenes = NumCoreGenes + NumAccessoryGenes\n",
    "\n",
    "        #print(NumCoreGenes, NumAccessoryGenes, NumTotalGenes)\n",
    "\n",
    "    listOf_PG_Rows = []\n",
    "    listOf_PG_Rows.append( (\"Total genes\", \"(0% <= strains <= 100%)\", NumTotalGenes) )\n",
    "    listOf_PG_Rows.append( (\"Accessory genes\", \"(0% <= strains < 99%)\", NumAccessoryGenes) )\n",
    "    listOf_PG_Rows.append( (\"Core genes\", \"(99% <= strains <= 100%)\", NumCoreGenes) )\n",
    "\n",
    "    PPanggolin_Summary_DF = pd.DataFrame(listOf_PG_Rows)\n",
    "    PPanggolin_Summary_DF.columns = [\"Category\", \"Range\", \"GeneCount\"]\n",
    "    \n",
    "    return PPanggolin_Summary_DF"
   ]
  },
  {
   "cell_type": "code",
   "execution_count": null,
   "id": "b2d88d8e-dff1-4f13-82aa-5e6de03f3d99",
   "metadata": {},
   "outputs": [],
   "source": []
  },
  {
   "cell_type": "markdown",
   "id": "52dc23fb-072b-4b9a-acfa-5b6f228f88f6",
   "metadata": {},
   "source": [
    "# Define functions for parsing and calculating pan-genome accumulation curves"
   ]
  },
  {
   "cell_type": "code",
   "execution_count": 11,
   "id": "6ab3d10b-2a06-42ae-b9c5-6326eb966d15",
   "metadata": {},
   "outputs": [],
   "source": [
    "pd.options.mode.chained_assignment = None  # default='warn'\n",
    "\n",
    "\n",
    "def parse_Panaroo_GenePresAbs_CSV(input_Gene_PresAbs_CSV_PATH):\n",
    "    i_Gene_PresAbs_DF = pd.read_csv(input_Gene_PresAbs_CSV_PATH, low_memory=False)\n",
    "\n",
    "    ### Relabel Columns for presence/absence tracking\n",
    "    i_Gene_PresAbs_DF.columns = [ x.split(\".Bakta\")[0] for x in i_Gene_PresAbs_DF.columns ]\n",
    "    i_Gene_PresAbs_DF.columns = [ x.split(\".PGAP.WiDNA\")[0] for x in i_Gene_PresAbs_DF.columns ]\n",
    "\n",
    "    ListOf_SampleID_Cols = list(i_Gene_PresAbs_DF.columns[3:].values)\n",
    "    len(ListOf_SampleID_Cols)\n",
    "\n",
    "    # https://stackoverflow.com/questions/12741092/pandas-dataframe-apply-function-to-all-columns\n",
    "    i_Gene_PresAbs_DF[ListOf_SampleID_Cols] = i_Gene_PresAbs_DF[ListOf_SampleID_Cols].applymap(lambda x: 1 if isinstance(x, str) else 0)                     \n",
    "    i_Gene_PresAbs_DF[\"NumAsm_WiGene\"] = i_Gene_PresAbs_DF[ListOf_SampleID_Cols].sum(axis = 1)\n",
    "\n",
    "    i_Gene_PresAbs_DF[\"FracPres\"] = i_Gene_PresAbs_DF[\"NumAsm_WiGene\"] / 158\n",
    "\n",
    "    return i_Gene_PresAbs_DF\n",
    "\n",
    "def parse_Panaroo_GenePresAbs_Rtab(input_Gene_PresAbs_Rtab_PATH):\n",
    "    i_Gene_PresAbs_DF = pd.read_csv(input_Gene_PresAbs_Rtab_PATH, sep = \"\\t\", low_memory=False)\n",
    "\n",
    "    ### Relabel Columns for presence/absence tracking\n",
    "    i_Gene_PresAbs_DF.columns = [ x.split(\".Bakta\")[0] for x in i_Gene_PresAbs_DF.columns ]\n",
    "    i_Gene_PresAbs_DF.columns = [ x.split(\".PGAP.WiDNA\")[0] for x in i_Gene_PresAbs_DF.columns ]\n",
    "    \n",
    "    ListOf_SampleID_Cols = list(i_Gene_PresAbs_DF.columns[1:].values)\n",
    "    len(ListOf_SampleID_Cols)\n",
    "\n",
    "    # https://stackoverflow.com/questions/12741092/pandas-dataframe-apply-function-to-all-columns\n",
    "    # i_Gene_PresAbs_DF[ListOf_SampleID_Cols] = i_Gene_PresAbs_DF[ListOf_SampleID_Cols].applymap(lambda x: 1 if isinstance(x, str) else 0)                     \n",
    "    i_Gene_PresAbs_DF[\"NumAsm_WiGene\"] = i_Gene_PresAbs_DF[ListOf_SampleID_Cols].sum(axis = 1)\n",
    "\n",
    "    i_Gene_PresAbs_DF[\"FracPres\"] = i_Gene_PresAbs_DF[\"NumAsm_WiGene\"] / 158\n",
    "\n",
    "    return i_Gene_PresAbs_DF\n",
    "\n",
    "\n",
    "\n",
    "def subsample_Pangenome_PresAbs_DF(i_Gene_PresAbs_DF, sampleIDs_Subset):\n",
    "    \n",
    "    i_Gene_PresAbs_DF.index = i_Gene_PresAbs_DF[\"Gene\"]\n",
    "\n",
    "    PresAbs_Subset_DF = i_Gene_PresAbs_DF[sampleIDs_Subset]\n",
    "\n",
    "    PresAbs_Subset_DF[\"NumAsm_WiGene\"] = PresAbs_Subset_DF.sum(axis = 1)\n",
    "\n",
    "    PresAbs_Subset_DF[\"FracPres\"] = PresAbs_Subset_DF[\"NumAsm_WiGene\"] / len(sampleIDs_Subset)\n",
    "\n",
    "    return PresAbs_Subset_DF\n"
   ]
  },
  {
   "cell_type": "code",
   "execution_count": 12,
   "id": "8b9078d3-0455-4da2-9872-93074040b2b8",
   "metadata": {},
   "outputs": [
    {
     "data": {
      "text/plain": [
       "[10, 15, 20]"
      ]
     },
     "execution_count": 12,
     "metadata": {},
     "output_type": "execute_result"
    }
   ],
   "source": [
    "list(np.arange(10, 20 + 1, 5)) #.append(20)"
   ]
  },
  {
   "cell_type": "code",
   "execution_count": 13,
   "id": "53f0edbe-6832-4a45-8e32-2ebd341a5427",
   "metadata": {},
   "outputs": [
    {
     "data": {
      "text/plain": [
       "[10, 15, 20, 10]"
      ]
     },
     "execution_count": 13,
     "metadata": {},
     "output_type": "execute_result"
    }
   ],
   "source": [
    "[10, 15, 20] + [10]"
   ]
  },
  {
   "cell_type": "code",
   "execution_count": 14,
   "id": "82298741-534c-4966-a11c-48e0a05e913a",
   "metadata": {},
   "outputs": [],
   "source": [
    "def generate_Pangenome_AccumCurve(i_Gene_PresAbs_DF, MinNumGenomes, MaxNumGenomes, NumIterationsPerN, input_SampleIDS, ):\n",
    "    \n",
    "    PG_AccumCurve_listOf_Rows = []\n",
    "\n",
    "    #MaxNumberOfGenomes = 140\n",
    "    #NumIterationsPerN = 60\n",
    "    \n",
    "    \n",
    "    RangeOfSampleSizes = list(np.arange(MinNumGenomes, MaxNumGenomes + 1, 5))\n",
    "    \n",
    "    # If the maximum # of samplesizes is not found, then add it to the list of samplesizes\n",
    "    if MaxNumGenomes not in RangeOfSampleSizes:\n",
    "        RangeOfSampleSizes += [MaxNumGenomes]\n",
    "\n",
    "\n",
    "    #for N in tqdm( RangeOfSampleSizes ):\n",
    "    for N in RangeOfSampleSizes:\n",
    "        for i in np.arange(1, NumIterationsPerN + 1):\n",
    "            subset_SampleIDs = np.random.choice(input_SampleIDS, size = N) \n",
    "\n",
    "            Y = subsample_Pangenome_PresAbs_DF(i_Gene_PresAbs_DF, subset_SampleIDs)\n",
    "\n",
    "            i_PanGenomeSize = Y.query(\"FracPres > 0\").shape[0]\n",
    "            i_CoreGenomeSize = Y.query(\"FracPres >= 0.99\").shape[0]\n",
    "            i_AccGenomeSize = Y.query(\"FracPres < 0.99 & FracPres > 0\").shape[0]\n",
    "\n",
    "\n",
    "            i_row = (N, i, i_PanGenomeSize, i_CoreGenomeSize, i_AccGenomeSize)\n",
    "\n",
    "            PG_AccumCurve_listOf_Rows.append(i_row)\n",
    "\n",
    "\n",
    "    PG_AccumCurves_DF = pd.DataFrame(PG_AccumCurve_listOf_Rows)\n",
    "    PG_AccumCurves_DF.columns = [\"NumGenomes\",  \"IterationNum\", \"PanGenomeSize\", \"CoreGenomeSize\", \"AccGenomeSize\"]\n",
    "\n",
    "\n",
    "    PG_AccumCurve_Mean_DF = PG_AccumCurves_DF.groupby([\"NumGenomes\"]).mean().reset_index() # \"DataSet\", \"Method\", \"SeqTech\", \n",
    "    PG_AccumCurve_Mean_DF = PG_AccumCurve_Mean_DF.drop(\"IterationNum\", axis = 1)\n",
    "\n",
    "    PG_AccumCurve_SEM_DF = PG_AccumCurves_DF.groupby([\"NumGenomes\"]).sem().reset_index() # \"DataSet\", \"Method\", \"SeqTech\", \n",
    "    PG_AccumCurve_SEM_DF = PG_AccumCurve_SEM_DF.drop(\"IterationNum\", axis = 1)\n",
    "\n",
    "    #ColumnsToMergeOn = [\"DataSet\", \"Method\", \"SeqTech\", \"NumGenomes\"]\n",
    "    ColumnsToMergeOn = [\"NumGenomes\"]\n",
    "\n",
    "    PG_AccumCurve_Summ_DF = PG_AccumCurve_Mean_DF.merge(PG_AccumCurve_SEM_DF,\n",
    "                                                         left_on = ColumnsToMergeOn,\n",
    "                                                         right_on = ColumnsToMergeOn,\n",
    "                                                         suffixes=('_MEAN', '_SEM') ).reset_index(drop=True)\n",
    "\n",
    "    return PG_AccumCurve_Summ_DF, PG_AccumCurves_DF\n"
   ]
  },
  {
   "cell_type": "code",
   "execution_count": null,
   "id": "a7b830d5-081d-444c-b028-2c2d947ee4c0",
   "metadata": {},
   "outputs": [],
   "source": []
  },
  {
   "cell_type": "code",
   "execution_count": null,
   "id": "25d2bee5-4bbe-477b-aeec-b1807aeb2177",
   "metadata": {},
   "outputs": [],
   "source": []
  },
  {
   "cell_type": "markdown",
   "id": "0b359712-d384-462a-acbb-281a3ff8e7cf",
   "metadata": {},
   "source": [
    "# Define output dir of the Mtb-WGA-SMK processing pipeline"
   ]
  },
  {
   "cell_type": "code",
   "execution_count": 15,
   "id": "dde56264-3194-4858-8270-b4d3e37f04fc",
   "metadata": {},
   "outputs": [],
   "source": [
    "# Define pipeline output directories\n",
    "\n",
    "WGA_SMK_Outputs_Dir = \"/n/data1/hms/dbmi/farhat/mm774/Projects/Mtb-WGA-SMK-Output\"\n",
    "\n",
    "#MtbWGA_SMK_Pipeline_OutputDir = WGA_SMK_Outputs_Dir + \"/220427_WGA158CI_V1\"\n",
    "WGA151CI_SMK_OutputDir = WGA_SMK_Outputs_Dir + \"/231121_MtbSetV3_151CI\"\n",
    "Mtb_SMK_Pipeline_OutputDir = WGA151CI_SMK_OutputDir"
   ]
  },
  {
   "cell_type": "code",
   "execution_count": null,
   "id": "da39cd3d-14f4-4ef1-8c25-46dea68a9da2",
   "metadata": {},
   "outputs": [],
   "source": []
  },
  {
   "cell_type": "markdown",
   "id": "6e0ab1b0-5b84-4335-a729-3da7a917b1fc",
   "metadata": {
    "tags": []
   },
   "source": [
    "## Define output dirs of pipeline"
   ]
  },
  {
   "cell_type": "code",
   "execution_count": 16,
   "id": "816a6cfe-e970-47e8-880f-e73c9f8069b3",
   "metadata": {},
   "outputs": [
    {
     "name": "stderr",
     "output_type": "stream",
     "text": [
      "100%|██████████| 11/11 [00:00<00:00, 95.33it/s]\n",
      "100%|██████████| 11/11 [00:00<00:00, 89.53it/s]\n",
      "  0%|          | 0/11 [00:00<?, ?it/s]"
     ]
    },
    {
     "name": "stdout",
     "output_type": "stream",
     "text": [
      "54 739\n",
      "290 1045\n"
     ]
    },
    {
     "name": "stderr",
     "output_type": "stream",
     "text": [
      "100%|██████████| 11/11 [00:00<00:00, 106.89it/s]\n",
      "100%|██████████| 11/11 [00:00<00:00, 106.05it/s]"
     ]
    },
    {
     "name": "stdout",
     "output_type": "stream",
     "text": [
      "11 209\n",
      "1 314\n"
     ]
    },
    {
     "name": "stderr",
     "output_type": "stream",
     "text": [
      "\n"
     ]
    }
   ],
   "source": [
    "\n",
    "PipeName_WiParam_List = ['Panaroo_Strict_MergeParalogs', 'Panaroo_Moderate_MergeParalogs',\n",
    "                         'Panaroo_Sensitive_MergeParalogs', 'Panaroo_Strict',\n",
    "                         'Panaroo_Moderate', 'Panaroo_Sensitive',  'Roary_NoSplitParalogs_I80', 'Roary_NoSplitParalogs_I90',\n",
    "                         'Roary_NoSplitParalogs',  'Roary_Default', 'Ppanggolin_Default',] #'Ppanggolin_I95', 'Ppanggolin_I90' ]\n",
    "\n",
    "\n",
    "target_OutputDir = Mtb_SMK_Pipeline_OutputDir\n",
    "\n",
    "i_Pangenome_Dir = f\"{target_OutputDir}/PanGenome_Analysis\"\n",
    "\n",
    "listOfCat_ToKeep = [\"Core genes\", \"Accessory genes\", \"Total genes\"]\n",
    "\n",
    "\n",
    "dictOf_PG_OutInfo = {}\n",
    "dictOf_PG_PresAbs_DF = {}\n",
    "dictOf_PG_OutDir_PATHs = {}\n",
    "\n",
    "for i_SampleSet in [\"All\"]:\n",
    "    \n",
    "    dictOf_PG_OutInfo[i_SampleSet] = {}\n",
    "    dictOf_PG_OutDir_PATHs[i_SampleSet] = {}\n",
    "    dictOf_PG_PresAbs_DF[i_SampleSet] = {}\n",
    "    \n",
    "    for AnnoPipeline in [\"Bakta\", \"PGAP\"]:\n",
    "        \n",
    "        dictOf_PG_OutInfo[i_SampleSet][AnnoPipeline] = {}\n",
    "        dictOf_PG_OutDir_PATHs[i_SampleSet][AnnoPipeline] = {}\n",
    "        dictOf_PG_PresAbs_DF[i_SampleSet][AnnoPipeline] = {}\n",
    "        \n",
    "        for AsmTech in [\"LongRead\", \"ShortRead\"]:       \n",
    "            \n",
    "            dictOf_PG_OutInfo[i_SampleSet][AnnoPipeline][AsmTech] = {}\n",
    "            dictOf_PG_OutDir_PATHs[i_SampleSet][AnnoPipeline][AsmTech] = {}\n",
    "            dictOf_PG_PresAbs_DF[i_SampleSet][AnnoPipeline][AsmTech] = {}\n",
    "            \n",
    "            \n",
    "            for i_PipeNameWiParam in tqdm(PipeName_WiParam_List):\n",
    "                \n",
    "                dictOf_PG_OutDir_PATHs[i_SampleSet][AnnoPipeline][AsmTech][i_PipeNameWiParam] = {}\n",
    "                                \n",
    "                if i_SampleSet == \"All\": DataSetSuffix = \"_AllIsolates\"  \n",
    "\n",
    "                if AsmTech == \"LongRead\": SeqTechPrefix = \"\"\n",
    "                elif AsmTech == \"ShortRead\": SeqTechPrefix = \"SR_\"\n",
    "\n",
    "                if AnnoPipeline == \"Bakta\": AnnoSuffix = \"\"\n",
    "                elif AnnoPipeline == \"PGAP\": AnnoSuffix = \"_WiPGAPAnno_V1\"\n",
    "\n",
    "\n",
    "                i_Pipeline_OutDir = f\"{i_Pangenome_Dir}/{SeqTechPrefix}{i_PipeNameWiParam}{DataSetSuffix}{AnnoSuffix}\"\n",
    "\n",
    "                if \"Panaroo\" in i_PipeNameWiParam:\n",
    "                    i_PG_Summary_Txt = f\"{i_Pipeline_OutDir}/summary_statistics.txt\"\n",
    "\n",
    "                    i_PG_Stats_DF = read_PanarooSummaryStats(i_PG_Summary_Txt)\n",
    "                    i_PG_Stats_DF[\"Annotation\"] = AnnoPipeline\n",
    "                    i_PG_Stats_DF[\"Method\"] = i_PipeNameWiParam\n",
    "                    i_PG_Stats_DF[\"SeqType\"] = AsmTech\n",
    "                    i_PG_Stats_DF[\"DataSet\"] = i_SampleSet\n",
    "                    \n",
    "                    i_PG_Stats_DF = i_PG_Stats_DF[ i_PG_Stats_DF[\"Category\"].isin(listOfCat_ToKeep)]   \n",
    "                    \n",
    "                    i_Gene_PresAbs_CSV_PATH = f\"{i_Pipeline_OutDir}/gene_presence_absence.csv\"    \n",
    "                    i_Pangenome_Ref_FA_PATH = f\"{i_Pipeline_OutDir}/pan_genome_reference.fa\"\n",
    "                    \n",
    "                    #i_Gene_PresAbs_DF = parse_Panaroo_GenePresAbs_CSV(i_Gene_PresAbs_CSV_PATH)  \n",
    "\n",
    "                    dictOf_PG_OutDir_PATHs[i_SampleSet][AnnoPipeline][AsmTech][i_PipeNameWiParam][\"PresAbs_CSV\"] = i_Gene_PresAbs_CSV_PATH\n",
    "                    dictOf_PG_OutDir_PATHs[i_SampleSet][AnnoPipeline][AsmTech][i_PipeNameWiParam][\"Pangenome_Ref_FA\"] = i_Pangenome_Ref_FA_PATH\n",
    "\n",
    "\n",
    "                elif \"Roary\" in i_PipeNameWiParam:\n",
    "                    i_PG_Summary_Txt = f\"{i_Pipeline_OutDir}/summary_statistics.txt\"\n",
    "\n",
    "                    i_PG_Stats_DF = read_PanarooSummaryStats(i_PG_Summary_Txt)\n",
    "                    i_PG_Stats_DF[\"Annotation\"] = AnnoPipeline\n",
    "                    i_PG_Stats_DF[\"Method\"] = i_PipeNameWiParam\n",
    "                    i_PG_Stats_DF[\"SeqType\"] = AsmTech\n",
    "                    i_PG_Stats_DF[\"DataSet\"] = i_SampleSet\n",
    "                    \n",
    "                    i_PG_Stats_DF = i_PG_Stats_DF[ i_PG_Stats_DF[\"Category\"].isin(listOfCat_ToKeep)]   \n",
    "\n",
    "                    i_Gene_PresAbs_CSV_PATH = f\"{i_Pipeline_OutDir}/gene_presence_absence.csv\"    \n",
    "\n",
    "                    i_Pangenome_Ref_FA_PATH = f\"{i_Pipeline_OutDir}/pan_genome_reference.fa\"\n",
    "                    \n",
    "                    dictOf_PG_OutDir_PATHs[i_SampleSet][AnnoPipeline][AsmTech][i_PipeNameWiParam][\"PresAbs_CSV\"] = i_Gene_PresAbs_CSV_PATH\n",
    "                    dictOf_PG_OutDir_PATHs[i_SampleSet][AnnoPipeline][AsmTech][i_PipeNameWiParam][\"Pangenome_Ref_FA\"] = i_Pangenome_Ref_FA_PATH\n",
    "\n",
    "                    \n",
    "                elif \"Ppanggolin\" in i_PipeNameWiParam:\n",
    "                    #print(i_PipeNameWiParam)\n",
    "                    i_PG_Summary_Txt = f\"{i_Pipeline_OutDir}/pangenome.ContentSummary.txt\"\n",
    "                    #print(i_PG_Summary_Txt)\n",
    "                    #!grep 'Families' $i_PG_Summary_Txt \n",
    "                    \n",
    "                    i_PG_Stats_DF = read_Ppanggolin_ContextStats(i_PG_Summary_Txt, False)\n",
    "                    i_PG_Stats_DF[\"Annotation\"] = AnnoPipeline\n",
    "                    i_PG_Stats_DF[\"Method\"] = i_PipeNameWiParam\n",
    "                    i_PG_Stats_DF[\"SeqType\"] = AsmTech\n",
    "                    i_PG_Stats_DF[\"DataSet\"] = i_SampleSet\n",
    "                    #print(i_PG_Stats_DF)\n",
    "                    \n",
    "                    i_PG_Stats_DF = i_PG_Stats_DF[ i_PG_Stats_DF[\"Category\"].isin(listOfCat_ToKeep)]   \n",
    "\n",
    "                    i_Gene_PresAbs_Rtab_PATH = f\"{i_Pipeline_OutDir}/gene_presence_absence.Rtab\"    \n",
    "                    \n",
    "                    #i_Gene_PresAbs_DF = parse_Panaroo_GenePresAbs_Rtab(i_Gene_PresAbs_Rtab_PATH)\n",
    "                                          \n",
    "                    dictOf_PG_OutDir_PATHs[i_SampleSet][AnnoPipeline][AsmTech][i_PipeNameWiParam][\"PresAbs_Rtab\"] = i_Gene_PresAbs_Rtab_PATH\n",
    "\n",
    "\n",
    "                dictOf_PG_OutInfo[i_SampleSet][AnnoPipeline][AsmTech][i_PipeNameWiParam] = i_PG_Stats_DF\n",
    "                \n",
    "                #dictOf_PG_PresAbs_DF[i_SampleSet][AnnoPipeline][AsmTech][i_PipeNameWiParam] = i_Gene_PresAbs_DF\n",
    "                \n",
    "                dictOf_PG_OutDir_PATHs[i_SampleSet][AnnoPipeline][AsmTech][i_PipeNameWiParam][\"Stats_TXT\"] = i_PG_Summary_Txt\n"
   ]
  },
  {
   "cell_type": "code",
   "execution_count": 17,
   "id": "d522459e-1b65-4d68-90f9-2fb427e49f39",
   "metadata": {},
   "outputs": [
    {
     "data": {
      "text/html": [
       "<div>\n",
       "<style scoped>\n",
       "    .dataframe tbody tr th:only-of-type {\n",
       "        vertical-align: middle;\n",
       "    }\n",
       "\n",
       "    .dataframe tbody tr th {\n",
       "        vertical-align: top;\n",
       "    }\n",
       "\n",
       "    .dataframe thead th {\n",
       "        text-align: right;\n",
       "    }\n",
       "</style>\n",
       "<table border=\"1\" class=\"dataframe\">\n",
       "  <thead>\n",
       "    <tr style=\"text-align: right;\">\n",
       "      <th></th>\n",
       "      <th>Category</th>\n",
       "      <th>Range</th>\n",
       "      <th>GeneCount</th>\n",
       "      <th>Annotation</th>\n",
       "      <th>Method</th>\n",
       "      <th>SeqType</th>\n",
       "      <th>DataSet</th>\n",
       "    </tr>\n",
       "  </thead>\n",
       "  <tbody>\n",
       "    <tr>\n",
       "      <th>0</th>\n",
       "      <td>Total genes</td>\n",
       "      <td>(0% &lt;= strains &lt;= 100%)</td>\n",
       "      <td>4557</td>\n",
       "      <td>Bakta</td>\n",
       "      <td>Ppanggolin_Default</td>\n",
       "      <td>LongRead</td>\n",
       "      <td>All</td>\n",
       "    </tr>\n",
       "    <tr>\n",
       "      <th>1</th>\n",
       "      <td>Accessory genes</td>\n",
       "      <td>(0% &lt;= strains &lt; 99%)</td>\n",
       "      <td>793</td>\n",
       "      <td>Bakta</td>\n",
       "      <td>Ppanggolin_Default</td>\n",
       "      <td>LongRead</td>\n",
       "      <td>All</td>\n",
       "    </tr>\n",
       "    <tr>\n",
       "      <th>2</th>\n",
       "      <td>Core genes</td>\n",
       "      <td>(99% &lt;= strains &lt;= 100%)</td>\n",
       "      <td>3764</td>\n",
       "      <td>Bakta</td>\n",
       "      <td>Ppanggolin_Default</td>\n",
       "      <td>LongRead</td>\n",
       "      <td>All</td>\n",
       "    </tr>\n",
       "  </tbody>\n",
       "</table>\n",
       "</div>"
      ],
      "text/plain": [
       "          Category                     Range  GeneCount Annotation              Method   SeqType DataSet\n",
       "0      Total genes   (0% <= strains <= 100%)       4557      Bakta  Ppanggolin_Default  LongRead     All\n",
       "1  Accessory genes     (0% <= strains < 99%)        793      Bakta  Ppanggolin_Default  LongRead     All\n",
       "2       Core genes  (99% <= strains <= 100%)       3764      Bakta  Ppanggolin_Default  LongRead     All"
      ]
     },
     "execution_count": 17,
     "metadata": {},
     "output_type": "execute_result"
    }
   ],
   "source": [
    "dictOf_PG_OutInfo[\"All\"][\"Bakta\"][\"LongRead\"][\"Ppanggolin_Default\"]"
   ]
  },
  {
   "cell_type": "code",
   "execution_count": 143,
   "id": "f31d13d9-d3da-4347-9536-5c536cf4511c",
   "metadata": {},
   "outputs": [],
   "source": [
    "#dictOf_PG_OutInfo[\"All\"][\"Bakta\"][\"LongRead\"][\"Ppanggolin_I95\"]"
   ]
  },
  {
   "cell_type": "code",
   "execution_count": null,
   "id": "8bfc82c8-b89d-4e28-977b-e510c29c2ce9",
   "metadata": {},
   "outputs": [],
   "source": []
  },
  {
   "cell_type": "code",
   "execution_count": 18,
   "id": "7a2ed1b2-9b48-4c64-9426-9f244cb53c49",
   "metadata": {},
   "outputs": [
    {
     "name": "stdout",
     "output_type": "stream",
     "text": [
      "gene_presence_absence.Rtab\n",
      "matrix.csv\n",
      "mean_persistent_duplication.tsv\n",
      "organisms_statistics.tsv\n",
      "pangenome.ContentSummary.txt\n",
      "pangenomeGraph.gexf.gz\n",
      "pangenomeGraph.json\n",
      "pangenomeGraph_light.gexf.gz\n",
      "pangenome.h5\n",
      "partitions\n",
      "projection\n",
      "tile_plot.html\n",
      "Ushaped_plot.html\n"
     ]
    }
   ],
   "source": [
    "!ls -1 /n/data1/hms/dbmi/farhat/mm774/Projects/Mtb-WGA-SMK-Output/231121_MtbSetV3_151CI/PanGenome_Analysis/Ppanggolin_Default_AllIsolates/"
   ]
  },
  {
   "cell_type": "code",
   "execution_count": null,
   "id": "314b8980-d02f-493a-a9e7-30c10ea6227a",
   "metadata": {},
   "outputs": [],
   "source": []
  },
  {
   "cell_type": "code",
   "execution_count": 145,
   "id": "2d831064-cfea-4503-9151-69810cc6b3b7",
   "metadata": {},
   "outputs": [],
   "source": [
    "#!ls -1 /n/data1/hms/dbmi/farhat/mm774/Projects/Mtb-WGA-SMK-Output/231121_MtbSetV3_151CI/PanGenome_Analysis/\n"
   ]
  },
  {
   "cell_type": "code",
   "execution_count": 146,
   "id": "32f3a2b3-d9cc-4d7d-b218-b0d18c508376",
   "metadata": {},
   "outputs": [],
   "source": [
    "#dictOf_PG_OutInfo[\"All\"][\"PGAP\"][\"LongRead\"][\"Panaroo_Strict_MergeParalogs\"]"
   ]
  },
  {
   "cell_type": "code",
   "execution_count": 19,
   "id": "2500a480-c7b3-4a0c-97fd-e3dd7bf5feda",
   "metadata": {},
   "outputs": [
    {
     "data": {
      "text/html": [
       "<div>\n",
       "<style scoped>\n",
       "    .dataframe tbody tr th:only-of-type {\n",
       "        vertical-align: middle;\n",
       "    }\n",
       "\n",
       "    .dataframe tbody tr th {\n",
       "        vertical-align: top;\n",
       "    }\n",
       "\n",
       "    .dataframe thead th {\n",
       "        text-align: right;\n",
       "    }\n",
       "</style>\n",
       "<table border=\"1\" class=\"dataframe\">\n",
       "  <thead>\n",
       "    <tr style=\"text-align: right;\">\n",
       "      <th></th>\n",
       "      <th>Category</th>\n",
       "      <th>Range</th>\n",
       "      <th>GeneCount</th>\n",
       "      <th>Annotation</th>\n",
       "      <th>Method</th>\n",
       "      <th>SeqType</th>\n",
       "      <th>DataSet</th>\n",
       "    </tr>\n",
       "  </thead>\n",
       "  <tbody>\n",
       "    <tr>\n",
       "      <th>0</th>\n",
       "      <td>Core genes</td>\n",
       "      <td>(99% &lt;= strains &lt;= 100%)</td>\n",
       "      <td>3779</td>\n",
       "      <td>Bakta</td>\n",
       "      <td>Panaroo_Strict_MergeParalogs</td>\n",
       "      <td>LongRead</td>\n",
       "      <td>All</td>\n",
       "    </tr>\n",
       "    <tr>\n",
       "      <th>4</th>\n",
       "      <td>Total genes</td>\n",
       "      <td>(0% &lt;= strains &lt;= 100%)</td>\n",
       "      <td>4200</td>\n",
       "      <td>Bakta</td>\n",
       "      <td>Panaroo_Strict_MergeParalogs</td>\n",
       "      <td>LongRead</td>\n",
       "      <td>All</td>\n",
       "    </tr>\n",
       "    <tr>\n",
       "      <th>5</th>\n",
       "      <td>Accessory genes</td>\n",
       "      <td>(0% &lt;= strains &lt; 99%)</td>\n",
       "      <td>421</td>\n",
       "      <td>Bakta</td>\n",
       "      <td>Panaroo_Strict_MergeParalogs</td>\n",
       "      <td>LongRead</td>\n",
       "      <td>All</td>\n",
       "    </tr>\n",
       "  </tbody>\n",
       "</table>\n",
       "</div>"
      ],
      "text/plain": [
       "          Category                     Range  GeneCount Annotation                        Method   SeqType DataSet\n",
       "0       Core genes  (99% <= strains <= 100%)       3779      Bakta  Panaroo_Strict_MergeParalogs  LongRead     All\n",
       "4      Total genes   (0% <= strains <= 100%)       4200      Bakta  Panaroo_Strict_MergeParalogs  LongRead     All\n",
       "5  Accessory genes     (0% <= strains < 99%)        421      Bakta  Panaroo_Strict_MergeParalogs  LongRead     All"
      ]
     },
     "execution_count": 19,
     "metadata": {},
     "output_type": "execute_result"
    }
   ],
   "source": [
    "dictOf_PG_OutInfo[\"All\"][\"Bakta\"][\"LongRead\"][\"Panaroo_Strict_MergeParalogs\"]"
   ]
  },
  {
   "cell_type": "code",
   "execution_count": 20,
   "id": "967804bc-52b7-44dd-bc2f-d4078e435c92",
   "metadata": {},
   "outputs": [
    {
     "data": {
      "text/html": [
       "<div>\n",
       "<style scoped>\n",
       "    .dataframe tbody tr th:only-of-type {\n",
       "        vertical-align: middle;\n",
       "    }\n",
       "\n",
       "    .dataframe tbody tr th {\n",
       "        vertical-align: top;\n",
       "    }\n",
       "\n",
       "    .dataframe thead th {\n",
       "        text-align: right;\n",
       "    }\n",
       "</style>\n",
       "<table border=\"1\" class=\"dataframe\">\n",
       "  <thead>\n",
       "    <tr style=\"text-align: right;\">\n",
       "      <th></th>\n",
       "      <th>Category</th>\n",
       "      <th>Range</th>\n",
       "      <th>GeneCount</th>\n",
       "      <th>Annotation</th>\n",
       "      <th>Method</th>\n",
       "      <th>SeqType</th>\n",
       "      <th>DataSet</th>\n",
       "    </tr>\n",
       "  </thead>\n",
       "  <tbody>\n",
       "    <tr>\n",
       "      <th>0</th>\n",
       "      <td>Core genes</td>\n",
       "      <td>(99% &lt;= strains &lt;= 100%)</td>\n",
       "      <td>3750</td>\n",
       "      <td>PGAP</td>\n",
       "      <td>Panaroo_Strict_MergeParalogs</td>\n",
       "      <td>LongRead</td>\n",
       "      <td>All</td>\n",
       "    </tr>\n",
       "    <tr>\n",
       "      <th>4</th>\n",
       "      <td>Total genes</td>\n",
       "      <td>(0% &lt;= strains &lt;= 100%)</td>\n",
       "      <td>4063</td>\n",
       "      <td>PGAP</td>\n",
       "      <td>Panaroo_Strict_MergeParalogs</td>\n",
       "      <td>LongRead</td>\n",
       "      <td>All</td>\n",
       "    </tr>\n",
       "    <tr>\n",
       "      <th>5</th>\n",
       "      <td>Accessory genes</td>\n",
       "      <td>(0% &lt;= strains &lt; 99%)</td>\n",
       "      <td>313</td>\n",
       "      <td>PGAP</td>\n",
       "      <td>Panaroo_Strict_MergeParalogs</td>\n",
       "      <td>LongRead</td>\n",
       "      <td>All</td>\n",
       "    </tr>\n",
       "  </tbody>\n",
       "</table>\n",
       "</div>"
      ],
      "text/plain": [
       "          Category                     Range  GeneCount Annotation                        Method   SeqType DataSet\n",
       "0       Core genes  (99% <= strains <= 100%)       3750       PGAP  Panaroo_Strict_MergeParalogs  LongRead     All\n",
       "4      Total genes   (0% <= strains <= 100%)       4063       PGAP  Panaroo_Strict_MergeParalogs  LongRead     All\n",
       "5  Accessory genes     (0% <= strains < 99%)        313       PGAP  Panaroo_Strict_MergeParalogs  LongRead     All"
      ]
     },
     "execution_count": 20,
     "metadata": {},
     "output_type": "execute_result"
    }
   ],
   "source": [
    "dictOf_PG_OutInfo[\"All\"][\"PGAP\"][\"LongRead\"][\"Panaroo_Strict_MergeParalogs\"]"
   ]
  },
  {
   "cell_type": "code",
   "execution_count": 21,
   "id": "8466caa7-b360-4ac4-9cec-5d2855cc2070",
   "metadata": {},
   "outputs": [
    {
     "data": {
      "text/html": [
       "<div>\n",
       "<style scoped>\n",
       "    .dataframe tbody tr th:only-of-type {\n",
       "        vertical-align: middle;\n",
       "    }\n",
       "\n",
       "    .dataframe tbody tr th {\n",
       "        vertical-align: top;\n",
       "    }\n",
       "\n",
       "    .dataframe thead th {\n",
       "        text-align: right;\n",
       "    }\n",
       "</style>\n",
       "<table border=\"1\" class=\"dataframe\">\n",
       "  <thead>\n",
       "    <tr style=\"text-align: right;\">\n",
       "      <th></th>\n",
       "      <th>Category</th>\n",
       "      <th>Range</th>\n",
       "      <th>GeneCount</th>\n",
       "      <th>Annotation</th>\n",
       "      <th>Method</th>\n",
       "      <th>SeqType</th>\n",
       "      <th>DataSet</th>\n",
       "    </tr>\n",
       "  </thead>\n",
       "  <tbody>\n",
       "    <tr>\n",
       "      <th>0</th>\n",
       "      <td>Core genes</td>\n",
       "      <td>(99% &lt;= strains &lt;= 100%)</td>\n",
       "      <td>3489</td>\n",
       "      <td>PGAP</td>\n",
       "      <td>Panaroo_Strict_MergeParalogs</td>\n",
       "      <td>ShortRead</td>\n",
       "      <td>All</td>\n",
       "    </tr>\n",
       "    <tr>\n",
       "      <th>4</th>\n",
       "      <td>Total genes</td>\n",
       "      <td>(0% &lt;= strains &lt;= 100%)</td>\n",
       "      <td>4014</td>\n",
       "      <td>PGAP</td>\n",
       "      <td>Panaroo_Strict_MergeParalogs</td>\n",
       "      <td>ShortRead</td>\n",
       "      <td>All</td>\n",
       "    </tr>\n",
       "    <tr>\n",
       "      <th>5</th>\n",
       "      <td>Accessory genes</td>\n",
       "      <td>(0% &lt;= strains &lt; 99%)</td>\n",
       "      <td>525</td>\n",
       "      <td>PGAP</td>\n",
       "      <td>Panaroo_Strict_MergeParalogs</td>\n",
       "      <td>ShortRead</td>\n",
       "      <td>All</td>\n",
       "    </tr>\n",
       "  </tbody>\n",
       "</table>\n",
       "</div>"
      ],
      "text/plain": [
       "          Category                     Range  GeneCount Annotation                        Method    SeqType DataSet\n",
       "0       Core genes  (99% <= strains <= 100%)       3489       PGAP  Panaroo_Strict_MergeParalogs  ShortRead     All\n",
       "4      Total genes   (0% <= strains <= 100%)       4014       PGAP  Panaroo_Strict_MergeParalogs  ShortRead     All\n",
       "5  Accessory genes     (0% <= strains < 99%)        525       PGAP  Panaroo_Strict_MergeParalogs  ShortRead     All"
      ]
     },
     "execution_count": 21,
     "metadata": {},
     "output_type": "execute_result"
    }
   ],
   "source": [
    "dictOf_PG_OutInfo[\"All\"][\"PGAP\"][\"ShortRead\"][\"Panaroo_Strict_MergeParalogs\"]"
   ]
  },
  {
   "cell_type": "code",
   "execution_count": null,
   "id": "0a4e2a0a-6923-4a6e-b286-f29464f3e284",
   "metadata": {},
   "outputs": [],
   "source": []
  },
  {
   "cell_type": "code",
   "execution_count": 22,
   "id": "4e9f4e21-f622-47f3-a0f2-21012a01aa4f",
   "metadata": {},
   "outputs": [
    {
     "data": {
      "text/html": [
       "<div>\n",
       "<style scoped>\n",
       "    .dataframe tbody tr th:only-of-type {\n",
       "        vertical-align: middle;\n",
       "    }\n",
       "\n",
       "    .dataframe tbody tr th {\n",
       "        vertical-align: top;\n",
       "    }\n",
       "\n",
       "    .dataframe thead th {\n",
       "        text-align: right;\n",
       "    }\n",
       "</style>\n",
       "<table border=\"1\" class=\"dataframe\">\n",
       "  <thead>\n",
       "    <tr style=\"text-align: right;\">\n",
       "      <th></th>\n",
       "      <th>Category</th>\n",
       "      <th>Range</th>\n",
       "      <th>GeneCount</th>\n",
       "      <th>Annotation</th>\n",
       "      <th>Method</th>\n",
       "      <th>SeqType</th>\n",
       "      <th>DataSet</th>\n",
       "    </tr>\n",
       "  </thead>\n",
       "  <tbody>\n",
       "    <tr>\n",
       "      <th>0</th>\n",
       "      <td>Total genes</td>\n",
       "      <td>(0% &lt;= strains &lt;= 100%)</td>\n",
       "      <td>4557</td>\n",
       "      <td>Bakta</td>\n",
       "      <td>Ppanggolin_Default</td>\n",
       "      <td>LongRead</td>\n",
       "      <td>All</td>\n",
       "    </tr>\n",
       "    <tr>\n",
       "      <th>1</th>\n",
       "      <td>Accessory genes</td>\n",
       "      <td>(0% &lt;= strains &lt; 99%)</td>\n",
       "      <td>793</td>\n",
       "      <td>Bakta</td>\n",
       "      <td>Ppanggolin_Default</td>\n",
       "      <td>LongRead</td>\n",
       "      <td>All</td>\n",
       "    </tr>\n",
       "    <tr>\n",
       "      <th>2</th>\n",
       "      <td>Core genes</td>\n",
       "      <td>(99% &lt;= strains &lt;= 100%)</td>\n",
       "      <td>3764</td>\n",
       "      <td>Bakta</td>\n",
       "      <td>Ppanggolin_Default</td>\n",
       "      <td>LongRead</td>\n",
       "      <td>All</td>\n",
       "    </tr>\n",
       "  </tbody>\n",
       "</table>\n",
       "</div>"
      ],
      "text/plain": [
       "          Category                     Range  GeneCount Annotation              Method   SeqType DataSet\n",
       "0      Total genes   (0% <= strains <= 100%)       4557      Bakta  Ppanggolin_Default  LongRead     All\n",
       "1  Accessory genes     (0% <= strains < 99%)        793      Bakta  Ppanggolin_Default  LongRead     All\n",
       "2       Core genes  (99% <= strains <= 100%)       3764      Bakta  Ppanggolin_Default  LongRead     All"
      ]
     },
     "execution_count": 22,
     "metadata": {},
     "output_type": "execute_result"
    }
   ],
   "source": [
    "dictOf_PG_OutInfo[\"All\"][\"Bakta\"][\"LongRead\"][\"Ppanggolin_Default\"]"
   ]
  },
  {
   "cell_type": "code",
   "execution_count": 23,
   "id": "a784ae7e-f488-4e0b-816a-d716554633d1",
   "metadata": {},
   "outputs": [
    {
     "data": {
      "text/html": [
       "<div>\n",
       "<style scoped>\n",
       "    .dataframe tbody tr th:only-of-type {\n",
       "        vertical-align: middle;\n",
       "    }\n",
       "\n",
       "    .dataframe tbody tr th {\n",
       "        vertical-align: top;\n",
       "    }\n",
       "\n",
       "    .dataframe thead th {\n",
       "        text-align: right;\n",
       "    }\n",
       "</style>\n",
       "<table border=\"1\" class=\"dataframe\">\n",
       "  <thead>\n",
       "    <tr style=\"text-align: right;\">\n",
       "      <th></th>\n",
       "      <th>Category</th>\n",
       "      <th>Range</th>\n",
       "      <th>GeneCount</th>\n",
       "      <th>Annotation</th>\n",
       "      <th>Method</th>\n",
       "      <th>SeqType</th>\n",
       "      <th>DataSet</th>\n",
       "    </tr>\n",
       "  </thead>\n",
       "  <tbody>\n",
       "    <tr>\n",
       "      <th>0</th>\n",
       "      <td>Total genes</td>\n",
       "      <td>(0% &lt;= strains &lt;= 100%)</td>\n",
       "      <td>4998</td>\n",
       "      <td>Bakta</td>\n",
       "      <td>Ppanggolin_Default</td>\n",
       "      <td>ShortRead</td>\n",
       "      <td>All</td>\n",
       "    </tr>\n",
       "    <tr>\n",
       "      <th>1</th>\n",
       "      <td>Accessory genes</td>\n",
       "      <td>(0% &lt;= strains &lt; 99%)</td>\n",
       "      <td>1335</td>\n",
       "      <td>Bakta</td>\n",
       "      <td>Ppanggolin_Default</td>\n",
       "      <td>ShortRead</td>\n",
       "      <td>All</td>\n",
       "    </tr>\n",
       "    <tr>\n",
       "      <th>2</th>\n",
       "      <td>Core genes</td>\n",
       "      <td>(99% &lt;= strains &lt;= 100%)</td>\n",
       "      <td>3663</td>\n",
       "      <td>Bakta</td>\n",
       "      <td>Ppanggolin_Default</td>\n",
       "      <td>ShortRead</td>\n",
       "      <td>All</td>\n",
       "    </tr>\n",
       "  </tbody>\n",
       "</table>\n",
       "</div>"
      ],
      "text/plain": [
       "          Category                     Range  GeneCount Annotation              Method    SeqType DataSet\n",
       "0      Total genes   (0% <= strains <= 100%)       4998      Bakta  Ppanggolin_Default  ShortRead     All\n",
       "1  Accessory genes     (0% <= strains < 99%)       1335      Bakta  Ppanggolin_Default  ShortRead     All\n",
       "2       Core genes  (99% <= strains <= 100%)       3663      Bakta  Ppanggolin_Default  ShortRead     All"
      ]
     },
     "execution_count": 23,
     "metadata": {},
     "output_type": "execute_result"
    }
   ],
   "source": [
    "dictOf_PG_OutInfo[\"All\"][\"Bakta\"][\"ShortRead\"][\"Ppanggolin_Default\"]"
   ]
  },
  {
   "cell_type": "code",
   "execution_count": 24,
   "id": "14efd687-b000-48e6-85f7-0651a6e11b69",
   "metadata": {},
   "outputs": [
    {
     "data": {
      "text/html": [
       "<div>\n",
       "<style scoped>\n",
       "    .dataframe tbody tr th:only-of-type {\n",
       "        vertical-align: middle;\n",
       "    }\n",
       "\n",
       "    .dataframe tbody tr th {\n",
       "        vertical-align: top;\n",
       "    }\n",
       "\n",
       "    .dataframe thead th {\n",
       "        text-align: right;\n",
       "    }\n",
       "</style>\n",
       "<table border=\"1\" class=\"dataframe\">\n",
       "  <thead>\n",
       "    <tr style=\"text-align: right;\">\n",
       "      <th></th>\n",
       "      <th>Category</th>\n",
       "      <th>Range</th>\n",
       "      <th>GeneCount</th>\n",
       "      <th>Annotation</th>\n",
       "      <th>Method</th>\n",
       "      <th>SeqType</th>\n",
       "      <th>DataSet</th>\n",
       "    </tr>\n",
       "  </thead>\n",
       "  <tbody>\n",
       "    <tr>\n",
       "      <th>0</th>\n",
       "      <td>Total genes</td>\n",
       "      <td>(0% &lt;= strains &lt;= 100%)</td>\n",
       "      <td>3829</td>\n",
       "      <td>PGAP</td>\n",
       "      <td>Ppanggolin_Default</td>\n",
       "      <td>ShortRead</td>\n",
       "      <td>All</td>\n",
       "    </tr>\n",
       "    <tr>\n",
       "      <th>1</th>\n",
       "      <td>Accessory genes</td>\n",
       "      <td>(0% &lt;= strains &lt; 99%)</td>\n",
       "      <td>315</td>\n",
       "      <td>PGAP</td>\n",
       "      <td>Ppanggolin_Default</td>\n",
       "      <td>ShortRead</td>\n",
       "      <td>All</td>\n",
       "    </tr>\n",
       "    <tr>\n",
       "      <th>2</th>\n",
       "      <td>Core genes</td>\n",
       "      <td>(99% &lt;= strains &lt;= 100%)</td>\n",
       "      <td>3514</td>\n",
       "      <td>PGAP</td>\n",
       "      <td>Ppanggolin_Default</td>\n",
       "      <td>ShortRead</td>\n",
       "      <td>All</td>\n",
       "    </tr>\n",
       "  </tbody>\n",
       "</table>\n",
       "</div>"
      ],
      "text/plain": [
       "          Category                     Range  GeneCount Annotation              Method    SeqType DataSet\n",
       "0      Total genes   (0% <= strains <= 100%)       3829       PGAP  Ppanggolin_Default  ShortRead     All\n",
       "1  Accessory genes     (0% <= strains < 99%)        315       PGAP  Ppanggolin_Default  ShortRead     All\n",
       "2       Core genes  (99% <= strains <= 100%)       3514       PGAP  Ppanggolin_Default  ShortRead     All"
      ]
     },
     "execution_count": 24,
     "metadata": {},
     "output_type": "execute_result"
    }
   ],
   "source": [
    "dictOf_PG_OutInfo[\"All\"][\"PGAP\"][\"ShortRead\"][\"Ppanggolin_Default\"]"
   ]
  },
  {
   "cell_type": "code",
   "execution_count": null,
   "id": "292441d4-f235-4975-8f19-9cf6a887fe79",
   "metadata": {},
   "outputs": [],
   "source": []
  },
  {
   "cell_type": "markdown",
   "id": "f8276136-b54c-4e77-b605-81be56203da3",
   "metadata": {},
   "source": [
    "# 1) Merge all Pan-genome counts accross all combinations evaluated"
   ]
  },
  {
   "cell_type": "code",
   "execution_count": 26,
   "id": "6b4ec24a-a4aa-4bfa-a715-9b0f2da02bdd",
   "metadata": {},
   "outputs": [
    {
     "data": {
      "text/plain": [
       "(132, 11)"
      ]
     },
     "execution_count": 26,
     "metadata": {},
     "output_type": "execute_result"
    }
   ],
   "source": [
    "\n",
    "PipeName_WiParam_List = ['Panaroo_Strict_MergeParalogs', 'Panaroo_Moderate_MergeParalogs',\n",
    "                         'Panaroo_Sensitive_MergeParalogs', 'Panaroo_Strict',\n",
    "                         'Panaroo_Moderate', 'Panaroo_Sensitive',  'Roary_NoSplitParalogs_I80', 'Roary_NoSplitParalogs_I90',\n",
    "                         'Roary_NoSplitParalogs',  'Roary_Default', 'Ppanggolin_Default', ] #'Ppanggolin_I95', 'Ppanggolin_I90' ]\n",
    "\n",
    "\n",
    "listOf_PG_InfoDFs = []\n",
    "for i_SampleSet in [\"All\"]:\n",
    "    for AnnoPipeline in [\"Bakta\", \"PGAP\"]:\n",
    "        for AsmTech in [\"LongRead\", \"ShortRead\"]:\n",
    "            for i_PipeNameWiParam in PipeName_WiParam_List:\n",
    "                i_PG_Stats_DF = dictOf_PG_OutInfo[i_SampleSet][AnnoPipeline][AsmTech][i_PipeNameWiParam]\n",
    "                \n",
    "                listOf_PG_InfoDFs.append(i_PG_Stats_DF)\n",
    "\n",
    "\n",
    "PG_Merged_Stats_LRandSR_DF = pd.concat(listOf_PG_InfoDFs)\n",
    "\n",
    "PG_Merged_Stats_LRandSR_DF[\"MethodAndTech\"] = PG_Merged_Stats_LRandSR_DF[\"Method\"] + \"_\" +PG_Merged_Stats_LRandSR_DF[\"SeqType\"]\n",
    "\n",
    "PG_Merged_Stats_LRandSR_DF[\"MethodAndTechAndAnno\"] = PG_Merged_Stats_LRandSR_DF[\"Method\"] + \"_\" +PG_Merged_Stats_LRandSR_DF[\"SeqType\"]  + \"_\" +PG_Merged_Stats_LRandSR_DF[\"Annotation\"]  \n",
    "\n",
    "PG_Merged_Stats_LRandSR_DF[\"AnnoAndTech\"] = PG_Merged_Stats_LRandSR_DF[\"Annotation\"] + \"-\" + PG_Merged_Stats_LRandSR_DF[\"SeqType\"]\n",
    "\n",
    "PG_Merged_Stats_LRandSR_DF[\"PangenomeTool\"] = PG_Merged_Stats_LRandSR_DF[\"Method\"].str.split(\"_\").str[0]\n",
    "\n",
    "\n",
    "PG_Merged_Stats_LRandSR_DF.shape\n"
   ]
  },
  {
   "cell_type": "markdown",
   "id": "8c662f51-4ff9-43c4-868a-ab5138f3f1c3",
   "metadata": {},
   "source": [
    "### Output `PG_Merged_Stats_LRandSR_DF` to TSV"
   ]
  },
  {
   "cell_type": "code",
   "execution_count": 27,
   "id": "12c54a63-aebd-4be9-b539-5a0e5fcda874",
   "metadata": {},
   "outputs": [],
   "source": [
    "PG_Results_OutDir = \"../../Data/240116.PG_Results\" \n",
    "\n",
    "!mkdir $PG_Results_OutDir\n",
    "\n",
    "PG_Merged_Stats_LRandSR_DF.to_csv(f\"{PG_Results_OutDir}/Mtb151CI.PG_Merged_Stats_LRandSR.tsv\", sep=\"\\t\", index=False)\n"
   ]
  },
  {
   "cell_type": "code",
   "execution_count": 28,
   "id": "6203094c-a2ef-4f5e-9f5c-440ca9495698",
   "metadata": {},
   "outputs": [
    {
     "data": {
      "text/html": [
       "<div>\n",
       "<style scoped>\n",
       "    .dataframe tbody tr th:only-of-type {\n",
       "        vertical-align: middle;\n",
       "    }\n",
       "\n",
       "    .dataframe tbody tr th {\n",
       "        vertical-align: top;\n",
       "    }\n",
       "\n",
       "    .dataframe thead th {\n",
       "        text-align: right;\n",
       "    }\n",
       "</style>\n",
       "<table border=\"1\" class=\"dataframe\">\n",
       "  <thead>\n",
       "    <tr style=\"text-align: right;\">\n",
       "      <th></th>\n",
       "      <th>Category</th>\n",
       "      <th>Range</th>\n",
       "      <th>GeneCount</th>\n",
       "      <th>Annotation</th>\n",
       "      <th>Method</th>\n",
       "      <th>SeqType</th>\n",
       "      <th>DataSet</th>\n",
       "      <th>MethodAndTech</th>\n",
       "      <th>MethodAndTechAndAnno</th>\n",
       "      <th>AnnoAndTech</th>\n",
       "      <th>PangenomeTool</th>\n",
       "    </tr>\n",
       "  </thead>\n",
       "  <tbody>\n",
       "    <tr>\n",
       "      <th>0</th>\n",
       "      <td>Core genes</td>\n",
       "      <td>(99% &lt;= strains &lt;= 100%)</td>\n",
       "      <td>3779</td>\n",
       "      <td>Bakta</td>\n",
       "      <td>Panaroo_Strict_MergeParalogs</td>\n",
       "      <td>LongRead</td>\n",
       "      <td>All</td>\n",
       "      <td>Panaroo_Strict_MergeParalogs_LongRead</td>\n",
       "      <td>Panaroo_Strict_MergeParalogs_LongRead_Bakta</td>\n",
       "      <td>Bakta-LongRead</td>\n",
       "      <td>Panaroo</td>\n",
       "    </tr>\n",
       "    <tr>\n",
       "      <th>4</th>\n",
       "      <td>Total genes</td>\n",
       "      <td>(0% &lt;= strains &lt;= 100%)</td>\n",
       "      <td>4200</td>\n",
       "      <td>Bakta</td>\n",
       "      <td>Panaroo_Strict_MergeParalogs</td>\n",
       "      <td>LongRead</td>\n",
       "      <td>All</td>\n",
       "      <td>Panaroo_Strict_MergeParalogs_LongRead</td>\n",
       "      <td>Panaroo_Strict_MergeParalogs_LongRead_Bakta</td>\n",
       "      <td>Bakta-LongRead</td>\n",
       "      <td>Panaroo</td>\n",
       "    </tr>\n",
       "    <tr>\n",
       "      <th>5</th>\n",
       "      <td>Accessory genes</td>\n",
       "      <td>(0% &lt;= strains &lt; 99%)</td>\n",
       "      <td>421</td>\n",
       "      <td>Bakta</td>\n",
       "      <td>Panaroo_Strict_MergeParalogs</td>\n",
       "      <td>LongRead</td>\n",
       "      <td>All</td>\n",
       "      <td>Panaroo_Strict_MergeParalogs_LongRead</td>\n",
       "      <td>Panaroo_Strict_MergeParalogs_LongRead_Bakta</td>\n",
       "      <td>Bakta-LongRead</td>\n",
       "      <td>Panaroo</td>\n",
       "    </tr>\n",
       "    <tr>\n",
       "      <th>0</th>\n",
       "      <td>Core genes</td>\n",
       "      <td>(99% &lt;= strains &lt;= 100%)</td>\n",
       "      <td>3825</td>\n",
       "      <td>Bakta</td>\n",
       "      <td>Panaroo_Moderate_MergeParalogs</td>\n",
       "      <td>LongRead</td>\n",
       "      <td>All</td>\n",
       "      <td>Panaroo_Moderate_MergeParalogs_LongRead</td>\n",
       "      <td>Panaroo_Moderate_MergeParalogs_LongRead_Bakta</td>\n",
       "      <td>Bakta-LongRead</td>\n",
       "      <td>Panaroo</td>\n",
       "    </tr>\n",
       "  </tbody>\n",
       "</table>\n",
       "</div>"
      ],
      "text/plain": [
       "          Category                     Range  GeneCount Annotation                          Method   SeqType DataSet                            MethodAndTech                           MethodAndTechAndAnno     AnnoAndTech PangenomeTool\n",
       "0       Core genes  (99% <= strains <= 100%)       3779      Bakta    Panaroo_Strict_MergeParalogs  LongRead     All    Panaroo_Strict_MergeParalogs_LongRead    Panaroo_Strict_MergeParalogs_LongRead_Bakta  Bakta-LongRead       Panaroo\n",
       "4      Total genes   (0% <= strains <= 100%)       4200      Bakta    Panaroo_Strict_MergeParalogs  LongRead     All    Panaroo_Strict_MergeParalogs_LongRead    Panaroo_Strict_MergeParalogs_LongRead_Bakta  Bakta-LongRead       Panaroo\n",
       "5  Accessory genes     (0% <= strains < 99%)        421      Bakta    Panaroo_Strict_MergeParalogs  LongRead     All    Panaroo_Strict_MergeParalogs_LongRead    Panaroo_Strict_MergeParalogs_LongRead_Bakta  Bakta-LongRead       Panaroo\n",
       "0       Core genes  (99% <= strains <= 100%)       3825      Bakta  Panaroo_Moderate_MergeParalogs  LongRead     All  Panaroo_Moderate_MergeParalogs_LongRead  Panaroo_Moderate_MergeParalogs_LongRead_Bakta  Bakta-LongRead       Panaroo"
      ]
     },
     "execution_count": 28,
     "metadata": {},
     "output_type": "execute_result"
    }
   ],
   "source": [
    "PG_Merged_Stats_LRandSR_DF.head(4)"
   ]
  },
  {
   "cell_type": "code",
   "execution_count": 29,
   "id": "dd052d67-682d-4ed1-8347-68b09068aa43",
   "metadata": {},
   "outputs": [
    {
     "data": {
      "text/plain": [
       "(99% <= strains <= 100%)    44\n",
       "(0% <= strains <= 100%)     44\n",
       "(0% <= strains < 99%)       44\n",
       "Name: Range, dtype: int64"
      ]
     },
     "execution_count": 29,
     "metadata": {},
     "output_type": "execute_result"
    }
   ],
   "source": [
    "PG_Merged_Stats_LRandSR_DF[\"Range\"].value_counts()"
   ]
  },
  {
   "cell_type": "code",
   "execution_count": null,
   "id": "f70bcf43-0b1e-4812-9aef-9e8d0d3abfe2",
   "metadata": {},
   "outputs": [],
   "source": []
  },
  {
   "cell_type": "code",
   "execution_count": 31,
   "id": "f488a449-d28a-4c59-b2d3-bea5e5d91969",
   "metadata": {},
   "outputs": [
    {
     "data": {
      "text/html": [
       "<div>\n",
       "<style scoped>\n",
       "    .dataframe tbody tr th:only-of-type {\n",
       "        vertical-align: middle;\n",
       "    }\n",
       "\n",
       "    .dataframe tbody tr th {\n",
       "        vertical-align: top;\n",
       "    }\n",
       "\n",
       "    .dataframe thead th {\n",
       "        text-align: right;\n",
       "    }\n",
       "</style>\n",
       "<table border=\"1\" class=\"dataframe\">\n",
       "  <thead>\n",
       "    <tr style=\"text-align: right;\">\n",
       "      <th></th>\n",
       "      <th>Category</th>\n",
       "      <th>Range</th>\n",
       "      <th>GeneCount</th>\n",
       "      <th>Annotation</th>\n",
       "      <th>Method</th>\n",
       "      <th>SeqType</th>\n",
       "      <th>DataSet</th>\n",
       "      <th>MethodAndTech</th>\n",
       "      <th>MethodAndTechAndAnno</th>\n",
       "      <th>AnnoAndTech</th>\n",
       "      <th>PangenomeTool</th>\n",
       "    </tr>\n",
       "  </thead>\n",
       "  <tbody>\n",
       "    <tr>\n",
       "      <th>1</th>\n",
       "      <td>Accessory genes</td>\n",
       "      <td>(0% &lt;= strains &lt; 99%)</td>\n",
       "      <td>793</td>\n",
       "      <td>Bakta</td>\n",
       "      <td>Ppanggolin_Default</td>\n",
       "      <td>LongRead</td>\n",
       "      <td>All</td>\n",
       "      <td>Ppanggolin_Default_LongRead</td>\n",
       "      <td>Ppanggolin_Default_LongRead_Bakta</td>\n",
       "      <td>Bakta-LongRead</td>\n",
       "      <td>Ppanggolin</td>\n",
       "    </tr>\n",
       "    <tr>\n",
       "      <th>1</th>\n",
       "      <td>Accessory genes</td>\n",
       "      <td>(0% &lt;= strains &lt; 99%)</td>\n",
       "      <td>1335</td>\n",
       "      <td>Bakta</td>\n",
       "      <td>Ppanggolin_Default</td>\n",
       "      <td>ShortRead</td>\n",
       "      <td>All</td>\n",
       "      <td>Ppanggolin_Default_ShortRead</td>\n",
       "      <td>Ppanggolin_Default_ShortRead_Bakta</td>\n",
       "      <td>Bakta-ShortRead</td>\n",
       "      <td>Ppanggolin</td>\n",
       "    </tr>\n",
       "    <tr>\n",
       "      <th>1</th>\n",
       "      <td>Accessory genes</td>\n",
       "      <td>(0% &lt;= strains &lt; 99%)</td>\n",
       "      <td>220</td>\n",
       "      <td>PGAP</td>\n",
       "      <td>Ppanggolin_Default</td>\n",
       "      <td>LongRead</td>\n",
       "      <td>All</td>\n",
       "      <td>Ppanggolin_Default_LongRead</td>\n",
       "      <td>Ppanggolin_Default_LongRead_PGAP</td>\n",
       "      <td>PGAP-LongRead</td>\n",
       "      <td>Ppanggolin</td>\n",
       "    </tr>\n",
       "    <tr>\n",
       "      <th>1</th>\n",
       "      <td>Accessory genes</td>\n",
       "      <td>(0% &lt;= strains &lt; 99%)</td>\n",
       "      <td>315</td>\n",
       "      <td>PGAP</td>\n",
       "      <td>Ppanggolin_Default</td>\n",
       "      <td>ShortRead</td>\n",
       "      <td>All</td>\n",
       "      <td>Ppanggolin_Default_ShortRead</td>\n",
       "      <td>Ppanggolin_Default_ShortRead_PGAP</td>\n",
       "      <td>PGAP-ShortRead</td>\n",
       "      <td>Ppanggolin</td>\n",
       "    </tr>\n",
       "  </tbody>\n",
       "</table>\n",
       "</div>"
      ],
      "text/plain": [
       "          Category                  Range  GeneCount Annotation              Method    SeqType DataSet                 MethodAndTech                MethodAndTechAndAnno      AnnoAndTech PangenomeTool\n",
       "1  Accessory genes  (0% <= strains < 99%)        793      Bakta  Ppanggolin_Default   LongRead     All   Ppanggolin_Default_LongRead   Ppanggolin_Default_LongRead_Bakta   Bakta-LongRead    Ppanggolin\n",
       "1  Accessory genes  (0% <= strains < 99%)       1335      Bakta  Ppanggolin_Default  ShortRead     All  Ppanggolin_Default_ShortRead  Ppanggolin_Default_ShortRead_Bakta  Bakta-ShortRead    Ppanggolin\n",
       "1  Accessory genes  (0% <= strains < 99%)        220       PGAP  Ppanggolin_Default   LongRead     All   Ppanggolin_Default_LongRead    Ppanggolin_Default_LongRead_PGAP    PGAP-LongRead    Ppanggolin\n",
       "1  Accessory genes  (0% <= strains < 99%)        315       PGAP  Ppanggolin_Default  ShortRead     All  Ppanggolin_Default_ShortRead   Ppanggolin_Default_ShortRead_PGAP   PGAP-ShortRead    Ppanggolin"
      ]
     },
     "execution_count": 31,
     "metadata": {},
     "output_type": "execute_result"
    }
   ],
   "source": [
    "PG_Merged_Stats_LRandSR_DF[ PG_Merged_Stats_LRandSR_DF[\"Method\"].str.contains(\"Ppanggolin\") ].query(\"Category == 'Accessory genes' \") "
   ]
  },
  {
   "cell_type": "code",
   "execution_count": null,
   "id": "c54502d4-da20-4ef6-9ec2-a716ec363d57",
   "metadata": {},
   "outputs": [],
   "source": []
  },
  {
   "cell_type": "code",
   "execution_count": null,
   "id": "b8bbb19f-5812-456c-a1f6-b2fe9d6596b4",
   "metadata": {},
   "outputs": [],
   "source": []
  },
  {
   "cell_type": "code",
   "execution_count": null,
   "id": "e225eea3-aea2-405d-bd33-dc76c644d0fb",
   "metadata": {},
   "outputs": [],
   "source": []
  },
  {
   "cell_type": "code",
   "execution_count": null,
   "id": "2049e468-c4c0-4a37-a0e3-085be72dac38",
   "metadata": {},
   "outputs": [],
   "source": []
  },
  {
   "cell_type": "code",
   "execution_count": null,
   "id": "2981a21c-eb78-42d2-b718-58f14a9dbfd9",
   "metadata": {},
   "outputs": [],
   "source": []
  },
  {
   "cell_type": "code",
   "execution_count": null,
   "id": "ff240970-4459-4c08-823a-3b600c89475d",
   "metadata": {},
   "outputs": [],
   "source": []
  }
 ],
 "metadata": {
  "kernelspec": {
   "display_name": "py37_S",
   "language": "python",
   "name": "py37_s"
  },
  "language_info": {
   "codemirror_mode": {
    "name": "ipython",
    "version": 3
   },
   "file_extension": ".py",
   "mimetype": "text/x-python",
   "name": "python",
   "nbconvert_exporter": "python",
   "pygments_lexer": "ipython3",
   "version": "3.7.3"
  }
 },
 "nbformat": 4,
 "nbformat_minor": 5
}
