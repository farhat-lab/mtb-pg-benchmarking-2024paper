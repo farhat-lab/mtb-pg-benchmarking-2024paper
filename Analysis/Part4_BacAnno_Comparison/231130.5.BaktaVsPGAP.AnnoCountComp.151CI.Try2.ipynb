{
 "cells": [
  {
   "cell_type": "markdown",
   "id": "330d37b3-586c-4d06-a7d4-d3a48815dd80",
   "metadata": {},
   "source": [
    "# Visualize differences in CDS & Pseudogene counts - Bakta vs PGAP"
   ]
  },
  {
   "cell_type": "code",
   "execution_count": 3,
   "id": "aac6a5b2-d055-4187-a99e-68e073c1a21f",
   "metadata": {},
   "outputs": [],
   "source": [
    "import numpy as np\n",
    "import matplotlib.pyplot as plt\n",
    "import matplotlib.patches as mpatches\n",
    "import seaborn as sns\n",
    "import pandas as pd\n"
   ]
  },
  {
   "cell_type": "markdown",
   "id": "96c237fb-b35f-4dfd-847a-4abdc627bb64",
   "metadata": {},
   "source": [
    "## Part 1: Parse TSV comparing annotated features between PGAP and Bakta\n",
    "#### (N = 151 Mtb hybrid assemblies)"
   ]
  },
  {
   "cell_type": "code",
   "execution_count": 4,
   "id": "234f0036-451e-4ce6-8675-c8bf8a24c284",
   "metadata": {},
   "outputs": [
    {
     "data": {
      "text/plain": [
       "(151, 9)"
      ]
     },
     "execution_count": 4,
     "metadata": {},
     "output_type": "execute_result"
    }
   ],
   "source": [
    "annot_comparison_df = pd.read_csv('Data/pgap_and_bakta_comparison_stats.151CI.tsv',\n",
    "                                  sep='\\t')\n",
    "annot_comparison_df.shape"
   ]
  },
  {
   "cell_type": "code",
   "execution_count": 5,
   "id": "d2fa2c56-6abe-4701-a6f9-a06a2638967a",
   "metadata": {},
   "outputs": [
    {
     "data": {
      "text/html": [
       "<div>\n",
       "<style scoped>\n",
       "    .dataframe tbody tr th:only-of-type {\n",
       "        vertical-align: middle;\n",
       "    }\n",
       "\n",
       "    .dataframe tbody tr th {\n",
       "        vertical-align: top;\n",
       "    }\n",
       "\n",
       "    .dataframe thead th {\n",
       "        text-align: right;\n",
       "    }\n",
       "</style>\n",
       "<table border=\"1\" class=\"dataframe\">\n",
       "  <thead>\n",
       "    <tr style=\"text-align: right;\">\n",
       "      <th></th>\n",
       "      <th>Isolate</th>\n",
       "      <th>Bakta_proteincoding</th>\n",
       "      <th>Bakta_pseudogenes</th>\n",
       "      <th>Bakta_RNAgenes</th>\n",
       "      <th>Bakta_total</th>\n",
       "      <th>PGAP_proteincoding</th>\n",
       "      <th>PGAP_pseudogenes</th>\n",
       "      <th>PGAP_RNAgenes</th>\n",
       "      <th>PGAP_total</th>\n",
       "    </tr>\n",
       "  </thead>\n",
       "  <tbody>\n",
       "    <tr>\n",
       "      <th>0</th>\n",
       "      <td>N0072</td>\n",
       "      <td>4041</td>\n",
       "      <td>11</td>\n",
       "      <td>71</td>\n",
       "      <td>4123</td>\n",
       "      <td>3903</td>\n",
       "      <td>356</td>\n",
       "      <td>49</td>\n",
       "      <td>4308</td>\n",
       "    </tr>\n",
       "    <tr>\n",
       "      <th>1</th>\n",
       "      <td>N0153</td>\n",
       "      <td>4028</td>\n",
       "      <td>14</td>\n",
       "      <td>71</td>\n",
       "      <td>4113</td>\n",
       "      <td>3872</td>\n",
       "      <td>388</td>\n",
       "      <td>49</td>\n",
       "      <td>4309</td>\n",
       "    </tr>\n",
       "    <tr>\n",
       "      <th>2</th>\n",
       "      <td>TB3113</td>\n",
       "      <td>4077</td>\n",
       "      <td>7</td>\n",
       "      <td>72</td>\n",
       "      <td>4156</td>\n",
       "      <td>3916</td>\n",
       "      <td>382</td>\n",
       "      <td>49</td>\n",
       "      <td>4347</td>\n",
       "    </tr>\n",
       "    <tr>\n",
       "      <th>3</th>\n",
       "      <td>TB1236</td>\n",
       "      <td>4065</td>\n",
       "      <td>8</td>\n",
       "      <td>72</td>\n",
       "      <td>4145</td>\n",
       "      <td>3925</td>\n",
       "      <td>370</td>\n",
       "      <td>49</td>\n",
       "      <td>4344</td>\n",
       "    </tr>\n",
       "  </tbody>\n",
       "</table>\n",
       "</div>"
      ],
      "text/plain": [
       "  Isolate  Bakta_proteincoding  Bakta_pseudogenes  Bakta_RNAgenes  \\\n",
       "0   N0072                 4041                 11              71   \n",
       "1   N0153                 4028                 14              71   \n",
       "2  TB3113                 4077                  7              72   \n",
       "3  TB1236                 4065                  8              72   \n",
       "\n",
       "   Bakta_total  PGAP_proteincoding  PGAP_pseudogenes  PGAP_RNAgenes  \\\n",
       "0         4123                3903               356             49   \n",
       "1         4113                3872               388             49   \n",
       "2         4156                3916               382             49   \n",
       "3         4145                3925               370             49   \n",
       "\n",
       "   PGAP_total  \n",
       "0        4308  \n",
       "1        4309  \n",
       "2        4347  \n",
       "3        4344  "
      ]
     },
     "execution_count": 5,
     "metadata": {},
     "output_type": "execute_result"
    }
   ],
   "source": [
    "annot_comparison_df.head(4)"
   ]
  },
  {
   "cell_type": "code",
   "execution_count": null,
   "id": "b98ae280-6311-424c-8669-13a56f1b4463",
   "metadata": {},
   "outputs": [],
   "source": []
  },
  {
   "cell_type": "code",
   "execution_count": 9,
   "id": "965f80a8-3aa2-4c4b-a498-fd33a609f60a",
   "metadata": {},
   "outputs": [
    {
     "data": {
      "text/plain": [
       "count    151.000000\n",
       "mean       0.086110\n",
       "std        0.008588\n",
       "min        0.070005\n",
       "25%        0.078563\n",
       "50%        0.086417\n",
       "75%        0.091389\n",
       "max        0.106964\n",
       "dtype: float64"
      ]
     },
     "execution_count": 9,
     "metadata": {},
     "output_type": "execute_result"
    }
   ],
   "source": [
    "(annot_comparison_df[\"PGAP_pseudogenes\"] / annot_comparison_df[\"PGAP_total\"]).describe()"
   ]
  },
  {
   "cell_type": "code",
   "execution_count": 10,
   "id": "c29627c2-2bfe-41ad-a673-87cc4a3199ff",
   "metadata": {},
   "outputs": [
    {
     "data": {
      "text/plain": [
       "count    151.000000\n",
       "mean       0.002173\n",
       "std        0.000723\n",
       "min        0.001201\n",
       "25%        0.001688\n",
       "50%        0.002158\n",
       "75%        0.002416\n",
       "max        0.007481\n",
       "dtype: float64"
      ]
     },
     "execution_count": 10,
     "metadata": {},
     "output_type": "execute_result"
    }
   ],
   "source": [
    "(annot_comparison_df[\"Bakta_pseudogenes\"] / annot_comparison_df[\"Bakta_total\"]).describe()"
   ]
  },
  {
   "cell_type": "markdown",
   "id": "a316008c-16e2-4f54-8924-c5259d4e7334",
   "metadata": {},
   "source": [
    "#### 0.1% - 0.7%"
   ]
  },
  {
   "cell_type": "code",
   "execution_count": 7,
   "id": "72e8333d-6c78-4011-ad86-20768765a891",
   "metadata": {},
   "outputs": [
    {
     "data": {
      "text/plain": [
       "count    151.000000\n",
       "mean     373.774834\n",
       "std       38.969761\n",
       "min      302.000000\n",
       "25%      339.000000\n",
       "50%      376.000000\n",
       "75%      396.000000\n",
       "max      470.000000\n",
       "Name: PGAP_pseudogenes, dtype: float64"
      ]
     },
     "execution_count": 7,
     "metadata": {},
     "output_type": "execute_result"
    }
   ],
   "source": [
    "annot_comparison_df[\"PGAP_pseudogenes\"].describe()"
   ]
  },
  {
   "cell_type": "code",
   "execution_count": 8,
   "id": "8fc64a22-028b-4789-86cc-cc081343c913",
   "metadata": {},
   "outputs": [
    {
     "data": {
      "text/plain": [
       "count    151.000000\n",
       "mean       9.019868\n",
       "std        3.003265\n",
       "min        5.000000\n",
       "25%        7.000000\n",
       "50%        9.000000\n",
       "75%       10.000000\n",
       "max       31.000000\n",
       "Name: Bakta_pseudogenes, dtype: float64"
      ]
     },
     "execution_count": 8,
     "metadata": {},
     "output_type": "execute_result"
    }
   ],
   "source": [
    "annot_comparison_df[\"Bakta_pseudogenes\"].describe()"
   ]
  },
  {
   "cell_type": "code",
   "execution_count": null,
   "id": "2eacbeea-fac5-4c15-8b2f-104bb1eb2d20",
   "metadata": {},
   "outputs": [],
   "source": []
  },
  {
   "cell_type": "code",
   "execution_count": null,
   "id": "c4dabde0-3ed0-468d-94f2-f05c8776e36f",
   "metadata": {},
   "outputs": [],
   "source": []
  },
  {
   "cell_type": "markdown",
   "id": "c5565f62-3ce4-4b33-a93c-50cf001a5677",
   "metadata": {},
   "source": [
    "## Part 2: Calculate table of summary stats (PGAP vs Bakta)"
   ]
  },
  {
   "cell_type": "code",
   "execution_count": 4,
   "id": "dbaff16e-c2c2-4f09-8587-27804b0e822d",
   "metadata": {},
   "outputs": [
    {
     "data": {
      "text/html": [
       "<div>\n",
       "<style scoped>\n",
       "    .dataframe tbody tr th:only-of-type {\n",
       "        vertical-align: middle;\n",
       "    }\n",
       "\n",
       "    .dataframe tbody tr th {\n",
       "        vertical-align: top;\n",
       "    }\n",
       "\n",
       "    .dataframe thead th {\n",
       "        text-align: right;\n",
       "    }\n",
       "</style>\n",
       "<table border=\"1\" class=\"dataframe\">\n",
       "  <thead>\n",
       "    <tr style=\"text-align: right;\">\n",
       "      <th></th>\n",
       "      <th>Feature</th>\n",
       "      <th>PGAP_Median</th>\n",
       "      <th>PGAP_IQR</th>\n",
       "      <th>PGAP_Q1</th>\n",
       "      <th>PGAP_Q3</th>\n",
       "      <th>Bakta_Median</th>\n",
       "      <th>Bakta_IQR</th>\n",
       "      <th>Bakta_Q1</th>\n",
       "      <th>Bakta_Q3</th>\n",
       "    </tr>\n",
       "  </thead>\n",
       "  <tbody>\n",
       "    <tr>\n",
       "      <th>0</th>\n",
       "      <td>Proteincoding</td>\n",
       "      <td>3919.0</td>\n",
       "      <td>30.0</td>\n",
       "      <td>3900.0</td>\n",
       "      <td>3930.0</td>\n",
       "      <td>4067.0</td>\n",
       "      <td>22.5</td>\n",
       "      <td>4057.0</td>\n",
       "      <td>4079.5</td>\n",
       "    </tr>\n",
       "    <tr>\n",
       "      <th>1</th>\n",
       "      <td>Pseudogenes</td>\n",
       "      <td>376.0</td>\n",
       "      <td>57.0</td>\n",
       "      <td>339.0</td>\n",
       "      <td>396.0</td>\n",
       "      <td>9.0</td>\n",
       "      <td>3.0</td>\n",
       "      <td>7.0</td>\n",
       "      <td>10.0</td>\n",
       "    </tr>\n",
       "    <tr>\n",
       "      <th>2</th>\n",
       "      <td>Rnagenes</td>\n",
       "      <td>49.0</td>\n",
       "      <td>0.0</td>\n",
       "      <td>49.0</td>\n",
       "      <td>49.0</td>\n",
       "      <td>72.0</td>\n",
       "      <td>1.0</td>\n",
       "      <td>71.0</td>\n",
       "      <td>72.0</td>\n",
       "    </tr>\n",
       "    <tr>\n",
       "      <th>3</th>\n",
       "      <td>Total</td>\n",
       "      <td>4340.0</td>\n",
       "      <td>35.5</td>\n",
       "      <td>4320.0</td>\n",
       "      <td>4355.5</td>\n",
       "      <td>4147.0</td>\n",
       "      <td>22.5</td>\n",
       "      <td>4138.0</td>\n",
       "      <td>4160.5</td>\n",
       "    </tr>\n",
       "  </tbody>\n",
       "</table>\n",
       "</div>"
      ],
      "text/plain": [
       "         Feature  PGAP_Median  PGAP_IQR  PGAP_Q1  PGAP_Q3  Bakta_Median  \\\n",
       "0  Proteincoding       3919.0      30.0   3900.0   3930.0        4067.0   \n",
       "1    Pseudogenes        376.0      57.0    339.0    396.0           9.0   \n",
       "2       Rnagenes         49.0       0.0     49.0     49.0          72.0   \n",
       "3          Total       4340.0      35.5   4320.0   4355.5        4147.0   \n",
       "\n",
       "   Bakta_IQR  Bakta_Q1  Bakta_Q3  \n",
       "0       22.5    4057.0    4079.5  \n",
       "1        3.0       7.0      10.0  \n",
       "2        1.0      71.0      72.0  \n",
       "3       22.5    4138.0    4160.5  "
      ]
     },
     "execution_count": 4,
     "metadata": {},
     "output_type": "execute_result"
    }
   ],
   "source": [
    "#The following code calculates the median and IQR for each feature type for both PGAP and Bakta.\n",
    "\n",
    "#function to calculate IQR\n",
    "def calculate_iqr(series):\n",
    "    return series.quantile(0.75) - series.quantile(0.25)\n",
    "\n",
    "feature_types = ['proteincoding', 'pseudogenes', 'RNAgenes', 'total']\n",
    "\n",
    "#initializing a dictionary to hold the summary statistics\n",
    "summary_stats = {'Feature': [],\n",
    "                 'PGAP_Median': [], 'PGAP_IQR': [], 'PGAP_Q1': [], 'PGAP_Q3': [],\n",
    "                 'Bakta_Median': [], 'Bakta_IQR': [], 'Bakta_Q1': [], 'Bakta_Q3': [],}\n",
    "\n",
    "for feature in feature_types:\n",
    "    summary_stats['Feature'].append(feature.capitalize())\n",
    "    summary_stats['PGAP_Median'].append(annot_comparison_df[f'PGAP_{feature}'].median())\n",
    "    summary_stats['PGAP_IQR'].append(calculate_iqr(annot_comparison_df[f'PGAP_{feature}']))\n",
    "    summary_stats['PGAP_Q1'].append(annot_comparison_df[f'PGAP_{feature}'].quantile(0.25))\n",
    "    summary_stats['PGAP_Q3'].append(annot_comparison_df[f'PGAP_{feature}'].quantile(0.75))\n",
    "\n",
    "    summary_stats['Bakta_Median'].append(annot_comparison_df[f'Bakta_{feature}'].median())\n",
    "    summary_stats['Bakta_IQR'].append(calculate_iqr(annot_comparison_df[f'Bakta_{feature}']))\n",
    "    summary_stats['Bakta_Q1'].append(annot_comparison_df[f'Bakta_{feature}'].quantile(0.25))\n",
    "    summary_stats['Bakta_Q3'].append(annot_comparison_df[f'Bakta_{feature}'].quantile(0.75))\n",
    "\n",
    "AnnoSummary_df = pd.DataFrame(summary_stats)\n",
    "\n",
    "AnnoSummary_df\n"
   ]
  },
  {
   "cell_type": "markdown",
   "id": "f90e5074-40f0-48d7-b2ff-3ff439f93c7b",
   "metadata": {},
   "source": [
    "## Part 3: Generate boxplots comparing annotation types - PGAP vs Bakta"
   ]
  },
  {
   "cell_type": "code",
   "execution_count": 5,
   "id": "6b4bb77d-2b8c-42a4-8b33-e5bf68154057",
   "metadata": {},
   "outputs": [
    {
     "name": "stdout",
     "output_type": "stream",
     "text": [
      "mkdir: cannot create directory ‘Results3_Plots/’: File exists\n"
     ]
    }
   ],
   "source": [
    "!mkdir Results3_Plots/"
   ]
  },
  {
   "cell_type": "code",
   "execution_count": 6,
   "id": "08913d40-5612-4610-8f33-443b6165da1a",
   "metadata": {},
   "outputs": [
    {
     "data": {
      "image/png": "[encoded data removed]",
      "text/plain": [
       "<Figure size 1440x504 with 2 Axes>"
      ]
     },
     "metadata": {
      "needs_background": "light"
     },
     "output_type": "display_data"
    }
   ],
   "source": [
    "sns.set_context(\"poster\")\n",
    "\n",
    "#melting dataframe to long format for use with seaborn's boxplot\n",
    "df_melted = annot_comparison_df.melt(id_vars='Isolate', var_name='Annotation_Type', value_name='Count')\n",
    "\n",
    "#splitting 'Annotation_Type' into 'Software' and 'Feature' for grouping in the plot\n",
    "df_melted[['Software', 'Feature']] = df_melted['Annotation_Type'].str.split('_', expand=True)\n",
    "\n",
    "df_melted = df_melted[~df_melted['Feature'].str.contains('total', case=False)]\n",
    "df_melted[\"Feature\"] = df_melted[\"Feature\"].replace(\"proteincoding\", \"CDSs\").replace(\"RNAgenes\", \"RNAs\").replace(\"pseudogenes\", \"Pseudogenes\")\n",
    "\n",
    "df_melted = df_melted.query(\"Feature != 'RNAs'\")\n",
    "\n",
    "features = df_melted['Feature'].unique()\n",
    "\n",
    "#creating a subplot for each feature type with independent y-axes\n",
    "fig, axes = plt.subplots(nrows=1, ncols=len(features), figsize=(20, 7), sharey=False)\n",
    "\n",
    "pallete_ForPlot = [\"#3F84E5\", \"#ADD8E6\"]\n",
    "\n",
    "\n",
    "#plotting each feature type in its own subplot with seaborn boxplot and stripplot\n",
    "for ax, feature in zip(axes, features):\n",
    "    feature_data = df_melted[df_melted['Feature'] == feature]\n",
    "    sns.boxplot(\n",
    "        data=feature_data, \n",
    "        x='Software', y='Count', hue='Software', palette=pallete_ForPlot, boxprops=dict(alpha=.3), fliersize=0, ax=ax, \n",
    "    )\n",
    "    sns.stripplot(\n",
    "        data=feature_data,\n",
    "        x='Software', y='Count', hue='Software', jitter=True, marker='o', alpha=0.8, edgecolor='gray',\n",
    "        ax=ax, dodge=True, palette = pallete_ForPlot\n",
    "    )\n",
    "    ax.set_title(f'{feature} annotated')\n",
    "    #ax.set_xlabel('Feature Type')\n",
    "    ax.set_xlabel('')\n",
    "    ax.set_ylabel('Frequency')\n",
    "    sns.despine(ax=ax)\n",
    "\n",
    "    #only show the legend for the last plot\n",
    "    if ax != axes[-1]:\n",
    "        ax.get_legend().remove()\n",
    "\n",
    "#axes[-1].legend(title='Annotation Software', loc='upper right')\n",
    "\n",
    "Bakta_patch = mpatches.Patch(color=\"#3F84E5\", label='Bakta')\n",
    "PGAP_patch = mpatches.Patch(color = \"#ADD8E6\", label='PGAP')\n",
    "\n",
    "ax.legend(title = \"Annotation Software\", handles=[Bakta_patch, PGAP_patch], bbox_to_anchor=(1.15, 1)) \n",
    "\n",
    "\n",
    "#adjusting layout to prevent overlap\n",
    "plt.tight_layout()\n",
    "\n",
    "plt.savefig(\"Results3_Plots/3.AnnoFeatures.BaktaVsPGAP.2Boxplots.png\", dpi = 300, bbox_inches=\"tight\")\n",
    "plt.savefig(\"Results3_Plots/3.AnnoFeatures.BaktaVsPGAP.2Boxplots.svg\", bbox_inches=\"tight\")\n",
    "\n",
    "plt.show()"
   ]
  },
  {
   "cell_type": "code",
   "execution_count": null,
   "id": "881e0383-a168-490d-b3b1-11d70b4d474b",
   "metadata": {},
   "outputs": [],
   "source": []
  },
  {
   "cell_type": "code",
   "execution_count": 7,
   "id": "4eef2c90-f953-4150-85be-a6417294ff79",
   "metadata": {},
   "outputs": [
    {
     "data": {
      "image/png": "[encoded data removed]",
      "text/plain": [
       "<Figure size 1440x504 with 3 Axes>"
      ]
     },
     "metadata": {
      "needs_background": "light"
     },
     "output_type": "display_data"
    }
   ],
   "source": [
    "sns.set_context(\"poster\")\n",
    "\n",
    "#melting dataframe to long format for use with seaborn's boxplot\n",
    "df_melted = annot_comparison_df.melt(id_vars='Isolate', var_name='Annotation_Type', value_name='Count')\n",
    "\n",
    "#splitting 'Annotation_Type' into 'Software' and 'Feature' for grouping in the plot\n",
    "df_melted[['Software', 'Feature']] = df_melted['Annotation_Type'].str.split('_', expand=True)\n",
    "\n",
    "df_melted = df_melted[~df_melted['Feature'].str.contains('total', case=False)]\n",
    "df_melted[\"Feature\"] = df_melted[\"Feature\"].replace(\"proteincoding\", \"CDSs\").replace(\"RNAgenes\", \"RNAs\").replace(\"pseudogenes\", \"Pseudogenes\")\n",
    "\n",
    "\n",
    "features = df_melted['Feature'].unique()\n",
    "\n",
    "#creating a subplot for each feature type with independent y-axes\n",
    "fig, axes = plt.subplots(nrows=1, ncols=len(features), figsize=(20, 7), sharey=False)\n",
    "\n",
    "pallete_ForPlot = [\"#3F84E5\", \"#ADD8E6\"]\n",
    "\n",
    "\n",
    "#plotting each feature type in its own subplot with seaborn boxplot and stripplot\n",
    "for ax, feature in zip(axes, features):\n",
    "    feature_data = df_melted[df_melted['Feature'] == feature]\n",
    "    sns.boxplot(\n",
    "        data=feature_data, \n",
    "        x='Software', y='Count', hue='Software', palette=pallete_ForPlot, boxprops=dict(alpha=.3), fliersize=0, ax=ax, \n",
    "    )\n",
    "    sns.stripplot(\n",
    "        data=feature_data,\n",
    "        x='Software', y='Count', hue='Software', jitter=True, marker='o', alpha=0.8, edgecolor='gray',\n",
    "        ax=ax, dodge=True, palette = pallete_ForPlot   \n",
    "    )\n",
    "    ax.set_title(f'{feature} annotated')\n",
    "    #ax.set_xlabel('Feature Type')\n",
    "    ax.set_xlabel('')\n",
    "    ax.set_ylabel('Frequency')\n",
    "    sns.despine(ax=ax)\n",
    "\n",
    "    #only show the legend for the last plot\n",
    "    if ax != axes[-1]:\n",
    "        ax.get_legend().remove()\n",
    "\n",
    "Bakta_patch = mpatches.Patch(color=\"#3F84E5\", label='Bakta')\n",
    "PGAP_patch = mpatches.Patch(color = \"#ADD8E6\", label='PGAP')\n",
    "\n",
    "ax.legend(title = \"Annotation Software\", handles=[Bakta_patch, PGAP_patch], bbox_to_anchor=(1.85, 1)) \n",
    "\n",
    "#adjusting layout to prevent overlap\n",
    "#plt.tight_layout()\n",
    "\n",
    "#plt.savefig(\"Results3_Plots/3.AnnoFeatures.BaktaVsPGAP.3Boxplots.png\", dpi = 300, bbox_inches=\"tight\")\n",
    "#plt.savefig(\"Results3_Plots/3.AnnoFeatures.BaktaVsPGAP.3Boxplots.svg\", bbox_inches=\"tight\")\n",
    "\n",
    "plt.show()"
   ]
  },
  {
   "cell_type": "code",
   "execution_count": 8,
   "id": "b8970b93-1876-4190-bb79-0a725607d322",
   "metadata": {},
   "outputs": [
    {
     "data": {
      "text/html": [
       "<div>\n",
       "<style scoped>\n",
       "    .dataframe tbody tr th:only-of-type {\n",
       "        vertical-align: middle;\n",
       "    }\n",
       "\n",
       "    .dataframe tbody tr th {\n",
       "        vertical-align: top;\n",
       "    }\n",
       "\n",
       "    .dataframe thead th {\n",
       "        text-align: right;\n",
       "    }\n",
       "</style>\n",
       "<table border=\"1\" class=\"dataframe\">\n",
       "  <thead>\n",
       "    <tr style=\"text-align: right;\">\n",
       "      <th></th>\n",
       "      <th>Isolate</th>\n",
       "      <th>Bakta_proteincoding</th>\n",
       "      <th>Bakta_pseudogenes</th>\n",
       "      <th>Bakta_RNAgenes</th>\n",
       "      <th>Bakta_total</th>\n",
       "      <th>PGAP_proteincoding</th>\n",
       "      <th>PGAP_pseudogenes</th>\n",
       "      <th>PGAP_RNAgenes</th>\n",
       "      <th>PGAP_total</th>\n",
       "    </tr>\n",
       "  </thead>\n",
       "  <tbody>\n",
       "    <tr>\n",
       "      <th>0</th>\n",
       "      <td>N0072</td>\n",
       "      <td>4041</td>\n",
       "      <td>11</td>\n",
       "      <td>71</td>\n",
       "      <td>4123</td>\n",
       "      <td>3903</td>\n",
       "      <td>356</td>\n",
       "      <td>49</td>\n",
       "      <td>4308</td>\n",
       "    </tr>\n",
       "    <tr>\n",
       "      <th>1</th>\n",
       "      <td>N0153</td>\n",
       "      <td>4028</td>\n",
       "      <td>14</td>\n",
       "      <td>71</td>\n",
       "      <td>4113</td>\n",
       "      <td>3872</td>\n",
       "      <td>388</td>\n",
       "      <td>49</td>\n",
       "      <td>4309</td>\n",
       "    </tr>\n",
       "    <tr>\n",
       "      <th>2</th>\n",
       "      <td>TB3113</td>\n",
       "      <td>4077</td>\n",
       "      <td>7</td>\n",
       "      <td>72</td>\n",
       "      <td>4156</td>\n",
       "      <td>3916</td>\n",
       "      <td>382</td>\n",
       "      <td>49</td>\n",
       "      <td>4347</td>\n",
       "    </tr>\n",
       "    <tr>\n",
       "      <th>3</th>\n",
       "      <td>TB1236</td>\n",
       "      <td>4065</td>\n",
       "      <td>8</td>\n",
       "      <td>72</td>\n",
       "      <td>4145</td>\n",
       "      <td>3925</td>\n",
       "      <td>370</td>\n",
       "      <td>49</td>\n",
       "      <td>4344</td>\n",
       "    </tr>\n",
       "    <tr>\n",
       "      <th>4</th>\n",
       "      <td>TB2659</td>\n",
       "      <td>4065</td>\n",
       "      <td>8</td>\n",
       "      <td>72</td>\n",
       "      <td>4145</td>\n",
       "      <td>3922</td>\n",
       "      <td>370</td>\n",
       "      <td>49</td>\n",
       "      <td>4341</td>\n",
       "    </tr>\n",
       "  </tbody>\n",
       "</table>\n",
       "</div>"
      ],
      "text/plain": [
       "  Isolate  Bakta_proteincoding  Bakta_pseudogenes  Bakta_RNAgenes  \\\n",
       "0   N0072                 4041                 11              71   \n",
       "1   N0153                 4028                 14              71   \n",
       "2  TB3113                 4077                  7              72   \n",
       "3  TB1236                 4065                  8              72   \n",
       "4  TB2659                 4065                  8              72   \n",
       "\n",
       "   Bakta_total  PGAP_proteincoding  PGAP_pseudogenes  PGAP_RNAgenes  \\\n",
       "0         4123                3903               356             49   \n",
       "1         4113                3872               388             49   \n",
       "2         4156                3916               382             49   \n",
       "3         4145                3925               370             49   \n",
       "4         4145                3922               370             49   \n",
       "\n",
       "   PGAP_total  \n",
       "0        4308  \n",
       "1        4309  \n",
       "2        4347  \n",
       "3        4344  \n",
       "4        4341  "
      ]
     },
     "execution_count": 8,
     "metadata": {},
     "output_type": "execute_result"
    }
   ],
   "source": [
    "annot_comparison_df.head(5)"
   ]
  },
  {
   "cell_type": "code",
   "execution_count": 9,
   "id": "32f98bca-6068-4b3f-af3a-6fb327c4f74c",
   "metadata": {},
   "outputs": [
    {
     "data": {
      "text/plain": [
       "CDSs           302\n",
       "Pseudogenes    302\n",
       "RNAs           302\n",
       "Name: Feature, dtype: int64"
      ]
     },
     "execution_count": 9,
     "metadata": {},
     "output_type": "execute_result"
    }
   ],
   "source": [
    "df_melted[\"Feature\"].value_counts()"
   ]
  },
  {
   "cell_type": "code",
   "execution_count": 10,
   "id": "c35b6f07-5fe3-4778-a920-e7539d95332c",
   "metadata": {},
   "outputs": [
    {
     "data": {
      "text/html": [
       "<div>\n",
       "<style scoped>\n",
       "    .dataframe tbody tr th:only-of-type {\n",
       "        vertical-align: middle;\n",
       "    }\n",
       "\n",
       "    .dataframe tbody tr th {\n",
       "        vertical-align: top;\n",
       "    }\n",
       "\n",
       "    .dataframe thead th {\n",
       "        text-align: right;\n",
       "    }\n",
       "</style>\n",
       "<table border=\"1\" class=\"dataframe\">\n",
       "  <thead>\n",
       "    <tr style=\"text-align: right;\">\n",
       "      <th></th>\n",
       "      <th>Isolate</th>\n",
       "      <th>Annotation_Type</th>\n",
       "      <th>Count</th>\n",
       "      <th>Software</th>\n",
       "      <th>Feature</th>\n",
       "    </tr>\n",
       "  </thead>\n",
       "  <tbody>\n",
       "    <tr>\n",
       "      <th>0</th>\n",
       "      <td>N0072</td>\n",
       "      <td>Bakta_proteincoding</td>\n",
       "      <td>4041</td>\n",
       "      <td>Bakta</td>\n",
       "      <td>CDSs</td>\n",
       "    </tr>\n",
       "    <tr>\n",
       "      <th>1</th>\n",
       "      <td>N0153</td>\n",
       "      <td>Bakta_proteincoding</td>\n",
       "      <td>4028</td>\n",
       "      <td>Bakta</td>\n",
       "      <td>CDSs</td>\n",
       "    </tr>\n",
       "    <tr>\n",
       "      <th>2</th>\n",
       "      <td>TB3113</td>\n",
       "      <td>Bakta_proteincoding</td>\n",
       "      <td>4077</td>\n",
       "      <td>Bakta</td>\n",
       "      <td>CDSs</td>\n",
       "    </tr>\n",
       "    <tr>\n",
       "      <th>3</th>\n",
       "      <td>TB1236</td>\n",
       "      <td>Bakta_proteincoding</td>\n",
       "      <td>4065</td>\n",
       "      <td>Bakta</td>\n",
       "      <td>CDSs</td>\n",
       "    </tr>\n",
       "    <tr>\n",
       "      <th>4</th>\n",
       "      <td>TB2659</td>\n",
       "      <td>Bakta_proteincoding</td>\n",
       "      <td>4065</td>\n",
       "      <td>Bakta</td>\n",
       "      <td>CDSs</td>\n",
       "    </tr>\n",
       "  </tbody>\n",
       "</table>\n",
       "</div>"
      ],
      "text/plain": [
       "  Isolate      Annotation_Type  Count Software Feature\n",
       "0   N0072  Bakta_proteincoding   4041    Bakta    CDSs\n",
       "1   N0153  Bakta_proteincoding   4028    Bakta    CDSs\n",
       "2  TB3113  Bakta_proteincoding   4077    Bakta    CDSs\n",
       "3  TB1236  Bakta_proteincoding   4065    Bakta    CDSs\n",
       "4  TB2659  Bakta_proteincoding   4065    Bakta    CDSs"
      ]
     },
     "execution_count": 10,
     "metadata": {},
     "output_type": "execute_result"
    }
   ],
   "source": [
    "df_melted.head(5)"
   ]
  },
  {
   "cell_type": "code",
   "execution_count": null,
   "id": "60760589-dd9a-4dbd-973e-ba30f33fe188",
   "metadata": {},
   "outputs": [],
   "source": []
  },
  {
   "cell_type": "code",
   "execution_count": null,
   "id": "5c4b7968-4ff1-41ac-a416-cfb066ecf226",
   "metadata": {},
   "outputs": [],
   "source": []
  },
  {
   "cell_type": "code",
   "execution_count": null,
   "id": "703cf1bf-7938-4dd5-9469-dc787ccf0d92",
   "metadata": {},
   "outputs": [],
   "source": []
  }
 ],
 "metadata": {
  "kernelspec": {
   "display_name": "py37_S",
   "language": "python",
   "name": "py37_s"
  },
  "language_info": {
   "codemirror_mode": {
    "name": "ipython",
    "version": 3
   },
   "file_extension": ".py",
   "mimetype": "text/x-python",
   "name": "python",
   "nbconvert_exporter": "python",
   "pygments_lexer": "ipython3",
   "version": "3.7.3"
  }
 },
 "nbformat": 4,
 "nbformat_minor": 5
}
