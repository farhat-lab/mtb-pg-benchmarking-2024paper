{
 "cells": [
  {
   "cell_type": "markdown",
   "id": "b2455ebe-23bc-429d-b709-d62a63eeb81d",
   "metadata": {},
   "source": [
    "# Pangraph - Node k-mer analysis & seq redundancy comparison"
   ]
  },
  {
   "cell_type": "code",
   "execution_count": null,
   "id": "bbd08a7e-3d6a-436e-bacf-a9061251c7c7",
   "metadata": {},
   "outputs": [],
   "source": []
  },
  {
   "cell_type": "markdown",
   "id": "d8f8bcef-1ecd-4508-a143-b45f2ab47601",
   "metadata": {
    "jp-MarkdownHeadingCollapsed": true,
    "toc-hr-collapsed": true
   },
   "source": [
    "### Import Statements"
   ]
  },
  {
   "cell_type": "code",
   "execution_count": 1,
   "id": "696f63c9-7bd3-45d7-9212-817eb1446e98",
   "metadata": {},
   "outputs": [],
   "source": [
    "import numpy as np\n",
    "import pandas as pd\n",
    "import scipy.stats\n",
    "\n",
    "from tqdm import tqdm\n",
    "import matplotlib.pyplot as plt\n",
    "import seaborn as sns\n",
    "\n",
    "%matplotlib inline"
   ]
  },
  {
   "cell_type": "code",
   "execution_count": 2,
   "id": "fca91944-865b-4e23-9995-3d073371555d",
   "metadata": {},
   "outputs": [],
   "source": [
    "import ast"
   ]
  },
  {
   "cell_type": "code",
   "execution_count": 3,
   "id": "efe6a4bd-500f-4961-b883-69f071c0bd59",
   "metadata": {},
   "outputs": [],
   "source": [
    "# https://bioframe.readthedocs.io/en/latest/guide-intervalops.html\n",
    "import bioframe as bf\n"
   ]
  },
  {
   "cell_type": "code",
   "execution_count": 4,
   "id": "eebfe7a1-1a14-4f47-86fb-331575afa3d8",
   "metadata": {},
   "outputs": [],
   "source": [
    "from Bio import SeqIO\n"
   ]
  },
  {
   "cell_type": "code",
   "execution_count": 5,
   "id": "ca2d2283-6bcd-47a5-8a26-11e5f82a1b24",
   "metadata": {},
   "outputs": [],
   "source": [
    "#import json"
   ]
  },
  {
   "cell_type": "code",
   "execution_count": 6,
   "id": "b36d7f13-6401-4d52-b59d-0664b0aea6a7",
   "metadata": {},
   "outputs": [],
   "source": [
    "import gfapy"
   ]
  },
  {
   "cell_type": "code",
   "execution_count": null,
   "id": "1cf27333-9bc4-436a-8537-397835b357ec",
   "metadata": {},
   "outputs": [],
   "source": []
  },
  {
   "cell_type": "markdown",
   "id": "475014d4-c712-4ba3-aa8a-4e5bc9d81650",
   "metadata": {},
   "source": [
    "#### Pandas Viewing Settings"
   ]
  },
  {
   "cell_type": "code",
   "execution_count": 7,
   "id": "d1a412ce-4068-430d-a0ea-d33297e933c6",
   "metadata": {},
   "outputs": [],
   "source": [
    "pd.set_option('display.max_rows', 500)\n",
    "pd.set_option('display.max_columns', 500)\n",
    "pd.set_option('display.width', 1000)"
   ]
  },
  {
   "cell_type": "code",
   "execution_count": 8,
   "id": "39be469a-3724-4758-9138-649acce30981",
   "metadata": {},
   "outputs": [],
   "source": [
    "pd.set_option('max_colwidth', 400)"
   ]
  },
  {
   "cell_type": "code",
   "execution_count": null,
   "id": "10f446c6-3d96-4bdc-937e-80fe694fc1a6",
   "metadata": {},
   "outputs": [],
   "source": []
  },
  {
   "cell_type": "markdown",
   "id": "66759d88-0f50-4eb4-a5b7-8a218cbd4417",
   "metadata": {
    "jp-MarkdownHeadingCollapsed": true
   },
   "source": [
    "## Define useful Kmer analysis functions"
   ]
  },
  {
   "cell_type": "code",
   "execution_count": 9,
   "id": "ddea95b0-a194-4504-85a7-f15976094a9a",
   "metadata": {},
   "outputs": [],
   "source": [
    "import screed"
   ]
  },
  {
   "cell_type": "code",
   "execution_count": 10,
   "id": "75017721-06cb-4663-ad28-db587128198b",
   "metadata": {},
   "outputs": [],
   "source": [
    "import mmh3"
   ]
  },
  {
   "cell_type": "code",
   "execution_count": 11,
   "id": "0cbe6553-fd15-4f8a-b5a3-d9825dfcb1a1",
   "metadata": {},
   "outputs": [],
   "source": [
    "def build_kmers(sequence, ksize):\n",
    "    kmers = []\n",
    "    n_kmers = len(sequence) - ksize + 1\n",
    "    \n",
    "    for i in range(n_kmers):\n",
    "        kmer = sequence[i:i + ksize]\n",
    "        kmers.append(kmer)\n",
    "        \n",
    "    return kmers"
   ]
  },
  {
   "cell_type": "code",
   "execution_count": 12,
   "id": "bbe95f28-ddb2-422c-9690-7e3db0d22a58",
   "metadata": {},
   "outputs": [],
   "source": [
    "#import screed a library for reading in FASTA/FASTQ\n",
    "\n",
    "def read_kmers_from_file(filename, ksize):\n",
    "    all_kmers = []\n",
    "    for record in screed.open(filename):\n",
    "        sequence = record.sequence\n",
    "        \n",
    "        kmers = build_kmers(sequence, ksize)\n",
    "        all_kmers += kmers\n",
    "\n",
    "    return all_kmers"
   ]
  },
  {
   "cell_type": "code",
   "execution_count": 13,
   "id": "77dda417-cd5b-45a9-ae69-f2dd24c05d95",
   "metadata": {},
   "outputs": [],
   "source": [
    "def hash_kmer(kmer):\n",
    "    # calculate the reverse complement\n",
    "    rc_kmer = screed.rc(kmer)\n",
    "    \n",
    "    # determine whether original k-mer or reverse complement is lesser\n",
    "    if kmer < rc_kmer:\n",
    "        canonical_kmer = kmer\n",
    "    else:\n",
    "        canonical_kmer = rc_kmer\n",
    "        \n",
    "    # calculate murmurhash using a hash seed of 42\n",
    "    hash = mmh3.hash64(canonical_kmer, 42)[0]\n",
    "    if hash < 0: hash += 2**64\n",
    "\n",
    "    return hash"
   ]
  },
  {
   "cell_type": "code",
   "execution_count": 14,
   "id": "3a642bfa-cc09-43d6-bc90-1479f84eb139",
   "metadata": {},
   "outputs": [],
   "source": [
    "# def hash_kmers(kmers):\n",
    "#     hashes = []\n",
    "#     for kmer in kmers:\n",
    "#         hashes.append(hash_kmer(kmer))\n",
    "#     return hashes\n",
    "\n",
    "def hash_kmers_ToSet(kmers):\n",
    "    hashes = set()\n",
    "    for kmer in kmers:\n",
    "        hashes.add(hash_kmer(kmer))\n",
    "    return hashes"
   ]
  },
  {
   "cell_type": "code",
   "execution_count": 15,
   "id": "37e67cfa-1d5a-4ad7-8a0e-543a1ca1dadb",
   "metadata": {},
   "outputs": [],
   "source": [
    "\n",
    "def jaccard_containment_FromSets(a, b):\n",
    "    '''\n",
    "    This function returns the Jaccard Containment between sets a and b.\n",
    "    '''\n",
    "    \n",
    "    intersection = len(a.intersection(b))\n",
    "    \n",
    "    return intersection / len(a)\n",
    "\n",
    "def jaccard_similarity_FromSets(a, b):\n",
    "    '''\n",
    "    This function returns the Jaccard Similarity between sets a and b.\n",
    "    '''\n",
    "    intersection = len(a.intersection(b))\n",
    "    union = len(a.union(b))\n",
    "    \n",
    "    return intersection / union\n"
   ]
  },
  {
   "cell_type": "code",
   "execution_count": 16,
   "id": "19675e3c-1f50-4d36-88fe-e176ff86c390",
   "metadata": {},
   "outputs": [],
   "source": [
    "def getAllHash_ExceptTargets_Set_V2(dictOfHashes, targetsToRemove):\n",
    "    # Convert targetsToRemove to a set for faster lookup\n",
    "    targetsToRemoveSet = set(targetsToRemove)\n",
    "\n",
    "    # Use set comprehension for more efficient construction of the result set\n",
    "    return {hash for seqID, seqInfoDict in dictOfHashes.items() if seqID not in targetsToRemoveSet\n",
    "            for hash in seqInfoDict[\"Kmer_Hashes_Set\"]}"
   ]
  },
  {
   "cell_type": "code",
   "execution_count": 17,
   "id": "58b2aa9f-0700-46b5-a3eb-027d351887b3",
   "metadata": {},
   "outputs": [],
   "source": [
    "def getAllHash_InTargetSeqs_Set(dictOfHashes, targetsToKeep):\n",
    "    \n",
    "    all_Hashes_InTarget = set()\n",
    "\n",
    "    for i_SeqID, i_SeqInfoDict in dictOfHashes.items():\n",
    "        \n",
    "        i_Hashes = i_SeqInfoDict[\"Kmer_Hashes_Set\"]\n",
    "        \n",
    "        if i_SeqID not in targetsToKeep:\n",
    "            all_Hashes_InTarget.update(i_Hashes) \n",
    "    \n",
    "    return all_Hashes_InTarget"
   ]
  },
  {
   "cell_type": "code",
   "execution_count": 18,
   "id": "d3ff8851-cd9c-4ed2-9828-9f2d1eb63421",
   "metadata": {},
   "outputs": [],
   "source": [
    "#%reload_ext autoreload\n",
    "#%autoreload 2\n",
    "\n",
    "### import panqc toolkit functions\n",
    "#from panqc.kmerlib import hash_kmers_ToSet, jaccard_similarity_FromSets, jaccard_containment_FromSets\n"
   ]
  },
  {
   "cell_type": "code",
   "execution_count": null,
   "id": "da34ea6d-b511-455f-8344-1255948fbd68",
   "metadata": {},
   "outputs": [],
   "source": []
  },
  {
   "cell_type": "markdown",
   "id": "f55a1a4a-f770-4fb7-a54d-2fc9fb87c9cc",
   "metadata": {
    "jp-MarkdownHeadingCollapsed": true
   },
   "source": [
    "# Define pangraph processing functions"
   ]
  },
  {
   "cell_type": "code",
   "execution_count": 19,
   "id": "9d5b1035-89f2-4ef7-b393-f8bf8918649e",
   "metadata": {},
   "outputs": [],
   "source": [
    "def parse_pangraph_fasta(fasta_path):\n",
    "    \"\"\"\n",
    "    Parses the FASTA file to extract node sequences.\n",
    "    \n",
    "    Args:\n",
    "        fasta_path (str): Path to the FASTA file.\n",
    "    \n",
    "    Returns:\n",
    "        dict: A dictionary with node IDs as keys and sequences as values.\n",
    "    \"\"\"\n",
    "    node_seqs = {}\n",
    "    for record in tqdm(SeqIO.parse(fasta_path, \"fasta\"), desc=\"Parsing FASTA\"):\n",
    "        node_seqs[record.name] = str(record.seq).upper()\n",
    "    return node_seqs"
   ]
  },
  {
   "cell_type": "code",
   "execution_count": 20,
   "id": "50884210-6c72-488d-84ed-37703bdf4519",
   "metadata": {},
   "outputs": [],
   "source": [
    "def parse_pangraph_gfa(gfa_path, node_seqs, k_size, num_assemblies):\n",
    "    \"\"\"\n",
    "    Parses the GFA file and adds sequence information, k-mer hashes, and statistics.\n",
    "    \n",
    "    Args:\n",
    "        gfa_path (str): Path to the GFA file.\n",
    "        node_seqs (dict): Dictionary of node sequences.\n",
    "        k_size (int): Size of k-mers for hashing.\n",
    "        num_assemblies (int): Total number of assemblies in Pangraph.\n",
    "    \n",
    "    Returns:\n",
    "        dict: A dictionary containing node information and statistics.\n",
    "    \"\"\"\n",
    "    gfa = gfapy.Gfa.from_file(gfa_path, version=\"gfa1\", vlevel=0)\n",
    "    node_info = {}\n",
    "    \n",
    "    # Process S-lines\n",
    "    for line in tqdm(gfa.lines, desc=\"Processing GFA S-lines\"):\n",
    "        if str(line).startswith(\"S\"):\n",
    "            parts = str(line).split(\"\\t\")\n",
    "            node_id = parts[1]\n",
    "            seq = node_seqs[node_id]\n",
    "            seq_len = len(seq)\n",
    "            rc = int(parts[4].split(\":i:\")[-1])\n",
    "            \n",
    "            # Generate k-mers and hashes\n",
    "            kmers = build_kmers(seq, k_size)\n",
    "            hashes = hash_kmers_ToSet(kmers)\n",
    "            \n",
    "            node_info[node_id] = {\n",
    "                \"Len\": seq_len,\n",
    "                \"N_Asms\": 0,\n",
    "                \"N_Occurrences\": 0,\n",
    "                \"Kmers\": kmers,\n",
    "                \"Kmer_Hashes_Set\": hashes,\n",
    "                \"RC\": rc\n",
    "            }\n",
    "    \n",
    "    # Process P-lines\n",
    "    for line in tqdm(gfa.lines, desc=\"Processing GFA P-lines\"):\n",
    "        if str(line).startswith(\"P\"):\n",
    "            parts = str(line).split(\"\\t\")\n",
    "            node_path = parts[2].split(\",\")\n",
    "            unique_nodes = {node[:-1] for node in node_path}\n",
    "            \n",
    "            for node_id in unique_nodes:\n",
    "                node_info[node_id][\"N_Asms\"] += 1\n",
    "            for node in node_path:\n",
    "                node_id = node[:-1]\n",
    "                node_info[node_id][\"N_Occurrences\"] += 1\n",
    "    \n",
    "    return node_info"
   ]
  },
  {
   "cell_type": "code",
   "execution_count": 21,
   "id": "1cf2300b-53e5-48bd-846f-22cc5048fc07",
   "metadata": {},
   "outputs": [],
   "source": [
    "def classify_pangraph_nodes(node_info, num_input_assemblies):\n",
    "    \"\"\"\n",
    "    Classifies nodes as Core or SV based on the number of assemblies.\n",
    "    \n",
    "    Args:\n",
    "        node_info (dict): Node information and statistics.\n",
    "        num_assemblies (int): Total number of assemblies in Pangraph.\n",
    "    \n",
    "    Returns:\n",
    "        tuple: Lists of core nodes and SV nodes.\n",
    "    \"\"\"\n",
    "    core_nodes = []\n",
    "    sv_nodes = []\n",
    "    \n",
    "    for node_id, info in node_info.items():\n",
    "        if info[\"N_Asms\"] > num_input_assemblies:\n",
    "            raise ValueError(f\"Node {node_id} has too many counts: {info['N_Asms']}\")\n",
    "        \n",
    "        if info[\"N_Asms\"] == num_input_assemblies:\n",
    "            info[\"Type\"] = \"Core\"\n",
    "            core_nodes.append(node_id)\n",
    "        else:\n",
    "            info[\"Type\"] = \"SV\"\n",
    "            sv_nodes.append(node_id)\n",
    "    \n",
    "    return core_nodes, sv_nodes"
   ]
  },
  {
   "cell_type": "code",
   "execution_count": 22,
   "id": "789255bb-25f2-47fe-9e65-815185ec010f",
   "metadata": {},
   "outputs": [],
   "source": [
    "\n",
    "def pangraph_pairwise_kmerset_comparison(node_info):\n",
    "    \"\"\"\n",
    "    Perform pairwise analysis of k-mer content between all nodes.\n",
    "    \n",
    "    Args:\n",
    "        node_info (dict): Dictionary containing node information.\n",
    "    \n",
    "    Returns:\n",
    "        pd.DataFrame: DataFrame containing pairwise comparisons with Jaccard metrics.\n",
    "    \"\"\"\n",
    "    pairwise_results = []\n",
    "\n",
    "    AllNodeIDs = list(node_info.keys())\n",
    "    \n",
    "    for node_1 in tqdm(AllNodeIDs, desc=\"Running pairwise comparisons of k-mer content\"):\n",
    "        for node_2 in AllNodeIDs:\n",
    "            # Skip comparisons if k-mer hashes are missing\n",
    "            if \"Kmer_Hashes_Set\" not in node_info[node_1] or \"Kmer_Hashes_Set\" not in node_info[node_2]:\n",
    "                continue\n",
    "\n",
    "            hashes_1 = node_info[node_1][\"Kmer_Hashes_Set\"]\n",
    "            hashes_2 = node_info[node_2][\"Kmer_Hashes_Set\"]\n",
    "\n",
    "            # Skip if no overlap of k-mers\n",
    "            if not (hashes_1 & hashes_2):\n",
    "                continue\n",
    "\n",
    "            # Calculate Jaccard Similarity\n",
    "            js = jaccard_similarity_FromSets(hashes_1, hashes_2)\n",
    "\n",
    "            # Skip if Jaccard Similarity is 0\n",
    "            if js == 0:\n",
    "                continue\n",
    "\n",
    "            # Calculate Jaccard Containment\n",
    "            jc = jaccard_containment_FromSets(hashes_1, hashes_2)\n",
    "\n",
    "            len_1 = node_info[node_1][\"Len\"]\n",
    "            len_2 = node_info[node_2][\"Len\"]\n",
    "\n",
    "            # Append results as a tuple\n",
    "            pairwise_results.append((node_1, node_2, len_1, len_2, js, jc))\n",
    "    \n",
    "    # Convert results to a DataFrame\n",
    "    columns = [\"RecordID_1\", \"RecordID_2\", \"Record1_Len\", \"Record2_Len\", \"JaccardSim\", \"JaccardContain\"]\n",
    "    AvA_results_df = pd.DataFrame(pairwise_results, columns=columns)\n",
    "    \n",
    "    # Exclude self-comparisons\n",
    "    AvA_results_df = AvA_results_df.query(\"RecordID_1 != RecordID_2\")\n",
    "    \n",
    "    return AvA_results_df\n"
   ]
  },
  {
   "cell_type": "code",
   "execution_count": 23,
   "id": "1f7ef2db-f425-487f-ad34-345021dc7c00",
   "metadata": {},
   "outputs": [],
   "source": [
    "def compare_kmers_to_profiles_with_max_jc(node_info, sv_node_ids, ref_kmer_sets, ava_nodes_df):\n",
    "    \"\"\"\n",
    "    Compares k-mer content of graph nodes to predefined k-mer profiles and calculates MaxJC.\n",
    "    \n",
    "    Args:\n",
    "        node_info (dict): Dictionary containing node information.\n",
    "        sv_node_ids (list): List of SV node IDs.\n",
    "        kmer_sets (dict): Dictionary of predefined k-mer sets (e.g., H37Rv, IS6110, etc.).\n",
    "        jaccard_containment_fn (function): Function to calculate Jaccard Containment.\n",
    "        ava_nodes_df (pd.DataFrame): DataFrame of pairwise comparisons with Jaccard metrics.\n",
    "    \n",
    "    Returns:\n",
    "        pd.DataFrame: DataFrame containing comparison results and MaxJC values.\n",
    "    \"\"\"\n",
    "\n",
    "    AllNodeIDs = list(node_info.keys())\n",
    "    \n",
    "    # Step 1: Create a dict mapping NodeID to the maximum Jaccard Containment (MaxJC)\n",
    "    max_jc_dict = ava_nodes_df.groupby(\"RecordID_1\")[\"JaccardContain\"].max().to_dict()\n",
    "    \n",
    "    results = []\n",
    "\n",
    "    for node_id, info in tqdm(node_info.items(), desc=\"Comparing node to reference k-mer profiles\"):\n",
    "        record_hashes = info.get(\"Kmer_Hashes_Set\", set())\n",
    "        len_seq = info.get(\"Len\", 0)\n",
    "        n_asms = info.get(\"N_Asms\", 0)\n",
    "        n_occurrences = info.get(\"N_Occurrences\", 0)\n",
    "        \n",
    "        # Initialize results with zero if no k-mers exist\n",
    "        jc_results = {key: 0 for key in ref_kmer_sets.keys()}\n",
    "        if record_hashes:\n",
    "            for key, kmer_set in ref_kmer_sets.items():\n",
    "                jc_results[key] = jaccard_containment_FromSets(record_hashes, kmer_set)\n",
    "        else:\n",
    "            if len_seq >= 31:\n",
    "                print(f\"No k-mers were produced for segment: {node_id}\")\n",
    "        \n",
    "        # Determine if the node is an SV node\n",
    "        is_sv_node = node_id in sv_node_ids\n",
    "\n",
    "        # Get MaxJC value for the node\n",
    "        max_jc_to_other_node = max_jc_dict.get(node_id, 0)\n",
    "\n",
    "        # Collect results for this node\n",
    "        row = (\n",
    "            node_id, len_seq, n_asms, n_occurrences,\n",
    "            jc_results.get(\"H37Rv\", 0),\n",
    "            jc_results.get(\"IS6110\", 0),\n",
    "            jc_results.get(\"Rv_InsSeqAndPhages\", 0),\n",
    "            is_sv_node, max_jc_to_other_node\n",
    "        )\n",
    "        results.append(row)\n",
    "    \n",
    "    # Convert results to a DataFrame\n",
    "    columns = [\n",
    "        \"NodeID\", \"SeqLength\", \"N_Asms\", \"N_Occurrences\",\n",
    "        \"Jaccard_Cont_WiRv\", \"Jaccard_Cont_WiIS6110\",\n",
    "        \"Jaccard_Cont_WiRv_InsSeqAndPhages\", \"IsSVNode\", \"MaxJC_ToOtherNode\"\n",
    "    ]\n",
    "    results_df = pd.DataFrame(results, columns=columns)\n",
    "    \n",
    "    return results_df\n"
   ]
  },
  {
   "cell_type": "markdown",
   "id": "249b1593-a175-4011-8acb-9c0aeb381b36",
   "metadata": {
    "jp-MarkdownHeadingCollapsed": true
   },
   "source": [
    "# Define function for summarizing pangraph stats regarding SV & Core Nodes"
   ]
  },
  {
   "cell_type": "code",
   "execution_count": 24,
   "id": "7747da36-135a-4b5e-9ce5-970bed1143ef",
   "metadata": {},
   "outputs": [],
   "source": [
    "def summarize_Pangenome_Node_Stats(node_summary_df):\n",
    "    \"\"\"\n",
    "    Summarizes key statistics from the pan-genome graph node summary DataFrame.\n",
    "    \n",
    "    Args:\n",
    "        node_summary_df (pd.DataFrame): DataFrame containing node summaries.\n",
    "    \n",
    "    Returns:\n",
    "        dict: A dictionary summarizing key statistics.\n",
    "    \"\"\"\n",
    "    stats = {}\n",
    "\n",
    "    # Core Nodes\n",
    "    core_nodes_all = node_summary_df.query(\"IsSVNode == False\")\n",
    "    core_nodes_pass = core_nodes_all.query(\"SeqLength >= 31\")\n",
    "    core_nodes_sub31bp = core_nodes_all.query(\"SeqLength < 31\")\n",
    "\n",
    "    # SV Nodes\n",
    "    sv_nodes_all = node_summary_df.query(\"IsSVNode == True\")\n",
    "    sv_nodes_pass = sv_nodes_all.query(\"SeqLength >= 31\")\n",
    "    sv_nodes_sub31bp = sv_nodes_all.query(\"SeqLength < 31\")\n",
    "\n",
    "    # SV Nodes by MaxJC threshold\n",
    "    sv_pass_UnqInGraph = sv_nodes_pass.query(\"MaxJC_ToOtherNode < 0.05\")\n",
    "    sv_pass_RepeatInGraph = sv_nodes_pass.query(\"MaxJC_ToOtherNode >= 0.05\")\n",
    "\n",
    "    # SV Nodes by Rv match threshold\n",
    "    sv_pass_UnqToH37Rv = sv_nodes_pass.query(\"Jaccard_Cont_WiRv < 0.05\")\n",
    "    sv_pass_InH37Rv = sv_nodes_pass.query(\"Jaccard_Cont_WiRv >= 0.05\")\n",
    "    \n",
    "\n",
    "    stats[\"N_CoreNodes\"] = core_nodes_all.shape[0]\n",
    "    stats[\"SeqLength_CoreNodes\"] = core_nodes_all[\"SeqLength\"].sum()\n",
    "    \n",
    "    stats[\"N_SV_All\"] = sv_nodes_all.shape[0]\n",
    "    stats[\"SeqLength_SV_All\"] = sv_nodes_all[\"SeqLength\"].sum()\n",
    "\n",
    "    stats[\"N_SV_UnqInGraph\"] = sv_pass_UnqInGraph.shape[0]\n",
    "    stats[\"SeqLength_SV_UnqInGraph\"] = sv_pass_UnqInGraph[\"SeqLength\"].sum()\n",
    "\n",
    "    stats[\"N_SV_RepeatInGraph\"] = sv_pass_RepeatInGraph.shape[0]\n",
    "    stats[\"SeqLength_SV_RepeatInGraph\"] = sv_pass_RepeatInGraph[\"SeqLength\"].sum()\n",
    "\n",
    "    stats[\"N_SV_UnqToH37Rv\"] = sv_pass_UnqToH37Rv.shape[0]\n",
    "    stats[\"SeqLength_SV_UnqToH37Rv\"] = sv_pass_UnqToH37Rv[\"SeqLength\"].sum()\n",
    "\n",
    "    return stats\n"
   ]
  },
  {
   "cell_type": "code",
   "execution_count": null,
   "id": "1c7d1af2-1245-49df-a93d-ae5a05ddf6db",
   "metadata": {},
   "outputs": [],
   "source": []
  },
  {
   "cell_type": "code",
   "execution_count": null,
   "id": "09bff20f-fbbf-49db-bc95-34cc8228c699",
   "metadata": {},
   "outputs": [],
   "source": []
  },
  {
   "cell_type": "code",
   "execution_count": null,
   "id": "613ca4e7-4e48-4521-a5c3-30696c388ed9",
   "metadata": {},
   "outputs": [],
   "source": []
  },
  {
   "cell_type": "markdown",
   "id": "defce519-4fb1-48af-b535-1cf6f8c0c01a",
   "metadata": {
    "jp-MarkdownHeadingCollapsed": true,
    "toc-hr-collapsed": true
   },
   "source": [
    "# Part 1: Parse sample metadata & preprocessed genome info/results"
   ]
  },
  {
   "cell_type": "code",
   "execution_count": 25,
   "id": "94424f7f-0a41-42c3-980a-4c5a608a497f",
   "metadata": {},
   "outputs": [],
   "source": [
    "Repo_DataDir = \"../../Data\"\n",
    "InputAsmPath_Dir = f\"{Repo_DataDir}/231121.InputAsmTSVs.MtbSetV3.151CI\"\n",
    "\n",
    "MtbSetV3_151CI_InputAsmPATHs_TSV = f\"{InputAsmPath_Dir}/231121.MtbSetV3.151CI.HybridAndSRAsm.FAPATHs.V1.tsv\"\n",
    "MtbSetV3_151CI_AsmSumm_TSV = f\"{InputAsmPath_Dir}/231121.MtbSetV3.151CI.HybridAsm.AsmSummary.V2.tsv\"   \n"
   ]
  },
  {
   "cell_type": "markdown",
   "id": "9f3e3fce-b1c9-4e3c-afb5-71a48415e2b4",
   "metadata": {},
   "source": [
    "## Parse sample Metadata (N = 151)"
   ]
  },
  {
   "cell_type": "code",
   "execution_count": 26,
   "id": "da1846c1-8774-45df-ab1d-4f8392a5a41d",
   "metadata": {},
   "outputs": [],
   "source": [
    "WGA151CI_AsmSummary_DF = pd.read_csv(MtbSetV3_151CI_AsmSumm_TSV, sep = \"\\t\")\n",
    "\n",
    "SampleIDs_151CI_SOI = list( WGA151CI_AsmSummary_DF[\"SampleID\"].values )\n",
    "WGA151CI_SampleIDs = SampleIDs_151CI_SOI\n",
    "\n",
    "ID_To_PrimLineage_Dict = dict(WGA151CI_AsmSummary_DF[['SampleID', 'PrimaryLineage']].values)\n",
    "ID_To_SubLineage_Dict = dict( WGA151CI_AsmSummary_DF[[\"SampleID\", \"Lineage\"]].values)\n",
    "ID_To_Dataset_Dict = dict(WGA151CI_AsmSummary_DF[['SampleID', 'Dataset_Tag']].values) \n"
   ]
  },
  {
   "cell_type": "markdown",
   "id": "cf2cf96d-a2ef-4f91-9a0d-bc68bff4c4d9",
   "metadata": {},
   "source": [
    "## Parse FASTA paths for 151 Mtb assemblies"
   ]
  },
  {
   "cell_type": "code",
   "execution_count": 27,
   "id": "fa26e897-697b-45eb-98ca-dca323794e8f",
   "metadata": {},
   "outputs": [
    {
     "data": {
      "text/plain": [
       "(151, 4)"
      ]
     },
     "execution_count": 27,
     "metadata": {},
     "output_type": "execute_result"
    }
   ],
   "source": [
    "WGA151CI_Asm_Path_DF = pd.read_csv(MtbSetV3_151CI_InputAsmPATHs_TSV, sep = \"\\t\")\n",
    "WGA151CI_Asm_Path_DF.shape"
   ]
  },
  {
   "cell_type": "code",
   "execution_count": 28,
   "id": "4f31e089-c997-4bc5-956d-20680afe4822",
   "metadata": {},
   "outputs": [
    {
     "data": {
      "text/html": [
       "<div>\n",
       "<style scoped>\n",
       "    .dataframe tbody tr th:only-of-type {\n",
       "        vertical-align: middle;\n",
       "    }\n",
       "\n",
       "    .dataframe tbody tr th {\n",
       "        vertical-align: top;\n",
       "    }\n",
       "\n",
       "    .dataframe thead th {\n",
       "        text-align: right;\n",
       "    }\n",
       "</style>\n",
       "<table border=\"1\" class=\"dataframe\">\n",
       "  <thead>\n",
       "    <tr style=\"text-align: right;\">\n",
       "      <th></th>\n",
       "      <th>SampleID</th>\n",
       "      <th>Dataset_Tag</th>\n",
       "      <th>Genome_ASM_PATH</th>\n",
       "      <th>ShortRead_Genome_ASM_PATH</th>\n",
       "    </tr>\n",
       "  </thead>\n",
       "  <tbody>\n",
       "    <tr>\n",
       "      <th>0</th>\n",
       "      <td>N0072</td>\n",
       "      <td>ChinerOms_2019</td>\n",
       "      <td>/n/data1/hms/dbmi/farhat/mm774/Projects/231121.MtbSetV3.151CI.CompleteAndSR.Asms/ChinerOms_2019/N0072.LR.Asm.fasta</td>\n",
       "      <td>/n/data1/hms/dbmi/farhat/mm774/Projects/231121.MtbSetV3.151CI.CompleteAndSR.Asms/ChinerOms_2019/N0072.SR.Asm.fasta</td>\n",
       "    </tr>\n",
       "    <tr>\n",
       "      <th>1</th>\n",
       "      <td>N0153</td>\n",
       "      <td>ChinerOms_2019</td>\n",
       "      <td>/n/data1/hms/dbmi/farhat/mm774/Projects/231121.MtbSetV3.151CI.CompleteAndSR.Asms/ChinerOms_2019/N0153.LR.Asm.fasta</td>\n",
       "      <td>/n/data1/hms/dbmi/farhat/mm774/Projects/231121.MtbSetV3.151CI.CompleteAndSR.Asms/ChinerOms_2019/N0153.SR.Asm.fasta</td>\n",
       "    </tr>\n",
       "    <tr>\n",
       "      <th>2</th>\n",
       "      <td>TB3113</td>\n",
       "      <td>TB_Portals_24CI_R1</td>\n",
       "      <td>/n/data1/hms/dbmi/farhat/mm774/Projects/231121.MtbSetV3.151CI.CompleteAndSR.Asms/TB_Portals_24CI_R1/TB3113.LR.Asm.fasta</td>\n",
       "      <td>/n/data1/hms/dbmi/farhat/mm774/Projects/231121.MtbSetV3.151CI.CompleteAndSR.Asms/TB_Portals_24CI_R1/TB3113.SR.Asm.fasta</td>\n",
       "    </tr>\n",
       "    <tr>\n",
       "      <th>3</th>\n",
       "      <td>TB1236</td>\n",
       "      <td>TB_Portals_24CI_R1</td>\n",
       "      <td>/n/data1/hms/dbmi/farhat/mm774/Projects/231121.MtbSetV3.151CI.CompleteAndSR.Asms/TB_Portals_24CI_R1/TB1236.LR.Asm.fasta</td>\n",
       "      <td>/n/data1/hms/dbmi/farhat/mm774/Projects/231121.MtbSetV3.151CI.CompleteAndSR.Asms/TB_Portals_24CI_R1/TB1236.SR.Asm.fasta</td>\n",
       "    </tr>\n",
       "  </tbody>\n",
       "</table>\n",
       "</div>"
      ],
      "text/plain": [
       "  SampleID         Dataset_Tag                                                                                                          Genome_ASM_PATH                                                                                                ShortRead_Genome_ASM_PATH\n",
       "0    N0072      ChinerOms_2019       /n/data1/hms/dbmi/farhat/mm774/Projects/231121.MtbSetV3.151CI.CompleteAndSR.Asms/ChinerOms_2019/N0072.LR.Asm.fasta       /n/data1/hms/dbmi/farhat/mm774/Projects/231121.MtbSetV3.151CI.CompleteAndSR.Asms/ChinerOms_2019/N0072.SR.Asm.fasta\n",
       "1    N0153      ChinerOms_2019       /n/data1/hms/dbmi/farhat/mm774/Projects/231121.MtbSetV3.151CI.CompleteAndSR.Asms/ChinerOms_2019/N0153.LR.Asm.fasta       /n/data1/hms/dbmi/farhat/mm774/Projects/231121.MtbSetV3.151CI.CompleteAndSR.Asms/ChinerOms_2019/N0153.SR.Asm.fasta\n",
       "2   TB3113  TB_Portals_24CI_R1  /n/data1/hms/dbmi/farhat/mm774/Projects/231121.MtbSetV3.151CI.CompleteAndSR.Asms/TB_Portals_24CI_R1/TB3113.LR.Asm.fasta  /n/data1/hms/dbmi/farhat/mm774/Projects/231121.MtbSetV3.151CI.CompleteAndSR.Asms/TB_Portals_24CI_R1/TB3113.SR.Asm.fasta\n",
       "3   TB1236  TB_Portals_24CI_R1  /n/data1/hms/dbmi/farhat/mm774/Projects/231121.MtbSetV3.151CI.CompleteAndSR.Asms/TB_Portals_24CI_R1/TB1236.LR.Asm.fasta  /n/data1/hms/dbmi/farhat/mm774/Projects/231121.MtbSetV3.151CI.CompleteAndSR.Asms/TB_Portals_24CI_R1/TB1236.SR.Asm.fasta"
      ]
     },
     "execution_count": 28,
     "metadata": {},
     "output_type": "execute_result"
    }
   ],
   "source": [
    "WGA151CI_Asm_Path_DF.head(4)"
   ]
  },
  {
   "cell_type": "code",
   "execution_count": 29,
   "id": "7c985490-0aaa-43d5-9282-9045b2c4fa7d",
   "metadata": {},
   "outputs": [],
   "source": [
    "SampleID_To_LRAsmFA_PATH_Dict = dict(WGA151CI_Asm_Path_DF[['SampleID', 'Genome_ASM_PATH']].values)"
   ]
  },
  {
   "cell_type": "code",
   "execution_count": null,
   "id": "4da858c0-251b-46c2-a489-2e500d8fe4f3",
   "metadata": {},
   "outputs": [],
   "source": []
  },
  {
   "cell_type": "code",
   "execution_count": null,
   "id": "147d3880-63d4-4d66-a19b-22274c255f9b",
   "metadata": {},
   "outputs": [],
   "source": []
  },
  {
   "cell_type": "code",
   "execution_count": null,
   "id": "bae70095-952c-454d-a995-e345e7071c86",
   "metadata": {},
   "outputs": [],
   "source": []
  },
  {
   "cell_type": "markdown",
   "id": "48f0d53c-f12f-40ba-bac9-61b14b5c60d7",
   "metadata": {
    "jp-MarkdownHeadingCollapsed": true
   },
   "source": [
    "## Import/parse processed H37rv genome annotations"
   ]
  },
  {
   "cell_type": "code",
   "execution_count": 30,
   "id": "61c9322e-fddf-4c52-bf56-7627b34850c8",
   "metadata": {},
   "outputs": [],
   "source": [
    "RepoRef_Dir = \"../../References\"\n",
    "\n",
    "AnnotatedGenes_And_IntergenicRegions_RepoRef_Dir = f\"{RepoRef_Dir}/201027_H37rv_AnnotatedGenes_And_IntergenicRegions\"\n",
    "H37Rv_GenomeAnnotations_Genes_TSV = f\"{AnnotatedGenes_And_IntergenicRegions_RepoRef_Dir}/H37Rv_GenomeAnnotations.Genes.tsv\"\n",
    "\n",
    "## H37Rv Gene Annotations TSV\n",
    "H37Rv_GenomeAnno_Genes_DF = pd.read_csv(H37Rv_GenomeAnnotations_Genes_TSV, sep = \"\\t\")\n",
    "H37Rv_GeneInfo_Subset_DF = H37Rv_GenomeAnno_Genes_DF[[\"H37rv_GeneID\", \"Symbol\", \"Feature\", \"Functional_Category\", \"Is_Pseudogene\", \"Product\", \"PEandPPE_Subfamily\", \"ExcludedGroup_Category\"]]\n",
    "\n",
    "RvID_To_Symbol_Dict = dict(H37Rv_GeneInfo_Subset_DF[['H37rv_GeneID', 'Symbol']].values)\n",
    "Symbol_To_FuncCat_Dict = dict(H37Rv_GeneInfo_Subset_DF[['Symbol', 'Functional_Category']].values)\n"
   ]
  },
  {
   "cell_type": "code",
   "execution_count": 31,
   "id": "3f53ca1e-8fc1-4d52-9c99-59547f73fcee",
   "metadata": {},
   "outputs": [
    {
     "data": {
      "text/html": [
       "<div>\n",
       "<style scoped>\n",
       "    .dataframe tbody tr th:only-of-type {\n",
       "        vertical-align: middle;\n",
       "    }\n",
       "\n",
       "    .dataframe tbody tr th {\n",
       "        vertical-align: top;\n",
       "    }\n",
       "\n",
       "    .dataframe thead th {\n",
       "        text-align: right;\n",
       "    }\n",
       "</style>\n",
       "<table border=\"1\" class=\"dataframe\">\n",
       "  <thead>\n",
       "    <tr style=\"text-align: right;\">\n",
       "      <th></th>\n",
       "      <th>Chrom</th>\n",
       "      <th>Start</th>\n",
       "      <th>End</th>\n",
       "      <th>Strand</th>\n",
       "      <th>H37rv_GeneID</th>\n",
       "      <th>Symbol</th>\n",
       "      <th>Feature</th>\n",
       "      <th>Functional_Category</th>\n",
       "      <th>Is_Pseudogene</th>\n",
       "      <th>Product</th>\n",
       "      <th>PEandPPE_Subfamily</th>\n",
       "      <th>ExcludedGroup_Category</th>\n",
       "    </tr>\n",
       "  </thead>\n",
       "  <tbody>\n",
       "    <tr>\n",
       "      <th>0</th>\n",
       "      <td>NC_000962.3</td>\n",
       "      <td>0</td>\n",
       "      <td>1524</td>\n",
       "      <td>+</td>\n",
       "      <td>Rv0001</td>\n",
       "      <td>dnaA</td>\n",
       "      <td>CDS</td>\n",
       "      <td>information pathways</td>\n",
       "      <td>No</td>\n",
       "      <td>Chromosomal replication initiator protein DnaA</td>\n",
       "      <td>None</td>\n",
       "      <td>NotExcluded</td>\n",
       "    </tr>\n",
       "    <tr>\n",
       "      <th>1</th>\n",
       "      <td>NC_000962.3</td>\n",
       "      <td>2051</td>\n",
       "      <td>3260</td>\n",
       "      <td>+</td>\n",
       "      <td>Rv0002</td>\n",
       "      <td>dnaN</td>\n",
       "      <td>CDS</td>\n",
       "      <td>information pathways</td>\n",
       "      <td>No</td>\n",
       "      <td>DNA polymerase III (beta chain) DnaN (DNA nucleotidyltransferase)</td>\n",
       "      <td>None</td>\n",
       "      <td>NotExcluded</td>\n",
       "    </tr>\n",
       "    <tr>\n",
       "      <th>2</th>\n",
       "      <td>NC_000962.3</td>\n",
       "      <td>3279</td>\n",
       "      <td>4437</td>\n",
       "      <td>+</td>\n",
       "      <td>Rv0003</td>\n",
       "      <td>recF</td>\n",
       "      <td>CDS</td>\n",
       "      <td>information pathways</td>\n",
       "      <td>No</td>\n",
       "      <td>DNA replication and repair protein RecF (single-strand DNA binding protein)</td>\n",
       "      <td>None</td>\n",
       "      <td>NotExcluded</td>\n",
       "    </tr>\n",
       "  </tbody>\n",
       "</table>\n",
       "</div>"
      ],
      "text/plain": [
       "         Chrom  Start   End Strand H37rv_GeneID Symbol Feature   Functional_Category Is_Pseudogene                                                                      Product PEandPPE_Subfamily ExcludedGroup_Category\n",
       "0  NC_000962.3      0  1524      +       Rv0001   dnaA     CDS  information pathways            No                               Chromosomal replication initiator protein DnaA               None            NotExcluded\n",
       "1  NC_000962.3   2051  3260      +       Rv0002   dnaN     CDS  information pathways            No            DNA polymerase III (beta chain) DnaN (DNA nucleotidyltransferase)               None            NotExcluded\n",
       "2  NC_000962.3   3279  4437      +       Rv0003   recF     CDS  information pathways            No  DNA replication and repair protein RecF (single-strand DNA binding protein)               None            NotExcluded"
      ]
     },
     "execution_count": 31,
     "metadata": {},
     "output_type": "execute_result"
    }
   ],
   "source": [
    "H37Rv_GenomeAnno_Genes_DF.head(3)"
   ]
  },
  {
   "cell_type": "code",
   "execution_count": null,
   "id": "a20639a7-852d-49ca-84e7-b6d23be273cb",
   "metadata": {},
   "outputs": [],
   "source": []
  },
  {
   "cell_type": "markdown",
   "id": "e3c2329b-d0fb-4c11-b202-c2cce0004049",
   "metadata": {
    "jp-MarkdownHeadingCollapsed": true
   },
   "source": [
    "# Part 2: Generate reference k-mer sets (ie H37Rv, IS6110, Phages + ISs)  "
   ]
  },
  {
   "cell_type": "markdown",
   "id": "ece06a6c-60c4-4421-9830-0c669eacf470",
   "metadata": {},
   "source": [
    "### Define k-mer size for entire analysis"
   ]
  },
  {
   "cell_type": "code",
   "execution_count": 32,
   "id": "fc9dfcc3-5a18-440d-920a-a7e7cde33265",
   "metadata": {},
   "outputs": [],
   "source": [
    "k_size = 31"
   ]
  },
  {
   "cell_type": "code",
   "execution_count": null,
   "id": "ecc48a47-e30b-4cde-9b20-22295d7b4b81",
   "metadata": {},
   "outputs": [],
   "source": []
  },
  {
   "cell_type": "markdown",
   "id": "cb4c14cb-35f2-4d48-9dbd-75436abec1c1",
   "metadata": {},
   "source": [
    "## Generate k-mer info for H37Rv and a representative IS6110 sequence "
   ]
  },
  {
   "cell_type": "code",
   "execution_count": 33,
   "id": "21dad0f1-c100-47e1-93af-4c8e63195f59",
   "metadata": {},
   "outputs": [],
   "source": [
    "Mtb_RefDir=\"/n/data1/hms/dbmi/farhat/mm774/References\"\n",
    "\n",
    "H37rv_Ref_FA_PATH = f\"{Mtb_RefDir}/GCF_000195955.2_ASM19595v2_genomic.fasta\"\n",
    "IS6110_Example_FA_PATH = f\"{Mtb_RefDir}/IS6110_From_Rv0795_Rv0796.DNA.fasta\""
   ]
  },
  {
   "cell_type": "markdown",
   "id": "26f5b711-d8dc-4b74-a99f-1811813010c0",
   "metadata": {},
   "source": [
    "#### H37Rv - k-mer generation & hashing"
   ]
  },
  {
   "cell_type": "code",
   "execution_count": 34,
   "id": "5265f6d1-86ac-4038-bc3c-cf9399880b56",
   "metadata": {},
   "outputs": [
    {
     "name": "stdout",
     "output_type": "stream",
     "text": [
      "4411502\n"
     ]
    }
   ],
   "source": [
    "H37Rv_kmers = read_kmers_from_file(H37rv_Ref_FA_PATH, k_size)\n",
    "\n",
    "H37Rv_Hashes_Set = hash_kmers_ToSet(H37Rv_kmers)\n",
    "\n",
    "print(len(H37Rv_kmers))"
   ]
  },
  {
   "cell_type": "markdown",
   "id": "f4186ff6-1908-4729-91b6-8e4c06046286",
   "metadata": {},
   "source": [
    "#### IS6110 (Rv0795 & Rv0796) - k-mer generation & hashing"
   ]
  },
  {
   "cell_type": "code",
   "execution_count": 35,
   "id": "4bf14e8d-4867-4046-a503-dc8c892d90da",
   "metadata": {},
   "outputs": [
    {
     "name": "stdout",
     "output_type": "stream",
     "text": [
      "1254\n"
     ]
    }
   ],
   "source": [
    "IS6110_Ex1_kmers = read_kmers_from_file(IS6110_Example_FA_PATH, k_size)\n",
    "\n",
    "IS6110_Ex1_Hashes_Set = hash_kmers_ToSet(IS6110_Ex1_kmers)\n",
    "\n",
    "print(len(IS6110_Ex1_kmers))"
   ]
  },
  {
   "cell_type": "code",
   "execution_count": null,
   "id": "20e40c8f-62f8-4f00-a836-51070ba572b3",
   "metadata": {},
   "outputs": [],
   "source": []
  },
  {
   "cell_type": "markdown",
   "id": "e486172d-80cd-4c53-a902-120f087c752c",
   "metadata": {},
   "source": [
    "## Generate k-mer info for all H37Rv gene DNA sequences (Mycobrowser)"
   ]
  },
  {
   "cell_type": "code",
   "execution_count": 36,
   "id": "43befdd4-a196-4f55-a361-c2980e63cad0",
   "metadata": {},
   "outputs": [],
   "source": [
    "O2_RefDir = \"/n/data1/hms/dbmi/farhat/mm774/References\"\n",
    "MycoBrowser_RefFiles_Dir = f\"{O2_RefDir}/190619_Mycobrowser_H37rv_ReferenceFiles\"\n",
    "\n",
    "H37Rv_Genes_MycoBro_FA = f\"{MycoBrowser_RefFiles_Dir}/Mycobacterium_tuberculosis_H37Rv_genes_v3.fasta\"\n"
   ]
  },
  {
   "cell_type": "code",
   "execution_count": 37,
   "id": "33d04c9e-35bc-4983-9320-344f0a410fc8",
   "metadata": {},
   "outputs": [
    {
     "name": "stdout",
     "output_type": "stream",
     "text": [
      ">Rv0001|dnaA|CDS|1-1524|+|Chromosomal replication initiator protein DnaA\n"
     ]
    }
   ],
   "source": [
    "!grep ^\">\" $H37Rv_Genes_MycoBro_FA | grep \"dnaA\""
   ]
  },
  {
   "cell_type": "markdown",
   "id": "df3a8692-a4d0-419a-90cc-808837ec14a8",
   "metadata": {},
   "source": [
    "### Get 31-mer hashes for all annotated gene DNA sequences"
   ]
  },
  {
   "cell_type": "code",
   "execution_count": 38,
   "id": "3f2df65f-91ff-4331-b0f2-a9bbe1c8dfdb",
   "metadata": {},
   "outputs": [
    {
     "name": "stderr",
     "output_type": "stream",
     "text": [
      "4187it [00:24, 173.96it/s]\n"
     ]
    }
   ],
   "source": [
    "dictOf_H37Rv_MycoBrow_GeneSeq = {}\n",
    "dictOf_H37Rv_MycoBrow_Gene_KmerHashes = {}\n",
    "\n",
    "for index, record in tqdm(enumerate(SeqIO.parse(H37Rv_Genes_MycoBro_FA, \"fasta\"))):\n",
    "    \n",
    "    RecordName = record.name\n",
    "    RvID = RecordName.split(\"|\")[0]\n",
    "    GeneID = RecordName.split(\"|\")[1]\n",
    "    S_Seq = str(record.seq).upper()\n",
    "    \n",
    "    dictOf_H37Rv_MycoBrow_GeneSeq[GeneID] = S_Seq\n",
    "\n",
    "    record_Hashes_Set = hash_kmers_ToSet(build_kmers(S_Seq, k_size))\n",
    "\n",
    "    dictOf_H37Rv_MycoBrow_Gene_KmerHashes[GeneID] = record_Hashes_Set\n",
    "    "
   ]
  },
  {
   "cell_type": "code",
   "execution_count": 39,
   "id": "b8a233dd-929a-448b-9cac-888bffd7a653",
   "metadata": {},
   "outputs": [
    {
     "data": {
      "text/plain": [
       "1524"
      ]
     },
     "execution_count": 39,
     "metadata": {},
     "output_type": "execute_result"
    }
   ],
   "source": [
    "len(dictOf_H37Rv_MycoBrow_GeneSeq[\"dnaA\"])"
   ]
  },
  {
   "cell_type": "code",
   "execution_count": 40,
   "id": "b6d98233-c3ca-422b-b75b-0bdd7e3c511e",
   "metadata": {},
   "outputs": [
    {
     "data": {
      "text/plain": [
       "[13580233940393664509, 5138456728421695490]"
      ]
     },
     "execution_count": 40,
     "metadata": {},
     "output_type": "execute_result"
    }
   ],
   "source": [
    "list(dictOf_H37Rv_MycoBrow_Gene_KmerHashes[\"dnaA\"])[:2]"
   ]
  },
  {
   "cell_type": "markdown",
   "id": "33c88e79-dd01-45eb-86b2-5b1b50289eec",
   "metadata": {},
   "source": [
    "## Generate k-mer info for \"Phage Sequences & Insertion Sequences) in H37Rv"
   ]
  },
  {
   "cell_type": "markdown",
   "id": "c87a1913-60e8-4a1a-b915-72d33991b72a",
   "metadata": {
    "jp-MarkdownHeadingCollapsed": true
   },
   "source": [
    "## a) Create DF for only MGEs (Insertion seqs & phages)"
   ]
  },
  {
   "cell_type": "code",
   "execution_count": 41,
   "id": "8b1fd981-f0e7-404a-a044-f2da32b91eed",
   "metadata": {},
   "outputs": [
    {
     "data": {
      "text/plain": [
       "147"
      ]
     },
     "execution_count": 41,
     "metadata": {},
     "output_type": "execute_result"
    }
   ],
   "source": [
    "H37Rv_Anno_InsSeqAndPhages_DF = H37Rv_GenomeAnno_Genes_DF.query(\"Functional_Category == 'insertion seqs and phages'\")     \n",
    "\n",
    "InsSeqAndPhages_GeneIDs = H37Rv_Anno_InsSeqAndPhages_DF[\"Symbol\"].values\n",
    "len(InsSeqAndPhages_GeneIDs)\n",
    "     "
   ]
  },
  {
   "cell_type": "code",
   "execution_count": 42,
   "id": "3de21526-78d0-44c4-8fa9-65c9a68d6897",
   "metadata": {},
   "outputs": [],
   "source": [
    "#### Peak at the first 5 geneIDs"
   ]
  },
  {
   "cell_type": "code",
   "execution_count": 43,
   "id": "e87103e1-0862-4a5d-84ee-75b6b63a91d9",
   "metadata": {},
   "outputs": [
    {
     "data": {
      "text/plain": [
       "array(['Rv0031', 'Rv0094c', 'Rv0095c', 'Rv0336', 'Rv0393'], dtype=object)"
      ]
     },
     "execution_count": 43,
     "metadata": {},
     "output_type": "execute_result"
    }
   ],
   "source": [
    "InsSeqAndPhages_GeneIDs[:5]"
   ]
  },
  {
   "cell_type": "code",
   "execution_count": 44,
   "id": "546b4018-a558-487d-96e4-1a42420692a8",
   "metadata": {},
   "outputs": [
    {
     "data": {
      "text/html": [
       "<div>\n",
       "<style scoped>\n",
       "    .dataframe tbody tr th:only-of-type {\n",
       "        vertical-align: middle;\n",
       "    }\n",
       "\n",
       "    .dataframe tbody tr th {\n",
       "        vertical-align: top;\n",
       "    }\n",
       "\n",
       "    .dataframe thead th {\n",
       "        text-align: right;\n",
       "    }\n",
       "</style>\n",
       "<table border=\"1\" class=\"dataframe\">\n",
       "  <thead>\n",
       "    <tr style=\"text-align: right;\">\n",
       "      <th></th>\n",
       "      <th>Chrom</th>\n",
       "      <th>Start</th>\n",
       "      <th>End</th>\n",
       "      <th>Strand</th>\n",
       "      <th>H37rv_GeneID</th>\n",
       "      <th>Symbol</th>\n",
       "      <th>Feature</th>\n",
       "      <th>Functional_Category</th>\n",
       "      <th>Is_Pseudogene</th>\n",
       "      <th>Product</th>\n",
       "      <th>PEandPPE_Subfamily</th>\n",
       "      <th>ExcludedGroup_Category</th>\n",
       "    </tr>\n",
       "  </thead>\n",
       "  <tbody>\n",
       "    <tr>\n",
       "      <th>33</th>\n",
       "      <td>NC_000962.3</td>\n",
       "      <td>33581</td>\n",
       "      <td>33794</td>\n",
       "      <td>+</td>\n",
       "      <td>Rv0031</td>\n",
       "      <td>Rv0031</td>\n",
       "      <td>CDS</td>\n",
       "      <td>insertion seqs and phages</td>\n",
       "      <td>No</td>\n",
       "      <td>Possible remnant of a transposase</td>\n",
       "      <td>None</td>\n",
       "      <td>InsertionSeqs_And_Phages</td>\n",
       "    </tr>\n",
       "  </tbody>\n",
       "</table>\n",
       "</div>"
      ],
      "text/plain": [
       "          Chrom  Start    End Strand H37rv_GeneID  Symbol Feature        Functional_Category Is_Pseudogene                            Product PEandPPE_Subfamily    ExcludedGroup_Category\n",
       "33  NC_000962.3  33581  33794      +       Rv0031  Rv0031     CDS  insertion seqs and phages            No  Possible remnant of a transposase               None  InsertionSeqs_And_Phages"
      ]
     },
     "execution_count": 44,
     "metadata": {},
     "output_type": "execute_result"
    }
   ],
   "source": [
    "H37Rv_Anno_InsSeqAndPhages_DF.head(1)"
   ]
  },
  {
   "cell_type": "markdown",
   "id": "8f3d67f8-2082-4c7d-99d0-6029b853a838",
   "metadata": {
    "jp-MarkdownHeadingCollapsed": true
   },
   "source": [
    "## b) Generate union of all 31 bp k-mer hashes for \"Insertion seqs & phages\" genes (N=147)"
   ]
  },
  {
   "cell_type": "code",
   "execution_count": 45,
   "id": "ccda0f41-cd54-4c20-8699-bd18958811e9",
   "metadata": {},
   "outputs": [],
   "source": [
    "def getAllHashes_InTargetSeqs(dictOfHashes, targetsToKeep):\n",
    "    \n",
    "    all_Hashes_InTarget = set()\n",
    "\n",
    "    for i_SeqID, i_Hashes in dictOfHashes.items():\n",
    "                \n",
    "        if i_SeqID in targetsToKeep:\n",
    "            all_Hashes_InTarget.update(i_Hashes) \n",
    "    \n",
    "    return all_Hashes_InTarget"
   ]
  },
  {
   "cell_type": "code",
   "execution_count": 46,
   "id": "9127f897-1463-4803-855d-4615121a0ac3",
   "metadata": {},
   "outputs": [
    {
     "name": "stdout",
     "output_type": "stream",
     "text": [
      "69102\n"
     ]
    }
   ],
   "source": [
    "Rv_MGEs_Hashes_Set = getAllHashes_InTargetSeqs(dictOf_H37Rv_MycoBrow_Gene_KmerHashes,\n",
    "                                                    InsSeqAndPhages_GeneIDs)   \n",
    "\n",
    "print(len(Rv_MGEs_Hashes_Set))"
   ]
  },
  {
   "cell_type": "markdown",
   "id": "b886e67e-2445-49f2-a885-2d3fffad9034",
   "metadata": {},
   "source": [
    "#### Look at Jaccard Containment between 31-mers of H37Rv and H37Rv's MGEs (ISs + Phages)"
   ]
  },
  {
   "cell_type": "code",
   "execution_count": 47,
   "id": "54e74115-9610-4c54-bc89-63b5dbf88441",
   "metadata": {},
   "outputs": [
    {
     "data": {
      "text/plain": [
       "0.01589562466616704"
      ]
     },
     "execution_count": 47,
     "metadata": {},
     "output_type": "execute_result"
    }
   ],
   "source": [
    "jaccard_containment_FromSets(H37Rv_Hashes_Set, Rv_MGEs_Hashes_Set)"
   ]
  },
  {
   "cell_type": "code",
   "execution_count": null,
   "id": "f76db83f-71be-44e1-b8fe-521149a7d529",
   "metadata": {},
   "outputs": [],
   "source": []
  },
  {
   "cell_type": "code",
   "execution_count": null,
   "id": "24b1daaf-1bb2-410e-9fdb-a0587be5ae53",
   "metadata": {},
   "outputs": [],
   "source": []
  },
  {
   "cell_type": "code",
   "execution_count": null,
   "id": "0abee7e9-ddfe-48aa-8631-1479dc20edd2",
   "metadata": {},
   "outputs": [],
   "source": []
  },
  {
   "cell_type": "code",
   "execution_count": null,
   "id": "2d7f8a8e-c2cd-44fa-bf79-c3b39f5e767b",
   "metadata": {},
   "outputs": [],
   "source": []
  },
  {
   "cell_type": "markdown",
   "id": "8421a811-7a3e-4820-be32-661cd2e9ce6a",
   "metadata": {},
   "source": [
    "# Part 3: Generate k-mer info per node from Pangraph GFA "
   ]
  },
  {
   "cell_type": "code",
   "execution_count": null,
   "id": "e19e4e5e-bac7-44b4-ba43-9621cb0aa73d",
   "metadata": {},
   "outputs": [],
   "source": []
  },
  {
   "cell_type": "markdown",
   "id": "8aebf67b-a7ee-46e5-895b-dec773cc4ff7",
   "metadata": {},
   "source": [
    "## Define output dir of the Mtb-WGA-SMK processing pipeline"
   ]
  },
  {
   "cell_type": "code",
   "execution_count": 48,
   "id": "3f6bd69d-f1b4-4558-b206-3fd91682a62a",
   "metadata": {},
   "outputs": [],
   "source": [
    "WGA_SMK_Outputs_Dir = \"/n/data1/hms/dbmi/farhat/mm774/Projects/Mtb-WGA-SMK-Output\"\n",
    "\n",
    "WGA151CI_SMK_OutputDir = WGA_SMK_Outputs_Dir + \"/231121_MtbSetV3_151CI\"\n",
    "MtbWGA_SMK_Pipeline_OutputDir = WGA151CI_SMK_OutputDir\n"
   ]
  },
  {
   "cell_type": "code",
   "execution_count": null,
   "id": "653f27f5-95ac-428b-931f-dcffcdd95ce8",
   "metadata": {},
   "outputs": [],
   "source": []
  },
  {
   "cell_type": "code",
   "execution_count": null,
   "id": "b0b833ae-26bd-456b-985b-f0853b28a04f",
   "metadata": {},
   "outputs": [],
   "source": []
  },
  {
   "cell_type": "markdown",
   "id": "9e539fa0-a6b0-4aca-8c8b-e8f270a5df43",
   "metadata": {},
   "source": [
    "### Define paths to processed analysis of SV Pan-genome graph (minigraph)"
   ]
  },
  {
   "cell_type": "code",
   "execution_count": 49,
   "id": "036cf4a0-2ef2-4af3-929b-7adff23778c1",
   "metadata": {},
   "outputs": [],
   "source": [
    "PangenomeAnalysis_Dir = \"../../Data/MtbPangenomeAnalysis_SetV5\"\n",
    "\n",
    "MG_Node_KmerComp_TSV_GZ = f\"{PangenomeAnalysis_Dir}/MtbSVPG.Minigraph.NodeKmerComp.Summary.V1.tsv.gz\" \n",
    "\n",
    "MG_AvA_Node_KmerAnalysis_TSV_GZ = f\"{PangenomeAnalysis_Dir}/MtbSVPG.Minigraph.NodeKmerComp.AllVsAll.V1.tsv.gz\"     \n",
    "\n",
    "MG_BubbleSumm_TSV_GZ = f\"{PangenomeAnalysis_Dir}/MtbSVPG.Minigraph.BubbleSummary.BED.tsv.gz\"     \n",
    "\n",
    "MG_SVVCF_TSV_GZ = f\"{PangenomeAnalysis_Dir}/MtbSVPG.Minigraph.BubbleAlleleInfo.SVVCF.tsv.gz\" \n",
    "\n",
    "MG_SVInfo_TSV_GZ = f\"{PangenomeAnalysis_Dir}/MtbSVPG.Minigraph.BubbleAlleleInfo.SVInfo.tsv.gz\" \n"
   ]
  },
  {
   "cell_type": "markdown",
   "id": "67358220-7a90-4990-9248-894f5f645e47",
   "metadata": {},
   "source": [
    "### Parse in `MG_Nodes_KmerVsRefSets_DF`"
   ]
  },
  {
   "cell_type": "code",
   "execution_count": 50,
   "id": "8926d0f6-9b7c-47fd-940b-4cbbfaba6d17",
   "metadata": {},
   "outputs": [
    {
     "data": {
      "text/plain": [
       "(3138, 18)"
      ]
     },
     "execution_count": 50,
     "metadata": {},
     "output_type": "execute_result"
    }
   ],
   "source": [
    "MG_Nodes_KmerComp_DF = pd.read_csv(MG_Node_KmerComp_TSV_GZ, sep = \"\\t\" )\n",
    "MG_Nodes_KmerComp_DF.shape"
   ]
  },
  {
   "cell_type": "code",
   "execution_count": 51,
   "id": "f8922d1f-0a53-4d5c-a152-216e1369a8ac",
   "metadata": {},
   "outputs": [
    {
     "data": {
      "text/html": [
       "<div>\n",
       "<style scoped>\n",
       "    .dataframe tbody tr th:only-of-type {\n",
       "        vertical-align: middle;\n",
       "    }\n",
       "\n",
       "    .dataframe tbody tr th {\n",
       "        vertical-align: top;\n",
       "    }\n",
       "\n",
       "    .dataframe thead th {\n",
       "        text-align: right;\n",
       "    }\n",
       "</style>\n",
       "<table border=\"1\" class=\"dataframe\">\n",
       "  <thead>\n",
       "    <tr style=\"text-align: right;\">\n",
       "      <th></th>\n",
       "      <th>NodeID</th>\n",
       "      <th>IsSVNode</th>\n",
       "      <th>SeqLength</th>\n",
       "      <th>Jaccard_Cont_WiRv</th>\n",
       "      <th>Jaccard_Cont_WiIS6110</th>\n",
       "      <th>Jaccard_Cont_WiRv_InsSeqAndPhages</th>\n",
       "      <th>Jaccard_Cont_WiRv_PEPPEs</th>\n",
       "      <th>Jaccard_Cont_WiRv_InfoPathways</th>\n",
       "      <th>Jaccard_Cont_WiRv_ConservedHypo</th>\n",
       "      <th>Jaccard_Cont_WiRv_CellWallCellProc</th>\n",
       "      <th>Jaccard_Cont_WiRv_StableRNAs</th>\n",
       "      <th>Jaccard_Cont_WiRv_InterMetabolism</th>\n",
       "      <th>Jaccard_Cont_WiRv_RegProteins</th>\n",
       "      <th>Jaccard_Cont_WiRv_VirulenceDetoxAdaptation</th>\n",
       "      <th>Jaccard_Cont_WiRv_LipidMetabolism</th>\n",
       "      <th>Jaccard_Cont_WiRv_Unknown</th>\n",
       "      <th>BubbleID</th>\n",
       "      <th>MaxJC_ToOtherNode</th>\n",
       "    </tr>\n",
       "  </thead>\n",
       "  <tbody>\n",
       "    <tr>\n",
       "      <th>0</th>\n",
       "      <td>s1</td>\n",
       "      <td>False</td>\n",
       "      <td>1533</td>\n",
       "      <td>1.0</td>\n",
       "      <td>0.0</td>\n",
       "      <td>0.0</td>\n",
       "      <td>0.0</td>\n",
       "      <td>0.994012</td>\n",
       "      <td>0.000000</td>\n",
       "      <td>0.000000</td>\n",
       "      <td>0.000000</td>\n",
       "      <td>0.0</td>\n",
       "      <td>0.0</td>\n",
       "      <td>0.0</td>\n",
       "      <td>0.0</td>\n",
       "      <td>0.0</td>\n",
       "      <td>None</td>\n",
       "      <td>0.000000</td>\n",
       "    </tr>\n",
       "    <tr>\n",
       "      <th>1</th>\n",
       "      <td>s2</td>\n",
       "      <td>False</td>\n",
       "      <td>58</td>\n",
       "      <td>1.0</td>\n",
       "      <td>0.0</td>\n",
       "      <td>0.0</td>\n",
       "      <td>0.0</td>\n",
       "      <td>0.000000</td>\n",
       "      <td>0.000000</td>\n",
       "      <td>0.000000</td>\n",
       "      <td>0.000000</td>\n",
       "      <td>0.0</td>\n",
       "      <td>0.0</td>\n",
       "      <td>0.0</td>\n",
       "      <td>0.0</td>\n",
       "      <td>0.0</td>\n",
       "      <td>None</td>\n",
       "      <td>0.000000</td>\n",
       "    </tr>\n",
       "    <tr>\n",
       "      <th>2</th>\n",
       "      <td>s3</td>\n",
       "      <td>True</td>\n",
       "      <td>56</td>\n",
       "      <td>1.0</td>\n",
       "      <td>0.0</td>\n",
       "      <td>0.0</td>\n",
       "      <td>0.0</td>\n",
       "      <td>0.000000</td>\n",
       "      <td>0.000000</td>\n",
       "      <td>0.000000</td>\n",
       "      <td>0.000000</td>\n",
       "      <td>0.0</td>\n",
       "      <td>0.0</td>\n",
       "      <td>0.0</td>\n",
       "      <td>0.0</td>\n",
       "      <td>0.0</td>\n",
       "      <td>BubbleRegion_2</td>\n",
       "      <td>0.961538</td>\n",
       "    </tr>\n",
       "    <tr>\n",
       "      <th>3</th>\n",
       "      <td>s4</td>\n",
       "      <td>True</td>\n",
       "      <td>5</td>\n",
       "      <td>0.0</td>\n",
       "      <td>0.0</td>\n",
       "      <td>0.0</td>\n",
       "      <td>0.0</td>\n",
       "      <td>0.000000</td>\n",
       "      <td>0.000000</td>\n",
       "      <td>0.000000</td>\n",
       "      <td>0.000000</td>\n",
       "      <td>0.0</td>\n",
       "      <td>0.0</td>\n",
       "      <td>0.0</td>\n",
       "      <td>0.0</td>\n",
       "      <td>0.0</td>\n",
       "      <td>BubbleRegion_2</td>\n",
       "      <td>0.000000</td>\n",
       "    </tr>\n",
       "    <tr>\n",
       "      <th>4</th>\n",
       "      <td>s5</td>\n",
       "      <td>False</td>\n",
       "      <td>11970</td>\n",
       "      <td>1.0</td>\n",
       "      <td>0.0</td>\n",
       "      <td>0.0</td>\n",
       "      <td>0.0</td>\n",
       "      <td>0.612312</td>\n",
       "      <td>0.044724</td>\n",
       "      <td>0.141457</td>\n",
       "      <td>0.007286</td>\n",
       "      <td>0.0</td>\n",
       "      <td>0.0</td>\n",
       "      <td>0.0</td>\n",
       "      <td>0.0</td>\n",
       "      <td>0.0</td>\n",
       "      <td>None</td>\n",
       "      <td>0.000000</td>\n",
       "    </tr>\n",
       "  </tbody>\n",
       "</table>\n",
       "</div>"
      ],
      "text/plain": [
       "  NodeID  IsSVNode  SeqLength  Jaccard_Cont_WiRv  Jaccard_Cont_WiIS6110  Jaccard_Cont_WiRv_InsSeqAndPhages  Jaccard_Cont_WiRv_PEPPEs  Jaccard_Cont_WiRv_InfoPathways  Jaccard_Cont_WiRv_ConservedHypo  Jaccard_Cont_WiRv_CellWallCellProc  Jaccard_Cont_WiRv_StableRNAs  Jaccard_Cont_WiRv_InterMetabolism  Jaccard_Cont_WiRv_RegProteins  Jaccard_Cont_WiRv_VirulenceDetoxAdaptation  Jaccard_Cont_WiRv_LipidMetabolism  Jaccard_Cont_WiRv_Unknown        BubbleID  MaxJC_ToOtherNode\n",
       "0     s1     False       1533                1.0                    0.0                                0.0                       0.0                        0.994012                         0.000000                            0.000000                      0.000000                                0.0                            0.0                                         0.0                                0.0                        0.0            None           0.000000\n",
       "1     s2     False         58                1.0                    0.0                                0.0                       0.0                        0.000000                         0.000000                            0.000000                      0.000000                                0.0                            0.0                                         0.0                                0.0                        0.0            None           0.000000\n",
       "2     s3      True         56                1.0                    0.0                                0.0                       0.0                        0.000000                         0.000000                            0.000000                      0.000000                                0.0                            0.0                                         0.0                                0.0                        0.0  BubbleRegion_2           0.961538\n",
       "3     s4      True          5                0.0                    0.0                                0.0                       0.0                        0.000000                         0.000000                            0.000000                      0.000000                                0.0                            0.0                                         0.0                                0.0                        0.0  BubbleRegion_2           0.000000\n",
       "4     s5     False      11970                1.0                    0.0                                0.0                       0.0                        0.612312                         0.044724                            0.141457                      0.007286                                0.0                            0.0                                         0.0                                0.0                        0.0            None           0.000000"
      ]
     },
     "execution_count": 51,
     "metadata": {},
     "output_type": "execute_result"
    }
   ],
   "source": [
    "MG_Nodes_KmerComp_DF.head()"
   ]
  },
  {
   "cell_type": "code",
   "execution_count": null,
   "id": "1c8f7b73-aae3-4961-843e-17c5542dbc72",
   "metadata": {},
   "outputs": [],
   "source": []
  },
  {
   "cell_type": "code",
   "execution_count": null,
   "id": "87050580-c528-4aa1-9d0b-df0e8510d171",
   "metadata": {},
   "outputs": [],
   "source": []
  },
  {
   "cell_type": "markdown",
   "id": "5c286597-e57f-45dd-be29-088a0bb983a6",
   "metadata": {},
   "source": [
    "# Define path to outputs of Pangraph (3 different parameters)"
   ]
  },
  {
   "cell_type": "code",
   "execution_count": 52,
   "id": "9a6229e2-a28d-4556-90af-a7ce29f33926",
   "metadata": {},
   "outputs": [],
   "source": [
    "#!ls -1 $MtbWGA_SMK_Pipeline_OutputDir"
   ]
  },
  {
   "cell_type": "code",
   "execution_count": 53,
   "id": "25f0ecd4-00fb-4a80-8f42-93f9ae9ae306",
   "metadata": {},
   "outputs": [],
   "source": [
    "target_OutputDir = MtbWGA_SMK_Pipeline_OutputDir\n",
    "\n",
    "# Minigraph_151CI_OutDir = f\"{target_OutputDir}/Minigraph\"\n",
    "\n",
    "Pangraph_MainOutDir = f\"{target_OutputDir}/Pangraph_Mtb151CIWiRv_Analysis\"\n",
    "\n",
    "Pangraph_ParamSet1_Out = f\"{Pangraph_MainOutDir}/Pangraph_ParamSet1_RvWithMtb151CI\"\n",
    "Pangraph_PS1_FA        = f\"{Pangraph_ParamSet1_Out}/pangraph.fa\"\n",
    "Pangraph_PS1_NoMod_GFA = f\"{Pangraph_ParamSet1_Out}/pangraph.gfa\"\n",
    "Pangraph_PS1_GFA       = f\"{Pangraph_ParamSet1_Out}/pangraph.CigarMod.gfa\"\n",
    "\n",
    "Pangraph_ParamSet2_Out = f\"{Pangraph_MainOutDir}/Pangraph_ParamSet2_RvWithMtb151CI\"\n",
    "Pangraph_PS2_FA        = f\"{Pangraph_ParamSet2_Out}/pangraph.fa\"\n",
    "Pangraph_PS2_NoMod_GFA = f\"{Pangraph_ParamSet2_Out}/pangraph.gfa\"\n",
    "Pangraph_PS2_GFA       = f\"{Pangraph_ParamSet2_Out}/pangraph.CigarMod.gfa\"\n",
    "\n",
    "Pangraph_ParamSet3_Out = f\"{Pangraph_MainOutDir}/Pangraph_ParamSet3_RvWithMtb151CI\"\n",
    "Pangraph_PS3_FA        = f\"{Pangraph_ParamSet3_Out}/pangraph.fa\"\n",
    "Pangraph_PS3_NoMod_GFA = f\"{Pangraph_ParamSet3_Out}/pangraph.gfa\"\n",
    "Pangraph_PS3_GFA       = f\"{Pangraph_ParamSet3_Out}/pangraph.CigarMod.gfa\"\n"
   ]
  },
  {
   "cell_type": "code",
   "execution_count": 54,
   "id": "61704981-ceed-4c77-a4fd-6be5ea589103",
   "metadata": {},
   "outputs": [
    {
     "name": "stdout",
     "output_type": "stream",
     "text": [
      "OLD_Pangraph_V1\n",
      "Pangraph_151CI_V3_NoDup\n",
      "Pangraph_151CI_V3_WiDup\n",
      "Pangraph_151CI_V4_WiDup\n",
      "Pangraph.Commands.txt\n",
      "Pangraph_ParamSet1_RvWithMtb151CI\n",
      "Pangraph_ParamSet2_RvWithMtb151CI\n",
      "Pangraph_ParamSet3_RvWithMtb151CI\n"
     ]
    }
   ],
   "source": [
    "!ls -1 $Pangraph_MainOutDir"
   ]
  },
  {
   "cell_type": "code",
   "execution_count": null,
   "id": "becf28b6-4409-40bf-9abe-88c41ad69dfe",
   "metadata": {},
   "outputs": [],
   "source": []
  },
  {
   "cell_type": "markdown",
   "id": "10b8c51c-c7a0-4924-b36c-594eae8ededa",
   "metadata": {},
   "source": [
    "#### Replace cigar string in Pangraph GFAs to make it compatible with GFA parser"
   ]
  },
  {
   "cell_type": "code",
   "execution_count": 55,
   "id": "2d922ed6-ae6d-4043-9153-d7dd5d91f714",
   "metadata": {},
   "outputs": [],
   "source": [
    "sed_replacecigar_string = 's/TP:Z:circular//'\n",
    "\n",
    "!sed -E $sed_replacecigar_string $Pangraph_PS1_NoMod_GFA > $Pangraph_PS1_GFA\n",
    "!sed -E $sed_replacecigar_string $Pangraph_PS2_NoMod_GFA > $Pangraph_PS2_GFA\n",
    "!sed -E $sed_replacecigar_string $Pangraph_PS3_NoMod_GFA > $Pangraph_PS3_GFA\n"
   ]
  },
  {
   "cell_type": "code",
   "execution_count": 56,
   "id": "52a80073-90be-4df6-903b-439c828a8e52",
   "metadata": {},
   "outputs": [
    {
     "name": "stdout",
     "output_type": "stream",
     "text": [
      "-rw-r--r-- 1 mm774 farhat 1.8M Dec 27 11:57 /n/data1/hms/dbmi/farhat/mm774/Projects/Mtb-WGA-SMK-Output/231121_MtbSetV3_151CI/Pangraph_Mtb151CIWiRv_Analysis/Pangraph_ParamSet1_RvWithMtb151CI/pangraph.gfa\n"
     ]
    }
   ],
   "source": [
    "!ls -lah $Pangraph_PS1_NoMod_GFA"
   ]
  },
  {
   "cell_type": "code",
   "execution_count": 57,
   "id": "81acdd25-ec36-4924-8ec3-790a59d74b47",
   "metadata": {},
   "outputs": [
    {
     "name": "stdout",
     "output_type": "stream",
     "text": [
      "-rw-r--r-- 1 mm774 farhat 1.8M Dec 28 14:50 /n/data1/hms/dbmi/farhat/mm774/Projects/Mtb-WGA-SMK-Output/231121_MtbSetV3_151CI/Pangraph_Mtb151CIWiRv_Analysis/Pangraph_ParamSet1_RvWithMtb151CI/pangraph.CigarMod.gfa\n"
     ]
    }
   ],
   "source": [
    "!ls -lah $Pangraph_PS1_GFA"
   ]
  },
  {
   "cell_type": "code",
   "execution_count": 58,
   "id": "ef9c3930-46fc-4a39-ae67-82227e016465",
   "metadata": {},
   "outputs": [
    {
     "name": "stdout",
     "output_type": "stream",
     "text": [
      "-rw-r--r-- 1 mm774 farhat 2.1M Dec 28 14:50 /n/data1/hms/dbmi/farhat/mm774/Projects/Mtb-WGA-SMK-Output/231121_MtbSetV3_151CI/Pangraph_Mtb151CIWiRv_Analysis/Pangraph_ParamSet2_RvWithMtb151CI/pangraph.CigarMod.gfa\n"
     ]
    }
   ],
   "source": [
    "!ls -lah $Pangraph_PS2_GFA"
   ]
  },
  {
   "cell_type": "code",
   "execution_count": 59,
   "id": "ff61ceef-3a2f-4f04-9d95-5bb582672697",
   "metadata": {},
   "outputs": [
    {
     "name": "stdout",
     "output_type": "stream",
     "text": [
      "-rw-r--r-- 1 mm774 farhat 1.9M Dec 28 14:50 /n/data1/hms/dbmi/farhat/mm774/Projects/Mtb-WGA-SMK-Output/231121_MtbSetV3_151CI/Pangraph_Mtb151CIWiRv_Analysis/Pangraph_ParamSet3_RvWithMtb151CI/pangraph.CigarMod.gfa\n"
     ]
    }
   ],
   "source": [
    "!ls -lah $Pangraph_PS3_GFA"
   ]
  },
  {
   "cell_type": "code",
   "execution_count": null,
   "id": "d2ef50a8-4b21-4b56-a4f1-451c37354230",
   "metadata": {},
   "outputs": [],
   "source": []
  },
  {
   "cell_type": "markdown",
   "id": "2d9b020a-1ed3-4818-bb55-8ea46a22a4bd",
   "metadata": {},
   "source": [
    "# Pangraph data processing"
   ]
  },
  {
   "cell_type": "code",
   "execution_count": 60,
   "id": "20b22d65-caf0-49a3-81b9-5cd594aad466",
   "metadata": {},
   "outputs": [],
   "source": [
    "# Define predefined k-mer sets\n",
    "Rv_ref_kmer_sets = {\n",
    "    \"H37Rv\": H37Rv_Hashes_Set,\n",
    "    \"IS6110\": IS6110_Ex1_Hashes_Set,\n",
    "    \"Rv_InsSeqAndPhages\": Rv_MGEs_Hashes_Set\n",
    "}\n",
    "\n",
    "k_size = 31\n",
    "num_assemblies = 152"
   ]
  },
  {
   "cell_type": "code",
   "execution_count": null,
   "id": "08f3f2cd-b435-4756-8833-4f19cb54b70b",
   "metadata": {},
   "outputs": [],
   "source": []
  },
  {
   "cell_type": "markdown",
   "id": "83fea947-e877-4f5e-a5e9-cedead30bbea",
   "metadata": {},
   "source": [
    "## Process Pangraph - ParamSet 1"
   ]
  },
  {
   "cell_type": "code",
   "execution_count": 61,
   "id": "5a465348-ff83-4394-9ec1-01209c41c045",
   "metadata": {},
   "outputs": [
    {
     "name": "stderr",
     "output_type": "stream",
     "text": [
      "Parsing FASTA: 1341it [00:00, 18724.88it/s]\n",
      "Processing GFA S-lines: 100%|██████████| 3371/3371 [00:32<00:00, 105.30it/s]\n",
      "Processing GFA P-lines: 100%|██████████| 3371/3371 [00:10<00:00, 310.86it/s]  \n",
      "Running pairwise comparisons of k-mer content:   0%|          | 3/1341 [00:00<00:59, 22.32it/s]"
     ]
    },
    {
     "name": "stdout",
     "output_type": "stream",
     "text": [
      "# of Core Nodes: 496\n",
      "# of SV Nodes: 845\n",
      "# of All Nodes: 1341\n",
      "\n"
     ]
    },
    {
     "name": "stderr",
     "output_type": "stream",
     "text": [
      "Running pairwise comparisons of k-mer content: 100%|██████████| 1341/1341 [00:35<00:00, 37.95it/s]\n",
      "Comparing node to reference k-mer profiles: 100%|██████████| 1341/1341 [00:01<00:00, 1157.21it/s]"
     ]
    },
    {
     "name": "stdout",
     "output_type": "stream",
     "text": [
      "Dimensions of final node summary DF: (1341, 9)\n"
     ]
    },
    {
     "name": "stderr",
     "output_type": "stream",
     "text": [
      "\n"
     ]
    }
   ],
   "source": [
    "# Step 1: Parse FASTA\n",
    "PS1_node_seqs = parse_pangraph_fasta(Pangraph_PS1_FA)\n",
    "\n",
    "# Step 2: Parse GFA\n",
    "PS1_node_info = parse_pangraph_gfa(Pangraph_PS1_GFA,\n",
    "                                   PS1_node_seqs, k_size, num_assemblies)\n",
    "\n",
    "# Step 3: Classify nodes\n",
    "PS1_core_nodes, PS1_sv_nodes = classify_pangraph_nodes(PS1_node_info, num_assemblies)\n",
    "\n",
    "print(\"# of Core Nodes:\", len(PS1_core_nodes))\n",
    "print(\"# of SV Nodes:\", len(PS1_sv_nodes))\n",
    "print(\"# of All Nodes:\", len(PS1_node_info))\n",
    "print()\n",
    "\n",
    "PS1_AvA_DF = pangraph_pairwise_kmerset_comparison(PS1_node_info)\n",
    "\n",
    "PS1_NodeSummary_DF = compare_kmers_to_profiles_with_max_jc(PS1_node_info,\n",
    "                                                          PS1_sv_nodes,\n",
    "                                                          Rv_ref_kmer_sets,\n",
    "                                                          PS1_AvA_DF)\n",
    "\n",
    "print(\"Dimensions of final node summary DF:\", PS1_NodeSummary_DF.shape)"
   ]
  },
  {
   "cell_type": "markdown",
   "id": "8acf689f-6476-4471-97b6-0bd476fea1cf",
   "metadata": {},
   "source": [
    "## Process Pangraph - ParamSet 2"
   ]
  },
  {
   "cell_type": "code",
   "execution_count": 62,
   "id": "aa9176a8-5ca2-414f-a530-87435938c12a",
   "metadata": {},
   "outputs": [
    {
     "name": "stderr",
     "output_type": "stream",
     "text": [
      "Parsing FASTA: 1724it [00:00, 39803.27it/s]\n",
      "Processing GFA S-lines: 100%|██████████| 4044/4044 [00:33<00:00, 122.33it/s]\n",
      "Processing GFA P-lines: 100%|██████████| 4044/4044 [00:12<00:00, 317.75it/s]  \n",
      "Running pairwise comparisons of k-mer content:   0%|          | 4/1724 [00:00<00:49, 34.58it/s]"
     ]
    },
    {
     "name": "stdout",
     "output_type": "stream",
     "text": [
      "# of Core Nodes: 555\n",
      "# of SV Nodes: 1169\n",
      "# of All Nodes: 1724\n",
      "\n"
     ]
    },
    {
     "name": "stderr",
     "output_type": "stream",
     "text": [
      "Running pairwise comparisons of k-mer content: 100%|██████████| 1724/1724 [00:40<00:00, 42.05it/s]\n",
      "Comparing node to reference k-mer profiles: 100%|██████████| 1724/1724 [00:01<00:00, 1549.80it/s]"
     ]
    },
    {
     "name": "stdout",
     "output_type": "stream",
     "text": [
      "Dimensions of final node summary DF: (1724, 9)\n"
     ]
    },
    {
     "name": "stderr",
     "output_type": "stream",
     "text": [
      "\n"
     ]
    }
   ],
   "source": [
    "# Step 1: Parse FASTA\n",
    "PS2_node_seqs = parse_pangraph_fasta(Pangraph_PS2_FA)\n",
    "\n",
    "# Step 2: Parse GFA\n",
    "PS2_node_info = parse_pangraph_gfa(Pangraph_PS2_GFA,\n",
    "                                   PS2_node_seqs, k_size, num_assemblies)\n",
    "\n",
    "# Step 3: Classify nodes\n",
    "PS2_core_nodes, PS2_sv_nodes = classify_pangraph_nodes(PS2_node_info, num_assemblies)\n",
    "\n",
    "print(\"# of Core Nodes:\", len(PS2_core_nodes))\n",
    "print(\"# of SV Nodes:\", len(PS2_sv_nodes))\n",
    "print(\"# of All Nodes:\", len(PS2_node_info))\n",
    "print()\n",
    "\n",
    "PS2_AvA_DF = pangraph_pairwise_kmerset_comparison(PS2_node_info)\n",
    "\n",
    "PS2_NodeSummary_DF = compare_kmers_to_profiles_with_max_jc(PS2_node_info,\n",
    "                                                           PS2_sv_nodes,\n",
    "                                                           Rv_ref_kmer_sets,\n",
    "                                                           PS2_AvA_DF)\n",
    "\n",
    "print(\"Dimensions of final node summary DF:\", PS2_NodeSummary_DF.shape)"
   ]
  },
  {
   "cell_type": "markdown",
   "id": "c4c5d103-4cec-4ac0-ba8e-8ab0606086fe",
   "metadata": {},
   "source": [
    "## Process Pangraph - ParamSet 3"
   ]
  },
  {
   "cell_type": "code",
   "execution_count": 63,
   "id": "759a3cd5-825d-4775-81f5-c4a99214cbfe",
   "metadata": {},
   "outputs": [
    {
     "name": "stderr",
     "output_type": "stream",
     "text": [
      "Parsing FASTA: 1481it [00:00, 35733.47it/s]\n",
      "Processing GFA S-lines: 100%|██████████| 3568/3568 [00:32<00:00, 110.63it/s]\n",
      "Processing GFA P-lines: 100%|██████████| 3568/3568 [00:11<00:00, 309.20it/s]  \n",
      "Running pairwise comparisons of k-mer content:   0%|          | 4/1481 [00:00<00:45, 32.64it/s]"
     ]
    },
    {
     "name": "stdout",
     "output_type": "stream",
     "text": [
      "# of Core Nodes: 524\n",
      "# of SV Nodes: 957\n",
      "# of All Nodes: 1481\n",
      "\n"
     ]
    },
    {
     "name": "stderr",
     "output_type": "stream",
     "text": [
      "Running pairwise comparisons of k-mer content: 100%|██████████| 1481/1481 [00:37<00:00, 39.73it/s]\n",
      "Comparing node to reference k-mer profiles: 100%|██████████| 1481/1481 [00:01<00:00, 1205.04it/s]"
     ]
    },
    {
     "name": "stdout",
     "output_type": "stream",
     "text": [
      "Dimensions of final node summary DF: (1481, 9)\n"
     ]
    },
    {
     "name": "stderr",
     "output_type": "stream",
     "text": [
      "\n"
     ]
    }
   ],
   "source": [
    "# Step 1: Parse FASTA\n",
    "PS3_node_seqs = parse_pangraph_fasta(Pangraph_PS3_FA)\n",
    "\n",
    "# Step 2: Parse GFA\n",
    "PS3_node_info = parse_pangraph_gfa(Pangraph_PS3_GFA,\n",
    "                                   PS3_node_seqs, k_size, num_assemblies)\n",
    "\n",
    "# Step 3: Classify nodes\n",
    "PS3_core_nodes, PS3_sv_nodes = classify_pangraph_nodes(PS3_node_info, num_assemblies)\n",
    "\n",
    "print(\"# of Core Nodes:\", len(PS3_core_nodes))\n",
    "print(\"# of SV Nodes:\", len(PS3_sv_nodes))\n",
    "print(\"# of All Nodes:\", len(PS3_node_info))\n",
    "print()\n",
    "\n",
    "PS3_AvA_DF = pangraph_pairwise_kmerset_comparison(PS3_node_info)\n",
    "\n",
    "PS3_NodeSummary_DF = compare_kmers_to_profiles_with_max_jc(PS3_node_info,\n",
    "                                                           PS3_sv_nodes,\n",
    "                                                           Rv_ref_kmer_sets,\n",
    "                                                           PS3_AvA_DF)\n",
    "\n",
    "print(\"Dimensions of final node summary DF:\", PS3_NodeSummary_DF.shape)"
   ]
  },
  {
   "cell_type": "code",
   "execution_count": null,
   "id": "d9e7d6e4-fd93-4e1b-8e3e-dd5f4be099ff",
   "metadata": {},
   "outputs": [],
   "source": []
  },
  {
   "cell_type": "markdown",
   "id": "b8ee2e20-efcb-46e6-a279-51dca8f92614",
   "metadata": {},
   "source": [
    "# Output node summaries for exploration"
   ]
  },
  {
   "cell_type": "code",
   "execution_count": 67,
   "id": "5a52630c-deef-4728-b4cd-720faad0c9b2",
   "metadata": {},
   "outputs": [],
   "source": [
    "PangenomeAnalysis_Dir = \"../../Data/MtbPangenomeAnalysis_SetV5\"\n",
    "\n",
    "PG_PS1_Node_Summary_TSV_GZ = f\"{PangenomeAnalysis_Dir}/MtbSVPG.Pangraph.ParamSet1.NodeKmerComp.Summary.V1.tsv.gz\" \n",
    "PG_PS1_AvA_NodeComp_TSV_GZ = f\"{PangenomeAnalysis_Dir}/MtbSVPG.Pangraph.ParamSet1.NodeKmerComp.AllVsAll.V1.tsv.gz\"     \n",
    "\n",
    "PG_PS2_Node_Summary_TSV_GZ = f\"{PangenomeAnalysis_Dir}/MtbSVPG.Pangraph.ParamSet2.NodeKmerComp.Summary.V1.tsv.gz\" \n",
    "PG_PS2_AvA_NodeComp_TSV_GZ = f\"{PangenomeAnalysis_Dir}/MtbSVPG.Pangraph.ParamSet2.NodeKmerComp.AllVsAll.V1.tsv.gz\"     \n",
    "\n",
    "PG_PS3_Node_Summary_TSV_GZ = f\"{PangenomeAnalysis_Dir}/MtbSVPG.Pangraph.ParamSet3.NodeKmerComp.Summary.V1.tsv.gz\" \n",
    "PG_PS3_AvA_NodeComp_TSV_GZ = f\"{PangenomeAnalysis_Dir}/MtbSVPG.Pangraph.ParamSet3.NodeKmerComp.AllVsAll.V1.tsv.gz\"     \n",
    "\n",
    "\n",
    "\n",
    "PS1_AvA_DF.to_csv(PG_PS1_AvA_NodeComp_TSV_GZ,\n",
    "                  sep = \"\\t\", index=False)\n",
    "\n",
    "PS1_NodeSummary_DF.to_csv(PG_PS1_Node_Summary_TSV_GZ,\n",
    "                          sep = \"\\t\", index=False)\n",
    "\n",
    "PS2_AvA_DF.to_csv(PG_PS2_AvA_NodeComp_TSV_GZ,\n",
    "                  sep = \"\\t\", index=False)\n",
    "\n",
    "PS2_NodeSummary_DF.to_csv(PG_PS2_Node_Summary_TSV_GZ,\n",
    "                          sep = \"\\t\", index=False)\n",
    "\n",
    "\n",
    "PS3_AvA_DF.to_csv(PG_PS3_AvA_NodeComp_TSV_GZ,\n",
    "                  sep = \"\\t\", index=False)\n",
    "\n",
    "PS3_NodeSummary_DF.to_csv(PG_PS3_Node_Summary_TSV_GZ,\n",
    "                          sep = \"\\t\", index=False)\n",
    "\n",
    "\n",
    "\n"
   ]
  },
  {
   "cell_type": "code",
   "execution_count": 68,
   "id": "1a2afab0-ef5f-425a-8a49-c52fe1e7313f",
   "metadata": {},
   "outputs": [
    {
     "name": "stdout",
     "output_type": "stream",
     "text": [
      "total 2.3M\n",
      "drwxr-sr-x 2 mm774 farhat 4.0K Dec 28 14:59 .\n",
      "drwxrwsr-x 2 mm774 farhat 4.0K Dec  6 15:23 ..\n",
      "-rw-r--r-- 1 mm774 farhat 2.8K Nov 25 21:33 MtbSVPG.BubbleCoords.1kbUnqToRv.18B.tsv\n",
      "-rw-r--r-- 1 mm774 farhat 1.5K Nov 25 21:33 MtbSVPG.BubbleStats.UnqKmerContent.1kbUnqToRv.18B.tsv\n",
      "-rw-r--r-- 1 mm774 farhat  16K Nov 25 21:33 MtbSVPG.BubbleStats.UnqKmerContent.All.532B.tsv\n",
      "-rw-r--r-- 1 mm774 farhat 631K Nov 25 16:39 MtbSVPG.Minigraph.BubbleAlleleInfo.SVInfo.tsv.gz\n",
      "-rw-r--r-- 1 mm774 farhat  61K Nov 25 16:39 MtbSVPG.Minigraph.BubbleAlleleInfo.SVVCF.tsv.gz\n",
      "-rw-r--r-- 1 mm774 farhat  32K Nov 25 16:35 MtbSVPG.Minigraph.BubbleSummary.BED.tsv.gz\n",
      "-rw-r--r-- 1 mm774 farhat 1.2M Nov 25 16:38 MtbSVPG.Minigraph.NodeKmerComp.AllVsAll.V1.tsv.gz\n",
      "-rw-r--r-- 1 mm774 farhat  57K Nov 25 16:39 MtbSVPG.Minigraph.NodeKmerComp.Summary.V1.tsv.gz\n",
      "-rw-r--r-- 1 mm774 farhat  77K Nov 26 09:36 MtbSVPG.Pangraph.NodeKmerComp.AllVsAll.V1.tsv.gz\n",
      "-rw-r--r-- 1 mm774 farhat  28K Nov 26 09:36 MtbSVPG.Pangraph.NodeKmerComp.Summary.V1.tsv.gz\n",
      "-rw-r--r-- 1 mm774 farhat  70K Dec 28 14:59 MtbSVPG.Pangraph.ParamSet1.NodeKmerComp.AllVsAll.V1.tsv.gz\n",
      "-rw-r--r-- 1 mm774 farhat  27K Dec 28 14:59 MtbSVPG.Pangraph.ParamSet1.NodeKmerComp.Summary.V1.tsv.gz\n",
      "-rw-r--r-- 1 mm774 farhat  85K Dec 28 14:59 MtbSVPG.Pangraph.ParamSet2.NodeKmerComp.AllVsAll.V1.tsv.gz\n",
      "-rw-r--r-- 1 mm774 farhat  33K Dec 28 14:59 MtbSVPG.Pangraph.ParamSet2.NodeKmerComp.Summary.V1.tsv.gz\n",
      "-rw-r--r-- 1 mm774 farhat  76K Dec 28 14:59 MtbSVPG.Pangraph.ParamSet3.NodeKmerComp.AllVsAll.V1.tsv.gz\n",
      "-rw-r--r-- 1 mm774 farhat  29K Dec 28 14:59 MtbSVPG.Pangraph.ParamSet3.NodeKmerComp.Summary.V1.tsv.gz\n"
     ]
    }
   ],
   "source": [
    "!ls -lah $PangenomeAnalysis_Dir"
   ]
  },
  {
   "cell_type": "code",
   "execution_count": null,
   "id": "9586a1b3-f531-40cb-9dfd-272cc5e8136b",
   "metadata": {},
   "outputs": [],
   "source": []
  },
  {
   "cell_type": "code",
   "execution_count": null,
   "id": "65da5e4c-2c2a-47d3-89e8-b2f2de405bac",
   "metadata": {},
   "outputs": [],
   "source": []
  },
  {
   "cell_type": "code",
   "execution_count": null,
   "id": "a76d35d5-f863-49a6-8277-310d943fb97e",
   "metadata": {},
   "outputs": [],
   "source": []
  },
  {
   "cell_type": "code",
   "execution_count": null,
   "id": "4eeefd2c-a608-439d-ab9b-87869f0f697a",
   "metadata": {},
   "outputs": [],
   "source": []
  },
  {
   "cell_type": "markdown",
   "id": "dbcc6e90-5531-47e5-b3bf-ea1115524324",
   "metadata": {},
   "source": [
    "# Summary Analysis - Round 2"
   ]
  },
  {
   "cell_type": "code",
   "execution_count": 113,
   "id": "0d9db233-655c-4526-a384-fcb018961c95",
   "metadata": {},
   "outputs": [
    {
     "name": "stdout",
     "output_type": "stream",
     "text": [
      "N_CoreNodes: 496\n",
      "SeqLength_CoreNodes: 3971389\n",
      "N_SV_All: 845\n",
      "SeqLength_SV_All: 465526\n",
      "N_SV_UnqInGraph: 579\n",
      "SeqLength_SV_UnqInGraph: 410195\n",
      "N_SV_RepeatInGraph: 265\n",
      "SeqLength_SV_RepeatInGraph: 55312\n",
      "N_SV_UnqToH37Rv: 95\n",
      "SeqLength_SV_UnqToH37Rv: 68434\n"
     ]
    }
   ],
   "source": [
    "# Summarize statistics\n",
    "summary_stats = summarize_Pangenome_Node_Stats(PS1_NodeSummary_DF)\n",
    "\n",
    "# Display summary\n",
    "for key, value in summary_stats.items():\n",
    "    \n",
    "    print(f\"{key}: {value}\")"
   ]
  },
  {
   "cell_type": "code",
   "execution_count": null,
   "id": "67d91931-e053-4a11-a293-1df89ea9333a",
   "metadata": {},
   "outputs": [],
   "source": []
  },
  {
   "cell_type": "code",
   "execution_count": 110,
   "id": "2e160991-3df1-4a2c-86a1-a6863d61799d",
   "metadata": {},
   "outputs": [
    {
     "name": "stdout",
     "output_type": "stream",
     "text": [
      "N_CoreNodes: 555\n",
      "SeqLength_CoreNodes: 3941145\n",
      "N_SV_All: 1169\n",
      "SeqLength_SV_All: 481565\n",
      "N_SV_UnqInGraph: 717\n",
      "SeqLength_SV_UnqInGraph: 417213\n",
      "N_SV_RepeatInGraph: 450\n",
      "SeqLength_SV_RepeatInGraph: 64307\n"
     ]
    }
   ],
   "source": [
    "# Summarize statistics\n",
    "summary_stats = summarize_Pangenome_Node_Stats(PS2_NodeSummary_DF)\n",
    "\n",
    "# Display summary\n",
    "for key, value in summary_stats.items():\n",
    "    \n",
    "    print(f\"{key}: {value}\")"
   ]
  },
  {
   "cell_type": "code",
   "execution_count": null,
   "id": "0a764dc2-8627-4820-927e-935b69933c9e",
   "metadata": {},
   "outputs": [],
   "source": []
  },
  {
   "cell_type": "code",
   "execution_count": 111,
   "id": "acc97d72-3d56-4e26-8c50-0f7f5e136fba",
   "metadata": {},
   "outputs": [
    {
     "name": "stdout",
     "output_type": "stream",
     "text": [
      "N_CoreNodes: 524\n",
      "SeqLength_CoreNodes: 3964632\n",
      "N_SV_All: 957\n",
      "SeqLength_SV_All: 468998\n",
      "N_SV_UnqInGraph: 630\n",
      "SeqLength_SV_UnqInGraph: 419457\n",
      "N_SV_RepeatInGraph: 326\n",
      "SeqLength_SV_RepeatInGraph: 49522\n"
     ]
    }
   ],
   "source": [
    "# Summarize statistics\n",
    "summary_stats = summarize_Pangenome_Node_Stats(PS3_NodeSummary_DF)\n",
    "\n",
    "# Display summary\n",
    "for key, value in summary_stats.items():\n",
    "    \n",
    "    print(f\"{key}: {value}\")"
   ]
  },
  {
   "cell_type": "code",
   "execution_count": null,
   "id": "bf891e86-ef82-4f78-a969-8cfdc0187cc0",
   "metadata": {},
   "outputs": [],
   "source": []
  },
  {
   "cell_type": "code",
   "execution_count": 117,
   "id": "ea4391e1-1669-4ee1-ae5c-1a40cde31e26",
   "metadata": {},
   "outputs": [
    {
     "data": {
      "text/plain": [
       "(4, 11)"
      ]
     },
     "execution_count": 117,
     "metadata": {},
     "output_type": "execute_result"
    }
   ],
   "source": [
    "summary_stats_Dict = {\"Minigraph\"   : summarize_Pangenome_Node_Stats(MG_Nodes_KmerComp_DF), \n",
    "                      \"Pangraph_PS1\" : summarize_Pangenome_Node_Stats(PS1_NodeSummary_DF), \n",
    "                      \"Pangraph_PS2\" : summarize_Pangenome_Node_Stats(PS2_NodeSummary_DF),  \n",
    "                      \"Pangraph_PS3\" : summarize_Pangenome_Node_Stats(PS3_NodeSummary_DF) }\n",
    "\n",
    "SummStats_DF_List = []\n",
    "\n",
    "for key, i_Dict in summary_stats_Dict.items():\n",
    "    i_Dict[\"Method\"] = key\n",
    "\n",
    "    i_DF = pd.DataFrame([i_Dict])\n",
    "    \n",
    "    SummStats_DF_List.append(i_DF)\n",
    "    \n",
    "\n",
    "\n",
    "All_Stats_DF = pd.concat(SummStats_DF_List, axis = 0)\n",
    "\n",
    "# Move the \"Method\" column to the first position\n",
    "method_col = All_Stats_DF.pop(\"Method\")\n",
    "\n",
    "All_Stats_DF.insert(0, \"Method\", method_col)\n",
    "\n",
    "All_Stats_DF.shape"
   ]
  },
  {
   "cell_type": "code",
   "execution_count": 118,
   "id": "d7319731-8d3f-470b-9de0-90d76202ae87",
   "metadata": {},
   "outputs": [
    {
     "data": {
      "text/html": [
       "<div>\n",
       "<style scoped>\n",
       "    .dataframe tbody tr th:only-of-type {\n",
       "        vertical-align: middle;\n",
       "    }\n",
       "\n",
       "    .dataframe tbody tr th {\n",
       "        vertical-align: top;\n",
       "    }\n",
       "\n",
       "    .dataframe thead th {\n",
       "        text-align: right;\n",
       "    }\n",
       "</style>\n",
       "<table border=\"1\" class=\"dataframe\">\n",
       "  <thead>\n",
       "    <tr style=\"text-align: right;\">\n",
       "      <th></th>\n",
       "      <th>Method</th>\n",
       "      <th>N_CoreNodes</th>\n",
       "      <th>SeqLength_CoreNodes</th>\n",
       "      <th>N_SV_All</th>\n",
       "      <th>SeqLength_SV_All</th>\n",
       "      <th>N_SV_UnqInGraph</th>\n",
       "      <th>SeqLength_SV_UnqInGraph</th>\n",
       "      <th>N_SV_RepeatInGraph</th>\n",
       "      <th>SeqLength_SV_RepeatInGraph</th>\n",
       "      <th>N_SV_UnqToH37Rv</th>\n",
       "      <th>SeqLength_SV_UnqToH37Rv</th>\n",
       "    </tr>\n",
       "  </thead>\n",
       "  <tbody>\n",
       "    <tr>\n",
       "      <th>0</th>\n",
       "      <td>Minigraph</td>\n",
       "      <td>536</td>\n",
       "      <td>3913140</td>\n",
       "      <td>2602</td>\n",
       "      <td>1283223</td>\n",
       "      <td>463</td>\n",
       "      <td>301511</td>\n",
       "      <td>1562</td>\n",
       "      <td>975039</td>\n",
       "      <td>160</td>\n",
       "      <td>66621</td>\n",
       "    </tr>\n",
       "    <tr>\n",
       "      <th>0</th>\n",
       "      <td>Pangraph_PS1</td>\n",
       "      <td>496</td>\n",
       "      <td>3971389</td>\n",
       "      <td>845</td>\n",
       "      <td>465526</td>\n",
       "      <td>579</td>\n",
       "      <td>410195</td>\n",
       "      <td>265</td>\n",
       "      <td>55312</td>\n",
       "      <td>95</td>\n",
       "      <td>68434</td>\n",
       "    </tr>\n",
       "    <tr>\n",
       "      <th>0</th>\n",
       "      <td>Pangraph_PS2</td>\n",
       "      <td>555</td>\n",
       "      <td>3941145</td>\n",
       "      <td>1169</td>\n",
       "      <td>481565</td>\n",
       "      <td>717</td>\n",
       "      <td>417213</td>\n",
       "      <td>450</td>\n",
       "      <td>64307</td>\n",
       "      <td>133</td>\n",
       "      <td>70509</td>\n",
       "    </tr>\n",
       "    <tr>\n",
       "      <th>0</th>\n",
       "      <td>Pangraph_PS3</td>\n",
       "      <td>524</td>\n",
       "      <td>3964632</td>\n",
       "      <td>957</td>\n",
       "      <td>468998</td>\n",
       "      <td>630</td>\n",
       "      <td>419457</td>\n",
       "      <td>326</td>\n",
       "      <td>49522</td>\n",
       "      <td>102</td>\n",
       "      <td>69058</td>\n",
       "    </tr>\n",
       "  </tbody>\n",
       "</table>\n",
       "</div>"
      ],
      "text/plain": [
       "         Method  N_CoreNodes  SeqLength_CoreNodes  N_SV_All  SeqLength_SV_All  N_SV_UnqInGraph  SeqLength_SV_UnqInGraph  N_SV_RepeatInGraph  SeqLength_SV_RepeatInGraph  N_SV_UnqToH37Rv  SeqLength_SV_UnqToH37Rv\n",
       "0     Minigraph          536              3913140      2602           1283223              463                   301511                1562                      975039              160                    66621\n",
       "0  Pangraph_PS1          496              3971389       845            465526              579                   410195                 265                       55312               95                    68434\n",
       "0  Pangraph_PS2          555              3941145      1169            481565              717                   417213                 450                       64307              133                    70509\n",
       "0  Pangraph_PS3          524              3964632       957            468998              630                   419457                 326                       49522              102                    69058"
      ]
     },
     "execution_count": 118,
     "metadata": {},
     "output_type": "execute_result"
    }
   ],
   "source": [
    "All_Stats_DF"
   ]
  },
  {
   "cell_type": "code",
   "execution_count": null,
   "id": "758ff2d6-3a7c-44bc-bcc9-4db39ad59cbb",
   "metadata": {},
   "outputs": [],
   "source": []
  },
  {
   "cell_type": "markdown",
   "id": "704857e1-7f03-4f21-b20b-ff3d8926d970",
   "metadata": {},
   "source": [
    "### Produce Sankey plots for the different approaches\n",
    "Using [https://sankeymatic.com/build/](https://sankeymatic.com/build/)"
   ]
  },
  {
   "cell_type": "markdown",
   "id": "43508fc3-62b2-4553-b778-6143cb0027af",
   "metadata": {},
   "source": [
    "### Input code for sankeymatic\n",
    "\n",
    "#### a) SV Graph (minigraph)\n",
    "```\n",
    "SV Graph (minigraph) [3913140] Core nodes #808080\n",
    "SV Graph (minigraph) [1283223] SV nodes #808080\n",
    "SV nodes [981712] Non-unique Nodes #808080\n",
    "SV nodes [301511] Unique Nodes #808080\n",
    "\n",
    "// You can set a Node's color, like this:\n",
    ":SV Graph (minigraph) #A020F0\n",
    ":SV nodes #4D4E75\n",
    ":Core nodes #BD555A\n",
    ":Non-unique Nodes #505D96\n",
    ":Unique Nodes #51ACA6\n",
    "```\n",
    "\n",
    "\n",
    "#### b) SV Graph (Pangraph Parameter Set #1)\n",
    "```\n",
    "SV Graph (Pangraph PS #1) [3971389] Core nodes #808080\n",
    "SV Graph (Pangraph PS #1) [465526] SV nodes #808080\n",
    "SV nodes [55331] Non-unique Nodes #808080\n",
    "SV nodes [410195] Unique Nodes #808080\n",
    "\n",
    "// You can set a Node's color, like this:\n",
    ":SV Graph (Pangraph PS #1) #A020F0\n",
    ":SV nodes #4D4E75\n",
    ":Core nodes #BD555A\n",
    ":Non-unique Nodes #505D96\n",
    ":Unique Nodes #51ACA6\n",
    "```\n",
    "\n",
    "\n",
    "#### c) SV Graph (Pangraph Parameter Set #2)\n",
    "```\n",
    "SV Graph (Pangraph PS #2) [3941145] Core nodes #808080\n",
    "SV Graph (Pangraph PS #2) [481565] SV nodes #808080\n",
    "SV nodes [64352] Non-unique Nodes #808080\n",
    "SV nodes [417213] Unique Nodes #808080\n",
    "\n",
    "// You can set a Node's color, like this:\n",
    ":SV Graph (Pangraph PS #2) #A020F0\n",
    ":SV nodes #4D4E75\n",
    ":Core nodes #BD555A\n",
    ":Non-unique Nodes #505D96\n",
    ":Unique Nodes #51ACA6\n",
    "```\n",
    "\n",
    "\n",
    "#### c) SV Graph (Pangraph Parameter Set #3)\n",
    "```\n",
    "SV Graph (Pangraph PS #3) [3964632] Core nodes #808080\n",
    "SV Graph (Pangraph PS #3) [468998] SV nodes #808080\n",
    "SV nodes [49541] Non-unique Nodes #808080\n",
    "SV nodes [419457] Unique Nodes #808080\n",
    "\n",
    "// You can set a Node's color, like this:\n",
    ":SV Graph (Pangraph PS #3) #A020F0\n",
    ":SV nodes #4D4E75\n",
    ":Core nodes #BD555A\n",
    ":Non-unique Nodes #505D96\n",
    ":Unique Nodes #51ACA6\n",
    "```"
   ]
  },
  {
   "cell_type": "code",
   "execution_count": null,
   "id": "7d46a545-f834-4a46-ac47-9aad10b771c9",
   "metadata": {},
   "outputs": [],
   "source": []
  },
  {
   "cell_type": "code",
   "execution_count": null,
   "id": "a72f5043-711e-4403-9bbd-c52bd90e47f5",
   "metadata": {},
   "outputs": [],
   "source": []
  },
  {
   "cell_type": "code",
   "execution_count": null,
   "id": "3c21d3b6-8953-444d-9e77-44273f2d4c11",
   "metadata": {},
   "outputs": [],
   "source": []
  },
  {
   "cell_type": "code",
   "execution_count": null,
   "id": "9adc1503-bbe5-437a-a6b3-6e1b9a5acb72",
   "metadata": {},
   "outputs": [],
   "source": []
  }
 ],
 "metadata": {
  "kernelspec": {
   "display_name": "py37_S",
   "language": "python",
   "name": "py37_s"
  },
  "language_info": {
   "codemirror_mode": {
    "name": "ipython",
    "version": 3
   },
   "file_extension": ".py",
   "mimetype": "text/x-python",
   "name": "python",
   "nbconvert_exporter": "python",
   "pygments_lexer": "ipython3",
   "version": "3.7.3"
  }
 },
 "nbformat": 4,
 "nbformat_minor": 5
}
