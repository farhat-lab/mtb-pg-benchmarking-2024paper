{
 "cells": [
  {
   "cell_type": "markdown",
   "id": "af0812a3-8afb-4201-9c19-9f64f80fdf10",
   "metadata": {},
   "source": [
    "# Analysis & comparison of SV pan-genome graph construction results (Mtb-151CI)"
   ]
  },
  {
   "cell_type": "code",
   "execution_count": null,
   "id": "2105b992-6b45-4208-a50a-bda99f3ab63f",
   "metadata": {},
   "outputs": [],
   "source": []
  },
  {
   "cell_type": "markdown",
   "id": "30a109d3-2467-4759-8c80-af38f1d61b0e",
   "metadata": {
    "toc-hr-collapsed": true
   },
   "source": [
    "### Import Statements"
   ]
  },
  {
   "cell_type": "code",
   "execution_count": 1,
   "id": "51bb34bc-a3c3-4d3c-8e82-b22ddefed1a5",
   "metadata": {},
   "outputs": [],
   "source": [
    "import numpy as np\n",
    "import pandas as pd\n",
    "import scipy.stats\n",
    "\n",
    "from tqdm import tqdm\n",
    "import matplotlib.pyplot as plt\n",
    "import seaborn as sns\n",
    "\n",
    "%matplotlib inline"
   ]
  },
  {
   "cell_type": "code",
   "execution_count": 2,
   "id": "3032edef-00c3-46e2-aa50-1e2fc6ddd7c7",
   "metadata": {},
   "outputs": [],
   "source": [
    "# https://bioframe.readthedocs.io/en/latest/guide-intervalops.html\n",
    "import bioframe as bf\n"
   ]
  },
  {
   "cell_type": "code",
   "execution_count": 3,
   "id": "e3a91cce-3a91-46e3-b2f1-799d14eaf5fa",
   "metadata": {},
   "outputs": [],
   "source": [
    "import time"
   ]
  },
  {
   "cell_type": "code",
   "execution_count": 4,
   "id": "4be8e971-3adb-43c4-bf1f-92bdeccf0a43",
   "metadata": {},
   "outputs": [],
   "source": [
    "import ast"
   ]
  },
  {
   "cell_type": "markdown",
   "id": "d6921f96-b7ef-4b49-987f-5decff4dab3d",
   "metadata": {},
   "source": [
    "#### Pandas Viewing Settings"
   ]
  },
  {
   "cell_type": "code",
   "execution_count": 5,
   "id": "7973d89c-ccc8-4b33-9419-945ccbeab90a",
   "metadata": {},
   "outputs": [],
   "source": [
    "pd.set_option('display.max_rows', 500)\n",
    "pd.set_option('display.max_columns', 500)\n",
    "pd.set_option('display.width', 1000)"
   ]
  },
  {
   "cell_type": "code",
   "execution_count": null,
   "id": "e99768ad-761e-4091-80aa-ec3bf99cb82f",
   "metadata": {},
   "outputs": [],
   "source": []
  },
  {
   "cell_type": "code",
   "execution_count": null,
   "id": "e0cb493a-d6fe-41c1-8f65-b29a299608c7",
   "metadata": {},
   "outputs": [],
   "source": []
  },
  {
   "cell_type": "code",
   "execution_count": null,
   "id": "31935445-2822-467a-80dd-f8cff073b947",
   "metadata": {},
   "outputs": [],
   "source": []
  },
  {
   "cell_type": "markdown",
   "id": "99c4c062-513e-4bf6-98ca-30aab440ce11",
   "metadata": {},
   "source": [
    "# Import/parse processed H37rv genome annotations"
   ]
  },
  {
   "cell_type": "code",
   "execution_count": 6,
   "id": "d184c5ed-aa31-4560-ba84-15d000811490",
   "metadata": {},
   "outputs": [],
   "source": [
    "RepoRef_Dir = \"../../References\"\n",
    "\n",
    "AnnotatedGenes_And_IntergenicRegions_RepoRef_Dir = f\"{RepoRef_Dir}/201027_H37rv_AnnotatedGenes_And_IntergenicRegions\"\n",
    "H37Rv_GenomeAnnotations_Genes_TSV = f\"{AnnotatedGenes_And_IntergenicRegions_RepoRef_Dir}/H37Rv_GenomeAnnotations.Genes.tsv\"\n",
    "\n",
    "## H37Rv Gene Annotations TSV\n",
    "H37Rv_GenomeAnno_Genes_DF = pd.read_csv(H37Rv_GenomeAnnotations_Genes_TSV, sep = \"\\t\")\n",
    "H37Rv_GeneInfo_Subset_DF = H37Rv_GenomeAnno_Genes_DF[[\"H37rv_GeneID\", \"Symbol\", \"Feature\", \"Functional_Category\", \"Is_Pseudogene\", \"Product\", \"PEandPPE_Subfamily\", \"ExcludedGroup_Category\"]]\n",
    "\n",
    "RvID_To_Symbol_Dict = dict(H37Rv_GeneInfo_Subset_DF[['H37rv_GeneID', 'Symbol']].values)\n",
    "Symbol_To_FuncCat_Dict = dict(H37Rv_GeneInfo_Subset_DF[['Symbol', 'Functional_Category']].values)\n"
   ]
  },
  {
   "cell_type": "code",
   "execution_count": 7,
   "id": "8a32c5be-14f8-41b5-93fe-c404de87e816",
   "metadata": {},
   "outputs": [
    {
     "data": {
      "text/html": [
       "<div>\n",
       "<style scoped>\n",
       "    .dataframe tbody tr th:only-of-type {\n",
       "        vertical-align: middle;\n",
       "    }\n",
       "\n",
       "    .dataframe tbody tr th {\n",
       "        vertical-align: top;\n",
       "    }\n",
       "\n",
       "    .dataframe thead th {\n",
       "        text-align: right;\n",
       "    }\n",
       "</style>\n",
       "<table border=\"1\" class=\"dataframe\">\n",
       "  <thead>\n",
       "    <tr style=\"text-align: right;\">\n",
       "      <th></th>\n",
       "      <th>Chrom</th>\n",
       "      <th>Start</th>\n",
       "      <th>End</th>\n",
       "      <th>Strand</th>\n",
       "      <th>H37rv_GeneID</th>\n",
       "      <th>Symbol</th>\n",
       "      <th>Feature</th>\n",
       "      <th>Functional_Category</th>\n",
       "      <th>Is_Pseudogene</th>\n",
       "      <th>Product</th>\n",
       "      <th>PEandPPE_Subfamily</th>\n",
       "      <th>ExcludedGroup_Category</th>\n",
       "    </tr>\n",
       "  </thead>\n",
       "  <tbody>\n",
       "    <tr>\n",
       "      <th>0</th>\n",
       "      <td>NC_000962.3</td>\n",
       "      <td>0</td>\n",
       "      <td>1524</td>\n",
       "      <td>+</td>\n",
       "      <td>Rv0001</td>\n",
       "      <td>dnaA</td>\n",
       "      <td>CDS</td>\n",
       "      <td>information pathways</td>\n",
       "      <td>No</td>\n",
       "      <td>Chromosomal replication initiator protein DnaA</td>\n",
       "      <td>None</td>\n",
       "      <td>NotExcluded</td>\n",
       "    </tr>\n",
       "    <tr>\n",
       "      <th>1</th>\n",
       "      <td>NC_000962.3</td>\n",
       "      <td>2051</td>\n",
       "      <td>3260</td>\n",
       "      <td>+</td>\n",
       "      <td>Rv0002</td>\n",
       "      <td>dnaN</td>\n",
       "      <td>CDS</td>\n",
       "      <td>information pathways</td>\n",
       "      <td>No</td>\n",
       "      <td>DNA polymerase III (beta chain) DnaN (DNA nucl...</td>\n",
       "      <td>None</td>\n",
       "      <td>NotExcluded</td>\n",
       "    </tr>\n",
       "    <tr>\n",
       "      <th>2</th>\n",
       "      <td>NC_000962.3</td>\n",
       "      <td>3279</td>\n",
       "      <td>4437</td>\n",
       "      <td>+</td>\n",
       "      <td>Rv0003</td>\n",
       "      <td>recF</td>\n",
       "      <td>CDS</td>\n",
       "      <td>information pathways</td>\n",
       "      <td>No</td>\n",
       "      <td>DNA replication and repair protein RecF (singl...</td>\n",
       "      <td>None</td>\n",
       "      <td>NotExcluded</td>\n",
       "    </tr>\n",
       "  </tbody>\n",
       "</table>\n",
       "</div>"
      ],
      "text/plain": [
       "         Chrom  Start   End Strand H37rv_GeneID Symbol Feature   Functional_Category Is_Pseudogene                                            Product PEandPPE_Subfamily ExcludedGroup_Category\n",
       "0  NC_000962.3      0  1524      +       Rv0001   dnaA     CDS  information pathways            No     Chromosomal replication initiator protein DnaA               None            NotExcluded\n",
       "1  NC_000962.3   2051  3260      +       Rv0002   dnaN     CDS  information pathways            No  DNA polymerase III (beta chain) DnaN (DNA nucl...               None            NotExcluded\n",
       "2  NC_000962.3   3279  4437      +       Rv0003   recF     CDS  information pathways            No  DNA replication and repair protein RecF (singl...               None            NotExcluded"
      ]
     },
     "execution_count": 7,
     "metadata": {},
     "output_type": "execute_result"
    }
   ],
   "source": [
    "H37Rv_GenomeAnno_Genes_DF.head(3)"
   ]
  },
  {
   "cell_type": "code",
   "execution_count": null,
   "id": "9e90b587-451c-4371-9681-542b03c84445",
   "metadata": {},
   "outputs": [],
   "source": []
  },
  {
   "cell_type": "code",
   "execution_count": null,
   "id": "55156d02-7a53-4510-afac-2c2230fe468f",
   "metadata": {},
   "outputs": [],
   "source": []
  },
  {
   "cell_type": "markdown",
   "id": "ecb8b321-d396-4ca6-a6c4-b5ae33473f71",
   "metadata": {
    "toc-hr-collapsed": true
   },
   "source": [
    "# Parse sample metadata & preprocessed genome info/results"
   ]
  },
  {
   "cell_type": "code",
   "execution_count": 8,
   "id": "3ba09c0b-dc04-4b8c-ae70-1910633df7c6",
   "metadata": {},
   "outputs": [],
   "source": [
    "Repo_DataDir = \"../../Data\"\n",
    "InputAsmPath_Dir = f\"{Repo_DataDir}/231121.InputAsmTSVs.MtbSetV3.151CI\"\n",
    "\n",
    "MtbSetV3_151CI_InputAsmPATHs_TSV = f\"{InputAsmPath_Dir}/231121.MtbSetV3.151CI.HybridAndSRAsm.FAPATHs.V1.tsv\"\n",
    "MtbSetV3_151CI_AsmSumm_TSV = f\"{InputAsmPath_Dir}/231121.MtbSetV3.151CI.HybridAsm.AsmSummary.V2.tsv\""
   ]
  },
  {
   "cell_type": "markdown",
   "id": "998cbce8-57a6-4bb9-990a-426579a58be1",
   "metadata": {},
   "source": [
    "## Parse sample Metadata (N = 151)"
   ]
  },
  {
   "cell_type": "code",
   "execution_count": 9,
   "id": "38cd681a-c9eb-4dd6-a71d-82233eeda48e",
   "metadata": {},
   "outputs": [
    {
     "data": {
      "text/plain": [
       "(151, 7)"
      ]
     },
     "execution_count": 9,
     "metadata": {},
     "output_type": "execute_result"
    }
   ],
   "source": [
    "WGA151CI_AsmSummary_DF = pd.read_csv(MtbSetV3_151CI_AsmSumm_TSV, sep = \"\\t\")\n",
    "\n",
    "SampleIDs_151CI_SOI = list( WGA151CI_AsmSummary_DF[\"SampleID\"].values )\n",
    "WGA151CI_SampleIDs = SampleIDs_151CI_SOI\n",
    "\n",
    "ID_To_PrimLineage_Dict = dict(WGA151CI_AsmSummary_DF[['SampleID', 'PrimaryLineage']].values)\n",
    "ID_To_SubLineage_Dict = dict( WGA151CI_AsmSummary_DF[[\"SampleID\", \"Lineage\"]].values)\n",
    "ID_To_Dataset_Dict = dict(WGA151CI_AsmSummary_DF[['SampleID', 'Dataset_Tag']].values)\n",
    "WGA151CI_AsmSummary_DF.shape"
   ]
  },
  {
   "cell_type": "code",
   "execution_count": null,
   "id": "0795bdb0-3e34-4787-bdf0-d060c39c460e",
   "metadata": {},
   "outputs": [],
   "source": []
  },
  {
   "cell_type": "code",
   "execution_count": null,
   "id": "39d76163-ddc0-45cb-b1b8-2367b172da2c",
   "metadata": {},
   "outputs": [],
   "source": []
  },
  {
   "cell_type": "markdown",
   "id": "bf03559c-a4f1-408d-8d3d-f2e265dfab3c",
   "metadata": {},
   "source": [
    "# Define output dir of the Mtb-WGA-SMK processing pipeline"
   ]
  },
  {
   "cell_type": "code",
   "execution_count": 10,
   "id": "35db1cf6-5a46-4591-bf68-2c2b44574941",
   "metadata": {},
   "outputs": [],
   "source": [
    "WGA_SMK_Outputs_Dir = \"/n/data1/hms/dbmi/farhat/mm774/Projects/Mtb-WGA-SMK-Output\"\n",
    "\n",
    "WGA151CI_SMK_OutputDir = WGA_SMK_Outputs_Dir + \"/231121_MtbSetV3_151CI\"\n",
    "MtbWGA_SMK_Pipeline_OutputDir = WGA151CI_SMK_OutputDir"
   ]
  },
  {
   "cell_type": "code",
   "execution_count": null,
   "id": "e6eb8bef-c54f-4d59-ad14-39a9fcc9bf9b",
   "metadata": {},
   "outputs": [],
   "source": []
  },
  {
   "cell_type": "markdown",
   "id": "941cd402-c2bc-412d-9e78-417c41a4fad9",
   "metadata": {},
   "source": [
    "### Define paths to processed analysis of SV Pan-genome graph (minigraph)"
   ]
  },
  {
   "cell_type": "code",
   "execution_count": 11,
   "id": "9c04418a-35be-446b-90de-a010333ffd33",
   "metadata": {},
   "outputs": [],
   "source": [
    "PangenomeAnalysis_Dir = \"../../Data/MtbPangenomeAnalysis_SetV5\"\n",
    "\n",
    "MG_Node_KmerComp_TSV_GZ = f\"{PangenomeAnalysis_Dir}/MtbSVPG.Minigraph.NodeKmerComp.Summary.V1.tsv.gz\" \n",
    "\n",
    "MG_AvA_Node_KmerAnalysis_TSV_GZ = f\"{PangenomeAnalysis_Dir}/MtbSVPG.Minigraph.NodeKmerComp.AllVsAll.V1.tsv.gz\"     \n",
    "\n",
    "MG_BubbleSumm_TSV_GZ = f\"{PangenomeAnalysis_Dir}/MtbSVPG.Minigraph.BubbleSummary.BED.tsv.gz\"     \n",
    "\n",
    "MG_SVVCF_TSV_GZ = f\"{PangenomeAnalysis_Dir}/MtbSVPG.Minigraph.BubbleAlleleInfo.SVVCF.tsv.gz\" \n",
    "\n",
    "MG_SVInfo_TSV_GZ = f\"{PangenomeAnalysis_Dir}/MtbSVPG.Minigraph.BubbleAlleleInfo.SVInfo.tsv.gz\" \n"
   ]
  },
  {
   "cell_type": "code",
   "execution_count": null,
   "id": "6f855b80-8f2a-43e8-a25d-a9f449b7527f",
   "metadata": {},
   "outputs": [],
   "source": []
  },
  {
   "cell_type": "markdown",
   "id": "46467b03-cc70-4867-8a30-56fb947be187",
   "metadata": {},
   "source": [
    "### Parse in `MG_Nodes_KmerVsRefSets_DF`"
   ]
  },
  {
   "cell_type": "code",
   "execution_count": 12,
   "id": "4de63590-20f2-4463-b899-67d5aaac67c4",
   "metadata": {},
   "outputs": [
    {
     "data": {
      "text/plain": [
       "(3138, 18)"
      ]
     },
     "execution_count": 12,
     "metadata": {},
     "output_type": "execute_result"
    }
   ],
   "source": [
    "MG_Nodes_KmerComp_DF = pd.read_csv(MG_Node_KmerComp_TSV_GZ, sep = \"\\t\" )\n",
    "MG_Nodes_KmerComp_DF.shape"
   ]
  },
  {
   "cell_type": "code",
   "execution_count": 13,
   "id": "99066b03-31b1-4e62-aace-eb295a53ec3c",
   "metadata": {},
   "outputs": [
    {
     "data": {
      "text/html": [
       "<div>\n",
       "<style scoped>\n",
       "    .dataframe tbody tr th:only-of-type {\n",
       "        vertical-align: middle;\n",
       "    }\n",
       "\n",
       "    .dataframe tbody tr th {\n",
       "        vertical-align: top;\n",
       "    }\n",
       "\n",
       "    .dataframe thead th {\n",
       "        text-align: right;\n",
       "    }\n",
       "</style>\n",
       "<table border=\"1\" class=\"dataframe\">\n",
       "  <thead>\n",
       "    <tr style=\"text-align: right;\">\n",
       "      <th></th>\n",
       "      <th>NodeID</th>\n",
       "      <th>IsSVNode</th>\n",
       "      <th>SeqLength</th>\n",
       "      <th>Jaccard_Cont_WiRv</th>\n",
       "      <th>Jaccard_Cont_WiIS6110</th>\n",
       "      <th>Jaccard_Cont_WiRv_InsSeqAndPhages</th>\n",
       "      <th>Jaccard_Cont_WiRv_PEPPEs</th>\n",
       "      <th>Jaccard_Cont_WiRv_InfoPathways</th>\n",
       "      <th>Jaccard_Cont_WiRv_ConservedHypo</th>\n",
       "      <th>Jaccard_Cont_WiRv_CellWallCellProc</th>\n",
       "      <th>Jaccard_Cont_WiRv_StableRNAs</th>\n",
       "      <th>Jaccard_Cont_WiRv_InterMetabolism</th>\n",
       "      <th>Jaccard_Cont_WiRv_RegProteins</th>\n",
       "      <th>Jaccard_Cont_WiRv_VirulenceDetoxAdaptation</th>\n",
       "      <th>Jaccard_Cont_WiRv_LipidMetabolism</th>\n",
       "      <th>Jaccard_Cont_WiRv_Unknown</th>\n",
       "      <th>BubbleID</th>\n",
       "      <th>MaxJC_ToOtherNode</th>\n",
       "    </tr>\n",
       "  </thead>\n",
       "  <tbody>\n",
       "    <tr>\n",
       "      <th>0</th>\n",
       "      <td>s1</td>\n",
       "      <td>False</td>\n",
       "      <td>1533</td>\n",
       "      <td>1.0</td>\n",
       "      <td>0.0</td>\n",
       "      <td>0.0</td>\n",
       "      <td>0.0</td>\n",
       "      <td>0.994012</td>\n",
       "      <td>0.000000</td>\n",
       "      <td>0.000000</td>\n",
       "      <td>0.000000</td>\n",
       "      <td>0.0</td>\n",
       "      <td>0.0</td>\n",
       "      <td>0.0</td>\n",
       "      <td>0.0</td>\n",
       "      <td>0.0</td>\n",
       "      <td>None</td>\n",
       "      <td>0.000000</td>\n",
       "    </tr>\n",
       "    <tr>\n",
       "      <th>1</th>\n",
       "      <td>s2</td>\n",
       "      <td>False</td>\n",
       "      <td>58</td>\n",
       "      <td>1.0</td>\n",
       "      <td>0.0</td>\n",
       "      <td>0.0</td>\n",
       "      <td>0.0</td>\n",
       "      <td>0.000000</td>\n",
       "      <td>0.000000</td>\n",
       "      <td>0.000000</td>\n",
       "      <td>0.000000</td>\n",
       "      <td>0.0</td>\n",
       "      <td>0.0</td>\n",
       "      <td>0.0</td>\n",
       "      <td>0.0</td>\n",
       "      <td>0.0</td>\n",
       "      <td>None</td>\n",
       "      <td>0.000000</td>\n",
       "    </tr>\n",
       "    <tr>\n",
       "      <th>2</th>\n",
       "      <td>s3</td>\n",
       "      <td>True</td>\n",
       "      <td>56</td>\n",
       "      <td>1.0</td>\n",
       "      <td>0.0</td>\n",
       "      <td>0.0</td>\n",
       "      <td>0.0</td>\n",
       "      <td>0.000000</td>\n",
       "      <td>0.000000</td>\n",
       "      <td>0.000000</td>\n",
       "      <td>0.000000</td>\n",
       "      <td>0.0</td>\n",
       "      <td>0.0</td>\n",
       "      <td>0.0</td>\n",
       "      <td>0.0</td>\n",
       "      <td>0.0</td>\n",
       "      <td>BubbleRegion_2</td>\n",
       "      <td>0.961538</td>\n",
       "    </tr>\n",
       "    <tr>\n",
       "      <th>3</th>\n",
       "      <td>s4</td>\n",
       "      <td>True</td>\n",
       "      <td>5</td>\n",
       "      <td>0.0</td>\n",
       "      <td>0.0</td>\n",
       "      <td>0.0</td>\n",
       "      <td>0.0</td>\n",
       "      <td>0.000000</td>\n",
       "      <td>0.000000</td>\n",
       "      <td>0.000000</td>\n",
       "      <td>0.000000</td>\n",
       "      <td>0.0</td>\n",
       "      <td>0.0</td>\n",
       "      <td>0.0</td>\n",
       "      <td>0.0</td>\n",
       "      <td>0.0</td>\n",
       "      <td>BubbleRegion_2</td>\n",
       "      <td>0.000000</td>\n",
       "    </tr>\n",
       "    <tr>\n",
       "      <th>4</th>\n",
       "      <td>s5</td>\n",
       "      <td>False</td>\n",
       "      <td>11970</td>\n",
       "      <td>1.0</td>\n",
       "      <td>0.0</td>\n",
       "      <td>0.0</td>\n",
       "      <td>0.0</td>\n",
       "      <td>0.612312</td>\n",
       "      <td>0.044724</td>\n",
       "      <td>0.141457</td>\n",
       "      <td>0.007286</td>\n",
       "      <td>0.0</td>\n",
       "      <td>0.0</td>\n",
       "      <td>0.0</td>\n",
       "      <td>0.0</td>\n",
       "      <td>0.0</td>\n",
       "      <td>None</td>\n",
       "      <td>0.000000</td>\n",
       "    </tr>\n",
       "  </tbody>\n",
       "</table>\n",
       "</div>"
      ],
      "text/plain": [
       "  NodeID  IsSVNode  SeqLength  Jaccard_Cont_WiRv  Jaccard_Cont_WiIS6110  Jaccard_Cont_WiRv_InsSeqAndPhages  Jaccard_Cont_WiRv_PEPPEs  Jaccard_Cont_WiRv_InfoPathways  Jaccard_Cont_WiRv_ConservedHypo  Jaccard_Cont_WiRv_CellWallCellProc  Jaccard_Cont_WiRv_StableRNAs  Jaccard_Cont_WiRv_InterMetabolism  Jaccard_Cont_WiRv_RegProteins  Jaccard_Cont_WiRv_VirulenceDetoxAdaptation  Jaccard_Cont_WiRv_LipidMetabolism  Jaccard_Cont_WiRv_Unknown        BubbleID  MaxJC_ToOtherNode\n",
       "0     s1     False       1533                1.0                    0.0                                0.0                       0.0                        0.994012                         0.000000                            0.000000                      0.000000                                0.0                            0.0                                         0.0                                0.0                        0.0            None           0.000000\n",
       "1     s2     False         58                1.0                    0.0                                0.0                       0.0                        0.000000                         0.000000                            0.000000                      0.000000                                0.0                            0.0                                         0.0                                0.0                        0.0            None           0.000000\n",
       "2     s3      True         56                1.0                    0.0                                0.0                       0.0                        0.000000                         0.000000                            0.000000                      0.000000                                0.0                            0.0                                         0.0                                0.0                        0.0  BubbleRegion_2           0.961538\n",
       "3     s4      True          5                0.0                    0.0                                0.0                       0.0                        0.000000                         0.000000                            0.000000                      0.000000                                0.0                            0.0                                         0.0                                0.0                        0.0  BubbleRegion_2           0.000000\n",
       "4     s5     False      11970                1.0                    0.0                                0.0                       0.0                        0.612312                         0.044724                            0.141457                      0.007286                                0.0                            0.0                                         0.0                                0.0                        0.0            None           0.000000"
      ]
     },
     "execution_count": 13,
     "metadata": {},
     "output_type": "execute_result"
    }
   ],
   "source": [
    "MG_Nodes_KmerComp_DF.head()"
   ]
  },
  {
   "cell_type": "code",
   "execution_count": null,
   "id": "790ecb61-0e41-4d9c-b459-cb21cd77b13b",
   "metadata": {},
   "outputs": [],
   "source": []
  },
  {
   "cell_type": "markdown",
   "id": "f7ce2e7e-236b-40e0-a993-efed6963fd57",
   "metadata": {},
   "source": [
    "# Parse processed Pangraph results"
   ]
  },
  {
   "cell_type": "code",
   "execution_count": 14,
   "id": "1394f4d6-f7cc-4fc3-9652-d5265435e41a",
   "metadata": {},
   "outputs": [
    {
     "data": {
      "text/plain": [
       "(1119, 9)"
      ]
     },
     "execution_count": 14,
     "metadata": {},
     "output_type": "execute_result"
    }
   ],
   "source": [
    "PG_T1_NodeSummary_DF = pd.read_csv(\"T1_NodeSummary_DF.csv\")\n",
    "PG_T1_NodeSummary_DF.shape"
   ]
  },
  {
   "cell_type": "code",
   "execution_count": 15,
   "id": "bf2c0ee4-bcdf-4454-a008-8a69319af1c3",
   "metadata": {},
   "outputs": [
    {
     "data": {
      "text/plain": [
       "(1341, 9)"
      ]
     },
     "execution_count": 15,
     "metadata": {},
     "output_type": "execute_result"
    }
   ],
   "source": [
    "PG_T2_NodeSummary_DF = pd.read_csv(\"T2_NodeSummary_DF.csv\")\n",
    "PG_T2_NodeSummary_DF.shape"
   ]
  },
  {
   "cell_type": "code",
   "execution_count": 16,
   "id": "48d364f4-edc4-4c81-8be5-47f08a2743f3",
   "metadata": {},
   "outputs": [
    {
     "data": {
      "text/plain": [
       "(1481, 9)"
      ]
     },
     "execution_count": 16,
     "metadata": {},
     "output_type": "execute_result"
    }
   ],
   "source": [
    "PG_T3_NodeSummary_DF = pd.read_csv(\"T3_NodeSummary_DF.csv\")\n",
    "PG_T3_NodeSummary_DF.shape"
   ]
  },
  {
   "cell_type": "code",
   "execution_count": null,
   "id": "7bee4606-9845-454e-8286-4f0a3819a802",
   "metadata": {},
   "outputs": [],
   "source": []
  },
  {
   "cell_type": "code",
   "execution_count": null,
   "id": "64bea754-5344-494e-979f-58925bb9b053",
   "metadata": {},
   "outputs": [],
   "source": []
  },
  {
   "cell_type": "markdown",
   "id": "c058fb4c-7a19-406c-af8e-ce325b4f6bfb",
   "metadata": {},
   "source": [
    "# Begin analysis & comparison (Pangraph vs Minigraph)"
   ]
  },
  {
   "cell_type": "code",
   "execution_count": 17,
   "id": "c58f6d26-70b0-4fb2-8bd2-c3d52b3df908",
   "metadata": {},
   "outputs": [
    {
     "data": {
      "text/html": [
       "<div>\n",
       "<style scoped>\n",
       "    .dataframe tbody tr th:only-of-type {\n",
       "        vertical-align: middle;\n",
       "    }\n",
       "\n",
       "    .dataframe tbody tr th {\n",
       "        vertical-align: top;\n",
       "    }\n",
       "\n",
       "    .dataframe thead th {\n",
       "        text-align: right;\n",
       "    }\n",
       "</style>\n",
       "<table border=\"1\" class=\"dataframe\">\n",
       "  <thead>\n",
       "    <tr style=\"text-align: right;\">\n",
       "      <th></th>\n",
       "      <th>NodeID</th>\n",
       "      <th>SeqLength</th>\n",
       "      <th>N_Asms</th>\n",
       "      <th>N_Occurrences</th>\n",
       "      <th>Jaccard_Cont_WiRv</th>\n",
       "      <th>Jaccard_Cont_WiIS6110</th>\n",
       "      <th>Jaccard_Cont_WiRv_InsSeqAndPhages</th>\n",
       "      <th>IsSVNode</th>\n",
       "      <th>MaxJC_ToOtherNode</th>\n",
       "    </tr>\n",
       "  </thead>\n",
       "  <tbody>\n",
       "    <tr>\n",
       "      <th>0</th>\n",
       "      <td>JISCTWOKQZ</td>\n",
       "      <td>9501</td>\n",
       "      <td>152</td>\n",
       "      <td>152</td>\n",
       "      <td>0.993454</td>\n",
       "      <td>0.0</td>\n",
       "      <td>0.0</td>\n",
       "      <td>False</td>\n",
       "      <td>0.000000</td>\n",
       "    </tr>\n",
       "    <tr>\n",
       "      <th>1</th>\n",
       "      <td>IKRXJRHUBC</td>\n",
       "      <td>644</td>\n",
       "      <td>17</td>\n",
       "      <td>17</td>\n",
       "      <td>0.000000</td>\n",
       "      <td>0.0</td>\n",
       "      <td>0.0</td>\n",
       "      <td>True</td>\n",
       "      <td>0.084691</td>\n",
       "    </tr>\n",
       "    <tr>\n",
       "      <th>2</th>\n",
       "      <td>MHUQRHINBO</td>\n",
       "      <td>1095</td>\n",
       "      <td>1</td>\n",
       "      <td>1</td>\n",
       "      <td>0.000000</td>\n",
       "      <td>0.0</td>\n",
       "      <td>0.0</td>\n",
       "      <td>True</td>\n",
       "      <td>0.000000</td>\n",
       "    </tr>\n",
       "    <tr>\n",
       "      <th>3</th>\n",
       "      <td>MOJKXXEYYU</td>\n",
       "      <td>3213</td>\n",
       "      <td>152</td>\n",
       "      <td>152</td>\n",
       "      <td>1.000000</td>\n",
       "      <td>0.0</td>\n",
       "      <td>0.0</td>\n",
       "      <td>False</td>\n",
       "      <td>0.000000</td>\n",
       "    </tr>\n",
       "  </tbody>\n",
       "</table>\n",
       "</div>"
      ],
      "text/plain": [
       "       NodeID  SeqLength  N_Asms  N_Occurrences  Jaccard_Cont_WiRv  Jaccard_Cont_WiIS6110  Jaccard_Cont_WiRv_InsSeqAndPhages  IsSVNode  MaxJC_ToOtherNode\n",
       "0  JISCTWOKQZ       9501     152            152           0.993454                    0.0                                0.0     False           0.000000\n",
       "1  IKRXJRHUBC        644      17             17           0.000000                    0.0                                0.0      True           0.084691\n",
       "2  MHUQRHINBO       1095       1              1           0.000000                    0.0                                0.0      True           0.000000\n",
       "3  MOJKXXEYYU       3213     152            152           1.000000                    0.0                                0.0     False           0.000000"
      ]
     },
     "execution_count": 17,
     "metadata": {},
     "output_type": "execute_result"
    }
   ],
   "source": [
    "PG_T1_NodeSummary_DF.head(4)"
   ]
  },
  {
   "cell_type": "code",
   "execution_count": null,
   "id": "f295ca67-1f61-4913-9f55-60b83ded6b14",
   "metadata": {},
   "outputs": [],
   "source": []
  },
  {
   "cell_type": "markdown",
   "id": "9846f36e-0078-4def-91f2-06b729a658a5",
   "metadata": {},
   "source": [
    "### What is breakdown of SV vs Core Nodes in graph?"
   ]
  },
  {
   "cell_type": "code",
   "execution_count": 18,
   "id": "4fac188d-44ac-40f5-8ad4-3dc83b0eaebd",
   "metadata": {},
   "outputs": [
    {
     "data": {
      "text/plain": [
       "True     2602\n",
       "False     536\n",
       "Name: IsSVNode, dtype: int64"
      ]
     },
     "execution_count": 18,
     "metadata": {},
     "output_type": "execute_result"
    }
   ],
   "source": [
    "MG_Nodes_KmerComp_DF[\"IsSVNode\"].value_counts()"
   ]
  },
  {
   "cell_type": "code",
   "execution_count": 19,
   "id": "c8c22326-2715-4ecd-b371-a5edbd1a4ff5",
   "metadata": {},
   "outputs": [
    {
     "data": {
      "text/plain": [
       "True     649\n",
       "False    470\n",
       "Name: IsSVNode, dtype: int64"
      ]
     },
     "execution_count": 19,
     "metadata": {},
     "output_type": "execute_result"
    }
   ],
   "source": [
    "PG_T1_NodeSummary_DF[\"IsSVNode\"].value_counts()"
   ]
  },
  {
   "cell_type": "code",
   "execution_count": 20,
   "id": "0d35ea5a-29ed-4d74-9515-6ac4876f5b6b",
   "metadata": {},
   "outputs": [
    {
     "data": {
      "text/plain": [
       "True     845\n",
       "False    496\n",
       "Name: IsSVNode, dtype: int64"
      ]
     },
     "execution_count": 20,
     "metadata": {},
     "output_type": "execute_result"
    }
   ],
   "source": [
    "PG_T2_NodeSummary_DF[\"IsSVNode\"].value_counts()"
   ]
  },
  {
   "cell_type": "code",
   "execution_count": 21,
   "id": "d3be3dae-2e19-4447-a03d-a51db4288675",
   "metadata": {},
   "outputs": [
    {
     "data": {
      "text/plain": [
       "True     957\n",
       "False    524\n",
       "Name: IsSVNode, dtype: int64"
      ]
     },
     "execution_count": 21,
     "metadata": {},
     "output_type": "execute_result"
    }
   ],
   "source": [
    "PG_T3_NodeSummary_DF[\"IsSVNode\"].value_counts()"
   ]
  },
  {
   "cell_type": "markdown",
   "id": "fc6a04f7-99e0-4efa-bb90-68c8b9793851",
   "metadata": {},
   "source": [
    "### What is LENGTH breakdown of SV vs Core Nodes in graph?"
   ]
  },
  {
   "cell_type": "code",
   "execution_count": 22,
   "id": "c2aa43e7-ba1b-4c5b-8443-b40c68f70d89",
   "metadata": {},
   "outputs": [
    {
     "data": {
      "text/plain": [
       "IsSVNode\n",
       "False    3913140\n",
       "True     1283223\n",
       "Name: SeqLength, dtype: int64"
      ]
     },
     "execution_count": 22,
     "metadata": {},
     "output_type": "execute_result"
    }
   ],
   "source": [
    "MG_Nodes_KmerComp_DF.groupby(\"IsSVNode\")[\"SeqLength\"].sum()"
   ]
  },
  {
   "cell_type": "code",
   "execution_count": 23,
   "id": "46cbb44c-8106-46de-9a0b-088efd27e472",
   "metadata": {},
   "outputs": [
    {
     "data": {
      "text/plain": [
       "IsSVNode\n",
       "False    3886407\n",
       "True      387800\n",
       "Name: SeqLength, dtype: int64"
      ]
     },
     "execution_count": 23,
     "metadata": {},
     "output_type": "execute_result"
    }
   ],
   "source": [
    "PG_T1_NodeSummary_DF.groupby(\"IsSVNode\")[\"SeqLength\"].sum()"
   ]
  },
  {
   "cell_type": "code",
   "execution_count": 24,
   "id": "3209c95c-ae52-414f-a0e2-85cf97ee7154",
   "metadata": {},
   "outputs": [
    {
     "data": {
      "text/plain": [
       "IsSVNode\n",
       "False    3971389\n",
       "True      465526\n",
       "Name: SeqLength, dtype: int64"
      ]
     },
     "execution_count": 24,
     "metadata": {},
     "output_type": "execute_result"
    }
   ],
   "source": [
    "PG_T2_NodeSummary_DF.groupby(\"IsSVNode\")[\"SeqLength\"].sum()"
   ]
  },
  {
   "cell_type": "code",
   "execution_count": 25,
   "id": "130786c4-987e-430d-a46f-18706f4978f3",
   "metadata": {},
   "outputs": [
    {
     "data": {
      "text/plain": [
       "IsSVNode\n",
       "False    3964632\n",
       "True      468998\n",
       "Name: SeqLength, dtype: int64"
      ]
     },
     "execution_count": 25,
     "metadata": {},
     "output_type": "execute_result"
    }
   ],
   "source": [
    "PG_T3_NodeSummary_DF.groupby(\"IsSVNode\")[\"SeqLength\"].sum()"
   ]
  },
  {
   "cell_type": "code",
   "execution_count": null,
   "id": "42d6c157-34c0-4ab6-8ee8-acdd113c4efb",
   "metadata": {},
   "outputs": [],
   "source": []
  },
  {
   "cell_type": "markdown",
   "id": "07d9750e-a716-4424-9a42-202c26b30ded",
   "metadata": {},
   "source": [
    "### What proportion of SV Nodes have repeated sequences versus UNIQUE sequences?"
   ]
  },
  {
   "cell_type": "code",
   "execution_count": 26,
   "id": "b2418f86-5da1-47a8-84ac-d8fc3076076c",
   "metadata": {},
   "outputs": [
    {
     "data": {
      "text/plain": [
       "301511"
      ]
     },
     "execution_count": 26,
     "metadata": {},
     "output_type": "execute_result"
    }
   ],
   "source": [
    "MG_Nodes_KmerComp_DF.query(\"IsSVNode == True & SeqLength >= 31 & MaxJC_ToOtherNode < 0.05\")[\"SeqLength\"].sum()   "
   ]
  },
  {
   "cell_type": "code",
   "execution_count": 27,
   "id": "d23cfeda-e2cf-4451-ac92-f343c2b8481f",
   "metadata": {},
   "outputs": [
    {
     "data": {
      "text/plain": [
       "975039"
      ]
     },
     "execution_count": 27,
     "metadata": {},
     "output_type": "execute_result"
    }
   ],
   "source": [
    "MG_Nodes_KmerComp_DF.query(\"IsSVNode == True & SeqLength >= 31 & MaxJC_ToOtherNode >= 0.05\")[\"SeqLength\"].sum()   "
   ]
  },
  {
   "cell_type": "code",
   "execution_count": null,
   "id": "85de7e4f-f7dd-40a8-8557-c4bd94819be8",
   "metadata": {},
   "outputs": [],
   "source": []
  },
  {
   "cell_type": "code",
   "execution_count": 28,
   "id": "c39eea51-d041-49a7-bc3b-f69d8e86055a",
   "metadata": {},
   "outputs": [
    {
     "data": {
      "text/plain": [
       "368933"
      ]
     },
     "execution_count": 28,
     "metadata": {},
     "output_type": "execute_result"
    }
   ],
   "source": [
    "PG_T1_NodeSummary_DF.query(\"IsSVNode == True & SeqLength >= 31 & MaxJC_ToOtherNode < 0.05\")[\"SeqLength\"].sum()   "
   ]
  },
  {
   "cell_type": "code",
   "execution_count": 29,
   "id": "b85ada92-e6af-4a97-83b5-3af09c45769a",
   "metadata": {},
   "outputs": [
    {
     "data": {
      "text/plain": [
       "18822"
      ]
     },
     "execution_count": 29,
     "metadata": {},
     "output_type": "execute_result"
    }
   ],
   "source": [
    "PG_T1_NodeSummary_DF.query(\"IsSVNode == True & SeqLength >= 31 & MaxJC_ToOtherNode >= 0.05\")[\"SeqLength\"].sum()   "
   ]
  },
  {
   "cell_type": "code",
   "execution_count": null,
   "id": "a091e1d7-36b0-4f9f-a328-f9c7035937ce",
   "metadata": {},
   "outputs": [],
   "source": []
  },
  {
   "cell_type": "code",
   "execution_count": 30,
   "id": "0772274a-bc37-4b87-982c-e217df5aaffe",
   "metadata": {},
   "outputs": [
    {
     "data": {
      "text/plain": [
       "410195"
      ]
     },
     "execution_count": 30,
     "metadata": {},
     "output_type": "execute_result"
    }
   ],
   "source": [
    "PG_T2_NodeSummary_DF.query(\"IsSVNode == True & SeqLength >= 31 & MaxJC_ToOtherNode < 0.05\")[\"SeqLength\"].sum()   "
   ]
  },
  {
   "cell_type": "code",
   "execution_count": 31,
   "id": "009cdd57-7604-4d15-9b16-b8697ba39243",
   "metadata": {},
   "outputs": [
    {
     "data": {
      "text/plain": [
       "55312"
      ]
     },
     "execution_count": 31,
     "metadata": {},
     "output_type": "execute_result"
    }
   ],
   "source": [
    "PG_T2_NodeSummary_DF.query(\"IsSVNode == True & SeqLength >= 31 & MaxJC_ToOtherNode >= 0.05\")[\"SeqLength\"].sum()   "
   ]
  },
  {
   "cell_type": "code",
   "execution_count": null,
   "id": "0e96f10c-181d-4072-b946-d6ccf6a97c80",
   "metadata": {},
   "outputs": [],
   "source": []
  },
  {
   "cell_type": "code",
   "execution_count": 32,
   "id": "b527124f-04cb-4f6a-855c-5501519b38b8",
   "metadata": {},
   "outputs": [
    {
     "data": {
      "text/plain": [
       "419457"
      ]
     },
     "execution_count": 32,
     "metadata": {},
     "output_type": "execute_result"
    }
   ],
   "source": [
    "PG_T3_NodeSummary_DF.query(\"IsSVNode == True & SeqLength >= 31 & MaxJC_ToOtherNode < 0.05\")[\"SeqLength\"].sum()   "
   ]
  },
  {
   "cell_type": "code",
   "execution_count": 33,
   "id": "441ca108-f616-4f71-942b-1301e486b68c",
   "metadata": {},
   "outputs": [
    {
     "data": {
      "text/plain": [
       "49522"
      ]
     },
     "execution_count": 33,
     "metadata": {},
     "output_type": "execute_result"
    }
   ],
   "source": [
    "PG_T3_NodeSummary_DF.query(\"IsSVNode == True & SeqLength >= 31 & MaxJC_ToOtherNode >= 0.05\")[\"SeqLength\"].sum()   "
   ]
  },
  {
   "cell_type": "code",
   "execution_count": null,
   "id": "e4f65991-2247-4b0f-be72-7719c2e6fa7d",
   "metadata": {},
   "outputs": [],
   "source": []
  },
  {
   "cell_type": "code",
   "execution_count": null,
   "id": "3fb16f3d-3140-4eec-9ae0-3758397cb77c",
   "metadata": {},
   "outputs": [],
   "source": []
  },
  {
   "cell_type": "markdown",
   "id": "a09ecbc6-c65a-4422-8dab-4000eef95f8c",
   "metadata": {},
   "source": [
    "### What proportion of SV Nodes have NOVEL sequences relative to H37Rv?"
   ]
  },
  {
   "cell_type": "code",
   "execution_count": 34,
   "id": "dfd25bd7-34f5-42ab-b100-d0c6cb41d9b2",
   "metadata": {},
   "outputs": [
    {
     "data": {
      "text/plain": [
       "66621"
      ]
     },
     "execution_count": 34,
     "metadata": {},
     "output_type": "execute_result"
    }
   ],
   "source": [
    "MG_Nodes_KmerComp_DF.query(\"IsSVNode == True & SeqLength >= 31 & Jaccard_Cont_WiRv < 0.05\")[\"SeqLength\"].sum()"
   ]
  },
  {
   "cell_type": "code",
   "execution_count": 35,
   "id": "30c06760-2bb4-446f-a40b-166d6ed5fc5a",
   "metadata": {},
   "outputs": [
    {
     "data": {
      "text/plain": [
       "1209929"
      ]
     },
     "execution_count": 35,
     "metadata": {},
     "output_type": "execute_result"
    }
   ],
   "source": [
    "MG_Nodes_KmerComp_DF.query(\"IsSVNode == True & SeqLength >= 31 & Jaccard_Cont_WiRv >= 0.05\")[\"SeqLength\"].sum()"
   ]
  },
  {
   "cell_type": "code",
   "execution_count": null,
   "id": "22240d85-a280-4da9-bc4b-098054141ae3",
   "metadata": {},
   "outputs": [],
   "source": []
  },
  {
   "cell_type": "code",
   "execution_count": 36,
   "id": "fd1fdeb2-1eed-4457-8a14-607bec6066c4",
   "metadata": {},
   "outputs": [
    {
     "data": {
      "text/plain": [
       "62305"
      ]
     },
     "execution_count": 36,
     "metadata": {},
     "output_type": "execute_result"
    }
   ],
   "source": [
    "PG_T1_NodeSummary_DF.query(\"IsSVNode == True & SeqLength >= 31 & Jaccard_Cont_WiRv < 0.05\")[\"SeqLength\"].sum()   "
   ]
  },
  {
   "cell_type": "code",
   "execution_count": 37,
   "id": "b78c3ebe-c776-47a0-85f5-84a3b6bf447d",
   "metadata": {},
   "outputs": [
    {
     "data": {
      "text/plain": [
       "325450"
      ]
     },
     "execution_count": 37,
     "metadata": {},
     "output_type": "execute_result"
    }
   ],
   "source": [
    "PG_T1_NodeSummary_DF.query(\"IsSVNode == True & SeqLength >= 31 & Jaccard_Cont_WiRv >= 0.05\")[\"SeqLength\"].sum()   "
   ]
  },
  {
   "cell_type": "code",
   "execution_count": null,
   "id": "cc274532-13fe-4daf-986a-815525a0e585",
   "metadata": {},
   "outputs": [],
   "source": []
  },
  {
   "cell_type": "code",
   "execution_count": 38,
   "id": "317b551f-1263-4071-9c0c-5eaec2e3ef01",
   "metadata": {},
   "outputs": [
    {
     "data": {
      "text/plain": [
       "68434"
      ]
     },
     "execution_count": 38,
     "metadata": {},
     "output_type": "execute_result"
    }
   ],
   "source": [
    "PG_T2_NodeSummary_DF.query(\"IsSVNode == True & SeqLength >= 31 & Jaccard_Cont_WiRv < 0.05\")[\"SeqLength\"].sum()   "
   ]
  },
  {
   "cell_type": "code",
   "execution_count": 39,
   "id": "6e21a50d-48c4-48f9-94b2-cacd3289416c",
   "metadata": {},
   "outputs": [
    {
     "data": {
      "text/plain": [
       "397073"
      ]
     },
     "execution_count": 39,
     "metadata": {},
     "output_type": "execute_result"
    }
   ],
   "source": [
    "PG_T2_NodeSummary_DF.query(\"IsSVNode == True & SeqLength >= 31 & Jaccard_Cont_WiRv >= 0.05\")[\"SeqLength\"].sum()"
   ]
  },
  {
   "cell_type": "code",
   "execution_count": null,
   "id": "15518176-d42e-400b-8b12-ab2751b6a808",
   "metadata": {},
   "outputs": [],
   "source": []
  },
  {
   "cell_type": "code",
   "execution_count": 40,
   "id": "e8237602-ba12-4b1d-8c61-c3a2c5a511b2",
   "metadata": {},
   "outputs": [
    {
     "data": {
      "text/plain": [
       "69058"
      ]
     },
     "execution_count": 40,
     "metadata": {},
     "output_type": "execute_result"
    }
   ],
   "source": [
    "PG_T3_NodeSummary_DF.query(\"IsSVNode == True & SeqLength >= 31 & Jaccard_Cont_WiRv < 0.05\")[\"SeqLength\"].sum()   "
   ]
  },
  {
   "cell_type": "code",
   "execution_count": 41,
   "id": "32cde9b7-5623-43ed-8349-a296520a70d6",
   "metadata": {},
   "outputs": [
    {
     "data": {
      "text/plain": [
       "399921"
      ]
     },
     "execution_count": 41,
     "metadata": {},
     "output_type": "execute_result"
    }
   ],
   "source": [
    "PG_T3_NodeSummary_DF.query(\"IsSVNode == True & SeqLength >= 31 & Jaccard_Cont_WiRv >= 0.05\")[\"SeqLength\"].sum()   "
   ]
  },
  {
   "cell_type": "code",
   "execution_count": null,
   "id": "f23ec2cd-614d-4024-a32c-4c88f18f73ad",
   "metadata": {},
   "outputs": [],
   "source": []
  },
  {
   "cell_type": "code",
   "execution_count": null,
   "id": "3dc8a5d9-38f6-43c3-8d2c-e5bc8410dd24",
   "metadata": {},
   "outputs": [],
   "source": []
  },
  {
   "cell_type": "code",
   "execution_count": null,
   "id": "b24f8473-4c9b-48cc-b133-384647a81aa9",
   "metadata": {},
   "outputs": [],
   "source": []
  },
  {
   "cell_type": "markdown",
   "id": "c25df1e0-723d-4a37-a5df-f6300d1370b6",
   "metadata": {},
   "source": [
    "# Summary Analysis - Round 2"
   ]
  },
  {
   "cell_type": "code",
   "execution_count": 61,
   "id": "563fef25-f5d3-4e8b-9cba-2acde0f65a00",
   "metadata": {},
   "outputs": [],
   "source": [
    "def summarize_Pangenome_Node_Stats(node_summary_df):\n",
    "    \"\"\"\n",
    "    Summarizes key statistics from the pan-genome graph node summary DataFrame.\n",
    "    \n",
    "    Args:\n",
    "        node_summary_df (pd.DataFrame): DataFrame containing node summaries.\n",
    "    \n",
    "    Returns:\n",
    "        dict: A dictionary summarizing key statistics.\n",
    "    \"\"\"\n",
    "    stats = {}\n",
    "\n",
    "    # Core Nodes\n",
    "    core_nodes_all = node_summary_df.query(\"IsSVNode == False\")\n",
    "    core_nodes_pass = core_nodes_all.query(\"SeqLength >= 31\")\n",
    "    core_nodes_sub31bp = core_nodes_all.query(\"SeqLength < 31\")\n",
    "\n",
    "    # SV Nodes\n",
    "    sv_nodes_all = node_summary_df.query(\"IsSVNode == True\")\n",
    "    sv_nodes_pass = sv_nodes_all.query(\"SeqLength >= 31\")\n",
    "    sv_nodes_sub31bp = sv_nodes_all.query(\"SeqLength < 31\")\n",
    "\n",
    "    # SV Nodes by MaxJC threshold\n",
    "    sv_pass_UnqInGraph = sv_nodes_pass.query(\"MaxJC_ToOtherNode < 0.05\")\n",
    "    sv_pass_RepeatInGraph = sv_nodes_pass.query(\"MaxJC_ToOtherNode >= 0.05\")\n",
    "\n",
    "    # SV Nodes by Rv match threshold\n",
    "    sv_pass_UnqToH37Rv = sv_nodes_pass.query(\"Jaccard_Cont_WiRv < 0.05\")\n",
    "    sv_pass_InH37Rv = sv_nodes_pass.query(\"Jaccard_Cont_WiRv >= 0.05\")\n",
    "    \n",
    "\n",
    "    stats[\"N_CoreNodes\"] = core_nodes_all.shape[0]\n",
    "    stats[\"SeqLength_CoreNodes\"] = core_nodes_all[\"SeqLength\"].sum()\n",
    "    \n",
    "    stats[\"N_SV_All\"] = sv_nodes_all.shape[0]\n",
    "    stats[\"SeqLength_SV_All\"] = sv_nodes_all[\"SeqLength\"].sum()\n",
    "\n",
    "    stats[\"N_SV_UnqInGraph\"] = sv_pass_UnqInGraph.shape[0]\n",
    "    stats[\"SeqLength_SV_UnqInGraph\"] = sv_pass_UnqInGraph[\"SeqLength\"].sum()\n",
    "\n",
    "    stats[\"N_SV_RepeatInGraph\"] = sv_pass_RepeatInGraph.shape[0]\n",
    "    stats[\"SeqLength_SV_RepeatInGraph\"] = sv_pass_RepeatInGraph[\"SeqLength\"].sum()\n",
    "\n",
    "    stats[\"N_SV_UnqToH37Rv\"] = sv_pass_UnqToH37Rv.shape[0]\n",
    "    stats[\"SeqLength_SV_UnqToH37Rv\"] = sv_pass_UnqToH37Rv[\"SeqLength\"].sum()\n",
    "\n",
    "    return stats\n"
   ]
  },
  {
   "cell_type": "code",
   "execution_count": null,
   "id": "a6813d0b-42cd-40c2-baa3-cfef1279e05a",
   "metadata": {},
   "outputs": [],
   "source": []
  },
  {
   "cell_type": "code",
   "execution_count": 80,
   "id": "9ad59270-66d1-43c5-a80c-2ee211ebf834",
   "metadata": {},
   "outputs": [
    {
     "data": {
      "text/plain": [
       "(4, 11)"
      ]
     },
     "execution_count": 80,
     "metadata": {},
     "output_type": "execute_result"
    }
   ],
   "source": [
    "summary_stats_Dict = {\"Minigraph\"   : summarize_Pangenome_Node_Stats(MG_Nodes_KmerComp_DF), \n",
    "                      \"Pangraph_T1\" : summarize_Pangenome_Node_Stats(PG_T1_NodeSummary_DF), \n",
    "                      \"Pangraph_T2\" : summarize_Pangenome_Node_Stats(PG_T2_NodeSummary_DF),  \n",
    "                      \"Pangraph_T3\" : summarize_Pangenome_Node_Stats(PG_T3_NodeSummary_DF) }\n",
    "\n",
    "SummStats_DF_List = []\n",
    "\n",
    "for key, i_Dict in summary_stats_Dict.items():\n",
    "    i_Dict[\"Method\"] = key\n",
    "\n",
    "    i_DF = pd.DataFrame([i_Dict])\n",
    "    \n",
    "    SummStats_DF_List.append(i_DF)\n",
    "    \n",
    "\n",
    "\n",
    "All_Stats_DF = pd.concat(SummStats_DF_List, axis = 0)\n",
    "\n",
    "# Move the \"Method\" column to the first position\n",
    "method_col = All_Stats_DF.pop(\"Method\")\n",
    "\n",
    "All_Stats_DF.insert(0, \"Method\", method_col)\n",
    "\n",
    "All_Stats_DF.shape"
   ]
  },
  {
   "cell_type": "code",
   "execution_count": 81,
   "id": "53df8f91-e197-463c-8561-fa9245c4a4a6",
   "metadata": {},
   "outputs": [
    {
     "data": {
      "text/html": [
       "<div>\n",
       "<style scoped>\n",
       "    .dataframe tbody tr th:only-of-type {\n",
       "        vertical-align: middle;\n",
       "    }\n",
       "\n",
       "    .dataframe tbody tr th {\n",
       "        vertical-align: top;\n",
       "    }\n",
       "\n",
       "    .dataframe thead th {\n",
       "        text-align: right;\n",
       "    }\n",
       "</style>\n",
       "<table border=\"1\" class=\"dataframe\">\n",
       "  <thead>\n",
       "    <tr style=\"text-align: right;\">\n",
       "      <th></th>\n",
       "      <th>Method</th>\n",
       "      <th>N_CoreNodes</th>\n",
       "      <th>SeqLength_CoreNodes</th>\n",
       "      <th>N_SV_All</th>\n",
       "      <th>SeqLength_SV_All</th>\n",
       "      <th>N_SV_UnqInGraph</th>\n",
       "      <th>SeqLength_SV_UnqInGraph</th>\n",
       "      <th>N_SV_RepeatInGraph</th>\n",
       "      <th>SeqLength_SV_RepeatInGraph</th>\n",
       "      <th>N_SV_UnqToH37Rv</th>\n",
       "      <th>SeqLength_SV_UnqToH37Rv</th>\n",
       "    </tr>\n",
       "  </thead>\n",
       "  <tbody>\n",
       "    <tr>\n",
       "      <th>0</th>\n",
       "      <td>Minigraph</td>\n",
       "      <td>536</td>\n",
       "      <td>3913140</td>\n",
       "      <td>2602</td>\n",
       "      <td>1283223</td>\n",
       "      <td>463</td>\n",
       "      <td>301511</td>\n",
       "      <td>1562</td>\n",
       "      <td>975039</td>\n",
       "      <td>160</td>\n",
       "      <td>66621</td>\n",
       "    </tr>\n",
       "    <tr>\n",
       "      <th>0</th>\n",
       "      <td>Pangraph_T1</td>\n",
       "      <td>470</td>\n",
       "      <td>3886407</td>\n",
       "      <td>649</td>\n",
       "      <td>387800</td>\n",
       "      <td>532</td>\n",
       "      <td>368933</td>\n",
       "      <td>115</td>\n",
       "      <td>18822</td>\n",
       "      <td>83</td>\n",
       "      <td>62305</td>\n",
       "    </tr>\n",
       "    <tr>\n",
       "      <th>0</th>\n",
       "      <td>Pangraph_T2</td>\n",
       "      <td>496</td>\n",
       "      <td>3971389</td>\n",
       "      <td>845</td>\n",
       "      <td>465526</td>\n",
       "      <td>579</td>\n",
       "      <td>410195</td>\n",
       "      <td>265</td>\n",
       "      <td>55312</td>\n",
       "      <td>95</td>\n",
       "      <td>68434</td>\n",
       "    </tr>\n",
       "    <tr>\n",
       "      <th>0</th>\n",
       "      <td>Pangraph_T3</td>\n",
       "      <td>524</td>\n",
       "      <td>3964632</td>\n",
       "      <td>957</td>\n",
       "      <td>468998</td>\n",
       "      <td>630</td>\n",
       "      <td>419457</td>\n",
       "      <td>326</td>\n",
       "      <td>49522</td>\n",
       "      <td>102</td>\n",
       "      <td>69058</td>\n",
       "    </tr>\n",
       "  </tbody>\n",
       "</table>\n",
       "</div>"
      ],
      "text/plain": [
       "        Method  N_CoreNodes  SeqLength_CoreNodes  N_SV_All  SeqLength_SV_All  N_SV_UnqInGraph  SeqLength_SV_UnqInGraph  N_SV_RepeatInGraph  SeqLength_SV_RepeatInGraph  N_SV_UnqToH37Rv  SeqLength_SV_UnqToH37Rv\n",
       "0    Minigraph          536              3913140      2602           1283223              463                   301511                1562                      975039              160                    66621\n",
       "0  Pangraph_T1          470              3886407       649            387800              532                   368933                 115                       18822               83                    62305\n",
       "0  Pangraph_T2          496              3971389       845            465526              579                   410195                 265                       55312               95                    68434\n",
       "0  Pangraph_T3          524              3964632       957            468998              630                   419457                 326                       49522              102                    69058"
      ]
     },
     "execution_count": 81,
     "metadata": {},
     "output_type": "execute_result"
    }
   ],
   "source": [
    "All_Stats_DF"
   ]
  },
  {
   "cell_type": "code",
   "execution_count": null,
   "id": "c8cf4b3c-5513-483b-9813-8838ce021057",
   "metadata": {},
   "outputs": [],
   "source": []
  },
  {
   "cell_type": "code",
   "execution_count": 71,
   "id": "5286d2fc-1b54-478d-9964-6dcc0649176f",
   "metadata": {},
   "outputs": [
    {
     "data": {
      "text/plain": [
       "{'N_CoreNodes': 536,\n",
       " 'SeqLength_CoreNodes': 3913140,\n",
       " 'N_SV_All': 2602,\n",
       " 'SeqLength_SV_All': 1283223,\n",
       " 'N_SV_UnqInGraph': 463,\n",
       " 'SeqLength_SV_UnqInGraph': 301511,\n",
       " 'N_SV_RepeatInGraph': 1562,\n",
       " 'SeqLength_SV_RepeatInGraph': 975039,\n",
       " 'N_SV_UnqToH37Rv': 160,\n",
       " 'SeqLength_SV_UnqToH37Rv': 66621,\n",
       " 'Method': 'Minigraph'}"
      ]
     },
     "execution_count": 71,
     "metadata": {},
     "output_type": "execute_result"
    }
   ],
   "source": [
    "SummStats_DF_List[0]"
   ]
  },
  {
   "cell_type": "code",
   "execution_count": 73,
   "id": "faf2c3b2-2559-46dd-9708-5be3c877f397",
   "metadata": {},
   "outputs": [
    {
     "data": {
      "text/plain": [
       "[]"
      ]
     },
     "execution_count": 73,
     "metadata": {},
     "output_type": "execute_result"
    }
   ],
   "source": [
    "SummStats_DF_List"
   ]
  },
  {
   "cell_type": "code",
   "execution_count": null,
   "id": "48256f86-e5f8-432e-9af9-011a23fc3be7",
   "metadata": {},
   "outputs": [],
   "source": []
  },
  {
   "cell_type": "code",
   "execution_count": null,
   "id": "bc26fddb-0d40-4ea4-8192-b9fcc58fde5e",
   "metadata": {},
   "outputs": [],
   "source": []
  },
  {
   "cell_type": "code",
   "execution_count": null,
   "id": "d17742f3-013e-4adb-9277-35dea37c4b92",
   "metadata": {},
   "outputs": [],
   "source": []
  },
  {
   "cell_type": "code",
   "execution_count": 62,
   "id": "74832e60-5d95-4830-b35b-52f8bdeb2929",
   "metadata": {},
   "outputs": [
    {
     "name": "stdout",
     "output_type": "stream",
     "text": [
      "N_CoreNodes: 536\n",
      "SeqLength_CoreNodes: 3913140\n",
      "N_SV_All: 2602\n",
      "SeqLength_SV_All: 1283223\n",
      "N_SV_UnqInGraph: 463\n",
      "SeqLength_SV_UnqInGraph: 301511\n",
      "N_SV_RepeatInGraph: 1562\n",
      "SeqLength_SV_RepeatInGraph: 975039\n",
      "N_SV_UnqToH37Rv: 160\n",
      "SeqLength_SV_UnqToH37Rv: 66621\n"
     ]
    }
   ],
   "source": [
    "# Summarize statistics\n",
    "summary_stats = summarize_Pangenome_Node_Stats(MG_Nodes_KmerComp_DF)\n",
    "\n",
    "# Display summary\n",
    "for key, value in summary_stats.items():\n",
    "    \n",
    "    print(f\"{key}: {value}\")"
   ]
  },
  {
   "cell_type": "code",
   "execution_count": null,
   "id": "7cf0f312-193a-479f-ab7f-ee20b0141389",
   "metadata": {},
   "outputs": [],
   "source": []
  },
  {
   "cell_type": "code",
   "execution_count": 63,
   "id": "e0ac8fe7-55cc-4c84-afc8-b0164f299f57",
   "metadata": {},
   "outputs": [
    {
     "name": "stdout",
     "output_type": "stream",
     "text": [
      "N_CoreNodes: 470\n",
      "SeqLength_CoreNodes: 3886407\n",
      "N_SV_All: 649\n",
      "SeqLength_SV_All: 387800\n",
      "N_SV_UnqInGraph: 532\n",
      "SeqLength_SV_UnqInGraph: 368933\n",
      "N_SV_RepeatInGraph: 115\n",
      "SeqLength_SV_RepeatInGraph: 18822\n",
      "N_SV_UnqToH37Rv: 83\n",
      "SeqLength_SV_UnqToH37Rv: 62305\n"
     ]
    }
   ],
   "source": [
    "# Summarize statistics\n",
    "summary_stats = summarize_Pangenome_Node_Stats(PG_T1_NodeSummary_DF)\n",
    "\n",
    "# Display summary\n",
    "for key, value in summary_stats.items():\n",
    "    \n",
    "    print(f\"{key}: {value}\")"
   ]
  },
  {
   "cell_type": "code",
   "execution_count": null,
   "id": "8fe9e974-1ede-451f-90f3-9e32ff6cf703",
   "metadata": {},
   "outputs": [],
   "source": []
  },
  {
   "cell_type": "code",
   "execution_count": 64,
   "id": "3a255ecd-8bcb-43be-8485-28aa7d48b551",
   "metadata": {},
   "outputs": [
    {
     "name": "stdout",
     "output_type": "stream",
     "text": [
      "N_CoreNodes: 496\n",
      "SeqLength_CoreNodes: 3971389\n",
      "N_SV_All: 845\n",
      "SeqLength_SV_All: 465526\n",
      "N_SV_UnqInGraph: 579\n",
      "SeqLength_SV_UnqInGraph: 410195\n",
      "N_SV_RepeatInGraph: 265\n",
      "SeqLength_SV_RepeatInGraph: 55312\n",
      "N_SV_UnqToH37Rv: 95\n",
      "SeqLength_SV_UnqToH37Rv: 68434\n"
     ]
    }
   ],
   "source": [
    "# Summarize statistics\n",
    "summary_stats = summarize_Pangenome_Node_Stats(PG_T2_NodeSummary_DF)\n",
    "\n",
    "# Display summary\n",
    "for key, value in summary_stats.items():\n",
    "    \n",
    "    print(f\"{key}: {value}\")"
   ]
  },
  {
   "cell_type": "code",
   "execution_count": null,
   "id": "766576a8-c386-4ce8-aa44-d7e4e86fc1ea",
   "metadata": {},
   "outputs": [],
   "source": []
  },
  {
   "cell_type": "code",
   "execution_count": 65,
   "id": "3ba53d43-07eb-4abd-a599-24079a191dd3",
   "metadata": {},
   "outputs": [
    {
     "name": "stdout",
     "output_type": "stream",
     "text": [
      "N_CoreNodes: 524\n",
      "SeqLength_CoreNodes: 3964632\n",
      "N_SV_All: 957\n",
      "SeqLength_SV_All: 468998\n",
      "N_SV_UnqInGraph: 630\n",
      "SeqLength_SV_UnqInGraph: 419457\n",
      "N_SV_RepeatInGraph: 326\n",
      "SeqLength_SV_RepeatInGraph: 49522\n",
      "N_SV_UnqToH37Rv: 102\n",
      "SeqLength_SV_UnqToH37Rv: 69058\n"
     ]
    }
   ],
   "source": [
    "# Summarize statistics\n",
    "summary_stats = summarize_Pangenome_Node_Stats(PG_T3_NodeSummary_DF)\n",
    "\n",
    "# Display summary\n",
    "for key, value in summary_stats.items():\n",
    "    \n",
    "    print(f\"{key}: {value}\")\n"
   ]
  },
  {
   "cell_type": "code",
   "execution_count": null,
   "id": "a62a57a2-0786-4819-aad9-b92e25458cc2",
   "metadata": {},
   "outputs": [],
   "source": []
  },
  {
   "cell_type": "code",
   "execution_count": null,
   "id": "6a4b9811-dd2e-4a99-8fd3-7c9bf5a354e1",
   "metadata": {},
   "outputs": [],
   "source": []
  },
  {
   "cell_type": "code",
   "execution_count": 46,
   "id": "f409943f-6c5b-4a67-9e0a-bf57760c06b0",
   "metadata": {},
   "outputs": [
    {
     "data": {
      "text/html": [
       "<div>\n",
       "<style scoped>\n",
       "    .dataframe tbody tr th:only-of-type {\n",
       "        vertical-align: middle;\n",
       "    }\n",
       "\n",
       "    .dataframe tbody tr th {\n",
       "        vertical-align: top;\n",
       "    }\n",
       "\n",
       "    .dataframe thead th {\n",
       "        text-align: right;\n",
       "    }\n",
       "</style>\n",
       "<table border=\"1\" class=\"dataframe\">\n",
       "  <thead>\n",
       "    <tr style=\"text-align: right;\">\n",
       "      <th></th>\n",
       "      <th>NodeID</th>\n",
       "      <th>IsSVNode</th>\n",
       "      <th>SeqLength</th>\n",
       "      <th>Jaccard_Cont_WiRv</th>\n",
       "      <th>Jaccard_Cont_WiIS6110</th>\n",
       "      <th>Jaccard_Cont_WiRv_InsSeqAndPhages</th>\n",
       "      <th>Jaccard_Cont_WiRv_PEPPEs</th>\n",
       "      <th>Jaccard_Cont_WiRv_InfoPathways</th>\n",
       "      <th>Jaccard_Cont_WiRv_ConservedHypo</th>\n",
       "      <th>Jaccard_Cont_WiRv_CellWallCellProc</th>\n",
       "      <th>Jaccard_Cont_WiRv_StableRNAs</th>\n",
       "      <th>Jaccard_Cont_WiRv_InterMetabolism</th>\n",
       "      <th>Jaccard_Cont_WiRv_RegProteins</th>\n",
       "      <th>Jaccard_Cont_WiRv_VirulenceDetoxAdaptation</th>\n",
       "      <th>Jaccard_Cont_WiRv_LipidMetabolism</th>\n",
       "      <th>Jaccard_Cont_WiRv_Unknown</th>\n",
       "      <th>BubbleID</th>\n",
       "      <th>MaxJC_ToOtherNode</th>\n",
       "    </tr>\n",
       "  </thead>\n",
       "  <tbody>\n",
       "    <tr>\n",
       "      <th>0</th>\n",
       "      <td>s1</td>\n",
       "      <td>False</td>\n",
       "      <td>1533</td>\n",
       "      <td>1.0</td>\n",
       "      <td>0.0</td>\n",
       "      <td>0.0</td>\n",
       "      <td>0.0</td>\n",
       "      <td>0.994012</td>\n",
       "      <td>0.0</td>\n",
       "      <td>0.0</td>\n",
       "      <td>0.0</td>\n",
       "      <td>0.0</td>\n",
       "      <td>0.0</td>\n",
       "      <td>0.0</td>\n",
       "      <td>0.0</td>\n",
       "      <td>0.0</td>\n",
       "      <td>None</td>\n",
       "      <td>0.0</td>\n",
       "    </tr>\n",
       "  </tbody>\n",
       "</table>\n",
       "</div>"
      ],
      "text/plain": [
       "  NodeID  IsSVNode  SeqLength  Jaccard_Cont_WiRv  Jaccard_Cont_WiIS6110  Jaccard_Cont_WiRv_InsSeqAndPhages  Jaccard_Cont_WiRv_PEPPEs  Jaccard_Cont_WiRv_InfoPathways  Jaccard_Cont_WiRv_ConservedHypo  Jaccard_Cont_WiRv_CellWallCellProc  Jaccard_Cont_WiRv_StableRNAs  Jaccard_Cont_WiRv_InterMetabolism  Jaccard_Cont_WiRv_RegProteins  Jaccard_Cont_WiRv_VirulenceDetoxAdaptation  Jaccard_Cont_WiRv_LipidMetabolism  Jaccard_Cont_WiRv_Unknown BubbleID  MaxJC_ToOtherNode\n",
       "0     s1     False       1533                1.0                    0.0                                0.0                       0.0                        0.994012                              0.0                                 0.0                           0.0                                0.0                            0.0                                         0.0                                0.0                        0.0     None                0.0"
      ]
     },
     "execution_count": 46,
     "metadata": {},
     "output_type": "execute_result"
    }
   ],
   "source": [
    "MG_Nodes_KmerComp_DF.head(1)"
   ]
  },
  {
   "cell_type": "code",
   "execution_count": null,
   "id": "b05a0390-3cc0-43e3-9a1b-a9ef6c0f07a1",
   "metadata": {},
   "outputs": [],
   "source": []
  },
  {
   "cell_type": "code",
   "execution_count": 42,
   "id": "a581d7c3-fd30-422b-a7ce-e028f15d6a5d",
   "metadata": {},
   "outputs": [
    {
     "data": {
      "text/html": [
       "<div>\n",
       "<style scoped>\n",
       "    .dataframe tbody tr th:only-of-type {\n",
       "        vertical-align: middle;\n",
       "    }\n",
       "\n",
       "    .dataframe tbody tr th {\n",
       "        vertical-align: top;\n",
       "    }\n",
       "\n",
       "    .dataframe thead th {\n",
       "        text-align: right;\n",
       "    }\n",
       "</style>\n",
       "<table border=\"1\" class=\"dataframe\">\n",
       "  <thead>\n",
       "    <tr style=\"text-align: right;\">\n",
       "      <th></th>\n",
       "      <th>NodeID</th>\n",
       "      <th>SeqLength</th>\n",
       "      <th>N_Asms</th>\n",
       "      <th>N_Occurrences</th>\n",
       "      <th>Jaccard_Cont_WiRv</th>\n",
       "      <th>Jaccard_Cont_WiIS6110</th>\n",
       "      <th>Jaccard_Cont_WiRv_InsSeqAndPhages</th>\n",
       "      <th>IsSVNode</th>\n",
       "      <th>MaxJC_ToOtherNode</th>\n",
       "    </tr>\n",
       "  </thead>\n",
       "  <tbody>\n",
       "    <tr>\n",
       "      <th>0</th>\n",
       "      <td>JISCTWOKQZ</td>\n",
       "      <td>9501</td>\n",
       "      <td>152</td>\n",
       "      <td>152</td>\n",
       "      <td>0.993454</td>\n",
       "      <td>0.0</td>\n",
       "      <td>0.0</td>\n",
       "      <td>False</td>\n",
       "      <td>0.000000</td>\n",
       "    </tr>\n",
       "    <tr>\n",
       "      <th>1</th>\n",
       "      <td>IKRXJRHUBC</td>\n",
       "      <td>644</td>\n",
       "      <td>17</td>\n",
       "      <td>17</td>\n",
       "      <td>0.000000</td>\n",
       "      <td>0.0</td>\n",
       "      <td>0.0</td>\n",
       "      <td>True</td>\n",
       "      <td>0.084691</td>\n",
       "    </tr>\n",
       "  </tbody>\n",
       "</table>\n",
       "</div>"
      ],
      "text/plain": [
       "       NodeID  SeqLength  N_Asms  N_Occurrences  Jaccard_Cont_WiRv  Jaccard_Cont_WiIS6110  Jaccard_Cont_WiRv_InsSeqAndPhages  IsSVNode  MaxJC_ToOtherNode\n",
       "0  JISCTWOKQZ       9501     152            152           0.993454                    0.0                                0.0     False           0.000000\n",
       "1  IKRXJRHUBC        644      17             17           0.000000                    0.0                                0.0      True           0.084691"
      ]
     },
     "execution_count": 42,
     "metadata": {},
     "output_type": "execute_result"
    }
   ],
   "source": [
    "PG_T1_NodeSummary_DF.head(2)"
   ]
  },
  {
   "cell_type": "code",
   "execution_count": 43,
   "id": "c88d1071-311c-4a16-963a-c334da35e3af",
   "metadata": {},
   "outputs": [
    {
     "data": {
      "text/plain": [
       "count    1119.000000\n",
       "mean      104.250223\n",
       "std        68.062977\n",
       "min         0.000000\n",
       "25%         1.000000\n",
       "50%       151.000000\n",
       "75%       152.000000\n",
       "max       152.000000\n",
       "Name: N_Asms, dtype: float64"
      ]
     },
     "execution_count": 43,
     "metadata": {},
     "output_type": "execute_result"
    }
   ],
   "source": [
    "PG_T1_NodeSummary_DF[\"N_Asms\"].describe()"
   ]
  },
  {
   "cell_type": "code",
   "execution_count": 44,
   "id": "35e95538-e501-4c14-88e6-b7c72ad0e2ae",
   "metadata": {},
   "outputs": [
    {
     "data": {
      "text/plain": [
       "count    1119.000000\n",
       "mean      104.250223\n",
       "std        68.062977\n",
       "min         0.000000\n",
       "25%         1.000000\n",
       "50%       151.000000\n",
       "75%       152.000000\n",
       "max       152.000000\n",
       "Name: N_Occurrences, dtype: float64"
      ]
     },
     "execution_count": 44,
     "metadata": {},
     "output_type": "execute_result"
    }
   ],
   "source": [
    "PG_T1_NodeSummary_DF[\"N_Occurrences\"].describe()"
   ]
  },
  {
   "cell_type": "code",
   "execution_count": null,
   "id": "6e9b1889-a9eb-42ba-80f3-db026ea525d8",
   "metadata": {},
   "outputs": [],
   "source": []
  },
  {
   "cell_type": "code",
   "execution_count": null,
   "id": "b68397ce-fa17-4d04-8e76-3c087dfc745d",
   "metadata": {},
   "outputs": [],
   "source": []
  },
  {
   "cell_type": "code",
   "execution_count": null,
   "id": "259290b4-1ee2-4192-aa4f-68897f9cb6af",
   "metadata": {},
   "outputs": [],
   "source": []
  },
  {
   "cell_type": "code",
   "execution_count": null,
   "id": "e60ad8de-81b2-42b5-8353-dd92906d036a",
   "metadata": {},
   "outputs": [],
   "source": []
  },
  {
   "cell_type": "code",
   "execution_count": null,
   "id": "8aa414ab-6dbb-43fa-aa0f-8e13776e97e6",
   "metadata": {},
   "outputs": [],
   "source": []
  },
  {
   "cell_type": "code",
   "execution_count": null,
   "id": "4b3d160e-00f2-4f14-a3fe-37b561fac927",
   "metadata": {},
   "outputs": [],
   "source": []
  },
  {
   "cell_type": "code",
   "execution_count": null,
   "id": "20b71420-a2ca-4e67-824d-666680abb140",
   "metadata": {},
   "outputs": [],
   "source": []
  },
  {
   "cell_type": "code",
   "execution_count": null,
   "id": "301e4cf0-1768-46ed-9b35-9de4103ee737",
   "metadata": {},
   "outputs": [],
   "source": []
  },
  {
   "cell_type": "code",
   "execution_count": null,
   "id": "4f5c6f23-e726-4abd-83a9-fd2b7d3e0817",
   "metadata": {},
   "outputs": [],
   "source": []
  },
  {
   "cell_type": "code",
   "execution_count": null,
   "id": "c9ee1ea0-2f63-4fcc-b6b9-ec28daa1be54",
   "metadata": {},
   "outputs": [],
   "source": []
  },
  {
   "cell_type": "code",
   "execution_count": null,
   "id": "bc10b273-2a25-4d19-b973-c006fa1fea8b",
   "metadata": {},
   "outputs": [],
   "source": []
  }
 ],
 "metadata": {
  "kernelspec": {
   "display_name": "py37_S",
   "language": "python",
   "name": "py37_s"
  },
  "language_info": {
   "codemirror_mode": {
    "name": "ipython",
    "version": 3
   },
   "file_extension": ".py",
   "mimetype": "text/x-python",
   "name": "python",
   "nbconvert_exporter": "python",
   "pygments_lexer": "ipython3",
   "version": "3.7.3"
  }
 },
 "nbformat": 4,
 "nbformat_minor": 5
}
