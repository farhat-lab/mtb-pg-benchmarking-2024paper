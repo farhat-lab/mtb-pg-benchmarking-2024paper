{
 "cells": [
  {
   "cell_type": "markdown",
   "id": "5c9635fd-12e3-413c-86e1-7d54173cd6c0",
   "metadata": {},
   "source": [
    "# Minigraph Mtb SV Pan-Genome Evaluation\n",
    "## Part 2: Sequence content analysis\n",
    "\n",
    "This notebook contains the code to parsed in processed node info from the SV Mtb pan-genome graph.\n"
   ]
  },
  {
   "cell_type": "code",
   "execution_count": null,
   "id": "95fa432a-74ff-4c88-b830-f5376b428104",
   "metadata": {},
   "outputs": [],
   "source": []
  },
  {
   "cell_type": "markdown",
   "id": "1e441937-e1c6-4a5d-a0dd-e6944d4c3cd4",
   "metadata": {
    "toc-hr-collapsed": true
   },
   "source": [
    "### Import Statements"
   ]
  },
  {
   "cell_type": "code",
   "execution_count": 2,
   "id": "f74ad133-38d6-4835-aef9-7944f2138bee",
   "metadata": {},
   "outputs": [],
   "source": [
    "import numpy as np\n",
    "import pandas as pd\n",
    "import scipy.stats\n",
    "\n",
    "from tqdm import tqdm\n",
    "import matplotlib.pyplot as plt\n",
    "import seaborn as sns\n",
    "\n",
    "%matplotlib inline"
   ]
  },
  {
   "cell_type": "code",
   "execution_count": 3,
   "id": "bf56d291-8137-4124-bc40-7ed49dfc5b91",
   "metadata": {},
   "outputs": [],
   "source": [
    "# https://bioframe.readthedocs.io/en/latest/guide-intervalops.html\n",
    "import bioframe as bf\n"
   ]
  },
  {
   "cell_type": "code",
   "execution_count": 4,
   "id": "7533ccf1-672a-4225-b805-ab992e7e9526",
   "metadata": {},
   "outputs": [],
   "source": [
    "import time"
   ]
  },
  {
   "cell_type": "code",
   "execution_count": 5,
   "id": "2ce4bcfe-34bf-45db-b422-3129565b6fc0",
   "metadata": {},
   "outputs": [],
   "source": [
    "import ast"
   ]
  },
  {
   "cell_type": "markdown",
   "id": "50ca430e-fd89-4dab-be8a-fa5a91582416",
   "metadata": {},
   "source": [
    "#### Pandas Viewing Settings"
   ]
  },
  {
   "cell_type": "code",
   "execution_count": 6,
   "id": "74fe7679-e1c9-4ef7-9b07-578bcd669be3",
   "metadata": {},
   "outputs": [],
   "source": [
    "pd.set_option('display.max_rows', 500)\n",
    "pd.set_option('display.max_columns', 500)\n",
    "pd.set_option('display.width', 1000)"
   ]
  },
  {
   "cell_type": "code",
   "execution_count": null,
   "id": "1ed35d81-3f50-4a4e-84c7-dcd197fbd4d1",
   "metadata": {},
   "outputs": [],
   "source": []
  },
  {
   "cell_type": "markdown",
   "id": "1819086e-7d8e-467e-8290-6322e3a6cd41",
   "metadata": {},
   "source": [
    "# Import/parse processed H37rv genome annotations"
   ]
  },
  {
   "cell_type": "code",
   "execution_count": 7,
   "id": "c0e352b9-cc42-471f-b6ac-eb6741172d0f",
   "metadata": {},
   "outputs": [],
   "source": [
    "RepoRef_Dir = \"../../References\"\n",
    "\n",
    "AnnotatedGenes_And_IntergenicRegions_RepoRef_Dir = f\"{RepoRef_Dir}/201027_H37rv_AnnotatedGenes_And_IntergenicRegions\"\n",
    "H37Rv_GenomeAnnotations_Genes_TSV = f\"{AnnotatedGenes_And_IntergenicRegions_RepoRef_Dir}/H37Rv_GenomeAnnotations.Genes.tsv\"\n",
    "\n",
    "## H37Rv Gene Annotations TSV\n",
    "H37Rv_GenomeAnno_Genes_DF = pd.read_csv(H37Rv_GenomeAnnotations_Genes_TSV, sep = \"\\t\")\n",
    "H37Rv_GeneInfo_Subset_DF = H37Rv_GenomeAnno_Genes_DF[[\"H37rv_GeneID\", \"Symbol\", \"Feature\", \"Functional_Category\", \"Is_Pseudogene\", \"Product\", \"PEandPPE_Subfamily\", \"ExcludedGroup_Category\"]]\n",
    "\n",
    "RvID_To_Symbol_Dict = dict(H37Rv_GeneInfo_Subset_DF[['H37rv_GeneID', 'Symbol']].values)\n",
    "Symbol_To_FuncCat_Dict = dict(H37Rv_GeneInfo_Subset_DF[['Symbol', 'Functional_Category']].values)\n"
   ]
  },
  {
   "cell_type": "code",
   "execution_count": 8,
   "id": "f9256f85-4f94-4697-8145-a8a3dda92aba",
   "metadata": {},
   "outputs": [
    {
     "data": {
      "text/html": [
       "<div>\n",
       "<style scoped>\n",
       "    .dataframe tbody tr th:only-of-type {\n",
       "        vertical-align: middle;\n",
       "    }\n",
       "\n",
       "    .dataframe tbody tr th {\n",
       "        vertical-align: top;\n",
       "    }\n",
       "\n",
       "    .dataframe thead th {\n",
       "        text-align: right;\n",
       "    }\n",
       "</style>\n",
       "<table border=\"1\" class=\"dataframe\">\n",
       "  <thead>\n",
       "    <tr style=\"text-align: right;\">\n",
       "      <th></th>\n",
       "      <th>Chrom</th>\n",
       "      <th>Start</th>\n",
       "      <th>End</th>\n",
       "      <th>Strand</th>\n",
       "      <th>H37rv_GeneID</th>\n",
       "      <th>Symbol</th>\n",
       "      <th>Feature</th>\n",
       "      <th>Functional_Category</th>\n",
       "      <th>Is_Pseudogene</th>\n",
       "      <th>Product</th>\n",
       "      <th>PEandPPE_Subfamily</th>\n",
       "      <th>ExcludedGroup_Category</th>\n",
       "    </tr>\n",
       "  </thead>\n",
       "  <tbody>\n",
       "    <tr>\n",
       "      <th>0</th>\n",
       "      <td>NC_000962.3</td>\n",
       "      <td>0</td>\n",
       "      <td>1524</td>\n",
       "      <td>+</td>\n",
       "      <td>Rv0001</td>\n",
       "      <td>dnaA</td>\n",
       "      <td>CDS</td>\n",
       "      <td>information pathways</td>\n",
       "      <td>No</td>\n",
       "      <td>Chromosomal replication initiator protein DnaA</td>\n",
       "      <td>None</td>\n",
       "      <td>NotExcluded</td>\n",
       "    </tr>\n",
       "    <tr>\n",
       "      <th>1</th>\n",
       "      <td>NC_000962.3</td>\n",
       "      <td>2051</td>\n",
       "      <td>3260</td>\n",
       "      <td>+</td>\n",
       "      <td>Rv0002</td>\n",
       "      <td>dnaN</td>\n",
       "      <td>CDS</td>\n",
       "      <td>information pathways</td>\n",
       "      <td>No</td>\n",
       "      <td>DNA polymerase III (beta chain) DnaN (DNA nucl...</td>\n",
       "      <td>None</td>\n",
       "      <td>NotExcluded</td>\n",
       "    </tr>\n",
       "    <tr>\n",
       "      <th>2</th>\n",
       "      <td>NC_000962.3</td>\n",
       "      <td>3279</td>\n",
       "      <td>4437</td>\n",
       "      <td>+</td>\n",
       "      <td>Rv0003</td>\n",
       "      <td>recF</td>\n",
       "      <td>CDS</td>\n",
       "      <td>information pathways</td>\n",
       "      <td>No</td>\n",
       "      <td>DNA replication and repair protein RecF (singl...</td>\n",
       "      <td>None</td>\n",
       "      <td>NotExcluded</td>\n",
       "    </tr>\n",
       "  </tbody>\n",
       "</table>\n",
       "</div>"
      ],
      "text/plain": [
       "         Chrom  Start   End Strand H37rv_GeneID Symbol Feature   Functional_Category Is_Pseudogene                                            Product PEandPPE_Subfamily ExcludedGroup_Category\n",
       "0  NC_000962.3      0  1524      +       Rv0001   dnaA     CDS  information pathways            No     Chromosomal replication initiator protein DnaA               None            NotExcluded\n",
       "1  NC_000962.3   2051  3260      +       Rv0002   dnaN     CDS  information pathways            No  DNA polymerase III (beta chain) DnaN (DNA nucl...               None            NotExcluded\n",
       "2  NC_000962.3   3279  4437      +       Rv0003   recF     CDS  information pathways            No  DNA replication and repair protein RecF (singl...               None            NotExcluded"
      ]
     },
     "execution_count": 8,
     "metadata": {},
     "output_type": "execute_result"
    }
   ],
   "source": [
    "H37Rv_GenomeAnno_Genes_DF.head(3)"
   ]
  },
  {
   "cell_type": "code",
   "execution_count": null,
   "id": "36bf0966-8671-460f-9383-2f29618d1493",
   "metadata": {},
   "outputs": [],
   "source": []
  },
  {
   "cell_type": "code",
   "execution_count": null,
   "id": "4d4efadf-5b1d-419b-ac99-45080e810f71",
   "metadata": {},
   "outputs": [],
   "source": []
  },
  {
   "cell_type": "markdown",
   "id": "d2eb1497-f27c-436b-bf15-4b505f67e6da",
   "metadata": {
    "toc-hr-collapsed": true
   },
   "source": [
    "# Parse sample metadata & preprocessed genome info/results"
   ]
  },
  {
   "cell_type": "code",
   "execution_count": 9,
   "id": "3516ec09-fd85-4eea-837c-6cd5ee5b029c",
   "metadata": {},
   "outputs": [],
   "source": [
    "Repo_DataDir = \"../../Data\"\n",
    "InputAsmPath_Dir = f\"{Repo_DataDir}/231121.InputAsmTSVs.MtbSetV3.151CI\"\n",
    "\n",
    "MtbSetV3_151CI_InputAsmPATHs_TSV = f\"{InputAsmPath_Dir}/231121.MtbSetV3.151CI.HybridAndSRAsm.FAPATHs.V1.tsv\"\n",
    "MtbSetV3_151CI_AsmSumm_TSV = f\"{InputAsmPath_Dir}/231121.MtbSetV3.151CI.HybridAsm.AsmSummary.V2.tsv\""
   ]
  },
  {
   "cell_type": "markdown",
   "id": "0c1575a7-746e-4e71-8949-a551474a9445",
   "metadata": {},
   "source": [
    "## Parse sample Metadata (N = 151)"
   ]
  },
  {
   "cell_type": "code",
   "execution_count": 10,
   "id": "f9475836-75ff-430c-b965-c76f0483743e",
   "metadata": {},
   "outputs": [
    {
     "data": {
      "text/plain": [
       "(151, 7)"
      ]
     },
     "execution_count": 10,
     "metadata": {},
     "output_type": "execute_result"
    }
   ],
   "source": [
    "WGA151CI_AsmSummary_DF = pd.read_csv(MtbSetV3_151CI_AsmSumm_TSV, sep = \"\\t\")\n",
    "\n",
    "SampleIDs_151CI_SOI = list( WGA151CI_AsmSummary_DF[\"SampleID\"].values )\n",
    "WGA151CI_SampleIDs = SampleIDs_151CI_SOI\n",
    "\n",
    "ID_To_PrimLineage_Dict = dict(WGA151CI_AsmSummary_DF[['SampleID', 'PrimaryLineage']].values)\n",
    "ID_To_SubLineage_Dict = dict( WGA151CI_AsmSummary_DF[[\"SampleID\", \"Lineage\"]].values)\n",
    "ID_To_Dataset_Dict = dict(WGA151CI_AsmSummary_DF[['SampleID', 'Dataset_Tag']].values)\n",
    "WGA151CI_AsmSummary_DF.shape"
   ]
  },
  {
   "cell_type": "code",
   "execution_count": null,
   "id": "0848ae63-a896-45f4-8d8c-921ea68f59ef",
   "metadata": {},
   "outputs": [],
   "source": []
  },
  {
   "cell_type": "code",
   "execution_count": null,
   "id": "92b4ca80-4d64-4c3f-a736-c1a1b31a868a",
   "metadata": {},
   "outputs": [],
   "source": []
  },
  {
   "cell_type": "markdown",
   "id": "87f4dce2-0fef-42c5-85af-c5da8fb38944",
   "metadata": {},
   "source": [
    "# Define output dir of the Mtb-WGA-SMK processing pipeline"
   ]
  },
  {
   "cell_type": "code",
   "execution_count": 11,
   "id": "558abbeb-370a-4f9d-ac96-492623a81874",
   "metadata": {},
   "outputs": [],
   "source": [
    "WGA_SMK_Outputs_Dir = \"/n/data1/hms/dbmi/farhat/mm774/Projects/Mtb-WGA-SMK-Output\"\n",
    "\n",
    "WGA151CI_SMK_OutputDir = WGA_SMK_Outputs_Dir + \"/231121_MtbSetV3_151CI\"\n",
    "MtbWGA_SMK_Pipeline_OutputDir = WGA151CI_SMK_OutputDir"
   ]
  },
  {
   "cell_type": "markdown",
   "id": "90e9df51-3130-4c76-a4f0-114633b1dc2d",
   "metadata": {},
   "source": [
    "### Define PATHS relevant to Minigraph analysis"
   ]
  },
  {
   "cell_type": "code",
   "execution_count": 12,
   "id": "c44f1fdb-a4ff-488f-b803-15706fb99c56",
   "metadata": {},
   "outputs": [],
   "source": [
    "target_OutputDir = MtbWGA_SMK_Pipeline_OutputDir\n",
    "Minigraph_151CI_OutDir = f\"{target_OutputDir}/Minigraph\"\n",
    "\n",
    "MG_WGA151CI_GFA = f\"{Minigraph_151CI_OutDir}/Minigraph_H37rv_Vs_151CI.V1.gfa\"\n",
    "MG_WGA151CI_Bubble_SV_BED = f\"{Minigraph_151CI_OutDir}/Minigraph_H37rv_Vs_151CI.V1.Bubble.SV.bed\"\n",
    "MG_WGA151CI_Stable_FA = f\"{Minigraph_151CI_OutDir}/Minigraph_H37rv_Vs_151CI.V1.Stable.fa\"\n",
    "\n",
    "MG_WGA151CI_MergedSVInfo_TSV = f\"{Minigraph_151CI_OutDir}/Minigraph_H37rv_Vs_151CI.MergedSV.Info.tsv\"\n",
    "MG_WGA151CI_MergedSVInfo_SVVCF = f\"{Minigraph_151CI_OutDir}/Minigraph_H37rv_Vs_151CI.MergedSV.Info.svvcf\"\n"
   ]
  },
  {
   "cell_type": "code",
   "execution_count": 13,
   "id": "12630f91-7ac3-40f3-bb3b-8bd3df2a5786",
   "metadata": {},
   "outputs": [
    {
     "data": {
      "text/plain": [
       "'/n/data1/hms/dbmi/farhat/mm774/Projects/Mtb-WGA-SMK-Output/231121_MtbSetV3_151CI/Minigraph'"
      ]
     },
     "execution_count": 13,
     "metadata": {},
     "output_type": "execute_result"
    }
   ],
   "source": [
    "Minigraph_151CI_OutDir"
   ]
  },
  {
   "cell_type": "markdown",
   "id": "ea34a4cb-6004-402c-8675-0095d2415c62",
   "metadata": {},
   "source": [
    "#### use `gfatools` to print general stats of the SV graph (rGFA format)"
   ]
  },
  {
   "cell_type": "code",
   "execution_count": 14,
   "id": "3fcbf2f8-0a92-486c-8b0b-d393517c6d71",
   "metadata": {},
   "outputs": [
    {
     "name": "stdout",
     "output_type": "stream",
     "text": [
      "Number of segments: 3138\n",
      "Number of links: 4705\n",
      "Number of arcs: 9410\n",
      "Max rank: 129\n",
      "Total segment length: 5196363\n",
      "Average segment length: 1655.947\n",
      "Sum of rank-0 segment lengths: 4411532\n",
      "Max degree: 8\n",
      "Average degree: 1.499\n",
      "[M::main] Version: 0.5-r292-dirty\n",
      "[M::main] CMD: gfatools stat /n/data1/hms/dbmi/farhat/mm774/Projects/Mtb-WGA-SMK-Output/231121_MtbSetV3_151CI/Minigraph/Minigraph_H37rv_Vs_151CI.V1.gfa\n",
      "[M::main] Real time: 0.036 sec; CPU: 0.037 sec\n"
     ]
    }
   ],
   "source": [
    "!gfatools stat $MG_WGA151CI_GFA"
   ]
  },
  {
   "cell_type": "code",
   "execution_count": null,
   "id": "49ecf3ab-4489-490a-80bb-38c2ab39f0e5",
   "metadata": {},
   "outputs": [],
   "source": []
  },
  {
   "cell_type": "markdown",
   "id": "300c16e8-d83c-48a5-a26a-17e32de1cdd5",
   "metadata": {},
   "source": [
    "### Define paths to processed analysis of SV Pan-genome graph (minigraph)"
   ]
  },
  {
   "cell_type": "code",
   "execution_count": 15,
   "id": "65c4d218-cdd6-4c71-a5b0-0c28e5d10849",
   "metadata": {},
   "outputs": [],
   "source": [
    "PangenomeAnalysis_Dir = \"../../Data/MtbPangenomeAnalysis_SetV5\"\n",
    "\n",
    "MG_Node_KmerComp_TSV_GZ = f\"{PangenomeAnalysis_Dir}/MtbSVPG.Minigraph.NodeKmerComp.Summary.V1.tsv.gz\" \n",
    "\n",
    "MG_AvA_Node_KmerAnalysis_TSV_GZ = f\"{PangenomeAnalysis_Dir}/MtbSVPG.Minigraph.NodeKmerComp.AllVsAll.V1.tsv.gz\"     \n",
    "\n",
    "MG_BubbleSumm_TSV_GZ = f\"{PangenomeAnalysis_Dir}/MtbSVPG.Minigraph.BubbleSummary.BED.tsv.gz\"     \n",
    "\n",
    "MG_SVVCF_TSV_GZ = f\"{PangenomeAnalysis_Dir}/MtbSVPG.Minigraph.BubbleAlleleInfo.SVVCF.tsv.gz\" \n",
    "\n",
    "MG_SVInfo_TSV_GZ = f\"{PangenomeAnalysis_Dir}/MtbSVPG.Minigraph.BubbleAlleleInfo.SVInfo.tsv.gz\" \n"
   ]
  },
  {
   "cell_type": "code",
   "execution_count": null,
   "id": "f0c94d56-6b33-4f97-9470-de2d0cb66ad4",
   "metadata": {},
   "outputs": [],
   "source": []
  },
  {
   "cell_type": "markdown",
   "id": "c180561b-65ec-4c92-a34c-3e0bc56495cb",
   "metadata": {},
   "source": [
    "### Parse in `AvA_Nodes_DF`"
   ]
  },
  {
   "cell_type": "code",
   "execution_count": 16,
   "id": "60750f3c-5383-404c-b1f6-b66bdb02a79e",
   "metadata": {},
   "outputs": [
    {
     "data": {
      "text/plain": [
       "(123104, 6)"
      ]
     },
     "execution_count": 16,
     "metadata": {},
     "output_type": "execute_result"
    }
   ],
   "source": [
    "AvA_Nodes_DF = pd.read_csv(MG_AvA_Node_KmerAnalysis_TSV_GZ, sep = \"\\t\" )\n",
    "AvA_Nodes_DF.shape"
   ]
  },
  {
   "cell_type": "code",
   "execution_count": 17,
   "id": "ad3ef81e-8f66-4700-aa27-c6086e9122ca",
   "metadata": {},
   "outputs": [
    {
     "data": {
      "text/html": [
       "<div>\n",
       "<style scoped>\n",
       "    .dataframe tbody tr th:only-of-type {\n",
       "        vertical-align: middle;\n",
       "    }\n",
       "\n",
       "    .dataframe tbody tr th {\n",
       "        vertical-align: top;\n",
       "    }\n",
       "\n",
       "    .dataframe thead th {\n",
       "        text-align: right;\n",
       "    }\n",
       "</style>\n",
       "<table border=\"1\" class=\"dataframe\">\n",
       "  <thead>\n",
       "    <tr style=\"text-align: right;\">\n",
       "      <th></th>\n",
       "      <th>RecordID_1</th>\n",
       "      <th>RecordID_2</th>\n",
       "      <th>Record1_Len</th>\n",
       "      <th>Record2_Len</th>\n",
       "      <th>JaccardSim</th>\n",
       "      <th>JaccardContain</th>\n",
       "    </tr>\n",
       "  </thead>\n",
       "  <tbody>\n",
       "    <tr>\n",
       "      <th>0</th>\n",
       "      <td>s3</td>\n",
       "      <td>s2959</td>\n",
       "      <td>56</td>\n",
       "      <td>61</td>\n",
       "      <td>0.781250</td>\n",
       "      <td>0.961538</td>\n",
       "    </tr>\n",
       "    <tr>\n",
       "      <th>1</th>\n",
       "      <td>s7</td>\n",
       "      <td>s2247</td>\n",
       "      <td>1876</td>\n",
       "      <td>42</td>\n",
       "      <td>0.006501</td>\n",
       "      <td>0.006501</td>\n",
       "    </tr>\n",
       "    <tr>\n",
       "      <th>2</th>\n",
       "      <td>s8</td>\n",
       "      <td>s2823</td>\n",
       "      <td>542</td>\n",
       "      <td>87</td>\n",
       "      <td>0.096339</td>\n",
       "      <td>0.097656</td>\n",
       "    </tr>\n",
       "    <tr>\n",
       "      <th>3</th>\n",
       "      <td>s13</td>\n",
       "      <td>s2037</td>\n",
       "      <td>24063</td>\n",
       "      <td>49</td>\n",
       "      <td>0.000208</td>\n",
       "      <td>0.000208</td>\n",
       "    </tr>\n",
       "    <tr>\n",
       "      <th>4</th>\n",
       "      <td>s13</td>\n",
       "      <td>s2039</td>\n",
       "      <td>24063</td>\n",
       "      <td>114</td>\n",
       "      <td>0.000208</td>\n",
       "      <td>0.000208</td>\n",
       "    </tr>\n",
       "  </tbody>\n",
       "</table>\n",
       "</div>"
      ],
      "text/plain": [
       "  RecordID_1 RecordID_2  Record1_Len  Record2_Len  JaccardSim  JaccardContain\n",
       "0         s3      s2959           56           61    0.781250        0.961538\n",
       "1         s7      s2247         1876           42    0.006501        0.006501\n",
       "2         s8      s2823          542           87    0.096339        0.097656\n",
       "3        s13      s2037        24063           49    0.000208        0.000208\n",
       "4        s13      s2039        24063          114    0.000208        0.000208"
      ]
     },
     "execution_count": 17,
     "metadata": {},
     "output_type": "execute_result"
    }
   ],
   "source": [
    "AvA_Nodes_DF.head()"
   ]
  },
  {
   "cell_type": "markdown",
   "id": "13991f89-59b7-4be4-8e9e-b0a89aa70020",
   "metadata": {},
   "source": [
    "### Parse in `MG_Nodes_KmerVsRefSets_DF`"
   ]
  },
  {
   "cell_type": "code",
   "execution_count": 18,
   "id": "9fe7870d-6073-4233-bbc7-eafaf3be58c1",
   "metadata": {},
   "outputs": [
    {
     "data": {
      "text/plain": [
       "(3138, 18)"
      ]
     },
     "execution_count": 18,
     "metadata": {},
     "output_type": "execute_result"
    }
   ],
   "source": [
    "MG_Nodes_KmerComp_DF = pd.read_csv(MG_Node_KmerComp_TSV_GZ, sep = \"\\t\" )\n",
    "MG_Nodes_KmerComp_DF.shape"
   ]
  },
  {
   "cell_type": "code",
   "execution_count": 19,
   "id": "6b083f20-7bbe-4548-8605-2a15ee570315",
   "metadata": {},
   "outputs": [
    {
     "data": {
      "text/html": [
       "<div>\n",
       "<style scoped>\n",
       "    .dataframe tbody tr th:only-of-type {\n",
       "        vertical-align: middle;\n",
       "    }\n",
       "\n",
       "    .dataframe tbody tr th {\n",
       "        vertical-align: top;\n",
       "    }\n",
       "\n",
       "    .dataframe thead th {\n",
       "        text-align: right;\n",
       "    }\n",
       "</style>\n",
       "<table border=\"1\" class=\"dataframe\">\n",
       "  <thead>\n",
       "    <tr style=\"text-align: right;\">\n",
       "      <th></th>\n",
       "      <th>NodeID</th>\n",
       "      <th>IsSVNode</th>\n",
       "      <th>SeqLength</th>\n",
       "      <th>Jaccard_Cont_WiRv</th>\n",
       "      <th>Jaccard_Cont_WiIS6110</th>\n",
       "      <th>Jaccard_Cont_WiRv_InsSeqAndPhages</th>\n",
       "      <th>Jaccard_Cont_WiRv_PEPPEs</th>\n",
       "      <th>Jaccard_Cont_WiRv_InfoPathways</th>\n",
       "      <th>Jaccard_Cont_WiRv_ConservedHypo</th>\n",
       "      <th>Jaccard_Cont_WiRv_CellWallCellProc</th>\n",
       "      <th>Jaccard_Cont_WiRv_StableRNAs</th>\n",
       "      <th>Jaccard_Cont_WiRv_InterMetabolism</th>\n",
       "      <th>Jaccard_Cont_WiRv_RegProteins</th>\n",
       "      <th>Jaccard_Cont_WiRv_VirulenceDetoxAdaptation</th>\n",
       "      <th>Jaccard_Cont_WiRv_LipidMetabolism</th>\n",
       "      <th>Jaccard_Cont_WiRv_Unknown</th>\n",
       "      <th>BubbleID</th>\n",
       "      <th>MaxJC_ToOtherNode</th>\n",
       "    </tr>\n",
       "  </thead>\n",
       "  <tbody>\n",
       "    <tr>\n",
       "      <th>0</th>\n",
       "      <td>s1</td>\n",
       "      <td>False</td>\n",
       "      <td>1533</td>\n",
       "      <td>1.0</td>\n",
       "      <td>0.0</td>\n",
       "      <td>0.0</td>\n",
       "      <td>0.0</td>\n",
       "      <td>0.994012</td>\n",
       "      <td>0.000000</td>\n",
       "      <td>0.000000</td>\n",
       "      <td>0.000000</td>\n",
       "      <td>0.0</td>\n",
       "      <td>0.0</td>\n",
       "      <td>0.0</td>\n",
       "      <td>0.0</td>\n",
       "      <td>0.0</td>\n",
       "      <td>None</td>\n",
       "      <td>0.000000</td>\n",
       "    </tr>\n",
       "    <tr>\n",
       "      <th>1</th>\n",
       "      <td>s2</td>\n",
       "      <td>False</td>\n",
       "      <td>58</td>\n",
       "      <td>1.0</td>\n",
       "      <td>0.0</td>\n",
       "      <td>0.0</td>\n",
       "      <td>0.0</td>\n",
       "      <td>0.000000</td>\n",
       "      <td>0.000000</td>\n",
       "      <td>0.000000</td>\n",
       "      <td>0.000000</td>\n",
       "      <td>0.0</td>\n",
       "      <td>0.0</td>\n",
       "      <td>0.0</td>\n",
       "      <td>0.0</td>\n",
       "      <td>0.0</td>\n",
       "      <td>None</td>\n",
       "      <td>0.000000</td>\n",
       "    </tr>\n",
       "    <tr>\n",
       "      <th>2</th>\n",
       "      <td>s3</td>\n",
       "      <td>True</td>\n",
       "      <td>56</td>\n",
       "      <td>1.0</td>\n",
       "      <td>0.0</td>\n",
       "      <td>0.0</td>\n",
       "      <td>0.0</td>\n",
       "      <td>0.000000</td>\n",
       "      <td>0.000000</td>\n",
       "      <td>0.000000</td>\n",
       "      <td>0.000000</td>\n",
       "      <td>0.0</td>\n",
       "      <td>0.0</td>\n",
       "      <td>0.0</td>\n",
       "      <td>0.0</td>\n",
       "      <td>0.0</td>\n",
       "      <td>BubbleRegion_2</td>\n",
       "      <td>0.961538</td>\n",
       "    </tr>\n",
       "    <tr>\n",
       "      <th>3</th>\n",
       "      <td>s4</td>\n",
       "      <td>True</td>\n",
       "      <td>5</td>\n",
       "      <td>0.0</td>\n",
       "      <td>0.0</td>\n",
       "      <td>0.0</td>\n",
       "      <td>0.0</td>\n",
       "      <td>0.000000</td>\n",
       "      <td>0.000000</td>\n",
       "      <td>0.000000</td>\n",
       "      <td>0.000000</td>\n",
       "      <td>0.0</td>\n",
       "      <td>0.0</td>\n",
       "      <td>0.0</td>\n",
       "      <td>0.0</td>\n",
       "      <td>0.0</td>\n",
       "      <td>BubbleRegion_2</td>\n",
       "      <td>0.000000</td>\n",
       "    </tr>\n",
       "    <tr>\n",
       "      <th>4</th>\n",
       "      <td>s5</td>\n",
       "      <td>False</td>\n",
       "      <td>11970</td>\n",
       "      <td>1.0</td>\n",
       "      <td>0.0</td>\n",
       "      <td>0.0</td>\n",
       "      <td>0.0</td>\n",
       "      <td>0.612312</td>\n",
       "      <td>0.044724</td>\n",
       "      <td>0.141457</td>\n",
       "      <td>0.007286</td>\n",
       "      <td>0.0</td>\n",
       "      <td>0.0</td>\n",
       "      <td>0.0</td>\n",
       "      <td>0.0</td>\n",
       "      <td>0.0</td>\n",
       "      <td>None</td>\n",
       "      <td>0.000000</td>\n",
       "    </tr>\n",
       "  </tbody>\n",
       "</table>\n",
       "</div>"
      ],
      "text/plain": [
       "  NodeID  IsSVNode  SeqLength  Jaccard_Cont_WiRv  Jaccard_Cont_WiIS6110  Jaccard_Cont_WiRv_InsSeqAndPhages  Jaccard_Cont_WiRv_PEPPEs  Jaccard_Cont_WiRv_InfoPathways  Jaccard_Cont_WiRv_ConservedHypo  Jaccard_Cont_WiRv_CellWallCellProc  Jaccard_Cont_WiRv_StableRNAs  Jaccard_Cont_WiRv_InterMetabolism  Jaccard_Cont_WiRv_RegProteins  Jaccard_Cont_WiRv_VirulenceDetoxAdaptation  Jaccard_Cont_WiRv_LipidMetabolism  Jaccard_Cont_WiRv_Unknown        BubbleID  MaxJC_ToOtherNode\n",
       "0     s1     False       1533                1.0                    0.0                                0.0                       0.0                        0.994012                         0.000000                            0.000000                      0.000000                                0.0                            0.0                                         0.0                                0.0                        0.0            None           0.000000\n",
       "1     s2     False         58                1.0                    0.0                                0.0                       0.0                        0.000000                         0.000000                            0.000000                      0.000000                                0.0                            0.0                                         0.0                                0.0                        0.0            None           0.000000\n",
       "2     s3      True         56                1.0                    0.0                                0.0                       0.0                        0.000000                         0.000000                            0.000000                      0.000000                                0.0                            0.0                                         0.0                                0.0                        0.0  BubbleRegion_2           0.961538\n",
       "3     s4      True          5                0.0                    0.0                                0.0                       0.0                        0.000000                         0.000000                            0.000000                      0.000000                                0.0                            0.0                                         0.0                                0.0                        0.0  BubbleRegion_2           0.000000\n",
       "4     s5     False      11970                1.0                    0.0                                0.0                       0.0                        0.612312                         0.044724                            0.141457                      0.007286                                0.0                            0.0                                         0.0                                0.0                        0.0            None           0.000000"
      ]
     },
     "execution_count": 19,
     "metadata": {},
     "output_type": "execute_result"
    }
   ],
   "source": [
    "MG_Nodes_KmerComp_DF.head()"
   ]
  },
  {
   "cell_type": "markdown",
   "id": "9b44668d-b1f4-4ee7-bfd1-9c8c3ae5bea8",
   "metadata": {},
   "source": [
    "### Parse in `MG_SV_BED_DF`"
   ]
  },
  {
   "cell_type": "code",
   "execution_count": 20,
   "id": "7434bf71-fe53-4cb9-87e3-a94c313d3bca",
   "metadata": {},
   "outputs": [
    {
     "data": {
      "text/plain": [
       "(535, 14)"
      ]
     },
     "execution_count": 20,
     "metadata": {},
     "output_type": "execute_result"
    }
   ],
   "source": [
    "MG_SV_BED_DF = pd.read_csv(MG_BubbleSumm_TSV_GZ, sep = \"\\t\" )\n",
    "\n",
    "# Convert the string representation of the list of nodes to python list of nodes\n",
    "MG_SV_BED_DF[\"NodePath_Trimmed\"] = MG_SV_BED_DF[\"NodePath_Trimmed\"].apply(ast.literal_eval)\n",
    "\n",
    "MG_SV_BED_DF.shape"
   ]
  },
  {
   "cell_type": "code",
   "execution_count": 21,
   "id": "28a47f0f-4976-426f-8f1c-c3cd3f6027e8",
   "metadata": {},
   "outputs": [
    {
     "data": {
      "text/html": [
       "<div>\n",
       "<style scoped>\n",
       "    .dataframe tbody tr th:only-of-type {\n",
       "        vertical-align: middle;\n",
       "    }\n",
       "\n",
       "    .dataframe tbody tr th {\n",
       "        vertical-align: top;\n",
       "    }\n",
       "\n",
       "    .dataframe thead th {\n",
       "        text-align: right;\n",
       "    }\n",
       "</style>\n",
       "<table border=\"1\" class=\"dataframe\">\n",
       "  <thead>\n",
       "    <tr style=\"text-align: right;\">\n",
       "      <th></th>\n",
       "      <th>Chr</th>\n",
       "      <th>Start</th>\n",
       "      <th>End</th>\n",
       "      <th>Len_Ref</th>\n",
       "      <th>Len_Alt</th>\n",
       "      <th>NodePath</th>\n",
       "      <th>NodePath_Trimmed</th>\n",
       "      <th>Start_Node</th>\n",
       "      <th>End_Node</th>\n",
       "      <th>BubbleNum</th>\n",
       "      <th>BubbleID</th>\n",
       "      <th>NumSVNodes</th>\n",
       "      <th>Overlap_Genes</th>\n",
       "      <th>Overlap_Gene_RvIDs</th>\n",
       "    </tr>\n",
       "  </thead>\n",
       "  <tbody>\n",
       "    <tr>\n",
       "      <th>0</th>\n",
       "      <td>NC_000962.3</td>\n",
       "      <td>1533</td>\n",
       "      <td>1533</td>\n",
       "      <td>0</td>\n",
       "      <td>0</td>\n",
       "      <td>s1,s2</td>\n",
       "      <td>[]</td>\n",
       "      <td>s1</td>\n",
       "      <td>s2</td>\n",
       "      <td>1</td>\n",
       "      <td>BubbleRegion_1</td>\n",
       "      <td>0</td>\n",
       "      <td>NaN</td>\n",
       "      <td>NaN</td>\n",
       "    </tr>\n",
       "    <tr>\n",
       "      <th>1</th>\n",
       "      <td>NC_000962.3</td>\n",
       "      <td>1591</td>\n",
       "      <td>1652</td>\n",
       "      <td>61</td>\n",
       "      <td>1480</td>\n",
       "      <td>s2,s2034,s2959,s2035,s3,s2036,s2036,s3,s2035,s...</td>\n",
       "      <td>[s2034, s2959, s2035, s3, s2036, s2036, s3, s2...</td>\n",
       "      <td>s2</td>\n",
       "      <td>s5</td>\n",
       "      <td>2</td>\n",
       "      <td>BubbleRegion_2</td>\n",
       "      <td>11</td>\n",
       "      <td>NaN</td>\n",
       "      <td>NaN</td>\n",
       "    </tr>\n",
       "    <tr>\n",
       "      <th>2</th>\n",
       "      <td>NC_000962.3</td>\n",
       "      <td>13622</td>\n",
       "      <td>13622</td>\n",
       "      <td>0</td>\n",
       "      <td>1358</td>\n",
       "      <td>s5,s2744,s6</td>\n",
       "      <td>[s2744]</td>\n",
       "      <td>s5</td>\n",
       "      <td>s6</td>\n",
       "      <td>3</td>\n",
       "      <td>BubbleRegion_3</td>\n",
       "      <td>1</td>\n",
       "      <td>NaN</td>\n",
       "      <td>NaN</td>\n",
       "    </tr>\n",
       "  </tbody>\n",
       "</table>\n",
       "</div>"
      ],
      "text/plain": [
       "           Chr  Start    End  Len_Ref  Len_Alt                                           NodePath                                   NodePath_Trimmed Start_Node End_Node  BubbleNum        BubbleID  NumSVNodes Overlap_Genes Overlap_Gene_RvIDs\n",
       "0  NC_000962.3   1533   1533        0        0                                              s1,s2                                                 []         s1       s2          1  BubbleRegion_1           0           NaN                NaN\n",
       "1  NC_000962.3   1591   1652       61     1480  s2,s2034,s2959,s2035,s3,s2036,s2036,s3,s2035,s...  [s2034, s2959, s2035, s3, s2036, s2036, s3, s2...         s2       s5          2  BubbleRegion_2          11           NaN                NaN\n",
       "2  NC_000962.3  13622  13622        0     1358                                        s5,s2744,s6                                            [s2744]         s5       s6          3  BubbleRegion_3           1           NaN                NaN"
      ]
     },
     "execution_count": 21,
     "metadata": {},
     "output_type": "execute_result"
    }
   ],
   "source": [
    "MG_SV_BED_DF.head(3)"
   ]
  },
  {
   "cell_type": "markdown",
   "id": "2f953635-3297-49c5-96e1-d74e5d8e735e",
   "metadata": {},
   "source": [
    "### Parse in `MG_SVVCF_DF`"
   ]
  },
  {
   "cell_type": "code",
   "execution_count": 22,
   "id": "e8ecb3f1-1765-4da4-8294-77457df88249",
   "metadata": {},
   "outputs": [
    {
     "data": {
      "text/plain": [
       "(535, 169)"
      ]
     },
     "execution_count": 22,
     "metadata": {},
     "output_type": "execute_result"
    }
   ],
   "source": [
    "MG_SVVCF_DF = pd.read_csv(MG_SVVCF_TSV_GZ, sep = \"\\t\" )\n",
    "MG_SVVCF_DF.shape"
   ]
  },
  {
   "cell_type": "markdown",
   "id": "25b3b909-9121-48ec-b648-cd8e25762085",
   "metadata": {},
   "source": [
    "### Parse in `MG_SVInfo_DF`"
   ]
  },
  {
   "cell_type": "code",
   "execution_count": 23,
   "id": "3d541de4-390b-457c-832e-9ffe1a8f42ab",
   "metadata": {},
   "outputs": [
    {
     "data": {
      "text/plain": [
       "(535, 160)"
      ]
     },
     "execution_count": 23,
     "metadata": {},
     "output_type": "execute_result"
    }
   ],
   "source": [
    "MG_SVInfo_DF = pd.read_csv(MG_SVInfo_TSV_GZ, sep = \"\\t\" )\n",
    "MG_SVInfo_DF.shape"
   ]
  },
  {
   "cell_type": "code",
   "execution_count": 24,
   "id": "d693716d-4deb-429d-b4b7-6b39990fbe31",
   "metadata": {},
   "outputs": [
    {
     "data": {
      "text/plain": [
       "array([list([]),\n",
       "       list(['s2034', 's2959', 's2035', 's3', 's2036', 's2036', 's3', 's2035', 's2959', 's2034', 's4'])],\n",
       "      dtype=object)"
      ]
     },
     "execution_count": 24,
     "metadata": {},
     "output_type": "execute_result"
    }
   ],
   "source": [
    "MG_SV_BED_DF[\"NodePath_Trimmed\"].values[:2]"
   ]
  },
  {
   "cell_type": "code",
   "execution_count": 25,
   "id": "b5ce4e55-74d1-4196-b935-19e53b12ddde",
   "metadata": {},
   "outputs": [
    {
     "data": {
      "text/html": [
       "<div>\n",
       "<style scoped>\n",
       "    .dataframe tbody tr th:only-of-type {\n",
       "        vertical-align: middle;\n",
       "    }\n",
       "\n",
       "    .dataframe tbody tr th {\n",
       "        vertical-align: top;\n",
       "    }\n",
       "\n",
       "    .dataframe thead th {\n",
       "        text-align: right;\n",
       "    }\n",
       "</style>\n",
       "<table border=\"1\" class=\"dataframe\">\n",
       "  <thead>\n",
       "    <tr style=\"text-align: right;\">\n",
       "      <th></th>\n",
       "      <th>Chr</th>\n",
       "      <th>Start</th>\n",
       "      <th>End</th>\n",
       "      <th>Len_Ref</th>\n",
       "      <th>Len_Alt</th>\n",
       "      <th>NodePath</th>\n",
       "      <th>NodePath_Trimmed</th>\n",
       "      <th>Start_Node</th>\n",
       "      <th>End_Node</th>\n",
       "      <th>BubbleNum</th>\n",
       "      <th>BubbleID</th>\n",
       "      <th>NumSVNodes</th>\n",
       "      <th>Overlap_Genes</th>\n",
       "      <th>Overlap_Gene_RvIDs</th>\n",
       "    </tr>\n",
       "  </thead>\n",
       "  <tbody>\n",
       "    <tr>\n",
       "      <th>0</th>\n",
       "      <td>NC_000962.3</td>\n",
       "      <td>1533</td>\n",
       "      <td>1533</td>\n",
       "      <td>0</td>\n",
       "      <td>0</td>\n",
       "      <td>s1,s2</td>\n",
       "      <td>[]</td>\n",
       "      <td>s1</td>\n",
       "      <td>s2</td>\n",
       "      <td>1</td>\n",
       "      <td>BubbleRegion_1</td>\n",
       "      <td>0</td>\n",
       "      <td>NaN</td>\n",
       "      <td>NaN</td>\n",
       "    </tr>\n",
       "    <tr>\n",
       "      <th>1</th>\n",
       "      <td>NC_000962.3</td>\n",
       "      <td>1591</td>\n",
       "      <td>1652</td>\n",
       "      <td>61</td>\n",
       "      <td>1480</td>\n",
       "      <td>s2,s2034,s2959,s2035,s3,s2036,s2036,s3,s2035,s...</td>\n",
       "      <td>[s2034, s2959, s2035, s3, s2036, s2036, s3, s2...</td>\n",
       "      <td>s2</td>\n",
       "      <td>s5</td>\n",
       "      <td>2</td>\n",
       "      <td>BubbleRegion_2</td>\n",
       "      <td>11</td>\n",
       "      <td>NaN</td>\n",
       "      <td>NaN</td>\n",
       "    </tr>\n",
       "    <tr>\n",
       "      <th>2</th>\n",
       "      <td>NC_000962.3</td>\n",
       "      <td>13622</td>\n",
       "      <td>13622</td>\n",
       "      <td>0</td>\n",
       "      <td>1358</td>\n",
       "      <td>s5,s2744,s6</td>\n",
       "      <td>[s2744]</td>\n",
       "      <td>s5</td>\n",
       "      <td>s6</td>\n",
       "      <td>3</td>\n",
       "      <td>BubbleRegion_3</td>\n",
       "      <td>1</td>\n",
       "      <td>NaN</td>\n",
       "      <td>NaN</td>\n",
       "    </tr>\n",
       "    <tr>\n",
       "      <th>3</th>\n",
       "      <td>NC_000962.3</td>\n",
       "      <td>26469</td>\n",
       "      <td>28345</td>\n",
       "      <td>42</td>\n",
       "      <td>1876</td>\n",
       "      <td>s6,s2247,s7,s8</td>\n",
       "      <td>[s2247, s7]</td>\n",
       "      <td>s6</td>\n",
       "      <td>s8</td>\n",
       "      <td>4</td>\n",
       "      <td>BubbleRegion_4</td>\n",
       "      <td>2</td>\n",
       "      <td>Rv0021c,whiB5,Rv0023</td>\n",
       "      <td>Rv0021c,Rv0022c,Rv0023</td>\n",
       "    </tr>\n",
       "  </tbody>\n",
       "</table>\n",
       "</div>"
      ],
      "text/plain": [
       "           Chr  Start    End  Len_Ref  Len_Alt                                           NodePath                                   NodePath_Trimmed Start_Node End_Node  BubbleNum        BubbleID  NumSVNodes         Overlap_Genes      Overlap_Gene_RvIDs\n",
       "0  NC_000962.3   1533   1533        0        0                                              s1,s2                                                 []         s1       s2          1  BubbleRegion_1           0                   NaN                     NaN\n",
       "1  NC_000962.3   1591   1652       61     1480  s2,s2034,s2959,s2035,s3,s2036,s2036,s3,s2035,s...  [s2034, s2959, s2035, s3, s2036, s2036, s3, s2...         s2       s5          2  BubbleRegion_2          11                   NaN                     NaN\n",
       "2  NC_000962.3  13622  13622        0     1358                                        s5,s2744,s6                                            [s2744]         s5       s6          3  BubbleRegion_3           1                   NaN                     NaN\n",
       "3  NC_000962.3  26469  28345       42     1876                                     s6,s2247,s7,s8                                        [s2247, s7]         s6       s8          4  BubbleRegion_4           2  Rv0021c,whiB5,Rv0023  Rv0021c,Rv0022c,Rv0023"
      ]
     },
     "execution_count": 25,
     "metadata": {},
     "output_type": "execute_result"
    }
   ],
   "source": [
    "MG_SV_BED_DF.head(4)"
   ]
  },
  {
   "cell_type": "markdown",
   "id": "430e35f3-8b1f-4622-8075-fb946de9ee3c",
   "metadata": {},
   "source": [
    "### Create Dict of SV Node ID to BubbleID mappings"
   ]
  },
  {
   "cell_type": "code",
   "execution_count": 26,
   "id": "434ab664-4de9-430d-a121-6d662fd5eccc",
   "metadata": {},
   "outputs": [],
   "source": [
    "NodeID_ToBubbleID_Dict = {}\n",
    "\n",
    "for i, row in MG_SV_BED_DF.iterrows():\n",
    "    \n",
    "    i_BubbleID =  row[\"BubbleID\"]\n",
    "    i_NodePath_Trimmed = row[\"NodePath_Trimmed\"]\n",
    "\n",
    "    # Map all SV nodes to their Bubble Region ID\n",
    "    for NodeID in i_NodePath_Trimmed:\n",
    "        NodeID_ToBubbleID_Dict[NodeID] = i_BubbleID\n",
    "        "
   ]
  },
  {
   "cell_type": "code",
   "execution_count": 27,
   "id": "c1f9dcdc-2d1d-49d6-9f6f-0322464dae2a",
   "metadata": {},
   "outputs": [
    {
     "data": {
      "text/plain": [
       "[('s2034', 'BubbleRegion_2'),\n",
       " ('s2959', 'BubbleRegion_2'),\n",
       " ('s2035', 'BubbleRegion_2'),\n",
       " ('s3', 'BubbleRegion_2'),\n",
       " ('s2036', 'BubbleRegion_2'),\n",
       " ('s4', 'BubbleRegion_2'),\n",
       " ('s2744', 'BubbleRegion_3'),\n",
       " ('s2247', 'BubbleRegion_4'),\n",
       " ('s7', 'BubbleRegion_4'),\n",
       " ('s2823', 'BubbleRegion_5')]"
      ]
     },
     "execution_count": 27,
     "metadata": {},
     "output_type": "execute_result"
    }
   ],
   "source": [
    "list(NodeID_ToBubbleID_Dict.items())[:10]"
   ]
  },
  {
   "cell_type": "code",
   "execution_count": null,
   "id": "3b711e7b-7a34-4fd5-bc2f-f4223b248878",
   "metadata": {},
   "outputs": [],
   "source": []
  },
  {
   "cell_type": "markdown",
   "id": "1f09eb11-16cc-4157-bdb0-56dce46f7642",
   "metadata": {},
   "source": [
    "## Create dictionary of BubbleID to overlapping H37Rv gene annotations"
   ]
  },
  {
   "cell_type": "code",
   "execution_count": 28,
   "id": "ad1a987a-a55c-49fc-835d-b1fa58cd0c46",
   "metadata": {},
   "outputs": [],
   "source": [
    "BubbleID_To_OvrLapGenes_Dict = MG_SV_BED_DF.set_index(\"BubbleID\")[\"Overlap_Genes\"].to_dict()"
   ]
  },
  {
   "cell_type": "markdown",
   "id": "5c54ede3-e875-4dc9-987f-f1ed6629dbb1",
   "metadata": {},
   "source": [
    "#### Peak at the genes overlapping the first 10 bubble regions"
   ]
  },
  {
   "cell_type": "code",
   "execution_count": 29,
   "id": "3590f1ac-1229-4fa1-a9b4-400a1134175f",
   "metadata": {},
   "outputs": [
    {
     "data": {
      "text/plain": [
       "[('BubbleRegion_1', nan),\n",
       " ('BubbleRegion_2', nan),\n",
       " ('BubbleRegion_3', nan),\n",
       " ('BubbleRegion_4', 'Rv0021c,whiB5,Rv0023'),\n",
       " ('BubbleRegion_5', 'Rv0024'),\n",
       " ('BubbleRegion_6', 'bioF2'),\n",
       " ('BubbleRegion_7', nan),\n",
       " ('BubbleRegion_8', nan),\n",
       " ('BubbleRegion_9', nan),\n",
       " ('BubbleRegion_10', 'Rv0063')]"
      ]
     },
     "execution_count": 29,
     "metadata": {},
     "output_type": "execute_result"
    }
   ],
   "source": [
    "list(BubbleID_To_OvrLapGenes_Dict.items())[:10]"
   ]
  },
  {
   "cell_type": "code",
   "execution_count": null,
   "id": "2ab48165-e835-4e41-8763-fee36f1a43ce",
   "metadata": {},
   "outputs": [],
   "source": []
  },
  {
   "cell_type": "code",
   "execution_count": null,
   "id": "4fe7e895-784c-44ce-84d8-1a8502409e93",
   "metadata": {},
   "outputs": [],
   "source": []
  },
  {
   "cell_type": "code",
   "execution_count": null,
   "id": "79009927-b998-4026-b551-d568d4173de6",
   "metadata": {},
   "outputs": [],
   "source": []
  },
  {
   "cell_type": "markdown",
   "id": "0f83a4d5-a681-4217-a991-ce1e5298b524",
   "metadata": {},
   "source": [
    "## Part 1: Look at high level stats of the SV Pan-genome graph of 151 Mtb genomes"
   ]
  },
  {
   "cell_type": "markdown",
   "id": "4472e1f3-a17a-4b09-aa94-228da3539043",
   "metadata": {},
   "source": [
    "### How many total nodes are there? "
   ]
  },
  {
   "cell_type": "code",
   "execution_count": 30,
   "id": "9b820528-4813-4027-bb48-491c4f37200a",
   "metadata": {},
   "outputs": [
    {
     "data": {
      "text/plain": [
       "(3138, 18)"
      ]
     },
     "execution_count": 30,
     "metadata": {},
     "output_type": "execute_result"
    }
   ],
   "source": [
    "MG_Nodes_KmerComp_DF.shape"
   ]
  },
  {
   "cell_type": "markdown",
   "id": "d5ca532e-d351-4f5c-ac7f-3be54e791969",
   "metadata": {},
   "source": [
    "### What is the cumlative lenth of the graph?"
   ]
  },
  {
   "cell_type": "code",
   "execution_count": 31,
   "id": "732c26cf-582c-4e38-9b25-5a52233c0e79",
   "metadata": {},
   "outputs": [
    {
     "data": {
      "text/plain": [
       "5196363"
      ]
     },
     "execution_count": 31,
     "metadata": {},
     "output_type": "execute_result"
    }
   ],
   "source": [
    "MG_Nodes_KmerComp_DF[\"SeqLength\"].sum()"
   ]
  },
  {
   "cell_type": "markdown",
   "id": "a90a6239-a193-4be3-b0d0-ee1ca52b364b",
   "metadata": {},
   "source": [
    "### How many total bubbles are there identified by Minigraph? (535)"
   ]
  },
  {
   "cell_type": "code",
   "execution_count": 32,
   "id": "cbd82817-797c-4498-bd87-88f2bb2ac95b",
   "metadata": {},
   "outputs": [
    {
     "data": {
      "text/plain": [
       "535"
      ]
     },
     "execution_count": 32,
     "metadata": {},
     "output_type": "execute_result"
    }
   ],
   "source": [
    "MG_SV_BED_DF.shape[0]"
   ]
  },
  {
   "cell_type": "markdown",
   "id": "a09f49a6-90d2-4bed-8974-535796376a61",
   "metadata": {},
   "source": [
    "## How many nodes have length less than 31 bp?\n",
    "#### Nodes w/ length < 31 bp will be excluded from out k-mer based analysis of node sequence content\n",
    "\n",
    "Take aways:\n",
    "- 627 TOTAL nodes have length < 31 bp\n",
    "- 577 SV Nodes have length < 31 bp\n",
    "- 50 Core Nodes have length < 31 bp\n"
   ]
  },
  {
   "cell_type": "code",
   "execution_count": 33,
   "id": "c98982cf-2853-438c-bea4-6fd91a40cccd",
   "metadata": {},
   "outputs": [
    {
     "data": {
      "text/plain": [
       "627"
      ]
     },
     "execution_count": 33,
     "metadata": {},
     "output_type": "execute_result"
    }
   ],
   "source": [
    "MG_Nodes_KmerComp_DF.query(\"SeqLength < 31\").shape[0]"
   ]
  },
  {
   "cell_type": "code",
   "execution_count": 34,
   "id": "b9af021f-e4e1-446a-8c64-5f971d1e89a9",
   "metadata": {},
   "outputs": [
    {
     "data": {
      "text/plain": [
       "50"
      ]
     },
     "execution_count": 34,
     "metadata": {},
     "output_type": "execute_result"
    }
   ],
   "source": [
    "MG_Nodes_KmerComp_DF.query(\"IsSVNode == False & SeqLength < 31\").shape[0]"
   ]
  },
  {
   "cell_type": "code",
   "execution_count": 35,
   "id": "f5218676-39cb-438d-a4de-4e45606d6cc9",
   "metadata": {},
   "outputs": [
    {
     "data": {
      "text/plain": [
       "577"
      ]
     },
     "execution_count": 35,
     "metadata": {},
     "output_type": "execute_result"
    }
   ],
   "source": [
    "MG_Nodes_KmerComp_DF.query(\"IsSVNode == True & SeqLength < 31\").shape[0]"
   ]
  },
  {
   "cell_type": "code",
   "execution_count": 36,
   "id": "5bfac973-c5a3-472f-ae23-b2412199eab7",
   "metadata": {},
   "outputs": [
    {
     "data": {
      "text/plain": [
       "count     3138.000000\n",
       "mean      1655.947419\n",
       "std       5107.483405\n",
       "min          1.000000\n",
       "25%         45.250000\n",
       "50%        133.000000\n",
       "75%       1305.250000\n",
       "max      73572.000000\n",
       "Name: SeqLength, dtype: float64"
      ]
     },
     "execution_count": 36,
     "metadata": {},
     "output_type": "execute_result"
    }
   ],
   "source": [
    "MG_Nodes_KmerComp_DF[\"SeqLength\"].describe()"
   ]
  },
  {
   "cell_type": "code",
   "execution_count": null,
   "id": "79fe124c-2759-49f7-80f3-bf38c2dd7859",
   "metadata": {},
   "outputs": [],
   "source": []
  },
  {
   "cell_type": "markdown",
   "id": "01914267-15fd-4f0d-8b19-0c11339e9eac",
   "metadata": {},
   "source": [
    "### Filter for CORE-Nodes w/ at least 31 bp of length (N = 2061)"
   ]
  },
  {
   "cell_type": "code",
   "execution_count": 37,
   "id": "a8fe9798-b784-41ae-acc7-39a197948fc8",
   "metadata": {},
   "outputs": [
    {
     "data": {
      "text/plain": [
       "(536, 18)"
      ]
     },
     "execution_count": 37,
     "metadata": {},
     "output_type": "execute_result"
    }
   ],
   "source": [
    "MG_CoreNodes_All_DF = MG_Nodes_KmerComp_DF.query(\"IsSVNode == False\")\n",
    "MG_CoreNodes_All_DF.shape  "
   ]
  },
  {
   "cell_type": "code",
   "execution_count": 38,
   "id": "3a4fbe8c-1edb-40c8-b3d6-f3fa67a4b700",
   "metadata": {},
   "outputs": [
    {
     "data": {
      "text/plain": [
       "(486, 18)"
      ]
     },
     "execution_count": 38,
     "metadata": {},
     "output_type": "execute_result"
    }
   ],
   "source": [
    "MG_CoreNodes_PASS_DF = MG_Nodes_KmerComp_DF.query(\"IsSVNode == False\").query(\"SeqLength >= 31\")     \n",
    "MG_CoreNodes_PASS_DF.shape"
   ]
  },
  {
   "cell_type": "code",
   "execution_count": 39,
   "id": "b059d199-d1a3-4c5e-8878-fae159988f41",
   "metadata": {},
   "outputs": [
    {
     "data": {
      "text/plain": [
       "(50, 18)"
      ]
     },
     "execution_count": 39,
     "metadata": {},
     "output_type": "execute_result"
    }
   ],
   "source": [
    "MG_CoreNodes_Sub31bp_DF = MG_Nodes_KmerComp_DF.query(\"IsSVNode == False\").query(\"SeqLength < 31\")     \n",
    "MG_CoreNodes_Sub31bp_DF.shape"
   ]
  },
  {
   "cell_type": "code",
   "execution_count": 40,
   "id": "d83b74cd-f5fe-4765-9dcb-aeffeeb1f67d",
   "metadata": {},
   "outputs": [
    {
     "data": {
      "text/plain": [
       "659"
      ]
     },
     "execution_count": 40,
     "metadata": {},
     "output_type": "execute_result"
    }
   ],
   "source": [
    "MG_CoreNodes_Sub31bp_DF[\"SeqLength\"].sum()"
   ]
  },
  {
   "cell_type": "code",
   "execution_count": null,
   "id": "ffc2ed24-3c6e-401a-9c11-ec30a902f6ce",
   "metadata": {},
   "outputs": [],
   "source": []
  },
  {
   "cell_type": "markdown",
   "id": "50b51865-103f-429c-90f1-aefb4c0aeddb",
   "metadata": {},
   "source": [
    "### SV Nodes basic breakdown\n",
    "\n",
    "| Category            | Total Length (bp) | Number of Nodes |\n",
    "|---------------------|-------------------|-----------------|\n",
    "| All SV Nodes        | 1,283,223         | 2,602           |\n",
    "| \"PASS\" SV Nodes     | 1,276,550         | 2,025           |\n",
    "| Non-\"PASS\" SV Nodes (Len < 31 bp) | 6,673             | 577             |\n"
   ]
  },
  {
   "cell_type": "code",
   "execution_count": 41,
   "id": "ab9b016f-4782-4fd0-bd35-3cd55a4236a1",
   "metadata": {},
   "outputs": [
    {
     "data": {
      "text/plain": [
       "(2602, 18)"
      ]
     },
     "execution_count": 41,
     "metadata": {},
     "output_type": "execute_result"
    }
   ],
   "source": [
    "MG_SVNodes_All_DF = MG_Nodes_KmerComp_DF.query(\"IsSVNode == True\")\n",
    "MG_SVNodes_All_DF.shape"
   ]
  },
  {
   "cell_type": "code",
   "execution_count": 42,
   "id": "212e48c3-d4f3-4cbd-8b4f-7aa16c0a58f9",
   "metadata": {},
   "outputs": [
    {
     "data": {
      "text/plain": [
       "(2025, 18)"
      ]
     },
     "execution_count": 42,
     "metadata": {},
     "output_type": "execute_result"
    }
   ],
   "source": [
    "MG_SVNodes_PASS_DF = MG_Nodes_KmerComp_DF.query(\"IsSVNode == True\").query(\"SeqLength >= 31\")     \n",
    "MG_SVNodes_PASS_DF.shape"
   ]
  },
  {
   "cell_type": "code",
   "execution_count": 43,
   "id": "415a1cb7-f0e7-445c-84a3-07d9e8bbe0d0",
   "metadata": {},
   "outputs": [
    {
     "data": {
      "text/plain": [
       "(577, 18)"
      ]
     },
     "execution_count": 43,
     "metadata": {},
     "output_type": "execute_result"
    }
   ],
   "source": [
    "MG_SVNodes_Sub31bp_DF = MG_Nodes_KmerComp_DF.query(\"IsSVNode == True\").query(\"SeqLength < 31\")     \n",
    "MG_SVNodes_Sub31bp_DF.shape"
   ]
  },
  {
   "cell_type": "code",
   "execution_count": null,
   "id": "2bb67e93-761a-499e-a758-430a6d02c1f5",
   "metadata": {},
   "outputs": [],
   "source": []
  },
  {
   "cell_type": "markdown",
   "id": "5ff6e252-2e62-4f43-8fc4-70ffdb632c0b",
   "metadata": {},
   "source": [
    "### What is the total length of ALL SV nodes?"
   ]
  },
  {
   "cell_type": "code",
   "execution_count": 44,
   "id": "d9ef8fed-3f41-4c02-942a-6d0a0d618b80",
   "metadata": {},
   "outputs": [
    {
     "data": {
      "text/plain": [
       "1283223"
      ]
     },
     "execution_count": 44,
     "metadata": {},
     "output_type": "execute_result"
    }
   ],
   "source": [
    "MG_Nodes_KmerComp_DF.query(\"IsSVNode == True\")[\"SeqLength\"].sum()"
   ]
  },
  {
   "cell_type": "markdown",
   "id": "ace7a462-997d-4263-9f3a-7a86555c4d56",
   "metadata": {},
   "source": [
    "### What is the total length of PASS SV nodes (Len >= 31 bp?)"
   ]
  },
  {
   "cell_type": "code",
   "execution_count": 45,
   "id": "7eade5af-2c84-470a-8e7c-8b7c5a1aa008",
   "metadata": {},
   "outputs": [
    {
     "data": {
      "text/plain": [
       "1276550"
      ]
     },
     "execution_count": 45,
     "metadata": {},
     "output_type": "execute_result"
    }
   ],
   "source": [
    "MG_SVNodes_PASS_DF[\"SeqLength\"].sum()"
   ]
  },
  {
   "cell_type": "markdown",
   "id": "e6f292cc-f7a5-4c57-aaa4-fecee112fa76",
   "metadata": {},
   "source": [
    "### What is the total length of sub 31bp SV nodes? (filtered out for k-mer analysis)"
   ]
  },
  {
   "cell_type": "code",
   "execution_count": 46,
   "id": "a5750dcc-b0b3-483d-b6aa-812b3ec43ddc",
   "metadata": {},
   "outputs": [
    {
     "data": {
      "text/plain": [
       "6673"
      ]
     },
     "execution_count": 46,
     "metadata": {},
     "output_type": "execute_result"
    }
   ],
   "source": [
    "MG_SVNodes_Sub31bp_DF[\"SeqLength\"].sum()"
   ]
  },
  {
   "cell_type": "code",
   "execution_count": null,
   "id": "3c30a160-5556-46b5-a2de-ba607649bb32",
   "metadata": {},
   "outputs": [],
   "source": []
  },
  {
   "cell_type": "code",
   "execution_count": null,
   "id": "7189b058-5379-496e-99cf-45349048a392",
   "metadata": {},
   "outputs": [],
   "source": []
  },
  {
   "cell_type": "markdown",
   "id": "56648737-15ae-443d-b737-0db6dbdd5d8c",
   "metadata": {},
   "source": [
    "## Part 2: Plot distribution of SV node lengths & # of SV nodes per bubble region"
   ]
  },
  {
   "cell_type": "markdown",
   "id": "77462ace-583f-4955-9c0b-a3618f739564",
   "metadata": {},
   "source": [
    "### Look at distribution of # of SV nodes per bubble region"
   ]
  },
  {
   "cell_type": "code",
   "execution_count": 47,
   "id": "607814bb-ea52-4876-bea1-d5b101397571",
   "metadata": {},
   "outputs": [
    {
     "data": {
      "text/html": [
       "<div>\n",
       "<style scoped>\n",
       "    .dataframe tbody tr th:only-of-type {\n",
       "        vertical-align: middle;\n",
       "    }\n",
       "\n",
       "    .dataframe tbody tr th {\n",
       "        vertical-align: top;\n",
       "    }\n",
       "\n",
       "    .dataframe thead th {\n",
       "        text-align: right;\n",
       "    }\n",
       "</style>\n",
       "<table border=\"1\" class=\"dataframe\">\n",
       "  <thead>\n",
       "    <tr style=\"text-align: right;\">\n",
       "      <th></th>\n",
       "      <th>Chr</th>\n",
       "      <th>Start</th>\n",
       "      <th>End</th>\n",
       "      <th>Len_Ref</th>\n",
       "      <th>Len_Alt</th>\n",
       "      <th>NodePath</th>\n",
       "      <th>NodePath_Trimmed</th>\n",
       "      <th>Start_Node</th>\n",
       "      <th>End_Node</th>\n",
       "      <th>BubbleNum</th>\n",
       "      <th>BubbleID</th>\n",
       "      <th>NumSVNodes</th>\n",
       "      <th>Overlap_Genes</th>\n",
       "      <th>Overlap_Gene_RvIDs</th>\n",
       "    </tr>\n",
       "  </thead>\n",
       "  <tbody>\n",
       "    <tr>\n",
       "      <th>6</th>\n",
       "      <td>NC_000962.3</td>\n",
       "      <td>38999</td>\n",
       "      <td>38999</td>\n",
       "      <td>0</td>\n",
       "      <td>56</td>\n",
       "      <td>s10,s2662,s11</td>\n",
       "      <td>[s2662]</td>\n",
       "      <td>s10</td>\n",
       "      <td>s11</td>\n",
       "      <td>7</td>\n",
       "      <td>BubbleRegion_7</td>\n",
       "      <td>1</td>\n",
       "      <td>NaN</td>\n",
       "      <td>NaN</td>\n",
       "    </tr>\n",
       "    <tr>\n",
       "      <th>7</th>\n",
       "      <td>NC_000962.3</td>\n",
       "      <td>39022</td>\n",
       "      <td>39029</td>\n",
       "      <td>7</td>\n",
       "      <td>287</td>\n",
       "      <td>s11,s12,s2037,s2038,s2133,s2928,s2134,s2135,s2...</td>\n",
       "      <td>[s12, s2037, s2038, s2133, s2928, s2134, s2135...</td>\n",
       "      <td>s11</td>\n",
       "      <td>s13</td>\n",
       "      <td>8</td>\n",
       "      <td>BubbleRegion_8</td>\n",
       "      <td>8</td>\n",
       "      <td>NaN</td>\n",
       "      <td>NaN</td>\n",
       "    </tr>\n",
       "    <tr>\n",
       "      <th>8</th>\n",
       "      <td>NC_000962.3</td>\n",
       "      <td>63092</td>\n",
       "      <td>63092</td>\n",
       "      <td>0</td>\n",
       "      <td>1358</td>\n",
       "      <td>s13,s2824,s14</td>\n",
       "      <td>[s2824]</td>\n",
       "      <td>s13</td>\n",
       "      <td>s14</td>\n",
       "      <td>9</td>\n",
       "      <td>BubbleRegion_9</td>\n",
       "      <td>1</td>\n",
       "      <td>NaN</td>\n",
       "      <td>NaN</td>\n",
       "    </tr>\n",
       "    <tr>\n",
       "      <th>9</th>\n",
       "      <td>NC_000962.3</td>\n",
       "      <td>68269</td>\n",
       "      <td>68269</td>\n",
       "      <td>0</td>\n",
       "      <td>1358</td>\n",
       "      <td>s14,s3018,s15</td>\n",
       "      <td>[s3018]</td>\n",
       "      <td>s14</td>\n",
       "      <td>s15</td>\n",
       "      <td>10</td>\n",
       "      <td>BubbleRegion_10</td>\n",
       "      <td>1</td>\n",
       "      <td>Rv0063</td>\n",
       "      <td>Rv0063</td>\n",
       "    </tr>\n",
       "  </tbody>\n",
       "</table>\n",
       "</div>"
      ],
      "text/plain": [
       "           Chr  Start    End  Len_Ref  Len_Alt                                           NodePath                                   NodePath_Trimmed Start_Node End_Node  BubbleNum         BubbleID  NumSVNodes Overlap_Genes Overlap_Gene_RvIDs\n",
       "6  NC_000962.3  38999  38999        0       56                                      s10,s2662,s11                                            [s2662]        s10      s11          7   BubbleRegion_7           1           NaN                NaN\n",
       "7  NC_000962.3  39022  39029        7      287  s11,s12,s2037,s2038,s2133,s2928,s2134,s2135,s2...  [s12, s2037, s2038, s2133, s2928, s2134, s2135...        s11      s13          8   BubbleRegion_8           8           NaN                NaN\n",
       "8  NC_000962.3  63092  63092        0     1358                                      s13,s2824,s14                                            [s2824]        s13      s14          9   BubbleRegion_9           1           NaN                NaN\n",
       "9  NC_000962.3  68269  68269        0     1358                                      s14,s3018,s15                                            [s3018]        s14      s15         10  BubbleRegion_10           1        Rv0063             Rv0063"
      ]
     },
     "execution_count": 47,
     "metadata": {},
     "output_type": "execute_result"
    }
   ],
   "source": [
    "MG_SV_BED_DF.head(10).tail(4)"
   ]
  },
  {
   "cell_type": "code",
   "execution_count": 48,
   "id": "dd1c5f36-8741-4a5e-ba8b-fd7b94c8a5a7",
   "metadata": {},
   "outputs": [
    {
     "data": {
      "text/plain": [
       "count    535.000000\n",
       "mean       4.971963\n",
       "std       15.103549\n",
       "min        0.000000\n",
       "25%        1.000000\n",
       "50%        1.000000\n",
       "75%        3.500000\n",
       "max      224.000000\n",
       "Name: NumSVNodes, dtype: float64"
      ]
     },
     "execution_count": 48,
     "metadata": {},
     "output_type": "execute_result"
    }
   ],
   "source": [
    "MG_SV_BED_DF[\"NumSVNodes\"].describe() "
   ]
  },
  {
   "cell_type": "code",
   "execution_count": 49,
   "id": "7f561764-3a4c-46f3-80f4-8257b885789b",
   "metadata": {},
   "outputs": [
    {
     "name": "stdout",
     "output_type": "stream",
     "text": [
      "mkdir: cannot create directory ‘Results2_Plots/’: File exists\n"
     ]
    }
   ],
   "source": [
    "!mkdir Results2_Plots/"
   ]
  },
  {
   "cell_type": "code",
   "execution_count": 50,
   "id": "3fd18eb8-bc8f-43f9-bd3f-9e7bd2a421b2",
   "metadata": {},
   "outputs": [
    {
     "data": {
      "image/png": "[encoded data removed]",
      "text/plain": [
       "<Figure size 432x288 with 1 Axes>"
      ]
     },
     "metadata": {
      "needs_background": "light"
     },
     "output_type": "display_data"
    }
   ],
   "source": [
    "plt.figure(figsize =(6,4) ) \n",
    "sns.set_context(\"paper\", font_scale=2)\n",
    "\n",
    "sns.histplot(MG_SV_BED_DF[\"NumSVNodes\"].values, bins = np.arange(0, 250, 1), color = '#4F4F4F' ) \n",
    "sns.despine()\n",
    "\n",
    "#plt.title(\"Distr. of SV nodes per SV bubble\")\n",
    "plt.ylabel(\"Count\")\n",
    "plt.xlabel(\"# of SV-nodes per bubble region\")\n",
    "plt.xlim(0,36)\n",
    "\n",
    "\n",
    "# Get current x-axis tick locations\n",
    "current_ticks = plt.xticks()[0]\n",
    "\n",
    "# Shift ticks by half a count to the right\n",
    "shifted_ticks = current_ticks + 0.5\n",
    "\n",
    "# Set new ticks\n",
    "plt.xticks([10.5, 20.5, 30.5], [10, 20, 30] )\n",
    "\n",
    "plt.savefig(\"Results2_Plots/2.B.SVNodesPerBubble.Histo.png\", dpi = 300)\n",
    "plt.savefig(\"Results2_Plots/2.B.SVNodesPerBubble.Histo.svg\")\n",
    "\n",
    "plt.show()"
   ]
  },
  {
   "cell_type": "markdown",
   "id": "2a7e7200-8cf7-4da9-b68c-ecd10e60301c",
   "metadata": {},
   "source": [
    "### Look at length distribution of of SV nodes"
   ]
  },
  {
   "cell_type": "code",
   "execution_count": 51,
   "id": "9e48dcba-c467-49cc-81f6-263347b0bec6",
   "metadata": {},
   "outputs": [
    {
     "data": {
      "text/plain": [
       "count     2025.000000\n",
       "mean       630.395062\n",
       "std       1476.309335\n",
       "min         31.000000\n",
       "25%         71.000000\n",
       "50%        174.000000\n",
       "75%        932.000000\n",
       "max      37214.000000\n",
       "Name: SeqLength, dtype: float64"
      ]
     },
     "execution_count": 51,
     "metadata": {},
     "output_type": "execute_result"
    }
   ],
   "source": [
    "MG_SVNodes_PASS_DF[\"SeqLength\"].describe()"
   ]
  },
  {
   "cell_type": "code",
   "execution_count": 52,
   "id": "b79e7b35-778c-4fc3-aacd-8614a4417d49",
   "metadata": {},
   "outputs": [
    {
     "data": {
      "image/png": "[encoded data removed]",
      "text/plain": [
       "<Figure size 432x288 with 1 Axes>"
      ]
     },
     "metadata": {
      "needs_background": "light"
     },
     "output_type": "display_data"
    }
   ],
   "source": [
    "plt.figure(figsize =(6,4) ) \n",
    "sns.set_context(\"paper\", font_scale=2)\n",
    "\n",
    "sns.histplot(MG_SVNodes_PASS_DF[\"SeqLength\"].values, bins = np.arange(0, 40000, 250), color = '#4F4F4F' )  \n",
    "sns.despine()\n",
    "\n",
    "plt.xlim(0, 10000)\n",
    "plt.xlabel(\"SV-Node Length (kb)\")\n",
    "\n",
    "\n",
    "x_tick_loc = [2000, 4000, 6000, 8000, 10000]\n",
    "#x_tick_label = [\"2 kb\", \"4 kb\", \"6 kb\", \"8 kb\", \"10 kb\"]\n",
    "x_tick_label = [2, 4, 6, 8, 10]\n",
    "\n",
    "#x_tick_loc = np.arange(0, 11000, 1000)\n",
    "#x_tick_label = np.arange(0, 11, 1)\n",
    "\n",
    "\n",
    "plt.xticks(x_tick_loc, x_tick_label )\n",
    "\n",
    "plt.savefig(\"Results2_Plots/2.C.SVNodeLen.Histo.png\", dpi = 300)\n",
    "plt.savefig(\"Results2_Plots/2.C.SVNodeLen.Histo.svg\")\n",
    "\n",
    "plt.show()"
   ]
  },
  {
   "cell_type": "code",
   "execution_count": null,
   "id": "18702234-42e2-4db2-a5ff-93660677581d",
   "metadata": {},
   "outputs": [],
   "source": []
  },
  {
   "cell_type": "code",
   "execution_count": 53,
   "id": "1f2a4daa-33f8-4562-80e0-16cf42f85fdb",
   "metadata": {},
   "outputs": [
    {
     "data": {
      "text/html": [
       "<div>\n",
       "<style scoped>\n",
       "    .dataframe tbody tr th:only-of-type {\n",
       "        vertical-align: middle;\n",
       "    }\n",
       "\n",
       "    .dataframe tbody tr th {\n",
       "        vertical-align: top;\n",
       "    }\n",
       "\n",
       "    .dataframe thead th {\n",
       "        text-align: right;\n",
       "    }\n",
       "</style>\n",
       "<table border=\"1\" class=\"dataframe\">\n",
       "  <thead>\n",
       "    <tr style=\"text-align: right;\">\n",
       "      <th></th>\n",
       "      <th>NodeID</th>\n",
       "      <th>IsSVNode</th>\n",
       "      <th>SeqLength</th>\n",
       "      <th>Jaccard_Cont_WiRv</th>\n",
       "      <th>Jaccard_Cont_WiIS6110</th>\n",
       "      <th>Jaccard_Cont_WiRv_InsSeqAndPhages</th>\n",
       "      <th>Jaccard_Cont_WiRv_PEPPEs</th>\n",
       "      <th>Jaccard_Cont_WiRv_InfoPathways</th>\n",
       "      <th>Jaccard_Cont_WiRv_ConservedHypo</th>\n",
       "      <th>Jaccard_Cont_WiRv_CellWallCellProc</th>\n",
       "      <th>Jaccard_Cont_WiRv_StableRNAs</th>\n",
       "      <th>Jaccard_Cont_WiRv_InterMetabolism</th>\n",
       "      <th>Jaccard_Cont_WiRv_RegProteins</th>\n",
       "      <th>Jaccard_Cont_WiRv_VirulenceDetoxAdaptation</th>\n",
       "      <th>Jaccard_Cont_WiRv_LipidMetabolism</th>\n",
       "      <th>Jaccard_Cont_WiRv_Unknown</th>\n",
       "      <th>BubbleID</th>\n",
       "      <th>MaxJC_ToOtherNode</th>\n",
       "    </tr>\n",
       "  </thead>\n",
       "  <tbody>\n",
       "    <tr>\n",
       "      <th>2</th>\n",
       "      <td>s3</td>\n",
       "      <td>True</td>\n",
       "      <td>56</td>\n",
       "      <td>1.0</td>\n",
       "      <td>0.0</td>\n",
       "      <td>0.0</td>\n",
       "      <td>0.0</td>\n",
       "      <td>0.000000</td>\n",
       "      <td>0.000000</td>\n",
       "      <td>0.0</td>\n",
       "      <td>0.0</td>\n",
       "      <td>0.000000</td>\n",
       "      <td>0.000000</td>\n",
       "      <td>0.0</td>\n",
       "      <td>0.0</td>\n",
       "      <td>0.0</td>\n",
       "      <td>BubbleRegion_2</td>\n",
       "      <td>0.961538</td>\n",
       "    </tr>\n",
       "    <tr>\n",
       "      <th>6</th>\n",
       "      <td>s7</td>\n",
       "      <td>True</td>\n",
       "      <td>1876</td>\n",
       "      <td>1.0</td>\n",
       "      <td>0.0</td>\n",
       "      <td>0.0</td>\n",
       "      <td>0.0</td>\n",
       "      <td>0.000000</td>\n",
       "      <td>0.206934</td>\n",
       "      <td>0.0</td>\n",
       "      <td>0.0</td>\n",
       "      <td>0.000000</td>\n",
       "      <td>0.601842</td>\n",
       "      <td>0.0</td>\n",
       "      <td>0.0</td>\n",
       "      <td>0.0</td>\n",
       "      <td>BubbleRegion_4</td>\n",
       "      <td>0.006501</td>\n",
       "    </tr>\n",
       "    <tr>\n",
       "      <th>15</th>\n",
       "      <td>s16</td>\n",
       "      <td>True</td>\n",
       "      <td>904</td>\n",
       "      <td>1.0</td>\n",
       "      <td>0.0</td>\n",
       "      <td>0.0</td>\n",
       "      <td>0.0</td>\n",
       "      <td>0.000000</td>\n",
       "      <td>0.000000</td>\n",
       "      <td>1.0</td>\n",
       "      <td>0.0</td>\n",
       "      <td>0.000000</td>\n",
       "      <td>0.000000</td>\n",
       "      <td>0.0</td>\n",
       "      <td>0.0</td>\n",
       "      <td>0.0</td>\n",
       "      <td>BubbleRegion_11</td>\n",
       "      <td>0.000000</td>\n",
       "    </tr>\n",
       "    <tr>\n",
       "      <th>17</th>\n",
       "      <td>s18</td>\n",
       "      <td>True</td>\n",
       "      <td>732</td>\n",
       "      <td>1.0</td>\n",
       "      <td>0.0</td>\n",
       "      <td>0.0</td>\n",
       "      <td>0.0</td>\n",
       "      <td>0.040698</td>\n",
       "      <td>0.000000</td>\n",
       "      <td>0.0</td>\n",
       "      <td>0.0</td>\n",
       "      <td>0.059593</td>\n",
       "      <td>0.000000</td>\n",
       "      <td>0.0</td>\n",
       "      <td>0.0</td>\n",
       "      <td>0.0</td>\n",
       "      <td>BubbleRegion_12</td>\n",
       "      <td>0.000000</td>\n",
       "    </tr>\n",
       "  </tbody>\n",
       "</table>\n",
       "</div>"
      ],
      "text/plain": [
       "   NodeID  IsSVNode  SeqLength  Jaccard_Cont_WiRv  Jaccard_Cont_WiIS6110  Jaccard_Cont_WiRv_InsSeqAndPhages  Jaccard_Cont_WiRv_PEPPEs  Jaccard_Cont_WiRv_InfoPathways  Jaccard_Cont_WiRv_ConservedHypo  Jaccard_Cont_WiRv_CellWallCellProc  Jaccard_Cont_WiRv_StableRNAs  Jaccard_Cont_WiRv_InterMetabolism  Jaccard_Cont_WiRv_RegProteins  Jaccard_Cont_WiRv_VirulenceDetoxAdaptation  Jaccard_Cont_WiRv_LipidMetabolism  Jaccard_Cont_WiRv_Unknown         BubbleID  MaxJC_ToOtherNode\n",
       "2      s3      True         56                1.0                    0.0                                0.0                       0.0                        0.000000                         0.000000                                 0.0                           0.0                           0.000000                       0.000000                                         0.0                                0.0                        0.0   BubbleRegion_2           0.961538\n",
       "6      s7      True       1876                1.0                    0.0                                0.0                       0.0                        0.000000                         0.206934                                 0.0                           0.0                           0.000000                       0.601842                                         0.0                                0.0                        0.0   BubbleRegion_4           0.006501\n",
       "15    s16      True        904                1.0                    0.0                                0.0                       0.0                        0.000000                         0.000000                                 1.0                           0.0                           0.000000                       0.000000                                         0.0                                0.0                        0.0  BubbleRegion_11           0.000000\n",
       "17    s18      True        732                1.0                    0.0                                0.0                       0.0                        0.040698                         0.000000                                 0.0                           0.0                           0.059593                       0.000000                                         0.0                                0.0                        0.0  BubbleRegion_12           0.000000"
      ]
     },
     "execution_count": 53,
     "metadata": {},
     "output_type": "execute_result"
    }
   ],
   "source": [
    "MG_SVNodes_PASS_DF.head(4)"
   ]
  },
  {
   "cell_type": "markdown",
   "id": "3bdb1253-9625-4f24-b374-b60a8d4e8c6f",
   "metadata": {},
   "source": [
    "## Part 3: Summary of node classifications within the SV pan-genome graph\n",
    "\n",
    "- Question 1: How many Core Nodes are there? What is there cumulative length?\n",
    "  \n",
    "- Question 2: How many SV Nodes are there? What is there cumulative length?\n",
    "  \n",
    "    - Question 3: How many SV nodes are too small to be evaluated using k-mer (31-mer) based comparison? (length < 31bp)\n",
    "\n",
    "    - Question 4: How many SV nodes are long enough to be evaluated using k-mer (31-mer) based comparison? (\"PASS\" SV Nodes)\n",
    "  \n",
    "    - Question 5: How many SV nodes have \"unique sequence content within the graph\"?\n",
    "\n",
    "        - Question 6: Of nodes that are are classified as \"unique sequence content within the graph\", how much is also \"unique relative to H37Rv\"?\n",
    "  \n",
    "    - Question 7: How many SV nodes have \"non-unique sequence content within the graph\"?\n",
    "        - Question 8: Of nodes that are are classified as \"non-unique sequence content within the graph\", how much is \"unique relative to H37Rv\"?\n",
    "          \n",
    "        - Question 9: Of the nodes that are classified as \"non-unique sequence content within the graph\", how many have k-mer overlap w/ sequences annotated as related to \"phages & insertion sequences\"?\n",
    "  \n",
    "            - Question 10: Of the nodes that are classified as i) \"non-unique sequence\" & ii) \"phages & insertion sequences\", how many share k-mer content with the IS6110 element specifically?\n"
   ]
  },
  {
   "cell_type": "markdown",
   "id": "69539123-8fcd-4485-abf8-978603088a57",
   "metadata": {},
   "source": [
    "#### Preparation - Breakdown core and SV nodes"
   ]
  },
  {
   "cell_type": "code",
   "execution_count": 54,
   "id": "86e49cce-5c36-4dec-b8d1-f89d131965a4",
   "metadata": {},
   "outputs": [],
   "source": [
    "MG_CoreNodes_All_DF = MG_Nodes_KmerComp_DF.query(\"IsSVNode == False\")\n",
    "\n",
    "MG_SVNodes_All_DF = MG_Nodes_KmerComp_DF.query(\"IsSVNode == True\")\n",
    "MG_SVNodes_PASS_DF = MG_Nodes_KmerComp_DF.query(\"IsSVNode == True\").query(\"SeqLength >= 31\")     \n",
    "MG_SVNodes_Sub31bp_DF = MG_Nodes_KmerComp_DF.query(\"IsSVNode == True\").query(\"SeqLength < 31\")     \n"
   ]
  },
  {
   "cell_type": "code",
   "execution_count": null,
   "id": "02c2cf51-2e68-403b-9a85-662c028508e5",
   "metadata": {},
   "outputs": [],
   "source": []
  },
  {
   "cell_type": "markdown",
   "id": "38229aa8-936a-47ce-b398-c682a3eb92ca",
   "metadata": {},
   "source": [
    "#### Question 1: How many Core Nodes are there? What is there cumulative length?"
   ]
  },
  {
   "cell_type": "code",
   "execution_count": 55,
   "id": "c5e4917c-dac0-4fc0-bf0c-ea188c198951",
   "metadata": {},
   "outputs": [
    {
     "data": {
      "text/plain": [
       "536"
      ]
     },
     "execution_count": 55,
     "metadata": {},
     "output_type": "execute_result"
    }
   ],
   "source": [
    "MG_CoreNodes_All_DF.shape[0] "
   ]
  },
  {
   "cell_type": "code",
   "execution_count": 56,
   "id": "4598bd72-2ad0-4bfd-bc25-fb31657d5441",
   "metadata": {},
   "outputs": [
    {
     "data": {
      "text/plain": [
       "3913140"
      ]
     },
     "execution_count": 56,
     "metadata": {},
     "output_type": "execute_result"
    }
   ],
   "source": [
    "MG_CoreNodes_All_DF[\"SeqLength\"].sum()"
   ]
  },
  {
   "cell_type": "code",
   "execution_count": null,
   "id": "1345aeb7-754f-441a-a61d-df545591462b",
   "metadata": {},
   "outputs": [],
   "source": []
  },
  {
   "cell_type": "markdown",
   "id": "b11fcabd-229e-4b40-b45c-ab1285333c3d",
   "metadata": {},
   "source": [
    "#### Question 2: How many SV Nodes are there? What is there cumulative length?"
   ]
  },
  {
   "cell_type": "code",
   "execution_count": 57,
   "id": "41173fc3-1aa5-4c58-9bdd-fe8dfcd8d8b5",
   "metadata": {},
   "outputs": [
    {
     "data": {
      "text/plain": [
       "2602"
      ]
     },
     "execution_count": 57,
     "metadata": {},
     "output_type": "execute_result"
    }
   ],
   "source": [
    "MG_SVNodes_All_DF.shape[0]"
   ]
  },
  {
   "cell_type": "code",
   "execution_count": 58,
   "id": "28f77ebf-a1eb-4521-8a57-936993526e4f",
   "metadata": {},
   "outputs": [
    {
     "data": {
      "text/plain": [
       "1283223"
      ]
     },
     "execution_count": 58,
     "metadata": {},
     "output_type": "execute_result"
    }
   ],
   "source": [
    "MG_SVNodes_All_DF[\"SeqLength\"].sum()"
   ]
  },
  {
   "cell_type": "markdown",
   "id": "1786ea93-9a7f-47f6-baae-1d39febee781",
   "metadata": {},
   "source": [
    "#### Question 3: How many SV nodes are too small to be evaluated using k-mer (31-mer) based comparison? (Filtered out for downstream evaluation)\n",
    "\n",
    "Basically, how many have length < 31bp?"
   ]
  },
  {
   "cell_type": "code",
   "execution_count": 59,
   "id": "de28a56b-9a85-486f-9168-4758ab2b4f06",
   "metadata": {},
   "outputs": [
    {
     "data": {
      "text/plain": [
       "577"
      ]
     },
     "execution_count": 59,
     "metadata": {},
     "output_type": "execute_result"
    }
   ],
   "source": [
    "MG_SVNodes_Sub31bp_DF.shape[0]"
   ]
  },
  {
   "cell_type": "code",
   "execution_count": 60,
   "id": "6ebfc418-f7c8-49b6-a314-146cb5d14e3d",
   "metadata": {},
   "outputs": [
    {
     "data": {
      "text/plain": [
       "6673"
      ]
     },
     "execution_count": 60,
     "metadata": {},
     "output_type": "execute_result"
    }
   ],
   "source": [
    "MG_SVNodes_Sub31bp_DF[\"SeqLength\"].sum() "
   ]
  },
  {
   "cell_type": "code",
   "execution_count": null,
   "id": "4c06bcb7-d5ed-4d4e-833c-63dbc4b910d2",
   "metadata": {},
   "outputs": [],
   "source": []
  },
  {
   "cell_type": "markdown",
   "id": "ba0fca3c-ab29-4697-8230-4a557ef952c0",
   "metadata": {},
   "source": [
    "#### Question 4: How many SV nodes are long enough to be evaluated using k-mer (31-mer) based comparison? (\"PASS\" SV Nodes)\n",
    "\n",
    "Basically, how many SV nodes have length >= 31bp?"
   ]
  },
  {
   "cell_type": "code",
   "execution_count": 61,
   "id": "981ce594-24c7-4be6-a422-f5567fb278cf",
   "metadata": {
    "scrolled": true
   },
   "outputs": [
    {
     "data": {
      "text/plain": [
       "2025"
      ]
     },
     "execution_count": 61,
     "metadata": {},
     "output_type": "execute_result"
    }
   ],
   "source": [
    "MG_SVNodes_PASS_DF.shape[0]"
   ]
  },
  {
   "cell_type": "code",
   "execution_count": 62,
   "id": "26bff2a1-8247-4463-ad33-4c2efa0a63aa",
   "metadata": {},
   "outputs": [
    {
     "data": {
      "text/plain": [
       "1276550"
      ]
     },
     "execution_count": 62,
     "metadata": {},
     "output_type": "execute_result"
    }
   ],
   "source": [
    "MG_SVNodes_PASS_DF[\"SeqLength\"].sum() "
   ]
  },
  {
   "cell_type": "code",
   "execution_count": null,
   "id": "77796921-c17e-46cd-91c9-b5648cea7691",
   "metadata": {},
   "outputs": [],
   "source": []
  },
  {
   "cell_type": "markdown",
   "id": "950072dc-8c41-4136-b83a-3707929f56cf",
   "metadata": {},
   "source": [
    "#### Question 5: How many SV nodes have \"unique sequence content within the graph\"?"
   ]
  },
  {
   "cell_type": "code",
   "execution_count": 63,
   "id": "43237416-1704-4575-a129-ce2c933a05e3",
   "metadata": {},
   "outputs": [],
   "source": [
    "MG_SVNodes_UnqSeq_DF =  MG_SVNodes_PASS_DF.query(\"MaxJC_ToOtherNode < 0.05\")"
   ]
  },
  {
   "cell_type": "code",
   "execution_count": 64,
   "id": "e51e61a0-db4d-4443-ada4-bcd56817038c",
   "metadata": {},
   "outputs": [
    {
     "data": {
      "text/plain": [
       "463"
      ]
     },
     "execution_count": 64,
     "metadata": {},
     "output_type": "execute_result"
    }
   ],
   "source": [
    "MG_SVNodes_UnqSeq_DF.shape[0]"
   ]
  },
  {
   "cell_type": "code",
   "execution_count": 65,
   "id": "5a617459-9b09-47b8-9a16-5d5db4d93524",
   "metadata": {},
   "outputs": [
    {
     "data": {
      "text/plain": [
       "301511"
      ]
     },
     "execution_count": 65,
     "metadata": {},
     "output_type": "execute_result"
    }
   ],
   "source": [
    "MG_SVNodes_UnqSeq_DF[\"SeqLength\"].sum()"
   ]
  },
  {
   "cell_type": "code",
   "execution_count": 66,
   "id": "61a535c1-aa54-43c3-bd1e-32eac7b6c174",
   "metadata": {},
   "outputs": [
    {
     "data": {
      "text/plain": [
       "0.2349638371506745"
      ]
     },
     "execution_count": 66,
     "metadata": {},
     "output_type": "execute_result"
    }
   ],
   "source": [
    "301511 / 1283223 # len of unique SV nodes / total len of SV nodes"
   ]
  },
  {
   "cell_type": "code",
   "execution_count": 67,
   "id": "549a3b81-a3c2-437f-803e-10a32bb94760",
   "metadata": {},
   "outputs": [
    {
     "data": {
      "text/plain": [
       "0.2323076923076923"
      ]
     },
     "execution_count": 67,
     "metadata": {},
     "output_type": "execute_result"
    }
   ],
   "source": [
    "302 / 1300 # 302 kb / 1,300 kb"
   ]
  },
  {
   "cell_type": "code",
   "execution_count": null,
   "id": "9f0822e4-a219-4481-aa31-10964ff516b7",
   "metadata": {},
   "outputs": [],
   "source": []
  },
  {
   "cell_type": "markdown",
   "id": "e97520d7-4292-4e45-ae77-7eae7b17fdf9",
   "metadata": {},
   "source": [
    "#### Question 6: Of \"unique sequence content within the graph\" nodes, how much is **also** \"unique relative to H37Rv\"?"
   ]
  },
  {
   "cell_type": "code",
   "execution_count": 68,
   "id": "d5c0a1a7-e100-4037-a25a-cab324fa0295",
   "metadata": {},
   "outputs": [],
   "source": [
    "MG_SVNodes_UnqSeq_UnqToRv_DF = MG_SVNodes_UnqSeq_DF.query(\"Jaccard_Cont_WiRv < 0.05\")"
   ]
  },
  {
   "cell_type": "code",
   "execution_count": 69,
   "id": "0d3a7721-0e21-422f-893f-63ddb9e49fce",
   "metadata": {},
   "outputs": [
    {
     "data": {
      "text/plain": [
       "76"
      ]
     },
     "execution_count": 69,
     "metadata": {},
     "output_type": "execute_result"
    }
   ],
   "source": [
    "MG_SVNodes_UnqSeq_UnqToRv_DF.shape[0]"
   ]
  },
  {
   "cell_type": "code",
   "execution_count": 70,
   "id": "6efe81ee-fc02-4be6-b80d-7aa2e0078ad5",
   "metadata": {},
   "outputs": [
    {
     "data": {
      "text/plain": [
       "51806"
      ]
     },
     "execution_count": 70,
     "metadata": {},
     "output_type": "execute_result"
    }
   ],
   "source": [
    "MG_SVNodes_UnqSeq_UnqToRv_DF[\"SeqLength\"].sum()  "
   ]
  },
  {
   "cell_type": "code",
   "execution_count": null,
   "id": "105a3258-2ca0-43bd-be17-2251327a3988",
   "metadata": {},
   "outputs": [],
   "source": []
  },
  {
   "cell_type": "markdown",
   "id": "5dcd56a2-ac6c-43ce-ad2a-d535914bb339",
   "metadata": {},
   "source": [
    "#### Question 7: How many SV nodes have \"non-unique sequence content within the graph\"?"
   ]
  },
  {
   "cell_type": "code",
   "execution_count": 71,
   "id": "94bf9184-9759-4368-b494-f7e0a1d0e356",
   "metadata": {},
   "outputs": [],
   "source": [
    "MG_SVNodes_NoUnqSeq_DF = MG_SVNodes_PASS_DF.query(\"MaxJC_ToOtherNode >= 0.05\")"
   ]
  },
  {
   "cell_type": "code",
   "execution_count": 72,
   "id": "df70afb3-b52c-4b13-a7e1-b941395b1285",
   "metadata": {},
   "outputs": [
    {
     "data": {
      "text/plain": [
       "1562"
      ]
     },
     "execution_count": 72,
     "metadata": {},
     "output_type": "execute_result"
    }
   ],
   "source": [
    "MG_SVNodes_NoUnqSeq_DF.shape[0]"
   ]
  },
  {
   "cell_type": "code",
   "execution_count": 73,
   "id": "4e64acf5-5c06-466b-8e7f-ec88391bd0e9",
   "metadata": {},
   "outputs": [
    {
     "data": {
      "text/plain": [
       "975039"
      ]
     },
     "execution_count": 73,
     "metadata": {},
     "output_type": "execute_result"
    }
   ],
   "source": [
    "MG_SVNodes_NoUnqSeq_DF[\"SeqLength\"].sum()  "
   ]
  },
  {
   "cell_type": "code",
   "execution_count": null,
   "id": "d0ecae45-beae-428c-917c-709f0cd2f791",
   "metadata": {},
   "outputs": [],
   "source": []
  },
  {
   "cell_type": "markdown",
   "id": "37143f7c-505d-448f-8f4a-4a33a8a4ce5c",
   "metadata": {},
   "source": [
    "#### Question 8: Of \"non-unique sequence content within the graph\" nodes, how much is **also** \"unique relative to H37Rv\"?"
   ]
  },
  {
   "cell_type": "code",
   "execution_count": 74,
   "id": "800d6bc4-eaf2-41c1-bfb9-16190aca6a87",
   "metadata": {},
   "outputs": [],
   "source": [
    "MG_SVNodes_NoUnqSeq_UnqToRv_DF = MG_SVNodes_NoUnqSeq_DF.query(\"Jaccard_Cont_WiRv < 0.05\")"
   ]
  },
  {
   "cell_type": "code",
   "execution_count": 75,
   "id": "e61d0ff2-df18-4ce4-94e3-4c6216a92732",
   "metadata": {},
   "outputs": [
    {
     "data": {
      "text/plain": [
       "84"
      ]
     },
     "execution_count": 75,
     "metadata": {},
     "output_type": "execute_result"
    }
   ],
   "source": [
    "MG_SVNodes_NoUnqSeq_UnqToRv_DF.shape[0]"
   ]
  },
  {
   "cell_type": "code",
   "execution_count": 76,
   "id": "f9995cb6-340f-464f-a315-483de3a0229a",
   "metadata": {},
   "outputs": [
    {
     "data": {
      "text/plain": [
       "14815"
      ]
     },
     "execution_count": 76,
     "metadata": {},
     "output_type": "execute_result"
    }
   ],
   "source": [
    "MG_SVNodes_NoUnqSeq_UnqToRv_DF[\"SeqLength\"].sum()  "
   ]
  },
  {
   "cell_type": "code",
   "execution_count": null,
   "id": "507ea6d1-de00-499d-b53e-ae115c2ba463",
   "metadata": {},
   "outputs": [],
   "source": []
  },
  {
   "cell_type": "markdown",
   "id": "9f8a09f1-8015-4918-ae75-f1611ecc1304",
   "metadata": {},
   "source": [
    "#### Question 9: Of \"non-unique sequence content within the graph\" nodes, how many have k-mer overlap w/ sequences annotated as related to \"phages & insertion sequences\"?"
   ]
  },
  {
   "cell_type": "code",
   "execution_count": 77,
   "id": "a3697660-d5b3-448e-b17b-8d13ee72ff62",
   "metadata": {},
   "outputs": [],
   "source": [
    "MG_SVNodes_NoUnqSeq_ISandPhages_DF = MG_SVNodes_NoUnqSeq_DF.query(\"Jaccard_Cont_WiRv_InsSeqAndPhages > 0.5\")"
   ]
  },
  {
   "cell_type": "code",
   "execution_count": 78,
   "id": "a1d04850-172f-4792-8807-50a1e2475684",
   "metadata": {},
   "outputs": [
    {
     "data": {
      "text/plain": [
       "339"
      ]
     },
     "execution_count": 78,
     "metadata": {},
     "output_type": "execute_result"
    }
   ],
   "source": [
    "MG_SVNodes_NoUnqSeq_ISandPhages_DF.shape[0] "
   ]
  },
  {
   "cell_type": "code",
   "execution_count": 79,
   "id": "8eb81345-ef0f-41b3-b2e2-ac38c294b157",
   "metadata": {},
   "outputs": [
    {
     "data": {
      "text/plain": [
       "489105"
      ]
     },
     "execution_count": 79,
     "metadata": {},
     "output_type": "execute_result"
    }
   ],
   "source": [
    "MG_SVNodes_NoUnqSeq_ISandPhages_DF[\"SeqLength\"].sum() "
   ]
  },
  {
   "cell_type": "code",
   "execution_count": null,
   "id": "723c6670-7da1-4e95-8708-87b80a9ada0c",
   "metadata": {},
   "outputs": [],
   "source": []
  },
  {
   "cell_type": "markdown",
   "id": "bc767f4a-6393-435f-97b1-4d8519b4ed77",
   "metadata": {},
   "source": [
    "#### - Question 10: Of the nodes that are classified as i) \"non-unique sequence\" & ii) \"phages & insertion sequences\", how many share k-mer content with the IS6110 element specifically?"
   ]
  },
  {
   "cell_type": "code",
   "execution_count": 80,
   "id": "19caa6b9-b7f9-4540-a631-5a2a1936cb90",
   "metadata": {},
   "outputs": [],
   "source": [
    "MG_SVNodes_NoUnqSeq_ISandPhages_IS6110_DF = MG_SVNodes_NoUnqSeq_ISandPhages_DF.query(\"Jaccard_Cont_WiIS6110 > 0.5\")"
   ]
  },
  {
   "cell_type": "code",
   "execution_count": 81,
   "id": "a273f3c4-5a8a-4a61-9f97-851c8b1ea2b2",
   "metadata": {},
   "outputs": [
    {
     "data": {
      "text/plain": [
       "322"
      ]
     },
     "execution_count": 81,
     "metadata": {},
     "output_type": "execute_result"
    }
   ],
   "source": [
    "MG_SVNodes_NoUnqSeq_ISandPhages_IS6110_DF.shape[0]"
   ]
  },
  {
   "cell_type": "code",
   "execution_count": 82,
   "id": "cb5c30bb-afb0-44a7-8000-5fa14be2713d",
   "metadata": {},
   "outputs": [
    {
     "data": {
      "text/plain": [
       "455214"
      ]
     },
     "execution_count": 82,
     "metadata": {},
     "output_type": "execute_result"
    }
   ],
   "source": [
    "MG_SVNodes_NoUnqSeq_ISandPhages_IS6110_DF[\"SeqLength\"].sum()  "
   ]
  },
  {
   "cell_type": "code",
   "execution_count": null,
   "id": "bd3ae5d0-37b3-4917-ba02-7356f4813a05",
   "metadata": {},
   "outputs": [],
   "source": []
  },
  {
   "cell_type": "markdown",
   "id": "c2b00d9f-15e9-4c7f-9622-0d69ec5597ca",
   "metadata": {},
   "source": [
    "#### Question 11: How many SV nodes (& total length) are unique to H37Rv? (Independent of whether it is unique within the graph)"
   ]
  },
  {
   "cell_type": "code",
   "execution_count": 83,
   "id": "e953c661-8ea8-4d0e-8bfb-2731bc1cc002",
   "metadata": {},
   "outputs": [],
   "source": [
    "MG_SVNodes_UnqToRv_All_DF = MG_SVNodes_PASS_DF.query(\"Jaccard_Cont_WiRv < 0.05 & SeqLength >= 31\")"
   ]
  },
  {
   "cell_type": "code",
   "execution_count": 84,
   "id": "77a19961-7885-4a13-bff3-a8c898767406",
   "metadata": {},
   "outputs": [
    {
     "data": {
      "text/plain": [
       "160"
      ]
     },
     "execution_count": 84,
     "metadata": {},
     "output_type": "execute_result"
    }
   ],
   "source": [
    "MG_SVNodes_UnqToRv_All_DF.shape[0]"
   ]
  },
  {
   "cell_type": "code",
   "execution_count": 85,
   "id": "e85e3c9e-f056-4b5c-bc9b-0830aee2df1a",
   "metadata": {},
   "outputs": [
    {
     "data": {
      "text/plain": [
       "66621"
      ]
     },
     "execution_count": 85,
     "metadata": {},
     "output_type": "execute_result"
    }
   ],
   "source": [
    "MG_SVNodes_UnqToRv_All_DF[\"SeqLength\"].sum()  "
   ]
  },
  {
   "cell_type": "code",
   "execution_count": 86,
   "id": "6ae28ab0-0829-42fe-99e4-5b39be6644e2",
   "metadata": {},
   "outputs": [
    {
     "data": {
      "text/plain": [
       "66621"
      ]
     },
     "execution_count": 86,
     "metadata": {},
     "output_type": "execute_result"
    }
   ],
   "source": [
    "14815 + 51806"
   ]
  },
  {
   "cell_type": "code",
   "execution_count": 87,
   "id": "d8270938-3f30-46bd-847a-9a23210e9d97",
   "metadata": {},
   "outputs": [
    {
     "data": {
      "text/plain": [
       "67"
      ]
     },
     "execution_count": 87,
     "metadata": {},
     "output_type": "execute_result"
    }
   ],
   "source": [
    "15 + 52"
   ]
  },
  {
   "cell_type": "code",
   "execution_count": 88,
   "id": "b8bbd50d-92fe-4afb-9114-adbb2ad66e23",
   "metadata": {},
   "outputs": [
    {
     "data": {
      "text/plain": [
       "0.05191693104004526"
      ]
     },
     "execution_count": 88,
     "metadata": {},
     "output_type": "execute_result"
    }
   ],
   "source": [
    "66621 / 1283223 # len of \"unique to H37Rv\" SV nodes / total len of SV nodes"
   ]
  },
  {
   "cell_type": "code",
   "execution_count": 89,
   "id": "b80ef086-b325-4856-8b3c-5b82e174d3c3",
   "metadata": {},
   "outputs": [
    {
     "data": {
      "text/plain": [
       "0.05153846153846154"
      ]
     },
     "execution_count": 89,
     "metadata": {},
     "output_type": "execute_result"
    }
   ],
   "source": [
    "67/ 1300 # 67 kb / 1,300 kb"
   ]
  },
  {
   "cell_type": "code",
   "execution_count": 90,
   "id": "cd6d7989-632f-42ab-beef-8e13a0bac527",
   "metadata": {},
   "outputs": [
    {
     "data": {
      "text/plain": [
       "(160, 18)"
      ]
     },
     "execution_count": 90,
     "metadata": {},
     "output_type": "execute_result"
    }
   ],
   "source": [
    "MG_SVNodes_PASS_DF.query(\"Jaccard_Cont_WiRv < 0.05\").shape"
   ]
  },
  {
   "cell_type": "code",
   "execution_count": null,
   "id": "a2d7011a-f53b-48f6-8f79-1da92b79a252",
   "metadata": {},
   "outputs": [],
   "source": []
  },
  {
   "cell_type": "code",
   "execution_count": null,
   "id": "f23f881c-51e8-4b7e-9004-692d0ea6862f",
   "metadata": {},
   "outputs": [],
   "source": []
  },
  {
   "cell_type": "markdown",
   "id": "343c595d-ee03-407e-8d79-ffed9478802b",
   "metadata": {},
   "source": [
    "# Analyze abundance of each gene category in UNIQUE and REDUDANT SV Nodes"
   ]
  },
  {
   "cell_type": "code",
   "execution_count": 91,
   "id": "08691539-ae18-4be3-a8fa-38a5c59a3d58",
   "metadata": {},
   "outputs": [],
   "source": [
    "listOf_JC_Cols = [\"Jaccard_Cont_WiRv_InsSeqAndPhages\",\n",
    "                  \"Jaccard_Cont_WiRv_PEPPEs\",\n",
    "                  \"Jaccard_Cont_WiRv_InfoPathways\",\n",
    "                  \"Jaccard_Cont_WiRv_ConservedHypo\", \n",
    "                  \"Jaccard_Cont_WiRv_CellWallCellProc\",\n",
    "                  \"Jaccard_Cont_WiRv_StableRNAs\",\n",
    "                  \"Jaccard_Cont_WiRv_InterMetabolism\",\n",
    "                  \"Jaccard_Cont_WiRv_RegProteins\",\n",
    "                  \"Jaccard_Cont_WiRv_VirulenceDetoxAdaptation\",\n",
    "                  \"Jaccard_Cont_WiRv_LipidMetabolism\",\n",
    "                  \"Jaccard_Cont_WiRv_Unknown\"]"
   ]
  },
  {
   "cell_type": "code",
   "execution_count": null,
   "id": "3f84dd46-be22-472b-a3f1-96e45525bcbc",
   "metadata": {},
   "outputs": [],
   "source": []
  },
  {
   "cell_type": "code",
   "execution_count": 92,
   "id": "f7b9275c-edb8-4f85-9a89-c7a24383bd70",
   "metadata": {},
   "outputs": [
    {
     "name": "stdout",
     "output_type": "stream",
     "text": [
      "Jaccard_Cont_WiRv_InsSeqAndPhages i_SV_NoUnq_InCat 339 489105 0.5016260888026017\n",
      "Jaccard_Cont_WiRv_PEPPEs i_SV_NoUnq_InCat 462 121321 0.1244268177990829\n",
      "Jaccard_Cont_WiRv_InfoPathways i_SV_NoUnq_InCat 2 114 0.00011691840018706944\n",
      "Jaccard_Cont_WiRv_ConservedHypo i_SV_NoUnq_InCat 84 43076 0.04417874567068599\n",
      "Jaccard_Cont_WiRv_CellWallCellProc i_SV_NoUnq_InCat 36 14249 0.014613774423382039\n",
      "Jaccard_Cont_WiRv_StableRNAs i_SV_NoUnq_InCat 0 0 0.0\n",
      "Jaccard_Cont_WiRv_InterMetabolism i_SV_NoUnq_InCat 62 28275 0.028998840046398144\n",
      "Jaccard_Cont_WiRv_RegProteins i_SV_NoUnq_InCat 14 6151 0.006308465610093545\n",
      "Jaccard_Cont_WiRv_VirulenceDetoxAdaptation i_SV_NoUnq_InCat 2 857 0.0008789392014063027\n",
      "Jaccard_Cont_WiRv_LipidMetabolism i_SV_NoUnq_InCat 15 26130 0.026798928042878284\n",
      "Jaccard_Cont_WiRv_Unknown i_SV_NoUnq_InCat 4 1178 0.001208156801933051\n"
     ]
    }
   ],
   "source": [
    "for col in listOf_JC_Cols:\n",
    "\n",
    "    i_SV_NoUnq_InCat =  MG_SVNodes_NoUnqSeq_DF.query(f\"{col} > 0.5\")\n",
    "    i_SV_Unq_InCat =  MG_SVNodes_UnqSeq_DF.query(f\"{col} > 0.5\")\n",
    "    i_SV_PASS_InCat =  MG_SVNodes_PASS_DF.query(f\"{col} > 0.5\")\n",
    "\n",
    "    print(col, \"i_SV_NoUnq_InCat\", i_SV_NoUnq_InCat.shape[0], i_SV_NoUnq_InCat[\"SeqLength\"].sum(), i_SV_NoUnq_InCat[\"SeqLength\"].sum() / MG_SVNodes_NoUnqSeq_DF[\"SeqLength\"].sum()  )\n",
    "    #print(col, \"i_SV_Unq_InCat\", i_SV_Unq_InCat.shape[0], i_SV_Unq_InCat[\"SeqLength\"].sum(), i_SV_Unq_InCat[\"SeqLength\"].sum() / MG_SVNodes_PASS_DF[\"SeqLength\"].sum() )\n",
    "    #print(col, \"ALL SV Nodes\", i_SV_PASS_InCat.shape[0], i_SV_PASS_InCat[\"SeqLength\"].sum(), i_SV_PASS_InCat[\"SeqLength\"].sum() / MG_SVNodes_PASS_DF[\"SeqLength\"].sum() )\n",
    "    #print()"
   ]
  },
  {
   "cell_type": "code",
   "execution_count": null,
   "id": "4fbe31e8-19d3-41f1-a4f8-33dd05457b06",
   "metadata": {},
   "outputs": [],
   "source": []
  },
  {
   "cell_type": "code",
   "execution_count": 93,
   "id": "e575931b-fefc-48c7-a63d-8f00d8fbc22d",
   "metadata": {},
   "outputs": [
    {
     "name": "stdout",
     "output_type": "stream",
     "text": [
      "Jaccard_Cont_WiRv_InsSeqAndPhages i_Core_InCat 1 485 0.00012394138722355958\n",
      "Jaccard_Cont_WiRv_PEPPEs i_Core_InCat 75 60807 0.015539183366810285\n",
      "Jaccard_Cont_WiRv_InfoPathways i_Core_InCat 17 84786 0.021666998880694278\n",
      "Jaccard_Cont_WiRv_ConservedHypo i_Core_InCat 42 80887 0.02067061234711766\n",
      "Jaccard_Cont_WiRv_CellWallCellProc i_Core_InCat 30 173618 0.04436795003501025\n",
      "Jaccard_Cont_WiRv_StableRNAs i_Core_InCat 0 0 0.0\n",
      "Jaccard_Cont_WiRv_InterMetabolism i_Core_InCat 56 340268 0.08695523288203336\n",
      "Jaccard_Cont_WiRv_RegProteins i_Core_InCat 7 27669 0.0070707922537910734\n",
      "Jaccard_Cont_WiRv_VirulenceDetoxAdaptation i_Core_InCat 4 18761 0.004794359516909694\n",
      "Jaccard_Cont_WiRv_LipidMetabolism i_Core_InCat 19 166834 0.042634303909392456\n",
      "Jaccard_Cont_WiRv_Unknown i_Core_InCat 0 0 0.0\n"
     ]
    }
   ],
   "source": [
    "for col in listOf_JC_Cols:\n",
    "\n",
    "    i_Core_InCat =  MG_CoreNodes_All_DF.query(f\"{col} > 0.5\")\n",
    "\n",
    "    print(col, \"i_Core_InCat\", i_Core_InCat.shape[0], i_Core_InCat[\"SeqLength\"].sum(), i_Core_InCat[\"SeqLength\"].sum() / MG_CoreNodes_All_DF[\"SeqLength\"].sum()  )\n",
    "    #print(col, \"i_SV_Unq_InCat\", i_SV_Unq_InCat.shape[0], i_SV_Unq_InCat[\"SeqLength\"].sum(), i_SV_Unq_InCat[\"SeqLength\"].sum() / MG_SVNodes_PASS_DF[\"SeqLength\"].sum() )\n",
    "    #print(col, \"ALL SV Nodes\", i_SV_PASS_InCat.shape[0], i_SV_PASS_InCat[\"SeqLength\"].sum(), i_SV_PASS_InCat[\"SeqLength\"].sum() / MG_SVNodes_PASS_DF[\"SeqLength\"].sum() )\n",
    "    #print()"
   ]
  },
  {
   "cell_type": "code",
   "execution_count": null,
   "id": "6bfbee6b-da12-4cba-a248-76ada5506ebf",
   "metadata": {},
   "outputs": [],
   "source": []
  },
  {
   "cell_type": "code",
   "execution_count": null,
   "id": "51b4fd7e-9aa0-4694-92e2-cc38d33a1e0c",
   "metadata": {},
   "outputs": [],
   "source": []
  },
  {
   "cell_type": "code",
   "execution_count": 94,
   "id": "dbfd2ac1-5e5d-46a5-88ee-a7742a70b023",
   "metadata": {},
   "outputs": [
    {
     "data": {
      "text/html": [
       "<div>\n",
       "<style scoped>\n",
       "    .dataframe tbody tr th:only-of-type {\n",
       "        vertical-align: middle;\n",
       "    }\n",
       "\n",
       "    .dataframe tbody tr th {\n",
       "        vertical-align: top;\n",
       "    }\n",
       "\n",
       "    .dataframe thead th {\n",
       "        text-align: right;\n",
       "    }\n",
       "</style>\n",
       "<table border=\"1\" class=\"dataframe\">\n",
       "  <thead>\n",
       "    <tr style=\"text-align: right;\">\n",
       "      <th></th>\n",
       "      <th>NodeID</th>\n",
       "      <th>IsSVNode</th>\n",
       "      <th>SeqLength</th>\n",
       "      <th>Jaccard_Cont_WiRv</th>\n",
       "      <th>Jaccard_Cont_WiIS6110</th>\n",
       "      <th>Jaccard_Cont_WiRv_InsSeqAndPhages</th>\n",
       "      <th>Jaccard_Cont_WiRv_PEPPEs</th>\n",
       "      <th>Jaccard_Cont_WiRv_InfoPathways</th>\n",
       "      <th>Jaccard_Cont_WiRv_ConservedHypo</th>\n",
       "      <th>Jaccard_Cont_WiRv_CellWallCellProc</th>\n",
       "      <th>Jaccard_Cont_WiRv_StableRNAs</th>\n",
       "      <th>Jaccard_Cont_WiRv_InterMetabolism</th>\n",
       "      <th>Jaccard_Cont_WiRv_RegProteins</th>\n",
       "      <th>Jaccard_Cont_WiRv_VirulenceDetoxAdaptation</th>\n",
       "      <th>Jaccard_Cont_WiRv_LipidMetabolism</th>\n",
       "      <th>Jaccard_Cont_WiRv_Unknown</th>\n",
       "      <th>BubbleID</th>\n",
       "      <th>MaxJC_ToOtherNode</th>\n",
       "    </tr>\n",
       "  </thead>\n",
       "  <tbody>\n",
       "    <tr>\n",
       "      <th>2</th>\n",
       "      <td>s3</td>\n",
       "      <td>True</td>\n",
       "      <td>56</td>\n",
       "      <td>1.0</td>\n",
       "      <td>0.0</td>\n",
       "      <td>0.0</td>\n",
       "      <td>0.000000</td>\n",
       "      <td>0.0</td>\n",
       "      <td>0.000000</td>\n",
       "      <td>0.0</td>\n",
       "      <td>0.0</td>\n",
       "      <td>0.000000</td>\n",
       "      <td>0.0</td>\n",
       "      <td>0.0</td>\n",
       "      <td>0.000000</td>\n",
       "      <td>0.0</td>\n",
       "      <td>BubbleRegion_2</td>\n",
       "      <td>0.961538</td>\n",
       "    </tr>\n",
       "    <tr>\n",
       "      <th>19</th>\n",
       "      <td>s20</td>\n",
       "      <td>True</td>\n",
       "      <td>234</td>\n",
       "      <td>1.0</td>\n",
       "      <td>0.0</td>\n",
       "      <td>0.0</td>\n",
       "      <td>0.000000</td>\n",
       "      <td>0.0</td>\n",
       "      <td>0.485294</td>\n",
       "      <td>0.0</td>\n",
       "      <td>0.0</td>\n",
       "      <td>0.000000</td>\n",
       "      <td>0.0</td>\n",
       "      <td>0.0</td>\n",
       "      <td>0.000000</td>\n",
       "      <td>0.0</td>\n",
       "      <td>BubbleRegion_12</td>\n",
       "      <td>1.000000</td>\n",
       "    </tr>\n",
       "    <tr>\n",
       "      <th>41</th>\n",
       "      <td>s42</td>\n",
       "      <td>True</td>\n",
       "      <td>53</td>\n",
       "      <td>1.0</td>\n",
       "      <td>0.0</td>\n",
       "      <td>0.0</td>\n",
       "      <td>0.000000</td>\n",
       "      <td>0.0</td>\n",
       "      <td>0.000000</td>\n",
       "      <td>0.0</td>\n",
       "      <td>0.0</td>\n",
       "      <td>0.000000</td>\n",
       "      <td>0.0</td>\n",
       "      <td>0.0</td>\n",
       "      <td>0.000000</td>\n",
       "      <td>0.0</td>\n",
       "      <td>BubbleRegion_18</td>\n",
       "      <td>0.478261</td>\n",
       "    </tr>\n",
       "    <tr>\n",
       "      <th>46</th>\n",
       "      <td>s47</td>\n",
       "      <td>True</td>\n",
       "      <td>6416</td>\n",
       "      <td>1.0</td>\n",
       "      <td>0.0</td>\n",
       "      <td>0.0</td>\n",
       "      <td>0.097401</td>\n",
       "      <td>0.0</td>\n",
       "      <td>0.042123</td>\n",
       "      <td>0.0</td>\n",
       "      <td>0.0</td>\n",
       "      <td>0.510648</td>\n",
       "      <td>0.0</td>\n",
       "      <td>0.0</td>\n",
       "      <td>0.197776</td>\n",
       "      <td>0.0</td>\n",
       "      <td>BubbleRegion_19</td>\n",
       "      <td>0.883808</td>\n",
       "    </tr>\n",
       "    <tr>\n",
       "      <th>47</th>\n",
       "      <td>s48</td>\n",
       "      <td>True</td>\n",
       "      <td>351</td>\n",
       "      <td>1.0</td>\n",
       "      <td>0.0</td>\n",
       "      <td>0.0</td>\n",
       "      <td>1.000000</td>\n",
       "      <td>0.0</td>\n",
       "      <td>0.000000</td>\n",
       "      <td>0.0</td>\n",
       "      <td>0.0</td>\n",
       "      <td>0.000000</td>\n",
       "      <td>0.0</td>\n",
       "      <td>0.0</td>\n",
       "      <td>0.000000</td>\n",
       "      <td>0.0</td>\n",
       "      <td>BubbleRegion_19</td>\n",
       "      <td>0.180685</td>\n",
       "    </tr>\n",
       "  </tbody>\n",
       "</table>\n",
       "</div>"
      ],
      "text/plain": [
       "   NodeID  IsSVNode  SeqLength  Jaccard_Cont_WiRv  Jaccard_Cont_WiIS6110  Jaccard_Cont_WiRv_InsSeqAndPhages  Jaccard_Cont_WiRv_PEPPEs  Jaccard_Cont_WiRv_InfoPathways  Jaccard_Cont_WiRv_ConservedHypo  Jaccard_Cont_WiRv_CellWallCellProc  Jaccard_Cont_WiRv_StableRNAs  Jaccard_Cont_WiRv_InterMetabolism  Jaccard_Cont_WiRv_RegProteins  Jaccard_Cont_WiRv_VirulenceDetoxAdaptation  Jaccard_Cont_WiRv_LipidMetabolism  Jaccard_Cont_WiRv_Unknown         BubbleID  MaxJC_ToOtherNode\n",
       "2      s3      True         56                1.0                    0.0                                0.0                  0.000000                             0.0                         0.000000                                 0.0                           0.0                           0.000000                            0.0                                         0.0                           0.000000                        0.0   BubbleRegion_2           0.961538\n",
       "19    s20      True        234                1.0                    0.0                                0.0                  0.000000                             0.0                         0.485294                                 0.0                           0.0                           0.000000                            0.0                                         0.0                           0.000000                        0.0  BubbleRegion_12           1.000000\n",
       "41    s42      True         53                1.0                    0.0                                0.0                  0.000000                             0.0                         0.000000                                 0.0                           0.0                           0.000000                            0.0                                         0.0                           0.000000                        0.0  BubbleRegion_18           0.478261\n",
       "46    s47      True       6416                1.0                    0.0                                0.0                  0.097401                             0.0                         0.042123                                 0.0                           0.0                           0.510648                            0.0                                         0.0                           0.197776                        0.0  BubbleRegion_19           0.883808\n",
       "47    s48      True        351                1.0                    0.0                                0.0                  1.000000                             0.0                         0.000000                                 0.0                           0.0                           0.000000                            0.0                                         0.0                           0.000000                        0.0  BubbleRegion_19           0.180685"
      ]
     },
     "execution_count": 94,
     "metadata": {},
     "output_type": "execute_result"
    }
   ],
   "source": [
    "MG_SVNodes_NoUnqSeq_DF.head()"
   ]
  },
  {
   "cell_type": "code",
   "execution_count": 95,
   "id": "b7602531-dd19-4f03-9d9f-3a9ae0ed3c4b",
   "metadata": {},
   "outputs": [
    {
     "data": {
      "text/html": [
       "<div>\n",
       "<style scoped>\n",
       "    .dataframe tbody tr th:only-of-type {\n",
       "        vertical-align: middle;\n",
       "    }\n",
       "\n",
       "    .dataframe tbody tr th {\n",
       "        vertical-align: top;\n",
       "    }\n",
       "\n",
       "    .dataframe thead th {\n",
       "        text-align: right;\n",
       "    }\n",
       "</style>\n",
       "<table border=\"1\" class=\"dataframe\">\n",
       "  <thead>\n",
       "    <tr style=\"text-align: right;\">\n",
       "      <th></th>\n",
       "      <th>NodeID</th>\n",
       "      <th>IsSVNode</th>\n",
       "      <th>SeqLength</th>\n",
       "      <th>Jaccard_Cont_WiRv</th>\n",
       "      <th>Jaccard_Cont_WiIS6110</th>\n",
       "      <th>Jaccard_Cont_WiRv_InsSeqAndPhages</th>\n",
       "      <th>Jaccard_Cont_WiRv_PEPPEs</th>\n",
       "      <th>Jaccard_Cont_WiRv_InfoPathways</th>\n",
       "      <th>Jaccard_Cont_WiRv_ConservedHypo</th>\n",
       "      <th>Jaccard_Cont_WiRv_CellWallCellProc</th>\n",
       "      <th>Jaccard_Cont_WiRv_StableRNAs</th>\n",
       "      <th>Jaccard_Cont_WiRv_InterMetabolism</th>\n",
       "      <th>Jaccard_Cont_WiRv_RegProteins</th>\n",
       "      <th>Jaccard_Cont_WiRv_VirulenceDetoxAdaptation</th>\n",
       "      <th>Jaccard_Cont_WiRv_LipidMetabolism</th>\n",
       "      <th>Jaccard_Cont_WiRv_Unknown</th>\n",
       "      <th>BubbleID</th>\n",
       "      <th>MaxJC_ToOtherNode</th>\n",
       "    </tr>\n",
       "  </thead>\n",
       "  <tbody>\n",
       "    <tr>\n",
       "      <th>6</th>\n",
       "      <td>s7</td>\n",
       "      <td>True</td>\n",
       "      <td>1876</td>\n",
       "      <td>1.0</td>\n",
       "      <td>0.0</td>\n",
       "      <td>0.0</td>\n",
       "      <td>0.0</td>\n",
       "      <td>0.000000</td>\n",
       "      <td>0.206934</td>\n",
       "      <td>0.000000</td>\n",
       "      <td>0.0</td>\n",
       "      <td>0.000000</td>\n",
       "      <td>0.601842</td>\n",
       "      <td>0.0</td>\n",
       "      <td>0.0</td>\n",
       "      <td>0.0</td>\n",
       "      <td>BubbleRegion_4</td>\n",
       "      <td>0.006501</td>\n",
       "    </tr>\n",
       "    <tr>\n",
       "      <th>15</th>\n",
       "      <td>s16</td>\n",
       "      <td>True</td>\n",
       "      <td>904</td>\n",
       "      <td>1.0</td>\n",
       "      <td>0.0</td>\n",
       "      <td>0.0</td>\n",
       "      <td>0.0</td>\n",
       "      <td>0.000000</td>\n",
       "      <td>0.000000</td>\n",
       "      <td>1.000000</td>\n",
       "      <td>0.0</td>\n",
       "      <td>0.000000</td>\n",
       "      <td>0.000000</td>\n",
       "      <td>0.0</td>\n",
       "      <td>0.0</td>\n",
       "      <td>0.0</td>\n",
       "      <td>BubbleRegion_11</td>\n",
       "      <td>0.000000</td>\n",
       "    </tr>\n",
       "    <tr>\n",
       "      <th>17</th>\n",
       "      <td>s18</td>\n",
       "      <td>True</td>\n",
       "      <td>732</td>\n",
       "      <td>1.0</td>\n",
       "      <td>0.0</td>\n",
       "      <td>0.0</td>\n",
       "      <td>0.0</td>\n",
       "      <td>0.040698</td>\n",
       "      <td>0.000000</td>\n",
       "      <td>0.000000</td>\n",
       "      <td>0.0</td>\n",
       "      <td>0.059593</td>\n",
       "      <td>0.000000</td>\n",
       "      <td>0.0</td>\n",
       "      <td>0.0</td>\n",
       "      <td>0.0</td>\n",
       "      <td>BubbleRegion_12</td>\n",
       "      <td>0.000000</td>\n",
       "    </tr>\n",
       "    <tr>\n",
       "      <th>18</th>\n",
       "      <td>s19</td>\n",
       "      <td>True</td>\n",
       "      <td>687</td>\n",
       "      <td>1.0</td>\n",
       "      <td>0.0</td>\n",
       "      <td>0.0</td>\n",
       "      <td>0.0</td>\n",
       "      <td>0.922374</td>\n",
       "      <td>0.045662</td>\n",
       "      <td>0.000000</td>\n",
       "      <td>0.0</td>\n",
       "      <td>0.000000</td>\n",
       "      <td>0.000000</td>\n",
       "      <td>0.0</td>\n",
       "      <td>0.0</td>\n",
       "      <td>0.0</td>\n",
       "      <td>BubbleRegion_12</td>\n",
       "      <td>0.045662</td>\n",
       "    </tr>\n",
       "    <tr>\n",
       "      <th>20</th>\n",
       "      <td>s21</td>\n",
       "      <td>True</td>\n",
       "      <td>2557</td>\n",
       "      <td>1.0</td>\n",
       "      <td>0.0</td>\n",
       "      <td>0.0</td>\n",
       "      <td>0.0</td>\n",
       "      <td>0.000000</td>\n",
       "      <td>0.103285</td>\n",
       "      <td>0.784725</td>\n",
       "      <td>0.0</td>\n",
       "      <td>0.000000</td>\n",
       "      <td>0.000000</td>\n",
       "      <td>0.0</td>\n",
       "      <td>0.0</td>\n",
       "      <td>0.0</td>\n",
       "      <td>BubbleRegion_12</td>\n",
       "      <td>0.003166</td>\n",
       "    </tr>\n",
       "  </tbody>\n",
       "</table>\n",
       "</div>"
      ],
      "text/plain": [
       "   NodeID  IsSVNode  SeqLength  Jaccard_Cont_WiRv  Jaccard_Cont_WiIS6110  Jaccard_Cont_WiRv_InsSeqAndPhages  Jaccard_Cont_WiRv_PEPPEs  Jaccard_Cont_WiRv_InfoPathways  Jaccard_Cont_WiRv_ConservedHypo  Jaccard_Cont_WiRv_CellWallCellProc  Jaccard_Cont_WiRv_StableRNAs  Jaccard_Cont_WiRv_InterMetabolism  Jaccard_Cont_WiRv_RegProteins  Jaccard_Cont_WiRv_VirulenceDetoxAdaptation  Jaccard_Cont_WiRv_LipidMetabolism  Jaccard_Cont_WiRv_Unknown         BubbleID  MaxJC_ToOtherNode\n",
       "6      s7      True       1876                1.0                    0.0                                0.0                       0.0                        0.000000                         0.206934                            0.000000                           0.0                           0.000000                       0.601842                                         0.0                                0.0                        0.0   BubbleRegion_4           0.006501\n",
       "15    s16      True        904                1.0                    0.0                                0.0                       0.0                        0.000000                         0.000000                            1.000000                           0.0                           0.000000                       0.000000                                         0.0                                0.0                        0.0  BubbleRegion_11           0.000000\n",
       "17    s18      True        732                1.0                    0.0                                0.0                       0.0                        0.040698                         0.000000                            0.000000                           0.0                           0.059593                       0.000000                                         0.0                                0.0                        0.0  BubbleRegion_12           0.000000\n",
       "18    s19      True        687                1.0                    0.0                                0.0                       0.0                        0.922374                         0.045662                            0.000000                           0.0                           0.000000                       0.000000                                         0.0                                0.0                        0.0  BubbleRegion_12           0.045662\n",
       "20    s21      True       2557                1.0                    0.0                                0.0                       0.0                        0.000000                         0.103285                            0.784725                           0.0                           0.000000                       0.000000                                         0.0                                0.0                        0.0  BubbleRegion_12           0.003166"
      ]
     },
     "execution_count": 95,
     "metadata": {},
     "output_type": "execute_result"
    }
   ],
   "source": [
    "MG_SVNodes_UnqSeq_DF.head()"
   ]
  },
  {
   "cell_type": "code",
   "execution_count": 96,
   "id": "12cae73b-f851-4bd5-91c8-549e2e6d21e1",
   "metadata": {},
   "outputs": [
    {
     "data": {
      "text/html": [
       "<div>\n",
       "<style scoped>\n",
       "    .dataframe tbody tr th:only-of-type {\n",
       "        vertical-align: middle;\n",
       "    }\n",
       "\n",
       "    .dataframe tbody tr th {\n",
       "        vertical-align: top;\n",
       "    }\n",
       "\n",
       "    .dataframe thead th {\n",
       "        text-align: right;\n",
       "    }\n",
       "</style>\n",
       "<table border=\"1\" class=\"dataframe\">\n",
       "  <thead>\n",
       "    <tr style=\"text-align: right;\">\n",
       "      <th></th>\n",
       "      <th>NodeID</th>\n",
       "      <th>IsSVNode</th>\n",
       "      <th>SeqLength</th>\n",
       "      <th>Jaccard_Cont_WiRv</th>\n",
       "      <th>Jaccard_Cont_WiIS6110</th>\n",
       "      <th>Jaccard_Cont_WiRv_InsSeqAndPhages</th>\n",
       "      <th>Jaccard_Cont_WiRv_PEPPEs</th>\n",
       "      <th>Jaccard_Cont_WiRv_InfoPathways</th>\n",
       "      <th>Jaccard_Cont_WiRv_ConservedHypo</th>\n",
       "      <th>Jaccard_Cont_WiRv_CellWallCellProc</th>\n",
       "      <th>Jaccard_Cont_WiRv_StableRNAs</th>\n",
       "      <th>Jaccard_Cont_WiRv_InterMetabolism</th>\n",
       "      <th>Jaccard_Cont_WiRv_RegProteins</th>\n",
       "      <th>Jaccard_Cont_WiRv_VirulenceDetoxAdaptation</th>\n",
       "      <th>Jaccard_Cont_WiRv_LipidMetabolism</th>\n",
       "      <th>Jaccard_Cont_WiRv_Unknown</th>\n",
       "      <th>BubbleID</th>\n",
       "      <th>MaxJC_ToOtherNode</th>\n",
       "    </tr>\n",
       "  </thead>\n",
       "  <tbody>\n",
       "    <tr>\n",
       "      <th>2</th>\n",
       "      <td>s3</td>\n",
       "      <td>True</td>\n",
       "      <td>56</td>\n",
       "      <td>1.0</td>\n",
       "      <td>0.0</td>\n",
       "      <td>0.0</td>\n",
       "      <td>0.0</td>\n",
       "      <td>0.000000</td>\n",
       "      <td>0.000000</td>\n",
       "      <td>0.0</td>\n",
       "      <td>0.0</td>\n",
       "      <td>0.000000</td>\n",
       "      <td>0.000000</td>\n",
       "      <td>0.0</td>\n",
       "      <td>0.0</td>\n",
       "      <td>0.0</td>\n",
       "      <td>BubbleRegion_2</td>\n",
       "      <td>0.961538</td>\n",
       "    </tr>\n",
       "    <tr>\n",
       "      <th>6</th>\n",
       "      <td>s7</td>\n",
       "      <td>True</td>\n",
       "      <td>1876</td>\n",
       "      <td>1.0</td>\n",
       "      <td>0.0</td>\n",
       "      <td>0.0</td>\n",
       "      <td>0.0</td>\n",
       "      <td>0.000000</td>\n",
       "      <td>0.206934</td>\n",
       "      <td>0.0</td>\n",
       "      <td>0.0</td>\n",
       "      <td>0.000000</td>\n",
       "      <td>0.601842</td>\n",
       "      <td>0.0</td>\n",
       "      <td>0.0</td>\n",
       "      <td>0.0</td>\n",
       "      <td>BubbleRegion_4</td>\n",
       "      <td>0.006501</td>\n",
       "    </tr>\n",
       "    <tr>\n",
       "      <th>15</th>\n",
       "      <td>s16</td>\n",
       "      <td>True</td>\n",
       "      <td>904</td>\n",
       "      <td>1.0</td>\n",
       "      <td>0.0</td>\n",
       "      <td>0.0</td>\n",
       "      <td>0.0</td>\n",
       "      <td>0.000000</td>\n",
       "      <td>0.000000</td>\n",
       "      <td>1.0</td>\n",
       "      <td>0.0</td>\n",
       "      <td>0.000000</td>\n",
       "      <td>0.000000</td>\n",
       "      <td>0.0</td>\n",
       "      <td>0.0</td>\n",
       "      <td>0.0</td>\n",
       "      <td>BubbleRegion_11</td>\n",
       "      <td>0.000000</td>\n",
       "    </tr>\n",
       "    <tr>\n",
       "      <th>17</th>\n",
       "      <td>s18</td>\n",
       "      <td>True</td>\n",
       "      <td>732</td>\n",
       "      <td>1.0</td>\n",
       "      <td>0.0</td>\n",
       "      <td>0.0</td>\n",
       "      <td>0.0</td>\n",
       "      <td>0.040698</td>\n",
       "      <td>0.000000</td>\n",
       "      <td>0.0</td>\n",
       "      <td>0.0</td>\n",
       "      <td>0.059593</td>\n",
       "      <td>0.000000</td>\n",
       "      <td>0.0</td>\n",
       "      <td>0.0</td>\n",
       "      <td>0.0</td>\n",
       "      <td>BubbleRegion_12</td>\n",
       "      <td>0.000000</td>\n",
       "    </tr>\n",
       "    <tr>\n",
       "      <th>18</th>\n",
       "      <td>s19</td>\n",
       "      <td>True</td>\n",
       "      <td>687</td>\n",
       "      <td>1.0</td>\n",
       "      <td>0.0</td>\n",
       "      <td>0.0</td>\n",
       "      <td>0.0</td>\n",
       "      <td>0.922374</td>\n",
       "      <td>0.045662</td>\n",
       "      <td>0.0</td>\n",
       "      <td>0.0</td>\n",
       "      <td>0.000000</td>\n",
       "      <td>0.000000</td>\n",
       "      <td>0.0</td>\n",
       "      <td>0.0</td>\n",
       "      <td>0.0</td>\n",
       "      <td>BubbleRegion_12</td>\n",
       "      <td>0.045662</td>\n",
       "    </tr>\n",
       "  </tbody>\n",
       "</table>\n",
       "</div>"
      ],
      "text/plain": [
       "   NodeID  IsSVNode  SeqLength  Jaccard_Cont_WiRv  Jaccard_Cont_WiIS6110  Jaccard_Cont_WiRv_InsSeqAndPhages  Jaccard_Cont_WiRv_PEPPEs  Jaccard_Cont_WiRv_InfoPathways  Jaccard_Cont_WiRv_ConservedHypo  Jaccard_Cont_WiRv_CellWallCellProc  Jaccard_Cont_WiRv_StableRNAs  Jaccard_Cont_WiRv_InterMetabolism  Jaccard_Cont_WiRv_RegProteins  Jaccard_Cont_WiRv_VirulenceDetoxAdaptation  Jaccard_Cont_WiRv_LipidMetabolism  Jaccard_Cont_WiRv_Unknown         BubbleID  MaxJC_ToOtherNode\n",
       "2      s3      True         56                1.0                    0.0                                0.0                       0.0                        0.000000                         0.000000                                 0.0                           0.0                           0.000000                       0.000000                                         0.0                                0.0                        0.0   BubbleRegion_2           0.961538\n",
       "6      s7      True       1876                1.0                    0.0                                0.0                       0.0                        0.000000                         0.206934                                 0.0                           0.0                           0.000000                       0.601842                                         0.0                                0.0                        0.0   BubbleRegion_4           0.006501\n",
       "15    s16      True        904                1.0                    0.0                                0.0                       0.0                        0.000000                         0.000000                                 1.0                           0.0                           0.000000                       0.000000                                         0.0                                0.0                        0.0  BubbleRegion_11           0.000000\n",
       "17    s18      True        732                1.0                    0.0                                0.0                       0.0                        0.040698                         0.000000                                 0.0                           0.0                           0.059593                       0.000000                                         0.0                                0.0                        0.0  BubbleRegion_12           0.000000\n",
       "18    s19      True        687                1.0                    0.0                                0.0                       0.0                        0.922374                         0.045662                                 0.0                           0.0                           0.000000                       0.000000                                         0.0                                0.0                        0.0  BubbleRegion_12           0.045662"
      ]
     },
     "execution_count": 96,
     "metadata": {},
     "output_type": "execute_result"
    }
   ],
   "source": [
    "MG_SVNodes_PASS_DF.head()"
   ]
  },
  {
   "cell_type": "code",
   "execution_count": null,
   "id": "6d6ec488-d6f7-4044-acd7-5c8dad2e65d1",
   "metadata": {},
   "outputs": [],
   "source": [
    " "
   ]
  },
  {
   "cell_type": "markdown",
   "id": "d3c375c0-2bb2-4a93-8fda-0e2c4d2dc316",
   "metadata": {},
   "source": [
    "# Classify Nodes based on match"
   ]
  },
  {
   "cell_type": "markdown",
   "id": "b8e5d6b4-4215-4e8c-af93-4fb35f69136d",
   "metadata": {},
   "source": [
    "### Define functions"
   ]
  },
  {
   "cell_type": "code",
   "execution_count": 97,
   "id": "ec51c06f-f64b-4b70-b27c-f8f827325e4c",
   "metadata": {},
   "outputs": [],
   "source": [
    "# Define the Jaccard index columns corresponding to gene categories\n",
    "listOf_JC_Cols = [\n",
    "    \"Jaccard_Cont_WiRv_InsSeqAndPhages\",\n",
    "    \"Jaccard_Cont_WiRv_PEPPEs\",\n",
    "    \"Jaccard_Cont_WiRv_InfoPathways\",\n",
    "    \"Jaccard_Cont_WiRv_ConservedHypo\",\n",
    "    \"Jaccard_Cont_WiRv_CellWallCellProc\",\n",
    "    \"Jaccard_Cont_WiRv_StableRNAs\",\n",
    "    \"Jaccard_Cont_WiRv_InterMetabolism\",\n",
    "    \"Jaccard_Cont_WiRv_RegProteins\",\n",
    "    \"Jaccard_Cont_WiRv_VirulenceDetoxAdaptation\",\n",
    "    \"Jaccard_Cont_WiRv_LipidMetabolism\",\n",
    "    \"Jaccard_Cont_WiRv_Unknown\"\n",
    "]\n",
    "\n",
    "listOf_JC_Cols = [\n",
    "    \"Jaccard_Cont_WiRv_InsSeqAndPhages\",\n",
    "    \"Jaccard_Cont_WiRv_PEPPEs\",\n",
    "    \"Jaccard_Cont_WiRv_InfoPathways\",\n",
    "    \"Jaccard_Cont_WiRv_ConservedHypo\",\n",
    "    \"Jaccard_Cont_WiRv_CellWallCellProc\",\n",
    "    \"Jaccard_Cont_WiRv_StableRNAs\",\n",
    "    \"Jaccard_Cont_WiRv_InterMetabolism\",\n",
    "    \"Jaccard_Cont_WiRv_RegProteins\",\n",
    "    \"Jaccard_Cont_WiRv_VirulenceDetoxAdaptation\",\n",
    "    \"Jaccard_Cont_WiRv_LipidMetabolism\",\n",
    "]\n",
    "\n",
    "JC_Cols_ToCategoryName = {\n",
    "    \"Jaccard_Cont_WiRv_PEPPEs\": \"PE/PPE\",\n",
    "    \"Jaccard_Cont_WiRv_CellWallCellProc\": \"cell wall and cell processes\",\n",
    "    \"Jaccard_Cont_WiRv_ConservedHypo\": \"conserved hypotheticals\",\n",
    "    \"Jaccard_Cont_WiRv_InfoPathways\": \"information pathways\",\n",
    "    \"Jaccard_Cont_WiRv_InsSeqAndPhages\": \"insertion seqs and phages\",\n",
    "    \"Jaccard_Cont_WiRv_StableRNAs\": \"stable RNAs\",\n",
    "    \"Jaccard_Cont_WiRv_InterMetabolism\": \"intermediary metabolism and respiration\",\n",
    "    \"Jaccard_Cont_WiRv_RegProteins\": \"regulatory proteins\",\n",
    "    \"Jaccard_Cont_WiRv_VirulenceDetoxAdaptation\": \"virulence, detoxification, adaptation\",\n",
    "    \"Jaccard_Cont_WiRv_LipidMetabolism\": \"lipid metabolism\",\n",
    "    \"Jaccard_Cont_WiRv_Unknown\": \"unknown\"\n",
    "}\n"
   ]
  },
  {
   "cell_type": "code",
   "execution_count": 98,
   "id": "e1e67650-812e-42f8-9e2e-2a36133b3600",
   "metadata": {},
   "outputs": [],
   "source": [
    "# Define function to classify a node based on a threshold\n",
    "def classify_node(row, threshold=0.25):\n",
    "    filtered_matches = {col: row[col] for col in listOf_JC_Cols if row[col] >= threshold}\n",
    "    if filtered_matches:\n",
    "        max_value = max(filtered_matches.values())\n",
    "        strongest_categories = [\n",
    "            col for col, value in filtered_matches.items() if value == max_value\n",
    "        ]\n",
    "        return strongest_categories\n",
    "    return None  # No valid matches\n",
    "\n",
    "\n",
    "\n",
    "# Define function to summarize node categories\n",
    "def summarize_sv_categories(sv_nodes_df, listOf_JC_Cols):\n",
    "    category_summary = {}\n",
    "    for col in listOf_JC_Cols:\n",
    "        total_length = sv_nodes_df.loc[\n",
    "            sv_nodes_df[\"Strongest_Match\"].apply(\n",
    "                lambda matches: col in matches if matches else False\n",
    "            ),\n",
    "            \"SeqLength\"\n",
    "        ].sum()\n",
    "        node_count = sv_nodes_df[\"Strongest_Match\"].apply(\n",
    "            lambda matches: col in matches if matches else False\n",
    "        ).sum()\n",
    "        category_summary[col] = {\"Total Length\": total_length, \"Node Count\": node_count}\n",
    "\n",
    "    # Add \"NoMatch\" to the summary\n",
    "    no_match_length = sv_nodes_df.loc[\n",
    "        sv_nodes_df[\"Strongest_Match\"].isnull(), \"SeqLength\"\n",
    "    ].sum()\n",
    "    no_match_count = sv_nodes_df[\"Strongest_Match\"].isnull().sum()\n",
    "\n",
    "    category_summary[\"NoMatch\"] = {\n",
    "        \"Total Length\": no_match_length,\n",
    "        \"Node Count\": no_match_count,\n",
    "    }\n",
    "\n",
    "    # Convert to DataFrame\n",
    "    summary_df = pd.DataFrame.from_dict(category_summary, orient=\"index\")\n",
    "    summary_df[\"Relative Size (%)\"] = (\n",
    "        summary_df[\"Total Length\"] / summary_df[\"Total Length\"].sum() * 100\n",
    "    ).round(1)\n",
    "\n",
    "    return summary_df\n",
    "\n",
    "\n",
    "# Update the summarize_sv_categories function to include \"Functional_Category\"\n",
    "def summarize_sv_categories_with_functional_category(sv_nodes_df, listOf_JC_Cols):\n",
    "    category_summary = {}\n",
    "    category_mapping = {\n",
    "        \"Jaccard_Cont_WiRv_PEPPEs\": \"PE/PPE\",\n",
    "        \"Jaccard_Cont_WiRv_CellWallCellProc\": \"cell wall and cell processes\",\n",
    "        \"Jaccard_Cont_WiRv_ConservedHypo\": \"conserved hypotheticals\",\n",
    "        \"Jaccard_Cont_WiRv_InfoPathways\": \"information pathways\",\n",
    "        \"Jaccard_Cont_WiRv_InsSeqAndPhages\": \"insertion seqs and phages\",\n",
    "        \"Jaccard_Cont_WiRv_StableRNAs\": \"stable RNAs\",\n",
    "        \"Jaccard_Cont_WiRv_InterMetabolism\": \"intermediary metabolism and respiration\",\n",
    "        \"Jaccard_Cont_WiRv_RegProteins\": \"regulatory proteins\",\n",
    "        \"Jaccard_Cont_WiRv_VirulenceDetoxAdaptation\": \"virulence, detoxification, adaptation\",\n",
    "        \"Jaccard_Cont_WiRv_LipidMetabolism\": \"lipid metabolism\",\n",
    "        \"Jaccard_Cont_WiRv_Unknown\": \"unknown\",\n",
    "    }\n",
    "\n",
    "    for col in listOf_JC_Cols:\n",
    "        total_length = sv_nodes_df.loc[\n",
    "            sv_nodes_df[\"Strongest_Match\"].apply(\n",
    "                lambda matches: col in matches if matches else False\n",
    "            ),\n",
    "            \"SeqLength\"\n",
    "        ].sum()\n",
    "        node_count = sv_nodes_df[\"Strongest_Match\"].apply(\n",
    "            lambda matches: col in matches if matches else False\n",
    "        ).sum()\n",
    "        category_summary[col] = {\n",
    "            \"Functional_Category\": category_mapping.get(col, \"unknown\"),\n",
    "            \"Total Length\": total_length,\n",
    "            \"Node Count\": node_count,\n",
    "        }\n",
    "\n",
    "    # Add \"NoMatch\" to the summary\n",
    "    no_match_length = sv_nodes_df.loc[\n",
    "        sv_nodes_df[\"Strongest_Match\"].isnull(), \"SeqLength\"\n",
    "    ].sum()\n",
    "    no_match_count = sv_nodes_df[\"Strongest_Match\"].isnull().sum()\n",
    "\n",
    "    category_summary[\"NoMatch\"] = {\n",
    "        \"Functional_Category\": \"NoMatch\",\n",
    "        \"Total Length\": no_match_length,\n",
    "        \"Node Count\": no_match_count,\n",
    "    }\n",
    "\n",
    "    # Convert to DataFrame\n",
    "    summary_df = pd.DataFrame.from_dict(category_summary, orient=\"index\")\n",
    "    summary_df[\"Relative Size (%)\"] = (\n",
    "        summary_df[\"Total Length\"] / summary_df[\"Total Length\"].sum() * 100\n",
    "    ).round(2)\n",
    "\n",
    "    return summary_df\n"
   ]
  },
  {
   "cell_type": "code",
   "execution_count": null,
   "id": "5431b2fc-6285-4458-b773-89f67e4366a9",
   "metadata": {},
   "outputs": [],
   "source": []
  },
  {
   "cell_type": "markdown",
   "id": "deb3255b-a2a8-42bb-bbd3-445f27db1621",
   "metadata": {},
   "source": [
    "###  Step 1: Look at relative size of gene categories in H73R"
   ]
  },
  {
   "cell_type": "code",
   "execution_count": 99,
   "id": "ef74f0a9-b28b-417f-ac93-3c89a829cdd9",
   "metadata": {},
   "outputs": [],
   "source": [
    "# Correctly reference \"Start\" and \"End\" columns to calculate gene lengths\n",
    "H37Rv_GeneInfo_Subset_DF = H37Rv_GenomeAnno_Genes_DF[\n",
    "    [\"Functional_Category\", \"Start\", \"End\"]\n",
    "].copy()\n",
    "H37Rv_GeneInfo_Subset_DF[\"Gene_Length\"] = (\n",
    "    H37Rv_GeneInfo_Subset_DF[\"End\"] - H37Rv_GeneInfo_Subset_DF[\"Start\"] + 1\n",
    ")\n",
    "\n",
    "# Group by functional category and calculate total length and relative fractions\n",
    "gene_cat_lengths = (\n",
    "    H37Rv_GeneInfo_Subset_DF.groupby(\"Functional_Category\")[\"Gene_Length\"]\n",
    "    .sum()\n",
    "    .reset_index()\n",
    ")\n",
    "\n",
    "gene_cat_lengths[\"Relative_Fraction\"] = (\n",
    "    gene_cat_lengths[\"Gene_Length\"] / gene_cat_lengths[\"Gene_Length\"].sum()\n",
    ")\n",
    "\n",
    "gene_cat_lengths[\"Percent_RefGeneLengths\"] = (gene_cat_lengths[\"Relative_Fraction\"] * 100).round(2)\n",
    "\n",
    "\n",
    "Gene_Cat_RefPerc = gene_cat_lengths[[\"Functional_Category\", \"Percent_RefGeneLengths\"]]"
   ]
  },
  {
   "cell_type": "code",
   "execution_count": 100,
   "id": "a8f48259-6e22-4c74-89a5-639567713253",
   "metadata": {},
   "outputs": [
    {
     "data": {
      "text/html": [
       "<div>\n",
       "<style scoped>\n",
       "    .dataframe tbody tr th:only-of-type {\n",
       "        vertical-align: middle;\n",
       "    }\n",
       "\n",
       "    .dataframe tbody tr th {\n",
       "        vertical-align: top;\n",
       "    }\n",
       "\n",
       "    .dataframe thead th {\n",
       "        text-align: right;\n",
       "    }\n",
       "</style>\n",
       "<table border=\"1\" class=\"dataframe\">\n",
       "  <thead>\n",
       "    <tr style=\"text-align: right;\">\n",
       "      <th></th>\n",
       "      <th>Functional_Category</th>\n",
       "      <th>Percent_RefGeneLengths</th>\n",
       "    </tr>\n",
       "  </thead>\n",
       "  <tbody>\n",
       "    <tr>\n",
       "      <th>0</th>\n",
       "      <td>PE/PPE</td>\n",
       "      <td>7.01</td>\n",
       "    </tr>\n",
       "    <tr>\n",
       "      <th>1</th>\n",
       "      <td>cell wall and cell processes</td>\n",
       "      <td>20.00</td>\n",
       "    </tr>\n",
       "    <tr>\n",
       "      <th>2</th>\n",
       "      <td>conserved hypotheticals</td>\n",
       "      <td>18.77</td>\n",
       "    </tr>\n",
       "    <tr>\n",
       "      <th>3</th>\n",
       "      <td>information pathways</td>\n",
       "      <td>6.76</td>\n",
       "    </tr>\n",
       "    <tr>\n",
       "      <th>4</th>\n",
       "      <td>insertion seqs and phages</td>\n",
       "      <td>2.69</td>\n",
       "    </tr>\n",
       "    <tr>\n",
       "      <th>5</th>\n",
       "      <td>intermediary metabolism and respiration</td>\n",
       "      <td>25.75</td>\n",
       "    </tr>\n",
       "    <tr>\n",
       "      <th>6</th>\n",
       "      <td>lipid metabolism</td>\n",
       "      <td>10.53</td>\n",
       "    </tr>\n",
       "    <tr>\n",
       "      <th>7</th>\n",
       "      <td>regulatory proteins</td>\n",
       "      <td>4.18</td>\n",
       "    </tr>\n",
       "    <tr>\n",
       "      <th>8</th>\n",
       "      <td>stable RNAs</td>\n",
       "      <td>0.20</td>\n",
       "    </tr>\n",
       "    <tr>\n",
       "      <th>9</th>\n",
       "      <td>unknown</td>\n",
       "      <td>0.21</td>\n",
       "    </tr>\n",
       "    <tr>\n",
       "      <th>10</th>\n",
       "      <td>virulence, detoxification, adaptation</td>\n",
       "      <td>3.91</td>\n",
       "    </tr>\n",
       "  </tbody>\n",
       "</table>\n",
       "</div>"
      ],
      "text/plain": [
       "                        Functional_Category  Percent_RefGeneLengths\n",
       "0                                    PE/PPE                    7.01\n",
       "1              cell wall and cell processes                   20.00\n",
       "2                   conserved hypotheticals                   18.77\n",
       "3                      information pathways                    6.76\n",
       "4                 insertion seqs and phages                    2.69\n",
       "5   intermediary metabolism and respiration                   25.75\n",
       "6                          lipid metabolism                   10.53\n",
       "7                       regulatory proteins                    4.18\n",
       "8                               stable RNAs                    0.20\n",
       "9                                   unknown                    0.21\n",
       "10    virulence, detoxification, adaptation                    3.91"
      ]
     },
     "execution_count": 100,
     "metadata": {},
     "output_type": "execute_result"
    }
   ],
   "source": [
    "Gene_Cat_RefPerc"
   ]
  },
  {
   "cell_type": "code",
   "execution_count": null,
   "id": "130bab40-10d3-488d-a6e1-78cf651c1b9b",
   "metadata": {},
   "outputs": [],
   "source": []
  },
  {
   "cell_type": "markdown",
   "id": "df27b14b-f5d8-4ddb-975b-5b5b438eed2d",
   "metadata": {},
   "source": [
    "### Step 2: Classify nodes"
   ]
  },
  {
   "cell_type": "code",
   "execution_count": 101,
   "id": "20188e2e-cab0-4419-a7b4-1a4e9081fb82",
   "metadata": {},
   "outputs": [],
   "source": [
    "# Apply classification to the main DataFrame\n",
    "threshold = 0.5  # Set the classification threshold\n",
    "MG_Nodes_KmerComp_DF[\"Strongest_Match\"] = MG_Nodes_KmerComp_DF.apply(\n",
    "    lambda row: classify_node(row, threshold), axis=1\n",
    ")"
   ]
  },
  {
   "cell_type": "code",
   "execution_count": 102,
   "id": "7823f37c-c566-4c63-960f-411b6885b010",
   "metadata": {},
   "outputs": [],
   "source": [
    "# Filter SV Nodes based on the queries provided\n",
    "MG_SVNodes_PASS_DF = MG_Nodes_KmerComp_DF.query(\"IsSVNode == True and SeqLength >= 31\")\n",
    "\n",
    "MG_SVNodes_UnqSeq_DF = MG_SVNodes_PASS_DF.query(\"MaxJC_ToOtherNode < 0.05\")\n",
    "MG_SVNodes_UnqSeq_UnqToRv_DF = MG_SVNodes_UnqSeq_DF.query(\"Jaccard_Cont_WiRv < 0.05\")\n",
    "MG_SVNodes_NoUnqSeq_DF = MG_SVNodes_PASS_DF.query(\"MaxJC_ToOtherNode >= 0.05\")\n"
   ]
  },
  {
   "cell_type": "code",
   "execution_count": 103,
   "id": "239b3918-11d8-44a2-b634-4d80371ecb95",
   "metadata": {},
   "outputs": [
    {
     "data": {
      "text/html": [
       "<div>\n",
       "<style scoped>\n",
       "    .dataframe tbody tr th:only-of-type {\n",
       "        vertical-align: middle;\n",
       "    }\n",
       "\n",
       "    .dataframe tbody tr th {\n",
       "        vertical-align: top;\n",
       "    }\n",
       "\n",
       "    .dataframe thead th {\n",
       "        text-align: right;\n",
       "    }\n",
       "</style>\n",
       "<table border=\"1\" class=\"dataframe\">\n",
       "  <thead>\n",
       "    <tr style=\"text-align: right;\">\n",
       "      <th></th>\n",
       "      <th>Functional_Category</th>\n",
       "      <th>Percent_RefGeneLengths</th>\n",
       "    </tr>\n",
       "  </thead>\n",
       "  <tbody>\n",
       "    <tr>\n",
       "      <th>0</th>\n",
       "      <td>PE/PPE</td>\n",
       "      <td>7.01</td>\n",
       "    </tr>\n",
       "    <tr>\n",
       "      <th>1</th>\n",
       "      <td>cell wall and cell processes</td>\n",
       "      <td>20.00</td>\n",
       "    </tr>\n",
       "    <tr>\n",
       "      <th>2</th>\n",
       "      <td>conserved hypotheticals</td>\n",
       "      <td>18.77</td>\n",
       "    </tr>\n",
       "    <tr>\n",
       "      <th>3</th>\n",
       "      <td>information pathways</td>\n",
       "      <td>6.76</td>\n",
       "    </tr>\n",
       "    <tr>\n",
       "      <th>4</th>\n",
       "      <td>insertion seqs and phages</td>\n",
       "      <td>2.69</td>\n",
       "    </tr>\n",
       "    <tr>\n",
       "      <th>5</th>\n",
       "      <td>intermediary metabolism and respiration</td>\n",
       "      <td>25.75</td>\n",
       "    </tr>\n",
       "    <tr>\n",
       "      <th>6</th>\n",
       "      <td>lipid metabolism</td>\n",
       "      <td>10.53</td>\n",
       "    </tr>\n",
       "    <tr>\n",
       "      <th>7</th>\n",
       "      <td>regulatory proteins</td>\n",
       "      <td>4.18</td>\n",
       "    </tr>\n",
       "    <tr>\n",
       "      <th>8</th>\n",
       "      <td>stable RNAs</td>\n",
       "      <td>0.20</td>\n",
       "    </tr>\n",
       "    <tr>\n",
       "      <th>9</th>\n",
       "      <td>unknown</td>\n",
       "      <td>0.21</td>\n",
       "    </tr>\n",
       "    <tr>\n",
       "      <th>10</th>\n",
       "      <td>virulence, detoxification, adaptation</td>\n",
       "      <td>3.91</td>\n",
       "    </tr>\n",
       "  </tbody>\n",
       "</table>\n",
       "</div>"
      ],
      "text/plain": [
       "                        Functional_Category  Percent_RefGeneLengths\n",
       "0                                    PE/PPE                    7.01\n",
       "1              cell wall and cell processes                   20.00\n",
       "2                   conserved hypotheticals                   18.77\n",
       "3                      information pathways                    6.76\n",
       "4                 insertion seqs and phages                    2.69\n",
       "5   intermediary metabolism and respiration                   25.75\n",
       "6                          lipid metabolism                   10.53\n",
       "7                       regulatory proteins                    4.18\n",
       "8                               stable RNAs                    0.20\n",
       "9                                   unknown                    0.21\n",
       "10    virulence, detoxification, adaptation                    3.91"
      ]
     },
     "execution_count": 103,
     "metadata": {},
     "output_type": "execute_result"
    }
   ],
   "source": [
    "Gene_Cat_RefPerc"
   ]
  },
  {
   "cell_type": "code",
   "execution_count": null,
   "id": "fe57ecc1-287e-4f53-9e16-df43cd897a72",
   "metadata": {},
   "outputs": [],
   "source": []
  },
  {
   "cell_type": "code",
   "execution_count": null,
   "id": "582b28e6-2287-4110-9b45-5f8a28762279",
   "metadata": {},
   "outputs": [],
   "source": []
  },
  {
   "cell_type": "code",
   "execution_count": 109,
   "id": "c27aaaf0-731b-425f-bf75-fbe1c535eed4",
   "metadata": {},
   "outputs": [],
   "source": [
    "# Summarize UNIQUE SV nodes\n",
    "All_SV_nodes_summary = summarize_sv_categories_with_functional_category(MG_SVNodes_PASS_DF, listOf_JC_Cols)\n",
    "All_SV_nodes_summary = pd.merge(All_SV_nodes_summary, Gene_Cat_RefPerc, how = \"left\", on = \"Functional_Category\")\n",
    "\n",
    "# Summarize UNIQUE SV nodes\n",
    "unique_nodes_summary = summarize_sv_categories_with_functional_category(MG_SVNodes_UnqSeq_DF, listOf_JC_Cols)\n",
    "unique_nodes_summary = pd.merge(unique_nodes_summary, Gene_Cat_RefPerc, how = \"left\", on = \"Functional_Category\")\n",
    "\n",
    "# Summarize NON-UNIQUE SV nodes\n",
    "nonunique_nodes_summary = summarize_sv_categories_with_functional_category(MG_SVNodes_NoUnqSeq_DF, listOf_JC_Cols)\n",
    "nonunique_nodes_summary = pd.merge(nonunique_nodes_summary, Gene_Cat_RefPerc, how = \"left\", on = \"Functional_Category\")\n"
   ]
  },
  {
   "cell_type": "code",
   "execution_count": 110,
   "id": "7ada7d68-4797-46ee-9fcf-fc44ff2eca8f",
   "metadata": {},
   "outputs": [
    {
     "data": {
      "text/html": [
       "<div>\n",
       "<style scoped>\n",
       "    .dataframe tbody tr th:only-of-type {\n",
       "        vertical-align: middle;\n",
       "    }\n",
       "\n",
       "    .dataframe tbody tr th {\n",
       "        vertical-align: top;\n",
       "    }\n",
       "\n",
       "    .dataframe thead th {\n",
       "        text-align: right;\n",
       "    }\n",
       "</style>\n",
       "<table border=\"1\" class=\"dataframe\">\n",
       "  <thead>\n",
       "    <tr style=\"text-align: right;\">\n",
       "      <th></th>\n",
       "      <th>Functional_Category</th>\n",
       "      <th>Total Length</th>\n",
       "      <th>Node Count</th>\n",
       "      <th>Relative Size (%)</th>\n",
       "      <th>Percent_RefGeneLengths</th>\n",
       "    </tr>\n",
       "  </thead>\n",
       "  <tbody>\n",
       "    <tr>\n",
       "      <th>0</th>\n",
       "      <td>insertion seqs and phages</td>\n",
       "      <td>503748</td>\n",
       "      <td>346</td>\n",
       "      <td>39.46</td>\n",
       "      <td>2.69</td>\n",
       "    </tr>\n",
       "    <tr>\n",
       "      <th>1</th>\n",
       "      <td>PE/PPE</td>\n",
       "      <td>167166</td>\n",
       "      <td>647</td>\n",
       "      <td>13.10</td>\n",
       "      <td>7.01</td>\n",
       "    </tr>\n",
       "    <tr>\n",
       "      <th>2</th>\n",
       "      <td>information pathways</td>\n",
       "      <td>4363</td>\n",
       "      <td>10</td>\n",
       "      <td>0.34</td>\n",
       "      <td>6.76</td>\n",
       "    </tr>\n",
       "    <tr>\n",
       "      <th>3</th>\n",
       "      <td>conserved hypotheticals</td>\n",
       "      <td>66735</td>\n",
       "      <td>111</td>\n",
       "      <td>5.23</td>\n",
       "      <td>18.77</td>\n",
       "    </tr>\n",
       "    <tr>\n",
       "      <th>4</th>\n",
       "      <td>cell wall and cell processes</td>\n",
       "      <td>42715</td>\n",
       "      <td>73</td>\n",
       "      <td>3.35</td>\n",
       "      <td>20.00</td>\n",
       "    </tr>\n",
       "    <tr>\n",
       "      <th>5</th>\n",
       "      <td>stable RNAs</td>\n",
       "      <td>0</td>\n",
       "      <td>0</td>\n",
       "      <td>0.00</td>\n",
       "      <td>0.20</td>\n",
       "    </tr>\n",
       "    <tr>\n",
       "      <th>6</th>\n",
       "      <td>intermediary metabolism and respiration</td>\n",
       "      <td>69088</td>\n",
       "      <td>105</td>\n",
       "      <td>5.41</td>\n",
       "      <td>25.75</td>\n",
       "    </tr>\n",
       "    <tr>\n",
       "      <th>7</th>\n",
       "      <td>regulatory proteins</td>\n",
       "      <td>13000</td>\n",
       "      <td>21</td>\n",
       "      <td>1.02</td>\n",
       "      <td>4.18</td>\n",
       "    </tr>\n",
       "    <tr>\n",
       "      <th>8</th>\n",
       "      <td>virulence, detoxification, adaptation</td>\n",
       "      <td>10554</td>\n",
       "      <td>7</td>\n",
       "      <td>0.83</td>\n",
       "      <td>3.91</td>\n",
       "    </tr>\n",
       "    <tr>\n",
       "      <th>9</th>\n",
       "      <td>lipid metabolism</td>\n",
       "      <td>51437</td>\n",
       "      <td>39</td>\n",
       "      <td>4.03</td>\n",
       "      <td>10.53</td>\n",
       "    </tr>\n",
       "    <tr>\n",
       "      <th>10</th>\n",
       "      <td>NoMatch</td>\n",
       "      <td>347744</td>\n",
       "      <td>666</td>\n",
       "      <td>27.24</td>\n",
       "      <td>NaN</td>\n",
       "    </tr>\n",
       "  </tbody>\n",
       "</table>\n",
       "</div>"
      ],
      "text/plain": [
       "                        Functional_Category  Total Length  Node Count  Relative Size (%)  Percent_RefGeneLengths\n",
       "0                 insertion seqs and phages        503748         346              39.46                    2.69\n",
       "1                                    PE/PPE        167166         647              13.10                    7.01\n",
       "2                      information pathways          4363          10               0.34                    6.76\n",
       "3                   conserved hypotheticals         66735         111               5.23                   18.77\n",
       "4              cell wall and cell processes         42715          73               3.35                   20.00\n",
       "5                               stable RNAs             0           0               0.00                    0.20\n",
       "6   intermediary metabolism and respiration         69088         105               5.41                   25.75\n",
       "7                       regulatory proteins         13000          21               1.02                    4.18\n",
       "8     virulence, detoxification, adaptation         10554           7               0.83                    3.91\n",
       "9                          lipid metabolism         51437          39               4.03                   10.53\n",
       "10                                  NoMatch        347744         666              27.24                     NaN"
      ]
     },
     "execution_count": 110,
     "metadata": {},
     "output_type": "execute_result"
    }
   ],
   "source": [
    "All_SV_nodes_summary"
   ]
  },
  {
   "cell_type": "code",
   "execution_count": 114,
   "id": "4e9c3f1d-347d-4278-875f-ad73047c8812",
   "metadata": {},
   "outputs": [
    {
     "data": {
      "text/html": [
       "<div>\n",
       "<style scoped>\n",
       "    .dataframe tbody tr th:only-of-type {\n",
       "        vertical-align: middle;\n",
       "    }\n",
       "\n",
       "    .dataframe tbody tr th {\n",
       "        vertical-align: top;\n",
       "    }\n",
       "\n",
       "    .dataframe thead th {\n",
       "        text-align: right;\n",
       "    }\n",
       "</style>\n",
       "<table border=\"1\" class=\"dataframe\">\n",
       "  <thead>\n",
       "    <tr style=\"text-align: right;\">\n",
       "      <th></th>\n",
       "      <th>Functional_Category</th>\n",
       "      <th>Total Length</th>\n",
       "      <th>Node Count</th>\n",
       "      <th>Relative Size (%)</th>\n",
       "      <th>Percent_RefGeneLengths</th>\n",
       "    </tr>\n",
       "  </thead>\n",
       "  <tbody>\n",
       "    <tr>\n",
       "      <th>0</th>\n",
       "      <td>insertion seqs and phages</td>\n",
       "      <td>489105</td>\n",
       "      <td>339</td>\n",
       "      <td>50.16</td>\n",
       "      <td>2.69</td>\n",
       "    </tr>\n",
       "    <tr>\n",
       "      <th>10</th>\n",
       "      <td>NoMatch</td>\n",
       "      <td>245761</td>\n",
       "      <td>546</td>\n",
       "      <td>25.21</td>\n",
       "      <td>NaN</td>\n",
       "    </tr>\n",
       "    <tr>\n",
       "      <th>1</th>\n",
       "      <td>PE/PPE</td>\n",
       "      <td>121321</td>\n",
       "      <td>462</td>\n",
       "      <td>12.44</td>\n",
       "      <td>7.01</td>\n",
       "    </tr>\n",
       "    <tr>\n",
       "      <th>3</th>\n",
       "      <td>conserved hypotheticals</td>\n",
       "      <td>43076</td>\n",
       "      <td>84</td>\n",
       "      <td>4.42</td>\n",
       "      <td>18.77</td>\n",
       "    </tr>\n",
       "    <tr>\n",
       "      <th>6</th>\n",
       "      <td>intermediary metabolism and respiration</td>\n",
       "      <td>28275</td>\n",
       "      <td>62</td>\n",
       "      <td>2.90</td>\n",
       "      <td>25.75</td>\n",
       "    </tr>\n",
       "    <tr>\n",
       "      <th>9</th>\n",
       "      <td>lipid metabolism</td>\n",
       "      <td>26130</td>\n",
       "      <td>15</td>\n",
       "      <td>2.68</td>\n",
       "      <td>10.53</td>\n",
       "    </tr>\n",
       "    <tr>\n",
       "      <th>4</th>\n",
       "      <td>cell wall and cell processes</td>\n",
       "      <td>14249</td>\n",
       "      <td>36</td>\n",
       "      <td>1.46</td>\n",
       "      <td>20.00</td>\n",
       "    </tr>\n",
       "    <tr>\n",
       "      <th>7</th>\n",
       "      <td>regulatory proteins</td>\n",
       "      <td>6151</td>\n",
       "      <td>14</td>\n",
       "      <td>0.63</td>\n",
       "      <td>4.18</td>\n",
       "    </tr>\n",
       "    <tr>\n",
       "      <th>8</th>\n",
       "      <td>virulence, detoxification, adaptation</td>\n",
       "      <td>857</td>\n",
       "      <td>2</td>\n",
       "      <td>0.09</td>\n",
       "      <td>3.91</td>\n",
       "    </tr>\n",
       "    <tr>\n",
       "      <th>2</th>\n",
       "      <td>information pathways</td>\n",
       "      <td>114</td>\n",
       "      <td>2</td>\n",
       "      <td>0.01</td>\n",
       "      <td>6.76</td>\n",
       "    </tr>\n",
       "    <tr>\n",
       "      <th>5</th>\n",
       "      <td>stable RNAs</td>\n",
       "      <td>0</td>\n",
       "      <td>0</td>\n",
       "      <td>0.00</td>\n",
       "      <td>0.20</td>\n",
       "    </tr>\n",
       "  </tbody>\n",
       "</table>\n",
       "</div>"
      ],
      "text/plain": [
       "                        Functional_Category  Total Length  Node Count  Relative Size (%)  Percent_RefGeneLengths\n",
       "0                 insertion seqs and phages        489105         339              50.16                    2.69\n",
       "10                                  NoMatch        245761         546              25.21                     NaN\n",
       "1                                    PE/PPE        121321         462              12.44                    7.01\n",
       "3                   conserved hypotheticals         43076          84               4.42                   18.77\n",
       "6   intermediary metabolism and respiration         28275          62               2.90                   25.75\n",
       "9                          lipid metabolism         26130          15               2.68                   10.53\n",
       "4              cell wall and cell processes         14249          36               1.46                   20.00\n",
       "7                       regulatory proteins          6151          14               0.63                    4.18\n",
       "8     virulence, detoxification, adaptation           857           2               0.09                    3.91\n",
       "2                      information pathways           114           2               0.01                    6.76\n",
       "5                               stable RNAs             0           0               0.00                    0.20"
      ]
     },
     "execution_count": 114,
     "metadata": {},
     "output_type": "execute_result"
    }
   ],
   "source": [
    "nonunique_nodes_summary.sort_values(\"Total Length\", ascending=False)"
   ]
  },
  {
   "cell_type": "code",
   "execution_count": 112,
   "id": "9b6dde76-209e-47b0-bb40-d0dab6dbbc69",
   "metadata": {},
   "outputs": [
    {
     "data": {
      "text/html": [
       "<div>\n",
       "<style scoped>\n",
       "    .dataframe tbody tr th:only-of-type {\n",
       "        vertical-align: middle;\n",
       "    }\n",
       "\n",
       "    .dataframe tbody tr th {\n",
       "        vertical-align: top;\n",
       "    }\n",
       "\n",
       "    .dataframe thead th {\n",
       "        text-align: right;\n",
       "    }\n",
       "</style>\n",
       "<table border=\"1\" class=\"dataframe\">\n",
       "  <thead>\n",
       "    <tr style=\"text-align: right;\">\n",
       "      <th></th>\n",
       "      <th>Functional_Category</th>\n",
       "      <th>Total Length</th>\n",
       "      <th>Node Count</th>\n",
       "      <th>Relative Size (%)</th>\n",
       "      <th>Percent_RefGeneLengths</th>\n",
       "    </tr>\n",
       "  </thead>\n",
       "  <tbody>\n",
       "    <tr>\n",
       "      <th>0</th>\n",
       "      <td>insertion seqs and phages</td>\n",
       "      <td>14643</td>\n",
       "      <td>7</td>\n",
       "      <td>4.86</td>\n",
       "      <td>2.69</td>\n",
       "    </tr>\n",
       "    <tr>\n",
       "      <th>1</th>\n",
       "      <td>PE/PPE</td>\n",
       "      <td>45845</td>\n",
       "      <td>185</td>\n",
       "      <td>15.21</td>\n",
       "      <td>7.01</td>\n",
       "    </tr>\n",
       "    <tr>\n",
       "      <th>2</th>\n",
       "      <td>information pathways</td>\n",
       "      <td>4249</td>\n",
       "      <td>8</td>\n",
       "      <td>1.41</td>\n",
       "      <td>6.76</td>\n",
       "    </tr>\n",
       "    <tr>\n",
       "      <th>3</th>\n",
       "      <td>conserved hypotheticals</td>\n",
       "      <td>23659</td>\n",
       "      <td>27</td>\n",
       "      <td>7.85</td>\n",
       "      <td>18.77</td>\n",
       "    </tr>\n",
       "    <tr>\n",
       "      <th>4</th>\n",
       "      <td>cell wall and cell processes</td>\n",
       "      <td>28466</td>\n",
       "      <td>37</td>\n",
       "      <td>9.44</td>\n",
       "      <td>20.00</td>\n",
       "    </tr>\n",
       "    <tr>\n",
       "      <th>5</th>\n",
       "      <td>stable RNAs</td>\n",
       "      <td>0</td>\n",
       "      <td>0</td>\n",
       "      <td>0.00</td>\n",
       "      <td>0.20</td>\n",
       "    </tr>\n",
       "    <tr>\n",
       "      <th>6</th>\n",
       "      <td>intermediary metabolism and respiration</td>\n",
       "      <td>40813</td>\n",
       "      <td>43</td>\n",
       "      <td>13.54</td>\n",
       "      <td>25.75</td>\n",
       "    </tr>\n",
       "    <tr>\n",
       "      <th>7</th>\n",
       "      <td>regulatory proteins</td>\n",
       "      <td>6849</td>\n",
       "      <td>7</td>\n",
       "      <td>2.27</td>\n",
       "      <td>4.18</td>\n",
       "    </tr>\n",
       "    <tr>\n",
       "      <th>8</th>\n",
       "      <td>virulence, detoxification, adaptation</td>\n",
       "      <td>9697</td>\n",
       "      <td>5</td>\n",
       "      <td>3.22</td>\n",
       "      <td>3.91</td>\n",
       "    </tr>\n",
       "    <tr>\n",
       "      <th>9</th>\n",
       "      <td>lipid metabolism</td>\n",
       "      <td>25307</td>\n",
       "      <td>24</td>\n",
       "      <td>8.39</td>\n",
       "      <td>10.53</td>\n",
       "    </tr>\n",
       "    <tr>\n",
       "      <th>10</th>\n",
       "      <td>NoMatch</td>\n",
       "      <td>101983</td>\n",
       "      <td>120</td>\n",
       "      <td>33.82</td>\n",
       "      <td>NaN</td>\n",
       "    </tr>\n",
       "  </tbody>\n",
       "</table>\n",
       "</div>"
      ],
      "text/plain": [
       "                        Functional_Category  Total Length  Node Count  Relative Size (%)  Percent_RefGeneLengths\n",
       "0                 insertion seqs and phages         14643           7               4.86                    2.69\n",
       "1                                    PE/PPE         45845         185              15.21                    7.01\n",
       "2                      information pathways          4249           8               1.41                    6.76\n",
       "3                   conserved hypotheticals         23659          27               7.85                   18.77\n",
       "4              cell wall and cell processes         28466          37               9.44                   20.00\n",
       "5                               stable RNAs             0           0               0.00                    0.20\n",
       "6   intermediary metabolism and respiration         40813          43              13.54                   25.75\n",
       "7                       regulatory proteins          6849           7               2.27                    4.18\n",
       "8     virulence, detoxification, adaptation          9697           5               3.22                    3.91\n",
       "9                          lipid metabolism         25307          24               8.39                   10.53\n",
       "10                                  NoMatch        101983         120              33.82                     NaN"
      ]
     },
     "execution_count": 112,
     "metadata": {},
     "output_type": "execute_result"
    }
   ],
   "source": [
    "unique_nodes_summary"
   ]
  },
  {
   "cell_type": "code",
   "execution_count": null,
   "id": "67738f92-1a64-4d18-b080-41a1f697960e",
   "metadata": {},
   "outputs": [],
   "source": []
  },
  {
   "cell_type": "code",
   "execution_count": null,
   "id": "52c65ba1-cd48-4675-933d-93ec8c8d052f",
   "metadata": {},
   "outputs": [],
   "source": []
  },
  {
   "cell_type": "code",
   "execution_count": 445,
   "id": "71c52e39-4868-4707-a074-4b9f0cfbf797",
   "metadata": {},
   "outputs": [
    {
     "data": {
      "text/html": [
       "<div>\n",
       "<style scoped>\n",
       "    .dataframe tbody tr th:only-of-type {\n",
       "        vertical-align: middle;\n",
       "    }\n",
       "\n",
       "    .dataframe tbody tr th {\n",
       "        vertical-align: top;\n",
       "    }\n",
       "\n",
       "    .dataframe thead th {\n",
       "        text-align: right;\n",
       "    }\n",
       "</style>\n",
       "<table border=\"1\" class=\"dataframe\">\n",
       "  <thead>\n",
       "    <tr style=\"text-align: right;\">\n",
       "      <th></th>\n",
       "      <th>Functional_Category</th>\n",
       "      <th>Total Length</th>\n",
       "      <th>Node Count</th>\n",
       "      <th>Relative Size (%)</th>\n",
       "      <th>Percent_RefGeneLengths</th>\n",
       "    </tr>\n",
       "  </thead>\n",
       "  <tbody>\n",
       "    <tr>\n",
       "      <th>0</th>\n",
       "      <td>insertion seqs and phages</td>\n",
       "      <td>489105</td>\n",
       "      <td>339</td>\n",
       "      <td>50.16</td>\n",
       "      <td>2.69</td>\n",
       "    </tr>\n",
       "    <tr>\n",
       "      <th>1</th>\n",
       "      <td>PE/PPE</td>\n",
       "      <td>121321</td>\n",
       "      <td>462</td>\n",
       "      <td>12.44</td>\n",
       "      <td>7.01</td>\n",
       "    </tr>\n",
       "    <tr>\n",
       "      <th>2</th>\n",
       "      <td>information pathways</td>\n",
       "      <td>114</td>\n",
       "      <td>2</td>\n",
       "      <td>0.01</td>\n",
       "      <td>6.76</td>\n",
       "    </tr>\n",
       "    <tr>\n",
       "      <th>3</th>\n",
       "      <td>conserved hypotheticals</td>\n",
       "      <td>43076</td>\n",
       "      <td>84</td>\n",
       "      <td>4.42</td>\n",
       "      <td>18.77</td>\n",
       "    </tr>\n",
       "    <tr>\n",
       "      <th>4</th>\n",
       "      <td>cell wall and cell processes</td>\n",
       "      <td>14249</td>\n",
       "      <td>36</td>\n",
       "      <td>1.46</td>\n",
       "      <td>20.00</td>\n",
       "    </tr>\n",
       "    <tr>\n",
       "      <th>5</th>\n",
       "      <td>stable RNAs</td>\n",
       "      <td>0</td>\n",
       "      <td>0</td>\n",
       "      <td>0.00</td>\n",
       "      <td>0.20</td>\n",
       "    </tr>\n",
       "    <tr>\n",
       "      <th>6</th>\n",
       "      <td>intermediary metabolism and respiration</td>\n",
       "      <td>28275</td>\n",
       "      <td>62</td>\n",
       "      <td>2.90</td>\n",
       "      <td>25.75</td>\n",
       "    </tr>\n",
       "    <tr>\n",
       "      <th>7</th>\n",
       "      <td>regulatory proteins</td>\n",
       "      <td>6151</td>\n",
       "      <td>14</td>\n",
       "      <td>0.63</td>\n",
       "      <td>4.18</td>\n",
       "    </tr>\n",
       "    <tr>\n",
       "      <th>8</th>\n",
       "      <td>virulence, detoxification, adaptation</td>\n",
       "      <td>857</td>\n",
       "      <td>2</td>\n",
       "      <td>0.09</td>\n",
       "      <td>3.91</td>\n",
       "    </tr>\n",
       "    <tr>\n",
       "      <th>9</th>\n",
       "      <td>lipid metabolism</td>\n",
       "      <td>26130</td>\n",
       "      <td>15</td>\n",
       "      <td>2.68</td>\n",
       "      <td>10.53</td>\n",
       "    </tr>\n",
       "  </tbody>\n",
       "</table>\n",
       "</div>"
      ],
      "text/plain": [
       "                       Functional_Category  Total Length  Node Count  Relative Size (%)  Percent_RefGeneLengths\n",
       "0                insertion seqs and phages        489105         339              50.16                    2.69\n",
       "1                                   PE/PPE        121321         462              12.44                    7.01\n",
       "2                     information pathways           114           2               0.01                    6.76\n",
       "3                  conserved hypotheticals         43076          84               4.42                   18.77\n",
       "4             cell wall and cell processes         14249          36               1.46                   20.00\n",
       "5                              stable RNAs             0           0               0.00                    0.20\n",
       "6  intermediary metabolism and respiration         28275          62               2.90                   25.75\n",
       "7                      regulatory proteins          6151          14               0.63                    4.18\n",
       "8    virulence, detoxification, adaptation           857           2               0.09                    3.91\n",
       "9                         lipid metabolism         26130          15               2.68                   10.53"
      ]
     },
     "execution_count": 445,
     "metadata": {},
     "output_type": "execute_result"
    }
   ],
   "source": [
    "nonunique_nodes_summary"
   ]
  },
  {
   "cell_type": "code",
   "execution_count": null,
   "id": "7f9fad18-fa6b-47f6-ab37-f6e066cd1a84",
   "metadata": {},
   "outputs": [],
   "source": []
  },
  {
   "cell_type": "code",
   "execution_count": null,
   "id": "7791220d-f136-49b0-a357-8fbc5e9c1411",
   "metadata": {},
   "outputs": [],
   "source": []
  },
  {
   "cell_type": "code",
   "execution_count": null,
   "id": "6760a22b-6e55-45db-a771-ab34ff9f76b0",
   "metadata": {},
   "outputs": [],
   "source": []
  },
  {
   "cell_type": "markdown",
   "id": "f85b2ebd-e956-43c5-baeb-b7617178f29d",
   "metadata": {},
   "source": [
    "# Test - Extras"
   ]
  },
  {
   "cell_type": "code",
   "execution_count": null,
   "id": "b36fc5ed-9b38-45cd-88ea-25793ead14b4",
   "metadata": {},
   "outputs": [],
   "source": []
  },
  {
   "cell_type": "code",
   "execution_count": 170,
   "id": "b630f97c-aec8-4d5b-8834-94eb9767e61a",
   "metadata": {},
   "outputs": [],
   "source": [
    "# Correctly reference \"Start\" and \"End\" columns to calculate gene lengths\n",
    "H37Rv_GeneInfo_Subset_DF = H37Rv_GenomeAnno_Genes_DF[\n",
    "    [\"Functional_Category\", \"Start\", \"End\"]\n",
    "].copy()\n",
    "H37Rv_GeneInfo_Subset_DF[\"Gene_Length\"] = (\n",
    "    H37Rv_GeneInfo_Subset_DF[\"End\"] - H37Rv_GeneInfo_Subset_DF[\"Start\"] + 1\n",
    ")\n",
    "\n",
    "# Group by functional category and calculate total length and relative fractions\n",
    "gene_cat_lengths = (\n",
    "    H37Rv_GeneInfo_Subset_DF.groupby(\"Functional_Category\")[\"Gene_Length\"]\n",
    "    .sum()\n",
    "    .reset_index()\n",
    ")\n",
    "\n",
    "gene_cat_lengths[\"Relative_Fraction\"] = (\n",
    "    gene_cat_lengths[\"Gene_Length\"] / gene_cat_lengths[\"Gene_Length\"].sum()\n",
    ")\n",
    "\n",
    "gene_cat_lengths[\"Percent_RefGeneLengths\"] = (gene_cat_lengths[\"Relative_Fraction\"] * 100).round(2)\n"
   ]
  },
  {
   "cell_type": "code",
   "execution_count": 171,
   "id": "14101f41-69a4-4d5f-a623-6e8a96e40d60",
   "metadata": {},
   "outputs": [
    {
     "data": {
      "text/html": [
       "<div>\n",
       "<style scoped>\n",
       "    .dataframe tbody tr th:only-of-type {\n",
       "        vertical-align: middle;\n",
       "    }\n",
       "\n",
       "    .dataframe tbody tr th {\n",
       "        vertical-align: top;\n",
       "    }\n",
       "\n",
       "    .dataframe thead th {\n",
       "        text-align: right;\n",
       "    }\n",
       "</style>\n",
       "<table border=\"1\" class=\"dataframe\">\n",
       "  <thead>\n",
       "    <tr style=\"text-align: right;\">\n",
       "      <th></th>\n",
       "      <th>Functional_Category</th>\n",
       "      <th>Gene_Length</th>\n",
       "      <th>Relative_Fraction</th>\n",
       "      <th>Percent_RefGeneLengths</th>\n",
       "    </tr>\n",
       "  </thead>\n",
       "  <tbody>\n",
       "    <tr>\n",
       "      <th>0</th>\n",
       "      <td>PE/PPE</td>\n",
       "      <td>283512</td>\n",
       "      <td>0.070067</td>\n",
       "      <td>7.01</td>\n",
       "    </tr>\n",
       "    <tr>\n",
       "      <th>1</th>\n",
       "      <td>cell wall and cell processes</td>\n",
       "      <td>809458</td>\n",
       "      <td>0.200049</td>\n",
       "      <td>20.00</td>\n",
       "    </tr>\n",
       "    <tr>\n",
       "      <th>2</th>\n",
       "      <td>conserved hypotheticals</td>\n",
       "      <td>759298</td>\n",
       "      <td>0.187653</td>\n",
       "      <td>18.77</td>\n",
       "    </tr>\n",
       "    <tr>\n",
       "      <th>3</th>\n",
       "      <td>information pathways</td>\n",
       "      <td>273332</td>\n",
       "      <td>0.067551</td>\n",
       "      <td>6.76</td>\n",
       "    </tr>\n",
       "    <tr>\n",
       "      <th>4</th>\n",
       "      <td>insertion seqs and phages</td>\n",
       "      <td>108810</td>\n",
       "      <td>0.026891</td>\n",
       "      <td>2.69</td>\n",
       "    </tr>\n",
       "    <tr>\n",
       "      <th>5</th>\n",
       "      <td>intermediary metabolism and respiration</td>\n",
       "      <td>1042048</td>\n",
       "      <td>0.257531</td>\n",
       "      <td>25.75</td>\n",
       "    </tr>\n",
       "    <tr>\n",
       "      <th>6</th>\n",
       "      <td>lipid metabolism</td>\n",
       "      <td>425978</td>\n",
       "      <td>0.105276</td>\n",
       "      <td>10.53</td>\n",
       "    </tr>\n",
       "    <tr>\n",
       "      <th>7</th>\n",
       "      <td>regulatory proteins</td>\n",
       "      <td>169206</td>\n",
       "      <td>0.041818</td>\n",
       "      <td>4.18</td>\n",
       "    </tr>\n",
       "    <tr>\n",
       "      <th>8</th>\n",
       "      <td>stable RNAs</td>\n",
       "      <td>8223</td>\n",
       "      <td>0.002032</td>\n",
       "      <td>0.20</td>\n",
       "    </tr>\n",
       "    <tr>\n",
       "      <th>9</th>\n",
       "      <td>unknown</td>\n",
       "      <td>8403</td>\n",
       "      <td>0.002077</td>\n",
       "      <td>0.21</td>\n",
       "    </tr>\n",
       "    <tr>\n",
       "      <th>10</th>\n",
       "      <td>virulence, detoxification, adaptation</td>\n",
       "      <td>158028</td>\n",
       "      <td>0.039055</td>\n",
       "      <td>3.91</td>\n",
       "    </tr>\n",
       "  </tbody>\n",
       "</table>\n",
       "</div>"
      ],
      "text/plain": [
       "                        Functional_Category  Gene_Length  Relative_Fraction  Percent_RefGeneLengths\n",
       "0                                    PE/PPE       283512           0.070067                    7.01\n",
       "1              cell wall and cell processes       809458           0.200049                   20.00\n",
       "2                   conserved hypotheticals       759298           0.187653                   18.77\n",
       "3                      information pathways       273332           0.067551                    6.76\n",
       "4                 insertion seqs and phages       108810           0.026891                    2.69\n",
       "5   intermediary metabolism and respiration      1042048           0.257531                   25.75\n",
       "6                          lipid metabolism       425978           0.105276                   10.53\n",
       "7                       regulatory proteins       169206           0.041818                    4.18\n",
       "8                               stable RNAs         8223           0.002032                    0.20\n",
       "9                                   unknown         8403           0.002077                    0.21\n",
       "10    virulence, detoxification, adaptation       158028           0.039055                    3.91"
      ]
     },
     "execution_count": 171,
     "metadata": {},
     "output_type": "execute_result"
    }
   ],
   "source": [
    "gene_cat_lengths"
   ]
  },
  {
   "cell_type": "code",
   "execution_count": null,
   "id": "eeebb6b5-9ab1-4836-8e9f-59ca44238479",
   "metadata": {},
   "outputs": [],
   "source": []
  },
  {
   "cell_type": "code",
   "execution_count": null,
   "id": "da875a7a-2805-469f-a4f5-c83bec17bd9e",
   "metadata": {},
   "outputs": [],
   "source": []
  },
  {
   "cell_type": "code",
   "execution_count": 179,
   "id": "4cbc28e4-4ffb-432f-b001-88875c2735fc",
   "metadata": {},
   "outputs": [],
   "source": [
    "# Define the Jaccard index columns corresponding to gene categories\n",
    "listOf_JC_Cols = [\n",
    "    \"Jaccard_Cont_WiRv_InsSeqAndPhages\",\n",
    "    \"Jaccard_Cont_WiRv_PEPPEs\",\n",
    "    \"Jaccard_Cont_WiRv_InfoPathways\",\n",
    "    \"Jaccard_Cont_WiRv_ConservedHypo\",\n",
    "    \"Jaccard_Cont_WiRv_CellWallCellProc\",\n",
    "    \"Jaccard_Cont_WiRv_StableRNAs\",\n",
    "    \"Jaccard_Cont_WiRv_InterMetabolism\",\n",
    "    \"Jaccard_Cont_WiRv_RegProteins\",\n",
    "    \"Jaccard_Cont_WiRv_VirulenceDetoxAdaptation\",\n",
    "    \"Jaccard_Cont_WiRv_LipidMetabolism\",\n",
    "    \"Jaccard_Cont_WiRv_Unknown\"\n",
    "]\n",
    "\n",
    "JC_Cols_ToCategoryName = {\n",
    "    \"Jaccard_Cont_WiRv_PEPPEs\": \"PE/PPE\",\n",
    "    \"Jaccard_Cont_WiRv_CellWallCellProc\": \"cell wall and cell processes\",\n",
    "    \"Jaccard_Cont_WiRv_ConservedHypo\": \"conserved hypotheticals\",\n",
    "    \"Jaccard_Cont_WiRv_InfoPathways\": \"information pathways\",\n",
    "    \"Jaccard_Cont_WiRv_InsSeqAndPhages\": \"insertion seqs and phages\",\n",
    "    \"Jaccard_Cont_WiRv_StableRNAs\": \"stable RNAs\",\n",
    "    \"Jaccard_Cont_WiRv_InterMetabolism\": \"intermediary metabolism and respiration\",\n",
    "    \"Jaccard_Cont_WiRv_RegProteins\": \"regulatory proteins\",\n",
    "    \"Jaccard_Cont_WiRv_VirulenceDetoxAdaptation\": \"virulence, detoxification, adaptation\",\n",
    "    \"Jaccard_Cont_WiRv_LipidMetabolism\": \"lipid metabolism\",\n",
    "    \"Jaccard_Cont_WiRv_Unknown\": \"unknown\"\n",
    "}\n",
    "\n",
    "\n",
    "# Filter SV Nodes based on the queries provided\n",
    "MG_SVNodes_PASS_DF = MG_Nodes_KmerComp_DF.query(\"IsSVNode == True and SeqLength >= 31\")\n",
    "\n",
    "MG_SVNodes_UnqSeq_DF = MG_SVNodes_PASS_DF.query(\"MaxJC_ToOtherNode < 0.05\")\n",
    "MG_SVNodes_UnqSeq_UnqToRv_DF = MG_SVNodes_UnqSeq_DF.query(\"Jaccard_Cont_WiRv < 0.05\")\n",
    "MG_SVNodes_NoUnqSeq_DF = MG_SVNodes_PASS_DF.query(\"MaxJC_ToOtherNode >= 0.05\")\n",
    "\n",
    "# Compute the fraction of SV nodes in each category\n",
    "analysis_results = []\n",
    "\n",
    "for col in listOf_JC_Cols:\n",
    "    # Nodes with redundant sequence content in category\n",
    "    i_SV_NoUnq_InCat = MG_SVNodes_NoUnqSeq_DF.query(f\"{col} > 0.5\")\n",
    "    # Nodes with unique sequence content in category\n",
    "    i_SV_Unq_InCat = MG_SVNodes_UnqSeq_DF.query(f\"{col} > 0.5\")\n",
    "    # All SV nodes in category\n",
    "    i_SV_PASS_InCat = MG_SVNodes_PASS_DF.query(f\"{col} > 0.5\")\n",
    "\n",
    "    analysis_results.append({\n",
    "        \"Category\": col,\n",
    "        \"SV_NoUnq_Count\": i_SV_NoUnq_InCat.shape[0],\n",
    "        \"SV_NoUnq_Length\": i_SV_NoUnq_InCat[\"SeqLength\"].sum(),\n",
    "        \"SV_NoUnq_Fraction_Length\": i_SV_NoUnq_InCat[\"SeqLength\"].sum() / MG_SVNodes_NoUnqSeq_DF[\"SeqLength\"].sum(),\n",
    "        \"SV_Unq_Count\": i_SV_Unq_InCat.shape[0],\n",
    "        \"SV_Unq_Length\": i_SV_Unq_InCat[\"SeqLength\"].sum(),\n",
    "        \"SV_Unq_Fraction_Length\": i_SV_Unq_InCat[\"SeqLength\"].sum() / MG_SVNodes_UnqSeq_DF[\"SeqLength\"].sum(),\n",
    "        \"SV_PASS_Count\": i_SV_PASS_InCat.shape[0],\n",
    "        \"SV_PASS_Length\": i_SV_PASS_InCat[\"SeqLength\"].sum(),\n",
    "        \"SV_PASS_Fraction_Length\": i_SV_PASS_InCat[\"SeqLength\"].sum() / MG_SVNodes_PASS_DF[\"SeqLength\"].sum()\n",
    "    })\n",
    "\n",
    "# Convert the results to a DataFrame\n",
    "analysis_results_DF = pd.DataFrame(analysis_results)\n",
    "\n",
    "# Update the DataFrame to display fractions as percentages with 2 decimal places\n",
    "analysis_results_DF.update(\n",
    "    analysis_results_DF.filter(like='_Fraction_Length').applymap(lambda x: round(x * 100, 2))\n",
    ")\n",
    "\n",
    "# Add a \"Functional_Category\" column to adjusted_analysis_results_DF\n",
    "analysis_results_DF[\"Functional_Category\"] = analysis_results_DF[\"Category\"].map(JC_Cols_ToCategoryName)\n",
    "\n",
    "# Sort adjusted_analysis_results_DF to match the order in gene_cat_lengths\n",
    "analysis_results_DF = analysis_results_DF.set_index(\"Functional_Category\").reindex(\n",
    "    gene_cat_lengths[\"Functional_Category\"]\n",
    ").reset_index()\n",
    "\n",
    "# Retry the merge operation\n",
    "merged_results_DF = pd.merge(\n",
    "    gene_cat_lengths,\n",
    "    analysis_results_DF,\n",
    "    on=\"Functional_Category\",\n",
    "    how=\"inner\"\n",
    ")"
   ]
  },
  {
   "cell_type": "code",
   "execution_count": 180,
   "id": "58b8f8b0-3277-4314-9968-2965b7c8d1ce",
   "metadata": {},
   "outputs": [
    {
     "data": {
      "text/html": [
       "<div>\n",
       "<style scoped>\n",
       "    .dataframe tbody tr th:only-of-type {\n",
       "        vertical-align: middle;\n",
       "    }\n",
       "\n",
       "    .dataframe tbody tr th {\n",
       "        vertical-align: top;\n",
       "    }\n",
       "\n",
       "    .dataframe thead th {\n",
       "        text-align: right;\n",
       "    }\n",
       "</style>\n",
       "<table border=\"1\" class=\"dataframe\">\n",
       "  <thead>\n",
       "    <tr style=\"text-align: right;\">\n",
       "      <th></th>\n",
       "      <th>Functional_Category</th>\n",
       "      <th>Gene_Length</th>\n",
       "      <th>Relative_Fraction</th>\n",
       "      <th>Percent_RefGeneLengths</th>\n",
       "      <th>Category</th>\n",
       "      <th>SV_NoUnq_Count</th>\n",
       "      <th>SV_NoUnq_Length</th>\n",
       "      <th>SV_NoUnq_Fraction_Length</th>\n",
       "      <th>SV_Unq_Count</th>\n",
       "      <th>SV_Unq_Length</th>\n",
       "      <th>SV_Unq_Fraction_Length</th>\n",
       "      <th>SV_PASS_Count</th>\n",
       "      <th>SV_PASS_Length</th>\n",
       "      <th>SV_PASS_Fraction_Length</th>\n",
       "    </tr>\n",
       "  </thead>\n",
       "  <tbody>\n",
       "    <tr>\n",
       "      <th>0</th>\n",
       "      <td>PE/PPE</td>\n",
       "      <td>283512</td>\n",
       "      <td>0.070067</td>\n",
       "      <td>7.01</td>\n",
       "      <td>Jaccard_Cont_WiRv_PEPPEs</td>\n",
       "      <td>462</td>\n",
       "      <td>121321</td>\n",
       "      <td>12.44</td>\n",
       "      <td>185</td>\n",
       "      <td>45845</td>\n",
       "      <td>15.21</td>\n",
       "      <td>647</td>\n",
       "      <td>167166</td>\n",
       "      <td>13.10</td>\n",
       "    </tr>\n",
       "    <tr>\n",
       "      <th>1</th>\n",
       "      <td>cell wall and cell processes</td>\n",
       "      <td>809458</td>\n",
       "      <td>0.200049</td>\n",
       "      <td>20.00</td>\n",
       "      <td>Jaccard_Cont_WiRv_CellWallCellProc</td>\n",
       "      <td>36</td>\n",
       "      <td>14249</td>\n",
       "      <td>1.46</td>\n",
       "      <td>37</td>\n",
       "      <td>28466</td>\n",
       "      <td>9.44</td>\n",
       "      <td>73</td>\n",
       "      <td>42715</td>\n",
       "      <td>3.35</td>\n",
       "    </tr>\n",
       "    <tr>\n",
       "      <th>2</th>\n",
       "      <td>conserved hypotheticals</td>\n",
       "      <td>759298</td>\n",
       "      <td>0.187653</td>\n",
       "      <td>18.77</td>\n",
       "      <td>Jaccard_Cont_WiRv_ConservedHypo</td>\n",
       "      <td>84</td>\n",
       "      <td>43076</td>\n",
       "      <td>4.42</td>\n",
       "      <td>27</td>\n",
       "      <td>23659</td>\n",
       "      <td>7.85</td>\n",
       "      <td>111</td>\n",
       "      <td>66735</td>\n",
       "      <td>5.23</td>\n",
       "    </tr>\n",
       "    <tr>\n",
       "      <th>3</th>\n",
       "      <td>information pathways</td>\n",
       "      <td>273332</td>\n",
       "      <td>0.067551</td>\n",
       "      <td>6.76</td>\n",
       "      <td>Jaccard_Cont_WiRv_InfoPathways</td>\n",
       "      <td>2</td>\n",
       "      <td>114</td>\n",
       "      <td>0.01</td>\n",
       "      <td>8</td>\n",
       "      <td>4249</td>\n",
       "      <td>1.41</td>\n",
       "      <td>10</td>\n",
       "      <td>4363</td>\n",
       "      <td>0.34</td>\n",
       "    </tr>\n",
       "    <tr>\n",
       "      <th>4</th>\n",
       "      <td>insertion seqs and phages</td>\n",
       "      <td>108810</td>\n",
       "      <td>0.026891</td>\n",
       "      <td>2.69</td>\n",
       "      <td>Jaccard_Cont_WiRv_InsSeqAndPhages</td>\n",
       "      <td>339</td>\n",
       "      <td>489105</td>\n",
       "      <td>50.16</td>\n",
       "      <td>7</td>\n",
       "      <td>14643</td>\n",
       "      <td>4.86</td>\n",
       "      <td>346</td>\n",
       "      <td>503748</td>\n",
       "      <td>39.46</td>\n",
       "    </tr>\n",
       "    <tr>\n",
       "      <th>5</th>\n",
       "      <td>intermediary metabolism and respiration</td>\n",
       "      <td>1042048</td>\n",
       "      <td>0.257531</td>\n",
       "      <td>25.75</td>\n",
       "      <td>Jaccard_Cont_WiRv_InterMetabolism</td>\n",
       "      <td>62</td>\n",
       "      <td>28275</td>\n",
       "      <td>2.90</td>\n",
       "      <td>42</td>\n",
       "      <td>40748</td>\n",
       "      <td>13.51</td>\n",
       "      <td>104</td>\n",
       "      <td>69023</td>\n",
       "      <td>5.41</td>\n",
       "    </tr>\n",
       "    <tr>\n",
       "      <th>6</th>\n",
       "      <td>lipid metabolism</td>\n",
       "      <td>425978</td>\n",
       "      <td>0.105276</td>\n",
       "      <td>10.53</td>\n",
       "      <td>Jaccard_Cont_WiRv_LipidMetabolism</td>\n",
       "      <td>15</td>\n",
       "      <td>26130</td>\n",
       "      <td>2.68</td>\n",
       "      <td>24</td>\n",
       "      <td>25307</td>\n",
       "      <td>8.39</td>\n",
       "      <td>39</td>\n",
       "      <td>51437</td>\n",
       "      <td>4.03</td>\n",
       "    </tr>\n",
       "    <tr>\n",
       "      <th>7</th>\n",
       "      <td>regulatory proteins</td>\n",
       "      <td>169206</td>\n",
       "      <td>0.041818</td>\n",
       "      <td>4.18</td>\n",
       "      <td>Jaccard_Cont_WiRv_RegProteins</td>\n",
       "      <td>14</td>\n",
       "      <td>6151</td>\n",
       "      <td>0.63</td>\n",
       "      <td>7</td>\n",
       "      <td>6849</td>\n",
       "      <td>2.27</td>\n",
       "      <td>21</td>\n",
       "      <td>13000</td>\n",
       "      <td>1.02</td>\n",
       "    </tr>\n",
       "    <tr>\n",
       "      <th>8</th>\n",
       "      <td>stable RNAs</td>\n",
       "      <td>8223</td>\n",
       "      <td>0.002032</td>\n",
       "      <td>0.20</td>\n",
       "      <td>Jaccard_Cont_WiRv_StableRNAs</td>\n",
       "      <td>0</td>\n",
       "      <td>0</td>\n",
       "      <td>0.00</td>\n",
       "      <td>0</td>\n",
       "      <td>0</td>\n",
       "      <td>0.00</td>\n",
       "      <td>0</td>\n",
       "      <td>0</td>\n",
       "      <td>0.00</td>\n",
       "    </tr>\n",
       "    <tr>\n",
       "      <th>9</th>\n",
       "      <td>unknown</td>\n",
       "      <td>8403</td>\n",
       "      <td>0.002077</td>\n",
       "      <td>0.21</td>\n",
       "      <td>Jaccard_Cont_WiRv_Unknown</td>\n",
       "      <td>4</td>\n",
       "      <td>1178</td>\n",
       "      <td>0.12</td>\n",
       "      <td>0</td>\n",
       "      <td>0</td>\n",
       "      <td>0.00</td>\n",
       "      <td>4</td>\n",
       "      <td>1178</td>\n",
       "      <td>0.09</td>\n",
       "    </tr>\n",
       "    <tr>\n",
       "      <th>10</th>\n",
       "      <td>virulence, detoxification, adaptation</td>\n",
       "      <td>158028</td>\n",
       "      <td>0.039055</td>\n",
       "      <td>3.91</td>\n",
       "      <td>Jaccard_Cont_WiRv_VirulenceDetoxAdaptation</td>\n",
       "      <td>2</td>\n",
       "      <td>857</td>\n",
       "      <td>0.09</td>\n",
       "      <td>5</td>\n",
       "      <td>9697</td>\n",
       "      <td>3.22</td>\n",
       "      <td>7</td>\n",
       "      <td>10554</td>\n",
       "      <td>0.83</td>\n",
       "    </tr>\n",
       "  </tbody>\n",
       "</table>\n",
       "</div>"
      ],
      "text/plain": [
       "                        Functional_Category  Gene_Length  Relative_Fraction  Percent_RefGeneLengths                                    Category  SV_NoUnq_Count  SV_NoUnq_Length  SV_NoUnq_Fraction_Length  SV_Unq_Count  SV_Unq_Length  SV_Unq_Fraction_Length  SV_PASS_Count  SV_PASS_Length  SV_PASS_Fraction_Length\n",
       "0                                    PE/PPE       283512           0.070067                    7.01                    Jaccard_Cont_WiRv_PEPPEs             462           121321                     12.44           185          45845                   15.21            647          167166                    13.10\n",
       "1              cell wall and cell processes       809458           0.200049                   20.00          Jaccard_Cont_WiRv_CellWallCellProc              36            14249                      1.46            37          28466                    9.44             73           42715                     3.35\n",
       "2                   conserved hypotheticals       759298           0.187653                   18.77             Jaccard_Cont_WiRv_ConservedHypo              84            43076                      4.42            27          23659                    7.85            111           66735                     5.23\n",
       "3                      information pathways       273332           0.067551                    6.76              Jaccard_Cont_WiRv_InfoPathways               2              114                      0.01             8           4249                    1.41             10            4363                     0.34\n",
       "4                 insertion seqs and phages       108810           0.026891                    2.69           Jaccard_Cont_WiRv_InsSeqAndPhages             339           489105                     50.16             7          14643                    4.86            346          503748                    39.46\n",
       "5   intermediary metabolism and respiration      1042048           0.257531                   25.75           Jaccard_Cont_WiRv_InterMetabolism              62            28275                      2.90            42          40748                   13.51            104           69023                     5.41\n",
       "6                          lipid metabolism       425978           0.105276                   10.53           Jaccard_Cont_WiRv_LipidMetabolism              15            26130                      2.68            24          25307                    8.39             39           51437                     4.03\n",
       "7                       regulatory proteins       169206           0.041818                    4.18               Jaccard_Cont_WiRv_RegProteins              14             6151                      0.63             7           6849                    2.27             21           13000                     1.02\n",
       "8                               stable RNAs         8223           0.002032                    0.20                Jaccard_Cont_WiRv_StableRNAs               0                0                      0.00             0              0                    0.00              0               0                     0.00\n",
       "9                                   unknown         8403           0.002077                    0.21                   Jaccard_Cont_WiRv_Unknown               4             1178                      0.12             0              0                    0.00              4            1178                     0.09\n",
       "10    virulence, detoxification, adaptation       158028           0.039055                    3.91  Jaccard_Cont_WiRv_VirulenceDetoxAdaptation               2              857                      0.09             5           9697                    3.22              7           10554                     0.83"
      ]
     },
     "execution_count": 180,
     "metadata": {},
     "output_type": "execute_result"
    }
   ],
   "source": [
    "merged_results_DF"
   ]
  },
  {
   "cell_type": "code",
   "execution_count": null,
   "id": "a84d759c-b3f8-47d1-bc42-3c567ab0920e",
   "metadata": {},
   "outputs": [],
   "source": []
  },
  {
   "cell_type": "code",
   "execution_count": null,
   "id": "b9ac2ebe-dc06-49b7-b1da-13c8b7e715fc",
   "metadata": {},
   "outputs": [],
   "source": []
  },
  {
   "cell_type": "code",
   "execution_count": null,
   "id": "a46fc8e8-86cb-479b-95c4-fa6095223751",
   "metadata": {},
   "outputs": [],
   "source": []
  },
  {
   "cell_type": "code",
   "execution_count": null,
   "id": "a2fd64c1-0f85-4f6a-84c9-4982e11e7517",
   "metadata": {},
   "outputs": [],
   "source": []
  },
  {
   "cell_type": "code",
   "execution_count": 190,
   "id": "b2b769ca-9a99-4fc7-8691-48dfa854da6c",
   "metadata": {},
   "outputs": [
    {
     "data": {
      "image/png": "[encoded data removed]",
      "text/plain": [
       "<Figure size 1008x1296 with 3 Axes>"
      ]
     },
     "metadata": {
      "needs_background": "light"
     },
     "output_type": "display_data"
    }
   ],
   "source": [
    "# Create a shared x-axis for all three plots using subplots\n",
    "fig, axes = plt.subplots(3, 1, figsize=(14, 18), sharex=True)\n",
    "\n",
    "# Prepare data for ALL SV nodes\n",
    "comparison_all_sv_df = pd.DataFrame({\n",
    "    \"Category\": gene_cat_lengths[\"Functional_Category\"],\n",
    "    \"Reference Genome Percent\": gene_cat_lengths[\"Percent_RefGeneLengths\"],\n",
    "    \"All SV Nodes Percent\": merged_results_DF[\"SV_PASS_Fraction_Length\"] \n",
    "})\n",
    "comparison_all_sv_melted = comparison_all_sv_df.melt(\n",
    "    id_vars=\"Category\",\n",
    "    value_vars=[\"Reference Genome Percent\", \"All SV Nodes Percent\"],\n",
    "    var_name=\"Dataset\",\n",
    "    value_name=\"Percentage\"\n",
    ")\n",
    "sns.barplot(ax=axes[0], data=comparison_all_sv_melted, x=\"Category\", y=\"Percentage\", hue=\"Dataset\")\n",
    "axes[0].set_title(\"Comparison of Gene Category Percentages (ALL SV Nodes)\")\n",
    "axes[0].set_ylabel(\"Percentage\")\n",
    "axes[0].set_ylim(0, 60)\n",
    "sns.despine(ax=axes[0])\n",
    "\n",
    "# Prepare data for UNIQUE SV nodes\n",
    "comparison_unique_sv_df = pd.DataFrame({\n",
    "    \"Category\": gene_cat_lengths[\"Functional_Category\"],\n",
    "    \"Reference Genome Percent\": gene_cat_lengths[\"Percent_RefGeneLengths\"],\n",
    "    \"Unique SV Nodes Percent\": merged_results_DF[\"SV_Unq_Fraction_Length\"] \n",
    "})\n",
    "comparison_unique_sv_melted = comparison_unique_sv_df.melt(\n",
    "    id_vars=\"Category\",\n",
    "    value_vars=[\"Reference Genome Percent\", \"Unique SV Nodes Percent\"],\n",
    "    var_name=\"Dataset\",\n",
    "    value_name=\"Percentage\"\n",
    ")\n",
    "sns.barplot(ax=axes[1], data=comparison_unique_sv_melted, x=\"Category\", y=\"Percentage\", hue=\"Dataset\")\n",
    "axes[1].set_title(\"Comparison of Gene Category Percentages (UNIQUE SV Nodes)\")\n",
    "axes[1].set_ylabel(\"Percentage\")\n",
    "axes[1].set_ylim(0, 60)\n",
    "sns.despine(ax=axes[1])\n",
    "\n",
    "# Prepare data for NON-UNIQUE SV nodes\n",
    "comparison_nonunique_sv_df = pd.DataFrame({\n",
    "    \"Category\": gene_cat_lengths[\"Functional_Category\"],\n",
    "    \"Reference Genome Percent\": gene_cat_lengths[\"Percent_RefGeneLengths\"],\n",
    "    \"Non-Unique SV Nodes Percent\": merged_results_DF[\"SV_NoUnq_Fraction_Length\"] \n",
    "})\n",
    "comparison_nonunique_sv_melted = comparison_nonunique_sv_df.melt(\n",
    "    id_vars=\"Category\",\n",
    "    value_vars=[\"Reference Genome Percent\", \"Non-Unique SV Nodes Percent\"],\n",
    "    var_name=\"Dataset\",\n",
    "    value_name=\"Percentage\"\n",
    ")\n",
    "sns.barplot(ax=axes[2], data=comparison_nonunique_sv_melted, x=\"Category\", y=\"Percentage\", hue=\"Dataset\")\n",
    "axes[2].set_title(\"Comparison of Gene Category Percentages (NON-UNIQUE SV Nodes)\")\n",
    "axes[2].set_ylabel(\"Percentage\")\n",
    "axes[2].set_xlabel(\"Gene Categories\")\n",
    "axes[2].set_ylim(0, 60)\n",
    "sns.despine(ax=axes[2])\n",
    "\n",
    "# Adjust layout and show the plot\n",
    "plt.xticks(rotation=45, ha='right')\n",
    "plt.tight_layout()\n",
    "plt.show()\n"
   ]
  },
  {
   "cell_type": "code",
   "execution_count": null,
   "id": "57a960e7-af55-45dc-ae97-456fe341f67f",
   "metadata": {},
   "outputs": [],
   "source": []
  },
  {
   "cell_type": "code",
   "execution_count": null,
   "id": "6de0ea1f-864d-411d-90f7-1f9ff545a574",
   "metadata": {},
   "outputs": [],
   "source": []
  },
  {
   "cell_type": "code",
   "execution_count": null,
   "id": "a01dafec-eae4-43e8-a8f6-474dbeeb6372",
   "metadata": {},
   "outputs": [],
   "source": []
  },
  {
   "cell_type": "code",
   "execution_count": null,
   "id": "0d34daf3-db00-4070-9e71-dba3dcab363a",
   "metadata": {},
   "outputs": [],
   "source": []
  },
  {
   "cell_type": "code",
   "execution_count": null,
   "id": "31d1dcb9-98fb-4793-99c1-ac97c69b68d3",
   "metadata": {},
   "outputs": [],
   "source": []
  },
  {
   "cell_type": "code",
   "execution_count": null,
   "id": "e9a4663f-dcc7-44e7-a143-96d53e4f1d3f",
   "metadata": {},
   "outputs": [],
   "source": []
  }
 ],
 "metadata": {
  "kernelspec": {
   "display_name": "py37_S",
   "language": "python",
   "name": "py37_s"
  },
  "language_info": {
   "codemirror_mode": {
    "name": "ipython",
    "version": 3
   },
   "file_extension": ".py",
   "mimetype": "text/x-python",
   "name": "python",
   "nbconvert_exporter": "python",
   "pygments_lexer": "ipython3",
   "version": "3.7.3"
  }
 },
 "nbformat": 4,
 "nbformat_minor": 5
}
