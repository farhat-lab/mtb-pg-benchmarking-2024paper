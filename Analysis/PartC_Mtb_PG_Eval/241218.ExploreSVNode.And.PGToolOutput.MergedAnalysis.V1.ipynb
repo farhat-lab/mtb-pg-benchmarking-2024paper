{
 "cells": [
  {
   "cell_type": "code",
   "execution_count": null,
   "id": "c8a0b428-96ca-4793-8196-ae7e907248bf",
   "metadata": {},
   "outputs": [],
   "source": []
  },
  {
   "cell_type": "code",
   "execution_count": null,
   "id": "a70564b3-1707-4c61-a285-f235e4b32db7",
   "metadata": {},
   "outputs": [],
   "source": []
  },
  {
   "cell_type": "code",
   "execution_count": 1,
   "id": "e4559e8f-abab-454c-bed8-9525021e8f91",
   "metadata": {},
   "outputs": [],
   "source": [
    "\n",
    "import numpy as np\n",
    "import matplotlib.pyplot as plt\n",
    "import seaborn as sns\n",
    "import pandas as pd\n",
    "from tqdm import tqdm\n",
    "%matplotlib inline\n"
   ]
  },
  {
   "cell_type": "code",
   "execution_count": 2,
   "id": "022abc23-1603-4fea-8d84-6dd10d0af5af",
   "metadata": {},
   "outputs": [],
   "source": [
    "%reload_ext autoreload\n",
    "%autoreload 2\n",
    "\n",
    "### import panqc (pan-genome quality control) toolkit functions\n",
    "# from panqc.ava import ava\n",
    "# from panqc.nscluster import clusterBy_KmerJC, summarize_NSClusters, create_MaxKmerSim_JC_Dict, create_MST_FiltByJC, make_ClusterID_Maps \n",
    "# from panqc.nscluster import make_NS_ClusterMerged_Pres_DF\n",
    "\n",
    "from panqc.kmerlib import read_kmers_from_file_ToHashesDict\n",
    "\n",
    "from panqc.utils import parse_PresAbs_Rtab, parse_PresAbs_CSV_Roary, parse_PresAbs_CSV_Panaroo, get_PG_Stats_FromPresAbs\n",
    "\n",
    "from panqc.utils import  parse_PG_Ref_FA, get_PG_Stats_FromDNASeqPresAbs\n",
    "\n",
    "# from panqc.asm_gene_search import parse_AlnHits_To_DF\n",
    "# from panqc.asm_gene_search import PresAbsQC_CheckAsmForGeneSeq, SRAsm_PresAbsQC_CheckInLRAsm\n",
    "# from panqc.asm_gene_search import get_SRAsm_Vs_LRAsm_QCStats\n"
   ]
  },
  {
   "cell_type": "code",
   "execution_count": 3,
   "id": "4cef0f45-881a-43bf-b15a-781100f91efa",
   "metadata": {},
   "outputs": [],
   "source": [
    "import gfapy\n",
    "import ast"
   ]
  },
  {
   "cell_type": "code",
   "execution_count": 4,
   "id": "61127981-d0f2-4bcd-aa7c-987541f354df",
   "metadata": {},
   "outputs": [],
   "source": [
    "import time"
   ]
  },
  {
   "cell_type": "code",
   "execution_count": 5,
   "id": "e82929e7-de67-45f9-b0ff-26ffad982531",
   "metadata": {},
   "outputs": [],
   "source": [
    "import screed"
   ]
  },
  {
   "cell_type": "code",
   "execution_count": 6,
   "id": "f29ce86f-37dc-4364-918e-bdfb5e3b1fa6",
   "metadata": {},
   "outputs": [],
   "source": [
    "import mappy as mp"
   ]
  },
  {
   "cell_type": "code",
   "execution_count": 7,
   "id": "426ac50f-99e9-4d1d-aa0a-937c01abf8de",
   "metadata": {},
   "outputs": [],
   "source": [
    "# Set max column width to a specific value (e.g., 100 characters)\n",
    "pd.set_option('display.max_colwidth', 100)\n",
    "# Set to display a specific number of columns (e.g., 20 columns)\n",
    "pd.set_option('display.max_columns', 180)"
   ]
  },
  {
   "cell_type": "code",
   "execution_count": null,
   "id": "8d8f4046-186d-469b-a67c-c478d49c0699",
   "metadata": {},
   "outputs": [],
   "source": []
  },
  {
   "cell_type": "code",
   "execution_count": null,
   "id": "f9672b89-8143-49f2-b973-d24c726debe6",
   "metadata": {},
   "outputs": [],
   "source": []
  },
  {
   "cell_type": "code",
   "execution_count": null,
   "id": "d3b9aac0-ece0-4ec4-a9c6-99ec5aabfb92",
   "metadata": {},
   "outputs": [],
   "source": []
  },
  {
   "cell_type": "markdown",
   "id": "f1ce7f97-f2c1-4e4f-9c92-45924b696d47",
   "metadata": {
    "jp-MarkdownHeadingCollapsed": true
   },
   "source": [
    "## Define useful Kmer analysis functions"
   ]
  },
  {
   "cell_type": "code",
   "execution_count": 8,
   "id": "5c8191ec-6897-4efe-a920-69953ad58152",
   "metadata": {},
   "outputs": [],
   "source": [
    "import screed"
   ]
  },
  {
   "cell_type": "code",
   "execution_count": 9,
   "id": "6d819e91-0cf8-49b8-a6c0-a210326e26ad",
   "metadata": {},
   "outputs": [],
   "source": [
    "import mmh3"
   ]
  },
  {
   "cell_type": "code",
   "execution_count": 10,
   "id": "2507dc5d-f2e7-45dc-8ed6-e94234422acb",
   "metadata": {},
   "outputs": [],
   "source": [
    "def build_kmers(sequence, ksize):\n",
    "    kmers = []\n",
    "    n_kmers = len(sequence) - ksize + 1\n",
    "    \n",
    "    for i in range(n_kmers):\n",
    "        kmer = sequence[i:i + ksize]\n",
    "        kmers.append(kmer)\n",
    "        \n",
    "    return kmers"
   ]
  },
  {
   "cell_type": "code",
   "execution_count": 11,
   "id": "88d2c9e0-54e8-409a-99d7-279e40e0ce30",
   "metadata": {},
   "outputs": [],
   "source": [
    "#import screed a library for reading in FASTA/FASTQ\n",
    "\n",
    "def read_kmers_from_file(filename, ksize):\n",
    "    all_kmers = []\n",
    "    for record in screed.open(filename):\n",
    "        sequence = record.sequence\n",
    "        \n",
    "        kmers = build_kmers(sequence, ksize)\n",
    "        all_kmers += kmers\n",
    "\n",
    "    return all_kmers"
   ]
  },
  {
   "cell_type": "code",
   "execution_count": 12,
   "id": "ada52ff8-1193-4cf3-9dfb-b37b4ad6b2fd",
   "metadata": {},
   "outputs": [],
   "source": [
    "def hash_kmer(kmer):\n",
    "    # calculate the reverse complement\n",
    "    rc_kmer = screed.rc(kmer)\n",
    "    \n",
    "    # determine whether original k-mer or reverse complement is lesser\n",
    "    if kmer < rc_kmer:\n",
    "        canonical_kmer = kmer\n",
    "    else:\n",
    "        canonical_kmer = rc_kmer\n",
    "        \n",
    "    # calculate murmurhash using a hash seed of 42\n",
    "    hash = mmh3.hash64(canonical_kmer, 42)[0]\n",
    "    if hash < 0: hash += 2**64\n",
    "\n",
    "    return hash"
   ]
  },
  {
   "cell_type": "code",
   "execution_count": 13,
   "id": "911c0f87-a387-4f4a-a527-a550b3dc0488",
   "metadata": {},
   "outputs": [],
   "source": [
    "# def hash_kmers(kmers):\n",
    "#     hashes = []\n",
    "#     for kmer in kmers:\n",
    "#         hashes.append(hash_kmer(kmer))\n",
    "#     return hashes\n",
    "\n",
    "def hash_kmers_ToSet(kmers):\n",
    "    hashes = set()\n",
    "    for kmer in kmers:\n",
    "        hashes.add(hash_kmer(kmer))\n",
    "    return hashes"
   ]
  },
  {
   "cell_type": "code",
   "execution_count": 14,
   "id": "5eb35578-f2fe-465b-8df5-b1d9c637cf47",
   "metadata": {},
   "outputs": [],
   "source": [
    "\n",
    "def jaccard_containment_FromSets(a, b):\n",
    "    '''\n",
    "    This function returns the Jaccard Containment between sets a and b.\n",
    "    '''\n",
    "    \n",
    "    intersection = len(a.intersection(b))\n",
    "    \n",
    "    return intersection / len(a)\n",
    "\n",
    "def jaccard_similarity_FromSets(a, b):\n",
    "    '''\n",
    "    This function returns the Jaccard Similarity between sets a and b.\n",
    "    '''\n",
    "    intersection = len(a.intersection(b))\n",
    "    union = len(a.union(b))\n",
    "    \n",
    "    return intersection / union\n"
   ]
  },
  {
   "cell_type": "code",
   "execution_count": 15,
   "id": "3f9c2230-7155-4d41-96d1-96c0f80d382a",
   "metadata": {},
   "outputs": [],
   "source": [
    "def getAllHash_ExceptTargets_Set_V2(dictOfHashes, targetsToRemove):\n",
    "    # Convert targetsToRemove to a set for faster lookup\n",
    "    targetsToRemoveSet = set(targetsToRemove)\n",
    "\n",
    "    # Use set comprehension for more efficient construction of the result set\n",
    "    return {hash for seqID, seqInfoDict in dictOfHashes.items() if seqID not in targetsToRemoveSet\n",
    "            for hash in seqInfoDict[\"Kmer_Hashes_Set\"]}"
   ]
  },
  {
   "cell_type": "code",
   "execution_count": 16,
   "id": "db13e405-36f1-48f6-88af-5959644f2a55",
   "metadata": {},
   "outputs": [],
   "source": [
    "def getAllHash_InTargetSeqs_Set(dictOfHashes, targetsToKeep):\n",
    "    \n",
    "    all_Hashes_InTarget = set()\n",
    "\n",
    "    for i_SeqID, i_SeqInfoDict in dictOfHashes.items():\n",
    "        \n",
    "        i_Hashes = i_SeqInfoDict[\"Kmer_Hashes_Set\"]\n",
    "        \n",
    "        if i_SeqID not in targetsToKeep:\n",
    "            all_Hashes_InTarget.update(i_Hashes) \n",
    "    \n",
    "    return all_Hashes_InTarget"
   ]
  },
  {
   "cell_type": "code",
   "execution_count": null,
   "id": "ab0f66f2-f073-42a3-9507-6d13e836ac74",
   "metadata": {},
   "outputs": [],
   "source": []
  },
  {
   "cell_type": "code",
   "execution_count": null,
   "id": "15e3382a-f0e0-4a6a-b2bf-acaec398539c",
   "metadata": {},
   "outputs": [],
   "source": []
  },
  {
   "cell_type": "code",
   "execution_count": null,
   "id": "6efff512-e73d-4cc2-b02f-d569cdc57f39",
   "metadata": {},
   "outputs": [],
   "source": []
  },
  {
   "cell_type": "markdown",
   "id": "41653480-8c29-4e58-a75b-f792f389e9d1",
   "metadata": {},
   "source": [
    "## Import/parse processed H37rv genome annotations"
   ]
  },
  {
   "cell_type": "code",
   "execution_count": 17,
   "id": "2d7bce58-7f0a-4ae9-9752-1a0ba35bd4c8",
   "metadata": {},
   "outputs": [],
   "source": [
    "RepoRef_Dir = \"../../References\"\n",
    "\n",
    "AnnotatedGenes_And_IntergenicRegions_RepoRef_Dir = f\"{RepoRef_Dir}/201027_H37rv_AnnotatedGenes_And_IntergenicRegions\"\n",
    "H37Rv_GenomeAnnotations_Genes_TSV = f\"{AnnotatedGenes_And_IntergenicRegions_RepoRef_Dir}/H37Rv_GenomeAnnotations.Genes.tsv\"\n",
    "\n",
    "## H37Rv Gene Annotations TSV\n",
    "H37Rv_GenomeAnno_Genes_DF = pd.read_csv(H37Rv_GenomeAnnotations_Genes_TSV, sep = \"\\t\")\n",
    "H37Rv_GeneInfo_Subset_DF = H37Rv_GenomeAnno_Genes_DF[[\"H37rv_GeneID\", \"Symbol\", \"Feature\", \"Functional_Category\", \"Is_Pseudogene\", \"Product\", \"PEandPPE_Subfamily\", \"ExcludedGroup_Category\"]]\n",
    "\n",
    "RvID_To_Symbol_Dict = dict(H37Rv_GeneInfo_Subset_DF[['H37rv_GeneID', 'Symbol']].values)\n",
    "Symbol_To_FuncCat_Dict = dict(H37Rv_GeneInfo_Subset_DF[['Symbol', 'Functional_Category']].values)\n"
   ]
  },
  {
   "cell_type": "markdown",
   "id": "3d66b9a2-a4ab-43c5-8907-c7dd008901a9",
   "metadata": {},
   "source": [
    "# Part 2: Generate reference k-mer sets (ie H37Rv, IS6110, Phages + ISs)  "
   ]
  },
  {
   "cell_type": "markdown",
   "id": "b10dcd8c-c3cf-4373-8b60-610c23cdedf2",
   "metadata": {},
   "source": [
    "## Generate k-mer info for H37Rv and a representative IS6110 sequence "
   ]
  },
  {
   "cell_type": "code",
   "execution_count": 18,
   "id": "6b28a8d8-dfad-4f2d-9dc8-48fefe11334f",
   "metadata": {},
   "outputs": [],
   "source": [
    "Mtb_RefDir=\"/n/data1/hms/dbmi/farhat/mm774/References\"\n",
    "\n",
    "H37rv_Ref_FA_PATH = f\"{Mtb_RefDir}/GCF_000195955.2_ASM19595v2_genomic.fasta\"\n",
    "IS6110_Example_FA_PATH = f\"{Mtb_RefDir}/IS6110_From_Rv0795_Rv0796.DNA.fasta\""
   ]
  },
  {
   "cell_type": "markdown",
   "id": "4b23d029-27af-4e29-8c43-3759e66f470b",
   "metadata": {},
   "source": [
    "#### H37Rv - k-mer generation & hashing"
   ]
  },
  {
   "cell_type": "code",
   "execution_count": 19,
   "id": "bdc15f6d-d1f0-4493-9c1c-49628cd2a889",
   "metadata": {},
   "outputs": [
    {
     "name": "stdout",
     "output_type": "stream",
     "text": [
      "4411502\n"
     ]
    }
   ],
   "source": [
    "H37Rv_kmers = read_kmers_from_file(H37rv_Ref_FA_PATH, 31)\n",
    "\n",
    "H37Rv_Hashes_Set = hash_kmers_ToSet(H37Rv_kmers)\n",
    "\n",
    "print(len(H37Rv_kmers))"
   ]
  },
  {
   "cell_type": "markdown",
   "id": "e8a9d789-4ae5-47f1-b213-08641c3aed90",
   "metadata": {},
   "source": [
    "#### IS6110 (Rv0795 & Rv0796) - k-mer generation & hashing"
   ]
  },
  {
   "cell_type": "code",
   "execution_count": 20,
   "id": "97fdf414-b94d-422d-b31b-602cdfd69c9f",
   "metadata": {},
   "outputs": [
    {
     "name": "stdout",
     "output_type": "stream",
     "text": [
      "1254\n"
     ]
    }
   ],
   "source": [
    "IS6110_Ex1_kmers = read_kmers_from_file(IS6110_Example_FA_PATH, 31)\n",
    "\n",
    "IS6110_Ex1_Hashes_Set = hash_kmers_ToSet(IS6110_Ex1_kmers)\n",
    "\n",
    "print(len(IS6110_Ex1_kmers))"
   ]
  },
  {
   "cell_type": "code",
   "execution_count": null,
   "id": "cb64a715-9067-4316-b1ac-c7f3838205eb",
   "metadata": {},
   "outputs": [],
   "source": []
  },
  {
   "cell_type": "markdown",
   "id": "99800eeb-17ae-4748-bdc3-32bf89daaf8f",
   "metadata": {},
   "source": [
    "## Generate k-mer info for all H37Rv gene DNA sequences (Mycobrowser)"
   ]
  },
  {
   "cell_type": "code",
   "execution_count": 21,
   "id": "cc391d3a-452e-40f8-9580-96625bcbcbdd",
   "metadata": {},
   "outputs": [],
   "source": [
    "from Bio import SeqIO\n"
   ]
  },
  {
   "cell_type": "code",
   "execution_count": 22,
   "id": "a2639d3e-5944-4a2c-b310-b3bc062fc630",
   "metadata": {},
   "outputs": [],
   "source": [
    "O2_RefDir = \"/n/data1/hms/dbmi/farhat/mm774/References\"\n",
    "MycoBrowser_RefFiles_Dir = f\"{O2_RefDir}/190619_Mycobrowser_H37rv_ReferenceFiles\"\n",
    "\n",
    "H37Rv_Genes_MycoBro_FA = f\"{MycoBrowser_RefFiles_Dir}/Mycobacterium_tuberculosis_H37Rv_genes_v3.fasta\"\n"
   ]
  },
  {
   "cell_type": "code",
   "execution_count": 23,
   "id": "3d8722e5-ad3e-467a-9b5c-85bf6218ad54",
   "metadata": {},
   "outputs": [
    {
     "name": "stdout",
     "output_type": "stream",
     "text": [
      ">Rv0001|dnaA|CDS|1-1524|+|Chromosomal replication initiator protein DnaA\n"
     ]
    }
   ],
   "source": [
    "!grep ^\">\" $H37Rv_Genes_MycoBro_FA | grep \"dnaA\""
   ]
  },
  {
   "cell_type": "markdown",
   "id": "5287771d-c195-41c4-8984-abf1d2e51add",
   "metadata": {},
   "source": [
    "### Get 31-mer hashes for all annotated gene DNA sequences"
   ]
  },
  {
   "cell_type": "code",
   "execution_count": 24,
   "id": "bec8b545-c01f-45f2-90f3-e5aae2dc2b66",
   "metadata": {},
   "outputs": [
    {
     "name": "stderr",
     "output_type": "stream",
     "text": [
      "4187it [00:23, 180.09it/s]\n"
     ]
    }
   ],
   "source": [
    "dictOf_H37Rv_MycoBrow_GeneSeq = {}\n",
    "dictOf_H37Rv_MycoBrow_Gene_KmerHashes = {}\n",
    "\n",
    "for index, record in tqdm(enumerate(SeqIO.parse(H37Rv_Genes_MycoBro_FA, \"fasta\"))):\n",
    "    \n",
    "    RecordName = record.name\n",
    "    RvID = RecordName.split(\"|\")[0]\n",
    "    GeneID = RecordName.split(\"|\")[1]\n",
    "    S_Seq = str(record.seq).upper()\n",
    "    \n",
    "    dictOf_H37Rv_MycoBrow_GeneSeq[GeneID] = S_Seq\n",
    "\n",
    "    record_Hashes_Set = hash_kmers_ToSet(build_kmers(S_Seq, 31))\n",
    "\n",
    "    dictOf_H37Rv_MycoBrow_Gene_KmerHashes[GeneID] = record_Hashes_Set\n",
    "    "
   ]
  },
  {
   "cell_type": "code",
   "execution_count": 25,
   "id": "827f0ee2-5390-4e65-8d89-445e123aae7b",
   "metadata": {},
   "outputs": [
    {
     "data": {
      "text/plain": [
       "1524"
      ]
     },
     "execution_count": 25,
     "metadata": {},
     "output_type": "execute_result"
    }
   ],
   "source": [
    "len(dictOf_H37Rv_MycoBrow_GeneSeq[\"dnaA\"])"
   ]
  },
  {
   "cell_type": "code",
   "execution_count": 26,
   "id": "dd2607d2-1d0a-45e2-9738-80e9843325d5",
   "metadata": {},
   "outputs": [
    {
     "data": {
      "text/plain": [
       "[13580233940393664509, 5138456728421695490]"
      ]
     },
     "execution_count": 26,
     "metadata": {},
     "output_type": "execute_result"
    }
   ],
   "source": [
    "list(dictOf_H37Rv_MycoBrow_Gene_KmerHashes[\"dnaA\"])[:2]"
   ]
  },
  {
   "cell_type": "markdown",
   "id": "2398dbfe-d583-4cb5-8c41-60d75ec12dc8",
   "metadata": {
    "jp-MarkdownHeadingCollapsed": true
   },
   "source": [
    "## Generate k-mer info for each gene category annotation in H37Rv"
   ]
  },
  {
   "cell_type": "code",
   "execution_count": 27,
   "id": "e9f4a339-96d7-4e62-afee-e6c9d3d618da",
   "metadata": {},
   "outputs": [],
   "source": [
    "def getAllHashes_InTargetSeqs(dictOfHashes, targetsToKeep):\n",
    "    \n",
    "    all_Hashes_InTarget = set()\n",
    "\n",
    "    for i_SeqID, i_Hashes in dictOfHashes.items():\n",
    "                \n",
    "        if i_SeqID in targetsToKeep:\n",
    "            all_Hashes_InTarget.update(i_Hashes) \n",
    "    \n",
    "    return all_Hashes_InTarget"
   ]
  },
  {
   "cell_type": "code",
   "execution_count": null,
   "id": "e1062dea-afd9-4d69-9319-0d28426076b3",
   "metadata": {},
   "outputs": [],
   "source": []
  },
  {
   "cell_type": "code",
   "execution_count": null,
   "id": "b582398e-9420-4c3a-97ce-8080d6bf7587",
   "metadata": {},
   "outputs": [],
   "source": []
  },
  {
   "cell_type": "code",
   "execution_count": 28,
   "id": "2fa1b465-9dc5-4b65-81ec-34e71fb7549d",
   "metadata": {},
   "outputs": [
    {
     "name": "stdout",
     "output_type": "stream",
     "text": [
      "information pathways 242 265284\n",
      "conserved hypotheticals 1042 723221\n",
      "cell wall and cell processes 772 783261\n",
      "stable RNAs 48 6735\n",
      "intermediary metabolism and respiration 936 1011332\n",
      "regulatory proteins 198 161826\n",
      "virulence, detoxification, adaptation 239 150509\n",
      "insertion seqs and phages 147 69102\n",
      "lipid metabolism 272 407894\n",
      "PE/PPE 168 265028\n",
      "unknown 15 7938\n"
     ]
    }
   ],
   "source": [
    "Rv_Gene_Category_List = list(H37Rv_GenomeAnno_Genes_DF[\"Functional_Category\"].unique())\n",
    "\n",
    "RvGeneCat_To_Symbol_Dict = {}\n",
    "RvGeneCat_To_RvID_Dict = {}\n",
    "RvGeneCat_To_KmerHashes_Dict = {}\n",
    "\n",
    "for i_GeneCat in Rv_Gene_Category_List:\n",
    "    \n",
    "    Genes_Subset_DF = H37Rv_GenomeAnno_Genes_DF.query(f\"Functional_Category == '{i_GeneCat}'\")     \n",
    "    \n",
    "    Subset_GeneSymbols = Genes_Subset_DF[\"Symbol\"].values\n",
    "    Subset_RvIDs = Genes_Subset_DF[\"H37rv_GeneID\"].values\n",
    "\n",
    "    N_Genes = len(Subset_GeneSymbols)\n",
    "    \n",
    "\n",
    "    RvGeneCat_To_Symbol_Dict[i_GeneCat] = Subset_GeneSymbols\n",
    "    RvGeneCat_To_RvID_Dict[i_GeneCat] = Subset_RvIDs\n",
    "\n",
    "\n",
    "    i_GeneCat_Hashes_Set = getAllHashes_InTargetSeqs(dictOf_H37Rv_MycoBrow_Gene_KmerHashes,\n",
    "                                                     Subset_GeneSymbols)   \n",
    "\n",
    "    RvGeneCat_To_KmerHashes_Dict[i_GeneCat] = i_GeneCat_Hashes_Set\n",
    "    \n",
    "    print(i_GeneCat, N_Genes, len(list(i_GeneCat_Hashes_Set)) )\n"
   ]
  },
  {
   "cell_type": "code",
   "execution_count": null,
   "id": "d3b8f7e8-b330-469b-890f-a4dbb8ea8a09",
   "metadata": {},
   "outputs": [],
   "source": []
  },
  {
   "cell_type": "code",
   "execution_count": 29,
   "id": "9c59e655-43f3-45b0-ada1-6463bc292220",
   "metadata": {},
   "outputs": [],
   "source": [
    "Rv_PEPPEs_Hashes_Set = RvGeneCat_To_KmerHashes_Dict['PE/PPE']"
   ]
  },
  {
   "cell_type": "code",
   "execution_count": 30,
   "id": "3fadb102-3c04-4032-acee-6b35a7f4326f",
   "metadata": {},
   "outputs": [],
   "source": [
    "Rv_PEPPEs_Hashes_Set = RvGeneCat_To_KmerHashes_Dict['PE/PPE']\n",
    "Rv_MGEs_Hashes_Set = RvGeneCat_To_KmerHashes_Dict['insertion seqs and phages']"
   ]
  },
  {
   "cell_type": "code",
   "execution_count": 31,
   "id": "7e51bee7-505a-4134-9060-541bea83f17a",
   "metadata": {},
   "outputs": [
    {
     "name": "stdout",
     "output_type": "stream",
     "text": [
      "69102\n"
     ]
    }
   ],
   "source": [
    "print(len(Rv_MGEs_Hashes_Set))"
   ]
  },
  {
   "cell_type": "code",
   "execution_count": null,
   "id": "939021ef-2440-4293-a869-703d2dc2fefa",
   "metadata": {},
   "outputs": [],
   "source": []
  },
  {
   "cell_type": "code",
   "execution_count": null,
   "id": "424243bc-8ee8-4454-91c5-015ed651cc3d",
   "metadata": {},
   "outputs": [],
   "source": []
  },
  {
   "cell_type": "code",
   "execution_count": null,
   "id": "aafe2520-c9a3-482a-9991-cc778a16327d",
   "metadata": {},
   "outputs": [],
   "source": []
  },
  {
   "cell_type": "code",
   "execution_count": null,
   "id": "1cdcc7c0-99f2-49cc-bd3e-709ac640af97",
   "metadata": {},
   "outputs": [],
   "source": []
  },
  {
   "cell_type": "code",
   "execution_count": null,
   "id": "a5fa5beb-3b00-4fb8-a6ff-ea0bf725e7f7",
   "metadata": {},
   "outputs": [],
   "source": []
  },
  {
   "cell_type": "code",
   "execution_count": null,
   "id": "ca7443fc-e4a4-4752-9ea7-cc16a05063b3",
   "metadata": {},
   "outputs": [],
   "source": []
  },
  {
   "cell_type": "markdown",
   "id": "b369eb1c-ffde-450a-9e71-a16b9d951d79",
   "metadata": {
    "toc-hr-collapsed": true
   },
   "source": [
    "# Parse sample metadata & preprocessed genome info/results"
   ]
  },
  {
   "cell_type": "code",
   "execution_count": 32,
   "id": "3772c283-7bb2-4f8f-ade6-faacb99ba6a1",
   "metadata": {},
   "outputs": [
    {
     "name": "stdout",
     "output_type": "stream",
     "text": [
      "/n/data1/hms/dbmi/farhat/mm774/Snakemake_Pipelines/mtb-pg-benchmarking-2024paper/Analysis/PartC_Mtb_PG_Eval\n"
     ]
    }
   ],
   "source": [
    "!pwd"
   ]
  },
  {
   "cell_type": "code",
   "execution_count": 33,
   "id": "2f75eef4-ef80-49d1-b225-9769feb0b83f",
   "metadata": {},
   "outputs": [],
   "source": [
    "#!ls -1 ../../Data"
   ]
  },
  {
   "cell_type": "markdown",
   "id": "d10782bb-9daa-43c4-9380-02ff3643be39",
   "metadata": {},
   "source": [
    "## Parse sample Metadata (N = 151)"
   ]
  },
  {
   "cell_type": "code",
   "execution_count": 34,
   "id": "1d561fef-44c7-41c9-8ca4-296a01880e1d",
   "metadata": {},
   "outputs": [
    {
     "data": {
      "text/plain": [
       "(151, 7)"
      ]
     },
     "execution_count": 34,
     "metadata": {},
     "output_type": "execute_result"
    }
   ],
   "source": [
    "Repo_DataDir = \"../../Data\"\n",
    "InputAsmPath_Dir = f\"{Repo_DataDir}/231121.InputAsmTSVs.MtbSetV3.151CI\"\n",
    "\n",
    "MtbSetV3_151CI_InputAsmPATHs_TSV = f\"{InputAsmPath_Dir}/231121.MtbSetV3.151CI.HybridAndSRAsm.FAPATHs.V1.tsv\"\n",
    "\n",
    "MtbSetV3_151CI_AsmSumm_TSV = f\"{InputAsmPath_Dir}/231121.MtbSetV3.151CI.HybridAsm.AsmSummary.V2.tsv\"\n",
    "\n",
    "WGA151CI_AsmSummary_DF = pd.read_csv(MtbSetV3_151CI_AsmSumm_TSV, sep = \"\\t\")\n",
    "\n",
    "SampleIDs_151CI_SOI = list( WGA151CI_AsmSummary_DF[\"SampleID\"].values )\n",
    "WGA151CI_SampleIDs = SampleIDs_151CI_SOI\n",
    "\n",
    "ID_To_PrimLineage_Dict = dict(WGA151CI_AsmSummary_DF[['SampleID', 'PrimaryLineage']].values)\n",
    "ID_To_SubLineage_Dict = dict( WGA151CI_AsmSummary_DF[[\"SampleID\", \"Lineage\"]].values)\n",
    "ID_To_Dataset_Dict = dict(WGA151CI_AsmSummary_DF[['SampleID', 'Dataset_Tag']].values)\n",
    "WGA151CI_AsmSummary_DF.shape"
   ]
  },
  {
   "cell_type": "markdown",
   "id": "c29720d9-eea1-4ab4-9b8d-44cbeeac973d",
   "metadata": {},
   "source": [
    "## PARSE PATHs FOR ALL assemblies processed by this pipeline"
   ]
  },
  {
   "cell_type": "code",
   "execution_count": 35,
   "id": "0bf6f65e-1c8c-4181-84a7-374a5e2db5f8",
   "metadata": {},
   "outputs": [
    {
     "name": "stdout",
     "output_type": "stream",
     "text": [
      "Index(['SampleID', 'Dataset_Tag', 'Genome_ASM_PATH',\n",
      "       'ShortRead_Genome_ASM_PATH'],\n",
      "      dtype='object')\n"
     ]
    }
   ],
   "source": [
    "WGA151CI_LRandSR_Asm_Path_DF = pd.read_csv(MtbSetV3_151CI_InputAsmPATHs_TSV, sep = \"\\t\")\n",
    "print(WGA151CI_LRandSR_Asm_Path_DF.columns)\n",
    "WGA151CI_LRandSR_Asm_Path_DF.columns = ['SampleID', 'Dataset_Tag',\n",
    "                                        'Genome_LR_ASM_PATH', 'Genome_SR_ASM_PATH']\n"
   ]
  },
  {
   "cell_type": "code",
   "execution_count": 36,
   "id": "04c1aec7-4765-4e5e-9c6c-0ce195d9e09b",
   "metadata": {},
   "outputs": [
    {
     "data": {
      "text/html": [
       "<div>\n",
       "<style scoped>\n",
       "    .dataframe tbody tr th:only-of-type {\n",
       "        vertical-align: middle;\n",
       "    }\n",
       "\n",
       "    .dataframe tbody tr th {\n",
       "        vertical-align: top;\n",
       "    }\n",
       "\n",
       "    .dataframe thead th {\n",
       "        text-align: right;\n",
       "    }\n",
       "</style>\n",
       "<table border=\"1\" class=\"dataframe\">\n",
       "  <thead>\n",
       "    <tr style=\"text-align: right;\">\n",
       "      <th></th>\n",
       "      <th>SampleID</th>\n",
       "      <th>Dataset_Tag</th>\n",
       "      <th>Genome_LR_ASM_PATH</th>\n",
       "      <th>Genome_SR_ASM_PATH</th>\n",
       "    </tr>\n",
       "  </thead>\n",
       "  <tbody>\n",
       "    <tr>\n",
       "      <th>0</th>\n",
       "      <td>N0072</td>\n",
       "      <td>ChinerOms_2019</td>\n",
       "      <td>/n/data1/hms/dbmi/farhat/mm774/Projects/231121.MtbSetV3.151CI.CompleteAndSR.Asms/ChinerOms_2019/...</td>\n",
       "      <td>/n/data1/hms/dbmi/farhat/mm774/Projects/231121.MtbSetV3.151CI.CompleteAndSR.Asms/ChinerOms_2019/...</td>\n",
       "    </tr>\n",
       "  </tbody>\n",
       "</table>\n",
       "</div>"
      ],
      "text/plain": [
       "  SampleID     Dataset_Tag  \\\n",
       "0    N0072  ChinerOms_2019   \n",
       "\n",
       "                                                                                    Genome_LR_ASM_PATH  \\\n",
       "0  /n/data1/hms/dbmi/farhat/mm774/Projects/231121.MtbSetV3.151CI.CompleteAndSR.Asms/ChinerOms_2019/...   \n",
       "\n",
       "                                                                                    Genome_SR_ASM_PATH  \n",
       "0  /n/data1/hms/dbmi/farhat/mm774/Projects/231121.MtbSetV3.151CI.CompleteAndSR.Asms/ChinerOms_2019/...  "
      ]
     },
     "execution_count": 36,
     "metadata": {},
     "output_type": "execute_result"
    }
   ],
   "source": [
    "WGA151CI_LRandSR_Asm_Path_DF.head(1)"
   ]
  },
  {
   "cell_type": "markdown",
   "id": "b1752239-43d1-4529-8f9d-66ffbf9706fe",
   "metadata": {},
   "source": [
    "#### Create Dict of Asm FA PATHs"
   ]
  },
  {
   "cell_type": "code",
   "execution_count": 37,
   "id": "e0f39ec5-a1eb-434d-a78f-e7e210dc869e",
   "metadata": {},
   "outputs": [],
   "source": [
    "\n",
    "LR_AsmFA_Dict = dict(WGA151CI_LRandSR_Asm_Path_DF[['SampleID', 'Genome_LR_ASM_PATH']].values)\n",
    "SR_AsmFA_Dict = dict(WGA151CI_LRandSR_Asm_Path_DF[['SampleID', 'Genome_SR_ASM_PATH']].values)\n"
   ]
  },
  {
   "cell_type": "code",
   "execution_count": null,
   "id": "96c6bb9f-1fcc-4c8c-9722-c8cbe99fc24e",
   "metadata": {},
   "outputs": [],
   "source": []
  },
  {
   "cell_type": "code",
   "execution_count": null,
   "id": "f43a38ae-db7b-469b-982e-bf05c7c4c4bb",
   "metadata": {},
   "outputs": [],
   "source": []
  },
  {
   "cell_type": "markdown",
   "id": "61fea3b5-42c0-4a83-95f3-61261cdac536",
   "metadata": {},
   "source": [
    "### Define Phylo order of samples:"
   ]
  },
  {
   "cell_type": "code",
   "execution_count": 38,
   "id": "a409918e-a213-48ec-840e-b8d0f28c73e5",
   "metadata": {},
   "outputs": [],
   "source": [
    "OrderOfSampleIDs_Phylo = ['N0153', 'N0072', 'mada_2-46', 'mada_1-44', 'mada_107',\n",
    "                          'mada_1-1', 'mada_1-51', 'mada_1-39', 'mada_1-36',\n",
    "                          'mada_117', 'mada_122', 'mada_118', 'mada_1-10', 'R27252',\n",
    "                          'R23887', 'TB3091', '9050-05', '3003-06', '702-06', '696-05',\n",
    "                          '8651-04', 'TB3396', '4549-04', 'TB1612', 'TB2780', 'TB3368',\n",
    "                          'TB1236', 'TB2659', '8129-04', 'R30215', 'R25048', 'TB2512',\n",
    "                          'TB2981', 'TB2995', 'TB3113', '706-05', 'R30078', 'R28012',\n",
    "                          'R27657', 'R30234', 'R31095', 'R28703', 'R24120', 'R36431',\n",
    "                          'R29816', 'S0070-08', 'N0155', 'N0145', 'R29598', 'R24100',\n",
    "                          'S0107-01', 'R28581', 'S0256-08', 'S0085-01', 'S0089-01',\n",
    "                          'mada_1-11', 'M0003941_3', 'mada_115', 'mada_2-42', 'R37765',\n",
    "                          '18_0621851', 'R22601', 'R27937', 'R18040', 'R18043', 'R27725',\n",
    "                          'R26791', 'R20574', 'R20260', 'R21408', 'R23146', 'R28980', 'R32929',\n",
    "                          'R26778', 'R30420', 'R21893', 'QC-9', 'QC-5', 'QC-3', 'N0004',\n",
    "                          'mada_1-30', 'N0054', 'N1274', '01_R1134', 'TB2968', 'mada_1-53',\n",
    "                          'mada_2-53', 'mada_1-50', 'mada_2-1', 'R23571', 'mada_123',\n",
    "                          'mada_1-12', 'mada_1-15', 'mada_128', 'mada_1-38', 'TB3054',\n",
    "                          'mada_126', 'mada_120', 'TB4620', 'M0016737_0', 'M0016395_7',\n",
    "                          'R15311', 'TB2661', 'TB3386', 'TB3162', '02_R1179', 'M0010874_7',\n",
    "                          'QC-7', 'QC-6', 'QC-1', '01_R1430', 'M0011368_9', '02_R1896',\n",
    "                          'mada_2-25', 'TB3237', 'mada_103', 'mada_112', 'mada_124',\n",
    "                          'S0123-01', 'S0262-02', 'TB3251', 'M0017522_5', 'R30396', 'R20896',\n",
    "                          'mada_1-32', 'S0106-01', 'R21839', 'R21363', 'R21770', 'MT_0080','mada_102',\n",
    "                          'TB3334', 'M0014888_3', 'mada_151', 'TB3169', 'mada_105', 'QC-8',\n",
    "                          'QC-10', 'QC-4', 'mada_129', 'mada_139', '02_R1708', '02_R0894',\n",
    "                          'mada_2-31', 'mada_1-41', 'N1272', 'N1176', 'N1202', 'N0091',\n",
    "                          'N1177','RW-TB008']\n"
   ]
  },
  {
   "cell_type": "code",
   "execution_count": null,
   "id": "f82190f5-c081-4399-9c76-285896ce5caa",
   "metadata": {},
   "outputs": [],
   "source": []
  },
  {
   "cell_type": "code",
   "execution_count": null,
   "id": "2e0495ab-ba00-4fe2-b9c3-54f89d1eeac5",
   "metadata": {},
   "outputs": [],
   "source": []
  },
  {
   "cell_type": "code",
   "execution_count": 39,
   "id": "80b46b53-f606-4a20-83e4-e4723c9782d8",
   "metadata": {},
   "outputs": [
    {
     "data": {
      "text/html": [
       "<div>\n",
       "<style scoped>\n",
       "    .dataframe tbody tr th:only-of-type {\n",
       "        vertical-align: middle;\n",
       "    }\n",
       "\n",
       "    .dataframe tbody tr th {\n",
       "        vertical-align: top;\n",
       "    }\n",
       "\n",
       "    .dataframe thead th {\n",
       "        text-align: right;\n",
       "    }\n",
       "</style>\n",
       "<table border=\"1\" class=\"dataframe\">\n",
       "  <thead>\n",
       "    <tr style=\"text-align: right;\">\n",
       "      <th></th>\n",
       "      <th>SampleID</th>\n",
       "      <th>numContigs_Complete</th>\n",
       "      <th>Flye_CircContig_Cov</th>\n",
       "      <th>PrimaryLineage</th>\n",
       "      <th>Lineage</th>\n",
       "      <th>Dataset_Tag</th>\n",
       "      <th>AsmApproach</th>\n",
       "    </tr>\n",
       "  </thead>\n",
       "  <tbody>\n",
       "    <tr>\n",
       "      <th>0</th>\n",
       "      <td>N0072</td>\n",
       "      <td>1</td>\n",
       "      <td>358</td>\n",
       "      <td>lineage1</td>\n",
       "      <td>lineage1,lineage1.1,lineage1.1.2</td>\n",
       "      <td>ChinerOms_2019</td>\n",
       "      <td>PBrs2_LR_Flye_I3_SR_Pilon</td>\n",
       "    </tr>\n",
       "    <tr>\n",
       "      <th>1</th>\n",
       "      <td>N0153</td>\n",
       "      <td>1</td>\n",
       "      <td>372</td>\n",
       "      <td>lineage1</td>\n",
       "      <td>lineage1,lineage1.1,lineage1.1.1,lineage1.1.1.1</td>\n",
       "      <td>ChinerOms_2019</td>\n",
       "      <td>PBrs2_LR_Flye_I3_SR_Pilon</td>\n",
       "    </tr>\n",
       "    <tr>\n",
       "      <th>2</th>\n",
       "      <td>TB3113</td>\n",
       "      <td>1</td>\n",
       "      <td>933</td>\n",
       "      <td>lineage2</td>\n",
       "      <td>lineage2,lineage2.2,lineage2.2.1</td>\n",
       "      <td>TB_Portals_24CI_R1</td>\n",
       "      <td>PBrs2_LR_Flye_I3_SR_Pilon</td>\n",
       "    </tr>\n",
       "    <tr>\n",
       "      <th>3</th>\n",
       "      <td>TB1236</td>\n",
       "      <td>1</td>\n",
       "      <td>374</td>\n",
       "      <td>lineage2</td>\n",
       "      <td>lineage2,lineage2.2,lineage2.2.1</td>\n",
       "      <td>TB_Portals_24CI_R1</td>\n",
       "      <td>PBrs2_LR_Flye_I3_SR_Pilon</td>\n",
       "    </tr>\n",
       "    <tr>\n",
       "      <th>4</th>\n",
       "      <td>TB2659</td>\n",
       "      <td>1</td>\n",
       "      <td>421</td>\n",
       "      <td>lineage2</td>\n",
       "      <td>lineage2,lineage2.2,lineage2.2.1</td>\n",
       "      <td>TB_Portals_24CI_R1</td>\n",
       "      <td>PBrs2_LR_Flye_I3_SR_Pilon</td>\n",
       "    </tr>\n",
       "  </tbody>\n",
       "</table>\n",
       "</div>"
      ],
      "text/plain": [
       "  SampleID  numContigs_Complete  Flye_CircContig_Cov PrimaryLineage  \\\n",
       "0    N0072                    1                  358       lineage1   \n",
       "1    N0153                    1                  372       lineage1   \n",
       "2   TB3113                    1                  933       lineage2   \n",
       "3   TB1236                    1                  374       lineage2   \n",
       "4   TB2659                    1                  421       lineage2   \n",
       "\n",
       "                                           Lineage         Dataset_Tag  \\\n",
       "0                 lineage1,lineage1.1,lineage1.1.2      ChinerOms_2019   \n",
       "1  lineage1,lineage1.1,lineage1.1.1,lineage1.1.1.1      ChinerOms_2019   \n",
       "2                 lineage2,lineage2.2,lineage2.2.1  TB_Portals_24CI_R1   \n",
       "3                 lineage2,lineage2.2,lineage2.2.1  TB_Portals_24CI_R1   \n",
       "4                 lineage2,lineage2.2,lineage2.2.1  TB_Portals_24CI_R1   \n",
       "\n",
       "                 AsmApproach  \n",
       "0  PBrs2_LR_Flye_I3_SR_Pilon  \n",
       "1  PBrs2_LR_Flye_I3_SR_Pilon  \n",
       "2  PBrs2_LR_Flye_I3_SR_Pilon  \n",
       "3  PBrs2_LR_Flye_I3_SR_Pilon  \n",
       "4  PBrs2_LR_Flye_I3_SR_Pilon  "
      ]
     },
     "execution_count": 39,
     "metadata": {},
     "output_type": "execute_result"
    }
   ],
   "source": [
    "WGA151CI_AsmSummary_DF.head(5)"
   ]
  },
  {
   "cell_type": "markdown",
   "id": "dc804839-4f77-4e91-aace-bc9f5d276450",
   "metadata": {},
   "source": [
    "#### Make sample lineage & color mapping"
   ]
  },
  {
   "cell_type": "code",
   "execution_count": 40,
   "id": "13a380ab-9c6c-4fa4-bd28-ae01f8e39018",
   "metadata": {},
   "outputs": [],
   "source": [
    "# Dictionary for lineage to color mapping\n",
    "LinToColor_Dict = {\n",
    "    \"lineage1\": \"#DF83AC\",\n",
    "    \"lineage2\": \"#7098CB\",\n",
    "    \"lineage3\": \"#815D9F\",\n",
    "    \"lineage4\": \"#E76956\",\n",
    "    \"lineage5\": \"#B67548\",\n",
    "    \"lineage6\": \"#6AB79E\",\n",
    "    \"lineage8\": \"#E4515B\",\n",
    "    \"None\": \"black\",\n",
    "}\n",
    "\n",
    "# Extracting the mapping between IsolateID and PrimaryLineage_Ill\n",
    "lineage_mapping = WGA151CI_AsmSummary_DF.set_index('SampleID')['PrimaryLineage'].to_dict()\n",
    "\n",
    "# Creating a color mapping for the samples\n",
    "sample_colors = {sample: LinToColor_Dict.get(lineage, \"black\") for sample, lineage in lineage_mapping.items()}\n"
   ]
  },
  {
   "cell_type": "code",
   "execution_count": null,
   "id": "daaf71c6-1a84-4e7e-a76e-1dd9b4776722",
   "metadata": {},
   "outputs": [],
   "source": []
  },
  {
   "cell_type": "code",
   "execution_count": null,
   "id": "87a17547-cc3c-47e5-af09-d533b3758319",
   "metadata": {},
   "outputs": [],
   "source": []
  },
  {
   "cell_type": "code",
   "execution_count": null,
   "id": "2ca87ddd-3f0c-423d-a9b2-5a4624265288",
   "metadata": {},
   "outputs": [],
   "source": []
  },
  {
   "cell_type": "code",
   "execution_count": null,
   "id": "41d4493b-c1dd-4e70-9ce0-b7d07a209061",
   "metadata": {},
   "outputs": [],
   "source": []
  },
  {
   "cell_type": "markdown",
   "id": "8b08fb4f-3d50-4b30-bc6f-62426d092616",
   "metadata": {},
   "source": [
    "# Define output dir of the Mtb-WGA-SMK processing pipeline"
   ]
  },
  {
   "cell_type": "code",
   "execution_count": 41,
   "id": "8a678043-6f30-4bc7-b3fc-c448d5e18786",
   "metadata": {},
   "outputs": [],
   "source": [
    "# Define varaint calling pipeline output directories\n",
    "\n",
    "WGA_SMK_Outputs_Dir = \"/n/data1/hms/dbmi/farhat/mm774/Projects/Mtb-WGA-SMK-Output\"\n",
    "\n",
    "WGA151CI_SMK_OutputDir = WGA_SMK_Outputs_Dir + \"/231121_MtbSetV3_151CI\"\n",
    "\n",
    "MtbWGA_SMK_Pipeline_OutputDir = WGA151CI_SMK_OutputDir\n"
   ]
  },
  {
   "cell_type": "code",
   "execution_count": null,
   "id": "4e383c4f-6f5a-4114-b851-06566d20ff7a",
   "metadata": {},
   "outputs": [],
   "source": []
  },
  {
   "cell_type": "markdown",
   "id": "a55107f8-35de-4021-a547-e00f137a7f01",
   "metadata": {},
   "source": [
    "# Parse Minigraph info"
   ]
  },
  {
   "cell_type": "code",
   "execution_count": null,
   "id": "882729ec-1d2e-4c5d-b319-fa7dca831efc",
   "metadata": {},
   "outputs": [],
   "source": []
  },
  {
   "cell_type": "markdown",
   "id": "830115bc-6e4b-4c92-aab3-d3b13636afed",
   "metadata": {},
   "source": [
    "### Define PATHS relevant to Minigraph analysis"
   ]
  },
  {
   "cell_type": "code",
   "execution_count": 42,
   "id": "41814d1a-99ff-43fa-b4a9-e11c504679e8",
   "metadata": {},
   "outputs": [],
   "source": [
    "target_OutputDir = MtbWGA_SMK_Pipeline_OutputDir\n",
    "Minigraph_151CI_OutDir = f\"{target_OutputDir}/Minigraph\"\n",
    "\n",
    "MG_WGA151CI_GFA = f\"{Minigraph_151CI_OutDir}/Minigraph_H37rv_Vs_151CI.V1.gfa\"\n",
    "MG_WGA151CI_Bubble_SV_BED = f\"{Minigraph_151CI_OutDir}/Minigraph_H37rv_Vs_151CI.V1.Bubble.SV.bed\"\n",
    "MG_WGA151CI_Stable_FA = f\"{Minigraph_151CI_OutDir}/Minigraph_H37rv_Vs_151CI.V1.Stable.fa\"\n",
    "\n",
    "MG_WGA151CI_MergedSVInfo_TSV = f\"{Minigraph_151CI_OutDir}/Minigraph_H37rv_Vs_151CI.MergedSV.Info.tsv\"\n",
    "MG_WGA151CI_MergedSVInfo_SVVCF = f\"{Minigraph_151CI_OutDir}/Minigraph_H37rv_Vs_151CI.MergedSV.Info.svvcf\"\n"
   ]
  },
  {
   "cell_type": "code",
   "execution_count": 43,
   "id": "b864d99f-73c6-4617-a083-9cd84e7f324e",
   "metadata": {},
   "outputs": [
    {
     "data": {
      "text/plain": [
       "'/n/data1/hms/dbmi/farhat/mm774/Projects/Mtb-WGA-SMK-Output/231121_MtbSetV3_151CI/Minigraph'"
      ]
     },
     "execution_count": 43,
     "metadata": {},
     "output_type": "execute_result"
    }
   ],
   "source": [
    "Minigraph_151CI_OutDir"
   ]
  },
  {
   "cell_type": "markdown",
   "id": "b734871b-eece-4da8-86e1-eabd0adafc0d",
   "metadata": {},
   "source": [
    "#### use `gfatools` to print general stats of the SV graph (rGFA format)"
   ]
  },
  {
   "cell_type": "code",
   "execution_count": 44,
   "id": "241756f0-de7d-4efb-92e0-d65ffe3c8c6b",
   "metadata": {},
   "outputs": [
    {
     "name": "stdout",
     "output_type": "stream",
     "text": [
      "Number of segments: 3138\n",
      "Number of links: 4705\n",
      "Number of arcs: 9410\n",
      "Max rank: 129\n",
      "Total segment length: 5196363\n",
      "Average segment length: 1655.947\n",
      "Sum of rank-0 segment lengths: 4411532\n",
      "Max degree: 8\n",
      "Average degree: 1.499\n",
      "[M::main] Version: 0.5-r292-dirty\n",
      "[M::main] CMD: gfatools stat /n/data1/hms/dbmi/farhat/mm774/Projects/Mtb-WGA-SMK-Output/231121_MtbSetV3_151CI/Minigraph/Minigraph_H37rv_Vs_151CI.V1.gfa\n",
      "[M::main] Real time: 0.028 sec; CPU: 0.050 sec\n"
     ]
    }
   ],
   "source": [
    "!gfatools stat $MG_WGA151CI_GFA"
   ]
  },
  {
   "cell_type": "code",
   "execution_count": null,
   "id": "ce827663-a6c0-4585-ad0b-d95ddf18003c",
   "metadata": {},
   "outputs": [],
   "source": []
  },
  {
   "cell_type": "markdown",
   "id": "53950b81-9b96-4d14-9753-4992e8ed736c",
   "metadata": {},
   "source": [
    "### Define paths to processed analysis of SV Pan-genome graph (minigraph)"
   ]
  },
  {
   "cell_type": "code",
   "execution_count": 45,
   "id": "0c664481-4064-41ca-b2d3-0d07134ca9bd",
   "metadata": {},
   "outputs": [],
   "source": [
    "PangenomeAnalysis_Dir = \"../../Data/MtbPangenomeAnalysis_SetV5\"\n",
    "\n",
    "MG_Node_KmerComp_TSV_GZ = f\"{PangenomeAnalysis_Dir}/MtbSVPG.Minigraph.NodeKmerComp.Summary.V1.tsv.gz\" \n",
    "\n",
    "MG_AvA_Node_KmerAnalysis_TSV_GZ = f\"{PangenomeAnalysis_Dir}/MtbSVPG.Minigraph.NodeKmerComp.AllVsAll.V1.tsv.gz\"     \n",
    "\n",
    "MG_BubbleSumm_TSV_GZ = f\"{PangenomeAnalysis_Dir}/MtbSVPG.Minigraph.BubbleSummary.BED.tsv.gz\"     \n",
    "\n",
    "MG_SVVCF_TSV_GZ = f\"{PangenomeAnalysis_Dir}/MtbSVPG.Minigraph.BubbleAlleleInfo.SVVCF.tsv.gz\" \n",
    "\n",
    "MG_SVInfo_TSV_GZ = f\"{PangenomeAnalysis_Dir}/MtbSVPG.Minigraph.BubbleAlleleInfo.SVInfo.tsv.gz\" \n"
   ]
  },
  {
   "cell_type": "code",
   "execution_count": null,
   "id": "4f57a387-c896-44bf-86fa-629d49c0d955",
   "metadata": {},
   "outputs": [],
   "source": []
  },
  {
   "cell_type": "markdown",
   "id": "e00a62dd-e5f0-4e7b-9178-9235d80f7e7b",
   "metadata": {},
   "source": [
    "### Parse in `AvA_Nodes_DF`"
   ]
  },
  {
   "cell_type": "code",
   "execution_count": 46,
   "id": "11add465-7e86-4e5c-9bc0-109863f64bda",
   "metadata": {},
   "outputs": [
    {
     "data": {
      "text/plain": [
       "(123104, 6)"
      ]
     },
     "execution_count": 46,
     "metadata": {},
     "output_type": "execute_result"
    }
   ],
   "source": [
    "AvA_Nodes_DF = pd.read_csv(MG_AvA_Node_KmerAnalysis_TSV_GZ, sep = \"\\t\" )\n",
    "AvA_Nodes_DF.shape"
   ]
  },
  {
   "cell_type": "code",
   "execution_count": 47,
   "id": "fbc019c0-148d-4e61-8f0a-186c1f76a582",
   "metadata": {},
   "outputs": [
    {
     "data": {
      "text/html": [
       "<div>\n",
       "<style scoped>\n",
       "    .dataframe tbody tr th:only-of-type {\n",
       "        vertical-align: middle;\n",
       "    }\n",
       "\n",
       "    .dataframe tbody tr th {\n",
       "        vertical-align: top;\n",
       "    }\n",
       "\n",
       "    .dataframe thead th {\n",
       "        text-align: right;\n",
       "    }\n",
       "</style>\n",
       "<table border=\"1\" class=\"dataframe\">\n",
       "  <thead>\n",
       "    <tr style=\"text-align: right;\">\n",
       "      <th></th>\n",
       "      <th>RecordID_1</th>\n",
       "      <th>RecordID_2</th>\n",
       "      <th>Record1_Len</th>\n",
       "      <th>Record2_Len</th>\n",
       "      <th>JaccardSim</th>\n",
       "      <th>JaccardContain</th>\n",
       "    </tr>\n",
       "  </thead>\n",
       "  <tbody>\n",
       "    <tr>\n",
       "      <th>0</th>\n",
       "      <td>s3</td>\n",
       "      <td>s2959</td>\n",
       "      <td>56</td>\n",
       "      <td>61</td>\n",
       "      <td>0.781250</td>\n",
       "      <td>0.961538</td>\n",
       "    </tr>\n",
       "    <tr>\n",
       "      <th>1</th>\n",
       "      <td>s7</td>\n",
       "      <td>s2247</td>\n",
       "      <td>1876</td>\n",
       "      <td>42</td>\n",
       "      <td>0.006501</td>\n",
       "      <td>0.006501</td>\n",
       "    </tr>\n",
       "    <tr>\n",
       "      <th>2</th>\n",
       "      <td>s8</td>\n",
       "      <td>s2823</td>\n",
       "      <td>542</td>\n",
       "      <td>87</td>\n",
       "      <td>0.096339</td>\n",
       "      <td>0.097656</td>\n",
       "    </tr>\n",
       "    <tr>\n",
       "      <th>3</th>\n",
       "      <td>s13</td>\n",
       "      <td>s2037</td>\n",
       "      <td>24063</td>\n",
       "      <td>49</td>\n",
       "      <td>0.000208</td>\n",
       "      <td>0.000208</td>\n",
       "    </tr>\n",
       "    <tr>\n",
       "      <th>4</th>\n",
       "      <td>s13</td>\n",
       "      <td>s2039</td>\n",
       "      <td>24063</td>\n",
       "      <td>114</td>\n",
       "      <td>0.000208</td>\n",
       "      <td>0.000208</td>\n",
       "    </tr>\n",
       "  </tbody>\n",
       "</table>\n",
       "</div>"
      ],
      "text/plain": [
       "  RecordID_1 RecordID_2  Record1_Len  Record2_Len  JaccardSim  JaccardContain\n",
       "0         s3      s2959           56           61    0.781250        0.961538\n",
       "1         s7      s2247         1876           42    0.006501        0.006501\n",
       "2         s8      s2823          542           87    0.096339        0.097656\n",
       "3        s13      s2037        24063           49    0.000208        0.000208\n",
       "4        s13      s2039        24063          114    0.000208        0.000208"
      ]
     },
     "execution_count": 47,
     "metadata": {},
     "output_type": "execute_result"
    }
   ],
   "source": [
    "AvA_Nodes_DF.head()"
   ]
  },
  {
   "cell_type": "markdown",
   "id": "934aff5d-6ebc-49d9-abd7-412ffd92e9fe",
   "metadata": {},
   "source": [
    "### Parse in `MG_Nodes_KmerVsRefSets_DF`"
   ]
  },
  {
   "cell_type": "code",
   "execution_count": 48,
   "id": "774f35f9-3cf7-46e5-bd81-173b6391549a",
   "metadata": {},
   "outputs": [
    {
     "data": {
      "text/plain": [
       "(3138, 18)"
      ]
     },
     "execution_count": 48,
     "metadata": {},
     "output_type": "execute_result"
    }
   ],
   "source": [
    "MG_Nodes_KmerComp_DF = pd.read_csv(MG_Node_KmerComp_TSV_GZ, sep = \"\\t\" )\n",
    "MG_Nodes_KmerComp_DF.shape"
   ]
  },
  {
   "cell_type": "code",
   "execution_count": 49,
   "id": "3882970c-f507-40fb-abe0-867ca4816122",
   "metadata": {},
   "outputs": [
    {
     "data": {
      "text/html": [
       "<div>\n",
       "<style scoped>\n",
       "    .dataframe tbody tr th:only-of-type {\n",
       "        vertical-align: middle;\n",
       "    }\n",
       "\n",
       "    .dataframe tbody tr th {\n",
       "        vertical-align: top;\n",
       "    }\n",
       "\n",
       "    .dataframe thead th {\n",
       "        text-align: right;\n",
       "    }\n",
       "</style>\n",
       "<table border=\"1\" class=\"dataframe\">\n",
       "  <thead>\n",
       "    <tr style=\"text-align: right;\">\n",
       "      <th></th>\n",
       "      <th>NodeID</th>\n",
       "      <th>IsSVNode</th>\n",
       "      <th>SeqLength</th>\n",
       "      <th>Jaccard_Cont_WiRv</th>\n",
       "      <th>Jaccard_Cont_WiIS6110</th>\n",
       "      <th>Jaccard_Cont_WiRv_InsSeqAndPhages</th>\n",
       "      <th>Jaccard_Cont_WiRv_PEPPEs</th>\n",
       "      <th>Jaccard_Cont_WiRv_InfoPathways</th>\n",
       "      <th>Jaccard_Cont_WiRv_ConservedHypo</th>\n",
       "      <th>Jaccard_Cont_WiRv_CellWallCellProc</th>\n",
       "      <th>Jaccard_Cont_WiRv_StableRNAs</th>\n",
       "      <th>Jaccard_Cont_WiRv_InterMetabolism</th>\n",
       "      <th>Jaccard_Cont_WiRv_RegProteins</th>\n",
       "      <th>Jaccard_Cont_WiRv_VirulenceDetoxAdaptation</th>\n",
       "      <th>Jaccard_Cont_WiRv_LipidMetabolism</th>\n",
       "      <th>Jaccard_Cont_WiRv_Unknown</th>\n",
       "      <th>BubbleID</th>\n",
       "      <th>MaxJC_ToOtherNode</th>\n",
       "    </tr>\n",
       "  </thead>\n",
       "  <tbody>\n",
       "    <tr>\n",
       "      <th>0</th>\n",
       "      <td>s1</td>\n",
       "      <td>False</td>\n",
       "      <td>1533</td>\n",
       "      <td>1.0</td>\n",
       "      <td>0.0</td>\n",
       "      <td>0.0</td>\n",
       "      <td>0.0</td>\n",
       "      <td>0.994012</td>\n",
       "      <td>0.000000</td>\n",
       "      <td>0.000000</td>\n",
       "      <td>0.000000</td>\n",
       "      <td>0.0</td>\n",
       "      <td>0.0</td>\n",
       "      <td>0.0</td>\n",
       "      <td>0.0</td>\n",
       "      <td>0.0</td>\n",
       "      <td>None</td>\n",
       "      <td>0.000000</td>\n",
       "    </tr>\n",
       "    <tr>\n",
       "      <th>1</th>\n",
       "      <td>s2</td>\n",
       "      <td>False</td>\n",
       "      <td>58</td>\n",
       "      <td>1.0</td>\n",
       "      <td>0.0</td>\n",
       "      <td>0.0</td>\n",
       "      <td>0.0</td>\n",
       "      <td>0.000000</td>\n",
       "      <td>0.000000</td>\n",
       "      <td>0.000000</td>\n",
       "      <td>0.000000</td>\n",
       "      <td>0.0</td>\n",
       "      <td>0.0</td>\n",
       "      <td>0.0</td>\n",
       "      <td>0.0</td>\n",
       "      <td>0.0</td>\n",
       "      <td>None</td>\n",
       "      <td>0.000000</td>\n",
       "    </tr>\n",
       "    <tr>\n",
       "      <th>2</th>\n",
       "      <td>s3</td>\n",
       "      <td>True</td>\n",
       "      <td>56</td>\n",
       "      <td>1.0</td>\n",
       "      <td>0.0</td>\n",
       "      <td>0.0</td>\n",
       "      <td>0.0</td>\n",
       "      <td>0.000000</td>\n",
       "      <td>0.000000</td>\n",
       "      <td>0.000000</td>\n",
       "      <td>0.000000</td>\n",
       "      <td>0.0</td>\n",
       "      <td>0.0</td>\n",
       "      <td>0.0</td>\n",
       "      <td>0.0</td>\n",
       "      <td>0.0</td>\n",
       "      <td>BubbleRegion_2</td>\n",
       "      <td>0.961538</td>\n",
       "    </tr>\n",
       "    <tr>\n",
       "      <th>3</th>\n",
       "      <td>s4</td>\n",
       "      <td>True</td>\n",
       "      <td>5</td>\n",
       "      <td>0.0</td>\n",
       "      <td>0.0</td>\n",
       "      <td>0.0</td>\n",
       "      <td>0.0</td>\n",
       "      <td>0.000000</td>\n",
       "      <td>0.000000</td>\n",
       "      <td>0.000000</td>\n",
       "      <td>0.000000</td>\n",
       "      <td>0.0</td>\n",
       "      <td>0.0</td>\n",
       "      <td>0.0</td>\n",
       "      <td>0.0</td>\n",
       "      <td>0.0</td>\n",
       "      <td>BubbleRegion_2</td>\n",
       "      <td>0.000000</td>\n",
       "    </tr>\n",
       "    <tr>\n",
       "      <th>4</th>\n",
       "      <td>s5</td>\n",
       "      <td>False</td>\n",
       "      <td>11970</td>\n",
       "      <td>1.0</td>\n",
       "      <td>0.0</td>\n",
       "      <td>0.0</td>\n",
       "      <td>0.0</td>\n",
       "      <td>0.612312</td>\n",
       "      <td>0.044724</td>\n",
       "      <td>0.141457</td>\n",
       "      <td>0.007286</td>\n",
       "      <td>0.0</td>\n",
       "      <td>0.0</td>\n",
       "      <td>0.0</td>\n",
       "      <td>0.0</td>\n",
       "      <td>0.0</td>\n",
       "      <td>None</td>\n",
       "      <td>0.000000</td>\n",
       "    </tr>\n",
       "  </tbody>\n",
       "</table>\n",
       "</div>"
      ],
      "text/plain": [
       "  NodeID  IsSVNode  SeqLength  Jaccard_Cont_WiRv  Jaccard_Cont_WiIS6110  \\\n",
       "0     s1     False       1533                1.0                    0.0   \n",
       "1     s2     False         58                1.0                    0.0   \n",
       "2     s3      True         56                1.0                    0.0   \n",
       "3     s4      True          5                0.0                    0.0   \n",
       "4     s5     False      11970                1.0                    0.0   \n",
       "\n",
       "   Jaccard_Cont_WiRv_InsSeqAndPhages  Jaccard_Cont_WiRv_PEPPEs  \\\n",
       "0                                0.0                       0.0   \n",
       "1                                0.0                       0.0   \n",
       "2                                0.0                       0.0   \n",
       "3                                0.0                       0.0   \n",
       "4                                0.0                       0.0   \n",
       "\n",
       "   Jaccard_Cont_WiRv_InfoPathways  Jaccard_Cont_WiRv_ConservedHypo  \\\n",
       "0                        0.994012                         0.000000   \n",
       "1                        0.000000                         0.000000   \n",
       "2                        0.000000                         0.000000   \n",
       "3                        0.000000                         0.000000   \n",
       "4                        0.612312                         0.044724   \n",
       "\n",
       "   Jaccard_Cont_WiRv_CellWallCellProc  Jaccard_Cont_WiRv_StableRNAs  \\\n",
       "0                            0.000000                      0.000000   \n",
       "1                            0.000000                      0.000000   \n",
       "2                            0.000000                      0.000000   \n",
       "3                            0.000000                      0.000000   \n",
       "4                            0.141457                      0.007286   \n",
       "\n",
       "   Jaccard_Cont_WiRv_InterMetabolism  Jaccard_Cont_WiRv_RegProteins  \\\n",
       "0                                0.0                            0.0   \n",
       "1                                0.0                            0.0   \n",
       "2                                0.0                            0.0   \n",
       "3                                0.0                            0.0   \n",
       "4                                0.0                            0.0   \n",
       "\n",
       "   Jaccard_Cont_WiRv_VirulenceDetoxAdaptation  \\\n",
       "0                                         0.0   \n",
       "1                                         0.0   \n",
       "2                                         0.0   \n",
       "3                                         0.0   \n",
       "4                                         0.0   \n",
       "\n",
       "   Jaccard_Cont_WiRv_LipidMetabolism  Jaccard_Cont_WiRv_Unknown  \\\n",
       "0                                0.0                        0.0   \n",
       "1                                0.0                        0.0   \n",
       "2                                0.0                        0.0   \n",
       "3                                0.0                        0.0   \n",
       "4                                0.0                        0.0   \n",
       "\n",
       "         BubbleID  MaxJC_ToOtherNode  \n",
       "0            None           0.000000  \n",
       "1            None           0.000000  \n",
       "2  BubbleRegion_2           0.961538  \n",
       "3  BubbleRegion_2           0.000000  \n",
       "4            None           0.000000  "
      ]
     },
     "execution_count": 49,
     "metadata": {},
     "output_type": "execute_result"
    }
   ],
   "source": [
    "MG_Nodes_KmerComp_DF.head()"
   ]
  },
  {
   "cell_type": "markdown",
   "id": "74294209-0c83-4c2d-afe0-08f3223767a1",
   "metadata": {},
   "source": [
    "### Parse in `MG_SV_BED_DF`"
   ]
  },
  {
   "cell_type": "code",
   "execution_count": 50,
   "id": "10f971f8-cb9c-4bf2-9633-43cb03df760c",
   "metadata": {},
   "outputs": [],
   "source": [
    "import ast"
   ]
  },
  {
   "cell_type": "code",
   "execution_count": 51,
   "id": "7e8c7b0b-7ea1-45b1-985b-9302f66d5122",
   "metadata": {},
   "outputs": [
    {
     "data": {
      "text/plain": [
       "(535, 14)"
      ]
     },
     "execution_count": 51,
     "metadata": {},
     "output_type": "execute_result"
    }
   ],
   "source": [
    "MG_SV_BED_DF = pd.read_csv(MG_BubbleSumm_TSV_GZ, sep = \"\\t\" )\n",
    "\n",
    "# Convert the string representation of the list of nodes to python list of nodes\n",
    "MG_SV_BED_DF[\"NodePath_Trimmed\"] = MG_SV_BED_DF[\"NodePath_Trimmed\"].apply(ast.literal_eval)\n",
    "\n",
    "MG_SV_BED_DF.shape"
   ]
  },
  {
   "cell_type": "code",
   "execution_count": 52,
   "id": "87a447b6-8e7a-4bd0-bec2-beedbfbb578f",
   "metadata": {},
   "outputs": [
    {
     "data": {
      "text/html": [
       "<div>\n",
       "<style scoped>\n",
       "    .dataframe tbody tr th:only-of-type {\n",
       "        vertical-align: middle;\n",
       "    }\n",
       "\n",
       "    .dataframe tbody tr th {\n",
       "        vertical-align: top;\n",
       "    }\n",
       "\n",
       "    .dataframe thead th {\n",
       "        text-align: right;\n",
       "    }\n",
       "</style>\n",
       "<table border=\"1\" class=\"dataframe\">\n",
       "  <thead>\n",
       "    <tr style=\"text-align: right;\">\n",
       "      <th></th>\n",
       "      <th>Chr</th>\n",
       "      <th>Start</th>\n",
       "      <th>End</th>\n",
       "      <th>Len_Ref</th>\n",
       "      <th>Len_Alt</th>\n",
       "      <th>NodePath</th>\n",
       "      <th>NodePath_Trimmed</th>\n",
       "      <th>Start_Node</th>\n",
       "      <th>End_Node</th>\n",
       "      <th>BubbleNum</th>\n",
       "      <th>BubbleID</th>\n",
       "      <th>NumSVNodes</th>\n",
       "      <th>Overlap_Genes</th>\n",
       "      <th>Overlap_Gene_RvIDs</th>\n",
       "    </tr>\n",
       "  </thead>\n",
       "  <tbody>\n",
       "    <tr>\n",
       "      <th>0</th>\n",
       "      <td>NC_000962.3</td>\n",
       "      <td>1533</td>\n",
       "      <td>1533</td>\n",
       "      <td>0</td>\n",
       "      <td>0</td>\n",
       "      <td>s1,s2</td>\n",
       "      <td>[]</td>\n",
       "      <td>s1</td>\n",
       "      <td>s2</td>\n",
       "      <td>1</td>\n",
       "      <td>BubbleRegion_1</td>\n",
       "      <td>0</td>\n",
       "      <td>NaN</td>\n",
       "      <td>NaN</td>\n",
       "    </tr>\n",
       "    <tr>\n",
       "      <th>1</th>\n",
       "      <td>NC_000962.3</td>\n",
       "      <td>1591</td>\n",
       "      <td>1652</td>\n",
       "      <td>61</td>\n",
       "      <td>1480</td>\n",
       "      <td>s2,s2034,s2959,s2035,s3,s2036,s2036,s3,s2035,s2959,s2034,s4,s5</td>\n",
       "      <td>[s2034, s2959, s2035, s3, s2036, s2036, s3, s2035, s2959, s2034, s4]</td>\n",
       "      <td>s2</td>\n",
       "      <td>s5</td>\n",
       "      <td>2</td>\n",
       "      <td>BubbleRegion_2</td>\n",
       "      <td>11</td>\n",
       "      <td>NaN</td>\n",
       "      <td>NaN</td>\n",
       "    </tr>\n",
       "    <tr>\n",
       "      <th>2</th>\n",
       "      <td>NC_000962.3</td>\n",
       "      <td>13622</td>\n",
       "      <td>13622</td>\n",
       "      <td>0</td>\n",
       "      <td>1358</td>\n",
       "      <td>s5,s2744,s6</td>\n",
       "      <td>[s2744]</td>\n",
       "      <td>s5</td>\n",
       "      <td>s6</td>\n",
       "      <td>3</td>\n",
       "      <td>BubbleRegion_3</td>\n",
       "      <td>1</td>\n",
       "      <td>NaN</td>\n",
       "      <td>NaN</td>\n",
       "    </tr>\n",
       "  </tbody>\n",
       "</table>\n",
       "</div>"
      ],
      "text/plain": [
       "           Chr  Start    End  Len_Ref  Len_Alt  \\\n",
       "0  NC_000962.3   1533   1533        0        0   \n",
       "1  NC_000962.3   1591   1652       61     1480   \n",
       "2  NC_000962.3  13622  13622        0     1358   \n",
       "\n",
       "                                                         NodePath  \\\n",
       "0                                                           s1,s2   \n",
       "1  s2,s2034,s2959,s2035,s3,s2036,s2036,s3,s2035,s2959,s2034,s4,s5   \n",
       "2                                                     s5,s2744,s6   \n",
       "\n",
       "                                                       NodePath_Trimmed  \\\n",
       "0                                                                    []   \n",
       "1  [s2034, s2959, s2035, s3, s2036, s2036, s3, s2035, s2959, s2034, s4]   \n",
       "2                                                               [s2744]   \n",
       "\n",
       "  Start_Node End_Node  BubbleNum        BubbleID  NumSVNodes Overlap_Genes  \\\n",
       "0         s1       s2          1  BubbleRegion_1           0           NaN   \n",
       "1         s2       s5          2  BubbleRegion_2          11           NaN   \n",
       "2         s5       s6          3  BubbleRegion_3           1           NaN   \n",
       "\n",
       "  Overlap_Gene_RvIDs  \n",
       "0                NaN  \n",
       "1                NaN  \n",
       "2                NaN  "
      ]
     },
     "execution_count": 52,
     "metadata": {},
     "output_type": "execute_result"
    }
   ],
   "source": [
    "MG_SV_BED_DF.head(3)"
   ]
  },
  {
   "cell_type": "markdown",
   "id": "284ee8ab-cb8f-4d6b-9fd3-6e1f62f0ec72",
   "metadata": {},
   "source": [
    "### Parse in `MG_SVVCF_DF`"
   ]
  },
  {
   "cell_type": "code",
   "execution_count": 53,
   "id": "db1ace18-9c50-4ce5-ac35-79d1f0d875a2",
   "metadata": {},
   "outputs": [
    {
     "data": {
      "text/plain": [
       "(535, 169)"
      ]
     },
     "execution_count": 53,
     "metadata": {},
     "output_type": "execute_result"
    }
   ],
   "source": [
    "MG_SVVCF_DF = pd.read_csv(MG_SVVCF_TSV_GZ, sep = \"\\t\" )\n",
    "MG_SVVCF_DF.shape"
   ]
  },
  {
   "cell_type": "markdown",
   "id": "aa8e49c9-f2d3-443f-a23f-8154ca0c0632",
   "metadata": {},
   "source": [
    "### Parse in `MG_SVInfo_DF`"
   ]
  },
  {
   "cell_type": "code",
   "execution_count": 54,
   "id": "0e583b5c-cc05-47af-bcba-b6ec27f5c98a",
   "metadata": {},
   "outputs": [
    {
     "data": {
      "text/plain": [
       "(535, 160)"
      ]
     },
     "execution_count": 54,
     "metadata": {},
     "output_type": "execute_result"
    }
   ],
   "source": [
    "MG_SVInfo_DF = pd.read_csv(MG_SVInfo_TSV_GZ, sep = \"\\t\" )\n",
    "MG_SVInfo_DF.shape"
   ]
  },
  {
   "cell_type": "code",
   "execution_count": 55,
   "id": "3754e257-8796-4ada-88bb-1dba83cd9dbd",
   "metadata": {},
   "outputs": [
    {
     "data": {
      "text/plain": [
       "array([list([]),\n",
       "       list(['s2034', 's2959', 's2035', 's3', 's2036', 's2036', 's3', 's2035', 's2959', 's2034', 's4'])],\n",
       "      dtype=object)"
      ]
     },
     "execution_count": 55,
     "metadata": {},
     "output_type": "execute_result"
    }
   ],
   "source": [
    "MG_SV_BED_DF[\"NodePath_Trimmed\"].values[:2]"
   ]
  },
  {
   "cell_type": "code",
   "execution_count": 56,
   "id": "f746a5ce-3ab6-4e31-9768-d465871d4c89",
   "metadata": {},
   "outputs": [
    {
     "data": {
      "text/html": [
       "<div>\n",
       "<style scoped>\n",
       "    .dataframe tbody tr th:only-of-type {\n",
       "        vertical-align: middle;\n",
       "    }\n",
       "\n",
       "    .dataframe tbody tr th {\n",
       "        vertical-align: top;\n",
       "    }\n",
       "\n",
       "    .dataframe thead th {\n",
       "        text-align: right;\n",
       "    }\n",
       "</style>\n",
       "<table border=\"1\" class=\"dataframe\">\n",
       "  <thead>\n",
       "    <tr style=\"text-align: right;\">\n",
       "      <th></th>\n",
       "      <th>Chr</th>\n",
       "      <th>Start</th>\n",
       "      <th>End</th>\n",
       "      <th>Len_Ref</th>\n",
       "      <th>Len_Alt</th>\n",
       "      <th>NodePath</th>\n",
       "      <th>NodePath_Trimmed</th>\n",
       "      <th>Start_Node</th>\n",
       "      <th>End_Node</th>\n",
       "      <th>BubbleNum</th>\n",
       "      <th>BubbleID</th>\n",
       "      <th>NumSVNodes</th>\n",
       "      <th>Overlap_Genes</th>\n",
       "      <th>Overlap_Gene_RvIDs</th>\n",
       "    </tr>\n",
       "  </thead>\n",
       "  <tbody>\n",
       "    <tr>\n",
       "      <th>0</th>\n",
       "      <td>NC_000962.3</td>\n",
       "      <td>1533</td>\n",
       "      <td>1533</td>\n",
       "      <td>0</td>\n",
       "      <td>0</td>\n",
       "      <td>s1,s2</td>\n",
       "      <td>[]</td>\n",
       "      <td>s1</td>\n",
       "      <td>s2</td>\n",
       "      <td>1</td>\n",
       "      <td>BubbleRegion_1</td>\n",
       "      <td>0</td>\n",
       "      <td>NaN</td>\n",
       "      <td>NaN</td>\n",
       "    </tr>\n",
       "    <tr>\n",
       "      <th>1</th>\n",
       "      <td>NC_000962.3</td>\n",
       "      <td>1591</td>\n",
       "      <td>1652</td>\n",
       "      <td>61</td>\n",
       "      <td>1480</td>\n",
       "      <td>s2,s2034,s2959,s2035,s3,s2036,s2036,s3,s2035,s2959,s2034,s4,s5</td>\n",
       "      <td>[s2034, s2959, s2035, s3, s2036, s2036, s3, s2035, s2959, s2034, s4]</td>\n",
       "      <td>s2</td>\n",
       "      <td>s5</td>\n",
       "      <td>2</td>\n",
       "      <td>BubbleRegion_2</td>\n",
       "      <td>11</td>\n",
       "      <td>NaN</td>\n",
       "      <td>NaN</td>\n",
       "    </tr>\n",
       "    <tr>\n",
       "      <th>2</th>\n",
       "      <td>NC_000962.3</td>\n",
       "      <td>13622</td>\n",
       "      <td>13622</td>\n",
       "      <td>0</td>\n",
       "      <td>1358</td>\n",
       "      <td>s5,s2744,s6</td>\n",
       "      <td>[s2744]</td>\n",
       "      <td>s5</td>\n",
       "      <td>s6</td>\n",
       "      <td>3</td>\n",
       "      <td>BubbleRegion_3</td>\n",
       "      <td>1</td>\n",
       "      <td>NaN</td>\n",
       "      <td>NaN</td>\n",
       "    </tr>\n",
       "    <tr>\n",
       "      <th>3</th>\n",
       "      <td>NC_000962.3</td>\n",
       "      <td>26469</td>\n",
       "      <td>28345</td>\n",
       "      <td>42</td>\n",
       "      <td>1876</td>\n",
       "      <td>s6,s2247,s7,s8</td>\n",
       "      <td>[s2247, s7]</td>\n",
       "      <td>s6</td>\n",
       "      <td>s8</td>\n",
       "      <td>4</td>\n",
       "      <td>BubbleRegion_4</td>\n",
       "      <td>2</td>\n",
       "      <td>Rv0021c,whiB5,Rv0023</td>\n",
       "      <td>Rv0021c,Rv0022c,Rv0023</td>\n",
       "    </tr>\n",
       "  </tbody>\n",
       "</table>\n",
       "</div>"
      ],
      "text/plain": [
       "           Chr  Start    End  Len_Ref  Len_Alt  \\\n",
       "0  NC_000962.3   1533   1533        0        0   \n",
       "1  NC_000962.3   1591   1652       61     1480   \n",
       "2  NC_000962.3  13622  13622        0     1358   \n",
       "3  NC_000962.3  26469  28345       42     1876   \n",
       "\n",
       "                                                         NodePath  \\\n",
       "0                                                           s1,s2   \n",
       "1  s2,s2034,s2959,s2035,s3,s2036,s2036,s3,s2035,s2959,s2034,s4,s5   \n",
       "2                                                     s5,s2744,s6   \n",
       "3                                                  s6,s2247,s7,s8   \n",
       "\n",
       "                                                       NodePath_Trimmed  \\\n",
       "0                                                                    []   \n",
       "1  [s2034, s2959, s2035, s3, s2036, s2036, s3, s2035, s2959, s2034, s4]   \n",
       "2                                                               [s2744]   \n",
       "3                                                           [s2247, s7]   \n",
       "\n",
       "  Start_Node End_Node  BubbleNum        BubbleID  NumSVNodes  \\\n",
       "0         s1       s2          1  BubbleRegion_1           0   \n",
       "1         s2       s5          2  BubbleRegion_2          11   \n",
       "2         s5       s6          3  BubbleRegion_3           1   \n",
       "3         s6       s8          4  BubbleRegion_4           2   \n",
       "\n",
       "          Overlap_Genes      Overlap_Gene_RvIDs  \n",
       "0                   NaN                     NaN  \n",
       "1                   NaN                     NaN  \n",
       "2                   NaN                     NaN  \n",
       "3  Rv0021c,whiB5,Rv0023  Rv0021c,Rv0022c,Rv0023  "
      ]
     },
     "execution_count": 56,
     "metadata": {},
     "output_type": "execute_result"
    }
   ],
   "source": [
    "MG_SV_BED_DF.head(4)"
   ]
  },
  {
   "cell_type": "markdown",
   "id": "6c33721a-0b1c-42eb-a94f-c587f3bc5d8d",
   "metadata": {},
   "source": [
    "### Create Dict of SV Node ID to BubbleID mappings"
   ]
  },
  {
   "cell_type": "code",
   "execution_count": 57,
   "id": "3ec79bf3-0fc6-4ff3-84c2-5e143aa05dff",
   "metadata": {},
   "outputs": [],
   "source": [
    "NodeID_ToBubbleID_Dict = {}\n",
    "\n",
    "for i, row in MG_SV_BED_DF.iterrows():\n",
    "    \n",
    "    i_BubbleID =  row[\"BubbleID\"]\n",
    "    i_NodePath_Trimmed = row[\"NodePath_Trimmed\"]\n",
    "\n",
    "    # Map all SV nodes to their Bubble Region ID\n",
    "    for NodeID in i_NodePath_Trimmed:\n",
    "        NodeID_ToBubbleID_Dict[NodeID] = i_BubbleID\n",
    "        "
   ]
  },
  {
   "cell_type": "code",
   "execution_count": 58,
   "id": "3124f588-676c-483b-914d-1290fc5c3adc",
   "metadata": {},
   "outputs": [
    {
     "data": {
      "text/plain": [
       "[('s2034', 'BubbleRegion_2'),\n",
       " ('s2959', 'BubbleRegion_2'),\n",
       " ('s2035', 'BubbleRegion_2'),\n",
       " ('s3', 'BubbleRegion_2'),\n",
       " ('s2036', 'BubbleRegion_2'),\n",
       " ('s4', 'BubbleRegion_2'),\n",
       " ('s2744', 'BubbleRegion_3'),\n",
       " ('s2247', 'BubbleRegion_4'),\n",
       " ('s7', 'BubbleRegion_4'),\n",
       " ('s2823', 'BubbleRegion_5')]"
      ]
     },
     "execution_count": 58,
     "metadata": {},
     "output_type": "execute_result"
    }
   ],
   "source": [
    "list(NodeID_ToBubbleID_Dict.items())[:10]"
   ]
  },
  {
   "cell_type": "code",
   "execution_count": null,
   "id": "544a4e3a-df6f-4b0d-9a24-80b09d5aeb09",
   "metadata": {},
   "outputs": [],
   "source": []
  },
  {
   "cell_type": "markdown",
   "id": "db68abbe-e9c5-4d2b-97e7-db5d8b82e82d",
   "metadata": {},
   "source": [
    "## Create dictionary of BubbleID to overlapping H37Rv gene annotations"
   ]
  },
  {
   "cell_type": "code",
   "execution_count": 59,
   "id": "fea3c451-f98b-4e49-ac0d-7cf2ada57e70",
   "metadata": {},
   "outputs": [],
   "source": [
    "BubbleID_To_OvrLapGenes_Dict = MG_SV_BED_DF.set_index(\"BubbleID\")[\"Overlap_Genes\"].to_dict()"
   ]
  },
  {
   "cell_type": "markdown",
   "id": "ce585a7d-5855-4bff-8406-8263d0059e80",
   "metadata": {},
   "source": [
    "#### Peak at the genes overlapping the first 10 bubble regions"
   ]
  },
  {
   "cell_type": "code",
   "execution_count": 60,
   "id": "62d332ab-9103-4aa5-b1c7-436cd2d51dc3",
   "metadata": {},
   "outputs": [
    {
     "data": {
      "text/plain": [
       "[('BubbleRegion_1', nan),\n",
       " ('BubbleRegion_2', nan),\n",
       " ('BubbleRegion_3', nan),\n",
       " ('BubbleRegion_4', 'Rv0021c,whiB5,Rv0023'),\n",
       " ('BubbleRegion_5', 'Rv0024'),\n",
       " ('BubbleRegion_6', 'bioF2'),\n",
       " ('BubbleRegion_7', nan),\n",
       " ('BubbleRegion_8', nan),\n",
       " ('BubbleRegion_9', nan),\n",
       " ('BubbleRegion_10', 'Rv0063')]"
      ]
     },
     "execution_count": 60,
     "metadata": {},
     "output_type": "execute_result"
    }
   ],
   "source": [
    "list(BubbleID_To_OvrLapGenes_Dict.items())[:10]"
   ]
  },
  {
   "cell_type": "markdown",
   "id": "048df6ee-ada3-46f5-bb7f-9939977e95aa",
   "metadata": {},
   "source": [
    "### Preparation - Breakdown core and SV nodes"
   ]
  },
  {
   "cell_type": "code",
   "execution_count": 61,
   "id": "f99f2b54-1b9e-46f4-bbb8-d4c0b3cca02d",
   "metadata": {},
   "outputs": [],
   "source": [
    "MG_CoreNodes_All_DF = MG_Nodes_KmerComp_DF.query(\"IsSVNode == False\")\n",
    "\n",
    "MG_SVNodes_All_DF = MG_Nodes_KmerComp_DF.query(\"IsSVNode == True\")\n",
    "MG_SVNodes_PASS_DF = MG_Nodes_KmerComp_DF.query(\"IsSVNode == True\").query(\"SeqLength >= 31\")     \n",
    "MG_SVNodes_Sub31bp_DF = MG_Nodes_KmerComp_DF.query(\"IsSVNode == True\").query(\"SeqLength < 31\")     \n",
    "\n",
    "MG_SVNodes_UnqSeq_DF = MG_SVNodes_PASS_DF.query(\"MaxJC_ToOtherNode < 0.05\")\n",
    "\n",
    "MG_SVNodes_UnqSeq_UnqToRv_DF = MG_SVNodes_UnqSeq_DF.query(\"Jaccard_Cont_WiRv < 0.05\")\n",
    "\n",
    "SVNodeIDs_UnqSeq = MG_SVNodes_UnqSeq_DF[\"NodeID\"].values\n",
    "\n",
    "SVNodeIDs_UnqSeq_And_UnqToRv = MG_SVNodes_UnqSeq_UnqToRv_DF[\"NodeID\"].values\n"
   ]
  },
  {
   "cell_type": "code",
   "execution_count": 62,
   "id": "c87da9ba-1474-4bcc-b384-d09581dafd98",
   "metadata": {},
   "outputs": [
    {
     "data": {
      "text/html": [
       "<div>\n",
       "<style scoped>\n",
       "    .dataframe tbody tr th:only-of-type {\n",
       "        vertical-align: middle;\n",
       "    }\n",
       "\n",
       "    .dataframe tbody tr th {\n",
       "        vertical-align: top;\n",
       "    }\n",
       "\n",
       "    .dataframe thead th {\n",
       "        text-align: right;\n",
       "    }\n",
       "</style>\n",
       "<table border=\"1\" class=\"dataframe\">\n",
       "  <thead>\n",
       "    <tr style=\"text-align: right;\">\n",
       "      <th></th>\n",
       "      <th>NodeID</th>\n",
       "      <th>IsSVNode</th>\n",
       "      <th>SeqLength</th>\n",
       "      <th>Jaccard_Cont_WiRv</th>\n",
       "      <th>Jaccard_Cont_WiIS6110</th>\n",
       "      <th>Jaccard_Cont_WiRv_InsSeqAndPhages</th>\n",
       "      <th>Jaccard_Cont_WiRv_PEPPEs</th>\n",
       "      <th>Jaccard_Cont_WiRv_InfoPathways</th>\n",
       "      <th>Jaccard_Cont_WiRv_ConservedHypo</th>\n",
       "      <th>Jaccard_Cont_WiRv_CellWallCellProc</th>\n",
       "      <th>Jaccard_Cont_WiRv_StableRNAs</th>\n",
       "      <th>Jaccard_Cont_WiRv_InterMetabolism</th>\n",
       "      <th>Jaccard_Cont_WiRv_RegProteins</th>\n",
       "      <th>Jaccard_Cont_WiRv_VirulenceDetoxAdaptation</th>\n",
       "      <th>Jaccard_Cont_WiRv_LipidMetabolism</th>\n",
       "      <th>Jaccard_Cont_WiRv_Unknown</th>\n",
       "      <th>BubbleID</th>\n",
       "      <th>MaxJC_ToOtherNode</th>\n",
       "    </tr>\n",
       "  </thead>\n",
       "  <tbody>\n",
       "    <tr>\n",
       "      <th>6</th>\n",
       "      <td>s7</td>\n",
       "      <td>True</td>\n",
       "      <td>1876</td>\n",
       "      <td>1.0</td>\n",
       "      <td>0.0</td>\n",
       "      <td>0.0</td>\n",
       "      <td>0.0</td>\n",
       "      <td>0.000000</td>\n",
       "      <td>0.206934</td>\n",
       "      <td>0.000000</td>\n",
       "      <td>0.0</td>\n",
       "      <td>0.000000</td>\n",
       "      <td>0.601842</td>\n",
       "      <td>0.0</td>\n",
       "      <td>0.0</td>\n",
       "      <td>0.0</td>\n",
       "      <td>BubbleRegion_4</td>\n",
       "      <td>0.006501</td>\n",
       "    </tr>\n",
       "    <tr>\n",
       "      <th>15</th>\n",
       "      <td>s16</td>\n",
       "      <td>True</td>\n",
       "      <td>904</td>\n",
       "      <td>1.0</td>\n",
       "      <td>0.0</td>\n",
       "      <td>0.0</td>\n",
       "      <td>0.0</td>\n",
       "      <td>0.000000</td>\n",
       "      <td>0.000000</td>\n",
       "      <td>1.000000</td>\n",
       "      <td>0.0</td>\n",
       "      <td>0.000000</td>\n",
       "      <td>0.000000</td>\n",
       "      <td>0.0</td>\n",
       "      <td>0.0</td>\n",
       "      <td>0.0</td>\n",
       "      <td>BubbleRegion_11</td>\n",
       "      <td>0.000000</td>\n",
       "    </tr>\n",
       "    <tr>\n",
       "      <th>17</th>\n",
       "      <td>s18</td>\n",
       "      <td>True</td>\n",
       "      <td>732</td>\n",
       "      <td>1.0</td>\n",
       "      <td>0.0</td>\n",
       "      <td>0.0</td>\n",
       "      <td>0.0</td>\n",
       "      <td>0.040698</td>\n",
       "      <td>0.000000</td>\n",
       "      <td>0.000000</td>\n",
       "      <td>0.0</td>\n",
       "      <td>0.059593</td>\n",
       "      <td>0.000000</td>\n",
       "      <td>0.0</td>\n",
       "      <td>0.0</td>\n",
       "      <td>0.0</td>\n",
       "      <td>BubbleRegion_12</td>\n",
       "      <td>0.000000</td>\n",
       "    </tr>\n",
       "    <tr>\n",
       "      <th>18</th>\n",
       "      <td>s19</td>\n",
       "      <td>True</td>\n",
       "      <td>687</td>\n",
       "      <td>1.0</td>\n",
       "      <td>0.0</td>\n",
       "      <td>0.0</td>\n",
       "      <td>0.0</td>\n",
       "      <td>0.922374</td>\n",
       "      <td>0.045662</td>\n",
       "      <td>0.000000</td>\n",
       "      <td>0.0</td>\n",
       "      <td>0.000000</td>\n",
       "      <td>0.000000</td>\n",
       "      <td>0.0</td>\n",
       "      <td>0.0</td>\n",
       "      <td>0.0</td>\n",
       "      <td>BubbleRegion_12</td>\n",
       "      <td>0.045662</td>\n",
       "    </tr>\n",
       "    <tr>\n",
       "      <th>20</th>\n",
       "      <td>s21</td>\n",
       "      <td>True</td>\n",
       "      <td>2557</td>\n",
       "      <td>1.0</td>\n",
       "      <td>0.0</td>\n",
       "      <td>0.0</td>\n",
       "      <td>0.0</td>\n",
       "      <td>0.000000</td>\n",
       "      <td>0.103285</td>\n",
       "      <td>0.784725</td>\n",
       "      <td>0.0</td>\n",
       "      <td>0.000000</td>\n",
       "      <td>0.000000</td>\n",
       "      <td>0.0</td>\n",
       "      <td>0.0</td>\n",
       "      <td>0.0</td>\n",
       "      <td>BubbleRegion_12</td>\n",
       "      <td>0.003166</td>\n",
       "    </tr>\n",
       "  </tbody>\n",
       "</table>\n",
       "</div>"
      ],
      "text/plain": [
       "   NodeID  IsSVNode  SeqLength  Jaccard_Cont_WiRv  Jaccard_Cont_WiIS6110  \\\n",
       "6      s7      True       1876                1.0                    0.0   \n",
       "15    s16      True        904                1.0                    0.0   \n",
       "17    s18      True        732                1.0                    0.0   \n",
       "18    s19      True        687                1.0                    0.0   \n",
       "20    s21      True       2557                1.0                    0.0   \n",
       "\n",
       "    Jaccard_Cont_WiRv_InsSeqAndPhages  Jaccard_Cont_WiRv_PEPPEs  \\\n",
       "6                                 0.0                       0.0   \n",
       "15                                0.0                       0.0   \n",
       "17                                0.0                       0.0   \n",
       "18                                0.0                       0.0   \n",
       "20                                0.0                       0.0   \n",
       "\n",
       "    Jaccard_Cont_WiRv_InfoPathways  Jaccard_Cont_WiRv_ConservedHypo  \\\n",
       "6                         0.000000                         0.206934   \n",
       "15                        0.000000                         0.000000   \n",
       "17                        0.040698                         0.000000   \n",
       "18                        0.922374                         0.045662   \n",
       "20                        0.000000                         0.103285   \n",
       "\n",
       "    Jaccard_Cont_WiRv_CellWallCellProc  Jaccard_Cont_WiRv_StableRNAs  \\\n",
       "6                             0.000000                           0.0   \n",
       "15                            1.000000                           0.0   \n",
       "17                            0.000000                           0.0   \n",
       "18                            0.000000                           0.0   \n",
       "20                            0.784725                           0.0   \n",
       "\n",
       "    Jaccard_Cont_WiRv_InterMetabolism  Jaccard_Cont_WiRv_RegProteins  \\\n",
       "6                            0.000000                       0.601842   \n",
       "15                           0.000000                       0.000000   \n",
       "17                           0.059593                       0.000000   \n",
       "18                           0.000000                       0.000000   \n",
       "20                           0.000000                       0.000000   \n",
       "\n",
       "    Jaccard_Cont_WiRv_VirulenceDetoxAdaptation  \\\n",
       "6                                          0.0   \n",
       "15                                         0.0   \n",
       "17                                         0.0   \n",
       "18                                         0.0   \n",
       "20                                         0.0   \n",
       "\n",
       "    Jaccard_Cont_WiRv_LipidMetabolism  Jaccard_Cont_WiRv_Unknown  \\\n",
       "6                                 0.0                        0.0   \n",
       "15                                0.0                        0.0   \n",
       "17                                0.0                        0.0   \n",
       "18                                0.0                        0.0   \n",
       "20                                0.0                        0.0   \n",
       "\n",
       "           BubbleID  MaxJC_ToOtherNode  \n",
       "6    BubbleRegion_4           0.006501  \n",
       "15  BubbleRegion_11           0.000000  \n",
       "17  BubbleRegion_12           0.000000  \n",
       "18  BubbleRegion_12           0.045662  \n",
       "20  BubbleRegion_12           0.003166  "
      ]
     },
     "execution_count": 62,
     "metadata": {},
     "output_type": "execute_result"
    }
   ],
   "source": [
    "MG_SVNodes_UnqSeq_DF.head()"
   ]
  },
  {
   "cell_type": "code",
   "execution_count": 63,
   "id": "467854bf-a7a1-41f8-837f-6edc142f54b6",
   "metadata": {},
   "outputs": [
    {
     "data": {
      "text/html": [
       "<div>\n",
       "<style scoped>\n",
       "    .dataframe tbody tr th:only-of-type {\n",
       "        vertical-align: middle;\n",
       "    }\n",
       "\n",
       "    .dataframe tbody tr th {\n",
       "        vertical-align: top;\n",
       "    }\n",
       "\n",
       "    .dataframe thead th {\n",
       "        text-align: right;\n",
       "    }\n",
       "</style>\n",
       "<table border=\"1\" class=\"dataframe\">\n",
       "  <thead>\n",
       "    <tr style=\"text-align: right;\">\n",
       "      <th></th>\n",
       "      <th>NodeID</th>\n",
       "      <th>IsSVNode</th>\n",
       "      <th>SeqLength</th>\n",
       "      <th>Jaccard_Cont_WiRv</th>\n",
       "      <th>Jaccard_Cont_WiIS6110</th>\n",
       "      <th>Jaccard_Cont_WiRv_InsSeqAndPhages</th>\n",
       "      <th>Jaccard_Cont_WiRv_PEPPEs</th>\n",
       "      <th>Jaccard_Cont_WiRv_InfoPathways</th>\n",
       "      <th>Jaccard_Cont_WiRv_ConservedHypo</th>\n",
       "      <th>Jaccard_Cont_WiRv_CellWallCellProc</th>\n",
       "      <th>Jaccard_Cont_WiRv_StableRNAs</th>\n",
       "      <th>Jaccard_Cont_WiRv_InterMetabolism</th>\n",
       "      <th>Jaccard_Cont_WiRv_RegProteins</th>\n",
       "      <th>Jaccard_Cont_WiRv_VirulenceDetoxAdaptation</th>\n",
       "      <th>Jaccard_Cont_WiRv_LipidMetabolism</th>\n",
       "      <th>Jaccard_Cont_WiRv_Unknown</th>\n",
       "      <th>BubbleID</th>\n",
       "      <th>MaxJC_ToOtherNode</th>\n",
       "    </tr>\n",
       "  </thead>\n",
       "  <tbody>\n",
       "    <tr>\n",
       "      <th>1746</th>\n",
       "      <td>s1747</td>\n",
       "      <td>True</td>\n",
       "      <td>527</td>\n",
       "      <td>0.024145</td>\n",
       "      <td>0.0</td>\n",
       "      <td>0.0</td>\n",
       "      <td>0.024145</td>\n",
       "      <td>0.0</td>\n",
       "      <td>0.0</td>\n",
       "      <td>0.0</td>\n",
       "      <td>0.0</td>\n",
       "      <td>0.0</td>\n",
       "      <td>0.0</td>\n",
       "      <td>0.0</td>\n",
       "      <td>0.0</td>\n",
       "      <td>0.0</td>\n",
       "      <td>BubbleRegion_31</td>\n",
       "      <td>0.006036</td>\n",
       "    </tr>\n",
       "    <tr>\n",
       "      <th>1747</th>\n",
       "      <td>s1748</td>\n",
       "      <td>True</td>\n",
       "      <td>72</td>\n",
       "      <td>0.000000</td>\n",
       "      <td>0.0</td>\n",
       "      <td>0.0</td>\n",
       "      <td>0.000000</td>\n",
       "      <td>0.0</td>\n",
       "      <td>0.0</td>\n",
       "      <td>0.0</td>\n",
       "      <td>0.0</td>\n",
       "      <td>0.0</td>\n",
       "      <td>0.0</td>\n",
       "      <td>0.0</td>\n",
       "      <td>0.0</td>\n",
       "      <td>0.0</td>\n",
       "      <td>BubbleRegion_31</td>\n",
       "      <td>0.000000</td>\n",
       "    </tr>\n",
       "    <tr>\n",
       "      <th>1748</th>\n",
       "      <td>s1749</td>\n",
       "      <td>True</td>\n",
       "      <td>62</td>\n",
       "      <td>0.000000</td>\n",
       "      <td>0.0</td>\n",
       "      <td>0.0</td>\n",
       "      <td>0.000000</td>\n",
       "      <td>0.0</td>\n",
       "      <td>0.0</td>\n",
       "      <td>0.0</td>\n",
       "      <td>0.0</td>\n",
       "      <td>0.0</td>\n",
       "      <td>0.0</td>\n",
       "      <td>0.0</td>\n",
       "      <td>0.0</td>\n",
       "      <td>0.0</td>\n",
       "      <td>BubbleRegion_31</td>\n",
       "      <td>0.000000</td>\n",
       "    </tr>\n",
       "    <tr>\n",
       "      <th>1749</th>\n",
       "      <td>s1750</td>\n",
       "      <td>True</td>\n",
       "      <td>96</td>\n",
       "      <td>0.000000</td>\n",
       "      <td>0.0</td>\n",
       "      <td>0.0</td>\n",
       "      <td>0.000000</td>\n",
       "      <td>0.0</td>\n",
       "      <td>0.0</td>\n",
       "      <td>0.0</td>\n",
       "      <td>0.0</td>\n",
       "      <td>0.0</td>\n",
       "      <td>0.0</td>\n",
       "      <td>0.0</td>\n",
       "      <td>0.0</td>\n",
       "      <td>0.0</td>\n",
       "      <td>BubbleRegion_31</td>\n",
       "      <td>0.000000</td>\n",
       "    </tr>\n",
       "    <tr>\n",
       "      <th>1769</th>\n",
       "      <td>s1770</td>\n",
       "      <td>True</td>\n",
       "      <td>533</td>\n",
       "      <td>0.000000</td>\n",
       "      <td>0.0</td>\n",
       "      <td>0.0</td>\n",
       "      <td>0.000000</td>\n",
       "      <td>0.0</td>\n",
       "      <td>0.0</td>\n",
       "      <td>0.0</td>\n",
       "      <td>0.0</td>\n",
       "      <td>0.0</td>\n",
       "      <td>0.0</td>\n",
       "      <td>0.0</td>\n",
       "      <td>0.0</td>\n",
       "      <td>0.0</td>\n",
       "      <td>BubbleRegion_82</td>\n",
       "      <td>0.000000</td>\n",
       "    </tr>\n",
       "  </tbody>\n",
       "</table>\n",
       "</div>"
      ],
      "text/plain": [
       "     NodeID  IsSVNode  SeqLength  Jaccard_Cont_WiRv  Jaccard_Cont_WiIS6110  \\\n",
       "1746  s1747      True        527           0.024145                    0.0   \n",
       "1747  s1748      True         72           0.000000                    0.0   \n",
       "1748  s1749      True         62           0.000000                    0.0   \n",
       "1749  s1750      True         96           0.000000                    0.0   \n",
       "1769  s1770      True        533           0.000000                    0.0   \n",
       "\n",
       "      Jaccard_Cont_WiRv_InsSeqAndPhages  Jaccard_Cont_WiRv_PEPPEs  \\\n",
       "1746                                0.0                  0.024145   \n",
       "1747                                0.0                  0.000000   \n",
       "1748                                0.0                  0.000000   \n",
       "1749                                0.0                  0.000000   \n",
       "1769                                0.0                  0.000000   \n",
       "\n",
       "      Jaccard_Cont_WiRv_InfoPathways  Jaccard_Cont_WiRv_ConservedHypo  \\\n",
       "1746                             0.0                              0.0   \n",
       "1747                             0.0                              0.0   \n",
       "1748                             0.0                              0.0   \n",
       "1749                             0.0                              0.0   \n",
       "1769                             0.0                              0.0   \n",
       "\n",
       "      Jaccard_Cont_WiRv_CellWallCellProc  Jaccard_Cont_WiRv_StableRNAs  \\\n",
       "1746                                 0.0                           0.0   \n",
       "1747                                 0.0                           0.0   \n",
       "1748                                 0.0                           0.0   \n",
       "1749                                 0.0                           0.0   \n",
       "1769                                 0.0                           0.0   \n",
       "\n",
       "      Jaccard_Cont_WiRv_InterMetabolism  Jaccard_Cont_WiRv_RegProteins  \\\n",
       "1746                                0.0                            0.0   \n",
       "1747                                0.0                            0.0   \n",
       "1748                                0.0                            0.0   \n",
       "1749                                0.0                            0.0   \n",
       "1769                                0.0                            0.0   \n",
       "\n",
       "      Jaccard_Cont_WiRv_VirulenceDetoxAdaptation  \\\n",
       "1746                                         0.0   \n",
       "1747                                         0.0   \n",
       "1748                                         0.0   \n",
       "1749                                         0.0   \n",
       "1769                                         0.0   \n",
       "\n",
       "      Jaccard_Cont_WiRv_LipidMetabolism  Jaccard_Cont_WiRv_Unknown  \\\n",
       "1746                                0.0                        0.0   \n",
       "1747                                0.0                        0.0   \n",
       "1748                                0.0                        0.0   \n",
       "1749                                0.0                        0.0   \n",
       "1769                                0.0                        0.0   \n",
       "\n",
       "             BubbleID  MaxJC_ToOtherNode  \n",
       "1746  BubbleRegion_31           0.006036  \n",
       "1747  BubbleRegion_31           0.000000  \n",
       "1748  BubbleRegion_31           0.000000  \n",
       "1749  BubbleRegion_31           0.000000  \n",
       "1769  BubbleRegion_82           0.000000  "
      ]
     },
     "execution_count": 63,
     "metadata": {},
     "output_type": "execute_result"
    }
   ],
   "source": [
    "MG_SVNodes_UnqSeq_UnqToRv_DF.head()"
   ]
  },
  {
   "cell_type": "code",
   "execution_count": null,
   "id": "a4e46771-dbfd-4180-83cd-2cbe851e6b62",
   "metadata": {},
   "outputs": [],
   "source": []
  },
  {
   "cell_type": "markdown",
   "id": "c214bc4e-46b6-4643-a2ca-f780bb8a16c6",
   "metadata": {},
   "source": [
    "## Parse k-mer info for all nodes of `minigraph` GFA (151 Mtb assemblies)"
   ]
  },
  {
   "cell_type": "code",
   "execution_count": 64,
   "id": "fc02e557-c2eb-49fa-bd8c-e94f7470ccdb",
   "metadata": {},
   "outputs": [],
   "source": [
    "def parse_rGFA_To_KmerInfo(i_Minigraph_GFA):\n",
    "\n",
    "    GFA_GP = gfapy.Gfa.from_file(i_Minigraph_GFA)\n",
    "\n",
    "    i_dictOf_NodeInfo = {}\n",
    "\n",
    "    for line in tqdm(GFA_GP.lines):\n",
    "        line_Str = str(line)\n",
    "        \n",
    "        if line_Str.startswith(\"S\"):\n",
    "            \n",
    "            line_SplitByTab = line_Str.split(\"\\t\")\n",
    "            \n",
    "            S_Name = line_SplitByTab[1]\n",
    "            \n",
    "            S_Seq = line_SplitByTab[2]\n",
    "            \n",
    "            Len_Seq = len(S_Seq)\n",
    "            \n",
    "            record_Kmers = build_kmers(S_Seq, 31)\n",
    "            \n",
    "            record_Hashes = hash_kmers_ToSet(record_Kmers)\n",
    "\n",
    "            i_dictOf_NodeInfo[S_Name] = {}\n",
    "            i_dictOf_NodeInfo[S_Name][\"Len\"] = Len_Seq\n",
    "            i_dictOf_NodeInfo[S_Name][\"Kmers\"] = record_Kmers\n",
    "            i_dictOf_NodeInfo[S_Name][\"Kmer_Hashes_Set\"] = record_Hashes\n",
    "\n",
    "    return i_dictOf_NodeInfo"
   ]
  },
  {
   "cell_type": "markdown",
   "id": "86f573a6-eed9-4327-97d2-3666e8a804fd",
   "metadata": {},
   "source": [
    "## Generate dict of SV PG graph node info (length, k-mers, k-mer hashes)\n",
    "\n",
    "#### For each node of the graph we have:\n",
    "- sequence length\n",
    "- all unique 31-mers\n",
    "- all hashes of all unique canonical 31-mers "
   ]
  },
  {
   "cell_type": "code",
   "execution_count": 65,
   "id": "a35e530f-957b-4eac-9a6d-8ce5f1629a10",
   "metadata": {},
   "outputs": [
    {
     "name": "stderr",
     "output_type": "stream",
     "text": [
      "100%|██████████| 7843/7843 [00:31<00:00, 247.71it/s] \n"
     ]
    }
   ],
   "source": [
    "MG_dictOf_NodeInfo = parse_rGFA_To_KmerInfo(MG_WGA151CI_GFA)"
   ]
  },
  {
   "cell_type": "markdown",
   "id": "b885957d-221e-4d33-8740-f6893fd2e588",
   "metadata": {},
   "source": [
    "#### Inspect resulting dict of node info (length, k-mers, k-mer hashes)"
   ]
  },
  {
   "cell_type": "code",
   "execution_count": 66,
   "id": "a417de7d-0c3d-4aba-94fd-4ef50d954401",
   "metadata": {},
   "outputs": [
    {
     "data": {
      "text/plain": [
       "3138"
      ]
     },
     "execution_count": 66,
     "metadata": {},
     "output_type": "execute_result"
    }
   ],
   "source": [
    "len(list(MG_dictOf_NodeInfo.keys()))"
   ]
  },
  {
   "cell_type": "code",
   "execution_count": 67,
   "id": "bd7aee28-8646-4340-b6f2-b9dc54747944",
   "metadata": {},
   "outputs": [
    {
     "data": {
      "text/plain": [
       "dict_keys(['Len', 'Kmers', 'Kmer_Hashes_Set'])"
      ]
     },
     "execution_count": 67,
     "metadata": {},
     "output_type": "execute_result"
    }
   ],
   "source": [
    "# For each node of the graph we have its sequence length, unique 31-mers, unique hashes of the canonical 31-mer \n",
    "\n",
    "MG_dictOf_NodeInfo[\"s1\"].keys()"
   ]
  },
  {
   "cell_type": "code",
   "execution_count": 68,
   "id": "1808b624-0a7d-495d-bec6-546dcb428c88",
   "metadata": {},
   "outputs": [
    {
     "data": {
      "text/plain": [
       "1533"
      ]
     },
     "execution_count": 68,
     "metadata": {},
     "output_type": "execute_result"
    }
   ],
   "source": [
    "MG_dictOf_NodeInfo[\"s1\"][\"Len\"]"
   ]
  },
  {
   "cell_type": "code",
   "execution_count": 69,
   "id": "feeef0b8-6001-4dec-92f0-8298bdbd2089",
   "metadata": {},
   "outputs": [
    {
     "data": {
      "text/plain": [
       "['TTGACCGATGACCCCGGTTCAGGCTTCACCA',\n",
       " 'TGACCGATGACCCCGGTTCAGGCTTCACCAC',\n",
       " 'GACCGATGACCCCGGTTCAGGCTTCACCACA']"
      ]
     },
     "execution_count": 69,
     "metadata": {},
     "output_type": "execute_result"
    }
   ],
   "source": [
    "MG_dictOf_NodeInfo[\"s1\"][\"Kmers\"][:3]"
   ]
  },
  {
   "cell_type": "code",
   "execution_count": 70,
   "id": "61c13d3c-76b3-49a8-9646-39f54522710d",
   "metadata": {},
   "outputs": [
    {
     "data": {
      "text/plain": [
       "[13580233940393664509, 5138456728421695490]"
      ]
     },
     "execution_count": 70,
     "metadata": {},
     "output_type": "execute_result"
    }
   ],
   "source": [
    "list(MG_dictOf_NodeInfo[\"s1\"][\"Kmer_Hashes_Set\"])[:2]"
   ]
  },
  {
   "cell_type": "code",
   "execution_count": 71,
   "id": "357a9271-10ad-4494-8c22-76ffeb81080c",
   "metadata": {},
   "outputs": [
    {
     "data": {
      "text/plain": [
       "dict_keys(['Len', 'Kmers', 'Kmer_Hashes_Set'])"
      ]
     },
     "execution_count": 71,
     "metadata": {},
     "output_type": "execute_result"
    }
   ],
   "source": [
    "MG_dictOf_NodeInfo[\"s1\"].keys()"
   ]
  },
  {
   "cell_type": "code",
   "execution_count": 72,
   "id": "3c156c8d-6146-4c2c-9ac4-6d88d34bcbdc",
   "metadata": {},
   "outputs": [],
   "source": [
    "MG_SVNodes_UnqSeq_HashDict = {}\n",
    "MG_SVNodes_UnqSeqAndUnqToRv_HashDict = {}\n",
    "\n",
    "for i_NodeID in MG_dictOf_NodeInfo.keys():\n",
    "    \n",
    "    if i_NodeID in SVNodeIDs_UnqSeq:\n",
    "        MG_SVNodes_UnqSeq_HashDict[i_NodeID] =  MG_dictOf_NodeInfo[i_NodeID][\"Kmer_Hashes_Set\"]\n",
    "    \n",
    "    if i_NodeID in SVNodeIDs_UnqSeq_And_UnqToRv:\n",
    "        MG_SVNodes_UnqSeqAndUnqToRv_HashDict[i_NodeID] =  MG_dictOf_NodeInfo[i_NodeID][\"Kmer_Hashes_Set\"]\n"
   ]
  },
  {
   "cell_type": "code",
   "execution_count": 73,
   "id": "8fb2d9cc-a543-4aba-b0f2-b586dd44dbab",
   "metadata": {},
   "outputs": [
    {
     "data": {
      "text/plain": [
       "463"
      ]
     },
     "execution_count": 73,
     "metadata": {},
     "output_type": "execute_result"
    }
   ],
   "source": [
    "len(SVNodeIDs_UnqSeq)"
   ]
  },
  {
   "cell_type": "code",
   "execution_count": 74,
   "id": "f52ceb50-f318-4905-904c-31e4e65669bc",
   "metadata": {},
   "outputs": [
    {
     "data": {
      "text/plain": [
       "463"
      ]
     },
     "execution_count": 74,
     "metadata": {},
     "output_type": "execute_result"
    }
   ],
   "source": [
    "len(list(MG_SVNodes_UnqSeq_HashDict.keys()))"
   ]
  },
  {
   "cell_type": "code",
   "execution_count": 75,
   "id": "a172da08-3f91-4808-b33a-8a36d5304414",
   "metadata": {},
   "outputs": [
    {
     "data": {
      "text/plain": [
       "76"
      ]
     },
     "execution_count": 75,
     "metadata": {},
     "output_type": "execute_result"
    }
   ],
   "source": [
    "len(SVNodeIDs_UnqSeq_And_UnqToRv)"
   ]
  },
  {
   "cell_type": "code",
   "execution_count": 76,
   "id": "0017dd3d-e474-4962-a069-1d82548dce2c",
   "metadata": {},
   "outputs": [
    {
     "data": {
      "text/plain": [
       "76"
      ]
     },
     "execution_count": 76,
     "metadata": {},
     "output_type": "execute_result"
    }
   ],
   "source": [
    "len(list(MG_SVNodes_UnqSeqAndUnqToRv_HashDict.keys()))"
   ]
  },
  {
   "cell_type": "code",
   "execution_count": 77,
   "id": "53902d84-467c-49eb-b98a-4ef7b8952f0a",
   "metadata": {},
   "outputs": [],
   "source": [
    "# MG_SVNodes_UnqSeq_HashDict\n",
    "# MG_SVNodes_UnqSeqAndUnqToRv_HashDict"
   ]
  },
  {
   "cell_type": "code",
   "execution_count": null,
   "id": "71314c0e-0975-4b29-a2f2-fd263d5cccfc",
   "metadata": {},
   "outputs": [],
   "source": []
  },
  {
   "cell_type": "code",
   "execution_count": null,
   "id": "572bb61d-2c6e-4e20-b912-7828f9023e55",
   "metadata": {},
   "outputs": [],
   "source": []
  },
  {
   "cell_type": "code",
   "execution_count": null,
   "id": "66e1c403-d8a4-440a-8b11-76391ff35fac",
   "metadata": {},
   "outputs": [],
   "source": []
  },
  {
   "cell_type": "markdown",
   "id": "6eec62d7-f98f-4b06-b065-53b7ad0352cb",
   "metadata": {},
   "source": [
    "# Classify SV Nodes based on match to H37Rv gene categories"
   ]
  },
  {
   "cell_type": "markdown",
   "id": "db594ffa-1011-432e-9db3-c4de594c32f6",
   "metadata": {},
   "source": [
    "### Define functions"
   ]
  },
  {
   "cell_type": "code",
   "execution_count": 78,
   "id": "244a6bc1-9003-4963-afec-992ef3b72b13",
   "metadata": {},
   "outputs": [],
   "source": [
    "# Define the Jaccard index columns corresponding to gene categories\n",
    "listOf_JC_Cols = [\n",
    "    \"Jaccard_Cont_WiRv_InsSeqAndPhages\",\n",
    "    \"Jaccard_Cont_WiRv_PEPPEs\",\n",
    "    \"Jaccard_Cont_WiRv_InfoPathways\",\n",
    "    \"Jaccard_Cont_WiRv_ConservedHypo\",\n",
    "    \"Jaccard_Cont_WiRv_CellWallCellProc\",\n",
    "    \"Jaccard_Cont_WiRv_StableRNAs\",\n",
    "    \"Jaccard_Cont_WiRv_InterMetabolism\",\n",
    "    \"Jaccard_Cont_WiRv_RegProteins\",\n",
    "    \"Jaccard_Cont_WiRv_VirulenceDetoxAdaptation\",\n",
    "    \"Jaccard_Cont_WiRv_LipidMetabolism\",\n",
    "    \"Jaccard_Cont_WiRv_Unknown\"\n",
    "]\n",
    "\n",
    "listOf_JC_Cols = [\n",
    "    \"Jaccard_Cont_WiRv_InsSeqAndPhages\",\n",
    "    \"Jaccard_Cont_WiRv_PEPPEs\",\n",
    "    \"Jaccard_Cont_WiRv_InfoPathways\",\n",
    "    \"Jaccard_Cont_WiRv_ConservedHypo\",\n",
    "    \"Jaccard_Cont_WiRv_CellWallCellProc\",\n",
    "    \"Jaccard_Cont_WiRv_StableRNAs\",\n",
    "    \"Jaccard_Cont_WiRv_InterMetabolism\",\n",
    "    \"Jaccard_Cont_WiRv_RegProteins\",\n",
    "    \"Jaccard_Cont_WiRv_VirulenceDetoxAdaptation\",\n",
    "    \"Jaccard_Cont_WiRv_LipidMetabolism\",\n",
    "]\n",
    "\n",
    "JC_Cols_ToCategoryName = {\n",
    "    \"Jaccard_Cont_WiRv_PEPPEs\": \"PE/PPE\",\n",
    "    \"Jaccard_Cont_WiRv_CellWallCellProc\": \"cell wall and cell processes\",\n",
    "    \"Jaccard_Cont_WiRv_ConservedHypo\": \"conserved hypotheticals\",\n",
    "    \"Jaccard_Cont_WiRv_InfoPathways\": \"information pathways\",\n",
    "    \"Jaccard_Cont_WiRv_InsSeqAndPhages\": \"insertion seqs and phages\",\n",
    "    \"Jaccard_Cont_WiRv_StableRNAs\": \"stable RNAs\",\n",
    "    \"Jaccard_Cont_WiRv_InterMetabolism\": \"intermediary metabolism and respiration\",\n",
    "    \"Jaccard_Cont_WiRv_RegProteins\": \"regulatory proteins\",\n",
    "    \"Jaccard_Cont_WiRv_VirulenceDetoxAdaptation\": \"virulence, detoxification, adaptation\",\n",
    "    \"Jaccard_Cont_WiRv_LipidMetabolism\": \"lipid metabolism\",\n",
    "    \"Jaccard_Cont_WiRv_Unknown\": \"unknown\"\n",
    "}\n"
   ]
  },
  {
   "cell_type": "code",
   "execution_count": 79,
   "id": "1cc258ea-20a9-457d-b022-ea61263184cd",
   "metadata": {},
   "outputs": [],
   "source": [
    "# Define function to classify a node based on a threshold\n",
    "def classify_node_ToRvGeneCat(row, threshold=0.25):\n",
    "\n",
    "    listOf_Rv_JCtoGeneCat_Cols = [\n",
    "        \"Jaccard_Cont_WiRv_InsSeqAndPhages\",\n",
    "        \"Jaccard_Cont_WiRv_PEPPEs\",\n",
    "        \"Jaccard_Cont_WiRv_InfoPathways\",\n",
    "        \"Jaccard_Cont_WiRv_ConservedHypo\",\n",
    "        \"Jaccard_Cont_WiRv_CellWallCellProc\",\n",
    "        \"Jaccard_Cont_WiRv_StableRNAs\",\n",
    "        \"Jaccard_Cont_WiRv_InterMetabolism\",\n",
    "        \"Jaccard_Cont_WiRv_RegProteins\",\n",
    "        \"Jaccard_Cont_WiRv_VirulenceDetoxAdaptation\",\n",
    "        \"Jaccard_Cont_WiRv_LipidMetabolism\",\n",
    "    ]\n",
    "    \n",
    "    filtered_matches = {col: row[col] for col in listOf_Rv_JCtoGeneCat_Cols if row[col] >= threshold}\n",
    "    if filtered_matches:\n",
    "        max_value = max(filtered_matches.values())\n",
    "        strongest_categories = [\n",
    "            col for col, value in filtered_matches.items() if value == max_value\n",
    "        ]\n",
    "        return strongest_categories\n",
    "    return None  # No valid matches\n",
    "\n",
    "\n",
    "\n",
    "# Define function to summarize node categories\n",
    "def summarize_sv_categories(sv_nodes_df, listOf_JC_Cols):\n",
    "    category_summary = {}\n",
    "    for col in listOf_JC_Cols:\n",
    "        total_length = sv_nodes_df.loc[\n",
    "            sv_nodes_df[\"KmerMatch_RvGeneCat\"].apply(\n",
    "                lambda matches: col in matches if matches else False\n",
    "            ),\n",
    "            \"SeqLength\"\n",
    "        ].sum()\n",
    "        node_count = sv_nodes_df[\"KmerMatch_RvGeneCat\"].apply(\n",
    "            lambda matches: col in matches if matches else False\n",
    "        ).sum()\n",
    "        category_summary[col] = {\"Total Length\": total_length, \"Node Count\": node_count}\n",
    "\n",
    "    # Add \"NoMatch\" to the summary\n",
    "    no_match_length = sv_nodes_df.loc[\n",
    "        sv_nodes_df[\"KmerMatch_RvGeneCat\"].isnull(), \"SeqLength\"\n",
    "    ].sum()\n",
    "    no_match_count = sv_nodes_df[\"KmerMatch_RvGeneCat\"].isnull().sum()\n",
    "\n",
    "    category_summary[\"NoMatch\"] = {\n",
    "        \"Total Length\": no_match_length,\n",
    "        \"Node Count\": no_match_count,\n",
    "    }\n",
    "\n",
    "    # Convert to DataFrame\n",
    "    summary_df = pd.DataFrame.from_dict(category_summary, orient=\"index\")\n",
    "    summary_df[\"Relative Size (%)\"] = (\n",
    "        summary_df[\"Total Length\"] / summary_df[\"Total Length\"].sum() * 100\n",
    "    ).round(1)\n",
    "\n",
    "    return summary_df\n",
    "\n",
    "\n",
    "# Update the summarize_sv_categories function to include \"Functional_Category\"\n",
    "def summarize_sv_categories_with_functional_category(sv_nodes_df, listOf_JC_Cols):\n",
    "    category_summary = {}\n",
    "    category_mapping = {\n",
    "        \"Jaccard_Cont_WiRv_PEPPEs\": \"PE/PPE\",\n",
    "        \"Jaccard_Cont_WiRv_CellWallCellProc\": \"cell wall and cell processes\",\n",
    "        \"Jaccard_Cont_WiRv_ConservedHypo\": \"conserved hypotheticals\",\n",
    "        \"Jaccard_Cont_WiRv_InfoPathways\": \"information pathways\",\n",
    "        \"Jaccard_Cont_WiRv_InsSeqAndPhages\": \"insertion seqs and phages\",\n",
    "        \"Jaccard_Cont_WiRv_StableRNAs\": \"stable RNAs\",\n",
    "        \"Jaccard_Cont_WiRv_InterMetabolism\": \"intermediary metabolism and respiration\",\n",
    "        \"Jaccard_Cont_WiRv_RegProteins\": \"regulatory proteins\",\n",
    "        \"Jaccard_Cont_WiRv_VirulenceDetoxAdaptation\": \"virulence, detoxification, adaptation\",\n",
    "        \"Jaccard_Cont_WiRv_LipidMetabolism\": \"lipid metabolism\",\n",
    "        \"Jaccard_Cont_WiRv_Unknown\": \"unknown\",\n",
    "    }\n",
    "\n",
    "    for col in listOf_JC_Cols:\n",
    "        total_length = sv_nodes_df.loc[\n",
    "            sv_nodes_df[\"KmerMatch_RvGeneCat\"].apply(\n",
    "                lambda matches: col in matches if matches else False\n",
    "            ),\n",
    "            \"SeqLength\"\n",
    "        ].sum()\n",
    "        \n",
    "        node_count = sv_nodes_df[\"KmerMatch_RvGeneCat\"].apply(\n",
    "            lambda matches: col in matches if matches else False\n",
    "        ).sum()\n",
    "        \n",
    "        category_summary[col] = {\n",
    "            \"Functional_Category\": category_mapping.get(col, \"unknown\"),\n",
    "            \"Total Length\": total_length,\n",
    "            \"Node Count\": node_count,\n",
    "        }\n",
    "\n",
    "    # Add \"NoMatch\" to the summary\n",
    "    no_match_length = sv_nodes_df.loc[\n",
    "        sv_nodes_df[\"KmerMatch_RvGeneCat\"].isnull(), \"SeqLength\"\n",
    "    ].sum()\n",
    "    no_match_count = sv_nodes_df[\"KmerMatch_RvGeneCat\"].isnull().sum()\n",
    "\n",
    "    category_summary[\"NoMatch\"] = {\n",
    "        \"Functional_Category\": \"NoMatch\",\n",
    "        \"Total Length\": no_match_length,\n",
    "        \"Node Count\": no_match_count,\n",
    "    }\n",
    "\n",
    "    # Convert to DataFrame\n",
    "    summary_df = pd.DataFrame.from_dict(category_summary, orient=\"index\")\n",
    "    summary_df[\"Relative Size (%)\"] = (\n",
    "        summary_df[\"Total Length\"] / summary_df[\"Total Length\"].sum() * 100\n",
    "    ).round(2)\n",
    "\n",
    "    return summary_df\n"
   ]
  },
  {
   "cell_type": "code",
   "execution_count": null,
   "id": "83913d1c-ecc9-4f06-b73f-f8f51e9cddae",
   "metadata": {},
   "outputs": [],
   "source": []
  },
  {
   "cell_type": "markdown",
   "id": "1c4e53cd-20c6-4c69-af59-5d3a7ccb0548",
   "metadata": {},
   "source": [
    "###  Step 1: Look at relative size of gene categories in H73R"
   ]
  },
  {
   "cell_type": "code",
   "execution_count": 80,
   "id": "cff4b751-6970-4fbe-a9ee-9eaeed5b8158",
   "metadata": {},
   "outputs": [],
   "source": [
    "# Correctly reference \"Start\" and \"End\" columns to calculate gene lengths\n",
    "H37Rv_GeneInfo_Subset_DF = H37Rv_GenomeAnno_Genes_DF[\n",
    "    [\"Functional_Category\", \"Start\", \"End\"]\n",
    "].copy()\n",
    "H37Rv_GeneInfo_Subset_DF[\"Gene_Length\"] = (\n",
    "    H37Rv_GeneInfo_Subset_DF[\"End\"] - H37Rv_GeneInfo_Subset_DF[\"Start\"] + 1\n",
    ")\n",
    "\n",
    "# Group by functional category and calculate total length and relative fractions\n",
    "gene_cat_lengths = (\n",
    "    H37Rv_GeneInfo_Subset_DF.groupby(\"Functional_Category\")[\"Gene_Length\"]\n",
    "    .sum()\n",
    "    .reset_index()\n",
    ")\n",
    "\n",
    "gene_cat_lengths[\"Relative_Fraction\"] = (\n",
    "    gene_cat_lengths[\"Gene_Length\"] / gene_cat_lengths[\"Gene_Length\"].sum()\n",
    ")\n",
    "\n",
    "gene_cat_lengths[\"Percent_RefGeneLengths\"] = (gene_cat_lengths[\"Relative_Fraction\"] * 100).round(2)\n",
    "\n",
    "Gene_Cat_RefPerc = gene_cat_lengths[[\"Functional_Category\", \"Percent_RefGeneLengths\"]]"
   ]
  },
  {
   "cell_type": "code",
   "execution_count": 81,
   "id": "cba00fd5-32f7-491f-a6c3-ccb8ac5d6350",
   "metadata": {},
   "outputs": [
    {
     "data": {
      "text/html": [
       "<div>\n",
       "<style scoped>\n",
       "    .dataframe tbody tr th:only-of-type {\n",
       "        vertical-align: middle;\n",
       "    }\n",
       "\n",
       "    .dataframe tbody tr th {\n",
       "        vertical-align: top;\n",
       "    }\n",
       "\n",
       "    .dataframe thead th {\n",
       "        text-align: right;\n",
       "    }\n",
       "</style>\n",
       "<table border=\"1\" class=\"dataframe\">\n",
       "  <thead>\n",
       "    <tr style=\"text-align: right;\">\n",
       "      <th></th>\n",
       "      <th>Functional_Category</th>\n",
       "      <th>Percent_RefGeneLengths</th>\n",
       "    </tr>\n",
       "  </thead>\n",
       "  <tbody>\n",
       "    <tr>\n",
       "      <th>0</th>\n",
       "      <td>PE/PPE</td>\n",
       "      <td>7.01</td>\n",
       "    </tr>\n",
       "    <tr>\n",
       "      <th>1</th>\n",
       "      <td>cell wall and cell processes</td>\n",
       "      <td>20.00</td>\n",
       "    </tr>\n",
       "    <tr>\n",
       "      <th>2</th>\n",
       "      <td>conserved hypotheticals</td>\n",
       "      <td>18.77</td>\n",
       "    </tr>\n",
       "    <tr>\n",
       "      <th>3</th>\n",
       "      <td>information pathways</td>\n",
       "      <td>6.76</td>\n",
       "    </tr>\n",
       "    <tr>\n",
       "      <th>4</th>\n",
       "      <td>insertion seqs and phages</td>\n",
       "      <td>2.69</td>\n",
       "    </tr>\n",
       "    <tr>\n",
       "      <th>5</th>\n",
       "      <td>intermediary metabolism and respiration</td>\n",
       "      <td>25.75</td>\n",
       "    </tr>\n",
       "    <tr>\n",
       "      <th>6</th>\n",
       "      <td>lipid metabolism</td>\n",
       "      <td>10.53</td>\n",
       "    </tr>\n",
       "    <tr>\n",
       "      <th>7</th>\n",
       "      <td>regulatory proteins</td>\n",
       "      <td>4.18</td>\n",
       "    </tr>\n",
       "    <tr>\n",
       "      <th>8</th>\n",
       "      <td>stable RNAs</td>\n",
       "      <td>0.20</td>\n",
       "    </tr>\n",
       "    <tr>\n",
       "      <th>9</th>\n",
       "      <td>unknown</td>\n",
       "      <td>0.21</td>\n",
       "    </tr>\n",
       "    <tr>\n",
       "      <th>10</th>\n",
       "      <td>virulence, detoxification, adaptation</td>\n",
       "      <td>3.91</td>\n",
       "    </tr>\n",
       "  </tbody>\n",
       "</table>\n",
       "</div>"
      ],
      "text/plain": [
       "                        Functional_Category  Percent_RefGeneLengths\n",
       "0                                    PE/PPE                    7.01\n",
       "1              cell wall and cell processes                   20.00\n",
       "2                   conserved hypotheticals                   18.77\n",
       "3                      information pathways                    6.76\n",
       "4                 insertion seqs and phages                    2.69\n",
       "5   intermediary metabolism and respiration                   25.75\n",
       "6                          lipid metabolism                   10.53\n",
       "7                       regulatory proteins                    4.18\n",
       "8                               stable RNAs                    0.20\n",
       "9                                   unknown                    0.21\n",
       "10    virulence, detoxification, adaptation                    3.91"
      ]
     },
     "execution_count": 81,
     "metadata": {},
     "output_type": "execute_result"
    }
   ],
   "source": [
    "Gene_Cat_RefPerc"
   ]
  },
  {
   "cell_type": "code",
   "execution_count": 82,
   "id": "7359f136-b0ba-46f0-822c-72e6181fc383",
   "metadata": {},
   "outputs": [
    {
     "data": {
      "text/html": [
       "<div>\n",
       "<style scoped>\n",
       "    .dataframe tbody tr th:only-of-type {\n",
       "        vertical-align: middle;\n",
       "    }\n",
       "\n",
       "    .dataframe tbody tr th {\n",
       "        vertical-align: top;\n",
       "    }\n",
       "\n",
       "    .dataframe thead th {\n",
       "        text-align: right;\n",
       "    }\n",
       "</style>\n",
       "<table border=\"1\" class=\"dataframe\">\n",
       "  <thead>\n",
       "    <tr style=\"text-align: right;\">\n",
       "      <th></th>\n",
       "      <th>NodeID</th>\n",
       "      <th>IsSVNode</th>\n",
       "      <th>SeqLength</th>\n",
       "      <th>Jaccard_Cont_WiRv</th>\n",
       "      <th>Jaccard_Cont_WiIS6110</th>\n",
       "      <th>Jaccard_Cont_WiRv_InsSeqAndPhages</th>\n",
       "      <th>Jaccard_Cont_WiRv_PEPPEs</th>\n",
       "      <th>Jaccard_Cont_WiRv_InfoPathways</th>\n",
       "      <th>Jaccard_Cont_WiRv_ConservedHypo</th>\n",
       "      <th>Jaccard_Cont_WiRv_CellWallCellProc</th>\n",
       "      <th>Jaccard_Cont_WiRv_StableRNAs</th>\n",
       "      <th>Jaccard_Cont_WiRv_InterMetabolism</th>\n",
       "      <th>Jaccard_Cont_WiRv_RegProteins</th>\n",
       "      <th>Jaccard_Cont_WiRv_VirulenceDetoxAdaptation</th>\n",
       "      <th>Jaccard_Cont_WiRv_LipidMetabolism</th>\n",
       "      <th>Jaccard_Cont_WiRv_Unknown</th>\n",
       "      <th>BubbleID</th>\n",
       "      <th>MaxJC_ToOtherNode</th>\n",
       "    </tr>\n",
       "  </thead>\n",
       "  <tbody>\n",
       "    <tr>\n",
       "      <th>0</th>\n",
       "      <td>s1</td>\n",
       "      <td>False</td>\n",
       "      <td>1533</td>\n",
       "      <td>1.0</td>\n",
       "      <td>0.0</td>\n",
       "      <td>0.0</td>\n",
       "      <td>0.0</td>\n",
       "      <td>0.994012</td>\n",
       "      <td>0.0</td>\n",
       "      <td>0.0</td>\n",
       "      <td>0.0</td>\n",
       "      <td>0.0</td>\n",
       "      <td>0.0</td>\n",
       "      <td>0.0</td>\n",
       "      <td>0.0</td>\n",
       "      <td>0.0</td>\n",
       "      <td>None</td>\n",
       "      <td>0.0</td>\n",
       "    </tr>\n",
       "  </tbody>\n",
       "</table>\n",
       "</div>"
      ],
      "text/plain": [
       "  NodeID  IsSVNode  SeqLength  Jaccard_Cont_WiRv  Jaccard_Cont_WiIS6110  \\\n",
       "0     s1     False       1533                1.0                    0.0   \n",
       "\n",
       "   Jaccard_Cont_WiRv_InsSeqAndPhages  Jaccard_Cont_WiRv_PEPPEs  \\\n",
       "0                                0.0                       0.0   \n",
       "\n",
       "   Jaccard_Cont_WiRv_InfoPathways  Jaccard_Cont_WiRv_ConservedHypo  \\\n",
       "0                        0.994012                              0.0   \n",
       "\n",
       "   Jaccard_Cont_WiRv_CellWallCellProc  Jaccard_Cont_WiRv_StableRNAs  \\\n",
       "0                                 0.0                           0.0   \n",
       "\n",
       "   Jaccard_Cont_WiRv_InterMetabolism  Jaccard_Cont_WiRv_RegProteins  \\\n",
       "0                                0.0                            0.0   \n",
       "\n",
       "   Jaccard_Cont_WiRv_VirulenceDetoxAdaptation  \\\n",
       "0                                         0.0   \n",
       "\n",
       "   Jaccard_Cont_WiRv_LipidMetabolism  Jaccard_Cont_WiRv_Unknown BubbleID  \\\n",
       "0                                0.0                        0.0     None   \n",
       "\n",
       "   MaxJC_ToOtherNode  \n",
       "0                0.0  "
      ]
     },
     "execution_count": 82,
     "metadata": {},
     "output_type": "execute_result"
    }
   ],
   "source": [
    "MG_Nodes_KmerComp_DF.head(1)"
   ]
  },
  {
   "cell_type": "markdown",
   "id": "66e4d308-85c5-4c73-bb91-47e30cafd36b",
   "metadata": {},
   "source": [
    "### Step 2: Classify nodes"
   ]
  },
  {
   "cell_type": "code",
   "execution_count": 83,
   "id": "4b06acc8-24ff-46ab-80a5-c895d33641dc",
   "metadata": {},
   "outputs": [],
   "source": [
    "# Apply classification to the main DataFrame\n",
    "threshold = 0.5  # Set the classification threshold\n",
    "MG_Nodes_KmerComp_DF[\"KmerMatch_RvGeneCat\"] = MG_Nodes_KmerComp_DF.apply(\n",
    "    lambda row: classify_node_ToRvGeneCat(row, threshold), axis=1\n",
    ")"
   ]
  },
  {
   "cell_type": "code",
   "execution_count": 84,
   "id": "31513442-0e6b-466f-96a6-f154ec72d410",
   "metadata": {},
   "outputs": [],
   "source": [
    "# Filter SV Nodes based on the queries provided\n",
    "MG_SVNodes_PASS_DF = MG_Nodes_KmerComp_DF.query(\"IsSVNode == True and SeqLength >= 31\")\n",
    "\n",
    "MG_SVNodes_UnqSeq_DF = MG_SVNodes_PASS_DF.query(\"MaxJC_ToOtherNode < 0.05\")\n",
    "MG_SVNodes_UnqSeq_UnqToRv_DF = MG_SVNodes_UnqSeq_DF.query(\"Jaccard_Cont_WiRv < 0.05\")\n",
    "MG_SVNodes_NoUnqSeq_DF = MG_SVNodes_PASS_DF.query(\"MaxJC_ToOtherNode >= 0.05\")\n"
   ]
  },
  {
   "cell_type": "code",
   "execution_count": 85,
   "id": "092869ec-0303-471e-9f76-574b84f436d0",
   "metadata": {},
   "outputs": [
    {
     "data": {
      "text/html": [
       "<div>\n",
       "<style scoped>\n",
       "    .dataframe tbody tr th:only-of-type {\n",
       "        vertical-align: middle;\n",
       "    }\n",
       "\n",
       "    .dataframe tbody tr th {\n",
       "        vertical-align: top;\n",
       "    }\n",
       "\n",
       "    .dataframe thead th {\n",
       "        text-align: right;\n",
       "    }\n",
       "</style>\n",
       "<table border=\"1\" class=\"dataframe\">\n",
       "  <thead>\n",
       "    <tr style=\"text-align: right;\">\n",
       "      <th></th>\n",
       "      <th>Functional_Category</th>\n",
       "      <th>Percent_RefGeneLengths</th>\n",
       "    </tr>\n",
       "  </thead>\n",
       "  <tbody>\n",
       "    <tr>\n",
       "      <th>0</th>\n",
       "      <td>PE/PPE</td>\n",
       "      <td>7.01</td>\n",
       "    </tr>\n",
       "    <tr>\n",
       "      <th>1</th>\n",
       "      <td>cell wall and cell processes</td>\n",
       "      <td>20.00</td>\n",
       "    </tr>\n",
       "    <tr>\n",
       "      <th>2</th>\n",
       "      <td>conserved hypotheticals</td>\n",
       "      <td>18.77</td>\n",
       "    </tr>\n",
       "    <tr>\n",
       "      <th>3</th>\n",
       "      <td>information pathways</td>\n",
       "      <td>6.76</td>\n",
       "    </tr>\n",
       "    <tr>\n",
       "      <th>4</th>\n",
       "      <td>insertion seqs and phages</td>\n",
       "      <td>2.69</td>\n",
       "    </tr>\n",
       "    <tr>\n",
       "      <th>5</th>\n",
       "      <td>intermediary metabolism and respiration</td>\n",
       "      <td>25.75</td>\n",
       "    </tr>\n",
       "    <tr>\n",
       "      <th>6</th>\n",
       "      <td>lipid metabolism</td>\n",
       "      <td>10.53</td>\n",
       "    </tr>\n",
       "    <tr>\n",
       "      <th>7</th>\n",
       "      <td>regulatory proteins</td>\n",
       "      <td>4.18</td>\n",
       "    </tr>\n",
       "    <tr>\n",
       "      <th>8</th>\n",
       "      <td>stable RNAs</td>\n",
       "      <td>0.20</td>\n",
       "    </tr>\n",
       "    <tr>\n",
       "      <th>9</th>\n",
       "      <td>unknown</td>\n",
       "      <td>0.21</td>\n",
       "    </tr>\n",
       "    <tr>\n",
       "      <th>10</th>\n",
       "      <td>virulence, detoxification, adaptation</td>\n",
       "      <td>3.91</td>\n",
       "    </tr>\n",
       "  </tbody>\n",
       "</table>\n",
       "</div>"
      ],
      "text/plain": [
       "                        Functional_Category  Percent_RefGeneLengths\n",
       "0                                    PE/PPE                    7.01\n",
       "1              cell wall and cell processes                   20.00\n",
       "2                   conserved hypotheticals                   18.77\n",
       "3                      information pathways                    6.76\n",
       "4                 insertion seqs and phages                    2.69\n",
       "5   intermediary metabolism and respiration                   25.75\n",
       "6                          lipid metabolism                   10.53\n",
       "7                       regulatory proteins                    4.18\n",
       "8                               stable RNAs                    0.20\n",
       "9                                   unknown                    0.21\n",
       "10    virulence, detoxification, adaptation                    3.91"
      ]
     },
     "execution_count": 85,
     "metadata": {},
     "output_type": "execute_result"
    }
   ],
   "source": [
    "Gene_Cat_RefPerc"
   ]
  },
  {
   "cell_type": "code",
   "execution_count": 86,
   "id": "9623691d-c72c-462e-99c7-af41b2dabdba",
   "metadata": {},
   "outputs": [
    {
     "data": {
      "text/html": [
       "<div>\n",
       "<style scoped>\n",
       "    .dataframe tbody tr th:only-of-type {\n",
       "        vertical-align: middle;\n",
       "    }\n",
       "\n",
       "    .dataframe tbody tr th {\n",
       "        vertical-align: top;\n",
       "    }\n",
       "\n",
       "    .dataframe thead th {\n",
       "        text-align: right;\n",
       "    }\n",
       "</style>\n",
       "<table border=\"1\" class=\"dataframe\">\n",
       "  <thead>\n",
       "    <tr style=\"text-align: right;\">\n",
       "      <th></th>\n",
       "      <th>NodeID</th>\n",
       "      <th>IsSVNode</th>\n",
       "      <th>SeqLength</th>\n",
       "      <th>Jaccard_Cont_WiRv</th>\n",
       "      <th>Jaccard_Cont_WiIS6110</th>\n",
       "      <th>Jaccard_Cont_WiRv_InsSeqAndPhages</th>\n",
       "      <th>Jaccard_Cont_WiRv_PEPPEs</th>\n",
       "      <th>Jaccard_Cont_WiRv_InfoPathways</th>\n",
       "      <th>Jaccard_Cont_WiRv_ConservedHypo</th>\n",
       "      <th>Jaccard_Cont_WiRv_CellWallCellProc</th>\n",
       "      <th>Jaccard_Cont_WiRv_StableRNAs</th>\n",
       "      <th>Jaccard_Cont_WiRv_InterMetabolism</th>\n",
       "      <th>Jaccard_Cont_WiRv_RegProteins</th>\n",
       "      <th>Jaccard_Cont_WiRv_VirulenceDetoxAdaptation</th>\n",
       "      <th>Jaccard_Cont_WiRv_LipidMetabolism</th>\n",
       "      <th>Jaccard_Cont_WiRv_Unknown</th>\n",
       "      <th>BubbleID</th>\n",
       "      <th>MaxJC_ToOtherNode</th>\n",
       "      <th>KmerMatch_RvGeneCat</th>\n",
       "    </tr>\n",
       "  </thead>\n",
       "  <tbody>\n",
       "    <tr>\n",
       "      <th>2</th>\n",
       "      <td>s3</td>\n",
       "      <td>True</td>\n",
       "      <td>56</td>\n",
       "      <td>1.0</td>\n",
       "      <td>0.0</td>\n",
       "      <td>0.0</td>\n",
       "      <td>0.0</td>\n",
       "      <td>0.0</td>\n",
       "      <td>0.000000</td>\n",
       "      <td>0.0</td>\n",
       "      <td>0.0</td>\n",
       "      <td>0.0</td>\n",
       "      <td>0.000000</td>\n",
       "      <td>0.0</td>\n",
       "      <td>0.0</td>\n",
       "      <td>0.0</td>\n",
       "      <td>BubbleRegion_2</td>\n",
       "      <td>0.961538</td>\n",
       "      <td>None</td>\n",
       "    </tr>\n",
       "    <tr>\n",
       "      <th>6</th>\n",
       "      <td>s7</td>\n",
       "      <td>True</td>\n",
       "      <td>1876</td>\n",
       "      <td>1.0</td>\n",
       "      <td>0.0</td>\n",
       "      <td>0.0</td>\n",
       "      <td>0.0</td>\n",
       "      <td>0.0</td>\n",
       "      <td>0.206934</td>\n",
       "      <td>0.0</td>\n",
       "      <td>0.0</td>\n",
       "      <td>0.0</td>\n",
       "      <td>0.601842</td>\n",
       "      <td>0.0</td>\n",
       "      <td>0.0</td>\n",
       "      <td>0.0</td>\n",
       "      <td>BubbleRegion_4</td>\n",
       "      <td>0.006501</td>\n",
       "      <td>[Jaccard_Cont_WiRv_RegProteins]</td>\n",
       "    </tr>\n",
       "    <tr>\n",
       "      <th>15</th>\n",
       "      <td>s16</td>\n",
       "      <td>True</td>\n",
       "      <td>904</td>\n",
       "      <td>1.0</td>\n",
       "      <td>0.0</td>\n",
       "      <td>0.0</td>\n",
       "      <td>0.0</td>\n",
       "      <td>0.0</td>\n",
       "      <td>0.000000</td>\n",
       "      <td>1.0</td>\n",
       "      <td>0.0</td>\n",
       "      <td>0.0</td>\n",
       "      <td>0.000000</td>\n",
       "      <td>0.0</td>\n",
       "      <td>0.0</td>\n",
       "      <td>0.0</td>\n",
       "      <td>BubbleRegion_11</td>\n",
       "      <td>0.000000</td>\n",
       "      <td>[Jaccard_Cont_WiRv_CellWallCellProc]</td>\n",
       "    </tr>\n",
       "  </tbody>\n",
       "</table>\n",
       "</div>"
      ],
      "text/plain": [
       "   NodeID  IsSVNode  SeqLength  Jaccard_Cont_WiRv  Jaccard_Cont_WiIS6110  \\\n",
       "2      s3      True         56                1.0                    0.0   \n",
       "6      s7      True       1876                1.0                    0.0   \n",
       "15    s16      True        904                1.0                    0.0   \n",
       "\n",
       "    Jaccard_Cont_WiRv_InsSeqAndPhages  Jaccard_Cont_WiRv_PEPPEs  \\\n",
       "2                                 0.0                       0.0   \n",
       "6                                 0.0                       0.0   \n",
       "15                                0.0                       0.0   \n",
       "\n",
       "    Jaccard_Cont_WiRv_InfoPathways  Jaccard_Cont_WiRv_ConservedHypo  \\\n",
       "2                              0.0                         0.000000   \n",
       "6                              0.0                         0.206934   \n",
       "15                             0.0                         0.000000   \n",
       "\n",
       "    Jaccard_Cont_WiRv_CellWallCellProc  Jaccard_Cont_WiRv_StableRNAs  \\\n",
       "2                                  0.0                           0.0   \n",
       "6                                  0.0                           0.0   \n",
       "15                                 1.0                           0.0   \n",
       "\n",
       "    Jaccard_Cont_WiRv_InterMetabolism  Jaccard_Cont_WiRv_RegProteins  \\\n",
       "2                                 0.0                       0.000000   \n",
       "6                                 0.0                       0.601842   \n",
       "15                                0.0                       0.000000   \n",
       "\n",
       "    Jaccard_Cont_WiRv_VirulenceDetoxAdaptation  \\\n",
       "2                                          0.0   \n",
       "6                                          0.0   \n",
       "15                                         0.0   \n",
       "\n",
       "    Jaccard_Cont_WiRv_LipidMetabolism  Jaccard_Cont_WiRv_Unknown  \\\n",
       "2                                 0.0                        0.0   \n",
       "6                                 0.0                        0.0   \n",
       "15                                0.0                        0.0   \n",
       "\n",
       "           BubbleID  MaxJC_ToOtherNode                   KmerMatch_RvGeneCat  \n",
       "2    BubbleRegion_2           0.961538                                  None  \n",
       "6    BubbleRegion_4           0.006501       [Jaccard_Cont_WiRv_RegProteins]  \n",
       "15  BubbleRegion_11           0.000000  [Jaccard_Cont_WiRv_CellWallCellProc]  "
      ]
     },
     "execution_count": 86,
     "metadata": {},
     "output_type": "execute_result"
    }
   ],
   "source": [
    "MG_SVNodes_PASS_DF.head(3)"
   ]
  },
  {
   "cell_type": "code",
   "execution_count": 87,
   "id": "c6a91457-d934-4ba0-8c05-686772d537df",
   "metadata": {},
   "outputs": [],
   "source": [
    "# Summarize UNIQUE SV nodes\n",
    "All_SV_nodes_summary = summarize_sv_categories_with_functional_category(MG_SVNodes_PASS_DF, listOf_JC_Cols)\n",
    "All_SV_nodes_summary = pd.merge(All_SV_nodes_summary, Gene_Cat_RefPerc, on = \"Functional_Category\")\n",
    "\n",
    "# Summarize UNIQUE SV nodes\n",
    "unique_nodes_summary = summarize_sv_categories_with_functional_category(MG_SVNodes_UnqSeq_DF, listOf_JC_Cols)\n",
    "unique_nodes_summary = pd.merge(unique_nodes_summary, Gene_Cat_RefPerc, on = \"Functional_Category\")\n",
    "\n",
    "# Summarize NON-UNIQUE SV nodes\n",
    "nonunique_nodes_summary = summarize_sv_categories_with_functional_category(MG_SVNodes_NoUnqSeq_DF, listOf_JC_Cols)\n",
    "nonunique_nodes_summary = pd.merge(nonunique_nodes_summary, Gene_Cat_RefPerc, on = \"Functional_Category\")\n"
   ]
  },
  {
   "cell_type": "code",
   "execution_count": 88,
   "id": "4e2b8303-43e4-4b44-9a98-a82ab55474d9",
   "metadata": {},
   "outputs": [
    {
     "data": {
      "text/html": [
       "<div>\n",
       "<style scoped>\n",
       "    .dataframe tbody tr th:only-of-type {\n",
       "        vertical-align: middle;\n",
       "    }\n",
       "\n",
       "    .dataframe tbody tr th {\n",
       "        vertical-align: top;\n",
       "    }\n",
       "\n",
       "    .dataframe thead th {\n",
       "        text-align: right;\n",
       "    }\n",
       "</style>\n",
       "<table border=\"1\" class=\"dataframe\">\n",
       "  <thead>\n",
       "    <tr style=\"text-align: right;\">\n",
       "      <th></th>\n",
       "      <th>Functional_Category</th>\n",
       "      <th>Total Length</th>\n",
       "      <th>Node Count</th>\n",
       "      <th>Relative Size (%)</th>\n",
       "      <th>Percent_RefGeneLengths</th>\n",
       "    </tr>\n",
       "  </thead>\n",
       "  <tbody>\n",
       "    <tr>\n",
       "      <th>0</th>\n",
       "      <td>insertion seqs and phages</td>\n",
       "      <td>503748</td>\n",
       "      <td>346</td>\n",
       "      <td>39.46</td>\n",
       "      <td>2.69</td>\n",
       "    </tr>\n",
       "    <tr>\n",
       "      <th>1</th>\n",
       "      <td>PE/PPE</td>\n",
       "      <td>167166</td>\n",
       "      <td>647</td>\n",
       "      <td>13.10</td>\n",
       "      <td>7.01</td>\n",
       "    </tr>\n",
       "    <tr>\n",
       "      <th>2</th>\n",
       "      <td>information pathways</td>\n",
       "      <td>4363</td>\n",
       "      <td>10</td>\n",
       "      <td>0.34</td>\n",
       "      <td>6.76</td>\n",
       "    </tr>\n",
       "    <tr>\n",
       "      <th>3</th>\n",
       "      <td>conserved hypotheticals</td>\n",
       "      <td>66735</td>\n",
       "      <td>111</td>\n",
       "      <td>5.23</td>\n",
       "      <td>18.77</td>\n",
       "    </tr>\n",
       "    <tr>\n",
       "      <th>4</th>\n",
       "      <td>cell wall and cell processes</td>\n",
       "      <td>42715</td>\n",
       "      <td>73</td>\n",
       "      <td>3.35</td>\n",
       "      <td>20.00</td>\n",
       "    </tr>\n",
       "    <tr>\n",
       "      <th>5</th>\n",
       "      <td>stable RNAs</td>\n",
       "      <td>0</td>\n",
       "      <td>0</td>\n",
       "      <td>0.00</td>\n",
       "      <td>0.20</td>\n",
       "    </tr>\n",
       "    <tr>\n",
       "      <th>6</th>\n",
       "      <td>intermediary metabolism and respiration</td>\n",
       "      <td>69088</td>\n",
       "      <td>105</td>\n",
       "      <td>5.41</td>\n",
       "      <td>25.75</td>\n",
       "    </tr>\n",
       "    <tr>\n",
       "      <th>7</th>\n",
       "      <td>regulatory proteins</td>\n",
       "      <td>13000</td>\n",
       "      <td>21</td>\n",
       "      <td>1.02</td>\n",
       "      <td>4.18</td>\n",
       "    </tr>\n",
       "    <tr>\n",
       "      <th>8</th>\n",
       "      <td>virulence, detoxification, adaptation</td>\n",
       "      <td>10554</td>\n",
       "      <td>7</td>\n",
       "      <td>0.83</td>\n",
       "      <td>3.91</td>\n",
       "    </tr>\n",
       "    <tr>\n",
       "      <th>9</th>\n",
       "      <td>lipid metabolism</td>\n",
       "      <td>51437</td>\n",
       "      <td>39</td>\n",
       "      <td>4.03</td>\n",
       "      <td>10.53</td>\n",
       "    </tr>\n",
       "  </tbody>\n",
       "</table>\n",
       "</div>"
      ],
      "text/plain": [
       "                       Functional_Category  Total Length  Node Count  \\\n",
       "0                insertion seqs and phages        503748         346   \n",
       "1                                   PE/PPE        167166         647   \n",
       "2                     information pathways          4363          10   \n",
       "3                  conserved hypotheticals         66735         111   \n",
       "4             cell wall and cell processes         42715          73   \n",
       "5                              stable RNAs             0           0   \n",
       "6  intermediary metabolism and respiration         69088         105   \n",
       "7                      regulatory proteins         13000          21   \n",
       "8    virulence, detoxification, adaptation         10554           7   \n",
       "9                         lipid metabolism         51437          39   \n",
       "\n",
       "   Relative Size (%)  Percent_RefGeneLengths  \n",
       "0              39.46                    2.69  \n",
       "1              13.10                    7.01  \n",
       "2               0.34                    6.76  \n",
       "3               5.23                   18.77  \n",
       "4               3.35                   20.00  \n",
       "5               0.00                    0.20  \n",
       "6               5.41                   25.75  \n",
       "7               1.02                    4.18  \n",
       "8               0.83                    3.91  \n",
       "9               4.03                   10.53  "
      ]
     },
     "execution_count": 88,
     "metadata": {},
     "output_type": "execute_result"
    }
   ],
   "source": [
    "All_SV_nodes_summary"
   ]
  },
  {
   "cell_type": "code",
   "execution_count": 89,
   "id": "53dc7116-ef17-4f3b-b5bc-516a6dd448bc",
   "metadata": {},
   "outputs": [
    {
     "data": {
      "text/html": [
       "<div>\n",
       "<style scoped>\n",
       "    .dataframe tbody tr th:only-of-type {\n",
       "        vertical-align: middle;\n",
       "    }\n",
       "\n",
       "    .dataframe tbody tr th {\n",
       "        vertical-align: top;\n",
       "    }\n",
       "\n",
       "    .dataframe thead th {\n",
       "        text-align: right;\n",
       "    }\n",
       "</style>\n",
       "<table border=\"1\" class=\"dataframe\">\n",
       "  <thead>\n",
       "    <tr style=\"text-align: right;\">\n",
       "      <th></th>\n",
       "      <th>Functional_Category</th>\n",
       "      <th>Total Length</th>\n",
       "      <th>Node Count</th>\n",
       "      <th>Relative Size (%)</th>\n",
       "      <th>Percent_RefGeneLengths</th>\n",
       "    </tr>\n",
       "  </thead>\n",
       "  <tbody>\n",
       "    <tr>\n",
       "      <th>0</th>\n",
       "      <td>insertion seqs and phages</td>\n",
       "      <td>14643</td>\n",
       "      <td>7</td>\n",
       "      <td>4.86</td>\n",
       "      <td>2.69</td>\n",
       "    </tr>\n",
       "    <tr>\n",
       "      <th>1</th>\n",
       "      <td>PE/PPE</td>\n",
       "      <td>45845</td>\n",
       "      <td>185</td>\n",
       "      <td>15.21</td>\n",
       "      <td>7.01</td>\n",
       "    </tr>\n",
       "    <tr>\n",
       "      <th>2</th>\n",
       "      <td>information pathways</td>\n",
       "      <td>4249</td>\n",
       "      <td>8</td>\n",
       "      <td>1.41</td>\n",
       "      <td>6.76</td>\n",
       "    </tr>\n",
       "    <tr>\n",
       "      <th>3</th>\n",
       "      <td>conserved hypotheticals</td>\n",
       "      <td>23659</td>\n",
       "      <td>27</td>\n",
       "      <td>7.85</td>\n",
       "      <td>18.77</td>\n",
       "    </tr>\n",
       "    <tr>\n",
       "      <th>4</th>\n",
       "      <td>cell wall and cell processes</td>\n",
       "      <td>28466</td>\n",
       "      <td>37</td>\n",
       "      <td>9.44</td>\n",
       "      <td>20.00</td>\n",
       "    </tr>\n",
       "    <tr>\n",
       "      <th>5</th>\n",
       "      <td>stable RNAs</td>\n",
       "      <td>0</td>\n",
       "      <td>0</td>\n",
       "      <td>0.00</td>\n",
       "      <td>0.20</td>\n",
       "    </tr>\n",
       "    <tr>\n",
       "      <th>6</th>\n",
       "      <td>intermediary metabolism and respiration</td>\n",
       "      <td>40813</td>\n",
       "      <td>43</td>\n",
       "      <td>13.54</td>\n",
       "      <td>25.75</td>\n",
       "    </tr>\n",
       "    <tr>\n",
       "      <th>7</th>\n",
       "      <td>regulatory proteins</td>\n",
       "      <td>6849</td>\n",
       "      <td>7</td>\n",
       "      <td>2.27</td>\n",
       "      <td>4.18</td>\n",
       "    </tr>\n",
       "    <tr>\n",
       "      <th>8</th>\n",
       "      <td>virulence, detoxification, adaptation</td>\n",
       "      <td>9697</td>\n",
       "      <td>5</td>\n",
       "      <td>3.22</td>\n",
       "      <td>3.91</td>\n",
       "    </tr>\n",
       "    <tr>\n",
       "      <th>9</th>\n",
       "      <td>lipid metabolism</td>\n",
       "      <td>25307</td>\n",
       "      <td>24</td>\n",
       "      <td>8.39</td>\n",
       "      <td>10.53</td>\n",
       "    </tr>\n",
       "  </tbody>\n",
       "</table>\n",
       "</div>"
      ],
      "text/plain": [
       "                       Functional_Category  Total Length  Node Count  \\\n",
       "0                insertion seqs and phages         14643           7   \n",
       "1                                   PE/PPE         45845         185   \n",
       "2                     information pathways          4249           8   \n",
       "3                  conserved hypotheticals         23659          27   \n",
       "4             cell wall and cell processes         28466          37   \n",
       "5                              stable RNAs             0           0   \n",
       "6  intermediary metabolism and respiration         40813          43   \n",
       "7                      regulatory proteins          6849           7   \n",
       "8    virulence, detoxification, adaptation          9697           5   \n",
       "9                         lipid metabolism         25307          24   \n",
       "\n",
       "   Relative Size (%)  Percent_RefGeneLengths  \n",
       "0               4.86                    2.69  \n",
       "1              15.21                    7.01  \n",
       "2               1.41                    6.76  \n",
       "3               7.85                   18.77  \n",
       "4               9.44                   20.00  \n",
       "5               0.00                    0.20  \n",
       "6              13.54                   25.75  \n",
       "7               2.27                    4.18  \n",
       "8               3.22                    3.91  \n",
       "9               8.39                   10.53  "
      ]
     },
     "execution_count": 89,
     "metadata": {},
     "output_type": "execute_result"
    }
   ],
   "source": [
    "unique_nodes_summary"
   ]
  },
  {
   "cell_type": "code",
   "execution_count": 90,
   "id": "c15b7d34-a5bb-4e36-bd8f-e5337cd6f879",
   "metadata": {},
   "outputs": [
    {
     "data": {
      "text/html": [
       "<div>\n",
       "<style scoped>\n",
       "    .dataframe tbody tr th:only-of-type {\n",
       "        vertical-align: middle;\n",
       "    }\n",
       "\n",
       "    .dataframe tbody tr th {\n",
       "        vertical-align: top;\n",
       "    }\n",
       "\n",
       "    .dataframe thead th {\n",
       "        text-align: right;\n",
       "    }\n",
       "</style>\n",
       "<table border=\"1\" class=\"dataframe\">\n",
       "  <thead>\n",
       "    <tr style=\"text-align: right;\">\n",
       "      <th></th>\n",
       "      <th>Functional_Category</th>\n",
       "      <th>Total Length</th>\n",
       "      <th>Node Count</th>\n",
       "      <th>Relative Size (%)</th>\n",
       "      <th>Percent_RefGeneLengths</th>\n",
       "    </tr>\n",
       "  </thead>\n",
       "  <tbody>\n",
       "    <tr>\n",
       "      <th>0</th>\n",
       "      <td>insertion seqs and phages</td>\n",
       "      <td>489105</td>\n",
       "      <td>339</td>\n",
       "      <td>50.16</td>\n",
       "      <td>2.69</td>\n",
       "    </tr>\n",
       "    <tr>\n",
       "      <th>1</th>\n",
       "      <td>PE/PPE</td>\n",
       "      <td>121321</td>\n",
       "      <td>462</td>\n",
       "      <td>12.44</td>\n",
       "      <td>7.01</td>\n",
       "    </tr>\n",
       "    <tr>\n",
       "      <th>2</th>\n",
       "      <td>information pathways</td>\n",
       "      <td>114</td>\n",
       "      <td>2</td>\n",
       "      <td>0.01</td>\n",
       "      <td>6.76</td>\n",
       "    </tr>\n",
       "    <tr>\n",
       "      <th>3</th>\n",
       "      <td>conserved hypotheticals</td>\n",
       "      <td>43076</td>\n",
       "      <td>84</td>\n",
       "      <td>4.42</td>\n",
       "      <td>18.77</td>\n",
       "    </tr>\n",
       "    <tr>\n",
       "      <th>4</th>\n",
       "      <td>cell wall and cell processes</td>\n",
       "      <td>14249</td>\n",
       "      <td>36</td>\n",
       "      <td>1.46</td>\n",
       "      <td>20.00</td>\n",
       "    </tr>\n",
       "    <tr>\n",
       "      <th>5</th>\n",
       "      <td>stable RNAs</td>\n",
       "      <td>0</td>\n",
       "      <td>0</td>\n",
       "      <td>0.00</td>\n",
       "      <td>0.20</td>\n",
       "    </tr>\n",
       "    <tr>\n",
       "      <th>6</th>\n",
       "      <td>intermediary metabolism and respiration</td>\n",
       "      <td>28275</td>\n",
       "      <td>62</td>\n",
       "      <td>2.90</td>\n",
       "      <td>25.75</td>\n",
       "    </tr>\n",
       "    <tr>\n",
       "      <th>7</th>\n",
       "      <td>regulatory proteins</td>\n",
       "      <td>6151</td>\n",
       "      <td>14</td>\n",
       "      <td>0.63</td>\n",
       "      <td>4.18</td>\n",
       "    </tr>\n",
       "    <tr>\n",
       "      <th>8</th>\n",
       "      <td>virulence, detoxification, adaptation</td>\n",
       "      <td>857</td>\n",
       "      <td>2</td>\n",
       "      <td>0.09</td>\n",
       "      <td>3.91</td>\n",
       "    </tr>\n",
       "    <tr>\n",
       "      <th>9</th>\n",
       "      <td>lipid metabolism</td>\n",
       "      <td>26130</td>\n",
       "      <td>15</td>\n",
       "      <td>2.68</td>\n",
       "      <td>10.53</td>\n",
       "    </tr>\n",
       "  </tbody>\n",
       "</table>\n",
       "</div>"
      ],
      "text/plain": [
       "                       Functional_Category  Total Length  Node Count  \\\n",
       "0                insertion seqs and phages        489105         339   \n",
       "1                                   PE/PPE        121321         462   \n",
       "2                     information pathways           114           2   \n",
       "3                  conserved hypotheticals         43076          84   \n",
       "4             cell wall and cell processes         14249          36   \n",
       "5                              stable RNAs             0           0   \n",
       "6  intermediary metabolism and respiration         28275          62   \n",
       "7                      regulatory proteins          6151          14   \n",
       "8    virulence, detoxification, adaptation           857           2   \n",
       "9                         lipid metabolism         26130          15   \n",
       "\n",
       "   Relative Size (%)  Percent_RefGeneLengths  \n",
       "0              50.16                    2.69  \n",
       "1              12.44                    7.01  \n",
       "2               0.01                    6.76  \n",
       "3               4.42                   18.77  \n",
       "4               1.46                   20.00  \n",
       "5               0.00                    0.20  \n",
       "6               2.90                   25.75  \n",
       "7               0.63                    4.18  \n",
       "8               0.09                    3.91  \n",
       "9               2.68                   10.53  "
      ]
     },
     "execution_count": 90,
     "metadata": {},
     "output_type": "execute_result"
    }
   ],
   "source": [
    "nonunique_nodes_summary"
   ]
  },
  {
   "cell_type": "code",
   "execution_count": null,
   "id": "d3caac75-135c-49c9-8a6a-e59b18bb4c1e",
   "metadata": {},
   "outputs": [],
   "source": []
  },
  {
   "cell_type": "code",
   "execution_count": null,
   "id": "e0b21e23-ff43-4475-ab4b-1ed69ceba6c9",
   "metadata": {},
   "outputs": [],
   "source": []
  },
  {
   "cell_type": "markdown",
   "id": "bdfc9995-7b06-4f39-bcbb-59d607a2f337",
   "metadata": {},
   "source": [
    "# Parse PG Tool outputs"
   ]
  },
  {
   "cell_type": "markdown",
   "id": "60c15ca7-af0c-489d-8032-70d8ac2dabfb",
   "metadata": {},
   "source": [
    "## Define output dirs of Pangenome Analysis pipelines"
   ]
  },
  {
   "cell_type": "code",
   "execution_count": 91,
   "id": "98abd505-53b5-46f1-b9a2-13cb67a2964e",
   "metadata": {},
   "outputs": [],
   "source": [
    "target_OutputDir = MtbWGA_SMK_Pipeline_OutputDir\n",
    "\n",
    "i_Pangenome_Dir = f\"{target_OutputDir}/PanGenome_Analysis\"\n"
   ]
  },
  {
   "cell_type": "markdown",
   "id": "0d9d0486-2c40-4fdb-b48f-73124d312a4a",
   "metadata": {},
   "source": [
    "### Define path to Panaroo output files (151 LR genomes, MergeParalogs Parameters)"
   ]
  },
  {
   "cell_type": "code",
   "execution_count": 92,
   "id": "481b2a26-bec1-4798-822e-48f687d8f23a",
   "metadata": {},
   "outputs": [],
   "source": [
    "\n",
    "PG_OutDir_Dict = {   \"Panaroo_Strict_MP\": f\"{i_Pangenome_Dir}/Panaroo_Strict_MergeParalogs_AllIsolates\",\n",
    "                     \"Panaroo_Moderate_MP\": f\"{i_Pangenome_Dir}/Panaroo_Moderate_MergeParalogs_AllIsolates\",\n",
    "                     \"Panaroo_Sens_MP\": f\"{i_Pangenome_Dir}/Panaroo_Sensitive_MergeParalogs_AllIsolates\",\n",
    "                     # \"Panaroo_Strict\": f\"{i_Pangenome_Dir}/Panaroo_Strict_AllIsolates\",\n",
    "                     # \"Panaroo_Moderate\": f\"{i_Pangenome_Dir}/Panaroo_Moderate_AllIsolates\",\n",
    "                     # \"Panaroo_Sens\": f\"{i_Pangenome_Dir}/Panaroo_Sensitive_AllIsolates\",\n",
    "                     \"Roary_Default\": f\"{i_Pangenome_Dir}/Roary_Default_AllIsolates\",\n",
    "                     \"Roary_NoSplitParalogs\": f\"{i_Pangenome_Dir}/Roary_NoSplitParalogs_AllIsolates\",\n",
    "                     \"Roary_NoSplitParalogs_I80\": f\"{i_Pangenome_Dir}/Roary_NoSplitParalogs_I80_AllIsolates\",\n",
    "                     \"Roary_NoSplitParalogs_I90\": f\"{i_Pangenome_Dir}/Roary_NoSplitParalogs_I90_AllIsolates\",\n",
    "                     \"SR_Panaroo_Strict_MP\": f\"{i_Pangenome_Dir}/SR_Panaroo_Strict_MergeParalogs_AllIsolates\",\n",
    "                     \"SR_Panaroo_Strict_MP\": f\"{i_Pangenome_Dir}/SR_Panaroo_Strict_MergeParalogs_AllIsolates\",\n",
    "                     \"SR_Panaroo_Sens_MP\": f\"{i_Pangenome_Dir}/SR_Panaroo_Sensitive_MergeParalogs_AllIsolates\",\n",
    "                     \"SR_Roary_Default\": f\"{i_Pangenome_Dir}/SR_Roary_Default_AllIsolates\",\n",
    "                     \"SR_Roary_NoSplitParalogs\": f\"{i_Pangenome_Dir}/SR_Roary_NoSplitParalogs_AllIsolates\",\n",
    "                     \"SR_Roary_NoSplitParalogs_I80\": f\"{i_Pangenome_Dir}/SR_Roary_NoSplitParalogs_I80_AllIsolates\",\n",
    "                     \"SR_Roary_NoSplitParalogs_I90\": f\"{i_Pangenome_Dir}/SR_Roary_NoSplitParalogs_I90_AllIsolates\",}\n",
    "\n",
    "\n",
    "PG_PresAbs_CSV_PATH_Dict = {}\n",
    "for i_param, i_outdir in PG_OutDir_Dict.items():\n",
    "    PG_PresAbs_CSV_PATH_Dict[i_param] = f\"{i_outdir}/gene_presence_absence.csv\"  \n",
    "    \n",
    "PG_PresAbs_Rtab_PATH_Dict = {}\n",
    "for i_param, i_outdir in PG_OutDir_Dict.items():\n",
    "    PG_PresAbs_Rtab_PATH_Dict[i_param] = f\"{i_outdir}/gene_presence_absence.Rtab\"  \n",
    "\n",
    "PG_GeneRefFA_PATH_Dict = {}\n",
    "for i_param, i_outdir in PG_OutDir_Dict.items():\n",
    "    PG_GeneRefFA_PATH_Dict[i_param] = f\"{i_outdir}/pan_genome_reference.fa\"  \n",
    "\n",
    "PG_AvA_PATH_Dict = {}\n",
    "for i_param, i_outdir in PG_OutDir_Dict.items():\n",
    "    PG_AvA_PATH_Dict[i_param] = f\"{i_outdir}/pan_genome_reference.KmerComparison.AllVsAll.MaxJC.tsv\"\n",
    "\n"
   ]
  },
  {
   "cell_type": "code",
   "execution_count": null,
   "id": "3d645900-4635-4d04-9398-d34396b39855",
   "metadata": {},
   "outputs": [],
   "source": []
  },
  {
   "cell_type": "code",
   "execution_count": null,
   "id": "8640a132-d14a-4b9b-a6ef-2c9a9b04a49e",
   "metadata": {},
   "outputs": [],
   "source": []
  },
  {
   "cell_type": "markdown",
   "id": "6b4236ed-ae8d-45af-b61c-cc00f80ed6aa",
   "metadata": {},
   "source": [
    "# Parse in processed data"
   ]
  },
  {
   "cell_type": "markdown",
   "id": "4700a1d9-8ebe-4c64-9b26-d4139f1c9edb",
   "metadata": {},
   "source": [
    "### A) Parse in processed All vs All Kmer analysis"
   ]
  },
  {
   "cell_type": "code",
   "execution_count": 93,
   "id": "d6211a96-1dc0-456d-973b-073cde9ea100",
   "metadata": {},
   "outputs": [],
   "source": [
    "# AvA_DF_Dict = {}\n",
    "\n",
    "# for i_Param, AvA_TSV_PATH in PG_AvA_PATH_Dict.items():\n",
    "\n",
    "#     PG_AvA_DF = pd.read_csv(AvA_TSV_PATH, sep = \"\\t\" )\n",
    "#     AvA_DF_Dict[i_Param] = PG_AvA_DF\n"
   ]
  },
  {
   "cell_type": "code",
   "execution_count": null,
   "id": "ac429491-2094-4e04-a83e-882010f22be8",
   "metadata": {},
   "outputs": [],
   "source": []
  },
  {
   "cell_type": "markdown",
   "id": "6ddb21ad-066e-46ea-8629-75816e2dab80",
   "metadata": {},
   "source": [
    "### B) Parse in Gene PresAbs Info"
   ]
  },
  {
   "cell_type": "code",
   "execution_count": 94,
   "id": "6c942bc6-5524-40ec-94d3-f5dd04b32c5b",
   "metadata": {},
   "outputs": [
    {
     "name": "stderr",
     "output_type": "stream",
     "text": [
      "/home/mm774/conda3/envs/py37_S/lib/python3.7/site-packages/ipykernel_launcher.py:8: DtypeWarning: Columns (5,10,12,14,16,24,30,31,32,43,44,48,51,57,59,60,61,62,63,64,68,69,70,71,72,73,74,76,79,82,83,84,86,87,88,89,90,91,93,94,95,96,97,98,99,100,101,102,103,104,105,108,109,110,111,112,113,114,116,117,119,121,122,123,124,126,128,130,132,136,137,140,141,142,144,146,147,148,149,150,151,152,153) have mixed types.Specify dtype option on import or set low_memory=False.\n",
      "  \n"
     ]
    },
    {
     "name": "stdout",
     "output_type": "stream",
     "text": [
      "Panaroo_Strict_MP (4200, 153)\n"
     ]
    },
    {
     "name": "stderr",
     "output_type": "stream",
     "text": [
      "/home/mm774/conda3/envs/py37_S/lib/python3.7/site-packages/ipykernel_launcher.py:8: DtypeWarning: Columns (12,14,16) have mixed types.Specify dtype option on import or set low_memory=False.\n",
      "  \n"
     ]
    },
    {
     "name": "stdout",
     "output_type": "stream",
     "text": [
      "Panaroo_Moderate_MP (4280, 153)\n",
      "Panaroo_Sens_MP (4281, 153)\n",
      "Roary_Default (5366, 153)\n"
     ]
    },
    {
     "name": "stderr",
     "output_type": "stream",
     "text": [
      "/home/mm774/conda3/envs/py37_S/lib/python3.7/site-packages/ipykernel_launcher.py:6: DtypeWarning: Columns (32,41,59,60,68,69,70,71,76,79,81,82,83,84,85,90,93,95,99,100,102,103,104,105,108,110,111,116,117,123,128,131,141,143,146,147,149,157,162,164) have mixed types.Specify dtype option on import or set low_memory=False.\n",
      "  \n"
     ]
    },
    {
     "name": "stdout",
     "output_type": "stream",
     "text": [
      "Roary_NoSplitParalogs (4366, 153)\n"
     ]
    },
    {
     "name": "stderr",
     "output_type": "stream",
     "text": [
      "/home/mm774/conda3/envs/py37_S/lib/python3.7/site-packages/ipykernel_launcher.py:6: DtypeWarning: Columns (16,18,31,32,34,35,37,41,44,45,47,49,52,53,56,59,60,63,64,67,68,69,70,71,73,74,75,76,77,79,80,81,82,83,84,85,86,88,89,90,91,92,93,95,99,100,102,103,104,105,108,110,111,116,117,123,128,131,135,136,137,138,139,140,141,143,145,146,147,149,157,161,162,164) have mixed types.Specify dtype option on import or set low_memory=False.\n",
      "  \n"
     ]
    },
    {
     "name": "stdout",
     "output_type": "stream",
     "text": [
      "Roary_NoSplitParalogs_I80 (4252, 153)\n"
     ]
    },
    {
     "name": "stderr",
     "output_type": "stream",
     "text": [
      "/home/mm774/conda3/envs/py37_S/lib/python3.7/site-packages/ipykernel_launcher.py:6: DtypeWarning: Columns (16,18,31,32,35,37,41,52,56,59,60,68,69,70,71,73,76,77,79,80,81,82,83,84,85,90,92,93,95,99,100,102,103,104,105,108,110,111,116,117,123,128,131,136,139,141,143,146,147,149,157,162,164) have mixed types.Specify dtype option on import or set low_memory=False.\n",
      "  \n"
     ]
    },
    {
     "name": "stdout",
     "output_type": "stream",
     "text": [
      "Roary_NoSplitParalogs_I90 (4293, 153)\n"
     ]
    },
    {
     "name": "stderr",
     "output_type": "stream",
     "text": [
      "/home/mm774/conda3/envs/py37_S/lib/python3.7/site-packages/ipykernel_launcher.py:8: DtypeWarning: Columns (7,13,18,26,29,39,89,110,111,125,134,151) have mixed types.Specify dtype option on import or set low_memory=False.\n",
      "  \n"
     ]
    },
    {
     "name": "stdout",
     "output_type": "stream",
     "text": [
      "SR_Panaroo_Strict_MP (4211, 153)\n",
      "SR_Panaroo_Sens_MP (4600, 153)\n",
      "SR_Roary_Default (6006, 153)\n",
      "SR_Roary_NoSplitParalogs (5025, 153)\n",
      "SR_Roary_NoSplitParalogs_I80 (4866, 153)\n",
      "SR_Roary_NoSplitParalogs_I90 (4956, 153)\n"
     ]
    }
   ],
   "source": [
    "PresAbs_DF_Dict = {}\n",
    "\n",
    "for i_Param, PresAbs_CSV_PATH in PG_PresAbs_CSV_PATH_Dict.items():\n",
    "\n",
    "    if \"Roary\" in i_Param: \n",
    "        i_Gene_PresAbs_DF = parse_PresAbs_CSV_Roary(PresAbs_CSV_PATH)\n",
    "    else:\n",
    "        i_Gene_PresAbs_DF = parse_PresAbs_CSV_Panaroo(PresAbs_CSV_PATH)\n",
    "\n",
    "    ### Relabel Columns for presence/absence tracking\n",
    "    i_Gene_PresAbs_DF.columns = [ x.split(\".Bakta\")[0] for x in i_Gene_PresAbs_DF.columns ]\n",
    "\n",
    "    print(i_Param, i_Gene_PresAbs_DF.shape)\n",
    "    \n",
    "    PresAbs_DF_Dict[i_Param] = i_Gene_PresAbs_DF\n",
    "    "
   ]
  },
  {
   "cell_type": "markdown",
   "id": "c289766b-4d0c-42c7-9087-db9865a53ed8",
   "metadata": {},
   "source": [
    "### C) Parse in PG Gene Reference FASTAs for each PG output"
   ]
  },
  {
   "cell_type": "code",
   "execution_count": 95,
   "id": "6e2dd483-ef88-45ee-843a-a2de6b188b32",
   "metadata": {},
   "outputs": [
    {
     "name": "stdout",
     "output_type": "stream",
     "text": [
      "Panaroo_Strict_MP 4200\n",
      "Panaroo_Moderate_MP 4280\n",
      "Panaroo_Sens_MP 4281\n",
      "Roary_Default 5366\n",
      "Roary_NoSplitParalogs 4366\n",
      "Roary_NoSplitParalogs_I80 4252\n",
      "Roary_NoSplitParalogs_I90 4293\n",
      "SR_Panaroo_Strict_MP 4211\n",
      "SR_Panaroo_Sens_MP 4600\n",
      "SR_Roary_Default 6006\n",
      "SR_Roary_NoSplitParalogs 5025\n",
      "SR_Roary_NoSplitParalogs_I80 4866\n",
      "SR_Roary_NoSplitParalogs_I90 4956\n"
     ]
    }
   ],
   "source": [
    "\n",
    "PG_RefSeqs_DF_Dict = {}\n",
    "\n",
    "for i_Param, i_PG_Ref_FA_PATH in PG_GeneRefFA_PATH_Dict.items():\n",
    "\n",
    "    PG_RefSeqs_DF_Dict[i_Param] = parse_PG_Ref_FA(i_PG_Ref_FA_PATH)\n",
    "\n",
    "    LR_PG_Ref_IDs = list( PG_RefSeqs_DF_Dict[i_Param].keys())\n",
    "    print(i_Param, len(LR_PG_Ref_IDs))\n",
    "    "
   ]
  },
  {
   "cell_type": "markdown",
   "id": "699a57be-b567-4069-bb18-1f8b49950cbb",
   "metadata": {},
   "source": [
    "### Define functions for gene sequence classification"
   ]
  },
  {
   "cell_type": "code",
   "execution_count": 96,
   "id": "8401cb88-34d6-4422-897a-62d96774ff3b",
   "metadata": {},
   "outputs": [],
   "source": [
    "# Define function to classify a node based on a threshold\n",
    "def classify_node(row, i_listOf_JC_Cols, threshold=0.25):\n",
    "    filtered_matches = {col: row[col] for col in i_listOf_JC_Cols if row[col] >= threshold}\n",
    "    if filtered_matches:\n",
    "        max_value = max(filtered_matches.values())\n",
    "        strongest_categories = [\n",
    "            col for col, value in filtered_matches.items() if value == max_value\n",
    "        ]\n",
    "\n",
    "        if len(strongest_categories) == 1:\n",
    "            return strongest_categories[0]\n",
    "        else:\n",
    "            return tuple(strongest_categories)\n",
    "            \n",
    "    return \"None\"  # No valid matches"
   ]
  },
  {
   "cell_type": "code",
   "execution_count": null,
   "id": "8d666fa7-7282-4b38-beb5-02278336fe4e",
   "metadata": {},
   "outputs": [],
   "source": []
  },
  {
   "cell_type": "code",
   "execution_count": 97,
   "id": "2fe5ff0a-7133-41bb-b8b8-ae2d0dd5ba3d",
   "metadata": {},
   "outputs": [],
   "source": [
    "def compute_kmer_match_df(Ref_DictOf_Hashes, Ref_DictOf_SeqLen, category_hash_sets, N_AsmWiGene_Dict):\n",
    "    \"\"\"\n",
    "    Computes k-mer match Jaccard containment for genes.\n",
    "    \n",
    "    Args:\n",
    "        Ref_DictOf_Hashes (dict): Dictionary mapping GeneID to sets of k-mers (hashes).\n",
    "        Ref_DictOf_SeqLen (dict): Dictionary mapping GeneID to their sequence lengths.\n",
    "        category_hash_sets (dict): Dictionary of category names mapping to hash sets.\n",
    "        N_AsmWiGene_Dict (dict): Dictionary mapping GeneID to number of assemblies matching the gene.\n",
    "    \n",
    "    Returns:\n",
    "        pd.DataFrame: DataFrame summarizing Jaccard containment results for all genes.\n",
    "    \"\"\"\n",
    "    gene_analysis_rows = []\n",
    "\n",
    "    for GeneID, Gene_Hashes_Set in tqdm(Ref_DictOf_Hashes.items()):\n",
    "        Len_Seq = Ref_DictOf_SeqLen.get(GeneID, 0)\n",
    "        record_hashes_set = Gene_Hashes_Set\n",
    "\n",
    "        # Initialize results for Jaccard containment\n",
    "        jc_results = {}\n",
    "\n",
    "        if len(record_hashes_set) != 0:\n",
    "            # Calculate Jaccard containment for each category\n",
    "            for category, hash_set in category_hash_sets.items():\n",
    "                jc_results[category] = jaccard_containment_FromSets(record_hashes_set, hash_set)\n",
    "        else:\n",
    "            # Set all results to 0 if no hashes exist\n",
    "            jc_results = {category: 0 for category in category_hash_sets}\n",
    "            if Len_Seq < 31:\n",
    "                print(f\"No kmers were produced for segment: {GeneID}\")\n",
    "\n",
    "        # Prepare row for the DataFrame\n",
    "        row = [GeneID, Len_Seq] + list(jc_results.values())\n",
    "        gene_analysis_rows.append(row)\n",
    "\n",
    "    # Create the DataFrame\n",
    "    columns = [\"GeneID\", \"SeqLength\"] + list(category_hash_sets.keys())\n",
    "    gene_kmer_match_df = pd.DataFrame(gene_analysis_rows, columns=columns)\n",
    "\n",
    "    # Add the number of assemblies matching the gene\n",
    "    gene_kmer_match_df[\"NumAsm_WiGene\"] = gene_kmer_match_df[\"GeneID\"].map(N_AsmWiGene_Dict)\n",
    "\n",
    "    return gene_kmer_match_df"
   ]
  },
  {
   "cell_type": "code",
   "execution_count": null,
   "id": "e38341c8-a90c-456a-8eea-c0882f3ad35b",
   "metadata": {},
   "outputs": [],
   "source": []
  },
  {
   "cell_type": "code",
   "execution_count": 98,
   "id": "0bd70248-add0-4bba-84c8-d343101665ed",
   "metadata": {},
   "outputs": [],
   "source": [
    "ListOf_Rv_GeneCats = ['information pathways', 'conserved hypotheticals', 'cell wall and cell processes', 'stable RNAs', 'intermediary metabolism and respiration', 'regulatory proteins', 'virulence, detoxification, adaptation', 'insertion seqs and phages', 'lipid metabolism', 'PE/PPE', 'unknown']\n"
   ]
  },
  {
   "cell_type": "code",
   "execution_count": 99,
   "id": "33be01fc-aed6-44bf-9193-375f61626c60",
   "metadata": {},
   "outputs": [
    {
     "data": {
      "text/plain": [
       "dict_keys(['information pathways', 'conserved hypotheticals', 'cell wall and cell processes', 'stable RNAs', 'intermediary metabolism and respiration', 'regulatory proteins', 'virulence, detoxification, adaptation', 'insertion seqs and phages', 'lipid metabolism', 'PE/PPE', 'unknown'])"
      ]
     },
     "execution_count": 99,
     "metadata": {},
     "output_type": "execute_result"
    }
   ],
   "source": [
    "RvGeneCat_To_KmerHashes_Dict.keys()"
   ]
  },
  {
   "cell_type": "code",
   "execution_count": 153,
   "id": "24f5c4e8-a5fa-4f97-8fc0-b4ac639098cc",
   "metadata": {},
   "outputs": [
    {
     "data": {
      "text/plain": [
       "{'Panaroo_Strict_MP': '/n/data1/hms/dbmi/farhat/mm774/Projects/Mtb-WGA-SMK-Output/231121_MtbSetV3_151CI/PanGenome_Analysis/Panaroo_Strict_MergeParalogs_AllIsolates/pan_genome_reference.fa',\n",
       " 'Panaroo_Moderate_MP': '/n/data1/hms/dbmi/farhat/mm774/Projects/Mtb-WGA-SMK-Output/231121_MtbSetV3_151CI/PanGenome_Analysis/Panaroo_Moderate_MergeParalogs_AllIsolates/pan_genome_reference.fa',\n",
       " 'Panaroo_Sens_MP': '/n/data1/hms/dbmi/farhat/mm774/Projects/Mtb-WGA-SMK-Output/231121_MtbSetV3_151CI/PanGenome_Analysis/Panaroo_Sensitive_MergeParalogs_AllIsolates/pan_genome_reference.fa',\n",
       " 'Roary_Default': '/n/data1/hms/dbmi/farhat/mm774/Projects/Mtb-WGA-SMK-Output/231121_MtbSetV3_151CI/PanGenome_Analysis/Roary_Default_AllIsolates/pan_genome_reference.fa',\n",
       " 'Roary_NoSplitParalogs': '/n/data1/hms/dbmi/farhat/mm774/Projects/Mtb-WGA-SMK-Output/231121_MtbSetV3_151CI/PanGenome_Analysis/Roary_NoSplitParalogs_AllIsolates/pan_genome_reference.fa',\n",
       " 'Roary_NoSplitParalogs_I80': '/n/data1/hms/dbmi/farhat/mm774/Projects/Mtb-WGA-SMK-Output/231121_MtbSetV3_151CI/PanGenome_Analysis/Roary_NoSplitParalogs_I80_AllIsolates/pan_genome_reference.fa',\n",
       " 'Roary_NoSplitParalogs_I90': '/n/data1/hms/dbmi/farhat/mm774/Projects/Mtb-WGA-SMK-Output/231121_MtbSetV3_151CI/PanGenome_Analysis/Roary_NoSplitParalogs_I90_AllIsolates/pan_genome_reference.fa',\n",
       " 'SR_Panaroo_Strict_MP': '/n/data1/hms/dbmi/farhat/mm774/Projects/Mtb-WGA-SMK-Output/231121_MtbSetV3_151CI/PanGenome_Analysis/SR_Panaroo_Strict_MergeParalogs_AllIsolates/pan_genome_reference.fa',\n",
       " 'SR_Panaroo_Sens_MP': '/n/data1/hms/dbmi/farhat/mm774/Projects/Mtb-WGA-SMK-Output/231121_MtbSetV3_151CI/PanGenome_Analysis/SR_Panaroo_Sensitive_MergeParalogs_AllIsolates/pan_genome_reference.fa',\n",
       " 'SR_Roary_Default': '/n/data1/hms/dbmi/farhat/mm774/Projects/Mtb-WGA-SMK-Output/231121_MtbSetV3_151CI/PanGenome_Analysis/SR_Roary_Default_AllIsolates/pan_genome_reference.fa',\n",
       " 'SR_Roary_NoSplitParalogs': '/n/data1/hms/dbmi/farhat/mm774/Projects/Mtb-WGA-SMK-Output/231121_MtbSetV3_151CI/PanGenome_Analysis/SR_Roary_NoSplitParalogs_AllIsolates/pan_genome_reference.fa',\n",
       " 'SR_Roary_NoSplitParalogs_I80': '/n/data1/hms/dbmi/farhat/mm774/Projects/Mtb-WGA-SMK-Output/231121_MtbSetV3_151CI/PanGenome_Analysis/SR_Roary_NoSplitParalogs_I80_AllIsolates/pan_genome_reference.fa',\n",
       " 'SR_Roary_NoSplitParalogs_I90': '/n/data1/hms/dbmi/farhat/mm774/Projects/Mtb-WGA-SMK-Output/231121_MtbSetV3_151CI/PanGenome_Analysis/SR_Roary_NoSplitParalogs_I90_AllIsolates/pan_genome_reference.fa'}"
      ]
     },
     "execution_count": 153,
     "metadata": {},
     "output_type": "execute_result"
    }
   ],
   "source": [
    "PG_GeneRefFA_PATH_Dict"
   ]
  },
  {
   "cell_type": "code",
   "execution_count": 158,
   "id": "78ac4da9-48a3-4abe-a76b-feec1b1f78c4",
   "metadata": {},
   "outputs": [
    {
     "name": "stdout",
     "output_type": "stream",
     "text": [
      "Panaroo_Strict_MP\n",
      "4200\n",
      "\n",
      "Panaroo_Moderate_MP\n",
      "4280\n",
      "\n",
      "Panaroo_Sens_MP\n",
      "4281\n",
      "\n",
      "Roary_Default\n",
      "5366\n",
      "\n",
      "Roary_NoSplitParalogs\n",
      "4366\n",
      "\n",
      "Roary_NoSplitParalogs_I80\n",
      "4252\n",
      "\n",
      "Roary_NoSplitParalogs_I90\n",
      "4293\n",
      "\n",
      "SR_Panaroo_Strict_MP\n",
      "4211\n",
      "\n",
      "SR_Panaroo_Sens_MP\n",
      "4600\n",
      "\n",
      "SR_Roary_Default\n",
      "6006\n",
      "\n",
      "SR_Roary_NoSplitParalogs\n",
      "5025\n",
      "\n",
      "SR_Roary_NoSplitParalogs_I80\n",
      "4866\n",
      "\n",
      "SR_Roary_NoSplitParalogs_I90\n",
      "4956\n",
      "\n"
     ]
    }
   ],
   "source": []
  },
  {
   "cell_type": "markdown",
   "id": "0d997112-5711-4442-bd58-34194ec95879",
   "metadata": {},
   "source": [
    "## D) Perform gene-level classification"
   ]
  },
  {
   "cell_type": "code",
   "execution_count": 100,
   "id": "a8551a11-5971-4c0b-88ea-188f27a0cdac",
   "metadata": {
    "scrolled": true
   },
   "outputs": [
    {
     "name": "stderr",
     "output_type": "stream",
     "text": [
      "  0%|          | 0/13 [00:00<?, ?it/s]"
     ]
    },
    {
     "name": "stdout",
     "output_type": "stream",
     "text": [
      "Panaroo_Strict_MP\n"
     ]
    },
    {
     "name": "stderr",
     "output_type": "stream",
     "text": [
      "\n",
      "  0%|          | 0/4200 [00:00<?, ?it/s]\u001b[A\n",
      "  2%|▏         | 69/4200 [00:00<00:05, 688.80it/s]\u001b[A"
     ]
    },
    {
     "name": "stdout",
     "output_type": "stream",
     "text": [
      "4200  total records were parsed\n"
     ]
    },
    {
     "name": "stderr",
     "output_type": "stream",
     "text": [
      "\n",
      "  5%|▍         | 190/4200 [00:00<00:05, 790.67it/s]\u001b[A\n",
      "  8%|▊         | 329/4200 [00:00<00:04, 907.06it/s]\u001b[A\n",
      " 12%|█▏        | 497/4200 [00:00<00:03, 1050.19it/s]\u001b[A\n",
      " 15%|█▌        | 634/4200 [00:00<00:03, 1128.72it/s]\u001b[A\n",
      " 19%|█▊        | 779/4200 [00:00<00:02, 1207.14it/s]\u001b[A\n",
      " 21%|██▏       | 902/4200 [00:00<00:02, 1201.87it/s]\u001b[A\n",
      " 25%|██▍       | 1037/4200 [00:00<00:02, 1235.71it/s]\u001b[A\n",
      " 28%|██▊       | 1172/4200 [00:00<00:02, 1267.61it/s]\u001b[A\n",
      " 32%|███▏      | 1324/4200 [00:01<00:02, 1333.32it/s]\u001b[A\n",
      " 35%|███▍      | 1460/4200 [00:01<00:02, 1339.59it/s]\u001b[A\n",
      " 38%|███▊      | 1596/4200 [00:01<00:02, 1295.10it/s]\u001b[A\n",
      " 41%|████      | 1727/4200 [00:01<00:01, 1246.01it/s]\u001b[A\n",
      " 45%|████▍     | 1882/4200 [00:01<00:01, 1323.57it/s]\u001b[A\n",
      " 48%|████▊     | 2017/4200 [00:01<00:01, 1285.59it/s]\u001b[A\n",
      " 51%|█████▏    | 2158/4200 [00:01<00:01, 1320.13it/s]\u001b[A\n",
      " 55%|█████▍    | 2299/4200 [00:01<00:01, 1344.48it/s]\u001b[A\n",
      " 58%|█████▊    | 2440/4200 [00:01<00:01, 1362.24it/s]\u001b[A\n",
      " 61%|██████▏   | 2578/4200 [00:01<00:01, 1351.11it/s]\u001b[A\n",
      " 66%|██████▌   | 2782/4200 [00:02<00:00, 1500.47it/s]\u001b[A\n",
      " 70%|██████▉   | 2938/4200 [00:02<00:00, 1431.40it/s]\u001b[A\n",
      " 74%|███████▎  | 3089/4200 [00:02<00:00, 1452.70it/s]\u001b[A\n",
      " 77%|███████▋  | 3238/4200 [00:02<00:00, 1409.23it/s]\u001b[A\n",
      " 81%|████████  | 3382/4200 [00:02<00:00, 1352.19it/s]\u001b[A\n",
      " 84%|████████▍ | 3520/4200 [00:02<00:00, 800.14it/s] \u001b[A\n",
      " 86%|████████▋ | 3629/4200 [00:02<00:00, 846.34it/s]\u001b[A\n",
      " 89%|████████▉ | 3735/4200 [00:03<00:00, 798.73it/s]\u001b[A\n",
      " 91%|█████████ | 3830/4200 [00:03<00:00, 819.41it/s]\u001b[A\n",
      " 93%|█████████▎| 3923/4200 [00:03<00:00, 817.56it/s]\u001b[A\n",
      " 96%|█████████▌| 4013/4200 [00:03<00:00, 835.52it/s]\u001b[A\n",
      " 98%|█████████▊| 4102/4200 [00:03<00:00, 840.06it/s]\u001b[A\n",
      "100%|█████████▉| 4190/4200 [00:03<00:00, 816.42it/s]\u001b[A\n",
      "100%|██████████| 4200/4200 [00:03<00:00, 1145.52it/s]\u001b[A\n",
      "  0%|          | 0/4200 [00:00<?, ?it/s]\u001b[A\n",
      "  1%|          | 31/4200 [00:00<00:13, 304.73it/s]\u001b[A\n",
      "  2%|▏         | 63/4200 [00:00<00:13, 303.86it/s]\u001b[A\n",
      "  2%|▏         | 92/4200 [00:00<00:13, 296.33it/s]\u001b[A\n",
      "  3%|▎         | 122/4200 [00:00<00:13, 295.64it/s]\u001b[A\n",
      "  4%|▎         | 149/4200 [00:00<00:14, 284.58it/s]\u001b[A\n",
      "  4%|▍         | 178/4200 [00:00<00:14, 284.29it/s]\u001b[A\n",
      "  5%|▍         | 207/4200 [00:00<00:14, 284.50it/s]\u001b[A\n",
      "  6%|▌         | 236/4200 [00:00<00:13, 284.64it/s]\u001b[A\n",
      "  6%|▋         | 263/4200 [00:00<00:14, 279.26it/s]\u001b[A\n",
      "  7%|▋         | 291/4200 [00:01<00:14, 277.53it/s]\u001b[A\n",
      "  8%|▊         | 322/4200 [00:01<00:13, 284.18it/s]\u001b[A\n",
      "  8%|▊         | 351/4200 [00:01<00:13, 285.13it/s]\u001b[A\n",
      "  9%|▉         | 380/4200 [00:01<00:13, 284.91it/s]\u001b[A\n",
      " 10%|▉         | 415/4200 [00:01<00:12, 301.07it/s]\u001b[A\n",
      " 11%|█         | 449/4200 [00:01<00:12, 310.53it/s]\u001b[A\n",
      " 11%|█▏        | 481/4200 [00:01<00:12, 305.23it/s]\u001b[A\n",
      " 12%|█▏        | 514/4200 [00:01<00:11, 312.21it/s]\u001b[A\n",
      " 13%|█▎        | 546/4200 [00:01<00:11, 307.55it/s]\u001b[A\n",
      " 14%|█▎        | 577/4200 [00:01<00:12, 299.42it/s]\u001b[A\n",
      " 14%|█▍        | 608/4200 [00:02<00:12, 296.77it/s]\u001b[A\n",
      " 15%|█▌        | 638/4200 [00:02<00:12, 290.16it/s]\u001b[A\n",
      " 16%|█▌        | 668/4200 [00:02<00:12, 279.29it/s]\u001b[A\n",
      " 17%|█▋        | 697/4200 [00:02<00:12, 273.99it/s]\u001b[A\n",
      " 17%|█▋        | 730/4200 [00:02<00:12, 285.60it/s]\u001b[A\n",
      " 18%|█▊        | 763/4200 [00:02<00:11, 295.40it/s]\u001b[A\n",
      " 19%|█▉        | 793/4200 [00:02<00:11, 291.69it/s]\u001b[A\n",
      " 20%|█▉        | 823/4200 [00:02<00:12, 280.29it/s]\u001b[A\n",
      " 20%|██        | 852/4200 [00:02<00:12, 278.66it/s]\u001b[A\n",
      " 21%|██        | 881/4200 [00:03<00:12, 274.80it/s]\u001b[A\n",
      " 22%|██▏       | 909/4200 [00:03<00:12, 273.29it/s]\u001b[A\n",
      " 22%|██▏       | 938/4200 [00:03<00:11, 276.77it/s]\u001b[A\n",
      " 23%|██▎       | 966/4200 [00:03<00:11, 275.13it/s]\u001b[A\n",
      " 24%|██▎       | 994/4200 [00:03<00:11, 275.75it/s]\u001b[A\n",
      " 24%|██▍       | 1022/4200 [00:03<00:11, 273.77it/s]\u001b[A\n",
      " 25%|██▌       | 1052/4200 [00:03<00:11, 278.12it/s]\u001b[A\n",
      " 26%|██▌       | 1081/4200 [00:03<00:11, 280.10it/s]\u001b[A\n",
      " 26%|██▋       | 1110/4200 [00:03<00:11, 275.26it/s]\u001b[A\n",
      " 27%|██▋       | 1138/4200 [00:03<00:11, 271.28it/s]\u001b[A\n",
      " 28%|██▊       | 1166/4200 [00:04<00:11, 271.76it/s]\u001b[A\n",
      " 28%|██▊       | 1196/4200 [00:04<00:10, 277.36it/s]\u001b[A\n",
      " 29%|██▉       | 1224/4200 [00:04<00:11, 269.83it/s]\u001b[A\n",
      " 30%|██▉       | 1253/4200 [00:04<00:10, 274.36it/s]\u001b[A\n",
      " 31%|███       | 1285/4200 [00:04<00:10, 285.93it/s]\u001b[A\n",
      " 32%|███▏      | 1325/4200 [00:04<00:09, 312.06it/s]\u001b[A\n",
      " 32%|███▏      | 1358/4200 [00:04<00:09, 310.65it/s]\u001b[A\n",
      " 33%|███▎      | 1390/4200 [00:04<00:09, 309.83it/s]\u001b[A\n",
      " 34%|███▍      | 1422/4200 [00:04<00:09, 300.92it/s]\u001b[A\n",
      " 35%|███▍      | 1453/4200 [00:05<00:09, 292.69it/s]\u001b[A\n",
      " 35%|███▌      | 1483/4200 [00:05<00:09, 278.45it/s]\u001b[A\n",
      " 36%|███▌      | 1512/4200 [00:05<00:09, 279.12it/s]\u001b[A\n",
      " 37%|███▋      | 1543/4200 [00:05<00:09, 286.75it/s]\u001b[A\n",
      " 37%|███▋      | 1572/4200 [00:05<00:09, 282.38it/s]\u001b[A\n",
      " 38%|███▊      | 1601/4200 [00:05<00:09, 272.94it/s]\u001b[A\n",
      " 39%|███▉      | 1629/4200 [00:05<00:09, 272.70it/s]\u001b[A\n",
      " 39%|███▉      | 1657/4200 [00:05<00:09, 269.93it/s]\u001b[A\n",
      " 40%|████      | 1688/4200 [00:05<00:08, 280.04it/s]\u001b[A\n",
      " 41%|████      | 1717/4200 [00:06<00:09, 273.30it/s]\u001b[A\n",
      " 42%|████▏     | 1747/4200 [00:06<00:08, 279.80it/s]\u001b[A\n",
      " 42%|████▏     | 1776/4200 [00:06<00:08, 282.00it/s]\u001b[A\n",
      " 43%|████▎     | 1805/4200 [00:06<00:08, 277.77it/s]\u001b[A\n",
      " 44%|████▎     | 1836/4200 [00:06<00:08, 285.77it/s]\u001b[A\n",
      " 44%|████▍     | 1866/4200 [00:06<00:08, 288.49it/s]\u001b[A\n",
      " 45%|████▌     | 1895/4200 [00:06<00:08, 287.44it/s]\u001b[A\n",
      " 46%|████▌     | 1924/4200 [00:06<00:08, 279.28it/s]\u001b[A\n",
      " 46%|████▋     | 1953/4200 [00:06<00:08, 267.02it/s]\u001b[A\n",
      " 47%|████▋     | 1980/4200 [00:06<00:08, 263.42it/s]\u001b[A\n",
      " 48%|████▊     | 2007/4200 [00:07<00:08, 262.50it/s]\u001b[A\n",
      " 48%|████▊     | 2037/4200 [00:07<00:07, 272.53it/s]\u001b[A\n",
      " 49%|████▉     | 2068/4200 [00:07<00:07, 282.46it/s]\u001b[A\n",
      " 50%|████▉     | 2098/4200 [00:07<00:07, 284.42it/s]\u001b[A\n",
      " 51%|█████     | 2129/4200 [00:07<00:07, 291.55it/s]\u001b[A\n",
      " 51%|█████▏    | 2159/4200 [00:07<00:07, 285.59it/s]\u001b[A\n",
      " 52%|█████▏    | 2188/4200 [00:07<00:07, 282.36it/s]\u001b[A\n",
      " 53%|█████▎    | 2217/4200 [00:07<00:07, 278.00it/s]\u001b[A\n",
      " 54%|█████▎    | 2252/4200 [00:07<00:06, 293.86it/s]\u001b[A\n",
      " 54%|█████▍    | 2283/4200 [00:07<00:06, 297.33it/s]\u001b[A\n",
      " 55%|█████▌    | 2315/4200 [00:08<00:06, 300.33it/s]\u001b[A\n",
      " 56%|█████▌    | 2346/4200 [00:08<00:06, 289.06it/s]\u001b[A\n",
      " 57%|█████▋    | 2376/4200 [00:08<00:06, 280.11it/s]\u001b[A\n",
      " 57%|█████▋    | 2406/4200 [00:08<00:06, 283.42it/s]\u001b[A\n",
      " 58%|█████▊    | 2436/4200 [00:08<00:06, 287.73it/s]\u001b[A\n",
      " 59%|█████▊    | 2466/4200 [00:08<00:06, 288.56it/s]\u001b[A\n",
      " 59%|█████▉    | 2497/4200 [00:08<00:05, 294.38it/s]\u001b[A\n",
      " 60%|██████    | 2527/4200 [00:08<00:05, 285.74it/s]\u001b[A\n",
      " 61%|██████    | 2556/4200 [00:08<00:05, 281.29it/s]\u001b[A\n",
      " 62%|██████▏   | 2588/4200 [00:09<00:05, 290.09it/s]\u001b[A\n",
      " 62%|██████▏   | 2621/4200 [00:09<00:05, 300.15it/s]\u001b[A\n",
      " 64%|██████▎   | 2670/4200 [00:09<00:04, 339.42it/s]\u001b[A\n",
      " 65%|██████▍   | 2715/4200 [00:09<00:04, 364.13it/s]\u001b[A\n",
      " 66%|██████▌   | 2758/4200 [00:09<00:03, 380.38it/s]\u001b[A\n",
      " 67%|██████▋   | 2798/4200 [00:09<00:04, 339.01it/s]\u001b[A\n",
      " 67%|██████▋   | 2834/4200 [00:09<00:04, 316.18it/s]\u001b[A\n",
      " 68%|██████▊   | 2868/4200 [00:09<00:04, 299.92it/s]\u001b[A\n",
      " 69%|██████▉   | 2900/4200 [00:09<00:04, 298.60it/s]\u001b[A\n",
      " 70%|██████▉   | 2931/4200 [00:10<00:04, 293.45it/s]\u001b[A\n",
      " 71%|███████   | 2962/4200 [00:10<00:04, 291.81it/s]\u001b[A\n",
      " 71%|███████   | 2992/4200 [00:10<00:04, 289.91it/s]\u001b[A\n",
      " 72%|███████▏  | 3022/4200 [00:10<00:04, 288.97it/s]\u001b[A\n",
      " 73%|███████▎  | 3052/4200 [00:10<00:03, 287.49it/s]\u001b[A\n",
      " 73%|███████▎  | 3081/4200 [00:10<00:03, 280.89it/s]\u001b[A\n",
      " 74%|███████▍  | 3110/4200 [00:10<00:03, 280.12it/s]\u001b[A\n",
      " 75%|███████▍  | 3139/4200 [00:10<00:03, 275.29it/s]\u001b[A\n",
      " 75%|███████▌  | 3168/4200 [00:10<00:03, 278.24it/s]\u001b[A\n",
      " 76%|███████▌  | 3196/4200 [00:11<00:03, 273.31it/s]\u001b[A\n",
      " 77%|███████▋  | 3226/4200 [00:11<00:03, 278.19it/s]\u001b[A\n",
      " 77%|███████▋  | 3254/4200 [00:11<00:03, 275.37it/s]\u001b[A\n",
      " 78%|███████▊  | 3282/4200 [00:11<00:03, 276.18it/s]\u001b[A\n",
      " 79%|███████▉  | 3310/4200 [00:11<00:03, 266.37it/s]\u001b[A\n",
      " 79%|███████▉  | 3337/4200 [00:11<00:03, 262.76it/s]\u001b[A\n",
      " 80%|████████  | 3364/4200 [00:11<00:03, 264.79it/s]\u001b[A\n",
      " 81%|████████  | 3391/4200 [00:11<00:03, 259.07it/s]\u001b[A\n",
      " 81%|████████▏ | 3417/4200 [00:11<00:03, 257.25it/s]\u001b[A\n",
      " 82%|████████▏ | 3443/4200 [00:11<00:02, 256.66it/s]\u001b[A\n",
      " 83%|████████▎ | 3469/4200 [00:12<00:02, 256.58it/s]\u001b[A\n",
      " 83%|████████▎ | 3495/4200 [00:12<00:02, 252.87it/s]\u001b[A\n",
      " 84%|████████▍ | 3523/4200 [00:12<00:02, 258.21it/s]\u001b[A\n",
      " 84%|████████▍ | 3549/4200 [00:12<00:02, 257.79it/s]\u001b[A\n",
      " 85%|████████▌ | 3577/4200 [00:12<00:02, 261.77it/s]\u001b[A\n",
      " 86%|████████▌ | 3604/4200 [00:12<00:02, 252.42it/s]\u001b[A\n",
      " 86%|████████▋ | 3630/4200 [00:12<00:02, 250.83it/s]\u001b[A\n",
      " 87%|████████▋ | 3656/4200 [00:12<00:02, 253.09it/s]\u001b[A\n",
      " 88%|████████▊ | 3682/4200 [00:12<00:02, 245.72it/s]\u001b[A\n",
      " 88%|████████▊ | 3707/4200 [00:13<00:02, 219.98it/s]\u001b[A\n",
      " 89%|████████▉ | 3730/4200 [00:13<00:02, 215.82it/s]\u001b[A\n",
      " 89%|████████▉ | 3752/4200 [00:13<00:02, 214.15it/s]\u001b[A\n",
      " 90%|████████▉ | 3774/4200 [00:13<00:01, 214.51it/s]\u001b[A\n",
      " 90%|█████████ | 3797/4200 [00:13<00:01, 217.79it/s]\u001b[A\n",
      " 91%|█████████ | 3819/4200 [00:13<00:01, 217.58it/s]\u001b[A\n",
      " 92%|█████████▏| 3843/4200 [00:13<00:01, 223.36it/s]\u001b[A\n",
      " 92%|█████████▏| 3868/4200 [00:13<00:01, 228.24it/s]\u001b[A\n",
      " 93%|█████████▎| 3891/4200 [00:13<00:01, 222.24it/s]\u001b[A\n",
      " 93%|█████████▎| 3914/4200 [00:14<00:01, 222.22it/s]\u001b[A\n",
      " 94%|█████████▍| 3943/4200 [00:14<00:01, 236.53it/s]\u001b[A\n",
      " 94%|█████████▍| 3968/4200 [00:14<00:00, 238.52it/s]\u001b[A\n",
      " 95%|█████████▌| 3993/4200 [00:14<00:00, 238.56it/s]\u001b[A\n",
      " 96%|█████████▌| 4019/4200 [00:14<00:00, 243.20it/s]\u001b[A\n",
      " 96%|█████████▋| 4044/4200 [00:14<00:00, 236.91it/s]\u001b[A\n",
      " 97%|█████████▋| 4068/4200 [00:14<00:00, 237.18it/s]\u001b[A\n",
      " 97%|█████████▋| 4092/4200 [00:14<00:00, 236.49it/s]\u001b[A\n",
      " 98%|█████████▊| 4119/4200 [00:14<00:00, 245.04it/s]\u001b[A\n",
      " 99%|█████████▊| 4144/4200 [00:14<00:00, 226.59it/s]\u001b[A\n",
      " 99%|█████████▉| 4168/4200 [00:15<00:00, 218.55it/s]\u001b[A\n",
      "100%|█████████▉| 4196/4200 [00:15<00:00, 233.79it/s]\u001b[A\n",
      "  8%|▊         | 1/13 [00:48<09:44, 48.72s/it]2it/s]\u001b[A"
     ]
    },
    {
     "name": "stdout",
     "output_type": "stream",
     "text": [
      "\n",
      "\n",
      "\n",
      "Panaroo_Moderate_MP\n",
      "4280  total records were parsed\n"
     ]
    },
    {
     "name": "stderr",
     "output_type": "stream",
     "text": [
      "\n",
      "  0%|          | 0/4280 [00:00<?, ?it/s]\u001b[A\n",
      "  2%|▏         | 98/4280 [00:00<00:04, 979.93it/s]\u001b[A\n",
      "  6%|▌         | 238/4280 [00:00<00:03, 1076.77it/s]\u001b[A\n",
      "  9%|▉         | 393/4280 [00:00<00:03, 1184.15it/s]\u001b[A\n",
      " 13%|█▎        | 577/4280 [00:00<00:02, 1323.04it/s]\u001b[A\n",
      " 17%|█▋        | 717/4280 [00:00<00:02, 1344.44it/s]\u001b[A\n",
      " 20%|██        | 869/4280 [00:00<00:02, 1389.97it/s]\u001b[A\n",
      " 24%|██▎       | 1013/4280 [00:00<00:02, 1402.67it/s]\u001b[A\n",
      " 27%|██▋       | 1158/4280 [00:00<00:02, 1414.89it/s]\u001b[A\n",
      " 31%|███▏      | 1341/4280 [00:00<00:01, 1514.18it/s]\u001b[A\n",
      " 35%|███▍      | 1493/4280 [00:01<00:01, 1513.88it/s]\u001b[A\n",
      " 38%|███▊      | 1645/4280 [00:01<00:01, 1482.23it/s]\u001b[A\n",
      " 42%|████▏     | 1803/4280 [00:01<00:01, 1506.35it/s]\u001b[A\n",
      " 46%|████▌     | 1954/4280 [00:01<00:01, 1499.85it/s]\u001b[A\n",
      " 49%|████▉     | 2108/4280 [00:01<00:01, 1510.13it/s]\u001b[A\n",
      " 53%|█████▎    | 2260/4280 [00:01<00:01, 1512.01it/s]\u001b[A\n",
      " 56%|█████▋    | 2418/4280 [00:01<00:01, 1530.54it/s]\u001b[A\n",
      " 60%|██████    | 2572/4280 [00:01<00:01, 1517.47it/s]\u001b[A\n",
      " 66%|██████▋   | 2844/4280 [00:01<00:00, 1746.71it/s]\u001b[A\n",
      " 71%|███████   | 3032/4280 [00:01<00:00, 1622.48it/s]\u001b[A\n",
      " 75%|███████▍  | 3205/4280 [00:02<00:00, 1616.13it/s]\u001b[A\n",
      " 79%|███████▉  | 3375/4280 [00:02<00:00, 1589.10it/s]\u001b[A\n",
      " 83%|████████▎ | 3540/4280 [00:02<00:00, 1499.83it/s]\u001b[A\n",
      " 86%|████████▋ | 3695/4280 [00:02<00:00, 1380.21it/s]\u001b[A\n",
      " 90%|████████▉ | 3839/4280 [00:02<00:00, 1146.50it/s]\u001b[A\n",
      " 93%|█████████▎| 3964/4280 [00:02<00:00, 1109.54it/s]\u001b[A\n",
      " 95%|█████████▌| 4083/4280 [00:02<00:00, 1022.68it/s]\u001b[A\n",
      " 98%|█████████▊| 4192/4280 [00:02<00:00, 1006.20it/s]\u001b[A\n",
      "100%|██████████| 4280/4280 [00:03<00:00, 1369.84it/s]\u001b[A\n",
      "  0%|          | 0/4280 [00:00<?, ?it/s]\u001b[A\n",
      "  1%|          | 24/4280 [00:00<00:18, 235.55it/s]\u001b[A\n",
      "  1%|▏         | 56/4280 [00:00<00:16, 255.01it/s]\u001b[A\n",
      "  2%|▏         | 82/4280 [00:00<00:16, 254.09it/s]\u001b[A\n",
      "  3%|▎         | 111/4280 [00:00<00:15, 263.30it/s]\u001b[A\n",
      "  3%|▎         | 138/4280 [00:00<00:15, 262.75it/s]\u001b[A\n",
      "  4%|▍         | 166/4280 [00:00<00:15, 266.79it/s]\u001b[A\n",
      "  4%|▍         | 192/4280 [00:00<00:15, 263.61it/s]\u001b[A\n",
      "  5%|▌         | 222/4280 [00:00<00:14, 273.34it/s]\u001b[A\n",
      "  6%|▌         | 249/4280 [00:00<00:14, 269.81it/s]\u001b[A\n",
      "  6%|▋         | 276/4280 [00:01<00:14, 267.92it/s]\u001b[A\n",
      "  7%|▋         | 305/4280 [00:01<00:14, 271.36it/s]\u001b[A\n",
      "  8%|▊         | 333/4280 [00:01<00:14, 272.23it/s]\u001b[A\n",
      "  8%|▊         | 362/4280 [00:01<00:14, 276.24it/s]\u001b[A\n",
      "  9%|▉         | 392/4280 [00:01<00:13, 281.37it/s]\u001b[A\n",
      " 10%|▉         | 423/4280 [00:01<00:13, 288.17it/s]\u001b[A\n",
      " 11%|█         | 456/4280 [00:01<00:12, 298.44it/s]\u001b[A\n",
      " 11%|█▏        | 488/4280 [00:01<00:12, 303.65it/s]\u001b[A\n",
      " 12%|█▏        | 520/4280 [00:01<00:12, 307.80it/s]\u001b[A\n",
      " 13%|█▎        | 551/4280 [00:01<00:12, 301.40it/s]\u001b[A\n",
      " 14%|█▎        | 582/4280 [00:02<00:12, 293.64it/s]\u001b[A\n",
      " 14%|█▍        | 612/4280 [00:02<00:12, 289.40it/s]\u001b[A\n",
      " 15%|█▌        | 642/4280 [00:02<00:12, 282.55it/s]\u001b[A\n",
      " 16%|█▌        | 671/4280 [00:02<00:13, 275.67it/s]\u001b[A\n",
      " 16%|█▋        | 699/4280 [00:02<00:13, 269.61it/s]\u001b[A\n",
      " 17%|█▋        | 732/4280 [00:02<00:12, 283.64it/s]\u001b[A\n",
      " 18%|█▊        | 765/4280 [00:02<00:11, 295.49it/s]\u001b[A\n",
      " 19%|█▊        | 795/4280 [00:02<00:11, 291.46it/s]\u001b[A\n",
      " 19%|█▉        | 825/4280 [00:02<00:12, 283.01it/s]\u001b[A\n",
      " 20%|█▉        | 854/4280 [00:03<00:12, 279.98it/s]\u001b[A\n",
      " 21%|██        | 883/4280 [00:03<00:12, 270.19it/s]\u001b[A\n",
      " 21%|██▏       | 911/4280 [00:03<00:12, 265.14it/s]\u001b[A\n",
      " 22%|██▏       | 938/4280 [00:03<00:12, 266.15it/s]\u001b[A\n",
      " 23%|██▎       | 965/4280 [00:03<00:12, 259.27it/s]\u001b[A\n",
      " 23%|██▎       | 992/4280 [00:03<00:12, 262.00it/s]\u001b[A\n",
      " 24%|██▍       | 1019/4280 [00:03<00:12, 260.12it/s]\u001b[A\n",
      " 24%|██▍       | 1047/4280 [00:03<00:12, 264.18it/s]\u001b[A\n",
      " 25%|██▌       | 1076/4280 [00:03<00:11, 269.51it/s]\u001b[A\n",
      " 26%|██▌       | 1104/4280 [00:03<00:12, 263.04it/s]\u001b[A\n",
      " 26%|██▋       | 1131/4280 [00:04<00:12, 258.91it/s]\u001b[A\n",
      " 27%|██▋       | 1158/4280 [00:04<00:11, 260.39it/s]\u001b[A\n",
      " 28%|██▊       | 1191/4280 [00:04<00:11, 275.33it/s]\u001b[A\n",
      " 28%|██▊       | 1219/4280 [00:04<00:11, 272.86it/s]\u001b[A\n",
      " 29%|██▉       | 1247/4280 [00:04<00:11, 272.59it/s]\u001b[A\n",
      " 30%|██▉       | 1280/4280 [00:04<00:10, 286.65it/s]\u001b[A\n",
      " 31%|███       | 1324/4280 [00:04<00:09, 319.50it/s]\u001b[A\n",
      " 32%|███▏      | 1358/4280 [00:04<00:09, 317.31it/s]\u001b[A\n",
      " 33%|███▎      | 1392/4280 [00:04<00:09, 320.07it/s]\u001b[A\n",
      " 33%|███▎      | 1425/4280 [00:05<00:09, 308.86it/s]\u001b[A\n",
      " 34%|███▍      | 1457/4280 [00:05<00:09, 296.83it/s]\u001b[A\n",
      " 35%|███▍      | 1488/4280 [00:05<00:09, 280.95it/s]\u001b[A\n",
      " 35%|███▌      | 1519/4280 [00:05<00:09, 287.18it/s]\u001b[A\n",
      " 36%|███▌      | 1549/4280 [00:05<00:09, 285.62it/s]\u001b[A\n",
      " 37%|███▋      | 1578/4280 [00:05<00:09, 274.28it/s]\u001b[A\n",
      " 38%|███▊      | 1606/4280 [00:05<00:09, 269.93it/s]\u001b[A\n",
      " 38%|███▊      | 1634/4280 [00:05<00:10, 264.11it/s]\u001b[A\n",
      " 39%|███▉      | 1661/4280 [00:05<00:09, 263.20it/s]\u001b[A\n",
      " 40%|███▉      | 1694/4280 [00:06<00:09, 277.63it/s]\u001b[A\n",
      " 40%|████      | 1723/4280 [00:06<00:09, 268.58it/s]\u001b[A\n",
      " 41%|████      | 1756/4280 [00:06<00:08, 283.22it/s]\u001b[A\n",
      " 42%|████▏     | 1786/4280 [00:06<00:08, 287.80it/s]\u001b[A\n",
      " 42%|████▏     | 1816/4280 [00:06<00:08, 287.40it/s]\u001b[A\n",
      " 43%|████▎     | 1848/4280 [00:06<00:08, 294.42it/s]\u001b[A\n",
      " 44%|████▍     | 1880/4280 [00:06<00:07, 300.93it/s]\u001b[A\n",
      " 45%|████▍     | 1911/4280 [00:06<00:07, 299.62it/s]\u001b[A\n",
      " 45%|████▌     | 1942/4280 [00:06<00:08, 280.67it/s]\u001b[A\n",
      " 46%|████▌     | 1971/4280 [00:06<00:08, 275.85it/s]\u001b[A\n",
      " 47%|████▋     | 1999/4280 [00:07<00:08, 270.51it/s]\u001b[A\n",
      " 47%|████▋     | 2027/4280 [00:07<00:08, 272.20it/s]\u001b[A\n",
      " 48%|████▊     | 2057/4280 [00:07<00:07, 279.49it/s]\u001b[A\n",
      " 49%|████▊     | 2086/4280 [00:07<00:08, 273.42it/s]\u001b[A\n",
      " 49%|████▉     | 2117/4280 [00:07<00:07, 281.82it/s]\u001b[A\n",
      " 50%|█████     | 2149/4280 [00:07<00:07, 290.63it/s]\u001b[A\n",
      " 51%|█████     | 2179/4280 [00:07<00:07, 286.65it/s]\u001b[A\n",
      " 52%|█████▏    | 2208/4280 [00:07<00:07, 278.39it/s]\u001b[A\n",
      " 52%|█████▏    | 2242/4280 [00:07<00:06, 293.91it/s]\u001b[A\n",
      " 53%|█████▎    | 2272/4280 [00:08<00:06, 295.20it/s]\u001b[A\n",
      " 54%|█████▍    | 2304/4280 [00:08<00:06, 302.10it/s]\u001b[A\n",
      " 55%|█████▍    | 2335/4280 [00:08<00:06, 293.55it/s]\u001b[A\n",
      " 55%|█████▌    | 2365/4280 [00:08<00:06, 284.15it/s]\u001b[A\n",
      " 56%|█████▌    | 2394/4280 [00:08<00:06, 279.09it/s]\u001b[A\n",
      " 57%|█████▋    | 2424/4280 [00:08<00:06, 282.46it/s]\u001b[A\n",
      " 57%|█████▋    | 2454/4280 [00:08<00:06, 285.04it/s]\u001b[A\n",
      " 58%|█████▊    | 2483/4280 [00:08<00:06, 279.59it/s]\u001b[A\n",
      " 59%|█████▉    | 2516/4280 [00:08<00:06, 290.79it/s]\u001b[A\n",
      " 59%|█████▉    | 2546/4280 [00:09<00:06, 275.09it/s]\u001b[A\n",
      " 60%|██████    | 2574/4280 [00:09<00:06, 276.44it/s]\u001b[A\n",
      " 61%|██████    | 2602/4280 [00:09<00:06, 276.65it/s]\u001b[A\n",
      " 62%|██████▏   | 2650/4280 [00:09<00:05, 316.65it/s]\u001b[A\n",
      " 63%|██████▎   | 2693/4280 [00:09<00:04, 343.29it/s]\u001b[A\n",
      " 64%|██████▍   | 2740/4280 [00:09<00:04, 372.64it/s]\u001b[A\n",
      " 65%|██████▌   | 2789/4280 [00:09<00:03, 400.81it/s]\u001b[A\n",
      " 66%|██████▌   | 2832/4280 [00:09<00:03, 400.07it/s]\u001b[A\n",
      " 67%|██████▋   | 2874/4280 [00:09<00:04, 346.59it/s]\u001b[A\n",
      " 68%|██████▊   | 2911/4280 [00:10<00:04, 317.03it/s]\u001b[A\n",
      " 69%|██████▉   | 2945/4280 [00:10<00:04, 302.83it/s]\u001b[A\n",
      " 70%|██████▉   | 2977/4280 [00:10<00:04, 294.63it/s]\u001b[A\n",
      " 70%|███████   | 3008/4280 [00:10<00:04, 287.50it/s]\u001b[A\n",
      " 71%|███████   | 3038/4280 [00:10<00:04, 287.12it/s]\u001b[A\n",
      " 72%|███████▏  | 3068/4280 [00:10<00:04, 281.20it/s]\u001b[A\n",
      " 72%|███████▏  | 3097/4280 [00:10<00:04, 274.44it/s]\u001b[A\n",
      " 73%|███████▎  | 3126/4280 [00:10<00:04, 278.29it/s]\u001b[A\n",
      " 74%|███████▎  | 3155/4280 [00:10<00:04, 272.05it/s]\u001b[A\n",
      " 74%|███████▍  | 3183/4280 [00:11<00:04, 268.81it/s]\u001b[A\n",
      " 75%|███████▌  | 3211/4280 [00:11<00:04, 262.41it/s]\u001b[A\n",
      " 76%|███████▌  | 3238/4280 [00:11<00:03, 263.88it/s]\u001b[A\n",
      " 76%|███████▋  | 3265/4280 [00:11<00:03, 262.44it/s]\u001b[A\n",
      " 77%|███████▋  | 3293/4280 [00:11<00:03, 264.40it/s]\u001b[A\n",
      " 78%|███████▊  | 3320/4280 [00:11<00:03, 262.11it/s]\u001b[A\n",
      " 78%|███████▊  | 3349/4280 [00:11<00:03, 267.67it/s]\u001b[A\n",
      " 79%|███████▉  | 3376/4280 [00:11<00:04, 214.91it/s]\u001b[A\n",
      " 79%|███████▉  | 3401/4280 [00:11<00:03, 223.61it/s]\u001b[A\n",
      " 80%|████████  | 3426/4280 [00:12<00:03, 230.79it/s]\u001b[A\n",
      " 81%|████████  | 3451/4280 [00:12<00:03, 235.66it/s]\u001b[A\n",
      " 81%|████████  | 3476/4280 [00:12<00:03, 237.37it/s]\u001b[A\n",
      " 82%|████████▏ | 3504/4280 [00:12<00:03, 247.03it/s]\u001b[A\n",
      " 82%|████████▏ | 3530/4280 [00:12<00:03, 246.52it/s]\u001b[A\n",
      " 83%|████████▎ | 3556/4280 [00:12<00:02, 248.79it/s]\u001b[A\n",
      " 84%|████████▍ | 3585/4280 [00:12<00:02, 258.41it/s]\u001b[A\n",
      " 84%|████████▍ | 3612/4280 [00:12<00:02, 258.97it/s]\u001b[A\n",
      " 85%|████████▌ | 3639/4280 [00:12<00:02, 261.52it/s]\u001b[A\n",
      " 86%|████████▌ | 3666/4280 [00:12<00:02, 257.94it/s]\u001b[A\n",
      " 86%|████████▋ | 3692/4280 [00:13<00:02, 254.70it/s]\u001b[A\n",
      " 87%|████████▋ | 3718/4280 [00:13<00:02, 253.36it/s]\u001b[A\n",
      " 87%|████████▋ | 3744/4280 [00:13<00:02, 254.74it/s]\u001b[A\n",
      " 88%|████████▊ | 3770/4280 [00:13<00:02, 232.93it/s]\u001b[A\n",
      " 89%|████████▊ | 3794/4280 [00:13<00:02, 223.91it/s]\u001b[A\n",
      " 89%|████████▉ | 3817/4280 [00:13<00:02, 224.88it/s]\u001b[A\n",
      " 90%|████████▉ | 3840/4280 [00:13<00:01, 222.00it/s]\u001b[A\n",
      " 90%|█████████ | 3863/4280 [00:13<00:01, 218.25it/s]\u001b[A\n",
      " 91%|█████████ | 3886/4280 [00:13<00:01, 219.86it/s]\u001b[A\n",
      " 91%|█████████▏| 3910/4280 [00:14<00:01, 223.18it/s]\u001b[A\n",
      " 92%|█████████▏| 3934/4280 [00:14<00:01, 223.92it/s]\u001b[A\n",
      " 92%|█████████▏| 3957/4280 [00:14<00:01, 219.81it/s]\u001b[A\n",
      " 93%|█████████▎| 3980/4280 [00:14<00:01, 217.05it/s]\u001b[A\n",
      " 94%|█████████▎| 4005/4280 [00:14<00:01, 225.21it/s]\u001b[A\n",
      " 94%|█████████▍| 4029/4280 [00:14<00:01, 228.04it/s]\u001b[A\n",
      " 95%|█████████▍| 4053/4280 [00:14<00:00, 230.54it/s]\u001b[A\n",
      " 95%|█████████▌| 4077/4280 [00:14<00:00, 226.68it/s]\u001b[A\n",
      " 96%|█████████▌| 4103/4280 [00:14<00:00, 233.29it/s]\u001b[A\n",
      " 96%|█████████▋| 4127/4280 [00:15<00:00, 228.37it/s]\u001b[A\n",
      " 97%|█████████▋| 4150/4280 [00:15<00:00, 227.10it/s]\u001b[A\n",
      " 98%|█████████▊| 4174/4280 [00:15<00:00, 229.77it/s]\u001b[A\n",
      " 98%|█████████▊| 4200/4280 [00:15<00:00, 236.37it/s]\u001b[A\n",
      " 99%|█████████▊| 4224/4280 [00:15<00:00, 219.65it/s]\u001b[A\n",
      " 99%|█████████▉| 4247/4280 [00:15<00:00, 215.97it/s]\u001b[A\n",
      "100%|█████████▉| 4276/4280 [00:15<00:00, 232.66it/s]\u001b[A\n",
      " 15%|█▌        | 2/13 [01:38<08:59, 49.00s/it]1it/s]\u001b[A"
     ]
    },
    {
     "name": "stdout",
     "output_type": "stream",
     "text": [
      "\n",
      "\n",
      "\n",
      "Panaroo_Sens_MP\n",
      "4281  total records were parsed\n"
     ]
    },
    {
     "name": "stderr",
     "output_type": "stream",
     "text": [
      "\n",
      "  0%|          | 0/4281 [00:00<?, ?it/s]\u001b[A\n",
      "  1%|          | 38/4281 [00:00<00:11, 376.94it/s]\u001b[A\n",
      "  4%|▍         | 170/4281 [00:00<00:08, 479.76it/s]\u001b[A\n",
      "  7%|▋         | 318/4281 [00:00<00:06, 601.21it/s]\u001b[A\n",
      " 12%|█▏        | 497/4281 [00:00<00:05, 750.39it/s]\u001b[A\n",
      " 15%|█▌        | 648/4281 [00:00<00:04, 882.13it/s]\u001b[A\n",
      " 19%|█▊        | 800/4281 [00:00<00:03, 1008.29it/s]\u001b[A\n",
      " 22%|██▏       | 930/4281 [00:00<00:03, 1074.84it/s]\u001b[A\n",
      " 25%|██▌       | 1074/4281 [00:00<00:02, 1161.58it/s]\u001b[A\n",
      " 28%|██▊       | 1213/4281 [00:00<00:02, 1220.05it/s]\u001b[A\n",
      " 33%|███▎      | 1404/4281 [00:01<00:02, 1367.82it/s]\u001b[A\n",
      " 36%|███▋      | 1556/4281 [00:01<00:01, 1394.47it/s]\u001b[A\n",
      " 40%|███▉      | 1706/4281 [00:01<00:01, 1352.05it/s]\u001b[A\n",
      " 44%|████▎     | 1867/4281 [00:01<00:01, 1417.48it/s]\u001b[A\n",
      " 47%|████▋     | 2015/4281 [00:01<00:01, 1383.98it/s]\u001b[A\n",
      " 51%|█████     | 2170/4281 [00:01<00:01, 1428.32it/s]\u001b[A\n",
      " 54%|█████▍    | 2327/4281 [00:01<00:01, 1463.92it/s]\u001b[A\n",
      " 58%|█████▊    | 2479/4281 [00:01<00:01, 1478.73it/s]\u001b[A\n",
      " 62%|██████▏   | 2666/4281 [00:01<00:01, 1577.75it/s]\u001b[A\n",
      " 66%|██████▌   | 2827/4281 [00:02<00:01, 972.84it/s] \u001b[A\n",
      " 69%|██████▉   | 2959/4281 [00:02<00:01, 1055.96it/s]\u001b[A\n",
      " 73%|███████▎  | 3130/4281 [00:02<00:00, 1192.31it/s]\u001b[A\n",
      " 77%|███████▋  | 3283/4281 [00:02<00:00, 1275.38it/s]\u001b[A\n",
      " 80%|████████  | 3433/4281 [00:02<00:00, 1332.78it/s]\u001b[A\n",
      " 84%|████████▎ | 3580/4281 [00:02<00:00, 1339.85it/s]\u001b[A\n",
      " 87%|████████▋ | 3723/4281 [00:02<00:00, 1286.19it/s]\u001b[A\n",
      " 90%|█████████ | 3859/4281 [00:02<00:00, 1087.20it/s]\u001b[A\n",
      " 93%|█████████▎| 3978/4281 [00:03<00:00, 1076.70it/s]\u001b[A\n",
      " 96%|█████████▌| 4093/4281 [00:03<00:00, 1056.93it/s]\u001b[A\n",
      " 98%|█████████▊| 4204/4281 [00:03<00:00, 1045.07it/s]\u001b[A\n",
      "100%|██████████| 4281/4281 [00:03<00:00, 1261.77it/s]\u001b[A\n",
      "  0%|          | 0/4281 [00:00<?, ?it/s]\u001b[A\n",
      "  1%|          | 30/4281 [00:00<00:14, 298.78it/s]\u001b[A\n",
      "  1%|▏         | 61/4281 [00:00<00:14, 298.76it/s]\u001b[A\n",
      "  2%|▏         | 89/4281 [00:00<00:14, 291.08it/s]\u001b[A\n",
      "  3%|▎         | 119/4281 [00:00<00:14, 292.29it/s]\u001b[A\n",
      "  3%|▎         | 146/4281 [00:00<00:14, 281.31it/s]\u001b[A\n",
      "  4%|▍         | 176/4281 [00:00<00:14, 285.12it/s]\u001b[A\n",
      "  5%|▍         | 205/4281 [00:00<00:14, 285.23it/s]\u001b[A\n",
      "  5%|▌         | 234/4281 [00:00<00:14, 283.62it/s]\u001b[A\n",
      "  6%|▌         | 261/4281 [00:00<00:14, 278.91it/s]\u001b[A\n",
      "  7%|▋         | 289/4281 [00:01<00:14, 279.20it/s]\u001b[A\n",
      "  7%|▋         | 319/4281 [00:01<00:13, 284.19it/s]\u001b[A\n",
      "  8%|▊         | 349/4281 [00:01<00:13, 287.38it/s]\u001b[A\n",
      "  9%|▉         | 378/4281 [00:01<00:13, 286.58it/s]\u001b[A\n",
      " 10%|▉         | 413/4281 [00:01<00:12, 300.18it/s]\u001b[A\n",
      " 10%|█         | 444/4281 [00:01<00:12, 301.80it/s]\u001b[A\n",
      " 11%|█         | 476/4281 [00:01<00:12, 305.24it/s]\u001b[A\n",
      " 12%|█▏        | 510/4281 [00:01<00:12, 314.16it/s]\u001b[A\n",
      " 13%|█▎        | 542/4281 [00:01<00:12, 310.42it/s]\u001b[A\n",
      " 13%|█▎        | 574/4281 [00:01<00:12, 300.69it/s]\u001b[A\n",
      " 14%|█▍        | 605/4281 [00:02<00:12, 297.78it/s]\u001b[A\n",
      " 15%|█▍        | 635/4281 [00:02<00:12, 293.98it/s]\u001b[A\n",
      " 16%|█▌        | 665/4281 [00:02<00:12, 283.46it/s]\u001b[A\n",
      " 16%|█▌        | 694/4281 [00:02<00:12, 277.79it/s]\u001b[A\n",
      " 17%|█▋        | 729/4281 [00:02<00:12, 293.08it/s]\u001b[A\n",
      " 18%|█▊        | 763/4281 [00:02<00:11, 303.90it/s]\u001b[A\n",
      " 19%|█▊        | 794/4281 [00:02<00:11, 299.91it/s]\u001b[A\n",
      " 19%|█▉        | 825/4281 [00:02<00:11, 292.42it/s]\u001b[A\n",
      " 20%|█▉        | 855/4281 [00:02<00:11, 292.42it/s]\u001b[A\n",
      " 21%|██        | 885/4281 [00:03<00:11, 286.12it/s]\u001b[A\n",
      " 21%|██▏       | 914/4281 [00:03<00:11, 286.34it/s]\u001b[A\n",
      " 22%|██▏       | 943/4281 [00:03<00:11, 283.41it/s]\u001b[A\n",
      " 23%|██▎       | 972/4281 [00:03<00:11, 283.36it/s]\u001b[A\n",
      " 23%|██▎       | 1001/4281 [00:03<00:11, 283.12it/s]\u001b[A\n",
      " 24%|██▍       | 1030/4281 [00:03<00:11, 282.26it/s]\u001b[A\n",
      " 25%|██▍       | 1059/4281 [00:03<00:11, 282.48it/s]\u001b[A\n",
      " 25%|██▌       | 1089/4281 [00:03<00:11, 284.71it/s]\u001b[A\n",
      " 26%|██▌       | 1118/4281 [00:03<00:11, 273.65it/s]\u001b[A\n",
      " 27%|██▋       | 1146/4281 [00:03<00:11, 272.85it/s]\u001b[A\n",
      " 27%|██▋       | 1176/4281 [00:04<00:11, 280.05it/s]\u001b[A\n",
      " 28%|██▊       | 1205/4281 [00:04<00:11, 277.08it/s]\u001b[A\n",
      " 29%|██▉       | 1233/4281 [00:04<00:11, 271.31it/s]\u001b[A\n",
      " 30%|██▉       | 1263/4281 [00:04<00:10, 279.10it/s]\u001b[A\n",
      " 30%|███       | 1301/4281 [00:04<00:09, 301.99it/s]\u001b[A\n",
      " 31%|███▏      | 1339/4281 [00:04<00:09, 318.94it/s]\u001b[A\n",
      " 32%|███▏      | 1372/4281 [00:04<00:09, 313.01it/s]\u001b[A\n",
      " 33%|███▎      | 1404/4281 [00:04<00:09, 311.26it/s]\u001b[A\n",
      " 34%|███▎      | 1436/4281 [00:04<00:09, 298.61it/s]\u001b[A\n",
      " 34%|███▍      | 1467/4281 [00:05<00:09, 287.55it/s]\u001b[A\n",
      " 35%|███▍      | 1497/4281 [00:05<00:09, 282.03it/s]\u001b[A\n",
      " 36%|███▌      | 1530/4281 [00:05<00:09, 292.59it/s]\u001b[A\n",
      " 36%|███▋      | 1560/4281 [00:05<00:09, 291.42it/s]\u001b[A\n",
      " 37%|███▋      | 1590/4281 [00:05<00:09, 273.19it/s]\u001b[A\n",
      " 38%|███▊      | 1620/4281 [00:05<00:09, 278.11it/s]\u001b[A\n",
      " 39%|███▊      | 1649/4281 [00:05<00:09, 271.84it/s]\u001b[A\n",
      " 39%|███▉      | 1677/4281 [00:05<00:09, 272.40it/s]\u001b[A\n",
      " 40%|███▉      | 1707/4281 [00:05<00:09, 277.55it/s]\u001b[A\n",
      " 41%|████      | 1735/4281 [00:06<00:09, 276.32it/s]\u001b[A\n",
      " 41%|████▏     | 1767/4281 [00:06<00:08, 287.91it/s]\u001b[A\n",
      " 42%|████▏     | 1796/4281 [00:06<00:08, 286.83it/s]\u001b[A\n",
      " 43%|████▎     | 1825/4281 [00:06<00:08, 283.02it/s]\u001b[A\n",
      " 43%|████▎     | 1857/4281 [00:06<00:08, 291.32it/s]\u001b[A\n",
      " 44%|████▍     | 1887/4281 [00:06<00:08, 290.94it/s]\u001b[A\n",
      " 45%|████▍     | 1917/4281 [00:06<00:08, 285.71it/s]\u001b[A\n",
      " 45%|████▌     | 1946/4281 [00:06<00:08, 273.24it/s]\u001b[A\n",
      " 46%|████▌     | 1974/4281 [00:06<00:08, 265.79it/s]\u001b[A\n",
      " 47%|████▋     | 2001/4281 [00:06<00:08, 265.67it/s]\u001b[A\n",
      " 47%|████▋     | 2030/4281 [00:07<00:08, 270.20it/s]\u001b[A\n",
      " 48%|████▊     | 2061/4281 [00:07<00:07, 279.65it/s]\u001b[A\n",
      " 49%|████▉     | 2090/4281 [00:07<00:07, 274.78it/s]\u001b[A\n",
      " 50%|████▉     | 2121/4281 [00:07<00:07, 283.73it/s]\u001b[A\n",
      " 50%|█████     | 2150/4281 [00:07<00:07, 284.70it/s]\u001b[A\n",
      " 51%|█████     | 2179/4281 [00:07<00:07, 275.91it/s]\u001b[A\n",
      " 52%|█████▏    | 2207/4281 [00:07<00:07, 262.97it/s]\u001b[A\n",
      " 52%|█████▏    | 2241/4281 [00:07<00:07, 281.77it/s]\u001b[A\n",
      " 53%|█████▎    | 2270/4281 [00:07<00:07, 280.55it/s]\u001b[A\n",
      " 54%|█████▍    | 2303/4281 [00:08<00:06, 292.72it/s]\u001b[A\n",
      " 54%|█████▍    | 2333/4281 [00:08<00:06, 284.86it/s]\u001b[A\n",
      " 55%|█████▌    | 2362/4281 [00:08<00:06, 274.87it/s]\u001b[A\n",
      " 56%|█████▌    | 2390/4281 [00:08<00:06, 270.94it/s]\u001b[A\n",
      " 56%|█████▋    | 2418/4281 [00:08<00:06, 271.10it/s]\u001b[A\n",
      " 57%|█████▋    | 2448/4281 [00:08<00:06, 276.84it/s]\u001b[A\n",
      " 58%|█████▊    | 2476/4281 [00:08<00:06, 275.06it/s]\u001b[A\n",
      " 59%|█████▊    | 2506/4281 [00:08<00:06, 281.82it/s]\u001b[A\n",
      " 59%|█████▉    | 2535/4281 [00:08<00:06, 269.12it/s]\u001b[A\n",
      " 60%|█████▉    | 2565/4281 [00:08<00:06, 276.98it/s]\u001b[A\n",
      " 61%|██████    | 2594/4281 [00:09<00:06, 275.65it/s]\u001b[A\n",
      " 62%|██████▏   | 2635/4281 [00:09<00:05, 304.96it/s]\u001b[A\n",
      " 63%|██████▎   | 2685/4281 [00:09<00:04, 344.86it/s]\u001b[A\n",
      " 64%|██████▍   | 2730/4281 [00:09<00:04, 370.79it/s]\u001b[A\n",
      " 65%|██████▍   | 2779/4281 [00:09<00:03, 399.12it/s]\u001b[A\n",
      " 66%|██████▌   | 2822/4281 [00:09<00:03, 402.53it/s]\u001b[A\n",
      " 67%|██████▋   | 2864/4281 [00:09<00:03, 354.89it/s]\u001b[A\n",
      " 68%|██████▊   | 2902/4281 [00:09<00:04, 320.63it/s]\u001b[A\n",
      " 69%|██████▊   | 2937/4281 [00:10<00:04, 304.04it/s]\u001b[A\n",
      " 69%|██████▉   | 2970/4281 [00:10<00:04, 298.45it/s]\u001b[A\n",
      " 70%|███████   | 3002/4281 [00:10<00:04, 291.82it/s]\u001b[A\n",
      " 71%|███████   | 3033/4281 [00:10<00:04, 293.75it/s]\u001b[A\n",
      " 72%|███████▏  | 3063/4281 [00:10<00:04, 293.77it/s]\u001b[A\n",
      " 72%|███████▏  | 3093/4281 [00:10<00:04, 292.20it/s]\u001b[A\n",
      " 73%|███████▎  | 3124/4281 [00:10<00:03, 294.17it/s]\u001b[A\n",
      " 74%|███████▎  | 3154/4281 [00:10<00:03, 287.28it/s]\u001b[A\n",
      " 74%|███████▍  | 3183/4281 [00:10<00:03, 287.68it/s]\u001b[A\n",
      " 75%|███████▌  | 3212/4281 [00:10<00:03, 283.81it/s]\u001b[A\n",
      " 76%|███████▌  | 3241/4281 [00:11<00:03, 282.93it/s]\u001b[A\n",
      " 76%|███████▋  | 3270/4281 [00:11<00:03, 278.78it/s]\u001b[A\n",
      " 77%|███████▋  | 3299/4281 [00:11<00:03, 279.55it/s]\u001b[A\n",
      " 78%|███████▊  | 3328/4281 [00:11<00:03, 278.32it/s]\u001b[A\n",
      " 78%|███████▊  | 3356/4281 [00:11<00:03, 273.53it/s]\u001b[A\n",
      " 79%|███████▉  | 3384/4281 [00:11<00:03, 264.98it/s]\u001b[A\n",
      " 80%|███████▉  | 3411/4281 [00:11<00:03, 260.45it/s]\u001b[A\n",
      " 80%|████████  | 3438/4281 [00:11<00:03, 262.79it/s]\u001b[A\n",
      " 81%|████████  | 3465/4281 [00:11<00:03, 260.05it/s]\u001b[A\n",
      " 82%|████████▏ | 3492/4281 [00:12<00:03, 258.02it/s]\u001b[A\n",
      " 82%|████████▏ | 3519/4281 [00:12<00:02, 258.75it/s]\u001b[A\n",
      " 83%|████████▎ | 3545/4281 [00:12<00:02, 255.84it/s]\u001b[A\n",
      " 83%|████████▎ | 3571/4281 [00:12<00:02, 252.60it/s]\u001b[A\n",
      " 84%|████████▍ | 3597/4281 [00:12<00:02, 254.33it/s]\u001b[A\n",
      " 85%|████████▍ | 3623/4281 [00:12<00:02, 251.64it/s]\u001b[A\n",
      " 85%|████████▌ | 3652/4281 [00:12<00:02, 258.95it/s]\u001b[A\n",
      " 86%|████████▌ | 3678/4281 [00:12<00:02, 247.88it/s]\u001b[A\n",
      " 86%|████████▋ | 3703/4281 [00:12<00:02, 243.95it/s]\u001b[A\n",
      " 87%|████████▋ | 3728/4281 [00:12<00:02, 245.05it/s]\u001b[A\n",
      " 88%|████████▊ | 3753/4281 [00:13<00:02, 243.47it/s]\u001b[A\n",
      " 88%|████████▊ | 3778/4281 [00:13<00:02, 216.23it/s]\u001b[A\n",
      " 89%|████████▉ | 3801/4281 [00:13<00:02, 210.61it/s]\u001b[A\n",
      " 89%|████████▉ | 3823/4281 [00:13<00:02, 212.48it/s]\u001b[A\n",
      " 90%|████████▉ | 3845/4281 [00:13<00:02, 212.53it/s]\u001b[A\n",
      " 90%|█████████ | 3867/4281 [00:13<00:01, 212.71it/s]\u001b[A\n",
      " 91%|█████████ | 3890/4281 [00:13<00:01, 217.51it/s]\u001b[A\n",
      " 91%|█████████▏| 3914/4281 [00:13<00:01, 222.17it/s]\u001b[A\n",
      " 92%|█████████▏| 3938/4281 [00:13<00:01, 226.24it/s]\u001b[A\n",
      " 93%|█████████▎| 3961/4281 [00:14<00:01, 217.63it/s]\u001b[A\n",
      " 93%|█████████▎| 3983/4281 [00:14<00:01, 217.61it/s]\u001b[A\n",
      " 94%|█████████▎| 4009/4281 [00:14<00:01, 225.66it/s]\u001b[A\n",
      " 94%|█████████▍| 4033/4281 [00:14<00:01, 228.17it/s]\u001b[A\n",
      " 95%|█████████▍| 4056/4281 [00:14<00:00, 225.46it/s]\u001b[A\n",
      " 95%|█████████▌| 4080/4281 [00:14<00:00, 229.25it/s]\u001b[A\n",
      " 96%|█████████▌| 4106/4281 [00:14<00:00, 234.53it/s]\u001b[A\n",
      " 96%|█████████▋| 4130/4281 [00:14<00:00, 230.11it/s]\u001b[A\n",
      " 97%|█████████▋| 4154/4281 [00:14<00:00, 226.32it/s]\u001b[A\n",
      " 98%|█████████▊| 4179/4281 [00:15<00:00, 232.79it/s]\u001b[A\n",
      " 98%|█████████▊| 4204/4281 [00:15<00:00, 237.07it/s]\u001b[A\n",
      " 99%|█████████▉| 4228/4281 [00:15<00:00, 213.76it/s]\u001b[A\n",
      " 99%|█████████▉| 4250/4281 [00:15<00:00, 212.55it/s]\u001b[A\n",
      "100%|█████████▉| 4278/4281 [00:15<00:00, 228.22it/s]\u001b[A\n",
      " 23%|██▎       | 3/13 [02:27<08:10, 49.06s/it]0it/s]\u001b[A"
     ]
    },
    {
     "name": "stdout",
     "output_type": "stream",
     "text": [
      "\n",
      "\n",
      "\n",
      "Roary_Default\n",
      "5366  total records were parsed\n"
     ]
    },
    {
     "name": "stderr",
     "output_type": "stream",
     "text": [
      "\n",
      "  0%|          | 0/4951 [00:00<?, ?it/s]\u001b[A\n",
      "  2%|▏         | 103/4951 [00:00<00:04, 1027.69it/s]\u001b[A\n",
      "  5%|▍         | 224/4951 [00:00<00:04, 1074.76it/s]\u001b[A\n",
      "  7%|▋         | 350/4951 [00:00<00:04, 1121.74it/s]\u001b[A\n",
      " 10%|▉         | 477/4951 [00:00<00:03, 1161.28it/s]\u001b[A\n",
      " 13%|█▎        | 628/4951 [00:00<00:03, 1245.25it/s]\u001b[A\n",
      " 16%|█▌        | 781/4951 [00:00<00:03, 1318.43it/s]\u001b[A\n",
      " 19%|█▊        | 918/4951 [00:00<00:03, 1326.53it/s]\u001b[A\n",
      " 21%|██        | 1051/4951 [00:00<00:02, 1326.24it/s]\u001b[A\n",
      " 24%|██▍       | 1187/4951 [00:00<00:02, 1335.02it/s]\u001b[A\n",
      " 27%|██▋       | 1318/4951 [00:01<00:02, 1304.35it/s]\u001b[A\n",
      " 29%|██▉       | 1447/4951 [00:01<00:02, 1293.07it/s]\u001b[A\n",
      " 32%|███▏      | 1579/4951 [00:01<00:02, 1297.77it/s]\u001b[A\n",
      " 34%|███▍      | 1708/4951 [00:01<00:02, 1275.95it/s]\u001b[A\n",
      " 37%|███▋      | 1840/4951 [00:01<00:02, 1282.78it/s]\u001b[A\n",
      " 41%|████      | 2020/4951 [00:01<00:02, 1402.93it/s]\u001b[A\n",
      " 44%|████▎     | 2164/4951 [00:01<00:01, 1395.00it/s]\u001b[A\n",
      " 47%|████▋     | 2306/4951 [00:01<00:01, 1367.76it/s]\u001b[A\n",
      " 49%|████▉     | 2445/4951 [00:01<00:01, 1296.09it/s]\u001b[A\n",
      " 52%|█████▏    | 2589/4951 [00:01<00:01, 1335.02it/s]\u001b[A\n",
      " 55%|█████▌    | 2747/4951 [00:02<00:01, 1398.25it/s]\u001b[A\n",
      " 58%|█████▊    | 2889/4951 [00:02<00:01, 1297.69it/s]\u001b[A\n",
      " 61%|██████▏   | 3034/4951 [00:02<00:01, 1339.61it/s]\u001b[A\n",
      " 64%|██████▍   | 3175/4951 [00:02<00:01, 1357.22it/s]\u001b[A\n",
      " 67%|██████▋   | 3313/4951 [00:02<00:01, 1307.54it/s]\u001b[A\n",
      " 70%|██████▉   | 3446/4951 [00:02<00:01, 1312.08it/s]\u001b[A\n",
      " 73%|███████▎  | 3596/4951 [00:02<00:00, 1362.23it/s]\u001b[A\n",
      " 75%|███████▌  | 3737/4951 [00:02<00:00, 1371.67it/s]\u001b[A\n",
      " 78%|███████▊  | 3876/4951 [00:02<00:00, 1352.71it/s]\u001b[A\n",
      " 81%|████████  | 4012/4951 [00:03<00:00, 1290.34it/s]\u001b[A\n",
      " 84%|████████▎ | 4144/4951 [00:03<00:00, 1296.52it/s]\u001b[A\n",
      " 87%|████████▋ | 4327/4951 [00:03<00:00, 1419.65it/s]\u001b[A\n",
      " 91%|█████████▏| 4529/4951 [00:03<00:00, 1545.50it/s]\u001b[A\n",
      " 96%|█████████▌| 4764/4951 [00:03<00:00, 1719.62it/s]\u001b[A\n",
      "100%|██████████| 4951/4951 [00:03<00:00, 1410.09it/s]\u001b[A\n",
      "  0%|          | 0/4951 [00:00<?, ?it/s]\u001b[A\n",
      "  1%|          | 29/4951 [00:00<00:17, 286.50it/s]\u001b[A\n",
      "  1%|          | 59/4951 [00:00<00:16, 289.67it/s]\u001b[A\n",
      "  2%|▏         | 88/4951 [00:00<00:16, 289.34it/s]\u001b[A\n",
      "  2%|▏         | 115/4951 [00:00<00:17, 280.08it/s]\u001b[A\n",
      "  3%|▎         | 141/4951 [00:00<00:17, 270.31it/s]\u001b[A\n",
      "  3%|▎         | 170/4951 [00:00<00:17, 275.51it/s]\u001b[A\n",
      "  4%|▍         | 195/4951 [00:00<00:17, 265.68it/s]\u001b[A\n",
      "  4%|▍         | 221/4951 [00:00<00:18, 262.23it/s]\u001b[A\n",
      "  5%|▍         | 247/4951 [00:00<00:18, 258.86it/s]\u001b[A\n",
      "  6%|▌         | 274/4951 [00:01<00:17, 261.09it/s]\u001b[A\n",
      "  6%|▌         | 300/4951 [00:01<00:18, 248.73it/s]\u001b[A\n",
      "  7%|▋         | 327/4951 [00:01<00:18, 254.19it/s]\u001b[A\n",
      "  7%|▋         | 353/4951 [00:01<00:18, 254.37it/s]\u001b[A\n",
      "  8%|▊         | 380/4951 [00:01<00:17, 256.02it/s]\u001b[A\n",
      "  8%|▊         | 406/4951 [00:01<00:17, 256.73it/s]\u001b[A\n",
      "  9%|▊         | 432/4951 [00:01<00:17, 254.28it/s]\u001b[A\n",
      "  9%|▉         | 459/4951 [00:01<00:17, 257.47it/s]\u001b[A\n",
      " 10%|▉         | 488/4951 [00:01<00:16, 265.11it/s]\u001b[A\n",
      " 10%|█         | 515/4951 [00:01<00:16, 262.72it/s]\u001b[A\n",
      " 11%|█         | 543/4951 [00:02<00:16, 266.14it/s]\u001b[A\n",
      " 12%|█▏        | 570/4951 [00:02<00:23, 183.23it/s]\u001b[A\n",
      " 12%|█▏        | 596/4951 [00:02<00:21, 200.01it/s]\u001b[A\n",
      " 13%|█▎        | 628/4951 [00:02<00:19, 224.57it/s]\u001b[A\n",
      " 13%|█▎        | 658/4951 [00:02<00:17, 242.21it/s]\u001b[A\n",
      " 14%|█▍        | 689/4951 [00:02<00:16, 257.79it/s]\u001b[A\n",
      " 15%|█▍        | 722/4951 [00:02<00:15, 274.93it/s]\u001b[A\n",
      " 15%|█▌        | 755/4951 [00:02<00:14, 288.25it/s]\u001b[A\n",
      " 16%|█▌        | 786/4951 [00:03<00:14, 288.01it/s]\u001b[A\n",
      " 16%|█▋        | 816/4951 [00:03<00:14, 286.34it/s]\u001b[A\n",
      " 17%|█▋        | 846/4951 [00:03<00:14, 288.97it/s]\u001b[A\n",
      " 18%|█▊        | 876/4951 [00:03<00:14, 282.00it/s]\u001b[A\n",
      " 18%|█▊        | 905/4951 [00:03<00:14, 276.09it/s]\u001b[A\n",
      " 19%|█▉        | 935/4951 [00:03<00:14, 281.10it/s]\u001b[A\n",
      " 19%|█▉        | 964/4951 [00:03<00:14, 268.80it/s]\u001b[A\n",
      " 20%|██        | 992/4951 [00:03<00:14, 268.25it/s]\u001b[A\n",
      " 21%|██        | 1020/4951 [00:03<00:14, 267.17it/s]\u001b[A\n",
      " 21%|██        | 1048/4951 [00:03<00:14, 269.57it/s]\u001b[A\n",
      " 22%|██▏       | 1079/4951 [00:04<00:13, 279.46it/s]\u001b[A\n",
      " 22%|██▏       | 1108/4951 [00:04<00:13, 274.62it/s]\u001b[A\n",
      " 23%|██▎       | 1139/4951 [00:04<00:13, 282.69it/s]\u001b[A\n",
      " 24%|██▎       | 1169/4951 [00:04<00:13, 283.80it/s]\u001b[A\n",
      " 24%|██▍       | 1198/4951 [00:04<00:13, 273.57it/s]\u001b[A\n",
      " 25%|██▍       | 1227/4951 [00:04<00:13, 276.41it/s]\u001b[A\n",
      " 25%|██▌       | 1255/4951 [00:04<00:13, 269.75it/s]\u001b[A\n",
      " 26%|██▌       | 1283/4951 [00:04<00:13, 269.09it/s]\u001b[A\n",
      " 26%|██▋       | 1311/4951 [00:04<00:13, 272.04it/s]\u001b[A\n",
      " 27%|██▋       | 1339/4951 [00:05<00:13, 271.92it/s]\u001b[A\n",
      " 28%|██▊       | 1367/4951 [00:05<00:13, 267.61it/s]\u001b[A\n",
      " 28%|██▊       | 1395/4951 [00:05<00:13, 269.16it/s]\u001b[A\n",
      " 29%|██▊       | 1422/4951 [00:05<00:13, 268.09it/s]\u001b[A\n",
      " 29%|██▉       | 1449/4951 [00:05<00:13, 266.01it/s]\u001b[A\n",
      " 30%|██▉       | 1476/4951 [00:05<00:13, 262.86it/s]\u001b[A\n",
      " 30%|███       | 1506/4951 [00:05<00:12, 270.11it/s]\u001b[A\n",
      " 31%|███       | 1534/4951 [00:05<00:13, 262.28it/s]\u001b[A\n",
      " 32%|███▏      | 1563/4951 [00:05<00:12, 269.63it/s]\u001b[A\n",
      " 32%|███▏      | 1591/4951 [00:05<00:12, 270.16it/s]\u001b[A\n",
      " 33%|███▎      | 1619/4951 [00:06<00:12, 257.61it/s]\u001b[A\n",
      " 33%|███▎      | 1645/4951 [00:06<00:13, 247.47it/s]\u001b[A\n",
      " 34%|███▍      | 1673/4951 [00:06<00:12, 254.93it/s]\u001b[A\n",
      " 34%|███▍      | 1702/4951 [00:06<00:12, 264.08it/s]\u001b[A\n",
      " 35%|███▍      | 1732/4951 [00:06<00:11, 272.82it/s]\u001b[A\n",
      " 36%|███▌      | 1760/4951 [00:06<00:11, 266.21it/s]\u001b[A\n",
      " 36%|███▌      | 1789/4951 [00:06<00:11, 270.43it/s]\u001b[A\n",
      " 37%|███▋      | 1817/4951 [00:06<00:11, 270.51it/s]\u001b[A\n",
      " 37%|███▋      | 1845/4951 [00:06<00:11, 268.47it/s]\u001b[A\n",
      " 38%|███▊      | 1877/4951 [00:07<00:10, 280.06it/s]\u001b[A\n",
      " 38%|███▊      | 1906/4951 [00:07<00:11, 276.15it/s]\u001b[A\n",
      " 39%|███▉      | 1942/4951 [00:07<00:10, 296.81it/s]\u001b[A\n",
      " 40%|███▉      | 1977/4951 [00:07<00:09, 308.41it/s]\u001b[A\n",
      " 41%|████      | 2009/4951 [00:07<00:09, 303.70it/s]\u001b[A\n",
      " 41%|████      | 2040/4951 [00:07<00:09, 295.03it/s]\u001b[A\n",
      " 42%|████▏     | 2070/4951 [00:07<00:09, 288.76it/s]\u001b[A\n",
      " 42%|████▏     | 2100/4951 [00:07<00:09, 285.75it/s]\u001b[A\n",
      " 43%|████▎     | 2132/4951 [00:07<00:09, 291.67it/s]\u001b[A\n",
      " 44%|████▎     | 2162/4951 [00:08<00:09, 284.07it/s]\u001b[A\n",
      " 44%|████▍     | 2191/4951 [00:08<00:10, 272.86it/s]\u001b[A\n",
      " 45%|████▍     | 2219/4951 [00:08<00:10, 268.50it/s]\u001b[A\n",
      " 45%|████▌     | 2247/4951 [00:08<00:10, 266.09it/s]\u001b[A\n",
      " 46%|████▌     | 2280/4951 [00:08<00:09, 280.49it/s]\u001b[A\n",
      " 47%|████▋     | 2309/4951 [00:08<00:09, 266.45it/s]\u001b[A\n",
      " 47%|████▋     | 2337/4951 [00:08<00:09, 269.38it/s]\u001b[A\n",
      " 48%|████▊     | 2365/4951 [00:08<00:10, 253.63it/s]\u001b[A\n",
      " 48%|████▊     | 2394/4951 [00:08<00:09, 261.95it/s]\u001b[A\n",
      " 49%|████▉     | 2421/4951 [00:09<00:09, 257.99it/s]\u001b[A\n",
      " 49%|████▉     | 2448/4951 [00:09<00:09, 253.45it/s]\u001b[A\n",
      " 50%|█████     | 2477/4951 [00:09<00:09, 261.81it/s]\u001b[A\n",
      " 51%|█████     | 2509/4951 [00:09<00:08, 274.69it/s]\u001b[A\n",
      " 51%|█████     | 2537/4951 [00:09<00:09, 260.86it/s]\u001b[A\n",
      " 52%|█████▏    | 2566/4951 [00:09<00:08, 266.27it/s]\u001b[A\n",
      " 52%|█████▏    | 2597/4951 [00:09<00:08, 276.38it/s]\u001b[A\n",
      " 53%|█████▎    | 2625/4951 [00:09<00:08, 274.85it/s]\u001b[A\n",
      " 54%|█████▎    | 2653/4951 [00:09<00:08, 270.02it/s]\u001b[A\n",
      " 54%|█████▍    | 2683/4951 [00:09<00:08, 276.14it/s]\u001b[A\n",
      " 55%|█████▍    | 2711/4951 [00:10<00:08, 275.74it/s]\u001b[A\n",
      " 55%|█████▌    | 2742/4951 [00:10<00:07, 283.65it/s]\u001b[A\n",
      " 56%|█████▌    | 2771/4951 [00:10<00:07, 279.22it/s]\u001b[A\n",
      " 57%|█████▋    | 2800/4951 [00:10<00:07, 279.66it/s]\u001b[A\n",
      " 57%|█████▋    | 2829/4951 [00:10<00:07, 277.63it/s]\u001b[A\n",
      " 58%|█████▊    | 2857/4951 [00:10<00:08, 257.81it/s]\u001b[A\n",
      " 58%|█████▊    | 2884/4951 [00:10<00:07, 260.54it/s]\u001b[A\n",
      " 59%|█████▉    | 2912/4951 [00:10<00:07, 263.46it/s]\u001b[A\n",
      " 59%|█████▉    | 2939/4951 [00:10<00:07, 264.18it/s]\u001b[A\n",
      " 60%|█████▉    | 2966/4951 [00:11<00:07, 263.42it/s]\u001b[A\n",
      " 60%|██████    | 2993/4951 [00:11<00:07, 261.14it/s]\u001b[A\n",
      " 61%|██████    | 3023/4951 [00:11<00:07, 271.00it/s]\u001b[A\n",
      " 62%|██████▏   | 3051/4951 [00:11<00:06, 273.11it/s]\u001b[A\n",
      " 62%|██████▏   | 3079/4951 [00:11<00:06, 272.90it/s]\u001b[A\n",
      " 63%|██████▎   | 3109/4951 [00:11<00:06, 279.59it/s]\u001b[A\n",
      " 63%|██████▎   | 3138/4951 [00:11<00:06, 281.73it/s]\u001b[A\n",
      " 64%|██████▍   | 3167/4951 [00:11<00:06, 280.40it/s]\u001b[A\n",
      " 65%|██████▍   | 3196/4951 [00:11<00:06, 274.78it/s]\u001b[A\n",
      " 65%|██████▌   | 3225/4951 [00:11<00:06, 277.87it/s]\u001b[A\n",
      " 66%|██████▌   | 3254/4951 [00:12<00:06, 279.94it/s]\u001b[A\n",
      " 66%|██████▋   | 3283/4951 [00:12<00:06, 275.69it/s]\u001b[A\n",
      " 67%|██████▋   | 3312/4951 [00:12<00:05, 278.76it/s]\u001b[A\n",
      " 67%|██████▋   | 3340/4951 [00:12<00:05, 276.12it/s]\u001b[A\n",
      " 68%|██████▊   | 3370/4951 [00:12<00:05, 279.51it/s]\u001b[A\n",
      " 69%|██████▊   | 3398/4951 [00:12<00:05, 265.37it/s]\u001b[A\n",
      " 69%|██████▉   | 3425/4951 [00:12<00:05, 264.87it/s]\u001b[A\n",
      " 70%|██████▉   | 3452/4951 [00:12<00:05, 257.30it/s]\u001b[A\n",
      " 70%|███████   | 3479/4951 [00:12<00:05, 260.14it/s]\u001b[A\n",
      " 71%|███████   | 3509/4951 [00:13<00:05, 270.58it/s]\u001b[A\n",
      " 72%|███████▏  | 3540/4951 [00:13<00:05, 277.65it/s]\u001b[A\n",
      " 72%|███████▏  | 3570/4951 [00:13<00:04, 283.86it/s]\u001b[A\n",
      " 73%|███████▎  | 3599/4951 [00:13<00:04, 270.52it/s]\u001b[A\n",
      " 73%|███████▎  | 3633/4951 [00:13<00:04, 286.11it/s]\u001b[A\n",
      " 74%|███████▍  | 3663/4951 [00:13<00:04, 266.10it/s]\u001b[A\n",
      " 75%|███████▍  | 3691/4951 [00:13<00:04, 263.02it/s]\u001b[A\n",
      " 75%|███████▌  | 3724/4951 [00:13<00:04, 276.89it/s]\u001b[A\n",
      " 76%|███████▌  | 3753/4951 [00:13<00:04, 269.50it/s]\u001b[A\n",
      " 76%|███████▋  | 3782/4951 [00:14<00:04, 274.09it/s]\u001b[A\n",
      " 77%|███████▋  | 3810/4951 [00:14<00:04, 264.05it/s]\u001b[A\n",
      " 78%|███████▊  | 3844/4951 [00:14<00:03, 282.11it/s]\u001b[A\n",
      " 78%|███████▊  | 3873/4951 [00:14<00:03, 271.18it/s]\u001b[A\n",
      " 79%|███████▉  | 3901/4951 [00:14<00:04, 259.86it/s]\u001b[A\n",
      " 79%|███████▉  | 3933/4951 [00:14<00:03, 274.54it/s]\u001b[A\n",
      " 80%|████████  | 3961/4951 [00:14<00:03, 264.97it/s]\u001b[A\n",
      " 81%|████████  | 3988/4951 [00:14<00:03, 263.68it/s]\u001b[A\n",
      " 81%|████████  | 4018/4951 [00:14<00:03, 273.44it/s]\u001b[A\n",
      " 82%|████████▏ | 4046/4951 [00:14<00:03, 273.57it/s]\u001b[A\n",
      " 82%|████████▏ | 4074/4951 [00:15<00:03, 272.37it/s]\u001b[A\n",
      " 83%|████████▎ | 4106/4951 [00:15<00:02, 284.58it/s]\u001b[A\n",
      " 84%|████████▎ | 4136/4951 [00:15<00:02, 287.98it/s]\u001b[A\n",
      " 84%|████████▍ | 4165/4951 [00:15<00:02, 281.08it/s]\u001b[A\n",
      " 85%|████████▍ | 4194/4951 [00:15<00:02, 281.82it/s]\u001b[A\n",
      " 85%|████████▌ | 4226/4951 [00:15<00:02, 292.00it/s]\u001b[A\n",
      " 86%|████████▌ | 4257/4951 [00:15<00:02, 294.54it/s]\u001b[A\n",
      " 87%|████████▋ | 4290/4951 [00:15<00:02, 303.92it/s]\u001b[A\n",
      " 87%|████████▋ | 4321/4951 [00:15<00:02, 301.49it/s]\u001b[A\n",
      " 88%|████████▊ | 4354/4951 [00:16<00:01, 305.17it/s]\u001b[A\n",
      " 89%|████████▊ | 4394/4951 [00:16<00:01, 326.75it/s]\u001b[A\n",
      " 89%|████████▉ | 4428/4951 [00:16<00:01, 324.84it/s]\u001b[A\n",
      " 90%|█████████ | 4463/4951 [00:16<00:01, 331.01it/s]\u001b[A\n",
      " 91%|█████████ | 4498/4951 [00:16<00:01, 336.07it/s]\u001b[A\n",
      " 92%|█████████▏| 4532/4951 [00:16<00:01, 334.72it/s]\u001b[A\n",
      " 92%|█████████▏| 4570/4951 [00:16<00:01, 346.19it/s]\u001b[A\n",
      " 93%|█████████▎| 4605/4951 [00:16<00:01, 337.54it/s]\u001b[A\n",
      " 94%|█████████▎| 4641/4951 [00:16<00:00, 343.49it/s]\u001b[A\n",
      " 95%|█████████▍| 4684/4951 [00:16<00:00, 362.96it/s]\u001b[A\n",
      " 95%|█████████▌| 4721/4951 [00:17<00:00, 350.82it/s]\u001b[A\n",
      " 96%|█████████▌| 4757/4951 [00:17<00:00, 345.91it/s]\u001b[A\n",
      " 97%|█████████▋| 4800/4951 [00:17<00:00, 365.43it/s]\u001b[A\n",
      " 98%|█████████▊| 4838/4951 [00:17<00:00, 364.82it/s]\u001b[A\n",
      " 98%|█████████▊| 4875/4951 [00:17<00:00, 357.66it/s]\u001b[A\n",
      " 99%|█████████▉| 4914/4951 [00:17<00:00, 365.76it/s]\u001b[A\n",
      " 31%|███       | 4/13 [03:25<07:44, 51.62s/it]7it/s]\u001b[A"
     ]
    },
    {
     "name": "stdout",
     "output_type": "stream",
     "text": [
      "\n",
      "\n",
      "\n",
      "Roary_NoSplitParalogs\n",
      "4366  total records were parsed\n"
     ]
    },
    {
     "name": "stderr",
     "output_type": "stream",
     "text": [
      "\n",
      "  0%|          | 0/4074 [00:00<?, ?it/s]\u001b[A\n",
      "  2%|▏         | 93/4074 [00:00<00:04, 923.37it/s]\u001b[A\n",
      "  5%|▌         | 217/4074 [00:00<00:03, 998.61it/s]\u001b[A\n",
      "  9%|▊         | 351/4074 [00:00<00:03, 1078.93it/s]\u001b[A\n",
      " 12%|█▏        | 486/4074 [00:00<00:03, 1146.91it/s]\u001b[A\n",
      " 16%|█▌        | 641/4074 [00:00<00:02, 1243.15it/s]\u001b[A\n",
      " 19%|█▊        | 755/4074 [00:00<00:04, 723.27it/s] \u001b[A\n",
      " 22%|██▏       | 904/4074 [00:00<00:03, 855.14it/s]\u001b[A\n",
      " 26%|██▌       | 1054/4074 [00:01<00:03, 981.35it/s]\u001b[A\n",
      " 29%|██▉       | 1199/4074 [00:01<00:02, 1085.54it/s]\u001b[A\n",
      " 33%|███▎      | 1335/4074 [00:01<00:02, 1153.44it/s]\u001b[A\n",
      " 36%|███▌      | 1475/4074 [00:01<00:02, 1216.11it/s]\u001b[A\n",
      " 39%|███▉      | 1608/4074 [00:01<00:01, 1246.71it/s]\u001b[A\n",
      " 43%|████▎     | 1748/4074 [00:01<00:01, 1288.95it/s]\u001b[A\n",
      " 47%|████▋     | 1925/4074 [00:01<00:01, 1402.95it/s]\u001b[A\n",
      " 51%|█████     | 2081/4074 [00:01<00:01, 1446.50it/s]\u001b[A\n",
      " 55%|█████▍    | 2233/4074 [00:01<00:01, 1466.64it/s]\u001b[A\n",
      " 59%|█████▊    | 2384/4074 [00:01<00:01, 1391.30it/s]\u001b[A\n",
      " 62%|██████▏   | 2534/4074 [00:02<00:01, 1419.49it/s]\u001b[A\n",
      " 66%|██████▋   | 2700/4074 [00:02<00:00, 1483.10it/s]\u001b[A\n",
      " 70%|██████▉   | 2851/4074 [00:02<00:00, 1392.21it/s]\u001b[A\n",
      " 74%|███████▍  | 3014/4074 [00:02<00:00, 1448.86it/s]\u001b[A\n",
      " 78%|███████▊  | 3162/4074 [00:02<00:00, 1411.44it/s]\u001b[A\n",
      " 81%|████████  | 3310/4074 [00:02<00:00, 1423.93it/s]\u001b[A\n",
      " 85%|████████▍ | 3458/4074 [00:02<00:00, 1438.53it/s]\u001b[A\n",
      " 88%|████████▊ | 3603/4074 [00:02<00:00, 1407.09it/s]\u001b[A\n",
      " 94%|█████████▎| 3816/4074 [00:02<00:00, 1565.62it/s]\u001b[A\n",
      "100%|██████████| 4074/4074 [00:02<00:00, 1376.32it/s]\u001b[A\n",
      "  0%|          | 0/4074 [00:00<?, ?it/s]\u001b[A\n",
      "  1%|          | 28/4074 [00:00<00:14, 275.89it/s]\u001b[A\n",
      "  1%|▏         | 56/4074 [00:00<00:14, 276.10it/s]\u001b[A\n",
      "  2%|▏         | 87/4074 [00:00<00:14, 284.30it/s]\u001b[A\n",
      "  3%|▎         | 113/4074 [00:00<00:14, 275.05it/s]\u001b[A\n",
      "  3%|▎         | 138/4074 [00:00<00:14, 265.81it/s]\u001b[A\n",
      "  4%|▍         | 165/4074 [00:00<00:14, 266.63it/s]\u001b[A\n",
      "  5%|▍         | 190/4074 [00:00<00:14, 260.58it/s]\u001b[A\n",
      "  5%|▌         | 215/4074 [00:00<00:15, 255.44it/s]\u001b[A\n",
      "  6%|▌         | 240/4074 [00:00<00:15, 250.03it/s]\u001b[A\n",
      "  7%|▋         | 267/4074 [00:01<00:14, 254.34it/s]\u001b[A\n",
      "  7%|▋         | 292/4074 [00:01<00:15, 251.73it/s]\u001b[A\n",
      "  8%|▊         | 320/4074 [00:01<00:14, 258.24it/s]\u001b[A\n",
      "  8%|▊         | 346/4074 [00:01<00:14, 258.07it/s]\u001b[A\n",
      "  9%|▉         | 372/4074 [00:01<00:14, 256.11it/s]\u001b[A\n",
      " 10%|▉         | 398/4074 [00:01<00:14, 253.15it/s]\u001b[A\n",
      " 10%|█         | 425/4074 [00:01<00:14, 257.21it/s]\u001b[A\n",
      " 11%|█         | 454/4074 [00:01<00:13, 265.66it/s]\u001b[A\n",
      " 12%|█▏        | 483/4074 [00:01<00:13, 271.03it/s]\u001b[A\n",
      " 13%|█▎        | 513/4074 [00:01<00:12, 276.83it/s]\u001b[A\n",
      " 13%|█▎        | 543/4074 [00:02<00:12, 282.61it/s]\u001b[A\n",
      " 14%|█▍        | 572/4074 [00:02<00:12, 282.81it/s]\u001b[A\n",
      " 15%|█▍        | 601/4074 [00:02<00:12, 278.84it/s]\u001b[A\n",
      " 16%|█▌        | 633/4074 [00:02<00:11, 289.67it/s]\u001b[A\n",
      " 16%|█▋        | 664/4074 [00:02<00:11, 290.65it/s]\u001b[A\n",
      " 17%|█▋        | 694/4074 [00:02<00:11, 285.63it/s]\u001b[A\n",
      " 18%|█▊        | 727/4074 [00:02<00:11, 295.54it/s]\u001b[A\n",
      " 19%|█▊        | 757/4074 [00:02<00:11, 292.48it/s]\u001b[A\n",
      " 19%|█▉        | 787/4074 [00:02<00:11, 281.28it/s]\u001b[A\n",
      " 20%|██        | 816/4074 [00:03<00:11, 273.69it/s]\u001b[A\n",
      " 21%|██        | 844/4074 [00:03<00:11, 271.65it/s]\u001b[A\n",
      " 21%|██▏       | 872/4074 [00:03<00:11, 273.52it/s]\u001b[A\n",
      " 22%|██▏       | 900/4074 [00:03<00:11, 269.84it/s]\u001b[A\n",
      " 23%|██▎       | 928/4074 [00:03<00:11, 269.86it/s]\u001b[A\n",
      " 23%|██▎       | 956/4074 [00:03<00:11, 267.91it/s]\u001b[A\n",
      " 24%|██▍       | 983/4074 [00:03<00:11, 266.81it/s]\u001b[A\n",
      " 25%|██▍       | 1010/4074 [00:03<00:11, 265.62it/s]\u001b[A\n",
      " 26%|██▌       | 1044/4074 [00:03<00:10, 282.62it/s]\u001b[A\n",
      " 26%|██▋       | 1073/4074 [00:03<00:10, 278.35it/s]\u001b[A\n",
      " 27%|██▋       | 1104/4074 [00:04<00:10, 286.09it/s]\u001b[A\n",
      " 28%|██▊       | 1133/4074 [00:04<00:10, 282.87it/s]\u001b[A\n",
      " 29%|██▊       | 1162/4074 [00:04<00:10, 271.78it/s]\u001b[A\n",
      " 29%|██▉       | 1190/4074 [00:04<00:10, 268.90it/s]\u001b[A\n",
      " 30%|██▉       | 1218/4074 [00:04<00:10, 266.04it/s]\u001b[A\n",
      " 31%|███       | 1245/4074 [00:04<00:10, 262.94it/s]\u001b[A\n",
      " 31%|███       | 1272/4074 [00:04<00:10, 262.40it/s]\u001b[A\n",
      " 32%|███▏      | 1299/4074 [00:04<00:10, 258.71it/s]\u001b[A\n",
      " 33%|███▎      | 1326/4074 [00:04<00:10, 261.34it/s]\u001b[A\n",
      " 33%|███▎      | 1355/4074 [00:04<00:10, 268.29it/s]\u001b[A\n",
      " 34%|███▍      | 1384/4074 [00:05<00:09, 271.63it/s]\u001b[A\n",
      " 35%|███▍      | 1413/4074 [00:05<00:09, 273.92it/s]\u001b[A\n",
      " 35%|███▌      | 1441/4074 [00:05<00:09, 267.26it/s]\u001b[A\n",
      " 36%|███▌      | 1470/4074 [00:05<00:09, 273.36it/s]\u001b[A\n",
      " 37%|███▋      | 1498/4074 [00:05<00:09, 275.29it/s]\u001b[A\n",
      " 37%|███▋      | 1526/4074 [00:05<00:09, 274.06it/s]\u001b[A\n",
      " 38%|███▊      | 1558/4074 [00:05<00:08, 284.54it/s]\u001b[A\n",
      " 39%|███▉      | 1587/4074 [00:05<00:09, 276.12it/s]\u001b[A\n",
      " 40%|███▉      | 1615/4074 [00:05<00:09, 267.29it/s]\u001b[A\n",
      " 40%|████      | 1643/4074 [00:06<00:09, 269.85it/s]\u001b[A\n",
      " 41%|████      | 1674/4074 [00:06<00:08, 279.16it/s]\u001b[A\n",
      " 42%|████▏     | 1705/4074 [00:06<00:08, 285.74it/s]\u001b[A\n",
      " 43%|████▎     | 1735/4074 [00:06<00:08, 287.91it/s]\u001b[A\n",
      " 43%|████▎     | 1764/4074 [00:06<00:08, 283.26it/s]\u001b[A\n",
      " 44%|████▍     | 1793/4074 [00:06<00:08, 284.34it/s]\u001b[A\n",
      " 45%|████▍     | 1822/4074 [00:06<00:07, 281.68it/s]\u001b[A\n",
      " 46%|████▌     | 1854/4074 [00:06<00:07, 291.60it/s]\u001b[A\n",
      " 46%|████▋     | 1892/4074 [00:06<00:07, 310.81it/s]\u001b[A\n",
      " 47%|████▋     | 1925/4074 [00:06<00:06, 313.95it/s]\u001b[A\n",
      " 48%|████▊     | 1957/4074 [00:07<00:06, 313.73it/s]\u001b[A\n",
      " 49%|████▉     | 1989/4074 [00:07<00:06, 300.70it/s]\u001b[A\n",
      " 50%|████▉     | 2020/4074 [00:07<00:06, 293.74it/s]\u001b[A\n",
      " 50%|█████     | 2050/4074 [00:07<00:07, 288.83it/s]\u001b[A\n",
      " 51%|█████     | 2082/4074 [00:07<00:06, 295.06it/s]\u001b[A\n",
      " 52%|█████▏    | 2112/4074 [00:07<00:06, 284.60it/s]\u001b[A\n",
      " 53%|█████▎    | 2141/4074 [00:07<00:07, 275.33it/s]\u001b[A\n",
      " 53%|█████▎    | 2169/4074 [00:07<00:07, 269.49it/s]\u001b[A\n",
      " 54%|█████▍    | 2198/4074 [00:07<00:06, 274.49it/s]\u001b[A\n",
      " 55%|█████▍    | 2230/4074 [00:08<00:06, 285.98it/s]\u001b[A\n",
      " 55%|█████▌    | 2259/4074 [00:08<00:06, 275.21it/s]\u001b[A\n",
      " 56%|█████▌    | 2287/4074 [00:08<00:06, 268.65it/s]\u001b[A\n",
      " 57%|█████▋    | 2315/4074 [00:08<00:06, 265.87it/s]\u001b[A\n",
      " 58%|█████▊    | 2343/4074 [00:08<00:06, 268.73it/s]\u001b[A\n",
      " 58%|█████▊    | 2370/4074 [00:08<00:06, 264.93it/s]\u001b[A\n",
      " 59%|█████▉    | 2397/4074 [00:08<00:06, 256.67it/s]\u001b[A\n",
      " 60%|█████▉    | 2428/4074 [00:08<00:06, 269.35it/s]\u001b[A\n",
      " 60%|██████    | 2457/4074 [00:08<00:05, 272.46it/s]\u001b[A\n",
      " 61%|██████    | 2485/4074 [00:09<00:05, 270.26it/s]\u001b[A\n",
      " 62%|██████▏   | 2513/4074 [00:09<00:05, 272.09it/s]\u001b[A\n",
      " 62%|██████▏   | 2544/4074 [00:09<00:05, 281.75it/s]\u001b[A\n",
      " 63%|██████▎   | 2574/4074 [00:09<00:05, 284.37it/s]\u001b[A\n",
      " 64%|██████▍   | 2603/4074 [00:09<00:05, 276.72it/s]\u001b[A\n",
      " 65%|██████▍   | 2632/4074 [00:09<00:05, 278.11it/s]\u001b[A\n",
      " 65%|██████▌   | 2661/4074 [00:09<00:05, 281.35it/s]\u001b[A\n",
      " 66%|██████▌   | 2690/4074 [00:09<00:05, 274.51it/s]\u001b[A\n",
      " 67%|██████▋   | 2718/4074 [00:09<00:05, 269.88it/s]\u001b[A\n",
      " 67%|██████▋   | 2746/4074 [00:09<00:04, 267.08it/s]\u001b[A\n",
      " 68%|██████▊   | 2773/4074 [00:10<00:04, 261.32it/s]\u001b[A\n",
      " 69%|██████▊   | 2800/4074 [00:10<00:05, 249.00it/s]\u001b[A\n",
      " 69%|██████▉   | 2827/4074 [00:10<00:04, 254.16it/s]\u001b[A\n",
      " 70%|███████   | 2854/4074 [00:10<00:04, 257.76it/s]\u001b[A\n",
      " 71%|███████   | 2882/4074 [00:10<00:04, 263.50it/s]\u001b[A\n",
      " 71%|███████▏  | 2911/4074 [00:10<00:04, 267.82it/s]\u001b[A\n",
      " 72%|███████▏  | 2938/4074 [00:10<00:04, 265.68it/s]\u001b[A\n",
      " 73%|███████▎  | 2968/4074 [00:10<00:04, 275.11it/s]\u001b[A\n",
      " 74%|███████▎  | 2996/4074 [00:10<00:04, 266.76it/s]\u001b[A\n",
      " 74%|███████▍  | 3027/4074 [00:11<00:03, 278.14it/s]\u001b[A\n",
      " 75%|███████▌  | 3057/4074 [00:11<00:03, 281.47it/s]\u001b[A\n",
      " 76%|███████▌  | 3086/4074 [00:11<00:03, 277.71it/s]\u001b[A\n",
      " 76%|███████▋  | 3114/4074 [00:11<00:03, 271.47it/s]\u001b[A\n",
      " 77%|███████▋  | 3142/4074 [00:11<00:03, 272.54it/s]\u001b[A\n",
      " 78%|███████▊  | 3170/4074 [00:11<00:03, 266.75it/s]\u001b[A\n",
      " 79%|███████▊  | 3200/4074 [00:11<00:03, 272.38it/s]\u001b[A\n",
      " 79%|███████▉  | 3228/4074 [00:11<00:03, 271.10it/s]\u001b[A\n",
      " 80%|███████▉  | 3259/4074 [00:11<00:02, 279.19it/s]\u001b[A\n",
      " 81%|████████  | 3288/4074 [00:11<00:02, 274.21it/s]\u001b[A\n",
      " 81%|████████▏ | 3316/4074 [00:12<00:02, 266.23it/s]\u001b[A\n",
      " 82%|████████▏ | 3343/4074 [00:12<00:02, 265.05it/s]\u001b[A\n",
      " 83%|████████▎ | 3370/4074 [00:12<00:02, 260.33it/s]\u001b[A\n",
      " 83%|████████▎ | 3397/4074 [00:12<00:02, 260.66it/s]\u001b[A\n",
      " 84%|████████▍ | 3426/4074 [00:12<00:02, 267.04it/s]\u001b[A\n",
      " 85%|████████▍ | 3455/4074 [00:12<00:02, 271.57it/s]\u001b[A\n",
      " 86%|████████▌ | 3487/4074 [00:12<00:02, 281.47it/s]\u001b[A\n",
      " 86%|████████▋ | 3516/4074 [00:12<00:02, 277.52it/s]\u001b[A\n",
      " 87%|████████▋ | 3548/4074 [00:12<00:01, 288.11it/s]\u001b[A\n",
      " 88%|████████▊ | 3577/4074 [00:13<00:01, 276.24it/s]\u001b[A\n",
      " 88%|████████▊ | 3605/4074 [00:13<00:01, 267.61it/s]\u001b[A\n",
      " 89%|████████▉ | 3639/4074 [00:13<00:01, 284.65it/s]\u001b[A\n",
      " 90%|█████████ | 3668/4074 [00:13<00:01, 280.62it/s]\u001b[A\n",
      " 91%|█████████ | 3703/4074 [00:13<00:01, 297.52it/s]\u001b[A\n",
      " 92%|█████████▏| 3752/4074 [00:13<00:00, 336.29it/s]\u001b[A\n",
      " 93%|█████████▎| 3794/4074 [00:13<00:00, 354.79it/s]\u001b[A\n",
      " 94%|█████████▍| 3844/4074 [00:13<00:00, 387.56it/s]\u001b[A\n",
      " 95%|█████████▌| 3888/4074 [00:13<00:00, 400.09it/s]\u001b[A\n",
      " 97%|█████████▋| 3935/4074 [00:13<00:00, 416.92it/s]\u001b[A\n",
      " 98%|█████████▊| 3980/4074 [00:14<00:00, 423.83it/s]\u001b[A\n",
      " 99%|█████████▉| 4033/4074 [00:14<00:00, 449.21it/s]\u001b[A\n",
      " 38%|███▊      | 5/13 [04:11<06:39, 49.98s/it]3it/s]\u001b[A"
     ]
    },
    {
     "name": "stdout",
     "output_type": "stream",
     "text": [
      "\n",
      "\n",
      "\n",
      "Roary_NoSplitParalogs_I80\n",
      "4252  total records were parsed\n"
     ]
    },
    {
     "name": "stderr",
     "output_type": "stream",
     "text": [
      "\n",
      "  0%|          | 0/3979 [00:00<?, ?it/s]\u001b[A\n",
      "  3%|▎         | 105/3979 [00:00<00:03, 1040.91it/s]\u001b[A\n",
      "  6%|▌         | 221/3979 [00:00<00:03, 1072.10it/s]\u001b[A\n",
      "  9%|▉         | 356/3979 [00:00<00:03, 1141.45it/s]\u001b[A\n",
      " 13%|█▎        | 500/3979 [00:00<00:02, 1214.44it/s]\u001b[A\n",
      " 17%|█▋        | 657/3979 [00:00<00:02, 1234.41it/s]\u001b[A\n",
      " 20%|██        | 807/3979 [00:00<00:02, 1303.41it/s]\u001b[A\n",
      " 24%|██▍       | 950/3979 [00:00<00:02, 1338.69it/s]\u001b[A\n",
      " 28%|██▊       | 1103/3979 [00:00<00:02, 1389.95it/s]\u001b[A\n",
      " 31%|███       | 1238/3979 [00:00<00:02, 1359.32it/s]\u001b[A\n",
      " 35%|███▍      | 1373/3979 [00:01<00:01, 1354.21it/s]\u001b[A\n",
      " 38%|███▊      | 1507/3979 [00:01<00:01, 1336.31it/s]\u001b[A\n",
      " 41%|████      | 1640/3979 [00:01<00:01, 1330.57it/s]\u001b[A\n",
      " 45%|████▍     | 1786/3979 [00:01<00:01, 1365.31it/s]\u001b[A\n",
      " 49%|████▉     | 1967/3979 [00:01<00:01, 1454.54it/s]\u001b[A\n",
      " 53%|█████▎    | 2121/3979 [00:01<00:01, 1478.50it/s]\u001b[A\n",
      " 57%|█████▋    | 2270/3979 [00:01<00:01, 1442.07it/s]\u001b[A\n",
      " 61%|██████    | 2416/3979 [00:01<00:01, 1406.05it/s]\u001b[A\n",
      " 65%|██████▍   | 2572/3979 [00:01<00:00, 1448.80it/s]\u001b[A\n",
      " 69%|██████▊   | 2735/3979 [00:01<00:00, 1495.34it/s]\u001b[A\n",
      " 73%|███████▎  | 2886/3979 [00:02<00:00, 1389.26it/s]\u001b[A\n",
      " 76%|███████▋  | 3043/3979 [00:02<00:00, 1437.22it/s]\u001b[A\n",
      " 80%|████████  | 3189/3979 [00:02<00:00, 1411.52it/s]\u001b[A\n",
      " 84%|████████▎ | 3332/3979 [00:02<00:00, 1408.44it/s]\u001b[A\n",
      " 88%|████████▊ | 3484/3979 [00:02<00:00, 1434.74it/s]\u001b[A\n",
      " 91%|█████████ | 3629/3979 [00:02<00:00, 1425.41it/s]\u001b[A\n",
      "100%|█████████▉| 3961/3979 [00:02<00:00, 1719.27it/s]\u001b[A\n",
      "100%|██████████| 3979/3979 [00:02<00:00, 1466.15it/s]\u001b[A\n",
      "  0%|          | 0/3979 [00:00<?, ?it/s]\u001b[A\n",
      "  1%|          | 29/3979 [00:00<00:14, 281.74it/s]\u001b[A\n",
      "  1%|▏         | 59/3979 [00:00<00:13, 285.41it/s]\u001b[A\n",
      "  2%|▏         | 89/3979 [00:00<00:13, 287.09it/s]\u001b[A\n",
      "  3%|▎         | 114/3979 [00:00<00:14, 273.82it/s]\u001b[A\n",
      "  3%|▎         | 139/3979 [00:00<00:14, 264.70it/s]\u001b[A\n",
      "  4%|▍         | 166/3979 [00:00<00:14, 263.95it/s]\u001b[A\n",
      "  5%|▍         | 190/3979 [00:00<00:14, 253.55it/s]\u001b[A\n",
      "  5%|▌         | 215/3979 [00:00<00:15, 249.11it/s]\u001b[A\n",
      "  6%|▌         | 240/3979 [00:00<00:15, 244.53it/s]\u001b[A\n",
      "  7%|▋         | 268/3979 [00:01<00:14, 252.68it/s]\u001b[A\n",
      "  7%|▋         | 294/3979 [00:01<00:14, 253.98it/s]\u001b[A\n",
      "  8%|▊         | 324/3979 [00:01<00:13, 265.59it/s]\u001b[A\n",
      "  9%|▉         | 351/3979 [00:01<00:13, 266.51it/s]\u001b[A\n",
      "  9%|▉         | 378/3979 [00:01<00:13, 266.61it/s]\u001b[A\n",
      " 10%|█         | 405/3979 [00:01<00:13, 263.47it/s]\u001b[A\n",
      " 11%|█         | 434/3979 [00:01<00:13, 269.76it/s]\u001b[A\n",
      " 12%|█▏        | 464/3979 [00:01<00:12, 277.68it/s]\u001b[A\n",
      " 12%|█▏        | 494/3979 [00:01<00:12, 281.61it/s]\u001b[A\n",
      " 13%|█▎        | 524/3979 [00:01<00:12, 285.50it/s]\u001b[A\n",
      " 14%|█▍        | 553/3979 [00:02<00:12, 279.88it/s]\u001b[A\n",
      " 15%|█▍        | 582/3979 [00:02<00:12, 271.94it/s]\u001b[A\n",
      " 15%|█▌        | 614/3979 [00:02<00:11, 284.40it/s]\u001b[A\n",
      " 16%|█▌        | 644/3979 [00:02<00:11, 287.91it/s]\u001b[A\n",
      " 17%|█▋        | 676/3979 [00:02<00:11, 293.99it/s]\u001b[A\n",
      " 18%|█▊        | 711/3979 [00:02<00:10, 307.46it/s]\u001b[A\n",
      " 19%|█▊        | 743/3979 [00:02<00:10, 307.84it/s]\u001b[A\n",
      " 19%|█▉        | 774/3979 [00:02<00:10, 297.41it/s]\u001b[A\n",
      " 20%|██        | 804/3979 [00:02<00:10, 295.06it/s]\u001b[A\n",
      " 21%|██        | 834/3979 [00:03<00:10, 290.32it/s]\u001b[A\n",
      " 22%|██▏       | 864/3979 [00:03<00:10, 289.74it/s]\u001b[A\n",
      " 22%|██▏       | 894/3979 [00:03<00:10, 288.94it/s]\u001b[A\n",
      " 23%|██▎       | 923/3979 [00:03<00:10, 279.76it/s]\u001b[A\n",
      " 24%|██▍       | 952/3979 [00:03<00:10, 278.17it/s]\u001b[A\n",
      " 25%|██▍       | 980/3979 [00:03<00:11, 271.83it/s]\u001b[A\n",
      " 25%|██▌       | 1008/3979 [00:03<00:11, 267.28it/s]\u001b[A\n",
      " 26%|██▌       | 1039/3979 [00:03<00:10, 278.30it/s]\u001b[A\n",
      " 27%|██▋       | 1068/3979 [00:03<00:10, 275.43it/s]\u001b[A\n",
      " 28%|██▊       | 1099/3979 [00:03<00:10, 284.49it/s]\u001b[A\n",
      " 28%|██▊       | 1128/3979 [00:04<00:10, 280.86it/s]\u001b[A\n",
      " 29%|██▉       | 1157/3979 [00:04<00:10, 268.41it/s]\u001b[A\n",
      " 30%|██▉       | 1185/3979 [00:04<00:10, 267.78it/s]\u001b[A\n",
      " 30%|███       | 1212/3979 [00:04<00:10, 268.18it/s]\u001b[A\n",
      " 31%|███       | 1239/3979 [00:04<00:10, 263.49it/s]\u001b[A\n",
      " 32%|███▏      | 1267/3979 [00:04<00:10, 267.99it/s]\u001b[A\n",
      " 33%|███▎      | 1294/3979 [00:04<00:10, 265.05it/s]\u001b[A\n",
      " 33%|███▎      | 1322/3979 [00:04<00:09, 268.78it/s]\u001b[A\n",
      " 34%|███▍      | 1349/3979 [00:04<00:09, 266.60it/s]\u001b[A\n",
      " 35%|███▍      | 1378/3979 [00:05<00:09, 270.76it/s]\u001b[A\n",
      " 35%|███▌      | 1406/3979 [00:05<00:09, 269.71it/s]\u001b[A\n",
      " 36%|███▌      | 1434/3979 [00:05<00:09, 264.86it/s]\u001b[A\n",
      " 37%|███▋      | 1463/3979 [00:05<00:09, 270.89it/s]\u001b[A\n",
      " 37%|███▋      | 1491/3979 [00:05<00:09, 271.14it/s]\u001b[A\n",
      " 38%|███▊      | 1519/3979 [00:05<00:09, 273.26it/s]\u001b[A\n",
      " 39%|███▉      | 1548/3979 [00:05<00:08, 277.15it/s]\u001b[A\n",
      " 40%|███▉      | 1576/3979 [00:05<00:09, 264.66it/s]\u001b[A\n",
      " 40%|████      | 1603/3979 [00:05<00:09, 255.78it/s]\u001b[A\n",
      " 41%|████      | 1631/3979 [00:05<00:09, 260.29it/s]\u001b[A\n",
      " 42%|████▏     | 1661/3979 [00:06<00:08, 270.15it/s]\u001b[A\n",
      " 43%|████▎     | 1692/3979 [00:06<00:08, 279.66it/s]\u001b[A\n",
      " 43%|████▎     | 1721/3979 [00:06<00:08, 280.47it/s]\u001b[A\n",
      " 44%|████▍     | 1750/3979 [00:06<00:08, 269.00it/s]\u001b[A\n",
      " 45%|████▍     | 1778/3979 [00:06<00:08, 269.40it/s]\u001b[A\n",
      " 45%|████▌     | 1806/3979 [00:06<00:08, 267.86it/s]\u001b[A\n",
      " 46%|████▌     | 1837/3979 [00:06<00:07, 278.27it/s]\u001b[A\n",
      " 47%|████▋     | 1871/3979 [00:06<00:07, 293.24it/s]\u001b[A\n",
      " 48%|████▊     | 1905/3979 [00:06<00:06, 302.23it/s]\u001b[A\n",
      " 49%|████▊     | 1936/3979 [00:07<00:06, 303.67it/s]\u001b[A\n",
      " 49%|████▉     | 1967/3979 [00:07<00:11, 179.61it/s]\u001b[A\n",
      " 50%|█████     | 2000/3979 [00:07<00:09, 206.83it/s]\u001b[A\n",
      " 51%|█████     | 2027/3979 [00:07<00:08, 221.96it/s]\u001b[A\n",
      " 52%|█████▏    | 2059/3979 [00:07<00:07, 242.71it/s]\u001b[A\n",
      " 52%|█████▏    | 2087/3979 [00:07<00:07, 245.61it/s]\u001b[A\n",
      " 53%|█████▎    | 2115/3979 [00:07<00:07, 253.88it/s]\u001b[A\n",
      " 54%|█████▍    | 2143/3979 [00:07<00:07, 249.97it/s]\u001b[A\n",
      " 55%|█████▍    | 2170/3979 [00:08<00:07, 253.07it/s]\u001b[A\n",
      " 55%|█████▌    | 2201/3979 [00:08<00:06, 267.24it/s]\u001b[A\n",
      " 56%|█████▌    | 2232/3979 [00:08<00:06, 276.51it/s]\u001b[A\n",
      " 57%|█████▋    | 2261/3979 [00:08<00:06, 276.38it/s]\u001b[A\n",
      " 58%|█████▊    | 2290/3979 [00:08<00:06, 262.77it/s]\u001b[A\n",
      " 58%|█████▊    | 2319/3979 [00:08<00:06, 269.38it/s]\u001b[A\n",
      " 59%|█████▉    | 2347/3979 [00:08<00:06, 262.43it/s]\u001b[A\n",
      " 60%|█████▉    | 2374/3979 [00:08<00:06, 257.29it/s]\u001b[A\n",
      " 60%|██████    | 2404/3979 [00:08<00:05, 266.73it/s]\u001b[A\n",
      " 61%|██████    | 2434/3979 [00:09<00:05, 272.83it/s]\u001b[A\n",
      " 62%|██████▏   | 2462/3979 [00:09<00:05, 265.63it/s]\u001b[A\n",
      " 63%|██████▎   | 2491/3979 [00:09<00:05, 271.14it/s]\u001b[A\n",
      " 63%|██████▎   | 2522/3979 [00:09<00:05, 280.20it/s]\u001b[A\n",
      " 64%|██████▍   | 2552/3979 [00:09<00:05, 282.91it/s]\u001b[A\n",
      " 65%|██████▍   | 2581/3979 [00:09<00:05, 276.65it/s]\u001b[A\n",
      " 66%|██████▌   | 2612/3979 [00:09<00:04, 285.40it/s]\u001b[A\n",
      " 66%|██████▋   | 2642/3979 [00:11<00:04, 289.41it/s]\u001b[A\n",
      " 67%|██████▋   | 2672/3979 [00:12<00:33, 39.33it/s] \u001b[A\n",
      " 68%|██████▊   | 2699/3979 [00:12<00:24, 52.84it/s]\u001b[A\n",
      " 69%|██████▊   | 2728/3979 [00:12<00:17, 69.85it/s]\u001b[A\n",
      " 69%|██████▉   | 2753/3979 [00:12<00:13, 88.91it/s]\u001b[A\n",
      " 70%|██████▉   | 2778/3979 [00:12<00:10, 109.64it/s]\u001b[A\n",
      " 70%|███████   | 2805/3979 [00:12<00:08, 133.06it/s]\u001b[A\n",
      " 71%|███████   | 2832/3979 [00:12<00:07, 156.71it/s]\u001b[A\n",
      " 72%|███████▏  | 2858/3979 [00:12<00:06, 177.14it/s]\u001b[A\n",
      " 73%|███████▎  | 2886/3979 [00:12<00:05, 197.71it/s]\u001b[A\n",
      " 73%|███████▎  | 2913/3979 [00:12<00:04, 214.47it/s]\u001b[A\n",
      " 74%|███████▍  | 2943/3979 [00:13<00:04, 234.43it/s]\u001b[A\n",
      " 75%|███████▍  | 2971/3979 [00:13<00:04, 239.55it/s]\u001b[A\n",
      " 75%|███████▌  | 3002/3979 [00:13<00:03, 256.04it/s]\u001b[A\n",
      " 76%|███████▌  | 3032/3979 [00:13<00:03, 263.75it/s]\u001b[A\n",
      " 77%|███████▋  | 3060/3979 [00:13<00:03, 267.51it/s]\u001b[A\n",
      " 78%|███████▊  | 3088/3979 [00:13<00:03, 267.62it/s]\u001b[A\n",
      " 78%|███████▊  | 3117/3979 [00:13<00:03, 272.88it/s]\u001b[A\n",
      " 79%|███████▉  | 3145/3979 [00:13<00:03, 265.94it/s]\u001b[A\n",
      " 80%|███████▉  | 3173/3979 [00:13<00:02, 269.02it/s]\u001b[A\n",
      " 80%|████████  | 3201/3979 [00:14<00:02, 268.44it/s]\u001b[A\n",
      " 81%|████████  | 3232/3979 [00:14<00:02, 277.31it/s]\u001b[A\n",
      " 82%|████████▏ | 3260/3979 [00:14<00:02, 272.00it/s]\u001b[A\n",
      " 83%|████████▎ | 3288/3979 [00:14<00:02, 263.37it/s]\u001b[A\n",
      " 83%|████████▎ | 3315/3979 [00:14<00:02, 260.73it/s]\u001b[A\n",
      " 84%|████████▍ | 3342/3979 [00:14<00:02, 256.22it/s]\u001b[A\n",
      " 85%|████████▍ | 3368/3979 [00:14<00:02, 254.94it/s]\u001b[A\n",
      " 85%|████████▌ | 3397/3979 [00:14<00:02, 262.25it/s]\u001b[A\n",
      " 86%|████████▌ | 3425/3979 [00:14<00:02, 265.15it/s]\u001b[A\n",
      " 87%|████████▋ | 3456/3979 [00:14<00:01, 274.70it/s]\u001b[A\n",
      " 88%|████████▊ | 3484/3979 [00:15<00:01, 270.51it/s]\u001b[A\n",
      " 88%|████████▊ | 3515/3979 [00:15<00:01, 281.19it/s]\u001b[A\n",
      " 89%|████████▉ | 3544/3979 [00:15<00:01, 280.44it/s]\u001b[A\n",
      " 90%|████████▉ | 3573/3979 [00:15<00:01, 263.13it/s]\u001b[A\n",
      " 91%|█████████ | 3606/3979 [00:15<00:01, 277.69it/s]\u001b[A\n",
      " 91%|█████████▏| 3635/3979 [00:15<00:01, 271.67it/s]\u001b[A\n",
      " 92%|█████████▏| 3665/3979 [00:15<00:01, 277.76it/s]\u001b[A\n",
      " 93%|█████████▎| 3714/3979 [00:15<00:00, 318.92it/s]\u001b[A\n",
      " 94%|█████████▍| 3756/3979 [00:15<00:00, 342.88it/s]\u001b[A\n",
      " 96%|█████████▌| 3809/3979 [00:16<00:00, 381.78it/s]\u001b[A\n",
      " 97%|█████████▋| 3851/3979 [00:16<00:00, 389.62it/s]\u001b[A\n",
      " 98%|█████████▊| 3897/3979 [00:16<00:00, 408.10it/s]\u001b[A\n",
      " 99%|█████████▉| 3946/3979 [00:16<00:00, 428.04it/s]\u001b[A\n",
      " 46%|████▌     | 6/13 [04:58<05:44, 49.17s/it]4it/s]\u001b[A"
     ]
    },
    {
     "name": "stdout",
     "output_type": "stream",
     "text": [
      "\n",
      "\n",
      "\n",
      "Roary_NoSplitParalogs_I90\n"
     ]
    },
    {
     "name": "stderr",
     "output_type": "stream",
     "text": [
      "\n",
      "  0%|          | 0/4015 [00:00<?, ?it/s]\u001b[A"
     ]
    },
    {
     "name": "stdout",
     "output_type": "stream",
     "text": [
      "4293  total records were parsed\n"
     ]
    },
    {
     "name": "stderr",
     "output_type": "stream",
     "text": [
      "\n",
      "  3%|▎         | 111/4015 [00:00<00:03, 1104.96it/s]\u001b[A\n",
      "  6%|▌         | 241/4015 [00:00<00:03, 1151.92it/s]\u001b[A\n",
      "  9%|▉         | 363/4015 [00:00<00:03, 1170.28it/s]\u001b[A\n",
      " 13%|█▎        | 509/4015 [00:00<00:02, 1244.00it/s]\u001b[A\n",
      " 16%|█▋        | 659/4015 [00:00<00:02, 1276.80it/s]\u001b[A\n",
      " 20%|██        | 813/4015 [00:00<00:02, 1343.91it/s]\u001b[A\n",
      " 24%|██▍       | 959/4015 [00:00<00:02, 1373.45it/s]\u001b[A\n",
      " 28%|██▊       | 1112/4015 [00:00<00:02, 1416.37it/s]\u001b[A\n",
      " 31%|███       | 1249/4015 [00:00<00:01, 1391.46it/s]\u001b[A\n",
      " 35%|███▍      | 1386/4015 [00:01<00:01, 1379.99it/s]\u001b[A\n",
      " 38%|███▊      | 1534/4015 [00:01<00:01, 1404.64it/s]\u001b[A\n",
      " 42%|████▏     | 1673/4015 [00:01<00:01, 1396.39it/s]\u001b[A\n",
      " 45%|████▌     | 1816/4015 [00:01<00:01, 1406.00it/s]\u001b[A\n",
      " 50%|████▉     | 1998/4015 [00:01<00:01, 1505.96it/s]\u001b[A\n",
      " 54%|█████▎    | 2151/4015 [00:01<00:01, 1511.28it/s]\u001b[A\n",
      " 57%|█████▋    | 2304/4015 [00:01<00:01, 1471.84it/s]\u001b[A\n",
      " 61%|██████    | 2453/4015 [00:01<00:01, 1439.01it/s]\u001b[A\n",
      " 65%|██████▌   | 2613/4015 [00:01<00:00, 1482.47it/s]\u001b[A\n",
      " 69%|██████▉   | 2763/4015 [00:02<00:01, 941.65it/s] \u001b[A\n",
      " 72%|███████▏  | 2883/4015 [00:02<00:01, 1004.88it/s]\u001b[A\n",
      " 76%|███████▌  | 3042/4015 [00:02<00:00, 1129.19it/s]\u001b[A\n",
      " 79%|███████▉  | 3174/4015 [00:02<00:00, 1173.50it/s]\u001b[A\n",
      " 83%|████████▎ | 3313/4015 [00:02<00:00, 1229.43it/s]\u001b[A\n",
      " 86%|████████▌ | 3462/4015 [00:02<00:00, 1297.34it/s]\u001b[A\n",
      " 90%|████████▉ | 3600/4015 [00:02<00:00, 1289.82it/s]\u001b[A\n",
      " 95%|█████████▌| 3832/4015 [00:02<00:00, 1487.92it/s]\u001b[A\n",
      "100%|██████████| 4015/4015 [00:02<00:00, 1385.32it/s]\u001b[A\n",
      "  0%|          | 0/4015 [00:00<?, ?it/s]\u001b[A\n",
      "  0%|          | 18/4015 [00:00<00:22, 174.59it/s]\u001b[A\n",
      "  1%|          | 44/4015 [00:00<00:20, 193.45it/s]\u001b[A\n",
      "  2%|▏         | 71/4015 [00:00<00:18, 211.20it/s]\u001b[A\n",
      "  2%|▏         | 96/4015 [00:00<00:17, 219.36it/s]\u001b[A\n",
      "  3%|▎         | 119/4015 [00:00<00:17, 221.51it/s]\u001b[A\n",
      "  4%|▎         | 144/4015 [00:00<00:16, 228.70it/s]\u001b[A\n",
      "  4%|▍         | 170/4015 [00:00<00:16, 234.56it/s]\u001b[A\n",
      "  5%|▍         | 195/4015 [00:00<00:16, 237.50it/s]\u001b[A\n",
      "  5%|▌         | 219/4015 [00:00<00:16, 235.65it/s]\u001b[A\n",
      "  6%|▌         | 244/4015 [00:01<00:15, 237.96it/s]\u001b[A\n",
      "  7%|▋         | 270/4015 [00:01<00:15, 243.93it/s]\u001b[A\n",
      "  7%|▋         | 297/4015 [00:01<00:14, 249.52it/s]\u001b[A\n",
      "  8%|▊         | 328/4015 [00:01<00:14, 263.25it/s]\u001b[A\n",
      "  9%|▉         | 355/4015 [00:01<00:14, 261.24it/s]\u001b[A\n",
      " 10%|▉         | 382/4015 [00:01<00:13, 262.86it/s]\u001b[A\n",
      " 10%|█         | 409/4015 [00:01<00:14, 257.36it/s]\u001b[A\n",
      " 11%|█         | 437/4015 [00:01<00:13, 262.72it/s]\u001b[A\n",
      " 12%|█▏        | 466/4015 [00:01<00:13, 268.95it/s]\u001b[A\n",
      " 12%|█▏        | 494/4015 [00:01<00:13, 270.75it/s]\u001b[A\n",
      " 13%|█▎        | 522/4015 [00:02<00:12, 270.27it/s]\u001b[A\n",
      " 14%|█▎        | 550/4015 [00:02<00:12, 272.25it/s]\u001b[A\n",
      " 14%|█▍        | 578/4015 [00:02<00:12, 267.75it/s]\u001b[A\n",
      " 15%|█▌        | 607/4015 [00:02<00:12, 273.67it/s]\u001b[A\n",
      " 16%|█▌        | 639/4015 [00:02<00:11, 284.05it/s]\u001b[A\n",
      " 17%|█▋        | 669/4015 [00:02<00:11, 287.77it/s]\u001b[A\n",
      " 17%|█▋        | 702/4015 [00:02<00:11, 298.74it/s]\u001b[A\n",
      " 18%|█▊        | 734/4015 [00:02<00:10, 303.22it/s]\u001b[A\n",
      " 19%|█▉        | 765/4015 [00:02<00:10, 295.70it/s]\u001b[A\n",
      " 20%|█▉        | 795/4015 [00:02<00:11, 288.55it/s]\u001b[A\n",
      " 21%|██        | 825/4015 [00:03<00:10, 290.91it/s]\u001b[A\n",
      " 21%|██▏       | 855/4015 [00:03<00:10, 291.92it/s]\u001b[A\n",
      " 22%|██▏       | 885/4015 [00:03<00:10, 288.09it/s]\u001b[A\n",
      " 23%|██▎       | 915/4015 [00:03<00:10, 289.86it/s]\u001b[A\n",
      " 24%|██▎       | 945/4015 [00:03<00:11, 275.53it/s]\u001b[A\n",
      " 24%|██▍       | 974/4015 [00:03<00:10, 278.86it/s]\u001b[A\n",
      " 25%|██▍       | 1003/4015 [00:03<00:11, 273.46it/s]\u001b[A\n",
      " 26%|██▌       | 1037/4015 [00:03<00:10, 289.06it/s]\u001b[A\n",
      " 27%|██▋       | 1067/4015 [00:03<00:10, 285.30it/s]\u001b[A\n",
      " 27%|██▋       | 1099/4015 [00:04<00:09, 293.19it/s]\u001b[A\n",
      " 28%|██▊       | 1129/4015 [00:04<00:09, 290.11it/s]\u001b[A\n",
      " 29%|██▉       | 1159/4015 [00:04<00:10, 279.85it/s]\u001b[A\n",
      " 30%|██▉       | 1188/4015 [00:04<00:10, 279.38it/s]\u001b[A\n",
      " 30%|███       | 1217/4015 [00:04<00:10, 277.63it/s]\u001b[A\n",
      " 31%|███       | 1245/4015 [00:04<00:10, 272.59it/s]\u001b[A\n",
      " 32%|███▏      | 1274/4015 [00:04<00:09, 276.57it/s]\u001b[A\n",
      " 32%|███▏      | 1302/4015 [00:04<00:09, 274.02it/s]\u001b[A\n",
      " 33%|███▎      | 1331/4015 [00:04<00:09, 277.25it/s]\u001b[A\n",
      " 34%|███▍      | 1359/4015 [00:04<00:09, 275.97it/s]\u001b[A\n",
      " 35%|███▍      | 1387/4015 [00:05<00:09, 273.97it/s]\u001b[A\n",
      " 35%|███▌      | 1415/4015 [00:05<00:09, 273.13it/s]\u001b[A\n",
      " 36%|███▌      | 1444/4015 [00:05<00:09, 275.73it/s]\u001b[A\n",
      " 37%|███▋      | 1473/4015 [00:05<00:09, 276.04it/s]\u001b[A\n",
      " 37%|███▋      | 1502/4015 [00:05<00:09, 277.92it/s]\u001b[A\n",
      " 38%|███▊      | 1534/4015 [00:05<00:08, 288.05it/s]\u001b[A\n",
      " 39%|███▉      | 1563/4015 [00:05<00:08, 282.73it/s]\u001b[A\n",
      " 40%|███▉      | 1592/4015 [00:05<00:08, 274.04it/s]\u001b[A\n",
      " 40%|████      | 1620/4015 [00:05<00:09, 265.77it/s]\u001b[A\n",
      " 41%|████      | 1649/4015 [00:06<00:08, 272.18it/s]\u001b[A\n",
      " 42%|████▏     | 1682/4015 [00:06<00:08, 286.95it/s]\u001b[A\n",
      " 43%|████▎     | 1712/4015 [00:06<00:08, 286.57it/s]\u001b[A\n",
      " 43%|████▎     | 1741/4015 [00:06<00:08, 282.05it/s]\u001b[A\n",
      " 44%|████▍     | 1770/4015 [00:06<00:07, 282.01it/s]\u001b[A\n",
      " 45%|████▍     | 1799/4015 [00:06<00:07, 280.40it/s]\u001b[A\n",
      " 46%|████▌     | 1833/4015 [00:06<00:07, 294.32it/s]\u001b[A\n",
      " 46%|████▋     | 1863/4015 [00:06<00:07, 293.61it/s]\u001b[A\n",
      " 47%|████▋     | 1902/4015 [00:06<00:06, 316.05it/s]\u001b[A\n",
      " 48%|████▊     | 1935/4015 [00:06<00:06, 315.71it/s]\u001b[A\n",
      " 49%|████▉     | 1967/4015 [00:07<00:06, 310.11it/s]\u001b[A\n",
      " 50%|████▉     | 1999/4015 [00:07<00:06, 299.50it/s]\u001b[A\n",
      " 51%|█████     | 2030/4015 [00:07<00:06, 294.76it/s]\u001b[A\n",
      " 51%|█████▏    | 2060/4015 [00:07<00:06, 292.89it/s]\u001b[A\n",
      " 52%|█████▏    | 2090/4015 [00:07<00:06, 289.57it/s]\u001b[A\n",
      " 53%|█████▎    | 2120/4015 [00:07<00:06, 286.22it/s]\u001b[A\n",
      " 54%|█████▎    | 2149/4015 [00:07<00:06, 275.04it/s]\u001b[A\n",
      " 54%|█████▍    | 2177/4015 [00:07<00:06, 271.61it/s]\u001b[A\n",
      " 55%|█████▍    | 2207/4015 [00:07<00:06, 278.39it/s]\u001b[A\n",
      " 56%|█████▌    | 2238/4015 [00:08<00:06, 285.29it/s]\u001b[A\n",
      " 56%|█████▋    | 2267/4015 [00:08<00:06, 284.05it/s]\u001b[A\n",
      " 57%|█████▋    | 2296/4015 [00:08<00:06, 267.71it/s]\u001b[A\n",
      " 58%|█████▊    | 2324/4015 [00:08<00:06, 271.12it/s]\u001b[A\n",
      " 59%|█████▊    | 2352/4015 [00:08<00:06, 265.99it/s]\u001b[A\n",
      " 59%|█████▉    | 2379/4015 [00:08<00:06, 261.73it/s]\u001b[A\n",
      " 60%|█████▉    | 2407/4015 [00:08<00:06, 265.58it/s]\u001b[A\n",
      " 61%|██████    | 2439/4015 [00:08<00:05, 279.84it/s]\u001b[A\n",
      " 61%|██████▏   | 2468/4015 [00:08<00:05, 263.94it/s]\u001b[A\n",
      " 62%|██████▏   | 2498/4015 [00:09<00:05, 272.85it/s]\u001b[A\n",
      " 63%|██████▎   | 2529/4015 [00:09<00:05, 281.94it/s]\u001b[A\n",
      " 64%|██████▎   | 2559/4015 [00:09<00:05, 286.15it/s]\u001b[A\n",
      " 64%|██████▍   | 2588/4015 [00:09<00:05, 279.81it/s]\u001b[A\n",
      " 65%|██████▌   | 2618/4015 [00:09<00:04, 285.31it/s]\u001b[A\n",
      " 66%|██████▌   | 2647/4015 [00:09<00:04, 285.92it/s]\u001b[A\n",
      " 67%|██████▋   | 2676/4015 [00:09<00:04, 286.58it/s]\u001b[A\n",
      " 67%|██████▋   | 2705/4015 [00:09<00:04, 277.27it/s]\u001b[A\n",
      " 68%|██████▊   | 2733/4015 [00:09<00:04, 274.06it/s]\u001b[A\n",
      " 69%|██████▉   | 2761/4015 [00:09<00:04, 271.31it/s]\u001b[A\n",
      " 69%|██████▉   | 2789/4015 [00:10<00:04, 254.96it/s]\u001b[A\n",
      " 70%|███████   | 2816/4015 [00:10<00:04, 257.26it/s]\u001b[A\n",
      " 71%|███████   | 2843/4015 [00:10<00:04, 257.58it/s]\u001b[A\n",
      " 71%|███████▏  | 2870/4015 [00:10<00:04, 260.31it/s]\u001b[A\n",
      " 72%|███████▏  | 2898/4015 [00:10<00:04, 265.50it/s]\u001b[A\n",
      " 73%|███████▎  | 2925/4015 [00:10<00:04, 261.17it/s]\u001b[A\n",
      " 74%|███████▎  | 2956/4015 [00:10<00:03, 272.37it/s]\u001b[A\n",
      " 74%|███████▍  | 2984/4015 [00:10<00:03, 264.15it/s]\u001b[A\n",
      " 75%|███████▌  | 3014/4015 [00:10<00:03, 272.79it/s]\u001b[A\n",
      " 76%|███████▌  | 3043/4015 [00:11<00:03, 276.45it/s]\u001b[A\n",
      " 76%|███████▋  | 3071/4015 [00:11<00:03, 269.42it/s]\u001b[A\n",
      " 77%|███████▋  | 3099/4015 [00:11<00:03, 268.60it/s]\u001b[A\n",
      " 78%|███████▊  | 3126/4015 [00:11<00:03, 261.58it/s]\u001b[A\n",
      " 79%|███████▊  | 3153/4015 [00:11<00:03, 259.93it/s]\u001b[A\n",
      " 79%|███████▉  | 3184/4015 [00:11<00:03, 272.32it/s]\u001b[A\n",
      " 80%|████████  | 3212/4015 [00:11<00:02, 270.16it/s]\u001b[A\n",
      " 81%|████████  | 3243/4015 [00:11<00:02, 278.10it/s]\u001b[A\n",
      " 82%|████████▏ | 3273/4015 [00:11<00:02, 279.66it/s]\u001b[A\n",
      " 82%|████████▏ | 3302/4015 [00:11<00:02, 268.76it/s]\u001b[A\n",
      " 83%|████████▎ | 3330/4015 [00:12<00:02, 264.93it/s]\u001b[A\n",
      " 84%|████████▎ | 3357/4015 [00:12<00:02, 261.08it/s]\u001b[A\n",
      " 84%|████████▍ | 3384/4015 [00:12<00:02, 256.25it/s]\u001b[A\n",
      " 85%|████████▌ | 3413/4015 [00:12<00:02, 265.19it/s]\u001b[A\n",
      " 86%|████████▌ | 3443/4015 [00:12<00:02, 272.73it/s]\u001b[A\n",
      " 87%|████████▋ | 3474/4015 [00:12<00:01, 282.59it/s]\u001b[A\n",
      " 87%|████████▋ | 3503/4015 [00:12<00:01, 278.80it/s]\u001b[A\n",
      " 88%|████████▊ | 3533/4015 [00:12<00:01, 283.25it/s]\u001b[A\n",
      " 89%|████████▊ | 3562/4015 [00:12<00:01, 284.28it/s]\u001b[A\n",
      " 89%|████████▉ | 3591/4015 [00:13<00:01, 264.03it/s]\u001b[A\n",
      " 90%|█████████ | 3622/4015 [00:13<00:01, 275.61it/s]\u001b[A\n",
      " 91%|█████████ | 3650/4015 [00:13<00:01, 269.95it/s]\u001b[A\n",
      " 92%|█████████▏| 3679/4015 [00:13<00:01, 273.17it/s]\u001b[A\n",
      " 93%|█████████▎| 3720/4015 [00:13<00:00, 301.75it/s]\u001b[A\n",
      " 94%|█████████▍| 3766/4015 [00:13<00:00, 335.50it/s]\u001b[A\n",
      " 95%|█████████▌| 3816/4015 [00:13<00:00, 371.50it/s]\u001b[A\n",
      " 96%|█████████▌| 3860/4015 [00:13<00:00, 388.70it/s]\u001b[A\n",
      " 97%|█████████▋| 3907/4015 [00:13<00:00, 409.46it/s]\u001b[A\n",
      " 98%|█████████▊| 3950/4015 [00:13<00:00, 415.36it/s]\u001b[A\n",
      "100%|█████████▉| 4002/4015 [00:14<00:00, 441.83it/s]\u001b[A\n",
      " 54%|█████▍    | 7/13 [05:43<04:48, 48.01s/it]6it/s]\u001b[A"
     ]
    },
    {
     "name": "stdout",
     "output_type": "stream",
     "text": [
      "\n",
      "\n",
      "\n",
      "SR_Panaroo_Strict_MP\n",
      "4211  total records were parsed\n"
     ]
    },
    {
     "name": "stderr",
     "output_type": "stream",
     "text": [
      "\n",
      "  0%|          | 0/4211 [00:00<?, ?it/s]\u001b[A\n",
      "  3%|▎         | 128/4211 [00:00<00:03, 1279.64it/s]\u001b[A\n",
      "  7%|▋         | 315/4211 [00:00<00:02, 1413.06it/s]\u001b[A\n",
      " 11%|█▏        | 482/4211 [00:00<00:02, 1481.34it/s]\u001b[A\n",
      " 15%|█▌        | 643/4211 [00:00<00:02, 1515.29it/s]\u001b[A\n",
      " 19%|█▉        | 799/4211 [00:00<00:02, 1526.82it/s]\u001b[A\n",
      " 23%|██▎       | 964/4211 [00:00<00:02, 1561.31it/s]\u001b[A\n",
      " 27%|██▋       | 1150/4211 [00:00<00:01, 1639.66it/s]\u001b[A\n",
      " 31%|███       | 1306/4211 [00:00<00:01, 1596.56it/s]\u001b[A\n",
      " 35%|███▌      | 1477/4211 [00:00<00:01, 1627.38it/s]\u001b[A\n",
      " 40%|███▉      | 1676/4211 [00:01<00:01, 1720.31it/s]\u001b[A\n",
      " 44%|████▍     | 1847/4211 [00:01<00:01, 1663.37it/s]\u001b[A\n",
      " 48%|████▊     | 2013/4211 [00:01<00:01, 1652.78it/s]\u001b[A\n",
      " 52%|█████▏    | 2201/4211 [00:01<00:01, 1712.63it/s]\u001b[A\n",
      " 58%|█████▊    | 2453/4211 [00:01<00:00, 1892.97it/s]\u001b[A\n",
      " 63%|██████▎   | 2649/4211 [00:01<00:00, 1765.38it/s]\u001b[A\n",
      " 67%|██████▋   | 2832/4211 [00:01<00:00, 1706.02it/s]\u001b[A\n",
      " 71%|███████▏  | 3008/4211 [00:01<00:00, 1626.99it/s]\u001b[A\n",
      " 75%|███████▌  | 3175/4211 [00:01<00:00, 1573.39it/s]\u001b[A\n",
      " 79%|███████▉  | 3336/4211 [00:02<00:00, 1526.10it/s]\u001b[A\n",
      " 83%|████████▎ | 3492/4211 [00:02<00:00, 1464.34it/s]\u001b[A\n",
      " 86%|████████▋ | 3641/4211 [00:02<00:00, 1264.99it/s]\u001b[A\n",
      " 90%|████████▉ | 3774/4211 [00:02<00:00, 1212.92it/s]\u001b[A\n",
      " 93%|█████████▎| 3901/4211 [00:02<00:00, 1074.50it/s]\u001b[A\n",
      " 95%|█████████▌| 4015/4211 [00:02<00:00, 990.16it/s] \u001b[A\n",
      " 98%|█████████▊| 4120/4211 [00:02<00:00, 944.81it/s]\u001b[A\n",
      "100%|██████████| 4211/4211 [00:02<00:00, 1440.03it/s]\u001b[A\n",
      "  0%|          | 0/4211 [00:00<?, ?it/s]\u001b[A\n",
      "  1%|          | 29/4211 [00:00<00:14, 283.60it/s]\u001b[A\n",
      "  1%|▏         | 62/4211 [00:00<00:14, 295.04it/s]\u001b[A\n",
      "  2%|▏         | 94/4211 [00:00<00:13, 299.12it/s]\u001b[A\n",
      "  3%|▎         | 122/4211 [00:00<00:13, 292.68it/s]\u001b[A\n",
      "  4%|▎         | 150/4211 [00:00<00:14, 288.35it/s]\u001b[A\n",
      "  4%|▍         | 179/4211 [00:00<00:13, 288.83it/s]\u001b[A\n",
      "  5%|▌         | 212/4211 [00:00<00:13, 297.21it/s]\u001b[A\n",
      "  6%|▌         | 243/4211 [00:00<00:13, 299.23it/s]\u001b[A\n",
      "  7%|▋         | 274/4211 [00:00<00:13, 300.67it/s]\u001b[A\n",
      "  7%|▋         | 303/4211 [00:01<00:13, 293.06it/s]\u001b[A\n",
      "  8%|▊         | 335/4211 [00:01<00:12, 299.13it/s]\u001b[A\n",
      "  9%|▊         | 365/4211 [00:01<00:13, 290.01it/s]\u001b[A\n",
      "  9%|▉         | 394/4211 [00:01<00:13, 285.01it/s]\u001b[A\n",
      " 10%|█         | 423/4211 [00:01<00:13, 285.26it/s]\u001b[A\n",
      " 11%|█         | 456/4211 [00:01<00:12, 295.14it/s]\u001b[A\n",
      " 12%|█▏        | 487/4211 [00:01<00:12, 298.88it/s]\u001b[A\n",
      " 12%|█▏        | 517/4211 [00:01<00:12, 297.98it/s]\u001b[A\n",
      " 13%|█▎        | 547/4211 [00:01<00:12, 289.89it/s]\u001b[A\n",
      " 14%|█▎        | 577/4211 [00:01<00:12, 290.99it/s]\u001b[A\n",
      " 15%|█▍        | 611/4211 [00:02<00:11, 303.94it/s]\u001b[A\n",
      " 15%|█▌        | 642/4211 [00:02<00:12, 296.33it/s]\u001b[A\n",
      " 16%|█▌        | 672/4211 [00:02<00:11, 295.47it/s]\u001b[A\n",
      " 17%|█▋        | 702/4211 [00:02<00:11, 295.43it/s]\u001b[A\n",
      " 17%|█▋        | 732/4211 [00:02<00:11, 295.83it/s]\u001b[A\n",
      " 18%|█▊        | 762/4211 [00:02<00:11, 295.81it/s]\u001b[A\n",
      " 19%|█▉        | 792/4211 [00:02<00:11, 292.33it/s]\u001b[A\n",
      " 20%|█▉        | 822/4211 [00:02<00:11, 286.15it/s]\u001b[A\n",
      " 20%|██        | 857/4211 [00:02<00:11, 301.62it/s]\u001b[A\n",
      " 21%|██        | 888/4211 [00:03<00:11, 297.13it/s]\u001b[A\n",
      " 22%|██▏       | 918/4211 [00:03<00:11, 288.83it/s]\u001b[A\n",
      " 23%|██▎       | 948/4211 [00:03<00:11, 288.31it/s]\u001b[A\n",
      " 23%|██▎       | 979/4211 [00:03<00:10, 293.92it/s]\u001b[A\n",
      " 24%|██▍       | 1015/4211 [00:03<00:10, 310.90it/s]\u001b[A\n",
      " 25%|██▍       | 1048/4211 [00:03<00:10, 315.84it/s]\u001b[A\n",
      " 26%|██▌       | 1081/4211 [00:03<00:09, 318.76it/s]\u001b[A\n",
      " 26%|██▋       | 1114/4211 [00:03<00:09, 319.14it/s]\u001b[A\n",
      " 27%|██▋       | 1147/4211 [00:03<00:09, 311.47it/s]\u001b[A\n",
      " 28%|██▊       | 1179/4211 [00:03<00:10, 295.00it/s]\u001b[A\n",
      " 29%|██▊       | 1209/4211 [00:04<00:10, 283.43it/s]\u001b[A\n",
      " 29%|██▉       | 1239/4211 [00:04<00:10, 285.83it/s]\u001b[A\n",
      " 30%|███       | 1268/4211 [00:04<00:11, 266.70it/s]\u001b[A\n",
      " 31%|███       | 1296/4211 [00:04<00:10, 269.79it/s]\u001b[A\n",
      " 32%|███▏      | 1328/4211 [00:04<00:10, 280.97it/s]\u001b[A\n",
      " 32%|███▏      | 1358/4211 [00:04<00:09, 285.46it/s]\u001b[A\n",
      " 33%|███▎      | 1388/4211 [00:04<00:09, 288.20it/s]\u001b[A\n",
      " 34%|███▎      | 1417/4211 [00:04<00:10, 275.81it/s]\u001b[A\n",
      " 34%|███▍      | 1445/4211 [00:04<00:10, 276.15it/s]\u001b[A\n",
      " 35%|███▌      | 1474/4211 [00:05<00:09, 278.66it/s]\u001b[A\n",
      " 36%|███▌      | 1502/4211 [00:05<00:09, 273.36it/s]\u001b[A\n",
      " 36%|███▋      | 1531/4211 [00:05<00:09, 276.39it/s]\u001b[A\n",
      " 37%|███▋      | 1562/4211 [00:05<00:09, 282.90it/s]\u001b[A\n",
      " 38%|███▊      | 1602/4211 [00:05<00:08, 308.95it/s]\u001b[A\n",
      " 39%|███▉      | 1636/4211 [00:05<00:08, 314.68it/s]\u001b[A\n",
      " 40%|███▉      | 1669/4211 [00:05<00:08, 295.15it/s]\u001b[A\n",
      " 40%|████      | 1700/4211 [00:05<00:08, 289.56it/s]\u001b[A\n",
      " 41%|████      | 1730/4211 [00:05<00:08, 279.72it/s]\u001b[A\n",
      " 42%|████▏     | 1759/4211 [00:06<00:09, 263.93it/s]\u001b[A\n",
      " 42%|████▏     | 1787/4211 [00:06<00:09, 265.94it/s]\u001b[A\n",
      " 43%|████▎     | 1815/4211 [00:06<00:08, 269.02it/s]\u001b[A\n",
      " 44%|████▍     | 1849/4211 [00:06<00:08, 284.28it/s]\u001b[A\n",
      " 45%|████▍     | 1878/4211 [00:06<00:08, 283.44it/s]\u001b[A\n",
      " 45%|████▌     | 1907/4211 [00:06<00:08, 284.26it/s]\u001b[A\n",
      " 46%|████▌     | 1937/4211 [00:06<00:07, 287.25it/s]\u001b[A\n",
      " 47%|████▋     | 1969/4211 [00:06<00:07, 294.21it/s]\u001b[A\n",
      " 47%|████▋     | 1999/4211 [00:06<00:07, 295.68it/s]\u001b[A\n",
      " 48%|████▊     | 2031/4211 [00:06<00:07, 299.92it/s]\u001b[A\n",
      " 49%|████▉     | 2065/4211 [00:07<00:06, 310.25it/s]\u001b[A\n",
      " 50%|████▉     | 2099/4211 [00:07<00:06, 318.61it/s]\u001b[A\n",
      " 51%|█████     | 2132/4211 [00:07<00:06, 312.86it/s]\u001b[A\n",
      " 51%|█████▏    | 2167/4211 [00:07<00:06, 320.30it/s]\u001b[A\n",
      " 52%|█████▏    | 2200/4211 [00:07<00:06, 313.12it/s]\u001b[A\n",
      " 53%|█████▎    | 2232/4211 [00:07<00:06, 303.63it/s]\u001b[A\n",
      " 54%|█████▍    | 2265/4211 [00:07<00:06, 308.16it/s]\u001b[A\n",
      " 55%|█████▍    | 2298/4211 [00:07<00:06, 314.12it/s]\u001b[A\n",
      " 56%|█████▌    | 2339/4211 [00:07<00:05, 336.97it/s]\u001b[A\n",
      " 57%|█████▋    | 2385/4211 [00:07<00:04, 365.47it/s]\u001b[A\n",
      " 58%|█████▊    | 2423/4211 [00:08<00:04, 367.48it/s]\u001b[A\n",
      " 58%|█████▊    | 2461/4211 [00:08<00:04, 371.01it/s]\u001b[A\n",
      " 59%|█████▉    | 2499/4211 [00:08<00:04, 346.46it/s]\u001b[A\n",
      " 60%|██████    | 2535/4211 [00:08<00:05, 318.10it/s]\u001b[A\n",
      " 61%|██████    | 2568/4211 [00:08<00:05, 304.88it/s]\u001b[A\n",
      " 62%|██████▏   | 2600/4211 [00:08<00:05, 295.79it/s]\u001b[A\n",
      " 62%|██████▏   | 2631/4211 [00:08<00:05, 287.87it/s]\u001b[A\n",
      " 63%|██████▎   | 2661/4211 [00:08<00:05, 287.85it/s]\u001b[A\n",
      " 64%|██████▍   | 2691/4211 [00:09<00:05, 286.10it/s]\u001b[A\n",
      " 65%|██████▍   | 2720/4211 [00:09<00:05, 278.81it/s]\u001b[A\n",
      " 65%|██████▌   | 2749/4211 [00:09<00:05, 279.52it/s]\u001b[A\n",
      " 66%|██████▌   | 2778/4211 [00:09<00:05, 280.92it/s]\u001b[A\n",
      " 67%|██████▋   | 2807/4211 [00:09<00:05, 279.29it/s]\u001b[A\n",
      " 67%|██████▋   | 2836/4211 [00:09<00:04, 280.82it/s]\u001b[A\n",
      " 68%|██████▊   | 2865/4211 [00:09<00:04, 275.97it/s]\u001b[A\n",
      " 69%|██████▊   | 2893/4211 [00:09<00:04, 267.46it/s]\u001b[A\n",
      " 69%|██████▉   | 2920/4211 [00:09<00:04, 268.20it/s]\u001b[A\n",
      " 70%|██████▉   | 2947/4211 [00:09<00:04, 266.34it/s]\u001b[A\n",
      " 71%|███████   | 2974/4211 [00:10<00:04, 264.91it/s]\u001b[A\n",
      " 71%|███████▏  | 3002/4211 [00:10<00:04, 267.28it/s]\u001b[A\n",
      " 72%|███████▏  | 3032/4211 [00:10<00:04, 273.12it/s]\u001b[A\n",
      " 73%|███████▎  | 3060/4211 [00:10<00:04, 268.72it/s]\u001b[A\n",
      " 73%|███████▎  | 3088/4211 [00:10<00:04, 270.98it/s]\u001b[A\n",
      " 74%|███████▍  | 3116/4211 [00:10<00:04, 267.71it/s]\u001b[A\n",
      " 75%|███████▍  | 3143/4211 [00:10<00:04, 265.27it/s]\u001b[A\n",
      " 75%|███████▌  | 3172/4211 [00:10<00:03, 270.15it/s]\u001b[A\n",
      " 76%|███████▌  | 3200/4211 [00:10<00:03, 267.90it/s]\u001b[A\n",
      " 77%|███████▋  | 3227/4211 [00:11<00:03, 261.34it/s]\u001b[A\n",
      " 77%|███████▋  | 3256/4211 [00:11<00:03, 266.92it/s]\u001b[A\n",
      " 78%|███████▊  | 3283/4211 [00:11<00:03, 261.09it/s]\u001b[A\n",
      " 79%|███████▊  | 3310/4211 [00:11<00:03, 262.37it/s]\u001b[A\n",
      " 79%|███████▉  | 3337/4211 [00:11<00:03, 260.14it/s]\u001b[A\n",
      " 80%|███████▉  | 3364/4211 [00:11<00:04, 209.52it/s]\u001b[A\n",
      " 81%|████████  | 3393/4211 [00:11<00:03, 227.66it/s]\u001b[A\n",
      " 81%|████████▏ | 3422/4211 [00:11<00:03, 241.32it/s]\u001b[A\n",
      " 82%|████████▏ | 3448/4211 [00:11<00:03, 243.18it/s]\u001b[A\n",
      " 82%|████████▏ | 3474/4211 [00:12<00:03, 243.22it/s]\u001b[A\n",
      " 83%|████████▎ | 3500/4211 [00:12<00:02, 246.96it/s]\u001b[A\n",
      " 84%|████████▍ | 3527/4211 [00:12<00:02, 251.53it/s]\u001b[A\n",
      " 84%|████████▍ | 3553/4211 [00:12<00:02, 232.52it/s]\u001b[A\n",
      " 85%|████████▍ | 3577/4211 [00:12<00:02, 219.94it/s]\u001b[A\n",
      " 85%|████████▌ | 3600/4211 [00:12<00:02, 218.40it/s]\u001b[A\n",
      " 86%|████████▌ | 3624/4211 [00:12<00:02, 220.92it/s]\u001b[A\n",
      " 87%|████████▋ | 3647/4211 [00:12<00:02, 223.26it/s]\u001b[A\n",
      " 87%|████████▋ | 3670/4211 [00:12<00:02, 224.91it/s]\u001b[A\n",
      " 88%|████████▊ | 3693/4211 [00:13<00:02, 222.06it/s]\u001b[A\n",
      " 88%|████████▊ | 3717/4211 [00:13<00:02, 225.41it/s]\u001b[A\n",
      " 89%|████████▉ | 3740/4211 [00:13<00:02, 218.61it/s]\u001b[A\n",
      " 89%|████████▉ | 3764/4211 [00:13<00:01, 224.01it/s]\u001b[A\n",
      " 90%|████████▉ | 3788/4211 [00:13<00:01, 226.71it/s]\u001b[A\n",
      " 91%|█████████ | 3812/4211 [00:13<00:01, 229.41it/s]\u001b[A\n",
      " 91%|█████████ | 3836/4211 [00:13<00:01, 226.03it/s]\u001b[A\n",
      " 92%|█████████▏| 3859/4211 [00:13<00:01, 225.78it/s]\u001b[A\n",
      " 92%|█████████▏| 3882/4211 [00:13<00:01, 218.25it/s]\u001b[A\n",
      " 93%|█████████▎| 3904/4211 [00:13<00:01, 208.07it/s]\u001b[A\n",
      " 93%|█████████▎| 3925/4211 [00:14<00:01, 202.83it/s]\u001b[A\n",
      " 94%|█████████▎| 3947/4211 [00:14<00:01, 206.20it/s]\u001b[A\n",
      " 94%|█████████▍| 3968/4211 [00:14<00:01, 204.44it/s]\u001b[A\n",
      " 95%|█████████▍| 3992/4211 [00:14<00:01, 212.60it/s]\u001b[A\n",
      " 95%|█████████▌| 4017/4211 [00:14<00:00, 221.88it/s]\u001b[A\n",
      " 96%|█████████▌| 4041/4211 [00:14<00:00, 225.11it/s]\u001b[A\n",
      " 97%|█████████▋| 4064/4211 [00:14<00:00, 223.92it/s]\u001b[A\n",
      " 97%|█████████▋| 4087/4211 [00:14<00:00, 216.81it/s]\u001b[A\n",
      " 98%|█████████▊| 4109/4211 [00:14<00:00, 214.61it/s]\u001b[A\n",
      " 98%|█████████▊| 4135/4211 [00:15<00:00, 226.25it/s]\u001b[A\n",
      " 99%|█████████▊| 4158/4211 [00:15<00:00, 225.81it/s]\u001b[A\n",
      " 99%|█████████▉| 4181/4211 [00:15<00:00, 217.03it/s]\u001b[A\n",
      "100%|█████████▉| 4204/4211 [00:15<00:00, 220.20it/s]\u001b[A\n",
      " 62%|██████▏   | 8/13 [06:32<04:00, 48.19s/it]3it/s]\u001b[A"
     ]
    },
    {
     "name": "stdout",
     "output_type": "stream",
     "text": [
      "\n",
      "\n",
      "\n",
      "SR_Panaroo_Sens_MP\n",
      "4600  total records were parsed\n"
     ]
    },
    {
     "name": "stderr",
     "output_type": "stream",
     "text": [
      "\n",
      "  0%|          | 0/4600 [00:00<?, ?it/s]\u001b[A\n",
      "  2%|▏         | 114/4600 [00:00<00:03, 1136.87it/s]\u001b[A\n",
      "  6%|▋         | 288/4600 [00:00<00:03, 1268.36it/s]\u001b[A\n",
      " 10%|▉         | 456/4600 [00:00<00:03, 1367.58it/s]\u001b[A\n",
      " 14%|█▎        | 621/4600 [00:00<00:02, 1437.78it/s]\u001b[A\n",
      " 16%|█▌        | 743/4600 [00:00<00:03, 1268.74it/s]\u001b[A\n",
      " 20%|█▉        | 909/4600 [00:00<00:02, 1363.96it/s]\u001b[A\n",
      " 24%|██▎       | 1091/4600 [00:00<00:02, 1472.83it/s]\u001b[A\n",
      " 27%|██▋       | 1251/4600 [00:00<00:02, 1502.67it/s]\u001b[A\n",
      " 31%|███       | 1417/4600 [00:00<00:02, 1541.62it/s]\u001b[A\n",
      " 35%|███▌      | 1613/4600 [00:01<00:01, 1646.98it/s]\u001b[A\n",
      " 39%|███▊      | 1780/4600 [00:01<00:01, 1615.97it/s]\u001b[A\n",
      " 42%|████▏     | 1954/4600 [00:01<00:01, 1650.76it/s]\u001b[A\n",
      " 46%|████▌     | 2121/4600 [00:01<00:01, 1642.89it/s]\u001b[A\n",
      " 50%|█████     | 2313/4600 [00:01<00:01, 1715.75it/s]\u001b[A\n",
      " 56%|█████▌    | 2570/4600 [00:01<00:01, 1899.36it/s]\u001b[A\n",
      " 60%|██████    | 2767/4600 [00:01<00:00, 1885.40it/s]\u001b[A\n",
      " 64%|██████▍   | 2961/4600 [00:01<00:00, 1783.87it/s]\u001b[A\n",
      " 68%|██████▊   | 3144/4600 [00:01<00:00, 1714.89it/s]\u001b[A\n",
      " 72%|███████▏  | 3320/4600 [00:02<00:00, 1636.01it/s]\u001b[A\n",
      " 76%|███████▌  | 3488/4600 [00:02<00:01, 932.12it/s] \u001b[A\n",
      " 79%|███████▉  | 3626/4600 [00:02<00:00, 1032.37it/s]\u001b[A\n",
      " 82%|████████▏ | 3764/4600 [00:02<00:00, 1115.51it/s]\u001b[A\n",
      " 85%|████████▍ | 3899/4600 [00:02<00:00, 1166.47it/s]\u001b[A\n",
      " 88%|████████▊ | 4033/4600 [00:02<00:00, 1065.66it/s]\u001b[A\n",
      " 90%|█████████ | 4153/4600 [00:02<00:00, 1072.38it/s]\u001b[A\n",
      " 93%|█████████▎| 4270/4600 [00:03<00:00, 986.94it/s] \u001b[A\n",
      " 95%|█████████▌| 4377/4600 [00:03<00:00, 929.66it/s]\u001b[A\n",
      " 97%|█████████▋| 4477/4600 [00:03<00:00, 902.41it/s]\u001b[A\n",
      " 99%|█████████▉| 4572/4600 [00:03<00:00, 888.70it/s]\u001b[A\n",
      "100%|██████████| 4600/4600 [00:03<00:00, 1326.87it/s]\u001b[A\n",
      "  0%|          | 0/4600 [00:00<?, ?it/s]\u001b[A\n",
      "  1%|          | 29/4600 [00:00<00:16, 279.14it/s]\u001b[A\n",
      "  1%|▏         | 62/4600 [00:00<00:15, 289.99it/s]\u001b[A\n",
      "  2%|▏         | 93/4600 [00:00<00:15, 293.19it/s]\u001b[A\n",
      "  3%|▎         | 122/4600 [00:00<00:15, 288.67it/s]\u001b[A\n",
      "  3%|▎         | 151/4600 [00:00<00:15, 285.57it/s]\u001b[A\n",
      "  4%|▍         | 180/4600 [00:00<00:15, 286.31it/s]\u001b[A\n",
      "  5%|▍         | 212/4600 [00:00<00:14, 294.47it/s]\u001b[A\n",
      "  5%|▌         | 243/4600 [00:00<00:14, 298.96it/s]\u001b[A\n",
      "  6%|▌         | 274/4600 [00:00<00:14, 301.28it/s]\u001b[A\n",
      "  7%|▋         | 304/4600 [00:01<00:14, 292.19it/s]\u001b[A\n",
      "  7%|▋         | 335/4600 [00:01<00:14, 296.62it/s]\u001b[A\n",
      "  8%|▊         | 365/4600 [00:01<00:14, 287.78it/s]\u001b[A\n",
      "  9%|▊         | 394/4600 [00:01<00:14, 283.47it/s]\u001b[A\n",
      "  9%|▉         | 423/4600 [00:01<00:14, 283.65it/s]\u001b[A\n",
      " 10%|▉         | 456/4600 [00:01<00:14, 295.91it/s]\u001b[A\n",
      " 11%|█         | 486/4600 [00:01<00:13, 295.63it/s]\u001b[A\n",
      " 11%|█         | 516/4600 [00:01<00:13, 294.42it/s]\u001b[A\n",
      " 12%|█▏        | 546/4600 [00:01<00:14, 281.63it/s]\u001b[A\n",
      " 12%|█▎        | 575/4600 [00:01<00:14, 281.79it/s]\u001b[A\n",
      " 13%|█▎        | 608/4600 [00:02<00:13, 292.58it/s]\u001b[A\n",
      " 14%|█▍        | 638/4600 [00:02<00:13, 291.17it/s]\u001b[A\n",
      " 15%|█▍        | 668/4600 [00:02<00:13, 285.36it/s]\u001b[A\n",
      " 15%|█▌        | 698/4600 [00:02<00:13, 288.79it/s]\u001b[A\n",
      " 16%|█▌        | 730/4600 [00:02<00:13, 296.05it/s]\u001b[A\n",
      " 17%|█▋        | 760/4600 [00:02<00:13, 294.19it/s]\u001b[A\n",
      " 17%|█▋        | 790/4600 [00:02<00:13, 287.58it/s]\u001b[A\n",
      " 18%|█▊        | 820/4600 [00:02<00:13, 289.67it/s]\u001b[A\n",
      " 19%|█▊        | 855/4600 [00:02<00:12, 303.05it/s]\u001b[A\n",
      " 19%|█▉        | 886/4600 [00:03<00:12, 299.31it/s]\u001b[A\n",
      " 20%|█▉        | 917/4600 [00:03<00:12, 296.16it/s]\u001b[A\n",
      " 21%|██        | 947/4600 [00:03<00:12, 292.38it/s]\u001b[A\n",
      " 21%|██▏       | 978/4600 [00:03<00:12, 296.80it/s]\u001b[A\n",
      " 22%|██▏       | 1014/4600 [00:03<00:11, 313.23it/s]\u001b[A\n",
      " 23%|██▎       | 1047/4600 [00:03<00:11, 317.06it/s]\u001b[A\n",
      " 23%|██▎       | 1079/4600 [00:03<00:11, 317.25it/s]\u001b[A\n",
      " 24%|██▍       | 1111/4600 [00:03<00:11, 317.09it/s]\u001b[A\n",
      " 25%|██▍       | 1143/4600 [00:03<00:11, 303.09it/s]\u001b[A\n",
      " 26%|██▌       | 1174/4600 [00:03<00:11, 290.58it/s]\u001b[A\n",
      " 26%|██▌       | 1204/4600 [00:04<00:12, 278.67it/s]\u001b[A\n",
      " 27%|██▋       | 1235/4600 [00:04<00:11, 287.19it/s]\u001b[A\n",
      " 27%|██▋       | 1264/4600 [00:04<00:12, 272.27it/s]\u001b[A\n",
      " 28%|██▊       | 1293/4600 [00:04<00:12, 274.36it/s]\u001b[A\n",
      " 29%|██▉       | 1323/4600 [00:04<00:11, 281.13it/s]\u001b[A\n",
      " 29%|██▉       | 1352/4600 [00:04<00:11, 281.30it/s]\u001b[A\n",
      " 30%|███       | 1381/4600 [00:04<00:11, 280.37it/s]\u001b[A\n",
      " 31%|███       | 1410/4600 [00:04<00:11, 278.15it/s]\u001b[A\n",
      " 31%|███▏      | 1438/4600 [00:04<00:11, 271.51it/s]\u001b[A\n",
      " 32%|███▏      | 1467/4600 [00:05<00:11, 276.16it/s]\u001b[A\n",
      " 32%|███▎      | 1495/4600 [00:05<00:11, 270.04it/s]\u001b[A\n",
      " 33%|███▎      | 1524/4600 [00:05<00:11, 275.00it/s]\u001b[A\n",
      " 34%|███▍      | 1557/4600 [00:05<00:10, 288.95it/s]\u001b[A\n",
      " 35%|███▍      | 1596/4600 [00:05<00:09, 312.98it/s]\u001b[A\n",
      " 36%|███▌      | 1633/4600 [00:05<00:09, 327.53it/s]\u001b[A\n",
      " 36%|███▌      | 1667/4600 [00:05<00:09, 304.64it/s]\u001b[A\n",
      " 37%|███▋      | 1699/4600 [00:05<00:09, 301.68it/s]\u001b[A\n",
      " 38%|███▊      | 1730/4600 [00:05<00:09, 293.48it/s]\u001b[A\n",
      " 38%|███▊      | 1760/4600 [00:06<00:10, 281.22it/s]\u001b[A\n",
      " 39%|███▉      | 1789/4600 [00:06<00:09, 281.64it/s]\u001b[A\n",
      " 40%|███▉      | 1818/4600 [00:06<00:09, 283.35it/s]\u001b[A\n",
      " 40%|████      | 1851/4600 [00:06<00:09, 293.60it/s]\u001b[A\n",
      " 41%|████      | 1881/4600 [00:06<00:09, 289.71it/s]\u001b[A\n",
      " 42%|████▏     | 1912/4600 [00:06<00:09, 295.13it/s]\u001b[A\n",
      " 42%|████▏     | 1942/4600 [00:06<00:09, 289.98it/s]\u001b[A\n",
      " 43%|████▎     | 1972/4600 [00:06<00:09, 286.20it/s]\u001b[A\n",
      " 44%|████▎     | 2001/4600 [00:06<00:09, 286.69it/s]\u001b[A\n",
      " 44%|████▍     | 2031/4600 [00:06<00:08, 289.85it/s]\u001b[A\n",
      " 45%|████▍     | 2064/4600 [00:07<00:08, 300.54it/s]\u001b[A\n",
      " 46%|████▌     | 2096/4600 [00:07<00:08, 305.15it/s]\u001b[A\n",
      " 46%|████▌     | 2127/4600 [00:07<00:08, 301.63it/s]\u001b[A\n",
      " 47%|████▋     | 2160/4600 [00:07<00:07, 309.60it/s]\u001b[A\n",
      " 48%|████▊     | 2192/4600 [00:07<00:07, 309.17it/s]\u001b[A\n",
      " 48%|████▊     | 2223/4600 [00:07<00:07, 299.86it/s]\u001b[A\n",
      " 49%|████▉     | 2254/4600 [00:07<00:07, 301.37it/s]\u001b[A\n",
      " 50%|████▉     | 2285/4600 [00:07<00:07, 300.14it/s]\u001b[A\n",
      " 51%|█████     | 2325/4600 [00:07<00:07, 323.27it/s]\u001b[A\n",
      " 52%|█████▏    | 2369/4600 [00:07<00:06, 350.62it/s]\u001b[A\n",
      " 52%|█████▏    | 2413/4600 [00:08<00:05, 371.34it/s]\u001b[A\n",
      " 53%|█████▎    | 2460/4600 [00:08<00:05, 394.02it/s]\u001b[A\n",
      " 54%|█████▍    | 2501/4600 [00:08<00:05, 390.23it/s]\u001b[A\n",
      " 55%|█████▌    | 2541/4600 [00:08<00:05, 367.61it/s]\u001b[A\n",
      " 56%|█████▌    | 2579/4600 [00:08<00:05, 356.88it/s]\u001b[A\n",
      " 57%|█████▋    | 2616/4600 [00:08<00:05, 358.13it/s]\u001b[A\n",
      " 58%|█████▊    | 2653/4600 [00:08<00:05, 346.00it/s]\u001b[A\n",
      " 58%|█████▊    | 2689/4600 [00:08<00:05, 343.89it/s]\u001b[A\n",
      " 59%|█████▉    | 2724/4600 [00:08<00:05, 329.65it/s]\u001b[A\n",
      " 60%|█████▉    | 2758/4600 [00:09<00:05, 330.01it/s]\u001b[A\n",
      " 61%|██████    | 2792/4600 [00:09<00:05, 330.72it/s]\u001b[A\n",
      " 61%|██████▏   | 2826/4600 [00:09<00:05, 331.94it/s]\u001b[A\n",
      " 62%|██████▏   | 2860/4600 [00:09<00:05, 306.56it/s]\u001b[A\n",
      " 63%|██████▎   | 2892/4600 [00:09<00:05, 289.95it/s]\u001b[A\n",
      " 64%|██████▎   | 2922/4600 [00:09<00:05, 285.94it/s]\u001b[A\n",
      " 64%|██████▍   | 2951/4600 [00:09<00:05, 277.97it/s]\u001b[A\n",
      " 65%|██████▍   | 2980/4600 [00:09<00:05, 276.85it/s]\u001b[A\n",
      " 65%|██████▌   | 3008/4600 [00:09<00:05, 275.81it/s]\u001b[A\n",
      " 66%|██████▌   | 3038/4600 [00:10<00:05, 279.11it/s]\u001b[A\n",
      " 67%|██████▋   | 3067/4600 [00:10<00:05, 271.63it/s]\u001b[A\n",
      " 67%|██████▋   | 3096/4600 [00:10<00:05, 276.36it/s]\u001b[A\n",
      " 68%|██████▊   | 3124/4600 [00:10<00:05, 275.57it/s]\u001b[A\n",
      " 69%|██████▊   | 3154/4600 [00:10<00:05, 279.95it/s]\u001b[A\n",
      " 69%|██████▉   | 3183/4600 [00:10<00:05, 273.16it/s]\u001b[A\n",
      " 70%|██████▉   | 3211/4600 [00:10<00:05, 272.23it/s]\u001b[A\n",
      " 70%|███████   | 3239/4600 [00:10<00:05, 261.91it/s]\u001b[A\n",
      " 71%|███████   | 3266/4600 [00:10<00:05, 263.08it/s]\u001b[A\n",
      " 72%|███████▏  | 3293/4600 [00:11<00:05, 254.69it/s]\u001b[A\n",
      " 72%|███████▏  | 3319/4600 [00:11<00:05, 253.93it/s]\u001b[A\n",
      " 73%|███████▎  | 3345/4600 [00:11<00:04, 252.08it/s]\u001b[A\n",
      " 73%|███████▎  | 3371/4600 [00:11<00:04, 251.52it/s]\u001b[A\n",
      " 74%|███████▍  | 3397/4600 [00:11<00:04, 248.40it/s]\u001b[A\n",
      " 74%|███████▍  | 3422/4600 [00:11<00:04, 245.92it/s]\u001b[A\n",
      " 75%|███████▌  | 3450/4600 [00:11<00:04, 253.32it/s]\u001b[A\n",
      " 76%|███████▌  | 3476/4600 [00:11<00:04, 250.19it/s]\u001b[A\n",
      " 76%|███████▌  | 3502/4600 [00:11<00:04, 252.99it/s]\u001b[A\n",
      " 77%|███████▋  | 3530/4600 [00:11<00:04, 259.63it/s]\u001b[A\n",
      " 77%|███████▋  | 3557/4600 [00:12<00:04, 259.71it/s]\u001b[A\n",
      " 78%|███████▊  | 3584/4600 [00:12<00:03, 258.34it/s]\u001b[A\n",
      " 79%|███████▊  | 3613/4600 [00:12<00:03, 265.56it/s]\u001b[A\n",
      " 79%|███████▉  | 3640/4600 [00:12<00:03, 265.26it/s]\u001b[A\n",
      " 80%|███████▉  | 3668/4600 [00:12<00:03, 268.10it/s]\u001b[A\n",
      " 80%|████████  | 3695/4600 [00:12<00:03, 265.30it/s]\u001b[A\n",
      " 81%|████████  | 3724/4600 [00:12<00:03, 269.93it/s]\u001b[A\n",
      " 82%|████████▏ | 3755/4600 [00:12<00:03, 276.83it/s]\u001b[A\n",
      " 82%|████████▏ | 3784/4600 [00:12<00:02, 280.42it/s]\u001b[A\n",
      " 83%|████████▎ | 3813/4600 [00:13<00:02, 274.28it/s]\u001b[A\n",
      " 84%|████████▎ | 3841/4600 [00:13<00:02, 265.62it/s]\u001b[A\n",
      " 84%|████████▍ | 3868/4600 [00:13<00:02, 265.72it/s]\u001b[A\n",
      " 85%|████████▍ | 3897/4600 [00:13<00:02, 270.75it/s]\u001b[A\n",
      " 85%|████████▌ | 3925/4600 [00:13<00:02, 246.44it/s]\u001b[A\n",
      " 86%|████████▌ | 3951/4600 [00:13<00:02, 231.87it/s]\u001b[A\n",
      " 86%|████████▋ | 3975/4600 [00:13<00:02, 227.04it/s]\u001b[A\n",
      " 87%|████████▋ | 3999/4600 [00:13<00:02, 226.42it/s]\u001b[A\n",
      " 87%|████████▋ | 4022/4600 [00:13<00:02, 222.76it/s]\u001b[A\n",
      " 88%|████████▊ | 4045/4600 [00:14<00:02, 224.80it/s]\u001b[A\n",
      " 88%|████████▊ | 4068/4600 [00:14<00:02, 221.99it/s]\u001b[A\n",
      " 89%|████████▉ | 4091/4600 [00:14<00:02, 220.38it/s]\u001b[A\n",
      " 89%|████████▉ | 4114/4600 [00:14<00:02, 216.09it/s]\u001b[A\n",
      " 90%|████████▉ | 4139/4600 [00:14<00:02, 222.93it/s]\u001b[A\n",
      " 90%|█████████ | 4163/4600 [00:14<00:01, 226.03it/s]\u001b[A\n",
      " 91%|█████████ | 4186/4600 [00:14<00:01, 225.74it/s]\u001b[A\n",
      " 92%|█████████▏| 4209/4600 [00:14<00:01, 220.30it/s]\u001b[A\n",
      " 92%|█████████▏| 4232/4600 [00:14<00:01, 221.76it/s]\u001b[A\n",
      " 92%|█████████▎| 4255/4600 [00:14<00:01, 218.20it/s]\u001b[A\n",
      " 93%|█████████▎| 4277/4600 [00:15<00:01, 206.75it/s]\u001b[A\n",
      " 93%|█████████▎| 4298/4600 [00:15<00:01, 202.73it/s]\u001b[A\n",
      " 94%|█████████▍| 4321/4600 [00:15<00:01, 208.56it/s]\u001b[A\n",
      " 94%|█████████▍| 4345/4600 [00:15<00:01, 216.39it/s]\u001b[A\n",
      " 95%|█████████▌| 4370/4600 [00:15<00:01, 225.10it/s]\u001b[A\n",
      " 96%|█████████▌| 4394/4600 [00:15<00:00, 228.36it/s]\u001b[A\n",
      " 96%|█████████▌| 4420/4600 [00:15<00:00, 235.41it/s]\u001b[A\n",
      " 97%|█████████▋| 4444/4600 [00:15<00:00, 231.21it/s]\u001b[A\n",
      " 97%|█████████▋| 4468/4600 [00:15<00:00, 215.82it/s]\u001b[A\n",
      " 98%|█████████▊| 4490/4600 [00:16<00:00, 216.72it/s]\u001b[A\n",
      " 98%|█████████▊| 4515/4600 [00:16<00:00, 224.71it/s]\u001b[A\n",
      " 99%|█████████▊| 4538/4600 [00:16<00:00, 219.26it/s]\u001b[A\n",
      " 99%|█████████▉| 4561/4600 [00:16<00:00, 212.91it/s]\u001b[A\n",
      "100%|█████████▉| 4583/4600 [00:16<00:00, 213.63it/s]\u001b[A\n",
      " 69%|██████▉   | 9/13 [07:25<03:17, 49.48s/it]1it/s]\u001b[A"
     ]
    },
    {
     "name": "stdout",
     "output_type": "stream",
     "text": [
      "\n",
      "\n",
      "\n",
      "SR_Roary_Default\n",
      "6006  total records were parsed\n"
     ]
    },
    {
     "name": "stderr",
     "output_type": "stream",
     "text": [
      "\n",
      "  0%|          | 0/5609 [00:00<?, ?it/s]\u001b[A\n",
      "  2%|▏         | 113/5609 [00:00<00:04, 1120.82it/s]\u001b[A\n",
      "  5%|▍         | 266/5609 [00:00<00:04, 1217.82it/s]\u001b[A\n",
      "  8%|▊         | 424/5609 [00:00<00:03, 1306.79it/s]\u001b[A\n",
      " 10%|█         | 565/5609 [00:00<00:03, 1335.26it/s]\u001b[A\n",
      " 13%|█▎        | 718/5609 [00:00<00:03, 1388.12it/s]\u001b[A\n",
      " 15%|█▌        | 863/5609 [00:00<00:03, 1402.95it/s]\u001b[A\n",
      " 18%|█▊        | 1013/5609 [00:00<00:03, 1429.84it/s]\u001b[A\n",
      " 21%|██        | 1152/5609 [00:00<00:03, 1416.02it/s]\u001b[A\n",
      " 23%|██▎       | 1297/5609 [00:00<00:03, 1421.09it/s]\u001b[A\n",
      " 26%|██▌       | 1447/5609 [00:01<00:02, 1443.30it/s]\u001b[A\n",
      " 28%|██▊       | 1589/5609 [00:01<00:02, 1408.68it/s]\u001b[A\n",
      " 31%|███       | 1749/5609 [00:01<00:02, 1457.28it/s]\u001b[A\n",
      " 34%|███▍      | 1895/5609 [00:01<00:02, 1418.61it/s]\u001b[A\n",
      " 36%|███▋      | 2037/5609 [00:01<00:02, 1417.90it/s]\u001b[A\n",
      " 39%|███▉      | 2179/5609 [00:01<00:02, 1377.33it/s]\u001b[A\n",
      " 42%|████▏     | 2333/5609 [00:01<00:02, 1421.94it/s]\u001b[A\n",
      " 44%|████▍     | 2476/5609 [00:01<00:02, 1403.98it/s]\u001b[A\n",
      " 47%|████▋     | 2658/5609 [00:01<00:01, 1506.17it/s]\u001b[A\n",
      " 50%|█████     | 2811/5609 [00:01<00:01, 1433.89it/s]\u001b[A\n",
      " 53%|█████▎    | 2957/5609 [00:02<00:01, 1404.19it/s]\u001b[A\n",
      " 56%|█████▌    | 3125/5609 [00:02<00:01, 1473.58it/s]\u001b[A\n",
      " 58%|█████▊    | 3275/5609 [00:02<00:01, 1439.80it/s]\u001b[A\n",
      " 61%|██████▏   | 3449/5609 [00:02<00:01, 1518.36it/s]\u001b[A\n",
      " 64%|██████▍   | 3610/5609 [00:02<00:01, 1542.50it/s]\u001b[A\n",
      " 68%|██████▊   | 3792/5609 [00:02<00:01, 1616.35it/s]\u001b[A\n",
      " 71%|███████   | 3956/5609 [00:02<00:01, 1583.46it/s]\u001b[A\n",
      " 74%|███████▍  | 4158/5609 [00:02<00:00, 1692.93it/s]\u001b[A\n",
      " 77%|███████▋  | 4331/5609 [00:02<00:00, 1660.07it/s]\u001b[A\n",
      " 81%|████████  | 4516/5609 [00:02<00:00, 1705.32it/s]\u001b[A\n",
      " 84%|████████▎ | 4689/5609 [00:03<00:00, 1710.95it/s]\u001b[A\n",
      " 87%|████████▋ | 4903/5609 [00:03<00:00, 1820.21it/s]\u001b[A\n",
      " 92%|█████████▏| 5145/5609 [00:03<00:00, 1964.59it/s]\u001b[A\n",
      " 96%|█████████▌| 5368/5609 [00:03<00:00, 2035.35it/s]\u001b[A\n",
      " 99%|█████████▉| 5576/5609 [00:03<00:00, 1535.39it/s]\u001b[A\n",
      "100%|██████████| 5609/5609 [00:03<00:00, 1545.94it/s]\u001b[A\n",
      "  0%|          | 0/5609 [00:00<?, ?it/s]\u001b[A\n",
      "  1%|          | 30/5609 [00:00<00:18, 299.13it/s]\u001b[A\n",
      "  1%|          | 57/5609 [00:00<00:19, 286.21it/s]\u001b[A\n",
      "  2%|▏         | 88/5609 [00:00<00:18, 290.58it/s]\u001b[A\n",
      "  2%|▏         | 119/5609 [00:00<00:18, 294.67it/s]\u001b[A\n",
      "  3%|▎         | 147/5609 [00:00<00:19, 286.68it/s]\u001b[A\n",
      "  3%|▎         | 174/5609 [00:00<00:19, 280.73it/s]\u001b[A\n",
      "  4%|▎         | 199/5609 [00:00<00:20, 268.88it/s]\u001b[A\n",
      "  4%|▍         | 229/5609 [00:00<00:19, 274.34it/s]\u001b[A\n",
      "  5%|▍         | 259/5609 [00:00<00:19, 278.62it/s]\u001b[A\n",
      "  5%|▌         | 286/5609 [00:01<00:19, 273.76it/s]\u001b[A\n",
      "  6%|▌         | 317/5609 [00:01<00:18, 281.52it/s]\u001b[A\n",
      "  6%|▌         | 346/5609 [00:01<00:18, 282.79it/s]\u001b[A\n",
      "  7%|▋         | 375/5609 [00:01<00:18, 283.66it/s]\u001b[A\n",
      "  7%|▋         | 404/5609 [00:01<00:18, 274.39it/s]\u001b[A\n",
      "  8%|▊         | 432/5609 [00:01<00:18, 275.94it/s]\u001b[A\n",
      "  8%|▊         | 461/5609 [00:01<00:18, 277.11it/s]\u001b[A\n",
      "  9%|▊         | 489/5609 [00:01<00:19, 264.35it/s]\u001b[A\n",
      "  9%|▉         | 517/5609 [00:01<00:19, 265.65it/s]\u001b[A\n",
      " 10%|▉         | 546/5609 [00:01<00:18, 271.75it/s]\u001b[A\n",
      " 10%|█         | 574/5609 [00:02<00:18, 273.90it/s]\u001b[A\n",
      " 11%|█         | 603/5609 [00:02<00:18, 278.04it/s]\u001b[A\n",
      " 11%|█         | 631/5609 [00:02<00:18, 269.80it/s]\u001b[A\n",
      " 12%|█▏        | 659/5609 [00:02<00:18, 266.90it/s]\u001b[A\n",
      " 12%|█▏        | 686/5609 [00:02<00:18, 266.42it/s]\u001b[A\n",
      " 13%|█▎        | 719/5609 [00:02<00:17, 281.72it/s]\u001b[A\n",
      " 13%|█▎        | 748/5609 [00:02<00:17, 281.22it/s]\u001b[A\n",
      " 14%|█▍        | 777/5609 [00:02<00:17, 280.53it/s]\u001b[A\n",
      " 14%|█▍        | 806/5609 [00:02<00:17, 276.97it/s]\u001b[A\n",
      " 15%|█▍        | 834/5609 [00:03<00:17, 277.81it/s]\u001b[A\n",
      " 15%|█▌        | 862/5609 [00:03<00:17, 265.62it/s]\u001b[A\n",
      " 16%|█▌        | 890/5609 [00:03<00:17, 267.92it/s]\u001b[A\n",
      " 16%|█▋        | 918/5609 [00:03<00:17, 271.34it/s]\u001b[A\n",
      " 17%|█▋        | 947/5609 [00:03<00:16, 274.45it/s]\u001b[A\n",
      " 17%|█▋        | 976/5609 [00:03<00:16, 276.50it/s]\u001b[A\n",
      " 18%|█▊        | 1005/5609 [00:03<00:16, 277.18it/s]\u001b[A\n",
      " 18%|█▊        | 1034/5609 [00:03<00:16, 280.38it/s]\u001b[A\n",
      " 19%|█▉        | 1063/5609 [00:03<00:16, 271.86it/s]\u001b[A\n",
      " 19%|█▉        | 1091/5609 [00:03<00:17, 263.54it/s]\u001b[A\n",
      " 20%|█▉        | 1118/5609 [00:04<00:17, 263.40it/s]\u001b[A\n",
      " 20%|██        | 1146/5609 [00:04<00:16, 267.55it/s]\u001b[A\n",
      " 21%|██        | 1176/5609 [00:04<00:16, 274.40it/s]\u001b[A\n",
      " 21%|██▏       | 1204/5609 [00:04<00:16, 266.33it/s]\u001b[A\n",
      " 22%|██▏       | 1231/5609 [00:04<00:16, 266.35it/s]\u001b[A\n",
      " 22%|██▏       | 1259/5609 [00:04<00:16, 269.33it/s]\u001b[A\n",
      " 23%|██▎       | 1286/5609 [00:04<00:16, 262.92it/s]\u001b[A\n",
      " 23%|██▎       | 1315/5609 [00:04<00:16, 267.38it/s]\u001b[A\n",
      " 24%|██▍       | 1343/5609 [00:04<00:15, 270.61it/s]\u001b[A\n",
      " 24%|██▍       | 1371/5609 [00:05<00:15, 268.46it/s]\u001b[A\n",
      " 25%|██▍       | 1398/5609 [00:05<00:15, 267.92it/s]\u001b[A\n",
      " 25%|██▌       | 1426/5609 [00:05<00:15, 268.50it/s]\u001b[A\n",
      " 26%|██▌       | 1459/5609 [00:05<00:14, 283.19it/s]\u001b[A\n",
      " 27%|██▋       | 1488/5609 [00:05<00:14, 282.02it/s]\u001b[A\n",
      " 27%|██▋       | 1517/5609 [00:05<00:14, 281.84it/s]\u001b[A\n",
      " 28%|██▊       | 1546/5609 [00:05<00:14, 279.48it/s]\u001b[A\n",
      " 28%|██▊       | 1575/5609 [00:05<00:14, 274.65it/s]\u001b[A\n",
      " 29%|██▊       | 1603/5609 [00:05<00:14, 270.46it/s]\u001b[A\n",
      " 29%|██▉       | 1632/5609 [00:05<00:14, 273.58it/s]\u001b[A\n",
      " 30%|██▉       | 1660/5609 [00:06<00:14, 275.08it/s]\u001b[A\n",
      " 30%|███       | 1691/5609 [00:06<00:13, 284.36it/s]\u001b[A\n",
      " 31%|███       | 1721/5609 [00:06<00:13, 287.97it/s]\u001b[A\n",
      " 31%|███       | 1750/5609 [00:06<00:13, 283.38it/s]\u001b[A\n",
      " 32%|███▏      | 1779/5609 [00:06<00:13, 281.65it/s]\u001b[A\n",
      " 32%|███▏      | 1811/5609 [00:06<00:13, 290.94it/s]\u001b[A\n",
      " 33%|███▎      | 1841/5609 [00:06<00:13, 279.63it/s]\u001b[A\n",
      " 33%|███▎      | 1870/5609 [00:06<00:13, 275.83it/s]\u001b[A\n",
      " 34%|███▍      | 1898/5609 [00:06<00:13, 272.61it/s]\u001b[A\n",
      " 34%|███▍      | 1927/5609 [00:06<00:13, 275.75it/s]\u001b[A\n",
      " 35%|███▍      | 1955/5609 [00:07<00:13, 268.65it/s]\u001b[A\n",
      " 35%|███▌      | 1982/5609 [00:07<00:13, 262.88it/s]\u001b[A\n",
      " 36%|███▌      | 2009/5609 [00:07<00:13, 257.65it/s]\u001b[A\n",
      " 36%|███▋      | 2035/5609 [00:07<00:13, 256.94it/s]\u001b[A\n",
      " 37%|███▋      | 2063/5609 [00:07<00:13, 261.37it/s]\u001b[A\n",
      " 37%|███▋      | 2090/5609 [00:07<00:13, 257.75it/s]\u001b[A\n",
      " 38%|███▊      | 2116/5609 [00:07<00:13, 256.88it/s]\u001b[A\n",
      " 38%|███▊      | 2142/5609 [00:07<00:13, 255.95it/s]\u001b[A\n",
      " 39%|███▊      | 2170/5609 [00:07<00:13, 260.27it/s]\u001b[A\n",
      " 39%|███▉      | 2203/5609 [00:08<00:12, 276.16it/s]\u001b[A\n",
      " 40%|███▉      | 2231/5609 [00:08<00:12, 268.55it/s]\u001b[A\n",
      " 40%|████      | 2262/5609 [00:08<00:12, 276.98it/s]\u001b[A\n",
      " 41%|████      | 2290/5609 [00:08<00:12, 276.12it/s]\u001b[A\n",
      " 41%|████▏     | 2318/5609 [00:08<00:12, 264.92it/s]\u001b[A\n",
      " 42%|████▏     | 2345/5609 [00:08<00:12, 258.71it/s]\u001b[A\n",
      " 42%|████▏     | 2372/5609 [00:08<00:12, 261.44it/s]\u001b[A\n",
      " 43%|████▎     | 2399/5609 [00:08<00:12, 261.39it/s]\u001b[A\n",
      " 43%|████▎     | 2426/5609 [00:08<00:12, 262.84it/s]\u001b[A\n",
      " 44%|████▎     | 2453/5609 [00:09<00:12, 257.20it/s]\u001b[A\n",
      " 44%|████▍     | 2481/5609 [00:09<00:11, 260.97it/s]\u001b[A\n",
      " 45%|████▍     | 2509/5609 [00:09<00:11, 266.27it/s]\u001b[A\n",
      " 45%|████▌     | 2541/5609 [00:09<00:11, 277.76it/s]\u001b[A\n",
      " 46%|████▌     | 2578/5609 [00:09<00:10, 297.55it/s]\u001b[A\n",
      " 47%|████▋     | 2610/5609 [00:09<00:09, 301.31it/s]\u001b[A\n",
      " 47%|████▋     | 2643/5609 [00:09<00:09, 306.84it/s]\u001b[A\n",
      " 48%|████▊     | 2674/5609 [00:09<00:10, 290.29it/s]\u001b[A\n",
      " 48%|████▊     | 2704/5609 [00:09<00:10, 282.29it/s]\u001b[A\n",
      " 49%|████▊     | 2733/5609 [00:09<00:10, 278.30it/s]\u001b[A\n",
      " 49%|████▉     | 2762/5609 [00:10<00:10, 275.12it/s]\u001b[A\n",
      " 50%|████▉     | 2790/5609 [00:10<00:10, 268.45it/s]\u001b[A\n",
      " 50%|█████     | 2818/5609 [00:10<00:10, 269.19it/s]\u001b[A\n",
      " 51%|█████     | 2846/5609 [00:10<00:10, 270.41it/s]\u001b[A\n",
      " 51%|█████     | 2874/5609 [00:10<00:10, 271.46it/s]\u001b[A\n",
      " 52%|█████▏    | 2903/5609 [00:10<00:09, 276.63it/s]\u001b[A\n",
      " 52%|█████▏    | 2931/5609 [00:10<00:09, 277.36it/s]\u001b[A\n",
      " 53%|█████▎    | 2962/5609 [00:10<00:09, 283.33it/s]\u001b[A\n",
      " 53%|█████▎    | 2994/5609 [00:10<00:08, 292.88it/s]\u001b[A\n",
      " 54%|█████▍    | 3024/5609 [00:10<00:08, 292.76it/s]\u001b[A\n",
      " 54%|█████▍    | 3054/5609 [00:11<00:08, 288.69it/s]\u001b[A\n",
      " 55%|█████▍    | 3083/5609 [00:11<00:08, 287.26it/s]\u001b[A\n",
      " 55%|█████▌    | 3112/5609 [00:11<00:08, 281.33it/s]\u001b[A\n",
      " 56%|█████▌    | 3141/5609 [00:11<00:08, 280.92it/s]\u001b[A\n",
      " 57%|█████▋    | 3170/5609 [00:11<00:08, 274.46it/s]\u001b[A\n",
      " 57%|█████▋    | 3198/5609 [00:11<00:09, 267.13it/s]\u001b[A\n",
      " 57%|█████▋    | 3225/5609 [00:11<00:09, 261.10it/s]\u001b[A\n",
      " 58%|█████▊    | 3254/5609 [00:11<00:08, 267.92it/s]\u001b[A\n",
      " 58%|█████▊    | 3281/5609 [00:11<00:08, 267.75it/s]\u001b[A\n",
      " 59%|█████▉    | 3316/5609 [00:12<00:07, 287.21it/s]\u001b[A\n",
      " 60%|█████▉    | 3346/5609 [00:12<00:07, 284.42it/s]\u001b[A\n",
      " 60%|██████    | 3377/5609 [00:12<00:07, 289.77it/s]\u001b[A\n",
      " 61%|██████    | 3408/5609 [00:12<00:07, 293.16it/s]\u001b[A\n",
      " 61%|██████▏   | 3438/5609 [00:12<00:07, 293.85it/s]\u001b[A\n",
      " 62%|██████▏   | 3468/5609 [00:12<00:07, 294.08it/s]\u001b[A\n",
      " 62%|██████▏   | 3498/5609 [00:12<00:07, 290.82it/s]\u001b[A\n",
      " 63%|██████▎   | 3528/5609 [00:12<00:07, 292.15it/s]\u001b[A\n",
      " 63%|██████▎   | 3558/5609 [00:12<00:07, 286.93it/s]\u001b[A\n",
      " 64%|██████▍   | 3587/5609 [00:12<00:07, 278.33it/s]\u001b[A\n",
      " 64%|██████▍   | 3615/5609 [00:13<00:07, 277.32it/s]\u001b[A\n",
      " 65%|██████▍   | 3643/5609 [00:13<00:07, 275.84it/s]\u001b[A\n",
      " 65%|██████▌   | 3673/5609 [00:13<00:06, 280.92it/s]\u001b[A\n",
      " 66%|██████▌   | 3702/5609 [00:13<00:06, 282.73it/s]\u001b[A\n",
      " 67%|██████▋   | 3735/5609 [00:13<00:06, 294.68it/s]\u001b[A\n",
      " 67%|██████▋   | 3769/5609 [00:13<00:06, 306.57it/s]\u001b[A\n",
      " 68%|██████▊   | 3804/5609 [00:13<00:05, 317.95it/s]\u001b[A\n",
      " 68%|██████▊   | 3837/5609 [00:13<00:05, 310.03it/s]\u001b[A\n",
      " 69%|██████▉   | 3872/5609 [00:13<00:05, 317.62it/s]\u001b[A\n",
      " 70%|██████▉   | 3906/5609 [00:14<00:05, 323.30it/s]\u001b[A\n",
      " 70%|███████   | 3939/5609 [00:14<00:05, 306.36it/s]\u001b[A\n",
      " 71%|███████   | 3970/5609 [00:14<00:05, 298.63it/s]\u001b[A\n",
      " 71%|███████▏  | 4002/5609 [00:14<00:05, 302.66it/s]\u001b[A\n",
      " 72%|███████▏  | 4042/5609 [00:14<00:04, 325.99it/s]\u001b[A\n",
      " 73%|███████▎  | 4082/5609 [00:14<00:04, 342.09it/s]\u001b[A\n",
      " 73%|███████▎  | 4117/5609 [00:14<00:04, 340.10it/s]\u001b[A\n",
      " 74%|███████▍  | 4155/5609 [00:14<00:04, 347.92it/s]\u001b[A\n",
      " 75%|███████▍  | 4191/5609 [00:14<00:04, 339.41it/s]\u001b[A\n",
      " 75%|███████▌  | 4227/5609 [00:14<00:04, 340.65it/s]\u001b[A\n",
      " 76%|███████▌  | 4262/5609 [00:15<00:04, 332.97it/s]\u001b[A\n",
      " 77%|███████▋  | 4296/5609 [00:15<00:04, 317.78it/s]\u001b[A\n",
      " 77%|███████▋  | 4330/5609 [00:15<00:03, 321.90it/s]\u001b[A\n",
      " 78%|███████▊  | 4363/5609 [00:15<00:03, 321.24it/s]\u001b[A\n",
      " 78%|███████▊  | 4396/5609 [00:15<00:03, 322.65it/s]\u001b[A\n",
      " 79%|███████▉  | 4429/5609 [00:15<00:03, 317.27it/s]\u001b[A\n",
      " 80%|███████▉  | 4465/5609 [00:15<00:03, 328.75it/s]\u001b[A\n",
      " 80%|████████  | 4499/5609 [00:15<00:03, 323.70it/s]\u001b[A\n",
      " 81%|████████  | 4532/5609 [00:15<00:03, 322.18it/s]\u001b[A\n",
      " 81%|████████▏ | 4567/5609 [00:16<00:03, 329.86it/s]\u001b[A\n",
      " 82%|████████▏ | 4601/5609 [00:16<00:03, 323.62it/s]\u001b[A\n",
      " 83%|████████▎ | 4634/5609 [00:16<00:03, 312.15it/s]\u001b[A\n",
      " 83%|████████▎ | 4669/5609 [00:16<00:02, 319.21it/s]\u001b[A\n",
      " 84%|████████▍ | 4704/5609 [00:16<00:02, 327.12it/s]\u001b[A\n",
      " 84%|████████▍ | 4737/5609 [00:16<00:02, 321.53it/s]\u001b[A\n",
      " 85%|████████▌ | 4770/5609 [00:16<00:02, 320.85it/s]\u001b[A\n",
      " 86%|████████▌ | 4810/5609 [00:16<00:02, 339.64it/s]\u001b[A\n",
      " 86%|████████▋ | 4846/5609 [00:16<00:02, 343.63it/s]\u001b[A\n",
      " 87%|████████▋ | 4884/5609 [00:16<00:02, 352.20it/s]\u001b[A\n",
      " 88%|████████▊ | 4924/5609 [00:17<00:01, 365.20it/s]\u001b[A\n",
      " 88%|████████▊ | 4963/5609 [00:17<00:01, 371.13it/s]\u001b[A\n",
      " 89%|████████▉ | 5002/5609 [00:17<00:01, 374.05it/s]\u001b[A\n",
      " 90%|████████▉ | 5043/5609 [00:17<00:01, 383.42it/s]\u001b[A\n",
      " 91%|█████████ | 5082/5609 [00:17<00:01, 384.73it/s]\u001b[A\n",
      " 91%|█████████▏| 5122/5609 [00:17<00:01, 387.03it/s]\u001b[A\n",
      " 92%|█████████▏| 5168/5609 [00:17<00:01, 404.96it/s]\u001b[A\n",
      " 93%|█████████▎| 5209/5609 [00:17<00:00, 406.28it/s]\u001b[A\n",
      " 94%|█████████▎| 5250/5609 [00:17<00:00, 404.27it/s]\u001b[A\n",
      " 94%|█████████▍| 5291/5609 [00:18<00:00, 390.04it/s]\u001b[A\n",
      " 95%|█████████▌| 5331/5609 [00:18<00:00, 375.48it/s]\u001b[A\n",
      " 96%|█████████▌| 5369/5609 [00:18<00:00, 367.40it/s]\u001b[A\n",
      " 96%|█████████▋| 5410/5609 [00:18<00:00, 376.69it/s]\u001b[A\n",
      " 97%|█████████▋| 5448/5609 [00:18<00:00, 361.57it/s]\u001b[A\n",
      " 98%|█████████▊| 5490/5609 [00:18<00:00, 377.20it/s]\u001b[A\n",
      " 99%|█████████▊| 5529/5609 [00:18<00:00, 367.04it/s]\u001b[A\n",
      " 99%|█████████▉| 5569/5609 [00:18<00:00, 375.14it/s]\u001b[A\n",
      "100%|█████████▉| 5607/5609 [00:18<00:00, 363.34it/s]\u001b[A\n",
      " 77%|███████▋  | 10/13 [08:25<02:38, 52.82s/it]it/s]\u001b[A"
     ]
    },
    {
     "name": "stdout",
     "output_type": "stream",
     "text": [
      "\n",
      "\n",
      "\n",
      "SR_Roary_NoSplitParalogs\n",
      "5025  total records were parsed\n"
     ]
    },
    {
     "name": "stderr",
     "output_type": "stream",
     "text": [
      "\n",
      "  0%|          | 0/4727 [00:00<?, ?it/s]\u001b[A\n",
      "  2%|▏         | 116/4727 [00:00<00:03, 1158.87it/s]\u001b[A\n",
      "  6%|▌         | 273/4727 [00:00<00:03, 1255.83it/s]\u001b[A\n",
      "  9%|▉         | 435/4727 [00:00<00:03, 1339.91it/s]\u001b[A\n",
      " 13%|█▎        | 592/4727 [00:00<00:02, 1399.79it/s]\u001b[A\n",
      " 15%|█▌        | 732/4727 [00:00<00:02, 1399.56it/s]\u001b[A\n",
      " 19%|█▊        | 884/4727 [00:00<00:02, 1432.99it/s]\u001b[A\n",
      " 22%|██▏       | 1037/4727 [00:00<00:02, 1459.03it/s]\u001b[A\n",
      " 25%|██▍       | 1176/4727 [00:00<00:02, 1434.45it/s]\u001b[A\n",
      " 28%|██▊       | 1317/4727 [00:00<00:02, 1425.91it/s]\u001b[A\n",
      " 31%|███       | 1459/4727 [00:01<00:02, 1423.91it/s]\u001b[A\n",
      " 34%|███▍      | 1599/4727 [00:01<00:02, 1399.41it/s]\u001b[A\n",
      " 37%|███▋      | 1758/4727 [00:01<00:02, 1451.54it/s]\u001b[A\n",
      " 40%|████      | 1903/4727 [00:01<00:01, 1418.47it/s]\u001b[A\n",
      " 43%|████▎     | 2045/4727 [00:01<00:01, 1411.51it/s]\u001b[A\n",
      " 46%|████▌     | 2186/4727 [00:01<00:01, 1395.92it/s]\u001b[A\n",
      " 49%|████▉     | 2329/4727 [00:01<00:01, 1404.20it/s]\u001b[A\n",
      " 52%|█████▏    | 2470/4727 [00:01<00:01, 1400.50it/s]\u001b[A\n",
      " 56%|█████▌    | 2649/4727 [00:01<00:01, 1498.07it/s]\u001b[A\n",
      " 59%|█████▉    | 2801/4727 [00:01<00:01, 1425.58it/s]\u001b[A\n",
      " 63%|██████▎   | 2957/4727 [00:02<00:01, 1461.34it/s]\u001b[A\n",
      " 66%|██████▌   | 3110/4727 [00:02<00:01, 1479.12it/s]\u001b[A\n",
      " 69%|██████▉   | 3260/4727 [00:02<00:01, 1443.67it/s]\u001b[A\n",
      " 73%|███████▎  | 3428/4727 [00:02<00:00, 1505.35it/s]\u001b[A\n",
      " 76%|███████▌  | 3583/4727 [00:02<00:00, 1517.73it/s]\u001b[A\n",
      " 80%|████████  | 3793/4727 [00:02<00:00, 1654.26it/s]\u001b[A\n",
      " 88%|████████▊ | 4143/4727 [00:02<00:00, 1964.29it/s]\u001b[A\n",
      " 95%|█████████▍| 4483/4727 [00:02<00:00, 2248.91it/s]\u001b[A\n",
      "100%|██████████| 4727/4727 [00:02<00:00, 1672.56it/s]\u001b[A\n",
      "  0%|          | 0/4727 [00:00<?, ?it/s]\u001b[A\n",
      "  1%|          | 32/4727 [00:00<00:15, 311.15it/s]\u001b[A\n",
      "  1%|          | 59/4727 [00:00<00:15, 294.55it/s]\u001b[A\n",
      "  2%|▏         | 91/4727 [00:00<00:15, 298.61it/s]\u001b[A\n",
      "  3%|▎         | 122/4727 [00:00<00:15, 299.83it/s]\u001b[A\n",
      "  3%|▎         | 151/4727 [00:00<00:15, 295.13it/s]\u001b[A\n",
      "  4%|▍         | 179/4727 [00:00<00:15, 288.17it/s]\u001b[A\n",
      "  4%|▍         | 209/4727 [00:00<00:15, 288.31it/s]\u001b[A\n",
      "  5%|▌         | 237/4727 [00:00<00:15, 285.10it/s]\u001b[A\n",
      "  6%|▌         | 268/4727 [00:00<00:15, 289.46it/s]\u001b[A\n",
      "  6%|▋         | 296/4727 [00:01<00:15, 284.16it/s]\u001b[A\n",
      "  7%|▋         | 328/4727 [00:01<00:15, 292.20it/s]\u001b[A\n",
      "  8%|▊         | 360/4727 [00:01<00:14, 299.25it/s]\u001b[A\n",
      "  8%|▊         | 390/4727 [00:01<00:14, 289.16it/s]\u001b[A\n",
      "  9%|▉         | 420/4727 [00:01<00:14, 291.99it/s]\u001b[A\n",
      " 10%|▉         | 450/4727 [00:01<00:14, 288.55it/s]\u001b[A\n",
      " 10%|█         | 479/4727 [00:01<00:14, 285.82it/s]\u001b[A\n",
      " 11%|█         | 508/4727 [00:01<00:15, 278.21it/s]\u001b[A\n",
      " 11%|█▏        | 536/4727 [00:01<00:15, 278.10it/s]\u001b[A\n",
      " 12%|█▏        | 566/4727 [00:01<00:14, 282.11it/s]\u001b[A\n",
      " 13%|█▎        | 596/4727 [00:02<00:14, 285.99it/s]\u001b[A\n",
      " 13%|█▎        | 625/4727 [00:02<00:14, 281.65it/s]\u001b[A\n",
      " 14%|█▍        | 654/4727 [00:02<00:15, 270.95it/s]\u001b[A\n",
      " 14%|█▍        | 682/4727 [00:02<00:15, 265.76it/s]\u001b[A\n",
      " 15%|█▌        | 715/4727 [00:02<00:14, 280.16it/s]\u001b[A\n",
      " 16%|█▌        | 744/4727 [00:02<00:14, 274.29it/s]\u001b[A\n",
      " 16%|█▋        | 772/4727 [00:02<00:14, 272.58it/s]\u001b[A\n",
      " 17%|█▋        | 800/4727 [00:02<00:14, 270.89it/s]\u001b[A\n",
      " 18%|█▊        | 829/4727 [00:02<00:14, 275.17it/s]\u001b[A\n",
      " 18%|█▊        | 857/4727 [00:03<00:14, 262.60it/s]\u001b[A\n",
      " 19%|█▊        | 884/4727 [00:03<00:14, 262.79it/s]\u001b[A\n",
      " 19%|█▉        | 911/4727 [00:03<00:14, 264.00it/s]\u001b[A\n",
      " 20%|█▉        | 939/4727 [00:03<00:14, 265.91it/s]\u001b[A\n",
      " 20%|██        | 968/4727 [00:03<00:13, 270.29it/s]\u001b[A\n",
      " 21%|██        | 997/4727 [00:03<00:13, 273.52it/s]\u001b[A\n",
      " 22%|██▏       | 1027/4727 [00:03<00:13, 280.89it/s]\u001b[A\n",
      " 22%|██▏       | 1056/4727 [00:03<00:13, 273.23it/s]\u001b[A\n",
      " 23%|██▎       | 1084/4727 [00:03<00:13, 263.17it/s]\u001b[A\n",
      " 24%|██▎       | 1111/4727 [00:03<00:13, 258.90it/s]\u001b[A\n",
      " 24%|██▍       | 1139/4727 [00:04<00:13, 263.24it/s]\u001b[A\n",
      " 25%|██▍       | 1167/4727 [00:04<00:13, 265.14it/s]\u001b[A\n",
      " 25%|██▌       | 1194/4727 [00:04<00:13, 261.13it/s]\u001b[A\n",
      " 26%|██▌       | 1221/4727 [00:04<00:13, 260.71it/s]\u001b[A\n",
      " 26%|██▋       | 1250/4727 [00:04<00:12, 268.60it/s]\u001b[A\n",
      " 27%|██▋       | 1277/4727 [00:04<00:12, 266.05it/s]\u001b[A\n",
      " 28%|██▊       | 1305/4727 [00:04<00:12, 268.15it/s]\u001b[A\n",
      " 28%|██▊       | 1333/4727 [00:04<00:12, 271.06it/s]\u001b[A\n",
      " 29%|██▉       | 1361/4727 [00:04<00:12, 271.64it/s]\u001b[A\n",
      " 29%|██▉       | 1389/4727 [00:05<00:12, 273.86it/s]\u001b[A\n",
      " 30%|██▉       | 1418/4727 [00:05<00:11, 278.46it/s]\u001b[A\n",
      " 31%|███       | 1446/4727 [00:05<00:11, 276.29it/s]\u001b[A\n",
      " 31%|███       | 1474/4727 [00:05<00:11, 272.40it/s]\u001b[A\n",
      " 32%|███▏      | 1502/4727 [00:05<00:11, 270.09it/s]\u001b[A\n",
      " 32%|███▏      | 1530/4727 [00:05<00:11, 269.62it/s]\u001b[A\n",
      " 33%|███▎      | 1557/4727 [00:05<00:11, 265.82it/s]\u001b[A\n",
      " 34%|███▎      | 1584/4727 [00:05<00:11, 262.19it/s]\u001b[A\n",
      " 34%|███▍      | 1612/4727 [00:05<00:11, 265.67it/s]\u001b[A\n",
      " 35%|███▍      | 1644/4727 [00:05<00:11, 279.52it/s]\u001b[A\n",
      " 35%|███▌      | 1675/4727 [00:06<00:10, 287.38it/s]\u001b[A\n",
      " 36%|███▌      | 1705/4727 [00:06<00:10, 290.65it/s]\u001b[A\n",
      " 37%|███▋      | 1735/4727 [00:06<00:10, 291.51it/s]\u001b[A\n",
      " 37%|███▋      | 1765/4727 [00:06<00:10, 288.58it/s]\u001b[A\n",
      " 38%|███▊      | 1796/4727 [00:06<00:10, 291.91it/s]\u001b[A\n",
      " 39%|███▊      | 1826/4727 [00:06<00:10, 287.14it/s]\u001b[A\n",
      " 39%|███▉      | 1855/4727 [00:06<00:10, 277.13it/s]\u001b[A\n",
      " 40%|███▉      | 1883/4727 [00:06<00:10, 276.58it/s]\u001b[A\n",
      " 40%|████      | 1911/4727 [00:06<00:10, 272.74it/s]\u001b[A\n",
      " 41%|████      | 1939/4727 [00:07<00:10, 268.36it/s]\u001b[A\n",
      " 42%|████▏     | 1966/4727 [00:07<00:10, 261.86it/s]\u001b[A\n",
      " 42%|████▏     | 1993/4727 [00:07<00:10, 261.30it/s]\u001b[A\n",
      " 43%|████▎     | 2020/4727 [00:07<00:10, 259.47it/s]\u001b[A\n",
      " 43%|████▎     | 2051/4727 [00:07<00:09, 271.46it/s]\u001b[A\n",
      " 44%|████▍     | 2079/4727 [00:07<00:10, 260.75it/s]\u001b[A\n",
      " 45%|████▍     | 2106/4727 [00:07<00:10, 261.85it/s]\u001b[A\n",
      " 45%|████▌     | 2134/4727 [00:07<00:09, 264.07it/s]\u001b[A\n",
      " 46%|████▌     | 2167/4727 [00:07<00:09, 279.05it/s]\u001b[A\n",
      " 46%|████▋     | 2197/4727 [00:07<00:08, 282.35it/s]\u001b[A\n",
      " 47%|████▋     | 2228/4727 [00:08<00:08, 289.79it/s]\u001b[A\n",
      " 48%|████▊     | 2258/4727 [00:08<00:08, 288.06it/s]\u001b[A\n",
      " 48%|████▊     | 2287/4727 [00:08<00:08, 275.35it/s]\u001b[A\n",
      " 49%|████▉     | 2315/4727 [00:08<00:08, 269.20it/s]\u001b[A\n",
      " 50%|████▉     | 2343/4727 [00:08<00:08, 270.59it/s]\u001b[A\n",
      " 50%|█████     | 2371/4727 [00:08<00:08, 271.33it/s]\u001b[A\n",
      " 51%|█████     | 2399/4727 [00:08<00:08, 270.90it/s]\u001b[A\n",
      " 51%|█████▏    | 2427/4727 [00:08<00:08, 266.44it/s]\u001b[A\n",
      " 52%|█████▏    | 2455/4727 [00:08<00:08, 268.99it/s]\u001b[A\n",
      " 53%|█████▎    | 2482/4727 [00:09<00:08, 266.23it/s]\u001b[A\n",
      " 53%|█████▎    | 2513/4727 [00:09<00:07, 277.49it/s]\u001b[A\n",
      " 54%|█████▍    | 2551/4727 [00:09<00:07, 299.43it/s]\u001b[A\n",
      " 55%|█████▍    | 2587/4727 [00:09<00:06, 312.76it/s]\u001b[A\n",
      " 55%|█████▌    | 2619/4727 [00:09<00:06, 306.13it/s]\u001b[A\n",
      " 56%|█████▌    | 2651/4727 [00:09<00:07, 290.34it/s]\u001b[A\n",
      " 57%|█████▋    | 2681/4727 [00:09<00:08, 229.30it/s]\u001b[A\n",
      " 57%|█████▋    | 2710/4727 [00:09<00:08, 242.19it/s]\u001b[A\n",
      " 58%|█████▊    | 2737/4727 [00:09<00:08, 238.40it/s]\u001b[A\n",
      " 58%|█████▊    | 2763/4727 [00:10<00:08, 242.29it/s]\u001b[A\n",
      " 59%|█████▉    | 2789/4727 [00:10<00:08, 238.59it/s]\u001b[A\n",
      " 60%|█████▉    | 2816/4727 [00:10<00:07, 244.29it/s]\u001b[A\n",
      " 60%|██████    | 2843/4727 [00:10<00:07, 251.12it/s]\u001b[A\n",
      " 61%|██████    | 2870/4727 [00:10<00:07, 255.64it/s]\u001b[A\n",
      " 61%|██████▏   | 2897/4727 [00:10<00:07, 259.18it/s]\u001b[A\n",
      " 62%|██████▏   | 2927/4727 [00:10<00:06, 270.19it/s]\u001b[A\n",
      " 63%|██████▎   | 2960/4727 [00:10<00:06, 284.59it/s]\u001b[A\n",
      " 63%|██████▎   | 2989/4727 [00:10<00:06, 280.65it/s]\u001b[A\n",
      " 64%|██████▍   | 3018/4727 [00:11<00:06, 283.16it/s]\u001b[A\n",
      " 64%|██████▍   | 3047/4727 [00:11<00:06, 277.79it/s]\u001b[A\n",
      " 65%|██████▌   | 3075/4727 [00:11<00:05, 277.95it/s]\u001b[A\n",
      " 66%|██████▌   | 3103/4727 [00:11<00:05, 277.17it/s]\u001b[A\n",
      " 66%|██████▌   | 3131/4727 [00:11<00:05, 271.72it/s]\u001b[A\n",
      " 67%|██████▋   | 3159/4727 [00:11<00:05, 266.89it/s]\u001b[A\n",
      " 67%|██████▋   | 3186/4727 [00:11<00:05, 266.93it/s]\u001b[A\n",
      " 68%|██████▊   | 3215/4727 [00:11<00:05, 273.04it/s]\u001b[A\n",
      " 69%|██████▊   | 3246/4727 [00:11<00:05, 282.92it/s]\u001b[A\n",
      " 69%|██████▉   | 3280/4727 [00:11<00:04, 295.97it/s]\u001b[A\n",
      " 70%|███████   | 3311/4727 [00:12<00:04, 298.47it/s]\u001b[A\n",
      " 71%|███████   | 3342/4727 [00:12<00:04, 299.06it/s]\u001b[A\n",
      " 71%|███████▏  | 3373/4727 [00:12<00:04, 296.72it/s]\u001b[A\n",
      " 72%|███████▏  | 3403/4727 [00:12<00:04, 297.58it/s]\u001b[A\n",
      " 73%|███████▎  | 3433/4727 [00:12<00:04, 298.15it/s]\u001b[A\n",
      " 73%|███████▎  | 3466/4727 [00:12<00:04, 305.55it/s]\u001b[A\n",
      " 74%|███████▍  | 3497/4727 [00:12<00:04, 291.48it/s]\u001b[A\n",
      " 75%|███████▍  | 3527/4727 [00:12<00:04, 280.27it/s]\u001b[A\n",
      " 75%|███████▌  | 3556/4727 [00:12<00:04, 280.96it/s]\u001b[A\n",
      " 76%|███████▌  | 3585/4727 [00:12<00:04, 281.85it/s]\u001b[A\n",
      " 77%|███████▋  | 3617/4727 [00:13<00:03, 292.14it/s]\u001b[A\n",
      " 77%|███████▋  | 3648/4727 [00:13<00:03, 293.59it/s]\u001b[A\n",
      " 78%|███████▊  | 3681/4727 [00:13<00:03, 301.43it/s]\u001b[A\n",
      " 79%|███████▊  | 3715/4727 [00:13<00:03, 311.22it/s]\u001b[A\n",
      " 80%|███████▉  | 3758/4727 [00:13<00:02, 338.85it/s]\u001b[A\n",
      " 80%|████████  | 3800/4727 [00:13<00:02, 358.42it/s]\u001b[A\n",
      " 81%|████████▏ | 3844/4727 [00:13<00:02, 379.09it/s]\u001b[A\n",
      " 82%|████████▏ | 3890/4727 [00:13<00:02, 398.73it/s]\u001b[A\n",
      " 83%|████████▎ | 3932/4727 [00:13<00:01, 404.32it/s]\u001b[A\n",
      " 84%|████████▍ | 3978/4727 [00:13<00:01, 418.00it/s]\u001b[A\n",
      " 85%|████████▌ | 4021/4727 [00:14<00:01, 414.64it/s]\u001b[A\n",
      " 86%|████████▌ | 4065/4727 [00:14<00:01, 418.49it/s]\u001b[A\n",
      " 87%|████████▋ | 4108/4727 [00:14<00:01, 417.98it/s]\u001b[A\n",
      " 88%|████████▊ | 4153/4727 [00:14<00:01, 426.05it/s]\u001b[A\n",
      " 89%|████████▉ | 4197/4727 [00:14<00:01, 427.43it/s]\u001b[A\n",
      " 90%|████████▉ | 4240/4727 [00:14<00:01, 409.72it/s]\u001b[A\n",
      " 91%|█████████ | 4282/4727 [00:14<00:01, 412.49it/s]\u001b[A\n",
      " 91%|█████████▏| 4324/4727 [00:14<00:00, 407.51it/s]\u001b[A\n",
      " 92%|█████████▏| 4369/4727 [00:14<00:00, 418.04it/s]\u001b[A\n",
      " 93%|█████████▎| 4416/4727 [00:15<00:00, 431.19it/s]\u001b[A\n",
      " 94%|█████████▍| 4460/4727 [00:15<00:00, 431.33it/s]\u001b[A\n",
      " 95%|█████████▌| 4507/4727 [00:15<00:00, 442.19it/s]\u001b[A\n",
      " 96%|█████████▋| 4552/4727 [00:15<00:00, 424.57it/s]\u001b[A\n",
      " 97%|█████████▋| 4599/4727 [00:15<00:00, 434.29it/s]\u001b[A\n",
      " 98%|█████████▊| 4643/4727 [00:15<00:00, 432.63it/s]\u001b[A\n",
      " 99%|█████████▉| 4687/4727 [00:15<00:00, 426.23it/s]\u001b[A\n",
      " 85%|████████▍ | 11/13 [09:15<01:44, 52.01s/it]it/s]\u001b[A"
     ]
    },
    {
     "name": "stdout",
     "output_type": "stream",
     "text": [
      "\n",
      "\n",
      "\n",
      "SR_Roary_NoSplitParalogs_I80\n",
      "4866  total records were parsed\n"
     ]
    },
    {
     "name": "stderr",
     "output_type": "stream",
     "text": [
      "\n",
      "  0%|          | 0/4593 [00:00<?, ?it/s]\u001b[A\n",
      "  3%|▎         | 115/4593 [00:00<00:03, 1146.85it/s]\u001b[A\n",
      "  6%|▌         | 271/4593 [00:00<00:03, 1244.86it/s]\u001b[A\n",
      "  9%|▉         | 433/4593 [00:00<00:03, 1321.40it/s]\u001b[A\n",
      " 13%|█▎        | 589/4593 [00:00<00:02, 1384.25it/s]\u001b[A\n",
      " 16%|█▌        | 726/4593 [00:00<00:02, 1377.18it/s]\u001b[A\n",
      " 19%|█▉        | 873/4593 [00:00<00:02, 1399.39it/s]\u001b[A\n",
      " 22%|██▏       | 1022/4593 [00:00<00:02, 1423.54it/s]\u001b[A\n",
      " 25%|██▌       | 1159/4593 [00:00<00:02, 1406.90it/s]\u001b[A\n",
      " 28%|██▊       | 1300/4593 [00:00<00:02, 1405.45it/s]\u001b[A\n",
      " 32%|███▏      | 1455/4593 [00:01<00:02, 1443.73it/s]\u001b[A\n",
      " 35%|███▍      | 1597/4593 [00:01<00:02, 1432.14it/s]\u001b[A\n",
      " 38%|███▊      | 1759/4593 [00:01<00:01, 1478.52it/s]\u001b[A\n",
      " 41%|████▏     | 1906/4593 [00:01<00:01, 1445.73it/s]\u001b[A\n",
      " 45%|████▍     | 2051/4593 [00:01<00:01, 1403.55it/s]\u001b[A\n",
      " 48%|████▊     | 2192/4593 [00:01<00:02, 871.71it/s] \u001b[A\n",
      " 51%|█████     | 2335/4593 [00:01<00:02, 986.91it/s]\u001b[A\n",
      " 54%|█████▍    | 2472/4593 [00:01<00:01, 1075.68it/s]\u001b[A\n",
      " 58%|█████▊    | 2655/4593 [00:02<00:01, 1224.29it/s]\u001b[A\n",
      " 61%|██████    | 2798/4593 [00:02<00:01, 1232.76it/s]\u001b[A\n",
      " 64%|██████▍   | 2957/4593 [00:02<00:01, 1320.39it/s]\u001b[A\n",
      " 68%|██████▊   | 3103/4593 [00:02<00:01, 1358.79it/s]\u001b[A\n",
      " 71%|███████   | 3248/4593 [00:02<00:00, 1377.43it/s]\u001b[A\n",
      " 74%|███████▍  | 3413/4593 [00:02<00:00, 1447.77it/s]\u001b[A\n",
      " 78%|███████▊  | 3572/4593 [00:02<00:00, 1487.50it/s]\u001b[A\n",
      " 83%|████████▎ | 3794/4593 [00:02<00:00, 1649.89it/s]\u001b[A\n",
      " 90%|█████████ | 4153/4593 [00:02<00:00, 1968.37it/s]\u001b[A\n",
      " 98%|█████████▊| 4517/4593 [00:02<00:00, 2281.32it/s]\u001b[A\n",
      "100%|██████████| 4593/4593 [00:02<00:00, 1540.23it/s]\u001b[A\n",
      "  0%|          | 0/4593 [00:00<?, ?it/s]\u001b[A\n",
      "  1%|          | 29/4593 [00:00<00:16, 283.99it/s]\u001b[A\n",
      "  1%|          | 52/4593 [00:00<00:17, 264.51it/s]\u001b[A\n",
      "  2%|▏         | 81/4593 [00:00<00:16, 271.41it/s]\u001b[A\n",
      "  2%|▏         | 111/4593 [00:00<00:16, 275.89it/s]\u001b[A\n",
      "  3%|▎         | 136/4593 [00:00<00:16, 266.26it/s]\u001b[A\n",
      "  4%|▎         | 161/4593 [00:00<00:17, 260.52it/s]\u001b[A\n",
      "  4%|▍         | 187/4593 [00:00<00:16, 259.45it/s]\u001b[A\n",
      "  5%|▍         | 218/4593 [00:00<00:16, 270.04it/s]\u001b[A\n",
      "  5%|▌         | 246/4593 [00:00<00:16, 271.63it/s]\u001b[A\n",
      "  6%|▌         | 274/4593 [00:01<00:15, 271.44it/s]\u001b[A\n",
      "  7%|▋         | 304/4593 [00:01<00:15, 277.10it/s]\u001b[A\n",
      "  7%|▋         | 333/4593 [00:01<00:15, 279.23it/s]\u001b[A\n",
      "  8%|▊         | 366/4593 [00:01<00:14, 290.39it/s]\u001b[A\n",
      "  9%|▊         | 395/4593 [00:01<00:15, 275.47it/s]\u001b[A\n",
      "  9%|▉         | 423/4593 [00:01<00:15, 276.40it/s]\u001b[A\n",
      " 10%|▉         | 452/4593 [00:01<00:14, 277.02it/s]\u001b[A\n",
      " 10%|█         | 480/4593 [00:01<00:15, 274.00it/s]\u001b[A\n",
      " 11%|█         | 508/4593 [00:01<00:15, 271.95it/s]\u001b[A\n",
      " 12%|█▏        | 538/4593 [00:01<00:14, 277.50it/s]\u001b[A\n",
      " 12%|█▏        | 567/4593 [00:02<00:14, 279.45it/s]\u001b[A\n",
      " 13%|█▎        | 597/4593 [00:02<00:14, 281.88it/s]\u001b[A\n",
      " 14%|█▎        | 626/4593 [00:02<00:14, 274.89it/s]\u001b[A\n",
      " 14%|█▍        | 655/4593 [00:02<00:14, 278.42it/s]\u001b[A\n",
      " 15%|█▍        | 683/4593 [00:02<00:14, 276.09it/s]\u001b[A\n",
      " 16%|█▌        | 716/4593 [00:02<00:13, 287.09it/s]\u001b[A\n",
      " 16%|█▌        | 745/4593 [00:02<00:13, 281.53it/s]\u001b[A\n",
      " 17%|█▋        | 774/4593 [00:02<00:13, 280.10it/s]\u001b[A\n",
      " 17%|█▋        | 803/4593 [00:02<00:13, 279.29it/s]\u001b[A\n",
      " 18%|█▊        | 831/4593 [00:03<00:13, 276.42it/s]\u001b[A\n",
      " 19%|█▊        | 859/4593 [00:03<00:13, 270.79it/s]\u001b[A\n",
      " 19%|█▉        | 887/4593 [00:03<00:13, 265.22it/s]\u001b[A\n",
      " 20%|█▉        | 917/4593 [00:03<00:13, 273.99it/s]\u001b[A\n",
      " 21%|██        | 947/4593 [00:03<00:13, 280.05it/s]\u001b[A\n",
      " 21%|██        | 976/4593 [00:03<00:12, 281.02it/s]\u001b[A\n",
      " 22%|██▏       | 1006/4593 [00:03<00:12, 284.56it/s]\u001b[A\n",
      " 23%|██▎       | 1035/4593 [00:03<00:12, 284.04it/s]\u001b[A\n",
      " 23%|██▎       | 1064/4593 [00:03<00:12, 274.46it/s]\u001b[A\n",
      " 24%|██▍       | 1092/4593 [00:03<00:13, 269.15it/s]\u001b[A\n",
      " 24%|██▍       | 1120/4593 [00:04<00:13, 266.75it/s]\u001b[A\n",
      " 25%|██▌       | 1152/4593 [00:04<00:12, 279.10it/s]\u001b[A\n",
      " 26%|██▌       | 1181/4593 [00:04<00:12, 275.81it/s]\u001b[A\n",
      " 26%|██▋       | 1209/4593 [00:04<00:12, 275.43it/s]\u001b[A\n",
      " 27%|██▋       | 1237/4593 [00:04<00:12, 274.53it/s]\u001b[A\n",
      " 28%|██▊       | 1265/4593 [00:04<00:12, 260.44it/s]\u001b[A\n",
      " 28%|██▊       | 1294/4593 [00:04<00:12, 268.48it/s]\u001b[A\n",
      " 29%|██▉       | 1322/4593 [00:04<00:12, 271.34it/s]\u001b[A\n",
      " 29%|██▉       | 1350/4593 [00:04<00:11, 271.82it/s]\u001b[A\n",
      " 30%|███       | 1379/4593 [00:05<00:11, 275.98it/s]\u001b[A\n",
      " 31%|███       | 1407/4593 [00:05<00:11, 276.93it/s]\u001b[A\n",
      " 31%|███▏      | 1436/4593 [00:05<00:11, 280.38it/s]\u001b[A\n",
      " 32%|███▏      | 1465/4593 [00:05<00:11, 277.10it/s]\u001b[A\n",
      " 33%|███▎      | 1493/4593 [00:05<00:11, 276.66it/s]\u001b[A\n",
      " 33%|███▎      | 1521/4593 [00:05<00:11, 267.91it/s]\u001b[A\n",
      " 34%|███▎      | 1548/4593 [00:05<00:11, 263.09it/s]\u001b[A\n",
      " 34%|███▍      | 1575/4593 [00:05<00:11, 261.82it/s]\u001b[A\n",
      " 35%|███▍      | 1602/4593 [00:05<00:11, 264.03it/s]\u001b[A\n",
      " 35%|███▌      | 1630/4593 [00:05<00:11, 268.45it/s]\u001b[A\n",
      " 36%|███▌      | 1659/4593 [00:06<00:10, 273.17it/s]\u001b[A\n",
      " 37%|███▋      | 1691/4593 [00:06<00:10, 284.03it/s]\u001b[A\n",
      " 37%|███▋      | 1720/4593 [00:06<00:10, 282.41it/s]\u001b[A\n",
      " 38%|███▊      | 1749/4593 [00:06<00:10, 283.80it/s]\u001b[A\n",
      " 39%|███▉      | 1782/4593 [00:06<00:09, 292.84it/s]\u001b[A\n",
      " 39%|███▉      | 1812/4593 [00:06<00:09, 280.62it/s]\u001b[A\n",
      " 40%|████      | 1841/4593 [00:06<00:09, 277.35it/s]\u001b[A\n",
      " 41%|████      | 1869/4593 [00:06<00:09, 276.35it/s]\u001b[A\n",
      " 41%|████▏     | 1897/4593 [00:06<00:09, 274.48it/s]\u001b[A\n",
      " 42%|████▏     | 1925/4593 [00:06<00:09, 269.68it/s]\u001b[A\n",
      " 43%|████▎     | 1953/4593 [00:07<00:10, 263.23it/s]\u001b[A\n",
      " 43%|████▎     | 1980/4593 [00:07<00:10, 258.43it/s]\u001b[A\n",
      " 44%|████▎     | 2006/4593 [00:07<00:10, 256.60it/s]\u001b[A\n",
      " 44%|████▍     | 2034/4593 [00:07<00:09, 263.10it/s]\u001b[A\n",
      " 45%|████▍     | 2061/4593 [00:07<00:09, 254.42it/s]\u001b[A\n",
      " 45%|████▌     | 2088/4593 [00:07<00:09, 255.94it/s]\u001b[A\n",
      " 46%|████▌     | 2116/4593 [00:07<00:09, 259.36it/s]\u001b[A\n",
      " 47%|████▋     | 2145/4593 [00:07<00:09, 265.34it/s]\u001b[A\n",
      " 47%|████▋     | 2176/4593 [00:07<00:08, 276.73it/s]\u001b[A\n",
      " 48%|████▊     | 2204/4593 [00:08<00:08, 274.23it/s]\u001b[A\n",
      " 49%|████▊     | 2237/4593 [00:08<00:08, 287.63it/s]\u001b[A\n",
      " 49%|████▉     | 2267/4593 [00:08<00:08, 276.54it/s]\u001b[A\n",
      " 50%|████▉     | 2295/4593 [00:08<00:08, 262.59it/s]\u001b[A\n",
      " 51%|█████     | 2322/4593 [00:08<00:08, 262.28it/s]\u001b[A\n",
      " 51%|█████     | 2349/4593 [00:08<00:08, 259.38it/s]\u001b[A\n",
      " 52%|█████▏    | 2376/4593 [00:08<00:08, 262.20it/s]\u001b[A\n",
      " 52%|█████▏    | 2403/4593 [00:08<00:08, 262.61it/s]\u001b[A\n",
      " 53%|█████▎    | 2430/4593 [00:08<00:08, 258.58it/s]\u001b[A\n",
      " 54%|█████▎    | 2458/4593 [00:09<00:08, 263.76it/s]\u001b[A\n",
      " 54%|█████▍    | 2487/4593 [00:09<00:07, 269.01it/s]\u001b[A\n",
      " 55%|█████▍    | 2515/4593 [00:09<00:07, 271.62it/s]\u001b[A\n",
      " 56%|█████▌    | 2553/4593 [00:09<00:06, 295.36it/s]\u001b[A\n",
      " 56%|█████▋    | 2587/4593 [00:09<00:06, 305.31it/s]\u001b[A\n",
      " 57%|█████▋    | 2619/4593 [00:09<00:06, 299.82it/s]\u001b[A\n",
      " 58%|█████▊    | 2650/4593 [00:09<00:06, 289.86it/s]\u001b[A\n",
      " 58%|█████▊    | 2680/4593 [00:09<00:06, 284.12it/s]\u001b[A\n",
      " 59%|█████▉    | 2709/4593 [00:09<00:06, 276.43it/s]\u001b[A\n",
      " 60%|█████▉    | 2737/4593 [00:09<00:06, 268.84it/s]\u001b[A\n",
      " 60%|██████    | 2765/4593 [00:10<00:06, 265.32it/s]\u001b[A\n",
      " 61%|██████    | 2793/4593 [00:10<00:06, 269.27it/s]\u001b[A\n",
      " 61%|██████▏   | 2821/4593 [00:10<00:06, 270.59it/s]\u001b[A\n",
      " 62%|██████▏   | 2849/4593 [00:10<00:06, 271.40it/s]\u001b[A\n",
      " 63%|██████▎   | 2877/4593 [00:10<00:06, 269.83it/s]\u001b[A\n",
      " 63%|██████▎   | 2907/4593 [00:10<00:06, 276.36it/s]\u001b[A\n",
      " 64%|██████▍   | 2940/4593 [00:10<00:05, 289.71it/s]\u001b[A\n",
      " 65%|██████▍   | 2970/4593 [00:10<00:05, 286.47it/s]\u001b[A\n",
      " 65%|██████▌   | 2999/4593 [00:10<00:05, 287.45it/s]\u001b[A\n",
      " 66%|██████▌   | 3028/4593 [00:11<00:05, 279.74it/s]\u001b[A\n",
      " 67%|██████▋   | 3057/4593 [00:11<00:05, 282.18it/s]\u001b[A\n",
      " 67%|██████▋   | 3086/4593 [00:11<00:05, 281.12it/s]\u001b[A\n",
      " 68%|██████▊   | 3115/4593 [00:11<00:05, 273.53it/s]\u001b[A\n",
      " 68%|██████▊   | 3143/4593 [00:11<00:05, 266.56it/s]\u001b[A\n",
      " 69%|██████▉   | 3170/4593 [00:11<00:05, 265.48it/s]\u001b[A\n",
      " 70%|██████▉   | 3198/4593 [00:11<00:05, 267.71it/s]\u001b[A\n",
      " 70%|███████   | 3228/4593 [00:11<00:04, 275.00it/s]\u001b[A\n",
      " 71%|███████   | 3261/4593 [00:11<00:04, 286.96it/s]\u001b[A\n",
      " 72%|███████▏  | 3291/4593 [00:11<00:04, 290.70it/s]\u001b[A\n",
      " 72%|███████▏  | 3321/4593 [00:12<00:04, 291.09it/s]\u001b[A\n",
      " 73%|███████▎  | 3351/4593 [00:12<00:04, 285.29it/s]\u001b[A\n",
      " 74%|███████▎  | 3381/4593 [00:12<00:04, 288.41it/s]\u001b[A\n",
      " 74%|███████▍  | 3411/4593 [00:12<00:04, 291.57it/s]\u001b[A\n",
      " 75%|███████▍  | 3441/4593 [00:12<00:04, 287.52it/s]\u001b[A\n",
      " 76%|███████▌  | 3472/4593 [00:12<00:03, 291.49it/s]\u001b[A\n",
      " 76%|███████▌  | 3502/4593 [00:12<00:03, 275.41it/s]\u001b[A\n",
      " 77%|███████▋  | 3532/4593 [00:12<00:03, 280.05it/s]\u001b[A\n",
      " 78%|███████▊  | 3561/4593 [00:12<00:03, 272.02it/s]\u001b[A\n",
      " 78%|███████▊  | 3592/4593 [00:13<00:03, 280.56it/s]\u001b[A\n",
      " 79%|███████▉  | 3624/4593 [00:13<00:03, 290.14it/s]\u001b[A\n",
      " 80%|███████▉  | 3656/4593 [00:13<00:03, 297.97it/s]\u001b[A\n",
      " 80%|████████  | 3690/4593 [00:13<00:02, 308.27it/s]\u001b[A\n",
      " 81%|████████▏ | 3734/4593 [00:13<00:02, 337.42it/s]\u001b[A\n",
      " 82%|████████▏ | 3774/4593 [00:13<00:02, 353.49it/s]\u001b[A\n",
      " 83%|████████▎ | 3817/4593 [00:13<00:02, 372.14it/s]\u001b[A\n",
      " 84%|████████▍ | 3860/4593 [00:13<00:01, 386.07it/s]\u001b[A\n",
      " 85%|████████▌ | 3906/4593 [00:13<00:01, 403.84it/s]\u001b[A\n",
      " 86%|████████▌ | 3953/4593 [00:13<00:01, 420.30it/s]\u001b[A\n",
      " 87%|████████▋ | 4000/4593 [00:14<00:01, 433.67it/s]\u001b[A\n",
      " 88%|████████▊ | 4044/4593 [00:14<00:01, 433.43it/s]\u001b[A\n",
      " 89%|████████▉ | 4091/4593 [00:14<00:01, 442.36it/s]\u001b[A\n",
      " 90%|█████████ | 4136/4593 [00:14<00:01, 436.11it/s]\u001b[A\n",
      " 91%|█████████ | 4180/4593 [00:14<00:00, 423.65it/s]\u001b[A\n",
      " 92%|█████████▏| 4223/4593 [00:14<00:00, 424.33it/s]\u001b[A\n",
      " 93%|█████████▎| 4268/4593 [00:14<00:00, 430.54it/s]\u001b[A\n",
      " 94%|█████████▍| 4317/4593 [00:14<00:00, 446.27it/s]\u001b[A\n",
      " 95%|█████████▌| 4364/4593 [00:14<00:00, 452.85it/s]\u001b[A\n",
      " 96%|█████████▌| 4414/4593 [00:14<00:00, 463.23it/s]\u001b[A\n",
      " 97%|█████████▋| 4461/4593 [00:15<00:00, 455.43it/s]\u001b[A\n",
      " 98%|█████████▊| 4507/4593 [00:15<00:00, 445.11it/s]\u001b[A\n",
      " 99%|█████████▉| 4552/4593 [00:15<00:00, 437.58it/s]\u001b[A\n",
      " 92%|█████████▏| 12/13 [10:04<00:51, 51.17s/it]it/s]\u001b[A"
     ]
    },
    {
     "name": "stdout",
     "output_type": "stream",
     "text": [
      "\n",
      "\n",
      "\n",
      "SR_Roary_NoSplitParalogs_I90\n",
      "4956  total records were parsed\n"
     ]
    },
    {
     "name": "stderr",
     "output_type": "stream",
     "text": [
      "\n",
      "  0%|          | 0/4675 [00:00<?, ?it/s]\u001b[A\n",
      "  3%|▎         | 118/4675 [00:00<00:03, 1177.63it/s]\u001b[A\n",
      "  6%|▌         | 275/4675 [00:00<00:03, 1272.36it/s]\u001b[A\n",
      "  9%|▉         | 434/4675 [00:00<00:03, 1352.74it/s]\u001b[A\n",
      " 13%|█▎        | 592/4675 [00:00<00:02, 1413.45it/s]\u001b[A\n",
      " 16%|█▌        | 733/4675 [00:00<00:02, 1412.23it/s]\u001b[A\n",
      " 19%|█▉        | 884/4675 [00:00<00:02, 1439.35it/s]\u001b[A\n",
      " 22%|██▏       | 1039/4675 [00:00<00:02, 1469.25it/s]\u001b[A\n",
      " 25%|██▌       | 1184/4675 [00:00<00:02, 1459.76it/s]\u001b[A\n",
      " 28%|██▊       | 1326/4675 [00:00<00:02, 1447.30it/s]\u001b[A\n",
      " 32%|███▏      | 1475/4675 [00:01<00:02, 1459.64it/s]\u001b[A\n",
      " 35%|███▍      | 1619/4675 [00:01<00:02, 1439.41it/s]\u001b[A\n",
      " 38%|███▊      | 1787/4675 [00:01<00:01, 1503.54it/s]\u001b[A\n",
      " 41%|████▏     | 1937/4675 [00:01<00:01, 1426.47it/s]\u001b[A\n",
      " 45%|████▍     | 2081/4675 [00:01<00:01, 1385.23it/s]\u001b[A\n",
      " 48%|████▊     | 2232/4675 [00:01<00:01, 1418.93it/s]\u001b[A\n",
      " 51%|█████     | 2375/4675 [00:01<00:01, 1379.14it/s]\u001b[A\n",
      " 54%|█████▍    | 2520/4675 [00:01<00:01, 1398.06it/s]\u001b[A\n",
      " 58%|█████▊    | 2695/4675 [00:01<00:01, 1487.02it/s]\u001b[A\n",
      " 61%|██████    | 2846/4675 [00:01<00:01, 1403.84it/s]\u001b[A\n",
      " 64%|██████▍   | 3002/4675 [00:02<00:01, 1445.03it/s]\u001b[A\n",
      " 67%|██████▋   | 3149/4675 [00:02<00:01, 1419.72it/s]\u001b[A\n",
      " 71%|███████   | 3313/4675 [00:02<00:00, 1476.85it/s]\u001b[A\n",
      " 75%|███████▍  | 3484/4675 [00:02<00:00, 1538.94it/s]\u001b[A\n",
      " 78%|███████▊  | 3642/4675 [00:02<00:00, 1540.49it/s]\u001b[A\n",
      " 84%|████████▎ | 3910/4675 [00:02<00:00, 1765.38it/s]\u001b[A\n",
      " 91%|█████████ | 4258/4675 [00:02<00:00, 2069.60it/s]\u001b[A\n",
      " 99%|█████████▉| 4620/4675 [00:02<00:00, 2373.86it/s]\u001b[A\n",
      "100%|██████████| 4675/4675 [00:02<00:00, 1668.50it/s]\u001b[A\n",
      "  0%|          | 0/4675 [00:00<?, ?it/s]\u001b[A\n",
      "  1%|          | 32/4675 [00:00<00:14, 311.05it/s]\u001b[A\n",
      "  1%|          | 58/4675 [00:00<00:15, 292.88it/s]\u001b[A\n",
      "  2%|▏         | 90/4675 [00:00<00:15, 297.77it/s]\u001b[A\n",
      "  3%|▎         | 122/4675 [00:00<00:15, 300.29it/s]\u001b[A\n",
      "  3%|▎         | 151/4675 [00:00<00:15, 293.87it/s]\u001b[A\n",
      "  4%|▍         | 179/4675 [00:00<00:15, 286.94it/s]\u001b[A\n",
      "  4%|▍         | 209/4675 [00:00<00:15, 288.40it/s]\u001b[A\n",
      "  5%|▌         | 238/4675 [00:00<00:15, 286.28it/s]\u001b[A\n",
      "  6%|▌         | 268/4675 [00:00<00:15, 289.02it/s]\u001b[A\n",
      "  6%|▋         | 296/4675 [00:01<00:15, 285.04it/s]\u001b[A\n",
      "  7%|▋         | 327/4675 [00:01<00:15, 289.45it/s]\u001b[A\n",
      "  8%|▊         | 359/4675 [00:01<00:14, 295.31it/s]\u001b[A\n",
      "  8%|▊         | 389/4675 [00:01<00:15, 285.15it/s]\u001b[A\n",
      "  9%|▉         | 418/4675 [00:01<00:14, 285.36it/s]\u001b[A\n",
      " 10%|▉         | 447/4675 [00:01<00:14, 284.15it/s]\u001b[A\n",
      " 10%|█         | 476/4675 [00:01<00:14, 283.06it/s]\u001b[A\n",
      " 11%|█         | 505/4675 [00:01<00:15, 276.50it/s]\u001b[A\n",
      " 11%|█▏        | 533/4675 [00:01<00:15, 273.39it/s]\u001b[A\n",
      " 12%|█▏        | 563/4675 [00:01<00:14, 278.12it/s]\u001b[A\n",
      " 13%|█▎        | 592/4675 [00:02<00:14, 279.87it/s]\u001b[A\n",
      " 13%|█▎        | 621/4675 [00:02<00:14, 275.91it/s]\u001b[A\n",
      " 14%|█▍        | 649/4675 [00:02<00:14, 269.73it/s]\u001b[A\n",
      " 14%|█▍        | 677/4675 [00:02<00:14, 269.14it/s]\u001b[A\n",
      " 15%|█▌        | 710/4675 [00:02<00:13, 283.84it/s]\u001b[A\n",
      " 16%|█▌        | 739/4675 [00:02<00:14, 276.19it/s]\u001b[A\n",
      " 16%|█▋        | 767/4675 [00:02<00:14, 275.10it/s]\u001b[A\n",
      " 17%|█▋        | 795/4675 [00:02<00:14, 274.65it/s]\u001b[A\n",
      " 18%|█▊        | 824/4675 [00:02<00:13, 278.06it/s]\u001b[A\n",
      " 18%|█▊        | 852/4675 [00:03<00:14, 263.69it/s]\u001b[A\n",
      " 19%|█▉        | 879/4675 [00:03<00:14, 265.10it/s]\u001b[A\n",
      " 19%|█▉        | 907/4675 [00:03<00:14, 267.90it/s]\u001b[A\n",
      " 20%|█▉        | 934/4675 [00:03<00:13, 268.38it/s]\u001b[A\n",
      " 21%|██        | 962/4675 [00:03<00:13, 270.23it/s]\u001b[A\n",
      " 21%|██        | 992/4675 [00:03<00:13, 275.97it/s]\u001b[A\n",
      " 22%|██▏       | 1022/4675 [00:03<00:12, 282.12it/s]\u001b[A\n",
      " 22%|██▏       | 1051/4675 [00:03<00:13, 278.13it/s]\u001b[A\n",
      " 23%|██▎       | 1079/4675 [00:03<00:13, 267.79it/s]\u001b[A\n",
      " 24%|██▎       | 1107/4675 [00:03<00:13, 269.22it/s]\u001b[A\n",
      " 24%|██▍       | 1137/4675 [00:04<00:12, 276.24it/s]\u001b[A\n",
      " 25%|██▍       | 1167/4675 [00:04<00:12, 282.79it/s]\u001b[A\n",
      " 26%|██▌       | 1196/4675 [00:04<00:12, 277.33it/s]\u001b[A\n",
      " 26%|██▌       | 1225/4675 [00:04<00:12, 279.72it/s]\u001b[A\n",
      " 27%|██▋       | 1254/4675 [00:04<00:12, 278.73it/s]\u001b[A\n",
      " 27%|██▋       | 1282/4675 [00:04<00:17, 194.12it/s]\u001b[A\n",
      " 28%|██▊       | 1309/4675 [00:04<00:15, 211.05it/s]\u001b[A\n",
      " 29%|██▊       | 1337/4675 [00:04<00:14, 226.56it/s]\u001b[A\n",
      " 29%|██▉       | 1364/4675 [00:05<00:13, 236.63it/s]\u001b[A\n",
      " 30%|██▉       | 1391/4675 [00:05<00:13, 245.41it/s]\u001b[A\n",
      " 30%|███       | 1423/4675 [00:05<00:12, 262.85it/s]\u001b[A\n",
      " 31%|███       | 1451/4675 [00:05<00:12, 262.19it/s]\u001b[A\n",
      " 32%|███▏      | 1479/4675 [00:05<00:11, 267.07it/s]\u001b[A\n",
      " 32%|███▏      | 1507/4675 [00:05<00:12, 261.33it/s]\u001b[A\n",
      " 33%|███▎      | 1535/4675 [00:05<00:11, 264.72it/s]\u001b[A\n",
      " 33%|███▎      | 1562/4675 [00:05<00:12, 258.09it/s]\u001b[A\n",
      " 34%|███▍      | 1589/4675 [00:05<00:11, 258.89it/s]\u001b[A\n",
      " 35%|███▍      | 1617/4675 [00:05<00:11, 261.78it/s]\u001b[A\n",
      " 35%|███▌      | 1650/4675 [00:06<00:10, 278.00it/s]\u001b[A\n",
      " 36%|███▌      | 1680/4675 [00:06<00:10, 282.47it/s]\u001b[A\n",
      " 37%|███▋      | 1709/4675 [00:06<00:10, 284.13it/s]\u001b[A\n",
      " 37%|███▋      | 1738/4675 [00:06<00:10, 285.80it/s]\u001b[A\n",
      " 38%|███▊      | 1767/4675 [00:06<00:10, 285.38it/s]\u001b[A\n",
      " 38%|███▊      | 1796/4675 [00:06<00:10, 285.57it/s]\u001b[A\n",
      " 39%|███▉      | 1825/4675 [00:06<00:10, 280.68it/s]\u001b[A\n",
      " 40%|███▉      | 1854/4675 [00:06<00:10, 270.56it/s]\u001b[A\n",
      " 40%|████      | 1882/4675 [00:06<00:10, 268.71it/s]\u001b[A\n",
      " 41%|████      | 1909/4675 [00:07<00:10, 268.05it/s]\u001b[A\n",
      " 41%|████▏     | 1936/4675 [00:09<00:10, 266.27it/s]\u001b[A\n",
      " 42%|████▏     | 1963/4675 [00:09<01:13, 36.87it/s] \u001b[A\n",
      " 43%|████▎     | 1989/4675 [00:09<00:54, 49.59it/s]\u001b[A\n",
      " 43%|████▎     | 2014/4675 [00:09<00:40, 65.23it/s]\u001b[A\n",
      " 44%|████▎     | 2043/4675 [00:09<00:30, 84.97it/s]\u001b[A\n",
      " 44%|████▍     | 2068/4675 [00:09<00:24, 104.71it/s]\u001b[A\n",
      " 45%|████▍     | 2095/4675 [00:09<00:20, 127.81it/s]\u001b[A\n",
      " 45%|████▌     | 2123/4675 [00:09<00:16, 152.15it/s]\u001b[A\n",
      " 46%|████▌     | 2152/4675 [00:10<00:14, 176.42it/s]\u001b[A\n",
      " 47%|████▋     | 2184/4675 [00:10<00:12, 203.72it/s]\u001b[A\n",
      " 47%|████▋     | 2212/4675 [00:10<00:11, 219.10it/s]\u001b[A\n",
      " 48%|████▊     | 2246/4675 [00:10<00:09, 243.81it/s]\u001b[A\n",
      " 49%|████▊     | 2276/4675 [00:10<00:09, 248.22it/s]\u001b[A\n",
      " 49%|████▉     | 2305/4675 [00:10<00:09, 249.40it/s]\u001b[A\n",
      " 50%|████▉     | 2333/4675 [00:10<00:09, 256.43it/s]\u001b[A\n",
      " 51%|█████     | 2361/4675 [00:10<00:08, 258.37it/s]\u001b[A\n",
      " 51%|█████     | 2390/4675 [00:10<00:08, 266.77it/s]\u001b[A\n",
      " 52%|█████▏    | 2418/4675 [00:11<00:08, 264.83it/s]\u001b[A\n",
      " 52%|█████▏    | 2446/4675 [00:11<00:08, 268.43it/s]\u001b[A\n",
      " 53%|█████▎    | 2475/4675 [00:11<00:08, 271.85it/s]\u001b[A\n",
      " 54%|█████▎    | 2506/4675 [00:11<00:07, 281.61it/s]\u001b[A\n",
      " 54%|█████▍    | 2542/4675 [00:11<00:07, 301.10it/s]\u001b[A\n",
      " 55%|█████▌    | 2575/4675 [00:11<00:06, 307.15it/s]\u001b[A\n",
      " 56%|█████▌    | 2608/4675 [00:11<00:06, 313.49it/s]\u001b[A\n",
      " 56%|█████▋    | 2640/4675 [00:11<00:06, 300.32it/s]\u001b[A\n",
      " 57%|█████▋    | 2671/4675 [00:11<00:06, 294.28it/s]\u001b[A\n",
      " 58%|█████▊    | 2701/4675 [00:11<00:06, 292.78it/s]\u001b[A\n",
      " 58%|█████▊    | 2731/4675 [00:12<00:06, 278.61it/s]\u001b[A\n",
      " 59%|█████▉    | 2760/4675 [00:12<00:06, 276.51it/s]\u001b[A\n",
      " 60%|█████▉    | 2788/4675 [00:12<00:07, 262.01it/s]\u001b[A\n",
      " 60%|██████    | 2815/4675 [00:12<00:07, 261.34it/s]\u001b[A\n",
      " 61%|██████    | 2843/4675 [00:12<00:06, 263.73it/s]\u001b[A\n",
      " 61%|██████▏   | 2870/4675 [00:12<00:06, 264.45it/s]\u001b[A\n",
      " 62%|██████▏   | 2897/4675 [00:12<00:06, 265.84it/s]\u001b[A\n",
      " 63%|██████▎   | 2930/4675 [00:12<00:06, 280.78it/s]\u001b[A\n",
      " 63%|██████▎   | 2963/4675 [00:12<00:05, 293.30it/s]\u001b[A\n",
      " 64%|██████▍   | 2993/4675 [00:13<00:05, 282.51it/s]\u001b[A\n",
      " 65%|██████▍   | 3023/4675 [00:13<00:05, 286.30it/s]\u001b[A\n",
      " 65%|██████▌   | 3052/4675 [00:13<00:05, 285.92it/s]\u001b[A\n",
      " 66%|██████▌   | 3081/4675 [00:13<00:05, 281.43it/s]\u001b[A\n",
      " 67%|██████▋   | 3110/4675 [00:13<00:05, 283.90it/s]\u001b[A\n",
      " 67%|██████▋   | 3139/4675 [00:13<00:05, 270.96it/s]\u001b[A\n",
      " 68%|██████▊   | 3167/4675 [00:13<00:05, 266.78it/s]\u001b[A\n",
      " 68%|██████▊   | 3198/4675 [00:13<00:05, 277.20it/s]\u001b[A\n",
      " 69%|██████▉   | 3226/4675 [00:13<00:05, 269.44it/s]\u001b[A\n",
      " 70%|██████▉   | 3258/4675 [00:13<00:05, 281.87it/s]\u001b[A\n",
      " 70%|███████   | 3291/4675 [00:14<00:04, 292.96it/s]\u001b[A\n",
      " 71%|███████   | 3323/4675 [00:14<00:04, 299.14it/s]\u001b[A\n",
      " 72%|███████▏  | 3354/4675 [00:14<00:04, 301.23it/s]\u001b[A\n",
      " 72%|███████▏  | 3385/4675 [00:14<00:04, 297.34it/s]\u001b[A\n",
      " 73%|███████▎  | 3417/4675 [00:14<00:04, 302.62it/s]\u001b[A\n",
      " 74%|███████▍  | 3448/4675 [00:14<00:04, 297.50it/s]\u001b[A\n",
      " 74%|███████▍  | 3479/4675 [00:14<00:03, 299.80it/s]\u001b[A\n",
      " 75%|███████▌  | 3510/4675 [00:14<00:03, 295.09it/s]\u001b[A\n",
      " 76%|███████▌  | 3540/4675 [00:14<00:03, 290.09it/s]\u001b[A\n",
      " 76%|███████▋  | 3570/4675 [00:15<00:03, 287.46it/s]\u001b[A\n",
      " 77%|███████▋  | 3602/4675 [00:15<00:03, 295.13it/s]\u001b[A\n",
      " 78%|███████▊  | 3634/4675 [00:15<00:03, 298.96it/s]\u001b[A\n",
      " 78%|███████▊  | 3667/4675 [00:15<00:03, 306.96it/s]\u001b[A\n",
      " 79%|███████▉  | 3700/4675 [00:15<00:03, 313.02it/s]\u001b[A\n",
      " 80%|████████  | 3740/4675 [00:15<00:02, 334.82it/s]\u001b[A\n",
      " 81%|████████  | 3788/4675 [00:15<00:02, 366.70it/s]\u001b[A\n",
      " 82%|████████▏ | 3830/4675 [00:15<00:02, 381.10it/s]\u001b[A\n",
      " 83%|████████▎ | 3878/4675 [00:15<00:01, 405.36it/s]\u001b[A\n",
      " 84%|████████▍ | 3921/4675 [00:15<00:01, 410.04it/s]\u001b[A\n",
      " 85%|████████▍ | 3970/4675 [00:16<00:01, 426.53it/s]\u001b[A\n",
      " 86%|████████▌ | 4020/4675 [00:16<00:01, 444.16it/s]\u001b[A\n",
      " 87%|████████▋ | 4066/4675 [00:16<00:01, 447.98it/s]\u001b[A\n",
      " 88%|████████▊ | 4114/4675 [00:16<00:01, 453.21it/s]\u001b[A\n",
      " 89%|████████▉ | 4160/4675 [00:16<00:01, 446.81it/s]\u001b[A\n",
      " 90%|████████▉ | 4205/4675 [00:16<00:01, 437.21it/s]\u001b[A\n",
      " 91%|█████████ | 4249/4675 [00:16<00:00, 429.49it/s]\u001b[A\n",
      " 92%|█████████▏| 4293/4675 [00:16<00:00, 431.10it/s]\u001b[A\n",
      " 93%|█████████▎| 4337/4675 [00:16<00:00, 431.52it/s]\u001b[A\n",
      " 94%|█████████▍| 4385/4675 [00:16<00:00, 442.98it/s]\u001b[A\n",
      " 95%|█████████▍| 4430/4675 [00:17<00:00, 444.65it/s]\u001b[A\n",
      " 96%|█████████▌| 4477/4675 [00:17<00:00, 451.11it/s]\u001b[A\n",
      " 97%|█████████▋| 4523/4675 [00:17<00:00, 443.02it/s]\u001b[A\n",
      " 98%|█████████▊| 4568/4675 [00:17<00:00, 431.59it/s]\u001b[A\n",
      " 99%|█████████▉| 4617/4675 [00:17<00:00, 445.99it/s]\u001b[A\n",
      "100%|█████████▉| 4662/4675 [00:17<00:00, 436.75it/s]\u001b[A\n",
      "100%|██████████| 13/13 [10:56<00:00, 51.28s/it]it/s]\u001b[A"
     ]
    },
    {
     "name": "stdout",
     "output_type": "stream",
     "text": [
      "\n",
      "\n",
      "\n"
     ]
    },
    {
     "name": "stderr",
     "output_type": "stream",
     "text": [
      "\n"
     ]
    }
   ],
   "source": [
    "PG_GeneSeq_KmerCatMatch_DF_Dict = {}\n",
    "PG_GeneSeq_UnqSeqSVNodeMatch_DF_Dict = {}\n",
    "\n",
    "PG_GeneSeq_CategorySumm_DF_Dict = {}\n",
    "\n",
    "for i_Param, i_PG_Ref_FA_PATH in tqdm(PG_GeneRefFA_PATH_Dict.items()):\n",
    "    i_Ref_DictOf_Hashes, i_Ref_DictOf_SeqLen = read_kmers_from_file_ToHashesDict(i_PG_Ref_FA_PATH, 31)  \n",
    "    print(i_Param)\n",
    "\n",
    "    i_N_AsmWiGene_Dict = PresAbs_DF_Dict[i_Param][\"NumAsm_WiGene\"].to_dict()    \n",
    "\n",
    "    i_Gene_KmerCatMatch_DF = compute_kmer_match_df(i_Ref_DictOf_Hashes,\n",
    "                                                   i_Ref_DictOf_SeqLen,\n",
    "                                                   RvGeneCat_To_KmerHashes_Dict,\n",
    "                                                   i_N_AsmWiGene_Dict)\n",
    "\n",
    "    # Apply classification to the main DataFrame\n",
    "    threshold = 0.25  # Set the classification threshold\n",
    "    i_Gene_KmerCatMatch_DF[\"KmerMatch_RvGeneCat\"] = i_Gene_KmerCatMatch_DF.apply(\n",
    "        lambda row: classify_node(row, ListOf_Rv_GeneCats, threshold), axis=1)\n",
    "\n",
    "    \n",
    "    PG_GeneSeq_KmerCatMatch_DF_Dict[i_Param] = i_Gene_KmerCatMatch_DF\n",
    "    PG_GeneSeq_CategorySumm_DF_Dict[i_Param] = summarize_sv_categories_with_functional_category(i_Gene_KmerCatMatch_DF,\n",
    "                                                                                                ListOf_Rv_GeneCats)    \n",
    "\n",
    "\n",
    "    i_Gene_CompToUnqSeq_SVNodes_DF = compute_kmer_match_df(i_Ref_DictOf_Hashes,\n",
    "                                                           i_Ref_DictOf_SeqLen,\n",
    "                                                           MG_SVNodes_UnqSeq_HashDict,\n",
    "                                                           i_N_AsmWiGene_Dict)\n",
    "\n",
    "    # Apply classification to the main DataFrame\n",
    "    threshold = 0.25  # Set the classification threshold\n",
    "    i_Gene_CompToUnqSeq_SVNodes_DF[\"Matched_UnqSeq_NodeIDs\"] = i_Gene_CompToUnqSeq_SVNodes_DF.apply(\n",
    "        lambda row: classify_node(row, SVNodeIDs_UnqSeq, threshold), axis=1)\n",
    "    \n",
    "\n",
    "    PG_GeneSeq_UnqSeqSVNodeMatch_DF_Dict[i_Param] = i_Gene_CompToUnqSeq_SVNodes_DF\n",
    "\n",
    "    print(\"\\n\\n\")"
   ]
  },
  {
   "cell_type": "code",
   "execution_count": 101,
   "id": "508de546-3d80-4dde-8152-d864612be49a",
   "metadata": {},
   "outputs": [
    {
     "data": {
      "text/plain": [
       "'SR_Roary_NoSplitParalogs_I90'"
      ]
     },
     "execution_count": 101,
     "metadata": {},
     "output_type": "execute_result"
    }
   ],
   "source": [
    "i_Param"
   ]
  },
  {
   "cell_type": "code",
   "execution_count": 102,
   "id": "ee510d87-cc77-4804-a32f-645f1093e2d9",
   "metadata": {},
   "outputs": [
    {
     "data": {
      "text/html": [
       "<div>\n",
       "<style scoped>\n",
       "    .dataframe tbody tr th:only-of-type {\n",
       "        vertical-align: middle;\n",
       "    }\n",
       "\n",
       "    .dataframe tbody tr th {\n",
       "        vertical-align: top;\n",
       "    }\n",
       "\n",
       "    .dataframe thead th {\n",
       "        text-align: right;\n",
       "    }\n",
       "</style>\n",
       "<table border=\"1\" class=\"dataframe\">\n",
       "  <thead>\n",
       "    <tr style=\"text-align: right;\">\n",
       "      <th></th>\n",
       "      <th>GeneID</th>\n",
       "      <th>SeqLength</th>\n",
       "      <th>information pathways</th>\n",
       "      <th>conserved hypotheticals</th>\n",
       "      <th>cell wall and cell processes</th>\n",
       "      <th>stable RNAs</th>\n",
       "      <th>intermediary metabolism and respiration</th>\n",
       "      <th>regulatory proteins</th>\n",
       "      <th>virulence, detoxification, adaptation</th>\n",
       "      <th>insertion seqs and phages</th>\n",
       "      <th>lipid metabolism</th>\n",
       "      <th>PE/PPE</th>\n",
       "      <th>unknown</th>\n",
       "      <th>NumAsm_WiGene</th>\n",
       "      <th>KmerMatch_RvGeneCat</th>\n",
       "    </tr>\n",
       "  </thead>\n",
       "  <tbody>\n",
       "    <tr>\n",
       "      <th>0</th>\n",
       "      <td>moaE1</td>\n",
       "      <td>444</td>\n",
       "      <td>0.0</td>\n",
       "      <td>0.00</td>\n",
       "      <td>0.0</td>\n",
       "      <td>0.0</td>\n",
       "      <td>1.000000</td>\n",
       "      <td>0.0</td>\n",
       "      <td>0.0</td>\n",
       "      <td>0.0</td>\n",
       "      <td>0.0</td>\n",
       "      <td>0.0</td>\n",
       "      <td>0.0</td>\n",
       "      <td>151.0</td>\n",
       "      <td>intermediary metabolism and respiration</td>\n",
       "    </tr>\n",
       "    <tr>\n",
       "      <th>1</th>\n",
       "      <td>group_4467</td>\n",
       "      <td>603</td>\n",
       "      <td>0.0</td>\n",
       "      <td>1.00</td>\n",
       "      <td>0.0</td>\n",
       "      <td>0.0</td>\n",
       "      <td>0.000000</td>\n",
       "      <td>0.0</td>\n",
       "      <td>0.0</td>\n",
       "      <td>0.0</td>\n",
       "      <td>0.0</td>\n",
       "      <td>0.0</td>\n",
       "      <td>0.0</td>\n",
       "      <td>151.0</td>\n",
       "      <td>conserved hypotheticals</td>\n",
       "    </tr>\n",
       "    <tr>\n",
       "      <th>2</th>\n",
       "      <td>cyp141</td>\n",
       "      <td>1203</td>\n",
       "      <td>0.0</td>\n",
       "      <td>0.00</td>\n",
       "      <td>0.0</td>\n",
       "      <td>0.0</td>\n",
       "      <td>0.973572</td>\n",
       "      <td>0.0</td>\n",
       "      <td>0.0</td>\n",
       "      <td>0.0</td>\n",
       "      <td>0.0</td>\n",
       "      <td>0.0</td>\n",
       "      <td>0.0</td>\n",
       "      <td>150.0</td>\n",
       "      <td>intermediary metabolism and respiration</td>\n",
       "    </tr>\n",
       "    <tr>\n",
       "      <th>3</th>\n",
       "      <td>group_1592</td>\n",
       "      <td>471</td>\n",
       "      <td>0.0</td>\n",
       "      <td>1.00</td>\n",
       "      <td>0.0</td>\n",
       "      <td>0.0</td>\n",
       "      <td>0.000000</td>\n",
       "      <td>0.0</td>\n",
       "      <td>0.0</td>\n",
       "      <td>0.0</td>\n",
       "      <td>0.0</td>\n",
       "      <td>0.0</td>\n",
       "      <td>0.0</td>\n",
       "      <td>151.0</td>\n",
       "      <td>conserved hypotheticals</td>\n",
       "    </tr>\n",
       "    <tr>\n",
       "      <th>4</th>\n",
       "      <td>group_4812</td>\n",
       "      <td>270</td>\n",
       "      <td>0.0</td>\n",
       "      <td>0.95</td>\n",
       "      <td>0.0</td>\n",
       "      <td>0.0</td>\n",
       "      <td>0.000000</td>\n",
       "      <td>0.0</td>\n",
       "      <td>0.0</td>\n",
       "      <td>0.0</td>\n",
       "      <td>0.0</td>\n",
       "      <td>0.0</td>\n",
       "      <td>0.0</td>\n",
       "      <td>151.0</td>\n",
       "      <td>conserved hypotheticals</td>\n",
       "    </tr>\n",
       "  </tbody>\n",
       "</table>\n",
       "</div>"
      ],
      "text/plain": [
       "       GeneID  SeqLength  information pathways  conserved hypotheticals  \\\n",
       "0       moaE1        444                   0.0                     0.00   \n",
       "1  group_4467        603                   0.0                     1.00   \n",
       "2      cyp141       1203                   0.0                     0.00   \n",
       "3  group_1592        471                   0.0                     1.00   \n",
       "4  group_4812        270                   0.0                     0.95   \n",
       "\n",
       "   cell wall and cell processes  stable RNAs  \\\n",
       "0                           0.0          0.0   \n",
       "1                           0.0          0.0   \n",
       "2                           0.0          0.0   \n",
       "3                           0.0          0.0   \n",
       "4                           0.0          0.0   \n",
       "\n",
       "   intermediary metabolism and respiration  regulatory proteins  \\\n",
       "0                                 1.000000                  0.0   \n",
       "1                                 0.000000                  0.0   \n",
       "2                                 0.973572                  0.0   \n",
       "3                                 0.000000                  0.0   \n",
       "4                                 0.000000                  0.0   \n",
       "\n",
       "   virulence, detoxification, adaptation  insertion seqs and phages  \\\n",
       "0                                    0.0                        0.0   \n",
       "1                                    0.0                        0.0   \n",
       "2                                    0.0                        0.0   \n",
       "3                                    0.0                        0.0   \n",
       "4                                    0.0                        0.0   \n",
       "\n",
       "   lipid metabolism  PE/PPE  unknown  NumAsm_WiGene  \\\n",
       "0               0.0     0.0      0.0          151.0   \n",
       "1               0.0     0.0      0.0          151.0   \n",
       "2               0.0     0.0      0.0          150.0   \n",
       "3               0.0     0.0      0.0          151.0   \n",
       "4               0.0     0.0      0.0          151.0   \n",
       "\n",
       "                       KmerMatch_RvGeneCat  \n",
       "0  intermediary metabolism and respiration  \n",
       "1                  conserved hypotheticals  \n",
       "2  intermediary metabolism and respiration  \n",
       "3                  conserved hypotheticals  \n",
       "4                  conserved hypotheticals  "
      ]
     },
     "execution_count": 102,
     "metadata": {},
     "output_type": "execute_result"
    }
   ],
   "source": [
    "i_Gene_KmerCatMatch_DF.head(5)"
   ]
  },
  {
   "cell_type": "code",
   "execution_count": 103,
   "id": "10371f0d-2a2c-47e4-8f34-bc9ef5756724",
   "metadata": {},
   "outputs": [
    {
     "data": {
      "text/plain": [
       "4675"
      ]
     },
     "execution_count": 103,
     "metadata": {},
     "output_type": "execute_result"
    }
   ],
   "source": [
    "len(list(i_Ref_DictOf_Hashes.keys()))"
   ]
  },
  {
   "cell_type": "code",
   "execution_count": null,
   "id": "522d38b4-ce69-4dfb-8569-b0f980b7d62c",
   "metadata": {},
   "outputs": [],
   "source": []
  },
  {
   "cell_type": "code",
   "execution_count": 159,
   "id": "ea4561d3-4169-446c-89bf-df0ade31e144",
   "metadata": {},
   "outputs": [
    {
     "data": {
      "text/plain": [
       "(3979, 467)"
      ]
     },
     "execution_count": 159,
     "metadata": {},
     "output_type": "execute_result"
    }
   ],
   "source": [
    "PG_GeneSeq_UnqSeqSVNodeMatch_DF_Dict['Roary_NoSplitParalogs_I80'].shape"
   ]
  },
  {
   "cell_type": "code",
   "execution_count": 160,
   "id": "4a7bd3c0-7fd0-440e-bd9e-9f70721996ae",
   "metadata": {},
   "outputs": [
    {
     "data": {
      "text/plain": [
       "(4015, 467)"
      ]
     },
     "execution_count": 160,
     "metadata": {},
     "output_type": "execute_result"
    }
   ],
   "source": [
    "PG_GeneSeq_UnqSeqSVNodeMatch_DF_Dict['Roary_NoSplitParalogs_I90'].shape"
   ]
  },
  {
   "cell_type": "code",
   "execution_count": null,
   "id": "176bd2e3-f789-4d35-ae53-7d1437b6d19b",
   "metadata": {},
   "outputs": [],
   "source": [
    "PG_GeneSeq_UnqSeqSVNodeMatch_DF_Dict['Roary_NoSplitParalogs_I90'].shape"
   ]
  },
  {
   "cell_type": "code",
   "execution_count": null,
   "id": "0d19401f-e9b5-4f24-ad67-0dbab28ea737",
   "metadata": {},
   "outputs": [],
   "source": []
  },
  {
   "cell_type": "code",
   "execution_count": 162,
   "id": "50a30152-ef3d-4197-ae7b-400348b19d6a",
   "metadata": {},
   "outputs": [
    {
     "name": "stdout",
     "output_type": "stream",
     "text": [
      "Panaroo_Strict_MP\n",
      "4200\n",
      "(4200, 467)\n",
      "\n",
      "Panaroo_Moderate_MP\n",
      "4280\n",
      "(4280, 467)\n",
      "\n",
      "Panaroo_Sens_MP\n",
      "4281\n",
      "(4281, 467)\n",
      "\n",
      "Roary_Default\n",
      "5366\n",
      "(4951, 467)\n",
      "\n",
      "Roary_NoSplitParalogs\n",
      "4366\n",
      "(4074, 467)\n",
      "\n",
      "Roary_NoSplitParalogs_I80\n",
      "4252\n",
      "(3979, 467)\n",
      "\n",
      "Roary_NoSplitParalogs_I90\n",
      "4293\n",
      "(4015, 467)\n",
      "\n",
      "SR_Panaroo_Strict_MP\n",
      "4211\n",
      "(4211, 467)\n",
      "\n",
      "SR_Panaroo_Sens_MP\n",
      "4600\n",
      "(4600, 467)\n",
      "\n",
      "SR_Roary_Default\n",
      "6006\n",
      "(5609, 467)\n",
      "\n",
      "SR_Roary_NoSplitParalogs\n",
      "5025\n",
      "(4727, 467)\n",
      "\n",
      "SR_Roary_NoSplitParalogs_I80\n",
      "4866\n",
      "(4593, 467)\n",
      "\n",
      "SR_Roary_NoSplitParalogs_I90\n",
      "4956\n",
      "(4675, 467)\n",
      "\n"
     ]
    }
   ],
   "source": [
    "for i_Param, i_PG_Ref_FA_PATH in (PG_GeneRefFA_PATH_Dict.items()):\n",
    "    \n",
    "    print(i_Param)\n",
    "    !grep ^\">\" $i_PG_Ref_FA_PATH | wc -l \n",
    "    print(PG_GeneSeq_UnqSeqSVNodeMatch_DF_Dict[i_Param].shape)\n",
    "    print()"
   ]
  },
  {
   "cell_type": "code",
   "execution_count": null,
   "id": "c3963f4f-6272-4e50-a7ee-95e54370610b",
   "metadata": {},
   "outputs": [],
   "source": []
  },
  {
   "cell_type": "code",
   "execution_count": null,
   "id": "bfe9be8e-771e-4556-891f-038538cbcdf4",
   "metadata": {},
   "outputs": [],
   "source": []
  },
  {
   "cell_type": "markdown",
   "id": "24f509ac-f1bc-464f-8394-5b3e218e839f",
   "metadata": {},
   "source": [
    "# Analysis of matching analysis of SV Nodes to Accessory Genes"
   ]
  },
  {
   "cell_type": "code",
   "execution_count": 104,
   "id": "9907ff82-6454-4128-a937-345cf3826c84",
   "metadata": {},
   "outputs": [],
   "source": [
    "X_SummCols = [\"GeneID\", \"SeqLength\", \"NumAsm_WiGene\", \"Matched_UnqSeq_NodeIDs\"]\n"
   ]
  },
  {
   "cell_type": "code",
   "execution_count": 105,
   "id": "f332bcf4-397c-4ae9-81ac-cf7f23ec61fb",
   "metadata": {},
   "outputs": [
    {
     "data": {
      "text/plain": [
       "dict_keys(['Panaroo_Strict_MP', 'Panaroo_Moderate_MP', 'Panaroo_Sens_MP', 'Roary_Default', 'Roary_NoSplitParalogs', 'Roary_NoSplitParalogs_I80', 'Roary_NoSplitParalogs_I90', 'SR_Panaroo_Strict_MP', 'SR_Panaroo_Sens_MP', 'SR_Roary_Default', 'SR_Roary_NoSplitParalogs', 'SR_Roary_NoSplitParalogs_I80', 'SR_Roary_NoSplitParalogs_I90'])"
      ]
     },
     "execution_count": 105,
     "metadata": {},
     "output_type": "execute_result"
    }
   ],
   "source": [
    "PG_OutDir_Dict.keys()"
   ]
  },
  {
   "cell_type": "markdown",
   "id": "4422637b-74d2-47e9-8711-4cfde3cf31b8",
   "metadata": {},
   "source": [
    "### Create DFs of interest for each PG analysis output "
   ]
  },
  {
   "cell_type": "code",
   "execution_count": 106,
   "id": "20f6ae77-947d-4843-8207-01c1fecd6b1b",
   "metadata": {},
   "outputs": [],
   "source": [
    "PStrict_MP_X = PG_GeneSeq_UnqSeqSVNodeMatch_DF_Dict['Panaroo_Strict_MP'][X_SummCols]\n",
    "PStrict_MP_Acc = PStrict_MP_X.query(\"NumAsm_WiGene < 151\")\n",
    "PStrict_MP_X2 = PStrict_MP_X.query(\"Matched_UnqSeq_NodeIDs != 'None'\")"
   ]
  },
  {
   "cell_type": "code",
   "execution_count": 107,
   "id": "8786b0f0-4570-4afb-9188-b85e243c4a27",
   "metadata": {},
   "outputs": [],
   "source": [
    "SR_PStrict_MP_X = PG_GeneSeq_UnqSeqSVNodeMatch_DF_Dict['SR_Panaroo_Strict_MP'][X_SummCols]\n",
    "SR_PStrict_MP_Acc = SR_PStrict_MP_X.query(\"NumAsm_WiGene < 151\")\n",
    "SR_PStrict_MP_X2 = SR_PStrict_MP_X.query(\"Matched_UnqSeq_NodeIDs != 'None'\")"
   ]
  },
  {
   "cell_type": "code",
   "execution_count": 108,
   "id": "fbc56659-9c29-4aeb-88f7-5a811b16e428",
   "metadata": {},
   "outputs": [],
   "source": [
    "# PStrict_X = PG_GeneSeq_UnqSeqSVNodeMatch_DF_Dict['Panaroo_Strict'][X_SummCols]\n",
    "# PStrict_Acc = PStrict_X.query(\"NumAsm_WiGene < 151\")\n",
    "# PStrict_X2 = PStrict_X.query(\"Matched_UnqSeq_NodeIDs != 'None'\") "
   ]
  },
  {
   "cell_type": "code",
   "execution_count": 109,
   "id": "552d69bf-3ff8-4e8c-b53f-875b71e7e768",
   "metadata": {},
   "outputs": [],
   "source": [
    "PSens_MP_X = PG_GeneSeq_UnqSeqSVNodeMatch_DF_Dict['Panaroo_Sens_MP'][X_SummCols]\n",
    "PSens_MP_Acc = PSens_MP_X.query(\"NumAsm_WiGene < 151\")\n",
    "PSens_MP_X2 = PSens_MP_X.query(\"Matched_UnqSeq_NodeIDs != 'None'\") "
   ]
  },
  {
   "cell_type": "code",
   "execution_count": 110,
   "id": "4674cd61-9909-4a77-afbf-66a454f47afa",
   "metadata": {},
   "outputs": [],
   "source": [
    "# PSens_X = PG_GeneSeq_UnqSeqSVNodeMatch_DF_Dict['Panaroo_Sens'][X_SummCols]\n",
    "# PSens_Acc = PSens_X.query(\"NumAsm_WiGene < 151\")\n",
    "# PSens_X2 = PSens_X.query(\"Matched_UnqSeq_NodeIDs != 'None'\")  "
   ]
  },
  {
   "cell_type": "code",
   "execution_count": 111,
   "id": "c287f86f-d157-4d4c-9577-3bc3d4fed846",
   "metadata": {},
   "outputs": [],
   "source": [
    "RDefault_X = PG_GeneSeq_UnqSeqSVNodeMatch_DF_Dict['Roary_Default'][X_SummCols]\n",
    "RDefault_Acc = RDefault_X.query(\"NumAsm_WiGene < 151\")\n",
    "RDefault_X2 = RDefault_X.query(\"Matched_UnqSeq_NodeIDs != 'None'\") "
   ]
  },
  {
   "cell_type": "code",
   "execution_count": 112,
   "id": "4fe40119-b4c7-4556-8da3-db2d3fb59213",
   "metadata": {},
   "outputs": [],
   "source": [
    "SR_RDefault_X = PG_GeneSeq_UnqSeqSVNodeMatch_DF_Dict['SR_Roary_Default'][X_SummCols]\n",
    "SR_RDefault_Acc = SR_RDefault_X.query(\"NumAsm_WiGene < 151\")\n",
    "SR_RDefault_X2 = SR_RDefault_X.query(\"Matched_UnqSeq_NodeIDs != 'None'\") "
   ]
  },
  {
   "cell_type": "code",
   "execution_count": 113,
   "id": "e4cbe642-333d-40f8-a9d3-b8ef2a07c662",
   "metadata": {},
   "outputs": [],
   "source": [
    "RDefault_MP_X = PG_GeneSeq_UnqSeqSVNodeMatch_DF_Dict['Roary_NoSplitParalogs'][X_SummCols]\n",
    "RDefault_MP_Acc = RDefault_MP_X.query(\"NumAsm_WiGene < 151\")\n",
    "RDefault_MP_X2 = RDefault_MP_X.query(\"Matched_UnqSeq_NodeIDs != 'None'\") "
   ]
  },
  {
   "cell_type": "code",
   "execution_count": 114,
   "id": "1d62dda0-65b1-4efb-89a3-80d545e74e17",
   "metadata": {},
   "outputs": [],
   "source": [
    "RI80_MP_X = PG_GeneSeq_UnqSeqSVNodeMatch_DF_Dict['Roary_NoSplitParalogs_I80'][X_SummCols]\n",
    "RI80_MP_Acc = RI80_MP_X.query(\"NumAsm_WiGene < 151\")\n",
    "RI80_MP_X2 = RI80_MP_X.query(\"Matched_UnqSeq_NodeIDs != 'None'\") "
   ]
  },
  {
   "cell_type": "code",
   "execution_count": 115,
   "id": "bcc2ac73-5a03-4ce3-afc7-b7b13db3cf67",
   "metadata": {},
   "outputs": [],
   "source": [
    "RI90_MP_X = PG_GeneSeq_UnqSeqSVNodeMatch_DF_Dict['Roary_NoSplitParalogs_I90'][X_SummCols]\n",
    "RI90_MP_Acc = RI80_MP_X.query(\"NumAsm_WiGene < 151\")\n",
    "RI90_MP_X2 = RI80_MP_X.query(\"Matched_UnqSeq_NodeIDs != 'None'\") "
   ]
  },
  {
   "cell_type": "code",
   "execution_count": 148,
   "id": "f929536b-6c9d-47b4-be7b-78e55bb38c97",
   "metadata": {},
   "outputs": [
    {
     "data": {
      "text/plain": [
       "(3979, 4)"
      ]
     },
     "execution_count": 148,
     "metadata": {},
     "output_type": "execute_result"
    }
   ],
   "source": [
    "RI80_MP_X.shape"
   ]
  },
  {
   "cell_type": "code",
   "execution_count": 149,
   "id": "2823f01e-a5fa-4698-b303-692eaa6db3fa",
   "metadata": {},
   "outputs": [
    {
     "data": {
      "text/plain": [
       "(4015, 4)"
      ]
     },
     "execution_count": 149,
     "metadata": {},
     "output_type": "execute_result"
    }
   ],
   "source": [
    "RI90_MP_X.shape"
   ]
  },
  {
   "cell_type": "code",
   "execution_count": 150,
   "id": "07f162fc-14ef-489e-a1e8-3202c7530ae3",
   "metadata": {},
   "outputs": [
    {
     "data": {
      "text/plain": [
       "(4074, 4)"
      ]
     },
     "execution_count": 150,
     "metadata": {},
     "output_type": "execute_result"
    }
   ],
   "source": [
    "RDefault_MP_X.shape"
   ]
  },
  {
   "cell_type": "code",
   "execution_count": 151,
   "id": "7c46c92a-c889-4d33-b403-0e5697dad372",
   "metadata": {},
   "outputs": [
    {
     "data": {
      "text/plain": [
       "(5609, 4)"
      ]
     },
     "execution_count": 151,
     "metadata": {},
     "output_type": "execute_result"
    }
   ],
   "source": [
    "SR_RDefault_X.shape"
   ]
  },
  {
   "cell_type": "code",
   "execution_count": 152,
   "id": "39c29efb-c790-4f5e-82d6-b57931cce367",
   "metadata": {},
   "outputs": [
    {
     "data": {
      "text/plain": [
       "(4200, 4)"
      ]
     },
     "execution_count": 152,
     "metadata": {},
     "output_type": "execute_result"
    }
   ],
   "source": [
    "PStrict_MP_X.shape"
   ]
  },
  {
   "cell_type": "code",
   "execution_count": null,
   "id": "bbd581b6-bfe9-4484-9c2e-11703c8db62a",
   "metadata": {},
   "outputs": [],
   "source": []
  },
  {
   "cell_type": "code",
   "execution_count": null,
   "id": "b2547c5e-672c-4f27-b9e4-12fce02fde78",
   "metadata": {},
   "outputs": [],
   "source": []
  },
  {
   "cell_type": "code",
   "execution_count": null,
   "id": "266eb2e6-c4c3-40fc-a792-fb2769d569e2",
   "metadata": {},
   "outputs": [],
   "source": []
  },
  {
   "cell_type": "code",
   "execution_count": 116,
   "id": "06a96ef7-1dbb-49cc-b15e-f1e51cc0e717",
   "metadata": {},
   "outputs": [
    {
     "data": {
      "text/html": [
       "<div>\n",
       "<style scoped>\n",
       "    .dataframe tbody tr th:only-of-type {\n",
       "        vertical-align: middle;\n",
       "    }\n",
       "\n",
       "    .dataframe tbody tr th {\n",
       "        vertical-align: top;\n",
       "    }\n",
       "\n",
       "    .dataframe thead th {\n",
       "        text-align: right;\n",
       "    }\n",
       "</style>\n",
       "<table border=\"1\" class=\"dataframe\">\n",
       "  <thead>\n",
       "    <tr style=\"text-align: right;\">\n",
       "      <th></th>\n",
       "      <th>GeneID</th>\n",
       "      <th>SeqLength</th>\n",
       "      <th>NumAsm_WiGene</th>\n",
       "      <th>Matched_UnqSeq_NodeIDs</th>\n",
       "    </tr>\n",
       "  </thead>\n",
       "  <tbody>\n",
       "    <tr>\n",
       "      <th>0</th>\n",
       "      <td>dnaA</td>\n",
       "      <td>1491</td>\n",
       "      <td>151</td>\n",
       "      <td>None</td>\n",
       "    </tr>\n",
       "    <tr>\n",
       "      <th>1</th>\n",
       "      <td>dnaN</td>\n",
       "      <td>1209</td>\n",
       "      <td>151</td>\n",
       "      <td>None</td>\n",
       "    </tr>\n",
       "  </tbody>\n",
       "</table>\n",
       "</div>"
      ],
      "text/plain": [
       "  GeneID  SeqLength  NumAsm_WiGene Matched_UnqSeq_NodeIDs\n",
       "0   dnaA       1491            151                   None\n",
       "1   dnaN       1209            151                   None"
      ]
     },
     "execution_count": 116,
     "metadata": {},
     "output_type": "execute_result"
    }
   ],
   "source": [
    "PStrict_MP_X.head(2)"
   ]
  },
  {
   "cell_type": "code",
   "execution_count": null,
   "id": "61b8631b-190e-4ca0-bd9b-7b4f9f71c7af",
   "metadata": {},
   "outputs": [],
   "source": []
  },
  {
   "cell_type": "markdown",
   "id": "0cd63329-6fa2-40cf-acc1-3d2c55b7421d",
   "metadata": {},
   "source": [
    "### Look at cumulative length for each PG output"
   ]
  },
  {
   "cell_type": "code",
   "execution_count": 117,
   "id": "fae7427c-f3dd-4464-aa4e-86d309198de7",
   "metadata": {},
   "outputs": [
    {
     "data": {
      "text/plain": [
       "301511"
      ]
     },
     "execution_count": 117,
     "metadata": {},
     "output_type": "execute_result"
    }
   ],
   "source": [
    "MG_SVNodes_UnqSeq_DF[\"SeqLength\"].sum()"
   ]
  },
  {
   "cell_type": "markdown",
   "id": "8cfbeebb-0557-4ff5-8f52-08d708568bbf",
   "metadata": {},
   "source": [
    "#### `PStrict_MP`"
   ]
  },
  {
   "cell_type": "code",
   "execution_count": 139,
   "id": "1b1eef2e-80c5-40b8-aad5-8f061ce79f29",
   "metadata": {},
   "outputs": [
    {
     "data": {
      "text/plain": [
       "510334"
      ]
     },
     "execution_count": 139,
     "metadata": {},
     "output_type": "execute_result"
    }
   ],
   "source": [
    "PStrict_MP_Acc[\"SeqLength\"].sum()"
   ]
  },
  {
   "cell_type": "code",
   "execution_count": 140,
   "id": "6bbbfd89-42ca-422b-b716-b26bfadf0f08",
   "metadata": {},
   "outputs": [
    {
     "data": {
      "text/plain": [
       "317558"
      ]
     },
     "execution_count": 140,
     "metadata": {},
     "output_type": "execute_result"
    }
   ],
   "source": [
    "PStrict_MP_X2[\"SeqLength\"].sum() "
   ]
  },
  {
   "cell_type": "code",
   "execution_count": 141,
   "id": "e9639ccc-8a54-4b15-a9f5-b5926129b4d1",
   "metadata": {},
   "outputs": [
    {
     "data": {
      "text/plain": [
       "1.6925883301106759"
      ]
     },
     "execution_count": 141,
     "metadata": {},
     "output_type": "execute_result"
    }
   ],
   "source": [
    "510334 / 301511"
   ]
  },
  {
   "cell_type": "markdown",
   "id": "926977b7-6277-4fe8-8943-9d233b4bfad6",
   "metadata": {},
   "source": [
    "#### `PSens_MP`"
   ]
  },
  {
   "cell_type": "code",
   "execution_count": 142,
   "id": "41ca3a1c-76d6-4be4-b813-c2a616139bb3",
   "metadata": {},
   "outputs": [
    {
     "data": {
      "text/plain": [
       "531574"
      ]
     },
     "execution_count": 142,
     "metadata": {},
     "output_type": "execute_result"
    }
   ],
   "source": [
    "PSens_MP_Acc[\"SeqLength\"].sum()"
   ]
  },
  {
   "cell_type": "code",
   "execution_count": 143,
   "id": "48dbf244-108a-4622-915d-8b8ad06b4166",
   "metadata": {},
   "outputs": [
    {
     "data": {
      "text/plain": [
       "319043"
      ]
     },
     "execution_count": 143,
     "metadata": {},
     "output_type": "execute_result"
    }
   ],
   "source": [
    "PSens_MP_X2[\"SeqLength\"].sum()"
   ]
  },
  {
   "cell_type": "code",
   "execution_count": 144,
   "id": "568c4589-de67-430d-a4f2-ecf3e52c1fd9",
   "metadata": {},
   "outputs": [
    {
     "data": {
      "text/plain": [
       "1.7630335211650654"
      ]
     },
     "execution_count": 144,
     "metadata": {},
     "output_type": "execute_result"
    }
   ],
   "source": [
    "531574 / 301511"
   ]
  },
  {
   "cell_type": "markdown",
   "id": "36ecfb22-e2ab-43ef-8c5b-6db4d201d1df",
   "metadata": {},
   "source": [
    "#### `PSens`"
   ]
  },
  {
   "cell_type": "code",
   "execution_count": 124,
   "id": "1bfaca3e-44dd-4fc8-9403-0434699359a6",
   "metadata": {},
   "outputs": [],
   "source": [
    "#PSens_Acc[\"SeqLength\"].sum()"
   ]
  },
  {
   "cell_type": "code",
   "execution_count": 125,
   "id": "0e30c866-93dc-4d5a-bc6b-9e3cf3d82754",
   "metadata": {},
   "outputs": [],
   "source": [
    "#PSens_X2[\"SeqLength\"].sum()"
   ]
  },
  {
   "cell_type": "markdown",
   "id": "361a9b0e-9985-4919-aaca-055756422215",
   "metadata": {},
   "source": [
    "#### `RDefault`"
   ]
  },
  {
   "cell_type": "code",
   "execution_count": 126,
   "id": "511bd55e-2d16-46b5-9791-56fd5ad3180a",
   "metadata": {},
   "outputs": [
    {
     "data": {
      "text/plain": [
       "1777722"
      ]
     },
     "execution_count": 126,
     "metadata": {},
     "output_type": "execute_result"
    }
   ],
   "source": [
    "RDefault_Acc[\"SeqLength\"].sum()"
   ]
  },
  {
   "cell_type": "code",
   "execution_count": 127,
   "id": "6cda8887-2e0e-4c04-ad86-c0dd2de12bb2",
   "metadata": {},
   "outputs": [
    {
     "data": {
      "text/plain": [
       "437484"
      ]
     },
     "execution_count": 127,
     "metadata": {},
     "output_type": "execute_result"
    }
   ],
   "source": [
    "RDefault_X2[\"SeqLength\"].sum()"
   ]
  },
  {
   "cell_type": "code",
   "execution_count": 128,
   "id": "48afe847-d5f3-4a5f-bfcf-95ee93dcf850",
   "metadata": {},
   "outputs": [
    {
     "data": {
      "text/plain": [
       "5.896043593766065"
      ]
     },
     "execution_count": 128,
     "metadata": {},
     "output_type": "execute_result"
    }
   ],
   "source": [
    "1777722 / 301511"
   ]
  },
  {
   "cell_type": "markdown",
   "id": "c36f0ab4-46e3-4825-aa5f-7b8f8aa85142",
   "metadata": {},
   "source": [
    "#### `RDefault_MP` "
   ]
  },
  {
   "cell_type": "code",
   "execution_count": 129,
   "id": "8f0270e3-be94-46e8-a2b8-795dc52d520b",
   "metadata": {},
   "outputs": [
    {
     "data": {
      "text/plain": [
       "(4074, 4)"
      ]
     },
     "execution_count": 129,
     "metadata": {},
     "output_type": "execute_result"
    }
   ],
   "source": [
    "RDefault_MP_X.shape"
   ]
  },
  {
   "cell_type": "code",
   "execution_count": 130,
   "id": "66a6a0a6-6a70-4db7-b305-89bcf4025a0a",
   "metadata": {},
   "outputs": [
    {
     "data": {
      "text/plain": [
       "(694, 4)"
      ]
     },
     "execution_count": 130,
     "metadata": {},
     "output_type": "execute_result"
    }
   ],
   "source": [
    "RDefault_MP_Acc.shape"
   ]
  },
  {
   "cell_type": "code",
   "execution_count": 131,
   "id": "74651afc-836a-45f7-bef7-124cb494dac5",
   "metadata": {},
   "outputs": [
    {
     "data": {
      "text/plain": [
       "404817"
      ]
     },
     "execution_count": 131,
     "metadata": {},
     "output_type": "execute_result"
    }
   ],
   "source": [
    "RDefault_MP_Acc[\"SeqLength\"].sum()"
   ]
  },
  {
   "cell_type": "code",
   "execution_count": 132,
   "id": "a4bc47f0-308c-43b1-8d3b-987a0304d20c",
   "metadata": {},
   "outputs": [
    {
     "data": {
      "text/plain": [
       "262305"
      ]
     },
     "execution_count": 132,
     "metadata": {},
     "output_type": "execute_result"
    }
   ],
   "source": [
    "RDefault_MP_X2[\"SeqLength\"].sum()"
   ]
  },
  {
   "cell_type": "code",
   "execution_count": 133,
   "id": "f37e2516-c200-41ea-8550-b2f43596942d",
   "metadata": {},
   "outputs": [
    {
     "data": {
      "text/plain": [
       "1.3426276321593573"
      ]
     },
     "execution_count": 133,
     "metadata": {},
     "output_type": "execute_result"
    }
   ],
   "source": [
    "404817 / 301511"
   ]
  },
  {
   "cell_type": "code",
   "execution_count": 134,
   "id": "908c505e-f379-4618-94dc-8577ffb687a4",
   "metadata": {},
   "outputs": [
    {
     "data": {
      "text/plain": [
       "(5609, 4)"
      ]
     },
     "execution_count": 134,
     "metadata": {},
     "output_type": "execute_result"
    }
   ],
   "source": [
    "SR_RDefault_X.shape"
   ]
  },
  {
   "cell_type": "code",
   "execution_count": 135,
   "id": "b19602d2-4b93-4da8-a3c9-9049826611b7",
   "metadata": {},
   "outputs": [
    {
     "data": {
      "text/plain": [
       "2833326"
      ]
     },
     "execution_count": 135,
     "metadata": {},
     "output_type": "execute_result"
    }
   ],
   "source": [
    "SR_RDefault_Acc[\"SeqLength\"].sum()"
   ]
  },
  {
   "cell_type": "code",
   "execution_count": 136,
   "id": "eb6a333f-42ef-44aa-b048-e5bd31242fd2",
   "metadata": {},
   "outputs": [
    {
     "data": {
      "text/plain": [
       "401448"
      ]
     },
     "execution_count": 136,
     "metadata": {},
     "output_type": "execute_result"
    }
   ],
   "source": [
    "SR_RDefault_X2[\"SeqLength\"].sum()"
   ]
  },
  {
   "cell_type": "code",
   "execution_count": null,
   "id": "9c351477-6892-457e-869c-1ae258638240",
   "metadata": {},
   "outputs": [],
   "source": []
  },
  {
   "cell_type": "code",
   "execution_count": 137,
   "id": "d572c3fa-fa50-4b4a-9c7d-e90eec29a8a8",
   "metadata": {},
   "outputs": [
    {
     "data": {
      "text/html": [
       "<div>\n",
       "<style scoped>\n",
       "    .dataframe tbody tr th:only-of-type {\n",
       "        vertical-align: middle;\n",
       "    }\n",
       "\n",
       "    .dataframe tbody tr th {\n",
       "        vertical-align: top;\n",
       "    }\n",
       "\n",
       "    .dataframe thead th {\n",
       "        text-align: right;\n",
       "    }\n",
       "</style>\n",
       "<table border=\"1\" class=\"dataframe\">\n",
       "  <thead>\n",
       "    <tr style=\"text-align: right;\">\n",
       "      <th></th>\n",
       "      <th>GeneID</th>\n",
       "      <th>SeqLength</th>\n",
       "      <th>NumAsm_WiGene</th>\n",
       "      <th>Matched_UnqSeq_NodeIDs</th>\n",
       "    </tr>\n",
       "  </thead>\n",
       "  <tbody>\n",
       "    <tr>\n",
       "      <th>0</th>\n",
       "      <td>dnaA</td>\n",
       "      <td>1491</td>\n",
       "      <td>151.0</td>\n",
       "      <td>None</td>\n",
       "    </tr>\n",
       "    <tr>\n",
       "      <th>1</th>\n",
       "      <td>dnaN</td>\n",
       "      <td>1209</td>\n",
       "      <td>151.0</td>\n",
       "      <td>None</td>\n",
       "    </tr>\n",
       "    <tr>\n",
       "      <th>2</th>\n",
       "      <td>recF</td>\n",
       "      <td>1158</td>\n",
       "      <td>151.0</td>\n",
       "      <td>None</td>\n",
       "    </tr>\n",
       "  </tbody>\n",
       "</table>\n",
       "</div>"
      ],
      "text/plain": [
       "  GeneID  SeqLength  NumAsm_WiGene Matched_UnqSeq_NodeIDs\n",
       "0   dnaA       1491          151.0                   None\n",
       "1   dnaN       1209          151.0                   None\n",
       "2   recF       1158          151.0                   None"
      ]
     },
     "execution_count": 137,
     "metadata": {},
     "output_type": "execute_result"
    }
   ],
   "source": [
    "RDefault_MP_X.head(3)"
   ]
  },
  {
   "cell_type": "code",
   "execution_count": null,
   "id": "ef8ae5a3-7b38-414b-a111-173eaef1f1ad",
   "metadata": {},
   "outputs": [],
   "source": []
  },
  {
   "cell_type": "code",
   "execution_count": 138,
   "id": "7d2a43ba-9a83-4960-863f-90ac425f6aec",
   "metadata": {},
   "outputs": [
    {
     "ename": "NameError",
     "evalue": "name 'PSMP_X' is not defined",
     "output_type": "error",
     "traceback": [
      "\u001b[0;31m---------------------------------------------------------------------------\u001b[0m",
      "\u001b[0;31mNameError\u001b[0m                                 Traceback (most recent call last)",
      "\u001b[0;32m<ipython-input-138-736cbd86962c>\u001b[0m in \u001b[0;36m<module>\u001b[0;34m\u001b[0m\n\u001b[0;32m----> 1\u001b[0;31m \u001b[0mPSMP_X\u001b[0m\u001b[0;34m.\u001b[0m\u001b[0mshape\u001b[0m\u001b[0;34m\u001b[0m\u001b[0;34m\u001b[0m\u001b[0m\n\u001b[0m",
      "\u001b[0;31mNameError\u001b[0m: name 'PSMP_X' is not defined"
     ]
    }
   ],
   "source": [
    "PSMP_X.shape"
   ]
  },
  {
   "cell_type": "code",
   "execution_count": null,
   "id": "c5683270-7125-4756-8cde-0bc261911757",
   "metadata": {},
   "outputs": [],
   "source": [
    "PSMP_X2.shape"
   ]
  },
  {
   "cell_type": "code",
   "execution_count": null,
   "id": "97440d4d-ab64-4f8e-adf1-d654778b322f",
   "metadata": {},
   "outputs": [],
   "source": [
    "PS_X.shape"
   ]
  },
  {
   "cell_type": "code",
   "execution_count": null,
   "id": "c4772258-eaf2-4d39-bc93-b89ba11cb762",
   "metadata": {},
   "outputs": [],
   "source": [
    "PS_X2.shape"
   ]
  },
  {
   "cell_type": "code",
   "execution_count": null,
   "id": "2a9134cc-4bc8-4533-aad1-0eb99d4071d9",
   "metadata": {},
   "outputs": [],
   "source": [
    "PSMP_X2.head(3)"
   ]
  },
  {
   "cell_type": "code",
   "execution_count": null,
   "id": "e42f58bc-e756-44b9-abf9-d1ab249d9ad8",
   "metadata": {},
   "outputs": [],
   "source": [
    "PS_X2.head(3)"
   ]
  },
  {
   "cell_type": "code",
   "execution_count": 145,
   "id": "bfe89246-5d31-405d-900f-108cce5d2bfd",
   "metadata": {},
   "outputs": [
    {
     "data": {
      "text/plain": [
       "(597, 4)"
      ]
     },
     "execution_count": 145,
     "metadata": {},
     "output_type": "execute_result"
    }
   ],
   "source": [
    "RI80_MP_Acc.shape"
   ]
  },
  {
   "cell_type": "code",
   "execution_count": 146,
   "id": "11660cf3-5c51-4c0e-b3ec-16ad89333f3b",
   "metadata": {},
   "outputs": [
    {
     "data": {
      "text/plain": [
       "(597, 4)"
      ]
     },
     "execution_count": 146,
     "metadata": {},
     "output_type": "execute_result"
    }
   ],
   "source": [
    "RI80_MP_Acc.shape"
   ]
  },
  {
   "cell_type": "code",
   "execution_count": 147,
   "id": "d849bb63-cb40-451e-87a8-5497e28f99c2",
   "metadata": {},
   "outputs": [
    {
     "data": {
      "text/plain": [
       "(597, 4)"
      ]
     },
     "execution_count": 147,
     "metadata": {},
     "output_type": "execute_result"
    }
   ],
   "source": [
    "RI90_MP_Acc.shape"
   ]
  },
  {
   "cell_type": "code",
   "execution_count": null,
   "id": "8f19ab13-8f13-4bd6-8e9e-75be5fc89306",
   "metadata": {},
   "outputs": [],
   "source": []
  },
  {
   "cell_type": "code",
   "execution_count": null,
   "id": "2e039a03-2560-4948-9fc4-ccf402318f83",
   "metadata": {},
   "outputs": [],
   "source": []
  },
  {
   "cell_type": "code",
   "execution_count": null,
   "id": "02a8b52d-fbf7-41df-9ac7-baeca56ad83e",
   "metadata": {},
   "outputs": [],
   "source": []
  },
  {
   "cell_type": "code",
   "execution_count": null,
   "id": "b06ce70e-1b76-4372-b6e2-a473396550e4",
   "metadata": {},
   "outputs": [],
   "source": [
    "STOP!!!"
   ]
  },
  {
   "cell_type": "code",
   "execution_count": null,
   "id": "39dff05b-14e6-4c90-bb94-f678987858ed",
   "metadata": {},
   "outputs": [],
   "source": []
  },
  {
   "cell_type": "code",
   "execution_count": null,
   "id": "2f17fc24-bc50-45d3-b67c-40b32e876adf",
   "metadata": {},
   "outputs": [],
   "source": []
  },
  {
   "cell_type": "code",
   "execution_count": null,
   "id": "f2144588-1bac-4e3e-9e98-bc1c500bff20",
   "metadata": {},
   "outputs": [],
   "source": []
  },
  {
   "cell_type": "code",
   "execution_count": null,
   "id": "b670f041-86e5-48c5-b209-934995ce0901",
   "metadata": {},
   "outputs": [],
   "source": []
  },
  {
   "cell_type": "markdown",
   "id": "9c97c673-0bb1-4bcd-afea-41aef21216a5",
   "metadata": {},
   "source": [
    "# Compare Gene K-mers to SV Nodes of Unq Seq Bubbles, etc"
   ]
  },
  {
   "cell_type": "code",
   "execution_count": null,
   "id": "5314b265-3ef1-4480-9c7c-a80a06431039",
   "metadata": {
    "scrolled": true
   },
   "outputs": [],
   "source": [
    "i_Gene_CompToUnqSeq_SVNodes_DF = compute_kmer_match_df(i_Ref_DictOf_Hashes,\n",
    "                                                       i_Ref_DictOf_SeqLen,\n",
    "                                                       MG_SVNodes_UnqSeq_HashDict,\n",
    "                                                       i_N_AsmWiGene_Dict)\n",
    "\n",
    "# Apply classification to the main DataFrame\n",
    "threshold = 0.25  # Set the classification threshold\n",
    "i_Gene_CompToUnqSeq_SVNodes_DF[\"Matched_UnqSeq_NodeIDs\"] = i_Gene_CompToUnqSeq_SVNodes_DF.apply(\n",
    "    lambda row: classify_node(row, list(MG_SVNodes_UnqSeq_HashDict.keys()), threshold), axis=1)\n",
    "\n",
    "i_Gene_CompToUnqSeq_SVNodes_DF.shape"
   ]
  },
  {
   "cell_type": "code",
   "execution_count": null,
   "id": "ae2fabbb-1464-4477-9270-942b55aa212c",
   "metadata": {},
   "outputs": [],
   "source": [
    "i_Gene_CompToUnqSeq_SVNodes_DF.head(4)"
   ]
  },
  {
   "cell_type": "code",
   "execution_count": null,
   "id": "d82ccc10-9e03-400c-a532-a5bd895da983",
   "metadata": {},
   "outputs": [],
   "source": [
    "X = i_Gene_CompToUnqSeq_SVNodes_DF.query(\"NumAsm_WiGene < 151\")\n",
    "X = X[[\"GeneID\", \"SeqLength\", \"NumAsm_WiGene\", \"Matched_UnqSeq_NodeIDs\"]]\n",
    "X.shape"
   ]
  },
  {
   "cell_type": "code",
   "execution_count": null,
   "id": "d1bf76fb-e791-4176-9af4-2d1d760cc337",
   "metadata": {},
   "outputs": [],
   "source": [
    "X.head(1)"
   ]
  },
  {
   "cell_type": "code",
   "execution_count": null,
   "id": "3f0b7092-7762-4351-a297-d1b84f55eb6d",
   "metadata": {},
   "outputs": [],
   "source": [
    "MG_SVNodes_PASS_DF.head(1)"
   ]
  },
  {
   "cell_type": "code",
   "execution_count": null,
   "id": "db8aa09f-8bc3-4213-b59e-89ffec8b6e45",
   "metadata": {},
   "outputs": [],
   "source": [
    "MG_SVNodes_PASS_DF.query(\"NodeID == 's1040'\")"
   ]
  },
  {
   "cell_type": "code",
   "execution_count": null,
   "id": "952f6c54-abaf-4c78-b44a-cc9773b9a274",
   "metadata": {},
   "outputs": [],
   "source": [
    "MG_SV_BED_DF.query(\"BubbleID == 'BubbleRegion_345'\")"
   ]
  },
  {
   "cell_type": "code",
   "execution_count": null,
   "id": "25033dd9-956a-4741-922f-ca0e66977eaf",
   "metadata": {},
   "outputs": [],
   "source": [
    "MG_SVNodes_PASS_DF.query(\"NodeID == 's7'\")"
   ]
  },
  {
   "cell_type": "code",
   "execution_count": null,
   "id": "e97f05eb-b608-495b-9a72-0ebc5a616ab0",
   "metadata": {},
   "outputs": [],
   "source": [
    "MG_SV_BED_DF.query(\"BubbleID == 'BubbleRegion_4'\")"
   ]
  },
  {
   "cell_type": "code",
   "execution_count": null,
   "id": "fa51833a-ef0d-49f7-a60d-75bc6ec881db",
   "metadata": {},
   "outputs": [],
   "source": []
  },
  {
   "cell_type": "code",
   "execution_count": null,
   "id": "e65c7901-229c-429b-be24-3b602a7aefcd",
   "metadata": {},
   "outputs": [],
   "source": [
    "X[\"Matched_UnqSeq_NodeIDs\"].value_counts()"
   ]
  },
  {
   "cell_type": "code",
   "execution_count": null,
   "id": "0a3036da-e538-41d6-93c9-ae9454a66a92",
   "metadata": {},
   "outputs": [],
   "source": [
    "X[\"Matched_UnqSeq_NodeIDs\"].nunique()"
   ]
  },
  {
   "cell_type": "code",
   "execution_count": null,
   "id": "27b8bce8-6423-40b5-a788-add0904ebebe",
   "metadata": {},
   "outputs": [],
   "source": [
    "X2 = X.query(\"Matched_UnqSeq_NodeIDs != 'None'\")\n",
    "X2.shape"
   ]
  },
  {
   "cell_type": "code",
   "execution_count": null,
   "id": "f07cae00-9c4b-4324-a911-5aafc2dd7fdf",
   "metadata": {},
   "outputs": [],
   "source": [
    "X2[\"SeqLength\"].sum()"
   ]
  },
  {
   "cell_type": "code",
   "execution_count": null,
   "id": "3a441727-0ac7-465e-9a02-efaf7a3faf51",
   "metadata": {},
   "outputs": [],
   "source": [
    "MG_SVNodes_UnqSeq_DF[\"SeqLength\"].sum()"
   ]
  },
  {
   "cell_type": "code",
   "execution_count": null,
   "id": "be3819a9-bf4a-4c0c-8a9d-b2dddcbba14d",
   "metadata": {},
   "outputs": [],
   "source": [
    "MG_SVNodes_UnqSeq_DF.head(3)"
   ]
  },
  {
   "cell_type": "code",
   "execution_count": null,
   "id": "08a03c11-9a80-4ac6-9a02-fb58a652b6b6",
   "metadata": {},
   "outputs": [],
   "source": []
  },
  {
   "cell_type": "code",
   "execution_count": null,
   "id": "dd9490ed-48d8-4aa4-acbb-63738f28ecc3",
   "metadata": {},
   "outputs": [],
   "source": [
    "X2.head(10)"
   ]
  },
  {
   "cell_type": "code",
   "execution_count": null,
   "id": "e630d1d2-7dbb-4582-a84a-79bab0be9af1",
   "metadata": {},
   "outputs": [],
   "source": [
    "X2.head(10)"
   ]
  },
  {
   "cell_type": "code",
   "execution_count": null,
   "id": "1b14d605-ad2e-4b3a-ae56-0dd5243b99fe",
   "metadata": {},
   "outputs": [],
   "source": [
    "X[\"SeqLength\"].sum()"
   ]
  },
  {
   "cell_type": "code",
   "execution_count": null,
   "id": "133f3b91-7443-48ac-b213-80811c3fbb4b",
   "metadata": {},
   "outputs": [],
   "source": [
    "len(SVNodeIDs_UnqSeq)"
   ]
  },
  {
   "cell_type": "code",
   "execution_count": null,
   "id": "a6a7c14c-f442-4788-b565-dd04738c70a6",
   "metadata": {},
   "outputs": [],
   "source": [
    "len(SVNodeIDs_UnqSeq_And_UnqToRv)"
   ]
  },
  {
   "cell_type": "code",
   "execution_count": null,
   "id": "973e9469-7c30-4fa9-a0ac-1d0995b5198f",
   "metadata": {},
   "outputs": [],
   "source": []
  },
  {
   "cell_type": "code",
   "execution_count": null,
   "id": "244a9ece-641b-4c84-b8aa-936f10705dcc",
   "metadata": {},
   "outputs": [],
   "source": [
    "X2[\"SeqLength\"].sum()"
   ]
  },
  {
   "cell_type": "code",
   "execution_count": null,
   "id": "0832569a-9251-4d8f-92bd-2a80a840b5d6",
   "metadata": {},
   "outputs": [],
   "source": [
    "X2.head(10)"
   ]
  },
  {
   "cell_type": "code",
   "execution_count": null,
   "id": "1563e3ce-2daf-47ed-af8b-5f0c2d95be53",
   "metadata": {},
   "outputs": [],
   "source": [
    "X2[\"Strongest_Match\"].nunique()"
   ]
  },
  {
   "cell_type": "code",
   "execution_count": null,
   "id": "423c955f-aa1c-454c-9cd8-6957af957442",
   "metadata": {},
   "outputs": [],
   "source": [
    "X2[\"Strongest_Match\"].value_counts()"
   ]
  },
  {
   "cell_type": "code",
   "execution_count": null,
   "id": "606a4018-a36f-4aaa-a880-1ffd4b1963d7",
   "metadata": {},
   "outputs": [],
   "source": [
    "X2_NodeIDs = X2[\"Strongest_Match\"].unique()\n",
    "len(X2_NodeIDs)"
   ]
  },
  {
   "cell_type": "code",
   "execution_count": null,
   "id": "58aa0016-c079-46c9-a642-8bea2b127274",
   "metadata": {},
   "outputs": [],
   "source": [
    "X2_SVNodes_DF = MG_SVNodes_PASS_DF[ MG_SVNodes_PASS_DF[\"NodeID\"].isin(X2_NodeIDs) ]\n",
    "X2_SVNodes_DF.shape\n"
   ]
  },
  {
   "cell_type": "code",
   "execution_count": null,
   "id": "6b3af2ef-5d64-4e7d-b77c-5fb2e1e6e76c",
   "metadata": {},
   "outputs": [],
   "source": [
    "X2_SVNodes_DF[\"SeqLength\"].sum()"
   ]
  },
  {
   "cell_type": "code",
   "execution_count": null,
   "id": "af52bc4d-f774-4592-97cf-8d7957690b45",
   "metadata": {},
   "outputs": [],
   "source": []
  },
  {
   "cell_type": "code",
   "execution_count": null,
   "id": "bbb15d3e-d6fe-4068-a639-acc75565109b",
   "metadata": {},
   "outputs": [],
   "source": []
  },
  {
   "cell_type": "code",
   "execution_count": null,
   "id": "8dc076ae-cb84-4008-a345-2c63b711784c",
   "metadata": {},
   "outputs": [],
   "source": []
  },
  {
   "cell_type": "code",
   "execution_count": null,
   "id": "61942dd7-71d2-4267-98bd-f1153396644f",
   "metadata": {},
   "outputs": [],
   "source": []
  },
  {
   "cell_type": "code",
   "execution_count": null,
   "id": "462a902c-725e-47a8-97b8-61da33a90268",
   "metadata": {
    "scrolled": true
   },
   "outputs": [],
   "source": [
    "i_Gene_CompToUnqSeqUnqRv_SVNodes_DF = compute_kmer_match_df(i_Ref_DictOf_Hashes,\n",
    "                                                       i_Ref_DictOf_SeqLen,\n",
    "                                                       MG_SVNodes_UnqSeqAndUnqToRv_HashDict,\n",
    "                                                       i_N_AsmWiGene_Dict)\n",
    "\n",
    "threshold = 0.25  # Set the classification threshold\n",
    "i_Gene_CompToUnqSeqUnqRv_SVNodes_DF[\"Strongest_Match\"] = i_Gene_CompToUnqSeqUnqRv_SVNodes_DF.apply(\n",
    "    lambda row: classify_node(row, list(MG_SVNodes_UnqSeqAndUnqToRv_HashDict.keys()), threshold), axis=1\n",
    ")\n",
    "\n",
    "i_Gene_CompToUnqSeqUnqRv_SVNodes_DF.shape"
   ]
  },
  {
   "cell_type": "code",
   "execution_count": null,
   "id": "98950526-ddb3-4aba-b7dc-503eaf2da71a",
   "metadata": {},
   "outputs": [],
   "source": []
  },
  {
   "cell_type": "code",
   "execution_count": null,
   "id": "8d459a2c-1a12-4150-8cfe-e4584628f625",
   "metadata": {},
   "outputs": [],
   "source": [
    "Z = i_Gene_CompToUnqSeqUnqRv_SVNodes_DF.query(\"NumAsm_WiGene < 151\")\n",
    "Z.shape"
   ]
  },
  {
   "cell_type": "code",
   "execution_count": null,
   "id": "0fe4d82c-838c-478b-845f-9b76c18fbabb",
   "metadata": {},
   "outputs": [],
   "source": [
    "Z.head(3)"
   ]
  },
  {
   "cell_type": "code",
   "execution_count": null,
   "id": "841574ca-b7e2-4e8b-8c02-a30bffed5c65",
   "metadata": {},
   "outputs": [],
   "source": [
    "Z[\"Strongest_Match\"].value_counts()"
   ]
  },
  {
   "cell_type": "code",
   "execution_count": null,
   "id": "b1caff1a-1bc7-42f3-8f4c-83032ddef5fc",
   "metadata": {},
   "outputs": [],
   "source": [
    "Z[\"Strongest_Match\"].unique()"
   ]
  },
  {
   "cell_type": "code",
   "execution_count": null,
   "id": "56bfa76a-0583-4a07-bb37-c5c16f1d75df",
   "metadata": {},
   "outputs": [],
   "source": [
    "Z[\"Strongest_Match\"].nunique()"
   ]
  },
  {
   "cell_type": "code",
   "execution_count": null,
   "id": "610faa56-18d1-4b5d-98d0-0bf8a1c45f32",
   "metadata": {},
   "outputs": [],
   "source": [
    "Z2 = Z.query(\"Strongest_Match != 'None'\")\n",
    "Z2.shape"
   ]
  },
  {
   "cell_type": "code",
   "execution_count": null,
   "id": "acb7742a-39fc-4f9f-92ab-95907b65d3df",
   "metadata": {},
   "outputs": [],
   "source": [
    "Z2[\"SeqLength\"].sum()"
   ]
  },
  {
   "cell_type": "code",
   "execution_count": null,
   "id": "1338fcbd-4fa1-4e7f-84cd-9b0eaf7337ec",
   "metadata": {},
   "outputs": [],
   "source": [
    "Z2.head(10)"
   ]
  },
  {
   "cell_type": "code",
   "execution_count": null,
   "id": "3bfd40a1-2049-47e6-87fe-851f67973b65",
   "metadata": {},
   "outputs": [],
   "source": [
    "Z2_NodeIDs = Z2[\"Strongest_Match\"].unique()\n",
    "len(Z2_NodeIDs)"
   ]
  },
  {
   "cell_type": "code",
   "execution_count": null,
   "id": "c23b77f9-90b9-40b8-8076-b57587a6c69e",
   "metadata": {},
   "outputs": [],
   "source": [
    "Z2_SVNodes_DF = MG_SVNodes_PASS_DF[ MG_SVNodes_PASS_DF[\"NodeID\"].isin(Z2_NodeIDs) ]\n",
    "Z2_SVNodes_DF.shape\n"
   ]
  },
  {
   "cell_type": "code",
   "execution_count": null,
   "id": "dc06db44-2858-4fd4-af34-44b27b734e82",
   "metadata": {},
   "outputs": [],
   "source": [
    "Z2_SVNodes_DF.head(3)"
   ]
  },
  {
   "cell_type": "code",
   "execution_count": null,
   "id": "c237663a-9bcb-4ead-a114-b75715144a00",
   "metadata": {},
   "outputs": [],
   "source": [
    "Z2_SVNodes_DF[\"SeqLength\"].sum()"
   ]
  },
  {
   "cell_type": "code",
   "execution_count": null,
   "id": "65304603-99e5-46a3-9790-a52b1c3f7aa0",
   "metadata": {},
   "outputs": [],
   "source": []
  },
  {
   "cell_type": "code",
   "execution_count": null,
   "id": "3874549a-7ff1-4ac9-ba01-c65f3a3212eb",
   "metadata": {},
   "outputs": [],
   "source": []
  },
  {
   "cell_type": "code",
   "execution_count": null,
   "id": "f9047ecb-ece2-41e2-bf87-3055d6853075",
   "metadata": {},
   "outputs": [],
   "source": []
  },
  {
   "cell_type": "code",
   "execution_count": null,
   "id": "9bcc7fd7-7492-4d4e-9f13-d815204c0876",
   "metadata": {},
   "outputs": [],
   "source": [
    "Z2[\"Strongest_Match\"].nunique()"
   ]
  },
  {
   "cell_type": "code",
   "execution_count": null,
   "id": "1672afad-f250-43be-8888-d3711fd4a97f",
   "metadata": {},
   "outputs": [],
   "source": [
    "Z2[\"Strongest_Match\"].value_counts()"
   ]
  },
  {
   "cell_type": "code",
   "execution_count": null,
   "id": "d3dfca3e-be74-4237-8949-393f0a90f2e0",
   "metadata": {},
   "outputs": [],
   "source": [
    "MG_SVNodes_PASS_DF.head(4)"
   ]
  },
  {
   "cell_type": "code",
   "execution_count": null,
   "id": "7b142195-f50f-462e-a20e-d408bc2a8ecf",
   "metadata": {},
   "outputs": [],
   "source": []
  },
  {
   "cell_type": "code",
   "execution_count": null,
   "id": "47e8d7fb-ddcb-4b63-9747-167a5d321eee",
   "metadata": {},
   "outputs": [],
   "source": []
  },
  {
   "cell_type": "code",
   "execution_count": null,
   "id": "109e235b-ed7f-4c8c-93da-49b92ab10bbd",
   "metadata": {},
   "outputs": [],
   "source": []
  },
  {
   "cell_type": "code",
   "execution_count": null,
   "id": "befd25ad-37d9-43de-8c8e-bb92a2fcacdb",
   "metadata": {},
   "outputs": [],
   "source": [
    "# MG_SVNodes_UnqSeq_HashDict\n",
    "# MG_SVNodes_UnqSeqAndUnqToRv_HashDict"
   ]
  },
  {
   "cell_type": "code",
   "execution_count": null,
   "id": "29bcb9aa-a81b-4823-b2a3-7bd30d696a24",
   "metadata": {},
   "outputs": [],
   "source": []
  },
  {
   "cell_type": "code",
   "execution_count": null,
   "id": "df973d92-432c-4ee3-a374-306f61cc9252",
   "metadata": {},
   "outputs": [],
   "source": [
    "i_Gene_CompToUnqSeq_SVNodes_DF.head(3)"
   ]
  },
  {
   "cell_type": "code",
   "execution_count": null,
   "id": "4ef2b1e8-2cce-4045-a647-9963e7809260",
   "metadata": {},
   "outputs": [],
   "source": [
    "i_Gene_CompToUnqSeq_SVNodes_DF.query(\"\")"
   ]
  },
  {
   "cell_type": "code",
   "execution_count": null,
   "id": "559f4e76-8437-4106-95bc-c37c8c9127da",
   "metadata": {},
   "outputs": [],
   "source": []
  },
  {
   "cell_type": "code",
   "execution_count": null,
   "id": "942128a4-6139-4568-8044-7d50fee67504",
   "metadata": {},
   "outputs": [],
   "source": []
  },
  {
   "cell_type": "code",
   "execution_count": null,
   "id": "0ac9bc6a-a683-4848-b394-46e074196845",
   "metadata": {},
   "outputs": [],
   "source": [
    "i_Gene_CompToUnqSeq_SVNodes_DF"
   ]
  },
  {
   "cell_type": "code",
   "execution_count": null,
   "id": "961bb7d2-2265-4824-8a1e-dbbe039e1c72",
   "metadata": {},
   "outputs": [],
   "source": []
  },
  {
   "cell_type": "code",
   "execution_count": null,
   "id": "57a10d45-3dfa-4ef8-b971-3e297483e660",
   "metadata": {},
   "outputs": [],
   "source": []
  },
  {
   "cell_type": "code",
   "execution_count": null,
   "id": "6d1c4a2b-fd86-44f3-bdb1-c9bd78b3dc37",
   "metadata": {},
   "outputs": [],
   "source": []
  },
  {
   "cell_type": "code",
   "execution_count": null,
   "id": "1ec7d9b4-9239-4c34-9990-13c47dc3d51e",
   "metadata": {},
   "outputs": [],
   "source": []
  },
  {
   "cell_type": "code",
   "execution_count": null,
   "id": "e9301cb3-7216-49e6-9c00-e55accad5bfc",
   "metadata": {},
   "outputs": [],
   "source": []
  },
  {
   "cell_type": "code",
   "execution_count": null,
   "id": "24f01975-7f5a-42c8-a49c-2a27f452146f",
   "metadata": {},
   "outputs": [],
   "source": []
  },
  {
   "cell_type": "code",
   "execution_count": null,
   "id": "bcf45886-c778-40d3-bea6-6bb76bb47e70",
   "metadata": {},
   "outputs": [],
   "source": []
  },
  {
   "cell_type": "code",
   "execution_count": null,
   "id": "d5721007-ebeb-4f61-abdb-7d0748ed3bb7",
   "metadata": {},
   "outputs": [],
   "source": []
  },
  {
   "cell_type": "code",
   "execution_count": null,
   "id": "6430a6ae-6f32-4b85-a99e-86095a12726e",
   "metadata": {},
   "outputs": [],
   "source": []
  },
  {
   "cell_type": "code",
   "execution_count": null,
   "id": "4a3e002b-bbdd-4318-a0af-4f5b9260644f",
   "metadata": {},
   "outputs": [],
   "source": []
  },
  {
   "cell_type": "code",
   "execution_count": null,
   "id": "e03cc9c6-f44e-43e3-b982-7664a819ed49",
   "metadata": {},
   "outputs": [],
   "source": []
  },
  {
   "cell_type": "code",
   "execution_count": null,
   "id": "c5893e2b-4661-48f6-be1e-67b343396b48",
   "metadata": {},
   "outputs": [],
   "source": []
  },
  {
   "cell_type": "code",
   "execution_count": null,
   "id": "2e51830d-9dfb-436e-8e0c-5238ecfb93af",
   "metadata": {},
   "outputs": [],
   "source": []
  },
  {
   "cell_type": "code",
   "execution_count": null,
   "id": "7e033593-3133-451e-9875-a332a28d8d12",
   "metadata": {},
   "outputs": [],
   "source": []
  },
  {
   "cell_type": "code",
   "execution_count": null,
   "id": "07b64dfe-53fe-4a88-83c1-bad5573e254b",
   "metadata": {},
   "outputs": [],
   "source": []
  },
  {
   "cell_type": "code",
   "execution_count": null,
   "id": "de535ae0-290b-447f-abee-5733488b81fe",
   "metadata": {},
   "outputs": [],
   "source": [
    "def compute_kmer_match_df_toSVNodeDict(Ref_DictOf_Hashes, Ref_DictOf_SeqLen, category_hash_sets, N_AsmWiGene_Dict):\n",
    "    \"\"\"\n",
    "    Computes k-mer match Jaccard containment for genes to SV Nodes (defined in a dict).\n",
    "    \n",
    "    Returns:\n",
    "        pd.DataFrame: DataFrame summarizing Jaccard containment results for all genes.\n",
    "    \"\"\"\n",
    "    gene_analysis_rows = []\n",
    "\n",
    "    for GeneID, Gene_Hashes_Set in tqdm(Ref_DictOf_Hashes.items()):\n",
    "        Len_Seq = Ref_DictOf_SeqLen.get(GeneID, 0)\n",
    "        record_hashes_set = Gene_Hashes_Set\n",
    "\n",
    "        # Initialize results for Jaccard containment\n",
    "        jc_results = {}\n",
    "\n",
    "        if len(record_hashes_set) != 0:\n",
    "            # Calculate Jaccard containment for each category\n",
    "            for category, hash_set in category_hash_sets.items():\n",
    "                jc_results[category] = jaccard_containment_FromSets(record_hashes_set, hash_set)\n",
    "        else:\n",
    "            # Set all results to 0 if no hashes exist\n",
    "            jc_results = {category: 0 for category in category_hash_sets}\n",
    "            if Len_Seq < 31:\n",
    "                print(f\"No kmers were produced for segment: {GeneID}\")\n",
    "\n",
    "        # Prepare row for the DataFrame\n",
    "        row = [GeneID, Len_Seq] + list(jc_results.values())\n",
    "        gene_analysis_rows.append(row)\n",
    "\n",
    "    # Create the DataFrame\n",
    "    columns = [\"GeneID\", \"SeqLength\"] + list(category_hash_sets.keys())\n",
    "    gene_kmer_match_df = pd.DataFrame(gene_analysis_rows, columns=columns)\n",
    "\n",
    "    # Add the number of assemblies matching the gene\n",
    "    gene_kmer_match_df[\"NumAsm_WiGene\"] = gene_kmer_match_df[\"GeneID\"].map(N_AsmWiGene_Dict)\n",
    "\n",
    "    return gene_kmer_match_df"
   ]
  },
  {
   "cell_type": "code",
   "execution_count": null,
   "id": "77136eb5-af90-45e3-979f-d8e9f2171c07",
   "metadata": {},
   "outputs": [],
   "source": []
  },
  {
   "cell_type": "code",
   "execution_count": null,
   "id": "9ebf059d-3360-45f0-81b5-ef2f91cb01ca",
   "metadata": {},
   "outputs": [],
   "source": []
  },
  {
   "cell_type": "code",
   "execution_count": null,
   "id": "7425c475-7b61-48fe-bd9f-22743eab5977",
   "metadata": {},
   "outputs": [],
   "source": []
  },
  {
   "cell_type": "code",
   "execution_count": null,
   "id": "4c1d2123-35fd-4907-957d-7be420cfc52e",
   "metadata": {},
   "outputs": [],
   "source": []
  },
  {
   "cell_type": "code",
   "execution_count": null,
   "id": "40aa39b3-88dd-47d3-aaa9-37dbbf3f209c",
   "metadata": {},
   "outputs": [],
   "source": []
  },
  {
   "cell_type": "code",
   "execution_count": null,
   "id": "5f8b1c60-c941-4627-9cc0-b18f30bb86f6",
   "metadata": {},
   "outputs": [],
   "source": []
  },
  {
   "cell_type": "code",
   "execution_count": null,
   "id": "28cbe2dd-9bd4-42c2-93b5-10fff29e9af2",
   "metadata": {},
   "outputs": [],
   "source": []
  },
  {
   "cell_type": "markdown",
   "id": "f5b83c49-65be-4238-8f42-45ca48b3226b",
   "metadata": {},
   "source": [
    "# Extra"
   ]
  },
  {
   "cell_type": "code",
   "execution_count": null,
   "id": "1a29a87d-5961-4e8b-ac65-fa4863399f2c",
   "metadata": {},
   "outputs": [],
   "source": [
    "summarize_sv_categories_with_functional_category(PG_GeneSeq_KmerCatMatch_DF_Dict[\"Panaroo_Strict_MP\"].query(\"NumAsm_WiGene < 150\"),\n",
    "                                                 ListOf_Rv_GeneCats)\n"
   ]
  },
  {
   "cell_type": "code",
   "execution_count": null,
   "id": "d68b5ec8-5dae-445e-84f0-97bf3eb6cc2d",
   "metadata": {},
   "outputs": [],
   "source": []
  },
  {
   "cell_type": "code",
   "execution_count": null,
   "id": "d88200eb-d599-4895-bbe7-403820b1a272",
   "metadata": {},
   "outputs": [],
   "source": [
    "summarize_sv_categories_with_functional_category(PG_GeneSeq_KmerCatMatch_DF_Dict[\"Roary_Default\"].query(\"NumAsm_WiGene < 150\"),\n",
    "                                                 ListOf_Rv_GeneCats)\n"
   ]
  },
  {
   "cell_type": "code",
   "execution_count": null,
   "id": "d42ac66b-eb25-4cc0-89df-2722d30e4ad0",
   "metadata": {},
   "outputs": [],
   "source": [
    "summarize_sv_categories_with_functional_category(PG_GeneSeq_KmerCatMatch_DF_Dict[\"Panaroo_Strict\"].query(\"NumAsm_WiGene < 150\"),\n",
    "                                                 ListOf_Rv_GeneCats)\n"
   ]
  },
  {
   "cell_type": "code",
   "execution_count": null,
   "id": "2723dadc-ffbd-4ef7-b493-354d7d5f584a",
   "metadata": {},
   "outputs": [],
   "source": []
  },
  {
   "cell_type": "code",
   "execution_count": null,
   "id": "3c9664e1-70e7-4d93-a226-5516bdc67a9f",
   "metadata": {},
   "outputs": [],
   "source": []
  },
  {
   "cell_type": "code",
   "execution_count": null,
   "id": "3ff59c72-4a8b-4f28-9e62-487429c2bd5f",
   "metadata": {},
   "outputs": [],
   "source": []
  }
 ],
 "metadata": {
  "kernelspec": {
   "display_name": "py37_S",
   "language": "python",
   "name": "py37_s"
  },
  "language_info": {
   "codemirror_mode": {
    "name": "ipython",
    "version": 3
   },
   "file_extension": ".py",
   "mimetype": "text/x-python",
   "name": "python",
   "nbconvert_exporter": "python",
   "pygments_lexer": "ipython3",
   "version": "3.7.3"
  }
 },
 "nbformat": 4,
 "nbformat_minor": 5
}
