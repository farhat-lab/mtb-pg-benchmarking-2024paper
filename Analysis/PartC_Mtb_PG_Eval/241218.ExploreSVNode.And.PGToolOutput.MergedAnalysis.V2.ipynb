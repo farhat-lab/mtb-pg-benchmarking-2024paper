{
 "cells": [
  {
   "cell_type": "code",
   "execution_count": null,
   "id": "c8a0b428-96ca-4793-8196-ae7e907248bf",
   "metadata": {},
   "outputs": [],
   "source": []
  },
  {
   "cell_type": "code",
   "execution_count": null,
   "id": "a70564b3-1707-4c61-a285-f235e4b32db7",
   "metadata": {},
   "outputs": [],
   "source": []
  },
  {
   "cell_type": "code",
   "execution_count": 1,
   "id": "e4559e8f-abab-454c-bed8-9525021e8f91",
   "metadata": {},
   "outputs": [],
   "source": [
    "\n",
    "import numpy as np\n",
    "import matplotlib.pyplot as plt\n",
    "import seaborn as sns\n",
    "import pandas as pd\n",
    "from tqdm import tqdm\n",
    "%matplotlib inline\n"
   ]
  },
  {
   "cell_type": "code",
   "execution_count": 127,
   "id": "022abc23-1603-4fea-8d84-6dd10d0af5af",
   "metadata": {},
   "outputs": [],
   "source": [
    "%reload_ext autoreload\n",
    "%autoreload 2\n",
    "\n",
    "### import panqc (pan-genome quality control) toolkit functions\n",
    "# from panqc.ava import ava\n",
    "# from panqc.nscluster import clusterBy_KmerJC, summarize_NSClusters, create_MaxKmerSim_JC_Dict, create_MST_FiltByJC, make_ClusterID_Maps \n",
    "# from panqc.nscluster import make_NS_ClusterMerged_Pres_DF\n",
    "\n",
    "from panqc.kmerlib import read_kmers_from_file_ToHashesDict\n",
    "\n",
    "from panqc.utils import parse_PresAbs_Rtab, parse_PresAbs_CSV_Roary, parse_PresAbs_CSV_Panaroo, get_PG_Stats_FromPresAbs\n",
    "\n",
    "from panqc.utils import  parse_PG_Ref_FA, get_PG_Stats_FromDNASeqPresAbs\n",
    "\n",
    "# from panqc.asm_gene_search import parse_AlnHits_To_DF\n",
    "# from panqc.asm_gene_search import PresAbsQC_CheckAsmForGeneSeq, SRAsm_PresAbsQC_CheckInLRAsm\n",
    "# from panqc.asm_gene_search import get_SRAsm_Vs_LRAsm_QCStats\n"
   ]
  },
  {
   "cell_type": "code",
   "execution_count": 128,
   "id": "b1a00c36-3f1d-49b7-816d-c61c1b8185e6",
   "metadata": {},
   "outputs": [],
   "source": [
    "def read_kmers_from_file_ToHashesDict(filename, ksize):\n",
    "\n",
    "    all_hashes_Set_Dict = {}\n",
    "    seqLen_Dict = {}\n",
    "    \n",
    "    NumParsedRecords = 0\n",
    "    \n",
    "    for record in screed.open(filename):\n",
    "        \n",
    "        # Check if a space exists in the name before splitting\n",
    "        if \" \" in record.name:\n",
    "            ShortName = record.name.split(\" \", 1)[1]\n",
    "        else:\n",
    "            ShortName = record.name\n",
    "            \n",
    "        NumParsedRecords += 1\n",
    "        sequence = record.sequence\n",
    "\n",
    "        kmers = build_kmers(sequence, ksize)\n",
    "        hashes_Set = hash_kmers_ToSet(kmers)\n",
    "        \n",
    "        all_hashes_Set_Dict[ShortName] = hashes_Set\n",
    "        seqLen_Dict[ShortName] = len(sequence)\n",
    "\n",
    "    print(NumParsedRecords, \" total records were parsed\")\n",
    "    \n",
    "    return all_hashes_Set_Dict, seqLen_Dict"
   ]
  },
  {
   "cell_type": "code",
   "execution_count": 3,
   "id": "4cef0f45-881a-43bf-b15a-781100f91efa",
   "metadata": {},
   "outputs": [],
   "source": [
    "import gfapy\n",
    "import ast"
   ]
  },
  {
   "cell_type": "code",
   "execution_count": 4,
   "id": "61127981-d0f2-4bcd-aa7c-987541f354df",
   "metadata": {},
   "outputs": [],
   "source": [
    "import time"
   ]
  },
  {
   "cell_type": "code",
   "execution_count": 5,
   "id": "e82929e7-de67-45f9-b0ff-26ffad982531",
   "metadata": {},
   "outputs": [],
   "source": [
    "import screed"
   ]
  },
  {
   "cell_type": "code",
   "execution_count": 6,
   "id": "f29ce86f-37dc-4364-918e-bdfb5e3b1fa6",
   "metadata": {},
   "outputs": [],
   "source": [
    "import mappy as mp"
   ]
  },
  {
   "cell_type": "code",
   "execution_count": 7,
   "id": "426ac50f-99e9-4d1d-aa0a-937c01abf8de",
   "metadata": {},
   "outputs": [],
   "source": [
    "# Set max column width to a specific value (e.g., 100 characters)\n",
    "pd.set_option('display.max_colwidth', 100)\n",
    "# Set to display a specific number of columns (e.g., 20 columns)\n",
    "pd.set_option('display.max_columns', 180)"
   ]
  },
  {
   "cell_type": "code",
   "execution_count": null,
   "id": "8d8f4046-186d-469b-a67c-c478d49c0699",
   "metadata": {},
   "outputs": [],
   "source": []
  },
  {
   "cell_type": "code",
   "execution_count": null,
   "id": "f9672b89-8143-49f2-b973-d24c726debe6",
   "metadata": {},
   "outputs": [],
   "source": []
  },
  {
   "cell_type": "code",
   "execution_count": null,
   "id": "d3b9aac0-ece0-4ec4-a9c6-99ec5aabfb92",
   "metadata": {},
   "outputs": [],
   "source": []
  },
  {
   "cell_type": "markdown",
   "id": "f1ce7f97-f2c1-4e4f-9c92-45924b696d47",
   "metadata": {
    "jp-MarkdownHeadingCollapsed": true
   },
   "source": [
    "## Define useful Kmer analysis functions"
   ]
  },
  {
   "cell_type": "code",
   "execution_count": 8,
   "id": "5c8191ec-6897-4efe-a920-69953ad58152",
   "metadata": {},
   "outputs": [],
   "source": [
    "import screed"
   ]
  },
  {
   "cell_type": "code",
   "execution_count": 9,
   "id": "6d819e91-0cf8-49b8-a6c0-a210326e26ad",
   "metadata": {},
   "outputs": [],
   "source": [
    "import mmh3"
   ]
  },
  {
   "cell_type": "code",
   "execution_count": 10,
   "id": "2507dc5d-f2e7-45dc-8ed6-e94234422acb",
   "metadata": {},
   "outputs": [],
   "source": [
    "def build_kmers(sequence, ksize):\n",
    "    kmers = []\n",
    "    n_kmers = len(sequence) - ksize + 1\n",
    "    \n",
    "    for i in range(n_kmers):\n",
    "        kmer = sequence[i:i + ksize]\n",
    "        kmers.append(kmer)\n",
    "        \n",
    "    return kmers"
   ]
  },
  {
   "cell_type": "code",
   "execution_count": 11,
   "id": "88d2c9e0-54e8-409a-99d7-279e40e0ce30",
   "metadata": {},
   "outputs": [],
   "source": [
    "#import screed a library for reading in FASTA/FASTQ\n",
    "\n",
    "def read_kmers_from_file(filename, ksize):\n",
    "    all_kmers = []\n",
    "    for record in screed.open(filename):\n",
    "        sequence = record.sequence\n",
    "        \n",
    "        kmers = build_kmers(sequence, ksize)\n",
    "        all_kmers += kmers\n",
    "\n",
    "    return all_kmers"
   ]
  },
  {
   "cell_type": "code",
   "execution_count": 12,
   "id": "ada52ff8-1193-4cf3-9dfb-b37b4ad6b2fd",
   "metadata": {},
   "outputs": [],
   "source": [
    "def hash_kmer(kmer):\n",
    "    # calculate the reverse complement\n",
    "    rc_kmer = screed.rc(kmer)\n",
    "    \n",
    "    # determine whether original k-mer or reverse complement is lesser\n",
    "    if kmer < rc_kmer:\n",
    "        canonical_kmer = kmer\n",
    "    else:\n",
    "        canonical_kmer = rc_kmer\n",
    "        \n",
    "    # calculate murmurhash using a hash seed of 42\n",
    "    hash = mmh3.hash64(canonical_kmer, 42)[0]\n",
    "    if hash < 0: hash += 2**64\n",
    "\n",
    "    return hash"
   ]
  },
  {
   "cell_type": "code",
   "execution_count": 13,
   "id": "911c0f87-a387-4f4a-a527-a550b3dc0488",
   "metadata": {},
   "outputs": [],
   "source": [
    "# def hash_kmers(kmers):\n",
    "#     hashes = []\n",
    "#     for kmer in kmers:\n",
    "#         hashes.append(hash_kmer(kmer))\n",
    "#     return hashes\n",
    "\n",
    "def hash_kmers_ToSet(kmers):\n",
    "    hashes = set()\n",
    "    for kmer in kmers:\n",
    "        hashes.add(hash_kmer(kmer))\n",
    "    return hashes"
   ]
  },
  {
   "cell_type": "code",
   "execution_count": 14,
   "id": "5eb35578-f2fe-465b-8df5-b1d9c637cf47",
   "metadata": {},
   "outputs": [],
   "source": [
    "\n",
    "def jaccard_containment_FromSets(a, b):\n",
    "    '''\n",
    "    This function returns the Jaccard Containment between sets a and b.\n",
    "    '''\n",
    "    \n",
    "    intersection = len(a.intersection(b))\n",
    "    \n",
    "    return intersection / len(a)\n",
    "\n",
    "def jaccard_similarity_FromSets(a, b):\n",
    "    '''\n",
    "    This function returns the Jaccard Similarity between sets a and b.\n",
    "    '''\n",
    "    intersection = len(a.intersection(b))\n",
    "    union = len(a.union(b))\n",
    "    \n",
    "    return intersection / union\n"
   ]
  },
  {
   "cell_type": "code",
   "execution_count": 15,
   "id": "3f9c2230-7155-4d41-96d1-96c0f80d382a",
   "metadata": {},
   "outputs": [],
   "source": [
    "def getAllHash_ExceptTargets_Set_V2(dictOfHashes, targetsToRemove):\n",
    "    # Convert targetsToRemove to a set for faster lookup\n",
    "    targetsToRemoveSet = set(targetsToRemove)\n",
    "\n",
    "    # Use set comprehension for more efficient construction of the result set\n",
    "    return {hash for seqID, seqInfoDict in dictOfHashes.items() if seqID not in targetsToRemoveSet\n",
    "            for hash in seqInfoDict[\"Kmer_Hashes_Set\"]}"
   ]
  },
  {
   "cell_type": "code",
   "execution_count": 16,
   "id": "db13e405-36f1-48f6-88af-5959644f2a55",
   "metadata": {},
   "outputs": [],
   "source": [
    "def getAllHash_InTargetSeqs_Set(dictOfHashes, targetsToKeep):\n",
    "    \n",
    "    all_Hashes_InTarget = set()\n",
    "\n",
    "    for i_SeqID, i_SeqInfoDict in dictOfHashes.items():\n",
    "        \n",
    "        i_Hashes = i_SeqInfoDict[\"Kmer_Hashes_Set\"]\n",
    "        \n",
    "        if i_SeqID not in targetsToKeep:\n",
    "            all_Hashes_InTarget.update(i_Hashes) \n",
    "    \n",
    "    return all_Hashes_InTarget"
   ]
  },
  {
   "cell_type": "code",
   "execution_count": null,
   "id": "ab0f66f2-f073-42a3-9507-6d13e836ac74",
   "metadata": {},
   "outputs": [],
   "source": []
  },
  {
   "cell_type": "code",
   "execution_count": null,
   "id": "15e3382a-f0e0-4a6a-b2bf-acaec398539c",
   "metadata": {},
   "outputs": [],
   "source": []
  },
  {
   "cell_type": "code",
   "execution_count": null,
   "id": "6efff512-e73d-4cc2-b02f-d569cdc57f39",
   "metadata": {},
   "outputs": [],
   "source": []
  },
  {
   "cell_type": "markdown",
   "id": "41653480-8c29-4e58-a75b-f792f389e9d1",
   "metadata": {},
   "source": [
    "## Import/parse processed H37rv genome annotations"
   ]
  },
  {
   "cell_type": "code",
   "execution_count": 17,
   "id": "2d7bce58-7f0a-4ae9-9752-1a0ba35bd4c8",
   "metadata": {},
   "outputs": [],
   "source": [
    "RepoRef_Dir = \"../../References\"\n",
    "\n",
    "AnnotatedGenes_And_IntergenicRegions_RepoRef_Dir = f\"{RepoRef_Dir}/201027_H37rv_AnnotatedGenes_And_IntergenicRegions\"\n",
    "H37Rv_GenomeAnnotations_Genes_TSV = f\"{AnnotatedGenes_And_IntergenicRegions_RepoRef_Dir}/H37Rv_GenomeAnnotations.Genes.tsv\"\n",
    "\n",
    "## H37Rv Gene Annotations TSV\n",
    "H37Rv_GenomeAnno_Genes_DF = pd.read_csv(H37Rv_GenomeAnnotations_Genes_TSV, sep = \"\\t\")\n",
    "H37Rv_GeneInfo_Subset_DF = H37Rv_GenomeAnno_Genes_DF[[\"H37rv_GeneID\", \"Symbol\", \"Feature\", \"Functional_Category\", \"Is_Pseudogene\", \"Product\", \"PEandPPE_Subfamily\", \"ExcludedGroup_Category\"]]\n",
    "\n",
    "RvID_To_Symbol_Dict = dict(H37Rv_GeneInfo_Subset_DF[['H37rv_GeneID', 'Symbol']].values)\n",
    "Symbol_To_FuncCat_Dict = dict(H37Rv_GeneInfo_Subset_DF[['Symbol', 'Functional_Category']].values)\n"
   ]
  },
  {
   "cell_type": "markdown",
   "id": "3d66b9a2-a4ab-43c5-8907-c7dd008901a9",
   "metadata": {},
   "source": [
    "# Part 2: Generate reference k-mer sets (ie H37Rv, IS6110, Phages + ISs)  "
   ]
  },
  {
   "cell_type": "markdown",
   "id": "b10dcd8c-c3cf-4373-8b60-610c23cdedf2",
   "metadata": {},
   "source": [
    "## Generate k-mer info for H37Rv and a representative IS6110 sequence "
   ]
  },
  {
   "cell_type": "code",
   "execution_count": 18,
   "id": "6b28a8d8-dfad-4f2d-9dc8-48fefe11334f",
   "metadata": {},
   "outputs": [],
   "source": [
    "Mtb_RefDir=\"/n/data1/hms/dbmi/farhat/mm774/References\"\n",
    "\n",
    "H37rv_Ref_FA_PATH = f\"{Mtb_RefDir}/GCF_000195955.2_ASM19595v2_genomic.fasta\"\n",
    "IS6110_Example_FA_PATH = f\"{Mtb_RefDir}/IS6110_From_Rv0795_Rv0796.DNA.fasta\""
   ]
  },
  {
   "cell_type": "markdown",
   "id": "4b23d029-27af-4e29-8c43-3759e66f470b",
   "metadata": {},
   "source": [
    "#### H37Rv - k-mer generation & hashing"
   ]
  },
  {
   "cell_type": "code",
   "execution_count": 19,
   "id": "bdc15f6d-d1f0-4493-9c1c-49628cd2a889",
   "metadata": {},
   "outputs": [
    {
     "name": "stdout",
     "output_type": "stream",
     "text": [
      "4411502\n"
     ]
    }
   ],
   "source": [
    "H37Rv_kmers = read_kmers_from_file(H37rv_Ref_FA_PATH, 31)\n",
    "\n",
    "H37Rv_Hashes_Set = hash_kmers_ToSet(H37Rv_kmers)\n",
    "\n",
    "print(len(H37Rv_kmers))"
   ]
  },
  {
   "cell_type": "markdown",
   "id": "e8a9d789-4ae5-47f1-b213-08641c3aed90",
   "metadata": {},
   "source": [
    "#### IS6110 (Rv0795 & Rv0796) - k-mer generation & hashing"
   ]
  },
  {
   "cell_type": "code",
   "execution_count": 20,
   "id": "97fdf414-b94d-422d-b31b-602cdfd69c9f",
   "metadata": {},
   "outputs": [
    {
     "name": "stdout",
     "output_type": "stream",
     "text": [
      "1254\n"
     ]
    }
   ],
   "source": [
    "IS6110_Ex1_kmers = read_kmers_from_file(IS6110_Example_FA_PATH, 31)\n",
    "\n",
    "IS6110_Ex1_Hashes_Set = hash_kmers_ToSet(IS6110_Ex1_kmers)\n",
    "\n",
    "print(len(IS6110_Ex1_kmers))"
   ]
  },
  {
   "cell_type": "code",
   "execution_count": null,
   "id": "cb64a715-9067-4316-b1ac-c7f3838205eb",
   "metadata": {},
   "outputs": [],
   "source": []
  },
  {
   "cell_type": "markdown",
   "id": "99800eeb-17ae-4748-bdc3-32bf89daaf8f",
   "metadata": {},
   "source": [
    "## Generate k-mer info for all H37Rv gene DNA sequences (Mycobrowser)"
   ]
  },
  {
   "cell_type": "code",
   "execution_count": 21,
   "id": "cc391d3a-452e-40f8-9580-96625bcbcbdd",
   "metadata": {},
   "outputs": [],
   "source": [
    "from Bio import SeqIO\n"
   ]
  },
  {
   "cell_type": "code",
   "execution_count": 22,
   "id": "a2639d3e-5944-4a2c-b310-b3bc062fc630",
   "metadata": {},
   "outputs": [],
   "source": [
    "O2_RefDir = \"/n/data1/hms/dbmi/farhat/mm774/References\"\n",
    "MycoBrowser_RefFiles_Dir = f\"{O2_RefDir}/190619_Mycobrowser_H37rv_ReferenceFiles\"\n",
    "\n",
    "H37Rv_Genes_MycoBro_FA = f\"{MycoBrowser_RefFiles_Dir}/Mycobacterium_tuberculosis_H37Rv_genes_v3.fasta\"\n"
   ]
  },
  {
   "cell_type": "code",
   "execution_count": 23,
   "id": "3d8722e5-ad3e-467a-9b5c-85bf6218ad54",
   "metadata": {},
   "outputs": [
    {
     "name": "stdout",
     "output_type": "stream",
     "text": [
      ">Rv0001|dnaA|CDS|1-1524|+|Chromosomal replication initiator protein DnaA\n"
     ]
    }
   ],
   "source": [
    "!grep ^\">\" $H37Rv_Genes_MycoBro_FA | grep \"dnaA\""
   ]
  },
  {
   "cell_type": "markdown",
   "id": "5287771d-c195-41c4-8984-abf1d2e51add",
   "metadata": {},
   "source": [
    "### Get 31-mer hashes for all annotated gene DNA sequences"
   ]
  },
  {
   "cell_type": "code",
   "execution_count": 24,
   "id": "bec8b545-c01f-45f2-90f3-e5aae2dc2b66",
   "metadata": {},
   "outputs": [
    {
     "name": "stderr",
     "output_type": "stream",
     "text": [
      "4187it [00:30, 135.33it/s]\n"
     ]
    }
   ],
   "source": [
    "dictOf_H37Rv_MycoBrow_GeneSeq = {}\n",
    "dictOf_H37Rv_MycoBrow_Gene_KmerHashes = {}\n",
    "\n",
    "for index, record in tqdm(enumerate(SeqIO.parse(H37Rv_Genes_MycoBro_FA, \"fasta\"))):\n",
    "    \n",
    "    RecordName = record.name\n",
    "    RvID = RecordName.split(\"|\")[0]\n",
    "    GeneID = RecordName.split(\"|\")[1]\n",
    "    S_Seq = str(record.seq).upper()\n",
    "    \n",
    "    dictOf_H37Rv_MycoBrow_GeneSeq[GeneID] = S_Seq\n",
    "\n",
    "    record_Hashes_Set = hash_kmers_ToSet(build_kmers(S_Seq, 31))\n",
    "\n",
    "    dictOf_H37Rv_MycoBrow_Gene_KmerHashes[GeneID] = record_Hashes_Set\n",
    "    "
   ]
  },
  {
   "cell_type": "code",
   "execution_count": 25,
   "id": "827f0ee2-5390-4e65-8d89-445e123aae7b",
   "metadata": {},
   "outputs": [
    {
     "data": {
      "text/plain": [
       "1524"
      ]
     },
     "execution_count": 25,
     "metadata": {},
     "output_type": "execute_result"
    }
   ],
   "source": [
    "len(dictOf_H37Rv_MycoBrow_GeneSeq[\"dnaA\"])"
   ]
  },
  {
   "cell_type": "code",
   "execution_count": 26,
   "id": "dd2607d2-1d0a-45e2-9738-80e9843325d5",
   "metadata": {},
   "outputs": [
    {
     "data": {
      "text/plain": [
       "[13580233940393664509, 5138456728421695490]"
      ]
     },
     "execution_count": 26,
     "metadata": {},
     "output_type": "execute_result"
    }
   ],
   "source": [
    "list(dictOf_H37Rv_MycoBrow_Gene_KmerHashes[\"dnaA\"])[:2]"
   ]
  },
  {
   "cell_type": "markdown",
   "id": "2398dbfe-d583-4cb5-8c41-60d75ec12dc8",
   "metadata": {
    "jp-MarkdownHeadingCollapsed": true
   },
   "source": [
    "## Generate k-mer info for each gene category annotation in H37Rv"
   ]
  },
  {
   "cell_type": "code",
   "execution_count": 27,
   "id": "e9f4a339-96d7-4e62-afee-e6c9d3d618da",
   "metadata": {},
   "outputs": [],
   "source": [
    "def getAllHashes_InTargetSeqs(dictOfHashes, targetsToKeep):\n",
    "    \n",
    "    all_Hashes_InTarget = set()\n",
    "\n",
    "    for i_SeqID, i_Hashes in dictOfHashes.items():\n",
    "                \n",
    "        if i_SeqID in targetsToKeep:\n",
    "            all_Hashes_InTarget.update(i_Hashes) \n",
    "    \n",
    "    return all_Hashes_InTarget"
   ]
  },
  {
   "cell_type": "code",
   "execution_count": null,
   "id": "e1062dea-afd9-4d69-9319-0d28426076b3",
   "metadata": {},
   "outputs": [],
   "source": []
  },
  {
   "cell_type": "code",
   "execution_count": null,
   "id": "b582398e-9420-4c3a-97ce-8080d6bf7587",
   "metadata": {},
   "outputs": [],
   "source": []
  },
  {
   "cell_type": "code",
   "execution_count": 28,
   "id": "2fa1b465-9dc5-4b65-81ec-34e71fb7549d",
   "metadata": {},
   "outputs": [
    {
     "name": "stdout",
     "output_type": "stream",
     "text": [
      "information pathways 242 265284\n",
      "conserved hypotheticals 1042 723221\n",
      "cell wall and cell processes 772 783261\n",
      "stable RNAs 48 6735\n",
      "intermediary metabolism and respiration 936 1011332\n",
      "regulatory proteins 198 161826\n",
      "virulence, detoxification, adaptation 239 150509\n",
      "insertion seqs and phages 147 69102\n",
      "lipid metabolism 272 407894\n",
      "PE/PPE 168 265028\n",
      "unknown 15 7938\n"
     ]
    }
   ],
   "source": [
    "Rv_Gene_Category_List = list(H37Rv_GenomeAnno_Genes_DF[\"Functional_Category\"].unique())\n",
    "\n",
    "RvGeneCat_To_Symbol_Dict = {}\n",
    "RvGeneCat_To_RvID_Dict = {}\n",
    "RvGeneCat_To_KmerHashes_Dict = {}\n",
    "\n",
    "for i_GeneCat in Rv_Gene_Category_List:\n",
    "    \n",
    "    Genes_Subset_DF = H37Rv_GenomeAnno_Genes_DF.query(f\"Functional_Category == '{i_GeneCat}'\")     \n",
    "    \n",
    "    Subset_GeneSymbols = Genes_Subset_DF[\"Symbol\"].values\n",
    "    Subset_RvIDs = Genes_Subset_DF[\"H37rv_GeneID\"].values\n",
    "\n",
    "    N_Genes = len(Subset_GeneSymbols)\n",
    "    \n",
    "\n",
    "    RvGeneCat_To_Symbol_Dict[i_GeneCat] = Subset_GeneSymbols\n",
    "    RvGeneCat_To_RvID_Dict[i_GeneCat] = Subset_RvIDs\n",
    "\n",
    "\n",
    "    i_GeneCat_Hashes_Set = getAllHashes_InTargetSeqs(dictOf_H37Rv_MycoBrow_Gene_KmerHashes,\n",
    "                                                     Subset_GeneSymbols)   \n",
    "\n",
    "    RvGeneCat_To_KmerHashes_Dict[i_GeneCat] = i_GeneCat_Hashes_Set\n",
    "    \n",
    "    print(i_GeneCat, N_Genes, len(list(i_GeneCat_Hashes_Set)) )\n"
   ]
  },
  {
   "cell_type": "code",
   "execution_count": null,
   "id": "d3b8f7e8-b330-469b-890f-a4dbb8ea8a09",
   "metadata": {},
   "outputs": [],
   "source": []
  },
  {
   "cell_type": "code",
   "execution_count": 29,
   "id": "9c59e655-43f3-45b0-ada1-6463bc292220",
   "metadata": {},
   "outputs": [],
   "source": [
    "Rv_PEPPEs_Hashes_Set = RvGeneCat_To_KmerHashes_Dict['PE/PPE']"
   ]
  },
  {
   "cell_type": "code",
   "execution_count": 30,
   "id": "3fadb102-3c04-4032-acee-6b35a7f4326f",
   "metadata": {},
   "outputs": [],
   "source": [
    "Rv_PEPPEs_Hashes_Set = RvGeneCat_To_KmerHashes_Dict['PE/PPE']\n",
    "Rv_MGEs_Hashes_Set = RvGeneCat_To_KmerHashes_Dict['insertion seqs and phages']"
   ]
  },
  {
   "cell_type": "code",
   "execution_count": 31,
   "id": "7e51bee7-505a-4134-9060-541bea83f17a",
   "metadata": {},
   "outputs": [
    {
     "name": "stdout",
     "output_type": "stream",
     "text": [
      "69102\n"
     ]
    }
   ],
   "source": [
    "print(len(Rv_MGEs_Hashes_Set))"
   ]
  },
  {
   "cell_type": "code",
   "execution_count": null,
   "id": "939021ef-2440-4293-a869-703d2dc2fefa",
   "metadata": {},
   "outputs": [],
   "source": []
  },
  {
   "cell_type": "code",
   "execution_count": null,
   "id": "424243bc-8ee8-4454-91c5-015ed651cc3d",
   "metadata": {},
   "outputs": [],
   "source": []
  },
  {
   "cell_type": "code",
   "execution_count": null,
   "id": "aafe2520-c9a3-482a-9991-cc778a16327d",
   "metadata": {},
   "outputs": [],
   "source": []
  },
  {
   "cell_type": "code",
   "execution_count": null,
   "id": "1cdcc7c0-99f2-49cc-bd3e-709ac640af97",
   "metadata": {},
   "outputs": [],
   "source": []
  },
  {
   "cell_type": "code",
   "execution_count": null,
   "id": "a5fa5beb-3b00-4fb8-a6ff-ea0bf725e7f7",
   "metadata": {},
   "outputs": [],
   "source": []
  },
  {
   "cell_type": "code",
   "execution_count": null,
   "id": "ca7443fc-e4a4-4752-9ea7-cc16a05063b3",
   "metadata": {},
   "outputs": [],
   "source": []
  },
  {
   "cell_type": "markdown",
   "id": "b369eb1c-ffde-450a-9e71-a16b9d951d79",
   "metadata": {
    "toc-hr-collapsed": true
   },
   "source": [
    "# Parse sample metadata & preprocessed genome info/results"
   ]
  },
  {
   "cell_type": "code",
   "execution_count": 32,
   "id": "3772c283-7bb2-4f8f-ade6-faacb99ba6a1",
   "metadata": {},
   "outputs": [
    {
     "name": "stdout",
     "output_type": "stream",
     "text": [
      "/n/data1/hms/dbmi/farhat/mm774/Snakemake_Pipelines/mtb-pg-benchmarking-2024paper/Analysis/PartC_Mtb_PG_Eval\n"
     ]
    }
   ],
   "source": [
    "!pwd"
   ]
  },
  {
   "cell_type": "code",
   "execution_count": 33,
   "id": "2f75eef4-ef80-49d1-b225-9769feb0b83f",
   "metadata": {},
   "outputs": [],
   "source": [
    "#!ls -1 ../../Data"
   ]
  },
  {
   "cell_type": "markdown",
   "id": "d10782bb-9daa-43c4-9380-02ff3643be39",
   "metadata": {},
   "source": [
    "## Parse sample Metadata (N = 151)"
   ]
  },
  {
   "cell_type": "code",
   "execution_count": 34,
   "id": "1d561fef-44c7-41c9-8ca4-296a01880e1d",
   "metadata": {},
   "outputs": [
    {
     "data": {
      "text/plain": [
       "(151, 7)"
      ]
     },
     "execution_count": 34,
     "metadata": {},
     "output_type": "execute_result"
    }
   ],
   "source": [
    "Repo_DataDir = \"../../Data\"\n",
    "InputAsmPath_Dir = f\"{Repo_DataDir}/231121.InputAsmTSVs.MtbSetV3.151CI\"\n",
    "\n",
    "MtbSetV3_151CI_InputAsmPATHs_TSV = f\"{InputAsmPath_Dir}/231121.MtbSetV3.151CI.HybridAndSRAsm.FAPATHs.V1.tsv\"\n",
    "\n",
    "MtbSetV3_151CI_AsmSumm_TSV = f\"{InputAsmPath_Dir}/231121.MtbSetV3.151CI.HybridAsm.AsmSummary.V2.tsv\"\n",
    "\n",
    "WGA151CI_AsmSummary_DF = pd.read_csv(MtbSetV3_151CI_AsmSumm_TSV, sep = \"\\t\")\n",
    "\n",
    "SampleIDs_151CI_SOI = list( WGA151CI_AsmSummary_DF[\"SampleID\"].values )\n",
    "WGA151CI_SampleIDs = SampleIDs_151CI_SOI\n",
    "\n",
    "ID_To_PrimLineage_Dict = dict(WGA151CI_AsmSummary_DF[['SampleID', 'PrimaryLineage']].values)\n",
    "ID_To_SubLineage_Dict = dict( WGA151CI_AsmSummary_DF[[\"SampleID\", \"Lineage\"]].values)\n",
    "ID_To_Dataset_Dict = dict(WGA151CI_AsmSummary_DF[['SampleID', 'Dataset_Tag']].values)\n",
    "WGA151CI_AsmSummary_DF.shape"
   ]
  },
  {
   "cell_type": "markdown",
   "id": "c29720d9-eea1-4ab4-9b8d-44cbeeac973d",
   "metadata": {},
   "source": [
    "## PARSE PATHs FOR ALL assemblies processed by this pipeline"
   ]
  },
  {
   "cell_type": "code",
   "execution_count": 35,
   "id": "0bf6f65e-1c8c-4181-84a7-374a5e2db5f8",
   "metadata": {},
   "outputs": [
    {
     "name": "stdout",
     "output_type": "stream",
     "text": [
      "Index(['SampleID', 'Dataset_Tag', 'Genome_ASM_PATH',\n",
      "       'ShortRead_Genome_ASM_PATH'],\n",
      "      dtype='object')\n"
     ]
    }
   ],
   "source": [
    "WGA151CI_LRandSR_Asm_Path_DF = pd.read_csv(MtbSetV3_151CI_InputAsmPATHs_TSV, sep = \"\\t\")\n",
    "print(WGA151CI_LRandSR_Asm_Path_DF.columns)\n",
    "WGA151CI_LRandSR_Asm_Path_DF.columns = ['SampleID', 'Dataset_Tag',\n",
    "                                        'Genome_LR_ASM_PATH', 'Genome_SR_ASM_PATH']\n"
   ]
  },
  {
   "cell_type": "code",
   "execution_count": 36,
   "id": "04c1aec7-4765-4e5e-9c6c-0ce195d9e09b",
   "metadata": {},
   "outputs": [
    {
     "data": {
      "text/html": [
       "<div>\n",
       "<style scoped>\n",
       "    .dataframe tbody tr th:only-of-type {\n",
       "        vertical-align: middle;\n",
       "    }\n",
       "\n",
       "    .dataframe tbody tr th {\n",
       "        vertical-align: top;\n",
       "    }\n",
       "\n",
       "    .dataframe thead th {\n",
       "        text-align: right;\n",
       "    }\n",
       "</style>\n",
       "<table border=\"1\" class=\"dataframe\">\n",
       "  <thead>\n",
       "    <tr style=\"text-align: right;\">\n",
       "      <th></th>\n",
       "      <th>SampleID</th>\n",
       "      <th>Dataset_Tag</th>\n",
       "      <th>Genome_LR_ASM_PATH</th>\n",
       "      <th>Genome_SR_ASM_PATH</th>\n",
       "    </tr>\n",
       "  </thead>\n",
       "  <tbody>\n",
       "    <tr>\n",
       "      <th>0</th>\n",
       "      <td>N0072</td>\n",
       "      <td>ChinerOms_2019</td>\n",
       "      <td>/n/data1/hms/dbmi/farhat/mm774/Projects/231121.MtbSetV3.151CI.CompleteAndSR.Asms/ChinerOms_2019/...</td>\n",
       "      <td>/n/data1/hms/dbmi/farhat/mm774/Projects/231121.MtbSetV3.151CI.CompleteAndSR.Asms/ChinerOms_2019/...</td>\n",
       "    </tr>\n",
       "  </tbody>\n",
       "</table>\n",
       "</div>"
      ],
      "text/plain": [
       "  SampleID     Dataset_Tag  \\\n",
       "0    N0072  ChinerOms_2019   \n",
       "\n",
       "                                                                                    Genome_LR_ASM_PATH  \\\n",
       "0  /n/data1/hms/dbmi/farhat/mm774/Projects/231121.MtbSetV3.151CI.CompleteAndSR.Asms/ChinerOms_2019/...   \n",
       "\n",
       "                                                                                    Genome_SR_ASM_PATH  \n",
       "0  /n/data1/hms/dbmi/farhat/mm774/Projects/231121.MtbSetV3.151CI.CompleteAndSR.Asms/ChinerOms_2019/...  "
      ]
     },
     "execution_count": 36,
     "metadata": {},
     "output_type": "execute_result"
    }
   ],
   "source": [
    "WGA151CI_LRandSR_Asm_Path_DF.head(1)"
   ]
  },
  {
   "cell_type": "markdown",
   "id": "b1752239-43d1-4529-8f9d-66ffbf9706fe",
   "metadata": {},
   "source": [
    "#### Create Dict of Asm FA PATHs"
   ]
  },
  {
   "cell_type": "code",
   "execution_count": 37,
   "id": "e0f39ec5-a1eb-434d-a78f-e7e210dc869e",
   "metadata": {},
   "outputs": [],
   "source": [
    "\n",
    "LR_AsmFA_Dict = dict(WGA151CI_LRandSR_Asm_Path_DF[['SampleID', 'Genome_LR_ASM_PATH']].values)\n",
    "SR_AsmFA_Dict = dict(WGA151CI_LRandSR_Asm_Path_DF[['SampleID', 'Genome_SR_ASM_PATH']].values)\n"
   ]
  },
  {
   "cell_type": "code",
   "execution_count": null,
   "id": "96c6bb9f-1fcc-4c8c-9722-c8cbe99fc24e",
   "metadata": {},
   "outputs": [],
   "source": []
  },
  {
   "cell_type": "code",
   "execution_count": null,
   "id": "f43a38ae-db7b-469b-982e-bf05c7c4c4bb",
   "metadata": {},
   "outputs": [],
   "source": []
  },
  {
   "cell_type": "markdown",
   "id": "61fea3b5-42c0-4a83-95f3-61261cdac536",
   "metadata": {},
   "source": [
    "### Define Phylo order of samples:"
   ]
  },
  {
   "cell_type": "code",
   "execution_count": 38,
   "id": "a409918e-a213-48ec-840e-b8d0f28c73e5",
   "metadata": {},
   "outputs": [],
   "source": [
    "OrderOfSampleIDs_Phylo = ['N0153', 'N0072', 'mada_2-46', 'mada_1-44', 'mada_107',\n",
    "                          'mada_1-1', 'mada_1-51', 'mada_1-39', 'mada_1-36',\n",
    "                          'mada_117', 'mada_122', 'mada_118', 'mada_1-10', 'R27252',\n",
    "                          'R23887', 'TB3091', '9050-05', '3003-06', '702-06', '696-05',\n",
    "                          '8651-04', 'TB3396', '4549-04', 'TB1612', 'TB2780', 'TB3368',\n",
    "                          'TB1236', 'TB2659', '8129-04', 'R30215', 'R25048', 'TB2512',\n",
    "                          'TB2981', 'TB2995', 'TB3113', '706-05', 'R30078', 'R28012',\n",
    "                          'R27657', 'R30234', 'R31095', 'R28703', 'R24120', 'R36431',\n",
    "                          'R29816', 'S0070-08', 'N0155', 'N0145', 'R29598', 'R24100',\n",
    "                          'S0107-01', 'R28581', 'S0256-08', 'S0085-01', 'S0089-01',\n",
    "                          'mada_1-11', 'M0003941_3', 'mada_115', 'mada_2-42', 'R37765',\n",
    "                          '18_0621851', 'R22601', 'R27937', 'R18040', 'R18043', 'R27725',\n",
    "                          'R26791', 'R20574', 'R20260', 'R21408', 'R23146', 'R28980', 'R32929',\n",
    "                          'R26778', 'R30420', 'R21893', 'QC-9', 'QC-5', 'QC-3', 'N0004',\n",
    "                          'mada_1-30', 'N0054', 'N1274', '01_R1134', 'TB2968', 'mada_1-53',\n",
    "                          'mada_2-53', 'mada_1-50', 'mada_2-1', 'R23571', 'mada_123',\n",
    "                          'mada_1-12', 'mada_1-15', 'mada_128', 'mada_1-38', 'TB3054',\n",
    "                          'mada_126', 'mada_120', 'TB4620', 'M0016737_0', 'M0016395_7',\n",
    "                          'R15311', 'TB2661', 'TB3386', 'TB3162', '02_R1179', 'M0010874_7',\n",
    "                          'QC-7', 'QC-6', 'QC-1', '01_R1430', 'M0011368_9', '02_R1896',\n",
    "                          'mada_2-25', 'TB3237', 'mada_103', 'mada_112', 'mada_124',\n",
    "                          'S0123-01', 'S0262-02', 'TB3251', 'M0017522_5', 'R30396', 'R20896',\n",
    "                          'mada_1-32', 'S0106-01', 'R21839', 'R21363', 'R21770', 'MT_0080','mada_102',\n",
    "                          'TB3334', 'M0014888_3', 'mada_151', 'TB3169', 'mada_105', 'QC-8',\n",
    "                          'QC-10', 'QC-4', 'mada_129', 'mada_139', '02_R1708', '02_R0894',\n",
    "                          'mada_2-31', 'mada_1-41', 'N1272', 'N1176', 'N1202', 'N0091',\n",
    "                          'N1177','RW-TB008']\n"
   ]
  },
  {
   "cell_type": "code",
   "execution_count": null,
   "id": "f82190f5-c081-4399-9c76-285896ce5caa",
   "metadata": {},
   "outputs": [],
   "source": []
  },
  {
   "cell_type": "code",
   "execution_count": null,
   "id": "2e0495ab-ba00-4fe2-b9c3-54f89d1eeac5",
   "metadata": {},
   "outputs": [],
   "source": []
  },
  {
   "cell_type": "code",
   "execution_count": 39,
   "id": "80b46b53-f606-4a20-83e4-e4723c9782d8",
   "metadata": {},
   "outputs": [
    {
     "data": {
      "text/html": [
       "<div>\n",
       "<style scoped>\n",
       "    .dataframe tbody tr th:only-of-type {\n",
       "        vertical-align: middle;\n",
       "    }\n",
       "\n",
       "    .dataframe tbody tr th {\n",
       "        vertical-align: top;\n",
       "    }\n",
       "\n",
       "    .dataframe thead th {\n",
       "        text-align: right;\n",
       "    }\n",
       "</style>\n",
       "<table border=\"1\" class=\"dataframe\">\n",
       "  <thead>\n",
       "    <tr style=\"text-align: right;\">\n",
       "      <th></th>\n",
       "      <th>SampleID</th>\n",
       "      <th>numContigs_Complete</th>\n",
       "      <th>Flye_CircContig_Cov</th>\n",
       "      <th>PrimaryLineage</th>\n",
       "      <th>Lineage</th>\n",
       "      <th>Dataset_Tag</th>\n",
       "      <th>AsmApproach</th>\n",
       "    </tr>\n",
       "  </thead>\n",
       "  <tbody>\n",
       "    <tr>\n",
       "      <th>0</th>\n",
       "      <td>N0072</td>\n",
       "      <td>1</td>\n",
       "      <td>358</td>\n",
       "      <td>lineage1</td>\n",
       "      <td>lineage1,lineage1.1,lineage1.1.2</td>\n",
       "      <td>ChinerOms_2019</td>\n",
       "      <td>PBrs2_LR_Flye_I3_SR_Pilon</td>\n",
       "    </tr>\n",
       "    <tr>\n",
       "      <th>1</th>\n",
       "      <td>N0153</td>\n",
       "      <td>1</td>\n",
       "      <td>372</td>\n",
       "      <td>lineage1</td>\n",
       "      <td>lineage1,lineage1.1,lineage1.1.1,lineage1.1.1.1</td>\n",
       "      <td>ChinerOms_2019</td>\n",
       "      <td>PBrs2_LR_Flye_I3_SR_Pilon</td>\n",
       "    </tr>\n",
       "    <tr>\n",
       "      <th>2</th>\n",
       "      <td>TB3113</td>\n",
       "      <td>1</td>\n",
       "      <td>933</td>\n",
       "      <td>lineage2</td>\n",
       "      <td>lineage2,lineage2.2,lineage2.2.1</td>\n",
       "      <td>TB_Portals_24CI_R1</td>\n",
       "      <td>PBrs2_LR_Flye_I3_SR_Pilon</td>\n",
       "    </tr>\n",
       "    <tr>\n",
       "      <th>3</th>\n",
       "      <td>TB1236</td>\n",
       "      <td>1</td>\n",
       "      <td>374</td>\n",
       "      <td>lineage2</td>\n",
       "      <td>lineage2,lineage2.2,lineage2.2.1</td>\n",
       "      <td>TB_Portals_24CI_R1</td>\n",
       "      <td>PBrs2_LR_Flye_I3_SR_Pilon</td>\n",
       "    </tr>\n",
       "    <tr>\n",
       "      <th>4</th>\n",
       "      <td>TB2659</td>\n",
       "      <td>1</td>\n",
       "      <td>421</td>\n",
       "      <td>lineage2</td>\n",
       "      <td>lineage2,lineage2.2,lineage2.2.1</td>\n",
       "      <td>TB_Portals_24CI_R1</td>\n",
       "      <td>PBrs2_LR_Flye_I3_SR_Pilon</td>\n",
       "    </tr>\n",
       "  </tbody>\n",
       "</table>\n",
       "</div>"
      ],
      "text/plain": [
       "  SampleID  numContigs_Complete  Flye_CircContig_Cov PrimaryLineage  \\\n",
       "0    N0072                    1                  358       lineage1   \n",
       "1    N0153                    1                  372       lineage1   \n",
       "2   TB3113                    1                  933       lineage2   \n",
       "3   TB1236                    1                  374       lineage2   \n",
       "4   TB2659                    1                  421       lineage2   \n",
       "\n",
       "                                           Lineage         Dataset_Tag  \\\n",
       "0                 lineage1,lineage1.1,lineage1.1.2      ChinerOms_2019   \n",
       "1  lineage1,lineage1.1,lineage1.1.1,lineage1.1.1.1      ChinerOms_2019   \n",
       "2                 lineage2,lineage2.2,lineage2.2.1  TB_Portals_24CI_R1   \n",
       "3                 lineage2,lineage2.2,lineage2.2.1  TB_Portals_24CI_R1   \n",
       "4                 lineage2,lineage2.2,lineage2.2.1  TB_Portals_24CI_R1   \n",
       "\n",
       "                 AsmApproach  \n",
       "0  PBrs2_LR_Flye_I3_SR_Pilon  \n",
       "1  PBrs2_LR_Flye_I3_SR_Pilon  \n",
       "2  PBrs2_LR_Flye_I3_SR_Pilon  \n",
       "3  PBrs2_LR_Flye_I3_SR_Pilon  \n",
       "4  PBrs2_LR_Flye_I3_SR_Pilon  "
      ]
     },
     "execution_count": 39,
     "metadata": {},
     "output_type": "execute_result"
    }
   ],
   "source": [
    "WGA151CI_AsmSummary_DF.head(5)"
   ]
  },
  {
   "cell_type": "markdown",
   "id": "dc804839-4f77-4e91-aace-bc9f5d276450",
   "metadata": {},
   "source": [
    "#### Make sample lineage & color mapping"
   ]
  },
  {
   "cell_type": "code",
   "execution_count": 40,
   "id": "13a380ab-9c6c-4fa4-bd28-ae01f8e39018",
   "metadata": {},
   "outputs": [],
   "source": [
    "# Dictionary for lineage to color mapping\n",
    "LinToColor_Dict = {\n",
    "    \"lineage1\": \"#DF83AC\",\n",
    "    \"lineage2\": \"#7098CB\",\n",
    "    \"lineage3\": \"#815D9F\",\n",
    "    \"lineage4\": \"#E76956\",\n",
    "    \"lineage5\": \"#B67548\",\n",
    "    \"lineage6\": \"#6AB79E\",\n",
    "    \"lineage8\": \"#E4515B\",\n",
    "    \"None\": \"black\",\n",
    "}\n",
    "\n",
    "# Extracting the mapping between IsolateID and PrimaryLineage_Ill\n",
    "lineage_mapping = WGA151CI_AsmSummary_DF.set_index('SampleID')['PrimaryLineage'].to_dict()\n",
    "\n",
    "# Creating a color mapping for the samples\n",
    "sample_colors = {sample: LinToColor_Dict.get(lineage, \"black\") for sample, lineage in lineage_mapping.items()}\n"
   ]
  },
  {
   "cell_type": "code",
   "execution_count": null,
   "id": "daaf71c6-1a84-4e7e-a76e-1dd9b4776722",
   "metadata": {},
   "outputs": [],
   "source": []
  },
  {
   "cell_type": "code",
   "execution_count": null,
   "id": "87a17547-cc3c-47e5-af09-d533b3758319",
   "metadata": {},
   "outputs": [],
   "source": []
  },
  {
   "cell_type": "code",
   "execution_count": null,
   "id": "2ca87ddd-3f0c-423d-a9b2-5a4624265288",
   "metadata": {},
   "outputs": [],
   "source": []
  },
  {
   "cell_type": "code",
   "execution_count": null,
   "id": "41d4493b-c1dd-4e70-9ce0-b7d07a209061",
   "metadata": {},
   "outputs": [],
   "source": []
  },
  {
   "cell_type": "markdown",
   "id": "8b08fb4f-3d50-4b30-bc6f-62426d092616",
   "metadata": {},
   "source": [
    "# Define output dir of the Mtb-WGA-SMK processing pipeline"
   ]
  },
  {
   "cell_type": "code",
   "execution_count": 41,
   "id": "8a678043-6f30-4bc7-b3fc-c448d5e18786",
   "metadata": {},
   "outputs": [],
   "source": [
    "# Define varaint calling pipeline output directories\n",
    "\n",
    "WGA_SMK_Outputs_Dir = \"/n/data1/hms/dbmi/farhat/mm774/Projects/Mtb-WGA-SMK-Output\"\n",
    "\n",
    "WGA151CI_SMK_OutputDir = WGA_SMK_Outputs_Dir + \"/231121_MtbSetV3_151CI\"\n",
    "\n",
    "MtbWGA_SMK_Pipeline_OutputDir = WGA151CI_SMK_OutputDir\n"
   ]
  },
  {
   "cell_type": "code",
   "execution_count": null,
   "id": "4e383c4f-6f5a-4114-b851-06566d20ff7a",
   "metadata": {},
   "outputs": [],
   "source": []
  },
  {
   "cell_type": "markdown",
   "id": "a55107f8-35de-4021-a547-e00f137a7f01",
   "metadata": {},
   "source": [
    "# Parse Minigraph info"
   ]
  },
  {
   "cell_type": "code",
   "execution_count": null,
   "id": "882729ec-1d2e-4c5d-b319-fa7dca831efc",
   "metadata": {},
   "outputs": [],
   "source": []
  },
  {
   "cell_type": "markdown",
   "id": "830115bc-6e4b-4c92-aab3-d3b13636afed",
   "metadata": {},
   "source": [
    "### Define PATHS relevant to Minigraph analysis"
   ]
  },
  {
   "cell_type": "code",
   "execution_count": 42,
   "id": "41814d1a-99ff-43fa-b4a9-e11c504679e8",
   "metadata": {},
   "outputs": [],
   "source": [
    "target_OutputDir = MtbWGA_SMK_Pipeline_OutputDir\n",
    "Minigraph_151CI_OutDir = f\"{target_OutputDir}/Minigraph\"\n",
    "\n",
    "MG_WGA151CI_GFA = f\"{Minigraph_151CI_OutDir}/Minigraph_H37rv_Vs_151CI.V1.gfa\"\n",
    "MG_WGA151CI_Bubble_SV_BED = f\"{Minigraph_151CI_OutDir}/Minigraph_H37rv_Vs_151CI.V1.Bubble.SV.bed\"\n",
    "MG_WGA151CI_Stable_FA = f\"{Minigraph_151CI_OutDir}/Minigraph_H37rv_Vs_151CI.V1.Stable.fa\"\n",
    "\n",
    "MG_WGA151CI_MergedSVInfo_TSV = f\"{Minigraph_151CI_OutDir}/Minigraph_H37rv_Vs_151CI.MergedSV.Info.tsv\"\n",
    "MG_WGA151CI_MergedSVInfo_SVVCF = f\"{Minigraph_151CI_OutDir}/Minigraph_H37rv_Vs_151CI.MergedSV.Info.svvcf\"\n"
   ]
  },
  {
   "cell_type": "code",
   "execution_count": 43,
   "id": "b864d99f-73c6-4617-a083-9cd84e7f324e",
   "metadata": {},
   "outputs": [
    {
     "data": {
      "text/plain": [
       "'/n/data1/hms/dbmi/farhat/mm774/Projects/Mtb-WGA-SMK-Output/231121_MtbSetV3_151CI/Minigraph'"
      ]
     },
     "execution_count": 43,
     "metadata": {},
     "output_type": "execute_result"
    }
   ],
   "source": [
    "Minigraph_151CI_OutDir"
   ]
  },
  {
   "cell_type": "markdown",
   "id": "b734871b-eece-4da8-86e1-eabd0adafc0d",
   "metadata": {},
   "source": [
    "#### use `gfatools` to print general stats of the SV graph (rGFA format)"
   ]
  },
  {
   "cell_type": "code",
   "execution_count": 44,
   "id": "241756f0-de7d-4efb-92e0-d65ffe3c8c6b",
   "metadata": {},
   "outputs": [
    {
     "name": "stdout",
     "output_type": "stream",
     "text": [
      "Number of segments: 3138\n",
      "Number of links: 4705\n",
      "Number of arcs: 9410\n",
      "Max rank: 129\n",
      "Total segment length: 5196363\n",
      "Average segment length: 1655.947\n",
      "Sum of rank-0 segment lengths: 4411532\n",
      "Max degree: 8\n",
      "Average degree: 1.499\n",
      "[M::main] Version: 0.5-r292-dirty\n",
      "[M::main] CMD: gfatools stat /n/data1/hms/dbmi/farhat/mm774/Projects/Mtb-WGA-SMK-Output/231121_MtbSetV3_151CI/Minigraph/Minigraph_H37rv_Vs_151CI.V1.gfa\n",
      "[M::main] Real time: 0.024 sec; CPU: 0.062 sec\n"
     ]
    }
   ],
   "source": [
    "!gfatools stat $MG_WGA151CI_GFA"
   ]
  },
  {
   "cell_type": "code",
   "execution_count": null,
   "id": "ce827663-a6c0-4585-ad0b-d95ddf18003c",
   "metadata": {},
   "outputs": [],
   "source": []
  },
  {
   "cell_type": "markdown",
   "id": "53950b81-9b96-4d14-9753-4992e8ed736c",
   "metadata": {},
   "source": [
    "### Define paths to processed analysis of SV Pan-genome graph (minigraph)"
   ]
  },
  {
   "cell_type": "code",
   "execution_count": 45,
   "id": "0c664481-4064-41ca-b2d3-0d07134ca9bd",
   "metadata": {},
   "outputs": [],
   "source": [
    "PangenomeAnalysis_Dir = \"../../Data/MtbPangenomeAnalysis_SetV5\"\n",
    "\n",
    "MG_Node_KmerComp_TSV_GZ = f\"{PangenomeAnalysis_Dir}/MtbSVPG.Minigraph.NodeKmerComp.Summary.V1.tsv.gz\" \n",
    "\n",
    "MG_AvA_Node_KmerAnalysis_TSV_GZ = f\"{PangenomeAnalysis_Dir}/MtbSVPG.Minigraph.NodeKmerComp.AllVsAll.V1.tsv.gz\"     \n",
    "\n",
    "MG_BubbleSumm_TSV_GZ = f\"{PangenomeAnalysis_Dir}/MtbSVPG.Minigraph.BubbleSummary.BED.tsv.gz\"     \n",
    "\n",
    "MG_SVVCF_TSV_GZ = f\"{PangenomeAnalysis_Dir}/MtbSVPG.Minigraph.BubbleAlleleInfo.SVVCF.tsv.gz\" \n",
    "\n",
    "MG_SVInfo_TSV_GZ = f\"{PangenomeAnalysis_Dir}/MtbSVPG.Minigraph.BubbleAlleleInfo.SVInfo.tsv.gz\" \n"
   ]
  },
  {
   "cell_type": "code",
   "execution_count": null,
   "id": "4f57a387-c896-44bf-86fa-629d49c0d955",
   "metadata": {},
   "outputs": [],
   "source": []
  },
  {
   "cell_type": "markdown",
   "id": "e00a62dd-e5f0-4e7b-9178-9235d80f7e7b",
   "metadata": {},
   "source": [
    "### Parse in `AvA_Nodes_DF`"
   ]
  },
  {
   "cell_type": "code",
   "execution_count": 46,
   "id": "11add465-7e86-4e5c-9bc0-109863f64bda",
   "metadata": {},
   "outputs": [
    {
     "data": {
      "text/plain": [
       "(123104, 6)"
      ]
     },
     "execution_count": 46,
     "metadata": {},
     "output_type": "execute_result"
    }
   ],
   "source": [
    "AvA_Nodes_DF = pd.read_csv(MG_AvA_Node_KmerAnalysis_TSV_GZ, sep = \"\\t\" )\n",
    "AvA_Nodes_DF.shape"
   ]
  },
  {
   "cell_type": "code",
   "execution_count": 47,
   "id": "fbc019c0-148d-4e61-8f0a-186c1f76a582",
   "metadata": {},
   "outputs": [
    {
     "data": {
      "text/html": [
       "<div>\n",
       "<style scoped>\n",
       "    .dataframe tbody tr th:only-of-type {\n",
       "        vertical-align: middle;\n",
       "    }\n",
       "\n",
       "    .dataframe tbody tr th {\n",
       "        vertical-align: top;\n",
       "    }\n",
       "\n",
       "    .dataframe thead th {\n",
       "        text-align: right;\n",
       "    }\n",
       "</style>\n",
       "<table border=\"1\" class=\"dataframe\">\n",
       "  <thead>\n",
       "    <tr style=\"text-align: right;\">\n",
       "      <th></th>\n",
       "      <th>RecordID_1</th>\n",
       "      <th>RecordID_2</th>\n",
       "      <th>Record1_Len</th>\n",
       "      <th>Record2_Len</th>\n",
       "      <th>JaccardSim</th>\n",
       "      <th>JaccardContain</th>\n",
       "    </tr>\n",
       "  </thead>\n",
       "  <tbody>\n",
       "    <tr>\n",
       "      <th>0</th>\n",
       "      <td>s3</td>\n",
       "      <td>s2959</td>\n",
       "      <td>56</td>\n",
       "      <td>61</td>\n",
       "      <td>0.781250</td>\n",
       "      <td>0.961538</td>\n",
       "    </tr>\n",
       "    <tr>\n",
       "      <th>1</th>\n",
       "      <td>s7</td>\n",
       "      <td>s2247</td>\n",
       "      <td>1876</td>\n",
       "      <td>42</td>\n",
       "      <td>0.006501</td>\n",
       "      <td>0.006501</td>\n",
       "    </tr>\n",
       "    <tr>\n",
       "      <th>2</th>\n",
       "      <td>s8</td>\n",
       "      <td>s2823</td>\n",
       "      <td>542</td>\n",
       "      <td>87</td>\n",
       "      <td>0.096339</td>\n",
       "      <td>0.097656</td>\n",
       "    </tr>\n",
       "    <tr>\n",
       "      <th>3</th>\n",
       "      <td>s13</td>\n",
       "      <td>s2037</td>\n",
       "      <td>24063</td>\n",
       "      <td>49</td>\n",
       "      <td>0.000208</td>\n",
       "      <td>0.000208</td>\n",
       "    </tr>\n",
       "    <tr>\n",
       "      <th>4</th>\n",
       "      <td>s13</td>\n",
       "      <td>s2039</td>\n",
       "      <td>24063</td>\n",
       "      <td>114</td>\n",
       "      <td>0.000208</td>\n",
       "      <td>0.000208</td>\n",
       "    </tr>\n",
       "  </tbody>\n",
       "</table>\n",
       "</div>"
      ],
      "text/plain": [
       "  RecordID_1 RecordID_2  Record1_Len  Record2_Len  JaccardSim  JaccardContain\n",
       "0         s3      s2959           56           61    0.781250        0.961538\n",
       "1         s7      s2247         1876           42    0.006501        0.006501\n",
       "2         s8      s2823          542           87    0.096339        0.097656\n",
       "3        s13      s2037        24063           49    0.000208        0.000208\n",
       "4        s13      s2039        24063          114    0.000208        0.000208"
      ]
     },
     "execution_count": 47,
     "metadata": {},
     "output_type": "execute_result"
    }
   ],
   "source": [
    "AvA_Nodes_DF.head()"
   ]
  },
  {
   "cell_type": "markdown",
   "id": "934aff5d-6ebc-49d9-abd7-412ffd92e9fe",
   "metadata": {},
   "source": [
    "### Parse in `MG_Nodes_KmerVsRefSets_DF`"
   ]
  },
  {
   "cell_type": "code",
   "execution_count": 48,
   "id": "774f35f9-3cf7-46e5-bd81-173b6391549a",
   "metadata": {},
   "outputs": [
    {
     "data": {
      "text/plain": [
       "(3138, 18)"
      ]
     },
     "execution_count": 48,
     "metadata": {},
     "output_type": "execute_result"
    }
   ],
   "source": [
    "MG_Nodes_KmerComp_DF = pd.read_csv(MG_Node_KmerComp_TSV_GZ, sep = \"\\t\" )\n",
    "MG_Nodes_KmerComp_DF.shape"
   ]
  },
  {
   "cell_type": "code",
   "execution_count": 49,
   "id": "3882970c-f507-40fb-abe0-867ca4816122",
   "metadata": {},
   "outputs": [
    {
     "data": {
      "text/html": [
       "<div>\n",
       "<style scoped>\n",
       "    .dataframe tbody tr th:only-of-type {\n",
       "        vertical-align: middle;\n",
       "    }\n",
       "\n",
       "    .dataframe tbody tr th {\n",
       "        vertical-align: top;\n",
       "    }\n",
       "\n",
       "    .dataframe thead th {\n",
       "        text-align: right;\n",
       "    }\n",
       "</style>\n",
       "<table border=\"1\" class=\"dataframe\">\n",
       "  <thead>\n",
       "    <tr style=\"text-align: right;\">\n",
       "      <th></th>\n",
       "      <th>NodeID</th>\n",
       "      <th>IsSVNode</th>\n",
       "      <th>SeqLength</th>\n",
       "      <th>Jaccard_Cont_WiRv</th>\n",
       "      <th>Jaccard_Cont_WiIS6110</th>\n",
       "      <th>Jaccard_Cont_WiRv_InsSeqAndPhages</th>\n",
       "      <th>Jaccard_Cont_WiRv_PEPPEs</th>\n",
       "      <th>Jaccard_Cont_WiRv_InfoPathways</th>\n",
       "      <th>Jaccard_Cont_WiRv_ConservedHypo</th>\n",
       "      <th>Jaccard_Cont_WiRv_CellWallCellProc</th>\n",
       "      <th>Jaccard_Cont_WiRv_StableRNAs</th>\n",
       "      <th>Jaccard_Cont_WiRv_InterMetabolism</th>\n",
       "      <th>Jaccard_Cont_WiRv_RegProteins</th>\n",
       "      <th>Jaccard_Cont_WiRv_VirulenceDetoxAdaptation</th>\n",
       "      <th>Jaccard_Cont_WiRv_LipidMetabolism</th>\n",
       "      <th>Jaccard_Cont_WiRv_Unknown</th>\n",
       "      <th>BubbleID</th>\n",
       "      <th>MaxJC_ToOtherNode</th>\n",
       "    </tr>\n",
       "  </thead>\n",
       "  <tbody>\n",
       "    <tr>\n",
       "      <th>0</th>\n",
       "      <td>s1</td>\n",
       "      <td>False</td>\n",
       "      <td>1533</td>\n",
       "      <td>1.0</td>\n",
       "      <td>0.0</td>\n",
       "      <td>0.0</td>\n",
       "      <td>0.0</td>\n",
       "      <td>0.994012</td>\n",
       "      <td>0.000000</td>\n",
       "      <td>0.000000</td>\n",
       "      <td>0.000000</td>\n",
       "      <td>0.0</td>\n",
       "      <td>0.0</td>\n",
       "      <td>0.0</td>\n",
       "      <td>0.0</td>\n",
       "      <td>0.0</td>\n",
       "      <td>None</td>\n",
       "      <td>0.000000</td>\n",
       "    </tr>\n",
       "    <tr>\n",
       "      <th>1</th>\n",
       "      <td>s2</td>\n",
       "      <td>False</td>\n",
       "      <td>58</td>\n",
       "      <td>1.0</td>\n",
       "      <td>0.0</td>\n",
       "      <td>0.0</td>\n",
       "      <td>0.0</td>\n",
       "      <td>0.000000</td>\n",
       "      <td>0.000000</td>\n",
       "      <td>0.000000</td>\n",
       "      <td>0.000000</td>\n",
       "      <td>0.0</td>\n",
       "      <td>0.0</td>\n",
       "      <td>0.0</td>\n",
       "      <td>0.0</td>\n",
       "      <td>0.0</td>\n",
       "      <td>None</td>\n",
       "      <td>0.000000</td>\n",
       "    </tr>\n",
       "    <tr>\n",
       "      <th>2</th>\n",
       "      <td>s3</td>\n",
       "      <td>True</td>\n",
       "      <td>56</td>\n",
       "      <td>1.0</td>\n",
       "      <td>0.0</td>\n",
       "      <td>0.0</td>\n",
       "      <td>0.0</td>\n",
       "      <td>0.000000</td>\n",
       "      <td>0.000000</td>\n",
       "      <td>0.000000</td>\n",
       "      <td>0.000000</td>\n",
       "      <td>0.0</td>\n",
       "      <td>0.0</td>\n",
       "      <td>0.0</td>\n",
       "      <td>0.0</td>\n",
       "      <td>0.0</td>\n",
       "      <td>BubbleRegion_2</td>\n",
       "      <td>0.961538</td>\n",
       "    </tr>\n",
       "    <tr>\n",
       "      <th>3</th>\n",
       "      <td>s4</td>\n",
       "      <td>True</td>\n",
       "      <td>5</td>\n",
       "      <td>0.0</td>\n",
       "      <td>0.0</td>\n",
       "      <td>0.0</td>\n",
       "      <td>0.0</td>\n",
       "      <td>0.000000</td>\n",
       "      <td>0.000000</td>\n",
       "      <td>0.000000</td>\n",
       "      <td>0.000000</td>\n",
       "      <td>0.0</td>\n",
       "      <td>0.0</td>\n",
       "      <td>0.0</td>\n",
       "      <td>0.0</td>\n",
       "      <td>0.0</td>\n",
       "      <td>BubbleRegion_2</td>\n",
       "      <td>0.000000</td>\n",
       "    </tr>\n",
       "    <tr>\n",
       "      <th>4</th>\n",
       "      <td>s5</td>\n",
       "      <td>False</td>\n",
       "      <td>11970</td>\n",
       "      <td>1.0</td>\n",
       "      <td>0.0</td>\n",
       "      <td>0.0</td>\n",
       "      <td>0.0</td>\n",
       "      <td>0.612312</td>\n",
       "      <td>0.044724</td>\n",
       "      <td>0.141457</td>\n",
       "      <td>0.007286</td>\n",
       "      <td>0.0</td>\n",
       "      <td>0.0</td>\n",
       "      <td>0.0</td>\n",
       "      <td>0.0</td>\n",
       "      <td>0.0</td>\n",
       "      <td>None</td>\n",
       "      <td>0.000000</td>\n",
       "    </tr>\n",
       "  </tbody>\n",
       "</table>\n",
       "</div>"
      ],
      "text/plain": [
       "  NodeID  IsSVNode  SeqLength  Jaccard_Cont_WiRv  Jaccard_Cont_WiIS6110  \\\n",
       "0     s1     False       1533                1.0                    0.0   \n",
       "1     s2     False         58                1.0                    0.0   \n",
       "2     s3      True         56                1.0                    0.0   \n",
       "3     s4      True          5                0.0                    0.0   \n",
       "4     s5     False      11970                1.0                    0.0   \n",
       "\n",
       "   Jaccard_Cont_WiRv_InsSeqAndPhages  Jaccard_Cont_WiRv_PEPPEs  \\\n",
       "0                                0.0                       0.0   \n",
       "1                                0.0                       0.0   \n",
       "2                                0.0                       0.0   \n",
       "3                                0.0                       0.0   \n",
       "4                                0.0                       0.0   \n",
       "\n",
       "   Jaccard_Cont_WiRv_InfoPathways  Jaccard_Cont_WiRv_ConservedHypo  \\\n",
       "0                        0.994012                         0.000000   \n",
       "1                        0.000000                         0.000000   \n",
       "2                        0.000000                         0.000000   \n",
       "3                        0.000000                         0.000000   \n",
       "4                        0.612312                         0.044724   \n",
       "\n",
       "   Jaccard_Cont_WiRv_CellWallCellProc  Jaccard_Cont_WiRv_StableRNAs  \\\n",
       "0                            0.000000                      0.000000   \n",
       "1                            0.000000                      0.000000   \n",
       "2                            0.000000                      0.000000   \n",
       "3                            0.000000                      0.000000   \n",
       "4                            0.141457                      0.007286   \n",
       "\n",
       "   Jaccard_Cont_WiRv_InterMetabolism  Jaccard_Cont_WiRv_RegProteins  \\\n",
       "0                                0.0                            0.0   \n",
       "1                                0.0                            0.0   \n",
       "2                                0.0                            0.0   \n",
       "3                                0.0                            0.0   \n",
       "4                                0.0                            0.0   \n",
       "\n",
       "   Jaccard_Cont_WiRv_VirulenceDetoxAdaptation  \\\n",
       "0                                         0.0   \n",
       "1                                         0.0   \n",
       "2                                         0.0   \n",
       "3                                         0.0   \n",
       "4                                         0.0   \n",
       "\n",
       "   Jaccard_Cont_WiRv_LipidMetabolism  Jaccard_Cont_WiRv_Unknown  \\\n",
       "0                                0.0                        0.0   \n",
       "1                                0.0                        0.0   \n",
       "2                                0.0                        0.0   \n",
       "3                                0.0                        0.0   \n",
       "4                                0.0                        0.0   \n",
       "\n",
       "         BubbleID  MaxJC_ToOtherNode  \n",
       "0            None           0.000000  \n",
       "1            None           0.000000  \n",
       "2  BubbleRegion_2           0.961538  \n",
       "3  BubbleRegion_2           0.000000  \n",
       "4            None           0.000000  "
      ]
     },
     "execution_count": 49,
     "metadata": {},
     "output_type": "execute_result"
    }
   ],
   "source": [
    "MG_Nodes_KmerComp_DF.head()"
   ]
  },
  {
   "cell_type": "markdown",
   "id": "74294209-0c83-4c2d-afe0-08f3223767a1",
   "metadata": {},
   "source": [
    "### Parse in `MG_SV_BED_DF`"
   ]
  },
  {
   "cell_type": "code",
   "execution_count": 50,
   "id": "10f971f8-cb9c-4bf2-9633-43cb03df760c",
   "metadata": {},
   "outputs": [],
   "source": [
    "import ast"
   ]
  },
  {
   "cell_type": "code",
   "execution_count": 51,
   "id": "7e8c7b0b-7ea1-45b1-985b-9302f66d5122",
   "metadata": {},
   "outputs": [
    {
     "data": {
      "text/plain": [
       "(535, 14)"
      ]
     },
     "execution_count": 51,
     "metadata": {},
     "output_type": "execute_result"
    }
   ],
   "source": [
    "MG_SV_BED_DF = pd.read_csv(MG_BubbleSumm_TSV_GZ, sep = \"\\t\" )\n",
    "\n",
    "# Convert the string representation of the list of nodes to python list of nodes\n",
    "MG_SV_BED_DF[\"NodePath_Trimmed\"] = MG_SV_BED_DF[\"NodePath_Trimmed\"].apply(ast.literal_eval)\n",
    "\n",
    "MG_SV_BED_DF.shape"
   ]
  },
  {
   "cell_type": "code",
   "execution_count": 52,
   "id": "87a447b6-8e7a-4bd0-bec2-beedbfbb578f",
   "metadata": {},
   "outputs": [
    {
     "data": {
      "text/html": [
       "<div>\n",
       "<style scoped>\n",
       "    .dataframe tbody tr th:only-of-type {\n",
       "        vertical-align: middle;\n",
       "    }\n",
       "\n",
       "    .dataframe tbody tr th {\n",
       "        vertical-align: top;\n",
       "    }\n",
       "\n",
       "    .dataframe thead th {\n",
       "        text-align: right;\n",
       "    }\n",
       "</style>\n",
       "<table border=\"1\" class=\"dataframe\">\n",
       "  <thead>\n",
       "    <tr style=\"text-align: right;\">\n",
       "      <th></th>\n",
       "      <th>Chr</th>\n",
       "      <th>Start</th>\n",
       "      <th>End</th>\n",
       "      <th>Len_Ref</th>\n",
       "      <th>Len_Alt</th>\n",
       "      <th>NodePath</th>\n",
       "      <th>NodePath_Trimmed</th>\n",
       "      <th>Start_Node</th>\n",
       "      <th>End_Node</th>\n",
       "      <th>BubbleNum</th>\n",
       "      <th>BubbleID</th>\n",
       "      <th>NumSVNodes</th>\n",
       "      <th>Overlap_Genes</th>\n",
       "      <th>Overlap_Gene_RvIDs</th>\n",
       "    </tr>\n",
       "  </thead>\n",
       "  <tbody>\n",
       "    <tr>\n",
       "      <th>0</th>\n",
       "      <td>NC_000962.3</td>\n",
       "      <td>1533</td>\n",
       "      <td>1533</td>\n",
       "      <td>0</td>\n",
       "      <td>0</td>\n",
       "      <td>s1,s2</td>\n",
       "      <td>[]</td>\n",
       "      <td>s1</td>\n",
       "      <td>s2</td>\n",
       "      <td>1</td>\n",
       "      <td>BubbleRegion_1</td>\n",
       "      <td>0</td>\n",
       "      <td>NaN</td>\n",
       "      <td>NaN</td>\n",
       "    </tr>\n",
       "    <tr>\n",
       "      <th>1</th>\n",
       "      <td>NC_000962.3</td>\n",
       "      <td>1591</td>\n",
       "      <td>1652</td>\n",
       "      <td>61</td>\n",
       "      <td>1480</td>\n",
       "      <td>s2,s2034,s2959,s2035,s3,s2036,s2036,s3,s2035,s2959,s2034,s4,s5</td>\n",
       "      <td>[s2034, s2959, s2035, s3, s2036, s2036, s3, s2035, s2959, s2034, s4]</td>\n",
       "      <td>s2</td>\n",
       "      <td>s5</td>\n",
       "      <td>2</td>\n",
       "      <td>BubbleRegion_2</td>\n",
       "      <td>11</td>\n",
       "      <td>NaN</td>\n",
       "      <td>NaN</td>\n",
       "    </tr>\n",
       "    <tr>\n",
       "      <th>2</th>\n",
       "      <td>NC_000962.3</td>\n",
       "      <td>13622</td>\n",
       "      <td>13622</td>\n",
       "      <td>0</td>\n",
       "      <td>1358</td>\n",
       "      <td>s5,s2744,s6</td>\n",
       "      <td>[s2744]</td>\n",
       "      <td>s5</td>\n",
       "      <td>s6</td>\n",
       "      <td>3</td>\n",
       "      <td>BubbleRegion_3</td>\n",
       "      <td>1</td>\n",
       "      <td>NaN</td>\n",
       "      <td>NaN</td>\n",
       "    </tr>\n",
       "  </tbody>\n",
       "</table>\n",
       "</div>"
      ],
      "text/plain": [
       "           Chr  Start    End  Len_Ref  Len_Alt  \\\n",
       "0  NC_000962.3   1533   1533        0        0   \n",
       "1  NC_000962.3   1591   1652       61     1480   \n",
       "2  NC_000962.3  13622  13622        0     1358   \n",
       "\n",
       "                                                         NodePath  \\\n",
       "0                                                           s1,s2   \n",
       "1  s2,s2034,s2959,s2035,s3,s2036,s2036,s3,s2035,s2959,s2034,s4,s5   \n",
       "2                                                     s5,s2744,s6   \n",
       "\n",
       "                                                       NodePath_Trimmed  \\\n",
       "0                                                                    []   \n",
       "1  [s2034, s2959, s2035, s3, s2036, s2036, s3, s2035, s2959, s2034, s4]   \n",
       "2                                                               [s2744]   \n",
       "\n",
       "  Start_Node End_Node  BubbleNum        BubbleID  NumSVNodes Overlap_Genes  \\\n",
       "0         s1       s2          1  BubbleRegion_1           0           NaN   \n",
       "1         s2       s5          2  BubbleRegion_2          11           NaN   \n",
       "2         s5       s6          3  BubbleRegion_3           1           NaN   \n",
       "\n",
       "  Overlap_Gene_RvIDs  \n",
       "0                NaN  \n",
       "1                NaN  \n",
       "2                NaN  "
      ]
     },
     "execution_count": 52,
     "metadata": {},
     "output_type": "execute_result"
    }
   ],
   "source": [
    "MG_SV_BED_DF.head(3)"
   ]
  },
  {
   "cell_type": "markdown",
   "id": "284ee8ab-cb8f-4d6b-9fd3-6e1f62f0ec72",
   "metadata": {},
   "source": [
    "### Parse in `MG_SVVCF_DF`"
   ]
  },
  {
   "cell_type": "code",
   "execution_count": 53,
   "id": "db1ace18-9c50-4ce5-ac35-79d1f0d875a2",
   "metadata": {},
   "outputs": [
    {
     "data": {
      "text/plain": [
       "(535, 169)"
      ]
     },
     "execution_count": 53,
     "metadata": {},
     "output_type": "execute_result"
    }
   ],
   "source": [
    "MG_SVVCF_DF = pd.read_csv(MG_SVVCF_TSV_GZ, sep = \"\\t\" )\n",
    "MG_SVVCF_DF.shape"
   ]
  },
  {
   "cell_type": "markdown",
   "id": "aa8e49c9-f2d3-443f-a23f-8154ca0c0632",
   "metadata": {},
   "source": [
    "### Parse in `MG_SVInfo_DF`"
   ]
  },
  {
   "cell_type": "code",
   "execution_count": 54,
   "id": "0e583b5c-cc05-47af-bcba-b6ec27f5c98a",
   "metadata": {},
   "outputs": [
    {
     "data": {
      "text/plain": [
       "(535, 160)"
      ]
     },
     "execution_count": 54,
     "metadata": {},
     "output_type": "execute_result"
    }
   ],
   "source": [
    "MG_SVInfo_DF = pd.read_csv(MG_SVInfo_TSV_GZ, sep = \"\\t\" )\n",
    "MG_SVInfo_DF.shape"
   ]
  },
  {
   "cell_type": "code",
   "execution_count": 55,
   "id": "3754e257-8796-4ada-88bb-1dba83cd9dbd",
   "metadata": {},
   "outputs": [
    {
     "data": {
      "text/plain": [
       "array([list([]),\n",
       "       list(['s2034', 's2959', 's2035', 's3', 's2036', 's2036', 's3', 's2035', 's2959', 's2034', 's4'])],\n",
       "      dtype=object)"
      ]
     },
     "execution_count": 55,
     "metadata": {},
     "output_type": "execute_result"
    }
   ],
   "source": [
    "MG_SV_BED_DF[\"NodePath_Trimmed\"].values[:2]"
   ]
  },
  {
   "cell_type": "code",
   "execution_count": 56,
   "id": "f746a5ce-3ab6-4e31-9768-d465871d4c89",
   "metadata": {},
   "outputs": [
    {
     "data": {
      "text/html": [
       "<div>\n",
       "<style scoped>\n",
       "    .dataframe tbody tr th:only-of-type {\n",
       "        vertical-align: middle;\n",
       "    }\n",
       "\n",
       "    .dataframe tbody tr th {\n",
       "        vertical-align: top;\n",
       "    }\n",
       "\n",
       "    .dataframe thead th {\n",
       "        text-align: right;\n",
       "    }\n",
       "</style>\n",
       "<table border=\"1\" class=\"dataframe\">\n",
       "  <thead>\n",
       "    <tr style=\"text-align: right;\">\n",
       "      <th></th>\n",
       "      <th>Chr</th>\n",
       "      <th>Start</th>\n",
       "      <th>End</th>\n",
       "      <th>Len_Ref</th>\n",
       "      <th>Len_Alt</th>\n",
       "      <th>NodePath</th>\n",
       "      <th>NodePath_Trimmed</th>\n",
       "      <th>Start_Node</th>\n",
       "      <th>End_Node</th>\n",
       "      <th>BubbleNum</th>\n",
       "      <th>BubbleID</th>\n",
       "      <th>NumSVNodes</th>\n",
       "      <th>Overlap_Genes</th>\n",
       "      <th>Overlap_Gene_RvIDs</th>\n",
       "    </tr>\n",
       "  </thead>\n",
       "  <tbody>\n",
       "    <tr>\n",
       "      <th>0</th>\n",
       "      <td>NC_000962.3</td>\n",
       "      <td>1533</td>\n",
       "      <td>1533</td>\n",
       "      <td>0</td>\n",
       "      <td>0</td>\n",
       "      <td>s1,s2</td>\n",
       "      <td>[]</td>\n",
       "      <td>s1</td>\n",
       "      <td>s2</td>\n",
       "      <td>1</td>\n",
       "      <td>BubbleRegion_1</td>\n",
       "      <td>0</td>\n",
       "      <td>NaN</td>\n",
       "      <td>NaN</td>\n",
       "    </tr>\n",
       "    <tr>\n",
       "      <th>1</th>\n",
       "      <td>NC_000962.3</td>\n",
       "      <td>1591</td>\n",
       "      <td>1652</td>\n",
       "      <td>61</td>\n",
       "      <td>1480</td>\n",
       "      <td>s2,s2034,s2959,s2035,s3,s2036,s2036,s3,s2035,s2959,s2034,s4,s5</td>\n",
       "      <td>[s2034, s2959, s2035, s3, s2036, s2036, s3, s2035, s2959, s2034, s4]</td>\n",
       "      <td>s2</td>\n",
       "      <td>s5</td>\n",
       "      <td>2</td>\n",
       "      <td>BubbleRegion_2</td>\n",
       "      <td>11</td>\n",
       "      <td>NaN</td>\n",
       "      <td>NaN</td>\n",
       "    </tr>\n",
       "    <tr>\n",
       "      <th>2</th>\n",
       "      <td>NC_000962.3</td>\n",
       "      <td>13622</td>\n",
       "      <td>13622</td>\n",
       "      <td>0</td>\n",
       "      <td>1358</td>\n",
       "      <td>s5,s2744,s6</td>\n",
       "      <td>[s2744]</td>\n",
       "      <td>s5</td>\n",
       "      <td>s6</td>\n",
       "      <td>3</td>\n",
       "      <td>BubbleRegion_3</td>\n",
       "      <td>1</td>\n",
       "      <td>NaN</td>\n",
       "      <td>NaN</td>\n",
       "    </tr>\n",
       "    <tr>\n",
       "      <th>3</th>\n",
       "      <td>NC_000962.3</td>\n",
       "      <td>26469</td>\n",
       "      <td>28345</td>\n",
       "      <td>42</td>\n",
       "      <td>1876</td>\n",
       "      <td>s6,s2247,s7,s8</td>\n",
       "      <td>[s2247, s7]</td>\n",
       "      <td>s6</td>\n",
       "      <td>s8</td>\n",
       "      <td>4</td>\n",
       "      <td>BubbleRegion_4</td>\n",
       "      <td>2</td>\n",
       "      <td>Rv0021c,whiB5,Rv0023</td>\n",
       "      <td>Rv0021c,Rv0022c,Rv0023</td>\n",
       "    </tr>\n",
       "  </tbody>\n",
       "</table>\n",
       "</div>"
      ],
      "text/plain": [
       "           Chr  Start    End  Len_Ref  Len_Alt  \\\n",
       "0  NC_000962.3   1533   1533        0        0   \n",
       "1  NC_000962.3   1591   1652       61     1480   \n",
       "2  NC_000962.3  13622  13622        0     1358   \n",
       "3  NC_000962.3  26469  28345       42     1876   \n",
       "\n",
       "                                                         NodePath  \\\n",
       "0                                                           s1,s2   \n",
       "1  s2,s2034,s2959,s2035,s3,s2036,s2036,s3,s2035,s2959,s2034,s4,s5   \n",
       "2                                                     s5,s2744,s6   \n",
       "3                                                  s6,s2247,s7,s8   \n",
       "\n",
       "                                                       NodePath_Trimmed  \\\n",
       "0                                                                    []   \n",
       "1  [s2034, s2959, s2035, s3, s2036, s2036, s3, s2035, s2959, s2034, s4]   \n",
       "2                                                               [s2744]   \n",
       "3                                                           [s2247, s7]   \n",
       "\n",
       "  Start_Node End_Node  BubbleNum        BubbleID  NumSVNodes  \\\n",
       "0         s1       s2          1  BubbleRegion_1           0   \n",
       "1         s2       s5          2  BubbleRegion_2          11   \n",
       "2         s5       s6          3  BubbleRegion_3           1   \n",
       "3         s6       s8          4  BubbleRegion_4           2   \n",
       "\n",
       "          Overlap_Genes      Overlap_Gene_RvIDs  \n",
       "0                   NaN                     NaN  \n",
       "1                   NaN                     NaN  \n",
       "2                   NaN                     NaN  \n",
       "3  Rv0021c,whiB5,Rv0023  Rv0021c,Rv0022c,Rv0023  "
      ]
     },
     "execution_count": 56,
     "metadata": {},
     "output_type": "execute_result"
    }
   ],
   "source": [
    "MG_SV_BED_DF.head(4)"
   ]
  },
  {
   "cell_type": "markdown",
   "id": "6c33721a-0b1c-42eb-a94f-c587f3bc5d8d",
   "metadata": {},
   "source": [
    "### Create Dict of SV Node ID to BubbleID mappings"
   ]
  },
  {
   "cell_type": "code",
   "execution_count": 57,
   "id": "3ec79bf3-0fc6-4ff3-84c2-5e143aa05dff",
   "metadata": {},
   "outputs": [],
   "source": [
    "NodeID_ToBubbleID_Dict = {}\n",
    "\n",
    "for i, row in MG_SV_BED_DF.iterrows():\n",
    "    \n",
    "    i_BubbleID =  row[\"BubbleID\"]\n",
    "    i_NodePath_Trimmed = row[\"NodePath_Trimmed\"]\n",
    "\n",
    "    # Map all SV nodes to their Bubble Region ID\n",
    "    for NodeID in i_NodePath_Trimmed:\n",
    "        NodeID_ToBubbleID_Dict[NodeID] = i_BubbleID\n",
    "        "
   ]
  },
  {
   "cell_type": "code",
   "execution_count": 58,
   "id": "3124f588-676c-483b-914d-1290fc5c3adc",
   "metadata": {},
   "outputs": [
    {
     "data": {
      "text/plain": [
       "[('s2034', 'BubbleRegion_2'),\n",
       " ('s2959', 'BubbleRegion_2'),\n",
       " ('s2035', 'BubbleRegion_2'),\n",
       " ('s3', 'BubbleRegion_2'),\n",
       " ('s2036', 'BubbleRegion_2'),\n",
       " ('s4', 'BubbleRegion_2'),\n",
       " ('s2744', 'BubbleRegion_3'),\n",
       " ('s2247', 'BubbleRegion_4'),\n",
       " ('s7', 'BubbleRegion_4'),\n",
       " ('s2823', 'BubbleRegion_5')]"
      ]
     },
     "execution_count": 58,
     "metadata": {},
     "output_type": "execute_result"
    }
   ],
   "source": [
    "list(NodeID_ToBubbleID_Dict.items())[:10]"
   ]
  },
  {
   "cell_type": "code",
   "execution_count": null,
   "id": "544a4e3a-df6f-4b0d-9a24-80b09d5aeb09",
   "metadata": {},
   "outputs": [],
   "source": []
  },
  {
   "cell_type": "markdown",
   "id": "db68abbe-e9c5-4d2b-97e7-db5d8b82e82d",
   "metadata": {},
   "source": [
    "## Create dictionary of BubbleID to overlapping H37Rv gene annotations"
   ]
  },
  {
   "cell_type": "code",
   "execution_count": 59,
   "id": "fea3c451-f98b-4e49-ac0d-7cf2ada57e70",
   "metadata": {},
   "outputs": [],
   "source": [
    "BubbleID_To_OvrLapGenes_Dict = MG_SV_BED_DF.set_index(\"BubbleID\")[\"Overlap_Genes\"].to_dict()"
   ]
  },
  {
   "cell_type": "markdown",
   "id": "ce585a7d-5855-4bff-8406-8263d0059e80",
   "metadata": {},
   "source": [
    "#### Peak at the genes overlapping the first 10 bubble regions"
   ]
  },
  {
   "cell_type": "code",
   "execution_count": 60,
   "id": "62d332ab-9103-4aa5-b1c7-436cd2d51dc3",
   "metadata": {},
   "outputs": [
    {
     "data": {
      "text/plain": [
       "[('BubbleRegion_1', nan),\n",
       " ('BubbleRegion_2', nan),\n",
       " ('BubbleRegion_3', nan),\n",
       " ('BubbleRegion_4', 'Rv0021c,whiB5,Rv0023'),\n",
       " ('BubbleRegion_5', 'Rv0024'),\n",
       " ('BubbleRegion_6', 'bioF2'),\n",
       " ('BubbleRegion_7', nan),\n",
       " ('BubbleRegion_8', nan),\n",
       " ('BubbleRegion_9', nan),\n",
       " ('BubbleRegion_10', 'Rv0063')]"
      ]
     },
     "execution_count": 60,
     "metadata": {},
     "output_type": "execute_result"
    }
   ],
   "source": [
    "list(BubbleID_To_OvrLapGenes_Dict.items())[:10]"
   ]
  },
  {
   "cell_type": "markdown",
   "id": "048df6ee-ada3-46f5-bb7f-9939977e95aa",
   "metadata": {},
   "source": [
    "### Preparation - Breakdown core and SV nodes"
   ]
  },
  {
   "cell_type": "code",
   "execution_count": 61,
   "id": "f99f2b54-1b9e-46f4-bbb8-d4c0b3cca02d",
   "metadata": {},
   "outputs": [],
   "source": [
    "MG_CoreNodes_All_DF = MG_Nodes_KmerComp_DF.query(\"IsSVNode == False\")\n",
    "\n",
    "MG_SVNodes_All_DF = MG_Nodes_KmerComp_DF.query(\"IsSVNode == True\")\n",
    "MG_SVNodes_PASS_DF = MG_Nodes_KmerComp_DF.query(\"IsSVNode == True\").query(\"SeqLength >= 31\")     \n",
    "MG_SVNodes_Sub31bp_DF = MG_Nodes_KmerComp_DF.query(\"IsSVNode == True\").query(\"SeqLength < 31\")     \n",
    "\n",
    "MG_SVNodes_UnqSeq_DF = MG_SVNodes_PASS_DF.query(\"MaxJC_ToOtherNode < 0.05\")\n",
    "\n",
    "MG_SVNodes_UnqSeq_UnqToRv_DF = MG_SVNodes_UnqSeq_DF.query(\"Jaccard_Cont_WiRv < 0.05\")\n",
    "\n",
    "SVNodeIDs_UnqSeq = MG_SVNodes_UnqSeq_DF[\"NodeID\"].values\n",
    "\n",
    "SVNodeIDs_UnqSeq_And_UnqToRv = MG_SVNodes_UnqSeq_UnqToRv_DF[\"NodeID\"].values\n"
   ]
  },
  {
   "cell_type": "code",
   "execution_count": 62,
   "id": "c87da9ba-1474-4bcc-b384-d09581dafd98",
   "metadata": {},
   "outputs": [
    {
     "data": {
      "text/html": [
       "<div>\n",
       "<style scoped>\n",
       "    .dataframe tbody tr th:only-of-type {\n",
       "        vertical-align: middle;\n",
       "    }\n",
       "\n",
       "    .dataframe tbody tr th {\n",
       "        vertical-align: top;\n",
       "    }\n",
       "\n",
       "    .dataframe thead th {\n",
       "        text-align: right;\n",
       "    }\n",
       "</style>\n",
       "<table border=\"1\" class=\"dataframe\">\n",
       "  <thead>\n",
       "    <tr style=\"text-align: right;\">\n",
       "      <th></th>\n",
       "      <th>NodeID</th>\n",
       "      <th>IsSVNode</th>\n",
       "      <th>SeqLength</th>\n",
       "      <th>Jaccard_Cont_WiRv</th>\n",
       "      <th>Jaccard_Cont_WiIS6110</th>\n",
       "      <th>Jaccard_Cont_WiRv_InsSeqAndPhages</th>\n",
       "      <th>Jaccard_Cont_WiRv_PEPPEs</th>\n",
       "      <th>Jaccard_Cont_WiRv_InfoPathways</th>\n",
       "      <th>Jaccard_Cont_WiRv_ConservedHypo</th>\n",
       "      <th>Jaccard_Cont_WiRv_CellWallCellProc</th>\n",
       "      <th>Jaccard_Cont_WiRv_StableRNAs</th>\n",
       "      <th>Jaccard_Cont_WiRv_InterMetabolism</th>\n",
       "      <th>Jaccard_Cont_WiRv_RegProteins</th>\n",
       "      <th>Jaccard_Cont_WiRv_VirulenceDetoxAdaptation</th>\n",
       "      <th>Jaccard_Cont_WiRv_LipidMetabolism</th>\n",
       "      <th>Jaccard_Cont_WiRv_Unknown</th>\n",
       "      <th>BubbleID</th>\n",
       "      <th>MaxJC_ToOtherNode</th>\n",
       "    </tr>\n",
       "  </thead>\n",
       "  <tbody>\n",
       "    <tr>\n",
       "      <th>6</th>\n",
       "      <td>s7</td>\n",
       "      <td>True</td>\n",
       "      <td>1876</td>\n",
       "      <td>1.0</td>\n",
       "      <td>0.0</td>\n",
       "      <td>0.0</td>\n",
       "      <td>0.0</td>\n",
       "      <td>0.000000</td>\n",
       "      <td>0.206934</td>\n",
       "      <td>0.000000</td>\n",
       "      <td>0.0</td>\n",
       "      <td>0.000000</td>\n",
       "      <td>0.601842</td>\n",
       "      <td>0.0</td>\n",
       "      <td>0.0</td>\n",
       "      <td>0.0</td>\n",
       "      <td>BubbleRegion_4</td>\n",
       "      <td>0.006501</td>\n",
       "    </tr>\n",
       "    <tr>\n",
       "      <th>15</th>\n",
       "      <td>s16</td>\n",
       "      <td>True</td>\n",
       "      <td>904</td>\n",
       "      <td>1.0</td>\n",
       "      <td>0.0</td>\n",
       "      <td>0.0</td>\n",
       "      <td>0.0</td>\n",
       "      <td>0.000000</td>\n",
       "      <td>0.000000</td>\n",
       "      <td>1.000000</td>\n",
       "      <td>0.0</td>\n",
       "      <td>0.000000</td>\n",
       "      <td>0.000000</td>\n",
       "      <td>0.0</td>\n",
       "      <td>0.0</td>\n",
       "      <td>0.0</td>\n",
       "      <td>BubbleRegion_11</td>\n",
       "      <td>0.000000</td>\n",
       "    </tr>\n",
       "    <tr>\n",
       "      <th>17</th>\n",
       "      <td>s18</td>\n",
       "      <td>True</td>\n",
       "      <td>732</td>\n",
       "      <td>1.0</td>\n",
       "      <td>0.0</td>\n",
       "      <td>0.0</td>\n",
       "      <td>0.0</td>\n",
       "      <td>0.040698</td>\n",
       "      <td>0.000000</td>\n",
       "      <td>0.000000</td>\n",
       "      <td>0.0</td>\n",
       "      <td>0.059593</td>\n",
       "      <td>0.000000</td>\n",
       "      <td>0.0</td>\n",
       "      <td>0.0</td>\n",
       "      <td>0.0</td>\n",
       "      <td>BubbleRegion_12</td>\n",
       "      <td>0.000000</td>\n",
       "    </tr>\n",
       "    <tr>\n",
       "      <th>18</th>\n",
       "      <td>s19</td>\n",
       "      <td>True</td>\n",
       "      <td>687</td>\n",
       "      <td>1.0</td>\n",
       "      <td>0.0</td>\n",
       "      <td>0.0</td>\n",
       "      <td>0.0</td>\n",
       "      <td>0.922374</td>\n",
       "      <td>0.045662</td>\n",
       "      <td>0.000000</td>\n",
       "      <td>0.0</td>\n",
       "      <td>0.000000</td>\n",
       "      <td>0.000000</td>\n",
       "      <td>0.0</td>\n",
       "      <td>0.0</td>\n",
       "      <td>0.0</td>\n",
       "      <td>BubbleRegion_12</td>\n",
       "      <td>0.045662</td>\n",
       "    </tr>\n",
       "    <tr>\n",
       "      <th>20</th>\n",
       "      <td>s21</td>\n",
       "      <td>True</td>\n",
       "      <td>2557</td>\n",
       "      <td>1.0</td>\n",
       "      <td>0.0</td>\n",
       "      <td>0.0</td>\n",
       "      <td>0.0</td>\n",
       "      <td>0.000000</td>\n",
       "      <td>0.103285</td>\n",
       "      <td>0.784725</td>\n",
       "      <td>0.0</td>\n",
       "      <td>0.000000</td>\n",
       "      <td>0.000000</td>\n",
       "      <td>0.0</td>\n",
       "      <td>0.0</td>\n",
       "      <td>0.0</td>\n",
       "      <td>BubbleRegion_12</td>\n",
       "      <td>0.003166</td>\n",
       "    </tr>\n",
       "  </tbody>\n",
       "</table>\n",
       "</div>"
      ],
      "text/plain": [
       "   NodeID  IsSVNode  SeqLength  Jaccard_Cont_WiRv  Jaccard_Cont_WiIS6110  \\\n",
       "6      s7      True       1876                1.0                    0.0   \n",
       "15    s16      True        904                1.0                    0.0   \n",
       "17    s18      True        732                1.0                    0.0   \n",
       "18    s19      True        687                1.0                    0.0   \n",
       "20    s21      True       2557                1.0                    0.0   \n",
       "\n",
       "    Jaccard_Cont_WiRv_InsSeqAndPhages  Jaccard_Cont_WiRv_PEPPEs  \\\n",
       "6                                 0.0                       0.0   \n",
       "15                                0.0                       0.0   \n",
       "17                                0.0                       0.0   \n",
       "18                                0.0                       0.0   \n",
       "20                                0.0                       0.0   \n",
       "\n",
       "    Jaccard_Cont_WiRv_InfoPathways  Jaccard_Cont_WiRv_ConservedHypo  \\\n",
       "6                         0.000000                         0.206934   \n",
       "15                        0.000000                         0.000000   \n",
       "17                        0.040698                         0.000000   \n",
       "18                        0.922374                         0.045662   \n",
       "20                        0.000000                         0.103285   \n",
       "\n",
       "    Jaccard_Cont_WiRv_CellWallCellProc  Jaccard_Cont_WiRv_StableRNAs  \\\n",
       "6                             0.000000                           0.0   \n",
       "15                            1.000000                           0.0   \n",
       "17                            0.000000                           0.0   \n",
       "18                            0.000000                           0.0   \n",
       "20                            0.784725                           0.0   \n",
       "\n",
       "    Jaccard_Cont_WiRv_InterMetabolism  Jaccard_Cont_WiRv_RegProteins  \\\n",
       "6                            0.000000                       0.601842   \n",
       "15                           0.000000                       0.000000   \n",
       "17                           0.059593                       0.000000   \n",
       "18                           0.000000                       0.000000   \n",
       "20                           0.000000                       0.000000   \n",
       "\n",
       "    Jaccard_Cont_WiRv_VirulenceDetoxAdaptation  \\\n",
       "6                                          0.0   \n",
       "15                                         0.0   \n",
       "17                                         0.0   \n",
       "18                                         0.0   \n",
       "20                                         0.0   \n",
       "\n",
       "    Jaccard_Cont_WiRv_LipidMetabolism  Jaccard_Cont_WiRv_Unknown  \\\n",
       "6                                 0.0                        0.0   \n",
       "15                                0.0                        0.0   \n",
       "17                                0.0                        0.0   \n",
       "18                                0.0                        0.0   \n",
       "20                                0.0                        0.0   \n",
       "\n",
       "           BubbleID  MaxJC_ToOtherNode  \n",
       "6    BubbleRegion_4           0.006501  \n",
       "15  BubbleRegion_11           0.000000  \n",
       "17  BubbleRegion_12           0.000000  \n",
       "18  BubbleRegion_12           0.045662  \n",
       "20  BubbleRegion_12           0.003166  "
      ]
     },
     "execution_count": 62,
     "metadata": {},
     "output_type": "execute_result"
    }
   ],
   "source": [
    "MG_SVNodes_UnqSeq_DF.head()"
   ]
  },
  {
   "cell_type": "code",
   "execution_count": 63,
   "id": "467854bf-a7a1-41f8-837f-6edc142f54b6",
   "metadata": {},
   "outputs": [
    {
     "data": {
      "text/html": [
       "<div>\n",
       "<style scoped>\n",
       "    .dataframe tbody tr th:only-of-type {\n",
       "        vertical-align: middle;\n",
       "    }\n",
       "\n",
       "    .dataframe tbody tr th {\n",
       "        vertical-align: top;\n",
       "    }\n",
       "\n",
       "    .dataframe thead th {\n",
       "        text-align: right;\n",
       "    }\n",
       "</style>\n",
       "<table border=\"1\" class=\"dataframe\">\n",
       "  <thead>\n",
       "    <tr style=\"text-align: right;\">\n",
       "      <th></th>\n",
       "      <th>NodeID</th>\n",
       "      <th>IsSVNode</th>\n",
       "      <th>SeqLength</th>\n",
       "      <th>Jaccard_Cont_WiRv</th>\n",
       "      <th>Jaccard_Cont_WiIS6110</th>\n",
       "      <th>Jaccard_Cont_WiRv_InsSeqAndPhages</th>\n",
       "      <th>Jaccard_Cont_WiRv_PEPPEs</th>\n",
       "      <th>Jaccard_Cont_WiRv_InfoPathways</th>\n",
       "      <th>Jaccard_Cont_WiRv_ConservedHypo</th>\n",
       "      <th>Jaccard_Cont_WiRv_CellWallCellProc</th>\n",
       "      <th>Jaccard_Cont_WiRv_StableRNAs</th>\n",
       "      <th>Jaccard_Cont_WiRv_InterMetabolism</th>\n",
       "      <th>Jaccard_Cont_WiRv_RegProteins</th>\n",
       "      <th>Jaccard_Cont_WiRv_VirulenceDetoxAdaptation</th>\n",
       "      <th>Jaccard_Cont_WiRv_LipidMetabolism</th>\n",
       "      <th>Jaccard_Cont_WiRv_Unknown</th>\n",
       "      <th>BubbleID</th>\n",
       "      <th>MaxJC_ToOtherNode</th>\n",
       "    </tr>\n",
       "  </thead>\n",
       "  <tbody>\n",
       "    <tr>\n",
       "      <th>1746</th>\n",
       "      <td>s1747</td>\n",
       "      <td>True</td>\n",
       "      <td>527</td>\n",
       "      <td>0.024145</td>\n",
       "      <td>0.0</td>\n",
       "      <td>0.0</td>\n",
       "      <td>0.024145</td>\n",
       "      <td>0.0</td>\n",
       "      <td>0.0</td>\n",
       "      <td>0.0</td>\n",
       "      <td>0.0</td>\n",
       "      <td>0.0</td>\n",
       "      <td>0.0</td>\n",
       "      <td>0.0</td>\n",
       "      <td>0.0</td>\n",
       "      <td>0.0</td>\n",
       "      <td>BubbleRegion_31</td>\n",
       "      <td>0.006036</td>\n",
       "    </tr>\n",
       "    <tr>\n",
       "      <th>1747</th>\n",
       "      <td>s1748</td>\n",
       "      <td>True</td>\n",
       "      <td>72</td>\n",
       "      <td>0.000000</td>\n",
       "      <td>0.0</td>\n",
       "      <td>0.0</td>\n",
       "      <td>0.000000</td>\n",
       "      <td>0.0</td>\n",
       "      <td>0.0</td>\n",
       "      <td>0.0</td>\n",
       "      <td>0.0</td>\n",
       "      <td>0.0</td>\n",
       "      <td>0.0</td>\n",
       "      <td>0.0</td>\n",
       "      <td>0.0</td>\n",
       "      <td>0.0</td>\n",
       "      <td>BubbleRegion_31</td>\n",
       "      <td>0.000000</td>\n",
       "    </tr>\n",
       "    <tr>\n",
       "      <th>1748</th>\n",
       "      <td>s1749</td>\n",
       "      <td>True</td>\n",
       "      <td>62</td>\n",
       "      <td>0.000000</td>\n",
       "      <td>0.0</td>\n",
       "      <td>0.0</td>\n",
       "      <td>0.000000</td>\n",
       "      <td>0.0</td>\n",
       "      <td>0.0</td>\n",
       "      <td>0.0</td>\n",
       "      <td>0.0</td>\n",
       "      <td>0.0</td>\n",
       "      <td>0.0</td>\n",
       "      <td>0.0</td>\n",
       "      <td>0.0</td>\n",
       "      <td>0.0</td>\n",
       "      <td>BubbleRegion_31</td>\n",
       "      <td>0.000000</td>\n",
       "    </tr>\n",
       "    <tr>\n",
       "      <th>1749</th>\n",
       "      <td>s1750</td>\n",
       "      <td>True</td>\n",
       "      <td>96</td>\n",
       "      <td>0.000000</td>\n",
       "      <td>0.0</td>\n",
       "      <td>0.0</td>\n",
       "      <td>0.000000</td>\n",
       "      <td>0.0</td>\n",
       "      <td>0.0</td>\n",
       "      <td>0.0</td>\n",
       "      <td>0.0</td>\n",
       "      <td>0.0</td>\n",
       "      <td>0.0</td>\n",
       "      <td>0.0</td>\n",
       "      <td>0.0</td>\n",
       "      <td>0.0</td>\n",
       "      <td>BubbleRegion_31</td>\n",
       "      <td>0.000000</td>\n",
       "    </tr>\n",
       "    <tr>\n",
       "      <th>1769</th>\n",
       "      <td>s1770</td>\n",
       "      <td>True</td>\n",
       "      <td>533</td>\n",
       "      <td>0.000000</td>\n",
       "      <td>0.0</td>\n",
       "      <td>0.0</td>\n",
       "      <td>0.000000</td>\n",
       "      <td>0.0</td>\n",
       "      <td>0.0</td>\n",
       "      <td>0.0</td>\n",
       "      <td>0.0</td>\n",
       "      <td>0.0</td>\n",
       "      <td>0.0</td>\n",
       "      <td>0.0</td>\n",
       "      <td>0.0</td>\n",
       "      <td>0.0</td>\n",
       "      <td>BubbleRegion_82</td>\n",
       "      <td>0.000000</td>\n",
       "    </tr>\n",
       "  </tbody>\n",
       "</table>\n",
       "</div>"
      ],
      "text/plain": [
       "     NodeID  IsSVNode  SeqLength  Jaccard_Cont_WiRv  Jaccard_Cont_WiIS6110  \\\n",
       "1746  s1747      True        527           0.024145                    0.0   \n",
       "1747  s1748      True         72           0.000000                    0.0   \n",
       "1748  s1749      True         62           0.000000                    0.0   \n",
       "1749  s1750      True         96           0.000000                    0.0   \n",
       "1769  s1770      True        533           0.000000                    0.0   \n",
       "\n",
       "      Jaccard_Cont_WiRv_InsSeqAndPhages  Jaccard_Cont_WiRv_PEPPEs  \\\n",
       "1746                                0.0                  0.024145   \n",
       "1747                                0.0                  0.000000   \n",
       "1748                                0.0                  0.000000   \n",
       "1749                                0.0                  0.000000   \n",
       "1769                                0.0                  0.000000   \n",
       "\n",
       "      Jaccard_Cont_WiRv_InfoPathways  Jaccard_Cont_WiRv_ConservedHypo  \\\n",
       "1746                             0.0                              0.0   \n",
       "1747                             0.0                              0.0   \n",
       "1748                             0.0                              0.0   \n",
       "1749                             0.0                              0.0   \n",
       "1769                             0.0                              0.0   \n",
       "\n",
       "      Jaccard_Cont_WiRv_CellWallCellProc  Jaccard_Cont_WiRv_StableRNAs  \\\n",
       "1746                                 0.0                           0.0   \n",
       "1747                                 0.0                           0.0   \n",
       "1748                                 0.0                           0.0   \n",
       "1749                                 0.0                           0.0   \n",
       "1769                                 0.0                           0.0   \n",
       "\n",
       "      Jaccard_Cont_WiRv_InterMetabolism  Jaccard_Cont_WiRv_RegProteins  \\\n",
       "1746                                0.0                            0.0   \n",
       "1747                                0.0                            0.0   \n",
       "1748                                0.0                            0.0   \n",
       "1749                                0.0                            0.0   \n",
       "1769                                0.0                            0.0   \n",
       "\n",
       "      Jaccard_Cont_WiRv_VirulenceDetoxAdaptation  \\\n",
       "1746                                         0.0   \n",
       "1747                                         0.0   \n",
       "1748                                         0.0   \n",
       "1749                                         0.0   \n",
       "1769                                         0.0   \n",
       "\n",
       "      Jaccard_Cont_WiRv_LipidMetabolism  Jaccard_Cont_WiRv_Unknown  \\\n",
       "1746                                0.0                        0.0   \n",
       "1747                                0.0                        0.0   \n",
       "1748                                0.0                        0.0   \n",
       "1749                                0.0                        0.0   \n",
       "1769                                0.0                        0.0   \n",
       "\n",
       "             BubbleID  MaxJC_ToOtherNode  \n",
       "1746  BubbleRegion_31           0.006036  \n",
       "1747  BubbleRegion_31           0.000000  \n",
       "1748  BubbleRegion_31           0.000000  \n",
       "1749  BubbleRegion_31           0.000000  \n",
       "1769  BubbleRegion_82           0.000000  "
      ]
     },
     "execution_count": 63,
     "metadata": {},
     "output_type": "execute_result"
    }
   ],
   "source": [
    "MG_SVNodes_UnqSeq_UnqToRv_DF.head()"
   ]
  },
  {
   "cell_type": "code",
   "execution_count": null,
   "id": "a4e46771-dbfd-4180-83cd-2cbe851e6b62",
   "metadata": {},
   "outputs": [],
   "source": []
  },
  {
   "cell_type": "markdown",
   "id": "c214bc4e-46b6-4643-a2ca-f780bb8a16c6",
   "metadata": {},
   "source": [
    "## Parse k-mer info for all nodes of `minigraph` GFA (151 Mtb assemblies)"
   ]
  },
  {
   "cell_type": "code",
   "execution_count": 64,
   "id": "fc02e557-c2eb-49fa-bd8c-e94f7470ccdb",
   "metadata": {},
   "outputs": [],
   "source": [
    "def parse_rGFA_To_KmerInfo(i_Minigraph_GFA):\n",
    "\n",
    "    GFA_GP = gfapy.Gfa.from_file(i_Minigraph_GFA)\n",
    "\n",
    "    i_dictOf_NodeInfo = {}\n",
    "\n",
    "    for line in tqdm(GFA_GP.lines):\n",
    "        line_Str = str(line)\n",
    "        \n",
    "        if line_Str.startswith(\"S\"):\n",
    "            \n",
    "            line_SplitByTab = line_Str.split(\"\\t\")\n",
    "            \n",
    "            S_Name = line_SplitByTab[1]\n",
    "            \n",
    "            S_Seq = line_SplitByTab[2]\n",
    "            \n",
    "            Len_Seq = len(S_Seq)\n",
    "            \n",
    "            record_Kmers = build_kmers(S_Seq, 31)\n",
    "            \n",
    "            record_Hashes = hash_kmers_ToSet(record_Kmers)\n",
    "\n",
    "            i_dictOf_NodeInfo[S_Name] = {}\n",
    "            i_dictOf_NodeInfo[S_Name][\"Len\"] = Len_Seq\n",
    "            i_dictOf_NodeInfo[S_Name][\"Kmers\"] = record_Kmers\n",
    "            i_dictOf_NodeInfo[S_Name][\"Kmer_Hashes_Set\"] = record_Hashes\n",
    "\n",
    "    return i_dictOf_NodeInfo"
   ]
  },
  {
   "cell_type": "markdown",
   "id": "86f573a6-eed9-4327-97d2-3666e8a804fd",
   "metadata": {},
   "source": [
    "## Generate dict of SV PG graph node info (length, k-mers, k-mer hashes)\n",
    "\n",
    "#### For each node of the graph we have:\n",
    "- sequence length\n",
    "- all unique 31-mers\n",
    "- all hashes of all unique canonical 31-mers "
   ]
  },
  {
   "cell_type": "code",
   "execution_count": 65,
   "id": "a35e530f-957b-4eac-9a6d-8ce5f1629a10",
   "metadata": {},
   "outputs": [
    {
     "name": "stderr",
     "output_type": "stream",
     "text": [
      "100%|██████████| 7843/7843 [00:42<00:00, 185.82it/s] \n"
     ]
    }
   ],
   "source": [
    "MG_dictOf_NodeInfo = parse_rGFA_To_KmerInfo(MG_WGA151CI_GFA)"
   ]
  },
  {
   "cell_type": "markdown",
   "id": "b885957d-221e-4d33-8740-f6893fd2e588",
   "metadata": {},
   "source": [
    "#### Inspect resulting dict of node info (length, k-mers, k-mer hashes)"
   ]
  },
  {
   "cell_type": "code",
   "execution_count": 66,
   "id": "a417de7d-0c3d-4aba-94fd-4ef50d954401",
   "metadata": {},
   "outputs": [
    {
     "data": {
      "text/plain": [
       "3138"
      ]
     },
     "execution_count": 66,
     "metadata": {},
     "output_type": "execute_result"
    }
   ],
   "source": [
    "len(list(MG_dictOf_NodeInfo.keys()))"
   ]
  },
  {
   "cell_type": "code",
   "execution_count": 67,
   "id": "bd7aee28-8646-4340-b6f2-b9dc54747944",
   "metadata": {},
   "outputs": [
    {
     "data": {
      "text/plain": [
       "dict_keys(['Len', 'Kmers', 'Kmer_Hashes_Set'])"
      ]
     },
     "execution_count": 67,
     "metadata": {},
     "output_type": "execute_result"
    }
   ],
   "source": [
    "# For each node of the graph we have its sequence length, unique 31-mers, unique hashes of the canonical 31-mer \n",
    "\n",
    "MG_dictOf_NodeInfo[\"s1\"].keys()"
   ]
  },
  {
   "cell_type": "code",
   "execution_count": 68,
   "id": "1808b624-0a7d-495d-bec6-546dcb428c88",
   "metadata": {},
   "outputs": [
    {
     "data": {
      "text/plain": [
       "1533"
      ]
     },
     "execution_count": 68,
     "metadata": {},
     "output_type": "execute_result"
    }
   ],
   "source": [
    "MG_dictOf_NodeInfo[\"s1\"][\"Len\"]"
   ]
  },
  {
   "cell_type": "code",
   "execution_count": 69,
   "id": "feeef0b8-6001-4dec-92f0-8298bdbd2089",
   "metadata": {},
   "outputs": [
    {
     "data": {
      "text/plain": [
       "['TTGACCGATGACCCCGGTTCAGGCTTCACCA',\n",
       " 'TGACCGATGACCCCGGTTCAGGCTTCACCAC',\n",
       " 'GACCGATGACCCCGGTTCAGGCTTCACCACA']"
      ]
     },
     "execution_count": 69,
     "metadata": {},
     "output_type": "execute_result"
    }
   ],
   "source": [
    "MG_dictOf_NodeInfo[\"s1\"][\"Kmers\"][:3]"
   ]
  },
  {
   "cell_type": "code",
   "execution_count": 70,
   "id": "61c13d3c-76b3-49a8-9646-39f54522710d",
   "metadata": {},
   "outputs": [
    {
     "data": {
      "text/plain": [
       "[13580233940393664509, 5138456728421695490]"
      ]
     },
     "execution_count": 70,
     "metadata": {},
     "output_type": "execute_result"
    }
   ],
   "source": [
    "list(MG_dictOf_NodeInfo[\"s1\"][\"Kmer_Hashes_Set\"])[:2]"
   ]
  },
  {
   "cell_type": "code",
   "execution_count": 71,
   "id": "357a9271-10ad-4494-8c22-76ffeb81080c",
   "metadata": {},
   "outputs": [
    {
     "data": {
      "text/plain": [
       "dict_keys(['Len', 'Kmers', 'Kmer_Hashes_Set'])"
      ]
     },
     "execution_count": 71,
     "metadata": {},
     "output_type": "execute_result"
    }
   ],
   "source": [
    "MG_dictOf_NodeInfo[\"s1\"].keys()"
   ]
  },
  {
   "cell_type": "code",
   "execution_count": 72,
   "id": "3c156c8d-6146-4c2c-9ac4-6d88d34bcbdc",
   "metadata": {},
   "outputs": [],
   "source": [
    "MG_SVNodes_UnqSeq_HashDict = {}\n",
    "MG_SVNodes_UnqSeqAndUnqToRv_HashDict = {}\n",
    "\n",
    "for i_NodeID in MG_dictOf_NodeInfo.keys():\n",
    "    \n",
    "    if i_NodeID in SVNodeIDs_UnqSeq:\n",
    "        MG_SVNodes_UnqSeq_HashDict[i_NodeID] =  MG_dictOf_NodeInfo[i_NodeID][\"Kmer_Hashes_Set\"]\n",
    "    \n",
    "    if i_NodeID in SVNodeIDs_UnqSeq_And_UnqToRv:\n",
    "        MG_SVNodes_UnqSeqAndUnqToRv_HashDict[i_NodeID] =  MG_dictOf_NodeInfo[i_NodeID][\"Kmer_Hashes_Set\"]\n"
   ]
  },
  {
   "cell_type": "code",
   "execution_count": 73,
   "id": "8fb2d9cc-a543-4aba-b0f2-b586dd44dbab",
   "metadata": {},
   "outputs": [
    {
     "data": {
      "text/plain": [
       "463"
      ]
     },
     "execution_count": 73,
     "metadata": {},
     "output_type": "execute_result"
    }
   ],
   "source": [
    "len(SVNodeIDs_UnqSeq)"
   ]
  },
  {
   "cell_type": "code",
   "execution_count": 74,
   "id": "f52ceb50-f318-4905-904c-31e4e65669bc",
   "metadata": {},
   "outputs": [
    {
     "data": {
      "text/plain": [
       "463"
      ]
     },
     "execution_count": 74,
     "metadata": {},
     "output_type": "execute_result"
    }
   ],
   "source": [
    "len(list(MG_SVNodes_UnqSeq_HashDict.keys()))"
   ]
  },
  {
   "cell_type": "code",
   "execution_count": 75,
   "id": "a172da08-3f91-4808-b33a-8a36d5304414",
   "metadata": {},
   "outputs": [
    {
     "data": {
      "text/plain": [
       "76"
      ]
     },
     "execution_count": 75,
     "metadata": {},
     "output_type": "execute_result"
    }
   ],
   "source": [
    "len(SVNodeIDs_UnqSeq_And_UnqToRv)"
   ]
  },
  {
   "cell_type": "code",
   "execution_count": 76,
   "id": "0017dd3d-e474-4962-a069-1d82548dce2c",
   "metadata": {},
   "outputs": [
    {
     "data": {
      "text/plain": [
       "76"
      ]
     },
     "execution_count": 76,
     "metadata": {},
     "output_type": "execute_result"
    }
   ],
   "source": [
    "len(list(MG_SVNodes_UnqSeqAndUnqToRv_HashDict.keys()))"
   ]
  },
  {
   "cell_type": "code",
   "execution_count": 77,
   "id": "53902d84-467c-49eb-b98a-4ef7b8952f0a",
   "metadata": {},
   "outputs": [],
   "source": [
    "# MG_SVNodes_UnqSeq_HashDict\n",
    "# MG_SVNodes_UnqSeqAndUnqToRv_HashDict"
   ]
  },
  {
   "cell_type": "code",
   "execution_count": null,
   "id": "71314c0e-0975-4b29-a2f2-fd263d5cccfc",
   "metadata": {},
   "outputs": [],
   "source": []
  },
  {
   "cell_type": "code",
   "execution_count": null,
   "id": "572bb61d-2c6e-4e20-b912-7828f9023e55",
   "metadata": {},
   "outputs": [],
   "source": []
  },
  {
   "cell_type": "code",
   "execution_count": null,
   "id": "66e1c403-d8a4-440a-8b11-76391ff35fac",
   "metadata": {},
   "outputs": [],
   "source": []
  },
  {
   "cell_type": "markdown",
   "id": "6eec62d7-f98f-4b06-b065-53b7ad0352cb",
   "metadata": {},
   "source": [
    "# Classify SV Nodes based on match to H37Rv gene categories"
   ]
  },
  {
   "cell_type": "markdown",
   "id": "db594ffa-1011-432e-9db3-c4de594c32f6",
   "metadata": {},
   "source": [
    "### Define functions"
   ]
  },
  {
   "cell_type": "code",
   "execution_count": 78,
   "id": "244a6bc1-9003-4963-afec-992ef3b72b13",
   "metadata": {},
   "outputs": [],
   "source": [
    "# Define the Jaccard index columns corresponding to gene categories\n",
    "listOf_JC_Cols = [\n",
    "    \"Jaccard_Cont_WiRv_InsSeqAndPhages\",\n",
    "    \"Jaccard_Cont_WiRv_PEPPEs\",\n",
    "    \"Jaccard_Cont_WiRv_InfoPathways\",\n",
    "    \"Jaccard_Cont_WiRv_ConservedHypo\",\n",
    "    \"Jaccard_Cont_WiRv_CellWallCellProc\",\n",
    "    \"Jaccard_Cont_WiRv_StableRNAs\",\n",
    "    \"Jaccard_Cont_WiRv_InterMetabolism\",\n",
    "    \"Jaccard_Cont_WiRv_RegProteins\",\n",
    "    \"Jaccard_Cont_WiRv_VirulenceDetoxAdaptation\",\n",
    "    \"Jaccard_Cont_WiRv_LipidMetabolism\",\n",
    "    \"Jaccard_Cont_WiRv_Unknown\"\n",
    "]\n",
    "\n",
    "listOf_JC_Cols = [\n",
    "    \"Jaccard_Cont_WiRv_InsSeqAndPhages\",\n",
    "    \"Jaccard_Cont_WiRv_PEPPEs\",\n",
    "    \"Jaccard_Cont_WiRv_InfoPathways\",\n",
    "    \"Jaccard_Cont_WiRv_ConservedHypo\",\n",
    "    \"Jaccard_Cont_WiRv_CellWallCellProc\",\n",
    "    \"Jaccard_Cont_WiRv_StableRNAs\",\n",
    "    \"Jaccard_Cont_WiRv_InterMetabolism\",\n",
    "    \"Jaccard_Cont_WiRv_RegProteins\",\n",
    "    \"Jaccard_Cont_WiRv_VirulenceDetoxAdaptation\",\n",
    "    \"Jaccard_Cont_WiRv_LipidMetabolism\",\n",
    "]\n",
    "\n",
    "JC_Cols_ToCategoryName = {\n",
    "    \"Jaccard_Cont_WiRv_PEPPEs\": \"PE/PPE\",\n",
    "    \"Jaccard_Cont_WiRv_CellWallCellProc\": \"cell wall and cell processes\",\n",
    "    \"Jaccard_Cont_WiRv_ConservedHypo\": \"conserved hypotheticals\",\n",
    "    \"Jaccard_Cont_WiRv_InfoPathways\": \"information pathways\",\n",
    "    \"Jaccard_Cont_WiRv_InsSeqAndPhages\": \"insertion seqs and phages\",\n",
    "    \"Jaccard_Cont_WiRv_StableRNAs\": \"stable RNAs\",\n",
    "    \"Jaccard_Cont_WiRv_InterMetabolism\": \"intermediary metabolism and respiration\",\n",
    "    \"Jaccard_Cont_WiRv_RegProteins\": \"regulatory proteins\",\n",
    "    \"Jaccard_Cont_WiRv_VirulenceDetoxAdaptation\": \"virulence, detoxification, adaptation\",\n",
    "    \"Jaccard_Cont_WiRv_LipidMetabolism\": \"lipid metabolism\",\n",
    "    \"Jaccard_Cont_WiRv_Unknown\": \"unknown\"\n",
    "}\n"
   ]
  },
  {
   "cell_type": "code",
   "execution_count": 79,
   "id": "1cc258ea-20a9-457d-b022-ea61263184cd",
   "metadata": {},
   "outputs": [],
   "source": [
    "# Define function to classify a node based on a threshold\n",
    "def classify_node_ToRvGeneCat(row, threshold=0.25):\n",
    "\n",
    "    listOf_Rv_JCtoGeneCat_Cols = [\n",
    "        \"Jaccard_Cont_WiRv_InsSeqAndPhages\",\n",
    "        \"Jaccard_Cont_WiRv_PEPPEs\",\n",
    "        \"Jaccard_Cont_WiRv_InfoPathways\",\n",
    "        \"Jaccard_Cont_WiRv_ConservedHypo\",\n",
    "        \"Jaccard_Cont_WiRv_CellWallCellProc\",\n",
    "        \"Jaccard_Cont_WiRv_StableRNAs\",\n",
    "        \"Jaccard_Cont_WiRv_InterMetabolism\",\n",
    "        \"Jaccard_Cont_WiRv_RegProteins\",\n",
    "        \"Jaccard_Cont_WiRv_VirulenceDetoxAdaptation\",\n",
    "        \"Jaccard_Cont_WiRv_LipidMetabolism\",\n",
    "    ]\n",
    "    \n",
    "    filtered_matches = {col: row[col] for col in listOf_Rv_JCtoGeneCat_Cols if row[col] >= threshold}\n",
    "    if filtered_matches:\n",
    "        max_value = max(filtered_matches.values())\n",
    "        strongest_categories = [\n",
    "            col for col, value in filtered_matches.items() if value == max_value\n",
    "        ]\n",
    "        return strongest_categories\n",
    "    return None  # No valid matches\n",
    "\n",
    "\n",
    "\n",
    "# Define function to summarize node categories\n",
    "def summarize_sv_categories(sv_nodes_df, listOf_JC_Cols):\n",
    "    category_summary = {}\n",
    "    for col in listOf_JC_Cols:\n",
    "        total_length = sv_nodes_df.loc[\n",
    "            sv_nodes_df[\"KmerMatch_RvGeneCat\"].apply(\n",
    "                lambda matches: col in matches if matches else False\n",
    "            ),\n",
    "            \"SeqLength\"\n",
    "        ].sum()\n",
    "        node_count = sv_nodes_df[\"KmerMatch_RvGeneCat\"].apply(\n",
    "            lambda matches: col in matches if matches else False\n",
    "        ).sum()\n",
    "        category_summary[col] = {\"Total Length\": total_length, \"Node Count\": node_count}\n",
    "\n",
    "    # Add \"NoMatch\" to the summary\n",
    "    no_match_length = sv_nodes_df.loc[\n",
    "        sv_nodes_df[\"KmerMatch_RvGeneCat\"].isnull(), \"SeqLength\"\n",
    "    ].sum()\n",
    "    no_match_count = sv_nodes_df[\"KmerMatch_RvGeneCat\"].isnull().sum()\n",
    "\n",
    "    category_summary[\"NoMatch\"] = {\n",
    "        \"Total Length\": no_match_length,\n",
    "        \"Node Count\": no_match_count,\n",
    "    }\n",
    "\n",
    "    # Convert to DataFrame\n",
    "    summary_df = pd.DataFrame.from_dict(category_summary, orient=\"index\")\n",
    "    summary_df[\"Relative Size (%)\"] = (\n",
    "        summary_df[\"Total Length\"] / summary_df[\"Total Length\"].sum() * 100\n",
    "    ).round(1)\n",
    "\n",
    "    return summary_df\n",
    "\n",
    "\n",
    "# Update the summarize_sv_categories function to include \"Functional_Category\"\n",
    "def summarize_sv_categories_with_functional_category(sv_nodes_df, listOf_JC_Cols):\n",
    "    category_summary = {}\n",
    "    category_mapping = {\n",
    "        \"Jaccard_Cont_WiRv_PEPPEs\": \"PE/PPE\",\n",
    "        \"Jaccard_Cont_WiRv_CellWallCellProc\": \"cell wall and cell processes\",\n",
    "        \"Jaccard_Cont_WiRv_ConservedHypo\": \"conserved hypotheticals\",\n",
    "        \"Jaccard_Cont_WiRv_InfoPathways\": \"information pathways\",\n",
    "        \"Jaccard_Cont_WiRv_InsSeqAndPhages\": \"insertion seqs and phages\",\n",
    "        \"Jaccard_Cont_WiRv_StableRNAs\": \"stable RNAs\",\n",
    "        \"Jaccard_Cont_WiRv_InterMetabolism\": \"intermediary metabolism and respiration\",\n",
    "        \"Jaccard_Cont_WiRv_RegProteins\": \"regulatory proteins\",\n",
    "        \"Jaccard_Cont_WiRv_VirulenceDetoxAdaptation\": \"virulence, detoxification, adaptation\",\n",
    "        \"Jaccard_Cont_WiRv_LipidMetabolism\": \"lipid metabolism\",\n",
    "        \"Jaccard_Cont_WiRv_Unknown\": \"unknown\",\n",
    "    }\n",
    "\n",
    "    for col in listOf_JC_Cols:\n",
    "        total_length = sv_nodes_df.loc[\n",
    "            sv_nodes_df[\"KmerMatch_RvGeneCat\"].apply(\n",
    "                lambda matches: col in matches if matches else False\n",
    "            ),\n",
    "            \"SeqLength\"\n",
    "        ].sum()\n",
    "        \n",
    "        node_count = sv_nodes_df[\"KmerMatch_RvGeneCat\"].apply(\n",
    "            lambda matches: col in matches if matches else False\n",
    "        ).sum()\n",
    "        \n",
    "        category_summary[col] = {\n",
    "            \"Functional_Category\": category_mapping.get(col, \"unknown\"),\n",
    "            \"Total Length\": total_length,\n",
    "            \"Node Count\": node_count,\n",
    "        }\n",
    "\n",
    "    # Add \"NoMatch\" to the summary\n",
    "    no_match_length = sv_nodes_df.loc[\n",
    "        sv_nodes_df[\"KmerMatch_RvGeneCat\"].isnull(), \"SeqLength\"\n",
    "    ].sum()\n",
    "    no_match_count = sv_nodes_df[\"KmerMatch_RvGeneCat\"].isnull().sum()\n",
    "\n",
    "    category_summary[\"NoMatch\"] = {\n",
    "        \"Functional_Category\": \"NoMatch\",\n",
    "        \"Total Length\": no_match_length,\n",
    "        \"Node Count\": no_match_count,\n",
    "    }\n",
    "\n",
    "    # Convert to DataFrame\n",
    "    summary_df = pd.DataFrame.from_dict(category_summary, orient=\"index\")\n",
    "    summary_df[\"Relative Size (%)\"] = (\n",
    "        summary_df[\"Total Length\"] / summary_df[\"Total Length\"].sum() * 100\n",
    "    ).round(2)\n",
    "\n",
    "    return summary_df\n"
   ]
  },
  {
   "cell_type": "code",
   "execution_count": null,
   "id": "83913d1c-ecc9-4f06-b73f-f8f51e9cddae",
   "metadata": {},
   "outputs": [],
   "source": []
  },
  {
   "cell_type": "markdown",
   "id": "1c4e53cd-20c6-4c69-af59-5d3a7ccb0548",
   "metadata": {},
   "source": [
    "###  Step 1: Look at relative size of gene categories in H73R"
   ]
  },
  {
   "cell_type": "code",
   "execution_count": 80,
   "id": "cff4b751-6970-4fbe-a9ee-9eaeed5b8158",
   "metadata": {},
   "outputs": [],
   "source": [
    "# Correctly reference \"Start\" and \"End\" columns to calculate gene lengths\n",
    "H37Rv_GeneInfo_Subset_DF = H37Rv_GenomeAnno_Genes_DF[\n",
    "    [\"Functional_Category\", \"Start\", \"End\"]\n",
    "].copy()\n",
    "H37Rv_GeneInfo_Subset_DF[\"Gene_Length\"] = (\n",
    "    H37Rv_GeneInfo_Subset_DF[\"End\"] - H37Rv_GeneInfo_Subset_DF[\"Start\"] + 1\n",
    ")\n",
    "\n",
    "# Group by functional category and calculate total length and relative fractions\n",
    "gene_cat_lengths = (\n",
    "    H37Rv_GeneInfo_Subset_DF.groupby(\"Functional_Category\")[\"Gene_Length\"]\n",
    "    .sum()\n",
    "    .reset_index()\n",
    ")\n",
    "\n",
    "gene_cat_lengths[\"Relative_Fraction\"] = (\n",
    "    gene_cat_lengths[\"Gene_Length\"] / gene_cat_lengths[\"Gene_Length\"].sum()\n",
    ")\n",
    "\n",
    "gene_cat_lengths[\"Percent_RefGeneLengths\"] = (gene_cat_lengths[\"Relative_Fraction\"] * 100).round(2)\n",
    "\n",
    "Gene_Cat_RefPerc = gene_cat_lengths[[\"Functional_Category\", \"Percent_RefGeneLengths\"]]"
   ]
  },
  {
   "cell_type": "code",
   "execution_count": 81,
   "id": "cba00fd5-32f7-491f-a6c3-ccb8ac5d6350",
   "metadata": {},
   "outputs": [
    {
     "data": {
      "text/html": [
       "<div>\n",
       "<style scoped>\n",
       "    .dataframe tbody tr th:only-of-type {\n",
       "        vertical-align: middle;\n",
       "    }\n",
       "\n",
       "    .dataframe tbody tr th {\n",
       "        vertical-align: top;\n",
       "    }\n",
       "\n",
       "    .dataframe thead th {\n",
       "        text-align: right;\n",
       "    }\n",
       "</style>\n",
       "<table border=\"1\" class=\"dataframe\">\n",
       "  <thead>\n",
       "    <tr style=\"text-align: right;\">\n",
       "      <th></th>\n",
       "      <th>Functional_Category</th>\n",
       "      <th>Percent_RefGeneLengths</th>\n",
       "    </tr>\n",
       "  </thead>\n",
       "  <tbody>\n",
       "    <tr>\n",
       "      <th>0</th>\n",
       "      <td>PE/PPE</td>\n",
       "      <td>7.01</td>\n",
       "    </tr>\n",
       "    <tr>\n",
       "      <th>1</th>\n",
       "      <td>cell wall and cell processes</td>\n",
       "      <td>20.00</td>\n",
       "    </tr>\n",
       "    <tr>\n",
       "      <th>2</th>\n",
       "      <td>conserved hypotheticals</td>\n",
       "      <td>18.77</td>\n",
       "    </tr>\n",
       "    <tr>\n",
       "      <th>3</th>\n",
       "      <td>information pathways</td>\n",
       "      <td>6.76</td>\n",
       "    </tr>\n",
       "    <tr>\n",
       "      <th>4</th>\n",
       "      <td>insertion seqs and phages</td>\n",
       "      <td>2.69</td>\n",
       "    </tr>\n",
       "    <tr>\n",
       "      <th>5</th>\n",
       "      <td>intermediary metabolism and respiration</td>\n",
       "      <td>25.75</td>\n",
       "    </tr>\n",
       "    <tr>\n",
       "      <th>6</th>\n",
       "      <td>lipid metabolism</td>\n",
       "      <td>10.53</td>\n",
       "    </tr>\n",
       "    <tr>\n",
       "      <th>7</th>\n",
       "      <td>regulatory proteins</td>\n",
       "      <td>4.18</td>\n",
       "    </tr>\n",
       "    <tr>\n",
       "      <th>8</th>\n",
       "      <td>stable RNAs</td>\n",
       "      <td>0.20</td>\n",
       "    </tr>\n",
       "    <tr>\n",
       "      <th>9</th>\n",
       "      <td>unknown</td>\n",
       "      <td>0.21</td>\n",
       "    </tr>\n",
       "    <tr>\n",
       "      <th>10</th>\n",
       "      <td>virulence, detoxification, adaptation</td>\n",
       "      <td>3.91</td>\n",
       "    </tr>\n",
       "  </tbody>\n",
       "</table>\n",
       "</div>"
      ],
      "text/plain": [
       "                        Functional_Category  Percent_RefGeneLengths\n",
       "0                                    PE/PPE                    7.01\n",
       "1              cell wall and cell processes                   20.00\n",
       "2                   conserved hypotheticals                   18.77\n",
       "3                      information pathways                    6.76\n",
       "4                 insertion seqs and phages                    2.69\n",
       "5   intermediary metabolism and respiration                   25.75\n",
       "6                          lipid metabolism                   10.53\n",
       "7                       regulatory proteins                    4.18\n",
       "8                               stable RNAs                    0.20\n",
       "9                                   unknown                    0.21\n",
       "10    virulence, detoxification, adaptation                    3.91"
      ]
     },
     "execution_count": 81,
     "metadata": {},
     "output_type": "execute_result"
    }
   ],
   "source": [
    "Gene_Cat_RefPerc"
   ]
  },
  {
   "cell_type": "code",
   "execution_count": 82,
   "id": "7359f136-b0ba-46f0-822c-72e6181fc383",
   "metadata": {},
   "outputs": [
    {
     "data": {
      "text/html": [
       "<div>\n",
       "<style scoped>\n",
       "    .dataframe tbody tr th:only-of-type {\n",
       "        vertical-align: middle;\n",
       "    }\n",
       "\n",
       "    .dataframe tbody tr th {\n",
       "        vertical-align: top;\n",
       "    }\n",
       "\n",
       "    .dataframe thead th {\n",
       "        text-align: right;\n",
       "    }\n",
       "</style>\n",
       "<table border=\"1\" class=\"dataframe\">\n",
       "  <thead>\n",
       "    <tr style=\"text-align: right;\">\n",
       "      <th></th>\n",
       "      <th>NodeID</th>\n",
       "      <th>IsSVNode</th>\n",
       "      <th>SeqLength</th>\n",
       "      <th>Jaccard_Cont_WiRv</th>\n",
       "      <th>Jaccard_Cont_WiIS6110</th>\n",
       "      <th>Jaccard_Cont_WiRv_InsSeqAndPhages</th>\n",
       "      <th>Jaccard_Cont_WiRv_PEPPEs</th>\n",
       "      <th>Jaccard_Cont_WiRv_InfoPathways</th>\n",
       "      <th>Jaccard_Cont_WiRv_ConservedHypo</th>\n",
       "      <th>Jaccard_Cont_WiRv_CellWallCellProc</th>\n",
       "      <th>Jaccard_Cont_WiRv_StableRNAs</th>\n",
       "      <th>Jaccard_Cont_WiRv_InterMetabolism</th>\n",
       "      <th>Jaccard_Cont_WiRv_RegProteins</th>\n",
       "      <th>Jaccard_Cont_WiRv_VirulenceDetoxAdaptation</th>\n",
       "      <th>Jaccard_Cont_WiRv_LipidMetabolism</th>\n",
       "      <th>Jaccard_Cont_WiRv_Unknown</th>\n",
       "      <th>BubbleID</th>\n",
       "      <th>MaxJC_ToOtherNode</th>\n",
       "    </tr>\n",
       "  </thead>\n",
       "  <tbody>\n",
       "    <tr>\n",
       "      <th>0</th>\n",
       "      <td>s1</td>\n",
       "      <td>False</td>\n",
       "      <td>1533</td>\n",
       "      <td>1.0</td>\n",
       "      <td>0.0</td>\n",
       "      <td>0.0</td>\n",
       "      <td>0.0</td>\n",
       "      <td>0.994012</td>\n",
       "      <td>0.0</td>\n",
       "      <td>0.0</td>\n",
       "      <td>0.0</td>\n",
       "      <td>0.0</td>\n",
       "      <td>0.0</td>\n",
       "      <td>0.0</td>\n",
       "      <td>0.0</td>\n",
       "      <td>0.0</td>\n",
       "      <td>None</td>\n",
       "      <td>0.0</td>\n",
       "    </tr>\n",
       "  </tbody>\n",
       "</table>\n",
       "</div>"
      ],
      "text/plain": [
       "  NodeID  IsSVNode  SeqLength  Jaccard_Cont_WiRv  Jaccard_Cont_WiIS6110  \\\n",
       "0     s1     False       1533                1.0                    0.0   \n",
       "\n",
       "   Jaccard_Cont_WiRv_InsSeqAndPhages  Jaccard_Cont_WiRv_PEPPEs  \\\n",
       "0                                0.0                       0.0   \n",
       "\n",
       "   Jaccard_Cont_WiRv_InfoPathways  Jaccard_Cont_WiRv_ConservedHypo  \\\n",
       "0                        0.994012                              0.0   \n",
       "\n",
       "   Jaccard_Cont_WiRv_CellWallCellProc  Jaccard_Cont_WiRv_StableRNAs  \\\n",
       "0                                 0.0                           0.0   \n",
       "\n",
       "   Jaccard_Cont_WiRv_InterMetabolism  Jaccard_Cont_WiRv_RegProteins  \\\n",
       "0                                0.0                            0.0   \n",
       "\n",
       "   Jaccard_Cont_WiRv_VirulenceDetoxAdaptation  \\\n",
       "0                                         0.0   \n",
       "\n",
       "   Jaccard_Cont_WiRv_LipidMetabolism  Jaccard_Cont_WiRv_Unknown BubbleID  \\\n",
       "0                                0.0                        0.0     None   \n",
       "\n",
       "   MaxJC_ToOtherNode  \n",
       "0                0.0  "
      ]
     },
     "execution_count": 82,
     "metadata": {},
     "output_type": "execute_result"
    }
   ],
   "source": [
    "MG_Nodes_KmerComp_DF.head(1)"
   ]
  },
  {
   "cell_type": "markdown",
   "id": "66e4d308-85c5-4c73-bb91-47e30cafd36b",
   "metadata": {},
   "source": [
    "### Step 2: Classify nodes"
   ]
  },
  {
   "cell_type": "code",
   "execution_count": 83,
   "id": "4b06acc8-24ff-46ab-80a5-c895d33641dc",
   "metadata": {},
   "outputs": [],
   "source": [
    "# Apply classification to the main DataFrame\n",
    "threshold = 0.5  # Set the classification threshold\n",
    "MG_Nodes_KmerComp_DF[\"KmerMatch_RvGeneCat\"] = MG_Nodes_KmerComp_DF.apply(\n",
    "    lambda row: classify_node_ToRvGeneCat(row, threshold), axis=1\n",
    ")"
   ]
  },
  {
   "cell_type": "code",
   "execution_count": 84,
   "id": "31513442-0e6b-466f-96a6-f154ec72d410",
   "metadata": {},
   "outputs": [],
   "source": [
    "# Filter SV Nodes based on the queries provided\n",
    "MG_SVNodes_PASS_DF = MG_Nodes_KmerComp_DF.query(\"IsSVNode == True and SeqLength >= 31\")\n",
    "\n",
    "MG_SVNodes_UnqSeq_DF = MG_SVNodes_PASS_DF.query(\"MaxJC_ToOtherNode < 0.05\")\n",
    "MG_SVNodes_UnqSeq_UnqToRv_DF = MG_SVNodes_UnqSeq_DF.query(\"Jaccard_Cont_WiRv < 0.05\")\n",
    "MG_SVNodes_NoUnqSeq_DF = MG_SVNodes_PASS_DF.query(\"MaxJC_ToOtherNode >= 0.05\")\n"
   ]
  },
  {
   "cell_type": "code",
   "execution_count": 85,
   "id": "092869ec-0303-471e-9f76-574b84f436d0",
   "metadata": {},
   "outputs": [
    {
     "data": {
      "text/html": [
       "<div>\n",
       "<style scoped>\n",
       "    .dataframe tbody tr th:only-of-type {\n",
       "        vertical-align: middle;\n",
       "    }\n",
       "\n",
       "    .dataframe tbody tr th {\n",
       "        vertical-align: top;\n",
       "    }\n",
       "\n",
       "    .dataframe thead th {\n",
       "        text-align: right;\n",
       "    }\n",
       "</style>\n",
       "<table border=\"1\" class=\"dataframe\">\n",
       "  <thead>\n",
       "    <tr style=\"text-align: right;\">\n",
       "      <th></th>\n",
       "      <th>Functional_Category</th>\n",
       "      <th>Percent_RefGeneLengths</th>\n",
       "    </tr>\n",
       "  </thead>\n",
       "  <tbody>\n",
       "    <tr>\n",
       "      <th>0</th>\n",
       "      <td>PE/PPE</td>\n",
       "      <td>7.01</td>\n",
       "    </tr>\n",
       "    <tr>\n",
       "      <th>1</th>\n",
       "      <td>cell wall and cell processes</td>\n",
       "      <td>20.00</td>\n",
       "    </tr>\n",
       "    <tr>\n",
       "      <th>2</th>\n",
       "      <td>conserved hypotheticals</td>\n",
       "      <td>18.77</td>\n",
       "    </tr>\n",
       "    <tr>\n",
       "      <th>3</th>\n",
       "      <td>information pathways</td>\n",
       "      <td>6.76</td>\n",
       "    </tr>\n",
       "    <tr>\n",
       "      <th>4</th>\n",
       "      <td>insertion seqs and phages</td>\n",
       "      <td>2.69</td>\n",
       "    </tr>\n",
       "    <tr>\n",
       "      <th>5</th>\n",
       "      <td>intermediary metabolism and respiration</td>\n",
       "      <td>25.75</td>\n",
       "    </tr>\n",
       "    <tr>\n",
       "      <th>6</th>\n",
       "      <td>lipid metabolism</td>\n",
       "      <td>10.53</td>\n",
       "    </tr>\n",
       "    <tr>\n",
       "      <th>7</th>\n",
       "      <td>regulatory proteins</td>\n",
       "      <td>4.18</td>\n",
       "    </tr>\n",
       "    <tr>\n",
       "      <th>8</th>\n",
       "      <td>stable RNAs</td>\n",
       "      <td>0.20</td>\n",
       "    </tr>\n",
       "    <tr>\n",
       "      <th>9</th>\n",
       "      <td>unknown</td>\n",
       "      <td>0.21</td>\n",
       "    </tr>\n",
       "    <tr>\n",
       "      <th>10</th>\n",
       "      <td>virulence, detoxification, adaptation</td>\n",
       "      <td>3.91</td>\n",
       "    </tr>\n",
       "  </tbody>\n",
       "</table>\n",
       "</div>"
      ],
      "text/plain": [
       "                        Functional_Category  Percent_RefGeneLengths\n",
       "0                                    PE/PPE                    7.01\n",
       "1              cell wall and cell processes                   20.00\n",
       "2                   conserved hypotheticals                   18.77\n",
       "3                      information pathways                    6.76\n",
       "4                 insertion seqs and phages                    2.69\n",
       "5   intermediary metabolism and respiration                   25.75\n",
       "6                          lipid metabolism                   10.53\n",
       "7                       regulatory proteins                    4.18\n",
       "8                               stable RNAs                    0.20\n",
       "9                                   unknown                    0.21\n",
       "10    virulence, detoxification, adaptation                    3.91"
      ]
     },
     "execution_count": 85,
     "metadata": {},
     "output_type": "execute_result"
    }
   ],
   "source": [
    "Gene_Cat_RefPerc"
   ]
  },
  {
   "cell_type": "code",
   "execution_count": 86,
   "id": "9623691d-c72c-462e-99c7-af41b2dabdba",
   "metadata": {},
   "outputs": [
    {
     "data": {
      "text/html": [
       "<div>\n",
       "<style scoped>\n",
       "    .dataframe tbody tr th:only-of-type {\n",
       "        vertical-align: middle;\n",
       "    }\n",
       "\n",
       "    .dataframe tbody tr th {\n",
       "        vertical-align: top;\n",
       "    }\n",
       "\n",
       "    .dataframe thead th {\n",
       "        text-align: right;\n",
       "    }\n",
       "</style>\n",
       "<table border=\"1\" class=\"dataframe\">\n",
       "  <thead>\n",
       "    <tr style=\"text-align: right;\">\n",
       "      <th></th>\n",
       "      <th>NodeID</th>\n",
       "      <th>IsSVNode</th>\n",
       "      <th>SeqLength</th>\n",
       "      <th>Jaccard_Cont_WiRv</th>\n",
       "      <th>Jaccard_Cont_WiIS6110</th>\n",
       "      <th>Jaccard_Cont_WiRv_InsSeqAndPhages</th>\n",
       "      <th>Jaccard_Cont_WiRv_PEPPEs</th>\n",
       "      <th>Jaccard_Cont_WiRv_InfoPathways</th>\n",
       "      <th>Jaccard_Cont_WiRv_ConservedHypo</th>\n",
       "      <th>Jaccard_Cont_WiRv_CellWallCellProc</th>\n",
       "      <th>Jaccard_Cont_WiRv_StableRNAs</th>\n",
       "      <th>Jaccard_Cont_WiRv_InterMetabolism</th>\n",
       "      <th>Jaccard_Cont_WiRv_RegProteins</th>\n",
       "      <th>Jaccard_Cont_WiRv_VirulenceDetoxAdaptation</th>\n",
       "      <th>Jaccard_Cont_WiRv_LipidMetabolism</th>\n",
       "      <th>Jaccard_Cont_WiRv_Unknown</th>\n",
       "      <th>BubbleID</th>\n",
       "      <th>MaxJC_ToOtherNode</th>\n",
       "      <th>KmerMatch_RvGeneCat</th>\n",
       "    </tr>\n",
       "  </thead>\n",
       "  <tbody>\n",
       "    <tr>\n",
       "      <th>2</th>\n",
       "      <td>s3</td>\n",
       "      <td>True</td>\n",
       "      <td>56</td>\n",
       "      <td>1.0</td>\n",
       "      <td>0.0</td>\n",
       "      <td>0.0</td>\n",
       "      <td>0.0</td>\n",
       "      <td>0.0</td>\n",
       "      <td>0.000000</td>\n",
       "      <td>0.0</td>\n",
       "      <td>0.0</td>\n",
       "      <td>0.0</td>\n",
       "      <td>0.000000</td>\n",
       "      <td>0.0</td>\n",
       "      <td>0.0</td>\n",
       "      <td>0.0</td>\n",
       "      <td>BubbleRegion_2</td>\n",
       "      <td>0.961538</td>\n",
       "      <td>None</td>\n",
       "    </tr>\n",
       "    <tr>\n",
       "      <th>6</th>\n",
       "      <td>s7</td>\n",
       "      <td>True</td>\n",
       "      <td>1876</td>\n",
       "      <td>1.0</td>\n",
       "      <td>0.0</td>\n",
       "      <td>0.0</td>\n",
       "      <td>0.0</td>\n",
       "      <td>0.0</td>\n",
       "      <td>0.206934</td>\n",
       "      <td>0.0</td>\n",
       "      <td>0.0</td>\n",
       "      <td>0.0</td>\n",
       "      <td>0.601842</td>\n",
       "      <td>0.0</td>\n",
       "      <td>0.0</td>\n",
       "      <td>0.0</td>\n",
       "      <td>BubbleRegion_4</td>\n",
       "      <td>0.006501</td>\n",
       "      <td>[Jaccard_Cont_WiRv_RegProteins]</td>\n",
       "    </tr>\n",
       "    <tr>\n",
       "      <th>15</th>\n",
       "      <td>s16</td>\n",
       "      <td>True</td>\n",
       "      <td>904</td>\n",
       "      <td>1.0</td>\n",
       "      <td>0.0</td>\n",
       "      <td>0.0</td>\n",
       "      <td>0.0</td>\n",
       "      <td>0.0</td>\n",
       "      <td>0.000000</td>\n",
       "      <td>1.0</td>\n",
       "      <td>0.0</td>\n",
       "      <td>0.0</td>\n",
       "      <td>0.000000</td>\n",
       "      <td>0.0</td>\n",
       "      <td>0.0</td>\n",
       "      <td>0.0</td>\n",
       "      <td>BubbleRegion_11</td>\n",
       "      <td>0.000000</td>\n",
       "      <td>[Jaccard_Cont_WiRv_CellWallCellProc]</td>\n",
       "    </tr>\n",
       "  </tbody>\n",
       "</table>\n",
       "</div>"
      ],
      "text/plain": [
       "   NodeID  IsSVNode  SeqLength  Jaccard_Cont_WiRv  Jaccard_Cont_WiIS6110  \\\n",
       "2      s3      True         56                1.0                    0.0   \n",
       "6      s7      True       1876                1.0                    0.0   \n",
       "15    s16      True        904                1.0                    0.0   \n",
       "\n",
       "    Jaccard_Cont_WiRv_InsSeqAndPhages  Jaccard_Cont_WiRv_PEPPEs  \\\n",
       "2                                 0.0                       0.0   \n",
       "6                                 0.0                       0.0   \n",
       "15                                0.0                       0.0   \n",
       "\n",
       "    Jaccard_Cont_WiRv_InfoPathways  Jaccard_Cont_WiRv_ConservedHypo  \\\n",
       "2                              0.0                         0.000000   \n",
       "6                              0.0                         0.206934   \n",
       "15                             0.0                         0.000000   \n",
       "\n",
       "    Jaccard_Cont_WiRv_CellWallCellProc  Jaccard_Cont_WiRv_StableRNAs  \\\n",
       "2                                  0.0                           0.0   \n",
       "6                                  0.0                           0.0   \n",
       "15                                 1.0                           0.0   \n",
       "\n",
       "    Jaccard_Cont_WiRv_InterMetabolism  Jaccard_Cont_WiRv_RegProteins  \\\n",
       "2                                 0.0                       0.000000   \n",
       "6                                 0.0                       0.601842   \n",
       "15                                0.0                       0.000000   \n",
       "\n",
       "    Jaccard_Cont_WiRv_VirulenceDetoxAdaptation  \\\n",
       "2                                          0.0   \n",
       "6                                          0.0   \n",
       "15                                         0.0   \n",
       "\n",
       "    Jaccard_Cont_WiRv_LipidMetabolism  Jaccard_Cont_WiRv_Unknown  \\\n",
       "2                                 0.0                        0.0   \n",
       "6                                 0.0                        0.0   \n",
       "15                                0.0                        0.0   \n",
       "\n",
       "           BubbleID  MaxJC_ToOtherNode                   KmerMatch_RvGeneCat  \n",
       "2    BubbleRegion_2           0.961538                                  None  \n",
       "6    BubbleRegion_4           0.006501       [Jaccard_Cont_WiRv_RegProteins]  \n",
       "15  BubbleRegion_11           0.000000  [Jaccard_Cont_WiRv_CellWallCellProc]  "
      ]
     },
     "execution_count": 86,
     "metadata": {},
     "output_type": "execute_result"
    }
   ],
   "source": [
    "MG_SVNodes_PASS_DF.head(3)"
   ]
  },
  {
   "cell_type": "code",
   "execution_count": 87,
   "id": "c6a91457-d934-4ba0-8c05-686772d537df",
   "metadata": {},
   "outputs": [],
   "source": [
    "# Summarize UNIQUE SV nodes\n",
    "All_SV_nodes_summary = summarize_sv_categories_with_functional_category(MG_SVNodes_PASS_DF, listOf_JC_Cols)\n",
    "All_SV_nodes_summary = pd.merge(All_SV_nodes_summary, Gene_Cat_RefPerc, on = \"Functional_Category\")\n",
    "\n",
    "# Summarize UNIQUE SV nodes\n",
    "unique_nodes_summary = summarize_sv_categories_with_functional_category(MG_SVNodes_UnqSeq_DF, listOf_JC_Cols)\n",
    "unique_nodes_summary = pd.merge(unique_nodes_summary, Gene_Cat_RefPerc, on = \"Functional_Category\")\n",
    "\n",
    "# Summarize NON-UNIQUE SV nodes\n",
    "nonunique_nodes_summary = summarize_sv_categories_with_functional_category(MG_SVNodes_NoUnqSeq_DF, listOf_JC_Cols)\n",
    "nonunique_nodes_summary = pd.merge(nonunique_nodes_summary, Gene_Cat_RefPerc, on = \"Functional_Category\")\n"
   ]
  },
  {
   "cell_type": "code",
   "execution_count": 88,
   "id": "4e2b8303-43e4-4b44-9a98-a82ab55474d9",
   "metadata": {},
   "outputs": [
    {
     "data": {
      "text/html": [
       "<div>\n",
       "<style scoped>\n",
       "    .dataframe tbody tr th:only-of-type {\n",
       "        vertical-align: middle;\n",
       "    }\n",
       "\n",
       "    .dataframe tbody tr th {\n",
       "        vertical-align: top;\n",
       "    }\n",
       "\n",
       "    .dataframe thead th {\n",
       "        text-align: right;\n",
       "    }\n",
       "</style>\n",
       "<table border=\"1\" class=\"dataframe\">\n",
       "  <thead>\n",
       "    <tr style=\"text-align: right;\">\n",
       "      <th></th>\n",
       "      <th>Functional_Category</th>\n",
       "      <th>Total Length</th>\n",
       "      <th>Node Count</th>\n",
       "      <th>Relative Size (%)</th>\n",
       "      <th>Percent_RefGeneLengths</th>\n",
       "    </tr>\n",
       "  </thead>\n",
       "  <tbody>\n",
       "    <tr>\n",
       "      <th>0</th>\n",
       "      <td>insertion seqs and phages</td>\n",
       "      <td>503748</td>\n",
       "      <td>346</td>\n",
       "      <td>39.46</td>\n",
       "      <td>2.69</td>\n",
       "    </tr>\n",
       "    <tr>\n",
       "      <th>1</th>\n",
       "      <td>PE/PPE</td>\n",
       "      <td>167166</td>\n",
       "      <td>647</td>\n",
       "      <td>13.10</td>\n",
       "      <td>7.01</td>\n",
       "    </tr>\n",
       "    <tr>\n",
       "      <th>2</th>\n",
       "      <td>information pathways</td>\n",
       "      <td>4363</td>\n",
       "      <td>10</td>\n",
       "      <td>0.34</td>\n",
       "      <td>6.76</td>\n",
       "    </tr>\n",
       "    <tr>\n",
       "      <th>3</th>\n",
       "      <td>conserved hypotheticals</td>\n",
       "      <td>66735</td>\n",
       "      <td>111</td>\n",
       "      <td>5.23</td>\n",
       "      <td>18.77</td>\n",
       "    </tr>\n",
       "    <tr>\n",
       "      <th>4</th>\n",
       "      <td>cell wall and cell processes</td>\n",
       "      <td>42715</td>\n",
       "      <td>73</td>\n",
       "      <td>3.35</td>\n",
       "      <td>20.00</td>\n",
       "    </tr>\n",
       "    <tr>\n",
       "      <th>5</th>\n",
       "      <td>stable RNAs</td>\n",
       "      <td>0</td>\n",
       "      <td>0</td>\n",
       "      <td>0.00</td>\n",
       "      <td>0.20</td>\n",
       "    </tr>\n",
       "    <tr>\n",
       "      <th>6</th>\n",
       "      <td>intermediary metabolism and respiration</td>\n",
       "      <td>69088</td>\n",
       "      <td>105</td>\n",
       "      <td>5.41</td>\n",
       "      <td>25.75</td>\n",
       "    </tr>\n",
       "    <tr>\n",
       "      <th>7</th>\n",
       "      <td>regulatory proteins</td>\n",
       "      <td>13000</td>\n",
       "      <td>21</td>\n",
       "      <td>1.02</td>\n",
       "      <td>4.18</td>\n",
       "    </tr>\n",
       "    <tr>\n",
       "      <th>8</th>\n",
       "      <td>virulence, detoxification, adaptation</td>\n",
       "      <td>10554</td>\n",
       "      <td>7</td>\n",
       "      <td>0.83</td>\n",
       "      <td>3.91</td>\n",
       "    </tr>\n",
       "    <tr>\n",
       "      <th>9</th>\n",
       "      <td>lipid metabolism</td>\n",
       "      <td>51437</td>\n",
       "      <td>39</td>\n",
       "      <td>4.03</td>\n",
       "      <td>10.53</td>\n",
       "    </tr>\n",
       "  </tbody>\n",
       "</table>\n",
       "</div>"
      ],
      "text/plain": [
       "                       Functional_Category  Total Length  Node Count  \\\n",
       "0                insertion seqs and phages        503748         346   \n",
       "1                                   PE/PPE        167166         647   \n",
       "2                     information pathways          4363          10   \n",
       "3                  conserved hypotheticals         66735         111   \n",
       "4             cell wall and cell processes         42715          73   \n",
       "5                              stable RNAs             0           0   \n",
       "6  intermediary metabolism and respiration         69088         105   \n",
       "7                      regulatory proteins         13000          21   \n",
       "8    virulence, detoxification, adaptation         10554           7   \n",
       "9                         lipid metabolism         51437          39   \n",
       "\n",
       "   Relative Size (%)  Percent_RefGeneLengths  \n",
       "0              39.46                    2.69  \n",
       "1              13.10                    7.01  \n",
       "2               0.34                    6.76  \n",
       "3               5.23                   18.77  \n",
       "4               3.35                   20.00  \n",
       "5               0.00                    0.20  \n",
       "6               5.41                   25.75  \n",
       "7               1.02                    4.18  \n",
       "8               0.83                    3.91  \n",
       "9               4.03                   10.53  "
      ]
     },
     "execution_count": 88,
     "metadata": {},
     "output_type": "execute_result"
    }
   ],
   "source": [
    "All_SV_nodes_summary"
   ]
  },
  {
   "cell_type": "code",
   "execution_count": 89,
   "id": "53dc7116-ef17-4f3b-b5bc-516a6dd448bc",
   "metadata": {},
   "outputs": [
    {
     "data": {
      "text/html": [
       "<div>\n",
       "<style scoped>\n",
       "    .dataframe tbody tr th:only-of-type {\n",
       "        vertical-align: middle;\n",
       "    }\n",
       "\n",
       "    .dataframe tbody tr th {\n",
       "        vertical-align: top;\n",
       "    }\n",
       "\n",
       "    .dataframe thead th {\n",
       "        text-align: right;\n",
       "    }\n",
       "</style>\n",
       "<table border=\"1\" class=\"dataframe\">\n",
       "  <thead>\n",
       "    <tr style=\"text-align: right;\">\n",
       "      <th></th>\n",
       "      <th>Functional_Category</th>\n",
       "      <th>Total Length</th>\n",
       "      <th>Node Count</th>\n",
       "      <th>Relative Size (%)</th>\n",
       "      <th>Percent_RefGeneLengths</th>\n",
       "    </tr>\n",
       "  </thead>\n",
       "  <tbody>\n",
       "    <tr>\n",
       "      <th>0</th>\n",
       "      <td>insertion seqs and phages</td>\n",
       "      <td>14643</td>\n",
       "      <td>7</td>\n",
       "      <td>4.86</td>\n",
       "      <td>2.69</td>\n",
       "    </tr>\n",
       "    <tr>\n",
       "      <th>1</th>\n",
       "      <td>PE/PPE</td>\n",
       "      <td>45845</td>\n",
       "      <td>185</td>\n",
       "      <td>15.21</td>\n",
       "      <td>7.01</td>\n",
       "    </tr>\n",
       "    <tr>\n",
       "      <th>2</th>\n",
       "      <td>information pathways</td>\n",
       "      <td>4249</td>\n",
       "      <td>8</td>\n",
       "      <td>1.41</td>\n",
       "      <td>6.76</td>\n",
       "    </tr>\n",
       "    <tr>\n",
       "      <th>3</th>\n",
       "      <td>conserved hypotheticals</td>\n",
       "      <td>23659</td>\n",
       "      <td>27</td>\n",
       "      <td>7.85</td>\n",
       "      <td>18.77</td>\n",
       "    </tr>\n",
       "    <tr>\n",
       "      <th>4</th>\n",
       "      <td>cell wall and cell processes</td>\n",
       "      <td>28466</td>\n",
       "      <td>37</td>\n",
       "      <td>9.44</td>\n",
       "      <td>20.00</td>\n",
       "    </tr>\n",
       "    <tr>\n",
       "      <th>5</th>\n",
       "      <td>stable RNAs</td>\n",
       "      <td>0</td>\n",
       "      <td>0</td>\n",
       "      <td>0.00</td>\n",
       "      <td>0.20</td>\n",
       "    </tr>\n",
       "    <tr>\n",
       "      <th>6</th>\n",
       "      <td>intermediary metabolism and respiration</td>\n",
       "      <td>40813</td>\n",
       "      <td>43</td>\n",
       "      <td>13.54</td>\n",
       "      <td>25.75</td>\n",
       "    </tr>\n",
       "    <tr>\n",
       "      <th>7</th>\n",
       "      <td>regulatory proteins</td>\n",
       "      <td>6849</td>\n",
       "      <td>7</td>\n",
       "      <td>2.27</td>\n",
       "      <td>4.18</td>\n",
       "    </tr>\n",
       "    <tr>\n",
       "      <th>8</th>\n",
       "      <td>virulence, detoxification, adaptation</td>\n",
       "      <td>9697</td>\n",
       "      <td>5</td>\n",
       "      <td>3.22</td>\n",
       "      <td>3.91</td>\n",
       "    </tr>\n",
       "    <tr>\n",
       "      <th>9</th>\n",
       "      <td>lipid metabolism</td>\n",
       "      <td>25307</td>\n",
       "      <td>24</td>\n",
       "      <td>8.39</td>\n",
       "      <td>10.53</td>\n",
       "    </tr>\n",
       "  </tbody>\n",
       "</table>\n",
       "</div>"
      ],
      "text/plain": [
       "                       Functional_Category  Total Length  Node Count  \\\n",
       "0                insertion seqs and phages         14643           7   \n",
       "1                                   PE/PPE         45845         185   \n",
       "2                     information pathways          4249           8   \n",
       "3                  conserved hypotheticals         23659          27   \n",
       "4             cell wall and cell processes         28466          37   \n",
       "5                              stable RNAs             0           0   \n",
       "6  intermediary metabolism and respiration         40813          43   \n",
       "7                      regulatory proteins          6849           7   \n",
       "8    virulence, detoxification, adaptation          9697           5   \n",
       "9                         lipid metabolism         25307          24   \n",
       "\n",
       "   Relative Size (%)  Percent_RefGeneLengths  \n",
       "0               4.86                    2.69  \n",
       "1              15.21                    7.01  \n",
       "2               1.41                    6.76  \n",
       "3               7.85                   18.77  \n",
       "4               9.44                   20.00  \n",
       "5               0.00                    0.20  \n",
       "6              13.54                   25.75  \n",
       "7               2.27                    4.18  \n",
       "8               3.22                    3.91  \n",
       "9               8.39                   10.53  "
      ]
     },
     "execution_count": 89,
     "metadata": {},
     "output_type": "execute_result"
    }
   ],
   "source": [
    "unique_nodes_summary"
   ]
  },
  {
   "cell_type": "code",
   "execution_count": 90,
   "id": "c15b7d34-a5bb-4e36-bd8f-e5337cd6f879",
   "metadata": {},
   "outputs": [
    {
     "data": {
      "text/html": [
       "<div>\n",
       "<style scoped>\n",
       "    .dataframe tbody tr th:only-of-type {\n",
       "        vertical-align: middle;\n",
       "    }\n",
       "\n",
       "    .dataframe tbody tr th {\n",
       "        vertical-align: top;\n",
       "    }\n",
       "\n",
       "    .dataframe thead th {\n",
       "        text-align: right;\n",
       "    }\n",
       "</style>\n",
       "<table border=\"1\" class=\"dataframe\">\n",
       "  <thead>\n",
       "    <tr style=\"text-align: right;\">\n",
       "      <th></th>\n",
       "      <th>Functional_Category</th>\n",
       "      <th>Total Length</th>\n",
       "      <th>Node Count</th>\n",
       "      <th>Relative Size (%)</th>\n",
       "      <th>Percent_RefGeneLengths</th>\n",
       "    </tr>\n",
       "  </thead>\n",
       "  <tbody>\n",
       "    <tr>\n",
       "      <th>0</th>\n",
       "      <td>insertion seqs and phages</td>\n",
       "      <td>489105</td>\n",
       "      <td>339</td>\n",
       "      <td>50.16</td>\n",
       "      <td>2.69</td>\n",
       "    </tr>\n",
       "    <tr>\n",
       "      <th>1</th>\n",
       "      <td>PE/PPE</td>\n",
       "      <td>121321</td>\n",
       "      <td>462</td>\n",
       "      <td>12.44</td>\n",
       "      <td>7.01</td>\n",
       "    </tr>\n",
       "    <tr>\n",
       "      <th>2</th>\n",
       "      <td>information pathways</td>\n",
       "      <td>114</td>\n",
       "      <td>2</td>\n",
       "      <td>0.01</td>\n",
       "      <td>6.76</td>\n",
       "    </tr>\n",
       "    <tr>\n",
       "      <th>3</th>\n",
       "      <td>conserved hypotheticals</td>\n",
       "      <td>43076</td>\n",
       "      <td>84</td>\n",
       "      <td>4.42</td>\n",
       "      <td>18.77</td>\n",
       "    </tr>\n",
       "    <tr>\n",
       "      <th>4</th>\n",
       "      <td>cell wall and cell processes</td>\n",
       "      <td>14249</td>\n",
       "      <td>36</td>\n",
       "      <td>1.46</td>\n",
       "      <td>20.00</td>\n",
       "    </tr>\n",
       "    <tr>\n",
       "      <th>5</th>\n",
       "      <td>stable RNAs</td>\n",
       "      <td>0</td>\n",
       "      <td>0</td>\n",
       "      <td>0.00</td>\n",
       "      <td>0.20</td>\n",
       "    </tr>\n",
       "    <tr>\n",
       "      <th>6</th>\n",
       "      <td>intermediary metabolism and respiration</td>\n",
       "      <td>28275</td>\n",
       "      <td>62</td>\n",
       "      <td>2.90</td>\n",
       "      <td>25.75</td>\n",
       "    </tr>\n",
       "    <tr>\n",
       "      <th>7</th>\n",
       "      <td>regulatory proteins</td>\n",
       "      <td>6151</td>\n",
       "      <td>14</td>\n",
       "      <td>0.63</td>\n",
       "      <td>4.18</td>\n",
       "    </tr>\n",
       "    <tr>\n",
       "      <th>8</th>\n",
       "      <td>virulence, detoxification, adaptation</td>\n",
       "      <td>857</td>\n",
       "      <td>2</td>\n",
       "      <td>0.09</td>\n",
       "      <td>3.91</td>\n",
       "    </tr>\n",
       "    <tr>\n",
       "      <th>9</th>\n",
       "      <td>lipid metabolism</td>\n",
       "      <td>26130</td>\n",
       "      <td>15</td>\n",
       "      <td>2.68</td>\n",
       "      <td>10.53</td>\n",
       "    </tr>\n",
       "  </tbody>\n",
       "</table>\n",
       "</div>"
      ],
      "text/plain": [
       "                       Functional_Category  Total Length  Node Count  \\\n",
       "0                insertion seqs and phages        489105         339   \n",
       "1                                   PE/PPE        121321         462   \n",
       "2                     information pathways           114           2   \n",
       "3                  conserved hypotheticals         43076          84   \n",
       "4             cell wall and cell processes         14249          36   \n",
       "5                              stable RNAs             0           0   \n",
       "6  intermediary metabolism and respiration         28275          62   \n",
       "7                      regulatory proteins          6151          14   \n",
       "8    virulence, detoxification, adaptation           857           2   \n",
       "9                         lipid metabolism         26130          15   \n",
       "\n",
       "   Relative Size (%)  Percent_RefGeneLengths  \n",
       "0              50.16                    2.69  \n",
       "1              12.44                    7.01  \n",
       "2               0.01                    6.76  \n",
       "3               4.42                   18.77  \n",
       "4               1.46                   20.00  \n",
       "5               0.00                    0.20  \n",
       "6               2.90                   25.75  \n",
       "7               0.63                    4.18  \n",
       "8               0.09                    3.91  \n",
       "9               2.68                   10.53  "
      ]
     },
     "execution_count": 90,
     "metadata": {},
     "output_type": "execute_result"
    }
   ],
   "source": [
    "nonunique_nodes_summary"
   ]
  },
  {
   "cell_type": "code",
   "execution_count": null,
   "id": "d3caac75-135c-49c9-8a6a-e59b18bb4c1e",
   "metadata": {},
   "outputs": [],
   "source": []
  },
  {
   "cell_type": "code",
   "execution_count": null,
   "id": "e0b21e23-ff43-4475-ab4b-1ed69ceba6c9",
   "metadata": {},
   "outputs": [],
   "source": []
  },
  {
   "cell_type": "markdown",
   "id": "bdfc9995-7b06-4f39-bcbb-59d607a2f337",
   "metadata": {},
   "source": [
    "# Parse PG Tool outputs"
   ]
  },
  {
   "cell_type": "markdown",
   "id": "60c15ca7-af0c-489d-8032-70d8ac2dabfb",
   "metadata": {},
   "source": [
    "## Define output dirs of Pangenome Analysis pipelines"
   ]
  },
  {
   "cell_type": "code",
   "execution_count": 91,
   "id": "98abd505-53b5-46f1-b9a2-13cb67a2964e",
   "metadata": {},
   "outputs": [],
   "source": [
    "target_OutputDir = MtbWGA_SMK_Pipeline_OutputDir\n",
    "\n",
    "i_Pangenome_Dir = f\"{target_OutputDir}/PanGenome_Analysis\"\n"
   ]
  },
  {
   "cell_type": "markdown",
   "id": "0d9d0486-2c40-4fdb-b48f-73124d312a4a",
   "metadata": {},
   "source": [
    "### Define path to Panaroo output files (151 LR genomes, MergeParalogs Parameters)"
   ]
  },
  {
   "cell_type": "code",
   "execution_count": 92,
   "id": "481b2a26-bec1-4798-822e-48f687d8f23a",
   "metadata": {},
   "outputs": [],
   "source": [
    "\n",
    "PG_OutDir_Dict = {   \"Panaroo_Strict_MP\": f\"{i_Pangenome_Dir}/Panaroo_Strict_MergeParalogs_AllIsolates\",\n",
    "                     \"Panaroo_Moderate_MP\": f\"{i_Pangenome_Dir}/Panaroo_Moderate_MergeParalogs_AllIsolates\",\n",
    "                     \"Panaroo_Sens_MP\": f\"{i_Pangenome_Dir}/Panaroo_Sensitive_MergeParalogs_AllIsolates\",\n",
    "                     # \"Panaroo_Strict\": f\"{i_Pangenome_Dir}/Panaroo_Strict_AllIsolates\",\n",
    "                     # \"Panaroo_Moderate\": f\"{i_Pangenome_Dir}/Panaroo_Moderate_AllIsolates\",\n",
    "                     # \"Panaroo_Sens\": f\"{i_Pangenome_Dir}/Panaroo_Sensitive_AllIsolates\",\n",
    "                     \"Roary_Default\": f\"{i_Pangenome_Dir}/Roary_Default_AllIsolates\",\n",
    "                     \"Roary_NoSplitParalogs\": f\"{i_Pangenome_Dir}/Roary_NoSplitParalogs_AllIsolates\",\n",
    "                     \"Roary_NoSplitParalogs_I80\": f\"{i_Pangenome_Dir}/Roary_NoSplitParalogs_I80_AllIsolates\",\n",
    "                     \"Roary_NoSplitParalogs_I90\": f\"{i_Pangenome_Dir}/Roary_NoSplitParalogs_I90_AllIsolates\",\n",
    "                     \"SR_Panaroo_Strict_MP\": f\"{i_Pangenome_Dir}/SR_Panaroo_Strict_MergeParalogs_AllIsolates\",\n",
    "                     \"SR_Panaroo_Strict_MP\": f\"{i_Pangenome_Dir}/SR_Panaroo_Strict_MergeParalogs_AllIsolates\",\n",
    "                     \"SR_Panaroo_Sens_MP\": f\"{i_Pangenome_Dir}/SR_Panaroo_Sensitive_MergeParalogs_AllIsolates\",\n",
    "                     \"SR_Roary_Default\": f\"{i_Pangenome_Dir}/SR_Roary_Default_AllIsolates\",\n",
    "                     \"SR_Roary_NoSplitParalogs\": f\"{i_Pangenome_Dir}/SR_Roary_NoSplitParalogs_AllIsolates\",\n",
    "                     \"SR_Roary_NoSplitParalogs_I80\": f\"{i_Pangenome_Dir}/SR_Roary_NoSplitParalogs_I80_AllIsolates\",\n",
    "                     \"SR_Roary_NoSplitParalogs_I90\": f\"{i_Pangenome_Dir}/SR_Roary_NoSplitParalogs_I90_AllIsolates\",}\n",
    "\n",
    "\n",
    "PG_PresAbs_CSV_PATH_Dict = {}\n",
    "for i_param, i_outdir in PG_OutDir_Dict.items():\n",
    "    PG_PresAbs_CSV_PATH_Dict[i_param] = f\"{i_outdir}/gene_presence_absence.csv\"  \n",
    "    \n",
    "PG_PresAbs_Rtab_PATH_Dict = {}\n",
    "for i_param, i_outdir in PG_OutDir_Dict.items():\n",
    "    PG_PresAbs_Rtab_PATH_Dict[i_param] = f\"{i_outdir}/gene_presence_absence.Rtab\"  \n",
    "\n",
    "PG_GeneRefFA_PATH_Dict = {}\n",
    "for i_param, i_outdir in PG_OutDir_Dict.items():\n",
    "    PG_GeneRefFA_PATH_Dict[i_param] = f\"{i_outdir}/pan_genome_reference.fa\"  \n",
    "\n",
    "PG_AvA_PATH_Dict = {}\n",
    "for i_param, i_outdir in PG_OutDir_Dict.items():\n",
    "    PG_AvA_PATH_Dict[i_param] = f\"{i_outdir}/pan_genome_reference.KmerComparison.AllVsAll.MaxJC.tsv\"\n",
    "\n"
   ]
  },
  {
   "cell_type": "code",
   "execution_count": null,
   "id": "3d645900-4635-4d04-9398-d34396b39855",
   "metadata": {},
   "outputs": [],
   "source": []
  },
  {
   "cell_type": "code",
   "execution_count": null,
   "id": "8640a132-d14a-4b9b-a6ef-2c9a9b04a49e",
   "metadata": {},
   "outputs": [],
   "source": []
  },
  {
   "cell_type": "markdown",
   "id": "6b4236ed-ae8d-45af-b61c-cc00f80ed6aa",
   "metadata": {},
   "source": [
    "# Parse in processed data"
   ]
  },
  {
   "cell_type": "markdown",
   "id": "4700a1d9-8ebe-4c64-9b26-d4139f1c9edb",
   "metadata": {},
   "source": [
    "### A) Parse in processed All vs All Kmer analysis"
   ]
  },
  {
   "cell_type": "code",
   "execution_count": 93,
   "id": "d6211a96-1dc0-456d-973b-073cde9ea100",
   "metadata": {},
   "outputs": [],
   "source": [
    "# AvA_DF_Dict = {}\n",
    "\n",
    "# for i_Param, AvA_TSV_PATH in PG_AvA_PATH_Dict.items():\n",
    "\n",
    "#     PG_AvA_DF = pd.read_csv(AvA_TSV_PATH, sep = \"\\t\" )\n",
    "#     AvA_DF_Dict[i_Param] = PG_AvA_DF\n"
   ]
  },
  {
   "cell_type": "code",
   "execution_count": null,
   "id": "ac429491-2094-4e04-a83e-882010f22be8",
   "metadata": {},
   "outputs": [],
   "source": []
  },
  {
   "cell_type": "markdown",
   "id": "6ddb21ad-066e-46ea-8629-75816e2dab80",
   "metadata": {},
   "source": [
    "### B) Parse in Gene PresAbs Info"
   ]
  },
  {
   "cell_type": "code",
   "execution_count": 94,
   "id": "6c942bc6-5524-40ec-94d3-f5dd04b32c5b",
   "metadata": {},
   "outputs": [
    {
     "name": "stderr",
     "output_type": "stream",
     "text": [
      "/home/mm774/conda3/envs/py37_S/lib/python3.7/site-packages/ipykernel_launcher.py:8: DtypeWarning: Columns (5,10,12,14,16,24,30,31,32,43,44,48,51,57,59,60,61,62,63,64,68,69,70,71,72,73,74,76,79,82,83,84,86,87,88,89,90,91,93,94,95,96,97,98,99,100,101,102,103,104,105,108,109,110,111,112,113,114,116,117,119,121,122,123,124,126,128,130,132,136,137,140,141,142,144,146,147,148,149,150,151,152,153) have mixed types.Specify dtype option on import or set low_memory=False.\n",
      "  \n"
     ]
    },
    {
     "name": "stdout",
     "output_type": "stream",
     "text": [
      "Panaroo_Strict_MP (4200, 153)\n"
     ]
    },
    {
     "name": "stderr",
     "output_type": "stream",
     "text": [
      "/home/mm774/conda3/envs/py37_S/lib/python3.7/site-packages/ipykernel_launcher.py:8: DtypeWarning: Columns (12,14,16) have mixed types.Specify dtype option on import or set low_memory=False.\n",
      "  \n"
     ]
    },
    {
     "name": "stdout",
     "output_type": "stream",
     "text": [
      "Panaroo_Moderate_MP (4280, 153)\n",
      "Panaroo_Sens_MP (4281, 153)\n",
      "Roary_Default (5366, 153)\n"
     ]
    },
    {
     "name": "stderr",
     "output_type": "stream",
     "text": [
      "/home/mm774/conda3/envs/py37_S/lib/python3.7/site-packages/ipykernel_launcher.py:6: DtypeWarning: Columns (32,41,59,60,68,69,70,71,76,79,81,82,83,84,85,90,93,95,99,100,102,103,104,105,108,110,111,116,117,123,128,131,141,143,146,147,149,157,162,164) have mixed types.Specify dtype option on import or set low_memory=False.\n",
      "  \n"
     ]
    },
    {
     "name": "stdout",
     "output_type": "stream",
     "text": [
      "Roary_NoSplitParalogs (4366, 153)\n"
     ]
    },
    {
     "name": "stderr",
     "output_type": "stream",
     "text": [
      "/home/mm774/conda3/envs/py37_S/lib/python3.7/site-packages/ipykernel_launcher.py:6: DtypeWarning: Columns (16,18,31,32,34,35,37,41,44,45,47,49,52,53,56,59,60,63,64,67,68,69,70,71,73,74,75,76,77,79,80,81,82,83,84,85,86,88,89,90,91,92,93,95,99,100,102,103,104,105,108,110,111,116,117,123,128,131,135,136,137,138,139,140,141,143,145,146,147,149,157,161,162,164) have mixed types.Specify dtype option on import or set low_memory=False.\n",
      "  \n"
     ]
    },
    {
     "name": "stdout",
     "output_type": "stream",
     "text": [
      "Roary_NoSplitParalogs_I80 (4252, 153)\n"
     ]
    },
    {
     "name": "stderr",
     "output_type": "stream",
     "text": [
      "/home/mm774/conda3/envs/py37_S/lib/python3.7/site-packages/ipykernel_launcher.py:6: DtypeWarning: Columns (16,18,31,32,35,37,41,52,56,59,60,68,69,70,71,73,76,77,79,80,81,82,83,84,85,90,92,93,95,99,100,102,103,104,105,108,110,111,116,117,123,128,131,136,139,141,143,146,147,149,157,162,164) have mixed types.Specify dtype option on import or set low_memory=False.\n",
      "  \n"
     ]
    },
    {
     "name": "stdout",
     "output_type": "stream",
     "text": [
      "Roary_NoSplitParalogs_I90 (4293, 153)\n"
     ]
    },
    {
     "name": "stderr",
     "output_type": "stream",
     "text": [
      "/home/mm774/conda3/envs/py37_S/lib/python3.7/site-packages/ipykernel_launcher.py:8: DtypeWarning: Columns (7,13,18,26,29,39,89,110,111,125,134,151) have mixed types.Specify dtype option on import or set low_memory=False.\n",
      "  \n"
     ]
    },
    {
     "name": "stdout",
     "output_type": "stream",
     "text": [
      "SR_Panaroo_Strict_MP (4211, 153)\n",
      "SR_Panaroo_Sens_MP (4600, 153)\n",
      "SR_Roary_Default (6006, 153)\n",
      "SR_Roary_NoSplitParalogs (5025, 153)\n",
      "SR_Roary_NoSplitParalogs_I80 (4866, 153)\n",
      "SR_Roary_NoSplitParalogs_I90 (4956, 153)\n"
     ]
    }
   ],
   "source": [
    "PresAbs_DF_Dict = {}\n",
    "\n",
    "for i_Param, PresAbs_CSV_PATH in PG_PresAbs_CSV_PATH_Dict.items():\n",
    "\n",
    "    if \"Roary\" in i_Param: \n",
    "        i_Gene_PresAbs_DF = parse_PresAbs_CSV_Roary(PresAbs_CSV_PATH)\n",
    "    else:\n",
    "        i_Gene_PresAbs_DF = parse_PresAbs_CSV_Panaroo(PresAbs_CSV_PATH)\n",
    "\n",
    "    ### Relabel Columns for presence/absence tracking\n",
    "    i_Gene_PresAbs_DF.columns = [ x.split(\".Bakta\")[0] for x in i_Gene_PresAbs_DF.columns ]\n",
    "\n",
    "    print(i_Param, i_Gene_PresAbs_DF.shape)\n",
    "    \n",
    "    PresAbs_DF_Dict[i_Param] = i_Gene_PresAbs_DF\n",
    "    "
   ]
  },
  {
   "cell_type": "markdown",
   "id": "c289766b-4d0c-42c7-9087-db9865a53ed8",
   "metadata": {},
   "source": [
    "### C) Parse in PG Gene Reference FASTAs for each PG output"
   ]
  },
  {
   "cell_type": "code",
   "execution_count": 95,
   "id": "6e2dd483-ef88-45ee-843a-a2de6b188b32",
   "metadata": {},
   "outputs": [
    {
     "name": "stdout",
     "output_type": "stream",
     "text": [
      "Panaroo_Strict_MP 4200\n",
      "Panaroo_Moderate_MP 4280\n",
      "Panaroo_Sens_MP 4281\n",
      "Roary_Default 5366\n",
      "Roary_NoSplitParalogs 4366\n",
      "Roary_NoSplitParalogs_I80 4252\n",
      "Roary_NoSplitParalogs_I90 4293\n",
      "SR_Panaroo_Strict_MP 4211\n",
      "SR_Panaroo_Sens_MP 4600\n",
      "SR_Roary_Default 6006\n",
      "SR_Roary_NoSplitParalogs 5025\n",
      "SR_Roary_NoSplitParalogs_I80 4866\n",
      "SR_Roary_NoSplitParalogs_I90 4956\n"
     ]
    }
   ],
   "source": [
    "\n",
    "PG_RefSeqs_DF_Dict = {}\n",
    "\n",
    "for i_Param, i_PG_Ref_FA_PATH in PG_GeneRefFA_PATH_Dict.items():\n",
    "\n",
    "    PG_RefSeqs_DF_Dict[i_Param] = parse_PG_Ref_FA(i_PG_Ref_FA_PATH)\n",
    "\n",
    "    LR_PG_Ref_IDs = list( PG_RefSeqs_DF_Dict[i_Param].keys())\n",
    "    print(i_Param, len(LR_PG_Ref_IDs))\n",
    "    "
   ]
  },
  {
   "cell_type": "markdown",
   "id": "699a57be-b567-4069-bb18-1f8b49950cbb",
   "metadata": {},
   "source": [
    "### Define functions for gene sequence classification"
   ]
  },
  {
   "cell_type": "code",
   "execution_count": 96,
   "id": "8401cb88-34d6-4422-897a-62d96774ff3b",
   "metadata": {},
   "outputs": [],
   "source": [
    "# Define function to classify a node based on a threshold\n",
    "def classify_node(row, i_listOf_JC_Cols, threshold=0.25):\n",
    "    filtered_matches = {col: row[col] for col in i_listOf_JC_Cols if row[col] >= threshold}\n",
    "    if filtered_matches:\n",
    "        max_value = max(filtered_matches.values())\n",
    "        strongest_categories = [\n",
    "            col for col, value in filtered_matches.items() if value == max_value\n",
    "        ]\n",
    "\n",
    "        if len(strongest_categories) == 1:\n",
    "            return strongest_categories[0]\n",
    "        else:\n",
    "            return tuple(strongest_categories)\n",
    "            \n",
    "    return \"None\"  # No valid matches"
   ]
  },
  {
   "cell_type": "code",
   "execution_count": null,
   "id": "8d666fa7-7282-4b38-beb5-02278336fe4e",
   "metadata": {},
   "outputs": [],
   "source": []
  },
  {
   "cell_type": "code",
   "execution_count": null,
   "id": "edfbe94b-c658-470f-b3cf-5030dfd7285a",
   "metadata": {},
   "outputs": [],
   "source": []
  },
  {
   "cell_type": "code",
   "execution_count": 97,
   "id": "74aaa977-5608-443a-be38-7ce235d27727",
   "metadata": {},
   "outputs": [],
   "source": [
    "def create_simple_gene_df(Ref_DictOf_Hashes, Ref_DictOf_SeqLen, i_N_AsmWiGene_Dict):\n",
    "    \"\"\"\n",
    "    Computes k-mer match Jaccard containment for genes.\n",
    "    \n",
    "    Args:\n",
    "        Ref_DictOf_Hashes (dict): Dictionary mapping GeneID to sets of k-mers (hashes).\n",
    "        Ref_DictOf_SeqLen (dict): Dictionary mapping GeneID to their sequence lengths.\n",
    "        category_hash_sets (dict): Dictionary of category names mapping to hash sets.\n",
    "        N_AsmWiGene_Dict (dict): Dictionary mapping GeneID to number of assemblies matching the gene.\n",
    "    \n",
    "    Returns:\n",
    "        pd.DataFrame: DataFrame summarizing Jaccard containment results for all genes.\n",
    "    \"\"\"\n",
    "    gene_analysis_rows = []\n",
    "\n",
    "    for GeneID, Gene_Hashes_Set in tqdm(Ref_DictOf_Hashes.items()):\n",
    "        Len_Seq = Ref_DictOf_SeqLen.get(GeneID, 0)\n",
    "        record_hashes_set = Gene_Hashes_Set\n",
    "\n",
    "        # Prepare row for the DataFrame\n",
    "        row = [GeneID, Len_Seq]\n",
    "        gene_analysis_rows.append(row)\n",
    "\n",
    "    # Create the DataFrame\n",
    "    columns = [\"GeneID\", \"SeqLength\"]\n",
    "    gene_kmer_match_df = pd.DataFrame(gene_analysis_rows, columns=columns)\n",
    "\n",
    "    # Add the number of assemblies matching the gene\n",
    "    gene_kmer_match_df[\"NumAsm_WiGene\"] = gene_kmer_match_df[\"GeneID\"].map(i_N_AsmWiGene_Dict)\n",
    "\n",
    "    return gene_kmer_match_df"
   ]
  },
  {
   "cell_type": "code",
   "execution_count": null,
   "id": "b96a5c94-4d17-467c-8f81-fc84d334b864",
   "metadata": {},
   "outputs": [],
   "source": []
  },
  {
   "cell_type": "code",
   "execution_count": 98,
   "id": "2fe5ff0a-7133-41bb-b8b8-ae2d0dd5ba3d",
   "metadata": {},
   "outputs": [],
   "source": [
    "def compute_kmer_match_df(Ref_DictOf_Hashes, Ref_DictOf_SeqLen, category_hash_sets, N_AsmWiGene_Dict):\n",
    "    \"\"\"\n",
    "    Computes k-mer match Jaccard containment for genes.\n",
    "    \n",
    "    Args:\n",
    "        Ref_DictOf_Hashes (dict): Dictionary mapping GeneID to sets of k-mers (hashes).\n",
    "        Ref_DictOf_SeqLen (dict): Dictionary mapping GeneID to their sequence lengths.\n",
    "        category_hash_sets (dict): Dictionary of category names mapping to hash sets.\n",
    "        N_AsmWiGene_Dict (dict): Dictionary mapping GeneID to number of assemblies matching the gene.\n",
    "    \n",
    "    Returns:\n",
    "        pd.DataFrame: DataFrame summarizing Jaccard containment results for all genes.\n",
    "    \"\"\"\n",
    "    gene_analysis_rows = []\n",
    "\n",
    "    for GeneID, Gene_Hashes_Set in tqdm(Ref_DictOf_Hashes.items()):\n",
    "        Len_Seq = Ref_DictOf_SeqLen.get(GeneID, 0)\n",
    "        record_hashes_set = Gene_Hashes_Set\n",
    "\n",
    "        # Initialize results for Jaccard containment\n",
    "        jc_results = {}\n",
    "\n",
    "        if len(record_hashes_set) != 0:\n",
    "            # Calculate Jaccard containment for each category\n",
    "            for category, hash_set in category_hash_sets.items():\n",
    "                jc_results[category] = jaccard_containment_FromSets(record_hashes_set, hash_set)\n",
    "        else:\n",
    "            # Set all results to 0 if no hashes exist\n",
    "            jc_results = {category: 0 for category in category_hash_sets}\n",
    "            if Len_Seq < 31:\n",
    "                print(f\"No kmers were produced for segment: {GeneID}\")\n",
    "\n",
    "        # Prepare row for the DataFrame\n",
    "        row = [GeneID, Len_Seq] + list(jc_results.values())\n",
    "        gene_analysis_rows.append(row)\n",
    "\n",
    "    # Create the DataFrame\n",
    "    columns = [\"GeneID\", \"SeqLength\"] + list(category_hash_sets.keys())\n",
    "    gene_kmer_match_df = pd.DataFrame(gene_analysis_rows, columns=columns)\n",
    "\n",
    "    # Add the number of assemblies matching the gene\n",
    "    gene_kmer_match_df[\"NumAsm_WiGene\"] = gene_kmer_match_df[\"GeneID\"].map(N_AsmWiGene_Dict)\n",
    "\n",
    "    return gene_kmer_match_df"
   ]
  },
  {
   "cell_type": "code",
   "execution_count": null,
   "id": "e38341c8-a90c-456a-8eea-c0882f3ad35b",
   "metadata": {},
   "outputs": [],
   "source": []
  },
  {
   "cell_type": "code",
   "execution_count": 99,
   "id": "0bd70248-add0-4bba-84c8-d343101665ed",
   "metadata": {},
   "outputs": [],
   "source": [
    "ListOf_Rv_GeneCats = ['information pathways', 'conserved hypotheticals', 'cell wall and cell processes', 'stable RNAs', 'intermediary metabolism and respiration', 'regulatory proteins', 'virulence, detoxification, adaptation', 'insertion seqs and phages', 'lipid metabolism', 'PE/PPE', 'unknown']\n"
   ]
  },
  {
   "cell_type": "code",
   "execution_count": 100,
   "id": "33be01fc-aed6-44bf-9193-375f61626c60",
   "metadata": {},
   "outputs": [
    {
     "data": {
      "text/plain": [
       "dict_keys(['information pathways', 'conserved hypotheticals', 'cell wall and cell processes', 'stable RNAs', 'intermediary metabolism and respiration', 'regulatory proteins', 'virulence, detoxification, adaptation', 'insertion seqs and phages', 'lipid metabolism', 'PE/PPE', 'unknown'])"
      ]
     },
     "execution_count": 100,
     "metadata": {},
     "output_type": "execute_result"
    }
   ],
   "source": [
    "RvGeneCat_To_KmerHashes_Dict.keys()"
   ]
  },
  {
   "cell_type": "code",
   "execution_count": 101,
   "id": "24f5c4e8-a5fa-4f97-8fc0-b4ac639098cc",
   "metadata": {},
   "outputs": [],
   "source": [
    "#PG_GeneRefFA_PATH_Dict"
   ]
  },
  {
   "cell_type": "code",
   "execution_count": null,
   "id": "5d742dd4-3a44-4819-98b1-6c09af2055ff",
   "metadata": {},
   "outputs": [],
   "source": []
  },
  {
   "cell_type": "code",
   "execution_count": null,
   "id": "78ac4da9-48a3-4abe-a76b-feec1b1f78c4",
   "metadata": {},
   "outputs": [],
   "source": []
  },
  {
   "cell_type": "markdown",
   "id": "0d997112-5711-4442-bd58-34194ec95879",
   "metadata": {},
   "source": [
    "## D) Perform gene-level classification"
   ]
  },
  {
   "cell_type": "code",
   "execution_count": 129,
   "id": "a8551a11-5971-4c0b-88ea-188f27a0cdac",
   "metadata": {
    "scrolled": true
   },
   "outputs": [
    {
     "name": "stderr",
     "output_type": "stream",
     "text": [
      "  0%|          | 0/13 [00:00<?, ?it/s]"
     ]
    },
    {
     "name": "stdout",
     "output_type": "stream",
     "text": [
      "4200  total records were parsed\n"
     ]
    },
    {
     "name": "stderr",
     "output_type": "stream",
     "text": [
      "\n",
      "  0%|          | 0/4200 [00:00<?, ?it/s]\u001b[A\n",
      "100%|██████████| 4200/4200 [00:00<00:00, 56080.19it/s]\u001b[A\n",
      "  0%|          | 0/4200 [00:00<?, ?it/s]\u001b[A"
     ]
    },
    {
     "name": "stdout",
     "output_type": "stream",
     "text": [
      "Panaroo_Strict_MP 4200 4200\n",
      "4200\n"
     ]
    },
    {
     "name": "stderr",
     "output_type": "stream",
     "text": [
      "\n",
      "  1%|▏         | 59/4200 [00:00<00:07, 588.72it/s]\u001b[A\n",
      "  3%|▎         | 141/4200 [00:00<00:06, 640.94it/s]\u001b[A\n",
      "  6%|▌         | 239/4200 [00:00<00:05, 711.84it/s]\u001b[A\n",
      "  8%|▊         | 334/4200 [00:00<00:05, 769.71it/s]\u001b[A\n",
      " 11%|█         | 455/4200 [00:00<00:04, 863.30it/s]\u001b[A\n",
      " 14%|█▎        | 573/4200 [00:00<00:03, 938.68it/s]\u001b[A\n",
      " 16%|█▌        | 667/4200 [00:00<00:03, 936.11it/s]\u001b[A\n",
      " 19%|█▊        | 779/4200 [00:00<00:03, 983.33it/s]\u001b[A\n",
      " 21%|██        | 878/4200 [00:00<00:03, 948.36it/s]\u001b[A\n",
      " 23%|██▎       | 974/4200 [00:01<00:03, 950.91it/s]\u001b[A\n",
      " 25%|██▌       | 1070/4200 [00:01<00:03, 950.13it/s]\u001b[A\n",
      " 28%|██▊       | 1166/4200 [00:01<00:03, 950.35it/s]\u001b[A\n",
      " 30%|███       | 1262/4200 [00:01<00:03, 951.48it/s]\u001b[A\n",
      " 33%|███▎      | 1390/4200 [00:01<00:02, 1028.22it/s]\u001b[A\n",
      " 36%|███▌      | 1495/4200 [00:01<00:02, 1006.73it/s]\u001b[A\n",
      " 38%|███▊      | 1598/4200 [00:01<00:02, 971.93it/s] \u001b[A\n",
      " 40%|████      | 1697/4200 [00:01<00:02, 948.59it/s]\u001b[A\n",
      " 43%|████▎     | 1801/4200 [00:01<00:02, 970.29it/s]\u001b[A\n",
      " 46%|████▌     | 1913/4200 [00:01<00:02, 1008.05it/s]\u001b[A\n",
      " 48%|████▊     | 2015/4200 [00:02<00:02, 955.40it/s] \u001b[A\n",
      " 50%|█████     | 2112/4200 [00:02<00:03, 624.81it/s]\u001b[A\n",
      " 53%|█████▎    | 2209/4200 [00:02<00:02, 696.49it/s]\u001b[A\n",
      " 55%|█████▌    | 2324/4200 [00:02<00:02, 789.83it/s]\u001b[A\n",
      " 58%|█████▊    | 2423/4200 [00:02<00:02, 836.61it/s]\u001b[A\n",
      " 60%|██████    | 2529/4200 [00:02<00:01, 889.15it/s]\u001b[A\n",
      " 63%|██████▎   | 2660/4200 [00:02<00:01, 982.62it/s]\u001b[A\n",
      " 67%|██████▋   | 2796/4200 [00:02<00:01, 1070.02it/s]\u001b[A\n",
      " 69%|██████▉   | 2912/4200 [00:03<00:01, 1032.09it/s]\u001b[A\n",
      " 72%|███████▏  | 3023/4200 [00:03<00:01, 1051.45it/s]\u001b[A\n",
      " 75%|███████▍  | 3133/4200 [00:03<00:01, 1039.91it/s]\u001b[A\n",
      " 77%|███████▋  | 3241/4200 [00:03<00:00, 1015.82it/s]\u001b[A\n",
      " 80%|███████▉  | 3345/4200 [00:03<00:00, 981.65it/s] \u001b[A\n",
      " 82%|████████▏ | 3446/4200 [00:03<00:00, 910.48it/s]\u001b[A\n",
      " 84%|████████▍ | 3540/4200 [00:03<00:00, 866.88it/s]\u001b[A\n",
      " 86%|████████▋ | 3629/4200 [00:03<00:00, 810.28it/s]\u001b[A\n",
      " 88%|████████▊ | 3713/4200 [00:04<00:00, 690.98it/s]\u001b[A\n",
      " 90%|█████████ | 3787/4200 [00:04<00:00, 655.34it/s]\u001b[A\n",
      " 92%|█████████▏| 3864/4200 [00:04<00:00, 684.56it/s]\u001b[A\n",
      " 94%|█████████▎| 3936/4200 [00:04<00:00, 667.22it/s]\u001b[A\n",
      " 95%|█████████▌| 4005/4200 [00:04<00:00, 661.09it/s]\u001b[A\n",
      " 97%|█████████▋| 4073/4200 [00:04<00:00, 649.00it/s]\u001b[A\n",
      " 99%|█████████▊| 4140/4200 [00:04<00:00, 652.03it/s]\u001b[A\n",
      "  8%|▊         | 1/13 [00:37<07:33, 37.83s/it]5it/s]\u001b[A"
     ]
    },
    {
     "name": "stdout",
     "output_type": "stream",
     "text": [
      "\n",
      "\n",
      "\n"
     ]
    },
    {
     "name": "stderr",
     "output_type": "stream",
     "text": [
      "\n",
      "  0%|          | 0/4280 [00:00<?, ?it/s]\u001b[A"
     ]
    },
    {
     "name": "stdout",
     "output_type": "stream",
     "text": [
      "4280  total records were parsed\n",
      "Panaroo_Moderate_MP 4280 4280\n"
     ]
    },
    {
     "name": "stderr",
     "output_type": "stream",
     "text": [
      "\n",
      " 50%|█████     | 2151/4280 [00:00<00:00, 7090.36it/s]\u001b[A\n",
      "100%|██████████| 4280/4280 [00:00<00:00, 13630.12it/s]\u001b[A\n",
      "  0%|          | 0/4280 [00:00<?, ?it/s]\u001b[A\n",
      "  1%|▏         | 61/4280 [00:00<00:06, 607.97it/s]\u001b[A"
     ]
    },
    {
     "name": "stdout",
     "output_type": "stream",
     "text": [
      "4280\n"
     ]
    },
    {
     "name": "stderr",
     "output_type": "stream",
     "text": [
      "\n",
      "  3%|▎         | 146/4280 [00:00<00:06, 662.57it/s]\u001b[A\n",
      "  6%|▌         | 247/4280 [00:00<00:05, 737.99it/s]\u001b[A\n",
      "  8%|▊         | 352/4280 [00:00<00:04, 809.36it/s]\u001b[A\n",
      " 11%|█         | 473/4280 [00:00<00:04, 898.10it/s]\u001b[A\n",
      " 14%|█▍        | 589/4280 [00:00<00:03, 962.90it/s]\u001b[A\n",
      " 16%|█▌        | 691/4280 [00:00<00:03, 976.60it/s]\u001b[A\n",
      " 19%|█▉        | 805/4280 [00:00<00:03, 1020.11it/s]\u001b[A\n",
      " 21%|██        | 907/4280 [00:00<00:03, 985.62it/s] \u001b[A\n",
      " 24%|██▎       | 1010/4280 [00:01<00:03, 996.37it/s]\u001b[A\n",
      " 26%|██▌       | 1113/4280 [00:01<00:03, 1001.28it/s]\u001b[A\n",
      " 28%|██▊       | 1214/4280 [00:01<00:03, 997.50it/s] \u001b[A\n",
      " 32%|███▏      | 1351/4280 [00:01<00:02, 1081.09it/s]\u001b[A\n",
      " 34%|███▍      | 1463/4280 [00:01<00:02, 1089.94it/s]\u001b[A\n",
      " 37%|███▋      | 1574/4280 [00:01<00:02, 1045.85it/s]\u001b[A\n",
      " 39%|███▉      | 1680/4280 [00:01<00:02, 956.08it/s] \u001b[A\n",
      " 42%|████▏     | 1784/4280 [00:01<00:02, 979.64it/s]\u001b[A\n",
      " 44%|████▍     | 1901/4280 [00:01<00:02, 1028.13it/s]\u001b[A\n",
      " 47%|████▋     | 2006/4280 [00:01<00:02, 984.73it/s] \u001b[A\n",
      " 49%|████▉     | 2112/4280 [00:02<00:02, 1000.56it/s]\u001b[A\n",
      " 52%|█████▏    | 2218/4280 [00:02<00:02, 1014.95it/s]\u001b[A\n",
      " 55%|█████▍    | 2341/4280 [00:02<00:01, 1070.48it/s]\u001b[A\n",
      " 57%|█████▋    | 2450/4280 [00:02<00:01, 1066.54it/s]\u001b[A\n",
      " 60%|█████▉    | 2561/4280 [00:02<00:01, 1078.53it/s]\u001b[A\n",
      " 64%|██████▍   | 2754/4280 [00:02<00:01, 1242.92it/s]\u001b[A\n",
      " 67%|██████▋   | 2888/4280 [00:02<00:01, 1241.54it/s]\u001b[A\n",
      " 71%|███████   | 3019/4280 [00:02<00:01, 1190.78it/s]\u001b[A\n",
      " 73%|███████▎  | 3144/4280 [00:02<00:00, 1189.52it/s]\u001b[A\n",
      " 76%|███████▋  | 3267/4280 [00:03<00:00, 1158.72it/s]\u001b[A\n",
      " 79%|███████▉  | 3386/4280 [00:03<00:00, 1113.18it/s]\u001b[A\n",
      " 82%|████████▏ | 3500/4280 [00:03<00:00, 1053.91it/s]\u001b[A\n",
      " 84%|████████▍ | 3608/4280 [00:03<00:00, 1004.25it/s]\u001b[A\n",
      " 87%|████████▋ | 3711/4280 [00:03<00:00, 924.19it/s] \u001b[A\n",
      " 89%|████████▉ | 3807/4280 [00:03<00:00, 767.13it/s]\u001b[A\n",
      " 91%|█████████ | 3891/4280 [00:03<00:00, 739.55it/s]\u001b[A\n",
      " 93%|█████████▎| 3970/4280 [00:03<00:00, 727.18it/s]\u001b[A\n",
      " 95%|█████████▍| 4047/4280 [00:04<00:00, 722.86it/s]\u001b[A\n",
      " 96%|█████████▋| 4122/4280 [00:04<00:00, 697.56it/s]\u001b[A\n",
      " 98%|█████████▊| 4194/4280 [00:04<00:00, 687.67it/s]\u001b[A\n",
      "100%|█████████▉| 4265/4280 [00:04<00:00, 630.04it/s]\u001b[A\n",
      " 15%|█▌        | 2/13 [01:15<06:55, 37.77s/it]0it/s]\u001b[A"
     ]
    },
    {
     "name": "stdout",
     "output_type": "stream",
     "text": [
      "\n",
      "\n",
      "\n"
     ]
    },
    {
     "name": "stderr",
     "output_type": "stream",
     "text": [
      "\n",
      "  0%|          | 0/4281 [00:00<?, ?it/s]\u001b[A"
     ]
    },
    {
     "name": "stdout",
     "output_type": "stream",
     "text": [
      "4281  total records were parsed\n",
      "Panaroo_Sens_MP 4281 4281\n"
     ]
    },
    {
     "name": "stderr",
     "output_type": "stream",
     "text": [
      "\n",
      "100%|██████████| 4281/4281 [00:00<00:00, 172385.21it/s]\u001b[A\n",
      "  0%|          | 0/4281 [00:00<?, ?it/s]\u001b[A\n",
      "  2%|▏         | 70/4281 [00:00<00:06, 691.91it/s]\u001b[A"
     ]
    },
    {
     "name": "stdout",
     "output_type": "stream",
     "text": [
      "4281\n"
     ]
    },
    {
     "name": "stderr",
     "output_type": "stream",
     "text": [
      "\n",
      "  4%|▍         | 174/4281 [00:00<00:05, 766.06it/s]\u001b[A\n",
      "  7%|▋         | 283/4281 [00:00<00:04, 840.51it/s]\u001b[A\n",
      "  9%|▉         | 392/4281 [00:00<00:04, 901.55it/s]\u001b[A\n",
      " 12%|█▏        | 531/4281 [00:00<00:03, 1006.71it/s]\u001b[A\n",
      " 15%|█▍        | 642/4281 [00:00<00:03, 1031.89it/s]\u001b[A\n",
      " 18%|█▊        | 753/4281 [00:00<00:03, 1051.44it/s]\u001b[A\n",
      " 20%|██        | 858/4281 [00:00<00:03, 1050.95it/s]\u001b[A\n",
      " 22%|██▏       | 962/4281 [00:00<00:03, 1033.25it/s]\u001b[A\n",
      " 25%|██▌       | 1074/4281 [00:01<00:03, 1055.04it/s]\u001b[A\n",
      " 28%|██▊       | 1182/4281 [00:01<00:02, 1059.71it/s]\u001b[A\n",
      " 30%|███       | 1293/4281 [00:01<00:02, 1073.16it/s]\u001b[A\n",
      " 33%|███▎      | 1429/4281 [00:01<00:02, 1145.37it/s]\u001b[A\n",
      " 36%|███▌      | 1545/4281 [00:01<00:02, 1116.86it/s]\u001b[A\n",
      " 39%|███▊      | 1658/4281 [00:01<00:02, 1019.89it/s]\u001b[A\n",
      " 41%|████▏     | 1769/4281 [00:01<00:02, 1043.60it/s]\u001b[A\n",
      " 44%|████▍     | 1888/4281 [00:01<00:02, 1082.96it/s]\u001b[A\n",
      " 47%|████▋     | 1998/4281 [00:01<00:02, 1024.34it/s]\u001b[A\n",
      " 49%|████▉     | 2103/4281 [00:02<00:02, 767.80it/s] \u001b[A\n",
      " 51%|█████▏    | 2200/4281 [00:02<00:02, 817.93it/s]\u001b[A\n",
      " 54%|█████▍    | 2316/4281 [00:02<00:02, 896.57it/s]\u001b[A\n",
      " 57%|█████▋    | 2420/4281 [00:02<00:01, 934.48it/s]\u001b[A\n",
      " 59%|█████▉    | 2526/4281 [00:02<00:01, 967.93it/s]\u001b[A\n",
      " 62%|██████▏   | 2651/4281 [00:02<00:01, 1037.86it/s]\u001b[A\n",
      " 67%|██████▋   | 2848/4281 [00:02<00:01, 1205.97it/s]\u001b[A\n",
      " 70%|██████▉   | 2983/4281 [00:02<00:01, 1073.17it/s]\u001b[A\n",
      " 72%|███████▏  | 3103/4281 [00:02<00:01, 1042.21it/s]\u001b[A\n",
      " 75%|███████▌  | 3216/4281 [00:03<00:01, 1016.79it/s]\u001b[A\n",
      " 78%|███████▊  | 3324/4281 [00:03<00:00, 1016.68it/s]\u001b[A\n",
      " 80%|████████  | 3431/4281 [00:03<00:00, 991.28it/s] \u001b[A\n",
      " 83%|████████▎ | 3534/4281 [00:03<00:00, 959.26it/s]\u001b[A\n",
      " 85%|████████▍ | 3633/4281 [00:03<00:00, 924.19it/s]\u001b[A\n",
      " 87%|████████▋ | 3728/4281 [00:03<00:00, 856.72it/s]\u001b[A\n",
      " 89%|████████▉ | 3817/4281 [00:03<00:00, 699.77it/s]\u001b[A\n",
      " 91%|█████████ | 3894/4281 [00:03<00:00, 677.02it/s]\u001b[A\n",
      " 93%|█████████▎| 3967/4281 [00:04<00:00, 684.08it/s]\u001b[A\n",
      " 94%|█████████▍| 4039/4281 [00:04<00:00, 681.79it/s]\u001b[A\n",
      " 96%|█████████▌| 4110/4281 [00:04<00:00, 688.64it/s]\u001b[A\n",
      " 98%|█████████▊| 4181/4281 [00:04<00:00, 679.42it/s]\u001b[A\n",
      " 99%|█████████▉| 4251/4281 [00:04<00:00, 603.97it/s]\u001b[A\n",
      " 23%|██▎       | 3/13 [01:52<06:15, 37.58s/it]5it/s]\u001b[A"
     ]
    },
    {
     "name": "stdout",
     "output_type": "stream",
     "text": [
      "\n",
      "\n",
      "\n",
      "5366  total records were parsed\n"
     ]
    },
    {
     "name": "stderr",
     "output_type": "stream",
     "text": [
      "\n",
      "  0%|          | 0/5366 [00:00<?, ?it/s]\u001b[A"
     ]
    },
    {
     "name": "stdout",
     "output_type": "stream",
     "text": [
      "Roary_Default 5366 5366\n"
     ]
    },
    {
     "name": "stderr",
     "output_type": "stream",
     "text": [
      "\n",
      " 27%|██▋       | 1448/5366 [00:00<00:00, 4262.07it/s]\u001b[A\n",
      "100%|██████████| 5366/5366 [00:00<00:00, 15172.98it/s]\u001b[A\n",
      "  0%|          | 0/5366 [00:00<?, ?it/s]\u001b[A\n",
      "  1%|          | 56/5366 [00:00<00:09, 558.56it/s]\u001b[A"
     ]
    },
    {
     "name": "stdout",
     "output_type": "stream",
     "text": [
      "5366\n"
     ]
    },
    {
     "name": "stderr",
     "output_type": "stream",
     "text": [
      "\n",
      "  3%|▎         | 141/5366 [00:00<00:08, 620.11it/s]\u001b[A\n",
      "  4%|▍         | 228/5366 [00:00<00:07, 675.75it/s]\u001b[A\n",
      "  6%|▌         | 304/5366 [00:00<00:07, 695.14it/s]\u001b[A\n",
      "  7%|▋         | 388/5366 [00:00<00:06, 733.02it/s]\u001b[A\n",
      "  9%|▉         | 486/5366 [00:00<00:06, 791.43it/s]\u001b[A\n",
      " 11%|█         | 597/5366 [00:00<00:05, 863.18it/s]\u001b[A\n",
      " 13%|█▎        | 705/5366 [00:00<00:05, 917.00it/s]\u001b[A\n",
      " 15%|█▌        | 819/5366 [00:00<00:04, 973.12it/s]\u001b[A\n",
      " 17%|█▋        | 918/5366 [00:01<00:04, 971.07it/s]\u001b[A\n",
      " 19%|█▉        | 1017/5366 [00:01<00:04, 974.02it/s]\u001b[A\n",
      " 21%|██        | 1119/5366 [00:01<00:04, 985.26it/s]\u001b[A\n",
      " 23%|██▎       | 1224/5366 [00:01<00:04, 1003.58it/s]\u001b[A\n",
      " 25%|██▍       | 1325/5366 [00:01<00:04, 948.91it/s] \u001b[A\n",
      " 26%|██▋       | 1421/5366 [00:01<00:04, 936.54it/s]\u001b[A\n",
      " 28%|██▊       | 1520/5366 [00:01<00:04, 950.23it/s]\u001b[A\n",
      " 30%|███       | 1616/5366 [00:01<00:03, 939.88it/s]\u001b[A\n",
      " 32%|███▏      | 1714/5366 [00:01<00:03, 949.57it/s]\u001b[A\n",
      " 34%|███▍      | 1812/5366 [00:01<00:03, 956.62it/s]\u001b[A\n",
      " 36%|███▌      | 1908/5366 [00:02<00:03, 939.87it/s]\u001b[A\n",
      " 38%|███▊      | 2016/5366 [00:02<00:03, 972.60it/s]\u001b[A\n",
      " 40%|████      | 2148/5366 [00:02<00:03, 1050.56it/s]\u001b[A\n",
      " 42%|████▏     | 2256/5366 [00:02<00:02, 1042.20it/s]\u001b[A\n",
      " 44%|████▍     | 2362/5366 [00:02<00:02, 1013.80it/s]\u001b[A\n",
      " 46%|████▌     | 2465/5366 [00:02<00:02, 1017.70it/s]\u001b[A\n",
      " 48%|████▊     | 2568/5366 [00:02<00:02, 967.34it/s] \u001b[A\n",
      " 50%|████▉     | 2666/5366 [00:02<00:02, 952.62it/s]\u001b[A\n",
      " 52%|█████▏    | 2768/5366 [00:02<00:02, 970.18it/s]\u001b[A\n",
      " 54%|█████▎    | 2883/5366 [00:03<00:02, 1015.68it/s]\u001b[A\n",
      " 56%|█████▌    | 2996/5366 [00:03<00:02, 1047.35it/s]\u001b[A\n",
      " 58%|█████▊    | 3102/5366 [00:03<00:02, 924.81it/s] \u001b[A\n",
      " 60%|█████▉    | 3200/5366 [00:03<00:02, 940.30it/s]\u001b[A\n",
      " 62%|██████▏   | 3309/5366 [00:03<00:02, 980.59it/s]\u001b[A\n",
      " 64%|██████▎   | 3410/5366 [00:03<00:01, 988.85it/s]\u001b[A\n",
      " 65%|██████▌   | 3511/5366 [00:03<00:01, 954.42it/s]\u001b[A\n",
      " 67%|██████▋   | 3617/5366 [00:03<00:01, 983.80it/s]\u001b[A\n",
      " 69%|██████▉   | 3717/5366 [00:03<00:01, 965.54it/s]\u001b[A\n",
      " 71%|███████▏  | 3833/5366 [00:03<00:01, 1014.97it/s]\u001b[A\n",
      " 73%|███████▎  | 3936/5366 [00:04<00:01, 953.73it/s] \u001b[A\n",
      " 75%|███████▌  | 4034/5366 [00:04<00:01, 961.26it/s]\u001b[A\n",
      " 77%|███████▋  | 4132/5366 [00:04<00:01, 934.97it/s]\u001b[A\n",
      " 79%|███████▉  | 4227/5366 [00:04<00:01, 909.88it/s]\u001b[A\n",
      " 80%|████████  | 4319/5366 [00:04<00:01, 874.03it/s]\u001b[A\n",
      " 82%|████████▏ | 4410/5366 [00:04<00:01, 880.97it/s]\u001b[A\n",
      " 84%|████████▍ | 4504/5366 [00:04<00:00, 895.28it/s]\u001b[A\n",
      " 86%|████████▋ | 4633/5366 [00:04<00:00, 985.71it/s]\u001b[A\n",
      " 89%|████████▉ | 4766/5366 [00:04<00:00, 1068.60it/s]\u001b[A\n",
      " 91%|█████████▏| 4899/5366 [00:05<00:00, 1132.37it/s]\u001b[A\n",
      " 94%|█████████▍| 5055/5366 [00:05<00:00, 1232.36it/s]\u001b[A\n",
      " 97%|█████████▋| 5206/5366 [00:05<00:00, 1303.94it/s]\u001b[A\n",
      "100%|█████████▉| 5360/5366 [00:05<00:00, 1366.16it/s]\u001b[A\n",
      " 31%|███       | 4/13 [02:37<05:57, 39.74s/it]60it/s]\u001b[A"
     ]
    },
    {
     "name": "stdout",
     "output_type": "stream",
     "text": [
      "\n",
      "\n",
      "\n",
      "4366  total records were parsed\n"
     ]
    },
    {
     "name": "stderr",
     "output_type": "stream",
     "text": [
      "\n",
      "  0%|          | 0/4366 [00:00<?, ?it/s]\u001b[A\n",
      "100%|██████████| 4366/4366 [00:00<00:00, 282715.50it/s]\u001b[A\n",
      "  0%|          | 0/4366 [00:00<?, ?it/s]\u001b[A\n",
      "  2%|▏         | 87/4366 [00:00<00:04, 866.73it/s]\u001b[A"
     ]
    },
    {
     "name": "stdout",
     "output_type": "stream",
     "text": [
      "Roary_NoSplitParalogs 4366 4366\n",
      "4366\n"
     ]
    },
    {
     "name": "stderr",
     "output_type": "stream",
     "text": [
      "\n",
      "  4%|▍         | 171/4366 [00:00<00:04, 857.54it/s]\u001b[A\n",
      "  6%|▌         | 257/4366 [00:00<00:04, 856.39it/s]\u001b[A\n",
      "  8%|▊         | 339/4366 [00:00<00:04, 844.84it/s]\u001b[A\n",
      " 10%|▉         | 416/4366 [00:00<00:04, 820.49it/s]\u001b[A\n",
      " 12%|█▏        | 513/4366 [00:00<00:04, 858.78it/s]\u001b[A\n",
      " 14%|█▍        | 614/4366 [00:00<00:04, 898.34it/s]\u001b[A\n",
      " 16%|█▌        | 698/4366 [00:00<00:06, 551.76it/s]\u001b[A\n",
      " 18%|█▊        | 774/4366 [00:01<00:06, 587.45it/s]\u001b[A\n",
      " 20%|█▉        | 866/4366 [00:01<00:05, 658.80it/s]\u001b[A\n",
      " 22%|██▏       | 967/4366 [00:01<00:04, 735.17it/s]\u001b[A\n",
      " 24%|██▍       | 1060/4366 [00:01<00:04, 784.07it/s]\u001b[A\n",
      " 27%|██▋       | 1177/4366 [00:01<00:03, 870.13it/s]\u001b[A\n",
      " 29%|██▉       | 1273/4366 [00:01<00:03, 883.71it/s]\u001b[A\n",
      " 31%|███▏      | 1368/4366 [00:01<00:03, 883.36it/s]\u001b[A\n",
      " 34%|███▎      | 1464/4366 [00:01<00:03, 903.43it/s]\u001b[A\n",
      " 36%|███▌      | 1562/4366 [00:01<00:03, 922.28it/s]\u001b[A\n",
      " 38%|███▊      | 1660/4366 [00:02<00:02, 937.50it/s]\u001b[A\n",
      " 40%|████      | 1756/4366 [00:02<00:02, 926.51it/s]\u001b[A\n",
      " 42%|████▏     | 1853/4366 [00:02<00:02, 936.15it/s]\u001b[A\n",
      " 45%|████▍     | 1955/4366 [00:02<00:02, 958.48it/s]\u001b[A\n",
      " 48%|████▊     | 2093/4366 [00:02<00:02, 1054.10it/s]\u001b[A\n",
      " 50%|█████     | 2202/4366 [00:02<00:02, 1051.79it/s]\u001b[A\n",
      " 53%|█████▎    | 2310/4366 [00:02<00:02, 1026.28it/s]\u001b[A\n",
      " 55%|█████▌    | 2416/4366 [00:02<00:01, 1033.97it/s]\u001b[A\n",
      " 58%|█████▊    | 2521/4366 [00:02<00:01, 978.84it/s] \u001b[A\n",
      " 60%|██████    | 2621/4366 [00:02<00:01, 969.23it/s]\u001b[A\n",
      " 63%|██████▎   | 2734/4366 [00:03<00:01, 1012.03it/s]\u001b[A\n",
      " 65%|██████▌   | 2850/4366 [00:03<00:01, 1049.10it/s]\u001b[A\n",
      " 68%|██████▊   | 2957/4366 [00:03<00:01, 952.38it/s] \u001b[A\n",
      " 70%|██████▉   | 3055/4366 [00:03<00:01, 935.28it/s]\u001b[A\n",
      " 72%|███████▏  | 3157/4366 [00:03<00:01, 958.09it/s]\u001b[A\n",
      " 75%|███████▍  | 3263/4366 [00:03<00:01, 985.86it/s]\u001b[A\n",
      " 77%|███████▋  | 3363/4366 [00:03<00:01, 977.06it/s]\u001b[A\n",
      " 79%|███████▉  | 3462/4366 [00:03<00:00, 954.03it/s]\u001b[A\n",
      " 82%|████████▏ | 3559/4366 [00:03<00:00, 939.45it/s]\u001b[A\n",
      " 84%|████████▎ | 3654/4366 [00:04<00:00, 934.79it/s]\u001b[A\n",
      " 86%|████████▌ | 3757/4366 [00:04<00:00, 959.33it/s]\u001b[A\n",
      " 88%|████████▊ | 3854/4366 [00:04<00:00, 926.02it/s]\u001b[A\n",
      " 91%|█████████ | 3968/4366 [00:04<00:00, 979.99it/s]\u001b[A\n",
      " 96%|█████████▌| 4192/4366 [00:04<00:00, 1178.01it/s]\u001b[A\n",
      " 38%|███▊      | 5/13 [03:15<05:13, 39.13s/it]2it/s] \u001b[A"
     ]
    },
    {
     "name": "stdout",
     "output_type": "stream",
     "text": [
      "\n",
      "\n",
      "\n"
     ]
    },
    {
     "name": "stderr",
     "output_type": "stream",
     "text": [
      "\n",
      "  0%|          | 0/4252 [00:00<?, ?it/s]\u001b[A"
     ]
    },
    {
     "name": "stdout",
     "output_type": "stream",
     "text": [
      "4252  total records were parsed\n",
      "Roary_NoSplitParalogs_I80 4252 4252\n"
     ]
    },
    {
     "name": "stderr",
     "output_type": "stream",
     "text": [
      "\n",
      " 18%|█▊        | 759/4252 [00:00<00:00, 3866.98it/s]\u001b[A\n",
      "100%|██████████| 4252/4252 [00:00<00:00, 20491.94it/s]\u001b[A\n",
      "  0%|          | 0/4252 [00:00<?, ?it/s]\u001b[A\n",
      "  2%|▏         | 95/4252 [00:00<00:04, 941.20it/s]\u001b[A"
     ]
    },
    {
     "name": "stdout",
     "output_type": "stream",
     "text": [
      "4252\n"
     ]
    },
    {
     "name": "stderr",
     "output_type": "stream",
     "text": [
      "\n",
      "  4%|▍         | 183/4252 [00:00<00:04, 921.94it/s]\u001b[A\n",
      "  6%|▋         | 269/4252 [00:00<00:04, 899.47it/s]\u001b[A\n",
      "  8%|▊         | 352/4252 [00:00<00:04, 876.83it/s]\u001b[A\n",
      " 10%|█         | 436/4252 [00:00<00:04, 864.89it/s]\u001b[A\n",
      " 13%|█▎        | 541/4252 [00:00<00:04, 911.79it/s]\u001b[A\n",
      " 15%|█▌        | 647/4252 [00:00<00:03, 948.49it/s]\u001b[A\n",
      " 18%|█▊        | 767/4252 [00:00<00:03, 1010.24it/s]\u001b[A\n",
      " 20%|██        | 866/4252 [00:00<00:03, 1003.03it/s]\u001b[A\n",
      " 23%|██▎       | 964/4252 [00:01<00:03, 994.17it/s] \u001b[A\n",
      " 25%|██▌       | 1071/4252 [00:01<00:03, 1014.12it/s]\u001b[A\n",
      " 28%|██▊       | 1187/4252 [00:01<00:02, 1052.25it/s]\u001b[A\n",
      " 30%|███       | 1292/4252 [00:01<00:02, 989.88it/s] \u001b[A\n",
      " 33%|███▎      | 1392/4252 [00:01<00:02, 977.65it/s]\u001b[A\n",
      " 35%|███▌      | 1491/4252 [00:01<00:02, 970.95it/s]\u001b[A\n",
      " 37%|███▋      | 1589/4252 [00:01<00:02, 970.93it/s]\u001b[A\n",
      " 40%|███▉      | 1687/4252 [00:01<00:02, 939.95it/s]\u001b[A\n",
      " 42%|████▏     | 1794/4252 [00:01<00:02, 973.77it/s]\u001b[A\n",
      " 44%|████▍     | 1892/4252 [00:01<00:02, 949.36it/s]\u001b[A\n",
      " 48%|████▊     | 2022/4252 [00:02<00:02, 1032.65it/s]\u001b[A\n",
      " 50%|█████     | 2128/4252 [00:02<00:02, 1020.70it/s]\u001b[A\n",
      " 52%|█████▏    | 2232/4252 [00:02<00:01, 1023.83it/s]\u001b[A\n",
      " 55%|█████▍    | 2336/4252 [00:02<00:01, 1004.85it/s]\u001b[A\n",
      " 57%|█████▋    | 2438/4252 [00:02<00:01, 958.31it/s] \u001b[A\n",
      " 60%|█████▉    | 2535/4252 [00:02<00:01, 930.61it/s]\u001b[A\n",
      " 62%|██████▏   | 2634/4252 [00:02<00:01, 947.07it/s]\u001b[A\n",
      " 64%|██████▍   | 2742/4252 [00:02<00:01, 979.26it/s]\u001b[A\n",
      " 67%|██████▋   | 2852/4252 [00:02<00:01, 1007.94it/s]\u001b[A\n",
      " 69%|██████▉   | 2954/4252 [00:03<00:01, 936.82it/s] \u001b[A\n",
      " 72%|███████▏  | 3057/4252 [00:03<00:01, 960.35it/s]\u001b[A\n",
      " 74%|███████▍  | 3155/4252 [00:03<00:01, 964.58it/s]\u001b[A\n",
      " 77%|███████▋  | 3267/4252 [00:03<00:00, 1005.40it/s]\u001b[A\n",
      " 79%|███████▉  | 3369/4252 [00:03<00:00, 959.67it/s] \u001b[A\n",
      " 82%|████████▏ | 3472/4252 [00:03<00:00, 978.13it/s]\u001b[A\n",
      " 84%|████████▍ | 3571/4252 [00:03<00:00, 977.64it/s]\u001b[A\n",
      " 87%|████████▋ | 3683/4252 [00:03<00:00, 1015.55it/s]\u001b[A\n",
      " 89%|████████▉ | 3793/4252 [00:03<00:00, 1039.01it/s]\u001b[A\n",
      " 92%|█████████▏| 3898/4252 [00:03<00:00, 981.16it/s] \u001b[A\n",
      " 97%|█████████▋| 4128/4252 [00:04<00:00, 1184.93it/s]\u001b[A\n",
      " 46%|████▌     | 6/13 [03:49<04:23, 37.66s/it]41it/s]\u001b[A"
     ]
    },
    {
     "name": "stdout",
     "output_type": "stream",
     "text": [
      "\n",
      "\n",
      "\n",
      "4293  total records were parsed\n"
     ]
    },
    {
     "name": "stderr",
     "output_type": "stream",
     "text": [
      "\n",
      "  0%|          | 0/4293 [00:00<?, ?it/s]\u001b[A\n",
      "100%|██████████| 4293/4293 [00:00<00:00, 416028.91it/s]\u001b[A\n",
      "  0%|          | 0/4293 [00:00<?, ?it/s]\u001b[A\n",
      "  2%|▏         | 76/4293 [00:00<00:05, 747.47it/s]\u001b[A"
     ]
    },
    {
     "name": "stdout",
     "output_type": "stream",
     "text": [
      "Roary_NoSplitParalogs_I90 4293 4293\n",
      "4293\n"
     ]
    },
    {
     "name": "stderr",
     "output_type": "stream",
     "text": [
      "\n",
      "  4%|▍         | 165/4293 [00:00<00:05, 783.71it/s]\u001b[A\n",
      "  6%|▌         | 256/4293 [00:00<00:04, 816.51it/s]\u001b[A\n",
      "  8%|▊         | 339/4293 [00:00<00:04, 819.85it/s]\u001b[A\n",
      " 10%|▉         | 428/4293 [00:00<00:04, 836.75it/s]\u001b[A\n",
      " 13%|█▎        | 539/4293 [00:00<00:04, 901.77it/s]\u001b[A\n",
      " 15%|█▌        | 649/4293 [00:00<00:03, 946.69it/s]\u001b[A\n",
      " 17%|█▋        | 740/4293 [00:00<00:05, 642.11it/s]\u001b[A\n",
      " 20%|█▉        | 852/4293 [00:01<00:04, 735.77it/s]\u001b[A\n",
      " 22%|██▏       | 953/4293 [00:01<00:04, 799.00it/s]\u001b[A\n",
      " 24%|██▍       | 1043/4293 [00:01<00:03, 821.34it/s]\u001b[A\n",
      " 27%|██▋       | 1156/4293 [00:01<00:03, 892.17it/s]\u001b[A\n",
      " 29%|██▉       | 1252/4293 [00:01<00:03, 900.11it/s]\u001b[A\n",
      " 31%|███▏      | 1347/4293 [00:01<00:03, 892.48it/s]\u001b[A\n",
      " 34%|███▎      | 1440/4293 [00:01<00:03, 892.42it/s]\u001b[A\n",
      " 36%|███▌      | 1535/4293 [00:01<00:03, 908.07it/s]\u001b[A\n",
      " 38%|███▊      | 1637/4293 [00:01<00:02, 938.95it/s]\u001b[A\n",
      " 40%|████      | 1733/4293 [00:01<00:02, 907.58it/s]\u001b[A\n",
      " 43%|████▎     | 1830/4293 [00:02<00:02, 924.12it/s]\u001b[A\n",
      " 45%|████▌     | 1934/4293 [00:02<00:02, 955.77it/s]\u001b[A\n",
      " 48%|████▊     | 2069/4293 [00:02<00:02, 1047.39it/s]\u001b[A\n",
      " 51%|█████     | 2178/4293 [00:02<00:02, 1025.37it/s]\u001b[A\n",
      " 53%|█████▎    | 2283/4293 [00:02<00:01, 1028.18it/s]\u001b[A\n",
      " 56%|█████▌    | 2394/4293 [00:02<00:01, 1048.44it/s]\u001b[A\n",
      " 58%|█████▊    | 2501/4293 [00:02<00:01, 993.20it/s] \u001b[A\n",
      " 61%|██████    | 2602/4293 [00:02<00:01, 963.55it/s]\u001b[A\n",
      " 63%|██████▎   | 2712/4293 [00:02<00:01, 1000.78it/s]\u001b[A\n",
      " 66%|██████▌   | 2832/4293 [00:03<00:01, 1053.09it/s]\u001b[A\n",
      " 68%|██████▊   | 2939/4293 [00:03<00:01, 1023.51it/s]\u001b[A\n",
      " 71%|███████   | 3043/4293 [00:03<00:01, 949.29it/s] \u001b[A\n",
      " 73%|███████▎  | 3149/4293 [00:03<00:01, 978.42it/s]\u001b[A\n",
      " 76%|███████▌  | 3254/4293 [00:03<00:01, 997.00it/s]\u001b[A\n",
      " 78%|███████▊  | 3356/4293 [00:03<00:00, 1003.68it/s]\u001b[A\n",
      " 81%|████████  | 3458/4293 [00:03<00:00, 978.57it/s] \u001b[A\n",
      " 83%|████████▎ | 3557/4293 [00:03<00:00, 957.77it/s]\u001b[A\n",
      " 85%|████████▌ | 3659/4293 [00:03<00:00, 971.34it/s]\u001b[A\n",
      " 88%|████████▊ | 3760/4293 [00:04<00:00, 980.92it/s]\u001b[A\n",
      " 90%|████████▉ | 3859/4293 [00:04<00:00, 952.88it/s]\u001b[A\n",
      " 93%|█████████▎| 3978/4293 [00:04<00:00, 1013.35it/s]\u001b[A\n",
      " 99%|█████████▉| 4247/4293 [00:04<00:00, 1246.05it/s]\u001b[A\n",
      " 54%|█████▍    | 7/13 [04:24<03:40, 36.80s/it]9it/s] \u001b[A"
     ]
    },
    {
     "name": "stdout",
     "output_type": "stream",
     "text": [
      "\n",
      "\n",
      "\n",
      "4211  total records were parsed\n"
     ]
    },
    {
     "name": "stderr",
     "output_type": "stream",
     "text": [
      "\n",
      "  0%|          | 0/4211 [00:00<?, ?it/s]\u001b[A"
     ]
    },
    {
     "name": "stdout",
     "output_type": "stream",
     "text": [
      "SR_Panaroo_Strict_MP 4211 4211\n"
     ]
    },
    {
     "name": "stderr",
     "output_type": "stream",
     "text": [
      "\n",
      " 18%|█▊        | 747/4211 [00:00<00:01, 2921.11it/s]\u001b[A\n",
      "100%|██████████| 4211/4211 [00:00<00:00, 15760.86it/s]\u001b[A\n",
      "  0%|          | 0/4211 [00:00<?, ?it/s]\u001b[A\n",
      "  2%|▏         | 72/4211 [00:00<00:05, 717.30it/s]\u001b[A"
     ]
    },
    {
     "name": "stdout",
     "output_type": "stream",
     "text": [
      "4211\n"
     ]
    },
    {
     "name": "stderr",
     "output_type": "stream",
     "text": [
      "\n",
      "  4%|▍         | 182/4211 [00:00<00:05, 800.83it/s]\u001b[A\n",
      "  7%|▋         | 312/4211 [00:00<00:04, 904.41it/s]\u001b[A\n",
      " 10%|█         | 423/4211 [00:00<00:03, 956.23it/s]\u001b[A\n",
      " 13%|█▎        | 535/4211 [00:00<00:03, 1000.05it/s]\u001b[A\n",
      " 15%|█▌        | 643/4211 [00:00<00:03, 1020.43it/s]\u001b[A\n",
      " 18%|█▊        | 762/4211 [00:00<00:03, 1063.89it/s]\u001b[A\n",
      " 21%|██        | 880/4211 [00:00<00:03, 1092.92it/s]\u001b[A\n",
      " 23%|██▎       | 988/4211 [00:00<00:02, 1085.02it/s]\u001b[A\n",
      " 27%|██▋       | 1121/4211 [00:01<00:02, 1148.13it/s]\u001b[A\n",
      " 29%|██▉       | 1236/4211 [00:01<00:02, 1130.56it/s]\u001b[A\n",
      " 32%|███▏      | 1350/4211 [00:01<00:02, 1102.35it/s]\u001b[A\n",
      " 35%|███▍      | 1461/4211 [00:01<00:02, 1096.05it/s]\u001b[A\n",
      " 38%|███▊      | 1591/4211 [00:01<00:02, 1148.41it/s]\u001b[A\n",
      " 41%|████      | 1713/4211 [00:01<00:02, 1167.11it/s]\u001b[A\n",
      " 43%|████▎     | 1831/4211 [00:01<00:02, 1119.96it/s]\u001b[A\n",
      " 46%|████▋     | 1952/4211 [00:01<00:01, 1143.32it/s]\u001b[A\n",
      " 49%|████▉     | 2068/4211 [00:01<00:01, 1134.64it/s]\u001b[A\n",
      " 52%|█████▏    | 2190/4211 [00:01<00:01, 1158.31it/s]\u001b[A\n",
      " 55%|█████▌    | 2318/4211 [00:02<00:01, 1191.71it/s]\u001b[A\n",
      " 59%|█████▉    | 2494/4211 [00:02<00:01, 1313.92it/s]\u001b[A\n",
      " 62%|██████▏   | 2630/4211 [00:02<00:01, 1180.68it/s]\u001b[A\n",
      " 65%|██████▌   | 2754/4211 [00:02<00:01, 1161.47it/s]\u001b[A\n",
      " 68%|██████▊   | 2875/4211 [00:02<00:01, 1113.17it/s]\u001b[A\n",
      " 71%|███████   | 2990/4211 [00:02<00:01, 1069.73it/s]\u001b[A\n",
      " 74%|███████▎  | 3100/4211 [00:02<00:01, 1047.12it/s]\u001b[A\n",
      " 76%|███████▌  | 3207/4211 [00:02<00:00, 1013.61it/s]\u001b[A\n",
      " 79%|███████▊  | 3310/4211 [00:02<00:00, 987.44it/s] \u001b[A\n",
      " 81%|████████  | 3410/4211 [00:03<00:00, 956.95it/s]\u001b[A\n",
      " 83%|████████▎ | 3507/4211 [00:03<00:00, 928.22it/s]\u001b[A\n",
      " 86%|████████▌ | 3601/4211 [00:03<00:00, 795.75it/s]\u001b[A\n",
      " 88%|████████▊ | 3685/4211 [00:03<00:00, 770.70it/s]\u001b[A\n",
      " 89%|████████▉ | 3766/4211 [00:03<00:00, 780.05it/s]\u001b[A\n",
      " 91%|█████████▏| 3847/4211 [00:03<00:00, 739.41it/s]\u001b[A\n",
      " 93%|█████████▎| 3923/4211 [00:03<00:00, 650.75it/s]\u001b[A\n",
      " 95%|█████████▍| 3992/4211 [00:03<00:00, 635.69it/s]\u001b[A\n",
      " 97%|█████████▋| 4071/4211 [00:04<00:00, 672.28it/s]\u001b[A\n",
      " 98%|█████████▊| 4141/4211 [00:04<00:00, 631.84it/s]\u001b[A\n",
      "100%|█████████▉| 4207/4211 [00:04<00:00, 589.71it/s]\u001b[A\n",
      " 62%|██████▏   | 8/13 [05:00<03:03, 36.69s/it]2it/s]\u001b[A"
     ]
    },
    {
     "name": "stdout",
     "output_type": "stream",
     "text": [
      "\n",
      "\n",
      "\n",
      "4600  total records were parsed\n"
     ]
    },
    {
     "name": "stderr",
     "output_type": "stream",
     "text": [
      "\n",
      "  0%|          | 0/4600 [00:00<?, ?it/s]\u001b[A\n",
      "100%|██████████| 4600/4600 [00:00<00:00, 78028.20it/s]\u001b[A\n",
      "  0%|          | 0/4600 [00:00<?, ?it/s]\u001b[A\n",
      "  2%|▏         | 106/4600 [00:00<00:04, 1048.44it/s]\u001b[A"
     ]
    },
    {
     "name": "stdout",
     "output_type": "stream",
     "text": [
      "SR_Panaroo_Sens_MP 4600 4600\n",
      "4600\n"
     ]
    },
    {
     "name": "stderr",
     "output_type": "stream",
     "text": [
      "\n",
      "  5%|▍         | 220/4600 [00:00<00:04, 1073.24it/s]\u001b[A\n",
      "  7%|▋         | 337/4600 [00:00<00:03, 1100.12it/s]\u001b[A\n",
      " 10%|▉         | 454/4600 [00:00<00:03, 1116.69it/s]\u001b[A\n",
      " 12%|█▏        | 559/4600 [00:00<00:03, 1094.41it/s]\u001b[A\n",
      " 14%|█▍        | 663/4600 [00:00<00:03, 1076.25it/s]\u001b[A\n",
      " 16%|█▋        | 759/4600 [00:00<00:06, 566.98it/s] \u001b[A\n",
      " 19%|█▉        | 880/4600 [00:01<00:05, 673.55it/s]\u001b[A\n",
      " 21%|██▏       | 985/4600 [00:01<00:04, 753.96it/s]\u001b[A\n",
      " 24%|██▍       | 1114/4600 [00:01<00:04, 860.76it/s]\u001b[A\n",
      " 27%|██▋       | 1228/4600 [00:01<00:03, 925.46it/s]\u001b[A\n",
      " 29%|██▉       | 1335/4600 [00:01<00:03, 878.77it/s]\u001b[A\n",
      " 32%|███▏      | 1450/4600 [00:01<00:03, 945.51it/s]\u001b[A\n",
      " 34%|███▍      | 1573/4600 [00:01<00:02, 1015.64it/s]\u001b[A\n",
      " 37%|███▋      | 1709/4600 [00:01<00:02, 1095.44it/s]\u001b[A\n",
      " 40%|███▉      | 1826/4600 [00:01<00:02, 1087.18it/s]\u001b[A\n",
      " 42%|████▏     | 1951/4600 [00:02<00:02, 1130.82it/s]\u001b[A\n",
      " 45%|████▍     | 2068/4600 [00:02<00:02, 1135.66it/s]\u001b[A\n",
      " 48%|████▊     | 2193/4600 [00:02<00:02, 1165.25it/s]\u001b[A\n",
      " 51%|█████     | 2326/4600 [00:02<00:01, 1208.10it/s]\u001b[A\n",
      " 55%|█████▍    | 2508/4600 [00:02<00:01, 1341.15it/s]\u001b[A\n",
      " 58%|█████▊    | 2649/4600 [00:02<00:01, 1313.67it/s]\u001b[A\n",
      " 61%|██████    | 2785/4600 [00:02<00:01, 1249.17it/s]\u001b[A\n",
      " 63%|██████▎   | 2914/4600 [00:02<00:01, 1157.93it/s]\u001b[A\n",
      " 66%|██████▌   | 3034/4600 [00:02<00:01, 1106.42it/s]\u001b[A\n",
      " 68%|██████▊   | 3148/4600 [00:03<00:01, 1076.88it/s]\u001b[A\n",
      " 71%|███████   | 3259/4600 [00:03<00:01, 1037.04it/s]\u001b[A\n",
      " 73%|███████▎  | 3365/4600 [00:03<00:01, 1016.06it/s]\u001b[A\n",
      " 75%|███████▌  | 3469/4600 [00:03<00:01, 991.41it/s] \u001b[A\n",
      " 78%|███████▊  | 3570/4600 [00:03<00:01, 976.42it/s]\u001b[A\n",
      " 80%|███████▉  | 3669/4600 [00:03<00:00, 961.00it/s]\u001b[A\n",
      " 82%|████████▏ | 3766/4600 [00:03<00:00, 936.39it/s]\u001b[A\n",
      " 84%|████████▍ | 3861/4600 [00:03<00:00, 905.79it/s]\u001b[A\n",
      " 86%|████████▌ | 3953/4600 [00:03<00:00, 774.80it/s]\u001b[A\n",
      " 88%|████████▊ | 4035/4600 [00:04<00:00, 746.54it/s]\u001b[A\n",
      " 89%|████████▉ | 4113/4600 [00:04<00:00, 726.03it/s]\u001b[A\n",
      " 91%|█████████ | 4188/4600 [00:04<00:00, 723.12it/s]\u001b[A\n",
      " 93%|█████████▎| 4262/4600 [00:04<00:00, 653.05it/s]\u001b[A\n",
      " 94%|█████████▍| 4330/4600 [00:04<00:00, 573.48it/s]\u001b[A\n",
      " 96%|█████████▌| 4410/4600 [00:04<00:00, 624.06it/s]\u001b[A\n",
      " 97%|█████████▋| 4477/4600 [00:04<00:00, 596.97it/s]\u001b[A\n",
      " 99%|█████████▊| 4542/4600 [00:04<00:00, 611.94it/s]\u001b[A\n",
      " 69%|██████▉   | 9/13 [05:39<02:29, 37.50s/it]3it/s]\u001b[A"
     ]
    },
    {
     "name": "stdout",
     "output_type": "stream",
     "text": [
      "\n",
      "\n",
      "\n",
      "6006  total records were parsed\n"
     ]
    },
    {
     "name": "stderr",
     "output_type": "stream",
     "text": [
      "\n",
      "  0%|          | 0/6006 [00:00<?, ?it/s]\u001b[A\n",
      "100%|██████████| 6006/6006 [00:00<00:00, 221535.21it/s]\u001b[A\n",
      "  0%|          | 0/6006 [00:00<?, ?it/s]\u001b[A\n",
      "  2%|▏         | 101/6006 [00:00<00:05, 1008.79it/s]\u001b[A"
     ]
    },
    {
     "name": "stdout",
     "output_type": "stream",
     "text": [
      "SR_Roary_Default 6006 6006\n",
      "6006\n"
     ]
    },
    {
     "name": "stderr",
     "output_type": "stream",
     "text": [
      "\n",
      "  3%|▎         | 202/6006 [00:00<00:05, 1007.25it/s]\u001b[A\n",
      "  5%|▌         | 327/6006 [00:00<00:05, 1068.34it/s]\u001b[A\n",
      "  7%|▋         | 442/6006 [00:00<00:05, 1088.37it/s]\u001b[A\n",
      "  9%|▉         | 532/6006 [00:00<00:05, 1023.29it/s]\u001b[A\n",
      " 11%|█         | 647/6006 [00:00<00:05, 1057.87it/s]\u001b[A\n",
      " 13%|█▎        | 755/6006 [00:00<00:04, 1061.72it/s]\u001b[A\n",
      " 14%|█▍        | 857/6006 [00:00<00:04, 1046.87it/s]\u001b[A\n",
      " 16%|█▌        | 957/6006 [00:00<00:04, 1027.90it/s]\u001b[A\n",
      " 18%|█▊        | 1060/6006 [00:01<00:04, 1027.34it/s]\u001b[A\n",
      " 19%|█▉        | 1161/6006 [00:01<00:04, 998.12it/s] \u001b[A\n",
      " 21%|██        | 1263/6006 [00:01<00:04, 1003.80it/s]\u001b[A\n",
      " 23%|██▎       | 1363/6006 [00:01<00:04, 997.81it/s] \u001b[A\n",
      " 24%|██▍       | 1464/6006 [00:01<00:04, 999.40it/s]\u001b[A\n",
      " 26%|██▌       | 1571/6006 [00:01<00:04, 1017.06it/s]\u001b[A\n",
      " 28%|██▊       | 1673/6006 [00:01<00:04, 977.92it/s] \u001b[A\n",
      " 30%|██▉       | 1782/6006 [00:01<00:04, 1008.36it/s]\u001b[A\n",
      " 31%|███▏      | 1888/6006 [00:01<00:04, 1020.12it/s]\u001b[A\n",
      " 33%|███▎      | 1991/6006 [00:01<00:04, 987.70it/s] \u001b[A\n",
      " 35%|███▍      | 2091/6006 [00:02<00:04, 880.21it/s]\u001b[A\n",
      " 36%|███▋      | 2189/6006 [00:02<00:04, 907.07it/s]\u001b[A\n",
      " 38%|███▊      | 2282/6006 [00:02<00:04, 901.62it/s]\u001b[A\n",
      " 40%|███▉      | 2388/6006 [00:02<00:03, 941.38it/s]\u001b[A\n",
      " 41%|████▏     | 2491/6006 [00:02<00:03, 965.00it/s]\u001b[A\n",
      " 43%|████▎     | 2595/6006 [00:02<00:03, 985.49it/s]\u001b[A\n",
      " 45%|████▍     | 2695/6006 [00:02<00:03, 967.02it/s]\u001b[A\n",
      " 47%|████▋     | 2831/6006 [00:02<00:03, 1057.61it/s]\u001b[A\n",
      " 49%|████▉     | 2940/6006 [00:02<00:03, 1007.89it/s]\u001b[A\n",
      " 51%|█████     | 3044/6006 [00:03<00:03, 854.78it/s] \u001b[A\n",
      " 52%|█████▏    | 3142/6006 [00:03<00:03, 888.13it/s]\u001b[A\n",
      " 54%|█████▍    | 3259/6006 [00:03<00:02, 957.13it/s]\u001b[A\n",
      " 56%|█████▌    | 3364/6006 [00:03<00:02, 982.17it/s]\u001b[A\n",
      " 58%|█████▊    | 3466/6006 [00:03<00:02, 955.68it/s]\u001b[A\n",
      " 60%|█████▉    | 3582/6006 [00:03<00:02, 1007.65it/s]\u001b[A\n",
      " 62%|██████▏   | 3694/6006 [00:03<00:02, 1034.74it/s]\u001b[A\n",
      " 63%|██████▎   | 3805/6006 [00:03<00:02, 1055.31it/s]\u001b[A\n",
      " 65%|██████▌   | 3918/6006 [00:03<00:01, 1075.24it/s]\u001b[A\n",
      " 67%|██████▋   | 4037/6006 [00:04<00:01, 1103.77it/s]\u001b[A\n",
      " 69%|██████▉   | 4171/6006 [00:04<00:01, 1163.79it/s]\u001b[A\n",
      " 71%|███████▏  | 4289/6006 [00:04<00:01, 1080.51it/s]\u001b[A\n",
      " 74%|███████▍  | 4437/6006 [00:04<00:01, 1174.39it/s]\u001b[A\n",
      " 76%|███████▌  | 4559/6006 [00:04<00:01, 1147.79it/s]\u001b[A\n",
      " 78%|███████▊  | 4677/6006 [00:04<00:01, 1103.02it/s]\u001b[A\n",
      " 80%|███████▉  | 4795/6006 [00:04<00:01, 1124.88it/s]\u001b[A\n",
      " 82%|████████▏ | 4914/6006 [00:04<00:00, 1139.32it/s]\u001b[A\n",
      " 84%|████████▎ | 5030/6006 [00:04<00:00, 1106.91it/s]\u001b[A\n",
      " 86%|████████▌ | 5164/6006 [00:04<00:00, 1166.65it/s]\u001b[A\n",
      " 89%|████████▉ | 5335/6006 [00:05<00:00, 1288.79it/s]\u001b[A\n",
      " 91%|█████████ | 5475/6006 [00:05<00:00, 1319.17it/s]\u001b[A\n",
      " 94%|█████████▍| 5646/6006 [00:05<00:00, 1408.57it/s]\u001b[A\n",
      " 96%|█████████▋| 5792/6006 [00:05<00:00, 1378.72it/s]\u001b[A\n",
      " 99%|█████████▉| 5962/6006 [00:05<00:00, 1459.62it/s]\u001b[A\n",
      " 77%|███████▋  | 10/13 [06:26<02:00, 40.16s/it]4it/s]\u001b[A"
     ]
    },
    {
     "name": "stdout",
     "output_type": "stream",
     "text": [
      "\n",
      "\n",
      "\n",
      "5025  total records were parsed\n"
     ]
    },
    {
     "name": "stderr",
     "output_type": "stream",
     "text": [
      "\n",
      "  0%|          | 0/5025 [00:00<?, ?it/s]\u001b[A\n",
      "100%|██████████| 5025/5025 [00:00<00:00, 384205.80it/s]\u001b[A\n",
      "  0%|          | 0/5025 [00:00<?, ?it/s]\u001b[A\n",
      "  2%|▏         | 88/5025 [00:00<00:05, 878.80it/s]\u001b[A"
     ]
    },
    {
     "name": "stdout",
     "output_type": "stream",
     "text": [
      "SR_Roary_NoSplitParalogs 5025 5025\n",
      "5025\n"
     ]
    },
    {
     "name": "stderr",
     "output_type": "stream",
     "text": [
      "\n",
      "  4%|▎         | 185/5025 [00:00<00:05, 902.62it/s]\u001b[A\n",
      "  6%|▌         | 287/5025 [00:00<00:05, 931.22it/s]\u001b[A\n",
      "  8%|▊         | 397/5025 [00:00<00:04, 975.51it/s]\u001b[A\n",
      " 10%|▉         | 483/5025 [00:00<00:04, 934.52it/s]\u001b[A\n",
      " 11%|█▏        | 568/5025 [00:00<00:04, 907.04it/s]\u001b[A\n",
      " 13%|█▎        | 667/5025 [00:00<00:04, 930.25it/s]\u001b[A\n",
      " 16%|█▌        | 779/5025 [00:00<00:04, 978.98it/s]\u001b[A\n",
      " 17%|█▋        | 874/5025 [00:00<00:04, 964.06it/s]\u001b[A\n",
      " 19%|█▉        | 968/5025 [00:01<00:04, 945.38it/s]\u001b[A\n",
      " 21%|██▏       | 1070/5025 [00:01<00:04, 965.50it/s]\u001b[A\n",
      " 23%|██▎       | 1166/5025 [00:01<00:04, 933.21it/s]\u001b[A\n",
      " 25%|██▌       | 1263/5025 [00:01<00:03, 940.78it/s]\u001b[A\n",
      " 27%|██▋       | 1360/5025 [00:01<00:03, 946.04it/s]\u001b[A\n",
      " 29%|██▉       | 1460/5025 [00:01<00:03, 957.55it/s]\u001b[A\n",
      " 31%|███       | 1563/5025 [00:01<00:03, 973.03it/s]\u001b[A\n",
      " 33%|███▎      | 1661/5025 [00:01<00:03, 934.74it/s]\u001b[A\n",
      " 35%|███▌      | 1775/5025 [00:01<00:03, 986.14it/s]\u001b[A\n",
      " 37%|███▋      | 1884/5025 [00:01<00:03, 1014.72it/s]\u001b[A\n",
      " 40%|███▉      | 1987/5025 [00:02<00:03, 954.17it/s] \u001b[A\n",
      " 42%|████▏     | 2086/5025 [00:02<00:03, 961.16it/s]\u001b[A\n",
      " 43%|████▎     | 2184/5025 [00:02<00:03, 934.17it/s]\u001b[A\n",
      " 46%|████▌     | 2287/5025 [00:02<00:02, 959.93it/s]\u001b[A\n",
      " 48%|████▊     | 2401/5025 [00:02<00:02, 1007.47it/s]\u001b[A\n",
      " 50%|████▉     | 2503/5025 [00:02<00:02, 971.23it/s] \u001b[A\n",
      " 52%|█████▏    | 2602/5025 [00:02<00:02, 964.36it/s]\u001b[A\n",
      " 54%|█████▍    | 2736/5025 [00:02<00:02, 1052.74it/s]\u001b[A\n",
      " 57%|█████▋    | 2849/5025 [00:02<00:02, 1073.54it/s]\u001b[A\n",
      " 59%|█████▉    | 2959/5025 [00:03<00:02, 996.81it/s] \u001b[A\n",
      " 61%|██████    | 3063/5025 [00:03<00:01, 1007.84it/s]\u001b[A\n",
      " 63%|██████▎   | 3177/5025 [00:03<00:01, 1042.19it/s]\u001b[A\n",
      " 65%|██████▌   | 3285/5025 [00:03<00:01, 1051.78it/s]\u001b[A\n",
      " 68%|██████▊   | 3392/5025 [00:03<00:01, 994.65it/s] \u001b[A\n",
      " 70%|██████▉   | 3498/5025 [00:03<00:01, 1010.66it/s]\u001b[A\n",
      " 72%|███████▏  | 3617/5025 [00:03<00:01, 1056.34it/s]\u001b[A\n",
      " 74%|███████▍  | 3736/5025 [00:03<00:01, 1092.84it/s]\u001b[A\n",
      " 77%|███████▋  | 3847/5025 [00:03<00:01, 1090.27it/s]\u001b[A\n",
      " 79%|███████▉  | 3969/5025 [00:03<00:00, 1126.19it/s]\u001b[A\n",
      " 83%|████████▎ | 4193/5025 [00:04<00:00, 1320.14it/s]\u001b[A\n",
      " 88%|████████▊ | 4437/5025 [00:04<00:00, 1530.35it/s]\u001b[A\n",
      " 93%|█████████▎| 4665/5025 [00:04<00:00, 1697.31it/s]\u001b[A\n",
      " 98%|█████████▊| 4912/5025 [00:04<00:00, 1872.64it/s]\u001b[A\n",
      " 85%|████████▍ | 11/13 [07:03<01:18, 39.16s/it]6it/s]\u001b[A"
     ]
    },
    {
     "name": "stdout",
     "output_type": "stream",
     "text": [
      "\n",
      "\n",
      "\n"
     ]
    },
    {
     "name": "stderr",
     "output_type": "stream",
     "text": [
      "\n",
      "  0%|          | 0/4866 [00:00<?, ?it/s]\u001b[A"
     ]
    },
    {
     "name": "stdout",
     "output_type": "stream",
     "text": [
      "4866  total records were parsed\n",
      "SR_Roary_NoSplitParalogs_I80 4866 4866\n"
     ]
    },
    {
     "name": "stderr",
     "output_type": "stream",
     "text": [
      "\n",
      " 44%|████▍     | 2152/4866 [00:00<00:00, 10241.43it/s]\u001b[A\n",
      " 59%|█████▊    | 2849/4866 [00:02<00:02, 948.04it/s]  \u001b[A\n",
      "100%|██████████| 4866/4866 [00:02<00:00, 1936.39it/s]\u001b[A\n",
      "  0%|          | 0/4866 [00:00<?, ?it/s]\u001b[A\n",
      "  2%|▏         | 110/4866 [00:00<00:04, 1096.53it/s]\u001b[A"
     ]
    },
    {
     "name": "stdout",
     "output_type": "stream",
     "text": [
      "4866\n"
     ]
    },
    {
     "name": "stderr",
     "output_type": "stream",
     "text": [
      "\n",
      "  4%|▍         | 198/4866 [00:00<00:04, 1015.66it/s]\u001b[A\n",
      "  6%|▌         | 301/4866 [00:00<00:04, 1016.24it/s]\u001b[A\n",
      "  9%|▊         | 415/4866 [00:00<00:04, 1046.44it/s]\u001b[A\n",
      " 10%|█         | 503/4866 [00:00<00:04, 989.09it/s] \u001b[A\n",
      " 12%|█▏        | 597/4866 [00:00<00:04, 973.29it/s]\u001b[A\n",
      " 14%|█▍        | 690/4866 [00:00<00:04, 955.52it/s]\u001b[A\n",
      " 16%|█▋        | 799/4866 [00:00<00:04, 991.58it/s]\u001b[A\n",
      " 18%|█▊        | 893/4866 [00:00<00:04, 960.49it/s]\u001b[A\n",
      " 20%|██        | 986/4866 [00:01<00:04, 949.19it/s]\u001b[A\n",
      " 22%|██▏       | 1087/4866 [00:01<00:03, 963.98it/s]\u001b[A\n",
      " 24%|██▍       | 1182/4866 [00:01<00:03, 928.36it/s]\u001b[A\n",
      " 26%|██▌       | 1274/4866 [00:01<00:03, 920.93it/s]\u001b[A\n",
      " 28%|██▊       | 1366/4866 [00:01<00:03, 917.35it/s]\u001b[A\n",
      " 30%|██▉       | 1459/4866 [00:01<00:03, 916.50it/s]\u001b[A\n",
      " 32%|███▏      | 1560/4866 [00:01<00:03, 941.33it/s]\u001b[A\n",
      " 34%|███▍      | 1655/4866 [00:01<00:03, 902.99it/s]\u001b[A\n",
      " 36%|███▋      | 1764/4866 [00:01<00:03, 950.00it/s]\u001b[A\n",
      " 38%|███▊      | 1869/4866 [00:01<00:03, 977.60it/s]\u001b[A\n",
      " 40%|████      | 1968/4866 [00:02<00:03, 923.09it/s]\u001b[A\n",
      " 42%|████▏     | 2062/4866 [00:02<00:03, 926.83it/s]\u001b[A\n",
      " 44%|████▍     | 2158/4866 [00:02<00:02, 935.93it/s]\u001b[A\n",
      " 46%|████▋     | 2253/4866 [00:02<00:02, 908.09it/s]\u001b[A\n",
      " 49%|████▊     | 2361/4866 [00:02<00:02, 950.91it/s]\u001b[A\n",
      " 51%|█████     | 2458/4866 [00:02<00:02, 937.03it/s]\u001b[A\n",
      " 52%|█████▏    | 2553/4866 [00:02<00:02, 935.39it/s]\u001b[A\n",
      " 54%|█████▍    | 2649/4866 [00:02<00:02, 941.42it/s]\u001b[A\n",
      " 57%|█████▋    | 2783/4866 [00:02<00:02, 1033.06it/s]\u001b[A\n",
      " 59%|█████▉    | 2890/4866 [00:03<00:02, 973.99it/s] \u001b[A\n",
      " 61%|██████▏   | 2991/4866 [00:03<00:02, 932.03it/s]\u001b[A\n",
      " 64%|██████▎   | 3090/4866 [00:03<00:01, 944.29it/s]\u001b[A\n",
      " 66%|██████▌   | 3203/4866 [00:03<00:01, 992.56it/s]\u001b[A\n",
      " 68%|██████▊   | 3307/4866 [00:03<00:01, 1005.58it/s]\u001b[A\n",
      " 70%|███████   | 3409/4866 [00:03<00:01, 980.59it/s] \u001b[A\n",
      " 73%|███████▎  | 3529/4866 [00:03<00:01, 1036.35it/s]\u001b[A\n",
      " 75%|███████▍  | 3643/4866 [00:03<00:01, 1063.61it/s]\u001b[A\n",
      " 77%|███████▋  | 3761/4866 [00:03<00:01, 1095.83it/s]\u001b[A\n",
      " 80%|███████▉  | 3873/4866 [00:03<00:00, 1100.68it/s]\u001b[A\n",
      " 83%|████████▎ | 4045/4866 [00:04<00:00, 1233.71it/s]\u001b[A\n",
      " 89%|████████▊ | 4310/4866 [00:04<00:00, 1468.88it/s]\u001b[A\n",
      " 93%|█████████▎| 4548/4866 [00:04<00:00, 1658.30it/s]\u001b[A\n",
      " 99%|█████████▉| 4806/4866 [00:04<00:00, 1855.87it/s]\u001b[A\n",
      " 92%|█████████▏| 12/13 [07:41<00:38, 38.96s/it]0it/s]\u001b[A"
     ]
    },
    {
     "name": "stdout",
     "output_type": "stream",
     "text": [
      "\n",
      "\n",
      "\n",
      "4956  total records were parsed\n"
     ]
    },
    {
     "name": "stderr",
     "output_type": "stream",
     "text": [
      "\n",
      "  0%|          | 0/4956 [00:00<?, ?it/s]\u001b[A\n",
      "100%|██████████| 4956/4956 [00:00<00:00, 32143.04it/s]\u001b[A\n",
      "  0%|          | 0/4956 [00:00<?, ?it/s]\u001b[A"
     ]
    },
    {
     "name": "stdout",
     "output_type": "stream",
     "text": [
      "SR_Roary_NoSplitParalogs_I90 4956 4956\n",
      "4956\n"
     ]
    },
    {
     "name": "stderr",
     "output_type": "stream",
     "text": [
      "\n",
      "  2%|▏         | 75/4956 [00:00<00:06, 744.55it/s]\u001b[A\n",
      "  4%|▎         | 183/4956 [00:00<00:05, 820.90it/s]\u001b[A\n",
      "  6%|▌         | 291/4956 [00:00<00:05, 882.49it/s]\u001b[A\n",
      "  8%|▊         | 404/4956 [00:00<00:04, 941.61it/s]\u001b[A\n",
      " 10%|█         | 502/4956 [00:00<00:04, 947.52it/s]\u001b[A\n",
      " 12%|█▏        | 607/4956 [00:00<00:04, 975.30it/s]\u001b[A\n",
      " 14%|█▍        | 707/4956 [00:00<00:04, 982.45it/s]\u001b[A\n",
      " 17%|█▋        | 822/4956 [00:00<00:04, 1026.10it/s]\u001b[A\n",
      " 19%|█▊        | 922/4956 [00:00<00:04, 1003.23it/s]\u001b[A\n",
      " 21%|██        | 1026/4956 [00:01<00:03, 1013.74it/s]\u001b[A\n",
      " 23%|██▎       | 1127/4956 [00:01<00:03, 978.33it/s] \u001b[A\n",
      " 25%|██▍       | 1234/4956 [00:01<00:03, 1003.72it/s]\u001b[A\n",
      " 27%|██▋       | 1335/4956 [00:01<00:03, 997.65it/s] \u001b[A\n",
      " 29%|██▉       | 1436/4956 [00:01<00:03, 998.11it/s]\u001b[A\n",
      " 31%|███       | 1544/4956 [00:01<00:03, 1018.99it/s]\u001b[A\n",
      " 33%|███▎      | 1646/4956 [00:01<00:03, 995.96it/s] \u001b[A\n",
      " 35%|███▌      | 1756/4956 [00:01<00:03, 1021.17it/s]\u001b[A\n",
      " 38%|███▊      | 1872/4956 [00:01<00:02, 1058.66it/s]\u001b[A\n",
      " 40%|███▉      | 1979/4956 [00:01<00:02, 998.90it/s] \u001b[A\n",
      " 42%|████▏     | 2080/4956 [00:02<00:02, 994.91it/s]\u001b[A\n",
      " 44%|████▍     | 2181/4956 [00:02<00:02, 950.90it/s]\u001b[A\n",
      " 46%|████▌     | 2281/4956 [00:02<00:02, 965.00it/s]\u001b[A\n",
      " 48%|████▊     | 2395/4956 [00:02<00:02, 1011.47it/s]\u001b[A\n",
      " 50%|█████     | 2498/4956 [00:02<00:02, 976.68it/s] \u001b[A\n",
      " 52%|█████▏    | 2597/4956 [00:02<00:02, 956.06it/s]\u001b[A\n",
      " 55%|█████▍    | 2718/4956 [00:02<00:02, 1018.44it/s]\u001b[A\n",
      " 57%|█████▋    | 2837/4956 [00:02<00:01, 1062.00it/s]\u001b[A\n",
      " 59%|█████▉    | 2945/4956 [00:02<00:02, 1001.09it/s]\u001b[A\n",
      " 61%|██████▏   | 3047/4956 [00:03<00:01, 970.55it/s] \u001b[A\n",
      " 64%|██████▎   | 3156/4956 [00:03<00:01, 1003.06it/s]\u001b[A\n",
      " 66%|██████▌   | 3260/4956 [00:03<00:01, 1012.07it/s]\u001b[A\n",
      " 68%|██████▊   | 3363/4956 [00:03<00:01, 962.71it/s] \u001b[A\n",
      " 70%|██████▉   | 3461/4956 [00:03<00:01, 964.58it/s]\u001b[A\n",
      " 72%|███████▏  | 3585/4956 [00:03<00:01, 1032.03it/s]\u001b[A\n",
      " 75%|███████▍  | 3701/4956 [00:03<00:01, 1065.46it/s]\u001b[A\n",
      " 77%|███████▋  | 3810/4956 [00:03<00:01, 1038.91it/s]\u001b[A\n",
      " 79%|███████▉  | 3921/4956 [00:03<00:00, 1053.16it/s]\u001b[A\n",
      " 83%|████████▎ | 4091/4956 [00:03<00:00, 1188.03it/s]\u001b[A\n",
      " 87%|████████▋ | 4324/4956 [00:04<00:00, 1391.29it/s]\u001b[A\n",
      " 92%|█████████▏| 4548/4956 [00:04<00:00, 1569.63it/s]\u001b[A\n",
      " 97%|█████████▋| 4798/4956 [00:04<00:00, 1765.47it/s]\u001b[A\n",
      "100%|██████████| 13/13 [08:18<00:00, 38.25s/it]9it/s]\u001b[A"
     ]
    },
    {
     "name": "stdout",
     "output_type": "stream",
     "text": [
      "\n",
      "\n",
      "\n"
     ]
    },
    {
     "name": "stderr",
     "output_type": "stream",
     "text": [
      "\n"
     ]
    }
   ],
   "source": [
    "PG_GeneSeq_KmerCatMatch_DF_Dict = {}\n",
    "PG_GeneSeq_UnqSeqSVNodeMatch_DF_Dict = {}\n",
    "\n",
    "PG_GeneSeq_CategorySumm_DF_Dict = {}\n",
    "\n",
    "PG_Gene_DF_Dict = {}\n",
    "\n",
    "for i_Param, i_PG_Ref_FA_PATH in tqdm(PG_GeneRefFA_PATH_Dict.items()):\n",
    "\n",
    "    i_Ref_DictOf_Hashes, i_Ref_DictOf_SeqLen = read_kmers_from_file_ToHashesDict(i_PG_Ref_FA_PATH, 31)  \n",
    "    \n",
    "    i_N_AsmWiGene_Dict = PresAbs_DF_Dict[i_Param][\"NumAsm_WiGene\"].to_dict()    \n",
    "\n",
    "    print(i_Param, len(list(i_Ref_DictOf_Hashes.keys())), len(list(i_N_AsmWiGene_Dict.keys())) )\n",
    "\n",
    "    i_Gene_Simp_DF = create_simple_gene_df(i_Ref_DictOf_Hashes,\n",
    "                                           i_Ref_DictOf_SeqLen,\n",
    "                                           i_N_AsmWiGene_Dict)\n",
    "\n",
    "    print(i_Gene_Simp_DF.shape[0])\n",
    "    \n",
    "    PG_Gene_DF_Dict[i_Param] = i_Gene_Simp_DF\n",
    "\n",
    "    i_Gene_KmerCatMatch_DF = compute_kmer_match_df(i_Ref_DictOf_Hashes,\n",
    "                                                   i_Ref_DictOf_SeqLen,\n",
    "                                                   RvGeneCat_To_KmerHashes_Dict,\n",
    "                                                   i_N_AsmWiGene_Dict)\n",
    "\n",
    "    # Apply classification to the main DataFrame\n",
    "    threshold = 0.25  # Set the classification threshold\n",
    "    i_Gene_KmerCatMatch_DF[\"KmerMatch_RvGeneCat\"] = i_Gene_KmerCatMatch_DF.apply(\n",
    "        lambda row: classify_node(row, ListOf_Rv_GeneCats, threshold), axis=1)\n",
    "\n",
    "    # Add the number of assemblies matching the gene\n",
    "    i_Gene_KmerCatMatch_DF[\"NumAsm_WiGene\"] = i_Gene_KmerCatMatch_DF[\"GeneID\"].map(i_N_AsmWiGene_Dict)\n",
    "\n",
    "    PG_GeneSeq_KmerCatMatch_DF_Dict[i_Param] = i_Gene_KmerCatMatch_DF\n",
    "    PG_GeneSeq_CategorySumm_DF_Dict[i_Param] = summarize_sv_categories_with_functional_category(i_Gene_KmerCatMatch_DF,\n",
    "                                                                                                ListOf_Rv_GeneCats)    \n",
    "\n",
    "\n",
    "    # i_Gene_CompToUnqSeq_SVNodes_DF = compute_kmer_match_df(i_Ref_DictOf_Hashes,\n",
    "    #                                                        i_Ref_DictOf_SeqLen,\n",
    "    #                                                        MG_SVNodes_UnqSeq_HashDict,\n",
    "    #                                                        i_N_AsmWiGene_Dict)\n",
    "\n",
    "    # # Apply classification to the main DataFrame\n",
    "    # threshold = 0.25  # Set the classification threshold\n",
    "    # i_Gene_CompToUnqSeq_SVNodes_DF[\"Matched_UnqSeq_NodeIDs\"] = i_Gene_CompToUnqSeq_SVNodes_DF.apply(\n",
    "    #     lambda row: classify_node(row, SVNodeIDs_UnqSeq, threshold), axis=1)\n",
    "    \n",
    "    # PG_GeneSeq_UnqSeqSVNodeMatch_DF_Dict[i_Param] = i_Gene_CompToUnqSeq_SVNodes_DF\n",
    "\n",
    "    print(\"\\n\\n\")"
   ]
  },
  {
   "cell_type": "code",
   "execution_count": 138,
   "id": "508de546-3d80-4dde-8152-d864612be49a",
   "metadata": {},
   "outputs": [
    {
     "data": {
      "text/plain": [
       "'SR_Roary_NoSplitParalogs_I90'"
      ]
     },
     "execution_count": 138,
     "metadata": {},
     "output_type": "execute_result"
    }
   ],
   "source": [
    "i_Param"
   ]
  },
  {
   "cell_type": "code",
   "execution_count": 139,
   "id": "ee510d87-cc77-4804-a32f-645f1093e2d9",
   "metadata": {},
   "outputs": [
    {
     "data": {
      "text/html": [
       "<div>\n",
       "<style scoped>\n",
       "    .dataframe tbody tr th:only-of-type {\n",
       "        vertical-align: middle;\n",
       "    }\n",
       "\n",
       "    .dataframe tbody tr th {\n",
       "        vertical-align: top;\n",
       "    }\n",
       "\n",
       "    .dataframe thead th {\n",
       "        text-align: right;\n",
       "    }\n",
       "</style>\n",
       "<table border=\"1\" class=\"dataframe\">\n",
       "  <thead>\n",
       "    <tr style=\"text-align: right;\">\n",
       "      <th></th>\n",
       "      <th>GeneID</th>\n",
       "      <th>SeqLength</th>\n",
       "      <th>information pathways</th>\n",
       "      <th>conserved hypotheticals</th>\n",
       "      <th>cell wall and cell processes</th>\n",
       "      <th>stable RNAs</th>\n",
       "      <th>intermediary metabolism and respiration</th>\n",
       "      <th>regulatory proteins</th>\n",
       "      <th>virulence, detoxification, adaptation</th>\n",
       "      <th>insertion seqs and phages</th>\n",
       "      <th>lipid metabolism</th>\n",
       "      <th>PE/PPE</th>\n",
       "      <th>unknown</th>\n",
       "      <th>NumAsm_WiGene</th>\n",
       "      <th>KmerMatch_RvGeneCat</th>\n",
       "    </tr>\n",
       "  </thead>\n",
       "  <tbody>\n",
       "    <tr>\n",
       "      <th>0</th>\n",
       "      <td>moaE1</td>\n",
       "      <td>444</td>\n",
       "      <td>0.0</td>\n",
       "      <td>0.00</td>\n",
       "      <td>0.0</td>\n",
       "      <td>0.0</td>\n",
       "      <td>1.000000</td>\n",
       "      <td>0.0</td>\n",
       "      <td>0.0</td>\n",
       "      <td>0.0</td>\n",
       "      <td>0.0</td>\n",
       "      <td>0.0</td>\n",
       "      <td>0.0</td>\n",
       "      <td>151</td>\n",
       "      <td>intermediary metabolism and respiration</td>\n",
       "    </tr>\n",
       "    <tr>\n",
       "      <th>1</th>\n",
       "      <td>group_4467</td>\n",
       "      <td>603</td>\n",
       "      <td>0.0</td>\n",
       "      <td>1.00</td>\n",
       "      <td>0.0</td>\n",
       "      <td>0.0</td>\n",
       "      <td>0.000000</td>\n",
       "      <td>0.0</td>\n",
       "      <td>0.0</td>\n",
       "      <td>0.0</td>\n",
       "      <td>0.0</td>\n",
       "      <td>0.0</td>\n",
       "      <td>0.0</td>\n",
       "      <td>151</td>\n",
       "      <td>conserved hypotheticals</td>\n",
       "    </tr>\n",
       "    <tr>\n",
       "      <th>2</th>\n",
       "      <td>cyp141</td>\n",
       "      <td>1203</td>\n",
       "      <td>0.0</td>\n",
       "      <td>0.00</td>\n",
       "      <td>0.0</td>\n",
       "      <td>0.0</td>\n",
       "      <td>0.973572</td>\n",
       "      <td>0.0</td>\n",
       "      <td>0.0</td>\n",
       "      <td>0.0</td>\n",
       "      <td>0.0</td>\n",
       "      <td>0.0</td>\n",
       "      <td>0.0</td>\n",
       "      <td>150</td>\n",
       "      <td>intermediary metabolism and respiration</td>\n",
       "    </tr>\n",
       "    <tr>\n",
       "      <th>3</th>\n",
       "      <td>group_1592</td>\n",
       "      <td>471</td>\n",
       "      <td>0.0</td>\n",
       "      <td>1.00</td>\n",
       "      <td>0.0</td>\n",
       "      <td>0.0</td>\n",
       "      <td>0.000000</td>\n",
       "      <td>0.0</td>\n",
       "      <td>0.0</td>\n",
       "      <td>0.0</td>\n",
       "      <td>0.0</td>\n",
       "      <td>0.0</td>\n",
       "      <td>0.0</td>\n",
       "      <td>151</td>\n",
       "      <td>conserved hypotheticals</td>\n",
       "    </tr>\n",
       "    <tr>\n",
       "      <th>4</th>\n",
       "      <td>group_4812</td>\n",
       "      <td>270</td>\n",
       "      <td>0.0</td>\n",
       "      <td>0.95</td>\n",
       "      <td>0.0</td>\n",
       "      <td>0.0</td>\n",
       "      <td>0.000000</td>\n",
       "      <td>0.0</td>\n",
       "      <td>0.0</td>\n",
       "      <td>0.0</td>\n",
       "      <td>0.0</td>\n",
       "      <td>0.0</td>\n",
       "      <td>0.0</td>\n",
       "      <td>151</td>\n",
       "      <td>conserved hypotheticals</td>\n",
       "    </tr>\n",
       "  </tbody>\n",
       "</table>\n",
       "</div>"
      ],
      "text/plain": [
       "       GeneID  SeqLength  information pathways  conserved hypotheticals  \\\n",
       "0       moaE1        444                   0.0                     0.00   \n",
       "1  group_4467        603                   0.0                     1.00   \n",
       "2      cyp141       1203                   0.0                     0.00   \n",
       "3  group_1592        471                   0.0                     1.00   \n",
       "4  group_4812        270                   0.0                     0.95   \n",
       "\n",
       "   cell wall and cell processes  stable RNAs  \\\n",
       "0                           0.0          0.0   \n",
       "1                           0.0          0.0   \n",
       "2                           0.0          0.0   \n",
       "3                           0.0          0.0   \n",
       "4                           0.0          0.0   \n",
       "\n",
       "   intermediary metabolism and respiration  regulatory proteins  \\\n",
       "0                                 1.000000                  0.0   \n",
       "1                                 0.000000                  0.0   \n",
       "2                                 0.973572                  0.0   \n",
       "3                                 0.000000                  0.0   \n",
       "4                                 0.000000                  0.0   \n",
       "\n",
       "   virulence, detoxification, adaptation  insertion seqs and phages  \\\n",
       "0                                    0.0                        0.0   \n",
       "1                                    0.0                        0.0   \n",
       "2                                    0.0                        0.0   \n",
       "3                                    0.0                        0.0   \n",
       "4                                    0.0                        0.0   \n",
       "\n",
       "   lipid metabolism  PE/PPE  unknown  NumAsm_WiGene  \\\n",
       "0               0.0     0.0      0.0            151   \n",
       "1               0.0     0.0      0.0            151   \n",
       "2               0.0     0.0      0.0            150   \n",
       "3               0.0     0.0      0.0            151   \n",
       "4               0.0     0.0      0.0            151   \n",
       "\n",
       "                       KmerMatch_RvGeneCat  \n",
       "0  intermediary metabolism and respiration  \n",
       "1                  conserved hypotheticals  \n",
       "2  intermediary metabolism and respiration  \n",
       "3                  conserved hypotheticals  \n",
       "4                  conserved hypotheticals  "
      ]
     },
     "execution_count": 139,
     "metadata": {},
     "output_type": "execute_result"
    }
   ],
   "source": [
    "i_Gene_KmerCatMatch_DF.head(5)"
   ]
  },
  {
   "cell_type": "code",
   "execution_count": 140,
   "id": "10371f0d-2a2c-47e4-8f34-bc9ef5756724",
   "metadata": {},
   "outputs": [
    {
     "data": {
      "text/plain": [
       "4956"
      ]
     },
     "execution_count": 140,
     "metadata": {},
     "output_type": "execute_result"
    }
   ],
   "source": [
    "len(list(i_Ref_DictOf_Hashes.keys()))"
   ]
  },
  {
   "cell_type": "code",
   "execution_count": null,
   "id": "522d38b4-ce69-4dfb-8569-b0f980b7d62c",
   "metadata": {},
   "outputs": [],
   "source": []
  },
  {
   "cell_type": "code",
   "execution_count": 144,
   "id": "ea4561d3-4169-446c-89bf-df0ade31e144",
   "metadata": {},
   "outputs": [
    {
     "data": {
      "text/plain": [
       "(4252, 15)"
      ]
     },
     "execution_count": 144,
     "metadata": {},
     "output_type": "execute_result"
    }
   ],
   "source": [
    "PG_GeneSeq_KmerCatMatch_DF_Dict['Roary_NoSplitParalogs_I80'].shape"
   ]
  },
  {
   "cell_type": "code",
   "execution_count": 145,
   "id": "4a7bd3c0-7fd0-440e-bd9e-9f70721996ae",
   "metadata": {},
   "outputs": [
    {
     "data": {
      "text/plain": [
       "(4293, 3)"
      ]
     },
     "execution_count": 145,
     "metadata": {},
     "output_type": "execute_result"
    }
   ],
   "source": [
    "PG_Gene_DF_Dict['Roary_NoSplitParalogs_I90'].shape"
   ]
  },
  {
   "cell_type": "code",
   "execution_count": 146,
   "id": "176bd2e3-f789-4d35-ae53-7d1437b6d19b",
   "metadata": {},
   "outputs": [
    {
     "data": {
      "text/plain": [
       "(4293, 3)"
      ]
     },
     "execution_count": 146,
     "metadata": {},
     "output_type": "execute_result"
    }
   ],
   "source": [
    "PG_Gene_DF_Dict['Roary_NoSplitParalogs_I90'].shape"
   ]
  },
  {
   "cell_type": "code",
   "execution_count": 135,
   "id": "0d19401f-e9b5-4f24-ad67-0dbab28ea737",
   "metadata": {},
   "outputs": [
    {
     "data": {
      "text/plain": [
       "dict_keys(['Panaroo_Strict_MP', 'Panaroo_Moderate_MP', 'Panaroo_Sens_MP', 'Roary_Default', 'Roary_NoSplitParalogs', 'Roary_NoSplitParalogs_I80', 'Roary_NoSplitParalogs_I90', 'SR_Panaroo_Strict_MP', 'SR_Panaroo_Sens_MP', 'SR_Roary_Default', 'SR_Roary_NoSplitParalogs', 'SR_Roary_NoSplitParalogs_I80', 'SR_Roary_NoSplitParalogs_I90'])"
      ]
     },
     "execution_count": 135,
     "metadata": {},
     "output_type": "execute_result"
    }
   ],
   "source": [
    "PG_GeneRefFA_PATH_Dict.keys()"
   ]
  },
  {
   "cell_type": "code",
   "execution_count": 147,
   "id": "484288c4-8469-4f76-9bfb-a1c003527955",
   "metadata": {},
   "outputs": [
    {
     "data": {
      "text/plain": [
       "dict_keys(['Panaroo_Strict_MP', 'Panaroo_Moderate_MP', 'Panaroo_Sens_MP', 'Roary_Default', 'Roary_NoSplitParalogs', 'Roary_NoSplitParalogs_I80', 'Roary_NoSplitParalogs_I90', 'SR_Panaroo_Strict_MP', 'SR_Panaroo_Sens_MP', 'SR_Roary_Default', 'SR_Roary_NoSplitParalogs', 'SR_Roary_NoSplitParalogs_I80', 'SR_Roary_NoSplitParalogs_I90'])"
      ]
     },
     "execution_count": 147,
     "metadata": {},
     "output_type": "execute_result"
    }
   ],
   "source": [
    "PG_Gene_DF_Dict.keys()"
   ]
  },
  {
   "cell_type": "code",
   "execution_count": 148,
   "id": "50a30152-ef3d-4197-ae7b-400348b19d6a",
   "metadata": {},
   "outputs": [
    {
     "name": "stdout",
     "output_type": "stream",
     "text": [
      "\n",
      "Panaroo_Strict_MP\n",
      "4200\n",
      "(4200, 153)\n",
      "(4200, 3)\n",
      "\n",
      "\n",
      "Panaroo_Moderate_MP\n",
      "4280\n",
      "(4280, 153)\n",
      "(4280, 3)\n",
      "\n",
      "\n",
      "Panaroo_Sens_MP\n",
      "4281\n",
      "(4281, 153)\n",
      "(4281, 3)\n",
      "\n",
      "\n",
      "Roary_Default\n",
      "5366\n",
      "(5366, 153)\n",
      "(5366, 3)\n",
      "\n",
      "\n",
      "Roary_NoSplitParalogs\n",
      "4366\n",
      "(4366, 153)\n",
      "(4366, 3)\n",
      "\n",
      "\n",
      "Roary_NoSplitParalogs_I80\n",
      "4252\n",
      "(4252, 153)\n",
      "(4252, 3)\n",
      "\n",
      "\n",
      "Roary_NoSplitParalogs_I90\n",
      "4293\n",
      "(4293, 153)\n",
      "(4293, 3)\n",
      "\n",
      "\n",
      "SR_Panaroo_Strict_MP\n",
      "4211\n",
      "(4211, 153)\n",
      "(4211, 3)\n",
      "\n",
      "\n",
      "SR_Panaroo_Sens_MP\n",
      "4600\n",
      "(4600, 153)\n",
      "(4600, 3)\n",
      "\n",
      "\n",
      "SR_Roary_Default\n",
      "6006\n",
      "(6006, 153)\n",
      "(6006, 3)\n",
      "\n",
      "\n",
      "SR_Roary_NoSplitParalogs\n",
      "5025\n",
      "(5025, 153)\n",
      "(5025, 3)\n",
      "\n",
      "\n",
      "SR_Roary_NoSplitParalogs_I80\n",
      "4866\n",
      "(4866, 153)\n",
      "(4866, 3)\n",
      "\n",
      "\n",
      "SR_Roary_NoSplitParalogs_I90\n",
      "4956\n",
      "(4956, 153)\n",
      "(4956, 3)\n",
      "\n"
     ]
    }
   ],
   "source": [
    "for i_Param, i_PG_Ref_FA_PATH in (PG_GeneRefFA_PATH_Dict.items()):\n",
    "    print()\n",
    "    print(i_Param)\n",
    "    !grep ^\">\" $i_PG_Ref_FA_PATH | wc -l \n",
    "    print(PresAbs_DF_Dict[i_Param].shape)\n",
    "    print(PG_Gene_DF_Dict[i_Param].shape)\n",
    "    print()"
   ]
  },
  {
   "cell_type": "code",
   "execution_count": null,
   "id": "c3963f4f-6272-4e50-a7ee-95e54370610b",
   "metadata": {},
   "outputs": [],
   "source": []
  },
  {
   "cell_type": "code",
   "execution_count": 196,
   "id": "bfe9be8e-771e-4556-891f-038538cbcdf4",
   "metadata": {},
   "outputs": [
    {
     "data": {
      "text/html": [
       "<div>\n",
       "<style scoped>\n",
       "    .dataframe tbody tr th:only-of-type {\n",
       "        vertical-align: middle;\n",
       "    }\n",
       "\n",
       "    .dataframe tbody tr th {\n",
       "        vertical-align: top;\n",
       "    }\n",
       "\n",
       "    .dataframe thead th {\n",
       "        text-align: right;\n",
       "    }\n",
       "</style>\n",
       "<table border=\"1\" class=\"dataframe\">\n",
       "  <thead>\n",
       "    <tr style=\"text-align: right;\">\n",
       "      <th></th>\n",
       "      <th>Functional_Category</th>\n",
       "      <th>Total Length</th>\n",
       "      <th>Node Count</th>\n",
       "      <th>Relative Size (%)</th>\n",
       "    </tr>\n",
       "  </thead>\n",
       "  <tbody>\n",
       "    <tr>\n",
       "      <th>information pathways</th>\n",
       "      <td>unknown</td>\n",
       "      <td>290325</td>\n",
       "      <td>278</td>\n",
       "      <td>6.93</td>\n",
       "    </tr>\n",
       "    <tr>\n",
       "      <th>conserved hypotheticals</th>\n",
       "      <td>unknown</td>\n",
       "      <td>759468</td>\n",
       "      <td>1084</td>\n",
       "      <td>18.14</td>\n",
       "    </tr>\n",
       "    <tr>\n",
       "      <th>cell wall and cell processes</th>\n",
       "      <td>unknown</td>\n",
       "      <td>845541</td>\n",
       "      <td>907</td>\n",
       "      <td>20.20</td>\n",
       "    </tr>\n",
       "    <tr>\n",
       "      <th>stable RNAs</th>\n",
       "      <td>unknown</td>\n",
       "      <td>0</td>\n",
       "      <td>0</td>\n",
       "      <td>0.00</td>\n",
       "    </tr>\n",
       "    <tr>\n",
       "      <th>intermediary metabolism and respiration</th>\n",
       "      <td>unknown</td>\n",
       "      <td>1092735</td>\n",
       "      <td>1086</td>\n",
       "      <td>26.10</td>\n",
       "    </tr>\n",
       "    <tr>\n",
       "      <th>regulatory proteins</th>\n",
       "      <td>unknown</td>\n",
       "      <td>166440</td>\n",
       "      <td>209</td>\n",
       "      <td>3.98</td>\n",
       "    </tr>\n",
       "    <tr>\n",
       "      <th>virulence, detoxification, adaptation</th>\n",
       "      <td>unknown</td>\n",
       "      <td>154077</td>\n",
       "      <td>239</td>\n",
       "      <td>3.68</td>\n",
       "    </tr>\n",
       "    <tr>\n",
       "      <th>insertion seqs and phages</th>\n",
       "      <td>unknown</td>\n",
       "      <td>72984</td>\n",
       "      <td>110</td>\n",
       "      <td>1.74</td>\n",
       "    </tr>\n",
       "    <tr>\n",
       "      <th>lipid metabolism</th>\n",
       "      <td>unknown</td>\n",
       "      <td>429372</td>\n",
       "      <td>354</td>\n",
       "      <td>10.26</td>\n",
       "    </tr>\n",
       "    <tr>\n",
       "      <th>PE/PPE</th>\n",
       "      <td>unknown</td>\n",
       "      <td>368139</td>\n",
       "      <td>472</td>\n",
       "      <td>8.79</td>\n",
       "    </tr>\n",
       "    <tr>\n",
       "      <th>unknown</th>\n",
       "      <td>unknown</td>\n",
       "      <td>7638</td>\n",
       "      <td>12</td>\n",
       "      <td>0.18</td>\n",
       "    </tr>\n",
       "    <tr>\n",
       "      <th>NoMatch</th>\n",
       "      <td>NoMatch</td>\n",
       "      <td>0</td>\n",
       "      <td>0</td>\n",
       "      <td>0.00</td>\n",
       "    </tr>\n",
       "  </tbody>\n",
       "</table>\n",
       "</div>"
      ],
      "text/plain": [
       "                                        Functional_Category  Total Length  \\\n",
       "information pathways                                unknown        290325   \n",
       "conserved hypotheticals                             unknown        759468   \n",
       "cell wall and cell processes                        unknown        845541   \n",
       "stable RNAs                                         unknown             0   \n",
       "intermediary metabolism and respiration             unknown       1092735   \n",
       "regulatory proteins                                 unknown        166440   \n",
       "virulence, detoxification, adaptation               unknown        154077   \n",
       "insertion seqs and phages                           unknown         72984   \n",
       "lipid metabolism                                    unknown        429372   \n",
       "PE/PPE                                              unknown        368139   \n",
       "unknown                                             unknown          7638   \n",
       "NoMatch                                             NoMatch             0   \n",
       "\n",
       "                                         Node Count  Relative Size (%)  \n",
       "information pathways                            278               6.93  \n",
       "conserved hypotheticals                        1084              18.14  \n",
       "cell wall and cell processes                    907              20.20  \n",
       "stable RNAs                                       0               0.00  \n",
       "intermediary metabolism and respiration        1086              26.10  \n",
       "regulatory proteins                             209               3.98  \n",
       "virulence, detoxification, adaptation           239               3.68  \n",
       "insertion seqs and phages                       110               1.74  \n",
       "lipid metabolism                                354              10.26  \n",
       "PE/PPE                                          472               8.79  \n",
       "unknown                                          12               0.18  \n",
       "NoMatch                                           0               0.00  "
      ]
     },
     "execution_count": 196,
     "metadata": {},
     "output_type": "execute_result"
    }
   ],
   "source": [
    "PG_GeneSeq_CategorySumm_DF_Dict[\"SR_Roary_NoSplitParalogs_I90\"]"
   ]
  },
  {
   "cell_type": "code",
   "execution_count": 195,
   "id": "cd5356e5-4753-48b5-bc81-418b8c409fb9",
   "metadata": {},
   "outputs": [
    {
     "data": {
      "text/html": [
       "<div>\n",
       "<style scoped>\n",
       "    .dataframe tbody tr th:only-of-type {\n",
       "        vertical-align: middle;\n",
       "    }\n",
       "\n",
       "    .dataframe tbody tr th {\n",
       "        vertical-align: top;\n",
       "    }\n",
       "\n",
       "    .dataframe thead th {\n",
       "        text-align: right;\n",
       "    }\n",
       "</style>\n",
       "<table border=\"1\" class=\"dataframe\">\n",
       "  <thead>\n",
       "    <tr style=\"text-align: right;\">\n",
       "      <th></th>\n",
       "      <th>Functional_Category</th>\n",
       "      <th>Total Length</th>\n",
       "      <th>Node Count</th>\n",
       "      <th>Relative Size (%)</th>\n",
       "    </tr>\n",
       "  </thead>\n",
       "  <tbody>\n",
       "    <tr>\n",
       "      <th>information pathways</th>\n",
       "      <td>unknown</td>\n",
       "      <td>268203</td>\n",
       "      <td>237</td>\n",
       "      <td>6.78</td>\n",
       "    </tr>\n",
       "    <tr>\n",
       "      <th>conserved hypotheticals</th>\n",
       "      <td>unknown</td>\n",
       "      <td>736572</td>\n",
       "      <td>1029</td>\n",
       "      <td>18.62</td>\n",
       "    </tr>\n",
       "    <tr>\n",
       "      <th>cell wall and cell processes</th>\n",
       "      <td>unknown</td>\n",
       "      <td>803622</td>\n",
       "      <td>788</td>\n",
       "      <td>20.31</td>\n",
       "    </tr>\n",
       "    <tr>\n",
       "      <th>stable RNAs</th>\n",
       "      <td>unknown</td>\n",
       "      <td>0</td>\n",
       "      <td>0</td>\n",
       "      <td>0.00</td>\n",
       "    </tr>\n",
       "    <tr>\n",
       "      <th>intermediary metabolism and respiration</th>\n",
       "      <td>unknown</td>\n",
       "      <td>1034316</td>\n",
       "      <td>946</td>\n",
       "      <td>26.14</td>\n",
       "    </tr>\n",
       "    <tr>\n",
       "      <th>regulatory proteins</th>\n",
       "      <td>unknown</td>\n",
       "      <td>160791</td>\n",
       "      <td>194</td>\n",
       "      <td>4.06</td>\n",
       "    </tr>\n",
       "    <tr>\n",
       "      <th>virulence, detoxification, adaptation</th>\n",
       "      <td>unknown</td>\n",
       "      <td>151686</td>\n",
       "      <td>230</td>\n",
       "      <td>3.83</td>\n",
       "    </tr>\n",
       "    <tr>\n",
       "      <th>insertion seqs and phages</th>\n",
       "      <td>unknown</td>\n",
       "      <td>74781</td>\n",
       "      <td>106</td>\n",
       "      <td>1.89</td>\n",
       "    </tr>\n",
       "    <tr>\n",
       "      <th>lipid metabolism</th>\n",
       "      <td>unknown</td>\n",
       "      <td>406257</td>\n",
       "      <td>269</td>\n",
       "      <td>10.27</td>\n",
       "    </tr>\n",
       "    <tr>\n",
       "      <th>PE/PPE</th>\n",
       "      <td>unknown</td>\n",
       "      <td>311778</td>\n",
       "      <td>260</td>\n",
       "      <td>7.88</td>\n",
       "    </tr>\n",
       "    <tr>\n",
       "      <th>unknown</th>\n",
       "      <td>unknown</td>\n",
       "      <td>8190</td>\n",
       "      <td>13</td>\n",
       "      <td>0.21</td>\n",
       "    </tr>\n",
       "    <tr>\n",
       "      <th>NoMatch</th>\n",
       "      <td>NoMatch</td>\n",
       "      <td>0</td>\n",
       "      <td>0</td>\n",
       "      <td>0.00</td>\n",
       "    </tr>\n",
       "  </tbody>\n",
       "</table>\n",
       "</div>"
      ],
      "text/plain": [
       "                                        Functional_Category  Total Length  \\\n",
       "information pathways                                unknown        268203   \n",
       "conserved hypotheticals                             unknown        736572   \n",
       "cell wall and cell processes                        unknown        803622   \n",
       "stable RNAs                                         unknown             0   \n",
       "intermediary metabolism and respiration             unknown       1034316   \n",
       "regulatory proteins                                 unknown        160791   \n",
       "virulence, detoxification, adaptation               unknown        151686   \n",
       "insertion seqs and phages                           unknown         74781   \n",
       "lipid metabolism                                    unknown        406257   \n",
       "PE/PPE                                              unknown        311778   \n",
       "unknown                                             unknown          8190   \n",
       "NoMatch                                             NoMatch             0   \n",
       "\n",
       "                                         Node Count  Relative Size (%)  \n",
       "information pathways                            237               6.78  \n",
       "conserved hypotheticals                        1029              18.62  \n",
       "cell wall and cell processes                    788              20.31  \n",
       "stable RNAs                                       0               0.00  \n",
       "intermediary metabolism and respiration         946              26.14  \n",
       "regulatory proteins                             194               4.06  \n",
       "virulence, detoxification, adaptation           230               3.83  \n",
       "insertion seqs and phages                       106               1.89  \n",
       "lipid metabolism                                269              10.27  \n",
       "PE/PPE                                          260               7.88  \n",
       "unknown                                          13               0.21  \n",
       "NoMatch                                           0               0.00  "
      ]
     },
     "execution_count": 195,
     "metadata": {},
     "output_type": "execute_result"
    }
   ],
   "source": [
    "PG_GeneSeq_CategorySumm_DF_Dict[\"Roary_NoSplitParalogs_I90\"]"
   ]
  },
  {
   "cell_type": "code",
   "execution_count": null,
   "id": "e0e9f763-98b1-4984-b29f-792d1890780a",
   "metadata": {},
   "outputs": [],
   "source": []
  },
  {
   "cell_type": "code",
   "execution_count": null,
   "id": "e52bf5d4-3dfc-427f-901a-6fb01f317795",
   "metadata": {},
   "outputs": [],
   "source": []
  },
  {
   "cell_type": "markdown",
   "id": "24f509ac-f1bc-464f-8394-5b3e218e839f",
   "metadata": {},
   "source": [
    "# Analysis of matching analysis of SV Nodes to Accessory Genes"
   ]
  },
  {
   "cell_type": "code",
   "execution_count": 208,
   "id": "9907ff82-6454-4128-a937-345cf3826c84",
   "metadata": {},
   "outputs": [],
   "source": [
    "# X_SummCols = [\"GeneID\", \"SeqLength\", \"NumAsm_WiGene\", \"Matched_UnqSeq_NodeIDs\"]\n",
    "X_SummCols = [\"GeneID\", \"SeqLength\", \"NumAsm_WiGene\", \"KmerMatch_RvGeneCat\"]\n"
   ]
  },
  {
   "cell_type": "code",
   "execution_count": 209,
   "id": "f332bcf4-397c-4ae9-81ac-cf7f23ec61fb",
   "metadata": {},
   "outputs": [
    {
     "data": {
      "text/plain": [
       "dict_keys(['Panaroo_Strict_MP', 'Panaroo_Moderate_MP', 'Panaroo_Sens_MP', 'Roary_Default', 'Roary_NoSplitParalogs', 'Roary_NoSplitParalogs_I80', 'Roary_NoSplitParalogs_I90', 'SR_Panaroo_Strict_MP', 'SR_Panaroo_Sens_MP', 'SR_Roary_Default', 'SR_Roary_NoSplitParalogs', 'SR_Roary_NoSplitParalogs_I80', 'SR_Roary_NoSplitParalogs_I90'])"
      ]
     },
     "execution_count": 209,
     "metadata": {},
     "output_type": "execute_result"
    }
   ],
   "source": [
    "PG_OutDir_Dict.keys()"
   ]
  },
  {
   "cell_type": "code",
   "execution_count": null,
   "id": "4baaa4b1-79dc-42a7-b571-e433c4cb06e9",
   "metadata": {},
   "outputs": [],
   "source": []
  },
  {
   "cell_type": "code",
   "execution_count": null,
   "id": "f3b8480a-12bb-4492-a933-c4dd0019e32a",
   "metadata": {},
   "outputs": [],
   "source": []
  },
  {
   "cell_type": "markdown",
   "id": "4422637b-74d2-47e9-8711-4cfde3cf31b8",
   "metadata": {},
   "source": [
    "### Create DFs of interest for each PG analysis output "
   ]
  },
  {
   "cell_type": "code",
   "execution_count": 210,
   "id": "20f6ae77-947d-4843-8207-01c1fecd6b1b",
   "metadata": {},
   "outputs": [],
   "source": [
    "PStrict_MP_X = PG_GeneSeq_KmerCatMatch_DF_Dict['Panaroo_Strict_MP'][X_SummCols]\n",
    "PStrict_MP_Acc = PStrict_MP_X.query(\"NumAsm_WiGene < 151\")\n",
    "#PStrict_MP_X2 = PStrict_MP_X.query(\"Matched_UnqSeq_NodeIDs != 'None'\")"
   ]
  },
  {
   "cell_type": "code",
   "execution_count": 211,
   "id": "8786b0f0-4570-4afb-9188-b85e243c4a27",
   "metadata": {},
   "outputs": [],
   "source": [
    "SR_PStrict_MP_X = PG_GeneSeq_KmerCatMatch_DF_Dict['SR_Panaroo_Strict_MP'][X_SummCols]\n",
    "SR_PStrict_MP_Acc = SR_PStrict_MP_X.query(\"NumAsm_WiGene < 151\")\n",
    "#SR_PStrict_MP_X2 = SR_PStrict_MP_X.query(\"Matched_UnqSeq_NodeIDs != 'None'\")"
   ]
  },
  {
   "cell_type": "code",
   "execution_count": 212,
   "id": "552d69bf-3ff8-4e8c-b53f-875b71e7e768",
   "metadata": {},
   "outputs": [],
   "source": [
    "PSens_MP_X = PG_GeneSeq_KmerCatMatch_DF_Dict['Panaroo_Sens_MP'][X_SummCols]\n",
    "PSens_MP_Acc = PSens_MP_X.query(\"NumAsm_WiGene < 151\")\n",
    "#PSens_MP_X2 = PSens_MP_X.query(\"Matched_UnqSeq_NodeIDs != 'None'\") "
   ]
  },
  {
   "cell_type": "code",
   "execution_count": 213,
   "id": "c287f86f-d157-4d4c-9577-3bc3d4fed846",
   "metadata": {},
   "outputs": [],
   "source": [
    "RDefault_X = PG_GeneSeq_KmerCatMatch_DF_Dict['Roary_Default'][X_SummCols]\n",
    "RDefault_Acc = RDefault_X.query(\"NumAsm_WiGene < 151\")\n",
    "#RDefault_X2 = RDefault_X.query(\"Matched_UnqSeq_NodeIDs != 'None'\") "
   ]
  },
  {
   "cell_type": "code",
   "execution_count": 214,
   "id": "4fe40119-b4c7-4556-8da3-db2d3fb59213",
   "metadata": {},
   "outputs": [],
   "source": [
    "SR_RDefault_X = PG_GeneSeq_KmerCatMatch_DF_Dict['SR_Roary_Default'][X_SummCols]\n",
    "SR_RDefault_Acc = SR_RDefault_X.query(\"NumAsm_WiGene < 151\")\n",
    "#SR_RDefault_X2 = SR_RDefault_X.query(\"Matched_UnqSeq_NodeIDs != 'None'\") "
   ]
  },
  {
   "cell_type": "code",
   "execution_count": 215,
   "id": "e4cbe642-333d-40f8-a9d3-b8ef2a07c662",
   "metadata": {},
   "outputs": [],
   "source": [
    "RDefault_MP_X = PG_GeneSeq_KmerCatMatch_DF_Dict['Roary_NoSplitParalogs'][X_SummCols]\n",
    "RDefault_MP_Acc = RDefault_MP_X.query(\"NumAsm_WiGene < 151\")\n",
    "#RDefault_MP_X2 = RDefault_MP_X.query(\"Matched_UnqSeq_NodeIDs != 'None'\") "
   ]
  },
  {
   "cell_type": "code",
   "execution_count": 216,
   "id": "1d62dda0-65b1-4efb-89a3-80d545e74e17",
   "metadata": {},
   "outputs": [],
   "source": [
    "RI80_MP_X = PG_GeneSeq_KmerCatMatch_DF_Dict['Roary_NoSplitParalogs_I80'][X_SummCols]\n",
    "RI80_MP_Acc = RI80_MP_X.query(\"NumAsm_WiGene < 151\")\n",
    "#RI80_MP_X2 = RI80_MP_X.query(\"Matched_UnqSeq_NodeIDs != 'None'\") "
   ]
  },
  {
   "cell_type": "code",
   "execution_count": 217,
   "id": "bcc2ac73-5a03-4ce3-afc7-b7b13db3cf67",
   "metadata": {},
   "outputs": [],
   "source": [
    "RI90_MP_X = PG_GeneSeq_KmerCatMatch_DF_Dict['Roary_NoSplitParalogs_I90'][X_SummCols]\n",
    "RI90_MP_Acc = RI80_MP_X.query(\"NumAsm_WiGene < 151\")\n",
    "#RI90_MP_X2 = RI80_MP_X.query(\"Matched_UnqSeq_NodeIDs != 'None'\") "
   ]
  },
  {
   "cell_type": "code",
   "execution_count": 218,
   "id": "f929536b-6c9d-47b4-be7b-78e55bb38c97",
   "metadata": {},
   "outputs": [
    {
     "data": {
      "text/plain": [
       "(4252, 4)"
      ]
     },
     "execution_count": 218,
     "metadata": {},
     "output_type": "execute_result"
    }
   ],
   "source": [
    "RI80_MP_X.shape"
   ]
  },
  {
   "cell_type": "code",
   "execution_count": 219,
   "id": "2823f01e-a5fa-4698-b303-692eaa6db3fa",
   "metadata": {},
   "outputs": [
    {
     "data": {
      "text/plain": [
       "(4293, 4)"
      ]
     },
     "execution_count": 219,
     "metadata": {},
     "output_type": "execute_result"
    }
   ],
   "source": [
    "RI90_MP_X.shape"
   ]
  },
  {
   "cell_type": "code",
   "execution_count": 190,
   "id": "35702f0e-8548-4d42-8d5a-c45d7a4f0e3f",
   "metadata": {},
   "outputs": [
    {
     "data": {
      "text/plain": [
       "(537, 3)"
      ]
     },
     "execution_count": 190,
     "metadata": {},
     "output_type": "execute_result"
    }
   ],
   "source": [
    "PStrict_MP_Acc.shape"
   ]
  },
  {
   "cell_type": "code",
   "execution_count": 167,
   "id": "07f162fc-14ef-489e-a1e8-3202c7530ae3",
   "metadata": {},
   "outputs": [
    {
     "data": {
      "text/plain": [
       "(4366, 3)"
      ]
     },
     "execution_count": 167,
     "metadata": {},
     "output_type": "execute_result"
    }
   ],
   "source": [
    "RDefault_MP_X.shape"
   ]
  },
  {
   "cell_type": "code",
   "execution_count": 168,
   "id": "7c46c92a-c889-4d33-b403-0e5697dad372",
   "metadata": {},
   "outputs": [
    {
     "data": {
      "text/plain": [
       "(6006, 3)"
      ]
     },
     "execution_count": 168,
     "metadata": {},
     "output_type": "execute_result"
    }
   ],
   "source": [
    "SR_RDefault_X.shape"
   ]
  },
  {
   "cell_type": "code",
   "execution_count": 193,
   "id": "39c29efb-c790-4f5e-82d6-b57931cce367",
   "metadata": {},
   "outputs": [
    {
     "data": {
      "text/plain": [
       "(537, 3)"
      ]
     },
     "execution_count": 193,
     "metadata": {},
     "output_type": "execute_result"
    }
   ],
   "source": [
    "PStrict_MP_Acc.shape"
   ]
  },
  {
   "cell_type": "code",
   "execution_count": 194,
   "id": "bbd581b6-bfe9-4484-9c2e-11703c8db62a",
   "metadata": {},
   "outputs": [
    {
     "data": {
      "text/plain": [
       "(663, 3)"
      ]
     },
     "execution_count": 194,
     "metadata": {},
     "output_type": "execute_result"
    }
   ],
   "source": [
    "RI90_MP_Acc.shape"
   ]
  },
  {
   "cell_type": "code",
   "execution_count": 220,
   "id": "266eb2e6-c4c3-40fc-a792-fb2769d569e2",
   "metadata": {},
   "outputs": [
    {
     "data": {
      "text/html": [
       "<div>\n",
       "<style scoped>\n",
       "    .dataframe tbody tr th:only-of-type {\n",
       "        vertical-align: middle;\n",
       "    }\n",
       "\n",
       "    .dataframe tbody tr th {\n",
       "        vertical-align: top;\n",
       "    }\n",
       "\n",
       "    .dataframe thead th {\n",
       "        text-align: right;\n",
       "    }\n",
       "</style>\n",
       "<table border=\"1\" class=\"dataframe\">\n",
       "  <thead>\n",
       "    <tr style=\"text-align: right;\">\n",
       "      <th></th>\n",
       "      <th>GeneID</th>\n",
       "      <th>SeqLength</th>\n",
       "      <th>NumAsm_WiGene</th>\n",
       "      <th>KmerMatch_RvGeneCat</th>\n",
       "    </tr>\n",
       "  </thead>\n",
       "  <tbody>\n",
       "    <tr>\n",
       "      <th>0</th>\n",
       "      <td>moaE1</td>\n",
       "      <td>444</td>\n",
       "      <td>151</td>\n",
       "      <td>intermediary metabolism and respiration</td>\n",
       "    </tr>\n",
       "    <tr>\n",
       "      <th>1</th>\n",
       "      <td>group_1487</td>\n",
       "      <td>603</td>\n",
       "      <td>151</td>\n",
       "      <td>conserved hypotheticals</td>\n",
       "    </tr>\n",
       "    <tr>\n",
       "      <th>2</th>\n",
       "      <td>group_69</td>\n",
       "      <td>270</td>\n",
       "      <td>151</td>\n",
       "      <td>conserved hypotheticals</td>\n",
       "    </tr>\n",
       "  </tbody>\n",
       "</table>\n",
       "</div>"
      ],
      "text/plain": [
       "       GeneID  SeqLength  NumAsm_WiGene  \\\n",
       "0       moaE1        444            151   \n",
       "1  group_1487        603            151   \n",
       "2    group_69        270            151   \n",
       "\n",
       "                       KmerMatch_RvGeneCat  \n",
       "0  intermediary metabolism and respiration  \n",
       "1                  conserved hypotheticals  \n",
       "2                  conserved hypotheticals  "
      ]
     },
     "execution_count": 220,
     "metadata": {},
     "output_type": "execute_result"
    }
   ],
   "source": [
    "SR_PStrict_MP_X.head(3)"
   ]
  },
  {
   "cell_type": "code",
   "execution_count": 221,
   "id": "06a96ef7-1dbb-49cc-b15e-f1e51cc0e717",
   "metadata": {},
   "outputs": [
    {
     "data": {
      "text/html": [
       "<div>\n",
       "<style scoped>\n",
       "    .dataframe tbody tr th:only-of-type {\n",
       "        vertical-align: middle;\n",
       "    }\n",
       "\n",
       "    .dataframe tbody tr th {\n",
       "        vertical-align: top;\n",
       "    }\n",
       "\n",
       "    .dataframe thead th {\n",
       "        text-align: right;\n",
       "    }\n",
       "</style>\n",
       "<table border=\"1\" class=\"dataframe\">\n",
       "  <thead>\n",
       "    <tr style=\"text-align: right;\">\n",
       "      <th></th>\n",
       "      <th>GeneID</th>\n",
       "      <th>SeqLength</th>\n",
       "      <th>NumAsm_WiGene</th>\n",
       "      <th>KmerMatch_RvGeneCat</th>\n",
       "    </tr>\n",
       "  </thead>\n",
       "  <tbody>\n",
       "    <tr>\n",
       "      <th>0</th>\n",
       "      <td>dnaA</td>\n",
       "      <td>1491</td>\n",
       "      <td>151</td>\n",
       "      <td>information pathways</td>\n",
       "    </tr>\n",
       "    <tr>\n",
       "      <th>1</th>\n",
       "      <td>dnaN</td>\n",
       "      <td>1209</td>\n",
       "      <td>151</td>\n",
       "      <td>information pathways</td>\n",
       "    </tr>\n",
       "  </tbody>\n",
       "</table>\n",
       "</div>"
      ],
      "text/plain": [
       "  GeneID  SeqLength  NumAsm_WiGene   KmerMatch_RvGeneCat\n",
       "0   dnaA       1491            151  information pathways\n",
       "1   dnaN       1209            151  information pathways"
      ]
     },
     "execution_count": 221,
     "metadata": {},
     "output_type": "execute_result"
    }
   ],
   "source": [
    "PStrict_MP_X.head(2)"
   ]
  },
  {
   "cell_type": "code",
   "execution_count": 200,
   "id": "61b8631b-190e-4ca0-bd9b-7b4f9f71c7af",
   "metadata": {},
   "outputs": [
    {
     "data": {
      "text/html": [
       "<div>\n",
       "<style scoped>\n",
       "    .dataframe tbody tr th:only-of-type {\n",
       "        vertical-align: middle;\n",
       "    }\n",
       "\n",
       "    .dataframe tbody tr th {\n",
       "        vertical-align: top;\n",
       "    }\n",
       "\n",
       "    .dataframe thead th {\n",
       "        text-align: right;\n",
       "    }\n",
       "</style>\n",
       "<table border=\"1\" class=\"dataframe\">\n",
       "  <thead>\n",
       "    <tr style=\"text-align: right;\">\n",
       "      <th></th>\n",
       "      <th>GeneID</th>\n",
       "      <th>SeqLength</th>\n",
       "      <th>NumAsm_WiGene</th>\n",
       "    </tr>\n",
       "  </thead>\n",
       "  <tbody>\n",
       "    <tr>\n",
       "      <th>37</th>\n",
       "      <td>group_105</td>\n",
       "      <td>249</td>\n",
       "      <td>147</td>\n",
       "    </tr>\n",
       "    <tr>\n",
       "      <th>38</th>\n",
       "      <td>group_2184</td>\n",
       "      <td>339</td>\n",
       "      <td>147</td>\n",
       "    </tr>\n",
       "    <tr>\n",
       "      <th>40</th>\n",
       "      <td>group_176</td>\n",
       "      <td>210</td>\n",
       "      <td>150</td>\n",
       "    </tr>\n",
       "  </tbody>\n",
       "</table>\n",
       "</div>"
      ],
      "text/plain": [
       "        GeneID  SeqLength  NumAsm_WiGene\n",
       "37   group_105        249            147\n",
       "38  group_2184        339            147\n",
       "40   group_176        210            150"
      ]
     },
     "execution_count": 200,
     "metadata": {},
     "output_type": "execute_result"
    }
   ],
   "source": [
    "SR_PStrict_MP_Acc.head(3)"
   ]
  },
  {
   "cell_type": "code",
   "execution_count": null,
   "id": "baeb97fa-d3f5-4784-b872-1e765228b1f7",
   "metadata": {},
   "outputs": [],
   "source": []
  },
  {
   "cell_type": "code",
   "execution_count": 225,
   "id": "bfdcadd7-24e7-443f-9f06-ecc539f5054b",
   "metadata": {},
   "outputs": [
    {
     "data": {
      "text/plain": [
       "conserved hypotheticals                                    106\n",
       "None                                                        84\n",
       "PE/PPE                                                      79\n",
       "intermediary metabolism and respiration                     75\n",
       "cell wall and cell processes                                73\n",
       "insertion seqs and phages                                   51\n",
       "lipid metabolism                                            24\n",
       "regulatory proteins                                         19\n",
       "virulence, detoxification, adaptation                       15\n",
       "information pathways                                         5\n",
       "unknown                                                      5\n",
       "(conserved hypotheticals, cell wall and cell processes)      1\n",
       "Name: KmerMatch_RvGeneCat, dtype: int64"
      ]
     },
     "execution_count": 225,
     "metadata": {},
     "output_type": "execute_result"
    }
   ],
   "source": [
    "PStrict_MP_Acc[\"KmerMatch_RvGeneCat\"].value_counts()"
   ]
  },
  {
   "cell_type": "code",
   "execution_count": 226,
   "id": "a460c364-e067-4491-87b9-73fdf126d592",
   "metadata": {},
   "outputs": [
    {
     "data": {
      "text/plain": [
       "PE/PPE                                                     140\n",
       "None                                                       138\n",
       "conserved hypotheticals                                    135\n",
       "cell wall and cell processes                                75\n",
       "intermediary metabolism and respiration                     56\n",
       "insertion seqs and phages                                   54\n",
       "virulence, detoxification, adaptation                       21\n",
       "lipid metabolism                                            17\n",
       "regulatory proteins                                         16\n",
       "information pathways                                         5\n",
       "unknown                                                      5\n",
       "(conserved hypotheticals, cell wall and cell processes)      1\n",
       "Name: KmerMatch_RvGeneCat, dtype: int64"
      ]
     },
     "execution_count": 226,
     "metadata": {},
     "output_type": "execute_result"
    }
   ],
   "source": [
    "RI90_MP_Acc[\"KmerMatch_RvGeneCat\"].value_counts()"
   ]
  },
  {
   "cell_type": "code",
   "execution_count": null,
   "id": "fca4cdd5-cf8a-43f6-8719-b2133e0e087f",
   "metadata": {},
   "outputs": [],
   "source": []
  },
  {
   "cell_type": "code",
   "execution_count": null,
   "id": "63b9185d-18fe-4be3-ae0f-a1b184ea2dd3",
   "metadata": {},
   "outputs": [],
   "source": []
  },
  {
   "cell_type": "code",
   "execution_count": null,
   "id": "03e5abed-5504-4146-8cd3-62038b9eb2ec",
   "metadata": {},
   "outputs": [],
   "source": []
  },
  {
   "cell_type": "code",
   "execution_count": null,
   "id": "b40a523d-f724-422d-9e36-a095302144d0",
   "metadata": {},
   "outputs": [],
   "source": []
  },
  {
   "cell_type": "markdown",
   "id": "0cd63329-6fa2-40cf-acc1-3d2c55b7421d",
   "metadata": {},
   "source": [
    "### Look at cumulative length for each PG output"
   ]
  },
  {
   "cell_type": "code",
   "execution_count": 171,
   "id": "fae7427c-f3dd-4464-aa4e-86d309198de7",
   "metadata": {},
   "outputs": [
    {
     "data": {
      "text/plain": [
       "301511"
      ]
     },
     "execution_count": 171,
     "metadata": {},
     "output_type": "execute_result"
    }
   ],
   "source": [
    "MG_SVNodes_UnqSeq_DF[\"SeqLength\"].sum()"
   ]
  },
  {
   "cell_type": "markdown",
   "id": "8cfbeebb-0557-4ff5-8f52-08d708568bbf",
   "metadata": {},
   "source": [
    "#### `PStrict_MP`"
   ]
  },
  {
   "cell_type": "code",
   "execution_count": 172,
   "id": "1b1eef2e-80c5-40b8-aad5-8f061ce79f29",
   "metadata": {},
   "outputs": [
    {
     "data": {
      "text/plain": [
       "510334"
      ]
     },
     "execution_count": 172,
     "metadata": {},
     "output_type": "execute_result"
    }
   ],
   "source": [
    "PStrict_MP_Acc[\"SeqLength\"].sum()"
   ]
  },
  {
   "cell_type": "code",
   "execution_count": 174,
   "id": "6bbbfd89-42ca-422b-b716-b26bfadf0f08",
   "metadata": {},
   "outputs": [],
   "source": [
    "#PStrict_MP_X2[\"SeqLength\"].sum() "
   ]
  },
  {
   "cell_type": "code",
   "execution_count": 175,
   "id": "e9639ccc-8a54-4b15-a9f5-b5926129b4d1",
   "metadata": {},
   "outputs": [
    {
     "data": {
      "text/plain": [
       "1.6925883301106759"
      ]
     },
     "execution_count": 175,
     "metadata": {},
     "output_type": "execute_result"
    }
   ],
   "source": [
    "510334 / 301511"
   ]
  },
  {
   "cell_type": "markdown",
   "id": "926977b7-6277-4fe8-8943-9d233b4bfad6",
   "metadata": {},
   "source": [
    "#### `PSens_MP`"
   ]
  },
  {
   "cell_type": "code",
   "execution_count": 177,
   "id": "41ca3a1c-76d6-4be4-b813-c2a616139bb3",
   "metadata": {},
   "outputs": [
    {
     "data": {
      "text/plain": [
       "531574"
      ]
     },
     "execution_count": 177,
     "metadata": {},
     "output_type": "execute_result"
    }
   ],
   "source": [
    "PSens_MP_Acc[\"SeqLength\"].sum()"
   ]
  },
  {
   "cell_type": "code",
   "execution_count": 176,
   "id": "48dbf244-108a-4622-915d-8b8ad06b4166",
   "metadata": {},
   "outputs": [],
   "source": [
    "#PSens_MP_X2[\"SeqLength\"].sum()"
   ]
  },
  {
   "cell_type": "code",
   "execution_count": 178,
   "id": "568c4589-de67-430d-a4f2-ecf3e52c1fd9",
   "metadata": {},
   "outputs": [
    {
     "data": {
      "text/plain": [
       "1.7630335211650654"
      ]
     },
     "execution_count": 178,
     "metadata": {},
     "output_type": "execute_result"
    }
   ],
   "source": [
    "531574 / 301511"
   ]
  },
  {
   "cell_type": "markdown",
   "id": "361a9b0e-9985-4919-aaca-055756422215",
   "metadata": {},
   "source": [
    "#### `RDefault`"
   ]
  },
  {
   "cell_type": "code",
   "execution_count": 179,
   "id": "511bd55e-2d16-46b5-9791-56fd5ad3180a",
   "metadata": {},
   "outputs": [
    {
     "data": {
      "text/plain": [
       "2024058"
      ]
     },
     "execution_count": 179,
     "metadata": {},
     "output_type": "execute_result"
    }
   ],
   "source": [
    "RDefault_Acc[\"SeqLength\"].sum()"
   ]
  },
  {
   "cell_type": "code",
   "execution_count": 181,
   "id": "6cda8887-2e0e-4c04-ad86-c0dd2de12bb2",
   "metadata": {},
   "outputs": [],
   "source": [
    "#RDefault_X2[\"SeqLength\"].sum()"
   ]
  },
  {
   "cell_type": "code",
   "execution_count": 182,
   "id": "48afe847-d5f3-4a5f-bfcf-95ee93dcf850",
   "metadata": {},
   "outputs": [
    {
     "data": {
      "text/plain": [
       "5.896043593766065"
      ]
     },
     "execution_count": 182,
     "metadata": {},
     "output_type": "execute_result"
    }
   ],
   "source": [
    "1777722 / 301511"
   ]
  },
  {
   "cell_type": "markdown",
   "id": "c36f0ab4-46e3-4825-aa5f-7b8f8aa85142",
   "metadata": {},
   "source": [
    "#### `RDefault_MP` "
   ]
  },
  {
   "cell_type": "code",
   "execution_count": 183,
   "id": "8f0270e3-be94-46e8-a2b8-795dc52d520b",
   "metadata": {},
   "outputs": [
    {
     "data": {
      "text/plain": [
       "(4366, 3)"
      ]
     },
     "execution_count": 183,
     "metadata": {},
     "output_type": "execute_result"
    }
   ],
   "source": [
    "RDefault_MP_X.shape"
   ]
  },
  {
   "cell_type": "code",
   "execution_count": 184,
   "id": "66a6a0a6-6a70-4db7-b305-89bcf4025a0a",
   "metadata": {},
   "outputs": [
    {
     "data": {
      "text/plain": [
       "(796, 3)"
      ]
     },
     "execution_count": 184,
     "metadata": {},
     "output_type": "execute_result"
    }
   ],
   "source": [
    "RDefault_MP_Acc.shape"
   ]
  },
  {
   "cell_type": "code",
   "execution_count": 185,
   "id": "74651afc-836a-45f7-bef7-124cb494dac5",
   "metadata": {},
   "outputs": [
    {
     "data": {
      "text/plain": [
       "476934"
      ]
     },
     "execution_count": 185,
     "metadata": {},
     "output_type": "execute_result"
    }
   ],
   "source": [
    "RDefault_MP_Acc[\"SeqLength\"].sum()"
   ]
  },
  {
   "cell_type": "code",
   "execution_count": 187,
   "id": "a4bc47f0-308c-43b1-8d3b-987a0304d20c",
   "metadata": {},
   "outputs": [],
   "source": [
    "#RDefault_MP_X2[\"SeqLength\"].sum()"
   ]
  },
  {
   "cell_type": "code",
   "execution_count": 189,
   "id": "f37e2516-c200-41ea-8550-b2f43596942d",
   "metadata": {},
   "outputs": [
    {
     "data": {
      "text/plain": [
       "1.5818129355147905"
      ]
     },
     "execution_count": 189,
     "metadata": {},
     "output_type": "execute_result"
    }
   ],
   "source": [
    "476934 / 301511"
   ]
  },
  {
   "cell_type": "code",
   "execution_count": 134,
   "id": "908c505e-f379-4618-94dc-8577ffb687a4",
   "metadata": {},
   "outputs": [
    {
     "data": {
      "text/plain": [
       "(5609, 4)"
      ]
     },
     "execution_count": 134,
     "metadata": {},
     "output_type": "execute_result"
    }
   ],
   "source": [
    "SR_RDefault_X.shape"
   ]
  },
  {
   "cell_type": "code",
   "execution_count": 135,
   "id": "b19602d2-4b93-4da8-a3c9-9049826611b7",
   "metadata": {},
   "outputs": [
    {
     "data": {
      "text/plain": [
       "2833326"
      ]
     },
     "execution_count": 135,
     "metadata": {},
     "output_type": "execute_result"
    }
   ],
   "source": [
    "SR_RDefault_Acc[\"SeqLength\"].sum()"
   ]
  },
  {
   "cell_type": "code",
   "execution_count": 136,
   "id": "eb6a333f-42ef-44aa-b048-e5bd31242fd2",
   "metadata": {},
   "outputs": [
    {
     "data": {
      "text/plain": [
       "401448"
      ]
     },
     "execution_count": 136,
     "metadata": {},
     "output_type": "execute_result"
    }
   ],
   "source": [
    "SR_RDefault_X2[\"SeqLength\"].sum()"
   ]
  },
  {
   "cell_type": "code",
   "execution_count": null,
   "id": "9c351477-6892-457e-869c-1ae258638240",
   "metadata": {},
   "outputs": [],
   "source": []
  },
  {
   "cell_type": "code",
   "execution_count": 137,
   "id": "d572c3fa-fa50-4b4a-9c7d-e90eec29a8a8",
   "metadata": {},
   "outputs": [
    {
     "data": {
      "text/html": [
       "<div>\n",
       "<style scoped>\n",
       "    .dataframe tbody tr th:only-of-type {\n",
       "        vertical-align: middle;\n",
       "    }\n",
       "\n",
       "    .dataframe tbody tr th {\n",
       "        vertical-align: top;\n",
       "    }\n",
       "\n",
       "    .dataframe thead th {\n",
       "        text-align: right;\n",
       "    }\n",
       "</style>\n",
       "<table border=\"1\" class=\"dataframe\">\n",
       "  <thead>\n",
       "    <tr style=\"text-align: right;\">\n",
       "      <th></th>\n",
       "      <th>GeneID</th>\n",
       "      <th>SeqLength</th>\n",
       "      <th>NumAsm_WiGene</th>\n",
       "      <th>Matched_UnqSeq_NodeIDs</th>\n",
       "    </tr>\n",
       "  </thead>\n",
       "  <tbody>\n",
       "    <tr>\n",
       "      <th>0</th>\n",
       "      <td>dnaA</td>\n",
       "      <td>1491</td>\n",
       "      <td>151.0</td>\n",
       "      <td>None</td>\n",
       "    </tr>\n",
       "    <tr>\n",
       "      <th>1</th>\n",
       "      <td>dnaN</td>\n",
       "      <td>1209</td>\n",
       "      <td>151.0</td>\n",
       "      <td>None</td>\n",
       "    </tr>\n",
       "    <tr>\n",
       "      <th>2</th>\n",
       "      <td>recF</td>\n",
       "      <td>1158</td>\n",
       "      <td>151.0</td>\n",
       "      <td>None</td>\n",
       "    </tr>\n",
       "  </tbody>\n",
       "</table>\n",
       "</div>"
      ],
      "text/plain": [
       "  GeneID  SeqLength  NumAsm_WiGene Matched_UnqSeq_NodeIDs\n",
       "0   dnaA       1491          151.0                   None\n",
       "1   dnaN       1209          151.0                   None\n",
       "2   recF       1158          151.0                   None"
      ]
     },
     "execution_count": 137,
     "metadata": {},
     "output_type": "execute_result"
    }
   ],
   "source": [
    "RDefault_MP_X.head(3)"
   ]
  },
  {
   "cell_type": "code",
   "execution_count": null,
   "id": "ef8ae5a3-7b38-414b-a111-173eaef1f1ad",
   "metadata": {},
   "outputs": [],
   "source": []
  },
  {
   "cell_type": "code",
   "execution_count": 138,
   "id": "7d2a43ba-9a83-4960-863f-90ac425f6aec",
   "metadata": {},
   "outputs": [
    {
     "ename": "NameError",
     "evalue": "name 'PSMP_X' is not defined",
     "output_type": "error",
     "traceback": [
      "\u001b[0;31m---------------------------------------------------------------------------\u001b[0m",
      "\u001b[0;31mNameError\u001b[0m                                 Traceback (most recent call last)",
      "\u001b[0;32m<ipython-input-138-736cbd86962c>\u001b[0m in \u001b[0;36m<module>\u001b[0;34m\u001b[0m\n\u001b[0;32m----> 1\u001b[0;31m \u001b[0mPSMP_X\u001b[0m\u001b[0;34m.\u001b[0m\u001b[0mshape\u001b[0m\u001b[0;34m\u001b[0m\u001b[0;34m\u001b[0m\u001b[0m\n\u001b[0m",
      "\u001b[0;31mNameError\u001b[0m: name 'PSMP_X' is not defined"
     ]
    }
   ],
   "source": [
    "PSMP_X.shape"
   ]
  },
  {
   "cell_type": "code",
   "execution_count": null,
   "id": "c5683270-7125-4756-8cde-0bc261911757",
   "metadata": {},
   "outputs": [],
   "source": [
    "PSMP_X2.shape"
   ]
  },
  {
   "cell_type": "code",
   "execution_count": null,
   "id": "97440d4d-ab64-4f8e-adf1-d654778b322f",
   "metadata": {},
   "outputs": [],
   "source": [
    "PS_X.shape"
   ]
  },
  {
   "cell_type": "code",
   "execution_count": null,
   "id": "c4772258-eaf2-4d39-bc93-b89ba11cb762",
   "metadata": {},
   "outputs": [],
   "source": [
    "PS_X2.shape"
   ]
  },
  {
   "cell_type": "code",
   "execution_count": null,
   "id": "2a9134cc-4bc8-4533-aad1-0eb99d4071d9",
   "metadata": {},
   "outputs": [],
   "source": [
    "PSMP_X2.head(3)"
   ]
  },
  {
   "cell_type": "code",
   "execution_count": null,
   "id": "e42f58bc-e756-44b9-abf9-d1ab249d9ad8",
   "metadata": {},
   "outputs": [],
   "source": [
    "PS_X2.head(3)"
   ]
  },
  {
   "cell_type": "code",
   "execution_count": 145,
   "id": "bfe89246-5d31-405d-900f-108cce5d2bfd",
   "metadata": {},
   "outputs": [
    {
     "data": {
      "text/plain": [
       "(597, 4)"
      ]
     },
     "execution_count": 145,
     "metadata": {},
     "output_type": "execute_result"
    }
   ],
   "source": [
    "RI80_MP_Acc.shape"
   ]
  },
  {
   "cell_type": "code",
   "execution_count": 146,
   "id": "11660cf3-5c51-4c0e-b3ec-16ad89333f3b",
   "metadata": {},
   "outputs": [
    {
     "data": {
      "text/plain": [
       "(597, 4)"
      ]
     },
     "execution_count": 146,
     "metadata": {},
     "output_type": "execute_result"
    }
   ],
   "source": [
    "RI80_MP_Acc.shape"
   ]
  },
  {
   "cell_type": "code",
   "execution_count": 147,
   "id": "d849bb63-cb40-451e-87a8-5497e28f99c2",
   "metadata": {},
   "outputs": [
    {
     "data": {
      "text/plain": [
       "(597, 4)"
      ]
     },
     "execution_count": 147,
     "metadata": {},
     "output_type": "execute_result"
    }
   ],
   "source": [
    "RI90_MP_Acc.shape"
   ]
  },
  {
   "cell_type": "code",
   "execution_count": null,
   "id": "8f19ab13-8f13-4bd6-8e9e-75be5fc89306",
   "metadata": {},
   "outputs": [],
   "source": []
  },
  {
   "cell_type": "code",
   "execution_count": null,
   "id": "2e039a03-2560-4948-9fc4-ccf402318f83",
   "metadata": {},
   "outputs": [],
   "source": []
  },
  {
   "cell_type": "code",
   "execution_count": null,
   "id": "02a8b52d-fbf7-41df-9ac7-baeca56ad83e",
   "metadata": {},
   "outputs": [],
   "source": []
  },
  {
   "cell_type": "code",
   "execution_count": null,
   "id": "b06ce70e-1b76-4372-b6e2-a473396550e4",
   "metadata": {},
   "outputs": [],
   "source": [
    "STOP!!!"
   ]
  },
  {
   "cell_type": "code",
   "execution_count": null,
   "id": "39dff05b-14e6-4c90-bb94-f678987858ed",
   "metadata": {},
   "outputs": [],
   "source": []
  },
  {
   "cell_type": "code",
   "execution_count": null,
   "id": "2f17fc24-bc50-45d3-b67c-40b32e876adf",
   "metadata": {},
   "outputs": [],
   "source": []
  },
  {
   "cell_type": "markdown",
   "id": "893741b3-2db5-4d59-8ee4-f29da3a7bc14",
   "metadata": {},
   "source": [
    "### Test processing"
   ]
  },
  {
   "cell_type": "code",
   "execution_count": 117,
   "id": "c8d80bef-c4cb-47e7-9d92-4b4768780710",
   "metadata": {},
   "outputs": [],
   "source": []
  },
  {
   "cell_type": "code",
   "execution_count": 118,
   "id": "2215b423-b287-4259-a7a4-aca7ade9db5e",
   "metadata": {},
   "outputs": [
    {
     "name": "stdout",
     "output_type": "stream",
     "text": [
      "4252  total records were parsed\n",
      "Roary_NoSplitParalogs_I80 4252 4252\n"
     ]
    }
   ],
   "source": [
    "i_Param = \"Roary_NoSplitParalogs_I80\"\n",
    "\n",
    "i_PG_Ref_FA_PATH = PG_GeneRefFA_PATH_Dict[i_Param]\n",
    "\n",
    "i_Ref_DictOf_Hashes, i_Ref_DictOf_SeqLen = read_kmers_from_file_ToHashesDict(i_PG_Ref_FA_PATH, 31) \n",
    "\n",
    "i_N_AsmWiGene_Dict = PresAbs_DF_Dict[i_Param][\"NumAsm_WiGene\"].to_dict()   \n",
    "\n",
    "print(i_Param, len(list(i_Ref_DictOf_Hashes.keys())), len(list(i_N_AsmWiGene_Dict.keys())) )\n"
   ]
  },
  {
   "cell_type": "code",
   "execution_count": 119,
   "id": "0fe96a0b-9347-4dc1-a5c7-8fdd49e0c24c",
   "metadata": {},
   "outputs": [
    {
     "data": {
      "text/plain": [
       "['group_1766',\n",
       " 'group_1762',\n",
       " 'group_1763',\n",
       " 'NAD(P)-bd-dom domain-containing protein',\n",
       " 'wcaG',\n",
       " 'group_1744',\n",
       " 'group_1775',\n",
       " 'group_1769',\n",
       " 'group_1713',\n",
       " 'group_1714']"
      ]
     },
     "execution_count": 119,
     "metadata": {},
     "output_type": "execute_result"
    }
   ],
   "source": [
    "list(i_Ref_DictOf_Hashes.keys())[-10:] "
   ]
  },
  {
   "cell_type": "code",
   "execution_count": 120,
   "id": "ba2fd047-0ffa-4fb9-acdb-0996cc916ed0",
   "metadata": {},
   "outputs": [
    {
     "data": {
      "text/plain": [
       "['Cytochrome P450',\n",
       " 'group_1617',\n",
       " 'group_1618',\n",
       " 'group_1620',\n",
       " 'group_1625',\n",
       " 'group_1627',\n",
       " 'group_1630',\n",
       " 'group_1632',\n",
       " 'group_1637',\n",
       " 'group_1778']"
      ]
     },
     "execution_count": 120,
     "metadata": {},
     "output_type": "execute_result"
    }
   ],
   "source": [
    "list(i_N_AsmWiGene_Dict.keys())[-10:]"
   ]
  },
  {
   "cell_type": "code",
   "execution_count": 121,
   "id": "0b323f6d-fe28-4c22-bf82-39c25f532a38",
   "metadata": {},
   "outputs": [
    {
     "name": "stdout",
     "output_type": "stream",
     "text": [
      ">N0072_00005 dnaA\n",
      ">N0072_00010 dnaN\n",
      ">N0072_00015 recF\n",
      ">N0072_00020 group_3350\n",
      ">N0072_00025 gyrB\n",
      ">N0072_00030 gyrA\n",
      ">N0072_00035 group_1360\n",
      ">N0072_00040 putative conserved membrane protein\n",
      ">N0072_00055 group_1361\n",
      ">N0072_00060 group_1362\n",
      "grep: write error\n"
     ]
    }
   ],
   "source": [
    "!grep ^\">\" $i_PG_Ref_FA_PATH | head"
   ]
  },
  {
   "cell_type": "code",
   "execution_count": null,
   "id": "ecb4e6e6-1d61-40ec-bff2-9e804e38eb66",
   "metadata": {},
   "outputs": [],
   "source": []
  },
  {
   "cell_type": "code",
   "execution_count": null,
   "id": "50ded4c7-5083-4328-a2e5-5b2b4e4b23d9",
   "metadata": {},
   "outputs": [],
   "source": []
  },
  {
   "cell_type": "code",
   "execution_count": 114,
   "id": "a78822c8-2f7d-4669-875b-f2bd84972399",
   "metadata": {},
   "outputs": [
    {
     "name": "stdout",
     "output_type": "stream",
     "text": [
      "4252\n"
     ]
    }
   ],
   "source": [
    "!grep ^\">\" $i_PG_Ref_FA_PATH | wc -l "
   ]
  },
  {
   "cell_type": "code",
   "execution_count": 108,
   "id": "78f55ebf-80ec-46b6-b39e-aa4a3e8e19ad",
   "metadata": {},
   "outputs": [
    {
     "data": {
      "text/plain": [
       "3979"
      ]
     },
     "execution_count": 108,
     "metadata": {},
     "output_type": "execute_result"
    }
   ],
   "source": [
    "len(list(i_Ref_DictOf_Hashes.keys()))"
   ]
  },
  {
   "cell_type": "code",
   "execution_count": 107,
   "id": "942cc311-399a-4dde-90bd-27a2406ef7fb",
   "metadata": {},
   "outputs": [
    {
     "name": "stderr",
     "output_type": "stream",
     "text": [
      "100%|██████████| 3979/3979 [00:00<00:00, 20549.17it/s]\n"
     ]
    },
    {
     "name": "stdout",
     "output_type": "stream",
     "text": [
      "3979\n"
     ]
    },
    {
     "data": {
      "text/plain": [
       "(3979, 3)"
      ]
     },
     "execution_count": 107,
     "metadata": {},
     "output_type": "execute_result"
    }
   ],
   "source": [
    "gene_analysis_rows = []\n",
    "\n",
    "for GeneID, Gene_Hashes_Set in tqdm(i_Ref_DictOf_Hashes.items()):\n",
    "    Len_Seq = i_Ref_DictOf_SeqLen.get(GeneID, 0)\n",
    "    record_hashes_set = Gene_Hashes_Set\n",
    "\n",
    "    # Prepare row for the DataFrame\n",
    "    row = [GeneID, Len_Seq]\n",
    "    gene_analysis_rows.append(row)\n",
    "\n",
    "print(len(gene_analysis_rows))\n",
    "\n",
    "# Create the DataFrame\n",
    "columns = [\"GeneID\", \"SeqLength\"]\n",
    "gene_kmer_match_df = pd.DataFrame(gene_analysis_rows, columns=columns)\n",
    "\n",
    "# Add the number of assemblies matching the gene\n",
    "gene_kmer_match_df[\"NumAsm_WiGene\"] = gene_kmer_match_df[\"GeneID\"].map(i_N_AsmWiGene_Dict)\n",
    "\n",
    "gene_kmer_match_df.shape"
   ]
  },
  {
   "cell_type": "code",
   "execution_count": null,
   "id": "65187c4a-c869-456c-878b-52dc4dae8c66",
   "metadata": {},
   "outputs": [],
   "source": []
  },
  {
   "cell_type": "code",
   "execution_count": null,
   "id": "f2144588-1bac-4e3e-9e98-bc1c500bff20",
   "metadata": {},
   "outputs": [],
   "source": []
  },
  {
   "cell_type": "code",
   "execution_count": null,
   "id": "b670f041-86e5-48c5-b209-934995ce0901",
   "metadata": {},
   "outputs": [],
   "source": []
  },
  {
   "cell_type": "markdown",
   "id": "9c97c673-0bb1-4bcd-afea-41aef21216a5",
   "metadata": {},
   "source": [
    "# Compare Gene K-mers to SV Nodes of Unq Seq Bubbles, etc"
   ]
  },
  {
   "cell_type": "code",
   "execution_count": null,
   "id": "5314b265-3ef1-4480-9c7c-a80a06431039",
   "metadata": {
    "scrolled": true
   },
   "outputs": [],
   "source": [
    "i_Gene_CompToUnqSeq_SVNodes_DF = compute_kmer_match_df(i_Ref_DictOf_Hashes,\n",
    "                                                       i_Ref_DictOf_SeqLen,\n",
    "                                                       MG_SVNodes_UnqSeq_HashDict,\n",
    "                                                       i_N_AsmWiGene_Dict)\n",
    "\n",
    "# Apply classification to the main DataFrame\n",
    "threshold = 0.25  # Set the classification threshold\n",
    "i_Gene_CompToUnqSeq_SVNodes_DF[\"Matched_UnqSeq_NodeIDs\"] = i_Gene_CompToUnqSeq_SVNodes_DF.apply(\n",
    "    lambda row: classify_node(row, list(MG_SVNodes_UnqSeq_HashDict.keys()), threshold), axis=1)\n",
    "\n",
    "i_Gene_CompToUnqSeq_SVNodes_DF.shape"
   ]
  },
  {
   "cell_type": "code",
   "execution_count": null,
   "id": "ae2fabbb-1464-4477-9270-942b55aa212c",
   "metadata": {},
   "outputs": [],
   "source": [
    "i_Gene_CompToUnqSeq_SVNodes_DF.head(4)"
   ]
  },
  {
   "cell_type": "code",
   "execution_count": null,
   "id": "d82ccc10-9e03-400c-a532-a5bd895da983",
   "metadata": {},
   "outputs": [],
   "source": [
    "X = i_Gene_CompToUnqSeq_SVNodes_DF.query(\"NumAsm_WiGene < 151\")\n",
    "X = X[[\"GeneID\", \"SeqLength\", \"NumAsm_WiGene\", \"Matched_UnqSeq_NodeIDs\"]]\n",
    "X.shape"
   ]
  },
  {
   "cell_type": "code",
   "execution_count": null,
   "id": "d1bf76fb-e791-4176-9af4-2d1d760cc337",
   "metadata": {},
   "outputs": [],
   "source": [
    "X.head(1)"
   ]
  },
  {
   "cell_type": "code",
   "execution_count": null,
   "id": "3f0b7092-7762-4351-a297-d1b84f55eb6d",
   "metadata": {},
   "outputs": [],
   "source": [
    "MG_SVNodes_PASS_DF.head(1)"
   ]
  },
  {
   "cell_type": "code",
   "execution_count": null,
   "id": "db8aa09f-8bc3-4213-b59e-89ffec8b6e45",
   "metadata": {},
   "outputs": [],
   "source": [
    "MG_SVNodes_PASS_DF.query(\"NodeID == 's1040'\")"
   ]
  },
  {
   "cell_type": "code",
   "execution_count": null,
   "id": "952f6c54-abaf-4c78-b44a-cc9773b9a274",
   "metadata": {},
   "outputs": [],
   "source": [
    "MG_SV_BED_DF.query(\"BubbleID == 'BubbleRegion_345'\")"
   ]
  },
  {
   "cell_type": "code",
   "execution_count": null,
   "id": "25033dd9-956a-4741-922f-ca0e66977eaf",
   "metadata": {},
   "outputs": [],
   "source": [
    "MG_SVNodes_PASS_DF.query(\"NodeID == 's7'\")"
   ]
  },
  {
   "cell_type": "code",
   "execution_count": null,
   "id": "e97f05eb-b608-495b-9a72-0ebc5a616ab0",
   "metadata": {},
   "outputs": [],
   "source": [
    "MG_SV_BED_DF.query(\"BubbleID == 'BubbleRegion_4'\")"
   ]
  },
  {
   "cell_type": "code",
   "execution_count": null,
   "id": "fa51833a-ef0d-49f7-a60d-75bc6ec881db",
   "metadata": {},
   "outputs": [],
   "source": []
  },
  {
   "cell_type": "code",
   "execution_count": null,
   "id": "e65c7901-229c-429b-be24-3b602a7aefcd",
   "metadata": {},
   "outputs": [],
   "source": [
    "X[\"Matched_UnqSeq_NodeIDs\"].value_counts()"
   ]
  },
  {
   "cell_type": "code",
   "execution_count": null,
   "id": "0a3036da-e538-41d6-93c9-ae9454a66a92",
   "metadata": {},
   "outputs": [],
   "source": [
    "X[\"Matched_UnqSeq_NodeIDs\"].nunique()"
   ]
  },
  {
   "cell_type": "code",
   "execution_count": null,
   "id": "27b8bce8-6423-40b5-a788-add0904ebebe",
   "metadata": {},
   "outputs": [],
   "source": [
    "X2 = X.query(\"Matched_UnqSeq_NodeIDs != 'None'\")\n",
    "X2.shape"
   ]
  },
  {
   "cell_type": "code",
   "execution_count": null,
   "id": "f07cae00-9c4b-4324-a911-5aafc2dd7fdf",
   "metadata": {},
   "outputs": [],
   "source": [
    "X2[\"SeqLength\"].sum()"
   ]
  },
  {
   "cell_type": "code",
   "execution_count": null,
   "id": "3a441727-0ac7-465e-9a02-efaf7a3faf51",
   "metadata": {},
   "outputs": [],
   "source": [
    "MG_SVNodes_UnqSeq_DF[\"SeqLength\"].sum()"
   ]
  },
  {
   "cell_type": "code",
   "execution_count": null,
   "id": "be3819a9-bf4a-4c0c-8a9d-b2dddcbba14d",
   "metadata": {},
   "outputs": [],
   "source": [
    "MG_SVNodes_UnqSeq_DF.head(3)"
   ]
  },
  {
   "cell_type": "code",
   "execution_count": null,
   "id": "08a03c11-9a80-4ac6-9a02-fb58a652b6b6",
   "metadata": {},
   "outputs": [],
   "source": []
  },
  {
   "cell_type": "code",
   "execution_count": null,
   "id": "dd9490ed-48d8-4aa4-acbb-63738f28ecc3",
   "metadata": {},
   "outputs": [],
   "source": [
    "X2.head(10)"
   ]
  },
  {
   "cell_type": "code",
   "execution_count": null,
   "id": "e630d1d2-7dbb-4582-a84a-79bab0be9af1",
   "metadata": {},
   "outputs": [],
   "source": [
    "X2.head(10)"
   ]
  },
  {
   "cell_type": "code",
   "execution_count": null,
   "id": "1b14d605-ad2e-4b3a-ae56-0dd5243b99fe",
   "metadata": {},
   "outputs": [],
   "source": [
    "X[\"SeqLength\"].sum()"
   ]
  },
  {
   "cell_type": "code",
   "execution_count": null,
   "id": "133f3b91-7443-48ac-b213-80811c3fbb4b",
   "metadata": {},
   "outputs": [],
   "source": [
    "len(SVNodeIDs_UnqSeq)"
   ]
  },
  {
   "cell_type": "code",
   "execution_count": null,
   "id": "a6a7c14c-f442-4788-b565-dd04738c70a6",
   "metadata": {},
   "outputs": [],
   "source": [
    "len(SVNodeIDs_UnqSeq_And_UnqToRv)"
   ]
  },
  {
   "cell_type": "code",
   "execution_count": null,
   "id": "973e9469-7c30-4fa9-a0ac-1d0995b5198f",
   "metadata": {},
   "outputs": [],
   "source": []
  },
  {
   "cell_type": "code",
   "execution_count": null,
   "id": "244a9ece-641b-4c84-b8aa-936f10705dcc",
   "metadata": {},
   "outputs": [],
   "source": [
    "X2[\"SeqLength\"].sum()"
   ]
  },
  {
   "cell_type": "code",
   "execution_count": null,
   "id": "0832569a-9251-4d8f-92bd-2a80a840b5d6",
   "metadata": {},
   "outputs": [],
   "source": [
    "X2.head(10)"
   ]
  },
  {
   "cell_type": "code",
   "execution_count": null,
   "id": "1563e3ce-2daf-47ed-af8b-5f0c2d95be53",
   "metadata": {},
   "outputs": [],
   "source": [
    "X2[\"Strongest_Match\"].nunique()"
   ]
  },
  {
   "cell_type": "code",
   "execution_count": null,
   "id": "423c955f-aa1c-454c-9cd8-6957af957442",
   "metadata": {},
   "outputs": [],
   "source": [
    "X2[\"Strongest_Match\"].value_counts()"
   ]
  },
  {
   "cell_type": "code",
   "execution_count": null,
   "id": "606a4018-a36f-4aaa-a880-1ffd4b1963d7",
   "metadata": {},
   "outputs": [],
   "source": [
    "X2_NodeIDs = X2[\"Strongest_Match\"].unique()\n",
    "len(X2_NodeIDs)"
   ]
  },
  {
   "cell_type": "code",
   "execution_count": null,
   "id": "58aa0016-c079-46c9-a642-8bea2b127274",
   "metadata": {},
   "outputs": [],
   "source": [
    "X2_SVNodes_DF = MG_SVNodes_PASS_DF[ MG_SVNodes_PASS_DF[\"NodeID\"].isin(X2_NodeIDs) ]\n",
    "X2_SVNodes_DF.shape\n"
   ]
  },
  {
   "cell_type": "code",
   "execution_count": null,
   "id": "6b3af2ef-5d64-4e7d-b77c-5fb2e1e6e76c",
   "metadata": {},
   "outputs": [],
   "source": [
    "X2_SVNodes_DF[\"SeqLength\"].sum()"
   ]
  },
  {
   "cell_type": "code",
   "execution_count": null,
   "id": "af52bc4d-f774-4592-97cf-8d7957690b45",
   "metadata": {},
   "outputs": [],
   "source": []
  },
  {
   "cell_type": "code",
   "execution_count": null,
   "id": "bbb15d3e-d6fe-4068-a639-acc75565109b",
   "metadata": {},
   "outputs": [],
   "source": []
  },
  {
   "cell_type": "code",
   "execution_count": null,
   "id": "8dc076ae-cb84-4008-a345-2c63b711784c",
   "metadata": {},
   "outputs": [],
   "source": []
  },
  {
   "cell_type": "code",
   "execution_count": null,
   "id": "61942dd7-71d2-4267-98bd-f1153396644f",
   "metadata": {},
   "outputs": [],
   "source": []
  },
  {
   "cell_type": "code",
   "execution_count": null,
   "id": "462a902c-725e-47a8-97b8-61da33a90268",
   "metadata": {
    "scrolled": true
   },
   "outputs": [],
   "source": [
    "i_Gene_CompToUnqSeqUnqRv_SVNodes_DF = compute_kmer_match_df(i_Ref_DictOf_Hashes,\n",
    "                                                       i_Ref_DictOf_SeqLen,\n",
    "                                                       MG_SVNodes_UnqSeqAndUnqToRv_HashDict,\n",
    "                                                       i_N_AsmWiGene_Dict)\n",
    "\n",
    "threshold = 0.25  # Set the classification threshold\n",
    "i_Gene_CompToUnqSeqUnqRv_SVNodes_DF[\"Strongest_Match\"] = i_Gene_CompToUnqSeqUnqRv_SVNodes_DF.apply(\n",
    "    lambda row: classify_node(row, list(MG_SVNodes_UnqSeqAndUnqToRv_HashDict.keys()), threshold), axis=1\n",
    ")\n",
    "\n",
    "i_Gene_CompToUnqSeqUnqRv_SVNodes_DF.shape"
   ]
  },
  {
   "cell_type": "code",
   "execution_count": null,
   "id": "98950526-ddb3-4aba-b7dc-503eaf2da71a",
   "metadata": {},
   "outputs": [],
   "source": []
  },
  {
   "cell_type": "code",
   "execution_count": null,
   "id": "8d459a2c-1a12-4150-8cfe-e4584628f625",
   "metadata": {},
   "outputs": [],
   "source": [
    "Z = i_Gene_CompToUnqSeqUnqRv_SVNodes_DF.query(\"NumAsm_WiGene < 151\")\n",
    "Z.shape"
   ]
  },
  {
   "cell_type": "code",
   "execution_count": null,
   "id": "0fe4d82c-838c-478b-845f-9b76c18fbabb",
   "metadata": {},
   "outputs": [],
   "source": [
    "Z.head(3)"
   ]
  },
  {
   "cell_type": "code",
   "execution_count": null,
   "id": "841574ca-b7e2-4e8b-8c02-a30bffed5c65",
   "metadata": {},
   "outputs": [],
   "source": [
    "Z[\"Strongest_Match\"].value_counts()"
   ]
  },
  {
   "cell_type": "code",
   "execution_count": null,
   "id": "b1caff1a-1bc7-42f3-8f4c-83032ddef5fc",
   "metadata": {},
   "outputs": [],
   "source": [
    "Z[\"Strongest_Match\"].unique()"
   ]
  },
  {
   "cell_type": "code",
   "execution_count": null,
   "id": "56bfa76a-0583-4a07-bb37-c5c16f1d75df",
   "metadata": {},
   "outputs": [],
   "source": [
    "Z[\"Strongest_Match\"].nunique()"
   ]
  },
  {
   "cell_type": "code",
   "execution_count": null,
   "id": "610faa56-18d1-4b5d-98d0-0bf8a1c45f32",
   "metadata": {},
   "outputs": [],
   "source": [
    "Z2 = Z.query(\"Strongest_Match != 'None'\")\n",
    "Z2.shape"
   ]
  },
  {
   "cell_type": "code",
   "execution_count": null,
   "id": "acb7742a-39fc-4f9f-92ab-95907b65d3df",
   "metadata": {},
   "outputs": [],
   "source": [
    "Z2[\"SeqLength\"].sum()"
   ]
  },
  {
   "cell_type": "code",
   "execution_count": null,
   "id": "1338fcbd-4fa1-4e7f-84cd-9b0eaf7337ec",
   "metadata": {},
   "outputs": [],
   "source": [
    "Z2.head(10)"
   ]
  },
  {
   "cell_type": "code",
   "execution_count": null,
   "id": "3bfd40a1-2049-47e6-87fe-851f67973b65",
   "metadata": {},
   "outputs": [],
   "source": [
    "Z2_NodeIDs = Z2[\"Strongest_Match\"].unique()\n",
    "len(Z2_NodeIDs)"
   ]
  },
  {
   "cell_type": "code",
   "execution_count": null,
   "id": "c23b77f9-90b9-40b8-8076-b57587a6c69e",
   "metadata": {},
   "outputs": [],
   "source": [
    "Z2_SVNodes_DF = MG_SVNodes_PASS_DF[ MG_SVNodes_PASS_DF[\"NodeID\"].isin(Z2_NodeIDs) ]\n",
    "Z2_SVNodes_DF.shape\n"
   ]
  },
  {
   "cell_type": "code",
   "execution_count": null,
   "id": "dc06db44-2858-4fd4-af34-44b27b734e82",
   "metadata": {},
   "outputs": [],
   "source": [
    "Z2_SVNodes_DF.head(3)"
   ]
  },
  {
   "cell_type": "code",
   "execution_count": null,
   "id": "c237663a-9bcb-4ead-a114-b75715144a00",
   "metadata": {},
   "outputs": [],
   "source": [
    "Z2_SVNodes_DF[\"SeqLength\"].sum()"
   ]
  },
  {
   "cell_type": "code",
   "execution_count": null,
   "id": "65304603-99e5-46a3-9790-a52b1c3f7aa0",
   "metadata": {},
   "outputs": [],
   "source": []
  },
  {
   "cell_type": "code",
   "execution_count": null,
   "id": "3874549a-7ff1-4ac9-ba01-c65f3a3212eb",
   "metadata": {},
   "outputs": [],
   "source": []
  },
  {
   "cell_type": "code",
   "execution_count": null,
   "id": "f9047ecb-ece2-41e2-bf87-3055d6853075",
   "metadata": {},
   "outputs": [],
   "source": []
  },
  {
   "cell_type": "code",
   "execution_count": null,
   "id": "9bcc7fd7-7492-4d4e-9f13-d815204c0876",
   "metadata": {},
   "outputs": [],
   "source": [
    "Z2[\"Strongest_Match\"].nunique()"
   ]
  },
  {
   "cell_type": "code",
   "execution_count": null,
   "id": "1672afad-f250-43be-8888-d3711fd4a97f",
   "metadata": {},
   "outputs": [],
   "source": [
    "Z2[\"Strongest_Match\"].value_counts()"
   ]
  },
  {
   "cell_type": "code",
   "execution_count": null,
   "id": "d3dfca3e-be74-4237-8949-393f0a90f2e0",
   "metadata": {},
   "outputs": [],
   "source": [
    "MG_SVNodes_PASS_DF.head(4)"
   ]
  },
  {
   "cell_type": "code",
   "execution_count": null,
   "id": "7b142195-f50f-462e-a20e-d408bc2a8ecf",
   "metadata": {},
   "outputs": [],
   "source": []
  },
  {
   "cell_type": "code",
   "execution_count": null,
   "id": "47e8d7fb-ddcb-4b63-9747-167a5d321eee",
   "metadata": {},
   "outputs": [],
   "source": []
  },
  {
   "cell_type": "code",
   "execution_count": null,
   "id": "109e235b-ed7f-4c8c-93da-49b92ab10bbd",
   "metadata": {},
   "outputs": [],
   "source": []
  },
  {
   "cell_type": "code",
   "execution_count": null,
   "id": "befd25ad-37d9-43de-8c8e-bb92a2fcacdb",
   "metadata": {},
   "outputs": [],
   "source": [
    "# MG_SVNodes_UnqSeq_HashDict\n",
    "# MG_SVNodes_UnqSeqAndUnqToRv_HashDict"
   ]
  },
  {
   "cell_type": "code",
   "execution_count": null,
   "id": "29bcb9aa-a81b-4823-b2a3-7bd30d696a24",
   "metadata": {},
   "outputs": [],
   "source": []
  },
  {
   "cell_type": "code",
   "execution_count": null,
   "id": "df973d92-432c-4ee3-a374-306f61cc9252",
   "metadata": {},
   "outputs": [],
   "source": [
    "i_Gene_CompToUnqSeq_SVNodes_DF.head(3)"
   ]
  },
  {
   "cell_type": "code",
   "execution_count": null,
   "id": "4ef2b1e8-2cce-4045-a647-9963e7809260",
   "metadata": {},
   "outputs": [],
   "source": [
    "i_Gene_CompToUnqSeq_SVNodes_DF.query(\"\")"
   ]
  },
  {
   "cell_type": "code",
   "execution_count": null,
   "id": "559f4e76-8437-4106-95bc-c37c8c9127da",
   "metadata": {},
   "outputs": [],
   "source": []
  },
  {
   "cell_type": "code",
   "execution_count": null,
   "id": "942128a4-6139-4568-8044-7d50fee67504",
   "metadata": {},
   "outputs": [],
   "source": []
  },
  {
   "cell_type": "code",
   "execution_count": null,
   "id": "0ac9bc6a-a683-4848-b394-46e074196845",
   "metadata": {},
   "outputs": [],
   "source": [
    "i_Gene_CompToUnqSeq_SVNodes_DF"
   ]
  },
  {
   "cell_type": "code",
   "execution_count": null,
   "id": "961bb7d2-2265-4824-8a1e-dbbe039e1c72",
   "metadata": {},
   "outputs": [],
   "source": []
  },
  {
   "cell_type": "code",
   "execution_count": null,
   "id": "57a10d45-3dfa-4ef8-b971-3e297483e660",
   "metadata": {},
   "outputs": [],
   "source": []
  },
  {
   "cell_type": "code",
   "execution_count": null,
   "id": "6d1c4a2b-fd86-44f3-bdb1-c9bd78b3dc37",
   "metadata": {},
   "outputs": [],
   "source": []
  },
  {
   "cell_type": "code",
   "execution_count": null,
   "id": "1ec7d9b4-9239-4c34-9990-13c47dc3d51e",
   "metadata": {},
   "outputs": [],
   "source": []
  },
  {
   "cell_type": "code",
   "execution_count": null,
   "id": "e9301cb3-7216-49e6-9c00-e55accad5bfc",
   "metadata": {},
   "outputs": [],
   "source": []
  },
  {
   "cell_type": "code",
   "execution_count": null,
   "id": "24f01975-7f5a-42c8-a49c-2a27f452146f",
   "metadata": {},
   "outputs": [],
   "source": []
  },
  {
   "cell_type": "code",
   "execution_count": null,
   "id": "bcf45886-c778-40d3-bea6-6bb76bb47e70",
   "metadata": {},
   "outputs": [],
   "source": []
  },
  {
   "cell_type": "code",
   "execution_count": null,
   "id": "d5721007-ebeb-4f61-abdb-7d0748ed3bb7",
   "metadata": {},
   "outputs": [],
   "source": []
  },
  {
   "cell_type": "code",
   "execution_count": null,
   "id": "6430a6ae-6f32-4b85-a99e-86095a12726e",
   "metadata": {},
   "outputs": [],
   "source": []
  },
  {
   "cell_type": "code",
   "execution_count": null,
   "id": "4a3e002b-bbdd-4318-a0af-4f5b9260644f",
   "metadata": {},
   "outputs": [],
   "source": []
  },
  {
   "cell_type": "code",
   "execution_count": null,
   "id": "e03cc9c6-f44e-43e3-b982-7664a819ed49",
   "metadata": {},
   "outputs": [],
   "source": []
  },
  {
   "cell_type": "code",
   "execution_count": null,
   "id": "c5893e2b-4661-48f6-be1e-67b343396b48",
   "metadata": {},
   "outputs": [],
   "source": []
  },
  {
   "cell_type": "code",
   "execution_count": null,
   "id": "2e51830d-9dfb-436e-8e0c-5238ecfb93af",
   "metadata": {},
   "outputs": [],
   "source": []
  },
  {
   "cell_type": "code",
   "execution_count": null,
   "id": "7e033593-3133-451e-9875-a332a28d8d12",
   "metadata": {},
   "outputs": [],
   "source": []
  },
  {
   "cell_type": "code",
   "execution_count": null,
   "id": "07b64dfe-53fe-4a88-83c1-bad5573e254b",
   "metadata": {},
   "outputs": [],
   "source": []
  },
  {
   "cell_type": "code",
   "execution_count": null,
   "id": "de535ae0-290b-447f-abee-5733488b81fe",
   "metadata": {},
   "outputs": [],
   "source": [
    "def compute_kmer_match_df_toSVNodeDict(Ref_DictOf_Hashes, Ref_DictOf_SeqLen, category_hash_sets, N_AsmWiGene_Dict):\n",
    "    \"\"\"\n",
    "    Computes k-mer match Jaccard containment for genes to SV Nodes (defined in a dict).\n",
    "    \n",
    "    Returns:\n",
    "        pd.DataFrame: DataFrame summarizing Jaccard containment results for all genes.\n",
    "    \"\"\"\n",
    "    gene_analysis_rows = []\n",
    "\n",
    "    for GeneID, Gene_Hashes_Set in tqdm(Ref_DictOf_Hashes.items()):\n",
    "        Len_Seq = Ref_DictOf_SeqLen.get(GeneID, 0)\n",
    "        record_hashes_set = Gene_Hashes_Set\n",
    "\n",
    "        # Initialize results for Jaccard containment\n",
    "        jc_results = {}\n",
    "\n",
    "        if len(record_hashes_set) != 0:\n",
    "            # Calculate Jaccard containment for each category\n",
    "            for category, hash_set in category_hash_sets.items():\n",
    "                jc_results[category] = jaccard_containment_FromSets(record_hashes_set, hash_set)\n",
    "        else:\n",
    "            # Set all results to 0 if no hashes exist\n",
    "            jc_results = {category: 0 for category in category_hash_sets}\n",
    "            if Len_Seq < 31:\n",
    "                print(f\"No kmers were produced for segment: {GeneID}\")\n",
    "\n",
    "        # Prepare row for the DataFrame\n",
    "        row = [GeneID, Len_Seq] + list(jc_results.values())\n",
    "        gene_analysis_rows.append(row)\n",
    "\n",
    "    # Create the DataFrame\n",
    "    columns = [\"GeneID\", \"SeqLength\"] + list(category_hash_sets.keys())\n",
    "    gene_kmer_match_df = pd.DataFrame(gene_analysis_rows, columns=columns)\n",
    "\n",
    "    # Add the number of assemblies matching the gene\n",
    "    gene_kmer_match_df[\"NumAsm_WiGene\"] = gene_kmer_match_df[\"GeneID\"].map(N_AsmWiGene_Dict)\n",
    "\n",
    "    return gene_kmer_match_df"
   ]
  },
  {
   "cell_type": "code",
   "execution_count": null,
   "id": "77136eb5-af90-45e3-979f-d8e9f2171c07",
   "metadata": {},
   "outputs": [],
   "source": []
  },
  {
   "cell_type": "code",
   "execution_count": null,
   "id": "9ebf059d-3360-45f0-81b5-ef2f91cb01ca",
   "metadata": {},
   "outputs": [],
   "source": []
  },
  {
   "cell_type": "code",
   "execution_count": null,
   "id": "7425c475-7b61-48fe-bd9f-22743eab5977",
   "metadata": {},
   "outputs": [],
   "source": []
  },
  {
   "cell_type": "code",
   "execution_count": null,
   "id": "4c1d2123-35fd-4907-957d-7be420cfc52e",
   "metadata": {},
   "outputs": [],
   "source": []
  },
  {
   "cell_type": "code",
   "execution_count": null,
   "id": "40aa39b3-88dd-47d3-aaa9-37dbbf3f209c",
   "metadata": {},
   "outputs": [],
   "source": []
  },
  {
   "cell_type": "code",
   "execution_count": null,
   "id": "5f8b1c60-c941-4627-9cc0-b18f30bb86f6",
   "metadata": {},
   "outputs": [],
   "source": []
  },
  {
   "cell_type": "code",
   "execution_count": null,
   "id": "28cbe2dd-9bd4-42c2-93b5-10fff29e9af2",
   "metadata": {},
   "outputs": [],
   "source": []
  },
  {
   "cell_type": "markdown",
   "id": "f5b83c49-65be-4238-8f42-45ca48b3226b",
   "metadata": {},
   "source": [
    "# Extra"
   ]
  },
  {
   "cell_type": "code",
   "execution_count": null,
   "id": "1a29a87d-5961-4e8b-ac65-fa4863399f2c",
   "metadata": {},
   "outputs": [],
   "source": [
    "summarize_sv_categories_with_functional_category(PG_GeneSeq_KmerCatMatch_DF_Dict[\"Panaroo_Strict_MP\"].query(\"NumAsm_WiGene < 150\"),\n",
    "                                                 ListOf_Rv_GeneCats)\n"
   ]
  },
  {
   "cell_type": "code",
   "execution_count": null,
   "id": "d68b5ec8-5dae-445e-84f0-97bf3eb6cc2d",
   "metadata": {},
   "outputs": [],
   "source": []
  },
  {
   "cell_type": "code",
   "execution_count": null,
   "id": "d88200eb-d599-4895-bbe7-403820b1a272",
   "metadata": {},
   "outputs": [],
   "source": [
    "summarize_sv_categories_with_functional_category(PG_GeneSeq_KmerCatMatch_DF_Dict[\"Roary_Default\"].query(\"NumAsm_WiGene < 150\"),\n",
    "                                                 ListOf_Rv_GeneCats)\n"
   ]
  },
  {
   "cell_type": "code",
   "execution_count": null,
   "id": "d42ac66b-eb25-4cc0-89df-2722d30e4ad0",
   "metadata": {},
   "outputs": [],
   "source": [
    "summarize_sv_categories_with_functional_category(PG_GeneSeq_KmerCatMatch_DF_Dict[\"Panaroo_Strict\"].query(\"NumAsm_WiGene < 150\"),\n",
    "                                                 ListOf_Rv_GeneCats)\n"
   ]
  },
  {
   "cell_type": "code",
   "execution_count": null,
   "id": "2723dadc-ffbd-4ef7-b493-354d7d5f584a",
   "metadata": {},
   "outputs": [],
   "source": []
  },
  {
   "cell_type": "code",
   "execution_count": null,
   "id": "3c9664e1-70e7-4d93-a226-5516bdc67a9f",
   "metadata": {},
   "outputs": [],
   "source": []
  },
  {
   "cell_type": "code",
   "execution_count": null,
   "id": "3ff59c72-4a8b-4f28-9e62-487429c2bd5f",
   "metadata": {},
   "outputs": [],
   "source": []
  }
 ],
 "metadata": {
  "kernelspec": {
   "display_name": "py37_S",
   "language": "python",
   "name": "py37_s"
  },
  "language_info": {
   "codemirror_mode": {
    "name": "ipython",
    "version": 3
   },
   "file_extension": ".py",
   "mimetype": "text/x-python",
   "name": "python",
   "nbconvert_exporter": "python",
   "pygments_lexer": "ipython3",
   "version": "3.7.3"
  }
 },
 "nbformat": 4,
 "nbformat_minor": 5
}
