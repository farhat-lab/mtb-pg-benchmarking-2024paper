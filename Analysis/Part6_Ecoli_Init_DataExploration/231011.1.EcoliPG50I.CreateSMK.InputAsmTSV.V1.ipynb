{
 "cells": [
  {
   "cell_type": "markdown",
   "id": "7eaf375f-9804-4c9c-8cf7-0d8ba5da811a",
   "metadata": {},
   "source": [
    "# Create input TSV for PG analysis - Shaw2021 Ecoli 50 Asm Dataset"
   ]
  },
  {
   "cell_type": "code",
   "execution_count": 17,
   "id": "97ca3fd4-b828-412f-b651-16366c0c8305",
   "metadata": {},
   "outputs": [],
   "source": [
    "import numpy as np\n",
    "import pandas as pd\n",
    "from tqdm import tqdm\n",
    "#import matplotlib.pyplot as plt\n",
    "#import seaborn as sns\n",
    "#import pickle\n",
    "\n",
    "%matplotlib inline"
   ]
  },
  {
   "cell_type": "code",
   "execution_count": 18,
   "id": "5318eb7f-1be3-4433-93fe-8017c7ec415c",
   "metadata": {},
   "outputs": [],
   "source": [
    "import glob"
   ]
  },
  {
   "cell_type": "markdown",
   "id": "cda78408-4bae-4595-a4ac-81e1d047edf6",
   "metadata": {},
   "source": [
    "# 0) Define directories"
   ]
  },
  {
   "cell_type": "code",
   "execution_count": 19,
   "id": "5d53b540-e226-4b62-b3dd-f17eec8dfdc6",
   "metadata": {},
   "outputs": [],
   "source": [
    "\n",
    "Proj_MainDir = \"/n/data1/hms/dbmi/farhat/mm774/Projects\"\n",
    "\n",
    "Ecoli_PG_MainDir = f\"{Proj_MainDir}/230905_Ecoli_PG_Analysis\"  \n",
    "\n",
    "Data_MainDir = f\"{Ecoli_PG_MainDir}/Data\"  \n",
    "\n",
    "Shaw2021_50Asm_Dir = f\"{Data_MainDir}/Shaw2021.50Genomes.Data/data\"\n"
   ]
  },
  {
   "cell_type": "code",
   "execution_count": 20,
   "id": "00db28fc-cdf7-490f-ba74-ef7e31b453d3",
   "metadata": {},
   "outputs": [
    {
     "name": "stdout",
     "output_type": "stream",
     "text": [
      "/n/data1/hms/dbmi/farhat/mm774/Projects/230905_Ecoli_PG_Analysis/Data\n"
     ]
    }
   ],
   "source": [
    "print(Data_MainDir)"
   ]
  },
  {
   "cell_type": "code",
   "execution_count": 21,
   "id": "c9d46011-574e-4636-8ab9-e3773099a76c",
   "metadata": {},
   "outputs": [
    {
     "name": "stdout",
     "output_type": "stream",
     "text": [
      "NCBI.RefSeq.20.EcoliGenomes.dataset\n",
      "NCBI.RefSeq.20.EcoliGenomes.dataset.zip\n",
      "NCBI.RefSeq.20.EcoliGenomes.Metadata.tsv\n",
      "README.md\n",
      "Shaw2021.50Genomes.Data\n",
      "Shaw2021.50Genomes.Marin.zip\n",
      "Shaw2021.NCBIDownloadNotes.txt\n",
      "Shaw2021.SelectedIsolates.50I.tsv\n"
     ]
    }
   ],
   "source": [
    "!ls -1 $Data_MainDir"
   ]
  },
  {
   "cell_type": "code",
   "execution_count": 22,
   "id": "6811bc28-129d-4718-a8c0-47c7ba49e3bc",
   "metadata": {},
   "outputs": [
    {
     "name": "stdout",
     "output_type": "stream",
     "text": [
      "assembly_data_report.jsonl\n",
      "dataset_catalog.json\n",
      "GCA_013602835.1\n",
      "GCA_013712565.1\n",
      "GCA_013713325.1\n"
     ]
    }
   ],
   "source": [
    "!ls -1 $Shaw2021_50Asm_Dir | head -n 5"
   ]
  },
  {
   "cell_type": "code",
   "execution_count": 23,
   "id": "bba6521a-22ff-45e4-b9fc-7fd90ac83a7c",
   "metadata": {},
   "outputs": [
    {
     "name": "stdout",
     "output_type": "stream",
     "text": [
      "52\n"
     ]
    }
   ],
   "source": [
    "!ls -1 $Shaw2021_50Asm_Dir | wc -l "
   ]
  },
  {
   "cell_type": "code",
   "execution_count": 24,
   "id": "47bd8428-3d28-4136-ae47-7e90805f2be0",
   "metadata": {},
   "outputs": [
    {
     "name": "stdout",
     "output_type": "stream",
     "text": [
      "50\n"
     ]
    }
   ],
   "source": [
    "!ls -1 $Shaw2021_50Asm_Dir | grep \"GCA\" | wc -l "
   ]
  },
  {
   "cell_type": "code",
   "execution_count": 25,
   "id": "1f33c8fb-65a8-4f6e-aafb-53972c4ac9a3",
   "metadata": {},
   "outputs": [
    {
     "name": "stdout",
     "output_type": "stream",
     "text": [
      "GCA_013602835.1_ASM1360283v1_genomic.fna\n",
      "genomic.gff\n"
     ]
    }
   ],
   "source": [
    "!ls -1 $Shaw2021_50Asm_Dir/GCA_013602835.1"
   ]
  },
  {
   "cell_type": "code",
   "execution_count": null,
   "id": "2ffae105-ef5c-47bc-b823-b600a262152d",
   "metadata": {},
   "outputs": [],
   "source": []
  },
  {
   "cell_type": "markdown",
   "id": "d416d05f-4eb5-4e5d-bdca-ee4f327792e5",
   "metadata": {},
   "source": [
    "## 1) Parse Asm INFO for Ecoli dataset (N = 50) "
   ]
  },
  {
   "cell_type": "code",
   "execution_count": 26,
   "id": "c6a58d8c-3be1-486a-b9f0-7931b0c5e047",
   "metadata": {},
   "outputs": [],
   "source": [
    "Shaw2021_Meta_TSV = f\"{Data_MainDir}/Shaw2021.SelectedIsolates.50I.tsv\"  "
   ]
  },
  {
   "cell_type": "code",
   "execution_count": 27,
   "id": "5e1d2bc4-3fb3-4ce8-bb79-333289f53c92",
   "metadata": {},
   "outputs": [
    {
     "data": {
      "text/plain": [
       "(50, 23)"
      ]
     },
     "execution_count": 27,
     "metadata": {},
     "output_type": "execute_result"
    }
   ],
   "source": [
    "Shaw_50A_Info_DF = pd.read_csv(Shaw2021_Meta_TSV, sep = \"\\t\")\n",
    "Shaw_50A_Info_DF[\"SampleID\"] = Shaw_50A_Info_DF[\"Assembly Accession\"].str.split(\".\").str[0] \n",
    "Shaw_50A_Info_DF.shape"
   ]
  },
  {
   "cell_type": "code",
   "execution_count": 28,
   "id": "9513c07a-81cb-4bda-8e5f-7b19c7a7a251",
   "metadata": {},
   "outputs": [
    {
     "data": {
      "text/html": [
       "<div>\n",
       "<style scoped>\n",
       "    .dataframe tbody tr th:only-of-type {\n",
       "        vertical-align: middle;\n",
       "    }\n",
       "\n",
       "    .dataframe tbody tr th {\n",
       "        vertical-align: top;\n",
       "    }\n",
       "\n",
       "    .dataframe thead th {\n",
       "        text-align: right;\n",
       "    }\n",
       "</style>\n",
       "<table border=\"1\" class=\"dataframe\">\n",
       "  <thead>\n",
       "    <tr style=\"text-align: right;\">\n",
       "      <th></th>\n",
       "      <th>Isolate</th>\n",
       "      <th>Biosample Accession</th>\n",
       "      <th>Short Reads Accession</th>\n",
       "      <th>Long Reads Accession</th>\n",
       "      <th>Assembly Accession</th>\n",
       "      <th>Animal or WwTW</th>\n",
       "      <th>Isolate source information</th>\n",
       "      <th>Timepoint</th>\n",
       "      <th>Niche</th>\n",
       "      <th>Niche.2</th>\n",
       "      <th>...</th>\n",
       "      <th>ST assignment</th>\n",
       "      <th>Circularised plasmids</th>\n",
       "      <th>Number of contigs</th>\n",
       "      <th>Circularised chromosome (1=yes)</th>\n",
       "      <th>Total genome size (bp)</th>\n",
       "      <th>Chromosome GC (if known)</th>\n",
       "      <th>Phylogroup (E. coli only)</th>\n",
       "      <th>Alternative isolate name</th>\n",
       "      <th>Long read sequencing method</th>\n",
       "      <th>SampleID</th>\n",
       "    </tr>\n",
       "  </thead>\n",
       "  <tbody>\n",
       "    <tr>\n",
       "      <th>0</th>\n",
       "      <td>RH02|T1-C02</td>\n",
       "      <td>SAMN15147960</td>\n",
       "      <td>SRR11948863</td>\n",
       "      <td>SRR12299015</td>\n",
       "      <td>GCA_014109125.1</td>\n",
       "      <td>Animal</td>\n",
       "      <td>Pooled pig faecal samples collected from floor...</td>\n",
       "      <td>1</td>\n",
       "      <td>Pig</td>\n",
       "      <td>Faeces</td>\n",
       "      <td>...</td>\n",
       "      <td>10.0</td>\n",
       "      <td>1</td>\n",
       "      <td>2</td>\n",
       "      <td>1</td>\n",
       "      <td>4953790</td>\n",
       "      <td>50.7</td>\n",
       "      <td>A</td>\n",
       "      <td>RHB02-C02</td>\n",
       "      <td>PacBio</td>\n",
       "      <td>GCA_014109125</td>\n",
       "    </tr>\n",
       "    <tr>\n",
       "      <th>1</th>\n",
       "      <td>RH02|T1-C06</td>\n",
       "      <td>SAMN15147963</td>\n",
       "      <td>SRR11948664</td>\n",
       "      <td>SRR12298958</td>\n",
       "      <td>GCA_014109065.1</td>\n",
       "      <td>Animal</td>\n",
       "      <td>Pooled pig faecal samples collected from floor...</td>\n",
       "      <td>1</td>\n",
       "      <td>Pig</td>\n",
       "      <td>Faeces</td>\n",
       "      <td>...</td>\n",
       "      <td>10.0</td>\n",
       "      <td>1</td>\n",
       "      <td>2</td>\n",
       "      <td>1</td>\n",
       "      <td>4950024</td>\n",
       "      <td>50.7</td>\n",
       "      <td>A</td>\n",
       "      <td>RHB02-C06</td>\n",
       "      <td>Nanopore</td>\n",
       "      <td>GCA_014109065</td>\n",
       "    </tr>\n",
       "    <tr>\n",
       "      <th>2</th>\n",
       "      <td>RH02|T1-C10</td>\n",
       "      <td>SAMN15147965</td>\n",
       "      <td>SRR11949072</td>\n",
       "      <td>SRR12298585</td>\n",
       "      <td>GCA_013923405.1</td>\n",
       "      <td>Animal</td>\n",
       "      <td>Pooled pig faecal samples collected from floor...</td>\n",
       "      <td>1</td>\n",
       "      <td>Pig</td>\n",
       "      <td>Faeces</td>\n",
       "      <td>...</td>\n",
       "      <td>10.0</td>\n",
       "      <td>1</td>\n",
       "      <td>2</td>\n",
       "      <td>1</td>\n",
       "      <td>4951893</td>\n",
       "      <td>50.7</td>\n",
       "      <td>A</td>\n",
       "      <td>RHB02-C10</td>\n",
       "      <td>PacBio</td>\n",
       "      <td>GCA_013923405</td>\n",
       "    </tr>\n",
       "    <tr>\n",
       "      <th>3</th>\n",
       "      <td>RH10|T3-C14</td>\n",
       "      <td>SAMN15148305</td>\n",
       "      <td>SRR11949198</td>\n",
       "      <td>SRR12298645</td>\n",
       "      <td>GCA_013821965.1</td>\n",
       "      <td>Animal</td>\n",
       "      <td>Pooled cattle faecal samples collected from fl...</td>\n",
       "      <td>3</td>\n",
       "      <td>Cattle</td>\n",
       "      <td>Faeces</td>\n",
       "      <td>...</td>\n",
       "      <td>34.0</td>\n",
       "      <td>3</td>\n",
       "      <td>4</td>\n",
       "      <td>1</td>\n",
       "      <td>4914446</td>\n",
       "      <td>50.9</td>\n",
       "      <td>A</td>\n",
       "      <td>RHB31-C14</td>\n",
       "      <td>Nanopore</td>\n",
       "      <td>GCA_013821965</td>\n",
       "    </tr>\n",
       "  </tbody>\n",
       "</table>\n",
       "<p>4 rows × 23 columns</p>\n",
       "</div>"
      ],
      "text/plain": [
       "       Isolate Biosample Accession Short Reads Accession Long Reads Accession  \\\n",
       "0  RH02|T1-C02        SAMN15147960           SRR11948863          SRR12299015   \n",
       "1  RH02|T1-C06        SAMN15147963           SRR11948664          SRR12298958   \n",
       "2  RH02|T1-C10        SAMN15147965           SRR11949072          SRR12298585   \n",
       "3  RH10|T3-C14        SAMN15148305           SRR11949198          SRR12298645   \n",
       "\n",
       "  Assembly Accession Animal or WwTW  \\\n",
       "0    GCA_014109125.1         Animal   \n",
       "1    GCA_014109065.1         Animal   \n",
       "2    GCA_013923405.1         Animal   \n",
       "3    GCA_013821965.1         Animal   \n",
       "\n",
       "                          Isolate source information  Timepoint   Niche  \\\n",
       "0  Pooled pig faecal samples collected from floor...          1     Pig   \n",
       "1  Pooled pig faecal samples collected from floor...          1     Pig   \n",
       "2  Pooled pig faecal samples collected from floor...          1     Pig   \n",
       "3  Pooled cattle faecal samples collected from fl...          3  Cattle   \n",
       "\n",
       "  Niche.2  ... ST assignment Circularised plasmids Number of contigs  \\\n",
       "0  Faeces  ...          10.0                     1                 2   \n",
       "1  Faeces  ...          10.0                     1                 2   \n",
       "2  Faeces  ...          10.0                     1                 2   \n",
       "3  Faeces  ...          34.0                     3                 4   \n",
       "\n",
       "   Circularised chromosome (1=yes)  Total genome size (bp)  \\\n",
       "0                                1                 4953790   \n",
       "1                                1                 4950024   \n",
       "2                                1                 4951893   \n",
       "3                                1                 4914446   \n",
       "\n",
       "   Chromosome GC (if known)  Phylogroup (E. coli only)  \\\n",
       "0                      50.7                          A   \n",
       "1                      50.7                          A   \n",
       "2                      50.7                          A   \n",
       "3                      50.9                          A   \n",
       "\n",
       "   Alternative isolate name  Long read sequencing method       SampleID  \n",
       "0                 RHB02-C02                       PacBio  GCA_014109125  \n",
       "1                 RHB02-C06                     Nanopore  GCA_014109065  \n",
       "2                 RHB02-C10                       PacBio  GCA_013923405  \n",
       "3                 RHB31-C14                     Nanopore  GCA_013821965  \n",
       "\n",
       "[4 rows x 23 columns]"
      ]
     },
     "execution_count": 28,
     "metadata": {},
     "output_type": "execute_result"
    }
   ],
   "source": [
    "Shaw_50A_Info_DF.head(4) "
   ]
  },
  {
   "cell_type": "code",
   "execution_count": null,
   "id": "3096d79c-39e1-4f7b-9dc2-a2e5aca724c2",
   "metadata": {},
   "outputs": [],
   "source": []
  },
  {
   "cell_type": "code",
   "execution_count": null,
   "id": "d6576cd4-0630-40c1-ab43-9977e7d3e025",
   "metadata": {},
   "outputs": [],
   "source": []
  },
  {
   "cell_type": "markdown",
   "id": "f7ec9005-2f74-4676-9424-353b3146bf84",
   "metadata": {},
   "source": [
    "## 2) Create a dict of Asm FAs"
   ]
  },
  {
   "cell_type": "code",
   "execution_count": 29,
   "id": "6f56393c-5519-43e8-821d-01da513f5731",
   "metadata": {},
   "outputs": [],
   "source": [
    "dictOf_AsmFA_PATHs = {}\n",
    "\n",
    "for i, row in Shaw_50A_Info_DF.iterrows():\n",
    "\n",
    "    i_AsmAcc = row[\"Assembly Accession\"]\n",
    "    #print(i, i_AsmAcc)\n",
    "\n",
    "    i_AsmDir = f\"{Shaw2021_50Asm_Dir}/{i_AsmAcc}\"\n",
    "    #!ls -1 $i_AsmDir\n",
    "\n",
    "    fasta_files = glob.glob(f'{i_AsmDir}/*.fna')\n",
    "\n",
    "    dictOf_AsmFA_PATHs[i_AsmAcc] = fasta_files[0]\n",
    "    \n",
    "    #print(\"\")\n",
    "    \n",
    "    #break\n",
    "    "
   ]
  },
  {
   "cell_type": "code",
   "execution_count": null,
   "id": "20429cdf-2838-4b54-8c7e-6976da0b331c",
   "metadata": {},
   "outputs": [],
   "source": []
  },
  {
   "cell_type": "markdown",
   "id": "c6fa7cef-e1d7-4b04-837b-f237389e79c3",
   "metadata": {},
   "source": [
    "## 3) Add `Genome_ASM_PATH` to the DF"
   ]
  },
  {
   "cell_type": "code",
   "execution_count": 30,
   "id": "64ff04a9-2812-4740-8a36-44e5899d751c",
   "metadata": {},
   "outputs": [],
   "source": [
    "Shaw_50A_Info_DF[\"Genome_ASM_PATH\"] = Shaw_50A_Info_DF[\"Assembly Accession\"].map(dictOf_AsmFA_PATHs)"
   ]
  },
  {
   "cell_type": "code",
   "execution_count": 31,
   "id": "442804e3-9543-4631-9f55-60b70ca047a7",
   "metadata": {},
   "outputs": [
    {
     "data": {
      "text/html": [
       "<div>\n",
       "<style scoped>\n",
       "    .dataframe tbody tr th:only-of-type {\n",
       "        vertical-align: middle;\n",
       "    }\n",
       "\n",
       "    .dataframe tbody tr th {\n",
       "        vertical-align: top;\n",
       "    }\n",
       "\n",
       "    .dataframe thead th {\n",
       "        text-align: right;\n",
       "    }\n",
       "</style>\n",
       "<table border=\"1\" class=\"dataframe\">\n",
       "  <thead>\n",
       "    <tr style=\"text-align: right;\">\n",
       "      <th></th>\n",
       "      <th>Isolate</th>\n",
       "      <th>Biosample Accession</th>\n",
       "      <th>Short Reads Accession</th>\n",
       "      <th>Long Reads Accession</th>\n",
       "      <th>Assembly Accession</th>\n",
       "      <th>Animal or WwTW</th>\n",
       "      <th>Isolate source information</th>\n",
       "      <th>Timepoint</th>\n",
       "      <th>Niche</th>\n",
       "      <th>Niche.2</th>\n",
       "      <th>...</th>\n",
       "      <th>Circularised plasmids</th>\n",
       "      <th>Number of contigs</th>\n",
       "      <th>Circularised chromosome (1=yes)</th>\n",
       "      <th>Total genome size (bp)</th>\n",
       "      <th>Chromosome GC (if known)</th>\n",
       "      <th>Phylogroup (E. coli only)</th>\n",
       "      <th>Alternative isolate name</th>\n",
       "      <th>Long read sequencing method</th>\n",
       "      <th>SampleID</th>\n",
       "      <th>Genome_ASM_PATH</th>\n",
       "    </tr>\n",
       "  </thead>\n",
       "  <tbody>\n",
       "    <tr>\n",
       "      <th>0</th>\n",
       "      <td>RH02|T1-C02</td>\n",
       "      <td>SAMN15147960</td>\n",
       "      <td>SRR11948863</td>\n",
       "      <td>SRR12299015</td>\n",
       "      <td>GCA_014109125.1</td>\n",
       "      <td>Animal</td>\n",
       "      <td>Pooled pig faecal samples collected from floor...</td>\n",
       "      <td>1</td>\n",
       "      <td>Pig</td>\n",
       "      <td>Faeces</td>\n",
       "      <td>...</td>\n",
       "      <td>1</td>\n",
       "      <td>2</td>\n",
       "      <td>1</td>\n",
       "      <td>4953790</td>\n",
       "      <td>50.7</td>\n",
       "      <td>A</td>\n",
       "      <td>RHB02-C02</td>\n",
       "      <td>PacBio</td>\n",
       "      <td>GCA_014109125</td>\n",
       "      <td>/n/data1/hms/dbmi/farhat/mm774/Projects/230905...</td>\n",
       "    </tr>\n",
       "    <tr>\n",
       "      <th>1</th>\n",
       "      <td>RH02|T1-C06</td>\n",
       "      <td>SAMN15147963</td>\n",
       "      <td>SRR11948664</td>\n",
       "      <td>SRR12298958</td>\n",
       "      <td>GCA_014109065.1</td>\n",
       "      <td>Animal</td>\n",
       "      <td>Pooled pig faecal samples collected from floor...</td>\n",
       "      <td>1</td>\n",
       "      <td>Pig</td>\n",
       "      <td>Faeces</td>\n",
       "      <td>...</td>\n",
       "      <td>1</td>\n",
       "      <td>2</td>\n",
       "      <td>1</td>\n",
       "      <td>4950024</td>\n",
       "      <td>50.7</td>\n",
       "      <td>A</td>\n",
       "      <td>RHB02-C06</td>\n",
       "      <td>Nanopore</td>\n",
       "      <td>GCA_014109065</td>\n",
       "      <td>/n/data1/hms/dbmi/farhat/mm774/Projects/230905...</td>\n",
       "    </tr>\n",
       "    <tr>\n",
       "      <th>2</th>\n",
       "      <td>RH02|T1-C10</td>\n",
       "      <td>SAMN15147965</td>\n",
       "      <td>SRR11949072</td>\n",
       "      <td>SRR12298585</td>\n",
       "      <td>GCA_013923405.1</td>\n",
       "      <td>Animal</td>\n",
       "      <td>Pooled pig faecal samples collected from floor...</td>\n",
       "      <td>1</td>\n",
       "      <td>Pig</td>\n",
       "      <td>Faeces</td>\n",
       "      <td>...</td>\n",
       "      <td>1</td>\n",
       "      <td>2</td>\n",
       "      <td>1</td>\n",
       "      <td>4951893</td>\n",
       "      <td>50.7</td>\n",
       "      <td>A</td>\n",
       "      <td>RHB02-C10</td>\n",
       "      <td>PacBio</td>\n",
       "      <td>GCA_013923405</td>\n",
       "      <td>/n/data1/hms/dbmi/farhat/mm774/Projects/230905...</td>\n",
       "    </tr>\n",
       "    <tr>\n",
       "      <th>3</th>\n",
       "      <td>RH10|T3-C14</td>\n",
       "      <td>SAMN15148305</td>\n",
       "      <td>SRR11949198</td>\n",
       "      <td>SRR12298645</td>\n",
       "      <td>GCA_013821965.1</td>\n",
       "      <td>Animal</td>\n",
       "      <td>Pooled cattle faecal samples collected from fl...</td>\n",
       "      <td>3</td>\n",
       "      <td>Cattle</td>\n",
       "      <td>Faeces</td>\n",
       "      <td>...</td>\n",
       "      <td>3</td>\n",
       "      <td>4</td>\n",
       "      <td>1</td>\n",
       "      <td>4914446</td>\n",
       "      <td>50.9</td>\n",
       "      <td>A</td>\n",
       "      <td>RHB31-C14</td>\n",
       "      <td>Nanopore</td>\n",
       "      <td>GCA_013821965</td>\n",
       "      <td>/n/data1/hms/dbmi/farhat/mm774/Projects/230905...</td>\n",
       "    </tr>\n",
       "  </tbody>\n",
       "</table>\n",
       "<p>4 rows × 24 columns</p>\n",
       "</div>"
      ],
      "text/plain": [
       "       Isolate Biosample Accession Short Reads Accession Long Reads Accession  \\\n",
       "0  RH02|T1-C02        SAMN15147960           SRR11948863          SRR12299015   \n",
       "1  RH02|T1-C06        SAMN15147963           SRR11948664          SRR12298958   \n",
       "2  RH02|T1-C10        SAMN15147965           SRR11949072          SRR12298585   \n",
       "3  RH10|T3-C14        SAMN15148305           SRR11949198          SRR12298645   \n",
       "\n",
       "  Assembly Accession Animal or WwTW  \\\n",
       "0    GCA_014109125.1         Animal   \n",
       "1    GCA_014109065.1         Animal   \n",
       "2    GCA_013923405.1         Animal   \n",
       "3    GCA_013821965.1         Animal   \n",
       "\n",
       "                          Isolate source information  Timepoint   Niche  \\\n",
       "0  Pooled pig faecal samples collected from floor...          1     Pig   \n",
       "1  Pooled pig faecal samples collected from floor...          1     Pig   \n",
       "2  Pooled pig faecal samples collected from floor...          1     Pig   \n",
       "3  Pooled cattle faecal samples collected from fl...          3  Cattle   \n",
       "\n",
       "  Niche.2  ... Circularised plasmids Number of contigs  \\\n",
       "0  Faeces  ...                     1                 2   \n",
       "1  Faeces  ...                     1                 2   \n",
       "2  Faeces  ...                     1                 2   \n",
       "3  Faeces  ...                     3                 4   \n",
       "\n",
       "  Circularised chromosome (1=yes)  Total genome size (bp)  \\\n",
       "0                               1                 4953790   \n",
       "1                               1                 4950024   \n",
       "2                               1                 4951893   \n",
       "3                               1                 4914446   \n",
       "\n",
       "   Chromosome GC (if known)  Phylogroup (E. coli only)  \\\n",
       "0                      50.7                          A   \n",
       "1                      50.7                          A   \n",
       "2                      50.7                          A   \n",
       "3                      50.9                          A   \n",
       "\n",
       "   Alternative isolate name  Long read sequencing method       SampleID  \\\n",
       "0                 RHB02-C02                       PacBio  GCA_014109125   \n",
       "1                 RHB02-C06                     Nanopore  GCA_014109065   \n",
       "2                 RHB02-C10                       PacBio  GCA_013923405   \n",
       "3                 RHB31-C14                     Nanopore  GCA_013821965   \n",
       "\n",
       "                                     Genome_ASM_PATH  \n",
       "0  /n/data1/hms/dbmi/farhat/mm774/Projects/230905...  \n",
       "1  /n/data1/hms/dbmi/farhat/mm774/Projects/230905...  \n",
       "2  /n/data1/hms/dbmi/farhat/mm774/Projects/230905...  \n",
       "3  /n/data1/hms/dbmi/farhat/mm774/Projects/230905...  \n",
       "\n",
       "[4 rows x 24 columns]"
      ]
     },
     "execution_count": 31,
     "metadata": {},
     "output_type": "execute_result"
    }
   ],
   "source": [
    "Shaw_50A_Info_DF.head(4)  "
   ]
  },
  {
   "cell_type": "code",
   "execution_count": 32,
   "id": "46e16c8f-ed73-4287-903c-10451806158d",
   "metadata": {},
   "outputs": [
    {
     "data": {
      "text/plain": [
       "'/n/data1/hms/dbmi/farhat/mm774/Projects/230905_Ecoli_PG_Analysis/Data/Shaw2021.50Genomes.Data/data/GCA_014109125.1/GCA_014109125.1_ASM1410912v1_genomic.fna'"
      ]
     },
     "execution_count": 32,
     "metadata": {},
     "output_type": "execute_result"
    }
   ],
   "source": [
    "Shaw_50A_Info_DF[\"Genome_ASM_PATH\"].values[0]"
   ]
  },
  {
   "cell_type": "code",
   "execution_count": 33,
   "id": "154dd123-f010-4f4d-ad5a-8fde29dc289a",
   "metadata": {},
   "outputs": [],
   "source": [
    "# !ls -lah /n/data1/hms/dbmi/farhat/mm774/Projects/230905_Ecoli_PG_Analysis/Data/Shaw2021.50Genomes.Data/data/GCA_014109125.1/GCA_014109125.1_ASM1410912v1_genomic.fna"
   ]
  },
  {
   "cell_type": "code",
   "execution_count": null,
   "id": "e495b89c-820b-4d68-8870-0f12f78dea08",
   "metadata": {},
   "outputs": [],
   "source": []
  },
  {
   "cell_type": "code",
   "execution_count": null,
   "id": "044970d0-60b0-4dce-a540-0971820bd606",
   "metadata": {},
   "outputs": [],
   "source": [
    "231212.7.A.panqc.NRC.Mtb151CI.Analysis.Part1.Try4.ipynb"
   ]
  },
  {
   "cell_type": "markdown",
   "id": "fd595f8b-174d-4d2a-a257-bf69e04b71b4",
   "metadata": {},
   "source": [
    "# 3) Output TSV w/ sample info and Assembly FASTA PATHs"
   ]
  },
  {
   "cell_type": "code",
   "execution_count": 35,
   "id": "7efcce6d-c183-400a-918b-05c206ccfe42",
   "metadata": {},
   "outputs": [],
   "source": [
    "Ecoli_Meta_Dir = f\"../../Data/230905_Ecoli_50CI_Metadata_Shaw2021\"  \n",
    "\n",
    "!mkdir $Ecoli_Meta_Dir\n",
    "\n",
    "\n",
    "Shaw2021_Ecoli_50Asm_AsmPATH_TSV = f\"{Ecoli_Meta_Dir}/231011.Shaw2021.Ecoli.50I.AsmFA.tsv\"\n",
    "\n",
    "Shaw_50A_Info_DF[[\"SampleID\", \"Isolate\", \"Assembly Accession\", \"Genome_ASM_PATH\"]].to_csv(Shaw2021_Ecoli_50Asm_AsmPATH_TSV, sep = \"\\t\", index=False)\n",
    "\n",
    "\n",
    "Shaw2021_Ecoli_50Asm_Meta_TSV = f\"{Ecoli_Meta_Dir}/231011.Shaw2021.Ecoli.50I.MetaData.tsv\"\n",
    "\n",
    "Shaw_50A_Info_DF.to_csv(Shaw2021_Ecoli_50Asm_Meta_TSV, sep = \"\\t\", index=False)\n",
    "\n"
   ]
  },
  {
   "cell_type": "code",
   "execution_count": 36,
   "id": "d14b10b9-454a-45c0-9cb0-119d2ee637a6",
   "metadata": {},
   "outputs": [
    {
     "name": "stdout",
     "output_type": "stream",
     "text": [
      "../../Data/230905_Ecoli_50CI_Metadata_Shaw2021/231011.Shaw2021.Ecoli.50I.AsmFA.tsv\n"
     ]
    }
   ],
   "source": [
    "print(Shaw2021_Ecoli_50Asm_AsmPATH_TSV)"
   ]
  },
  {
   "cell_type": "code",
   "execution_count": 37,
   "id": "894b29fd-449f-4938-8593-7e48d503928b",
   "metadata": {},
   "outputs": [
    {
     "name": "stdout",
     "output_type": "stream",
     "text": [
      "51 ../../Data/230905_Ecoli_50CI_Metadata_Shaw2021/231011.Shaw2021.Ecoli.50I.AsmFA.tsv\n"
     ]
    }
   ],
   "source": [
    "!wc -l $Shaw2021_Ecoli_50Asm_AsmPATH_TSV"
   ]
  },
  {
   "cell_type": "code",
   "execution_count": 38,
   "id": "f75daffa-5089-457a-a1f5-904d6429516e",
   "metadata": {},
   "outputs": [
    {
     "name": "stdout",
     "output_type": "stream",
     "text": [
      "SampleID\tIsolate\tAssembly Accession\tGenome_ASM_PATH\n",
      "GCA_014109125\tRH02|T1-C02\tGCA_014109125.1\t/n/data1/hms/dbmi/farhat/mm774/Projects/230905_Ecoli_PG_Analysis/Data/Shaw2021.50Genomes.Data/data/GCA_014109125.1/GCA_014109125.1_ASM1410912v1_genomic.fna\n"
     ]
    }
   ],
   "source": [
    "!head -n 2 $Shaw2021_Ecoli_50Asm_AsmPATH_TSV"
   ]
  },
  {
   "cell_type": "code",
   "execution_count": 39,
   "id": "932692e6-2cbb-425d-90a9-15b09e4a2717",
   "metadata": {},
   "outputs": [
    {
     "name": "stdout",
     "output_type": "stream",
     "text": [
      "51 ../../Data/230905_Ecoli_50CI_Metadata_Shaw2021/231011.Shaw2021.Ecoli.50I.MetaData.tsv\n"
     ]
    }
   ],
   "source": [
    "!wc -l $Shaw2021_Ecoli_50Asm_Meta_TSV"
   ]
  },
  {
   "cell_type": "code",
   "execution_count": 41,
   "id": "77739c13-c9ab-4192-8354-29307b962f43",
   "metadata": {},
   "outputs": [],
   "source": [
    "#!head -n 4 $Shaw2021_Ecoli_50Asm_Meta_TSV"
   ]
  },
  {
   "cell_type": "code",
   "execution_count": null,
   "id": "36e62174-fac2-44df-815d-5b064f5abd86",
   "metadata": {},
   "outputs": [],
   "source": []
  },
  {
   "cell_type": "code",
   "execution_count": null,
   "id": "7f8bef81-4785-4e63-913f-078fbda4f52f",
   "metadata": {},
   "outputs": [],
   "source": []
  },
  {
   "cell_type": "code",
   "execution_count": null,
   "id": "6e8f15e2-748b-42be-a0b1-888a49e00d65",
   "metadata": {},
   "outputs": [],
   "source": []
  },
  {
   "cell_type": "code",
   "execution_count": null,
   "id": "5737ca76-af85-4fda-9e8f-08e9dad4ecad",
   "metadata": {},
   "outputs": [],
   "source": []
  },
  {
   "cell_type": "code",
   "execution_count": null,
   "id": "d5631467-6b2c-4247-81e0-fcd71f5ac9fe",
   "metadata": {},
   "outputs": [],
   "source": []
  },
  {
   "cell_type": "code",
   "execution_count": null,
   "id": "62cf78de-e0e0-4143-be1b-cfb1067a68ba",
   "metadata": {},
   "outputs": [],
   "source": []
  },
  {
   "cell_type": "code",
   "execution_count": null,
   "id": "60f77e3c-1690-43a5-82fc-2501bb57dda4",
   "metadata": {},
   "outputs": [],
   "source": []
  },
  {
   "cell_type": "code",
   "execution_count": null,
   "id": "cbb17c7a-b908-49e5-95db-8152a5855f63",
   "metadata": {},
   "outputs": [],
   "source": []
  }
 ],
 "metadata": {
  "kernelspec": {
   "display_name": "py37_S",
   "language": "python",
   "name": "py37_s"
  },
  "language_info": {
   "codemirror_mode": {
    "name": "ipython",
    "version": 3
   },
   "file_extension": ".py",
   "mimetype": "text/x-python",
   "name": "python",
   "nbconvert_exporter": "python",
   "pygments_lexer": "ipython3",
   "version": "3.7.3"
  }
 },
 "nbformat": 4,
 "nbformat_minor": 5
}
