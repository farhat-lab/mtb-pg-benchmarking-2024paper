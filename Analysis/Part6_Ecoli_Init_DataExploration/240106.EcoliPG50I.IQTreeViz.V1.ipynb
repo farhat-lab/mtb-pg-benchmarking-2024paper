{
 "cells": [
  {
   "cell_type": "markdown",
   "id": "c3a8af9e-6458-467f-9301-f5cefd409e54",
   "metadata": {},
   "source": [
    "# Comparing IQ-Tree phylogenies generated for the Shaw-2021 E. coli dataset\n",
    "\n",
    "### Maximillian Marin (mgmarin@g.harvard.edu)\n"
   ]
  },
  {
   "cell_type": "code",
   "execution_count": 280,
   "id": "9bd88b2e-9661-4767-8af8-7a73118f75a5",
   "metadata": {},
   "outputs": [],
   "source": [
    "import numpy as np\n",
    "import matplotlib.pyplot as plt\n",
    "import seaborn as sns\n",
    "import pandas as pd\n",
    "\n",
    "%matplotlib inline\n"
   ]
  },
  {
   "cell_type": "code",
   "execution_count": 281,
   "id": "b6019698-d004-40f9-bad4-c4889d2a1f37",
   "metadata": {},
   "outputs": [],
   "source": [
    "#import screed"
   ]
  },
  {
   "cell_type": "code",
   "execution_count": 282,
   "id": "68c38959-ec12-4074-9092-3c644a516e92",
   "metadata": {},
   "outputs": [],
   "source": [
    "#import mmh3"
   ]
  },
  {
   "cell_type": "code",
   "execution_count": 283,
   "id": "85520005-5b63-4142-b153-d888229d40ad",
   "metadata": {},
   "outputs": [],
   "source": [
    "# https://github.com/ipython/ipython/issues/10627\n",
    "import os\n",
    "os.environ['QT_QPA_PLATFORM']='offscreen'"
   ]
  },
  {
   "cell_type": "code",
   "execution_count": 284,
   "id": "0cdb8426-532c-4686-a2e8-3c64700ab26a",
   "metadata": {},
   "outputs": [],
   "source": [
    "\n",
    "import ete3 as ETE\n",
    "\n",
    "from ete3 import Tree"
   ]
  },
  {
   "cell_type": "code",
   "execution_count": null,
   "id": "17391a35-fe04-4111-804f-d18c209fe125",
   "metadata": {},
   "outputs": [],
   "source": []
  },
  {
   "cell_type": "markdown",
   "id": "fb6e3a5f-2da6-4cfb-b661-60572283f957",
   "metadata": {},
   "source": [
    "## Define paths to sample metadata files & key directories"
   ]
  },
  {
   "cell_type": "code",
   "execution_count": 285,
   "id": "74cc6eb6-32ec-4a2a-aba5-b3c61502f726",
   "metadata": {},
   "outputs": [],
   "source": [
    "\n",
    "Proj_MainDir = \"/n/data1/hms/dbmi/farhat/mm774/Projects\"\n",
    "\n",
    "Ecoli_PG_MainDir = f\"{Proj_MainDir}/230905_Ecoli_PG_Analysis\"  \n",
    "\n",
    "Data_MainDir = f\"{Ecoli_PG_MainDir}/Data\"  \n",
    "\n",
    "#RefSeq_20Asm_Dir = f\"{Data_MainDir}/NCBI.RefSeq.20.EcoliGenomes.dataset/data\"\n",
    "\n",
    "Shaw2021_50Asm_Dir = f\"{Data_MainDir}/Shaw2021.50Genomes.Data/data\"\n",
    "\n",
    "Shaw2021_Meta_TSV = f\"{Data_MainDir}/Shaw2021.SelectedIsolates.50I.tsv\"  \n",
    "\n",
    "input_FA_PATH_TSVs_Dir = f\"{Ecoli_PG_MainDir}/input_PATH_SMK_TSVs\"\n",
    "\n",
    "Shaw2021_Ecoli_50Asm_Meta_TSV = f\"{input_FA_PATH_TSVs_Dir}/231011.Shaw2021.Ecoli.50I.MetaData.tsv\"\n"
   ]
  },
  {
   "cell_type": "markdown",
   "id": "6a8d3d33-80ff-4f01-a248-9250946095ef",
   "metadata": {},
   "source": [
    "## Parse in metadata DFs"
   ]
  },
  {
   "cell_type": "code",
   "execution_count": 286,
   "id": "c3e4afe2-8cb4-416d-91b1-c11831672b48",
   "metadata": {},
   "outputs": [
    {
     "data": {
      "text/plain": [
       "(50, 24)"
      ]
     },
     "execution_count": 286,
     "metadata": {},
     "output_type": "execute_result"
    }
   ],
   "source": [
    "Shaw_50A_Info_DF = pd.read_csv(Shaw2021_Ecoli_50Asm_Meta_TSV, sep = \"\\t\")\n",
    "Shaw_50A_Info_DF.shape"
   ]
  },
  {
   "cell_type": "markdown",
   "id": "171932aa-4a31-4e8d-8a00-014f3793d1e2",
   "metadata": {},
   "source": [
    "### Define list of SampleIDs"
   ]
  },
  {
   "cell_type": "code",
   "execution_count": 287,
   "id": "f1b80b68-6b94-4dd1-b008-c086a5d5bbb7",
   "metadata": {},
   "outputs": [
    {
     "data": {
      "text/html": [
       "<div>\n",
       "<style scoped>\n",
       "    .dataframe tbody tr th:only-of-type {\n",
       "        vertical-align: middle;\n",
       "    }\n",
       "\n",
       "    .dataframe tbody tr th {\n",
       "        vertical-align: top;\n",
       "    }\n",
       "\n",
       "    .dataframe thead th {\n",
       "        text-align: right;\n",
       "    }\n",
       "</style>\n",
       "<table border=\"1\" class=\"dataframe\">\n",
       "  <thead>\n",
       "    <tr style=\"text-align: right;\">\n",
       "      <th></th>\n",
       "      <th>Isolate</th>\n",
       "      <th>Biosample Accession</th>\n",
       "      <th>Short Reads Accession</th>\n",
       "      <th>Long Reads Accession</th>\n",
       "      <th>Assembly Accession</th>\n",
       "      <th>Animal or WwTW</th>\n",
       "      <th>Isolate source information</th>\n",
       "      <th>Timepoint</th>\n",
       "      <th>Niche</th>\n",
       "      <th>Niche.2</th>\n",
       "      <th>...</th>\n",
       "      <th>Circularised plasmids</th>\n",
       "      <th>Number of contigs</th>\n",
       "      <th>Circularised chromosome (1=yes)</th>\n",
       "      <th>Total genome size (bp)</th>\n",
       "      <th>Chromosome GC (if known)</th>\n",
       "      <th>Phylogroup (E. coli only)</th>\n",
       "      <th>Alternative isolate name</th>\n",
       "      <th>Long read sequencing method</th>\n",
       "      <th>SampleID</th>\n",
       "      <th>Genome_ASM_PATH</th>\n",
       "    </tr>\n",
       "  </thead>\n",
       "  <tbody>\n",
       "    <tr>\n",
       "      <th>0</th>\n",
       "      <td>RH02|T1-C02</td>\n",
       "      <td>SAMN15147960</td>\n",
       "      <td>SRR11948863</td>\n",
       "      <td>SRR12299015</td>\n",
       "      <td>GCA_014109125.1</td>\n",
       "      <td>Animal</td>\n",
       "      <td>Pooled pig faecal samples collected from floor...</td>\n",
       "      <td>1</td>\n",
       "      <td>Pig</td>\n",
       "      <td>Faeces</td>\n",
       "      <td>...</td>\n",
       "      <td>1</td>\n",
       "      <td>2</td>\n",
       "      <td>1</td>\n",
       "      <td>4953790</td>\n",
       "      <td>50.7</td>\n",
       "      <td>A</td>\n",
       "      <td>RHB02-C02</td>\n",
       "      <td>PacBio</td>\n",
       "      <td>GCA_014109125</td>\n",
       "      <td>/n/data1/hms/dbmi/farhat/mm774/Projects/230905...</td>\n",
       "    </tr>\n",
       "  </tbody>\n",
       "</table>\n",
       "<p>1 rows × 24 columns</p>\n",
       "</div>"
      ],
      "text/plain": [
       "       Isolate Biosample Accession Short Reads Accession Long Reads Accession  \\\n",
       "0  RH02|T1-C02        SAMN15147960           SRR11948863          SRR12299015   \n",
       "\n",
       "  Assembly Accession Animal or WwTW  \\\n",
       "0    GCA_014109125.1         Animal   \n",
       "\n",
       "                          Isolate source information  Timepoint Niche Niche.2  \\\n",
       "0  Pooled pig faecal samples collected from floor...          1   Pig  Faeces   \n",
       "\n",
       "   ... Circularised plasmids Number of contigs  \\\n",
       "0  ...                     1                 2   \n",
       "\n",
       "  Circularised chromosome (1=yes)  Total genome size (bp)  \\\n",
       "0                               1                 4953790   \n",
       "\n",
       "   Chromosome GC (if known)  Phylogroup (E. coli only)  \\\n",
       "0                      50.7                          A   \n",
       "\n",
       "   Alternative isolate name  Long read sequencing method       SampleID  \\\n",
       "0                 RHB02-C02                       PacBio  GCA_014109125   \n",
       "\n",
       "                                     Genome_ASM_PATH  \n",
       "0  /n/data1/hms/dbmi/farhat/mm774/Projects/230905...  \n",
       "\n",
       "[1 rows x 24 columns]"
      ]
     },
     "execution_count": 287,
     "metadata": {},
     "output_type": "execute_result"
    }
   ],
   "source": [
    "Shaw_50A_Info_DF.head(1)  "
   ]
  },
  {
   "cell_type": "code",
   "execution_count": 288,
   "id": "8760da37-514d-4c11-8447-ffe49f9a6a1d",
   "metadata": {},
   "outputs": [
    {
     "data": {
      "text/plain": [
       "50"
      ]
     },
     "execution_count": 288,
     "metadata": {},
     "output_type": "execute_result"
    }
   ],
   "source": [
    "E50I_SampleIDs = Shaw_50A_Info_DF[\"SampleID\"].values   \n",
    "len(E50I_SampleIDs)"
   ]
  },
  {
   "cell_type": "code",
   "execution_count": null,
   "id": "9abee39a-532c-44f8-a2be-251718276956",
   "metadata": {},
   "outputs": [],
   "source": []
  },
  {
   "cell_type": "markdown",
   "id": "aba82b82-1354-4a29-91a7-2f8b63aef3bb",
   "metadata": {},
   "source": [
    "### Create lineage mapping for sampleIDs"
   ]
  },
  {
   "cell_type": "code",
   "execution_count": 289,
   "id": "8167654b-b93f-4650-9d0c-6eb7b0e7223c",
   "metadata": {},
   "outputs": [],
   "source": [
    "ID_To_Lineage_Dict = dict(Shaw_50A_Info_DF[['SampleID', 'Phylogroup (E. coli only)']].values)\n"
   ]
  },
  {
   "cell_type": "code",
   "execution_count": 290,
   "id": "c682d4aa-7e7c-4227-9d1a-2bc48abd6788",
   "metadata": {},
   "outputs": [
    {
     "data": {
      "text/plain": [
       "Index(['A', 'B1', 'B2', 'C', 'D', 'E', 'F', 'G', 'cladeV'], dtype='object')"
      ]
     },
     "execution_count": 290,
     "metadata": {},
     "output_type": "execute_result"
    }
   ],
   "source": [
    "Shaw_50A_Info_DF[\"Phylogroup (E. coli only)\"].value_counts().index.sort_values()"
   ]
  },
  {
   "cell_type": "code",
   "execution_count": null,
   "id": "478b24f5-ad7d-4ffd-99f2-062d8c934ac2",
   "metadata": {},
   "outputs": [],
   "source": []
  },
  {
   "cell_type": "code",
   "execution_count": 291,
   "id": "46cc435e-8cb0-4840-aaad-a10aa42f17bb",
   "metadata": {},
   "outputs": [
    {
     "data": {
      "text/html": [
       "<div>\n",
       "<style scoped>\n",
       "    .dataframe tbody tr th:only-of-type {\n",
       "        vertical-align: middle;\n",
       "    }\n",
       "\n",
       "    .dataframe tbody tr th {\n",
       "        vertical-align: top;\n",
       "    }\n",
       "\n",
       "    .dataframe thead th {\n",
       "        text-align: right;\n",
       "    }\n",
       "</style>\n",
       "<table border=\"1\" class=\"dataframe\">\n",
       "  <thead>\n",
       "    <tr style=\"text-align: right;\">\n",
       "      <th></th>\n",
       "      <th>Isolate</th>\n",
       "      <th>Biosample Accession</th>\n",
       "      <th>Short Reads Accession</th>\n",
       "      <th>Long Reads Accession</th>\n",
       "      <th>Assembly Accession</th>\n",
       "      <th>Animal or WwTW</th>\n",
       "      <th>Isolate source information</th>\n",
       "      <th>Timepoint</th>\n",
       "      <th>Niche</th>\n",
       "      <th>Niche.2</th>\n",
       "      <th>...</th>\n",
       "      <th>Circularised plasmids</th>\n",
       "      <th>Number of contigs</th>\n",
       "      <th>Circularised chromosome (1=yes)</th>\n",
       "      <th>Total genome size (bp)</th>\n",
       "      <th>Chromosome GC (if known)</th>\n",
       "      <th>Phylogroup (E. coli only)</th>\n",
       "      <th>Alternative isolate name</th>\n",
       "      <th>Long read sequencing method</th>\n",
       "      <th>SampleID</th>\n",
       "      <th>Genome_ASM_PATH</th>\n",
       "    </tr>\n",
       "  </thead>\n",
       "  <tbody>\n",
       "    <tr>\n",
       "      <th>0</th>\n",
       "      <td>RH02|T1-C02</td>\n",
       "      <td>SAMN15147960</td>\n",
       "      <td>SRR11948863</td>\n",
       "      <td>SRR12299015</td>\n",
       "      <td>GCA_014109125.1</td>\n",
       "      <td>Animal</td>\n",
       "      <td>Pooled pig faecal samples collected from floor...</td>\n",
       "      <td>1</td>\n",
       "      <td>Pig</td>\n",
       "      <td>Faeces</td>\n",
       "      <td>...</td>\n",
       "      <td>1</td>\n",
       "      <td>2</td>\n",
       "      <td>1</td>\n",
       "      <td>4953790</td>\n",
       "      <td>50.7</td>\n",
       "      <td>A</td>\n",
       "      <td>RHB02-C02</td>\n",
       "      <td>PacBio</td>\n",
       "      <td>GCA_014109125</td>\n",
       "      <td>/n/data1/hms/dbmi/farhat/mm774/Projects/230905...</td>\n",
       "    </tr>\n",
       "    <tr>\n",
       "      <th>1</th>\n",
       "      <td>RH02|T1-C06</td>\n",
       "      <td>SAMN15147963</td>\n",
       "      <td>SRR11948664</td>\n",
       "      <td>SRR12298958</td>\n",
       "      <td>GCA_014109065.1</td>\n",
       "      <td>Animal</td>\n",
       "      <td>Pooled pig faecal samples collected from floor...</td>\n",
       "      <td>1</td>\n",
       "      <td>Pig</td>\n",
       "      <td>Faeces</td>\n",
       "      <td>...</td>\n",
       "      <td>1</td>\n",
       "      <td>2</td>\n",
       "      <td>1</td>\n",
       "      <td>4950024</td>\n",
       "      <td>50.7</td>\n",
       "      <td>A</td>\n",
       "      <td>RHB02-C06</td>\n",
       "      <td>Nanopore</td>\n",
       "      <td>GCA_014109065</td>\n",
       "      <td>/n/data1/hms/dbmi/farhat/mm774/Projects/230905...</td>\n",
       "    </tr>\n",
       "    <tr>\n",
       "      <th>2</th>\n",
       "      <td>RH02|T1-C10</td>\n",
       "      <td>SAMN15147965</td>\n",
       "      <td>SRR11949072</td>\n",
       "      <td>SRR12298585</td>\n",
       "      <td>GCA_013923405.1</td>\n",
       "      <td>Animal</td>\n",
       "      <td>Pooled pig faecal samples collected from floor...</td>\n",
       "      <td>1</td>\n",
       "      <td>Pig</td>\n",
       "      <td>Faeces</td>\n",
       "      <td>...</td>\n",
       "      <td>1</td>\n",
       "      <td>2</td>\n",
       "      <td>1</td>\n",
       "      <td>4951893</td>\n",
       "      <td>50.7</td>\n",
       "      <td>A</td>\n",
       "      <td>RHB02-C10</td>\n",
       "      <td>PacBio</td>\n",
       "      <td>GCA_013923405</td>\n",
       "      <td>/n/data1/hms/dbmi/farhat/mm774/Projects/230905...</td>\n",
       "    </tr>\n",
       "    <tr>\n",
       "      <th>3</th>\n",
       "      <td>RH10|T3-C14</td>\n",
       "      <td>SAMN15148305</td>\n",
       "      <td>SRR11949198</td>\n",
       "      <td>SRR12298645</td>\n",
       "      <td>GCA_013821965.1</td>\n",
       "      <td>Animal</td>\n",
       "      <td>Pooled cattle faecal samples collected from fl...</td>\n",
       "      <td>3</td>\n",
       "      <td>Cattle</td>\n",
       "      <td>Faeces</td>\n",
       "      <td>...</td>\n",
       "      <td>3</td>\n",
       "      <td>4</td>\n",
       "      <td>1</td>\n",
       "      <td>4914446</td>\n",
       "      <td>50.9</td>\n",
       "      <td>A</td>\n",
       "      <td>RHB31-C14</td>\n",
       "      <td>Nanopore</td>\n",
       "      <td>GCA_013821965</td>\n",
       "      <td>/n/data1/hms/dbmi/farhat/mm774/Projects/230905...</td>\n",
       "    </tr>\n",
       "    <tr>\n",
       "      <th>4</th>\n",
       "      <td>RH13|T3-C18</td>\n",
       "      <td>SAMN15148321</td>\n",
       "      <td>SRR11949196</td>\n",
       "      <td>SRR12298627</td>\n",
       "      <td>GCA_013819985.1</td>\n",
       "      <td>Animal</td>\n",
       "      <td>Pooled sheep faecal samples collected from flo...</td>\n",
       "      <td>3</td>\n",
       "      <td>Sheep</td>\n",
       "      <td>Faeces</td>\n",
       "      <td>...</td>\n",
       "      <td>3</td>\n",
       "      <td>4</td>\n",
       "      <td>1</td>\n",
       "      <td>4947025</td>\n",
       "      <td>50.8</td>\n",
       "      <td>B1</td>\n",
       "      <td>RHB32-C18</td>\n",
       "      <td>Nanopore</td>\n",
       "      <td>GCA_013819985</td>\n",
       "      <td>/n/data1/hms/dbmi/farhat/mm774/Projects/230905...</td>\n",
       "    </tr>\n",
       "  </tbody>\n",
       "</table>\n",
       "<p>5 rows × 24 columns</p>\n",
       "</div>"
      ],
      "text/plain": [
       "       Isolate Biosample Accession Short Reads Accession Long Reads Accession  \\\n",
       "0  RH02|T1-C02        SAMN15147960           SRR11948863          SRR12299015   \n",
       "1  RH02|T1-C06        SAMN15147963           SRR11948664          SRR12298958   \n",
       "2  RH02|T1-C10        SAMN15147965           SRR11949072          SRR12298585   \n",
       "3  RH10|T3-C14        SAMN15148305           SRR11949198          SRR12298645   \n",
       "4  RH13|T3-C18        SAMN15148321           SRR11949196          SRR12298627   \n",
       "\n",
       "  Assembly Accession Animal or WwTW  \\\n",
       "0    GCA_014109125.1         Animal   \n",
       "1    GCA_014109065.1         Animal   \n",
       "2    GCA_013923405.1         Animal   \n",
       "3    GCA_013821965.1         Animal   \n",
       "4    GCA_013819985.1         Animal   \n",
       "\n",
       "                          Isolate source information  Timepoint   Niche  \\\n",
       "0  Pooled pig faecal samples collected from floor...          1     Pig   \n",
       "1  Pooled pig faecal samples collected from floor...          1     Pig   \n",
       "2  Pooled pig faecal samples collected from floor...          1     Pig   \n",
       "3  Pooled cattle faecal samples collected from fl...          3  Cattle   \n",
       "4  Pooled sheep faecal samples collected from flo...          3   Sheep   \n",
       "\n",
       "  Niche.2  ... Circularised plasmids Number of contigs  \\\n",
       "0  Faeces  ...                     1                 2   \n",
       "1  Faeces  ...                     1                 2   \n",
       "2  Faeces  ...                     1                 2   \n",
       "3  Faeces  ...                     3                 4   \n",
       "4  Faeces  ...                     3                 4   \n",
       "\n",
       "  Circularised chromosome (1=yes)  Total genome size (bp)  \\\n",
       "0                               1                 4953790   \n",
       "1                               1                 4950024   \n",
       "2                               1                 4951893   \n",
       "3                               1                 4914446   \n",
       "4                               1                 4947025   \n",
       "\n",
       "   Chromosome GC (if known)  Phylogroup (E. coli only)  \\\n",
       "0                      50.7                          A   \n",
       "1                      50.7                          A   \n",
       "2                      50.7                          A   \n",
       "3                      50.9                          A   \n",
       "4                      50.8                         B1   \n",
       "\n",
       "   Alternative isolate name  Long read sequencing method       SampleID  \\\n",
       "0                 RHB02-C02                       PacBio  GCA_014109125   \n",
       "1                 RHB02-C06                     Nanopore  GCA_014109065   \n",
       "2                 RHB02-C10                       PacBio  GCA_013923405   \n",
       "3                 RHB31-C14                     Nanopore  GCA_013821965   \n",
       "4                 RHB32-C18                     Nanopore  GCA_013819985   \n",
       "\n",
       "                                     Genome_ASM_PATH  \n",
       "0  /n/data1/hms/dbmi/farhat/mm774/Projects/230905...  \n",
       "1  /n/data1/hms/dbmi/farhat/mm774/Projects/230905...  \n",
       "2  /n/data1/hms/dbmi/farhat/mm774/Projects/230905...  \n",
       "3  /n/data1/hms/dbmi/farhat/mm774/Projects/230905...  \n",
       "4  /n/data1/hms/dbmi/farhat/mm774/Projects/230905...  \n",
       "\n",
       "[5 rows x 24 columns]"
      ]
     },
     "execution_count": 291,
     "metadata": {},
     "output_type": "execute_result"
    }
   ],
   "source": [
    "Shaw_50A_Info_DF.head(5)"
   ]
  },
  {
   "cell_type": "code",
   "execution_count": 292,
   "id": "2ba6dac3-a7b6-466a-ab82-a809327eed7f",
   "metadata": {},
   "outputs": [
    {
     "data": {
      "text/html": [
       "<div>\n",
       "<style scoped>\n",
       "    .dataframe tbody tr th:only-of-type {\n",
       "        vertical-align: middle;\n",
       "    }\n",
       "\n",
       "    .dataframe tbody tr th {\n",
       "        vertical-align: top;\n",
       "    }\n",
       "\n",
       "    .dataframe thead th {\n",
       "        text-align: right;\n",
       "    }\n",
       "</style>\n",
       "<table border=\"1\" class=\"dataframe\">\n",
       "  <thead>\n",
       "    <tr style=\"text-align: right;\">\n",
       "      <th></th>\n",
       "      <th>Isolate</th>\n",
       "      <th>Biosample Accession</th>\n",
       "      <th>Short Reads Accession</th>\n",
       "      <th>Long Reads Accession</th>\n",
       "      <th>Assembly Accession</th>\n",
       "      <th>Animal or WwTW</th>\n",
       "      <th>Isolate source information</th>\n",
       "      <th>Timepoint</th>\n",
       "      <th>Niche</th>\n",
       "      <th>Niche.2</th>\n",
       "      <th>...</th>\n",
       "      <th>Circularised plasmids</th>\n",
       "      <th>Number of contigs</th>\n",
       "      <th>Circularised chromosome (1=yes)</th>\n",
       "      <th>Total genome size (bp)</th>\n",
       "      <th>Chromosome GC (if known)</th>\n",
       "      <th>Phylogroup (E. coli only)</th>\n",
       "      <th>Alternative isolate name</th>\n",
       "      <th>Long read sequencing method</th>\n",
       "      <th>SampleID</th>\n",
       "      <th>Genome_ASM_PATH</th>\n",
       "    </tr>\n",
       "  </thead>\n",
       "  <tbody>\n",
       "    <tr>\n",
       "      <th>45</th>\n",
       "      <td>RH04|T1-C23</td>\n",
       "      <td>SAMN15148116</td>\n",
       "      <td>SRR11948654</td>\n",
       "      <td>SRR12298597</td>\n",
       "      <td>GCA_013898775.1</td>\n",
       "      <td>Animal</td>\n",
       "      <td>Pooled pig faecal samples collected from floor...</td>\n",
       "      <td>1</td>\n",
       "      <td>Pig</td>\n",
       "      <td>Faeces</td>\n",
       "      <td>...</td>\n",
       "      <td>5</td>\n",
       "      <td>6</td>\n",
       "      <td>1</td>\n",
       "      <td>5203607</td>\n",
       "      <td>50.8</td>\n",
       "      <td>G</td>\n",
       "      <td>RHB14-C23</td>\n",
       "      <td>Nanopore</td>\n",
       "      <td>GCA_013898775</td>\n",
       "      <td>/n/data1/hms/dbmi/farhat/mm774/Projects/230905...</td>\n",
       "    </tr>\n",
       "    <tr>\n",
       "      <th>46</th>\n",
       "      <td>RH04|T2-C22</td>\n",
       "      <td>SAMN15148265</td>\n",
       "      <td>SRR11949402</td>\n",
       "      <td>SRR12298761</td>\n",
       "      <td>GCA_013830785.1</td>\n",
       "      <td>Animal</td>\n",
       "      <td>Pooled pig faecal samples collected from floor...</td>\n",
       "      <td>2</td>\n",
       "      <td>Pig</td>\n",
       "      <td>Faeces</td>\n",
       "      <td>...</td>\n",
       "      <td>5</td>\n",
       "      <td>6</td>\n",
       "      <td>1</td>\n",
       "      <td>5754742</td>\n",
       "      <td>50.7</td>\n",
       "      <td>G</td>\n",
       "      <td>RHB27-C22</td>\n",
       "      <td>Nanopore</td>\n",
       "      <td>GCA_013830785</td>\n",
       "      <td>/n/data1/hms/dbmi/farhat/mm774/Projects/230905...</td>\n",
       "    </tr>\n",
       "    <tr>\n",
       "      <th>47</th>\n",
       "      <td>RH12|T3-C04</td>\n",
       "      <td>SAMN15148434</td>\n",
       "      <td>SRR11949151</td>\n",
       "      <td>SRR12298532</td>\n",
       "      <td>GCA_013800125.1</td>\n",
       "      <td>Animal</td>\n",
       "      <td>Pooled sheep faecal samples collected from flo...</td>\n",
       "      <td>3</td>\n",
       "      <td>Sheep</td>\n",
       "      <td>Faeces</td>\n",
       "      <td>...</td>\n",
       "      <td>6</td>\n",
       "      <td>7</td>\n",
       "      <td>1</td>\n",
       "      <td>4937796</td>\n",
       "      <td>50.7</td>\n",
       "      <td>G</td>\n",
       "      <td>RHB42-C04</td>\n",
       "      <td>Nanopore</td>\n",
       "      <td>GCA_013800125</td>\n",
       "      <td>/n/data1/hms/dbmi/farhat/mm774/Projects/230905...</td>\n",
       "    </tr>\n",
       "    <tr>\n",
       "      <th>48</th>\n",
       "      <td>WTP4|T3-00788</td>\n",
       "      <td>SAMN15148698</td>\n",
       "      <td>SRR11948877</td>\n",
       "      <td>SRR12298616</td>\n",
       "      <td>GCA_014103195.1</td>\n",
       "      <td>WTP</td>\n",
       "      <td>Freshwater sample from upstream of wastewater ...</td>\n",
       "      <td>3</td>\n",
       "      <td>WTP4</td>\n",
       "      <td>Upstream</td>\n",
       "      <td>...</td>\n",
       "      <td>1</td>\n",
       "      <td>257</td>\n",
       "      <td>0</td>\n",
       "      <td>5328374</td>\n",
       "      <td>NaN</td>\n",
       "      <td>G</td>\n",
       "      <td>RHBSTW-00788</td>\n",
       "      <td>Nanopore</td>\n",
       "      <td>GCA_014103195</td>\n",
       "      <td>/n/data1/hms/dbmi/farhat/mm774/Projects/230905...</td>\n",
       "    </tr>\n",
       "    <tr>\n",
       "      <th>49</th>\n",
       "      <td>RH03|T1-C14</td>\n",
       "      <td>SAMN15148098</td>\n",
       "      <td>SRR11949103</td>\n",
       "      <td>SRR12298967</td>\n",
       "      <td>GCA_013602835.1</td>\n",
       "      <td>Animal</td>\n",
       "      <td>Pooled pig faecal samples collected from floor...</td>\n",
       "      <td>1</td>\n",
       "      <td>Pig</td>\n",
       "      <td>Faeces</td>\n",
       "      <td>...</td>\n",
       "      <td>10</td>\n",
       "      <td>12</td>\n",
       "      <td>1</td>\n",
       "      <td>5193338</td>\n",
       "      <td>51.0</td>\n",
       "      <td>G</td>\n",
       "      <td>RHB13-C14</td>\n",
       "      <td>Nanopore</td>\n",
       "      <td>GCA_013602835</td>\n",
       "      <td>/n/data1/hms/dbmi/farhat/mm774/Projects/230905...</td>\n",
       "    </tr>\n",
       "  </tbody>\n",
       "</table>\n",
       "<p>5 rows × 24 columns</p>\n",
       "</div>"
      ],
      "text/plain": [
       "          Isolate Biosample Accession Short Reads Accession  \\\n",
       "45    RH04|T1-C23        SAMN15148116           SRR11948654   \n",
       "46    RH04|T2-C22        SAMN15148265           SRR11949402   \n",
       "47    RH12|T3-C04        SAMN15148434           SRR11949151   \n",
       "48  WTP4|T3-00788        SAMN15148698           SRR11948877   \n",
       "49    RH03|T1-C14        SAMN15148098           SRR11949103   \n",
       "\n",
       "   Long Reads Accession Assembly Accession Animal or WwTW  \\\n",
       "45          SRR12298597    GCA_013898775.1         Animal   \n",
       "46          SRR12298761    GCA_013830785.1         Animal   \n",
       "47          SRR12298532    GCA_013800125.1         Animal   \n",
       "48          SRR12298616    GCA_014103195.1            WTP   \n",
       "49          SRR12298967    GCA_013602835.1         Animal   \n",
       "\n",
       "                           Isolate source information  Timepoint  Niche  \\\n",
       "45  Pooled pig faecal samples collected from floor...          1    Pig   \n",
       "46  Pooled pig faecal samples collected from floor...          2    Pig   \n",
       "47  Pooled sheep faecal samples collected from flo...          3  Sheep   \n",
       "48  Freshwater sample from upstream of wastewater ...          3   WTP4   \n",
       "49  Pooled pig faecal samples collected from floor...          1    Pig   \n",
       "\n",
       "     Niche.2  ... Circularised plasmids Number of contigs  \\\n",
       "45    Faeces  ...                     5                 6   \n",
       "46    Faeces  ...                     5                 6   \n",
       "47    Faeces  ...                     6                 7   \n",
       "48  Upstream  ...                     1               257   \n",
       "49    Faeces  ...                    10                12   \n",
       "\n",
       "   Circularised chromosome (1=yes)  Total genome size (bp)  \\\n",
       "45                               1                 5203607   \n",
       "46                               1                 5754742   \n",
       "47                               1                 4937796   \n",
       "48                               0                 5328374   \n",
       "49                               1                 5193338   \n",
       "\n",
       "    Chromosome GC (if known)  Phylogroup (E. coli only)  \\\n",
       "45                      50.8                          G   \n",
       "46                      50.7                          G   \n",
       "47                      50.7                          G   \n",
       "48                       NaN                          G   \n",
       "49                      51.0                          G   \n",
       "\n",
       "    Alternative isolate name  Long read sequencing method       SampleID  \\\n",
       "45                 RHB14-C23                     Nanopore  GCA_013898775   \n",
       "46                 RHB27-C22                     Nanopore  GCA_013830785   \n",
       "47                 RHB42-C04                     Nanopore  GCA_013800125   \n",
       "48              RHBSTW-00788                     Nanopore  GCA_014103195   \n",
       "49                 RHB13-C14                     Nanopore  GCA_013602835   \n",
       "\n",
       "                                      Genome_ASM_PATH  \n",
       "45  /n/data1/hms/dbmi/farhat/mm774/Projects/230905...  \n",
       "46  /n/data1/hms/dbmi/farhat/mm774/Projects/230905...  \n",
       "47  /n/data1/hms/dbmi/farhat/mm774/Projects/230905...  \n",
       "48  /n/data1/hms/dbmi/farhat/mm774/Projects/230905...  \n",
       "49  /n/data1/hms/dbmi/farhat/mm774/Projects/230905...  \n",
       "\n",
       "[5 rows x 24 columns]"
      ]
     },
     "execution_count": 292,
     "metadata": {},
     "output_type": "execute_result"
    }
   ],
   "source": [
    "Shaw_50A_Info_DF.tail(5)"
   ]
  },
  {
   "cell_type": "code",
   "execution_count": null,
   "id": "507eec5d-0526-4faf-a9c2-ec6be9933752",
   "metadata": {},
   "outputs": [],
   "source": []
  },
  {
   "cell_type": "code",
   "execution_count": null,
   "id": "83383b99-fff5-44c9-86e4-18b007846c95",
   "metadata": {},
   "outputs": [],
   "source": []
  },
  {
   "cell_type": "code",
   "execution_count": null,
   "id": "519fe7e7-db34-433a-9c1e-af61e4b95ba9",
   "metadata": {},
   "outputs": [],
   "source": []
  },
  {
   "cell_type": "markdown",
   "id": "0cc8cf85-0c5f-4b14-9642-676034834160",
   "metadata": {},
   "source": [
    "### Create color mapping for sampleIDs (Based on phylo-lineage)"
   ]
  },
  {
   "cell_type": "code",
   "execution_count": 293,
   "id": "f6ade9c8-0ef6-48ec-83ce-e5e0b9330c62",
   "metadata": {},
   "outputs": [],
   "source": [
    "# Dictionary for lineage to color mapping\n",
    "LinToColor_Dict = {\n",
    "    \"A\": \"#DF83AC\",\n",
    "    \"B1\": \"#7098CB\",\n",
    "    \"B2\": \"#815D9F\",\n",
    "    \"C\": \"#E76956\",\n",
    "    \"D\": \"#B67548\",\n",
    "    \"E\": \"green\",\n",
    "    \"F\": \"#6AB79E\",\n",
    "    \"G\": \"#E4515B\",\n",
    "    \"cladeV\": \"pur\",\n",
    "    \"None\": \"black\",\n",
    "}\n",
    "LinToColor_Dict = {\n",
    "    \"A\": \"#3BAF9F\",  # Teal\n",
    "    \"B1\": \"#9DB17C\",  # Light Olive Green\n",
    "    \"B2\": \"#D2A679\",  # Earthy Ochre\n",
    "    \"C\": \"#9E9AC8\",  # Soft Lavender\n",
    "    \"D\": \"#F88379\",  # Coral Pink\n",
    "    \"E\": \"#BFFF00\",  # Bright Lime Green\n",
    "    \"F\": \"#87CEEB\",  # Sky Blue\n",
    "    \"G\": \"#800020\",  # Muted Burgundy\n",
    "    \"cladeV\": \"#FFA500\",  # Orange\n",
    "    \"None\": \"black\",  # Default for undefined categories\n",
    "}\n",
    "\n",
    "# Extracting the mapping between IsolateID and PrimaryLineage_Ill\n",
    "lineage_mapping = Shaw_50A_Info_DF.set_index('SampleID')['Phylogroup (E. coli only)'].to_dict()\n",
    "\n",
    "# Creating a color mapping for the samples\n",
    "sample_colors = {sample: LinToColor_Dict.get(lineage, \"black\") for sample, lineage in lineage_mapping.items()}\n",
    "\n",
    "ID_To_PrimLineage_Dict = lineage_mapping\n"
   ]
  },
  {
   "cell_type": "code",
   "execution_count": 294,
   "id": "52820700-6598-4c61-ba9f-13ec1715f87b",
   "metadata": {},
   "outputs": [],
   "source": [
    "#ID_To_PrimLineage_Dict"
   ]
  },
  {
   "cell_type": "code",
   "execution_count": null,
   "id": "5977219c-313c-4f7b-960c-8cfe088fde61",
   "metadata": {},
   "outputs": [],
   "source": []
  },
  {
   "cell_type": "code",
   "execution_count": null,
   "id": "df659358-657a-4019-94aa-20ea9dd7aa71",
   "metadata": {},
   "outputs": [],
   "source": []
  },
  {
   "cell_type": "code",
   "execution_count": null,
   "id": "2d8193f9-40b3-4455-9807-96cb51e15217",
   "metadata": {},
   "outputs": [],
   "source": []
  },
  {
   "cell_type": "code",
   "execution_count": null,
   "id": "4fad75bb-65c7-40e6-bc04-bb88527ae239",
   "metadata": {},
   "outputs": [],
   "source": []
  },
  {
   "cell_type": "code",
   "execution_count": null,
   "id": "5ecc4aaf-a192-44e6-8a3a-dce3033fdd0c",
   "metadata": {},
   "outputs": [],
   "source": []
  },
  {
   "cell_type": "markdown",
   "id": "7f137252-e9e2-4adc-991c-5935408152a3",
   "metadata": {},
   "source": [
    "### Look at lineage distribution across dataset"
   ]
  },
  {
   "cell_type": "code",
   "execution_count": 295,
   "id": "9734a87b-fd02-45ae-9dec-7c8346c41ff2",
   "metadata": {},
   "outputs": [
    {
     "data": {
      "text/plain": [
       "C         7\n",
       "B1        6\n",
       "D         6\n",
       "E         6\n",
       "F         6\n",
       "G         6\n",
       "cladeV    5\n",
       "A         4\n",
       "B2        4\n",
       "Name: Phylogroup (E. coli only), dtype: int64"
      ]
     },
     "execution_count": 295,
     "metadata": {},
     "output_type": "execute_result"
    }
   ],
   "source": [
    "Shaw_50A_Info_DF[\"Phylogroup (E. coli only)\"].value_counts()"
   ]
  },
  {
   "cell_type": "code",
   "execution_count": 296,
   "id": "29786474-6f21-40d7-8ea4-0df699a81513",
   "metadata": {},
   "outputs": [
    {
     "data": {
      "image/png": "[encoded data removed]",
      "text/plain": [
       "<Figure size 432x288 with 1 Axes>"
      ]
     },
     "metadata": {},
     "output_type": "display_data"
    }
   ],
   "source": [
    "# https://www.statology.org/seaborn-pie-chart/\n",
    "\n",
    "#define data\n",
    "data = Shaw_50A_Info_DF[\"Phylogroup (E. coli only)\"].value_counts().values\n",
    "labels = Shaw_50A_Info_DF[\"Phylogroup (E. coli only)\"].value_counts().index\n",
    "\n",
    "#define Seaborn color palette to use\n",
    "#colors = sns.color_palette('pastel')[0:5]\n",
    "\n",
    "colors_for_labels = [ LinToColor_Dict[label] for label in labels]\n",
    "\n",
    "\n",
    "#create pie chart\n",
    "plt.title(\"Selected isolates from Shaw-2021 - (N = 50) - Phylogroup Breakdown\")\n",
    "plt.pie(data, labels = labels, colors = colors_for_labels, autopct='%.0f%%')\n",
    "plt.show()\n"
   ]
  },
  {
   "cell_type": "code",
   "execution_count": 297,
   "id": "50994fd0-fd06-49cf-949a-b69ec548ad06",
   "metadata": {},
   "outputs": [
    {
     "data": {
      "text/plain": [
       "array([7, 6, 6, 6, 6, 6, 5, 4, 4])"
      ]
     },
     "execution_count": 297,
     "metadata": {},
     "output_type": "execute_result"
    }
   ],
   "source": [
    "data"
   ]
  },
  {
   "cell_type": "code",
   "execution_count": null,
   "id": "eb496b05-b0b1-4f46-ab35-1b23074cdbe9",
   "metadata": {},
   "outputs": [],
   "source": []
  },
  {
   "cell_type": "code",
   "execution_count": 298,
   "id": "85752c32-d214-4214-8a94-e251261f815a",
   "metadata": {},
   "outputs": [
    {
     "data": {
      "text/plain": [
       "Index(['C', 'B1', 'D', 'E', 'F', 'G', 'cladeV', 'A', 'B2'], dtype='object')"
      ]
     },
     "execution_count": 298,
     "metadata": {},
     "output_type": "execute_result"
    }
   ],
   "source": [
    "labels"
   ]
  },
  {
   "cell_type": "code",
   "execution_count": null,
   "id": "41781993-49ef-460a-94d6-7c12a20a402d",
   "metadata": {},
   "outputs": [],
   "source": []
  },
  {
   "cell_type": "code",
   "execution_count": null,
   "id": "5fd9cb84-92d4-42ce-a59a-ccd3639ff061",
   "metadata": {},
   "outputs": [],
   "source": []
  },
  {
   "cell_type": "code",
   "execution_count": null,
   "id": "aebb0472-2eb0-4bf2-badc-a4908b581b65",
   "metadata": {},
   "outputs": [],
   "source": []
  },
  {
   "cell_type": "code",
   "execution_count": null,
   "id": "82e9eeb2-ba57-48d5-b01d-8d0916b1c6ce",
   "metadata": {},
   "outputs": [],
   "source": []
  },
  {
   "cell_type": "markdown",
   "id": "f798cc27-30ab-46eb-86e1-364cd4482868",
   "metadata": {},
   "source": [
    "# Define output dir of the Mtb-WGA-SMK processing pipeline"
   ]
  },
  {
   "cell_type": "code",
   "execution_count": 299,
   "id": "f9c665af-c441-4de8-834d-507e5b32d3b2",
   "metadata": {},
   "outputs": [
    {
     "name": "stdout",
     "output_type": "stream",
     "text": [
      "Data\n",
      "input_PATH_SMK_TSVs\n",
      "SMK_OutDirs\n"
     ]
    }
   ],
   "source": [
    "!ls -1 $Ecoli_PG_MainDir/"
   ]
  },
  {
   "cell_type": "code",
   "execution_count": 300,
   "id": "fb8e3a6d-0741-437e-9901-7a354f0a3de3",
   "metadata": {},
   "outputs": [],
   "source": [
    "# Define varaint calling pipeline output directories\n",
    "\n",
    "WGA_SMK_Outputs_Dir = f\"{Ecoli_PG_MainDir}/SMK_OutDirs\"\n",
    "\n",
    "#PG_Ecoli_20I_OutDir = WGA_SMK_Outputs_Dir + \"/230905_Ecoli_2OI_V1\"\n",
    "PG_Ecoli_50I_OutDir = WGA_SMK_Outputs_Dir + \"/231011_Ecoli_Shaw2021_5OI_V1\"\n"
   ]
  },
  {
   "cell_type": "code",
   "execution_count": 301,
   "id": "b0dede22-1baf-4192-9bf2-d8d4234d2721",
   "metadata": {},
   "outputs": [],
   "source": [
    "target_OutputDir = PG_Ecoli_50I_OutDir\n",
    "\n",
    "i_Pangenome_Dir = f\"{target_OutputDir}/PanGenome_Analysis\"\n"
   ]
  },
  {
   "cell_type": "code",
   "execution_count": null,
   "id": "2f4c13e9-d18b-4981-86f2-00f3fee4ccd7",
   "metadata": {},
   "outputs": [],
   "source": []
  },
  {
   "cell_type": "markdown",
   "id": "f34d51ba-b2bb-49a7-b67a-738a10b7c199",
   "metadata": {},
   "source": [
    "## Parse IQ-Tree phylogeny"
   ]
  },
  {
   "cell_type": "code",
   "execution_count": 303,
   "id": "01589eec-f804-4a8e-aab0-15e929b1ced7",
   "metadata": {},
   "outputs": [],
   "source": [
    "Phylos_OutDir = f\"{target_OutputDir}/Phylogenies\"\n",
    "\n",
    "IQTree_OutDir = f\"{Phylos_OutDir}/iqtree\"\n",
    "\n",
    "IQ_Tree_MP_PATH = f\"{IQTree_OutDir}/Panaroo.Strict.MergeParalogs.MidRoot.WiNodeNames.newick\"    \n"
   ]
  },
  {
   "cell_type": "code",
   "execution_count": 304,
   "id": "6dcbac6c-e53d-44be-9472-4802934ac715",
   "metadata": {},
   "outputs": [
    {
     "name": "stdout",
     "output_type": "stream",
     "text": [
      "iqtree\n"
     ]
    }
   ],
   "source": [
    "!ls -1 $Phylos_OutDir"
   ]
  },
  {
   "cell_type": "code",
   "execution_count": 305,
   "id": "ab6ddf3c-2c29-436a-965e-622598b5a2c8",
   "metadata": {},
   "outputs": [
    {
     "name": "stdout",
     "output_type": "stream",
     "text": [
      "Panaroo.Strict.MergeParalogs.bionj\n",
      "Panaroo.Strict.MergeParalogs.ckp.gz\n",
      "Panaroo.Strict.MergeParalogs.contree\n",
      "Panaroo.Strict.MergeParalogs.iqtree\n",
      "Panaroo.Strict.MergeParalogs.log\n",
      "Panaroo.Strict.MergeParalogs.MidRoot.WiNodeNames.newick\n",
      "Panaroo.Strict.MergeParalogs.mldist\n",
      "Panaroo.Strict.MergeParalogs.splits.nex\n",
      "Panaroo.Strict.MergeParalogs.treefile\n"
     ]
    }
   ],
   "source": [
    "!ls -1 $IQTree_OutDir"
   ]
  },
  {
   "cell_type": "code",
   "execution_count": 306,
   "id": "c6ca0137-2f45-4016-ac0a-a6f22e47f604",
   "metadata": {},
   "outputs": [
    {
     "name": "stdout",
     "output_type": "stream",
     "text": [
      "-rw-rw-r-- 1 mm774 farhat 2.2K Jan  2 11:43 /n/data1/hms/dbmi/farhat/mm774/Projects/230905_Ecoli_PG_Analysis/SMK_OutDirs/231011_Ecoli_Shaw2021_5OI_V1/Phylogenies/iqtree/Panaroo.Strict.MergeParalogs.MidRoot.WiNodeNames.newick\n"
     ]
    }
   ],
   "source": [
    "!ls -lah $IQ_Tree_MP_PATH"
   ]
  },
  {
   "cell_type": "code",
   "execution_count": null,
   "id": "cb929a3e-6b24-45a6-a125-84e3b65ad9ce",
   "metadata": {},
   "outputs": [],
   "source": []
  },
  {
   "cell_type": "code",
   "execution_count": 307,
   "id": "54611f37-853b-4037-bd19-80d9359fd04c",
   "metadata": {},
   "outputs": [],
   "source": [
    "IQ_Tree_MP = Tree(IQ_Tree_MP_PATH, format = 1)\n"
   ]
  },
  {
   "cell_type": "code",
   "execution_count": 308,
   "id": "d603d77b-83f3-4e98-9129-93bd96b77937",
   "metadata": {},
   "outputs": [
    {
     "name": "stdout",
     "output_type": "stream",
     "text": [
      "99\n"
     ]
    }
   ],
   "source": [
    "# Count the number of nodes after midpoint rooting\n",
    "num_nodes = len(IQ_Tree_MP.get_leaves()) + len([node for node in IQ_Tree_MP.traverse() if not node.is_leaf()])\n",
    "\n",
    "print(num_nodes)"
   ]
  },
  {
   "cell_type": "markdown",
   "id": "f3bedc08-2e27-4b43-bb40-347d3159216a",
   "metadata": {},
   "source": [
    "### Add lineage info to tree and sort by sub-lineage"
   ]
  },
  {
   "cell_type": "code",
   "execution_count": 309,
   "id": "9d5519df-f246-4b19-8339-2b09470e0732",
   "metadata": {},
   "outputs": [
    {
     "name": "stdout",
     "output_type": "stream",
     "text": [
      "50\n"
     ]
    }
   ],
   "source": [
    "count = 0\n",
    "for n in IQ_Tree_MP.get_leaves():\n",
    "\n",
    "    if \"Bakta\" in n.name:\n",
    "        n.name = n.name.split(\".\")[0]\n",
    "    \n",
    "    n.add_feature(\"Primary_lineage\", ID_To_PrimLineage_Dict.get(n.name, \"Unknown Lineage\") )\n",
    "    #print(\"node:\", n.name, \" Lineage:\", n.Mtb_lineage)\n",
    "    count +=1\n",
    "\n",
    "print(count)  \n",
    "IQ_Tree_MP.sort_descendants(attr='Primary_lineage')\n"
   ]
  },
  {
   "cell_type": "markdown",
   "id": "503668cf-2767-4871-95a9-d087bbc0cd7f",
   "metadata": {},
   "source": [
    "## Parsing over each node of the tree (ETE3) and infer lineage"
   ]
  },
  {
   "cell_type": "code",
   "execution_count": 310,
   "id": "d73d787d-02d7-4418-9c0a-f70aaffbd254",
   "metadata": {
    "scrolled": true
   },
   "outputs": [],
   "source": [
    "IQ_node_To_PrimaryLin_Dict = {}\n",
    "\n",
    "for node in IQ_Tree_MP.iter_descendants(\"postorder\"):\n",
    "    # Do some analysis on node\n",
    "    \n",
    "    #print(node.name)\n",
    "    listOf_ChildLineages = []\n",
    "    \n",
    "    for child_node in node.get_descendants():\n",
    "        if child_node.is_leaf():\n",
    "            listOf_ChildLineages.append(  (child_node.Primary_lineage) )\n",
    "        \n",
    "        #print(node.name, listOf_ChildLineages)\n",
    "        \n",
    "    set_Of_ChildLineages = list(set(listOf_ChildLineages))\n",
    "\n",
    "    #print(node.name, set_Of_ChildLineages  )\n",
    "    \n",
    "    if len(set_Of_ChildLineages) == 1:\n",
    "        OnlyOneLineage = True\n",
    "    else:\n",
    "        OnlyOneLineage = False\n",
    "    \n",
    "    if OnlyOneLineage:\n",
    "        IQ_node_To_PrimaryLin_Dict[node.name] = set_Of_ChildLineages[0]\n",
    "\n",
    "IQ_node_To_PrimaryLin_Dict.update(ID_To_PrimLineage_Dict)\n",
    "    "
   ]
  },
  {
   "cell_type": "code",
   "execution_count": 311,
   "id": "2fe85a6c-7cdb-47b6-82b3-3d65181f6568",
   "metadata": {},
   "outputs": [
    {
     "data": {
      "text/plain": [
       "'GCA_014103465'"
      ]
     },
     "execution_count": 311,
     "metadata": {},
     "output_type": "execute_result"
    }
   ],
   "source": [
    "child_node.name"
   ]
  },
  {
   "cell_type": "code",
   "execution_count": 312,
   "id": "71fb75ed-30a9-4186-a790-9f1188de3c1c",
   "metadata": {},
   "outputs": [
    {
     "data": {
      "text/plain": [
       "'cladeV'"
      ]
     },
     "execution_count": 312,
     "metadata": {},
     "output_type": "execute_result"
    }
   ],
   "source": [
    "child_node.Primary_lineage"
   ]
  },
  {
   "cell_type": "code",
   "execution_count": null,
   "id": "e0db1f81-bf10-41ad-889a-d64db78c085f",
   "metadata": {},
   "outputs": [],
   "source": []
  },
  {
   "cell_type": "markdown",
   "id": "fac20a01-eb16-4769-99ec-882df36137fa",
   "metadata": {},
   "source": [
    "## Output \"node_To_PrimaryLin_Dict\" dictionary "
   ]
  },
  {
   "cell_type": "code",
   "execution_count": 22,
   "id": "59549329-724c-4d7a-b5a3-b76193fb96ee",
   "metadata": {},
   "outputs": [],
   "source": [
    "import json \n",
    "\n",
    "IQ_NodeToPriLineage_Dict_JSON = f\"{IQTree_OutDir}/IQTree.NodeToPrimaryLineage.json\"\n",
    "\n",
    "with open(IQ_NodeToPriLineage_Dict_JSON, 'w') as json_file:\n",
    "    json.dump(IQ_node_To_PrimaryLin_Dict, json_file)\n"
   ]
  },
  {
   "cell_type": "markdown",
   "id": "27b5eab9-26f1-4ab8-b505-578d53969b7d",
   "metadata": {},
   "source": [
    "#### test reading back in the JSON"
   ]
  },
  {
   "cell_type": "code",
   "execution_count": 23,
   "id": "81af0841-a21d-4c2a-92ce-64715b965cae",
   "metadata": {},
   "outputs": [],
   "source": [
    "with open(IQ_NodeToPriLineage_Dict_JSON) as json_file:\n",
    "    IQ_node_To_PrimaryLin_Dict = json.load(json_file)"
   ]
  },
  {
   "cell_type": "code",
   "execution_count": 24,
   "id": "b82e8381-5102-4f27-81b7-572b3ea730fd",
   "metadata": {},
   "outputs": [
    {
     "data": {
      "text/plain": [
       "295"
      ]
     },
     "execution_count": 24,
     "metadata": {},
     "output_type": "execute_result"
    }
   ],
   "source": [
    "len(list(IQ_node_To_PrimaryLin_Dict.keys()))"
   ]
  },
  {
   "cell_type": "code",
   "execution_count": null,
   "id": "4ba3a960-11f2-4290-a873-523922ee6e91",
   "metadata": {},
   "outputs": [],
   "source": []
  },
  {
   "cell_type": "code",
   "execution_count": null,
   "id": "fe26888b-d216-42d9-bbc9-037dc29de16a",
   "metadata": {},
   "outputs": [],
   "source": []
  },
  {
   "cell_type": "code",
   "execution_count": null,
   "id": "bdd10f7f-a19c-45d6-8fc4-5aec52ec4277",
   "metadata": {},
   "outputs": [],
   "source": []
  },
  {
   "cell_type": "markdown",
   "id": "97dc68f7-e9d4-40f8-9120-3006f7b9e069",
   "metadata": {},
   "source": [
    "### Link to ETE3 documentation for tree layout style\n",
    " http://etetoolkit.org/docs/latest/tutorial/tutorial_drawing.html#interactive-visualization-of-trees"
   ]
  },
  {
   "cell_type": "code",
   "execution_count": 313,
   "id": "a9bc1c66-bf21-41fe-b9dc-fd82b516150a",
   "metadata": {},
   "outputs": [],
   "source": [
    "\n",
    "node_To_PrimaryLin_Dict= IQ_node_To_PrimaryLin_Dict\n",
    "def ColorBranchByLineage_Layout(node):\n",
    "    F = ETE.TextFace(node.name, fsize=2)\n",
    "    if node.is_leaf():\n",
    "        #NameAnd_Lineage_Text =  f\"  {node.name} {node.Mtb_lineage}\"\n",
    "        #F_NameAndLineage = ETE.TextFace(NameAnd_Lineage_Text, fsize=3)\n",
    "        \n",
    "        #ETE.add_face_to_node(F_NameAndLineage, node, column=0, position=\"branch-right\")\n",
    "\n",
    "        \n",
    "        nstyle = ETE.NodeStyle() # http://etetoolkit.org/docs/latest/tutorial/tutorial_drawing.html#node-style\n",
    "        nstyle[\"fgcolor\"] = \"black\"\n",
    "        nstyle[\"size\"] = 1\n",
    "        \n",
    "        Node_PrimaryLin = node_To_PrimaryLin_Dict.get(node.name, \"None\")\n",
    "        \n",
    "        nstyle[\"vt_line_color\"] = LinToColor_Dict.get(Node_PrimaryLin, \"Black\")\n",
    "        nstyle[\"hz_line_color\"] = LinToColor_Dict.get(Node_PrimaryLin, \"Black\")\n",
    "          \n",
    "        node.set_style(nstyle)\n",
    "        node.margin_left = 10        \n",
    "    else: \n",
    "        nstyle = ETE.NodeStyle() # http://etetoolkit.org/docs/latest/tutorial/tutorial_drawing.html#node-style\n",
    "        nstyle[\"fgcolor\"] = \"black\"\n",
    "        nstyle[\"size\"] = 0\n",
    "        \n",
    "        Node_PrimaryLin = node_To_PrimaryLin_Dict.get(node.name, \"None\")\n",
    "        \n",
    "        nstyle[\"vt_line_color\"] = LinToColor_Dict.get(Node_PrimaryLin, \"Black\")\n",
    "        nstyle[\"hz_line_color\"] = LinToColor_Dict.get(Node_PrimaryLin, \"Black\")\n",
    "        \n",
    "        node.set_style(nstyle)\n",
    "\n",
    "\n",
    "ts_1 = ETE.TreeStyle()\n",
    "ts_1.show_leaf_name = False\n",
    "ts_1.show_branch_length = False\n",
    "ts_1.show_branch_support = False\n",
    "ts_1.show_scale = False #True\n",
    "#ts_1.branch_vertical_margin = 2\n",
    "ts_1.layout_fn = ColorBranchByLineage_Layout\n",
    "ts_1.rotation = 90\n",
    "\n",
    "\n",
    "ts_3 = ETE.TreeStyle()\n",
    "ts_3.show_leaf_name = False\n",
    "ts_3.show_branch_length = False\n",
    "ts_3.show_branch_support = False\n",
    "ts_3.show_scale = True #True\n",
    "ts_3.branch_vertical_margin = 2\n",
    "ts_3.layout_fn = ColorBranchByLineage_Layout\n",
    "ts_3.rotation = 90\n",
    "\n",
    "ts_3_circ = ETE.TreeStyle()\n",
    "ts_3_circ.mode = \"c\" # draw tree in circular mode\n",
    "ts_3_circ.arc_start = 0 #-180 # 0 degrees = 3 o'clock\n",
    "ts_3_circ.arc_span = 270\n",
    "ts_3_circ.show_leaf_name = False\n",
    "ts_3_circ.show_branch_length = False\n",
    "ts_3_circ.show_branch_support = False\n",
    "ts_3_circ.show_scale = False #True\n",
    "ts_3_circ.branch_vertical_margin = 2\n",
    "ts_3_circ.layout_fn = ColorBranchByLineage_Layout\n"
   ]
  },
  {
   "cell_type": "code",
   "execution_count": null,
   "id": "455bd0cf-af07-403e-a0fe-15a19bac01e0",
   "metadata": {},
   "outputs": [],
   "source": []
  },
  {
   "cell_type": "code",
   "execution_count": null,
   "id": "4415313b-ee4c-455b-aeb5-492491f24479",
   "metadata": {},
   "outputs": [],
   "source": []
  },
  {
   "cell_type": "code",
   "execution_count": null,
   "id": "7067af3a-e30e-4fbb-adc9-0a4cee369a31",
   "metadata": {},
   "outputs": [],
   "source": []
  },
  {
   "cell_type": "code",
   "execution_count": null,
   "id": "ace8a19e-dca4-4d02-b076-897afc966b93",
   "metadata": {},
   "outputs": [],
   "source": []
  },
  {
   "cell_type": "markdown",
   "id": "9ee474f2-587d-416f-b863-29e822b4833d",
   "metadata": {},
   "source": [
    "## Visualize IQ-Tree Phylogeny"
   ]
  },
  {
   "cell_type": "code",
   "execution_count": 317,
   "id": "c885166c-6d1a-4149-9f27-30018f6e0f8f",
   "metadata": {},
   "outputs": [
    {
     "data": {
      "image/png": "[encoded data removed]",
      "text/plain": [
       "<IPython.core.display.Image object>"
      ]
     },
     "execution_count": 317,
     "metadata": {},
     "output_type": "execute_result"
    }
   ],
   "source": [
    "IQ_Tree_MP.render(\"%%inline\", h = 500, tree_style = ts_3)"
   ]
  },
  {
   "cell_type": "code",
   "execution_count": 318,
   "id": "f7938d77-a785-43b7-9271-9484964e88d6",
   "metadata": {},
   "outputs": [
    {
     "data": {
      "image/png": "[encoded data removed]",
      "text/plain": [
       "<IPython.core.display.Image object>"
      ]
     },
     "execution_count": 318,
     "metadata": {},
     "output_type": "execute_result"
    }
   ],
   "source": [
    "IQ_Tree_MP.render(\"%%inline\", h = 300, tree_style = ts_3)"
   ]
  },
  {
   "cell_type": "code",
   "execution_count": 316,
   "id": "e949612f-77f1-4879-928c-3d9f3f689646",
   "metadata": {},
   "outputs": [
    {
     "data": {
      "image/png": "[encoded data removed]",
      "text/plain": [
       "<IPython.core.display.Image object>"
      ]
     },
     "execution_count": 316,
     "metadata": {},
     "output_type": "execute_result"
    }
   ],
   "source": [
    "IQ_Tree_MP.render(\"%%inline\", h = 400, tree_style = ts_3_circ)"
   ]
  },
  {
   "cell_type": "code",
   "execution_count": null,
   "id": "64002f6f-a822-47bb-8e35-f43c006eb077",
   "metadata": {},
   "outputs": [],
   "source": []
  },
  {
   "cell_type": "code",
   "execution_count": null,
   "id": "de003106-ed21-4c84-98c5-bc5a5a490c06",
   "metadata": {},
   "outputs": [],
   "source": []
  },
  {
   "cell_type": "code",
   "execution_count": null,
   "id": "c05d2caf-9736-40cc-a75a-893a8d282281",
   "metadata": {},
   "outputs": [],
   "source": []
  },
  {
   "cell_type": "markdown",
   "id": "d484ffa9-ba6f-4c07-9888-91f365b305f9",
   "metadata": {},
   "source": [
    "### IQ-Tree NON fastTREE"
   ]
  },
  {
   "cell_type": "code",
   "execution_count": null,
   "id": "2b07e68c-ff85-48a2-9078-090eeaccc608",
   "metadata": {},
   "outputs": [],
   "source": [
    "#PG_Strict_MP_PG_OutDir = \"/n/data1/hms/dbmi/farhat/mm774/Projects/230905_Ecoli_PG_Analysis/SMK_OutDirs/231011_Ecoli_Shaw2021_5OI_V1/PanGenome_Analysis/Panaroo_Strict_MergeParalogs_AllIsolates_WiCoreAln\"     \n",
    "#IQ_Tree_PATH = f\"{PG_Strict_MP_PG_OutDir}/Shaw2021.50I.core_tree.Try1.treefile\"\n"
   ]
  },
  {
   "cell_type": "code",
   "execution_count": 278,
   "id": "34814617-2bf3-4789-840a-4c9027e3134b",
   "metadata": {},
   "outputs": [],
   "source": [
    "# IQ_Tree_OG = Tree(IQ_Tree_PATH, format = 1)\n",
    "\n",
    "# # Calculate the midpoint node\n",
    "# midpoint = IQ_Tree_OG.get_midpoint_outgroup()\n",
    "\n",
    "# # Set midpoint as outgroup.\n",
    "# IQ_Tree_OG.set_outgroup(midpoint)\n",
    "\n",
    "# ##### Give each internal node a unique name #####\n",
    "# # Initialize a counter for unique names\n",
    "# node_id = 0\n",
    "\n",
    "# # Traverse the tree and rename ALL internal nodes of the tree\n",
    "# for node in IQ_Tree_OG.traverse():\n",
    "#     # Check if the node is an internal node\n",
    "#     if not node.is_leaf():\n",
    "#        # print(node.name, node.support)\n",
    "#         if node.name == '':\n",
    "#         # Assign a unique name (e.g., \"Node_1\", \"Node_2\", etc.)\n",
    "#             node.name = f\"Node_{node_id}\"\n",
    "#             node_id += 1\n",
    "#             #print(f\"Internal node renamed to {node.name}\")\n",
    "        \n",
    "#     # If \"Bakta\" or \"PGAP\" is found in the node name, remove it by using split\n",
    "#     else:\n",
    "#         if \"Bakta\" in node.name:\n",
    "#             node.name = node.name.split(\".\")[0]\n",
    "            \n",
    "#         elif \"PGAP\" in node.name:\n",
    "#             node.name = node.name.split(\".\")[0]\n",
    "\n",
    "#IQ_Tree_MP = IQ_Tree_OG"
   ]
  },
  {
   "cell_type": "code",
   "execution_count": 277,
   "id": "3a69b7b3-d9f0-4383-aa94-5dbf83251841",
   "metadata": {},
   "outputs": [],
   "source": [
    "#IQ_Tree_MP.render(\"%%inline\", w = 300, tree_style = ts_3)"
   ]
  },
  {
   "cell_type": "code",
   "execution_count": null,
   "id": "3186c831-6a0a-4c4e-945c-dc8be63f967e",
   "metadata": {},
   "outputs": [],
   "source": []
  },
  {
   "cell_type": "code",
   "execution_count": null,
   "id": "43bd5c28-e933-4845-a08b-20df61896808",
   "metadata": {},
   "outputs": [],
   "source": []
  },
  {
   "cell_type": "code",
   "execution_count": null,
   "id": "585db913-7d42-4f37-b575-d9530494a8a3",
   "metadata": {},
   "outputs": [],
   "source": []
  },
  {
   "cell_type": "code",
   "execution_count": null,
   "id": "e68bb87d-817b-4999-a6cd-449f08ed665f",
   "metadata": {},
   "outputs": [],
   "source": []
  },
  {
   "cell_type": "code",
   "execution_count": null,
   "id": "c82bed8c-da68-401f-a794-886644a06b51",
   "metadata": {},
   "outputs": [],
   "source": []
  }
 ],
 "metadata": {
  "kernelspec": {
   "display_name": "py37_S",
   "language": "python",
   "name": "py37_s"
  },
  "language_info": {
   "codemirror_mode": {
    "name": "ipython",
    "version": 3
   },
   "file_extension": ".py",
   "mimetype": "text/x-python",
   "name": "python",
   "nbconvert_exporter": "python",
   "pygments_lexer": "ipython3",
   "version": "3.7.3"
  }
 },
 "nbformat": 4,
 "nbformat_minor": 5
}
