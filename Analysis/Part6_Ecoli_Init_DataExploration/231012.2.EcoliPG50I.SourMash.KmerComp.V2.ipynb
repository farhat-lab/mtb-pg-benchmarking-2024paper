{
 "cells": [
  {
   "cell_type": "markdown",
   "id": "94305f40-dfbc-4776-aa3b-3e639f9a33c1",
   "metadata": {},
   "source": [
    "# Analysis of pairwise k-mer Jaccard Similarity - 50 Ecoli genomes"
   ]
  },
  {
   "cell_type": "code",
   "execution_count": 1,
   "id": "06e38a01-1ec0-47f4-ac1a-cba6d97a0061",
   "metadata": {},
   "outputs": [],
   "source": [
    "import numpy as np\n",
    "import matplotlib.pyplot as plt\n",
    "import seaborn as sns\n",
    "import pandas as pd\n",
    "\n",
    "%matplotlib inline\n"
   ]
  },
  {
   "cell_type": "code",
   "execution_count": 2,
   "id": "5855af1c-7465-4866-bc67-50aed586c567",
   "metadata": {},
   "outputs": [],
   "source": [
    "import screed"
   ]
  },
  {
   "cell_type": "code",
   "execution_count": 3,
   "id": "e1a0deb0-c296-4370-9a77-1372f97e149e",
   "metadata": {},
   "outputs": [],
   "source": [
    "import mmh3"
   ]
  },
  {
   "cell_type": "code",
   "execution_count": 4,
   "id": "d221a3e8-deb4-42ef-9030-0f3166572abb",
   "metadata": {},
   "outputs": [],
   "source": [
    "# https://github.com/ipython/ipython/issues/10627\n",
    "import os\n",
    "os.environ['QT_QPA_PLATFORM']='offscreen'"
   ]
  },
  {
   "cell_type": "code",
   "execution_count": 5,
   "id": "7bc2ef1f-c00f-42e4-af49-e7a2b97313df",
   "metadata": {},
   "outputs": [],
   "source": [
    "\n",
    "# import ete3 as ETE\n",
    "\n",
    "# from ete3 import Tree"
   ]
  },
  {
   "cell_type": "code",
   "execution_count": 6,
   "id": "16738e8a",
   "metadata": {},
   "outputs": [],
   "source": [
    "\n",
    "import ete3 as ETE\n",
    "\n",
    "from ete3 import Tree"
   ]
  },
  {
   "cell_type": "code",
   "execution_count": null,
   "id": "bffdd76c-6325-46ff-9663-24eab70b476d",
   "metadata": {},
   "outputs": [],
   "source": []
  },
  {
   "cell_type": "code",
   "execution_count": null,
   "id": "7d63946b-bee4-4301-8057-7e140da367ab",
   "metadata": {},
   "outputs": [],
   "source": []
  },
  {
   "cell_type": "markdown",
   "id": "792b9b30-3514-40e2-93ec-ffd564a463ce",
   "metadata": {},
   "source": [
    "## Define paths to sample metadata files & key directories"
   ]
  },
  {
   "cell_type": "code",
   "execution_count": 7,
   "id": "570696df-bdf2-4f62-b602-9d00fd1d84e0",
   "metadata": {},
   "outputs": [],
   "source": [
    "\n",
    "Proj_MainDir = \"/n/data1/hms/dbmi/farhat/mm774/Projects\"\n",
    "\n",
    "Ecoli_PG_MainDir = f\"{Proj_MainDir}/230905_Ecoli_PG_Analysis\"  \n",
    "\n",
    "Data_MainDir = f\"{Ecoli_PG_MainDir}/Data\"  \n",
    "\n",
    "#RefSeq_20Asm_Dir = f\"{Data_MainDir}/NCBI.RefSeq.20.EcoliGenomes.dataset/data\"\n",
    "\n",
    "Shaw2021_50Asm_Dir = f\"{Data_MainDir}/Shaw2021.50Genomes.Data/data\"\n",
    "\n",
    "Shaw2021_Meta_TSV = f\"{Data_MainDir}/Shaw2021.SelectedIsolates.50I.tsv\"  \n",
    "\n",
    "input_FA_PATH_TSVs_Dir = f\"{Ecoli_PG_MainDir}/input_PATH_SMK_TSVs\"\n",
    "\n",
    "Shaw2021_Ecoli_50Asm_Meta_TSV = f\"{input_FA_PATH_TSVs_Dir}/231011.Shaw2021.Ecoli.50I.MetaData.tsv\"\n"
   ]
  },
  {
   "cell_type": "markdown",
   "id": "021dc252-00f2-4e86-9052-7ec74afffcaf",
   "metadata": {},
   "source": [
    "## Parse in metadata DFs"
   ]
  },
  {
   "cell_type": "code",
   "execution_count": 8,
   "id": "7feb2e26-e412-4b4b-abe8-b92b472254a2",
   "metadata": {},
   "outputs": [
    {
     "data": {
      "text/plain": [
       "(50, 24)"
      ]
     },
     "execution_count": 8,
     "metadata": {},
     "output_type": "execute_result"
    }
   ],
   "source": [
    "Shaw_50A_Info_DF = pd.read_csv(Shaw2021_Ecoli_50Asm_Meta_TSV, sep = \"\\t\")\n",
    "Shaw_50A_Info_DF.shape"
   ]
  },
  {
   "cell_type": "markdown",
   "id": "929d0773-681e-453a-93ba-7d1d2c291b52",
   "metadata": {},
   "source": [
    "### Define list of SampleIDs"
   ]
  },
  {
   "cell_type": "code",
   "execution_count": 9,
   "id": "cf90faa7-0203-4be7-b259-285dd7470061",
   "metadata": {},
   "outputs": [
    {
     "data": {
      "text/html": [
       "<div>\n",
       "<style scoped>\n",
       "    .dataframe tbody tr th:only-of-type {\n",
       "        vertical-align: middle;\n",
       "    }\n",
       "\n",
       "    .dataframe tbody tr th {\n",
       "        vertical-align: top;\n",
       "    }\n",
       "\n",
       "    .dataframe thead th {\n",
       "        text-align: right;\n",
       "    }\n",
       "</style>\n",
       "<table border=\"1\" class=\"dataframe\">\n",
       "  <thead>\n",
       "    <tr style=\"text-align: right;\">\n",
       "      <th></th>\n",
       "      <th>Isolate</th>\n",
       "      <th>Biosample Accession</th>\n",
       "      <th>Short Reads Accession</th>\n",
       "      <th>Long Reads Accession</th>\n",
       "      <th>Assembly Accession</th>\n",
       "      <th>Animal or WwTW</th>\n",
       "      <th>Isolate source information</th>\n",
       "      <th>Timepoint</th>\n",
       "      <th>Niche</th>\n",
       "      <th>Niche.2</th>\n",
       "      <th>...</th>\n",
       "      <th>Circularised plasmids</th>\n",
       "      <th>Number of contigs</th>\n",
       "      <th>Circularised chromosome (1=yes)</th>\n",
       "      <th>Total genome size (bp)</th>\n",
       "      <th>Chromosome GC (if known)</th>\n",
       "      <th>Phylogroup (E. coli only)</th>\n",
       "      <th>Alternative isolate name</th>\n",
       "      <th>Long read sequencing method</th>\n",
       "      <th>SampleID</th>\n",
       "      <th>Genome_ASM_PATH</th>\n",
       "    </tr>\n",
       "  </thead>\n",
       "  <tbody>\n",
       "    <tr>\n",
       "      <th>0</th>\n",
       "      <td>RH02|T1-C02</td>\n",
       "      <td>SAMN15147960</td>\n",
       "      <td>SRR11948863</td>\n",
       "      <td>SRR12299015</td>\n",
       "      <td>GCA_014109125.1</td>\n",
       "      <td>Animal</td>\n",
       "      <td>Pooled pig faecal samples collected from floor...</td>\n",
       "      <td>1</td>\n",
       "      <td>Pig</td>\n",
       "      <td>Faeces</td>\n",
       "      <td>...</td>\n",
       "      <td>1</td>\n",
       "      <td>2</td>\n",
       "      <td>1</td>\n",
       "      <td>4953790</td>\n",
       "      <td>50.7</td>\n",
       "      <td>A</td>\n",
       "      <td>RHB02-C02</td>\n",
       "      <td>PacBio</td>\n",
       "      <td>GCA_014109125</td>\n",
       "      <td>/n/data1/hms/dbmi/farhat/mm774/Projects/230905...</td>\n",
       "    </tr>\n",
       "  </tbody>\n",
       "</table>\n",
       "<p>1 rows × 24 columns</p>\n",
       "</div>"
      ],
      "text/plain": [
       "       Isolate Biosample Accession Short Reads Accession Long Reads Accession  \\\n",
       "0  RH02|T1-C02        SAMN15147960           SRR11948863          SRR12299015   \n",
       "\n",
       "  Assembly Accession Animal or WwTW  \\\n",
       "0    GCA_014109125.1         Animal   \n",
       "\n",
       "                          Isolate source information  Timepoint Niche Niche.2  \\\n",
       "0  Pooled pig faecal samples collected from floor...          1   Pig  Faeces   \n",
       "\n",
       "   ... Circularised plasmids Number of contigs  \\\n",
       "0  ...                     1                 2   \n",
       "\n",
       "  Circularised chromosome (1=yes)  Total genome size (bp)  \\\n",
       "0                               1                 4953790   \n",
       "\n",
       "   Chromosome GC (if known)  Phylogroup (E. coli only)  \\\n",
       "0                      50.7                          A   \n",
       "\n",
       "   Alternative isolate name  Long read sequencing method       SampleID  \\\n",
       "0                 RHB02-C02                       PacBio  GCA_014109125   \n",
       "\n",
       "                                     Genome_ASM_PATH  \n",
       "0  /n/data1/hms/dbmi/farhat/mm774/Projects/230905...  \n",
       "\n",
       "[1 rows x 24 columns]"
      ]
     },
     "execution_count": 9,
     "metadata": {},
     "output_type": "execute_result"
    }
   ],
   "source": [
    "Shaw_50A_Info_DF.head(1)  "
   ]
  },
  {
   "cell_type": "code",
   "execution_count": 10,
   "id": "79e83a43-eba4-496f-8df8-f80f50a546f7",
   "metadata": {},
   "outputs": [
    {
     "data": {
      "text/plain": [
       "50"
      ]
     },
     "execution_count": 10,
     "metadata": {},
     "output_type": "execute_result"
    }
   ],
   "source": [
    "E50I_SampleIDs = Shaw_50A_Info_DF[\"SampleID\"].values   \n",
    "len(E50I_SampleIDs)"
   ]
  },
  {
   "cell_type": "code",
   "execution_count": null,
   "id": "0f745abe-80e0-4d91-9325-874005598256",
   "metadata": {},
   "outputs": [],
   "source": []
  },
  {
   "cell_type": "markdown",
   "id": "5540216a-42b5-442e-a973-132bef7c2738",
   "metadata": {},
   "source": [
    "### Create lineage mapping for sampleIDs"
   ]
  },
  {
   "cell_type": "code",
   "execution_count": 11,
   "id": "1ef7ea14-4425-4b79-9783-d890626e0eac",
   "metadata": {},
   "outputs": [],
   "source": [
    "ID_To_Lineage_Dict = dict(Shaw_50A_Info_DF[['SampleID', 'Phylogroup (E. coli only)']].values)\n"
   ]
  },
  {
   "cell_type": "code",
   "execution_count": 12,
   "id": "e0ba1533-6ef6-4b26-b410-4d8f376cb570",
   "metadata": {},
   "outputs": [
    {
     "data": {
      "text/plain": [
       "Index(['A', 'B1', 'B2', 'C', 'D', 'E', 'F', 'G', 'cladeV'], dtype='object')"
      ]
     },
     "execution_count": 12,
     "metadata": {},
     "output_type": "execute_result"
    }
   ],
   "source": [
    "Shaw_50A_Info_DF[\"Phylogroup (E. coli only)\"].value_counts().index.sort_values()"
   ]
  },
  {
   "cell_type": "code",
   "execution_count": null,
   "id": "065d651b-8b5a-4516-805f-f3543353af79",
   "metadata": {},
   "outputs": [],
   "source": []
  },
  {
   "cell_type": "code",
   "execution_count": 13,
   "id": "026960f1-6597-4450-b44b-1c4f43bc23c1",
   "metadata": {},
   "outputs": [
    {
     "data": {
      "text/html": [
       "<div>\n",
       "<style scoped>\n",
       "    .dataframe tbody tr th:only-of-type {\n",
       "        vertical-align: middle;\n",
       "    }\n",
       "\n",
       "    .dataframe tbody tr th {\n",
       "        vertical-align: top;\n",
       "    }\n",
       "\n",
       "    .dataframe thead th {\n",
       "        text-align: right;\n",
       "    }\n",
       "</style>\n",
       "<table border=\"1\" class=\"dataframe\">\n",
       "  <thead>\n",
       "    <tr style=\"text-align: right;\">\n",
       "      <th></th>\n",
       "      <th>Isolate</th>\n",
       "      <th>Biosample Accession</th>\n",
       "      <th>Short Reads Accession</th>\n",
       "      <th>Long Reads Accession</th>\n",
       "      <th>Assembly Accession</th>\n",
       "      <th>Animal or WwTW</th>\n",
       "      <th>Isolate source information</th>\n",
       "      <th>Timepoint</th>\n",
       "      <th>Niche</th>\n",
       "      <th>Niche.2</th>\n",
       "      <th>...</th>\n",
       "      <th>Circularised plasmids</th>\n",
       "      <th>Number of contigs</th>\n",
       "      <th>Circularised chromosome (1=yes)</th>\n",
       "      <th>Total genome size (bp)</th>\n",
       "      <th>Chromosome GC (if known)</th>\n",
       "      <th>Phylogroup (E. coli only)</th>\n",
       "      <th>Alternative isolate name</th>\n",
       "      <th>Long read sequencing method</th>\n",
       "      <th>SampleID</th>\n",
       "      <th>Genome_ASM_PATH</th>\n",
       "    </tr>\n",
       "  </thead>\n",
       "  <tbody>\n",
       "    <tr>\n",
       "      <th>0</th>\n",
       "      <td>RH02|T1-C02</td>\n",
       "      <td>SAMN15147960</td>\n",
       "      <td>SRR11948863</td>\n",
       "      <td>SRR12299015</td>\n",
       "      <td>GCA_014109125.1</td>\n",
       "      <td>Animal</td>\n",
       "      <td>Pooled pig faecal samples collected from floor...</td>\n",
       "      <td>1</td>\n",
       "      <td>Pig</td>\n",
       "      <td>Faeces</td>\n",
       "      <td>...</td>\n",
       "      <td>1</td>\n",
       "      <td>2</td>\n",
       "      <td>1</td>\n",
       "      <td>4953790</td>\n",
       "      <td>50.7</td>\n",
       "      <td>A</td>\n",
       "      <td>RHB02-C02</td>\n",
       "      <td>PacBio</td>\n",
       "      <td>GCA_014109125</td>\n",
       "      <td>/n/data1/hms/dbmi/farhat/mm774/Projects/230905...</td>\n",
       "    </tr>\n",
       "    <tr>\n",
       "      <th>1</th>\n",
       "      <td>RH02|T1-C06</td>\n",
       "      <td>SAMN15147963</td>\n",
       "      <td>SRR11948664</td>\n",
       "      <td>SRR12298958</td>\n",
       "      <td>GCA_014109065.1</td>\n",
       "      <td>Animal</td>\n",
       "      <td>Pooled pig faecal samples collected from floor...</td>\n",
       "      <td>1</td>\n",
       "      <td>Pig</td>\n",
       "      <td>Faeces</td>\n",
       "      <td>...</td>\n",
       "      <td>1</td>\n",
       "      <td>2</td>\n",
       "      <td>1</td>\n",
       "      <td>4950024</td>\n",
       "      <td>50.7</td>\n",
       "      <td>A</td>\n",
       "      <td>RHB02-C06</td>\n",
       "      <td>Nanopore</td>\n",
       "      <td>GCA_014109065</td>\n",
       "      <td>/n/data1/hms/dbmi/farhat/mm774/Projects/230905...</td>\n",
       "    </tr>\n",
       "    <tr>\n",
       "      <th>2</th>\n",
       "      <td>RH02|T1-C10</td>\n",
       "      <td>SAMN15147965</td>\n",
       "      <td>SRR11949072</td>\n",
       "      <td>SRR12298585</td>\n",
       "      <td>GCA_013923405.1</td>\n",
       "      <td>Animal</td>\n",
       "      <td>Pooled pig faecal samples collected from floor...</td>\n",
       "      <td>1</td>\n",
       "      <td>Pig</td>\n",
       "      <td>Faeces</td>\n",
       "      <td>...</td>\n",
       "      <td>1</td>\n",
       "      <td>2</td>\n",
       "      <td>1</td>\n",
       "      <td>4951893</td>\n",
       "      <td>50.7</td>\n",
       "      <td>A</td>\n",
       "      <td>RHB02-C10</td>\n",
       "      <td>PacBio</td>\n",
       "      <td>GCA_013923405</td>\n",
       "      <td>/n/data1/hms/dbmi/farhat/mm774/Projects/230905...</td>\n",
       "    </tr>\n",
       "    <tr>\n",
       "      <th>3</th>\n",
       "      <td>RH10|T3-C14</td>\n",
       "      <td>SAMN15148305</td>\n",
       "      <td>SRR11949198</td>\n",
       "      <td>SRR12298645</td>\n",
       "      <td>GCA_013821965.1</td>\n",
       "      <td>Animal</td>\n",
       "      <td>Pooled cattle faecal samples collected from fl...</td>\n",
       "      <td>3</td>\n",
       "      <td>Cattle</td>\n",
       "      <td>Faeces</td>\n",
       "      <td>...</td>\n",
       "      <td>3</td>\n",
       "      <td>4</td>\n",
       "      <td>1</td>\n",
       "      <td>4914446</td>\n",
       "      <td>50.9</td>\n",
       "      <td>A</td>\n",
       "      <td>RHB31-C14</td>\n",
       "      <td>Nanopore</td>\n",
       "      <td>GCA_013821965</td>\n",
       "      <td>/n/data1/hms/dbmi/farhat/mm774/Projects/230905...</td>\n",
       "    </tr>\n",
       "    <tr>\n",
       "      <th>4</th>\n",
       "      <td>RH13|T3-C18</td>\n",
       "      <td>SAMN15148321</td>\n",
       "      <td>SRR11949196</td>\n",
       "      <td>SRR12298627</td>\n",
       "      <td>GCA_013819985.1</td>\n",
       "      <td>Animal</td>\n",
       "      <td>Pooled sheep faecal samples collected from flo...</td>\n",
       "      <td>3</td>\n",
       "      <td>Sheep</td>\n",
       "      <td>Faeces</td>\n",
       "      <td>...</td>\n",
       "      <td>3</td>\n",
       "      <td>4</td>\n",
       "      <td>1</td>\n",
       "      <td>4947025</td>\n",
       "      <td>50.8</td>\n",
       "      <td>B1</td>\n",
       "      <td>RHB32-C18</td>\n",
       "      <td>Nanopore</td>\n",
       "      <td>GCA_013819985</td>\n",
       "      <td>/n/data1/hms/dbmi/farhat/mm774/Projects/230905...</td>\n",
       "    </tr>\n",
       "  </tbody>\n",
       "</table>\n",
       "<p>5 rows × 24 columns</p>\n",
       "</div>"
      ],
      "text/plain": [
       "       Isolate Biosample Accession Short Reads Accession Long Reads Accession  \\\n",
       "0  RH02|T1-C02        SAMN15147960           SRR11948863          SRR12299015   \n",
       "1  RH02|T1-C06        SAMN15147963           SRR11948664          SRR12298958   \n",
       "2  RH02|T1-C10        SAMN15147965           SRR11949072          SRR12298585   \n",
       "3  RH10|T3-C14        SAMN15148305           SRR11949198          SRR12298645   \n",
       "4  RH13|T3-C18        SAMN15148321           SRR11949196          SRR12298627   \n",
       "\n",
       "  Assembly Accession Animal or WwTW  \\\n",
       "0    GCA_014109125.1         Animal   \n",
       "1    GCA_014109065.1         Animal   \n",
       "2    GCA_013923405.1         Animal   \n",
       "3    GCA_013821965.1         Animal   \n",
       "4    GCA_013819985.1         Animal   \n",
       "\n",
       "                          Isolate source information  Timepoint   Niche  \\\n",
       "0  Pooled pig faecal samples collected from floor...          1     Pig   \n",
       "1  Pooled pig faecal samples collected from floor...          1     Pig   \n",
       "2  Pooled pig faecal samples collected from floor...          1     Pig   \n",
       "3  Pooled cattle faecal samples collected from fl...          3  Cattle   \n",
       "4  Pooled sheep faecal samples collected from flo...          3   Sheep   \n",
       "\n",
       "  Niche.2  ... Circularised plasmids Number of contigs  \\\n",
       "0  Faeces  ...                     1                 2   \n",
       "1  Faeces  ...                     1                 2   \n",
       "2  Faeces  ...                     1                 2   \n",
       "3  Faeces  ...                     3                 4   \n",
       "4  Faeces  ...                     3                 4   \n",
       "\n",
       "  Circularised chromosome (1=yes)  Total genome size (bp)  \\\n",
       "0                               1                 4953790   \n",
       "1                               1                 4950024   \n",
       "2                               1                 4951893   \n",
       "3                               1                 4914446   \n",
       "4                               1                 4947025   \n",
       "\n",
       "   Chromosome GC (if known)  Phylogroup (E. coli only)  \\\n",
       "0                      50.7                          A   \n",
       "1                      50.7                          A   \n",
       "2                      50.7                          A   \n",
       "3                      50.9                          A   \n",
       "4                      50.8                         B1   \n",
       "\n",
       "   Alternative isolate name  Long read sequencing method       SampleID  \\\n",
       "0                 RHB02-C02                       PacBio  GCA_014109125   \n",
       "1                 RHB02-C06                     Nanopore  GCA_014109065   \n",
       "2                 RHB02-C10                       PacBio  GCA_013923405   \n",
       "3                 RHB31-C14                     Nanopore  GCA_013821965   \n",
       "4                 RHB32-C18                     Nanopore  GCA_013819985   \n",
       "\n",
       "                                     Genome_ASM_PATH  \n",
       "0  /n/data1/hms/dbmi/farhat/mm774/Projects/230905...  \n",
       "1  /n/data1/hms/dbmi/farhat/mm774/Projects/230905...  \n",
       "2  /n/data1/hms/dbmi/farhat/mm774/Projects/230905...  \n",
       "3  /n/data1/hms/dbmi/farhat/mm774/Projects/230905...  \n",
       "4  /n/data1/hms/dbmi/farhat/mm774/Projects/230905...  \n",
       "\n",
       "[5 rows x 24 columns]"
      ]
     },
     "execution_count": 13,
     "metadata": {},
     "output_type": "execute_result"
    }
   ],
   "source": [
    "Shaw_50A_Info_DF.head(5)"
   ]
  },
  {
   "cell_type": "code",
   "execution_count": 14,
   "id": "46829c88-d72b-4cfa-aa51-ab327a94fd53",
   "metadata": {},
   "outputs": [
    {
     "data": {
      "text/html": [
       "<div>\n",
       "<style scoped>\n",
       "    .dataframe tbody tr th:only-of-type {\n",
       "        vertical-align: middle;\n",
       "    }\n",
       "\n",
       "    .dataframe tbody tr th {\n",
       "        vertical-align: top;\n",
       "    }\n",
       "\n",
       "    .dataframe thead th {\n",
       "        text-align: right;\n",
       "    }\n",
       "</style>\n",
       "<table border=\"1\" class=\"dataframe\">\n",
       "  <thead>\n",
       "    <tr style=\"text-align: right;\">\n",
       "      <th></th>\n",
       "      <th>Isolate</th>\n",
       "      <th>Biosample Accession</th>\n",
       "      <th>Short Reads Accession</th>\n",
       "      <th>Long Reads Accession</th>\n",
       "      <th>Assembly Accession</th>\n",
       "      <th>Animal or WwTW</th>\n",
       "      <th>Isolate source information</th>\n",
       "      <th>Timepoint</th>\n",
       "      <th>Niche</th>\n",
       "      <th>Niche.2</th>\n",
       "      <th>...</th>\n",
       "      <th>Circularised plasmids</th>\n",
       "      <th>Number of contigs</th>\n",
       "      <th>Circularised chromosome (1=yes)</th>\n",
       "      <th>Total genome size (bp)</th>\n",
       "      <th>Chromosome GC (if known)</th>\n",
       "      <th>Phylogroup (E. coli only)</th>\n",
       "      <th>Alternative isolate name</th>\n",
       "      <th>Long read sequencing method</th>\n",
       "      <th>SampleID</th>\n",
       "      <th>Genome_ASM_PATH</th>\n",
       "    </tr>\n",
       "  </thead>\n",
       "  <tbody>\n",
       "    <tr>\n",
       "      <th>45</th>\n",
       "      <td>RH04|T1-C23</td>\n",
       "      <td>SAMN15148116</td>\n",
       "      <td>SRR11948654</td>\n",
       "      <td>SRR12298597</td>\n",
       "      <td>GCA_013898775.1</td>\n",
       "      <td>Animal</td>\n",
       "      <td>Pooled pig faecal samples collected from floor...</td>\n",
       "      <td>1</td>\n",
       "      <td>Pig</td>\n",
       "      <td>Faeces</td>\n",
       "      <td>...</td>\n",
       "      <td>5</td>\n",
       "      <td>6</td>\n",
       "      <td>1</td>\n",
       "      <td>5203607</td>\n",
       "      <td>50.8</td>\n",
       "      <td>G</td>\n",
       "      <td>RHB14-C23</td>\n",
       "      <td>Nanopore</td>\n",
       "      <td>GCA_013898775</td>\n",
       "      <td>/n/data1/hms/dbmi/farhat/mm774/Projects/230905...</td>\n",
       "    </tr>\n",
       "    <tr>\n",
       "      <th>46</th>\n",
       "      <td>RH04|T2-C22</td>\n",
       "      <td>SAMN15148265</td>\n",
       "      <td>SRR11949402</td>\n",
       "      <td>SRR12298761</td>\n",
       "      <td>GCA_013830785.1</td>\n",
       "      <td>Animal</td>\n",
       "      <td>Pooled pig faecal samples collected from floor...</td>\n",
       "      <td>2</td>\n",
       "      <td>Pig</td>\n",
       "      <td>Faeces</td>\n",
       "      <td>...</td>\n",
       "      <td>5</td>\n",
       "      <td>6</td>\n",
       "      <td>1</td>\n",
       "      <td>5754742</td>\n",
       "      <td>50.7</td>\n",
       "      <td>G</td>\n",
       "      <td>RHB27-C22</td>\n",
       "      <td>Nanopore</td>\n",
       "      <td>GCA_013830785</td>\n",
       "      <td>/n/data1/hms/dbmi/farhat/mm774/Projects/230905...</td>\n",
       "    </tr>\n",
       "    <tr>\n",
       "      <th>47</th>\n",
       "      <td>RH12|T3-C04</td>\n",
       "      <td>SAMN15148434</td>\n",
       "      <td>SRR11949151</td>\n",
       "      <td>SRR12298532</td>\n",
       "      <td>GCA_013800125.1</td>\n",
       "      <td>Animal</td>\n",
       "      <td>Pooled sheep faecal samples collected from flo...</td>\n",
       "      <td>3</td>\n",
       "      <td>Sheep</td>\n",
       "      <td>Faeces</td>\n",
       "      <td>...</td>\n",
       "      <td>6</td>\n",
       "      <td>7</td>\n",
       "      <td>1</td>\n",
       "      <td>4937796</td>\n",
       "      <td>50.7</td>\n",
       "      <td>G</td>\n",
       "      <td>RHB42-C04</td>\n",
       "      <td>Nanopore</td>\n",
       "      <td>GCA_013800125</td>\n",
       "      <td>/n/data1/hms/dbmi/farhat/mm774/Projects/230905...</td>\n",
       "    </tr>\n",
       "    <tr>\n",
       "      <th>48</th>\n",
       "      <td>WTP4|T3-00788</td>\n",
       "      <td>SAMN15148698</td>\n",
       "      <td>SRR11948877</td>\n",
       "      <td>SRR12298616</td>\n",
       "      <td>GCA_014103195.1</td>\n",
       "      <td>WTP</td>\n",
       "      <td>Freshwater sample from upstream of wastewater ...</td>\n",
       "      <td>3</td>\n",
       "      <td>WTP4</td>\n",
       "      <td>Upstream</td>\n",
       "      <td>...</td>\n",
       "      <td>1</td>\n",
       "      <td>257</td>\n",
       "      <td>0</td>\n",
       "      <td>5328374</td>\n",
       "      <td>NaN</td>\n",
       "      <td>G</td>\n",
       "      <td>RHBSTW-00788</td>\n",
       "      <td>Nanopore</td>\n",
       "      <td>GCA_014103195</td>\n",
       "      <td>/n/data1/hms/dbmi/farhat/mm774/Projects/230905...</td>\n",
       "    </tr>\n",
       "    <tr>\n",
       "      <th>49</th>\n",
       "      <td>RH03|T1-C14</td>\n",
       "      <td>SAMN15148098</td>\n",
       "      <td>SRR11949103</td>\n",
       "      <td>SRR12298967</td>\n",
       "      <td>GCA_013602835.1</td>\n",
       "      <td>Animal</td>\n",
       "      <td>Pooled pig faecal samples collected from floor...</td>\n",
       "      <td>1</td>\n",
       "      <td>Pig</td>\n",
       "      <td>Faeces</td>\n",
       "      <td>...</td>\n",
       "      <td>10</td>\n",
       "      <td>12</td>\n",
       "      <td>1</td>\n",
       "      <td>5193338</td>\n",
       "      <td>51.0</td>\n",
       "      <td>G</td>\n",
       "      <td>RHB13-C14</td>\n",
       "      <td>Nanopore</td>\n",
       "      <td>GCA_013602835</td>\n",
       "      <td>/n/data1/hms/dbmi/farhat/mm774/Projects/230905...</td>\n",
       "    </tr>\n",
       "  </tbody>\n",
       "</table>\n",
       "<p>5 rows × 24 columns</p>\n",
       "</div>"
      ],
      "text/plain": [
       "          Isolate Biosample Accession Short Reads Accession  \\\n",
       "45    RH04|T1-C23        SAMN15148116           SRR11948654   \n",
       "46    RH04|T2-C22        SAMN15148265           SRR11949402   \n",
       "47    RH12|T3-C04        SAMN15148434           SRR11949151   \n",
       "48  WTP4|T3-00788        SAMN15148698           SRR11948877   \n",
       "49    RH03|T1-C14        SAMN15148098           SRR11949103   \n",
       "\n",
       "   Long Reads Accession Assembly Accession Animal or WwTW  \\\n",
       "45          SRR12298597    GCA_013898775.1         Animal   \n",
       "46          SRR12298761    GCA_013830785.1         Animal   \n",
       "47          SRR12298532    GCA_013800125.1         Animal   \n",
       "48          SRR12298616    GCA_014103195.1            WTP   \n",
       "49          SRR12298967    GCA_013602835.1         Animal   \n",
       "\n",
       "                           Isolate source information  Timepoint  Niche  \\\n",
       "45  Pooled pig faecal samples collected from floor...          1    Pig   \n",
       "46  Pooled pig faecal samples collected from floor...          2    Pig   \n",
       "47  Pooled sheep faecal samples collected from flo...          3  Sheep   \n",
       "48  Freshwater sample from upstream of wastewater ...          3   WTP4   \n",
       "49  Pooled pig faecal samples collected from floor...          1    Pig   \n",
       "\n",
       "     Niche.2  ... Circularised plasmids Number of contigs  \\\n",
       "45    Faeces  ...                     5                 6   \n",
       "46    Faeces  ...                     5                 6   \n",
       "47    Faeces  ...                     6                 7   \n",
       "48  Upstream  ...                     1               257   \n",
       "49    Faeces  ...                    10                12   \n",
       "\n",
       "   Circularised chromosome (1=yes)  Total genome size (bp)  \\\n",
       "45                               1                 5203607   \n",
       "46                               1                 5754742   \n",
       "47                               1                 4937796   \n",
       "48                               0                 5328374   \n",
       "49                               1                 5193338   \n",
       "\n",
       "    Chromosome GC (if known)  Phylogroup (E. coli only)  \\\n",
       "45                      50.8                          G   \n",
       "46                      50.7                          G   \n",
       "47                      50.7                          G   \n",
       "48                       NaN                          G   \n",
       "49                      51.0                          G   \n",
       "\n",
       "    Alternative isolate name  Long read sequencing method       SampleID  \\\n",
       "45                 RHB14-C23                     Nanopore  GCA_013898775   \n",
       "46                 RHB27-C22                     Nanopore  GCA_013830785   \n",
       "47                 RHB42-C04                     Nanopore  GCA_013800125   \n",
       "48              RHBSTW-00788                     Nanopore  GCA_014103195   \n",
       "49                 RHB13-C14                     Nanopore  GCA_013602835   \n",
       "\n",
       "                                      Genome_ASM_PATH  \n",
       "45  /n/data1/hms/dbmi/farhat/mm774/Projects/230905...  \n",
       "46  /n/data1/hms/dbmi/farhat/mm774/Projects/230905...  \n",
       "47  /n/data1/hms/dbmi/farhat/mm774/Projects/230905...  \n",
       "48  /n/data1/hms/dbmi/farhat/mm774/Projects/230905...  \n",
       "49  /n/data1/hms/dbmi/farhat/mm774/Projects/230905...  \n",
       "\n",
       "[5 rows x 24 columns]"
      ]
     },
     "execution_count": 14,
     "metadata": {},
     "output_type": "execute_result"
    }
   ],
   "source": [
    "Shaw_50A_Info_DF.tail(5)"
   ]
  },
  {
   "cell_type": "code",
   "execution_count": null,
   "id": "187e0570-eb91-4a10-ab63-69913e9241d3",
   "metadata": {},
   "outputs": [],
   "source": []
  },
  {
   "cell_type": "code",
   "execution_count": null,
   "id": "2aae0c57-784a-44ee-9c52-9f32496d8055",
   "metadata": {},
   "outputs": [],
   "source": []
  },
  {
   "cell_type": "code",
   "execution_count": null,
   "id": "43a9df97-7ed3-4945-89f0-4f6d9e9b43bc",
   "metadata": {},
   "outputs": [],
   "source": []
  },
  {
   "cell_type": "markdown",
   "id": "d396de51-daa3-4a8d-b83c-597a713e5786",
   "metadata": {},
   "source": [
    "### Create color mapping for sampleIDs (Based on phylo-lineage)"
   ]
  },
  {
   "cell_type": "code",
   "execution_count": 15,
   "id": "b7181b51-6b41-4f0d-a250-09fffc9dc036",
   "metadata": {},
   "outputs": [],
   "source": [
    "# Dictionary for lineage to color mapping\n",
    "LinToColor_Dict = {\n",
    "    \"A\": \"#DF83AC\",\n",
    "    \"B1\": \"#7098CB\",\n",
    "    \"B2\": \"#815D9F\",\n",
    "    \"C\": \"#E76956\",\n",
    "    \"D\": \"#B67548\",\n",
    "    \"E\": \"green\",\n",
    "    \"F\": \"#6AB79E\",\n",
    "    \"G\": \"#E4515B\",\n",
    "    \"cladeV\": \"pur\",\n",
    "    \"None\": \"black\",\n",
    "}\n",
    "LinToColor_Dict = {\n",
    "    \"A\": \"#3BAF9F\",  # Teal\n",
    "    \"B1\": \"#9DB17C\",  # Light Olive Green\n",
    "    \"B2\": \"#D2A679\",  # Earthy Ochre\n",
    "    \"C\": \"#9E9AC8\",  # Soft Lavender\n",
    "    \"D\": \"#F88379\",  # Coral Pink\n",
    "    \"E\": \"#BFFF00\",  # Bright Lime Green\n",
    "    \"F\": \"#87CEEB\",  # Sky Blue\n",
    "    \"G\": \"#800020\",  # Muted Burgundy\n",
    "    \"cladeV\": \"#FFA500\",  # Orange\n",
    "    \"None\": \"black\",  # Default for undefined categories\n",
    "}\n",
    "\n",
    "# Extracting the mapping between IsolateID and PrimaryLineage_Ill\n",
    "lineage_mapping = Shaw_50A_Info_DF.set_index('SampleID')['Phylogroup (E. coli only)'].to_dict()\n",
    "\n",
    "# Creating a color mapping for the samples\n",
    "sample_colors = {sample: LinToColor_Dict.get(lineage, \"black\") for sample, lineage in lineage_mapping.items()}\n",
    "\n",
    "ID_To_PrimLineage_Dict = lineage_mapping\n"
   ]
  },
  {
   "cell_type": "code",
   "execution_count": 16,
   "id": "9cd20e79-5caf-4410-9fcb-e40fe500bef0",
   "metadata": {},
   "outputs": [],
   "source": [
    "#ID_To_PrimLineage_Dict"
   ]
  },
  {
   "cell_type": "code",
   "execution_count": null,
   "id": "18c6b31d-b4c3-40ff-be1f-ee7e45157f55",
   "metadata": {},
   "outputs": [],
   "source": []
  },
  {
   "cell_type": "code",
   "execution_count": null,
   "id": "796cf29f-1a2f-4e30-ba26-a82d3e9fb6ac",
   "metadata": {},
   "outputs": [],
   "source": []
  },
  {
   "cell_type": "code",
   "execution_count": null,
   "id": "4b89f32d-1299-49d6-b667-167a9fc93ede",
   "metadata": {},
   "outputs": [],
   "source": []
  },
  {
   "cell_type": "code",
   "execution_count": null,
   "id": "da48005c-a554-4990-a921-e686ae3c16c4",
   "metadata": {},
   "outputs": [],
   "source": []
  },
  {
   "cell_type": "code",
   "execution_count": null,
   "id": "6e15b2ee-eebe-4f6e-a72f-7ee9129ca58e",
   "metadata": {},
   "outputs": [],
   "source": []
  },
  {
   "cell_type": "markdown",
   "id": "fdc0cdf3-c53e-42ec-92b9-74196679909e",
   "metadata": {},
   "source": [
    "### Look at lineage distribution across dataset"
   ]
  },
  {
   "cell_type": "code",
   "execution_count": 17,
   "id": "c2ebb60d-8bb4-425a-b5d1-bd9049b60590",
   "metadata": {},
   "outputs": [
    {
     "data": {
      "text/plain": [
       "C         7\n",
       "B1        6\n",
       "D         6\n",
       "E         6\n",
       "F         6\n",
       "G         6\n",
       "cladeV    5\n",
       "A         4\n",
       "B2        4\n",
       "Name: Phylogroup (E. coli only), dtype: int64"
      ]
     },
     "execution_count": 17,
     "metadata": {},
     "output_type": "execute_result"
    }
   ],
   "source": [
    "Shaw_50A_Info_DF[\"Phylogroup (E. coli only)\"].value_counts()"
   ]
  },
  {
   "cell_type": "code",
   "execution_count": 18,
   "id": "d16a0db6-075d-4e67-9605-faf97555eafa",
   "metadata": {},
   "outputs": [
    {
     "data": {
      "image/png": "[encoded data removed]",
      "text/plain": [
       "<Figure size 432x288 with 1 Axes>"
      ]
     },
     "metadata": {},
     "output_type": "display_data"
    }
   ],
   "source": [
    "# https://www.statology.org/seaborn-pie-chart/\n",
    "\n",
    "#define data\n",
    "data = Shaw_50A_Info_DF[\"Phylogroup (E. coli only)\"].value_counts().values\n",
    "labels = Shaw_50A_Info_DF[\"Phylogroup (E. coli only)\"].value_counts().index\n",
    "\n",
    "#define Seaborn color palette to use\n",
    "#colors = sns.color_palette('pastel')[0:5]\n",
    "\n",
    "colors_for_labels = [ LinToColor_Dict[label] for label in labels]\n",
    "\n",
    "\n",
    "#create pie chart\n",
    "plt.title(\"Selected isolates from Shaw-2021 - (N = 50) - Phylogroup Breakdown\")\n",
    "plt.pie(data, labels = labels, colors = colors_for_labels, autopct='%.0f%%')\n",
    "plt.show()\n"
   ]
  },
  {
   "cell_type": "code",
   "execution_count": 19,
   "id": "7f93683f-17ab-46a3-a6b8-8146b6c88425",
   "metadata": {},
   "outputs": [
    {
     "data": {
      "text/plain": [
       "array([7, 6, 6, 6, 6, 6, 5, 4, 4])"
      ]
     },
     "execution_count": 19,
     "metadata": {},
     "output_type": "execute_result"
    }
   ],
   "source": [
    "data"
   ]
  },
  {
   "cell_type": "code",
   "execution_count": null,
   "id": "de4643df-22e8-4ea0-8e7b-a1f6a91a3712",
   "metadata": {},
   "outputs": [],
   "source": []
  },
  {
   "cell_type": "code",
   "execution_count": null,
   "id": "89387e90-dd37-4a3a-a8a4-47743f28bf94",
   "metadata": {},
   "outputs": [],
   "source": []
  },
  {
   "cell_type": "code",
   "execution_count": 20,
   "id": "c749cb16-5c6b-476b-8641-9883c7f76e1f",
   "metadata": {},
   "outputs": [
    {
     "data": {
      "text/plain": [
       "Index(['C', 'B1', 'D', 'E', 'F', 'G', 'cladeV', 'A', 'B2'], dtype='object')"
      ]
     },
     "execution_count": 20,
     "metadata": {},
     "output_type": "execute_result"
    }
   ],
   "source": [
    "labels"
   ]
  },
  {
   "cell_type": "code",
   "execution_count": null,
   "id": "33ef4b4b-aa3b-4582-be6d-6c93e1cb2d4f",
   "metadata": {},
   "outputs": [],
   "source": []
  },
  {
   "cell_type": "code",
   "execution_count": null,
   "id": "82b12639-d504-4a54-96be-11b3226c49cf",
   "metadata": {},
   "outputs": [],
   "source": []
  },
  {
   "cell_type": "code",
   "execution_count": null,
   "id": "2d1900d6-6d7f-401a-bd87-2add58a93724",
   "metadata": {},
   "outputs": [],
   "source": []
  },
  {
   "cell_type": "code",
   "execution_count": null,
   "id": "d59f5d4d-b95e-449a-b39f-4f1d7556a965",
   "metadata": {},
   "outputs": [],
   "source": []
  },
  {
   "cell_type": "markdown",
   "id": "bd576b3f-d615-4b42-80aa-384935e21e23",
   "metadata": {},
   "source": [
    "# Define output dir of the Mtb-WGA-SMK processing pipeline"
   ]
  },
  {
   "cell_type": "code",
   "execution_count": 21,
   "id": "84fde187-2635-4f65-a3a1-72fab1e82ae3",
   "metadata": {},
   "outputs": [
    {
     "name": "stdout",
     "output_type": "stream",
     "text": [
      "Data\n",
      "input_PATH_SMK_TSVs\n",
      "SMK_OutDirs\n"
     ]
    }
   ],
   "source": [
    "!ls -1 $Ecoli_PG_MainDir/"
   ]
  },
  {
   "cell_type": "code",
   "execution_count": 22,
   "id": "66d22aab-0b22-43dc-be42-9e3d5dd2323d",
   "metadata": {},
   "outputs": [],
   "source": [
    "# Define varaint calling pipeline output directories\n",
    "\n",
    "WGA_SMK_Outputs_Dir = f\"{Ecoli_PG_MainDir}/SMK_OutDirs\"\n",
    "\n",
    "#PG_Ecoli_20I_OutDir = WGA_SMK_Outputs_Dir + \"/230905_Ecoli_2OI_V1\"\n",
    "PG_Ecoli_50I_OutDir = WGA_SMK_Outputs_Dir + \"/231011_Ecoli_Shaw2021_5OI_V1\"\n"
   ]
  },
  {
   "cell_type": "code",
   "execution_count": 23,
   "id": "0f98435b-ff66-4936-9e29-a8ef42da2312",
   "metadata": {},
   "outputs": [],
   "source": [
    "target_OutputDir = PG_Ecoli_50I_OutDir\n",
    "\n",
    "i_Pangenome_Dir = f\"{target_OutputDir}/PanGenome_Analysis\"\n"
   ]
  },
  {
   "cell_type": "code",
   "execution_count": null,
   "id": "7462b3e0-e8d3-46ef-a741-3b9dea93bf21",
   "metadata": {},
   "outputs": [],
   "source": []
  },
  {
   "cell_type": "code",
   "execution_count": null,
   "id": "a057ee13-f21f-436b-a96c-89525844bd97",
   "metadata": {},
   "outputs": [],
   "source": []
  },
  {
   "cell_type": "code",
   "execution_count": null,
   "id": "c731a375-1df5-4076-8c4d-87a4cf0727f7",
   "metadata": {},
   "outputs": [],
   "source": []
  },
  {
   "cell_type": "markdown",
   "id": "25ab8745-2324-419e-b5f2-37e28a69a610",
   "metadata": {},
   "source": [
    "## Parse IQ-Tree phylogeny"
   ]
  },
  {
   "cell_type": "code",
   "execution_count": 24,
   "id": "582f1d52-2f86-416e-9751-a2d28053f946",
   "metadata": {},
   "outputs": [],
   "source": [
    "Phylos_OutDir = f\"{target_OutputDir}/Phylogenies\"\n",
    "\n",
    "IQTree_OutDir = f\"{Phylos_OutDir}/iqtree\"\n",
    "\n",
    "IQ_Tree_MP_PATH = f\"{IQTree_OutDir}/Panaroo.Strict.MergeParalogs.MidRoot.WiNodeNames.newick\"    \n"
   ]
  },
  {
   "cell_type": "code",
   "execution_count": 25,
   "id": "d99b0561-9545-4c6c-b503-fd3106e99587",
   "metadata": {},
   "outputs": [],
   "source": [
    "IQ_Tree_MP = Tree(IQ_Tree_MP_PATH, format = 1)\n"
   ]
  },
  {
   "cell_type": "code",
   "execution_count": 26,
   "id": "6c333136-a71d-4b07-b571-745305bc4d3f",
   "metadata": {},
   "outputs": [
    {
     "name": "stdout",
     "output_type": "stream",
     "text": [
      "99\n"
     ]
    }
   ],
   "source": [
    "# Count the number of nodes after midpoint rooting\n",
    "num_nodes = len(IQ_Tree_MP.get_leaves()) + len([node for node in IQ_Tree_MP.traverse() if not node.is_leaf()])\n",
    "\n",
    "print(num_nodes)"
   ]
  },
  {
   "cell_type": "markdown",
   "id": "eeece2dd-8245-4e0b-9d25-665e03e7e9ba",
   "metadata": {},
   "source": [
    "### Add lineage info to tree and sort by sub-lineage"
   ]
  },
  {
   "cell_type": "code",
   "execution_count": 27,
   "id": "8c03d350-cfe4-48a4-89c2-e1ac1ac881fe",
   "metadata": {},
   "outputs": [
    {
     "name": "stdout",
     "output_type": "stream",
     "text": [
      "50\n"
     ]
    }
   ],
   "source": [
    "count = 0\n",
    "for n in IQ_Tree_MP.get_leaves():\n",
    "\n",
    "    if \"Bakta\" in n.name:\n",
    "        n.name = n.name.split(\".\")[0]\n",
    "    \n",
    "    n.add_feature(\"Primary_lineage\", ID_To_PrimLineage_Dict.get(n.name, \"Unknown Lineage\") )\n",
    "    #print(\"node:\", n.name, \" Lineage:\", n.Mtb_lineage)\n",
    "    count +=1\n",
    "\n",
    "print(count)  \n",
    "IQ_Tree_MP.sort_descendants(attr='Primary_lineage')\n"
   ]
  },
  {
   "cell_type": "markdown",
   "id": "d2b2b54f-1d26-4323-ab86-f5fe0b0a6a37",
   "metadata": {},
   "source": [
    "## Parsing over each node of the tree (ETE3) and infer lineage"
   ]
  },
  {
   "cell_type": "code",
   "execution_count": 28,
   "id": "ec72b9ab-de6f-4840-b4bd-93239f6a5085",
   "metadata": {
    "scrolled": true
   },
   "outputs": [],
   "source": [
    "IQ_node_To_PrimaryLin_Dict = {}\n",
    "\n",
    "for node in IQ_Tree_MP.iter_descendants(\"postorder\"):\n",
    "    # Do some analysis on node\n",
    "    \n",
    "    #print(node.name)\n",
    "    listOf_ChildLineages = []\n",
    "    \n",
    "    for child_node in node.get_descendants():\n",
    "        if child_node.is_leaf():\n",
    "            listOf_ChildLineages.append(  (child_node.Primary_lineage) )\n",
    "        \n",
    "        #print(node.name, listOf_ChildLineages)\n",
    "        \n",
    "    set_Of_ChildLineages = list(set(listOf_ChildLineages))\n",
    "\n",
    "    #print(node.name, set_Of_ChildLineages  )\n",
    "    \n",
    "    if len(set_Of_ChildLineages) == 1:\n",
    "        OnlyOneLineage = True\n",
    "    else:\n",
    "        OnlyOneLineage = False\n",
    "    \n",
    "    if OnlyOneLineage:\n",
    "        IQ_node_To_PrimaryLin_Dict[node.name] = set_Of_ChildLineages[0]\n",
    "\n",
    "IQ_node_To_PrimaryLin_Dict.update(ID_To_PrimLineage_Dict)\n",
    "    "
   ]
  },
  {
   "cell_type": "code",
   "execution_count": null,
   "id": "4b059907-b154-414f-8352-11975b7696ea",
   "metadata": {},
   "outputs": [],
   "source": []
  },
  {
   "cell_type": "markdown",
   "id": "2b87f6cb-d1cb-4658-8f73-46ab1c1620c0",
   "metadata": {},
   "source": [
    "## Output \"node_To_PrimaryLin_Dict\" dictionary "
   ]
  },
  {
   "cell_type": "code",
   "execution_count": 29,
   "id": "540cda94-5925-4dd6-9640-07395f826713",
   "metadata": {},
   "outputs": [
    {
     "name": "stdout",
     "output_type": "stream",
     "text": [
      "mkdir: cannot create directory ‘PhyloInfo/’: File exists\n"
     ]
    }
   ],
   "source": [
    "import json \n",
    "\n",
    "!mkdir PhyloInfo/\n",
    "IQ_NodeToPriLineage_Dict_JSON = f\"{IQTree_OutDir}/IQTrees.NodeToPrimaryLineage.json\"\n",
    "\n",
    "with open(IQ_NodeToPriLineage_Dict_JSON, 'w') as json_file:\n",
    "    json.dump(IQ_node_To_PrimaryLin_Dict, json_file)\n"
   ]
  },
  {
   "cell_type": "markdown",
   "id": "c286d878-15f5-453b-b500-d3cf48038218",
   "metadata": {},
   "source": [
    "#### test reading back in the JSON"
   ]
  },
  {
   "cell_type": "code",
   "execution_count": 30,
   "id": "c4decb13-758e-4125-b97b-5c6c2590bd54",
   "metadata": {},
   "outputs": [],
   "source": [
    "with open(IQ_NodeToPriLineage_Dict_JSON) as json_file:\n",
    "    IQ_node_To_PrimaryLin_Dict = json.load(json_file)"
   ]
  },
  {
   "cell_type": "code",
   "execution_count": 31,
   "id": "46a3eaaa-b7a4-4270-ba63-0a6f46e6d3a0",
   "metadata": {},
   "outputs": [
    {
     "data": {
      "text/plain": [
       "90"
      ]
     },
     "execution_count": 31,
     "metadata": {},
     "output_type": "execute_result"
    }
   ],
   "source": [
    "len(list(IQ_node_To_PrimaryLin_Dict.keys()))"
   ]
  },
  {
   "cell_type": "code",
   "execution_count": null,
   "id": "accdef1e-2a54-4d83-8d9c-cf49b825d91d",
   "metadata": {},
   "outputs": [],
   "source": []
  },
  {
   "cell_type": "markdown",
   "id": "29543e8d-4dfb-46e9-87a1-376b9bbc5162",
   "metadata": {},
   "source": [
    "### Link to ETE3 documentation for tree layout style\n",
    " http://etetoolkit.org/docs/latest/tutorial/tutorial_drawing.html#interactive-visualization-of-trees"
   ]
  },
  {
   "cell_type": "code",
   "execution_count": 32,
   "id": "a4d315e8-88ed-4a7d-8a17-a924bb5066c9",
   "metadata": {},
   "outputs": [],
   "source": [
    "\n",
    "node_To_PrimaryLin_Dict= IQ_node_To_PrimaryLin_Dict\n",
    "def ColorBranchByLineage_Layout(node):\n",
    "    F = ETE.TextFace(node.name, fsize=2)\n",
    "    if node.is_leaf():\n",
    "        #NameAnd_Lineage_Text =  f\"  {node.name} {node.Mtb_lineage}\"\n",
    "        #F_NameAndLineage = ETE.TextFace(NameAnd_Lineage_Text, fsize=3)\n",
    "        \n",
    "        #ETE.add_face_to_node(F_NameAndLineage, node, column=0, position=\"branch-right\")\n",
    "\n",
    "        \n",
    "        nstyle = ETE.NodeStyle() # http://etetoolkit.org/docs/latest/tutorial/tutorial_drawing.html#node-style\n",
    "        nstyle[\"fgcolor\"] = \"black\"\n",
    "        nstyle[\"size\"] = 1\n",
    "        \n",
    "        Node_PrimaryLin = node_To_PrimaryLin_Dict.get(node.name, \"None\")\n",
    "        \n",
    "        nstyle[\"vt_line_color\"] = LinToColor_Dict.get(Node_PrimaryLin, \"Black\")\n",
    "        nstyle[\"hz_line_color\"] = LinToColor_Dict.get(Node_PrimaryLin, \"Black\")\n",
    "          \n",
    "        node.set_style(nstyle)\n",
    "        node.margin_left = 10        \n",
    "    else: \n",
    "        nstyle = ETE.NodeStyle() # http://etetoolkit.org/docs/latest/tutorial/tutorial_drawing.html#node-style\n",
    "        nstyle[\"fgcolor\"] = \"black\"\n",
    "        nstyle[\"size\"] = 0\n",
    "        \n",
    "        Node_PrimaryLin = node_To_PrimaryLin_Dict.get(node.name, \"None\")\n",
    "        \n",
    "        nstyle[\"vt_line_color\"] = LinToColor_Dict.get(Node_PrimaryLin, \"Black\")\n",
    "        nstyle[\"hz_line_color\"] = LinToColor_Dict.get(Node_PrimaryLin, \"Black\")\n",
    "        \n",
    "        node.set_style(nstyle)\n",
    "\n",
    "\n",
    "ts_1 = ETE.TreeStyle()\n",
    "ts_1.show_leaf_name = False\n",
    "ts_1.show_branch_length = False\n",
    "ts_1.show_branch_support = False\n",
    "ts_1.show_scale = False #True\n",
    "#ts_1.branch_vertical_margin = 2\n",
    "ts_1.layout_fn = ColorBranchByLineage_Layout\n",
    "ts_1.rotation = 90\n",
    "\n",
    "\n",
    "ts_3 = ETE.TreeStyle()\n",
    "ts_3.show_leaf_name = False\n",
    "ts_3.show_branch_length = False\n",
    "ts_3.show_branch_support = False\n",
    "ts_3.show_scale = True #True\n",
    "ts_3.branch_vertical_margin = 2\n",
    "ts_3.layout_fn = ColorBranchByLineage_Layout\n",
    "ts_3.rotation = 90\n",
    "ts_3.scale_length = 0.02\n",
    "\n",
    "ts_3_circ = ETE.TreeStyle()\n",
    "ts_3_circ.mode = \"c\" # draw tree in circular mode\n",
    "ts_3_circ.arc_start = 0 #-180 # 0 degrees = 3 o'clock\n",
    "ts_3_circ.arc_span = 270\n",
    "ts_3_circ.show_leaf_name = False\n",
    "ts_3_circ.show_branch_length = False\n",
    "ts_3_circ.show_branch_support = False\n",
    "ts_3_circ.show_scale = False #True\n",
    "ts_3_circ.branch_vertical_margin = 2\n",
    "ts_3_circ.layout_fn = ColorBranchByLineage_Layout\n"
   ]
  },
  {
   "cell_type": "code",
   "execution_count": null,
   "id": "88abb03d-7ea2-4fa0-95a1-f3d50bf1607c",
   "metadata": {},
   "outputs": [],
   "source": []
  },
  {
   "cell_type": "markdown",
   "id": "ca79d613-fb51-4d4c-b8c9-a35d4d27751b",
   "metadata": {},
   "source": [
    "## Visualize IQ-Tree Phylogeny"
   ]
  },
  {
   "cell_type": "code",
   "execution_count": 33,
   "id": "80ac0909-90ed-4e79-8428-06a47a390512",
   "metadata": {},
   "outputs": [
    {
     "data": {
      "image/png": "[encoded data removed]",
      "text/plain": [
       "<IPython.core.display.Image object>"
      ]
     },
     "execution_count": 33,
     "metadata": {},
     "output_type": "execute_result"
    }
   ],
   "source": [
    "IQ_Tree_MP.render(\"%%inline\", h = 500, tree_style = ts_3)"
   ]
  },
  {
   "cell_type": "code",
   "execution_count": 34,
   "id": "7213385d-408c-47f8-bc74-5b5fdf7941a2",
   "metadata": {},
   "outputs": [],
   "source": [
    "Z = IQ_Tree_MP.render(\"Results5_Plots/6.Ecoli50CI.RectPhylo.png\", w = 1000, tree_style = ts_3)     "
   ]
  },
  {
   "cell_type": "code",
   "execution_count": 35,
   "id": "3216908e-8430-4ba4-9d2b-e1ac894dfee8",
   "metadata": {},
   "outputs": [],
   "source": [
    "Z = IQ_Tree_MP.render(\"Results5_Plots/6.Ecoli50CI.RectPhylo.svg\", w = 1000, tree_style = ts_3)    "
   ]
  },
  {
   "cell_type": "code",
   "execution_count": null,
   "id": "97ea6de0-f76e-4c9c-8cbb-b780e4a374a2",
   "metadata": {},
   "outputs": [],
   "source": []
  },
  {
   "cell_type": "code",
   "execution_count": null,
   "id": "c250f49d-b0df-4b6c-be46-5e047dbff431",
   "metadata": {},
   "outputs": [],
   "source": []
  },
  {
   "cell_type": "code",
   "execution_count": null,
   "id": "a19c9eb2-e640-45e6-8b23-9a490f23bc5c",
   "metadata": {},
   "outputs": [],
   "source": []
  },
  {
   "cell_type": "code",
   "execution_count": 36,
   "id": "ac25c601-186c-4115-b656-c7f412d21a90",
   "metadata": {},
   "outputs": [],
   "source": [
    "OrderOfSampleIDs_Phylo = [ n.name for n in IQ_Tree_MP.get_leaves() ]  "
   ]
  },
  {
   "cell_type": "code",
   "execution_count": 37,
   "id": "20dbf643-b2ed-40ed-9794-f469f5e2910e",
   "metadata": {},
   "outputs": [
    {
     "name": "stdout",
     "output_type": "stream",
     "text": [
      "['GCA_013923405', 'GCA_014109125', 'GCA_014109065', 'GCA_013821965', 'GCA_013895455', 'GCA_013899665', 'GCA_013783465', 'GCA_013891895', 'GCA_013752075', 'GCA_013819985', 'GCA_013712565', 'GCA_013713325', 'GCA_013899205', 'GCA_013898935', 'GCA_013894775', 'GCA_013752295', 'GCA_013750375', 'GCA_013806525', 'GCA_013806085', 'GCA_013806925', 'GCA_013886475', 'GCA_013817865', 'GCA_013835405', 'GCA_013924285', 'GCA_013928845', 'GCA_013796065', 'GCA_013782445', 'GCA_013830785', 'GCA_014103195', 'GCA_013800125', 'GCA_013898775', 'GCA_013898995', 'GCA_013602835', 'GCA_013836945', 'GCA_013823125', 'GCA_013900245', 'GCA_013790245', 'GCA_013897255', 'GCA_013896775', 'GCA_013897665', 'GCA_013896515', 'GCA_013786125', 'GCA_013728735', 'GCA_013817505', 'GCA_013894235', 'GCA_013746655', 'GCA_014103465', 'GCA_013732895', 'GCA_013745515', 'GCA_014103665']\n"
     ]
    }
   ],
   "source": [
    "print(OrderOfSampleIDs_Phylo)"
   ]
  },
  {
   "cell_type": "code",
   "execution_count": null,
   "id": "9bc9d650-9854-4741-9c47-4217fd5b06a8",
   "metadata": {},
   "outputs": [],
   "source": []
  },
  {
   "cell_type": "code",
   "execution_count": 38,
   "id": "1fab8a85-bab9-450c-85c6-ce1604bfc11c",
   "metadata": {},
   "outputs": [
    {
     "data": {
      "text/html": [
       "<div>\n",
       "<style scoped>\n",
       "    .dataframe tbody tr th:only-of-type {\n",
       "        vertical-align: middle;\n",
       "    }\n",
       "\n",
       "    .dataframe tbody tr th {\n",
       "        vertical-align: top;\n",
       "    }\n",
       "\n",
       "    .dataframe thead th {\n",
       "        text-align: right;\n",
       "    }\n",
       "</style>\n",
       "<table border=\"1\" class=\"dataframe\">\n",
       "  <thead>\n",
       "    <tr style=\"text-align: right;\">\n",
       "      <th></th>\n",
       "      <th>SampleID</th>\n",
       "      <th>Phylogroup</th>\n",
       "    </tr>\n",
       "  </thead>\n",
       "  <tbody>\n",
       "    <tr>\n",
       "      <th>0</th>\n",
       "      <td>GCA_014109125</td>\n",
       "      <td>A</td>\n",
       "    </tr>\n",
       "    <tr>\n",
       "      <th>1</th>\n",
       "      <td>GCA_014109065</td>\n",
       "      <td>A</td>\n",
       "    </tr>\n",
       "    <tr>\n",
       "      <th>2</th>\n",
       "      <td>GCA_013923405</td>\n",
       "      <td>A</td>\n",
       "    </tr>\n",
       "    <tr>\n",
       "      <th>3</th>\n",
       "      <td>GCA_013821965</td>\n",
       "      <td>A</td>\n",
       "    </tr>\n",
       "    <tr>\n",
       "      <th>4</th>\n",
       "      <td>GCA_013819985</td>\n",
       "      <td>B1</td>\n",
       "    </tr>\n",
       "  </tbody>\n",
       "</table>\n",
       "</div>"
      ],
      "text/plain": [
       "        SampleID Phylogroup\n",
       "0  GCA_014109125          A\n",
       "1  GCA_014109065          A\n",
       "2  GCA_013923405          A\n",
       "3  GCA_013821965          A\n",
       "4  GCA_013819985         B1"
      ]
     },
     "execution_count": 38,
     "metadata": {},
     "output_type": "execute_result"
    }
   ],
   "source": [
    "Ecoli_MetaTrim_DF = Shaw_50A_Info_DF[[\"SampleID\", \"Phylogroup (E. coli only)\"] ]\n",
    "Ecoli_MetaTrim_DF.columns = [\"SampleID\", \"Phylogroup\"]\n",
    "Ecoli_MetaTrim_DF.head()"
   ]
  },
  {
   "cell_type": "code",
   "execution_count": 39,
   "id": "05c3c749-4c10-4a9b-8d17-69ce73dc7f71",
   "metadata": {},
   "outputs": [
    {
     "data": {
      "text/plain": [
       "50"
      ]
     },
     "execution_count": 39,
     "metadata": {},
     "output_type": "execute_result"
    }
   ],
   "source": [
    "Ecoli_MetaTrim_DF['Phylogroup'].value_counts().sum()"
   ]
  },
  {
   "cell_type": "code",
   "execution_count": 40,
   "id": "f6a9fe00-656f-4d57-931b-fbf7befe65de",
   "metadata": {},
   "outputs": [],
   "source": [
    "Ecoli_MetaTrim_DF.to_csv(f\"{IQTree_OutDir}/Ecoli.50CI.Phylogroups.tsv\",\n",
    "                         sep = \"\\t\", index=False)\n"
   ]
  },
  {
   "cell_type": "code",
   "execution_count": null,
   "id": "5a73105f-79f1-4a93-9e34-3eb93d681725",
   "metadata": {},
   "outputs": [],
   "source": []
  },
  {
   "cell_type": "markdown",
   "id": "0289f33e-fc0d-4db4-9e52-0035200ddd89",
   "metadata": {},
   "source": [
    "# Define output dir of the Mtb-WGA-SMK processing pipeline"
   ]
  },
  {
   "cell_type": "code",
   "execution_count": 41,
   "id": "ef905fee-c4d0-4ff3-a54e-2ea2f96a5446",
   "metadata": {},
   "outputs": [
    {
     "name": "stdout",
     "output_type": "stream",
     "text": [
      "Data\n",
      "input_PATH_SMK_TSVs\n",
      "SMK_OutDirs\n"
     ]
    }
   ],
   "source": [
    "!ls -1 $Ecoli_PG_MainDir/"
   ]
  },
  {
   "cell_type": "code",
   "execution_count": 42,
   "id": "47c157e6-4ec6-4ee8-8d5a-d3ba74bd6ccf",
   "metadata": {},
   "outputs": [],
   "source": [
    "# Define varaint calling pipeline output directories\n",
    "\n",
    "WGA_SMK_Outputs_Dir = f\"{Ecoli_PG_MainDir}/SMK_OutDirs\"\n",
    "\n",
    "PG_Ecoli_50I_OutDir = WGA_SMK_Outputs_Dir + \"/231011_Ecoli_Shaw2021_5OI_V1\"\n"
   ]
  },
  {
   "cell_type": "code",
   "execution_count": 43,
   "id": "462bca95-1adb-4c38-a5d8-db7a1cb2eece",
   "metadata": {},
   "outputs": [],
   "source": [
    "#!ls -lah $WGA_SMK_Outputs_Dir"
   ]
  },
  {
   "cell_type": "code",
   "execution_count": 44,
   "id": "1d92e842-dcd4-4226-81ba-5a76136995e6",
   "metadata": {},
   "outputs": [],
   "source": [
    "#!ls -alh $PG_Ecoli_50I_OutDir"
   ]
  },
  {
   "cell_type": "code",
   "execution_count": null,
   "id": "46f05495-4b8a-4994-a0f9-f9e550366541",
   "metadata": {},
   "outputs": [],
   "source": []
  },
  {
   "cell_type": "markdown",
   "id": "8ae658ce-1ea3-45a2-819f-1161b3a77fb4",
   "metadata": {},
   "source": [
    "## Define paths to all Assembly FAs + BAKTA Annotations (Short + Long read ASMs)"
   ]
  },
  {
   "cell_type": "code",
   "execution_count": 45,
   "id": "9dccbd02-287b-4d31-9c22-ce4a55a1011f",
   "metadata": {},
   "outputs": [],
   "source": [
    "listOfSample_Tags = E50I_SampleIDs\n",
    "\n",
    "target_SMK_OutputDir = PG_Ecoli_50I_OutDir\n",
    "\n",
    "SampleTag_ToPaths_Dict = {}\n",
    "\n",
    "for SampleID in listOfSample_Tags:\n",
    "    sample_Asm_OutputDir = target_SMK_OutputDir + \"/AsmAnalysis/\" + SampleID\n",
    "    GenomeAnno_Dir = f\"{sample_Asm_OutputDir}/GenomeAnnotation\"\n",
    "    \n",
    "    # LR Bakta Anno Files\n",
    "    Bakta_LR_AsmDir = f\"{GenomeAnno_Dir}/{SampleID}_Asm_Bakta\"\n",
    "    \n",
    "    i_LRAsm_Bakta_GFF = f\"{Bakta_LR_AsmDir}/{SampleID}.Bakta.gff3\"\n",
    "    i_LRAsm_Bakta_GBFF = f\"{Bakta_LR_AsmDir}/{SampleID}.Bakta.gbff\"\n",
    "    i_LRAsm_Bakta_FAA = f\"{Bakta_LR_AsmDir}/{SampleID}.Bakta.faa\"\n",
    "    i_LRAsm_Bakta_FFN = f\"{Bakta_LR_AsmDir}/{SampleID}.Bakta.ffn\"\n",
    "    i_LRAsm_Bakta_FNA = f\"{Bakta_LR_AsmDir}/{SampleID}.Bakta.fna\"\n",
    "    i_LRAsm_Bakta_TXT = f\"{Bakta_LR_AsmDir}/{SampleID}.Bakta.txt\"\n",
    "\n",
    "    dictOfPaths_Temp = {}\n",
    "    dictOfPaths_Temp[\"LRAsm_Bakta_GFF\"] = i_LRAsm_Bakta_GFF  \n",
    "    dictOfPaths_Temp[\"LRAsm_Bakta_GBFF\"] = i_LRAsm_Bakta_GBFF\n",
    "    dictOfPaths_Temp[\"LRAsm_Bakta_FAA\"] = i_LRAsm_Bakta_FAA    \n",
    "    dictOfPaths_Temp[\"LRAsm_Bakta_FFN\"] = i_LRAsm_Bakta_FFN    \n",
    "    dictOfPaths_Temp[\"LRAsm_Bakta_FNA\"] = i_LRAsm_Bakta_FNA  \n",
    "    dictOfPaths_Temp[\"LRAsm_Bakta_TXT\"] = i_LRAsm_Bakta_TXT \n",
    "    \n",
    "    SampleTag_ToPaths_Dict[SampleID] = dictOfPaths_Temp\n"
   ]
  },
  {
   "cell_type": "code",
   "execution_count": 46,
   "id": "5673a0c5-41c7-48eb-a05d-3d1c70aac935",
   "metadata": {},
   "outputs": [
    {
     "data": {
      "text/plain": [
       "'GCA_014109125'"
      ]
     },
     "execution_count": 46,
     "metadata": {},
     "output_type": "execute_result"
    }
   ],
   "source": [
    "listOfSample_Tags[0]"
   ]
  },
  {
   "cell_type": "code",
   "execution_count": 47,
   "id": "83bfd307-fc95-46c6-8713-8fa1fb6d3bb4",
   "metadata": {},
   "outputs": [],
   "source": [
    "#!ls -1 $Bakta_AsmDir"
   ]
  },
  {
   "cell_type": "code",
   "execution_count": 48,
   "id": "f8e64e6d-30ef-4043-b6af-c27ed364cd35",
   "metadata": {},
   "outputs": [
    {
     "data": {
      "text/plain": [
       "'/n/data1/hms/dbmi/farhat/mm774/Projects/230905_Ecoli_PG_Analysis/SMK_OutDirs/231011_Ecoli_Shaw2021_5OI_V1/AsmAnalysis/GCA_014109125/GenomeAnnotation/GCA_014109125_Asm_Bakta/GCA_014109125.Bakta.fna'"
      ]
     },
     "execution_count": 48,
     "metadata": {},
     "output_type": "execute_result"
    }
   ],
   "source": [
    "SampleTag_ToPaths_Dict['GCA_014109125'][\"LRAsm_Bakta_FNA\"] "
   ]
  },
  {
   "cell_type": "code",
   "execution_count": null,
   "id": "05ab3aba-76e0-4230-801e-a2f10f1b2150",
   "metadata": {},
   "outputs": [],
   "source": []
  },
  {
   "cell_type": "code",
   "execution_count": 49,
   "id": "8a23a17d-b042-44b9-a801-89dcc19257c6",
   "metadata": {},
   "outputs": [
    {
     "name": "stdout",
     "output_type": "stream",
     "text": [
      "total 128K\n",
      "drwxrwsr-x  4 mm774 farhat   63 Oct 12 02:14 .\n",
      "drwxrwsr-x 59 mm774 farhat 1.8K Jan  1 18:03 ..\n",
      "drwxrwsr-x  2 mm774 farhat   44 Oct 12 02:24 FastANI_LRAsm\n",
      "drwxrwsr-x  2 mm774 farhat   41 Oct 12 02:13 FastANI_LRAsms\n"
     ]
    }
   ],
   "source": [
    "!ls -alh $PG_Ecoli_50I_OutDir/FastANI"
   ]
  },
  {
   "cell_type": "code",
   "execution_count": 50,
   "id": "e52f08da-e471-4708-b787-44c9b517af5e",
   "metadata": {},
   "outputs": [
    {
     "name": "stdout",
     "output_type": "stream",
     "text": [
      "total 200K\n",
      "drwxrwsr-x 2 mm774 farhat    44 Oct 12 02:24 .\n",
      "drwxrwsr-x 4 mm774 farhat    63 Oct 12 02:14 ..\n",
      "-rw-rw-r-- 1 mm774 farhat 1006K Oct 12 02:25 FastANI.AllVsAll.LRAsm.txt\n"
     ]
    }
   ],
   "source": [
    "!ls -alh $PG_Ecoli_50I_OutDir/FastANI/FastANI_LRAsm"
   ]
  },
  {
   "cell_type": "code",
   "execution_count": 51,
   "id": "c6ff6141-b81a-4741-8552-7a6e65c44794",
   "metadata": {},
   "outputs": [
    {
     "name": "stdout",
     "output_type": "stream",
     "text": [
      "total 88K\n",
      "drwxrwsr-x 2 mm774 farhat   41 Oct 12 02:13 .\n",
      "drwxrwsr-x 4 mm774 farhat   63 Oct 12 02:14 ..\n",
      "-rw-rw-r-- 1 mm774 farhat 9.7K Oct 12 02:13 LRAsms.PathToFASTAs.txt\n"
     ]
    }
   ],
   "source": [
    "!ls -alh $PG_Ecoli_50I_OutDir/FastANI/FastANI_LRAsms"
   ]
  },
  {
   "cell_type": "code",
   "execution_count": null,
   "id": "f129f755-6e07-4dd1-bca0-448a5c3baf68",
   "metadata": {},
   "outputs": [],
   "source": []
  },
  {
   "cell_type": "code",
   "execution_count": null,
   "id": "0957c2f0-e0cc-48b6-9fdd-e4dac5aef72a",
   "metadata": {},
   "outputs": [],
   "source": []
  },
  {
   "cell_type": "code",
   "execution_count": null,
   "id": "1e368257-397a-419f-9575-e48880391277",
   "metadata": {},
   "outputs": [],
   "source": []
  },
  {
   "cell_type": "markdown",
   "id": "807bca82-df23-4fb7-983b-364b5f9711fc",
   "metadata": {},
   "source": [
    "## Parse SourMASH output files"
   ]
  },
  {
   "cell_type": "code",
   "execution_count": 52,
   "id": "78857bca-bd0d-4bc2-bbbb-120fdd89be22",
   "metadata": {},
   "outputs": [],
   "source": [
    "SourMASH_MainDir = f\"{target_SMK_OutputDir}/SourMash\"\n",
    "\n",
    "# SourMASH Default Out\n",
    "SourMASH_AllVsAll_Default_OutDir = f\"{SourMASH_MainDir}/CompareAllAsm_Default\"\n",
    "\n",
    "SM_AvA_Default_JS_OUT = f\"{SourMASH_AllVsAll_Default_OutDir}/SourMash.Compare.Default.out\"\n",
    "SM_AvA_Default_Labels_TXT = f\"{SourMASH_AllVsAll_Default_OutDir}/SourMash.Compare.Default.out.labels.txt\"\n",
    "\n",
    "# SourMASH Scaled Out\n",
    "SourMASH_AllVsAll_Scaled_OutDir = f\"{SourMASH_MainDir}/CompareAllAsm_Scaled1\"\n",
    "\n",
    "SM_AvA_Scaled1_JS_OUT = f\"{SourMASH_AllVsAll_Scaled_OutDir}/SourMash.Compare.Scaled1.out\"\n",
    "SM_AvA_Scaled1_Labels_TXT = f\"{SourMASH_AllVsAll_Scaled_OutDir}/SourMash.Compare.Scaled1.out.labels.txt\"\n"
   ]
  },
  {
   "cell_type": "code",
   "execution_count": 53,
   "id": "409df32a-d90a-4011-8ec3-539ea4198e66",
   "metadata": {},
   "outputs": [
    {
     "name": "stdout",
     "output_type": "stream",
     "text": [
      "total 312\n",
      "-rw-rw-r-- 1 mm774 farhat 20128 Oct 12 00:28 SourMash.Compare.Scaled1.out\n",
      "-rw-rw-r-- 1 mm774 farhat 17384 Oct 12 00:28 SourMash.Compare.Scaled1.out.dendro.pdf\n",
      "-rw-rw-r-- 1 mm774 farhat  8264 Oct 12 00:27 SourMash.Compare.Scaled1.out.hist.pdf\n",
      "-rw-rw-r-- 1 mm774 farhat  7799 Oct 12 00:27 SourMash.Compare.Scaled1.out.labels.txt\n",
      "-rw-rw-r-- 1 mm774 farhat 24127 Oct 12 00:28 SourMash.Compare.Scaled1.out.matrix.pdf\n"
     ]
    }
   ],
   "source": [
    "!ls -l $SourMASH_MainDir/CompareAllAsm_Scaled1"
   ]
  },
  {
   "cell_type": "code",
   "execution_count": 54,
   "id": "210cfc08-9850-4fd2-965b-b6a11b027e2f",
   "metadata": {},
   "outputs": [
    {
     "data": {
      "text/plain": [
       "(50,)"
      ]
     },
     "execution_count": 54,
     "metadata": {},
     "output_type": "execute_result"
    }
   ],
   "source": [
    "SM_AvA_Labels = pd.read_csv(SM_AvA_Scaled1_Labels_TXT, sep = \"\\t\", header = None)[0].str.split(\"/\").str[-1].str.split(\".\").str[0]\n",
    "SM_AvA_Labels.shape"
   ]
  },
  {
   "cell_type": "code",
   "execution_count": 55,
   "id": "eecc080c-4471-413f-8b7a-4aa91609e047",
   "metadata": {},
   "outputs": [
    {
     "data": {
      "text/plain": [
       "0    GCA_014109125\n",
       "1    GCA_014109065\n",
       "2    GCA_013923405\n",
       "Name: 0, dtype: object"
      ]
     },
     "execution_count": 55,
     "metadata": {},
     "output_type": "execute_result"
    }
   ],
   "source": [
    "SM_AvA_Labels.head(3)"
   ]
  },
  {
   "cell_type": "code",
   "execution_count": null,
   "id": "87f6625f-8308-45de-a434-8280c4c97356",
   "metadata": {},
   "outputs": [],
   "source": []
  },
  {
   "cell_type": "markdown",
   "id": "774f8f8c-54b8-4f9a-8511-d8be49764b7c",
   "metadata": {},
   "source": [
    "## Parse the Jaccard Simularity of k-mers (k = 31 bp)"
   ]
  },
  {
   "cell_type": "code",
   "execution_count": 56,
   "id": "cebd2cc1-ab08-4e67-b75b-2cc1c1d5f8a3",
   "metadata": {},
   "outputs": [],
   "source": [
    "AvA_LR_JS_NP = np.load(SM_AvA_Scaled1_JS_OUT)\n",
    "AvA_LR_JS_DF = pd.DataFrame(AvA_LR_JS_NP)\n",
    "\n",
    "AvA_LR_JS_DF.columns = SM_AvA_Labels\n",
    "AvA_LR_JS_DF.index = SM_AvA_Labels\n"
   ]
  },
  {
   "cell_type": "code",
   "execution_count": 57,
   "id": "3ad16dfb-096b-4b47-9b96-5dda076abc02",
   "metadata": {},
   "outputs": [
    {
     "data": {
      "text/html": [
       "<div>\n",
       "<style scoped>\n",
       "    .dataframe tbody tr th:only-of-type {\n",
       "        vertical-align: middle;\n",
       "    }\n",
       "\n",
       "    .dataframe tbody tr th {\n",
       "        vertical-align: top;\n",
       "    }\n",
       "\n",
       "    .dataframe thead th {\n",
       "        text-align: right;\n",
       "    }\n",
       "</style>\n",
       "<table border=\"1\" class=\"dataframe\">\n",
       "  <thead>\n",
       "    <tr style=\"text-align: right;\">\n",
       "      <th></th>\n",
       "      <th>GCA_014109125</th>\n",
       "      <th>GCA_014109065</th>\n",
       "      <th>GCA_013923405</th>\n",
       "      <th>GCA_013821965</th>\n",
       "      <th>GCA_013819985</th>\n",
       "      <th>GCA_013899665</th>\n",
       "      <th>GCA_013895455</th>\n",
       "      <th>GCA_013783465</th>\n",
       "      <th>GCA_013752075</th>\n",
       "      <th>GCA_013891895</th>\n",
       "      <th>...</th>\n",
       "      <th>GCA_013836945</th>\n",
       "      <th>GCA_013823125</th>\n",
       "      <th>GCA_013894235</th>\n",
       "      <th>GCA_013817505</th>\n",
       "      <th>GCA_013898995</th>\n",
       "      <th>GCA_013898775</th>\n",
       "      <th>GCA_013830785</th>\n",
       "      <th>GCA_013800125</th>\n",
       "      <th>GCA_014103195</th>\n",
       "      <th>GCA_013602835</th>\n",
       "    </tr>\n",
       "    <tr>\n",
       "      <th>0</th>\n",
       "      <th></th>\n",
       "      <th></th>\n",
       "      <th></th>\n",
       "      <th></th>\n",
       "      <th></th>\n",
       "      <th></th>\n",
       "      <th></th>\n",
       "      <th></th>\n",
       "      <th></th>\n",
       "      <th></th>\n",
       "      <th></th>\n",
       "      <th></th>\n",
       "      <th></th>\n",
       "      <th></th>\n",
       "      <th></th>\n",
       "      <th></th>\n",
       "      <th></th>\n",
       "      <th></th>\n",
       "      <th></th>\n",
       "      <th></th>\n",
       "      <th></th>\n",
       "    </tr>\n",
       "  </thead>\n",
       "  <tbody>\n",
       "    <tr>\n",
       "      <th>GCA_014109125</th>\n",
       "      <td>1.000000</td>\n",
       "      <td>0.999023</td>\n",
       "      <td>0.999439</td>\n",
       "      <td>0.746006</td>\n",
       "      <td>0.479597</td>\n",
       "      <td>0.471929</td>\n",
       "      <td>0.465626</td>\n",
       "      <td>0.474288</td>\n",
       "      <td>0.459384</td>\n",
       "      <td>0.459334</td>\n",
       "      <td>...</td>\n",
       "      <td>0.302225</td>\n",
       "      <td>0.304392</td>\n",
       "      <td>0.084248</td>\n",
       "      <td>0.083686</td>\n",
       "      <td>0.309421</td>\n",
       "      <td>0.309437</td>\n",
       "      <td>0.292423</td>\n",
       "      <td>0.303575</td>\n",
       "      <td>0.303641</td>\n",
       "      <td>0.295768</td>\n",
       "    </tr>\n",
       "    <tr>\n",
       "      <th>GCA_014109065</th>\n",
       "      <td>0.999023</td>\n",
       "      <td>1.000000</td>\n",
       "      <td>0.999012</td>\n",
       "      <td>0.746249</td>\n",
       "      <td>0.479698</td>\n",
       "      <td>0.472038</td>\n",
       "      <td>0.465729</td>\n",
       "      <td>0.474369</td>\n",
       "      <td>0.459497</td>\n",
       "      <td>0.459438</td>\n",
       "      <td>...</td>\n",
       "      <td>0.302293</td>\n",
       "      <td>0.304461</td>\n",
       "      <td>0.084261</td>\n",
       "      <td>0.083696</td>\n",
       "      <td>0.309493</td>\n",
       "      <td>0.309509</td>\n",
       "      <td>0.292487</td>\n",
       "      <td>0.303646</td>\n",
       "      <td>0.303746</td>\n",
       "      <td>0.295825</td>\n",
       "    </tr>\n",
       "  </tbody>\n",
       "</table>\n",
       "<p>2 rows × 50 columns</p>\n",
       "</div>"
      ],
      "text/plain": [
       "0              GCA_014109125  GCA_014109065  GCA_013923405  GCA_013821965  \\\n",
       "0                                                                           \n",
       "GCA_014109125       1.000000       0.999023       0.999439       0.746006   \n",
       "GCA_014109065       0.999023       1.000000       0.999012       0.746249   \n",
       "\n",
       "0              GCA_013819985  GCA_013899665  GCA_013895455  GCA_013783465  \\\n",
       "0                                                                           \n",
       "GCA_014109125       0.479597       0.471929       0.465626       0.474288   \n",
       "GCA_014109065       0.479698       0.472038       0.465729       0.474369   \n",
       "\n",
       "0              GCA_013752075  GCA_013891895  ...  GCA_013836945  \\\n",
       "0                                            ...                  \n",
       "GCA_014109125       0.459384       0.459334  ...       0.302225   \n",
       "GCA_014109065       0.459497       0.459438  ...       0.302293   \n",
       "\n",
       "0              GCA_013823125  GCA_013894235  GCA_013817505  GCA_013898995  \\\n",
       "0                                                                           \n",
       "GCA_014109125       0.304392       0.084248       0.083686       0.309421   \n",
       "GCA_014109065       0.304461       0.084261       0.083696       0.309493   \n",
       "\n",
       "0              GCA_013898775  GCA_013830785  GCA_013800125  GCA_014103195  \\\n",
       "0                                                                           \n",
       "GCA_014109125       0.309437       0.292423       0.303575       0.303641   \n",
       "GCA_014109065       0.309509       0.292487       0.303646       0.303746   \n",
       "\n",
       "0              GCA_013602835  \n",
       "0                             \n",
       "GCA_014109125       0.295768  \n",
       "GCA_014109065       0.295825  \n",
       "\n",
       "[2 rows x 50 columns]"
      ]
     },
     "execution_count": 57,
     "metadata": {},
     "output_type": "execute_result"
    }
   ],
   "source": [
    "AvA_LR_JS_DF.head(2)"
   ]
  },
  {
   "cell_type": "code",
   "execution_count": 58,
   "id": "0999f139-a0e9-4ed8-9fa7-97f745dca3b7",
   "metadata": {},
   "outputs": [
    {
     "data": {
      "text/plain": [
       "(2450, 3)"
      ]
     },
     "execution_count": 58,
     "metadata": {},
     "output_type": "execute_result"
    }
   ],
   "source": [
    "AvA_LR_JS_DF.index = AvA_LR_JS_DF.index.rename(\"SampleID_1\")\n",
    "AvA_LR_JS_DF.columns = AvA_LR_JS_DF.columns.rename(\"SampleID_2\")\n",
    "\n",
    "LR_JaccSim_Pairwise_DF = AvA_LR_JS_DF.stack().reset_index()\n",
    "\n",
    "LR_JaccSim_Pairwise_DF.columns = [\"SampleID_1\", \"SampleID_2\", \"Mash_JS\"]\n",
    "LR_JaccSim_Pairwise_DF.sort_values([\"SampleID_1\", \"SampleID_2\"])\n",
    "\n",
    "LR_JaccSim_Pairwise_DF = LR_JaccSim_Pairwise_DF.query(\" SampleID_1 != SampleID_2 \")\n",
    "\n",
    "LR_JaccSim_Pairwise_DF.shape "
   ]
  },
  {
   "cell_type": "code",
   "execution_count": 59,
   "id": "1ac806e7-eda3-4949-a013-f36554c7e95f",
   "metadata": {},
   "outputs": [
    {
     "data": {
      "text/html": [
       "<div>\n",
       "<style scoped>\n",
       "    .dataframe tbody tr th:only-of-type {\n",
       "        vertical-align: middle;\n",
       "    }\n",
       "\n",
       "    .dataframe tbody tr th {\n",
       "        vertical-align: top;\n",
       "    }\n",
       "\n",
       "    .dataframe thead th {\n",
       "        text-align: right;\n",
       "    }\n",
       "</style>\n",
       "<table border=\"1\" class=\"dataframe\">\n",
       "  <thead>\n",
       "    <tr style=\"text-align: right;\">\n",
       "      <th></th>\n",
       "      <th>SampleID_1</th>\n",
       "      <th>SampleID_2</th>\n",
       "      <th>Mash_JS</th>\n",
       "    </tr>\n",
       "  </thead>\n",
       "  <tbody>\n",
       "    <tr>\n",
       "      <th>1</th>\n",
       "      <td>GCA_014109125</td>\n",
       "      <td>GCA_014109065</td>\n",
       "      <td>0.999023</td>\n",
       "    </tr>\n",
       "    <tr>\n",
       "      <th>2</th>\n",
       "      <td>GCA_014109125</td>\n",
       "      <td>GCA_013923405</td>\n",
       "      <td>0.999439</td>\n",
       "    </tr>\n",
       "  </tbody>\n",
       "</table>\n",
       "</div>"
      ],
      "text/plain": [
       "      SampleID_1     SampleID_2   Mash_JS\n",
       "1  GCA_014109125  GCA_014109065  0.999023\n",
       "2  GCA_014109125  GCA_013923405  0.999439"
      ]
     },
     "execution_count": 59,
     "metadata": {},
     "output_type": "execute_result"
    }
   ],
   "source": [
    "LR_JaccSim_Pairwise_DF.head(2)"
   ]
  },
  {
   "cell_type": "code",
   "execution_count": 60,
   "id": "93c76f14-d14e-48cd-b6d7-ea8804161a42",
   "metadata": {},
   "outputs": [
    {
     "data": {
      "text/html": [
       "<div>\n",
       "<style scoped>\n",
       "    .dataframe tbody tr th:only-of-type {\n",
       "        vertical-align: middle;\n",
       "    }\n",
       "\n",
       "    .dataframe tbody tr th {\n",
       "        vertical-align: top;\n",
       "    }\n",
       "\n",
       "    .dataframe thead th {\n",
       "        text-align: right;\n",
       "    }\n",
       "</style>\n",
       "<table border=\"1\" class=\"dataframe\">\n",
       "  <thead>\n",
       "    <tr style=\"text-align: right;\">\n",
       "      <th></th>\n",
       "      <th>SampleID_1</th>\n",
       "      <th>SampleID_2</th>\n",
       "      <th>Mash_JS</th>\n",
       "    </tr>\n",
       "  </thead>\n",
       "  <tbody>\n",
       "    <tr>\n",
       "      <th>1143</th>\n",
       "      <td>GCA_014103465</td>\n",
       "      <td>GCA_013817505</td>\n",
       "      <td>0.052170</td>\n",
       "    </tr>\n",
       "    <tr>\n",
       "      <th>2172</th>\n",
       "      <td>GCA_013817505</td>\n",
       "      <td>GCA_014103465</td>\n",
       "      <td>0.052170</td>\n",
       "    </tr>\n",
       "    <tr>\n",
       "      <th>2173</th>\n",
       "      <td>GCA_013817505</td>\n",
       "      <td>GCA_013746655</td>\n",
       "      <td>0.052198</td>\n",
       "    </tr>\n",
       "    <tr>\n",
       "      <th>1193</th>\n",
       "      <td>GCA_013746655</td>\n",
       "      <td>GCA_013817505</td>\n",
       "      <td>0.052198</td>\n",
       "    </tr>\n",
       "  </tbody>\n",
       "</table>\n",
       "</div>"
      ],
      "text/plain": [
       "         SampleID_1     SampleID_2   Mash_JS\n",
       "1143  GCA_014103465  GCA_013817505  0.052170\n",
       "2172  GCA_013817505  GCA_014103465  0.052170\n",
       "2173  GCA_013817505  GCA_013746655  0.052198\n",
       "1193  GCA_013746655  GCA_013817505  0.052198"
      ]
     },
     "execution_count": 60,
     "metadata": {},
     "output_type": "execute_result"
    }
   ],
   "source": [
    "LR_JaccSim_Pairwise_DF.sort_values(\"Mash_JS\", ascending=True).head(4)"
   ]
  },
  {
   "cell_type": "code",
   "execution_count": 61,
   "id": "8178667c-3516-460b-94c5-34922abe19f4",
   "metadata": {},
   "outputs": [
    {
     "data": {
      "text/plain": [
       "count    2450.000000\n",
       "mean        0.299517\n",
       "std         0.190723\n",
       "min         0.052170\n",
       "25%         0.086818\n",
       "50%         0.296550\n",
       "75%         0.362437\n",
       "max         0.999934\n",
       "Name: Mash_JS, dtype: float64"
      ]
     },
     "execution_count": 61,
     "metadata": {},
     "output_type": "execute_result"
    }
   ],
   "source": [
    "LR_JaccSim_Pairwise_DF[\"Mash_JS\"].describe()"
   ]
  },
  {
   "cell_type": "code",
   "execution_count": null,
   "id": "bd82a932-b6bb-4255-9c40-1d8a480ab724",
   "metadata": {},
   "outputs": [],
   "source": []
  },
  {
   "cell_type": "markdown",
   "id": "de3da684-d4da-4e36-a3d7-23cff2811111",
   "metadata": {},
   "source": [
    "# Plot the distribution of K-mer JCs between all LR Assemblies"
   ]
  },
  {
   "cell_type": "code",
   "execution_count": 62,
   "id": "696d72dc-1ec5-4638-969e-730eebbfb3d9",
   "metadata": {},
   "outputs": [
    {
     "data": {
      "text/plain": [
       "count    2450.000000\n",
       "mean        0.299517\n",
       "std         0.190723\n",
       "min         0.052170\n",
       "25%         0.086818\n",
       "50%         0.296550\n",
       "75%         0.362437\n",
       "max         0.999934\n",
       "Name: Mash_JS, dtype: float64"
      ]
     },
     "execution_count": 62,
     "metadata": {},
     "output_type": "execute_result"
    }
   ],
   "source": [
    "LR_JaccSim_Pairwise_DF[\"Mash_JS\"].describe()"
   ]
  },
  {
   "cell_type": "code",
   "execution_count": 63,
   "id": "ddf98a8b-5e9c-4d72-9eb7-087f3117cd9e",
   "metadata": {},
   "outputs": [],
   "source": [
    "sns.set_context(\"paper\", font_scale=3)"
   ]
  },
  {
   "cell_type": "code",
   "execution_count": 99,
   "id": "871f2abc-16e2-4aef-b8c4-3f199bf5a767",
   "metadata": {},
   "outputs": [
    {
     "data": {
      "image/png": "[encoded data removed]",
      "text/plain": [
       "<Figure size 720x360 with 1 Axes>"
      ]
     },
     "metadata": {
      "needs_background": "light"
     },
     "output_type": "display_data"
    }
   ],
   "source": [
    "plt.figure(figsize = (10,5))\n",
    "\n",
    "sns.histplot(LR_JaccSim_Pairwise_DF[\"Mash_JS\"], bins = np.arange(0, 1.05, 0.0025))\n",
    "sns.despine()\n",
    "\n",
    "#plt.title(\"Distr. of pair-wise Jaccard Similarity \\n (158 Mtb isolates) \")\n",
    "plt.xlabel(\"k-mer Jaccard Index (k=31bp)\")\n",
    "\n",
    "#plt.ylabel(\"Count\")\n",
    "#plt.xlim(0.935, 1.00)\n",
    "#plt.ylim(0,4000)\n",
    "#plt.savefig(\"Results1_Plots/1.KmerJS.Histo.png\", dpi = 300)\n",
    "#plt.savefig(\"Results1_Plots/1.KmerJS.Histo.svg\")\n",
    "\n",
    "plt.show()\n"
   ]
  },
  {
   "cell_type": "code",
   "execution_count": null,
   "id": "0f9d18a0-9cb2-4b77-96d8-9b78b6c5d154",
   "metadata": {},
   "outputs": [],
   "source": []
  },
  {
   "cell_type": "code",
   "execution_count": 98,
   "id": "80cdcc81-f32e-41a6-a73d-aae073df856c",
   "metadata": {},
   "outputs": [
    {
     "data": {
      "image/png": "[encoded data removed]",
      "text/plain": [
       "<Figure size 864x288 with 1 Axes>"
      ]
     },
     "metadata": {
      "needs_background": "light"
     },
     "output_type": "display_data"
    }
   ],
   "source": [
    "fig, ax1 = plt.subplots(figsize=(12,4))\n",
    "\n",
    "#sns.set_style(None)\n",
    "#sns.set()\n",
    "\n",
    "ax1.grid(axis='y', zorder=0, linewidth=.7, color = \"white\" )\n",
    "sns.set_style(rc={'axes.facecolor': '#E8E8E8'})\n",
    "\n",
    "sns.histplot(LR_JaccSim_Pairwise_DF[\"Mash_JS\"], bins = np.arange(0, 1.05, 0.025), edgecolor='white', color = '#4F4F4F', alpha = 1, ax = ax1, zorder = 3)\n",
    "             # hist_kws={\"rwidth\":0.75,'edgecolor':'none', 'alpha':1.0})\n",
    "sns.despine()\n",
    "\n",
    "#ax1.set_axisbelow(True)\n",
    "\n",
    "\n",
    "#plt.title(\"Distr. of pair-wise predicted ANI \\n (158 Mtb isolates) \")\n",
    "\n",
    "plt.xlabel(\"k-mer Jaccard Index (k = 31 bp)\")\n",
    "#plt.ylabel(\"# of genome pairs\")\n",
    "plt.ylabel(\"Count\")\n",
    "plt.xlim(0, 1.00)\n",
    "\n",
    "ticks_ax_limewidth = 2\n",
    "\n",
    "ax1.tick_params('both', length=15, width=ticks_ax_limewidth, which='major')\n",
    "\n",
    "for axis in ['bottom','left']:\n",
    "    ax1.spines[axis].set_linewidth(ticks_ax_limewidth)\n",
    "\n",
    "#plt.tight_layout()\n",
    "\n",
    "\n",
    "\n",
    "plt.savefig(\"Results5_Plots/6.Ecoli50CI.KmerJS.Histo.png\", dpi = 300)\n",
    "plt.savefig(\"Results5_Plots/6.Ecoli50CI.KmerJS.Histo.svg\")\n",
    "plt.show()\n"
   ]
  },
  {
   "cell_type": "code",
   "execution_count": 66,
   "id": "6bb83420-d0e0-462b-bbc9-6b1f7e9ccadf",
   "metadata": {},
   "outputs": [
    {
     "data": {
      "text/html": [
       "<div>\n",
       "<style scoped>\n",
       "    .dataframe tbody tr th:only-of-type {\n",
       "        vertical-align: middle;\n",
       "    }\n",
       "\n",
       "    .dataframe tbody tr th {\n",
       "        vertical-align: top;\n",
       "    }\n",
       "\n",
       "    .dataframe thead th {\n",
       "        text-align: right;\n",
       "    }\n",
       "</style>\n",
       "<table border=\"1\" class=\"dataframe\">\n",
       "  <thead>\n",
       "    <tr style=\"text-align: right;\">\n",
       "      <th></th>\n",
       "      <th>SampleID_1</th>\n",
       "      <th>SampleID_2</th>\n",
       "      <th>Mash_JS</th>\n",
       "    </tr>\n",
       "  </thead>\n",
       "  <tbody>\n",
       "  </tbody>\n",
       "</table>\n",
       "</div>"
      ],
      "text/plain": [
       "Empty DataFrame\n",
       "Columns: [SampleID_1, SampleID_2, Mash_JS]\n",
       "Index: []"
      ]
     },
     "execution_count": 66,
     "metadata": {},
     "output_type": "execute_result"
    }
   ],
   "source": [
    "LR_JaccSim_Pairwise_DF.query(\"Mash_JS == 1\")"
   ]
  },
  {
   "cell_type": "code",
   "execution_count": null,
   "id": "e0e6dcc6-048f-4981-8893-3bab5716e881",
   "metadata": {},
   "outputs": [],
   "source": []
  },
  {
   "cell_type": "code",
   "execution_count": 67,
   "id": "267f85ea-f69d-4a1f-a831-871e0c5cda13",
   "metadata": {},
   "outputs": [
    {
     "data": {
      "image/png": "[encoded data removed]",
      "text/plain": [
       "<Figure size 720x360 with 1 Axes>"
      ]
     },
     "metadata": {
      "needs_background": "light"
     },
     "output_type": "display_data"
    }
   ],
   "source": [
    "plt.figure(figsize = (10,5))\n",
    "\n",
    "sns.histplot(LR_JaccSim_Pairwise_DF[\"Mash_JS\"], bins = np.arange(0, 1.1, 0.025))\n",
    "\n",
    "sns.despine()\n",
    "plt.title(\"Distr. of pair-wise Jaccard Index \\n (50 E.coli isolates) \")\n",
    "\n",
    "plt.xlabel(\"Jaccard Index of Kmers (k=31bp) between pair of isolates\")\n",
    "plt.ylabel(\"Count\")\n",
    "#plt.xlim(0.8, 1.01)\n",
    "\n",
    "#plt.ylim(0,4000)\n",
    "sns.despine()\n",
    "plt.show()"
   ]
  },
  {
   "cell_type": "code",
   "execution_count": null,
   "id": "a7c067e8-f03a-474c-a19f-efd3dad9a078",
   "metadata": {},
   "outputs": [],
   "source": []
  },
  {
   "cell_type": "code",
   "execution_count": null,
   "id": "8cc65831-56c2-46d5-95b2-bb5829c22896",
   "metadata": {},
   "outputs": [],
   "source": []
  },
  {
   "cell_type": "code",
   "execution_count": null,
   "id": "90261f88-d5bc-4737-8517-4c4000289f9b",
   "metadata": {},
   "outputs": [],
   "source": []
  },
  {
   "cell_type": "markdown",
   "id": "c6b2b948-7d3a-4744-a586-7ecb0ef3bbb9",
   "metadata": {},
   "source": [
    "## Make a HeatMap of Jaccard Simularity between assemblies"
   ]
  },
  {
   "cell_type": "code",
   "execution_count": 68,
   "id": "1714b3d4-56af-42ef-9754-85175640d55c",
   "metadata": {},
   "outputs": [],
   "source": [
    "#OrderOfSampleIDs_Phylo"
   ]
  },
  {
   "cell_type": "code",
   "execution_count": 69,
   "id": "9705e2b2-7782-401b-9a6c-f97410adc1a0",
   "metadata": {},
   "outputs": [
    {
     "data": {
      "text/plain": [
       "(50, 50)"
      ]
     },
     "execution_count": 69,
     "metadata": {},
     "output_type": "execute_result"
    }
   ],
   "source": [
    "# Reorder the matrix of Jaccard Sim between all assemblies to fit phylogeny\n",
    "\n",
    "AvA_LR_JS_Ordered_DF = AvA_LR_JS_DF.loc[OrderOfSampleIDs_Phylo, OrderOfSampleIDs_Phylo]\n",
    "AvA_LR_JS_Ordered_DF.shape"
   ]
  },
  {
   "cell_type": "markdown",
   "id": "1a73b4ac-4852-462c-92ac-c4200ce3f588",
   "metadata": {},
   "source": [
    "#### Make sample lineage & color mapping"
   ]
  },
  {
   "cell_type": "code",
   "execution_count": 70,
   "id": "13b04769-4b4c-4030-bde1-93b78552f00a",
   "metadata": {},
   "outputs": [
    {
     "data": {
      "image/png": "[encoded data removed]",
      "text/plain": [
       "<Figure size 1800x1800 with 6 Axes>"
      ]
     },
     "metadata": {
      "needs_background": "light"
     },
     "output_type": "display_data"
    }
   ],
   "source": [
    "fig_dims = (25, 25)\n",
    "\n",
    "row_colors = [sample_colors.get(sample, \"black\") for sample in AvA_LR_JS_Ordered_DF.index]\n",
    "col_colors = [sample_colors.get(sample, \"black\") for sample in AvA_LR_JS_Ordered_DF.columns]\n",
    "\n",
    "clustermap_plot = sns.clustermap(AvA_LR_JS_Ordered_DF, \n",
    "                                 row_colors=row_colors,\n",
    "                                 col_colors=col_colors,\n",
    "                                 figsize=fig_dims, \n",
    "                                 row_cluster=True, col_cluster=True,\n",
    "                                 #cbar_pos = None,\n",
    "                                 cmap='rocket_r',\n",
    "                                 linewidths=0,\n",
    "                                 xticklabels=False,\n",
    "                                 yticklabels=False ) #vmin = 0.93 )\n",
    "\n",
    "plt.ylabel(\"\")\n",
    "plt.xlabel(\"\")\n",
    "\n",
    "plt.savefig(\"Results5_Plots/1.KmerJS.Clustermap.NoLabels.png\", dpi = 300)\n",
    "plt.savefig(\"Results5_Plots/1.KmerJS.Clustermap.NoLabels.svg\")\n",
    "plt.show()"
   ]
  },
  {
   "cell_type": "code",
   "execution_count": null,
   "id": "5b6be94e-a9f2-412c-b077-dd35db706ae4",
   "metadata": {},
   "outputs": [],
   "source": []
  },
  {
   "cell_type": "code",
   "execution_count": 71,
   "id": "c4f6fa5e-7b33-4b71-85c2-3ca5b74b62c5",
   "metadata": {},
   "outputs": [
    {
     "data": {
      "image/png": "[encoded data removed]",
      "text/plain": [
       "<Figure size 1800x1800 with 6 Axes>"
      ]
     },
     "metadata": {
      "needs_background": "light"
     },
     "output_type": "display_data"
    }
   ],
   "source": [
    "fig_dims = (25, 25)\n",
    "\n",
    "row_colors = [sample_colors.get(sample, \"black\") for sample in AvA_LR_JS_Ordered_DF.index]\n",
    "col_colors = [sample_colors.get(sample, \"black\") for sample in AvA_LR_JS_Ordered_DF.columns]\n",
    "\n",
    "clustermap_plot = sns.clustermap(AvA_LR_JS_Ordered_DF, \n",
    "                                 row_colors=row_colors,\n",
    "                                 col_colors=col_colors,\n",
    "                                 figsize=fig_dims, \n",
    "                                 row_cluster=False, col_cluster=False,\n",
    "                                 #cbar_pos = None,\n",
    "                                 cmap='rocket_r',\n",
    "                                 linewidths=0,\n",
    "                                 xticklabels=False,\n",
    "                                 yticklabels=False, vmin = 0 )\n",
    "\n",
    "plt.ylabel(\"\")\n",
    "plt.xlabel(\"\")\n",
    "\n",
    "plt.savefig(\"Results5_Plots/6.Ecoli50CI.KmerJS.heatmap.NoLabels.png\", dpi = 300)\n",
    "plt.savefig(\"Results5_Plots/6.Ecoli50CI.KmerJS.heatmap.NoLabels.svg\")\n",
    "plt.show()"
   ]
  },
  {
   "cell_type": "code",
   "execution_count": null,
   "id": "b2292534-8bcc-4c5c-9ba0-40a0857b3769",
   "metadata": {},
   "outputs": [],
   "source": []
  },
  {
   "cell_type": "markdown",
   "id": "a739e442-63ff-49c9-9535-2dcb5a10273b",
   "metadata": {},
   "source": [
    "# Parse FastANI output (All vs All)"
   ]
  },
  {
   "cell_type": "code",
   "execution_count": 72,
   "id": "27b801ed-1705-4c85-a38d-60bbdb862cff",
   "metadata": {},
   "outputs": [],
   "source": [
    "FastANI_MainDir = f\"{target_SMK_OutputDir}/FastANI\"\n",
    "\n",
    "LR_Asm_AllVsAll_OutDir = f\"{FastANI_MainDir}/FastANI_LRAsm\"\n",
    "\n",
    "AvA_158CI_FastANI_LRAsm_TXT = f\"{LR_Asm_AllVsAll_OutDir}/FastANI.AllVsAll.LRAsm.txt\"\n",
    "\n",
    "#AvA_158CIWiH37Rv_FastANI_LRAsm_TXT = f\"{LR_Asm_AllVsAll_OutDir}/FastANI.AllVsAll.WiH37Rv.LRAsm.txt\"     \n",
    "\n"
   ]
  },
  {
   "cell_type": "code",
   "execution_count": 73,
   "id": "4d1398e2-03e3-453f-8239-2d40e3634ac6",
   "metadata": {},
   "outputs": [
    {
     "name": "stdout",
     "output_type": "stream",
     "text": [
      "total 200K\n",
      "drwxrwsr-x 2 mm774 farhat    44 Oct 12 02:24 .\n",
      "drwxrwsr-x 4 mm774 farhat    63 Oct 12 02:14 ..\n",
      "-rw-rw-r-- 1 mm774 farhat 1006K Oct 12 02:25 FastANI.AllVsAll.LRAsm.txt\n"
     ]
    }
   ],
   "source": [
    "!ls -lah $LR_Asm_AllVsAll_OutDir"
   ]
  },
  {
   "cell_type": "code",
   "execution_count": 74,
   "id": "d7d43763-7d3d-4b26-8396-0010ea2ff568",
   "metadata": {},
   "outputs": [
    {
     "data": {
      "text/plain": [
       "(2500, 5)"
      ]
     },
     "execution_count": 74,
     "metadata": {},
     "output_type": "execute_result"
    }
   ],
   "source": [
    "FANI_AvA_DF = pd.read_csv(AvA_158CI_FastANI_LRAsm_TXT, sep = \"\\t\", header = None)\n",
    "FANI_AvA_DF.columns = [\"Query\", \"Ref\", \"ANI\", \"Bidirect_FragMap\", \"Total_Query_Frags\"]\n",
    "\n",
    "# Trim down full file path to JUST the SampleID (For Query and Reference genomes)\n",
    "FANI_AvA_DF[\"Query\"] = FANI_AvA_DF[\"Query\"].str.split(\"/\").str[-1].str.split(\".\").str[0]\n",
    "FANI_AvA_DF[\"Ref\"] = FANI_AvA_DF[\"Ref\"].str.split(\"/\").str[-1].str.split(\".\").str[0]\n",
    "\n",
    "FANI_AvA_DF.shape"
   ]
  },
  {
   "cell_type": "code",
   "execution_count": 75,
   "id": "bf9f2d8c-88af-43d1-92d5-09796daed885",
   "metadata": {},
   "outputs": [
    {
     "data": {
      "text/html": [
       "<div>\n",
       "<style scoped>\n",
       "    .dataframe tbody tr th:only-of-type {\n",
       "        vertical-align: middle;\n",
       "    }\n",
       "\n",
       "    .dataframe tbody tr th {\n",
       "        vertical-align: top;\n",
       "    }\n",
       "\n",
       "    .dataframe thead th {\n",
       "        text-align: right;\n",
       "    }\n",
       "</style>\n",
       "<table border=\"1\" class=\"dataframe\">\n",
       "  <thead>\n",
       "    <tr style=\"text-align: right;\">\n",
       "      <th></th>\n",
       "      <th>Query</th>\n",
       "      <th>Ref</th>\n",
       "      <th>ANI</th>\n",
       "      <th>Bidirect_FragMap</th>\n",
       "      <th>Total_Query_Frags</th>\n",
       "    </tr>\n",
       "  </thead>\n",
       "  <tbody>\n",
       "    <tr>\n",
       "      <th>0</th>\n",
       "      <td>GCA_014109125</td>\n",
       "      <td>GCA_014109125</td>\n",
       "      <td>100.0000</td>\n",
       "      <td>1648</td>\n",
       "      <td>1650</td>\n",
       "    </tr>\n",
       "    <tr>\n",
       "      <th>1</th>\n",
       "      <td>GCA_014109125</td>\n",
       "      <td>GCA_013923405</td>\n",
       "      <td>99.9987</td>\n",
       "      <td>1646</td>\n",
       "      <td>1650</td>\n",
       "    </tr>\n",
       "  </tbody>\n",
       "</table>\n",
       "</div>"
      ],
      "text/plain": [
       "           Query            Ref       ANI  Bidirect_FragMap  Total_Query_Frags\n",
       "0  GCA_014109125  GCA_014109125  100.0000              1648               1650\n",
       "1  GCA_014109125  GCA_013923405   99.9987              1646               1650"
      ]
     },
     "execution_count": 75,
     "metadata": {},
     "output_type": "execute_result"
    }
   ],
   "source": [
    "FANI_AvA_DF.head(2)"
   ]
  },
  {
   "cell_type": "code",
   "execution_count": 76,
   "id": "e5933d89-9587-4945-b502-200532ed1a23",
   "metadata": {},
   "outputs": [
    {
     "data": {
      "text/plain": [
       "(2450, 5)"
      ]
     },
     "execution_count": 76,
     "metadata": {},
     "output_type": "execute_result"
    }
   ],
   "source": [
    "FANI_AvA_NoSelf_DF = FANI_AvA_DF.query(\" Query != Ref \")\n",
    "FANI_AvA_NoSelf_DF.shape"
   ]
  },
  {
   "cell_type": "code",
   "execution_count": 77,
   "id": "ac724a7c-805a-4b85-ab6c-d3c5f0183806",
   "metadata": {},
   "outputs": [
    {
     "data": {
      "text/plain": [
       "count    2450.000000\n",
       "mean       95.996657\n",
       "std         2.756381\n",
       "min        90.635900\n",
       "25%        92.439350\n",
       "50%        97.067500\n",
       "75%        97.560875\n",
       "max        99.999800\n",
       "Name: ANI, dtype: float64"
      ]
     },
     "execution_count": 77,
     "metadata": {},
     "output_type": "execute_result"
    }
   ],
   "source": [
    "FANI_AvA_NoSelf_DF[\"ANI\"].describe()"
   ]
  },
  {
   "cell_type": "code",
   "execution_count": null,
   "id": "a848bb6f-87f3-4005-8cb3-3cc2a6ef6b28",
   "metadata": {},
   "outputs": [],
   "source": []
  },
  {
   "cell_type": "code",
   "execution_count": 78,
   "id": "431b5cd1-0ee4-4889-9b47-250c6adbf929",
   "metadata": {},
   "outputs": [
    {
     "data": {
      "text/html": [
       "<div>\n",
       "<style scoped>\n",
       "    .dataframe tbody tr th:only-of-type {\n",
       "        vertical-align: middle;\n",
       "    }\n",
       "\n",
       "    .dataframe tbody tr th {\n",
       "        vertical-align: top;\n",
       "    }\n",
       "\n",
       "    .dataframe thead th {\n",
       "        text-align: right;\n",
       "    }\n",
       "</style>\n",
       "<table border=\"1\" class=\"dataframe\">\n",
       "  <thead>\n",
       "    <tr style=\"text-align: right;\">\n",
       "      <th></th>\n",
       "      <th>Query</th>\n",
       "      <th>Ref</th>\n",
       "      <th>ANI</th>\n",
       "      <th>Bidirect_FragMap</th>\n",
       "      <th>Total_Query_Frags</th>\n",
       "    </tr>\n",
       "  </thead>\n",
       "  <tbody>\n",
       "    <tr>\n",
       "      <th>1</th>\n",
       "      <td>GCA_014109125</td>\n",
       "      <td>GCA_013923405</td>\n",
       "      <td>99.9987</td>\n",
       "      <td>1646</td>\n",
       "      <td>1650</td>\n",
       "    </tr>\n",
       "    <tr>\n",
       "      <th>2</th>\n",
       "      <td>GCA_014109125</td>\n",
       "      <td>GCA_014109065</td>\n",
       "      <td>99.9982</td>\n",
       "      <td>1646</td>\n",
       "      <td>1650</td>\n",
       "    </tr>\n",
       "  </tbody>\n",
       "</table>\n",
       "</div>"
      ],
      "text/plain": [
       "           Query            Ref      ANI  Bidirect_FragMap  Total_Query_Frags\n",
       "1  GCA_014109125  GCA_013923405  99.9987              1646               1650\n",
       "2  GCA_014109125  GCA_014109065  99.9982              1646               1650"
      ]
     },
     "execution_count": 78,
     "metadata": {},
     "output_type": "execute_result"
    }
   ],
   "source": [
    "FANI_AvA_NoSelf_DF.head(2)"
   ]
  },
  {
   "cell_type": "code",
   "execution_count": 79,
   "id": "a6bc0130-81b9-4f12-9d4c-2353d3ffada6",
   "metadata": {},
   "outputs": [],
   "source": [
    "#FANI_AvA_Ordered_DF = FANI_AvA_DF.loc[OrderOfSampleIDs_Phylo, OrderOfSampleIDs_Phylo]\n",
    "#FANI_AvA_Ordered_DF.shape"
   ]
  },
  {
   "cell_type": "code",
   "execution_count": 80,
   "id": "630fda42-9c73-475d-8203-d44c6f90110a",
   "metadata": {},
   "outputs": [
    {
     "data": {
      "text/html": [
       "<div>\n",
       "<style scoped>\n",
       "    .dataframe tbody tr th:only-of-type {\n",
       "        vertical-align: middle;\n",
       "    }\n",
       "\n",
       "    .dataframe tbody tr th {\n",
       "        vertical-align: top;\n",
       "    }\n",
       "\n",
       "    .dataframe thead th {\n",
       "        text-align: right;\n",
       "    }\n",
       "</style>\n",
       "<table border=\"1\" class=\"dataframe\">\n",
       "  <thead>\n",
       "    <tr style=\"text-align: right;\">\n",
       "      <th></th>\n",
       "      <th>Query</th>\n",
       "      <th>Ref</th>\n",
       "      <th>ANI</th>\n",
       "      <th>Bidirect_FragMap</th>\n",
       "      <th>Total_Query_Frags</th>\n",
       "    </tr>\n",
       "  </thead>\n",
       "  <tbody>\n",
       "    <tr>\n",
       "      <th>1299</th>\n",
       "      <td>GCA_013732895</td>\n",
       "      <td>GCA_013894235</td>\n",
       "      <td>90.6359</td>\n",
       "      <td>1243</td>\n",
       "      <td>1692</td>\n",
       "    </tr>\n",
       "    <tr>\n",
       "      <th>1199</th>\n",
       "      <td>GCA_013746655</td>\n",
       "      <td>GCA_013894235</td>\n",
       "      <td>90.6433</td>\n",
       "      <td>1242</td>\n",
       "      <td>1696</td>\n",
       "    </tr>\n",
       "    <tr>\n",
       "      <th>2149</th>\n",
       "      <td>GCA_013894235</td>\n",
       "      <td>GCA_013732895</td>\n",
       "      <td>90.6601</td>\n",
       "      <td>1239</td>\n",
       "      <td>1452</td>\n",
       "    </tr>\n",
       "    <tr>\n",
       "      <th>2148</th>\n",
       "      <td>GCA_013894235</td>\n",
       "      <td>GCA_013745515</td>\n",
       "      <td>90.6869</td>\n",
       "      <td>1237</td>\n",
       "      <td>1452</td>\n",
       "    </tr>\n",
       "    <tr>\n",
       "      <th>1149</th>\n",
       "      <td>GCA_014103465</td>\n",
       "      <td>GCA_013894235</td>\n",
       "      <td>90.6908</td>\n",
       "      <td>1239</td>\n",
       "      <td>1639</td>\n",
       "    </tr>\n",
       "    <tr>\n",
       "      <th>1148</th>\n",
       "      <td>GCA_014103465</td>\n",
       "      <td>GCA_013817505</td>\n",
       "      <td>90.7017</td>\n",
       "      <td>1232</td>\n",
       "      <td>1639</td>\n",
       "    </tr>\n",
       "    <tr>\n",
       "      <th>1298</th>\n",
       "      <td>GCA_013732895</td>\n",
       "      <td>GCA_013817505</td>\n",
       "      <td>90.7159</td>\n",
       "      <td>1238</td>\n",
       "      <td>1692</td>\n",
       "    </tr>\n",
       "    <tr>\n",
       "      <th>2147</th>\n",
       "      <td>GCA_013894235</td>\n",
       "      <td>GCA_013746655</td>\n",
       "      <td>90.7361</td>\n",
       "      <td>1236</td>\n",
       "      <td>1452</td>\n",
       "    </tr>\n",
       "    <tr>\n",
       "      <th>2146</th>\n",
       "      <td>GCA_013894235</td>\n",
       "      <td>GCA_014103665</td>\n",
       "      <td>90.7450</td>\n",
       "      <td>1217</td>\n",
       "      <td>1452</td>\n",
       "    </tr>\n",
       "    <tr>\n",
       "      <th>2145</th>\n",
       "      <td>GCA_013894235</td>\n",
       "      <td>GCA_014103465</td>\n",
       "      <td>90.7452</td>\n",
       "      <td>1239</td>\n",
       "      <td>1452</td>\n",
       "    </tr>\n",
       "    <tr>\n",
       "      <th>2199</th>\n",
       "      <td>GCA_013817505</td>\n",
       "      <td>GCA_013732895</td>\n",
       "      <td>90.7480</td>\n",
       "      <td>1234</td>\n",
       "      <td>1457</td>\n",
       "    </tr>\n",
       "    <tr>\n",
       "      <th>1198</th>\n",
       "      <td>GCA_013746655</td>\n",
       "      <td>GCA_013817505</td>\n",
       "      <td>90.7488</td>\n",
       "      <td>1227</td>\n",
       "      <td>1696</td>\n",
       "    </tr>\n",
       "    <tr>\n",
       "      <th>1249</th>\n",
       "      <td>GCA_013745515</td>\n",
       "      <td>GCA_013894235</td>\n",
       "      <td>90.7519</td>\n",
       "      <td>1235</td>\n",
       "      <td>1628</td>\n",
       "    </tr>\n",
       "    <tr>\n",
       "      <th>1099</th>\n",
       "      <td>GCA_014103665</td>\n",
       "      <td>GCA_013894235</td>\n",
       "      <td>90.7605</td>\n",
       "      <td>1239</td>\n",
       "      <td>1647</td>\n",
       "    </tr>\n",
       "    <tr>\n",
       "      <th>1248</th>\n",
       "      <td>GCA_013745515</td>\n",
       "      <td>GCA_013817505</td>\n",
       "      <td>90.7650</td>\n",
       "      <td>1241</td>\n",
       "      <td>1628</td>\n",
       "    </tr>\n",
       "  </tbody>\n",
       "</table>\n",
       "</div>"
      ],
      "text/plain": [
       "              Query            Ref      ANI  Bidirect_FragMap  \\\n",
       "1299  GCA_013732895  GCA_013894235  90.6359              1243   \n",
       "1199  GCA_013746655  GCA_013894235  90.6433              1242   \n",
       "2149  GCA_013894235  GCA_013732895  90.6601              1239   \n",
       "2148  GCA_013894235  GCA_013745515  90.6869              1237   \n",
       "1149  GCA_014103465  GCA_013894235  90.6908              1239   \n",
       "1148  GCA_014103465  GCA_013817505  90.7017              1232   \n",
       "1298  GCA_013732895  GCA_013817505  90.7159              1238   \n",
       "2147  GCA_013894235  GCA_013746655  90.7361              1236   \n",
       "2146  GCA_013894235  GCA_014103665  90.7450              1217   \n",
       "2145  GCA_013894235  GCA_014103465  90.7452              1239   \n",
       "2199  GCA_013817505  GCA_013732895  90.7480              1234   \n",
       "1198  GCA_013746655  GCA_013817505  90.7488              1227   \n",
       "1249  GCA_013745515  GCA_013894235  90.7519              1235   \n",
       "1099  GCA_014103665  GCA_013894235  90.7605              1239   \n",
       "1248  GCA_013745515  GCA_013817505  90.7650              1241   \n",
       "\n",
       "      Total_Query_Frags  \n",
       "1299               1692  \n",
       "1199               1696  \n",
       "2149               1452  \n",
       "2148               1452  \n",
       "1149               1639  \n",
       "1148               1639  \n",
       "1298               1692  \n",
       "2147               1452  \n",
       "2146               1452  \n",
       "2145               1452  \n",
       "2199               1457  \n",
       "1198               1696  \n",
       "1249               1628  \n",
       "1099               1647  \n",
       "1248               1628  "
      ]
     },
     "execution_count": 80,
     "metadata": {},
     "output_type": "execute_result"
    }
   ],
   "source": [
    "FANI_AvA_NoSelf_DF.sort_values(\"ANI\", ascending=True).head(15)"
   ]
  },
  {
   "cell_type": "code",
   "execution_count": 81,
   "id": "7ddcbe8f-f0f9-4539-8ed0-37d136ce676e",
   "metadata": {},
   "outputs": [
    {
     "data": {
      "text/plain": [
       "'cladeV'"
      ]
     },
     "execution_count": 81,
     "metadata": {},
     "output_type": "execute_result"
    }
   ],
   "source": [
    "ID_To_Lineage_Dict[\"GCA_013745515\"]"
   ]
  },
  {
   "cell_type": "code",
   "execution_count": 82,
   "id": "c5bbe099-891b-44cd-83e5-6dbaec6fb9eb",
   "metadata": {},
   "outputs": [
    {
     "data": {
      "text/plain": [
       "'cladeV'"
      ]
     },
     "execution_count": 82,
     "metadata": {},
     "output_type": "execute_result"
    }
   ],
   "source": [
    "ID_To_Lineage_Dict[\"GCA_014103665\"]"
   ]
  },
  {
   "cell_type": "code",
   "execution_count": 83,
   "id": "c5e5391e-8667-4d15-998e-3cd3905878e8",
   "metadata": {},
   "outputs": [
    {
     "data": {
      "text/plain": [
       "'F'"
      ]
     },
     "execution_count": 83,
     "metadata": {},
     "output_type": "execute_result"
    }
   ],
   "source": [
    "ID_To_Lineage_Dict[\"GCA_013894235\"]"
   ]
  },
  {
   "cell_type": "code",
   "execution_count": null,
   "id": "c4af58a5-2d53-4225-b684-cb25509dd401",
   "metadata": {},
   "outputs": [],
   "source": []
  },
  {
   "cell_type": "markdown",
   "id": "18ae33ae-e89a-49d3-a174-9a687c6ba64d",
   "metadata": {},
   "source": [
    "# Plot the distribution of pairwise predicted ANIs "
   ]
  },
  {
   "cell_type": "code",
   "execution_count": 84,
   "id": "2c88c193-6db7-403b-bb89-a8a3dc804ddd",
   "metadata": {},
   "outputs": [
    {
     "data": {
      "text/plain": [
       "count    2450.000000\n",
       "mean       95.996657\n",
       "std         2.756381\n",
       "min        90.635900\n",
       "25%        92.439350\n",
       "50%        97.067500\n",
       "75%        97.560875\n",
       "max        99.999800\n",
       "Name: ANI, dtype: float64"
      ]
     },
     "execution_count": 84,
     "metadata": {},
     "output_type": "execute_result"
    }
   ],
   "source": [
    "FANI_AvA_NoSelf_DF[\"ANI\"].describe()"
   ]
  },
  {
   "cell_type": "code",
   "execution_count": 85,
   "id": "6c41b568-3dbe-44a9-b87f-5c536d59e28a",
   "metadata": {},
   "outputs": [],
   "source": [
    "sns.set_context(\"paper\", font_scale=3)\n"
   ]
  },
  {
   "cell_type": "code",
   "execution_count": 86,
   "id": "82e34081-c623-4b2c-882c-80c35ccabbcc",
   "metadata": {},
   "outputs": [
    {
     "data": {
      "text/plain": [
       "count    2450.000000\n",
       "mean       95.996657\n",
       "std         2.756381\n",
       "min        90.635900\n",
       "25%        92.439350\n",
       "50%        97.067500\n",
       "75%        97.560875\n",
       "max        99.999800\n",
       "Name: ANI, dtype: float64"
      ]
     },
     "execution_count": 86,
     "metadata": {},
     "output_type": "execute_result"
    }
   ],
   "source": [
    "FANI_AvA_NoSelf_DF[\"ANI\"].describe()"
   ]
  },
  {
   "cell_type": "code",
   "execution_count": 87,
   "id": "8491b2d8-1a12-4bf5-85a1-45352ff22433",
   "metadata": {},
   "outputs": [],
   "source": [
    "sns.set_context(\"paper\", font_scale=3)\n"
   ]
  },
  {
   "cell_type": "code",
   "execution_count": 88,
   "id": "f36e1ce5-c2fc-4313-92d5-8bed7dea3d94",
   "metadata": {},
   "outputs": [
    {
     "data": {
      "image/png": "[encoded data removed]",
      "text/plain": [
       "<Figure size 864x288 with 1 Axes>"
      ]
     },
     "metadata": {
      "needs_background": "light"
     },
     "output_type": "display_data"
    }
   ],
   "source": [
    "fig, ax1 = plt.subplots(figsize=(12,4))\n",
    "\n",
    "#sns.set_style(None)\n",
    "#sns.set()\n",
    "\n",
    "ax1.grid(axis='y', zorder=0, linewidth=.7, color = \"white\" )\n",
    "sns.set_style(rc={'axes.facecolor': '#E8E8E8'})\n",
    "\n",
    "sns.histplot(FANI_AvA_NoSelf_DF[\"ANI\"],  bins = np.arange(90, 101, 0.25),\n",
    "             edgecolor='white', color = '#4F4F4F',\n",
    "             alpha = 1, ax = ax1, zorder = 3)\n",
    "\n",
    "sns.despine()\n",
    "\n",
    "plt.xlabel(\"Estimated ANI (%)\")\n",
    "plt.ylabel(\"Count\")\n",
    "plt.xlim(90, 100)\n",
    "\n",
    "ticks_ax_limewidth = 2\n",
    "ax1.tick_params('both', length=15, width=ticks_ax_limewidth, which='major')\n",
    "\n",
    "for axis in ['bottom','left']:\n",
    "    ax1.spines[axis].set_linewidth(ticks_ax_limewidth)\n",
    "\n",
    "plt.savefig(\"Results5_Plots/6.Ecoli50CI.ANI.Histo.png\", dpi = 300)\n",
    "plt.savefig(\"Results5_Plots/6.Ecoli50CI.ANI.Histo.svg\")\n",
    "\n",
    "plt.show()\n"
   ]
  },
  {
   "cell_type": "code",
   "execution_count": null,
   "id": "a19370de-e3ec-428c-978d-bd9c029717ab",
   "metadata": {},
   "outputs": [],
   "source": []
  },
  {
   "cell_type": "code",
   "execution_count": 89,
   "id": "74510639-de6f-46e4-bee4-a1df759011bd",
   "metadata": {},
   "outputs": [
    {
     "data": {
      "text/html": [
       "<div>\n",
       "<style scoped>\n",
       "    .dataframe tbody tr th:only-of-type {\n",
       "        vertical-align: middle;\n",
       "    }\n",
       "\n",
       "    .dataframe tbody tr th {\n",
       "        vertical-align: top;\n",
       "    }\n",
       "\n",
       "    .dataframe thead th {\n",
       "        text-align: right;\n",
       "    }\n",
       "</style>\n",
       "<table border=\"1\" class=\"dataframe\">\n",
       "  <thead>\n",
       "    <tr style=\"text-align: right;\">\n",
       "      <th></th>\n",
       "      <th>Query</th>\n",
       "      <th>Ref</th>\n",
       "      <th>ANI</th>\n",
       "      <th>Bidirect_FragMap</th>\n",
       "      <th>Total_Query_Frags</th>\n",
       "    </tr>\n",
       "  </thead>\n",
       "  <tbody>\n",
       "    <tr>\n",
       "      <th>0</th>\n",
       "      <td>GCA_014109125</td>\n",
       "      <td>GCA_014109125</td>\n",
       "      <td>100.0000</td>\n",
       "      <td>1648</td>\n",
       "      <td>1650</td>\n",
       "    </tr>\n",
       "    <tr>\n",
       "      <th>1</th>\n",
       "      <td>GCA_014109125</td>\n",
       "      <td>GCA_013923405</td>\n",
       "      <td>99.9987</td>\n",
       "      <td>1646</td>\n",
       "      <td>1650</td>\n",
       "    </tr>\n",
       "    <tr>\n",
       "      <th>2</th>\n",
       "      <td>GCA_014109125</td>\n",
       "      <td>GCA_014109065</td>\n",
       "      <td>99.9982</td>\n",
       "      <td>1646</td>\n",
       "      <td>1650</td>\n",
       "    </tr>\n",
       "    <tr>\n",
       "      <th>3</th>\n",
       "      <td>GCA_014109125</td>\n",
       "      <td>GCA_013821965</td>\n",
       "      <td>99.4979</td>\n",
       "      <td>1482</td>\n",
       "      <td>1650</td>\n",
       "    </tr>\n",
       "    <tr>\n",
       "      <th>4</th>\n",
       "      <td>GCA_014109125</td>\n",
       "      <td>GCA_013750375</td>\n",
       "      <td>98.4922</td>\n",
       "      <td>1447</td>\n",
       "      <td>1650</td>\n",
       "    </tr>\n",
       "  </tbody>\n",
       "</table>\n",
       "</div>"
      ],
      "text/plain": [
       "           Query            Ref       ANI  Bidirect_FragMap  Total_Query_Frags\n",
       "0  GCA_014109125  GCA_014109125  100.0000              1648               1650\n",
       "1  GCA_014109125  GCA_013923405   99.9987              1646               1650\n",
       "2  GCA_014109125  GCA_014109065   99.9982              1646               1650\n",
       "3  GCA_014109125  GCA_013821965   99.4979              1482               1650\n",
       "4  GCA_014109125  GCA_013750375   98.4922              1447               1650"
      ]
     },
     "execution_count": 89,
     "metadata": {},
     "output_type": "execute_result"
    }
   ],
   "source": [
    "FANI_AvA_DF.head()"
   ]
  },
  {
   "cell_type": "code",
   "execution_count": 90,
   "id": "16348571-f0a0-4d03-93c0-50de2c005ceb",
   "metadata": {},
   "outputs": [
    {
     "data": {
      "text/plain": [
       "count    2500.000000\n",
       "mean       96.076723\n",
       "std         2.785654\n",
       "min        90.635900\n",
       "25%        96.471000\n",
       "50%        97.077050\n",
       "75%        97.674525\n",
       "max       100.000000\n",
       "Name: ANI, dtype: float64"
      ]
     },
     "execution_count": 90,
     "metadata": {},
     "output_type": "execute_result"
    }
   ],
   "source": [
    "FANI_AvA_DF[\"ANI\"].describe()"
   ]
  },
  {
   "cell_type": "code",
   "execution_count": 91,
   "id": "ff96e7ae-d677-44c1-9d83-397921df1c1a",
   "metadata": {},
   "outputs": [
    {
     "data": {
      "text/plain": [
       "(50, 50)"
      ]
     },
     "execution_count": 91,
     "metadata": {},
     "output_type": "execute_result"
    }
   ],
   "source": [
    "FANI_AvA_Pivot = FANI_AvA_DF.pivot(index='Query', columns='Ref', values='ANI')\n",
    "FANI_AvA_Pivot.shape"
   ]
  },
  {
   "cell_type": "code",
   "execution_count": 92,
   "id": "89199882-105d-4340-9386-20a9e3942dbf",
   "metadata": {},
   "outputs": [
    {
     "data": {
      "text/html": [
       "<div>\n",
       "<style scoped>\n",
       "    .dataframe tbody tr th:only-of-type {\n",
       "        vertical-align: middle;\n",
       "    }\n",
       "\n",
       "    .dataframe tbody tr th {\n",
       "        vertical-align: top;\n",
       "    }\n",
       "\n",
       "    .dataframe thead th {\n",
       "        text-align: right;\n",
       "    }\n",
       "</style>\n",
       "<table border=\"1\" class=\"dataframe\">\n",
       "  <thead>\n",
       "    <tr style=\"text-align: right;\">\n",
       "      <th>Ref</th>\n",
       "      <th>GCA_013602835</th>\n",
       "      <th>GCA_013712565</th>\n",
       "      <th>GCA_013713325</th>\n",
       "      <th>GCA_013728735</th>\n",
       "      <th>GCA_013732895</th>\n",
       "      <th>GCA_013745515</th>\n",
       "      <th>GCA_013746655</th>\n",
       "      <th>GCA_013750375</th>\n",
       "      <th>GCA_013752075</th>\n",
       "      <th>GCA_013752295</th>\n",
       "      <th>...</th>\n",
       "      <th>GCA_013899665</th>\n",
       "      <th>GCA_013900245</th>\n",
       "      <th>GCA_013923405</th>\n",
       "      <th>GCA_013924285</th>\n",
       "      <th>GCA_013928845</th>\n",
       "      <th>GCA_014103195</th>\n",
       "      <th>GCA_014103465</th>\n",
       "      <th>GCA_014103665</th>\n",
       "      <th>GCA_014109065</th>\n",
       "      <th>GCA_014109125</th>\n",
       "    </tr>\n",
       "    <tr>\n",
       "      <th>Query</th>\n",
       "      <th></th>\n",
       "      <th></th>\n",
       "      <th></th>\n",
       "      <th></th>\n",
       "      <th></th>\n",
       "      <th></th>\n",
       "      <th></th>\n",
       "      <th></th>\n",
       "      <th></th>\n",
       "      <th></th>\n",
       "      <th></th>\n",
       "      <th></th>\n",
       "      <th></th>\n",
       "      <th></th>\n",
       "      <th></th>\n",
       "      <th></th>\n",
       "      <th></th>\n",
       "      <th></th>\n",
       "      <th></th>\n",
       "      <th></th>\n",
       "      <th></th>\n",
       "    </tr>\n",
       "  </thead>\n",
       "  <tbody>\n",
       "    <tr>\n",
       "      <th>GCA_013602835</th>\n",
       "      <td>100.0000</td>\n",
       "      <td>97.0124</td>\n",
       "      <td>97.0169</td>\n",
       "      <td>97.4333</td>\n",
       "      <td>91.0448</td>\n",
       "      <td>91.1979</td>\n",
       "      <td>91.1118</td>\n",
       "      <td>97.1085</td>\n",
       "      <td>96.9546</td>\n",
       "      <td>97.0905</td>\n",
       "      <td>...</td>\n",
       "      <td>97.1823</td>\n",
       "      <td>97.2823</td>\n",
       "      <td>97.0678</td>\n",
       "      <td>97.2269</td>\n",
       "      <td>97.2335</td>\n",
       "      <td>99.0782</td>\n",
       "      <td>91.0525</td>\n",
       "      <td>91.1581</td>\n",
       "      <td>97.0600</td>\n",
       "      <td>97.0620</td>\n",
       "    </tr>\n",
       "    <tr>\n",
       "      <th>GCA_013712565</th>\n",
       "      <td>97.0085</td>\n",
       "      <td>100.0000</td>\n",
       "      <td>99.9996</td>\n",
       "      <td>97.1395</td>\n",
       "      <td>90.9226</td>\n",
       "      <td>91.0658</td>\n",
       "      <td>91.0005</td>\n",
       "      <td>99.4074</td>\n",
       "      <td>98.6550</td>\n",
       "      <td>99.3682</td>\n",
       "      <td>...</td>\n",
       "      <td>98.7837</td>\n",
       "      <td>97.0398</td>\n",
       "      <td>98.4176</td>\n",
       "      <td>96.5898</td>\n",
       "      <td>96.6453</td>\n",
       "      <td>97.0217</td>\n",
       "      <td>91.0429</td>\n",
       "      <td>91.1236</td>\n",
       "      <td>98.4108</td>\n",
       "      <td>98.4013</td>\n",
       "    </tr>\n",
       "  </tbody>\n",
       "</table>\n",
       "<p>2 rows × 50 columns</p>\n",
       "</div>"
      ],
      "text/plain": [
       "Ref            GCA_013602835  GCA_013712565  GCA_013713325  GCA_013728735  \\\n",
       "Query                                                                       \n",
       "GCA_013602835       100.0000        97.0124        97.0169        97.4333   \n",
       "GCA_013712565        97.0085       100.0000        99.9996        97.1395   \n",
       "\n",
       "Ref            GCA_013732895  GCA_013745515  GCA_013746655  GCA_013750375  \\\n",
       "Query                                                                       \n",
       "GCA_013602835        91.0448        91.1979        91.1118        97.1085   \n",
       "GCA_013712565        90.9226        91.0658        91.0005        99.4074   \n",
       "\n",
       "Ref            GCA_013752075  GCA_013752295  ...  GCA_013899665  \\\n",
       "Query                                        ...                  \n",
       "GCA_013602835        96.9546        97.0905  ...        97.1823   \n",
       "GCA_013712565        98.6550        99.3682  ...        98.7837   \n",
       "\n",
       "Ref            GCA_013900245  GCA_013923405  GCA_013924285  GCA_013928845  \\\n",
       "Query                                                                       \n",
       "GCA_013602835        97.2823        97.0678        97.2269        97.2335   \n",
       "GCA_013712565        97.0398        98.4176        96.5898        96.6453   \n",
       "\n",
       "Ref            GCA_014103195  GCA_014103465  GCA_014103665  GCA_014109065  \\\n",
       "Query                                                                       \n",
       "GCA_013602835        99.0782        91.0525        91.1581        97.0600   \n",
       "GCA_013712565        97.0217        91.0429        91.1236        98.4108   \n",
       "\n",
       "Ref            GCA_014109125  \n",
       "Query                         \n",
       "GCA_013602835        97.0620  \n",
       "GCA_013712565        98.4013  \n",
       "\n",
       "[2 rows x 50 columns]"
      ]
     },
     "execution_count": 92,
     "metadata": {},
     "output_type": "execute_result"
    }
   ],
   "source": [
    "FANI_AvA_Pivot.head(2)"
   ]
  },
  {
   "cell_type": "code",
   "execution_count": 93,
   "id": "8380ccce-d632-4cf7-805e-f1e55793e907",
   "metadata": {},
   "outputs": [
    {
     "data": {
      "text/plain": [
       "(50, 50)"
      ]
     },
     "execution_count": 93,
     "metadata": {},
     "output_type": "execute_result"
    }
   ],
   "source": [
    "\n",
    "FANI_AvA_Pivot_Ordered = FANI_AvA_Pivot.loc[OrderOfSampleIDs_Phylo, OrderOfSampleIDs_Phylo]\n",
    "FANI_AvA_Pivot_Ordered.shape"
   ]
  },
  {
   "cell_type": "code",
   "execution_count": 94,
   "id": "b377b7e9-0bbf-4777-b2f4-4a778bc0e7eb",
   "metadata": {},
   "outputs": [],
   "source": [
    "# fig, ax1 = plt.subplots(figsize=(30,30))\n",
    "\n",
    "# sns.heatmap(FANI_AvA_Pivot_Ordered, vmin = 99.7, ax = ax1)\n",
    "\n",
    "# # https://github.com/mwaskom/seaborn/issues/1773\n",
    "# b, t = plt.ylim() # discover the values for bottom and top\n",
    "# b += 0.5 # Add 0.5 to the bottom\n",
    "# t -= 0.5 # Subtract 0.5 from the top\n",
    "# plt.ylim(b, t) # update the ylim(bottom, top) values\n",
    "# plt.show() "
   ]
  },
  {
   "cell_type": "code",
   "execution_count": null,
   "id": "a0cef392-ed22-410f-a6e0-bc07b8f99df6",
   "metadata": {},
   "outputs": [],
   "source": []
  },
  {
   "cell_type": "code",
   "execution_count": 95,
   "id": "04be8711-05f5-4083-8d42-e182532f1df4",
   "metadata": {},
   "outputs": [
    {
     "data": {
      "image/png": "[encoded data removed]",
      "text/plain": [
       "<Figure size 1800x1800 with 6 Axes>"
      ]
     },
     "metadata": {
      "needs_background": "light"
     },
     "output_type": "display_data"
    }
   ],
   "source": [
    "fig_dims = (25, 25)\n",
    "\n",
    "row_colors = [sample_colors.get(sample, \"black\") for sample in FANI_AvA_Pivot_Ordered.index]\n",
    "col_colors = [sample_colors.get(sample, \"black\") for sample in FANI_AvA_Pivot_Ordered.columns]\n",
    "\n",
    "g = clustermap_plot = sns.clustermap(FANI_AvA_Pivot_Ordered, \n",
    "                                 row_colors=row_colors,\n",
    "                                 col_colors=col_colors,\n",
    "                                 figsize=fig_dims, \n",
    "                                 row_cluster=True, col_cluster=True,\n",
    "                                 #cbar_pos = None,\n",
    "                                 cmap='rocket_r',\n",
    "                                 linewidths=0,\n",
    "                                 xticklabels=False,\n",
    "                                 yticklabels=False, vmin = 90 )\n",
    "\n",
    "\n",
    "plt.ylabel(\"\")\n",
    "plt.xlabel(\"\")\n",
    "\n",
    "plt.savefig(\"Results5_Plots/6.Ecoli50CI.ANI.ClusterMap.NoLabels.png\", dpi = 300)\n",
    "plt.savefig(\"Results5_Plots/6.Ecoli50CI.ANI.ClusterMap.NoLabels.svg\")\n",
    "plt.show()"
   ]
  },
  {
   "cell_type": "code",
   "execution_count": null,
   "id": "4855033d-1d3d-449a-827c-aa157f683d25",
   "metadata": {},
   "outputs": [],
   "source": []
  },
  {
   "cell_type": "code",
   "execution_count": 96,
   "id": "a1c9fdb4-0811-475f-9269-b4bbb46dc3bb",
   "metadata": {},
   "outputs": [
    {
     "data": {
      "image/png": "[encoded data removed]",
      "text/plain": [
       "<Figure size 1800x1800 with 6 Axes>"
      ]
     },
     "metadata": {
      "needs_background": "light"
     },
     "output_type": "display_data"
    }
   ],
   "source": [
    "fig_dims = (25, 25)\n",
    "\n",
    "row_colors = [sample_colors.get(sample, \"black\") for sample in FANI_AvA_Pivot_Ordered.index]\n",
    "col_colors = [sample_colors.get(sample, \"black\") for sample in FANI_AvA_Pivot_Ordered.columns]\n",
    "\n",
    "g = clustermap_plot = sns.clustermap(FANI_AvA_Pivot_Ordered, \n",
    "                                 row_colors=row_colors,\n",
    "                                 col_colors=col_colors,\n",
    "                                 figsize=fig_dims, \n",
    "                                 row_cluster=False, col_cluster=False,\n",
    "                                 #cbar_pos = None,\n",
    "                                 cmap='rocket_r',\n",
    "                                 linewidths=0,\n",
    "                                 xticklabels=False,\n",
    "                                 yticklabels=False, vmin = 90 )\n",
    "\n",
    "\n",
    "plt.ylabel(\"\")\n",
    "plt.xlabel(\"\")\n",
    "\n",
    "plt.savefig(\"Results5_Plots/6.Ecoli50CI.ANI.heatmap.NoLabels.png\", dpi = 300)\n",
    "plt.savefig(\"Results5_Plots/6.Ecoli50CI.ANI.heatmap.NoLabels.svg\")\n",
    "\n",
    "plt.show()"
   ]
  },
  {
   "cell_type": "code",
   "execution_count": null,
   "id": "82ca4b9d-7cbc-4da2-a811-95a6e85388bf",
   "metadata": {},
   "outputs": [],
   "source": []
  },
  {
   "cell_type": "code",
   "execution_count": null,
   "id": "fb950ca3-0db0-492d-b399-09e917491281",
   "metadata": {},
   "outputs": [],
   "source": []
  },
  {
   "cell_type": "code",
   "execution_count": null,
   "id": "68c4b6bb-46cb-4857-b0d7-f373047a0c24",
   "metadata": {},
   "outputs": [],
   "source": []
  },
  {
   "cell_type": "code",
   "execution_count": null,
   "id": "9a531b8e-dcc3-411e-9e5e-f2bd84c3f4b6",
   "metadata": {},
   "outputs": [],
   "source": []
  },
  {
   "cell_type": "code",
   "execution_count": null,
   "id": "cd5bf4af-8588-4249-ac91-93514c56f37b",
   "metadata": {},
   "outputs": [],
   "source": []
  },
  {
   "cell_type": "code",
   "execution_count": null,
   "id": "716573a2-b76c-47ec-8752-acac5e1b0dfe",
   "metadata": {},
   "outputs": [],
   "source": []
  },
  {
   "cell_type": "code",
   "execution_count": null,
   "id": "2e4f9747-b6cf-4bdc-9ddd-d8d50b585574",
   "metadata": {},
   "outputs": [],
   "source": []
  },
  {
   "cell_type": "code",
   "execution_count": null,
   "id": "efcb48d6-76c0-4686-b6b4-82722822be8b",
   "metadata": {},
   "outputs": [],
   "source": []
  },
  {
   "cell_type": "code",
   "execution_count": null,
   "id": "0c081d37-0004-4917-b90b-15fc25e07967",
   "metadata": {},
   "outputs": [],
   "source": []
  }
 ],
 "metadata": {
  "kernelspec": {
   "display_name": "py37_S",
   "language": "python",
   "name": "py37_s"
  },
  "language_info": {
   "codemirror_mode": {
    "name": "ipython",
    "version": 3
   },
   "file_extension": ".py",
   "mimetype": "text/x-python",
   "name": "python",
   "nbconvert_exporter": "python",
   "pygments_lexer": "ipython3",
   "version": "3.7.3"
  }
 },
 "nbformat": 4,
 "nbformat_minor": 5
}
