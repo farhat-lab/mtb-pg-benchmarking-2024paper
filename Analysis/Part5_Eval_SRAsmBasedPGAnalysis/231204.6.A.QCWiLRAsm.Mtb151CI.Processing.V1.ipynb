{
 "cells": [
  {
   "cell_type": "markdown",
   "id": "641b1770-7602-4526-80d8-2251d8eeea3b",
   "metadata": {},
   "source": [
    "# Run the SR-Pangenome analysis QC w/ the LRAsms"
   ]
  },
  {
   "cell_type": "code",
   "execution_count": null,
   "id": "d5ad24e9-77ef-43e9-ba5c-b211dac80f52",
   "metadata": {},
   "outputs": [],
   "source": []
  },
  {
   "cell_type": "code",
   "execution_count": 1,
   "id": "bcf53bf0-3392-456e-a529-dd64362325ad",
   "metadata": {},
   "outputs": [],
   "source": [
    "\n",
    "import numpy as np\n",
    "import matplotlib.pyplot as plt\n",
    "import seaborn as sns\n",
    "import pandas as pd\n",
    "from tqdm import tqdm\n",
    "%matplotlib inline\n"
   ]
  },
  {
   "cell_type": "code",
   "execution_count": 2,
   "id": "218367a8-7129-445b-957f-dbb82d0a0a3d",
   "metadata": {},
   "outputs": [],
   "source": [
    "%reload_ext autoreload\n",
    "%autoreload 2\n",
    "\n",
    "### import pgqc (pan-genome quality control) toolkit functions\n",
    "from pgqc.ava import ava\n",
    "from pgqc.nscluster import clusterBy_KmerJC, summarize_NSClusters, create_MaxKmerSim_JC_Dict, create_MST_FiltByJC, make_ClusterID_Maps \n",
    "from pgqc.nscluster import make_NS_ClusterMerged_Pres_DF\n",
    "\n",
    "\n",
    "from pgqc.utils import parse_PresAbs_Rtab, parse_PresAbs_CSV_Roary, parse_PresAbs_CSV_Panaroo, get_PG_Stats_FromPresAbs\n",
    "\n",
    "from pgqc.utils import  parse_PG_Ref_FA, get_PG_Stats_FromDNASeqPresAbs\n",
    "\n",
    "from pgqc.asm_gene_search import parse_AlnHits_To_DF\n",
    "from pgqc.asm_gene_search import PresAbsQC_CheckAsmForGeneSeq, SRAsm_PresAbsQC_CheckInLRAsm\n",
    "from pgqc.asm_gene_search import get_SRAsm_Vs_LRAsm_QCStats\n"
   ]
  },
  {
   "cell_type": "code",
   "execution_count": null,
   "id": "10781e13-d013-4fde-8a71-a036df00c662",
   "metadata": {},
   "outputs": [],
   "source": []
  },
  {
   "cell_type": "code",
   "execution_count": 3,
   "id": "7f216aa7-e072-4ef3-af6b-4457ee3deb2f",
   "metadata": {},
   "outputs": [],
   "source": [
    "import time"
   ]
  },
  {
   "cell_type": "code",
   "execution_count": 4,
   "id": "fa284069-7a83-4b8f-bc3b-317a283c592d",
   "metadata": {},
   "outputs": [],
   "source": [
    "import screed"
   ]
  },
  {
   "cell_type": "code",
   "execution_count": 5,
   "id": "43963c0a-2293-47a9-b602-5471f2d61f5f",
   "metadata": {},
   "outputs": [],
   "source": [
    "import mappy as mp"
   ]
  },
  {
   "cell_type": "code",
   "execution_count": 6,
   "id": "94cbaa6b-efbd-4a1c-8e3f-4c9acef84189",
   "metadata": {},
   "outputs": [],
   "source": [
    "# Set max column width to a specific value (e.g., 100 characters)\n",
    "pd.set_option('display.max_colwidth', 100)\n",
    "# Set to display a specific number of columns (e.g., 20 columns)\n",
    "pd.set_option('display.max_columns', 180)"
   ]
  },
  {
   "cell_type": "code",
   "execution_count": null,
   "id": "dbcf3dc2-dfe7-4a7c-af66-bf529739f23a",
   "metadata": {},
   "outputs": [],
   "source": []
  },
  {
   "cell_type": "code",
   "execution_count": null,
   "id": "b9f79dd4-760b-4e3e-8220-21eb91c5af02",
   "metadata": {},
   "outputs": [],
   "source": []
  },
  {
   "cell_type": "markdown",
   "id": "519e3cc5-f922-49d1-a2a6-b265b8a1ffb4",
   "metadata": {
    "toc-hr-collapsed": true
   },
   "source": [
    "# Parse sample metadata & preprocessed genome info/results"
   ]
  },
  {
   "cell_type": "code",
   "execution_count": 7,
   "id": "b8e1e0ae-8523-4ff3-aa7d-ad93166a921b",
   "metadata": {},
   "outputs": [
    {
     "name": "stdout",
     "output_type": "stream",
     "text": [
      "/n/data1/hms/dbmi/farhat/mm774/Projects/Mtb-VCI-MGM/JupyterNotebooks/240103_2_MtbPangenome_151CI_V5\n"
     ]
    }
   ],
   "source": [
    "!pwd"
   ]
  },
  {
   "cell_type": "code",
   "execution_count": 8,
   "id": "538edf5d-9d49-4b53-9ee9-0aeca9a3fb96",
   "metadata": {},
   "outputs": [],
   "source": [
    "#!ls -1 ../../Data"
   ]
  },
  {
   "cell_type": "markdown",
   "id": "e1cc5775-7fdf-482f-b02a-ff32c2f46d4b",
   "metadata": {},
   "source": [
    "## Parse sample Metadata (N = 151)"
   ]
  },
  {
   "cell_type": "code",
   "execution_count": 9,
   "id": "127ebb7c-690e-493f-8942-47698f835a32",
   "metadata": {},
   "outputs": [
    {
     "data": {
      "text/plain": [
       "(151, 7)"
      ]
     },
     "execution_count": 9,
     "metadata": {},
     "output_type": "execute_result"
    }
   ],
   "source": [
    "Repo_DataDir = \"../../Data\"\n",
    "InputAsmPath_Dir = f\"{Repo_DataDir}/231121.InputAsmTSVs.MtbSetV3.151CI\"\n",
    "\n",
    "MtbSetV3_151CI_InputAsmPATHs_TSV = f\"{InputAsmPath_Dir}/231121.MtbSetV3.151CI.HybridAndSRAsm.FAPATHs.V1.tsv\"\n",
    "\n",
    "MtbSetV3_151CI_AsmSumm_TSV = f\"{InputAsmPath_Dir}/231121.MtbSetV3.151CI.HybridAsm.AsmSummary.V2.tsv\"\n",
    "\n",
    "WGA151CI_AsmSummary_DF = pd.read_csv(MtbSetV3_151CI_AsmSumm_TSV, sep = \"\\t\")\n",
    "\n",
    "SampleIDs_151CI_SOI = list( WGA151CI_AsmSummary_DF[\"SampleID\"].values )\n",
    "WGA151CI_SampleIDs = SampleIDs_151CI_SOI\n",
    "\n",
    "ID_To_PrimLineage_Dict = dict(WGA151CI_AsmSummary_DF[['SampleID', 'PrimaryLineage']].values)\n",
    "ID_To_SubLineage_Dict = dict( WGA151CI_AsmSummary_DF[[\"SampleID\", \"Lineage\"]].values)\n",
    "ID_To_Dataset_Dict = dict(WGA151CI_AsmSummary_DF[['SampleID', 'Dataset_Tag']].values)\n",
    "WGA151CI_AsmSummary_DF.shape"
   ]
  },
  {
   "cell_type": "markdown",
   "id": "7ef2d754-4b57-42d4-93d2-5733657225bf",
   "metadata": {},
   "source": [
    "## PARSE PATHs FOR ALL assemblies processed by this pipeline"
   ]
  },
  {
   "cell_type": "code",
   "execution_count": 10,
   "id": "039f971a-546b-44cf-9872-02893aac3f5f",
   "metadata": {},
   "outputs": [
    {
     "name": "stdout",
     "output_type": "stream",
     "text": [
      "Index(['SampleID', 'Dataset_Tag', 'Genome_ASM_PATH',\n",
      "       'ShortRead_Genome_ASM_PATH'],\n",
      "      dtype='object')\n"
     ]
    }
   ],
   "source": [
    "WGA151CI_LRandSR_Asm_Path_DF = pd.read_csv(MtbSetV3_151CI_InputAsmPATHs_TSV, sep = \"\\t\")\n",
    "print(WGA151CI_LRandSR_Asm_Path_DF.columns)\n",
    "WGA151CI_LRandSR_Asm_Path_DF.columns = ['SampleID', 'Dataset_Tag',\n",
    "                                        'Genome_LR_ASM_PATH', 'Genome_SR_ASM_PATH']\n"
   ]
  },
  {
   "cell_type": "code",
   "execution_count": 11,
   "id": "8e08dfc8-d46a-45d3-84bc-25d496d3bea0",
   "metadata": {},
   "outputs": [
    {
     "data": {
      "text/html": [
       "<div>\n",
       "<style scoped>\n",
       "    .dataframe tbody tr th:only-of-type {\n",
       "        vertical-align: middle;\n",
       "    }\n",
       "\n",
       "    .dataframe tbody tr th {\n",
       "        vertical-align: top;\n",
       "    }\n",
       "\n",
       "    .dataframe thead th {\n",
       "        text-align: right;\n",
       "    }\n",
       "</style>\n",
       "<table border=\"1\" class=\"dataframe\">\n",
       "  <thead>\n",
       "    <tr style=\"text-align: right;\">\n",
       "      <th></th>\n",
       "      <th>SampleID</th>\n",
       "      <th>Dataset_Tag</th>\n",
       "      <th>Genome_LR_ASM_PATH</th>\n",
       "      <th>Genome_SR_ASM_PATH</th>\n",
       "    </tr>\n",
       "  </thead>\n",
       "  <tbody>\n",
       "    <tr>\n",
       "      <th>0</th>\n",
       "      <td>N0072</td>\n",
       "      <td>ChinerOms_2019</td>\n",
       "      <td>/n/data1/hms/dbmi/farhat/mm774/Projects/231121.MtbSetV3.151CI.CompleteAndSR.Asms/ChinerOms_2019/...</td>\n",
       "      <td>/n/data1/hms/dbmi/farhat/mm774/Projects/231121.MtbSetV3.151CI.CompleteAndSR.Asms/ChinerOms_2019/...</td>\n",
       "    </tr>\n",
       "  </tbody>\n",
       "</table>\n",
       "</div>"
      ],
      "text/plain": [
       "  SampleID     Dataset_Tag  \\\n",
       "0    N0072  ChinerOms_2019   \n",
       "\n",
       "                                                                                    Genome_LR_ASM_PATH  \\\n",
       "0  /n/data1/hms/dbmi/farhat/mm774/Projects/231121.MtbSetV3.151CI.CompleteAndSR.Asms/ChinerOms_2019/...   \n",
       "\n",
       "                                                                                    Genome_SR_ASM_PATH  \n",
       "0  /n/data1/hms/dbmi/farhat/mm774/Projects/231121.MtbSetV3.151CI.CompleteAndSR.Asms/ChinerOms_2019/...  "
      ]
     },
     "execution_count": 11,
     "metadata": {},
     "output_type": "execute_result"
    }
   ],
   "source": [
    "WGA151CI_LRandSR_Asm_Path_DF.head(1)"
   ]
  },
  {
   "cell_type": "markdown",
   "id": "de6a1afd-126d-434a-8926-e1df8c28372e",
   "metadata": {},
   "source": [
    "#### Create Dict of Asm FA PATHs"
   ]
  },
  {
   "cell_type": "code",
   "execution_count": 12,
   "id": "097ff0dd-450f-4cd5-8fd6-bf82345efa59",
   "metadata": {},
   "outputs": [],
   "source": [
    "\n",
    "LR_AsmFA_Dict = dict(WGA151CI_LRandSR_Asm_Path_DF[['SampleID', 'Genome_LR_ASM_PATH']].values)\n",
    "SR_AsmFA_Dict = dict(WGA151CI_LRandSR_Asm_Path_DF[['SampleID', 'Genome_SR_ASM_PATH']].values)\n"
   ]
  },
  {
   "cell_type": "code",
   "execution_count": null,
   "id": "c4daefa8-e31e-4fa2-8783-f1e120fef00a",
   "metadata": {},
   "outputs": [],
   "source": []
  },
  {
   "cell_type": "code",
   "execution_count": null,
   "id": "9bd5b7d5-13ad-4149-9a6d-d12d3dcd45b5",
   "metadata": {},
   "outputs": [],
   "source": []
  },
  {
   "cell_type": "code",
   "execution_count": null,
   "id": "7bd3efeb-b358-4e9a-a837-7c08304e6bab",
   "metadata": {},
   "outputs": [],
   "source": []
  },
  {
   "cell_type": "markdown",
   "id": "91cfaae9-b917-4c88-b702-02843b475c46",
   "metadata": {},
   "source": [
    "### Define Phylo order of samples:"
   ]
  },
  {
   "cell_type": "code",
   "execution_count": 13,
   "id": "46e7dd23-9b6d-4264-ad03-4b133d20acb7",
   "metadata": {},
   "outputs": [],
   "source": [
    "OrderOfSampleIDs_Phylo = ['N0153', 'N0072', 'mada_2-46', 'mada_1-44', 'mada_107',\n",
    "                          'mada_1-1', 'mada_1-51', 'mada_1-39', 'mada_1-36',\n",
    "                          'mada_117', 'mada_122', 'mada_118', 'mada_1-10', 'R27252',\n",
    "                          'R23887', 'TB3091', '9050-05', '3003-06', '702-06', '696-05',\n",
    "                          '8651-04', 'TB3396', '4549-04', 'TB1612', 'TB2780', 'TB3368',\n",
    "                          'TB1236', 'TB2659', '8129-04', 'R30215', 'R25048', 'TB2512',\n",
    "                          'TB2981', 'TB2995', 'TB3113', '706-05', 'R30078', 'R28012',\n",
    "                          'R27657', 'R30234', 'R31095', 'R28703', 'R24120', 'R36431',\n",
    "                          'R29816', 'S0070-08', 'N0155', 'N0145', 'R29598', 'R24100',\n",
    "                          'S0107-01', 'R28581', 'S0256-08', 'S0085-01', 'S0089-01',\n",
    "                          'mada_1-11', 'M0003941_3', 'mada_115', 'mada_2-42', 'R37765',\n",
    "                          '18_0621851', 'R22601', 'R27937', 'R18040', 'R18043', 'R27725',\n",
    "                          'R26791', 'R20574', 'R20260', 'R21408', 'R23146', 'R28980', 'R32929',\n",
    "                          'R26778', 'R30420', 'R21893', 'QC-9', 'QC-5', 'QC-3', 'N0004',\n",
    "                          'mada_1-30', 'N0054', 'N1274', '01_R1134', 'TB2968', 'mada_1-53',\n",
    "                          'mada_2-53', 'mada_1-50', 'mada_2-1', 'R23571', 'mada_123',\n",
    "                          'mada_1-12', 'mada_1-15', 'mada_128', 'mada_1-38', 'TB3054',\n",
    "                          'mada_126', 'mada_120', 'TB4620', 'M0016737_0', 'M0016395_7',\n",
    "                          'R15311', 'TB2661', 'TB3386', 'TB3162', '02_R1179', 'M0010874_7',\n",
    "                          'QC-7', 'QC-6', 'QC-1', '01_R1430', 'M0011368_9', '02_R1896',\n",
    "                          'mada_2-25', 'TB3237', 'mada_103', 'mada_112', 'mada_124',\n",
    "                          'S0123-01', 'S0262-02', 'TB3251', 'M0017522_5', 'R30396', 'R20896',\n",
    "                          'mada_1-32', 'S0106-01', 'R21839', 'R21363', 'R21770', 'MT_0080','mada_102',\n",
    "                          'TB3334', 'M0014888_3', 'mada_151', 'TB3169', 'mada_105', 'QC-8',\n",
    "                          'QC-10', 'QC-4', 'mada_129', 'mada_139', '02_R1708', '02_R0894',\n",
    "                          'mada_2-31', 'mada_1-41', 'N1272', 'N1176', 'N1202', 'N0091',\n",
    "                          'N1177','RW-TB008']\n",
    "\n"
   ]
  },
  {
   "cell_type": "code",
   "execution_count": null,
   "id": "e95744c3-b883-4161-8fb7-5efcbd68833d",
   "metadata": {},
   "outputs": [],
   "source": []
  },
  {
   "cell_type": "code",
   "execution_count": null,
   "id": "cc2738df-6dd7-464b-b315-e772edf3fae6",
   "metadata": {},
   "outputs": [],
   "source": []
  },
  {
   "cell_type": "markdown",
   "id": "19ee878f-ec64-431d-bfc8-baf9950e120b",
   "metadata": {},
   "source": [
    "### Parse Asm QC results"
   ]
  },
  {
   "cell_type": "code",
   "execution_count": 14,
   "id": "e47d5774-8cb9-4250-a590-ead142307edd",
   "metadata": {},
   "outputs": [
    {
     "name": "stdout",
     "output_type": "stream",
     "text": [
      "(151, 16)\n",
      "(302, 11)\n"
     ]
    }
   ],
   "source": [
    "Repo_DataDir = \"../../Data\"\n",
    "\n",
    "AsmSummary_TSVs_Dir = Repo_DataDir + \"/231130_WGA-Mtb_CompleteVsSR_AsmSummary_TSVs\"   \n",
    "\n",
    "WGA151CI_AsmQCSumm_TSV = f\"{AsmSummary_TSVs_Dir}/231130.WGA158CI.LRvsSR.AsmQC.V1.tsv\"\n",
    "WGA151CI_AsmQC_Tidy_TSV = f\"{AsmSummary_TSVs_Dir}/231130.WGA158CI.LRvsSR.AsmQC.V1.Tidy.tsv\"\n",
    "\n",
    "\n",
    "WGA151CI_Asm_LRvsSR_DF = pd.read_csv(WGA151CI_AsmQCSumm_TSV, sep=\"\\t\")\n",
    "print(WGA151CI_Asm_LRvsSR_DF.shape)\n",
    "\n",
    "WGA151CI_Asm_LRvsSR_TidyDF = pd.read_csv(WGA151CI_AsmQC_Tidy_TSV, sep=\"\\t\")\n",
    "print(WGA151CI_Asm_LRvsSR_TidyDF.shape)"
   ]
  },
  {
   "cell_type": "code",
   "execution_count": 15,
   "id": "2d9d508b-6329-46c9-9df0-7a581277638d",
   "metadata": {},
   "outputs": [],
   "source": [
    "SRAsm_BUSCO_Dict = WGA151CI_Asm_LRvsSR_DF.set_index('SampleID')['SRAsm_Busco_Complete_Score'].to_dict()   \n"
   ]
  },
  {
   "cell_type": "markdown",
   "id": "d942d88a-33da-4d48-8a80-975f8fc6752f",
   "metadata": {
    "tags": []
   },
   "source": [
    "### Get SampleIDs associated w/ High & Low BUSCO scores (>= 99 or < 99)"
   ]
  },
  {
   "cell_type": "code",
   "execution_count": 16,
   "id": "53a570b0-c78c-4eab-890e-f3cae0c0088e",
   "metadata": {},
   "outputs": [
    {
     "data": {
      "text/plain": [
       "(136, 16)"
      ]
     },
     "execution_count": 16,
     "metadata": {},
     "output_type": "execute_result"
    }
   ],
   "source": [
    "WGA151CI_Asm_LRvsSR_DF.query(\"SRAsm_Busco_Complete_Score >= 99\").shape"
   ]
  },
  {
   "cell_type": "code",
   "execution_count": 17,
   "id": "10b5049c-b979-45ed-8dc3-3a284942af9e",
   "metadata": {},
   "outputs": [
    {
     "data": {
      "text/plain": [
       "(15, 16)"
      ]
     },
     "execution_count": 17,
     "metadata": {},
     "output_type": "execute_result"
    }
   ],
   "source": [
    "WGA151CI_Asm_LRvsSR_DF.query(\"SRAsm_Busco_Complete_Score < 99\").shape"
   ]
  },
  {
   "cell_type": "code",
   "execution_count": 18,
   "id": "ada78b77-5acc-4238-8ed8-53cb14875aa8",
   "metadata": {},
   "outputs": [],
   "source": [
    "High_SRBusco_SampleIDs_136CI = WGA151CI_Asm_LRvsSR_DF.query(\"SRAsm_Busco_Complete_Score >= 99\")[\"SampleID\"].values     \n",
    "\n",
    "Low_SRBusco_SampleIDs_15CI = WGA151CI_Asm_LRvsSR_DF.query(\"SRAsm_Busco_Complete_Score < 99\")[\"SampleID\"].values\n"
   ]
  },
  {
   "cell_type": "code",
   "execution_count": 19,
   "id": "874e78b9-9339-4044-9ce7-e414a776ac85",
   "metadata": {},
   "outputs": [
    {
     "data": {
      "text/plain": [
       "array(['TB1612', 'TB2981', '02_R1896', 'TB3334', 'N1176', 'N1177',\n",
       "       'RW-TB008', 'QC-7', 'mada_107', 'R30215', 'R25048', 'R21408',\n",
       "       'R21770', 'R20896', 'mada_1-38'], dtype=object)"
      ]
     },
     "execution_count": 19,
     "metadata": {},
     "output_type": "execute_result"
    }
   ],
   "source": [
    "Low_SRBusco_SampleIDs_15CI"
   ]
  },
  {
   "cell_type": "code",
   "execution_count": 20,
   "id": "711c6fcf-67d7-41a7-afa0-3a22df490e43",
   "metadata": {},
   "outputs": [
    {
     "data": {
      "text/plain": [
       "15"
      ]
     },
     "execution_count": 20,
     "metadata": {},
     "output_type": "execute_result"
    }
   ],
   "source": [
    "len(Low_SRBusco_SampleIDs_15CI)"
   ]
  },
  {
   "cell_type": "code",
   "execution_count": 21,
   "id": "7a911611-706f-4937-b5be-9e77d141195d",
   "metadata": {},
   "outputs": [
    {
     "data": {
      "text/plain": [
       "136"
      ]
     },
     "execution_count": 21,
     "metadata": {},
     "output_type": "execute_result"
    }
   ],
   "source": [
    "len(High_SRBusco_SampleIDs_136CI)"
   ]
  },
  {
   "cell_type": "code",
   "execution_count": null,
   "id": "266e0451-30b1-4d32-85e6-34535029425f",
   "metadata": {},
   "outputs": [],
   "source": []
  },
  {
   "cell_type": "code",
   "execution_count": 22,
   "id": "9262163a-351b-47b4-9c3d-33134a0847dc",
   "metadata": {},
   "outputs": [
    {
     "data": {
      "text/html": [
       "<div>\n",
       "<style scoped>\n",
       "    .dataframe tbody tr th:only-of-type {\n",
       "        vertical-align: middle;\n",
       "    }\n",
       "\n",
       "    .dataframe tbody tr th {\n",
       "        vertical-align: top;\n",
       "    }\n",
       "\n",
       "    .dataframe thead th {\n",
       "        text-align: right;\n",
       "    }\n",
       "</style>\n",
       "<table border=\"1\" class=\"dataframe\">\n",
       "  <thead>\n",
       "    <tr style=\"text-align: right;\">\n",
       "      <th></th>\n",
       "      <th>SampleID</th>\n",
       "      <th>numContigs_Complete</th>\n",
       "      <th>Flye_CircContig_Cov</th>\n",
       "      <th>PrimaryLineage</th>\n",
       "      <th>Lineage</th>\n",
       "      <th>Dataset_Tag</th>\n",
       "      <th>AsmApproach</th>\n",
       "    </tr>\n",
       "  </thead>\n",
       "  <tbody>\n",
       "    <tr>\n",
       "      <th>0</th>\n",
       "      <td>N0072</td>\n",
       "      <td>1</td>\n",
       "      <td>358</td>\n",
       "      <td>lineage1</td>\n",
       "      <td>lineage1,lineage1.1,lineage1.1.2</td>\n",
       "      <td>ChinerOms_2019</td>\n",
       "      <td>PBrs2_LR_Flye_I3_SR_Pilon</td>\n",
       "    </tr>\n",
       "    <tr>\n",
       "      <th>1</th>\n",
       "      <td>N0153</td>\n",
       "      <td>1</td>\n",
       "      <td>372</td>\n",
       "      <td>lineage1</td>\n",
       "      <td>lineage1,lineage1.1,lineage1.1.1,lineage1.1.1.1</td>\n",
       "      <td>ChinerOms_2019</td>\n",
       "      <td>PBrs2_LR_Flye_I3_SR_Pilon</td>\n",
       "    </tr>\n",
       "    <tr>\n",
       "      <th>2</th>\n",
       "      <td>TB3113</td>\n",
       "      <td>1</td>\n",
       "      <td>933</td>\n",
       "      <td>lineage2</td>\n",
       "      <td>lineage2,lineage2.2,lineage2.2.1</td>\n",
       "      <td>TB_Portals_24CI_R1</td>\n",
       "      <td>PBrs2_LR_Flye_I3_SR_Pilon</td>\n",
       "    </tr>\n",
       "    <tr>\n",
       "      <th>3</th>\n",
       "      <td>TB1236</td>\n",
       "      <td>1</td>\n",
       "      <td>374</td>\n",
       "      <td>lineage2</td>\n",
       "      <td>lineage2,lineage2.2,lineage2.2.1</td>\n",
       "      <td>TB_Portals_24CI_R1</td>\n",
       "      <td>PBrs2_LR_Flye_I3_SR_Pilon</td>\n",
       "    </tr>\n",
       "    <tr>\n",
       "      <th>4</th>\n",
       "      <td>TB2659</td>\n",
       "      <td>1</td>\n",
       "      <td>421</td>\n",
       "      <td>lineage2</td>\n",
       "      <td>lineage2,lineage2.2,lineage2.2.1</td>\n",
       "      <td>TB_Portals_24CI_R1</td>\n",
       "      <td>PBrs2_LR_Flye_I3_SR_Pilon</td>\n",
       "    </tr>\n",
       "  </tbody>\n",
       "</table>\n",
       "</div>"
      ],
      "text/plain": [
       "  SampleID  numContigs_Complete  Flye_CircContig_Cov PrimaryLineage  \\\n",
       "0    N0072                    1                  358       lineage1   \n",
       "1    N0153                    1                  372       lineage1   \n",
       "2   TB3113                    1                  933       lineage2   \n",
       "3   TB1236                    1                  374       lineage2   \n",
       "4   TB2659                    1                  421       lineage2   \n",
       "\n",
       "                                           Lineage         Dataset_Tag  \\\n",
       "0                 lineage1,lineage1.1,lineage1.1.2      ChinerOms_2019   \n",
       "1  lineage1,lineage1.1,lineage1.1.1,lineage1.1.1.1      ChinerOms_2019   \n",
       "2                 lineage2,lineage2.2,lineage2.2.1  TB_Portals_24CI_R1   \n",
       "3                 lineage2,lineage2.2,lineage2.2.1  TB_Portals_24CI_R1   \n",
       "4                 lineage2,lineage2.2,lineage2.2.1  TB_Portals_24CI_R1   \n",
       "\n",
       "                 AsmApproach  \n",
       "0  PBrs2_LR_Flye_I3_SR_Pilon  \n",
       "1  PBrs2_LR_Flye_I3_SR_Pilon  \n",
       "2  PBrs2_LR_Flye_I3_SR_Pilon  \n",
       "3  PBrs2_LR_Flye_I3_SR_Pilon  \n",
       "4  PBrs2_LR_Flye_I3_SR_Pilon  "
      ]
     },
     "execution_count": 22,
     "metadata": {},
     "output_type": "execute_result"
    }
   ],
   "source": [
    "WGA151CI_AsmSummary_DF.head(5)"
   ]
  },
  {
   "cell_type": "markdown",
   "id": "b83b4306-6c5b-4f73-a606-1f71d1691a50",
   "metadata": {},
   "source": [
    "#### Make sample lineage & color mapping"
   ]
  },
  {
   "cell_type": "code",
   "execution_count": 23,
   "id": "ced28f34-0829-48b3-a61a-f123a027a357",
   "metadata": {},
   "outputs": [],
   "source": [
    "# Dictionary for lineage to color mapping\n",
    "LinToColor_Dict = {\n",
    "    \"lineage1\": \"#DF83AC\",\n",
    "    \"lineage2\": \"#7098CB\",\n",
    "    \"lineage3\": \"#815D9F\",\n",
    "    \"lineage4\": \"#E76956\",\n",
    "    \"lineage5\": \"#B67548\",\n",
    "    \"lineage6\": \"#6AB79E\",\n",
    "    \"lineage8\": \"#E4515B\",\n",
    "    \"None\": \"black\",\n",
    "}\n",
    "\n",
    "# Extracting the mapping between IsolateID and PrimaryLineage_Ill\n",
    "lineage_mapping = WGA151CI_AsmSummary_DF.set_index('SampleID')['PrimaryLineage'].to_dict()\n",
    "\n",
    "# Creating a color mapping for the samples\n",
    "sample_colors = {sample: LinToColor_Dict.get(lineage, \"black\") for sample, lineage in lineage_mapping.items()}\n"
   ]
  },
  {
   "cell_type": "code",
   "execution_count": null,
   "id": "a1a9196e-83ea-4a6d-a20f-d9fa7cf43c3c",
   "metadata": {},
   "outputs": [],
   "source": []
  },
  {
   "cell_type": "code",
   "execution_count": null,
   "id": "c6bce972-f410-40a6-a321-849093bc0bd7",
   "metadata": {},
   "outputs": [],
   "source": []
  },
  {
   "cell_type": "code",
   "execution_count": null,
   "id": "7be1a9b5-00e1-4d55-b1a9-5018b09f3b66",
   "metadata": {},
   "outputs": [],
   "source": []
  },
  {
   "cell_type": "code",
   "execution_count": null,
   "id": "39291b68-0a63-4803-965a-f229279a2408",
   "metadata": {},
   "outputs": [],
   "source": []
  },
  {
   "cell_type": "markdown",
   "id": "9865c142-5492-4ed1-abf4-2956017b90c3",
   "metadata": {},
   "source": [
    "# Define output dir of the Mtb-WGA-SMK processing pipeline"
   ]
  },
  {
   "cell_type": "code",
   "execution_count": 24,
   "id": "cd2c14c1-f1ed-4f69-b61d-03de21232feb",
   "metadata": {},
   "outputs": [],
   "source": [
    "# Define varaint calling pipeline output directories\n",
    "\n",
    "WGA_SMK_Outputs_Dir = \"/n/data1/hms/dbmi/farhat/mm774/Projects/Mtb-WGA-SMK-Output\"\n",
    "\n",
    "WGA151CI_SMK_OutputDir = WGA_SMK_Outputs_Dir + \"/231121_MtbSetV3_151CI\"\n",
    "\n",
    "MtbWGA_SMK_Pipeline_OutputDir = WGA151CI_SMK_OutputDir\n"
   ]
  },
  {
   "cell_type": "markdown",
   "id": "ec4ece22-2d7f-494b-9306-e64afbcc4b0d",
   "metadata": {},
   "source": [
    "## Define output dirs of Pangenome Analysis pipelines"
   ]
  },
  {
   "cell_type": "code",
   "execution_count": 25,
   "id": "5cccb663-cda2-4191-8e03-859e73fbd333",
   "metadata": {},
   "outputs": [],
   "source": [
    "target_OutputDir = MtbWGA_SMK_Pipeline_OutputDir\n",
    "\n",
    "i_Pangenome_Dir = f\"{target_OutputDir}/PanGenome_Analysis\"\n"
   ]
  },
  {
   "cell_type": "code",
   "execution_count": null,
   "id": "a9019a66-edbf-49c1-9c8c-c5215c19512d",
   "metadata": {},
   "outputs": [],
   "source": []
  },
  {
   "cell_type": "markdown",
   "id": "2cc33ac4-b95a-44fe-940f-58e89821efd3",
   "metadata": {},
   "source": [
    "### Define path to Panaroo output files (158 LR genomes, MergeParalogs Parameters)"
   ]
  },
  {
   "cell_type": "code",
   "execution_count": 26,
   "id": "d56d7cb4-5a06-4966-a7de-cd3116bac0d8",
   "metadata": {},
   "outputs": [],
   "source": [
    "# PipeName_WiParam_List = ['Panaroo_Strict_MergeParalogs', 'Panaroo_Moderate_MergeParalogs',\n",
    "#                          'Panaroo_Sensitive_MergeParalogs', 'Panaroo_Strict',\n",
    "#                          'Panaroo_Moderate', 'Panaroo_Sensitive',  'Roary_NoSplitParalogs_I80', 'Roary_NoSplitParalogs_I90',\n",
    "#                          'Roary_NoSplitParalogs',  'Roary_Default', 'Ppanggolin_Default']\n",
    "\n",
    "\n",
    "PG_OutDir_Dict = { \"Panaroo_Strict_MP\" : f\"{i_Pangenome_Dir}/Panaroo_Strict_MergeParalogs_AllIsolates\", \n",
    "                     \"Panaroo_Moderate_MP\" : f\"{i_Pangenome_Dir}/Panaroo_Moderate_MergeParalogs_AllIsolates\", \n",
    "                     \"Panaroo_Sens_MP\" : f\"{i_Pangenome_Dir}/Panaroo_Sensitive_MergeParalogs_AllIsolates\",\n",
    "                     \"Roary_Default\" : f\"{i_Pangenome_Dir}/Roary_Default_AllIsolates\",\n",
    "                     \"Roary_NoSplitParalogs\" : f\"{i_Pangenome_Dir}/Roary_NoSplitParalogs_AllIsolates\", \n",
    "                     \"Roary_NoSplitParalogs_I90\" : f\"{i_Pangenome_Dir}/Roary_NoSplitParalogs_I90_AllIsolates\",\n",
    "                     \"Roary_NoSplitParalogs_I80\" : f\"{i_Pangenome_Dir}/Roary_NoSplitParalogs_I80_AllIsolates\",\n",
    "                     \"SR_Panaroo_Strict_MP\": f\"{i_Pangenome_Dir}/SR_Panaroo_Strict_MergeParalogs_AllIsolates\",\n",
    "                     \"SR_Panaroo_Moderate_MP\": f\"{i_Pangenome_Dir}/SR_Panaroo_Moderate_MergeParalogs_AllIsolates\",\n",
    "                     \"SR_Panaroo_Sens_MP\": f\"{i_Pangenome_Dir}/SR_Panaroo_Sensitive_MergeParalogs_AllIsolates\",\n",
    "                     \"SR_Roary_Default\": f\"{i_Pangenome_Dir}/SR_Roary_Default_AllIsolates\",\n",
    "                     \"SR_Roary_NoSplitParalogs\": f\"{i_Pangenome_Dir}/SR_Roary_NoSplitParalogs_AllIsolates\",\n",
    "                     \"SR_Roary_NoSplitParalogs_I90\": f\"{i_Pangenome_Dir}/SR_Roary_NoSplitParalogs_I90_AllIsolates\",\n",
    "                     \"SR_Roary_NoSplitParalogs_I80\": f\"{i_Pangenome_Dir}/SR_Roary_NoSplitParalogs_I80_AllIsolates\"\n",
    "                   }\n",
    "\n",
    "\n",
    "PG_PresAbs_CSV_PATH_Dict = {}\n",
    "for i_param, i_outdir in PG_OutDir_Dict.items():\n",
    "    PG_PresAbs_CSV_PATH_Dict[i_param] = f\"{i_outdir}/gene_presence_absence.csv\"  \n",
    "    \n",
    "PG_PresAbs_Rtab_PATH_Dict = {}\n",
    "for i_param, i_outdir in PG_OutDir_Dict.items():\n",
    "    PG_PresAbs_Rtab_PATH_Dict[i_param] = f\"{i_outdir}/gene_presence_absence.Rtab\"  \n",
    "\n",
    "PG_GeneRefFA_PATH_Dict = {}\n",
    "for i_param, i_outdir in PG_OutDir_Dict.items():\n",
    "    PG_GeneRefFA_PATH_Dict[i_param] = f\"{i_outdir}/pan_genome_reference.fa\"  \n",
    "\n",
    "PG_AvA_PATH_Dict = {}\n",
    "for i_param, i_outdir in PG_OutDir_Dict.items():\n",
    "    PG_AvA_PATH_Dict[i_param] = f\"{i_outdir}/pan_genome_reference.KmerComparison.AllVsAll.MaxJC.tsv\"\n",
    "\n",
    "\n",
    "PG_PresAbs_AsmGeneSeqChk_PATH_Dict = {}\n",
    "for i_param, i_outdir in PG_OutDir_Dict.items():\n",
    "    PG_PresAbs_AsmGeneSeqChk_PATH_Dict[i_param] = f\"{i_outdir}/gene_presence_absence.AsmGeneSeqChk.tsv\"\n",
    "\n",
    "\n"
   ]
  },
  {
   "cell_type": "code",
   "execution_count": 27,
   "id": "8b921207-8815-4037-99ac-e4b94e23fc8d",
   "metadata": {},
   "outputs": [],
   "source": [
    "#PG_GeneRefFA_PATH_Dict"
   ]
  },
  {
   "cell_type": "code",
   "execution_count": null,
   "id": "8d573c06-e056-4a54-922f-f25ffc42b9e7",
   "metadata": {},
   "outputs": [],
   "source": []
  },
  {
   "cell_type": "markdown",
   "id": "76d1ccdf-9b99-425e-afc7-a3fb67d32b63",
   "metadata": {},
   "source": [
    "# Parse in processed data"
   ]
  },
  {
   "cell_type": "markdown",
   "id": "21a6b8e7-86d3-44f3-b5f9-b4e9a8d947dc",
   "metadata": {},
   "source": [
    "### A) Parse in processed All vs All Kmer analysis"
   ]
  },
  {
   "cell_type": "code",
   "execution_count": 28,
   "id": "3e7793c0-314d-46a8-85f3-dcd1870eec16",
   "metadata": {},
   "outputs": [],
   "source": [
    "AvA_DF_Dict = {}\n",
    "\n",
    "for i_Param, AvA_TSV_PATH in PG_AvA_PATH_Dict.items():\n",
    "\n",
    "    PG_AvA_DF = pd.read_csv(AvA_TSV_PATH, sep = \"\\t\" )\n",
    "    AvA_DF_Dict[i_Param] = PG_AvA_DF\n"
   ]
  },
  {
   "cell_type": "code",
   "execution_count": null,
   "id": "61121bf1-3109-406f-9b67-167e8adc3183",
   "metadata": {},
   "outputs": [],
   "source": []
  },
  {
   "cell_type": "markdown",
   "id": "5cb8666b-eb2c-4537-8b17-9116d5820045",
   "metadata": {},
   "source": [
    "### B) Parse in Gene PresAbs Info"
   ]
  },
  {
   "cell_type": "code",
   "execution_count": 29,
   "id": "840a1f66-785c-4add-8461-9d071dd28596",
   "metadata": {},
   "outputs": [
    {
     "name": "stderr",
     "output_type": "stream",
     "text": [
      "/home/mm774/conda3/envs/py37_S/lib/python3.7/site-packages/ipykernel_launcher.py:8: DtypeWarning: Columns (5,10,12,14,16,24,30,31,32,43,44,48,51,57,59,60,61,62,63,64,68,69,70,71,72,73,74,76,79,82,83,84,86,87,88,89,90,91,93,94,95,96,97,98,99,100,101,102,103,104,105,108,109,110,111,112,113,114,116,117,119,121,122,123,124,126,128,130,132,136,137,140,141,142,144,146,147,148,149,150,151,152,153) have mixed types.Specify dtype option on import or set low_memory=False.\n",
      "  \n"
     ]
    },
    {
     "name": "stdout",
     "output_type": "stream",
     "text": [
      "Panaroo_Strict_MP (4200, 153)\n"
     ]
    },
    {
     "name": "stderr",
     "output_type": "stream",
     "text": [
      "/home/mm774/conda3/envs/py37_S/lib/python3.7/site-packages/ipykernel_launcher.py:8: DtypeWarning: Columns (12,14,16) have mixed types.Specify dtype option on import or set low_memory=False.\n",
      "  \n"
     ]
    },
    {
     "name": "stdout",
     "output_type": "stream",
     "text": [
      "Panaroo_Moderate_MP (4280, 153)\n",
      "Panaroo_Sens_MP (4281, 153)\n",
      "Roary_Default (5366, 153)\n"
     ]
    },
    {
     "name": "stderr",
     "output_type": "stream",
     "text": [
      "/home/mm774/conda3/envs/py37_S/lib/python3.7/site-packages/ipykernel_launcher.py:6: DtypeWarning: Columns (32,41,59,60,68,69,70,71,76,79,81,82,83,84,85,90,93,95,99,100,102,103,104,105,108,110,111,116,117,123,128,131,141,143,146,147,149,157,162,164) have mixed types.Specify dtype option on import or set low_memory=False.\n",
      "  \n"
     ]
    },
    {
     "name": "stdout",
     "output_type": "stream",
     "text": [
      "Roary_NoSplitParalogs (4366, 153)\n"
     ]
    },
    {
     "name": "stderr",
     "output_type": "stream",
     "text": [
      "/home/mm774/conda3/envs/py37_S/lib/python3.7/site-packages/ipykernel_launcher.py:6: DtypeWarning: Columns (16,18,31,32,35,37,41,52,56,59,60,68,69,70,71,73,76,77,79,80,81,82,83,84,85,90,92,93,95,99,100,102,103,104,105,108,110,111,116,117,123,128,131,136,139,141,143,146,147,149,157,162,164) have mixed types.Specify dtype option on import or set low_memory=False.\n",
      "  \n"
     ]
    },
    {
     "name": "stdout",
     "output_type": "stream",
     "text": [
      "Roary_NoSplitParalogs_I90 (4293, 153)\n"
     ]
    },
    {
     "name": "stderr",
     "output_type": "stream",
     "text": [
      "/home/mm774/conda3/envs/py37_S/lib/python3.7/site-packages/ipykernel_launcher.py:6: DtypeWarning: Columns (16,18,31,32,34,35,37,41,44,45,47,49,52,53,56,59,60,63,64,67,68,69,70,71,73,74,75,76,77,79,80,81,82,83,84,85,86,88,89,90,91,92,93,95,99,100,102,103,104,105,108,110,111,116,117,123,128,131,135,136,137,138,139,140,141,143,145,146,147,149,157,161,162,164) have mixed types.Specify dtype option on import or set low_memory=False.\n",
      "  \n"
     ]
    },
    {
     "name": "stdout",
     "output_type": "stream",
     "text": [
      "Roary_NoSplitParalogs_I80 (4252, 153)\n"
     ]
    },
    {
     "name": "stderr",
     "output_type": "stream",
     "text": [
      "/home/mm774/conda3/envs/py37_S/lib/python3.7/site-packages/ipykernel_launcher.py:8: DtypeWarning: Columns (7,13,18,26,29,39,89,110,111,125,134,151) have mixed types.Specify dtype option on import or set low_memory=False.\n",
      "  \n"
     ]
    },
    {
     "name": "stdout",
     "output_type": "stream",
     "text": [
      "SR_Panaroo_Strict_MP (4211, 153)\n",
      "SR_Panaroo_Moderate_MP (4382, 153)\n",
      "SR_Panaroo_Sens_MP (4600, 153)\n",
      "SR_Roary_Default (6006, 153)\n",
      "SR_Roary_NoSplitParalogs (5025, 153)\n",
      "SR_Roary_NoSplitParalogs_I90 (4956, 153)\n",
      "SR_Roary_NoSplitParalogs_I80 (4866, 153)\n"
     ]
    }
   ],
   "source": [
    "PresAbs_DF_Dict = {}\n",
    "\n",
    "for i_Param, PresAbs_CSV_PATH in PG_PresAbs_CSV_PATH_Dict.items():\n",
    "\n",
    "    if \"Roary\" in i_Param: \n",
    "        i_Gene_PresAbs_DF = parse_PresAbs_CSV_Roary(PresAbs_CSV_PATH)\n",
    "    else:\n",
    "        i_Gene_PresAbs_DF = parse_PresAbs_CSV_Panaroo(PresAbs_CSV_PATH)\n",
    "\n",
    "    ### Relabel Columns for presence/absence tracking\n",
    "    i_Gene_PresAbs_DF.columns = [ x.split(\".Bakta\")[0] for x in i_Gene_PresAbs_DF.columns ]\n",
    "\n",
    "    print(i_Param, i_Gene_PresAbs_DF.shape)\n",
    "    \n",
    "    PresAbs_DF_Dict[i_Param] = i_Gene_PresAbs_DF\n",
    "    "
   ]
  },
  {
   "cell_type": "markdown",
   "id": "7b1c7293-1f17-4d13-ad9b-c925cffa6780",
   "metadata": {},
   "source": [
    "### C) Parse in PG Gene Reference FASTAs for each PG output"
   ]
  },
  {
   "cell_type": "code",
   "execution_count": 30,
   "id": "986222d6-9d12-4d66-9fde-1ded16ad7727",
   "metadata": {},
   "outputs": [
    {
     "name": "stdout",
     "output_type": "stream",
     "text": [
      "Panaroo_Strict_MP 4200\n",
      "Panaroo_Moderate_MP 4280\n",
      "Panaroo_Sens_MP 4281\n",
      "Roary_Default 5366\n",
      "Roary_NoSplitParalogs 4366\n",
      "Roary_NoSplitParalogs_I90 4293\n",
      "Roary_NoSplitParalogs_I80 4252\n",
      "SR_Panaroo_Strict_MP 4211\n",
      "SR_Panaroo_Moderate_MP 4382\n",
      "SR_Panaroo_Sens_MP 4600\n",
      "SR_Roary_Default 6006\n",
      "SR_Roary_NoSplitParalogs 5025\n",
      "SR_Roary_NoSplitParalogs_I90 4956\n",
      "SR_Roary_NoSplitParalogs_I80 4866\n"
     ]
    }
   ],
   "source": [
    "\n",
    "PG_RefSeqs_DF_Dict = {}\n",
    "\n",
    "for i_Param, i_PG_Ref_FA_PATH in PG_GeneRefFA_PATH_Dict.items():\n",
    "    #print(i_PG_Ref_FA_PATH)\n",
    "    PG_RefSeqs_DF_Dict[i_Param] = parse_PG_Ref_FA(i_PG_Ref_FA_PATH)\n",
    "\n",
    "    LR_PG_Ref_IDs = list( PG_RefSeqs_DF_Dict[i_Param].keys())\n",
    "    print(i_Param, len(LR_PG_Ref_IDs))\n",
    "    "
   ]
  },
  {
   "cell_type": "markdown",
   "id": "3ce0c69c-74c5-40fd-bd86-e3c305a2f9fd",
   "metadata": {},
   "source": [
    "## D) PresAbs w/ AsmSeqCheck (For both LR and SR Asms)"
   ]
  },
  {
   "cell_type": "code",
   "execution_count": 31,
   "id": "61e52cdc-899c-4cbe-ba45-47fc95c96908",
   "metadata": {},
   "outputs": [
    {
     "name": "stdout",
     "output_type": "stream",
     "text": [
      "Panaroo_Strict_MP - (4061, 154)\n",
      "Panaroo_Moderate_MP - (4280, 154)\n",
      "Panaroo_Sens_MP - (4281, 154)\n",
      "Roary_Default - (5366, 154)\n",
      "Roary_NoSplitParalogs - (4366, 154)\n",
      "Roary_NoSplitParalogs_I90 - (4293, 154)\n",
      "Roary_NoSplitParalogs_I80 - (4252, 154)\n",
      "SR_Panaroo_Strict_MP - (4211, 154)\n",
      "SR_Panaroo_Moderate_MP - (4382, 154)\n",
      "SR_Panaroo_Sens_MP - (4600, 154)\n",
      "SR_Roary_Default - (6006, 154)\n",
      "SR_Roary_NoSplitParalogs - (5025, 154)\n",
      "SR_Roary_NoSplitParalogs_I90 - (4956, 154)\n",
      "SR_Roary_NoSplitParalogs_I80 - (4866, 154)\n"
     ]
    }
   ],
   "source": [
    "PresAbs_DF_AsmSeqChk_Dict = {}\n",
    "\n",
    "for i_Param, PresAbs_AsmSeqChk_CSV_PATH in PG_PresAbs_AsmGeneSeqChk_PATH_Dict.items():\n",
    "\n",
    "    i_PresAbs_AsmSeqChk_DF = pd.read_csv(PresAbs_AsmSeqChk_CSV_PATH, sep=\"\\t\").set_index(\"Gene\", drop=False)  \n",
    "    \n",
    "    PresAbs_DF_AsmSeqChk_Dict[i_Param] = i_PresAbs_AsmSeqChk_DF\n",
    "\n",
    "    print(i_Param, \"-\", i_PresAbs_AsmSeqChk_DF.shape)\n"
   ]
  },
  {
   "cell_type": "code",
   "execution_count": 32,
   "id": "3bafea38-3635-495d-916a-f27cc1268cf8",
   "metadata": {},
   "outputs": [
    {
     "data": {
      "text/plain": [
       "dict_keys(['Panaroo_Strict_MP', 'Panaroo_Moderate_MP', 'Panaroo_Sens_MP', 'Roary_Default', 'Roary_NoSplitParalogs', 'Roary_NoSplitParalogs_I90', 'Roary_NoSplitParalogs_I80', 'SR_Panaroo_Strict_MP', 'SR_Panaroo_Moderate_MP', 'SR_Panaroo_Sens_MP', 'SR_Roary_Default', 'SR_Roary_NoSplitParalogs', 'SR_Roary_NoSplitParalogs_I90', 'SR_Roary_NoSplitParalogs_I80'])"
      ]
     },
     "execution_count": 32,
     "metadata": {},
     "output_type": "execute_result"
    }
   ],
   "source": [
    "PresAbs_DF_AsmSeqChk_Dict.keys()"
   ]
  },
  {
   "cell_type": "code",
   "execution_count": 33,
   "id": "93f68c4f-1594-4570-af04-72bb320efec1",
   "metadata": {},
   "outputs": [
    {
     "data": {
      "text/plain": [
       "151"
      ]
     },
     "execution_count": 33,
     "metadata": {},
     "output_type": "execute_result"
    }
   ],
   "source": [
    "len(SampleIDs_151CI_SOI)"
   ]
  },
  {
   "cell_type": "code",
   "execution_count": 34,
   "id": "bb62bd8a-a587-42ad-80ab-9ffd75f4a220",
   "metadata": {},
   "outputs": [
    {
     "data": {
      "text/plain": [
       "151"
      ]
     },
     "execution_count": 34,
     "metadata": {},
     "output_type": "execute_result"
    }
   ],
   "source": [
    "len(SR_AsmFA_Dict.keys())"
   ]
  },
  {
   "cell_type": "markdown",
   "id": "9ae7882f-6da4-49be-b02f-66bcdfa56fc7",
   "metadata": {},
   "source": [
    "## Run SR Asm gene missingness QC steps"
   ]
  },
  {
   "cell_type": "code",
   "execution_count": 35,
   "id": "d89fecf7-4665-447f-baa1-403f6521ba4f",
   "metadata": {},
   "outputs": [
    {
     "name": "stderr",
     "output_type": "stream",
     "text": [
      "  0%|          | 0/151 [00:00<?, ?it/s]"
     ]
    },
    {
     "name": "stdout",
     "output_type": "stream",
     "text": [
      "Running Asm DNA seq check for \"SR_Roary_NoSplitParalogs_I80\"\n"
     ]
    },
    {
     "name": "stderr",
     "output_type": "stream",
     "text": [
      "100%|██████████| 151/151 [13:22<00:00,  6.52s/it]\n"
     ]
    },
    {
     "name": "stdout",
     "output_type": "stream",
     "text": [
      "Across all samples, total missing genes - Not in SR Asm, but in LR Asm: 10240\n",
      "Across all samples, total missing genes - In SR Asm, Not in LR Asm: 75\n",
      "Across all samples, total missing genes - In BOTH SR Asm and LR Asm: 89639\n"
     ]
    }
   ],
   "source": [
    "PresAbs_DF_SRPG_QC_WiLRAsmSeqChk_Dict = {}\n",
    "\n",
    "#for i_Param, i_PresAbs_DF in PresAbs_DF_Dict.items():\n",
    "for i_Param in [\"SR_Roary_NoSplitParalogs_I80\"]:\n",
    "\n",
    "    i_PresAbs_DF = PresAbs_DF_Dict[i_Param]\n",
    "    \n",
    "    if i_Param.startswith(\"SR_\"):\n",
    "        print(f'Running Asm DNA seq check for \"{i_Param}\"')\n",
    "        i_SR_PresAbs_OG_DF = PresAbs_DF_Dict[i_Param]\n",
    "        \n",
    "        i_SR_PresAbs_LRAsmSeqQC_DF = SRAsm_PresAbsQC_CheckInLRAsm(PresAbs_DF_Dict[i_Param] ,\n",
    "                                                                PG_RefSeqs_DF_Dict[i_Param],\n",
    "                                                                SR_AsmFA_Dict,\n",
    "                                                                LR_AsmFA_Dict,\n",
    "                                                                SampleIDs_151CI_SOI)\n",
    "        \n",
    "        PresAbs_DF_SRPG_QC_WiLRAsmSeqChk_Dict[i_Param] = i_SR_PresAbs_LRAsmSeqQC_DF\n",
    "\n",
    "    else: continue\n"
   ]
  },
  {
   "cell_type": "markdown",
   "id": "14c57ca5-6ac2-426d-aabb-d99858147ef5",
   "metadata": {},
   "source": [
    "### Notes\n",
    "- 0 means CDS AA seq & DNA seq not found in SR\n",
    "- 1 means CDS AA seq present in SR\n",
    "- 3 Means DNA Seq \"Not in SR, but In LR Asm\", (\"Incomplete Assembly\")\n",
    "- 4 Means DNA Seq \"In SR Asm, NOT In LR Asm\" \n",
    "- 5 Means DNA Seq \"In SR Asm, In LR Asm\" (\"Annotation Discrepancy\")\n"
   ]
  },
  {
   "cell_type": "code",
   "execution_count": null,
   "id": "dad74815-9460-4f7d-80c8-754134860bb6",
   "metadata": {},
   "outputs": [],
   "source": []
  },
  {
   "cell_type": "code",
   "execution_count": 37,
   "id": "f24e9f8c-0a51-4e57-a7c8-8815ca66dc4e",
   "metadata": {},
   "outputs": [
    {
     "name": "stdout",
     "output_type": "stream",
     "text": [
      "Accessory Thresh: 149.49\n"
     ]
    },
    {
     "data": {
      "text/plain": [
       "(4382, 3574, 808)"
      ]
     },
     "execution_count": 37,
     "metadata": {},
     "output_type": "execute_result"
    }
   ],
   "source": [
    "get_PG_Stats_FromPresAbs(PresAbs_DF_Dict[\"SR_Panaroo_Moderate_MP\"], 151)"
   ]
  },
  {
   "cell_type": "code",
   "execution_count": 41,
   "id": "d02c0d7f-5dc3-4a2b-b215-56aa7765a384",
   "metadata": {},
   "outputs": [],
   "source": [
    "#get_PG_Stats_FromPresAbs(PresAbs_DF_SRPG_QC_WiLRAsmSeqChk_Dict[\"SR_Panaroo_Moderate_MP\"], 151)"
   ]
  },
  {
   "cell_type": "code",
   "execution_count": 40,
   "id": "a5be6d6f-5bea-4c6c-8da0-cdc844682168",
   "metadata": {},
   "outputs": [],
   "source": [
    "#get_PG_Stats_FromPresAbs(PresAbs_DF_SRPG_QC_WiLRAsmSeqChk_Dict[\"SR_Panaroo_Moderate_MP\"], 151)"
   ]
  },
  {
   "cell_type": "code",
   "execution_count": null,
   "id": "ef383645-97a3-401c-8015-35ff4c9b8de4",
   "metadata": {},
   "outputs": [],
   "source": []
  },
  {
   "cell_type": "markdown",
   "id": "3a1de09a-4304-4d58-9b2f-6f8710fe86d8",
   "metadata": {},
   "source": [
    "# Output the SR-Pangenome QC w/ LR-Asms"
   ]
  },
  {
   "cell_type": "code",
   "execution_count": 42,
   "id": "c939553a-0c83-4d24-b5b1-90042f57d910",
   "metadata": {},
   "outputs": [],
   "source": [
    "\n",
    "PG_PresAbs_LRAsmQC_PATH_Dict = {}\n",
    "# for i_param in [\"SR_Panaroo_Strict_MP\", \"SR_Panaroo_Moderate_MP\", \"SR_Panaroo_Sens_MP\", #\"SR_Roary_Default\",  \n",
    "#                  \"SR_Roary_NoSplitParalogs\", \"SR_Roary_NoSplitParalogs_I90\", \"SR_Roary_NoSplitParalogs_I80\"]:\n",
    "\n",
    "for i_param in [\"SR_Roary_NoSplitParalogs_I80\"]:\n",
    "                     \n",
    "    i_outdir = PG_OutDir_Dict[i_param]\n",
    "    PG_PresAbs_LRAsmQC_PATH_Dict[i_param] = f\"{i_outdir}/gene_presence_absence.csv.DNAseqQCWiLRAsm.csv\" \n"
   ]
  },
  {
   "cell_type": "code",
   "execution_count": 43,
   "id": "a90c4a2b-9361-451a-afb1-f9ea765e5da9",
   "metadata": {},
   "outputs": [],
   "source": [
    "for i_Param, i_SR_PresAbs_LRAsmSeqQC_DF in PresAbs_DF_SRPG_QC_WiLRAsmSeqChk_Dict.items():\n",
    "\n",
    "    i_SR_PresAbs_SeqQCWiLRAsm_TSV_PATH = PG_PresAbs_LRAsmQC_PATH_Dict[i_Param]\n",
    "    # Output\n",
    "    i_SR_PresAbs_LRAsmSeqQC_DF.to_csv(i_SR_PresAbs_SeqQCWiLRAsm_TSV_PATH,\n",
    "                                      sep = \"\\t\", index= False)\n",
    "\n",
    "    "
   ]
  },
  {
   "cell_type": "markdown",
   "id": "9e19394e-4adc-409a-84e8-2a46984f6765",
   "metadata": {},
   "source": [
    "#### Look at size of output files"
   ]
  },
  {
   "cell_type": "code",
   "execution_count": 44,
   "id": "c3a32841-3fd8-4041-ad8b-fe6256299072",
   "metadata": {},
   "outputs": [
    {
     "name": "stdout",
     "output_type": "stream",
     "text": [
      "SR_Roary_NoSplitParalogs_I80\n",
      "\n",
      "00fa800897c38ecf7c00a7cd9af74ade  /n/data1/hms/dbmi/farhat/mm774/Projects/Mtb-WGA-SMK-Output/231121_MtbSetV3_151CI/PanGenome_Analysis/SR_Roary_NoSplitParalogs_I80_AllIsolates/gene_presence_absence.csv.DNAseqQCWiLRAsm.csv\n",
      "4867 /n/data1/hms/dbmi/farhat/mm774/Projects/Mtb-WGA-SMK-Output/231121_MtbSetV3_151CI/PanGenome_Analysis/SR_Roary_NoSplitParalogs_I80_AllIsolates/gene_presence_absence.csv.DNAseqQCWiLRAsm.csv\n",
      "984K\t/n/data1/hms/dbmi/farhat/mm774/Projects/Mtb-WGA-SMK-Output/231121_MtbSetV3_151CI/PanGenome_Analysis/SR_Roary_NoSplitParalogs_I80_AllIsolates/gene_presence_absence.csv.DNAseqQCWiLRAsm.csv\n",
      "------\n",
      "\n"
     ]
    }
   ],
   "source": [
    "for i_Param, i_SR_PresAbs_LRAsmSeqQC_DF in PresAbs_DF_SRPG_QC_WiLRAsmSeqChk_Dict.items():\n",
    "\n",
    "    i_SR_PresAbs_SeqQCWiLRAsm_TSV_PATH = PG_PresAbs_LRAsmQC_PATH_Dict[i_Param]\n",
    "    print(i_Param)\n",
    "    print()\n",
    "    !md5sum $i_SR_PresAbs_SeqQCWiLRAsm_TSV_PATH\n",
    "    !wc -l $i_SR_PresAbs_SeqQCWiLRAsm_TSV_PATH\n",
    "    !du -sh $i_SR_PresAbs_SeqQCWiLRAsm_TSV_PATH\n",
    "    \n",
    "    print(\"------\\n\")"
   ]
  },
  {
   "cell_type": "code",
   "execution_count": null,
   "id": "e94ee117-e2b8-44a1-9321-028b0c8af536",
   "metadata": {},
   "outputs": [],
   "source": []
  },
  {
   "cell_type": "code",
   "execution_count": null,
   "id": "af9187c5-fd81-4f4e-a104-1f9e819df4c6",
   "metadata": {},
   "outputs": [],
   "source": []
  },
  {
   "cell_type": "code",
   "execution_count": null,
   "id": "a2fff930-714a-42bb-b88d-49473670e988",
   "metadata": {},
   "outputs": [],
   "source": []
  }
 ],
 "metadata": {
  "kernelspec": {
   "display_name": "py37_S",
   "language": "python",
   "name": "py37_s"
  },
  "language_info": {
   "codemirror_mode": {
    "name": "ipython",
    "version": 3
   },
   "file_extension": ".py",
   "mimetype": "text/x-python",
   "name": "python",
   "nbconvert_exporter": "python",
   "pygments_lexer": "ipython3",
   "version": "3.7.3"
  }
 },
 "nbformat": 4,
 "nbformat_minor": 5
}
