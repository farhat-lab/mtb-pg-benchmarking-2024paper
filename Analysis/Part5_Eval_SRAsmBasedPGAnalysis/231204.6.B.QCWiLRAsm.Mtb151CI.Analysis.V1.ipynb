{
 "cells": [
  {
   "cell_type": "code",
   "execution_count": null,
   "id": "7d3d9e27-be1c-48a3-9347-3399110c70aa",
   "metadata": {},
   "outputs": [],
   "source": []
  },
  {
   "cell_type": "code",
   "execution_count": 1,
   "id": "b392fe9c-0b5f-442d-8d4e-e2a175bf34f5",
   "metadata": {},
   "outputs": [],
   "source": [
    "\n",
    "import numpy as np\n",
    "import matplotlib.pyplot as plt\n",
    "import seaborn as sns\n",
    "import pandas as pd\n",
    "from tqdm import tqdm\n",
    "%matplotlib inline\n"
   ]
  },
  {
   "cell_type": "code",
   "execution_count": 2,
   "id": "b1a6f44c-7433-4c2c-a3c6-5e68e104b797",
   "metadata": {},
   "outputs": [],
   "source": [
    "%reload_ext autoreload\n",
    "%autoreload 2\n",
    "\n",
    "### import panqc (pan-genome quality control) toolkit functions\n",
    "from panqc.ava import ava\n",
    "from panqc.nscluster import clusterBy_KmerJC, summarize_NSClusters, create_MaxKmerSim_JC_Dict, create_MST_FiltByJC, make_ClusterID_Maps \n",
    "from panqc.nscluster import make_NS_ClusterMerged_Pres_DF\n",
    "\n",
    "\n",
    "from panqc.utils import parse_PresAbs_Rtab, parse_PresAbs_CSV_Roary, parse_PresAbs_CSV_Panaroo, get_PG_Stats_FromPresAbs\n",
    "\n",
    "from panqc.utils import  parse_PG_Ref_FA, get_PG_Stats_FromDNASeqPresAbs, get_PG_Stats_FromPresAbs_V2\n",
    "\n",
    "\n",
    "from panqc.asm_gene_search import parse_AlnHits_To_DF\n",
    "from panqc.asm_gene_search import PresAbsQC_CheckAsmForGeneSeq, SRAsm_PresAbsQC_CheckInLRAsm\n",
    "from panqc.asm_gene_search import get_SRAsm_Vs_LRAsm_QCStats\n"
   ]
  },
  {
   "cell_type": "code",
   "execution_count": 3,
   "id": "b955fcd9-d1f0-40bd-b53f-fd9e8971f2bc",
   "metadata": {},
   "outputs": [],
   "source": [
    "import time"
   ]
  },
  {
   "cell_type": "code",
   "execution_count": 4,
   "id": "fdbdb55f-a4cc-487b-8c62-f70b4cf82aa0",
   "metadata": {},
   "outputs": [],
   "source": [
    "import screed"
   ]
  },
  {
   "cell_type": "code",
   "execution_count": 5,
   "id": "e88fb945-df0e-4ddb-9e31-15d12e55fa06",
   "metadata": {},
   "outputs": [],
   "source": [
    "import mappy as mp"
   ]
  },
  {
   "cell_type": "code",
   "execution_count": 6,
   "id": "9e582d06-3a99-4050-b855-af4be59d47df",
   "metadata": {},
   "outputs": [],
   "source": [
    "# Set max column width to a specific value (e.g., 100 characters)\n",
    "pd.set_option('display.max_colwidth', 100)\n",
    "# Set to display a specific number of columns (e.g., 20 columns)\n",
    "pd.set_option('display.max_columns', 180)"
   ]
  },
  {
   "cell_type": "code",
   "execution_count": null,
   "id": "41e593e2-7927-46d1-a171-53c8aa6b3cde",
   "metadata": {},
   "outputs": [],
   "source": []
  },
  {
   "cell_type": "code",
   "execution_count": null,
   "id": "ce06eac5-731e-40d0-b117-8c0138afa437",
   "metadata": {},
   "outputs": [],
   "source": []
  },
  {
   "cell_type": "markdown",
   "id": "e8143014-14c6-4567-a8df-465adbfe68f6",
   "metadata": {
    "toc-hr-collapsed": true
   },
   "source": [
    "# Parse sample metadata & preprocessed genome info/results"
   ]
  },
  {
   "cell_type": "code",
   "execution_count": 7,
   "id": "53f8893e-924c-4fb7-b6a4-92ca432d4486",
   "metadata": {},
   "outputs": [
    {
     "name": "stdout",
     "output_type": "stream",
     "text": [
      "/n/data1/hms/dbmi/farhat/mm774/Snakemake_Pipelines/mtb-pg-benchmarking-2024paper/Analysis/Part5_Eval_SRAsmBasedPGAnalysis\n"
     ]
    }
   ],
   "source": [
    "!pwd"
   ]
  },
  {
   "cell_type": "code",
   "execution_count": 8,
   "id": "91db9322-bfa4-4048-81cd-6734eb6388af",
   "metadata": {},
   "outputs": [],
   "source": [
    "#!ls -1 ../../Data"
   ]
  },
  {
   "cell_type": "markdown",
   "id": "eacbe907-0c3b-48d7-b369-ecf2b30036cf",
   "metadata": {},
   "source": [
    "## Parse sample Metadata (N = 151)"
   ]
  },
  {
   "cell_type": "code",
   "execution_count": 9,
   "id": "1aef7cbc-b21e-4bd8-95bb-0f05105c597e",
   "metadata": {},
   "outputs": [
    {
     "data": {
      "text/plain": [
       "(151, 7)"
      ]
     },
     "execution_count": 9,
     "metadata": {},
     "output_type": "execute_result"
    }
   ],
   "source": [
    "Repo_DataDir = \"../../Data\"\n",
    "InputAsmPath_Dir = f\"{Repo_DataDir}/231121.InputAsmTSVs.MtbSetV3.151CI\"\n",
    "\n",
    "MtbSetV3_151CI_InputAsmPATHs_TSV = f\"{InputAsmPath_Dir}/231121.MtbSetV3.151CI.HybridAndSRAsm.FAPATHs.V1.tsv\"\n",
    "\n",
    "MtbSetV3_151CI_AsmSumm_TSV = f\"{InputAsmPath_Dir}/231121.MtbSetV3.151CI.HybridAsm.AsmSummary.V2.tsv\"\n",
    "\n",
    "WGA151CI_AsmSummary_DF = pd.read_csv(MtbSetV3_151CI_AsmSumm_TSV, sep = \"\\t\")\n",
    "\n",
    "SampleIDs_151CI_SOI = list( WGA151CI_AsmSummary_DF[\"SampleID\"].values )\n",
    "WGA151CI_SampleIDs = SampleIDs_151CI_SOI\n",
    "\n",
    "ID_To_PrimLineage_Dict = dict(WGA151CI_AsmSummary_DF[['SampleID', 'PrimaryLineage']].values)\n",
    "ID_To_SubLineage_Dict = dict( WGA151CI_AsmSummary_DF[[\"SampleID\", \"Lineage\"]].values)\n",
    "ID_To_Dataset_Dict = dict(WGA151CI_AsmSummary_DF[['SampleID', 'Dataset_Tag']].values)\n",
    "WGA151CI_AsmSummary_DF.shape"
   ]
  },
  {
   "cell_type": "markdown",
   "id": "462ad9fe-81ae-4a68-890b-04e259e81856",
   "metadata": {},
   "source": [
    "## PARSE PATHs FOR ALL assemblies processed by this pipeline"
   ]
  },
  {
   "cell_type": "code",
   "execution_count": 10,
   "id": "fbd853bb-9459-4e52-b0a9-e1010591db70",
   "metadata": {},
   "outputs": [
    {
     "name": "stdout",
     "output_type": "stream",
     "text": [
      "Index(['SampleID', 'Dataset_Tag', 'Genome_ASM_PATH',\n",
      "       'ShortRead_Genome_ASM_PATH'],\n",
      "      dtype='object')\n"
     ]
    }
   ],
   "source": [
    "WGA151CI_LRandSR_Asm_Path_DF = pd.read_csv(MtbSetV3_151CI_InputAsmPATHs_TSV, sep = \"\\t\")\n",
    "print(WGA151CI_LRandSR_Asm_Path_DF.columns)\n",
    "WGA151CI_LRandSR_Asm_Path_DF.columns = ['SampleID', 'Dataset_Tag',\n",
    "                                        'Genome_LR_ASM_PATH', 'Genome_SR_ASM_PATH']\n"
   ]
  },
  {
   "cell_type": "code",
   "execution_count": 11,
   "id": "9cfcdecf-d781-4827-8770-616a50f9648a",
   "metadata": {},
   "outputs": [
    {
     "data": {
      "text/html": [
       "<div>\n",
       "<style scoped>\n",
       "    .dataframe tbody tr th:only-of-type {\n",
       "        vertical-align: middle;\n",
       "    }\n",
       "\n",
       "    .dataframe tbody tr th {\n",
       "        vertical-align: top;\n",
       "    }\n",
       "\n",
       "    .dataframe thead th {\n",
       "        text-align: right;\n",
       "    }\n",
       "</style>\n",
       "<table border=\"1\" class=\"dataframe\">\n",
       "  <thead>\n",
       "    <tr style=\"text-align: right;\">\n",
       "      <th></th>\n",
       "      <th>SampleID</th>\n",
       "      <th>Dataset_Tag</th>\n",
       "      <th>Genome_LR_ASM_PATH</th>\n",
       "      <th>Genome_SR_ASM_PATH</th>\n",
       "    </tr>\n",
       "  </thead>\n",
       "  <tbody>\n",
       "    <tr>\n",
       "      <th>0</th>\n",
       "      <td>N0072</td>\n",
       "      <td>ChinerOms_2019</td>\n",
       "      <td>/n/data1/hms/dbmi/farhat/mm774/Projects/231121.MtbSetV3.151CI.CompleteAndSR.Asms/ChinerOms_2019/...</td>\n",
       "      <td>/n/data1/hms/dbmi/farhat/mm774/Projects/231121.MtbSetV3.151CI.CompleteAndSR.Asms/ChinerOms_2019/...</td>\n",
       "    </tr>\n",
       "  </tbody>\n",
       "</table>\n",
       "</div>"
      ],
      "text/plain": [
       "  SampleID     Dataset_Tag  \\\n",
       "0    N0072  ChinerOms_2019   \n",
       "\n",
       "                                                                                    Genome_LR_ASM_PATH  \\\n",
       "0  /n/data1/hms/dbmi/farhat/mm774/Projects/231121.MtbSetV3.151CI.CompleteAndSR.Asms/ChinerOms_2019/...   \n",
       "\n",
       "                                                                                    Genome_SR_ASM_PATH  \n",
       "0  /n/data1/hms/dbmi/farhat/mm774/Projects/231121.MtbSetV3.151CI.CompleteAndSR.Asms/ChinerOms_2019/...  "
      ]
     },
     "execution_count": 11,
     "metadata": {},
     "output_type": "execute_result"
    }
   ],
   "source": [
    "WGA151CI_LRandSR_Asm_Path_DF.head(1)"
   ]
  },
  {
   "cell_type": "markdown",
   "id": "515975c5-8a44-4331-94e4-a6614d0226ba",
   "metadata": {},
   "source": [
    "#### Create Dict of Asm FA PATHs"
   ]
  },
  {
   "cell_type": "code",
   "execution_count": 12,
   "id": "2978f453-fcf7-47f3-a8a1-310a572f700b",
   "metadata": {},
   "outputs": [],
   "source": [
    "\n",
    "LR_AsmFA_Dict = dict(WGA151CI_LRandSR_Asm_Path_DF[['SampleID', 'Genome_LR_ASM_PATH']].values)\n",
    "SR_AsmFA_Dict = dict(WGA151CI_LRandSR_Asm_Path_DF[['SampleID', 'Genome_SR_ASM_PATH']].values)\n"
   ]
  },
  {
   "cell_type": "code",
   "execution_count": null,
   "id": "90b2e110-52ec-48bf-857f-10cfa78ff305",
   "metadata": {},
   "outputs": [],
   "source": []
  },
  {
   "cell_type": "code",
   "execution_count": null,
   "id": "7c2fc03c-1570-40e6-a772-01238164b5da",
   "metadata": {},
   "outputs": [],
   "source": []
  },
  {
   "cell_type": "markdown",
   "id": "77c52ffe-e0d2-48d8-a72e-4b8755fcfcb6",
   "metadata": {},
   "source": [
    "### Define Phylo order of samples:"
   ]
  },
  {
   "cell_type": "code",
   "execution_count": 13,
   "id": "78aec117-7fb5-4994-b276-f8e6696973f3",
   "metadata": {},
   "outputs": [],
   "source": [
    "OrderOfSampleIDs_Phylo = ['N0153', 'N0072', 'mada_2-46', 'mada_1-44', 'mada_107',\n",
    "                          'mada_1-1', 'mada_1-51', 'mada_1-39', 'mada_1-36',\n",
    "                          'mada_117', 'mada_122', 'mada_118', 'mada_1-10', 'R27252',\n",
    "                          'R23887', 'TB3091', '9050-05', '3003-06', '702-06', '696-05',\n",
    "                          '8651-04', 'TB3396', '4549-04', 'TB1612', 'TB2780', 'TB3368',\n",
    "                          'TB1236', 'TB2659', '8129-04', 'R30215', 'R25048', 'TB2512',\n",
    "                          'TB2981', 'TB2995', 'TB3113', '706-05', 'R30078', 'R28012',\n",
    "                          'R27657', 'R30234', 'R31095', 'R28703', 'R24120', 'R36431',\n",
    "                          'R29816', 'S0070-08', 'N0155', 'N0145', 'R29598', 'R24100',\n",
    "                          'S0107-01', 'R28581', 'S0256-08', 'S0085-01', 'S0089-01',\n",
    "                          'mada_1-11', 'M0003941_3', 'mada_115', 'mada_2-42', 'R37765',\n",
    "                          '18_0621851', 'R22601', 'R27937', 'R18040', 'R18043', 'R27725',\n",
    "                          'R26791', 'R20574', 'R20260', 'R21408', 'R23146', 'R28980', 'R32929',\n",
    "                          'R26778', 'R30420', 'R21893', 'QC-9', 'QC-5', 'QC-3', 'N0004',\n",
    "                          'mada_1-30', 'N0054', 'N1274', '01_R1134', 'TB2968', 'mada_1-53',\n",
    "                          'mada_2-53', 'mada_1-50', 'mada_2-1', 'R23571', 'mada_123',\n",
    "                          'mada_1-12', 'mada_1-15', 'mada_128', 'mada_1-38', 'TB3054',\n",
    "                          'mada_126', 'mada_120', 'TB4620', 'M0016737_0', 'M0016395_7',\n",
    "                          'R15311', 'TB2661', 'TB3386', 'TB3162', '02_R1179', 'M0010874_7',\n",
    "                          'QC-7', 'QC-6', 'QC-1', '01_R1430', 'M0011368_9', '02_R1896',\n",
    "                          'mada_2-25', 'TB3237', 'mada_103', 'mada_112', 'mada_124',\n",
    "                          'S0123-01', 'S0262-02', 'TB3251', 'M0017522_5', 'R30396', 'R20896',\n",
    "                          'mada_1-32', 'S0106-01', 'R21839', 'R21363', 'R21770', 'MT_0080','mada_102',\n",
    "                          'TB3334', 'M0014888_3', 'mada_151', 'TB3169', 'mada_105', 'QC-8',\n",
    "                          'QC-10', 'QC-4', 'mada_129', 'mada_139', '02_R1708', '02_R0894',\n",
    "                          'mada_2-31', 'mada_1-41', 'N1272', 'N1176', 'N1202', 'N0091',\n",
    "                          'N1177','RW-TB008']\n"
   ]
  },
  {
   "cell_type": "code",
   "execution_count": null,
   "id": "2ef59200-8ebe-4bc2-880b-945c084b7d4d",
   "metadata": {},
   "outputs": [],
   "source": []
  },
  {
   "cell_type": "code",
   "execution_count": null,
   "id": "96e2c0f3-c2a7-4812-8c42-6944713252c5",
   "metadata": {},
   "outputs": [],
   "source": []
  },
  {
   "cell_type": "markdown",
   "id": "02f708e7-84e1-4286-bf20-5b0871312d4c",
   "metadata": {},
   "source": [
    "### Parse Asm QC results"
   ]
  },
  {
   "cell_type": "code",
   "execution_count": 14,
   "id": "95127b93-87ba-4846-a835-22912190eabd",
   "metadata": {},
   "outputs": [
    {
     "name": "stdout",
     "output_type": "stream",
     "text": [
      "230905_Ecoli_50CI_Metadata_Shaw2021\n",
      "231121_HybridMtbAsm_QCPass_Meta_Set3_AsmPolishStats_OLD\n",
      "231121.InputAsmTSVs.MtbSetV3.151CI\n",
      "231130_Mtb_HybridVsSR_AsmSummary_TSVs\n",
      "240116.PG_Results\n",
      "Ecoli_50CI_Phylo\n",
      "Evaluate_SRAsmPGAnalysis_WiHybridAsm\n",
      "MtbPangenomeAnalysis_SetV3\n",
      "MtbPangenomeAnalysis_SetV4\n",
      "README.md\n",
      "SRAENA_RunMetadata\n"
     ]
    }
   ],
   "source": [
    "!ls -1 ../../Data "
   ]
  },
  {
   "cell_type": "code",
   "execution_count": 15,
   "id": "b35d244b-4f73-45c6-a3bb-038337fa54a0",
   "metadata": {},
   "outputs": [
    {
     "name": "stdout",
     "output_type": "stream",
     "text": [
      "(151, 16)\n",
      "(302, 11)\n"
     ]
    }
   ],
   "source": [
    "Repo_DataDir = \"../../Data\"\n",
    "\n",
    "AsmSummary_TSVs_Dir = Repo_DataDir + \"/231130_Mtb_HybridVsSR_AsmSummary_TSVs\"   \n",
    "\n",
    "WGA151CI_AsmQCSumm_TSV = f\"{AsmSummary_TSVs_Dir}/231130.WGA158CI.LRvsSR.AsmQC.V1.tsv\"\n",
    "WGA151CI_AsmQC_Tidy_TSV = f\"{AsmSummary_TSVs_Dir}/231130.WGA158CI.LRvsSR.AsmQC.V1.Tidy.tsv\"\n",
    "\n",
    "WGA151CI_Asm_LRvsSR_DF = pd.read_csv(WGA151CI_AsmQCSumm_TSV, sep=\"\\t\")\n",
    "print(WGA151CI_Asm_LRvsSR_DF.shape)\n",
    "\n",
    "WGA151CI_Asm_LRvsSR_TidyDF = pd.read_csv(WGA151CI_AsmQC_Tidy_TSV, sep=\"\\t\")\n",
    "print(WGA151CI_Asm_LRvsSR_TidyDF.shape)"
   ]
  },
  {
   "cell_type": "code",
   "execution_count": 16,
   "id": "f1e0dc42-8af8-49c7-929f-ebd2d71ef721",
   "metadata": {},
   "outputs": [],
   "source": [
    "SRAsm_BUSCO_Dict = WGA151CI_Asm_LRvsSR_DF.set_index('SampleID')['SRAsm_Busco_Complete_Score'].to_dict()   \n"
   ]
  },
  {
   "cell_type": "markdown",
   "id": "1d2008d9-179a-4cd4-b800-c452d8a43615",
   "metadata": {
    "tags": []
   },
   "source": [
    "### Get SampleIDs associated w/ High & Low BUSCO scores (>= 99 or < 99)"
   ]
  },
  {
   "cell_type": "code",
   "execution_count": 17,
   "id": "0b4399c1-be2c-4d45-8393-cf07fa1dd84d",
   "metadata": {},
   "outputs": [
    {
     "data": {
      "text/plain": [
       "(136, 16)"
      ]
     },
     "execution_count": 17,
     "metadata": {},
     "output_type": "execute_result"
    }
   ],
   "source": [
    "WGA151CI_Asm_LRvsSR_DF.query(\"SRAsm_Busco_Complete_Score >= 99\").shape"
   ]
  },
  {
   "cell_type": "code",
   "execution_count": 18,
   "id": "530a3e3e-3c8f-4925-85ff-18c2ccfc4750",
   "metadata": {},
   "outputs": [
    {
     "data": {
      "text/plain": [
       "(15, 16)"
      ]
     },
     "execution_count": 18,
     "metadata": {},
     "output_type": "execute_result"
    }
   ],
   "source": [
    "WGA151CI_Asm_LRvsSR_DF.query(\"SRAsm_Busco_Complete_Score < 99\").shape"
   ]
  },
  {
   "cell_type": "code",
   "execution_count": 19,
   "id": "55e6a164-dff6-4db4-883e-d5dd7eef7a7e",
   "metadata": {},
   "outputs": [],
   "source": [
    "High_SRBusco_SampleIDs_136CI = WGA151CI_Asm_LRvsSR_DF.query(\"SRAsm_Busco_Complete_Score >= 99\")[\"SampleID\"].values     \n",
    "\n",
    "Low_SRBusco_SampleIDs_15CI = WGA151CI_Asm_LRvsSR_DF.query(\"SRAsm_Busco_Complete_Score < 99\")[\"SampleID\"].values\n",
    "\n",
    "# Extracting the mapping between SampleID and SR BUSCO Score\n",
    "SampleTo_SRBUSCO_Map = WGA151CI_Asm_LRvsSR_DF.set_index('SampleID')['SRAsm_Busco_Complete_Score'].to_dict()\n"
   ]
  },
  {
   "cell_type": "code",
   "execution_count": 20,
   "id": "f5d029d0-b8d6-4e2c-a63d-f03ac21a5e40",
   "metadata": {},
   "outputs": [
    {
     "data": {
      "text/plain": [
       "array(['TB1612', 'TB2981', '02_R1896', 'TB3334', 'N1176', 'N1177',\n",
       "       'RW-TB008', 'QC-7', 'mada_107', 'R30215', 'R25048', 'R21408',\n",
       "       'R21770', 'R20896', 'mada_1-38'], dtype=object)"
      ]
     },
     "execution_count": 20,
     "metadata": {},
     "output_type": "execute_result"
    }
   ],
   "source": [
    "Low_SRBusco_SampleIDs_15CI"
   ]
  },
  {
   "cell_type": "code",
   "execution_count": 21,
   "id": "2e3a6c82-35fd-410b-a790-d00f44fcb64a",
   "metadata": {},
   "outputs": [
    {
     "data": {
      "text/plain": [
       "15"
      ]
     },
     "execution_count": 21,
     "metadata": {},
     "output_type": "execute_result"
    }
   ],
   "source": [
    "len(Low_SRBusco_SampleIDs_15CI)"
   ]
  },
  {
   "cell_type": "code",
   "execution_count": 22,
   "id": "e54b864a-c599-4bad-9b00-f84a0c58e938",
   "metadata": {},
   "outputs": [
    {
     "data": {
      "text/plain": [
       "136"
      ]
     },
     "execution_count": 22,
     "metadata": {},
     "output_type": "execute_result"
    }
   ],
   "source": [
    "len(High_SRBusco_SampleIDs_136CI)"
   ]
  },
  {
   "cell_type": "code",
   "execution_count": 23,
   "id": "9948fbd0-f52d-41ba-ba74-6f04587446da",
   "metadata": {},
   "outputs": [
    {
     "data": {
      "text/html": [
       "<div>\n",
       "<style scoped>\n",
       "    .dataframe tbody tr th:only-of-type {\n",
       "        vertical-align: middle;\n",
       "    }\n",
       "\n",
       "    .dataframe tbody tr th {\n",
       "        vertical-align: top;\n",
       "    }\n",
       "\n",
       "    .dataframe thead th {\n",
       "        text-align: right;\n",
       "    }\n",
       "</style>\n",
       "<table border=\"1\" class=\"dataframe\">\n",
       "  <thead>\n",
       "    <tr style=\"text-align: right;\">\n",
       "      <th></th>\n",
       "      <th>SampleID</th>\n",
       "      <th>numContigs_Complete</th>\n",
       "      <th>Flye_CircContig_Cov</th>\n",
       "      <th>PrimaryLineage</th>\n",
       "      <th>Lineage</th>\n",
       "      <th>Dataset_Tag</th>\n",
       "      <th>AsmApproach</th>\n",
       "    </tr>\n",
       "  </thead>\n",
       "  <tbody>\n",
       "    <tr>\n",
       "      <th>0</th>\n",
       "      <td>N0072</td>\n",
       "      <td>1</td>\n",
       "      <td>358</td>\n",
       "      <td>lineage1</td>\n",
       "      <td>lineage1,lineage1.1,lineage1.1.2</td>\n",
       "      <td>ChinerOms_2019</td>\n",
       "      <td>PBrs2_LR_Flye_I3_SR_Pilon</td>\n",
       "    </tr>\n",
       "    <tr>\n",
       "      <th>1</th>\n",
       "      <td>N0153</td>\n",
       "      <td>1</td>\n",
       "      <td>372</td>\n",
       "      <td>lineage1</td>\n",
       "      <td>lineage1,lineage1.1,lineage1.1.1,lineage1.1.1.1</td>\n",
       "      <td>ChinerOms_2019</td>\n",
       "      <td>PBrs2_LR_Flye_I3_SR_Pilon</td>\n",
       "    </tr>\n",
       "    <tr>\n",
       "      <th>2</th>\n",
       "      <td>TB3113</td>\n",
       "      <td>1</td>\n",
       "      <td>933</td>\n",
       "      <td>lineage2</td>\n",
       "      <td>lineage2,lineage2.2,lineage2.2.1</td>\n",
       "      <td>TB_Portals_24CI_R1</td>\n",
       "      <td>PBrs2_LR_Flye_I3_SR_Pilon</td>\n",
       "    </tr>\n",
       "    <tr>\n",
       "      <th>3</th>\n",
       "      <td>TB1236</td>\n",
       "      <td>1</td>\n",
       "      <td>374</td>\n",
       "      <td>lineage2</td>\n",
       "      <td>lineage2,lineage2.2,lineage2.2.1</td>\n",
       "      <td>TB_Portals_24CI_R1</td>\n",
       "      <td>PBrs2_LR_Flye_I3_SR_Pilon</td>\n",
       "    </tr>\n",
       "    <tr>\n",
       "      <th>4</th>\n",
       "      <td>TB2659</td>\n",
       "      <td>1</td>\n",
       "      <td>421</td>\n",
       "      <td>lineage2</td>\n",
       "      <td>lineage2,lineage2.2,lineage2.2.1</td>\n",
       "      <td>TB_Portals_24CI_R1</td>\n",
       "      <td>PBrs2_LR_Flye_I3_SR_Pilon</td>\n",
       "    </tr>\n",
       "  </tbody>\n",
       "</table>\n",
       "</div>"
      ],
      "text/plain": [
       "  SampleID  numContigs_Complete  Flye_CircContig_Cov PrimaryLineage  \\\n",
       "0    N0072                    1                  358       lineage1   \n",
       "1    N0153                    1                  372       lineage1   \n",
       "2   TB3113                    1                  933       lineage2   \n",
       "3   TB1236                    1                  374       lineage2   \n",
       "4   TB2659                    1                  421       lineage2   \n",
       "\n",
       "                                           Lineage         Dataset_Tag  \\\n",
       "0                 lineage1,lineage1.1,lineage1.1.2      ChinerOms_2019   \n",
       "1  lineage1,lineage1.1,lineage1.1.1,lineage1.1.1.1      ChinerOms_2019   \n",
       "2                 lineage2,lineage2.2,lineage2.2.1  TB_Portals_24CI_R1   \n",
       "3                 lineage2,lineage2.2,lineage2.2.1  TB_Portals_24CI_R1   \n",
       "4                 lineage2,lineage2.2,lineage2.2.1  TB_Portals_24CI_R1   \n",
       "\n",
       "                 AsmApproach  \n",
       "0  PBrs2_LR_Flye_I3_SR_Pilon  \n",
       "1  PBrs2_LR_Flye_I3_SR_Pilon  \n",
       "2  PBrs2_LR_Flye_I3_SR_Pilon  \n",
       "3  PBrs2_LR_Flye_I3_SR_Pilon  \n",
       "4  PBrs2_LR_Flye_I3_SR_Pilon  "
      ]
     },
     "execution_count": 23,
     "metadata": {},
     "output_type": "execute_result"
    }
   ],
   "source": [
    "WGA151CI_AsmSummary_DF.head(5)"
   ]
  },
  {
   "cell_type": "markdown",
   "id": "c06add8f-cff9-4dd5-bc0b-37c6bcb6357c",
   "metadata": {},
   "source": [
    "#### Make sample lineage & color mapping"
   ]
  },
  {
   "cell_type": "code",
   "execution_count": 24,
   "id": "3fce5d51-1c62-4de2-9ec5-d723a9b33ec9",
   "metadata": {},
   "outputs": [],
   "source": [
    "# Dictionary for lineage to color mapping\n",
    "LinToColor_Dict = {\n",
    "    \"lineage1\": \"#DF83AC\",\n",
    "    \"lineage2\": \"#7098CB\",\n",
    "    \"lineage3\": \"#815D9F\",\n",
    "    \"lineage4\": \"#E76956\",\n",
    "    \"lineage5\": \"#B67548\",\n",
    "    \"lineage6\": \"#6AB79E\",\n",
    "    \"lineage8\": \"#E4515B\",\n",
    "    \"None\": \"black\",\n",
    "}\n",
    "\n",
    "# Extracting the mapping between IsolateID and PrimaryLineage_Ill\n",
    "lineage_mapping = WGA151CI_AsmSummary_DF.set_index('SampleID')['PrimaryLineage'].to_dict()\n",
    "\n",
    "# Creating a color mapping for the samples\n",
    "sample_colors = {sample: LinToColor_Dict.get(lineage, \"black\") for sample, lineage in lineage_mapping.items()}\n"
   ]
  },
  {
   "cell_type": "code",
   "execution_count": null,
   "id": "eec6e669-509e-4337-909b-2db13dedab25",
   "metadata": {},
   "outputs": [],
   "source": []
  },
  {
   "cell_type": "code",
   "execution_count": null,
   "id": "922cc0a3-ef4e-4adf-b154-015fb91d4da6",
   "metadata": {},
   "outputs": [],
   "source": []
  },
  {
   "cell_type": "code",
   "execution_count": null,
   "id": "5c982696-ea8f-40b0-baa3-027f99dd77cf",
   "metadata": {},
   "outputs": [],
   "source": []
  },
  {
   "cell_type": "markdown",
   "id": "ab70a5c4-e3e6-4f55-8cf1-6b1fb58b9750",
   "metadata": {},
   "source": [
    "# Define output dir of the Mtb-WGA-SMK processing pipeline"
   ]
  },
  {
   "cell_type": "code",
   "execution_count": 25,
   "id": "beaf5646-a0ce-445b-913b-4b96affd97bb",
   "metadata": {},
   "outputs": [],
   "source": [
    "# Define varaint calling pipeline output directories\n",
    "\n",
    "WGA_SMK_Outputs_Dir = \"/n/data1/hms/dbmi/farhat/mm774/Projects/Mtb-WGA-SMK-Output\"\n",
    "\n",
    "WGA151CI_SMK_OutputDir = WGA_SMK_Outputs_Dir + \"/231121_MtbSetV3_151CI\"\n",
    "\n",
    "MtbWGA_SMK_Pipeline_OutputDir = WGA151CI_SMK_OutputDir\n"
   ]
  },
  {
   "cell_type": "markdown",
   "id": "4882515f-d71f-4a83-92db-ae07c45c2a56",
   "metadata": {},
   "source": [
    "## Define output dirs of Pangenome Analysis pipelines"
   ]
  },
  {
   "cell_type": "code",
   "execution_count": 26,
   "id": "3f54dcb7-632c-40d7-9c29-a062d29dd772",
   "metadata": {},
   "outputs": [],
   "source": [
    "target_OutputDir = MtbWGA_SMK_Pipeline_OutputDir\n",
    "\n",
    "i_Pangenome_Dir = f\"{target_OutputDir}/PanGenome_Analysis\"\n"
   ]
  },
  {
   "cell_type": "code",
   "execution_count": null,
   "id": "217dbbab-d321-410c-b94f-5d0aa52439da",
   "metadata": {},
   "outputs": [],
   "source": []
  },
  {
   "cell_type": "code",
   "execution_count": null,
   "id": "d427ad6e-3f3a-4888-aff8-7a6cee45e5d7",
   "metadata": {},
   "outputs": [],
   "source": []
  },
  {
   "cell_type": "markdown",
   "id": "dc716b28-5ccf-4df7-8348-8e3942dc6ad9",
   "metadata": {},
   "source": [
    "### Define path to Panaroo output files (158 LR genomes, MergeParalogs Parameters)"
   ]
  },
  {
   "cell_type": "code",
   "execution_count": 27,
   "id": "87b2f4af-8064-43ec-82c5-7cc1f43decd3",
   "metadata": {},
   "outputs": [],
   "source": [
    "# PipeName_WiParam_List = ['Panaroo_Strict_MergeParalogs', 'Panaroo_Moderate_MergeParalogs',\n",
    "#                          'Panaroo_Sensitive_MergeParalogs', 'Panaroo_Strict',\n",
    "#                          'Panaroo_Moderate', 'Panaroo_Sensitive',  'Roary_NoSplitParalogs_I80', 'Roary_NoSplitParalogs_I90',\n",
    "#                          'Roary_NoSplitParalogs',  'Roary_Default', 'Ppanggolin_Default']\n",
    "\n",
    "\n",
    "PG_OutDir_Dict = {   \"SR_Panaroo_Strict_MP\": f\"{i_Pangenome_Dir}/SR_Panaroo_Strict_MergeParalogs_AllIsolates\",\n",
    "                     \"SR_Panaroo_Moderate_MP\": f\"{i_Pangenome_Dir}/SR_Panaroo_Moderate_MergeParalogs_AllIsolates\",\n",
    "                     \"SR_Panaroo_Sens_MP\": f\"{i_Pangenome_Dir}/SR_Panaroo_Sensitive_MergeParalogs_AllIsolates\",\n",
    "                     \"SR_Roary_Default\": f\"{i_Pangenome_Dir}/SR_Roary_Default_AllIsolates\",\n",
    "                     \"SR_Roary_NoSplitParalogs\": f\"{i_Pangenome_Dir}/SR_Roary_NoSplitParalogs_AllIsolates\",\n",
    "                     \"SR_Roary_NoSplitParalogs_I90\": f\"{i_Pangenome_Dir}/SR_Roary_NoSplitParalogs_I90_AllIsolates\",\n",
    "                     \"SR_Roary_NoSplitParalogs_I80\": f\"{i_Pangenome_Dir}/SR_Roary_NoSplitParalogs_I80_AllIsolates\"\n",
    "                   }\n",
    "\n",
    "\n",
    "PG_PresAbs_CSV_PATH_Dict = {}\n",
    "for i_param, i_outdir in PG_OutDir_Dict.items():\n",
    "    PG_PresAbs_CSV_PATH_Dict[i_param] = f\"{i_outdir}/gene_presence_absence.csv\"  \n",
    "    \n",
    "PG_PresAbs_Rtab_PATH_Dict = {}\n",
    "for i_param, i_outdir in PG_OutDir_Dict.items():\n",
    "    PG_PresAbs_Rtab_PATH_Dict[i_param] = f\"{i_outdir}/gene_presence_absence.Rtab\"  \n",
    "\n",
    "PG_GeneRefFA_PATH_Dict = {}\n",
    "for i_param, i_outdir in PG_OutDir_Dict.items():\n",
    "    PG_GeneRefFA_PATH_Dict[i_param] = f\"{i_outdir}/pan_genome_reference.fa\"  \n",
    "\n",
    "PG_AvA_PATH_Dict = {}\n",
    "for i_param, i_outdir in PG_OutDir_Dict.items():\n",
    "    PG_AvA_PATH_Dict[i_param] = f\"{i_outdir}/pan_genome_reference.KmerComparison.AllVsAll.MaxJC.tsv\"\n",
    "\n",
    "\n",
    "PG_PresAbs_AsmGeneSeqChk_PATH_Dict = {}\n",
    "for i_param, i_outdir in PG_OutDir_Dict.items():\n",
    "    PG_PresAbs_AsmGeneSeqChk_PATH_Dict[i_param] = f\"{i_outdir}/gene_presence_absence.AsmGeneSeqChk.tsv\"\n",
    "\n",
    "PG_PresAbs_LRAsmQC_PATH_Dict = {}\n",
    "for i_param in [\"SR_Panaroo_Strict_MP\", \"SR_Panaroo_Moderate_MP\", \"SR_Panaroo_Sens_MP\", #\"SR_Roary_Default\",  \n",
    "                 \"SR_Roary_NoSplitParalogs\", \"SR_Roary_NoSplitParalogs_I90\", \"SR_Roary_NoSplitParalogs_I80\"]:\n",
    "\n",
    "    i_outdir = PG_OutDir_Dict[i_param]\n",
    "    PG_PresAbs_LRAsmQC_PATH_Dict[i_param] = f\"{i_outdir}/gene_presence_absence.csv.DNAseqQCWiLRAsm.csv\" \n"
   ]
  },
  {
   "cell_type": "code",
   "execution_count": 28,
   "id": "62e3e144-4541-411c-aca7-57f0524b0def",
   "metadata": {},
   "outputs": [],
   "source": [
    "#PG_PresAbs_LRAsmQC_PATH_Dict"
   ]
  },
  {
   "cell_type": "code",
   "execution_count": 29,
   "id": "8d6b2275-7f02-483a-a467-76a998ee4b75",
   "metadata": {},
   "outputs": [],
   "source": [
    "#PG_GeneRefFA_PATH_Dict"
   ]
  },
  {
   "cell_type": "code",
   "execution_count": 30,
   "id": "e3b1a245-664a-4489-881d-fa1d2f0e7a18",
   "metadata": {},
   "outputs": [],
   "source": [
    "#i_PG_Out = PG_OutDir_Dict[\"Panaroo_Strict_MP\"]   "
   ]
  },
  {
   "cell_type": "code",
   "execution_count": 31,
   "id": "cb1f29b0-074e-4f32-8b75-b7e94048b861",
   "metadata": {},
   "outputs": [],
   "source": [
    "#!ls -1 $i_PG_Out  "
   ]
  },
  {
   "cell_type": "code",
   "execution_count": 32,
   "id": "5fe9afa4-eded-429a-947f-e2aea88adf3b",
   "metadata": {},
   "outputs": [],
   "source": [
    "i_PG_Out = PG_OutDir_Dict[\"SR_Roary_NoSplitParalogs_I80\"]    "
   ]
  },
  {
   "cell_type": "code",
   "execution_count": 33,
   "id": "98cd1c83-3a56-4a62-a049-2d470d916f22",
   "metadata": {},
   "outputs": [
    {
     "name": "stdout",
     "output_type": "stream",
     "text": [
      "_1700897361\n",
      "accessory_binary_genes.fa\n",
      "accessory_binary_genes.fa.newick\n",
      "accessory_graph.dot\n",
      "accessory.header.embl\n",
      "accessory.tab\n",
      "blast_identity_frequency.Rtab\n",
      "clustered_proteins\n",
      "core_accessory_graph.dot\n",
      "core_accessory.header.embl\n",
      "core_accessory.tab\n",
      "core_alignment_header.embl\n",
      "core_gene_alignment.aln\n",
      "fixed_input_files\n",
      "gene_presence_absence.AsmGeneSeqChk.tsv\n",
      "gene_presence_absence.csv\n",
      "gene_presence_absence.csv.DNAseqQCWiLRAsm.csv\n",
      "gene_presence_absence.Rtab\n",
      "number_of_conserved_genes.Rtab\n",
      "number_of_genes_in_pan_genome.Rtab\n",
      "number_of_new_genes.Rtab\n",
      "number_of_unique_genes.Rtab\n",
      "pan_genome_reference.fa\n",
      "pan_genome_reference.KmerComparison.AllVsAll.MaxJC.tsv\n",
      "summary_statistics.txt\n",
      "tmp\n"
     ]
    }
   ],
   "source": [
    "!ls -1 $i_PG_Out  "
   ]
  },
  {
   "cell_type": "code",
   "execution_count": null,
   "id": "1f95f47c-3ab9-4968-adbb-8c61544ab2ae",
   "metadata": {},
   "outputs": [],
   "source": []
  },
  {
   "cell_type": "code",
   "execution_count": null,
   "id": "98af5114-9551-44f2-b1ff-5cd4f3c29a83",
   "metadata": {},
   "outputs": [],
   "source": []
  },
  {
   "cell_type": "markdown",
   "id": "8213c75b-eb60-4fd3-9383-6ee5e21625d1",
   "metadata": {},
   "source": [
    "# Parse in processed data"
   ]
  },
  {
   "cell_type": "markdown",
   "id": "8c1cc198-badf-4901-8d8e-a68a26b6b74f",
   "metadata": {},
   "source": [
    "### A) Parse in processed All vs All Kmer analysis"
   ]
  },
  {
   "cell_type": "code",
   "execution_count": 34,
   "id": "930a818c-c01d-4620-8497-496f01cc91b7",
   "metadata": {},
   "outputs": [],
   "source": [
    "AvA_DF_Dict = {}\n",
    "\n",
    "for i_Param, AvA_TSV_PATH in PG_AvA_PATH_Dict.items():\n",
    "\n",
    "    PG_AvA_DF = pd.read_csv(AvA_TSV_PATH, sep = \"\\t\" )\n",
    "    AvA_DF_Dict[i_Param] = PG_AvA_DF\n"
   ]
  },
  {
   "cell_type": "code",
   "execution_count": null,
   "id": "a19c49c8-1180-4f70-b041-7185aae7bde6",
   "metadata": {},
   "outputs": [],
   "source": []
  },
  {
   "cell_type": "markdown",
   "id": "d112d987-d66a-4126-8ac4-ddb0d0f48388",
   "metadata": {},
   "source": [
    "### B) Parse in Gene PresAbs Info"
   ]
  },
  {
   "cell_type": "code",
   "execution_count": 35,
   "id": "8f388e28-d1ba-4c11-9c5f-c1925b06b928",
   "metadata": {},
   "outputs": [
    {
     "name": "stderr",
     "output_type": "stream",
     "text": [
      "/home/mm774/conda3/envs/py37_S/lib/python3.7/site-packages/ipykernel_launcher.py:8: DtypeWarning: Columns (7,13,18,26,29,39,89,110,111,125,134,151) have mixed types.Specify dtype option on import or set low_memory=False.\n",
      "  \n"
     ]
    },
    {
     "name": "stdout",
     "output_type": "stream",
     "text": [
      "SR_Panaroo_Strict_MP (4211, 153)\n",
      "SR_Panaroo_Moderate_MP (4382, 153)\n",
      "SR_Panaroo_Sens_MP (4600, 153)\n",
      "SR_Roary_Default (6006, 153)\n",
      "SR_Roary_NoSplitParalogs (5025, 153)\n",
      "SR_Roary_NoSplitParalogs_I90 (4956, 153)\n",
      "SR_Roary_NoSplitParalogs_I80 (4866, 153)\n"
     ]
    }
   ],
   "source": [
    "PresAbs_DF_Dict = {}\n",
    "\n",
    "for i_Param, PresAbs_CSV_PATH in PG_PresAbs_CSV_PATH_Dict.items():\n",
    "\n",
    "    if \"Roary\" in i_Param: \n",
    "        i_Gene_PresAbs_DF = parse_PresAbs_CSV_Roary(PresAbs_CSV_PATH)\n",
    "    else:\n",
    "        i_Gene_PresAbs_DF = parse_PresAbs_CSV_Panaroo(PresAbs_CSV_PATH)\n",
    "\n",
    "    ### Relabel Columns for presence/absence tracking\n",
    "    i_Gene_PresAbs_DF.columns = [ x.split(\".Bakta\")[0] for x in i_Gene_PresAbs_DF.columns ]\n",
    "\n",
    "    print(i_Param, i_Gene_PresAbs_DF.shape)\n",
    "    \n",
    "    PresAbs_DF_Dict[i_Param] = i_Gene_PresAbs_DF\n",
    "    "
   ]
  },
  {
   "cell_type": "markdown",
   "id": "90c8cca8-795e-4339-8b0b-e3eb8a5af4db",
   "metadata": {},
   "source": [
    "### C) Parse in PG Gene Reference FASTAs for each PG output"
   ]
  },
  {
   "cell_type": "code",
   "execution_count": 36,
   "id": "f77bb34b-1189-4439-ac32-b7ef5932f1c1",
   "metadata": {},
   "outputs": [
    {
     "name": "stdout",
     "output_type": "stream",
     "text": [
      "SR_Panaroo_Strict_MP 4211\n",
      "SR_Panaroo_Moderate_MP 4382\n",
      "SR_Panaroo_Sens_MP 4600\n",
      "SR_Roary_Default 6006\n",
      "SR_Roary_NoSplitParalogs 5025\n",
      "SR_Roary_NoSplitParalogs_I90 4956\n",
      "SR_Roary_NoSplitParalogs_I80 4866\n"
     ]
    }
   ],
   "source": [
    "\n",
    "PG_RefSeqs_DF_Dict = {}\n",
    "\n",
    "for i_Param, i_PG_Ref_FA_PATH in PG_GeneRefFA_PATH_Dict.items():\n",
    "    #print(i_PG_Ref_FA_PATH)\n",
    "    PG_RefSeqs_DF_Dict[i_Param] = parse_PG_Ref_FA(i_PG_Ref_FA_PATH)\n",
    "\n",
    "    LR_PG_Ref_IDs = list( PG_RefSeqs_DF_Dict[i_Param].keys())\n",
    "    print(i_Param, len(LR_PG_Ref_IDs))\n",
    "    "
   ]
  },
  {
   "cell_type": "code",
   "execution_count": null,
   "id": "97732849-c47b-4acd-8ba1-b0abfcdb0d83",
   "metadata": {},
   "outputs": [],
   "source": []
  },
  {
   "cell_type": "markdown",
   "id": "4727dc62-0146-4c31-9817-040b88783263",
   "metadata": {},
   "source": [
    "## E) PresAbs w/ SR-PG QC using the LR-Asm"
   ]
  },
  {
   "cell_type": "code",
   "execution_count": 37,
   "id": "88bfa0c5-c1a0-4639-a3e4-d1a7ac17dc25",
   "metadata": {},
   "outputs": [
    {
     "name": "stdout",
     "output_type": "stream",
     "text": [
      "SR_Panaroo_Strict_MP - (4211, 154)\n",
      "SR_Panaroo_Moderate_MP - (4382, 154)\n",
      "SR_Panaroo_Sens_MP - (4600, 154)\n",
      "SR_Roary_NoSplitParalogs - (5025, 154)\n",
      "SR_Roary_NoSplitParalogs_I90 - (4956, 154)\n",
      "SR_Roary_NoSplitParalogs_I80 - (4866, 154)\n"
     ]
    }
   ],
   "source": [
    "i_SampleIDs = SampleIDs_151CI_SOI\n",
    "Pres_LRAsmQC_Dict = {}\n",
    "\n",
    "for i_Param, PresAbs_LRAsmQC_TSV_PATH in PG_PresAbs_LRAsmQC_PATH_Dict.items():\n",
    "\n",
    "    i_PresAbs_LRAsmQC_DF = pd.read_csv(PresAbs_LRAsmQC_TSV_PATH, sep=\"\\t\").set_index(\"Gene\", drop=False)  \n",
    "\n",
    "    #i_PresAbs_LRAsmQC_DF[\"NumAsm_WiGene_AdjByIncompCDSAsm\"] = i_PresAbs_LRAsmQC_DF[i_SampleIDs].applymap(lambda x: 1 if x in [1, 3] else 0).sum(axis = 1)\n",
    "    #i_PresAbs_LRAsmQC_DF[\"NumAsm_WiGene_AdjByIncompCDSAsm_And_CDSAnnoDisc\"] = i_PresAbs_LRAsmQC_DF[i_SampleIDs].applymap(lambda x: 1 if x in [1, 3, 4, 5] else 0).sum(axis = 1)\n",
    "\n",
    "    Pres_LRAsmQC_Dict[i_Param] = i_PresAbs_LRAsmQC_DF\n",
    "\n",
    "    print(i_Param, \"-\", i_PresAbs_LRAsmQC_DF.shape)\n",
    "    #!wc -l $PresAbs_LRAsmQC_CSV_PATH"
   ]
  },
  {
   "cell_type": "code",
   "execution_count": 38,
   "id": "cf9e2a94-5c1c-439f-90c3-69cb5ad43e5a",
   "metadata": {},
   "outputs": [
    {
     "data": {
      "text/plain": [
       "Index(['Gene', '01_R1134', '01_R1430', '02_R0894', '02_R1179', '02_R1708',\n",
       "       '02_R1896', '18_0621851', '3003-06', '4549-04',\n",
       "       ...\n",
       "       'mada_139', 'mada_151', 'mada_2-1', 'mada_2-25', 'mada_2-31',\n",
       "       'mada_2-42', 'mada_2-46', 'mada_2-53', 'NumAsm_WiGene',\n",
       "       'NumAsm_WiGene_DNASeq'],\n",
       "      dtype='object', length=154)"
      ]
     },
     "execution_count": 38,
     "metadata": {},
     "output_type": "execute_result"
    }
   ],
   "source": [
    "i_PresAbs_LRAsmQC_DF.columns"
   ]
  },
  {
   "cell_type": "code",
   "execution_count": 39,
   "id": "a5b84d4a-4d21-4ffd-8a18-95f7fa73f980",
   "metadata": {},
   "outputs": [],
   "source": [
    "#i_PresAbs_LRAsmQC_DF.query(\"(NumAsm_WiGene_AdjByIncompCDSAsm > 2) & (NumAsm_WiGene_AdjByIncompCDSAsm < 158)\")[['Gene', 'NumAsm_WiGene', 'NumAsm_WiGene_DNASeq',  'NumAsm_WiGene_AdjByIncompCDSAsm']]"
   ]
  },
  {
   "cell_type": "code",
   "execution_count": 40,
   "id": "2bab25cf-09d4-445f-896c-039119e63b10",
   "metadata": {},
   "outputs": [],
   "source": [
    "i_PresAbs_LRAsmQC_DF = Pres_LRAsmQC_Dict[\"SR_Roary_NoSplitParalogs_I90\"]"
   ]
  },
  {
   "cell_type": "code",
   "execution_count": 41,
   "id": "8bd737b8-99a3-49ce-b00d-4ecdd25226eb",
   "metadata": {},
   "outputs": [],
   "source": [
    "i_PresAbs_LRAsmQC_DF = Pres_LRAsmQC_Dict[\"SR_Panaroo_Moderate_MP\"]"
   ]
  },
  {
   "cell_type": "code",
   "execution_count": null,
   "id": "b11bbf47-de73-4d7c-8fc0-60a9171eb7fe",
   "metadata": {},
   "outputs": [],
   "source": []
  },
  {
   "cell_type": "code",
   "execution_count": null,
   "id": "4b8f7a17-bd14-4d1d-998f-0470607c10dc",
   "metadata": {},
   "outputs": [],
   "source": []
  },
  {
   "cell_type": "markdown",
   "id": "19d4b3ff-7b4f-40e5-82ec-965434083464",
   "metadata": {},
   "source": [
    "# Summarize high-level stats for \"LRAsm QC\" of SR based analysis"
   ]
  },
  {
   "cell_type": "markdown",
   "id": "c836040a-589e-4279-8009-deb37d14d21e",
   "metadata": {},
   "source": [
    "### Notes\n",
    "- 0 means CDS AA seq & DNA seq not found in SR\n",
    "- 1 means CDS AA seq present in SR\n",
    "- 3 Means DNA Seq \"Not in SR, but In LR Asm\", (\"Incomplete Assembly\")\n",
    "- 4 Means DNA Seq \"In SR Asm, NOT In LR Asm\" \n",
    "- 5 Means DNA Seq \"In SR Asm, In LR Asm\" (\"Annotation Discrepancy\")\n"
   ]
  },
  {
   "cell_type": "code",
   "execution_count": 42,
   "id": "fba7f585-ad0f-423a-b50f-bbb76d03a1a2",
   "metadata": {},
   "outputs": [],
   "source": [
    "ListOf_SampleID_Cols = SampleIDs_151CI_SOI"
   ]
  },
  {
   "cell_type": "code",
   "execution_count": 43,
   "id": "3d3da9b1-e30c-4aa8-8cb2-e1cdc375094b",
   "metadata": {},
   "outputs": [
    {
     "name": "stdout",
     "output_type": "stream",
     "text": [
      "SR_Panaroo_Strict_MP\n",
      "SR_Panaroo_Moderate_MP\n",
      "SR_Panaroo_Sens_MP\n",
      "SR_Roary_NoSplitParalogs\n",
      "SR_Roary_NoSplitParalogs_I90\n",
      "SR_Roary_NoSplitParalogs_I80\n"
     ]
    }
   ],
   "source": [
    "listOfRows = []\n",
    "\n",
    "for i_Param, i_PresAbs_LRAsmQC_DF in Pres_LRAsmQC_Dict.items():\n",
    "\n",
    "    print(i_Param)\n",
    "\n",
    "    i_Counts = get_SRAsm_Vs_LRAsm_QCStats(i_PresAbs_LRAsmQC_DF, ListOf_SampleID_Cols, False)\n",
    "    NAbs_0, NPres_1, NAbs_DNAInLR_3, NAbs_DNAInSR_4, NAbs_DNAInSRandLR_5 = i_Counts\n",
    "\n",
    "    listOfRows.append((i_Param, NAbs_0, NPres_1, NAbs_DNAInLR_3, NAbs_DNAInSR_4, NAbs_DNAInSRandLR_5)  )\n",
    "    \n",
    "    #print(\"\\n\\n\\n\")\n",
    "\n",
    "\n",
    "Summ_DF = pd.DataFrame(listOfRows)\n",
    "\n",
    "Summ_DF.columns = [\"Param\", \"NAbs_0\", \"NPres_1\", \"NAbs_DNAInLR_3\", \"NAbs_DNAInSR_4\", \"NAbs_DNAInSRandLR_5\"]\n",
    "\n",
    "Summ_DF[\"NAbs_AnnoDiscrep\"] = Summ_DF[\"NAbs_DNAInSR_4\"] + Summ_DF[\"NAbs_DNAInSRandLR_5\"]\n",
    "Summ_DF[\"NAbs_IncompAsm\"] = Summ_DF[\"NAbs_DNAInLR_3\"]\n",
    "Summ_DF[\"NAbs_Total\"] = Summ_DF[\"NAbs_0\"] + Summ_DF[\"NAbs_DNAInLR_3\"] + Summ_DF[\"NAbs_DNAInSR_4\"] + Summ_DF[\"NAbs_DNAInSRandLR_5\"] \n",
    "\n",
    "Summ_DF[\"PercAbs_0\"] = Summ_DF[\"NAbs_0\"] / Summ_DF[\"NAbs_Total\"] * 100\n",
    "Summ_DF[\"PercAbs_DNAInLR_3\"] = Summ_DF[\"NAbs_DNAInLR_3\"] / Summ_DF[\"NAbs_Total\"] * 100\n",
    "Summ_DF[\"PercAbs_DNAInSR_4\"] = Summ_DF[\"NAbs_DNAInSR_4\"] / Summ_DF[\"NAbs_Total\"] * 100\n",
    "Summ_DF[\"PercAbs_DNAInSRandLR_5\"] = Summ_DF[\"NAbs_DNAInSRandLR_5\"] / Summ_DF[\"NAbs_Total\"] * 100\n",
    "\n",
    "Perc_Cols = [\"PercAbs_0\", \"PercAbs_DNAInLR_3\", \"PercAbs_DNAInSR_4\", \"PercAbs_DNAInSRandLR_5\"]\n",
    "\n",
    "Summ_DF[Perc_Cols] = Summ_DF[Perc_Cols].round(2)\n",
    "\n",
    "Summ_DF[\"PercAbs_AnnoDiscrep\"] = Summ_DF[\"PercAbs_DNAInSR_4\"] + Summ_DF[\"PercAbs_DNAInSRandLR_5\"] \n",
    "Summ_DF[\"PercAbs_IncompAsm\"] = Summ_DF[\"PercAbs_DNAInLR_3\"]\n",
    "\n",
    "\n",
    "SRPG_LRQC_Summ_DF = Summ_DF "
   ]
  },
  {
   "cell_type": "code",
   "execution_count": 44,
   "id": "b8ce619b-c309-4169-a441-1a8d004ec26d",
   "metadata": {},
   "outputs": [
    {
     "name": "stdout",
     "output_type": "stream",
     "text": [
      "Analysis\n",
      "CondaEnvs\n",
      "Data\n",
      "LICENSE\n",
      "Notes\n",
      "README.md\n",
      "References\n",
      "Scripts\n",
      "Snakemake_Pipelines\n"
     ]
    }
   ],
   "source": [
    "!ls -1 ../../"
   ]
  },
  {
   "cell_type": "code",
   "execution_count": 45,
   "id": "e5782721-7a8c-4f3b-8395-9b83d3a8eb4f",
   "metadata": {},
   "outputs": [
    {
     "name": "stdout",
     "output_type": "stream",
     "text": [
      "mkdir: cannot create directory ‘../../Data/Evaluate_SRAsmPGAnalysis_WiHybridAsm’: File exists\n"
     ]
    }
   ],
   "source": [
    "!mkdir ../../Data/Evaluate_SRAsmPGAnalysis_WiHybridAsm   "
   ]
  },
  {
   "cell_type": "code",
   "execution_count": 46,
   "id": "78fcd6d6-7e12-4aa6-9453-2a8661deefc8",
   "metadata": {},
   "outputs": [],
   "source": [
    "SRPG_LRQC_Summ_DF.to_csv(\"../../Data/Evaluate_SRAsmPGAnalysis_WiHybridAsm/SRPG_LRQC_Summ_DF.tsv\", sep=\"\\t\", index=False)"
   ]
  },
  {
   "cell_type": "code",
   "execution_count": 47,
   "id": "bc6dbd6c-faaf-4f6b-a2aa-bccafc88b2f0",
   "metadata": {},
   "outputs": [],
   "source": [
    "#SRPG_LRQC_Summ_DF"
   ]
  },
  {
   "cell_type": "code",
   "execution_count": 48,
   "id": "19f549e2-449c-4cc3-a456-42da4b09e122",
   "metadata": {},
   "outputs": [
    {
     "data": {
      "text/html": [
       "<div>\n",
       "<style scoped>\n",
       "    .dataframe tbody tr th:only-of-type {\n",
       "        vertical-align: middle;\n",
       "    }\n",
       "\n",
       "    .dataframe tbody tr th {\n",
       "        vertical-align: top;\n",
       "    }\n",
       "\n",
       "    .dataframe thead th {\n",
       "        text-align: right;\n",
       "    }\n",
       "</style>\n",
       "<table border=\"1\" class=\"dataframe\">\n",
       "  <thead>\n",
       "    <tr style=\"text-align: right;\">\n",
       "      <th></th>\n",
       "      <th>Param</th>\n",
       "      <th>NAbs_0</th>\n",
       "      <th>NPres_1</th>\n",
       "      <th>NAbs_AnnoDiscrep</th>\n",
       "      <th>NAbs_IncompAsm</th>\n",
       "      <th>NAbs_Total</th>\n",
       "      <th>PercAbs_AnnoDiscrep</th>\n",
       "      <th>PercAbs_IncompAsm</th>\n",
       "    </tr>\n",
       "  </thead>\n",
       "  <tbody>\n",
       "    <tr>\n",
       "      <th>0</th>\n",
       "      <td>SR_Panaroo_Strict_MP</td>\n",
       "      <td>15053</td>\n",
       "      <td>600688</td>\n",
       "      <td>15606</td>\n",
       "      <td>4514</td>\n",
       "      <td>35173</td>\n",
       "      <td>44.37</td>\n",
       "      <td>12.83</td>\n",
       "    </tr>\n",
       "    <tr>\n",
       "      <th>1</th>\n",
       "      <td>SR_Panaroo_Moderate_MP</td>\n",
       "      <td>20324</td>\n",
       "      <td>609813</td>\n",
       "      <td>24976</td>\n",
       "      <td>6569</td>\n",
       "      <td>51869</td>\n",
       "      <td>48.15</td>\n",
       "      <td>12.66</td>\n",
       "    </tr>\n",
       "    <tr>\n",
       "      <th>2</th>\n",
       "      <td>SR_Panaroo_Sens_MP</td>\n",
       "      <td>34079</td>\n",
       "      <td>610926</td>\n",
       "      <td>40144</td>\n",
       "      <td>9451</td>\n",
       "      <td>83674</td>\n",
       "      <td>47.98</td>\n",
       "      <td>11.30</td>\n",
       "    </tr>\n",
       "    <tr>\n",
       "      <th>3</th>\n",
       "      <td>SR_Roary_NoSplitParalogs</td>\n",
       "      <td>50300</td>\n",
       "      <td>597507</td>\n",
       "      <td>98930</td>\n",
       "      <td>12038</td>\n",
       "      <td>161268</td>\n",
       "      <td>61.35</td>\n",
       "      <td>7.46</td>\n",
       "    </tr>\n",
       "    <tr>\n",
       "      <th>4</th>\n",
       "      <td>SR_Roary_NoSplitParalogs_I90</td>\n",
       "      <td>46473</td>\n",
       "      <td>597068</td>\n",
       "      <td>93822</td>\n",
       "      <td>10993</td>\n",
       "      <td>151288</td>\n",
       "      <td>62.02</td>\n",
       "      <td>7.27</td>\n",
       "    </tr>\n",
       "    <tr>\n",
       "      <th>5</th>\n",
       "      <td>SR_Roary_NoSplitParalogs_I80</td>\n",
       "      <td>41820</td>\n",
       "      <td>592992</td>\n",
       "      <td>89714</td>\n",
       "      <td>10240</td>\n",
       "      <td>141774</td>\n",
       "      <td>63.28</td>\n",
       "      <td>7.22</td>\n",
       "    </tr>\n",
       "  </tbody>\n",
       "</table>\n",
       "</div>"
      ],
      "text/plain": [
       "                          Param  NAbs_0  NPres_1  NAbs_AnnoDiscrep  \\\n",
       "0          SR_Panaroo_Strict_MP   15053   600688             15606   \n",
       "1        SR_Panaroo_Moderate_MP   20324   609813             24976   \n",
       "2            SR_Panaroo_Sens_MP   34079   610926             40144   \n",
       "3      SR_Roary_NoSplitParalogs   50300   597507             98930   \n",
       "4  SR_Roary_NoSplitParalogs_I90   46473   597068             93822   \n",
       "5  SR_Roary_NoSplitParalogs_I80   41820   592992             89714   \n",
       "\n",
       "   NAbs_IncompAsm  NAbs_Total  PercAbs_AnnoDiscrep  PercAbs_IncompAsm  \n",
       "0            4514       35173                44.37              12.83  \n",
       "1            6569       51869                48.15              12.66  \n",
       "2            9451       83674                47.98              11.30  \n",
       "3           12038      161268                61.35               7.46  \n",
       "4           10993      151288                62.02               7.27  \n",
       "5           10240      141774                63.28               7.22  "
      ]
     },
     "execution_count": 48,
     "metadata": {},
     "output_type": "execute_result"
    }
   ],
   "source": [
    "LRQC_SimpCol = [\"Param\", \"NAbs_0\", \"NPres_1\", \"NAbs_AnnoDiscrep\", \"NAbs_IncompAsm\", \"NAbs_Total\", \"PercAbs_AnnoDiscrep\", \"PercAbs_IncompAsm\"]     \n",
    "\n",
    "SRPG_LRQC_Summ_DF[LRQC_SimpCol]"
   ]
  },
  {
   "cell_type": "code",
   "execution_count": 49,
   "id": "5d13132a-2acd-4543-ac09-ecb0b5c5c8d6",
   "metadata": {},
   "outputs": [
    {
     "data": {
      "text/html": [
       "<div>\n",
       "<style scoped>\n",
       "    .dataframe tbody tr th:only-of-type {\n",
       "        vertical-align: middle;\n",
       "    }\n",
       "\n",
       "    .dataframe tbody tr th {\n",
       "        vertical-align: top;\n",
       "    }\n",
       "\n",
       "    .dataframe thead th {\n",
       "        text-align: right;\n",
       "    }\n",
       "</style>\n",
       "<table border=\"1\" class=\"dataframe\">\n",
       "  <thead>\n",
       "    <tr style=\"text-align: right;\">\n",
       "      <th></th>\n",
       "      <th>Param</th>\n",
       "      <th>NAbs_0</th>\n",
       "      <th>NPres_1</th>\n",
       "      <th>NAbs_DNAInLR_3</th>\n",
       "      <th>NAbs_DNAInSR_4</th>\n",
       "      <th>NAbs_DNAInSRandLR_5</th>\n",
       "      <th>NAbs_AnnoDiscrep</th>\n",
       "      <th>NAbs_IncompAsm</th>\n",
       "      <th>NAbs_Total</th>\n",
       "      <th>PercAbs_0</th>\n",
       "      <th>PercAbs_DNAInLR_3</th>\n",
       "      <th>PercAbs_DNAInSR_4</th>\n",
       "      <th>PercAbs_DNAInSRandLR_5</th>\n",
       "      <th>PercAbs_AnnoDiscrep</th>\n",
       "      <th>PercAbs_IncompAsm</th>\n",
       "    </tr>\n",
       "  </thead>\n",
       "  <tbody>\n",
       "    <tr>\n",
       "      <th>0</th>\n",
       "      <td>SR_Panaroo_Strict_MP</td>\n",
       "      <td>15053</td>\n",
       "      <td>600688</td>\n",
       "      <td>4514</td>\n",
       "      <td>47</td>\n",
       "      <td>15559</td>\n",
       "      <td>15606</td>\n",
       "      <td>4514</td>\n",
       "      <td>35173</td>\n",
       "      <td>42.80</td>\n",
       "      <td>12.83</td>\n",
       "      <td>0.13</td>\n",
       "      <td>44.24</td>\n",
       "      <td>44.37</td>\n",
       "      <td>12.83</td>\n",
       "    </tr>\n",
       "    <tr>\n",
       "      <th>1</th>\n",
       "      <td>SR_Panaroo_Moderate_MP</td>\n",
       "      <td>20324</td>\n",
       "      <td>609813</td>\n",
       "      <td>6569</td>\n",
       "      <td>85</td>\n",
       "      <td>24891</td>\n",
       "      <td>24976</td>\n",
       "      <td>6569</td>\n",
       "      <td>51869</td>\n",
       "      <td>39.18</td>\n",
       "      <td>12.66</td>\n",
       "      <td>0.16</td>\n",
       "      <td>47.99</td>\n",
       "      <td>48.15</td>\n",
       "      <td>12.66</td>\n",
       "    </tr>\n",
       "    <tr>\n",
       "      <th>2</th>\n",
       "      <td>SR_Panaroo_Sens_MP</td>\n",
       "      <td>34079</td>\n",
       "      <td>610926</td>\n",
       "      <td>9451</td>\n",
       "      <td>139</td>\n",
       "      <td>40005</td>\n",
       "      <td>40144</td>\n",
       "      <td>9451</td>\n",
       "      <td>83674</td>\n",
       "      <td>40.73</td>\n",
       "      <td>11.30</td>\n",
       "      <td>0.17</td>\n",
       "      <td>47.81</td>\n",
       "      <td>47.98</td>\n",
       "      <td>11.30</td>\n",
       "    </tr>\n",
       "    <tr>\n",
       "      <th>3</th>\n",
       "      <td>SR_Roary_NoSplitParalogs</td>\n",
       "      <td>50300</td>\n",
       "      <td>597507</td>\n",
       "      <td>12038</td>\n",
       "      <td>90</td>\n",
       "      <td>98840</td>\n",
       "      <td>98930</td>\n",
       "      <td>12038</td>\n",
       "      <td>161268</td>\n",
       "      <td>31.19</td>\n",
       "      <td>7.46</td>\n",
       "      <td>0.06</td>\n",
       "      <td>61.29</td>\n",
       "      <td>61.35</td>\n",
       "      <td>7.46</td>\n",
       "    </tr>\n",
       "    <tr>\n",
       "      <th>4</th>\n",
       "      <td>SR_Roary_NoSplitParalogs_I90</td>\n",
       "      <td>46473</td>\n",
       "      <td>597068</td>\n",
       "      <td>10993</td>\n",
       "      <td>88</td>\n",
       "      <td>93734</td>\n",
       "      <td>93822</td>\n",
       "      <td>10993</td>\n",
       "      <td>151288</td>\n",
       "      <td>30.72</td>\n",
       "      <td>7.27</td>\n",
       "      <td>0.06</td>\n",
       "      <td>61.96</td>\n",
       "      <td>62.02</td>\n",
       "      <td>7.27</td>\n",
       "    </tr>\n",
       "    <tr>\n",
       "      <th>5</th>\n",
       "      <td>SR_Roary_NoSplitParalogs_I80</td>\n",
       "      <td>41820</td>\n",
       "      <td>592992</td>\n",
       "      <td>10240</td>\n",
       "      <td>75</td>\n",
       "      <td>89639</td>\n",
       "      <td>89714</td>\n",
       "      <td>10240</td>\n",
       "      <td>141774</td>\n",
       "      <td>29.50</td>\n",
       "      <td>7.22</td>\n",
       "      <td>0.05</td>\n",
       "      <td>63.23</td>\n",
       "      <td>63.28</td>\n",
       "      <td>7.22</td>\n",
       "    </tr>\n",
       "  </tbody>\n",
       "</table>\n",
       "</div>"
      ],
      "text/plain": [
       "                          Param  NAbs_0  NPres_1  NAbs_DNAInLR_3  \\\n",
       "0          SR_Panaroo_Strict_MP   15053   600688            4514   \n",
       "1        SR_Panaroo_Moderate_MP   20324   609813            6569   \n",
       "2            SR_Panaroo_Sens_MP   34079   610926            9451   \n",
       "3      SR_Roary_NoSplitParalogs   50300   597507           12038   \n",
       "4  SR_Roary_NoSplitParalogs_I90   46473   597068           10993   \n",
       "5  SR_Roary_NoSplitParalogs_I80   41820   592992           10240   \n",
       "\n",
       "   NAbs_DNAInSR_4  NAbs_DNAInSRandLR_5  NAbs_AnnoDiscrep  NAbs_IncompAsm  \\\n",
       "0              47                15559             15606            4514   \n",
       "1              85                24891             24976            6569   \n",
       "2             139                40005             40144            9451   \n",
       "3              90                98840             98930           12038   \n",
       "4              88                93734             93822           10993   \n",
       "5              75                89639             89714           10240   \n",
       "\n",
       "   NAbs_Total  PercAbs_0  PercAbs_DNAInLR_3  PercAbs_DNAInSR_4  \\\n",
       "0       35173      42.80              12.83               0.13   \n",
       "1       51869      39.18              12.66               0.16   \n",
       "2       83674      40.73              11.30               0.17   \n",
       "3      161268      31.19               7.46               0.06   \n",
       "4      151288      30.72               7.27               0.06   \n",
       "5      141774      29.50               7.22               0.05   \n",
       "\n",
       "   PercAbs_DNAInSRandLR_5  PercAbs_AnnoDiscrep  PercAbs_IncompAsm  \n",
       "0                   44.24                44.37              12.83  \n",
       "1                   47.99                48.15              12.66  \n",
       "2                   47.81                47.98              11.30  \n",
       "3                   61.29                61.35               7.46  \n",
       "4                   61.96                62.02               7.27  \n",
       "5                   63.23                63.28               7.22  "
      ]
     },
     "execution_count": 49,
     "metadata": {},
     "output_type": "execute_result"
    }
   ],
   "source": [
    "SRPG_LRQC_Summ_DF"
   ]
  },
  {
   "cell_type": "code",
   "execution_count": 50,
   "id": "8de7ddc5-d12a-4420-b5cd-f7582104502d",
   "metadata": {},
   "outputs": [
    {
     "data": {
      "text/plain": [
       "35173"
      ]
     },
     "execution_count": 50,
     "metadata": {},
     "output_type": "execute_result"
    }
   ],
   "source": [
    "15053 + 15606 + 4514"
   ]
  },
  {
   "cell_type": "code",
   "execution_count": 51,
   "id": "116fb6a8-0459-4023-8b25-bd3d23e90609",
   "metadata": {},
   "outputs": [
    {
     "data": {
      "text/plain": [
       "51869"
      ]
     },
     "execution_count": 51,
     "metadata": {},
     "output_type": "execute_result"
    }
   ],
   "source": [
    "6569 + 24976 + 20324"
   ]
  },
  {
   "cell_type": "code",
   "execution_count": null,
   "id": "2b8e966f-0718-44ec-8cfd-ad708091e45e",
   "metadata": {},
   "outputs": [],
   "source": []
  },
  {
   "cell_type": "code",
   "execution_count": 52,
   "id": "4a649e5d-99ba-4ae2-aaff-cc22e905dcaf",
   "metadata": {},
   "outputs": [
    {
     "data": {
      "text/plain": [
       "151"
      ]
     },
     "execution_count": 52,
     "metadata": {},
     "output_type": "execute_result"
    }
   ],
   "source": [
    "N_Genomes = len(ListOf_SampleID_Cols)\n",
    "N_Genomes"
   ]
  },
  {
   "cell_type": "code",
   "execution_count": 53,
   "id": "d928dff2-6b0b-4c1d-a03e-7b0828f36f8f",
   "metadata": {},
   "outputs": [
    {
     "name": "stdout",
     "output_type": "stream",
     "text": [
      "usage: pgqc [-h] {nrc,asmseqcheck,ava,nscluster} ...\n",
      "\n",
      "\u001b[38;5;4mToolkit for focused on augmenting common CDS based pan-genome\n",
      "analysis with nucleotide sequence comparison.\n",
      "\n",
      "positional arguments:\n",
      "  {nrc,asmseqcheck,ava,nscluster}\n",
      "                        Please select one of the pipelines of the PGQC\n",
      "                        toolkit.\n",
      "\n",
      "optional arguments:\n",
      "  -h, --help            show this help message and exit\n"
     ]
    }
   ],
   "source": [
    "!pgqc --help  "
   ]
  },
  {
   "cell_type": "code",
   "execution_count": 54,
   "id": "f2cf9d50-233f-4089-947e-8272632c38ca",
   "metadata": {},
   "outputs": [
    {
     "name": "stdout",
     "output_type": "stream",
     "text": [
      "usage: panqc [-h] {nrc,utils} ...\n",
      "\n",
      "Toolkit for focused on augmenting common CDS based pan-genome analysis with\n",
      "nucleotide sequence comparison.\n",
      "\n",
      "positional arguments:\n",
      "  {nrc,utils}  Please select one of the pipelines of the PanQC toolkit.\n",
      "    nrc        (Nucleotide Redundancy Correction) Adjusts for nucleotide\n",
      "               redundancy in estimated pan-genomes\n",
      "    utils      (Utilities) Sub-pipelines related to NRC approach or other\n",
      "               types of pan-genome workflows\n",
      "\n",
      "optional arguments:\n",
      "  -h, --help   show this help message and exit\n"
     ]
    }
   ],
   "source": [
    "!panqc --help  "
   ]
  },
  {
   "cell_type": "code",
   "execution_count": null,
   "id": "329e13c8-c241-4012-a4cf-987843a3796d",
   "metadata": {},
   "outputs": [],
   "source": []
  },
  {
   "cell_type": "code",
   "execution_count": null,
   "id": "f91271cd-733b-4713-8e87-681fe13f59a8",
   "metadata": {},
   "outputs": [],
   "source": []
  },
  {
   "cell_type": "markdown",
   "id": "9cc2d52e-0c87-4fda-98ef-79293beace18",
   "metadata": {},
   "source": [
    "## Dev code for exploring LR Asm QC Steps"
   ]
  },
  {
   "cell_type": "code",
   "execution_count": 55,
   "id": "3673e8bb-8673-44aa-a0c0-d5fbc5bb9e30",
   "metadata": {},
   "outputs": [
    {
     "name": "stdout",
     "output_type": "stream",
     "text": [
      "dict_keys(['SR_Panaroo_Strict_MP', 'SR_Panaroo_Moderate_MP', 'SR_Panaroo_Sens_MP', 'SR_Roary_NoSplitParalogs', 'SR_Roary_NoSplitParalogs_I90', 'SR_Roary_NoSplitParalogs_I80'])\n"
     ]
    }
   ],
   "source": [
    "print(Pres_LRAsmQC_Dict.keys())"
   ]
  },
  {
   "cell_type": "code",
   "execution_count": 56,
   "id": "bcb6688b-badc-48d6-bee4-d97266175608",
   "metadata": {},
   "outputs": [],
   "source": [
    "i_SampleIDs = SampleIDs_151CI_SOI\n",
    "#TDF = Pres_LRAsmQC_Dict[\"SR_Panaroo_Strict_MP\"]\n",
    "#TDF = Pres_LRAsmQC_Dict[\"SR_Panaroo_Moderate_MP\"]\n",
    "\n",
    "TDF = Pres_LRAsmQC_Dict[\"SR_Panaroo_Sens_MP\"]\n",
    "\n",
    "#TDF = Pres_LRAsmQC_Dict[\"SR_Roary_NoSplitParalogs\"]\n",
    "\n",
    "#TDF.head(2)"
   ]
  },
  {
   "cell_type": "code",
   "execution_count": 57,
   "id": "a99e99eb-4c64-4c34-9bc7-9b41dc6e96e8",
   "metadata": {},
   "outputs": [
    {
     "name": "stdout",
     "output_type": "stream",
     "text": [
      "34079\n",
      "610926\n",
      "0\n",
      "9451\n",
      "139\n",
      "40005\n"
     ]
    }
   ],
   "source": [
    "print((TDF[i_SampleIDs] == 0).sum().sum() )\n",
    "print((TDF[i_SampleIDs] == 1).sum().sum() )\n",
    "print((TDF[i_SampleIDs] == 2).sum().sum() )\n",
    "print((TDF[i_SampleIDs] == 3).sum().sum() )\n",
    "print((TDF[i_SampleIDs] == 4).sum().sum() )\n",
    "print((TDF[i_SampleIDs] == 5).sum().sum())"
   ]
  },
  {
   "cell_type": "code",
   "execution_count": 58,
   "id": "efecd2c7-c143-4331-90ca-93a5730c5106",
   "metadata": {},
   "outputs": [],
   "source": [
    "AnnDisc_sorted_series = (TDF[i_SampleIDs] == 5).sum() .sort_values(ascending=False)\n",
    "IncompAsm_sorted_series = (TDF[i_SampleIDs] == 3).sum() .sort_values(ascending=False) "
   ]
  },
  {
   "cell_type": "markdown",
   "id": "0998ec39-4965-4eb1-8460-d664c4a374f5",
   "metadata": {},
   "source": [
    "### Notes\n",
    "- 0 means CDS AA seq & DNA seq not found in SR\n",
    "- 1 means CDS AA seq present in SR\n",
    "- 3 Means DNA Seq \"Not in SR, but In LR Asm\", (\"Incomplete Assembly\")\n",
    "- 4 Means DNA Seq \"In SR Asm, NOT In LR Asm\" \n",
    "- 5 Means DNA Seq \"In SR Asm, In LR Asm\" (\"Annotation Discrepancy\")\n"
   ]
  },
  {
   "cell_type": "code",
   "execution_count": 59,
   "id": "0388844c-91a1-43b7-9d66-eb8e3a1ae8aa",
   "metadata": {},
   "outputs": [],
   "source": [
    "#IncompAsm_sorted_series"
   ]
  },
  {
   "cell_type": "code",
   "execution_count": 60,
   "id": "b97ba272-22d3-4f51-b2ff-274248f934d2",
   "metadata": {},
   "outputs": [],
   "source": [
    "#AnnDisc_sorted_series"
   ]
  },
  {
   "cell_type": "code",
   "execution_count": 61,
   "id": "959b9f53-a587-42a1-8f9a-e53acc768891",
   "metadata": {},
   "outputs": [
    {
     "ename": "NameError",
     "evalue": "name 'SRBUSCO_Map' is not defined",
     "output_type": "error",
     "traceback": [
      "\u001b[0;31m---------------------------------------------------------------------------\u001b[0m",
      "\u001b[0;31mNameError\u001b[0m                                 Traceback (most recent call last)",
      "\u001b[0;32m<ipython-input-61-68f3fd849298>\u001b[0m in \u001b[0;36m<module>\u001b[0;34m\u001b[0m\n\u001b[1;32m      3\u001b[0m \u001b[0mT_DF\u001b[0m\u001b[0;34m.\u001b[0m\u001b[0mcolumns\u001b[0m \u001b[0;34m=\u001b[0m \u001b[0;34m[\u001b[0m\u001b[0;34m\"Abs_IncompAsm\"\u001b[0m\u001b[0;34m,\u001b[0m \u001b[0;34m\"Abs_CDSAnnoDisc\"\u001b[0m\u001b[0;34m]\u001b[0m\u001b[0;34m\u001b[0m\u001b[0;34m\u001b[0m\u001b[0m\n\u001b[1;32m      4\u001b[0m \u001b[0mT_DF\u001b[0m\u001b[0;34m[\u001b[0m\u001b[0;34m\"SampleID\"\u001b[0m\u001b[0;34m]\u001b[0m \u001b[0;34m=\u001b[0m \u001b[0mT_DF\u001b[0m\u001b[0;34m.\u001b[0m\u001b[0mindex\u001b[0m\u001b[0;34m\u001b[0m\u001b[0;34m\u001b[0m\u001b[0m\n\u001b[0;32m----> 5\u001b[0;31m \u001b[0mT_DF\u001b[0m\u001b[0;34m[\u001b[0m\u001b[0;34m\"SR_BUSCO\"\u001b[0m\u001b[0;34m]\u001b[0m \u001b[0;34m=\u001b[0m \u001b[0mT_DF\u001b[0m\u001b[0;34m[\u001b[0m\u001b[0;34m\"SampleID\"\u001b[0m\u001b[0;34m]\u001b[0m\u001b[0;34m.\u001b[0m\u001b[0mmap\u001b[0m\u001b[0;34m(\u001b[0m\u001b[0mSRBUSCO_Map\u001b[0m\u001b[0;34m)\u001b[0m\u001b[0;34m\u001b[0m\u001b[0;34m\u001b[0m\u001b[0m\n\u001b[0m\u001b[1;32m      6\u001b[0m \u001b[0;34m\u001b[0m\u001b[0m\n\u001b[1;32m      7\u001b[0m \u001b[0mT_DF\u001b[0m\u001b[0;34m.\u001b[0m\u001b[0mshape\u001b[0m\u001b[0;34m\u001b[0m\u001b[0;34m\u001b[0m\u001b[0m\n",
      "\u001b[0;31mNameError\u001b[0m: name 'SRBUSCO_Map' is not defined"
     ]
    }
   ],
   "source": [
    "T_DF = pd.concat([IncompAsm_sorted_series, AnnDisc_sorted_series], axis =1)\n",
    "\n",
    "T_DF.columns = [\"Abs_IncompAsm\", \"Abs_CDSAnnoDisc\"]\n",
    "T_DF[\"SampleID\"] = T_DF.index\n",
    "T_DF[\"SR_BUSCO\"] = T_DF[\"SampleID\"].map(SRBUSCO_Map)\n",
    "\n",
    "T_DF.shape"
   ]
  },
  {
   "cell_type": "code",
   "execution_count": null,
   "id": "4ac76dc5-382c-4a60-9759-6b2e27142bd0",
   "metadata": {},
   "outputs": [],
   "source": [
    "T_DF.head(4)"
   ]
  },
  {
   "cell_type": "code",
   "execution_count": null,
   "id": "581a7cf7-4f8c-45bc-817d-e9602bf0561f",
   "metadata": {},
   "outputs": [],
   "source": [
    "#T_DF.to_csv(\"SR_AbsStats.Mtb151CI.tsv\", sep = \"\\t\", index=False)"
   ]
  },
  {
   "cell_type": "code",
   "execution_count": null,
   "id": "588010d1-4e1d-4058-9f2c-90baad0fc6b5",
   "metadata": {},
   "outputs": [],
   "source": [
    "# Creating a scatterplot for the BUSCO score vs Abs_IncompAsm\n",
    "plt.figure(figsize=(10, 5))\n",
    "sns.scatterplot(x = 'SR_BUSCO', y='Abs_IncompAsm', data = T_DF, label='Abs_IncompAsm', alpha=0.6)\n",
    "\n",
    "# Creating a scatterplot for the BUSCO score vs Abs_CDSAnnoDisc on the same plot\n",
    "sns.scatterplot(x = 'SR_BUSCO', y='Abs_CDSAnnoDisc', data = T_DF, label='Abs_CDSAnnoDisc', alpha=0.6)\n",
    "\n",
    "plt.title('BUSCO Score vs. Frequency of Absence Types')\n",
    "plt.xlabel('BUSCO Completeness Score (%)')\n",
    "plt.ylabel('Frequency of Absences')\n",
    "plt.legend()\n",
    "plt.show()"
   ]
  },
  {
   "cell_type": "code",
   "execution_count": null,
   "id": "f25859ba-6c9b-4f64-ae81-b660f601d3e1",
   "metadata": {},
   "outputs": [],
   "source": []
  },
  {
   "cell_type": "code",
   "execution_count": null,
   "id": "27edb776-1de2-482d-aabc-2a175d6b9955",
   "metadata": {},
   "outputs": [],
   "source": [
    "# Creating a scatterplot for the BUSCO score vs Abs_IncompAsm\n",
    "plt.figure(figsize=(10, 5))\n",
    "sns.scatterplot(x = 'SR_BUSCO', y='Abs_IncompAsm', data = T_DF, label='Abs_IncompAsm', alpha=0.6)\n",
    "\n",
    "# Creating a scatterplot for the BUSCO score vs Abs_CDSAnnoDisc on the same plot\n",
    "#sns.scatterplot(x = 'SR_BUSCO', y='Abs_CDSAnnoDisc', data = T_DF, label='Abs_CDSAnnoDisc', alpha=0.6)\n",
    "\n",
    "plt.title('BUSCO Score vs. Frequency of Absence Types')\n",
    "plt.xlabel('BUSCO Completeness Score (%)')\n",
    "plt.ylabel('Frequency of Absences')\n",
    "plt.legend()\n",
    "plt.show()"
   ]
  },
  {
   "cell_type": "code",
   "execution_count": null,
   "id": "6f34f4f5-6b20-46ec-bf11-144007e38367",
   "metadata": {},
   "outputs": [],
   "source": [
    "# Creating a scatterplot for the BUSCO score vs Abs_IncompAsm\n",
    "plt.figure(figsize=(10, 5))\n",
    "#sns.scatterplot(x = 'SR_BUSCO', y='Abs_IncompAsm', data = T_DF, label='Abs_IncompAsm', alpha=0.6)\n",
    "\n",
    "# Creating a scatterplot for the BUSCO score vs Abs_CDSAnnoDisc on the same plot\n",
    "sns.scatterplot(x = 'SR_BUSCO', y='Abs_CDSAnnoDisc', data = T_DF, label='Abs_CDSAnnoDisc', alpha=0.6)\n",
    "\n",
    "plt.title('BUSCO Score vs. Frequency of Absence Types')\n",
    "plt.xlabel('BUSCO Completeness Score (%)')\n",
    "plt.ylabel('Frequency of Absences')\n",
    "plt.legend()\n",
    "plt.show()"
   ]
  },
  {
   "cell_type": "code",
   "execution_count": null,
   "id": "f263383d-f781-4cbb-967c-aeb0571bd484",
   "metadata": {},
   "outputs": [],
   "source": []
  },
  {
   "cell_type": "code",
   "execution_count": null,
   "id": "4e20ddb7-4e97-4a74-a400-375ec3595227",
   "metadata": {},
   "outputs": [],
   "source": []
  },
  {
   "cell_type": "markdown",
   "id": "7c19ba35-fed7-40b6-a4c3-57092e34e9af",
   "metadata": {},
   "source": [
    "### MannWhitney-U test for difference in \"anno discrep\" and \"Incomplete Assembly\" numbers"
   ]
  },
  {
   "cell_type": "code",
   "execution_count": null,
   "id": "d1a50030-bd68-4d93-a044-a89eacc7e950",
   "metadata": {},
   "outputs": [],
   "source": [
    "from scipy.stats import mannwhitneyu"
   ]
  },
  {
   "cell_type": "code",
   "execution_count": null,
   "id": "4439ac94-09b9-4e65-9cc8-180197d836ef",
   "metadata": {},
   "outputs": [],
   "source": [
    "IncompAsm_LoBUSCO_Ct = (TDF[SampleIDs_151CI_SOI] == 3).sum().loc[Low_SRBusco_SampleIDs_15CI] \n",
    "IncompAsm_HighBUSCO_Ct = (TDF[SampleIDs_151CI_SOI] == 3).sum().loc[High_SRBusco_SampleIDs_136CI] \n",
    "\n",
    "# Perform Mann-Whitney U test\n",
    "statistic, IncompAsm_p_value = mannwhitneyu(IncompAsm_LoBUSCO_Ct,\n",
    "                                  IncompAsm_HighBUSCO_Ct, alternative=\"two-sided\")\n",
    "\n",
    "print(statistic, IncompAsm_p_value)"
   ]
  },
  {
   "cell_type": "code",
   "execution_count": null,
   "id": "da5e5f40-20cf-4408-95b8-f952384598e2",
   "metadata": {},
   "outputs": [],
   "source": [
    "AnnoDiscrep_LoBUSCO_Ct = (TDF[SampleIDs_151CI_SOI] == 5).sum().loc[Low_SRBusco_SampleIDs_15CI] \n",
    "AnnoDiscrep_HighBUSCO_Ct = (TDF[SampleIDs_151CI_SOI] == 5).sum().loc[High_SRBusco_SampleIDs_136CI] \n",
    "\n",
    "# Perform Mann-Whitney U test\n",
    "statistic, AnnoDiscrep_p_value = mannwhitneyu(AnnoDiscrep_LoBUSCO_Ct,\n",
    "                                  AnnoDiscrep_HighBUSCO_Ct, alternative=\"two-sided\")\n",
    "\n",
    "print(statistic, AnnoDiscrep_p_value)"
   ]
  },
  {
   "cell_type": "code",
   "execution_count": null,
   "id": "6f2146ae-bcdd-42ef-99af-f7ff568c6ba5",
   "metadata": {},
   "outputs": [],
   "source": [
    "AnnoDiscrep_LoBUSCO_Ct = (TDF[SampleIDs_151CI_SOI].isin([4,5]) ).sum().loc[Low_SRBusco_SampleIDs_15CI] \n",
    "AnnoDiscrep_HighBUSCO_Ct = (TDF[SampleIDs_151CI_SOI].isin([4,5])).sum().loc[High_SRBusco_SampleIDs_136CI] \n",
    "\n",
    "# Perform Mann-Whitney U test\n",
    "statistic, AnnoDiscrep_p_value = mannwhitneyu(AnnoDiscrep_LoBUSCO_Ct,\n",
    "                                  AnnoDiscrep_HighBUSCO_Ct, alternative=\"two-sided\")\n",
    "\n",
    "print(statistic, AnnoDiscrep_p_value)"
   ]
  },
  {
   "cell_type": "code",
   "execution_count": null,
   "id": "4cdfe3d4-3780-4806-b6a7-5132caf71217",
   "metadata": {},
   "outputs": [],
   "source": []
  },
  {
   "cell_type": "markdown",
   "id": "618deb82-cd1d-43f6-b4fa-d76454807bfe",
   "metadata": {},
   "source": []
  },
  {
   "cell_type": "code",
   "execution_count": null,
   "id": "b95edede-44d9-4007-b1c2-52e21638d51a",
   "metadata": {},
   "outputs": [],
   "source": [
    "sns.set_context(\"paper\", font_scale=1.2)\n",
    "\n",
    "\n",
    "TDF = Pres_LRAsmQC_Dict[\"SR_Roary_NoSplitParalogs\"]\n",
    "\n",
    "\n",
    "IncompAsm_LoBUSCO_Ct = (TDF[SampleIDs_151CI_SOI] == 3).sum().loc[Low_SRBusco_SampleIDs_15CI] \n",
    "IncompAsm_HighBUSCO_Ct = (TDF[SampleIDs_151CI_SOI] == 3).sum().loc[High_SRBusco_SampleIDs_136CI] \n",
    "\n",
    "# Perform Mann-Whitney U test\n",
    "statistic, IncompAsm_p_value = mannwhitneyu(IncompAsm_LoBUSCO_Ct,\n",
    "                                  IncompAsm_HighBUSCO_Ct, alternative=\"two-sided\")\n",
    "\n",
    "print(\"Mann-Whitney U Test for Incomp: \",statistic, IncompAsm_p_value)\n",
    "\n",
    "\n",
    "AnnoDiscrep_LoBUSCO_Ct = (TDF[SampleIDs_151CI_SOI] == 5).sum().loc[Low_SRBusco_SampleIDs_15CI] \n",
    "AnnoDiscrep_HighBUSCO_Ct = (TDF[SampleIDs_151CI_SOI] == 5).sum().loc[High_SRBusco_SampleIDs_136CI] \n",
    "\n",
    "# Perform Mann-Whitney U test\n",
    "statistic, AnnoDiscrep_p_value = mannwhitneyu(AnnoDiscrep_LoBUSCO_Ct,\n",
    "                                  AnnoDiscrep_HighBUSCO_Ct, alternative=\"two-sided\")\n",
    "\n",
    "print(\"Mann-Whitney U Test for AnnoDiscrep: \", statistic, AnnoDiscrep_p_value)\n",
    "\n",
    "\n",
    "\n",
    "\n",
    "\n",
    "# Combine the data and label them for plotting\n",
    "data_IncompAsm = pd.concat([IncompAsm_LoBUSCO_Ct, IncompAsm_HighBUSCO_Ct])\n",
    "data_AnnoDiscrep = pd.concat([AnnoDiscrep_LoBUSCO_Ct, AnnoDiscrep_HighBUSCO_Ct])\n",
    "\n",
    "labels = ['Low BUSCO'] * len(AnnoDiscrep_LoBUSCO_Ct) + ['High BUSCO'] * len(AnnoDiscrep_HighBUSCO_Ct)\n",
    "\n",
    "# Create a DataFrame for plotting\n",
    "import pandas as pd\n",
    "df_SRAsmQC = pd.DataFrame({\n",
    "    'Group': labels,\n",
    "    'N_IncompAsm': data_IncompAsm,\n",
    "    'N_AnnoDiscrep': data_AnnoDiscrep,\n",
    "})\n",
    "\n",
    "df_SRAsmQC[\"SRAsm_BUSCO\"] = df_SRAsmQC.index.map(SRAsm_BUSCO_Dict).astype(float)\n",
    "\n",
    "# Create two subplots side by side\n",
    "fig, axes = plt.subplots(nrows=1, ncols=2, figsize=(15, 6))\n",
    "#fig.suptitle('Comparison of High and Low BUSCO SR Assemblies', fontsize=16, y = 1.05)\n",
    "\n",
    "# Plot\n",
    "sns.boxplot(x='Group', y='N_IncompAsm', data=df_SRAsmQC, palette=\"pastel\", boxprops=dict(alpha=.3), fliersize=0, ax=axes[0])\n",
    "sns.stripplot(x='Group', y='N_IncompAsm', data=df_SRAsmQC, jitter=True, marker='o', alpha=0.8, edgecolor='gray', ax=axes[0])\n",
    "\n",
    "axes[0].set_title(f'Absent genes due to \"Incomplete Assembly\" \\n (MannWhitney U test, p = {IncompAsm_p_value})')\n",
    "axes[0].set_ylabel('Absences associated with \\n  \"Incomplete Assembly\"')\n",
    "axes[0].set_xlabel('')\n",
    "sns.despine(ax=axes[0])\n",
    "\n",
    "\n",
    "sns.boxplot(x='Group', y='N_AnnoDiscrep', data=df_SRAsmQC, palette=\"pastel\", boxprops=dict(alpha=.3), fliersize=0, ax=axes[1])\n",
    "sns.stripplot(x='Group', y='N_AnnoDiscrep', data=df_SRAsmQC, jitter=True, marker='o', alpha=0.8, edgecolor='gray', ax=axes[1])\n",
    "\n",
    "axes[1].set_title(f'Absent genes due to \"Annotation discrepancy\" \\n (MannWhitney U test, p = {AnnoDiscrep_p_value})')\n",
    "axes[1].set_ylabel('Absences associated with \\n \"CDS Annotation Discrepancy \"')\n",
    "axes[1].set_xlabel('')\n",
    "sns.despine(ax=axes[1])\n",
    "\n",
    "# Remove grid lines\n",
    "axes[0].grid(False)\n",
    "axes[1].grid(False)\n",
    "\n",
    "\n",
    "# Adjust layout to prevent overlap\n",
    "plt.tight_layout()\n",
    "\n",
    "plt.show()"
   ]
  },
  {
   "cell_type": "code",
   "execution_count": null,
   "id": "d5b7cf70-7f9f-45c4-80b4-6f6322e926e4",
   "metadata": {},
   "outputs": [],
   "source": []
  },
  {
   "cell_type": "code",
   "execution_count": null,
   "id": "62d32845-d8e2-4fb4-929e-76acae5f0f2b",
   "metadata": {},
   "outputs": [],
   "source": []
  },
  {
   "cell_type": "code",
   "execution_count": null,
   "id": "bd424961-3fca-4898-ae54-1a187e98697b",
   "metadata": {},
   "outputs": [],
   "source": [
    "sns.set_context(\"paper\", font_scale=1.2)\n",
    "\n",
    "\n",
    "TDF = Pres_LRAsmQC_Dict[\"SR_Roary_NoSplitParalogs\"]\n",
    "\n",
    "\n",
    "IncompAsm_LoBUSCO_Ct = (TDF[SampleIDs_151CI_SOI] == 3).sum().loc[Low_SRBusco_SampleIDs_15CI] \n",
    "IncompAsm_HighBUSCO_Ct = (TDF[SampleIDs_151CI_SOI] == 3).sum().loc[High_SRBusco_SampleIDs_136CI] \n",
    "\n",
    "# Perform Mann-Whitney U test\n",
    "statistic, IncompAsm_p_value = mannwhitneyu(IncompAsm_LoBUSCO_Ct,\n",
    "                                  IncompAsm_HighBUSCO_Ct, alternative=\"two-sided\")\n",
    "\n",
    "print(\"Mann-Whitney U Test for Incomp: \",statistic, IncompAsm_p_value)\n",
    "\n",
    "\n",
    "AnnoDiscrep_LoBUSCO_Ct = (TDF[SampleIDs_151CI_SOI].isin([4,5]) ).sum().loc[Low_SRBusco_SampleIDs_15CI] \n",
    "AnnoDiscrep_HighBUSCO_Ct = (TDF[SampleIDs_151CI_SOI].isin([4,5])).sum().loc[High_SRBusco_SampleIDs_136CI] \n",
    "\n",
    "# Perform Mann-Whitney U test\n",
    "statistic, AnnoDiscrep_p_value = mannwhitneyu(AnnoDiscrep_LoBUSCO_Ct,\n",
    "                                  AnnoDiscrep_HighBUSCO_Ct, alternative=\"two-sided\")\n",
    "\n",
    "print(\"Mann-Whitney U Test for AnnoDiscrep: \", statistic, AnnoDiscrep_p_value)\n",
    "\n",
    "\n",
    "\n",
    "\n",
    "\n",
    "# Combine the data and label them for plotting\n",
    "data_IncompAsm = pd.concat([IncompAsm_LoBUSCO_Ct, IncompAsm_HighBUSCO_Ct])\n",
    "data_AnnoDiscrep = pd.concat([AnnoDiscrep_LoBUSCO_Ct, AnnoDiscrep_HighBUSCO_Ct])\n",
    "\n",
    "labels = ['Low BUSCO'] * len(AnnoDiscrep_LoBUSCO_Ct) + ['High BUSCO'] * len(AnnoDiscrep_HighBUSCO_Ct)\n",
    "\n",
    "# Create a DataFrame for plotting\n",
    "import pandas as pd\n",
    "df_SRAsmQC = pd.DataFrame({\n",
    "    'Group': labels,\n",
    "    'N_IncompAsm': data_IncompAsm,\n",
    "    'N_AnnoDiscrep': data_AnnoDiscrep,\n",
    "})\n",
    "\n",
    "df_SRAsmQC[\"SRAsm_BUSCO\"] = df_SRAsmQC.index.map(SRAsm_BUSCO_Dict).astype(float)\n",
    "\n",
    "# Create two subplots side by side\n",
    "fig, axes = plt.subplots(nrows=1, ncols=2, figsize=(15, 6))\n",
    "#fig.suptitle('Comparison of High and Low BUSCO SR Assemblies', fontsize=16, y = 1.05)\n",
    "\n",
    "# Plot\n",
    "sns.boxplot(x='Group', y='N_IncompAsm', data=df_SRAsmQC, palette=\"pastel\", boxprops=dict(alpha=.3), fliersize=0, ax=axes[0])\n",
    "sns.stripplot(x='Group', y='N_IncompAsm', data=df_SRAsmQC, jitter=True, marker='o', alpha=0.8, edgecolor='gray', ax=axes[0])\n",
    "\n",
    "axes[0].set_title(f'Absent genes due to \"Incomplete Assembly\" \\n (MannWhitney U test, p = {IncompAsm_p_value})')\n",
    "axes[0].set_ylabel('Absences associated with \\n  \"Incomplete Assembly\"')\n",
    "axes[0].set_xlabel('')\n",
    "sns.despine(ax=axes[0])\n",
    "\n",
    "\n",
    "sns.boxplot(x='Group', y='N_AnnoDiscrep', data=df_SRAsmQC, palette=\"pastel\", boxprops=dict(alpha=.3), fliersize=0, ax=axes[1])\n",
    "sns.stripplot(x='Group', y='N_AnnoDiscrep', data=df_SRAsmQC, jitter=True, marker='o', alpha=0.8, edgecolor='gray', ax=axes[1])\n",
    "\n",
    "axes[1].set_title(f'Absent genes due to \"Annotation discrepancy\" \\n (MannWhitney U test, p = {AnnoDiscrep_p_value})')\n",
    "axes[1].set_ylabel('Absences associated with \\n \"CDS Annotation Discrepancy \"')\n",
    "axes[1].set_xlabel('')\n",
    "sns.despine(ax=axes[1])\n",
    "\n",
    "# Remove grid lines\n",
    "axes[0].grid(False)\n",
    "axes[1].grid(False)\n",
    "\n",
    "\n",
    "# Adjust layout to prevent overlap\n",
    "plt.tight_layout()\n",
    "\n",
    "plt.show()"
   ]
  },
  {
   "cell_type": "code",
   "execution_count": null,
   "id": "e82ecd28-5812-4b07-81ce-5a97f4366fc4",
   "metadata": {},
   "outputs": [],
   "source": []
  },
  {
   "cell_type": "code",
   "execution_count": null,
   "id": "e4779fb9-d579-42da-a144-25885596efdf",
   "metadata": {},
   "outputs": [],
   "source": []
  },
  {
   "cell_type": "code",
   "execution_count": null,
   "id": "c4b1da76-b0b4-42c8-9254-7c258b000ddb",
   "metadata": {},
   "outputs": [],
   "source": [
    "TDF = Pres_LRAsmQC_Dict[\"SR_Panaroo_Strict_MP\"]\n",
    "\n",
    "\n",
    "IncompAsm_LoBUSCO_Ct = (TDF[SampleIDs_151CI_SOI] == 3).sum().loc[Low_SRBusco_SampleIDs_15CI] \n",
    "IncompAsm_HighBUSCO_Ct = (TDF[SampleIDs_151CI_SOI] == 3).sum().loc[High_SRBusco_SampleIDs_136CI] \n",
    "\n",
    "# Perform Mann-Whitney U test\n",
    "statistic, IncompAsm_p_value = mannwhitneyu(IncompAsm_LoBUSCO_Ct,\n",
    "                                  IncompAsm_HighBUSCO_Ct, alternative=\"two-sided\")\n",
    "\n",
    "print(\"Mann-Whitney U Test for Incomp: \",statistic, IncompAsm_p_value)\n",
    "\n",
    "\n",
    "AnnoDiscrep_LoBUSCO_Ct = (TDF[SampleIDs_151CI_SOI] == 5).sum().loc[Low_SRBusco_SampleIDs_15CI] \n",
    "AnnoDiscrep_HighBUSCO_Ct = (TDF[SampleIDs_151CI_SOI] == 5).sum().loc[High_SRBusco_SampleIDs_136CI] \n",
    "\n",
    "# Perform Mann-Whitney U test\n",
    "statistic, AnnoDiscrep_p_value = mannwhitneyu(AnnoDiscrep_LoBUSCO_Ct,\n",
    "                                  AnnoDiscrep_HighBUSCO_Ct, alternative=\"two-sided\")\n",
    "\n",
    "print(\"Mann-Whitney U Test for AnnoDiscrep: \", statistic, AnnoDiscrep_p_value)\n",
    "\n",
    "\n",
    "\n",
    "sns.set_context(\"paper\", font_scale=1.2)\n",
    "\n",
    "# Combine the data and label them for plotting\n",
    "data_IncompAsm = pd.concat([IncompAsm_LoBUSCO_Ct, IncompAsm_HighBUSCO_Ct])\n",
    "data_AnnoDiscrep = pd.concat([AnnoDiscrep_LoBUSCO_Ct, AnnoDiscrep_HighBUSCO_Ct])\n",
    "\n",
    "labels = ['Low BUSCO'] * len(AnnoDiscrep_LoBUSCO_Ct) + ['High BUSCO'] * len(AnnoDiscrep_HighBUSCO_Ct)\n",
    "\n",
    "# Create a DataFrame for plotting\n",
    "import pandas as pd\n",
    "df_SRAsmQC = pd.DataFrame({\n",
    "    'Group': labels,\n",
    "    'N_IncompAsm': data_IncompAsm,\n",
    "    'N_AnnoDiscrep': data_AnnoDiscrep,\n",
    "})\n",
    "\n",
    "df_SRAsmQC[\"SRAsm_BUSCO\"] = df_SRAsmQC.index.map(SRAsm_BUSCO_Dict).astype(float)\n",
    "\n",
    "# Create two subplots side by side\n",
    "fig, axes = plt.subplots(nrows=1, ncols=2, figsize=(15, 6))\n",
    "#fig.suptitle('Comparison of High and Low BUSCO SR Assemblies', fontsize=16, y = 1.05)\n",
    "\n",
    "# Plot\n",
    "sns.boxplot(x='Group', y='N_IncompAsm', data=df_SRAsmQC, palette=\"pastel\", boxprops=dict(alpha=.3), fliersize=0, ax=axes[0])\n",
    "sns.stripplot(x='Group', y='N_IncompAsm', data=df_SRAsmQC, jitter=True, marker='o', alpha=0.8, edgecolor='gray', ax=axes[0])\n",
    "\n",
    "axes[0].set_title(f'Absent genes due to \"Incomplete Assembly\" \\n (MannWhitney U test, p = {IncompAsm_p_value})')\n",
    "axes[0].set_ylabel('Absences associated with \\n  \"Incomplete Assembly\"')\n",
    "axes[0].set_xlabel('')\n",
    "sns.despine(ax=axes[0])\n",
    "\n",
    "\n",
    "sns.boxplot(x='Group', y='N_AnnoDiscrep', data=df_SRAsmQC, palette=\"pastel\", boxprops=dict(alpha=.3), fliersize=0, ax=axes[1])\n",
    "sns.stripplot(x='Group', y='N_AnnoDiscrep', data=df_SRAsmQC, jitter=True, marker='o', alpha=0.8, edgecolor='gray', ax=axes[1])\n",
    "\n",
    "axes[1].set_title(f'Absent genes due to \"Annotation discrepancy\" \\n (MannWhitney U test, p = {AnnoDiscrep_p_value})')\n",
    "axes[1].set_ylabel('Absences associated with \\n \"CDS Annotation Discrepancy \"')\n",
    "axes[1].set_xlabel('')\n",
    "sns.despine(ax=axes[1])\n",
    "\n",
    "# Remove grid lines\n",
    "axes[0].grid(False)\n",
    "axes[1].grid(False)\n",
    "\n",
    "\n",
    "# Adjust layout to prevent overlap\n",
    "plt.tight_layout()\n",
    "\n",
    "plt.show()"
   ]
  },
  {
   "cell_type": "code",
   "execution_count": null,
   "id": "08f5ebe1-e49d-4e54-88f0-383e307209af",
   "metadata": {},
   "outputs": [],
   "source": []
  },
  {
   "cell_type": "code",
   "execution_count": null,
   "id": "8f9aa1bf-db39-4c73-be17-5d384856a7a5",
   "metadata": {},
   "outputs": [],
   "source": []
  },
  {
   "cell_type": "code",
   "execution_count": null,
   "id": "865e470b-1ffa-4ef4-9bac-63ed38bde82b",
   "metadata": {},
   "outputs": [],
   "source": [
    "sns.set_style(None)\n",
    "plt.style.use('../nqo.mplstyle')"
   ]
  },
  {
   "cell_type": "code",
   "execution_count": null,
   "id": "5de16dec-7c6f-446a-b8e0-1a5b1716a078",
   "metadata": {},
   "outputs": [],
   "source": []
  },
  {
   "cell_type": "code",
   "execution_count": null,
   "id": "8f0afc6d-03ed-4174-87cf-b5942aaafb9c",
   "metadata": {},
   "outputs": [],
   "source": [
    "\n",
    "TDF = Pres_LRAsmQC_Dict[\"SR_Roary_NoSplitParalogs\"]\n",
    "\n",
    "\n",
    "IncompAsm_LoBUSCO_Ct = (TDF[SampleIDs_151CI_SOI] == 3).sum().loc[Low_SRBusco_SampleIDs_15CI] \n",
    "IncompAsm_HighBUSCO_Ct = (TDF[SampleIDs_151CI_SOI] == 3).sum().loc[High_SRBusco_SampleIDs_136CI] \n",
    "\n",
    "# Perform Mann-Whitney U test\n",
    "statistic, IncompAsm_p_value = mannwhitneyu(IncompAsm_LoBUSCO_Ct,\n",
    "                                  IncompAsm_HighBUSCO_Ct, alternative=\"two-sided\")\n",
    "\n",
    "print(\"Mann-Whitney U Test for Incomp: \",statistic, IncompAsm_p_value)\n",
    "\n",
    "\n",
    "AnnoDiscrep_LoBUSCO_Ct = (TDF[SampleIDs_151CI_SOI] == 5).sum().loc[Low_SRBusco_SampleIDs_15CI] \n",
    "AnnoDiscrep_HighBUSCO_Ct = (TDF[SampleIDs_151CI_SOI] == 5).sum().loc[High_SRBusco_SampleIDs_136CI] \n",
    "\n",
    "# Perform Mann-Whitney U test\n",
    "statistic, AnnoDiscrep_p_value = mannwhitneyu(AnnoDiscrep_LoBUSCO_Ct,\n",
    "                                  AnnoDiscrep_HighBUSCO_Ct, alternative=\"two-sided\")\n",
    "\n",
    "print(\"Mann-Whitney U Test for AnnoDiscrep: \", statistic, AnnoDiscrep_p_value)\n",
    "\n"
   ]
  },
  {
   "cell_type": "code",
   "execution_count": null,
   "id": "752d1caf-46a2-4b69-9fb7-68928fdd3bf4",
   "metadata": {},
   "outputs": [],
   "source": []
  },
  {
   "cell_type": "code",
   "execution_count": null,
   "id": "473d2571-f434-4399-8119-793efc213b5f",
   "metadata": {},
   "outputs": [],
   "source": [
    "!mkdir Results4_Plots\n",
    "#sns.set_context(\"paper\", font_scale=1.5)\n",
    "\n",
    "# Combine the data and label them for plotting\n",
    "data_IncompAsm = pd.concat([IncompAsm_LoBUSCO_Ct, IncompAsm_HighBUSCO_Ct])\n",
    "data_AnnoDiscrep = pd.concat([AnnoDiscrep_LoBUSCO_Ct, AnnoDiscrep_HighBUSCO_Ct])\n",
    "\n",
    "labels = ['Low BUSCO'] * len(AnnoDiscrep_LoBUSCO_Ct) + ['High BUSCO'] * len(AnnoDiscrep_HighBUSCO_Ct)\n",
    "\n",
    "# Create a DataFrame for plotting\n",
    "import pandas as pd\n",
    "df_SRAsmQC = pd.DataFrame({\n",
    "    'Group': labels,\n",
    "    'N_IncompAsm': data_IncompAsm,\n",
    "    'N_AnnoDiscrep': data_AnnoDiscrep,\n",
    "})\n",
    "\n",
    "df_SRAsmQC[\"SRAsm_BUSCO\"] = df_SRAsmQC.index.map(SRAsm_BUSCO_Dict).astype(float)\n",
    "\n",
    "# Create two subplots side by side\n",
    "fig, axes = plt.subplots(nrows=1, ncols=2, figsize=(10, 6))\n",
    "#fig.suptitle('Comparison of High and Low BUSCO SR Assemblies', fontsize=16, y = 1.05)\n",
    "\n",
    "# Plot\n",
    "sns.boxplot(x='Group', y='N_IncompAsm', data=df_SRAsmQC, palette=\"Set2\",\n",
    "            boxprops=dict(alpha=0.4, linewidth=0),\n",
    "            fliersize=0, ax=axes[0])\n",
    "sns.stripplot(x='Group', y='N_IncompAsm', data=df_SRAsmQC, palette=\"Set2\",\n",
    "              jitter=True, marker='o', alpha=0.8, edgecolor='gray', ax=axes[0])\n",
    "\n",
    "axes[0].set_ylabel('Gene absences associated with \\n \"Incomplete Assembly\"')\n",
    "axes[0].set_xlabel('')\n",
    "sns.despine(ax=axes[0])\n",
    "\n",
    "sns.boxplot(x='Group', y='N_AnnoDiscrep', data=df_SRAsmQC, palette=\"Set2\",\n",
    "            boxprops=dict(alpha=0.4, linewidth=0),\n",
    "            fliersize=0, ax=axes[1])\n",
    "sns.stripplot(x='Group', y='N_AnnoDiscrep', data=df_SRAsmQC, palette=\"Set2\",\n",
    "              jitter=True, marker='o', alpha=0.8, edgecolor='gray', ax=axes[1])\n",
    "\n",
    "axes[1].set_ylabel('Gene absences associated with \\n \"CDS Annotation Discrepancy\"')\n",
    "axes[1].set_xlabel('')\n",
    "sns.despine(ax=axes[1])\n",
    "\n",
    "# Remove grid lines\n",
    "axes[0].grid(False)\n",
    "axes[1].grid(False)\n",
    "# Adjust layout to prevent overlap\n",
    "plt.tight_layout()\n",
    "\n",
    "plt.savefig(\"Results4_Plots/HighVsLowBUSCO.AbsentGenesAssocBarplots.png\", dpi = 300, bbox_inches=\"tight\")\n",
    "plt.savefig(\"Results4_Plots/HighVsLowBUSCO.AbsentGenesAssocBarplots.svg\", bbox_inches=\"tight\")\n",
    "plt.show()"
   ]
  },
  {
   "cell_type": "code",
   "execution_count": null,
   "id": "6fd24c47-5854-4d69-8759-ff7754188719",
   "metadata": {},
   "outputs": [],
   "source": []
  },
  {
   "cell_type": "code",
   "execution_count": null,
   "id": "88baadae-e790-4b9f-89a1-8ecc50c5dc38",
   "metadata": {},
   "outputs": [],
   "source": []
  },
  {
   "cell_type": "markdown",
   "id": "71bab7bd-9ba9-4031-a4fa-2f466d04b570",
   "metadata": {},
   "source": [
    "# Viz heatmap of SRAsm QC wi LR Asm"
   ]
  },
  {
   "cell_type": "code",
   "execution_count": null,
   "id": "8dd48146-b4c4-482f-aa98-20e5e56e6f19",
   "metadata": {},
   "outputs": [],
   "source": [
    "from matplotlib.colors import ListedColormap\n",
    "\n",
    "colormap_dict = {0: \"#FFFFD6\", 1: \"#041B4C\", 2: \"black\", 3: \"red\", 4: \"#15ACBB\", 5: \"#15ACBB\"}\n",
    "\n",
    "# Convert the custom dictionary to a colormap\n",
    "colors = [colormap_dict[i] for i in sorted(colormap_dict.keys())]\n",
    "custom_cmap = ListedColormap(colors)\n",
    "\n",
    "\n",
    "colormap_dict2 = {0: \"#FFFFD6\", 1: \"#041B4C\", 2: \"#FFFFD6\", 3: \"#FFFFD6\", 4: \"#FFFFD6\", 5: \"#FFFFD6\"}\n",
    "\n",
    "# Convert the custom dictionary to a colormap\n",
    "colors_2 = [colormap_dict2[i] for i in sorted(colormap_dict2.keys())]\n",
    "custom_cmap_2 = ListedColormap(colors_2)\n",
    "\n"
   ]
  },
  {
   "cell_type": "code",
   "execution_count": null,
   "id": "48248a97-0593-443a-8fe6-90b21a19246f",
   "metadata": {},
   "outputs": [],
   "source": [
    "sorted(colormap_dict.keys())"
   ]
  },
  {
   "cell_type": "code",
   "execution_count": null,
   "id": "3d4b93e7-2618-4136-86e5-59e5a2fc0df3",
   "metadata": {},
   "outputs": [],
   "source": [
    "custom_cmap"
   ]
  },
  {
   "cell_type": "code",
   "execution_count": null,
   "id": "5683bb58-758d-4122-9e91-b317e96c873f",
   "metadata": {},
   "outputs": [],
   "source": [
    "Pres_LRAsmQC_Dict[\"SR_Panaroo_Moderate_MP\"].head(4)  "
   ]
  },
  {
   "cell_type": "code",
   "execution_count": null,
   "id": "cf7ed586-74a9-4a6e-8ae4-8886bcb907a9",
   "metadata": {},
   "outputs": [],
   "source": []
  },
  {
   "cell_type": "code",
   "execution_count": null,
   "id": "305bcc2c-57f3-4f31-afbe-d20a6af8f8b3",
   "metadata": {},
   "outputs": [],
   "source": [
    "Pres_LRAsmQC_Dict.keys()"
   ]
  },
  {
   "cell_type": "markdown",
   "id": "c2757dcf-2fc6-48a0-87c3-2426860d7063",
   "metadata": {},
   "source": [
    "## Plot all BEFORE & AFTER LR-Asm QC plots"
   ]
  },
  {
   "cell_type": "code",
   "execution_count": null,
   "id": "3144d29b-42fc-4357-a68e-aa73594dca19",
   "metadata": {},
   "outputs": [],
   "source": [
    "for i_Param in list(Pres_LRAsmQC_Dict.keys()): #['SR_Panaroo_Strict',  'SR_Roary_Default',]: \n",
    "                #'SR_Panaroo_Moderate', 'SR_Panaroo_Sens', 'SR_Roary_Default', 'SR_Roary_NoSplitParalogs', 'SR_Roary_NoSplitParalogs_I90']:\n",
    "\n",
    "    print(i_Param)\n",
    "\n",
    "    DF = Pres_LRAsmQC_Dict[i_Param].sort_values(\"NumAsm_WiGene\", ascending=False) \n",
    "\n",
    "    heatmap_data = DF.query(\"NumAsm_WiGene <= 150\")[OrderOfSampleIDs_Phylo].T\n",
    "    print(heatmap_data.shape)\n",
    "    \n",
    "    row_colors = [sample_colors.get(sample, \"black\") for sample in heatmap_data.index]\n",
    "    \n",
    "    # Plotting the heatmap - BEFORE QC\n",
    "    \n",
    "    fig_dims = (12, 12)\n",
    "    clustermap_plot = sns.clustermap(heatmap_data, \n",
    "                                     row_colors=row_colors,\n",
    "                                     cmap = custom_cmap_2, vmax= 5,\n",
    "                                     figsize=fig_dims, \n",
    "                                     row_cluster=False, col_cluster=False,\n",
    "                                     cbar_pos = None,\n",
    "                                     linewidths=0,\n",
    "                                     xticklabels=False,\n",
    "                                     yticklabels=False)\n",
    "    \n",
    "    #sns.heatmap(heatmap_data, cmap = custom_cmap, cbar=False, xticklabels=False, yticklabels=False, vmax=5)\n",
    "    plt.title(f'Heatmap of Gene Presence - {i_Param}')\n",
    "    plt.ylabel('Assemblies')\n",
    "    plt.ylabel('')\n",
    "    \n",
    "    plt.xlabel('Genes')\n",
    "    plt.show() \n",
    "\n",
    "    # Plotting the heatmap - AFTER SR AND LR Asm QC\n",
    "    \n",
    "    fig_dims = (12, 12)\n",
    "    clustermap_plot = sns.clustermap(heatmap_data, \n",
    "                                     row_colors=row_colors,\n",
    "                                     cmap = custom_cmap, vmax= 5,\n",
    "                                     figsize=fig_dims, \n",
    "                                     row_cluster=False, col_cluster=False,\n",
    "                                     cbar_pos = None,\n",
    "                                     linewidths=0,\n",
    "                                     xticklabels=False,\n",
    "                                     yticklabels=False)\n",
    "    \n",
    "    #sns.heatmap(heatmap_data, cmap = custom_cmap, cbar=False, xticklabels=False, yticklabels=False, vmax=5)\n",
    "    plt.title(f'Heatmap of Gene Presence - {i_Param} - QCed w/ SR and LR Asm')\n",
    "    plt.ylabel('Assemblies')\n",
    "    plt.ylabel('')\n",
    "    \n",
    "    plt.xlabel('Genes')\n",
    "    plt.show() \n",
    "\n"
   ]
  },
  {
   "cell_type": "code",
   "execution_count": null,
   "id": "8825fce0-f57a-4779-bffe-89fd04683ad8",
   "metadata": {},
   "outputs": [],
   "source": []
  },
  {
   "cell_type": "code",
   "execution_count": null,
   "id": "2a3fd6fc-37c6-4751-9ea7-3d73cfbfbeef",
   "metadata": {},
   "outputs": [],
   "source": [
    "Pres_LRAsmQC_Dict[\"SR_Panaroo_Moderate_MP\"].sort_values(\"NumAsm_WiGene\", ascending=False).head(3)"
   ]
  },
  {
   "cell_type": "code",
   "execution_count": null,
   "id": "44e112b2-6048-4800-b2e4-ab2659712283",
   "metadata": {},
   "outputs": [],
   "source": [
    "#DF = Pres_LRAsmQC_Dict[\"SR_Panaroo_Moderate\"].sort_values(\"NumAsm_WiGene\", ascending=False)\n",
    "\n",
    "#DF_LoBUSCO = DF = \n",
    "#DF_LoBUSCO = DF = \n"
   ]
  },
  {
   "cell_type": "code",
   "execution_count": null,
   "id": "82fa37de-268a-4e8e-be10-689d8bc10513",
   "metadata": {},
   "outputs": [],
   "source": []
  },
  {
   "cell_type": "code",
   "execution_count": null,
   "id": "4c665411-b5e7-45d1-ab01-0d25ad49461a",
   "metadata": {},
   "outputs": [],
   "source": []
  },
  {
   "cell_type": "markdown",
   "id": "8b816116-bd49-464d-8bed-4cdc28234625",
   "metadata": {},
   "source": [
    "## Plot all BEFORE & AFTER LR-Asm QC plots - WHOLE Pan-genome Matrix"
   ]
  },
  {
   "cell_type": "code",
   "execution_count": null,
   "id": "a9d4bcbe-cf5c-4825-94b9-ece55b4167b2",
   "metadata": {},
   "outputs": [],
   "source": [
    "for i_Param in list(Pres_LRAsmQC_Dict.keys()): #['SR_Panaroo_Strict',  'SR_Roary_Default',]: \n",
    "                #'SR_Panaroo_Moderate', 'SR_Panaroo_Sens', 'SR_Roary_Default', 'SR_Roary_NoSplitParalogs', 'SR_Roary_NoSplitParalogs_I90']:\n",
    "\n",
    "    print(i_Param)\n",
    "\n",
    "    DF = Pres_LRAsmQC_Dict[i_Param].sort_values(\"NumAsm_WiGene\", ascending=False)\n",
    "\n",
    "    #heatmap_data = DF.query(\"NumAsm_WiGene <= 150\")[OrderOfSampleIDs_Phylo].T\n",
    "    heatmap_data = DF[OrderOfSampleIDs_Phylo].T\n",
    "\n",
    "    print(heatmap_data.shape)\n",
    "    \n",
    "    row_colors = [sample_colors.get(sample, \"black\") for sample in heatmap_data.index]\n",
    "    \n",
    "    # Plotting the heatmap - BEFORE QC\n",
    "    \n",
    "    fig_dims = (12, 12)\n",
    "    clustermap_plot = sns.clustermap(heatmap_data, \n",
    "                                     row_colors=row_colors,\n",
    "                                     cmap = custom_cmap_2, vmax= 5,\n",
    "                                     figsize=fig_dims, \n",
    "                                     row_cluster=False, col_cluster=False,\n",
    "                                     cbar_pos = None,\n",
    "                                     linewidths=0,\n",
    "                                     xticklabels=False,\n",
    "                                     yticklabels=False)\n",
    "    \n",
    "    #sns.heatmap(heatmap_data, cmap = custom_cmap, cbar=False, xticklabels=False, yticklabels=False, vmax=5)\n",
    "    plt.title(f'Heatmap of Gene Presence - {i_Param}')\n",
    "    plt.ylabel('Assemblies')\n",
    "    plt.ylabel('')\n",
    "    \n",
    "    plt.xlabel('Genes')\n",
    "    plt.show() \n",
    "\n",
    "    # Plotting the heatmap - AFTER SR AND LR Asm QC\n",
    "    \n",
    "    fig_dims = (12, 12)\n",
    "    clustermap_plot = sns.clustermap(heatmap_data, \n",
    "                                     row_colors=row_colors,\n",
    "                                     cmap = custom_cmap, vmax= 5,\n",
    "                                     figsize=fig_dims, \n",
    "                                     row_cluster=False, col_cluster=False,\n",
    "                                     cbar_pos = None,\n",
    "                                     linewidths=0,\n",
    "                                     xticklabels=False,\n",
    "                                     yticklabels=False)\n",
    "    \n",
    "    #sns.heatmap(heatmap_data, cmap = custom_cmap, cbar=False, xticklabels=False, yticklabels=False, vmax=5)\n",
    "    plt.title(f'Heatmap of Gene Presence - {i_Param} - QCed w/ SR and LR Asm')\n",
    "    plt.ylabel('Assemblies')\n",
    "    plt.ylabel('')\n",
    "    \n",
    "    plt.xlabel('Genes')\n",
    "    plt.show() \n",
    "\n",
    "\n",
    "\n",
    "    \n",
    "    "
   ]
  },
  {
   "cell_type": "code",
   "execution_count": null,
   "id": "75ce759c-b1db-4e5d-9cc2-db1b41ee01e4",
   "metadata": {},
   "outputs": [],
   "source": []
  },
  {
   "cell_type": "code",
   "execution_count": null,
   "id": "bafb0072-aea4-480f-9312-b5eb41ae1355",
   "metadata": {},
   "outputs": [],
   "source": []
  },
  {
   "cell_type": "code",
   "execution_count": null,
   "id": "114f2d43-daec-4a78-95df-de1c111c5121",
   "metadata": {},
   "outputs": [],
   "source": []
  },
  {
   "cell_type": "code",
   "execution_count": null,
   "id": "d898b0c0-9caf-4637-9f42-de2a4bced9c8",
   "metadata": {},
   "outputs": [],
   "source": []
  },
  {
   "cell_type": "code",
   "execution_count": null,
   "id": "7fda7e06-1598-4d74-b14c-6fa372b246f1",
   "metadata": {},
   "outputs": [],
   "source": []
  },
  {
   "cell_type": "code",
   "execution_count": null,
   "id": "dbccad1d-3af3-46db-942a-1716b62a460d",
   "metadata": {},
   "outputs": [],
   "source": []
  },
  {
   "cell_type": "code",
   "execution_count": null,
   "id": "42848df9-52a1-4515-94c8-5fad1e2e2dac",
   "metadata": {},
   "outputs": [],
   "source": []
  },
  {
   "cell_type": "code",
   "execution_count": null,
   "id": "2640cc4c-8051-48d8-9782-e0da6f40f9de",
   "metadata": {},
   "outputs": [],
   "source": []
  },
  {
   "cell_type": "code",
   "execution_count": null,
   "id": "6e6a385c-ea95-404c-bfc6-68b14fb947ba",
   "metadata": {},
   "outputs": [],
   "source": []
  },
  {
   "cell_type": "code",
   "execution_count": null,
   "id": "9fb70c80-2d39-4102-83b3-919a3fd9fff5",
   "metadata": {},
   "outputs": [],
   "source": []
  }
 ],
 "metadata": {
  "kernelspec": {
   "display_name": "py37_S",
   "language": "python",
   "name": "py37_s"
  },
  "language_info": {
   "codemirror_mode": {
    "name": "ipython",
    "version": 3
   },
   "file_extension": ".py",
   "mimetype": "text/x-python",
   "name": "python",
   "nbconvert_exporter": "python",
   "pygments_lexer": "ipython3",
   "version": "3.7.3"
  }
 },
 "nbformat": 4,
 "nbformat_minor": 5
}
