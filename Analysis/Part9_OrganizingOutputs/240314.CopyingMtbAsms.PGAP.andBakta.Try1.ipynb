{
 "cells": [
  {
   "cell_type": "markdown",
   "id": "5b192768-e435-4183-b5ad-8e9ccd6adf30",
   "metadata": {},
   "source": [
    "# Organizing annotated genome assemblies (Mtb-151CI)\n",
    "\n",
    "### Maximillian Marin (maximillian_marin@hms.harvard.edu)\n",
    "\n",
    "\n"
   ]
  },
  {
   "cell_type": "code",
   "execution_count": null,
   "id": "975d28ff-69c3-46dd-a2fc-3708ed276cfa",
   "metadata": {},
   "outputs": [],
   "source": []
  },
  {
   "cell_type": "markdown",
   "id": "534e7a49-d942-43d5-b3a4-bb9a6ce96124",
   "metadata": {
    "toc-hr-collapsed": true
   },
   "source": [
    "### Import Statements"
   ]
  },
  {
   "cell_type": "code",
   "execution_count": 1,
   "id": "337d2056-6bf3-4851-acc2-a70d25a021ee",
   "metadata": {},
   "outputs": [],
   "source": [
    "import numpy as np\n",
    "import pandas as pd\n",
    "\n",
    "from tqdm import tqdm\n",
    "import matplotlib.pyplot as plt\n",
    "import seaborn as sns\n",
    "import json\n",
    "%matplotlib inline"
   ]
  },
  {
   "cell_type": "code",
   "execution_count": null,
   "id": "f7112c19-c34b-4b46-9ddb-94ff9d48b164",
   "metadata": {},
   "outputs": [],
   "source": []
  },
  {
   "cell_type": "code",
   "execution_count": null,
   "id": "3543e6cd-6d49-4857-8ee3-acd14485f989",
   "metadata": {},
   "outputs": [],
   "source": []
  },
  {
   "cell_type": "markdown",
   "id": "1e4bf07d-7878-457f-b860-663efe7837bf",
   "metadata": {},
   "source": [
    "### Set matplotlib text export settings for Adobe Illustrator"
   ]
  },
  {
   "cell_type": "code",
   "execution_count": 2,
   "id": "6a881aa5-b7b8-4f2e-877a-177f6d76ce92",
   "metadata": {},
   "outputs": [],
   "source": [
    "import matplotlib\n",
    "matplotlib.rcParams['pdf.fonttype'] = 42\n",
    "matplotlib.rcParams['ps.fonttype'] = 42"
   ]
  },
  {
   "cell_type": "markdown",
   "id": "816d9de7-2f7c-4342-a68b-cddda895d6cd",
   "metadata": {},
   "source": [
    "#### Pandas Viewing Settings"
   ]
  },
  {
   "cell_type": "code",
   "execution_count": 3,
   "id": "bf9a48f9-d344-4375-90bf-994341694ecb",
   "metadata": {},
   "outputs": [],
   "source": [
    "pd.set_option('display.max_rows', 500)\n",
    "pd.set_option('display.max_columns', 500)\n",
    "pd.set_option('display.width', 1000)"
   ]
  },
  {
   "cell_type": "code",
   "execution_count": 4,
   "id": "13d5704e-45b0-4a0e-bbea-42946cce1fb8",
   "metadata": {},
   "outputs": [],
   "source": [
    "plt.style.use('../nqo.mplstyle')"
   ]
  },
  {
   "cell_type": "code",
   "execution_count": null,
   "id": "68e27a82-c840-458b-9a29-84f439cf2738",
   "metadata": {},
   "outputs": [],
   "source": []
  },
  {
   "cell_type": "markdown",
   "id": "2e1331ae-1e54-4637-97cb-52f118036cc0",
   "metadata": {},
   "source": [
    "## Define paths to sample metadata files"
   ]
  },
  {
   "cell_type": "code",
   "execution_count": 5,
   "id": "f7a69837-8d7e-4a48-b0bd-5cfaac05c4e9",
   "metadata": {},
   "outputs": [
    {
     "name": "stdout",
     "output_type": "stream",
     "text": [
      "230905_Ecoli_50CI_Metadata_Shaw2021\n",
      "231121_HybridMtbAsm_QCPass_Meta_Set3_AsmPolishStats_OLD\n",
      "231121.InputAsmTSVs.MtbSetV3.151CI\n",
      "231130_Mtb_HybridVsSR_AsmSummary_TSVs\n",
      "240116.PG_Results\n",
      "Ecoli_50CI_Phylo\n",
      "Evaluate_SRAsmPGAnalysis_WiHybridAsm\n",
      "MtbPangenomeAnalysis_SetV3\n",
      "MtbPangenomeAnalysis_SetV4\n",
      "README.md\n",
      "SRAENA_RunMetadata\n"
     ]
    }
   ],
   "source": [
    "!ls -1 ../../Data"
   ]
  },
  {
   "cell_type": "code",
   "execution_count": 6,
   "id": "cbe1ad47-a18f-4f87-a071-8b1ba485b209",
   "metadata": {},
   "outputs": [],
   "source": [
    "Repo_DataDir = \"../../Data\"\n",
    "InputAsmPath_Dir = f\"{Repo_DataDir}/231121.InputAsmTSVs.MtbSetV3.151CI\"\n",
    "\n",
    "MtbSetV3_151CI_InputAsmPATHs_TSV = f\"{InputAsmPath_Dir}/231121.MtbSetV3.151CI.HybridAndSRAsm.FAPATHs.V1.tsv\"\n",
    "\n",
    "MtbSetV3_151CI_AsmSumm_TSV = f\"{InputAsmPath_Dir}/231121.MtbSetV3.151CI.HybridAsm.AsmSummary.V2.tsv\"\n"
   ]
  },
  {
   "cell_type": "code",
   "execution_count": null,
   "id": "773d67a2-7b0b-4ea7-83f8-499c8c4779ef",
   "metadata": {},
   "outputs": [],
   "source": []
  },
  {
   "cell_type": "markdown",
   "id": "db64019b-804d-4a76-aeac-b6b0e3b64295",
   "metadata": {},
   "source": [
    "## PARSE PATHs FOR ALL assemblies processed by this pipeline"
   ]
  },
  {
   "cell_type": "code",
   "execution_count": 7,
   "id": "10a96c96-adf0-40ff-96e9-70baae6becdc",
   "metadata": {},
   "outputs": [],
   "source": [
    "WGA151CI_LRandSR_Asm_Path_DF = pd.read_csv(MtbSetV3_151CI_InputAsmPATHs_TSV, sep = \"\\t\")\n",
    "\n",
    "WGA151CI_LRandSR_Asm_Path_DF.columns = ['SampleID', 'Dataset_Tag',\n",
    "                                        'Genome_LR_ASM_PATH', 'Genome_SR_ASM_PATH']\n"
   ]
  },
  {
   "cell_type": "code",
   "execution_count": 8,
   "id": "376fe7c5-1dd4-4be0-a161-4bbe87d7a93d",
   "metadata": {},
   "outputs": [
    {
     "data": {
      "text/html": [
       "<div>\n",
       "<style scoped>\n",
       "    .dataframe tbody tr th:only-of-type {\n",
       "        vertical-align: middle;\n",
       "    }\n",
       "\n",
       "    .dataframe tbody tr th {\n",
       "        vertical-align: top;\n",
       "    }\n",
       "\n",
       "    .dataframe thead th {\n",
       "        text-align: right;\n",
       "    }\n",
       "</style>\n",
       "<table border=\"1\" class=\"dataframe\">\n",
       "  <thead>\n",
       "    <tr style=\"text-align: right;\">\n",
       "      <th></th>\n",
       "      <th>SampleID</th>\n",
       "      <th>Dataset_Tag</th>\n",
       "      <th>Genome_LR_ASM_PATH</th>\n",
       "      <th>Genome_SR_ASM_PATH</th>\n",
       "    </tr>\n",
       "  </thead>\n",
       "  <tbody>\n",
       "    <tr>\n",
       "      <th>0</th>\n",
       "      <td>N0072</td>\n",
       "      <td>ChinerOms_2019</td>\n",
       "      <td>/n/data1/hms/dbmi/farhat/mm774/Projects/231121...</td>\n",
       "      <td>/n/data1/hms/dbmi/farhat/mm774/Projects/231121...</td>\n",
       "    </tr>\n",
       "  </tbody>\n",
       "</table>\n",
       "</div>"
      ],
      "text/plain": [
       "  SampleID     Dataset_Tag                                 Genome_LR_ASM_PATH                                 Genome_SR_ASM_PATH\n",
       "0    N0072  ChinerOms_2019  /n/data1/hms/dbmi/farhat/mm774/Projects/231121...  /n/data1/hms/dbmi/farhat/mm774/Projects/231121..."
      ]
     },
     "execution_count": 8,
     "metadata": {},
     "output_type": "execute_result"
    }
   ],
   "source": [
    "WGA151CI_LRandSR_Asm_Path_DF.head(1)"
   ]
  },
  {
   "cell_type": "code",
   "execution_count": 9,
   "id": "117a6ee4-d2c3-4b83-b934-7be318b95202",
   "metadata": {},
   "outputs": [],
   "source": [
    "#WGA158CI_LRandSR_Asm_Path_DF[['SampleID', 'Dataset_Tag', 'Genome_LR_ASM_PATH']]"
   ]
  },
  {
   "cell_type": "markdown",
   "id": "71f597f8-d171-4a89-8f2a-281ee01dca42",
   "metadata": {},
   "source": [
    "## Parse sample Metadata (N = 151)"
   ]
  },
  {
   "cell_type": "code",
   "execution_count": 10,
   "id": "6f5515e1-ee18-499f-9dad-a34cfe95b2de",
   "metadata": {},
   "outputs": [
    {
     "data": {
      "text/plain": [
       "(151, 7)"
      ]
     },
     "execution_count": 10,
     "metadata": {},
     "output_type": "execute_result"
    }
   ],
   "source": [
    "\n",
    "WGA151CI_AsmSummary_DF = pd.read_csv(MtbSetV3_151CI_AsmSumm_TSV, sep = \"\\t\")\n",
    "\n",
    "SampleIDs_151CI_SOI = list( WGA151CI_AsmSummary_DF[\"SampleID\"].values )\n",
    "WGA151CI_SampleIDs = SampleIDs_151CI_SOI\n",
    "\n",
    "#print(','.join(SampleIDs_151CI_SOI) )\n",
    "\n",
    "ID_To_PrimLineage_Dict = dict(WGA151CI_AsmSummary_DF[['SampleID', 'PrimaryLineage']].values)\n",
    "ID_To_SubLineage_Dict = dict( WGA151CI_AsmSummary_DF[[\"SampleID\", \"Lineage\"]].values)\n",
    "ID_To_Dataset_Dict = dict(WGA151CI_AsmSummary_DF[['SampleID', 'Dataset_Tag']].values)\n",
    "WGA151CI_AsmSummary_DF.shape"
   ]
  },
  {
   "cell_type": "code",
   "execution_count": 11,
   "id": "9fcc8b4a-8c88-4933-a01a-dfbbc70b6ad5",
   "metadata": {},
   "outputs": [
    {
     "data": {
      "text/html": [
       "<div>\n",
       "<style scoped>\n",
       "    .dataframe tbody tr th:only-of-type {\n",
       "        vertical-align: middle;\n",
       "    }\n",
       "\n",
       "    .dataframe tbody tr th {\n",
       "        vertical-align: top;\n",
       "    }\n",
       "\n",
       "    .dataframe thead th {\n",
       "        text-align: right;\n",
       "    }\n",
       "</style>\n",
       "<table border=\"1\" class=\"dataframe\">\n",
       "  <thead>\n",
       "    <tr style=\"text-align: right;\">\n",
       "      <th></th>\n",
       "      <th>SampleID</th>\n",
       "      <th>numContigs_Complete</th>\n",
       "      <th>Flye_CircContig_Cov</th>\n",
       "      <th>PrimaryLineage</th>\n",
       "      <th>Lineage</th>\n",
       "      <th>Dataset_Tag</th>\n",
       "      <th>AsmApproach</th>\n",
       "    </tr>\n",
       "  </thead>\n",
       "  <tbody>\n",
       "    <tr>\n",
       "      <th>0</th>\n",
       "      <td>N0072</td>\n",
       "      <td>1</td>\n",
       "      <td>358</td>\n",
       "      <td>lineage1</td>\n",
       "      <td>lineage1,lineage1.1,lineage1.1.2</td>\n",
       "      <td>ChinerOms_2019</td>\n",
       "      <td>PBrs2_LR_Flye_I3_SR_Pilon</td>\n",
       "    </tr>\n",
       "    <tr>\n",
       "      <th>1</th>\n",
       "      <td>N0153</td>\n",
       "      <td>1</td>\n",
       "      <td>372</td>\n",
       "      <td>lineage1</td>\n",
       "      <td>lineage1,lineage1.1,lineage1.1.1,lineage1.1.1.1</td>\n",
       "      <td>ChinerOms_2019</td>\n",
       "      <td>PBrs2_LR_Flye_I3_SR_Pilon</td>\n",
       "    </tr>\n",
       "    <tr>\n",
       "      <th>2</th>\n",
       "      <td>TB3113</td>\n",
       "      <td>1</td>\n",
       "      <td>933</td>\n",
       "      <td>lineage2</td>\n",
       "      <td>lineage2,lineage2.2,lineage2.2.1</td>\n",
       "      <td>TB_Portals_24CI_R1</td>\n",
       "      <td>PBrs2_LR_Flye_I3_SR_Pilon</td>\n",
       "    </tr>\n",
       "  </tbody>\n",
       "</table>\n",
       "</div>"
      ],
      "text/plain": [
       "  SampleID  numContigs_Complete  Flye_CircContig_Cov PrimaryLineage                                          Lineage         Dataset_Tag                AsmApproach\n",
       "0    N0072                    1                  358       lineage1                 lineage1,lineage1.1,lineage1.1.2      ChinerOms_2019  PBrs2_LR_Flye_I3_SR_Pilon\n",
       "1    N0153                    1                  372       lineage1  lineage1,lineage1.1,lineage1.1.1,lineage1.1.1.1      ChinerOms_2019  PBrs2_LR_Flye_I3_SR_Pilon\n",
       "2   TB3113                    1                  933       lineage2                 lineage2,lineage2.2,lineage2.2.1  TB_Portals_24CI_R1  PBrs2_LR_Flye_I3_SR_Pilon"
      ]
     },
     "execution_count": 11,
     "metadata": {},
     "output_type": "execute_result"
    }
   ],
   "source": [
    "WGA151CI_AsmSummary_DF.head(3)"
   ]
  },
  {
   "cell_type": "markdown",
   "id": "b9480fcd-692f-4128-a4fb-c32bbd99c878",
   "metadata": {},
   "source": [
    "#### What is the lineage breakdown?"
   ]
  },
  {
   "cell_type": "code",
   "execution_count": 12,
   "id": "275cfcf5-1808-4307-b349-972f03531e8a",
   "metadata": {},
   "outputs": [
    {
     "data": {
      "text/plain": [
       "lineage4    62\n",
       "lineage2    61\n",
       "lineage1    15\n",
       "lineage3     7\n",
       "lineage6     3\n",
       "lineage5     2\n",
       "lineage8     1\n",
       "Name: PrimaryLineage, dtype: int64"
      ]
     },
     "execution_count": 12,
     "metadata": {},
     "output_type": "execute_result"
    }
   ],
   "source": [
    "WGA151CI_AsmSummary_DF[\"PrimaryLineage\"].value_counts()"
   ]
  },
  {
   "cell_type": "markdown",
   "id": "cdd851f8-5cd7-4554-90f4-764c741eacf4",
   "metadata": {},
   "source": [
    "#### What is the datasets are contributing to our 151 Mtb isolates?"
   ]
  },
  {
   "cell_type": "code",
   "execution_count": 13,
   "id": "4ec7f505-57d0-49a5-9907-02eda54c5ee7",
   "metadata": {},
   "outputs": [
    {
     "data": {
      "text/plain": [
       "Hall2022                78\n",
       "TB_Portals_24CI_R1      21\n",
       "Peker2021               17\n",
       "Farhat_Peru_2019        13\n",
       "ChinerOms_2019          12\n",
       "TRUST_PB_Set1            8\n",
       "Lee2020_Elife            1\n",
       "Ngabonziza_Lin8_2020     1\n",
       "Name: Dataset_Tag, dtype: int64"
      ]
     },
     "execution_count": 13,
     "metadata": {},
     "output_type": "execute_result"
    }
   ],
   "source": [
    "WGA151CI_AsmSummary_DF[\"Dataset_Tag\"].value_counts()"
   ]
  },
  {
   "cell_type": "markdown",
   "id": "537cd1c7-118a-4c10-877d-8484244bf95a",
   "metadata": {},
   "source": [
    "#### What is the breakdown of hybrid assembly approaches used?\n",
    "- 1 - `PBrs2_LR_Flye_I3_SR_Pilon` (N = 48) <br>\n",
    "   PacBio RSII subreads assembled and polished (Flye), then polished w/ short-reads (Pilon)\n",
    "\n",
    "- 2 - `PBccs_LR_Flye_I3_SR_Pilon` (N = 8) <br>\n",
    "   PacBio Sequel II HiFi reads assembled and polished (Flye), then polished w/ short-reads (Pilon)\n",
    "  \n",
    "- 3 - `ONT9.4_LR_FlyeI3M_SR_Pilon_PolyPolish` (N= 95) <br>\n",
    "   Oxford Nanopore (9.4.1) reads assembled and polished (Flye, Medaka), then polished w/ short-reads (Pilon, PolyPolish)\n"
   ]
  },
  {
   "cell_type": "code",
   "execution_count": 14,
   "id": "731ce517-ce6e-4a7b-9558-f3364e764b14",
   "metadata": {},
   "outputs": [
    {
     "data": {
      "text/plain": [
       "ONT9.4_LR_FlyeI3M_SR_Pilon_PolyPolish    95\n",
       "PBrs2_LR_Flye_I3_SR_Pilon                48\n",
       "PBccs_LR_Flye_I3_SR_Pilon                 8\n",
       "Name: AsmApproach, dtype: int64"
      ]
     },
     "execution_count": 14,
     "metadata": {},
     "output_type": "execute_result"
    }
   ],
   "source": [
    "WGA151CI_AsmSummary_DF[\"AsmApproach\"].value_counts() "
   ]
  },
  {
   "cell_type": "code",
   "execution_count": null,
   "id": "19e98729-1fec-4ec0-b0b7-c9701ec540ed",
   "metadata": {},
   "outputs": [],
   "source": []
  },
  {
   "cell_type": "code",
   "execution_count": null,
   "id": "bd188b17-353c-40ac-9522-9b7430724b5a",
   "metadata": {},
   "outputs": [],
   "source": []
  },
  {
   "cell_type": "code",
   "execution_count": null,
   "id": "6c36e7a8-2ab0-489b-9543-f9a3c71d0d54",
   "metadata": {},
   "outputs": [],
   "source": []
  },
  {
   "cell_type": "markdown",
   "id": "2338a34a-b014-49b0-90a1-d67e68c574ba",
   "metadata": {},
   "source": [
    "# Define output dir of the Mtb-WGA-SMK processing pipeline"
   ]
  },
  {
   "cell_type": "code",
   "execution_count": 15,
   "id": "bf4cf885-7b4d-4c94-855d-e5041d148836",
   "metadata": {},
   "outputs": [],
   "source": [
    "# Define pipeline output directories\n",
    "\n",
    "Mtb_WGA_SMK_Outputs_Dir = \"/n/data1/hms/dbmi/farhat/mm774/Projects/Mtb-WGA-SMK-Output\"\n",
    "\n",
    "WGA151CI_SMK_OutputDir = Mtb_WGA_SMK_Outputs_Dir + \"/231121_MtbSetV3_151CI\"\n",
    "\n",
    "Mtb_SMK_Pipeline_OutputDir = WGA151CI_SMK_OutputDir\n"
   ]
  },
  {
   "cell_type": "code",
   "execution_count": 16,
   "id": "8be6da13-0295-4035-9666-cf3d441c636d",
   "metadata": {},
   "outputs": [],
   "source": [
    "#!ls -alh $Mtb_SMK_Pipeline_OutputDir"
   ]
  },
  {
   "cell_type": "code",
   "execution_count": null,
   "id": "418ffa68-7f09-409a-ba06-3f50d91ab799",
   "metadata": {},
   "outputs": [],
   "source": []
  },
  {
   "cell_type": "markdown",
   "id": "28b2bad5-de8c-4bdf-a76a-79d213bdac05",
   "metadata": {},
   "source": [
    "## Define paths to all BAKTA Annotations (For both Hybrid & SR ASMs)"
   ]
  },
  {
   "cell_type": "code",
   "execution_count": 17,
   "id": "728698a4-3a8b-40b0-a186-ce17e503cb97",
   "metadata": {},
   "outputs": [],
   "source": [
    "listOfSample_Tags = WGA151CI_SampleIDs\n",
    "\n",
    "target_SMK_OutputDir = Mtb_SMK_Pipeline_OutputDir\n",
    "\n",
    "SampleTag_ToPaths_Dict = {}\n",
    "\n",
    "for SampleID in listOfSample_Tags:\n",
    "    sample_Asm_OutputDir = target_SMK_OutputDir + \"/AsmAnalysis/\" + SampleID\n",
    "    GenomeAnno_Dir = f\"{sample_Asm_OutputDir}/GenomeAnnotation\"\n",
    "    \n",
    "    # LR-Hybrid Bakta Anno Files\n",
    "    Bakta_LR_AsmDir = f\"{GenomeAnno_Dir}/{SampleID}_Asm_Bakta\"\n",
    "    \n",
    "    i_LRAsm_Bakta_GFF = f\"{Bakta_LR_AsmDir}/{SampleID}.Bakta.gff3\"\n",
    "    i_LRAsm_Bakta_GBFF = f\"{Bakta_LR_AsmDir}/{SampleID}.Bakta.gbff\"\n",
    "    i_LRAsm_Bakta_FAA = f\"{Bakta_LR_AsmDir}/{SampleID}.Bakta.faa\"\n",
    "    i_LRAsm_Bakta_FFN = f\"{Bakta_LR_AsmDir}/{SampleID}.Bakta.ffn\"\n",
    "    i_LRAsm_Bakta_FNA = f\"{Bakta_LR_AsmDir}/{SampleID}.Bakta.fna\"\n",
    "    i_LRAsm_Bakta_TXT = f\"{Bakta_LR_AsmDir}/{SampleID}.Bakta.txt\"\n",
    "\n",
    "    # SR Bakta Anno Files\n",
    "    Bakta_SR_AsmDir = f\"{GenomeAnno_Dir}/{SampleID}_SR_Asm_Bakta\"\n",
    "\n",
    "    i_SRAsm_Bakta_GFF = f\"{Bakta_SR_AsmDir}/{SampleID}.Bakta.gff3\"\n",
    "    i_SRAsm_Bakta_GBFF = f\"{Bakta_SR_AsmDir}/{SampleID}.Bakta.gbff\"\n",
    "    i_SRAsm_Bakta_FAA = f\"{Bakta_SR_AsmDir}/{SampleID}.Bakta.faa\"\n",
    "    i_SRAsm_Bakta_FFN = f\"{Bakta_SR_AsmDir}/{SampleID}.Bakta.ffn\"\n",
    "    i_SRAsm_Bakta_FNA = f\"{Bakta_SR_AsmDir}/{SampleID}.Bakta.fna\"\n",
    "    i_SRAsm_Bakta_TXT = f\"{Bakta_SR_AsmDir}/{SampleID}.Bakta.txt\"\n",
    "\n",
    "    # LR-Hybrid PGAP Anno Files\n",
    "    PGAP_LR_AsmDir = f\"{GenomeAnno_Dir}/{SampleID}_Asm_PGAP_V1\"\n",
    "    \n",
    "    i_LRAsm_PGAP_GFF = f\"{PGAP_LR_AsmDir}/{SampleID}.PGAP.gff\"\n",
    "    i_LRAsm_PGAP_FNA = f\"{PGAP_LR_AsmDir}/{SampleID}.PGAP.Genome.fasta\"\n",
    "    i_LRAsm_PGAP_WiDNA_GFF = f\"{PGAP_LR_AsmDir}/{SampleID}.PGAP.WiDNA.gff\"\n",
    "\n",
    "    # SR PGAP Anno Files\n",
    "    PGAP_SR_AsmDir = f\"{GenomeAnno_Dir}/{SampleID}_SR_Asm_PGAP_V1\"\n",
    "    \n",
    "    i_SRAsm_PGAP_GFF = f\"{PGAP_SR_AsmDir}/{SampleID}.PGAP.gff\"\n",
    "    i_SRAsm_PGAP_FNA = f\"{PGAP_SR_AsmDir}/{SampleID}.PGAP.Genome.fasta\"\n",
    "    i_SRAsm_PGAP_WiDNA_GFF = f\"{PGAP_SR_AsmDir}/{SampleID}.PGAP.WiDNA.gff\"\n",
    "\n",
    "    \n",
    "    MM2_AsmToRef_Output_Dir = sample_Asm_OutputDir + \"/VariantCallingVersusH37Rv/MM2_AsmToH37rv\"\n",
    "    MM2_AsmToH37Rv_BAM = f\"{MM2_AsmToRef_Output_Dir}/{SampleID}.mm2.AsmToH37Rv.bam\"\n",
    "    \n",
    "    dictOfPaths_Temp = {}\n",
    "    dictOfPaths_Temp[\"LRAsm_Bakta_GFF\"] = i_LRAsm_Bakta_GFF  \n",
    "    dictOfPaths_Temp[\"LRAsm_Bakta_GBFF\"] = i_LRAsm_Bakta_GBFF\n",
    "    dictOfPaths_Temp[\"LRAsm_Bakta_FAA\"] = i_LRAsm_Bakta_FAA    \n",
    "    dictOfPaths_Temp[\"LRAsm_Bakta_FFN\"] = i_LRAsm_Bakta_FFN    \n",
    "    dictOfPaths_Temp[\"LRAsm_Bakta_FNA\"] = i_LRAsm_Bakta_FNA  \n",
    "    dictOfPaths_Temp[\"LRAsm_Bakta_TXT\"] = i_LRAsm_Bakta_TXT \n",
    "\n",
    "    dictOfPaths_Temp[\"SRAsm_Bakta_GFF\"] = i_SRAsm_Bakta_GFF\n",
    "    dictOfPaths_Temp[\"SRAsm_Bakta_GBFF\"] = i_SRAsm_Bakta_GBFF\n",
    "    dictOfPaths_Temp[\"SRAsm_Bakta_FAA\"] = i_SRAsm_Bakta_FAA\n",
    "    dictOfPaths_Temp[\"SRAsm_Bakta_FFN\"] = i_SRAsm_Bakta_FFN\n",
    "    dictOfPaths_Temp[\"SRAsm_Bakta_FNA\"] = i_SRAsm_Bakta_FNA\n",
    "    dictOfPaths_Temp[\"SRAsm_Bakta_TXT\"] = i_SRAsm_Bakta_TXT \n",
    "\n",
    "    dictOfPaths_Temp[\"LRAsm_PGAP_GFF\"] = i_LRAsm_PGAP_GFF  \n",
    "    dictOfPaths_Temp[\"LRAsm_PGAP_FNA\"] = i_LRAsm_PGAP_FNA\n",
    "    dictOfPaths_Temp[\"LRAsm_PGAP_WiDNA_GFF\"] = i_LRAsm_PGAP_WiDNA_GFF  \n",
    "    \n",
    "    dictOfPaths_Temp[\"SRAsm_PGAP_GFF\"] = i_SRAsm_PGAP_GFF  \n",
    "    dictOfPaths_Temp[\"SRAsm_PGAP_FNA\"] = i_SRAsm_PGAP_FNA\n",
    "    dictOfPaths_Temp[\"SRAsm_PGAP_WiDNA_GFF\"] = i_SRAsm_PGAP_WiDNA_GFF  \n",
    "\n",
    "    \n",
    "    SampleTag_ToPaths_Dict[SampleID] = dictOfPaths_Temp\n",
    "\n"
   ]
  },
  {
   "cell_type": "code",
   "execution_count": null,
   "id": "7f60603b-c3ba-4ab2-a8c3-adf9d61dbc68",
   "metadata": {},
   "outputs": [],
   "source": []
  },
  {
   "cell_type": "code",
   "execution_count": 18,
   "id": "f0e04d80-cec0-4031-b2bf-d906027c88f4",
   "metadata": {},
   "outputs": [
    {
     "name": "stdout",
     "output_type": "stream",
     "text": [
      "S0262-02_Asm_Bakta\n",
      "S0262-02_Asm_PGAP_V1\n",
      "S0262-02_SR_Asm_Bakta\n",
      "S0262-02_SR_Asm_PGAP_V1\n"
     ]
    }
   ],
   "source": [
    "!ls -1 $GenomeAnno_Dir"
   ]
  },
  {
   "cell_type": "code",
   "execution_count": 19,
   "id": "d24921fb-b509-4276-89a9-3f2c1b796fec",
   "metadata": {},
   "outputs": [
    {
     "name": "stdout",
     "output_type": "stream",
     "text": [
      "S0262-02.PGAP.Genome.fasta\n",
      "S0262-02.PGAP.gff\n",
      "S0262-02.PGAP.gff.InputInfo.tsv\n",
      "S0262-02.PGAP.WiDNA.gff\n"
     ]
    }
   ],
   "source": [
    "!ls -1 $GenomeAnno_Dir/S0262-02_Asm_PGAP_V1"
   ]
  },
  {
   "cell_type": "code",
   "execution_count": 20,
   "id": "e2518531-8dad-484a-839f-b7893280ca63",
   "metadata": {},
   "outputs": [
    {
     "name": "stdout",
     "output_type": "stream",
     "text": [
      "S0262-02.Bakta.embl\n",
      "S0262-02.Bakta.faa\n",
      "S0262-02.Bakta.ffn\n",
      "S0262-02.Bakta.fna\n",
      "S0262-02.Bakta.gbff\n",
      "S0262-02.Bakta.gbff.InputInfo.tsv\n",
      "S0262-02.Bakta.gff3\n",
      "S0262-02.Bakta.hypotheticals.faa\n",
      "S0262-02.Bakta.hypotheticals.tsv\n",
      "S0262-02.Bakta.json\n",
      "S0262-02.Bakta.log\n",
      "S0262-02.Bakta.png\n",
      "S0262-02.Bakta.svg\n",
      "S0262-02.Bakta.tsv\n",
      "S0262-02.Bakta.txt\n"
     ]
    }
   ],
   "source": [
    "!ls -1 $Bakta_LR_AsmDir"
   ]
  },
  {
   "cell_type": "code",
   "execution_count": 21,
   "id": "3e4bbccc-662a-440a-b3de-48170a63abb3",
   "metadata": {},
   "outputs": [
    {
     "name": "stdout",
     "output_type": "stream",
     "text": [
      "S0262-02.Bakta.embl\n",
      "S0262-02.Bakta.faa\n",
      "S0262-02.Bakta.ffn\n",
      "S0262-02.Bakta.fna\n",
      "S0262-02.Bakta.gbff\n",
      "S0262-02.Bakta.gbff.InputInfo.tsv\n",
      "S0262-02.Bakta.gff3\n",
      "S0262-02.Bakta.hypotheticals.faa\n",
      "S0262-02.Bakta.hypotheticals.tsv\n",
      "S0262-02.Bakta.json\n",
      "S0262-02.Bakta.log\n",
      "S0262-02.Bakta.png\n",
      "S0262-02.Bakta.svg\n",
      "S0262-02.Bakta.tsv\n",
      "S0262-02.Bakta.txt\n"
     ]
    }
   ],
   "source": [
    "!ls -1 $Bakta_SR_AsmDir"
   ]
  },
  {
   "cell_type": "code",
   "execution_count": null,
   "id": "67bad645-9a12-4042-b5f9-7685b459693a",
   "metadata": {},
   "outputs": [],
   "source": []
  },
  {
   "cell_type": "code",
   "execution_count": null,
   "id": "f4f73e79-3b47-4c60-aa53-2717b97ddd72",
   "metadata": {},
   "outputs": [],
   "source": []
  },
  {
   "cell_type": "code",
   "execution_count": 22,
   "id": "43a88569-5f9e-4f33-9b53-72915cdd64da",
   "metadata": {},
   "outputs": [
    {
     "name": "stdout",
     "output_type": "stream",
     "text": [
      "mkdir: cannot create directory ‘/n/data1/hms/dbmi/farhat/mm774/Projects/240308.PGBenchmarking.DataOrg’: File exists\n",
      "mkdir: cannot create directory ‘/n/data1/hms/dbmi/farhat/mm774/Projects/240308.PGBenchmarking.DataOrg/Mtb.151CI.Hybrid.PGAP.Anno’: File exists\n",
      "mkdir: cannot create directory ‘/n/data1/hms/dbmi/farhat/mm774/Projects/240308.PGBenchmarking.DataOrg/Mtb.151CI.SR.PGAP.Anno’: File exists\n",
      "mkdir: cannot create directory ‘/n/data1/hms/dbmi/farhat/mm774/Projects/240308.PGBenchmarking.DataOrg/Mtb.151CI.Hybrid.Bakta.Anno’: File exists\n",
      "mkdir: cannot create directory ‘/n/data1/hms/dbmi/farhat/mm774/Projects/240308.PGBenchmarking.DataOrg/Mtb.151CI.SR.Bakta.Anno’: File exists\n"
     ]
    }
   ],
   "source": [
    "Proj_Dir = \"/n/data1/hms/dbmi/farhat/mm774/Projects\"\n",
    "\n",
    "PGBenchmarking_DataOrg_Dir = f\"{Proj_Dir}/240308.PGBenchmarking.DataOrg\"\n",
    "!mkdir $PGBenchmarking_DataOrg_Dir\n",
    "\n",
    "Mtb_151CI_Hybrid_PGAP_AsmDir = f\"{PGBenchmarking_DataOrg_Dir}/Mtb.151CI.Hybrid.PGAP.Anno\" \n",
    "Mtb_151CI_SR_PGAP_AsmDir = f\"{PGBenchmarking_DataOrg_Dir}/Mtb.151CI.SR.PGAP.Anno\" \n",
    "\n",
    "Mtb_151CI_Hybrid_Bakta_AsmDir = f\"{PGBenchmarking_DataOrg_Dir}/Mtb.151CI.Hybrid.Bakta.Anno\" \n",
    "Mtb_151CI_SR_Bakta_AsmDir = f\"{PGBenchmarking_DataOrg_Dir}/Mtb.151CI.SR.Bakta.Anno\" \n",
    "\n",
    "\n",
    "!mkdir $Mtb_151CI_Hybrid_PGAP_AsmDir\n",
    "!mkdir $Mtb_151CI_SR_PGAP_AsmDir\n",
    "\n",
    "!mkdir $Mtb_151CI_Hybrid_Bakta_AsmDir\n",
    "!mkdir $Mtb_151CI_SR_Bakta_AsmDir\n",
    "\n"
   ]
  },
  {
   "cell_type": "code",
   "execution_count": 23,
   "id": "7682001b-9286-4361-b189-05e455f94aab",
   "metadata": {},
   "outputs": [
    {
     "name": "stdout",
     "output_type": "stream",
     "text": [
      "Ecoli.50CI.Hybrid.Bakta.Anno\n",
      "Ecoli.50CI.SR.Bakta.Anno\n",
      "Mtb.151CI.Hybrid.Bakta.Anno\n",
      "Mtb.151CI.Hybrid.PGAP.Anno\n",
      "Mtb.151CI.SR.Bakta.Anno\n",
      "Mtb.151CI.SR.PGAP.Anno\n"
     ]
    }
   ],
   "source": [
    "!ls -1 $PGBenchmarking_DataOrg_Dir"
   ]
  },
  {
   "cell_type": "code",
   "execution_count": null,
   "id": "7f20c951-8be9-4f2d-a058-a2eaad2f3310",
   "metadata": {},
   "outputs": [],
   "source": []
  },
  {
   "cell_type": "code",
   "execution_count": 24,
   "id": "66dc0e95-4074-472d-960b-895072158b4c",
   "metadata": {},
   "outputs": [
    {
     "data": {
      "text/plain": [
       "dict_keys(['LRAsm_Bakta_GFF', 'LRAsm_Bakta_GBFF', 'LRAsm_Bakta_FAA', 'LRAsm_Bakta_FFN', 'LRAsm_Bakta_FNA', 'LRAsm_Bakta_TXT', 'SRAsm_Bakta_GFF', 'SRAsm_Bakta_GBFF', 'SRAsm_Bakta_FAA', 'SRAsm_Bakta_FFN', 'SRAsm_Bakta_FNA', 'SRAsm_Bakta_TXT', 'LRAsm_PGAP_GFF', 'LRAsm_PGAP_FNA', 'LRAsm_PGAP_WiDNA_GFF', 'SRAsm_PGAP_GFF', 'SRAsm_PGAP_FNA', 'SRAsm_PGAP_WiDNA_GFF'])"
      ]
     },
     "execution_count": 24,
     "metadata": {},
     "output_type": "execute_result"
    }
   ],
   "source": [
    "SampleTag_ToPaths_Dict['N0153'].keys()"
   ]
  },
  {
   "cell_type": "code",
   "execution_count": null,
   "id": "135c4d1d-7a88-4fd0-8839-2c1ca1056756",
   "metadata": {},
   "outputs": [],
   "source": []
  },
  {
   "cell_type": "code",
   "execution_count": 25,
   "id": "2c580fc4-0e7f-44c5-86ee-7efd70d1553b",
   "metadata": {},
   "outputs": [
    {
     "data": {
      "text/plain": [
       "['N0072', 'N0153', 'TB3113']"
      ]
     },
     "execution_count": 25,
     "metadata": {},
     "output_type": "execute_result"
    }
   ],
   "source": [
    "WGA151CI_SampleIDs[:3]"
   ]
  },
  {
   "cell_type": "code",
   "execution_count": null,
   "id": "d6802b3e-9eff-418e-ace5-06571ecd30c3",
   "metadata": {},
   "outputs": [],
   "source": []
  },
  {
   "cell_type": "markdown",
   "id": "78d2d6c7-5f24-413a-91f9-f047ed503b7c",
   "metadata": {},
   "source": [
    "## Copying assembly (FASTA) and annotations (GBFF & GFF w/ genome seq)\n",
    "\n",
    "#### Output files generated for each SampleID\n",
    "- `{SampleID}.HybridAsm.PGAP.Genome.fasta`\n",
    "- `{SampleID}.HybridAsm.PGAP.WiGenome.gff`\n",
    "- `{SampleID}.SRAsm.PGAP.Genome.fasta`\n",
    "- `{SampleID}.SRAsm.PGAP.PGAP.WiGenome.gff`\n",
    "- `{SampleID}.HybridAsm.Bakta.Genome.fasta`\n",
    "- `{SampleID}.HybridAsm.Bakta.WiGenome.gff`\n",
    "- `{SampleID}.SRAsm.Bakta.Genome.fasta`\n",
    "- `{SampleID}.SRAsm.Bakta.PGAP.WiGenome.gff`\n",
    "\n"
   ]
  },
  {
   "cell_type": "code",
   "execution_count": 26,
   "id": "3c882dde-f5f7-4c33-971a-abc526793e0b",
   "metadata": {},
   "outputs": [
    {
     "name": "stderr",
     "output_type": "stream",
     "text": [
      "100%|██████████| 151/151 [03:24<00:00,  1.36s/it]\n"
     ]
    }
   ],
   "source": [
    "for i_SampleID in tqdm(WGA151CI_SampleIDs):\n",
    "\n",
    "    #print(i_SampleID)\n",
    "\n",
    "    i_Sample_LR_PGAP_GFF_PATH = SampleTag_ToPaths_Dict[i_SampleID][\"LRAsm_PGAP_WiDNA_GFF\"]\n",
    "    i_Sample_LR_PGAP_FA_PATH = SampleTag_ToPaths_Dict[i_SampleID][\"LRAsm_PGAP_FNA\"]\n",
    "\n",
    "    i_Sample_SR_PGAP_GFF_PATH = SampleTag_ToPaths_Dict[i_SampleID][\"SRAsm_PGAP_WiDNA_GFF\"]\n",
    "    i_Sample_SR_PGAP_FA_PATH = SampleTag_ToPaths_Dict[i_SampleID][\"SRAsm_PGAP_FNA\"]\n",
    "\n",
    "    i_Sample_LR_Bakta_GFF_PATH = SampleTag_ToPaths_Dict[i_SampleID][\"LRAsm_Bakta_GFF\"]\n",
    "    i_Sample_LR_Bakta_FA_PATH = SampleTag_ToPaths_Dict[i_SampleID][\"LRAsm_Bakta_FNA\"]\n",
    "    i_Sample_SR_Bakta_GFF_PATH = SampleTag_ToPaths_Dict[i_SampleID][\"SRAsm_Bakta_GFF\"]\n",
    "    i_Sample_SR_Bakta_FA_PATH = SampleTag_ToPaths_Dict[i_SampleID][\"SRAsm_Bakta_FNA\"]\n",
    "\n",
    "    \n",
    "    o_Sample_LR_PGAP_GFF_PATH = f\"{Mtb_151CI_Hybrid_PGAP_AsmDir}/{i_SampleID}.HybridAsm.PGAP.WiGenome.gff\"\n",
    "    o_Sample_LR_PGAP_FA_PATH  = f\"{Mtb_151CI_Hybrid_PGAP_AsmDir}/{i_SampleID}.HybridAsm.PGAP.Genome.fasta\"\n",
    "    \n",
    "    o_Sample_SR_PGAP_GFF_PATH = f\"{Mtb_151CI_SR_PGAP_AsmDir}/{i_SampleID}.SRAsm.PGAP.WiGenome.gff\"\n",
    "    o_Sample_SR_PGAP_FA_PATH  = f\"{Mtb_151CI_SR_PGAP_AsmDir}/{i_SampleID}.SRAsm.PGAP.Genome.fasta\"\n",
    "\n",
    "    o_Sample_LR_Bakta_GFF_PATH = f\"{Mtb_151CI_Hybrid_Bakta_AsmDir}/{i_SampleID}.HybridAsm.Bakta.WiGenome.gff\"\n",
    "    o_Sample_LR_Bakta_FA_PATH = f\"{Mtb_151CI_Hybrid_Bakta_AsmDir}/{i_SampleID}.HybridAsm.Bakta.Genome.fasta\"\n",
    "    \n",
    "    o_Sample_SR_Bakta_GFF_PATH = f\"{Mtb_151CI_SR_Bakta_AsmDir}/{i_SampleID}.SRAsm.Bakta.WiGenome.gff\"\n",
    "    o_Sample_SR_Bakta_FA_PATH = f\"{Mtb_151CI_SR_Bakta_AsmDir}/{i_SampleID}.SRAsm.Bakta.Genome.fasta\"\n",
    "\n",
    "    \n",
    "    # Copy PGAP Anno for Hybrid Asm\n",
    "    !cp $i_Sample_LR_PGAP_GFF_PATH $o_Sample_LR_PGAP_GFF_PATH\n",
    "    !cp $i_Sample_LR_PGAP_FA_PATH $o_Sample_LR_PGAP_FA_PATH\n",
    "\n",
    "    # Copy PGAP Anno for SR Asm\n",
    "    !cp $i_Sample_SR_PGAP_GFF_PATH $o_Sample_SR_PGAP_GFF_PATH\n",
    "    !cp $i_Sample_SR_PGAP_FA_PATH $o_Sample_SR_PGAP_FA_PATH\n",
    "\n",
    "    # Copy Bakta Anno for Hybrid Asm\n",
    "    !cp $i_Sample_LR_Bakta_GFF_PATH $o_Sample_LR_Bakta_GFF_PATH\n",
    "    !cp $i_Sample_LR_Bakta_FA_PATH $o_Sample_LR_Bakta_FA_PATH\n",
    " \n",
    "    # Copy Bakta Anno for SR Asm\n",
    "    !cp $i_Sample_SR_Bakta_GFF_PATH $o_Sample_SR_Bakta_GFF_PATH\n",
    "    !cp $i_Sample_SR_Bakta_FA_PATH $o_Sample_SR_Bakta_FA_PATH\n",
    "        \n",
    "    #break \n"
   ]
  },
  {
   "cell_type": "code",
   "execution_count": 27,
   "id": "54370fd0-6952-44e1-a9dc-100d50470a1a",
   "metadata": {},
   "outputs": [
    {
     "data": {
      "text/plain": [
       "'/n/data1/hms/dbmi/farhat/mm774/Projects/Mtb-WGA-SMK-Output/231121_MtbSetV3_151CI/AsmAnalysis/S0262-02/GenomeAnnotation/S0262-02_Asm_PGAP_V1/S0262-02.PGAP.Genome.fasta'"
      ]
     },
     "execution_count": 27,
     "metadata": {},
     "output_type": "execute_result"
    }
   ],
   "source": [
    "SampleTag_ToPaths_Dict[i_SampleID][\"LRAsm_PGAP_FNA\"]"
   ]
  },
  {
   "cell_type": "code",
   "execution_count": 28,
   "id": "2f7fd526-b34f-4efe-ad16-808be5d89d81",
   "metadata": {},
   "outputs": [],
   "source": [
    "#!ls -1 $Mtb_69CI_SelectedSet_AsmDir/"
   ]
  },
  {
   "cell_type": "markdown",
   "id": "123562e9-4647-4373-9ba8-b9a88a94347e",
   "metadata": {},
   "source": [
    "## Create tar.gz files of all directories containing genome sequences & annotations"
   ]
  },
  {
   "cell_type": "code",
   "execution_count": 36,
   "id": "0830326a-9132-4125-988f-b4111c710639",
   "metadata": {},
   "outputs": [],
   "source": [
    "DataOrg_Dir = \"/n/data1/hms/dbmi/farhat/mm774/Projects/240308.PGBenchmarking.DataOrg\""
   ]
  },
  {
   "cell_type": "code",
   "execution_count": 38,
   "id": "451c6191-cf1c-45d2-91ea-f58b95eaa5c2",
   "metadata": {},
   "outputs": [],
   "source": [
    "!cd $DataOrg_Dir && tar -czf Mtb.151CI.Hybrid.Bakta.Anno.tar.gz Mtb.151CI.Hybrid.Bakta.Anno/      \n"
   ]
  },
  {
   "cell_type": "code",
   "execution_count": 39,
   "id": "4b27717f-7118-4214-a15d-3b8ce7c5a8c0",
   "metadata": {},
   "outputs": [],
   "source": [
    "!cd $DataOrg_Dir && tar -czf Mtb.151CI.Hybrid.PGAP.Anno.tar.gz Mtb.151CI.Hybrid.PGAP.Anno/ \n"
   ]
  },
  {
   "cell_type": "code",
   "execution_count": 40,
   "id": "bdfbc3f0-4ab3-4a9c-9561-324835cc92b3",
   "metadata": {},
   "outputs": [],
   "source": [
    "!cd $DataOrg_Dir && tar -czf Mtb.151CI.SR.Bakta.Anno.tar.gz Mtb.151CI.SR.Bakta.Anno/ \n"
   ]
  },
  {
   "cell_type": "code",
   "execution_count": 41,
   "id": "db6b0ce0-0425-479d-bd25-2bc1b2f783d5",
   "metadata": {},
   "outputs": [],
   "source": [
    "!cd $DataOrg_Dir && tar -czf Mtb.151CI.SR.PGAP.Anno.tar.gz Mtb.151CI.SR.PGAP.Anno/ \n"
   ]
  },
  {
   "cell_type": "code",
   "execution_count": null,
   "id": "d0e05137-43a6-4232-8501-459de91530b0",
   "metadata": {},
   "outputs": [],
   "source": []
  },
  {
   "cell_type": "code",
   "execution_count": 49,
   "id": "07b7de65-ba8e-4827-8e5b-1a804cfc30f4",
   "metadata": {},
   "outputs": [
    {
     "name": "stdout",
     "output_type": "stream",
     "text": [
      "498M\t/n/data1/hms/dbmi/farhat/mm774/Projects/240308.PGBenchmarking.DataOrg/Mtb.151CI.Hybrid.Bakta.Anno.tar.gz\n"
     ]
    }
   ],
   "source": [
    "!du -sh $DataOrg_Dir/Mtb.151CI.Hybrid.Bakta.Anno.tar.gz"
   ]
  },
  {
   "cell_type": "code",
   "execution_count": 48,
   "id": "580bf28e-ab62-4006-8e9c-fb5e0decfacd",
   "metadata": {},
   "outputs": [
    {
     "name": "stdout",
     "output_type": "stream",
     "text": [
      "469M\t/n/data1/hms/dbmi/farhat/mm774/Projects/240308.PGBenchmarking.DataOrg/Mtb.151CI.Hybrid.PGAP.Anno.tar.gz\n"
     ]
    }
   ],
   "source": [
    "!du -sh $DataOrg_Dir/Mtb.151CI.Hybrid.PGAP.Anno.tar.gz"
   ]
  },
  {
   "cell_type": "code",
   "execution_count": 47,
   "id": "58c7ca41-0653-41d5-b938-37b121541e13",
   "metadata": {},
   "outputs": [
    {
     "name": "stdout",
     "output_type": "stream",
     "text": [
      "489M\t/n/data1/hms/dbmi/farhat/mm774/Projects/240308.PGBenchmarking.DataOrg/Mtb.151CI.SR.Bakta.Anno.tar.gz\n"
     ]
    }
   ],
   "source": [
    "!du -sh $DataOrg_Dir/Mtb.151CI.SR.Bakta.Anno.tar.gz"
   ]
  },
  {
   "cell_type": "code",
   "execution_count": 46,
   "id": "097a5e4b-fd3a-438f-971b-f35860f23c49",
   "metadata": {},
   "outputs": [
    {
     "name": "stdout",
     "output_type": "stream",
     "text": [
      "459M\t/n/data1/hms/dbmi/farhat/mm774/Projects/240308.PGBenchmarking.DataOrg/Mtb.151CI.SR.PGAP.Anno.tar.gz\n"
     ]
    }
   ],
   "source": [
    "!du -sh $DataOrg_Dir/Mtb.151CI.SR.PGAP.Anno.tar.gz"
   ]
  },
  {
   "cell_type": "code",
   "execution_count": null,
   "id": "26a1ff50-790b-43a0-a3cf-b59896bdf8fc",
   "metadata": {},
   "outputs": [],
   "source": []
  },
  {
   "cell_type": "code",
   "execution_count": null,
   "id": "c3d77456-ff82-49d1-ad59-bb9e146cb2d5",
   "metadata": {},
   "outputs": [],
   "source": [
    "Mtb.151CI.Hybrid.Bakta.Anno\n",
    "Mtb.151CI.Hybrid.PGAP.Anno\n",
    "Mtb.151CI.SR.Bakta.Anno\n",
    "Mtb.151CI.SR.PGAP.Anno"
   ]
  },
  {
   "cell_type": "code",
   "execution_count": null,
   "id": "2220d70b-0000-4aa2-8570-b35077f5dc17",
   "metadata": {},
   "outputs": [],
   "source": []
  },
  {
   "cell_type": "code",
   "execution_count": null,
   "id": "4b2a91e9-f71e-40e7-82fd-b763a107dfd5",
   "metadata": {},
   "outputs": [],
   "source": []
  },
  {
   "cell_type": "code",
   "execution_count": 29,
   "id": "18adf195-c21e-42e4-b3ec-b88b6f17adfd",
   "metadata": {},
   "outputs": [
    {
     "name": "stdout",
     "output_type": "stream",
     "text": [
      "01_R1134.HybridAsm.PGAP.Genome.fasta\n",
      "01_R1134.HybridAsm.PGAP.WiGenome.gff\n",
      "01_R1430.HybridAsm.PGAP.Genome.fasta\n",
      "01_R1430.HybridAsm.PGAP.WiGenome.gff\n",
      "02_R0894.HybridAsm.PGAP.Genome.fasta\n",
      "02_R0894.HybridAsm.PGAP.WiGenome.gff\n",
      "02_R1179.HybridAsm.PGAP.Genome.fasta\n",
      "02_R1179.HybridAsm.PGAP.WiGenome.gff\n",
      "02_R1708.HybridAsm.PGAP.Genome.fasta\n",
      "02_R1708.HybridAsm.PGAP.WiGenome.gff\n",
      "02_R1896.HybridAsm.PGAP.Genome.fasta\n",
      "02_R1896.HybridAsm.PGAP.WiGenome.gff\n",
      "18_0621851.HybridAsm.PGAP.Genome.fasta\n",
      "18_0621851.HybridAsm.PGAP.WiGenome.gff\n",
      "3003-06.HybridAsm.PGAP.Genome.fasta\n",
      "3003-06.HybridAsm.PGAP.WiGenome.gff\n",
      "4549-04.HybridAsm.PGAP.Genome.fasta\n",
      "4549-04.HybridAsm.PGAP.WiGenome.gff\n",
      "696-05.HybridAsm.PGAP.Genome.fasta\n",
      "696-05.HybridAsm.PGAP.WiGenome.gff\n",
      "702-06.HybridAsm.PGAP.Genome.fasta\n",
      "702-06.HybridAsm.PGAP.WiGenome.gff\n",
      "706-05.HybridAsm.PGAP.Genome.fasta\n",
      "706-05.HybridAsm.PGAP.WiGenome.gff\n",
      "8129-04.HybridAsm.PGAP.Genome.fasta\n",
      "8129-04.HybridAsm.PGAP.WiGenome.gff\n",
      "8651-04.HybridAsm.PGAP.Genome.fasta\n",
      "8651-04.HybridAsm.PGAP.WiGenome.gff\n",
      "9050-05.HybridAsm.PGAP.Genome.fasta\n",
      "9050-05.HybridAsm.PGAP.WiGenome.gff\n",
      "M0003941_3.HybridAsm.PGAP.Genome.fasta\n",
      "M0003941_3.HybridAsm.PGAP.WiGenome.gff\n",
      "M0010874_7.HybridAsm.PGAP.Genome.fasta\n",
      "M0010874_7.HybridAsm.PGAP.WiGenome.gff\n",
      "M0011368_9.HybridAsm.PGAP.Genome.fasta\n",
      "M0011368_9.HybridAsm.PGAP.WiGenome.gff\n",
      "M0014888_3.HybridAsm.PGAP.Genome.fasta\n",
      "M0014888_3.HybridAsm.PGAP.WiGenome.gff\n",
      "M0016395_7.HybridAsm.PGAP.Genome.fasta\n",
      "M0016395_7.HybridAsm.PGAP.WiGenome.gff\n",
      "M0016737_0.HybridAsm.PGAP.Genome.fasta\n",
      "M0016737_0.HybridAsm.PGAP.WiGenome.gff\n",
      "M0017522_5.HybridAsm.PGAP.Genome.fasta\n",
      "M0017522_5.HybridAsm.PGAP.WiGenome.gff\n",
      "mada_102.HybridAsm.PGAP.Genome.fasta\n",
      "mada_102.HybridAsm.PGAP.WiGenome.gff\n",
      "mada_103.HybridAsm.PGAP.Genome.fasta\n",
      "mada_103.HybridAsm.PGAP.WiGenome.gff\n",
      "mada_105.HybridAsm.PGAP.Genome.fasta\n",
      "mada_105.HybridAsm.PGAP.WiGenome.gff\n",
      "mada_107.HybridAsm.PGAP.Genome.fasta\n",
      "mada_107.HybridAsm.PGAP.WiGenome.gff\n",
      "mada_1-10.HybridAsm.PGAP.Genome.fasta\n",
      "mada_1-10.HybridAsm.PGAP.WiGenome.gff\n",
      "mada_1-11.HybridAsm.PGAP.Genome.fasta\n",
      "mada_1-11.HybridAsm.PGAP.WiGenome.gff\n",
      "mada_1-12.HybridAsm.PGAP.Genome.fasta\n",
      "mada_112.HybridAsm.PGAP.Genome.fasta\n",
      "mada_1-12.HybridAsm.PGAP.WiGenome.gff\n",
      "mada_112.HybridAsm.PGAP.WiGenome.gff\n",
      "mada_1-15.HybridAsm.PGAP.Genome.fasta\n",
      "mada_115.HybridAsm.PGAP.Genome.fasta\n",
      "mada_1-15.HybridAsm.PGAP.WiGenome.gff\n",
      "mada_115.HybridAsm.PGAP.WiGenome.gff\n",
      "mada_117.HybridAsm.PGAP.Genome.fasta\n",
      "mada_117.HybridAsm.PGAP.WiGenome.gff\n",
      "mada_118.HybridAsm.PGAP.Genome.fasta\n",
      "mada_118.HybridAsm.PGAP.WiGenome.gff\n",
      "mada_1-1.HybridAsm.PGAP.Genome.fasta\n",
      "mada_1-1.HybridAsm.PGAP.WiGenome.gff\n",
      "mada_120.HybridAsm.PGAP.Genome.fasta\n",
      "mada_120.HybridAsm.PGAP.WiGenome.gff\n",
      "mada_122.HybridAsm.PGAP.Genome.fasta\n",
      "mada_122.HybridAsm.PGAP.WiGenome.gff\n",
      "mada_123.HybridAsm.PGAP.Genome.fasta\n",
      "mada_123.HybridAsm.PGAP.WiGenome.gff\n",
      "mada_124.HybridAsm.PGAP.Genome.fasta\n",
      "mada_124.HybridAsm.PGAP.WiGenome.gff\n",
      "mada_126.HybridAsm.PGAP.Genome.fasta\n",
      "mada_126.HybridAsm.PGAP.WiGenome.gff\n",
      "mada_128.HybridAsm.PGAP.Genome.fasta\n",
      "mada_128.HybridAsm.PGAP.WiGenome.gff\n",
      "mada_129.HybridAsm.PGAP.Genome.fasta\n",
      "mada_129.HybridAsm.PGAP.WiGenome.gff\n",
      "mada_1-30.HybridAsm.PGAP.Genome.fasta\n",
      "mada_1-30.HybridAsm.PGAP.WiGenome.gff\n",
      "mada_1-32.HybridAsm.PGAP.Genome.fasta\n",
      "mada_1-32.HybridAsm.PGAP.WiGenome.gff\n",
      "mada_1-36.HybridAsm.PGAP.Genome.fasta\n",
      "mada_1-36.HybridAsm.PGAP.WiGenome.gff\n",
      "mada_1-38.HybridAsm.PGAP.Genome.fasta\n",
      "mada_1-38.HybridAsm.PGAP.WiGenome.gff\n",
      "mada_1-39.HybridAsm.PGAP.Genome.fasta\n",
      "mada_139.HybridAsm.PGAP.Genome.fasta\n",
      "mada_1-39.HybridAsm.PGAP.WiGenome.gff\n",
      "mada_139.HybridAsm.PGAP.WiGenome.gff\n",
      "mada_1-41.HybridAsm.PGAP.Genome.fasta\n",
      "mada_1-41.HybridAsm.PGAP.WiGenome.gff\n",
      "mada_1-44.HybridAsm.PGAP.Genome.fasta\n",
      "mada_1-44.HybridAsm.PGAP.WiGenome.gff\n",
      "mada_1-50.HybridAsm.PGAP.Genome.fasta\n",
      "mada_1-50.HybridAsm.PGAP.WiGenome.gff\n",
      "mada_1-51.HybridAsm.PGAP.Genome.fasta\n",
      "mada_151.HybridAsm.PGAP.Genome.fasta\n",
      "mada_1-51.HybridAsm.PGAP.WiGenome.gff\n",
      "mada_151.HybridAsm.PGAP.WiGenome.gff\n",
      "mada_1-53.HybridAsm.PGAP.Genome.fasta\n",
      "mada_1-53.HybridAsm.PGAP.WiGenome.gff\n",
      "mada_2-1.HybridAsm.PGAP.Genome.fasta\n",
      "mada_2-1.HybridAsm.PGAP.WiGenome.gff\n",
      "mada_2-25.HybridAsm.PGAP.Genome.fasta\n",
      "mada_2-25.HybridAsm.PGAP.WiGenome.gff\n",
      "mada_2-31.HybridAsm.PGAP.Genome.fasta\n",
      "mada_2-31.HybridAsm.PGAP.WiGenome.gff\n",
      "mada_2-42.HybridAsm.PGAP.Genome.fasta\n",
      "mada_2-42.HybridAsm.PGAP.WiGenome.gff\n",
      "mada_2-46.HybridAsm.PGAP.Genome.fasta\n",
      "mada_2-46.HybridAsm.PGAP.WiGenome.gff\n",
      "mada_2-53.HybridAsm.PGAP.Genome.fasta\n",
      "mada_2-53.HybridAsm.PGAP.WiGenome.gff\n",
      "MT_0080.HybridAsm.PGAP.Genome.fasta\n",
      "MT_0080.HybridAsm.PGAP.WiGenome.gff\n",
      "N0004.HybridAsm.PGAP.Genome.fasta\n",
      "N0004.HybridAsm.PGAP.WiGenome.gff\n",
      "N0054.HybridAsm.PGAP.Genome.fasta\n",
      "N0054.HybridAsm.PGAP.WiGenome.gff\n",
      "N0072.HybridAsm.PGAP.Genome.fasta\n",
      "N0072.HybridAsm.PGAP.WiGenome.gff\n",
      "N0091.HybridAsm.PGAP.Genome.fasta\n",
      "N0091.HybridAsm.PGAP.WiGenome.gff\n",
      "N0145.HybridAsm.PGAP.Genome.fasta\n",
      "N0145.HybridAsm.PGAP.WiGenome.gff\n",
      "N0153.HybridAsm.PGAP.Genome.fasta\n",
      "N0153.HybridAsm.PGAP.WiGenome.gff\n",
      "N0155.HybridAsm.PGAP.Genome.fasta\n",
      "N0155.HybridAsm.PGAP.WiGenome.gff\n",
      "N1176.HybridAsm.PGAP.Genome.fasta\n",
      "N1176.HybridAsm.PGAP.WiGenome.gff\n",
      "N1177.HybridAsm.PGAP.Genome.fasta\n",
      "N1177.HybridAsm.PGAP.WiGenome.gff\n",
      "N1202.HybridAsm.PGAP.Genome.fasta\n",
      "N1202.HybridAsm.PGAP.WiGenome.gff\n",
      "N1272.HybridAsm.PGAP.Genome.fasta\n",
      "N1272.HybridAsm.PGAP.WiGenome.gff\n",
      "N1274.HybridAsm.PGAP.Genome.fasta\n",
      "N1274.HybridAsm.PGAP.WiGenome.gff\n",
      "QC-10.HybridAsm.PGAP.Genome.fasta\n",
      "QC-10.HybridAsm.PGAP.WiGenome.gff\n",
      "QC-1.HybridAsm.PGAP.Genome.fasta\n",
      "QC-1.HybridAsm.PGAP.WiGenome.gff\n",
      "QC-3.HybridAsm.PGAP.Genome.fasta\n",
      "QC-3.HybridAsm.PGAP.WiGenome.gff\n",
      "QC-4.HybridAsm.PGAP.Genome.fasta\n",
      "QC-4.HybridAsm.PGAP.WiGenome.gff\n",
      "QC-5.HybridAsm.PGAP.Genome.fasta\n",
      "QC-5.HybridAsm.PGAP.WiGenome.gff\n",
      "QC-6.HybridAsm.PGAP.Genome.fasta\n",
      "QC-6.HybridAsm.PGAP.WiGenome.gff\n",
      "QC-7.HybridAsm.PGAP.Genome.fasta\n",
      "QC-7.HybridAsm.PGAP.WiGenome.gff\n",
      "QC-8.HybridAsm.PGAP.Genome.fasta\n",
      "QC-8.HybridAsm.PGAP.WiGenome.gff\n",
      "QC-9.HybridAsm.PGAP.Genome.fasta\n",
      "QC-9.HybridAsm.PGAP.WiGenome.gff\n",
      "R15311.HybridAsm.PGAP.Genome.fasta\n",
      "R15311.HybridAsm.PGAP.WiGenome.gff\n",
      "R18040.HybridAsm.PGAP.Genome.fasta\n",
      "R18040.HybridAsm.PGAP.WiGenome.gff\n",
      "R18043.HybridAsm.PGAP.Genome.fasta\n",
      "R18043.HybridAsm.PGAP.WiGenome.gff\n",
      "R20260.HybridAsm.PGAP.Genome.fasta\n",
      "R20260.HybridAsm.PGAP.WiGenome.gff\n",
      "R20574.HybridAsm.PGAP.Genome.fasta\n",
      "R20574.HybridAsm.PGAP.WiGenome.gff\n",
      "R20896.HybridAsm.PGAP.Genome.fasta\n",
      "R20896.HybridAsm.PGAP.WiGenome.gff\n",
      "R21363.HybridAsm.PGAP.Genome.fasta\n",
      "R21363.HybridAsm.PGAP.WiGenome.gff\n",
      "R21408.HybridAsm.PGAP.Genome.fasta\n",
      "R21408.HybridAsm.PGAP.WiGenome.gff\n",
      "R21770.HybridAsm.PGAP.Genome.fasta\n",
      "R21770.HybridAsm.PGAP.WiGenome.gff\n",
      "R21839.HybridAsm.PGAP.Genome.fasta\n",
      "R21839.HybridAsm.PGAP.WiGenome.gff\n",
      "R21893.HybridAsm.PGAP.Genome.fasta\n",
      "R21893.HybridAsm.PGAP.WiGenome.gff\n",
      "R22601.HybridAsm.PGAP.Genome.fasta\n",
      "R22601.HybridAsm.PGAP.WiGenome.gff\n",
      "R23146.HybridAsm.PGAP.Genome.fasta\n",
      "R23146.HybridAsm.PGAP.WiGenome.gff\n",
      "R23571.HybridAsm.PGAP.Genome.fasta\n",
      "R23571.HybridAsm.PGAP.WiGenome.gff\n",
      "R23887.HybridAsm.PGAP.Genome.fasta\n",
      "R23887.HybridAsm.PGAP.WiGenome.gff\n",
      "R24100.HybridAsm.PGAP.Genome.fasta\n",
      "R24100.HybridAsm.PGAP.WiGenome.gff\n",
      "R24120.HybridAsm.PGAP.Genome.fasta\n",
      "R24120.HybridAsm.PGAP.WiGenome.gff\n",
      "R25048.HybridAsm.PGAP.Genome.fasta\n",
      "R25048.HybridAsm.PGAP.WiGenome.gff\n",
      "R26778.HybridAsm.PGAP.Genome.fasta\n",
      "R26778.HybridAsm.PGAP.WiGenome.gff\n",
      "R26791.HybridAsm.PGAP.Genome.fasta\n",
      "R26791.HybridAsm.PGAP.WiGenome.gff\n",
      "R27252.HybridAsm.PGAP.Genome.fasta\n",
      "R27252.HybridAsm.PGAP.WiGenome.gff\n",
      "R27657.HybridAsm.PGAP.Genome.fasta\n",
      "R27657.HybridAsm.PGAP.WiGenome.gff\n",
      "R27725.HybridAsm.PGAP.Genome.fasta\n",
      "R27725.HybridAsm.PGAP.WiGenome.gff\n",
      "R27937.HybridAsm.PGAP.Genome.fasta\n",
      "R27937.HybridAsm.PGAP.WiGenome.gff\n",
      "R28012.HybridAsm.PGAP.Genome.fasta\n",
      "R28012.HybridAsm.PGAP.WiGenome.gff\n",
      "R28581.HybridAsm.PGAP.Genome.fasta\n",
      "R28581.HybridAsm.PGAP.WiGenome.gff\n",
      "R28703.HybridAsm.PGAP.Genome.fasta\n",
      "R28703.HybridAsm.PGAP.WiGenome.gff\n",
      "R28980.HybridAsm.PGAP.Genome.fasta\n",
      "R28980.HybridAsm.PGAP.WiGenome.gff\n",
      "R29598.HybridAsm.PGAP.Genome.fasta\n",
      "R29598.HybridAsm.PGAP.WiGenome.gff\n",
      "R29816.HybridAsm.PGAP.Genome.fasta\n",
      "R29816.HybridAsm.PGAP.WiGenome.gff\n",
      "R30078.HybridAsm.PGAP.Genome.fasta\n",
      "R30078.HybridAsm.PGAP.WiGenome.gff\n",
      "R30215.HybridAsm.PGAP.Genome.fasta\n",
      "R30215.HybridAsm.PGAP.WiGenome.gff\n",
      "R30234.HybridAsm.PGAP.Genome.fasta\n",
      "R30234.HybridAsm.PGAP.WiGenome.gff\n",
      "R30396.HybridAsm.PGAP.Genome.fasta\n",
      "R30396.HybridAsm.PGAP.WiGenome.gff\n",
      "R30420.HybridAsm.PGAP.Genome.fasta\n",
      "R30420.HybridAsm.PGAP.WiGenome.gff\n",
      "R31095.HybridAsm.PGAP.Genome.fasta\n",
      "R31095.HybridAsm.PGAP.WiGenome.gff\n",
      "R32929.HybridAsm.PGAP.Genome.fasta\n",
      "R32929.HybridAsm.PGAP.WiGenome.gff\n",
      "R36431.HybridAsm.PGAP.Genome.fasta\n",
      "R36431.HybridAsm.PGAP.WiGenome.gff\n",
      "R37765.HybridAsm.PGAP.Genome.fasta\n",
      "R37765.HybridAsm.PGAP.WiGenome.gff\n",
      "RW-TB008.HybridAsm.PGAP.Genome.fasta\n",
      "RW-TB008.HybridAsm.PGAP.WiGenome.gff\n",
      "S0070-08.HybridAsm.PGAP.Genome.fasta\n",
      "S0070-08.HybridAsm.PGAP.WiGenome.gff\n",
      "S0085-01.HybridAsm.PGAP.Genome.fasta\n",
      "S0085-01.HybridAsm.PGAP.WiGenome.gff\n",
      "S0089-01.HybridAsm.PGAP.Genome.fasta\n",
      "S0089-01.HybridAsm.PGAP.WiGenome.gff\n",
      "S0106-01.HybridAsm.PGAP.Genome.fasta\n",
      "S0106-01.HybridAsm.PGAP.WiGenome.gff\n",
      "S0107-01.HybridAsm.PGAP.Genome.fasta\n",
      "S0107-01.HybridAsm.PGAP.WiGenome.gff\n",
      "S0123-01.HybridAsm.PGAP.Genome.fasta\n",
      "S0123-01.HybridAsm.PGAP.WiGenome.gff\n",
      "S0256-08.HybridAsm.PGAP.Genome.fasta\n",
      "S0256-08.HybridAsm.PGAP.WiGenome.gff\n",
      "S0262-02.HybridAsm.PGAP.Genome.fasta\n",
      "S0262-02.HybridAsm.PGAP.WiGenome.gff\n",
      "TB1236.HybridAsm.PGAP.Genome.fasta\n",
      "TB1236.HybridAsm.PGAP.WiGenome.gff\n",
      "TB1612.HybridAsm.PGAP.Genome.fasta\n",
      "TB1612.HybridAsm.PGAP.WiGenome.gff\n",
      "TB2512.HybridAsm.PGAP.Genome.fasta\n",
      "TB2512.HybridAsm.PGAP.WiGenome.gff\n",
      "TB2659.HybridAsm.PGAP.Genome.fasta\n",
      "TB2659.HybridAsm.PGAP.WiGenome.gff\n",
      "TB2661.HybridAsm.PGAP.Genome.fasta\n",
      "TB2661.HybridAsm.PGAP.WiGenome.gff\n",
      "TB2780.HybridAsm.PGAP.Genome.fasta\n",
      "TB2780.HybridAsm.PGAP.WiGenome.gff\n",
      "TB2968.HybridAsm.PGAP.Genome.fasta\n",
      "TB2968.HybridAsm.PGAP.WiGenome.gff\n",
      "TB2981.HybridAsm.PGAP.Genome.fasta\n",
      "TB2981.HybridAsm.PGAP.WiGenome.gff\n",
      "TB2995.HybridAsm.PGAP.Genome.fasta\n",
      "TB2995.HybridAsm.PGAP.WiGenome.gff\n",
      "TB3054.HybridAsm.PGAP.Genome.fasta\n",
      "TB3054.HybridAsm.PGAP.WiGenome.gff\n",
      "TB3091.HybridAsm.PGAP.Genome.fasta\n",
      "TB3091.HybridAsm.PGAP.WiGenome.gff\n",
      "TB3113.HybridAsm.PGAP.Genome.fasta\n",
      "TB3113.HybridAsm.PGAP.WiGenome.gff\n",
      "TB3162.HybridAsm.PGAP.Genome.fasta\n",
      "TB3162.HybridAsm.PGAP.WiGenome.gff\n",
      "TB3169.HybridAsm.PGAP.Genome.fasta\n",
      "TB3169.HybridAsm.PGAP.WiGenome.gff\n",
      "TB3237.HybridAsm.PGAP.Genome.fasta\n",
      "TB3237.HybridAsm.PGAP.WiGenome.gff\n",
      "TB3251.HybridAsm.PGAP.Genome.fasta\n",
      "TB3251.HybridAsm.PGAP.WiGenome.gff\n",
      "TB3334.HybridAsm.PGAP.Genome.fasta\n",
      "TB3334.HybridAsm.PGAP.WiGenome.gff\n",
      "TB3368.HybridAsm.PGAP.Genome.fasta\n",
      "TB3368.HybridAsm.PGAP.WiGenome.gff\n",
      "TB3386.HybridAsm.PGAP.Genome.fasta\n",
      "TB3386.HybridAsm.PGAP.WiGenome.gff\n",
      "TB3396.HybridAsm.PGAP.Genome.fasta\n",
      "TB3396.HybridAsm.PGAP.WiGenome.gff\n",
      "TB4620.HybridAsm.PGAP.Genome.fasta\n",
      "TB4620.HybridAsm.PGAP.WiGenome.gff\n"
     ]
    }
   ],
   "source": [
    "!ls -1 $Mtb_151CI_Hybrid_PGAP_AsmDir"
   ]
  },
  {
   "cell_type": "code",
   "execution_count": 30,
   "id": "8332e965-e9a5-41d7-b02a-1cd0b9c29f32",
   "metadata": {},
   "outputs": [],
   "source": [
    "#!ls -1 $Mtb_151CI_SR_PGAP_AsmDir"
   ]
  },
  {
   "cell_type": "code",
   "execution_count": 31,
   "id": "5a596b1a-515a-41f0-991a-4583ade63c6a",
   "metadata": {},
   "outputs": [],
   "source": [
    "#!ls -1 $Mtb_151CI_Hybrid_Bakta_AsmDir"
   ]
  },
  {
   "cell_type": "code",
   "execution_count": 32,
   "id": "e7e54dbb-19c6-4e64-b678-c237367701d0",
   "metadata": {},
   "outputs": [],
   "source": [
    "#!ls -1 $Mtb_151CI_SR_Bakta_AsmDir"
   ]
  },
  {
   "cell_type": "code",
   "execution_count": null,
   "id": "dac080e2-e381-43f8-83fc-65440e50d691",
   "metadata": {},
   "outputs": [],
   "source": []
  },
  {
   "cell_type": "code",
   "execution_count": null,
   "id": "6d0370ee-b2ac-4877-bcd4-1dc64832a17f",
   "metadata": {},
   "outputs": [],
   "source": []
  },
  {
   "cell_type": "code",
   "execution_count": null,
   "id": "28a18049-0d96-4972-901b-3385ae2eb502",
   "metadata": {},
   "outputs": [],
   "source": []
  },
  {
   "cell_type": "code",
   "execution_count": null,
   "id": "6abba6b7-d5f7-4fb9-bb65-3dce8d8aa33a",
   "metadata": {},
   "outputs": [],
   "source": []
  },
  {
   "cell_type": "code",
   "execution_count": null,
   "id": "1632b025-f5e5-41cf-8a73-87a8aeaabffa",
   "metadata": {},
   "outputs": [],
   "source": []
  },
  {
   "cell_type": "code",
   "execution_count": null,
   "id": "55d78025-d187-47c8-9df9-df8f42d0afb0",
   "metadata": {},
   "outputs": [],
   "source": []
  },
  {
   "cell_type": "code",
   "execution_count": null,
   "id": "dd3ba2e1-12a4-43bb-997c-3b4e5ee1ead7",
   "metadata": {},
   "outputs": [],
   "source": []
  },
  {
   "cell_type": "code",
   "execution_count": null,
   "id": "13b70d21-0a03-4b02-a04a-f064d825a9aa",
   "metadata": {},
   "outputs": [],
   "source": []
  }
 ],
 "metadata": {
  "kernelspec": {
   "display_name": "py37_S",
   "language": "python",
   "name": "py37_s"
  },
  "language_info": {
   "codemirror_mode": {
    "name": "ipython",
    "version": 3
   },
   "file_extension": ".py",
   "mimetype": "text/x-python",
   "name": "python",
   "nbconvert_exporter": "python",
   "pygments_lexer": "ipython3",
   "version": "3.7.3"
  }
 },
 "nbformat": 4,
 "nbformat_minor": 5
}
