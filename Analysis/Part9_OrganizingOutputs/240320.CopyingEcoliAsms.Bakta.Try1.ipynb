{
 "cells": [
  {
   "cell_type": "markdown",
   "id": "5b192768-e435-4183-b5ad-8e9ccd6adf30",
   "metadata": {},
   "source": [
    "# Organizing annotated genome assemblies (Ecoli-50I)\n",
    "\n",
    "### Maximillian Marin (maximillian_marin@hms.harvard.edu)\n"
   ]
  },
  {
   "cell_type": "code",
   "execution_count": null,
   "id": "975d28ff-69c3-46dd-a2fc-3708ed276cfa",
   "metadata": {},
   "outputs": [],
   "source": []
  },
  {
   "cell_type": "markdown",
   "id": "534e7a49-d942-43d5-b3a4-bb9a6ce96124",
   "metadata": {
    "toc-hr-collapsed": true
   },
   "source": [
    "### Import Statements"
   ]
  },
  {
   "cell_type": "code",
   "execution_count": 165,
   "id": "337d2056-6bf3-4851-acc2-a70d25a021ee",
   "metadata": {},
   "outputs": [],
   "source": [
    "import numpy as np\n",
    "import pandas as pd\n",
    "\n",
    "from tqdm import tqdm\n",
    "import matplotlib.pyplot as plt\n",
    "import seaborn as sns\n",
    "import json\n",
    "%matplotlib inline"
   ]
  },
  {
   "cell_type": "code",
   "execution_count": null,
   "id": "f7112c19-c34b-4b46-9ddb-94ff9d48b164",
   "metadata": {},
   "outputs": [],
   "source": []
  },
  {
   "cell_type": "code",
   "execution_count": null,
   "id": "3543e6cd-6d49-4857-8ee3-acd14485f989",
   "metadata": {},
   "outputs": [],
   "source": []
  },
  {
   "cell_type": "markdown",
   "id": "1e4bf07d-7878-457f-b860-663efe7837bf",
   "metadata": {},
   "source": [
    "### Set matplotlib text export settings for Adobe Illustrator"
   ]
  },
  {
   "cell_type": "code",
   "execution_count": 166,
   "id": "6a881aa5-b7b8-4f2e-877a-177f6d76ce92",
   "metadata": {},
   "outputs": [],
   "source": [
    "import matplotlib\n",
    "matplotlib.rcParams['pdf.fonttype'] = 42\n",
    "matplotlib.rcParams['ps.fonttype'] = 42"
   ]
  },
  {
   "cell_type": "markdown",
   "id": "816d9de7-2f7c-4342-a68b-cddda895d6cd",
   "metadata": {},
   "source": [
    "#### Pandas Viewing Settings"
   ]
  },
  {
   "cell_type": "code",
   "execution_count": 167,
   "id": "bf9a48f9-d344-4375-90bf-994341694ecb",
   "metadata": {},
   "outputs": [],
   "source": [
    "pd.set_option('display.max_rows', 500)\n",
    "pd.set_option('display.max_columns', 500)\n",
    "pd.set_option('display.width', 1000)"
   ]
  },
  {
   "cell_type": "code",
   "execution_count": 168,
   "id": "13d5704e-45b0-4a0e-bbea-42946cce1fb8",
   "metadata": {},
   "outputs": [],
   "source": [
    "plt.style.use('../nqo.mplstyle')"
   ]
  },
  {
   "cell_type": "code",
   "execution_count": null,
   "id": "68e27a82-c840-458b-9a29-84f439cf2738",
   "metadata": {},
   "outputs": [],
   "source": []
  },
  {
   "cell_type": "markdown",
   "id": "2e1331ae-1e54-4637-97cb-52f118036cc0",
   "metadata": {},
   "source": [
    "## Define paths to sample metadata files"
   ]
  },
  {
   "cell_type": "code",
   "execution_count": 169,
   "id": "19e98729-1fec-4ec0-b0b7-c9701ec540ed",
   "metadata": {},
   "outputs": [],
   "source": [
    "\n",
    "Proj_MainDir = \"/n/data1/hms/dbmi/farhat/mm774/Projects\"\n",
    "\n",
    "Ecoli_PG_MainDir = f\"{Proj_MainDir}/230905_Ecoli_PG_Analysis\"  \n",
    "\n",
    "Data_MainDir = f\"{Ecoli_PG_MainDir}/Data\"  \n",
    "\n",
    "Shaw2021_50Asm_Dir = f\"{Data_MainDir}/Shaw2021.50Genomes.Data/data\"\n",
    "\n",
    "Shaw2021_Meta_TSV = f\"{Data_MainDir}/Shaw2021.SelectedIsolates.50I.tsv\"  \n",
    "\n",
    "input_FA_PATH_TSVs_Dir = f\"{Ecoli_PG_MainDir}/input_PATH_SMK_TSVs\"\n",
    "\n",
    "Ecoli_Meta_Dir = f\"../../Data/230905_Ecoli_50CI_Metadata_Shaw2021\"  \n",
    "\n",
    "Shaw2021_Ecoli_50Asm_Meta_TSV = f\"{Ecoli_Meta_Dir}/231011.Shaw2021.Ecoli.50I.MetaData.tsv\"\n"
   ]
  },
  {
   "cell_type": "markdown",
   "id": "2deb7f5f-7cc4-4cd0-8eb5-ee909625fac9",
   "metadata": {},
   "source": [
    "## Parse in metadata DFs"
   ]
  },
  {
   "cell_type": "code",
   "execution_count": 170,
   "id": "928852d6-13ad-41a7-bf2d-da53c6072a44",
   "metadata": {},
   "outputs": [],
   "source": [
    "Shaw_50A_Info_DF = pd.read_csv(Shaw2021_Ecoli_50Asm_Meta_TSV, sep = \"\\t\")\n",
    "E50I_SampleIDs = Shaw_50A_Info_DF[\"SampleID\"].values   "
   ]
  },
  {
   "cell_type": "code",
   "execution_count": 171,
   "id": "72246f02-a9c7-4beb-902e-d11a5fe4d755",
   "metadata": {},
   "outputs": [
    {
     "data": {
      "text/plain": [
       "(50, 24)"
      ]
     },
     "execution_count": 171,
     "metadata": {},
     "output_type": "execute_result"
    }
   ],
   "source": [
    "Shaw_50A_Info_DF.shape"
   ]
  },
  {
   "cell_type": "markdown",
   "id": "b843ab60-ae27-45a3-ab90-e01eb9b004aa",
   "metadata": {},
   "source": [
    "### Create lineage mapping for sampleIDs"
   ]
  },
  {
   "cell_type": "code",
   "execution_count": 172,
   "id": "139ba98a-93ac-4206-95bb-12aef8813345",
   "metadata": {},
   "outputs": [],
   "source": [
    "ID_To_Lineage_Dict = dict(Shaw_50A_Info_DF[['SampleID', 'Phylogroup (E. coli only)']].values)\n"
   ]
  },
  {
   "cell_type": "code",
   "execution_count": 173,
   "id": "191cc1c1-d1ab-44b8-8c67-7a7ba7877203",
   "metadata": {},
   "outputs": [
    {
     "data": {
      "text/plain": [
       "Index(['A', 'B1', 'B2', 'C', 'D', 'E', 'F', 'G', 'cladeV'], dtype='object')"
      ]
     },
     "execution_count": 173,
     "metadata": {},
     "output_type": "execute_result"
    }
   ],
   "source": [
    "Shaw_50A_Info_DF[\"Phylogroup (E. coli only)\"].value_counts().index.sort_values()"
   ]
  },
  {
   "cell_type": "code",
   "execution_count": null,
   "id": "7acf41ac-c948-4e4c-8ba9-b74eeaf82c4c",
   "metadata": {},
   "outputs": [],
   "source": []
  },
  {
   "cell_type": "code",
   "execution_count": null,
   "id": "bd188b17-353c-40ac-9522-9b7430724b5a",
   "metadata": {},
   "outputs": [],
   "source": []
  },
  {
   "cell_type": "code",
   "execution_count": null,
   "id": "6c36e7a8-2ab0-489b-9543-f9a3c71d0d54",
   "metadata": {},
   "outputs": [],
   "source": []
  },
  {
   "cell_type": "markdown",
   "id": "e7a1f86a-2e81-4ea9-9bfc-c29c1c354fc6",
   "metadata": {},
   "source": [
    "# Define output dir of the Mtb-WGA-SMK processing pipeline"
   ]
  },
  {
   "cell_type": "code",
   "execution_count": 174,
   "id": "1f8127bf-42b3-4627-b050-62c5bc35f54a",
   "metadata": {},
   "outputs": [
    {
     "name": "stdout",
     "output_type": "stream",
     "text": [
      "Data\n",
      "input_PATH_SMK_TSVs\n",
      "SMK_OutDirs\n"
     ]
    }
   ],
   "source": [
    "!ls -1 $Ecoli_PG_MainDir/"
   ]
  },
  {
   "cell_type": "code",
   "execution_count": 175,
   "id": "b7e06515-fac7-48d9-a1d6-54faf0df3eba",
   "metadata": {},
   "outputs": [],
   "source": [
    "# Define varaint calling pipeline output directories\n",
    "\n",
    "WGA_SMK_Outputs_Dir = f\"{Ecoli_PG_MainDir}/SMK_OutDirs\"\n",
    "\n",
    "PG_Ecoli_50I_OutDir = WGA_SMK_Outputs_Dir + \"/231011_Ecoli_Shaw2021_5OI_V1\"\n"
   ]
  },
  {
   "cell_type": "code",
   "execution_count": null,
   "id": "e2ef575c-5518-464c-9c29-73b08afa3750",
   "metadata": {},
   "outputs": [],
   "source": []
  },
  {
   "cell_type": "markdown",
   "id": "7afd26a1-7426-40e1-b24d-87e06a820a34",
   "metadata": {},
   "source": [
    "## Define paths to all Assembly FAs + BAKTA Annotations (Short + Long read ASMs)"
   ]
  },
  {
   "cell_type": "code",
   "execution_count": 176,
   "id": "cf9c81bd-a20f-405b-8ceb-614beb970345",
   "metadata": {},
   "outputs": [],
   "source": [
    "listOfSample_Tags = E50I_SampleIDs\n",
    "\n",
    "target_SMK_OutputDir = PG_Ecoli_50I_OutDir\n",
    "\n",
    "SampleTag_ToPaths_Dict = {}\n",
    "\n",
    "for SampleID in listOfSample_Tags:\n",
    "    sample_Asm_OutputDir = target_SMK_OutputDir + \"/AsmAnalysis/\" + SampleID\n",
    "    GenomeAnno_Dir = f\"{sample_Asm_OutputDir}/GenomeAnnotation\"\n",
    "    \n",
    "    # LR Bakta Anno Files\n",
    "    Bakta_LR_AsmDir = f\"{GenomeAnno_Dir}/{SampleID}_Asm_Bakta\"\n",
    "    \n",
    "    i_LRAsm_Bakta_GFF = f\"{Bakta_LR_AsmDir}/{SampleID}.Bakta.gff3\"\n",
    "    i_LRAsm_Bakta_GBFF = f\"{Bakta_LR_AsmDir}/{SampleID}.Bakta.gbff\"\n",
    "    i_LRAsm_Bakta_FAA = f\"{Bakta_LR_AsmDir}/{SampleID}.Bakta.faa\"\n",
    "    i_LRAsm_Bakta_FFN = f\"{Bakta_LR_AsmDir}/{SampleID}.Bakta.ffn\"\n",
    "    i_LRAsm_Bakta_FNA = f\"{Bakta_LR_AsmDir}/{SampleID}.Bakta.fna\"\n",
    "    i_LRAsm_Bakta_TXT = f\"{Bakta_LR_AsmDir}/{SampleID}.Bakta.txt\"\n",
    "\n",
    "    \n",
    "    # SR Bakta Anno Files\n",
    "    sample_SRAsm_OutputDir = target_SMK_OutputDir + \"/SR_DataProcessing/\" + SampleID\n",
    "    SR_GenomeAnno_Dir = f\"{sample_SRAsm_OutputDir}/GenomeAnnotation\"\n",
    "\n",
    "    Bakta_SR_AsmDir = f\"{SR_GenomeAnno_Dir}/{SampleID}_Asm_Bakta\"\n",
    "\n",
    "    i_SRAsm_Bakta_GFF = f\"{Bakta_SR_AsmDir}/{SampleID}.Bakta.gff3\"\n",
    "    i_SRAsm_Bakta_GBFF = f\"{Bakta_SR_AsmDir}/{SampleID}.Bakta.gbff\"\n",
    "    i_SRAsm_Bakta_FAA = f\"{Bakta_SR_AsmDir}/{SampleID}.Bakta.faa\"\n",
    "    i_SRAsm_Bakta_FFN = f\"{Bakta_SR_AsmDir}/{SampleID}.Bakta.ffn\"\n",
    "    i_SRAsm_Bakta_FNA = f\"{Bakta_SR_AsmDir}/{SampleID}.Bakta.fna\"\n",
    "    i_SRAsm_Bakta_TXT = f\"{Bakta_SR_AsmDir}/{SampleID}.Bakta.txt\"\n",
    "    \n",
    "\n",
    "    dictOfPaths_Temp = {}\n",
    "    dictOfPaths_Temp[\"LRAsm_Bakta_GFF\"] = i_LRAsm_Bakta_GFF  \n",
    "    dictOfPaths_Temp[\"LRAsm_Bakta_GBFF\"] = i_LRAsm_Bakta_GBFF\n",
    "    dictOfPaths_Temp[\"LRAsm_Bakta_FAA\"] = i_LRAsm_Bakta_FAA    \n",
    "    dictOfPaths_Temp[\"LRAsm_Bakta_FFN\"] = i_LRAsm_Bakta_FFN    \n",
    "    dictOfPaths_Temp[\"LRAsm_Bakta_FNA\"] = i_LRAsm_Bakta_FNA  \n",
    "    dictOfPaths_Temp[\"LRAsm_Bakta_TXT\"] = i_LRAsm_Bakta_TXT \n",
    "\n",
    "    dictOfPaths_Temp[\"SRAsm_Bakta_GFF\"] = i_SRAsm_Bakta_GFF\n",
    "    dictOfPaths_Temp[\"SRAsm_Bakta_GBFF\"] = i_SRAsm_Bakta_GBFF\n",
    "    dictOfPaths_Temp[\"SRAsm_Bakta_FAA\"] = i_SRAsm_Bakta_FAA\n",
    "    dictOfPaths_Temp[\"SRAsm_Bakta_FFN\"] = i_SRAsm_Bakta_FFN\n",
    "    dictOfPaths_Temp[\"SRAsm_Bakta_FNA\"] = i_SRAsm_Bakta_FNA\n",
    "    dictOfPaths_Temp[\"SRAsm_Bakta_TXT\"] = i_SRAsm_Bakta_TXT \n",
    "\n",
    "    SampleTag_ToPaths_Dict[SampleID] = dictOfPaths_Temp\n",
    "\n"
   ]
  },
  {
   "cell_type": "code",
   "execution_count": 177,
   "id": "b49631d5-7f66-44a1-8101-82901834efec",
   "metadata": {},
   "outputs": [
    {
     "data": {
      "text/plain": [
       "'GCA_014109125'"
      ]
     },
     "execution_count": 177,
     "metadata": {},
     "output_type": "execute_result"
    }
   ],
   "source": [
    "listOfSample_Tags[0]"
   ]
  },
  {
   "cell_type": "code",
   "execution_count": 178,
   "id": "43ca62de-466d-4ca8-9852-25b9e292772c",
   "metadata": {},
   "outputs": [],
   "source": [
    "#!ls -1 $Bakta_AsmDir"
   ]
  },
  {
   "cell_type": "code",
   "execution_count": 179,
   "id": "4a2a39b5-3127-4155-afda-386b4d41a883",
   "metadata": {},
   "outputs": [
    {
     "data": {
      "text/plain": [
       "'/n/data1/hms/dbmi/farhat/mm774/Projects/230905_Ecoli_PG_Analysis/SMK_OutDirs/231011_Ecoli_Shaw2021_5OI_V1/AsmAnalysis/GCA_014109125/GenomeAnnotation/GCA_014109125_Asm_Bakta/GCA_014109125.Bakta.fna'"
      ]
     },
     "execution_count": 179,
     "metadata": {},
     "output_type": "execute_result"
    }
   ],
   "source": [
    "SampleTag_ToPaths_Dict['GCA_014109125'][\"LRAsm_Bakta_FNA\"] "
   ]
  },
  {
   "cell_type": "code",
   "execution_count": 180,
   "id": "65f6e937-8cc5-4b48-9598-072977ce1372",
   "metadata": {},
   "outputs": [
    {
     "data": {
      "text/plain": [
       "'/n/data1/hms/dbmi/farhat/mm774/Projects/230905_Ecoli_PG_Analysis/SMK_OutDirs/231011_Ecoli_Shaw2021_5OI_V1/SR_DataProcessing/GCA_014109125/GenomeAnnotation/GCA_014109125_Asm_Bakta/GCA_014109125.Bakta.fna'"
      ]
     },
     "execution_count": 180,
     "metadata": {},
     "output_type": "execute_result"
    }
   ],
   "source": [
    "SampleTag_ToPaths_Dict['GCA_014109125'][\"SRAsm_Bakta_FNA\"]"
   ]
  },
  {
   "cell_type": "code",
   "execution_count": 181,
   "id": "a58e92cd-c095-4e81-9ae9-50cf40aaa198",
   "metadata": {},
   "outputs": [
    {
     "data": {
      "text/plain": [
       "'/n/data1/hms/dbmi/farhat/mm774/Projects/230905_Ecoli_PG_Analysis/SMK_OutDirs/231011_Ecoli_Shaw2021_5OI_V1/SR_DataProcessing/GCA_014109125/GenomeAnnotation/GCA_014109125_Asm_Bakta/GCA_014109125.Bakta.gff3'"
      ]
     },
     "execution_count": 181,
     "metadata": {},
     "output_type": "execute_result"
    }
   ],
   "source": [
    "SampleTag_ToPaths_Dict['GCA_014109125'][\"SRAsm_Bakta_GFF\"]"
   ]
  },
  {
   "cell_type": "code",
   "execution_count": null,
   "id": "d646bfc4-73eb-4891-afea-8881dbffa926",
   "metadata": {},
   "outputs": [],
   "source": []
  },
  {
   "cell_type": "code",
   "execution_count": 182,
   "id": "4c146d81-c260-4b8b-b510-4569a4f94e2c",
   "metadata": {},
   "outputs": [
    {
     "name": "stdout",
     "output_type": "stream",
     "text": [
      "total 128K\n",
      "drwxrwsr-x  4 mm774 farhat   63 Oct 12 02:14 .\n",
      "drwxrwsr-x 59 mm774 farhat 1.8K Jan  1 18:03 ..\n",
      "drwxrwsr-x  2 mm774 farhat   44 Oct 12 02:24 FastANI_LRAsm\n",
      "drwxrwsr-x  2 mm774 farhat   41 Oct 12 02:13 FastANI_LRAsms\n"
     ]
    }
   ],
   "source": [
    "!ls -alh $PG_Ecoli_50I_OutDir/FastANI"
   ]
  },
  {
   "cell_type": "code",
   "execution_count": 183,
   "id": "97313bef-1a5e-4dfc-b034-0fb2c9181083",
   "metadata": {},
   "outputs": [
    {
     "name": "stdout",
     "output_type": "stream",
     "text": [
      "total 200K\n",
      "drwxrwsr-x 2 mm774 farhat    44 Oct 12 02:24 .\n",
      "drwxrwsr-x 4 mm774 farhat    63 Oct 12 02:14 ..\n",
      "-rw-rw-r-- 1 mm774 farhat 1006K Oct 12 02:25 FastANI.AllVsAll.LRAsm.txt\n"
     ]
    }
   ],
   "source": [
    "!ls -alh $PG_Ecoli_50I_OutDir/FastANI/FastANI_LRAsm"
   ]
  },
  {
   "cell_type": "code",
   "execution_count": 184,
   "id": "d73b06cb-df01-4f5f-8e54-11b350aa2508",
   "metadata": {},
   "outputs": [
    {
     "name": "stdout",
     "output_type": "stream",
     "text": [
      "total 88K\n",
      "drwxrwsr-x 2 mm774 farhat   41 Oct 12 02:13 .\n",
      "drwxrwsr-x 4 mm774 farhat   63 Oct 12 02:14 ..\n",
      "-rw-rw-r-- 1 mm774 farhat 9.7K Oct 12 02:13 LRAsms.PathToFASTAs.txt\n"
     ]
    }
   ],
   "source": [
    "!ls -alh $PG_Ecoli_50I_OutDir/FastANI/FastANI_LRAsms"
   ]
  },
  {
   "cell_type": "code",
   "execution_count": null,
   "id": "418ffa68-7f09-409a-ba06-3f50d91ab799",
   "metadata": {},
   "outputs": [],
   "source": []
  },
  {
   "cell_type": "code",
   "execution_count": null,
   "id": "7f60603b-c3ba-4ab2-a8c3-adf9d61dbc68",
   "metadata": {},
   "outputs": [],
   "source": []
  },
  {
   "cell_type": "code",
   "execution_count": 185,
   "id": "f0e04d80-cec0-4031-b2bf-d906027c88f4",
   "metadata": {},
   "outputs": [
    {
     "name": "stdout",
     "output_type": "stream",
     "text": [
      "GCA_013602835_Asm_Bakta\n"
     ]
    }
   ],
   "source": [
    "!ls -1 $GenomeAnno_Dir"
   ]
  },
  {
   "cell_type": "code",
   "execution_count": 186,
   "id": "d24921fb-b509-4276-89a9-3f2c1b796fec",
   "metadata": {},
   "outputs": [
    {
     "name": "stdout",
     "output_type": "stream",
     "text": [
      "ls: cannot access /n/data1/hms/dbmi/farhat/mm774/Projects/230905_Ecoli_PG_Analysis/SMK_OutDirs/231011_Ecoli_Shaw2021_5OI_V1/AsmAnalysis/GCA_013602835/GenomeAnnotation/S0262-02_Asm_PGAP_V1: No such file or directory\n"
     ]
    }
   ],
   "source": [
    "!ls -1 $GenomeAnno_Dir/S0262-02_Asm_PGAP_V1"
   ]
  },
  {
   "cell_type": "code",
   "execution_count": 187,
   "id": "e2518531-8dad-484a-839f-b7893280ca63",
   "metadata": {},
   "outputs": [
    {
     "name": "stdout",
     "output_type": "stream",
     "text": [
      "GCA_013602835.Bakta.embl\n",
      "GCA_013602835.Bakta.faa\n",
      "GCA_013602835.Bakta.ffn\n",
      "GCA_013602835.Bakta.fna\n",
      "GCA_013602835.Bakta.gbff\n",
      "GCA_013602835.Bakta.gbff.InputInfo.tsv\n",
      "GCA_013602835.Bakta.gff3\n",
      "GCA_013602835.Bakta.hypotheticals.faa\n",
      "GCA_013602835.Bakta.hypotheticals.tsv\n",
      "GCA_013602835.Bakta.json\n",
      "GCA_013602835.Bakta.log\n",
      "GCA_013602835.Bakta.png\n",
      "GCA_013602835.Bakta.svg\n",
      "GCA_013602835.Bakta.tsv\n",
      "GCA_013602835.Bakta.txt\n"
     ]
    }
   ],
   "source": [
    "!ls -1 $Bakta_LR_AsmDir"
   ]
  },
  {
   "cell_type": "code",
   "execution_count": 188,
   "id": "3e4bbccc-662a-440a-b3de-48170a63abb3",
   "metadata": {},
   "outputs": [
    {
     "name": "stdout",
     "output_type": "stream",
     "text": [
      "GCA_013602835.Bakta.embl\n",
      "GCA_013602835.Bakta.faa\n",
      "GCA_013602835.Bakta.ffn\n",
      "GCA_013602835.Bakta.fna\n",
      "GCA_013602835.Bakta.gbff\n",
      "GCA_013602835.Bakta.gff3\n",
      "GCA_013602835.Bakta.hypotheticals.faa\n",
      "GCA_013602835.Bakta.hypotheticals.tsv\n",
      "GCA_013602835.Bakta.json\n",
      "GCA_013602835.Bakta.log\n",
      "GCA_013602835.Bakta.png\n",
      "GCA_013602835.Bakta.svg\n",
      "GCA_013602835.Bakta.tsv\n",
      "GCA_013602835.Bakta.txt\n"
     ]
    }
   ],
   "source": [
    "!ls -1 $Bakta_SR_AsmDir"
   ]
  },
  {
   "cell_type": "code",
   "execution_count": null,
   "id": "67bad645-9a12-4042-b5f9-7685b459693a",
   "metadata": {},
   "outputs": [],
   "source": []
  },
  {
   "cell_type": "code",
   "execution_count": null,
   "id": "f4f73e79-3b47-4c60-aa53-2717b97ddd72",
   "metadata": {},
   "outputs": [],
   "source": []
  },
  {
   "cell_type": "code",
   "execution_count": 189,
   "id": "43a88569-5f9e-4f33-9b53-72915cdd64da",
   "metadata": {},
   "outputs": [
    {
     "name": "stdout",
     "output_type": "stream",
     "text": [
      "mkdir: cannot create directory ‘/n/data1/hms/dbmi/farhat/mm774/Projects/240308.PGBenchmarking.DataOrg’: File exists\n",
      "mkdir: cannot create directory ‘/n/data1/hms/dbmi/farhat/mm774/Projects/240308.PGBenchmarking.DataOrg/Ecoli.50CI.Hybrid.Bakta.Anno’: File exists\n",
      "mkdir: cannot create directory ‘/n/data1/hms/dbmi/farhat/mm774/Projects/240308.PGBenchmarking.DataOrg/Ecoli.50CI.SR.Bakta.Anno’: File exists\n"
     ]
    }
   ],
   "source": [
    "Proj_Dir = \"/n/data1/hms/dbmi/farhat/mm774/Projects\"\n",
    "\n",
    "PGBenchmarking_DataOrg_Dir = f\"{Proj_Dir}/240308.PGBenchmarking.DataOrg\"\n",
    "!mkdir $PGBenchmarking_DataOrg_Dir\n",
    "\n",
    "Ecoli_50CI_Hybrid_Bakta_AsmDir = f\"{PGBenchmarking_DataOrg_Dir}/Ecoli.50CI.Hybrid.Bakta.Anno\" \n",
    "Ecoli_50CI_SR_Bakta_AsmDir = f\"{PGBenchmarking_DataOrg_Dir}/Ecoli.50CI.SR.Bakta.Anno\" \n",
    "\n",
    "!mkdir $Ecoli_50CI_Hybrid_Bakta_AsmDir\n",
    "!mkdir $Ecoli_50CI_SR_Bakta_AsmDir\n"
   ]
  },
  {
   "cell_type": "code",
   "execution_count": 190,
   "id": "7682001b-9286-4361-b189-05e455f94aab",
   "metadata": {},
   "outputs": [
    {
     "name": "stdout",
     "output_type": "stream",
     "text": [
      "Ecoli.50CI.Hybrid.Bakta.Anno\n",
      "Ecoli.50CI.SR.Bakta.Anno\n",
      "Mtb.151CI.Hybrid.Bakta.Anno\n",
      "Mtb.151CI.Hybrid.PGAP.Anno\n",
      "Mtb.151CI.SR.Bakta.Anno\n",
      "Mtb.151CI.SR.PGAP.Anno\n"
     ]
    }
   ],
   "source": [
    "!ls -1 $PGBenchmarking_DataOrg_Dir"
   ]
  },
  {
   "cell_type": "code",
   "execution_count": null,
   "id": "7f20c951-8be9-4f2d-a058-a2eaad2f3310",
   "metadata": {},
   "outputs": [],
   "source": []
  },
  {
   "cell_type": "code",
   "execution_count": 191,
   "id": "66dc0e95-4074-472d-960b-895072158b4c",
   "metadata": {},
   "outputs": [
    {
     "data": {
      "text/plain": [
       "dict_keys(['LRAsm_Bakta_GFF', 'LRAsm_Bakta_GBFF', 'LRAsm_Bakta_FAA', 'LRAsm_Bakta_FFN', 'LRAsm_Bakta_FNA', 'LRAsm_Bakta_TXT', 'SRAsm_Bakta_GFF', 'SRAsm_Bakta_GBFF', 'SRAsm_Bakta_FAA', 'SRAsm_Bakta_FFN', 'SRAsm_Bakta_FNA', 'SRAsm_Bakta_TXT'])"
      ]
     },
     "execution_count": 191,
     "metadata": {},
     "output_type": "execute_result"
    }
   ],
   "source": [
    "SampleTag_ToPaths_Dict['GCA_014109125'].keys()"
   ]
  },
  {
   "cell_type": "code",
   "execution_count": 192,
   "id": "2c580fc4-0e7f-44c5-86ee-7efd70d1553b",
   "metadata": {},
   "outputs": [
    {
     "data": {
      "text/plain": [
       "array(['GCA_014109125', 'GCA_014109065', 'GCA_013923405'], dtype=object)"
      ]
     },
     "execution_count": 192,
     "metadata": {},
     "output_type": "execute_result"
    }
   ],
   "source": [
    "E50I_SampleIDs[:3] "
   ]
  },
  {
   "cell_type": "code",
   "execution_count": null,
   "id": "6da80c23-df8c-411c-92aa-5a979d933fa0",
   "metadata": {},
   "outputs": [],
   "source": []
  },
  {
   "cell_type": "code",
   "execution_count": 193,
   "id": "3c882dde-f5f7-4c33-971a-abc526793e0b",
   "metadata": {},
   "outputs": [
    {
     "name": "stderr",
     "output_type": "stream",
     "text": [
      "100%|██████████| 50/50 [00:34<00:00,  1.42it/s]\n"
     ]
    }
   ],
   "source": [
    "for i_SampleID in tqdm(E50I_SampleIDs):\n",
    "\n",
    "    # Copy Bakta Anno for Hybrid & SR Asms\n",
    "    i_Sample_LR_Bakta_GFF_PATH = SampleTag_ToPaths_Dict[i_SampleID][\"LRAsm_Bakta_GFF\"]\n",
    "    i_Sample_LR_Bakta_GBFF_PATH = SampleTag_ToPaths_Dict[i_SampleID][\"LRAsm_Bakta_GBFF\"]\n",
    "    i_Sample_LR_Bakta_FA_PATH = SampleTag_ToPaths_Dict[i_SampleID][\"LRAsm_Bakta_FNA\"]\n",
    "\n",
    "    i_Sample_SR_Bakta_GFF_PATH = SampleTag_ToPaths_Dict[i_SampleID][\"SRAsm_Bakta_GFF\"]\n",
    "    i_Sample_SR_Bakta_GBFF_PATH = SampleTag_ToPaths_Dict[i_SampleID][\"SRAsm_Bakta_GBFF\"]\n",
    "    i_Sample_SR_Bakta_FA_PATH = SampleTag_ToPaths_Dict[i_SampleID][\"SRAsm_Bakta_FNA\"]\n",
    "\n",
    "\n",
    "    o_Sample_LR_Bakta_GFF_PATH = f\"{Ecoli_50CI_Hybrid_Bakta_AsmDir}/{i_SampleID}.HybridAsm.Bakta.WiGenome.gff\"\n",
    "    o_Sample_LR_Bakta_FA_PATH = f\"{Ecoli_50CI_Hybrid_Bakta_AsmDir}/{i_SampleID}.HybridAsm.Bakta.Genome.fasta\"\n",
    "    \n",
    "    o_Sample_SR_Bakta_GFF_PATH = f\"{Ecoli_50CI_SR_Bakta_AsmDir}/{i_SampleID}.SRAsm.Bakta.WiGenome.gff\"\n",
    "    o_Sample_SR_Bakta_FA_PATH = f\"{Ecoli_50CI_SR_Bakta_AsmDir}/{i_SampleID}.SRAsm.Bakta.Genome.fasta\"\n",
    "\n",
    "    \n",
    "    # Copy Bakta Anno for Hybrid Asm\n",
    "    !cp $i_Sample_LR_Bakta_GFF_PATH $o_Sample_LR_Bakta_GFF_PATH\n",
    "    !cp $i_Sample_LR_Bakta_FA_PATH $o_Sample_LR_Bakta_FA_PATH\n",
    " \n",
    "    # Copy Bakta Anno for SR Asm\n",
    "    !cp $i_Sample_SR_Bakta_GFF_PATH $o_Sample_SR_Bakta_GFF_PATH\n",
    "    !cp $i_Sample_SR_Bakta_FA_PATH $o_Sample_SR_Bakta_FA_PATH\n",
    "        \n",
    "    #break \n"
   ]
  },
  {
   "cell_type": "code",
   "execution_count": 194,
   "id": "54370fd0-6952-44e1-a9dc-100d50470a1a",
   "metadata": {},
   "outputs": [
    {
     "data": {
      "text/plain": [
       "'/n/data1/hms/dbmi/farhat/mm774/Projects/230905_Ecoli_PG_Analysis/SMK_OutDirs/231011_Ecoli_Shaw2021_5OI_V1/AsmAnalysis/GCA_013602835/GenomeAnnotation/GCA_013602835_Asm_Bakta/GCA_013602835.Bakta.fna'"
      ]
     },
     "execution_count": 194,
     "metadata": {},
     "output_type": "execute_result"
    }
   ],
   "source": [
    "SampleTag_ToPaths_Dict[i_SampleID][\"LRAsm_Bakta_FNA\"]"
   ]
  },
  {
   "cell_type": "code",
   "execution_count": 195,
   "id": "2f7fd526-b34f-4efe-ad16-808be5d89d81",
   "metadata": {},
   "outputs": [],
   "source": [
    "#!ls -1 $Mtb_69CI_SelectedSet_AsmDir/"
   ]
  },
  {
   "cell_type": "code",
   "execution_count": null,
   "id": "2220d70b-0000-4aa2-8570-b35077f5dc17",
   "metadata": {},
   "outputs": [],
   "source": []
  },
  {
   "cell_type": "code",
   "execution_count": 196,
   "id": "b2d21164-3f92-46d1-8b7a-5a745e117d6b",
   "metadata": {},
   "outputs": [
    {
     "name": "stdout",
     "output_type": "stream",
     "text": [
      "Ecoli.50CI.Hybrid.Bakta.Anno\n",
      "Ecoli.50CI.SR.Bakta.Anno\n",
      "Mtb.151CI.Hybrid.Bakta.Anno\n",
      "Mtb.151CI.Hybrid.PGAP.Anno\n",
      "Mtb.151CI.SR.Bakta.Anno\n",
      "Mtb.151CI.SR.PGAP.Anno\n"
     ]
    }
   ],
   "source": [
    "!ls -1 $PGBenchmarking_DataOrg_Dir"
   ]
  },
  {
   "cell_type": "code",
   "execution_count": null,
   "id": "c5ae1588-a8c5-456e-ac33-37e8d9ec3900",
   "metadata": {},
   "outputs": [],
   "source": []
  },
  {
   "cell_type": "code",
   "execution_count": 203,
   "id": "030902e1-ff09-49cc-93bf-378b31f9a1ee",
   "metadata": {},
   "outputs": [
    {
     "name": "stdout",
     "output_type": "stream",
     "text": [
      "Ecoli.50CI.Hybrid.Bakta.Anno\n",
      "Ecoli.50CI.SR.Bakta.Anno\n",
      "Mtb.151CI.Hybrid.Bakta.Anno\n",
      "Mtb.151CI.Hybrid.PGAP.Anno\n",
      "Mtb.151CI.SR.Bakta.Anno\n",
      "Mtb.151CI.SR.PGAP.Anno\n"
     ]
    }
   ],
   "source": [
    "!cd /n/data1/hms/dbmi/farhat/mm774/Projects/240308.PGBenchmarking.DataOrg && ls -1"
   ]
  },
  {
   "cell_type": "code",
   "execution_count": 207,
   "id": "96f3d3b8-64c9-447b-b40e-1b6a7ecc4af9",
   "metadata": {},
   "outputs": [],
   "source": [
    "DataOrg_Dir = \"/n/data1/hms/dbmi/farhat/mm774/Projects/240308.PGBenchmarking.DataOrg\""
   ]
  },
  {
   "cell_type": "code",
   "execution_count": 204,
   "id": "e4c6f328-ec60-4c77-a669-7359fae0f611",
   "metadata": {},
   "outputs": [],
   "source": [
    "!cd $DataOrg_Dir && tar -czvf Ecoli.50CI.Hybrid.Bakta.Anno.tar.gz Ecoli.50CI.Hybrid.Bakta.Anno/ \n"
   ]
  },
  {
   "cell_type": "code",
   "execution_count": 205,
   "id": "c52e568e-4644-4bca-8c99-2316aebee755",
   "metadata": {},
   "outputs": [],
   "source": [
    "!cd $DataOrg_Dir && tar -czvf Ecoli.50CI.SR.Bakta.Anno.tar.gz Ecoli.50CI.SR.Bakta.Anno/ \n"
   ]
  },
  {
   "cell_type": "code",
   "execution_count": null,
   "id": "fb360726-e47b-4899-8bf9-57c14e726a2d",
   "metadata": {},
   "outputs": [],
   "source": []
  },
  {
   "cell_type": "code",
   "execution_count": 210,
   "id": "c64dfe0c-4659-4420-b105-83af81364160",
   "metadata": {},
   "outputs": [
    {
     "name": "stdout",
     "output_type": "stream",
     "text": [
      "199M\t/n/data1/hms/dbmi/farhat/mm774/Projects/240308.PGBenchmarking.DataOrg/Ecoli.50CI.Hybrid.Bakta.Anno.tar.gz\n"
     ]
    }
   ],
   "source": [
    "!du -sh $DataOrg_Dir/Ecoli.50CI.Hybrid.Bakta.Anno.tar.gz"
   ]
  },
  {
   "cell_type": "code",
   "execution_count": 211,
   "id": "65f16d8e-3842-48a2-9876-59dc90fe7df2",
   "metadata": {},
   "outputs": [
    {
     "name": "stdout",
     "output_type": "stream",
     "text": [
      "195M\t/n/data1/hms/dbmi/farhat/mm774/Projects/240308.PGBenchmarking.DataOrg/Ecoli.50CI.SR.Bakta.Anno.tar.gz\n"
     ]
    }
   ],
   "source": [
    "!du -sh $DataOrg_Dir/Ecoli.50CI.SR.Bakta.Anno.tar.gz"
   ]
  },
  {
   "cell_type": "code",
   "execution_count": null,
   "id": "4b2a91e9-f71e-40e7-82fd-b763a107dfd5",
   "metadata": {},
   "outputs": [],
   "source": []
  },
  {
   "cell_type": "code",
   "execution_count": 212,
   "id": "5a596b1a-515a-41f0-991a-4583ade63c6a",
   "metadata": {},
   "outputs": [],
   "source": [
    "#!ls -1 $Ecoli_50CI_Hybrid_Bakta_AsmDir"
   ]
  },
  {
   "cell_type": "code",
   "execution_count": 214,
   "id": "e7e54dbb-19c6-4e64-b678-c237367701d0",
   "metadata": {},
   "outputs": [],
   "source": [
    "#!ls -1 $Ecoli_50CI_SR_Bakta_AsmDir"
   ]
  },
  {
   "cell_type": "code",
   "execution_count": null,
   "id": "dac080e2-e381-43f8-83fc-65440e50d691",
   "metadata": {},
   "outputs": [],
   "source": []
  },
  {
   "cell_type": "code",
   "execution_count": 199,
   "id": "6d0370ee-b2ac-4877-bcd4-1dc64832a17f",
   "metadata": {},
   "outputs": [
    {
     "name": "stdout",
     "output_type": "stream",
     "text": [
      "GenomeAnnotation\n",
      "IlluminaWGS\n"
     ]
    }
   ],
   "source": [
    "!ls -1 /n/data1/hms/dbmi/farhat/mm774/Projects/230905_Ecoli_PG_Analysis/SMK_OutDirs/231011_Ecoli_Shaw2021_5OI_V1/SR_DataProcessing/GCA_013602835 \n",
    "\n"
   ]
  },
  {
   "cell_type": "code",
   "execution_count": null,
   "id": "e502cd6b-1b4b-4c3e-8cfa-15cbd071239e",
   "metadata": {},
   "outputs": [],
   "source": []
  },
  {
   "cell_type": "code",
   "execution_count": null,
   "id": "f4218ad0-580c-4a03-a9c9-f121b0966e4b",
   "metadata": {},
   "outputs": [],
   "source": []
  },
  {
   "cell_type": "code",
   "execution_count": null,
   "id": "ec785f0d-40fa-4505-ba64-5bce56187db1",
   "metadata": {},
   "outputs": [],
   "source": []
  },
  {
   "cell_type": "code",
   "execution_count": null,
   "id": "28a18049-0d96-4972-901b-3385ae2eb502",
   "metadata": {},
   "outputs": [],
   "source": []
  },
  {
   "cell_type": "code",
   "execution_count": null,
   "id": "6abba6b7-d5f7-4fb9-bb65-3dce8d8aa33a",
   "metadata": {},
   "outputs": [],
   "source": []
  },
  {
   "cell_type": "code",
   "execution_count": null,
   "id": "1632b025-f5e5-41cf-8a73-87a8aeaabffa",
   "metadata": {},
   "outputs": [],
   "source": []
  },
  {
   "cell_type": "code",
   "execution_count": null,
   "id": "55d78025-d187-47c8-9df9-df8f42d0afb0",
   "metadata": {},
   "outputs": [],
   "source": []
  },
  {
   "cell_type": "code",
   "execution_count": null,
   "id": "dd3ba2e1-12a4-43bb-997c-3b4e5ee1ead7",
   "metadata": {},
   "outputs": [],
   "source": []
  },
  {
   "cell_type": "code",
   "execution_count": null,
   "id": "13b70d21-0a03-4b02-a04a-f064d825a9aa",
   "metadata": {},
   "outputs": [],
   "source": []
  }
 ],
 "metadata": {
  "kernelspec": {
   "display_name": "py37_S",
   "language": "python",
   "name": "py37_s"
  },
  "language_info": {
   "codemirror_mode": {
    "name": "ipython",
    "version": 3
   },
   "file_extension": ".py",
   "mimetype": "text/x-python",
   "name": "python",
   "nbconvert_exporter": "python",
   "pygments_lexer": "ipython3",
   "version": "3.7.3"
  }
 },
 "nbformat": 4,
 "nbformat_minor": 5
}
