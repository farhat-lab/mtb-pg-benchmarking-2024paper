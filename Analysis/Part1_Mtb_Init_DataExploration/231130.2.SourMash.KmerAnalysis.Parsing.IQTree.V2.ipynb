{
 "cells": [
  {
   "cell_type": "markdown",
   "id": "fed4a0e6",
   "metadata": {},
   "source": [
    "# Analysis of k-mer JS & ANI between all 151 Mtb genomes"
   ]
  },
  {
   "cell_type": "code",
   "execution_count": 1,
   "id": "3195d55e",
   "metadata": {},
   "outputs": [],
   "source": [
    "import numpy as np\n",
    "import matplotlib.pyplot as plt\n",
    "import seaborn as sns\n",
    "import pandas as pd\n",
    "\n",
    "%matplotlib inline\n"
   ]
  },
  {
   "cell_type": "code",
   "execution_count": 2,
   "id": "f4e055af",
   "metadata": {},
   "outputs": [],
   "source": [
    "# https://github.com/ipython/ipython/issues/10627\n",
    "import os\n",
    "os.environ['QT_QPA_PLATFORM']='offscreen'"
   ]
  },
  {
   "cell_type": "code",
   "execution_count": 3,
   "id": "16738e8a",
   "metadata": {},
   "outputs": [],
   "source": [
    "\n",
    "import ete3 as ETE\n",
    "\n",
    "from ete3 import Tree"
   ]
  },
  {
   "cell_type": "markdown",
   "id": "099fd7e5-80f5-4a31-8856-282ac6729d96",
   "metadata": {},
   "source": [
    "### Set matplotlib text export settings for Adobe Illustrator"
   ]
  },
  {
   "cell_type": "code",
   "execution_count": 4,
   "id": "c1d11e59-eceb-4c1b-8a65-2ce831e316e6",
   "metadata": {},
   "outputs": [],
   "source": [
    "import matplotlib\n",
    "matplotlib.rcParams['pdf.fonttype'] = 42\n",
    "matplotlib.rcParams['ps.fonttype'] = 42"
   ]
  },
  {
   "cell_type": "code",
   "execution_count": null,
   "id": "a4f857d2-a895-407b-9cbe-01b93669b715",
   "metadata": {},
   "outputs": [],
   "source": []
  },
  {
   "cell_type": "code",
   "execution_count": null,
   "id": "e6ef6d58",
   "metadata": {},
   "outputs": [],
   "source": []
  },
  {
   "cell_type": "markdown",
   "id": "299f4393",
   "metadata": {},
   "source": [
    "## Define paths to sample metadata files"
   ]
  },
  {
   "cell_type": "code",
   "execution_count": 5,
   "id": "c2d8df69-9512-428d-b291-95af09fc0549",
   "metadata": {},
   "outputs": [],
   "source": [
    "Repo_DataDir = \"../../Data\"\n",
    "InputAsmPath_Dir = f\"{Repo_DataDir}/231121.InputAsmTSVs.MtbSetV3.151CI\"\n",
    "\n",
    "MtbSetV3_151CI_InputAsmPATHs_TSV = f\"{InputAsmPath_Dir}/231121.MtbSetV3.151CI.HybridAndSRAsm.FAPATHs.V1.tsv\"\n",
    "\n",
    "MtbSetV3_151CI_AsmSumm_TSV = f\"{InputAsmPath_Dir}/231121.MtbSetV3.151CI.HybridAsm.AsmSummary.V2.tsv\"\n"
   ]
  },
  {
   "cell_type": "code",
   "execution_count": null,
   "id": "03240e68-93d5-47c4-83b1-99ca631a77f9",
   "metadata": {},
   "outputs": [],
   "source": []
  },
  {
   "cell_type": "markdown",
   "id": "f143e86b",
   "metadata": {},
   "source": [
    "## PARSE METADATA FOR ALL assemblies processed by this pipeline"
   ]
  },
  {
   "cell_type": "code",
   "execution_count": 6,
   "id": "814c9055",
   "metadata": {},
   "outputs": [],
   "source": [
    "WGA158CI_LRandSR_Asm_Path_DF = pd.read_csv(MtbSetV3_151CI_InputAsmPATHs_TSV, sep = \"\\t\")\n",
    "\n",
    "WGA158CI_LRandSR_Asm_Path_DF.columns = ['SampleID', 'Dataset_Tag',\n",
    "                                        'Genome_LR_ASM_PATH', 'Genome_SR_ASM_PATH']\n"
   ]
  },
  {
   "cell_type": "code",
   "execution_count": 7,
   "id": "4bb833db",
   "metadata": {},
   "outputs": [
    {
     "data": {
      "text/html": [
       "<div>\n",
       "<style scoped>\n",
       "    .dataframe tbody tr th:only-of-type {\n",
       "        vertical-align: middle;\n",
       "    }\n",
       "\n",
       "    .dataframe tbody tr th {\n",
       "        vertical-align: top;\n",
       "    }\n",
       "\n",
       "    .dataframe thead th {\n",
       "        text-align: right;\n",
       "    }\n",
       "</style>\n",
       "<table border=\"1\" class=\"dataframe\">\n",
       "  <thead>\n",
       "    <tr style=\"text-align: right;\">\n",
       "      <th></th>\n",
       "      <th>SampleID</th>\n",
       "      <th>Dataset_Tag</th>\n",
       "      <th>Genome_LR_ASM_PATH</th>\n",
       "      <th>Genome_SR_ASM_PATH</th>\n",
       "    </tr>\n",
       "  </thead>\n",
       "  <tbody>\n",
       "    <tr>\n",
       "      <th>0</th>\n",
       "      <td>N0072</td>\n",
       "      <td>ChinerOms_2019</td>\n",
       "      <td>/n/data1/hms/dbmi/farhat/mm774/Projects/231121...</td>\n",
       "      <td>/n/data1/hms/dbmi/farhat/mm774/Projects/231121...</td>\n",
       "    </tr>\n",
       "  </tbody>\n",
       "</table>\n",
       "</div>"
      ],
      "text/plain": [
       "  SampleID     Dataset_Tag                                 Genome_LR_ASM_PATH  \\\n",
       "0    N0072  ChinerOms_2019  /n/data1/hms/dbmi/farhat/mm774/Projects/231121...   \n",
       "\n",
       "                                  Genome_SR_ASM_PATH  \n",
       "0  /n/data1/hms/dbmi/farhat/mm774/Projects/231121...  "
      ]
     },
     "execution_count": 7,
     "metadata": {},
     "output_type": "execute_result"
    }
   ],
   "source": [
    "WGA158CI_LRandSR_Asm_Path_DF.head(1)"
   ]
  },
  {
   "cell_type": "code",
   "execution_count": null,
   "id": "c7f90b51",
   "metadata": {},
   "outputs": [],
   "source": []
  },
  {
   "cell_type": "markdown",
   "id": "7c9b3f52",
   "metadata": {},
   "source": [
    "## Parse sample Metadata (N = 151)"
   ]
  },
  {
   "cell_type": "code",
   "execution_count": 8,
   "id": "65f91bb2-a0e4-46a1-b47e-05e45d5089a5",
   "metadata": {},
   "outputs": [
    {
     "data": {
      "text/plain": [
       "(151, 7)"
      ]
     },
     "execution_count": 8,
     "metadata": {},
     "output_type": "execute_result"
    }
   ],
   "source": [
    "\n",
    "WGA151CI_AsmSummary_DF = pd.read_csv(MtbSetV3_151CI_AsmSumm_TSV, sep = \"\\t\")\n",
    "\n",
    "SampleIDs_151CI_SOI = list( WGA151CI_AsmSummary_DF[\"SampleID\"].values )\n",
    "WGA151CI_SampleIDs = SampleIDs_151CI_SOI\n",
    "\n",
    "#print(','.join(SampleIDs_151CI_SOI) )\n",
    "\n",
    "ID_To_PrimLineage_Dict = dict(WGA151CI_AsmSummary_DF[['SampleID', 'PrimaryLineage']].values)\n",
    "ID_To_SubLineage_Dict = dict( WGA151CI_AsmSummary_DF[[\"SampleID\", \"Lineage\"]].values)\n",
    "ID_To_Dataset_Dict = dict(WGA151CI_AsmSummary_DF[['SampleID', 'Dataset_Tag']].values)\n",
    "WGA151CI_AsmSummary_DF.shape"
   ]
  },
  {
   "cell_type": "code",
   "execution_count": 9,
   "id": "8be54e23",
   "metadata": {},
   "outputs": [
    {
     "data": {
      "text/html": [
       "<div>\n",
       "<style scoped>\n",
       "    .dataframe tbody tr th:only-of-type {\n",
       "        vertical-align: middle;\n",
       "    }\n",
       "\n",
       "    .dataframe tbody tr th {\n",
       "        vertical-align: top;\n",
       "    }\n",
       "\n",
       "    .dataframe thead th {\n",
       "        text-align: right;\n",
       "    }\n",
       "</style>\n",
       "<table border=\"1\" class=\"dataframe\">\n",
       "  <thead>\n",
       "    <tr style=\"text-align: right;\">\n",
       "      <th></th>\n",
       "      <th>SampleID</th>\n",
       "      <th>numContigs_Complete</th>\n",
       "      <th>Flye_CircContig_Cov</th>\n",
       "      <th>PrimaryLineage</th>\n",
       "      <th>Lineage</th>\n",
       "      <th>Dataset_Tag</th>\n",
       "      <th>AsmApproach</th>\n",
       "    </tr>\n",
       "  </thead>\n",
       "  <tbody>\n",
       "    <tr>\n",
       "      <th>0</th>\n",
       "      <td>N0072</td>\n",
       "      <td>1</td>\n",
       "      <td>358</td>\n",
       "      <td>lineage1</td>\n",
       "      <td>lineage1,lineage1.1,lineage1.1.2</td>\n",
       "      <td>ChinerOms_2019</td>\n",
       "      <td>PBrs2_LR_Flye_I3_SR_Pilon</td>\n",
       "    </tr>\n",
       "    <tr>\n",
       "      <th>1</th>\n",
       "      <td>N0153</td>\n",
       "      <td>1</td>\n",
       "      <td>372</td>\n",
       "      <td>lineage1</td>\n",
       "      <td>lineage1,lineage1.1,lineage1.1.1,lineage1.1.1.1</td>\n",
       "      <td>ChinerOms_2019</td>\n",
       "      <td>PBrs2_LR_Flye_I3_SR_Pilon</td>\n",
       "    </tr>\n",
       "    <tr>\n",
       "      <th>2</th>\n",
       "      <td>TB3113</td>\n",
       "      <td>1</td>\n",
       "      <td>933</td>\n",
       "      <td>lineage2</td>\n",
       "      <td>lineage2,lineage2.2,lineage2.2.1</td>\n",
       "      <td>TB_Portals_24CI_R1</td>\n",
       "      <td>PBrs2_LR_Flye_I3_SR_Pilon</td>\n",
       "    </tr>\n",
       "  </tbody>\n",
       "</table>\n",
       "</div>"
      ],
      "text/plain": [
       "  SampleID  numContigs_Complete  Flye_CircContig_Cov PrimaryLineage  \\\n",
       "0    N0072                    1                  358       lineage1   \n",
       "1    N0153                    1                  372       lineage1   \n",
       "2   TB3113                    1                  933       lineage2   \n",
       "\n",
       "                                           Lineage         Dataset_Tag  \\\n",
       "0                 lineage1,lineage1.1,lineage1.1.2      ChinerOms_2019   \n",
       "1  lineage1,lineage1.1,lineage1.1.1,lineage1.1.1.1      ChinerOms_2019   \n",
       "2                 lineage2,lineage2.2,lineage2.2.1  TB_Portals_24CI_R1   \n",
       "\n",
       "                 AsmApproach  \n",
       "0  PBrs2_LR_Flye_I3_SR_Pilon  \n",
       "1  PBrs2_LR_Flye_I3_SR_Pilon  \n",
       "2  PBrs2_LR_Flye_I3_SR_Pilon  "
      ]
     },
     "execution_count": 9,
     "metadata": {},
     "output_type": "execute_result"
    }
   ],
   "source": [
    "WGA151CI_AsmSummary_DF.head(3)"
   ]
  },
  {
   "cell_type": "code",
   "execution_count": null,
   "id": "b37ed9cb",
   "metadata": {},
   "outputs": [],
   "source": []
  },
  {
   "cell_type": "code",
   "execution_count": null,
   "id": "63cda187-36f6-4990-8e31-fcee1d8e60b0",
   "metadata": {},
   "outputs": [],
   "source": []
  },
  {
   "cell_type": "markdown",
   "id": "2bfbb2af-4b48-4192-a416-e0b33b45d1ac",
   "metadata": {},
   "source": [
    "# Define output dir of the Mtb-WGA-SMK processing pipeline\n",
    "**NOTE**: Here is where you need to define the output path of the Snakemake pipeline (Which does all of the assembly and sequencing processing)"
   ]
  },
  {
   "cell_type": "code",
   "execution_count": 10,
   "id": "2d38d5db",
   "metadata": {},
   "outputs": [],
   "source": [
    "# Define pipeline output directories\n",
    "\n",
    "WGA_SMK_Outputs_Dir = \"/n/data1/hms/dbmi/farhat/mm774/Projects/Mtb-WGA-SMK-Output\"\n",
    "\n",
    "WGA151CI_SMK_OutputDir = WGA_SMK_Outputs_Dir + \"/231121_MtbSetV3_151CI\"\n",
    "\n",
    "Mtb_SMK_Pipeline_OutputDir = WGA151CI_SMK_OutputDir\n"
   ]
  },
  {
   "cell_type": "markdown",
   "id": "ee04aa98-f283-4eff-89e0-56d1e7e496f2",
   "metadata": {},
   "source": [
    "#### Let's peak at the output directory of the SMK pipeline"
   ]
  },
  {
   "cell_type": "code",
   "execution_count": 11,
   "id": "ece29b06-02cc-4c7a-92a5-401530800eef",
   "metadata": {},
   "outputs": [
    {
     "name": "stdout",
     "output_type": "stream",
     "text": [
      "AsmAnalysis\n",
      "Asm_MergeSNPs_mpileup\n",
      "Asm_MergeVar_mpileup\n",
      "Busco_Download_Tmp\n",
      "FastANI\n",
      "HomologyMapping\n",
      "Minigraph\n",
      "NucDiversity\n",
      "O2logs\n",
      "PanGenome_Analysis\n",
      "Phylogenies\n",
      "RecombDetection\n",
      "SourMash\n"
     ]
    }
   ],
   "source": [
    "!ls -1 $Mtb_SMK_Pipeline_OutputDir"
   ]
  },
  {
   "cell_type": "code",
   "execution_count": null,
   "id": "8633ebc9-ae33-4454-ac83-5594e49d23bf",
   "metadata": {},
   "outputs": [],
   "source": []
  },
  {
   "cell_type": "markdown",
   "id": "54b32355-08ff-4b87-8fda-605ca927a3b3",
   "metadata": {},
   "source": [
    "## Parse IQ-Tree phylogeny"
   ]
  },
  {
   "cell_type": "code",
   "execution_count": 12,
   "id": "e625a22b-c7c9-4cf9-b05d-d073bea16218",
   "metadata": {},
   "outputs": [],
   "source": [
    "Phylos_OutDir = f\"{Mtb_SMK_Pipeline_OutputDir}/Phylogenies\"\n",
    "\n",
    "IQ_10AmbFilt_PhyloOutDir = f\"{Phylos_OutDir}/iqtree_mpileupSNVs_10AmbFilt\"\n",
    "IQ_Tree_10Amb_Filt_PATH = f\"{IQ_10AmbFilt_PhyloOutDir}/IQtree.10AmbThresh.NoMask.MidRoot.WiNodeNames.newick\"    \n",
    "\n",
    "\n",
    "IQ_PLCFilt_PhyloOutDir = f\"{Phylos_OutDir}/iqtree_mpileupSNVs_PLCFilt\"\n",
    "IQ_Tree_10Amb_PLC_Filt_PATH = f\"{IQ_PLCFilt_PhyloOutDir}/IQtree.10AmbThresh.PLCMask.MidRoot.WiNodeNames.newick\"    \n"
   ]
  },
  {
   "cell_type": "markdown",
   "id": "ff55a025-4872-4859-b86d-83d7f189adeb",
   "metadata": {},
   "source": [
    "## Parse Phylogenies"
   ]
  },
  {
   "cell_type": "code",
   "execution_count": 13,
   "id": "cd4786dd-fada-40fa-8e70-f79caa40fa44",
   "metadata": {},
   "outputs": [],
   "source": [
    "IQ_Tree = Tree(IQ_Tree_10Amb_PLC_Filt_PATH, format = 1)\n",
    "\n",
    "T_RootPoint = IQ_Tree.get_leaves_by_name(\"RW-TB008\")[0]    \n",
    "IQ_Tree.set_outgroup(T_RootPoint)"
   ]
  },
  {
   "cell_type": "code",
   "execution_count": 14,
   "id": "e9104a40-b097-4d53-83c7-81b968bcdb84",
   "metadata": {},
   "outputs": [
    {
     "name": "stdout",
     "output_type": "stream",
     "text": [
      "301\n"
     ]
    }
   ],
   "source": [
    "# Count the number of nodes after midpoint rooting\n",
    "num_nodes = len(IQ_Tree.get_leaves()) + len([node for node in IQ_Tree.traverse() if not node.is_leaf()])\n",
    "\n",
    "print(num_nodes)"
   ]
  },
  {
   "cell_type": "markdown",
   "id": "31d09819-e452-4ada-aa95-24ff9470356d",
   "metadata": {},
   "source": [
    "### Add lineage info to tree and sort by sub-lineage"
   ]
  },
  {
   "cell_type": "code",
   "execution_count": 15,
   "id": "70208acd-d486-4e07-987d-3913323a93ad",
   "metadata": {},
   "outputs": [
    {
     "name": "stdout",
     "output_type": "stream",
     "text": [
      "151\n"
     ]
    }
   ],
   "source": [
    "count = 0\n",
    "for n in IQ_Tree.get_leaves():\n",
    "\n",
    "    if \"Bakta\" in n.name:\n",
    "        n.name = n.name.split(\".\")[0]\n",
    "    \n",
    "    n.add_feature(\"Primary_lineage\", ID_To_PrimLineage_Dict.get(n.name, \"Unknown Lineage\") )\n",
    "    n.add_feature(\"Sublineage\", ID_To_SubLineage_Dict.get(n.name, \"Unknown Lineage\") )\n",
    "    #print(\"node:\", n.name, \" Lineage:\", n.Mtb_lineage)\n",
    "    count +=1\n",
    "\n",
    "print(count)  \n",
    "IQ_Tree.sort_descendants(attr='Primary_lineage')\n",
    "IQ_Tree.sort_descendants(attr='Sublineage')"
   ]
  },
  {
   "cell_type": "markdown",
   "id": "aeafe1e9-0a13-4219-84c2-1a8a3578f2c4",
   "metadata": {},
   "source": [
    "## Parsing over each node of the tree (ETE3) and infer lineage"
   ]
  },
  {
   "cell_type": "code",
   "execution_count": 16,
   "id": "6d9f1777-2bee-4ba7-bf6a-27c3fcf757a2",
   "metadata": {
    "scrolled": true
   },
   "outputs": [],
   "source": [
    "IQ_node_To_PrimaryLin_Dict = {}\n",
    "\n",
    "for node in IQ_Tree.iter_descendants(\"postorder\"):\n",
    "    # Do some analysis on node\n",
    "    \n",
    "    #print(node.name)\n",
    "    listOf_ChildLineages = []\n",
    "    \n",
    "    for child_node in node.get_descendants():\n",
    "        if child_node.is_leaf():\n",
    "            listOf_ChildLineages.append(  (child_node.Primary_lineage) )\n",
    "        \n",
    "        #print(node.name, listOf_ChildLineages)\n",
    "        \n",
    "    set_Of_ChildLineages = list(set(listOf_ChildLineages))\n",
    "\n",
    "    #print(node.name, set_Of_ChildLineages  )\n",
    "    \n",
    "    if len(set_Of_ChildLineages) == 1:\n",
    "        OnlyOneLineage = True\n",
    "    else:\n",
    "        OnlyOneLineage = False\n",
    "    \n",
    "    if OnlyOneLineage:\n",
    "        IQ_node_To_PrimaryLin_Dict[node.name] = set_Of_ChildLineages[0]\n",
    "    \n",
    "    #print(listOf_ChildLineages, set_Of_ChildLineages)\n",
    "    #if node.name == \"internal_90\": break\n",
    "\n",
    "    #if OnlyOneLineage: print(node.name, set_Of_ChildLineages )\n",
    "\n",
    "IQ_node_To_PrimaryLin_Dict.update(ID_To_PrimLineage_Dict)\n",
    "    "
   ]
  },
  {
   "cell_type": "code",
   "execution_count": 17,
   "id": "febfbbb2-bdfd-4af1-900c-88fd7fe1489b",
   "metadata": {},
   "outputs": [
    {
     "data": {
      "text/plain": [
       "'mada_2-53'"
      ]
     },
     "execution_count": 17,
     "metadata": {},
     "output_type": "execute_result"
    }
   ],
   "source": [
    "child_node.name"
   ]
  },
  {
   "cell_type": "code",
   "execution_count": 18,
   "id": "81f70828-8e14-491f-8463-d6e2fcbdac89",
   "metadata": {},
   "outputs": [
    {
     "data": {
      "text/plain": [
       "'lineage4'"
      ]
     },
     "execution_count": 18,
     "metadata": {},
     "output_type": "execute_result"
    }
   ],
   "source": [
    "child_node.Primary_lineage"
   ]
  },
  {
   "cell_type": "markdown",
   "id": "31f352d8-cfac-4a71-baea-7d7ffa1832f7",
   "metadata": {},
   "source": [
    "## Output \"node_To_PrimaryLin_Dict\" dictionary "
   ]
  },
  {
   "cell_type": "code",
   "execution_count": 19,
   "id": "f06dd614-a6aa-44b2-81e2-ac7b1d58d0c1",
   "metadata": {},
   "outputs": [],
   "source": [
    "import json \n",
    "\n",
    "IQ_NodeToPriLineage_Dict_JSON = f\"{IQ_PLCFilt_PhyloOutDir}/IQTree.NodeToPrimaryLineage.json\"\n",
    "\n",
    "with open(IQ_NodeToPriLineage_Dict_JSON, 'w') as json_file:\n",
    "    json.dump(IQ_node_To_PrimaryLin_Dict, json_file)\n"
   ]
  },
  {
   "cell_type": "markdown",
   "id": "12c9693c-00c4-4a75-a091-ae89a1f30059",
   "metadata": {},
   "source": [
    "#### test reading back in the JSON"
   ]
  },
  {
   "cell_type": "code",
   "execution_count": 20,
   "id": "2ec86cf3-ceae-44ea-b991-cf37b443557b",
   "metadata": {},
   "outputs": [],
   "source": [
    "with open(IQ_NodeToPriLineage_Dict_JSON) as json_file:\n",
    "    IQ_node_To_PrimaryLin_Dict = json.load(json_file)"
   ]
  },
  {
   "cell_type": "code",
   "execution_count": 21,
   "id": "8cbe93a2-179f-4c81-90f0-fcb8dd2b1b61",
   "metadata": {},
   "outputs": [
    {
     "data": {
      "text/plain": [
       "295"
      ]
     },
     "execution_count": 21,
     "metadata": {},
     "output_type": "execute_result"
    }
   ],
   "source": [
    "len(list(IQ_node_To_PrimaryLin_Dict.keys()))"
   ]
  },
  {
   "cell_type": "code",
   "execution_count": null,
   "id": "0c7e128f-c55c-4081-91a1-f5c33fba295f",
   "metadata": {},
   "outputs": [],
   "source": []
  },
  {
   "cell_type": "code",
   "execution_count": null,
   "id": "8373e198-7b26-4ecd-bdea-1bc54a98291a",
   "metadata": {},
   "outputs": [],
   "source": []
  },
  {
   "cell_type": "code",
   "execution_count": null,
   "id": "c08f1bc6-cd36-404e-b969-627207d8b259",
   "metadata": {},
   "outputs": [],
   "source": []
  },
  {
   "cell_type": "markdown",
   "id": "d6329289-70f7-4afb-9682-e8f2a3e3d797",
   "metadata": {},
   "source": [
    "## Plot phylogeny"
   ]
  },
  {
   "cell_type": "code",
   "execution_count": 22,
   "id": "4da71dd4-1236-4b7c-b971-53a4434a5f36",
   "metadata": {},
   "outputs": [],
   "source": [
    "# Dictionary for lineage to color mapping\n",
    "LinToColor_Dict_OLD = {\n",
    "    \"lineage1\": \"#DF83AC\",\n",
    "    \"lineage2\": \"#7098CB\",\n",
    "    \"lineage3\": \"#815D9F\",\n",
    "    \"lineage4\": \"#E76956\",\n",
    "    \"lineage5\": \"#B67548\",\n",
    "    \"lineage6\": \"#6AB79E\",\n",
    "    \"lineage8\": \"#E4515B\",\n",
    "    \"None\": \"black\",\n",
    "}\n",
    "\n",
    "LinToColor_Dict = {\n",
    "    \"lineage1\": \"#D93467\", \n",
    "    \"lineage2\": \"#4FB2C0\", \n",
    "    \"lineage3\": \"#874391\", \n",
    "    \"lineage4\": \"#E16D3B\", \n",
    "    \"lineage5\": \"#95522E\", \n",
    "    \"lineage6\": \"#429688\", \n",
    "    \"lineage8\": \"#DB4144\", \n",
    "    \"None\": \"black\",\n",
    "}\n",
    "\n",
    "# Extracting the mapping between IsolateID and PrimaryLineage_Ill\n",
    "lineage_mapping = WGA151CI_AsmSummary_DF.set_index('SampleID')['PrimaryLineage'].to_dict()\n",
    "\n",
    "# Creating a color mapping for the samples\n",
    "sample_colors = {sample: LinToColor_Dict.get(lineage, \"black\") for sample, lineage in lineage_mapping.items()}\n"
   ]
  },
  {
   "cell_type": "markdown",
   "id": "1135cf62-b90f-4d55-a517-4438d658a6a6",
   "metadata": {},
   "source": [
    "### Link to ETE3 documentation for tree layout style\n",
    " http://etetoolkit.org/docs/latest/tutorial/tutorial_drawing.html#interactive-visualization-of-trees"
   ]
  },
  {
   "cell_type": "code",
   "execution_count": 23,
   "id": "8db055c0-9045-4ff9-96d3-7040fb51b9c2",
   "metadata": {},
   "outputs": [],
   "source": [
    "\n",
    "def Mtb_ColorBranchByLineage_Layout_IQ(node):\n",
    "    F = ETE.TextFace(node.name, fsize=2)\n",
    "    if node.is_leaf():\n",
    "\n",
    "        nstyle = ETE.NodeStyle() # http://etetoolkit.org/docs/latest/tutorial/tutorial_drawing.html#node-style\n",
    "        nstyle[\"fgcolor\"] = \"black\"\n",
    "        nstyle[\"size\"] = 1\n",
    "        \n",
    "        Node_PrimaryLin = IQ_node_To_PrimaryLin_Dict.get(node.name, \"None\")\n",
    "        \n",
    "        nstyle[\"vt_line_color\"] = LinToColor_Dict.get(Node_PrimaryLin, \"Black\")\n",
    "        nstyle[\"hz_line_color\"] = LinToColor_Dict.get(Node_PrimaryLin, \"Black\")\n",
    "          \n",
    "        node.set_style(nstyle)\n",
    "        node.margin_left = 10     \n",
    "        \n",
    "    else: \n",
    "        nstyle = ETE.NodeStyle() # http://etetoolkit.org/docs/latest/tutorial/tutorial_drawing.html#node-style\n",
    "        nstyle[\"fgcolor\"] = \"black\"\n",
    "        nstyle[\"size\"] = 0\n",
    "        \n",
    "        Node_PrimaryLin = IQ_node_To_PrimaryLin_Dict.get(node.name, \"None\")\n",
    "        \n",
    "        nstyle[\"vt_line_color\"] = LinToColor_Dict.get(Node_PrimaryLin, \"Black\")\n",
    "        nstyle[\"hz_line_color\"] = LinToColor_Dict.get(Node_PrimaryLin, \"Black\")\n",
    "        \n",
    "        node.set_style(nstyle)\n",
    "\n",
    "\n",
    "ts_IQ_circ = ETE.TreeStyle()\n",
    "ts_IQ_circ.mode = \"c\" # draw tree in circular mode\n",
    "ts_IQ_circ.arc_start = 0 #-180 # 0 degrees = 3 o'clock\n",
    "ts_IQ_circ.arc_span = 180\n",
    "ts_IQ_circ.show_leaf_name = False\n",
    "ts_IQ_circ.show_branch_length = False\n",
    "ts_IQ_circ.show_branch_support = False\n",
    "ts_IQ_circ.show_scale = True #True\n",
    "ts_IQ_circ.branch_vertical_margin = 2\n",
    "ts_IQ_circ.layout_fn = Mtb_ColorBranchByLineage_Layout_IQ\n",
    "ts_IQ_circ.scale_length = 0.002\n",
    "\n",
    "ts_IQ = ETE.TreeStyle()\n",
    "ts_IQ.show_leaf_name = False\n",
    "ts_IQ.show_branch_length = False\n",
    "ts_IQ.show_branch_support = False\n",
    "ts_IQ.show_scale = True #True\n",
    "ts_IQ.branch_vertical_margin = 2\n",
    "ts_IQ.layout_fn = Mtb_ColorBranchByLineage_Layout_IQ\n",
    "ts_IQ.rotation = 90\n",
    "ts_IQ.scale_length = 0.002\n",
    "\n"
   ]
  },
  {
   "cell_type": "code",
   "execution_count": null,
   "id": "28d929c3-0b75-4a7e-b484-bd3ad3ce225a",
   "metadata": {},
   "outputs": [],
   "source": []
  },
  {
   "cell_type": "code",
   "execution_count": null,
   "id": "889f55ca-e40b-4333-8e6e-4394aab8b9d6",
   "metadata": {},
   "outputs": [],
   "source": []
  },
  {
   "cell_type": "markdown",
   "id": "3cdd65d7",
   "metadata": {},
   "source": [
    "## Visualize Mtb-151CI Phylogeny"
   ]
  },
  {
   "cell_type": "code",
   "execution_count": 24,
   "id": "39895af0",
   "metadata": {},
   "outputs": [
    {
     "data": {
      "image/png": "[encoded data removed]",
      "text/plain": [
       "<IPython.core.display.Image object>"
      ]
     },
     "execution_count": 24,
     "metadata": {},
     "output_type": "execute_result"
    }
   ],
   "source": [
    "IQ_Tree.render(\"%%inline\", w = 1000, tree_style = ts_IQ)"
   ]
  },
  {
   "cell_type": "code",
   "execution_count": 25,
   "id": "707314a7-6b9b-4b42-8d8e-ebabfb42ab57",
   "metadata": {},
   "outputs": [],
   "source": [
    "## "
   ]
  },
  {
   "cell_type": "code",
   "execution_count": 26,
   "id": "09688277-d969-4a0d-bd2c-bcf3eab33de6",
   "metadata": {},
   "outputs": [
    {
     "name": "stdout",
     "output_type": "stream",
     "text": [
      "mkdir: cannot create directory ‘Results1_Plots/’: File exists\n"
     ]
    }
   ],
   "source": [
    "!mkdir Results1_Plots/"
   ]
  },
  {
   "cell_type": "code",
   "execution_count": 27,
   "id": "54f8498e-a86e-4f68-94dc-f69c3c2a5c9b",
   "metadata": {},
   "outputs": [],
   "source": [
    "Z = IQ_Tree.render(\"Results1_Plots/1.Mtb.151CI.RectPhylo.png\", w = 1000, tree_style = ts_IQ)     "
   ]
  },
  {
   "cell_type": "code",
   "execution_count": 28,
   "id": "2047873a-f644-41d7-9cbb-641c546a566a",
   "metadata": {},
   "outputs": [],
   "source": [
    "Z = IQ_Tree.render(\"Results1_Plots/1.Mtb.151CI.RectPhylo.svg\", w = 1000, tree_style = ts_IQ)    "
   ]
  },
  {
   "cell_type": "markdown",
   "id": "25c7742d-67aa-4955-85e4-0b5337df25c9",
   "metadata": {},
   "source": [
    "#### Get the order of sampleIDs in the visualized phylogeny"
   ]
  },
  {
   "cell_type": "code",
   "execution_count": 29,
   "id": "b7f3bac5",
   "metadata": {},
   "outputs": [],
   "source": [
    "OrderOfSampleIDs_Phylo = [ n.name for n in IQ_Tree.get_leaves() ]  "
   ]
  },
  {
   "cell_type": "code",
   "execution_count": 30,
   "id": "75ad6ec3-4140-4226-8c87-0d78d2d8ed5d",
   "metadata": {},
   "outputs": [
    {
     "name": "stdout",
     "output_type": "stream",
     "text": [
      "['N0153', 'N0072', 'mada_2-46', 'mada_1-44', 'mada_107', 'mada_1-1', 'mada_1-51', 'mada_1-39', 'mada_1-36', 'mada_117', 'mada_122', 'mada_118', 'mada_1-10', 'R27252', 'R23887', 'TB3091', '9050-05', '3003-06', '702-06', '696-05', '8651-04', 'TB3396', '4549-04', 'TB1612', 'TB2780', 'TB3368', 'TB1236', 'TB2659', '8129-04', 'R30215', 'R25048', 'TB2512', 'TB2981', 'TB2995', 'TB3113', '706-05', 'R30078', 'R28012', 'R27657', 'R30234', 'R31095', 'R28703', 'R24120', 'R36431', 'R29816', 'S0070-08', 'N0155', 'N0145', 'R29598', 'R24100', 'S0107-01', 'R28581', 'S0256-08', 'S0085-01', 'S0089-01', 'mada_1-11', 'M0003941_3', 'mada_115', 'mada_2-42', 'R37765', '18_0621851', 'R22601', 'R27937', 'R18040', 'R18043', 'R27725', 'R26791', 'R20574', 'R20260', 'R21408', 'R23146', 'R28980', 'R32929', 'R26778', 'R30420', 'R21893', 'QC-9', 'QC-5', 'QC-3', 'N0004', 'mada_1-30', 'N0054', 'N1274', '01_R1134', 'TB2968', 'mada_1-53', 'mada_2-53', 'mada_1-50', 'mada_2-1', 'R23571', 'mada_123', 'mada_1-12', 'mada_1-15', 'mada_128', 'mada_1-38', 'TB3054', 'mada_126', 'mada_120', 'TB4620', 'M0016737_0', 'M0016395_7', 'R15311', 'TB2661', 'TB3386', 'TB3162', '02_R1179', 'M0010874_7', 'QC-7', 'QC-6', 'QC-1', '01_R1430', 'M0011368_9', '02_R1896', 'mada_2-25', 'TB3237', 'mada_103', 'mada_112', 'mada_124', 'S0123-01', 'S0262-02', 'TB3251', 'M0017522_5', 'R30396', 'R20896', 'mada_1-32', 'S0106-01', 'R21839', 'R21363', 'R21770', 'MT_0080', 'mada_102', 'TB3334', 'M0014888_3', 'mada_151', 'TB3169', 'mada_105', 'QC-8', 'QC-10', 'QC-4', 'mada_129', 'mada_139', '02_R1708', '02_R0894', 'mada_2-31', 'mada_1-41', 'N1272', 'N1176', 'N1202', 'N0091', 'N1177', 'RW-TB008']\n"
     ]
    }
   ],
   "source": [
    "print(OrderOfSampleIDs_Phylo)"
   ]
  },
  {
   "cell_type": "markdown",
   "id": "2eee42a6-b862-4ad7-94ff-c69b8c1842fd",
   "metadata": {},
   "source": [
    "### Visualize phylogeny in semi-circular view"
   ]
  },
  {
   "cell_type": "code",
   "execution_count": 31,
   "id": "df87e58d-3e74-42e3-ab96-cb36b0bd4fc1",
   "metadata": {},
   "outputs": [
    {
     "data": {
      "image/png": "[encoded data removed]",
      "text/plain": [
       "<IPython.core.display.Image object>"
      ]
     },
     "execution_count": 31,
     "metadata": {},
     "output_type": "execute_result"
    }
   ],
   "source": [
    "IQ_Tree.render(\"%%inline\", w = 1000, tree_style = ts_IQ_circ)"
   ]
  },
  {
   "cell_type": "code",
   "execution_count": null,
   "id": "105238f7-fd5a-47c6-a592-ea2c150e5be4",
   "metadata": {},
   "outputs": [],
   "source": []
  },
  {
   "cell_type": "code",
   "execution_count": null,
   "id": "b744435f-3af4-42df-8daa-2af2885375a1",
   "metadata": {},
   "outputs": [],
   "source": []
  },
  {
   "cell_type": "code",
   "execution_count": null,
   "id": "31cf5363-8ed6-47cc-9862-d52a1e03ba8e",
   "metadata": {},
   "outputs": [],
   "source": []
  },
  {
   "cell_type": "markdown",
   "id": "2721d9f0-3e49-4cd4-9f10-109381be6af2",
   "metadata": {},
   "source": [
    "#  k-mer jaccard similarity (31-mer) analysis - 151 Mtb genomes"
   ]
  },
  {
   "cell_type": "markdown",
   "id": "4703e431",
   "metadata": {},
   "source": [
    "## Parse SourMASH output files"
   ]
  },
  {
   "cell_type": "code",
   "execution_count": 32,
   "id": "1c2250fe",
   "metadata": {},
   "outputs": [],
   "source": [
    "SourMASH_MainDir = f\"{Mtb_SMK_Pipeline_OutputDir}/SourMash\"\n",
    "\n",
    "# SourMASH Default Out\n",
    "SourMASH_AllVsAll_Default_OutDir = f\"{SourMASH_MainDir}/CompareAllAsm_Default\"\n",
    "\n",
    "SM_AvA_Default_JS_OUT = f\"{SourMASH_AllVsAll_Default_OutDir}/SourMash.Compare.Default.out\"\n",
    "SM_AvA_Default_Labels_TXT = f\"{SourMASH_AllVsAll_Default_OutDir}/SourMash.Compare.Default.out.labels.txt\"\n",
    "\n",
    "# SourMASH Scaled Out\n",
    "SourMASH_AllVsAll_Scaled_OutDir = f\"{SourMASH_MainDir}/CompareAllAsm_Scaled1\"\n",
    "\n",
    "SM_AvA_Scaled1_JS_OUT = f\"{SourMASH_AllVsAll_Scaled_OutDir}/SourMash.Compare.Scaled1.out\"\n",
    "SM_AvA_Scaled1_Labels_TXT = f\"{SourMASH_AllVsAll_Scaled_OutDir}/SourMash.Compare.Scaled1.out.labels.txt\"\n"
   ]
  },
  {
   "cell_type": "code",
   "execution_count": 33,
   "id": "95ea80c7",
   "metadata": {},
   "outputs": [
    {
     "data": {
      "text/plain": [
       "(151,)"
      ]
     },
     "execution_count": 33,
     "metadata": {},
     "output_type": "execute_result"
    }
   ],
   "source": [
    "SM_AvA_Labels = pd.read_csv(SM_AvA_Scaled1_Labels_TXT, sep = \"\\t\", header = None)[0].str.split(\"/\").str[-1].str.split(\".\").str[0]\n",
    "SM_AvA_Labels.shape"
   ]
  },
  {
   "cell_type": "code",
   "execution_count": 34,
   "id": "48d58d5a",
   "metadata": {},
   "outputs": [
    {
     "data": {
      "text/plain": [
       "0     N0072\n",
       "1     N0153\n",
       "2    TB3113\n",
       "Name: 0, dtype: object"
      ]
     },
     "execution_count": 34,
     "metadata": {},
     "output_type": "execute_result"
    }
   ],
   "source": [
    "SM_AvA_Labels.head(3)"
   ]
  },
  {
   "cell_type": "code",
   "execution_count": null,
   "id": "cf7042b2-9f39-40af-954b-0f4cf36ddb51",
   "metadata": {},
   "outputs": [],
   "source": []
  },
  {
   "cell_type": "markdown",
   "id": "63501ef4",
   "metadata": {},
   "source": [
    "## Parse the Jaccard Simularity of k-mers (k = 31 bp)"
   ]
  },
  {
   "cell_type": "code",
   "execution_count": 35,
   "id": "4dd1fcb3",
   "metadata": {},
   "outputs": [],
   "source": [
    "AvA_LR_JS_NP = np.load(SM_AvA_Scaled1_JS_OUT)\n",
    "AvA_LR_JS_DF = pd.DataFrame(AvA_LR_JS_NP)\n",
    "\n",
    "AvA_LR_JS_DF.columns = SM_AvA_Labels\n",
    "AvA_LR_JS_DF.index = SM_AvA_Labels\n"
   ]
  },
  {
   "cell_type": "code",
   "execution_count": 36,
   "id": "820c348b",
   "metadata": {},
   "outputs": [],
   "source": [
    "#AvA_LR_JS_DF.head(2)"
   ]
  },
  {
   "cell_type": "markdown",
   "id": "212b6051-6154-4352-b174-fb699577e0ef",
   "metadata": {},
   "source": [
    "## Let's peak at a 2 by 2 subset of the JS matrix"
   ]
  },
  {
   "cell_type": "code",
   "execution_count": 37,
   "id": "7223e42b",
   "metadata": {},
   "outputs": [
    {
     "data": {
      "text/html": [
       "<div>\n",
       "<style scoped>\n",
       "    .dataframe tbody tr th:only-of-type {\n",
       "        vertical-align: middle;\n",
       "    }\n",
       "\n",
       "    .dataframe tbody tr th {\n",
       "        vertical-align: top;\n",
       "    }\n",
       "\n",
       "    .dataframe thead th {\n",
       "        text-align: right;\n",
       "    }\n",
       "</style>\n",
       "<table border=\"1\" class=\"dataframe\">\n",
       "  <thead>\n",
       "    <tr style=\"text-align: right;\">\n",
       "      <th></th>\n",
       "      <th>N0072</th>\n",
       "      <th>N0153</th>\n",
       "    </tr>\n",
       "    <tr>\n",
       "      <th>0</th>\n",
       "      <th></th>\n",
       "      <th></th>\n",
       "    </tr>\n",
       "  </thead>\n",
       "  <tbody>\n",
       "    <tr>\n",
       "      <th>N0072</th>\n",
       "      <td>1.000000</td>\n",
       "      <td>0.977294</td>\n",
       "    </tr>\n",
       "    <tr>\n",
       "      <th>N0153</th>\n",
       "      <td>0.977294</td>\n",
       "      <td>1.000000</td>\n",
       "    </tr>\n",
       "  </tbody>\n",
       "</table>\n",
       "</div>"
      ],
      "text/plain": [
       "0         N0072     N0153\n",
       "0                        \n",
       "N0072  1.000000  0.977294\n",
       "N0153  0.977294  1.000000"
      ]
     },
     "execution_count": 37,
     "metadata": {},
     "output_type": "execute_result"
    }
   ],
   "source": [
    "AvA_LR_JS_DF.loc[[\"N0072\", \"N0153\",], [\"N0072\", \"N0153\",]]"
   ]
  },
  {
   "cell_type": "markdown",
   "id": "735c0833-64c8-4118-87f0-1051f453592f",
   "metadata": {},
   "source": [
    "## Let's reformat the JS matrix to pairwise JS scores"
   ]
  },
  {
   "cell_type": "code",
   "execution_count": 38,
   "id": "9a170441",
   "metadata": {},
   "outputs": [
    {
     "data": {
      "text/plain": [
       "(22650, 3)"
      ]
     },
     "execution_count": 38,
     "metadata": {},
     "output_type": "execute_result"
    }
   ],
   "source": [
    "AvA_LR_JS_DF.index = AvA_LR_JS_DF.index.rename(\"SampleID_1\")\n",
    "AvA_LR_JS_DF.columns = AvA_LR_JS_DF.columns.rename(\"SampleID_2\")\n",
    "\n",
    "LR_JaccSim_Pairwise_DF = AvA_LR_JS_DF.stack().reset_index()\n",
    "\n",
    "LR_JaccSim_Pairwise_DF.columns = [\"SampleID_1\", \"SampleID_2\", \"Mash_JS\"]\n",
    "LR_JaccSim_Pairwise_DF.sort_values([\"SampleID_1\", \"SampleID_2\"])\n",
    "\n",
    "LR_JaccSim_Pairwise_DF = LR_JaccSim_Pairwise_DF.query(\" SampleID_1 != SampleID_2 \")\n",
    "\n",
    "LR_JaccSim_Pairwise_DF.shape "
   ]
  },
  {
   "cell_type": "code",
   "execution_count": 39,
   "id": "ab7cbc07",
   "metadata": {},
   "outputs": [
    {
     "data": {
      "text/html": [
       "<div>\n",
       "<style scoped>\n",
       "    .dataframe tbody tr th:only-of-type {\n",
       "        vertical-align: middle;\n",
       "    }\n",
       "\n",
       "    .dataframe tbody tr th {\n",
       "        vertical-align: top;\n",
       "    }\n",
       "\n",
       "    .dataframe thead th {\n",
       "        text-align: right;\n",
       "    }\n",
       "</style>\n",
       "<table border=\"1\" class=\"dataframe\">\n",
       "  <thead>\n",
       "    <tr style=\"text-align: right;\">\n",
       "      <th></th>\n",
       "      <th>SampleID_1</th>\n",
       "      <th>SampleID_2</th>\n",
       "      <th>Mash_JS</th>\n",
       "    </tr>\n",
       "  </thead>\n",
       "  <tbody>\n",
       "    <tr>\n",
       "      <th>1</th>\n",
       "      <td>N0072</td>\n",
       "      <td>N0153</td>\n",
       "      <td>0.977294</td>\n",
       "    </tr>\n",
       "    <tr>\n",
       "      <th>2</th>\n",
       "      <td>N0072</td>\n",
       "      <td>TB3113</td>\n",
       "      <td>0.953578</td>\n",
       "    </tr>\n",
       "  </tbody>\n",
       "</table>\n",
       "</div>"
      ],
      "text/plain": [
       "  SampleID_1 SampleID_2   Mash_JS\n",
       "1      N0072      N0153  0.977294\n",
       "2      N0072     TB3113  0.953578"
      ]
     },
     "execution_count": 39,
     "metadata": {},
     "output_type": "execute_result"
    }
   ],
   "source": [
    "LR_JaccSim_Pairwise_DF.head(2)"
   ]
  },
  {
   "cell_type": "markdown",
   "id": "84f6d5d5-82c7-4eb4-a1df-b0f77c6fe287",
   "metadata": {},
   "source": [
    "### What are the most similar genomes by k-mer JS?"
   ]
  },
  {
   "cell_type": "code",
   "execution_count": 40,
   "id": "49a227f2-428a-45cc-ae67-8896c0123d2a",
   "metadata": {},
   "outputs": [
    {
     "data": {
      "text/html": [
       "<div>\n",
       "<style scoped>\n",
       "    .dataframe tbody tr th:only-of-type {\n",
       "        vertical-align: middle;\n",
       "    }\n",
       "\n",
       "    .dataframe tbody tr th {\n",
       "        vertical-align: top;\n",
       "    }\n",
       "\n",
       "    .dataframe thead th {\n",
       "        text-align: right;\n",
       "    }\n",
       "</style>\n",
       "<table border=\"1\" class=\"dataframe\">\n",
       "  <thead>\n",
       "    <tr style=\"text-align: right;\">\n",
       "      <th></th>\n",
       "      <th>SampleID_1</th>\n",
       "      <th>SampleID_2</th>\n",
       "      <th>Mash_JS</th>\n",
       "    </tr>\n",
       "  </thead>\n",
       "  <tbody>\n",
       "    <tr>\n",
       "      <th>22498</th>\n",
       "      <td>S0123-01</td>\n",
       "      <td>S0262-02</td>\n",
       "      <td>0.999986</td>\n",
       "    </tr>\n",
       "    <tr>\n",
       "      <th>22798</th>\n",
       "      <td>S0262-02</td>\n",
       "      <td>S0123-01</td>\n",
       "      <td>0.999986</td>\n",
       "    </tr>\n",
       "    <tr>\n",
       "      <th>13367</th>\n",
       "      <td>R28012</td>\n",
       "      <td>R30078</td>\n",
       "      <td>0.999918</td>\n",
       "    </tr>\n",
       "    <tr>\n",
       "      <th>12017</th>\n",
       "      <td>R30078</td>\n",
       "      <td>R28012</td>\n",
       "      <td>0.999918</td>\n",
       "    </tr>\n",
       "  </tbody>\n",
       "</table>\n",
       "</div>"
      ],
      "text/plain": [
       "      SampleID_1 SampleID_2   Mash_JS\n",
       "22498   S0123-01   S0262-02  0.999986\n",
       "22798   S0262-02   S0123-01  0.999986\n",
       "13367     R28012     R30078  0.999918\n",
       "12017     R30078     R28012  0.999918"
      ]
     },
     "execution_count": 40,
     "metadata": {},
     "output_type": "execute_result"
    }
   ],
   "source": [
    "LR_JaccSim_Pairwise_DF.sort_values(\"Mash_JS\", ascending=False).head(4)"
   ]
  },
  {
   "cell_type": "markdown",
   "id": "0ced13a4-ec20-4999-a929-61c03db8465e",
   "metadata": {},
   "source": [
    "### What are the most dissimilar genomes by k-mer JS?"
   ]
  },
  {
   "cell_type": "code",
   "execution_count": 41,
   "id": "d2df37c2-7f88-4363-85f4-30cceaf67f61",
   "metadata": {},
   "outputs": [
    {
     "data": {
      "text/html": [
       "<div>\n",
       "<style scoped>\n",
       "    .dataframe tbody tr th:only-of-type {\n",
       "        vertical-align: middle;\n",
       "    }\n",
       "\n",
       "    .dataframe tbody tr th {\n",
       "        vertical-align: top;\n",
       "    }\n",
       "\n",
       "    .dataframe thead th {\n",
       "        text-align: right;\n",
       "    }\n",
       "</style>\n",
       "<table border=\"1\" class=\"dataframe\">\n",
       "  <thead>\n",
       "    <tr style=\"text-align: right;\">\n",
       "      <th></th>\n",
       "      <th>SampleID_1</th>\n",
       "      <th>SampleID_2</th>\n",
       "      <th>Mash_JS</th>\n",
       "    </tr>\n",
       "  </thead>\n",
       "  <tbody>\n",
       "    <tr>\n",
       "      <th>22498</th>\n",
       "      <td>S0123-01</td>\n",
       "      <td>S0262-02</td>\n",
       "      <td>0.999986</td>\n",
       "    </tr>\n",
       "    <tr>\n",
       "      <th>22798</th>\n",
       "      <td>S0262-02</td>\n",
       "      <td>S0123-01</td>\n",
       "      <td>0.999986</td>\n",
       "    </tr>\n",
       "    <tr>\n",
       "      <th>13367</th>\n",
       "      <td>R28012</td>\n",
       "      <td>R30078</td>\n",
       "      <td>0.999918</td>\n",
       "    </tr>\n",
       "    <tr>\n",
       "      <th>12017</th>\n",
       "      <td>R30078</td>\n",
       "      <td>R28012</td>\n",
       "      <td>0.999918</td>\n",
       "    </tr>\n",
       "  </tbody>\n",
       "</table>\n",
       "</div>"
      ],
      "text/plain": [
       "      SampleID_1 SampleID_2   Mash_JS\n",
       "22498   S0123-01   S0262-02  0.999986\n",
       "22798   S0262-02   S0123-01  0.999986\n",
       "13367     R28012     R30078  0.999918\n",
       "12017     R30078     R28012  0.999918"
      ]
     },
     "execution_count": 41,
     "metadata": {},
     "output_type": "execute_result"
    }
   ],
   "source": [
    "LR_JaccSim_Pairwise_DF.sort_values(\"Mash_JS\", ascending=False).head(4)"
   ]
  },
  {
   "cell_type": "markdown",
   "id": "12e62551-2409-479d-b1bc-9bb5f58601b6",
   "metadata": {},
   "source": [
    "### Describe the distribution of k-mer JS values"
   ]
  },
  {
   "cell_type": "code",
   "execution_count": 42,
   "id": "2d1da720-56bd-4684-94c2-24fe7ab8ca8f",
   "metadata": {},
   "outputs": [
    {
     "data": {
      "text/plain": [
       "count    22650.000000\n",
       "mean         0.969506\n",
       "std          0.013758\n",
       "min          0.935922\n",
       "25%          0.960886\n",
       "50%          0.967502\n",
       "75%          0.978211\n",
       "max          0.999986\n",
       "Name: Mash_JS, dtype: float64"
      ]
     },
     "execution_count": 42,
     "metadata": {},
     "output_type": "execute_result"
    }
   ],
   "source": [
    "LR_JaccSim_Pairwise_DF[\"Mash_JS\"].describe()"
   ]
  },
  {
   "cell_type": "code",
   "execution_count": null,
   "id": "5f137e37-3865-48c6-a49e-041d9690af6f",
   "metadata": {},
   "outputs": [],
   "source": []
  },
  {
   "cell_type": "markdown",
   "id": "83c463ea-0ef5-400a-aa50-de0c11f94eca",
   "metadata": {},
   "source": [
    "#### output parsed 31-mer Jaccard Similarity results to TSV"
   ]
  },
  {
   "cell_type": "code",
   "execution_count": 43,
   "id": "63a9983e-eaa1-4b31-98e7-1bb869d07e7b",
   "metadata": {},
   "outputs": [],
   "source": [
    "GenomeSim_OutDir = \"../../Data/GenomeSimilarity_MtbAndEcoli\"\n",
    "!mkdir $GenomeSim_OutDir"
   ]
  },
  {
   "cell_type": "code",
   "execution_count": 44,
   "id": "81e2d9e4-f208-4633-a8fe-cec0dae1e489",
   "metadata": {},
   "outputs": [],
   "source": [
    "KmerJS_AvA_Mtb_TSV = f\"{GenomeSim_OutDir}/Sourmash.31merJaccardSim.Stats.Mtb151CI.tsv\"\n",
    "\n",
    "LR_JaccSim_Pairwise_DF.to_csv(KmerJS_AvA_Mtb_TSV, sep = \"\\t\", index=False)"
   ]
  },
  {
   "cell_type": "code",
   "execution_count": 76,
   "id": "d0082d3e-e2f4-4bfa-aaec-976f7fabde8d",
   "metadata": {},
   "outputs": [
    {
     "name": "stdout",
     "output_type": "stream",
     "text": [
      "FastANI.Stats.Ecoli50CI.tsv\n",
      "FastANI.Stats.Mtb151CI.tsv\n",
      "Sourmash.31merJaccardSim.Stats.Ecoli50CI.tsv\n",
      "Sourmash.31merJaccardSim.Stats.Mtb151CI.tsv\n"
     ]
    }
   ],
   "source": [
    "!ls -1 $GenomeSim_OutDir"
   ]
  },
  {
   "cell_type": "code",
   "execution_count": null,
   "id": "a74eac49-fb49-4cd4-a594-46193cd53880",
   "metadata": {},
   "outputs": [],
   "source": []
  },
  {
   "cell_type": "code",
   "execution_count": null,
   "id": "5016da8e-5390-4cb3-ba3d-497efce12602",
   "metadata": {},
   "outputs": [],
   "source": []
  },
  {
   "cell_type": "code",
   "execution_count": null,
   "id": "6cd40b34-ec8e-49e0-9abf-8bec94019e5a",
   "metadata": {},
   "outputs": [],
   "source": []
  },
  {
   "cell_type": "code",
   "execution_count": null,
   "id": "2a5aecd8-ec98-4eaa-a94a-385394186cc9",
   "metadata": {},
   "outputs": [],
   "source": []
  },
  {
   "cell_type": "markdown",
   "id": "98f45d2d",
   "metadata": {},
   "source": [
    "# Plot the distribution of K-mer JCs between all LR Assemblies"
   ]
  },
  {
   "cell_type": "code",
   "execution_count": 46,
   "id": "4c211a79-3a7c-46fc-bf1c-f27ba51d3e67",
   "metadata": {},
   "outputs": [],
   "source": [
    "sns.set_context(\"paper\", font_scale=3)"
   ]
  },
  {
   "cell_type": "code",
   "execution_count": null,
   "id": "bcaf093c-450f-4fb6-9354-0c1b1ba2dd06",
   "metadata": {},
   "outputs": [],
   "source": []
  },
  {
   "cell_type": "code",
   "execution_count": 47,
   "id": "7a3d602d-1ffb-4b9c-91f3-914a0154864a",
   "metadata": {},
   "outputs": [
    {
     "data": {
      "image/png": "[encoded data removed]",
      "text/plain": [
       "<Figure size 864x288 with 1 Axes>"
      ]
     },
     "metadata": {
      "needs_background": "light"
     },
     "output_type": "display_data"
    }
   ],
   "source": [
    "fig, ax1 = plt.subplots(figsize=(12,4))\n",
    "\n",
    "\n",
    "sns.histplot(LR_JaccSim_Pairwise_DF[\"Mash_JS\"],\n",
    "             bins = np.arange(0, 1.05, 0.0025),\n",
    "             edgecolor='white',\n",
    "             color = '#4F4F4F',\n",
    "             alpha = 1, ax = ax1, zorder = 3)\n",
    "\n",
    "sns.despine()\n",
    "\n",
    "plt.xlabel(\"k-mer Jaccard Index (k = 31 bp)\")\n",
    "plt.ylabel(\"Count\")\n",
    "plt.xlim(0.93, 1.00)\n",
    "\n",
    "plt.savefig(\"Results1_Plots/1.KmerJS.Histo.png\", dpi = 300)\n",
    "plt.savefig(\"Results1_Plots/1.KmerJS.Histo.svg\")\n",
    "\n",
    "plt.show()\n"
   ]
  },
  {
   "cell_type": "code",
   "execution_count": null,
   "id": "359c11e8-1765-4c53-ba25-a7c1d27df912",
   "metadata": {},
   "outputs": [],
   "source": []
  },
  {
   "cell_type": "code",
   "execution_count": 48,
   "id": "2be9626a-5bba-4996-9660-750e14f2a2ba",
   "metadata": {},
   "outputs": [
    {
     "data": {
      "image/png": "[encoded data removed]",
      "text/plain": [
       "<Figure size 864x288 with 1 Axes>"
      ]
     },
     "metadata": {
      "needs_background": "light"
     },
     "output_type": "display_data"
    }
   ],
   "source": [
    "fig, ax1 = plt.subplots(figsize=(12,4))\n",
    "\n",
    "#sns.set_style(None)\n",
    "#sns.set()\n",
    "\n",
    "ax1.grid(axis='y', zorder=0, linewidth=.7, color = \"white\" )\n",
    "sns.set_style(rc={'axes.facecolor': '#E8E8E8'})\n",
    "\n",
    "sns.histplot(LR_JaccSim_Pairwise_DF[\"Mash_JS\"],\n",
    "             bins = np.arange(0, 1.05, 0.0025),\n",
    "             edgecolor='white',\n",
    "             color = '#4F4F4F',\n",
    "             alpha = 1, ax = ax1, zorder = 3)\n",
    "\n",
    "sns.despine()\n",
    "\n",
    "plt.xlabel(\"k-mer Jaccard Index (k = 31 bp)\")\n",
    "plt.ylabel(\"Count\")\n",
    "plt.xlim(0.93, 1.00)\n",
    "\n",
    "ticks_ax_limewidth = 2\n",
    "\n",
    "ax1.tick_params('both', length=15, width=ticks_ax_limewidth, which='major')\n",
    "\n",
    "for axis in ['bottom','left']:\n",
    "    ax1.spines[axis].set_linewidth(ticks_ax_limewidth)\n",
    "\n",
    "plt.show()\n"
   ]
  },
  {
   "cell_type": "code",
   "execution_count": null,
   "id": "8a6c8f77-0f3c-4e8f-b8a3-8591b2fc95d3",
   "metadata": {},
   "outputs": [],
   "source": []
  },
  {
   "cell_type": "code",
   "execution_count": null,
   "id": "7443c6ad-8984-42d0-9621-04274a331b71",
   "metadata": {},
   "outputs": [],
   "source": []
  },
  {
   "cell_type": "code",
   "execution_count": null,
   "id": "3bf6e4cc",
   "metadata": {},
   "outputs": [],
   "source": []
  },
  {
   "cell_type": "markdown",
   "id": "2fe43320",
   "metadata": {},
   "source": [
    "## Make a HeatMap of Jaccard Simularity between assemblies"
   ]
  },
  {
   "cell_type": "code",
   "execution_count": 49,
   "id": "ccfa4f34",
   "metadata": {},
   "outputs": [],
   "source": [
    "#OrderOfSampleIDs_Phylo"
   ]
  },
  {
   "cell_type": "code",
   "execution_count": 50,
   "id": "ba1f9149",
   "metadata": {},
   "outputs": [
    {
     "data": {
      "text/plain": [
       "(151, 151)"
      ]
     },
     "execution_count": 50,
     "metadata": {},
     "output_type": "execute_result"
    }
   ],
   "source": [
    "# Reorder the matrix of Jaccard Sim between all assemblies to fit phylogeny\n",
    "\n",
    "AvA_LR_JS_Ordered_DF = AvA_LR_JS_DF.loc[OrderOfSampleIDs_Phylo, OrderOfSampleIDs_Phylo]\n",
    "AvA_LR_JS_Ordered_DF.shape"
   ]
  },
  {
   "cell_type": "markdown",
   "id": "71bde978-fd1e-4993-9e01-cb015560f219",
   "metadata": {},
   "source": [
    "#### Make sample lineage & color mapping"
   ]
  },
  {
   "cell_type": "code",
   "execution_count": 51,
   "id": "35de01b0-d9c5-47a8-b26c-f13331ce0585",
   "metadata": {},
   "outputs": [
    {
     "data": {
      "image/png": "[encoded data removed]",
      "text/plain": [
       "<Figure size 1800x1800 with 6 Axes>"
      ]
     },
     "metadata": {
      "needs_background": "light"
     },
     "output_type": "display_data"
    }
   ],
   "source": [
    "fig_dims = (25, 25)\n",
    "\n",
    "row_colors = [sample_colors.get(sample, \"black\") for sample in AvA_LR_JS_Ordered_DF.index]\n",
    "col_colors = [sample_colors.get(sample, \"black\") for sample in AvA_LR_JS_Ordered_DF.columns]\n",
    "\n",
    "clustermap_plot = sns.clustermap(AvA_LR_JS_Ordered_DF, \n",
    "                                 row_colors=row_colors,\n",
    "                                 col_colors=col_colors,\n",
    "                                 figsize=fig_dims, \n",
    "                                 row_cluster=False, col_cluster=False,\n",
    "                                 cmap='rocket_r',\n",
    "                                 #cbar_pos = None,\n",
    "                                 linewidths=0,\n",
    "                                 xticklabels=False,\n",
    "                                 yticklabels=False, vmin = 0.93 )\n",
    "\n",
    "plt.ylabel(\"\")\n",
    "plt.xlabel(\"\")\n",
    "\n",
    "plt.savefig(\"Results1_Plots/1.KmerJS.heatmap.NoLabels.png\", dpi = 300)\n",
    "plt.savefig(\"Results1_Plots/1.KmerJS.heatmap.NoLabels.svg\")\n"
   ]
  },
  {
   "cell_type": "code",
   "execution_count": null,
   "id": "214191c8-9662-46bd-9431-64c099048209",
   "metadata": {},
   "outputs": [],
   "source": []
  },
  {
   "cell_type": "code",
   "execution_count": null,
   "id": "802d4f9b-fb10-4963-8939-371114f99123",
   "metadata": {},
   "outputs": [],
   "source": []
  },
  {
   "cell_type": "code",
   "execution_count": null,
   "id": "a00d2070-ce3b-487c-b70f-f3b3159a63bf",
   "metadata": {},
   "outputs": [],
   "source": []
  },
  {
   "cell_type": "code",
   "execution_count": null,
   "id": "b838b734-f65e-4708-9e4d-60d385c89beb",
   "metadata": {},
   "outputs": [],
   "source": []
  },
  {
   "cell_type": "markdown",
   "id": "86ed998a-0afb-4a67-9fc3-b42ca1afb108",
   "metadata": {},
   "source": [
    "# FastANI Analysis - 151 Mtb genomes"
   ]
  },
  {
   "cell_type": "markdown",
   "id": "3230e257",
   "metadata": {},
   "source": [
    "# Parse FastANI output (All vs All)"
   ]
  },
  {
   "cell_type": "code",
   "execution_count": 52,
   "id": "82d7173a",
   "metadata": {},
   "outputs": [],
   "source": [
    "FastANI_MainDir = f\"{Mtb_SMK_Pipeline_OutputDir}/FastANI\"\n",
    "\n",
    "LR_Asm_AllVsAll_OutDir = f\"{FastANI_MainDir}/FastANI_LRAsm\"\n",
    "\n",
    "AvA_151CI_FastANI_LRAsm_TXT = f\"{LR_Asm_AllVsAll_OutDir}/FastANI.AllVsAll.LRAsm.txt\"\n",
    "\n",
    "AvA_151CIWiH37Rv_FastANI_LRAsm_TXT = f\"{LR_Asm_AllVsAll_OutDir}/FastANI.AllVsAll.WiH37Rv.LRAsm.txt\"     \n"
   ]
  },
  {
   "cell_type": "code",
   "execution_count": 53,
   "id": "bda277de",
   "metadata": {},
   "outputs": [
    {
     "name": "stdout",
     "output_type": "stream",
     "text": [
      "total 8.3M\n",
      "drwxrwsr-x 2 mm774 farhat   96 Nov 22 14:04 .\n",
      "drwxrwsr-x 4 mm774 farhat  102 Nov 22 12:05 ..\n",
      "-rw-rw-r-- 1 mm774 farhat 7.1M Nov 22 13:55 FastANI.AllVsAll.LRAsm.txt\n",
      "-rw-rw-r-- 1 mm774 farhat 7.2M Nov 22 14:05 FastANI.AllVsAll.WiH37Rv.LRAsm.txt\n"
     ]
    }
   ],
   "source": [
    "!ls -lah $LR_Asm_AllVsAll_OutDir"
   ]
  },
  {
   "cell_type": "code",
   "execution_count": 54,
   "id": "45dc8c37",
   "metadata": {},
   "outputs": [
    {
     "name": "stdout",
     "output_type": "stream",
     "text": [
      "230905_Ecoli_50CI_Metadata_Shaw2021\n",
      "231121_HybridMtbAsm_QCPass_Meta_Set3_AsmPolishStats_OLD\n",
      "231121.InputAsmTSVs.MtbSetV3.151CI\n",
      "231130_Mtb_HybridVsSR_AsmSummary_TSVs\n",
      "240116.PG_Results\n",
      "Ecoli_50CI_Phylo\n",
      "Evaluate_SRAsmPGAnalysis_WiHybridAsm\n",
      "GenomeSimilarity_MtbAndEcoli\n",
      "MtbPangenomeAnalysis_SetV3\n",
      "MtbPangenomeAnalysis_SetV4\n",
      "README.md\n",
      "SRAENA_RunMetadata\n"
     ]
    }
   ],
   "source": [
    "!ls -1 ../../Data"
   ]
  },
  {
   "cell_type": "code",
   "execution_count": 55,
   "id": "ae15fe3d-48e1-484c-8744-1d6438daa9a6",
   "metadata": {},
   "outputs": [
    {
     "name": "stdout",
     "output_type": "stream",
     "text": [
      "mkdir: cannot create directory ‘../../Data/GenomeSimilarity_MtbAndEcoli/’: File exists\n"
     ]
    }
   ],
   "source": [
    "!mkdir ../../Data/GenomeSimilarity_MtbAndEcoli/"
   ]
  },
  {
   "cell_type": "code",
   "execution_count": 56,
   "id": "a047b104-7f9b-4433-aed7-46363f1d0d66",
   "metadata": {},
   "outputs": [],
   "source": [
    "#!cp $AvA_151CI_FastANI_LRAsm_TXT ../../Data/GenomeSimilarity_MtbAndEcoli/"
   ]
  },
  {
   "cell_type": "code",
   "execution_count": null,
   "id": "c2408bc2-be93-44e5-8382-223d5accdaa4",
   "metadata": {},
   "outputs": [],
   "source": []
  },
  {
   "cell_type": "code",
   "execution_count": 57,
   "id": "67aa5119",
   "metadata": {},
   "outputs": [
    {
     "data": {
      "text/plain": [
       "(22801, 5)"
      ]
     },
     "execution_count": 57,
     "metadata": {},
     "output_type": "execute_result"
    }
   ],
   "source": [
    "FANI_AvA_DF = pd.read_csv(AvA_151CI_FastANI_LRAsm_TXT, sep = \"\\t\", header = None)\n",
    "FANI_AvA_DF.columns = [\"Query\", \"Ref\", \"ANI\", \"Bidirect_FragMap\", \"Total_Query_Frags\"]\n",
    "\n",
    "# Trim down full file path to JUST the SampleID (For Query and Reference genomes)\n",
    "FANI_AvA_DF[\"Query\"] = FANI_AvA_DF[\"Query\"].str.split(\"/\").str[-1].str.split(\".\").str[0]\n",
    "FANI_AvA_DF[\"Ref\"] = FANI_AvA_DF[\"Ref\"].str.split(\"/\").str[-1].str.split(\".\").str[0]\n",
    "\n",
    "FANI_AvA_DF.shape"
   ]
  },
  {
   "cell_type": "code",
   "execution_count": 58,
   "id": "ea5a6eaa",
   "metadata": {},
   "outputs": [
    {
     "data": {
      "text/html": [
       "<div>\n",
       "<style scoped>\n",
       "    .dataframe tbody tr th:only-of-type {\n",
       "        vertical-align: middle;\n",
       "    }\n",
       "\n",
       "    .dataframe tbody tr th {\n",
       "        vertical-align: top;\n",
       "    }\n",
       "\n",
       "    .dataframe thead th {\n",
       "        text-align: right;\n",
       "    }\n",
       "</style>\n",
       "<table border=\"1\" class=\"dataframe\">\n",
       "  <thead>\n",
       "    <tr style=\"text-align: right;\">\n",
       "      <th></th>\n",
       "      <th>Query</th>\n",
       "      <th>Ref</th>\n",
       "      <th>ANI</th>\n",
       "      <th>Bidirect_FragMap</th>\n",
       "      <th>Total_Query_Frags</th>\n",
       "    </tr>\n",
       "  </thead>\n",
       "  <tbody>\n",
       "    <tr>\n",
       "      <th>0</th>\n",
       "      <td>N0072</td>\n",
       "      <td>N0072</td>\n",
       "      <td>100.0000</td>\n",
       "      <td>1473</td>\n",
       "      <td>1473</td>\n",
       "    </tr>\n",
       "    <tr>\n",
       "      <th>1</th>\n",
       "      <td>N0072</td>\n",
       "      <td>mada_118</td>\n",
       "      <td>99.9727</td>\n",
       "      <td>1470</td>\n",
       "      <td>1473</td>\n",
       "    </tr>\n",
       "  </tbody>\n",
       "</table>\n",
       "</div>"
      ],
      "text/plain": [
       "   Query       Ref       ANI  Bidirect_FragMap  Total_Query_Frags\n",
       "0  N0072     N0072  100.0000              1473               1473\n",
       "1  N0072  mada_118   99.9727              1470               1473"
      ]
     },
     "execution_count": 58,
     "metadata": {},
     "output_type": "execute_result"
    }
   ],
   "source": [
    "FANI_AvA_DF.head(2)"
   ]
  },
  {
   "cell_type": "code",
   "execution_count": 59,
   "id": "bcb71a65",
   "metadata": {},
   "outputs": [
    {
     "data": {
      "text/plain": [
       "(22650, 5)"
      ]
     },
     "execution_count": 59,
     "metadata": {},
     "output_type": "execute_result"
    }
   ],
   "source": [
    "FANI_AvA_NoSelf_DF = FANI_AvA_DF.query(\" Query != Ref \")\n",
    "FANI_AvA_NoSelf_DF.shape"
   ]
  },
  {
   "cell_type": "code",
   "execution_count": 60,
   "id": "a567098a-d923-4ca3-b93e-588346676d5f",
   "metadata": {},
   "outputs": [
    {
     "data": {
      "text/plain": [
       "count    22650.000000\n",
       "mean        99.912547\n",
       "std          0.036683\n",
       "min         99.805100\n",
       "25%         99.890500\n",
       "50%         99.907400\n",
       "75%         99.936900\n",
       "max        100.000000\n",
       "Name: ANI, dtype: float64"
      ]
     },
     "execution_count": 60,
     "metadata": {},
     "output_type": "execute_result"
    }
   ],
   "source": [
    "FANI_AvA_NoSelf_DF[\"ANI\"].describe()"
   ]
  },
  {
   "cell_type": "code",
   "execution_count": 61,
   "id": "149cd70c-d964-4e8e-be86-f7379e4af2bc",
   "metadata": {},
   "outputs": [
    {
     "data": {
      "text/html": [
       "<div>\n",
       "<style scoped>\n",
       "    .dataframe tbody tr th:only-of-type {\n",
       "        vertical-align: middle;\n",
       "    }\n",
       "\n",
       "    .dataframe tbody tr th {\n",
       "        vertical-align: top;\n",
       "    }\n",
       "\n",
       "    .dataframe thead th {\n",
       "        text-align: right;\n",
       "    }\n",
       "</style>\n",
       "<table border=\"1\" class=\"dataframe\">\n",
       "  <thead>\n",
       "    <tr style=\"text-align: right;\">\n",
       "      <th></th>\n",
       "      <th>Query</th>\n",
       "      <th>Ref</th>\n",
       "      <th>ANI</th>\n",
       "      <th>Bidirect_FragMap</th>\n",
       "      <th>Total_Query_Frags</th>\n",
       "    </tr>\n",
       "  </thead>\n",
       "  <tbody>\n",
       "    <tr>\n",
       "      <th>22349</th>\n",
       "      <td>S0123-01</td>\n",
       "      <td>S0262-02</td>\n",
       "      <td>100.0</td>\n",
       "      <td>1467</td>\n",
       "      <td>1467</td>\n",
       "    </tr>\n",
       "    <tr>\n",
       "      <th>22651</th>\n",
       "      <td>S0262-02</td>\n",
       "      <td>S0123-01</td>\n",
       "      <td>100.0</td>\n",
       "      <td>1467</td>\n",
       "      <td>1467</td>\n",
       "    </tr>\n",
       "  </tbody>\n",
       "</table>\n",
       "</div>"
      ],
      "text/plain": [
       "          Query       Ref    ANI  Bidirect_FragMap  Total_Query_Frags\n",
       "22349  S0123-01  S0262-02  100.0              1467               1467\n",
       "22651  S0262-02  S0123-01  100.0              1467               1467"
      ]
     },
     "execution_count": 61,
     "metadata": {},
     "output_type": "execute_result"
    }
   ],
   "source": [
    "FANI_AvA_NoSelf_DF.query(\"ANI == 100\")"
   ]
  },
  {
   "cell_type": "code",
   "execution_count": 62,
   "id": "13f5e988",
   "metadata": {},
   "outputs": [
    {
     "data": {
      "text/html": [
       "<div>\n",
       "<style scoped>\n",
       "    .dataframe tbody tr th:only-of-type {\n",
       "        vertical-align: middle;\n",
       "    }\n",
       "\n",
       "    .dataframe tbody tr th {\n",
       "        vertical-align: top;\n",
       "    }\n",
       "\n",
       "    .dataframe thead th {\n",
       "        text-align: right;\n",
       "    }\n",
       "</style>\n",
       "<table border=\"1\" class=\"dataframe\">\n",
       "  <thead>\n",
       "    <tr style=\"text-align: right;\">\n",
       "      <th></th>\n",
       "      <th>Query</th>\n",
       "      <th>Ref</th>\n",
       "      <th>ANI</th>\n",
       "      <th>Bidirect_FragMap</th>\n",
       "      <th>Total_Query_Frags</th>\n",
       "    </tr>\n",
       "  </thead>\n",
       "  <tbody>\n",
       "    <tr>\n",
       "      <th>1</th>\n",
       "      <td>N0072</td>\n",
       "      <td>mada_118</td>\n",
       "      <td>99.9727</td>\n",
       "      <td>1470</td>\n",
       "      <td>1473</td>\n",
       "    </tr>\n",
       "    <tr>\n",
       "      <th>2</th>\n",
       "      <td>N0072</td>\n",
       "      <td>mada_1-51</td>\n",
       "      <td>99.9712</td>\n",
       "      <td>1472</td>\n",
       "      <td>1473</td>\n",
       "    </tr>\n",
       "  </tbody>\n",
       "</table>\n",
       "</div>"
      ],
      "text/plain": [
       "   Query        Ref      ANI  Bidirect_FragMap  Total_Query_Frags\n",
       "1  N0072   mada_118  99.9727              1470               1473\n",
       "2  N0072  mada_1-51  99.9712              1472               1473"
      ]
     },
     "execution_count": 62,
     "metadata": {},
     "output_type": "execute_result"
    }
   ],
   "source": [
    "FANI_AvA_NoSelf_DF.head(2)"
   ]
  },
  {
   "cell_type": "code",
   "execution_count": null,
   "id": "af99289f-03b3-429d-b68d-17d38236f205",
   "metadata": {},
   "outputs": [],
   "source": []
  },
  {
   "cell_type": "code",
   "execution_count": 63,
   "id": "ce661478",
   "metadata": {},
   "outputs": [
    {
     "data": {
      "text/plain": [
       "count    22650.000000\n",
       "mean        99.912547\n",
       "std          0.036683\n",
       "min         99.805100\n",
       "25%         99.890500\n",
       "50%         99.907400\n",
       "75%         99.936900\n",
       "max        100.000000\n",
       "Name: ANI, dtype: float64"
      ]
     },
     "execution_count": 63,
     "metadata": {},
     "output_type": "execute_result"
    }
   ],
   "source": [
    "FANI_AvA_NoSelf_DF[\"ANI\"].describe()"
   ]
  },
  {
   "cell_type": "code",
   "execution_count": 64,
   "id": "4dcf3166-675e-43ad-9ee4-bab48fb59c7e",
   "metadata": {},
   "outputs": [
    {
     "data": {
      "text/html": [
       "<div>\n",
       "<style scoped>\n",
       "    .dataframe tbody tr th:only-of-type {\n",
       "        vertical-align: middle;\n",
       "    }\n",
       "\n",
       "    .dataframe tbody tr th {\n",
       "        vertical-align: top;\n",
       "    }\n",
       "\n",
       "    .dataframe thead th {\n",
       "        text-align: right;\n",
       "    }\n",
       "</style>\n",
       "<table border=\"1\" class=\"dataframe\">\n",
       "  <thead>\n",
       "    <tr style=\"text-align: right;\">\n",
       "      <th></th>\n",
       "      <th>Query</th>\n",
       "      <th>Ref</th>\n",
       "      <th>ANI</th>\n",
       "      <th>Bidirect_FragMap</th>\n",
       "      <th>Total_Query_Frags</th>\n",
       "    </tr>\n",
       "  </thead>\n",
       "  <tbody>\n",
       "    <tr>\n",
       "      <th>1</th>\n",
       "      <td>N0072</td>\n",
       "      <td>mada_118</td>\n",
       "      <td>99.9727</td>\n",
       "      <td>1470</td>\n",
       "      <td>1473</td>\n",
       "    </tr>\n",
       "    <tr>\n",
       "      <th>2</th>\n",
       "      <td>N0072</td>\n",
       "      <td>mada_1-51</td>\n",
       "      <td>99.9712</td>\n",
       "      <td>1472</td>\n",
       "      <td>1473</td>\n",
       "    </tr>\n",
       "    <tr>\n",
       "      <th>3</th>\n",
       "      <td>N0072</td>\n",
       "      <td>mada_122</td>\n",
       "      <td>99.9709</td>\n",
       "      <td>1469</td>\n",
       "      <td>1473</td>\n",
       "    </tr>\n",
       "    <tr>\n",
       "      <th>4</th>\n",
       "      <td>N0072</td>\n",
       "      <td>mada_1-1</td>\n",
       "      <td>99.9703</td>\n",
       "      <td>1469</td>\n",
       "      <td>1473</td>\n",
       "    </tr>\n",
       "  </tbody>\n",
       "</table>\n",
       "</div>"
      ],
      "text/plain": [
       "   Query        Ref      ANI  Bidirect_FragMap  Total_Query_Frags\n",
       "1  N0072   mada_118  99.9727              1470               1473\n",
       "2  N0072  mada_1-51  99.9712              1472               1473\n",
       "3  N0072   mada_122  99.9709              1469               1473\n",
       "4  N0072   mada_1-1  99.9703              1469               1473"
      ]
     },
     "execution_count": 64,
     "metadata": {},
     "output_type": "execute_result"
    }
   ],
   "source": [
    "FANI_AvA_NoSelf_DF.head(4)"
   ]
  },
  {
   "cell_type": "code",
   "execution_count": 65,
   "id": "b74edd08",
   "metadata": {},
   "outputs": [
    {
     "data": {
      "text/html": [
       "<div>\n",
       "<style scoped>\n",
       "    .dataframe tbody tr th:only-of-type {\n",
       "        vertical-align: middle;\n",
       "    }\n",
       "\n",
       "    .dataframe tbody tr th {\n",
       "        vertical-align: top;\n",
       "    }\n",
       "\n",
       "    .dataframe thead th {\n",
       "        text-align: right;\n",
       "    }\n",
       "</style>\n",
       "<table border=\"1\" class=\"dataframe\">\n",
       "  <thead>\n",
       "    <tr style=\"text-align: right;\">\n",
       "      <th></th>\n",
       "      <th>Query</th>\n",
       "      <th>Ref</th>\n",
       "      <th>ANI</th>\n",
       "      <th>Bidirect_FragMap</th>\n",
       "      <th>Total_Query_Frags</th>\n",
       "    </tr>\n",
       "  </thead>\n",
       "  <tbody>\n",
       "    <tr>\n",
       "      <th>0</th>\n",
       "      <td>N0072</td>\n",
       "      <td>N0072</td>\n",
       "      <td>100.0000</td>\n",
       "      <td>1473</td>\n",
       "      <td>1473</td>\n",
       "    </tr>\n",
       "    <tr>\n",
       "      <th>1</th>\n",
       "      <td>N0072</td>\n",
       "      <td>mada_118</td>\n",
       "      <td>99.9727</td>\n",
       "      <td>1470</td>\n",
       "      <td>1473</td>\n",
       "    </tr>\n",
       "    <tr>\n",
       "      <th>2</th>\n",
       "      <td>N0072</td>\n",
       "      <td>mada_1-51</td>\n",
       "      <td>99.9712</td>\n",
       "      <td>1472</td>\n",
       "      <td>1473</td>\n",
       "    </tr>\n",
       "    <tr>\n",
       "      <th>3</th>\n",
       "      <td>N0072</td>\n",
       "      <td>mada_122</td>\n",
       "      <td>99.9709</td>\n",
       "      <td>1469</td>\n",
       "      <td>1473</td>\n",
       "    </tr>\n",
       "  </tbody>\n",
       "</table>\n",
       "</div>"
      ],
      "text/plain": [
       "   Query        Ref       ANI  Bidirect_FragMap  Total_Query_Frags\n",
       "0  N0072      N0072  100.0000              1473               1473\n",
       "1  N0072   mada_118   99.9727              1470               1473\n",
       "2  N0072  mada_1-51   99.9712              1472               1473\n",
       "3  N0072   mada_122   99.9709              1469               1473"
      ]
     },
     "execution_count": 65,
     "metadata": {},
     "output_type": "execute_result"
    }
   ],
   "source": [
    "FANI_AvA_DF.head(4)"
   ]
  },
  {
   "cell_type": "markdown",
   "id": "9bf82f60-e1bc-4252-9510-9716230c0be4",
   "metadata": {},
   "source": [
    "#### output parsed FastANI results to TSV"
   ]
  },
  {
   "cell_type": "code",
   "execution_count": 66,
   "id": "272fa083-83e2-49f2-a59d-089114178bf2",
   "metadata": {},
   "outputs": [
    {
     "name": "stdout",
     "output_type": "stream",
     "text": [
      "mkdir: cannot create directory ‘../../Data/GenomeSimilarity_MtbAndEcoli’: File exists\n"
     ]
    }
   ],
   "source": [
    "GenomeSim_OutDir = \"../../Data/GenomeSimilarity_MtbAndEcoli\"\n",
    "!mkdir $GenomeSim_OutDir"
   ]
  },
  {
   "cell_type": "code",
   "execution_count": 67,
   "id": "e9714c5c-a5d0-41aa-9af8-ad93db5b0562",
   "metadata": {},
   "outputs": [],
   "source": [
    "FANI_AvA_Mtb_TSV = f\"{GenomeSim_OutDir}/FastANI.Stats.Mtb151CI.tsv\"\n",
    "\n",
    "FANI_AvA_DF.to_csv(FANI_AvA_Mtb_TSV, sep = \"\\t\", index=False)"
   ]
  },
  {
   "cell_type": "code",
   "execution_count": 68,
   "id": "a4b3b920-ec82-45e7-acab-90b223f6aede",
   "metadata": {},
   "outputs": [
    {
     "name": "stdout",
     "output_type": "stream",
     "text": [
      "FastANI.Stats.Ecoli50CI.tsv\n",
      "FastANI.Stats.Mtb151CI.tsv\n",
      "Sourmash.31merJaccardSim.Stats.Ecoli50CI.tsv\n",
      "Sourmash.31merJaccardSim.Stats.Mtb151CI.tsv\n"
     ]
    }
   ],
   "source": [
    "!ls -1 $GenomeSim_OutDir"
   ]
  },
  {
   "cell_type": "code",
   "execution_count": null,
   "id": "81a64a59",
   "metadata": {},
   "outputs": [],
   "source": []
  },
  {
   "cell_type": "code",
   "execution_count": 69,
   "id": "e4218182",
   "metadata": {},
   "outputs": [
    {
     "data": {
      "text/html": [
       "<div>\n",
       "<style scoped>\n",
       "    .dataframe tbody tr th:only-of-type {\n",
       "        vertical-align: middle;\n",
       "    }\n",
       "\n",
       "    .dataframe tbody tr th {\n",
       "        vertical-align: top;\n",
       "    }\n",
       "\n",
       "    .dataframe thead th {\n",
       "        text-align: right;\n",
       "    }\n",
       "</style>\n",
       "<table border=\"1\" class=\"dataframe\">\n",
       "  <thead>\n",
       "    <tr style=\"text-align: right;\">\n",
       "      <th></th>\n",
       "      <th>Query</th>\n",
       "      <th>Ref</th>\n",
       "      <th>ANI</th>\n",
       "      <th>Bidirect_FragMap</th>\n",
       "      <th>Total_Query_Frags</th>\n",
       "    </tr>\n",
       "  </thead>\n",
       "  <tbody>\n",
       "    <tr>\n",
       "      <th>11324</th>\n",
       "      <td>mada_122</td>\n",
       "      <td>9050-05</td>\n",
       "      <td>99.8051</td>\n",
       "      <td>1463</td>\n",
       "      <td>1474</td>\n",
       "    </tr>\n",
       "    <tr>\n",
       "      <th>11323</th>\n",
       "      <td>mada_122</td>\n",
       "      <td>TB3396</td>\n",
       "      <td>99.8060</td>\n",
       "      <td>1463</td>\n",
       "      <td>1474</td>\n",
       "    </tr>\n",
       "    <tr>\n",
       "      <th>11322</th>\n",
       "      <td>mada_122</td>\n",
       "      <td>TB3091</td>\n",
       "      <td>99.8069</td>\n",
       "      <td>1463</td>\n",
       "      <td>1474</td>\n",
       "    </tr>\n",
       "    <tr>\n",
       "      <th>10418</th>\n",
       "      <td>mada_1-36</td>\n",
       "      <td>S0085-01</td>\n",
       "      <td>99.8107</td>\n",
       "      <td>1460</td>\n",
       "      <td>1473</td>\n",
       "    </tr>\n",
       "    <tr>\n",
       "      <th>11321</th>\n",
       "      <td>mada_122</td>\n",
       "      <td>S0070-08</td>\n",
       "      <td>99.8120</td>\n",
       "      <td>1462</td>\n",
       "      <td>1474</td>\n",
       "    </tr>\n",
       "    <tr>\n",
       "      <th>11320</th>\n",
       "      <td>mada_122</td>\n",
       "      <td>N0145</td>\n",
       "      <td>99.8141</td>\n",
       "      <td>1458</td>\n",
       "      <td>1474</td>\n",
       "    </tr>\n",
       "    <tr>\n",
       "      <th>10417</th>\n",
       "      <td>mada_1-36</td>\n",
       "      <td>9050-05</td>\n",
       "      <td>99.8148</td>\n",
       "      <td>1462</td>\n",
       "      <td>1473</td>\n",
       "    </tr>\n",
       "    <tr>\n",
       "      <th>11777</th>\n",
       "      <td>R23887</td>\n",
       "      <td>M0003941_3</td>\n",
       "      <td>99.8148</td>\n",
       "      <td>1456</td>\n",
       "      <td>1472</td>\n",
       "    </tr>\n",
       "    <tr>\n",
       "      <th>10870</th>\n",
       "      <td>mada_1-44</td>\n",
       "      <td>R30078</td>\n",
       "      <td>99.8154</td>\n",
       "      <td>1463</td>\n",
       "      <td>1473</td>\n",
       "    </tr>\n",
       "    <tr>\n",
       "      <th>10871</th>\n",
       "      <td>mada_1-44</td>\n",
       "      <td>R28012</td>\n",
       "      <td>99.8154</td>\n",
       "      <td>1463</td>\n",
       "      <td>1473</td>\n",
       "    </tr>\n",
       "    <tr>\n",
       "      <th>11319</th>\n",
       "      <td>mada_122</td>\n",
       "      <td>R27937</td>\n",
       "      <td>99.8155</td>\n",
       "      <td>1454</td>\n",
       "      <td>1474</td>\n",
       "    </tr>\n",
       "    <tr>\n",
       "      <th>11318</th>\n",
       "      <td>mada_122</td>\n",
       "      <td>R18040</td>\n",
       "      <td>99.8155</td>\n",
       "      <td>1454</td>\n",
       "      <td>1474</td>\n",
       "    </tr>\n",
       "    <tr>\n",
       "      <th>9965</th>\n",
       "      <td>mada_1-10</td>\n",
       "      <td>RW-TB008</td>\n",
       "      <td>99.8158</td>\n",
       "      <td>1446</td>\n",
       "      <td>1474</td>\n",
       "    </tr>\n",
       "    <tr>\n",
       "      <th>10416</th>\n",
       "      <td>mada_1-36</td>\n",
       "      <td>TB3396</td>\n",
       "      <td>99.8158</td>\n",
       "      <td>1462</td>\n",
       "      <td>1473</td>\n",
       "    </tr>\n",
       "    <tr>\n",
       "      <th>10720</th>\n",
       "      <td>mada_1-51</td>\n",
       "      <td>S0107-01</td>\n",
       "      <td>99.8166</td>\n",
       "      <td>1461</td>\n",
       "      <td>1474</td>\n",
       "    </tr>\n",
       "  </tbody>\n",
       "</table>\n",
       "</div>"
      ],
      "text/plain": [
       "           Query         Ref      ANI  Bidirect_FragMap  Total_Query_Frags\n",
       "11324   mada_122     9050-05  99.8051              1463               1474\n",
       "11323   mada_122      TB3396  99.8060              1463               1474\n",
       "11322   mada_122      TB3091  99.8069              1463               1474\n",
       "10418  mada_1-36    S0085-01  99.8107              1460               1473\n",
       "11321   mada_122    S0070-08  99.8120              1462               1474\n",
       "11320   mada_122       N0145  99.8141              1458               1474\n",
       "10417  mada_1-36     9050-05  99.8148              1462               1473\n",
       "11777     R23887  M0003941_3  99.8148              1456               1472\n",
       "10870  mada_1-44      R30078  99.8154              1463               1473\n",
       "10871  mada_1-44      R28012  99.8154              1463               1473\n",
       "11319   mada_122      R27937  99.8155              1454               1474\n",
       "11318   mada_122      R18040  99.8155              1454               1474\n",
       "9965   mada_1-10    RW-TB008  99.8158              1446               1474\n",
       "10416  mada_1-36      TB3396  99.8158              1462               1473\n",
       "10720  mada_1-51    S0107-01  99.8166              1461               1474"
      ]
     },
     "execution_count": 69,
     "metadata": {},
     "output_type": "execute_result"
    }
   ],
   "source": [
    "FANI_AvA_NoSelf_DF.sort_values(\"ANI\", ascending=True).head(15)"
   ]
  },
  {
   "cell_type": "markdown",
   "id": "4cb99497",
   "metadata": {},
   "source": [
    "# Plot the distribution of pairwise predicted ANIs "
   ]
  },
  {
   "cell_type": "code",
   "execution_count": 70,
   "id": "7faff086-9eb4-4617-9d75-e2099b359e4a",
   "metadata": {},
   "outputs": [],
   "source": [
    "sns.set_context(\"paper\", font_scale=3)\n"
   ]
  },
  {
   "cell_type": "code",
   "execution_count": 71,
   "id": "8f812320-335a-48e5-a5e3-2f3bf8fc09c0",
   "metadata": {},
   "outputs": [
    {
     "data": {
      "image/png": "[encoded data removed]",
      "text/plain": [
       "<Figure size 864x288 with 1 Axes>"
      ]
     },
     "metadata": {
      "needs_background": "light"
     },
     "output_type": "display_data"
    }
   ],
   "source": [
    "fig, ax1 = plt.subplots(figsize=(12,4))\n",
    "\n",
    "#sns.set_style(None)\n",
    "#sns.set()\n",
    "\n",
    "ax1.grid(axis='y', zorder=0, linewidth=.7, color = \"white\" )\n",
    "sns.set_style(rc={'axes.facecolor': '#E8E8E8'})\n",
    "\n",
    "sns.histplot(FANI_AvA_NoSelf_DF[\"ANI\"], bins = np.arange(99.8, 100.01, 0.01), edgecolor='white', color = '#4F4F4F', alpha = 1, ax = ax1, zorder = 3)\n",
    "             # hist_kws={\"rwidth\":0.75,'edgecolor':'none', 'alpha':1.0})\n",
    "sns.despine()\n",
    "\n",
    "plt.xlabel(\"Estimated ANI (%)\")\n",
    "plt.ylabel(\"Count\")\n",
    "plt.xlim(99.8, 100)\n",
    "\n",
    "ticks_ax_limewidth = 2\n",
    "\n",
    "ax1.tick_params('both', length=15, width=ticks_ax_limewidth, which='major')\n",
    "\n",
    "for axis in ['bottom','left']:\n",
    "    ax1.spines[axis].set_linewidth(ticks_ax_limewidth)\n",
    "\n",
    "#plt.ylim(0,4000)\n",
    "plt.savefig(\"Results1_Plots/1.ANI.Histo.png\", dpi = 300)\n",
    "plt.savefig(\"Results1_Plots/1.ANI.Histo.svg\")\n",
    "\n",
    "plt.show()\n"
   ]
  },
  {
   "cell_type": "code",
   "execution_count": null,
   "id": "8782f828-4652-48bc-abec-6ef69753931c",
   "metadata": {},
   "outputs": [],
   "source": []
  },
  {
   "cell_type": "code",
   "execution_count": null,
   "id": "a52344a5",
   "metadata": {},
   "outputs": [],
   "source": []
  },
  {
   "cell_type": "markdown",
   "id": "4430f453-f91a-422b-95b3-c59aac082bbc",
   "metadata": {},
   "source": [
    "## Create a matrix of FastANI results"
   ]
  },
  {
   "cell_type": "code",
   "execution_count": 72,
   "id": "a0a79e5f",
   "metadata": {},
   "outputs": [
    {
     "data": {
      "text/plain": [
       "(151, 151)"
      ]
     },
     "execution_count": 72,
     "metadata": {},
     "output_type": "execute_result"
    }
   ],
   "source": [
    "FANI_AvA_Pivot = FANI_AvA_DF.pivot(index='Query', columns='Ref', values='ANI')\n",
    "FANI_AvA_Pivot.shape"
   ]
  },
  {
   "cell_type": "code",
   "execution_count": 73,
   "id": "baf04506",
   "metadata": {},
   "outputs": [
    {
     "data": {
      "text/html": [
       "<div>\n",
       "<style scoped>\n",
       "    .dataframe tbody tr th:only-of-type {\n",
       "        vertical-align: middle;\n",
       "    }\n",
       "\n",
       "    .dataframe tbody tr th {\n",
       "        vertical-align: top;\n",
       "    }\n",
       "\n",
       "    .dataframe thead th {\n",
       "        text-align: right;\n",
       "    }\n",
       "</style>\n",
       "<table border=\"1\" class=\"dataframe\">\n",
       "  <thead>\n",
       "    <tr style=\"text-align: right;\">\n",
       "      <th>Ref</th>\n",
       "      <th>01_R1134</th>\n",
       "      <th>01_R1430</th>\n",
       "      <th>02_R0894</th>\n",
       "      <th>02_R1179</th>\n",
       "      <th>02_R1708</th>\n",
       "      <th>02_R1896</th>\n",
       "      <th>18_0621851</th>\n",
       "      <th>3003-06</th>\n",
       "      <th>4549-04</th>\n",
       "      <th>696-05</th>\n",
       "      <th>...</th>\n",
       "      <th>mada_128</th>\n",
       "      <th>mada_129</th>\n",
       "      <th>mada_139</th>\n",
       "      <th>mada_151</th>\n",
       "      <th>mada_2-1</th>\n",
       "      <th>mada_2-25</th>\n",
       "      <th>mada_2-31</th>\n",
       "      <th>mada_2-42</th>\n",
       "      <th>mada_2-46</th>\n",
       "      <th>mada_2-53</th>\n",
       "    </tr>\n",
       "    <tr>\n",
       "      <th>Query</th>\n",
       "      <th></th>\n",
       "      <th></th>\n",
       "      <th></th>\n",
       "      <th></th>\n",
       "      <th></th>\n",
       "      <th></th>\n",
       "      <th></th>\n",
       "      <th></th>\n",
       "      <th></th>\n",
       "      <th></th>\n",
       "      <th></th>\n",
       "      <th></th>\n",
       "      <th></th>\n",
       "      <th></th>\n",
       "      <th></th>\n",
       "      <th></th>\n",
       "      <th></th>\n",
       "      <th></th>\n",
       "      <th></th>\n",
       "      <th></th>\n",
       "      <th></th>\n",
       "    </tr>\n",
       "  </thead>\n",
       "  <tbody>\n",
       "    <tr>\n",
       "      <th>01_R1134</th>\n",
       "      <td>100.0000</td>\n",
       "      <td>99.943</td>\n",
       "      <td>99.9268</td>\n",
       "      <td>99.9448</td>\n",
       "      <td>99.9326</td>\n",
       "      <td>99.9490</td>\n",
       "      <td>99.9098</td>\n",
       "      <td>99.9098</td>\n",
       "      <td>99.9052</td>\n",
       "      <td>99.9069</td>\n",
       "      <td>...</td>\n",
       "      <td>99.9516</td>\n",
       "      <td>99.9301</td>\n",
       "      <td>99.9265</td>\n",
       "      <td>99.9211</td>\n",
       "      <td>99.9482</td>\n",
       "      <td>99.9422</td>\n",
       "      <td>99.9409</td>\n",
       "      <td>99.9025</td>\n",
       "      <td>99.8829</td>\n",
       "      <td>99.9351</td>\n",
       "    </tr>\n",
       "    <tr>\n",
       "      <th>01_R1430</th>\n",
       "      <td>99.9434</td>\n",
       "      <td>100.000</td>\n",
       "      <td>99.9185</td>\n",
       "      <td>99.9294</td>\n",
       "      <td>99.9328</td>\n",
       "      <td>99.9557</td>\n",
       "      <td>99.9081</td>\n",
       "      <td>99.9060</td>\n",
       "      <td>99.9008</td>\n",
       "      <td>99.9058</td>\n",
       "      <td>...</td>\n",
       "      <td>99.9322</td>\n",
       "      <td>99.9316</td>\n",
       "      <td>99.9221</td>\n",
       "      <td>99.9317</td>\n",
       "      <td>99.9281</td>\n",
       "      <td>99.9608</td>\n",
       "      <td>99.9394</td>\n",
       "      <td>99.9035</td>\n",
       "      <td>99.8889</td>\n",
       "      <td>99.9327</td>\n",
       "    </tr>\n",
       "  </tbody>\n",
       "</table>\n",
       "<p>2 rows × 151 columns</p>\n",
       "</div>"
      ],
      "text/plain": [
       "Ref       01_R1134  01_R1430  02_R0894  02_R1179  02_R1708  02_R1896  \\\n",
       "Query                                                                  \n",
       "01_R1134  100.0000    99.943   99.9268   99.9448   99.9326   99.9490   \n",
       "01_R1430   99.9434   100.000   99.9185   99.9294   99.9328   99.9557   \n",
       "\n",
       "Ref       18_0621851  3003-06  4549-04   696-05  ...  mada_128  mada_129  \\\n",
       "Query                                            ...                       \n",
       "01_R1134     99.9098  99.9098  99.9052  99.9069  ...   99.9516   99.9301   \n",
       "01_R1430     99.9081  99.9060  99.9008  99.9058  ...   99.9322   99.9316   \n",
       "\n",
       "Ref       mada_139  mada_151  mada_2-1  mada_2-25  mada_2-31  mada_2-42  \\\n",
       "Query                                                                     \n",
       "01_R1134   99.9265   99.9211   99.9482    99.9422    99.9409    99.9025   \n",
       "01_R1430   99.9221   99.9317   99.9281    99.9608    99.9394    99.9035   \n",
       "\n",
       "Ref       mada_2-46  mada_2-53  \n",
       "Query                           \n",
       "01_R1134    99.8829    99.9351  \n",
       "01_R1430    99.8889    99.9327  \n",
       "\n",
       "[2 rows x 151 columns]"
      ]
     },
     "execution_count": 73,
     "metadata": {},
     "output_type": "execute_result"
    }
   ],
   "source": [
    "FANI_AvA_Pivot.head(2)"
   ]
  },
  {
   "cell_type": "markdown",
   "id": "8a957b1f-6ab8-4fe6-9f26-9755a432f6db",
   "metadata": {},
   "source": [
    "## Visualize ANI results as heatmap (matching order of phylogeny)"
   ]
  },
  {
   "cell_type": "code",
   "execution_count": 74,
   "id": "91594bc5",
   "metadata": {},
   "outputs": [
    {
     "data": {
      "text/plain": [
       "(151, 151)"
      ]
     },
     "execution_count": 74,
     "metadata": {},
     "output_type": "execute_result"
    }
   ],
   "source": [
    "\n",
    "FANI_AvA_Pivot_Ordered = FANI_AvA_Pivot.loc[OrderOfSampleIDs_Phylo, OrderOfSampleIDs_Phylo]\n",
    "FANI_AvA_Pivot_Ordered.shape"
   ]
  },
  {
   "cell_type": "code",
   "execution_count": 75,
   "id": "758efe64-9b3c-44cd-89d1-f3331d7942ac",
   "metadata": {},
   "outputs": [
    {
     "data": {
      "image/png": "[encoded data removed]",
      "text/plain": [
       "<Figure size 1800x1800 with 6 Axes>"
      ]
     },
     "metadata": {
      "needs_background": "light"
     },
     "output_type": "display_data"
    }
   ],
   "source": [
    "fig_dims = (25, 25)\n",
    "\n",
    "row_colors = [sample_colors.get(sample, \"black\") for sample in FANI_AvA_Pivot_Ordered.index]\n",
    "col_colors = [sample_colors.get(sample, \"black\") for sample in FANI_AvA_Pivot_Ordered.columns]\n",
    "\n",
    "g = clustermap_plot = sns.clustermap(FANI_AvA_Pivot_Ordered, \n",
    "                                 row_colors=row_colors,\n",
    "                                 col_colors=col_colors,\n",
    "                                 figsize=fig_dims, \n",
    "                                 row_cluster=False, col_cluster=False,\n",
    "                                 #cbar_pos = None,\n",
    "                                 cmap='rocket_r',\n",
    "                                 linewidths=0,\n",
    "                                 xticklabels=False,\n",
    "                                 yticklabels=False, vmin = 99.8 )\n",
    "\n",
    "\n",
    "plt.ylabel(\"\")\n",
    "plt.xlabel(\"\")\n",
    "\n",
    "plt.savefig(\"Results1_Plots/1.ANI.heatmap.NoLabels.png\", dpi = 300)\n",
    "plt.savefig(\"Results1_Plots/1.ANI.heatmap.NoLabels.svg\")\n",
    "\n",
    "plt.show()"
   ]
  },
  {
   "cell_type": "code",
   "execution_count": null,
   "id": "5dc610d5-06b6-4981-90fd-03f896c21350",
   "metadata": {},
   "outputs": [],
   "source": []
  },
  {
   "cell_type": "code",
   "execution_count": null,
   "id": "eaaf0bfc-9a8d-461a-a89a-81fc8a59acd7",
   "metadata": {},
   "outputs": [],
   "source": []
  },
  {
   "cell_type": "code",
   "execution_count": null,
   "id": "140f3a20-6d5b-4458-bcf9-86d8bc477207",
   "metadata": {},
   "outputs": [],
   "source": []
  },
  {
   "cell_type": "code",
   "execution_count": null,
   "id": "3d05b620-5f71-479b-97c2-e98d14b79183",
   "metadata": {},
   "outputs": [],
   "source": []
  },
  {
   "cell_type": "code",
   "execution_count": null,
   "id": "ecd140af",
   "metadata": {},
   "outputs": [],
   "source": []
  },
  {
   "cell_type": "code",
   "execution_count": null,
   "id": "a682469b",
   "metadata": {},
   "outputs": [],
   "source": []
  },
  {
   "cell_type": "code",
   "execution_count": null,
   "id": "7aa5e82d",
   "metadata": {},
   "outputs": [],
   "source": []
  }
 ],
 "metadata": {
  "kernelspec": {
   "display_name": "py37_S",
   "language": "python",
   "name": "py37_s"
  },
  "language_info": {
   "codemirror_mode": {
    "name": "ipython",
    "version": 3
   },
   "file_extension": ".py",
   "mimetype": "text/x-python",
   "name": "python",
   "nbconvert_exporter": "python",
   "pygments_lexer": "ipython3",
   "version": "3.7.3"
  }
 },
 "nbformat": 4,
 "nbformat_minor": 5
}
