{
 "cells": [
  {
   "cell_type": "markdown",
   "id": "94305f40-dfbc-4776-aa3b-3e639f9a33c1",
   "metadata": {},
   "source": [
    "# Analysis of pairwise k-mer Jaccard Similarity - 50 Ecoli genomes"
   ]
  },
  {
   "cell_type": "code",
   "execution_count": 1,
   "id": "06e38a01-1ec0-47f4-ac1a-cba6d97a0061",
   "metadata": {},
   "outputs": [],
   "source": [
    "import numpy as np\n",
    "import matplotlib.pyplot as plt\n",
    "import seaborn as sns\n",
    "import pandas as pd\n",
    "\n",
    "%matplotlib inline\n"
   ]
  },
  {
   "cell_type": "code",
   "execution_count": 2,
   "id": "5855af1c-7465-4866-bc67-50aed586c567",
   "metadata": {},
   "outputs": [],
   "source": [
    "import screed"
   ]
  },
  {
   "cell_type": "code",
   "execution_count": 3,
   "id": "e1a0deb0-c296-4370-9a77-1372f97e149e",
   "metadata": {},
   "outputs": [],
   "source": [
    "import mmh3"
   ]
  },
  {
   "cell_type": "code",
   "execution_count": 4,
   "id": "d221a3e8-deb4-42ef-9030-0f3166572abb",
   "metadata": {},
   "outputs": [],
   "source": [
    "# https://github.com/ipython/ipython/issues/10627\n",
    "import os\n",
    "os.environ['QT_QPA_PLATFORM']='offscreen'"
   ]
  },
  {
   "cell_type": "code",
   "execution_count": 5,
   "id": "7bc2ef1f-c00f-42e4-af49-e7a2b97313df",
   "metadata": {},
   "outputs": [],
   "source": [
    "\n",
    "# import ete3 as ETE\n",
    "\n",
    "# from ete3 import Tree"
   ]
  },
  {
   "cell_type": "code",
   "execution_count": 6,
   "id": "16738e8a",
   "metadata": {},
   "outputs": [],
   "source": [
    "\n",
    "import ete3 as ETE\n",
    "\n",
    "from ete3 import Tree"
   ]
  },
  {
   "cell_type": "code",
   "execution_count": null,
   "id": "bffdd76c-6325-46ff-9663-24eab70b476d",
   "metadata": {},
   "outputs": [],
   "source": []
  },
  {
   "cell_type": "code",
   "execution_count": null,
   "id": "7d63946b-bee4-4301-8057-7e140da367ab",
   "metadata": {},
   "outputs": [],
   "source": []
  },
  {
   "cell_type": "markdown",
   "id": "792b9b30-3514-40e2-93ec-ffd564a463ce",
   "metadata": {},
   "source": [
    "## Define paths to sample metadata files & key directories"
   ]
  },
  {
   "cell_type": "code",
   "execution_count": 7,
   "id": "570696df-bdf2-4f62-b602-9d00fd1d84e0",
   "metadata": {},
   "outputs": [],
   "source": [
    "\n",
    "Proj_MainDir = \"/n/data1/hms/dbmi/farhat/mm774/Projects\"\n",
    "\n",
    "SA_PG_MainDir = f\"{Proj_MainDir}/241206_Saureus_PG_Analysis\"  \n",
    "\n",
    "Data_MainDir = f\"{SA_PG_MainDir}/Data\"  \n",
    "\n",
    "SA_68CI_GenomeFASTAs_Dir = f\"{Data_MainDir}/CRS.Saureus.68CI.GenomesFromGitRepo\"\n",
    "\n",
    "HoutakBouras2023_Saureus_68CI_AsmPATH_AltPath_TSV = f\"{SA_PG_MainDir}/241206.HoutakBouras2023.Saureus.68I.MetaData.And.AsmFA.tsv\"\n",
    "\n",
    "\n",
    "Saureus_Repo_Meta_Dir = f\"../../Data/241206_Saureus_HoutakBouras2023_Metadata\"  \n",
    "\n",
    "Sa_ENA_RunData_TSV = f\"{Saureus_Repo_Meta_Dir}/ENA.RunMetadata.PRJNA914892.tsv\"\n",
    "\n",
    "Sa_HoutakBouras2023_Isolate_Metadata_TSV = f\"{Saureus_Repo_Meta_Dir}/HoutakBouras2023.metadata.csv\"\n",
    "\n",
    "Sa_HoutakBouras2023_Isolate_MLST_Info_TSV = f\"{Saureus_Repo_Meta_Dir}/metadata/poppunk_mlst.csv\"\n",
    "\n",
    "\n",
    "\n",
    "Sa_HoutakBouras2023_NCBI_GenomeInfo_TSV  = f\"{Saureus_Repo_Meta_Dir}/NCBI.HoutakBouras2023.Saureus.174CI.HybridGenomes.tsv\"\n",
    "\n",
    "HoutakBouras2023_Saureus_68CI_AsmPATH_TSV = f\"{Saureus_Repo_Meta_Dir}/241206.HoutakBouras2023.Saureus.68I.MetaData.And.AsmFA.tsv\"\n",
    "\n"
   ]
  },
  {
   "cell_type": "code",
   "execution_count": 8,
   "id": "9fbc3593-4ed5-4ac3-99b1-1d90773c0442",
   "metadata": {},
   "outputs": [
    {
     "name": "stdout",
     "output_type": "stream",
     "text": [
      "biofilm_data.csv\n",
      "metadata_phylogentic_tree.csv\n",
      "plassembler_copy_number.csv\n",
      "poppunk_mlst.csv\n",
      "rid_time.csv\n"
     ]
    }
   ],
   "source": [
    "!ls -1 $Saureus_Repo_Meta_Dir/metadata"
   ]
  },
  {
   "cell_type": "code",
   "execution_count": 9,
   "id": "0f003ca5-046e-44b6-99ac-bb72edce83f9",
   "metadata": {},
   "outputs": [
    {
     "name": "stdout",
     "output_type": "stream",
     "text": [
      "CRS.Saureus.68CI.GenomesFromGitRepo\n",
      "ENA.RunMetadata.PRJNA914892.tsv\n",
      "HoutakBouras2023.metadata.csv\n",
      "NCBI.HoutakBouras2023.Saureus.174CI.HybridGenomes.tsv\n"
     ]
    }
   ],
   "source": [
    "!ls -1 $Data_MainDir"
   ]
  },
  {
   "cell_type": "code",
   "execution_count": null,
   "id": "9fa5a524-885a-451e-8b46-8a65aa87c2f0",
   "metadata": {},
   "outputs": [],
   "source": []
  },
  {
   "cell_type": "markdown",
   "id": "0545d8ac-69e8-4263-a633-c09b1515a40e",
   "metadata": {},
   "source": [
    "## Parse in SA Isolate MLST Info"
   ]
  },
  {
   "cell_type": "code",
   "execution_count": 10,
   "id": "36146ec6-5c28-477b-a1eb-bb510ceee963",
   "metadata": {},
   "outputs": [
    {
     "data": {
      "text/plain": [
       "(68, 7)"
      ]
     },
     "execution_count": 10,
     "metadata": {},
     "output_type": "execute_result"
    }
   ],
   "source": [
    "MLST_DF = pd.read_csv(Sa_HoutakBouras2023_Isolate_MLST_Info_TSV, sep = \",\")\n",
    "MLST_DF[\"SampleID\"] = MLST_DF[\"Cnumber_ID\"]\n",
    "\n",
    "MLST_DF[\"CC\"] = MLST_DF[\"CC\"].replace(\"Not_Assigned\", \"None\")\n",
    "MLST_DF[\"ST\"] = MLST_DF[\"ST\"].replace(\"Not_Assigned\", \"None\")\n",
    "\n",
    "MLST_DF.shape"
   ]
  },
  {
   "cell_type": "code",
   "execution_count": 11,
   "id": "bade9896-2b74-42b9-ac29-0795d1132e3a",
   "metadata": {},
   "outputs": [
    {
     "data": {
      "text/html": [
       "<div>\n",
       "<style scoped>\n",
       "    .dataframe tbody tr th:only-of-type {\n",
       "        vertical-align: middle;\n",
       "    }\n",
       "\n",
       "    .dataframe tbody tr th {\n",
       "        vertical-align: top;\n",
       "    }\n",
       "\n",
       "    .dataframe thead th {\n",
       "        text-align: right;\n",
       "    }\n",
       "</style>\n",
       "<table border=\"1\" class=\"dataframe\">\n",
       "  <thead>\n",
       "    <tr style=\"text-align: right;\">\n",
       "      <th></th>\n",
       "      <th>Cnumber_ID</th>\n",
       "      <th>Gess_plus_Time</th>\n",
       "      <th>Timepoint</th>\n",
       "      <th>PopPUNK_Cluster</th>\n",
       "      <th>ST</th>\n",
       "      <th>CC</th>\n",
       "      <th>SampleID</th>\n",
       "    </tr>\n",
       "  </thead>\n",
       "  <tbody>\n",
       "    <tr>\n",
       "      <th>0</th>\n",
       "      <td>C100</td>\n",
       "      <td>276_T0</td>\n",
       "      <td>T0</td>\n",
       "      <td>6</td>\n",
       "      <td>46</td>\n",
       "      <td>CC45</td>\n",
       "      <td>C100</td>\n",
       "    </tr>\n",
       "    <tr>\n",
       "      <th>1</th>\n",
       "      <td>C364</td>\n",
       "      <td>276_T1</td>\n",
       "      <td>T1</td>\n",
       "      <td>2</td>\n",
       "      <td>15</td>\n",
       "      <td>CC15</td>\n",
       "      <td>C364</td>\n",
       "    </tr>\n",
       "    <tr>\n",
       "      <th>2</th>\n",
       "      <td>C22</td>\n",
       "      <td>420_T0</td>\n",
       "      <td>T0</td>\n",
       "      <td>27</td>\n",
       "      <td>101</td>\n",
       "      <td>None</td>\n",
       "      <td>C22</td>\n",
       "    </tr>\n",
       "    <tr>\n",
       "      <th>3</th>\n",
       "      <td>C320</td>\n",
       "      <td>420_T1</td>\n",
       "      <td>T1</td>\n",
       "      <td>27</td>\n",
       "      <td>101</td>\n",
       "      <td>None</td>\n",
       "      <td>C320</td>\n",
       "    </tr>\n",
       "    <tr>\n",
       "      <th>4</th>\n",
       "      <td>C235</td>\n",
       "      <td>539_T0</td>\n",
       "      <td>T0</td>\n",
       "      <td>15</td>\n",
       "      <td>72</td>\n",
       "      <td>CC8</td>\n",
       "      <td>C235</td>\n",
       "    </tr>\n",
       "    <tr>\n",
       "      <th>...</th>\n",
       "      <td>...</td>\n",
       "      <td>...</td>\n",
       "      <td>...</td>\n",
       "      <td>...</td>\n",
       "      <td>...</td>\n",
       "      <td>...</td>\n",
       "      <td>...</td>\n",
       "    </tr>\n",
       "    <tr>\n",
       "      <th>63</th>\n",
       "      <td>C309</td>\n",
       "      <td>5728_T1</td>\n",
       "      <td>T1</td>\n",
       "      <td>1</td>\n",
       "      <td>None</td>\n",
       "      <td>None</td>\n",
       "      <td>C309</td>\n",
       "    </tr>\n",
       "    <tr>\n",
       "      <th>64</th>\n",
       "      <td>C325</td>\n",
       "      <td>5767_T0</td>\n",
       "      <td>T0</td>\n",
       "      <td>2</td>\n",
       "      <td>582</td>\n",
       "      <td>CC15</td>\n",
       "      <td>C325</td>\n",
       "    </tr>\n",
       "    <tr>\n",
       "      <th>65</th>\n",
       "      <td>C363</td>\n",
       "      <td>5767_T1</td>\n",
       "      <td>T1</td>\n",
       "      <td>2</td>\n",
       "      <td>5</td>\n",
       "      <td>CC5</td>\n",
       "      <td>C363</td>\n",
       "    </tr>\n",
       "    <tr>\n",
       "      <th>66</th>\n",
       "      <td>C311</td>\n",
       "      <td>5911_T0</td>\n",
       "      <td>T0</td>\n",
       "      <td>4</td>\n",
       "      <td>30</td>\n",
       "      <td>CC30</td>\n",
       "      <td>C311</td>\n",
       "    </tr>\n",
       "    <tr>\n",
       "      <th>67</th>\n",
       "      <td>C357</td>\n",
       "      <td>5911_T1</td>\n",
       "      <td>T1</td>\n",
       "      <td>4</td>\n",
       "      <td>39</td>\n",
       "      <td>CC30</td>\n",
       "      <td>C357</td>\n",
       "    </tr>\n",
       "  </tbody>\n",
       "</table>\n",
       "<p>68 rows × 7 columns</p>\n",
       "</div>"
      ],
      "text/plain": [
       "   Cnumber_ID Gess_plus_Time Timepoint  PopPUNK_Cluster    ST    CC SampleID\n",
       "0        C100         276_T0        T0                6    46  CC45     C100\n",
       "1        C364         276_T1        T1                2    15  CC15     C364\n",
       "2         C22         420_T0        T0               27   101  None      C22\n",
       "3        C320         420_T1        T1               27   101  None     C320\n",
       "4        C235         539_T0        T0               15    72   CC8     C235\n",
       "..        ...            ...       ...              ...   ...   ...      ...\n",
       "63       C309        5728_T1        T1                1  None  None     C309\n",
       "64       C325        5767_T0        T0                2   582  CC15     C325\n",
       "65       C363        5767_T1        T1                2     5   CC5     C363\n",
       "66       C311        5911_T0        T0                4    30  CC30     C311\n",
       "67       C357        5911_T1        T1                4    39  CC30     C357\n",
       "\n",
       "[68 rows x 7 columns]"
      ]
     },
     "execution_count": 11,
     "metadata": {},
     "output_type": "execute_result"
    }
   ],
   "source": [
    "MLST_DF"
   ]
  },
  {
   "cell_type": "code",
   "execution_count": null,
   "id": "cd6d9917-1aad-4c15-b483-16d82a0d484f",
   "metadata": {},
   "outputs": [],
   "source": []
  },
  {
   "cell_type": "markdown",
   "id": "021dc252-00f2-4e86-9052-7ec74afffcaf",
   "metadata": {},
   "source": [
    "## Parse in metadata DFs"
   ]
  },
  {
   "cell_type": "code",
   "execution_count": 12,
   "id": "7feb2e26-e412-4b4b-abe8-b92b472254a2",
   "metadata": {},
   "outputs": [
    {
     "name": "stdout",
     "output_type": "stream",
     "text": [
      "(68, 8)\n",
      "(68, 8)\n"
     ]
    }
   ],
   "source": [
    "SA_68CI_Info_DF = pd.read_csv(HoutakBouras2023_Saureus_68CI_AsmPATH_AltPath_TSV,\n",
    "                               sep = \"\\t\")\n",
    "print(SA_68CI_Info_DF.shape)\n",
    "\n",
    "#Sa_68CI_Info_DF = pd.merge(Sa_68CI_Info_DF, MLST_DF, how = \"left\",\n",
    "#                           left_on=\"SampleID\", right_on = \"SampleID\" )\n",
    "\n",
    "print(SA_68CI_Info_DF.shape)"
   ]
  },
  {
   "cell_type": "markdown",
   "id": "929d0773-681e-453a-93ba-7d1d2c291b52",
   "metadata": {},
   "source": [
    "### Define list of SampleIDs"
   ]
  },
  {
   "cell_type": "code",
   "execution_count": 13,
   "id": "cf90faa7-0203-4be7-b259-285dd7470061",
   "metadata": {},
   "outputs": [
    {
     "data": {
      "text/html": [
       "<div>\n",
       "<style scoped>\n",
       "    .dataframe tbody tr th:only-of-type {\n",
       "        vertical-align: middle;\n",
       "    }\n",
       "\n",
       "    .dataframe tbody tr th {\n",
       "        vertical-align: top;\n",
       "    }\n",
       "\n",
       "    .dataframe thead th {\n",
       "        text-align: right;\n",
       "    }\n",
       "</style>\n",
       "<table border=\"1\" class=\"dataframe\">\n",
       "  <thead>\n",
       "    <tr style=\"text-align: right;\">\n",
       "      <th></th>\n",
       "      <th>SampleID</th>\n",
       "      <th>PatientID</th>\n",
       "      <th>Timepoint</th>\n",
       "      <th>Bioproject</th>\n",
       "      <th>SR_RunAccession</th>\n",
       "      <th>Assembly_Accession</th>\n",
       "      <th>Organism</th>\n",
       "      <th>Genome_ASM_PATH</th>\n",
       "    </tr>\n",
       "  </thead>\n",
       "  <tbody>\n",
       "    <tr>\n",
       "      <th>0</th>\n",
       "      <td>C100</td>\n",
       "      <td>276</td>\n",
       "      <td>T0</td>\n",
       "      <td>PRJNA914892</td>\n",
       "      <td>SRR22859841</td>\n",
       "      <td>GCA_030290035.1</td>\n",
       "      <td>Staphylococcus aureus</td>\n",
       "      <td>/n/data1/hms/dbmi/farhat/mm774/Projects/241206...</td>\n",
       "    </tr>\n",
       "  </tbody>\n",
       "</table>\n",
       "</div>"
      ],
      "text/plain": [
       "  SampleID  PatientID Timepoint   Bioproject SR_RunAccession  \\\n",
       "0     C100        276        T0  PRJNA914892     SRR22859841   \n",
       "\n",
       "  Assembly_Accession               Organism  \\\n",
       "0    GCA_030290035.1  Staphylococcus aureus   \n",
       "\n",
       "                                     Genome_ASM_PATH  \n",
       "0  /n/data1/hms/dbmi/farhat/mm774/Projects/241206...  "
      ]
     },
     "execution_count": 13,
     "metadata": {},
     "output_type": "execute_result"
    }
   ],
   "source": [
    "SA_68CI_Info_DF.head(1)  "
   ]
  },
  {
   "cell_type": "code",
   "execution_count": 14,
   "id": "79e83a43-eba4-496f-8df8-f80f50a546f7",
   "metadata": {},
   "outputs": [
    {
     "data": {
      "text/plain": [
       "68"
      ]
     },
     "execution_count": 14,
     "metadata": {},
     "output_type": "execute_result"
    }
   ],
   "source": [
    "SA68I_SampleIDs = SA_68CI_Info_DF[\"SampleID\"].values   \n",
    "len(SA68I_SampleIDs)"
   ]
  },
  {
   "cell_type": "code",
   "execution_count": null,
   "id": "0f745abe-80e0-4d91-9325-874005598256",
   "metadata": {},
   "outputs": [],
   "source": []
  },
  {
   "cell_type": "markdown",
   "id": "5540216a-42b5-442e-a973-132bef7c2738",
   "metadata": {},
   "source": [
    "### Create lineage mapping for sampleIDs"
   ]
  },
  {
   "cell_type": "code",
   "execution_count": 15,
   "id": "1ef7ea14-4425-4b79-9783-d890626e0eac",
   "metadata": {},
   "outputs": [],
   "source": [
    "ID_To_Lineage_Dict = dict(MLST_DF[['SampleID', 'CC']].values)\n"
   ]
  },
  {
   "cell_type": "code",
   "execution_count": 16,
   "id": "62c3c07c-f291-487a-9fc4-7bfa1c74250c",
   "metadata": {},
   "outputs": [
    {
     "data": {
      "text/plain": [
       "None    24\n",
       "CC45    14\n",
       "CC30     9\n",
       "CC15     5\n",
       "CC22     5\n",
       "CC1      5\n",
       "CC5      4\n",
       "CC8      2\n",
       "Name: CC, dtype: int64"
      ]
     },
     "execution_count": 16,
     "metadata": {},
     "output_type": "execute_result"
    }
   ],
   "source": [
    "MLST_DF[\"CC\"].value_counts()"
   ]
  },
  {
   "cell_type": "code",
   "execution_count": 17,
   "id": "e0ba1533-6ef6-4b26-b410-4d8f376cb570",
   "metadata": {},
   "outputs": [
    {
     "data": {
      "text/plain": [
       "Index(['CC1', 'CC15', 'CC22', 'CC30', 'CC45', 'CC5', 'CC8', 'None'], dtype='object')"
      ]
     },
     "execution_count": 17,
     "metadata": {},
     "output_type": "execute_result"
    }
   ],
   "source": [
    "MLST_DF[\"CC\"].value_counts().index.sort_values()"
   ]
  },
  {
   "cell_type": "code",
   "execution_count": null,
   "id": "065d651b-8b5a-4516-805f-f3543353af79",
   "metadata": {},
   "outputs": [],
   "source": []
  },
  {
   "cell_type": "code",
   "execution_count": 18,
   "id": "026960f1-6597-4450-b44b-1c4f43bc23c1",
   "metadata": {},
   "outputs": [
    {
     "data": {
      "text/html": [
       "<div>\n",
       "<style scoped>\n",
       "    .dataframe tbody tr th:only-of-type {\n",
       "        vertical-align: middle;\n",
       "    }\n",
       "\n",
       "    .dataframe tbody tr th {\n",
       "        vertical-align: top;\n",
       "    }\n",
       "\n",
       "    .dataframe thead th {\n",
       "        text-align: right;\n",
       "    }\n",
       "</style>\n",
       "<table border=\"1\" class=\"dataframe\">\n",
       "  <thead>\n",
       "    <tr style=\"text-align: right;\">\n",
       "      <th></th>\n",
       "      <th>SampleID</th>\n",
       "      <th>PatientID</th>\n",
       "      <th>Timepoint</th>\n",
       "      <th>Bioproject</th>\n",
       "      <th>SR_RunAccession</th>\n",
       "      <th>Assembly_Accession</th>\n",
       "      <th>Organism</th>\n",
       "      <th>Genome_ASM_PATH</th>\n",
       "    </tr>\n",
       "  </thead>\n",
       "  <tbody>\n",
       "    <tr>\n",
       "      <th>0</th>\n",
       "      <td>C100</td>\n",
       "      <td>276</td>\n",
       "      <td>T0</td>\n",
       "      <td>PRJNA914892</td>\n",
       "      <td>SRR22859841</td>\n",
       "      <td>GCA_030290035.1</td>\n",
       "      <td>Staphylococcus aureus</td>\n",
       "      <td>/n/data1/hms/dbmi/farhat/mm774/Projects/241206...</td>\n",
       "    </tr>\n",
       "    <tr>\n",
       "      <th>1</th>\n",
       "      <td>C364</td>\n",
       "      <td>276</td>\n",
       "      <td>T1</td>\n",
       "      <td>PRJNA914892</td>\n",
       "      <td>SRR22859839</td>\n",
       "      <td>GCA_030289195.1</td>\n",
       "      <td>Staphylococcus aureus</td>\n",
       "      <td>/n/data1/hms/dbmi/farhat/mm774/Projects/241206...</td>\n",
       "    </tr>\n",
       "    <tr>\n",
       "      <th>2</th>\n",
       "      <td>C22</td>\n",
       "      <td>420</td>\n",
       "      <td>T0</td>\n",
       "      <td>PRJNA914892</td>\n",
       "      <td>SRR22859927</td>\n",
       "      <td>GCA_030290075.1</td>\n",
       "      <td>Staphylococcus aureus</td>\n",
       "      <td>/n/data1/hms/dbmi/farhat/mm774/Projects/241206...</td>\n",
       "    </tr>\n",
       "    <tr>\n",
       "      <th>3</th>\n",
       "      <td>C320</td>\n",
       "      <td>420</td>\n",
       "      <td>T1</td>\n",
       "      <td>PRJNA914892</td>\n",
       "      <td>SRR22859838</td>\n",
       "      <td>GCA_030289995.1</td>\n",
       "      <td>Staphylococcus aureus</td>\n",
       "      <td>/n/data1/hms/dbmi/farhat/mm774/Projects/241206...</td>\n",
       "    </tr>\n",
       "    <tr>\n",
       "      <th>4</th>\n",
       "      <td>C235</td>\n",
       "      <td>539</td>\n",
       "      <td>T0</td>\n",
       "      <td>PRJNA914892</td>\n",
       "      <td>SRR22859837</td>\n",
       "      <td>GCA_030290115.1</td>\n",
       "      <td>Staphylococcus aureus</td>\n",
       "      <td>/n/data1/hms/dbmi/farhat/mm774/Projects/241206...</td>\n",
       "    </tr>\n",
       "  </tbody>\n",
       "</table>\n",
       "</div>"
      ],
      "text/plain": [
       "  SampleID  PatientID Timepoint   Bioproject SR_RunAccession  \\\n",
       "0     C100        276        T0  PRJNA914892     SRR22859841   \n",
       "1     C364        276        T1  PRJNA914892     SRR22859839   \n",
       "2      C22        420        T0  PRJNA914892     SRR22859927   \n",
       "3     C320        420        T1  PRJNA914892     SRR22859838   \n",
       "4     C235        539        T0  PRJNA914892     SRR22859837   \n",
       "\n",
       "  Assembly_Accession               Organism  \\\n",
       "0    GCA_030290035.1  Staphylococcus aureus   \n",
       "1    GCA_030289195.1  Staphylococcus aureus   \n",
       "2    GCA_030290075.1  Staphylococcus aureus   \n",
       "3    GCA_030289995.1  Staphylococcus aureus   \n",
       "4    GCA_030290115.1  Staphylococcus aureus   \n",
       "\n",
       "                                     Genome_ASM_PATH  \n",
       "0  /n/data1/hms/dbmi/farhat/mm774/Projects/241206...  \n",
       "1  /n/data1/hms/dbmi/farhat/mm774/Projects/241206...  \n",
       "2  /n/data1/hms/dbmi/farhat/mm774/Projects/241206...  \n",
       "3  /n/data1/hms/dbmi/farhat/mm774/Projects/241206...  \n",
       "4  /n/data1/hms/dbmi/farhat/mm774/Projects/241206...  "
      ]
     },
     "execution_count": 18,
     "metadata": {},
     "output_type": "execute_result"
    }
   ],
   "source": [
    "SA_68CI_Info_DF.head(5)"
   ]
  },
  {
   "cell_type": "code",
   "execution_count": 19,
   "id": "46829c88-d72b-4cfa-aa51-ab327a94fd53",
   "metadata": {},
   "outputs": [
    {
     "data": {
      "text/html": [
       "<div>\n",
       "<style scoped>\n",
       "    .dataframe tbody tr th:only-of-type {\n",
       "        vertical-align: middle;\n",
       "    }\n",
       "\n",
       "    .dataframe tbody tr th {\n",
       "        vertical-align: top;\n",
       "    }\n",
       "\n",
       "    .dataframe thead th {\n",
       "        text-align: right;\n",
       "    }\n",
       "</style>\n",
       "<table border=\"1\" class=\"dataframe\">\n",
       "  <thead>\n",
       "    <tr style=\"text-align: right;\">\n",
       "      <th></th>\n",
       "      <th>SampleID</th>\n",
       "      <th>PatientID</th>\n",
       "      <th>Timepoint</th>\n",
       "      <th>Bioproject</th>\n",
       "      <th>SR_RunAccession</th>\n",
       "      <th>Assembly_Accession</th>\n",
       "      <th>Organism</th>\n",
       "      <th>Genome_ASM_PATH</th>\n",
       "    </tr>\n",
       "  </thead>\n",
       "  <tbody>\n",
       "    <tr>\n",
       "      <th>63</th>\n",
       "      <td>C309</td>\n",
       "      <td>5728</td>\n",
       "      <td>T1</td>\n",
       "      <td>PRJNA914892</td>\n",
       "      <td>SRR22860006</td>\n",
       "      <td>GCA_030289135.1</td>\n",
       "      <td>Staphylococcus aureus</td>\n",
       "      <td>/n/data1/hms/dbmi/farhat/mm774/Projects/241206...</td>\n",
       "    </tr>\n",
       "    <tr>\n",
       "      <th>64</th>\n",
       "      <td>C325</td>\n",
       "      <td>5767</td>\n",
       "      <td>T0</td>\n",
       "      <td>PRJNA914892</td>\n",
       "      <td>SRR22860005</td>\n",
       "      <td>GCA_030289055.1</td>\n",
       "      <td>Staphylococcus aureus</td>\n",
       "      <td>/n/data1/hms/dbmi/farhat/mm774/Projects/241206...</td>\n",
       "    </tr>\n",
       "    <tr>\n",
       "      <th>65</th>\n",
       "      <td>C363</td>\n",
       "      <td>5767</td>\n",
       "      <td>T1</td>\n",
       "      <td>PRJNA914892</td>\n",
       "      <td>SRR22860003</td>\n",
       "      <td>GCA_030288995.1</td>\n",
       "      <td>Staphylococcus aureus</td>\n",
       "      <td>/n/data1/hms/dbmi/farhat/mm774/Projects/241206...</td>\n",
       "    </tr>\n",
       "    <tr>\n",
       "      <th>66</th>\n",
       "      <td>C311</td>\n",
       "      <td>5911</td>\n",
       "      <td>T0</td>\n",
       "      <td>PRJNA914892</td>\n",
       "      <td>SRR22860002</td>\n",
       "      <td>GCA_030288935.1</td>\n",
       "      <td>Staphylococcus aureus</td>\n",
       "      <td>/n/data1/hms/dbmi/farhat/mm774/Projects/241206...</td>\n",
       "    </tr>\n",
       "    <tr>\n",
       "      <th>67</th>\n",
       "      <td>C357</td>\n",
       "      <td>5911</td>\n",
       "      <td>T1</td>\n",
       "      <td>PRJNA914892</td>\n",
       "      <td>SRR22860001</td>\n",
       "      <td>GCA_030289095.1</td>\n",
       "      <td>Staphylococcus aureus</td>\n",
       "      <td>/n/data1/hms/dbmi/farhat/mm774/Projects/241206...</td>\n",
       "    </tr>\n",
       "  </tbody>\n",
       "</table>\n",
       "</div>"
      ],
      "text/plain": [
       "   SampleID  PatientID Timepoint   Bioproject SR_RunAccession  \\\n",
       "63     C309       5728        T1  PRJNA914892     SRR22860006   \n",
       "64     C325       5767        T0  PRJNA914892     SRR22860005   \n",
       "65     C363       5767        T1  PRJNA914892     SRR22860003   \n",
       "66     C311       5911        T0  PRJNA914892     SRR22860002   \n",
       "67     C357       5911        T1  PRJNA914892     SRR22860001   \n",
       "\n",
       "   Assembly_Accession               Organism  \\\n",
       "63    GCA_030289135.1  Staphylococcus aureus   \n",
       "64    GCA_030289055.1  Staphylococcus aureus   \n",
       "65    GCA_030288995.1  Staphylococcus aureus   \n",
       "66    GCA_030288935.1  Staphylococcus aureus   \n",
       "67    GCA_030289095.1  Staphylococcus aureus   \n",
       "\n",
       "                                      Genome_ASM_PATH  \n",
       "63  /n/data1/hms/dbmi/farhat/mm774/Projects/241206...  \n",
       "64  /n/data1/hms/dbmi/farhat/mm774/Projects/241206...  \n",
       "65  /n/data1/hms/dbmi/farhat/mm774/Projects/241206...  \n",
       "66  /n/data1/hms/dbmi/farhat/mm774/Projects/241206...  \n",
       "67  /n/data1/hms/dbmi/farhat/mm774/Projects/241206...  "
      ]
     },
     "execution_count": 19,
     "metadata": {},
     "output_type": "execute_result"
    }
   ],
   "source": [
    "SA_68CI_Info_DF.tail(5)"
   ]
  },
  {
   "cell_type": "code",
   "execution_count": null,
   "id": "43a9df97-7ed3-4945-89f0-4f6d9e9b43bc",
   "metadata": {},
   "outputs": [],
   "source": []
  },
  {
   "cell_type": "markdown",
   "id": "d396de51-daa3-4a8d-b83c-597a713e5786",
   "metadata": {},
   "source": [
    "### Create color mapping for sampleIDs (Based on phylo-lineage)"
   ]
  },
  {
   "cell_type": "code",
   "execution_count": 20,
   "id": "b7181b51-6b41-4f0d-a250-09fffc9dc036",
   "metadata": {},
   "outputs": [],
   "source": [
    "# Dictionary for lineage to color mapping\n",
    "\n",
    "LinToColor_Dict = {\n",
    "    \"CC1\": \"#3BAF9F\",  # Teal\n",
    "    \"CC15\": \"#9DB17C\",  # Light Olive Green\n",
    "    \"CC22\": \"#D2A679\",  # Earthy Ochre\n",
    "    \"CC30\": \"#9E9AC8\",  # Soft Lavender\n",
    "    \"CC45\": \"#F88379\",  # Coral Pink\n",
    "    \"CC5\": \"#BFFF00\",  # Bright Lime Green\n",
    "    \"CC8\": \"#87CEEB\",  # Sky Blue\n",
    "    \"None\": \"black\",  # Default for undefined categories\n",
    "}\n",
    "\n",
    "# # Extracting the mapping between IsolateID and PrimaryLineage_Ill\n",
    "lineage_mapping = MLST_DF.set_index('SampleID')['CC'].to_dict()\n",
    "#lineage_mapping = {}\n",
    "\n",
    "# # Creating a color mapping for the samples\n",
    "sample_colors = {sample: LinToColor_Dict.get(lineage, \"black\") for sample, lineage in lineage_mapping.items()}\n",
    "\n",
    "ID_To_PrimLineage_Dict = lineage_mapping\n"
   ]
  },
  {
   "cell_type": "code",
   "execution_count": 21,
   "id": "9cd20e79-5caf-4410-9fcb-e40fe500bef0",
   "metadata": {},
   "outputs": [],
   "source": [
    "#ID_To_PrimLineage_Dict"
   ]
  },
  {
   "cell_type": "code",
   "execution_count": 22,
   "id": "18c6b31d-b4c3-40ff-be1f-ee7e45157f55",
   "metadata": {},
   "outputs": [
    {
     "data": {
      "text/plain": [
       "{'C100': 'CC45',\n",
       " 'C364': 'CC15',\n",
       " 'C22': 'None',\n",
       " 'C320': 'None',\n",
       " 'C235': 'CC8',\n",
       " 'C318': 'CC30',\n",
       " 'C79': 'CC5',\n",
       " 'C148': 'CC8',\n",
       " 'C265': 'None',\n",
       " 'C324': 'None',\n",
       " 'C13': 'CC30',\n",
       " 'C76': 'CC30',\n",
       " 'C80': 'CC45',\n",
       " 'C208': 'CC45',\n",
       " 'C240': 'None',\n",
       " 'C295': 'None',\n",
       " 'C52': 'CC30',\n",
       " 'C113': 'CC30',\n",
       " 'C24': 'CC22',\n",
       " 'C195': 'CC45',\n",
       " 'C9': 'CC45',\n",
       " 'C353': 'CC45',\n",
       " 'C121': 'CC45',\n",
       " 'C255': 'CC15',\n",
       " 'C3': 'None',\n",
       " 'C56': 'None',\n",
       " 'C32': 'None',\n",
       " 'C188': 'CC15',\n",
       " 'C16': 'CC22',\n",
       " 'C70': 'CC22',\n",
       " 'C67': 'CC45',\n",
       " 'C294': 'CC45',\n",
       " 'C21': 'None',\n",
       " 'C273': 'CC30',\n",
       " 'C72': 'CC45',\n",
       " 'C351': 'CC45',\n",
       " 'C133': 'None',\n",
       " 'C179': 'None',\n",
       " 'C45': 'None',\n",
       " 'C149': 'None',\n",
       " 'C91': 'CC45',\n",
       " 'C209': 'CC1',\n",
       " 'C206': 'None',\n",
       " 'C276': 'None',\n",
       " 'C136': 'CC45',\n",
       " 'C197': 'CC5',\n",
       " 'C155': 'CC15',\n",
       " 'C339': 'CC1',\n",
       " 'C196': 'None',\n",
       " 'C342': 'CC1',\n",
       " 'C183': 'CC30',\n",
       " 'C312': 'None',\n",
       " 'C182': 'None',\n",
       " 'C233': 'None',\n",
       " 'C224': 'CC1',\n",
       " 'C349': 'CC1',\n",
       " 'C222': 'CC22',\n",
       " 'C333': 'CC22',\n",
       " 'C245': 'None',\n",
       " 'C314': 'CC45',\n",
       " 'C285': 'CC5',\n",
       " 'C355': 'None',\n",
       " 'C241': 'None',\n",
       " 'C309': 'None',\n",
       " 'C325': 'CC15',\n",
       " 'C363': 'CC5',\n",
       " 'C311': 'CC30',\n",
       " 'C357': 'CC30'}"
      ]
     },
     "execution_count": 22,
     "metadata": {},
     "output_type": "execute_result"
    }
   ],
   "source": [
    "ID_To_PrimLineage_Dict"
   ]
  },
  {
   "cell_type": "code",
   "execution_count": null,
   "id": "6e15b2ee-eebe-4f6e-a72f-7ee9129ca58e",
   "metadata": {},
   "outputs": [],
   "source": []
  },
  {
   "cell_type": "markdown",
   "id": "fdc0cdf3-c53e-42ec-92b9-74196679909e",
   "metadata": {},
   "source": [
    "### Look at lineage distribution across dataset"
   ]
  },
  {
   "cell_type": "code",
   "execution_count": 23,
   "id": "c2ebb60d-8bb4-425a-b5d1-bd9049b60590",
   "metadata": {},
   "outputs": [
    {
     "data": {
      "text/plain": [
       "None    24\n",
       "CC45    14\n",
       "CC30     9\n",
       "CC15     5\n",
       "CC22     5\n",
       "CC1      5\n",
       "CC5      4\n",
       "CC8      2\n",
       "Name: CC, dtype: int64"
      ]
     },
     "execution_count": 23,
     "metadata": {},
     "output_type": "execute_result"
    }
   ],
   "source": [
    "MLST_DF[\"CC\"].value_counts()"
   ]
  },
  {
   "cell_type": "code",
   "execution_count": 24,
   "id": "d16a0db6-075d-4e67-9605-faf97555eafa",
   "metadata": {},
   "outputs": [
    {
     "data": {
      "image/png": "[encoded data removed]",
      "text/plain": [
       "<Figure size 432x288 with 1 Axes>"
      ]
     },
     "metadata": {},
     "output_type": "display_data"
    }
   ],
   "source": [
    "# https://www.statology.org/seaborn-pie-chart/\n",
    "\n",
    "#define data\n",
    "data = MLST_DF[\"CC\"].value_counts().values\n",
    "labels = MLST_DF[\"CC\"].value_counts().index\n",
    "\n",
    "\n",
    "colors_for_labels = [ LinToColor_Dict[label] for label in labels]\n",
    "\n",
    "plt.title(\"S. aureus isolates from HoutakBouras-2023 - (N = 68) - MLST Clonal Complex Breakdown\")\n",
    "plt.pie(data, labels = labels, colors = colors_for_labels, autopct='%.0f%%')\n",
    "plt.show()\n"
   ]
  },
  {
   "cell_type": "code",
   "execution_count": 25,
   "id": "7f93683f-17ab-46a3-a6b8-8146b6c88425",
   "metadata": {},
   "outputs": [
    {
     "data": {
      "text/plain": [
       "array([24, 14,  9,  5,  5,  5,  4,  2])"
      ]
     },
     "execution_count": 25,
     "metadata": {},
     "output_type": "execute_result"
    }
   ],
   "source": [
    "data"
   ]
  },
  {
   "cell_type": "code",
   "execution_count": 26,
   "id": "c749cb16-5c6b-476b-8641-9883c7f76e1f",
   "metadata": {},
   "outputs": [
    {
     "data": {
      "text/plain": [
       "Index(['None', 'CC45', 'CC30', 'CC15', 'CC22', 'CC1', 'CC5', 'CC8'], dtype='object')"
      ]
     },
     "execution_count": 26,
     "metadata": {},
     "output_type": "execute_result"
    }
   ],
   "source": [
    "labels"
   ]
  },
  {
   "cell_type": "code",
   "execution_count": null,
   "id": "33ef4b4b-aa3b-4582-be6d-6c93e1cb2d4f",
   "metadata": {},
   "outputs": [],
   "source": []
  },
  {
   "cell_type": "code",
   "execution_count": null,
   "id": "d59f5d4d-b95e-449a-b39f-4f1d7556a965",
   "metadata": {},
   "outputs": [],
   "source": []
  },
  {
   "cell_type": "markdown",
   "id": "bd576b3f-d615-4b42-80aa-384935e21e23",
   "metadata": {},
   "source": [
    "# Define output dir of the Mtb-WGA-SMK processing pipeline"
   ]
  },
  {
   "cell_type": "code",
   "execution_count": 27,
   "id": "84fde187-2635-4f65-a3a1-72fab1e82ae3",
   "metadata": {},
   "outputs": [
    {
     "name": "stdout",
     "output_type": "stream",
     "text": [
      "bin\n",
      "boot\n",
      "dev\n",
      "etc\n",
      "home\n",
      "lib\n",
      "lib64\n",
      "media\n",
      "mnt\n",
      "n\n",
      "opt\n",
      "proc\n",
      "programs\n",
      "root\n",
      "run\n",
      "sbin\n",
      "srv\n",
      "sys\n",
      "tmp\n",
      "usr\n",
      "var\n",
      "www\n"
     ]
    }
   ],
   "source": [
    "!ls -1 $Ecoli_PG_MainDir/"
   ]
  },
  {
   "cell_type": "code",
   "execution_count": 28,
   "id": "66d22aab-0b22-43dc-be42-9e3d5dd2323d",
   "metadata": {},
   "outputs": [],
   "source": [
    "# Define varaint calling pipeline output directories\n",
    "\n",
    "WGA_SMK_Outputs_Dir = f\"{SA_PG_MainDir}/SMK_OutDirs\"\n",
    "\n",
    "PG_SA_68I_OutDir = WGA_SMK_Outputs_Dir + \"/241206_Saureus_HoutakBouras2023_68I_V1\"\n"
   ]
  },
  {
   "cell_type": "code",
   "execution_count": 29,
   "id": "44e3d1f1-d41d-40a6-906f-12f1dedaf703",
   "metadata": {},
   "outputs": [
    {
     "name": "stdout",
     "output_type": "stream",
     "text": [
      "241206_Saureus_HoutakBouras2023_68I_V1\n"
     ]
    }
   ],
   "source": [
    "!ls -1 $WGA_SMK_Outputs_Dir"
   ]
  },
  {
   "cell_type": "code",
   "execution_count": 30,
   "id": "0f98435b-ff66-4936-9e29-a8ef42da2312",
   "metadata": {},
   "outputs": [],
   "source": [
    "target_OutputDir = PG_SA_68I_OutDir\n",
    "\n",
    "i_Pangenome_Dir = f\"{target_OutputDir}/PanGenome_Analysis\"\n"
   ]
  },
  {
   "cell_type": "code",
   "execution_count": 31,
   "id": "c731a375-1df5-4076-8c4d-87a4cf0727f7",
   "metadata": {},
   "outputs": [
    {
     "data": {
      "text/plain": [
       "{'C100': 'CC45',\n",
       " 'C364': 'CC15',\n",
       " 'C22': 'None',\n",
       " 'C320': 'None',\n",
       " 'C235': 'CC8',\n",
       " 'C318': 'CC30',\n",
       " 'C79': 'CC5',\n",
       " 'C148': 'CC8',\n",
       " 'C265': 'None',\n",
       " 'C324': 'None',\n",
       " 'C13': 'CC30',\n",
       " 'C76': 'CC30',\n",
       " 'C80': 'CC45',\n",
       " 'C208': 'CC45',\n",
       " 'C240': 'None',\n",
       " 'C295': 'None',\n",
       " 'C52': 'CC30',\n",
       " 'C113': 'CC30',\n",
       " 'C24': 'CC22',\n",
       " 'C195': 'CC45',\n",
       " 'C9': 'CC45',\n",
       " 'C353': 'CC45',\n",
       " 'C121': 'CC45',\n",
       " 'C255': 'CC15',\n",
       " 'C3': 'None',\n",
       " 'C56': 'None',\n",
       " 'C32': 'None',\n",
       " 'C188': 'CC15',\n",
       " 'C16': 'CC22',\n",
       " 'C70': 'CC22',\n",
       " 'C67': 'CC45',\n",
       " 'C294': 'CC45',\n",
       " 'C21': 'None',\n",
       " 'C273': 'CC30',\n",
       " 'C72': 'CC45',\n",
       " 'C351': 'CC45',\n",
       " 'C133': 'None',\n",
       " 'C179': 'None',\n",
       " 'C45': 'None',\n",
       " 'C149': 'None',\n",
       " 'C91': 'CC45',\n",
       " 'C209': 'CC1',\n",
       " 'C206': 'None',\n",
       " 'C276': 'None',\n",
       " 'C136': 'CC45',\n",
       " 'C197': 'CC5',\n",
       " 'C155': 'CC15',\n",
       " 'C339': 'CC1',\n",
       " 'C196': 'None',\n",
       " 'C342': 'CC1',\n",
       " 'C183': 'CC30',\n",
       " 'C312': 'None',\n",
       " 'C182': 'None',\n",
       " 'C233': 'None',\n",
       " 'C224': 'CC1',\n",
       " 'C349': 'CC1',\n",
       " 'C222': 'CC22',\n",
       " 'C333': 'CC22',\n",
       " 'C245': 'None',\n",
       " 'C314': 'CC45',\n",
       " 'C285': 'CC5',\n",
       " 'C355': 'None',\n",
       " 'C241': 'None',\n",
       " 'C309': 'None',\n",
       " 'C325': 'CC15',\n",
       " 'C363': 'CC5',\n",
       " 'C311': 'CC30',\n",
       " 'C357': 'CC30'}"
      ]
     },
     "execution_count": 31,
     "metadata": {},
     "output_type": "execute_result"
    }
   ],
   "source": [
    "ID_To_PrimLineage_Dict"
   ]
  },
  {
   "cell_type": "markdown",
   "id": "25ab8745-2324-419e-b5f2-37e28a69a610",
   "metadata": {},
   "source": [
    "## Parse IQ-Tree phylogeny"
   ]
  },
  {
   "cell_type": "code",
   "execution_count": 32,
   "id": "582f1d52-2f86-416e-9751-a2d28053f946",
   "metadata": {},
   "outputs": [],
   "source": [
    "Phylos_OutDir = f\"{target_OutputDir}/Phylogenies\"\n",
    "\n",
    "IQTree_OutDir = f\"{Phylos_OutDir}/iqtree\"\n",
    "\n",
    "IQ_Tree_MP_PATH = f\"{IQTree_OutDir}/Panaroo.Strict.MergeParalogs.MidRoot.WiNodeNames.newick\"    \n"
   ]
  },
  {
   "cell_type": "code",
   "execution_count": 33,
   "id": "d99b0561-9545-4c6c-b503-fd3106e99587",
   "metadata": {},
   "outputs": [],
   "source": [
    "IQ_Tree_MP = Tree(IQ_Tree_MP_PATH, format = 1)\n"
   ]
  },
  {
   "cell_type": "code",
   "execution_count": 34,
   "id": "6c333136-a71d-4b07-b571-745305bc4d3f",
   "metadata": {},
   "outputs": [
    {
     "name": "stdout",
     "output_type": "stream",
     "text": [
      "135\n"
     ]
    }
   ],
   "source": [
    "# Count the number of nodes after midpoint rooting\n",
    "num_nodes = len(IQ_Tree_MP.get_leaves()) + len([node for node in IQ_Tree_MP.traverse() if not node.is_leaf()])\n",
    "\n",
    "print(num_nodes)"
   ]
  },
  {
   "cell_type": "code",
   "execution_count": 35,
   "id": "f2a62527-5eb7-433d-acc7-fe5254c00639",
   "metadata": {},
   "outputs": [
    {
     "data": {
      "text/plain": [
       "{'C100': 'CC45',\n",
       " 'C364': 'CC15',\n",
       " 'C22': 'None',\n",
       " 'C320': 'None',\n",
       " 'C235': 'CC8',\n",
       " 'C318': 'CC30',\n",
       " 'C79': 'CC5',\n",
       " 'C148': 'CC8',\n",
       " 'C265': 'None',\n",
       " 'C324': 'None',\n",
       " 'C13': 'CC30',\n",
       " 'C76': 'CC30',\n",
       " 'C80': 'CC45',\n",
       " 'C208': 'CC45',\n",
       " 'C240': 'None',\n",
       " 'C295': 'None',\n",
       " 'C52': 'CC30',\n",
       " 'C113': 'CC30',\n",
       " 'C24': 'CC22',\n",
       " 'C195': 'CC45',\n",
       " 'C9': 'CC45',\n",
       " 'C353': 'CC45',\n",
       " 'C121': 'CC45',\n",
       " 'C255': 'CC15',\n",
       " 'C3': 'None',\n",
       " 'C56': 'None',\n",
       " 'C32': 'None',\n",
       " 'C188': 'CC15',\n",
       " 'C16': 'CC22',\n",
       " 'C70': 'CC22',\n",
       " 'C67': 'CC45',\n",
       " 'C294': 'CC45',\n",
       " 'C21': 'None',\n",
       " 'C273': 'CC30',\n",
       " 'C72': 'CC45',\n",
       " 'C351': 'CC45',\n",
       " 'C133': 'None',\n",
       " 'C179': 'None',\n",
       " 'C45': 'None',\n",
       " 'C149': 'None',\n",
       " 'C91': 'CC45',\n",
       " 'C209': 'CC1',\n",
       " 'C206': 'None',\n",
       " 'C276': 'None',\n",
       " 'C136': 'CC45',\n",
       " 'C197': 'CC5',\n",
       " 'C155': 'CC15',\n",
       " 'C339': 'CC1',\n",
       " 'C196': 'None',\n",
       " 'C342': 'CC1',\n",
       " 'C183': 'CC30',\n",
       " 'C312': 'None',\n",
       " 'C182': 'None',\n",
       " 'C233': 'None',\n",
       " 'C224': 'CC1',\n",
       " 'C349': 'CC1',\n",
       " 'C222': 'CC22',\n",
       " 'C333': 'CC22',\n",
       " 'C245': 'None',\n",
       " 'C314': 'CC45',\n",
       " 'C285': 'CC5',\n",
       " 'C355': 'None',\n",
       " 'C241': 'None',\n",
       " 'C309': 'None',\n",
       " 'C325': 'CC15',\n",
       " 'C363': 'CC5',\n",
       " 'C311': 'CC30',\n",
       " 'C357': 'CC30'}"
      ]
     },
     "execution_count": 35,
     "metadata": {},
     "output_type": "execute_result"
    }
   ],
   "source": [
    "ID_To_PrimLineage_Dict"
   ]
  },
  {
   "cell_type": "markdown",
   "id": "eeece2dd-8245-4e0b-9d25-665e03e7e9ba",
   "metadata": {},
   "source": [
    "### Add lineage info to tree and sort by sub-lineage"
   ]
  },
  {
   "cell_type": "code",
   "execution_count": 36,
   "id": "8c03d350-cfe4-48a4-89c2-e1ac1ac881fe",
   "metadata": {},
   "outputs": [
    {
     "name": "stdout",
     "output_type": "stream",
     "text": [
      "68\n"
     ]
    }
   ],
   "source": [
    "count = 0\n",
    "for n in IQ_Tree_MP.get_leaves():\n",
    "\n",
    "    if \"Bakta\" in n.name:\n",
    "        n.name = n.name.split(\".\")[0]\n",
    "    \n",
    "    n.add_feature(\"Primary_lineage\", ID_To_PrimLineage_Dict.get(n.name, \"Unknown Lineage\") )\n",
    "\n",
    "    count +=1\n",
    "\n",
    "print(count)  \n",
    "IQ_Tree_MP.sort_descendants(attr='Primary_lineage')\n"
   ]
  },
  {
   "cell_type": "markdown",
   "id": "d2b2b54f-1d26-4323-ab86-f5fe0b0a6a37",
   "metadata": {},
   "source": [
    "## Parsing over each node of the tree (ETE3) and infer lineage"
   ]
  },
  {
   "cell_type": "code",
   "execution_count": 37,
   "id": "ec72b9ab-de6f-4840-b4bd-93239f6a5085",
   "metadata": {
    "scrolled": true
   },
   "outputs": [],
   "source": [
    "IQ_node_To_PrimaryLin_Dict = {}\n",
    "\n",
    "for node in IQ_Tree_MP.iter_descendants(\"postorder\"):\n",
    "    # Do some analysis on node\n",
    "    \n",
    "    #print(node.name)\n",
    "    listOf_ChildLineages = []\n",
    "    \n",
    "    for child_node in node.get_descendants():\n",
    "        if child_node.is_leaf():\n",
    "            listOf_ChildLineages.append(  (child_node.Primary_lineage) )\n",
    "        \n",
    "        #print(node.name, listOf_ChildLineages)\n",
    "        \n",
    "    set_Of_ChildLineages = list(set(listOf_ChildLineages))\n",
    "\n",
    "    #print(node.name, set_Of_ChildLineages  )\n",
    "    \n",
    "    if len(set_Of_ChildLineages) == 1:\n",
    "        OnlyOneLineage = True\n",
    "    else:\n",
    "        OnlyOneLineage = False\n",
    "    \n",
    "    if OnlyOneLineage:\n",
    "        IQ_node_To_PrimaryLin_Dict[node.name] = set_Of_ChildLineages[0]\n",
    "\n",
    "IQ_node_To_PrimaryLin_Dict.update(ID_To_PrimLineage_Dict)\n",
    "    "
   ]
  },
  {
   "cell_type": "code",
   "execution_count": null,
   "id": "4b059907-b154-414f-8352-11975b7696ea",
   "metadata": {},
   "outputs": [],
   "source": []
  },
  {
   "cell_type": "markdown",
   "id": "2b87f6cb-d1cb-4658-8f73-46ab1c1620c0",
   "metadata": {},
   "source": [
    "## Output \"node_To_PrimaryLin_Dict\" dictionary "
   ]
  },
  {
   "cell_type": "code",
   "execution_count": 38,
   "id": "540cda94-5925-4dd6-9640-07395f826713",
   "metadata": {},
   "outputs": [
    {
     "name": "stdout",
     "output_type": "stream",
     "text": [
      "mkdir: cannot create directory ‘PhyloInfo/’: File exists\n"
     ]
    }
   ],
   "source": [
    "import json \n",
    "\n",
    "!mkdir PhyloInfo/\n",
    "IQ_NodeToPriLineage_Dict_JSON = f\"{IQTree_OutDir}/IQTrees.NodeToPrimaryLineage.json\"\n",
    "\n",
    "with open(IQ_NodeToPriLineage_Dict_JSON, 'w') as json_file:\n",
    "   json.dump(IQ_node_To_PrimaryLin_Dict, json_file)\n"
   ]
  },
  {
   "cell_type": "markdown",
   "id": "c286d878-15f5-453b-b500-d3cf48038218",
   "metadata": {},
   "source": [
    "#### test reading back in the JSON"
   ]
  },
  {
   "cell_type": "code",
   "execution_count": 39,
   "id": "c4decb13-758e-4125-b97b-5c6c2590bd54",
   "metadata": {},
   "outputs": [],
   "source": [
    "with open(IQ_NodeToPriLineage_Dict_JSON) as json_file:\n",
    "   IQ_node_To_PrimaryLin_Dict = json.load(json_file)"
   ]
  },
  {
   "cell_type": "code",
   "execution_count": 40,
   "id": "46a3eaaa-b7a4-4270-ba63-0a6f46e6d3a0",
   "metadata": {},
   "outputs": [
    {
     "data": {
      "text/plain": [
       "102"
      ]
     },
     "execution_count": 40,
     "metadata": {},
     "output_type": "execute_result"
    }
   ],
   "source": [
    "len(list(IQ_node_To_PrimaryLin_Dict.keys()))"
   ]
  },
  {
   "cell_type": "code",
   "execution_count": 41,
   "id": "accdef1e-2a54-4d83-8d9c-cf49b825d91d",
   "metadata": {},
   "outputs": [
    {
     "data": {
      "text/plain": [
       "{'Node_61': 'CC1',\n",
       " 'Node_54': 'CC1',\n",
       " 'Node_53': 'None',\n",
       " 'Node_64': 'None',\n",
       " 'Node_62': 'None',\n",
       " 'Node_48': 'CC1',\n",
       " 'Node_56': 'CC5',\n",
       " 'Node_49': 'CC5',\n",
       " 'Node_65': 'CC15',\n",
       " 'Node_66': 'CC15',\n",
       " 'Node_63': 'CC15',\n",
       " 'Node_59': 'CC15',\n",
       " 'Node_58': 'None',\n",
       " 'Node_57': 'None',\n",
       " 'Node_50': 'None',\n",
       " 'Node_17': 'None',\n",
       " 'Node_18': 'None',\n",
       " 'Node_10': 'None',\n",
       " 'Node_5': 'None',\n",
       " 'Node_27': 'CC22',\n",
       " 'Node_16': 'CC22',\n",
       " 'Node_9': 'CC22',\n",
       " 'Node_4': 'CC22',\n",
       " 'Node_60': 'None',\n",
       " 'Node_42': 'CC30',\n",
       " 'Node_21': 'CC30',\n",
       " 'Node_12': 'CC30',\n",
       " 'Node_44': 'CC45',\n",
       " 'Node_33': 'CC45',\n",
       " 'Node_34': 'CC45',\n",
       " 'Node_24': 'CC45',\n",
       " 'Node_45': 'CC45',\n",
       " 'Node_36': 'CC45',\n",
       " 'Node_25': 'CC45',\n",
       " 'C100': 'CC45',\n",
       " 'C364': 'CC15',\n",
       " 'C22': 'None',\n",
       " 'C320': 'None',\n",
       " 'C235': 'CC8',\n",
       " 'C318': 'CC30',\n",
       " 'C79': 'CC5',\n",
       " 'C148': 'CC8',\n",
       " 'C265': 'None',\n",
       " 'C324': 'None',\n",
       " 'C13': 'CC30',\n",
       " 'C76': 'CC30',\n",
       " 'C80': 'CC45',\n",
       " 'C208': 'CC45',\n",
       " 'C240': 'None',\n",
       " 'C295': 'None',\n",
       " 'C52': 'CC30',\n",
       " 'C113': 'CC30',\n",
       " 'C24': 'CC22',\n",
       " 'C195': 'CC45',\n",
       " 'C9': 'CC45',\n",
       " 'C353': 'CC45',\n",
       " 'C121': 'CC45',\n",
       " 'C255': 'CC15',\n",
       " 'C3': 'None',\n",
       " 'C56': 'None',\n",
       " 'C32': 'None',\n",
       " 'C188': 'CC15',\n",
       " 'C16': 'CC22',\n",
       " 'C70': 'CC22',\n",
       " 'C67': 'CC45',\n",
       " 'C294': 'CC45',\n",
       " 'C21': 'None',\n",
       " 'C273': 'CC30',\n",
       " 'C72': 'CC45',\n",
       " 'C351': 'CC45',\n",
       " 'C133': 'None',\n",
       " 'C179': 'None',\n",
       " 'C45': 'None',\n",
       " 'C149': 'None',\n",
       " 'C91': 'CC45',\n",
       " 'C209': 'CC1',\n",
       " 'C206': 'None',\n",
       " 'C276': 'None',\n",
       " 'C136': 'CC45',\n",
       " 'C197': 'CC5',\n",
       " 'C155': 'CC15',\n",
       " 'C339': 'CC1',\n",
       " 'C196': 'None',\n",
       " 'C342': 'CC1',\n",
       " 'C183': 'CC30',\n",
       " 'C312': 'None',\n",
       " 'C182': 'None',\n",
       " 'C233': 'None',\n",
       " 'C224': 'CC1',\n",
       " 'C349': 'CC1',\n",
       " 'C222': 'CC22',\n",
       " 'C333': 'CC22',\n",
       " 'C245': 'None',\n",
       " 'C314': 'CC45',\n",
       " 'C285': 'CC5',\n",
       " 'C355': 'None',\n",
       " 'C241': 'None',\n",
       " 'C309': 'None',\n",
       " 'C325': 'CC15',\n",
       " 'C363': 'CC5',\n",
       " 'C311': 'CC30',\n",
       " 'C357': 'CC30'}"
      ]
     },
     "execution_count": 41,
     "metadata": {},
     "output_type": "execute_result"
    }
   ],
   "source": [
    "IQ_node_To_PrimaryLin_Dict"
   ]
  },
  {
   "cell_type": "markdown",
   "id": "29543e8d-4dfb-46e9-87a1-376b9bbc5162",
   "metadata": {},
   "source": [
    "### Link to ETE3 documentation for tree layout style\n",
    " http://etetoolkit.org/docs/latest/tutorial/tutorial_drawing.html#interactive-visualization-of-trees"
   ]
  },
  {
   "cell_type": "code",
   "execution_count": 42,
   "id": "a4d315e8-88ed-4a7d-8a17-a924bb5066c9",
   "metadata": {},
   "outputs": [],
   "source": [
    "\n",
    "node_To_PrimaryLin_Dict= IQ_node_To_PrimaryLin_Dict\n",
    "def ColorBranchByLineage_Layout(node):\n",
    "    F = ETE.TextFace(node.name, fsize=2)\n",
    "    if node.is_leaf():\n",
    "        #NameAnd_Lineage_Text =  f\"  {node.name} {node.Mtb_lineage}\"\n",
    "        #F_NameAndLineage = ETE.TextFace(NameAnd_Lineage_Text, fsize=3)\n",
    "        \n",
    "        #ETE.add_face_to_node(F_NameAndLineage, node, column=0, position=\"branch-right\")\n",
    "\n",
    "        \n",
    "        nstyle = ETE.NodeStyle() # http://etetoolkit.org/docs/latest/tutorial/tutorial_drawing.html#node-style\n",
    "        nstyle[\"fgcolor\"] = \"black\"\n",
    "        nstyle[\"size\"] = 1\n",
    "        \n",
    "        Node_PrimaryLin = node_To_PrimaryLin_Dict.get(node.name, \"None\")\n",
    "        \n",
    "        nstyle[\"vt_line_color\"] = LinToColor_Dict.get(Node_PrimaryLin, \"Black\")\n",
    "        nstyle[\"hz_line_color\"] = LinToColor_Dict.get(Node_PrimaryLin, \"Black\")\n",
    "          \n",
    "        node.set_style(nstyle)\n",
    "        node.margin_left = 10        \n",
    "    else: \n",
    "        nstyle = ETE.NodeStyle() # http://etetoolkit.org/docs/latest/tutorial/tutorial_drawing.html#node-style\n",
    "        nstyle[\"fgcolor\"] = \"black\"\n",
    "        nstyle[\"size\"] = 0\n",
    "        \n",
    "        Node_PrimaryLin = node_To_PrimaryLin_Dict.get(node.name, \"None\")\n",
    "        \n",
    "        nstyle[\"vt_line_color\"] = LinToColor_Dict.get(Node_PrimaryLin, \"Black\")\n",
    "        nstyle[\"hz_line_color\"] = LinToColor_Dict.get(Node_PrimaryLin, \"Black\")\n",
    "        \n",
    "        node.set_style(nstyle)\n",
    "\n",
    "\n",
    "ts_1 = ETE.TreeStyle()\n",
    "ts_1.show_leaf_name = False\n",
    "ts_1.show_branch_length = False\n",
    "ts_1.show_branch_support = False\n",
    "ts_1.show_scale = False #True\n",
    "#ts_1.branch_vertical_margin = 2\n",
    "ts_1.layout_fn = ColorBranchByLineage_Layout\n",
    "ts_1.rotation = 90\n",
    "\n",
    "\n",
    "ts_3 = ETE.TreeStyle()\n",
    "ts_3.show_leaf_name = False\n",
    "ts_3.show_branch_length = False\n",
    "ts_3.show_branch_support = False\n",
    "ts_3.show_scale = True #True\n",
    "ts_3.branch_vertical_margin = 2\n",
    "ts_3.layout_fn = ColorBranchByLineage_Layout\n",
    "ts_3.rotation = 90\n",
    "ts_3.scale_length = 0.001\n",
    "\n",
    "ts_3_circ = ETE.TreeStyle()\n",
    "ts_3_circ.mode = \"c\" # draw tree in circular mode\n",
    "ts_3_circ.arc_start = 0 #-180 # 0 degrees = 3 o'clock\n",
    "ts_3_circ.arc_span = 270\n",
    "ts_3_circ.show_leaf_name = False\n",
    "ts_3_circ.show_branch_length = False\n",
    "ts_3_circ.show_branch_support = False\n",
    "ts_3_circ.show_scale = False #True\n",
    "ts_3_circ.branch_vertical_margin = 2\n",
    "ts_3_circ.layout_fn = ColorBranchByLineage_Layout\n"
   ]
  },
  {
   "cell_type": "code",
   "execution_count": null,
   "id": "88abb03d-7ea2-4fa0-95a1-f3d50bf1607c",
   "metadata": {},
   "outputs": [],
   "source": []
  },
  {
   "cell_type": "markdown",
   "id": "ca79d613-fb51-4d4c-b8c9-a35d4d27751b",
   "metadata": {},
   "source": [
    "## Visualize IQ-Tree Phylogeny"
   ]
  },
  {
   "cell_type": "code",
   "execution_count": 43,
   "id": "80ac0909-90ed-4e79-8428-06a47a390512",
   "metadata": {},
   "outputs": [
    {
     "data": {
      "image/png": "[encoded data removed]",
      "text/plain": [
       "<IPython.core.display.Image object>"
      ]
     },
     "execution_count": 43,
     "metadata": {},
     "output_type": "execute_result"
    }
   ],
   "source": [
    "IQ_Tree_MP.render(\"%%inline\", h = 500, tree_style = ts_3)"
   ]
  },
  {
   "cell_type": "code",
   "execution_count": 44,
   "id": "71a946fa-6ea3-4ebb-a605-4b8c0421aa19",
   "metadata": {},
   "outputs": [
    {
     "name": "stdout",
     "output_type": "stream",
     "text": [
      "mkdir: cannot create directory ‘Results5_Plots/’: File exists\n"
     ]
    }
   ],
   "source": [
    "!mkdir Results5_Plots/"
   ]
  },
  {
   "cell_type": "code",
   "execution_count": 45,
   "id": "7213385d-408c-47f8-bc74-5b5fdf7941a2",
   "metadata": {},
   "outputs": [],
   "source": [
    "Z = IQ_Tree_MP.render(\"Results5_Plots/6.SA68CI.RectPhylo.png\", w = 1000, tree_style = ts_3)     "
   ]
  },
  {
   "cell_type": "code",
   "execution_count": 46,
   "id": "3216908e-8430-4ba4-9d2b-e1ac894dfee8",
   "metadata": {},
   "outputs": [],
   "source": [
    "Z = IQ_Tree_MP.render(\"Results5_Plots/6.SA68CI.RectPhylo.svg\", w = 1000, tree_style = ts_3)    "
   ]
  },
  {
   "cell_type": "code",
   "execution_count": null,
   "id": "97ea6de0-f76e-4c9c-8cbb-b780e4a374a2",
   "metadata": {},
   "outputs": [],
   "source": []
  },
  {
   "cell_type": "code",
   "execution_count": 47,
   "id": "ac25c601-186c-4115-b656-c7f412d21a90",
   "metadata": {},
   "outputs": [],
   "source": [
    "OrderOfSampleIDs_Phylo = [ n.name for n in IQ_Tree_MP.get_leaves() ]  "
   ]
  },
  {
   "cell_type": "code",
   "execution_count": 48,
   "id": "20dbf643-b2ed-40ed-9794-f469f5e2910e",
   "metadata": {},
   "outputs": [
    {
     "name": "stdout",
     "output_type": "stream",
     "text": [
      "['C342', 'C339', 'C209', 'C133', 'C179', 'C148', 'C241', 'C309', 'C355', 'C295', 'C197', 'C240', 'C224', 'C349', 'C285', 'C79', 'C363', 'C155', 'C255', 'C188', 'C364', 'C325', 'C182', 'C196', 'C149', 'C45', 'C233', 'C235', 'C245', 'C320', 'C22', 'C56', 'C3', 'C32', 'C312', 'C333', 'C222', 'C24', 'C70', 'C16', 'C273', 'C324', 'C265', 'C183', 'C113', 'C52', 'C357', 'C276', 'C311', 'C13', 'C76', 'C318', 'C9', 'C353', 'C195', 'C206', 'C208', 'C80', 'C67', 'C294', 'C314', 'C91', 'C136', 'C21', 'C72', 'C351', 'C100', 'C121']\n"
     ]
    }
   ],
   "source": [
    "print(OrderOfSampleIDs_Phylo)"
   ]
  },
  {
   "cell_type": "code",
   "execution_count": null,
   "id": "9bc9d650-9854-4741-9c47-4217fd5b06a8",
   "metadata": {},
   "outputs": [],
   "source": []
  },
  {
   "cell_type": "code",
   "execution_count": 49,
   "id": "0b1a95b3-c744-46b6-8805-91d08dc25866",
   "metadata": {},
   "outputs": [],
   "source": [
    "#!ls -1 $IQTree_OutDir"
   ]
  },
  {
   "cell_type": "markdown",
   "id": "8b3488d7-09cd-4305-b25c-42b71ec03a0e",
   "metadata": {},
   "source": [
    "### Copy E. coli phylogeny related files"
   ]
  },
  {
   "cell_type": "code",
   "execution_count": 50,
   "id": "e7d4a1ed-c8a2-4ad0-a61c-79a086efa547",
   "metadata": {},
   "outputs": [],
   "source": [
    "# Ecoli_50CI_Phylogroups_TSV = f\"{IQTree_OutDir}/Ecoli.50CI.Phylogroups.tsv\"\n",
    "\n",
    "# IQ_NodeToPriLineage_Dict_JSON = f\"{IQTree_OutDir}/IQTrees.NodeToPrimaryLineage.json\"\n",
    "\n",
    "# IQ_Tree_MP_PATH = f\"{IQTree_OutDir}/Panaroo.Strict.MergeParalogs.MidRoot.WiNodeNames.newick\"    \n",
    "\n",
    "# # Copy Phylogeny related files to a data\n",
    "# !mkdir ../../Data/Ecoli_50CI_Phylo/\n",
    "\n",
    "# !cp $Ecoli_50CI_Phylogroups_TSV ../../Data/Ecoli_50CI_Phylo/\n",
    "# !cp $IQ_NodeToPriLineage_Dict_JSON ../../Data/Ecoli_50CI_Phylo/\n",
    "\n",
    "# !cp $IQ_Tree_MP_PATH ../../Data/Ecoli_50CI_Phylo/Ecoli50CI.Phylo.iqtree.newick\n"
   ]
  },
  {
   "cell_type": "code",
   "execution_count": 51,
   "id": "ec2ac995-abdd-42ce-9e91-de2996a549a7",
   "metadata": {},
   "outputs": [],
   "source": [
    "#!ls -1 ../../Data/Ecoli_50CI_Phylo/"
   ]
  },
  {
   "cell_type": "code",
   "execution_count": null,
   "id": "a107d9bd-9a0e-4749-8aa5-881dc6325331",
   "metadata": {},
   "outputs": [],
   "source": []
  },
  {
   "cell_type": "code",
   "execution_count": null,
   "id": "5a73105f-79f1-4a93-9e34-3eb93d681725",
   "metadata": {},
   "outputs": [],
   "source": []
  },
  {
   "cell_type": "code",
   "execution_count": 52,
   "id": "1d92e842-dcd4-4226-81ba-5a76136995e6",
   "metadata": {},
   "outputs": [],
   "source": [
    "#!ls -alh $PG_Ecoli_50I_OutDir"
   ]
  },
  {
   "cell_type": "code",
   "execution_count": null,
   "id": "46f05495-4b8a-4994-a0f9-f9e550366541",
   "metadata": {},
   "outputs": [],
   "source": []
  },
  {
   "cell_type": "markdown",
   "id": "8ae658ce-1ea3-45a2-819f-1161b3a77fb4",
   "metadata": {},
   "source": [
    "## Define paths to all Assembly FAs + BAKTA Annotations (Short + Long read ASMs)"
   ]
  },
  {
   "cell_type": "code",
   "execution_count": 53,
   "id": "9dccbd02-287b-4d31-9c22-ce4a55a1011f",
   "metadata": {},
   "outputs": [],
   "source": [
    "listOfSample_Tags = SA68I_SampleIDs\n",
    "\n",
    "target_SMK_OutputDir = target_OutputDir\n",
    "\n",
    "SampleTag_ToPaths_Dict = {}\n",
    "\n",
    "for SampleID in listOfSample_Tags:\n",
    "    sample_Asm_OutputDir = target_SMK_OutputDir + \"/AsmAnalysis/\" + SampleID\n",
    "    GenomeAnno_Dir = f\"{sample_Asm_OutputDir}/GenomeAnnotation\"\n",
    "    \n",
    "    # LR Bakta Anno Files\n",
    "    Bakta_LR_AsmDir = f\"{GenomeAnno_Dir}/{SampleID}_Asm_Bakta\"\n",
    "    \n",
    "    i_LRAsm_Bakta_GFF = f\"{Bakta_LR_AsmDir}/{SampleID}.Bakta.gff3\"\n",
    "    i_LRAsm_Bakta_GBFF = f\"{Bakta_LR_AsmDir}/{SampleID}.Bakta.gbff\"\n",
    "    i_LRAsm_Bakta_FAA = f\"{Bakta_LR_AsmDir}/{SampleID}.Bakta.faa\"\n",
    "    i_LRAsm_Bakta_FFN = f\"{Bakta_LR_AsmDir}/{SampleID}.Bakta.ffn\"\n",
    "    i_LRAsm_Bakta_FNA = f\"{Bakta_LR_AsmDir}/{SampleID}.Bakta.fna\"\n",
    "    i_LRAsm_Bakta_TXT = f\"{Bakta_LR_AsmDir}/{SampleID}.Bakta.txt\"\n",
    "\n",
    "    dictOfPaths_Temp = {}\n",
    "    dictOfPaths_Temp[\"LRAsm_Bakta_GFF\"] = i_LRAsm_Bakta_GFF  \n",
    "    dictOfPaths_Temp[\"LRAsm_Bakta_GBFF\"] = i_LRAsm_Bakta_GBFF\n",
    "    dictOfPaths_Temp[\"LRAsm_Bakta_FAA\"] = i_LRAsm_Bakta_FAA    \n",
    "    dictOfPaths_Temp[\"LRAsm_Bakta_FFN\"] = i_LRAsm_Bakta_FFN    \n",
    "    dictOfPaths_Temp[\"LRAsm_Bakta_FNA\"] = i_LRAsm_Bakta_FNA  \n",
    "    dictOfPaths_Temp[\"LRAsm_Bakta_TXT\"] = i_LRAsm_Bakta_TXT \n",
    "    \n",
    "    SampleTag_ToPaths_Dict[SampleID] = dictOfPaths_Temp\n"
   ]
  },
  {
   "cell_type": "code",
   "execution_count": 54,
   "id": "5673a0c5-41c7-48eb-a05d-3d1c70aac935",
   "metadata": {},
   "outputs": [
    {
     "data": {
      "text/plain": [
       "'C100'"
      ]
     },
     "execution_count": 54,
     "metadata": {},
     "output_type": "execute_result"
    }
   ],
   "source": [
    "listOfSample_Tags[0]"
   ]
  },
  {
   "cell_type": "code",
   "execution_count": 55,
   "id": "83bfd307-fc95-46c6-8713-8fa1fb6d3bb4",
   "metadata": {},
   "outputs": [],
   "source": [
    "#!ls -1 $Bakta_AsmDir"
   ]
  },
  {
   "cell_type": "code",
   "execution_count": 56,
   "id": "f8e64e6d-30ef-4043-b6af-c27ed364cd35",
   "metadata": {},
   "outputs": [
    {
     "data": {
      "text/plain": [
       "'/n/data1/hms/dbmi/farhat/mm774/Projects/241206_Saureus_PG_Analysis/SMK_OutDirs/241206_Saureus_HoutakBouras2023_68I_V1/AsmAnalysis/C100/GenomeAnnotation/C100_Asm_Bakta/C100.Bakta.fna'"
      ]
     },
     "execution_count": 56,
     "metadata": {},
     "output_type": "execute_result"
    }
   ],
   "source": [
    "SampleTag_ToPaths_Dict['C100'][\"LRAsm_Bakta_FNA\"] "
   ]
  },
  {
   "cell_type": "code",
   "execution_count": null,
   "id": "05ab3aba-76e0-4230-801e-a2f10f1b2150",
   "metadata": {},
   "outputs": [],
   "source": []
  },
  {
   "cell_type": "code",
   "execution_count": 57,
   "id": "8a23a17d-b042-44b9-a801-89dcc19257c6",
   "metadata": {},
   "outputs": [
    {
     "name": "stdout",
     "output_type": "stream",
     "text": [
      "total 0\n",
      "drwxrwsr-x 2 mm774 farhat 4.0K Dec  6 17:22 .\n",
      "drwxrwsr-x 2 mm774 farhat 4.0K Dec  9 17:09 ..\n",
      "drwxrwsr-x 2 mm774 farhat 4.0K Dec  6 17:31 FastANI_LRAsm\n",
      "drwxrwsr-x 2 mm774 farhat 4.0K Dec  6 17:18 FastANI_LRAsms\n"
     ]
    }
   ],
   "source": [
    "!ls -alh $target_SMK_OutputDir/FastANI"
   ]
  },
  {
   "cell_type": "code",
   "execution_count": 58,
   "id": "e52f08da-e471-4708-b787-44c9b517af5e",
   "metadata": {},
   "outputs": [
    {
     "name": "stdout",
     "output_type": "stream",
     "text": [
      "total 1.7M\n",
      "drwxrwsr-x 2 mm774 farhat 4.0K Dec  6 17:31 .\n",
      "drwxrwsr-x 2 mm774 farhat 4.0K Dec  6 17:22 ..\n",
      "-rw-rw-r-- 1 mm774 farhat 1.7M Dec  6 17:32 FastANI.AllVsAll.LRAsm.txt\n"
     ]
    }
   ],
   "source": [
    "!ls -alh $target_SMK_OutputDir/FastANI/FastANI_LRAsm"
   ]
  },
  {
   "cell_type": "code",
   "execution_count": 59,
   "id": "c6ff6141-b81a-4741-8552-7a6e65c44794",
   "metadata": {},
   "outputs": [
    {
     "name": "stdout",
     "output_type": "stream",
     "text": [
      "total 13K\n",
      "drwxrwsr-x 2 mm774 farhat 4.0K Dec  6 17:18 .\n",
      "drwxrwsr-x 2 mm774 farhat 4.0K Dec  6 17:22 ..\n",
      "-rw-rw-r-- 1 mm774 farhat  13K Dec  6 17:18 LRAsms.PathToFASTAs.txt\n"
     ]
    }
   ],
   "source": [
    "!ls -alh $target_SMK_OutputDir/FastANI/FastANI_LRAsms"
   ]
  },
  {
   "cell_type": "code",
   "execution_count": null,
   "id": "f129f755-6e07-4dd1-bca0-448a5c3baf68",
   "metadata": {},
   "outputs": [],
   "source": []
  },
  {
   "cell_type": "markdown",
   "id": "807bca82-df23-4fb7-983b-364b5f9711fc",
   "metadata": {},
   "source": [
    "## Parse SourMASH output files"
   ]
  },
  {
   "cell_type": "code",
   "execution_count": 60,
   "id": "78857bca-bd0d-4bc2-bbbb-120fdd89be22",
   "metadata": {},
   "outputs": [],
   "source": [
    "SourMASH_MainDir = f\"{target_SMK_OutputDir}/SourMash\"\n",
    "\n",
    "# SourMASH Default Out\n",
    "SourMASH_AllVsAll_Default_OutDir = f\"{SourMASH_MainDir}/CompareAllAsm_Default\"\n",
    "\n",
    "SM_AvA_Default_JS_OUT = f\"{SourMASH_AllVsAll_Default_OutDir}/SourMash.Compare.Default.out\"\n",
    "SM_AvA_Default_Labels_TXT = f\"{SourMASH_AllVsAll_Default_OutDir}/SourMash.Compare.Default.out.labels.txt\"\n",
    "\n",
    "# SourMASH Scaled Out\n",
    "SourMASH_AllVsAll_Scaled_OutDir = f\"{SourMASH_MainDir}/CompareAllAsm_Scaled1\"\n",
    "\n",
    "SM_AvA_Scaled1_JS_OUT = f\"{SourMASH_AllVsAll_Scaled_OutDir}/SourMash.Compare.Scaled1.out\"\n",
    "SM_AvA_Scaled1_Labels_TXT = f\"{SourMASH_AllVsAll_Scaled_OutDir}/SourMash.Compare.Scaled1.out.labels.txt\"\n"
   ]
  },
  {
   "cell_type": "code",
   "execution_count": 61,
   "id": "409df32a-d90a-4011-8ec3-539ea4198e66",
   "metadata": {},
   "outputs": [
    {
     "name": "stdout",
     "output_type": "stream",
     "text": [
      "total 97\n",
      "-rw-rw-r-- 1 mm774 farhat 37120 Dec  6 17:02 SourMash.Compare.Scaled1.out\n",
      "-rw-rw-r-- 1 mm774 farhat 17853 Dec  6 17:02 SourMash.Compare.Scaled1.out.dendro.pdf\n",
      "-rw-rw-r-- 1 mm774 farhat  8900 Dec  6 17:01 SourMash.Compare.Scaled1.out.hist.pdf\n",
      "-rw-rw-r-- 1 mm774 farhat  8071 Dec  6 17:01 SourMash.Compare.Scaled1.out.labels.txt\n",
      "-rw-rw-r-- 1 mm774 farhat 25670 Dec  6 17:02 SourMash.Compare.Scaled1.out.matrix.pdf\n"
     ]
    }
   ],
   "source": [
    "!ls -l $SourMASH_MainDir/CompareAllAsm_Scaled1"
   ]
  },
  {
   "cell_type": "code",
   "execution_count": 62,
   "id": "210cfc08-9850-4fd2-965b-b6a11b027e2f",
   "metadata": {},
   "outputs": [
    {
     "data": {
      "text/plain": [
       "(68,)"
      ]
     },
     "execution_count": 62,
     "metadata": {},
     "output_type": "execute_result"
    }
   ],
   "source": [
    "SM_AvA_Labels = pd.read_csv(SM_AvA_Scaled1_Labels_TXT, sep = \"\\t\", header = None)[0].str.split(\"/\").str[-1].str.split(\".\").str[0]\n",
    "SM_AvA_Labels.shape"
   ]
  },
  {
   "cell_type": "code",
   "execution_count": 63,
   "id": "eecc080c-4471-413f-8b7a-4aa91609e047",
   "metadata": {},
   "outputs": [
    {
     "data": {
      "text/plain": [
       "0    C100\n",
       "1    C364\n",
       "2     C22\n",
       "Name: 0, dtype: object"
      ]
     },
     "execution_count": 63,
     "metadata": {},
     "output_type": "execute_result"
    }
   ],
   "source": [
    "SM_AvA_Labels.head(3)"
   ]
  },
  {
   "cell_type": "code",
   "execution_count": null,
   "id": "87f6625f-8308-45de-a434-8280c4c97356",
   "metadata": {},
   "outputs": [],
   "source": []
  },
  {
   "cell_type": "markdown",
   "id": "774f8f8c-54b8-4f9a-8511-d8be49764b7c",
   "metadata": {},
   "source": [
    "## Parse the Jaccard Simularity of k-mers (k = 31 bp)"
   ]
  },
  {
   "cell_type": "code",
   "execution_count": 64,
   "id": "cebd2cc1-ab08-4e67-b75b-2cc1c1d5f8a3",
   "metadata": {},
   "outputs": [],
   "source": [
    "AvA_LR_JS_NP = np.load(SM_AvA_Scaled1_JS_OUT)\n",
    "AvA_LR_JS_DF = pd.DataFrame(AvA_LR_JS_NP)\n",
    "\n",
    "AvA_LR_JS_DF.columns = SM_AvA_Labels\n",
    "AvA_LR_JS_DF.index = SM_AvA_Labels\n"
   ]
  },
  {
   "cell_type": "code",
   "execution_count": 65,
   "id": "3ad16dfb-096b-4b47-9b96-5dda076abc02",
   "metadata": {},
   "outputs": [
    {
     "data": {
      "text/html": [
       "<div>\n",
       "<style scoped>\n",
       "    .dataframe tbody tr th:only-of-type {\n",
       "        vertical-align: middle;\n",
       "    }\n",
       "\n",
       "    .dataframe tbody tr th {\n",
       "        vertical-align: top;\n",
       "    }\n",
       "\n",
       "    .dataframe thead th {\n",
       "        text-align: right;\n",
       "    }\n",
       "</style>\n",
       "<table border=\"1\" class=\"dataframe\">\n",
       "  <thead>\n",
       "    <tr style=\"text-align: right;\">\n",
       "      <th></th>\n",
       "      <th>C100</th>\n",
       "      <th>C364</th>\n",
       "      <th>C22</th>\n",
       "      <th>C320</th>\n",
       "      <th>C235</th>\n",
       "      <th>C318</th>\n",
       "      <th>C79</th>\n",
       "      <th>C148</th>\n",
       "      <th>C265</th>\n",
       "      <th>C324</th>\n",
       "      <th>...</th>\n",
       "      <th>C245</th>\n",
       "      <th>C314</th>\n",
       "      <th>C285</th>\n",
       "      <th>C355</th>\n",
       "      <th>C241</th>\n",
       "      <th>C309</th>\n",
       "      <th>C325</th>\n",
       "      <th>C363</th>\n",
       "      <th>C311</th>\n",
       "      <th>C357</th>\n",
       "    </tr>\n",
       "    <tr>\n",
       "      <th>0</th>\n",
       "      <th></th>\n",
       "      <th></th>\n",
       "      <th></th>\n",
       "      <th></th>\n",
       "      <th></th>\n",
       "      <th></th>\n",
       "      <th></th>\n",
       "      <th></th>\n",
       "      <th></th>\n",
       "      <th></th>\n",
       "      <th></th>\n",
       "      <th></th>\n",
       "      <th></th>\n",
       "      <th></th>\n",
       "      <th></th>\n",
       "      <th></th>\n",
       "      <th></th>\n",
       "      <th></th>\n",
       "      <th></th>\n",
       "      <th></th>\n",
       "      <th></th>\n",
       "    </tr>\n",
       "  </thead>\n",
       "  <tbody>\n",
       "    <tr>\n",
       "      <th>C100</th>\n",
       "      <td>1.000000</td>\n",
       "      <td>0.398233</td>\n",
       "      <td>0.404979</td>\n",
       "      <td>0.404923</td>\n",
       "      <td>0.411829</td>\n",
       "      <td>0.434010</td>\n",
       "      <td>0.403214</td>\n",
       "      <td>0.392454</td>\n",
       "      <td>0.446544</td>\n",
       "      <td>0.446544</td>\n",
       "      <td>...</td>\n",
       "      <td>0.414614</td>\n",
       "      <td>0.929841</td>\n",
       "      <td>0.401540</td>\n",
       "      <td>0.405164</td>\n",
       "      <td>0.399394</td>\n",
       "      <td>0.399292</td>\n",
       "      <td>0.389317</td>\n",
       "      <td>0.409561</td>\n",
       "      <td>0.446352</td>\n",
       "      <td>0.451308</td>\n",
       "    </tr>\n",
       "    <tr>\n",
       "      <th>C364</th>\n",
       "      <td>0.398233</td>\n",
       "      <td>1.000000</td>\n",
       "      <td>0.645445</td>\n",
       "      <td>0.645429</td>\n",
       "      <td>0.678118</td>\n",
       "      <td>0.417422</td>\n",
       "      <td>0.645267</td>\n",
       "      <td>0.671411</td>\n",
       "      <td>0.430026</td>\n",
       "      <td>0.430019</td>\n",
       "      <td>...</td>\n",
       "      <td>0.665614</td>\n",
       "      <td>0.399259</td>\n",
       "      <td>0.645449</td>\n",
       "      <td>0.675799</td>\n",
       "      <td>0.675460</td>\n",
       "      <td>0.675252</td>\n",
       "      <td>0.899614</td>\n",
       "      <td>0.646797</td>\n",
       "      <td>0.425386</td>\n",
       "      <td>0.426445</td>\n",
       "    </tr>\n",
       "  </tbody>\n",
       "</table>\n",
       "<p>2 rows × 68 columns</p>\n",
       "</div>"
      ],
      "text/plain": [
       "0         C100      C364       C22      C320      C235      C318       C79  \\\n",
       "0                                                                            \n",
       "C100  1.000000  0.398233  0.404979  0.404923  0.411829  0.434010  0.403214   \n",
       "C364  0.398233  1.000000  0.645445  0.645429  0.678118  0.417422  0.645267   \n",
       "\n",
       "0         C148      C265      C324  ...      C245      C314      C285  \\\n",
       "0                                   ...                                 \n",
       "C100  0.392454  0.446544  0.446544  ...  0.414614  0.929841  0.401540   \n",
       "C364  0.671411  0.430026  0.430019  ...  0.665614  0.399259  0.645449   \n",
       "\n",
       "0         C355      C241      C309      C325      C363      C311      C357  \n",
       "0                                                                           \n",
       "C100  0.405164  0.399394  0.399292  0.389317  0.409561  0.446352  0.451308  \n",
       "C364  0.675799  0.675460  0.675252  0.899614  0.646797  0.425386  0.426445  \n",
       "\n",
       "[2 rows x 68 columns]"
      ]
     },
     "execution_count": 65,
     "metadata": {},
     "output_type": "execute_result"
    }
   ],
   "source": [
    "AvA_LR_JS_DF.head(2)"
   ]
  },
  {
   "cell_type": "code",
   "execution_count": 66,
   "id": "0999f139-a0e9-4ed8-9fa7-97f745dca3b7",
   "metadata": {},
   "outputs": [
    {
     "data": {
      "text/plain": [
       "(4556, 3)"
      ]
     },
     "execution_count": 66,
     "metadata": {},
     "output_type": "execute_result"
    }
   ],
   "source": [
    "AvA_LR_JS_DF.index = AvA_LR_JS_DF.index.rename(\"SampleID_1\")\n",
    "AvA_LR_JS_DF.columns = AvA_LR_JS_DF.columns.rename(\"SampleID_2\")\n",
    "\n",
    "LR_JaccSim_Pairwise_DF = AvA_LR_JS_DF.stack().reset_index()\n",
    "\n",
    "LR_JaccSim_Pairwise_DF.columns = [\"SampleID_1\", \"SampleID_2\", \"Mash_JS\"]\n",
    "LR_JaccSim_Pairwise_DF.sort_values([\"SampleID_1\", \"SampleID_2\"])\n",
    "\n",
    "LR_JaccSim_Pairwise_DF = LR_JaccSim_Pairwise_DF.query(\" SampleID_1 != SampleID_2 \")\n",
    "\n",
    "LR_JaccSim_Pairwise_DF.shape "
   ]
  },
  {
   "cell_type": "code",
   "execution_count": 67,
   "id": "1ac806e7-eda3-4949-a013-f36554c7e95f",
   "metadata": {},
   "outputs": [
    {
     "data": {
      "text/html": [
       "<div>\n",
       "<style scoped>\n",
       "    .dataframe tbody tr th:only-of-type {\n",
       "        vertical-align: middle;\n",
       "    }\n",
       "\n",
       "    .dataframe tbody tr th {\n",
       "        vertical-align: top;\n",
       "    }\n",
       "\n",
       "    .dataframe thead th {\n",
       "        text-align: right;\n",
       "    }\n",
       "</style>\n",
       "<table border=\"1\" class=\"dataframe\">\n",
       "  <thead>\n",
       "    <tr style=\"text-align: right;\">\n",
       "      <th></th>\n",
       "      <th>SampleID_1</th>\n",
       "      <th>SampleID_2</th>\n",
       "      <th>Mash_JS</th>\n",
       "    </tr>\n",
       "  </thead>\n",
       "  <tbody>\n",
       "    <tr>\n",
       "      <th>1</th>\n",
       "      <td>C100</td>\n",
       "      <td>C364</td>\n",
       "      <td>0.398233</td>\n",
       "    </tr>\n",
       "    <tr>\n",
       "      <th>2</th>\n",
       "      <td>C100</td>\n",
       "      <td>C22</td>\n",
       "      <td>0.404979</td>\n",
       "    </tr>\n",
       "  </tbody>\n",
       "</table>\n",
       "</div>"
      ],
      "text/plain": [
       "  SampleID_1 SampleID_2   Mash_JS\n",
       "1       C100       C364  0.398233\n",
       "2       C100        C22  0.404979"
      ]
     },
     "execution_count": 67,
     "metadata": {},
     "output_type": "execute_result"
    }
   ],
   "source": [
    "LR_JaccSim_Pairwise_DF.head(2)"
   ]
  },
  {
   "cell_type": "code",
   "execution_count": 68,
   "id": "93c76f14-d14e-48cd-b6d7-ea8804161a42",
   "metadata": {},
   "outputs": [
    {
     "data": {
      "text/html": [
       "<div>\n",
       "<style scoped>\n",
       "    .dataframe tbody tr th:only-of-type {\n",
       "        vertical-align: middle;\n",
       "    }\n",
       "\n",
       "    .dataframe tbody tr th {\n",
       "        vertical-align: top;\n",
       "    }\n",
       "\n",
       "    .dataframe thead th {\n",
       "        text-align: right;\n",
       "    }\n",
       "</style>\n",
       "<table border=\"1\" class=\"dataframe\">\n",
       "  <thead>\n",
       "    <tr style=\"text-align: right;\">\n",
       "      <th></th>\n",
       "      <th>SampleID_1</th>\n",
       "      <th>SampleID_2</th>\n",
       "      <th>Mash_JS</th>\n",
       "    </tr>\n",
       "  </thead>\n",
       "  <tbody>\n",
       "    <tr>\n",
       "      <th>4027</th>\n",
       "      <td>C314</td>\n",
       "      <td>C295</td>\n",
       "      <td>0.384821</td>\n",
       "    </tr>\n",
       "    <tr>\n",
       "      <th>1079</th>\n",
       "      <td>C295</td>\n",
       "      <td>C314</td>\n",
       "      <td>0.384821</td>\n",
       "    </tr>\n",
       "    <tr>\n",
       "      <th>2735</th>\n",
       "      <td>C91</td>\n",
       "      <td>C295</td>\n",
       "      <td>0.385301</td>\n",
       "    </tr>\n",
       "    <tr>\n",
       "      <th>1060</th>\n",
       "      <td>C295</td>\n",
       "      <td>C91</td>\n",
       "      <td>0.385301</td>\n",
       "    </tr>\n",
       "  </tbody>\n",
       "</table>\n",
       "</div>"
      ],
      "text/plain": [
       "     SampleID_1 SampleID_2   Mash_JS\n",
       "4027       C314       C295  0.384821\n",
       "1079       C295       C314  0.384821\n",
       "2735        C91       C295  0.385301\n",
       "1060       C295        C91  0.385301"
      ]
     },
     "execution_count": 68,
     "metadata": {},
     "output_type": "execute_result"
    }
   ],
   "source": [
    "LR_JaccSim_Pairwise_DF.sort_values(\"Mash_JS\", ascending=True).head(4)"
   ]
  },
  {
   "cell_type": "code",
   "execution_count": 69,
   "id": "8178667c-3516-460b-94c5-34922abe19f4",
   "metadata": {},
   "outputs": [
    {
     "data": {
      "text/plain": [
       "count    4556.000000\n",
       "mean        0.531142\n",
       "std         0.168404\n",
       "min         0.384821\n",
       "25%         0.412837\n",
       "50%         0.443265\n",
       "75%         0.645407\n",
       "max         0.999942\n",
       "Name: Mash_JS, dtype: float64"
      ]
     },
     "execution_count": 69,
     "metadata": {},
     "output_type": "execute_result"
    }
   ],
   "source": [
    "LR_JaccSim_Pairwise_DF[\"Mash_JS\"].describe()"
   ]
  },
  {
   "cell_type": "code",
   "execution_count": null,
   "id": "bd82a932-b6bb-4255-9c40-1d8a480ab724",
   "metadata": {},
   "outputs": [],
   "source": []
  },
  {
   "cell_type": "code",
   "execution_count": null,
   "id": "3b2225b6-e464-4d87-bd8f-5758b26ead37",
   "metadata": {},
   "outputs": [],
   "source": []
  },
  {
   "cell_type": "markdown",
   "id": "9d933911-0150-4e6e-94be-d73ed418b039",
   "metadata": {},
   "source": [
    "#### output parsed 31-mer Jaccard Similarity results to TSV"
   ]
  },
  {
   "cell_type": "code",
   "execution_count": 70,
   "id": "ba091208-d311-4b8b-b73b-2544ac07db98",
   "metadata": {},
   "outputs": [
    {
     "name": "stdout",
     "output_type": "stream",
     "text": [
      "mkdir: cannot create directory ‘../../Data/GenomeSimilarity_MtbAndEcoli’: File exists\n"
     ]
    }
   ],
   "source": [
    "GenomeSim_OutDir = \"../../Data/GenomeSimilarity_MtbAndEcoli\"\n",
    "!mkdir $GenomeSim_OutDir"
   ]
  },
  {
   "cell_type": "code",
   "execution_count": 71,
   "id": "29f68a9e-0864-49e9-808e-e559fd5fb1cf",
   "metadata": {},
   "outputs": [],
   "source": [
    "KmerJS_AvA_Mtb_TSV = f\"{GenomeSim_OutDir}/Sourmash.31merJaccardSim.Stats.Saureus68CI.tsv\"\n",
    "\n",
    "LR_JaccSim_Pairwise_DF.to_csv(KmerJS_AvA_Mtb_TSV, sep = \"\\t\", index=False)"
   ]
  },
  {
   "cell_type": "code",
   "execution_count": 72,
   "id": "69b54228-9302-401c-9c67-8f6c4f486b05",
   "metadata": {},
   "outputs": [
    {
     "name": "stdout",
     "output_type": "stream",
     "text": [
      "FastANI.Stats.Ecoli50CI.tsv\n",
      "FastANI.Stats.Mtb151CI.tsv\n",
      "FastANI.Stats.Saureus68CI.tsv\n",
      "Sourmash.31merJaccardSim.Stats.Ecoli50CI.tsv\n",
      "Sourmash.31merJaccardSim.Stats.Mtb151CI.tsv\n",
      "Sourmash.31merJaccardSim.Stats.Saureus68CI.tsv\n"
     ]
    }
   ],
   "source": [
    "!ls -1 $GenomeSim_OutDir"
   ]
  },
  {
   "cell_type": "code",
   "execution_count": null,
   "id": "f7eb3d9e-5f6c-43b6-b884-bbf7edc7c897",
   "metadata": {},
   "outputs": [],
   "source": []
  },
  {
   "cell_type": "markdown",
   "id": "de3da684-d4da-4e36-a3d7-23cff2811111",
   "metadata": {},
   "source": [
    "# Plot the distribution of K-mer JCs between all LR Assemblies"
   ]
  },
  {
   "cell_type": "code",
   "execution_count": 73,
   "id": "696d72dc-1ec5-4638-969e-730eebbfb3d9",
   "metadata": {},
   "outputs": [
    {
     "data": {
      "text/plain": [
       "count    4556.000000\n",
       "mean        0.531142\n",
       "std         0.168404\n",
       "min         0.384821\n",
       "25%         0.412837\n",
       "50%         0.443265\n",
       "75%         0.645407\n",
       "max         0.999942\n",
       "Name: Mash_JS, dtype: float64"
      ]
     },
     "execution_count": 73,
     "metadata": {},
     "output_type": "execute_result"
    }
   ],
   "source": [
    "LR_JaccSim_Pairwise_DF[\"Mash_JS\"].describe()"
   ]
  },
  {
   "cell_type": "code",
   "execution_count": 74,
   "id": "ddf98a8b-5e9c-4d72-9eb7-087f3117cd9e",
   "metadata": {},
   "outputs": [],
   "source": [
    "sns.set_context(\"paper\", font_scale=3)"
   ]
  },
  {
   "cell_type": "code",
   "execution_count": null,
   "id": "0f9d18a0-9cb2-4b77-96d8-9b78b6c5d154",
   "metadata": {},
   "outputs": [],
   "source": []
  },
  {
   "cell_type": "code",
   "execution_count": 75,
   "id": "80cdcc81-f32e-41a6-a73d-aae073df856c",
   "metadata": {},
   "outputs": [
    {
     "data": {
      "image/png": "[encoded data removed]",
      "text/plain": [
       "<Figure size 864x288 with 1 Axes>"
      ]
     },
     "metadata": {
      "needs_background": "light"
     },
     "output_type": "display_data"
    }
   ],
   "source": [
    "fig, ax1 = plt.subplots(figsize=(12,4))\n",
    "\n",
    "#sns.set_style(None)\n",
    "#sns.set()\n",
    "\n",
    "ax1.grid(axis='y', zorder=0, linewidth=.7, color = \"white\" )\n",
    "sns.set_style(rc={'axes.facecolor': '#E8E8E8'})\n",
    "\n",
    "sns.histplot(LR_JaccSim_Pairwise_DF[\"Mash_JS\"], bins = np.arange(0, 1.05, 0.025), edgecolor='white', color = '#4F4F4F', alpha = 1, ax = ax1, zorder = 3)\n",
    "             # hist_kws={\"rwidth\":0.75,'edgecolor':'none', 'alpha':1.0})\n",
    "sns.despine()\n",
    "\n",
    "#ax1.set_axisbelow(True)\n",
    "\n",
    "\n",
    "#plt.title(\"Distr. of pair-wise predicted ANI \\n (158 Mtb isolates) \")\n",
    "\n",
    "plt.xlabel(\"k-mer Jaccard Index (k = 31 bp)\")\n",
    "#plt.ylabel(\"# of genome pairs\")\n",
    "plt.ylabel(\"Count\")\n",
    "plt.xlim(0, 1.00)\n",
    "\n",
    "ticks_ax_limewidth = 2\n",
    "\n",
    "ax1.tick_params('both', length=15, width=ticks_ax_limewidth, which='major')\n",
    "\n",
    "for axis in ['bottom','left']:\n",
    "    ax1.spines[axis].set_linewidth(ticks_ax_limewidth)\n",
    "\n",
    "#plt.tight_layout()\n",
    "\n",
    "\n",
    "\n",
    "plt.savefig(\"Results5_Plots/6.Saureus68CI.KmerJS.Histo.png\", dpi = 300)\n",
    "plt.savefig(\"Results5_Plots/6.Saureus68CI.KmerJS.Histo.svg\")\n",
    "plt.show()\n"
   ]
  },
  {
   "cell_type": "code",
   "execution_count": 76,
   "id": "6bb83420-d0e0-462b-bbc9-6b1f7e9ccadf",
   "metadata": {},
   "outputs": [
    {
     "data": {
      "text/html": [
       "<div>\n",
       "<style scoped>\n",
       "    .dataframe tbody tr th:only-of-type {\n",
       "        vertical-align: middle;\n",
       "    }\n",
       "\n",
       "    .dataframe tbody tr th {\n",
       "        vertical-align: top;\n",
       "    }\n",
       "\n",
       "    .dataframe thead th {\n",
       "        text-align: right;\n",
       "    }\n",
       "</style>\n",
       "<table border=\"1\" class=\"dataframe\">\n",
       "  <thead>\n",
       "    <tr style=\"text-align: right;\">\n",
       "      <th></th>\n",
       "      <th>SampleID_1</th>\n",
       "      <th>SampleID_2</th>\n",
       "      <th>Mash_JS</th>\n",
       "    </tr>\n",
       "  </thead>\n",
       "  <tbody>\n",
       "  </tbody>\n",
       "</table>\n",
       "</div>"
      ],
      "text/plain": [
       "Empty DataFrame\n",
       "Columns: [SampleID_1, SampleID_2, Mash_JS]\n",
       "Index: []"
      ]
     },
     "execution_count": 76,
     "metadata": {},
     "output_type": "execute_result"
    }
   ],
   "source": [
    "LR_JaccSim_Pairwise_DF.query(\"Mash_JS == 1\")"
   ]
  },
  {
   "cell_type": "code",
   "execution_count": null,
   "id": "e0e6dcc6-048f-4981-8893-3bab5716e881",
   "metadata": {},
   "outputs": [],
   "source": []
  },
  {
   "cell_type": "code",
   "execution_count": null,
   "id": "90261f88-d5bc-4737-8517-4c4000289f9b",
   "metadata": {},
   "outputs": [],
   "source": []
  },
  {
   "cell_type": "markdown",
   "id": "c6b2b948-7d3a-4744-a586-7ecb0ef3bbb9",
   "metadata": {},
   "source": [
    "## Make a HeatMap of Jaccard Simularity between assemblies"
   ]
  },
  {
   "cell_type": "code",
   "execution_count": 77,
   "id": "1714b3d4-56af-42ef-9754-85175640d55c",
   "metadata": {},
   "outputs": [],
   "source": [
    "#OrderOfSampleIDs_Phylo"
   ]
  },
  {
   "cell_type": "code",
   "execution_count": 78,
   "id": "9705e2b2-7782-401b-9a6c-f97410adc1a0",
   "metadata": {},
   "outputs": [
    {
     "data": {
      "text/plain": [
       "(68, 68)"
      ]
     },
     "execution_count": 78,
     "metadata": {},
     "output_type": "execute_result"
    }
   ],
   "source": [
    "# Reorder the matrix of Jaccard Sim between all assemblies to fit phylogeny\n",
    "\n",
    "AvA_LR_JS_Ordered_DF = AvA_LR_JS_DF.loc[OrderOfSampleIDs_Phylo, OrderOfSampleIDs_Phylo]\n",
    "AvA_LR_JS_Ordered_DF.shape"
   ]
  },
  {
   "cell_type": "markdown",
   "id": "1a73b4ac-4852-462c-92ac-c4200ce3f588",
   "metadata": {},
   "source": [
    "#### Make sample lineage & color mapping"
   ]
  },
  {
   "cell_type": "code",
   "execution_count": 79,
   "id": "c4f6fa5e-7b33-4b71-85c2-3ca5b74b62c5",
   "metadata": {},
   "outputs": [
    {
     "data": {
      "image/png": "[encoded data removed]",
      "text/plain": [
       "<Figure size 1800x1800 with 6 Axes>"
      ]
     },
     "metadata": {
      "needs_background": "light"
     },
     "output_type": "display_data"
    }
   ],
   "source": [
    "fig_dims = (25, 25)\n",
    "\n",
    "row_colors = [sample_colors.get(sample, \"black\") for sample in AvA_LR_JS_Ordered_DF.index]\n",
    "col_colors = [sample_colors.get(sample, \"black\") for sample in AvA_LR_JS_Ordered_DF.columns]\n",
    "\n",
    "clustermap_plot = sns.clustermap(AvA_LR_JS_Ordered_DF, \n",
    "                                 row_colors=row_colors,\n",
    "                                 col_colors=col_colors,\n",
    "                                 figsize=fig_dims, \n",
    "                                 row_cluster=False, col_cluster=False,\n",
    "                                 #cbar_pos = None,\n",
    "                                 cmap='rocket_r',\n",
    "                                 linewidths=0,\n",
    "                                 xticklabels=False,\n",
    "                                 yticklabels=False, vmin = 0 )\n",
    "\n",
    "plt.ylabel(\"\")\n",
    "plt.xlabel(\"\")\n",
    "\n",
    "plt.savefig(\"Results5_Plots/6.Saureus68CI.KmerJS.heatmap.NoLabels.png\", dpi = 300)\n",
    "plt.savefig(\"Results5_Plots/6.Saureus68CI.KmerJS.heatmap.NoLabels.svg\")\n",
    "plt.show()"
   ]
  },
  {
   "cell_type": "code",
   "execution_count": null,
   "id": "b2292534-8bcc-4c5c-9ba0-40a0857b3769",
   "metadata": {},
   "outputs": [],
   "source": []
  },
  {
   "cell_type": "markdown",
   "id": "a739e442-63ff-49c9-9535-2dcb5a10273b",
   "metadata": {},
   "source": [
    "# Parse FastANI output (All vs All)"
   ]
  },
  {
   "cell_type": "code",
   "execution_count": 80,
   "id": "27b801ed-1705-4c85-a38d-60bbdb862cff",
   "metadata": {},
   "outputs": [],
   "source": [
    "FastANI_MainDir = f\"{target_SMK_OutputDir}/FastANI\"\n",
    "\n",
    "LR_Asm_AllVsAll_OutDir = f\"{FastANI_MainDir}/FastANI_LRAsm\"\n",
    "\n",
    "AvA_158CI_FastANI_LRAsm_TXT = f\"{LR_Asm_AllVsAll_OutDir}/FastANI.AllVsAll.LRAsm.txt\"\n",
    "\n",
    "#AvA_158CIWiH37Rv_FastANI_LRAsm_TXT = f\"{LR_Asm_AllVsAll_OutDir}/FastANI.AllVsAll.WiH37Rv.LRAsm.txt\"     \n",
    "\n"
   ]
  },
  {
   "cell_type": "code",
   "execution_count": 81,
   "id": "4d1398e2-03e3-453f-8239-2d40e3634ac6",
   "metadata": {},
   "outputs": [
    {
     "name": "stdout",
     "output_type": "stream",
     "text": [
      "total 1.7M\n",
      "drwxrwsr-x 2 mm774 farhat 4.0K Dec  6 17:31 .\n",
      "drwxrwsr-x 2 mm774 farhat 4.0K Dec  6 17:22 ..\n",
      "-rw-rw-r-- 1 mm774 farhat 1.7M Dec  6 17:32 FastANI.AllVsAll.LRAsm.txt\n"
     ]
    }
   ],
   "source": [
    "!ls -lah $LR_Asm_AllVsAll_OutDir"
   ]
  },
  {
   "cell_type": "code",
   "execution_count": 82,
   "id": "d7d43763-7d3d-4b26-8396-0010ea2ff568",
   "metadata": {},
   "outputs": [
    {
     "data": {
      "text/plain": [
       "(4624, 5)"
      ]
     },
     "execution_count": 82,
     "metadata": {},
     "output_type": "execute_result"
    }
   ],
   "source": [
    "FANI_AvA_DF = pd.read_csv(AvA_158CI_FastANI_LRAsm_TXT, sep = \"\\t\", header = None)\n",
    "FANI_AvA_DF.columns = [\"Query\", \"Ref\", \"ANI\", \"Bidirect_FragMap\", \"Total_Query_Frags\"]\n",
    "\n",
    "# Trim down full file path to JUST the SampleID (For Query and Reference genomes)\n",
    "FANI_AvA_DF[\"Query\"] = FANI_AvA_DF[\"Query\"].str.split(\"/\").str[-1].str.split(\".\").str[0]\n",
    "FANI_AvA_DF[\"Ref\"] = FANI_AvA_DF[\"Ref\"].str.split(\"/\").str[-1].str.split(\".\").str[0]\n",
    "\n",
    "FANI_AvA_DF.shape"
   ]
  },
  {
   "cell_type": "code",
   "execution_count": 83,
   "id": "bf9f2d8c-88af-43d1-92d5-09796daed885",
   "metadata": {},
   "outputs": [
    {
     "data": {
      "text/html": [
       "<div>\n",
       "<style scoped>\n",
       "    .dataframe tbody tr th:only-of-type {\n",
       "        vertical-align: middle;\n",
       "    }\n",
       "\n",
       "    .dataframe tbody tr th {\n",
       "        vertical-align: top;\n",
       "    }\n",
       "\n",
       "    .dataframe thead th {\n",
       "        text-align: right;\n",
       "    }\n",
       "</style>\n",
       "<table border=\"1\" class=\"dataframe\">\n",
       "  <thead>\n",
       "    <tr style=\"text-align: right;\">\n",
       "      <th></th>\n",
       "      <th>Query</th>\n",
       "      <th>Ref</th>\n",
       "      <th>ANI</th>\n",
       "      <th>Bidirect_FragMap</th>\n",
       "      <th>Total_Query_Frags</th>\n",
       "    </tr>\n",
       "  </thead>\n",
       "  <tbody>\n",
       "    <tr>\n",
       "      <th>0</th>\n",
       "      <td>C100</td>\n",
       "      <td>C100</td>\n",
       "      <td>100.0000</td>\n",
       "      <td>925</td>\n",
       "      <td>928</td>\n",
       "    </tr>\n",
       "    <tr>\n",
       "      <th>1</th>\n",
       "      <td>C100</td>\n",
       "      <td>C121</td>\n",
       "      <td>99.9995</td>\n",
       "      <td>922</td>\n",
       "      <td>928</td>\n",
       "    </tr>\n",
       "  </tbody>\n",
       "</table>\n",
       "</div>"
      ],
      "text/plain": [
       "  Query   Ref       ANI  Bidirect_FragMap  Total_Query_Frags\n",
       "0  C100  C100  100.0000               925                928\n",
       "1  C100  C121   99.9995               922                928"
      ]
     },
     "execution_count": 83,
     "metadata": {},
     "output_type": "execute_result"
    }
   ],
   "source": [
    "FANI_AvA_DF.head(2)"
   ]
  },
  {
   "cell_type": "code",
   "execution_count": 84,
   "id": "e5933d89-9587-4945-b502-200532ed1a23",
   "metadata": {},
   "outputs": [
    {
     "data": {
      "text/plain": [
       "(4556, 5)"
      ]
     },
     "execution_count": 84,
     "metadata": {},
     "output_type": "execute_result"
    }
   ],
   "source": [
    "FANI_AvA_NoSelf_DF = FANI_AvA_DF.query(\" Query != Ref \")\n",
    "FANI_AvA_NoSelf_DF.shape"
   ]
  },
  {
   "cell_type": "code",
   "execution_count": 85,
   "id": "ac724a7c-805a-4b85-ab6c-d3c5f0183806",
   "metadata": {},
   "outputs": [
    {
     "data": {
      "text/plain": [
       "count    4556.000000\n",
       "mean       98.167086\n",
       "std         0.797338\n",
       "min        97.234800\n",
       "25%        97.537300\n",
       "50%        97.807000\n",
       "75%        98.885925\n",
       "max        99.999800\n",
       "Name: ANI, dtype: float64"
      ]
     },
     "execution_count": 85,
     "metadata": {},
     "output_type": "execute_result"
    }
   ],
   "source": [
    "FANI_AvA_NoSelf_DF[\"ANI\"].describe()"
   ]
  },
  {
   "cell_type": "code",
   "execution_count": null,
   "id": "a848bb6f-87f3-4005-8cb3-3cc2a6ef6b28",
   "metadata": {},
   "outputs": [],
   "source": []
  },
  {
   "cell_type": "code",
   "execution_count": 86,
   "id": "431b5cd1-0ee4-4889-9b47-250c6adbf929",
   "metadata": {},
   "outputs": [
    {
     "data": {
      "text/html": [
       "<div>\n",
       "<style scoped>\n",
       "    .dataframe tbody tr th:only-of-type {\n",
       "        vertical-align: middle;\n",
       "    }\n",
       "\n",
       "    .dataframe tbody tr th {\n",
       "        vertical-align: top;\n",
       "    }\n",
       "\n",
       "    .dataframe thead th {\n",
       "        text-align: right;\n",
       "    }\n",
       "</style>\n",
       "<table border=\"1\" class=\"dataframe\">\n",
       "  <thead>\n",
       "    <tr style=\"text-align: right;\">\n",
       "      <th></th>\n",
       "      <th>Query</th>\n",
       "      <th>Ref</th>\n",
       "      <th>ANI</th>\n",
       "      <th>Bidirect_FragMap</th>\n",
       "      <th>Total_Query_Frags</th>\n",
       "    </tr>\n",
       "  </thead>\n",
       "  <tbody>\n",
       "    <tr>\n",
       "      <th>1</th>\n",
       "      <td>C100</td>\n",
       "      <td>C121</td>\n",
       "      <td>99.9995</td>\n",
       "      <td>922</td>\n",
       "      <td>928</td>\n",
       "    </tr>\n",
       "    <tr>\n",
       "      <th>2</th>\n",
       "      <td>C100</td>\n",
       "      <td>C9</td>\n",
       "      <td>99.9338</td>\n",
       "      <td>894</td>\n",
       "      <td>928</td>\n",
       "    </tr>\n",
       "  </tbody>\n",
       "</table>\n",
       "</div>"
      ],
      "text/plain": [
       "  Query   Ref      ANI  Bidirect_FragMap  Total_Query_Frags\n",
       "1  C100  C121  99.9995               922                928\n",
       "2  C100    C9  99.9338               894                928"
      ]
     },
     "execution_count": 86,
     "metadata": {},
     "output_type": "execute_result"
    }
   ],
   "source": [
    "FANI_AvA_NoSelf_DF.head(2)"
   ]
  },
  {
   "cell_type": "code",
   "execution_count": 87,
   "id": "a6bc0130-81b9-4f12-9d4c-2353d3ffada6",
   "metadata": {},
   "outputs": [],
   "source": [
    "#FANI_AvA_Ordered_DF = FANI_AvA_DF.loc[OrderOfSampleIDs_Phylo, OrderOfSampleIDs_Phylo]\n",
    "#FANI_AvA_Ordered_DF.shape"
   ]
  },
  {
   "cell_type": "code",
   "execution_count": 88,
   "id": "630fda42-9c73-475d-8203-d44c6f90110a",
   "metadata": {},
   "outputs": [
    {
     "data": {
      "text/html": [
       "<div>\n",
       "<style scoped>\n",
       "    .dataframe tbody tr th:only-of-type {\n",
       "        vertical-align: middle;\n",
       "    }\n",
       "\n",
       "    .dataframe tbody tr th {\n",
       "        vertical-align: top;\n",
       "    }\n",
       "\n",
       "    .dataframe thead th {\n",
       "        text-align: right;\n",
       "    }\n",
       "</style>\n",
       "<table border=\"1\" class=\"dataframe\">\n",
       "  <thead>\n",
       "    <tr style=\"text-align: right;\">\n",
       "      <th></th>\n",
       "      <th>Query</th>\n",
       "      <th>Ref</th>\n",
       "      <th>ANI</th>\n",
       "      <th>Bidirect_FragMap</th>\n",
       "      <th>Total_Query_Frags</th>\n",
       "    </tr>\n",
       "  </thead>\n",
       "  <tbody>\n",
       "    <tr>\n",
       "      <th>3059</th>\n",
       "      <td>C136</td>\n",
       "      <td>C148</td>\n",
       "      <td>97.2348</td>\n",
       "      <td>870</td>\n",
       "      <td>918</td>\n",
       "    </tr>\n",
       "    <tr>\n",
       "      <th>2787</th>\n",
       "      <td>C91</td>\n",
       "      <td>C148</td>\n",
       "      <td>97.2423</td>\n",
       "      <td>871</td>\n",
       "      <td>918</td>\n",
       "    </tr>\n",
       "    <tr>\n",
       "      <th>1563</th>\n",
       "      <td>C121</td>\n",
       "      <td>C148</td>\n",
       "      <td>97.2707</td>\n",
       "      <td>871</td>\n",
       "      <td>923</td>\n",
       "    </tr>\n",
       "    <tr>\n",
       "      <th>543</th>\n",
       "      <td>C148</td>\n",
       "      <td>C91</td>\n",
       "      <td>97.2722</td>\n",
       "      <td>869</td>\n",
       "      <td>952</td>\n",
       "    </tr>\n",
       "    <tr>\n",
       "      <th>67</th>\n",
       "      <td>C100</td>\n",
       "      <td>C325</td>\n",
       "      <td>97.2836</td>\n",
       "      <td>857</td>\n",
       "      <td>928</td>\n",
       "    </tr>\n",
       "    <tr>\n",
       "      <th>1562</th>\n",
       "      <td>C121</td>\n",
       "      <td>C325</td>\n",
       "      <td>97.2879</td>\n",
       "      <td>863</td>\n",
       "      <td>923</td>\n",
       "    </tr>\n",
       "    <tr>\n",
       "      <th>4079</th>\n",
       "      <td>C314</td>\n",
       "      <td>C325</td>\n",
       "      <td>97.2921</td>\n",
       "      <td>867</td>\n",
       "      <td>940</td>\n",
       "    </tr>\n",
       "    <tr>\n",
       "      <th>542</th>\n",
       "      <td>C148</td>\n",
       "      <td>C136</td>\n",
       "      <td>97.2973</td>\n",
       "      <td>868</td>\n",
       "      <td>952</td>\n",
       "    </tr>\n",
       "    <tr>\n",
       "      <th>541</th>\n",
       "      <td>C148</td>\n",
       "      <td>C100</td>\n",
       "      <td>97.2993</td>\n",
       "      <td>876</td>\n",
       "      <td>952</td>\n",
       "    </tr>\n",
       "    <tr>\n",
       "      <th>1359</th>\n",
       "      <td>C195</td>\n",
       "      <td>C148</td>\n",
       "      <td>97.3012</td>\n",
       "      <td>855</td>\n",
       "      <td>899</td>\n",
       "    </tr>\n",
       "    <tr>\n",
       "      <th>540</th>\n",
       "      <td>C148</td>\n",
       "      <td>C121</td>\n",
       "      <td>97.3020</td>\n",
       "      <td>880</td>\n",
       "      <td>952</td>\n",
       "    </tr>\n",
       "    <tr>\n",
       "      <th>539</th>\n",
       "      <td>C148</td>\n",
       "      <td>C314</td>\n",
       "      <td>97.3053</td>\n",
       "      <td>883</td>\n",
       "      <td>952</td>\n",
       "    </tr>\n",
       "    <tr>\n",
       "      <th>538</th>\n",
       "      <td>C148</td>\n",
       "      <td>C67</td>\n",
       "      <td>97.3054</td>\n",
       "      <td>871</td>\n",
       "      <td>952</td>\n",
       "    </tr>\n",
       "    <tr>\n",
       "      <th>3127</th>\n",
       "      <td>C197</td>\n",
       "      <td>C121</td>\n",
       "      <td>97.3111</td>\n",
       "      <td>878</td>\n",
       "      <td>930</td>\n",
       "    </tr>\n",
       "    <tr>\n",
       "      <th>537</th>\n",
       "      <td>C148</td>\n",
       "      <td>C294</td>\n",
       "      <td>97.3133</td>\n",
       "      <td>873</td>\n",
       "      <td>952</td>\n",
       "    </tr>\n",
       "  </tbody>\n",
       "</table>\n",
       "</div>"
      ],
      "text/plain": [
       "     Query   Ref      ANI  Bidirect_FragMap  Total_Query_Frags\n",
       "3059  C136  C148  97.2348               870                918\n",
       "2787   C91  C148  97.2423               871                918\n",
       "1563  C121  C148  97.2707               871                923\n",
       "543   C148   C91  97.2722               869                952\n",
       "67    C100  C325  97.2836               857                928\n",
       "1562  C121  C325  97.2879               863                923\n",
       "4079  C314  C325  97.2921               867                940\n",
       "542   C148  C136  97.2973               868                952\n",
       "541   C148  C100  97.2993               876                952\n",
       "1359  C195  C148  97.3012               855                899\n",
       "540   C148  C121  97.3020               880                952\n",
       "539   C148  C314  97.3053               883                952\n",
       "538   C148   C67  97.3054               871                952\n",
       "3127  C197  C121  97.3111               878                930\n",
       "537   C148  C294  97.3133               873                952"
      ]
     },
     "execution_count": 88,
     "metadata": {},
     "output_type": "execute_result"
    }
   ],
   "source": [
    "FANI_AvA_NoSelf_DF.sort_values(\"ANI\", ascending=True).head(15)"
   ]
  },
  {
   "cell_type": "code",
   "execution_count": 89,
   "id": "7ddcbe8f-f0f9-4539-8ed0-37d136ce676e",
   "metadata": {},
   "outputs": [
    {
     "data": {
      "text/plain": [
       "'CC45'"
      ]
     },
     "execution_count": 89,
     "metadata": {},
     "output_type": "execute_result"
    }
   ],
   "source": [
    "ID_To_Lineage_Dict[\"C136\"]"
   ]
  },
  {
   "cell_type": "code",
   "execution_count": 90,
   "id": "c5bbe099-891b-44cd-83e5-6dbaec6fb9eb",
   "metadata": {},
   "outputs": [
    {
     "data": {
      "text/plain": [
       "'CC8'"
      ]
     },
     "execution_count": 90,
     "metadata": {},
     "output_type": "execute_result"
    }
   ],
   "source": [
    "ID_To_Lineage_Dict[\"C148\"]"
   ]
  },
  {
   "cell_type": "code",
   "execution_count": 91,
   "id": "c5e5391e-8667-4d15-998e-3cd3905878e8",
   "metadata": {},
   "outputs": [
    {
     "data": {
      "text/plain": [
       "'CC45'"
      ]
     },
     "execution_count": 91,
     "metadata": {},
     "output_type": "execute_result"
    }
   ],
   "source": [
    "ID_To_Lineage_Dict[\"C91\"]"
   ]
  },
  {
   "cell_type": "code",
   "execution_count": null,
   "id": "718503a6-38e0-4515-b84c-52caffbe119d",
   "metadata": {},
   "outputs": [],
   "source": []
  },
  {
   "cell_type": "markdown",
   "id": "481cf589-1885-439b-be04-8114cab4af12",
   "metadata": {},
   "source": [
    "#### output parsed FastANI results to TSV"
   ]
  },
  {
   "cell_type": "code",
   "execution_count": 92,
   "id": "58d5e9a1-510c-47ea-a000-18e837e05671",
   "metadata": {},
   "outputs": [
    {
     "name": "stdout",
     "output_type": "stream",
     "text": [
      "mkdir: cannot create directory ‘../../Data/GenomeSimilarity_MtbAndEcoli’: File exists\n"
     ]
    }
   ],
   "source": [
    "GenomeSim_OutDir = \"../../Data/GenomeSimilarity_MtbAndEcoli\"\n",
    "!mkdir $GenomeSim_OutDir"
   ]
  },
  {
   "cell_type": "code",
   "execution_count": 93,
   "id": "50e343f9-d567-437e-b393-9bec7155619e",
   "metadata": {},
   "outputs": [],
   "source": [
    "FANI_AvA_Mtb_TSV = f\"{GenomeSim_OutDir}/FastANI.Stats.Saureus68CI.tsv\"\n",
    "\n",
    "FANI_AvA_DF.to_csv(FANI_AvA_Mtb_TSV, sep = \"\\t\", index=False)"
   ]
  },
  {
   "cell_type": "code",
   "execution_count": 94,
   "id": "ebcf8834-04a6-4e17-b485-d30af4cd5e1d",
   "metadata": {},
   "outputs": [
    {
     "name": "stdout",
     "output_type": "stream",
     "text": [
      "FastANI.Stats.Ecoli50CI.tsv\n",
      "FastANI.Stats.Mtb151CI.tsv\n",
      "FastANI.Stats.Saureus68CI.tsv\n",
      "Sourmash.31merJaccardSim.Stats.Ecoli50CI.tsv\n",
      "Sourmash.31merJaccardSim.Stats.Mtb151CI.tsv\n",
      "Sourmash.31merJaccardSim.Stats.Saureus68CI.tsv\n"
     ]
    }
   ],
   "source": [
    "!ls -1 $GenomeSim_OutDir"
   ]
  },
  {
   "cell_type": "code",
   "execution_count": null,
   "id": "cd05e1a5-4abf-4edc-b6a6-eb61dc1258bf",
   "metadata": {},
   "outputs": [],
   "source": []
  },
  {
   "cell_type": "code",
   "execution_count": null,
   "id": "1e97e91e-b409-44fc-a358-68a15d605a98",
   "metadata": {},
   "outputs": [],
   "source": []
  },
  {
   "cell_type": "code",
   "execution_count": null,
   "id": "c4af58a5-2d53-4225-b684-cb25509dd401",
   "metadata": {},
   "outputs": [],
   "source": []
  },
  {
   "cell_type": "markdown",
   "id": "18ae33ae-e89a-49d3-a174-9a687c6ba64d",
   "metadata": {},
   "source": [
    "# Plot the distribution of pairwise predicted ANIs "
   ]
  },
  {
   "cell_type": "code",
   "execution_count": 95,
   "id": "2c88c193-6db7-403b-bb89-a8a3dc804ddd",
   "metadata": {},
   "outputs": [
    {
     "data": {
      "text/plain": [
       "count    4556.000000\n",
       "mean       98.167086\n",
       "std         0.797338\n",
       "min        97.234800\n",
       "25%        97.537300\n",
       "50%        97.807000\n",
       "75%        98.885925\n",
       "max        99.999800\n",
       "Name: ANI, dtype: float64"
      ]
     },
     "execution_count": 95,
     "metadata": {},
     "output_type": "execute_result"
    }
   ],
   "source": [
    "FANI_AvA_NoSelf_DF[\"ANI\"].describe()"
   ]
  },
  {
   "cell_type": "code",
   "execution_count": 96,
   "id": "6c41b568-3dbe-44a9-b87f-5c536d59e28a",
   "metadata": {},
   "outputs": [],
   "source": [
    "sns.set_context(\"paper\", font_scale=3)\n"
   ]
  },
  {
   "cell_type": "code",
   "execution_count": 97,
   "id": "82e34081-c623-4b2c-882c-80c35ccabbcc",
   "metadata": {},
   "outputs": [
    {
     "data": {
      "text/plain": [
       "count    4556.000000\n",
       "mean       98.167086\n",
       "std         0.797338\n",
       "min        97.234800\n",
       "25%        97.537300\n",
       "50%        97.807000\n",
       "75%        98.885925\n",
       "max        99.999800\n",
       "Name: ANI, dtype: float64"
      ]
     },
     "execution_count": 97,
     "metadata": {},
     "output_type": "execute_result"
    }
   ],
   "source": [
    "FANI_AvA_NoSelf_DF[\"ANI\"].describe()"
   ]
  },
  {
   "cell_type": "code",
   "execution_count": 98,
   "id": "8491b2d8-1a12-4bf5-85a1-45352ff22433",
   "metadata": {},
   "outputs": [],
   "source": [
    "sns.set_context(\"paper\", font_scale=3)\n"
   ]
  },
  {
   "cell_type": "code",
   "execution_count": 99,
   "id": "f36e1ce5-c2fc-4313-92d5-8bed7dea3d94",
   "metadata": {},
   "outputs": [
    {
     "data": {
      "image/png": "[encoded data removed]",
      "text/plain": [
       "<Figure size 864x288 with 1 Axes>"
      ]
     },
     "metadata": {
      "needs_background": "light"
     },
     "output_type": "display_data"
    }
   ],
   "source": [
    "fig, ax1 = plt.subplots(figsize=(12,4))\n",
    "\n",
    "#sns.set_style(None)\n",
    "#sns.set()\n",
    "\n",
    "ax1.grid(axis='y', zorder=0, linewidth=.7, color = \"white\" )\n",
    "sns.set_style(rc={'axes.facecolor': '#E8E8E8'})\n",
    "\n",
    "sns.histplot(FANI_AvA_NoSelf_DF[\"ANI\"],  bins = np.arange(90, 101, 0.25),\n",
    "             edgecolor='white', color = '#4F4F4F',\n",
    "             alpha = 1, ax = ax1, zorder = 3)\n",
    "\n",
    "sns.despine()\n",
    "\n",
    "plt.xlabel(\"Estimated ANI (%)\")\n",
    "plt.ylabel(\"Count\")\n",
    "plt.xlim(97, 100)\n",
    "\n",
    "ticks_ax_limewidth = 2\n",
    "ax1.tick_params('both', length=15, width=ticks_ax_limewidth, which='major')\n",
    "\n",
    "for axis in ['bottom','left']:\n",
    "    ax1.spines[axis].set_linewidth(ticks_ax_limewidth)\n",
    "\n",
    "plt.savefig(\"Results5_Plots/6.Saureus68CI.ANI.Histo.png\", dpi = 300)\n",
    "plt.savefig(\"Results5_Plots/6.Saureus68CI.ANI.Histo.svg\")\n",
    "\n",
    "plt.show()\n"
   ]
  },
  {
   "cell_type": "code",
   "execution_count": null,
   "id": "a19370de-e3ec-428c-978d-bd9c029717ab",
   "metadata": {},
   "outputs": [],
   "source": []
  },
  {
   "cell_type": "code",
   "execution_count": 100,
   "id": "74510639-de6f-46e4-bee4-a1df759011bd",
   "metadata": {},
   "outputs": [
    {
     "data": {
      "text/html": [
       "<div>\n",
       "<style scoped>\n",
       "    .dataframe tbody tr th:only-of-type {\n",
       "        vertical-align: middle;\n",
       "    }\n",
       "\n",
       "    .dataframe tbody tr th {\n",
       "        vertical-align: top;\n",
       "    }\n",
       "\n",
       "    .dataframe thead th {\n",
       "        text-align: right;\n",
       "    }\n",
       "</style>\n",
       "<table border=\"1\" class=\"dataframe\">\n",
       "  <thead>\n",
       "    <tr style=\"text-align: right;\">\n",
       "      <th></th>\n",
       "      <th>Query</th>\n",
       "      <th>Ref</th>\n",
       "      <th>ANI</th>\n",
       "      <th>Bidirect_FragMap</th>\n",
       "      <th>Total_Query_Frags</th>\n",
       "    </tr>\n",
       "  </thead>\n",
       "  <tbody>\n",
       "    <tr>\n",
       "      <th>0</th>\n",
       "      <td>C100</td>\n",
       "      <td>C100</td>\n",
       "      <td>100.0000</td>\n",
       "      <td>925</td>\n",
       "      <td>928</td>\n",
       "    </tr>\n",
       "    <tr>\n",
       "      <th>1</th>\n",
       "      <td>C100</td>\n",
       "      <td>C121</td>\n",
       "      <td>99.9995</td>\n",
       "      <td>922</td>\n",
       "      <td>928</td>\n",
       "    </tr>\n",
       "    <tr>\n",
       "      <th>2</th>\n",
       "      <td>C100</td>\n",
       "      <td>C9</td>\n",
       "      <td>99.9338</td>\n",
       "      <td>894</td>\n",
       "      <td>928</td>\n",
       "    </tr>\n",
       "    <tr>\n",
       "      <th>3</th>\n",
       "      <td>C100</td>\n",
       "      <td>C21</td>\n",
       "      <td>99.9138</td>\n",
       "      <td>903</td>\n",
       "      <td>928</td>\n",
       "    </tr>\n",
       "    <tr>\n",
       "      <th>4</th>\n",
       "      <td>C100</td>\n",
       "      <td>C195</td>\n",
       "      <td>99.8888</td>\n",
       "      <td>890</td>\n",
       "      <td>928</td>\n",
       "    </tr>\n",
       "  </tbody>\n",
       "</table>\n",
       "</div>"
      ],
      "text/plain": [
       "  Query   Ref       ANI  Bidirect_FragMap  Total_Query_Frags\n",
       "0  C100  C100  100.0000               925                928\n",
       "1  C100  C121   99.9995               922                928\n",
       "2  C100    C9   99.9338               894                928\n",
       "3  C100   C21   99.9138               903                928\n",
       "4  C100  C195   99.8888               890                928"
      ]
     },
     "execution_count": 100,
     "metadata": {},
     "output_type": "execute_result"
    }
   ],
   "source": [
    "FANI_AvA_DF.head()"
   ]
  },
  {
   "cell_type": "code",
   "execution_count": 101,
   "id": "16348571-f0a0-4d03-93c0-50de2c005ceb",
   "metadata": {},
   "outputs": [
    {
     "data": {
      "text/plain": [
       "count    4624.000000\n",
       "mean       98.194041\n",
       "std         0.821636\n",
       "min        97.234800\n",
       "25%        97.539675\n",
       "50%        97.820750\n",
       "75%        98.899150\n",
       "max       100.000000\n",
       "Name: ANI, dtype: float64"
      ]
     },
     "execution_count": 101,
     "metadata": {},
     "output_type": "execute_result"
    }
   ],
   "source": [
    "FANI_AvA_DF[\"ANI\"].describe()"
   ]
  },
  {
   "cell_type": "code",
   "execution_count": 102,
   "id": "ff96e7ae-d677-44c1-9d83-397921df1c1a",
   "metadata": {},
   "outputs": [
    {
     "data": {
      "text/plain": [
       "(68, 68)"
      ]
     },
     "execution_count": 102,
     "metadata": {},
     "output_type": "execute_result"
    }
   ],
   "source": [
    "FANI_AvA_Pivot = FANI_AvA_DF.pivot(index='Query', columns='Ref', values='ANI')\n",
    "FANI_AvA_Pivot.shape"
   ]
  },
  {
   "cell_type": "code",
   "execution_count": 103,
   "id": "89199882-105d-4340-9386-20a9e3942dbf",
   "metadata": {},
   "outputs": [
    {
     "data": {
      "text/html": [
       "<div>\n",
       "<style scoped>\n",
       "    .dataframe tbody tr th:only-of-type {\n",
       "        vertical-align: middle;\n",
       "    }\n",
       "\n",
       "    .dataframe tbody tr th {\n",
       "        vertical-align: top;\n",
       "    }\n",
       "\n",
       "    .dataframe thead th {\n",
       "        text-align: right;\n",
       "    }\n",
       "</style>\n",
       "<table border=\"1\" class=\"dataframe\">\n",
       "  <thead>\n",
       "    <tr style=\"text-align: right;\">\n",
       "      <th>Ref</th>\n",
       "      <th>C100</th>\n",
       "      <th>C113</th>\n",
       "      <th>C121</th>\n",
       "      <th>C13</th>\n",
       "      <th>C133</th>\n",
       "      <th>C136</th>\n",
       "      <th>C148</th>\n",
       "      <th>C149</th>\n",
       "      <th>C155</th>\n",
       "      <th>C16</th>\n",
       "      <th>...</th>\n",
       "      <th>C52</th>\n",
       "      <th>C56</th>\n",
       "      <th>C67</th>\n",
       "      <th>C70</th>\n",
       "      <th>C72</th>\n",
       "      <th>C76</th>\n",
       "      <th>C79</th>\n",
       "      <th>C80</th>\n",
       "      <th>C9</th>\n",
       "      <th>C91</th>\n",
       "    </tr>\n",
       "    <tr>\n",
       "      <th>Query</th>\n",
       "      <th></th>\n",
       "      <th></th>\n",
       "      <th></th>\n",
       "      <th></th>\n",
       "      <th></th>\n",
       "      <th></th>\n",
       "      <th></th>\n",
       "      <th></th>\n",
       "      <th></th>\n",
       "      <th></th>\n",
       "      <th></th>\n",
       "      <th></th>\n",
       "      <th></th>\n",
       "      <th></th>\n",
       "      <th></th>\n",
       "      <th></th>\n",
       "      <th></th>\n",
       "      <th></th>\n",
       "      <th></th>\n",
       "      <th></th>\n",
       "      <th></th>\n",
       "    </tr>\n",
       "  </thead>\n",
       "  <tbody>\n",
       "    <tr>\n",
       "      <th>C100</th>\n",
       "      <td>100.0000</td>\n",
       "      <td>97.7945</td>\n",
       "      <td>99.9995</td>\n",
       "      <td>97.7740</td>\n",
       "      <td>97.4071</td>\n",
       "      <td>99.8301</td>\n",
       "      <td>97.3233</td>\n",
       "      <td>97.5192</td>\n",
       "      <td>97.4330</td>\n",
       "      <td>97.6556</td>\n",
       "      <td>...</td>\n",
       "      <td>97.7946</td>\n",
       "      <td>97.5088</td>\n",
       "      <td>99.8761</td>\n",
       "      <td>97.5207</td>\n",
       "      <td>99.8316</td>\n",
       "      <td>97.7788</td>\n",
       "      <td>97.3990</td>\n",
       "      <td>99.8441</td>\n",
       "      <td>99.9338</td>\n",
       "      <td>99.8297</td>\n",
       "    </tr>\n",
       "    <tr>\n",
       "      <th>C113</th>\n",
       "      <td>97.8077</td>\n",
       "      <td>100.0000</td>\n",
       "      <td>97.8104</td>\n",
       "      <td>99.7109</td>\n",
       "      <td>97.5446</td>\n",
       "      <td>97.8348</td>\n",
       "      <td>97.5287</td>\n",
       "      <td>97.6957</td>\n",
       "      <td>97.6428</td>\n",
       "      <td>97.7822</td>\n",
       "      <td>...</td>\n",
       "      <td>99.9994</td>\n",
       "      <td>97.6076</td>\n",
       "      <td>97.8947</td>\n",
       "      <td>97.7995</td>\n",
       "      <td>97.8305</td>\n",
       "      <td>99.7107</td>\n",
       "      <td>97.6081</td>\n",
       "      <td>97.9300</td>\n",
       "      <td>97.9522</td>\n",
       "      <td>97.8345</td>\n",
       "    </tr>\n",
       "  </tbody>\n",
       "</table>\n",
       "<p>2 rows × 68 columns</p>\n",
       "</div>"
      ],
      "text/plain": [
       "Ref        C100      C113     C121      C13     C133     C136     C148  \\\n",
       "Query                                                                    \n",
       "C100   100.0000   97.7945  99.9995  97.7740  97.4071  99.8301  97.3233   \n",
       "C113    97.8077  100.0000  97.8104  99.7109  97.5446  97.8348  97.5287   \n",
       "\n",
       "Ref       C149     C155      C16  ...      C52      C56      C67      C70  \\\n",
       "Query                             ...                                       \n",
       "C100   97.5192  97.4330  97.6556  ...  97.7946  97.5088  99.8761  97.5207   \n",
       "C113   97.6957  97.6428  97.7822  ...  99.9994  97.6076  97.8947  97.7995   \n",
       "\n",
       "Ref        C72      C76      C79      C80       C9      C91  \n",
       "Query                                                        \n",
       "C100   99.8316  97.7788  97.3990  99.8441  99.9338  99.8297  \n",
       "C113   97.8305  99.7107  97.6081  97.9300  97.9522  97.8345  \n",
       "\n",
       "[2 rows x 68 columns]"
      ]
     },
     "execution_count": 103,
     "metadata": {},
     "output_type": "execute_result"
    }
   ],
   "source": [
    "FANI_AvA_Pivot.head(2)"
   ]
  },
  {
   "cell_type": "code",
   "execution_count": 104,
   "id": "8380ccce-d632-4cf7-805e-f1e55793e907",
   "metadata": {},
   "outputs": [
    {
     "data": {
      "text/plain": [
       "(68, 68)"
      ]
     },
     "execution_count": 104,
     "metadata": {},
     "output_type": "execute_result"
    }
   ],
   "source": [
    "\n",
    "FANI_AvA_Pivot_Ordered = FANI_AvA_Pivot.loc[OrderOfSampleIDs_Phylo, OrderOfSampleIDs_Phylo]\n",
    "FANI_AvA_Pivot_Ordered.shape"
   ]
  },
  {
   "cell_type": "code",
   "execution_count": null,
   "id": "4855033d-1d3d-449a-827c-aa157f683d25",
   "metadata": {},
   "outputs": [],
   "source": []
  },
  {
   "cell_type": "code",
   "execution_count": 105,
   "id": "a1c9fdb4-0811-475f-9269-b4bbb46dc3bb",
   "metadata": {},
   "outputs": [
    {
     "data": {
      "image/png": "[encoded data removed]",
      "text/plain": [
       "<Figure size 1800x1800 with 6 Axes>"
      ]
     },
     "metadata": {
      "needs_background": "light"
     },
     "output_type": "display_data"
    }
   ],
   "source": [
    "fig_dims = (25, 25)\n",
    "\n",
    "row_colors = [sample_colors.get(sample, \"black\") for sample in FANI_AvA_Pivot_Ordered.index]\n",
    "col_colors = [sample_colors.get(sample, \"black\") for sample in FANI_AvA_Pivot_Ordered.columns]\n",
    "\n",
    "g = clustermap_plot = sns.clustermap(FANI_AvA_Pivot_Ordered, \n",
    "                                 row_colors=row_colors,\n",
    "                                 col_colors=col_colors,\n",
    "                                 figsize=fig_dims, \n",
    "                                 row_cluster=False, col_cluster=False,\n",
    "                                 #cbar_pos = None,\n",
    "                                 cmap='rocket_r',\n",
    "                                 linewidths=0,\n",
    "                                 xticklabels=False,\n",
    "                                 yticklabels=False, vmin = 97 )\n",
    "\n",
    "\n",
    "plt.ylabel(\"\")\n",
    "plt.xlabel(\"\")\n",
    "\n",
    "plt.savefig(\"Results5_Plots/6.Saureus68CI.ANI.heatmap.NoLabels.png\", dpi = 300)\n",
    "plt.savefig(\"Results5_Plots/6.Saureus68CI.ANI.heatmap.NoLabels.svg\")\n",
    "\n",
    "plt.show()"
   ]
  },
  {
   "cell_type": "code",
   "execution_count": null,
   "id": "82ca4b9d-7cbc-4da2-a811-95a6e85388bf",
   "metadata": {},
   "outputs": [],
   "source": []
  },
  {
   "cell_type": "code",
   "execution_count": null,
   "id": "fb950ca3-0db0-492d-b399-09e917491281",
   "metadata": {},
   "outputs": [],
   "source": []
  },
  {
   "cell_type": "code",
   "execution_count": 106,
   "id": "68c4b6bb-46cb-4857-b0d7-f373047a0c24",
   "metadata": {},
   "outputs": [
    {
     "data": {
      "image/png": "[encoded data removed]",
      "text/plain": [
       "<Figure size 1800x1800 with 6 Axes>"
      ]
     },
     "metadata": {
      "needs_background": "light"
     },
     "output_type": "display_data"
    }
   ],
   "source": [
    "fig_dims = (25, 25)\n",
    "\n",
    "row_colors = [sample_colors.get(sample, \"black\") for sample in FANI_AvA_Pivot_Ordered.index]\n",
    "col_colors = [sample_colors.get(sample, \"black\") for sample in FANI_AvA_Pivot_Ordered.columns]\n",
    "\n",
    "g = clustermap_plot = sns.clustermap(FANI_AvA_Pivot_Ordered, \n",
    "                                 row_colors=row_colors,\n",
    "                                 col_colors=col_colors,\n",
    "                                 figsize=fig_dims, \n",
    "                                 row_cluster=True, col_cluster=True,\n",
    "                                 #cbar_pos = None,\n",
    "                                 cmap='rocket_r',\n",
    "                                 linewidths=0,\n",
    "                                 xticklabels=False,\n",
    "                                 yticklabels=False, vmin = 97 )\n",
    "\n",
    "\n",
    "plt.ylabel(\"\")\n",
    "plt.xlabel(\"\")\n",
    "\n",
    "plt.savefig(\"Results5_Plots/6.Saureus68CI.ANI.ClusterMap.NoLabels.png\", dpi = 300)\n",
    "plt.savefig(\"Results5_Plots/6.Saureus68CI.ANI.ClusterMap.NoLabels.svg\")\n",
    "\n",
    "plt.show()"
   ]
  },
  {
   "cell_type": "code",
   "execution_count": null,
   "id": "9a531b8e-dcc3-411e-9e5e-f2bd84c3f4b6",
   "metadata": {},
   "outputs": [],
   "source": []
  },
  {
   "cell_type": "code",
   "execution_count": null,
   "id": "cd5bf4af-8588-4249-ac91-93514c56f37b",
   "metadata": {},
   "outputs": [],
   "source": []
  },
  {
   "cell_type": "code",
   "execution_count": null,
   "id": "edeaff2d-e4e3-41bb-b987-325117f129fa",
   "metadata": {},
   "outputs": [],
   "source": []
  },
  {
   "cell_type": "code",
   "execution_count": null,
   "id": "9d2e6897-95ee-431b-9820-f23ba291e715",
   "metadata": {},
   "outputs": [],
   "source": []
  },
  {
   "cell_type": "code",
   "execution_count": null,
   "id": "9e80fc91-bda6-4a12-b302-3738cd7564b0",
   "metadata": {},
   "outputs": [],
   "source": []
  },
  {
   "cell_type": "code",
   "execution_count": null,
   "id": "716573a2-b76c-47ec-8752-acac5e1b0dfe",
   "metadata": {},
   "outputs": [],
   "source": []
  },
  {
   "cell_type": "code",
   "execution_count": null,
   "id": "2e4f9747-b6cf-4bdc-9ddd-d8d50b585574",
   "metadata": {},
   "outputs": [],
   "source": []
  },
  {
   "cell_type": "code",
   "execution_count": null,
   "id": "efcb48d6-76c0-4686-b6b4-82722822be8b",
   "metadata": {},
   "outputs": [],
   "source": []
  },
  {
   "cell_type": "code",
   "execution_count": null,
   "id": "0c081d37-0004-4917-b90b-15fc25e07967",
   "metadata": {},
   "outputs": [],
   "source": []
  }
 ],
 "metadata": {
  "kernelspec": {
   "display_name": "py37_S",
   "language": "python",
   "name": "py37_s"
  },
  "language_info": {
   "codemirror_mode": {
    "name": "ipython",
    "version": 3
   },
   "file_extension": ".py",
   "mimetype": "text/x-python",
   "name": "python",
   "nbconvert_exporter": "python",
   "pygments_lexer": "ipython3",
   "version": "3.7.3"
  }
 },
 "nbformat": 4,
 "nbformat_minor": 5
}
