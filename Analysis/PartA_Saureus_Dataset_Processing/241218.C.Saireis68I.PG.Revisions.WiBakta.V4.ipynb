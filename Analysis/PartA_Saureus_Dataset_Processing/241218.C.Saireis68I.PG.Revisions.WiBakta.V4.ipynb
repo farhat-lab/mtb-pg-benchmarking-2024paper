{
 "cells": [
  {
   "cell_type": "markdown",
   "id": "d999a1f7-2a37-469c-a0e5-7620bf2ab0c1",
   "metadata": {},
   "source": [
    "# Comparing Pangenome pipeline predictions - Shaw2021 - 50 e. coli genomes"
   ]
  },
  {
   "cell_type": "markdown",
   "id": "774155fc-86a8-49cb-a9ff-953f02c365ff",
   "metadata": {
    "toc-hr-collapsed": true
   },
   "source": [
    "### Import Statements"
   ]
  },
  {
   "cell_type": "code",
   "execution_count": 115,
   "id": "dc8511b1-c7c2-46a0-8375-47f24a479d12",
   "metadata": {},
   "outputs": [],
   "source": [
    "import numpy as np\n",
    "import pandas as pd\n",
    "import vcf\n",
    "from tqdm import tqdm\n",
    "import matplotlib.pyplot as plt\n",
    "import seaborn as sns\n",
    "import pickle\n",
    "import scipy.stats\n",
    "\n",
    "%matplotlib inline"
   ]
  },
  {
   "cell_type": "code",
   "execution_count": null,
   "id": "09fb9fa2-fdb7-45d3-9b7d-aa4f0973f35b",
   "metadata": {},
   "outputs": [],
   "source": []
  },
  {
   "cell_type": "markdown",
   "id": "069864d1-343f-402d-bcdb-9b2fd9c70703",
   "metadata": {},
   "source": [
    "#### Pandas Viewing Settings"
   ]
  },
  {
   "cell_type": "code",
   "execution_count": 116,
   "id": "f0bc9f4b-b84c-48ce-9429-73b512716f70",
   "metadata": {},
   "outputs": [],
   "source": [
    "pd.set_option('display.max_rows', 500)\n",
    "pd.set_option('display.max_columns', 500)\n",
    "pd.set_option('display.width', 1000)"
   ]
  },
  {
   "cell_type": "code",
   "execution_count": 162,
   "id": "31c27e09-dc1c-48ed-884b-1e28d72b4db6",
   "metadata": {},
   "outputs": [],
   "source": [
    "%reload_ext autoreload\n",
    "%autoreload 2\n",
    "    \n",
    "from panqc.utils import get_PG_Stats_FromPresAbs\n",
    "from panqc.utils import get_PG_Stats_FromPresAbs_V2\n"
   ]
  },
  {
   "cell_type": "code",
   "execution_count": 118,
   "id": "99c042d7-683f-45f6-9a27-4c5c5166e0f3",
   "metadata": {},
   "outputs": [],
   "source": []
  },
  {
   "cell_type": "markdown",
   "id": "4c92cbfa-f652-4dfc-a109-2fd6c64adca0",
   "metadata": {},
   "source": [
    "# Define Functions"
   ]
  },
  {
   "cell_type": "code",
   "execution_count": 119,
   "id": "14e0e8cd-acb0-4577-8c75-3c843338a2d3",
   "metadata": {},
   "outputs": [],
   "source": [
    "def parse_PresAbs_Rtab_V2(PresAbs_Rtab_PATH):\n",
    "    '''\n",
    "    This function parsesthe `gene_presence_absence.csv` file output by Panaroo '''\n",
    "\n",
    "    i_Gene_PresAbs_DF = pd.read_csv(PresAbs_Rtab_PATH, sep = \"\\t\")\n",
    "\n",
    "    ### Relabel Columns for presence/absence tracking\n",
    "    i_Gene_PresAbs_DF.columns = [ x.split(\".CDHIT\")[0] for x in i_Gene_PresAbs_DF.columns ]\n",
    "\n",
    "\n",
    "    ListOf_SampleID_Cols = list(i_Gene_PresAbs_DF.drop([\"Gene\"], axis=1).columns)\n",
    "    \n",
    "    i_Gene_PresAbs_DF[\"NumAsm_WiGene\"] = i_Gene_PresAbs_DF[ListOf_SampleID_Cols].sum(axis = 1)\n",
    "\n",
    "    i_Gene_PresAbs_DF = i_Gene_PresAbs_DF.sort_values(by='NumAsm_WiGene', ascending=False)\n",
    "    i_Gene_PresAbs_DF = i_Gene_PresAbs_DF.set_index(\"Gene\", drop=False)\n",
    "\n",
    "    return i_Gene_PresAbs_DF"
   ]
  },
  {
   "cell_type": "code",
   "execution_count": null,
   "id": "8c5af3ad-7793-4b78-98d5-a68b0d327a4d",
   "metadata": {},
   "outputs": [],
   "source": []
  },
  {
   "cell_type": "code",
   "execution_count": 120,
   "id": "1e5e5de6-f94a-4c54-9e40-94b2bc7e2e51",
   "metadata": {},
   "outputs": [],
   "source": [
    "def infer_PG_Stats_FromRtab(i_Pangene_Rtab, i_NumSamples, verbose = False):\n",
    "\n",
    "    Pangene_Rtab_DF = parse_PresAbs_Rtab_V2(i_Pangene_Rtab)\n",
    "\n",
    "    NumTotalGenes, NumCoreGenes, NumAccessoryGenes = get_PG_Stats_FromPresAbs(Pangene_Rtab_DF, i_NumSamples)\n",
    "\n",
    "    listOf_PG_Rows = []\n",
    "    listOf_PG_Rows.append( (\"Total genes\", \"(0% <= strains <= 100%)\", NumTotalGenes) )\n",
    "    listOf_PG_Rows.append( (\"Accessory genes\", \"(0% <= strains < 99%)\", NumAccessoryGenes) )\n",
    "    listOf_PG_Rows.append( (\"Core genes\", \"(99% <= strains <= 100%)\", NumCoreGenes) )\n",
    "\n",
    "    Pangene_PG_Stats_DF = pd.DataFrame(listOf_PG_Rows)\n",
    "    Pangene_PG_Stats_DF.columns = [\"Category\", \"Range\", \"GeneCount\"]\n",
    "    \n",
    "    return Pangene_PG_Stats_DF"
   ]
  },
  {
   "cell_type": "code",
   "execution_count": null,
   "id": "a8c71a04-1248-422b-b779-af40dc3e91a0",
   "metadata": {},
   "outputs": [],
   "source": []
  },
  {
   "cell_type": "code",
   "execution_count": 121,
   "id": "a99145e9-aa3c-41f4-b170-a1d13ba70db5",
   "metadata": {},
   "outputs": [],
   "source": [
    "\n",
    "def read_PanarooSummaryStats(input_Panaroo_SummaryStats_TXT):\n",
    "    \n",
    "    i_Panaroo_Stats_DF = pd.read_csv(input_Panaroo_SummaryStats_TXT, sep = \"\\t\", header=None)\n",
    "    i_Panaroo_Stats_DF.columns = [\"Category\", \"Range\", \"GeneCount\"]\n",
    "\n",
    "    Acc_GenesCount = i_Panaroo_Stats_DF[\"GeneCount\"].values[-1] - i_Panaroo_Stats_DF[\"GeneCount\"].values[0]\n",
    "\n",
    "    i_Panaroo_AccGenesRow = [\"Accessory genes\",\"(0% <= strains < 99%)\", Acc_GenesCount]\n",
    "\n",
    "    i_Panaroo_Stats_DF.loc[len(i_Panaroo_Stats_DF.index)] = i_Panaroo_AccGenesRow\n",
    "\n",
    "    #listOfCat_ToKeep = [\"Core genes\", \"Accessory Genes\", \"Total genes\"]\n",
    "\n",
    "    i_Panaroo_Stats_DF = i_Panaroo_Stats_DF[ i_Panaroo_Stats_DF[\"Category\"].isin(listOfCat_ToKeep)]   \n",
    "\n",
    "    # https://www.statology.org/pandas-add-row-to-dataframe/#:~:text=You%20can%20use%20the%20df,loc%5Blen(df. \n",
    "\n",
    "    return i_Panaroo_Stats_DF"
   ]
  },
  {
   "cell_type": "code",
   "execution_count": 122,
   "id": "c2e7163b-c19a-4504-8bed-25af76a519f0",
   "metadata": {},
   "outputs": [],
   "source": [
    "def read_Ppanggolin_ContextStats(i_Ppanggolin_Default_Content_TXT):\n",
    "    with open(i_Ppanggolin_Default_Content_TXT, \"r\") as f:\n",
    "\n",
    "        #NumCoreGenes = -1\n",
    "        #NumShellGenes = -1\n",
    "        #NumCloudGenes = -1\n",
    "        for line in f:\n",
    "            line_split = line.split(\": \")\n",
    "\n",
    "            Key = line_split[0].split(\" (\")[0]\n",
    "            Value = line_split[-1].strip()\n",
    "\n",
    "            if Key == \"Persistent\": NumCoreGenes = int(Value)\n",
    "            elif Key == \"Shell\": NumShellGenes = int(Value)\n",
    "            elif Key == \"Cloud\": NumCloudGenes = int(Value)\n",
    "\n",
    "        NumAccessoryGenes = NumShellGenes + NumCloudGenes\n",
    "        NumTotalGenes = NumCoreGenes + NumAccessoryGenes\n",
    "\n",
    "    listOf_PG_Rows = []\n",
    "    listOf_PG_Rows.append( (\"Total genes\", \"(0% <= strains <= 100%)\", NumTotalGenes) )\n",
    "    listOf_PG_Rows.append( (\"Accessory genes\", \"(0% <= strains < 99%)\", NumAccessoryGenes) )\n",
    "    listOf_PG_Rows.append( (\"Core genes\", \"(99% <= strains <= 100%)\", NumCoreGenes) )\n",
    "\n",
    "    PPanggolin_Summary_DF = pd.DataFrame(listOf_PG_Rows)\n",
    "    PPanggolin_Summary_DF.columns = [\"Category\", \"Range\", \"GeneCount\"]\n",
    "    \n",
    "    return PPanggolin_Summary_DF"
   ]
  },
  {
   "cell_type": "code",
   "execution_count": null,
   "id": "d401b2f5-74e0-446e-b2c3-652d4277bb13",
   "metadata": {},
   "outputs": [],
   "source": []
  },
  {
   "cell_type": "code",
   "execution_count": 123,
   "id": "03be6486-370c-4863-b32b-16ac5dc53e0f",
   "metadata": {},
   "outputs": [],
   "source": [
    "\n",
    "def calculate_gene_gain_loss_stats(branchstats_tsv):\n",
    "    \"\"\"\n",
    "    Calculate gene gain and loss statistics for ancestral branches and tips\n",
    "    from a branchstats.tsv file generated by Panstripe software.\n",
    "    \n",
    "    Parameters:\n",
    "        branchstats_tsv (str): Path to the branchstats.tsv file.\n",
    "        \n",
    "    Returns:\n",
    "        dict: A dictionary containing the four statistics:\n",
    "              - N_Gain_AncBranches: Total number of genes gained on ancestral branches.\n",
    "              - N_Loss_AncBranches: Total number of genes lost on ancestral branches.\n",
    "              - N_Gain_Tips: Total number of genes gained on tips.\n",
    "              - N_Loss_Tips: Total number of genes lost on tips.\n",
    "    \"\"\"\n",
    "    # Load the data\n",
    "    data = pd.read_csv(branchstats_tsv, sep=\"\\t\")\n",
    "    \n",
    "    # Split the data into ancestral branches and tips\n",
    "    data_tips = data.query(\"istip == 1\")\n",
    "    data_ancs = data.query(\"istip == 0\")\n",
    "    \n",
    "    # Calculate statistics\n",
    "    stats = {\n",
    "        \"N_Gain_Ancs\": data_ancs[\"acc_gain\"].sum(),\n",
    "        \"N_Loss_Ancs\": data_ancs[\"acc_loss\"].sum(),\n",
    "        \"N_Gain_Tips\": data_tips[\"acc_gain\"].sum(),\n",
    "        \"N_Loss_Tips\": data_tips[\"acc_loss\"].sum()\n",
    "    }\n",
    "    \n",
    "    return stats\n",
    "\n",
    "# Example usage:\n",
    "# file_path = \"path/to/Panstripe.BranchStats.tsv\"\n",
    "# stats = calculate_gene_gain_loss_stats(file_path)\n",
    "# print(stats)\n"
   ]
  },
  {
   "cell_type": "code",
   "execution_count": null,
   "id": "001686ee-9195-4f3f-9f78-37cf850c32cb",
   "metadata": {},
   "outputs": [],
   "source": []
  },
  {
   "cell_type": "code",
   "execution_count": null,
   "id": "0bcce672-dcf4-4af5-a265-da3ace14d7d6",
   "metadata": {},
   "outputs": [],
   "source": []
  },
  {
   "cell_type": "markdown",
   "id": "dd124242-7e09-4bca-b2c8-bf886db9aa8a",
   "metadata": {},
   "source": [
    "# Define paths to sample metadata files & key directories"
   ]
  },
  {
   "cell_type": "code",
   "execution_count": 124,
   "id": "6f744ad0-2b65-4010-92b9-3f8b69523f9a",
   "metadata": {},
   "outputs": [],
   "source": [
    "\n",
    "Proj_MainDir = \"/n/data1/hms/dbmi/farhat/mm774/Projects\"\n",
    "\n",
    "SA_PG_MainDir = f\"{Proj_MainDir}/241206_Saureus_PG_Analysis\"  \n",
    "\n",
    "Data_MainDir = f\"{SA_PG_MainDir}/Data\"  \n",
    "\n",
    "SA_68CI_GenomeFASTAs_Dir = f\"{Data_MainDir}/CRS.Saureus.68CI.GenomesFromGitRepo\"\n",
    "\n",
    "HoutakBouras2023_Saureus_68CI_AsmPATH_AltPath_TSV = f\"{SA_PG_MainDir}/241206.HoutakBouras2023.Saureus.68I.MetaData.And.AsmFA.tsv\"\n",
    "\n",
    "\n",
    "Saureus_Repo_Meta_Dir = f\"../../Data/241206_Saureus_HoutakBouras2023_Metadata\"  \n",
    "\n",
    "Sa_ENA_RunData_TSV = f\"{Saureus_Repo_Meta_Dir}/ENA.RunMetadata.PRJNA914892.tsv\"\n",
    "\n",
    "Sa_HoutakBouras2023_Isolate_Metadata_TSV = f\"{Saureus_Repo_Meta_Dir}/HoutakBouras2023.metadata.csv\"\n",
    "\n",
    "Sa_HoutakBouras2023_Isolate_MLST_Info_TSV = f\"{Saureus_Repo_Meta_Dir}/metadata/poppunk_mlst.csv\"\n",
    "\n",
    "\n",
    "\n",
    "Sa_HoutakBouras2023_NCBI_GenomeInfo_TSV  = f\"{Saureus_Repo_Meta_Dir}/NCBI.HoutakBouras2023.Saureus.174CI.HybridGenomes.tsv\"\n",
    "\n",
    "HoutakBouras2023_Saureus_68CI_AsmPATH_TSV = f\"{Saureus_Repo_Meta_Dir}/241206.HoutakBouras2023.Saureus.68I.MetaData.And.AsmFA.tsv\"\n",
    "\n"
   ]
  },
  {
   "cell_type": "markdown",
   "id": "e0741431-104f-4771-ab20-3993fe3d7828",
   "metadata": {},
   "source": [
    "## Parse in metadata DFs"
   ]
  },
  {
   "cell_type": "code",
   "execution_count": 125,
   "id": "8fb8b160-861e-4046-a0d5-f31e14999273",
   "metadata": {},
   "outputs": [
    {
     "name": "stdout",
     "output_type": "stream",
     "text": [
      "(68, 8)\n",
      "(68, 8)\n"
     ]
    }
   ],
   "source": [
    "SA_68CI_Info_DF = pd.read_csv(HoutakBouras2023_Saureus_68CI_AsmPATH_AltPath_TSV,\n",
    "                               sep = \"\\t\")\n",
    "print(SA_68CI_Info_DF.shape)\n",
    "\n",
    "#Sa_68CI_Info_DF = pd.merge(Sa_68CI_Info_DF, MLST_DF, how = \"left\",\n",
    "#                           left_on=\"SampleID\", right_on = \"SampleID\" )\n",
    "\n",
    "print(SA_68CI_Info_DF.shape)"
   ]
  },
  {
   "cell_type": "markdown",
   "id": "7a20c29f-3f49-44bc-82c7-dc7581c411d7",
   "metadata": {},
   "source": [
    "### Define list of SampleIDs"
   ]
  },
  {
   "cell_type": "code",
   "execution_count": 126,
   "id": "a64a2a8e-a300-419d-82ef-693e08db1e1a",
   "metadata": {},
   "outputs": [
    {
     "data": {
      "text/html": [
       "<div>\n",
       "<style scoped>\n",
       "    .dataframe tbody tr th:only-of-type {\n",
       "        vertical-align: middle;\n",
       "    }\n",
       "\n",
       "    .dataframe tbody tr th {\n",
       "        vertical-align: top;\n",
       "    }\n",
       "\n",
       "    .dataframe thead th {\n",
       "        text-align: right;\n",
       "    }\n",
       "</style>\n",
       "<table border=\"1\" class=\"dataframe\">\n",
       "  <thead>\n",
       "    <tr style=\"text-align: right;\">\n",
       "      <th></th>\n",
       "      <th>SampleID</th>\n",
       "      <th>PatientID</th>\n",
       "      <th>Timepoint</th>\n",
       "      <th>Bioproject</th>\n",
       "      <th>SR_RunAccession</th>\n",
       "      <th>Assembly_Accession</th>\n",
       "      <th>Organism</th>\n",
       "      <th>Genome_ASM_PATH</th>\n",
       "    </tr>\n",
       "  </thead>\n",
       "  <tbody>\n",
       "    <tr>\n",
       "      <th>0</th>\n",
       "      <td>C100</td>\n",
       "      <td>276</td>\n",
       "      <td>T0</td>\n",
       "      <td>PRJNA914892</td>\n",
       "      <td>SRR22859841</td>\n",
       "      <td>GCA_030290035.1</td>\n",
       "      <td>Staphylococcus aureus</td>\n",
       "      <td>/n/data1/hms/dbmi/farhat/mm774/Projects/241206...</td>\n",
       "    </tr>\n",
       "  </tbody>\n",
       "</table>\n",
       "</div>"
      ],
      "text/plain": [
       "  SampleID  PatientID Timepoint   Bioproject SR_RunAccession Assembly_Accession               Organism                                    Genome_ASM_PATH\n",
       "0     C100        276        T0  PRJNA914892     SRR22859841    GCA_030290035.1  Staphylococcus aureus  /n/data1/hms/dbmi/farhat/mm774/Projects/241206..."
      ]
     },
     "execution_count": 126,
     "metadata": {},
     "output_type": "execute_result"
    }
   ],
   "source": [
    "SA_68CI_Info_DF.head(1)  "
   ]
  },
  {
   "cell_type": "code",
   "execution_count": 127,
   "id": "fd2e6fcf-34e1-43ca-b6ff-dd208856b78a",
   "metadata": {},
   "outputs": [
    {
     "data": {
      "text/plain": [
       "68"
      ]
     },
     "execution_count": 127,
     "metadata": {},
     "output_type": "execute_result"
    }
   ],
   "source": [
    "SA68I_SampleIDs = SA_68CI_Info_DF[\"SampleID\"].values   \n",
    "len(SA68I_SampleIDs)"
   ]
  },
  {
   "cell_type": "code",
   "execution_count": null,
   "id": "0fc6e9e7-47cf-4de2-9dab-944e27b3cce1",
   "metadata": {},
   "outputs": [],
   "source": []
  },
  {
   "cell_type": "markdown",
   "id": "468a6f38-95fc-416b-b5a5-85bdad8bee1b",
   "metadata": {},
   "source": [
    "# Define output dir of the Mtb-WGA-SMK processing pipeline"
   ]
  },
  {
   "cell_type": "code",
   "execution_count": 128,
   "id": "cbff2854-948f-4bfd-b503-928afb7492a5",
   "metadata": {},
   "outputs": [],
   "source": [
    "# Define genome analysis and pan-genome pipeline output directories\n",
    "\n",
    "WGA_SMK_Outputs_Dir = f\"{SA_PG_MainDir}/SMK_OutDirs\"\n",
    "\n",
    "#PG_Ecoli_50I_OutDir = WGA_SMK_Outputs_Dir + \"/231011_Ecoli_Shaw2021_5OI_V1\"\n",
    "PG_SA_68I_OutDir = WGA_SMK_Outputs_Dir + \"/241206_Saureus_HoutakBouras2023_68I_V1\"\n"
   ]
  },
  {
   "cell_type": "code",
   "execution_count": 129,
   "id": "9ba76e3d-a3c8-4910-83f6-83b4d2ffd35e",
   "metadata": {},
   "outputs": [],
   "source": [
    "#!ls -alh $PG_Ecoli_50I_OutDir"
   ]
  },
  {
   "cell_type": "code",
   "execution_count": null,
   "id": "9344031b-aedb-4851-a7d5-746dc2aa18b1",
   "metadata": {},
   "outputs": [],
   "source": []
  },
  {
   "cell_type": "code",
   "execution_count": null,
   "id": "ea2fe7dc-3770-41d7-b8f3-2be268dce565",
   "metadata": {},
   "outputs": [],
   "source": []
  },
  {
   "cell_type": "code",
   "execution_count": null,
   "id": "9accbced-23bd-4eec-80c7-ccd4ac749bb9",
   "metadata": {},
   "outputs": [],
   "source": []
  },
  {
   "cell_type": "markdown",
   "id": "14fb7080-ac05-4312-8ee8-460094faef5c",
   "metadata": {
    "tags": []
   },
   "source": [
    "# Define output files & parse results for each pipeline"
   ]
  },
  {
   "cell_type": "code",
   "execution_count": 130,
   "id": "3d8aade2-6410-402f-94a6-659c97901b6b",
   "metadata": {},
   "outputs": [
    {
     "name": "stderr",
     "output_type": "stream",
     "text": [
      "100%|██████████| 6/6 [00:00<00:00, 37.09it/s]\n",
      "100%|██████████| 6/6 [00:00<00:00, 79.94it/s]\n"
     ]
    }
   ],
   "source": [
    "\n",
    "PipeName_WiParam_List = ['Panaroo_Strict_MergeParalogs', 'Panaroo_Moderate_MergeParalogs',\n",
    "                         'Panaroo_Sensitive_MergeParalogs', 'Roary_NoSplitParalogs_I80',\n",
    "                         'Roary_NoSplitParalogs_I90', 'Roary_NoSplitParalogs' ] \n",
    "\n",
    "# PipeName_WiParam_List = ['Panaroo_Strict_MergeParalogs', 'Panaroo_Moderate_MergeParalogs',\n",
    "#                          'Panaroo_Sensitive_MergeParalogs', 'Panaroo_Strict','Panaroo_Moderate', 'Panaroo_Sensitive',\n",
    "#                          'Roary_NoSplitParalogs_I80', 'Roary_NoSplitParalogs_I90',\n",
    "#                          'Roary_NoSplitParalogs',  'Roary_Default', 'Ppanggolin_Default',]\n",
    "\n",
    "\n",
    "target_OutputDir = PG_SA_68I_OutDir\n",
    "\n",
    "i_Pangenome_Dir = f\"{target_OutputDir}/PanGenome_Analysis\"\n",
    "\n",
    "listOfCat_ToKeep = [\"Core genes\", \"Accessory genes\", \"Total genes\"]\n",
    "\n",
    "\n",
    "dictOf_PG_OutInfo = {}\n",
    "dictOf_PG_PresAbs_DF = {}\n",
    "dictOf_PG_OutDir_PATHs = {}\n",
    "\n",
    "for i_SampleSet in [\"All\"]:\n",
    "    \n",
    "    dictOf_PG_OutInfo[i_SampleSet] = {}\n",
    "    dictOf_PG_OutDir_PATHs[i_SampleSet] = {}\n",
    "    dictOf_PG_PresAbs_DF[i_SampleSet] = {}\n",
    "    \n",
    "    for AnnoPipeline in [\"Bakta\"]:\n",
    "        \n",
    "        dictOf_PG_OutInfo[i_SampleSet][AnnoPipeline] = {}\n",
    "        dictOf_PG_OutDir_PATHs[i_SampleSet][AnnoPipeline] = {}\n",
    "        dictOf_PG_PresAbs_DF[i_SampleSet][AnnoPipeline] = {}\n",
    "        \n",
    "        for AsmTech in [\"LongRead\", \"ShortRead\"]:       \n",
    "        #for AsmTech in [\"LongRead\"]:       \n",
    "\n",
    "            dictOf_PG_OutInfo[i_SampleSet][AnnoPipeline][AsmTech] = {}\n",
    "            dictOf_PG_OutDir_PATHs[i_SampleSet][AnnoPipeline][AsmTech] = {}\n",
    "            dictOf_PG_PresAbs_DF[i_SampleSet][AnnoPipeline][AsmTech] = {}\n",
    "            \n",
    "            \n",
    "            for i_PipeNameWiParam in tqdm(PipeName_WiParam_List):\n",
    "                \n",
    "                dictOf_PG_OutDir_PATHs[i_SampleSet][AnnoPipeline][AsmTech][i_PipeNameWiParam] = {}\n",
    "                \n",
    "                if (AsmTech == \"ShortRead\") & (AnnoPipeline == \"PGAP\"): continue \n",
    "                \n",
    "                if i_SampleSet == \"All\": DataSetSuffix = \"_AllIsolates\"  \n",
    "\n",
    "                if AsmTech == \"LongRead\": SeqTechPrefix = \"\"\n",
    "                elif AsmTech == \"ShortRead\": SeqTechPrefix = \"SR_\"\n",
    "\n",
    "                if AnnoPipeline == \"Bakta\": AnnoSuffix = \"\"\n",
    "\n",
    "\n",
    "                i_Pipeline_OutDir = f\"{i_Pangenome_Dir}/\"+SeqTechPrefix+i_PipeNameWiParam+DataSetSuffix+AnnoSuffix\n",
    "\n",
    "                i_Pangene_OutDir  = f\"{i_Pangenome_Dir}/Pangene/{SeqTechPrefix}{i_PipeNameWiParam}{DataSetSuffix}{AnnoSuffix}\"\n",
    "\n",
    "\n",
    "                if \"Panaroo\" in i_PipeNameWiParam:\n",
    "                    \n",
    "                    i_PG_Summary_Txt = f\"{i_Pipeline_OutDir}/summary_statistics.txt\"\n",
    "\n",
    "                    i_PG_Stats_DF = read_PanarooSummaryStats(i_PG_Summary_Txt)\n",
    "                    i_PG_Stats_DF[\"Annotation\"] = AnnoPipeline\n",
    "                    i_PG_Stats_DF[\"Method\"] = i_PipeNameWiParam\n",
    "                    i_PG_Stats_DF[\"SeqType\"] = AsmTech\n",
    "                    i_PG_Stats_DF[\"DataSet\"] = i_SampleSet\n",
    "                    \n",
    "                    i_PG_Stats_DF = i_PG_Stats_DF[ i_PG_Stats_DF[\"Category\"].isin(listOfCat_ToKeep)]   \n",
    "                    i_PG_Stats_DF = i_PG_Stats_DF.sort_values(\"GeneCount\", ascending=False)\n",
    "\n",
    "                    \n",
    "                    i_Panstripe_BranchStats_TSV_PATH = f\"{i_Pipeline_OutDir}/Panstripe_PhyloAnalysis_V2/Panstripe.BranchStats.tsv\"    \n",
    "\n",
    "                    # GainLoss_Stats = calculate_gene_gain_loss_stats(i_Panstripe_BranchStats_TSV_PATH)\n",
    "                    # i_PG_Stats_DF[\"N_Gain_Ancs\"] = GainLoss_Stats[\"N_Gain_Ancs\"]\n",
    "                    # i_PG_Stats_DF[\"N_Loss_Ancs\"] = GainLoss_Stats[\"N_Loss_Ancs\"]\n",
    "                    # i_PG_Stats_DF[\"N_Gain_Tips\"] = GainLoss_Stats[\"N_Gain_Tips\"]\n",
    "                    # i_PG_Stats_DF[\"N_Loss_Tips\"] = GainLoss_Stats[\"N_Loss_Tips\"]\n",
    "\n",
    "                    if \"MergeParalogs\" in i_PipeNameWiParam:\n",
    "                        i_panqc_outdir = f\"{i_Pipeline_OutDir}/panqc_NRC_OutDir/\"\n",
    "                        \n",
    "                        i_PanQC_AsmSeqCheck_TSV = f\"{i_panqc_outdir}/Step1_AsmSeqCheck/AsmSeqCheck.Stats.tsv\"\n",
    "                        i_panqc_AsmSeqCheck_DF = pd.read_csv(i_PanQC_AsmSeqCheck_TSV, sep =\"\\t\")\n",
    "\n",
    "                        i_PG_Stats_DF[\"N_CDS_Absent_Total\"] = i_panqc_AsmSeqCheck_DF[\"N_Absent_Total\"].values[0]\n",
    "                        i_PG_Stats_DF[\"N_CDS_Present\"] = i_panqc_AsmSeqCheck_DF[\"N_Present\"].values[0]\n",
    "                        i_PG_Stats_DF[\"N_CDSAbsent_DNAAbsent\"] = i_panqc_AsmSeqCheck_DF[\"N_Absent_AbsentInDNA\"].values[0]\n",
    "                        i_PG_Stats_DF[\"N_CDSAbsent_DNAPresent\"] = i_panqc_AsmSeqCheck_DF[\"N_Absent_PresentInDNA\"].values[0]     \n",
    "                        \n",
    "                        dictOf_PG_OutDir_PATHs[i_SampleSet][AnnoPipeline][AsmTech][i_PipeNameWiParam][\"panqc_AsmSeqCheck_DF\"] = i_panqc_AsmSeqCheck_DF\n",
    "\n",
    "                    i_Gene_PresAbs_CSV_PATH = f\"{i_Pipeline_OutDir}/gene_presence_absence.csv\"    \n",
    "                    i_Pangenome_Ref_FA_PATH = f\"{i_Pipeline_OutDir}/pan_genome_reference.fa\"\n",
    "\n",
    "                    #i_Gene_PresAbs_DF = parse_Panaroo_GenePresAbs_CSV(i_Gene_PresAbs_CSV_PATH)  \n",
    "\n",
    "                    dictOf_PG_OutDir_PATHs[i_SampleSet][AnnoPipeline][AsmTech][i_PipeNameWiParam][\"PresAbs_CSV\"] = i_Gene_PresAbs_CSV_PATH\n",
    "                    dictOf_PG_OutDir_PATHs[i_SampleSet][AnnoPipeline][AsmTech][i_PipeNameWiParam][\"Pangenome_Ref_FA\"] = i_Pangenome_Ref_FA_PATH\n",
    "\n",
    "                \n",
    "                elif \"Roary\" in i_PipeNameWiParam:\n",
    "                    i_PG_Summary_Txt = f\"{i_Pipeline_OutDir}/summary_statistics.txt\"\n",
    "\n",
    "                    i_PG_Stats_DF = read_PanarooSummaryStats(i_PG_Summary_Txt)\n",
    "                    i_PG_Stats_DF[\"Annotation\"] = AnnoPipeline\n",
    "                    i_PG_Stats_DF[\"Method\"] = i_PipeNameWiParam\n",
    "                    i_PG_Stats_DF[\"SeqType\"] = AsmTech\n",
    "                    i_PG_Stats_DF[\"DataSet\"] = i_SampleSet\n",
    "                    \n",
    "                    i_PG_Stats_DF = i_PG_Stats_DF[ i_PG_Stats_DF[\"Category\"].isin(listOfCat_ToKeep)]   \n",
    "                    i_PG_Stats_DF = i_PG_Stats_DF.sort_values(\"GeneCount\", ascending=False)\n",
    "\n",
    "                    i_Panstripe_BranchStats_TSV_PATH = f\"{i_Pipeline_OutDir}/Panstripe_PhyloAnalysis_V2/Panstripe.BranchStats.tsv\"    \n",
    "\n",
    "                    # GainLoss_Stats = calculate_gene_gain_loss_stats(i_Panstripe_BranchStats_TSV_PATH)\n",
    "                    # i_PG_Stats_DF[\"N_Gain_Ancs\"] = GainLoss_Stats[\"N_Gain_Ancs\"]\n",
    "                    # i_PG_Stats_DF[\"N_Loss_Ancs\"] = GainLoss_Stats[\"N_Loss_Ancs\"]\n",
    "                    # i_PG_Stats_DF[\"N_Gain_Tips\"] = GainLoss_Stats[\"N_Gain_Tips\"]\n",
    "                    # i_PG_Stats_DF[\"N_Loss_Tips\"] = GainLoss_Stats[\"N_Loss_Tips\"]\n",
    "\n",
    "                    if \"NoSplitParalogs\" in i_PipeNameWiParam:\n",
    "                        i_panqc_outdir = f\"{i_Pipeline_OutDir}/panqc_NRC_OutDir/\"\n",
    "                        \n",
    "                        i_PanQC_AsmSeqCheck_TSV = f\"{i_panqc_outdir}/Step1_AsmSeqCheck/AsmSeqCheck.Stats.tsv\"\n",
    "                        i_panqc_AsmSeqCheck_DF = pd.read_csv(i_PanQC_AsmSeqCheck_TSV, sep =\"\\t\")\n",
    "\n",
    "                        i_PG_Stats_DF[\"N_CDS_Absent_Total\"] = i_panqc_AsmSeqCheck_DF[\"N_Absent_Total\"].values[0]\n",
    "                        i_PG_Stats_DF[\"N_CDS_Present\"] = i_panqc_AsmSeqCheck_DF[\"N_Present\"].values[0]\n",
    "                        i_PG_Stats_DF[\"N_CDSAbsent_DNAAbsent\"] = i_panqc_AsmSeqCheck_DF[\"N_Absent_AbsentInDNA\"].values[0]\n",
    "                        i_PG_Stats_DF[\"N_CDSAbsent_DNAPresent\"] = i_panqc_AsmSeqCheck_DF[\"N_Absent_PresentInDNA\"].values[0]\n",
    "                        \n",
    "                        dictOf_PG_OutDir_PATHs[i_SampleSet][AnnoPipeline][AsmTech][i_PipeNameWiParam][\"panqc_AsmSeqCheck_DF\"] = i_panqc_AsmSeqCheck_DF\n",
    "\n",
    "                        \n",
    "                    \n",
    "                    i_Gene_PresAbs_CSV_PATH = f\"{i_Pipeline_OutDir}/gene_presence_absence.csv\"    \n",
    "\n",
    "                    i_Pangenome_Ref_FA_PATH = f\"{i_Pipeline_OutDir}/pan_genome_reference.fa\"\n",
    "                    \n",
    "                    dictOf_PG_OutDir_PATHs[i_SampleSet][AnnoPipeline][AsmTech][i_PipeNameWiParam][\"PresAbs_CSV\"] = i_Gene_PresAbs_CSV_PATH\n",
    "                    dictOf_PG_OutDir_PATHs[i_SampleSet][AnnoPipeline][AsmTech][i_PipeNameWiParam][\"Pangenome_Ref_FA\"] = i_Pangenome_Ref_FA_PATH\n",
    "\n",
    "                dictOf_PG_OutInfo[i_SampleSet][AnnoPipeline][AsmTech][i_PipeNameWiParam] = i_PG_Stats_DF\n",
    "                \n",
    "                #dictOf_PG_PresAbs_DF[i_SampleSet][AnnoPipeline][AsmTech][i_PipeNameWiParam] = i_Gene_PresAbs_DF\n",
    "                \n",
    "                dictOf_PG_OutDir_PATHs[i_SampleSet][AnnoPipeline][AsmTech][i_PipeNameWiParam][\"Stats_TXT\"] = i_PG_Summary_Txt"
   ]
  },
  {
   "cell_type": "code",
   "execution_count": 131,
   "id": "fd9cc8e9-2be3-4a3f-81d8-8565751a4d40",
   "metadata": {},
   "outputs": [
    {
     "data": {
      "text/html": [
       "<div>\n",
       "<style scoped>\n",
       "    .dataframe tbody tr th:only-of-type {\n",
       "        vertical-align: middle;\n",
       "    }\n",
       "\n",
       "    .dataframe tbody tr th {\n",
       "        vertical-align: top;\n",
       "    }\n",
       "\n",
       "    .dataframe thead th {\n",
       "        text-align: right;\n",
       "    }\n",
       "</style>\n",
       "<table border=\"1\" class=\"dataframe\">\n",
       "  <thead>\n",
       "    <tr style=\"text-align: right;\">\n",
       "      <th></th>\n",
       "      <th>N_Absent_Total</th>\n",
       "      <th>N_Present</th>\n",
       "      <th>N_Absent_AbsentInDNA</th>\n",
       "      <th>N_Absent_PresentInDNA</th>\n",
       "    </tr>\n",
       "  </thead>\n",
       "  <tbody>\n",
       "    <tr>\n",
       "      <th>0</th>\n",
       "      <td>105466</td>\n",
       "      <td>173334</td>\n",
       "      <td>103061</td>\n",
       "      <td>2405</td>\n",
       "    </tr>\n",
       "  </tbody>\n",
       "</table>\n",
       "</div>"
      ],
      "text/plain": [
       "   N_Absent_Total  N_Present  N_Absent_AbsentInDNA  N_Absent_PresentInDNA\n",
       "0          105466     173334                103061                   2405"
      ]
     },
     "execution_count": 131,
     "metadata": {},
     "output_type": "execute_result"
    }
   ],
   "source": [
    "dictOf_PG_OutDir_PATHs[\"All\"][\"Bakta\"][\"LongRead\"][\"Panaroo_Strict_MergeParalogs\"][\"panqc_AsmSeqCheck_DF\"]"
   ]
  },
  {
   "cell_type": "code",
   "execution_count": null,
   "id": "c04c3fcc-349b-4662-9e41-7fd32d14d39b",
   "metadata": {},
   "outputs": [],
   "source": []
  },
  {
   "cell_type": "code",
   "execution_count": null,
   "id": "ba57c84b-b1fa-4e50-99ff-58bc2fdab8ab",
   "metadata": {},
   "outputs": [],
   "source": []
  },
  {
   "cell_type": "code",
   "execution_count": 132,
   "id": "2c36b68f-ca8a-4959-a414-7cf1d8dc5630",
   "metadata": {},
   "outputs": [
    {
     "data": {
      "text/html": [
       "<div>\n",
       "<style scoped>\n",
       "    .dataframe tbody tr th:only-of-type {\n",
       "        vertical-align: middle;\n",
       "    }\n",
       "\n",
       "    .dataframe tbody tr th {\n",
       "        vertical-align: top;\n",
       "    }\n",
       "\n",
       "    .dataframe thead th {\n",
       "        text-align: right;\n",
       "    }\n",
       "</style>\n",
       "<table border=\"1\" class=\"dataframe\">\n",
       "  <thead>\n",
       "    <tr style=\"text-align: right;\">\n",
       "      <th></th>\n",
       "      <th>Category</th>\n",
       "      <th>Range</th>\n",
       "      <th>GeneCount</th>\n",
       "      <th>Annotation</th>\n",
       "      <th>Method</th>\n",
       "      <th>SeqType</th>\n",
       "      <th>DataSet</th>\n",
       "      <th>N_CDS_Absent_Total</th>\n",
       "      <th>N_CDS_Present</th>\n",
       "      <th>N_CDSAbsent_DNAAbsent</th>\n",
       "      <th>N_CDSAbsent_DNAPresent</th>\n",
       "    </tr>\n",
       "  </thead>\n",
       "  <tbody>\n",
       "    <tr>\n",
       "      <th>4</th>\n",
       "      <td>Total genes</td>\n",
       "      <td>(0% &lt;= strains &lt;= 100%)</td>\n",
       "      <td>4100</td>\n",
       "      <td>Bakta</td>\n",
       "      <td>Panaroo_Strict_MergeParalogs</td>\n",
       "      <td>LongRead</td>\n",
       "      <td>All</td>\n",
       "      <td>105466</td>\n",
       "      <td>173334</td>\n",
       "      <td>103061</td>\n",
       "      <td>2405</td>\n",
       "    </tr>\n",
       "    <tr>\n",
       "      <th>0</th>\n",
       "      <td>Core genes</td>\n",
       "      <td>(99% &lt;= strains &lt;= 100%)</td>\n",
       "      <td>2144</td>\n",
       "      <td>Bakta</td>\n",
       "      <td>Panaroo_Strict_MergeParalogs</td>\n",
       "      <td>LongRead</td>\n",
       "      <td>All</td>\n",
       "      <td>105466</td>\n",
       "      <td>173334</td>\n",
       "      <td>103061</td>\n",
       "      <td>2405</td>\n",
       "    </tr>\n",
       "    <tr>\n",
       "      <th>5</th>\n",
       "      <td>Accessory genes</td>\n",
       "      <td>(0% &lt;= strains &lt; 99%)</td>\n",
       "      <td>1956</td>\n",
       "      <td>Bakta</td>\n",
       "      <td>Panaroo_Strict_MergeParalogs</td>\n",
       "      <td>LongRead</td>\n",
       "      <td>All</td>\n",
       "      <td>105466</td>\n",
       "      <td>173334</td>\n",
       "      <td>103061</td>\n",
       "      <td>2405</td>\n",
       "    </tr>\n",
       "  </tbody>\n",
       "</table>\n",
       "</div>"
      ],
      "text/plain": [
       "          Category                     Range  GeneCount Annotation                        Method   SeqType DataSet  N_CDS_Absent_Total  N_CDS_Present  N_CDSAbsent_DNAAbsent  N_CDSAbsent_DNAPresent\n",
       "4      Total genes   (0% <= strains <= 100%)       4100      Bakta  Panaroo_Strict_MergeParalogs  LongRead     All              105466         173334                 103061                    2405\n",
       "0       Core genes  (99% <= strains <= 100%)       2144      Bakta  Panaroo_Strict_MergeParalogs  LongRead     All              105466         173334                 103061                    2405\n",
       "5  Accessory genes     (0% <= strains < 99%)       1956      Bakta  Panaroo_Strict_MergeParalogs  LongRead     All              105466         173334                 103061                    2405"
      ]
     },
     "execution_count": 132,
     "metadata": {},
     "output_type": "execute_result"
    }
   ],
   "source": [
    "dictOf_PG_OutInfo[\"All\"][\"Bakta\"][\"LongRead\"][\"Panaroo_Strict_MergeParalogs\"] "
   ]
  },
  {
   "cell_type": "code",
   "execution_count": null,
   "id": "f9b3cb72-1615-435e-9c0a-90cb4a4be938",
   "metadata": {},
   "outputs": [],
   "source": []
  },
  {
   "cell_type": "code",
   "execution_count": 133,
   "id": "feccac2f-d489-42bc-90d3-2c9c25f3133c",
   "metadata": {},
   "outputs": [],
   "source": [
    "#!ls -1 /n/data1/hms/dbmi/farhat/mm774/Projects/230905_Ecoli_PG_Analysis/SMK_OutDirs/231011_Ecoli_Shaw2021_5OI_V1/PanGenome_Analysis/Pangene/\n"
   ]
  },
  {
   "cell_type": "code",
   "execution_count": 134,
   "id": "fcbd8dc9-2336-4213-a88d-c72f616a0961",
   "metadata": {},
   "outputs": [],
   "source": [
    "#!ls -1 /n/data1/hms/dbmi/farhat/mm774/Projects/230905_Ecoli_PG_Analysis/SMK_OutDirs/231011_Ecoli_Shaw2021_5OI_V1/PanGenome_Analysis/Pangene/SR_Pangene_0.9.Miniprot0.95_AllIsolates"
   ]
  },
  {
   "cell_type": "code",
   "execution_count": null,
   "id": "00519f70-c966-4b34-ae31-39ccdd722255",
   "metadata": {},
   "outputs": [],
   "source": []
  },
  {
   "cell_type": "code",
   "execution_count": 135,
   "id": "7476dea4-e0de-418b-8e70-96bfa5dfa62d",
   "metadata": {},
   "outputs": [],
   "source": [
    "#dictOf_PG_OutInfo[\"All\"][\"Bakta\"][\"ShortRead\"][\"Panaroo_Strict_MergeParalogs\"]\n"
   ]
  },
  {
   "cell_type": "code",
   "execution_count": 136,
   "id": "d8f6de18-c70d-4e6f-8802-78bf9545bf31",
   "metadata": {},
   "outputs": [
    {
     "data": {
      "text/html": [
       "<div>\n",
       "<style scoped>\n",
       "    .dataframe tbody tr th:only-of-type {\n",
       "        vertical-align: middle;\n",
       "    }\n",
       "\n",
       "    .dataframe tbody tr th {\n",
       "        vertical-align: top;\n",
       "    }\n",
       "\n",
       "    .dataframe thead th {\n",
       "        text-align: right;\n",
       "    }\n",
       "</style>\n",
       "<table border=\"1\" class=\"dataframe\">\n",
       "  <thead>\n",
       "    <tr style=\"text-align: right;\">\n",
       "      <th></th>\n",
       "      <th>Category</th>\n",
       "      <th>Range</th>\n",
       "      <th>GeneCount</th>\n",
       "      <th>Annotation</th>\n",
       "      <th>Method</th>\n",
       "      <th>SeqType</th>\n",
       "      <th>DataSet</th>\n",
       "      <th>N_CDS_Absent_Total</th>\n",
       "      <th>N_CDS_Present</th>\n",
       "      <th>N_CDSAbsent_DNAAbsent</th>\n",
       "      <th>N_CDSAbsent_DNAPresent</th>\n",
       "    </tr>\n",
       "  </thead>\n",
       "  <tbody>\n",
       "    <tr>\n",
       "      <th>4</th>\n",
       "      <td>Total genes</td>\n",
       "      <td>(0% &lt;= strains &lt;= 100%)</td>\n",
       "      <td>4100</td>\n",
       "      <td>Bakta</td>\n",
       "      <td>Panaroo_Strict_MergeParalogs</td>\n",
       "      <td>LongRead</td>\n",
       "      <td>All</td>\n",
       "      <td>105466</td>\n",
       "      <td>173334</td>\n",
       "      <td>103061</td>\n",
       "      <td>2405</td>\n",
       "    </tr>\n",
       "    <tr>\n",
       "      <th>0</th>\n",
       "      <td>Core genes</td>\n",
       "      <td>(99% &lt;= strains &lt;= 100%)</td>\n",
       "      <td>2144</td>\n",
       "      <td>Bakta</td>\n",
       "      <td>Panaroo_Strict_MergeParalogs</td>\n",
       "      <td>LongRead</td>\n",
       "      <td>All</td>\n",
       "      <td>105466</td>\n",
       "      <td>173334</td>\n",
       "      <td>103061</td>\n",
       "      <td>2405</td>\n",
       "    </tr>\n",
       "    <tr>\n",
       "      <th>5</th>\n",
       "      <td>Accessory genes</td>\n",
       "      <td>(0% &lt;= strains &lt; 99%)</td>\n",
       "      <td>1956</td>\n",
       "      <td>Bakta</td>\n",
       "      <td>Panaroo_Strict_MergeParalogs</td>\n",
       "      <td>LongRead</td>\n",
       "      <td>All</td>\n",
       "      <td>105466</td>\n",
       "      <td>173334</td>\n",
       "      <td>103061</td>\n",
       "      <td>2405</td>\n",
       "    </tr>\n",
       "  </tbody>\n",
       "</table>\n",
       "</div>"
      ],
      "text/plain": [
       "          Category                     Range  GeneCount Annotation                        Method   SeqType DataSet  N_CDS_Absent_Total  N_CDS_Present  N_CDSAbsent_DNAAbsent  N_CDSAbsent_DNAPresent\n",
       "4      Total genes   (0% <= strains <= 100%)       4100      Bakta  Panaroo_Strict_MergeParalogs  LongRead     All              105466         173334                 103061                    2405\n",
       "0       Core genes  (99% <= strains <= 100%)       2144      Bakta  Panaroo_Strict_MergeParalogs  LongRead     All              105466         173334                 103061                    2405\n",
       "5  Accessory genes     (0% <= strains < 99%)       1956      Bakta  Panaroo_Strict_MergeParalogs  LongRead     All              105466         173334                 103061                    2405"
      ]
     },
     "execution_count": 136,
     "metadata": {},
     "output_type": "execute_result"
    }
   ],
   "source": [
    "dictOf_PG_OutInfo[\"All\"][\"Bakta\"][\"LongRead\"][\"Panaroo_Strict_MergeParalogs\"]"
   ]
  },
  {
   "cell_type": "code",
   "execution_count": 137,
   "id": "43628e9b-0507-4697-9e1d-425ec9ac55ac",
   "metadata": {},
   "outputs": [
    {
     "data": {
      "text/plain": [
       "array(['Panaroo_Strict_MergeParalogs'], dtype=object)"
      ]
     },
     "execution_count": 137,
     "metadata": {},
     "output_type": "execute_result"
    }
   ],
   "source": [
    "dictOf_PG_OutInfo[\"All\"][\"Bakta\"][\"LongRead\"][\"Panaroo_Strict_MergeParalogs\"][\"Method\"].unique()"
   ]
  },
  {
   "cell_type": "code",
   "execution_count": null,
   "id": "b717d1eb-11d2-4475-8bdc-1e3865dc4f71",
   "metadata": {},
   "outputs": [],
   "source": []
  },
  {
   "cell_type": "code",
   "execution_count": null,
   "id": "ca515dfd-3492-4a26-9a05-9879e15afc40",
   "metadata": {},
   "outputs": [],
   "source": []
  },
  {
   "cell_type": "code",
   "execution_count": 139,
   "id": "2f011d0d-4793-497e-96a9-7e31be842767",
   "metadata": {},
   "outputs": [
    {
     "data": {
      "text/html": [
       "<div>\n",
       "<style scoped>\n",
       "    .dataframe tbody tr th:only-of-type {\n",
       "        vertical-align: middle;\n",
       "    }\n",
       "\n",
       "    .dataframe tbody tr th {\n",
       "        vertical-align: top;\n",
       "    }\n",
       "\n",
       "    .dataframe thead th {\n",
       "        text-align: right;\n",
       "    }\n",
       "</style>\n",
       "<table border=\"1\" class=\"dataframe\">\n",
       "  <thead>\n",
       "    <tr style=\"text-align: right;\">\n",
       "      <th></th>\n",
       "      <th>Category</th>\n",
       "      <th>Range</th>\n",
       "      <th>GeneCount</th>\n",
       "      <th>Annotation</th>\n",
       "      <th>Method</th>\n",
       "      <th>SeqType</th>\n",
       "      <th>DataSet</th>\n",
       "      <th>N_CDS_Absent_Total</th>\n",
       "      <th>N_CDS_Present</th>\n",
       "      <th>N_CDSAbsent_DNAAbsent</th>\n",
       "      <th>N_CDSAbsent_DNAPresent</th>\n",
       "    </tr>\n",
       "  </thead>\n",
       "  <tbody>\n",
       "    <tr>\n",
       "      <th>4</th>\n",
       "      <td>Total genes</td>\n",
       "      <td>(0% &lt;= strains &lt;= 100%)</td>\n",
       "      <td>4009</td>\n",
       "      <td>Bakta</td>\n",
       "      <td>Roary_NoSplitParalogs_I80</td>\n",
       "      <td>LongRead</td>\n",
       "      <td>All</td>\n",
       "      <td>101654</td>\n",
       "      <td>170958</td>\n",
       "      <td>101088</td>\n",
       "      <td>566</td>\n",
       "    </tr>\n",
       "    <tr>\n",
       "      <th>0</th>\n",
       "      <td>Core genes</td>\n",
       "      <td>(99% &lt;= strains &lt;= 100%)</td>\n",
       "      <td>2134</td>\n",
       "      <td>Bakta</td>\n",
       "      <td>Roary_NoSplitParalogs_I80</td>\n",
       "      <td>LongRead</td>\n",
       "      <td>All</td>\n",
       "      <td>101654</td>\n",
       "      <td>170958</td>\n",
       "      <td>101088</td>\n",
       "      <td>566</td>\n",
       "    </tr>\n",
       "    <tr>\n",
       "      <th>5</th>\n",
       "      <td>Accessory genes</td>\n",
       "      <td>(0% &lt;= strains &lt; 99%)</td>\n",
       "      <td>1875</td>\n",
       "      <td>Bakta</td>\n",
       "      <td>Roary_NoSplitParalogs_I80</td>\n",
       "      <td>LongRead</td>\n",
       "      <td>All</td>\n",
       "      <td>101654</td>\n",
       "      <td>170958</td>\n",
       "      <td>101088</td>\n",
       "      <td>566</td>\n",
       "    </tr>\n",
       "  </tbody>\n",
       "</table>\n",
       "</div>"
      ],
      "text/plain": [
       "          Category                     Range  GeneCount Annotation                     Method   SeqType DataSet  N_CDS_Absent_Total  N_CDS_Present  N_CDSAbsent_DNAAbsent  N_CDSAbsent_DNAPresent\n",
       "4      Total genes   (0% <= strains <= 100%)       4009      Bakta  Roary_NoSplitParalogs_I80  LongRead     All              101654         170958                 101088                     566\n",
       "0       Core genes  (99% <= strains <= 100%)       2134      Bakta  Roary_NoSplitParalogs_I80  LongRead     All              101654         170958                 101088                     566\n",
       "5  Accessory genes     (0% <= strains < 99%)       1875      Bakta  Roary_NoSplitParalogs_I80  LongRead     All              101654         170958                 101088                     566"
      ]
     },
     "execution_count": 139,
     "metadata": {},
     "output_type": "execute_result"
    }
   ],
   "source": [
    "dictOf_PG_OutInfo[\"All\"][\"Bakta\"][\"LongRead\"][\"Roary_NoSplitParalogs_I80\"]"
   ]
  },
  {
   "cell_type": "code",
   "execution_count": 140,
   "id": "aebb6790-75fc-492e-b95c-05af54da8223",
   "metadata": {},
   "outputs": [
    {
     "data": {
      "text/html": [
       "<div>\n",
       "<style scoped>\n",
       "    .dataframe tbody tr th:only-of-type {\n",
       "        vertical-align: middle;\n",
       "    }\n",
       "\n",
       "    .dataframe tbody tr th {\n",
       "        vertical-align: top;\n",
       "    }\n",
       "\n",
       "    .dataframe thead th {\n",
       "        text-align: right;\n",
       "    }\n",
       "</style>\n",
       "<table border=\"1\" class=\"dataframe\">\n",
       "  <thead>\n",
       "    <tr style=\"text-align: right;\">\n",
       "      <th></th>\n",
       "      <th>Category</th>\n",
       "      <th>Range</th>\n",
       "      <th>GeneCount</th>\n",
       "      <th>Annotation</th>\n",
       "      <th>Method</th>\n",
       "      <th>SeqType</th>\n",
       "      <th>DataSet</th>\n",
       "      <th>N_CDS_Absent_Total</th>\n",
       "      <th>N_CDS_Present</th>\n",
       "      <th>N_CDSAbsent_DNAAbsent</th>\n",
       "      <th>N_CDSAbsent_DNAPresent</th>\n",
       "    </tr>\n",
       "  </thead>\n",
       "  <tbody>\n",
       "    <tr>\n",
       "      <th>4</th>\n",
       "      <td>Total genes</td>\n",
       "      <td>(0% &lt;= strains &lt;= 100%)</td>\n",
       "      <td>4023</td>\n",
       "      <td>Bakta</td>\n",
       "      <td>Roary_NoSplitParalogs_I80</td>\n",
       "      <td>ShortRead</td>\n",
       "      <td>All</td>\n",
       "      <td>103772</td>\n",
       "      <td>169792</td>\n",
       "      <td>103285</td>\n",
       "      <td>487</td>\n",
       "    </tr>\n",
       "    <tr>\n",
       "      <th>5</th>\n",
       "      <td>Accessory genes</td>\n",
       "      <td>(0% &lt;= strains &lt; 99%)</td>\n",
       "      <td>2281</td>\n",
       "      <td>Bakta</td>\n",
       "      <td>Roary_NoSplitParalogs_I80</td>\n",
       "      <td>ShortRead</td>\n",
       "      <td>All</td>\n",
       "      <td>103772</td>\n",
       "      <td>169792</td>\n",
       "      <td>103285</td>\n",
       "      <td>487</td>\n",
       "    </tr>\n",
       "    <tr>\n",
       "      <th>0</th>\n",
       "      <td>Core genes</td>\n",
       "      <td>(99% &lt;= strains &lt;= 100%)</td>\n",
       "      <td>1742</td>\n",
       "      <td>Bakta</td>\n",
       "      <td>Roary_NoSplitParalogs_I80</td>\n",
       "      <td>ShortRead</td>\n",
       "      <td>All</td>\n",
       "      <td>103772</td>\n",
       "      <td>169792</td>\n",
       "      <td>103285</td>\n",
       "      <td>487</td>\n",
       "    </tr>\n",
       "  </tbody>\n",
       "</table>\n",
       "</div>"
      ],
      "text/plain": [
       "          Category                     Range  GeneCount Annotation                     Method    SeqType DataSet  N_CDS_Absent_Total  N_CDS_Present  N_CDSAbsent_DNAAbsent  N_CDSAbsent_DNAPresent\n",
       "4      Total genes   (0% <= strains <= 100%)       4023      Bakta  Roary_NoSplitParalogs_I80  ShortRead     All              103772         169792                 103285                     487\n",
       "5  Accessory genes     (0% <= strains < 99%)       2281      Bakta  Roary_NoSplitParalogs_I80  ShortRead     All              103772         169792                 103285                     487\n",
       "0       Core genes  (99% <= strains <= 100%)       1742      Bakta  Roary_NoSplitParalogs_I80  ShortRead     All              103772         169792                 103285                     487"
      ]
     },
     "execution_count": 140,
     "metadata": {},
     "output_type": "execute_result"
    }
   ],
   "source": [
    "dictOf_PG_OutInfo[\"All\"][\"Bakta\"][\"ShortRead\"][\"Roary_NoSplitParalogs_I80\"]"
   ]
  },
  {
   "cell_type": "code",
   "execution_count": null,
   "id": "2a128f17-88c6-4dc5-a571-1f000cea8056",
   "metadata": {},
   "outputs": [],
   "source": []
  },
  {
   "cell_type": "code",
   "execution_count": 141,
   "id": "e2b637cf-6e2c-4d0e-92c7-055f1b699558",
   "metadata": {},
   "outputs": [
    {
     "data": {
      "text/html": [
       "<div>\n",
       "<style scoped>\n",
       "    .dataframe tbody tr th:only-of-type {\n",
       "        vertical-align: middle;\n",
       "    }\n",
       "\n",
       "    .dataframe tbody tr th {\n",
       "        vertical-align: top;\n",
       "    }\n",
       "\n",
       "    .dataframe thead th {\n",
       "        text-align: right;\n",
       "    }\n",
       "</style>\n",
       "<table border=\"1\" class=\"dataframe\">\n",
       "  <thead>\n",
       "    <tr style=\"text-align: right;\">\n",
       "      <th></th>\n",
       "      <th>Category</th>\n",
       "      <th>Range</th>\n",
       "      <th>GeneCount</th>\n",
       "      <th>Annotation</th>\n",
       "      <th>Method</th>\n",
       "      <th>SeqType</th>\n",
       "      <th>DataSet</th>\n",
       "      <th>N_CDS_Absent_Total</th>\n",
       "      <th>N_CDS_Present</th>\n",
       "      <th>N_CDSAbsent_DNAAbsent</th>\n",
       "      <th>N_CDSAbsent_DNAPresent</th>\n",
       "    </tr>\n",
       "  </thead>\n",
       "  <tbody>\n",
       "    <tr>\n",
       "      <th>4</th>\n",
       "      <td>Total genes</td>\n",
       "      <td>(0% &lt;= strains &lt;= 100%)</td>\n",
       "      <td>5032</td>\n",
       "      <td>Bakta</td>\n",
       "      <td>Roary_NoSplitParalogs</td>\n",
       "      <td>LongRead</td>\n",
       "      <td>All</td>\n",
       "      <td>168980</td>\n",
       "      <td>173196</td>\n",
       "      <td>162380</td>\n",
       "      <td>6600</td>\n",
       "    </tr>\n",
       "    <tr>\n",
       "      <th>5</th>\n",
       "      <td>Accessory genes</td>\n",
       "      <td>(0% &lt;= strains &lt; 99%)</td>\n",
       "      <td>3024</td>\n",
       "      <td>Bakta</td>\n",
       "      <td>Roary_NoSplitParalogs</td>\n",
       "      <td>LongRead</td>\n",
       "      <td>All</td>\n",
       "      <td>168980</td>\n",
       "      <td>173196</td>\n",
       "      <td>162380</td>\n",
       "      <td>6600</td>\n",
       "    </tr>\n",
       "    <tr>\n",
       "      <th>0</th>\n",
       "      <td>Core genes</td>\n",
       "      <td>(99% &lt;= strains &lt;= 100%)</td>\n",
       "      <td>2008</td>\n",
       "      <td>Bakta</td>\n",
       "      <td>Roary_NoSplitParalogs</td>\n",
       "      <td>LongRead</td>\n",
       "      <td>All</td>\n",
       "      <td>168980</td>\n",
       "      <td>173196</td>\n",
       "      <td>162380</td>\n",
       "      <td>6600</td>\n",
       "    </tr>\n",
       "  </tbody>\n",
       "</table>\n",
       "</div>"
      ],
      "text/plain": [
       "          Category                     Range  GeneCount Annotation                 Method   SeqType DataSet  N_CDS_Absent_Total  N_CDS_Present  N_CDSAbsent_DNAAbsent  N_CDSAbsent_DNAPresent\n",
       "4      Total genes   (0% <= strains <= 100%)       5032      Bakta  Roary_NoSplitParalogs  LongRead     All              168980         173196                 162380                    6600\n",
       "5  Accessory genes     (0% <= strains < 99%)       3024      Bakta  Roary_NoSplitParalogs  LongRead     All              168980         173196                 162380                    6600\n",
       "0       Core genes  (99% <= strains <= 100%)       2008      Bakta  Roary_NoSplitParalogs  LongRead     All              168980         173196                 162380                    6600"
      ]
     },
     "execution_count": 141,
     "metadata": {},
     "output_type": "execute_result"
    }
   ],
   "source": [
    "dictOf_PG_OutInfo[\"All\"][\"Bakta\"][\"LongRead\"][\"Roary_NoSplitParalogs\"]"
   ]
  },
  {
   "cell_type": "code",
   "execution_count": 142,
   "id": "8eba0755-9273-48b8-a8fe-e867c20cb412",
   "metadata": {},
   "outputs": [
    {
     "data": {
      "text/html": [
       "<div>\n",
       "<style scoped>\n",
       "    .dataframe tbody tr th:only-of-type {\n",
       "        vertical-align: middle;\n",
       "    }\n",
       "\n",
       "    .dataframe tbody tr th {\n",
       "        vertical-align: top;\n",
       "    }\n",
       "\n",
       "    .dataframe thead th {\n",
       "        text-align: right;\n",
       "    }\n",
       "</style>\n",
       "<table border=\"1\" class=\"dataframe\">\n",
       "  <thead>\n",
       "    <tr style=\"text-align: right;\">\n",
       "      <th></th>\n",
       "      <th>Category</th>\n",
       "      <th>Range</th>\n",
       "      <th>GeneCount</th>\n",
       "      <th>Annotation</th>\n",
       "      <th>Method</th>\n",
       "      <th>SeqType</th>\n",
       "      <th>DataSet</th>\n",
       "      <th>N_CDS_Absent_Total</th>\n",
       "      <th>N_CDS_Present</th>\n",
       "      <th>N_CDSAbsent_DNAAbsent</th>\n",
       "      <th>N_CDSAbsent_DNAPresent</th>\n",
       "    </tr>\n",
       "  </thead>\n",
       "  <tbody>\n",
       "    <tr>\n",
       "      <th>4</th>\n",
       "      <td>Total genes</td>\n",
       "      <td>(0% &lt;= strains &lt;= 100%)</td>\n",
       "      <td>4996</td>\n",
       "      <td>Bakta</td>\n",
       "      <td>Roary_NoSplitParalogs</td>\n",
       "      <td>ShortRead</td>\n",
       "      <td>All</td>\n",
       "      <td>167868</td>\n",
       "      <td>171860</td>\n",
       "      <td>161694</td>\n",
       "      <td>6174</td>\n",
       "    </tr>\n",
       "    <tr>\n",
       "      <th>5</th>\n",
       "      <td>Accessory genes</td>\n",
       "      <td>(0% &lt;= strains &lt; 99%)</td>\n",
       "      <td>3347</td>\n",
       "      <td>Bakta</td>\n",
       "      <td>Roary_NoSplitParalogs</td>\n",
       "      <td>ShortRead</td>\n",
       "      <td>All</td>\n",
       "      <td>167868</td>\n",
       "      <td>171860</td>\n",
       "      <td>161694</td>\n",
       "      <td>6174</td>\n",
       "    </tr>\n",
       "    <tr>\n",
       "      <th>0</th>\n",
       "      <td>Core genes</td>\n",
       "      <td>(99% &lt;= strains &lt;= 100%)</td>\n",
       "      <td>1649</td>\n",
       "      <td>Bakta</td>\n",
       "      <td>Roary_NoSplitParalogs</td>\n",
       "      <td>ShortRead</td>\n",
       "      <td>All</td>\n",
       "      <td>167868</td>\n",
       "      <td>171860</td>\n",
       "      <td>161694</td>\n",
       "      <td>6174</td>\n",
       "    </tr>\n",
       "  </tbody>\n",
       "</table>\n",
       "</div>"
      ],
      "text/plain": [
       "          Category                     Range  GeneCount Annotation                 Method    SeqType DataSet  N_CDS_Absent_Total  N_CDS_Present  N_CDSAbsent_DNAAbsent  N_CDSAbsent_DNAPresent\n",
       "4      Total genes   (0% <= strains <= 100%)       4996      Bakta  Roary_NoSplitParalogs  ShortRead     All              167868         171860                 161694                    6174\n",
       "5  Accessory genes     (0% <= strains < 99%)       3347      Bakta  Roary_NoSplitParalogs  ShortRead     All              167868         171860                 161694                    6174\n",
       "0       Core genes  (99% <= strains <= 100%)       1649      Bakta  Roary_NoSplitParalogs  ShortRead     All              167868         171860                 161694                    6174"
      ]
     },
     "execution_count": 142,
     "metadata": {},
     "output_type": "execute_result"
    }
   ],
   "source": [
    "dictOf_PG_OutInfo[\"All\"][\"Bakta\"][\"ShortRead\"][\"Roary_NoSplitParalogs\"]"
   ]
  },
  {
   "cell_type": "code",
   "execution_count": null,
   "id": "0d7efb90-974a-45ff-9c6d-47fdf1218a13",
   "metadata": {},
   "outputs": [],
   "source": []
  },
  {
   "cell_type": "code",
   "execution_count": null,
   "id": "2af94150-25e7-49d7-8716-0d232a2e334d",
   "metadata": {},
   "outputs": [],
   "source": []
  },
  {
   "cell_type": "code",
   "execution_count": 143,
   "id": "73d2cf21-1039-4ecc-8ebc-9d6a0d386123",
   "metadata": {},
   "outputs": [
    {
     "data": {
      "text/html": [
       "<div>\n",
       "<style scoped>\n",
       "    .dataframe tbody tr th:only-of-type {\n",
       "        vertical-align: middle;\n",
       "    }\n",
       "\n",
       "    .dataframe tbody tr th {\n",
       "        vertical-align: top;\n",
       "    }\n",
       "\n",
       "    .dataframe thead th {\n",
       "        text-align: right;\n",
       "    }\n",
       "</style>\n",
       "<table border=\"1\" class=\"dataframe\">\n",
       "  <thead>\n",
       "    <tr style=\"text-align: right;\">\n",
       "      <th></th>\n",
       "      <th>Category</th>\n",
       "      <th>Range</th>\n",
       "      <th>GeneCount</th>\n",
       "      <th>Annotation</th>\n",
       "      <th>Method</th>\n",
       "      <th>SeqType</th>\n",
       "      <th>DataSet</th>\n",
       "      <th>N_CDS_Absent_Total</th>\n",
       "      <th>N_CDS_Present</th>\n",
       "      <th>N_CDSAbsent_DNAAbsent</th>\n",
       "      <th>N_CDSAbsent_DNAPresent</th>\n",
       "    </tr>\n",
       "  </thead>\n",
       "  <tbody>\n",
       "    <tr>\n",
       "      <th>4</th>\n",
       "      <td>Total genes</td>\n",
       "      <td>(0% &lt;= strains &lt;= 100%)</td>\n",
       "      <td>4245</td>\n",
       "      <td>Bakta</td>\n",
       "      <td>Panaroo_Sensitive_MergeParalogs</td>\n",
       "      <td>LongRead</td>\n",
       "      <td>All</td>\n",
       "      <td>114480</td>\n",
       "      <td>174180</td>\n",
       "      <td>111852</td>\n",
       "      <td>2628</td>\n",
       "    </tr>\n",
       "    <tr>\n",
       "      <th>0</th>\n",
       "      <td>Core genes</td>\n",
       "      <td>(99% &lt;= strains &lt;= 100%)</td>\n",
       "      <td>2145</td>\n",
       "      <td>Bakta</td>\n",
       "      <td>Panaroo_Sensitive_MergeParalogs</td>\n",
       "      <td>LongRead</td>\n",
       "      <td>All</td>\n",
       "      <td>114480</td>\n",
       "      <td>174180</td>\n",
       "      <td>111852</td>\n",
       "      <td>2628</td>\n",
       "    </tr>\n",
       "    <tr>\n",
       "      <th>5</th>\n",
       "      <td>Accessory genes</td>\n",
       "      <td>(0% &lt;= strains &lt; 99%)</td>\n",
       "      <td>2100</td>\n",
       "      <td>Bakta</td>\n",
       "      <td>Panaroo_Sensitive_MergeParalogs</td>\n",
       "      <td>LongRead</td>\n",
       "      <td>All</td>\n",
       "      <td>114480</td>\n",
       "      <td>174180</td>\n",
       "      <td>111852</td>\n",
       "      <td>2628</td>\n",
       "    </tr>\n",
       "  </tbody>\n",
       "</table>\n",
       "</div>"
      ],
      "text/plain": [
       "          Category                     Range  GeneCount Annotation                           Method   SeqType DataSet  N_CDS_Absent_Total  N_CDS_Present  N_CDSAbsent_DNAAbsent  N_CDSAbsent_DNAPresent\n",
       "4      Total genes   (0% <= strains <= 100%)       4245      Bakta  Panaroo_Sensitive_MergeParalogs  LongRead     All              114480         174180                 111852                    2628\n",
       "0       Core genes  (99% <= strains <= 100%)       2145      Bakta  Panaroo_Sensitive_MergeParalogs  LongRead     All              114480         174180                 111852                    2628\n",
       "5  Accessory genes     (0% <= strains < 99%)       2100      Bakta  Panaroo_Sensitive_MergeParalogs  LongRead     All              114480         174180                 111852                    2628"
      ]
     },
     "execution_count": 143,
     "metadata": {},
     "output_type": "execute_result"
    }
   ],
   "source": [
    "dictOf_PG_OutInfo[\"All\"][\"Bakta\"][\"LongRead\"][\"Panaroo_Sensitive_MergeParalogs\"]"
   ]
  },
  {
   "cell_type": "code",
   "execution_count": 144,
   "id": "f809db2b-d053-4dc4-bd28-da94d31ad9a2",
   "metadata": {},
   "outputs": [
    {
     "data": {
      "text/html": [
       "<div>\n",
       "<style scoped>\n",
       "    .dataframe tbody tr th:only-of-type {\n",
       "        vertical-align: middle;\n",
       "    }\n",
       "\n",
       "    .dataframe tbody tr th {\n",
       "        vertical-align: top;\n",
       "    }\n",
       "\n",
       "    .dataframe thead th {\n",
       "        text-align: right;\n",
       "    }\n",
       "</style>\n",
       "<table border=\"1\" class=\"dataframe\">\n",
       "  <thead>\n",
       "    <tr style=\"text-align: right;\">\n",
       "      <th></th>\n",
       "      <th>Category</th>\n",
       "      <th>Range</th>\n",
       "      <th>GeneCount</th>\n",
       "      <th>Annotation</th>\n",
       "      <th>Method</th>\n",
       "      <th>SeqType</th>\n",
       "      <th>DataSet</th>\n",
       "      <th>N_CDS_Absent_Total</th>\n",
       "      <th>N_CDS_Present</th>\n",
       "      <th>N_CDSAbsent_DNAAbsent</th>\n",
       "      <th>N_CDSAbsent_DNAPresent</th>\n",
       "    </tr>\n",
       "  </thead>\n",
       "  <tbody>\n",
       "    <tr>\n",
       "      <th>4</th>\n",
       "      <td>Total genes</td>\n",
       "      <td>(0% &lt;= strains &lt;= 100%)</td>\n",
       "      <td>4009</td>\n",
       "      <td>Bakta</td>\n",
       "      <td>Roary_NoSplitParalogs_I80</td>\n",
       "      <td>LongRead</td>\n",
       "      <td>All</td>\n",
       "      <td>101654</td>\n",
       "      <td>170958</td>\n",
       "      <td>101088</td>\n",
       "      <td>566</td>\n",
       "    </tr>\n",
       "    <tr>\n",
       "      <th>0</th>\n",
       "      <td>Core genes</td>\n",
       "      <td>(99% &lt;= strains &lt;= 100%)</td>\n",
       "      <td>2134</td>\n",
       "      <td>Bakta</td>\n",
       "      <td>Roary_NoSplitParalogs_I80</td>\n",
       "      <td>LongRead</td>\n",
       "      <td>All</td>\n",
       "      <td>101654</td>\n",
       "      <td>170958</td>\n",
       "      <td>101088</td>\n",
       "      <td>566</td>\n",
       "    </tr>\n",
       "    <tr>\n",
       "      <th>5</th>\n",
       "      <td>Accessory genes</td>\n",
       "      <td>(0% &lt;= strains &lt; 99%)</td>\n",
       "      <td>1875</td>\n",
       "      <td>Bakta</td>\n",
       "      <td>Roary_NoSplitParalogs_I80</td>\n",
       "      <td>LongRead</td>\n",
       "      <td>All</td>\n",
       "      <td>101654</td>\n",
       "      <td>170958</td>\n",
       "      <td>101088</td>\n",
       "      <td>566</td>\n",
       "    </tr>\n",
       "  </tbody>\n",
       "</table>\n",
       "</div>"
      ],
      "text/plain": [
       "          Category                     Range  GeneCount Annotation                     Method   SeqType DataSet  N_CDS_Absent_Total  N_CDS_Present  N_CDSAbsent_DNAAbsent  N_CDSAbsent_DNAPresent\n",
       "4      Total genes   (0% <= strains <= 100%)       4009      Bakta  Roary_NoSplitParalogs_I80  LongRead     All              101654         170958                 101088                     566\n",
       "0       Core genes  (99% <= strains <= 100%)       2134      Bakta  Roary_NoSplitParalogs_I80  LongRead     All              101654         170958                 101088                     566\n",
       "5  Accessory genes     (0% <= strains < 99%)       1875      Bakta  Roary_NoSplitParalogs_I80  LongRead     All              101654         170958                 101088                     566"
      ]
     },
     "execution_count": 144,
     "metadata": {},
     "output_type": "execute_result"
    }
   ],
   "source": [
    "dictOf_PG_OutInfo[\"All\"][\"Bakta\"][\"LongRead\"][\"Roary_NoSplitParalogs_I80\"]"
   ]
  },
  {
   "cell_type": "code",
   "execution_count": null,
   "id": "417a4cff-c427-4066-a076-11f48bf1ee9b",
   "metadata": {},
   "outputs": [],
   "source": []
  },
  {
   "cell_type": "code",
   "execution_count": 146,
   "id": "e1ed6492-9ce7-442a-805e-f65f13384d6c",
   "metadata": {},
   "outputs": [
    {
     "data": {
      "text/html": [
       "<div>\n",
       "<style scoped>\n",
       "    .dataframe tbody tr th:only-of-type {\n",
       "        vertical-align: middle;\n",
       "    }\n",
       "\n",
       "    .dataframe tbody tr th {\n",
       "        vertical-align: top;\n",
       "    }\n",
       "\n",
       "    .dataframe thead th {\n",
       "        text-align: right;\n",
       "    }\n",
       "</style>\n",
       "<table border=\"1\" class=\"dataframe\">\n",
       "  <thead>\n",
       "    <tr style=\"text-align: right;\">\n",
       "      <th></th>\n",
       "      <th>N_Absent_Total</th>\n",
       "      <th>N_Present</th>\n",
       "      <th>N_Absent_AbsentInDNA</th>\n",
       "      <th>N_Absent_PresentInDNA</th>\n",
       "    </tr>\n",
       "  </thead>\n",
       "  <tbody>\n",
       "    <tr>\n",
       "      <th>0</th>\n",
       "      <td>105466</td>\n",
       "      <td>173334</td>\n",
       "      <td>103061</td>\n",
       "      <td>2405</td>\n",
       "    </tr>\n",
       "  </tbody>\n",
       "</table>\n",
       "</div>"
      ],
      "text/plain": [
       "   N_Absent_Total  N_Present  N_Absent_AbsentInDNA  N_Absent_PresentInDNA\n",
       "0          105466     173334                103061                   2405"
      ]
     },
     "execution_count": 146,
     "metadata": {},
     "output_type": "execute_result"
    }
   ],
   "source": [
    "dictOf_PG_OutDir_PATHs[\"All\"][\"Bakta\"][\"LongRead\"][\"Panaroo_Strict_MergeParalogs\"][\"panqc_AsmSeqCheck_DF\"]"
   ]
  },
  {
   "cell_type": "code",
   "execution_count": 147,
   "id": "24221ef0-c394-4a66-afbe-87a7d487e305",
   "metadata": {},
   "outputs": [
    {
     "data": {
      "text/html": [
       "<div>\n",
       "<style scoped>\n",
       "    .dataframe tbody tr th:only-of-type {\n",
       "        vertical-align: middle;\n",
       "    }\n",
       "\n",
       "    .dataframe tbody tr th {\n",
       "        vertical-align: top;\n",
       "    }\n",
       "\n",
       "    .dataframe thead th {\n",
       "        text-align: right;\n",
       "    }\n",
       "</style>\n",
       "<table border=\"1\" class=\"dataframe\">\n",
       "  <thead>\n",
       "    <tr style=\"text-align: right;\">\n",
       "      <th></th>\n",
       "      <th>N_Absent_Total</th>\n",
       "      <th>N_Present</th>\n",
       "      <th>N_Absent_AbsentInDNA</th>\n",
       "      <th>N_Absent_PresentInDNA</th>\n",
       "    </tr>\n",
       "  </thead>\n",
       "  <tbody>\n",
       "    <tr>\n",
       "      <th>0</th>\n",
       "      <td>114480</td>\n",
       "      <td>174180</td>\n",
       "      <td>111852</td>\n",
       "      <td>2628</td>\n",
       "    </tr>\n",
       "  </tbody>\n",
       "</table>\n",
       "</div>"
      ],
      "text/plain": [
       "   N_Absent_Total  N_Present  N_Absent_AbsentInDNA  N_Absent_PresentInDNA\n",
       "0          114480     174180                111852                   2628"
      ]
     },
     "execution_count": 147,
     "metadata": {},
     "output_type": "execute_result"
    }
   ],
   "source": [
    "dictOf_PG_OutDir_PATHs[\"All\"][\"Bakta\"][\"LongRead\"][\"Panaroo_Sensitive_MergeParalogs\"][\"panqc_AsmSeqCheck_DF\"]"
   ]
  },
  {
   "cell_type": "code",
   "execution_count": 148,
   "id": "f6cc7fc0-6c63-4d71-8741-6094dd8c2467",
   "metadata": {},
   "outputs": [
    {
     "data": {
      "text/html": [
       "<div>\n",
       "<style scoped>\n",
       "    .dataframe tbody tr th:only-of-type {\n",
       "        vertical-align: middle;\n",
       "    }\n",
       "\n",
       "    .dataframe tbody tr th {\n",
       "        vertical-align: top;\n",
       "    }\n",
       "\n",
       "    .dataframe thead th {\n",
       "        text-align: right;\n",
       "    }\n",
       "</style>\n",
       "<table border=\"1\" class=\"dataframe\">\n",
       "  <thead>\n",
       "    <tr style=\"text-align: right;\">\n",
       "      <th></th>\n",
       "      <th>N_Absent_Total</th>\n",
       "      <th>N_Present</th>\n",
       "      <th>N_Absent_AbsentInDNA</th>\n",
       "      <th>N_Absent_PresentInDNA</th>\n",
       "    </tr>\n",
       "  </thead>\n",
       "  <tbody>\n",
       "    <tr>\n",
       "      <th>0</th>\n",
       "      <td>123845</td>\n",
       "      <td>172499</td>\n",
       "      <td>122982</td>\n",
       "      <td>863</td>\n",
       "    </tr>\n",
       "  </tbody>\n",
       "</table>\n",
       "</div>"
      ],
      "text/plain": [
       "   N_Absent_Total  N_Present  N_Absent_AbsentInDNA  N_Absent_PresentInDNA\n",
       "0          123845     172499                122982                    863"
      ]
     },
     "execution_count": 148,
     "metadata": {},
     "output_type": "execute_result"
    }
   ],
   "source": [
    "dictOf_PG_OutDir_PATHs[\"All\"][\"Bakta\"][\"LongRead\"][\"Roary_NoSplitParalogs_I90\"][\"panqc_AsmSeqCheck_DF\"]"
   ]
  },
  {
   "cell_type": "code",
   "execution_count": 150,
   "id": "3bd2b364-105a-4214-bba5-210581e4bc97",
   "metadata": {},
   "outputs": [
    {
     "data": {
      "text/html": [
       "<div>\n",
       "<style scoped>\n",
       "    .dataframe tbody tr th:only-of-type {\n",
       "        vertical-align: middle;\n",
       "    }\n",
       "\n",
       "    .dataframe tbody tr th {\n",
       "        vertical-align: top;\n",
       "    }\n",
       "\n",
       "    .dataframe thead th {\n",
       "        text-align: right;\n",
       "    }\n",
       "</style>\n",
       "<table border=\"1\" class=\"dataframe\">\n",
       "  <thead>\n",
       "    <tr style=\"text-align: right;\">\n",
       "      <th></th>\n",
       "      <th>N_Absent_Total</th>\n",
       "      <th>N_Present</th>\n",
       "      <th>N_Absent_AbsentInDNA</th>\n",
       "      <th>N_Absent_PresentInDNA</th>\n",
       "    </tr>\n",
       "  </thead>\n",
       "  <tbody>\n",
       "    <tr>\n",
       "      <th>0</th>\n",
       "      <td>123845</td>\n",
       "      <td>172499</td>\n",
       "      <td>122982</td>\n",
       "      <td>863</td>\n",
       "    </tr>\n",
       "  </tbody>\n",
       "</table>\n",
       "</div>"
      ],
      "text/plain": [
       "   N_Absent_Total  N_Present  N_Absent_AbsentInDNA  N_Absent_PresentInDNA\n",
       "0          123845     172499                122982                    863"
      ]
     },
     "execution_count": 150,
     "metadata": {},
     "output_type": "execute_result"
    }
   ],
   "source": [
    "dictOf_PG_OutDir_PATHs[\"All\"][\"Bakta\"][\"LongRead\"][\"Roary_NoSplitParalogs_I90\"][\"panqc_AsmSeqCheck_DF\"]"
   ]
  },
  {
   "cell_type": "code",
   "execution_count": 151,
   "id": "fc31e809-a2ae-49ab-89bc-605ac56fccf0",
   "metadata": {},
   "outputs": [
    {
     "data": {
      "text/html": [
       "<div>\n",
       "<style scoped>\n",
       "    .dataframe tbody tr th:only-of-type {\n",
       "        vertical-align: middle;\n",
       "    }\n",
       "\n",
       "    .dataframe tbody tr th {\n",
       "        vertical-align: top;\n",
       "    }\n",
       "\n",
       "    .dataframe thead th {\n",
       "        text-align: right;\n",
       "    }\n",
       "</style>\n",
       "<table border=\"1\" class=\"dataframe\">\n",
       "  <thead>\n",
       "    <tr style=\"text-align: right;\">\n",
       "      <th></th>\n",
       "      <th>N_Absent_Total</th>\n",
       "      <th>N_Present</th>\n",
       "      <th>N_Absent_AbsentInDNA</th>\n",
       "      <th>N_Absent_PresentInDNA</th>\n",
       "    </tr>\n",
       "  </thead>\n",
       "  <tbody>\n",
       "    <tr>\n",
       "      <th>0</th>\n",
       "      <td>101654</td>\n",
       "      <td>170958</td>\n",
       "      <td>101088</td>\n",
       "      <td>566</td>\n",
       "    </tr>\n",
       "  </tbody>\n",
       "</table>\n",
       "</div>"
      ],
      "text/plain": [
       "   N_Absent_Total  N_Present  N_Absent_AbsentInDNA  N_Absent_PresentInDNA\n",
       "0          101654     170958                101088                    566"
      ]
     },
     "execution_count": 151,
     "metadata": {},
     "output_type": "execute_result"
    }
   ],
   "source": [
    "dictOf_PG_OutDir_PATHs[\"All\"][\"Bakta\"][\"LongRead\"][\"Roary_NoSplitParalogs_I80\"][\"panqc_AsmSeqCheck_DF\"]"
   ]
  },
  {
   "cell_type": "code",
   "execution_count": null,
   "id": "31741044-14de-49a5-9468-cf47f5ad4e15",
   "metadata": {},
   "outputs": [],
   "source": []
  },
  {
   "cell_type": "code",
   "execution_count": null,
   "id": "5a17238c-419c-47bb-87dc-6c5d59009565",
   "metadata": {},
   "outputs": [],
   "source": []
  },
  {
   "cell_type": "code",
   "execution_count": null,
   "id": "5fd67aa3-259f-47f5-b15e-20a49a0245e4",
   "metadata": {},
   "outputs": [],
   "source": []
  },
  {
   "cell_type": "code",
   "execution_count": null,
   "id": "09d35bc6-a623-4d05-9b3d-fbd0bcdb147a",
   "metadata": {},
   "outputs": [],
   "source": []
  },
  {
   "cell_type": "code",
   "execution_count": 153,
   "id": "d609ee0b-2313-4526-9c5a-3e5aaa0f311f",
   "metadata": {},
   "outputs": [
    {
     "name": "stdout",
     "output_type": "stream",
     "text": [
      "Pangene_0.9.Miniprot0.95.gene_presence_absence.Rtab\n",
      "Pangene_0.9.Miniprot0.95.gfa\n"
     ]
    }
   ],
   "source": [
    "!ls -1 /n/data1/hms/dbmi/farhat/mm774/Projects/230905_Ecoli_PG_Analysis/SMK_OutDirs/231011_Ecoli_Shaw2021_5OI_V1/PanGenome_Analysis/Pangene/Pangene_0.9.Miniprot0.95_AllIsolates/\n"
   ]
  },
  {
   "cell_type": "code",
   "execution_count": null,
   "id": "a6b5a89d-0236-4313-b25a-e89da73bc7b6",
   "metadata": {},
   "outputs": [],
   "source": []
  },
  {
   "cell_type": "markdown",
   "id": "4ea8b283-b51a-483b-989d-e811127304cb",
   "metadata": {},
   "source": [
    "# 1) Merge all Pan-genome counts accross all combinations evaluated"
   ]
  },
  {
   "cell_type": "code",
   "execution_count": 154,
   "id": "5146c6dd-654d-4769-86ab-61ffef6fe143",
   "metadata": {},
   "outputs": [
    {
     "data": {
      "text/plain": [
       "(36, 15)"
      ]
     },
     "execution_count": 154,
     "metadata": {},
     "output_type": "execute_result"
    }
   ],
   "source": [
    "\n",
    "PipeName_WiParam_List = ['Panaroo_Strict_MergeParalogs', 'Panaroo_Moderate_MergeParalogs',\n",
    "                         'Panaroo_Sensitive_MergeParalogs', 'Roary_NoSplitParalogs_I80',\n",
    "                         'Roary_NoSplitParalogs_I90', 'Roary_NoSplitParalogs' ] \n",
    "\n",
    "\n",
    "listOf_PG_InfoDFs = []\n",
    "for i_SampleSet in [\"All\"]: \n",
    "    for AnnoPipeline in [\"Bakta\"]:\n",
    "        #for AsmTech in [\"LongRead\"]:\n",
    "        for AsmTech in [\"LongRead\", \"ShortRead\"]:\n",
    "            for i_PipeNameWiParam in PipeName_WiParam_List:\n",
    "                i_PG_Stats_DF = dictOf_PG_OutInfo[i_SampleSet][AnnoPipeline][AsmTech][i_PipeNameWiParam]\n",
    "                \n",
    "                listOf_PG_InfoDFs.append(i_PG_Stats_DF)\n",
    "\n",
    "\n",
    "PG_Merged_Stats_LRandSR_DF = pd.concat(listOf_PG_InfoDFs)\n",
    "\n",
    "PG_Merged_Stats_LRandSR_DF[\"MethodAndTech\"] = PG_Merged_Stats_LRandSR_DF[\"Method\"] + \"_\" +PG_Merged_Stats_LRandSR_DF[\"SeqType\"]\n",
    "\n",
    "PG_Merged_Stats_LRandSR_DF[\"MethodAndTechAndAnno\"] = PG_Merged_Stats_LRandSR_DF[\"Method\"] + \"_\" +PG_Merged_Stats_LRandSR_DF[\"SeqType\"]  + \"_\" +PG_Merged_Stats_LRandSR_DF[\"Annotation\"]  \n",
    "\n",
    "PG_Merged_Stats_LRandSR_DF[\"AnnoAndTech\"] = PG_Merged_Stats_LRandSR_DF[\"Annotation\"] + \"-\" + PG_Merged_Stats_LRandSR_DF[\"SeqType\"]\n",
    "\n",
    "PG_Merged_Stats_LRandSR_DF[\"PangenomeTool\"] = PG_Merged_Stats_LRandSR_DF[\"Method\"].str.split(\"_\").str[0]\n",
    "\n",
    "PG_Merged_Stats_LRandSR_DF.shape\n"
   ]
  },
  {
   "cell_type": "code",
   "execution_count": 155,
   "id": "c7177d24-d2cf-4d1b-a99f-34d293b2ee8d",
   "metadata": {},
   "outputs": [
    {
     "data": {
      "text/plain": [
       "array(['Panaroo_Strict_MergeParalogs'], dtype=object)"
      ]
     },
     "execution_count": 155,
     "metadata": {},
     "output_type": "execute_result"
    }
   ],
   "source": [
    "dictOf_PG_OutInfo[\"All\"][\"Bakta\"][\"LongRead\"][\"Panaroo_Strict_MergeParalogs\"][\"Method\"].unique()"
   ]
  },
  {
   "cell_type": "code",
   "execution_count": 158,
   "id": "d9b3d387-9f05-46b8-8b1e-ce3b98b1a2e6",
   "metadata": {},
   "outputs": [
    {
     "data": {
      "text/plain": [
       "Panaroo    18\n",
       "Roary      18\n",
       "Name: PangenomeTool, dtype: int64"
      ]
     },
     "execution_count": 158,
     "metadata": {},
     "output_type": "execute_result"
    }
   ],
   "source": [
    "PG_Merged_Stats_LRandSR_DF[\"PangenomeTool\"].value_counts()"
   ]
  },
  {
   "cell_type": "code",
   "execution_count": 159,
   "id": "f78fae0f-cd23-41bb-a6e4-fd5b5d787b51",
   "metadata": {},
   "outputs": [
    {
     "data": {
      "text/plain": [
       "2"
      ]
     },
     "execution_count": 159,
     "metadata": {},
     "output_type": "execute_result"
    }
   ],
   "source": [
    "PG_Merged_Stats_LRandSR_DF[\"PangenomeTool\"].nunique()"
   ]
  },
  {
   "cell_type": "code",
   "execution_count": 161,
   "id": "f839c63e-c2fc-4088-a3b8-13feaa82bb05",
   "metadata": {},
   "outputs": [
    {
     "data": {
      "text/plain": [
       "6"
      ]
     },
     "execution_count": 161,
     "metadata": {},
     "output_type": "execute_result"
    }
   ],
   "source": [
    "PG_Merged_Stats_LRandSR_DF[\"Method\"].nunique()"
   ]
  },
  {
   "cell_type": "code",
   "execution_count": null,
   "id": "7b26be63-bab7-4773-99cd-6a210c95d764",
   "metadata": {},
   "outputs": [],
   "source": []
  },
  {
   "cell_type": "code",
   "execution_count": null,
   "id": "cf21130c-c39b-4326-ad2b-16c551e86265",
   "metadata": {},
   "outputs": [],
   "source": [
    "PG_Merged_Stats_LRandSR_DF[\"PangenomeTool\"].value_counts()"
   ]
  },
  {
   "cell_type": "code",
   "execution_count": null,
   "id": "9dfee8ff-120a-4331-b04d-3b10bf2b7021",
   "metadata": {},
   "outputs": [],
   "source": [
    "PG_Merged_Stats_LRandSR_DF.shape"
   ]
  },
  {
   "cell_type": "markdown",
   "id": "f5e9cf93-2d12-434a-9516-836c50d1af01",
   "metadata": {},
   "source": [
    "## Divide Pan-genome summary stats by \"assembly type\" and \"gene category\""
   ]
  },
  {
   "cell_type": "code",
   "execution_count": null,
   "id": "f7e6366f-b2d9-47c4-81e8-6be3d3dba699",
   "metadata": {},
   "outputs": [],
   "source": [
    "PG_Merged_Stats_LRandSR_Pangenome_DF = PG_Merged_Stats_LRandSR_DF.query(\" Category == 'Total genes'  \")\n",
    "PG_Merged_Stats_LRandSR_Core_DF = PG_Merged_Stats_LRandSR_DF.query(\" Category == 'Core genes'  \")\n",
    "PG_Merged_Stats_LRandSR_Acc_DF = PG_Merged_Stats_LRandSR_DF.query(\" Category == 'Accessory genes'  \")"
   ]
  },
  {
   "cell_type": "code",
   "execution_count": null,
   "id": "1fa8dd15-8504-4ba5-9105-3bae5c9b1595",
   "metadata": {},
   "outputs": [],
   "source": [
    "PG_Merged_Stats_LR_Pangenome_DF = PG_Merged_Stats_LRandSR_DF.query(\" Category == 'Total genes'  \").query(\" SeqType == 'LongRead'  \")\n",
    "PG_Merged_Stats_LR_Core_DF = PG_Merged_Stats_LRandSR_DF.query(\" Category == 'Core genes'  \").query(\" SeqType == 'LongRead'  \")\n",
    "PG_Merged_Stats_LR_Acc_DF = PG_Merged_Stats_LRandSR_DF.query(\" Category == 'Accessory genes'  \").query(\" SeqType == 'LongRead'  \")"
   ]
  },
  {
   "cell_type": "code",
   "execution_count": null,
   "id": "e11475ac-368c-40da-b0cd-0c85b5487ef6",
   "metadata": {},
   "outputs": [],
   "source": [
    "PG_Merged_Stats_SR_Pangenome_DF = PG_Merged_Stats_LRandSR_DF.query(\" Category == 'Total genes'  \").query(\" SeqType == 'ShortRead'  \")\n",
    "PG_Merged_Stats_SR_Core_DF = PG_Merged_Stats_LRandSR_DF.query(\" Category == 'Core genes'  \").query(\" SeqType == 'ShortRead'  \")\n",
    "PG_Merged_Stats_SR_Acc_DF = PG_Merged_Stats_LRandSR_DF.query(\" Category == 'Accessory genes'  \").query(\" SeqType == 'ShortRead'  \")"
   ]
  },
  {
   "cell_type": "code",
   "execution_count": null,
   "id": "ebc17283-db97-4bd9-9ed2-569e62fbbe36",
   "metadata": {},
   "outputs": [],
   "source": []
  },
  {
   "cell_type": "code",
   "execution_count": null,
   "id": "1190d34a-c488-4d5a-9838-86ab5068ac54",
   "metadata": {},
   "outputs": [],
   "source": [
    "# PG_Merged_Stats_LR_DF = pd.concat([Panaroo_Strict_Stats_DF,\n",
    "#                                 Panaroo_Moderate_Stats_DF,\n",
    "#                                 Panaroo_Sensitive_Stats_DF,\n",
    "#                                 Roary_Default_Stats_DF,\n",
    "#                                 Roary_NoSplit_Stats_DF,\n",
    "#                                 Roary_NoSplitI90_Stats_DF,\n",
    "#                                 Ppanggolin_Default_Stats_DF])\n",
    "\n",
    "# PG_Merged_Stats_LR_DF.shape"
   ]
  },
  {
   "cell_type": "code",
   "execution_count": null,
   "id": "197c5f9f-9fd4-4193-bf00-4aaa327a5cc8",
   "metadata": {},
   "outputs": [],
   "source": []
  },
  {
   "cell_type": "code",
   "execution_count": null,
   "id": "03d7ebdb-ad6c-4c19-ba41-587efcd72c5f",
   "metadata": {},
   "outputs": [],
   "source": []
  },
  {
   "cell_type": "markdown",
   "id": "25fc82b2-3d03-43ef-9d1c-b036b3e32070",
   "metadata": {},
   "source": [
    "### Explore data structure a bit"
   ]
  },
  {
   "cell_type": "code",
   "execution_count": null,
   "id": "1e4615a3-5116-4b91-a729-d7fbdb8454de",
   "metadata": {},
   "outputs": [],
   "source": [
    "PG_Merged_Stats_LRandSR_DF.head(4)"
   ]
  },
  {
   "cell_type": "code",
   "execution_count": null,
   "id": "9cf64e3a-c334-44cf-a0e0-1d6171e1740b",
   "metadata": {},
   "outputs": [],
   "source": [
    "PG_Merged_Stats_LRandSR_DF[\"Category\"].value_counts()"
   ]
  },
  {
   "cell_type": "code",
   "execution_count": null,
   "id": "56a9f093-9f30-4b0a-91bd-565cc428fec3",
   "metadata": {},
   "outputs": [],
   "source": []
  },
  {
   "cell_type": "markdown",
   "id": "0c823694-7d68-4268-b374-babead2d3ea7",
   "metadata": {},
   "source": [
    "### Output `PG_Merged_Stats_LRandSR_DF` to TSV"
   ]
  },
  {
   "cell_type": "code",
   "execution_count": null,
   "id": "d8d021b1-be60-4520-bc44-3b50b1ee9e6d",
   "metadata": {},
   "outputs": [],
   "source": [
    "#PG_Results_OutDir = \"../../Data/240116.PG_Results\" \n",
    "\n",
    "#!mkdir $PG_Results_OutDir\n",
    "\n",
    "#PG_Merged_Stats_LRandSR_DF.to_csv(f\"{PG_Results_OutDir}/Ecoli50CI.PG_Merged_Stats_LRandSR.tsv\", sep=\"\\t\", index=False)\n"
   ]
  },
  {
   "cell_type": "code",
   "execution_count": null,
   "id": "69be4f52-15ed-493d-875e-ad1004324b2f",
   "metadata": {},
   "outputs": [],
   "source": [
    "PG_Merged_Stats_LRandSR_DF.head(4)"
   ]
  },
  {
   "cell_type": "code",
   "execution_count": null,
   "id": "c2e0e5c9-94b6-404b-8402-874a8ed0285f",
   "metadata": {},
   "outputs": [],
   "source": []
  },
  {
   "cell_type": "markdown",
   "id": "aa9b2267-f22a-4c9a-a0a0-c4a36223ebb5",
   "metadata": {},
   "source": [
    "## Create mapping of tool-parameter ID to name"
   ]
  },
  {
   "cell_type": "code",
   "execution_count": null,
   "id": "7b841214-99c6-4b1c-a884-52e7b9256185",
   "metadata": {},
   "outputs": [],
   "source": [
    "\n",
    "PipeName_WiParam_List = ['Panaroo_Strict_MergeParalogs', 'Panaroo_Moderate_MergeParalogs',\n",
    "                         'Panaroo_Sensitive_MergeParalogs', 'Panaroo_Strict',\n",
    "                         'Panaroo_Moderate', 'Panaroo_Sensitive',  'Roary_NoSplitParalogs_I80',\n",
    "                         'Roary_NoSplitParalogs_I90',\n",
    "                         'Roary_NoSplitParalogs',  'Roary_Default',\n",
    "                         \"Ppanggolin_I0.80C0.60\",\n",
    "                         \"Ppanggolin_I0.80C0.80\",\n",
    "                         \"Ppanggolin_I0.80C0.90\",\n",
    "                         \"Ppanggolin_I0.90C0.60\",\n",
    "                         \"Ppanggolin_I0.90C0.80\",\n",
    "                         \"Ppanggolin_I0.90C0.90\",\n",
    "                         \"Ppanggolin_I0.98C0.60\",\n",
    "                         \"Ppanggolin_I0.98C0.80\",\n",
    "                         \"Ppanggolin_I0.98C0.90\",\n",
    "                         'Pangene_0.9.Miniprot0.95',\n",
    "                         'Pangene_0.9.Miniprot0.98',\n",
    "                         'Pangene_0.9.Miniprot0.99',\n",
    "                         'Pangene_0.9.Miniprot0.9',\n",
    "                         'Pangene_0.95.Miniprot0.95',\n",
    "                         'Pangene_0.95.Miniprot0.98',\n",
    "                         'Pangene_0.95.Miniprot0.99',\n",
    "                         'Pangene_0.95.Miniprot0.9',\n",
    "                         'Pangene_0.98.Miniprot0.95',\n",
    "                         'Pangene_0.98.Miniprot0.98',\n",
    "                         'Pangene_0.98.Miniprot0.99',\n",
    "                         'Pangene_0.98.Miniprot0.9',]\n",
    "\n",
    "\n",
    "PGCombos_TickLabels = [\n",
    "    'Panaroo \\n (Strict & MergeParalogs)', 'Panaroo \\n (Moderate & MergeParalogs)',\n",
    "    'Panaroo \\n (Sensitive & MergeParalogs)', 'Panaroo \\n (Strict)',\n",
    "    'Panaroo \\n (Moderate)', 'Panaroo \\n (Sensitive)',\n",
    "    'Roary \\n (MergeParalogs & I80)', 'Roary \\n (MergeParalogs & I90)',\n",
    "    'Roary \\n (MergeParalogs)', 'Roary \\n (Default)',\n",
    "    'Ppanggolin (I0.80-C0.60)', 'Ppanggolin (I0.80-C0.80)',\n",
    "    'Ppanggolin (I0.80-C0.90)', 'Ppanggolin (I0.90-C0.60)',\n",
    "    'Ppanggolin (I0.90-C0.80)', 'Ppanggolin (I0.90-C0.90)',\n",
    "    'Ppanggolin (I0.98-C0.60)', 'Ppanggolin (I0.98-C0.80)',\n",
    "    'Ppanggolin (I0.98-C0.90)', 'Pangene \\n (C0.9-M0.95)',\n",
    "    'Pangene \\n (C0.9-M0.98)', 'Pangene \\n (C0.9-M0.99)',\n",
    "    'Pangene \\n (C0.9-M0.9)', 'Pangene \\n (C0.95-M0.95)',\n",
    "    'Pangene \\n (C0.95-M0.98)', 'Pangene \\n (C0.95-M0.99)',\n",
    "    'Pangene \\n (C0.95-M0.9)', 'Pangene \\n (C0.98-M0.95)',\n",
    "    'Pangene \\n (C0.98-M0.98)', 'Pangene \\n (C0.98-M0.99)',\n",
    "    'Pangene \\n (C0.98-M0.9)'\n",
    "]\n",
    "\n",
    "\n",
    "PGCombos_dictOfValues_To_Label = {}  \n",
    "\n",
    "for i in range(len(PipeName_WiParam_List)):\n",
    "        \n",
    "    PGCombos_dictOfValues_To_Label[PipeName_WiParam_List[i]]   =   PGCombos_TickLabels[i]\n",
    "    \n",
    "PGCombos_dictOfValues_To_Label"
   ]
  },
  {
   "cell_type": "code",
   "execution_count": null,
   "id": "4a0e43b0-9f88-4aac-96a0-54465123d475",
   "metadata": {},
   "outputs": [],
   "source": []
  },
  {
   "cell_type": "markdown",
   "id": "31ee08f9-365f-4ba6-ba61-9c33b79519bf",
   "metadata": {},
   "source": [
    "# 2) Create Pan-genome summary table - Wide version \n",
    "\n",
    "This table will have pangenome predictions (Total, Core, and Accessory genes) across all methods + technologies."
   ]
  },
  {
   "cell_type": "markdown",
   "id": "bb6ce6c8-21f1-420a-b73e-b6b86930f8c7",
   "metadata": {},
   "source": [
    "### Pivot table to get summary per Method and Seqtype"
   ]
  },
  {
   "cell_type": "code",
   "execution_count": null,
   "id": "3f019630-64cd-480b-a222-e76e7791e197",
   "metadata": {},
   "outputs": [],
   "source": [
    "PG_Merged_Stats_LRandSR_DF.head(2)"
   ]
  },
  {
   "cell_type": "code",
   "execution_count": null,
   "id": "2ab115e0-a8a2-4823-ba13-10be707b99a2",
   "metadata": {},
   "outputs": [],
   "source": [
    "df = PG_Merged_Stats_LRandSR_DF\n",
    "# Reshape the DataFrame\n",
    "# Pivot the data to have separate columns for Total_Genes, Core_Genes, and Accessory_Genes\n",
    "reshaped_df = df.pivot_table(\n",
    "    index=['Method', 'SeqType', 'DataSet', 'Annotation', 'PangenomeTool'], \n",
    "    columns='Category', \n",
    "    values='GeneCount'\n",
    ").reset_index()\n",
    "\n",
    "# Merge the reshaped data with the original DataFrame to include other statistics\n",
    "stats_columns = ['Method', 'SeqType', 'DataSet', 'Annotation', 'PangenomeTool', ]\n",
    "                 #'N_Gain_Ancs', 'N_Loss_Ancs', 'N_Gain_Tips', 'N_Loss_Tips']\n",
    "stats_df = df[stats_columns].drop_duplicates()\n",
    "\n",
    "# Merge reshaped data with stats\n",
    "final_df = reshaped_df.merge(stats_df, on=['Method', 'SeqType', 'DataSet', 'Annotation', 'PangenomeTool'])\n",
    "\n",
    "final_df = final_df.sort_values(\"Method\",\n",
    "                                key=lambda x: pd.Categorical(x, categories=PipeName_WiParam_List, ordered=True))\n",
    "\n",
    "final_df[\"Method_V2\"] = final_df[\"Method\"].replace(PGCombos_dictOfValues_To_Label)\n",
    "\n",
    "#final_df[\"N_Events_Ancs\"] = final_df[\"N_Gain_Ancs\"] + final_df[\"N_Loss_Ancs\"]\n",
    "#final_df[\"N_Events_Tips\"] = final_df[\"N_Gain_Tips\"] + final_df[\"N_Loss_Tips\"]\n",
    "\n",
    "PG_WideSumm_V2_DF = final_df\n",
    "PG_WideSumm_DF = PG_WideSumm_V2_DF"
   ]
  },
  {
   "cell_type": "code",
   "execution_count": null,
   "id": "7d7f6068-9f10-427f-b426-a1b434496d0b",
   "metadata": {},
   "outputs": [],
   "source": [
    "PG_WideSumm_DF.columns"
   ]
  },
  {
   "cell_type": "code",
   "execution_count": null,
   "id": "1597b851-967c-4e13-b031-6259cbe79ae7",
   "metadata": {},
   "outputs": [],
   "source": [
    "PG_WideSumm_DF.query(\"SeqType == 'LongRead'\")   "
   ]
  },
  {
   "cell_type": "code",
   "execution_count": null,
   "id": "f0b008ad-0e84-4238-a342-62f2147fd81d",
   "metadata": {},
   "outputs": [],
   "source": [
    "PG_WideSumm_DF.query(\"SeqType == 'ShortRead'\")    "
   ]
  },
  {
   "cell_type": "code",
   "execution_count": null,
   "id": "860d0b64-6ff1-4673-885a-3189666252ae",
   "metadata": {},
   "outputs": [],
   "source": [
    "PG_WideSumm_DF"
   ]
  },
  {
   "cell_type": "code",
   "execution_count": null,
   "id": "7f19e997-61d9-48a6-9243-70bd28479762",
   "metadata": {},
   "outputs": [],
   "source": []
  },
  {
   "cell_type": "code",
   "execution_count": null,
   "id": "581cb284-e3f8-40bf-8608-5aa26cdbb1a3",
   "metadata": {},
   "outputs": [],
   "source": []
  },
  {
   "cell_type": "markdown",
   "id": "54b0c435-b783-468f-a458-6ceacd389cef",
   "metadata": {},
   "source": [
    "# Plotting key figures (For SR vs LR - Bakta + 3 pipelines)"
   ]
  },
  {
   "cell_type": "markdown",
   "id": "4a191c16-0f03-4752-87d5-d34530048ecb",
   "metadata": {},
   "source": [
    "# Table 1) Pan-genome predictions - LR vs SR - 3 pipelines"
   ]
  },
  {
   "cell_type": "code",
   "execution_count": null,
   "id": "8b3974c1-cfc1-45de-9e79-d038ded5a2b8",
   "metadata": {},
   "outputs": [],
   "source": [
    "PG_WideSumm_DF.head(1)"
   ]
  },
  {
   "cell_type": "code",
   "execution_count": null,
   "id": "2d322a7b-56c3-49ee-a8b3-e0929369aec0",
   "metadata": {},
   "outputs": [],
   "source": [
    "#print(PG_WideSumm_DF.to_latex())"
   ]
  },
  {
   "cell_type": "code",
   "execution_count": 18,
   "id": "0c635203-1e91-4c09-90c2-bae1e97267f9",
   "metadata": {},
   "outputs": [
    {
     "ename": "NameError",
     "evalue": "name 'PG_WideSumm_DF' is not defined",
     "output_type": "error",
     "traceback": [
      "\u001b[0;31m---------------------------------------------------------------------------\u001b[0m",
      "\u001b[0;31mNameError\u001b[0m                                 Traceback (most recent call last)",
      "\u001b[0;32m<ipython-input-18-b512e11a57ed>\u001b[0m in \u001b[0;36m<module>\u001b[0;34m\u001b[0m\n\u001b[0;32m----> 1\u001b[0;31m \u001b[0mPG_WideSumm_DF\u001b[0m \u001b[0;34m=\u001b[0m \u001b[0mPG_WideSumm_DF\u001b[0m\u001b[0;34m.\u001b[0m\u001b[0msort_values\u001b[0m\u001b[0;34m(\u001b[0m\u001b[0;34m[\u001b[0m\u001b[0;34m\"Method\"\u001b[0m\u001b[0;34m,\u001b[0m \u001b[0;34m\"SeqType\"\u001b[0m\u001b[0;34m]\u001b[0m\u001b[0;34m)\u001b[0m\u001b[0;34m\u001b[0m\u001b[0;34m\u001b[0m\u001b[0m\n\u001b[0m",
      "\u001b[0;31mNameError\u001b[0m: name 'PG_WideSumm_DF' is not defined"
     ]
    }
   ],
   "source": [
    "PG_WideSumm_DF = PG_WideSumm_DF.sort_values([\"Method\", \"SeqType\"])"
   ]
  },
  {
   "cell_type": "code",
   "execution_count": null,
   "id": "489df045-46f8-4b1d-8958-d9139d9b5a2e",
   "metadata": {},
   "outputs": [],
   "source": [
    "PG_WideSumm_DF"
   ]
  },
  {
   "cell_type": "code",
   "execution_count": 53,
   "id": "f1a83bc8-bfd8-4ae6-b480-a9d2329c3564",
   "metadata": {},
   "outputs": [],
   "source": [
    "PG_WideSumm_DF[\"Weight\"] = PG_WideSumm_DF.groupby(\"Method\")[\"Accessory genes\"].transform('sum') / 2"
   ]
  },
  {
   "cell_type": "code",
   "execution_count": 54,
   "id": "9fd47ae4-19bc-4f7a-946f-ca7395e92e98",
   "metadata": {},
   "outputs": [],
   "source": [
    "#PG_WideSumm_DF"
   ]
  },
  {
   "cell_type": "code",
   "execution_count": 55,
   "id": "93603772-9a8d-4c52-b02d-ff66d8951cf1",
   "metadata": {},
   "outputs": [
    {
     "data": {
      "text/plain": [
       "(62, 9)"
      ]
     },
     "execution_count": 55,
     "metadata": {},
     "output_type": "execute_result"
    }
   ],
   "source": [
    "PG_WideSumm_V2_DF.shape"
   ]
  },
  {
   "cell_type": "code",
   "execution_count": 56,
   "id": "91962d4f-9791-4cb0-93e4-1fa838fb9999",
   "metadata": {},
   "outputs": [],
   "source": [
    "PG_WideSumm_V2_DF.to_csv(\"PG_Merged_Stats_LRandSR_DF.pivot.V2.csv\", index=False)"
   ]
  },
  {
   "cell_type": "code",
   "execution_count": null,
   "id": "f2be94ff-bcfc-4910-b5d9-56e63a172e57",
   "metadata": {},
   "outputs": [],
   "source": []
  },
  {
   "cell_type": "code",
   "execution_count": 57,
   "id": "92e913e6-9f87-4d17-b19c-6a193005ca15",
   "metadata": {},
   "outputs": [],
   "source": [
    "\n",
    "NewColOrder = ['PangenomeTool', 'SeqType', 'Annotation', 'Method', 'Total genes',  'Core genes', 'Accessory genes',  ]\n",
    "\n",
    "PG_WideSumm_V2_DF_Trim = PG_WideSumm_V2_DF[NewColOrder].reset_index(drop=True)"
   ]
  },
  {
   "cell_type": "code",
   "execution_count": null,
   "id": "d30408fb-d683-4876-82ca-6dd59e53fc5e",
   "metadata": {},
   "outputs": [],
   "source": []
  },
  {
   "cell_type": "code",
   "execution_count": 58,
   "id": "39e924b0-8362-4497-81eb-d0a6a1449372",
   "metadata": {},
   "outputs": [
    {
     "data": {
      "text/html": [
       "<div>\n",
       "<style scoped>\n",
       "    .dataframe tbody tr th:only-of-type {\n",
       "        vertical-align: middle;\n",
       "    }\n",
       "\n",
       "    .dataframe tbody tr th {\n",
       "        vertical-align: top;\n",
       "    }\n",
       "\n",
       "    .dataframe thead th {\n",
       "        text-align: right;\n",
       "    }\n",
       "</style>\n",
       "<table border=\"1\" class=\"dataframe\">\n",
       "  <thead>\n",
       "    <tr style=\"text-align: right;\">\n",
       "      <th></th>\n",
       "      <th></th>\n",
       "      <th></th>\n",
       "      <th>Accessory genes</th>\n",
       "      <th>Core genes</th>\n",
       "      <th>Total genes</th>\n",
       "    </tr>\n",
       "    <tr>\n",
       "      <th>SeqType</th>\n",
       "      <th>Annotation</th>\n",
       "      <th>PangenomeTool</th>\n",
       "      <th></th>\n",
       "      <th></th>\n",
       "      <th></th>\n",
       "    </tr>\n",
       "  </thead>\n",
       "  <tbody>\n",
       "    <tr>\n",
       "      <th rowspan=\"4\" valign=\"top\">LongRead</th>\n",
       "      <th rowspan=\"4\" valign=\"top\">Bakta</th>\n",
       "      <th>Panaroo</th>\n",
       "      <td>2183.0</td>\n",
       "      <td>2144.0</td>\n",
       "      <td>4327.0</td>\n",
       "    </tr>\n",
       "    <tr>\n",
       "      <th>Pangene</th>\n",
       "      <td>1802.0</td>\n",
       "      <td>2261.0</td>\n",
       "      <td>4064.5</td>\n",
       "    </tr>\n",
       "    <tr>\n",
       "      <th>Ppanggolin</th>\n",
       "      <td>2553.0</td>\n",
       "      <td>2189.0</td>\n",
       "      <td>4742.0</td>\n",
       "    </tr>\n",
       "    <tr>\n",
       "      <th>Roary</th>\n",
       "      <td>2645.0</td>\n",
       "      <td>2050.0</td>\n",
       "      <td>4695.0</td>\n",
       "    </tr>\n",
       "    <tr>\n",
       "      <th rowspan=\"4\" valign=\"top\">ShortRead</th>\n",
       "      <th rowspan=\"4\" valign=\"top\">Bakta</th>\n",
       "      <th>Panaroo</th>\n",
       "      <td>2109.5</td>\n",
       "      <td>1780.0</td>\n",
       "      <td>3890.0</td>\n",
       "    </tr>\n",
       "    <tr>\n",
       "      <th>Pangene</th>\n",
       "      <td>1781.0</td>\n",
       "      <td>2230.5</td>\n",
       "      <td>4007.5</td>\n",
       "    </tr>\n",
       "    <tr>\n",
       "      <th>Ppanggolin</th>\n",
       "      <td>2566.0</td>\n",
       "      <td>2186.0</td>\n",
       "      <td>4752.0</td>\n",
       "    </tr>\n",
       "    <tr>\n",
       "      <th>Roary</th>\n",
       "      <td>2992.5</td>\n",
       "      <td>1682.0</td>\n",
       "      <td>4674.5</td>\n",
       "    </tr>\n",
       "  </tbody>\n",
       "</table>\n",
       "</div>"
      ],
      "text/plain": [
       "                                    Accessory genes  Core genes  Total genes\n",
       "SeqType   Annotation PangenomeTool                                          \n",
       "LongRead  Bakta      Panaroo                 2183.0      2144.0       4327.0\n",
       "                     Pangene                 1802.0      2261.0       4064.5\n",
       "                     Ppanggolin              2553.0      2189.0       4742.0\n",
       "                     Roary                   2645.0      2050.0       4695.0\n",
       "ShortRead Bakta      Panaroo                 2109.5      1780.0       3890.0\n",
       "                     Pangene                 1781.0      2230.5       4007.5\n",
       "                     Ppanggolin              2566.0      2186.0       4752.0\n",
       "                     Roary                   2992.5      1682.0       4674.5"
      ]
     },
     "execution_count": 58,
     "metadata": {},
     "output_type": "execute_result"
    }
   ],
   "source": [
    "PG_WideSumm_V2_DF.groupby([\"SeqType\", \"Annotation\", \"PangenomeTool\"]).median()"
   ]
  },
  {
   "cell_type": "code",
   "execution_count": null,
   "id": "dac01471-b485-4c9b-b83b-b8b535761fcd",
   "metadata": {},
   "outputs": [],
   "source": []
  },
  {
   "cell_type": "code",
   "execution_count": 59,
   "id": "8bf030f2-0146-4aeb-ad10-5d36d5df21b2",
   "metadata": {},
   "outputs": [
    {
     "data": {
      "text/plain": [
       "Index(['Method', 'SeqType', 'DataSet', 'Annotation', 'PangenomeTool', 'Accessory genes', 'Core genes', 'Total genes', 'Method_V2'], dtype='object')"
      ]
     },
     "execution_count": 59,
     "metadata": {},
     "output_type": "execute_result"
    }
   ],
   "source": [
    "PG_WideSumm_V2_DF.columns"
   ]
  },
  {
   "cell_type": "code",
   "execution_count": null,
   "id": "60f5a6e3-0f52-47fd-8646-1cf2e88b91d5",
   "metadata": {},
   "outputs": [],
   "source": []
  },
  {
   "cell_type": "code",
   "execution_count": 60,
   "id": "e378ebea-8f8f-4106-8bb8-f5aafa25996b",
   "metadata": {},
   "outputs": [
    {
     "data": {
      "text/html": [
       "<div>\n",
       "<style scoped>\n",
       "    .dataframe tbody tr th:only-of-type {\n",
       "        vertical-align: middle;\n",
       "    }\n",
       "\n",
       "    .dataframe tbody tr th {\n",
       "        vertical-align: top;\n",
       "    }\n",
       "\n",
       "    .dataframe thead th {\n",
       "        text-align: right;\n",
       "    }\n",
       "</style>\n",
       "<table border=\"1\" class=\"dataframe\">\n",
       "  <thead>\n",
       "    <tr style=\"text-align: right;\">\n",
       "      <th></th>\n",
       "      <th>count</th>\n",
       "      <th>mean</th>\n",
       "      <th>std</th>\n",
       "      <th>min</th>\n",
       "      <th>25%</th>\n",
       "      <th>50%</th>\n",
       "      <th>75%</th>\n",
       "      <th>max</th>\n",
       "    </tr>\n",
       "    <tr>\n",
       "      <th>SeqType</th>\n",
       "      <th></th>\n",
       "      <th></th>\n",
       "      <th></th>\n",
       "      <th></th>\n",
       "      <th></th>\n",
       "      <th></th>\n",
       "      <th></th>\n",
       "      <th></th>\n",
       "    </tr>\n",
       "  </thead>\n",
       "  <tbody>\n",
       "    <tr>\n",
       "      <th>LongRead</th>\n",
       "      <td>31.0</td>\n",
       "      <td>4661.677419</td>\n",
       "      <td>1084.939089</td>\n",
       "      <td>3999.0</td>\n",
       "      <td>4077.5</td>\n",
       "      <td>4204.0</td>\n",
       "      <td>4602.5</td>\n",
       "      <td>7767.0</td>\n",
       "    </tr>\n",
       "    <tr>\n",
       "      <th>ShortRead</th>\n",
       "      <td>31.0</td>\n",
       "      <td>4557.322581</td>\n",
       "      <td>1088.556610</td>\n",
       "      <td>3791.0</td>\n",
       "      <td>3992.0</td>\n",
       "      <td>4039.0</td>\n",
       "      <td>4557.0</td>\n",
       "      <td>7689.0</td>\n",
       "    </tr>\n",
       "  </tbody>\n",
       "</table>\n",
       "</div>"
      ],
      "text/plain": [
       "           count         mean          std     min     25%     50%     75%     max\n",
       "SeqType                                                                           \n",
       "LongRead    31.0  4661.677419  1084.939089  3999.0  4077.5  4204.0  4602.5  7767.0\n",
       "ShortRead   31.0  4557.322581  1088.556610  3791.0  3992.0  4039.0  4557.0  7689.0"
      ]
     },
     "execution_count": 60,
     "metadata": {},
     "output_type": "execute_result"
    }
   ],
   "source": [
    "PG_WideSumm_DF.groupby(\"SeqType\")[\"Total genes\"].describe()"
   ]
  },
  {
   "cell_type": "code",
   "execution_count": 61,
   "id": "7632f308-3933-4452-aacd-b491e9012ce5",
   "metadata": {},
   "outputs": [
    {
     "data": {
      "text/html": [
       "<div>\n",
       "<style scoped>\n",
       "    .dataframe tbody tr th:only-of-type {\n",
       "        vertical-align: middle;\n",
       "    }\n",
       "\n",
       "    .dataframe tbody tr th {\n",
       "        vertical-align: top;\n",
       "    }\n",
       "\n",
       "    .dataframe thead th {\n",
       "        text-align: right;\n",
       "    }\n",
       "</style>\n",
       "<table border=\"1\" class=\"dataframe\">\n",
       "  <thead>\n",
       "    <tr style=\"text-align: right;\">\n",
       "      <th></th>\n",
       "      <th>Method</th>\n",
       "      <th>SeqType</th>\n",
       "      <th>DataSet</th>\n",
       "      <th>Annotation</th>\n",
       "      <th>PangenomeTool</th>\n",
       "      <th>Accessory genes</th>\n",
       "      <th>Core genes</th>\n",
       "      <th>Total genes</th>\n",
       "      <th>Method_V2</th>\n",
       "      <th>Weight</th>\n",
       "    </tr>\n",
       "  </thead>\n",
       "  <tbody>\n",
       "    <tr>\n",
       "      <th>0</th>\n",
       "      <td>Panaroo_Moderate</td>\n",
       "      <td>LongRead</td>\n",
       "      <td>All</td>\n",
       "      <td>Bakta</td>\n",
       "      <td>Panaroo</td>\n",
       "      <td>2301</td>\n",
       "      <td>2144</td>\n",
       "      <td>4445</td>\n",
       "      <td>Panaroo \\n (Moderate)</td>\n",
       "      <td>2213.0</td>\n",
       "    </tr>\n",
       "    <tr>\n",
       "      <th>1</th>\n",
       "      <td>Panaroo_Moderate</td>\n",
       "      <td>ShortRead</td>\n",
       "      <td>All</td>\n",
       "      <td>Bakta</td>\n",
       "      <td>Panaroo</td>\n",
       "      <td>2125</td>\n",
       "      <td>1780</td>\n",
       "      <td>3905</td>\n",
       "      <td>Panaroo \\n (Moderate)</td>\n",
       "      <td>2213.0</td>\n",
       "    </tr>\n",
       "    <tr>\n",
       "      <th>2</th>\n",
       "      <td>Panaroo_Moderate_MergeParalogs</td>\n",
       "      <td>LongRead</td>\n",
       "      <td>All</td>\n",
       "      <td>Bakta</td>\n",
       "      <td>Panaroo</td>\n",
       "      <td>1990</td>\n",
       "      <td>2145</td>\n",
       "      <td>4135</td>\n",
       "      <td>Panaroo \\n (Moderate &amp; MergeParalogs)</td>\n",
       "      <td>2042.0</td>\n",
       "    </tr>\n",
       "    <tr>\n",
       "      <th>3</th>\n",
       "      <td>Panaroo_Moderate_MergeParalogs</td>\n",
       "      <td>ShortRead</td>\n",
       "      <td>All</td>\n",
       "      <td>Bakta</td>\n",
       "      <td>Panaroo</td>\n",
       "      <td>2094</td>\n",
       "      <td>1781</td>\n",
       "      <td>3875</td>\n",
       "      <td>Panaroo \\n (Moderate &amp; MergeParalogs)</td>\n",
       "      <td>2042.0</td>\n",
       "    </tr>\n",
       "  </tbody>\n",
       "</table>\n",
       "</div>"
      ],
      "text/plain": [
       "                           Method    SeqType DataSet Annotation PangenomeTool  Accessory genes  Core genes  Total genes                              Method_V2  Weight\n",
       "0                Panaroo_Moderate   LongRead     All      Bakta       Panaroo             2301        2144         4445                  Panaroo \\n (Moderate)  2213.0\n",
       "1                Panaroo_Moderate  ShortRead     All      Bakta       Panaroo             2125        1780         3905                  Panaroo \\n (Moderate)  2213.0\n",
       "2  Panaroo_Moderate_MergeParalogs   LongRead     All      Bakta       Panaroo             1990        2145         4135  Panaroo \\n (Moderate & MergeParalogs)  2042.0\n",
       "3  Panaroo_Moderate_MergeParalogs  ShortRead     All      Bakta       Panaroo             2094        1781         3875  Panaroo \\n (Moderate & MergeParalogs)  2042.0"
      ]
     },
     "execution_count": 61,
     "metadata": {},
     "output_type": "execute_result"
    }
   ],
   "source": [
    "PG_WideSumm_DF.head(4)"
   ]
  },
  {
   "cell_type": "code",
   "execution_count": null,
   "id": "4680e659-843a-4b89-a45b-d42236a16cc3",
   "metadata": {},
   "outputs": [],
   "source": []
  },
  {
   "cell_type": "code",
   "execution_count": null,
   "id": "8e0841bd-b932-4473-b2a0-fa40f9514f45",
   "metadata": {},
   "outputs": [],
   "source": []
  },
  {
   "cell_type": "code",
   "execution_count": null,
   "id": "a400c1c0-477b-48c6-b556-a760b49bea07",
   "metadata": {},
   "outputs": [],
   "source": []
  },
  {
   "cell_type": "code",
   "execution_count": null,
   "id": "100e6557-81bb-46de-bd6e-0a44cb6918c7",
   "metadata": {},
   "outputs": [],
   "source": []
  },
  {
   "cell_type": "code",
   "execution_count": 62,
   "id": "b6051a3a-5c1d-4773-ad16-b81da9d34951",
   "metadata": {},
   "outputs": [],
   "source": [
    "#PG_WideSumm_DF.to_csv(\"PG.LRvsSR.BaktaAnno.tsv\", sep=\"\\t\", index= False)  "
   ]
  },
  {
   "cell_type": "code",
   "execution_count": null,
   "id": "831affa3-3045-4e2d-9e5d-21bdc539f526",
   "metadata": {},
   "outputs": [],
   "source": []
  },
  {
   "cell_type": "code",
   "execution_count": 63,
   "id": "849476e2-1aaa-443d-8510-ecebd72af0db",
   "metadata": {},
   "outputs": [],
   "source": [
    "#PG_Merged_Stats_LRandSR_DF.to_csv(\"PG.LRvsSR.BaktaAnno.MergedStats.tsv\", sep=\"\\t\", index= False)  "
   ]
  },
  {
   "cell_type": "code",
   "execution_count": 64,
   "id": "3143a4c4-3e67-4a1d-91eb-63b6ed3b6ca6",
   "metadata": {},
   "outputs": [],
   "source": [
    "#PG_Merged_Stats_LRandSR_DF.columns   "
   ]
  },
  {
   "cell_type": "code",
   "execution_count": 65,
   "id": "7bf1fafb-beb0-4179-9d99-c28b347a682b",
   "metadata": {},
   "outputs": [
    {
     "data": {
      "text/html": [
       "<div>\n",
       "<style scoped>\n",
       "    .dataframe tbody tr th:only-of-type {\n",
       "        vertical-align: middle;\n",
       "    }\n",
       "\n",
       "    .dataframe tbody tr th {\n",
       "        vertical-align: top;\n",
       "    }\n",
       "\n",
       "    .dataframe thead th {\n",
       "        text-align: right;\n",
       "    }\n",
       "</style>\n",
       "<table border=\"1\" class=\"dataframe\">\n",
       "  <thead>\n",
       "    <tr style=\"text-align: right;\">\n",
       "      <th></th>\n",
       "      <th>Category</th>\n",
       "      <th>Range</th>\n",
       "      <th>GeneCount</th>\n",
       "      <th>Annotation</th>\n",
       "      <th>Method</th>\n",
       "      <th>SeqType</th>\n",
       "      <th>DataSet</th>\n",
       "      <th>MethodAndTech</th>\n",
       "      <th>MethodAndTechAndAnno</th>\n",
       "      <th>AnnoAndTech</th>\n",
       "      <th>PangenomeTool</th>\n",
       "    </tr>\n",
       "  </thead>\n",
       "  <tbody>\n",
       "    <tr>\n",
       "      <th>4</th>\n",
       "      <td>Total genes</td>\n",
       "      <td>(0% &lt;= strains &lt;= 100%)</td>\n",
       "      <td>4100</td>\n",
       "      <td>Bakta</td>\n",
       "      <td>Panaroo_Strict_MergeParalogs</td>\n",
       "      <td>LongRead</td>\n",
       "      <td>All</td>\n",
       "      <td>Panaroo_Strict_MergeParalogs_LongRead</td>\n",
       "      <td>Panaroo_Strict_MergeParalogs_LongRead_Bakta</td>\n",
       "      <td>Bakta-LongRead</td>\n",
       "      <td>Panaroo</td>\n",
       "    </tr>\n",
       "    <tr>\n",
       "      <th>0</th>\n",
       "      <td>Core genes</td>\n",
       "      <td>(99% &lt;= strains &lt;= 100%)</td>\n",
       "      <td>2144</td>\n",
       "      <td>Bakta</td>\n",
       "      <td>Panaroo_Strict_MergeParalogs</td>\n",
       "      <td>LongRead</td>\n",
       "      <td>All</td>\n",
       "      <td>Panaroo_Strict_MergeParalogs_LongRead</td>\n",
       "      <td>Panaroo_Strict_MergeParalogs_LongRead_Bakta</td>\n",
       "      <td>Bakta-LongRead</td>\n",
       "      <td>Panaroo</td>\n",
       "    </tr>\n",
       "  </tbody>\n",
       "</table>\n",
       "</div>"
      ],
      "text/plain": [
       "      Category                     Range  GeneCount Annotation                        Method   SeqType DataSet                          MethodAndTech                         MethodAndTechAndAnno     AnnoAndTech PangenomeTool\n",
       "4  Total genes   (0% <= strains <= 100%)       4100      Bakta  Panaroo_Strict_MergeParalogs  LongRead     All  Panaroo_Strict_MergeParalogs_LongRead  Panaroo_Strict_MergeParalogs_LongRead_Bakta  Bakta-LongRead       Panaroo\n",
       "0   Core genes  (99% <= strains <= 100%)       2144      Bakta  Panaroo_Strict_MergeParalogs  LongRead     All  Panaroo_Strict_MergeParalogs_LongRead  Panaroo_Strict_MergeParalogs_LongRead_Bakta  Bakta-LongRead       Panaroo"
      ]
     },
     "execution_count": 65,
     "metadata": {},
     "output_type": "execute_result"
    }
   ],
   "source": [
    "PG_Merged_Stats_LRandSR_DF.head(2)  "
   ]
  },
  {
   "cell_type": "code",
   "execution_count": null,
   "id": "a8130a31-039c-4421-8d8f-2374814bc379",
   "metadata": {},
   "outputs": [],
   "source": []
  },
  {
   "cell_type": "code",
   "execution_count": 66,
   "id": "bf87999f-048c-445a-aa8d-43cdfef0e63b",
   "metadata": {},
   "outputs": [],
   "source": [
    "import matplotlib.patches as mpatches\n"
   ]
  },
  {
   "cell_type": "code",
   "execution_count": 67,
   "id": "8da90a95-9b71-40f9-8c53-8c710169d03c",
   "metadata": {},
   "outputs": [
    {
     "data": {
      "text/plain": [
       "Pangene       24\n",
       "Ppanggolin    18\n",
       "Panaroo       12\n",
       "Roary          8\n",
       "Name: PangenomeTool, dtype: int64"
      ]
     },
     "execution_count": 67,
     "metadata": {},
     "output_type": "execute_result"
    }
   ],
   "source": [
    "PG_Merged_Stats_LRandSR_Acc_DF[\"PangenomeTool\"].value_counts()  "
   ]
  },
  {
   "cell_type": "code",
   "execution_count": 68,
   "id": "3760ba8f-2b3e-4b1e-a4a0-90ee52457d5f",
   "metadata": {},
   "outputs": [],
   "source": [
    "Tools_hue_Color_Dict = {\"Panaroo\": \"#1f77b4\",\n",
    "                        \"Roary\": \"#ff7f0e\",\n",
    "                        \"Ppanggolin\": \"#2ca02c\" ,\n",
    "                        \"Pangene\": \"red\" }\n",
    "\n",
    "Panaroo_patch = mpatches.Patch(color = Tools_hue_Color_Dict[\"Panaroo\"], label='Panaroo')\n",
    "Roary_patch = mpatches.Patch(color = Tools_hue_Color_Dict[\"Roary\"], label='Roary')\n",
    "Ppanggolin_patch = mpatches.Patch(color = Tools_hue_Color_Dict[\"Ppanggolin\"], label='Ppanggolin')\n",
    "Pangene_patch = mpatches.Patch(color = Tools_hue_Color_Dict[\"Pangene\"], label='Pangene')\n",
    "\n",
    "ToolPatches_List = [Panaroo_patch, Roary_patch, Ppanggolin_patch, Pangene_patch]\n"
   ]
  },
  {
   "cell_type": "code",
   "execution_count": null,
   "id": "43aab84f-07df-426a-a76d-59b1a9092bde",
   "metadata": {},
   "outputs": [],
   "source": []
  },
  {
   "cell_type": "code",
   "execution_count": null,
   "id": "181d2510-66ae-4f66-ad72-fc8286240355",
   "metadata": {},
   "outputs": [],
   "source": []
  },
  {
   "cell_type": "markdown",
   "id": "69bc73e8-1759-4c5f-99d8-e11671112c92",
   "metadata": {},
   "source": [
    "## Divide Pan-genome summary stats by \"assembly type\" and \"gene category\""
   ]
  },
  {
   "cell_type": "code",
   "execution_count": 69,
   "id": "b4897b9a-e7c4-4fc8-a6ec-77f2ca17d477",
   "metadata": {},
   "outputs": [],
   "source": [
    "PG_Merged_Stats_LRandSR_Pangenome_DF = PG_Merged_Stats_LRandSR_DF.query(\" Category == 'Total genes'  \")\n",
    "PG_Merged_Stats_LRandSR_Core_DF = PG_Merged_Stats_LRandSR_DF.query(\" Category == 'Core genes'  \")\n",
    "PG_Merged_Stats_LRandSR_Acc_DF = PG_Merged_Stats_LRandSR_DF.query(\" Category == 'Accessory genes'  \")"
   ]
  },
  {
   "cell_type": "code",
   "execution_count": 70,
   "id": "0b24abe6-7fd4-4487-bf4f-019b0b261aa7",
   "metadata": {},
   "outputs": [],
   "source": [
    "PG_Merged_Stats_LR_Pangenome_DF = PG_Merged_Stats_LRandSR_DF.query(\" Category == 'Total genes'  \").query(\" SeqType == 'LongRead'  \")\n",
    "PG_Merged_Stats_LR_Core_DF = PG_Merged_Stats_LRandSR_DF.query(\" Category == 'Core genes'  \").query(\" SeqType == 'LongRead'  \")\n",
    "PG_Merged_Stats_LR_Acc_DF = PG_Merged_Stats_LRandSR_DF.query(\" Category == 'Accessory genes'  \").query(\" SeqType == 'LongRead'  \")"
   ]
  },
  {
   "cell_type": "code",
   "execution_count": 71,
   "id": "cee7443a-caee-469c-95c1-ab10b1d4c588",
   "metadata": {},
   "outputs": [
    {
     "data": {
      "text/html": [
       "<div>\n",
       "<style scoped>\n",
       "    .dataframe tbody tr th:only-of-type {\n",
       "        vertical-align: middle;\n",
       "    }\n",
       "\n",
       "    .dataframe tbody tr th {\n",
       "        vertical-align: top;\n",
       "    }\n",
       "\n",
       "    .dataframe thead th {\n",
       "        text-align: right;\n",
       "    }\n",
       "</style>\n",
       "<table border=\"1\" class=\"dataframe\">\n",
       "  <thead>\n",
       "    <tr style=\"text-align: right;\">\n",
       "      <th></th>\n",
       "      <th>Category</th>\n",
       "      <th>Range</th>\n",
       "      <th>GeneCount</th>\n",
       "      <th>Annotation</th>\n",
       "      <th>Method</th>\n",
       "      <th>SeqType</th>\n",
       "      <th>DataSet</th>\n",
       "      <th>MethodAndTech</th>\n",
       "      <th>MethodAndTechAndAnno</th>\n",
       "      <th>AnnoAndTech</th>\n",
       "      <th>PangenomeTool</th>\n",
       "    </tr>\n",
       "  </thead>\n",
       "  <tbody>\n",
       "    <tr>\n",
       "      <th>5</th>\n",
       "      <td>Accessory genes</td>\n",
       "      <td>(0% &lt;= strains &lt; 99%)</td>\n",
       "      <td>1956</td>\n",
       "      <td>Bakta</td>\n",
       "      <td>Panaroo_Strict_MergeParalogs</td>\n",
       "      <td>LongRead</td>\n",
       "      <td>All</td>\n",
       "      <td>Panaroo_Strict_MergeParalogs_LongRead</td>\n",
       "      <td>Panaroo_Strict_MergeParalogs_LongRead_Bakta</td>\n",
       "      <td>Bakta-LongRead</td>\n",
       "      <td>Panaroo</td>\n",
       "    </tr>\n",
       "    <tr>\n",
       "      <th>5</th>\n",
       "      <td>Accessory genes</td>\n",
       "      <td>(0% &lt;= strains &lt; 99%)</td>\n",
       "      <td>1990</td>\n",
       "      <td>Bakta</td>\n",
       "      <td>Panaroo_Moderate_MergeParalogs</td>\n",
       "      <td>LongRead</td>\n",
       "      <td>All</td>\n",
       "      <td>Panaroo_Moderate_MergeParalogs_LongRead</td>\n",
       "      <td>Panaroo_Moderate_MergeParalogs_LongRead_Bakta</td>\n",
       "      <td>Bakta-LongRead</td>\n",
       "      <td>Panaroo</td>\n",
       "    </tr>\n",
       "    <tr>\n",
       "      <th>5</th>\n",
       "      <td>Accessory genes</td>\n",
       "      <td>(0% &lt;= strains &lt; 99%)</td>\n",
       "      <td>2100</td>\n",
       "      <td>Bakta</td>\n",
       "      <td>Panaroo_Sensitive_MergeParalogs</td>\n",
       "      <td>LongRead</td>\n",
       "      <td>All</td>\n",
       "      <td>Panaroo_Sensitive_MergeParalogs_LongRead</td>\n",
       "      <td>Panaroo_Sensitive_MergeParalogs_LongRead_Bakta</td>\n",
       "      <td>Bakta-LongRead</td>\n",
       "      <td>Panaroo</td>\n",
       "    </tr>\n",
       "    <tr>\n",
       "      <th>5</th>\n",
       "      <td>Accessory genes</td>\n",
       "      <td>(0% &lt;= strains &lt; 99%)</td>\n",
       "      <td>2266</td>\n",
       "      <td>Bakta</td>\n",
       "      <td>Panaroo_Strict</td>\n",
       "      <td>LongRead</td>\n",
       "      <td>All</td>\n",
       "      <td>Panaroo_Strict_LongRead</td>\n",
       "      <td>Panaroo_Strict_LongRead_Bakta</td>\n",
       "      <td>Bakta-LongRead</td>\n",
       "      <td>Panaroo</td>\n",
       "    </tr>\n",
       "    <tr>\n",
       "      <th>5</th>\n",
       "      <td>Accessory genes</td>\n",
       "      <td>(0% &lt;= strains &lt; 99%)</td>\n",
       "      <td>2301</td>\n",
       "      <td>Bakta</td>\n",
       "      <td>Panaroo_Moderate</td>\n",
       "      <td>LongRead</td>\n",
       "      <td>All</td>\n",
       "      <td>Panaroo_Moderate_LongRead</td>\n",
       "      <td>Panaroo_Moderate_LongRead_Bakta</td>\n",
       "      <td>Bakta-LongRead</td>\n",
       "      <td>Panaroo</td>\n",
       "    </tr>\n",
       "  </tbody>\n",
       "</table>\n",
       "</div>"
      ],
      "text/plain": [
       "          Category                  Range  GeneCount Annotation                           Method   SeqType DataSet                             MethodAndTech                            MethodAndTechAndAnno     AnnoAndTech PangenomeTool\n",
       "5  Accessory genes  (0% <= strains < 99%)       1956      Bakta     Panaroo_Strict_MergeParalogs  LongRead     All     Panaroo_Strict_MergeParalogs_LongRead     Panaroo_Strict_MergeParalogs_LongRead_Bakta  Bakta-LongRead       Panaroo\n",
       "5  Accessory genes  (0% <= strains < 99%)       1990      Bakta   Panaroo_Moderate_MergeParalogs  LongRead     All   Panaroo_Moderate_MergeParalogs_LongRead   Panaroo_Moderate_MergeParalogs_LongRead_Bakta  Bakta-LongRead       Panaroo\n",
       "5  Accessory genes  (0% <= strains < 99%)       2100      Bakta  Panaroo_Sensitive_MergeParalogs  LongRead     All  Panaroo_Sensitive_MergeParalogs_LongRead  Panaroo_Sensitive_MergeParalogs_LongRead_Bakta  Bakta-LongRead       Panaroo\n",
       "5  Accessory genes  (0% <= strains < 99%)       2266      Bakta                   Panaroo_Strict  LongRead     All                   Panaroo_Strict_LongRead                   Panaroo_Strict_LongRead_Bakta  Bakta-LongRead       Panaroo\n",
       "5  Accessory genes  (0% <= strains < 99%)       2301      Bakta                 Panaroo_Moderate  LongRead     All                 Panaroo_Moderate_LongRead                 Panaroo_Moderate_LongRead_Bakta  Bakta-LongRead       Panaroo"
      ]
     },
     "execution_count": 71,
     "metadata": {},
     "output_type": "execute_result"
    }
   ],
   "source": [
    "PG_Merged_Stats_LRandSR_Acc_DF.head(5)"
   ]
  },
  {
   "cell_type": "markdown",
   "id": "12556929-5a50-405b-8c05-41e0917b9774",
   "metadata": {},
   "source": [
    "# Viz Explore - V2"
   ]
  },
  {
   "cell_type": "code",
   "execution_count": 72,
   "id": "5a27d856-c775-4463-873a-f3a6d55f2cce",
   "metadata": {},
   "outputs": [],
   "source": [
    "#PG_Merged_Stats_LRandSR_Acc_DF.head(4)"
   ]
  },
  {
   "cell_type": "code",
   "execution_count": 73,
   "id": "7b189856-4786-451c-a358-68c0c5c1ad0a",
   "metadata": {},
   "outputs": [],
   "source": [
    "Tools_hue_Color_Dict = {\"Panaroo\": \"#1f77b4\",\n",
    "                        \"Roary\": \"#ff7f0e\",\n",
    "                        \"Ppanggolin\": \"#2ca02c\" ,\n",
    "                        \"Pangene\": \"red\" }\n",
    "\n",
    "Panaroo_patch = mpatches.Patch(color = Tools_hue_Color_Dict[\"Panaroo\"], label='Panaroo')\n",
    "Roary_patch = mpatches.Patch(color = Tools_hue_Color_Dict[\"Roary\"], label='Roary')\n",
    "Ppanggolin_patch = mpatches.Patch(color = Tools_hue_Color_Dict[\"Ppanggolin\"], label='Ppanggolin')\n",
    "Pangene_patch = mpatches.Patch(color = Tools_hue_Color_Dict[\"Pangene\"], label='Pangene')\n",
    "\n",
    "ToolPatches_List = [Panaroo_patch, Roary_patch, Ppanggolin_patch, Pangene_patch]\n",
    "\n",
    "\n",
    "\n",
    "hue_Order_Tools = [\"Panaroo\", \"Roary\", \"Ppanggolin\", \"Pangene\"]\n",
    "Order_AnnoAndType = ['Bakta-LongRead', 'PGAP-LongRead', 'Bakta-ShortRead', 'PGAP-ShortRead']\n"
   ]
  },
  {
   "cell_type": "code",
   "execution_count": 74,
   "id": "4be0141e-0487-45c5-b62a-759ab6c8048c",
   "metadata": {},
   "outputs": [
    {
     "data": {
      "image/png": "[encoded data removed]",
      "text/plain": [
       "<Figure size 1296x1008 with 2 Axes>"
      ]
     },
     "metadata": {
      "needs_background": "light"
     },
     "output_type": "display_data"
    }
   ],
   "source": [
    "# Set the context for the plot\n",
    "#sns.set_context(\"paper\", font_scale=1.5)\n",
    "sns.set_context(\"poster\")\n",
    "\n",
    "# Create a subplot\n",
    "fig, axs = plt.subplots(2, 1, figsize= (18, 14), sharey = False)\n",
    "\n",
    "\n",
    "sns.stripplot(y = \"GeneCount\", x = \"AnnoAndTech\", hue = \"PangenomeTool\",\n",
    "              data = PG_Merged_Stats_LRandSR_Acc_DF, linewidth=0, size = 8,\n",
    "              #order = Order_AnnoAndType,\n",
    "              palette = Tools_hue_Color_Dict, hue_order = hue_Order_Tools, \n",
    "              alpha=1, marker = \"o\", jitter = True, dodge = True, edgecolor='gray', ax= axs[0])\n",
    "\n",
    "# sns.boxplot(y = \"GeneCount\", x = \"AnnoAndTech\", hue = \"PangenomeTool\",\n",
    "#             data = PG_Merged_Stats_LRandSR_Acc_DF, fliersize=0,\n",
    "#             hue_order = hue_Order_Tools,\n",
    "#             #order = Order_AnnoAndType,\n",
    "#             ax= axs[0], boxprops=dict(alpha=0.4, linewidth=0),  )\n",
    "\n",
    "sns.stripplot(y = \"GeneCount\", x = \"AnnoAndTech\", hue = \"PangenomeTool\",\n",
    "              data = PG_Merged_Stats_LRandSR_Core_DF, linewidth=0, size = 8,\n",
    "              #order = Order_AnnoAndType,\n",
    "              palette = Tools_hue_Color_Dict, hue_order = hue_Order_Tools, \n",
    "              alpha=1, marker = \"o\", jitter = True, dodge = True, edgecolor='gray', ax= axs[1])\n",
    "\n",
    "# sns.boxplot(y = \"GeneCount\", x = \"AnnoAndTech\", hue = \"PangenomeTool\",\n",
    "#             data = PG_Merged_Stats_LRandSR_Core_DF, fliersize=0,\n",
    "#             hue_order = hue_Order_Tools, #order = Order_AnnoAndType,\n",
    "#             ax= axs[1], boxprops=dict(alpha=0.4, linewidth=0),  )\n",
    "\n",
    "axs[0].set_xlabel(\"\"), axs[1].set_xlabel(\"\")\n",
    "axs[0].set_ylabel(\"# estimated accessory genes\"), axs[1].set_ylabel(\"# estimated core genes\") \n",
    "\n",
    "axs[0].legend(title = \"Analysis Pipeline\",\n",
    "              handles=ToolPatches_List,\n",
    "              bbox_to_anchor=(1.25, 1))\n",
    "axs[1].get_legend().remove()\n",
    "\n",
    "sns.despine()\n",
    "\n",
    "plt.show()"
   ]
  },
  {
   "cell_type": "code",
   "execution_count": null,
   "id": "b19d1270-39f0-454b-91e9-a43719ff7e47",
   "metadata": {},
   "outputs": [],
   "source": []
  },
  {
   "cell_type": "code",
   "execution_count": null,
   "id": "0d7e6a8b-693a-4927-9b69-d759b4a2f235",
   "metadata": {},
   "outputs": [],
   "source": []
  },
  {
   "cell_type": "code",
   "execution_count": null,
   "id": "9e26fbee-ad9a-4b92-8565-5b935684fead",
   "metadata": {},
   "outputs": [],
   "source": []
  },
  {
   "cell_type": "code",
   "execution_count": null,
   "id": "a738a2a3-336e-4b00-a3f8-7451867951e5",
   "metadata": {},
   "outputs": [],
   "source": []
  },
  {
   "cell_type": "code",
   "execution_count": null,
   "id": "35553e00-ee6e-43d9-8250-3a74be35ca32",
   "metadata": {},
   "outputs": [],
   "source": []
  },
  {
   "cell_type": "code",
   "execution_count": 75,
   "id": "c75516e7-b930-4056-83c5-b3ca8edcdef7",
   "metadata": {},
   "outputs": [
    {
     "data": {
      "image/png": "[encoded data removed]",
      "text/plain": [
       "<Figure size 1296x1008 with 2 Axes>"
      ]
     },
     "metadata": {
      "needs_background": "light"
     },
     "output_type": "display_data"
    }
   ],
   "source": [
    "# Set the context for the plot\n",
    "#sns.set_context(\"paper\", font_scale=1.5)\n",
    "sns.set_context(\"poster\")\n",
    "\n",
    "# Create a subplot\n",
    "fig, axs = plt.subplots(2, 1, figsize= (18, 14), sharey = False)\n",
    "\n",
    "\n",
    "sns.stripplot(y = \"GeneCount\", x = \"AnnoAndTech\", hue = \"PangenomeTool\",\n",
    "              data = PG_Merged_Stats_LRandSR_Acc_DF, linewidth=0, size = 8,\n",
    "              #order = Order_AnnoAndType,\n",
    "              palette = Tools_hue_Color_Dict, hue_order = hue_Order_Tools, \n",
    "              alpha=1, marker = \"o\", jitter = True, dodge = True, edgecolor='gray', ax= axs[0])\n",
    "\n",
    "sns.boxplot(y = \"GeneCount\", x = \"AnnoAndTech\", hue = \"PangenomeTool\",\n",
    "            data = PG_Merged_Stats_LRandSR_Acc_DF, fliersize=0,\n",
    "            hue_order = hue_Order_Tools,\n",
    "            #order = Order_AnnoAndType,\n",
    "            ax= axs[0], boxprops=dict(alpha=0.4, linewidth=0),  )\n",
    "\n",
    "sns.stripplot(y = \"GeneCount\", x = \"AnnoAndTech\", hue = \"PangenomeTool\",\n",
    "              data = PG_Merged_Stats_LRandSR_Core_DF, linewidth=0, size = 8,\n",
    "              #order = Order_AnnoAndType,\n",
    "              palette = Tools_hue_Color_Dict, hue_order = hue_Order_Tools, \n",
    "              alpha=1, marker = \"o\", jitter = True, dodge = True, edgecolor='gray', ax= axs[1])\n",
    "\n",
    "sns.boxplot(y = \"GeneCount\", x = \"AnnoAndTech\", hue = \"PangenomeTool\",\n",
    "            data = PG_Merged_Stats_LRandSR_Core_DF, fliersize=0,\n",
    "            hue_order = hue_Order_Tools, #order = Order_AnnoAndType,\n",
    "            ax= axs[1], boxprops=dict(alpha=0.4, linewidth=0),  )\n",
    "\n",
    "axs[0].set_xlabel(\"\"), axs[1].set_xlabel(\"\")\n",
    "axs[0].set_ylabel(\"# estimated accessory genes\"), axs[1].set_ylabel(\"# estimated core genes\") \n",
    "\n",
    "axs[0].legend(title = \"Analysis Pipeline\",\n",
    "              handles=ToolPatches_List,\n",
    "              bbox_to_anchor=(1.25, 1))\n",
    "axs[1].get_legend().remove()\n",
    "\n",
    "axs[0].set_ylim(0, 6000)\n",
    "axs[1].set_ylim(0, 4000)\n",
    "\n",
    "sns.despine()\n",
    "\n",
    "plt.show()"
   ]
  },
  {
   "cell_type": "code",
   "execution_count": null,
   "id": "4c452221-78b1-4881-9c61-ee2a283ac9ea",
   "metadata": {},
   "outputs": [],
   "source": []
  },
  {
   "cell_type": "code",
   "execution_count": null,
   "id": "4a10fbdd-8c6b-48fd-b649-15567828633c",
   "metadata": {},
   "outputs": [],
   "source": []
  },
  {
   "cell_type": "code",
   "execution_count": null,
   "id": "eb8f98fd-740a-4161-b45f-07051a3940f5",
   "metadata": {},
   "outputs": [],
   "source": []
  },
  {
   "cell_type": "markdown",
   "id": "21fa2089-cedc-4aba-a3f8-4891248621f3",
   "metadata": {},
   "source": [
    "# Viz results coloring by Anno-AsmType combinations"
   ]
  },
  {
   "cell_type": "code",
   "execution_count": 83,
   "id": "84f5ea9c-205f-4bc3-a4eb-91c4c1ec9489",
   "metadata": {},
   "outputs": [],
   "source": [
    "AnnoAndTech_hue_Color_Dict = { \"Bakta-LongRead\": \"#1f77b4\",\n",
    "                               #\"PGAP-LongRead\": \"#2ca02c\",\n",
    "                               \"Bakta-ShortRead\": \"#ff7f0e\", }\n",
    "                               #\"PGAP-ShortRead\": \"#9467bd\" }\n",
    "\n",
    "Bakta_CompAsm_patch = mpatches.Patch(color = AnnoAndTech_hue_Color_Dict[\"Bakta-LongRead\"],\n",
    "                                     label='Bakta & Complete Assemblies (N=68)')\n",
    "Bakta_SRAsm_patch = mpatches.Patch(color = AnnoAndTech_hue_Color_Dict[\"Bakta-ShortRead\"],\n",
    "                                   label='Bakta & Short-Read Assemblies (N=68)')\n",
    "\n",
    "AnnoAndTech_Patches = [Bakta_CompAsm_patch, Bakta_SRAsm_patch]\n",
    "\n",
    "hue_orderToPlot_V2 = [\"Bakta-LongRead\",  \"Bakta-ShortRead\", ]\n",
    "\n",
    "hue_orderToPlot_X = AnnoAndTech_hue_Color_Dict.keys()\n",
    "pallete_ForPlot = AnnoAndTech_hue_Color_Dict.values()\n"
   ]
  },
  {
   "cell_type": "code",
   "execution_count": 77,
   "id": "8fe0f5db-b4c2-4346-af93-4416a5bb21e0",
   "metadata": {},
   "outputs": [
    {
     "data": {
      "text/plain": [
       "{'Bakta-LongRead': '#1f77b4', 'Bakta-ShortRead': '#ff7f0e'}"
      ]
     },
     "execution_count": 77,
     "metadata": {},
     "output_type": "execute_result"
    }
   ],
   "source": [
    "AnnoAndTech_hue_Color_Dict"
   ]
  },
  {
   "cell_type": "code",
   "execution_count": 78,
   "id": "36ea1955-0365-4508-b9a6-5c5c56cc303b",
   "metadata": {},
   "outputs": [
    {
     "data": {
      "text/plain": [
       "{'Bakta-LongRead': '#1f77b4', 'Bakta-ShortRead': '#ff7f0e'}"
      ]
     },
     "execution_count": 78,
     "metadata": {},
     "output_type": "execute_result"
    }
   ],
   "source": [
    "AnnoAndTech_hue_Color_Dict"
   ]
  },
  {
   "cell_type": "code",
   "execution_count": 79,
   "id": "11936520-8bc9-4e68-b95b-1140fcf4b150",
   "metadata": {},
   "outputs": [
    {
     "data": {
      "text/plain": [
       "dict_values(['#1f77b4', '#ff7f0e'])"
      ]
     },
     "execution_count": 79,
     "metadata": {},
     "output_type": "execute_result"
    }
   ],
   "source": [
    "pallete_ForPlot"
   ]
  },
  {
   "cell_type": "code",
   "execution_count": 80,
   "id": "de87a573-80cf-4792-898d-4d38823b7bcb",
   "metadata": {},
   "outputs": [],
   "source": [
    "#PGCombos_orderToPlot"
   ]
  },
  {
   "cell_type": "code",
   "execution_count": null,
   "id": "4d9937a2-4787-401c-a1c8-2482a16ffb5c",
   "metadata": {},
   "outputs": [],
   "source": []
  },
  {
   "cell_type": "code",
   "execution_count": 81,
   "id": "ed019584-74ae-4933-9eb8-f1a8cab9e153",
   "metadata": {},
   "outputs": [
    {
     "data": {
      "text/plain": [
       "{'Bakta-LongRead': '#1f77b4', 'Bakta-ShortRead': '#ff7f0e'}"
      ]
     },
     "execution_count": 81,
     "metadata": {},
     "output_type": "execute_result"
    }
   ],
   "source": [
    "AnnoAndTech_hue_Color_Dict"
   ]
  },
  {
   "cell_type": "code",
   "execution_count": null,
   "id": "7e0a2094-4e27-4b70-bdaa-5ce3c32ad848",
   "metadata": {},
   "outputs": [],
   "source": []
  },
  {
   "cell_type": "code",
   "execution_count": 84,
   "id": "5aeb3c0c-0b33-4774-b0a2-0bae9ef4f4ac",
   "metadata": {},
   "outputs": [
    {
     "data": {
      "image/png": "[encoded data removed]",
      "text/plain": [
       "<Figure size 1728x1440 with 2 Axes>"
      ]
     },
     "metadata": {
      "needs_background": "light"
     },
     "output_type": "display_data"
    }
   ],
   "source": [
    "# Change the subplot configuration to 1 row, 2 columns\n",
    "fig, axs = plt.subplots(1, 2, figsize=(24, 20), sharex=False, sharey=True)\n",
    "sns.set_context(\"poster\")\n",
    "\n",
    "hue_orderToPlot_X = AnnoAndTech_hue_Color_Dict.keys()\n",
    "pallete_ForPlot = AnnoAndTech_hue_Color_Dict.values()\n",
    "\n",
    "# Plotting on the first and second subplot\n",
    "sns.barplot(y=\"Method\", x=\"GeneCount\", hue=\"AnnoAndTech\", data=PG_Merged_Stats_LRandSR_Acc_DF,\n",
    "            order=PipeName_WiParam_List, hue_order=hue_orderToPlot_V2, ax=axs[0], palette=pallete_ForPlot)\n",
    "\n",
    "sns.barplot(y=\"Method\", x=\"GeneCount\", hue=\"AnnoAndTech\", data=PG_Merged_Stats_LRandSR_Core_DF,\n",
    "            order=PipeName_WiParam_List, hue_order=hue_orderToPlot_V2, ax=axs[1], palette=pallete_ForPlot)\n",
    "\n",
    "# Set labels\n",
    "axs[0].set_ylabel(\"\") # Adjust as needed\n",
    "axs[1].set_ylabel(\"\") # Adjust as needed\n",
    "axs[0].set_xlabel(\"# of accessory genes\", rotation=0)\n",
    "axs[1].set_xlabel(\"# of core genes\", rotation=0)\n",
    "\n",
    "# Set tick labels\n",
    "for i_ax in axs:\n",
    "    i_ax.set_yticklabels(labels=PGCombos_TickLabels, rotation=0, fontdict={\"fontsize\": 14})\n",
    "\n",
    "axs[1].legend(title = \"Annotation/Assembly Combo\", handles = AnnoAndTech_Patches,\n",
    "              bbox_to_anchor=(1.15, 1), fontsize= 18) \n",
    "axs[0].get_legend().remove(), \n",
    "\n",
    "# Set titles\n",
    "axs[0].set_title(\"Accessory genome size\")\n",
    "axs[1].set_title(\"Core genome size\")\n",
    "\n",
    "# Despine and layout adjustment\n",
    "sns.despine()\n",
    "plt.tight_layout()\n",
    "\n",
    "#plt.savefig(\"Results3_Plots/3.PG.Counts.SRvsLR.AND.BaktaVsPGAP.CombinedCoreAccPlots.png\", dpi = 300, bbox_inches=\"tight\")\n",
    "#plt.savefig(\"Results3_Plots/3.PG.Counts.SRvsLR.AND.BaktaVsPGAP.CombinedCoreAccPlots.svg\", bbox_inches=\"tight\")\n",
    "\n",
    "plt.show()"
   ]
  },
  {
   "cell_type": "code",
   "execution_count": null,
   "id": "a9608137-40d0-4da0-974b-fa39019e5b25",
   "metadata": {},
   "outputs": [],
   "source": []
  },
  {
   "cell_type": "code",
   "execution_count": null,
   "id": "292dfbfe-08d5-4f09-b292-8a272a440967",
   "metadata": {},
   "outputs": [],
   "source": []
  },
  {
   "cell_type": "code",
   "execution_count": null,
   "id": "bedb9c11-7bf0-4c92-8685-7ebeca84290b",
   "metadata": {},
   "outputs": [],
   "source": []
  },
  {
   "cell_type": "code",
   "execution_count": null,
   "id": "2ccd3e1f-0b0e-4781-9073-3e1299e2072f",
   "metadata": {},
   "outputs": [],
   "source": []
  },
  {
   "cell_type": "code",
   "execution_count": null,
   "id": "5a8903ca-3fda-4285-b446-a3ba1153898a",
   "metadata": {},
   "outputs": [],
   "source": []
  },
  {
   "cell_type": "code",
   "execution_count": null,
   "id": "72aef522-d843-44df-9259-6cfb1074f7f0",
   "metadata": {},
   "outputs": [],
   "source": []
  }
 ],
 "metadata": {
  "kernelspec": {
   "display_name": "py37_S",
   "language": "python",
   "name": "py37_s"
  },
  "language_info": {
   "codemirror_mode": {
    "name": "ipython",
    "version": 3
   },
   "file_extension": ".py",
   "mimetype": "text/x-python",
   "name": "python",
   "nbconvert_exporter": "python",
   "pygments_lexer": "ipython3",
   "version": "3.7.3"
  }
 },
 "nbformat": 4,
 "nbformat_minor": 5
}
