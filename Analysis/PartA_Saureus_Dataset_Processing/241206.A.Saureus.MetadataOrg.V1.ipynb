{
 "cells": [
  {
   "cell_type": "markdown",
   "id": "2cc8b30e-0d63-49e3-b4cd-7ab16b0a1a69",
   "metadata": {},
   "source": [
    "# Create input TSV for PG analysis - Houtak2023 - Saureus 68 Asm Dataset"
   ]
  },
  {
   "cell_type": "code",
   "execution_count": null,
   "id": "b27fd3f7-8d42-4fe1-85f9-711d637fec42",
   "metadata": {},
   "outputs": [],
   "source": []
  },
  {
   "cell_type": "code",
   "execution_count": 88,
   "id": "da870911-d7a2-4d57-8fcb-25d24322b819",
   "metadata": {},
   "outputs": [],
   "source": [
    "import numpy as np\n",
    "import pandas as pd\n",
    "from tqdm import tqdm\n",
    "#import matplotlib.pyplot as plt\n",
    "#import seaborn as sns\n",
    "#import pickle\n",
    "\n",
    "%matplotlib inline"
   ]
  },
  {
   "cell_type": "code",
   "execution_count": 89,
   "id": "fc570e07-48fb-4045-b9b6-8db49c449b65",
   "metadata": {},
   "outputs": [],
   "source": [
    "import glob"
   ]
  },
  {
   "cell_type": "code",
   "execution_count": null,
   "id": "64d46e92-fd83-48f2-b77e-d3fe72b734a5",
   "metadata": {},
   "outputs": [],
   "source": []
  },
  {
   "cell_type": "code",
   "execution_count": null,
   "id": "0caee49e-7bb0-4bf7-aaac-0958d3520784",
   "metadata": {},
   "outputs": [],
   "source": []
  },
  {
   "cell_type": "code",
   "execution_count": null,
   "id": "d5614ecf-3f1b-4784-8181-c3b0849179bc",
   "metadata": {},
   "outputs": [],
   "source": []
  },
  {
   "cell_type": "markdown",
   "id": "c3d4bda9-4aeb-43a9-968e-1a3896cdf3b0",
   "metadata": {},
   "source": [
    "# 0) Define directories"
   ]
  },
  {
   "cell_type": "code",
   "execution_count": 90,
   "id": "3cb72fe0-1f42-4fb7-b65f-c87c45bda565",
   "metadata": {},
   "outputs": [],
   "source": [
    "\n",
    "Proj_MainDir = \"/n/data1/hms/dbmi/farhat/mm774/Projects\"\n",
    "\n",
    "SA_PG_MainDir = f\"{Proj_MainDir}/241206_Saureus_PG_Analysis\"  \n",
    "\n",
    "Data_MainDir = f\"{SA_PG_MainDir}/Data\"  \n",
    "\n",
    "SA_68CI_GenomeFASTAs_Dir = f\"{Data_MainDir}/CRS.Saureus.68CI.GenomesFromGitRepo\"\n",
    "\n",
    "Saureus_Repo_Meta_Dir = f\"../../Data/241206_Saureus_HoutakBouras2023_Metadata\"  \n",
    "\n",
    "Sa_ENA_RunData_TSV = f\"{Saureus_Repo_Meta_Dir}/ENA.RunMetadata.PRJNA914892.tsv\"\n",
    "\n",
    "Sa_HoutakBouras2023_Isolate_Metadata_TSV = f\"{Saureus_Repo_Meta_Dir}/HoutakBouras2023.metadata.csv\"\n",
    "\n",
    "Sa_HoutakBouras2023_NCBI_GenomeInfo_TSV  = f\"{Saureus_Repo_Meta_Dir}/NCBI.HoutakBouras2023.Saureus.174CI.HybridGenomes.tsv\""
   ]
  },
  {
   "cell_type": "code",
   "execution_count": 91,
   "id": "a885ab5f-c4cc-412d-857b-81608d9fcb05",
   "metadata": {},
   "outputs": [
    {
     "name": "stdout",
     "output_type": "stream",
     "text": [
      "CRS.Saureus.68CI.GenomesFromGitRepo\n",
      "ENA.RunMetadata.PRJNA914892.tsv\n",
      "HoutakBouras2023.metadata.csv\n",
      "NCBI.HoutakBouras2023.Saureus.174CI.HybridGenomes.tsv\n"
     ]
    }
   ],
   "source": [
    "!ls -1 $Data_MainDir"
   ]
  },
  {
   "cell_type": "code",
   "execution_count": 92,
   "id": "0e4a3e4c-3414-4be2-801e-8f3b75b77da8",
   "metadata": {},
   "outputs": [
    {
     "name": "stdout",
     "output_type": "stream",
     "text": [
      "C100.fasta\n",
      "C113.fasta\n",
      "C121.fasta\n",
      "C133.fasta\n",
      "C136.fasta\n",
      "C13.fasta\n",
      "C148.fasta\n",
      "C149.fasta\n",
      "C155.fasta\n",
      "C16.fasta\n"
     ]
    }
   ],
   "source": [
    "!ls -1 $SA_68CI_GenomeFASTAs_Dir | head "
   ]
  },
  {
   "cell_type": "code",
   "execution_count": null,
   "id": "0f707ebd-6df3-4014-bc85-74d3b80268a5",
   "metadata": {},
   "outputs": [],
   "source": []
  },
  {
   "cell_type": "code",
   "execution_count": null,
   "id": "02b52fef-88d7-4a51-8d11-7af92a455a73",
   "metadata": {},
   "outputs": [],
   "source": []
  },
  {
   "cell_type": "code",
   "execution_count": null,
   "id": "da456974-f075-4c51-8a1a-edc5342762c0",
   "metadata": {},
   "outputs": [],
   "source": []
  },
  {
   "cell_type": "markdown",
   "id": "42dd6cc9-bd55-41f4-99fc-e06b9030e0a7",
   "metadata": {},
   "source": [
    "# Part 1: Parse metadata for data & genomes from `HoutakBouras-2023` paper\n",
    "\n",
    "### [paper link](https://www.microbiologyresearch.org/content/journal/mgen/10.1099/mgen.0.001128#tab2)\n",
    "### [Git Repo Link](https://github.com/gbouras13/CRS_Saureus_Evolutionary_Landscape/tree/main)\n"
   ]
  },
  {
   "cell_type": "markdown",
   "id": "e75cb304-56cd-4fcf-aa8e-ceb4086d0001",
   "metadata": {},
   "source": [
    "### a) Parse Genome Assembly info (NCBI)"
   ]
  },
  {
   "cell_type": "code",
   "execution_count": 93,
   "id": "e1f79ed2-d5d3-4c9a-9361-874ae35bcec7",
   "metadata": {},
   "outputs": [
    {
     "data": {
      "text/plain": [
       "(175, 22)"
      ]
     },
     "execution_count": 93,
     "metadata": {},
     "output_type": "execute_result"
    }
   ],
   "source": [
    "GenomeInfo_DF = pd.read_csv(Sa_HoutakBouras2023_NCBI_GenomeInfo_TSV, sep = \"\\t\")\n",
    "GenomeInfo_DF.shape"
   ]
  },
  {
   "cell_type": "code",
   "execution_count": 94,
   "id": "7b921e2b-748d-47d8-a02b-270b795ed71b",
   "metadata": {},
   "outputs": [
    {
     "data": {
      "text/plain": [
       "(175, 4)"
      ]
     },
     "execution_count": 94,
     "metadata": {},
     "output_type": "execute_result"
    }
   ],
   "source": [
    "GenomeInfo_Trim_DF = GenomeInfo_DF[[\"Organism Infraspecific Names Strain\", \"Assembly Accession\", \"Assembly Name\", \"Organism Name\"]]\n",
    "GenomeInfo_Trim_DF.columns = [\"IsolateID\", \"Assembly_Accession\", \"Assembly_Name\", \"Organism\"]\n",
    "GenomeInfo_Trim_DF.shape"
   ]
  },
  {
   "cell_type": "code",
   "execution_count": 95,
   "id": "9aad2d8b-4806-4248-9bf7-ae06ffc5b5d7",
   "metadata": {},
   "outputs": [
    {
     "data": {
      "text/html": [
       "<div>\n",
       "<style scoped>\n",
       "    .dataframe tbody tr th:only-of-type {\n",
       "        vertical-align: middle;\n",
       "    }\n",
       "\n",
       "    .dataframe tbody tr th {\n",
       "        vertical-align: top;\n",
       "    }\n",
       "\n",
       "    .dataframe thead th {\n",
       "        text-align: right;\n",
       "    }\n",
       "</style>\n",
       "<table border=\"1\" class=\"dataframe\">\n",
       "  <thead>\n",
       "    <tr style=\"text-align: right;\">\n",
       "      <th></th>\n",
       "      <th>IsolateID</th>\n",
       "      <th>Assembly_Accession</th>\n",
       "      <th>Assembly_Name</th>\n",
       "      <th>Organism</th>\n",
       "    </tr>\n",
       "  </thead>\n",
       "  <tbody>\n",
       "    <tr>\n",
       "      <th>0</th>\n",
       "      <td>C308</td>\n",
       "      <td>GCA_027920385.1</td>\n",
       "      <td>ASM2792038v1</td>\n",
       "      <td>Staphylococcus aureus</td>\n",
       "    </tr>\n",
       "    <tr>\n",
       "      <th>1</th>\n",
       "      <td>C308</td>\n",
       "      <td>GCF_027920385.1</td>\n",
       "      <td>ASM2792038v1</td>\n",
       "      <td>Staphylococcus aureus</td>\n",
       "    </tr>\n",
       "  </tbody>\n",
       "</table>\n",
       "</div>"
      ],
      "text/plain": [
       "  IsolateID Assembly_Accession Assembly_Name               Organism\n",
       "0      C308    GCA_027920385.1  ASM2792038v1  Staphylococcus aureus\n",
       "1      C308    GCF_027920385.1  ASM2792038v1  Staphylococcus aureus"
      ]
     },
     "execution_count": 95,
     "metadata": {},
     "output_type": "execute_result"
    }
   ],
   "source": [
    "GenomeInfo_Trim_DF.head(2)"
   ]
  },
  {
   "cell_type": "code",
   "execution_count": null,
   "id": "bd832dc8-f871-41bd-95c3-9cea6b99516b",
   "metadata": {},
   "outputs": [],
   "source": []
  },
  {
   "cell_type": "code",
   "execution_count": null,
   "id": "d14196f0-87f0-4669-9712-0308b67a9fd0",
   "metadata": {},
   "outputs": [],
   "source": []
  },
  {
   "cell_type": "markdown",
   "id": "4a5f5672-64c3-4982-8afa-ad95714bbcda",
   "metadata": {},
   "source": [
    "### b) Parse sequencing run info (ENA)"
   ]
  },
  {
   "cell_type": "code",
   "execution_count": 96,
   "id": "61a0b623-c644-4f10-9dab-6536e2ebe310",
   "metadata": {},
   "outputs": [
    {
     "data": {
      "text/plain": [
       "(366, 19)"
      ]
     },
     "execution_count": 96,
     "metadata": {},
     "output_type": "execute_result"
    }
   ],
   "source": [
    "ENA_RunAcc_Info_DF = pd.read_csv(Sa_ENA_RunData_TSV, sep=\"\\t\")\n",
    "ENA_RunAcc_Info_DF.shape"
   ]
  },
  {
   "cell_type": "code",
   "execution_count": 97,
   "id": "9e2f6369-c512-4d59-93fa-490e48bd841c",
   "metadata": {},
   "outputs": [
    {
     "data": {
      "text/html": [
       "<div>\n",
       "<style scoped>\n",
       "    .dataframe tbody tr th:only-of-type {\n",
       "        vertical-align: middle;\n",
       "    }\n",
       "\n",
       "    .dataframe tbody tr th {\n",
       "        vertical-align: top;\n",
       "    }\n",
       "\n",
       "    .dataframe thead th {\n",
       "        text-align: right;\n",
       "    }\n",
       "</style>\n",
       "<table border=\"1\" class=\"dataframe\">\n",
       "  <thead>\n",
       "    <tr style=\"text-align: right;\">\n",
       "      <th></th>\n",
       "      <th>run_accession</th>\n",
       "      <th>sample_accession</th>\n",
       "      <th>experiment_accession</th>\n",
       "      <th>study_accession</th>\n",
       "      <th>tax_id</th>\n",
       "      <th>scientific_name</th>\n",
       "      <th>instrument_platform</th>\n",
       "      <th>instrument_model</th>\n",
       "      <th>nominal_length</th>\n",
       "      <th>library_layout</th>\n",
       "      <th>read_count</th>\n",
       "      <th>base_count</th>\n",
       "      <th>study_alias</th>\n",
       "      <th>fastq_bytes</th>\n",
       "      <th>fastq_ftp</th>\n",
       "      <th>submitted_ftp</th>\n",
       "      <th>sra_ftp</th>\n",
       "      <th>sample_alias</th>\n",
       "      <th>bam_ftp</th>\n",
       "    </tr>\n",
       "  </thead>\n",
       "  <tbody>\n",
       "    <tr>\n",
       "      <th>0</th>\n",
       "      <td>SRR22859702</td>\n",
       "      <td>SAMN32360851</td>\n",
       "      <td>SRX18818535</td>\n",
       "      <td>PRJNA914892</td>\n",
       "      <td>1280</td>\n",
       "      <td>Staphylococcus aureus</td>\n",
       "      <td>OXFORD_NANOPORE</td>\n",
       "      <td>MinION</td>\n",
       "      <td>NaN</td>\n",
       "      <td>SINGLE</td>\n",
       "      <td>46294</td>\n",
       "      <td>205749631</td>\n",
       "      <td>PRJNA914892</td>\n",
       "      <td>188942850</td>\n",
       "      <td>ftp.sra.ebi.ac.uk/vol1/fastq/SRR228/002/SRR228...</td>\n",
       "      <td>NaN</td>\n",
       "      <td>ftp.sra.ebi.ac.uk/vol1/srr/SRR228/002/SRR22859702</td>\n",
       "      <td>C148</td>\n",
       "      <td>NaN</td>\n",
       "    </tr>\n",
       "    <tr>\n",
       "      <th>1</th>\n",
       "      <td>SRR22859703</td>\n",
       "      <td>SAMN32360850</td>\n",
       "      <td>SRX18818534</td>\n",
       "      <td>PRJNA914892</td>\n",
       "      <td>1280</td>\n",
       "      <td>Staphylococcus aureus</td>\n",
       "      <td>OXFORD_NANOPORE</td>\n",
       "      <td>MinION</td>\n",
       "      <td>NaN</td>\n",
       "      <td>SINGLE</td>\n",
       "      <td>32389</td>\n",
       "      <td>87157236</td>\n",
       "      <td>PRJNA914892</td>\n",
       "      <td>79890033</td>\n",
       "      <td>ftp.sra.ebi.ac.uk/vol1/fastq/SRR228/003/SRR228...</td>\n",
       "      <td>NaN</td>\n",
       "      <td>ftp.sra.ebi.ac.uk/vol1/srr/SRR228/003/SRR22859703</td>\n",
       "      <td>C318</td>\n",
       "      <td>NaN</td>\n",
       "    </tr>\n",
       "    <tr>\n",
       "      <th>2</th>\n",
       "      <td>SRR22859708</td>\n",
       "      <td>SAMN32360846</td>\n",
       "      <td>SRX18818529</td>\n",
       "      <td>PRJNA914892</td>\n",
       "      <td>1280</td>\n",
       "      <td>Staphylococcus aureus</td>\n",
       "      <td>OXFORD_NANOPORE</td>\n",
       "      <td>MinION</td>\n",
       "      <td>NaN</td>\n",
       "      <td>SINGLE</td>\n",
       "      <td>42719</td>\n",
       "      <td>139895165</td>\n",
       "      <td>PRJNA914892</td>\n",
       "      <td>128110615</td>\n",
       "      <td>ftp.sra.ebi.ac.uk/vol1/fastq/SRR228/008/SRR228...</td>\n",
       "      <td>NaN</td>\n",
       "      <td>ftp.sra.ebi.ac.uk/vol1/srr/SRR228/008/SRR22859708</td>\n",
       "      <td>C100</td>\n",
       "      <td>NaN</td>\n",
       "    </tr>\n",
       "  </tbody>\n",
       "</table>\n",
       "</div>"
      ],
      "text/plain": [
       "  run_accession sample_accession experiment_accession study_accession  tax_id  \\\n",
       "0   SRR22859702     SAMN32360851          SRX18818535     PRJNA914892    1280   \n",
       "1   SRR22859703     SAMN32360850          SRX18818534     PRJNA914892    1280   \n",
       "2   SRR22859708     SAMN32360846          SRX18818529     PRJNA914892    1280   \n",
       "\n",
       "         scientific_name instrument_platform instrument_model  nominal_length  \\\n",
       "0  Staphylococcus aureus     OXFORD_NANOPORE           MinION             NaN   \n",
       "1  Staphylococcus aureus     OXFORD_NANOPORE           MinION             NaN   \n",
       "2  Staphylococcus aureus     OXFORD_NANOPORE           MinION             NaN   \n",
       "\n",
       "  library_layout  read_count  base_count  study_alias fastq_bytes  \\\n",
       "0         SINGLE       46294   205749631  PRJNA914892   188942850   \n",
       "1         SINGLE       32389    87157236  PRJNA914892    79890033   \n",
       "2         SINGLE       42719   139895165  PRJNA914892   128110615   \n",
       "\n",
       "                                           fastq_ftp  submitted_ftp  \\\n",
       "0  ftp.sra.ebi.ac.uk/vol1/fastq/SRR228/002/SRR228...            NaN   \n",
       "1  ftp.sra.ebi.ac.uk/vol1/fastq/SRR228/003/SRR228...            NaN   \n",
       "2  ftp.sra.ebi.ac.uk/vol1/fastq/SRR228/008/SRR228...            NaN   \n",
       "\n",
       "                                             sra_ftp sample_alias  bam_ftp  \n",
       "0  ftp.sra.ebi.ac.uk/vol1/srr/SRR228/002/SRR22859702         C148      NaN  \n",
       "1  ftp.sra.ebi.ac.uk/vol1/srr/SRR228/003/SRR22859703         C318      NaN  \n",
       "2  ftp.sra.ebi.ac.uk/vol1/srr/SRR228/008/SRR22859708         C100      NaN  "
      ]
     },
     "execution_count": 97,
     "metadata": {},
     "output_type": "execute_result"
    }
   ],
   "source": [
    "ENA_RunAcc_Info_DF.head(3)"
   ]
  },
  {
   "cell_type": "code",
   "execution_count": 98,
   "id": "7719a06b-037d-4690-945b-9c26bbd45499",
   "metadata": {},
   "outputs": [
    {
     "data": {
      "text/plain": [
       "instrument_model\n",
       "MinION                 174\n",
       "NextSeq 550            147\n",
       "Illumina HiSeq 2000     45\n",
       "Name: count, dtype: int64"
      ]
     },
     "execution_count": 98,
     "metadata": {},
     "output_type": "execute_result"
    }
   ],
   "source": [
    "ENA_RunAcc_Info_DF[\"instrument_model\"].value_counts()"
   ]
  },
  {
   "cell_type": "code",
   "execution_count": null,
   "id": "37155923-ee7a-4afd-a0c0-1f29c02e2e97",
   "metadata": {},
   "outputs": [],
   "source": []
  },
  {
   "cell_type": "code",
   "execution_count": null,
   "id": "0b999538-197f-4a07-a2e2-a9620841fdbf",
   "metadata": {},
   "outputs": [],
   "source": []
  },
  {
   "cell_type": "code",
   "execution_count": 99,
   "id": "c196e370-078e-49fa-977a-c006d5a1bd34",
   "metadata": {},
   "outputs": [
    {
     "data": {
      "text/plain": [
       "(192, 19)"
      ]
     },
     "execution_count": 99,
     "metadata": {},
     "output_type": "execute_result"
    }
   ],
   "source": [
    "ENA_RunAcc_Illumina_DF = ENA_RunAcc_Info_DF.query(\"instrument_model != 'MinION'\")\n",
    "ENA_RunAcc_Illumina_DF.shape"
   ]
  },
  {
   "cell_type": "code",
   "execution_count": 100,
   "id": "5554eff8-5ab9-447e-aa78-fb8104e01ca5",
   "metadata": {},
   "outputs": [
    {
     "data": {
      "text/plain": [
       "192"
      ]
     },
     "execution_count": 100,
     "metadata": {},
     "output_type": "execute_result"
    }
   ],
   "source": [
    "ENA_RunAcc_Illumina_DF[\"sample_alias\"].nunique()"
   ]
  },
  {
   "cell_type": "code",
   "execution_count": 101,
   "id": "132e52f0-8eda-48d8-8596-a9db0d69886b",
   "metadata": {},
   "outputs": [
    {
     "data": {
      "text/plain": [
       "(192, 5)"
      ]
     },
     "execution_count": 101,
     "metadata": {},
     "output_type": "execute_result"
    }
   ],
   "source": [
    "ENA_RunAcc_Illumina_Trim_DF = ENA_RunAcc_Illumina_DF[[\"sample_alias\", \"study_accession\", \"sample_accession\", \"run_accession\", \"read_count\"]]\n",
    "ENA_RunAcc_Illumina_Trim_DF.shape"
   ]
  },
  {
   "cell_type": "code",
   "execution_count": null,
   "id": "72d218b7-51ed-4cb5-8caa-55eb54d2ef74",
   "metadata": {},
   "outputs": [],
   "source": []
  },
  {
   "cell_type": "markdown",
   "id": "bb46692f-04c4-4337-a2c0-6cb4b8035ae9",
   "metadata": {},
   "source": [
    "### c) Parse isolate metadata (From publication Git repo)"
   ]
  },
  {
   "cell_type": "code",
   "execution_count": 102,
   "id": "5b3d6fa2-316e-48bf-ba66-c08b5d9f6175",
   "metadata": {},
   "outputs": [
    {
     "data": {
      "text/plain": [
       "(68, 9)"
      ]
     },
     "execution_count": 102,
     "metadata": {},
     "output_type": "execute_result"
    }
   ],
   "source": [
    "\n",
    "IsolateMetadata_DF = pd.read_csv(Sa_HoutakBouras2023_Isolate_Metadata_TSV)\n",
    "IsolateMetadata_DF.shape"
   ]
  },
  {
   "cell_type": "code",
   "execution_count": null,
   "id": "eb34026e-72a9-4d87-9322-383c49d59e1c",
   "metadata": {},
   "outputs": [],
   "source": []
  },
  {
   "cell_type": "markdown",
   "id": "28873006-54fd-4a9d-a30e-18a6e71c0349",
   "metadata": {},
   "source": [
    "# Part 1: Merge & subset metadata for 68 `S aureus` isolates from paper"
   ]
  },
  {
   "cell_type": "code",
   "execution_count": 103,
   "id": "578626fc-8fb5-4af8-8224-c23381103113",
   "metadata": {},
   "outputs": [
    {
     "data": {
      "text/html": [
       "<div>\n",
       "<style scoped>\n",
       "    .dataframe tbody tr th:only-of-type {\n",
       "        vertical-align: middle;\n",
       "    }\n",
       "\n",
       "    .dataframe tbody tr th {\n",
       "        vertical-align: top;\n",
       "    }\n",
       "\n",
       "    .dataframe thead th {\n",
       "        text-align: right;\n",
       "    }\n",
       "</style>\n",
       "<table border=\"1\" class=\"dataframe\">\n",
       "  <thead>\n",
       "    <tr style=\"text-align: right;\">\n",
       "      <th></th>\n",
       "      <th>rid</th>\n",
       "      <th>timepoint</th>\n",
       "      <th>Cnumber_ID</th>\n",
       "      <th>time_between_pairs</th>\n",
       "      <th>sex</th>\n",
       "      <th>age</th>\n",
       "      <th>aspirin_sensitivity</th>\n",
       "      <th>asthma</th>\n",
       "      <th>CRS_pheno</th>\n",
       "    </tr>\n",
       "  </thead>\n",
       "  <tbody>\n",
       "    <tr>\n",
       "      <th>0</th>\n",
       "      <td>276</td>\n",
       "      <td>T0</td>\n",
       "      <td>C100</td>\n",
       "      <td>start</td>\n",
       "      <td>F</td>\n",
       "      <td>38</td>\n",
       "      <td>0</td>\n",
       "      <td>1</td>\n",
       "      <td>CRSwNP</td>\n",
       "    </tr>\n",
       "  </tbody>\n",
       "</table>\n",
       "</div>"
      ],
      "text/plain": [
       "   rid timepoint Cnumber_ID time_between_pairs sex  age  aspirin_sensitivity   \\\n",
       "0  276        T0       C100              start   F   38                     0   \n",
       "\n",
       "   asthma  CRS_pheno  \n",
       "0        1    CRSwNP  "
      ]
     },
     "execution_count": 103,
     "metadata": {},
     "output_type": "execute_result"
    }
   ],
   "source": [
    "IsolateMetadata_DF.head(1)"
   ]
  },
  {
   "cell_type": "code",
   "execution_count": 104,
   "id": "02c10899-da0e-456a-9f03-fa058ba97c1b",
   "metadata": {},
   "outputs": [
    {
     "data": {
      "text/html": [
       "<div>\n",
       "<style scoped>\n",
       "    .dataframe tbody tr th:only-of-type {\n",
       "        vertical-align: middle;\n",
       "    }\n",
       "\n",
       "    .dataframe tbody tr th {\n",
       "        vertical-align: top;\n",
       "    }\n",
       "\n",
       "    .dataframe thead th {\n",
       "        text-align: right;\n",
       "    }\n",
       "</style>\n",
       "<table border=\"1\" class=\"dataframe\">\n",
       "  <thead>\n",
       "    <tr style=\"text-align: right;\">\n",
       "      <th></th>\n",
       "      <th>sample_alias</th>\n",
       "      <th>study_accession</th>\n",
       "      <th>sample_accession</th>\n",
       "      <th>run_accession</th>\n",
       "      <th>read_count</th>\n",
       "    </tr>\n",
       "  </thead>\n",
       "  <tbody>\n",
       "    <tr>\n",
       "      <th>7</th>\n",
       "      <td>C344</td>\n",
       "      <td>PRJNA914892</td>\n",
       "      <td>SAMN32360971</td>\n",
       "      <td>SRR22859722</td>\n",
       "      <td>2032071</td>\n",
       "    </tr>\n",
       "  </tbody>\n",
       "</table>\n",
       "</div>"
      ],
      "text/plain": [
       "  sample_alias study_accession sample_accession run_accession  read_count\n",
       "7         C344     PRJNA914892     SAMN32360971   SRR22859722     2032071"
      ]
     },
     "execution_count": 104,
     "metadata": {},
     "output_type": "execute_result"
    }
   ],
   "source": [
    "ENA_RunAcc_Illumina_Trim_DF.head(1)"
   ]
  },
  {
   "cell_type": "code",
   "execution_count": 105,
   "id": "3dc40059-817e-4208-92e8-bf14e91a9982",
   "metadata": {},
   "outputs": [
    {
     "data": {
      "text/html": [
       "<div>\n",
       "<style scoped>\n",
       "    .dataframe tbody tr th:only-of-type {\n",
       "        vertical-align: middle;\n",
       "    }\n",
       "\n",
       "    .dataframe tbody tr th {\n",
       "        vertical-align: top;\n",
       "    }\n",
       "\n",
       "    .dataframe thead th {\n",
       "        text-align: right;\n",
       "    }\n",
       "</style>\n",
       "<table border=\"1\" class=\"dataframe\">\n",
       "  <thead>\n",
       "    <tr style=\"text-align: right;\">\n",
       "      <th></th>\n",
       "      <th>IsolateID</th>\n",
       "      <th>Assembly_Accession</th>\n",
       "      <th>Assembly_Name</th>\n",
       "      <th>Organism</th>\n",
       "    </tr>\n",
       "  </thead>\n",
       "  <tbody>\n",
       "    <tr>\n",
       "      <th>0</th>\n",
       "      <td>C308</td>\n",
       "      <td>GCA_027920385.1</td>\n",
       "      <td>ASM2792038v1</td>\n",
       "      <td>Staphylococcus aureus</td>\n",
       "    </tr>\n",
       "  </tbody>\n",
       "</table>\n",
       "</div>"
      ],
      "text/plain": [
       "  IsolateID Assembly_Accession Assembly_Name               Organism\n",
       "0      C308    GCA_027920385.1  ASM2792038v1  Staphylococcus aureus"
      ]
     },
     "execution_count": 105,
     "metadata": {},
     "output_type": "execute_result"
    }
   ],
   "source": [
    "GenomeInfo_Trim_DF.head(1)"
   ]
  },
  {
   "cell_type": "code",
   "execution_count": 106,
   "id": "cc0d22fb-edd7-4aa9-ab96-bbbd1600469a",
   "metadata": {},
   "outputs": [
    {
     "data": {
      "text/plain": [
       "(68, 7)"
      ]
     },
     "execution_count": 106,
     "metadata": {},
     "output_type": "execute_result"
    }
   ],
   "source": [
    "Sa_68CI_Info_DF = pd.merge(IsolateMetadata_DF, ENA_RunAcc_Illumina_Trim_DF, how = \"left\",\n",
    "                           left_on=\"Cnumber_ID\", right_on = \"sample_alias\" )\n",
    "\n",
    "Sa_68CI_Info_DF = pd.merge(Sa_68CI_Info_DF, GenomeInfo_Trim_DF, how = \"left\",\n",
    "                           left_on=\"Cnumber_ID\", right_on = \"IsolateID\" )\n",
    "\n",
    "Target_Cols = [\"Cnumber_ID\", \"rid\", \"timepoint\", \"study_accession\", \"run_accession\", \"Assembly_Accession\", \"Organism\"]\n",
    "\n",
    "Sa_68CI_Info_Trim_DF = Sa_68CI_Info_DF[Target_Cols]\n",
    "\n",
    "Sa_68CI_Info_Trim_DF.columns = [\"SampleID\", \"PatientID\", \"Timepoint\", \"Bioproject\", \"SR_RunAccession\", \"Assembly_Accession\", \"Organism\"]\n",
    "\n",
    "Sa_68CI_Info_Trim_DF.shape"
   ]
  },
  {
   "cell_type": "code",
   "execution_count": 107,
   "id": "d0b876b9-3c96-4652-8b85-848dc1e1e91a",
   "metadata": {},
   "outputs": [
    {
     "data": {
      "text/html": [
       "<div>\n",
       "<style scoped>\n",
       "    .dataframe tbody tr th:only-of-type {\n",
       "        vertical-align: middle;\n",
       "    }\n",
       "\n",
       "    .dataframe tbody tr th {\n",
       "        vertical-align: top;\n",
       "    }\n",
       "\n",
       "    .dataframe thead th {\n",
       "        text-align: right;\n",
       "    }\n",
       "</style>\n",
       "<table border=\"1\" class=\"dataframe\">\n",
       "  <thead>\n",
       "    <tr style=\"text-align: right;\">\n",
       "      <th></th>\n",
       "      <th>SampleID</th>\n",
       "      <th>PatientID</th>\n",
       "      <th>Timepoint</th>\n",
       "      <th>Bioproject</th>\n",
       "      <th>SR_RunAccession</th>\n",
       "      <th>Assembly_Accession</th>\n",
       "      <th>Organism</th>\n",
       "    </tr>\n",
       "  </thead>\n",
       "  <tbody>\n",
       "    <tr>\n",
       "      <th>0</th>\n",
       "      <td>C100</td>\n",
       "      <td>276</td>\n",
       "      <td>T0</td>\n",
       "      <td>PRJNA914892</td>\n",
       "      <td>SRR22859841</td>\n",
       "      <td>GCA_030290035.1</td>\n",
       "      <td>Staphylococcus aureus</td>\n",
       "    </tr>\n",
       "    <tr>\n",
       "      <th>1</th>\n",
       "      <td>C364</td>\n",
       "      <td>276</td>\n",
       "      <td>T1</td>\n",
       "      <td>PRJNA914892</td>\n",
       "      <td>SRR22859839</td>\n",
       "      <td>GCA_030289195.1</td>\n",
       "      <td>Staphylococcus aureus</td>\n",
       "    </tr>\n",
       "    <tr>\n",
       "      <th>2</th>\n",
       "      <td>C22</td>\n",
       "      <td>420</td>\n",
       "      <td>T0</td>\n",
       "      <td>PRJNA914892</td>\n",
       "      <td>SRR22859927</td>\n",
       "      <td>GCA_030290075.1</td>\n",
       "      <td>Staphylococcus aureus</td>\n",
       "    </tr>\n",
       "    <tr>\n",
       "      <th>3</th>\n",
       "      <td>C320</td>\n",
       "      <td>420</td>\n",
       "      <td>T1</td>\n",
       "      <td>PRJNA914892</td>\n",
       "      <td>SRR22859838</td>\n",
       "      <td>GCA_030289995.1</td>\n",
       "      <td>Staphylococcus aureus</td>\n",
       "    </tr>\n",
       "    <tr>\n",
       "      <th>4</th>\n",
       "      <td>C235</td>\n",
       "      <td>539</td>\n",
       "      <td>T0</td>\n",
       "      <td>PRJNA914892</td>\n",
       "      <td>SRR22859837</td>\n",
       "      <td>GCA_030290115.1</td>\n",
       "      <td>Staphylococcus aureus</td>\n",
       "    </tr>\n",
       "    <tr>\n",
       "      <th>5</th>\n",
       "      <td>C318</td>\n",
       "      <td>539</td>\n",
       "      <td>T1</td>\n",
       "      <td>PRJNA914892</td>\n",
       "      <td>SRR22859836</td>\n",
       "      <td>GCA_030290095.1</td>\n",
       "      <td>Staphylococcus aureus</td>\n",
       "    </tr>\n",
       "    <tr>\n",
       "      <th>6</th>\n",
       "      <td>C79</td>\n",
       "      <td>1170</td>\n",
       "      <td>T0</td>\n",
       "      <td>PRJNA914892</td>\n",
       "      <td>SRR22859834</td>\n",
       "      <td>GCA_030289815.1</td>\n",
       "      <td>Staphylococcus aureus</td>\n",
       "    </tr>\n",
       "    <tr>\n",
       "      <th>7</th>\n",
       "      <td>C148</td>\n",
       "      <td>1170</td>\n",
       "      <td>T1</td>\n",
       "      <td>PRJNA914892</td>\n",
       "      <td>SRR22859835</td>\n",
       "      <td>GCA_030290055.1</td>\n",
       "      <td>Staphylococcus aureus</td>\n",
       "    </tr>\n",
       "    <tr>\n",
       "      <th>8</th>\n",
       "      <td>C265</td>\n",
       "      <td>1415</td>\n",
       "      <td>T0</td>\n",
       "      <td>PRJNA914892</td>\n",
       "      <td>SRR22859928</td>\n",
       "      <td>GCA_030289955.1</td>\n",
       "      <td>Staphylococcus aureus</td>\n",
       "    </tr>\n",
       "    <tr>\n",
       "      <th>9</th>\n",
       "      <td>C324</td>\n",
       "      <td>1415</td>\n",
       "      <td>T1</td>\n",
       "      <td>PRJNA914892</td>\n",
       "      <td>SRR22859833</td>\n",
       "      <td>GCA_030289755.1</td>\n",
       "      <td>Staphylococcus aureus</td>\n",
       "    </tr>\n",
       "  </tbody>\n",
       "</table>\n",
       "</div>"
      ],
      "text/plain": [
       "  SampleID  PatientID Timepoint   Bioproject SR_RunAccession  \\\n",
       "0     C100        276        T0  PRJNA914892     SRR22859841   \n",
       "1     C364        276        T1  PRJNA914892     SRR22859839   \n",
       "2      C22        420        T0  PRJNA914892     SRR22859927   \n",
       "3     C320        420        T1  PRJNA914892     SRR22859838   \n",
       "4     C235        539        T0  PRJNA914892     SRR22859837   \n",
       "5     C318        539        T1  PRJNA914892     SRR22859836   \n",
       "6      C79       1170        T0  PRJNA914892     SRR22859834   \n",
       "7     C148       1170        T1  PRJNA914892     SRR22859835   \n",
       "8     C265       1415        T0  PRJNA914892     SRR22859928   \n",
       "9     C324       1415        T1  PRJNA914892     SRR22859833   \n",
       "\n",
       "  Assembly_Accession               Organism  \n",
       "0    GCA_030290035.1  Staphylococcus aureus  \n",
       "1    GCA_030289195.1  Staphylococcus aureus  \n",
       "2    GCA_030290075.1  Staphylococcus aureus  \n",
       "3    GCA_030289995.1  Staphylococcus aureus  \n",
       "4    GCA_030290115.1  Staphylococcus aureus  \n",
       "5    GCA_030290095.1  Staphylococcus aureus  \n",
       "6    GCA_030289815.1  Staphylococcus aureus  \n",
       "7    GCA_030290055.1  Staphylococcus aureus  \n",
       "8    GCA_030289955.1  Staphylococcus aureus  \n",
       "9    GCA_030289755.1  Staphylococcus aureus  "
      ]
     },
     "execution_count": 107,
     "metadata": {},
     "output_type": "execute_result"
    }
   ],
   "source": [
    "Sa_68CI_Info_Trim_DF.head(10)"
   ]
  },
  {
   "cell_type": "code",
   "execution_count": null,
   "id": "c2025388-59c5-45b8-80ef-45b3ca56cafa",
   "metadata": {},
   "outputs": [],
   "source": []
  },
  {
   "cell_type": "markdown",
   "id": "16a6362d-8a66-4293-bc99-a4c2d41690ae",
   "metadata": {},
   "source": [
    "# Part 2: Create a dict of Asm FAs "
   ]
  },
  {
   "cell_type": "code",
   "execution_count": 108,
   "id": "4ae51e52-6edf-41ee-be1e-bca38c421f84",
   "metadata": {},
   "outputs": [],
   "source": [
    "dictOf_AsmFA_PATHs = {}\n",
    "\n",
    "i_GenomesFA_Dir = SA_68CI_GenomeFASTAs_Dir\n",
    "\n",
    "for i, row in Sa_68CI_Info_Trim_DF.iterrows():\n",
    "\n",
    "    i_SampleID = row[\"SampleID\"]\n",
    "\n",
    "    i_FA_PATH = f\"{i_GenomesFA_Dir}/{i_SampleID}.fasta\"\n",
    "\n",
    "    dictOf_AsmFA_PATHs[i_SampleID] = i_FA_PATH\n"
   ]
  },
  {
   "cell_type": "code",
   "execution_count": 109,
   "id": "0d360a34-a9e2-4f6e-a880-3a977e4202a2",
   "metadata": {},
   "outputs": [
    {
     "data": {
      "text/plain": [
       "68"
      ]
     },
     "execution_count": 109,
     "metadata": {},
     "output_type": "execute_result"
    }
   ],
   "source": [
    "len(dictOf_AsmFA_PATHs.keys())"
   ]
  },
  {
   "cell_type": "code",
   "execution_count": 110,
   "id": "5d0e6372-6ef3-4196-9ff4-ce71eb30bd1b",
   "metadata": {},
   "outputs": [
    {
     "data": {
      "text/plain": [
       "'/n/data1/hms/dbmi/farhat/mm774/Projects/241206_Saureus_PG_Analysis/Data/CRS.Saureus.68CI.GenomesFromGitRepo/C100.fasta'"
      ]
     },
     "execution_count": 110,
     "metadata": {},
     "output_type": "execute_result"
    }
   ],
   "source": [
    "dictOf_AsmFA_PATHs['C100']"
   ]
  },
  {
   "cell_type": "code",
   "execution_count": 111,
   "id": "2d38cc47-174f-4b10-abaa-99d4db22506a",
   "metadata": {},
   "outputs": [
    {
     "name": "stdout",
     "output_type": "stream",
     "text": [
      "-rw-rw-r-- 1 mm774 farhat 2.8M Nov 28  2023 /n/data1/hms/dbmi/farhat/mm774/Projects/241206_Saureus_PG_Analysis/Data/CRS.Saureus.68CI.GenomesFromGitRepo/C100.fasta\n"
     ]
    }
   ],
   "source": [
    "!ls -lah /n/data1/hms/dbmi/farhat/mm774/Projects/241206_Saureus_PG_Analysis/Data/CRS.Saureus.68CI.GenomesFromGitRepo/C100.fasta"
   ]
  },
  {
   "cell_type": "code",
   "execution_count": 112,
   "id": "f4aa3760-509b-4649-b6ea-1c3cc8cf0c72",
   "metadata": {},
   "outputs": [
    {
     "name": "stdout",
     "output_type": "stream",
     "text": [
      ">C100 [organism=Staphylococcus aureus] [location=chromosome] [topology=circular] [completeness=complete]\n",
      "ATGTCGGAAAAAGAAATTTGGGAAAAAGTGCTTGAAATTGCTCAAGAAAAATTATCAGCT\n"
     ]
    }
   ],
   "source": [
    "!head -n 2 /n/data1/hms/dbmi/farhat/mm774/Projects/241206_Saureus_PG_Analysis/Data/CRS.Saureus.68CI.GenomesFromGitRepo/C100.fasta"
   ]
  },
  {
   "cell_type": "code",
   "execution_count": null,
   "id": "0c32c0bb-9dd9-46ac-9150-82245a51b06b",
   "metadata": {},
   "outputs": [],
   "source": []
  },
  {
   "cell_type": "markdown",
   "id": "8de6b184-b1fc-4f1b-925b-984d6d625152",
   "metadata": {},
   "source": [
    "# Part 3: Add `Genome_ASM_PATH` to the DF"
   ]
  },
  {
   "cell_type": "code",
   "execution_count": 113,
   "id": "75edbb36-367d-4152-ac92-cdb6c834a104",
   "metadata": {},
   "outputs": [
    {
     "name": "stderr",
     "output_type": "stream",
     "text": [
      "/tmp/ipykernel_30988/478384419.py:1: SettingWithCopyWarning: \n",
      "A value is trying to be set on a copy of a slice from a DataFrame.\n",
      "Try using .loc[row_indexer,col_indexer] = value instead\n",
      "\n",
      "See the caveats in the documentation: https://pandas.pydata.org/pandas-docs/stable/user_guide/indexing.html#returning-a-view-versus-a-copy\n",
      "  Sa_68CI_Info_Trim_DF[\"Genome_ASM_PATH\"] = Sa_68CI_Info_Trim_DF[\"SampleID\"].map(dictOf_AsmFA_PATHs)\n"
     ]
    }
   ],
   "source": [
    "Sa_68CI_Info_Trim_DF[\"Genome_ASM_PATH\"] = Sa_68CI_Info_Trim_DF[\"SampleID\"].map(dictOf_AsmFA_PATHs)  "
   ]
  },
  {
   "cell_type": "code",
   "execution_count": 114,
   "id": "672ace56-c522-41f5-bb25-61b6b8541c60",
   "metadata": {},
   "outputs": [
    {
     "data": {
      "text/html": [
       "<div>\n",
       "<style scoped>\n",
       "    .dataframe tbody tr th:only-of-type {\n",
       "        vertical-align: middle;\n",
       "    }\n",
       "\n",
       "    .dataframe tbody tr th {\n",
       "        vertical-align: top;\n",
       "    }\n",
       "\n",
       "    .dataframe thead th {\n",
       "        text-align: right;\n",
       "    }\n",
       "</style>\n",
       "<table border=\"1\" class=\"dataframe\">\n",
       "  <thead>\n",
       "    <tr style=\"text-align: right;\">\n",
       "      <th></th>\n",
       "      <th>SampleID</th>\n",
       "      <th>PatientID</th>\n",
       "      <th>Timepoint</th>\n",
       "      <th>Bioproject</th>\n",
       "      <th>SR_RunAccession</th>\n",
       "      <th>Assembly_Accession</th>\n",
       "      <th>Organism</th>\n",
       "      <th>Genome_ASM_PATH</th>\n",
       "    </tr>\n",
       "  </thead>\n",
       "  <tbody>\n",
       "    <tr>\n",
       "      <th>0</th>\n",
       "      <td>C100</td>\n",
       "      <td>276</td>\n",
       "      <td>T0</td>\n",
       "      <td>PRJNA914892</td>\n",
       "      <td>SRR22859841</td>\n",
       "      <td>GCA_030290035.1</td>\n",
       "      <td>Staphylococcus aureus</td>\n",
       "      <td>/n/data1/hms/dbmi/farhat/mm774/Projects/241206...</td>\n",
       "    </tr>\n",
       "    <tr>\n",
       "      <th>1</th>\n",
       "      <td>C364</td>\n",
       "      <td>276</td>\n",
       "      <td>T1</td>\n",
       "      <td>PRJNA914892</td>\n",
       "      <td>SRR22859839</td>\n",
       "      <td>GCA_030289195.1</td>\n",
       "      <td>Staphylococcus aureus</td>\n",
       "      <td>/n/data1/hms/dbmi/farhat/mm774/Projects/241206...</td>\n",
       "    </tr>\n",
       "    <tr>\n",
       "      <th>2</th>\n",
       "      <td>C22</td>\n",
       "      <td>420</td>\n",
       "      <td>T0</td>\n",
       "      <td>PRJNA914892</td>\n",
       "      <td>SRR22859927</td>\n",
       "      <td>GCA_030290075.1</td>\n",
       "      <td>Staphylococcus aureus</td>\n",
       "      <td>/n/data1/hms/dbmi/farhat/mm774/Projects/241206...</td>\n",
       "    </tr>\n",
       "    <tr>\n",
       "      <th>3</th>\n",
       "      <td>C320</td>\n",
       "      <td>420</td>\n",
       "      <td>T1</td>\n",
       "      <td>PRJNA914892</td>\n",
       "      <td>SRR22859838</td>\n",
       "      <td>GCA_030289995.1</td>\n",
       "      <td>Staphylococcus aureus</td>\n",
       "      <td>/n/data1/hms/dbmi/farhat/mm774/Projects/241206...</td>\n",
       "    </tr>\n",
       "  </tbody>\n",
       "</table>\n",
       "</div>"
      ],
      "text/plain": [
       "  SampleID  PatientID Timepoint   Bioproject SR_RunAccession  \\\n",
       "0     C100        276        T0  PRJNA914892     SRR22859841   \n",
       "1     C364        276        T1  PRJNA914892     SRR22859839   \n",
       "2      C22        420        T0  PRJNA914892     SRR22859927   \n",
       "3     C320        420        T1  PRJNA914892     SRR22859838   \n",
       "\n",
       "  Assembly_Accession               Organism  \\\n",
       "0    GCA_030290035.1  Staphylococcus aureus   \n",
       "1    GCA_030289195.1  Staphylococcus aureus   \n",
       "2    GCA_030290075.1  Staphylococcus aureus   \n",
       "3    GCA_030289995.1  Staphylococcus aureus   \n",
       "\n",
       "                                     Genome_ASM_PATH  \n",
       "0  /n/data1/hms/dbmi/farhat/mm774/Projects/241206...  \n",
       "1  /n/data1/hms/dbmi/farhat/mm774/Projects/241206...  \n",
       "2  /n/data1/hms/dbmi/farhat/mm774/Projects/241206...  \n",
       "3  /n/data1/hms/dbmi/farhat/mm774/Projects/241206...  "
      ]
     },
     "execution_count": 114,
     "metadata": {},
     "output_type": "execute_result"
    }
   ],
   "source": [
    "Sa_68CI_Info_Trim_DF.head(4)"
   ]
  },
  {
   "cell_type": "code",
   "execution_count": null,
   "id": "ec593370-0159-45ab-b669-cbcff78b8dcd",
   "metadata": {},
   "outputs": [],
   "source": []
  },
  {
   "cell_type": "markdown",
   "id": "eb15f50a-8827-4995-928b-0069a72b4453",
   "metadata": {},
   "source": [
    "# 3) Output TSV w/ sample info and Assembly FASTA PATHs"
   ]
  },
  {
   "cell_type": "code",
   "execution_count": 115,
   "id": "4ee6c960-cac1-4962-ae44-2334597c9342",
   "metadata": {},
   "outputs": [],
   "source": [
    "\n",
    "HoutakBouras2023_Saureus_68CI_AsmPATH_TSV = f\"{Saureus_Repo_Meta_Dir}/241206.HoutakBouras2023.Saureus.68I.MetaData.And.AsmFA.tsv\"\n",
    "\n",
    "HoutakBouras2023_Saureus_68CI_AsmPATH_AltPath_TSV = f\"{SA_PG_MainDir}/241206.HoutakBouras2023.Saureus.68I.MetaData.And.AsmFA.tsv\"\n",
    "\n",
    "Sa_68CI_Info_Trim_DF.to_csv(HoutakBouras2023_Saureus_68CI_AsmPATH_TSV,\n",
    "                            sep = \"\\t\",\n",
    "                            index=False)\n",
    "\n",
    "Sa_68CI_Info_Trim_DF.to_csv(HoutakBouras2023_Saureus_68CI_AsmPATH_AltPath_TSV,\n",
    "                            sep = \"\\t\",\n",
    "                            index=False)\n"
   ]
  },
  {
   "cell_type": "code",
   "execution_count": 116,
   "id": "47f24b33-c337-4ec2-a92a-76d4721623ba",
   "metadata": {},
   "outputs": [
    {
     "name": "stdout",
     "output_type": "stream",
     "text": [
      "69 ../../Data/241206_Saureus_HoutakBouras2023_Metadata/241206.HoutakBouras2023.Saureus.68I.MetaData.And.AsmFA.tsv\n"
     ]
    }
   ],
   "source": [
    "!wc -l $HoutakBouras2023_Saureus_68CI_AsmPATH_TSV  "
   ]
  },
  {
   "cell_type": "code",
   "execution_count": 117,
   "id": "dec1bb1c-8f67-49e0-adb0-cfbb1dab45bd",
   "metadata": {},
   "outputs": [
    {
     "name": "stdout",
     "output_type": "stream",
     "text": [
      "69 /n/data1/hms/dbmi/farhat/mm774/Projects/241206_Saureus_PG_Analysis/241206.HoutakBouras2023.Saureus.68I.MetaData.And.AsmFA.tsv\n"
     ]
    }
   ],
   "source": [
    "!wc -l $HoutakBouras2023_Saureus_68CI_AsmPATH_AltPath_TSV  "
   ]
  },
  {
   "cell_type": "code",
   "execution_count": null,
   "id": "23569582-b54f-4a76-8702-653a99aea790",
   "metadata": {},
   "outputs": [],
   "source": []
  },
  {
   "cell_type": "code",
   "execution_count": null,
   "id": "05fa6ad7-385a-44b0-a6ce-3a8af5764242",
   "metadata": {},
   "outputs": [],
   "source": []
  },
  {
   "cell_type": "code",
   "execution_count": null,
   "id": "d10e730f-8acd-488c-a318-1a578ae01f04",
   "metadata": {},
   "outputs": [],
   "source": []
  },
  {
   "cell_type": "code",
   "execution_count": null,
   "id": "1eaea45c-619d-4f67-832c-db06b5606f9d",
   "metadata": {},
   "outputs": [],
   "source": []
  },
  {
   "cell_type": "code",
   "execution_count": null,
   "id": "e8eff4b5-1488-42c9-8e82-b343a02b75fc",
   "metadata": {},
   "outputs": [],
   "source": []
  },
  {
   "cell_type": "code",
   "execution_count": null,
   "id": "8c0e3fa2-c61f-42f3-94d3-ffb54a4fd108",
   "metadata": {},
   "outputs": [],
   "source": []
  }
 ],
 "metadata": {
  "kernelspec": {
   "display_name": "bfds-v1-miniforge",
   "language": "python",
   "name": "bfds-v1-miniforge"
  },
  "language_info": {
   "codemirror_mode": {
    "name": "ipython",
    "version": 3
   },
   "file_extension": ".py",
   "mimetype": "text/x-python",
   "name": "python",
   "nbconvert_exporter": "python",
   "pygments_lexer": "ipython3",
   "version": "3.10.14"
  }
 },
 "nbformat": 4,
 "nbformat_minor": 5
}
