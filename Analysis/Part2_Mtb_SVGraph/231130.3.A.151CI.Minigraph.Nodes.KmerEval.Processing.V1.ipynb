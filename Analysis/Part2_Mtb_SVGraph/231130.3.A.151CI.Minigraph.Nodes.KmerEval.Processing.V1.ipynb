{
 "cells": [
  {
   "cell_type": "markdown",
   "id": "1638e8b5-ab14-4bd3-9e86-610441bfda77",
   "metadata": {},
   "source": [
    "# Minigraph Mtb Pangenome Analysis - Part 1: Sequence processsing steps & k-mer comparison\n",
    "\n",
    "### Maximillian Marin (mgmarin@g.harvard.edu)\n"
   ]
  },
  {
   "cell_type": "code",
   "execution_count": null,
   "id": "d96c0a89-38cb-4fe3-a771-683ee4058d7f",
   "metadata": {},
   "outputs": [],
   "source": []
  },
  {
   "cell_type": "markdown",
   "id": "1106da02",
   "metadata": {
    "toc-hr-collapsed": true
   },
   "source": [
    "### Import Statements"
   ]
  },
  {
   "cell_type": "code",
   "execution_count": 33,
   "id": "e36cce15",
   "metadata": {},
   "outputs": [],
   "source": [
    "import numpy as np\n",
    "import pandas as pd\n",
    "import vcf\n",
    "from tqdm import tqdm\n",
    "import matplotlib.pyplot as plt\n",
    "import seaborn as sns\n",
    "import pickle\n",
    "import scipy.stats\n",
    "\n",
    "%matplotlib inline"
   ]
  },
  {
   "cell_type": "code",
   "execution_count": 34,
   "id": "9a18e97e",
   "metadata": {},
   "outputs": [],
   "source": [
    "import plotly.express as px"
   ]
  },
  {
   "cell_type": "code",
   "execution_count": 35,
   "id": "86f4db16",
   "metadata": {},
   "outputs": [],
   "source": [
    "from Bio import SeqIO\n",
    "import plotly.express as px\n",
    "\n",
    "# https://github.com/ipython/ipython/issues/10627\n",
    "import os\n",
    "os.environ['QT_QPA_PLATFORM']='offscreen'"
   ]
  },
  {
   "cell_type": "code",
   "execution_count": 36,
   "id": "71ac186f",
   "metadata": {},
   "outputs": [],
   "source": [
    "import ete3 as rec\n",
    "from ete3 import Tree"
   ]
  },
  {
   "cell_type": "code",
   "execution_count": 37,
   "id": "41fd6962",
   "metadata": {},
   "outputs": [],
   "source": [
    "import json"
   ]
  },
  {
   "cell_type": "markdown",
   "id": "881d96c7",
   "metadata": {},
   "source": [
    "Import [Gfapy](https://github.com/ggonnella/gfapy)"
   ]
  },
  {
   "cell_type": "code",
   "execution_count": 38,
   "id": "99ee67b8",
   "metadata": {},
   "outputs": [],
   "source": [
    "import gfapy"
   ]
  },
  {
   "cell_type": "code",
   "execution_count": null,
   "id": "e9a6cc27",
   "metadata": {},
   "outputs": [],
   "source": []
  },
  {
   "cell_type": "markdown",
   "id": "f63e3559",
   "metadata": {},
   "source": [
    "#### Pandas Viewing Settings"
   ]
  },
  {
   "cell_type": "code",
   "execution_count": 39,
   "id": "b55e90ac",
   "metadata": {},
   "outputs": [],
   "source": [
    "pd.set_option('display.max_rows', 500)\n",
    "pd.set_option('display.max_columns', 500)\n",
    "pd.set_option('display.width', 1000)"
   ]
  },
  {
   "cell_type": "code",
   "execution_count": 40,
   "id": "e3cf04a4-4b53-40ab-b79d-5b1fc6678c09",
   "metadata": {},
   "outputs": [],
   "source": [
    "pd.set_option('max_colwidth', 400)"
   ]
  },
  {
   "cell_type": "code",
   "execution_count": 41,
   "id": "d3bc11f9",
   "metadata": {},
   "outputs": [],
   "source": [
    "import time"
   ]
  },
  {
   "cell_type": "code",
   "execution_count": 42,
   "id": "ee426e4a",
   "metadata": {},
   "outputs": [],
   "source": [
    "import screed"
   ]
  },
  {
   "cell_type": "code",
   "execution_count": 43,
   "id": "ff0eb7ea",
   "metadata": {},
   "outputs": [],
   "source": [
    "import mmh3"
   ]
  },
  {
   "cell_type": "code",
   "execution_count": null,
   "id": "c84a7d80",
   "metadata": {},
   "outputs": [],
   "source": []
  },
  {
   "cell_type": "markdown",
   "id": "f850655f",
   "metadata": {},
   "source": [
    "## Define useful Kmer analysis functions"
   ]
  },
  {
   "cell_type": "code",
   "execution_count": 44,
   "id": "353d36b3",
   "metadata": {},
   "outputs": [],
   "source": [
    "def jaccard_similarity(a, b):\n",
    "    a = set(a)\n",
    "    b = set(b)\n",
    "    \n",
    "    intersection = len(a.intersection(b))\n",
    "    union = len(a.union(b))\n",
    "    \n",
    "    return intersection / union"
   ]
  },
  {
   "cell_type": "code",
   "execution_count": 45,
   "id": "7dbd76b1",
   "metadata": {},
   "outputs": [],
   "source": [
    "def jaccard_containment(a, b):\n",
    "    a = set(a)\n",
    "    b = set(b)\n",
    "    \n",
    "    intersection = len(a.intersection(b))\n",
    "    \n",
    "    return intersection / len(a)"
   ]
  },
  {
   "cell_type": "code",
   "execution_count": null,
   "id": "88e52ba9",
   "metadata": {},
   "outputs": [],
   "source": []
  },
  {
   "cell_type": "code",
   "execution_count": 46,
   "id": "02ba944e",
   "metadata": {},
   "outputs": [],
   "source": [
    "def jaccard_containment_FromUnqHashes_WiNP(a, b):\n",
    "    \n",
    "    # Assumes that the input lists HAVE UNIQUE values\n",
    "    Num_intersection = np.intersect1d(a, b, assume_unique = True).shape[0]\n",
    "        \n",
    "    return Num_intersection / a.shape[0]"
   ]
  },
  {
   "cell_type": "code",
   "execution_count": 47,
   "id": "e8295e11",
   "metadata": {},
   "outputs": [],
   "source": [
    "def jaccard_similarity_FromUnqHashes_WiNP(a, b):\n",
    "    \n",
    "    # Assumes that the input lists HAVE UNIQUE values\n",
    "    Num_intersection = np.intersect1d(a, b, assume_unique = True).shape[0]\n",
    "    \n",
    "    Num_union = np.union1d(a, b).shape[0]\n",
    "    \n",
    "    return Num_intersection / Num_union"
   ]
  },
  {
   "cell_type": "code",
   "execution_count": null,
   "id": "0e2057e7",
   "metadata": {},
   "outputs": [],
   "source": []
  },
  {
   "cell_type": "code",
   "execution_count": 48,
   "id": "1c210a22",
   "metadata": {},
   "outputs": [],
   "source": [
    "def build_kmers(sequence, ksize):\n",
    "    kmers = []\n",
    "    n_kmers = len(sequence) - ksize + 1\n",
    "    \n",
    "    for i in range(n_kmers):\n",
    "        kmer = sequence[i:i + ksize]\n",
    "        kmers.append(kmer)\n",
    "        \n",
    "    return kmers"
   ]
  },
  {
   "cell_type": "code",
   "execution_count": 49,
   "id": "51752631",
   "metadata": {},
   "outputs": [],
   "source": [
    "#import screed # a library for reading in FASTA/FASTQ\n",
    "\n",
    "def read_kmers_from_file(filename, ksize):\n",
    "    all_kmers = []\n",
    "    for record in screed.open(filename):\n",
    "        sequence = record.sequence\n",
    "        \n",
    "        kmers = build_kmers(sequence, ksize)\n",
    "        all_kmers += kmers\n",
    "\n",
    "    return all_kmers"
   ]
  },
  {
   "cell_type": "code",
   "execution_count": 50,
   "id": "8269e848",
   "metadata": {},
   "outputs": [],
   "source": [
    "#import mmh3\n",
    "\n",
    "def hash_kmer(kmer):\n",
    "    # calculate the reverse complement\n",
    "    rc_kmer = screed.rc(kmer)\n",
    "    \n",
    "    # determine whether original k-mer or reverse complement is lesser\n",
    "    if kmer < rc_kmer:\n",
    "        canonical_kmer = kmer\n",
    "    else:\n",
    "        canonical_kmer = rc_kmer\n",
    "        \n",
    "    # calculate murmurhash using a hash seed of 42\n",
    "    hash = mmh3.hash64(canonical_kmer, 42)[0]\n",
    "    if hash < 0: hash += 2**64\n",
    "        \n",
    "    # done\n",
    "    return hash"
   ]
  },
  {
   "cell_type": "code",
   "execution_count": 51,
   "id": "e3964060",
   "metadata": {},
   "outputs": [],
   "source": [
    "def hash_kmers(kmers):\n",
    "    hashes = []\n",
    "    for kmer in kmers:\n",
    "        hashes.append(hash_kmer(kmer))\n",
    "    return hashes"
   ]
  },
  {
   "cell_type": "code",
   "execution_count": 52,
   "id": "79451944",
   "metadata": {},
   "outputs": [],
   "source": [
    "def hash_kmers_ToUnqNP(kmers):\n",
    "    hashes = []\n",
    "    for kmer in kmers:\n",
    "        hashes.append(hash_kmer(kmer))\n",
    "        \n",
    "    return np.unique(np.array(hashes))"
   ]
  },
  {
   "cell_type": "code",
   "execution_count": null,
   "id": "48a6ad16-94a4-4cc3-ad0e-8fea9ae7f375",
   "metadata": {},
   "outputs": [],
   "source": []
  },
  {
   "cell_type": "code",
   "execution_count": null,
   "id": "93ca127b-d5b8-4544-b3f5-3c43a0c2c60a",
   "metadata": {},
   "outputs": [],
   "source": []
  },
  {
   "cell_type": "markdown",
   "id": "34238646-349b-4eb4-a793-9ccd05ac177d",
   "metadata": {
    "toc-hr-collapsed": true
   },
   "source": [
    "# Parse sample metadata & preprocessed genome info/results"
   ]
  },
  {
   "cell_type": "code",
   "execution_count": 53,
   "id": "3f5c4cea-4fad-4947-8f24-1e84969375bc",
   "metadata": {},
   "outputs": [
    {
     "name": "stdout",
     "output_type": "stream",
     "text": [
      "mkdir: cannot create directory ‘../../Data/231121.InputAsmTSVs.MtbSetV3.151CI’: File exists\n"
     ]
    }
   ],
   "source": [
    "Repo_DataDir = \"../../Data\"\n",
    "InputAsmPath_Dir = f\"{Repo_DataDir}/231121.InputAsmTSVs.MtbSetV3.151CI\"\n",
    "!mkdir $InputAsmPath_Dir\n",
    "\n",
    "MtbSetV3_151CI_InputAsmPATHs_TSV = f\"{InputAsmPath_Dir}/231121.MtbSetV3.151CI.HybridAndSRAsm.FAPATHs.V1.tsv\"\n",
    "\n",
    "MtbSetV3_151CI_AsmSumm_TSV = f\"{InputAsmPath_Dir}/231121.MtbSetV3.151CI.HybridAsm.AsmSummary.V2.tsv\"\n"
   ]
  },
  {
   "cell_type": "code",
   "execution_count": null,
   "id": "83c935ad-aa84-456e-9409-55cb7a394bbf",
   "metadata": {},
   "outputs": [],
   "source": []
  },
  {
   "cell_type": "code",
   "execution_count": null,
   "id": "a2e919e9-154e-47dc-b1e6-0d67e7f98827",
   "metadata": {},
   "outputs": [],
   "source": []
  },
  {
   "cell_type": "markdown",
   "id": "b1ca3e63-478b-4ecb-9033-1f46d1ddebf2",
   "metadata": {},
   "source": [
    "## Testing reading back in \"WGA158CI_AsmSummary_DF\""
   ]
  },
  {
   "cell_type": "code",
   "execution_count": 54,
   "id": "4894c08d",
   "metadata": {},
   "outputs": [
    {
     "name": "stdout",
     "output_type": "stream",
     "text": [
      "N0072,N0153,TB3113,TB1236,TB2659,TB2780,TB1612,TB2512,TB2981,TB3091,M0003941_3,TB3368,N0145,N0155,TB2995,TB3396,N0004,N1274,N0054,02_R1179,01_R1134,M0017522_5,M0016395_7,M0010874_7,02_R1708,02_R0894,01_R1430,M0014888_3,02_R1896,TB4620,TB3162,MT_0080,TB3054,TB3251,M0016737_0,TB2661,TB3237,TB3169,TB3386,TB3334,M0011368_9,TB2968,N1272,N1176,N1202,N1177,N0091,RW-TB008,9050-05,4549-04,696-05,702-06,706-05,8129-04,3003-06,8651-04,QC-3,QC-9,QC-5,QC-8,QC-10,QC-4,QC-7,QC-6,QC-1,mada_1-10,mada_2-46,mada_1-1,mada_1-36,mada_1-39,mada_1-51,mada_1-44,mada_117,mada_118,mada_122,mada_107,R27252,R23887,R30215,R30078,R29816,R30234,18_0621851,R36431,R28703,mada_115,mada_2-42,R31095,R28012,R37765,R27657,R25048,R24120,R28581,R29598,mada_1-11,R24100,R21408,R20574,R20260,R18043,R22601,R23146,R32929,R21893,R30420,R26778,R26791,R28980,R27725,R18040,R27937,mada_1-30,mada_2-31,mada_1-41,R21770,R21839,mada_1-32,R30396,R21363,R20896,mada_102,mada_129,mada_139,mada_151,mada_105,R15311,mada_103,mada_2-25,mada_112,mada_124,mada_126,mada_120,R23571,mada_128,mada_1-12,mada_1-15,mada_2-1,mada_1-53,mada_1-50,mada_123,mada_2-53,mada_1-38,S0070-08,S0085-01,S0107-01,S0089-01,S0256-08,S0123-01,S0106-01,S0262-02\n"
     ]
    }
   ],
   "source": [
    "\n",
    "WGA158CI_AsmSummary_DF = pd.read_csv(MtbSetV3_151CI_AsmSumm_TSV, sep = \"\\t\")\n",
    "\n",
    "SampleIDs_158CI_SOI = list( WGA158CI_AsmSummary_DF[\"SampleID\"].values )\n",
    "WGA158CI_SampleIDs = SampleIDs_158CI_SOI\n",
    "\n",
    "print(','.join(SampleIDs_158CI_SOI) )\n",
    "\n",
    "ID_To_PrimLineage_Dict = dict(WGA158CI_AsmSummary_DF[['SampleID', 'PrimaryLineage']].values)\n",
    "ID_To_SubLineage_Dict = dict( WGA158CI_AsmSummary_DF[[\"SampleID\", \"Lineage\"]].values)\n",
    "ID_To_Dataset_Dict = dict(WGA158CI_AsmSummary_DF[['SampleID', 'Dataset_Tag']].values)\n"
   ]
  },
  {
   "cell_type": "markdown",
   "id": "9fb169a1-4b92-49c0-b2f0-9d42e57de0eb",
   "metadata": {},
   "source": [
    "## PARSE METADATA FOR ALL 158 assemblies processed by this pipeline"
   ]
  },
  {
   "cell_type": "code",
   "execution_count": 55,
   "id": "b2b51e2b",
   "metadata": {},
   "outputs": [
    {
     "data": {
      "text/plain": [
       "(151, 4)"
      ]
     },
     "execution_count": 55,
     "metadata": {},
     "output_type": "execute_result"
    }
   ],
   "source": [
    "\n",
    "WGA151CI_Asm_Path_DF = pd.read_csv(MtbSetV3_151CI_InputAsmPATHs_TSV, sep = \"\\t\")\n",
    "#WGA158CI_SampleIDs = list( WGA158CI_Asm_Path_DF[\"SampleID\"].values )\n",
    "WGA151CI_Asm_Path_DF.shape"
   ]
  },
  {
   "cell_type": "code",
   "execution_count": 56,
   "id": "c4173a21-70db-4192-9ece-87366187b831",
   "metadata": {},
   "outputs": [
    {
     "data": {
      "text/html": [
       "<div>\n",
       "<style scoped>\n",
       "    .dataframe tbody tr th:only-of-type {\n",
       "        vertical-align: middle;\n",
       "    }\n",
       "\n",
       "    .dataframe tbody tr th {\n",
       "        vertical-align: top;\n",
       "    }\n",
       "\n",
       "    .dataframe thead th {\n",
       "        text-align: right;\n",
       "    }\n",
       "</style>\n",
       "<table border=\"1\" class=\"dataframe\">\n",
       "  <thead>\n",
       "    <tr style=\"text-align: right;\">\n",
       "      <th></th>\n",
       "      <th>SampleID</th>\n",
       "      <th>Dataset_Tag</th>\n",
       "      <th>Genome_ASM_PATH</th>\n",
       "      <th>ShortRead_Genome_ASM_PATH</th>\n",
       "    </tr>\n",
       "  </thead>\n",
       "  <tbody>\n",
       "    <tr>\n",
       "      <th>0</th>\n",
       "      <td>N0072</td>\n",
       "      <td>ChinerOms_2019</td>\n",
       "      <td>/n/data1/hms/dbmi/farhat/mm774/Projects/231121.MtbSetV3.151CI.CompleteAndSR.Asms/ChinerOms_2019/N0072.LR.Asm.fasta</td>\n",
       "      <td>/n/data1/hms/dbmi/farhat/mm774/Projects/231121.MtbSetV3.151CI.CompleteAndSR.Asms/ChinerOms_2019/N0072.SR.Asm.fasta</td>\n",
       "    </tr>\n",
       "    <tr>\n",
       "      <th>1</th>\n",
       "      <td>N0153</td>\n",
       "      <td>ChinerOms_2019</td>\n",
       "      <td>/n/data1/hms/dbmi/farhat/mm774/Projects/231121.MtbSetV3.151CI.CompleteAndSR.Asms/ChinerOms_2019/N0153.LR.Asm.fasta</td>\n",
       "      <td>/n/data1/hms/dbmi/farhat/mm774/Projects/231121.MtbSetV3.151CI.CompleteAndSR.Asms/ChinerOms_2019/N0153.SR.Asm.fasta</td>\n",
       "    </tr>\n",
       "    <tr>\n",
       "      <th>2</th>\n",
       "      <td>TB3113</td>\n",
       "      <td>TB_Portals_24CI_R1</td>\n",
       "      <td>/n/data1/hms/dbmi/farhat/mm774/Projects/231121.MtbSetV3.151CI.CompleteAndSR.Asms/TB_Portals_24CI_R1/TB3113.LR.Asm.fasta</td>\n",
       "      <td>/n/data1/hms/dbmi/farhat/mm774/Projects/231121.MtbSetV3.151CI.CompleteAndSR.Asms/TB_Portals_24CI_R1/TB3113.SR.Asm.fasta</td>\n",
       "    </tr>\n",
       "    <tr>\n",
       "      <th>3</th>\n",
       "      <td>TB1236</td>\n",
       "      <td>TB_Portals_24CI_R1</td>\n",
       "      <td>/n/data1/hms/dbmi/farhat/mm774/Projects/231121.MtbSetV3.151CI.CompleteAndSR.Asms/TB_Portals_24CI_R1/TB1236.LR.Asm.fasta</td>\n",
       "      <td>/n/data1/hms/dbmi/farhat/mm774/Projects/231121.MtbSetV3.151CI.CompleteAndSR.Asms/TB_Portals_24CI_R1/TB1236.SR.Asm.fasta</td>\n",
       "    </tr>\n",
       "  </tbody>\n",
       "</table>\n",
       "</div>"
      ],
      "text/plain": [
       "  SampleID         Dataset_Tag                                                                                                          Genome_ASM_PATH                                                                                                ShortRead_Genome_ASM_PATH\n",
       "0    N0072      ChinerOms_2019       /n/data1/hms/dbmi/farhat/mm774/Projects/231121.MtbSetV3.151CI.CompleteAndSR.Asms/ChinerOms_2019/N0072.LR.Asm.fasta       /n/data1/hms/dbmi/farhat/mm774/Projects/231121.MtbSetV3.151CI.CompleteAndSR.Asms/ChinerOms_2019/N0072.SR.Asm.fasta\n",
       "1    N0153      ChinerOms_2019       /n/data1/hms/dbmi/farhat/mm774/Projects/231121.MtbSetV3.151CI.CompleteAndSR.Asms/ChinerOms_2019/N0153.LR.Asm.fasta       /n/data1/hms/dbmi/farhat/mm774/Projects/231121.MtbSetV3.151CI.CompleteAndSR.Asms/ChinerOms_2019/N0153.SR.Asm.fasta\n",
       "2   TB3113  TB_Portals_24CI_R1  /n/data1/hms/dbmi/farhat/mm774/Projects/231121.MtbSetV3.151CI.CompleteAndSR.Asms/TB_Portals_24CI_R1/TB3113.LR.Asm.fasta  /n/data1/hms/dbmi/farhat/mm774/Projects/231121.MtbSetV3.151CI.CompleteAndSR.Asms/TB_Portals_24CI_R1/TB3113.SR.Asm.fasta\n",
       "3   TB1236  TB_Portals_24CI_R1  /n/data1/hms/dbmi/farhat/mm774/Projects/231121.MtbSetV3.151CI.CompleteAndSR.Asms/TB_Portals_24CI_R1/TB1236.LR.Asm.fasta  /n/data1/hms/dbmi/farhat/mm774/Projects/231121.MtbSetV3.151CI.CompleteAndSR.Asms/TB_Portals_24CI_R1/TB1236.SR.Asm.fasta"
      ]
     },
     "execution_count": 56,
     "metadata": {},
     "output_type": "execute_result"
    }
   ],
   "source": [
    "WGA151CI_Asm_Path_DF.head(4)"
   ]
  },
  {
   "cell_type": "code",
   "execution_count": 57,
   "id": "f3a18947",
   "metadata": {},
   "outputs": [],
   "source": [
    "SampleID_To_LRAsmFA_PATH_Dict = dict(WGA151CI_Asm_Path_DF[['SampleID', 'Genome_ASM_PATH']].values)"
   ]
  },
  {
   "cell_type": "code",
   "execution_count": null,
   "id": "937ca3e7",
   "metadata": {},
   "outputs": [],
   "source": []
  },
  {
   "cell_type": "code",
   "execution_count": null,
   "id": "d01a664a-99b2-4ad2-bb5b-a74c5d5191f8",
   "metadata": {},
   "outputs": [],
   "source": []
  },
  {
   "cell_type": "code",
   "execution_count": null,
   "id": "7530d3f9",
   "metadata": {},
   "outputs": [],
   "source": []
  },
  {
   "cell_type": "markdown",
   "id": "f6e558ee",
   "metadata": {},
   "source": [
    "# Import/parse processed H37rv genome annotations"
   ]
  },
  {
   "cell_type": "code",
   "execution_count": 58,
   "id": "0d58eace",
   "metadata": {},
   "outputs": [],
   "source": [
    "RepoRef_Dir = \"../../References\"\n",
    "\n",
    "#ESX_Genes_List_TSV = f\"{RepoRef_Dir}/190927_H37rv_ListOf_ESXgenes.tsv\"\n",
    "\n",
    "AnnotatedGenes_And_IntergenicRegions_RepoRef_Dir = f\"{RepoRef_Dir}/201027_H37rv_AnnotatedGenes_And_IntergenicRegions\"\n",
    "H37Rv_GenomeAnnotations_Genes_TSV = f\"{AnnotatedGenes_And_IntergenicRegions_RepoRef_Dir}/H37Rv_GenomeAnnotations.Genes.tsv\"\n",
    "H37Rv_GenomeAnnotations_IntergenicRegions_TSV = f\"{AnnotatedGenes_And_IntergenicRegions_RepoRef_Dir}/H37Rv_GenomeAnnotations.IntergenicRegions.tsv\"\n",
    "H37Rv_GenomeAnnotations_Genes_And_IntergenicRegions_TSV = f\"{AnnotatedGenes_And_IntergenicRegions_RepoRef_Dir}/H37Rv_GenomeAnnotations.Genes.And.IntergenicRegions.tsv\"    \n",
    "H37Rv_GenomeAnnotations_Genes_And_IntergenicRegions_BED = f\"{AnnotatedGenes_And_IntergenicRegions_RepoRef_Dir}/H37Rv_GenomeAnnotations.Genes.And.IntergenicRegions.bed\"\n",
    "\n",
    "## H37Rv Gene Annotations TSV\n",
    "H37Rv_GenomeAnno_Genes_DF = pd.read_csv(H37Rv_GenomeAnnotations_Genes_TSV, sep = \"\\t\")\n",
    "H37Rv_GeneInfo_Subset_DF = H37Rv_GenomeAnno_Genes_DF[[\"H37rv_GeneID\", \"Symbol\", \"Feature\", \"Functional_Category\", \"Is_Pseudogene\", \"Product\", \"PEandPPE_Subfamily\", \"ExcludedGroup_Category\"]]\n",
    "\n",
    "RvID_To_Symbol_Dict = dict(H37Rv_GeneInfo_Subset_DF[['H37rv_GeneID', 'Symbol']].values)\n",
    "Symbol_To_FuncCat_Dict = dict(H37Rv_GeneInfo_Subset_DF[['Symbol', 'Functional_Category']].values)\n",
    "#Esx_Genes_DF = pd.read_csv(ESX_Genes_List_TSV, sep = '\\t')\n",
    "\n"
   ]
  },
  {
   "cell_type": "code",
   "execution_count": null,
   "id": "e14d1b5d",
   "metadata": {},
   "outputs": [],
   "source": []
  },
  {
   "cell_type": "markdown",
   "id": "ec0d1265-839e-4ff8-8d19-ba36709ce5bf",
   "metadata": {},
   "source": [
    "## Parse & Hash H37Rv K-mers"
   ]
  },
  {
   "cell_type": "code",
   "execution_count": 59,
   "id": "530d5d2f",
   "metadata": {},
   "outputs": [],
   "source": [
    "Mtb_RefDir=\"/n/data1/hms/dbmi/farhat/mm774/References\"\n",
    "H37rv_Ref_GBK_PATH = f\"{Mtb_RefDir}/GCF_000195955.2_ASM19595v2_genomic.gbk\"\n",
    "H37rv_Ref_FA_PATH = f\"{Mtb_RefDir}/GCF_000195955.2_ASM19595v2_genomic.fasta\"\n",
    "\n",
    "IS6110_Example_FA_PATH = f\"{Mtb_RefDir}/IS6110_From_Rv0795_Rv0796.DNA.fasta\"\n"
   ]
  },
  {
   "cell_type": "code",
   "execution_count": 60,
   "id": "bc8ba2a4",
   "metadata": {},
   "outputs": [],
   "source": [
    "#!ls -1 $Mtb_RefDir"
   ]
  },
  {
   "cell_type": "code",
   "execution_count": 61,
   "id": "265e0702",
   "metadata": {},
   "outputs": [],
   "source": [
    "H37Rv_kmers = read_kmers_from_file(H37rv_Ref_FA_PATH, 31)\n",
    "H37Rv_Hashes_UnqNP = hash_kmers_ToUnqNP(H37Rv_kmers)\n"
   ]
  },
  {
   "cell_type": "code",
   "execution_count": 62,
   "id": "32e9938d",
   "metadata": {},
   "outputs": [
    {
     "data": {
      "text/plain": [
       "['TTGACCGATGACCCCGGTTCAGGCTTCACCA',\n",
       " 'TGACCGATGACCCCGGTTCAGGCTTCACCAC',\n",
       " 'GACCGATGACCCCGGTTCAGGCTTCACCACA',\n",
       " 'ACCGATGACCCCGGTTCAGGCTTCACCACAG',\n",
       " 'CCGATGACCCCGGTTCAGGCTTCACCACAGT']"
      ]
     },
     "execution_count": 62,
     "metadata": {},
     "output_type": "execute_result"
    }
   ],
   "source": [
    "H37Rv_kmers[:5]"
   ]
  },
  {
   "cell_type": "code",
   "execution_count": 63,
   "id": "70e54157",
   "metadata": {},
   "outputs": [
    {
     "data": {
      "text/plain": [
       "array([2.11865533e+12, 2.60404038e+12, 1.03948083e+13, 1.07936883e+13,\n",
       "       1.31451542e+13])"
      ]
     },
     "execution_count": 63,
     "metadata": {},
     "output_type": "execute_result"
    }
   ],
   "source": [
    "H37Rv_Hashes_UnqNP[:5]"
   ]
  },
  {
   "cell_type": "code",
   "execution_count": 64,
   "id": "073a6a84",
   "metadata": {},
   "outputs": [
    {
     "data": {
      "text/plain": [
       "numpy.ndarray"
      ]
     },
     "execution_count": 64,
     "metadata": {},
     "output_type": "execute_result"
    }
   ],
   "source": [
    "type(H37Rv_Hashes_UnqNP)"
   ]
  },
  {
   "cell_type": "markdown",
   "id": "88ed56f3-a6e9-4749-bc6d-51c1c581dc5a",
   "metadata": {},
   "source": [
    "#### Read in IS6110 example K-mers (From Rv0795 & Rv0796)"
   ]
  },
  {
   "cell_type": "code",
   "execution_count": 65,
   "id": "9b797666",
   "metadata": {},
   "outputs": [],
   "source": [
    "IS6110_Ex1_kmers = read_kmers_from_file(IS6110_Example_FA_PATH, 31)\n",
    "IS6110_Ex1_Hashes_UnqNP = hash_kmers_ToUnqNP(IS6110_Ex1_kmers)\n"
   ]
  },
  {
   "cell_type": "markdown",
   "id": "28af2f4d-5da0-4dee-b4ce-cf5cba816095",
   "metadata": {},
   "source": [
    "### Process k-mers of representative isolates from different lineages "
   ]
  },
  {
   "cell_type": "code",
   "execution_count": 66,
   "id": "c8e4d010",
   "metadata": {},
   "outputs": [],
   "source": [
    "# Lin1_N0072_kmers = read_kmers_from_file(SampleTag_ToPaths_Dict['N0072'][\"LRAsm_Bakta_FNA\"], 31)\n",
    "# Lin1_N0072_kmer_hashes_UnqNP = hash_kmers_ToUnqNP(Lin1_N0072_kmers)\n",
    "     \n",
    "# Lin2_DNA028_kmers = read_kmers_from_file(SampleTag_ToPaths_Dict['DNA028'][\"LRAsm_Bakta_FNA\"], 31)\n",
    "# Lin2_DNA028_kmer_hashes_UnqNP = hash_kmers_ToUnqNP(Lin2_DNA028_kmers)\n",
    "       \n",
    "# Lin3_N1274_kmers = read_kmers_from_file(SampleTag_ToPaths_Dict['N1274'][\"LRAsm_Bakta_FNA\"], 31)\n",
    "# Lin3_N1274_kmer_hashes_UnqNP = hash_kmers_ToUnqNP(Lin3_N1274_kmers)\n",
    "   \n",
    "# Lin4_DNA124_kmers = read_kmers_from_file(SampleTag_ToPaths_Dict['DNA124'][\"LRAsm_Bakta_FNA\"], 31)\n",
    "#Lin4_DNA124_kmer_hashes_UnqNP = hash_kmers_ToUnqNP(Lin4_DNA124_kmers)\n",
    "\n",
    "#Lin5_N1272_kmers = read_kmers_from_file(SampleTag_ToPaths_Dict['N1272'][\"LRAsm_Bakta_FNA\"], 31)\n",
    "#Lin5_N1272_kmer_hashes_UnqNP = hash_kmers_ToUnqNP(Lin5_N1272_kmers)\n",
    "\n",
    "#Lin6_N1177_kmers = read_kmers_from_file(SampleTag_ToPaths_Dict['N1177'][\"LRAsm_Bakta_FNA\"], 31)\n",
    "#Lin6_N1177_kmer_hashes_UnqNP = hash_kmers_ToUnqNP(Lin6_N1177_kmers)\n",
    "\n",
    "#Lin8_RW_TB008_kmers = read_kmers_from_file(SampleTag_ToPaths_Dict['RW-TB008'][\"LRAsm_Bakta_FNA\"], 31)\n",
    "#Lin8_RW_TB008_kmer_hashes_UnqNP = hash_kmers_ToUnqNP(Lin8_RW_TB008_kmers)"
   ]
  },
  {
   "cell_type": "code",
   "execution_count": 67,
   "id": "85891177",
   "metadata": {},
   "outputs": [],
   "source": [
    "#Lin8_RW_TB008_kmer_hashes_UnqNP.shape"
   ]
  },
  {
   "cell_type": "code",
   "execution_count": 68,
   "id": "dfba35f4",
   "metadata": {},
   "outputs": [],
   "source": [
    "#jaccard_similarity(H37Rv_Hashes, N0072_kmer_hashes)"
   ]
  },
  {
   "cell_type": "code",
   "execution_count": 69,
   "id": "0208f321",
   "metadata": {},
   "outputs": [],
   "source": [
    "#jaccard_containment(H37Rv_Hashes, N0072_kmer_hashes)"
   ]
  },
  {
   "cell_type": "code",
   "execution_count": null,
   "id": "2336307b",
   "metadata": {},
   "outputs": [],
   "source": []
  },
  {
   "cell_type": "markdown",
   "id": "85c20dfe",
   "metadata": {},
   "source": [
    "# Parse H37Rv reference gene sequences (MycoBrowser Version)"
   ]
  },
  {
   "cell_type": "code",
   "execution_count": 70,
   "id": "02991404",
   "metadata": {},
   "outputs": [],
   "source": [
    "O2_RefDir = \"/n/data1/hms/dbmi/farhat/mm774/References\"\n",
    "MycoBrowser_RefFiles_Dir = f\"{O2_RefDir}/190619_Mycobrowser_H37rv_ReferenceFiles\"\n",
    "\n",
    "H37Rv_Genes_MycoBro_FA = f\"{MycoBrowser_RefFiles_Dir}/Mycobacterium_tuberculosis_H37Rv_genes_v3.fasta\"\n",
    "\n",
    "H37Rv_Proteins_MycoBro_FAA = f\"{MycoBrowser_RefFiles_Dir}/Mycobacterium_tuberculosis_H37Rv_proteins_v3_TrimmedHeader.fasta\"\n",
    "\n",
    "H37Rv_Proteins_NCBI_FAA = f\"{MycoBrowser_RefFiles_Dir}/Mycobacterium_tuberculosis_H37Rv_proteins_v3_TrimmedHeader.fasta\"\n",
    "\n",
    "H37Rv_FAA_PATH = f\"{O2_RefDir}/GCF_000195955.2_ASM19595v2_proteins.faa\"\n",
    "\n",
    "H37Rv_GBK_PATH = f\"{O2_RefDir}/GCF_000195955.2_ASM19595v2_genomic.gbk\""
   ]
  },
  {
   "cell_type": "code",
   "execution_count": 71,
   "id": "4a1c0a9b",
   "metadata": {},
   "outputs": [
    {
     "name": "stdout",
     "output_type": "stream",
     "text": [
      ">Rv0001|dnaA|CDS|1-1524|+|Chromosomal replication initiator protein DnaA\n"
     ]
    }
   ],
   "source": [
    "!grep ^\">\" $H37Rv_Genes_MycoBro_FA | grep \"dnaA\"\n"
   ]
  },
  {
   "cell_type": "code",
   "execution_count": 72,
   "id": "88b7b72d",
   "metadata": {},
   "outputs": [
    {
     "name": "stderr",
     "output_type": "stream",
     "text": [
      "4187it [00:31, 133.99it/s]\n"
     ]
    }
   ],
   "source": [
    "dictOf_H37Rv_MycoBrow_GeneSeq = {}\n",
    "dictOf_H37Rv_MycoBrow_GeneSeq_Rv = {}\n",
    "dictOf_H37Rv_MycoBrow_Gene_KmerHashes = {}\n",
    "\n",
    "\n",
    "for index, record in tqdm(enumerate(SeqIO.parse(H37Rv_Genes_MycoBro_FA, \"fasta\"))):\n",
    "    \n",
    "    RecordName = record.name\n",
    "    RvID = RecordName.split(\"|\")[0]\n",
    "\n",
    "    GeneID = RecordName.split(\"|\")[1]\n",
    "    S_Seq = str(record.seq).upper()\n",
    "    \n",
    "    dictOf_H37Rv_MycoBrow_GeneSeq[GeneID] = S_Seq\n",
    "    dictOf_H37Rv_MycoBrow_GeneSeq_Rv[RvID] = S_Seq\n",
    "    \n",
    "    record_Hashes_UnqNP = hash_kmers_ToUnqNP(build_kmers(S_Seq, 31))\n",
    "    dictOf_H37Rv_MycoBrow_Gene_KmerHashes[GeneID] = record_Hashes_UnqNP\n",
    "    "
   ]
  },
  {
   "cell_type": "code",
   "execution_count": 73,
   "id": "72ebd54d",
   "metadata": {},
   "outputs": [
    {
     "data": {
      "text/plain": [
       "'TTGACCGATGACCCCGGTTCAGGCTTCACCACAGTGTGGAACGCGGTCGTCTCCGAACTTAACGGCGACCCTAAGGTTGACGACGGACCCAGCAGTGATGCTAATCTCAGCGCTCCGCTGACCCCTCAGCAAAGGGCTTGGCTCAATCTCGTCCAGCCATTGACCATCGTCGAGGGGTTTGCTCTGTTATCCGTGCCGAGCAGCTTTGTCCAAAACGAAATCGAGCGCCATCTGCGGGCCCCGATTACCGACGCTCTCAGCCGCCGACTCGGACATCAGATCCAACTCGGGGTCCGCATCGCTCCGCCGGCGACCGACGAAGCCGACGACACTACCGTGCCGCCTTCCGAAAATCCTGCTACCACATCGCCAGACACCACAACCGACAACGACGAGATTGATGACAGCGCTGCGGCACGGGGCGATAACCAGCACAGTTGGCCAAGTTACTTCACCGAGCGCCCGCACAATACCGATTCCGCTACCGCTGGCGTAACCAGCCTTAACCGTCGCTACACCTTTGATACGTTCGTTATCGGCGCCTCCAACCGGTTCGCGCACGCCGCCGCCTTGGCGATCGCAGAAGCACCCGCCCGCGCTTACAACCCCCTGTTCATCTGGGGCGAGTCCGGTCTCGGCAAGACACACCTGCTACACGCGGCAGGCAACTATGCCCAACGGTTGTTCCCGGGAATGCGGGTCAAATATGTCTCCACCGAGGAATTCACCAACGACTTCATTAACTCGCTCCGCGATGACCGCAAGGTCGCATTCAAACGCAGCTACCGCGACGTAGACGTGCTGTTGGTCGACGACATCCAATTCATTGAAGGCAAAGAGGGTATTCAAGAGGAGTTCTTCCACACCTTCAACACCTTGCACAATGCCAACAAGCAAATCGTCATCTCATCTGACCGCCCACCCAAGCAGCTCGCCACCCTCGAGGACCGGCTGAGAACCCGCTTTGAGTGGGGGCTGATCACTGACGTACAACCACCCGAGCTGGAGACCCGCATCGCCATCTTGCGCAAGAAAGCACAGATGGAACGGCTCGCGGTCCCCGACGATGTCCTCGAACTCATCGCCAGCAGTATCGAACGCAATATCCGTGAACTCGAGGGCGCGCTGATCCGGGTCACCGCGTTCGCCTCATTGAACAAAACACCAATCGACAAAGCGCTGGCCGAGATTGTGCTTCGCGATCTGATCGCCGACGCCAACACCATGCAAATCAGCGCGGCGACGATCATGGCTGCCACCGCCGAATACTTCGACACTACCGTCGAAGAGCTTCGCGGGCCCGGCAAGACCCGAGCACTGGCCCAGTCACGACAGATTGCGATGTACCTGTGTCGTGAGCTCACCGATCTTTCGTTGCCCAAAATCGGCCAAGCGTTCGGCCGTGATCACACAACCGTCATGTACGCCCAACGCAAGATCCTGTCCGAGATGGCCGAGCGCCGTGAGGTCTTTGATCACGTCAAAGAACTCACCACTCGCATCCGTCAGCGCTCCAAGCGCTAG'"
      ]
     },
     "execution_count": 73,
     "metadata": {},
     "output_type": "execute_result"
    }
   ],
   "source": [
    "dictOf_H37Rv_MycoBrow_GeneSeq[\"dnaA\"]"
   ]
  },
  {
   "cell_type": "code",
   "execution_count": 74,
   "id": "ad201399",
   "metadata": {},
   "outputs": [
    {
     "data": {
      "text/plain": [
       "'TTGACCGATGACCCCGGTTCAGGCTTCACCACAGTGTGGAACGCGGTCGTCTCCGAACTTAACGGCGACCCTAAGGTTGACGACGGACCCAGCAGTGATGCTAATCTCAGCGCTCCGCTGACCCCTCAGCAAAGGGCTTGGCTCAATCTCGTCCAGCCATTGACCATCGTCGAGGGGTTTGCTCTGTTATCCGTGCCGAGCAGCTTTGTCCAAAACGAAATCGAGCGCCATCTGCGGGCCCCGATTACCGACGCTCTCAGCCGCCGACTCGGACATCAGATCCAACTCGGGGTCCGCATCGCTCCGCCGGCGACCGACGAAGCCGACGACACTACCGTGCCGCCTTCCGAAAATCCTGCTACCACATCGCCAGACACCACAACCGACAACGACGAGATTGATGACAGCGCTGCGGCACGGGGCGATAACCAGCACAGTTGGCCAAGTTACTTCACCGAGCGCCCGCACAATACCGATTCCGCTACCGCTGGCGTAACCAGCCTTAACCGTCGCTACACCTTTGATACGTTCGTTATCGGCGCCTCCAACCGGTTCGCGCACGCCGCCGCCTTGGCGATCGCAGAAGCACCCGCCCGCGCTTACAACCCCCTGTTCATCTGGGGCGAGTCCGGTCTCGGCAAGACACACCTGCTACACGCGGCAGGCAACTATGCCCAACGGTTGTTCCCGGGAATGCGGGTCAAATATGTCTCCACCGAGGAATTCACCAACGACTTCATTAACTCGCTCCGCGATGACCGCAAGGTCGCATTCAAACGCAGCTACCGCGACGTAGACGTGCTGTTGGTCGACGACATCCAATTCATTGAAGGCAAAGAGGGTATTCAAGAGGAGTTCTTCCACACCTTCAACACCTTGCACAATGCCAACAAGCAAATCGTCATCTCATCTGACCGCCCACCCAAGCAGCTCGCCACCCTCGAGGACCGGCTGAGAACCCGCTTTGAGTGGGGGCTGATCACTGACGTACAACCACCCGAGCTGGAGACCCGCATCGCCATCTTGCGCAAGAAAGCACAGATGGAACGGCTCGCGGTCCCCGACGATGTCCTCGAACTCATCGCCAGCAGTATCGAACGCAATATCCGTGAACTCGAGGGCGCGCTGATCCGGGTCACCGCGTTCGCCTCATTGAACAAAACACCAATCGACAAAGCGCTGGCCGAGATTGTGCTTCGCGATCTGATCGCCGACGCCAACACCATGCAAATCAGCGCGGCGACGATCATGGCTGCCACCGCCGAATACTTCGACACTACCGTCGAAGAGCTTCGCGGGCCCGGCAAGACCCGAGCACTGGCCCAGTCACGACAGATTGCGATGTACCTGTGTCGTGAGCTCACCGATCTTTCGTTGCCCAAAATCGGCCAAGCGTTCGGCCGTGATCACACAACCGTCATGTACGCCCAACGCAAGATCCTGTCCGAGATGGCCGAGCGCCGTGAGGTCTTTGATCACGTCAAAGAACTCACCACTCGCATCCGTCAGCGCTCCAAGCGCTAG'"
      ]
     },
     "execution_count": 74,
     "metadata": {},
     "output_type": "execute_result"
    }
   ],
   "source": [
    "dictOf_H37Rv_MycoBrow_GeneSeq_Rv[\"Rv0001\"]"
   ]
  },
  {
   "cell_type": "code",
   "execution_count": null,
   "id": "a28ee298",
   "metadata": {},
   "outputs": [],
   "source": []
  },
  {
   "cell_type": "code",
   "execution_count": null,
   "id": "158da9ae-5bd3-4f64-acd3-cffc72768c60",
   "metadata": {},
   "outputs": [],
   "source": []
  },
  {
   "cell_type": "code",
   "execution_count": null,
   "id": "dd0fa4a5-57aa-4761-b646-7d950c53d27a",
   "metadata": {},
   "outputs": [],
   "source": []
  },
  {
   "cell_type": "markdown",
   "id": "f1834ed7-16c2-4158-bef5-6e61fba2be0b",
   "metadata": {},
   "source": [
    "# Generate array of all 31-mers in annotated MGEs in H37Rv genome"
   ]
  },
  {
   "cell_type": "markdown",
   "id": "8231ada6",
   "metadata": {},
   "source": [
    "## a) Create DF for only MGEs (Insertion seqs + Phages)"
   ]
  },
  {
   "cell_type": "code",
   "execution_count": 75,
   "id": "dce1710f",
   "metadata": {},
   "outputs": [
    {
     "data": {
      "text/html": [
       "<div>\n",
       "<style scoped>\n",
       "    .dataframe tbody tr th:only-of-type {\n",
       "        vertical-align: middle;\n",
       "    }\n",
       "\n",
       "    .dataframe tbody tr th {\n",
       "        vertical-align: top;\n",
       "    }\n",
       "\n",
       "    .dataframe thead th {\n",
       "        text-align: right;\n",
       "    }\n",
       "</style>\n",
       "<table border=\"1\" class=\"dataframe\">\n",
       "  <thead>\n",
       "    <tr style=\"text-align: right;\">\n",
       "      <th></th>\n",
       "      <th>Chrom</th>\n",
       "      <th>Start</th>\n",
       "      <th>End</th>\n",
       "      <th>Strand</th>\n",
       "      <th>H37rv_GeneID</th>\n",
       "      <th>Symbol</th>\n",
       "      <th>Feature</th>\n",
       "      <th>Functional_Category</th>\n",
       "      <th>Is_Pseudogene</th>\n",
       "      <th>Product</th>\n",
       "      <th>PEandPPE_Subfamily</th>\n",
       "      <th>ExcludedGroup_Category</th>\n",
       "    </tr>\n",
       "  </thead>\n",
       "  <tbody>\n",
       "    <tr>\n",
       "      <th>0</th>\n",
       "      <td>NC_000962.3</td>\n",
       "      <td>0</td>\n",
       "      <td>1524</td>\n",
       "      <td>+</td>\n",
       "      <td>Rv0001</td>\n",
       "      <td>dnaA</td>\n",
       "      <td>CDS</td>\n",
       "      <td>information pathways</td>\n",
       "      <td>No</td>\n",
       "      <td>Chromosomal replication initiator protein DnaA</td>\n",
       "      <td>None</td>\n",
       "      <td>NotExcluded</td>\n",
       "    </tr>\n",
       "  </tbody>\n",
       "</table>\n",
       "</div>"
      ],
      "text/plain": [
       "         Chrom  Start   End Strand H37rv_GeneID Symbol Feature   Functional_Category Is_Pseudogene                                         Product PEandPPE_Subfamily ExcludedGroup_Category\n",
       "0  NC_000962.3      0  1524      +       Rv0001   dnaA     CDS  information pathways            No  Chromosomal replication initiator protein DnaA               None            NotExcluded"
      ]
     },
     "execution_count": 75,
     "metadata": {},
     "output_type": "execute_result"
    }
   ],
   "source": [
    "H37Rv_GenomeAnno_Genes_DF.head(1)"
   ]
  },
  {
   "cell_type": "code",
   "execution_count": 76,
   "id": "0ba09272",
   "metadata": {},
   "outputs": [
    {
     "data": {
      "text/plain": [
       "(147, 12)"
      ]
     },
     "execution_count": 76,
     "metadata": {},
     "output_type": "execute_result"
    }
   ],
   "source": [
    "H37Rv_Anno_InsSeqAndPhages_DF = H37Rv_GenomeAnno_Genes_DF.query(\"Functional_Category == 'insertion seqs and phages'\")     \n",
    "H37Rv_Anno_InsSeqAndPhages_DF.shape\n",
    "                                                               "
   ]
  },
  {
   "cell_type": "code",
   "execution_count": 77,
   "id": "eefe024c",
   "metadata": {},
   "outputs": [
    {
     "data": {
      "text/html": [
       "<div>\n",
       "<style scoped>\n",
       "    .dataframe tbody tr th:only-of-type {\n",
       "        vertical-align: middle;\n",
       "    }\n",
       "\n",
       "    .dataframe tbody tr th {\n",
       "        vertical-align: top;\n",
       "    }\n",
       "\n",
       "    .dataframe thead th {\n",
       "        text-align: right;\n",
       "    }\n",
       "</style>\n",
       "<table border=\"1\" class=\"dataframe\">\n",
       "  <thead>\n",
       "    <tr style=\"text-align: right;\">\n",
       "      <th></th>\n",
       "      <th>Chrom</th>\n",
       "      <th>Start</th>\n",
       "      <th>End</th>\n",
       "      <th>Strand</th>\n",
       "      <th>H37rv_GeneID</th>\n",
       "      <th>Symbol</th>\n",
       "      <th>Feature</th>\n",
       "      <th>Functional_Category</th>\n",
       "      <th>Is_Pseudogene</th>\n",
       "      <th>Product</th>\n",
       "      <th>PEandPPE_Subfamily</th>\n",
       "      <th>ExcludedGroup_Category</th>\n",
       "    </tr>\n",
       "  </thead>\n",
       "  <tbody>\n",
       "    <tr>\n",
       "      <th>33</th>\n",
       "      <td>NC_000962.3</td>\n",
       "      <td>33581</td>\n",
       "      <td>33794</td>\n",
       "      <td>+</td>\n",
       "      <td>Rv0031</td>\n",
       "      <td>Rv0031</td>\n",
       "      <td>CDS</td>\n",
       "      <td>insertion seqs and phages</td>\n",
       "      <td>No</td>\n",
       "      <td>Possible remnant of a transposase</td>\n",
       "      <td>None</td>\n",
       "      <td>InsertionSeqs_And_Phages</td>\n",
       "    </tr>\n",
       "    <tr>\n",
       "      <th>99</th>\n",
       "      <td>NC_000962.3</td>\n",
       "      <td>103709</td>\n",
       "      <td>104663</td>\n",
       "      <td>-</td>\n",
       "      <td>Rv0094c</td>\n",
       "      <td>Rv0094c</td>\n",
       "      <td>CDS</td>\n",
       "      <td>insertion seqs and phages</td>\n",
       "      <td>No</td>\n",
       "      <td>Conserved hypothetical protein</td>\n",
       "      <td>None</td>\n",
       "      <td>InsertionSeqs_And_Phages</td>\n",
       "    </tr>\n",
       "  </tbody>\n",
       "</table>\n",
       "</div>"
      ],
      "text/plain": [
       "          Chrom   Start     End Strand H37rv_GeneID   Symbol Feature        Functional_Category Is_Pseudogene                            Product PEandPPE_Subfamily    ExcludedGroup_Category\n",
       "33  NC_000962.3   33581   33794      +       Rv0031   Rv0031     CDS  insertion seqs and phages            No  Possible remnant of a transposase               None  InsertionSeqs_And_Phages\n",
       "99  NC_000962.3  103709  104663      -      Rv0094c  Rv0094c     CDS  insertion seqs and phages            No     Conserved hypothetical protein               None  InsertionSeqs_And_Phages"
      ]
     },
     "execution_count": 77,
     "metadata": {},
     "output_type": "execute_result"
    }
   ],
   "source": [
    "H37Rv_Anno_InsSeqAndPhages_DF.head(2)"
   ]
  },
  {
   "cell_type": "code",
   "execution_count": 78,
   "id": "be1d477e",
   "metadata": {},
   "outputs": [
    {
     "data": {
      "text/plain": [
       "147"
      ]
     },
     "execution_count": 78,
     "metadata": {},
     "output_type": "execute_result"
    }
   ],
   "source": [
    "InsSeqAndPhages_GeneIDs = H37Rv_Anno_InsSeqAndPhages_DF[\"Symbol\"].values\n",
    "len(InsSeqAndPhages_GeneIDs)"
   ]
  },
  {
   "cell_type": "code",
   "execution_count": 79,
   "id": "a66e745a",
   "metadata": {},
   "outputs": [
    {
     "data": {
      "text/plain": [
       "array(['Rv0031', 'Rv0094c', 'Rv0095c', 'Rv0336', 'Rv0393'], dtype=object)"
      ]
     },
     "execution_count": 79,
     "metadata": {},
     "output_type": "execute_result"
    }
   ],
   "source": [
    "InsSeqAndPhages_GeneIDs[:5]"
   ]
  },
  {
   "cell_type": "code",
   "execution_count": 80,
   "id": "3aee6a5f",
   "metadata": {},
   "outputs": [
    {
     "data": {
      "text/plain": [
       "(183,)"
      ]
     },
     "execution_count": 80,
     "metadata": {},
     "output_type": "execute_result"
    }
   ],
   "source": [
    "dictOf_H37Rv_MycoBrow_Gene_KmerHashes[\"Rv0031\"].shape"
   ]
  },
  {
   "cell_type": "code",
   "execution_count": null,
   "id": "c6ba86b2-dedb-4d5f-9f92-5470d3ef758a",
   "metadata": {},
   "outputs": [],
   "source": []
  },
  {
   "cell_type": "code",
   "execution_count": null,
   "id": "24a2552b-ba43-48e2-b36d-77f180d2100f",
   "metadata": {},
   "outputs": [],
   "source": []
  },
  {
   "cell_type": "markdown",
   "id": "3ed9e8bd-2780-412e-a7e5-bb4a78fcf1da",
   "metadata": {},
   "source": [
    "## b) Create a NP array of all 31 bp k-mer hashes for MGEs"
   ]
  },
  {
   "cell_type": "code",
   "execution_count": 81,
   "id": "7ee4205a-8341-4689-8831-758babb522ea",
   "metadata": {},
   "outputs": [
    {
     "data": {
      "text/plain": [
       "(147,)"
      ]
     },
     "execution_count": 81,
     "metadata": {},
     "output_type": "execute_result"
    }
   ],
   "source": [
    "InsSeqAndPhages_GeneIDs.shape"
   ]
  },
  {
   "cell_type": "code",
   "execution_count": 82,
   "id": "9076938e-30cb-47e0-b080-7aabe5292bd1",
   "metadata": {},
   "outputs": [
    {
     "data": {
      "text/plain": [
       "array(['Rv0031', 'Rv0094c', 'Rv0095c', 'Rv0336', 'Rv0393', 'Rv0397',\n",
       "       'Rv0515', 'Rv0605', 'Rv0606', 'Rv0741', 'Rv0755A', 'Rv0795',\n",
       "       'Rv0796', 'Rv0797', 'Rv0829', 'Rv0850', 'Rv0920c', 'Rv0921',\n",
       "       'Rv0922', 'Rv1034c', 'Rv1035c', 'Rv1036c', 'Rv1041c', 'Rv1042c',\n",
       "       'Rv1047', 'Rv1054', 'Rv1055', 'Rv1128c', 'Rv1148c', 'Rv1149',\n",
       "       'Rv1150', 'Rv1199c', 'Rv1313c', 'Rv1369c', 'Rv1370c', 'Rv1572c',\n",
       "       'Rv1573', 'Rv1574', 'Rv1575', 'Rv1576c', 'Rv1577c', 'Rv1578c',\n",
       "       'Rv1579c', 'Rv1580c', 'Rv1581c', 'Rv1582c', 'Rv1583c', 'Rv1584c',\n",
       "       'Rv1585c', 'Rv1586c', 'Rv1587c', 'Rv1588c', 'Rv1701', 'Rv1702c',\n",
       "       'Rv1756c', 'Rv1757c', 'Rv1763', 'Rv1764', 'Rv1765A', 'Rv1945',\n",
       "       'Rv2013', 'Rv2014', 'Rv2085', 'Rv2086', 'Rv2087', 'Rv2100',\n",
       "       'Rv2105', 'Rv2106', 'Rv2167c', 'Rv2168c', 'Rv2177c', 'Rv2278',\n",
       "       'Rv2279', 'Rv2309c', 'Rv2310', 'Rv2354', 'Rv2355', 'Rv2424c',\n",
       "       'Rv2479c', 'Rv2480c', 'Rv2512c', 'Rv2646', 'Rv2647', 'Rv2648',\n",
       "       'Rv2649', 'Rv2650c', 'Rv2651c', 'Rv2652c', 'Rv2653c', 'Rv2654c',\n",
       "       'Rv2655c', 'Rv2656c', 'Rv2657c', 'Rv2658c', 'Rv2659c', 'Rv2666',\n",
       "       'Rv2791c', 'Rv2792c', 'Rv2810c', 'Rv2812', 'Rv2814c', 'Rv2815c',\n",
       "       'Rv2885c', 'Rv2886c', 'xerC', 'Rv2943', 'Rv2943A', 'Rv2944',\n",
       "       'Rv2961', 'Rv2978c', 'Rv2979c', 'Rv3023c', 'Rv3115', 'Rv3184',\n",
       "       'Rv3185', 'Rv3186', 'Rv3187', 'Rv3191c', 'Rv3325', 'Rv3326',\n",
       "       'Rv3327', 'Rv3348', 'Rv3349c', 'Rv3380c', 'Rv3381c', 'Rv3386',\n",
       "       'Rv3387', 'Rv3427c', 'Rv3428c', 'Rv3430c', 'Rv3431c', 'Rv3466',\n",
       "       'Rv3467', 'Rv3474', 'Rv3475', 'Rv3636', 'Rv3637', 'Rv3638',\n",
       "       'Rv3640c', 'Rv3750c', 'Rv3751', 'Rv3770A', 'Rv3770B', 'Rv3798',\n",
       "       'Rv3827c', 'Rv3828c', 'Rv3844'], dtype=object)"
      ]
     },
     "execution_count": 82,
     "metadata": {},
     "output_type": "execute_result"
    }
   ],
   "source": [
    "InsSeqAndPhages_GeneIDs"
   ]
  },
  {
   "cell_type": "code",
   "execution_count": 83,
   "id": "2744e554",
   "metadata": {},
   "outputs": [],
   "source": [
    "Rv_MGEs_Hashes_List = []\n",
    "\n",
    "ListOfAll_Rv_MGE_Hashes_list = []\n",
    "\n",
    "for i_GeneID, i_Hashes in dictOf_H37Rv_MycoBrow_Gene_KmerHashes.items():\n",
    "\n",
    "    if i_GeneID in InsSeqAndPhages_GeneIDs:\n",
    "        Rv_MGEs_Hashes_List.append(i_Hashes)\n",
    "        ListOfAll_Rv_MGE_Hashes_list += list(i_Hashes)\n",
    "        \n",
    "Rv_MGEs_Hashes_NP = np.unique(np.concatenate(Rv_MGEs_Hashes_List))\n"
   ]
  },
  {
   "cell_type": "code",
   "execution_count": 84,
   "id": "507490b4-6f43-4fd3-b762-8bbe126c2df8",
   "metadata": {},
   "outputs": [
    {
     "data": {
      "text/plain": [
       "104238"
      ]
     },
     "execution_count": 84,
     "metadata": {},
     "output_type": "execute_result"
    }
   ],
   "source": [
    "len(ListOfAll_Rv_MGE_Hashes_list)"
   ]
  },
  {
   "cell_type": "code",
   "execution_count": 85,
   "id": "a33bc39e-6fc5-4b64-a850-4219d36e5820",
   "metadata": {},
   "outputs": [
    {
     "data": {
      "text/plain": [
       "147"
      ]
     },
     "execution_count": 85,
     "metadata": {},
     "output_type": "execute_result"
    }
   ],
   "source": [
    "len(Rv_MGEs_Hashes_List)"
   ]
  },
  {
   "cell_type": "code",
   "execution_count": 86,
   "id": "7d27094f",
   "metadata": {},
   "outputs": [
    {
     "data": {
      "text/plain": [
       "(69102,)"
      ]
     },
     "execution_count": 86,
     "metadata": {},
     "output_type": "execute_result"
    }
   ],
   "source": [
    "Rv_MGEs_Hashes_NP.shape"
   ]
  },
  {
   "cell_type": "code",
   "execution_count": null,
   "id": "c6721904-8441-4259-864a-20cf4ac22e10",
   "metadata": {},
   "outputs": [],
   "source": []
  },
  {
   "cell_type": "markdown",
   "id": "33a92976-6116-4446-9c6e-af4e5a8d1621",
   "metadata": {},
   "source": [
    "### Look at Jaccard Containment between H37Rv and Rv_MGEs"
   ]
  },
  {
   "cell_type": "code",
   "execution_count": null,
   "id": "d559ece8-8fb1-46e8-bae4-6660675a7e01",
   "metadata": {},
   "outputs": [],
   "source": []
  },
  {
   "cell_type": "code",
   "execution_count": 87,
   "id": "9a04c816-bcf4-49d4-98b6-bc98321329f7",
   "metadata": {},
   "outputs": [
    {
     "data": {
      "text/plain": [
       "array([8.12529937e+13, 1.19999884e+14, 5.08258766e+14, ...,\n",
       "       1.84461311e+19, 1.84466019e+19, 1.84467278e+19])"
      ]
     },
     "execution_count": 87,
     "metadata": {},
     "output_type": "execute_result"
    }
   ],
   "source": [
    "Rv_MGEs_Hashes_NP"
   ]
  },
  {
   "cell_type": "code",
   "execution_count": 88,
   "id": "88e2c6ac-b4d7-4abb-9746-093ef422adf4",
   "metadata": {},
   "outputs": [
    {
     "data": {
      "text/plain": [
       "array([2.11865533e+12, 2.60404038e+12, 1.03948083e+13, ...,\n",
       "       1.84467278e+19, 1.84467284e+19, 1.84467438e+19])"
      ]
     },
     "execution_count": 88,
     "metadata": {},
     "output_type": "execute_result"
    }
   ],
   "source": [
    "H37Rv_Hashes_UnqNP"
   ]
  },
  {
   "cell_type": "code",
   "execution_count": 89,
   "id": "c36a0da3-d12c-4de4-b456-9469bb775241",
   "metadata": {},
   "outputs": [
    {
     "data": {
      "text/plain": [
       "1.0"
      ]
     },
     "execution_count": 89,
     "metadata": {},
     "output_type": "execute_result"
    }
   ],
   "source": [
    "jaccard_containment_FromUnqHashes_WiNP(Rv_MGEs_Hashes_NP, H37Rv_Hashes_UnqNP)"
   ]
  },
  {
   "cell_type": "code",
   "execution_count": 90,
   "id": "122acba1-e765-4b86-bdc5-540a4d67ace7",
   "metadata": {},
   "outputs": [
    {
     "data": {
      "text/plain": [
       "0.01589562466616704"
      ]
     },
     "execution_count": 90,
     "metadata": {},
     "output_type": "execute_result"
    }
   ],
   "source": [
    "jaccard_containment_FromUnqHashes_WiNP(H37Rv_Hashes_UnqNP, Rv_MGEs_Hashes_NP)"
   ]
  },
  {
   "cell_type": "code",
   "execution_count": 91,
   "id": "b832b7ae-13ac-40f7-8697-121551856444",
   "metadata": {},
   "outputs": [
    {
     "data": {
      "text/plain": [
       "0.01589562466616704"
      ]
     },
     "execution_count": 91,
     "metadata": {},
     "output_type": "execute_result"
    }
   ],
   "source": [
    "jaccard_similarity_FromUnqHashes_WiNP(H37Rv_Hashes_UnqNP, Rv_MGEs_Hashes_NP)"
   ]
  },
  {
   "cell_type": "code",
   "execution_count": 92,
   "id": "6e8f0a8e-3f02-49dc-a860-3f87249b15fb",
   "metadata": {},
   "outputs": [
    {
     "data": {
      "text/plain": [
       "0.01589562466616704"
      ]
     },
     "execution_count": 92,
     "metadata": {},
     "output_type": "execute_result"
    }
   ],
   "source": [
    "jaccard_similarity_FromUnqHashes_WiNP(Rv_MGEs_Hashes_NP, H37Rv_Hashes_UnqNP)"
   ]
  },
  {
   "cell_type": "code",
   "execution_count": null,
   "id": "72b4e839-4d0c-4e8d-bb3c-b4606611b64e",
   "metadata": {},
   "outputs": [],
   "source": []
  },
  {
   "cell_type": "code",
   "execution_count": 93,
   "id": "89aca1cd-edac-4408-8347-a973c7a103ca",
   "metadata": {},
   "outputs": [
    {
     "data": {
      "text/plain": [
       "1.0"
      ]
     },
     "execution_count": 93,
     "metadata": {},
     "output_type": "execute_result"
    }
   ],
   "source": [
    "jaccard_containment_FromUnqHashes_WiNP(dictOf_H37Rv_MycoBrow_Gene_KmerHashes[\"Rv0031\"], H37Rv_Hashes_UnqNP)"
   ]
  },
  {
   "cell_type": "code",
   "execution_count": 94,
   "id": "38a3171d-8610-46f0-a3e2-a97908a82f91",
   "metadata": {},
   "outputs": [
    {
     "data": {
      "text/plain": [
       "1.0"
      ]
     },
     "execution_count": 94,
     "metadata": {},
     "output_type": "execute_result"
    }
   ],
   "source": [
    "jaccard_containment_FromUnqHashes_WiNP(dictOf_H37Rv_MycoBrow_Gene_KmerHashes[\"dnaA\"], H37Rv_Hashes_UnqNP)"
   ]
  },
  {
   "cell_type": "code",
   "execution_count": null,
   "id": "6d185106-fc3c-4a0f-81c6-faeb79f8d89e",
   "metadata": {},
   "outputs": [],
   "source": []
  },
  {
   "cell_type": "code",
   "execution_count": 95,
   "id": "bdbb28a4-d7be-4953-b0c1-e50bfeacce64",
   "metadata": {},
   "outputs": [
    {
     "data": {
      "text/plain": [
       "1.0"
      ]
     },
     "execution_count": 95,
     "metadata": {},
     "output_type": "execute_result"
    }
   ],
   "source": [
    "jaccard_containment_FromUnqHashes_WiNP(dictOf_H37Rv_MycoBrow_Gene_KmerHashes[\"Rv0031\"], H37Rv_Hashes_UnqNP)"
   ]
  },
  {
   "cell_type": "code",
   "execution_count": null,
   "id": "676ca601-b79c-4d39-890b-de9e825b26af",
   "metadata": {},
   "outputs": [],
   "source": []
  },
  {
   "cell_type": "code",
   "execution_count": 96,
   "id": "df6aaffa-236d-41f7-84f9-61efe8ffb8d1",
   "metadata": {},
   "outputs": [
    {
     "data": {
      "text/plain": [
       "1.0"
      ]
     },
     "execution_count": 96,
     "metadata": {},
     "output_type": "execute_result"
    }
   ],
   "source": [
    "jaccard_containment_FromUnqHashes_WiNP(dictOf_H37Rv_MycoBrow_Gene_KmerHashes[\"dnaA\"], dictOf_H37Rv_MycoBrow_Gene_KmerHashes[\"dnaA\"])"
   ]
  },
  {
   "cell_type": "code",
   "execution_count": 97,
   "id": "7f5f651e-5fb7-4b3d-82f8-dab99880d2ec",
   "metadata": {},
   "outputs": [
    {
     "data": {
      "text/plain": [
       "1.0"
      ]
     },
     "execution_count": 97,
     "metadata": {},
     "output_type": "execute_result"
    }
   ],
   "source": [
    "jaccard_containment_FromUnqHashes_WiNP(IS6110_Ex1_Hashes_UnqNP, H37Rv_Hashes_UnqNP)"
   ]
  },
  {
   "cell_type": "code",
   "execution_count": 98,
   "id": "ff320a21-f7ca-4ba0-8de7-23799089c449",
   "metadata": {},
   "outputs": [],
   "source": [
    "# Rv0795 & Rv0796"
   ]
  },
  {
   "cell_type": "code",
   "execution_count": 99,
   "id": "357a1248-45f4-405b-a11a-bea78f6363fb",
   "metadata": {},
   "outputs": [
    {
     "data": {
      "text/plain": [
       "1.0"
      ]
     },
     "execution_count": 99,
     "metadata": {},
     "output_type": "execute_result"
    }
   ],
   "source": [
    "jaccard_containment_FromUnqHashes_WiNP(dictOf_H37Rv_MycoBrow_Gene_KmerHashes[\"Rv0795\"], IS6110_Ex1_Hashes_UnqNP)"
   ]
  },
  {
   "cell_type": "code",
   "execution_count": 100,
   "id": "cc25dff8-c080-469d-a748-625653966f2f",
   "metadata": {},
   "outputs": [
    {
     "data": {
      "text/plain": [
       "1.0"
      ]
     },
     "execution_count": 100,
     "metadata": {},
     "output_type": "execute_result"
    }
   ],
   "source": [
    "jaccard_containment_FromUnqHashes_WiNP(dictOf_H37Rv_MycoBrow_Gene_KmerHashes[\"Rv0796\"], IS6110_Ex1_Hashes_UnqNP)"
   ]
  },
  {
   "cell_type": "code",
   "execution_count": null,
   "id": "16532afa-1013-4809-905b-4cc616ff560d",
   "metadata": {},
   "outputs": [],
   "source": []
  },
  {
   "cell_type": "code",
   "execution_count": null,
   "id": "4a94b726-fb1a-4760-aca4-49288f41f7bd",
   "metadata": {},
   "outputs": [],
   "source": []
  },
  {
   "cell_type": "code",
   "execution_count": null,
   "id": "cee8dd77-5a52-4205-a354-550999b35c81",
   "metadata": {},
   "outputs": [],
   "source": []
  },
  {
   "cell_type": "markdown",
   "id": "9a7c6cbd-3c1b-4f2d-84d5-c42713e56673",
   "metadata": {},
   "source": [
    "## c) Extra exploration of MGE gene annotations"
   ]
  },
  {
   "cell_type": "code",
   "execution_count": 101,
   "id": "8bfd5f7b-88ea-4129-a875-7e4080791a9c",
   "metadata": {},
   "outputs": [
    {
     "data": {
      "text/html": [
       "<div>\n",
       "<style scoped>\n",
       "    .dataframe tbody tr th:only-of-type {\n",
       "        vertical-align: middle;\n",
       "    }\n",
       "\n",
       "    .dataframe tbody tr th {\n",
       "        vertical-align: top;\n",
       "    }\n",
       "\n",
       "    .dataframe thead th {\n",
       "        text-align: right;\n",
       "    }\n",
       "</style>\n",
       "<table border=\"1\" class=\"dataframe\">\n",
       "  <thead>\n",
       "    <tr style=\"text-align: right;\">\n",
       "      <th></th>\n",
       "      <th>Chrom</th>\n",
       "      <th>Start</th>\n",
       "      <th>End</th>\n",
       "      <th>Strand</th>\n",
       "      <th>H37rv_GeneID</th>\n",
       "      <th>Symbol</th>\n",
       "      <th>Feature</th>\n",
       "      <th>Functional_Category</th>\n",
       "      <th>Is_Pseudogene</th>\n",
       "      <th>Product</th>\n",
       "      <th>PEandPPE_Subfamily</th>\n",
       "      <th>ExcludedGroup_Category</th>\n",
       "    </tr>\n",
       "  </thead>\n",
       "  <tbody>\n",
       "    <tr>\n",
       "      <th>626</th>\n",
       "      <td>NC_000962.3</td>\n",
       "      <td>701405</td>\n",
       "      <td>702014</td>\n",
       "      <td>+</td>\n",
       "      <td>Rv0605</td>\n",
       "      <td>Rv0605</td>\n",
       "      <td>CDS</td>\n",
       "      <td>insertion seqs and phages</td>\n",
       "      <td>No</td>\n",
       "      <td>Possible resolvase</td>\n",
       "      <td>None</td>\n",
       "      <td>InsertionSeqs_And_Phages</td>\n",
       "    </tr>\n",
       "  </tbody>\n",
       "</table>\n",
       "</div>"
      ],
      "text/plain": [
       "           Chrom   Start     End Strand H37rv_GeneID  Symbol Feature        Functional_Category Is_Pseudogene             Product PEandPPE_Subfamily    ExcludedGroup_Category\n",
       "626  NC_000962.3  701405  702014      +       Rv0605  Rv0605     CDS  insertion seqs and phages            No  Possible resolvase               None  InsertionSeqs_And_Phages"
      ]
     },
     "execution_count": 101,
     "metadata": {},
     "output_type": "execute_result"
    }
   ],
   "source": [
    "H37Rv_Anno_InsSeqAndPhages_DF.query(\"Symbol == 'Rv0605'\")"
   ]
  },
  {
   "cell_type": "code",
   "execution_count": 102,
   "id": "a9aad29e-315d-40c5-8e4d-c10ee8ba48d5",
   "metadata": {},
   "outputs": [
    {
     "data": {
      "text/plain": [
       "(85, 12)"
      ]
     },
     "execution_count": 102,
     "metadata": {},
     "output_type": "execute_result"
    }
   ],
   "source": [
    "H37Rv_Anno_InsSeqAndPhages_DF[H37Rv_Anno_InsSeqAndPhages_DF[\"Product\"].str.contains(\"transposase\")].shape"
   ]
  },
  {
   "cell_type": "code",
   "execution_count": 103,
   "id": "3577c218-e63e-41da-8811-1d8284bf311d",
   "metadata": {},
   "outputs": [
    {
     "data": {
      "text/html": [
       "<div>\n",
       "<style scoped>\n",
       "    .dataframe tbody tr th:only-of-type {\n",
       "        vertical-align: middle;\n",
       "    }\n",
       "\n",
       "    .dataframe tbody tr th {\n",
       "        vertical-align: top;\n",
       "    }\n",
       "\n",
       "    .dataframe thead th {\n",
       "        text-align: right;\n",
       "    }\n",
       "</style>\n",
       "<table border=\"1\" class=\"dataframe\">\n",
       "  <thead>\n",
       "    <tr style=\"text-align: right;\">\n",
       "      <th></th>\n",
       "      <th>Chrom</th>\n",
       "      <th>Start</th>\n",
       "      <th>End</th>\n",
       "      <th>Strand</th>\n",
       "      <th>H37rv_GeneID</th>\n",
       "      <th>Symbol</th>\n",
       "      <th>Feature</th>\n",
       "      <th>Functional_Category</th>\n",
       "      <th>Is_Pseudogene</th>\n",
       "      <th>Product</th>\n",
       "      <th>PEandPPE_Subfamily</th>\n",
       "      <th>ExcludedGroup_Category</th>\n",
       "    </tr>\n",
       "  </thead>\n",
       "  <tbody>\n",
       "    <tr>\n",
       "      <th>33</th>\n",
       "      <td>NC_000962.3</td>\n",
       "      <td>33581</td>\n",
       "      <td>33794</td>\n",
       "      <td>+</td>\n",
       "      <td>Rv0031</td>\n",
       "      <td>Rv0031</td>\n",
       "      <td>CDS</td>\n",
       "      <td>insertion seqs and phages</td>\n",
       "      <td>No</td>\n",
       "      <td>Possible remnant of a transposase</td>\n",
       "      <td>None</td>\n",
       "      <td>InsertionSeqs_And_Phages</td>\n",
       "    </tr>\n",
       "    <tr>\n",
       "      <th>627</th>\n",
       "      <td>NC_000962.3</td>\n",
       "      <td>702015</td>\n",
       "      <td>702759</td>\n",
       "      <td>+</td>\n",
       "      <td>Rv0606</td>\n",
       "      <td>Rv0606</td>\n",
       "      <td>CDS</td>\n",
       "      <td>insertion seqs and phages</td>\n",
       "      <td>No</td>\n",
       "      <td>Possible transposase (fragment)</td>\n",
       "      <td>None</td>\n",
       "      <td>InsertionSeqs_And_Phages</td>\n",
       "    </tr>\n",
       "    <tr>\n",
       "      <th>771</th>\n",
       "      <td>NC_000962.3</td>\n",
       "      <td>832533</td>\n",
       "      <td>832848</td>\n",
       "      <td>+</td>\n",
       "      <td>Rv0741</td>\n",
       "      <td>Rv0741</td>\n",
       "      <td>CDS</td>\n",
       "      <td>insertion seqs and phages</td>\n",
       "      <td>No</td>\n",
       "      <td>Probable transposase (fragment)</td>\n",
       "      <td>None</td>\n",
       "      <td>InsertionSeqs_And_Phages</td>\n",
       "    </tr>\n",
       "    <tr>\n",
       "      <th>787</th>\n",
       "      <td>NC_000962.3</td>\n",
       "      <td>850341</td>\n",
       "      <td>850527</td>\n",
       "      <td>-</td>\n",
       "      <td>Rv0755A</td>\n",
       "      <td>Rv0755A</td>\n",
       "      <td>CDS</td>\n",
       "      <td>insertion seqs and phages</td>\n",
       "      <td>No</td>\n",
       "      <td>Putative transposase (fragment)</td>\n",
       "      <td>None</td>\n",
       "      <td>InsertionSeqs_And_Phages</td>\n",
       "    </tr>\n",
       "    <tr>\n",
       "      <th>829</th>\n",
       "      <td>NC_000962.3</td>\n",
       "      <td>889071</td>\n",
       "      <td>889398</td>\n",
       "      <td>+</td>\n",
       "      <td>Rv0795</td>\n",
       "      <td>Rv0795</td>\n",
       "      <td>CDS</td>\n",
       "      <td>insertion seqs and phages</td>\n",
       "      <td>No</td>\n",
       "      <td>Putative transposase for insertion sequence element IS6110 (fragment)</td>\n",
       "      <td>None</td>\n",
       "      <td>InsertionSeqs_And_Phages</td>\n",
       "    </tr>\n",
       "  </tbody>\n",
       "</table>\n",
       "</div>"
      ],
      "text/plain": [
       "           Chrom   Start     End Strand H37rv_GeneID   Symbol Feature        Functional_Category Is_Pseudogene                                                                Product PEandPPE_Subfamily    ExcludedGroup_Category\n",
       "33   NC_000962.3   33581   33794      +       Rv0031   Rv0031     CDS  insertion seqs and phages            No                                      Possible remnant of a transposase               None  InsertionSeqs_And_Phages\n",
       "627  NC_000962.3  702015  702759      +       Rv0606   Rv0606     CDS  insertion seqs and phages            No                                        Possible transposase (fragment)               None  InsertionSeqs_And_Phages\n",
       "771  NC_000962.3  832533  832848      +       Rv0741   Rv0741     CDS  insertion seqs and phages            No                                        Probable transposase (fragment)               None  InsertionSeqs_And_Phages\n",
       "787  NC_000962.3  850341  850527      -      Rv0755A  Rv0755A     CDS  insertion seqs and phages            No                                        Putative transposase (fragment)               None  InsertionSeqs_And_Phages\n",
       "829  NC_000962.3  889071  889398      +       Rv0795   Rv0795     CDS  insertion seqs and phages            No  Putative transposase for insertion sequence element IS6110 (fragment)               None  InsertionSeqs_And_Phages"
      ]
     },
     "execution_count": 103,
     "metadata": {},
     "output_type": "execute_result"
    }
   ],
   "source": [
    "H37Rv_Anno_InsSeqAndPhages_DF[H37Rv_Anno_InsSeqAndPhages_DF[\"Product\"].str.contains(\"transposase\")].head(5)"
   ]
  },
  {
   "cell_type": "code",
   "execution_count": 104,
   "id": "9a9ae3e2-d576-4a43-a984-663ed6cc51f0",
   "metadata": {},
   "outputs": [
    {
     "data": {
      "text/plain": [
       "(18, 12)"
      ]
     },
     "execution_count": 104,
     "metadata": {},
     "output_type": "execute_result"
    }
   ],
   "source": [
    "H37Rv_Anno_InsSeqAndPhages_DF[H37Rv_Anno_InsSeqAndPhages_DF[\"Product\"].str.contains(\"IS6110\")].shape"
   ]
  },
  {
   "cell_type": "code",
   "execution_count": null,
   "id": "e3c07eb9-f9b0-4d9d-9ef0-0ba07dff93cc",
   "metadata": {},
   "outputs": [],
   "source": []
  },
  {
   "cell_type": "code",
   "execution_count": null,
   "id": "1a844e07",
   "metadata": {},
   "outputs": [],
   "source": []
  },
  {
   "cell_type": "markdown",
   "id": "3fb178e5",
   "metadata": {},
   "source": [
    "# Define output dir of the Mtb-WGA-SMK processing pipeline"
   ]
  },
  {
   "cell_type": "code",
   "execution_count": 105,
   "id": "a55b9858",
   "metadata": {},
   "outputs": [],
   "source": [
    "# Define pipeline output directories\n",
    "\n",
    "WGA_SMK_Outputs_Dir = \"/n/data1/hms/dbmi/farhat/mm774/Projects/Mtb-WGA-SMK-Output\"\n",
    "\n",
    "#MtbWGA_SMK_Pipeline_OutputDir = WGA_SMK_Outputs_Dir + \"/220427_WGA158CI_V1\"\n",
    "WGA151CI_SMK_OutputDir = WGA_SMK_Outputs_Dir + \"/231121_MtbSetV3_151CI\"\n",
    "MtbWGA_SMK_Pipeline_OutputDir = WGA151CI_SMK_OutputDir"
   ]
  },
  {
   "cell_type": "code",
   "execution_count": 106,
   "id": "161ca5f1",
   "metadata": {},
   "outputs": [],
   "source": [
    "#!ls -1 $WGA_SMK_Outputs_Dir"
   ]
  },
  {
   "cell_type": "markdown",
   "id": "c70c7b14",
   "metadata": {},
   "source": [
    "## Define paths to all Assembly FAs + BAKTA Annotations (Short + Long read ASMs)"
   ]
  },
  {
   "cell_type": "code",
   "execution_count": 107,
   "id": "adc2d238",
   "metadata": {},
   "outputs": [],
   "source": [
    "listOfSample_Tags = WGA158CI_SampleIDs\n",
    "\n",
    "target_SMK_OutputDir = MtbWGA_SMK_Pipeline_OutputDir\n",
    "\n",
    "SampleTag_ToPaths_Dict = {}\n",
    "\n",
    "for SampleID in listOfSample_Tags:\n",
    "    sample_Asm_OutputDir = target_SMK_OutputDir + \"/AsmAnalysis/\" + SampleID\n",
    "    GenomeAnno_Dir = f\"{sample_Asm_OutputDir}/GenomeAnnotation\"\n",
    "    \n",
    "    # LR Bakta Anno Files\n",
    "    Bakta_LR_AsmDir = f\"{GenomeAnno_Dir}/{SampleID}_Asm_Bakta\"\n",
    "    \n",
    "    i_LRAsm_Bakta_GFF = f\"{Bakta_LR_AsmDir}/{SampleID}.Bakta.gff3\"\n",
    "    i_LRAsm_Bakta_GBFF = f\"{Bakta_LR_AsmDir}/{SampleID}.Bakta.gbff\"\n",
    "    i_LRAsm_Bakta_FAA = f\"{Bakta_LR_AsmDir}/{SampleID}.Bakta.faa\"\n",
    "    i_LRAsm_Bakta_FFN = f\"{Bakta_LR_AsmDir}/{SampleID}.Bakta.ffn\"\n",
    "    i_LRAsm_Bakta_FNA = f\"{Bakta_LR_AsmDir}/{SampleID}.Bakta.fna\"\n",
    "    i_LRAsm_Bakta_TXT = f\"{Bakta_LR_AsmDir}/{SampleID}.Bakta.txt\"\n",
    "\n",
    "    \n",
    "    MM2_AsmToRef_Output_Dir = sample_Asm_OutputDir + \"/VariantCallingVersusH37Rv/MM2_AsmToH37rv\"\n",
    "    MM2_AsmToH37Rv_BAM = f\"{MM2_AsmToRef_Output_Dir}/{SampleID}.mm2.AsmToH37Rv.bam\"\n",
    "\n",
    "    dictOfPaths_Temp = {}\n",
    "    dictOfPaths_Temp[\"LRAsm_Bakta_GFF\"] = i_LRAsm_Bakta_GFF  \n",
    "    dictOfPaths_Temp[\"LRAsm_Bakta_GBFF\"] = i_LRAsm_Bakta_GBFF\n",
    "    dictOfPaths_Temp[\"LRAsm_Bakta_FAA\"] = i_LRAsm_Bakta_FAA    \n",
    "    dictOfPaths_Temp[\"LRAsm_Bakta_FFN\"] = i_LRAsm_Bakta_FFN    \n",
    "    dictOfPaths_Temp[\"LRAsm_Bakta_FNA\"] = i_LRAsm_Bakta_FNA  \n",
    "    dictOfPaths_Temp[\"LRAsm_Bakta_TXT\"] = i_LRAsm_Bakta_TXT \n",
    "\n",
    "    dictOfPaths_Temp[\"MM2_AsmToH37Rv_BAM\"] = MM2_AsmToH37Rv_BAM    \n",
    "    \n",
    "    SampleTag_ToPaths_Dict[SampleID] = dictOfPaths_Temp\n",
    "\n"
   ]
  },
  {
   "cell_type": "code",
   "execution_count": null,
   "id": "70fddc0e",
   "metadata": {},
   "outputs": [],
   "source": []
  },
  {
   "cell_type": "markdown",
   "id": "9ba0ef4b",
   "metadata": {},
   "source": [
    "## Define PATHS relevant to Minigraph analysis"
   ]
  },
  {
   "cell_type": "code",
   "execution_count": 108,
   "id": "7317148a",
   "metadata": {},
   "outputs": [],
   "source": [
    "target_OutputDir = MtbWGA_SMK_Pipeline_OutputDir\n",
    "\n",
    "Minigraph_158CI_OutDir = f\"{target_OutputDir}/Minigraph\"\n",
    "\n",
    "MG_WGA158CI_GFA = f\"{Minigraph_158CI_OutDir}/Minigraph_H37rv_Vs_158CI.V1.gfa\"\n",
    "MG_WGA158CI_Bubble_SV_BED = f\"{Minigraph_158CI_OutDir}/Minigraph_H37rv_Vs_158CI.V1.Bubble.SV.bed\"\n",
    "MG_WGA158CI_Stable_FA = f\"{Minigraph_158CI_OutDir}/Minigraph_H37rv_Vs_158CI.V1.Stable.fa\"\n",
    "\n",
    "MG_WGA158CI_MergedSVInfo_TSV = f\"{Minigraph_158CI_OutDir}/Minigraph_H37rv_Vs_158CI.MergedSV.Info.tsv\"\n",
    "\n",
    "MG_WGA158CI_MergedSVInfo_SVVCF = f\"{Minigraph_158CI_OutDir}/Minigraph_H37rv_Vs_158CI.MergedSV.Info.svvcf\"\n"
   ]
  },
  {
   "cell_type": "code",
   "execution_count": 109,
   "id": "3d801ebf",
   "metadata": {},
   "outputs": [
    {
     "name": "stdout",
     "output_type": "stream",
     "text": [
      "total 288K\n",
      "drwxrwsr-x   9 mm774 farhat  203 Nov 22 02:12 .\n",
      "drwxrwsr-x  11 mm774 farhat  402 Nov 22 01:55 ..\n",
      "drwxrwsr-x 155 mm774 farhat 3.8K Nov 22 02:06 AsmAnalysis\n",
      "drwxrwsr-x   3 mm774 farhat   61 Nov 22 02:08 Busco_Download_Tmp\n",
      "drwxrwsr-x   4 mm774 farhat  102 Nov 22 12:05 FastANI\n",
      "drwxrwsr-x   2 mm774 farhat  351 Nov 22 02:06 Minigraph\n",
      "drwxrwsr-x   3 mm774 farhat   25 Nov 22 01:53 O2logs\n",
      "drwxrwsr-x  14 mm774 farhat  654 Nov 22 12:04 PanGenome_Analysis\n",
      "drwxrwsr-x   4 mm774 farhat   78 Nov 22 02:12 SourMash\n"
     ]
    }
   ],
   "source": [
    "!ls -alh $MtbWGA_SMK_Pipeline_OutputDir"
   ]
  },
  {
   "cell_type": "code",
   "execution_count": null,
   "id": "996fbdce",
   "metadata": {},
   "outputs": [],
   "source": []
  },
  {
   "cell_type": "code",
   "execution_count": 110,
   "id": "ffb151b8",
   "metadata": {},
   "outputs": [],
   "source": [
    "#!gfatools stat $MG_WGA158CI_GFA"
   ]
  },
  {
   "cell_type": "code",
   "execution_count": null,
   "id": "850305b8",
   "metadata": {},
   "outputs": [],
   "source": []
  },
  {
   "cell_type": "code",
   "execution_count": null,
   "id": "a609481e",
   "metadata": {},
   "outputs": [],
   "source": []
  },
  {
   "cell_type": "markdown",
   "id": "a5eba7bc",
   "metadata": {},
   "source": [
    "## Parse in K-mers of complete Minigraph GFA (158 Mtb assemblies)\n",
    "\n",
    "#### K-mers parsed for ALL nodes"
   ]
  },
  {
   "cell_type": "code",
   "execution_count": 111,
   "id": "d6591366",
   "metadata": {},
   "outputs": [],
   "source": [
    "Mtb_GFA_GP = gfapy.Gfa.from_file(MG_WGA158CI_GFA)"
   ]
  },
  {
   "cell_type": "code",
   "execution_count": 112,
   "id": "844deb6b",
   "metadata": {},
   "outputs": [
    {
     "data": {
      "text/plain": [
       "'gfa1'"
      ]
     },
     "execution_count": 112,
     "metadata": {},
     "output_type": "execute_result"
    }
   ],
   "source": [
    "Mtb_GFA_GP.version"
   ]
  },
  {
   "cell_type": "code",
   "execution_count": null,
   "id": "dd63b814",
   "metadata": {},
   "outputs": [],
   "source": []
  },
  {
   "cell_type": "code",
   "execution_count": 113,
   "id": "46b4da07",
   "metadata": {
    "scrolled": true
   },
   "outputs": [
    {
     "name": "stderr",
     "output_type": "stream",
     "text": [
      "100%|██████████| 7843/7843 [00:43<00:00, 180.61it/s] \n"
     ]
    }
   ],
   "source": [
    "\n",
    "listOfAll_GFA_Nodes = []\n",
    "\n",
    "MG_dictOf_NodeInfo = {}\n",
    "\n",
    "for line in tqdm(Mtb_GFA_GP.lines):\n",
    "    #print(type(line))\n",
    "    \n",
    "    line_Str = str(line)\n",
    "    \n",
    "    if line_Str.startswith(\"S\"):\n",
    "        \n",
    "        line_SplitByTab = line_Str.split(\"\\t\")\n",
    "        \n",
    "        S_Name = line_SplitByTab[1]\n",
    "        \n",
    "        MG_dictOf_NodeInfo[S_Name] = {}\n",
    "        \n",
    "        S_Seq = line_SplitByTab[2]\n",
    "        \n",
    "        Len_Seq = len(S_Seq)\n",
    "        \n",
    "        #record_Kmers = build_kmers(S_Seq, 31)\n",
    "        #record_Hashes = hash_kmers(record_Kmers)\n",
    "        \n",
    "        record_Hashes_UnqNP = hash_kmers_ToUnqNP(build_kmers(S_Seq, 31))\n",
    "        \n",
    "        MG_dictOf_NodeInfo[S_Name][\"Len\"] = Len_Seq\n",
    "        \n",
    "        #MG_dictOf_NodeInfo[S_Name][\"Kmers\"] = record_Kmers\n",
    "\n",
    "        MG_dictOf_NodeInfo[S_Name][\"Kmer_Hashes\"] = record_Hashes_UnqNP\n",
    "        \n",
    "        listOfAll_GFA_Nodes.append(S_Name)\n",
    "\n"
   ]
  },
  {
   "cell_type": "code",
   "execution_count": 114,
   "id": "bad60291",
   "metadata": {},
   "outputs": [],
   "source": [
    "#record_Kmers"
   ]
  },
  {
   "cell_type": "code",
   "execution_count": 115,
   "id": "d862f488",
   "metadata": {},
   "outputs": [
    {
     "data": {
      "text/plain": [
       "1533"
      ]
     },
     "execution_count": 115,
     "metadata": {},
     "output_type": "execute_result"
    }
   ],
   "source": [
    "MG_dictOf_NodeInfo[\"s1\"][\"Len\"]"
   ]
  },
  {
   "cell_type": "code",
   "execution_count": null,
   "id": "14491385",
   "metadata": {},
   "outputs": [],
   "source": []
  },
  {
   "cell_type": "code",
   "execution_count": 116,
   "id": "962504a7",
   "metadata": {},
   "outputs": [],
   "source": [
    "def getAllHash_ExceptTarget_NParray(dictOfHashes, targetToRemove):\n",
    "    \n",
    "    all_Hashes_ExceptTarget_List = []\n",
    "\n",
    "    for i_SeqID, i_SeqInfoDict in dictOfHashes.items():\n",
    "        \n",
    "        i_Hashes = i_SeqInfoDict[\"Kmer_Hashes\"]\n",
    "        \n",
    "        if i_SeqID != targetToRemove:\n",
    "            all_Hashes_ExceptTarget_List.append(i_Hashes) \n",
    "\n",
    "    all_Hashes_ExceptTarget = np.unique(np.concatenate(all_Hashes_ExceptTarget_List))   \n",
    "    \n",
    "    return all_Hashes_ExceptTarget\n"
   ]
  },
  {
   "cell_type": "code",
   "execution_count": 117,
   "id": "3083a829",
   "metadata": {},
   "outputs": [
    {
     "data": {
      "text/plain": [
       "(4393516,)"
      ]
     },
     "execution_count": 117,
     "metadata": {},
     "output_type": "execute_result"
    }
   ],
   "source": [
    "Z = getAllHash_ExceptTarget_NParray(MG_dictOf_NodeInfo, \"s1\")\n",
    "Z.shape"
   ]
  },
  {
   "cell_type": "code",
   "execution_count": null,
   "id": "663e6186",
   "metadata": {},
   "outputs": [],
   "source": []
  },
  {
   "cell_type": "code",
   "execution_count": null,
   "id": "e90208d7",
   "metadata": {},
   "outputs": [],
   "source": []
  },
  {
   "cell_type": "markdown",
   "id": "455427b3",
   "metadata": {},
   "source": [
    "## Parse the Bubble SV Summary BED from Minigraph"
   ]
  },
  {
   "cell_type": "code",
   "execution_count": 118,
   "id": "67bdebc2",
   "metadata": {},
   "outputs": [
    {
     "data": {
      "text/plain": [
       "(535, 11)"
      ]
     },
     "execution_count": 118,
     "metadata": {},
     "output_type": "execute_result"
    }
   ],
   "source": [
    "MG_SV_BED_DF = pd.read_csv(MG_WGA158CI_Bubble_SV_BED, sep = \"\\t\", header=None)\n",
    "\n",
    "MG_SV_BED_DF.columns = [\"Chr\", \"Start\", \"End\", \"Unk1\", \"Unk2\",\n",
    "                        \"Unk3\", \"Len_Ref\", \"Len_Alt\", \n",
    "                        \"Unk4\", \"Unk5\", \"Unk6\", \"NodePath\", \"Ref_Seq\", \"Alt_Seq\"]\n",
    "\n",
    "\n",
    "Target_Col = [\"Chr\", \"Start\", \"End\",\n",
    "              \"Len_Ref\", \"Len_Alt\", \n",
    "              \"NodePath\", \"Ref_Seq\", \"Alt_Seq\"]\n",
    "\n",
    "\n",
    "MG_SV_BED_DF = MG_SV_BED_DF[Target_Col]\n",
    "\n",
    "# Remove the first and last nodes, these are not included in the SV of interest\n",
    "MG_SV_BED_DF[\"NodePath_Trimmed\"] = MG_SV_BED_DF[\"NodePath\"].str.split(\",\").str[1:-1]\n",
    "\n",
    "MG_SV_BED_DF[\"Start_Node\"] = MG_SV_BED_DF[\"NodePath\"].str.split(\",\").str[0]\n",
    "MG_SV_BED_DF[\"End_Node\"] = MG_SV_BED_DF[\"NodePath\"].str.split(\",\").str[-1]\n",
    "\n",
    "MG_SV_BED_DF.shape"
   ]
  },
  {
   "cell_type": "code",
   "execution_count": 119,
   "id": "acffeb6a",
   "metadata": {},
   "outputs": [
    {
     "data": {
      "text/html": [
       "<div>\n",
       "<style scoped>\n",
       "    .dataframe tbody tr th:only-of-type {\n",
       "        vertical-align: middle;\n",
       "    }\n",
       "\n",
       "    .dataframe tbody tr th {\n",
       "        vertical-align: top;\n",
       "    }\n",
       "\n",
       "    .dataframe thead th {\n",
       "        text-align: right;\n",
       "    }\n",
       "</style>\n",
       "<table border=\"1\" class=\"dataframe\">\n",
       "  <thead>\n",
       "    <tr style=\"text-align: right;\">\n",
       "      <th></th>\n",
       "      <th>Chr</th>\n",
       "      <th>Start</th>\n",
       "      <th>End</th>\n",
       "      <th>Len_Ref</th>\n",
       "      <th>Len_Alt</th>\n",
       "      <th>NodePath</th>\n",
       "      <th>Ref_Seq</th>\n",
       "      <th>Alt_Seq</th>\n",
       "      <th>NodePath_Trimmed</th>\n",
       "      <th>Start_Node</th>\n",
       "      <th>End_Node</th>\n",
       "    </tr>\n",
       "  </thead>\n",
       "  <tbody>\n",
       "    <tr>\n",
       "      <th>0</th>\n",
       "      <td>NC_000962.3</td>\n",
       "      <td>1533</td>\n",
       "      <td>1533</td>\n",
       "      <td>0</td>\n",
       "      <td>0</td>\n",
       "      <td>s1,s2</td>\n",
       "      <td>*</td>\n",
       "      <td>*</td>\n",
       "      <td>[]</td>\n",
       "      <td>s1</td>\n",
       "      <td>s2</td>\n",
       "    </tr>\n",
       "    <tr>\n",
       "      <th>1</th>\n",
       "      <td>NC_000962.3</td>\n",
       "      <td>1591</td>\n",
       "      <td>1652</td>\n",
       "      <td>61</td>\n",
       "      <td>1480</td>\n",
       "      <td>s2,s2034,s2959,s2035,s3,s2036,s2036,s3,s2035,s2959,s2034,s4,s5</td>\n",
       "      <td>ATTGGCTGTGAGTGTCGCTGTGCACAAACCGCGCACAGACTCATACAGTCCCGGCGGTTCC</td>\n",
       "      <td>ATTGGCTGTGAGTGTCGCTGTGCACAAACCGCGCACAGACTCATACAGTCCCGGCGGTTCCGTTCGCCGGGACTGTATGAGTCTGTGCGCGGTTTGTGCACAGCGACACTCACAGCCAATTGAACCGCCCCGGTGAGTCCGGAGACTCTCTGATCTGAGACCTCAGCCGGCGGCTGGTCTCTGGCGTTGAGCGTAGTAGGCAGCCTCGAGTTCGACCGGCGGGACGTCGCCGCAGTACTGGTAGAGGCGGCGATGGTTGAACCAGTCGACCCAGCGCGCGGTGGCCAACTCGACATCCTCGATGGACCGCCAGGGCTTGCCGGGTTTGATCAGCTCGGTCTTGTATAGGCCGTTGATCGTCTCGGCTAGTGCATTGTCATAGGAGCTTCCGACCGC...</td>\n",
       "      <td>[s2034, s2959, s2035, s3, s2036, s2036, s3, s2035, s2959, s2034, s4]</td>\n",
       "      <td>s2</td>\n",
       "      <td>s5</td>\n",
       "    </tr>\n",
       "    <tr>\n",
       "      <th>2</th>\n",
       "      <td>NC_000962.3</td>\n",
       "      <td>13622</td>\n",
       "      <td>13622</td>\n",
       "      <td>0</td>\n",
       "      <td>1358</td>\n",
       "      <td>s5,s2744,s6</td>\n",
       "      <td>*</td>\n",
       "      <td>TGAACCGCCCCGGTGAGTCCGGAGACTCTCTGATCTGAGACCTCAGCCGGCGGCTGGTCTCTGGCGTTGAGCGTAGTAGGCAGCCTCGAGTTCGACCGGCGGGACGTCGCCGCAGTACTGGTAGAGGCGGCGATGGTTGAACCAGTCGACCCAGCGCGCGGTGGCCAACTCGACATCCTCGATGGACCGCCAGGGCTTGCCGGGTTTGATCAGCTCGGTCTTGTATAGGCCGTTGATCGTCTCGGCTAGTGCATTGTCATAGGAGCTTCCGACCGCTCCGACCGACGGTTGGATGCCTGCCTCGGCGAGCCGCTCGCTGAACCGGATCGATGTGTACTGAGATCCCCTATCCGTATGGTGGATAACGTCTTTCAGGTCGAGTACGCCTTCTTGTTG...</td>\n",
       "      <td>[s2744]</td>\n",
       "      <td>s5</td>\n",
       "      <td>s6</td>\n",
       "    </tr>\n",
       "  </tbody>\n",
       "</table>\n",
       "</div>"
      ],
      "text/plain": [
       "           Chr  Start    End  Len_Ref  Len_Alt                                                        NodePath                                                        Ref_Seq                                                                                                                                                                                                                                                                                                                                                                                                          Alt_Seq                                                      NodePath_Trimmed Start_Node End_Node\n",
       "0  NC_000962.3   1533   1533        0        0                                                           s1,s2                                                              *                                                                                                                                                                                                                                                                                                                                                                                                                *                                                                    []         s1       s2\n",
       "1  NC_000962.3   1591   1652       61     1480  s2,s2034,s2959,s2035,s3,s2036,s2036,s3,s2035,s2959,s2034,s4,s5  ATTGGCTGTGAGTGTCGCTGTGCACAAACCGCGCACAGACTCATACAGTCCCGGCGGTTCC  ATTGGCTGTGAGTGTCGCTGTGCACAAACCGCGCACAGACTCATACAGTCCCGGCGGTTCCGTTCGCCGGGACTGTATGAGTCTGTGCGCGGTTTGTGCACAGCGACACTCACAGCCAATTGAACCGCCCCGGTGAGTCCGGAGACTCTCTGATCTGAGACCTCAGCCGGCGGCTGGTCTCTGGCGTTGAGCGTAGTAGGCAGCCTCGAGTTCGACCGGCGGGACGTCGCCGCAGTACTGGTAGAGGCGGCGATGGTTGAACCAGTCGACCCAGCGCGCGGTGGCCAACTCGACATCCTCGATGGACCGCCAGGGCTTGCCGGGTTTGATCAGCTCGGTCTTGTATAGGCCGTTGATCGTCTCGGCTAGTGCATTGTCATAGGAGCTTCCGACCGC...  [s2034, s2959, s2035, s3, s2036, s2036, s3, s2035, s2959, s2034, s4]         s2       s5\n",
       "2  NC_000962.3  13622  13622        0     1358                                                     s5,s2744,s6                                                              *  TGAACCGCCCCGGTGAGTCCGGAGACTCTCTGATCTGAGACCTCAGCCGGCGGCTGGTCTCTGGCGTTGAGCGTAGTAGGCAGCCTCGAGTTCGACCGGCGGGACGTCGCCGCAGTACTGGTAGAGGCGGCGATGGTTGAACCAGTCGACCCAGCGCGCGGTGGCCAACTCGACATCCTCGATGGACCGCCAGGGCTTGCCGGGTTTGATCAGCTCGGTCTTGTATAGGCCGTTGATCGTCTCGGCTAGTGCATTGTCATAGGAGCTTCCGACCGCTCCGACCGACGGTTGGATGCCTGCCTCGGCGAGCCGCTCGCTGAACCGGATCGATGTGTACTGAGATCCCCTATCCGTATGGTGGATAACGTCTTTCAGGTCGAGTACGCCTTCTTGTTG...                                                               [s2744]         s5       s6"
      ]
     },
     "execution_count": 119,
     "metadata": {},
     "output_type": "execute_result"
    }
   ],
   "source": [
    "MG_SV_BED_DF.head(3)"
   ]
  },
  {
   "cell_type": "markdown",
   "id": "e6f7ea8d",
   "metadata": {},
   "source": [
    "### Create Dict of NodeID to BubbleID"
   ]
  },
  {
   "cell_type": "code",
   "execution_count": 120,
   "id": "09537105",
   "metadata": {},
   "outputs": [],
   "source": [
    "NodeID_ToBubbleID_Dict = {}\n",
    "\n",
    "for i, row in MG_SV_BED_DF.iterrows():\n",
    "    \n",
    "    Bubble_Num = i + 1\n",
    "    BubbleID = \"BubbleRegion_\" + str(Bubble_Num)\n",
    "    i_NodePath_Trimmed = row[\"NodePath_Trimmed\"]\n",
    "    \n",
    "    for NodeID in i_NodePath_Trimmed: NodeID_ToBubbleID_Dict[NodeID] = BubbleID\n",
    "        "
   ]
  },
  {
   "cell_type": "code",
   "execution_count": 121,
   "id": "c0f3b2bc",
   "metadata": {},
   "outputs": [
    {
     "data": {
      "text/plain": [
       "'BubbleRegion_2'"
      ]
     },
     "execution_count": 121,
     "metadata": {},
     "output_type": "execute_result"
    }
   ],
   "source": [
    "NodeID_ToBubbleID_Dict[\"s3\"]"
   ]
  },
  {
   "cell_type": "markdown",
   "id": "fc300ec2-f945-417c-852e-8aba4c055029",
   "metadata": {},
   "source": [
    "## Classify all nodes by wheither they are a CORE NODE or a SV NODE within the graph"
   ]
  },
  {
   "cell_type": "code",
   "execution_count": 122,
   "id": "af2affbd",
   "metadata": {},
   "outputs": [],
   "source": [
    "SV_NodeIDs_All = []\n",
    "Non_SV_NodeIDs = []\n",
    "\n",
    "for i, row in MG_SV_BED_DF.iterrows():\n",
    "\n",
    "    i_NodePath_Trimmed = row[\"NodePath_Trimmed\"]\n",
    "    \n",
    "    SV_NodeIDs_All += (i_NodePath_Trimmed)\n",
    "    \n",
    "    Non_SV_NodeIDs.append( row[\"Start_Node\"] )\n",
    "    Non_SV_NodeIDs.append( row[\"End_Node\"] )\n",
    "\n",
    "    \n",
    "SV_NodeIDs_All = list(set(SV_NodeIDs_All))\n",
    "Non_SV_NodeIDs = list(set(Non_SV_NodeIDs))\n",
    "    "
   ]
  },
  {
   "cell_type": "code",
   "execution_count": 123,
   "id": "af41ef97",
   "metadata": {},
   "outputs": [
    {
     "data": {
      "text/plain": [
       "2602"
      ]
     },
     "execution_count": 123,
     "metadata": {},
     "output_type": "execute_result"
    }
   ],
   "source": [
    "len(list(set(SV_NodeIDs_All)) )"
   ]
  },
  {
   "cell_type": "code",
   "execution_count": 124,
   "id": "0510ffa2",
   "metadata": {},
   "outputs": [
    {
     "data": {
      "text/plain": [
       "536"
      ]
     },
     "execution_count": 124,
     "metadata": {},
     "output_type": "execute_result"
    }
   ],
   "source": [
    "len(Non_SV_NodeIDs)"
   ]
  },
  {
   "cell_type": "code",
   "execution_count": 125,
   "id": "0e1cd447",
   "metadata": {},
   "outputs": [
    {
     "data": {
      "text/plain": [
       "1533"
      ]
     },
     "execution_count": 125,
     "metadata": {},
     "output_type": "execute_result"
    }
   ],
   "source": [
    "MG_dictOf_NodeInfo[\"s1\"][\"Len\"]"
   ]
  },
  {
   "cell_type": "code",
   "execution_count": 126,
   "id": "48c920c7",
   "metadata": {},
   "outputs": [
    {
     "data": {
      "text/plain": [
       "(0,)"
      ]
     },
     "execution_count": 126,
     "metadata": {},
     "output_type": "execute_result"
    }
   ],
   "source": [
    "np.unique(np.array([])).shape"
   ]
  },
  {
   "cell_type": "code",
   "execution_count": null,
   "id": "e8e6a1f4",
   "metadata": {},
   "outputs": [],
   "source": []
  },
  {
   "cell_type": "code",
   "execution_count": null,
   "id": "a9567d99",
   "metadata": {},
   "outputs": [],
   "source": []
  },
  {
   "cell_type": "markdown",
   "id": "8c2c4627",
   "metadata": {},
   "source": [
    "# 1) Compare k-mer content of all SV nodes vs all SV nodes"
   ]
  },
  {
   "cell_type": "code",
   "execution_count": 155,
   "id": "363e75f7",
   "metadata": {},
   "outputs": [
    {
     "data": {
      "text/plain": [
       "3138"
      ]
     },
     "execution_count": 155,
     "metadata": {},
     "output_type": "execute_result"
    }
   ],
   "source": [
    "len(MG_dictOf_NodeInfo.keys())"
   ]
  },
  {
   "cell_type": "code",
   "execution_count": 156,
   "id": "17005bd4",
   "metadata": {},
   "outputs": [
    {
     "data": {
      "text/plain": [
       "3138"
      ]
     },
     "execution_count": 156,
     "metadata": {},
     "output_type": "execute_result"
    }
   ],
   "source": [
    "len(list(MG_dictOf_NodeInfo.keys()))"
   ]
  },
  {
   "cell_type": "code",
   "execution_count": 157,
   "id": "4b9cfa78",
   "metadata": {},
   "outputs": [
    {
     "data": {
      "text/plain": [
       "3138"
      ]
     },
     "execution_count": 157,
     "metadata": {},
     "output_type": "execute_result"
    }
   ],
   "source": [
    "All_Nodes_List = list(MG_dictOf_NodeInfo.keys())\n",
    "len(All_Nodes_List)"
   ]
  },
  {
   "cell_type": "code",
   "execution_count": 158,
   "id": "49a3dd1a",
   "metadata": {},
   "outputs": [
    {
     "data": {
      "text/plain": [
       "9840769"
      ]
     },
     "execution_count": 158,
     "metadata": {},
     "output_type": "execute_result"
    }
   ],
   "source": [
    "3137 ** 2"
   ]
  },
  {
   "cell_type": "code",
   "execution_count": 159,
   "id": "342598b8",
   "metadata": {
    "scrolled": true
   },
   "outputs": [
    {
     "name": "stderr",
     "output_type": "stream",
     "text": [
      "\n",
      "  0%|          | 0/3138 [00:00<?, ?it/s]\u001b[A\n",
      "  0%|          | 1/3138 [00:00<44:01,  1.19it/s]\u001b[A\n",
      "  0%|          | 2/3138 [00:01<38:03,  1.37it/s]\u001b[A\n",
      "  0%|          | 3/3138 [00:01<33:45,  1.55it/s]\u001b[A\n",
      "  0%|          | 5/3138 [00:04<46:53,  1.11it/s]\u001b[A\n",
      "  0%|          | 6/3138 [00:07<1:21:25,  1.56s/it]\u001b[A\n",
      "  0%|          | 7/3138 [00:08<1:11:20,  1.37s/it]\u001b[A\n",
      "  0%|          | 8/3138 [00:09<59:12,  1.13s/it]  \u001b[A\n",
      "  0%|          | 9/3138 [00:11<1:08:55,  1.32s/it]\u001b[A\n",
      "  0%|          | 10/3138 [00:12<1:09:58,  1.34s/it]\u001b[A\n",
      "  0%|          | 13/3138 [00:17<1:16:40,  1.47s/it]\u001b[A\n",
      "  0%|          | 14/3138 [00:19<1:18:39,  1.51s/it]\u001b[A\n",
      "  0%|          | 15/3138 [00:20<1:08:02,  1.31s/it]\u001b[A\n",
      "  1%|          | 16/3138 [00:20<58:25,  1.12s/it]  \u001b[A\n",
      "  1%|          | 17/3138 [00:23<1:17:44,  1.49s/it]\u001b[A\n",
      "  1%|          | 18/3138 [00:23<1:04:45,  1.25s/it]\u001b[A\n",
      "  1%|          | 19/3138 [00:24<55:06,  1.06s/it]  \u001b[A\n",
      "  1%|          | 20/3138 [00:25<46:20,  1.12it/s]\u001b[A\n",
      "  1%|          | 21/3138 [00:26<49:00,  1.06it/s]\u001b[A\n",
      "  1%|          | 22/3138 [00:26<46:40,  1.11it/s]\u001b[A\n",
      "  1%|          | 23/3138 [00:27<41:26,  1.25it/s]\u001b[A\n",
      "  1%|          | 24/3138 [00:28<46:27,  1.12it/s]\u001b[A\n",
      "  1%|          | 25/3138 [00:30<58:07,  1.12s/it]\u001b[A\n",
      "  1%|          | 26/3138 [00:30<48:02,  1.08it/s]\u001b[A\n",
      "  1%|          | 27/3138 [00:33<1:15:10,  1.45s/it]\u001b[A\n",
      "  1%|          | 28/3138 [00:39<2:27:19,  2.84s/it]\u001b[A\n",
      "  1%|          | 29/3138 [00:40<1:50:33,  2.13s/it]\u001b[A\n",
      "  1%|          | 30/3138 [00:41<1:43:06,  1.99s/it]\u001b[A\n",
      "  1%|          | 31/3138 [00:42<1:22:59,  1.60s/it]\u001b[A\n",
      "  1%|          | 32/3138 [00:45<1:40:22,  1.94s/it]\u001b[A\n",
      "  1%|          | 33/3138 [00:45<1:20:23,  1.55s/it]\u001b[A\n",
      "  1%|          | 34/3138 [00:46<1:02:57,  1.22s/it]\u001b[A\n",
      "  1%|          | 35/3138 [00:46<51:48,  1.00s/it]  \u001b[A\n",
      "  1%|          | 36/3138 [00:47<43:28,  1.19it/s]\u001b[A\n",
      "  1%|          | 37/3138 [00:47<38:04,  1.36it/s]\u001b[A\n",
      "  1%|          | 38/3138 [00:48<34:58,  1.48it/s]\u001b[A\n",
      "  1%|▏         | 40/3138 [00:48<28:06,  1.84it/s]\u001b[A\n",
      "  1%|▏         | 41/3138 [00:49<38:14,  1.35it/s]\u001b[A\n",
      "  1%|▏         | 42/3138 [00:50<33:20,  1.55it/s]\u001b[A\n",
      "  1%|▏         | 43/3138 [00:54<1:24:48,  1.64s/it]\u001b[A\n",
      "  1%|▏         | 45/3138 [00:54<1:03:20,  1.23s/it]\u001b[A\n",
      "  1%|▏         | 46/3138 [00:55<50:01,  1.03it/s]  \u001b[A\n",
      "  1%|▏         | 47/3138 [00:56<1:03:40,  1.24s/it]\u001b[A\n",
      "  2%|▏         | 48/3138 [00:57<52:49,  1.03s/it]  \u001b[A\n",
      "  2%|▏         | 49/3138 [00:58<45:35,  1.13it/s]\u001b[A\n",
      "  2%|▏         | 50/3138 [00:58<44:57,  1.14it/s]\u001b[A\n",
      "  2%|▏         | 51/3138 [01:01<1:07:25,  1.31s/it]\u001b[A\n",
      "  2%|▏         | 52/3138 [01:05<1:49:08,  2.12s/it]\u001b[A\n",
      "  2%|▏         | 53/3138 [01:05<1:23:14,  1.62s/it]\u001b[A\n",
      "  2%|▏         | 54/3138 [01:08<1:37:07,  1.89s/it]\u001b[A\n",
      "  2%|▏         | 55/3138 [01:09<1:21:35,  1.59s/it]\u001b[A\n",
      "  2%|▏         | 56/3138 [01:11<1:30:02,  1.75s/it]\u001b[A\n",
      "  2%|▏         | 57/3138 [01:19<3:06:54,  3.64s/it]\u001b[A\n",
      "  2%|▏         | 58/3138 [01:19<2:21:21,  2.75s/it]\u001b[A\n",
      "  2%|▏         | 59/3138 [01:20<1:50:07,  2.15s/it]\u001b[A\n",
      "  2%|▏         | 60/3138 [01:23<2:04:45,  2.43s/it]\u001b[A\n",
      "  2%|▏         | 61/3138 [01:24<1:34:26,  1.84s/it]\u001b[A\n",
      "  2%|▏         | 62/3138 [01:33<3:21:43,  3.93s/it]\u001b[A\n",
      "  2%|▏         | 63/3138 [01:33<2:29:34,  2.92s/it]\u001b[A\n",
      "  2%|▏         | 64/3138 [01:35<2:10:06,  2.54s/it]\u001b[A\n",
      "  2%|▏         | 65/3138 [01:35<1:39:14,  1.94s/it]\u001b[A\n",
      "  2%|▏         | 66/3138 [01:36<1:26:46,  1.69s/it]\u001b[A\n",
      "  2%|▏         | 67/3138 [01:38<1:19:18,  1.55s/it]\u001b[A\n",
      "  2%|▏         | 68/3138 [01:38<1:02:32,  1.22s/it]\u001b[A\n",
      "  2%|▏         | 69/3138 [01:39<51:17,  1.00s/it]  \u001b[A\n",
      "  2%|▏         | 70/3138 [01:39<43:23,  1.18it/s]\u001b[A\n",
      "  2%|▏         | 71/3138 [01:40<37:51,  1.35it/s]\u001b[A\n",
      "  2%|▏         | 72/3138 [01:40<33:55,  1.51it/s]\u001b[A\n",
      "  2%|▏         | 73/3138 [01:41<31:29,  1.62it/s]\u001b[A\n",
      "  2%|▏         | 75/3138 [01:41<25:33,  2.00it/s]\u001b[A\n",
      "  2%|▏         | 76/3138 [01:41<24:40,  2.07it/s]\u001b[A\n",
      "  2%|▏         | 77/3138 [01:42<26:33,  1.92it/s]\u001b[A\n",
      "  2%|▏         | 78/3138 [01:43<25:50,  1.97it/s]\u001b[A\n",
      "  3%|▎         | 83/3138 [01:43<19:31,  2.61it/s]\u001b[A\n",
      "  3%|▎         | 84/3138 [01:43<19:16,  2.64it/s]\u001b[A\n",
      "  3%|▎         | 87/3138 [01:44<15:50,  3.21it/s]\u001b[A\n",
      "  3%|▎         | 88/3138 [01:44<17:39,  2.88it/s]\u001b[A\n",
      "  3%|▎         | 90/3138 [01:45<17:35,  2.89it/s]\u001b[A\n",
      "  3%|▎         | 91/3138 [01:46<20:02,  2.53it/s]\u001b[A\n",
      "  3%|▎         | 93/3138 [01:46<17:19,  2.93it/s]\u001b[A\n",
      "  3%|▎         | 94/3138 [01:46<20:13,  2.51it/s]\u001b[A\n",
      "  3%|▎         | 95/3138 [01:47<22:43,  2.23it/s]\u001b[A\n",
      "  3%|▎         | 97/3138 [01:47<19:12,  2.64it/s]\u001b[A\n",
      "  3%|▎         | 98/3138 [01:48<21:20,  2.37it/s]\u001b[A\n",
      "  3%|▎         | 99/3138 [01:48<22:11,  2.28it/s]\u001b[A\n",
      "  3%|▎         | 100/3138 [01:49<22:34,  2.24it/s]\u001b[A\n",
      "  3%|▎         | 101/3138 [01:49<23:04,  2.19it/s]\u001b[A\n",
      "  3%|▎         | 102/3138 [01:50<23:16,  2.17it/s]\u001b[A\n",
      "  3%|▎         | 103/3138 [01:50<23:17,  2.17it/s]\u001b[A\n",
      "  3%|▎         | 107/3138 [01:51<17:40,  2.86it/s]\u001b[A\n",
      "  3%|▎         | 108/3138 [01:55<1:16:45,  1.52s/it]\u001b[A\n",
      "  3%|▎         | 109/3138 [01:56<1:04:35,  1.28s/it]\u001b[A\n",
      "  4%|▎         | 110/3138 [01:57<1:04:21,  1.28s/it]\u001b[A\n",
      "  4%|▎         | 111/3138 [01:57<52:44,  1.05s/it]  \u001b[A\n",
      "  4%|▎         | 113/3138 [01:58<40:42,  1.24it/s]\u001b[A\n",
      "  4%|▎         | 114/3138 [01:58<34:56,  1.44it/s]\u001b[A\n",
      "  4%|▎         | 115/3138 [01:59<31:59,  1.57it/s]\u001b[A\n",
      "  4%|▎         | 116/3138 [02:00<44:11,  1.14it/s]\u001b[A\n",
      "  4%|▎         | 117/3138 [02:01<37:44,  1.33it/s]\u001b[A\n",
      "  4%|▍         | 118/3138 [02:02<46:42,  1.08it/s]\u001b[A\n",
      "  4%|▍         | 119/3138 [02:03<39:37,  1.27it/s]\u001b[A\n",
      "  4%|▍         | 120/3138 [02:04<43:15,  1.16it/s]\u001b[A\n",
      "  4%|▍         | 121/3138 [02:05<52:33,  1.05s/it]\u001b[A\n",
      "  4%|▍         | 122/3138 [02:09<1:35:41,  1.90s/it]\u001b[A\n",
      "  4%|▍         | 123/3138 [02:10<1:18:56,  1.57s/it]\u001b[A\n",
      "  4%|▍         | 124/3138 [02:12<1:25:42,  1.71s/it]\u001b[A\n",
      "  4%|▍         | 125/3138 [02:12<1:07:01,  1.33s/it]\u001b[A\n",
      "  4%|▍         | 126/3138 [02:17<1:56:48,  2.33s/it]\u001b[A\n",
      "  4%|▍         | 127/3138 [02:17<1:28:06,  1.76s/it]\u001b[A\n",
      "  4%|▍         | 128/3138 [02:18<1:08:20,  1.36s/it]\u001b[A\n",
      "  4%|▍         | 129/3138 [02:18<57:55,  1.16s/it]  \u001b[A\n",
      "  4%|▍         | 130/3138 [02:19<47:48,  1.05it/s]\u001b[A\n",
      "  4%|▍         | 131/3138 [02:19<40:30,  1.24it/s]\u001b[A\n",
      "  4%|▍         | 132/3138 [02:20<33:25,  1.50it/s]\u001b[A\n",
      "  4%|▍         | 133/3138 [02:20<30:14,  1.66it/s]\u001b[A\n",
      "  4%|▍         | 136/3138 [02:21<23:27,  2.13it/s]\u001b[A\n",
      "  4%|▍         | 137/3138 [02:21<27:21,  1.83it/s]\u001b[A\n",
      "  4%|▍         | 138/3138 [02:22<26:22,  1.90it/s]\u001b[A\n",
      "  4%|▍         | 139/3138 [02:22<27:22,  1.83it/s]\u001b[A\n",
      "  4%|▍         | 140/3138 [02:23<26:17,  1.90it/s]\u001b[A\n",
      "  4%|▍         | 141/3138 [02:23<25:44,  1.94it/s]\u001b[A\n",
      "  5%|▍         | 142/3138 [02:24<25:15,  1.98it/s]\u001b[A\n",
      "  5%|▍         | 143/3138 [02:25<28:34,  1.75it/s]\u001b[A\n",
      "  5%|▍         | 144/3138 [02:25<26:52,  1.86it/s]\u001b[A\n",
      "  5%|▍         | 145/3138 [02:26<31:30,  1.58it/s]\u001b[A\n",
      "  5%|▍         | 146/3138 [02:26<28:46,  1.73it/s]\u001b[A\n",
      "  5%|▍         | 147/3138 [02:28<41:48,  1.19it/s]\u001b[A\n",
      "  5%|▍         | 148/3138 [02:28<37:23,  1.33it/s]\u001b[A\n",
      "  5%|▍         | 149/3138 [02:31<1:07:10,  1.35s/it]\u001b[A\n",
      "  5%|▍         | 150/3138 [02:32<1:00:02,  1.21s/it]\u001b[A\n",
      "  5%|▍         | 151/3138 [02:34<1:08:32,  1.38s/it]\u001b[A\n",
      "  5%|▍         | 152/3138 [02:35<1:04:02,  1.29s/it]\u001b[A\n",
      "  5%|▍         | 153/3138 [02:37<1:23:31,  1.68s/it]\u001b[A\n",
      "  5%|▍         | 154/3138 [02:38<1:13:18,  1.47s/it]\u001b[A\n",
      "  5%|▍         | 155/3138 [02:40<1:15:01,  1.51s/it]\u001b[A\n",
      "  5%|▍         | 156/3138 [02:41<59:22,  1.19s/it]  \u001b[A\n",
      "  5%|▌         | 157/3138 [02:41<54:41,  1.10s/it]\u001b[A\n",
      "  5%|▌         | 158/3138 [02:44<1:10:43,  1.42s/it]\u001b[A\n",
      "  5%|▌         | 159/3138 [02:44<57:00,  1.15s/it]  \u001b[A\n",
      "  5%|▌         | 160/3138 [02:45<50:06,  1.01s/it]\u001b[A\n",
      "  5%|▌         | 161/3138 [02:45<44:45,  1.11it/s]\u001b[A\n",
      "  5%|▌         | 162/3138 [02:46<44:47,  1.11it/s]\u001b[A\n",
      "  5%|▌         | 163/3138 [03:01<4:10:38,  5.06s/it]\u001b[A\n",
      "  5%|▌         | 164/3138 [03:02<3:06:19,  3.76s/it]\u001b[A\n",
      "  5%|▌         | 165/3138 [03:04<2:43:21,  3.30s/it]\u001b[A\n",
      "  5%|▌         | 167/3138 [03:04<1:57:39,  2.38s/it]\u001b[A\n",
      "  5%|▌         | 169/3138 [03:05<1:25:12,  1.72s/it]\u001b[A\n",
      "  5%|▌         | 171/3138 [03:06<1:08:54,  1.39s/it]\u001b[A\n",
      "  5%|▌         | 172/3138 [03:07<56:20,  1.14s/it]  \u001b[A\n",
      "  6%|▌         | 173/3138 [03:08<57:50,  1.17s/it]\u001b[A\n",
      "  6%|▌         | 174/3138 [03:08<48:23,  1.02it/s]\u001b[A\n",
      "  6%|▌         | 176/3138 [03:09<36:28,  1.35it/s]\u001b[A\n",
      "  6%|▌         | 178/3138 [03:09<28:12,  1.75it/s]\u001b[A\n",
      "  6%|▌         | 180/3138 [03:10<23:03,  2.14it/s]\u001b[A\n",
      "  6%|▌         | 181/3138 [03:10<24:36,  2.00it/s]\u001b[A\n",
      "  6%|▌         | 182/3138 [03:11<33:00,  1.49it/s]\u001b[A\n",
      "  6%|▌         | 184/3138 [03:12<26:34,  1.85it/s]\u001b[A\n",
      "  6%|▌         | 186/3138 [03:15<43:52,  1.12it/s]\u001b[A\n",
      "  6%|▌         | 189/3138 [03:16<32:51,  1.50it/s]\u001b[A\n",
      "  6%|▌         | 190/3138 [03:22<1:52:11,  2.28s/it]\u001b[A\n",
      "  6%|▌         | 191/3138 [03:22<1:24:46,  1.73s/it]\u001b[A\n",
      "  6%|▌         | 192/3138 [03:23<1:06:31,  1.35s/it]\u001b[A\n",
      "  6%|▌         | 193/3138 [03:23<53:05,  1.08s/it]  \u001b[A\n",
      "  6%|▌         | 195/3138 [03:24<41:07,  1.19it/s]\u001b[A\n",
      "  6%|▌         | 196/3138 [03:24<35:47,  1.37it/s]\u001b[A\n",
      "  6%|▋         | 197/3138 [03:25<32:20,  1.52it/s]\u001b[A\n",
      "  6%|▋         | 198/3138 [03:32<2:11:56,  2.69s/it]\u001b[A\n",
      "  6%|▋         | 199/3138 [03:33<1:47:31,  2.20s/it]\u001b[A\n",
      "  6%|▋         | 200/3138 [03:34<1:28:19,  1.80s/it]\u001b[A\n",
      "  6%|▋         | 201/3138 [03:34<1:08:49,  1.41s/it]\u001b[A\n",
      "  6%|▋         | 202/3138 [03:36<1:15:23,  1.54s/it]\u001b[A\n",
      "  6%|▋         | 203/3138 [03:37<1:04:17,  1.31s/it]\u001b[A\n",
      "  7%|▋         | 204/3138 [03:38<53:48,  1.10s/it]  \u001b[A\n",
      "  7%|▋         | 205/3138 [03:38<50:31,  1.03s/it]\u001b[A\n",
      "  7%|▋         | 206/3138 [03:39<42:18,  1.16it/s]\u001b[A\n",
      "  7%|▋         | 207/3138 [03:39<37:06,  1.32it/s]\u001b[A\n",
      "  7%|▋         | 208/3138 [03:40<32:49,  1.49it/s]\u001b[A\n",
      "  7%|▋         | 209/3138 [03:41<35:45,  1.36it/s]\u001b[A\n",
      "  7%|▋         | 210/3138 [03:41<31:47,  1.54it/s]\u001b[A\n",
      "  7%|▋         | 211/3138 [03:43<42:07,  1.16it/s]\u001b[A\n",
      "  7%|▋         | 212/3138 [03:43<39:29,  1.24it/s]\u001b[A\n",
      "  7%|▋         | 213/3138 [03:46<1:10:12,  1.44s/it]\u001b[A\n",
      "  7%|▋         | 214/3138 [03:47<54:12,  1.11s/it]  \u001b[A\n",
      "  7%|▋         | 216/3138 [03:47<43:57,  1.11it/s]\u001b[A\n",
      "  7%|▋         | 217/3138 [03:49<54:40,  1.12s/it]\u001b[A\n",
      "  7%|▋         | 218/3138 [03:50<45:11,  1.08it/s]\u001b[A\n",
      "  7%|▋         | 219/3138 [03:53<1:24:03,  1.73s/it]\u001b[A\n",
      "  7%|▋         | 220/3138 [03:54<1:07:30,  1.39s/it]\u001b[A\n",
      "  7%|▋         | 221/3138 [04:00<2:16:25,  2.81s/it]\u001b[A\n",
      "  7%|▋         | 222/3138 [04:01<1:55:00,  2.37s/it]\u001b[A\n",
      "  7%|▋         | 223/3138 [04:02<1:32:08,  1.90s/it]\u001b[A\n",
      "  7%|▋         | 224/3138 [04:03<1:20:37,  1.66s/it]\u001b[A\n",
      "  7%|▋         | 225/3138 [04:04<1:03:09,  1.30s/it]\u001b[A\n",
      "  7%|▋         | 226/3138 [04:05<1:05:58,  1.36s/it]\u001b[A\n",
      "  7%|▋         | 227/3138 [04:05<52:59,  1.09s/it]  \u001b[A\n",
      "  7%|▋         | 228/3138 [04:07<57:11,  1.18s/it]\u001b[A\n",
      "  7%|▋         | 229/3138 [04:09<1:12:10,  1.49s/it]\u001b[A\n",
      "  7%|▋         | 230/3138 [04:16<2:37:52,  3.26s/it]\u001b[A\n",
      "  7%|▋         | 231/3138 [04:17<1:56:54,  2.41s/it]\u001b[A\n",
      "  7%|▋         | 233/3138 [04:20<1:40:59,  2.09s/it]\u001b[A\n",
      "  7%|▋         | 234/3138 [04:20<1:17:17,  1.60s/it]\u001b[A\n",
      "  8%|▊         | 236/3138 [04:21<1:04:43,  1.34s/it]\u001b[A\n",
      "  8%|▊         | 237/3138 [04:22<52:32,  1.09s/it]  \u001b[A\n",
      "  8%|▊         | 238/3138 [04:25<1:23:25,  1.73s/it]\u001b[A\n",
      "  8%|▊         | 239/3138 [04:26<1:15:22,  1.56s/it]\u001b[A\n",
      "  8%|▊         | 240/3138 [04:27<57:03,  1.18s/it]  \u001b[A\n",
      "  8%|▊         | 242/3138 [04:27<42:59,  1.12it/s]\u001b[A\n",
      "  8%|▊         | 244/3138 [04:28<38:00,  1.27it/s]\u001b[A\n",
      "  8%|▊         | 245/3138 [04:29<32:19,  1.49it/s]\u001b[A\n",
      "  8%|▊         | 246/3138 [04:29<28:29,  1.69it/s]\u001b[A\n",
      "  8%|▊         | 247/3138 [04:29<26:55,  1.79it/s]\u001b[A\n",
      "  8%|▊         | 250/3138 [04:30<20:34,  2.34it/s]\u001b[A\n",
      "  8%|▊         | 251/3138 [04:30<20:24,  2.36it/s]\u001b[A\n",
      "  8%|▊         | 253/3138 [04:31<17:59,  2.67it/s]\u001b[A\n",
      "  8%|▊         | 254/3138 [04:31<18:42,  2.57it/s]\u001b[A\n",
      "  8%|▊         | 255/3138 [04:32<21:00,  2.29it/s]\u001b[A\n",
      "  8%|▊         | 256/3138 [04:32<21:26,  2.24it/s]\u001b[A\n",
      "  8%|▊         | 257/3138 [04:33<22:03,  2.18it/s]\u001b[A\n",
      "  8%|▊         | 258/3138 [04:33<22:19,  2.15it/s]\u001b[A\n",
      "  8%|▊         | 259/3138 [04:34<22:31,  2.13it/s]\u001b[A\n",
      "  8%|▊         | 260/3138 [04:34<22:45,  2.11it/s]\u001b[A\n",
      "  8%|▊         | 261/3138 [04:35<26:20,  1.82it/s]\u001b[A\n",
      "  8%|▊         | 262/3138 [04:35<25:21,  1.89it/s]\u001b[A\n",
      "  8%|▊         | 264/3138 [04:36<21:06,  2.27it/s]\u001b[A\n",
      "  8%|▊         | 265/3138 [04:36<20:25,  2.34it/s]\u001b[A\n",
      "  8%|▊         | 266/3138 [04:37<19:55,  2.40it/s]\u001b[A\n",
      "  9%|▊         | 269/3138 [04:37<16:11,  2.95it/s]\u001b[A\n",
      "  9%|▊         | 271/3138 [04:38<14:47,  3.23it/s]\u001b[A\n",
      "  9%|▊         | 272/3138 [04:38<18:13,  2.62it/s]\u001b[A\n",
      "  9%|▊         | 273/3138 [04:39<19:36,  2.44it/s]\u001b[A\n",
      "  9%|▊         | 274/3138 [04:39<20:21,  2.35it/s]\u001b[A\n",
      "  9%|▉         | 276/3138 [04:40<17:36,  2.71it/s]\u001b[A\n",
      "  9%|▉         | 279/3138 [04:40<14:11,  3.36it/s]\u001b[A\n",
      "  9%|▉         | 280/3138 [04:40<16:48,  2.83it/s]\u001b[A\n",
      "  9%|▉         | 281/3138 [04:41<17:57,  2.65it/s]\u001b[A\n",
      "  9%|▉         | 282/3138 [04:41<19:12,  2.48it/s]\u001b[A\n",
      "  9%|▉         | 283/3138 [04:42<20:13,  2.35it/s]\u001b[A\n",
      "  9%|▉         | 284/3138 [04:44<48:51,  1.03s/it]\u001b[A\n",
      "  9%|▉         | 285/3138 [04:45<40:43,  1.17it/s]\u001b[A\n",
      "  9%|▉         | 286/3138 [04:45<36:27,  1.30it/s]\u001b[A\n",
      "  9%|▉         | 287/3138 [04:46<35:27,  1.34it/s]\u001b[A\n",
      "  9%|▉         | 288/3138 [04:48<55:14,  1.16s/it]\u001b[A\n",
      "  9%|▉         | 289/3138 [04:49<45:51,  1.04it/s]\u001b[A\n",
      "  9%|▉         | 290/3138 [04:55<2:01:37,  2.56s/it]\u001b[A\n",
      "  9%|▉         | 292/3138 [04:55<1:28:30,  1.87s/it]\u001b[A\n",
      "  9%|▉         | 294/3138 [04:56<1:05:16,  1.38s/it]\u001b[A\n",
      "  9%|▉         | 296/3138 [04:57<51:39,  1.09s/it]  \u001b[A\n",
      "  9%|▉         | 298/3138 [04:57<39:25,  1.20it/s]\u001b[A\n",
      " 10%|▉         | 299/3138 [04:58<34:05,  1.39it/s]\u001b[A\n",
      " 10%|▉         | 300/3138 [04:58<32:20,  1.46it/s]\u001b[A\n",
      " 10%|▉         | 301/3138 [04:59<29:54,  1.58it/s]\u001b[A\n",
      " 10%|▉         | 302/3138 [05:01<57:20,  1.21s/it]\u001b[A\n",
      " 10%|▉         | 303/3138 [05:02<45:46,  1.03it/s]\u001b[A\n",
      " 10%|▉         | 304/3138 [05:05<1:25:18,  1.81s/it]\u001b[A\n",
      " 10%|▉         | 305/3138 [05:06<1:05:37,  1.39s/it]\u001b[A\n",
      " 10%|▉         | 307/3138 [05:07<51:03,  1.08s/it]  \u001b[A\n",
      " 10%|▉         | 308/3138 [05:09<1:04:21,  1.36s/it]\u001b[A\n",
      " 10%|▉         | 309/3138 [05:09<52:07,  1.11s/it]  \u001b[A\n",
      " 10%|▉         | 310/3138 [05:09<42:33,  1.11it/s]\u001b[A\n",
      " 10%|█         | 314/3138 [05:10<31:30,  1.49it/s]\u001b[A\n",
      " 10%|█         | 316/3138 [05:10<25:24,  1.85it/s]\u001b[A\n",
      " 10%|█         | 317/3138 [05:11<27:04,  1.74it/s]\u001b[A\n",
      " 10%|█         | 318/3138 [05:12<25:18,  1.86it/s]\u001b[A\n",
      " 10%|█         | 320/3138 [05:12<21:03,  2.23it/s]\u001b[A\n",
      " 10%|█         | 321/3138 [05:13<21:39,  2.17it/s]\u001b[A\n",
      " 10%|█         | 322/3138 [05:13<21:18,  2.20it/s]\u001b[A\n",
      " 10%|█         | 323/3138 [05:14<26:50,  1.75it/s]\u001b[A\n",
      " 10%|█         | 324/3138 [05:14<25:15,  1.86it/s]\u001b[A\n",
      " 10%|█         | 325/3138 [05:15<31:17,  1.50it/s]\u001b[A\n",
      " 10%|█         | 326/3138 [05:16<30:13,  1.55it/s]\u001b[A\n",
      " 10%|█         | 327/3138 [05:16<29:12,  1.60it/s]\u001b[A\n",
      " 10%|█         | 328/3138 [05:17<34:37,  1.35it/s]\u001b[A\n",
      " 10%|█         | 329/3138 [05:18<35:44,  1.31it/s]\u001b[A\n",
      " 11%|█         | 330/3138 [05:19<36:29,  1.28it/s]\u001b[A\n",
      " 11%|█         | 331/3138 [05:20<39:03,  1.20it/s]\u001b[A\n",
      " 11%|█         | 332/3138 [05:22<52:55,  1.13s/it]\u001b[A\n",
      " 11%|█         | 333/3138 [05:23<52:45,  1.13s/it]\u001b[A\n",
      " 11%|█         | 334/3138 [05:26<1:17:52,  1.67s/it]\u001b[A\n",
      " 11%|█         | 337/3138 [05:26<56:31,  1.21s/it]  \u001b[A\n",
      " 11%|█         | 339/3138 [05:28<49:31,  1.06s/it]\u001b[A\n",
      " 11%|█         | 340/3138 [05:28<41:17,  1.13it/s]\u001b[A\n",
      " 11%|█         | 342/3138 [05:29<32:10,  1.45it/s]\u001b[A\n",
      " 11%|█         | 344/3138 [05:29<25:39,  1.81it/s]\u001b[A\n",
      " 11%|█         | 345/3138 [05:30<24:32,  1.90it/s]\u001b[A\n",
      " 11%|█         | 347/3138 [05:31<26:47,  1.74it/s]\u001b[A\n",
      " 11%|█         | 348/3138 [05:31<24:58,  1.86it/s]\u001b[A\n",
      " 11%|█         | 349/3138 [05:35<1:13:04,  1.57s/it]\u001b[A\n",
      " 11%|█         | 350/3138 [05:44<2:48:44,  3.63s/it]\u001b[A\n",
      " 11%|█         | 351/3138 [05:44<2:04:31,  2.68s/it]\u001b[A\n",
      " 11%|█         | 352/3138 [05:50<2:45:14,  3.56s/it]\u001b[A\n",
      " 11%|█         | 353/3138 [05:51<2:06:30,  2.73s/it]\u001b[A\n",
      " 11%|█▏        | 354/3138 [05:51<1:35:13,  2.05s/it]\u001b[A\n",
      " 11%|█▏        | 355/3138 [05:56<2:10:06,  2.81s/it]\u001b[A\n",
      " 11%|█▏        | 356/3138 [05:56<1:39:35,  2.15s/it]\u001b[A\n",
      " 11%|█▏        | 357/3138 [05:57<1:17:40,  1.68s/it]\u001b[A\n",
      " 11%|█▏        | 358/3138 [05:58<1:03:10,  1.36s/it]\u001b[A\n",
      " 11%|█▏        | 359/3138 [05:58<50:54,  1.10s/it]  \u001b[A\n",
      " 11%|█▏        | 360/3138 [05:59<50:35,  1.09s/it]\u001b[A\n",
      " 12%|█▏        | 361/3138 [06:00<44:19,  1.04it/s]\u001b[A\n",
      " 12%|█▏        | 362/3138 [06:03<1:11:55,  1.55s/it]\u001b[A\n",
      " 12%|█▏        | 363/3138 [06:03<56:34,  1.22s/it]  \u001b[A\n",
      " 12%|█▏        | 364/3138 [06:04<46:17,  1.00s/it]\u001b[A\n",
      " 12%|█▏        | 366/3138 [06:04<35:41,  1.29it/s]\u001b[A\n",
      " 12%|█▏        | 367/3138 [06:05<31:21,  1.47it/s]\u001b[A\n",
      " 12%|█▏        | 368/3138 [06:05<28:26,  1.62it/s]\u001b[A\n",
      " 12%|█▏        | 369/3138 [06:06<26:01,  1.77it/s]\u001b[A\n",
      " 12%|█▏        | 370/3138 [06:06<25:01,  1.84it/s]\u001b[A\n",
      " 12%|█▏        | 371/3138 [06:06<23:05,  2.00it/s]\u001b[A\n",
      " 12%|█▏        | 372/3138 [06:07<28:14,  1.63it/s]\u001b[A\n",
      " 12%|█▏        | 373/3138 [06:08<24:55,  1.85it/s]\u001b[A\n",
      " 12%|█▏        | 374/3138 [06:08<24:01,  1.92it/s]\u001b[A\n",
      " 12%|█▏        | 375/3138 [06:09<29:24,  1.57it/s]\u001b[A\n",
      " 12%|█▏        | 376/3138 [06:10<27:04,  1.70it/s]\u001b[A\n",
      " 12%|█▏        | 377/3138 [06:10<25:32,  1.80it/s]\u001b[A\n",
      " 12%|█▏        | 378/3138 [06:11<24:24,  1.88it/s]\u001b[A\n",
      " 12%|█▏        | 379/3138 [06:11<24:29,  1.88it/s]\u001b[A\n",
      " 12%|█▏        | 381/3138 [06:22<1:31:00,  1.98s/it]\u001b[A\n",
      " 12%|█▏        | 382/3138 [06:28<2:27:53,  3.22s/it]\u001b[A\n",
      " 12%|█▏        | 383/3138 [06:30<2:07:16,  2.77s/it]\u001b[A\n",
      " 12%|█▏        | 384/3138 [06:30<1:35:46,  2.09s/it]\u001b[A\n",
      " 12%|█▏        | 385/3138 [06:31<1:18:06,  1.70s/it]\u001b[A\n",
      " 12%|█▏        | 386/3138 [06:33<1:16:50,  1.68s/it]\u001b[A\n",
      " 12%|█▏        | 387/3138 [06:33<59:57,  1.31s/it]  \u001b[A\n",
      " 12%|█▏        | 388/3138 [06:34<49:50,  1.09s/it]\u001b[A\n",
      " 12%|█▏        | 389/3138 [06:34<41:35,  1.10it/s]\u001b[A\n",
      " 12%|█▏        | 390/3138 [06:35<36:24,  1.26it/s]\u001b[A\n",
      " 12%|█▏        | 391/3138 [06:35<30:24,  1.51it/s]\u001b[A\n",
      " 12%|█▏        | 392/3138 [06:35<27:47,  1.65it/s]\u001b[A\n",
      " 13%|█▎        | 393/3138 [06:36<25:51,  1.77it/s]\u001b[A\n",
      " 13%|█▎        | 394/3138 [06:36<25:07,  1.82it/s]\u001b[A\n",
      " 13%|█▎        | 395/3138 [06:37<28:18,  1.62it/s]\u001b[A\n",
      " 13%|█▎        | 397/3138 [06:38<22:59,  1.99it/s]\u001b[A\n",
      " 13%|█▎        | 398/3138 [06:38<23:29,  1.94it/s]\u001b[A\n",
      " 13%|█▎        | 399/3138 [06:40<35:27,  1.29it/s]\u001b[A\n",
      " 13%|█▎        | 400/3138 [06:40<34:18,  1.33it/s]\u001b[A\n",
      " 13%|█▎        | 401/3138 [06:41<33:05,  1.38it/s]\u001b[A\n",
      " 13%|█▎        | 402/3138 [06:41<30:09,  1.51it/s]\u001b[A\n",
      " 13%|█▎        | 403/3138 [06:42<26:00,  1.75it/s]\u001b[A\n",
      " 13%|█▎        | 404/3138 [06:43<30:48,  1.48it/s]\u001b[A\n",
      " 13%|█▎        | 405/3138 [06:43<28:22,  1.60it/s]\u001b[A\n",
      " 13%|█▎        | 406/3138 [06:46<52:03,  1.14s/it]\u001b[A\n",
      " 13%|█▎        | 407/3138 [06:46<43:27,  1.05it/s]\u001b[A\n",
      " 13%|█▎        | 408/3138 [06:47<45:42,  1.00s/it]\u001b[A\n",
      " 13%|█▎        | 409/3138 [06:48<36:51,  1.23it/s]\u001b[A\n",
      " 13%|█▎        | 410/3138 [06:48<31:55,  1.42it/s]\u001b[A\n",
      " 13%|█▎        | 411/3138 [06:48<28:42,  1.58it/s]\u001b[A\n",
      " 13%|█▎        | 412/3138 [06:49<26:28,  1.72it/s]\u001b[A\n",
      " 13%|█▎        | 414/3138 [06:49<21:42,  2.09it/s]\u001b[A\n",
      " 13%|█▎        | 415/3138 [06:50<21:33,  2.10it/s]\u001b[A\n",
      " 13%|█▎        | 416/3138 [06:50<21:28,  2.11it/s]\u001b[A\n",
      " 13%|█▎        | 417/3138 [06:51<21:44,  2.09it/s]\u001b[A\n",
      " 13%|█▎        | 418/3138 [06:51<23:15,  1.95it/s]\u001b[A\n",
      " 13%|█▎        | 419/3138 [06:52<21:43,  2.09it/s]\u001b[A\n",
      " 13%|█▎        | 420/3138 [06:53<27:27,  1.65it/s]\u001b[A\n",
      " 13%|█▎        | 421/3138 [06:54<31:07,  1.46it/s]\u001b[A\n",
      " 13%|█▎        | 422/3138 [06:54<28:45,  1.57it/s]\u001b[A\n",
      " 13%|█▎        | 423/3138 [06:55<27:27,  1.65it/s]\u001b[A\n",
      " 14%|█▎        | 424/3138 [06:55<25:39,  1.76it/s]\u001b[A\n",
      " 14%|█▎        | 425/3138 [06:56<24:17,  1.86it/s]\u001b[A\n",
      " 14%|█▎        | 427/3138 [06:56<20:12,  2.24it/s]\u001b[A\n",
      " 14%|█▎        | 428/3138 [06:57<20:18,  2.22it/s]\u001b[A\n",
      " 14%|█▎        | 429/3138 [06:57<20:42,  2.18it/s]\u001b[A\n",
      " 14%|█▎        | 430/3138 [06:58<23:20,  1.93it/s]\u001b[A\n",
      " 14%|█▎        | 431/3138 [07:07<2:21:17,  3.13s/it]\u001b[A\n",
      " 14%|█▍        | 432/3138 [07:08<1:52:48,  2.50s/it]\u001b[A\n",
      " 14%|█▍        | 433/3138 [07:09<1:31:05,  2.02s/it]\u001b[A\n",
      " 14%|█▍        | 434/3138 [07:09<1:09:47,  1.55s/it]\u001b[A\n",
      " 14%|█▍        | 435/3138 [07:13<1:39:55,  2.22s/it]\u001b[A\n",
      " 14%|█▍        | 436/3138 [07:13<1:16:07,  1.69s/it]\u001b[A\n",
      " 14%|█▍        | 437/3138 [07:14<1:02:36,  1.39s/it]\u001b[A\n",
      " 14%|█▍        | 438/3138 [07:15<50:12,  1.12s/it]  \u001b[A\n",
      " 14%|█▍        | 439/3138 [07:18<1:24:11,  1.87s/it]\u001b[A\n",
      " 14%|█▍        | 440/3138 [07:20<1:21:18,  1.81s/it]\u001b[A\n",
      " 14%|█▍        | 441/3138 [07:20<1:01:21,  1.37s/it]\u001b[A\n",
      " 14%|█▍        | 443/3138 [07:22<57:01,  1.27s/it]  \u001b[A\n",
      " 14%|█▍        | 444/3138 [07:23<46:23,  1.03s/it]\u001b[A\n",
      " 14%|█▍        | 445/3138 [07:23<39:01,  1.15it/s]\u001b[A\n",
      " 14%|█▍        | 447/3138 [07:28<55:32,  1.24s/it]\u001b[A\n",
      " 14%|█▍        | 448/3138 [07:28<47:48,  1.07s/it]\u001b[A\n",
      " 14%|█▍        | 449/3138 [07:30<1:03:29,  1.42s/it]\u001b[A\n",
      " 14%|█▍        | 450/3138 [07:31<53:30,  1.19s/it]  \u001b[A\n",
      " 14%|█▍        | 451/3138 [07:34<1:19:58,  1.79s/it]\u001b[A\n",
      " 14%|█▍        | 452/3138 [07:35<1:05:13,  1.46s/it]\u001b[A\n",
      " 14%|█▍        | 453/3138 [07:37<1:10:06,  1.57s/it]\u001b[A\n",
      " 14%|█▍        | 454/3138 [07:37<56:18,  1.26s/it]  \u001b[A\n",
      " 14%|█▍        | 455/3138 [07:42<1:47:22,  2.40s/it]\u001b[A\n",
      " 15%|█▍        | 456/3138 [07:43<1:21:29,  1.82s/it]\u001b[A\n",
      " 15%|█▍        | 457/3138 [07:44<1:15:16,  1.68s/it]\u001b[A\n",
      " 15%|█▍        | 458/3138 [07:46<1:18:09,  1.75s/it]\u001b[A\n",
      " 15%|█▍        | 459/3138 [07:47<1:08:23,  1.53s/it]\u001b[A\n",
      " 15%|█▍        | 460/3138 [07:48<1:02:15,  1.40s/it]\u001b[A\n",
      " 15%|█▍        | 461/3138 [07:49<49:48,  1.12s/it]  \u001b[A\n",
      " 15%|█▍        | 462/3138 [07:50<48:11,  1.08s/it]\u001b[A\n",
      " 15%|█▍        | 463/3138 [07:50<39:55,  1.12it/s]\u001b[A\n",
      " 15%|█▍        | 464/3138 [07:51<37:11,  1.20it/s]\u001b[A\n",
      " 15%|█▍        | 465/3138 [07:51<32:23,  1.38it/s]\u001b[A\n",
      " 15%|█▍        | 466/3138 [07:54<54:08,  1.22s/it]\u001b[A\n",
      " 15%|█▍        | 467/3138 [07:55<49:39,  1.12s/it]\u001b[A\n",
      " 15%|█▍        | 468/3138 [07:55<41:05,  1.08it/s]\u001b[A\n",
      " 15%|█▍        | 469/3138 [07:56<34:50,  1.28it/s]\u001b[A\n",
      " 15%|█▍        | 470/3138 [07:56<33:40,  1.32it/s]\u001b[A\n",
      " 15%|█▌        | 471/3138 [07:57<36:09,  1.23it/s]\u001b[A\n",
      " 15%|█▌        | 472/3138 [07:58<37:08,  1.20it/s]\u001b[A\n",
      " 15%|█▌        | 473/3138 [08:03<1:30:26,  2.04s/it]\u001b[A\n",
      " 15%|█▌        | 474/3138 [08:03<1:09:45,  1.57s/it]\u001b[A\n",
      " 15%|█▌        | 475/3138 [08:04<1:00:48,  1.37s/it]\u001b[A\n",
      " 15%|█▌        | 476/3138 [08:06<1:12:05,  1.62s/it]\u001b[A\n",
      " 15%|█▌        | 477/3138 [08:07<55:22,  1.25s/it]  \u001b[A\n",
      " 15%|█▌        | 482/3138 [08:07<39:56,  1.11it/s]\u001b[A\n",
      " 15%|█▌        | 484/3138 [08:08<33:36,  1.32it/s]\u001b[A\n",
      " 15%|█▌        | 485/3138 [08:09<29:51,  1.48it/s]\u001b[A\n",
      " 15%|█▌        | 486/3138 [08:12<1:09:56,  1.58s/it]\u001b[A\n",
      " 16%|█▌        | 487/3138 [08:15<1:27:51,  1.99s/it]\u001b[A\n",
      " 16%|█▌        | 488/3138 [08:16<1:07:26,  1.53s/it]\u001b[A\n",
      " 16%|█▌        | 489/3138 [08:16<53:25,  1.21s/it]  \u001b[A\n",
      " 16%|█▌        | 490/3138 [08:17<42:44,  1.03it/s]\u001b[A\n",
      " 16%|█▌        | 491/3138 [08:17<35:57,  1.23it/s]\u001b[A\n",
      " 16%|█▌        | 492/3138 [08:22<1:24:33,  1.92s/it]\u001b[A\n",
      " 16%|█▌        | 493/3138 [08:22<1:08:48,  1.56s/it]\u001b[A\n",
      " 16%|█▌        | 494/3138 [08:23<57:14,  1.30s/it]  \u001b[A\n",
      " 16%|█▌        | 495/3138 [08:24<47:50,  1.09s/it]\u001b[A\n",
      " 16%|█▌        | 496/3138 [08:27<1:23:42,  1.90s/it]\u001b[A\n",
      " 16%|█▌        | 497/3138 [08:28<1:12:08,  1.64s/it]\u001b[A\n",
      " 16%|█▌        | 498/3138 [08:29<1:04:03,  1.46s/it]\u001b[A\n",
      " 16%|█▌        | 499/3138 [08:30<57:31,  1.31s/it]  \u001b[A\n",
      " 16%|█▌        | 500/3138 [08:31<53:32,  1.22s/it]\u001b[A\n",
      " 16%|█▌        | 501/3138 [08:32<44:54,  1.02s/it]\u001b[A\n",
      " 16%|█▌        | 502/3138 [08:33<39:05,  1.12it/s]\u001b[A\n",
      " 16%|█▌        | 503/3138 [08:33<37:23,  1.17it/s]\u001b[A\n",
      " 16%|█▌        | 504/3138 [08:34<30:35,  1.44it/s]\u001b[A\n",
      " 16%|█▌        | 505/3138 [08:34<29:14,  1.50it/s]\u001b[A\n",
      " 16%|█▌        | 506/3138 [08:36<37:56,  1.16it/s]\u001b[A\n",
      " 16%|█▌        | 507/3138 [08:37<51:05,  1.17s/it]\u001b[A\n",
      " 16%|█▌        | 509/3138 [08:38<41:17,  1.06it/s]\u001b[A\n",
      " 16%|█▋        | 511/3138 [08:39<31:57,  1.37it/s]\u001b[A\n",
      " 16%|█▋        | 512/3138 [08:39<27:30,  1.59it/s]\u001b[A\n",
      " 16%|█▋        | 513/3138 [08:40<25:40,  1.70it/s]\u001b[A\n",
      " 16%|█▋        | 514/3138 [08:40<25:00,  1.75it/s]\u001b[A\n",
      " 16%|█▋        | 515/3138 [08:41<25:48,  1.69it/s]\u001b[A\n",
      " 16%|█▋        | 516/3138 [08:46<1:29:17,  2.04s/it]\u001b[A\n",
      " 16%|█▋        | 517/3138 [08:47<1:10:06,  1.60s/it]\u001b[A\n",
      " 17%|█▋        | 518/3138 [08:48<1:04:56,  1.49s/it]\u001b[A\n",
      " 17%|█▋        | 519/3138 [08:49<51:38,  1.18s/it]  \u001b[A\n",
      " 17%|█▋        | 520/3138 [08:56<2:16:46,  3.13s/it]\u001b[A\n",
      " 17%|█▋        | 521/3138 [08:57<1:44:59,  2.41s/it]\u001b[A\n",
      " 17%|█▋        | 522/3138 [08:59<1:42:17,  2.35s/it]\u001b[A\n",
      " 17%|█▋        | 523/3138 [09:00<1:17:51,  1.79s/it]\u001b[A\n",
      " 17%|█▋        | 524/3138 [09:00<1:00:28,  1.39s/it]\u001b[A\n",
      " 17%|█▋        | 525/3138 [09:00<47:02,  1.08s/it]  \u001b[A\n",
      " 17%|█▋        | 526/3138 [09:01<38:49,  1.12it/s]\u001b[A\n",
      " 17%|█▋        | 528/3138 [09:01<30:02,  1.45it/s]\u001b[A\n",
      " 17%|█▋        | 529/3138 [09:02<26:23,  1.65it/s]\u001b[A\n",
      " 17%|█▋        | 530/3138 [09:02<23:35,  1.84it/s]\u001b[A\n",
      " 17%|█▋        | 532/3138 [09:03<19:52,  2.18it/s]\u001b[A\n",
      " 17%|█▋        | 533/3138 [09:04<31:00,  1.40it/s]\u001b[A\n",
      " 17%|█▋        | 534/3138 [09:06<51:49,  1.19s/it]\u001b[A\n",
      " 17%|█▋        | 535/3138 [09:07<42:38,  1.02it/s]\u001b[A\n",
      " 17%|█▋        | 536/3138 [09:07<35:47,  1.21it/s]\u001b[A\n",
      " 17%|█▋        | 539/3138 [09:08<27:46,  1.56it/s]\u001b[A\n",
      " 17%|█▋        | 540/3138 [09:08<26:53,  1.61it/s]\u001b[A\n",
      " 17%|█▋        | 541/3138 [09:09<27:12,  1.59it/s]\u001b[A\n",
      " 17%|█▋        | 542/3138 [09:10<26:11,  1.65it/s]\u001b[A\n",
      " 17%|█▋        | 543/3138 [09:10<24:21,  1.78it/s]\u001b[A\n",
      " 17%|█▋        | 544/3138 [09:10<22:00,  1.96it/s]\u001b[A\n",
      " 17%|█▋        | 545/3138 [09:11<21:30,  2.01it/s]\u001b[A\n",
      " 17%|█▋        | 546/3138 [09:12<27:31,  1.57it/s]\u001b[A\n",
      " 17%|█▋        | 548/3138 [09:14<33:27,  1.29it/s]\u001b[A\n",
      " 18%|█▊        | 550/3138 [09:15<26:09,  1.65it/s]\u001b[A\n",
      " 18%|█▊        | 551/3138 [09:17<50:32,  1.17s/it]\u001b[A\n",
      " 18%|█▊        | 552/3138 [09:18<48:53,  1.13s/it]\u001b[A\n",
      " 18%|█▊        | 553/3138 [09:19<42:01,  1.03it/s]\u001b[A\n",
      " 18%|█▊        | 554/3138 [09:20<43:20,  1.01s/it]\u001b[A\n",
      " 18%|█▊        | 555/3138 [09:27<2:06:09,  2.93s/it]\u001b[A\n",
      " 18%|█▊        | 556/3138 [09:28<1:34:44,  2.20s/it]\u001b[A\n",
      " 18%|█▊        | 557/3138 [09:28<1:13:43,  1.71s/it]\u001b[A\n",
      " 18%|█▊        | 558/3138 [09:29<58:38,  1.36s/it]  \u001b[A\n",
      " 18%|█▊        | 559/3138 [09:29<48:57,  1.14s/it]\u001b[A\n",
      " 18%|█▊        | 560/3138 [09:30<40:20,  1.07it/s]\u001b[A\n",
      " 18%|█▊        | 561/3138 [09:30<36:23,  1.18it/s]\u001b[A\n",
      " 18%|█▊        | 562/3138 [09:31<36:01,  1.19it/s]\u001b[A\n",
      " 18%|█▊        | 563/3138 [09:34<1:04:32,  1.50s/it]\u001b[A\n",
      " 18%|█▊        | 564/3138 [09:35<53:53,  1.26s/it]  \u001b[A\n",
      " 18%|█▊        | 565/3138 [09:36<46:24,  1.08s/it]\u001b[A\n",
      " 18%|█▊        | 566/3138 [09:37<45:39,  1.07s/it]\u001b[A\n",
      " 18%|█▊        | 567/3138 [09:37<40:43,  1.05it/s]\u001b[A\n",
      " 18%|█▊        | 568/3138 [09:38<35:31,  1.21it/s]\u001b[A\n",
      " 18%|█▊        | 569/3138 [09:39<35:37,  1.20it/s]\u001b[A\n",
      " 18%|█▊        | 570/3138 [09:40<35:59,  1.19it/s]\u001b[A\n",
      " 18%|█▊        | 571/3138 [09:41<38:16,  1.12it/s]\u001b[A\n",
      " 18%|█▊        | 572/3138 [09:42<42:16,  1.01it/s]\u001b[A\n",
      " 18%|█▊        | 573/3138 [09:47<1:33:10,  2.18s/it]\u001b[A\n",
      " 18%|█▊        | 574/3138 [09:47<1:11:36,  1.68s/it]\u001b[A\n",
      " 18%|█▊        | 575/3138 [09:51<1:36:08,  2.25s/it]\u001b[A\n",
      " 18%|█▊        | 576/3138 [09:55<1:59:20,  2.79s/it]\u001b[A\n",
      " 18%|█▊        | 577/3138 [09:56<1:29:47,  2.10s/it]\u001b[A\n",
      " 18%|█▊        | 578/3138 [09:57<1:26:07,  2.02s/it]\u001b[A\n",
      " 18%|█▊        | 579/3138 [09:58<1:14:34,  1.75s/it]\u001b[A\n",
      " 18%|█▊        | 580/3138 [10:02<1:35:25,  2.24s/it]\u001b[A\n",
      " 19%|█▊        | 581/3138 [10:02<1:14:45,  1.75s/it]\u001b[A\n",
      " 19%|█▊        | 582/3138 [10:04<1:11:25,  1.68s/it]\u001b[A\n",
      " 19%|█▊        | 583/3138 [10:05<1:09:04,  1.62s/it]\u001b[A\n",
      " 19%|█▊        | 584/3138 [10:06<56:34,  1.33s/it]  \u001b[A\n",
      " 19%|█▊        | 585/3138 [10:13<2:02:17,  2.87s/it]\u001b[A\n",
      " 19%|█▊        | 586/3138 [10:13<1:29:48,  2.11s/it]\u001b[A\n",
      " 19%|█▊        | 587/3138 [10:16<1:44:55,  2.47s/it]\u001b[A\n",
      " 19%|█▊        | 588/3138 [10:17<1:19:35,  1.87s/it]\u001b[A\n",
      " 19%|█▉        | 589/3138 [10:19<1:20:16,  1.89s/it]\u001b[A\n",
      " 19%|█▉        | 590/3138 [10:19<1:02:24,  1.47s/it]\u001b[A\n",
      " 19%|█▉        | 591/3138 [10:22<1:19:41,  1.88s/it]\u001b[A\n",
      " 19%|█▉        | 592/3138 [10:23<1:05:10,  1.54s/it]\u001b[A\n",
      " 19%|█▉        | 593/3138 [10:24<59:29,  1.40s/it]  \u001b[A\n",
      " 19%|█▉        | 594/3138 [10:24<48:43,  1.15s/it]\u001b[A\n",
      " 19%|█▉        | 595/3138 [10:25<41:14,  1.03it/s]\u001b[A\n",
      " 19%|█▉        | 596/3138 [10:26<45:05,  1.06s/it]\u001b[A\n",
      " 19%|█▉        | 597/3138 [10:28<49:35,  1.17s/it]\u001b[A\n",
      " 19%|█▉        | 598/3138 [10:29<46:44,  1.10s/it]\u001b[A\n",
      " 19%|█▉        | 600/3138 [10:29<36:18,  1.17it/s]\u001b[A\n",
      " 19%|█▉        | 601/3138 [10:30<31:23,  1.35it/s]\u001b[A\n",
      " 19%|█▉        | 602/3138 [10:30<29:31,  1.43it/s]\u001b[A\n",
      " 19%|█▉        | 603/3138 [10:32<41:13,  1.02it/s]\u001b[A\n",
      " 19%|█▉        | 604/3138 [10:32<33:50,  1.25it/s]\u001b[A\n",
      " 19%|█▉        | 606/3138 [10:33<26:11,  1.61it/s]\u001b[A\n",
      " 19%|█▉        | 607/3138 [10:33<23:51,  1.77it/s]\u001b[A\n",
      " 19%|█▉        | 608/3138 [10:33<22:17,  1.89it/s]\u001b[A\n",
      " 19%|█▉        | 609/3138 [10:34<21:22,  1.97it/s]\u001b[A\n",
      " 19%|█▉        | 611/3138 [10:34<18:29,  2.28it/s]\u001b[A\n",
      " 20%|█▉        | 612/3138 [10:35<21:25,  1.96it/s]\u001b[A\n",
      " 20%|█▉        | 613/3138 [10:36<28:32,  1.47it/s]\u001b[A\n",
      " 20%|█▉        | 615/3138 [10:37<25:37,  1.64it/s]\u001b[A\n",
      " 20%|█▉        | 616/3138 [10:38<27:50,  1.51it/s]\u001b[A\n",
      " 20%|█▉        | 617/3138 [10:39<37:02,  1.13it/s]\u001b[A\n",
      " 20%|█▉        | 618/3138 [10:40<33:45,  1.24it/s]\u001b[A\n",
      " 20%|█▉        | 619/3138 [10:40<30:27,  1.38it/s]\u001b[A\n",
      " 20%|█▉        | 620/3138 [10:41<26:52,  1.56it/s]\u001b[A\n",
      " 20%|█▉        | 621/3138 [10:41<24:06,  1.74it/s]\u001b[A\n",
      " 20%|█▉        | 622/3138 [10:43<35:12,  1.19it/s]\u001b[A\n",
      " 20%|█▉        | 623/3138 [10:44<40:55,  1.02it/s]\u001b[A\n",
      " 20%|█▉        | 624/3138 [10:52<2:02:49,  2.93s/it]\u001b[A\n",
      " 20%|█▉        | 626/3138 [10:53<1:35:31,  2.28s/it]\u001b[A\n",
      " 20%|██        | 628/3138 [10:53<1:09:11,  1.65s/it]\u001b[A\n",
      " 20%|██        | 631/3138 [10:55<54:37,  1.31s/it]  \u001b[A\n",
      " 20%|██        | 633/3138 [10:57<51:06,  1.22s/it]\u001b[A\n",
      " 20%|██        | 634/3138 [11:00<1:17:18,  1.85s/it]\u001b[A\n",
      " 20%|██        | 635/3138 [11:01<1:00:26,  1.45s/it]\u001b[A\n",
      " 20%|██        | 636/3138 [11:01<48:34,  1.16s/it]  \u001b[A\n",
      " 20%|██        | 637/3138 [11:02<39:53,  1.04it/s]\u001b[A\n",
      " 20%|██        | 638/3138 [11:02<33:22,  1.25it/s]\u001b[A\n",
      " 20%|██        | 641/3138 [11:03<25:58,  1.60it/s]\u001b[A\n",
      " 20%|██        | 642/3138 [11:03<23:59,  1.73it/s]\u001b[A\n",
      " 20%|██        | 643/3138 [11:04<22:47,  1.82it/s]\u001b[A\n",
      " 21%|██        | 644/3138 [11:04<20:46,  2.00it/s]\u001b[A\n",
      " 21%|██        | 645/3138 [11:05<19:41,  2.11it/s]\u001b[A\n",
      " 21%|██        | 646/3138 [11:05<18:31,  2.24it/s]\u001b[A\n",
      " 21%|██        | 647/3138 [11:06<18:51,  2.20it/s]\u001b[A\n",
      " 21%|██        | 650/3138 [11:07<18:19,  2.26it/s]\u001b[A\n",
      " 21%|██        | 652/3138 [11:07<16:12,  2.56it/s]\u001b[A\n",
      " 21%|██        | 653/3138 [11:08<17:14,  2.40it/s]\u001b[A\n",
      " 21%|██        | 654/3138 [11:08<18:37,  2.22it/s]\u001b[A\n",
      " 21%|██        | 656/3138 [11:09<15:56,  2.59it/s]\u001b[A\n",
      " 21%|██        | 663/3138 [11:09<11:56,  3.45it/s]\u001b[A\n",
      " 21%|██        | 665/3138 [11:10<13:21,  3.09it/s]\u001b[A\n",
      " 21%|██▏       | 671/3138 [11:11<10:59,  3.74it/s]\u001b[A\n",
      " 21%|██▏       | 672/3138 [11:11<13:26,  3.06it/s]\u001b[A\n",
      " 21%|██▏       | 673/3138 [11:12<15:54,  2.58it/s]\u001b[A\n",
      " 21%|██▏       | 674/3138 [11:12<16:53,  2.43it/s]\u001b[A\n",
      " 22%|██▏       | 675/3138 [11:13<19:37,  2.09it/s]\u001b[A\n",
      " 22%|██▏       | 676/3138 [11:13<19:32,  2.10it/s]\u001b[A\n",
      " 22%|██▏       | 677/3138 [11:14<19:50,  2.07it/s]\u001b[A\n",
      " 22%|██▏       | 678/3138 [11:14<19:51,  2.07it/s]\u001b[A\n",
      " 22%|██▏       | 679/3138 [11:15<21:43,  1.89it/s]\u001b[A\n",
      " 22%|██▏       | 680/3138 [11:16<21:01,  1.95it/s]\u001b[A\n",
      " 22%|██▏       | 681/3138 [11:17<29:03,  1.41it/s]\u001b[A\n",
      " 22%|██▏       | 682/3138 [11:17<26:41,  1.53it/s]\u001b[A\n",
      " 22%|██▏       | 684/3138 [11:18<23:50,  1.72it/s]\u001b[A\n",
      " 22%|██▏       | 687/3138 [11:19<19:34,  2.09it/s]\u001b[A\n",
      " 22%|██▏       | 688/3138 [11:19<19:34,  2.09it/s]\u001b[A\n",
      " 22%|██▏       | 689/3138 [11:20<19:16,  2.12it/s]\u001b[A\n",
      " 22%|██▏       | 690/3138 [11:20<18:00,  2.27it/s]\u001b[A\n",
      " 22%|██▏       | 696/3138 [11:21<13:32,  3.01it/s]\u001b[A\n",
      " 22%|██▏       | 697/3138 [11:21<14:47,  2.75it/s]\u001b[A\n",
      " 22%|██▏       | 698/3138 [11:21<16:24,  2.48it/s]\u001b[A\n",
      " 22%|██▏       | 699/3138 [11:22<18:13,  2.23it/s]\u001b[A\n",
      " 22%|██▏       | 700/3138 [11:23<18:40,  2.18it/s]\u001b[A\n",
      " 22%|██▏       | 701/3138 [11:24<25:40,  1.58it/s]\u001b[A\n",
      " 22%|██▏       | 702/3138 [11:24<23:48,  1.70it/s]\u001b[A\n",
      " 22%|██▏       | 703/3138 [11:26<34:38,  1.17it/s]\u001b[A\n",
      " 22%|██▏       | 704/3138 [11:27<41:39,  1.03s/it]\u001b[A\n",
      " 22%|██▏       | 705/3138 [11:30<1:11:51,  1.77s/it]\u001b[A\n",
      " 23%|██▎       | 707/3138 [11:31<52:57,  1.31s/it]  \u001b[A\n",
      " 23%|██▎       | 708/3138 [11:32<51:16,  1.27s/it]\u001b[A\n",
      " 23%|██▎       | 709/3138 [11:35<1:06:16,  1.64s/it]\u001b[A\n",
      " 23%|██▎       | 711/3138 [11:35<49:06,  1.21s/it]  \u001b[A\n",
      " 23%|██▎       | 714/3138 [11:35<36:17,  1.11it/s]\u001b[A\n",
      " 23%|██▎       | 715/3138 [11:36<31:21,  1.29it/s]\u001b[A\n",
      " 23%|██▎       | 716/3138 [11:37<35:01,  1.15it/s]\u001b[A\n",
      " 23%|██▎       | 717/3138 [11:38<36:44,  1.10it/s]\u001b[A\n",
      " 23%|██▎       | 718/3138 [11:39<32:58,  1.22it/s]\u001b[A\n",
      " 23%|██▎       | 719/3138 [11:40<33:15,  1.21it/s]\u001b[A\n",
      " 23%|██▎       | 720/3138 [11:40<31:38,  1.27it/s]\u001b[A\n",
      " 23%|██▎       | 721/3138 [11:41<28:38,  1.41it/s]\u001b[A\n",
      " 23%|██▎       | 722/3138 [11:41<25:53,  1.55it/s]\u001b[A\n",
      " 23%|██▎       | 723/3138 [11:44<49:04,  1.22s/it]\u001b[A\n",
      " 23%|██▎       | 724/3138 [11:45<45:46,  1.14s/it]\u001b[A\n",
      " 23%|██▎       | 725/3138 [11:45<37:40,  1.07it/s]\u001b[A\n",
      " 23%|██▎       | 726/3138 [11:46<38:32,  1.04it/s]\u001b[A\n",
      " 23%|██▎       | 727/3138 [11:47<32:39,  1.23it/s]\u001b[A\n",
      " 23%|██▎       | 729/3138 [11:47<25:46,  1.56it/s]\u001b[A\n",
      " 23%|██▎       | 730/3138 [11:48<23:28,  1.71it/s]\u001b[A\n",
      " 23%|██▎       | 731/3138 [11:48<21:54,  1.83it/s]\u001b[A\n",
      " 23%|██▎       | 732/3138 [11:51<51:11,  1.28s/it]\u001b[A\n",
      " 23%|██▎       | 735/3138 [11:52<37:35,  1.07it/s]\u001b[A\n",
      " 23%|██▎       | 736/3138 [11:52<30:48,  1.30it/s]\u001b[A\n",
      " 23%|██▎       | 737/3138 [11:52<27:01,  1.48it/s]\u001b[A\n",
      " 24%|██▎       | 739/3138 [11:56<40:53,  1.02s/it]\u001b[A\n",
      " 24%|██▎       | 740/3138 [11:56<34:16,  1.17it/s]\u001b[A\n",
      " 24%|██▎       | 741/3138 [12:04<1:48:23,  2.71s/it]\u001b[A\n",
      " 24%|██▎       | 742/3138 [12:05<1:34:55,  2.38s/it]\u001b[A\n",
      " 24%|██▎       | 743/3138 [12:06<1:15:34,  1.89s/it]\u001b[A\n",
      " 24%|██▎       | 744/3138 [12:07<1:08:17,  1.71s/it]\u001b[A\n",
      " 24%|██▎       | 745/3138 [12:08<53:35,  1.34s/it]  \u001b[A\n",
      " 24%|██▍       | 746/3138 [12:11<1:15:59,  1.91s/it]\u001b[A\n",
      " 24%|██▍       | 747/3138 [12:12<1:08:50,  1.73s/it]\u001b[A\n",
      " 24%|██▍       | 748/3138 [12:13<55:19,  1.39s/it]  \u001b[A\n",
      " 24%|██▍       | 749/3138 [12:13<45:07,  1.13s/it]\u001b[A\n",
      " 24%|██▍       | 750/3138 [12:15<51:40,  1.30s/it]\u001b[A\n",
      " 24%|██▍       | 751/3138 [12:15<41:49,  1.05s/it]\u001b[A\n",
      " 24%|██▍       | 752/3138 [12:17<52:08,  1.31s/it]\u001b[A\n",
      " 24%|██▍       | 753/3138 [12:18<42:14,  1.06s/it]\u001b[A\n",
      " 24%|██▍       | 755/3138 [12:18<31:53,  1.25it/s]\u001b[A\n",
      " 24%|██▍       | 763/3138 [12:19<22:59,  1.72it/s]\u001b[A\n",
      " 24%|██▍       | 764/3138 [12:19<21:34,  1.83it/s]\u001b[A\n",
      " 24%|██▍       | 767/3138 [12:20<16:45,  2.36it/s]\u001b[A\n",
      " 25%|██▍       | 769/3138 [12:20<14:24,  2.74it/s]\u001b[A\n",
      " 25%|██▍       | 770/3138 [12:21<15:33,  2.54it/s]\u001b[A\n",
      " 25%|██▍       | 771/3138 [12:21<16:21,  2.41it/s]\u001b[A\n",
      " 25%|██▍       | 772/3138 [12:22<17:27,  2.26it/s]\u001b[A\n",
      " 25%|██▍       | 773/3138 [12:22<17:31,  2.25it/s]\u001b[A\n",
      " 25%|██▍       | 774/3138 [12:23<19:10,  2.06it/s]\u001b[A\n",
      " 25%|██▍       | 775/3138 [12:23<20:13,  1.95it/s]\u001b[A\n",
      " 25%|██▍       | 777/3138 [12:24<16:49,  2.34it/s]\u001b[A\n",
      " 25%|██▍       | 779/3138 [12:24<14:27,  2.72it/s]\u001b[A\n",
      " 25%|██▍       | 780/3138 [12:25<16:23,  2.40it/s]\u001b[A\n",
      " 25%|██▍       | 783/3138 [12:25<13:45,  2.85it/s]\u001b[A\n",
      " 25%|██▍       | 784/3138 [12:26<16:20,  2.40it/s]\u001b[A\n",
      " 25%|██▌       | 785/3138 [12:26<17:28,  2.24it/s]\u001b[A\n",
      " 25%|██▌       | 786/3138 [12:27<22:23,  1.75it/s]\u001b[A\n",
      " 25%|██▌       | 788/3138 [12:28<19:36,  2.00it/s]\u001b[A\n",
      " 25%|██▌       | 789/3138 [12:28<19:10,  2.04it/s]\u001b[A\n",
      " 25%|██▌       | 790/3138 [12:29<26:08,  1.50it/s]\u001b[A\n",
      " 25%|██▌       | 791/3138 [12:30<29:57,  1.31it/s]\u001b[A\n",
      " 25%|██▌       | 792/3138 [12:31<29:06,  1.34it/s]\u001b[A\n",
      " 25%|██▌       | 793/3138 [12:33<39:02,  1.00it/s]\u001b[A\n",
      " 25%|██▌       | 794/3138 [12:33<36:02,  1.08it/s]\u001b[A\n",
      " 25%|██▌       | 795/3138 [12:34<30:59,  1.26it/s]\u001b[A\n",
      " 25%|██▌       | 796/3138 [12:38<1:11:54,  1.84s/it]\u001b[A\n",
      " 25%|██▌       | 797/3138 [12:40<1:06:33,  1.71s/it]\u001b[A\n",
      " 25%|██▌       | 798/3138 [12:41<1:04:32,  1.66s/it]\u001b[A\n",
      " 25%|██▌       | 799/3138 [12:42<54:52,  1.41s/it]  \u001b[A\n",
      " 25%|██▌       | 800/3138 [12:44<57:18,  1.47s/it]\u001b[A\n",
      " 26%|██▌       | 801/3138 [12:44<46:58,  1.21s/it]\u001b[A\n",
      " 26%|██▌       | 802/3138 [12:45<41:29,  1.07s/it]\u001b[A\n",
      " 26%|██▌       | 803/3138 [12:46<39:52,  1.02s/it]\u001b[A\n",
      " 26%|██▌       | 804/3138 [12:47<36:51,  1.06it/s]\u001b[A\n",
      " 26%|██▌       | 805/3138 [12:47<31:19,  1.24it/s]\u001b[A\n",
      " 26%|██▌       | 806/3138 [12:48<27:48,  1.40it/s]\u001b[A\n",
      " 26%|██▌       | 807/3138 [12:48<27:32,  1.41it/s]\u001b[A\n",
      " 26%|██▌       | 809/3138 [12:49<22:39,  1.71it/s]\u001b[A\n",
      " 26%|██▌       | 810/3138 [12:49<21:56,  1.77it/s]\u001b[A\n",
      " 26%|██▌       | 811/3138 [12:50<25:39,  1.51it/s]\u001b[A\n",
      " 26%|██▌       | 812/3138 [12:51<32:01,  1.21it/s]\u001b[A\n",
      " 26%|██▌       | 813/3138 [12:52<28:02,  1.38it/s]\u001b[A\n",
      " 26%|██▌       | 814/3138 [12:53<26:19,  1.47it/s]\u001b[A\n",
      " 26%|██▌       | 815/3138 [12:54<37:20,  1.04it/s]\u001b[A\n",
      " 26%|██▌       | 816/3138 [12:55<31:43,  1.22it/s]\u001b[A\n",
      " 26%|██▌       | 817/3138 [12:56<34:39,  1.12it/s]\u001b[A\n",
      " 26%|██▌       | 818/3138 [12:56<29:35,  1.31it/s]\u001b[A\n",
      " 26%|██▌       | 819/3138 [12:57<27:39,  1.40it/s]\u001b[A\n",
      " 26%|██▌       | 820/3138 [12:58<32:52,  1.18it/s]\u001b[A\n",
      " 26%|██▌       | 821/3138 [12:58<28:54,  1.34it/s]\u001b[A\n",
      " 26%|██▌       | 822/3138 [12:59<26:16,  1.47it/s]\u001b[A\n",
      " 26%|██▌       | 823/3138 [13:01<42:18,  1.10s/it]\u001b[A\n",
      " 26%|██▋       | 824/3138 [13:02<40:17,  1.04s/it]\u001b[A\n",
      " 26%|██▋       | 825/3138 [13:02<33:18,  1.16it/s]\u001b[A\n",
      " 26%|██▋       | 826/3138 [13:06<1:00:27,  1.57s/it]\u001b[A\n",
      " 26%|██▋       | 827/3138 [13:06<48:21,  1.26s/it]  \u001b[A\n",
      " 26%|██▋       | 828/3138 [13:07<38:39,  1.00s/it]\u001b[A\n",
      " 26%|██▋       | 829/3138 [13:07<33:23,  1.15it/s]\u001b[A\n",
      " 26%|██▋       | 831/3138 [13:08<26:17,  1.46it/s]\u001b[A\n",
      " 27%|██▋       | 832/3138 [13:08<24:37,  1.56it/s]\u001b[A\n",
      " 27%|██▋       | 833/3138 [13:09<22:48,  1.68it/s]\u001b[A\n",
      " 27%|██▋       | 834/3138 [13:09<22:42,  1.69it/s]\u001b[A\n",
      " 27%|██▋       | 835/3138 [13:10<23:38,  1.62it/s]\u001b[A\n",
      " 27%|██▋       | 836/3138 [13:11<24:55,  1.54it/s]\u001b[A\n",
      " 27%|██▋       | 837/3138 [13:12<29:42,  1.29it/s]\u001b[A\n",
      " 27%|██▋       | 838/3138 [13:13<30:58,  1.24it/s]\u001b[A\n",
      " 27%|██▋       | 839/3138 [13:18<1:29:31,  2.34s/it]\u001b[A\n",
      " 27%|██▋       | 840/3138 [13:20<1:23:17,  2.17s/it]\u001b[A\n",
      " 27%|██▋       | 841/3138 [13:23<1:33:54,  2.45s/it]\u001b[A\n",
      " 27%|██▋       | 842/3138 [13:25<1:20:10,  2.10s/it]\u001b[A\n",
      " 27%|██▋       | 843/3138 [13:25<1:03:58,  1.67s/it]\u001b[A\n",
      " 27%|██▋       | 844/3138 [13:26<52:20,  1.37s/it]  \u001b[A\n",
      " 27%|██▋       | 845/3138 [13:27<50:54,  1.33s/it]\u001b[A\n",
      " 27%|██▋       | 846/3138 [13:28<43:27,  1.14s/it]\u001b[A\n",
      " 27%|██▋       | 847/3138 [13:29<46:07,  1.21s/it]\u001b[A\n",
      " 27%|██▋       | 848/3138 [13:30<43:22,  1.14s/it]\u001b[A\n",
      " 27%|██▋       | 849/3138 [13:31<42:44,  1.12s/it]\u001b[A\n",
      " 27%|██▋       | 850/3138 [13:33<46:51,  1.23s/it]\u001b[A\n",
      " 27%|██▋       | 851/3138 [13:33<38:18,  1.00s/it]\u001b[A\n",
      " 27%|██▋       | 852/3138 [13:34<32:05,  1.19it/s]\u001b[A\n",
      " 27%|██▋       | 853/3138 [13:34<27:08,  1.40it/s]\u001b[A\n",
      " 27%|██▋       | 854/3138 [13:35<27:52,  1.37it/s]\u001b[A\n",
      " 27%|██▋       | 855/3138 [13:36<31:34,  1.20it/s]\u001b[A\n",
      " 27%|██▋       | 856/3138 [13:37<38:06,  1.00s/it]\u001b[A\n",
      " 27%|██▋       | 857/3138 [13:38<31:48,  1.20it/s]\u001b[A\n",
      " 27%|██▋       | 858/3138 [13:38<25:43,  1.48it/s]\u001b[A\n",
      " 27%|██▋       | 859/3138 [13:39<22:56,  1.66it/s]\u001b[A\n",
      " 27%|██▋       | 860/3138 [13:40<32:48,  1.16it/s]\u001b[A\n",
      " 27%|██▋       | 861/3138 [13:42<40:10,  1.06s/it]\u001b[A\n",
      " 27%|██▋       | 862/3138 [13:42<33:45,  1.12it/s]\u001b[A\n",
      " 28%|██▊       | 863/3138 [13:43<38:17,  1.01s/it]\u001b[A\n",
      " 28%|██▊       | 864/3138 [13:44<32:08,  1.18it/s]\u001b[A\n",
      " 28%|██▊       | 865/3138 [13:45<31:08,  1.22it/s]\u001b[A\n",
      " 28%|██▊       | 866/3138 [13:45<31:57,  1.18it/s]\u001b[A\n",
      " 28%|██▊       | 867/3138 [13:46<32:33,  1.16it/s]\u001b[A\n",
      " 28%|██▊       | 870/3138 [13:47<25:57,  1.46it/s]\u001b[A\n",
      " 28%|██▊       | 872/3138 [13:48<20:53,  1.81it/s]\u001b[A\n",
      " 28%|██▊       | 874/3138 [13:48<17:20,  2.18it/s]\u001b[A\n",
      " 28%|██▊       | 875/3138 [13:49<17:39,  2.14it/s]\u001b[A\n",
      " 28%|██▊       | 876/3138 [13:49<20:55,  1.80it/s]\u001b[A\n",
      " 28%|██▊       | 877/3138 [13:51<30:27,  1.24it/s]\u001b[A\n",
      " 28%|██▊       | 878/3138 [13:51<24:52,  1.51it/s]\u001b[A\n",
      " 28%|██▊       | 879/3138 [13:52<21:31,  1.75it/s]\u001b[A\n",
      " 28%|██▊       | 881/3138 [13:54<28:09,  1.34it/s]\u001b[A\n",
      " 28%|██▊       | 882/3138 [13:55<30:59,  1.21it/s]\u001b[A\n",
      " 28%|██▊       | 883/3138 [13:59<1:08:24,  1.82s/it]\u001b[A\n",
      " 28%|██▊       | 886/3138 [13:59<48:48,  1.30s/it]  \u001b[A\n",
      " 28%|██▊       | 887/3138 [14:01<50:00,  1.33s/it]\u001b[A\n",
      " 28%|██▊       | 888/3138 [14:05<1:20:00,  2.13s/it]\u001b[A\n",
      " 28%|██▊       | 889/3138 [14:05<1:00:55,  1.63s/it]\u001b[A\n",
      " 28%|██▊       | 890/3138 [14:06<48:03,  1.28s/it]  \u001b[A\n",
      " 28%|██▊       | 892/3138 [14:06<35:35,  1.05it/s]\u001b[A\n",
      " 28%|██▊       | 893/3138 [14:06<30:07,  1.24it/s]\u001b[A\n",
      " 28%|██▊       | 894/3138 [14:07<26:34,  1.41it/s]\u001b[A\n",
      " 29%|██▊       | 895/3138 [14:07<23:42,  1.58it/s]\u001b[A\n",
      " 29%|██▊       | 896/3138 [14:08<21:48,  1.71it/s]\u001b[A\n",
      " 29%|██▊       | 897/3138 [14:10<34:52,  1.07it/s]\u001b[A\n",
      " 29%|██▊       | 898/3138 [14:10<34:00,  1.10it/s]\u001b[A\n",
      " 29%|██▊       | 899/3138 [14:17<1:35:40,  2.56s/it]\u001b[A\n",
      " 29%|██▉       | 904/3138 [14:17<1:07:53,  1.82s/it]\u001b[A\n",
      " 29%|██▉       | 905/3138 [14:20<1:13:10,  1.97s/it]\u001b[A\n",
      " 29%|██▉       | 906/3138 [14:32<3:12:56,  5.19s/it]\u001b[A\n",
      " 29%|██▉       | 907/3138 [14:33<2:20:07,  3.77s/it]\u001b[A\n",
      " 29%|██▉       | 908/3138 [14:33<1:42:50,  2.77s/it]\u001b[A\n",
      " 29%|██▉       | 909/3138 [14:34<1:17:06,  2.08s/it]\u001b[A\n",
      " 29%|██▉       | 913/3138 [14:34<55:05,  1.49s/it]  \u001b[A\n",
      " 29%|██▉       | 914/3138 [14:35<51:59,  1.40s/it]\u001b[A\n",
      " 29%|██▉       | 915/3138 [14:36<43:25,  1.17s/it]\u001b[A\n",
      " 29%|██▉       | 916/3138 [14:38<49:05,  1.33s/it]\u001b[A\n",
      " 29%|██▉       | 917/3138 [14:38<40:04,  1.08s/it]\u001b[A\n",
      " 29%|██▉       | 918/3138 [14:39<41:16,  1.12s/it]\u001b[A\n",
      " 29%|██▉       | 919/3138 [14:41<45:56,  1.24s/it]\u001b[A\n",
      " 29%|██▉       | 920/3138 [14:42<41:27,  1.12s/it]\u001b[A\n",
      " 29%|██▉       | 921/3138 [14:42<34:44,  1.06it/s]\u001b[A\n",
      " 29%|██▉       | 922/3138 [14:44<39:28,  1.07s/it]\u001b[A\n",
      " 29%|██▉       | 923/3138 [14:44<33:01,  1.12it/s]\u001b[A\n",
      " 29%|██▉       | 924/3138 [14:45<37:12,  1.01s/it]\u001b[A\n",
      " 29%|██▉       | 925/3138 [14:46<31:52,  1.16it/s]\u001b[A\n",
      " 30%|██▉       | 926/3138 [14:50<1:11:22,  1.94s/it]\u001b[A\n",
      " 30%|██▉       | 927/3138 [14:51<55:58,  1.52s/it]  \u001b[A\n",
      " 30%|██▉       | 928/3138 [14:52<47:28,  1.29s/it]\u001b[A\n",
      " 30%|██▉       | 929/3138 [14:52<39:27,  1.07s/it]\u001b[A\n",
      " 30%|██▉       | 930/3138 [14:53<38:11,  1.04s/it]\u001b[A\n",
      " 30%|██▉       | 931/3138 [14:54<34:38,  1.06it/s]\u001b[A\n",
      " 30%|██▉       | 932/3138 [14:56<47:38,  1.30s/it]\u001b[A\n",
      " 30%|██▉       | 933/3138 [14:58<58:35,  1.59s/it]\u001b[A\n",
      " 30%|██▉       | 934/3138 [15:01<1:08:39,  1.87s/it]\u001b[A\n",
      " 30%|██▉       | 935/3138 [15:02<58:25,  1.59s/it]  \u001b[A\n",
      " 30%|██▉       | 936/3138 [15:03<49:34,  1.35s/it]\u001b[A\n",
      " 30%|██▉       | 937/3138 [15:03<41:27,  1.13s/it]\u001b[A\n",
      " 30%|██▉       | 938/3138 [15:04<34:34,  1.06it/s]\u001b[A\n",
      " 30%|██▉       | 939/3138 [15:07<57:08,  1.56s/it]\u001b[A\n",
      " 30%|██▉       | 940/3138 [15:07<45:25,  1.24s/it]\u001b[A\n",
      " 30%|██▉       | 941/3138 [15:08<38:21,  1.05s/it]\u001b[A\n",
      " 30%|███       | 942/3138 [15:08<32:16,  1.13it/s]\u001b[A\n",
      " 30%|███       | 943/3138 [15:09<27:42,  1.32it/s]\u001b[A\n",
      " 30%|███       | 944/3138 [15:09<24:30,  1.49it/s]\u001b[A\n",
      " 30%|███       | 945/3138 [15:10<21:17,  1.72it/s]\u001b[A\n",
      " 30%|███       | 946/3138 [15:10<22:12,  1.65it/s]\u001b[A\n",
      " 30%|███       | 947/3138 [15:11<24:56,  1.46it/s]\u001b[A\n",
      " 30%|███       | 948/3138 [15:12<28:58,  1.26it/s]\u001b[A\n",
      " 30%|███       | 949/3138 [15:13<26:09,  1.39it/s]\u001b[A\n",
      " 30%|███       | 950/3138 [15:13<24:06,  1.51it/s]\u001b[A\n",
      " 30%|███       | 951/3138 [15:14<22:54,  1.59it/s]\u001b[A\n",
      " 30%|███       | 955/3138 [15:14<17:03,  2.13it/s]\u001b[A\n",
      " 31%|███       | 959/3138 [15:15<13:07,  2.77it/s]\u001b[A\n",
      " 31%|███       | 960/3138 [15:15<17:52,  2.03it/s]\u001b[A\n",
      " 31%|███       | 961/3138 [15:16<17:12,  2.11it/s]\u001b[A\n",
      " 31%|███       | 964/3138 [15:17<15:04,  2.40it/s]\u001b[A\n",
      " 31%|███       | 966/3138 [15:17<13:30,  2.68it/s]\u001b[A\n",
      " 31%|███       | 967/3138 [15:18<18:13,  1.98it/s]\u001b[A\n",
      " 31%|███       | 968/3138 [15:19<18:55,  1.91it/s]\u001b[A\n",
      " 31%|███       | 969/3138 [15:19<19:08,  1.89it/s]\u001b[A\n",
      " 31%|███       | 970/3138 [15:28<1:52:47,  3.12s/it]\u001b[A\n",
      " 31%|███       | 971/3138 [15:29<1:25:10,  2.36s/it]\u001b[A\n",
      " 31%|███       | 972/3138 [15:30<1:12:27,  2.01s/it]\u001b[A\n",
      " 31%|███       | 973/3138 [15:33<1:25:17,  2.36s/it]\u001b[A\n",
      " 31%|███       | 974/3138 [15:35<1:13:11,  2.03s/it]\u001b[A\n",
      " 31%|███       | 975/3138 [15:35<55:55,  1.55s/it]  \u001b[A\n",
      " 31%|███       | 977/3138 [15:35<41:56,  1.16s/it]\u001b[A\n",
      " 31%|███       | 978/3138 [15:36<35:31,  1.01it/s]\u001b[A\n",
      " 31%|███       | 979/3138 [15:37<32:02,  1.12it/s]\u001b[A\n",
      " 31%|███       | 980/3138 [15:39<50:38,  1.41s/it]\u001b[A\n",
      " 31%|███▏      | 981/3138 [15:40<40:25,  1.12s/it]\u001b[A\n",
      " 31%|███▏      | 982/3138 [15:43<1:03:32,  1.77s/it]\u001b[A\n",
      " 31%|███▏      | 983/3138 [15:44<49:48,  1.39s/it]  \u001b[A\n",
      " 31%|███▏      | 984/3138 [15:45<46:01,  1.28s/it]\u001b[A\n",
      " 31%|███▏      | 985/3138 [15:45<37:59,  1.06s/it]\u001b[A\n",
      " 31%|███▏      | 986/3138 [15:56<2:22:22,  3.97s/it]\u001b[A\n",
      " 31%|███▏      | 987/3138 [15:56<1:45:32,  2.94s/it]\u001b[A\n",
      " 31%|███▏      | 988/3138 [15:57<1:18:10,  2.18s/it]\u001b[A\n",
      " 32%|███▏      | 989/3138 [15:58<1:03:45,  1.78s/it]\u001b[A\n",
      " 32%|███▏      | 990/3138 [15:58<50:24,  1.41s/it]  \u001b[A\n",
      " 32%|███▏      | 991/3138 [16:00<57:32,  1.61s/it]\u001b[A\n",
      " 32%|███▏      | 992/3138 [16:01<51:14,  1.43s/it]\u001b[A\n",
      " 32%|███▏      | 993/3138 [16:02<41:18,  1.16s/it]\u001b[A\n",
      " 32%|███▏      | 994/3138 [16:02<34:02,  1.05it/s]\u001b[A\n",
      " 32%|███▏      | 995/3138 [16:03<28:02,  1.27it/s]\u001b[A\n",
      " 32%|███▏      | 996/3138 [16:03<24:54,  1.43it/s]\u001b[A\n",
      " 32%|███▏      | 997/3138 [16:04<22:36,  1.58it/s]\u001b[A\n",
      " 32%|███▏      | 998/3138 [16:05<34:05,  1.05it/s]\u001b[A\n",
      " 32%|███▏      | 999/3138 [16:06<28:56,  1.23it/s]\u001b[A\n",
      " 32%|███▏      | 1001/3138 [16:06<22:34,  1.58it/s]\u001b[A\n",
      " 32%|███▏      | 1002/3138 [16:07<22:23,  1.59it/s]\u001b[A\n",
      " 32%|███▏      | 1003/3138 [16:07<20:40,  1.72it/s]\u001b[A\n",
      " 32%|███▏      | 1004/3138 [16:08<19:28,  1.83it/s]\u001b[A\n",
      " 32%|███▏      | 1005/3138 [16:08<19:06,  1.86it/s]\u001b[A\n",
      " 32%|███▏      | 1006/3138 [16:09<20:01,  1.77it/s]\u001b[A\n",
      " 32%|███▏      | 1007/3138 [16:10<19:56,  1.78it/s]\u001b[A\n",
      " 32%|███▏      | 1008/3138 [16:10<18:56,  1.87it/s]\u001b[A\n",
      " 32%|███▏      | 1009/3138 [16:10<18:13,  1.95it/s]\u001b[A\n",
      " 32%|███▏      | 1011/3138 [16:11<15:18,  2.32it/s]\u001b[A\n",
      " 32%|███▏      | 1012/3138 [16:11<15:56,  2.22it/s]\u001b[A\n",
      " 32%|███▏      | 1013/3138 [16:12<16:05,  2.20it/s]\u001b[A\n",
      " 32%|███▏      | 1014/3138 [16:17<1:08:36,  1.94s/it]\u001b[A\n",
      " 32%|███▏      | 1015/3138 [16:25<2:08:49,  3.64s/it]\u001b[A\n",
      " 32%|███▏      | 1016/3138 [16:25<1:34:50,  2.68s/it]\u001b[A\n",
      " 32%|███▏      | 1017/3138 [16:26<1:14:35,  2.11s/it]\u001b[A\n",
      " 32%|███▏      | 1018/3138 [16:30<1:29:33,  2.53s/it]\u001b[A\n",
      " 32%|███▏      | 1019/3138 [16:31<1:14:22,  2.11s/it]\u001b[A\n",
      " 33%|███▎      | 1020/3138 [16:39<2:15:29,  3.84s/it]\u001b[A\n",
      " 33%|███▎      | 1021/3138 [16:39<1:40:20,  2.84s/it]\u001b[A\n",
      " 33%|███▎      | 1022/3138 [16:40<1:15:27,  2.14s/it]\u001b[A\n",
      " 33%|███▎      | 1023/3138 [16:40<56:40,  1.61s/it]  \u001b[A\n",
      " 33%|███▎      | 1024/3138 [16:41<45:12,  1.28s/it]\u001b[A\n",
      " 33%|███▎      | 1025/3138 [16:41<36:33,  1.04s/it]\u001b[A\n",
      " 33%|███▎      | 1026/3138 [16:42<31:07,  1.13it/s]\u001b[A\n",
      " 33%|███▎      | 1027/3138 [16:46<1:11:51,  2.04s/it]\u001b[A\n",
      " 33%|███▎      | 1028/3138 [16:48<1:08:05,  1.94s/it]\u001b[A\n",
      " 33%|███▎      | 1029/3138 [16:49<56:51,  1.62s/it]  \u001b[A\n",
      " 33%|███▎      | 1030/3138 [16:49<44:28,  1.27s/it]\u001b[A\n",
      " 33%|███▎      | 1031/3138 [16:51<44:40,  1.27s/it]\u001b[A\n",
      " 33%|███▎      | 1032/3138 [16:52<49:46,  1.42s/it]\u001b[A\n",
      " 33%|███▎      | 1033/3138 [16:53<39:48,  1.13s/it]\u001b[A\n",
      " 33%|███▎      | 1034/3138 [16:54<37:10,  1.06s/it]\u001b[A\n",
      " 33%|███▎      | 1035/3138 [16:55<43:34,  1.24s/it]\u001b[A\n",
      " 33%|███▎      | 1036/3138 [16:56<36:47,  1.05s/it]\u001b[A\n",
      " 33%|███▎      | 1037/3138 [16:57<33:27,  1.05it/s]\u001b[A\n",
      " 33%|███▎      | 1038/3138 [16:58<33:33,  1.04it/s]\u001b[A\n",
      " 33%|███▎      | 1039/3138 [16:59<32:19,  1.08it/s]\u001b[A\n",
      " 33%|███▎      | 1040/3138 [17:01<44:21,  1.27s/it]\u001b[A\n",
      " 33%|███▎      | 1041/3138 [17:01<40:04,  1.15s/it]\u001b[A\n",
      " 33%|███▎      | 1042/3138 [17:04<50:54,  1.46s/it]\u001b[A\n",
      " 33%|███▎      | 1043/3138 [17:04<39:10,  1.12s/it]\u001b[A\n",
      " 33%|███▎      | 1046/3138 [17:06<33:04,  1.05it/s]\u001b[A\n",
      " 33%|███▎      | 1047/3138 [17:06<27:33,  1.26it/s]\u001b[A\n",
      " 33%|███▎      | 1049/3138 [17:06<21:12,  1.64it/s]\u001b[A\n",
      " 33%|███▎      | 1050/3138 [17:07<19:23,  1.80it/s]\u001b[A\n",
      " 33%|███▎      | 1051/3138 [17:09<40:17,  1.16s/it]\u001b[A\n",
      " 34%|███▎      | 1052/3138 [17:10<34:43,  1.00it/s]\u001b[A\n",
      " 34%|███▎      | 1053/3138 [17:11<29:30,  1.18it/s]\u001b[A\n",
      " 34%|███▎      | 1054/3138 [17:11<25:03,  1.39it/s]\u001b[A\n",
      " 34%|███▎      | 1055/3138 [17:11<20:57,  1.66it/s]\u001b[A\n",
      " 34%|███▎      | 1058/3138 [17:14<24:36,  1.41it/s]\u001b[A\n",
      " 34%|███▎      | 1059/3138 [17:15<25:18,  1.37it/s]\u001b[A\n",
      " 34%|███▍      | 1060/3138 [17:21<1:21:27,  2.35s/it]\u001b[A\n",
      " 34%|███▍      | 1061/3138 [17:23<1:14:19,  2.15s/it]\u001b[A\n",
      " 34%|███▍      | 1062/3138 [17:28<1:42:25,  2.96s/it]\u001b[A\n",
      " 34%|███▍      | 1063/3138 [17:29<1:21:35,  2.36s/it]\u001b[A\n",
      " 34%|███▍      | 1064/3138 [17:29<1:01:42,  1.79s/it]\u001b[A\n",
      " 34%|███▍      | 1065/3138 [17:29<48:09,  1.39s/it]  \u001b[A\n",
      " 34%|███▍      | 1066/3138 [17:31<52:05,  1.51s/it]\u001b[A\n",
      " 34%|███▍      | 1067/3138 [17:34<1:08:17,  1.98s/it]\u001b[A\n",
      " 34%|███▍      | 1068/3138 [17:35<52:45,  1.53s/it]  \u001b[A\n",
      " 34%|███▍      | 1069/3138 [17:38<1:14:26,  2.16s/it]\u001b[A\n",
      " 34%|███▍      | 1070/3138 [17:39<57:03,  1.66s/it]  \u001b[A\n",
      " 34%|███▍      | 1071/3138 [17:40<49:00,  1.42s/it]\u001b[A\n",
      " 34%|███▍      | 1072/3138 [17:40<41:06,  1.19s/it]\u001b[A\n",
      " 34%|███▍      | 1073/3138 [17:41<34:07,  1.01it/s]\u001b[A\n",
      " 34%|███▍      | 1074/3138 [17:42<29:46,  1.16it/s]\u001b[A\n",
      " 34%|███▍      | 1075/3138 [17:42<25:32,  1.35it/s]\u001b[A\n",
      " 34%|███▍      | 1077/3138 [17:43<20:25,  1.68it/s]\u001b[A\n",
      " 34%|███▍      | 1078/3138 [17:44<26:49,  1.28it/s]\u001b[A\n",
      " 34%|███▍      | 1079/3138 [17:44<23:35,  1.45it/s]\u001b[A\n",
      " 34%|███▍      | 1080/3138 [17:45<21:48,  1.57it/s]\u001b[A\n",
      " 34%|███▍      | 1082/3138 [17:45<17:33,  1.95it/s]\u001b[A\n",
      " 35%|███▍      | 1083/3138 [17:46<16:54,  2.03it/s]\u001b[A\n",
      " 35%|███▍      | 1086/3138 [17:46<13:05,  2.61it/s]\u001b[A\n",
      " 35%|███▍      | 1090/3138 [17:46<10:07,  3.37it/s]\u001b[A\n",
      " 35%|███▍      | 1091/3138 [17:47<10:47,  3.16it/s]\u001b[A\n",
      " 35%|███▍      | 1092/3138 [17:47<12:21,  2.76it/s]\u001b[A\n",
      " 35%|███▍      | 1093/3138 [17:48<12:23,  2.75it/s]\u001b[A\n",
      " 35%|███▍      | 1094/3138 [17:48<12:19,  2.76it/s]\u001b[A\n",
      " 35%|███▍      | 1095/3138 [17:48<12:17,  2.77it/s]\u001b[A\n",
      " 35%|███▍      | 1098/3138 [17:49<10:00,  3.40it/s]\u001b[A\n",
      " 35%|███▌      | 1099/3138 [17:49<11:37,  2.92it/s]\u001b[A\n",
      " 35%|███▌      | 1101/3138 [17:50<10:32,  3.22it/s]\u001b[A\n",
      " 35%|███▌      | 1102/3138 [17:50<12:09,  2.79it/s]\u001b[A\n",
      " 35%|███▌      | 1103/3138 [17:51<13:23,  2.53it/s]\u001b[A\n",
      " 35%|███▌      | 1104/3138 [17:51<13:51,  2.45it/s]\u001b[A\n",
      " 35%|███▌      | 1105/3138 [17:52<18:22,  1.84it/s]\u001b[A\n",
      " 35%|███▌      | 1106/3138 [17:52<17:39,  1.92it/s]\u001b[A\n",
      " 35%|███▌      | 1110/3138 [17:53<13:31,  2.50it/s]\u001b[A\n",
      " 36%|███▌      | 1114/3138 [17:53<10:23,  3.25it/s]\u001b[A\n",
      " 36%|███▌      | 1117/3138 [17:54<09:03,  3.72it/s]\u001b[A\n",
      " 36%|███▌      | 1118/3138 [17:54<11:01,  3.05it/s]\u001b[A\n",
      " 36%|███▌      | 1120/3138 [17:55<09:44,  3.45it/s]\u001b[A\n",
      " 36%|███▌      | 1123/3138 [17:55<08:30,  3.95it/s]\u001b[A\n",
      " 36%|███▌      | 1126/3138 [17:56<07:34,  4.42it/s]\u001b[A\n",
      " 36%|███▌      | 1127/3138 [17:56<09:13,  3.63it/s]\u001b[A\n",
      " 36%|███▌      | 1128/3138 [17:56<11:06,  3.02it/s]\u001b[A\n",
      " 36%|███▌      | 1129/3138 [17:57<11:36,  2.88it/s]\u001b[A\n",
      " 36%|███▌      | 1130/3138 [17:57<12:39,  2.64it/s]\u001b[A\n",
      " 36%|███▌      | 1134/3138 [17:58<09:44,  3.43it/s]\u001b[A\n",
      " 36%|███▌      | 1137/3138 [17:58<08:21,  3.99it/s]\u001b[A\n",
      " 36%|███▋      | 1138/3138 [17:59<10:27,  3.18it/s]\u001b[A\n",
      " 36%|███▋      | 1140/3138 [17:59<11:48,  2.82it/s]\u001b[A\n",
      " 36%|███▋      | 1141/3138 [18:00<13:36,  2.44it/s]\u001b[A\n",
      " 36%|███▋      | 1142/3138 [18:00<14:20,  2.32it/s]\u001b[A\n",
      " 36%|███▋      | 1144/3138 [18:01<13:09,  2.53it/s]\u001b[A\n",
      " 36%|███▋      | 1145/3138 [18:02<16:08,  2.06it/s]\u001b[A\n",
      " 37%|███▋      | 1146/3138 [18:02<16:08,  2.06it/s]\u001b[A\n",
      " 37%|███▋      | 1147/3138 [18:03<15:58,  2.08it/s]\u001b[A\n",
      " 37%|███▋      | 1148/3138 [18:03<16:15,  2.04it/s]\u001b[A\n",
      " 37%|███▋      | 1149/3138 [18:04<19:50,  1.67it/s]\u001b[A\n",
      " 37%|███▋      | 1150/3138 [18:06<35:42,  1.08s/it]\u001b[A\n",
      " 37%|███▋      | 1151/3138 [18:07<29:43,  1.11it/s]\u001b[A\n",
      " 37%|███▋      | 1152/3138 [18:11<1:01:14,  1.85s/it]\u001b[A\n",
      " 37%|███▋      | 1154/3138 [18:11<44:32,  1.35s/it]  \u001b[A\n",
      " 37%|███▋      | 1156/3138 [18:12<33:18,  1.01s/it]\u001b[A\n",
      " 37%|███▋      | 1157/3138 [18:12<27:41,  1.19it/s]\u001b[A\n",
      " 37%|███▋      | 1158/3138 [18:13<28:16,  1.17it/s]\u001b[A\n",
      " 37%|███▋      | 1159/3138 [18:16<50:48,  1.54s/it]\u001b[A\n",
      " 37%|███▋      | 1160/3138 [18:17<40:40,  1.23s/it]\u001b[A\n",
      " 37%|███▋      | 1161/3138 [18:17<34:00,  1.03s/it]\u001b[A\n",
      " 37%|███▋      | 1164/3138 [18:18<25:07,  1.31it/s]\u001b[A\n",
      " 37%|███▋      | 1165/3138 [18:18<22:06,  1.49it/s]\u001b[A\n",
      " 37%|███▋      | 1166/3138 [18:22<55:44,  1.70s/it]\u001b[A\n",
      " 37%|███▋      | 1167/3138 [18:23<43:32,  1.33s/it]\u001b[A\n",
      " 37%|███▋      | 1169/3138 [18:24<35:44,  1.09s/it]\u001b[A\n",
      " 37%|███▋      | 1170/3138 [18:24<29:20,  1.12it/s]\u001b[A\n",
      " 37%|███▋      | 1172/3138 [18:25<22:33,  1.45it/s]\u001b[A\n",
      " 37%|███▋      | 1175/3138 [18:26<19:10,  1.71it/s]\u001b[A\n",
      " 37%|███▋      | 1176/3138 [18:26<18:00,  1.82it/s]\u001b[A\n",
      " 38%|███▊      | 1177/3138 [18:27<18:17,  1.79it/s]\u001b[A\n",
      " 38%|███▊      | 1178/3138 [18:27<20:08,  1.62it/s]\u001b[A\n",
      " 38%|███▊      | 1179/3138 [18:29<29:47,  1.10it/s]\u001b[A\n",
      " 38%|███▊      | 1180/3138 [18:30<29:07,  1.12it/s]\u001b[A\n",
      " 38%|███▊      | 1181/3138 [18:30<26:22,  1.24it/s]\u001b[A\n",
      " 38%|███▊      | 1182/3138 [18:31<23:14,  1.40it/s]\u001b[A\n",
      " 38%|███▊      | 1183/3138 [18:37<1:18:32,  2.41s/it]\u001b[A\n",
      " 38%|███▊      | 1186/3138 [18:38<56:21,  1.73s/it]  \u001b[A\n",
      " 38%|███▊      | 1189/3138 [18:38<40:47,  1.26s/it]\u001b[A\n",
      " 38%|███▊      | 1190/3138 [18:38<31:17,  1.04it/s]\u001b[A\n",
      " 38%|███▊      | 1191/3138 [18:40<40:16,  1.24s/it]\u001b[A\n",
      " 38%|███▊      | 1192/3138 [18:41<31:41,  1.02it/s]\u001b[A\n",
      " 38%|███▊      | 1195/3138 [18:41<23:34,  1.37it/s]\u001b[A\n",
      " 38%|███▊      | 1197/3138 [18:42<18:48,  1.72it/s]\u001b[A\n",
      " 38%|███▊      | 1198/3138 [18:45<41:29,  1.28s/it]\u001b[A\n",
      " 38%|███▊      | 1199/3138 [18:45<36:50,  1.14s/it]\u001b[A\n",
      " 38%|███▊      | 1200/3138 [18:53<1:44:21,  3.23s/it]\u001b[A\n",
      " 38%|███▊      | 1201/3138 [18:55<1:30:34,  2.81s/it]\u001b[A\n",
      " 38%|███▊      | 1202/3138 [18:56<1:08:24,  2.12s/it]\u001b[A\n",
      " 38%|███▊      | 1203/3138 [18:56<53:16,  1.65s/it]  \u001b[A\n",
      " 38%|███▊      | 1204/3138 [18:57<42:25,  1.32s/it]\u001b[A\n",
      " 38%|███▊      | 1205/3138 [18:58<42:29,  1.32s/it]\u001b[A\n",
      " 38%|███▊      | 1206/3138 [18:59<35:06,  1.09s/it]\u001b[A\n",
      " 38%|███▊      | 1207/3138 [18:59<28:46,  1.12it/s]\u001b[A\n",
      " 38%|███▊      | 1208/3138 [19:01<39:57,  1.24s/it]\u001b[A\n",
      " 39%|███▊      | 1209/3138 [19:07<1:23:02,  2.58s/it]\u001b[A\n",
      " 39%|███▊      | 1211/3138 [19:07<59:36,  1.86s/it]  \u001b[A\n",
      " 39%|███▊      | 1213/3138 [19:08<43:12,  1.35s/it]\u001b[A\n",
      " 39%|███▉      | 1216/3138 [19:08<31:13,  1.03it/s]\u001b[A\n",
      " 39%|███▉      | 1218/3138 [19:10<31:29,  1.02it/s]\u001b[A\n",
      " 39%|███▉      | 1219/3138 [19:12<41:17,  1.29s/it]\u001b[A\n",
      " 39%|███▉      | 1221/3138 [19:12<30:49,  1.04it/s]\u001b[A\n",
      " 39%|███▉      | 1222/3138 [19:16<56:15,  1.76s/it]\u001b[A\n",
      " 39%|███▉      | 1223/3138 [19:19<1:03:23,  1.99s/it]\u001b[A\n",
      " 39%|███▉      | 1224/3138 [19:19<49:40,  1.56s/it]  \u001b[A\n",
      " 39%|███▉      | 1225/3138 [19:20<39:15,  1.23s/it]\u001b[A\n",
      " 39%|███▉      | 1226/3138 [19:20<31:48,  1.00it/s]\u001b[A\n",
      " 39%|███▉      | 1227/3138 [19:21<27:18,  1.17it/s]\u001b[A\n",
      " 39%|███▉      | 1229/3138 [19:21<21:21,  1.49it/s]\u001b[A\n",
      " 39%|███▉      | 1230/3138 [19:21<19:41,  1.61it/s]\u001b[A\n",
      " 39%|███▉      | 1231/3138 [19:22<19:37,  1.62it/s]\u001b[A\n",
      " 39%|███▉      | 1232/3138 [19:23<18:13,  1.74it/s]\u001b[A\n",
      " 39%|███▉      | 1233/3138 [19:23<17:30,  1.81it/s]\u001b[A\n",
      " 39%|███▉      | 1235/3138 [19:24<14:47,  2.14it/s]\u001b[A\n",
      " 39%|███▉      | 1237/3138 [19:24<12:38,  2.51it/s]\u001b[A\n",
      " 39%|███▉      | 1238/3138 [19:25<14:15,  2.22it/s]\u001b[A\n",
      " 39%|███▉      | 1239/3138 [19:25<14:41,  2.15it/s]\u001b[A\n",
      " 40%|███▉      | 1240/3138 [19:26<14:25,  2.19it/s]\u001b[A\n",
      " 40%|███▉      | 1241/3138 [19:26<14:37,  2.16it/s]\u001b[A\n",
      " 40%|███▉      | 1242/3138 [19:27<16:45,  1.88it/s]\u001b[A\n",
      " 40%|███▉      | 1243/3138 [19:28<18:55,  1.67it/s]\u001b[A\n",
      " 40%|███▉      | 1244/3138 [19:28<17:33,  1.80it/s]\u001b[A\n",
      " 40%|███▉      | 1245/3138 [19:33<57:19,  1.82s/it]\u001b[A\n",
      " 40%|███▉      | 1246/3138 [19:34<47:42,  1.51s/it]\u001b[A\n",
      " 40%|███▉      | 1247/3138 [19:36<1:00:24,  1.92s/it]\u001b[A\n",
      " 40%|███▉      | 1248/3138 [19:38<56:52,  1.81s/it]  \u001b[A\n",
      " 40%|███▉      | 1249/3138 [19:39<49:09,  1.56s/it]\u001b[A\n",
      " 40%|███▉      | 1250/3138 [19:40<42:59,  1.37s/it]\u001b[A\n",
      " 40%|███▉      | 1251/3138 [19:40<34:10,  1.09s/it]\u001b[A\n",
      " 40%|███▉      | 1252/3138 [19:44<58:36,  1.86s/it]\u001b[A\n",
      " 40%|███▉      | 1253/3138 [19:46<1:00:33,  1.93s/it]\u001b[A\n",
      " 40%|███▉      | 1254/3138 [19:47<53:12,  1.69s/it]  \u001b[A\n",
      " 40%|███▉      | 1255/3138 [19:53<1:36:00,  3.06s/it]\u001b[A\n",
      " 40%|████      | 1256/3138 [19:54<1:12:24,  2.31s/it]\u001b[A\n",
      " 40%|████      | 1257/3138 [19:56<1:07:21,  2.15s/it]\u001b[A\n",
      " 40%|████      | 1258/3138 [19:56<51:43,  1.65s/it]  \u001b[A\n",
      " 40%|████      | 1259/3138 [19:57<43:24,  1.39s/it]\u001b[A\n",
      " 40%|████      | 1260/3138 [19:58<35:25,  1.13s/it]\u001b[A\n",
      " 40%|████      | 1261/3138 [19:58<33:16,  1.06s/it]\u001b[A\n",
      " 40%|████      | 1262/3138 [19:59<28:04,  1.11it/s]\u001b[A\n",
      " 40%|████      | 1263/3138 [20:00<27:13,  1.15it/s]\u001b[A\n",
      " 40%|████      | 1264/3138 [20:00<24:09,  1.29it/s]\u001b[A\n",
      " 40%|████      | 1265/3138 [20:01<21:21,  1.46it/s]\u001b[A\n",
      " 40%|████      | 1266/3138 [20:01<19:19,  1.61it/s]\u001b[A\n",
      " 40%|████      | 1267/3138 [20:02<22:02,  1.41it/s]\u001b[A\n",
      " 40%|████      | 1268/3138 [20:03<20:30,  1.52it/s]\u001b[A\n",
      " 40%|████      | 1269/3138 [20:05<33:17,  1.07s/it]\u001b[A\n",
      " 40%|████      | 1270/3138 [20:05<27:43,  1.12it/s]\u001b[A\n",
      " 41%|████      | 1271/3138 [20:06<24:02,  1.29it/s]\u001b[A\n",
      " 41%|████      | 1272/3138 [20:06<21:18,  1.46it/s]\u001b[A\n",
      " 41%|████      | 1274/3138 [20:07<16:54,  1.84it/s]\u001b[A\n",
      " 41%|████      | 1275/3138 [20:09<30:26,  1.02it/s]\u001b[A\n",
      " 41%|████      | 1276/3138 [20:09<27:35,  1.12it/s]\u001b[A\n",
      " 41%|████      | 1277/3138 [20:14<59:30,  1.92s/it]\u001b[A\n",
      " 41%|████      | 1278/3138 [20:14<47:13,  1.52s/it]\u001b[A\n",
      " 41%|████      | 1279/3138 [20:18<1:05:53,  2.13s/it]\u001b[A\n",
      " 41%|████      | 1280/3138 [20:19<57:15,  1.85s/it]  \u001b[A\n",
      " 41%|████      | 1281/3138 [20:20<45:12,  1.46s/it]\u001b[A\n",
      " 41%|████      | 1282/3138 [20:20<38:13,  1.24s/it]\u001b[A\n",
      " 41%|████      | 1283/3138 [20:21<31:22,  1.01s/it]\u001b[A\n",
      " 41%|████      | 1284/3138 [20:21<26:26,  1.17it/s]\u001b[A\n",
      " 41%|████      | 1285/3138 [20:22<22:31,  1.37it/s]\u001b[A\n",
      " 41%|████      | 1287/3138 [20:23<19:46,  1.56it/s]\u001b[A\n",
      " 41%|████      | 1288/3138 [20:23<18:10,  1.70it/s]\u001b[A\n",
      " 41%|████      | 1289/3138 [20:23<16:59,  1.81it/s]\u001b[A\n",
      " 41%|████      | 1290/3138 [20:24<16:36,  1.85it/s]\u001b[A\n",
      " 41%|████      | 1291/3138 [20:25<19:31,  1.58it/s]\u001b[A\n",
      " 41%|████      | 1292/3138 [20:25<17:53,  1.72it/s]\u001b[A\n",
      " 41%|████      | 1293/3138 [20:26<19:21,  1.59it/s]\u001b[A\n",
      " 41%|████      | 1294/3138 [20:27<17:54,  1.72it/s]\u001b[A\n",
      " 41%|████▏     | 1295/3138 [20:28<24:00,  1.28it/s]\u001b[A\n",
      " 41%|████▏     | 1296/3138 [20:35<1:27:26,  2.85s/it]\u001b[A\n",
      " 41%|████▏     | 1297/3138 [20:36<1:05:28,  2.13s/it]\u001b[A\n",
      " 41%|████▏     | 1302/3138 [20:50<1:11:26,  2.33s/it]\u001b[A\n",
      " 42%|████▏     | 1303/3138 [20:50<53:50,  1.76s/it]  \u001b[A\n",
      " 42%|████▏     | 1304/3138 [20:51<41:02,  1.34s/it]\u001b[A\n",
      " 42%|████▏     | 1305/3138 [20:51<31:57,  1.05s/it]\u001b[A\n",
      " 42%|████▏     | 1307/3138 [20:51<24:17,  1.26it/s]\u001b[A\n",
      " 42%|████▏     | 1308/3138 [20:52<21:07,  1.44it/s]\u001b[A\n",
      " 42%|████▏     | 1309/3138 [20:54<38:09,  1.25s/it]\u001b[A\n",
      " 42%|████▏     | 1310/3138 [20:55<31:10,  1.02s/it]\u001b[A\n",
      " 42%|████▏     | 1311/3138 [20:59<57:17,  1.88s/it]\u001b[A\n",
      " 42%|████▏     | 1313/3138 [20:59<42:06,  1.38s/it]\u001b[A\n",
      " 42%|████▏     | 1315/3138 [21:03<48:21,  1.59s/it]\u001b[A\n",
      " 42%|████▏     | 1316/3138 [21:04<37:25,  1.23s/it]\u001b[A\n",
      " 42%|████▏     | 1317/3138 [21:04<30:52,  1.02s/it]\u001b[A\n",
      " 42%|████▏     | 1318/3138 [21:05<27:31,  1.10it/s]\u001b[A\n",
      " 42%|████▏     | 1319/3138 [21:06<26:52,  1.13it/s]\u001b[A\n",
      " 42%|████▏     | 1320/3138 [21:06<23:09,  1.31it/s]\u001b[A\n",
      " 42%|████▏     | 1321/3138 [21:08<27:34,  1.10it/s]\u001b[A\n",
      " 42%|████▏     | 1322/3138 [21:08<23:53,  1.27it/s]\u001b[A\n",
      " 42%|████▏     | 1323/3138 [21:10<34:30,  1.14s/it]\u001b[A\n",
      " 42%|████▏     | 1324/3138 [21:11<29:31,  1.02it/s]\u001b[A\n",
      " 42%|████▏     | 1325/3138 [21:12<30:50,  1.02s/it]\u001b[A\n",
      " 42%|████▏     | 1326/3138 [21:13<35:07,  1.16s/it]\u001b[A\n",
      " 42%|████▏     | 1327/3138 [21:14<29:53,  1.01it/s]\u001b[A\n",
      " 42%|████▏     | 1328/3138 [21:14<25:42,  1.17it/s]\u001b[A\n",
      " 42%|████▏     | 1329/3138 [21:15<23:14,  1.30it/s]\u001b[A\n",
      " 42%|████▏     | 1330/3138 [21:15<20:43,  1.45it/s]\u001b[A\n",
      " 42%|████▏     | 1331/3138 [21:16<19:10,  1.57it/s]\u001b[A\n",
      " 42%|████▏     | 1332/3138 [21:16<18:01,  1.67it/s]\u001b[A\n",
      " 42%|████▏     | 1333/3138 [21:17<16:55,  1.78it/s]\u001b[A\n",
      " 43%|████▎     | 1334/3138 [21:18<21:58,  1.37it/s]\u001b[A\n",
      " 43%|████▎     | 1336/3138 [21:19<17:38,  1.70it/s]\u001b[A\n",
      " 43%|████▎     | 1337/3138 [21:19<16:59,  1.77it/s]\u001b[A\n",
      " 43%|████▎     | 1338/3138 [21:20<15:58,  1.88it/s]\u001b[A\n",
      " 43%|████▎     | 1339/3138 [21:20<17:56,  1.67it/s]\u001b[A\n",
      " 43%|████▎     | 1340/3138 [21:21<16:50,  1.78it/s]\u001b[A\n",
      " 43%|████▎     | 1341/3138 [21:21<16:05,  1.86it/s]\u001b[A\n",
      " 43%|████▎     | 1342/3138 [21:22<15:35,  1.92it/s]\u001b[A\n",
      " 43%|████▎     | 1343/3138 [21:22<16:27,  1.82it/s]\u001b[A\n",
      " 43%|████▎     | 1344/3138 [21:23<15:20,  1.95it/s]\u001b[A\n",
      " 43%|████▎     | 1345/3138 [21:23<14:34,  2.05it/s]\u001b[A\n",
      " 43%|████▎     | 1346/3138 [21:24<13:20,  2.24it/s]\u001b[A\n",
      " 43%|████▎     | 1348/3138 [21:24<11:10,  2.67it/s]\u001b[A\n",
      " 43%|████▎     | 1349/3138 [21:24<11:51,  2.51it/s]\u001b[A\n",
      " 43%|████▎     | 1352/3138 [21:25<09:23,  3.17it/s]\u001b[A\n",
      " 43%|████▎     | 1353/3138 [21:25<10:42,  2.78it/s]\u001b[A\n",
      " 43%|████▎     | 1355/3138 [21:26<09:35,  3.10it/s]\u001b[A\n",
      " 43%|████▎     | 1356/3138 [21:26<11:16,  2.63it/s]\u001b[A\n",
      " 43%|████▎     | 1357/3138 [21:27<12:21,  2.40it/s]\u001b[A\n",
      " 43%|████▎     | 1359/3138 [21:27<10:53,  2.72it/s]\u001b[A\n",
      " 43%|████▎     | 1360/3138 [21:28<11:59,  2.47it/s]\u001b[A\n",
      " 43%|████▎     | 1362/3138 [21:28<10:20,  2.86it/s]\u001b[A\n",
      " 43%|████▎     | 1364/3138 [21:29<09:24,  3.15it/s]\u001b[A\n",
      " 43%|████▎     | 1365/3138 [21:29<11:25,  2.59it/s]\u001b[A\n",
      " 44%|████▎     | 1366/3138 [21:30<12:20,  2.39it/s]\u001b[A\n",
      " 44%|████▎     | 1367/3138 [21:30<12:48,  2.30it/s]\u001b[A\n",
      " 44%|████▎     | 1369/3138 [21:31<11:02,  2.67it/s]\u001b[A\n",
      " 44%|████▎     | 1371/3138 [21:31<09:52,  2.98it/s]\u001b[A\n",
      " 44%|████▍     | 1373/3138 [21:32<09:12,  3.19it/s]\u001b[A\n",
      " 44%|████▍     | 1374/3138 [21:32<12:20,  2.38it/s]\u001b[A\n",
      " 44%|████▍     | 1375/3138 [21:33<12:40,  2.32it/s]\u001b[A\n",
      " 44%|████▍     | 1376/3138 [21:33<11:47,  2.49it/s]\u001b[A\n",
      " 44%|████▍     | 1377/3138 [21:34<12:07,  2.42it/s]\u001b[A\n",
      " 44%|████▍     | 1378/3138 [21:34<15:28,  1.89it/s]\u001b[A\n",
      " 44%|████▍     | 1379/3138 [21:35<15:24,  1.90it/s]\u001b[A\n",
      " 44%|████▍     | 1380/3138 [21:35<15:53,  1.84it/s]\u001b[A\n",
      " 44%|████▍     | 1381/3138 [21:36<20:03,  1.46it/s]\u001b[A\n",
      " 44%|████▍     | 1383/3138 [21:37<16:14,  1.80it/s]\u001b[A\n",
      " 44%|████▍     | 1384/3138 [21:38<16:12,  1.80it/s]\u001b[A\n",
      " 44%|████▍     | 1385/3138 [21:38<17:37,  1.66it/s]\u001b[A\n",
      " 44%|████▍     | 1386/3138 [21:39<15:55,  1.83it/s]\u001b[A\n",
      " 44%|████▍     | 1388/3138 [21:39<13:20,  2.19it/s]\u001b[A\n",
      " 44%|████▍     | 1389/3138 [21:40<13:29,  2.16it/s]\u001b[A\n",
      " 44%|████▍     | 1390/3138 [21:41<17:21,  1.68it/s]\u001b[A\n",
      " 44%|████▍     | 1391/3138 [21:41<17:07,  1.70it/s]\u001b[A\n",
      " 44%|████▍     | 1392/3138 [21:43<25:43,  1.13it/s]\u001b[A\n",
      " 44%|████▍     | 1393/3138 [21:43<22:50,  1.27it/s]\u001b[A\n",
      " 44%|████▍     | 1394/3138 [21:44<20:33,  1.41it/s]\u001b[A\n",
      " 44%|████▍     | 1395/3138 [21:44<19:37,  1.48it/s]\u001b[A\n",
      " 44%|████▍     | 1396/3138 [21:45<18:04,  1.61it/s]\u001b[A\n",
      " 45%|████▍     | 1397/3138 [21:45<16:48,  1.73it/s]\u001b[A\n",
      " 45%|████▍     | 1398/3138 [21:46<16:49,  1.72it/s]\u001b[A\n",
      " 45%|████▍     | 1399/3138 [21:46<16:20,  1.77it/s]\u001b[A\n",
      " 45%|████▍     | 1400/3138 [21:47<16:56,  1.71it/s]\u001b[A\n",
      " 45%|████▍     | 1401/3138 [21:48<21:17,  1.36it/s]\u001b[A\n",
      " 45%|████▍     | 1402/3138 [21:49<21:21,  1.35it/s]\u001b[A\n",
      " 45%|████▍     | 1403/3138 [21:50<22:24,  1.29it/s]\u001b[A\n",
      " 45%|████▍     | 1404/3138 [21:50<20:22,  1.42it/s]\u001b[A\n",
      " 45%|████▍     | 1405/3138 [21:52<31:30,  1.09s/it]\u001b[A\n",
      " 45%|████▍     | 1406/3138 [21:53<25:58,  1.11it/s]\u001b[A\n",
      " 45%|████▍     | 1407/3138 [21:55<34:37,  1.20s/it]\u001b[A\n",
      " 45%|████▍     | 1408/3138 [21:55<28:16,  1.02it/s]\u001b[A\n",
      " 45%|████▍     | 1409/3138 [21:57<35:31,  1.23s/it]\u001b[A\n",
      " 45%|████▍     | 1410/3138 [21:58<30:11,  1.05s/it]\u001b[A\n",
      " 45%|████▍     | 1411/3138 [21:59<34:49,  1.21s/it]\u001b[A\n",
      " 45%|████▍     | 1412/3138 [22:00<34:31,  1.20s/it]\u001b[A\n",
      " 45%|████▌     | 1413/3138 [22:01<30:38,  1.07s/it]\u001b[A\n",
      " 45%|████▌     | 1414/3138 [22:02<28:41,  1.00it/s]\u001b[A\n",
      " 45%|████▌     | 1416/3138 [22:03<22:32,  1.27it/s]\u001b[A\n",
      " 45%|████▌     | 1417/3138 [22:03<19:53,  1.44it/s]\u001b[A\n",
      " 45%|████▌     | 1418/3138 [22:04<19:34,  1.46it/s]\u001b[A\n",
      " 45%|████▌     | 1419/3138 [22:05<25:57,  1.10it/s]\u001b[A\n",
      " 45%|████▌     | 1421/3138 [22:05<19:23,  1.48it/s]\u001b[A\n",
      " 45%|████▌     | 1422/3138 [22:06<17:44,  1.61it/s]\u001b[A\n",
      " 45%|████▌     | 1423/3138 [22:06<16:48,  1.70it/s]\u001b[A\n",
      " 45%|████▌     | 1424/3138 [22:07<15:47,  1.81it/s]\u001b[A\n",
      " 45%|████▌     | 1426/3138 [22:07<13:09,  2.17it/s]\u001b[A\n",
      " 46%|████▌     | 1428/3138 [22:08<11:18,  2.52it/s]\u001b[A\n",
      " 46%|████▌     | 1429/3138 [22:08<13:20,  2.13it/s]\u001b[A\n",
      " 46%|████▌     | 1430/3138 [22:12<42:05,  1.48s/it]\u001b[A\n",
      " 46%|████▌     | 1432/3138 [22:13<31:14,  1.10s/it]\u001b[A\n",
      " 46%|████▌     | 1435/3138 [22:13<23:04,  1.23it/s]\u001b[A\n",
      " 46%|████▌     | 1436/3138 [22:18<55:48,  1.97s/it]\u001b[A\n",
      " 46%|████▌     | 1438/3138 [22:18<41:29,  1.46s/it]\u001b[A\n",
      " 46%|████▌     | 1439/3138 [22:19<33:52,  1.20s/it]\u001b[A\n",
      " 46%|████▌     | 1440/3138 [22:20<31:19,  1.11s/it]\u001b[A\n",
      " 46%|████▌     | 1441/3138 [22:20<26:47,  1.06it/s]\u001b[A\n",
      " 46%|████▌     | 1443/3138 [22:21<22:52,  1.23it/s]\u001b[A\n",
      " 46%|████▌     | 1445/3138 [22:23<24:08,  1.17it/s]\u001b[A\n",
      " 46%|████▌     | 1446/3138 [22:24<20:56,  1.35it/s]\u001b[A\n",
      " 46%|████▌     | 1447/3138 [22:27<40:44,  1.45s/it]\u001b[A\n",
      " 46%|████▌     | 1448/3138 [22:28<36:50,  1.31s/it]\u001b[A\n",
      " 46%|████▌     | 1449/3138 [22:31<52:44,  1.87s/it]\u001b[A\n",
      " 46%|████▌     | 1450/3138 [22:33<49:18,  1.75s/it]\u001b[A\n",
      " 46%|████▋     | 1453/3138 [22:34<39:21,  1.40s/it]\u001b[A\n",
      " 46%|████▋     | 1454/3138 [22:35<34:40,  1.24s/it]\u001b[A\n",
      " 46%|████▋     | 1455/3138 [22:36<34:23,  1.23s/it]\u001b[A\n",
      " 46%|████▋     | 1456/3138 [22:37<27:45,  1.01it/s]\u001b[A\n",
      " 46%|████▋     | 1457/3138 [22:38<31:43,  1.13s/it]\u001b[A\n",
      " 46%|████▋     | 1458/3138 [22:39<27:19,  1.02it/s]\u001b[A\n",
      " 46%|████▋     | 1459/3138 [22:40<31:30,  1.13s/it]\u001b[A\n",
      " 47%|████▋     | 1460/3138 [22:41<29:31,  1.06s/it]\u001b[A\n",
      " 47%|████▋     | 1461/3138 [22:42<30:26,  1.09s/it]\u001b[A\n",
      " 47%|████▋     | 1462/3138 [22:43<25:06,  1.11it/s]\u001b[A\n",
      " 47%|████▋     | 1463/3138 [22:47<51:02,  1.83s/it]\u001b[A\n",
      " 47%|████▋     | 1465/3138 [22:47<37:33,  1.35s/it]\u001b[A\n",
      " 47%|████▋     | 1466/3138 [22:48<30:11,  1.08s/it]\u001b[A\n",
      " 47%|████▋     | 1467/3138 [22:48<25:07,  1.11it/s]\u001b[A\n",
      " 47%|████▋     | 1469/3138 [22:49<19:30,  1.43it/s]\u001b[A\n",
      " 47%|████▋     | 1470/3138 [22:49<17:08,  1.62it/s]\u001b[A\n",
      " 47%|████▋     | 1471/3138 [22:50<16:15,  1.71it/s]\u001b[A\n",
      " 47%|████▋     | 1472/3138 [22:50<15:13,  1.82it/s]\u001b[A\n",
      " 47%|████▋     | 1473/3138 [22:51<15:45,  1.76it/s]\u001b[A\n",
      " 47%|████▋     | 1475/3138 [22:51<13:24,  2.07it/s]\u001b[A\n",
      " 47%|████▋     | 1477/3138 [22:52<11:25,  2.42it/s]\u001b[A\n",
      " 47%|████▋     | 1479/3138 [22:52<10:01,  2.76it/s]\u001b[A\n",
      " 47%|████▋     | 1480/3138 [22:53<11:15,  2.45it/s]\u001b[A\n",
      " 47%|████▋     | 1481/3138 [22:53<12:05,  2.28it/s]\u001b[A\n",
      " 47%|████▋     | 1483/3138 [22:54<10:34,  2.61it/s]\u001b[A\n",
      " 47%|████▋     | 1484/3138 [22:54<11:05,  2.49it/s]\u001b[A\n",
      " 47%|████▋     | 1485/3138 [22:55<11:45,  2.34it/s]\u001b[A\n",
      " 47%|████▋     | 1489/3138 [22:55<09:34,  2.87it/s]\u001b[A\n",
      " 47%|████▋     | 1490/3138 [22:56<10:52,  2.52it/s]\u001b[A\n",
      " 48%|████▊     | 1491/3138 [22:56<11:32,  2.38it/s]\u001b[A\n",
      " 48%|████▊     | 1492/3138 [22:57<12:29,  2.20it/s]\u001b[A\n",
      " 48%|████▊     | 1493/3138 [22:57<12:44,  2.15it/s]\u001b[A\n",
      " 48%|████▊     | 1494/3138 [22:58<13:15,  2.07it/s]\u001b[A\n",
      " 48%|████▊     | 1496/3138 [22:58<11:07,  2.46it/s]\u001b[A\n",
      " 48%|████▊     | 1498/3138 [22:59<09:36,  2.85it/s]\u001b[A\n",
      " 48%|████▊     | 1499/3138 [22:59<09:10,  2.98it/s]\u001b[A\n",
      " 48%|████▊     | 1500/3138 [23:00<10:05,  2.71it/s]\u001b[A\n",
      " 48%|████▊     | 1505/3138 [23:00<07:48,  3.49it/s]\u001b[A\n",
      " 48%|████▊     | 1507/3138 [23:01<07:29,  3.63it/s]\u001b[A\n",
      " 48%|████▊     | 1508/3138 [23:01<09:15,  2.94it/s]\u001b[A\n",
      " 48%|████▊     | 1509/3138 [23:02<10:25,  2.60it/s]\u001b[A\n",
      " 48%|████▊     | 1510/3138 [23:02<11:09,  2.43it/s]\u001b[A\n",
      " 48%|████▊     | 1512/3138 [23:02<09:35,  2.83it/s]\u001b[A\n",
      " 48%|████▊     | 1513/3138 [23:03<10:45,  2.52it/s]\u001b[A\n",
      " 48%|████▊     | 1514/3138 [23:03<11:21,  2.38it/s]\u001b[A\n",
      " 48%|████▊     | 1515/3138 [23:04<11:57,  2.26it/s]\u001b[A\n",
      " 48%|████▊     | 1516/3138 [23:04<12:05,  2.23it/s]\u001b[A\n",
      " 48%|████▊     | 1517/3138 [23:05<12:13,  2.21it/s]\u001b[A\n",
      " 48%|████▊     | 1519/3138 [23:05<10:29,  2.57it/s]\u001b[A\n",
      " 48%|████▊     | 1520/3138 [23:06<11:11,  2.41it/s]\u001b[A\n",
      " 48%|████▊     | 1521/3138 [23:06<11:58,  2.25it/s]\u001b[A\n",
      " 49%|████▊     | 1522/3138 [23:07<12:11,  2.21it/s]\u001b[A\n",
      " 49%|████▊     | 1523/3138 [23:07<12:13,  2.20it/s]\u001b[A\n",
      " 49%|████▊     | 1524/3138 [23:08<12:21,  2.18it/s]\u001b[A\n",
      " 49%|████▊     | 1525/3138 [23:08<12:35,  2.14it/s]\u001b[A\n",
      " 49%|████▊     | 1526/3138 [23:09<12:32,  2.14it/s]\u001b[A\n",
      " 49%|████▊     | 1527/3138 [23:09<12:30,  2.15it/s]\u001b[A\n",
      " 49%|████▊     | 1529/3138 [23:10<10:37,  2.52it/s]\u001b[A\n",
      " 49%|████▉     | 1530/3138 [23:10<11:00,  2.43it/s]\u001b[A\n",
      " 49%|████▉     | 1531/3138 [23:11<11:21,  2.36it/s]\u001b[A\n",
      " 49%|████▉     | 1534/3138 [23:11<09:18,  2.87it/s]\u001b[A\n",
      " 49%|████▉     | 1536/3138 [23:12<08:57,  2.98it/s]\u001b[A\n",
      " 49%|████▉     | 1538/3138 [23:12<08:03,  3.31it/s]\u001b[A\n",
      " 49%|████▉     | 1539/3138 [23:13<09:20,  2.85it/s]\u001b[A\n",
      " 49%|████▉     | 1540/3138 [23:13<10:10,  2.62it/s]\u001b[A\n",
      " 49%|████▉     | 1541/3138 [23:13<10:51,  2.45it/s]\u001b[A\n",
      " 49%|████▉     | 1543/3138 [23:14<09:55,  2.68it/s]\u001b[A\n",
      " 49%|████▉     | 1544/3138 [23:15<13:06,  2.03it/s]\u001b[A\n",
      " 49%|████▉     | 1545/3138 [23:16<17:28,  1.52it/s]\u001b[A\n",
      " 49%|████▉     | 1546/3138 [23:16<16:24,  1.62it/s]\u001b[A\n",
      " 49%|████▉     | 1548/3138 [23:17<13:12,  2.01it/s]\u001b[A\n",
      " 49%|████▉     | 1549/3138 [23:17<12:45,  2.08it/s]\u001b[A\n",
      " 49%|████▉     | 1551/3138 [23:18<10:25,  2.54it/s]\u001b[A\n",
      " 49%|████▉     | 1552/3138 [23:18<10:56,  2.41it/s]\u001b[A\n",
      " 50%|████▉     | 1555/3138 [23:19<08:42,  3.03it/s]\u001b[A\n",
      " 50%|████▉     | 1556/3138 [23:19<09:56,  2.65it/s]\u001b[A\n",
      " 50%|████▉     | 1557/3138 [23:19<10:40,  2.47it/s]\u001b[A\n",
      " 50%|████▉     | 1558/3138 [23:20<11:03,  2.38it/s]\u001b[A\n",
      " 50%|████▉     | 1562/3138 [23:20<08:37,  3.04it/s]\u001b[A\n",
      " 50%|████▉     | 1563/3138 [23:21<09:16,  2.83it/s]\u001b[A\n",
      " 50%|████▉     | 1564/3138 [23:21<10:17,  2.55it/s]\u001b[A\n",
      " 50%|████▉     | 1566/3138 [23:22<09:20,  2.80it/s]\u001b[A\n",
      " 50%|████▉     | 1567/3138 [23:22<10:25,  2.51it/s]\u001b[A\n",
      " 50%|████▉     | 1568/3138 [23:23<11:00,  2.38it/s]\u001b[A\n",
      " 50%|█████     | 1569/3138 [23:23<11:32,  2.26it/s]\u001b[A\n",
      " 50%|█████     | 1570/3138 [23:24<11:42,  2.23it/s]\u001b[A\n",
      " 50%|█████     | 1571/3138 [23:24<10:38,  2.45it/s]\u001b[A\n",
      " 50%|█████     | 1575/3138 [23:24<08:08,  3.20it/s]\u001b[A\n",
      " 50%|█████     | 1576/3138 [23:25<09:36,  2.71it/s]\u001b[A\n",
      " 50%|█████     | 1577/3138 [23:25<10:23,  2.50it/s]\u001b[A\n",
      " 50%|█████     | 1578/3138 [23:26<10:59,  2.36it/s]\u001b[A\n",
      " 50%|█████     | 1580/3138 [23:26<09:38,  2.69it/s]\u001b[A\n",
      " 50%|█████     | 1581/3138 [23:27<10:22,  2.50it/s]\u001b[A\n",
      " 50%|█████     | 1584/3138 [23:27<08:40,  2.99it/s]\u001b[A\n",
      " 51%|█████     | 1586/3138 [23:28<07:54,  3.27it/s]\u001b[A\n",
      " 51%|█████     | 1588/3138 [23:28<07:15,  3.56it/s]\u001b[A\n",
      " 51%|█████     | 1590/3138 [23:29<06:41,  3.85it/s]\u001b[A\n",
      " 51%|█████     | 1592/3138 [23:29<06:28,  3.98it/s]\u001b[A\n",
      " 51%|█████     | 1593/3138 [23:30<07:02,  3.66it/s]\u001b[A\n",
      " 51%|█████     | 1594/3138 [23:30<08:41,  2.96it/s]\u001b[A\n",
      " 51%|█████     | 1595/3138 [23:31<10:04,  2.55it/s]\u001b[A\n",
      " 51%|█████     | 1597/3138 [23:31<10:11,  2.52it/s]\u001b[A\n",
      " 51%|█████     | 1598/3138 [23:32<10:39,  2.41it/s]\u001b[A\n",
      " 51%|█████     | 1599/3138 [23:32<11:02,  2.32it/s]\u001b[A\n",
      " 51%|█████     | 1600/3138 [23:33<11:11,  2.29it/s]\u001b[A\n",
      " 51%|█████     | 1601/3138 [23:33<11:31,  2.22it/s]\u001b[A\n",
      " 51%|█████     | 1603/3138 [23:34<09:53,  2.58it/s]\u001b[A\n",
      " 51%|█████     | 1605/3138 [23:34<08:27,  3.02it/s]\u001b[A\n",
      " 51%|█████     | 1608/3138 [23:35<07:06,  3.58it/s]\u001b[A\n",
      " 51%|█████▏    | 1609/3138 [23:35<08:19,  3.06it/s]\u001b[A\n",
      " 51%|█████▏    | 1613/3138 [23:35<06:41,  3.80it/s]\u001b[A\n",
      " 51%|█████▏    | 1614/3138 [23:36<08:31,  2.98it/s]\u001b[A\n",
      " 51%|█████▏    | 1616/3138 [23:36<07:51,  3.23it/s]\u001b[A\n",
      " 52%|█████▏    | 1617/3138 [23:37<09:02,  2.80it/s]\u001b[A\n",
      " 52%|█████▏    | 1618/3138 [23:37<08:53,  2.85it/s]\u001b[A\n",
      " 52%|█████▏    | 1621/3138 [23:38<07:23,  3.42it/s]\u001b[A\n",
      " 52%|█████▏    | 1622/3138 [23:38<08:43,  2.90it/s]\u001b[A\n",
      " 52%|█████▏    | 1623/3138 [23:39<10:16,  2.46it/s]\u001b[A\n",
      " 52%|█████▏    | 1626/3138 [23:39<08:21,  3.02it/s]\u001b[A\n",
      " 52%|█████▏    | 1627/3138 [23:40<09:24,  2.68it/s]\u001b[A\n",
      " 52%|█████▏    | 1629/3138 [23:40<08:23,  3.00it/s]\u001b[A\n",
      " 52%|█████▏    | 1630/3138 [23:41<09:31,  2.64it/s]\u001b[A\n",
      " 52%|█████▏    | 1633/3138 [23:41<07:49,  3.20it/s]\u001b[A\n",
      " 52%|█████▏    | 1634/3138 [23:42<09:19,  2.69it/s]\u001b[A\n",
      " 52%|█████▏    | 1635/3138 [23:42<10:04,  2.49it/s]\u001b[A\n",
      " 52%|█████▏    | 1637/3138 [23:43<08:52,  2.82it/s]\u001b[A\n",
      " 52%|█████▏    | 1638/3138 [23:43<08:22,  2.98it/s]\u001b[A\n",
      " 52%|█████▏    | 1639/3138 [23:43<09:31,  2.62it/s]\u001b[A\n",
      " 52%|█████▏    | 1640/3138 [23:44<10:10,  2.45it/s]\u001b[A\n",
      " 52%|█████▏    | 1643/3138 [23:44<08:19,  2.99it/s]\u001b[A\n",
      " 52%|█████▏    | 1644/3138 [23:45<10:49,  2.30it/s]\u001b[A\n",
      " 52%|█████▏    | 1645/3138 [23:46<14:45,  1.69it/s]\u001b[A\n",
      " 52%|█████▏    | 1646/3138 [23:47<16:13,  1.53it/s]\u001b[A\n",
      " 52%|█████▏    | 1647/3138 [23:51<41:02,  1.65s/it]\u001b[A\n",
      " 53%|█████▎    | 1648/3138 [23:57<1:12:19,  2.91s/it]\u001b[A\n",
      " 53%|█████▎    | 1649/3138 [23:57<53:51,  2.17s/it]  \u001b[A\n",
      " 53%|█████▎    | 1650/3138 [23:58<41:40,  1.68s/it]\u001b[A\n",
      " 53%|█████▎    | 1651/3138 [23:58<33:02,  1.33s/it]\u001b[A\n",
      " 53%|█████▎    | 1652/3138 [24:02<54:45,  2.21s/it]\u001b[A\n",
      " 53%|█████▎    | 1653/3138 [24:03<42:57,  1.74s/it]\u001b[A\n",
      " 53%|█████▎    | 1654/3138 [24:04<38:10,  1.54s/it]\u001b[A\n",
      " 53%|█████▎    | 1655/3138 [24:05<30:04,  1.22s/it]\u001b[A\n",
      " 53%|█████▎    | 1656/3138 [24:06<33:08,  1.34s/it]\u001b[A\n",
      " 53%|█████▎    | 1657/3138 [24:07<26:43,  1.08s/it]\u001b[A\n",
      " 53%|█████▎    | 1658/3138 [24:08<29:47,  1.21s/it]\u001b[A\n",
      " 53%|█████▎    | 1659/3138 [24:09<24:11,  1.02it/s]\u001b[A\n",
      " 53%|█████▎    | 1660/3138 [24:09<21:55,  1.12it/s]\u001b[A\n",
      " 53%|█████▎    | 1661/3138 [24:10<18:47,  1.31it/s]\u001b[A\n",
      " 53%|█████▎    | 1662/3138 [24:14<46:58,  1.91s/it]\u001b[A\n",
      " 53%|█████▎    | 1663/3138 [24:15<36:26,  1.48s/it]\u001b[A\n",
      " 53%|█████▎    | 1664/3138 [24:15<28:57,  1.18s/it]\u001b[A\n",
      " 53%|█████▎    | 1665/3138 [24:16<23:45,  1.03it/s]\u001b[A\n",
      " 53%|█████▎    | 1666/3138 [24:16<20:10,  1.22it/s]\u001b[A\n",
      " 53%|█████▎    | 1667/3138 [24:17<23:03,  1.06it/s]\u001b[A\n",
      " 53%|█████▎    | 1668/3138 [24:18<19:36,  1.25it/s]\u001b[A\n",
      " 53%|█████▎    | 1669/3138 [24:19<19:49,  1.24it/s]\u001b[A\n",
      " 53%|█████▎    | 1670/3138 [24:20<24:21,  1.00it/s]\u001b[A\n",
      " 53%|█████▎    | 1671/3138 [24:23<39:55,  1.63s/it]\u001b[A\n",
      " 53%|█████▎    | 1672/3138 [24:24<35:09,  1.44s/it]\u001b[A\n",
      " 53%|█████▎    | 1673/3138 [24:25<27:43,  1.14s/it]\u001b[A\n",
      " 53%|█████▎    | 1674/3138 [24:27<37:31,  1.54s/it]\u001b[A\n",
      " 53%|█████▎    | 1676/3138 [24:28<27:27,  1.13s/it]\u001b[A\n",
      " 53%|█████▎    | 1677/3138 [24:28<23:20,  1.04it/s]\u001b[A\n",
      " 53%|█████▎    | 1678/3138 [24:29<21:07,  1.15it/s]\u001b[A\n",
      " 54%|█████▎    | 1679/3138 [24:30<24:13,  1.00it/s]\u001b[A\n",
      " 54%|█████▎    | 1680/3138 [24:31<22:30,  1.08it/s]\u001b[A\n",
      " 54%|█████▎    | 1681/3138 [24:31<19:07,  1.27it/s]\u001b[A\n",
      " 54%|█████▎    | 1682/3138 [24:32<19:15,  1.26it/s]\u001b[A\n",
      " 54%|█████▎    | 1683/3138 [24:33<17:38,  1.37it/s]\u001b[A\n",
      " 54%|█████▎    | 1684/3138 [24:33<15:40,  1.55it/s]\u001b[A\n",
      " 54%|█████▎    | 1685/3138 [24:39<52:13,  2.16s/it]\u001b[A\n",
      " 54%|█████▍    | 1687/3138 [24:39<38:00,  1.57s/it]\u001b[A\n",
      " 54%|█████▍    | 1690/3138 [24:40<27:39,  1.15s/it]\u001b[A\n",
      " 54%|█████▍    | 1691/3138 [24:47<1:12:08,  2.99s/it]\u001b[A\n",
      " 54%|█████▍    | 1692/3138 [24:47<53:39,  2.23s/it]  \u001b[A\n",
      " 54%|█████▍    | 1693/3138 [24:48<39:55,  1.66s/it]\u001b[A\n",
      " 54%|█████▍    | 1694/3138 [24:49<33:32,  1.39s/it]\u001b[A\n",
      " 54%|█████▍    | 1695/3138 [24:49<26:40,  1.11s/it]\u001b[A\n",
      " 54%|█████▍    | 1696/3138 [24:49<21:50,  1.10it/s]\u001b[A\n",
      " 54%|█████▍    | 1699/3138 [24:56<30:12,  1.26s/it]\u001b[A\n",
      " 54%|█████▍    | 1700/3138 [24:56<24:39,  1.03s/it]\u001b[A\n",
      " 54%|█████▍    | 1701/3138 [24:57<25:24,  1.06s/it]\u001b[A\n",
      " 54%|█████▍    | 1702/3138 [24:58<21:39,  1.11it/s]\u001b[A\n",
      " 54%|█████▍    | 1703/3138 [24:59<20:30,  1.17it/s]\u001b[A\n",
      " 54%|█████▍    | 1704/3138 [25:00<25:09,  1.05s/it]\u001b[A\n",
      " 54%|█████▍    | 1705/3138 [25:01<20:52,  1.14it/s]\u001b[A\n",
      " 54%|█████▍    | 1706/3138 [25:02<23:21,  1.02it/s]\u001b[A\n",
      " 54%|█████▍    | 1707/3138 [25:04<29:52,  1.25s/it]\u001b[A\n",
      " 54%|█████▍    | 1708/3138 [25:05<30:19,  1.27s/it]\u001b[A\n",
      " 54%|█████▍    | 1709/3138 [25:06<25:51,  1.09s/it]\u001b[A\n",
      " 54%|█████▍    | 1710/3138 [25:07<26:59,  1.13s/it]\u001b[A\n",
      " 55%|█████▍    | 1711/3138 [25:07<22:14,  1.07it/s]\u001b[A\n",
      " 55%|█████▍    | 1712/3138 [25:12<46:05,  1.94s/it]\u001b[A\n",
      " 55%|█████▍    | 1713/3138 [25:12<35:35,  1.50s/it]\u001b[A\n",
      " 55%|█████▍    | 1714/3138 [25:17<58:19,  2.46s/it]\u001b[A\n",
      " 55%|█████▍    | 1715/3138 [25:19<53:58,  2.28s/it]\u001b[A\n",
      " 55%|█████▍    | 1716/3138 [25:19<41:08,  1.74s/it]\u001b[A\n",
      " 55%|█████▍    | 1717/3138 [25:25<1:07:12,  2.84s/it]\u001b[A\n",
      " 55%|█████▍    | 1718/3138 [25:27<1:05:31,  2.77s/it]\u001b[A\n",
      " 55%|█████▍    | 1719/3138 [25:29<56:06,  2.37s/it]  \u001b[A\n",
      " 55%|█████▍    | 1720/3138 [25:31<59:30,  2.52s/it]\u001b[A\n",
      " 55%|█████▍    | 1721/3138 [25:32<45:47,  1.94s/it]\u001b[A\n",
      " 55%|█████▍    | 1722/3138 [25:33<36:52,  1.56s/it]\u001b[A\n",
      " 55%|█████▍    | 1723/3138 [25:35<38:52,  1.65s/it]\u001b[A\n",
      " 55%|█████▍    | 1724/3138 [25:36<34:09,  1.45s/it]\u001b[A\n",
      " 55%|█████▍    | 1725/3138 [25:40<52:57,  2.25s/it]\u001b[A\n",
      " 55%|█████▌    | 1726/3138 [25:41<43:52,  1.86s/it]\u001b[A\n",
      " 55%|█████▌    | 1727/3138 [25:43<46:33,  1.98s/it]\u001b[A\n",
      " 55%|█████▌    | 1728/3138 [25:43<35:22,  1.51s/it]\u001b[A\n",
      " 55%|█████▌    | 1731/3138 [25:45<28:11,  1.20s/it]\u001b[A\n",
      " 55%|█████▌    | 1732/3138 [25:45<22:44,  1.03it/s]\u001b[A\n",
      " 55%|█████▌    | 1734/3138 [25:47<21:48,  1.07it/s]\u001b[A\n",
      " 55%|█████▌    | 1735/3138 [25:47<18:30,  1.26it/s]\u001b[A\n",
      " 55%|█████▌    | 1736/3138 [25:50<33:17,  1.42s/it]\u001b[A\n",
      " 55%|█████▌    | 1737/3138 [25:51<26:38,  1.14s/it]\u001b[A\n",
      " 55%|█████▌    | 1738/3138 [25:51<22:08,  1.05it/s]\u001b[A\n",
      " 55%|█████▌    | 1739/3138 [25:52<19:28,  1.20it/s]\u001b[A\n",
      " 55%|█████▌    | 1740/3138 [25:52<17:30,  1.33it/s]\u001b[A\n",
      " 55%|█████▌    | 1741/3138 [25:53<16:00,  1.46it/s]\u001b[A\n",
      " 56%|█████▌    | 1742/3138 [25:54<19:37,  1.19it/s]\u001b[A\n",
      " 56%|█████▌    | 1743/3138 [25:55<16:57,  1.37it/s]\u001b[A\n",
      " 56%|█████▌    | 1744/3138 [25:57<30:32,  1.31s/it]\u001b[A\n",
      " 56%|█████▌    | 1745/3138 [26:03<59:50,  2.58s/it]\u001b[A\n",
      " 56%|█████▌    | 1746/3138 [26:03<45:14,  1.95s/it]\u001b[A\n",
      " 56%|█████▌    | 1747/3138 [26:04<35:42,  1.54s/it]\u001b[A\n",
      " 56%|█████▌    | 1748/3138 [26:04<28:14,  1.22s/it]\u001b[A\n",
      " 56%|█████▌    | 1749/3138 [26:05<22:55,  1.01it/s]\u001b[A\n",
      " 56%|█████▌    | 1750/3138 [26:05<19:31,  1.19it/s]\u001b[A\n",
      " 56%|█████▌    | 1751/3138 [26:06<19:38,  1.18it/s]\u001b[A\n",
      " 56%|█████▌    | 1752/3138 [26:06<15:57,  1.45it/s]\u001b[A\n",
      " 56%|█████▌    | 1754/3138 [26:07<12:44,  1.81it/s]\u001b[A\n",
      " 56%|█████▌    | 1755/3138 [26:07<12:30,  1.84it/s]\u001b[A\n",
      " 56%|█████▌    | 1756/3138 [26:08<11:59,  1.92it/s]\u001b[A\n",
      " 56%|█████▌    | 1757/3138 [26:08<11:35,  1.99it/s]\u001b[A\n",
      " 56%|█████▌    | 1758/3138 [26:09<11:37,  1.98it/s]\u001b[A\n",
      " 56%|█████▌    | 1759/3138 [26:09<11:10,  2.06it/s]\u001b[A\n",
      " 56%|█████▌    | 1760/3138 [26:10<10:53,  2.11it/s]\u001b[A\n",
      " 56%|█████▌    | 1761/3138 [26:10<10:55,  2.10it/s]\u001b[A\n",
      " 56%|█████▌    | 1762/3138 [26:11<10:06,  2.27it/s]\u001b[A\n",
      " 56%|█████▌    | 1764/3138 [26:11<08:41,  2.64it/s]\u001b[A\n",
      " 56%|█████▌    | 1765/3138 [26:12<09:18,  2.46it/s]\u001b[A\n",
      " 56%|█████▋    | 1767/3138 [26:12<08:07,  2.81it/s]\u001b[A\n",
      " 56%|█████▋    | 1769/3138 [26:12<07:10,  3.18it/s]\u001b[A\n",
      " 56%|█████▋    | 1770/3138 [26:13<09:02,  2.52it/s]\u001b[A\n",
      " 57%|█████▋    | 1773/3138 [26:13<07:20,  3.10it/s]\u001b[A\n",
      " 57%|█████▋    | 1774/3138 [26:14<08:19,  2.73it/s]\u001b[A\n",
      " 57%|█████▋    | 1775/3138 [26:15<11:17,  2.01it/s]\u001b[A\n",
      " 57%|█████▋    | 1776/3138 [26:15<11:36,  1.96it/s]\u001b[A\n",
      " 57%|█████▋    | 1777/3138 [26:16<11:24,  1.99it/s]\u001b[A\n",
      " 57%|█████▋    | 1778/3138 [26:16<11:14,  2.02it/s]\u001b[A\n",
      " 57%|█████▋    | 1779/3138 [26:17<10:18,  2.20it/s]\u001b[A\n",
      " 57%|█████▋    | 1780/3138 [26:17<09:19,  2.43it/s]\u001b[A\n",
      " 57%|█████▋    | 1781/3138 [26:17<09:43,  2.33it/s]\u001b[A\n",
      " 57%|█████▋    | 1782/3138 [26:18<10:03,  2.25it/s]\u001b[A\n",
      " 57%|█████▋    | 1785/3138 [26:18<07:59,  2.82it/s]\u001b[A\n",
      " 57%|█████▋    | 1787/3138 [26:19<07:11,  3.13it/s]\u001b[A\n",
      " 57%|█████▋    | 1790/3138 [26:19<06:06,  3.68it/s]\u001b[A\n",
      " 57%|█████▋    | 1791/3138 [26:21<13:59,  1.60it/s]\u001b[A\n",
      " 57%|█████▋    | 1792/3138 [26:21<12:50,  1.75it/s]\u001b[A\n",
      " 57%|█████▋    | 1793/3138 [26:22<12:19,  1.82it/s]\u001b[A\n",
      " 57%|█████▋    | 1795/3138 [26:22<10:10,  2.20it/s]\u001b[A\n",
      " 57%|█████▋    | 1799/3138 [26:23<07:51,  2.84it/s]\u001b[A\n",
      " 57%|█████▋    | 1800/3138 [26:23<10:20,  2.15it/s]\u001b[A\n",
      " 57%|█████▋    | 1801/3138 [26:24<12:11,  1.83it/s]\u001b[A\n",
      " 57%|█████▋    | 1802/3138 [26:24<11:27,  1.94it/s]\u001b[A\n",
      " 57%|█████▋    | 1803/3138 [26:25<11:06,  2.00it/s]\u001b[A\n",
      " 58%|█████▊    | 1805/3138 [26:25<09:17,  2.39it/s]\u001b[A\n",
      " 58%|█████▊    | 1807/3138 [26:26<08:05,  2.74it/s]\u001b[A\n",
      " 58%|█████▊    | 1808/3138 [26:26<08:11,  2.70it/s]\u001b[A\n",
      " 58%|█████▊    | 1809/3138 [26:27<08:34,  2.58it/s]\u001b[A\n",
      " 58%|█████▊    | 1811/3138 [26:27<07:27,  2.97it/s]\u001b[A\n",
      " 58%|█████▊    | 1812/3138 [26:28<08:15,  2.68it/s]\u001b[A\n",
      " 58%|█████▊    | 1813/3138 [26:28<08:31,  2.59it/s]\u001b[A\n",
      " 58%|█████▊    | 1814/3138 [26:28<09:05,  2.43it/s]\u001b[A\n",
      " 58%|█████▊    | 1815/3138 [26:29<09:27,  2.33it/s]\u001b[A\n",
      " 58%|█████▊    | 1816/3138 [26:29<09:50,  2.24it/s]\u001b[A\n",
      " 58%|█████▊    | 1817/3138 [26:30<13:15,  1.66it/s]\u001b[A\n",
      " 58%|█████▊    | 1818/3138 [26:32<19:24,  1.13it/s]\u001b[A\n",
      " 58%|█████▊    | 1819/3138 [26:32<17:19,  1.27it/s]\u001b[A\n",
      " 58%|█████▊    | 1820/3138 [26:33<15:12,  1.44it/s]\u001b[A\n",
      " 58%|█████▊    | 1821/3138 [26:33<13:58,  1.57it/s]\u001b[A\n",
      " 58%|█████▊    | 1822/3138 [26:34<13:04,  1.68it/s]\u001b[A\n",
      " 58%|█████▊    | 1823/3138 [26:34<12:41,  1.73it/s]\u001b[A\n",
      " 58%|█████▊    | 1825/3138 [26:35<09:47,  2.24it/s]\u001b[A\n",
      " 58%|█████▊    | 1826/3138 [26:35<09:43,  2.25it/s]\u001b[A\n",
      " 58%|█████▊    | 1827/3138 [26:36<09:49,  2.22it/s]\u001b[A\n",
      " 58%|█████▊    | 1828/3138 [26:36<08:48,  2.48it/s]\u001b[A\n",
      " 58%|█████▊    | 1829/3138 [26:36<09:02,  2.41it/s]\u001b[A\n",
      " 58%|█████▊    | 1830/3138 [26:37<09:19,  2.34it/s]\u001b[A\n",
      " 58%|█████▊    | 1832/3138 [26:37<08:00,  2.72it/s]\u001b[A\n",
      " 58%|█████▊    | 1833/3138 [26:38<08:51,  2.46it/s]\u001b[A\n",
      " 58%|█████▊    | 1835/3138 [26:38<07:43,  2.81it/s]\u001b[A\n",
      " 59%|█████▊    | 1836/3138 [26:39<08:28,  2.56it/s]\u001b[A\n",
      " 59%|█████▊    | 1839/3138 [26:39<06:35,  3.29it/s]\u001b[A\n",
      " 59%|█████▊    | 1840/3138 [26:40<07:34,  2.86it/s]\u001b[A\n",
      " 59%|█████▊    | 1842/3138 [26:40<06:51,  3.15it/s]\u001b[A\n",
      " 59%|█████▊    | 1843/3138 [26:41<07:58,  2.71it/s]\u001b[A\n",
      " 59%|█████▉    | 1845/3138 [26:41<06:59,  3.08it/s]\u001b[A\n",
      " 59%|█████▉    | 1847/3138 [26:41<06:12,  3.47it/s]\u001b[A\n",
      " 59%|█████▉    | 1849/3138 [26:42<07:36,  2.83it/s]\u001b[A\n",
      " 59%|█████▉    | 1850/3138 [26:43<08:48,  2.44it/s]\u001b[A\n",
      " 59%|█████▉    | 1851/3138 [26:44<11:57,  1.79it/s]\u001b[A\n",
      " 59%|█████▉    | 1852/3138 [26:44<12:00,  1.78it/s]\u001b[A\n",
      " 59%|█████▉    | 1854/3138 [26:45<09:52,  2.17it/s]\u001b[A\n",
      " 59%|█████▉    | 1855/3138 [26:45<10:19,  2.07it/s]\u001b[A\n",
      " 59%|█████▉    | 1856/3138 [26:46<10:07,  2.11it/s]\u001b[A\n",
      " 59%|█████▉    | 1857/3138 [26:47<15:59,  1.33it/s]\u001b[A\n",
      " 59%|█████▉    | 1858/3138 [26:48<14:15,  1.50it/s]\u001b[A\n",
      " 59%|█████▉    | 1859/3138 [26:49<15:15,  1.40it/s]\u001b[A\n",
      " 59%|█████▉    | 1860/3138 [26:49<13:52,  1.54it/s]\u001b[A\n",
      " 59%|█████▉    | 1861/3138 [26:50<12:45,  1.67it/s]\u001b[A\n",
      " 59%|█████▉    | 1862/3138 [26:50<12:15,  1.74it/s]\u001b[A\n",
      " 59%|█████▉    | 1863/3138 [26:50<11:33,  1.84it/s]\u001b[A\n",
      " 59%|█████▉    | 1864/3138 [26:51<10:40,  1.99it/s]\u001b[A\n",
      " 59%|█████▉    | 1865/3138 [26:51<10:12,  2.08it/s]\u001b[A\n",
      " 59%|█████▉    | 1866/3138 [26:52<09:52,  2.15it/s]\u001b[A\n",
      " 59%|█████▉    | 1867/3138 [26:52<09:51,  2.15it/s]\u001b[A\n",
      " 60%|█████▉    | 1868/3138 [26:53<10:07,  2.09it/s]\u001b[A\n",
      " 60%|█████▉    | 1869/3138 [26:53<09:21,  2.26it/s]\u001b[A\n",
      " 60%|█████▉    | 1870/3138 [26:54<09:29,  2.22it/s]\u001b[A\n",
      " 60%|█████▉    | 1871/3138 [26:54<09:14,  2.28it/s]\u001b[A\n",
      " 60%|█████▉    | 1872/3138 [26:54<08:48,  2.40it/s]\u001b[A\n",
      " 60%|█████▉    | 1873/3138 [26:55<08:36,  2.45it/s]\u001b[A\n",
      " 60%|█████▉    | 1874/3138 [26:55<08:56,  2.36it/s]\u001b[A\n",
      " 60%|█████▉    | 1878/3138 [26:56<07:01,  2.99it/s]\u001b[A\n",
      " 60%|█████▉    | 1880/3138 [26:56<06:25,  3.26it/s]\u001b[A\n",
      " 60%|█████▉    | 1881/3138 [26:57<07:58,  2.63it/s]\u001b[A\n",
      " 60%|█████▉    | 1882/3138 [26:57<08:51,  2.37it/s]\u001b[A\n",
      " 60%|██████    | 1883/3138 [26:58<09:04,  2.30it/s]\u001b[A\n",
      " 60%|██████    | 1884/3138 [26:58<09:38,  2.17it/s]\u001b[A\n",
      " 60%|██████    | 1885/3138 [26:59<09:44,  2.14it/s]\u001b[A\n",
      " 60%|██████    | 1887/3138 [26:59<08:14,  2.53it/s]\u001b[A\n",
      " 60%|██████    | 1888/3138 [27:00<08:35,  2.43it/s]\u001b[A\n",
      " 60%|██████    | 1889/3138 [27:00<08:45,  2.38it/s]\u001b[A\n",
      " 60%|██████    | 1892/3138 [27:01<07:05,  2.93it/s]\u001b[A\n",
      " 60%|██████    | 1894/3138 [27:01<05:59,  3.46it/s]\u001b[A\n",
      " 60%|██████    | 1895/3138 [27:01<06:52,  3.01it/s]\u001b[A\n",
      " 60%|██████    | 1896/3138 [27:02<07:40,  2.69it/s]\u001b[A\n",
      " 60%|██████    | 1897/3138 [27:02<08:48,  2.35it/s]\u001b[A\n",
      " 60%|██████    | 1898/3138 [27:03<09:07,  2.27it/s]\u001b[A\n",
      " 61%|██████    | 1899/3138 [27:04<11:47,  1.75it/s]\u001b[A\n",
      " 61%|██████    | 1900/3138 [27:04<11:06,  1.86it/s]\u001b[A\n",
      " 61%|██████    | 1902/3138 [27:05<09:02,  2.28it/s]\u001b[A\n",
      " 61%|██████    | 1904/3138 [27:05<07:38,  2.69it/s]\u001b[A\n",
      " 61%|██████    | 1905/3138 [27:05<08:20,  2.46it/s]\u001b[A\n",
      " 61%|██████    | 1906/3138 [27:06<08:40,  2.37it/s]\u001b[A\n",
      " 61%|██████    | 1908/3138 [27:07<08:56,  2.29it/s]\u001b[A\n",
      " 61%|██████    | 1909/3138 [27:08<11:12,  1.83it/s]\u001b[A\n",
      " 61%|██████    | 1910/3138 [27:08<10:47,  1.90it/s]\u001b[A\n",
      " 61%|██████    | 1913/3138 [27:09<08:34,  2.38it/s]\u001b[A\n",
      " 61%|██████    | 1915/3138 [27:09<07:14,  2.82it/s]\u001b[A\n",
      " 61%|██████    | 1917/3138 [27:10<06:32,  3.11it/s]\u001b[A\n",
      " 61%|██████    | 1919/3138 [27:10<05:53,  3.44it/s]\u001b[A\n",
      " 61%|██████    | 1920/3138 [27:11<08:55,  2.27it/s]\u001b[A\n",
      " 61%|██████    | 1921/3138 [27:11<09:44,  2.08it/s]\u001b[A\n",
      " 61%|██████    | 1922/3138 [27:12<10:51,  1.87it/s]\u001b[A\n",
      " 61%|██████▏   | 1923/3138 [27:12<10:24,  1.94it/s]\u001b[A\n",
      " 61%|██████▏   | 1926/3138 [27:13<08:10,  2.47it/s]\u001b[A\n",
      " 61%|██████▏   | 1927/3138 [27:13<08:37,  2.34it/s]\u001b[A\n",
      " 61%|██████▏   | 1929/3138 [27:14<07:16,  2.77it/s]\u001b[A\n",
      " 62%|██████▏   | 1930/3138 [27:15<11:18,  1.78it/s]\u001b[A\n",
      " 62%|██████▏   | 1931/3138 [27:15<10:33,  1.91it/s]\u001b[A\n",
      " 62%|██████▏   | 1932/3138 [27:16<09:38,  2.09it/s]\u001b[A\n",
      " 62%|██████▏   | 1933/3138 [27:16<09:43,  2.07it/s]\u001b[A\n",
      " 62%|██████▏   | 1934/3138 [27:17<09:38,  2.08it/s]\u001b[A\n",
      " 62%|██████▏   | 1935/3138 [27:17<09:35,  2.09it/s]\u001b[A\n",
      " 62%|██████▏   | 1936/3138 [27:17<09:04,  2.21it/s]\u001b[A\n",
      " 62%|██████▏   | 1939/3138 [27:18<07:24,  2.70it/s]\u001b[A\n",
      " 62%|██████▏   | 1940/3138 [27:19<08:12,  2.43it/s]\u001b[A\n",
      " 62%|██████▏   | 1941/3138 [27:19<08:36,  2.32it/s]\u001b[A\n",
      " 62%|██████▏   | 1942/3138 [27:20<08:58,  2.22it/s]\u001b[A\n",
      " 62%|██████▏   | 1943/3138 [27:20<09:15,  2.15it/s]\u001b[A\n",
      " 62%|██████▏   | 1945/3138 [27:20<07:54,  2.51it/s]\u001b[A\n",
      " 62%|██████▏   | 1946/3138 [27:21<08:03,  2.46it/s]\u001b[A\n",
      " 62%|██████▏   | 1947/3138 [27:21<08:31,  2.33it/s]\u001b[A\n",
      " 62%|██████▏   | 1950/3138 [27:22<06:54,  2.86it/s]\u001b[A\n",
      " 62%|██████▏   | 1951/3138 [27:22<07:38,  2.59it/s]\u001b[A\n",
      " 62%|██████▏   | 1952/3138 [27:23<08:09,  2.42it/s]\u001b[A\n",
      " 62%|██████▏   | 1953/3138 [27:23<08:30,  2.32it/s]\u001b[A\n",
      " 62%|██████▏   | 1954/3138 [27:24<08:33,  2.31it/s]\u001b[A\n",
      " 62%|██████▏   | 1955/3138 [27:24<08:44,  2.25it/s]\u001b[A\n",
      " 62%|██████▏   | 1956/3138 [27:25<08:52,  2.22it/s]\u001b[A\n",
      " 62%|██████▏   | 1957/3138 [27:25<08:48,  2.23it/s]\u001b[A\n",
      " 62%|██████▏   | 1958/3138 [27:26<08:55,  2.21it/s]\u001b[A\n",
      " 62%|██████▏   | 1959/3138 [27:26<08:45,  2.24it/s]\u001b[A\n",
      " 62%|██████▏   | 1960/3138 [27:26<08:44,  2.25it/s]\u001b[A\n",
      " 62%|██████▏   | 1961/3138 [27:27<08:49,  2.22it/s]\u001b[A\n",
      " 63%|██████▎   | 1962/3138 [27:28<12:32,  1.56it/s]\u001b[A\n",
      " 63%|██████▎   | 1963/3138 [27:29<12:17,  1.59it/s]\u001b[A\n",
      " 63%|██████▎   | 1965/3138 [27:29<09:37,  2.03it/s]\u001b[A\n",
      " 63%|██████▎   | 1966/3138 [27:29<09:23,  2.08it/s]\u001b[A\n",
      " 63%|██████▎   | 1967/3138 [27:30<08:57,  2.18it/s]\u001b[A\n",
      " 63%|██████▎   | 1968/3138 [27:30<08:47,  2.22it/s]\u001b[A\n",
      " 63%|██████▎   | 1970/3138 [27:31<07:31,  2.58it/s]\u001b[A\n",
      " 63%|██████▎   | 1971/3138 [27:31<07:42,  2.52it/s]\u001b[A\n",
      " 63%|██████▎   | 1973/3138 [27:32<07:56,  2.45it/s]\u001b[A\n",
      " 63%|██████▎   | 1974/3138 [27:33<08:20,  2.33it/s]\u001b[A\n",
      " 63%|██████▎   | 1975/3138 [27:33<08:35,  2.25it/s]\u001b[A\n",
      " 63%|██████▎   | 1976/3138 [27:33<08:21,  2.32it/s]\u001b[A\n",
      " 63%|██████▎   | 1977/3138 [27:34<08:36,  2.25it/s]\u001b[A\n",
      " 63%|██████▎   | 1978/3138 [27:34<09:37,  2.01it/s]\u001b[A\n",
      " 63%|██████▎   | 1979/3138 [27:35<09:15,  2.09it/s]\u001b[A\n",
      " 63%|██████▎   | 1980/3138 [27:35<09:14,  2.09it/s]\u001b[A\n",
      " 63%|██████▎   | 1981/3138 [27:36<08:59,  2.14it/s]\u001b[A\n",
      " 63%|██████▎   | 1982/3138 [27:36<08:51,  2.18it/s]\u001b[A\n",
      " 63%|██████▎   | 1983/3138 [27:37<08:51,  2.17it/s]\u001b[A\n",
      " 63%|██████▎   | 1984/3138 [27:37<09:13,  2.08it/s]\u001b[A\n",
      " 63%|██████▎   | 1985/3138 [27:38<09:06,  2.11it/s]\u001b[A\n",
      " 63%|██████▎   | 1987/3138 [27:38<07:19,  2.62it/s]\u001b[A\n",
      " 63%|██████▎   | 1988/3138 [27:39<07:55,  2.42it/s]\u001b[A\n",
      " 63%|██████▎   | 1989/3138 [27:39<09:33,  2.01it/s]\u001b[A\n",
      " 63%|██████▎   | 1990/3138 [27:40<11:37,  1.65it/s]\u001b[A\n",
      " 63%|██████▎   | 1992/3138 [27:41<09:20,  2.05it/s]\u001b[A\n",
      " 64%|██████▎   | 1993/3138 [27:41<10:06,  1.89it/s]\u001b[A\n",
      " 64%|██████▎   | 1994/3138 [27:42<11:52,  1.61it/s]\u001b[A\n",
      " 64%|██████▎   | 1995/3138 [27:42<10:48,  1.76it/s]\u001b[A\n",
      " 64%|██████▎   | 1996/3138 [27:43<12:21,  1.54it/s]\u001b[A\n",
      " 64%|██████▎   | 1997/3138 [27:44<13:28,  1.41it/s]\u001b[A\n",
      " 64%|██████▍   | 2001/3138 [27:44<09:54,  1.91it/s]\u001b[A\n",
      " 64%|██████▍   | 2003/3138 [27:45<08:11,  2.31it/s]\u001b[A\n",
      " 64%|██████▍   | 2006/3138 [27:45<06:36,  2.86it/s]\u001b[A\n",
      " 64%|██████▍   | 2007/3138 [27:46<06:28,  2.91it/s]\u001b[A\n",
      " 64%|██████▍   | 2008/3138 [27:46<07:08,  2.64it/s]\u001b[A\n",
      " 64%|██████▍   | 2009/3138 [27:47<07:38,  2.46it/s]\u001b[A\n",
      " 64%|██████▍   | 2010/3138 [27:47<10:07,  1.86it/s]\u001b[A\n",
      " 64%|██████▍   | 2011/3138 [27:48<09:43,  1.93it/s]\u001b[A\n",
      " 64%|██████▍   | 2013/3138 [27:49<09:34,  1.96it/s]\u001b[A\n",
      " 64%|██████▍   | 2014/3138 [27:50<11:25,  1.64it/s]\u001b[A\n",
      " 64%|██████▍   | 2016/3138 [27:50<09:19,  2.01it/s]\u001b[A\n",
      " 64%|██████▍   | 2018/3138 [27:51<09:02,  2.07it/s]\u001b[A\n",
      " 64%|██████▍   | 2021/3138 [27:52<07:08,  2.60it/s]\u001b[A\n",
      " 64%|██████▍   | 2022/3138 [27:52<06:51,  2.71it/s]\u001b[A\n",
      " 64%|██████▍   | 2024/3138 [27:52<06:01,  3.08it/s]\u001b[A\n",
      " 65%|██████▍   | 2025/3138 [27:53<08:06,  2.29it/s]\u001b[A\n",
      " 65%|██████▍   | 2026/3138 [27:54<10:22,  1.79it/s]\u001b[A\n",
      " 65%|██████▍   | 2027/3138 [27:55<11:54,  1.55it/s]\u001b[A\n",
      " 65%|██████▍   | 2028/3138 [27:55<10:54,  1.70it/s]\u001b[A\n",
      " 65%|██████▍   | 2029/3138 [27:56<13:00,  1.42it/s]\u001b[A\n",
      " 65%|██████▍   | 2031/3138 [27:57<10:24,  1.77it/s]\u001b[A\n",
      " 65%|██████▍   | 2032/3138 [27:57<09:53,  1.86it/s]\u001b[A\n",
      " 65%|██████▍   | 2033/3138 [27:58<09:31,  1.94it/s]\u001b[A\n",
      " 65%|██████▍   | 2036/3138 [27:58<08:11,  2.24it/s]\u001b[A\n",
      " 65%|██████▍   | 2037/3138 [27:59<08:07,  2.26it/s]\u001b[A\n",
      " 65%|██████▍   | 2039/3138 [27:59<06:58,  2.63it/s]\u001b[A\n",
      " 65%|██████▌   | 2041/3138 [28:00<06:09,  2.97it/s]\u001b[A\n",
      " 65%|██████▌   | 2042/3138 [28:01<08:49,  2.07it/s]\u001b[A\n",
      " 65%|██████▌   | 2043/3138 [28:01<09:01,  2.02it/s]\u001b[A\n",
      " 65%|██████▌   | 2044/3138 [28:02<08:53,  2.05it/s]\u001b[A\n",
      " 65%|██████▌   | 2045/3138 [28:02<09:07,  2.00it/s]\u001b[A\n",
      " 65%|██████▌   | 2046/3138 [28:03<08:47,  2.07it/s]\u001b[A\n",
      " 65%|██████▌   | 2047/3138 [28:03<09:33,  1.90it/s]\u001b[A\n",
      " 65%|██████▌   | 2048/3138 [28:04<09:57,  1.83it/s]\u001b[A\n",
      " 65%|██████▌   | 2049/3138 [28:04<09:30,  1.91it/s]\u001b[A\n",
      " 65%|██████▌   | 2050/3138 [28:05<11:13,  1.61it/s]\u001b[A\n",
      " 65%|██████▌   | 2052/3138 [28:06<09:07,  1.98it/s]\u001b[A\n",
      " 65%|██████▌   | 2053/3138 [28:06<08:55,  2.03it/s]\u001b[A\n",
      " 66%|██████▌   | 2059/3138 [28:07<06:58,  2.58it/s]\u001b[A\n",
      " 66%|██████▌   | 2061/3138 [28:07<06:16,  2.86it/s]\u001b[A\n",
      " 66%|██████▌   | 2062/3138 [28:08<07:05,  2.53it/s]\u001b[A\n",
      " 66%|██████▌   | 2064/3138 [28:09<06:22,  2.81it/s]\u001b[A\n",
      " 66%|██████▌   | 2066/3138 [28:09<05:53,  3.03it/s]\u001b[A\n",
      " 66%|██████▌   | 2067/3138 [28:10<06:35,  2.71it/s]\u001b[A\n",
      " 66%|██████▌   | 2071/3138 [28:10<05:11,  3.42it/s]\u001b[A\n",
      " 66%|██████▌   | 2072/3138 [28:10<06:02,  2.94it/s]\u001b[A\n",
      " 66%|██████▌   | 2073/3138 [28:11<06:44,  2.63it/s]\u001b[A\n",
      " 66%|██████▌   | 2074/3138 [28:11<07:09,  2.48it/s]\u001b[A\n",
      " 66%|██████▌   | 2076/3138 [28:12<06:17,  2.82it/s]\u001b[A\n",
      " 66%|██████▌   | 2078/3138 [28:12<05:39,  3.12it/s]\u001b[A\n",
      " 66%|██████▋   | 2079/3138 [28:13<06:32,  2.70it/s]\u001b[A\n",
      " 66%|██████▋   | 2080/3138 [28:14<09:06,  1.93it/s]\u001b[A\n",
      " 66%|██████▋   | 2081/3138 [28:14<10:04,  1.75it/s]\u001b[A\n",
      " 66%|██████▋   | 2082/3138 [28:15<09:35,  1.83it/s]\u001b[A\n",
      " 66%|██████▋   | 2085/3138 [28:16<08:07,  2.16it/s]\u001b[A\n",
      " 67%|██████▋   | 2087/3138 [28:16<06:54,  2.54it/s]\u001b[A\n",
      " 67%|██████▋   | 2088/3138 [28:17<07:35,  2.31it/s]\u001b[A\n",
      " 67%|██████▋   | 2090/3138 [28:17<07:30,  2.33it/s]\u001b[A\n",
      " 67%|██████▋   | 2091/3138 [28:18<09:39,  1.81it/s]\u001b[A\n",
      " 67%|██████▋   | 2092/3138 [28:19<09:03,  1.92it/s]\u001b[A\n",
      " 67%|██████▋   | 2093/3138 [28:19<08:55,  1.95it/s]\u001b[A\n",
      " 67%|██████▋   | 2095/3138 [28:20<07:26,  2.34it/s]\u001b[A\n",
      " 67%|██████▋   | 2096/3138 [28:20<08:51,  1.96it/s]\u001b[A\n",
      " 67%|██████▋   | 2097/3138 [28:21<10:33,  1.64it/s]\u001b[A\n",
      " 67%|██████▋   | 2098/3138 [28:22<10:46,  1.61it/s]\u001b[A\n",
      " 67%|██████▋   | 2099/3138 [28:23<12:21,  1.40it/s]\u001b[A\n",
      " 67%|██████▋   | 2101/3138 [28:24<10:44,  1.61it/s]\u001b[A\n",
      " 67%|██████▋   | 2103/3138 [28:25<09:38,  1.79it/s]\u001b[A\n",
      " 67%|██████▋   | 2106/3138 [28:25<07:37,  2.25it/s]\u001b[A\n",
      " 67%|██████▋   | 2107/3138 [28:26<07:53,  2.18it/s]\u001b[A\n",
      " 67%|██████▋   | 2108/3138 [28:26<09:02,  1.90it/s]\u001b[A\n",
      " 67%|██████▋   | 2109/3138 [28:27<10:40,  1.61it/s]\u001b[A\n",
      " 67%|██████▋   | 2111/3138 [28:28<09:37,  1.78it/s]\u001b[A\n",
      " 67%|██████▋   | 2112/3138 [28:29<11:03,  1.55it/s]\u001b[A\n",
      " 67%|██████▋   | 2113/3138 [28:29<10:07,  1.69it/s]\u001b[A\n",
      " 67%|██████▋   | 2115/3138 [28:30<08:18,  2.05it/s]\u001b[A\n",
      " 68%|██████▊   | 2119/3138 [28:30<06:18,  2.69it/s]\u001b[A\n",
      " 68%|██████▊   | 2120/3138 [28:31<06:42,  2.53it/s]\u001b[A\n",
      " 68%|██████▊   | 2122/3138 [28:31<05:41,  2.98it/s]\u001b[A\n",
      " 68%|██████▊   | 2123/3138 [28:31<06:03,  2.79it/s]\u001b[A\n",
      " 68%|██████▊   | 2126/3138 [28:32<05:46,  2.92it/s]\u001b[A\n",
      " 68%|██████▊   | 2127/3138 [28:33<06:15,  2.69it/s]\u001b[A\n",
      " 68%|██████▊   | 2128/3138 [28:33<07:13,  2.33it/s]\u001b[A\n",
      " 68%|██████▊   | 2129/3138 [28:34<07:27,  2.26it/s]\u001b[A\n",
      " 68%|██████▊   | 2130/3138 [28:34<08:41,  1.93it/s]\u001b[A\n",
      " 68%|██████▊   | 2132/3138 [28:35<08:12,  2.04it/s]\u001b[A\n",
      " 68%|██████▊   | 2133/3138 [28:36<07:49,  2.14it/s]\u001b[A\n",
      " 68%|██████▊   | 2136/3138 [28:36<06:11,  2.70it/s]\u001b[A\n",
      " 68%|██████▊   | 2137/3138 [28:37<08:32,  1.95it/s]\u001b[A\n",
      " 68%|██████▊   | 2138/3138 [28:37<08:21,  1.99it/s]\u001b[A\n",
      " 68%|██████▊   | 2140/3138 [28:38<07:57,  2.09it/s]\u001b[A\n",
      " 68%|██████▊   | 2141/3138 [28:39<09:45,  1.70it/s]\u001b[A\n",
      " 68%|██████▊   | 2142/3138 [28:40<10:51,  1.53it/s]\u001b[A\n",
      " 68%|██████▊   | 2144/3138 [28:41<09:41,  1.71it/s]\u001b[A\n",
      " 68%|██████▊   | 2145/3138 [28:42<11:46,  1.41it/s]\u001b[A\n",
      " 68%|██████▊   | 2146/3138 [28:42<10:28,  1.58it/s]\u001b[A\n",
      " 68%|██████▊   | 2147/3138 [28:43<11:30,  1.44it/s]\u001b[A\n",
      " 68%|██████▊   | 2148/3138 [28:44<12:11,  1.35it/s]\u001b[A\n",
      " 69%|██████▊   | 2151/3138 [28:45<09:55,  1.66it/s]\u001b[A\n",
      " 69%|██████▊   | 2152/3138 [28:46<11:05,  1.48it/s]\u001b[A\n",
      " 69%|██████▊   | 2153/3138 [28:46<09:56,  1.65it/s]\u001b[A\n",
      " 69%|██████▊   | 2154/3138 [28:47<11:05,  1.48it/s]\u001b[A\n",
      " 69%|██████▊   | 2157/3138 [28:48<09:07,  1.79it/s]\u001b[A\n",
      " 69%|██████▉   | 2158/3138 [28:48<09:23,  1.74it/s]\u001b[A\n",
      " 69%|██████▉   | 2159/3138 [28:49<08:53,  1.83it/s]\u001b[A\n",
      " 69%|██████▉   | 2160/3138 [28:50<09:28,  1.72it/s]\u001b[A\n",
      " 69%|██████▉   | 2161/3138 [28:50<09:53,  1.65it/s]\u001b[A\n",
      " 69%|██████▉   | 2162/3138 [28:51<09:51,  1.65it/s]\u001b[A\n",
      " 69%|██████▉   | 2163/3138 [28:52<10:59,  1.48it/s]\u001b[A\n",
      " 69%|██████▉   | 2164/3138 [28:53<12:15,  1.32it/s]\u001b[A\n",
      " 69%|██████▉   | 2165/3138 [28:53<10:58,  1.48it/s]\u001b[A\n",
      " 69%|██████▉   | 2167/3138 [28:54<09:42,  1.67it/s]\u001b[A\n",
      " 69%|██████▉   | 2169/3138 [28:55<08:51,  1.82it/s]\u001b[A\n",
      " 69%|██████▉   | 2170/3138 [28:55<08:29,  1.90it/s]\u001b[A\n",
      " 69%|██████▉   | 2171/3138 [28:56<08:20,  1.93it/s]\u001b[A\n",
      " 69%|██████▉   | 2172/3138 [28:57<09:54,  1.63it/s]\u001b[A\n",
      " 69%|██████▉   | 2174/3138 [28:57<08:04,  1.99it/s]\u001b[A\n",
      " 69%|██████▉   | 2177/3138 [28:58<06:23,  2.51it/s]\u001b[A\n",
      " 69%|██████▉   | 2178/3138 [28:58<08:31,  1.88it/s]\u001b[A\n",
      " 69%|██████▉   | 2179/3138 [28:59<10:00,  1.60it/s]\u001b[A\n",
      " 69%|██████▉   | 2180/3138 [29:00<10:43,  1.49it/s]\u001b[A\n",
      " 70%|██████▉   | 2181/3138 [29:00<09:57,  1.60it/s]\u001b[A\n",
      " 70%|██████▉   | 2182/3138 [29:01<10:39,  1.49it/s]\u001b[A\n",
      " 70%|██████▉   | 2183/3138 [29:02<09:33,  1.66it/s]\u001b[A\n",
      " 70%|██████▉   | 2184/3138 [29:03<10:42,  1.49it/s]\u001b[A\n",
      " 70%|██████▉   | 2185/3138 [29:03<09:54,  1.60it/s]\u001b[A\n",
      " 70%|██████▉   | 2188/3138 [29:04<08:14,  1.92it/s]\u001b[A\n",
      " 70%|██████▉   | 2189/3138 [29:05<08:39,  1.83it/s]\u001b[A\n",
      " 70%|██████▉   | 2190/3138 [29:05<07:35,  2.08it/s]\u001b[A\n",
      " 70%|██████▉   | 2191/3138 [29:05<07:57,  1.98it/s]\u001b[A\n",
      " 70%|██████▉   | 2192/3138 [29:06<07:48,  2.02it/s]\u001b[A\n",
      " 70%|██████▉   | 2193/3138 [29:07<09:45,  1.61it/s]\u001b[A\n",
      " 70%|██████▉   | 2194/3138 [29:07<08:56,  1.76it/s]\u001b[A\n",
      " 70%|██████▉   | 2195/3138 [29:08<08:29,  1.85it/s]\u001b[A\n",
      " 70%|██████▉   | 2196/3138 [29:08<07:53,  1.99it/s]\u001b[A\n",
      " 70%|███████   | 2197/3138 [29:09<07:41,  2.04it/s]\u001b[A\n",
      " 70%|███████   | 2199/3138 [29:09<06:23,  2.45it/s]\u001b[A\n",
      " 70%|███████   | 2201/3138 [29:10<05:47,  2.70it/s]\u001b[A\n",
      " 70%|███████   | 2204/3138 [29:10<04:47,  3.25it/s]\u001b[A\n",
      " 70%|███████   | 2205/3138 [29:11<05:37,  2.76it/s]\u001b[A\n",
      " 70%|███████   | 2206/3138 [29:11<05:33,  2.80it/s]\u001b[A\n",
      " 70%|███████   | 2207/3138 [29:12<07:48,  1.99it/s]\u001b[A\n",
      " 70%|███████   | 2208/3138 [29:12<07:23,  2.10it/s]\u001b[A\n",
      " 70%|███████   | 2209/3138 [29:13<07:19,  2.11it/s]\u001b[A\n",
      " 70%|███████   | 2210/3138 [29:13<07:08,  2.17it/s]\u001b[A\n",
      " 70%|███████   | 2211/3138 [29:14<08:53,  1.74it/s]\u001b[A\n",
      " 70%|███████   | 2212/3138 [29:14<07:43,  2.00it/s]\u001b[A\n",
      " 71%|███████   | 2213/3138 [29:15<09:08,  1.69it/s]\u001b[A\n",
      " 71%|███████   | 2215/3138 [29:16<08:06,  1.90it/s]\u001b[A\n",
      " 71%|███████   | 2216/3138 [29:16<07:46,  1.98it/s]\u001b[A\n",
      " 71%|███████   | 2217/3138 [29:17<07:22,  2.08it/s]\u001b[A\n",
      " 71%|███████   | 2218/3138 [29:17<07:12,  2.13it/s]\u001b[A\n",
      " 71%|███████   | 2219/3138 [29:18<08:48,  1.74it/s]\u001b[A\n",
      " 71%|███████   | 2220/3138 [29:18<08:10,  1.87it/s]\u001b[A\n",
      " 71%|███████   | 2221/3138 [29:19<07:58,  1.92it/s]\u001b[A\n",
      " 71%|███████   | 2223/3138 [29:19<06:33,  2.33it/s]\u001b[A\n",
      " 71%|███████   | 2224/3138 [29:20<08:25,  1.81it/s]\u001b[A\n",
      " 71%|███████   | 2227/3138 [29:21<07:11,  2.11it/s]\u001b[A\n",
      " 71%|███████   | 2229/3138 [29:22<06:56,  2.18it/s]\u001b[A\n",
      " 71%|███████   | 2231/3138 [29:22<06:01,  2.51it/s]\u001b[A\n",
      " 71%|███████   | 2232/3138 [29:23<06:17,  2.40it/s]\u001b[A\n",
      " 71%|███████   | 2233/3138 [29:23<06:30,  2.31it/s]\u001b[A\n",
      " 71%|███████   | 2234/3138 [29:24<08:24,  1.79it/s]\u001b[A\n",
      " 71%|███████   | 2235/3138 [29:25<09:41,  1.55it/s]\u001b[A\n",
      " 71%|███████▏  | 2236/3138 [29:26<10:37,  1.41it/s]\u001b[A\n",
      " 71%|███████▏  | 2237/3138 [29:27<11:13,  1.34it/s]\u001b[A\n",
      " 71%|███████▏  | 2238/3138 [29:27<10:02,  1.49it/s]\u001b[A\n",
      " 71%|███████▏  | 2239/3138 [29:28<09:29,  1.58it/s]\u001b[A\n",
      " 71%|███████▏  | 2240/3138 [29:28<08:50,  1.69it/s]\u001b[A\n",
      " 71%|███████▏  | 2241/3138 [29:29<09:57,  1.50it/s]\u001b[A\n",
      " 71%|███████▏  | 2242/3138 [29:29<08:19,  1.79it/s]\u001b[A\n",
      " 71%|███████▏  | 2243/3138 [29:30<09:26,  1.58it/s]\u001b[A\n",
      " 72%|███████▏  | 2246/3138 [29:31<07:55,  1.88it/s]\u001b[A\n",
      " 72%|███████▏  | 2247/3138 [29:31<07:20,  2.02it/s]\u001b[A\n",
      " 72%|███████▏  | 2248/3138 [29:33<12:41,  1.17it/s]\u001b[A\n",
      " 72%|███████▏  | 2249/3138 [29:34<10:56,  1.35it/s]\u001b[A\n",
      " 72%|███████▏  | 2251/3138 [29:35<09:34,  1.54it/s]\u001b[A\n",
      " 72%|███████▏  | 2252/3138 [29:35<08:38,  1.71it/s]\u001b[A\n",
      " 72%|███████▏  | 2254/3138 [29:35<06:59,  2.11it/s]\u001b[A\n",
      " 72%|███████▏  | 2257/3138 [29:36<05:34,  2.64it/s]\u001b[A\n",
      " 72%|███████▏  | 2258/3138 [29:36<05:08,  2.85it/s]\u001b[A\n",
      " 72%|███████▏  | 2259/3138 [29:37<07:09,  2.05it/s]\u001b[A\n",
      " 72%|███████▏  | 2262/3138 [29:37<05:31,  2.64it/s]\u001b[A\n",
      " 72%|███████▏  | 2263/3138 [29:38<07:32,  1.93it/s]\u001b[A\n",
      " 72%|███████▏  | 2265/3138 [29:39<07:06,  2.05it/s]\u001b[A\n",
      " 72%|███████▏  | 2267/3138 [29:40<06:48,  2.13it/s]\u001b[A\n",
      " 72%|███████▏  | 2268/3138 [29:41<08:24,  1.72it/s]\u001b[A\n",
      " 72%|███████▏  | 2269/3138 [29:41<08:04,  1.79it/s]\u001b[A\n",
      " 72%|███████▏  | 2270/3138 [29:42<07:47,  1.86it/s]\u001b[A\n",
      " 72%|███████▏  | 2271/3138 [29:42<07:23,  1.95it/s]\u001b[A\n",
      " 72%|███████▏  | 2272/3138 [29:43<07:18,  1.98it/s]\u001b[A\n",
      " 72%|███████▏  | 2273/3138 [29:43<08:45,  1.65it/s]\u001b[A\n",
      " 72%|███████▏  | 2274/3138 [29:44<07:56,  1.81it/s]\u001b[A\n",
      " 72%|███████▏  | 2275/3138 [29:45<09:11,  1.56it/s]\u001b[A\n",
      " 73%|███████▎  | 2278/3138 [29:46<07:37,  1.88it/s]\u001b[A\n",
      " 73%|███████▎  | 2279/3138 [29:46<07:19,  1.95it/s]\u001b[A\n",
      " 73%|███████▎  | 2280/3138 [29:47<07:09,  2.00it/s]\u001b[A\n",
      " 73%|███████▎  | 2281/3138 [29:47<07:00,  2.04it/s]\u001b[A\n",
      " 73%|███████▎  | 2283/3138 [29:48<06:41,  2.13it/s]\u001b[A\n",
      " 73%|███████▎  | 2284/3138 [29:48<06:09,  2.31it/s]\u001b[A\n",
      " 73%|███████▎  | 2285/3138 [29:49<07:45,  1.83it/s]\u001b[A\n",
      " 73%|███████▎  | 2287/3138 [29:49<06:25,  2.21it/s]\u001b[A\n",
      " 73%|███████▎  | 2288/3138 [29:50<06:35,  2.15it/s]\u001b[A\n",
      " 73%|███████▎  | 2289/3138 [29:50<06:31,  2.17it/s]\u001b[A\n",
      " 73%|███████▎  | 2290/3138 [29:51<06:25,  2.20it/s]\u001b[A\n",
      " 73%|███████▎  | 2291/3138 [29:51<06:27,  2.18it/s]\u001b[A\n",
      " 73%|███████▎  | 2292/3138 [29:52<08:04,  1.75it/s]\u001b[A\n",
      " 73%|███████▎  | 2293/3138 [29:53<09:10,  1.53it/s]\u001b[A\n",
      " 73%|███████▎  | 2294/3138 [29:53<08:27,  1.66it/s]\u001b[A\n",
      " 73%|███████▎  | 2295/3138 [29:54<07:54,  1.78it/s]\u001b[A\n",
      " 73%|███████▎  | 2296/3138 [29:55<09:02,  1.55it/s]\u001b[A\n",
      " 73%|███████▎  | 2298/3138 [29:55<07:22,  1.90it/s]\u001b[A\n",
      " 73%|███████▎  | 2299/3138 [29:56<07:05,  1.97it/s]\u001b[A\n",
      " 73%|███████▎  | 2300/3138 [29:56<07:05,  1.97it/s]\u001b[A\n",
      " 73%|███████▎  | 2302/3138 [29:57<05:55,  2.35it/s]\u001b[A\n",
      " 73%|███████▎  | 2305/3138 [29:57<04:46,  2.91it/s]\u001b[A\n",
      " 73%|███████▎  | 2306/3138 [29:58<05:01,  2.76it/s]\u001b[A\n",
      " 74%|███████▎  | 2307/3138 [29:58<05:23,  2.57it/s]\u001b[A\n",
      " 74%|███████▎  | 2309/3138 [29:59<04:45,  2.90it/s]\u001b[A\n",
      " 74%|███████▎  | 2311/3138 [29:59<05:04,  2.72it/s]\u001b[A\n",
      " 74%|███████▎  | 2313/3138 [30:00<04:55,  2.80it/s]\u001b[A\n",
      " 74%|███████▍  | 2315/3138 [30:01<05:09,  2.66it/s]\u001b[A\n",
      " 74%|███████▍  | 2316/3138 [30:02<07:10,  1.91it/s]\u001b[A\n",
      " 74%|███████▍  | 2318/3138 [30:03<06:40,  2.05it/s]\u001b[A\n",
      " 74%|███████▍  | 2321/3138 [30:03<05:48,  2.35it/s]\u001b[A\n",
      " 74%|███████▍  | 2322/3138 [30:04<06:03,  2.25it/s]\u001b[A\n",
      " 74%|███████▍  | 2323/3138 [30:05<07:39,  1.77it/s]\u001b[A\n",
      " 74%|███████▍  | 2324/3138 [30:05<07:13,  1.88it/s]\u001b[A\n",
      " 74%|███████▍  | 2325/3138 [30:06<08:28,  1.60it/s]\u001b[A\n",
      " 74%|███████▍  | 2327/3138 [30:07<07:40,  1.76it/s]\u001b[A\n",
      " 74%|███████▍  | 2328/3138 [30:08<08:45,  1.54it/s]\u001b[A\n",
      " 74%|███████▍  | 2329/3138 [30:09<09:29,  1.42it/s]\u001b[A\n",
      " 74%|███████▍  | 2330/3138 [30:09<09:43,  1.38it/s]\u001b[A\n",
      " 74%|███████▍  | 2331/3138 [30:10<08:41,  1.55it/s]\u001b[A\n",
      " 74%|███████▍  | 2332/3138 [30:10<07:58,  1.69it/s]\u001b[A\n",
      " 74%|███████▍  | 2335/3138 [30:11<06:12,  2.16it/s]\u001b[A\n",
      " 74%|███████▍  | 2336/3138 [30:11<06:14,  2.14it/s]\u001b[A\n",
      " 74%|███████▍  | 2337/3138 [30:12<07:51,  1.70it/s]\u001b[A\n",
      " 75%|███████▍  | 2338/3138 [30:13<08:56,  1.49it/s]\u001b[A\n",
      " 75%|███████▍  | 2339/3138 [30:14<08:28,  1.57it/s]\u001b[A\n",
      " 75%|███████▍  | 2340/3138 [30:14<09:17,  1.43it/s]\u001b[A\n",
      " 75%|███████▍  | 2342/3138 [30:15<08:10,  1.62it/s]\u001b[A\n",
      " 75%|███████▍  | 2344/3138 [30:16<07:20,  1.80it/s]\u001b[A\n",
      " 75%|███████▍  | 2345/3138 [30:17<07:03,  1.87it/s]\u001b[A\n",
      " 75%|███████▍  | 2346/3138 [30:17<06:42,  1.97it/s]\u001b[A\n",
      " 75%|███████▍  | 2347/3138 [30:17<06:39,  1.98it/s]\u001b[A\n",
      " 75%|███████▍  | 2348/3138 [30:18<06:34,  2.00it/s]\u001b[A\n",
      " 75%|███████▍  | 2349/3138 [30:19<07:53,  1.67it/s]\u001b[A\n",
      " 75%|███████▍  | 2350/3138 [30:19<07:20,  1.79it/s]\u001b[A\n",
      " 75%|███████▍  | 2351/3138 [30:20<06:59,  1.88it/s]\u001b[A\n",
      " 75%|███████▍  | 2352/3138 [30:21<08:12,  1.60it/s]\u001b[A\n",
      " 75%|███████▌  | 2354/3138 [30:21<07:22,  1.77it/s]\u001b[A\n",
      " 75%|███████▌  | 2356/3138 [30:22<06:09,  2.12it/s]\u001b[A\n",
      " 75%|███████▌  | 2357/3138 [30:22<06:11,  2.10it/s]\u001b[A\n",
      " 75%|███████▌  | 2358/3138 [30:23<06:29,  2.00it/s]\u001b[A\n",
      " 75%|███████▌  | 2359/3138 [30:24<07:15,  1.79it/s]\u001b[A\n",
      " 75%|███████▌  | 2360/3138 [30:24<08:20,  1.56it/s]\u001b[A\n",
      " 75%|███████▌  | 2361/3138 [30:25<07:55,  1.63it/s]\u001b[A\n",
      " 75%|███████▌  | 2363/3138 [30:25<06:22,  2.03it/s]\u001b[A\n",
      " 75%|███████▌  | 2364/3138 [30:26<07:42,  1.67it/s]\u001b[A\n",
      " 75%|███████▌  | 2365/3138 [30:27<07:14,  1.78it/s]\u001b[A\n",
      " 75%|███████▌  | 2366/3138 [30:28<08:21,  1.54it/s]\u001b[A\n",
      " 75%|███████▌  | 2367/3138 [30:28<09:07,  1.41it/s]\u001b[A\n",
      " 75%|███████▌  | 2368/3138 [30:29<08:08,  1.58it/s]\u001b[A\n",
      " 76%|███████▌  | 2370/3138 [30:30<07:18,  1.75it/s]\u001b[A\n",
      " 76%|███████▌  | 2371/3138 [30:32<14:18,  1.12s/it]\u001b[A\n",
      " 76%|███████▌  | 2372/3138 [30:33<12:04,  1.06it/s]\u001b[A\n",
      " 76%|███████▌  | 2373/3138 [30:33<10:46,  1.18it/s]\u001b[A\n",
      " 76%|███████▌  | 2374/3138 [30:34<09:40,  1.32it/s]\u001b[A\n",
      " 76%|███████▌  | 2375/3138 [30:35<09:59,  1.27it/s]\u001b[A\n",
      " 76%|███████▌  | 2377/3138 [30:35<07:54,  1.60it/s]\u001b[A\n",
      " 76%|███████▌  | 2378/3138 [30:36<08:51,  1.43it/s]\u001b[A\n",
      " 76%|███████▌  | 2379/3138 [30:37<09:24,  1.34it/s]\u001b[A\n",
      " 76%|███████▌  | 2380/3138 [30:38<09:52,  1.28it/s]\u001b[A\n",
      " 76%|███████▌  | 2381/3138 [30:39<10:05,  1.25it/s]\u001b[A\n",
      " 76%|███████▌  | 2383/3138 [30:39<08:33,  1.47it/s]\u001b[A\n",
      " 76%|███████▌  | 2386/3138 [30:40<07:04,  1.77it/s]\u001b[A\n",
      " 76%|███████▌  | 2387/3138 [30:41<06:36,  1.90it/s]\u001b[A\n",
      " 76%|███████▌  | 2388/3138 [30:42<07:46,  1.61it/s]\u001b[A\n",
      " 76%|███████▌  | 2391/3138 [30:42<06:29,  1.92it/s]\u001b[A\n",
      " 76%|███████▋  | 2393/3138 [30:43<06:06,  2.03it/s]\u001b[A\n",
      " 76%|███████▋  | 2394/3138 [30:44<05:55,  2.09it/s]\u001b[A\n",
      " 76%|███████▋  | 2396/3138 [30:44<05:06,  2.42it/s]\u001b[A\n",
      " 76%|███████▋  | 2398/3138 [30:45<04:26,  2.78it/s]\u001b[A\n",
      " 76%|███████▋  | 2399/3138 [30:46<06:12,  1.99it/s]\u001b[A\n",
      " 76%|███████▋  | 2400/3138 [30:46<07:26,  1.65it/s]\u001b[A\n",
      " 77%|███████▋  | 2401/3138 [30:47<06:56,  1.77it/s]\u001b[A\n",
      " 77%|███████▋  | 2402/3138 [30:47<06:35,  1.86it/s]\u001b[A\n",
      " 77%|███████▋  | 2403/3138 [30:48<06:18,  1.94it/s]\u001b[A\n",
      " 77%|███████▋  | 2405/3138 [30:49<05:57,  2.05it/s]\u001b[A\n",
      " 77%|███████▋  | 2406/3138 [30:50<07:15,  1.68it/s]\u001b[A\n",
      " 77%|███████▋  | 2407/3138 [30:50<06:35,  1.85it/s]\u001b[A\n",
      " 77%|███████▋  | 2409/3138 [30:50<05:30,  2.21it/s]\u001b[A\n",
      " 77%|███████▋  | 2410/3138 [30:51<06:55,  1.75it/s]\u001b[A\n",
      " 77%|███████▋  | 2411/3138 [30:52<07:53,  1.54it/s]\u001b[A\n",
      " 77%|███████▋  | 2412/3138 [30:53<08:39,  1.40it/s]\u001b[A\n",
      " 77%|███████▋  | 2413/3138 [30:54<09:05,  1.33it/s]\u001b[A\n",
      " 77%|███████▋  | 2415/3138 [30:54<07:12,  1.67it/s]\u001b[A\n",
      " 77%|███████▋  | 2416/3138 [30:55<06:38,  1.81it/s]\u001b[A\n",
      " 77%|███████▋  | 2417/3138 [30:55<06:31,  1.84it/s]\u001b[A\n",
      " 77%|███████▋  | 2418/3138 [30:56<07:34,  1.58it/s]\u001b[A\n",
      " 77%|███████▋  | 2419/3138 [30:57<07:04,  1.69it/s]\u001b[A\n",
      " 77%|███████▋  | 2420/3138 [30:57<06:43,  1.78it/s]\u001b[A\n",
      " 77%|███████▋  | 2422/3138 [30:58<05:33,  2.15it/s]\u001b[A\n",
      " 77%|███████▋  | 2423/3138 [30:58<06:52,  1.73it/s]\u001b[A\n",
      " 77%|███████▋  | 2426/3138 [30:59<05:45,  2.06it/s]\u001b[A\n",
      " 77%|███████▋  | 2428/3138 [31:00<05:31,  2.14it/s]\u001b[A\n",
      " 77%|███████▋  | 2429/3138 [31:01<06:50,  1.73it/s]\u001b[A\n",
      " 77%|███████▋  | 2430/3138 [31:02<07:45,  1.52it/s]\u001b[A\n",
      " 77%|███████▋  | 2431/3138 [31:02<07:00,  1.68it/s]\u001b[A\n",
      " 78%|███████▊  | 2432/3138 [31:03<06:34,  1.79it/s]\u001b[A\n",
      " 78%|███████▊  | 2434/3138 [31:03<05:19,  2.21it/s]\u001b[A\n",
      " 78%|███████▊  | 2435/3138 [31:04<06:43,  1.74it/s]\u001b[A\n",
      " 78%|███████▊  | 2436/3138 [31:05<06:48,  1.72it/s]\u001b[A\n",
      " 78%|███████▊  | 2438/3138 [31:05<06:13,  1.87it/s]\u001b[A\n",
      " 78%|███████▊  | 2439/3138 [31:06<07:17,  1.60it/s]\u001b[A\n",
      " 78%|███████▊  | 2440/3138 [31:07<08:02,  1.45it/s]\u001b[A\n",
      " 78%|███████▊  | 2441/3138 [31:08<07:44,  1.50it/s]\u001b[A\n",
      " 78%|███████▊  | 2442/3138 [31:09<08:21,  1.39it/s]\u001b[A\n",
      " 78%|███████▊  | 2443/3138 [31:10<09:09,  1.26it/s]\u001b[A\n",
      " 78%|███████▊  | 2445/3138 [31:10<07:51,  1.47it/s]\u001b[A\n",
      " 78%|███████▊  | 2447/3138 [31:11<06:19,  1.82it/s]\u001b[A\n",
      " 78%|███████▊  | 2448/3138 [31:11<06:31,  1.76it/s]\u001b[A\n",
      " 78%|███████▊  | 2449/3138 [31:12<07:27,  1.54it/s]\u001b[A\n",
      " 78%|███████▊  | 2450/3138 [31:13<07:12,  1.59it/s]\u001b[A\n",
      " 78%|███████▊  | 2453/3138 [31:14<05:57,  1.92it/s]\u001b[A\n",
      " 78%|███████▊  | 2454/3138 [31:14<05:17,  2.15it/s]\u001b[A\n",
      " 78%|███████▊  | 2455/3138 [31:15<06:49,  1.67it/s]\u001b[A\n",
      " 78%|███████▊  | 2456/3138 [31:16<07:37,  1.49it/s]\u001b[A\n",
      " 78%|███████▊  | 2457/3138 [31:16<07:07,  1.59it/s]\u001b[A\n",
      " 78%|███████▊  | 2458/3138 [31:17<07:49,  1.45it/s]\u001b[A\n",
      " 78%|███████▊  | 2459/3138 [31:18<07:13,  1.57it/s]\u001b[A\n",
      " 78%|███████▊  | 2461/3138 [31:19<06:28,  1.74it/s]\u001b[A\n",
      " 78%|███████▊  | 2462/3138 [31:20<08:16,  1.36it/s]\u001b[A\n",
      " 78%|███████▊  | 2463/3138 [31:20<06:56,  1.62it/s]\u001b[A\n",
      " 79%|███████▊  | 2465/3138 [31:20<05:36,  2.00it/s]\u001b[A\n",
      " 79%|███████▊  | 2468/3138 [31:21<04:33,  2.45it/s]\u001b[A\n",
      " 79%|███████▊  | 2469/3138 [31:21<04:22,  2.55it/s]\u001b[A\n",
      " 79%|███████▊  | 2470/3138 [31:22<04:41,  2.38it/s]\u001b[A\n",
      " 79%|███████▊  | 2471/3138 [31:22<04:44,  2.35it/s]\u001b[A\n",
      " 79%|███████▉  | 2472/3138 [31:23<05:12,  2.13it/s]\u001b[A\n",
      " 79%|███████▉  | 2473/3138 [31:23<05:03,  2.19it/s]\u001b[A\n",
      " 79%|███████▉  | 2475/3138 [31:24<04:33,  2.43it/s]\u001b[A\n",
      " 79%|███████▉  | 2476/3138 [31:24<04:46,  2.31it/s]\u001b[A\n",
      " 79%|███████▉  | 2478/3138 [31:25<03:44,  2.94it/s]\u001b[A\n",
      " 79%|███████▉  | 2479/3138 [31:25<05:16,  2.08it/s]\u001b[A\n",
      " 79%|███████▉  | 2481/3138 [31:26<05:04,  2.16it/s]\u001b[A\n",
      " 79%|███████▉  | 2482/3138 [31:27<06:23,  1.71it/s]\u001b[A\n",
      " 79%|███████▉  | 2483/3138 [31:28<07:14,  1.51it/s]\u001b[A\n",
      " 79%|███████▉  | 2484/3138 [31:29<08:43,  1.25it/s]\u001b[A\n",
      " 79%|███████▉  | 2485/3138 [31:30<08:54,  1.22it/s]\u001b[A\n",
      " 79%|███████▉  | 2486/3138 [31:30<07:35,  1.43it/s]\u001b[A\n",
      " 79%|███████▉  | 2487/3138 [31:31<06:50,  1.59it/s]\u001b[A\n",
      " 79%|███████▉  | 2488/3138 [31:32<07:30,  1.44it/s]\u001b[A\n",
      " 79%|███████▉  | 2490/3138 [31:32<05:59,  1.80it/s]\u001b[A\n",
      " 79%|███████▉  | 2491/3138 [31:33<05:44,  1.88it/s]\u001b[A\n",
      " 79%|███████▉  | 2493/3138 [31:33<04:35,  2.34it/s]\u001b[A\n",
      " 79%|███████▉  | 2494/3138 [31:33<04:41,  2.29it/s]\u001b[A\n",
      " 80%|███████▉  | 2495/3138 [31:34<04:44,  2.26it/s]\u001b[A\n",
      " 80%|███████▉  | 2496/3138 [31:35<06:27,  1.66it/s]\u001b[A\n",
      " 80%|███████▉  | 2498/3138 [31:36<05:51,  1.82it/s]\u001b[A\n",
      " 80%|███████▉  | 2499/3138 [31:37<06:46,  1.57it/s]\u001b[A\n",
      " 80%|███████▉  | 2502/3138 [31:37<05:37,  1.89it/s]\u001b[A\n",
      " 80%|███████▉  | 2503/3138 [31:38<05:21,  1.98it/s]\u001b[A\n",
      " 80%|███████▉  | 2504/3138 [31:38<05:23,  1.96it/s]\u001b[A\n",
      " 80%|███████▉  | 2505/3138 [31:39<05:12,  2.02it/s]\u001b[A\n",
      " 80%|███████▉  | 2506/3138 [31:39<05:28,  1.93it/s]\u001b[A\n",
      " 80%|███████▉  | 2508/3138 [31:40<04:30,  2.33it/s]\u001b[A\n",
      " 80%|███████▉  | 2509/3138 [31:41<05:48,  1.81it/s]\u001b[A\n",
      " 80%|███████▉  | 2510/3138 [31:41<05:32,  1.89it/s]\u001b[A\n",
      " 80%|████████  | 2511/3138 [31:42<05:09,  2.03it/s]\u001b[A\n",
      " 80%|████████  | 2512/3138 [31:42<05:24,  1.93it/s]\u001b[A\n",
      " 80%|████████  | 2513/3138 [31:43<06:02,  1.73it/s]\u001b[A\n",
      " 80%|████████  | 2514/3138 [31:43<05:43,  1.82it/s]\u001b[A\n",
      " 80%|████████  | 2515/3138 [31:44<05:30,  1.89it/s]\u001b[A\n",
      " 80%|████████  | 2516/3138 [31:44<05:43,  1.81it/s]\u001b[A\n",
      " 80%|████████  | 2517/3138 [31:45<05:29,  1.89it/s]\u001b[A\n",
      " 80%|████████  | 2518/3138 [31:45<05:17,  1.95it/s]\u001b[A\n",
      " 80%|████████  | 2519/3138 [31:46<04:53,  2.11it/s]\u001b[A\n",
      " 80%|████████  | 2522/3138 [31:47<04:11,  2.44it/s]\u001b[A\n",
      " 80%|████████  | 2523/3138 [31:47<04:08,  2.47it/s]\u001b[A\n",
      " 80%|████████  | 2524/3138 [31:48<04:33,  2.24it/s]\u001b[A\n",
      " 80%|████████  | 2525/3138 [31:48<04:38,  2.20it/s]\u001b[A\n",
      " 80%|████████  | 2526/3138 [31:49<05:14,  1.95it/s]\u001b[A\n",
      " 81%|████████  | 2528/3138 [31:49<04:22,  2.32it/s]\u001b[A\n",
      " 81%|████████  | 2529/3138 [31:50<04:26,  2.29it/s]\u001b[A\n",
      " 81%|████████  | 2530/3138 [31:50<04:40,  2.17it/s]\u001b[A\n",
      " 81%|████████  | 2531/3138 [31:51<05:06,  1.98it/s]\u001b[A\n",
      " 81%|████████  | 2532/3138 [31:52<06:07,  1.65it/s]\u001b[A\n",
      " 81%|████████  | 2533/3138 [31:52<06:49,  1.48it/s]\u001b[A\n",
      " 81%|████████  | 2536/3138 [31:53<05:37,  1.79it/s]\u001b[A\n",
      " 81%|████████  | 2537/3138 [31:54<06:38,  1.51it/s]\u001b[A\n",
      " 81%|████████  | 2538/3138 [31:55<05:56,  1.68it/s]\u001b[A\n",
      " 81%|████████  | 2541/3138 [31:55<04:36,  2.16it/s]\u001b[A\n",
      " 81%|████████  | 2542/3138 [31:55<04:32,  2.19it/s]\u001b[A\n",
      " 81%|████████  | 2543/3138 [31:56<05:07,  1.93it/s]\u001b[A\n",
      " 81%|████████  | 2544/3138 [31:57<05:22,  1.84it/s]\u001b[A\n",
      " 81%|████████  | 2545/3138 [31:58<06:15,  1.58it/s]\u001b[A\n",
      " 81%|████████  | 2546/3138 [31:58<07:03,  1.40it/s]\u001b[A\n",
      " 81%|████████  | 2547/3138 [31:59<07:25,  1.33it/s]\u001b[A\n",
      " 81%|████████  | 2548/3138 [32:00<06:38,  1.48it/s]\u001b[A\n",
      " 81%|████████  | 2549/3138 [32:00<05:56,  1.65it/s]\u001b[A\n",
      " 81%|████████▏ | 2550/3138 [32:01<05:28,  1.79it/s]\u001b[A\n",
      " 81%|████████▏ | 2551/3138 [32:02<06:18,  1.55it/s]\u001b[A\n",
      " 81%|████████▏ | 2552/3138 [32:02<05:44,  1.70it/s]\u001b[A\n",
      " 81%|████████▏ | 2553/3138 [32:03<05:27,  1.79it/s]\u001b[A\n",
      " 81%|████████▏ | 2554/3138 [32:03<06:30,  1.50it/s]\u001b[A\n",
      " 81%|████████▏ | 2557/3138 [32:04<05:20,  1.81it/s]\u001b[A\n",
      " 82%|████████▏ | 2561/3138 [32:05<04:03,  2.37it/s]\u001b[A\n",
      " 82%|████████▏ | 2562/3138 [32:05<04:10,  2.30it/s]\u001b[A\n",
      " 82%|████████▏ | 2563/3138 [32:06<05:34,  1.72it/s]\u001b[A\n",
      " 82%|████████▏ | 2564/3138 [32:07<05:31,  1.73it/s]\u001b[A\n",
      " 82%|████████▏ | 2565/3138 [32:08<06:16,  1.52it/s]\u001b[A\n",
      " 82%|████████▏ | 2568/3138 [32:08<04:46,  1.99it/s]\u001b[A\n",
      " 82%|████████▏ | 2569/3138 [32:09<05:02,  1.88it/s]\u001b[A\n",
      " 82%|████████▏ | 2570/3138 [32:09<05:55,  1.60it/s]\u001b[A\n",
      " 82%|████████▏ | 2571/3138 [32:10<06:31,  1.45it/s]\u001b[A\n",
      " 82%|████████▏ | 2572/3138 [32:11<05:46,  1.63it/s]\u001b[A\n",
      " 82%|████████▏ | 2574/3138 [32:11<04:43,  1.99it/s]\u001b[A\n",
      " 82%|████████▏ | 2575/3138 [32:12<04:33,  2.06it/s]\u001b[A\n",
      " 82%|████████▏ | 2576/3138 [32:12<04:28,  2.09it/s]\u001b[A\n",
      " 82%|████████▏ | 2577/3138 [32:13<05:29,  1.70it/s]\u001b[A\n",
      " 82%|████████▏ | 2578/3138 [32:14<05:31,  1.69it/s]\u001b[A\n",
      " 82%|████████▏ | 2579/3138 [32:14<05:14,  1.78it/s]\u001b[A\n",
      " 82%|████████▏ | 2580/3138 [32:15<05:06,  1.82it/s]\u001b[A\n",
      " 82%|████████▏ | 2581/3138 [32:15<04:59,  1.86it/s]\u001b[A\n",
      " 82%|████████▏ | 2582/3138 [32:16<04:49,  1.92it/s]\u001b[A\n",
      " 82%|████████▏ | 2583/3138 [32:16<05:11,  1.78it/s]\u001b[A\n",
      " 82%|████████▏ | 2584/3138 [32:17<05:20,  1.73it/s]\u001b[A\n",
      " 82%|████████▏ | 2585/3138 [32:18<06:03,  1.52it/s]\u001b[A\n",
      " 82%|████████▏ | 2586/3138 [32:18<05:32,  1.66it/s]\u001b[A\n",
      " 82%|████████▏ | 2587/3138 [32:19<06:11,  1.48it/s]\u001b[A\n",
      " 82%|████████▏ | 2588/3138 [32:20<06:39,  1.38it/s]\u001b[A\n",
      " 83%|████████▎ | 2589/3138 [32:21<06:57,  1.31it/s]\u001b[A\n",
      " 83%|████████▎ | 2590/3138 [32:21<07:07,  1.28it/s]\u001b[A\n",
      " 83%|████████▎ | 2591/3138 [32:22<07:17,  1.25it/s]\u001b[A\n",
      " 83%|████████▎ | 2592/3138 [32:23<06:24,  1.42it/s]\u001b[A\n",
      " 83%|████████▎ | 2593/3138 [32:23<05:51,  1.55it/s]\u001b[A\n",
      " 83%|████████▎ | 2594/3138 [32:24<06:22,  1.42it/s]\u001b[A\n",
      " 83%|████████▎ | 2595/3138 [32:25<05:49,  1.55it/s]\u001b[A\n",
      " 83%|████████▎ | 2596/3138 [32:25<04:59,  1.81it/s]\u001b[A\n",
      " 83%|████████▎ | 2597/3138 [32:26<05:55,  1.52it/s]\u001b[A\n",
      " 83%|████████▎ | 2598/3138 [32:26<05:24,  1.66it/s]\u001b[A\n",
      " 83%|████████▎ | 2600/3138 [32:27<04:22,  2.05it/s]\u001b[A\n",
      " 83%|████████▎ | 2601/3138 [32:27<04:25,  2.02it/s]\u001b[A\n",
      " 83%|████████▎ | 2602/3138 [32:28<04:16,  2.09it/s]\u001b[A\n",
      " 83%|████████▎ | 2603/3138 [32:30<09:21,  1.05s/it]\u001b[A\n",
      " 83%|████████▎ | 2604/3138 [32:31<07:51,  1.13it/s]\u001b[A\n",
      " 83%|████████▎ | 2605/3138 [32:31<06:56,  1.28it/s]\u001b[A\n",
      " 83%|████████▎ | 2606/3138 [32:32<06:00,  1.47it/s]\u001b[A\n",
      " 83%|████████▎ | 2607/3138 [32:32<06:26,  1.37it/s]\u001b[A\n",
      " 83%|████████▎ | 2608/3138 [32:33<06:44,  1.31it/s]\u001b[A\n",
      " 83%|████████▎ | 2609/3138 [32:34<07:18,  1.21it/s]\u001b[A\n",
      " 83%|████████▎ | 2610/3138 [32:35<07:38,  1.15it/s]\u001b[A\n",
      " 83%|████████▎ | 2613/3138 [32:36<06:03,  1.44it/s]\u001b[A\n",
      " 83%|████████▎ | 2615/3138 [32:37<04:48,  1.81it/s]\u001b[A\n",
      " 83%|████████▎ | 2616/3138 [32:37<04:35,  1.89it/s]\u001b[A\n",
      " 83%|████████▎ | 2617/3138 [32:38<04:53,  1.78it/s]\u001b[A\n",
      " 83%|████████▎ | 2618/3138 [32:39<06:04,  1.43it/s]\u001b[A\n",
      " 83%|████████▎ | 2619/3138 [32:40<06:26,  1.34it/s]\u001b[A\n",
      " 83%|████████▎ | 2620/3138 [32:40<06:41,  1.29it/s]\u001b[A\n",
      " 84%|████████▎ | 2621/3138 [32:41<06:16,  1.37it/s]\u001b[A\n",
      " 84%|████████▎ | 2622/3138 [32:41<05:35,  1.54it/s]\u001b[A\n",
      " 84%|████████▎ | 2623/3138 [32:42<06:02,  1.42it/s]\u001b[A\n",
      " 84%|████████▎ | 2624/3138 [32:43<05:28,  1.57it/s]\u001b[A\n",
      " 84%|████████▎ | 2625/3138 [32:43<05:00,  1.71it/s]\u001b[A\n",
      " 84%|████████▎ | 2626/3138 [32:44<04:35,  1.86it/s]\u001b[A\n",
      " 84%|████████▎ | 2627/3138 [32:45<05:25,  1.57it/s]\u001b[A\n",
      " 84%|████████▎ | 2628/3138 [32:45<05:18,  1.60it/s]\u001b[A\n",
      " 84%|████████▍ | 2631/3138 [32:46<04:02,  2.09it/s]\u001b[A\n",
      " 84%|████████▍ | 2632/3138 [32:46<04:04,  2.07it/s]\u001b[A\n",
      " 84%|████████▍ | 2633/3138 [32:47<04:02,  2.08it/s]\u001b[A\n",
      " 84%|████████▍ | 2634/3138 [32:47<04:00,  2.09it/s]\u001b[A\n",
      " 84%|████████▍ | 2636/3138 [32:47<03:16,  2.55it/s]\u001b[A\n",
      " 84%|████████▍ | 2637/3138 [32:48<03:41,  2.26it/s]\u001b[A\n",
      " 84%|████████▍ | 2638/3138 [32:48<03:21,  2.48it/s]\u001b[A\n",
      " 84%|████████▍ | 2641/3138 [32:49<02:42,  3.06it/s]\u001b[A\n",
      " 84%|████████▍ | 2642/3138 [32:49<03:00,  2.75it/s]\u001b[A\n",
      " 84%|████████▍ | 2644/3138 [32:50<02:35,  3.18it/s]\u001b[A\n",
      " 84%|████████▍ | 2645/3138 [32:50<03:52,  2.12it/s]\u001b[A\n",
      " 84%|████████▍ | 2647/3138 [32:51<03:44,  2.19it/s]\u001b[A\n",
      " 84%|████████▍ | 2649/3138 [32:52<03:10,  2.56it/s]\u001b[A\n",
      " 84%|████████▍ | 2650/3138 [32:53<04:17,  1.90it/s]\u001b[A\n",
      " 84%|████████▍ | 2651/3138 [32:53<04:09,  1.95it/s]\u001b[A\n",
      " 85%|████████▍ | 2653/3138 [32:53<03:20,  2.42it/s]\u001b[A\n",
      " 85%|████████▍ | 2654/3138 [32:55<05:08,  1.57it/s]\u001b[A\n",
      " 85%|████████▍ | 2655/3138 [32:55<04:47,  1.68it/s]\u001b[A\n",
      " 85%|████████▍ | 2656/3138 [32:56<04:27,  1.80it/s]\u001b[A\n",
      " 85%|████████▍ | 2657/3138 [32:56<05:08,  1.56it/s]\u001b[A\n",
      " 85%|████████▍ | 2658/3138 [32:57<04:42,  1.70it/s]\u001b[A\n",
      " 85%|████████▍ | 2659/3138 [32:57<04:25,  1.80it/s]\u001b[A\n",
      " 85%|████████▍ | 2660/3138 [32:58<04:10,  1.91it/s]\u001b[A\n",
      " 85%|████████▍ | 2661/3138 [32:58<04:31,  1.75it/s]\u001b[A\n",
      " 85%|████████▍ | 2662/3138 [32:59<04:13,  1.88it/s]\u001b[A\n",
      " 85%|████████▍ | 2663/3138 [32:59<04:13,  1.87it/s]\u001b[A\n",
      " 85%|████████▍ | 2664/3138 [33:00<04:15,  1.86it/s]\u001b[A\n",
      " 85%|████████▍ | 2665/3138 [33:01<04:57,  1.59it/s]\u001b[A\n",
      " 85%|████████▍ | 2666/3138 [33:02<05:26,  1.44it/s]\u001b[A\n",
      " 85%|████████▍ | 2667/3138 [33:02<05:00,  1.57it/s]\u001b[A\n",
      " 85%|████████▌ | 2668/3138 [33:03<04:36,  1.70it/s]\u001b[A\n",
      " 85%|████████▌ | 2669/3138 [33:03<04:19,  1.81it/s]\u001b[A\n",
      " 85%|████████▌ | 2670/3138 [33:04<04:04,  1.91it/s]\u001b[A\n",
      " 85%|████████▌ | 2671/3138 [33:04<03:57,  1.96it/s]\u001b[A\n",
      " 85%|████████▌ | 2672/3138 [33:04<03:52,  2.00it/s]\u001b[A\n",
      " 85%|████████▌ | 2673/3138 [33:05<04:49,  1.61it/s]\u001b[A\n",
      " 85%|████████▌ | 2674/3138 [33:06<04:29,  1.72it/s]\u001b[A\n",
      " 85%|████████▌ | 2675/3138 [33:06<04:14,  1.82it/s]\u001b[A\n",
      " 85%|████████▌ | 2676/3138 [33:07<03:33,  2.16it/s]\u001b[A\n",
      " 85%|████████▌ | 2677/3138 [33:07<03:33,  2.16it/s]\u001b[A\n",
      " 85%|████████▌ | 2680/3138 [33:08<03:07,  2.45it/s]\u001b[A\n",
      " 85%|████████▌ | 2681/3138 [33:08<03:17,  2.31it/s]\u001b[A\n",
      " 85%|████████▌ | 2682/3138 [33:09<03:28,  2.19it/s]\u001b[A\n",
      " 86%|████████▌ | 2683/3138 [33:09<03:28,  2.18it/s]\u001b[A\n",
      " 86%|████████▌ | 2684/3138 [33:10<03:30,  2.16it/s]\u001b[A\n",
      " 86%|████████▌ | 2686/3138 [33:10<03:00,  2.51it/s]\u001b[A\n",
      " 86%|████████▌ | 2687/3138 [33:11<03:19,  2.26it/s]\u001b[A\n",
      " 86%|████████▌ | 2688/3138 [33:11<03:14,  2.31it/s]\u001b[A\n",
      " 86%|████████▌ | 2689/3138 [33:12<03:23,  2.21it/s]\u001b[A\n",
      " 86%|████████▌ | 2690/3138 [33:12<03:20,  2.23it/s]\u001b[A\n",
      " 86%|████████▌ | 2691/3138 [33:13<03:22,  2.20it/s]\u001b[A\n",
      " 86%|████████▌ | 2692/3138 [33:13<03:24,  2.18it/s]\u001b[A\n",
      " 86%|████████▌ | 2693/3138 [33:20<17:15,  2.33s/it]\u001b[A\n",
      " 86%|████████▌ | 2694/3138 [33:22<15:49,  2.14s/it]\u001b[A\n",
      " 86%|████████▌ | 2695/3138 [33:22<12:06,  1.64s/it]\u001b[A\n",
      " 86%|████████▌ | 2696/3138 [33:23<09:26,  1.28s/it]\u001b[A\n",
      " 86%|████████▌ | 2697/3138 [33:23<07:37,  1.04s/it]\u001b[A\n",
      " 86%|████████▌ | 2698/3138 [33:24<07:11,  1.02it/s]\u001b[A\n",
      " 86%|████████▌ | 2700/3138 [33:24<05:31,  1.32it/s]\u001b[A\n",
      " 86%|████████▌ | 2701/3138 [33:25<04:48,  1.51it/s]\u001b[A\n",
      " 86%|████████▌ | 2702/3138 [33:26<06:33,  1.11it/s]\u001b[A\n",
      " 86%|████████▌ | 2703/3138 [33:27<05:57,  1.22it/s]\u001b[A\n",
      " 86%|████████▌ | 2704/3138 [33:28<06:22,  1.13it/s]\u001b[A\n",
      " 86%|████████▌ | 2706/3138 [33:29<05:21,  1.34it/s]\u001b[A\n",
      " 86%|████████▋ | 2707/3138 [33:30<05:33,  1.29it/s]\u001b[A\n",
      " 86%|████████▋ | 2708/3138 [33:30<05:42,  1.25it/s]\u001b[A\n",
      " 86%|████████▋ | 2709/3138 [33:31<05:47,  1.23it/s]\u001b[A\n",
      " 86%|████████▋ | 2711/3138 [33:32<04:54,  1.45it/s]\u001b[A\n",
      " 86%|████████▋ | 2713/3138 [33:33<04:16,  1.65it/s]\u001b[A\n",
      " 87%|████████▋ | 2715/3138 [33:34<03:52,  1.82it/s]\u001b[A\n",
      " 87%|████████▋ | 2716/3138 [33:35<04:35,  1.53it/s]\u001b[A\n",
      " 87%|████████▋ | 2717/3138 [33:35<04:58,  1.41it/s]\u001b[A\n",
      " 87%|████████▋ | 2718/3138 [33:36<05:17,  1.32it/s]\u001b[A\n",
      " 87%|████████▋ | 2719/3138 [33:37<05:27,  1.28it/s]\u001b[A\n",
      " 87%|████████▋ | 2720/3138 [33:38<05:33,  1.25it/s]\u001b[A\n",
      " 87%|████████▋ | 2721/3138 [33:39<05:38,  1.23it/s]\u001b[A\n",
      " 87%|████████▋ | 2722/3138 [33:40<05:40,  1.22it/s]\u001b[A\n",
      " 87%|████████▋ | 2723/3138 [33:41<05:43,  1.21it/s]\u001b[A\n",
      " 87%|████████▋ | 2724/3138 [33:41<05:44,  1.20it/s]\u001b[A\n",
      " 87%|████████▋ | 2725/3138 [33:42<04:56,  1.39it/s]\u001b[A\n",
      " 87%|████████▋ | 2727/3138 [33:42<04:00,  1.71it/s]\u001b[A\n",
      " 87%|████████▋ | 2728/3138 [33:43<04:03,  1.69it/s]\u001b[A\n",
      " 87%|████████▋ | 2729/3138 [33:44<04:01,  1.69it/s]\u001b[A\n",
      " 87%|████████▋ | 2730/3138 [33:44<03:43,  1.82it/s]\u001b[A\n",
      " 87%|████████▋ | 2731/3138 [33:44<03:33,  1.91it/s]\u001b[A\n",
      " 87%|████████▋ | 2733/3138 [33:45<02:57,  2.28it/s]\u001b[A\n",
      " 87%|████████▋ | 2734/3138 [33:45<02:59,  2.25it/s]\u001b[A\n",
      " 87%|████████▋ | 2735/3138 [33:46<02:51,  2.36it/s]\u001b[A\n",
      " 87%|████████▋ | 2736/3138 [33:46<02:58,  2.25it/s]\u001b[A\n",
      " 87%|████████▋ | 2738/3138 [33:47<02:27,  2.71it/s]\u001b[A\n",
      " 87%|████████▋ | 2739/3138 [33:47<03:24,  1.95it/s]\u001b[A\n",
      " 87%|████████▋ | 2740/3138 [33:48<03:16,  2.02it/s]\u001b[A\n",
      " 87%|████████▋ | 2741/3138 [33:48<03:19,  1.99it/s]\u001b[A\n",
      " 87%|████████▋ | 2743/3138 [33:49<02:48,  2.35it/s]\u001b[A\n",
      " 87%|████████▋ | 2744/3138 [33:50<03:37,  1.81it/s]\u001b[A\n",
      " 87%|████████▋ | 2745/3138 [33:51<03:59,  1.64it/s]\u001b[A\n",
      " 88%|████████▊ | 2746/3138 [33:51<04:27,  1.46it/s]\u001b[A\n",
      " 88%|████████▊ | 2748/3138 [33:52<03:24,  1.90it/s]\u001b[A\n",
      " 88%|████████▊ | 2749/3138 [33:52<03:10,  2.05it/s]\u001b[A\n",
      " 88%|████████▊ | 2751/3138 [33:53<02:49,  2.29it/s]\u001b[A\n",
      " 88%|████████▊ | 2752/3138 [33:53<03:03,  2.11it/s]\u001b[A\n",
      " 88%|████████▊ | 2754/3138 [33:54<02:35,  2.47it/s]\u001b[A\n",
      " 88%|████████▊ | 2755/3138 [33:54<02:39,  2.40it/s]\u001b[A\n",
      " 88%|████████▊ | 2756/3138 [33:55<02:43,  2.33it/s]\u001b[A\n",
      " 88%|████████▊ | 2758/3138 [33:56<02:40,  2.36it/s]\u001b[A\n",
      " 88%|████████▊ | 2759/3138 [33:56<02:46,  2.28it/s]\u001b[A\n",
      " 88%|████████▊ | 2760/3138 [33:57<02:52,  2.19it/s]\u001b[A\n",
      " 88%|████████▊ | 2761/3138 [33:57<02:52,  2.19it/s]\u001b[A\n",
      " 88%|████████▊ | 2762/3138 [33:58<03:35,  1.75it/s]\u001b[A\n",
      " 88%|████████▊ | 2764/3138 [33:58<02:47,  2.23it/s]\u001b[A\n",
      " 88%|████████▊ | 2765/3138 [33:59<03:27,  1.80it/s]\u001b[A\n",
      " 88%|████████▊ | 2767/3138 [33:59<02:51,  2.17it/s]\u001b[A\n",
      " 88%|████████▊ | 2768/3138 [34:00<03:33,  1.73it/s]\u001b[A\n",
      " 88%|████████▊ | 2769/3138 [34:01<03:25,  1.80it/s]\u001b[A\n",
      " 88%|████████▊ | 2770/3138 [34:01<03:22,  1.82it/s]\u001b[A\n",
      " 88%|████████▊ | 2771/3138 [34:02<03:11,  1.91it/s]\u001b[A\n",
      " 88%|████████▊ | 2772/3138 [34:02<03:01,  2.02it/s]\u001b[A\n",
      " 88%|████████▊ | 2774/3138 [34:03<02:32,  2.39it/s]\u001b[A\n",
      " 88%|████████▊ | 2775/3138 [34:03<02:37,  2.30it/s]\u001b[A\n",
      " 88%|████████▊ | 2776/3138 [34:04<02:41,  2.25it/s]\u001b[A\n",
      " 88%|████████▊ | 2777/3138 [34:04<02:41,  2.23it/s]\u001b[A\n",
      " 89%|████████▊ | 2779/3138 [34:05<02:18,  2.58it/s]\u001b[A\n",
      " 89%|████████▊ | 2780/3138 [34:05<02:48,  2.12it/s]\u001b[A\n",
      " 89%|████████▊ | 2781/3138 [34:06<03:05,  1.93it/s]\u001b[A\n",
      " 89%|████████▊ | 2784/3138 [34:06<02:22,  2.49it/s]\u001b[A\n",
      " 89%|████████▉ | 2786/3138 [34:07<02:24,  2.44it/s]\u001b[A\n",
      " 89%|████████▉ | 2787/3138 [34:08<02:31,  2.31it/s]\u001b[A\n",
      " 89%|████████▉ | 2788/3138 [34:08<03:14,  1.80it/s]\u001b[A\n",
      " 89%|████████▉ | 2789/3138 [34:09<03:05,  1.88it/s]\u001b[A\n",
      " 89%|████████▉ | 2790/3138 [34:09<03:00,  1.93it/s]\u001b[A\n",
      " 89%|████████▉ | 2791/3138 [34:10<02:55,  1.97it/s]\u001b[A\n",
      " 89%|████████▉ | 2792/3138 [34:11<03:21,  1.72it/s]\u001b[A\n",
      " 89%|████████▉ | 2793/3138 [34:11<03:11,  1.80it/s]\u001b[A\n",
      " 89%|████████▉ | 2794/3138 [34:12<03:02,  1.89it/s]\u001b[A\n",
      " 89%|████████▉ | 2795/3138 [34:12<02:55,  1.95it/s]\u001b[A\n",
      " 89%|████████▉ | 2796/3138 [34:13<03:28,  1.64it/s]\u001b[A\n",
      " 89%|████████▉ | 2797/3138 [34:13<03:20,  1.70it/s]\u001b[A\n",
      " 89%|████████▉ | 2798/3138 [34:14<03:45,  1.51it/s]\u001b[A\n",
      " 89%|████████▉ | 2800/3138 [34:15<03:19,  1.69it/s]\u001b[A\n",
      " 89%|████████▉ | 2801/3138 [34:16<03:08,  1.79it/s]\u001b[A\n",
      " 89%|████████▉ | 2802/3138 [34:16<03:36,  1.55it/s]\u001b[A\n",
      " 89%|████████▉ | 2803/3138 [34:17<03:45,  1.49it/s]\u001b[A\n",
      " 89%|████████▉ | 2804/3138 [34:18<03:49,  1.46it/s]\u001b[A\n",
      " 89%|████████▉ | 2805/3138 [34:18<03:29,  1.59it/s]\u001b[A\n",
      " 89%|████████▉ | 2806/3138 [34:19<03:12,  1.72it/s]\u001b[A\n",
      " 89%|████████▉ | 2807/3138 [34:19<03:01,  1.82it/s]\u001b[A\n",
      " 89%|████████▉ | 2808/3138 [34:20<02:56,  1.87it/s]\u001b[A\n",
      " 90%|████████▉ | 2809/3138 [34:20<02:53,  1.90it/s]\u001b[A\n",
      " 90%|████████▉ | 2810/3138 [34:21<02:52,  1.90it/s]\u001b[A\n",
      " 90%|████████▉ | 2811/3138 [34:21<02:49,  1.93it/s]\u001b[A\n",
      " 90%|████████▉ | 2812/3138 [34:22<02:40,  2.04it/s]\u001b[A\n",
      " 90%|████████▉ | 2813/3138 [34:22<02:41,  2.01it/s]\u001b[A\n",
      " 90%|████████▉ | 2814/3138 [34:23<02:42,  1.99it/s]\u001b[A\n",
      " 90%|████████▉ | 2816/3138 [34:24<02:42,  1.98it/s]\u001b[A\n",
      " 90%|████████▉ | 2817/3138 [34:24<02:45,  1.94it/s]\u001b[A\n",
      " 90%|████████▉ | 2818/3138 [34:25<02:51,  1.86it/s]\u001b[A\n",
      " 90%|████████▉ | 2819/3138 [34:26<02:59,  1.77it/s]\u001b[A\n",
      " 90%|████████▉ | 2820/3138 [34:26<02:51,  1.86it/s]\u001b[A\n",
      " 90%|████████▉ | 2821/3138 [34:27<02:45,  1.92it/s]\u001b[A\n",
      " 90%|████████▉ | 2822/3138 [34:27<02:43,  1.94it/s]\u001b[A\n",
      " 90%|████████▉ | 2823/3138 [34:28<02:38,  1.99it/s]\u001b[A\n",
      " 90%|████████▉ | 2824/3138 [34:28<03:10,  1.65it/s]\u001b[A\n",
      " 90%|█████████ | 2825/3138 [34:29<03:01,  1.72it/s]\u001b[A\n",
      " 90%|█████████ | 2826/3138 [34:29<02:51,  1.82it/s]\u001b[A\n",
      " 90%|█████████ | 2827/3138 [34:30<03:18,  1.57it/s]\u001b[A\n",
      " 90%|█████████ | 2828/3138 [34:31<03:16,  1.57it/s]\u001b[A\n",
      " 90%|█████████ | 2829/3138 [34:31<03:00,  1.71it/s]\u001b[A\n",
      " 90%|█████████ | 2830/3138 [34:32<03:23,  1.51it/s]\u001b[A\n",
      " 90%|█████████ | 2831/3138 [34:34<04:36,  1.11it/s]\u001b[A\n",
      " 90%|█████████ | 2832/3138 [34:34<04:04,  1.25it/s]\u001b[A\n",
      " 90%|█████████ | 2833/3138 [34:35<04:14,  1.20it/s]\u001b[A\n",
      " 90%|█████████ | 2834/3138 [34:36<03:48,  1.33it/s]\u001b[A\n",
      " 90%|█████████ | 2835/3138 [34:36<03:21,  1.50it/s]\u001b[A\n",
      " 90%|█████████ | 2836/3138 [34:37<02:58,  1.69it/s]\u001b[A\n",
      " 90%|█████████ | 2837/3138 [34:37<02:47,  1.80it/s]\u001b[A\n",
      " 90%|█████████ | 2838/3138 [34:38<02:42,  1.84it/s]\u001b[A\n",
      " 91%|█████████ | 2840/3138 [34:38<02:16,  2.19it/s]\u001b[A\n",
      " 91%|█████████ | 2841/3138 [34:39<02:17,  2.15it/s]\u001b[A\n",
      " 91%|█████████ | 2842/3138 [34:39<02:16,  2.17it/s]\u001b[A\n",
      " 91%|█████████ | 2843/3138 [34:39<02:20,  2.10it/s]\u001b[A\n",
      " 91%|█████████ | 2844/3138 [34:40<02:23,  2.05it/s]\u001b[A\n",
      " 91%|█████████ | 2846/3138 [34:41<02:02,  2.39it/s]\u001b[A\n",
      " 91%|█████████ | 2847/3138 [34:41<02:03,  2.35it/s]\u001b[A\n",
      " 91%|█████████ | 2850/3138 [34:41<01:39,  2.90it/s]\u001b[A\n",
      " 91%|█████████ | 2851/3138 [34:42<01:49,  2.62it/s]\u001b[A\n",
      " 91%|█████████ | 2852/3138 [34:42<02:01,  2.36it/s]\u001b[A\n",
      " 91%|█████████ | 2854/3138 [34:43<01:44,  2.71it/s]\u001b[A\n",
      " 91%|█████████ | 2855/3138 [34:43<01:50,  2.56it/s]\u001b[A\n",
      " 91%|█████████ | 2857/3138 [34:44<01:36,  2.91it/s]\u001b[A\n",
      " 91%|█████████ | 2858/3138 [34:44<01:48,  2.58it/s]\u001b[A\n",
      " 91%|█████████ | 2859/3138 [34:45<01:59,  2.34it/s]\u001b[A\n",
      " 91%|█████████ | 2860/3138 [34:45<02:00,  2.30it/s]\u001b[A\n",
      " 91%|█████████ | 2861/3138 [34:46<01:52,  2.46it/s]\u001b[A\n",
      " 91%|█████████▏| 2864/3138 [34:46<01:34,  2.90it/s]\u001b[A\n",
      " 91%|█████████▏| 2865/3138 [34:47<02:00,  2.27it/s]\u001b[A\n",
      " 91%|█████████▏| 2866/3138 [34:48<02:34,  1.75it/s]\u001b[A\n",
      " 91%|█████████▏| 2867/3138 [34:48<02:24,  1.88it/s]\u001b[A\n",
      " 91%|█████████▏| 2868/3138 [34:49<02:32,  1.77it/s]\u001b[A\n",
      " 91%|█████████▏| 2869/3138 [34:49<02:24,  1.86it/s]\u001b[A\n",
      " 91%|█████████▏| 2870/3138 [34:50<02:18,  1.93it/s]\u001b[A\n",
      " 91%|█████████▏| 2871/3138 [34:51<02:46,  1.61it/s]\u001b[A\n",
      " 92%|█████████▏| 2873/3138 [34:51<02:27,  1.79it/s]\u001b[A\n",
      " 92%|█████████▏| 2875/3138 [34:52<02:03,  2.13it/s]\u001b[A\n",
      " 92%|█████████▏| 2877/3138 [34:52<01:43,  2.51it/s]\u001b[A\n",
      " 92%|█████████▏| 2879/3138 [34:53<01:36,  2.69it/s]\u001b[A\n",
      " 92%|█████████▏| 2880/3138 [34:54<01:45,  2.44it/s]\u001b[A\n",
      " 92%|█████████▏| 2882/3138 [34:54<01:31,  2.79it/s]\u001b[A\n",
      " 92%|█████████▏| 2883/3138 [34:55<01:43,  2.46it/s]\u001b[A\n",
      " 92%|█████████▏| 2884/3138 [34:55<01:47,  2.37it/s]\u001b[A\n",
      " 92%|█████████▏| 2885/3138 [34:56<02:18,  1.82it/s]\u001b[A\n",
      " 92%|█████████▏| 2886/3138 [34:57<02:41,  1.56it/s]\u001b[A\n",
      " 92%|█████████▏| 2887/3138 [34:57<02:33,  1.63it/s]\u001b[A\n",
      " 92%|█████████▏| 2888/3138 [34:58<02:24,  1.73it/s]\u001b[A\n",
      " 92%|█████████▏| 2889/3138 [34:59<02:49,  1.47it/s]\u001b[A\n",
      " 92%|█████████▏| 2890/3138 [34:59<02:33,  1.61it/s]\u001b[A\n",
      " 92%|█████████▏| 2892/3138 [35:00<02:17,  1.78it/s]\u001b[A\n",
      " 92%|█████████▏| 2894/3138 [35:00<01:53,  2.14it/s]\u001b[A\n",
      " 92%|█████████▏| 2895/3138 [35:01<01:54,  2.12it/s]\u001b[A\n",
      " 92%|█████████▏| 2896/3138 [35:01<01:53,  2.12it/s]\u001b[A\n",
      " 92%|█████████▏| 2897/3138 [35:02<01:53,  2.12it/s]\u001b[A\n",
      " 92%|█████████▏| 2898/3138 [35:02<01:52,  2.12it/s]\u001b[A\n",
      " 92%|█████████▏| 2899/3138 [35:03<01:56,  2.05it/s]\u001b[A\n",
      " 92%|█████████▏| 2900/3138 [35:04<02:21,  1.68it/s]\u001b[A\n",
      " 92%|█████████▏| 2901/3138 [35:05<02:40,  1.48it/s]\u001b[A\n",
      " 92%|█████████▏| 2902/3138 [35:05<02:15,  1.74it/s]\u001b[A\n",
      " 93%|█████████▎| 2903/3138 [35:06<02:12,  1.77it/s]\u001b[A\n",
      " 93%|█████████▎| 2905/3138 [35:06<01:49,  2.14it/s]\u001b[A\n",
      " 93%|█████████▎| 2906/3138 [35:07<02:10,  1.77it/s]\u001b[A\n",
      " 93%|█████████▎| 2907/3138 [35:08<02:29,  1.54it/s]\u001b[A\n",
      " 93%|█████████▎| 2908/3138 [35:09<02:45,  1.39it/s]\u001b[A\n",
      " 93%|█████████▎| 2909/3138 [35:09<02:25,  1.57it/s]\u001b[A\n",
      " 93%|█████████▎| 2910/3138 [35:10<02:39,  1.43it/s]\u001b[A\n",
      " 93%|█████████▎| 2911/3138 [35:11<02:48,  1.34it/s]\u001b[A\n",
      " 93%|█████████▎| 2913/3138 [35:11<02:16,  1.65it/s]\u001b[A\n",
      " 93%|█████████▎| 2914/3138 [35:12<02:07,  1.75it/s]\u001b[A\n",
      " 93%|█████████▎| 2915/3138 [35:13<02:26,  1.53it/s]\u001b[A\n",
      " 93%|█████████▎| 2916/3138 [35:13<02:13,  1.66it/s]\u001b[A\n",
      " 93%|█████████▎| 2917/3138 [35:13<01:59,  1.85it/s]\u001b[A\n",
      " 93%|█████████▎| 2918/3138 [35:14<01:54,  1.93it/s]\u001b[A\n",
      " 93%|█████████▎| 2919/3138 [35:14<01:50,  1.99it/s]\u001b[A\n",
      " 93%|█████████▎| 2920/3138 [35:15<01:53,  1.92it/s]\u001b[A\n",
      " 93%|█████████▎| 2923/3138 [35:15<01:28,  2.43it/s]\u001b[A\n",
      " 93%|█████████▎| 2924/3138 [35:16<02:08,  1.66it/s]\u001b[A\n",
      " 93%|█████████▎| 2925/3138 [35:17<02:23,  1.49it/s]\u001b[A\n",
      " 93%|█████████▎| 2926/3138 [35:18<02:12,  1.60it/s]\u001b[A\n",
      " 93%|█████████▎| 2927/3138 [35:18<02:01,  1.73it/s]\u001b[A\n",
      " 93%|█████████▎| 2928/3138 [35:19<01:52,  1.87it/s]\u001b[A\n",
      " 93%|█████████▎| 2929/3138 [35:19<01:48,  1.93it/s]\u001b[A\n",
      " 93%|█████████▎| 2931/3138 [35:20<01:41,  2.04it/s]\u001b[A\n",
      " 93%|█████████▎| 2932/3138 [35:21<02:02,  1.68it/s]\u001b[A\n",
      " 93%|█████████▎| 2933/3138 [35:22<02:17,  1.49it/s]\u001b[A\n",
      " 93%|█████████▎| 2934/3138 [35:23<02:27,  1.38it/s]\u001b[A\n",
      " 94%|█████████▎| 2935/3138 [35:23<02:34,  1.32it/s]\u001b[A\n",
      " 94%|█████████▎| 2936/3138 [35:24<02:19,  1.45it/s]\u001b[A\n",
      " 94%|█████████▎| 2937/3138 [35:24<02:07,  1.57it/s]\u001b[A\n",
      " 94%|█████████▎| 2938/3138 [35:25<02:21,  1.42it/s]\u001b[A\n",
      " 94%|█████████▎| 2941/3138 [35:26<01:46,  1.84it/s]\u001b[A\n",
      " 94%|█████████▍| 2942/3138 [35:26<01:41,  1.94it/s]\u001b[A\n",
      " 94%|█████████▍| 2943/3138 [35:27<01:37,  2.00it/s]\u001b[A\n",
      " 94%|█████████▍| 2946/3138 [35:28<01:22,  2.32it/s]\u001b[A\n",
      " 94%|█████████▍| 2947/3138 [35:28<01:25,  2.24it/s]\u001b[A\n",
      " 94%|█████████▍| 2948/3138 [35:29<01:28,  2.16it/s]\u001b[A\n",
      " 94%|█████████▍| 2950/3138 [35:29<01:14,  2.53it/s]\u001b[A\n",
      " 94%|█████████▍| 2951/3138 [35:29<01:17,  2.40it/s]\u001b[A\n",
      " 94%|█████████▍| 2952/3138 [35:30<01:42,  1.82it/s]\u001b[A\n",
      " 94%|█████████▍| 2953/3138 [35:31<01:44,  1.77it/s]\u001b[A\n",
      " 94%|█████████▍| 2954/3138 [35:32<01:59,  1.54it/s]\u001b[A\n",
      " 94%|█████████▍| 2955/3138 [35:32<01:48,  1.68it/s]\u001b[A\n",
      " 94%|█████████▍| 2956/3138 [35:33<02:02,  1.49it/s]\u001b[A\n",
      " 94%|█████████▍| 2957/3138 [35:34<02:07,  1.42it/s]\u001b[A\n",
      " 94%|█████████▍| 2958/3138 [35:34<01:53,  1.59it/s]\u001b[A\n",
      " 94%|█████████▍| 2959/3138 [35:35<01:43,  1.73it/s]\u001b[A\n",
      " 94%|█████████▍| 2960/3138 [35:35<01:37,  1.83it/s]\u001b[A\n",
      " 94%|█████████▍| 2961/3138 [35:37<02:55,  1.01it/s]\u001b[A\n",
      " 94%|█████████▍| 2964/3138 [35:38<02:15,  1.29it/s]\u001b[A\n",
      " 95%|█████████▍| 2966/3138 [35:39<01:48,  1.58it/s]\u001b[A\n",
      " 95%|█████████▍| 2967/3138 [35:40<01:59,  1.43it/s]\u001b[A\n",
      " 95%|█████████▍| 2968/3138 [35:40<02:10,  1.30it/s]\u001b[A\n",
      " 95%|█████████▍| 2969/3138 [35:41<02:13,  1.26it/s]\u001b[A\n",
      " 95%|█████████▍| 2970/3138 [35:42<02:15,  1.24it/s]\u001b[A\n",
      " 95%|█████████▍| 2971/3138 [35:43<02:01,  1.37it/s]\u001b[A\n",
      " 95%|█████████▍| 2972/3138 [35:43<01:48,  1.54it/s]\u001b[A\n",
      " 95%|█████████▍| 2974/3138 [35:44<01:28,  1.85it/s]\u001b[A\n",
      " 95%|█████████▍| 2976/3138 [35:44<01:12,  2.22it/s]\u001b[A\n",
      " 95%|█████████▍| 2977/3138 [35:45<01:13,  2.20it/s]\u001b[A\n",
      " 95%|█████████▍| 2978/3138 [35:45<01:14,  2.15it/s]\u001b[A\n",
      " 95%|█████████▍| 2979/3138 [35:46<01:34,  1.68it/s]\u001b[A\n",
      " 95%|█████████▍| 2980/3138 [35:47<01:27,  1.81it/s]\u001b[A\n",
      " 95%|█████████▍| 2981/3138 [35:47<01:16,  2.04it/s]\u001b[A\n",
      " 95%|█████████▌| 2982/3138 [35:47<01:15,  2.07it/s]\u001b[A\n",
      " 95%|█████████▌| 2984/3138 [35:48<01:02,  2.47it/s]\u001b[A\n",
      " 95%|█████████▌| 2985/3138 [35:48<01:03,  2.42it/s]\u001b[A\n",
      " 95%|█████████▌| 2986/3138 [35:49<01:06,  2.28it/s]\u001b[A\n",
      " 95%|█████████▌| 2987/3138 [35:49<01:08,  2.20it/s]\u001b[A\n",
      " 95%|█████████▌| 2988/3138 [35:50<01:29,  1.67it/s]\u001b[A\n",
      " 95%|█████████▌| 2989/3138 [35:51<01:21,  1.83it/s]\u001b[A\n",
      " 95%|█████████▌| 2990/3138 [35:51<01:16,  1.93it/s]\u001b[A\n",
      " 95%|█████████▌| 2991/3138 [35:51<01:14,  1.98it/s]\u001b[A\n",
      " 95%|█████████▌| 2992/3138 [35:52<01:12,  2.03it/s]\u001b[A\n",
      " 95%|█████████▌| 2993/3138 [35:52<01:09,  2.09it/s]\u001b[A\n",
      " 95%|█████████▌| 2995/3138 [35:53<01:00,  2.38it/s]\u001b[A\n",
      " 95%|█████████▌| 2996/3138 [35:53<01:02,  2.28it/s]\u001b[A\n",
      " 96%|█████████▌| 2997/3138 [35:54<01:13,  1.93it/s]\u001b[A\n",
      " 96%|█████████▌| 3000/3138 [35:55<01:07,  2.04it/s]\u001b[A\n",
      " 96%|█████████▌| 3002/3138 [35:56<00:56,  2.42it/s]\u001b[A\n",
      " 96%|█████████▌| 3003/3138 [35:56<01:01,  2.18it/s]\u001b[A\n",
      " 96%|█████████▌| 3004/3138 [35:57<01:02,  2.16it/s]\u001b[A\n",
      " 96%|█████████▌| 3005/3138 [35:57<01:00,  2.20it/s]\u001b[A\n",
      " 96%|█████████▌| 3006/3138 [35:58<01:16,  1.73it/s]\u001b[A\n",
      " 96%|█████████▌| 3007/3138 [35:59<01:11,  1.84it/s]\u001b[A\n",
      " 96%|█████████▌| 3008/3138 [35:59<01:08,  1.90it/s]\u001b[A\n",
      " 96%|█████████▌| 3009/3138 [36:00<01:07,  1.91it/s]\u001b[A\n",
      " 96%|█████████▌| 3010/3138 [36:01<01:19,  1.62it/s]\u001b[A\n",
      " 96%|█████████▌| 3011/3138 [36:01<01:26,  1.47it/s]\u001b[A\n",
      " 96%|█████████▌| 3012/3138 [36:02<01:16,  1.64it/s]\u001b[A\n",
      " 96%|█████████▌| 3013/3138 [36:02<01:11,  1.76it/s]\u001b[A\n",
      " 96%|█████████▌| 3014/3138 [36:03<01:19,  1.55it/s]\u001b[A\n",
      " 96%|█████████▌| 3015/3138 [36:04<01:12,  1.70it/s]\u001b[A\n",
      " 96%|█████████▌| 3016/3138 [36:04<01:21,  1.50it/s]\u001b[A\n",
      " 96%|█████████▌| 3017/3138 [36:05<01:14,  1.64it/s]\u001b[A\n",
      " 96%|█████████▌| 3018/3138 [36:06<01:21,  1.47it/s]\u001b[A\n",
      " 96%|█████████▌| 3019/3138 [36:06<01:13,  1.63it/s]\u001b[A\n",
      " 96%|█████████▋| 3021/3138 [36:07<00:58,  1.99it/s]\u001b[A\n",
      " 96%|█████████▋| 3022/3138 [36:08<01:14,  1.56it/s]\u001b[A\n",
      " 96%|█████████▋| 3023/3138 [36:09<01:20,  1.42it/s]\u001b[A\n",
      " 96%|█████████▋| 3024/3138 [36:09<01:13,  1.55it/s]\u001b[A\n",
      " 96%|█████████▋| 3025/3138 [36:17<05:13,  2.77s/it]\u001b[A\n",
      " 96%|█████████▋| 3026/3138 [36:17<03:53,  2.09s/it]\u001b[A\n",
      " 96%|█████████▋| 3027/3138 [36:18<03:10,  1.71s/it]\u001b[A\n",
      " 97%|█████████▋| 3029/3138 [36:19<02:17,  1.27s/it]\u001b[A\n",
      " 97%|█████████▋| 3030/3138 [36:19<01:50,  1.02s/it]\u001b[A\n",
      " 97%|█████████▋| 3031/3138 [36:20<01:44,  1.02it/s]\u001b[A\n",
      " 97%|█████████▋| 3032/3138 [36:21<01:39,  1.07it/s]\u001b[A\n",
      " 97%|█████████▋| 3033/3138 [36:21<01:24,  1.25it/s]\u001b[A\n",
      " 97%|█████████▋| 3034/3138 [36:22<01:13,  1.42it/s]\u001b[A\n",
      " 97%|█████████▋| 3035/3138 [36:22<01:05,  1.58it/s]\u001b[A\n",
      " 97%|█████████▋| 3036/3138 [36:23<00:59,  1.71it/s]\u001b[A\n",
      " 97%|█████████▋| 3037/3138 [36:23<00:58,  1.73it/s]\u001b[A\n",
      " 97%|█████████▋| 3038/3138 [36:24<01:05,  1.52it/s]\u001b[A\n",
      " 97%|█████████▋| 3039/3138 [36:24<00:59,  1.66it/s]\u001b[A\n",
      " 97%|█████████▋| 3040/3138 [36:25<00:58,  1.68it/s]\u001b[A\n",
      " 97%|█████████▋| 3041/3138 [36:26<00:54,  1.78it/s]\u001b[A\n",
      " 97%|█████████▋| 3042/3138 [36:26<00:51,  1.88it/s]\u001b[A\n",
      " 97%|█████████▋| 3043/3138 [36:27<00:59,  1.60it/s]\u001b[A\n",
      " 97%|█████████▋| 3044/3138 [36:27<00:54,  1.72it/s]\u001b[A\n",
      " 97%|█████████▋| 3045/3138 [36:28<00:52,  1.77it/s]\u001b[A\n",
      " 97%|█████████▋| 3046/3138 [36:29<00:59,  1.54it/s]\u001b[A\n",
      " 97%|█████████▋| 3047/3138 [36:30<01:05,  1.40it/s]\u001b[A\n",
      " 97%|█████████▋| 3048/3138 [36:30<01:06,  1.36it/s]\u001b[A\n",
      " 97%|█████████▋| 3049/3138 [36:31<01:06,  1.33it/s]\u001b[A\n",
      " 97%|█████████▋| 3050/3138 [36:32<00:59,  1.49it/s]\u001b[A\n",
      " 97%|█████████▋| 3051/3138 [36:32<01:02,  1.39it/s]\u001b[A\n",
      " 97%|█████████▋| 3052/3138 [36:33<01:05,  1.32it/s]\u001b[A\n",
      " 97%|█████████▋| 3053/3138 [36:34<00:56,  1.49it/s]\u001b[A\n",
      " 97%|█████████▋| 3054/3138 [36:34<00:56,  1.48it/s]\u001b[A\n",
      " 97%|█████████▋| 3055/3138 [36:35<00:59,  1.38it/s]\u001b[A\n",
      " 97%|█████████▋| 3056/3138 [36:36<01:03,  1.28it/s]\u001b[A\n",
      " 97%|█████████▋| 3057/3138 [36:37<01:10,  1.15it/s]\u001b[A\n",
      " 97%|█████████▋| 3058/3138 [36:38<01:09,  1.16it/s]\u001b[A\n",
      " 97%|█████████▋| 3059/3138 [36:39<01:08,  1.15it/s]\u001b[A\n",
      " 98%|█████████▊| 3060/3138 [36:39<00:57,  1.35it/s]\u001b[A\n",
      " 98%|█████████▊| 3061/3138 [36:40<00:51,  1.48it/s]\u001b[A\n",
      " 98%|█████████▊| 3062/3138 [36:40<00:45,  1.67it/s]\u001b[A\n",
      " 98%|█████████▊| 3063/3138 [36:41<00:45,  1.65it/s]\u001b[A\n",
      " 98%|█████████▊| 3064/3138 [36:42<00:42,  1.74it/s]\u001b[A\n",
      " 98%|█████████▊| 3065/3138 [36:42<00:39,  1.87it/s]\u001b[A\n",
      " 98%|█████████▊| 3066/3138 [36:42<00:37,  1.91it/s]\u001b[A\n",
      " 98%|█████████▊| 3067/3138 [36:43<00:42,  1.66it/s]\u001b[A\n",
      " 98%|█████████▊| 3069/3138 [36:44<00:37,  1.82it/s]\u001b[A\n",
      " 98%|█████████▊| 3071/3138 [36:45<00:31,  2.15it/s]\u001b[A\n",
      " 98%|█████████▊| 3072/3138 [36:45<00:30,  2.14it/s]\u001b[A\n",
      " 98%|█████████▊| 3073/3138 [36:46<00:38,  1.70it/s]\u001b[A\n",
      " 98%|█████████▊| 3074/3138 [36:46<00:33,  1.93it/s]\u001b[A\n",
      " 98%|█████████▊| 3075/3138 [36:47<00:33,  1.89it/s]\u001b[A\n",
      " 98%|█████████▊| 3076/3138 [36:48<00:38,  1.59it/s]\u001b[A\n",
      " 98%|█████████▊| 3078/3138 [36:48<00:30,  1.97it/s]\u001b[A\n",
      " 98%|█████████▊| 3079/3138 [36:49<00:29,  1.99it/s]\u001b[A\n",
      " 98%|█████████▊| 3080/3138 [36:50<00:35,  1.65it/s]\u001b[A\n",
      " 98%|█████████▊| 3081/3138 [36:50<00:32,  1.78it/s]\u001b[A\n",
      " 98%|█████████▊| 3082/3138 [36:50<00:30,  1.85it/s]\u001b[A\n",
      " 98%|█████████▊| 3083/3138 [36:51<00:28,  1.91it/s]\u001b[A\n",
      " 98%|█████████▊| 3084/3138 [36:51<00:27,  1.97it/s]\u001b[A\n",
      " 98%|█████████▊| 3085/3138 [36:52<00:26,  2.02it/s]\u001b[A\n",
      " 98%|█████████▊| 3086/3138 [36:53<00:31,  1.67it/s]\u001b[A\n",
      " 98%|█████████▊| 3087/3138 [36:53<00:28,  1.78it/s]\u001b[A\n",
      " 98%|█████████▊| 3088/3138 [36:54<00:32,  1.54it/s]\u001b[A\n",
      " 98%|█████████▊| 3089/3138 [36:55<00:34,  1.42it/s]\u001b[A\n",
      " 98%|█████████▊| 3090/3138 [36:55<00:30,  1.58it/s]\u001b[A\n",
      " 99%|█████████▊| 3091/3138 [36:56<00:32,  1.43it/s]\u001b[A\n",
      " 99%|█████████▊| 3092/3138 [36:57<00:38,  1.19it/s]\u001b[A\n",
      " 99%|█████████▊| 3093/3138 [36:58<00:32,  1.39it/s]\u001b[A\n",
      " 99%|█████████▊| 3094/3138 [36:59<00:33,  1.32it/s]\u001b[A\n",
      " 99%|█████████▊| 3095/3138 [36:59<00:29,  1.48it/s]\u001b[A\n",
      " 99%|█████████▊| 3096/3138 [37:00<00:30,  1.38it/s]\u001b[A\n",
      " 99%|█████████▊| 3097/3138 [37:01<00:31,  1.31it/s]\u001b[A\n",
      " 99%|█████████▊| 3098/3138 [37:03<00:49,  1.24s/it]\u001b[A\n",
      " 99%|█████████▉| 3099/3138 [37:04<00:43,  1.12s/it]\u001b[A\n",
      " 99%|█████████▉| 3100/3138 [37:04<00:34,  1.11it/s]\u001b[A\n",
      " 99%|█████████▉| 3101/3138 [37:05<00:32,  1.13it/s]\u001b[A\n",
      " 99%|█████████▉| 3102/3138 [37:06<00:31,  1.14it/s]\u001b[A\n",
      " 99%|█████████▉| 3103/3138 [37:07<00:26,  1.33it/s]\u001b[A\n",
      " 99%|█████████▉| 3104/3138 [37:08<00:27,  1.23it/s]\u001b[A\n",
      " 99%|█████████▉| 3105/3138 [37:08<00:23,  1.41it/s]\u001b[A\n",
      " 99%|█████████▉| 3106/3138 [37:09<00:23,  1.35it/s]\u001b[A\n",
      " 99%|█████████▉| 3107/3138 [37:09<00:20,  1.48it/s]\u001b[A\n",
      " 99%|█████████▉| 3108/3138 [37:10<00:18,  1.64it/s]\u001b[A\n",
      " 99%|█████████▉| 3109/3138 [37:11<00:19,  1.47it/s]\u001b[A\n",
      " 99%|█████████▉| 3110/3138 [37:12<00:20,  1.37it/s]\u001b[A\n",
      " 99%|█████████▉| 3111/3138 [37:12<00:20,  1.30it/s]\u001b[A\n",
      " 99%|█████████▉| 3112/3138 [37:13<00:18,  1.44it/s]\u001b[A\n",
      " 99%|█████████▉| 3113/3138 [37:14<00:18,  1.35it/s]\u001b[A\n",
      " 99%|█████████▉| 3114/3138 [37:15<00:18,  1.30it/s]\u001b[A\n",
      " 99%|█████████▉| 3115/3138 [37:15<00:17,  1.29it/s]\u001b[A\n",
      " 99%|█████████▉| 3116/3138 [37:16<00:14,  1.47it/s]\u001b[A\n",
      " 99%|█████████▉| 3117/3138 [37:17<00:15,  1.37it/s]\u001b[A\n",
      " 99%|█████████▉| 3118/3138 [37:17<00:13,  1.54it/s]\u001b[A\n",
      " 99%|█████████▉| 3119/3138 [37:18<00:11,  1.67it/s]\u001b[A\n",
      " 99%|█████████▉| 3120/3138 [37:18<00:11,  1.53it/s]\u001b[A\n",
      " 99%|█████████▉| 3121/3138 [37:19<00:12,  1.40it/s]\u001b[A\n",
      " 99%|█████████▉| 3122/3138 [37:20<00:10,  1.57it/s]\u001b[A\n",
      "100%|█████████▉| 3123/3138 [37:20<00:08,  1.67it/s]\u001b[A\n",
      "100%|█████████▉| 3124/3138 [37:21<00:07,  1.83it/s]\u001b[A\n",
      "100%|█████████▉| 3125/3138 [37:22<00:08,  1.57it/s]\u001b[A\n",
      "100%|█████████▉| 3126/3138 [37:22<00:06,  1.81it/s]\u001b[A\n",
      "100%|█████████▉| 3127/3138 [37:23<00:07,  1.55it/s]\u001b[A\n",
      "100%|█████████▉| 3128/3138 [37:24<00:07,  1.34it/s]\u001b[A\n",
      "100%|█████████▉| 3129/3138 [37:24<00:05,  1.51it/s]\u001b[A\n",
      "100%|█████████▉| 3130/3138 [37:25<00:04,  1.65it/s]\u001b[A\n",
      "100%|█████████▉| 3131/3138 [37:25<00:04,  1.73it/s]\u001b[A\n",
      "100%|█████████▉| 3132/3138 [37:26<00:03,  1.77it/s]\u001b[A\n",
      "100%|█████████▉| 3133/3138 [37:26<00:02,  1.81it/s]\u001b[A\n",
      "100%|█████████▉| 3134/3138 [37:27<00:02,  1.56it/s]\u001b[A\n",
      "100%|█████████▉| 3135/3138 [37:28<00:02,  1.40it/s]\u001b[A\n",
      "100%|█████████▉| 3136/3138 [37:28<00:01,  1.53it/s]\u001b[A\n",
      "100%|█████████▉| 3137/3138 [37:29<00:00,  1.65it/s]\u001b[A\n",
      "100%|██████████| 3138/3138 [37:29<00:00,  1.78it/s]\u001b[A"
     ]
    },
    {
     "name": "stdout",
     "output_type": "stream",
     "text": [
      "2250.1082696914673\n"
     ]
    }
   ],
   "source": [
    "start = time.time()\n",
    "\n",
    "listOfTuples = []\n",
    "\n",
    "for record_Name_1 in tqdm( All_Nodes_List ) :\n",
    "    for record_Name_2 in All_Nodes_List:\n",
    "        record_1_Hashes_UnqNP = MG_dictOf_NodeInfo[record_Name_1][\"Kmer_Hashes\"]\n",
    "        record_2_Hashes_UnqNP = MG_dictOf_NodeInfo[record_Name_2][\"Kmer_Hashes\"]\n",
    "\n",
    "        if (record_1_Hashes_UnqNP.shape[0] != 0) & (record_2_Hashes_UnqNP.shape[0] != 0):\n",
    "            \n",
    "            #record_1and2_JC = np.nan\n",
    "            record_1and2_JC = jaccard_containment_FromUnqHashes_WiNP(record_1_Hashes_UnqNP, record_2_Hashes_UnqNP)\n",
    "            record_1and2_JS = jaccard_similarity_FromUnqHashes_WiNP(record_1_Hashes_UnqNP, record_2_Hashes_UnqNP)\n",
    "            \n",
    "            \n",
    "            record_1_SeqLen = MG_dictOf_NodeInfo[record_Name_1][\"Len\"]\n",
    "            record_2_SeqLen = MG_dictOf_NodeInfo[record_Name_2][\"Len\"]\n",
    "\n",
    "            #print(f\"Jaccard Sim between Record 1 and 2: {record_1and2_JS}\")\n",
    "            \n",
    "            i_Tuple = (record_Name_1, record_Name_2, \n",
    "                       record_1_SeqLen, record_2_SeqLen,\n",
    "                       record_1and2_JS, record_1and2_JC)\n",
    "            \n",
    "            listOfTuples.append(i_Tuple)\n",
    "\n",
    "            \n",
    "end = time.time()\n",
    "print(end - start)\n",
    "\n",
    "AvA_Nodes_DF = pd.DataFrame(listOfTuples)\n",
    "AvA_Nodes_DF.columns = [\"RecordID_1\", \"RecordID_2\", \"Record1_Len\", \"Record2_Len\", \"JaccardSim\", \"JaccardContain\"]\n",
    "\n",
    "#AvA_Nodes_DF = AvA_Nodes_DF.query(\"RecordID_1 != RecordID_2\")\n"
   ]
  },
  {
   "cell_type": "code",
   "execution_count": null,
   "id": "3818c474-17e0-4316-8578-0fd28c7bbd12",
   "metadata": {},
   "outputs": [],
   "source": []
  },
  {
   "cell_type": "code",
   "execution_count": 160,
   "id": "ad80e145-caec-472f-963d-40d34e38ed88",
   "metadata": {},
   "outputs": [
    {
     "data": {
      "text/plain": [
       "(125615, 6)"
      ]
     },
     "execution_count": 160,
     "metadata": {},
     "output_type": "execute_result"
    }
   ],
   "source": [
    "AvA_Nodes_NoZeroJS_DF = AvA_Nodes_DF.query(\"JaccardSim != 0\")   \n",
    "AvA_Nodes_NoZeroJS_DF.shape\n"
   ]
  },
  {
   "cell_type": "code",
   "execution_count": 161,
   "id": "3856321e",
   "metadata": {},
   "outputs": [
    {
     "data": {
      "text/plain": [
       "(123104, 6)"
      ]
     },
     "execution_count": 161,
     "metadata": {},
     "output_type": "execute_result"
    }
   ],
   "source": [
    "AvA_Nodes_Trim_DF = AvA_Nodes_DF.query(\"RecordID_1 != RecordID_2\").query(\"JaccardSim != 0\")   \n",
    "AvA_Nodes_Trim_DF.shape\n"
   ]
  },
  {
   "cell_type": "markdown",
   "id": "d83ed4c6",
   "metadata": {},
   "source": [
    "## Look at All vs All Nodes Stats"
   ]
  },
  {
   "cell_type": "code",
   "execution_count": 162,
   "id": "eb3e86ee-6cee-47a3-9c63-4ab044a4e8da",
   "metadata": {},
   "outputs": [
    {
     "data": {
      "text/html": [
       "<div>\n",
       "<style scoped>\n",
       "    .dataframe tbody tr th:only-of-type {\n",
       "        vertical-align: middle;\n",
       "    }\n",
       "\n",
       "    .dataframe tbody tr th {\n",
       "        vertical-align: top;\n",
       "    }\n",
       "\n",
       "    .dataframe thead th {\n",
       "        text-align: right;\n",
       "    }\n",
       "</style>\n",
       "<table border=\"1\" class=\"dataframe\">\n",
       "  <thead>\n",
       "    <tr style=\"text-align: right;\">\n",
       "      <th></th>\n",
       "      <th>RecordID_1</th>\n",
       "      <th>RecordID_2</th>\n",
       "      <th>Record1_Len</th>\n",
       "      <th>Record2_Len</th>\n",
       "      <th>JaccardSim</th>\n",
       "      <th>JaccardContain</th>\n",
       "    </tr>\n",
       "  </thead>\n",
       "  <tbody>\n",
       "    <tr>\n",
       "      <th>0</th>\n",
       "      <td>s1</td>\n",
       "      <td>s1</td>\n",
       "      <td>1533</td>\n",
       "      <td>1533</td>\n",
       "      <td>1.0</td>\n",
       "      <td>1.0</td>\n",
       "    </tr>\n",
       "    <tr>\n",
       "      <th>1</th>\n",
       "      <td>s1</td>\n",
       "      <td>s2</td>\n",
       "      <td>1533</td>\n",
       "      <td>58</td>\n",
       "      <td>0.0</td>\n",
       "      <td>0.0</td>\n",
       "    </tr>\n",
       "    <tr>\n",
       "      <th>2</th>\n",
       "      <td>s1</td>\n",
       "      <td>s3</td>\n",
       "      <td>1533</td>\n",
       "      <td>56</td>\n",
       "      <td>0.0</td>\n",
       "      <td>0.0</td>\n",
       "    </tr>\n",
       "  </tbody>\n",
       "</table>\n",
       "</div>"
      ],
      "text/plain": [
       "  RecordID_1 RecordID_2  Record1_Len  Record2_Len  JaccardSim  JaccardContain\n",
       "0         s1         s1         1533         1533         1.0             1.0\n",
       "1         s1         s2         1533           58         0.0             0.0\n",
       "2         s1         s3         1533           56         0.0             0.0"
      ]
     },
     "execution_count": 162,
     "metadata": {},
     "output_type": "execute_result"
    }
   ],
   "source": [
    "AvA_Nodes_DF.head(3)"
   ]
  },
  {
   "cell_type": "code",
   "execution_count": 163,
   "id": "25e6556c-9173-4a03-8128-747d38f4ee83",
   "metadata": {},
   "outputs": [
    {
     "data": {
      "text/plain": [
       "(6305121, 6)"
      ]
     },
     "execution_count": 163,
     "metadata": {},
     "output_type": "execute_result"
    }
   ],
   "source": [
    "AvA_Nodes_DF.shape"
   ]
  },
  {
   "cell_type": "code",
   "execution_count": 164,
   "id": "00da1189-2266-48b9-b85b-7657d064c98f",
   "metadata": {},
   "outputs": [
    {
     "data": {
      "text/plain": [
       "(6302610, 6)"
      ]
     },
     "execution_count": 164,
     "metadata": {},
     "output_type": "execute_result"
    }
   ],
   "source": [
    "AvA_Nodes_DF.query(\"RecordID_1 != RecordID_2\").shape"
   ]
  },
  {
   "cell_type": "code",
   "execution_count": 165,
   "id": "872587b9",
   "metadata": {},
   "outputs": [
    {
     "data": {
      "text/plain": [
       "(115801, 6)"
      ]
     },
     "execution_count": 165,
     "metadata": {},
     "output_type": "execute_result"
    }
   ],
   "source": [
    "AvA_Nodes_DF.query(\"JaccardSim >= 0.05\").shape"
   ]
  },
  {
   "cell_type": "code",
   "execution_count": 166,
   "id": "2b206fa6",
   "metadata": {},
   "outputs": [
    {
     "data": {
      "text/plain": [
       "2511"
      ]
     },
     "execution_count": 166,
     "metadata": {},
     "output_type": "execute_result"
    }
   ],
   "source": [
    "AvA_Nodes_DF.query(\"JaccardSim >= 0.05\")[\"RecordID_1\"].nunique()"
   ]
  },
  {
   "cell_type": "code",
   "execution_count": 167,
   "id": "d1172f1c",
   "metadata": {},
   "outputs": [
    {
     "data": {
      "text/plain": [
       "2511"
      ]
     },
     "execution_count": 167,
     "metadata": {},
     "output_type": "execute_result"
    }
   ],
   "source": [
    "AvA_Nodes_DF.query(\"JaccardSim >= 0.5\")[\"RecordID_1\"].nunique()"
   ]
  },
  {
   "cell_type": "code",
   "execution_count": 168,
   "id": "02a389e0",
   "metadata": {},
   "outputs": [
    {
     "data": {
      "text/plain": [
       "2511"
      ]
     },
     "execution_count": 168,
     "metadata": {},
     "output_type": "execute_result"
    }
   ],
   "source": [
    "AvA_Nodes_DF.query(\"JaccardSim >= 0.8\")[\"RecordID_1\"].nunique()"
   ]
  },
  {
   "cell_type": "code",
   "execution_count": 169,
   "id": "513cfda5",
   "metadata": {},
   "outputs": [
    {
     "data": {
      "text/plain": [
       "2511"
      ]
     },
     "execution_count": 169,
     "metadata": {},
     "output_type": "execute_result"
    }
   ],
   "source": [
    "AvA_Nodes_DF.query(\"JaccardSim >= 1\")[\"RecordID_1\"].nunique()"
   ]
  },
  {
   "cell_type": "markdown",
   "id": "cb1b1130",
   "metadata": {},
   "source": [
    "## Output All vs All Node k-mer comparison to TSV"
   ]
  },
  {
   "cell_type": "code",
   "execution_count": 170,
   "id": "5ae20157",
   "metadata": {},
   "outputs": [
    {
     "name": "stdout",
     "output_type": "stream",
     "text": [
      "mkdir: cannot create directory ‘../../Data/MtbPangenomeAnalysis_SetV3’: File exists\n"
     ]
    }
   ],
   "source": [
    "PangenomeAnalysis_Dir = \"../../Data/MtbPangenomeAnalysis_SetV3\"\n",
    "\n",
    "!mkdir $PangenomeAnalysis_Dir\n",
    "\n",
    "MG_AvA_Node_KmerAnalysis_TSV_GZ = f\"{PangenomeAnalysis_Dir}/Minigraph.NodeAnalysis.151CI.AllVsAll.KmerAnalysis.V1.tsv.gz\"     \n",
    "\n",
    "AvA_Nodes_Trim_DF.to_csv(MG_AvA_Node_KmerAnalysis_TSV_GZ, sep = \"\\t\", index = False)\n"
   ]
  },
  {
   "cell_type": "code",
   "execution_count": 171,
   "id": "f8c52f2e",
   "metadata": {},
   "outputs": [
    {
     "name": "stdout",
     "output_type": "stream",
     "text": [
      "Minigraph.NodeAnalysis.151CI.AllVsAll.KmerAnalysis.V1.tsv.gz\n",
      "Minigraph.NodeAnalysis.151CI.KmerAnalysis.VsAllOtherNodes.V4.tsv\n"
     ]
    }
   ],
   "source": [
    "!ls -1 $PangenomeAnalysis_Dir"
   ]
  },
  {
   "cell_type": "code",
   "execution_count": null,
   "id": "9b599842-9540-410a-a8bc-d4252c8c596f",
   "metadata": {},
   "outputs": [],
   "source": [
    "#!rm $MG_AvA_Node_KmerAnalysis_TSV"
   ]
  },
  {
   "cell_type": "code",
   "execution_count": 172,
   "id": "9823d43e",
   "metadata": {},
   "outputs": [
    {
     "name": "stdout",
     "output_type": "stream",
     "text": [
      "gzip: compressed data not read from a terminal. Use -f to force decompression.\n",
      "For help, type: gzip -h\n",
      "0\n"
     ]
    }
   ],
   "source": [
    "!zcat $MG_AvA_Node_KmerAnalysis_TSV | wc -l"
   ]
  },
  {
   "cell_type": "markdown",
   "id": "8d4a7464",
   "metadata": {},
   "source": [
    "### Parse in processed All vs All Kmer analysis"
   ]
  },
  {
   "cell_type": "code",
   "execution_count": 179,
   "id": "4656103f",
   "metadata": {},
   "outputs": [],
   "source": [
    "PangenomeAnalysis_Dir = \"../../Data/MtbPangenomeAnalysis_SetV3\"\n",
    "\n",
    "MG_AvA_Node_KmerAnalysis_TSV_GZ = f\"{PangenomeAnalysis_Dir}/Minigraph.NodeAnalysis.151CI.AllVsAll.KmerAnalysis.V1.tsv.gz\"     \n"
   ]
  },
  {
   "cell_type": "code",
   "execution_count": 180,
   "id": "e24a5045-c4e2-4a11-86bc-33ad60ef1e6b",
   "metadata": {},
   "outputs": [
    {
     "name": "stdout",
     "output_type": "stream",
     "text": [
      "-rw-r--r-- 1 mm774 farhat 1.2M Nov 22 15:20 ../../Data/MtbPangenomeAnalysis_SetV3/Minigraph.NodeAnalysis.151CI.AllVsAll.KmerAnalysis.V1.tsv.gz\n"
     ]
    }
   ],
   "source": [
    "!ls -lah $MG_AvA_Node_KmerAnalysis_TSV_GZ"
   ]
  },
  {
   "cell_type": "code",
   "execution_count": 181,
   "id": "40daca79-1db4-4875-869e-f951737f80d1",
   "metadata": {},
   "outputs": [],
   "source": [
    "#!ls -lah $MG_AvA_Node_KmerAnalysis_TSV"
   ]
  },
  {
   "cell_type": "code",
   "execution_count": 182,
   "id": "0d1c81a9",
   "metadata": {},
   "outputs": [
    {
     "data": {
      "text/plain": [
       "(123104, 6)"
      ]
     },
     "execution_count": 182,
     "metadata": {},
     "output_type": "execute_result"
    }
   ],
   "source": [
    "AvA_Nodes_Trim_DF = pd.read_csv(MG_AvA_Node_KmerAnalysis_TSV_GZ, sep = \"\\t\" )\n",
    "AvA_Nodes_Trim_DF.shape"
   ]
  },
  {
   "cell_type": "code",
   "execution_count": 183,
   "id": "cb4c3ce4",
   "metadata": {},
   "outputs": [
    {
     "data": {
      "text/html": [
       "<div>\n",
       "<style scoped>\n",
       "    .dataframe tbody tr th:only-of-type {\n",
       "        vertical-align: middle;\n",
       "    }\n",
       "\n",
       "    .dataframe tbody tr th {\n",
       "        vertical-align: top;\n",
       "    }\n",
       "\n",
       "    .dataframe thead th {\n",
       "        text-align: right;\n",
       "    }\n",
       "</style>\n",
       "<table border=\"1\" class=\"dataframe\">\n",
       "  <thead>\n",
       "    <tr style=\"text-align: right;\">\n",
       "      <th></th>\n",
       "      <th>RecordID_1</th>\n",
       "      <th>RecordID_2</th>\n",
       "      <th>Record1_Len</th>\n",
       "      <th>Record2_Len</th>\n",
       "      <th>JaccardSim</th>\n",
       "      <th>JaccardContain</th>\n",
       "    </tr>\n",
       "  </thead>\n",
       "  <tbody>\n",
       "    <tr>\n",
       "      <th>0</th>\n",
       "      <td>s3</td>\n",
       "      <td>s2959</td>\n",
       "      <td>56</td>\n",
       "      <td>61</td>\n",
       "      <td>0.781250</td>\n",
       "      <td>0.961538</td>\n",
       "    </tr>\n",
       "    <tr>\n",
       "      <th>1</th>\n",
       "      <td>s7</td>\n",
       "      <td>s2247</td>\n",
       "      <td>1876</td>\n",
       "      <td>42</td>\n",
       "      <td>0.006501</td>\n",
       "      <td>0.006501</td>\n",
       "    </tr>\n",
       "    <tr>\n",
       "      <th>2</th>\n",
       "      <td>s8</td>\n",
       "      <td>s2823</td>\n",
       "      <td>542</td>\n",
       "      <td>87</td>\n",
       "      <td>0.096339</td>\n",
       "      <td>0.097656</td>\n",
       "    </tr>\n",
       "    <tr>\n",
       "      <th>3</th>\n",
       "      <td>s13</td>\n",
       "      <td>s2037</td>\n",
       "      <td>24063</td>\n",
       "      <td>49</td>\n",
       "      <td>0.000208</td>\n",
       "      <td>0.000208</td>\n",
       "    </tr>\n",
       "    <tr>\n",
       "      <th>4</th>\n",
       "      <td>s13</td>\n",
       "      <td>s2039</td>\n",
       "      <td>24063</td>\n",
       "      <td>114</td>\n",
       "      <td>0.000208</td>\n",
       "      <td>0.000208</td>\n",
       "    </tr>\n",
       "  </tbody>\n",
       "</table>\n",
       "</div>"
      ],
      "text/plain": [
       "  RecordID_1 RecordID_2  Record1_Len  Record2_Len  JaccardSim  JaccardContain\n",
       "0         s3      s2959           56           61    0.781250        0.961538\n",
       "1         s7      s2247         1876           42    0.006501        0.006501\n",
       "2         s8      s2823          542           87    0.096339        0.097656\n",
       "3        s13      s2037        24063           49    0.000208        0.000208\n",
       "4        s13      s2039        24063          114    0.000208        0.000208"
      ]
     },
     "execution_count": 183,
     "metadata": {},
     "output_type": "execute_result"
    }
   ],
   "source": [
    "AvA_Nodes_Trim_DF.head()"
   ]
  },
  {
   "cell_type": "code",
   "execution_count": 184,
   "id": "72286dac",
   "metadata": {},
   "outputs": [
    {
     "name": "stdout",
     "output_type": "stream",
     "text": [
      "total 1.6M\n",
      "drwxr-sr-x  2 mm774 farhat  160 Nov 22 15:20 .\n",
      "drwxr-sr-x 56 mm774 farhat 2.9K Nov 22 14:06 ..\n",
      "-rw-r--r--  1 mm774 farhat 1.2M Nov 22 15:20 Minigraph.NodeAnalysis.151CI.AllVsAll.KmerAnalysis.V1.tsv.gz\n",
      "-rw-r--r--  1 mm774 farhat 168K Nov 22 14:43 Minigraph.NodeAnalysis.151CI.KmerAnalysis.VsAllOtherNodes.V4.tsv\n"
     ]
    }
   ],
   "source": [
    "!ls -lah $PangenomeAnalysis_Dir"
   ]
  },
  {
   "cell_type": "code",
   "execution_count": null,
   "id": "7cb32e21",
   "metadata": {},
   "outputs": [],
   "source": []
  },
  {
   "cell_type": "code",
   "execution_count": null,
   "id": "3047d575",
   "metadata": {},
   "outputs": [],
   "source": []
  },
  {
   "cell_type": "markdown",
   "id": "fc88b60b",
   "metadata": {},
   "source": [
    "# 2) Compare k-mer content of SV nodes to known references (Rv, all other nodes, etc)"
   ]
  },
  {
   "cell_type": "code",
   "execution_count": 178,
   "id": "b1a4dc96",
   "metadata": {
    "scrolled": true
   },
   "outputs": [
    {
     "name": "stderr",
     "output_type": "stream",
     "text": [
      "\n",
      "  0%|          | 0/3138 [00:00<?, ?it/s]\u001b[A\n",
      "  0%|          | 1/3138 [00:00<41:56,  1.25it/s]\u001b[A\n",
      "  0%|          | 2/3138 [00:01<42:13,  1.24it/s]\u001b[A\n",
      "  0%|          | 3/3138 [00:02<42:03,  1.24it/s]\u001b[A\n",
      "  0%|          | 5/3138 [00:03<35:48,  1.46it/s]\u001b[A\n",
      "  0%|          | 6/3138 [00:04<37:44,  1.38it/s]\u001b[A\n",
      "  0%|          | 7/3138 [00:04<38:48,  1.34it/s]\u001b[A\n",
      "  0%|          | 8/3138 [00:05<39:34,  1.32it/s]\u001b[A\n",
      "  0%|          | 9/3138 [00:06<39:57,  1.31it/s]\u001b[A\n",
      "  0%|          | 10/3138 [00:07<40:05,  1.30it/s]\u001b[A\n",
      "  0%|          | 13/3138 [00:08<32:21,  1.61it/s]\u001b[A\n",
      "  0%|          | 14/3138 [00:08<34:50,  1.49it/s]\u001b[A\n",
      "  0%|          | 15/3138 [00:09<36:35,  1.42it/s]\u001b[A\n",
      "  1%|          | 16/3138 [00:10<37:55,  1.37it/s]\u001b[A\n",
      "  1%|          | 17/3138 [00:11<38:54,  1.34it/s]\u001b[A\n",
      "  1%|          | 18/3138 [00:11<39:57,  1.30it/s]\u001b[A\n",
      "  1%|          | 19/3138 [00:12<40:23,  1.29it/s]\u001b[A\n",
      "  1%|          | 20/3138 [00:13<40:44,  1.28it/s]\u001b[A\n",
      "  1%|          | 21/3138 [00:14<40:40,  1.28it/s]\u001b[A\n",
      "  1%|          | 22/3138 [00:15<40:52,  1.27it/s]\u001b[A\n",
      "  1%|          | 23/3138 [00:15<41:08,  1.26it/s]\u001b[A\n",
      "  1%|          | 24/3138 [00:16<41:09,  1.26it/s]\u001b[A\n",
      "  1%|          | 25/3138 [00:17<40:57,  1.27it/s]\u001b[A\n",
      "  1%|          | 26/3138 [00:18<41:14,  1.26it/s]\u001b[A\n",
      "  1%|          | 27/3138 [00:19<41:19,  1.25it/s]\u001b[A\n",
      "  1%|          | 28/3138 [00:19<41:52,  1.24it/s]\u001b[A\n",
      "  1%|          | 29/3138 [00:20<41:49,  1.24it/s]\u001b[A\n",
      "  1%|          | 30/3138 [00:21<41:21,  1.25it/s]\u001b[A\n",
      "  1%|          | 31/3138 [00:22<41:33,  1.25it/s]\u001b[A\n",
      "  1%|          | 32/3138 [00:23<41:34,  1.25it/s]\u001b[A\n",
      "  1%|          | 33/3138 [00:23<41:19,  1.25it/s]\u001b[A\n",
      "  1%|          | 34/3138 [00:24<41:21,  1.25it/s]\u001b[A\n",
      "  1%|          | 35/3138 [00:25<41:29,  1.25it/s]\u001b[A\n",
      "  1%|          | 36/3138 [00:26<41:31,  1.25it/s]\u001b[A\n",
      "  1%|          | 37/3138 [00:27<41:31,  1.24it/s]\u001b[A\n",
      "  1%|          | 38/3138 [00:27<41:31,  1.24it/s]\u001b[A\n",
      "  1%|▏         | 40/3138 [00:28<35:18,  1.46it/s]\u001b[A\n",
      "  1%|▏         | 41/3138 [00:29<36:45,  1.40it/s]\u001b[A\n",
      "  1%|▏         | 42/3138 [00:30<37:53,  1.36it/s]\u001b[A\n",
      "  1%|▏         | 43/3138 [00:31<39:10,  1.32it/s]\u001b[A\n",
      "  1%|▏         | 45/3138 [00:32<33:47,  1.53it/s]\u001b[A\n",
      "  1%|▏         | 46/3138 [00:32<35:35,  1.45it/s]\u001b[A\n",
      "  1%|▏         | 47/3138 [00:33<37:07,  1.39it/s]\u001b[A\n",
      "  2%|▏         | 48/3138 [00:34<38:24,  1.34it/s]\u001b[A\n",
      "  2%|▏         | 49/3138 [00:35<39:22,  1.31it/s]\u001b[A\n",
      "  2%|▏         | 50/3138 [00:35<39:38,  1.30it/s]\u001b[A\n",
      "  2%|▏         | 51/3138 [00:36<40:05,  1.28it/s]\u001b[A\n",
      "  2%|▏         | 52/3138 [00:37<40:47,  1.26it/s]\u001b[A\n",
      "  2%|▏         | 53/3138 [00:38<40:46,  1.26it/s]\u001b[A\n",
      "  2%|▏         | 54/3138 [00:39<40:52,  1.26it/s]\u001b[A\n",
      "  2%|▏         | 55/3138 [00:39<40:37,  1.26it/s]\u001b[A\n",
      "  2%|▏         | 56/3138 [00:40<40:33,  1.27it/s]\u001b[A\n",
      "  2%|▏         | 57/3138 [00:41<41:17,  1.24it/s]\u001b[A\n",
      "  2%|▏         | 58/3138 [00:42<41:30,  1.24it/s]\u001b[A\n",
      "  2%|▏         | 59/3138 [00:43<41:12,  1.25it/s]\u001b[A\n",
      "  2%|▏         | 60/3138 [00:44<41:18,  1.24it/s]\u001b[A\n",
      "  2%|▏         | 61/3138 [00:44<41:10,  1.25it/s]\u001b[A\n",
      "  2%|▏         | 62/3138 [00:45<41:50,  1.23it/s]\u001b[A\n",
      "  2%|▏         | 63/3138 [00:46<41:34,  1.23it/s]\u001b[A\n",
      "  2%|▏         | 64/3138 [00:47<41:06,  1.25it/s]\u001b[A\n",
      "  2%|▏         | 65/3138 [00:48<41:08,  1.24it/s]\u001b[A\n",
      "  2%|▏         | 66/3138 [00:48<40:40,  1.26it/s]\u001b[A\n",
      "  2%|▏         | 67/3138 [00:49<40:27,  1.27it/s]\u001b[A\n",
      "  2%|▏         | 68/3138 [00:50<40:41,  1.26it/s]\u001b[A\n",
      "  2%|▏         | 69/3138 [00:51<41:00,  1.25it/s]\u001b[A\n",
      "  2%|▏         | 70/3138 [00:52<41:02,  1.25it/s]\u001b[A\n",
      "  2%|▏         | 71/3138 [00:52<41:30,  1.23it/s]\u001b[A\n",
      "  2%|▏         | 72/3138 [00:53<41:27,  1.23it/s]\u001b[A\n",
      "  2%|▏         | 73/3138 [00:54<41:19,  1.24it/s]\u001b[A\n",
      "  2%|▏         | 75/3138 [00:55<35:17,  1.45it/s]\u001b[A\n",
      "  2%|▏         | 76/3138 [00:56<37:42,  1.35it/s]\u001b[A\n",
      "  2%|▏         | 77/3138 [00:57<40:07,  1.27it/s]\u001b[A\n",
      "  2%|▏         | 78/3138 [00:57<40:32,  1.26it/s]\u001b[A\n",
      "  3%|▎         | 83/3138 [00:58<30:47,  1.65it/s]\u001b[A\n",
      "  3%|▎         | 84/3138 [00:59<33:27,  1.52it/s]\u001b[A\n",
      "  3%|▎         | 87/3138 [01:00<27:27,  1.85it/s]\u001b[A\n",
      "  3%|▎         | 88/3138 [01:01<31:13,  1.63it/s]\u001b[A\n",
      "  3%|▎         | 90/3138 [01:01<27:50,  1.82it/s]\u001b[A\n",
      "  3%|▎         | 91/3138 [01:02<32:04,  1.58it/s]\u001b[A\n",
      "  3%|▎         | 93/3138 [01:03<28:25,  1.79it/s]\u001b[A\n",
      "  3%|▎         | 94/3138 [01:04<32:28,  1.56it/s]\u001b[A\n",
      "  3%|▎         | 95/3138 [01:05<35:04,  1.45it/s]\u001b[A\n",
      "  3%|▎         | 97/3138 [01:05<30:34,  1.66it/s]\u001b[A\n",
      "  3%|▎         | 98/3138 [01:06<33:38,  1.51it/s]\u001b[A\n",
      "  3%|▎         | 99/3138 [01:07<35:49,  1.41it/s]\u001b[A\n",
      "  3%|▎         | 100/3138 [01:08<37:18,  1.36it/s]\u001b[A\n",
      "  3%|▎         | 101/3138 [01:09<38:02,  1.33it/s]\u001b[A\n",
      "  3%|▎         | 102/3138 [01:09<38:46,  1.31it/s]\u001b[A\n",
      "  3%|▎         | 103/3138 [01:10<39:31,  1.28it/s]\u001b[A\n",
      "  3%|▎         | 107/3138 [01:11<30:34,  1.65it/s]\u001b[A\n",
      "  3%|▎         | 108/3138 [01:12<33:49,  1.49it/s]\u001b[A\n",
      "  3%|▎         | 109/3138 [01:13<35:58,  1.40it/s]\u001b[A\n",
      "  4%|▎         | 110/3138 [01:13<36:54,  1.37it/s]\u001b[A\n",
      "  4%|▎         | 111/3138 [01:14<37:58,  1.33it/s]\u001b[A\n",
      "  4%|▎         | 113/3138 [01:15<32:41,  1.54it/s]\u001b[A\n",
      "  4%|▎         | 114/3138 [01:16<34:47,  1.45it/s]\u001b[A\n",
      "  4%|▎         | 115/3138 [01:17<36:33,  1.38it/s]\u001b[A\n",
      "  4%|▎         | 116/3138 [01:17<37:20,  1.35it/s]\u001b[A\n",
      "  4%|▎         | 117/3138 [01:18<38:13,  1.32it/s]\u001b[A\n",
      "  4%|▍         | 118/3138 [01:19<38:31,  1.31it/s]\u001b[A\n",
      "  4%|▍         | 119/3138 [01:20<39:07,  1.29it/s]\u001b[A\n",
      "  4%|▍         | 120/3138 [01:21<39:05,  1.29it/s]\u001b[A\n",
      "  4%|▍         | 121/3138 [01:21<39:05,  1.29it/s]\u001b[A\n",
      "  4%|▍         | 122/3138 [01:22<39:41,  1.27it/s]\u001b[A\n",
      "  4%|▍         | 123/3138 [01:23<40:00,  1.26it/s]\u001b[A\n",
      "  4%|▍         | 124/3138 [01:24<39:50,  1.26it/s]\u001b[A\n",
      "  4%|▍         | 125/3138 [01:25<40:14,  1.25it/s]\u001b[A\n",
      "  4%|▍         | 126/3138 [01:25<40:53,  1.23it/s]\u001b[A\n",
      "  4%|▍         | 127/3138 [01:26<40:29,  1.24it/s]\u001b[A\n",
      "  4%|▍         | 128/3138 [01:27<40:22,  1.24it/s]\u001b[A\n",
      "  4%|▍         | 129/3138 [01:28<40:10,  1.25it/s]\u001b[A\n",
      "  4%|▍         | 130/3138 [01:29<40:17,  1.24it/s]\u001b[A\n",
      "  4%|▍         | 131/3138 [01:29<40:24,  1.24it/s]\u001b[A\n",
      "  4%|▍         | 132/3138 [01:30<39:47,  1.26it/s]\u001b[A\n",
      "  4%|▍         | 133/3138 [01:31<39:59,  1.25it/s]\u001b[A\n",
      "  4%|▍         | 136/3138 [01:32<32:00,  1.56it/s]\u001b[A\n",
      "  4%|▍         | 137/3138 [01:33<34:12,  1.46it/s]\u001b[A\n",
      "  4%|▍         | 138/3138 [01:33<36:04,  1.39it/s]\u001b[A\n",
      "  4%|▍         | 139/3138 [01:34<37:16,  1.34it/s]\u001b[A\n",
      "  4%|▍         | 140/3138 [01:35<38:12,  1.31it/s]\u001b[A\n",
      "  4%|▍         | 141/3138 [01:36<38:59,  1.28it/s]\u001b[A\n",
      "  5%|▍         | 142/3138 [01:37<39:25,  1.27it/s]\u001b[A\n",
      "  5%|▍         | 143/3138 [01:37<39:21,  1.27it/s]\u001b[A\n",
      "  5%|▍         | 144/3138 [01:38<39:36,  1.26it/s]\u001b[A\n",
      "  5%|▍         | 145/3138 [01:39<39:31,  1.26it/s]\u001b[A\n",
      "  5%|▍         | 146/3138 [01:40<39:33,  1.26it/s]\u001b[A\n",
      "  5%|▍         | 147/3138 [01:41<39:16,  1.27it/s]\u001b[A\n",
      "  5%|▍         | 148/3138 [01:41<39:20,  1.27it/s]\u001b[A\n",
      "  5%|▍         | 149/3138 [01:42<39:34,  1.26it/s]\u001b[A\n",
      "  5%|▍         | 150/3138 [01:43<39:45,  1.25it/s]\u001b[A\n",
      "  5%|▍         | 151/3138 [01:44<39:32,  1.26it/s]\u001b[A\n",
      "  5%|▍         | 152/3138 [01:45<39:17,  1.27it/s]\u001b[A\n",
      "  5%|▍         | 153/3138 [01:45<39:45,  1.25it/s]\u001b[A\n",
      "  5%|▍         | 154/3138 [01:46<39:48,  1.25it/s]\u001b[A\n",
      "  5%|▍         | 155/3138 [01:47<39:24,  1.26it/s]\u001b[A\n",
      "  5%|▍         | 156/3138 [01:48<39:33,  1.26it/s]\u001b[A\n",
      "  5%|▌         | 157/3138 [01:49<39:20,  1.26it/s]\u001b[A\n",
      "  5%|▌         | 158/3138 [01:49<39:16,  1.26it/s]\u001b[A\n",
      "  5%|▌         | 159/3138 [01:50<39:28,  1.26it/s]\u001b[A\n",
      "  5%|▌         | 160/3138 [01:51<39:21,  1.26it/s]\u001b[A\n",
      "  5%|▌         | 161/3138 [01:52<39:25,  1.26it/s]\u001b[A\n",
      "  5%|▌         | 162/3138 [01:53<39:30,  1.26it/s]\u001b[A\n",
      "  5%|▌         | 163/3138 [01:53<40:31,  1.22it/s]\u001b[A\n",
      "  5%|▌         | 164/3138 [01:54<40:02,  1.24it/s]\u001b[A\n",
      "  5%|▌         | 165/3138 [01:55<39:48,  1.24it/s]\u001b[A\n",
      "  5%|▌         | 167/3138 [01:56<33:47,  1.47it/s]\u001b[A\n",
      "  5%|▌         | 169/3138 [01:57<29:24,  1.68it/s]\u001b[A\n",
      "  5%|▌         | 171/3138 [01:57<26:19,  1.88it/s]\u001b[A\n",
      "  5%|▌         | 172/3138 [01:58<30:14,  1.63it/s]\u001b[A\n",
      "  6%|▌         | 173/3138 [01:59<32:47,  1.51it/s]\u001b[A\n",
      "  6%|▌         | 174/3138 [02:00<34:55,  1.41it/s]\u001b[A\n",
      "  6%|▌         | 176/3138 [02:00<30:02,  1.64it/s]\u001b[A\n",
      "  6%|▌         | 178/3138 [02:01<26:36,  1.85it/s]\u001b[A\n",
      "  6%|▌         | 180/3138 [02:02<24:28,  2.01it/s]\u001b[A\n",
      "  6%|▌         | 181/3138 [02:03<28:53,  1.71it/s]\u001b[A\n",
      "  6%|▌         | 182/3138 [02:04<31:58,  1.54it/s]\u001b[A\n",
      "  6%|▌         | 184/3138 [02:04<28:16,  1.74it/s]\u001b[A"
     ]
    },
    {
     "ename": "KeyboardInterrupt",
     "evalue": "",
     "output_type": "error",
     "traceback": [
      "\u001b[0;31m---------------------------------------------------------------------------\u001b[0m",
      "\u001b[0;31mKeyboardInterrupt\u001b[0m                         Traceback (most recent call last)",
      "\u001b[0;32m<ipython-input-178-64fb23af192e>\u001b[0m in \u001b[0;36m<module>\u001b[0;34m\u001b[0m\n\u001b[1;32m     12\u001b[0m         \u001b[0mRecord_Hash_JC_WiIS6110\u001b[0m \u001b[0;34m=\u001b[0m \u001b[0mjaccard_containment_FromUnqHashes_WiNP\u001b[0m\u001b[0;34m(\u001b[0m \u001b[0mrecord_Hashes_UnqNP\u001b[0m\u001b[0;34m,\u001b[0m \u001b[0mIS6110_Ex1_Hashes_UnqNP\u001b[0m\u001b[0;34m)\u001b[0m\u001b[0;34m\u001b[0m\u001b[0;34m\u001b[0m\u001b[0m\n\u001b[1;32m     13\u001b[0m \u001b[0;34m\u001b[0m\u001b[0m\n\u001b[0;32m---> 14\u001b[0;31m         \u001b[0mallHashes_UnqNP_ExceptRecord\u001b[0m \u001b[0;34m=\u001b[0m \u001b[0mgetAllHash_ExceptTarget_NParray\u001b[0m\u001b[0;34m(\u001b[0m\u001b[0mMG_dictOf_NodeInfo\u001b[0m\u001b[0;34m,\u001b[0m \u001b[0mNodeID\u001b[0m\u001b[0;34m)\u001b[0m\u001b[0;34m\u001b[0m\u001b[0;34m\u001b[0m\u001b[0m\n\u001b[0m\u001b[1;32m     15\u001b[0m \u001b[0;34m\u001b[0m\u001b[0m\n\u001b[1;32m     16\u001b[0m         \u001b[0mRecord_Hash_JC_WiAllOtherNodes\u001b[0m \u001b[0;34m=\u001b[0m \u001b[0mjaccard_containment_FromUnqHashes_WiNP\u001b[0m\u001b[0;34m(\u001b[0m \u001b[0mrecord_Hashes_UnqNP\u001b[0m\u001b[0;34m,\u001b[0m \u001b[0mallHashes_UnqNP_ExceptRecord\u001b[0m\u001b[0;34m)\u001b[0m\u001b[0;34m\u001b[0m\u001b[0;34m\u001b[0m\u001b[0m\n",
      "\u001b[0;32m<ipython-input-116-af01656f4c2f>\u001b[0m in \u001b[0;36mgetAllHash_ExceptTarget_NParray\u001b[0;34m(dictOfHashes, targetToRemove)\u001b[0m\n\u001b[1;32m     10\u001b[0m             \u001b[0mall_Hashes_ExceptTarget_List\u001b[0m\u001b[0;34m.\u001b[0m\u001b[0mappend\u001b[0m\u001b[0;34m(\u001b[0m\u001b[0mi_Hashes\u001b[0m\u001b[0;34m)\u001b[0m\u001b[0;34m\u001b[0m\u001b[0;34m\u001b[0m\u001b[0m\n\u001b[1;32m     11\u001b[0m \u001b[0;34m\u001b[0m\u001b[0m\n\u001b[0;32m---> 12\u001b[0;31m     \u001b[0mall_Hashes_ExceptTarget\u001b[0m \u001b[0;34m=\u001b[0m \u001b[0mnp\u001b[0m\u001b[0;34m.\u001b[0m\u001b[0munique\u001b[0m\u001b[0;34m(\u001b[0m\u001b[0mnp\u001b[0m\u001b[0;34m.\u001b[0m\u001b[0mconcatenate\u001b[0m\u001b[0;34m(\u001b[0m\u001b[0mall_Hashes_ExceptTarget_List\u001b[0m\u001b[0;34m)\u001b[0m\u001b[0;34m)\u001b[0m\u001b[0;34m\u001b[0m\u001b[0;34m\u001b[0m\u001b[0m\n\u001b[0m\u001b[1;32m     13\u001b[0m \u001b[0;34m\u001b[0m\u001b[0m\n\u001b[1;32m     14\u001b[0m     \u001b[0;32mreturn\u001b[0m \u001b[0mall_Hashes_ExceptTarget\u001b[0m\u001b[0;34m\u001b[0m\u001b[0;34m\u001b[0m\u001b[0m\n",
      "\u001b[0;32m<__array_function__ internals>\u001b[0m in \u001b[0;36munique\u001b[0;34m(*args, **kwargs)\u001b[0m\n",
      "\u001b[0;32m~/conda3/envs/py37_S/lib/python3.7/site-packages/numpy/lib/arraysetops.py\u001b[0m in \u001b[0;36munique\u001b[0;34m(ar, return_index, return_inverse, return_counts, axis)\u001b[0m\n\u001b[1;32m    260\u001b[0m     \u001b[0mar\u001b[0m \u001b[0;34m=\u001b[0m \u001b[0mnp\u001b[0m\u001b[0;34m.\u001b[0m\u001b[0masanyarray\u001b[0m\u001b[0;34m(\u001b[0m\u001b[0mar\u001b[0m\u001b[0;34m)\u001b[0m\u001b[0;34m\u001b[0m\u001b[0;34m\u001b[0m\u001b[0m\n\u001b[1;32m    261\u001b[0m     \u001b[0;32mif\u001b[0m \u001b[0maxis\u001b[0m \u001b[0;32mis\u001b[0m \u001b[0;32mNone\u001b[0m\u001b[0;34m:\u001b[0m\u001b[0;34m\u001b[0m\u001b[0;34m\u001b[0m\u001b[0m\n\u001b[0;32m--> 262\u001b[0;31m         \u001b[0mret\u001b[0m \u001b[0;34m=\u001b[0m \u001b[0m_unique1d\u001b[0m\u001b[0;34m(\u001b[0m\u001b[0mar\u001b[0m\u001b[0;34m,\u001b[0m \u001b[0mreturn_index\u001b[0m\u001b[0;34m,\u001b[0m \u001b[0mreturn_inverse\u001b[0m\u001b[0;34m,\u001b[0m \u001b[0mreturn_counts\u001b[0m\u001b[0;34m)\u001b[0m\u001b[0;34m\u001b[0m\u001b[0;34m\u001b[0m\u001b[0m\n\u001b[0m\u001b[1;32m    263\u001b[0m         \u001b[0;32mreturn\u001b[0m \u001b[0m_unpack_tuple\u001b[0m\u001b[0;34m(\u001b[0m\u001b[0mret\u001b[0m\u001b[0;34m)\u001b[0m\u001b[0;34m\u001b[0m\u001b[0;34m\u001b[0m\u001b[0m\n\u001b[1;32m    264\u001b[0m \u001b[0;34m\u001b[0m\u001b[0m\n",
      "\u001b[0;32m~/conda3/envs/py37_S/lib/python3.7/site-packages/numpy/lib/arraysetops.py\u001b[0m in \u001b[0;36m_unique1d\u001b[0;34m(ar, return_index, return_inverse, return_counts)\u001b[0m\n\u001b[1;32m    313\u001b[0m     \u001b[0mFind\u001b[0m \u001b[0mthe\u001b[0m \u001b[0munique\u001b[0m \u001b[0melements\u001b[0m \u001b[0mof\u001b[0m \u001b[0man\u001b[0m \u001b[0marray\u001b[0m\u001b[0;34m,\u001b[0m \u001b[0mignoring\u001b[0m \u001b[0mshape\u001b[0m\u001b[0;34m.\u001b[0m\u001b[0;34m\u001b[0m\u001b[0;34m\u001b[0m\u001b[0m\n\u001b[1;32m    314\u001b[0m     \"\"\"\n\u001b[0;32m--> 315\u001b[0;31m     \u001b[0mar\u001b[0m \u001b[0;34m=\u001b[0m \u001b[0mnp\u001b[0m\u001b[0;34m.\u001b[0m\u001b[0masanyarray\u001b[0m\u001b[0;34m(\u001b[0m\u001b[0mar\u001b[0m\u001b[0;34m)\u001b[0m\u001b[0;34m.\u001b[0m\u001b[0mflatten\u001b[0m\u001b[0;34m(\u001b[0m\u001b[0;34m)\u001b[0m\u001b[0;34m\u001b[0m\u001b[0;34m\u001b[0m\u001b[0m\n\u001b[0m\u001b[1;32m    316\u001b[0m \u001b[0;34m\u001b[0m\u001b[0m\n\u001b[1;32m    317\u001b[0m     \u001b[0moptional_indices\u001b[0m \u001b[0;34m=\u001b[0m \u001b[0mreturn_index\u001b[0m \u001b[0;32mor\u001b[0m \u001b[0mreturn_inverse\u001b[0m\u001b[0;34m\u001b[0m\u001b[0;34m\u001b[0m\u001b[0m\n",
      "\u001b[0;31mKeyboardInterrupt\u001b[0m: "
     ]
    }
   ],
   "source": [
    "NodeAnalysis_listOfRows = []\n",
    "\n",
    "\n",
    "for NodeID, NodeInfo in tqdm( MG_dictOf_NodeInfo.items() ) :\n",
    "    \n",
    "    record_Hashes_UnqNP = NodeInfo[\"Kmer_Hashes\"] \n",
    "               \n",
    "    Len_Seq = NodeInfo[\"Len\"]\n",
    "        \n",
    "    if record_Hashes_UnqNP.shape[0] != 0:\n",
    "        Record_Hash_JC_WiH37Rv = jaccard_containment_FromUnqHashes_WiNP( record_Hashes_UnqNP, H37Rv_Hashes_UnqNP)\n",
    "        Record_Hash_JC_WiIS6110 = jaccard_containment_FromUnqHashes_WiNP( record_Hashes_UnqNP, IS6110_Ex1_Hashes_UnqNP)\n",
    "\n",
    "        allHashes_UnqNP_ExceptRecord = getAllHash_ExceptTarget_NParray(MG_dictOf_NodeInfo, NodeID)\n",
    "\n",
    "        Record_Hash_JC_WiAllOtherNodes = jaccard_containment_FromUnqHashes_WiNP( record_Hashes_UnqNP, allHashes_UnqNP_ExceptRecord)\n",
    "        Record_Hash_JC_WiRv_InsSeqAndPhages = jaccard_containment_FromUnqHashes_WiNP( record_Hashes_UnqNP, Rv_MGEs_Hashes_NP)\n",
    "\n",
    "    else:\n",
    "        Record_Hash_JC_WiH37Rv = 0\n",
    "        Record_Hash_JC_WiIS6110 = 0\n",
    "        Record_Hash_JC_WiAllOtherNodes = 0\n",
    "        Record_Hash_JC_WiRv_InsSeqAndPhages = 0 \n",
    "             \n",
    "        if Len_Seq >= 31:\n",
    "            print(f\"No kmers were produced for segment: {NodeID}\")\n",
    "                \n",
    "    Status_SVNode = (NodeID in SV_NodeIDs_All)\n",
    "    \n",
    "    i_Row = (NodeID,\n",
    "             Len_Seq,\n",
    "             Record_Hash_JC_WiH37Rv,\n",
    "             Record_Hash_JC_WiIS6110,\n",
    "             Record_Hash_JC_WiAllOtherNodes,\n",
    "             Record_Hash_JC_WiRv_InsSeqAndPhages,\n",
    "             Status_SVNode)\n",
    "    \n",
    "    NodeAnalysis_listOfRows.append(i_Row)\n",
    "\n",
    "    \n",
    "MG_NodeAnalysis_DF = pd.DataFrame(NodeAnalysis_listOfRows)\n",
    "\n",
    "MG_NodeAnalysis_DF.columns = [\"NodeID\",\n",
    "                              \"SeqLength\",\n",
    "                              \"Jaccard_Cont_WiRv\",\n",
    "                              \"Jaccard_Cont_WiIS6110\",\n",
    "                              \"Jaccard_Cont_WiAllOtherNodes\",\n",
    "                              \"Jaccard_Cont_WiRv_InsSeqAndPhages\",\n",
    "                              \"IsSVNode\"]\n"
   ]
  },
  {
   "cell_type": "markdown",
   "id": "82c0f8fb",
   "metadata": {},
   "source": [
    "### Add a \"BubbleID\" column to the node-level analysis"
   ]
  },
  {
   "cell_type": "code",
   "execution_count": 145,
   "id": "2090cdc0",
   "metadata": {},
   "outputs": [
    {
     "data": {
      "text/plain": [
       "(3138, 8)"
      ]
     },
     "execution_count": 145,
     "metadata": {},
     "output_type": "execute_result"
    }
   ],
   "source": [
    "MG_NodeAnalysis_DF[\"BubbleID\"] = MG_NodeAnalysis_DF[\"NodeID\"].map(NodeID_ToBubbleID_Dict)\n",
    "MG_NodeAnalysis_DF[\"BubbleID\"] = MG_NodeAnalysis_DF[\"BubbleID\"].fillna(\"None\")\n",
    "MG_NodeAnalysis_DF.shape"
   ]
  },
  {
   "cell_type": "code",
   "execution_count": 146,
   "id": "49351fa6",
   "metadata": {},
   "outputs": [
    {
     "data": {
      "text/html": [
       "<div>\n",
       "<style scoped>\n",
       "    .dataframe tbody tr th:only-of-type {\n",
       "        vertical-align: middle;\n",
       "    }\n",
       "\n",
       "    .dataframe tbody tr th {\n",
       "        vertical-align: top;\n",
       "    }\n",
       "\n",
       "    .dataframe thead th {\n",
       "        text-align: right;\n",
       "    }\n",
       "</style>\n",
       "<table border=\"1\" class=\"dataframe\">\n",
       "  <thead>\n",
       "    <tr style=\"text-align: right;\">\n",
       "      <th></th>\n",
       "      <th>NodeID</th>\n",
       "      <th>SeqLength</th>\n",
       "      <th>Jaccard_Cont_WiRv</th>\n",
       "      <th>Jaccard_Cont_WiIS6110</th>\n",
       "      <th>Jaccard_Cont_WiAllOtherNodes</th>\n",
       "      <th>Jaccard_Cont_WiRv_InsSeqAndPhages</th>\n",
       "      <th>IsSVNode</th>\n",
       "      <th>BubbleID</th>\n",
       "    </tr>\n",
       "  </thead>\n",
       "  <tbody>\n",
       "    <tr>\n",
       "      <th>0</th>\n",
       "      <td>s1</td>\n",
       "      <td>1533</td>\n",
       "      <td>1.0</td>\n",
       "      <td>0.0</td>\n",
       "      <td>0.000000</td>\n",
       "      <td>0.000000</td>\n",
       "      <td>False</td>\n",
       "      <td>None</td>\n",
       "    </tr>\n",
       "    <tr>\n",
       "      <th>1</th>\n",
       "      <td>s2</td>\n",
       "      <td>58</td>\n",
       "      <td>1.0</td>\n",
       "      <td>0.0</td>\n",
       "      <td>0.000000</td>\n",
       "      <td>0.000000</td>\n",
       "      <td>False</td>\n",
       "      <td>None</td>\n",
       "    </tr>\n",
       "    <tr>\n",
       "      <th>2</th>\n",
       "      <td>s3</td>\n",
       "      <td>56</td>\n",
       "      <td>1.0</td>\n",
       "      <td>0.0</td>\n",
       "      <td>0.961538</td>\n",
       "      <td>0.000000</td>\n",
       "      <td>True</td>\n",
       "      <td>BubbleRegion_2</td>\n",
       "    </tr>\n",
       "    <tr>\n",
       "      <th>3</th>\n",
       "      <td>s4</td>\n",
       "      <td>5</td>\n",
       "      <td>0.0</td>\n",
       "      <td>0.0</td>\n",
       "      <td>0.000000</td>\n",
       "      <td>0.000000</td>\n",
       "      <td>True</td>\n",
       "      <td>BubbleRegion_2</td>\n",
       "    </tr>\n",
       "    <tr>\n",
       "      <th>4</th>\n",
       "      <td>s5</td>\n",
       "      <td>11970</td>\n",
       "      <td>1.0</td>\n",
       "      <td>0.0</td>\n",
       "      <td>0.000000</td>\n",
       "      <td>0.000000</td>\n",
       "      <td>False</td>\n",
       "      <td>None</td>\n",
       "    </tr>\n",
       "    <tr>\n",
       "      <th>5</th>\n",
       "      <td>s6</td>\n",
       "      <td>12847</td>\n",
       "      <td>1.0</td>\n",
       "      <td>0.0</td>\n",
       "      <td>0.000000</td>\n",
       "      <td>0.000000</td>\n",
       "      <td>False</td>\n",
       "      <td>None</td>\n",
       "    </tr>\n",
       "    <tr>\n",
       "      <th>6</th>\n",
       "      <td>s7</td>\n",
       "      <td>1876</td>\n",
       "      <td>1.0</td>\n",
       "      <td>0.0</td>\n",
       "      <td>0.006501</td>\n",
       "      <td>0.000000</td>\n",
       "      <td>True</td>\n",
       "      <td>BubbleRegion_4</td>\n",
       "    </tr>\n",
       "    <tr>\n",
       "      <th>7</th>\n",
       "      <td>s8</td>\n",
       "      <td>542</td>\n",
       "      <td>1.0</td>\n",
       "      <td>0.0</td>\n",
       "      <td>0.097656</td>\n",
       "      <td>0.000000</td>\n",
       "      <td>False</td>\n",
       "      <td>None</td>\n",
       "    </tr>\n",
       "    <tr>\n",
       "      <th>8</th>\n",
       "      <td>s9</td>\n",
       "      <td>5979</td>\n",
       "      <td>1.0</td>\n",
       "      <td>0.0</td>\n",
       "      <td>0.000000</td>\n",
       "      <td>0.030761</td>\n",
       "      <td>False</td>\n",
       "      <td>None</td>\n",
       "    </tr>\n",
       "    <tr>\n",
       "      <th>9</th>\n",
       "      <td>s10</td>\n",
       "      <td>4133</td>\n",
       "      <td>1.0</td>\n",
       "      <td>0.0</td>\n",
       "      <td>0.000000</td>\n",
       "      <td>0.000000</td>\n",
       "      <td>False</td>\n",
       "      <td>None</td>\n",
       "    </tr>\n",
       "  </tbody>\n",
       "</table>\n",
       "</div>"
      ],
      "text/plain": [
       "  NodeID  SeqLength  Jaccard_Cont_WiRv  Jaccard_Cont_WiIS6110  Jaccard_Cont_WiAllOtherNodes  Jaccard_Cont_WiRv_InsSeqAndPhages  IsSVNode        BubbleID\n",
       "0     s1       1533                1.0                    0.0                      0.000000                           0.000000     False            None\n",
       "1     s2         58                1.0                    0.0                      0.000000                           0.000000     False            None\n",
       "2     s3         56                1.0                    0.0                      0.961538                           0.000000      True  BubbleRegion_2\n",
       "3     s4          5                0.0                    0.0                      0.000000                           0.000000      True  BubbleRegion_2\n",
       "4     s5      11970                1.0                    0.0                      0.000000                           0.000000     False            None\n",
       "5     s6      12847                1.0                    0.0                      0.000000                           0.000000     False            None\n",
       "6     s7       1876                1.0                    0.0                      0.006501                           0.000000      True  BubbleRegion_4\n",
       "7     s8        542                1.0                    0.0                      0.097656                           0.000000     False            None\n",
       "8     s9       5979                1.0                    0.0                      0.000000                           0.030761     False            None\n",
       "9    s10       4133                1.0                    0.0                      0.000000                           0.000000     False            None"
      ]
     },
     "execution_count": 146,
     "metadata": {},
     "output_type": "execute_result"
    }
   ],
   "source": [
    "MG_NodeAnalysis_DF.head(10)"
   ]
  },
  {
   "cell_type": "code",
   "execution_count": 135,
   "id": "45d17b1d",
   "metadata": {},
   "outputs": [
    {
     "data": {
      "text/plain": [
       "(3138, 8)"
      ]
     },
     "execution_count": 135,
     "metadata": {},
     "output_type": "execute_result"
    }
   ],
   "source": [
    "MG_NodeAnalysis_DF.shape"
   ]
  },
  {
   "cell_type": "code",
   "execution_count": null,
   "id": "72a6d010",
   "metadata": {},
   "outputs": [],
   "source": []
  },
  {
   "cell_type": "markdown",
   "id": "d29ccc56",
   "metadata": {},
   "source": [
    "## Output Minigraph NODE Kmer Analysis to TSV"
   ]
  },
  {
   "cell_type": "code",
   "execution_count": 147,
   "id": "029f9550",
   "metadata": {},
   "outputs": [
    {
     "name": "stdout",
     "output_type": "stream",
     "text": [
      "mkdir: cannot create directory ‘../../Data/MtbPangenomeAnalysis_SetV3’: File exists\n"
     ]
    }
   ],
   "source": [
    "PangenomeAnalysis_Dir = \"../../Data/MtbPangenomeAnalysis_SetV3\"\n",
    "\n",
    "!mkdir $PangenomeAnalysis_Dir\n",
    "\n",
    "MG_Node_KmerAnalysis_TSV = f\"{PangenomeAnalysis_Dir}/Minigraph.NodeAnalysis.151CI.KmerAnalysis.VsAllOtherNodes.V4.tsv\"     \n",
    "\n",
    "MG_NodeAnalysis_DF.to_csv(MG_Node_KmerAnalysis_TSV, sep = \"\\t\", index = False)\n"
   ]
  },
  {
   "cell_type": "code",
   "execution_count": 148,
   "id": "517f6bf7",
   "metadata": {},
   "outputs": [
    {
     "name": "stdout",
     "output_type": "stream",
     "text": [
      "Minigraph.NodeAnalysis.151CI.KmerAnalysis.VsAllOtherNodes.V4.tsv\n"
     ]
    }
   ],
   "source": [
    "!ls -1 $PangenomeAnalysis_Dir"
   ]
  },
  {
   "cell_type": "code",
   "execution_count": 149,
   "id": "4a9c4e2d-07c7-4679-aea6-c27ae79fee8c",
   "metadata": {},
   "outputs": [
    {
     "name": "stdout",
     "output_type": "stream",
     "text": [
      "-rw-r--r-- 1 mm774 farhat 168K Nov 22 14:43 ../../Data/MtbPangenomeAnalysis_SetV3/Minigraph.NodeAnalysis.151CI.KmerAnalysis.VsAllOtherNodes.V4.tsv\n"
     ]
    }
   ],
   "source": [
    "!ls -alh $MG_Node_KmerAnalysis_TSV"
   ]
  },
  {
   "cell_type": "code",
   "execution_count": 150,
   "id": "b1a9d255",
   "metadata": {},
   "outputs": [
    {
     "name": "stdout",
     "output_type": "stream",
     "text": [
      "3139 ../../Data/MtbPangenomeAnalysis_SetV3/Minigraph.NodeAnalysis.151CI.KmerAnalysis.VsAllOtherNodes.V4.tsv\n"
     ]
    }
   ],
   "source": [
    "!wc -l $MG_Node_KmerAnalysis_TSV"
   ]
  },
  {
   "cell_type": "markdown",
   "id": "49417804",
   "metadata": {},
   "source": [
    "### Test parsing of NODE Kmer Analysis TSV"
   ]
  },
  {
   "cell_type": "code",
   "execution_count": 185,
   "id": "18174c6c",
   "metadata": {},
   "outputs": [],
   "source": [
    "PangenomeAnalysis_Dir = \"../../Data/MtbPangenomeAnalysis_SetV3\"\n",
    "\n",
    "MG_Node_KmerAnalysis_TSV = f\"{PangenomeAnalysis_Dir}/Minigraph.NodeAnalysis.151CI.KmerAnalysis.VsAllOtherNodes.V4.tsv\"\n"
   ]
  },
  {
   "cell_type": "code",
   "execution_count": 186,
   "id": "418dddca",
   "metadata": {},
   "outputs": [
    {
     "data": {
      "text/plain": [
       "(3138, 8)"
      ]
     },
     "execution_count": 186,
     "metadata": {},
     "output_type": "execute_result"
    }
   ],
   "source": [
    "MG_NodeAnalysis_DF = pd.read_csv(MG_Node_KmerAnalysis_TSV, sep = \"\\t\" )\n",
    "MG_NodeAnalysis_DF.shape  "
   ]
  },
  {
   "cell_type": "code",
   "execution_count": 187,
   "id": "896f9a27",
   "metadata": {},
   "outputs": [
    {
     "data": {
      "text/html": [
       "<div>\n",
       "<style scoped>\n",
       "    .dataframe tbody tr th:only-of-type {\n",
       "        vertical-align: middle;\n",
       "    }\n",
       "\n",
       "    .dataframe tbody tr th {\n",
       "        vertical-align: top;\n",
       "    }\n",
       "\n",
       "    .dataframe thead th {\n",
       "        text-align: right;\n",
       "    }\n",
       "</style>\n",
       "<table border=\"1\" class=\"dataframe\">\n",
       "  <thead>\n",
       "    <tr style=\"text-align: right;\">\n",
       "      <th></th>\n",
       "      <th>NodeID</th>\n",
       "      <th>SeqLength</th>\n",
       "      <th>Jaccard_Cont_WiRv</th>\n",
       "      <th>Jaccard_Cont_WiIS6110</th>\n",
       "      <th>Jaccard_Cont_WiAllOtherNodes</th>\n",
       "      <th>Jaccard_Cont_WiRv_InsSeqAndPhages</th>\n",
       "      <th>IsSVNode</th>\n",
       "      <th>BubbleID</th>\n",
       "    </tr>\n",
       "  </thead>\n",
       "  <tbody>\n",
       "    <tr>\n",
       "      <th>0</th>\n",
       "      <td>s1</td>\n",
       "      <td>1533</td>\n",
       "      <td>1.0</td>\n",
       "      <td>0.0</td>\n",
       "      <td>0.000000</td>\n",
       "      <td>0.0</td>\n",
       "      <td>False</td>\n",
       "      <td>None</td>\n",
       "    </tr>\n",
       "    <tr>\n",
       "      <th>1</th>\n",
       "      <td>s2</td>\n",
       "      <td>58</td>\n",
       "      <td>1.0</td>\n",
       "      <td>0.0</td>\n",
       "      <td>0.000000</td>\n",
       "      <td>0.0</td>\n",
       "      <td>False</td>\n",
       "      <td>None</td>\n",
       "    </tr>\n",
       "    <tr>\n",
       "      <th>2</th>\n",
       "      <td>s3</td>\n",
       "      <td>56</td>\n",
       "      <td>1.0</td>\n",
       "      <td>0.0</td>\n",
       "      <td>0.961538</td>\n",
       "      <td>0.0</td>\n",
       "      <td>True</td>\n",
       "      <td>BubbleRegion_2</td>\n",
       "    </tr>\n",
       "    <tr>\n",
       "      <th>3</th>\n",
       "      <td>s4</td>\n",
       "      <td>5</td>\n",
       "      <td>0.0</td>\n",
       "      <td>0.0</td>\n",
       "      <td>0.000000</td>\n",
       "      <td>0.0</td>\n",
       "      <td>True</td>\n",
       "      <td>BubbleRegion_2</td>\n",
       "    </tr>\n",
       "    <tr>\n",
       "      <th>4</th>\n",
       "      <td>s5</td>\n",
       "      <td>11970</td>\n",
       "      <td>1.0</td>\n",
       "      <td>0.0</td>\n",
       "      <td>0.000000</td>\n",
       "      <td>0.0</td>\n",
       "      <td>False</td>\n",
       "      <td>None</td>\n",
       "    </tr>\n",
       "  </tbody>\n",
       "</table>\n",
       "</div>"
      ],
      "text/plain": [
       "  NodeID  SeqLength  Jaccard_Cont_WiRv  Jaccard_Cont_WiIS6110  Jaccard_Cont_WiAllOtherNodes  Jaccard_Cont_WiRv_InsSeqAndPhages  IsSVNode        BubbleID\n",
       "0     s1       1533                1.0                    0.0                      0.000000                                0.0     False            None\n",
       "1     s2         58                1.0                    0.0                      0.000000                                0.0     False            None\n",
       "2     s3         56                1.0                    0.0                      0.961538                                0.0      True  BubbleRegion_2\n",
       "3     s4          5                0.0                    0.0                      0.000000                                0.0      True  BubbleRegion_2\n",
       "4     s5      11970                1.0                    0.0                      0.000000                                0.0     False            None"
      ]
     },
     "execution_count": 187,
     "metadata": {},
     "output_type": "execute_result"
    }
   ],
   "source": [
    "MG_NodeAnalysis_DF.head()"
   ]
  },
  {
   "cell_type": "code",
   "execution_count": 188,
   "id": "2e24b67e",
   "metadata": {},
   "outputs": [
    {
     "data": {
      "text/plain": [
       "count    3138.000000\n",
       "mean        0.721741\n",
       "std         0.435274\n",
       "min         0.000000\n",
       "25%         0.036899\n",
       "50%         1.000000\n",
       "75%         1.000000\n",
       "max         1.000000\n",
       "Name: Jaccard_Cont_WiRv, dtype: float64"
      ]
     },
     "execution_count": 188,
     "metadata": {},
     "output_type": "execute_result"
    }
   ],
   "source": [
    "MG_NodeAnalysis_DF[\"Jaccard_Cont_WiRv\"].describe()"
   ]
  },
  {
   "cell_type": "code",
   "execution_count": null,
   "id": "e5646aa6",
   "metadata": {},
   "outputs": [],
   "source": [
    "#!ls -1 $PangenomeAnalysis_Dir/"
   ]
  },
  {
   "cell_type": "code",
   "execution_count": 189,
   "id": "49e6bb53",
   "metadata": {},
   "outputs": [
    {
     "name": "stdout",
     "output_type": "stream",
     "text": [
      "NodeID\tSeqLength\tJaccard_Cont_WiRv\tJaccard_Cont_WiIS6110\tJaccard_Cont_WiAllOtherNodes\tJaccard_Cont_WiRv_InsSeqAndPhages\tIsSVNode\tBubbleID\n",
      "s1\t1533\t1.0\t0.0\t0.0\t0.0\tFalse\tNone\n",
      "s2\t58\t1.0\t0.0\t0.0\t0.0\tFalse\tNone\n",
      "s3\t56\t1.0\t0.0\t0.9615384615384616\t0.0\tTrue\tBubbleRegion_2\n",
      "s4\t5\t0.0\t0.0\t0.0\t0.0\tTrue\tBubbleRegion_2\n",
      "s5\t11970\t1.0\t0.0\t0.0\t0.0\tFalse\tNone\n",
      "s6\t12847\t1.0\t0.0\t0.0\t0.0\tFalse\tNone\n",
      "s7\t1876\t1.0\t0.0\t0.0065005417118093\t0.0\tTrue\tBubbleRegion_4\n",
      "s8\t542\t1.0\t0.0\t0.09765625\t0.0\tFalse\tNone\n",
      "s9\t5979\t1.0\t0.0\t0.0\t0.0307614725163893\tFalse\tNone\n"
     ]
    }
   ],
   "source": [
    "!head $MG_Node_KmerAnalysis_TSV"
   ]
  },
  {
   "cell_type": "code",
   "execution_count": null,
   "id": "84b69c89",
   "metadata": {},
   "outputs": [],
   "source": []
  },
  {
   "cell_type": "code",
   "execution_count": null,
   "id": "fc8e736d",
   "metadata": {},
   "outputs": [],
   "source": []
  },
  {
   "cell_type": "markdown",
   "id": "07cd8217",
   "metadata": {},
   "source": [
    "# Reparse 2 DFs together"
   ]
  },
  {
   "cell_type": "code",
   "execution_count": 190,
   "id": "b3ff0509",
   "metadata": {},
   "outputs": [],
   "source": [
    "PangenomeAnalysis_Dir = \"../../Data/MtbPangenomeAnalysis_SetV3\"\n",
    "\n",
    "MG_AvA_Node_KmerAnalysis_TSV_GZ = f\"{PangenomeAnalysis_Dir}/Minigraph.NodeAnalysis.151CI.AllVsAll.KmerAnalysis.V1.tsv.gz\"     \n",
    "\n",
    "MG_Node_KmerAnalysis_TSV = f\"{PangenomeAnalysis_Dir}/Minigraph.NodeAnalysis.151CI.KmerAnalysis.VsAllOtherNodes.V4.tsv\"\n",
    "\n"
   ]
  },
  {
   "cell_type": "code",
   "execution_count": 192,
   "id": "6ace8162",
   "metadata": {},
   "outputs": [
    {
     "data": {
      "text/plain": [
       "(123104, 6)"
      ]
     },
     "execution_count": 192,
     "metadata": {},
     "output_type": "execute_result"
    }
   ],
   "source": [
    "AvA_Nodes_Trim_DF = pd.read_csv(MG_AvA_Node_KmerAnalysis_TSV_GZ, sep = \"\\t\" )\n",
    "AvA_Nodes_Trim_DF.shape"
   ]
  },
  {
   "cell_type": "code",
   "execution_count": 193,
   "id": "f28d7cbd",
   "metadata": {},
   "outputs": [
    {
     "data": {
      "text/html": [
       "<div>\n",
       "<style scoped>\n",
       "    .dataframe tbody tr th:only-of-type {\n",
       "        vertical-align: middle;\n",
       "    }\n",
       "\n",
       "    .dataframe tbody tr th {\n",
       "        vertical-align: top;\n",
       "    }\n",
       "\n",
       "    .dataframe thead th {\n",
       "        text-align: right;\n",
       "    }\n",
       "</style>\n",
       "<table border=\"1\" class=\"dataframe\">\n",
       "  <thead>\n",
       "    <tr style=\"text-align: right;\">\n",
       "      <th></th>\n",
       "      <th>RecordID_1</th>\n",
       "      <th>RecordID_2</th>\n",
       "      <th>Record1_Len</th>\n",
       "      <th>Record2_Len</th>\n",
       "      <th>JaccardSim</th>\n",
       "      <th>JaccardContain</th>\n",
       "    </tr>\n",
       "  </thead>\n",
       "  <tbody>\n",
       "    <tr>\n",
       "      <th>0</th>\n",
       "      <td>s3</td>\n",
       "      <td>s2959</td>\n",
       "      <td>56</td>\n",
       "      <td>61</td>\n",
       "      <td>0.781250</td>\n",
       "      <td>0.961538</td>\n",
       "    </tr>\n",
       "    <tr>\n",
       "      <th>1</th>\n",
       "      <td>s7</td>\n",
       "      <td>s2247</td>\n",
       "      <td>1876</td>\n",
       "      <td>42</td>\n",
       "      <td>0.006501</td>\n",
       "      <td>0.006501</td>\n",
       "    </tr>\n",
       "    <tr>\n",
       "      <th>2</th>\n",
       "      <td>s8</td>\n",
       "      <td>s2823</td>\n",
       "      <td>542</td>\n",
       "      <td>87</td>\n",
       "      <td>0.096339</td>\n",
       "      <td>0.097656</td>\n",
       "    </tr>\n",
       "    <tr>\n",
       "      <th>3</th>\n",
       "      <td>s13</td>\n",
       "      <td>s2037</td>\n",
       "      <td>24063</td>\n",
       "      <td>49</td>\n",
       "      <td>0.000208</td>\n",
       "      <td>0.000208</td>\n",
       "    </tr>\n",
       "    <tr>\n",
       "      <th>4</th>\n",
       "      <td>s13</td>\n",
       "      <td>s2039</td>\n",
       "      <td>24063</td>\n",
       "      <td>114</td>\n",
       "      <td>0.000208</td>\n",
       "      <td>0.000208</td>\n",
       "    </tr>\n",
       "  </tbody>\n",
       "</table>\n",
       "</div>"
      ],
      "text/plain": [
       "  RecordID_1 RecordID_2  Record1_Len  Record2_Len  JaccardSim  JaccardContain\n",
       "0         s3      s2959           56           61    0.781250        0.961538\n",
       "1         s7      s2247         1876           42    0.006501        0.006501\n",
       "2         s8      s2823          542           87    0.096339        0.097656\n",
       "3        s13      s2037        24063           49    0.000208        0.000208\n",
       "4        s13      s2039        24063          114    0.000208        0.000208"
      ]
     },
     "execution_count": 193,
     "metadata": {},
     "output_type": "execute_result"
    }
   ],
   "source": [
    "AvA_Nodes_Trim_DF.head()"
   ]
  },
  {
   "cell_type": "code",
   "execution_count": 194,
   "id": "4e047560",
   "metadata": {},
   "outputs": [
    {
     "data": {
      "text/plain": [
       "(3138, 8)"
      ]
     },
     "execution_count": 194,
     "metadata": {},
     "output_type": "execute_result"
    }
   ],
   "source": [
    "MG_NodeAnalysis_DF = pd.read_csv(MG_Node_KmerAnalysis_TSV, sep = \"\\t\" )\n",
    "MG_NodeAnalysis_DF.shape"
   ]
  },
  {
   "cell_type": "code",
   "execution_count": 195,
   "id": "e8d56865",
   "metadata": {},
   "outputs": [
    {
     "data": {
      "text/html": [
       "<div>\n",
       "<style scoped>\n",
       "    .dataframe tbody tr th:only-of-type {\n",
       "        vertical-align: middle;\n",
       "    }\n",
       "\n",
       "    .dataframe tbody tr th {\n",
       "        vertical-align: top;\n",
       "    }\n",
       "\n",
       "    .dataframe thead th {\n",
       "        text-align: right;\n",
       "    }\n",
       "</style>\n",
       "<table border=\"1\" class=\"dataframe\">\n",
       "  <thead>\n",
       "    <tr style=\"text-align: right;\">\n",
       "      <th></th>\n",
       "      <th>NodeID</th>\n",
       "      <th>SeqLength</th>\n",
       "      <th>Jaccard_Cont_WiRv</th>\n",
       "      <th>Jaccard_Cont_WiIS6110</th>\n",
       "      <th>Jaccard_Cont_WiAllOtherNodes</th>\n",
       "      <th>Jaccard_Cont_WiRv_InsSeqAndPhages</th>\n",
       "      <th>IsSVNode</th>\n",
       "      <th>BubbleID</th>\n",
       "    </tr>\n",
       "  </thead>\n",
       "  <tbody>\n",
       "    <tr>\n",
       "      <th>0</th>\n",
       "      <td>s1</td>\n",
       "      <td>1533</td>\n",
       "      <td>1.0</td>\n",
       "      <td>0.0</td>\n",
       "      <td>0.000000</td>\n",
       "      <td>0.0</td>\n",
       "      <td>False</td>\n",
       "      <td>None</td>\n",
       "    </tr>\n",
       "    <tr>\n",
       "      <th>1</th>\n",
       "      <td>s2</td>\n",
       "      <td>58</td>\n",
       "      <td>1.0</td>\n",
       "      <td>0.0</td>\n",
       "      <td>0.000000</td>\n",
       "      <td>0.0</td>\n",
       "      <td>False</td>\n",
       "      <td>None</td>\n",
       "    </tr>\n",
       "    <tr>\n",
       "      <th>2</th>\n",
       "      <td>s3</td>\n",
       "      <td>56</td>\n",
       "      <td>1.0</td>\n",
       "      <td>0.0</td>\n",
       "      <td>0.961538</td>\n",
       "      <td>0.0</td>\n",
       "      <td>True</td>\n",
       "      <td>BubbleRegion_2</td>\n",
       "    </tr>\n",
       "    <tr>\n",
       "      <th>3</th>\n",
       "      <td>s4</td>\n",
       "      <td>5</td>\n",
       "      <td>0.0</td>\n",
       "      <td>0.0</td>\n",
       "      <td>0.000000</td>\n",
       "      <td>0.0</td>\n",
       "      <td>True</td>\n",
       "      <td>BubbleRegion_2</td>\n",
       "    </tr>\n",
       "    <tr>\n",
       "      <th>4</th>\n",
       "      <td>s5</td>\n",
       "      <td>11970</td>\n",
       "      <td>1.0</td>\n",
       "      <td>0.0</td>\n",
       "      <td>0.000000</td>\n",
       "      <td>0.0</td>\n",
       "      <td>False</td>\n",
       "      <td>None</td>\n",
       "    </tr>\n",
       "  </tbody>\n",
       "</table>\n",
       "</div>"
      ],
      "text/plain": [
       "  NodeID  SeqLength  Jaccard_Cont_WiRv  Jaccard_Cont_WiIS6110  Jaccard_Cont_WiAllOtherNodes  Jaccard_Cont_WiRv_InsSeqAndPhages  IsSVNode        BubbleID\n",
       "0     s1       1533                1.0                    0.0                      0.000000                                0.0     False            None\n",
       "1     s2         58                1.0                    0.0                      0.000000                                0.0     False            None\n",
       "2     s3         56                1.0                    0.0                      0.961538                                0.0      True  BubbleRegion_2\n",
       "3     s4          5                0.0                    0.0                      0.000000                                0.0      True  BubbleRegion_2\n",
       "4     s5      11970                1.0                    0.0                      0.000000                                0.0     False            None"
      ]
     },
     "execution_count": 195,
     "metadata": {},
     "output_type": "execute_result"
    }
   ],
   "source": [
    "MG_NodeAnalysis_DF.head()"
   ]
  },
  {
   "cell_type": "code",
   "execution_count": null,
   "id": "5bef4135",
   "metadata": {},
   "outputs": [],
   "source": []
  },
  {
   "cell_type": "code",
   "execution_count": null,
   "id": "1efb03a8",
   "metadata": {},
   "outputs": [],
   "source": []
  },
  {
   "cell_type": "code",
   "execution_count": null,
   "id": "86eed497",
   "metadata": {},
   "outputs": [],
   "source": []
  },
  {
   "cell_type": "code",
   "execution_count": null,
   "id": "64cf7b82",
   "metadata": {},
   "outputs": [],
   "source": []
  },
  {
   "cell_type": "code",
   "execution_count": null,
   "id": "3cf07799",
   "metadata": {},
   "outputs": [],
   "source": []
  },
  {
   "cell_type": "code",
   "execution_count": null,
   "id": "f986bda9",
   "metadata": {},
   "outputs": [],
   "source": []
  },
  {
   "cell_type": "code",
   "execution_count": null,
   "id": "75f4f24d",
   "metadata": {},
   "outputs": [],
   "source": []
  }
 ],
 "metadata": {
  "kernelspec": {
   "display_name": "py37_S",
   "language": "python",
   "name": "py37_s"
  },
  "language_info": {
   "codemirror_mode": {
    "name": "ipython",
    "version": 3
   },
   "file_extension": ".py",
   "mimetype": "text/x-python",
   "name": "python",
   "nbconvert_exporter": "python",
   "pygments_lexer": "ipython3",
   "version": "3.7.3"
  }
 },
 "nbformat": 4,
 "nbformat_minor": 5
}
