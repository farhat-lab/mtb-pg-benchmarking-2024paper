{
 "cells": [
  {
   "cell_type": "markdown",
   "id": "1638e8b5-ab14-4bd3-9e86-610441bfda77",
   "metadata": {},
   "source": [
    "# Minigraph Mtb SV Pan-Genome Evaluation\n",
    "## Part 1: Sequence & graph processsing\n",
    "\n",
    "### Maximillian Marin (mgmarin@g.harvard.edu)\n"
   ]
  },
  {
   "cell_type": "code",
   "execution_count": null,
   "id": "d96c0a89-38cb-4fe3-a771-683ee4058d7f",
   "metadata": {},
   "outputs": [],
   "source": []
  },
  {
   "cell_type": "markdown",
   "id": "1106da02",
   "metadata": {
    "toc-hr-collapsed": true
   },
   "source": [
    "### Import Statements"
   ]
  },
  {
   "cell_type": "code",
   "execution_count": 301,
   "id": "e36cce15",
   "metadata": {},
   "outputs": [],
   "source": [
    "import numpy as np\n",
    "import pandas as pd\n",
    "import vcf\n",
    "from tqdm import tqdm\n",
    "import matplotlib.pyplot as plt\n",
    "import seaborn as sns\n",
    "import pickle\n",
    "import scipy.stats\n",
    "\n",
    "%matplotlib inline"
   ]
  },
  {
   "cell_type": "code",
   "execution_count": 302,
   "id": "9a18e97e",
   "metadata": {},
   "outputs": [],
   "source": [
    "import plotly.express as px "
   ]
  },
  {
   "cell_type": "code",
   "execution_count": 303,
   "id": "86f4db16",
   "metadata": {},
   "outputs": [],
   "source": [
    "from Bio import SeqIO\n",
    "import plotly.express as px\n",
    "\n",
    "# https://github.com/ipython/ipython/issues/10627\n",
    "import os\n",
    "os.environ['QT_QPA_PLATFORM']='offscreen'"
   ]
  },
  {
   "cell_type": "code",
   "execution_count": 304,
   "id": "71ac186f",
   "metadata": {},
   "outputs": [],
   "source": [
    "import ete3 as rec\n",
    "from ete3 import Tree"
   ]
  },
  {
   "cell_type": "code",
   "execution_count": 305,
   "id": "41fd6962",
   "metadata": {},
   "outputs": [],
   "source": [
    "import json"
   ]
  },
  {
   "cell_type": "markdown",
   "id": "881d96c7",
   "metadata": {},
   "source": [
    "Import [Gfapy](https://github.com/ggonnella/gfapy)"
   ]
  },
  {
   "cell_type": "code",
   "execution_count": 306,
   "id": "99ee67b8",
   "metadata": {},
   "outputs": [],
   "source": [
    "import gfapy"
   ]
  },
  {
   "cell_type": "code",
   "execution_count": null,
   "id": "e9a6cc27",
   "metadata": {},
   "outputs": [],
   "source": []
  },
  {
   "cell_type": "markdown",
   "id": "f63e3559",
   "metadata": {},
   "source": [
    "#### Pandas Viewing Settings"
   ]
  },
  {
   "cell_type": "code",
   "execution_count": 307,
   "id": "b55e90ac",
   "metadata": {},
   "outputs": [],
   "source": [
    "pd.set_option('display.max_rows', 500)\n",
    "pd.set_option('display.max_columns', 500)\n",
    "pd.set_option('display.width', 1000)"
   ]
  },
  {
   "cell_type": "code",
   "execution_count": 308,
   "id": "e3cf04a4-4b53-40ab-b79d-5b1fc6678c09",
   "metadata": {},
   "outputs": [],
   "source": [
    "pd.set_option('max_colwidth', 400)"
   ]
  },
  {
   "cell_type": "code",
   "execution_count": 309,
   "id": "d3bc11f9",
   "metadata": {},
   "outputs": [],
   "source": [
    "import time"
   ]
  },
  {
   "cell_type": "code",
   "execution_count": null,
   "id": "c84a7d80",
   "metadata": {},
   "outputs": [],
   "source": []
  },
  {
   "cell_type": "markdown",
   "id": "f850655f",
   "metadata": {},
   "source": [
    "## Define useful Kmer analysis functions"
   ]
  },
  {
   "cell_type": "code",
   "execution_count": 310,
   "id": "ee426e4a",
   "metadata": {},
   "outputs": [],
   "source": [
    "import screed"
   ]
  },
  {
   "cell_type": "code",
   "execution_count": 311,
   "id": "ff0eb7ea",
   "metadata": {},
   "outputs": [],
   "source": [
    "import mmh3"
   ]
  },
  {
   "cell_type": "code",
   "execution_count": 312,
   "id": "2284ac39-fc6a-4941-a492-522ceeb3a8b7",
   "metadata": {},
   "outputs": [],
   "source": [
    "def build_kmers(sequence, ksize):\n",
    "    kmers = []\n",
    "    n_kmers = len(sequence) - ksize + 1\n",
    "    \n",
    "    for i in range(n_kmers):\n",
    "        kmer = sequence[i:i + ksize]\n",
    "        kmers.append(kmer)\n",
    "        \n",
    "    return kmers"
   ]
  },
  {
   "cell_type": "code",
   "execution_count": 313,
   "id": "76d8512b-392d-41df-a800-bc27461a2625",
   "metadata": {},
   "outputs": [],
   "source": [
    "#import screed a library for reading in FASTA/FASTQ\n",
    "\n",
    "def read_kmers_from_file(filename, ksize):\n",
    "    all_kmers = []\n",
    "    for record in screed.open(filename):\n",
    "        sequence = record.sequence\n",
    "        \n",
    "        kmers = build_kmers(sequence, ksize)\n",
    "        all_kmers += kmers\n",
    "\n",
    "    return all_kmers"
   ]
  },
  {
   "cell_type": "code",
   "execution_count": 314,
   "id": "5c9219e7-989d-4c5e-ab04-0d5b48fa7b87",
   "metadata": {},
   "outputs": [],
   "source": [
    "def hash_kmer(kmer):\n",
    "    # calculate the reverse complement\n",
    "    rc_kmer = screed.rc(kmer)\n",
    "    \n",
    "    # determine whether original k-mer or reverse complement is lesser\n",
    "    if kmer < rc_kmer:\n",
    "        canonical_kmer = kmer\n",
    "    else:\n",
    "        canonical_kmer = rc_kmer\n",
    "        \n",
    "    # calculate murmurhash using a hash seed of 42\n",
    "    hash = mmh3.hash64(canonical_kmer, 42)[0]\n",
    "    if hash < 0: hash += 2**64\n",
    "\n",
    "    return hash"
   ]
  },
  {
   "cell_type": "code",
   "execution_count": 315,
   "id": "d9c1386d-5911-483e-b97d-90d716b2424e",
   "metadata": {},
   "outputs": [],
   "source": [
    "# def hash_kmers(kmers):\n",
    "#     hashes = []\n",
    "#     for kmer in kmers:\n",
    "#         hashes.append(hash_kmer(kmer))\n",
    "#     return hashes\n",
    "\n",
    "# def hash_kmers_ToUnqNP(kmers):\n",
    "#     hashes = []\n",
    "#     for kmer in kmers:\n",
    "#         hashes.append(hash_kmer(kmer))\n",
    "        \n",
    "#     return np.unique(np.array(hashes))\n",
    "\n",
    "def hash_kmers_ToSet(kmers):\n",
    "    hashes = set()\n",
    "    for kmer in kmers:\n",
    "        hashes.add(hash_kmer(kmer))\n",
    "    return hashes"
   ]
  },
  {
   "cell_type": "code",
   "execution_count": 316,
   "id": "02646a94-8c79-44a2-9dca-a296c5e69230",
   "metadata": {},
   "outputs": [],
   "source": [
    "\n",
    "def jaccard_containment_FromSets(a, b):\n",
    "    '''\n",
    "    This function returns the Jaccard Containment between sets a and b.\n",
    "    '''\n",
    "    \n",
    "    intersection = len(a.intersection(b))\n",
    "    \n",
    "    return intersection / len(a)\n",
    "\n",
    "def jaccard_similarity_FromSets(a, b):\n",
    "    '''\n",
    "    This function returns the Jaccard Similarity between sets a and b.\n",
    "    '''\n",
    "    intersection = len(a.intersection(b))\n",
    "    union = len(a.union(b))\n",
    "    \n",
    "    return intersection / union\n"
   ]
  },
  {
   "cell_type": "code",
   "execution_count": 317,
   "id": "614c1502-2eec-44ff-b0a8-54b6074197ee",
   "metadata": {},
   "outputs": [],
   "source": [
    "def getAllHash_ExceptTargets_Set_V2(dictOfHashes, targetsToRemove):\n",
    "    # Convert targetsToRemove to a set for faster lookup\n",
    "    targetsToRemoveSet = set(targetsToRemove)\n",
    "\n",
    "    # Use set comprehension for more efficient construction of the result set\n",
    "    return {hash for seqID, seqInfoDict in dictOfHashes.items() if seqID not in targetsToRemoveSet\n",
    "            for hash in seqInfoDict[\"Kmer_Hashes_Set\"]}"
   ]
  },
  {
   "cell_type": "code",
   "execution_count": 318,
   "id": "f5521048-04ad-4301-9d1b-e6cd83cd2e6d",
   "metadata": {},
   "outputs": [],
   "source": [
    "def getAllHash_InTargetSeqs_Set(dictOfHashes, targetsToKeep):\n",
    "    \n",
    "    all_Hashes_InTarget = set()\n",
    "\n",
    "    for i_SeqID, i_SeqInfoDict in dictOfHashes.items():\n",
    "        \n",
    "        i_Hashes = i_SeqInfoDict[\"Kmer_Hashes_Set\"]\n",
    "        \n",
    "        if i_SeqID not in targetsToKeep:\n",
    "            all_Hashes_InTarget.update(i_Hashes) \n",
    "    \n",
    "    return all_Hashes_InTarget"
   ]
  },
  {
   "cell_type": "code",
   "execution_count": 319,
   "id": "989db849-d6ca-45fd-a34a-6a87852f41a8",
   "metadata": {},
   "outputs": [],
   "source": [
    "#%reload_ext autoreload\n",
    "#%autoreload 2\n",
    "\n",
    "### import panqc toolkit functions\n",
    "#from panqc.kmerlib import hash_kmers_ToSet, jaccard_similarity_FromSets, jaccard_containment_FromSets\n"
   ]
  },
  {
   "cell_type": "code",
   "execution_count": null,
   "id": "1c6115d7-25ba-4590-b130-6c02f2029ded",
   "metadata": {},
   "outputs": [],
   "source": []
  },
  {
   "cell_type": "code",
   "execution_count": null,
   "id": "3112125c-a31a-4cba-af90-5c3aa1e68cb7",
   "metadata": {},
   "outputs": [],
   "source": []
  },
  {
   "cell_type": "code",
   "execution_count": null,
   "id": "08960270-52f2-4749-b3db-a63c62513fc4",
   "metadata": {},
   "outputs": [],
   "source": []
  },
  {
   "cell_type": "code",
   "execution_count": null,
   "id": "9edd921e-14a1-49c2-b1bd-394888979933",
   "metadata": {},
   "outputs": [],
   "source": []
  },
  {
   "cell_type": "code",
   "execution_count": null,
   "id": "eb97fe91-9a7a-4f33-9636-9ad66d3ab69e",
   "metadata": {},
   "outputs": [],
   "source": []
  },
  {
   "cell_type": "code",
   "execution_count": 320,
   "id": "353d36b3",
   "metadata": {},
   "outputs": [],
   "source": [
    "# def jaccard_similarity(a, b):\n",
    "#     a = set(a)\n",
    "#     b = set(b)\n",
    "    \n",
    "#     intersection = len(a.intersection(b))\n",
    "#     union = len(a.union(b))\n",
    "    \n",
    "#     return intersection / union"
   ]
  },
  {
   "cell_type": "code",
   "execution_count": 321,
   "id": "7dbd76b1",
   "metadata": {},
   "outputs": [],
   "source": [
    "# def jaccard_containment(a, b):\n",
    "#     a = set(a)\n",
    "#     b = set(b)\n",
    "    \n",
    "#     intersection = len(a.intersection(b))\n",
    "    \n",
    "#     return intersection / len(a)"
   ]
  },
  {
   "cell_type": "code",
   "execution_count": null,
   "id": "88e52ba9",
   "metadata": {},
   "outputs": [],
   "source": []
  },
  {
   "cell_type": "code",
   "execution_count": 322,
   "id": "02ba944e",
   "metadata": {},
   "outputs": [],
   "source": [
    "# def jaccard_containment_FromUnqHashes_WiNP(a, b):\n",
    "    \n",
    "#     # Assumes that the input lists HAVE UNIQUE values\n",
    "#     Num_intersection = np.intersect1d(a, b, assume_unique = True).shape[0]\n",
    "        \n",
    "#     return Num_intersection / a.shape[0]"
   ]
  },
  {
   "cell_type": "code",
   "execution_count": 323,
   "id": "e8295e11",
   "metadata": {},
   "outputs": [],
   "source": [
    "# def jaccard_similarity_FromUnqHashes_WiNP(a, b):\n",
    "    \n",
    "#     # Assumes that the input lists HAVE UNIQUE values\n",
    "#     Num_intersection = np.intersect1d(a, b, assume_unique = True).shape[0]\n",
    "    \n",
    "#     Num_union = np.union1d(a, b).shape[0]\n",
    "    \n",
    "#     return Num_intersection / Num_union"
   ]
  },
  {
   "cell_type": "code",
   "execution_count": null,
   "id": "0e2057e7",
   "metadata": {},
   "outputs": [],
   "source": []
  },
  {
   "cell_type": "code",
   "execution_count": 324,
   "id": "1c210a22",
   "metadata": {},
   "outputs": [],
   "source": [
    "# def build_kmers(sequence, ksize):\n",
    "#     kmers = []\n",
    "#     n_kmers = len(sequence) - ksize + 1\n",
    "    \n",
    "#     for i in range(n_kmers):\n",
    "#         kmer = sequence[i:i + ksize]\n",
    "#         kmers.append(kmer)\n",
    "        \n",
    "#     return kmers"
   ]
  },
  {
   "cell_type": "code",
   "execution_count": 325,
   "id": "51752631",
   "metadata": {},
   "outputs": [],
   "source": [
    "# #import screed # a library for reading in FASTA/FASTQ\n",
    "\n",
    "# def read_kmers_from_file(filename, ksize):\n",
    "#     all_kmers = []\n",
    "#     for record in screed.open(filename):\n",
    "#         sequence = record.sequence\n",
    "        \n",
    "#         kmers = build_kmers(sequence, ksize)\n",
    "#         all_kmers += kmers\n",
    "\n",
    "#     return all_kmers"
   ]
  },
  {
   "cell_type": "code",
   "execution_count": 326,
   "id": "8269e848",
   "metadata": {},
   "outputs": [],
   "source": [
    "# #import mmh3\n",
    "\n",
    "# def hash_kmer(kmer):\n",
    "#     # calculate the reverse complement\n",
    "#     rc_kmer = screed.rc(kmer)\n",
    "    \n",
    "#     # determine whether original k-mer or reverse complement is lesser\n",
    "#     if kmer < rc_kmer:\n",
    "#         canonical_kmer = kmer\n",
    "#     else:\n",
    "#         canonical_kmer = rc_kmer\n",
    "        \n",
    "#     # calculate murmurhash using a hash seed of 42\n",
    "#     hash = mmh3.hash64(canonical_kmer, 42)[0]\n",
    "#     if hash < 0: hash += 2**64\n",
    "        \n",
    "#     # done\n",
    "#     return hash"
   ]
  },
  {
   "cell_type": "code",
   "execution_count": 327,
   "id": "e3964060",
   "metadata": {},
   "outputs": [],
   "source": [
    "# def hash_kmers(kmers):\n",
    "#     hashes = []\n",
    "#     for kmer in kmers:\n",
    "#         hashes.append(hash_kmer(kmer))\n",
    "#     return hashes"
   ]
  },
  {
   "cell_type": "code",
   "execution_count": 328,
   "id": "79451944",
   "metadata": {},
   "outputs": [],
   "source": [
    "# def hash_kmers_ToUnqNP(kmers):\n",
    "#     hashes = []\n",
    "#     for kmer in kmers:\n",
    "#         hashes.append(hash_kmer(kmer))\n",
    "        \n",
    "#     return np.unique(np.array(hashes))"
   ]
  },
  {
   "cell_type": "code",
   "execution_count": null,
   "id": "3047aab4-726b-4445-9836-ef06ece84e8e",
   "metadata": {},
   "outputs": [],
   "source": []
  },
  {
   "cell_type": "code",
   "execution_count": null,
   "id": "06a65fad-d365-42b4-ae0c-c6462ad50b0c",
   "metadata": {},
   "outputs": [],
   "source": []
  },
  {
   "cell_type": "code",
   "execution_count": null,
   "id": "461f9976-3af1-4189-b200-d282a0f62bc7",
   "metadata": {},
   "outputs": [],
   "source": []
  },
  {
   "cell_type": "code",
   "execution_count": null,
   "id": "fc051d9a-91e9-4ed5-a553-3a8f61a51b23",
   "metadata": {},
   "outputs": [],
   "source": []
  },
  {
   "cell_type": "code",
   "execution_count": null,
   "id": "59990772-df51-4160-88d8-c99ef6dd20f3",
   "metadata": {},
   "outputs": [],
   "source": []
  },
  {
   "cell_type": "code",
   "execution_count": null,
   "id": "48a6ad16-94a4-4cc3-ad0e-8fea9ae7f375",
   "metadata": {},
   "outputs": [],
   "source": []
  },
  {
   "cell_type": "code",
   "execution_count": null,
   "id": "93ca127b-d5b8-4544-b3f5-3c43a0c2c60a",
   "metadata": {},
   "outputs": [],
   "source": []
  },
  {
   "cell_type": "markdown",
   "id": "34238646-349b-4eb4-a793-9ccd05ac177d",
   "metadata": {
    "toc-hr-collapsed": true
   },
   "source": [
    "# Parse sample metadata & preprocessed genome info/results"
   ]
  },
  {
   "cell_type": "code",
   "execution_count": 329,
   "id": "3f5c4cea-4fad-4947-8f24-1e84969375bc",
   "metadata": {},
   "outputs": [
    {
     "name": "stdout",
     "output_type": "stream",
     "text": [
      "mkdir: cannot create directory ‘../../Data/231121.InputAsmTSVs.MtbSetV3.151CI’: File exists\n"
     ]
    }
   ],
   "source": [
    "Repo_DataDir = \"../../Data\"\n",
    "InputAsmPath_Dir = f\"{Repo_DataDir}/231121.InputAsmTSVs.MtbSetV3.151CI\"\n",
    "!mkdir $InputAsmPath_Dir\n",
    "\n",
    "MtbSetV3_151CI_InputAsmPATHs_TSV = f\"{InputAsmPath_Dir}/231121.MtbSetV3.151CI.HybridAndSRAsm.FAPATHs.V1.tsv\"\n",
    "\n",
    "MtbSetV3_151CI_AsmSumm_TSV = f\"{InputAsmPath_Dir}/231121.MtbSetV3.151CI.HybridAsm.AsmSummary.V2.tsv\"\n"
   ]
  },
  {
   "cell_type": "code",
   "execution_count": null,
   "id": "83c935ad-aa84-456e-9409-55cb7a394bbf",
   "metadata": {},
   "outputs": [],
   "source": []
  },
  {
   "cell_type": "code",
   "execution_count": null,
   "id": "a2e919e9-154e-47dc-b1e6-0d67e7f98827",
   "metadata": {},
   "outputs": [],
   "source": []
  },
  {
   "cell_type": "markdown",
   "id": "b1ca3e63-478b-4ecb-9033-1f46d1ddebf2",
   "metadata": {},
   "source": [
    "## Read table of Mtb isolate info"
   ]
  },
  {
   "cell_type": "code",
   "execution_count": 330,
   "id": "4894c08d",
   "metadata": {},
   "outputs": [],
   "source": [
    "\n",
    "WGA151CI_AsmSummary_DF = pd.read_csv(MtbSetV3_151CI_AsmSumm_TSV, sep = \"\\t\")\n",
    "\n",
    "SampleIDs_151CI_SOI = list( WGA151CI_AsmSummary_DF[\"SampleID\"].values )\n",
    "WGA151CI_SampleIDs = SampleIDs_151CI_SOI\n",
    "\n",
    "ID_To_PrimLineage_Dict = dict(WGA151CI_AsmSummary_DF[['SampleID', 'PrimaryLineage']].values)\n",
    "ID_To_SubLineage_Dict = dict( WGA151CI_AsmSummary_DF[[\"SampleID\", \"Lineage\"]].values)\n",
    "ID_To_Dataset_Dict = dict(WGA151CI_AsmSummary_DF[['SampleID', 'Dataset_Tag']].values)\n"
   ]
  },
  {
   "cell_type": "markdown",
   "id": "9fb169a1-4b92-49c0-b2f0-9d42e57de0eb",
   "metadata": {},
   "source": [
    "## PARSE METADATA FOR ALL 151 assemblies processed by this pipeline"
   ]
  },
  {
   "cell_type": "code",
   "execution_count": 331,
   "id": "b2b51e2b",
   "metadata": {},
   "outputs": [
    {
     "data": {
      "text/plain": [
       "(151, 4)"
      ]
     },
     "execution_count": 331,
     "metadata": {},
     "output_type": "execute_result"
    }
   ],
   "source": [
    "\n",
    "WGA151CI_Asm_Path_DF = pd.read_csv(MtbSetV3_151CI_InputAsmPATHs_TSV, sep = \"\\t\")\n",
    "WGA151CI_Asm_Path_DF.shape"
   ]
  },
  {
   "cell_type": "code",
   "execution_count": 332,
   "id": "c4173a21-70db-4192-9ece-87366187b831",
   "metadata": {},
   "outputs": [
    {
     "data": {
      "text/html": [
       "<div>\n",
       "<style scoped>\n",
       "    .dataframe tbody tr th:only-of-type {\n",
       "        vertical-align: middle;\n",
       "    }\n",
       "\n",
       "    .dataframe tbody tr th {\n",
       "        vertical-align: top;\n",
       "    }\n",
       "\n",
       "    .dataframe thead th {\n",
       "        text-align: right;\n",
       "    }\n",
       "</style>\n",
       "<table border=\"1\" class=\"dataframe\">\n",
       "  <thead>\n",
       "    <tr style=\"text-align: right;\">\n",
       "      <th></th>\n",
       "      <th>SampleID</th>\n",
       "      <th>Dataset_Tag</th>\n",
       "      <th>Genome_ASM_PATH</th>\n",
       "      <th>ShortRead_Genome_ASM_PATH</th>\n",
       "    </tr>\n",
       "  </thead>\n",
       "  <tbody>\n",
       "    <tr>\n",
       "      <th>0</th>\n",
       "      <td>N0072</td>\n",
       "      <td>ChinerOms_2019</td>\n",
       "      <td>/n/data1/hms/dbmi/farhat/mm774/Projects/231121.MtbSetV3.151CI.CompleteAndSR.Asms/ChinerOms_2019/N0072.LR.Asm.fasta</td>\n",
       "      <td>/n/data1/hms/dbmi/farhat/mm774/Projects/231121.MtbSetV3.151CI.CompleteAndSR.Asms/ChinerOms_2019/N0072.SR.Asm.fasta</td>\n",
       "    </tr>\n",
       "    <tr>\n",
       "      <th>1</th>\n",
       "      <td>N0153</td>\n",
       "      <td>ChinerOms_2019</td>\n",
       "      <td>/n/data1/hms/dbmi/farhat/mm774/Projects/231121.MtbSetV3.151CI.CompleteAndSR.Asms/ChinerOms_2019/N0153.LR.Asm.fasta</td>\n",
       "      <td>/n/data1/hms/dbmi/farhat/mm774/Projects/231121.MtbSetV3.151CI.CompleteAndSR.Asms/ChinerOms_2019/N0153.SR.Asm.fasta</td>\n",
       "    </tr>\n",
       "    <tr>\n",
       "      <th>2</th>\n",
       "      <td>TB3113</td>\n",
       "      <td>TB_Portals_24CI_R1</td>\n",
       "      <td>/n/data1/hms/dbmi/farhat/mm774/Projects/231121.MtbSetV3.151CI.CompleteAndSR.Asms/TB_Portals_24CI_R1/TB3113.LR.Asm.fasta</td>\n",
       "      <td>/n/data1/hms/dbmi/farhat/mm774/Projects/231121.MtbSetV3.151CI.CompleteAndSR.Asms/TB_Portals_24CI_R1/TB3113.SR.Asm.fasta</td>\n",
       "    </tr>\n",
       "    <tr>\n",
       "      <th>3</th>\n",
       "      <td>TB1236</td>\n",
       "      <td>TB_Portals_24CI_R1</td>\n",
       "      <td>/n/data1/hms/dbmi/farhat/mm774/Projects/231121.MtbSetV3.151CI.CompleteAndSR.Asms/TB_Portals_24CI_R1/TB1236.LR.Asm.fasta</td>\n",
       "      <td>/n/data1/hms/dbmi/farhat/mm774/Projects/231121.MtbSetV3.151CI.CompleteAndSR.Asms/TB_Portals_24CI_R1/TB1236.SR.Asm.fasta</td>\n",
       "    </tr>\n",
       "  </tbody>\n",
       "</table>\n",
       "</div>"
      ],
      "text/plain": [
       "  SampleID         Dataset_Tag                                                                                                          Genome_ASM_PATH                                                                                                ShortRead_Genome_ASM_PATH\n",
       "0    N0072      ChinerOms_2019       /n/data1/hms/dbmi/farhat/mm774/Projects/231121.MtbSetV3.151CI.CompleteAndSR.Asms/ChinerOms_2019/N0072.LR.Asm.fasta       /n/data1/hms/dbmi/farhat/mm774/Projects/231121.MtbSetV3.151CI.CompleteAndSR.Asms/ChinerOms_2019/N0072.SR.Asm.fasta\n",
       "1    N0153      ChinerOms_2019       /n/data1/hms/dbmi/farhat/mm774/Projects/231121.MtbSetV3.151CI.CompleteAndSR.Asms/ChinerOms_2019/N0153.LR.Asm.fasta       /n/data1/hms/dbmi/farhat/mm774/Projects/231121.MtbSetV3.151CI.CompleteAndSR.Asms/ChinerOms_2019/N0153.SR.Asm.fasta\n",
       "2   TB3113  TB_Portals_24CI_R1  /n/data1/hms/dbmi/farhat/mm774/Projects/231121.MtbSetV3.151CI.CompleteAndSR.Asms/TB_Portals_24CI_R1/TB3113.LR.Asm.fasta  /n/data1/hms/dbmi/farhat/mm774/Projects/231121.MtbSetV3.151CI.CompleteAndSR.Asms/TB_Portals_24CI_R1/TB3113.SR.Asm.fasta\n",
       "3   TB1236  TB_Portals_24CI_R1  /n/data1/hms/dbmi/farhat/mm774/Projects/231121.MtbSetV3.151CI.CompleteAndSR.Asms/TB_Portals_24CI_R1/TB1236.LR.Asm.fasta  /n/data1/hms/dbmi/farhat/mm774/Projects/231121.MtbSetV3.151CI.CompleteAndSR.Asms/TB_Portals_24CI_R1/TB1236.SR.Asm.fasta"
      ]
     },
     "execution_count": 332,
     "metadata": {},
     "output_type": "execute_result"
    }
   ],
   "source": [
    "WGA151CI_Asm_Path_DF.head(4)"
   ]
  },
  {
   "cell_type": "code",
   "execution_count": 333,
   "id": "f3a18947",
   "metadata": {},
   "outputs": [],
   "source": [
    "SampleID_To_LRAsmFA_PATH_Dict = dict(WGA151CI_Asm_Path_DF[['SampleID', 'Genome_ASM_PATH']].values)"
   ]
  },
  {
   "cell_type": "code",
   "execution_count": null,
   "id": "d01a664a-99b2-4ad2-bb5b-a74c5d5191f8",
   "metadata": {},
   "outputs": [],
   "source": []
  },
  {
   "cell_type": "code",
   "execution_count": null,
   "id": "7530d3f9",
   "metadata": {},
   "outputs": [],
   "source": []
  },
  {
   "cell_type": "markdown",
   "id": "f6e558ee",
   "metadata": {},
   "source": [
    "# Import/parse processed H37rv genome annotations"
   ]
  },
  {
   "cell_type": "code",
   "execution_count": 334,
   "id": "563bae20-73ed-4922-b4c7-f1e07d93078a",
   "metadata": {},
   "outputs": [
    {
     "name": "stdout",
     "output_type": "stream",
     "text": [
      "201027_H37rv_AnnotatedGenes_And_IntergenicRegions\n",
      "README.md\n"
     ]
    }
   ],
   "source": [
    "!ls -1 ../../References"
   ]
  },
  {
   "cell_type": "code",
   "execution_count": 335,
   "id": "0d58eace",
   "metadata": {},
   "outputs": [],
   "source": [
    "RepoRef_Dir = \"../../References\"\n",
    "\n",
    "AnnotatedGenes_And_IntergenicRegions_RepoRef_Dir = f\"{RepoRef_Dir}/201027_H37rv_AnnotatedGenes_And_IntergenicRegions\"\n",
    "H37Rv_GenomeAnnotations_Genes_TSV = f\"{AnnotatedGenes_And_IntergenicRegions_RepoRef_Dir}/H37Rv_GenomeAnnotations.Genes.tsv\"\n",
    "H37Rv_GenomeAnnotations_IntergenicRegions_TSV = f\"{AnnotatedGenes_And_IntergenicRegions_RepoRef_Dir}/H37Rv_GenomeAnnotations.IntergenicRegions.tsv\"\n",
    "H37Rv_GenomeAnnotations_Genes_And_IntergenicRegions_TSV = f\"{AnnotatedGenes_And_IntergenicRegions_RepoRef_Dir}/H37Rv_GenomeAnnotations.Genes.And.IntergenicRegions.tsv\"    \n",
    "H37Rv_GenomeAnnotations_Genes_And_IntergenicRegions_BED = f\"{AnnotatedGenes_And_IntergenicRegions_RepoRef_Dir}/H37Rv_GenomeAnnotations.Genes.And.IntergenicRegions.bed\"\n",
    "\n",
    "## H37Rv Gene Annotations TSV\n",
    "H37Rv_GenomeAnno_Genes_DF = pd.read_csv(H37Rv_GenomeAnnotations_Genes_TSV, sep = \"\\t\")\n",
    "H37Rv_GeneInfo_Subset_DF = H37Rv_GenomeAnno_Genes_DF[[\"H37rv_GeneID\", \"Symbol\", \"Feature\", \"Functional_Category\", \"Is_Pseudogene\", \"Product\", \"PEandPPE_Subfamily\", \"ExcludedGroup_Category\"]]\n",
    "\n",
    "RvID_To_Symbol_Dict = dict(H37Rv_GeneInfo_Subset_DF[['H37rv_GeneID', 'Symbol']].values)\n",
    "Symbol_To_FuncCat_Dict = dict(H37Rv_GeneInfo_Subset_DF[['Symbol', 'Functional_Category']].values)\n",
    "\n"
   ]
  },
  {
   "cell_type": "code",
   "execution_count": null,
   "id": "e14d1b5d",
   "metadata": {},
   "outputs": [],
   "source": []
  },
  {
   "cell_type": "markdown",
   "id": "ec0d1265-839e-4ff8-8d19-ba36709ce5bf",
   "metadata": {},
   "source": [
    "## Parse & Hash H37Rv K-mers"
   ]
  },
  {
   "cell_type": "code",
   "execution_count": 336,
   "id": "530d5d2f",
   "metadata": {},
   "outputs": [],
   "source": [
    "Mtb_RefDir=\"/n/data1/hms/dbmi/farhat/mm774/References\"\n",
    "H37rv_Ref_GBK_PATH = f\"{Mtb_RefDir}/GCF_000195955.2_ASM19595v2_genomic.gbk\"\n",
    "H37rv_Ref_FA_PATH = f\"{Mtb_RefDir}/GCF_000195955.2_ASM19595v2_genomic.fasta\"\n",
    "\n",
    "IS6110_Example_FA_PATH = f\"{Mtb_RefDir}/IS6110_From_Rv0795_Rv0796.DNA.fasta\"\n"
   ]
  },
  {
   "cell_type": "code",
   "execution_count": 337,
   "id": "bc8ba2a4",
   "metadata": {},
   "outputs": [],
   "source": [
    "#!ls -1 $Mtb_RefDir"
   ]
  },
  {
   "cell_type": "code",
   "execution_count": 338,
   "id": "265e0702",
   "metadata": {},
   "outputs": [],
   "source": [
    "H37Rv_kmers = read_kmers_from_file(H37rv_Ref_FA_PATH, 31)\n",
    "\n",
    "#H37Rv_Hashes = hash_kmers(H37Rv_kmers)\n",
    "#H37Rv_Hashes_UnqNP = hash_kmers_ToUnqNP(H37Rv_kmers)\n",
    "\n",
    "H37Rv_Hashes_Set = hash_kmers_ToSet(H37Rv_kmers)"
   ]
  },
  {
   "cell_type": "code",
   "execution_count": 339,
   "id": "32e9938d",
   "metadata": {},
   "outputs": [
    {
     "data": {
      "text/plain": [
       "['TTGACCGATGACCCCGGTTCAGGCTTCACCA',\n",
       " 'TGACCGATGACCCCGGTTCAGGCTTCACCAC',\n",
       " 'GACCGATGACCCCGGTTCAGGCTTCACCACA',\n",
       " 'ACCGATGACCCCGGTTCAGGCTTCACCACAG',\n",
       " 'CCGATGACCCCGGTTCAGGCTTCACCACAGT']"
      ]
     },
     "execution_count": 339,
     "metadata": {},
     "output_type": "execute_result"
    }
   ],
   "source": [
    "H37Rv_kmers[:5]"
   ]
  },
  {
   "cell_type": "markdown",
   "id": "88ed56f3-a6e9-4749-bc6d-51c1c581dc5a",
   "metadata": {},
   "source": [
    "#### Read in IS6110 example K-mers (From Rv0795 & Rv0796)"
   ]
  },
  {
   "cell_type": "code",
   "execution_count": 340,
   "id": "9b797666",
   "metadata": {},
   "outputs": [],
   "source": [
    "IS6110_Ex1_kmers = read_kmers_from_file(IS6110_Example_FA_PATH, 31)\n",
    "\n",
    "IS6110_Ex1_Hashes_Set = hash_kmers_ToSet(IS6110_Ex1_kmers)\n"
   ]
  },
  {
   "cell_type": "code",
   "execution_count": null,
   "id": "2336307b",
   "metadata": {},
   "outputs": [],
   "source": []
  },
  {
   "cell_type": "code",
   "execution_count": null,
   "id": "1e66cc19-5666-4fa6-86d4-aadb04c4a548",
   "metadata": {},
   "outputs": [],
   "source": []
  },
  {
   "cell_type": "markdown",
   "id": "85c20dfe",
   "metadata": {},
   "source": [
    "# Parse H37Rv reference gene sequences (MycoBrowser Version)"
   ]
  },
  {
   "cell_type": "code",
   "execution_count": 341,
   "id": "02991404",
   "metadata": {},
   "outputs": [],
   "source": [
    "O2_RefDir = \"/n/data1/hms/dbmi/farhat/mm774/References\"\n",
    "MycoBrowser_RefFiles_Dir = f\"{O2_RefDir}/190619_Mycobrowser_H37rv_ReferenceFiles\"\n",
    "\n",
    "H37Rv_Genes_MycoBro_FA = f\"{MycoBrowser_RefFiles_Dir}/Mycobacterium_tuberculosis_H37Rv_genes_v3.fasta\"\n",
    "\n",
    "H37Rv_Proteins_MycoBro_FAA = f\"{MycoBrowser_RefFiles_Dir}/Mycobacterium_tuberculosis_H37Rv_proteins_v3_TrimmedHeader.fasta\"\n",
    "\n",
    "H37Rv_Proteins_NCBI_FAA = f\"{MycoBrowser_RefFiles_Dir}/Mycobacterium_tuberculosis_H37Rv_proteins_v3_TrimmedHeader.fasta\"\n",
    "\n",
    "H37Rv_FAA_PATH = f\"{O2_RefDir}/GCF_000195955.2_ASM19595v2_proteins.faa\"\n",
    "\n",
    "H37Rv_GBK_PATH = f\"{O2_RefDir}/GCF_000195955.2_ASM19595v2_genomic.gbk\""
   ]
  },
  {
   "cell_type": "code",
   "execution_count": 342,
   "id": "4a1c0a9b",
   "metadata": {},
   "outputs": [
    {
     "name": "stdout",
     "output_type": "stream",
     "text": [
      ">Rv0001|dnaA|CDS|1-1524|+|Chromosomal replication initiator protein DnaA\n"
     ]
    }
   ],
   "source": [
    "!grep ^\">\" $H37Rv_Genes_MycoBro_FA | grep \"dnaA\"\n"
   ]
  },
  {
   "cell_type": "code",
   "execution_count": 343,
   "id": "88b7b72d",
   "metadata": {},
   "outputs": [
    {
     "name": "stderr",
     "output_type": "stream",
     "text": [
      "4187it [00:28, 146.29it/s]\n"
     ]
    }
   ],
   "source": [
    "dictOf_H37Rv_MycoBrow_GeneSeq = {}\n",
    "dictOf_H37Rv_MycoBrow_GeneSeq_Rv = {}\n",
    "dictOf_H37Rv_MycoBrow_Gene_KmerHashes = {}\n",
    "\n",
    "\n",
    "for index, record in tqdm(enumerate(SeqIO.parse(H37Rv_Genes_MycoBro_FA, \"fasta\"))):\n",
    "    \n",
    "    RecordName = record.name\n",
    "    RvID = RecordName.split(\"|\")[0]\n",
    "\n",
    "    GeneID = RecordName.split(\"|\")[1]\n",
    "    S_Seq = str(record.seq).upper()\n",
    "    \n",
    "    dictOf_H37Rv_MycoBrow_GeneSeq[GeneID] = S_Seq\n",
    "    #dictOf_H37Rv_MycoBrow_GeneSeq_Rv[RvID] = S_Seq\n",
    "    \n",
    "    #record_Hashes_UnqNP = hash_kmers_ToUnqNP(build_kmers(S_Seq, 31))\n",
    "    \n",
    "    record_Hashes_Set = hash_kmers_ToSet(build_kmers(S_Seq, 31))\n",
    "\n",
    "    dictOf_H37Rv_MycoBrow_Gene_KmerHashes[GeneID] = record_Hashes_Set\n",
    "    "
   ]
  },
  {
   "cell_type": "code",
   "execution_count": 344,
   "id": "72ebd54d",
   "metadata": {},
   "outputs": [
    {
     "data": {
      "text/plain": [
       "'TTGACCGATGACCCCGGTTCAGGCTTCACCACAGTGTGGAACGCGGTCGTCTCCGAACTTAACGGCGACCCTAAGGTTGACGACGGACCCAGCAGTGATGCTAATCTCAGCGCTCCGCTGACCCCTCAGCAAAGGGCTTGGCTCAATCTCGTCCAGCCATTGACCATCGTCGAGGGGTTTGCTCTGTTATCCGTGCCGAGCAGCTTTGTCCAAAACGAAATCGAGCGCCATCTGCGGGCCCCGATTACCGACGCTCTCAGCCGCCGACTCGGACATCAGATCCAACTCGGGGTCCGCATCGCTCCGCCGGCGACCGACGAAGCCGACGACACTACCGTGCCGCCTTCCGAAAATCCTGCTACCACATCGCCAGACACCACAACCGACAACGACGAGATTGATGACAGCGCTGCGGCACGGGGCGATAACCAGCACAGTTGGCCAAGTTACTTCACCGAGCGCCCGCACAATACCGATTCCGCTACCGCTGGCGTAACCAGCCTTAACCGTCGCTACACCTTTGATACGTTCGTTATCGGCGCCTCCAACCGGTTCGCGCACGCCGCCGCCTTGGCGATCGCAGAAGCACCCGCCCGCGCTTACAACCCCCTGTTCATCTGGGGCGAGTCCGGTCTCGGCAAGACACACCTGCTACACGCGGCAGGCAACTATGCCCAACGGTTGTTCCCGGGAATGCGGGTCAAATATGTCTCCACCGAGGAATTCACCAACGACTTCATTAACTCGCTCCGCGATGACCGCAAGGTCGCATTCAAACGCAGCTACCGCGACGTAGACGTGCTGTTGGTCGACGACATCCAATTCATTGAAGGCAAAGAGGGTATTCAAGAGGAGTTCTTCCACACCTTCAACACCTTGCACAATGCCAACAAGCAAATCGTCATCTCATCTGACCGCCCACCCAAGCAGCTCGCCACCCTCGAGGACCGGCTGAGAACCCGCTTTGAGTGGGGGCTGATCACTGACGTACAACCACCCGAGCTGGAGACCCGCATCGCCATCTTGCGCAAGAAAGCACAGATGGAACGGCTCGCGGTCCCCGACGATGTCCTCGAACTCATCGCCAGCAGTATCGAACGCAATATCCGTGAACTCGAGGGCGCGCTGATCCGGGTCACCGCGTTCGCCTCATTGAACAAAACACCAATCGACAAAGCGCTGGCCGAGATTGTGCTTCGCGATCTGATCGCCGACGCCAACACCATGCAAATCAGCGCGGCGACGATCATGGCTGCCACCGCCGAATACTTCGACACTACCGTCGAAGAGCTTCGCGGGCCCGGCAAGACCCGAGCACTGGCCCAGTCACGACAGATTGCGATGTACCTGTGTCGTGAGCTCACCGATCTTTCGTTGCCCAAAATCGGCCAAGCGTTCGGCCGTGATCACACAACCGTCATGTACGCCCAACGCAAGATCCTGTCCGAGATGGCCGAGCGCCGTGAGGTCTTTGATCACGTCAAAGAACTCACCACTCGCATCCGTCAGCGCTCCAAGCGCTAG'"
      ]
     },
     "execution_count": 344,
     "metadata": {},
     "output_type": "execute_result"
    }
   ],
   "source": [
    "dictOf_H37Rv_MycoBrow_GeneSeq[\"dnaA\"]"
   ]
  },
  {
   "cell_type": "code",
   "execution_count": 345,
   "id": "a28ee298",
   "metadata": {},
   "outputs": [
    {
     "data": {
      "text/plain": [
       "[13580233940393664509,\n",
       " 5138456728421695490,\n",
       " 3618210997640110108,\n",
       " 11878855257731645464,\n",
       " 15411791937939046426,\n",
       " 18314959098918223898,\n",
       " 17544408214687465506,\n",
       " 16638420273290518564,\n",
       " 5978695591246659638,\n",
       " 4065706600454856771]"
      ]
     },
     "execution_count": 345,
     "metadata": {},
     "output_type": "execute_result"
    }
   ],
   "source": [
    "list(dictOf_H37Rv_MycoBrow_Gene_KmerHashes[\"dnaA\"])[:10]"
   ]
  },
  {
   "cell_type": "code",
   "execution_count": null,
   "id": "158da9ae-5bd3-4f64-acd3-cffc72768c60",
   "metadata": {},
   "outputs": [],
   "source": []
  },
  {
   "cell_type": "code",
   "execution_count": null,
   "id": "dd0fa4a5-57aa-4761-b646-7d950c53d27a",
   "metadata": {},
   "outputs": [],
   "source": []
  },
  {
   "cell_type": "markdown",
   "id": "f1834ed7-16c2-4158-bef5-6e61fba2be0b",
   "metadata": {},
   "source": [
    "# Generate array of all 31-mers in annotated MGEs in H37Rv genome"
   ]
  },
  {
   "cell_type": "markdown",
   "id": "8231ada6",
   "metadata": {},
   "source": [
    "## a) Create DF for only MGEs (Insertion seqs + Phages)"
   ]
  },
  {
   "cell_type": "code",
   "execution_count": 346,
   "id": "dce1710f",
   "metadata": {},
   "outputs": [
    {
     "data": {
      "text/html": [
       "<div>\n",
       "<style scoped>\n",
       "    .dataframe tbody tr th:only-of-type {\n",
       "        vertical-align: middle;\n",
       "    }\n",
       "\n",
       "    .dataframe tbody tr th {\n",
       "        vertical-align: top;\n",
       "    }\n",
       "\n",
       "    .dataframe thead th {\n",
       "        text-align: right;\n",
       "    }\n",
       "</style>\n",
       "<table border=\"1\" class=\"dataframe\">\n",
       "  <thead>\n",
       "    <tr style=\"text-align: right;\">\n",
       "      <th></th>\n",
       "      <th>Chrom</th>\n",
       "      <th>Start</th>\n",
       "      <th>End</th>\n",
       "      <th>Strand</th>\n",
       "      <th>H37rv_GeneID</th>\n",
       "      <th>Symbol</th>\n",
       "      <th>Feature</th>\n",
       "      <th>Functional_Category</th>\n",
       "      <th>Is_Pseudogene</th>\n",
       "      <th>Product</th>\n",
       "      <th>PEandPPE_Subfamily</th>\n",
       "      <th>ExcludedGroup_Category</th>\n",
       "    </tr>\n",
       "  </thead>\n",
       "  <tbody>\n",
       "    <tr>\n",
       "      <th>0</th>\n",
       "      <td>NC_000962.3</td>\n",
       "      <td>0</td>\n",
       "      <td>1524</td>\n",
       "      <td>+</td>\n",
       "      <td>Rv0001</td>\n",
       "      <td>dnaA</td>\n",
       "      <td>CDS</td>\n",
       "      <td>information pathways</td>\n",
       "      <td>No</td>\n",
       "      <td>Chromosomal replication initiator protein DnaA</td>\n",
       "      <td>None</td>\n",
       "      <td>NotExcluded</td>\n",
       "    </tr>\n",
       "  </tbody>\n",
       "</table>\n",
       "</div>"
      ],
      "text/plain": [
       "         Chrom  Start   End Strand H37rv_GeneID Symbol Feature   Functional_Category Is_Pseudogene                                         Product PEandPPE_Subfamily ExcludedGroup_Category\n",
       "0  NC_000962.3      0  1524      +       Rv0001   dnaA     CDS  information pathways            No  Chromosomal replication initiator protein DnaA               None            NotExcluded"
      ]
     },
     "execution_count": 346,
     "metadata": {},
     "output_type": "execute_result"
    }
   ],
   "source": [
    "H37Rv_GenomeAnno_Genes_DF.head(1)"
   ]
  },
  {
   "cell_type": "code",
   "execution_count": 347,
   "id": "0ba09272",
   "metadata": {},
   "outputs": [
    {
     "data": {
      "text/plain": [
       "(147, 12)"
      ]
     },
     "execution_count": 347,
     "metadata": {},
     "output_type": "execute_result"
    }
   ],
   "source": [
    "H37Rv_Anno_InsSeqAndPhages_DF = H37Rv_GenomeAnno_Genes_DF.query(\"Functional_Category == 'insertion seqs and phages'\")     \n",
    "H37Rv_Anno_InsSeqAndPhages_DF.shape\n",
    "                                                               "
   ]
  },
  {
   "cell_type": "code",
   "execution_count": 348,
   "id": "eefe024c",
   "metadata": {},
   "outputs": [
    {
     "data": {
      "text/html": [
       "<div>\n",
       "<style scoped>\n",
       "    .dataframe tbody tr th:only-of-type {\n",
       "        vertical-align: middle;\n",
       "    }\n",
       "\n",
       "    .dataframe tbody tr th {\n",
       "        vertical-align: top;\n",
       "    }\n",
       "\n",
       "    .dataframe thead th {\n",
       "        text-align: right;\n",
       "    }\n",
       "</style>\n",
       "<table border=\"1\" class=\"dataframe\">\n",
       "  <thead>\n",
       "    <tr style=\"text-align: right;\">\n",
       "      <th></th>\n",
       "      <th>Chrom</th>\n",
       "      <th>Start</th>\n",
       "      <th>End</th>\n",
       "      <th>Strand</th>\n",
       "      <th>H37rv_GeneID</th>\n",
       "      <th>Symbol</th>\n",
       "      <th>Feature</th>\n",
       "      <th>Functional_Category</th>\n",
       "      <th>Is_Pseudogene</th>\n",
       "      <th>Product</th>\n",
       "      <th>PEandPPE_Subfamily</th>\n",
       "      <th>ExcludedGroup_Category</th>\n",
       "    </tr>\n",
       "  </thead>\n",
       "  <tbody>\n",
       "    <tr>\n",
       "      <th>33</th>\n",
       "      <td>NC_000962.3</td>\n",
       "      <td>33581</td>\n",
       "      <td>33794</td>\n",
       "      <td>+</td>\n",
       "      <td>Rv0031</td>\n",
       "      <td>Rv0031</td>\n",
       "      <td>CDS</td>\n",
       "      <td>insertion seqs and phages</td>\n",
       "      <td>No</td>\n",
       "      <td>Possible remnant of a transposase</td>\n",
       "      <td>None</td>\n",
       "      <td>InsertionSeqs_And_Phages</td>\n",
       "    </tr>\n",
       "    <tr>\n",
       "      <th>99</th>\n",
       "      <td>NC_000962.3</td>\n",
       "      <td>103709</td>\n",
       "      <td>104663</td>\n",
       "      <td>-</td>\n",
       "      <td>Rv0094c</td>\n",
       "      <td>Rv0094c</td>\n",
       "      <td>CDS</td>\n",
       "      <td>insertion seqs and phages</td>\n",
       "      <td>No</td>\n",
       "      <td>Conserved hypothetical protein</td>\n",
       "      <td>None</td>\n",
       "      <td>InsertionSeqs_And_Phages</td>\n",
       "    </tr>\n",
       "  </tbody>\n",
       "</table>\n",
       "</div>"
      ],
      "text/plain": [
       "          Chrom   Start     End Strand H37rv_GeneID   Symbol Feature        Functional_Category Is_Pseudogene                            Product PEandPPE_Subfamily    ExcludedGroup_Category\n",
       "33  NC_000962.3   33581   33794      +       Rv0031   Rv0031     CDS  insertion seqs and phages            No  Possible remnant of a transposase               None  InsertionSeqs_And_Phages\n",
       "99  NC_000962.3  103709  104663      -      Rv0094c  Rv0094c     CDS  insertion seqs and phages            No     Conserved hypothetical protein               None  InsertionSeqs_And_Phages"
      ]
     },
     "execution_count": 348,
     "metadata": {},
     "output_type": "execute_result"
    }
   ],
   "source": [
    "H37Rv_Anno_InsSeqAndPhages_DF.head(2)"
   ]
  },
  {
   "cell_type": "code",
   "execution_count": 349,
   "id": "be1d477e",
   "metadata": {},
   "outputs": [
    {
     "data": {
      "text/plain": [
       "147"
      ]
     },
     "execution_count": 349,
     "metadata": {},
     "output_type": "execute_result"
    }
   ],
   "source": [
    "InsSeqAndPhages_GeneIDs = H37Rv_Anno_InsSeqAndPhages_DF[\"Symbol\"].values\n",
    "len(InsSeqAndPhages_GeneIDs)"
   ]
  },
  {
   "cell_type": "code",
   "execution_count": 350,
   "id": "a66e745a",
   "metadata": {},
   "outputs": [
    {
     "data": {
      "text/plain": [
       "array(['Rv0031', 'Rv0094c', 'Rv0095c', 'Rv0336', 'Rv0393'], dtype=object)"
      ]
     },
     "execution_count": 350,
     "metadata": {},
     "output_type": "execute_result"
    }
   ],
   "source": [
    "InsSeqAndPhages_GeneIDs[:5]"
   ]
  },
  {
   "cell_type": "code",
   "execution_count": 351,
   "id": "3aee6a5f",
   "metadata": {},
   "outputs": [
    {
     "data": {
      "text/plain": [
       "183"
      ]
     },
     "execution_count": 351,
     "metadata": {},
     "output_type": "execute_result"
    }
   ],
   "source": [
    "len(dictOf_H37Rv_MycoBrow_Gene_KmerHashes[\"Rv0031\"] )"
   ]
  },
  {
   "cell_type": "code",
   "execution_count": null,
   "id": "c6ba86b2-dedb-4d5f-9f92-5470d3ef758a",
   "metadata": {},
   "outputs": [],
   "source": []
  },
  {
   "cell_type": "code",
   "execution_count": null,
   "id": "24a2552b-ba43-48e2-b36d-77f180d2100f",
   "metadata": {},
   "outputs": [],
   "source": []
  },
  {
   "cell_type": "markdown",
   "id": "3ed9e8bd-2780-412e-a7e5-bb4a78fcf1da",
   "metadata": {},
   "source": [
    "## b) Create a NP array of all 31 bp k-mer hashes for annotated MGEs (Phage sequences & Insertion Sequences)"
   ]
  },
  {
   "cell_type": "code",
   "execution_count": 352,
   "id": "7ee4205a-8341-4689-8831-758babb522ea",
   "metadata": {},
   "outputs": [
    {
     "data": {
      "text/plain": [
       "(147,)"
      ]
     },
     "execution_count": 352,
     "metadata": {},
     "output_type": "execute_result"
    }
   ],
   "source": [
    "InsSeqAndPhages_GeneIDs.shape"
   ]
  },
  {
   "cell_type": "code",
   "execution_count": 353,
   "id": "9076938e-30cb-47e0-b080-7aabe5292bd1",
   "metadata": {},
   "outputs": [
    {
     "data": {
      "text/plain": [
       "array(['Rv0031', 'Rv0094c', 'Rv0095c', 'Rv0336', 'Rv0393', 'Rv0397',\n",
       "       'Rv0515', 'Rv0605', 'Rv0606', 'Rv0741', 'Rv0755A', 'Rv0795',\n",
       "       'Rv0796', 'Rv0797', 'Rv0829', 'Rv0850', 'Rv0920c', 'Rv0921',\n",
       "       'Rv0922', 'Rv1034c', 'Rv1035c', 'Rv1036c', 'Rv1041c', 'Rv1042c',\n",
       "       'Rv1047', 'Rv1054', 'Rv1055', 'Rv1128c', 'Rv1148c', 'Rv1149',\n",
       "       'Rv1150', 'Rv1199c', 'Rv1313c', 'Rv1369c', 'Rv1370c', 'Rv1572c',\n",
       "       'Rv1573', 'Rv1574', 'Rv1575', 'Rv1576c', 'Rv1577c', 'Rv1578c',\n",
       "       'Rv1579c', 'Rv1580c', 'Rv1581c', 'Rv1582c', 'Rv1583c', 'Rv1584c',\n",
       "       'Rv1585c', 'Rv1586c', 'Rv1587c', 'Rv1588c', 'Rv1701', 'Rv1702c',\n",
       "       'Rv1756c', 'Rv1757c', 'Rv1763', 'Rv1764', 'Rv1765A', 'Rv1945',\n",
       "       'Rv2013', 'Rv2014', 'Rv2085', 'Rv2086', 'Rv2087', 'Rv2100',\n",
       "       'Rv2105', 'Rv2106', 'Rv2167c', 'Rv2168c', 'Rv2177c', 'Rv2278',\n",
       "       'Rv2279', 'Rv2309c', 'Rv2310', 'Rv2354', 'Rv2355', 'Rv2424c',\n",
       "       'Rv2479c', 'Rv2480c', 'Rv2512c', 'Rv2646', 'Rv2647', 'Rv2648',\n",
       "       'Rv2649', 'Rv2650c', 'Rv2651c', 'Rv2652c', 'Rv2653c', 'Rv2654c',\n",
       "       'Rv2655c', 'Rv2656c', 'Rv2657c', 'Rv2658c', 'Rv2659c', 'Rv2666',\n",
       "       'Rv2791c', 'Rv2792c', 'Rv2810c', 'Rv2812', 'Rv2814c', 'Rv2815c',\n",
       "       'Rv2885c', 'Rv2886c', 'xerC', 'Rv2943', 'Rv2943A', 'Rv2944',\n",
       "       'Rv2961', 'Rv2978c', 'Rv2979c', 'Rv3023c', 'Rv3115', 'Rv3184',\n",
       "       'Rv3185', 'Rv3186', 'Rv3187', 'Rv3191c', 'Rv3325', 'Rv3326',\n",
       "       'Rv3327', 'Rv3348', 'Rv3349c', 'Rv3380c', 'Rv3381c', 'Rv3386',\n",
       "       'Rv3387', 'Rv3427c', 'Rv3428c', 'Rv3430c', 'Rv3431c', 'Rv3466',\n",
       "       'Rv3467', 'Rv3474', 'Rv3475', 'Rv3636', 'Rv3637', 'Rv3638',\n",
       "       'Rv3640c', 'Rv3750c', 'Rv3751', 'Rv3770A', 'Rv3770B', 'Rv3798',\n",
       "       'Rv3827c', 'Rv3828c', 'Rv3844'], dtype=object)"
      ]
     },
     "execution_count": 353,
     "metadata": {},
     "output_type": "execute_result"
    }
   ],
   "source": [
    "InsSeqAndPhages_GeneIDs"
   ]
  },
  {
   "cell_type": "code",
   "execution_count": 354,
   "id": "2744e554",
   "metadata": {},
   "outputs": [
    {
     "name": "stderr",
     "output_type": "stream",
     "text": [
      "100%|██████████| 4173/4173 [00:00<00:00, 54514.40it/s]\n"
     ]
    }
   ],
   "source": [
    "\n",
    "Rv_MGEs_Hashes_Set = set()\n",
    "\n",
    "for i_GeneID, i_Hashes in tqdm(dictOf_H37Rv_MycoBrow_Gene_KmerHashes.items()):\n",
    "\n",
    "    if i_GeneID in InsSeqAndPhages_GeneIDs:\n",
    "        Rv_MGEs_Hashes_Set.update(i_Hashes)\n",
    "        \n",
    "Rv_MGEs_Hashes_Set = set(ListOfAll_Rv_MGE_Hashes_list)\n",
    "\n",
    "Rv_MGEs_Hashes_List = list(Rv_MGEs_Hashes_Set)"
   ]
  },
  {
   "cell_type": "code",
   "execution_count": 355,
   "id": "ae09a05a-29a3-494b-914a-0b61b6b75c1e",
   "metadata": {},
   "outputs": [
    {
     "data": {
      "text/plain": [
       "69102"
      ]
     },
     "execution_count": 355,
     "metadata": {},
     "output_type": "execute_result"
    }
   ],
   "source": [
    "len(Rv_MGEs_Hashes_Set) "
   ]
  },
  {
   "cell_type": "code",
   "execution_count": 356,
   "id": "8509800d-ac77-435c-abec-08af11378504",
   "metadata": {},
   "outputs": [],
   "source": [
    "def getAllHashes_InTargetSeqs(dictOfHashes, targetsToKeep):\n",
    "    \n",
    "    all_Hashes_InTarget = set()\n",
    "\n",
    "    for i_SeqID, i_Hashes in dictOfHashes.items():\n",
    "                \n",
    "        if i_SeqID in targetsToKeep:\n",
    "            all_Hashes_InTarget.update(i_Hashes) \n",
    "    \n",
    "    return all_Hashes_InTarget"
   ]
  },
  {
   "cell_type": "code",
   "execution_count": 357,
   "id": "e4eb1f7b-ffee-4797-a6c9-0cdfa2f20360",
   "metadata": {},
   "outputs": [],
   "source": [
    "Rv_MGEs_Hashes_Set_Try2 = getAllHashes_InTargetSeqs(dictOf_H37Rv_MycoBrow_Gene_KmerHashes,\n",
    "                                                    InsSeqAndPhages_GeneIDs)   \n"
   ]
  },
  {
   "cell_type": "code",
   "execution_count": 358,
   "id": "9aa32cf1-af9d-42df-8778-3ad74965e5e5",
   "metadata": {},
   "outputs": [
    {
     "data": {
      "text/plain": [
       "True"
      ]
     },
     "execution_count": 358,
     "metadata": {},
     "output_type": "execute_result"
    }
   ],
   "source": [
    "Rv_MGEs_Hashes_Set_Try2 == Rv_MGEs_Hashes_Set"
   ]
  },
  {
   "cell_type": "code",
   "execution_count": 359,
   "id": "c58a9d29-46cf-4cac-b50b-7feb7e632aa9",
   "metadata": {},
   "outputs": [
    {
     "data": {
      "text/plain": [
       "69102"
      ]
     },
     "execution_count": 359,
     "metadata": {},
     "output_type": "execute_result"
    }
   ],
   "source": [
    "len(Rv_MGEs_Hashes_Set_Try2)"
   ]
  },
  {
   "cell_type": "code",
   "execution_count": null,
   "id": "c6721904-8441-4259-864a-20cf4ac22e10",
   "metadata": {},
   "outputs": [],
   "source": []
  },
  {
   "cell_type": "markdown",
   "id": "33a92976-6116-4446-9c6e-af4e5a8d1621",
   "metadata": {},
   "source": [
    "### Look at Jaccard Containment between H37Rv and Rv_MGEs"
   ]
  },
  {
   "cell_type": "code",
   "execution_count": 360,
   "id": "b832b7ae-13ac-40f7-8697-121551856444",
   "metadata": {},
   "outputs": [
    {
     "data": {
      "text/plain": [
       "0.01589562466616704"
      ]
     },
     "execution_count": 360,
     "metadata": {},
     "output_type": "execute_result"
    }
   ],
   "source": [
    "jaccard_similarity_FromSets(H37Rv_Hashes_Set, Rv_MGEs_Hashes_Set)"
   ]
  },
  {
   "cell_type": "code",
   "execution_count": 361,
   "id": "c36a0da3-d12c-4de4-b456-9469bb775241",
   "metadata": {},
   "outputs": [
    {
     "data": {
      "text/plain": [
       "0.01589562466616704"
      ]
     },
     "execution_count": 361,
     "metadata": {},
     "output_type": "execute_result"
    }
   ],
   "source": [
    "jaccard_containment_FromSets(H37Rv_Hashes_Set, Rv_MGEs_Hashes_Set)"
   ]
  },
  {
   "cell_type": "code",
   "execution_count": 362,
   "id": "a5231472-25c0-4b59-ac3c-c41012fcb3f6",
   "metadata": {},
   "outputs": [
    {
     "data": {
      "text/plain": [
       "1.0"
      ]
     },
     "execution_count": 362,
     "metadata": {},
     "output_type": "execute_result"
    }
   ],
   "source": [
    "jaccard_containment_FromSets(Rv_MGEs_Hashes_Set, H37Rv_Hashes_Set)"
   ]
  },
  {
   "cell_type": "code",
   "execution_count": null,
   "id": "cee8dd77-5a52-4205-a354-550999b35c81",
   "metadata": {},
   "outputs": [],
   "source": []
  },
  {
   "cell_type": "code",
   "execution_count": null,
   "id": "1a844e07",
   "metadata": {},
   "outputs": [],
   "source": []
  },
  {
   "cell_type": "markdown",
   "id": "3fb178e5",
   "metadata": {},
   "source": [
    "# Define output dir of the Mtb-WGA-SMK processing pipeline"
   ]
  },
  {
   "cell_type": "code",
   "execution_count": 363,
   "id": "a55b9858",
   "metadata": {},
   "outputs": [],
   "source": [
    "# Define pipeline output directories\n",
    "\n",
    "WGA_SMK_Outputs_Dir = \"/n/data1/hms/dbmi/farhat/mm774/Projects/Mtb-WGA-SMK-Output\"\n",
    "\n",
    "#MtbWGA_SMK_Pipeline_OutputDir = WGA_SMK_Outputs_Dir + \"/220427_WGA158CI_V1\"\n",
    "WGA151CI_SMK_OutputDir = WGA_SMK_Outputs_Dir + \"/231121_MtbSetV3_151CI\"\n",
    "Mtb_SMK_Pipeline_OutputDir = WGA151CI_SMK_OutputDir"
   ]
  },
  {
   "cell_type": "code",
   "execution_count": 364,
   "id": "161ca5f1",
   "metadata": {},
   "outputs": [],
   "source": [
    "#!ls -1 $WGA_SMK_Outputs_Dir"
   ]
  },
  {
   "cell_type": "code",
   "execution_count": null,
   "id": "fc4cce05-51d1-4a41-a252-662d29e741bb",
   "metadata": {},
   "outputs": [],
   "source": []
  },
  {
   "cell_type": "markdown",
   "id": "9ba0ef4b",
   "metadata": {},
   "source": [
    "## Define PATHS relevant to Minigraph analysis"
   ]
  },
  {
   "cell_type": "code",
   "execution_count": 365,
   "id": "7317148a",
   "metadata": {},
   "outputs": [],
   "source": [
    "target_OutputDir = Mtb_SMK_Pipeline_OutputDir\n",
    "\n",
    "Minigraph_151CI_OutDir = f\"{target_OutputDir}/Minigraph\"\n",
    "\n",
    "MG_WGA151CI_GFA = f\"{Minigraph_151CI_OutDir}/Minigraph_H37rv_Vs_158CI.V1.gfa\"\n",
    "MG_WGA151CI_Bubble_SV_BED = f\"{Minigraph_151CI_OutDir}/Minigraph_H37rv_Vs_158CI.V1.Bubble.SV.bed\"\n",
    "MG_WGA151CI_Stable_FA = f\"{Minigraph_151CI_OutDir}/Minigraph_H37rv_Vs_158CI.V1.Stable.fa\"\n",
    "\n",
    "MG_WGA151CI_MergedSVInfo_TSV = f\"{Minigraph_151CI_OutDir}/Minigraph_H37rv_Vs_158CI.MergedSV.Info.tsv\"\n",
    "\n",
    "MG_WGA151CI_MergedSVInfo_SVVCF = f\"{Minigraph_151CI_OutDir}/Minigraph_H37rv_Vs_158CI.MergedSV.Info.svvcf\"\n"
   ]
  },
  {
   "cell_type": "code",
   "execution_count": 366,
   "id": "3d801ebf",
   "metadata": {},
   "outputs": [
    {
     "name": "stdout",
     "output_type": "stream",
     "text": [
      "total 480K\n",
      "drwxrwsr-x  15 mm774 farhat  405 Dec 29 01:01 .\n",
      "drwxrwsr-x  11 mm774 farhat  402 Nov 22 01:55 ..\n",
      "drwxrwsr-x 155 mm774 farhat 3.8K Nov 22 02:06 AsmAnalysis\n",
      "drwxrwsr-x   2 mm774 farhat 3.0K Jan  1 17:21 Asm_MergeSNPs_mpileup\n",
      "drwxrwsr-x   2 mm774 farhat 1.3K Dec  2 18:38 Asm_MergeVar_mpileup\n",
      "drwxrwsr-x   3 mm774 farhat   61 Nov 22 02:08 Busco_Download_Tmp\n",
      "drwxrwsr-x   4 mm774 farhat  102 Nov 22 12:05 FastANI\n",
      "drwxrwsr-x   5 mm774 farhat  170 Nov 24 17:21 HomologyMapping\n",
      "drwxrwsr-x   2 mm774 farhat  351 Nov 22 02:06 Minigraph\n",
      "drwxrwsr-x   3 mm774 farhat   37 Nov 30 22:52 NucDiversity\n",
      "drwxrwsr-x   3 mm774 farhat   25 Nov 22 01:53 O2logs\n",
      "drwxrwsr-x  60 mm774 farhat 3.5K Feb  7 18:35 PanGenome_Analysis\n",
      "drwxrwsr-x   7 mm774 farhat  237 Jan  1 16:51 Phylogenies\n",
      "drwxrwsr-x   7 mm774 farhat  316 Nov 30 22:11 RecombDetection\n",
      "drwxrwsr-x   4 mm774 farhat   78 Nov 22 02:12 SourMash\n"
     ]
    }
   ],
   "source": [
    "!ls -alh $Mtb_SMK_Pipeline_OutputDir"
   ]
  },
  {
   "cell_type": "code",
   "execution_count": null,
   "id": "996fbdce",
   "metadata": {},
   "outputs": [],
   "source": []
  },
  {
   "cell_type": "code",
   "execution_count": 367,
   "id": "ffb151b8",
   "metadata": {},
   "outputs": [],
   "source": [
    "#!gfatools stat $MG_WGA158CI_GFA"
   ]
  },
  {
   "cell_type": "code",
   "execution_count": null,
   "id": "850305b8",
   "metadata": {},
   "outputs": [],
   "source": []
  },
  {
   "cell_type": "code",
   "execution_count": null,
   "id": "a609481e",
   "metadata": {},
   "outputs": [],
   "source": []
  },
  {
   "cell_type": "markdown",
   "id": "a5eba7bc",
   "metadata": {},
   "source": [
    "## Parse in K-mers of complete Minigraph GFA (151 Mtb assemblies)\n",
    "\n",
    "#### K-mers parsed for ALL nodes"
   ]
  },
  {
   "cell_type": "code",
   "execution_count": 368,
   "id": "d6591366",
   "metadata": {},
   "outputs": [],
   "source": [
    "Mtb_GFA_GP = gfapy.Gfa.from_file(MG_WGA151CI_GFA)"
   ]
  },
  {
   "cell_type": "code",
   "execution_count": 369,
   "id": "844deb6b",
   "metadata": {},
   "outputs": [
    {
     "data": {
      "text/plain": [
       "'gfa1'"
      ]
     },
     "execution_count": 369,
     "metadata": {},
     "output_type": "execute_result"
    }
   ],
   "source": [
    "Mtb_GFA_GP.version"
   ]
  },
  {
   "cell_type": "code",
   "execution_count": null,
   "id": "dd63b814",
   "metadata": {},
   "outputs": [],
   "source": []
  },
  {
   "cell_type": "code",
   "execution_count": 370,
   "id": "46b4da07",
   "metadata": {
    "scrolled": true
   },
   "outputs": [
    {
     "name": "stderr",
     "output_type": "stream",
     "text": [
      "100%|██████████| 7843/7843 [00:38<00:00, 202.38it/s] \n"
     ]
    }
   ],
   "source": [
    "\n",
    "listOfAll_GFA_Nodes = []\n",
    "\n",
    "MG_dictOf_NodeInfo = {}\n",
    "\n",
    "for line in tqdm(Mtb_GFA_GP.lines):\n",
    "    #print(type(line))\n",
    "    \n",
    "    line_Str = str(line)\n",
    "    \n",
    "    if line_Str.startswith(\"S\"):\n",
    "        \n",
    "        line_SplitByTab = line_Str.split(\"\\t\")\n",
    "        \n",
    "        S_Name = line_SplitByTab[1]\n",
    "        \n",
    "        MG_dictOf_NodeInfo[S_Name] = {}\n",
    "        \n",
    "        S_Seq = line_SplitByTab[2]\n",
    "        \n",
    "        Len_Seq = len(S_Seq)\n",
    "        \n",
    "        record_Kmers = build_kmers(S_Seq, 31)\n",
    "        \n",
    "        record_Hashes = hash_kmers_ToSet(record_Kmers)\n",
    "                \n",
    "        MG_dictOf_NodeInfo[S_Name][\"Len\"] = Len_Seq\n",
    "        \n",
    "        MG_dictOf_NodeInfo[S_Name][\"Kmers\"] = record_Kmers\n",
    "\n",
    "        MG_dictOf_NodeInfo[S_Name][\"Kmer_Hashes_Set\"] = record_Hashes\n",
    "\n",
    "        listOfAll_GFA_Nodes.append(S_Name)\n"
   ]
  },
  {
   "cell_type": "code",
   "execution_count": 371,
   "id": "bad60291",
   "metadata": {},
   "outputs": [],
   "source": [
    "#record_Kmers"
   ]
  },
  {
   "cell_type": "code",
   "execution_count": 372,
   "id": "d862f488",
   "metadata": {},
   "outputs": [
    {
     "data": {
      "text/plain": [
       "1533"
      ]
     },
     "execution_count": 372,
     "metadata": {},
     "output_type": "execute_result"
    }
   ],
   "source": [
    "MG_dictOf_NodeInfo[\"s1\"][\"Len\"]"
   ]
  },
  {
   "cell_type": "code",
   "execution_count": null,
   "id": "14491385",
   "metadata": {},
   "outputs": [],
   "source": []
  },
  {
   "cell_type": "markdown",
   "id": "455427b3",
   "metadata": {},
   "source": [
    "## Parse the Bubble SV Summary BED from Minigraph"
   ]
  },
  {
   "cell_type": "code",
   "execution_count": 373,
   "id": "67bdebc2",
   "metadata": {},
   "outputs": [
    {
     "data": {
      "text/plain": [
       "(535, 11)"
      ]
     },
     "execution_count": 373,
     "metadata": {},
     "output_type": "execute_result"
    }
   ],
   "source": [
    "MG_SV_BED_DF = pd.read_csv(MG_WGA151CI_Bubble_SV_BED, sep = \"\\t\", header=None)\n",
    "\n",
    "MG_SV_BED_DF.columns = [\"Chr\", \"Start\", \"End\", \"Unk1\", \"Unk2\",\n",
    "                        \"Unk3\", \"Len_Ref\", \"Len_Alt\", \n",
    "                        \"Unk4\", \"Unk5\", \"Unk6\", \"NodePath\", \"Ref_Seq\", \"Alt_Seq\"]\n",
    "\n",
    "\n",
    "Target_Col = [\"Chr\", \"Start\", \"End\",\n",
    "              \"Len_Ref\", \"Len_Alt\", \n",
    "              \"NodePath\", \"Ref_Seq\", \"Alt_Seq\"]\n",
    "\n",
    "\n",
    "MG_SV_BED_DF = MG_SV_BED_DF[Target_Col]\n",
    "\n",
    "# Remove the first and last nodes, these are not included in the SV of interest\n",
    "MG_SV_BED_DF[\"NodePath_Trimmed\"] = MG_SV_BED_DF[\"NodePath\"].str.split(\",\").str[1:-1]\n",
    "\n",
    "MG_SV_BED_DF[\"Start_Node\"] = MG_SV_BED_DF[\"NodePath\"].str.split(\",\").str[0]\n",
    "MG_SV_BED_DF[\"End_Node\"] = MG_SV_BED_DF[\"NodePath\"].str.split(\",\").str[-1]\n",
    "\n",
    "MG_SV_BED_DF.shape"
   ]
  },
  {
   "cell_type": "code",
   "execution_count": 374,
   "id": "acffeb6a",
   "metadata": {},
   "outputs": [
    {
     "data": {
      "text/html": [
       "<div>\n",
       "<style scoped>\n",
       "    .dataframe tbody tr th:only-of-type {\n",
       "        vertical-align: middle;\n",
       "    }\n",
       "\n",
       "    .dataframe tbody tr th {\n",
       "        vertical-align: top;\n",
       "    }\n",
       "\n",
       "    .dataframe thead th {\n",
       "        text-align: right;\n",
       "    }\n",
       "</style>\n",
       "<table border=\"1\" class=\"dataframe\">\n",
       "  <thead>\n",
       "    <tr style=\"text-align: right;\">\n",
       "      <th></th>\n",
       "      <th>Chr</th>\n",
       "      <th>Start</th>\n",
       "      <th>End</th>\n",
       "      <th>Len_Ref</th>\n",
       "      <th>Len_Alt</th>\n",
       "      <th>NodePath</th>\n",
       "      <th>Ref_Seq</th>\n",
       "      <th>Alt_Seq</th>\n",
       "      <th>NodePath_Trimmed</th>\n",
       "      <th>Start_Node</th>\n",
       "      <th>End_Node</th>\n",
       "    </tr>\n",
       "  </thead>\n",
       "  <tbody>\n",
       "    <tr>\n",
       "      <th>0</th>\n",
       "      <td>NC_000962.3</td>\n",
       "      <td>1533</td>\n",
       "      <td>1533</td>\n",
       "      <td>0</td>\n",
       "      <td>0</td>\n",
       "      <td>s1,s2</td>\n",
       "      <td>*</td>\n",
       "      <td>*</td>\n",
       "      <td>[]</td>\n",
       "      <td>s1</td>\n",
       "      <td>s2</td>\n",
       "    </tr>\n",
       "    <tr>\n",
       "      <th>1</th>\n",
       "      <td>NC_000962.3</td>\n",
       "      <td>1591</td>\n",
       "      <td>1652</td>\n",
       "      <td>61</td>\n",
       "      <td>1480</td>\n",
       "      <td>s2,s2034,s2959,s2035,s3,s2036,s2036,s3,s2035,s2959,s2034,s4,s5</td>\n",
       "      <td>ATTGGCTGTGAGTGTCGCTGTGCACAAACCGCGCACAGACTCATACAGTCCCGGCGGTTCC</td>\n",
       "      <td>ATTGGCTGTGAGTGTCGCTGTGCACAAACCGCGCACAGACTCATACAGTCCCGGCGGTTCCGTTCGCCGGGACTGTATGAGTCTGTGCGCGGTTTGTGCACAGCGACACTCACAGCCAATTGAACCGCCCCGGTGAGTCCGGAGACTCTCTGATCTGAGACCTCAGCCGGCGGCTGGTCTCTGGCGTTGAGCGTAGTAGGCAGCCTCGAGTTCGACCGGCGGGACGTCGCCGCAGTACTGGTAGAGGCGGCGATGGTTGAACCAGTCGACCCAGCGCGCGGTGGCCAACTCGACATCCTCGATGGACCGCCAGGGCTTGCCGGGTTTGATCAGCTCGGTCTTGTATAGGCCGTTGATCGTCTCGGCTAGTGCATTGTCATAGGAGCTTCCGACCGC...</td>\n",
       "      <td>[s2034, s2959, s2035, s3, s2036, s2036, s3, s2035, s2959, s2034, s4]</td>\n",
       "      <td>s2</td>\n",
       "      <td>s5</td>\n",
       "    </tr>\n",
       "    <tr>\n",
       "      <th>2</th>\n",
       "      <td>NC_000962.3</td>\n",
       "      <td>13622</td>\n",
       "      <td>13622</td>\n",
       "      <td>0</td>\n",
       "      <td>1358</td>\n",
       "      <td>s5,s2744,s6</td>\n",
       "      <td>*</td>\n",
       "      <td>TGAACCGCCCCGGTGAGTCCGGAGACTCTCTGATCTGAGACCTCAGCCGGCGGCTGGTCTCTGGCGTTGAGCGTAGTAGGCAGCCTCGAGTTCGACCGGCGGGACGTCGCCGCAGTACTGGTAGAGGCGGCGATGGTTGAACCAGTCGACCCAGCGCGCGGTGGCCAACTCGACATCCTCGATGGACCGCCAGGGCTTGCCGGGTTTGATCAGCTCGGTCTTGTATAGGCCGTTGATCGTCTCGGCTAGTGCATTGTCATAGGAGCTTCCGACCGCTCCGACCGACGGTTGGATGCCTGCCTCGGCGAGCCGCTCGCTGAACCGGATCGATGTGTACTGAGATCCCCTATCCGTATGGTGGATAACGTCTTTCAGGTCGAGTACGCCTTCTTGTTG...</td>\n",
       "      <td>[s2744]</td>\n",
       "      <td>s5</td>\n",
       "      <td>s6</td>\n",
       "    </tr>\n",
       "  </tbody>\n",
       "</table>\n",
       "</div>"
      ],
      "text/plain": [
       "           Chr  Start    End  Len_Ref  Len_Alt                                                        NodePath                                                        Ref_Seq                                                                                                                                                                                                                                                                                                                                                                                                          Alt_Seq                                                      NodePath_Trimmed Start_Node End_Node\n",
       "0  NC_000962.3   1533   1533        0        0                                                           s1,s2                                                              *                                                                                                                                                                                                                                                                                                                                                                                                                *                                                                    []         s1       s2\n",
       "1  NC_000962.3   1591   1652       61     1480  s2,s2034,s2959,s2035,s3,s2036,s2036,s3,s2035,s2959,s2034,s4,s5  ATTGGCTGTGAGTGTCGCTGTGCACAAACCGCGCACAGACTCATACAGTCCCGGCGGTTCC  ATTGGCTGTGAGTGTCGCTGTGCACAAACCGCGCACAGACTCATACAGTCCCGGCGGTTCCGTTCGCCGGGACTGTATGAGTCTGTGCGCGGTTTGTGCACAGCGACACTCACAGCCAATTGAACCGCCCCGGTGAGTCCGGAGACTCTCTGATCTGAGACCTCAGCCGGCGGCTGGTCTCTGGCGTTGAGCGTAGTAGGCAGCCTCGAGTTCGACCGGCGGGACGTCGCCGCAGTACTGGTAGAGGCGGCGATGGTTGAACCAGTCGACCCAGCGCGCGGTGGCCAACTCGACATCCTCGATGGACCGCCAGGGCTTGCCGGGTTTGATCAGCTCGGTCTTGTATAGGCCGTTGATCGTCTCGGCTAGTGCATTGTCATAGGAGCTTCCGACCGC...  [s2034, s2959, s2035, s3, s2036, s2036, s3, s2035, s2959, s2034, s4]         s2       s5\n",
       "2  NC_000962.3  13622  13622        0     1358                                                     s5,s2744,s6                                                              *  TGAACCGCCCCGGTGAGTCCGGAGACTCTCTGATCTGAGACCTCAGCCGGCGGCTGGTCTCTGGCGTTGAGCGTAGTAGGCAGCCTCGAGTTCGACCGGCGGGACGTCGCCGCAGTACTGGTAGAGGCGGCGATGGTTGAACCAGTCGACCCAGCGCGCGGTGGCCAACTCGACATCCTCGATGGACCGCCAGGGCTTGCCGGGTTTGATCAGCTCGGTCTTGTATAGGCCGTTGATCGTCTCGGCTAGTGCATTGTCATAGGAGCTTCCGACCGCTCCGACCGACGGTTGGATGCCTGCCTCGGCGAGCCGCTCGCTGAACCGGATCGATGTGTACTGAGATCCCCTATCCGTATGGTGGATAACGTCTTTCAGGTCGAGTACGCCTTCTTGTTG...                                                               [s2744]         s5       s6"
      ]
     },
     "execution_count": 374,
     "metadata": {},
     "output_type": "execute_result"
    }
   ],
   "source": [
    "MG_SV_BED_DF.head(3)"
   ]
  },
  {
   "cell_type": "markdown",
   "id": "e6f7ea8d",
   "metadata": {},
   "source": [
    "### Create Dict of NodeID to BubbleID"
   ]
  },
  {
   "cell_type": "code",
   "execution_count": 375,
   "id": "09537105",
   "metadata": {},
   "outputs": [],
   "source": [
    "NodeID_ToBubbleID_Dict = {}\n",
    "\n",
    "for i, row in MG_SV_BED_DF.iterrows():\n",
    "    \n",
    "    Bubble_Num = i + 1\n",
    "    BubbleID = \"BubbleRegion_\" + str(Bubble_Num)\n",
    "    i_NodePath_Trimmed = row[\"NodePath_Trimmed\"]\n",
    "    \n",
    "    for NodeID in i_NodePath_Trimmed: NodeID_ToBubbleID_Dict[NodeID] = BubbleID\n",
    "        "
   ]
  },
  {
   "cell_type": "code",
   "execution_count": 376,
   "id": "c0f3b2bc",
   "metadata": {},
   "outputs": [
    {
     "data": {
      "text/plain": [
       "'BubbleRegion_2'"
      ]
     },
     "execution_count": 376,
     "metadata": {},
     "output_type": "execute_result"
    }
   ],
   "source": [
    "NodeID_ToBubbleID_Dict[\"s3\"]"
   ]
  },
  {
   "cell_type": "markdown",
   "id": "fc300ec2-f945-417c-852e-8aba4c055029",
   "metadata": {},
   "source": [
    "## Classify all nodes by wheither they are a CORE NODE or a SV NODE within the graph"
   ]
  },
  {
   "cell_type": "code",
   "execution_count": 377,
   "id": "af2affbd",
   "metadata": {},
   "outputs": [],
   "source": [
    "SV_NodeIDs_All = []\n",
    "Non_SV_NodeIDs = []\n",
    "\n",
    "for i, row in MG_SV_BED_DF.iterrows():\n",
    "\n",
    "    i_NodePath_Trimmed = row[\"NodePath_Trimmed\"]\n",
    "    \n",
    "    SV_NodeIDs_All += (i_NodePath_Trimmed)\n",
    "    \n",
    "    Non_SV_NodeIDs.append( row[\"Start_Node\"] )\n",
    "    Non_SV_NodeIDs.append( row[\"End_Node\"] )\n",
    "\n",
    "    \n",
    "SV_NodeIDs_All = list(set(SV_NodeIDs_All))\n",
    "Non_SV_NodeIDs = list(set(Non_SV_NodeIDs))\n",
    "    "
   ]
  },
  {
   "cell_type": "code",
   "execution_count": 378,
   "id": "af41ef97",
   "metadata": {},
   "outputs": [
    {
     "data": {
      "text/plain": [
       "2602"
      ]
     },
     "execution_count": 378,
     "metadata": {},
     "output_type": "execute_result"
    }
   ],
   "source": [
    "len(list(set(SV_NodeIDs_All)) )"
   ]
  },
  {
   "cell_type": "code",
   "execution_count": 379,
   "id": "0510ffa2",
   "metadata": {},
   "outputs": [
    {
     "data": {
      "text/plain": [
       "536"
      ]
     },
     "execution_count": 379,
     "metadata": {},
     "output_type": "execute_result"
    }
   ],
   "source": [
    "len(Non_SV_NodeIDs)"
   ]
  },
  {
   "cell_type": "code",
   "execution_count": 380,
   "id": "0e1cd447",
   "metadata": {},
   "outputs": [
    {
     "data": {
      "text/plain": [
       "1533"
      ]
     },
     "execution_count": 380,
     "metadata": {},
     "output_type": "execute_result"
    }
   ],
   "source": [
    "MG_dictOf_NodeInfo[\"s1\"][\"Len\"]"
   ]
  },
  {
   "cell_type": "code",
   "execution_count": 381,
   "id": "48c920c7",
   "metadata": {},
   "outputs": [
    {
     "data": {
      "text/plain": [
       "(0,)"
      ]
     },
     "execution_count": 381,
     "metadata": {},
     "output_type": "execute_result"
    }
   ],
   "source": [
    "np.unique(np.array([])).shape"
   ]
  },
  {
   "cell_type": "code",
   "execution_count": null,
   "id": "e8e6a1f4",
   "metadata": {},
   "outputs": [],
   "source": []
  },
  {
   "cell_type": "code",
   "execution_count": null,
   "id": "a9567d99",
   "metadata": {},
   "outputs": [],
   "source": []
  },
  {
   "cell_type": "markdown",
   "id": "8c2c4627",
   "metadata": {},
   "source": [
    "# 1) Compare k-mer content of all SV nodes vs all SV nodes"
   ]
  },
  {
   "cell_type": "code",
   "execution_count": 382,
   "id": "363e75f7",
   "metadata": {},
   "outputs": [
    {
     "data": {
      "text/plain": [
       "3138"
      ]
     },
     "execution_count": 382,
     "metadata": {},
     "output_type": "execute_result"
    }
   ],
   "source": [
    "len(MG_dictOf_NodeInfo.keys())"
   ]
  },
  {
   "cell_type": "code",
   "execution_count": 383,
   "id": "17005bd4",
   "metadata": {},
   "outputs": [
    {
     "data": {
      "text/plain": [
       "3138"
      ]
     },
     "execution_count": 383,
     "metadata": {},
     "output_type": "execute_result"
    }
   ],
   "source": [
    "len(list(MG_dictOf_NodeInfo.keys()))"
   ]
  },
  {
   "cell_type": "code",
   "execution_count": 384,
   "id": "4b9cfa78",
   "metadata": {},
   "outputs": [
    {
     "data": {
      "text/plain": [
       "3138"
      ]
     },
     "execution_count": 384,
     "metadata": {},
     "output_type": "execute_result"
    }
   ],
   "source": [
    "All_Nodes_List = list(MG_dictOf_NodeInfo.keys())\n",
    "len(All_Nodes_List)"
   ]
  },
  {
   "cell_type": "code",
   "execution_count": 385,
   "id": "49a3dd1a",
   "metadata": {},
   "outputs": [
    {
     "data": {
      "text/plain": [
       "9840769"
      ]
     },
     "execution_count": 385,
     "metadata": {},
     "output_type": "execute_result"
    }
   ],
   "source": [
    "3137 ** 2 "
   ]
  },
  {
   "cell_type": "code",
   "execution_count": 386,
   "id": "342598b8",
   "metadata": {
    "scrolled": true
   },
   "outputs": [
    {
     "name": "stderr",
     "output_type": "stream",
     "text": [
      "100%|██████████| 3138/3138 [02:21<00:00, 22.24it/s] "
     ]
    },
    {
     "name": "stdout",
     "output_type": "stream",
     "text": [
      "141.15950679779053\n"
     ]
    },
    {
     "name": "stderr",
     "output_type": "stream",
     "text": [
      "\n"
     ]
    }
   ],
   "source": [
    "start = time.time()\n",
    "\n",
    "listOfTuples = []\n",
    "\n",
    "for record_Name_1 in tqdm( All_Nodes_List ) :\n",
    "    for record_Name_2 in All_Nodes_List:\n",
    "        record_1_Hashes = MG_dictOf_NodeInfo[record_Name_1][\"Kmer_Hashes_Set\"]\n",
    "        record_2_Hashes = MG_dictOf_NodeInfo[record_Name_2][\"Kmer_Hashes_Set\"]\n",
    "        \n",
    "        if (record_1_Hashes) & (record_2_Hashes):\n",
    "            \n",
    "            record_1and2_JS = jaccard_similarity_FromSets(record_1_Hashes, record_2_Hashes)\n",
    "\n",
    "            if record_1and2_JS != 0:\n",
    "                record_1and2_JC = jaccard_containment_FromSets(record_1_Hashes, record_2_Hashes)\n",
    "                \n",
    "                record_1_SeqLen = MG_dictOf_NodeInfo[record_Name_1][\"Len\"]\n",
    "                record_2_SeqLen = MG_dictOf_NodeInfo[record_Name_2][\"Len\"]\n",
    "                    \n",
    "                i_Tuple = (record_Name_1, record_Name_2, \n",
    "                           record_1_SeqLen, record_2_SeqLen,\n",
    "                           record_1and2_JS, record_1and2_JC)\n",
    "                \n",
    "                listOfTuples.append(i_Tuple)\n",
    "\n",
    "end = time.time()\n",
    "print(end - start)\n",
    "\n",
    "AvA_Nodes_DF = pd.DataFrame(listOfTuples)\n",
    "AvA_Nodes_DF.columns = [\"RecordID_1\", \"RecordID_2\", \"Record1_Len\", \"Record2_Len\", \"JaccardSim\", \"JaccardContain\"]\n",
    "\n",
    "#AvA_Nodes_DF = AvA_Nodes_DF.query(\"RecordID_1 != RecordID_2\")\n"
   ]
  },
  {
   "cell_type": "code",
   "execution_count": 387,
   "id": "3818c474-17e0-4316-8578-0fd28c7bbd12",
   "metadata": {},
   "outputs": [
    {
     "data": {
      "text/plain": [
       "(125615, 6)"
      ]
     },
     "execution_count": 387,
     "metadata": {},
     "output_type": "execute_result"
    }
   ],
   "source": [
    "AvA_Nodes_DF.shape"
   ]
  },
  {
   "cell_type": "code",
   "execution_count": 388,
   "id": "ad80e145-caec-472f-963d-40d34e38ed88",
   "metadata": {},
   "outputs": [
    {
     "data": {
      "text/plain": [
       "(125615, 6)"
      ]
     },
     "execution_count": 388,
     "metadata": {},
     "output_type": "execute_result"
    }
   ],
   "source": [
    "AvA_Nodes_NoZeroJS_DF = AvA_Nodes_DF.query(\"JaccardSim != 0\")   \n",
    "AvA_Nodes_NoZeroJS_DF.shape\n"
   ]
  },
  {
   "cell_type": "code",
   "execution_count": 389,
   "id": "3856321e",
   "metadata": {},
   "outputs": [
    {
     "data": {
      "text/plain": [
       "(123104, 6)"
      ]
     },
     "execution_count": 389,
     "metadata": {},
     "output_type": "execute_result"
    }
   ],
   "source": [
    "AvA_Nodes_Trim_DF = AvA_Nodes_DF.query(\"RecordID_1 != RecordID_2\").query(\"JaccardSim != 0\")   \n",
    "AvA_Nodes_Trim_DF.shape\n"
   ]
  },
  {
   "cell_type": "markdown",
   "id": "d83ed4c6",
   "metadata": {},
   "source": [
    "## Look at All vs All Nodes Stats"
   ]
  },
  {
   "cell_type": "code",
   "execution_count": 390,
   "id": "eb3e86ee-6cee-47a3-9c63-4ab044a4e8da",
   "metadata": {},
   "outputs": [
    {
     "data": {
      "text/html": [
       "<div>\n",
       "<style scoped>\n",
       "    .dataframe tbody tr th:only-of-type {\n",
       "        vertical-align: middle;\n",
       "    }\n",
       "\n",
       "    .dataframe tbody tr th {\n",
       "        vertical-align: top;\n",
       "    }\n",
       "\n",
       "    .dataframe thead th {\n",
       "        text-align: right;\n",
       "    }\n",
       "</style>\n",
       "<table border=\"1\" class=\"dataframe\">\n",
       "  <thead>\n",
       "    <tr style=\"text-align: right;\">\n",
       "      <th></th>\n",
       "      <th>RecordID_1</th>\n",
       "      <th>RecordID_2</th>\n",
       "      <th>Record1_Len</th>\n",
       "      <th>Record2_Len</th>\n",
       "      <th>JaccardSim</th>\n",
       "      <th>JaccardContain</th>\n",
       "    </tr>\n",
       "  </thead>\n",
       "  <tbody>\n",
       "    <tr>\n",
       "      <th>0</th>\n",
       "      <td>s1</td>\n",
       "      <td>s1</td>\n",
       "      <td>1533</td>\n",
       "      <td>1533</td>\n",
       "      <td>1.0</td>\n",
       "      <td>1.0</td>\n",
       "    </tr>\n",
       "    <tr>\n",
       "      <th>1</th>\n",
       "      <td>s2</td>\n",
       "      <td>s2</td>\n",
       "      <td>58</td>\n",
       "      <td>58</td>\n",
       "      <td>1.0</td>\n",
       "      <td>1.0</td>\n",
       "    </tr>\n",
       "    <tr>\n",
       "      <th>2</th>\n",
       "      <td>s3</td>\n",
       "      <td>s3</td>\n",
       "      <td>56</td>\n",
       "      <td>56</td>\n",
       "      <td>1.0</td>\n",
       "      <td>1.0</td>\n",
       "    </tr>\n",
       "  </tbody>\n",
       "</table>\n",
       "</div>"
      ],
      "text/plain": [
       "  RecordID_1 RecordID_2  Record1_Len  Record2_Len  JaccardSim  JaccardContain\n",
       "0         s1         s1         1533         1533         1.0             1.0\n",
       "1         s2         s2           58           58         1.0             1.0\n",
       "2         s3         s3           56           56         1.0             1.0"
      ]
     },
     "execution_count": 390,
     "metadata": {},
     "output_type": "execute_result"
    }
   ],
   "source": [
    "AvA_Nodes_DF.head(3)"
   ]
  },
  {
   "cell_type": "code",
   "execution_count": 391,
   "id": "25e6556c-9173-4a03-8128-747d38f4ee83",
   "metadata": {},
   "outputs": [
    {
     "data": {
      "text/plain": [
       "(125615, 6)"
      ]
     },
     "execution_count": 391,
     "metadata": {},
     "output_type": "execute_result"
    }
   ],
   "source": [
    "AvA_Nodes_DF.shape"
   ]
  },
  {
   "cell_type": "code",
   "execution_count": 392,
   "id": "00da1189-2266-48b9-b85b-7657d064c98f",
   "metadata": {},
   "outputs": [
    {
     "data": {
      "text/plain": [
       "(123104, 6)"
      ]
     },
     "execution_count": 392,
     "metadata": {},
     "output_type": "execute_result"
    }
   ],
   "source": [
    "AvA_Nodes_DF.query(\"RecordID_1 != RecordID_2\").shape"
   ]
  },
  {
   "cell_type": "code",
   "execution_count": 393,
   "id": "872587b9",
   "metadata": {},
   "outputs": [
    {
     "data": {
      "text/plain": [
       "(115801, 6)"
      ]
     },
     "execution_count": 393,
     "metadata": {},
     "output_type": "execute_result"
    }
   ],
   "source": [
    "AvA_Nodes_DF.query(\"JaccardSim >= 0.05\").shape"
   ]
  },
  {
   "cell_type": "code",
   "execution_count": 394,
   "id": "2b206fa6",
   "metadata": {},
   "outputs": [
    {
     "data": {
      "text/plain": [
       "2511"
      ]
     },
     "execution_count": 394,
     "metadata": {},
     "output_type": "execute_result"
    }
   ],
   "source": [
    "AvA_Nodes_DF.query(\"JaccardSim >= 0.05\")[\"RecordID_1\"].nunique()"
   ]
  },
  {
   "cell_type": "code",
   "execution_count": 395,
   "id": "d1172f1c",
   "metadata": {},
   "outputs": [
    {
     "data": {
      "text/plain": [
       "2511"
      ]
     },
     "execution_count": 395,
     "metadata": {},
     "output_type": "execute_result"
    }
   ],
   "source": [
    "AvA_Nodes_DF.query(\"JaccardSim >= 0.5\")[\"RecordID_1\"].nunique()"
   ]
  },
  {
   "cell_type": "code",
   "execution_count": 396,
   "id": "02a389e0",
   "metadata": {},
   "outputs": [
    {
     "data": {
      "text/plain": [
       "2511"
      ]
     },
     "execution_count": 396,
     "metadata": {},
     "output_type": "execute_result"
    }
   ],
   "source": [
    "AvA_Nodes_DF.query(\"JaccardSim >= 0.8\")[\"RecordID_1\"].nunique()"
   ]
  },
  {
   "cell_type": "code",
   "execution_count": 397,
   "id": "513cfda5",
   "metadata": {},
   "outputs": [
    {
     "data": {
      "text/plain": [
       "2511"
      ]
     },
     "execution_count": 397,
     "metadata": {},
     "output_type": "execute_result"
    }
   ],
   "source": [
    "AvA_Nodes_DF.query(\"JaccardSim >= 1\")[\"RecordID_1\"].nunique()"
   ]
  },
  {
   "cell_type": "markdown",
   "id": "cb1b1130",
   "metadata": {},
   "source": [
    "## Output All vs All Node k-mer comparison to TSV"
   ]
  },
  {
   "cell_type": "code",
   "execution_count": 398,
   "id": "5ae20157",
   "metadata": {},
   "outputs": [
    {
     "name": "stdout",
     "output_type": "stream",
     "text": [
      "mkdir: cannot create directory ‘../../Data/MtbPangenomeAnalysis_SetV3’: File exists\n"
     ]
    }
   ],
   "source": [
    "PangenomeAnalysis_Dir = \"../../Data/MtbPangenomeAnalysis_SetV3\"\n",
    "\n",
    "!mkdir $PangenomeAnalysis_Dir\n",
    "\n",
    "MG_AvA_Node_KmerAnalysis_TSV_GZ = f\"{PangenomeAnalysis_Dir}/Minigraph.NodeAnalysis.151CI.AllVsAll.KmerAnalysis.V1.tsv.gz\"     \n",
    "\n",
    "AvA_Nodes_Trim_DF.to_csv(MG_AvA_Node_KmerAnalysis_TSV_GZ, sep = \"\\t\", index = False)\n"
   ]
  },
  {
   "cell_type": "code",
   "execution_count": 399,
   "id": "c68c9c9f-6c13-4ad1-9510-2d70dcd74d0b",
   "metadata": {},
   "outputs": [
    {
     "name": "stdout",
     "output_type": "stream",
     "text": [
      "1.3M\t../../Data/MtbPangenomeAnalysis_SetV3/Minigraph.NodeAnalysis.151CI.AllVsAll.KmerAnalysis.V1.tsv.gz\n"
     ]
    }
   ],
   "source": [
    "!du -sh $MG_AvA_Node_KmerAnalysis_TSV_GZ"
   ]
  },
  {
   "cell_type": "code",
   "execution_count": 400,
   "id": "f8c52f2e",
   "metadata": {},
   "outputs": [
    {
     "name": "stdout",
     "output_type": "stream",
     "text": [
      "Minigraph.NodeAnalysis.151CI.AllVsAll.KmerAnalysis.V1.tsv.gz\n",
      "Minigraph.NodeAnalysis.151CI.NodeVsSetsOfInterest.V1.tsv\n"
     ]
    }
   ],
   "source": [
    "!ls -1 $PangenomeAnalysis_Dir"
   ]
  },
  {
   "cell_type": "code",
   "execution_count": 401,
   "id": "9b599842-9540-410a-a8bc-d4252c8c596f",
   "metadata": {},
   "outputs": [],
   "source": [
    "#!rm $MG_AvA_Node_KmerAnalysis_TSV"
   ]
  },
  {
   "cell_type": "code",
   "execution_count": 402,
   "id": "9823d43e",
   "metadata": {},
   "outputs": [],
   "source": [
    "#!zcat $MG_AvA_Node_KmerAnalysis_TSV | wc -l"
   ]
  },
  {
   "cell_type": "code",
   "execution_count": null,
   "id": "6208261d-02c0-4fd2-85ed-b8bda17b2d3e",
   "metadata": {},
   "outputs": [],
   "source": []
  },
  {
   "cell_type": "markdown",
   "id": "8d4a7464",
   "metadata": {},
   "source": [
    "### Parse in processed All vs All Kmer analysis"
   ]
  },
  {
   "cell_type": "code",
   "execution_count": 403,
   "id": "4656103f",
   "metadata": {},
   "outputs": [],
   "source": [
    "PangenomeAnalysis_Dir = \"../../Data/MtbPangenomeAnalysis_SetV3\"\n",
    "\n",
    "MG_AvA_Node_KmerAnalysis_TSV_GZ = f\"{PangenomeAnalysis_Dir}/Minigraph.NodeAnalysis.151CI.AllVsAll.KmerAnalysis.V1.tsv.gz\"     \n"
   ]
  },
  {
   "cell_type": "code",
   "execution_count": 404,
   "id": "e24a5045-c4e2-4a11-86bc-33ad60ef1e6b",
   "metadata": {},
   "outputs": [
    {
     "name": "stdout",
     "output_type": "stream",
     "text": [
      "-rw-r--r-- 1 mm774 farhat 1.2M Mar  5 16:00 ../../Data/MtbPangenomeAnalysis_SetV3/Minigraph.NodeAnalysis.151CI.AllVsAll.KmerAnalysis.V1.tsv.gz\n"
     ]
    }
   ],
   "source": [
    "!ls -lah $MG_AvA_Node_KmerAnalysis_TSV_GZ"
   ]
  },
  {
   "cell_type": "code",
   "execution_count": 405,
   "id": "40daca79-1db4-4875-869e-f951737f80d1",
   "metadata": {},
   "outputs": [],
   "source": [
    "#!ls -lah $MG_AvA_Node_KmerAnalysis_TSV"
   ]
  },
  {
   "cell_type": "code",
   "execution_count": 406,
   "id": "0d1c81a9",
   "metadata": {},
   "outputs": [
    {
     "data": {
      "text/plain": [
       "(123104, 6)"
      ]
     },
     "execution_count": 406,
     "metadata": {},
     "output_type": "execute_result"
    }
   ],
   "source": [
    "AvA_Nodes_Trim_DF = pd.read_csv(MG_AvA_Node_KmerAnalysis_TSV_GZ, sep = \"\\t\" )\n",
    "AvA_Nodes_Trim_DF.shape"
   ]
  },
  {
   "cell_type": "code",
   "execution_count": 407,
   "id": "cb4c3ce4",
   "metadata": {},
   "outputs": [
    {
     "data": {
      "text/html": [
       "<div>\n",
       "<style scoped>\n",
       "    .dataframe tbody tr th:only-of-type {\n",
       "        vertical-align: middle;\n",
       "    }\n",
       "\n",
       "    .dataframe tbody tr th {\n",
       "        vertical-align: top;\n",
       "    }\n",
       "\n",
       "    .dataframe thead th {\n",
       "        text-align: right;\n",
       "    }\n",
       "</style>\n",
       "<table border=\"1\" class=\"dataframe\">\n",
       "  <thead>\n",
       "    <tr style=\"text-align: right;\">\n",
       "      <th></th>\n",
       "      <th>RecordID_1</th>\n",
       "      <th>RecordID_2</th>\n",
       "      <th>Record1_Len</th>\n",
       "      <th>Record2_Len</th>\n",
       "      <th>JaccardSim</th>\n",
       "      <th>JaccardContain</th>\n",
       "    </tr>\n",
       "  </thead>\n",
       "  <tbody>\n",
       "    <tr>\n",
       "      <th>0</th>\n",
       "      <td>s3</td>\n",
       "      <td>s2959</td>\n",
       "      <td>56</td>\n",
       "      <td>61</td>\n",
       "      <td>0.781250</td>\n",
       "      <td>0.961538</td>\n",
       "    </tr>\n",
       "    <tr>\n",
       "      <th>1</th>\n",
       "      <td>s7</td>\n",
       "      <td>s2247</td>\n",
       "      <td>1876</td>\n",
       "      <td>42</td>\n",
       "      <td>0.006501</td>\n",
       "      <td>0.006501</td>\n",
       "    </tr>\n",
       "    <tr>\n",
       "      <th>2</th>\n",
       "      <td>s8</td>\n",
       "      <td>s2823</td>\n",
       "      <td>542</td>\n",
       "      <td>87</td>\n",
       "      <td>0.096339</td>\n",
       "      <td>0.097656</td>\n",
       "    </tr>\n",
       "    <tr>\n",
       "      <th>3</th>\n",
       "      <td>s13</td>\n",
       "      <td>s2037</td>\n",
       "      <td>24063</td>\n",
       "      <td>49</td>\n",
       "      <td>0.000208</td>\n",
       "      <td>0.000208</td>\n",
       "    </tr>\n",
       "    <tr>\n",
       "      <th>4</th>\n",
       "      <td>s13</td>\n",
       "      <td>s2039</td>\n",
       "      <td>24063</td>\n",
       "      <td>114</td>\n",
       "      <td>0.000208</td>\n",
       "      <td>0.000208</td>\n",
       "    </tr>\n",
       "  </tbody>\n",
       "</table>\n",
       "</div>"
      ],
      "text/plain": [
       "  RecordID_1 RecordID_2  Record1_Len  Record2_Len  JaccardSim  JaccardContain\n",
       "0         s3      s2959           56           61    0.781250        0.961538\n",
       "1         s7      s2247         1876           42    0.006501        0.006501\n",
       "2         s8      s2823          542           87    0.096339        0.097656\n",
       "3        s13      s2037        24063           49    0.000208        0.000208\n",
       "4        s13      s2039        24063          114    0.000208        0.000208"
      ]
     },
     "execution_count": 407,
     "metadata": {},
     "output_type": "execute_result"
    }
   ],
   "source": [
    "AvA_Nodes_Trim_DF.head()"
   ]
  },
  {
   "cell_type": "code",
   "execution_count": 408,
   "id": "72286dac",
   "metadata": {},
   "outputs": [
    {
     "name": "stdout",
     "output_type": "stream",
     "text": [
      "total 1.5M\n",
      "drwxr-sr-x 2 mm774 farhat  152 Mar  5 15:51 .\n",
      "drwxrwsr-x 7 mm774 farhat  287 Mar  5 15:44 ..\n",
      "-rw-r--r-- 1 mm774 farhat 1.2M Mar  5 16:00 Minigraph.NodeAnalysis.151CI.AllVsAll.KmerAnalysis.V1.tsv.gz\n",
      "-rw-r--r-- 1 mm774 farhat 144K Mar  5 15:54 Minigraph.NodeAnalysis.151CI.NodeVsSetsOfInterest.V1.tsv\n"
     ]
    }
   ],
   "source": [
    "!ls -lah $PangenomeAnalysis_Dir"
   ]
  },
  {
   "cell_type": "code",
   "execution_count": null,
   "id": "7cb32e21",
   "metadata": {},
   "outputs": [],
   "source": []
  },
  {
   "cell_type": "code",
   "execution_count": 409,
   "id": "8ab0055e-ea67-433b-99d8-075610bf3e3d",
   "metadata": {},
   "outputs": [
    {
     "data": {
      "text/plain": [
       "dict_keys(['Len', 'Kmers', 'Kmer_Hashes_Set'])"
      ]
     },
     "execution_count": 409,
     "metadata": {},
     "output_type": "execute_result"
    }
   ],
   "source": [
    "MG_dictOf_NodeInfo['s1'].keys()"
   ]
  },
  {
   "cell_type": "code",
   "execution_count": 410,
   "id": "3047d575",
   "metadata": {},
   "outputs": [],
   "source": [
    "#MG_dictOf_NodeInfo['s1']['Kmer_Hashes_Set']"
   ]
  },
  {
   "cell_type": "code",
   "execution_count": 411,
   "id": "2c0f4134-5316-4502-a542-25fd00a98398",
   "metadata": {},
   "outputs": [
    {
     "data": {
      "text/plain": [
       "69102"
      ]
     },
     "execution_count": 411,
     "metadata": {},
     "output_type": "execute_result"
    }
   ],
   "source": [
    "len(Rv_MGEs_Hashes_Set)"
   ]
  },
  {
   "cell_type": "code",
   "execution_count": 412,
   "id": "97f3bfb8-edb8-4c26-9173-d602e1757fd1",
   "metadata": {},
   "outputs": [
    {
     "data": {
      "text/plain": [
       "660"
      ]
     },
     "execution_count": 412,
     "metadata": {},
     "output_type": "execute_result"
    }
   ],
   "source": [
    "len(record_Hashes_Set)"
   ]
  },
  {
   "cell_type": "code",
   "execution_count": 413,
   "id": "96bddd30-b580-4dc8-9352-4d028d61a5b6",
   "metadata": {},
   "outputs": [
    {
     "data": {
      "text/plain": [
       "0"
      ]
     },
     "execution_count": 413,
     "metadata": {},
     "output_type": "execute_result"
    }
   ],
   "source": [
    "len({})"
   ]
  },
  {
   "cell_type": "code",
   "execution_count": 414,
   "id": "44b9dc8c-4501-4281-b808-9a42e91a6605",
   "metadata": {},
   "outputs": [
    {
     "data": {
      "text/plain": [
       "1"
      ]
     },
     "execution_count": 414,
     "metadata": {},
     "output_type": "execute_result"
    }
   ],
   "source": [
    "len({\"t\"})"
   ]
  },
  {
   "cell_type": "markdown",
   "id": "fc88b60b",
   "metadata": {},
   "source": [
    "# 2) Compare k-mer content of SV nodes to known references (Rv, all other nodes, etc)"
   ]
  },
  {
   "cell_type": "code",
   "execution_count": 415,
   "id": "b1a4dc96",
   "metadata": {
    "scrolled": true
   },
   "outputs": [
    {
     "name": "stderr",
     "output_type": "stream",
     "text": [
      "100%|██████████| 3138/3138 [00:01<00:00, 1784.47it/s]\n"
     ]
    }
   ],
   "source": [
    "NodeAnalysis_listOfRows = []\n",
    "\n",
    "\n",
    "for NodeID, NodeInfo in tqdm( MG_dictOf_NodeInfo.items() ) :\n",
    "    \n",
    "    record_Hashes_Set = NodeInfo[\"Kmer_Hashes_Set\"] \n",
    "               \n",
    "    Len_Seq = NodeInfo[\"Len\"]\n",
    "        \n",
    "    if len(record_Hashes_Set) != 0:\n",
    "        Record_Hash_JC_WiH37Rv = jaccard_containment_FromSets( record_Hashes_Set, H37Rv_Hashes_Set)\n",
    "        Record_Hash_JC_WiIS6110 = jaccard_containment_FromSets( record_Hashes_Set, IS6110_Ex1_Hashes_Set)\n",
    "\n",
    "        Record_Hash_JC_WiRv_InsSeqAndPhages = jaccard_containment_FromSets( record_Hashes_Set, Rv_MGEs_Hashes_Set)\n",
    "\n",
    "    else:\n",
    "        Record_Hash_JC_WiH37Rv = 0\n",
    "        Record_Hash_JC_WiIS6110 = 0\n",
    "        Record_Hash_JC_WiRv_InsSeqAndPhages = 0 \n",
    "             \n",
    "        if Len_Seq >= 31:\n",
    "            print(f\"No kmers were produced for segment: {NodeID}\")\n",
    "                \n",
    "    Status_SVNode = (NodeID in SV_NodeIDs_All)\n",
    "    \n",
    "    i_Row = (NodeID,\n",
    "             Len_Seq,\n",
    "             Record_Hash_JC_WiH37Rv,\n",
    "             Record_Hash_JC_WiIS6110,\n",
    "             Record_Hash_JC_WiRv_InsSeqAndPhages,\n",
    "             Status_SVNode)\n",
    "    \n",
    "    NodeAnalysis_listOfRows.append(i_Row)\n",
    "\n",
    "    \n",
    "MG_Nodes_KmerVsRefSets_DF = pd.DataFrame(NodeAnalysis_listOfRows)\n",
    "\n",
    "MG_Nodes_KmerVsRefSets_DF.columns = [\"NodeID\",\n",
    "                              \"SeqLength\",\n",
    "                              \"Jaccard_Cont_WiRv\",\n",
    "                              \"Jaccard_Cont_WiIS6110\",\n",
    "                              \"Jaccard_Cont_WiRv_InsSeqAndPhages\",\n",
    "                              \"IsSVNode\"]\n"
   ]
  },
  {
   "cell_type": "markdown",
   "id": "82c0f8fb",
   "metadata": {},
   "source": [
    "### Add a \"BubbleID\" column to the node-level analysis"
   ]
  },
  {
   "cell_type": "code",
   "execution_count": 416,
   "id": "2090cdc0",
   "metadata": {},
   "outputs": [
    {
     "data": {
      "text/plain": [
       "(3138, 7)"
      ]
     },
     "execution_count": 416,
     "metadata": {},
     "output_type": "execute_result"
    }
   ],
   "source": [
    "MG_Nodes_KmerVsRefSets_DF[\"BubbleID\"] = MG_Nodes_KmerVsRefSets_DF[\"NodeID\"].map(NodeID_ToBubbleID_Dict)\n",
    "MG_Nodes_KmerVsRefSets_DF[\"BubbleID\"] = MG_Nodes_KmerVsRefSets_DF[\"BubbleID\"] = MG_Nodes_KmerVsRefSets_DF[\"BubbleID\"].fillna(\"None\")\n",
    "MG_Nodes_KmerVsRefSets_DF.shape"
   ]
  },
  {
   "cell_type": "code",
   "execution_count": 417,
   "id": "49351fa6",
   "metadata": {},
   "outputs": [
    {
     "data": {
      "text/html": [
       "<div>\n",
       "<style scoped>\n",
       "    .dataframe tbody tr th:only-of-type {\n",
       "        vertical-align: middle;\n",
       "    }\n",
       "\n",
       "    .dataframe tbody tr th {\n",
       "        vertical-align: top;\n",
       "    }\n",
       "\n",
       "    .dataframe thead th {\n",
       "        text-align: right;\n",
       "    }\n",
       "</style>\n",
       "<table border=\"1\" class=\"dataframe\">\n",
       "  <thead>\n",
       "    <tr style=\"text-align: right;\">\n",
       "      <th></th>\n",
       "      <th>NodeID</th>\n",
       "      <th>SeqLength</th>\n",
       "      <th>Jaccard_Cont_WiRv</th>\n",
       "      <th>Jaccard_Cont_WiIS6110</th>\n",
       "      <th>Jaccard_Cont_WiRv_InsSeqAndPhages</th>\n",
       "      <th>IsSVNode</th>\n",
       "      <th>BubbleID</th>\n",
       "    </tr>\n",
       "  </thead>\n",
       "  <tbody>\n",
       "    <tr>\n",
       "      <th>0</th>\n",
       "      <td>s1</td>\n",
       "      <td>1533</td>\n",
       "      <td>1.0</td>\n",
       "      <td>0.0</td>\n",
       "      <td>0.000000</td>\n",
       "      <td>False</td>\n",
       "      <td>None</td>\n",
       "    </tr>\n",
       "    <tr>\n",
       "      <th>1</th>\n",
       "      <td>s2</td>\n",
       "      <td>58</td>\n",
       "      <td>1.0</td>\n",
       "      <td>0.0</td>\n",
       "      <td>0.000000</td>\n",
       "      <td>False</td>\n",
       "      <td>None</td>\n",
       "    </tr>\n",
       "    <tr>\n",
       "      <th>2</th>\n",
       "      <td>s3</td>\n",
       "      <td>56</td>\n",
       "      <td>1.0</td>\n",
       "      <td>0.0</td>\n",
       "      <td>0.000000</td>\n",
       "      <td>True</td>\n",
       "      <td>BubbleRegion_2</td>\n",
       "    </tr>\n",
       "    <tr>\n",
       "      <th>3</th>\n",
       "      <td>s4</td>\n",
       "      <td>5</td>\n",
       "      <td>0.0</td>\n",
       "      <td>0.0</td>\n",
       "      <td>0.000000</td>\n",
       "      <td>True</td>\n",
       "      <td>BubbleRegion_2</td>\n",
       "    </tr>\n",
       "    <tr>\n",
       "      <th>4</th>\n",
       "      <td>s5</td>\n",
       "      <td>11970</td>\n",
       "      <td>1.0</td>\n",
       "      <td>0.0</td>\n",
       "      <td>0.000000</td>\n",
       "      <td>False</td>\n",
       "      <td>None</td>\n",
       "    </tr>\n",
       "    <tr>\n",
       "      <th>5</th>\n",
       "      <td>s6</td>\n",
       "      <td>12847</td>\n",
       "      <td>1.0</td>\n",
       "      <td>0.0</td>\n",
       "      <td>0.000000</td>\n",
       "      <td>False</td>\n",
       "      <td>None</td>\n",
       "    </tr>\n",
       "    <tr>\n",
       "      <th>6</th>\n",
       "      <td>s7</td>\n",
       "      <td>1876</td>\n",
       "      <td>1.0</td>\n",
       "      <td>0.0</td>\n",
       "      <td>0.000000</td>\n",
       "      <td>True</td>\n",
       "      <td>BubbleRegion_4</td>\n",
       "    </tr>\n",
       "    <tr>\n",
       "      <th>7</th>\n",
       "      <td>s8</td>\n",
       "      <td>542</td>\n",
       "      <td>1.0</td>\n",
       "      <td>0.0</td>\n",
       "      <td>0.000000</td>\n",
       "      <td>False</td>\n",
       "      <td>None</td>\n",
       "    </tr>\n",
       "    <tr>\n",
       "      <th>8</th>\n",
       "      <td>s9</td>\n",
       "      <td>5979</td>\n",
       "      <td>1.0</td>\n",
       "      <td>0.0</td>\n",
       "      <td>0.030761</td>\n",
       "      <td>False</td>\n",
       "      <td>None</td>\n",
       "    </tr>\n",
       "    <tr>\n",
       "      <th>9</th>\n",
       "      <td>s10</td>\n",
       "      <td>4133</td>\n",
       "      <td>1.0</td>\n",
       "      <td>0.0</td>\n",
       "      <td>0.000000</td>\n",
       "      <td>False</td>\n",
       "      <td>None</td>\n",
       "    </tr>\n",
       "  </tbody>\n",
       "</table>\n",
       "</div>"
      ],
      "text/plain": [
       "  NodeID  SeqLength  Jaccard_Cont_WiRv  Jaccard_Cont_WiIS6110  Jaccard_Cont_WiRv_InsSeqAndPhages  IsSVNode        BubbleID\n",
       "0     s1       1533                1.0                    0.0                           0.000000     False            None\n",
       "1     s2         58                1.0                    0.0                           0.000000     False            None\n",
       "2     s3         56                1.0                    0.0                           0.000000      True  BubbleRegion_2\n",
       "3     s4          5                0.0                    0.0                           0.000000      True  BubbleRegion_2\n",
       "4     s5      11970                1.0                    0.0                           0.000000     False            None\n",
       "5     s6      12847                1.0                    0.0                           0.000000     False            None\n",
       "6     s7       1876                1.0                    0.0                           0.000000      True  BubbleRegion_4\n",
       "7     s8        542                1.0                    0.0                           0.000000     False            None\n",
       "8     s9       5979                1.0                    0.0                           0.030761     False            None\n",
       "9    s10       4133                1.0                    0.0                           0.000000     False            None"
      ]
     },
     "execution_count": 417,
     "metadata": {},
     "output_type": "execute_result"
    }
   ],
   "source": [
    "MG_Nodes_KmerVsRefSets_DF.head(10)"
   ]
  },
  {
   "cell_type": "code",
   "execution_count": 418,
   "id": "45d17b1d",
   "metadata": {},
   "outputs": [
    {
     "data": {
      "text/plain": [
       "(3138, 7)"
      ]
     },
     "execution_count": 418,
     "metadata": {},
     "output_type": "execute_result"
    }
   ],
   "source": [
    "MG_Nodes_KmerVsRefSets_DF.shape"
   ]
  },
  {
   "cell_type": "code",
   "execution_count": null,
   "id": "72a6d010",
   "metadata": {},
   "outputs": [],
   "source": []
  },
  {
   "cell_type": "markdown",
   "id": "d29ccc56",
   "metadata": {},
   "source": [
    "## Output Minigraph NODE Kmer Analysis to TSV"
   ]
  },
  {
   "cell_type": "code",
   "execution_count": 419,
   "id": "029f9550",
   "metadata": {},
   "outputs": [
    {
     "name": "stdout",
     "output_type": "stream",
     "text": [
      "mkdir: cannot create directory ‘../../Data/MtbPangenomeAnalysis_SetV3’: File exists\n"
     ]
    }
   ],
   "source": [
    "PangenomeAnalysis_Dir = \"../../Data/MtbPangenomeAnalysis_SetV3\"\n",
    "\n",
    "!mkdir $PangenomeAnalysis_Dir\n",
    "\n",
    "MG_Node_KmerVsRefSets_TSV = f\"{PangenomeAnalysis_Dir}/Minigraph.NodeAnalysis.151CI.NodeVsSetsOfInterest.V1.tsv\"     \n",
    "\n",
    "MG_Nodes_KmerVsRefSets_DF.to_csv(MG_Node_KmerVsRefSets_TSV, sep = \"\\t\", index = False)\n"
   ]
  },
  {
   "cell_type": "code",
   "execution_count": 420,
   "id": "517f6bf7",
   "metadata": {},
   "outputs": [
    {
     "name": "stdout",
     "output_type": "stream",
     "text": [
      "Minigraph.NodeAnalysis.151CI.AllVsAll.KmerAnalysis.V1.tsv.gz\n",
      "Minigraph.NodeAnalysis.151CI.NodeVsSetsOfInterest.V1.tsv\n"
     ]
    }
   ],
   "source": [
    "!ls -1 $PangenomeAnalysis_Dir"
   ]
  },
  {
   "cell_type": "code",
   "execution_count": 421,
   "id": "4a9c4e2d-07c7-4679-aea6-c27ae79fee8c",
   "metadata": {},
   "outputs": [
    {
     "name": "stdout",
     "output_type": "stream",
     "text": [
      "do_ypcall: clnt_call: RPC: Timed out\n",
      "-rw-r--r-- 1 mm774 farhat 144K Mar  5 16:00 ../../Data/MtbPangenomeAnalysis_SetV3/Minigraph.NodeAnalysis.151CI.NodeVsSetsOfInterest.V1.tsv\n"
     ]
    }
   ],
   "source": [
    "!ls -alh $MG_Node_KmerAnalysis_TSV"
   ]
  },
  {
   "cell_type": "code",
   "execution_count": 422,
   "id": "b1a9d255",
   "metadata": {},
   "outputs": [
    {
     "name": "stdout",
     "output_type": "stream",
     "text": [
      "3139 ../../Data/MtbPangenomeAnalysis_SetV3/Minigraph.NodeAnalysis.151CI.NodeVsSetsOfInterest.V1.tsv\n"
     ]
    }
   ],
   "source": [
    "!wc -l $MG_Node_KmerAnalysis_TSV"
   ]
  },
  {
   "cell_type": "markdown",
   "id": "49417804",
   "metadata": {},
   "source": [
    "### Test parsing of NODE Kmer Analysis TSV"
   ]
  },
  {
   "cell_type": "code",
   "execution_count": 423,
   "id": "18174c6c",
   "metadata": {},
   "outputs": [],
   "source": [
    "PangenomeAnalysis_Dir = \"../../Data/MtbPangenomeAnalysis_SetV3\"\n",
    "\n",
    "MG_Node_KmerVsRefSets_TSV = f\"{PangenomeAnalysis_Dir}/Minigraph.NodeAnalysis.151CI.NodeVsSetsOfInterest.V1.tsv\"     \n"
   ]
  },
  {
   "cell_type": "code",
   "execution_count": 424,
   "id": "418dddca",
   "metadata": {},
   "outputs": [
    {
     "data": {
      "text/plain": [
       "(3138, 7)"
      ]
     },
     "execution_count": 424,
     "metadata": {},
     "output_type": "execute_result"
    }
   ],
   "source": [
    "MG_Nodes_KmerVsRefSets_DF = pd.read_csv(MG_Node_KmerVsRefSets_TSV, sep = \"\\t\" )\n",
    "MG_Nodes_KmerVsRefSets_DF.shape  "
   ]
  },
  {
   "cell_type": "code",
   "execution_count": 425,
   "id": "896f9a27",
   "metadata": {},
   "outputs": [
    {
     "data": {
      "text/html": [
       "<div>\n",
       "<style scoped>\n",
       "    .dataframe tbody tr th:only-of-type {\n",
       "        vertical-align: middle;\n",
       "    }\n",
       "\n",
       "    .dataframe tbody tr th {\n",
       "        vertical-align: top;\n",
       "    }\n",
       "\n",
       "    .dataframe thead th {\n",
       "        text-align: right;\n",
       "    }\n",
       "</style>\n",
       "<table border=\"1\" class=\"dataframe\">\n",
       "  <thead>\n",
       "    <tr style=\"text-align: right;\">\n",
       "      <th></th>\n",
       "      <th>NodeID</th>\n",
       "      <th>SeqLength</th>\n",
       "      <th>Jaccard_Cont_WiRv</th>\n",
       "      <th>Jaccard_Cont_WiIS6110</th>\n",
       "      <th>Jaccard_Cont_WiRv_InsSeqAndPhages</th>\n",
       "      <th>IsSVNode</th>\n",
       "      <th>BubbleID</th>\n",
       "    </tr>\n",
       "  </thead>\n",
       "  <tbody>\n",
       "    <tr>\n",
       "      <th>0</th>\n",
       "      <td>s1</td>\n",
       "      <td>1533</td>\n",
       "      <td>1.0</td>\n",
       "      <td>0.0</td>\n",
       "      <td>0.0</td>\n",
       "      <td>False</td>\n",
       "      <td>None</td>\n",
       "    </tr>\n",
       "    <tr>\n",
       "      <th>1</th>\n",
       "      <td>s2</td>\n",
       "      <td>58</td>\n",
       "      <td>1.0</td>\n",
       "      <td>0.0</td>\n",
       "      <td>0.0</td>\n",
       "      <td>False</td>\n",
       "      <td>None</td>\n",
       "    </tr>\n",
       "    <tr>\n",
       "      <th>2</th>\n",
       "      <td>s3</td>\n",
       "      <td>56</td>\n",
       "      <td>1.0</td>\n",
       "      <td>0.0</td>\n",
       "      <td>0.0</td>\n",
       "      <td>True</td>\n",
       "      <td>BubbleRegion_2</td>\n",
       "    </tr>\n",
       "    <tr>\n",
       "      <th>3</th>\n",
       "      <td>s4</td>\n",
       "      <td>5</td>\n",
       "      <td>0.0</td>\n",
       "      <td>0.0</td>\n",
       "      <td>0.0</td>\n",
       "      <td>True</td>\n",
       "      <td>BubbleRegion_2</td>\n",
       "    </tr>\n",
       "    <tr>\n",
       "      <th>4</th>\n",
       "      <td>s5</td>\n",
       "      <td>11970</td>\n",
       "      <td>1.0</td>\n",
       "      <td>0.0</td>\n",
       "      <td>0.0</td>\n",
       "      <td>False</td>\n",
       "      <td>None</td>\n",
       "    </tr>\n",
       "  </tbody>\n",
       "</table>\n",
       "</div>"
      ],
      "text/plain": [
       "  NodeID  SeqLength  Jaccard_Cont_WiRv  Jaccard_Cont_WiIS6110  Jaccard_Cont_WiRv_InsSeqAndPhages  IsSVNode        BubbleID\n",
       "0     s1       1533                1.0                    0.0                                0.0     False            None\n",
       "1     s2         58                1.0                    0.0                                0.0     False            None\n",
       "2     s3         56                1.0                    0.0                                0.0      True  BubbleRegion_2\n",
       "3     s4          5                0.0                    0.0                                0.0      True  BubbleRegion_2\n",
       "4     s5      11970                1.0                    0.0                                0.0     False            None"
      ]
     },
     "execution_count": 425,
     "metadata": {},
     "output_type": "execute_result"
    }
   ],
   "source": [
    "MG_Nodes_KmerVsRefSets_DF.head()"
   ]
  },
  {
   "cell_type": "code",
   "execution_count": 426,
   "id": "2e24b67e",
   "metadata": {},
   "outputs": [
    {
     "data": {
      "text/plain": [
       "count    3138.000000\n",
       "mean        0.721741\n",
       "std         0.435274\n",
       "min         0.000000\n",
       "25%         0.036899\n",
       "50%         1.000000\n",
       "75%         1.000000\n",
       "max         1.000000\n",
       "Name: Jaccard_Cont_WiRv, dtype: float64"
      ]
     },
     "execution_count": 426,
     "metadata": {},
     "output_type": "execute_result"
    }
   ],
   "source": [
    "MG_Nodes_KmerVsRefSets_DF[\"Jaccard_Cont_WiRv\"].describe()"
   ]
  },
  {
   "cell_type": "code",
   "execution_count": 427,
   "id": "e5646aa6",
   "metadata": {},
   "outputs": [],
   "source": [
    "#!ls -1 $PangenomeAnalysis_Dir/"
   ]
  },
  {
   "cell_type": "code",
   "execution_count": 428,
   "id": "49e6bb53",
   "metadata": {},
   "outputs": [
    {
     "name": "stdout",
     "output_type": "stream",
     "text": [
      "NodeID\tSeqLength\tJaccard_Cont_WiRv\tJaccard_Cont_WiIS6110\tJaccard_Cont_WiRv_InsSeqAndPhages\tIsSVNode\tBubbleID\n",
      "s1\t1533\t1.0\t0.0\t0.0\tFalse\tNone\n",
      "s2\t58\t1.0\t0.0\t0.0\tFalse\tNone\n",
      "s3\t56\t1.0\t0.0\t0.0\tTrue\tBubbleRegion_2\n",
      "s4\t5\t0.0\t0.0\t0.0\tTrue\tBubbleRegion_2\n",
      "s5\t11970\t1.0\t0.0\t0.0\tFalse\tNone\n",
      "s6\t12847\t1.0\t0.0\t0.0\tFalse\tNone\n",
      "s7\t1876\t1.0\t0.0\t0.0\tTrue\tBubbleRegion_4\n",
      "s8\t542\t1.0\t0.0\t0.0\tFalse\tNone\n",
      "s9\t5979\t1.0\t0.0\t0.030761472516389308\tFalse\tNone\n"
     ]
    }
   ],
   "source": [
    "!head $MG_Node_KmerAnalysis_TSV"
   ]
  },
  {
   "cell_type": "code",
   "execution_count": null,
   "id": "84b69c89",
   "metadata": {},
   "outputs": [],
   "source": []
  },
  {
   "cell_type": "code",
   "execution_count": null,
   "id": "fc8e736d",
   "metadata": {},
   "outputs": [],
   "source": []
  },
  {
   "cell_type": "markdown",
   "id": "07cd8217",
   "metadata": {},
   "source": [
    "# Reparse 2 DFs together"
   ]
  },
  {
   "cell_type": "code",
   "execution_count": 429,
   "id": "b3ff0509",
   "metadata": {},
   "outputs": [],
   "source": [
    "PangenomeAnalysis_Dir = \"../../Data/MtbPangenomeAnalysis_SetV3\"\n",
    "\n",
    "MG_AvA_Node_KmerAnalysis_TSV_GZ = f\"{PangenomeAnalysis_Dir}/Minigraph.NodeAnalysis.151CI.AllVsAll.KmerAnalysis.V1.tsv.gz\"     \n",
    "\n",
    "MG_Node_KmerVsRefSets_TSV = f\"{PangenomeAnalysis_Dir}/Minigraph.NodeAnalysis.151CI.NodeVsSetsOfInterest.V1.tsv\"     \n",
    "\n"
   ]
  },
  {
   "cell_type": "code",
   "execution_count": 430,
   "id": "6ace8162",
   "metadata": {},
   "outputs": [
    {
     "data": {
      "text/plain": [
       "(123104, 6)"
      ]
     },
     "execution_count": 430,
     "metadata": {},
     "output_type": "execute_result"
    }
   ],
   "source": [
    "AvA_Nodes_Trim_DF = pd.read_csv(MG_AvA_Node_KmerAnalysis_TSV_GZ, sep = \"\\t\" )\n",
    "AvA_Nodes_Trim_DF.shape"
   ]
  },
  {
   "cell_type": "code",
   "execution_count": 431,
   "id": "f28d7cbd",
   "metadata": {},
   "outputs": [
    {
     "data": {
      "text/html": [
       "<div>\n",
       "<style scoped>\n",
       "    .dataframe tbody tr th:only-of-type {\n",
       "        vertical-align: middle;\n",
       "    }\n",
       "\n",
       "    .dataframe tbody tr th {\n",
       "        vertical-align: top;\n",
       "    }\n",
       "\n",
       "    .dataframe thead th {\n",
       "        text-align: right;\n",
       "    }\n",
       "</style>\n",
       "<table border=\"1\" class=\"dataframe\">\n",
       "  <thead>\n",
       "    <tr style=\"text-align: right;\">\n",
       "      <th></th>\n",
       "      <th>RecordID_1</th>\n",
       "      <th>RecordID_2</th>\n",
       "      <th>Record1_Len</th>\n",
       "      <th>Record2_Len</th>\n",
       "      <th>JaccardSim</th>\n",
       "      <th>JaccardContain</th>\n",
       "    </tr>\n",
       "  </thead>\n",
       "  <tbody>\n",
       "    <tr>\n",
       "      <th>0</th>\n",
       "      <td>s3</td>\n",
       "      <td>s2959</td>\n",
       "      <td>56</td>\n",
       "      <td>61</td>\n",
       "      <td>0.781250</td>\n",
       "      <td>0.961538</td>\n",
       "    </tr>\n",
       "    <tr>\n",
       "      <th>1</th>\n",
       "      <td>s7</td>\n",
       "      <td>s2247</td>\n",
       "      <td>1876</td>\n",
       "      <td>42</td>\n",
       "      <td>0.006501</td>\n",
       "      <td>0.006501</td>\n",
       "    </tr>\n",
       "    <tr>\n",
       "      <th>2</th>\n",
       "      <td>s8</td>\n",
       "      <td>s2823</td>\n",
       "      <td>542</td>\n",
       "      <td>87</td>\n",
       "      <td>0.096339</td>\n",
       "      <td>0.097656</td>\n",
       "    </tr>\n",
       "    <tr>\n",
       "      <th>3</th>\n",
       "      <td>s13</td>\n",
       "      <td>s2037</td>\n",
       "      <td>24063</td>\n",
       "      <td>49</td>\n",
       "      <td>0.000208</td>\n",
       "      <td>0.000208</td>\n",
       "    </tr>\n",
       "    <tr>\n",
       "      <th>4</th>\n",
       "      <td>s13</td>\n",
       "      <td>s2039</td>\n",
       "      <td>24063</td>\n",
       "      <td>114</td>\n",
       "      <td>0.000208</td>\n",
       "      <td>0.000208</td>\n",
       "    </tr>\n",
       "  </tbody>\n",
       "</table>\n",
       "</div>"
      ],
      "text/plain": [
       "  RecordID_1 RecordID_2  Record1_Len  Record2_Len  JaccardSim  JaccardContain\n",
       "0         s3      s2959           56           61    0.781250        0.961538\n",
       "1         s7      s2247         1876           42    0.006501        0.006501\n",
       "2         s8      s2823          542           87    0.096339        0.097656\n",
       "3        s13      s2037        24063           49    0.000208        0.000208\n",
       "4        s13      s2039        24063          114    0.000208        0.000208"
      ]
     },
     "execution_count": 431,
     "metadata": {},
     "output_type": "execute_result"
    }
   ],
   "source": [
    "AvA_Nodes_Trim_DF.head()"
   ]
  },
  {
   "cell_type": "code",
   "execution_count": 432,
   "id": "4e047560",
   "metadata": {},
   "outputs": [
    {
     "data": {
      "text/plain": [
       "(3138, 7)"
      ]
     },
     "execution_count": 432,
     "metadata": {},
     "output_type": "execute_result"
    }
   ],
   "source": [
    "MG_Nodes_KmerVsRefSets_DF = pd.read_csv(MG_Node_KmerAnalysis_TSV, sep = \"\\t\" )\n",
    "MG_Nodes_KmerVsRefSets_DF.shape"
   ]
  },
  {
   "cell_type": "code",
   "execution_count": 433,
   "id": "e8d56865",
   "metadata": {},
   "outputs": [
    {
     "data": {
      "text/html": [
       "<div>\n",
       "<style scoped>\n",
       "    .dataframe tbody tr th:only-of-type {\n",
       "        vertical-align: middle;\n",
       "    }\n",
       "\n",
       "    .dataframe tbody tr th {\n",
       "        vertical-align: top;\n",
       "    }\n",
       "\n",
       "    .dataframe thead th {\n",
       "        text-align: right;\n",
       "    }\n",
       "</style>\n",
       "<table border=\"1\" class=\"dataframe\">\n",
       "  <thead>\n",
       "    <tr style=\"text-align: right;\">\n",
       "      <th></th>\n",
       "      <th>NodeID</th>\n",
       "      <th>SeqLength</th>\n",
       "      <th>Jaccard_Cont_WiRv</th>\n",
       "      <th>Jaccard_Cont_WiIS6110</th>\n",
       "      <th>Jaccard_Cont_WiRv_InsSeqAndPhages</th>\n",
       "      <th>IsSVNode</th>\n",
       "      <th>BubbleID</th>\n",
       "    </tr>\n",
       "  </thead>\n",
       "  <tbody>\n",
       "    <tr>\n",
       "      <th>0</th>\n",
       "      <td>s1</td>\n",
       "      <td>1533</td>\n",
       "      <td>1.0</td>\n",
       "      <td>0.0</td>\n",
       "      <td>0.0</td>\n",
       "      <td>False</td>\n",
       "      <td>None</td>\n",
       "    </tr>\n",
       "    <tr>\n",
       "      <th>1</th>\n",
       "      <td>s2</td>\n",
       "      <td>58</td>\n",
       "      <td>1.0</td>\n",
       "      <td>0.0</td>\n",
       "      <td>0.0</td>\n",
       "      <td>False</td>\n",
       "      <td>None</td>\n",
       "    </tr>\n",
       "    <tr>\n",
       "      <th>2</th>\n",
       "      <td>s3</td>\n",
       "      <td>56</td>\n",
       "      <td>1.0</td>\n",
       "      <td>0.0</td>\n",
       "      <td>0.0</td>\n",
       "      <td>True</td>\n",
       "      <td>BubbleRegion_2</td>\n",
       "    </tr>\n",
       "    <tr>\n",
       "      <th>3</th>\n",
       "      <td>s4</td>\n",
       "      <td>5</td>\n",
       "      <td>0.0</td>\n",
       "      <td>0.0</td>\n",
       "      <td>0.0</td>\n",
       "      <td>True</td>\n",
       "      <td>BubbleRegion_2</td>\n",
       "    </tr>\n",
       "    <tr>\n",
       "      <th>4</th>\n",
       "      <td>s5</td>\n",
       "      <td>11970</td>\n",
       "      <td>1.0</td>\n",
       "      <td>0.0</td>\n",
       "      <td>0.0</td>\n",
       "      <td>False</td>\n",
       "      <td>None</td>\n",
       "    </tr>\n",
       "  </tbody>\n",
       "</table>\n",
       "</div>"
      ],
      "text/plain": [
       "  NodeID  SeqLength  Jaccard_Cont_WiRv  Jaccard_Cont_WiIS6110  Jaccard_Cont_WiRv_InsSeqAndPhages  IsSVNode        BubbleID\n",
       "0     s1       1533                1.0                    0.0                                0.0     False            None\n",
       "1     s2         58                1.0                    0.0                                0.0     False            None\n",
       "2     s3         56                1.0                    0.0                                0.0      True  BubbleRegion_2\n",
       "3     s4          5                0.0                    0.0                                0.0      True  BubbleRegion_2\n",
       "4     s5      11970                1.0                    0.0                                0.0     False            None"
      ]
     },
     "execution_count": 433,
     "metadata": {},
     "output_type": "execute_result"
    }
   ],
   "source": [
    "MG_Nodes_KmerVsRefSets_DF.head()"
   ]
  },
  {
   "cell_type": "code",
   "execution_count": null,
   "id": "5bef4135",
   "metadata": {},
   "outputs": [],
   "source": []
  },
  {
   "cell_type": "code",
   "execution_count": null,
   "id": "01c86cad-5362-40d3-87dd-e934c64f2a80",
   "metadata": {},
   "outputs": [],
   "source": []
  },
  {
   "cell_type": "code",
   "execution_count": null,
   "id": "43e23096-d467-4e1c-8d05-777a29fa8253",
   "metadata": {},
   "outputs": [],
   "source": []
  }
 ],
 "metadata": {
  "kernelspec": {
   "display_name": "py37_S",
   "language": "python",
   "name": "py37_s"
  },
  "language_info": {
   "codemirror_mode": {
    "name": "ipython",
    "version": 3
   },
   "file_extension": ".py",
   "mimetype": "text/x-python",
   "name": "python",
   "nbconvert_exporter": "python",
   "pygments_lexer": "ipython3",
   "version": "3.7.3"
  }
 },
 "nbformat": 4,
 "nbformat_minor": 5
}
