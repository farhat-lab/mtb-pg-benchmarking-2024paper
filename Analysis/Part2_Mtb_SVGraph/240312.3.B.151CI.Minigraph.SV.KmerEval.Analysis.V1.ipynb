{
 "cells": [
  {
   "cell_type": "markdown",
   "id": "5c9635fd-12e3-413c-86e1-7d54173cd6c0",
   "metadata": {},
   "source": [
    "# Minigraph Mtb SV Pan-Genome Evaluation\n",
    "## Part 2: Sequence content analysis\n",
    "\n",
    "This notebook contains the code to parsed in processed node info from the SV Mtb pan-genome graph.\n"
   ]
  },
  {
   "cell_type": "code",
   "execution_count": null,
   "id": "95fa432a-74ff-4c88-b830-f5376b428104",
   "metadata": {},
   "outputs": [],
   "source": []
  },
  {
   "cell_type": "markdown",
   "id": "1e441937-e1c6-4a5d-a0dd-e6944d4c3cd4",
   "metadata": {
    "toc-hr-collapsed": true
   },
   "source": [
    "### Import Statements"
   ]
  },
  {
   "cell_type": "code",
   "execution_count": 121,
   "id": "f74ad133-38d6-4835-aef9-7944f2138bee",
   "metadata": {},
   "outputs": [],
   "source": [
    "import numpy as np\n",
    "import pandas as pd\n",
    "import scipy.stats\n",
    "\n",
    "from tqdm import tqdm\n",
    "import matplotlib.pyplot as plt\n",
    "import seaborn as sns\n",
    "\n",
    "%matplotlib inline"
   ]
  },
  {
   "cell_type": "code",
   "execution_count": 122,
   "id": "bf56d291-8137-4124-bc40-7ed49dfc5b91",
   "metadata": {},
   "outputs": [],
   "source": [
    "# https://bioframe.readthedocs.io/en/latest/guide-intervalops.html\n",
    "import bioframe as bf\n"
   ]
  },
  {
   "cell_type": "code",
   "execution_count": 123,
   "id": "7533ccf1-672a-4225-b805-ab992e7e9526",
   "metadata": {},
   "outputs": [],
   "source": [
    "import time"
   ]
  },
  {
   "cell_type": "code",
   "execution_count": 124,
   "id": "2ce4bcfe-34bf-45db-b422-3129565b6fc0",
   "metadata": {},
   "outputs": [],
   "source": [
    "import ast"
   ]
  },
  {
   "cell_type": "markdown",
   "id": "50ca430e-fd89-4dab-be8a-fa5a91582416",
   "metadata": {},
   "source": [
    "#### Pandas Viewing Settings"
   ]
  },
  {
   "cell_type": "code",
   "execution_count": 125,
   "id": "74fe7679-e1c9-4ef7-9b07-578bcd669be3",
   "metadata": {},
   "outputs": [],
   "source": [
    "pd.set_option('display.max_rows', 500)\n",
    "pd.set_option('display.max_columns', 500)\n",
    "pd.set_option('display.width', 1000)"
   ]
  },
  {
   "cell_type": "code",
   "execution_count": null,
   "id": "1ed35d81-3f50-4a4e-84c7-dcd197fbd4d1",
   "metadata": {},
   "outputs": [],
   "source": []
  },
  {
   "cell_type": "markdown",
   "id": "1819086e-7d8e-467e-8290-6322e3a6cd41",
   "metadata": {},
   "source": [
    "# Import/parse processed H37rv genome annotations"
   ]
  },
  {
   "cell_type": "code",
   "execution_count": 126,
   "id": "c0e352b9-cc42-471f-b6ac-eb6741172d0f",
   "metadata": {},
   "outputs": [],
   "source": [
    "RepoRef_Dir = \"../../References\"\n",
    "\n",
    "AnnotatedGenes_And_IntergenicRegions_RepoRef_Dir = f\"{RepoRef_Dir}/201027_H37rv_AnnotatedGenes_And_IntergenicRegions\"\n",
    "H37Rv_GenomeAnnotations_Genes_TSV = f\"{AnnotatedGenes_And_IntergenicRegions_RepoRef_Dir}/H37Rv_GenomeAnnotations.Genes.tsv\"\n",
    "\n",
    "## H37Rv Gene Annotations TSV\n",
    "H37Rv_GenomeAnno_Genes_DF = pd.read_csv(H37Rv_GenomeAnnotations_Genes_TSV, sep = \"\\t\")\n",
    "H37Rv_GeneInfo_Subset_DF = H37Rv_GenomeAnno_Genes_DF[[\"H37rv_GeneID\", \"Symbol\", \"Feature\", \"Functional_Category\", \"Is_Pseudogene\", \"Product\", \"PEandPPE_Subfamily\", \"ExcludedGroup_Category\"]]\n",
    "\n",
    "RvID_To_Symbol_Dict = dict(H37Rv_GeneInfo_Subset_DF[['H37rv_GeneID', 'Symbol']].values)\n",
    "Symbol_To_FuncCat_Dict = dict(H37Rv_GeneInfo_Subset_DF[['Symbol', 'Functional_Category']].values)\n"
   ]
  },
  {
   "cell_type": "code",
   "execution_count": 127,
   "id": "f9256f85-4f94-4697-8145-a8a3dda92aba",
   "metadata": {},
   "outputs": [
    {
     "data": {
      "text/html": [
       "<div>\n",
       "<style scoped>\n",
       "    .dataframe tbody tr th:only-of-type {\n",
       "        vertical-align: middle;\n",
       "    }\n",
       "\n",
       "    .dataframe tbody tr th {\n",
       "        vertical-align: top;\n",
       "    }\n",
       "\n",
       "    .dataframe thead th {\n",
       "        text-align: right;\n",
       "    }\n",
       "</style>\n",
       "<table border=\"1\" class=\"dataframe\">\n",
       "  <thead>\n",
       "    <tr style=\"text-align: right;\">\n",
       "      <th></th>\n",
       "      <th>Chrom</th>\n",
       "      <th>Start</th>\n",
       "      <th>End</th>\n",
       "      <th>Strand</th>\n",
       "      <th>H37rv_GeneID</th>\n",
       "      <th>Symbol</th>\n",
       "      <th>Feature</th>\n",
       "      <th>Functional_Category</th>\n",
       "      <th>Is_Pseudogene</th>\n",
       "      <th>Product</th>\n",
       "      <th>PEandPPE_Subfamily</th>\n",
       "      <th>ExcludedGroup_Category</th>\n",
       "    </tr>\n",
       "  </thead>\n",
       "  <tbody>\n",
       "    <tr>\n",
       "      <th>0</th>\n",
       "      <td>NC_000962.3</td>\n",
       "      <td>0</td>\n",
       "      <td>1524</td>\n",
       "      <td>+</td>\n",
       "      <td>Rv0001</td>\n",
       "      <td>dnaA</td>\n",
       "      <td>CDS</td>\n",
       "      <td>information pathways</td>\n",
       "      <td>No</td>\n",
       "      <td>Chromosomal replication initiator protein DnaA</td>\n",
       "      <td>None</td>\n",
       "      <td>NotExcluded</td>\n",
       "    </tr>\n",
       "    <tr>\n",
       "      <th>1</th>\n",
       "      <td>NC_000962.3</td>\n",
       "      <td>2051</td>\n",
       "      <td>3260</td>\n",
       "      <td>+</td>\n",
       "      <td>Rv0002</td>\n",
       "      <td>dnaN</td>\n",
       "      <td>CDS</td>\n",
       "      <td>information pathways</td>\n",
       "      <td>No</td>\n",
       "      <td>DNA polymerase III (beta chain) DnaN (DNA nucl...</td>\n",
       "      <td>None</td>\n",
       "      <td>NotExcluded</td>\n",
       "    </tr>\n",
       "    <tr>\n",
       "      <th>2</th>\n",
       "      <td>NC_000962.3</td>\n",
       "      <td>3279</td>\n",
       "      <td>4437</td>\n",
       "      <td>+</td>\n",
       "      <td>Rv0003</td>\n",
       "      <td>recF</td>\n",
       "      <td>CDS</td>\n",
       "      <td>information pathways</td>\n",
       "      <td>No</td>\n",
       "      <td>DNA replication and repair protein RecF (singl...</td>\n",
       "      <td>None</td>\n",
       "      <td>NotExcluded</td>\n",
       "    </tr>\n",
       "  </tbody>\n",
       "</table>\n",
       "</div>"
      ],
      "text/plain": [
       "         Chrom  Start   End Strand H37rv_GeneID Symbol Feature   Functional_Category Is_Pseudogene                                            Product PEandPPE_Subfamily ExcludedGroup_Category\n",
       "0  NC_000962.3      0  1524      +       Rv0001   dnaA     CDS  information pathways            No     Chromosomal replication initiator protein DnaA               None            NotExcluded\n",
       "1  NC_000962.3   2051  3260      +       Rv0002   dnaN     CDS  information pathways            No  DNA polymerase III (beta chain) DnaN (DNA nucl...               None            NotExcluded\n",
       "2  NC_000962.3   3279  4437      +       Rv0003   recF     CDS  information pathways            No  DNA replication and repair protein RecF (singl...               None            NotExcluded"
      ]
     },
     "execution_count": 127,
     "metadata": {},
     "output_type": "execute_result"
    }
   ],
   "source": [
    "H37Rv_GenomeAnno_Genes_DF.head(3)"
   ]
  },
  {
   "cell_type": "code",
   "execution_count": null,
   "id": "36bf0966-8671-460f-9383-2f29618d1493",
   "metadata": {},
   "outputs": [],
   "source": []
  },
  {
   "cell_type": "code",
   "execution_count": null,
   "id": "4d4efadf-5b1d-419b-ac99-45080e810f71",
   "metadata": {},
   "outputs": [],
   "source": []
  },
  {
   "cell_type": "markdown",
   "id": "d2eb1497-f27c-436b-bf15-4b505f67e6da",
   "metadata": {
    "toc-hr-collapsed": true
   },
   "source": [
    "# Parse sample metadata & preprocessed genome info/results"
   ]
  },
  {
   "cell_type": "code",
   "execution_count": 128,
   "id": "3516ec09-fd85-4eea-837c-6cd5ee5b029c",
   "metadata": {},
   "outputs": [],
   "source": [
    "Repo_DataDir = \"../../Data\"\n",
    "InputAsmPath_Dir = f\"{Repo_DataDir}/231121.InputAsmTSVs.MtbSetV3.151CI\"\n",
    "\n",
    "MtbSetV3_151CI_InputAsmPATHs_TSV = f\"{InputAsmPath_Dir}/231121.MtbSetV3.151CI.HybridAndSRAsm.FAPATHs.V1.tsv\"\n",
    "MtbSetV3_151CI_AsmSumm_TSV = f\"{InputAsmPath_Dir}/231121.MtbSetV3.151CI.HybridAsm.AsmSummary.V2.tsv\""
   ]
  },
  {
   "cell_type": "markdown",
   "id": "0c1575a7-746e-4e71-8949-a551474a9445",
   "metadata": {},
   "source": [
    "## Parse sample Metadata (N = 151)"
   ]
  },
  {
   "cell_type": "code",
   "execution_count": 129,
   "id": "f9475836-75ff-430c-b965-c76f0483743e",
   "metadata": {},
   "outputs": [
    {
     "data": {
      "text/plain": [
       "(151, 7)"
      ]
     },
     "execution_count": 129,
     "metadata": {},
     "output_type": "execute_result"
    }
   ],
   "source": [
    "WGA151CI_AsmSummary_DF = pd.read_csv(MtbSetV3_151CI_AsmSumm_TSV, sep = \"\\t\")\n",
    "\n",
    "SampleIDs_151CI_SOI = list( WGA151CI_AsmSummary_DF[\"SampleID\"].values )\n",
    "WGA151CI_SampleIDs = SampleIDs_151CI_SOI\n",
    "\n",
    "ID_To_PrimLineage_Dict = dict(WGA151CI_AsmSummary_DF[['SampleID', 'PrimaryLineage']].values)\n",
    "ID_To_SubLineage_Dict = dict( WGA151CI_AsmSummary_DF[[\"SampleID\", \"Lineage\"]].values)\n",
    "ID_To_Dataset_Dict = dict(WGA151CI_AsmSummary_DF[['SampleID', 'Dataset_Tag']].values)\n",
    "WGA151CI_AsmSummary_DF.shape"
   ]
  },
  {
   "cell_type": "code",
   "execution_count": null,
   "id": "0848ae63-a896-45f4-8d8c-921ea68f59ef",
   "metadata": {},
   "outputs": [],
   "source": []
  },
  {
   "cell_type": "code",
   "execution_count": null,
   "id": "92b4ca80-4d64-4c3f-a736-c1a1b31a868a",
   "metadata": {},
   "outputs": [],
   "source": []
  },
  {
   "cell_type": "markdown",
   "id": "87f4dce2-0fef-42c5-85af-c5da8fb38944",
   "metadata": {},
   "source": [
    "# Define output dir of the Mtb-WGA-SMK processing pipeline"
   ]
  },
  {
   "cell_type": "code",
   "execution_count": 130,
   "id": "558abbeb-370a-4f9d-ac96-492623a81874",
   "metadata": {},
   "outputs": [],
   "source": [
    "WGA_SMK_Outputs_Dir = \"/n/data1/hms/dbmi/farhat/mm774/Projects/Mtb-WGA-SMK-Output\"\n",
    "\n",
    "WGA151CI_SMK_OutputDir = WGA_SMK_Outputs_Dir + \"/231121_MtbSetV3_151CI\"\n",
    "MtbWGA_SMK_Pipeline_OutputDir = WGA151CI_SMK_OutputDir"
   ]
  },
  {
   "cell_type": "markdown",
   "id": "90e9df51-3130-4c76-a4f0-114633b1dc2d",
   "metadata": {},
   "source": [
    "### Define PATHS relevant to Minigraph analysis"
   ]
  },
  {
   "cell_type": "code",
   "execution_count": 131,
   "id": "c44f1fdb-a4ff-488f-b803-15706fb99c56",
   "metadata": {},
   "outputs": [],
   "source": [
    "target_OutputDir = MtbWGA_SMK_Pipeline_OutputDir\n",
    "Minigraph_151CI_OutDir = f\"{target_OutputDir}/Minigraph\"\n",
    "\n",
    "MG_WGA151CI_GFA = f\"{Minigraph_151CI_OutDir}/Minigraph_H37rv_Vs_151CI.V1.gfa\"\n",
    "MG_WGA151CI_Bubble_SV_BED = f\"{Minigraph_151CI_OutDir}/Minigraph_H37rv_Vs_151CI.V1.Bubble.SV.bed\"\n",
    "MG_WGA151CI_Stable_FA = f\"{Minigraph_151CI_OutDir}/Minigraph_H37rv_Vs_151CI.V1.Stable.fa\"\n",
    "\n",
    "MG_WGA151CI_MergedSVInfo_TSV = f\"{Minigraph_151CI_OutDir}/Minigraph_H37rv_Vs_151CI.MergedSV.Info.tsv\"\n",
    "MG_WGA151CI_MergedSVInfo_SVVCF = f\"{Minigraph_151CI_OutDir}/Minigraph_H37rv_Vs_151CI.MergedSV.Info.svvcf\"\n"
   ]
  },
  {
   "cell_type": "code",
   "execution_count": 132,
   "id": "12630f91-7ac3-40f3-bb3b-8bd3df2a5786",
   "metadata": {},
   "outputs": [
    {
     "data": {
      "text/plain": [
       "'/n/data1/hms/dbmi/farhat/mm774/Projects/Mtb-WGA-SMK-Output/231121_MtbSetV3_151CI/Minigraph'"
      ]
     },
     "execution_count": 132,
     "metadata": {},
     "output_type": "execute_result"
    }
   ],
   "source": [
    "Minigraph_151CI_OutDir"
   ]
  },
  {
   "cell_type": "markdown",
   "id": "ea34a4cb-6004-402c-8675-0095d2415c62",
   "metadata": {},
   "source": [
    "#### use `gfatools` to print general stats of the SV graph (rGFA format)"
   ]
  },
  {
   "cell_type": "code",
   "execution_count": 133,
   "id": "3fcbf2f8-0a92-486c-8b0b-d393517c6d71",
   "metadata": {},
   "outputs": [
    {
     "name": "stdout",
     "output_type": "stream",
     "text": [
      "Number of segments: 3138\n",
      "Number of links: 4705\n",
      "Number of arcs: 9410\n",
      "Max rank: 129\n",
      "Total segment length: 5196363\n",
      "Average segment length: 1655.947\n",
      "Sum of rank-0 segment lengths: 4411532\n",
      "Max degree: 8\n",
      "Average degree: 1.499\n",
      "[M::main] Version: 0.5-r253-dirty\n",
      "[M::main] CMD: gfatools stat /n/data1/hms/dbmi/farhat/mm774/Projects/Mtb-WGA-SMK-Output/231121_MtbSetV3_151CI/Minigraph/Minigraph_H37rv_Vs_151CI.V1.gfa\n",
      "[M::main] Real time: 0.026 sec; CPU: 0.038 sec\n"
     ]
    }
   ],
   "source": [
    "!gfatools stat $MG_WGA151CI_GFA"
   ]
  },
  {
   "cell_type": "code",
   "execution_count": null,
   "id": "49ecf3ab-4489-490a-80bb-38c2ab39f0e5",
   "metadata": {},
   "outputs": [],
   "source": []
  },
  {
   "cell_type": "markdown",
   "id": "300c16e8-d83c-48a5-a26a-17e32de1cdd5",
   "metadata": {},
   "source": [
    "### Define paths to processed analysis of SV Pan-genome graph (minigraph)"
   ]
  },
  {
   "cell_type": "code",
   "execution_count": 134,
   "id": "65c4d218-cdd6-4c71-a5b0-0c28e5d10849",
   "metadata": {},
   "outputs": [],
   "source": [
    "PangenomeAnalysis_Dir = \"../../Data/MtbPangenomeAnalysis_SetV4\"\n",
    "\n",
    "MG_Node_KmerVsRefSets_TSV_GZ = f\"{PangenomeAnalysis_Dir}/MtbSVPG.NodeKmerComp.Summary.V1.tsv.gz\" \n",
    "\n",
    "MG_AvA_Node_KmerAnalysis_TSV_GZ = f\"{PangenomeAnalysis_Dir}/MtbSVPG.NodeKmerComp.AllVsAll.V1.tsv.gz\"     \n",
    "\n",
    "MG_BubbleSumm_TSV_GZ = f\"{PangenomeAnalysis_Dir}/MtbSVPG.BubbleSummary.BED.tsv.gz\"     \n",
    "\n",
    "MG_SVVCF_TSV_GZ = f\"{PangenomeAnalysis_Dir}/MtbSVPG.BubbleAlleleInfo.SVVCF.tsv.gz\" \n",
    "\n",
    "MG_SVInfo_TSV_GZ = f\"{PangenomeAnalysis_Dir}/MtbSVPG.BubbleAlleleInfo.SVInfo.tsv.gz\" \n"
   ]
  },
  {
   "cell_type": "code",
   "execution_count": null,
   "id": "f0c94d56-6b33-4f97-9470-de2d0cb66ad4",
   "metadata": {},
   "outputs": [],
   "source": []
  },
  {
   "cell_type": "markdown",
   "id": "c180561b-65ec-4c92-a34c-3e0bc56495cb",
   "metadata": {},
   "source": [
    "### Parse in `AvA_Nodes_DF`"
   ]
  },
  {
   "cell_type": "code",
   "execution_count": 135,
   "id": "60750f3c-5383-404c-b1f6-b66bdb02a79e",
   "metadata": {},
   "outputs": [
    {
     "data": {
      "text/plain": [
       "(123104, 6)"
      ]
     },
     "execution_count": 135,
     "metadata": {},
     "output_type": "execute_result"
    }
   ],
   "source": [
    "AvA_Nodes_DF = pd.read_csv(MG_AvA_Node_KmerAnalysis_TSV_GZ, sep = \"\\t\" )\n",
    "AvA_Nodes_DF.shape"
   ]
  },
  {
   "cell_type": "code",
   "execution_count": 136,
   "id": "ad3ef81e-8f66-4700-aa27-c6086e9122ca",
   "metadata": {},
   "outputs": [
    {
     "data": {
      "text/html": [
       "<div>\n",
       "<style scoped>\n",
       "    .dataframe tbody tr th:only-of-type {\n",
       "        vertical-align: middle;\n",
       "    }\n",
       "\n",
       "    .dataframe tbody tr th {\n",
       "        vertical-align: top;\n",
       "    }\n",
       "\n",
       "    .dataframe thead th {\n",
       "        text-align: right;\n",
       "    }\n",
       "</style>\n",
       "<table border=\"1\" class=\"dataframe\">\n",
       "  <thead>\n",
       "    <tr style=\"text-align: right;\">\n",
       "      <th></th>\n",
       "      <th>RecordID_1</th>\n",
       "      <th>RecordID_2</th>\n",
       "      <th>Record1_Len</th>\n",
       "      <th>Record2_Len</th>\n",
       "      <th>JaccardSim</th>\n",
       "      <th>JaccardContain</th>\n",
       "    </tr>\n",
       "  </thead>\n",
       "  <tbody>\n",
       "    <tr>\n",
       "      <th>0</th>\n",
       "      <td>s3</td>\n",
       "      <td>s2959</td>\n",
       "      <td>56</td>\n",
       "      <td>61</td>\n",
       "      <td>0.781250</td>\n",
       "      <td>0.961538</td>\n",
       "    </tr>\n",
       "    <tr>\n",
       "      <th>1</th>\n",
       "      <td>s7</td>\n",
       "      <td>s2247</td>\n",
       "      <td>1876</td>\n",
       "      <td>42</td>\n",
       "      <td>0.006501</td>\n",
       "      <td>0.006501</td>\n",
       "    </tr>\n",
       "    <tr>\n",
       "      <th>2</th>\n",
       "      <td>s8</td>\n",
       "      <td>s2823</td>\n",
       "      <td>542</td>\n",
       "      <td>87</td>\n",
       "      <td>0.096339</td>\n",
       "      <td>0.097656</td>\n",
       "    </tr>\n",
       "    <tr>\n",
       "      <th>3</th>\n",
       "      <td>s13</td>\n",
       "      <td>s2037</td>\n",
       "      <td>24063</td>\n",
       "      <td>49</td>\n",
       "      <td>0.000208</td>\n",
       "      <td>0.000208</td>\n",
       "    </tr>\n",
       "    <tr>\n",
       "      <th>4</th>\n",
       "      <td>s13</td>\n",
       "      <td>s2039</td>\n",
       "      <td>24063</td>\n",
       "      <td>114</td>\n",
       "      <td>0.000208</td>\n",
       "      <td>0.000208</td>\n",
       "    </tr>\n",
       "  </tbody>\n",
       "</table>\n",
       "</div>"
      ],
      "text/plain": [
       "  RecordID_1 RecordID_2  Record1_Len  Record2_Len  JaccardSim  JaccardContain\n",
       "0         s3      s2959           56           61    0.781250        0.961538\n",
       "1         s7      s2247         1876           42    0.006501        0.006501\n",
       "2         s8      s2823          542           87    0.096339        0.097656\n",
       "3        s13      s2037        24063           49    0.000208        0.000208\n",
       "4        s13      s2039        24063          114    0.000208        0.000208"
      ]
     },
     "execution_count": 136,
     "metadata": {},
     "output_type": "execute_result"
    }
   ],
   "source": [
    "AvA_Nodes_DF.head()"
   ]
  },
  {
   "cell_type": "markdown",
   "id": "13991f89-59b7-4be4-8e9e-b0a89aa70020",
   "metadata": {},
   "source": [
    "### Parse in `MG_Nodes_KmerVsRefSets_DF`"
   ]
  },
  {
   "cell_type": "code",
   "execution_count": 137,
   "id": "9fe7870d-6073-4233-bbc7-eafaf3be58c1",
   "metadata": {},
   "outputs": [
    {
     "data": {
      "text/plain": [
       "(3138, 8)"
      ]
     },
     "execution_count": 137,
     "metadata": {},
     "output_type": "execute_result"
    }
   ],
   "source": [
    "MG_Nodes_KmerComp_DF = pd.read_csv(MG_Node_KmerVsRefSets_TSV_GZ, sep = \"\\t\" )\n",
    "MG_Nodes_KmerComp_DF.shape"
   ]
  },
  {
   "cell_type": "code",
   "execution_count": 138,
   "id": "6b083f20-7bbe-4548-8605-2a15ee570315",
   "metadata": {},
   "outputs": [
    {
     "data": {
      "text/html": [
       "<div>\n",
       "<style scoped>\n",
       "    .dataframe tbody tr th:only-of-type {\n",
       "        vertical-align: middle;\n",
       "    }\n",
       "\n",
       "    .dataframe tbody tr th {\n",
       "        vertical-align: top;\n",
       "    }\n",
       "\n",
       "    .dataframe thead th {\n",
       "        text-align: right;\n",
       "    }\n",
       "</style>\n",
       "<table border=\"1\" class=\"dataframe\">\n",
       "  <thead>\n",
       "    <tr style=\"text-align: right;\">\n",
       "      <th></th>\n",
       "      <th>NodeID</th>\n",
       "      <th>SeqLength</th>\n",
       "      <th>Jaccard_Cont_WiRv</th>\n",
       "      <th>Jaccard_Cont_WiIS6110</th>\n",
       "      <th>Jaccard_Cont_WiRv_InsSeqAndPhages</th>\n",
       "      <th>IsSVNode</th>\n",
       "      <th>BubbleID</th>\n",
       "      <th>MaxJC_ToOtherNode</th>\n",
       "    </tr>\n",
       "  </thead>\n",
       "  <tbody>\n",
       "    <tr>\n",
       "      <th>0</th>\n",
       "      <td>s1</td>\n",
       "      <td>1533</td>\n",
       "      <td>1.0</td>\n",
       "      <td>0.0</td>\n",
       "      <td>0.0</td>\n",
       "      <td>False</td>\n",
       "      <td>None</td>\n",
       "      <td>0.000000</td>\n",
       "    </tr>\n",
       "    <tr>\n",
       "      <th>1</th>\n",
       "      <td>s2</td>\n",
       "      <td>58</td>\n",
       "      <td>1.0</td>\n",
       "      <td>0.0</td>\n",
       "      <td>0.0</td>\n",
       "      <td>False</td>\n",
       "      <td>None</td>\n",
       "      <td>0.000000</td>\n",
       "    </tr>\n",
       "    <tr>\n",
       "      <th>2</th>\n",
       "      <td>s3</td>\n",
       "      <td>56</td>\n",
       "      <td>1.0</td>\n",
       "      <td>0.0</td>\n",
       "      <td>0.0</td>\n",
       "      <td>True</td>\n",
       "      <td>BubbleRegion_2</td>\n",
       "      <td>0.961538</td>\n",
       "    </tr>\n",
       "    <tr>\n",
       "      <th>3</th>\n",
       "      <td>s4</td>\n",
       "      <td>5</td>\n",
       "      <td>0.0</td>\n",
       "      <td>0.0</td>\n",
       "      <td>0.0</td>\n",
       "      <td>True</td>\n",
       "      <td>BubbleRegion_2</td>\n",
       "      <td>0.000000</td>\n",
       "    </tr>\n",
       "    <tr>\n",
       "      <th>4</th>\n",
       "      <td>s5</td>\n",
       "      <td>11970</td>\n",
       "      <td>1.0</td>\n",
       "      <td>0.0</td>\n",
       "      <td>0.0</td>\n",
       "      <td>False</td>\n",
       "      <td>None</td>\n",
       "      <td>0.000000</td>\n",
       "    </tr>\n",
       "  </tbody>\n",
       "</table>\n",
       "</div>"
      ],
      "text/plain": [
       "  NodeID  SeqLength  Jaccard_Cont_WiRv  Jaccard_Cont_WiIS6110  Jaccard_Cont_WiRv_InsSeqAndPhages  IsSVNode        BubbleID  MaxJC_ToOtherNode\n",
       "0     s1       1533                1.0                    0.0                                0.0     False            None           0.000000\n",
       "1     s2         58                1.0                    0.0                                0.0     False            None           0.000000\n",
       "2     s3         56                1.0                    0.0                                0.0      True  BubbleRegion_2           0.961538\n",
       "3     s4          5                0.0                    0.0                                0.0      True  BubbleRegion_2           0.000000\n",
       "4     s5      11970                1.0                    0.0                                0.0     False            None           0.000000"
      ]
     },
     "execution_count": 138,
     "metadata": {},
     "output_type": "execute_result"
    }
   ],
   "source": [
    "MG_Nodes_KmerComp_DF.head()"
   ]
  },
  {
   "cell_type": "markdown",
   "id": "9b44668d-b1f4-4ee7-bfd1-9c8c3ae5bea8",
   "metadata": {},
   "source": [
    "### Parse in `MG_SV_BED_DF`"
   ]
  },
  {
   "cell_type": "code",
   "execution_count": 139,
   "id": "7434bf71-fe53-4cb9-87e3-a94c313d3bca",
   "metadata": {},
   "outputs": [
    {
     "data": {
      "text/plain": [
       "(535, 14)"
      ]
     },
     "execution_count": 139,
     "metadata": {},
     "output_type": "execute_result"
    }
   ],
   "source": [
    "MG_SV_BED_DF = pd.read_csv(MG_BubbleSumm_TSV_GZ, sep = \"\\t\" )\n",
    "\n",
    "# Convert the string representation of the list of nodes to python list of nodes\n",
    "MG_SV_BED_DF[\"NodePath_Trimmed\"] = MG_SV_BED_DF[\"NodePath_Trimmed\"].apply(ast.literal_eval)\n",
    "\n",
    "MG_SV_BED_DF.shape"
   ]
  },
  {
   "cell_type": "code",
   "execution_count": 140,
   "id": "28a47f0f-4976-426f-8f1c-c3cd3f6027e8",
   "metadata": {},
   "outputs": [
    {
     "data": {
      "text/html": [
       "<div>\n",
       "<style scoped>\n",
       "    .dataframe tbody tr th:only-of-type {\n",
       "        vertical-align: middle;\n",
       "    }\n",
       "\n",
       "    .dataframe tbody tr th {\n",
       "        vertical-align: top;\n",
       "    }\n",
       "\n",
       "    .dataframe thead th {\n",
       "        text-align: right;\n",
       "    }\n",
       "</style>\n",
       "<table border=\"1\" class=\"dataframe\">\n",
       "  <thead>\n",
       "    <tr style=\"text-align: right;\">\n",
       "      <th></th>\n",
       "      <th>Chr</th>\n",
       "      <th>Start</th>\n",
       "      <th>End</th>\n",
       "      <th>Len_Ref</th>\n",
       "      <th>Len_Alt</th>\n",
       "      <th>NodePath</th>\n",
       "      <th>NodePath_Trimmed</th>\n",
       "      <th>Start_Node</th>\n",
       "      <th>End_Node</th>\n",
       "      <th>BubbleNum</th>\n",
       "      <th>BubbleID</th>\n",
       "      <th>NumSVNodes</th>\n",
       "      <th>Overlap_Genes</th>\n",
       "      <th>Overlap_Gene_RvIDs</th>\n",
       "    </tr>\n",
       "  </thead>\n",
       "  <tbody>\n",
       "    <tr>\n",
       "      <th>0</th>\n",
       "      <td>NC_000962.3</td>\n",
       "      <td>1533</td>\n",
       "      <td>1533</td>\n",
       "      <td>0</td>\n",
       "      <td>0</td>\n",
       "      <td>s1,s2</td>\n",
       "      <td>[]</td>\n",
       "      <td>s1</td>\n",
       "      <td>s2</td>\n",
       "      <td>1</td>\n",
       "      <td>BubbleRegion_1</td>\n",
       "      <td>0</td>\n",
       "      <td>NaN</td>\n",
       "      <td>NaN</td>\n",
       "    </tr>\n",
       "    <tr>\n",
       "      <th>1</th>\n",
       "      <td>NC_000962.3</td>\n",
       "      <td>1591</td>\n",
       "      <td>1652</td>\n",
       "      <td>61</td>\n",
       "      <td>1480</td>\n",
       "      <td>s2,s2034,s2959,s2035,s3,s2036,s2036,s3,s2035,s...</td>\n",
       "      <td>[s2034, s2959, s2035, s3, s2036, s2036, s3, s2...</td>\n",
       "      <td>s2</td>\n",
       "      <td>s5</td>\n",
       "      <td>2</td>\n",
       "      <td>BubbleRegion_2</td>\n",
       "      <td>11</td>\n",
       "      <td>NaN</td>\n",
       "      <td>NaN</td>\n",
       "    </tr>\n",
       "    <tr>\n",
       "      <th>2</th>\n",
       "      <td>NC_000962.3</td>\n",
       "      <td>13622</td>\n",
       "      <td>13622</td>\n",
       "      <td>0</td>\n",
       "      <td>1358</td>\n",
       "      <td>s5,s2744,s6</td>\n",
       "      <td>[s2744]</td>\n",
       "      <td>s5</td>\n",
       "      <td>s6</td>\n",
       "      <td>3</td>\n",
       "      <td>BubbleRegion_3</td>\n",
       "      <td>1</td>\n",
       "      <td>NaN</td>\n",
       "      <td>NaN</td>\n",
       "    </tr>\n",
       "  </tbody>\n",
       "</table>\n",
       "</div>"
      ],
      "text/plain": [
       "           Chr  Start    End  Len_Ref  Len_Alt                                           NodePath                                   NodePath_Trimmed Start_Node End_Node  BubbleNum        BubbleID  NumSVNodes Overlap_Genes Overlap_Gene_RvIDs\n",
       "0  NC_000962.3   1533   1533        0        0                                              s1,s2                                                 []         s1       s2          1  BubbleRegion_1           0           NaN                NaN\n",
       "1  NC_000962.3   1591   1652       61     1480  s2,s2034,s2959,s2035,s3,s2036,s2036,s3,s2035,s...  [s2034, s2959, s2035, s3, s2036, s2036, s3, s2...         s2       s5          2  BubbleRegion_2          11           NaN                NaN\n",
       "2  NC_000962.3  13622  13622        0     1358                                        s5,s2744,s6                                            [s2744]         s5       s6          3  BubbleRegion_3           1           NaN                NaN"
      ]
     },
     "execution_count": 140,
     "metadata": {},
     "output_type": "execute_result"
    }
   ],
   "source": [
    "MG_SV_BED_DF.head(3)"
   ]
  },
  {
   "cell_type": "markdown",
   "id": "2f953635-3297-49c5-96e1-d74e5d8e735e",
   "metadata": {},
   "source": [
    "### Parse in `MG_SVVCF_DF`"
   ]
  },
  {
   "cell_type": "code",
   "execution_count": 141,
   "id": "e8ecb3f1-1765-4da4-8294-77457df88249",
   "metadata": {},
   "outputs": [
    {
     "data": {
      "text/plain": [
       "(535, 169)"
      ]
     },
     "execution_count": 141,
     "metadata": {},
     "output_type": "execute_result"
    }
   ],
   "source": [
    "MG_SVVCF_DF = pd.read_csv(MG_SVVCF_TSV_GZ, sep = \"\\t\" )\n",
    "MG_SVVCF_DF.shape"
   ]
  },
  {
   "cell_type": "markdown",
   "id": "25b3b909-9121-48ec-b648-cd8e25762085",
   "metadata": {},
   "source": [
    "### Parse in `MG_SVInfo_DF`"
   ]
  },
  {
   "cell_type": "code",
   "execution_count": 142,
   "id": "3d541de4-390b-457c-832e-9ffe1a8f42ab",
   "metadata": {},
   "outputs": [
    {
     "data": {
      "text/plain": [
       "(535, 160)"
      ]
     },
     "execution_count": 142,
     "metadata": {},
     "output_type": "execute_result"
    }
   ],
   "source": [
    "MG_SVInfo_DF = pd.read_csv(MG_SVInfo_TSV_GZ, sep = \"\\t\" )\n",
    "MG_SVInfo_DF.shape"
   ]
  },
  {
   "cell_type": "code",
   "execution_count": 143,
   "id": "d693716d-4deb-429d-b4b7-6b39990fbe31",
   "metadata": {},
   "outputs": [
    {
     "data": {
      "text/plain": [
       "array([list([]),\n",
       "       list(['s2034', 's2959', 's2035', 's3', 's2036', 's2036', 's3', 's2035', 's2959', 's2034', 's4'])],\n",
       "      dtype=object)"
      ]
     },
     "execution_count": 143,
     "metadata": {},
     "output_type": "execute_result"
    }
   ],
   "source": [
    "MG_SV_BED_DF[\"NodePath_Trimmed\"].values[:2]"
   ]
  },
  {
   "cell_type": "code",
   "execution_count": 144,
   "id": "b5ce4e55-74d1-4196-b935-19e53b12ddde",
   "metadata": {},
   "outputs": [
    {
     "data": {
      "text/html": [
       "<div>\n",
       "<style scoped>\n",
       "    .dataframe tbody tr th:only-of-type {\n",
       "        vertical-align: middle;\n",
       "    }\n",
       "\n",
       "    .dataframe tbody tr th {\n",
       "        vertical-align: top;\n",
       "    }\n",
       "\n",
       "    .dataframe thead th {\n",
       "        text-align: right;\n",
       "    }\n",
       "</style>\n",
       "<table border=\"1\" class=\"dataframe\">\n",
       "  <thead>\n",
       "    <tr style=\"text-align: right;\">\n",
       "      <th></th>\n",
       "      <th>Chr</th>\n",
       "      <th>Start</th>\n",
       "      <th>End</th>\n",
       "      <th>Len_Ref</th>\n",
       "      <th>Len_Alt</th>\n",
       "      <th>NodePath</th>\n",
       "      <th>NodePath_Trimmed</th>\n",
       "      <th>Start_Node</th>\n",
       "      <th>End_Node</th>\n",
       "      <th>BubbleNum</th>\n",
       "      <th>BubbleID</th>\n",
       "      <th>NumSVNodes</th>\n",
       "      <th>Overlap_Genes</th>\n",
       "      <th>Overlap_Gene_RvIDs</th>\n",
       "    </tr>\n",
       "  </thead>\n",
       "  <tbody>\n",
       "    <tr>\n",
       "      <th>0</th>\n",
       "      <td>NC_000962.3</td>\n",
       "      <td>1533</td>\n",
       "      <td>1533</td>\n",
       "      <td>0</td>\n",
       "      <td>0</td>\n",
       "      <td>s1,s2</td>\n",
       "      <td>[]</td>\n",
       "      <td>s1</td>\n",
       "      <td>s2</td>\n",
       "      <td>1</td>\n",
       "      <td>BubbleRegion_1</td>\n",
       "      <td>0</td>\n",
       "      <td>NaN</td>\n",
       "      <td>NaN</td>\n",
       "    </tr>\n",
       "    <tr>\n",
       "      <th>1</th>\n",
       "      <td>NC_000962.3</td>\n",
       "      <td>1591</td>\n",
       "      <td>1652</td>\n",
       "      <td>61</td>\n",
       "      <td>1480</td>\n",
       "      <td>s2,s2034,s2959,s2035,s3,s2036,s2036,s3,s2035,s...</td>\n",
       "      <td>[s2034, s2959, s2035, s3, s2036, s2036, s3, s2...</td>\n",
       "      <td>s2</td>\n",
       "      <td>s5</td>\n",
       "      <td>2</td>\n",
       "      <td>BubbleRegion_2</td>\n",
       "      <td>11</td>\n",
       "      <td>NaN</td>\n",
       "      <td>NaN</td>\n",
       "    </tr>\n",
       "    <tr>\n",
       "      <th>2</th>\n",
       "      <td>NC_000962.3</td>\n",
       "      <td>13622</td>\n",
       "      <td>13622</td>\n",
       "      <td>0</td>\n",
       "      <td>1358</td>\n",
       "      <td>s5,s2744,s6</td>\n",
       "      <td>[s2744]</td>\n",
       "      <td>s5</td>\n",
       "      <td>s6</td>\n",
       "      <td>3</td>\n",
       "      <td>BubbleRegion_3</td>\n",
       "      <td>1</td>\n",
       "      <td>NaN</td>\n",
       "      <td>NaN</td>\n",
       "    </tr>\n",
       "    <tr>\n",
       "      <th>3</th>\n",
       "      <td>NC_000962.3</td>\n",
       "      <td>26469</td>\n",
       "      <td>28345</td>\n",
       "      <td>42</td>\n",
       "      <td>1876</td>\n",
       "      <td>s6,s2247,s7,s8</td>\n",
       "      <td>[s2247, s7]</td>\n",
       "      <td>s6</td>\n",
       "      <td>s8</td>\n",
       "      <td>4</td>\n",
       "      <td>BubbleRegion_4</td>\n",
       "      <td>2</td>\n",
       "      <td>Rv0021c,whiB5,Rv0023</td>\n",
       "      <td>Rv0021c,Rv0022c,Rv0023</td>\n",
       "    </tr>\n",
       "  </tbody>\n",
       "</table>\n",
       "</div>"
      ],
      "text/plain": [
       "           Chr  Start    End  Len_Ref  Len_Alt                                           NodePath                                   NodePath_Trimmed Start_Node End_Node  BubbleNum        BubbleID  NumSVNodes         Overlap_Genes      Overlap_Gene_RvIDs\n",
       "0  NC_000962.3   1533   1533        0        0                                              s1,s2                                                 []         s1       s2          1  BubbleRegion_1           0                   NaN                     NaN\n",
       "1  NC_000962.3   1591   1652       61     1480  s2,s2034,s2959,s2035,s3,s2036,s2036,s3,s2035,s...  [s2034, s2959, s2035, s3, s2036, s2036, s3, s2...         s2       s5          2  BubbleRegion_2          11                   NaN                     NaN\n",
       "2  NC_000962.3  13622  13622        0     1358                                        s5,s2744,s6                                            [s2744]         s5       s6          3  BubbleRegion_3           1                   NaN                     NaN\n",
       "3  NC_000962.3  26469  28345       42     1876                                     s6,s2247,s7,s8                                        [s2247, s7]         s6       s8          4  BubbleRegion_4           2  Rv0021c,whiB5,Rv0023  Rv0021c,Rv0022c,Rv0023"
      ]
     },
     "execution_count": 144,
     "metadata": {},
     "output_type": "execute_result"
    }
   ],
   "source": [
    "MG_SV_BED_DF.head(4)"
   ]
  },
  {
   "cell_type": "markdown",
   "id": "430e35f3-8b1f-4622-8075-fb946de9ee3c",
   "metadata": {},
   "source": [
    "### Create Dict of SV Node ID to BubbleID mappings"
   ]
  },
  {
   "cell_type": "code",
   "execution_count": 145,
   "id": "434ab664-4de9-430d-a121-6d662fd5eccc",
   "metadata": {},
   "outputs": [],
   "source": [
    "NodeID_ToBubbleID_Dict = {}\n",
    "\n",
    "for i, row in MG_SV_BED_DF.iterrows():\n",
    "    \n",
    "    i_BubbleID =  row[\"BubbleID\"]\n",
    "    i_NodePath_Trimmed = row[\"NodePath_Trimmed\"]\n",
    "\n",
    "    # Map all SV nodes to their Bubble Region ID\n",
    "    for NodeID in i_NodePath_Trimmed:\n",
    "        NodeID_ToBubbleID_Dict[NodeID] = i_BubbleID\n",
    "        "
   ]
  },
  {
   "cell_type": "code",
   "execution_count": 146,
   "id": "c1f9dcdc-2d1d-49d6-9f6f-0322464dae2a",
   "metadata": {},
   "outputs": [
    {
     "data": {
      "text/plain": [
       "[('s2034', 'BubbleRegion_2'),\n",
       " ('s2959', 'BubbleRegion_2'),\n",
       " ('s2035', 'BubbleRegion_2'),\n",
       " ('s3', 'BubbleRegion_2'),\n",
       " ('s2036', 'BubbleRegion_2'),\n",
       " ('s4', 'BubbleRegion_2'),\n",
       " ('s2744', 'BubbleRegion_3'),\n",
       " ('s2247', 'BubbleRegion_4'),\n",
       " ('s7', 'BubbleRegion_4'),\n",
       " ('s2823', 'BubbleRegion_5')]"
      ]
     },
     "execution_count": 146,
     "metadata": {},
     "output_type": "execute_result"
    }
   ],
   "source": [
    "list(NodeID_ToBubbleID_Dict.items())[:10]"
   ]
  },
  {
   "cell_type": "code",
   "execution_count": null,
   "id": "3b711e7b-7a34-4fd5-bc2f-f4223b248878",
   "metadata": {},
   "outputs": [],
   "source": []
  },
  {
   "cell_type": "markdown",
   "id": "1f09eb11-16cc-4157-bdb0-56dce46f7642",
   "metadata": {},
   "source": [
    "## Create dictionary of BubbleID to overlapping H37Rv gene annotations"
   ]
  },
  {
   "cell_type": "code",
   "execution_count": 147,
   "id": "ad1a987a-a55c-49fc-835d-b1fa58cd0c46",
   "metadata": {},
   "outputs": [],
   "source": [
    "BubbleID_To_OvrLapGenes_Dict = MG_SV_BED_DF.set_index(\"BubbleID\")[\"Overlap_Genes\"].to_dict()"
   ]
  },
  {
   "cell_type": "markdown",
   "id": "5c54ede3-e875-4dc9-987f-f1ed6629dbb1",
   "metadata": {},
   "source": [
    "#### Peak at the genes overlapping the first 10 bubble regions"
   ]
  },
  {
   "cell_type": "code",
   "execution_count": 148,
   "id": "3590f1ac-1229-4fa1-a9b4-400a1134175f",
   "metadata": {},
   "outputs": [
    {
     "data": {
      "text/plain": [
       "[('BubbleRegion_1', nan),\n",
       " ('BubbleRegion_2', nan),\n",
       " ('BubbleRegion_3', nan),\n",
       " ('BubbleRegion_4', 'Rv0021c,whiB5,Rv0023'),\n",
       " ('BubbleRegion_5', 'Rv0024'),\n",
       " ('BubbleRegion_6', 'bioF2'),\n",
       " ('BubbleRegion_7', nan),\n",
       " ('BubbleRegion_8', nan),\n",
       " ('BubbleRegion_9', nan),\n",
       " ('BubbleRegion_10', 'Rv0063')]"
      ]
     },
     "execution_count": 148,
     "metadata": {},
     "output_type": "execute_result"
    }
   ],
   "source": [
    "list(BubbleID_To_OvrLapGenes_Dict.items())[:10]"
   ]
  },
  {
   "cell_type": "code",
   "execution_count": null,
   "id": "2ab48165-e835-4e41-8763-fee36f1a43ce",
   "metadata": {},
   "outputs": [],
   "source": []
  },
  {
   "cell_type": "code",
   "execution_count": null,
   "id": "4fe7e895-784c-44ce-84d8-1a8502409e93",
   "metadata": {},
   "outputs": [],
   "source": []
  },
  {
   "cell_type": "code",
   "execution_count": null,
   "id": "79009927-b998-4026-b551-d568d4173de6",
   "metadata": {},
   "outputs": [],
   "source": []
  },
  {
   "cell_type": "markdown",
   "id": "0f83a4d5-a681-4217-a991-ce1e5298b524",
   "metadata": {},
   "source": [
    "## Part 1: Look at high level stats of the SV Pan-genome graph of 151 Mtb genomes"
   ]
  },
  {
   "cell_type": "markdown",
   "id": "4472e1f3-a17a-4b09-aa94-228da3539043",
   "metadata": {},
   "source": [
    "### How many total nodes are there? "
   ]
  },
  {
   "cell_type": "code",
   "execution_count": 149,
   "id": "9b820528-4813-4027-bb48-491c4f37200a",
   "metadata": {},
   "outputs": [
    {
     "data": {
      "text/plain": [
       "(3138, 8)"
      ]
     },
     "execution_count": 149,
     "metadata": {},
     "output_type": "execute_result"
    }
   ],
   "source": [
    "MG_Nodes_KmerComp_DF.shape"
   ]
  },
  {
   "cell_type": "markdown",
   "id": "d5ca532e-d351-4f5c-ac7f-3be54e791969",
   "metadata": {},
   "source": [
    "### What is the cumlative lenth of the graph?"
   ]
  },
  {
   "cell_type": "code",
   "execution_count": 150,
   "id": "732c26cf-582c-4e38-9b25-5a52233c0e79",
   "metadata": {},
   "outputs": [
    {
     "data": {
      "text/plain": [
       "5196363"
      ]
     },
     "execution_count": 150,
     "metadata": {},
     "output_type": "execute_result"
    }
   ],
   "source": [
    "MG_Nodes_KmerComp_DF[\"SeqLength\"].sum()"
   ]
  },
  {
   "cell_type": "markdown",
   "id": "a90a6239-a193-4be3-b0d0-ee1ca52b364b",
   "metadata": {},
   "source": [
    "### How many total bubbles are there identified by Minigraph? (535)"
   ]
  },
  {
   "cell_type": "code",
   "execution_count": 151,
   "id": "cbd82817-797c-4498-bd87-88f2bb2ac95b",
   "metadata": {},
   "outputs": [
    {
     "data": {
      "text/plain": [
       "535"
      ]
     },
     "execution_count": 151,
     "metadata": {},
     "output_type": "execute_result"
    }
   ],
   "source": [
    "MG_SV_BED_DF.shape[0]"
   ]
  },
  {
   "cell_type": "markdown",
   "id": "a09f49a6-90d2-4bed-8974-535796376a61",
   "metadata": {},
   "source": [
    "## How many nodes have length less than 31 bp?\n",
    "#### Nodes w/ length < 31 bp will be excluded from out k-mer based analysis of node sequence content\n",
    "\n",
    "Take aways:\n",
    "- 627 TOTAL nodes have length < 31 bp\n",
    "- 577 SV Nodes have length < 31 bp\n",
    "- 50 Core Nodes have length < 31 bp\n"
   ]
  },
  {
   "cell_type": "code",
   "execution_count": 152,
   "id": "c98982cf-2853-438c-bea4-6fd91a40cccd",
   "metadata": {},
   "outputs": [
    {
     "data": {
      "text/plain": [
       "627"
      ]
     },
     "execution_count": 152,
     "metadata": {},
     "output_type": "execute_result"
    }
   ],
   "source": [
    "MG_Nodes_KmerComp_DF.query(\"SeqLength < 31\").shape[0]"
   ]
  },
  {
   "cell_type": "code",
   "execution_count": 153,
   "id": "b9af021f-e4e1-446a-8c64-5f971d1e89a9",
   "metadata": {},
   "outputs": [
    {
     "data": {
      "text/plain": [
       "50"
      ]
     },
     "execution_count": 153,
     "metadata": {},
     "output_type": "execute_result"
    }
   ],
   "source": [
    "MG_Nodes_KmerComp_DF.query(\"IsSVNode == False & SeqLength < 31\").shape[0]"
   ]
  },
  {
   "cell_type": "code",
   "execution_count": 154,
   "id": "f5218676-39cb-438d-a4de-4e45606d6cc9",
   "metadata": {},
   "outputs": [
    {
     "data": {
      "text/plain": [
       "577"
      ]
     },
     "execution_count": 154,
     "metadata": {},
     "output_type": "execute_result"
    }
   ],
   "source": [
    "MG_Nodes_KmerComp_DF.query(\"IsSVNode == True & SeqLength < 31\").shape[0]"
   ]
  },
  {
   "cell_type": "code",
   "execution_count": 155,
   "id": "5bfac973-c5a3-472f-ae23-b2412199eab7",
   "metadata": {},
   "outputs": [
    {
     "data": {
      "text/plain": [
       "count     3138.000000\n",
       "mean      1655.947419\n",
       "std       5107.483405\n",
       "min          1.000000\n",
       "25%         45.250000\n",
       "50%        133.000000\n",
       "75%       1305.250000\n",
       "max      73572.000000\n",
       "Name: SeqLength, dtype: float64"
      ]
     },
     "execution_count": 155,
     "metadata": {},
     "output_type": "execute_result"
    }
   ],
   "source": [
    "MG_Nodes_KmerComp_DF[\"SeqLength\"].describe()"
   ]
  },
  {
   "cell_type": "code",
   "execution_count": null,
   "id": "79fe124c-2759-49f7-80f3-bf38c2dd7859",
   "metadata": {},
   "outputs": [],
   "source": []
  },
  {
   "cell_type": "markdown",
   "id": "01914267-15fd-4f0d-8b19-0c11339e9eac",
   "metadata": {},
   "source": [
    "### Filter for CORE-Nodes w/ at least 31 bp of length (N = 2061)"
   ]
  },
  {
   "cell_type": "code",
   "execution_count": 156,
   "id": "a8fe9798-b784-41ae-acc7-39a197948fc8",
   "metadata": {},
   "outputs": [
    {
     "data": {
      "text/plain": [
       "(536, 8)"
      ]
     },
     "execution_count": 156,
     "metadata": {},
     "output_type": "execute_result"
    }
   ],
   "source": [
    "MG_CoreNodes_All_DF = MG_Nodes_KmerComp_DF.query(\"IsSVNode == False\")\n",
    "MG_CoreNodes_All_DF.shape  "
   ]
  },
  {
   "cell_type": "code",
   "execution_count": 157,
   "id": "3a4fbe8c-1edb-40c8-b3d6-f3fa67a4b700",
   "metadata": {},
   "outputs": [
    {
     "data": {
      "text/plain": [
       "(486, 8)"
      ]
     },
     "execution_count": 157,
     "metadata": {},
     "output_type": "execute_result"
    }
   ],
   "source": [
    "MG_CoreNodes_PASS_DF = MG_Nodes_KmerComp_DF.query(\"IsSVNode == False\").query(\"SeqLength >= 31\")     \n",
    "MG_CoreNodes_PASS_DF.shape"
   ]
  },
  {
   "cell_type": "code",
   "execution_count": 158,
   "id": "b059d199-d1a3-4c5e-8878-fae159988f41",
   "metadata": {},
   "outputs": [
    {
     "data": {
      "text/plain": [
       "(50, 8)"
      ]
     },
     "execution_count": 158,
     "metadata": {},
     "output_type": "execute_result"
    }
   ],
   "source": [
    "MG_CoreNodes_Sub31bp_DF = MG_Nodes_KmerComp_DF.query(\"IsSVNode == False\").query(\"SeqLength < 31\")     \n",
    "MG_CoreNodes_Sub31bp_DF.shape"
   ]
  },
  {
   "cell_type": "code",
   "execution_count": 159,
   "id": "d83b74cd-f5fe-4765-9dcb-aeffeeb1f67d",
   "metadata": {},
   "outputs": [
    {
     "data": {
      "text/plain": [
       "659"
      ]
     },
     "execution_count": 159,
     "metadata": {},
     "output_type": "execute_result"
    }
   ],
   "source": [
    "MG_CoreNodes_Sub31bp_DF[\"SeqLength\"].sum()"
   ]
  },
  {
   "cell_type": "code",
   "execution_count": null,
   "id": "ffc2ed24-3c6e-401a-9c11-ec30a902f6ce",
   "metadata": {},
   "outputs": [],
   "source": []
  },
  {
   "cell_type": "markdown",
   "id": "50b51865-103f-429c-90f1-aefb4c0aeddb",
   "metadata": {},
   "source": [
    "### SV Nodes basic breakdown\n",
    "\n",
    "| Category            | Total Length (bp) | Number of Nodes |\n",
    "|---------------------|-------------------|-----------------|\n",
    "| All SV Nodes        | 1,283,223         | 2,602           |\n",
    "| \"PASS\" SV Nodes     | 1,276,550         | 2,025           |\n",
    "| Non-\"PASS\" SV Nodes (Len < 31 bp) | 6,673             | 577             |\n"
   ]
  },
  {
   "cell_type": "code",
   "execution_count": 160,
   "id": "ab9b016f-4782-4fd0-bd35-3cd55a4236a1",
   "metadata": {},
   "outputs": [
    {
     "data": {
      "text/plain": [
       "(2602, 8)"
      ]
     },
     "execution_count": 160,
     "metadata": {},
     "output_type": "execute_result"
    }
   ],
   "source": [
    "MG_SVNodes_All_DF = MG_Nodes_KmerComp_DF.query(\"IsSVNode == True\")\n",
    "MG_SVNodes_All_DF.shape"
   ]
  },
  {
   "cell_type": "code",
   "execution_count": 161,
   "id": "212e48c3-d4f3-4cbd-8b4f-7aa16c0a58f9",
   "metadata": {},
   "outputs": [
    {
     "data": {
      "text/plain": [
       "(2025, 8)"
      ]
     },
     "execution_count": 161,
     "metadata": {},
     "output_type": "execute_result"
    }
   ],
   "source": [
    "MG_SVNodes_PASS_DF = MG_Nodes_KmerComp_DF.query(\"IsSVNode == True\").query(\"SeqLength >= 31\")     \n",
    "MG_SVNodes_PASS_DF.shape"
   ]
  },
  {
   "cell_type": "code",
   "execution_count": 162,
   "id": "415a1cb7-f0e7-445c-84a3-07d9e8bbe0d0",
   "metadata": {},
   "outputs": [
    {
     "data": {
      "text/plain": [
       "(577, 8)"
      ]
     },
     "execution_count": 162,
     "metadata": {},
     "output_type": "execute_result"
    }
   ],
   "source": [
    "MG_SVNodes_Sub31bp_DF = MG_Nodes_KmerComp_DF.query(\"IsSVNode == True\").query(\"SeqLength < 31\")     \n",
    "MG_SVNodes_Sub31bp_DF.shape"
   ]
  },
  {
   "cell_type": "code",
   "execution_count": null,
   "id": "2bb67e93-761a-499e-a758-430a6d02c1f5",
   "metadata": {},
   "outputs": [],
   "source": []
  },
  {
   "cell_type": "markdown",
   "id": "5ff6e252-2e62-4f43-8fc4-70ffdb632c0b",
   "metadata": {},
   "source": [
    "### What is the total length of ALL SV nodes?"
   ]
  },
  {
   "cell_type": "code",
   "execution_count": 163,
   "id": "d9ef8fed-3f41-4c02-942a-6d0a0d618b80",
   "metadata": {},
   "outputs": [
    {
     "data": {
      "text/plain": [
       "1283223"
      ]
     },
     "execution_count": 163,
     "metadata": {},
     "output_type": "execute_result"
    }
   ],
   "source": [
    "MG_Nodes_KmerComp_DF.query(\"IsSVNode == True\")[\"SeqLength\"].sum()"
   ]
  },
  {
   "cell_type": "markdown",
   "id": "ace7a462-997d-4263-9f3a-7a86555c4d56",
   "metadata": {},
   "source": [
    "### What is the total length of PASS SV nodes (Len >= 31 bp?)"
   ]
  },
  {
   "cell_type": "code",
   "execution_count": 164,
   "id": "7eade5af-2c84-470a-8e7c-8b7c5a1aa008",
   "metadata": {},
   "outputs": [
    {
     "data": {
      "text/plain": [
       "1276550"
      ]
     },
     "execution_count": 164,
     "metadata": {},
     "output_type": "execute_result"
    }
   ],
   "source": [
    "MG_SVNodes_PASS_DF[\"SeqLength\"].sum()"
   ]
  },
  {
   "cell_type": "markdown",
   "id": "e6f292cc-f7a5-4c57-aaa4-fecee112fa76",
   "metadata": {},
   "source": [
    "### What is the total length of sub 31bp SV nodes? (filtered out for k-mer analysis)"
   ]
  },
  {
   "cell_type": "code",
   "execution_count": 165,
   "id": "a5750dcc-b0b3-483d-b6aa-812b3ec43ddc",
   "metadata": {},
   "outputs": [
    {
     "data": {
      "text/plain": [
       "6673"
      ]
     },
     "execution_count": 165,
     "metadata": {},
     "output_type": "execute_result"
    }
   ],
   "source": [
    "MG_SVNodes_Sub31bp_DF[\"SeqLength\"].sum()"
   ]
  },
  {
   "cell_type": "code",
   "execution_count": null,
   "id": "3c30a160-5556-46b5-a2de-ba607649bb32",
   "metadata": {},
   "outputs": [],
   "source": []
  },
  {
   "cell_type": "code",
   "execution_count": null,
   "id": "7189b058-5379-496e-99cf-45349048a392",
   "metadata": {},
   "outputs": [],
   "source": []
  },
  {
   "cell_type": "markdown",
   "id": "56648737-15ae-443d-b737-0db6dbdd5d8c",
   "metadata": {},
   "source": [
    "## Part 2: Plot distribution of SV node lengths & # of SV nodes per bubble region"
   ]
  },
  {
   "cell_type": "markdown",
   "id": "77462ace-583f-4955-9c0b-a3618f739564",
   "metadata": {},
   "source": [
    "### Look at distribution of # of SV nodes per bubble region"
   ]
  },
  {
   "cell_type": "code",
   "execution_count": 166,
   "id": "607814bb-ea52-4876-bea1-d5b101397571",
   "metadata": {},
   "outputs": [
    {
     "data": {
      "text/html": [
       "<div>\n",
       "<style scoped>\n",
       "    .dataframe tbody tr th:only-of-type {\n",
       "        vertical-align: middle;\n",
       "    }\n",
       "\n",
       "    .dataframe tbody tr th {\n",
       "        vertical-align: top;\n",
       "    }\n",
       "\n",
       "    .dataframe thead th {\n",
       "        text-align: right;\n",
       "    }\n",
       "</style>\n",
       "<table border=\"1\" class=\"dataframe\">\n",
       "  <thead>\n",
       "    <tr style=\"text-align: right;\">\n",
       "      <th></th>\n",
       "      <th>Chr</th>\n",
       "      <th>Start</th>\n",
       "      <th>End</th>\n",
       "      <th>Len_Ref</th>\n",
       "      <th>Len_Alt</th>\n",
       "      <th>NodePath</th>\n",
       "      <th>NodePath_Trimmed</th>\n",
       "      <th>Start_Node</th>\n",
       "      <th>End_Node</th>\n",
       "      <th>BubbleNum</th>\n",
       "      <th>BubbleID</th>\n",
       "      <th>NumSVNodes</th>\n",
       "      <th>Overlap_Genes</th>\n",
       "      <th>Overlap_Gene_RvIDs</th>\n",
       "    </tr>\n",
       "  </thead>\n",
       "  <tbody>\n",
       "    <tr>\n",
       "      <th>6</th>\n",
       "      <td>NC_000962.3</td>\n",
       "      <td>38999</td>\n",
       "      <td>38999</td>\n",
       "      <td>0</td>\n",
       "      <td>56</td>\n",
       "      <td>s10,s2662,s11</td>\n",
       "      <td>[s2662]</td>\n",
       "      <td>s10</td>\n",
       "      <td>s11</td>\n",
       "      <td>7</td>\n",
       "      <td>BubbleRegion_7</td>\n",
       "      <td>1</td>\n",
       "      <td>NaN</td>\n",
       "      <td>NaN</td>\n",
       "    </tr>\n",
       "    <tr>\n",
       "      <th>7</th>\n",
       "      <td>NC_000962.3</td>\n",
       "      <td>39022</td>\n",
       "      <td>39029</td>\n",
       "      <td>7</td>\n",
       "      <td>287</td>\n",
       "      <td>s11,s12,s2037,s2038,s2133,s2928,s2134,s2135,s2...</td>\n",
       "      <td>[s12, s2037, s2038, s2133, s2928, s2134, s2135...</td>\n",
       "      <td>s11</td>\n",
       "      <td>s13</td>\n",
       "      <td>8</td>\n",
       "      <td>BubbleRegion_8</td>\n",
       "      <td>8</td>\n",
       "      <td>NaN</td>\n",
       "      <td>NaN</td>\n",
       "    </tr>\n",
       "    <tr>\n",
       "      <th>8</th>\n",
       "      <td>NC_000962.3</td>\n",
       "      <td>63092</td>\n",
       "      <td>63092</td>\n",
       "      <td>0</td>\n",
       "      <td>1358</td>\n",
       "      <td>s13,s2824,s14</td>\n",
       "      <td>[s2824]</td>\n",
       "      <td>s13</td>\n",
       "      <td>s14</td>\n",
       "      <td>9</td>\n",
       "      <td>BubbleRegion_9</td>\n",
       "      <td>1</td>\n",
       "      <td>NaN</td>\n",
       "      <td>NaN</td>\n",
       "    </tr>\n",
       "    <tr>\n",
       "      <th>9</th>\n",
       "      <td>NC_000962.3</td>\n",
       "      <td>68269</td>\n",
       "      <td>68269</td>\n",
       "      <td>0</td>\n",
       "      <td>1358</td>\n",
       "      <td>s14,s3018,s15</td>\n",
       "      <td>[s3018]</td>\n",
       "      <td>s14</td>\n",
       "      <td>s15</td>\n",
       "      <td>10</td>\n",
       "      <td>BubbleRegion_10</td>\n",
       "      <td>1</td>\n",
       "      <td>Rv0063</td>\n",
       "      <td>Rv0063</td>\n",
       "    </tr>\n",
       "  </tbody>\n",
       "</table>\n",
       "</div>"
      ],
      "text/plain": [
       "           Chr  Start    End  Len_Ref  Len_Alt                                           NodePath                                   NodePath_Trimmed Start_Node End_Node  BubbleNum         BubbleID  NumSVNodes Overlap_Genes Overlap_Gene_RvIDs\n",
       "6  NC_000962.3  38999  38999        0       56                                      s10,s2662,s11                                            [s2662]        s10      s11          7   BubbleRegion_7           1           NaN                NaN\n",
       "7  NC_000962.3  39022  39029        7      287  s11,s12,s2037,s2038,s2133,s2928,s2134,s2135,s2...  [s12, s2037, s2038, s2133, s2928, s2134, s2135...        s11      s13          8   BubbleRegion_8           8           NaN                NaN\n",
       "8  NC_000962.3  63092  63092        0     1358                                      s13,s2824,s14                                            [s2824]        s13      s14          9   BubbleRegion_9           1           NaN                NaN\n",
       "9  NC_000962.3  68269  68269        0     1358                                      s14,s3018,s15                                            [s3018]        s14      s15         10  BubbleRegion_10           1        Rv0063             Rv0063"
      ]
     },
     "execution_count": 166,
     "metadata": {},
     "output_type": "execute_result"
    }
   ],
   "source": [
    "MG_SV_BED_DF.head(10).tail(4)"
   ]
  },
  {
   "cell_type": "code",
   "execution_count": 167,
   "id": "dd1c5f36-8741-4a5e-ba8b-fd7b94c8a5a7",
   "metadata": {},
   "outputs": [
    {
     "data": {
      "text/plain": [
       "count    535.000000\n",
       "mean       4.971963\n",
       "std       15.103549\n",
       "min        0.000000\n",
       "25%        1.000000\n",
       "50%        1.000000\n",
       "75%        3.500000\n",
       "max      224.000000\n",
       "Name: NumSVNodes, dtype: float64"
      ]
     },
     "execution_count": 167,
     "metadata": {},
     "output_type": "execute_result"
    }
   ],
   "source": [
    "MG_SV_BED_DF[\"NumSVNodes\"].describe() "
   ]
  },
  {
   "cell_type": "code",
   "execution_count": 168,
   "id": "7f561764-3a4c-46f3-80f4-8257b885789b",
   "metadata": {},
   "outputs": [
    {
     "name": "stdout",
     "output_type": "stream",
     "text": [
      "mkdir: cannot create directory ‘Results2_Plots/’: File exists\n"
     ]
    }
   ],
   "source": [
    "!mkdir Results2_Plots/"
   ]
  },
  {
   "cell_type": "code",
   "execution_count": 169,
   "id": "3fd18eb8-bc8f-43f9-bd3f-9e7bd2a421b2",
   "metadata": {},
   "outputs": [
    {
     "data": {
      "image/png": "[encoded data removed]",
      "text/plain": [
       "<Figure size 432x288 with 1 Axes>"
      ]
     },
     "metadata": {
      "needs_background": "light"
     },
     "output_type": "display_data"
    }
   ],
   "source": [
    "plt.figure(figsize =(6,4) ) \n",
    "sns.set_context(\"paper\", font_scale=2)\n",
    "\n",
    "sns.histplot(MG_SV_BED_DF[\"NumSVNodes\"].values, bins = np.arange(0, 250, 1), color = '#4F4F4F' ) \n",
    "sns.despine()\n",
    "\n",
    "#plt.title(\"Distr. of SV nodes per SV bubble\")\n",
    "plt.ylabel(\"Count\")\n",
    "plt.xlabel(\"# of SV-nodes per bubble region\")\n",
    "plt.xlim(0,36)\n",
    "\n",
    "\n",
    "# Get current x-axis tick locations\n",
    "current_ticks = plt.xticks()[0]\n",
    "\n",
    "# Shift ticks by half a count to the right\n",
    "shifted_ticks = current_ticks + 0.5\n",
    "\n",
    "# Set new ticks\n",
    "plt.xticks([10.5, 20.5, 30.5], [10, 20, 30] )\n",
    "\n",
    "plt.savefig(\"Results2_Plots/2.B.SVNodesPerBubble.Histo.png\", dpi = 300)\n",
    "plt.savefig(\"Results2_Plots/2.B.SVNodesPerBubble.Histo.svg\")\n",
    "\n",
    "plt.show()"
   ]
  },
  {
   "cell_type": "markdown",
   "id": "2a7e7200-8cf7-4da9-b68c-ecd10e60301c",
   "metadata": {},
   "source": [
    "### Look at length distribution of of SV nodes"
   ]
  },
  {
   "cell_type": "code",
   "execution_count": 170,
   "id": "9e48dcba-c467-49cc-81f6-263347b0bec6",
   "metadata": {},
   "outputs": [
    {
     "data": {
      "text/plain": [
       "count     2025.000000\n",
       "mean       630.395062\n",
       "std       1476.309335\n",
       "min         31.000000\n",
       "25%         71.000000\n",
       "50%        174.000000\n",
       "75%        932.000000\n",
       "max      37214.000000\n",
       "Name: SeqLength, dtype: float64"
      ]
     },
     "execution_count": 170,
     "metadata": {},
     "output_type": "execute_result"
    }
   ],
   "source": [
    "MG_SVNodes_PASS_DF[\"SeqLength\"].describe()"
   ]
  },
  {
   "cell_type": "code",
   "execution_count": 171,
   "id": "b79e7b35-778c-4fc3-aacd-8614a4417d49",
   "metadata": {},
   "outputs": [
    {
     "data": {
      "image/png": "[encoded data removed]",
      "text/plain": [
       "<Figure size 432x288 with 1 Axes>"
      ]
     },
     "metadata": {
      "needs_background": "light"
     },
     "output_type": "display_data"
    }
   ],
   "source": [
    "plt.figure(figsize =(6,4) ) \n",
    "sns.set_context(\"paper\", font_scale=2)\n",
    "\n",
    "sns.histplot(MG_SVNodes_PASS_DF[\"SeqLength\"].values, bins = np.arange(0, 40000, 250), color = '#4F4F4F' )  \n",
    "sns.despine()\n",
    "\n",
    "plt.xlim(0, 10000)\n",
    "plt.xlabel(\"SV-Node Length (kb)\")\n",
    "\n",
    "\n",
    "x_tick_loc = [2000, 4000, 6000, 8000, 10000]\n",
    "#x_tick_label = [\"2 kb\", \"4 kb\", \"6 kb\", \"8 kb\", \"10 kb\"]\n",
    "x_tick_label = [2, 4, 6, 8, 10]\n",
    "\n",
    "#x_tick_loc = np.arange(0, 11000, 1000)\n",
    "#x_tick_label = np.arange(0, 11, 1)\n",
    "\n",
    "\n",
    "plt.xticks(x_tick_loc, x_tick_label )\n",
    "\n",
    "plt.savefig(\"Results2_Plots/2.C.SVNodeLen.Histo.png\", dpi = 300)\n",
    "plt.savefig(\"Results2_Plots/2.C.SVNodeLen.Histo.svg\")\n",
    "\n",
    "plt.show()"
   ]
  },
  {
   "cell_type": "code",
   "execution_count": null,
   "id": "18702234-42e2-4db2-a5ff-93660677581d",
   "metadata": {},
   "outputs": [],
   "source": []
  },
  {
   "cell_type": "markdown",
   "id": "9d0289e6-af52-4737-85de-1951695b38d4",
   "metadata": {},
   "source": [
    "## Pull out Bubble Region Examples for Main Figure (#2)"
   ]
  },
  {
   "cell_type": "code",
   "execution_count": 172,
   "id": "7db55148-0cd3-4840-a1e4-b26d2dbafd4c",
   "metadata": {},
   "outputs": [
    {
     "data": {
      "text/html": [
       "<div>\n",
       "<style scoped>\n",
       "    .dataframe tbody tr th:only-of-type {\n",
       "        vertical-align: middle;\n",
       "    }\n",
       "\n",
       "    .dataframe tbody tr th {\n",
       "        vertical-align: top;\n",
       "    }\n",
       "\n",
       "    .dataframe thead th {\n",
       "        text-align: right;\n",
       "    }\n",
       "</style>\n",
       "<table border=\"1\" class=\"dataframe\">\n",
       "  <thead>\n",
       "    <tr style=\"text-align: right;\">\n",
       "      <th></th>\n",
       "      <th>Chr</th>\n",
       "      <th>Start</th>\n",
       "      <th>End</th>\n",
       "      <th>Len_Ref</th>\n",
       "      <th>Len_Alt</th>\n",
       "      <th>NodePath</th>\n",
       "      <th>NodePath_Trimmed</th>\n",
       "      <th>Start_Node</th>\n",
       "      <th>End_Node</th>\n",
       "      <th>BubbleNum</th>\n",
       "      <th>BubbleID</th>\n",
       "      <th>NumSVNodes</th>\n",
       "      <th>Overlap_Genes</th>\n",
       "      <th>Overlap_Gene_RvIDs</th>\n",
       "    </tr>\n",
       "  </thead>\n",
       "  <tbody>\n",
       "    <tr>\n",
       "      <th>19</th>\n",
       "      <td>NC_000962.3</td>\n",
       "      <td>189429</td>\n",
       "      <td>189429</td>\n",
       "      <td>0</td>\n",
       "      <td>186</td>\n",
       "      <td>s51,s2793,s52</td>\n",
       "      <td>[s2793]</td>\n",
       "      <td>s51</td>\n",
       "      <td>s52</td>\n",
       "      <td>20</td>\n",
       "      <td>BubbleRegion_20</td>\n",
       "      <td>1</td>\n",
       "      <td>PE4</td>\n",
       "      <td>Rv0160c</td>\n",
       "    </tr>\n",
       "  </tbody>\n",
       "</table>\n",
       "</div>"
      ],
      "text/plain": [
       "            Chr   Start     End  Len_Ref  Len_Alt       NodePath NodePath_Trimmed Start_Node End_Node  BubbleNum         BubbleID  NumSVNodes Overlap_Genes Overlap_Gene_RvIDs\n",
       "19  NC_000962.3  189429  189429        0      186  s51,s2793,s52          [s2793]        s51      s52         20  BubbleRegion_20           1           PE4            Rv0160c"
      ]
     },
     "execution_count": 172,
     "metadata": {},
     "output_type": "execute_result"
    }
   ],
   "source": [
    "MG_SV_BED_DF.query(\"BubbleID == 'BubbleRegion_20'\")   "
   ]
  },
  {
   "cell_type": "code",
   "execution_count": 173,
   "id": "294b78b3-32c5-4953-b92d-90d5e0a69524",
   "metadata": {},
   "outputs": [
    {
     "data": {
      "text/html": [
       "<div>\n",
       "<style scoped>\n",
       "    .dataframe tbody tr th:only-of-type {\n",
       "        vertical-align: middle;\n",
       "    }\n",
       "\n",
       "    .dataframe tbody tr th {\n",
       "        vertical-align: top;\n",
       "    }\n",
       "\n",
       "    .dataframe thead th {\n",
       "        text-align: right;\n",
       "    }\n",
       "</style>\n",
       "<table border=\"1\" class=\"dataframe\">\n",
       "  <thead>\n",
       "    <tr style=\"text-align: right;\">\n",
       "      <th></th>\n",
       "      <th>Chr</th>\n",
       "      <th>Start</th>\n",
       "      <th>End</th>\n",
       "      <th>Len_Ref</th>\n",
       "      <th>Len_Alt</th>\n",
       "      <th>NodePath</th>\n",
       "      <th>NodePath_Trimmed</th>\n",
       "      <th>Start_Node</th>\n",
       "      <th>End_Node</th>\n",
       "      <th>BubbleNum</th>\n",
       "      <th>BubbleID</th>\n",
       "      <th>NumSVNodes</th>\n",
       "      <th>Overlap_Genes</th>\n",
       "      <th>Overlap_Gene_RvIDs</th>\n",
       "    </tr>\n",
       "  </thead>\n",
       "  <tbody>\n",
       "    <tr>\n",
       "      <th>308</th>\n",
       "      <td>NC_000962.3</td>\n",
       "      <td>2627049</td>\n",
       "      <td>2639487</td>\n",
       "      <td>3507</td>\n",
       "      <td>30484</td>\n",
       "      <td>s939,s2720,s940,s2462,s941,s2966,s942,s943,s30...</td>\n",
       "      <td>[s2720, s940, s2462, s941, s2966, s942, s943, ...</td>\n",
       "      <td>s939</td>\n",
       "      <td>s970</td>\n",
       "      <td>309</td>\n",
       "      <td>BubbleRegion_309</td>\n",
       "      <td>88</td>\n",
       "      <td>plcC,plcB,plcA,PPE38,PPE39,Rv2354,Rv2355,PPE40</td>\n",
       "      <td>Rv2349c,Rv2350c,Rv2351c,Rv2352c,Rv2353c,Rv2354...</td>\n",
       "    </tr>\n",
       "  </tbody>\n",
       "</table>\n",
       "</div>"
      ],
      "text/plain": [
       "             Chr    Start      End  Len_Ref  Len_Alt                                           NodePath                                   NodePath_Trimmed Start_Node End_Node  BubbleNum          BubbleID  NumSVNodes                                   Overlap_Genes                                 Overlap_Gene_RvIDs\n",
       "308  NC_000962.3  2627049  2639487     3507    30484  s939,s2720,s940,s2462,s941,s2966,s942,s943,s30...  [s2720, s940, s2462, s941, s2966, s942, s943, ...       s939     s970        309  BubbleRegion_309          88  plcC,plcB,plcA,PPE38,PPE39,Rv2354,Rv2355,PPE40  Rv2349c,Rv2350c,Rv2351c,Rv2352c,Rv2353c,Rv2354..."
      ]
     },
     "execution_count": 173,
     "metadata": {},
     "output_type": "execute_result"
    }
   ],
   "source": [
    "MG_SV_BED_DF.query(\"BubbleID == 'BubbleRegion_309'\") "
   ]
  },
  {
   "cell_type": "code",
   "execution_count": 174,
   "id": "fc61e40f-ec62-4f2d-8db7-8caf1cefab2a",
   "metadata": {},
   "outputs": [
    {
     "data": {
      "text/html": [
       "<div>\n",
       "<style scoped>\n",
       "    .dataframe tbody tr th:only-of-type {\n",
       "        vertical-align: middle;\n",
       "    }\n",
       "\n",
       "    .dataframe tbody tr th {\n",
       "        vertical-align: top;\n",
       "    }\n",
       "\n",
       "    .dataframe thead th {\n",
       "        text-align: right;\n",
       "    }\n",
       "</style>\n",
       "<table border=\"1\" class=\"dataframe\">\n",
       "  <thead>\n",
       "    <tr style=\"text-align: right;\">\n",
       "      <th></th>\n",
       "      <th>Chr</th>\n",
       "      <th>Start</th>\n",
       "      <th>End</th>\n",
       "      <th>Len_Ref</th>\n",
       "      <th>Len_Alt</th>\n",
       "      <th>NodePath</th>\n",
       "      <th>NodePath_Trimmed</th>\n",
       "      <th>Start_Node</th>\n",
       "      <th>End_Node</th>\n",
       "      <th>BubbleNum</th>\n",
       "      <th>BubbleID</th>\n",
       "      <th>NumSVNodes</th>\n",
       "      <th>Overlap_Genes</th>\n",
       "      <th>Overlap_Gene_RvIDs</th>\n",
       "    </tr>\n",
       "  </thead>\n",
       "  <tbody>\n",
       "    <tr>\n",
       "      <th>192</th>\n",
       "      <td>NC_000962.3</td>\n",
       "      <td>1761789</td>\n",
       "      <td>1761789</td>\n",
       "      <td>0</td>\n",
       "      <td>3511</td>\n",
       "      <td>s575,s1800,s2706,s1801,s576</td>\n",
       "      <td>[s1800, s2706, s1801]</td>\n",
       "      <td>s575</td>\n",
       "      <td>s576</td>\n",
       "      <td>193</td>\n",
       "      <td>BubbleRegion_193</td>\n",
       "      <td>3</td>\n",
       "      <td>mmpL6</td>\n",
       "      <td>Rv1557</td>\n",
       "    </tr>\n",
       "  </tbody>\n",
       "</table>\n",
       "</div>"
      ],
      "text/plain": [
       "             Chr    Start      End  Len_Ref  Len_Alt                     NodePath       NodePath_Trimmed Start_Node End_Node  BubbleNum          BubbleID  NumSVNodes Overlap_Genes Overlap_Gene_RvIDs\n",
       "192  NC_000962.3  1761789  1761789        0     3511  s575,s1800,s2706,s1801,s576  [s1800, s2706, s1801]       s575     s576        193  BubbleRegion_193           3         mmpL6             Rv1557"
      ]
     },
     "execution_count": 174,
     "metadata": {},
     "output_type": "execute_result"
    }
   ],
   "source": [
    "MG_SV_BED_DF.query(\"BubbleID == 'BubbleRegion_193'\")"
   ]
  },
  {
   "cell_type": "code",
   "execution_count": 175,
   "id": "7d6390ff-a546-424c-a643-ebfa0d7e2d8f",
   "metadata": {},
   "outputs": [],
   "source": [
    "MG_CoreNodes_All_DF = MG_Nodes_KmerComp_DF.query(\"IsSVNode == False\")\n"
   ]
  },
  {
   "cell_type": "code",
   "execution_count": null,
   "id": "e5469748-4388-489e-952f-8840971ff358",
   "metadata": {},
   "outputs": [],
   "source": []
  },
  {
   "cell_type": "code",
   "execution_count": null,
   "id": "95ce6653-60c3-4a37-b16f-1c1e174472f6",
   "metadata": {},
   "outputs": [],
   "source": []
  },
  {
   "cell_type": "code",
   "execution_count": null,
   "id": "99724094-050f-4ecb-b222-81fd7e4358b2",
   "metadata": {},
   "outputs": [],
   "source": []
  },
  {
   "cell_type": "code",
   "execution_count": 176,
   "id": "1f2a4daa-33f8-4562-80e0-16cf42f85fdb",
   "metadata": {},
   "outputs": [
    {
     "data": {
      "text/html": [
       "<div>\n",
       "<style scoped>\n",
       "    .dataframe tbody tr th:only-of-type {\n",
       "        vertical-align: middle;\n",
       "    }\n",
       "\n",
       "    .dataframe tbody tr th {\n",
       "        vertical-align: top;\n",
       "    }\n",
       "\n",
       "    .dataframe thead th {\n",
       "        text-align: right;\n",
       "    }\n",
       "</style>\n",
       "<table border=\"1\" class=\"dataframe\">\n",
       "  <thead>\n",
       "    <tr style=\"text-align: right;\">\n",
       "      <th></th>\n",
       "      <th>NodeID</th>\n",
       "      <th>SeqLength</th>\n",
       "      <th>Jaccard_Cont_WiRv</th>\n",
       "      <th>Jaccard_Cont_WiIS6110</th>\n",
       "      <th>Jaccard_Cont_WiRv_InsSeqAndPhages</th>\n",
       "      <th>IsSVNode</th>\n",
       "      <th>BubbleID</th>\n",
       "      <th>MaxJC_ToOtherNode</th>\n",
       "    </tr>\n",
       "  </thead>\n",
       "  <tbody>\n",
       "    <tr>\n",
       "      <th>2</th>\n",
       "      <td>s3</td>\n",
       "      <td>56</td>\n",
       "      <td>1.0</td>\n",
       "      <td>0.0</td>\n",
       "      <td>0.0</td>\n",
       "      <td>True</td>\n",
       "      <td>BubbleRegion_2</td>\n",
       "      <td>0.961538</td>\n",
       "    </tr>\n",
       "    <tr>\n",
       "      <th>6</th>\n",
       "      <td>s7</td>\n",
       "      <td>1876</td>\n",
       "      <td>1.0</td>\n",
       "      <td>0.0</td>\n",
       "      <td>0.0</td>\n",
       "      <td>True</td>\n",
       "      <td>BubbleRegion_4</td>\n",
       "      <td>0.006501</td>\n",
       "    </tr>\n",
       "    <tr>\n",
       "      <th>15</th>\n",
       "      <td>s16</td>\n",
       "      <td>904</td>\n",
       "      <td>1.0</td>\n",
       "      <td>0.0</td>\n",
       "      <td>0.0</td>\n",
       "      <td>True</td>\n",
       "      <td>BubbleRegion_11</td>\n",
       "      <td>0.000000</td>\n",
       "    </tr>\n",
       "    <tr>\n",
       "      <th>17</th>\n",
       "      <td>s18</td>\n",
       "      <td>732</td>\n",
       "      <td>1.0</td>\n",
       "      <td>0.0</td>\n",
       "      <td>0.0</td>\n",
       "      <td>True</td>\n",
       "      <td>BubbleRegion_12</td>\n",
       "      <td>0.000000</td>\n",
       "    </tr>\n",
       "  </tbody>\n",
       "</table>\n",
       "</div>"
      ],
      "text/plain": [
       "   NodeID  SeqLength  Jaccard_Cont_WiRv  Jaccard_Cont_WiIS6110  Jaccard_Cont_WiRv_InsSeqAndPhages  IsSVNode         BubbleID  MaxJC_ToOtherNode\n",
       "2      s3         56                1.0                    0.0                                0.0      True   BubbleRegion_2           0.961538\n",
       "6      s7       1876                1.0                    0.0                                0.0      True   BubbleRegion_4           0.006501\n",
       "15    s16        904                1.0                    0.0                                0.0      True  BubbleRegion_11           0.000000\n",
       "17    s18        732                1.0                    0.0                                0.0      True  BubbleRegion_12           0.000000"
      ]
     },
     "execution_count": 176,
     "metadata": {},
     "output_type": "execute_result"
    }
   ],
   "source": [
    "MG_SVNodes_PASS_DF.head(4)"
   ]
  },
  {
   "cell_type": "markdown",
   "id": "3bdb1253-9625-4f24-b374-b60a8d4e8c6f",
   "metadata": {},
   "source": [
    "## Part 3: Summary of node classifications within the SV pan-genome graph\n",
    "\n",
    "- Question 1: How many Core Nodes are there? What is there cumulative length?\n",
    "  \n",
    "- Question 2: How many SV Nodes are there? What is there cumulative length?\n",
    "  \n",
    "    - Question 3: How many SV nodes are too small to be evaluated using k-mer (31-mer) based comparison? (length < 31bp)\n",
    "\n",
    "    - Question 4: How many SV nodes are long enough to be evaluated using k-mer (31-mer) based comparison? (\"PASS\" SV Nodes)\n",
    "  \n",
    "    - Question 5: How many SV nodes have \"unique sequence content within the graph\"?\n",
    "\n",
    "        - Question 6: Of nodes that are are classified as \"unique sequence content within the graph\", how much is also \"unique relative to H37Rv\"?\n",
    "  \n",
    "    - Question 7: How many SV nodes have \"non-unique sequence content within the graph\"?\n",
    "        - Question 8: Of nodes that are are classified as \"non-unique sequence content within the graph\", how much is \"unique relative to H37Rv\"?\n",
    "          \n",
    "        - Question 9: Of the nodes that are classified as \"non-unique sequence content within the graph\", how many have k-mer overlap w/ sequences annotated as related to \"phages & insertion sequences\"?\n",
    "  \n",
    "            - Question 10: Of the nodes that are classified as i) \"non-unique sequence\" & ii) \"phages & insertion sequences\", how many share k-mer content with the IS6110 element specifically?\n"
   ]
  },
  {
   "cell_type": "markdown",
   "id": "69539123-8fcd-4485-abf8-978603088a57",
   "metadata": {},
   "source": [
    "#### Preparation - Breakdown core and SV nodes"
   ]
  },
  {
   "cell_type": "code",
   "execution_count": 177,
   "id": "86e49cce-5c36-4dec-b8d1-f89d131965a4",
   "metadata": {},
   "outputs": [],
   "source": [
    "MG_CoreNodes_All_DF = MG_Nodes_KmerComp_DF.query(\"IsSVNode == False\")\n",
    "\n",
    "MG_SVNodes_All_DF = MG_Nodes_KmerComp_DF.query(\"IsSVNode == True\")\n",
    "MG_SVNodes_PASS_DF = MG_Nodes_KmerComp_DF.query(\"IsSVNode == True\").query(\"SeqLength >= 31\")     \n",
    "MG_SVNodes_Sub31bp_DF = MG_Nodes_KmerComp_DF.query(\"IsSVNode == True\").query(\"SeqLength < 31\")     \n"
   ]
  },
  {
   "cell_type": "code",
   "execution_count": null,
   "id": "02c2cf51-2e68-403b-9a85-662c028508e5",
   "metadata": {},
   "outputs": [],
   "source": []
  },
  {
   "cell_type": "markdown",
   "id": "38229aa8-936a-47ce-b398-c682a3eb92ca",
   "metadata": {},
   "source": [
    "#### Question 1: How many Core Nodes are there? What is there cumulative length?"
   ]
  },
  {
   "cell_type": "code",
   "execution_count": 178,
   "id": "c5e4917c-dac0-4fc0-bf0c-ea188c198951",
   "metadata": {},
   "outputs": [
    {
     "data": {
      "text/plain": [
       "536"
      ]
     },
     "execution_count": 178,
     "metadata": {},
     "output_type": "execute_result"
    }
   ],
   "source": [
    "MG_CoreNodes_All_DF.shape[0] "
   ]
  },
  {
   "cell_type": "code",
   "execution_count": 179,
   "id": "4598bd72-2ad0-4bfd-bc25-fb31657d5441",
   "metadata": {},
   "outputs": [
    {
     "data": {
      "text/plain": [
       "3913140"
      ]
     },
     "execution_count": 179,
     "metadata": {},
     "output_type": "execute_result"
    }
   ],
   "source": [
    "MG_CoreNodes_All_DF[\"SeqLength\"].sum()"
   ]
  },
  {
   "cell_type": "code",
   "execution_count": null,
   "id": "1345aeb7-754f-441a-a61d-df545591462b",
   "metadata": {},
   "outputs": [],
   "source": []
  },
  {
   "cell_type": "markdown",
   "id": "b11fcabd-229e-4b40-b45c-ab1285333c3d",
   "metadata": {},
   "source": [
    "#### Question 2: How many SV Nodes are there? What is there cumulative length?"
   ]
  },
  {
   "cell_type": "code",
   "execution_count": 180,
   "id": "41173fc3-1aa5-4c58-9bdd-fe8dfcd8d8b5",
   "metadata": {},
   "outputs": [
    {
     "data": {
      "text/plain": [
       "2602"
      ]
     },
     "execution_count": 180,
     "metadata": {},
     "output_type": "execute_result"
    }
   ],
   "source": [
    "MG_SVNodes_All_DF.shape[0]"
   ]
  },
  {
   "cell_type": "code",
   "execution_count": 181,
   "id": "28f77ebf-a1eb-4521-8a57-936993526e4f",
   "metadata": {},
   "outputs": [
    {
     "data": {
      "text/plain": [
       "1283223"
      ]
     },
     "execution_count": 181,
     "metadata": {},
     "output_type": "execute_result"
    }
   ],
   "source": [
    "MG_SVNodes_All_DF[\"SeqLength\"].sum()"
   ]
  },
  {
   "cell_type": "markdown",
   "id": "1786ea93-9a7f-47f6-baae-1d39febee781",
   "metadata": {},
   "source": [
    "#### Question 3: How many SV nodes are too small to be evaluated using k-mer (31-mer) based comparison? (Filtered out for downstream evaluation)\n",
    "\n",
    "Basically, how many have length < 31bp?"
   ]
  },
  {
   "cell_type": "code",
   "execution_count": 182,
   "id": "de28a56b-9a85-486f-9168-4758ab2b4f06",
   "metadata": {},
   "outputs": [
    {
     "data": {
      "text/plain": [
       "577"
      ]
     },
     "execution_count": 182,
     "metadata": {},
     "output_type": "execute_result"
    }
   ],
   "source": [
    "MG_SVNodes_Sub31bp_DF.shape[0]"
   ]
  },
  {
   "cell_type": "code",
   "execution_count": 183,
   "id": "6ebfc418-f7c8-49b6-a314-146cb5d14e3d",
   "metadata": {},
   "outputs": [
    {
     "data": {
      "text/plain": [
       "6673"
      ]
     },
     "execution_count": 183,
     "metadata": {},
     "output_type": "execute_result"
    }
   ],
   "source": [
    "MG_SVNodes_Sub31bp_DF[\"SeqLength\"].sum() "
   ]
  },
  {
   "cell_type": "code",
   "execution_count": null,
   "id": "4c06bcb7-d5ed-4d4e-833c-63dbc4b910d2",
   "metadata": {},
   "outputs": [],
   "source": []
  },
  {
   "cell_type": "markdown",
   "id": "ba0fca3c-ab29-4697-8230-4a557ef952c0",
   "metadata": {},
   "source": [
    "#### Question 4: How many SV nodes are long enough to be evaluated using k-mer (31-mer) based comparison? (\"PASS\" SV Nodes)\n",
    "\n",
    "Basically, how many SV nodes have length >= 31bp?"
   ]
  },
  {
   "cell_type": "code",
   "execution_count": 184,
   "id": "981ce594-24c7-4be6-a422-f5567fb278cf",
   "metadata": {
    "scrolled": true
   },
   "outputs": [
    {
     "data": {
      "text/plain": [
       "2025"
      ]
     },
     "execution_count": 184,
     "metadata": {},
     "output_type": "execute_result"
    }
   ],
   "source": [
    "MG_SVNodes_PASS_DF.shape[0]"
   ]
  },
  {
   "cell_type": "code",
   "execution_count": 185,
   "id": "26bff2a1-8247-4463-ad33-4c2efa0a63aa",
   "metadata": {},
   "outputs": [
    {
     "data": {
      "text/plain": [
       "1276550"
      ]
     },
     "execution_count": 185,
     "metadata": {},
     "output_type": "execute_result"
    }
   ],
   "source": [
    "MG_SVNodes_PASS_DF[\"SeqLength\"].sum() "
   ]
  },
  {
   "cell_type": "code",
   "execution_count": null,
   "id": "77796921-c17e-46cd-91c9-b5648cea7691",
   "metadata": {},
   "outputs": [],
   "source": []
  },
  {
   "cell_type": "markdown",
   "id": "950072dc-8c41-4136-b83a-3707929f56cf",
   "metadata": {},
   "source": [
    "#### Question 5: How many SV nodes have \"unique sequence content within the graph\"?"
   ]
  },
  {
   "cell_type": "code",
   "execution_count": 186,
   "id": "43237416-1704-4575-a129-ce2c933a05e3",
   "metadata": {},
   "outputs": [],
   "source": [
    "MG_SVNodes_UnqSeq_DF =  MG_SVNodes_PASS_DF.query(\"MaxJC_ToOtherNode < 0.05\")"
   ]
  },
  {
   "cell_type": "code",
   "execution_count": 187,
   "id": "e51e61a0-db4d-4443-ada4-bcd56817038c",
   "metadata": {},
   "outputs": [
    {
     "data": {
      "text/plain": [
       "463"
      ]
     },
     "execution_count": 187,
     "metadata": {},
     "output_type": "execute_result"
    }
   ],
   "source": [
    "MG_SVNodes_UnqSeq_DF.shape[0]"
   ]
  },
  {
   "cell_type": "code",
   "execution_count": 188,
   "id": "5a617459-9b09-47b8-9a16-5d5db4d93524",
   "metadata": {},
   "outputs": [
    {
     "data": {
      "text/plain": [
       "301511"
      ]
     },
     "execution_count": 188,
     "metadata": {},
     "output_type": "execute_result"
    }
   ],
   "source": [
    "MG_SVNodes_UnqSeq_DF[\"SeqLength\"].sum()"
   ]
  },
  {
   "cell_type": "code",
   "execution_count": 189,
   "id": "61a535c1-aa54-43c3-bd1e-32eac7b6c174",
   "metadata": {},
   "outputs": [
    {
     "data": {
      "text/plain": [
       "0.2349638371506745"
      ]
     },
     "execution_count": 189,
     "metadata": {},
     "output_type": "execute_result"
    }
   ],
   "source": [
    "301511 / 1283223 # len of unique SV nodes / total len of SV nodes"
   ]
  },
  {
   "cell_type": "code",
   "execution_count": 190,
   "id": "549a3b81-a3c2-437f-803e-10a32bb94760",
   "metadata": {},
   "outputs": [
    {
     "data": {
      "text/plain": [
       "0.2323076923076923"
      ]
     },
     "execution_count": 190,
     "metadata": {},
     "output_type": "execute_result"
    }
   ],
   "source": [
    "302 / 1300 # 302 kb / 1,300 kb"
   ]
  },
  {
   "cell_type": "code",
   "execution_count": null,
   "id": "9f0822e4-a219-4481-aa31-10964ff516b7",
   "metadata": {},
   "outputs": [],
   "source": []
  },
  {
   "cell_type": "markdown",
   "id": "e97520d7-4292-4e45-ae77-7eae7b17fdf9",
   "metadata": {},
   "source": [
    "#### Question 6: Of \"unique sequence content within the graph\" nodes, how much is **also** \"unique relative to H37Rv\"?"
   ]
  },
  {
   "cell_type": "code",
   "execution_count": 191,
   "id": "d5c0a1a7-e100-4037-a25a-cab324fa0295",
   "metadata": {},
   "outputs": [],
   "source": [
    "MG_SVNodes_UnqSeq_UnqToRv_DF = MG_SVNodes_UnqSeq_DF.query(\"Jaccard_Cont_WiRv < 0.05\")"
   ]
  },
  {
   "cell_type": "code",
   "execution_count": 192,
   "id": "0d3a7721-0e21-422f-893f-63ddb9e49fce",
   "metadata": {},
   "outputs": [
    {
     "data": {
      "text/plain": [
       "76"
      ]
     },
     "execution_count": 192,
     "metadata": {},
     "output_type": "execute_result"
    }
   ],
   "source": [
    "MG_SVNodes_UnqSeq_UnqToRv_DF.shape[0]"
   ]
  },
  {
   "cell_type": "code",
   "execution_count": 193,
   "id": "6efe81ee-fc02-4be6-b80d-7aa2e0078ad5",
   "metadata": {},
   "outputs": [
    {
     "data": {
      "text/plain": [
       "51806"
      ]
     },
     "execution_count": 193,
     "metadata": {},
     "output_type": "execute_result"
    }
   ],
   "source": [
    "MG_SVNodes_UnqSeq_UnqToRv_DF[\"SeqLength\"].sum()  "
   ]
  },
  {
   "cell_type": "code",
   "execution_count": null,
   "id": "105a3258-2ca0-43bd-be17-2251327a3988",
   "metadata": {},
   "outputs": [],
   "source": []
  },
  {
   "cell_type": "markdown",
   "id": "5dcd56a2-ac6c-43ce-ad2a-d535914bb339",
   "metadata": {},
   "source": [
    "#### Question 7: How many SV nodes have \"non-unique sequence content within the graph\"?"
   ]
  },
  {
   "cell_type": "code",
   "execution_count": 194,
   "id": "94bf9184-9759-4368-b494-f7e0a1d0e356",
   "metadata": {},
   "outputs": [],
   "source": [
    "MG_SVNodes_NoUnqSeq_DF = MG_SVNodes_PASS_DF.query(\"MaxJC_ToOtherNode >= 0.05\")"
   ]
  },
  {
   "cell_type": "code",
   "execution_count": 195,
   "id": "df70afb3-b52c-4b13-a7e1-b941395b1285",
   "metadata": {},
   "outputs": [
    {
     "data": {
      "text/plain": [
       "1562"
      ]
     },
     "execution_count": 195,
     "metadata": {},
     "output_type": "execute_result"
    }
   ],
   "source": [
    "MG_SVNodes_NoUnqSeq_DF.shape[0]"
   ]
  },
  {
   "cell_type": "code",
   "execution_count": 196,
   "id": "4e64acf5-5c06-466b-8e7f-ec88391bd0e9",
   "metadata": {},
   "outputs": [
    {
     "data": {
      "text/plain": [
       "975039"
      ]
     },
     "execution_count": 196,
     "metadata": {},
     "output_type": "execute_result"
    }
   ],
   "source": [
    "MG_SVNodes_NoUnqSeq_DF[\"SeqLength\"].sum()  "
   ]
  },
  {
   "cell_type": "code",
   "execution_count": null,
   "id": "d0ecae45-beae-428c-917c-709f0cd2f791",
   "metadata": {},
   "outputs": [],
   "source": []
  },
  {
   "cell_type": "markdown",
   "id": "37143f7c-505d-448f-8f4a-4a33a8a4ce5c",
   "metadata": {},
   "source": [
    "#### Question 8: Of \"non-unique sequence content within the graph\" nodes, how much is **also** \"unique relative to H37Rv\"?"
   ]
  },
  {
   "cell_type": "code",
   "execution_count": 197,
   "id": "800d6bc4-eaf2-41c1-bfb9-16190aca6a87",
   "metadata": {},
   "outputs": [],
   "source": [
    "MG_SVNodes_NoUnqSeq_UnqToRv_DF = MG_SVNodes_NoUnqSeq_DF.query(\"Jaccard_Cont_WiRv < 0.05\")"
   ]
  },
  {
   "cell_type": "code",
   "execution_count": 198,
   "id": "e61d0ff2-df18-4ce4-94e3-4c6216a92732",
   "metadata": {},
   "outputs": [
    {
     "data": {
      "text/plain": [
       "84"
      ]
     },
     "execution_count": 198,
     "metadata": {},
     "output_type": "execute_result"
    }
   ],
   "source": [
    "MG_SVNodes_NoUnqSeq_UnqToRv_DF.shape[0]"
   ]
  },
  {
   "cell_type": "code",
   "execution_count": 199,
   "id": "f9995cb6-340f-464f-a315-483de3a0229a",
   "metadata": {},
   "outputs": [
    {
     "data": {
      "text/plain": [
       "14815"
      ]
     },
     "execution_count": 199,
     "metadata": {},
     "output_type": "execute_result"
    }
   ],
   "source": [
    "MG_SVNodes_NoUnqSeq_UnqToRv_DF[\"SeqLength\"].sum()  "
   ]
  },
  {
   "cell_type": "code",
   "execution_count": null,
   "id": "507ea6d1-de00-499d-b53e-ae115c2ba463",
   "metadata": {},
   "outputs": [],
   "source": []
  },
  {
   "cell_type": "markdown",
   "id": "9f8a09f1-8015-4918-ae75-f1611ecc1304",
   "metadata": {},
   "source": [
    "#### Question 9: Of \"non-unique sequence content within the graph\" nodes, how many have k-mer overlap w/ sequences annotated as related to \"phages & insertion sequences\"?"
   ]
  },
  {
   "cell_type": "code",
   "execution_count": 200,
   "id": "a3697660-d5b3-448e-b17b-8d13ee72ff62",
   "metadata": {},
   "outputs": [],
   "source": [
    "MG_SVNodes_NoUnqSeq_ISandPhages_DF = MG_SVNodes_NoUnqSeq_DF.query(\"Jaccard_Cont_WiRv_InsSeqAndPhages > 0.5\")"
   ]
  },
  {
   "cell_type": "code",
   "execution_count": 201,
   "id": "a1d04850-172f-4792-8807-50a1e2475684",
   "metadata": {},
   "outputs": [
    {
     "data": {
      "text/plain": [
       "339"
      ]
     },
     "execution_count": 201,
     "metadata": {},
     "output_type": "execute_result"
    }
   ],
   "source": [
    "MG_SVNodes_NoUnqSeq_ISandPhages_DF.shape[0] "
   ]
  },
  {
   "cell_type": "code",
   "execution_count": 202,
   "id": "8eb81345-ef0f-41b3-b2e2-ac38c294b157",
   "metadata": {},
   "outputs": [
    {
     "data": {
      "text/plain": [
       "489105"
      ]
     },
     "execution_count": 202,
     "metadata": {},
     "output_type": "execute_result"
    }
   ],
   "source": [
    "MG_SVNodes_NoUnqSeq_ISandPhages_DF[\"SeqLength\"].sum() "
   ]
  },
  {
   "cell_type": "code",
   "execution_count": null,
   "id": "723c6670-7da1-4e95-8708-87b80a9ada0c",
   "metadata": {},
   "outputs": [],
   "source": []
  },
  {
   "cell_type": "markdown",
   "id": "bc767f4a-6393-435f-97b1-4d8519b4ed77",
   "metadata": {},
   "source": [
    "#### - Question 10: Of the nodes that are classified as i) \"non-unique sequence\" & ii) \"phages & insertion sequences\", how many share k-mer content with the IS6110 element specifically?"
   ]
  },
  {
   "cell_type": "code",
   "execution_count": 203,
   "id": "19caa6b9-b7f9-4540-a631-5a2a1936cb90",
   "metadata": {},
   "outputs": [],
   "source": [
    "MG_SVNodes_NoUnqSeq_ISandPhages_IS6110_DF = MG_SVNodes_NoUnqSeq_ISandPhages_DF.query(\"Jaccard_Cont_WiIS6110 > 0.5\")"
   ]
  },
  {
   "cell_type": "code",
   "execution_count": 204,
   "id": "a273f3c4-5a8a-4a61-9f97-851c8b1ea2b2",
   "metadata": {},
   "outputs": [
    {
     "data": {
      "text/plain": [
       "322"
      ]
     },
     "execution_count": 204,
     "metadata": {},
     "output_type": "execute_result"
    }
   ],
   "source": [
    "MG_SVNodes_NoUnqSeq_ISandPhages_IS6110_DF.shape[0]"
   ]
  },
  {
   "cell_type": "code",
   "execution_count": 205,
   "id": "cb5c30bb-afb0-44a7-8000-5fa14be2713d",
   "metadata": {},
   "outputs": [
    {
     "data": {
      "text/plain": [
       "455214"
      ]
     },
     "execution_count": 205,
     "metadata": {},
     "output_type": "execute_result"
    }
   ],
   "source": [
    "MG_SVNodes_NoUnqSeq_ISandPhages_IS6110_DF[\"SeqLength\"].sum()  "
   ]
  },
  {
   "cell_type": "code",
   "execution_count": null,
   "id": "bd3ae5d0-37b3-4917-ba02-7356f4813a05",
   "metadata": {},
   "outputs": [],
   "source": []
  },
  {
   "cell_type": "markdown",
   "id": "c2b00d9f-15e9-4c7f-9622-0d69ec5597ca",
   "metadata": {},
   "source": [
    "#### Question 11: How many SV nodes (& total length) are unique to H37Rv? (Independent of whether it is unique within the graph)"
   ]
  },
  {
   "cell_type": "code",
   "execution_count": 206,
   "id": "e953c661-8ea8-4d0e-8bfb-2731bc1cc002",
   "metadata": {},
   "outputs": [],
   "source": [
    "MG_SVNodes_UnqToRv_All_DF = MG_SVNodes_PASS_DF.query(\"Jaccard_Cont_WiRv < 0.05 & SeqLength >= 31\")"
   ]
  },
  {
   "cell_type": "code",
   "execution_count": 207,
   "id": "77a19961-7885-4a13-bff3-a8c898767406",
   "metadata": {},
   "outputs": [
    {
     "data": {
      "text/plain": [
       "160"
      ]
     },
     "execution_count": 207,
     "metadata": {},
     "output_type": "execute_result"
    }
   ],
   "source": [
    "MG_SVNodes_UnqToRv_All_DF.shape[0]"
   ]
  },
  {
   "cell_type": "code",
   "execution_count": 208,
   "id": "e85e3c9e-f056-4b5c-bc9b-0830aee2df1a",
   "metadata": {},
   "outputs": [
    {
     "data": {
      "text/plain": [
       "66621"
      ]
     },
     "execution_count": 208,
     "metadata": {},
     "output_type": "execute_result"
    }
   ],
   "source": [
    "MG_SVNodes_UnqToRv_All_DF[\"SeqLength\"].sum()  "
   ]
  },
  {
   "cell_type": "code",
   "execution_count": 209,
   "id": "6ae28ab0-0829-42fe-99e4-5b39be6644e2",
   "metadata": {},
   "outputs": [
    {
     "data": {
      "text/plain": [
       "66621"
      ]
     },
     "execution_count": 209,
     "metadata": {},
     "output_type": "execute_result"
    }
   ],
   "source": [
    "14815 + 51806"
   ]
  },
  {
   "cell_type": "code",
   "execution_count": 210,
   "id": "d8270938-3f30-46bd-847a-9a23210e9d97",
   "metadata": {},
   "outputs": [
    {
     "data": {
      "text/plain": [
       "67"
      ]
     },
     "execution_count": 210,
     "metadata": {},
     "output_type": "execute_result"
    }
   ],
   "source": [
    "15 + 52"
   ]
  },
  {
   "cell_type": "code",
   "execution_count": 211,
   "id": "b8bbd50d-92fe-4afb-9114-adbb2ad66e23",
   "metadata": {},
   "outputs": [
    {
     "data": {
      "text/plain": [
       "0.05191693104004526"
      ]
     },
     "execution_count": 211,
     "metadata": {},
     "output_type": "execute_result"
    }
   ],
   "source": [
    "66621 / 1283223 # len of \"unique to H37Rv\" SV nodes / total len of SV nodes"
   ]
  },
  {
   "cell_type": "code",
   "execution_count": 212,
   "id": "b80ef086-b325-4856-8b3c-5b82e174d3c3",
   "metadata": {},
   "outputs": [
    {
     "data": {
      "text/plain": [
       "0.05153846153846154"
      ]
     },
     "execution_count": 212,
     "metadata": {},
     "output_type": "execute_result"
    }
   ],
   "source": [
    "67/ 1300 # 67 kb / 1,300 kb"
   ]
  },
  {
   "cell_type": "code",
   "execution_count": 213,
   "id": "cd6d7989-632f-42ab-beef-8e13a0bac527",
   "metadata": {},
   "outputs": [
    {
     "data": {
      "text/plain": [
       "(160, 8)"
      ]
     },
     "execution_count": 213,
     "metadata": {},
     "output_type": "execute_result"
    }
   ],
   "source": [
    "MG_SVNodes_PASS_DF.query(\"Jaccard_Cont_WiRv < 0.05\").shape"
   ]
  },
  {
   "cell_type": "code",
   "execution_count": null,
   "id": "a2d7011a-f53b-48f6-8f79-1da92b79a252",
   "metadata": {},
   "outputs": [],
   "source": []
  },
  {
   "cell_type": "code",
   "execution_count": null,
   "id": "0191db4d-c959-4d3c-ab0a-384bb49cfdd5",
   "metadata": {},
   "outputs": [],
   "source": []
  },
  {
   "cell_type": "code",
   "execution_count": null,
   "id": "1f17888a-4dbb-4a5a-a6ac-bcf95434255c",
   "metadata": {},
   "outputs": [],
   "source": []
  },
  {
   "cell_type": "markdown",
   "id": "8de4abbd-2eea-4a1d-9f89-a502a296f340",
   "metadata": {
    "tags": []
   },
   "source": [
    "# Part 4: Detect bubble regions with a high proportion of NOVEL content or NOVEL SV nodes"
   ]
  },
  {
   "cell_type": "code",
   "execution_count": 214,
   "id": "6dc7a22f-a3d2-4f5f-9176-c01f15f4fbb3",
   "metadata": {},
   "outputs": [],
   "source": [
    "SVNodes_UnqToGraph_DF_GrpByBubble = MG_SVNodes_UnqSeq_DF.groupby(\"BubbleID\")\n",
    "SVNodes_UnqToRv_DF_GrpByBubble = MG_SVNodes_UnqToRv_All_DF.groupby(\"BubbleID\")\n",
    "\n",
    "MG_SVNodes_DF_GrpByBubble = MG_SVNodes_All_DF.groupby(\"BubbleID\")\n",
    "\n",
    "MG_SVNodes_DF_GrpByBubbleStats = MG_SVNodes_DF_GrpByBubble[\"MaxJC_ToOtherNode\"].describe()[['count']]\n",
    "MG_SVNodes_DF_GrpByBubbleStats.columns = [\"Number_SVNodes\"]\n",
    "\n",
    "MG_SVNodes_DF_GrpByBubbleStats[\"TotalLength\"] = MG_SVNodes_DF_GrpByBubbleStats.index.map(MG_SVNodes_DF_GrpByBubble[\"SeqLength\"].sum().to_dict())\n",
    "\n",
    "MG_SVNodes_DF_GrpByBubbleStats[\"SeqLength_UnqToRv\"] = MG_SVNodes_DF_GrpByBubbleStats.index.map(SVNodes_UnqToRv_DF_GrpByBubble[\"SeqLength\"].sum().to_dict())\n",
    "MG_SVNodes_DF_GrpByBubbleStats[\"SeqLength_UnqToRv\"] = MG_SVNodes_DF_GrpByBubbleStats[\"SeqLength_UnqToRv\"].fillna(0)\n",
    "\n",
    "MG_SVNodes_DF_GrpByBubbleStats[\"SeqLength_UnqToGraph\"] = MG_SVNodes_DF_GrpByBubbleStats.index.map(SVNodes_UnqToGraph_DF_GrpByBubble[\"SeqLength\"].sum().to_dict())\n",
    "MG_SVNodes_DF_GrpByBubbleStats[\"SeqLength_UnqToGraph\"] = MG_SVNodes_DF_GrpByBubbleStats[\"SeqLength_UnqToGraph\"].fillna(0)\n",
    "\n",
    "MG_SVNodes_DF_GrpByBubbleStats[\"Overlap_Genes\"] = MG_SVNodes_DF_GrpByBubbleStats.index.map(BubbleID_To_OvrLapGenes_Dict)\n",
    "\n",
    "Dict_BubbleToNA = MG_SVVCF_DF.set_index('BubbleID')['NA'].to_dict()\n",
    "\n",
    "MG_SVNodes_DF_GrpByBubbleStats[\"NA\"] = MG_SVNodes_DF_GrpByBubbleStats.index.map(Dict_BubbleToNA)\n",
    "\n",
    "MG_SVNodes_DF_GrpByBubbleStats = MG_SVNodes_DF_GrpByBubbleStats.sort_values([\"SeqLength_UnqToRv\",\n",
    "                                                                             \"SeqLength_UnqToGraph\", \n",
    "                                                                             \"Number_SVNodes\"], ascending=False)\n",
    "\n",
    "BubbleStats_UnqKmer_DF = MG_SVNodes_DF_GrpByBubbleStats"
   ]
  },
  {
   "cell_type": "code",
   "execution_count": 215,
   "id": "9da34666-10dc-43f2-90c7-036f48a81e1b",
   "metadata": {},
   "outputs": [
    {
     "data": {
      "text/plain": [
       "(532, 6)"
      ]
     },
     "execution_count": 215,
     "metadata": {},
     "output_type": "execute_result"
    }
   ],
   "source": [
    "BubbleStats_UnqKmer_DF.shape"
   ]
  },
  {
   "cell_type": "code",
   "execution_count": 216,
   "id": "bec9469a-7ec7-4e91-ae52-7f15e076b49e",
   "metadata": {},
   "outputs": [
    {
     "data": {
      "text/html": [
       "<div>\n",
       "<style scoped>\n",
       "    .dataframe tbody tr th:only-of-type {\n",
       "        vertical-align: middle;\n",
       "    }\n",
       "\n",
       "    .dataframe tbody tr th {\n",
       "        vertical-align: top;\n",
       "    }\n",
       "\n",
       "    .dataframe thead th {\n",
       "        text-align: right;\n",
       "    }\n",
       "</style>\n",
       "<table border=\"1\" class=\"dataframe\">\n",
       "  <thead>\n",
       "    <tr style=\"text-align: right;\">\n",
       "      <th></th>\n",
       "      <th>Number_SVNodes</th>\n",
       "      <th>TotalLength</th>\n",
       "      <th>SeqLength_UnqToRv</th>\n",
       "      <th>SeqLength_UnqToGraph</th>\n",
       "      <th>Overlap_Genes</th>\n",
       "      <th>NA</th>\n",
       "    </tr>\n",
       "    <tr>\n",
       "      <th>BubbleID</th>\n",
       "      <th></th>\n",
       "      <th></th>\n",
       "      <th></th>\n",
       "      <th></th>\n",
       "      <th></th>\n",
       "      <th></th>\n",
       "    </tr>\n",
       "  </thead>\n",
       "  <tbody>\n",
       "    <tr>\n",
       "      <th>BubbleRegion_221</th>\n",
       "      <td>108.0</td>\n",
       "      <td>53885</td>\n",
       "      <td>7500.0</td>\n",
       "      <td>7047.0</td>\n",
       "      <td>Rv1754c,plcD,Rv1756c,Rv1757c,cut1,wag22,Rv1760...</td>\n",
       "      <td>42</td>\n",
       "    </tr>\n",
       "    <tr>\n",
       "      <th>BubbleRegion_265</th>\n",
       "      <td>13.0</td>\n",
       "      <td>8232</td>\n",
       "      <td>5518.0</td>\n",
       "      <td>4482.0</td>\n",
       "      <td>Rv2023A,Rv2024c</td>\n",
       "      <td>6</td>\n",
       "    </tr>\n",
       "    <tr>\n",
       "      <th>BubbleRegion_255</th>\n",
       "      <td>25.0</td>\n",
       "      <td>29094</td>\n",
       "      <td>4496.0</td>\n",
       "      <td>14629.0</td>\n",
       "      <td>yrbE3A,yrbE3B,mce3A,mce3B,mce3C,mce3D,lprM,mce...</td>\n",
       "      <td>13</td>\n",
       "    </tr>\n",
       "    <tr>\n",
       "      <th>BubbleRegion_426</th>\n",
       "      <td>53.0</td>\n",
       "      <td>29317</td>\n",
       "      <td>4495.0</td>\n",
       "      <td>4207.0</td>\n",
       "      <td>moaX,moaC3,Rv3324A,Rv3325,Rv3326,Rv3327</td>\n",
       "      <td>30</td>\n",
       "    </tr>\n",
       "    <tr>\n",
       "      <th>BubbleRegion_116</th>\n",
       "      <td>2.0</td>\n",
       "      <td>4541</td>\n",
       "      <td>4399.0</td>\n",
       "      <td>4399.0</td>\n",
       "      <td>Rv0943c,Rv0944</td>\n",
       "      <td>2</td>\n",
       "    </tr>\n",
       "  </tbody>\n",
       "</table>\n",
       "</div>"
      ],
      "text/plain": [
       "                  Number_SVNodes  TotalLength  SeqLength_UnqToRv  SeqLength_UnqToGraph                                      Overlap_Genes  NA\n",
       "BubbleID                                                                                                                                     \n",
       "BubbleRegion_221           108.0        53885             7500.0                7047.0  Rv1754c,plcD,Rv1756c,Rv1757c,cut1,wag22,Rv1760...  42\n",
       "BubbleRegion_265            13.0         8232             5518.0                4482.0                                    Rv2023A,Rv2024c   6\n",
       "BubbleRegion_255            25.0        29094             4496.0               14629.0  yrbE3A,yrbE3B,mce3A,mce3B,mce3C,mce3D,lprM,mce...  13\n",
       "BubbleRegion_426            53.0        29317             4495.0                4207.0            moaX,moaC3,Rv3324A,Rv3325,Rv3326,Rv3327  30\n",
       "BubbleRegion_116             2.0         4541             4399.0                4399.0                                     Rv0943c,Rv0944   2"
      ]
     },
     "execution_count": 216,
     "metadata": {},
     "output_type": "execute_result"
    }
   ],
   "source": [
    "BubbleStats_UnqKmer_DF.head(5)"
   ]
  },
  {
   "cell_type": "code",
   "execution_count": 217,
   "id": "4ae052e6-f54c-45f5-bf29-84fc57dcc81a",
   "metadata": {},
   "outputs": [
    {
     "data": {
      "text/html": [
       "<div>\n",
       "<style scoped>\n",
       "    .dataframe tbody tr th:only-of-type {\n",
       "        vertical-align: middle;\n",
       "    }\n",
       "\n",
       "    .dataframe tbody tr th {\n",
       "        vertical-align: top;\n",
       "    }\n",
       "\n",
       "    .dataframe thead th {\n",
       "        text-align: right;\n",
       "    }\n",
       "</style>\n",
       "<table border=\"1\" class=\"dataframe\">\n",
       "  <thead>\n",
       "    <tr style=\"text-align: right;\">\n",
       "      <th></th>\n",
       "      <th>Number_SVNodes</th>\n",
       "      <th>TotalLength</th>\n",
       "      <th>SeqLength_UnqToRv</th>\n",
       "      <th>SeqLength_UnqToGraph</th>\n",
       "      <th>Overlap_Genes</th>\n",
       "      <th>NA</th>\n",
       "    </tr>\n",
       "    <tr>\n",
       "      <th>BubbleID</th>\n",
       "      <th></th>\n",
       "      <th></th>\n",
       "      <th></th>\n",
       "      <th></th>\n",
       "      <th></th>\n",
       "      <th></th>\n",
       "    </tr>\n",
       "  </thead>\n",
       "  <tbody>\n",
       "    <tr>\n",
       "      <th>BubbleRegion_89</th>\n",
       "      <td>1.0</td>\n",
       "      <td>54</td>\n",
       "      <td>0.0</td>\n",
       "      <td>0.0</td>\n",
       "      <td>NaN</td>\n",
       "      <td>2</td>\n",
       "    </tr>\n",
       "    <tr>\n",
       "      <th>BubbleRegion_9</th>\n",
       "      <td>1.0</td>\n",
       "      <td>1358</td>\n",
       "      <td>0.0</td>\n",
       "      <td>0.0</td>\n",
       "      <td>NaN</td>\n",
       "      <td>2</td>\n",
       "    </tr>\n",
       "    <tr>\n",
       "      <th>BubbleRegion_90</th>\n",
       "      <td>1.0</td>\n",
       "      <td>54</td>\n",
       "      <td>0.0</td>\n",
       "      <td>0.0</td>\n",
       "      <td>rpsH</td>\n",
       "      <td>2</td>\n",
       "    </tr>\n",
       "    <tr>\n",
       "      <th>BubbleRegion_95</th>\n",
       "      <td>1.0</td>\n",
       "      <td>90</td>\n",
       "      <td>0.0</td>\n",
       "      <td>0.0</td>\n",
       "      <td>PE_PGRS10</td>\n",
       "      <td>2</td>\n",
       "    </tr>\n",
       "    <tr>\n",
       "      <th>BubbleRegion_98</th>\n",
       "      <td>1.0</td>\n",
       "      <td>1358</td>\n",
       "      <td>0.0</td>\n",
       "      <td>0.0</td>\n",
       "      <td>NaN</td>\n",
       "      <td>2</td>\n",
       "    </tr>\n",
       "  </tbody>\n",
       "</table>\n",
       "</div>"
      ],
      "text/plain": [
       "                 Number_SVNodes  TotalLength  SeqLength_UnqToRv  SeqLength_UnqToGraph Overlap_Genes  NA\n",
       "BubbleID                                                                                               \n",
       "BubbleRegion_89             1.0           54                0.0                   0.0           NaN   2\n",
       "BubbleRegion_9              1.0         1358                0.0                   0.0           NaN   2\n",
       "BubbleRegion_90             1.0           54                0.0                   0.0          rpsH   2\n",
       "BubbleRegion_95             1.0           90                0.0                   0.0     PE_PGRS10   2\n",
       "BubbleRegion_98             1.0         1358                0.0                   0.0           NaN   2"
      ]
     },
     "execution_count": 217,
     "metadata": {},
     "output_type": "execute_result"
    }
   ],
   "source": [
    "BubbleStats_UnqKmer_DF.tail(5)"
   ]
  },
  {
   "cell_type": "code",
   "execution_count": null,
   "id": "fa91be73-d30f-4be4-80a5-70d1b947c5b5",
   "metadata": {},
   "outputs": [],
   "source": []
  },
  {
   "cell_type": "markdown",
   "id": "e4791e70-1756-4e28-a082-4b03d467b962",
   "metadata": {},
   "source": [
    "### How many bubble regions contain SV Node w/ UNQ content to Rv?"
   ]
  },
  {
   "cell_type": "code",
   "execution_count": 218,
   "id": "09345cc6-bc36-462a-8da6-2e66e45c4efb",
   "metadata": {},
   "outputs": [
    {
     "data": {
      "text/plain": [
       "(65, 6)"
      ]
     },
     "execution_count": 218,
     "metadata": {},
     "output_type": "execute_result"
    }
   ],
   "source": [
    "MG_SVNodes_DF_GrpByBubbleStats.query(\"SeqLength_UnqToRv > 0\").shape"
   ]
  },
  {
   "cell_type": "code",
   "execution_count": 219,
   "id": "a7a85112-dddc-4459-86d6-4eb0ae5d7ab8",
   "metadata": {},
   "outputs": [
    {
     "data": {
      "text/plain": [
       "1318.0"
      ]
     },
     "execution_count": 219,
     "metadata": {},
     "output_type": "execute_result"
    }
   ],
   "source": [
    "MG_SVNodes_DF_GrpByBubbleStats.query(\"SeqLength_UnqToRv > 0\")[\"Number_SVNodes\"].sum()"
   ]
  },
  {
   "cell_type": "code",
   "execution_count": null,
   "id": "39ab4590-9370-4b7c-a0fe-793f9059f137",
   "metadata": {},
   "outputs": [],
   "source": []
  },
  {
   "cell_type": "markdown",
   "id": "1ada88b8-14fb-4c54-8713-3e562921b87b",
   "metadata": {},
   "source": [
    "## Select for Bubbles w/ at least 1 kb of novel sequence relative to H37Rv\n",
    "\n",
    "NOTE 1: Bubble_193 appears to be the 2.1 kb TbD1 deletion \n",
    "\n",
    "NOTE 2: Bubble_118 appears to be the 4.4 kb region identified in the [Lin 8 paper](https://www-nature-com.ezp-prod1.hul.harvard.edu/articles/s41467-020-16626-6)\n"
   ]
  },
  {
   "cell_type": "code",
   "execution_count": 220,
   "id": "c9959b51-d3c8-4dd5-b966-06a3e8b27ce0",
   "metadata": {},
   "outputs": [
    {
     "data": {
      "text/plain": [
       "(18, 6)"
      ]
     },
     "execution_count": 220,
     "metadata": {},
     "output_type": "execute_result"
    }
   ],
   "source": [
    "BubbleStats_UnqKmer_1kbUnqToRv_DF = MG_SVNodes_DF_GrpByBubbleStats.query(\"SeqLength_UnqToRv > 1000\")\n",
    "BubbleStats_UnqKmer_1kbUnqToRv_DF.shape"
   ]
  },
  {
   "cell_type": "code",
   "execution_count": 221,
   "id": "794bac2d-18c4-4768-af43-b11fcfcfc755",
   "metadata": {},
   "outputs": [
    {
     "data": {
      "text/html": [
       "<div>\n",
       "<style scoped>\n",
       "    .dataframe tbody tr th:only-of-type {\n",
       "        vertical-align: middle;\n",
       "    }\n",
       "\n",
       "    .dataframe tbody tr th {\n",
       "        vertical-align: top;\n",
       "    }\n",
       "\n",
       "    .dataframe thead th {\n",
       "        text-align: right;\n",
       "    }\n",
       "</style>\n",
       "<table border=\"1\" class=\"dataframe\">\n",
       "  <thead>\n",
       "    <tr style=\"text-align: right;\">\n",
       "      <th></th>\n",
       "      <th>Number_SVNodes</th>\n",
       "      <th>TotalLength</th>\n",
       "      <th>SeqLength_UnqToRv</th>\n",
       "      <th>SeqLength_UnqToGraph</th>\n",
       "      <th>Overlap_Genes</th>\n",
       "      <th>NA</th>\n",
       "    </tr>\n",
       "    <tr>\n",
       "      <th>BubbleID</th>\n",
       "      <th></th>\n",
       "      <th></th>\n",
       "      <th></th>\n",
       "      <th></th>\n",
       "      <th></th>\n",
       "      <th></th>\n",
       "    </tr>\n",
       "  </thead>\n",
       "  <tbody>\n",
       "    <tr>\n",
       "      <th>BubbleRegion_221</th>\n",
       "      <td>108.0</td>\n",
       "      <td>53885</td>\n",
       "      <td>7500.0</td>\n",
       "      <td>7047.0</td>\n",
       "      <td>Rv1754c,plcD,Rv1756c,Rv1757c,cut1,wag22,Rv1760...</td>\n",
       "      <td>42</td>\n",
       "    </tr>\n",
       "    <tr>\n",
       "      <th>BubbleRegion_265</th>\n",
       "      <td>13.0</td>\n",
       "      <td>8232</td>\n",
       "      <td>5518.0</td>\n",
       "      <td>4482.0</td>\n",
       "      <td>Rv2023A,Rv2024c</td>\n",
       "      <td>6</td>\n",
       "    </tr>\n",
       "    <tr>\n",
       "      <th>BubbleRegion_255</th>\n",
       "      <td>25.0</td>\n",
       "      <td>29094</td>\n",
       "      <td>4496.0</td>\n",
       "      <td>14629.0</td>\n",
       "      <td>yrbE3A,yrbE3B,mce3A,mce3B,mce3C,mce3D,lprM,mce...</td>\n",
       "      <td>13</td>\n",
       "    </tr>\n",
       "    <tr>\n",
       "      <th>BubbleRegion_426</th>\n",
       "      <td>53.0</td>\n",
       "      <td>29317</td>\n",
       "      <td>4495.0</td>\n",
       "      <td>4207.0</td>\n",
       "      <td>moaX,moaC3,Rv3324A,Rv3325,Rv3326,Rv3327</td>\n",
       "      <td>30</td>\n",
       "    </tr>\n",
       "    <tr>\n",
       "      <th>BubbleRegion_116</th>\n",
       "      <td>2.0</td>\n",
       "      <td>4541</td>\n",
       "      <td>4399.0</td>\n",
       "      <td>4399.0</td>\n",
       "      <td>Rv0943c,Rv0944</td>\n",
       "      <td>2</td>\n",
       "    </tr>\n",
       "    <tr>\n",
       "      <th>BubbleRegion_31</th>\n",
       "      <td>70.0</td>\n",
       "      <td>12630</td>\n",
       "      <td>3211.0</td>\n",
       "      <td>1608.0</td>\n",
       "      <td>PE_PGRS3,PE_PGRS4</td>\n",
       "      <td>38</td>\n",
       "    </tr>\n",
       "    <tr>\n",
       "      <th>BubbleRegion_193</th>\n",
       "      <td>3.0</td>\n",
       "      <td>3511</td>\n",
       "      <td>2153.0</td>\n",
       "      <td>2153.0</td>\n",
       "      <td>mmpL6</td>\n",
       "      <td>3</td>\n",
       "    </tr>\n",
       "    <tr>\n",
       "      <th>BubbleRegion_129</th>\n",
       "      <td>48.0</td>\n",
       "      <td>67323</td>\n",
       "      <td>1697.0</td>\n",
       "      <td>2283.0</td>\n",
       "      <td>fadD14,Rv1059,Rv1060,Rv1061,Rv1062,Rv1063c,lpq...</td>\n",
       "      <td>25</td>\n",
       "    </tr>\n",
       "    <tr>\n",
       "      <th>BubbleRegion_412</th>\n",
       "      <td>6.0</td>\n",
       "      <td>5517</td>\n",
       "      <td>1642.0</td>\n",
       "      <td>1642.0</td>\n",
       "      <td>PPE53</td>\n",
       "      <td>4</td>\n",
       "    </tr>\n",
       "    <tr>\n",
       "      <th>BubbleRegion_396</th>\n",
       "      <td>2.0</td>\n",
       "      <td>2725</td>\n",
       "      <td>1406.0</td>\n",
       "      <td>2725.0</td>\n",
       "      <td>ctaD</td>\n",
       "      <td>2</td>\n",
       "    </tr>\n",
       "    <tr>\n",
       "      <th>BubbleRegion_430</th>\n",
       "      <td>22.0</td>\n",
       "      <td>11289</td>\n",
       "      <td>1342.0</td>\n",
       "      <td>2844.0</td>\n",
       "      <td>PPE54</td>\n",
       "      <td>11</td>\n",
       "    </tr>\n",
       "    <tr>\n",
       "      <th>BubbleRegion_410</th>\n",
       "      <td>13.0</td>\n",
       "      <td>1859</td>\n",
       "      <td>1310.0</td>\n",
       "      <td>1807.0</td>\n",
       "      <td>PPE50</td>\n",
       "      <td>8</td>\n",
       "    </tr>\n",
       "    <tr>\n",
       "      <th>BubbleRegion_476</th>\n",
       "      <td>2.0</td>\n",
       "      <td>2470</td>\n",
       "      <td>1243.0</td>\n",
       "      <td>2470.0</td>\n",
       "      <td>ilvX</td>\n",
       "      <td>2</td>\n",
       "    </tr>\n",
       "    <tr>\n",
       "      <th>BubbleRegion_362</th>\n",
       "      <td>224.0</td>\n",
       "      <td>135873</td>\n",
       "      <td>1232.0</td>\n",
       "      <td>3999.0</td>\n",
       "      <td>Rv2807,Rv2808,Rv2809,Rv2810c,Rv2811,Rv2812,Rv2...</td>\n",
       "      <td>73</td>\n",
       "    </tr>\n",
       "    <tr>\n",
       "      <th>BubbleRegion_404</th>\n",
       "      <td>4.0</td>\n",
       "      <td>3722</td>\n",
       "      <td>1153.0</td>\n",
       "      <td>2364.0</td>\n",
       "      <td>cyp141</td>\n",
       "      <td>3</td>\n",
       "    </tr>\n",
       "    <tr>\n",
       "      <th>BubbleRegion_380</th>\n",
       "      <td>2.0</td>\n",
       "      <td>2441</td>\n",
       "      <td>1130.0</td>\n",
       "      <td>2441.0</td>\n",
       "      <td>ppsB</td>\n",
       "      <td>2</td>\n",
       "    </tr>\n",
       "    <tr>\n",
       "      <th>BubbleRegion_102</th>\n",
       "      <td>4.0</td>\n",
       "      <td>2210</td>\n",
       "      <td>1095.0</td>\n",
       "      <td>2152.0</td>\n",
       "      <td>Rv0823c,desA1</td>\n",
       "      <td>3</td>\n",
       "    </tr>\n",
       "    <tr>\n",
       "      <th>BubbleRegion_60</th>\n",
       "      <td>2.0</td>\n",
       "      <td>2074</td>\n",
       "      <td>1001.0</td>\n",
       "      <td>2074.0</td>\n",
       "      <td>umaA,pcaA</td>\n",
       "      <td>2</td>\n",
       "    </tr>\n",
       "  </tbody>\n",
       "</table>\n",
       "</div>"
      ],
      "text/plain": [
       "                  Number_SVNodes  TotalLength  SeqLength_UnqToRv  SeqLength_UnqToGraph                                      Overlap_Genes  NA\n",
       "BubbleID                                                                                                                                     \n",
       "BubbleRegion_221           108.0        53885             7500.0                7047.0  Rv1754c,plcD,Rv1756c,Rv1757c,cut1,wag22,Rv1760...  42\n",
       "BubbleRegion_265            13.0         8232             5518.0                4482.0                                    Rv2023A,Rv2024c   6\n",
       "BubbleRegion_255            25.0        29094             4496.0               14629.0  yrbE3A,yrbE3B,mce3A,mce3B,mce3C,mce3D,lprM,mce...  13\n",
       "BubbleRegion_426            53.0        29317             4495.0                4207.0            moaX,moaC3,Rv3324A,Rv3325,Rv3326,Rv3327  30\n",
       "BubbleRegion_116             2.0         4541             4399.0                4399.0                                     Rv0943c,Rv0944   2\n",
       "BubbleRegion_31             70.0        12630             3211.0                1608.0                                  PE_PGRS3,PE_PGRS4  38\n",
       "BubbleRegion_193             3.0         3511             2153.0                2153.0                                              mmpL6   3\n",
       "BubbleRegion_129            48.0        67323             1697.0                2283.0  fadD14,Rv1059,Rv1060,Rv1061,Rv1062,Rv1063c,lpq...  25\n",
       "BubbleRegion_412             6.0         5517             1642.0                1642.0                                              PPE53   4\n",
       "BubbleRegion_396             2.0         2725             1406.0                2725.0                                               ctaD   2\n",
       "BubbleRegion_430            22.0        11289             1342.0                2844.0                                              PPE54  11\n",
       "BubbleRegion_410            13.0         1859             1310.0                1807.0                                              PPE50   8\n",
       "BubbleRegion_476             2.0         2470             1243.0                2470.0                                               ilvX   2\n",
       "BubbleRegion_362           224.0       135873             1232.0                3999.0  Rv2807,Rv2808,Rv2809,Rv2810c,Rv2811,Rv2812,Rv2...  73\n",
       "BubbleRegion_404             4.0         3722             1153.0                2364.0                                             cyp141   3\n",
       "BubbleRegion_380             2.0         2441             1130.0                2441.0                                               ppsB   2\n",
       "BubbleRegion_102             4.0         2210             1095.0                2152.0                                      Rv0823c,desA1   3\n",
       "BubbleRegion_60              2.0         2074             1001.0                2074.0                                          umaA,pcaA   2"
      ]
     },
     "execution_count": 221,
     "metadata": {},
     "output_type": "execute_result"
    }
   ],
   "source": [
    "BubbleStats_UnqKmer_1kbUnqToRv_DF"
   ]
  },
  {
   "cell_type": "code",
   "execution_count": null,
   "id": "94735f48-48fb-48b2-8dad-63ddb461681e",
   "metadata": {},
   "outputs": [],
   "source": []
  },
  {
   "cell_type": "markdown",
   "id": "0292ca44-c01d-4d43-90d6-96bf87f249fc",
   "metadata": {},
   "source": [
    "### Create summary of 18 regions of interest (at least 1 kb novel seq to Rv)"
   ]
  },
  {
   "cell_type": "code",
   "execution_count": 222,
   "id": "79c3027f-2093-4b92-8855-b2daa57832a4",
   "metadata": {},
   "outputs": [],
   "source": [
    "Bubbles_RvUnqSeq_List = list(BubbleStats_UnqKmer_1kbUnqToRv_DF.index)"
   ]
  },
  {
   "cell_type": "code",
   "execution_count": 223,
   "id": "f7cca76e-0115-458d-995b-6acaeeb160bc",
   "metadata": {},
   "outputs": [],
   "source": [
    "ColOfInt = ['BubbleID', 'Start', 'End',  'NumSVNodes', 'Overlap_Genes', 'Overlap_Gene_RvIDs']\n",
    "\n",
    "RDsToRv_Pt1 = MG_SV_BED_DF[MG_SV_BED_DF[\"BubbleID\"].isin( Bubbles_RvUnqSeq_List )][ColOfInt]\n",
    "RDsToRv_Pt2 = BubbleStats_UnqKmer_1kbUnqToRv_DF[[\"TotalLength\", \"SeqLength_UnqToRv\", \"Overlap_Genes\"]]"
   ]
  },
  {
   "cell_type": "code",
   "execution_count": 224,
   "id": "975024b4-6e58-43bf-8776-0dbd172fa396",
   "metadata": {},
   "outputs": [
    {
     "data": {
      "text/html": [
       "<div>\n",
       "<style scoped>\n",
       "    .dataframe tbody tr th:only-of-type {\n",
       "        vertical-align: middle;\n",
       "    }\n",
       "\n",
       "    .dataframe tbody tr th {\n",
       "        vertical-align: top;\n",
       "    }\n",
       "\n",
       "    .dataframe thead th {\n",
       "        text-align: right;\n",
       "    }\n",
       "</style>\n",
       "<table border=\"1\" class=\"dataframe\">\n",
       "  <thead>\n",
       "    <tr style=\"text-align: right;\">\n",
       "      <th></th>\n",
       "      <th>BubbleID</th>\n",
       "      <th>Start</th>\n",
       "      <th>End</th>\n",
       "      <th>NumSVNodes</th>\n",
       "      <th>Overlap_Genes</th>\n",
       "      <th>Overlap_Gene_RvIDs</th>\n",
       "      <th>TotalLength</th>\n",
       "      <th>SeqLength_UnqToRv</th>\n",
       "    </tr>\n",
       "  </thead>\n",
       "  <tbody>\n",
       "    <tr>\n",
       "      <th>0</th>\n",
       "      <td>BubbleRegion_31</td>\n",
       "      <td>334243</td>\n",
       "      <td>338669</td>\n",
       "      <td>70</td>\n",
       "      <td>PE_PGRS3,PE_PGRS4</td>\n",
       "      <td>Rv0278c,Rv0279c</td>\n",
       "      <td>12630</td>\n",
       "      <td>3211.0</td>\n",
       "    </tr>\n",
       "    <tr>\n",
       "      <th>1</th>\n",
       "      <td>BubbleRegion_60</td>\n",
       "      <td>560425</td>\n",
       "      <td>561498</td>\n",
       "      <td>2</td>\n",
       "      <td>umaA,pcaA</td>\n",
       "      <td>Rv0469,Rv0470c</td>\n",
       "      <td>2074</td>\n",
       "      <td>1001.0</td>\n",
       "    </tr>\n",
       "    <tr>\n",
       "      <th>2</th>\n",
       "      <td>BubbleRegion_102</td>\n",
       "      <td>917629</td>\n",
       "      <td>918744</td>\n",
       "      <td>4</td>\n",
       "      <td>Rv0823c,desA1</td>\n",
       "      <td>Rv0823c,Rv0824c</td>\n",
       "      <td>2210</td>\n",
       "      <td>1095.0</td>\n",
       "    </tr>\n",
       "    <tr>\n",
       "      <th>3</th>\n",
       "      <td>BubbleRegion_116</td>\n",
       "      <td>1053645</td>\n",
       "      <td>1053787</td>\n",
       "      <td>2</td>\n",
       "      <td>Rv0943c,Rv0944</td>\n",
       "      <td>Rv0943c,Rv0944</td>\n",
       "      <td>4541</td>\n",
       "      <td>4399.0</td>\n",
       "    </tr>\n",
       "    <tr>\n",
       "      <th>4</th>\n",
       "      <td>BubbleRegion_129</td>\n",
       "      <td>1181855</td>\n",
       "      <td>1215202</td>\n",
       "      <td>48</td>\n",
       "      <td>fadD14,Rv1059,Rv1060,Rv1061,Rv1062,Rv1063c,lpq...</td>\n",
       "      <td>Rv1058,Rv1059,Rv1060,Rv1061,Rv1062,Rv1063c,Rv1...</td>\n",
       "      <td>67323</td>\n",
       "      <td>1697.0</td>\n",
       "    </tr>\n",
       "    <tr>\n",
       "      <th>5</th>\n",
       "      <td>BubbleRegion_193</td>\n",
       "      <td>1761789</td>\n",
       "      <td>1761789</td>\n",
       "      <td>3</td>\n",
       "      <td>mmpL6</td>\n",
       "      <td>Rv1557</td>\n",
       "      <td>3511</td>\n",
       "      <td>2153.0</td>\n",
       "    </tr>\n",
       "    <tr>\n",
       "      <th>6</th>\n",
       "      <td>BubbleRegion_221</td>\n",
       "      <td>1986625</td>\n",
       "      <td>1999613</td>\n",
       "      <td>116</td>\n",
       "      <td>Rv1754c,plcD,Rv1756c,Rv1757c,cut1,wag22,Rv1760...</td>\n",
       "      <td>Rv1754c,Rv1755c,Rv1756c,Rv1757c,Rv1758,Rv1759c...</td>\n",
       "      <td>53885</td>\n",
       "      <td>7500.0</td>\n",
       "    </tr>\n",
       "    <tr>\n",
       "      <th>7</th>\n",
       "      <td>BubbleRegion_255</td>\n",
       "      <td>2208005</td>\n",
       "      <td>2223187</td>\n",
       "      <td>26</td>\n",
       "      <td>yrbE3A,yrbE3B,mce3A,mce3B,mce3C,mce3D,lprM,mce...</td>\n",
       "      <td>Rv1964,Rv1965,Rv1966,Rv1967,Rv1968,Rv1969,Rv19...</td>\n",
       "      <td>29094</td>\n",
       "      <td>4496.0</td>\n",
       "    </tr>\n",
       "    <tr>\n",
       "      <th>8</th>\n",
       "      <td>BubbleRegion_265</td>\n",
       "      <td>2268723</td>\n",
       "      <td>2268723</td>\n",
       "      <td>17</td>\n",
       "      <td>Rv2023A,Rv2024c</td>\n",
       "      <td>Rv2023A,Rv2024c</td>\n",
       "      <td>8232</td>\n",
       "      <td>5518.0</td>\n",
       "    </tr>\n",
       "    <tr>\n",
       "      <th>9</th>\n",
       "      <td>BubbleRegion_362</td>\n",
       "      <td>3114093</td>\n",
       "      <td>3157869</td>\n",
       "      <td>224</td>\n",
       "      <td>Rv2807,Rv2808,Rv2809,Rv2810c,Rv2811,Rv2812,Rv2...</td>\n",
       "      <td>Rv2807,Rv2808,Rv2809,Rv2810c,Rv2811,Rv2812,Rv2...</td>\n",
       "      <td>135873</td>\n",
       "      <td>1232.0</td>\n",
       "    </tr>\n",
       "    <tr>\n",
       "      <th>10</th>\n",
       "      <td>BubbleRegion_380</td>\n",
       "      <td>3251646</td>\n",
       "      <td>3252957</td>\n",
       "      <td>2</td>\n",
       "      <td>ppsB</td>\n",
       "      <td>Rv2932</td>\n",
       "      <td>2441</td>\n",
       "      <td>1130.0</td>\n",
       "    </tr>\n",
       "    <tr>\n",
       "      <th>11</th>\n",
       "      <td>BubbleRegion_396</td>\n",
       "      <td>3403272</td>\n",
       "      <td>3404591</td>\n",
       "      <td>2</td>\n",
       "      <td>ctaD</td>\n",
       "      <td>Rv3043c</td>\n",
       "      <td>2725</td>\n",
       "      <td>1406.0</td>\n",
       "    </tr>\n",
       "    <tr>\n",
       "      <th>12</th>\n",
       "      <td>BubbleRegion_404</td>\n",
       "      <td>3486249</td>\n",
       "      <td>3487460</td>\n",
       "      <td>4</td>\n",
       "      <td>cyp141</td>\n",
       "      <td>Rv3121</td>\n",
       "      <td>3722</td>\n",
       "      <td>1153.0</td>\n",
       "    </tr>\n",
       "    <tr>\n",
       "      <th>13</th>\n",
       "      <td>BubbleRegion_410</td>\n",
       "      <td>3501223</td>\n",
       "      <td>3501723</td>\n",
       "      <td>13</td>\n",
       "      <td>PPE50</td>\n",
       "      <td>Rv3135</td>\n",
       "      <td>1859</td>\n",
       "      <td>1310.0</td>\n",
       "    </tr>\n",
       "    <tr>\n",
       "      <th>14</th>\n",
       "      <td>BubbleRegion_412</td>\n",
       "      <td>3528674</td>\n",
       "      <td>3529255</td>\n",
       "      <td>6</td>\n",
       "      <td>PPE53</td>\n",
       "      <td>Rv3159c</td>\n",
       "      <td>5517</td>\n",
       "      <td>1642.0</td>\n",
       "    </tr>\n",
       "    <tr>\n",
       "      <th>15</th>\n",
       "      <td>BubbleRegion_426</td>\n",
       "      <td>3709332</td>\n",
       "      <td>3711855</td>\n",
       "      <td>53</td>\n",
       "      <td>moaX,moaC3,Rv3324A,Rv3325,Rv3326,Rv3327</td>\n",
       "      <td>Rv3323c,Rv3324c,Rv3324A,Rv3325,Rv3326,Rv3327</td>\n",
       "      <td>29317</td>\n",
       "      <td>4495.0</td>\n",
       "    </tr>\n",
       "    <tr>\n",
       "      <th>16</th>\n",
       "      <td>BubbleRegion_430</td>\n",
       "      <td>3730530</td>\n",
       "      <td>3735813</td>\n",
       "      <td>22</td>\n",
       "      <td>PPE54</td>\n",
       "      <td>Rv3343c</td>\n",
       "      <td>11289</td>\n",
       "      <td>1342.0</td>\n",
       "    </tr>\n",
       "    <tr>\n",
       "      <th>17</th>\n",
       "      <td>BubbleRegion_476</td>\n",
       "      <td>3937189</td>\n",
       "      <td>3938416</td>\n",
       "      <td>2</td>\n",
       "      <td>ilvX</td>\n",
       "      <td>Rv3509c</td>\n",
       "      <td>2470</td>\n",
       "      <td>1243.0</td>\n",
       "    </tr>\n",
       "  </tbody>\n",
       "</table>\n",
       "</div>"
      ],
      "text/plain": [
       "            BubbleID    Start      End  NumSVNodes                                      Overlap_Genes                                 Overlap_Gene_RvIDs  TotalLength  SeqLength_UnqToRv\n",
       "0    BubbleRegion_31   334243   338669          70                                  PE_PGRS3,PE_PGRS4                                    Rv0278c,Rv0279c        12630             3211.0\n",
       "1    BubbleRegion_60   560425   561498           2                                          umaA,pcaA                                     Rv0469,Rv0470c         2074             1001.0\n",
       "2   BubbleRegion_102   917629   918744           4                                      Rv0823c,desA1                                    Rv0823c,Rv0824c         2210             1095.0\n",
       "3   BubbleRegion_116  1053645  1053787           2                                     Rv0943c,Rv0944                                     Rv0943c,Rv0944         4541             4399.0\n",
       "4   BubbleRegion_129  1181855  1215202          48  fadD14,Rv1059,Rv1060,Rv1061,Rv1062,Rv1063c,lpq...  Rv1058,Rv1059,Rv1060,Rv1061,Rv1062,Rv1063c,Rv1...        67323             1697.0\n",
       "5   BubbleRegion_193  1761789  1761789           3                                              mmpL6                                             Rv1557         3511             2153.0\n",
       "6   BubbleRegion_221  1986625  1999613         116  Rv1754c,plcD,Rv1756c,Rv1757c,cut1,wag22,Rv1760...  Rv1754c,Rv1755c,Rv1756c,Rv1757c,Rv1758,Rv1759c...        53885             7500.0\n",
       "7   BubbleRegion_255  2208005  2223187          26  yrbE3A,yrbE3B,mce3A,mce3B,mce3C,mce3D,lprM,mce...  Rv1964,Rv1965,Rv1966,Rv1967,Rv1968,Rv1969,Rv19...        29094             4496.0\n",
       "8   BubbleRegion_265  2268723  2268723          17                                    Rv2023A,Rv2024c                                    Rv2023A,Rv2024c         8232             5518.0\n",
       "9   BubbleRegion_362  3114093  3157869         224  Rv2807,Rv2808,Rv2809,Rv2810c,Rv2811,Rv2812,Rv2...  Rv2807,Rv2808,Rv2809,Rv2810c,Rv2811,Rv2812,Rv2...       135873             1232.0\n",
       "10  BubbleRegion_380  3251646  3252957           2                                               ppsB                                             Rv2932         2441             1130.0\n",
       "11  BubbleRegion_396  3403272  3404591           2                                               ctaD                                            Rv3043c         2725             1406.0\n",
       "12  BubbleRegion_404  3486249  3487460           4                                             cyp141                                             Rv3121         3722             1153.0\n",
       "13  BubbleRegion_410  3501223  3501723          13                                              PPE50                                             Rv3135         1859             1310.0\n",
       "14  BubbleRegion_412  3528674  3529255           6                                              PPE53                                            Rv3159c         5517             1642.0\n",
       "15  BubbleRegion_426  3709332  3711855          53            moaX,moaC3,Rv3324A,Rv3325,Rv3326,Rv3327       Rv3323c,Rv3324c,Rv3324A,Rv3325,Rv3326,Rv3327        29317             4495.0\n",
       "16  BubbleRegion_430  3730530  3735813          22                                              PPE54                                            Rv3343c        11289             1342.0\n",
       "17  BubbleRegion_476  3937189  3938416           2                                               ilvX                                            Rv3509c         2470             1243.0"
      ]
     },
     "execution_count": 224,
     "metadata": {},
     "output_type": "execute_result"
    }
   ],
   "source": [
    "RDsToRv_1kb_DF = RDsToRv_Pt1.merge(RDsToRv_Pt2, how='left')\n",
    "RDsToRv_1kb_DF"
   ]
  },
  {
   "cell_type": "code",
   "execution_count": 225,
   "id": "7d1ffae3-eb8b-480c-82b3-9ea009bac57a",
   "metadata": {},
   "outputs": [
    {
     "name": "stdout",
     "output_type": "stream",
     "text": [
      "BubbleRegion_31  - overlapping genes: PE_PGRS3,PE_PGRS4\n",
      "\n",
      "----------\n",
      "BubbleRegion_60  - overlapping genes: umaA,pcaA\n",
      "\n",
      "----------\n",
      "BubbleRegion_102  - overlapping genes: Rv0823c,desA1\n",
      "\n",
      "----------\n",
      "BubbleRegion_116  - overlapping genes: Rv0943c,Rv0944\n",
      "\n",
      "----------\n",
      "BubbleRegion_129  - overlapping genes: fadD14,Rv1059,Rv1060,Rv1061,Rv1062,Rv1063c,lpqV,Rv1065,Rv1066,PE_PGRS19,PE_PGRS20,Rv1069c,echA8,echA9,Rv1072,Rv1073,fadA3,Rv1075c,lipU,cbs,pra,metB,greA,Rv1081c,mca,Rv1083,Rv1084,Rv1085c,Rv1086,PE_PGRS21,Rv1087A,PE9,PE10\n",
      "\n",
      "----------\n",
      "BubbleRegion_193  - overlapping genes: mmpL6\n",
      "\n",
      "----------\n",
      "BubbleRegion_221  - overlapping genes: Rv1754c,plcD,Rv1756c,Rv1757c,cut1,wag22,Rv1760,Rv1761c,Rv1762c,Rv1763,Rv1764,Rv1765c,Rv1765A\n",
      "\n",
      "----------\n",
      "BubbleRegion_255  - overlapping genes: yrbE3A,yrbE3B,mce3A,mce3B,mce3C,mce3D,lprM,mce3F,Rv1972,Rv1973,Rv1974,Rv1975,Rv1976c,Rv1977,Rv1978,Rv1979c\n",
      "\n",
      "----------\n",
      "BubbleRegion_265  - overlapping genes: Rv2023A,Rv2024c\n",
      "\n",
      "----------\n",
      "BubbleRegion_362  - overlapping genes: Rv2807,Rv2808,Rv2809,Rv2810c,Rv2811,Rv2812,Rv2813,Rv2814c,Rv2815c,Rv2816c,Rv2817c,Rv2818c,Rv2819c,Rv2820c,Rv2821c,Rv2822c,Rv2823c,Rv2824c,Rv2825c,Rv2826c,Rv2827c,Rv2828c,Rv2828A,vapC22,vapB22,echA16,ugpC,ugpB,ugpE,ugpA,dinF,Rv2837c,rbfA,infB,Rv2840c,nusA,Rv2842c,Rv2843,Rv2844,proS,efpA,cysG,cobB,cobO\n",
      "\n",
      "----------\n",
      "BubbleRegion_380  - overlapping genes: ppsB\n",
      "\n",
      "----------\n",
      "BubbleRegion_396  - overlapping genes: ctaD\n",
      "\n",
      "----------\n",
      "BubbleRegion_404  - overlapping genes: cyp141\n",
      "\n",
      "----------\n",
      "BubbleRegion_410  - overlapping genes: PPE50\n",
      "\n",
      "----------\n",
      "BubbleRegion_412  - overlapping genes: PPE53\n",
      "\n",
      "----------\n",
      "BubbleRegion_426  - overlapping genes: moaX,moaC3,Rv3324A,Rv3325,Rv3326,Rv3327\n",
      "\n",
      "----------\n",
      "BubbleRegion_430  - overlapping genes: PPE54\n",
      "\n",
      "----------\n",
      "BubbleRegion_476  - overlapping genes: ilvX\n",
      "\n",
      "----------\n"
     ]
    }
   ],
   "source": [
    "for i, row in RDsToRv_1kb_DF.iterrows():\n",
    "\n",
    "    genes_list = row[\"Overlap_Genes\"]\n",
    "    bubble_id = row[\"BubbleID\"]\n",
    "    print(f\"{bubble_id}  - overlapping genes: {genes_list}\\n\")\n",
    "    print(\"-\"*10)\n"
   ]
  },
  {
   "cell_type": "code",
   "execution_count": null,
   "id": "24d2b90f-1d2e-47d0-a2f6-20d7908cd997",
   "metadata": {},
   "outputs": [],
   "source": []
  },
  {
   "cell_type": "markdown",
   "id": "f47468b9-8aba-4a49-9ee4-63f58b08e429",
   "metadata": {},
   "source": [
    "### Output Bubble Stats TSV"
   ]
  },
  {
   "cell_type": "code",
   "execution_count": 226,
   "id": "9d795fb8-efb5-4779-ac02-ff9aae7a5064",
   "metadata": {},
   "outputs": [
    {
     "name": "stdout",
     "output_type": "stream",
     "text": [
      "MtbSVPG.BubbleAlleleInfo.SVInfo.tsv.gz\n",
      "MtbSVPG.BubbleAlleleInfo.SVVCF.tsv.gz\n",
      "MtbSVPG.BubbleCoords.1kbUnqToRv.18B.tsv\n",
      "MtbSVPG.BubbleStats.UnqKmerContent.1kbUnqToRv.18B.tsv\n",
      "MtbSVPG.BubbleStats.UnqKmerContent.All.532B.tsv\n",
      "MtbSVPG.BubbleSummary.BED.tsv.gz\n",
      "MtbSVPG.NodeKmerComp.AllVsAll.V1.tsv.gz\n",
      "MtbSVPG.NodeKmerComp.Summary.V1.tsv.gz\n"
     ]
    }
   ],
   "source": [
    "!ls -1 $PangenomeAnalysis_Dir"
   ]
  },
  {
   "cell_type": "code",
   "execution_count": 227,
   "id": "487f3817-d167-4697-8595-ed1fcc6f2219",
   "metadata": {},
   "outputs": [],
   "source": [
    "Bubble_UnqKmerStats_All_TSV = f\"{PangenomeAnalysis_Dir}/MtbSVPG.BubbleStats.UnqKmerContent.All.532B.tsv\"\n",
    "Bubble_UnqKmerStats_1kbUnqToRv_TSV = f\"{PangenomeAnalysis_Dir}/MtbSVPG.BubbleStats.UnqKmerContent.1kbUnqToRv.18B.tsv\"   \n",
    "\n",
    "Bubble_CoordSumm_1kbUnqToRv_TSV = f\"{PangenomeAnalysis_Dir}/MtbSVPG.BubbleCoords.1kbUnqToRv.18B.tsv\"   \n"
   ]
  },
  {
   "cell_type": "code",
   "execution_count": 228,
   "id": "841a2872-a6ee-4242-b2a2-407a4cb2e928",
   "metadata": {},
   "outputs": [],
   "source": [
    "BubbleStats_UnqKmer_DF.to_csv(Bubble_UnqKmerStats_All_TSV,\n",
    "                                      sep = \"\\t\", index=False) "
   ]
  },
  {
   "cell_type": "code",
   "execution_count": 229,
   "id": "57427ecf-26c8-466c-a710-e05fb02acc4d",
   "metadata": {},
   "outputs": [],
   "source": [
    "BubbleStats_UnqKmer_1kbUnqToRv_DF.to_csv(Bubble_UnqKmerStats_1kbUnqToRv_TSV,\n",
    "                                      sep = \"\\t\", index=False) "
   ]
  },
  {
   "cell_type": "code",
   "execution_count": 230,
   "id": "9299bbcb-17f0-4403-9eda-70c11eea9828",
   "metadata": {},
   "outputs": [],
   "source": [
    "RDsToRv_1kb_DF.to_csv(Bubble_CoordSumm_1kbUnqToRv_TSV,\n",
    "                                      sep = \"\\t\", index=False) "
   ]
  },
  {
   "cell_type": "code",
   "execution_count": 231,
   "id": "ce969dd9-b216-4cfd-ab41-9261dd227577",
   "metadata": {},
   "outputs": [
    {
     "data": {
      "text/plain": [
       "(18, 6)"
      ]
     },
     "execution_count": 231,
     "metadata": {},
     "output_type": "execute_result"
    }
   ],
   "source": [
    "BubbleStats_UnqKmer_1kbUnqToRv_DF.shape"
   ]
  },
  {
   "cell_type": "code",
   "execution_count": null,
   "id": "bb7c9a5e-c38d-4920-9d28-7a6b9c11d8bf",
   "metadata": {},
   "outputs": [],
   "source": []
  },
  {
   "cell_type": "markdown",
   "id": "9cbba138-7735-48cf-8fa6-5b28d1f8563d",
   "metadata": {},
   "source": [
    "# Let's pull out info for 3 bubble regions for the paper\n",
    "\n",
    "### 1) A simple SV\n",
    "### 2) A complex bubble region\n",
    "### 3) TbD1"
   ]
  },
  {
   "cell_type": "markdown",
   "id": "601ee125-b1cb-45bc-acf5-0fd289d937e2",
   "metadata": {},
   "source": [
    "These represent some regions to take a look at. <br>\n",
    "NOTE: Bubble_118 appears to be the 4.4 kb region identified in the Lin 8 paper: https://www-nature-com.ezp-prod1.hul.harvard.edu/articles/s41467-020-16626-6"
   ]
  },
  {
   "cell_type": "code",
   "execution_count": null,
   "id": "0ba33051-02f5-464d-a5d2-8fef399833bb",
   "metadata": {},
   "outputs": [],
   "source": []
  },
  {
   "cell_type": "code",
   "execution_count": 232,
   "id": "db655a63-d1be-4bee-adc8-bb9913cce135",
   "metadata": {},
   "outputs": [
    {
     "data": {
      "text/html": [
       "<div>\n",
       "<style scoped>\n",
       "    .dataframe tbody tr th:only-of-type {\n",
       "        vertical-align: middle;\n",
       "    }\n",
       "\n",
       "    .dataframe tbody tr th {\n",
       "        vertical-align: top;\n",
       "    }\n",
       "\n",
       "    .dataframe thead th {\n",
       "        text-align: right;\n",
       "    }\n",
       "</style>\n",
       "<table border=\"1\" class=\"dataframe\">\n",
       "  <thead>\n",
       "    <tr style=\"text-align: right;\">\n",
       "      <th></th>\n",
       "      <th>Number_SVNodes</th>\n",
       "      <th>TotalLength</th>\n",
       "      <th>SeqLength_UnqToRv</th>\n",
       "      <th>SeqLength_UnqToGraph</th>\n",
       "      <th>Overlap_Genes</th>\n",
       "      <th>NA</th>\n",
       "    </tr>\n",
       "    <tr>\n",
       "      <th>BubbleID</th>\n",
       "      <th></th>\n",
       "      <th></th>\n",
       "      <th></th>\n",
       "      <th></th>\n",
       "      <th></th>\n",
       "      <th></th>\n",
       "    </tr>\n",
       "  </thead>\n",
       "  <tbody>\n",
       "    <tr>\n",
       "      <th>BubbleRegion_221</th>\n",
       "      <td>108.0</td>\n",
       "      <td>53885</td>\n",
       "      <td>7500.0</td>\n",
       "      <td>7047.0</td>\n",
       "      <td>Rv1754c,plcD,Rv1756c,Rv1757c,cut1,wag22,Rv1760...</td>\n",
       "      <td>42</td>\n",
       "    </tr>\n",
       "  </tbody>\n",
       "</table>\n",
       "</div>"
      ],
      "text/plain": [
       "                  Number_SVNodes  TotalLength  SeqLength_UnqToRv  SeqLength_UnqToGraph                                      Overlap_Genes  NA\n",
       "BubbleID                                                                                                                                     \n",
       "BubbleRegion_221           108.0        53885             7500.0                7047.0  Rv1754c,plcD,Rv1756c,Rv1757c,cut1,wag22,Rv1760...  42"
      ]
     },
     "execution_count": 232,
     "metadata": {},
     "output_type": "execute_result"
    }
   ],
   "source": [
    "MG_SVNodes_DF_GrpByBubbleStats.head(1)"
   ]
  },
  {
   "cell_type": "code",
   "execution_count": 233,
   "id": "b939e1ff-66e8-47cb-a7c8-fbb354e2c214",
   "metadata": {},
   "outputs": [
    {
     "data": {
      "text/html": [
       "<div>\n",
       "<style scoped>\n",
       "    .dataframe tbody tr th:only-of-type {\n",
       "        vertical-align: middle;\n",
       "    }\n",
       "\n",
       "    .dataframe tbody tr th {\n",
       "        vertical-align: top;\n",
       "    }\n",
       "\n",
       "    .dataframe thead th {\n",
       "        text-align: right;\n",
       "    }\n",
       "</style>\n",
       "<table border=\"1\" class=\"dataframe\">\n",
       "  <thead>\n",
       "    <tr style=\"text-align: right;\">\n",
       "      <th></th>\n",
       "      <th>Number_SVNodes</th>\n",
       "      <th>TotalLength</th>\n",
       "      <th>SeqLength_UnqToRv</th>\n",
       "      <th>SeqLength_UnqToGraph</th>\n",
       "      <th>Overlap_Genes</th>\n",
       "      <th>NA</th>\n",
       "    </tr>\n",
       "    <tr>\n",
       "      <th>BubbleID</th>\n",
       "      <th></th>\n",
       "      <th></th>\n",
       "      <th></th>\n",
       "      <th></th>\n",
       "      <th></th>\n",
       "      <th></th>\n",
       "    </tr>\n",
       "  </thead>\n",
       "  <tbody>\n",
       "    <tr>\n",
       "      <th>BubbleRegion_20</th>\n",
       "      <td>1.0</td>\n",
       "      <td>186</td>\n",
       "      <td>0.0</td>\n",
       "      <td>0.0</td>\n",
       "      <td>PE4</td>\n",
       "      <td>2</td>\n",
       "    </tr>\n",
       "  </tbody>\n",
       "</table>\n",
       "</div>"
      ],
      "text/plain": [
       "                 Number_SVNodes  TotalLength  SeqLength_UnqToRv  SeqLength_UnqToGraph Overlap_Genes  NA\n",
       "BubbleID                                                                                               \n",
       "BubbleRegion_20             1.0          186                0.0                   0.0           PE4   2"
      ]
     },
     "execution_count": 233,
     "metadata": {},
     "output_type": "execute_result"
    }
   ],
   "source": [
    "MG_SVNodes_DF_GrpByBubbleStats.query(\"BubbleID == 'BubbleRegion_20'\")"
   ]
  },
  {
   "cell_type": "code",
   "execution_count": 234,
   "id": "372199d2-92ca-4c96-9552-f17bbafc0d4c",
   "metadata": {},
   "outputs": [
    {
     "data": {
      "text/html": [
       "<div>\n",
       "<style scoped>\n",
       "    .dataframe tbody tr th:only-of-type {\n",
       "        vertical-align: middle;\n",
       "    }\n",
       "\n",
       "    .dataframe tbody tr th {\n",
       "        vertical-align: top;\n",
       "    }\n",
       "\n",
       "    .dataframe thead th {\n",
       "        text-align: right;\n",
       "    }\n",
       "</style>\n",
       "<table border=\"1\" class=\"dataframe\">\n",
       "  <thead>\n",
       "    <tr style=\"text-align: right;\">\n",
       "      <th></th>\n",
       "      <th>Number_SVNodes</th>\n",
       "      <th>TotalLength</th>\n",
       "      <th>SeqLength_UnqToRv</th>\n",
       "      <th>SeqLength_UnqToGraph</th>\n",
       "      <th>Overlap_Genes</th>\n",
       "      <th>NA</th>\n",
       "    </tr>\n",
       "    <tr>\n",
       "      <th>BubbleID</th>\n",
       "      <th></th>\n",
       "      <th></th>\n",
       "      <th></th>\n",
       "      <th></th>\n",
       "      <th></th>\n",
       "      <th></th>\n",
       "    </tr>\n",
       "  </thead>\n",
       "  <tbody>\n",
       "    <tr>\n",
       "      <th>BubbleRegion_309</th>\n",
       "      <td>87.0</td>\n",
       "      <td>55759</td>\n",
       "      <td>447.0</td>\n",
       "      <td>4697.0</td>\n",
       "      <td>plcC,plcB,plcA,PPE38,PPE39,Rv2354,Rv2355,PPE40</td>\n",
       "      <td>40</td>\n",
       "    </tr>\n",
       "  </tbody>\n",
       "</table>\n",
       "</div>"
      ],
      "text/plain": [
       "                  Number_SVNodes  TotalLength  SeqLength_UnqToRv  SeqLength_UnqToGraph                                   Overlap_Genes  NA\n",
       "BubbleID                                                                                                                                  \n",
       "BubbleRegion_309            87.0        55759              447.0                4697.0  plcC,plcB,plcA,PPE38,PPE39,Rv2354,Rv2355,PPE40  40"
      ]
     },
     "execution_count": 234,
     "metadata": {},
     "output_type": "execute_result"
    }
   ],
   "source": [
    "MG_SVNodes_DF_GrpByBubbleStats.query(\"BubbleID == 'BubbleRegion_309'\")"
   ]
  },
  {
   "cell_type": "code",
   "execution_count": 235,
   "id": "ce05bd94-9112-4a73-baa0-bae6fa87da6a",
   "metadata": {},
   "outputs": [
    {
     "data": {
      "text/html": [
       "<div>\n",
       "<style scoped>\n",
       "    .dataframe tbody tr th:only-of-type {\n",
       "        vertical-align: middle;\n",
       "    }\n",
       "\n",
       "    .dataframe tbody tr th {\n",
       "        vertical-align: top;\n",
       "    }\n",
       "\n",
       "    .dataframe thead th {\n",
       "        text-align: right;\n",
       "    }\n",
       "</style>\n",
       "<table border=\"1\" class=\"dataframe\">\n",
       "  <thead>\n",
       "    <tr style=\"text-align: right;\">\n",
       "      <th></th>\n",
       "      <th>Number_SVNodes</th>\n",
       "      <th>TotalLength</th>\n",
       "      <th>SeqLength_UnqToRv</th>\n",
       "      <th>SeqLength_UnqToGraph</th>\n",
       "      <th>Overlap_Genes</th>\n",
       "      <th>NA</th>\n",
       "    </tr>\n",
       "    <tr>\n",
       "      <th>BubbleID</th>\n",
       "      <th></th>\n",
       "      <th></th>\n",
       "      <th></th>\n",
       "      <th></th>\n",
       "      <th></th>\n",
       "      <th></th>\n",
       "    </tr>\n",
       "  </thead>\n",
       "  <tbody>\n",
       "    <tr>\n",
       "      <th>BubbleRegion_193</th>\n",
       "      <td>3.0</td>\n",
       "      <td>3511</td>\n",
       "      <td>2153.0</td>\n",
       "      <td>2153.0</td>\n",
       "      <td>mmpL6</td>\n",
       "      <td>3</td>\n",
       "    </tr>\n",
       "  </tbody>\n",
       "</table>\n",
       "</div>"
      ],
      "text/plain": [
       "                  Number_SVNodes  TotalLength  SeqLength_UnqToRv  SeqLength_UnqToGraph Overlap_Genes  NA\n",
       "BubbleID                                                                                                \n",
       "BubbleRegion_193             3.0         3511             2153.0                2153.0         mmpL6   3"
      ]
     },
     "execution_count": 235,
     "metadata": {},
     "output_type": "execute_result"
    }
   ],
   "source": [
    "MG_SVNodes_DF_GrpByBubbleStats.query(\"BubbleID == 'BubbleRegion_193'\")"
   ]
  },
  {
   "cell_type": "code",
   "execution_count": 236,
   "id": "8481b665-27ca-4c08-bd93-4ab62a43c4d8",
   "metadata": {},
   "outputs": [
    {
     "data": {
      "text/html": [
       "<div>\n",
       "<style scoped>\n",
       "    .dataframe tbody tr th:only-of-type {\n",
       "        vertical-align: middle;\n",
       "    }\n",
       "\n",
       "    .dataframe tbody tr th {\n",
       "        vertical-align: top;\n",
       "    }\n",
       "\n",
       "    .dataframe thead th {\n",
       "        text-align: right;\n",
       "    }\n",
       "</style>\n",
       "<table border=\"1\" class=\"dataframe\">\n",
       "  <thead>\n",
       "    <tr style=\"text-align: right;\">\n",
       "      <th></th>\n",
       "      <th>Number_SVNodes</th>\n",
       "      <th>TotalLength</th>\n",
       "      <th>SeqLength_UnqToRv</th>\n",
       "      <th>SeqLength_UnqToGraph</th>\n",
       "      <th>Overlap_Genes</th>\n",
       "      <th>NA</th>\n",
       "    </tr>\n",
       "    <tr>\n",
       "      <th>BubbleID</th>\n",
       "      <th></th>\n",
       "      <th></th>\n",
       "      <th></th>\n",
       "      <th></th>\n",
       "      <th></th>\n",
       "      <th></th>\n",
       "    </tr>\n",
       "  </thead>\n",
       "  <tbody>\n",
       "    <tr>\n",
       "      <th>BubbleRegion_193</th>\n",
       "      <td>3.0</td>\n",
       "      <td>3511</td>\n",
       "      <td>2153.0</td>\n",
       "      <td>2153.0</td>\n",
       "      <td>mmpL6</td>\n",
       "      <td>3</td>\n",
       "    </tr>\n",
       "  </tbody>\n",
       "</table>\n",
       "</div>"
      ],
      "text/plain": [
       "                  Number_SVNodes  TotalLength  SeqLength_UnqToRv  SeqLength_UnqToGraph Overlap_Genes  NA\n",
       "BubbleID                                                                                                \n",
       "BubbleRegion_193             3.0         3511             2153.0                2153.0         mmpL6   3"
      ]
     },
     "execution_count": 236,
     "metadata": {},
     "output_type": "execute_result"
    }
   ],
   "source": [
    "MG_SVNodes_DF_GrpByBubbleStats.query(\"BubbleID == 'BubbleRegion_193'\") "
   ]
  },
  {
   "cell_type": "code",
   "execution_count": null,
   "id": "1bf2cf3d-0a44-468f-9fa8-a8a582c62f79",
   "metadata": {},
   "outputs": [],
   "source": []
  },
  {
   "cell_type": "code",
   "execution_count": null,
   "id": "28a5dbea-dc39-4153-8ef5-4e10ebe7748b",
   "metadata": {},
   "outputs": [],
   "source": []
  },
  {
   "cell_type": "code",
   "execution_count": null,
   "id": "a46fc8e8-86cb-479b-95c4-fa6095223751",
   "metadata": {},
   "outputs": [],
   "source": []
  },
  {
   "cell_type": "code",
   "execution_count": null,
   "id": "0d34daf3-db00-4070-9e71-dba3dcab363a",
   "metadata": {},
   "outputs": [],
   "source": []
  },
  {
   "cell_type": "code",
   "execution_count": null,
   "id": "31d1dcb9-98fb-4793-99c1-ac97c69b68d3",
   "metadata": {},
   "outputs": [],
   "source": []
  },
  {
   "cell_type": "code",
   "execution_count": null,
   "id": "e9a4663f-dcc7-44e7-a143-96d53e4f1d3f",
   "metadata": {},
   "outputs": [],
   "source": []
  }
 ],
 "metadata": {
  "kernelspec": {
   "display_name": "py37_S",
   "language": "python",
   "name": "py37_s"
  },
  "language_info": {
   "codemirror_mode": {
    "name": "ipython",
    "version": 3
   },
   "file_extension": ".py",
   "mimetype": "text/x-python",
   "name": "python",
   "nbconvert_exporter": "python",
   "pygments_lexer": "ipython3",
   "version": "3.7.3"
  }
 },
 "nbformat": 4,
 "nbformat_minor": 5
}
