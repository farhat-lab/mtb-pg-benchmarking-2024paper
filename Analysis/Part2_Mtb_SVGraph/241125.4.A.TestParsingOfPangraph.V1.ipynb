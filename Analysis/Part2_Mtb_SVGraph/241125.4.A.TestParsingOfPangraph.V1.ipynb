{
 "cells": [
  {
   "cell_type": "code",
   "execution_count": null,
   "id": "f7b08db1-e4f7-41fa-869f-8106aa5ec8e6",
   "metadata": {},
   "outputs": [],
   "source": []
  },
  {
   "cell_type": "markdown",
   "id": "2af38a14-7d77-46e6-a9f0-b14bc2bd5335",
   "metadata": {
    "toc-hr-collapsed": true
   },
   "source": [
    "### Import Statements"
   ]
  },
  {
   "cell_type": "code",
   "execution_count": 1,
   "id": "1ff319c8-a970-4029-a18c-7b2394f854f5",
   "metadata": {},
   "outputs": [],
   "source": [
    "import numpy as np\n",
    "import pandas as pd\n",
    "import scipy.stats\n",
    "\n",
    "from tqdm import tqdm\n",
    "import matplotlib.pyplot as plt\n",
    "import seaborn as sns\n",
    "\n",
    "%matplotlib inline"
   ]
  },
  {
   "cell_type": "code",
   "execution_count": 2,
   "id": "1c2cbe71-afec-4edf-b7c8-0969c39315cc",
   "metadata": {},
   "outputs": [],
   "source": [
    "import ast"
   ]
  },
  {
   "cell_type": "code",
   "execution_count": 3,
   "id": "c2b115a9-110f-46bf-83d4-dca414aad284",
   "metadata": {},
   "outputs": [],
   "source": [
    "# https://bioframe.readthedocs.io/en/latest/guide-intervalops.html\n",
    "import bioframe as bf\n"
   ]
  },
  {
   "cell_type": "code",
   "execution_count": 4,
   "id": "226678b5-3a19-4905-babe-0d98b5604bd7",
   "metadata": {},
   "outputs": [],
   "source": [
    "from Bio import SeqIO\n"
   ]
  },
  {
   "cell_type": "code",
   "execution_count": 5,
   "id": "a1ed7e20-fe99-47c9-8e2e-56bda758a643",
   "metadata": {},
   "outputs": [],
   "source": [
    "#import json"
   ]
  },
  {
   "cell_type": "code",
   "execution_count": 6,
   "id": "980acdc1-a74b-4904-83c6-cbb891bbf878",
   "metadata": {},
   "outputs": [],
   "source": [
    "import gfapy"
   ]
  },
  {
   "cell_type": "code",
   "execution_count": null,
   "id": "69af0c43-d634-4dc5-bc45-64066cdbb6ed",
   "metadata": {},
   "outputs": [],
   "source": []
  },
  {
   "cell_type": "markdown",
   "id": "2adb8b17-1feb-4bd8-a0f6-c5d5b3911318",
   "metadata": {},
   "source": [
    "#### Pandas Viewing Settings"
   ]
  },
  {
   "cell_type": "code",
   "execution_count": 7,
   "id": "5969d42d-3e0e-43f3-8d0a-4f00287011b1",
   "metadata": {},
   "outputs": [],
   "source": [
    "pd.set_option('display.max_rows', 500)\n",
    "pd.set_option('display.max_columns', 500)\n",
    "pd.set_option('display.width', 1000)"
   ]
  },
  {
   "cell_type": "code",
   "execution_count": 8,
   "id": "d9605988-0a12-402d-9fdb-f7a1af2388b7",
   "metadata": {},
   "outputs": [],
   "source": [
    "pd.set_option('max_colwidth', 400)"
   ]
  },
  {
   "cell_type": "code",
   "execution_count": null,
   "id": "4c5d57be-2461-47b6-bcd5-c78d41265624",
   "metadata": {},
   "outputs": [],
   "source": []
  },
  {
   "cell_type": "markdown",
   "id": "2fec64a3-2a6a-4c95-b3b2-a639e06423a6",
   "metadata": {},
   "source": [
    "## Define useful Kmer analysis functions"
   ]
  },
  {
   "cell_type": "code",
   "execution_count": 9,
   "id": "a4a82e70-a87c-410b-8f8e-f0843dce89be",
   "metadata": {},
   "outputs": [],
   "source": [
    "import screed"
   ]
  },
  {
   "cell_type": "code",
   "execution_count": 10,
   "id": "bc25612b-5a53-43cb-9d2a-47cf22f3602a",
   "metadata": {},
   "outputs": [],
   "source": [
    "import mmh3"
   ]
  },
  {
   "cell_type": "code",
   "execution_count": 11,
   "id": "dd5cabd8-a195-4daf-865b-4cb50aff4899",
   "metadata": {},
   "outputs": [],
   "source": [
    "def build_kmers(sequence, ksize):\n",
    "    kmers = []\n",
    "    n_kmers = len(sequence) - ksize + 1\n",
    "    \n",
    "    for i in range(n_kmers):\n",
    "        kmer = sequence[i:i + ksize]\n",
    "        kmers.append(kmer)\n",
    "        \n",
    "    return kmers"
   ]
  },
  {
   "cell_type": "code",
   "execution_count": 12,
   "id": "d762b947-972e-4636-afa9-0b43d23eaf49",
   "metadata": {},
   "outputs": [],
   "source": [
    "#import screed a library for reading in FASTA/FASTQ\n",
    "\n",
    "def read_kmers_from_file(filename, ksize):\n",
    "    all_kmers = []\n",
    "    for record in screed.open(filename):\n",
    "        sequence = record.sequence\n",
    "        \n",
    "        kmers = build_kmers(sequence, ksize)\n",
    "        all_kmers += kmers\n",
    "\n",
    "    return all_kmers"
   ]
  },
  {
   "cell_type": "code",
   "execution_count": 13,
   "id": "f732152b-1c4f-4bf0-bb40-183184233709",
   "metadata": {},
   "outputs": [],
   "source": [
    "def hash_kmer(kmer):\n",
    "    # calculate the reverse complement\n",
    "    rc_kmer = screed.rc(kmer)\n",
    "    \n",
    "    # determine whether original k-mer or reverse complement is lesser\n",
    "    if kmer < rc_kmer:\n",
    "        canonical_kmer = kmer\n",
    "    else:\n",
    "        canonical_kmer = rc_kmer\n",
    "        \n",
    "    # calculate murmurhash using a hash seed of 42\n",
    "    hash = mmh3.hash64(canonical_kmer, 42)[0]\n",
    "    if hash < 0: hash += 2**64\n",
    "\n",
    "    return hash"
   ]
  },
  {
   "cell_type": "code",
   "execution_count": 14,
   "id": "8a386a83-2b9d-4720-a1a5-5b6c0c1b8e88",
   "metadata": {},
   "outputs": [],
   "source": [
    "# def hash_kmers(kmers):\n",
    "#     hashes = []\n",
    "#     for kmer in kmers:\n",
    "#         hashes.append(hash_kmer(kmer))\n",
    "#     return hashes\n",
    "\n",
    "def hash_kmers_ToSet(kmers):\n",
    "    hashes = set()\n",
    "    for kmer in kmers:\n",
    "        hashes.add(hash_kmer(kmer))\n",
    "    return hashes"
   ]
  },
  {
   "cell_type": "code",
   "execution_count": 15,
   "id": "c7c5bf83-7ada-4c21-8154-d1b461767338",
   "metadata": {},
   "outputs": [],
   "source": [
    "\n",
    "def jaccard_containment_FromSets(a, b):\n",
    "    '''\n",
    "    This function returns the Jaccard Containment between sets a and b.\n",
    "    '''\n",
    "    \n",
    "    intersection = len(a.intersection(b))\n",
    "    \n",
    "    return intersection / len(a)\n",
    "\n",
    "def jaccard_similarity_FromSets(a, b):\n",
    "    '''\n",
    "    This function returns the Jaccard Similarity between sets a and b.\n",
    "    '''\n",
    "    intersection = len(a.intersection(b))\n",
    "    union = len(a.union(b))\n",
    "    \n",
    "    return intersection / union\n"
   ]
  },
  {
   "cell_type": "code",
   "execution_count": 16,
   "id": "80277465-1801-45b4-9ff4-28c8f30426c9",
   "metadata": {},
   "outputs": [],
   "source": [
    "def getAllHash_ExceptTargets_Set_V2(dictOfHashes, targetsToRemove):\n",
    "    # Convert targetsToRemove to a set for faster lookup\n",
    "    targetsToRemoveSet = set(targetsToRemove)\n",
    "\n",
    "    # Use set comprehension for more efficient construction of the result set\n",
    "    return {hash for seqID, seqInfoDict in dictOfHashes.items() if seqID not in targetsToRemoveSet\n",
    "            for hash in seqInfoDict[\"Kmer_Hashes_Set\"]}"
   ]
  },
  {
   "cell_type": "code",
   "execution_count": 17,
   "id": "ba2b71e0-6c7c-4dc7-ace8-e648e985ad01",
   "metadata": {},
   "outputs": [],
   "source": [
    "def getAllHash_InTargetSeqs_Set(dictOfHashes, targetsToKeep):\n",
    "    \n",
    "    all_Hashes_InTarget = set()\n",
    "\n",
    "    for i_SeqID, i_SeqInfoDict in dictOfHashes.items():\n",
    "        \n",
    "        i_Hashes = i_SeqInfoDict[\"Kmer_Hashes_Set\"]\n",
    "        \n",
    "        if i_SeqID not in targetsToKeep:\n",
    "            all_Hashes_InTarget.update(i_Hashes) \n",
    "    \n",
    "    return all_Hashes_InTarget"
   ]
  },
  {
   "cell_type": "code",
   "execution_count": 18,
   "id": "ffc1cac4-322b-4b57-898f-2b921c98ebb8",
   "metadata": {},
   "outputs": [],
   "source": [
    "#%reload_ext autoreload\n",
    "#%autoreload 2\n",
    "\n",
    "### import panqc toolkit functions\n",
    "#from panqc.kmerlib import hash_kmers_ToSet, jaccard_similarity_FromSets, jaccard_containment_FromSets\n"
   ]
  },
  {
   "cell_type": "code",
   "execution_count": null,
   "id": "779c5d10-f5c0-4e0d-9867-340cf1bd120d",
   "metadata": {},
   "outputs": [],
   "source": []
  },
  {
   "cell_type": "code",
   "execution_count": null,
   "id": "2ac3f34b-a5e3-44b0-a144-eb21ed4c9ace",
   "metadata": {},
   "outputs": [],
   "source": []
  },
  {
   "cell_type": "markdown",
   "id": "f7449f30-4fcf-488a-8a3e-bd040800aea1",
   "metadata": {
    "toc-hr-collapsed": true
   },
   "source": [
    "# Part 1: Parse sample metadata & preprocessed genome info/results"
   ]
  },
  {
   "cell_type": "code",
   "execution_count": 19,
   "id": "37fdf064-afe3-4360-9c25-bdd20afa6f09",
   "metadata": {},
   "outputs": [],
   "source": [
    "Repo_DataDir = \"../../Data\"\n",
    "InputAsmPath_Dir = f\"{Repo_DataDir}/231121.InputAsmTSVs.MtbSetV3.151CI\"\n",
    "\n",
    "MtbSetV3_151CI_InputAsmPATHs_TSV = f\"{InputAsmPath_Dir}/231121.MtbSetV3.151CI.HybridAndSRAsm.FAPATHs.V1.tsv\"\n",
    "MtbSetV3_151CI_AsmSumm_TSV = f\"{InputAsmPath_Dir}/231121.MtbSetV3.151CI.HybridAsm.AsmSummary.V2.tsv\"   \n"
   ]
  },
  {
   "cell_type": "markdown",
   "id": "0b77128f-c690-45d6-b4d6-08da513e1f0e",
   "metadata": {},
   "source": [
    "## Parse sample Metadata (N = 151)"
   ]
  },
  {
   "cell_type": "code",
   "execution_count": 20,
   "id": "e5c36129-02a0-4513-902b-b18a52ff53a7",
   "metadata": {},
   "outputs": [],
   "source": [
    "WGA151CI_AsmSummary_DF = pd.read_csv(MtbSetV3_151CI_AsmSumm_TSV, sep = \"\\t\")\n",
    "\n",
    "SampleIDs_151CI_SOI = list( WGA151CI_AsmSummary_DF[\"SampleID\"].values )\n",
    "WGA151CI_SampleIDs = SampleIDs_151CI_SOI\n",
    "\n",
    "ID_To_PrimLineage_Dict = dict(WGA151CI_AsmSummary_DF[['SampleID', 'PrimaryLineage']].values)\n",
    "ID_To_SubLineage_Dict = dict( WGA151CI_AsmSummary_DF[[\"SampleID\", \"Lineage\"]].values)\n",
    "ID_To_Dataset_Dict = dict(WGA151CI_AsmSummary_DF[['SampleID', 'Dataset_Tag']].values) \n"
   ]
  },
  {
   "cell_type": "markdown",
   "id": "c5ca57ef-1f1e-4432-a128-1f4f273dee57",
   "metadata": {},
   "source": [
    "## Parse FASTA paths for 151 Mtb assemblies"
   ]
  },
  {
   "cell_type": "code",
   "execution_count": 21,
   "id": "61cb6e19-fc8d-40e4-851c-456e5ade7205",
   "metadata": {},
   "outputs": [
    {
     "data": {
      "text/plain": [
       "(151, 4)"
      ]
     },
     "execution_count": 21,
     "metadata": {},
     "output_type": "execute_result"
    }
   ],
   "source": [
    "WGA151CI_Asm_Path_DF = pd.read_csv(MtbSetV3_151CI_InputAsmPATHs_TSV, sep = \"\\t\")\n",
    "WGA151CI_Asm_Path_DF.shape"
   ]
  },
  {
   "cell_type": "code",
   "execution_count": 22,
   "id": "bc98ebad-eca7-4a01-bf18-9c39d3da172a",
   "metadata": {},
   "outputs": [
    {
     "data": {
      "text/html": [
       "<div>\n",
       "<style scoped>\n",
       "    .dataframe tbody tr th:only-of-type {\n",
       "        vertical-align: middle;\n",
       "    }\n",
       "\n",
       "    .dataframe tbody tr th {\n",
       "        vertical-align: top;\n",
       "    }\n",
       "\n",
       "    .dataframe thead th {\n",
       "        text-align: right;\n",
       "    }\n",
       "</style>\n",
       "<table border=\"1\" class=\"dataframe\">\n",
       "  <thead>\n",
       "    <tr style=\"text-align: right;\">\n",
       "      <th></th>\n",
       "      <th>SampleID</th>\n",
       "      <th>Dataset_Tag</th>\n",
       "      <th>Genome_ASM_PATH</th>\n",
       "      <th>ShortRead_Genome_ASM_PATH</th>\n",
       "    </tr>\n",
       "  </thead>\n",
       "  <tbody>\n",
       "    <tr>\n",
       "      <th>0</th>\n",
       "      <td>N0072</td>\n",
       "      <td>ChinerOms_2019</td>\n",
       "      <td>/n/data1/hms/dbmi/farhat/mm774/Projects/231121.MtbSetV3.151CI.CompleteAndSR.Asms/ChinerOms_2019/N0072.LR.Asm.fasta</td>\n",
       "      <td>/n/data1/hms/dbmi/farhat/mm774/Projects/231121.MtbSetV3.151CI.CompleteAndSR.Asms/ChinerOms_2019/N0072.SR.Asm.fasta</td>\n",
       "    </tr>\n",
       "    <tr>\n",
       "      <th>1</th>\n",
       "      <td>N0153</td>\n",
       "      <td>ChinerOms_2019</td>\n",
       "      <td>/n/data1/hms/dbmi/farhat/mm774/Projects/231121.MtbSetV3.151CI.CompleteAndSR.Asms/ChinerOms_2019/N0153.LR.Asm.fasta</td>\n",
       "      <td>/n/data1/hms/dbmi/farhat/mm774/Projects/231121.MtbSetV3.151CI.CompleteAndSR.Asms/ChinerOms_2019/N0153.SR.Asm.fasta</td>\n",
       "    </tr>\n",
       "    <tr>\n",
       "      <th>2</th>\n",
       "      <td>TB3113</td>\n",
       "      <td>TB_Portals_24CI_R1</td>\n",
       "      <td>/n/data1/hms/dbmi/farhat/mm774/Projects/231121.MtbSetV3.151CI.CompleteAndSR.Asms/TB_Portals_24CI_R1/TB3113.LR.Asm.fasta</td>\n",
       "      <td>/n/data1/hms/dbmi/farhat/mm774/Projects/231121.MtbSetV3.151CI.CompleteAndSR.Asms/TB_Portals_24CI_R1/TB3113.SR.Asm.fasta</td>\n",
       "    </tr>\n",
       "    <tr>\n",
       "      <th>3</th>\n",
       "      <td>TB1236</td>\n",
       "      <td>TB_Portals_24CI_R1</td>\n",
       "      <td>/n/data1/hms/dbmi/farhat/mm774/Projects/231121.MtbSetV3.151CI.CompleteAndSR.Asms/TB_Portals_24CI_R1/TB1236.LR.Asm.fasta</td>\n",
       "      <td>/n/data1/hms/dbmi/farhat/mm774/Projects/231121.MtbSetV3.151CI.CompleteAndSR.Asms/TB_Portals_24CI_R1/TB1236.SR.Asm.fasta</td>\n",
       "    </tr>\n",
       "  </tbody>\n",
       "</table>\n",
       "</div>"
      ],
      "text/plain": [
       "  SampleID         Dataset_Tag                                                                                                          Genome_ASM_PATH                                                                                                ShortRead_Genome_ASM_PATH\n",
       "0    N0072      ChinerOms_2019       /n/data1/hms/dbmi/farhat/mm774/Projects/231121.MtbSetV3.151CI.CompleteAndSR.Asms/ChinerOms_2019/N0072.LR.Asm.fasta       /n/data1/hms/dbmi/farhat/mm774/Projects/231121.MtbSetV3.151CI.CompleteAndSR.Asms/ChinerOms_2019/N0072.SR.Asm.fasta\n",
       "1    N0153      ChinerOms_2019       /n/data1/hms/dbmi/farhat/mm774/Projects/231121.MtbSetV3.151CI.CompleteAndSR.Asms/ChinerOms_2019/N0153.LR.Asm.fasta       /n/data1/hms/dbmi/farhat/mm774/Projects/231121.MtbSetV3.151CI.CompleteAndSR.Asms/ChinerOms_2019/N0153.SR.Asm.fasta\n",
       "2   TB3113  TB_Portals_24CI_R1  /n/data1/hms/dbmi/farhat/mm774/Projects/231121.MtbSetV3.151CI.CompleteAndSR.Asms/TB_Portals_24CI_R1/TB3113.LR.Asm.fasta  /n/data1/hms/dbmi/farhat/mm774/Projects/231121.MtbSetV3.151CI.CompleteAndSR.Asms/TB_Portals_24CI_R1/TB3113.SR.Asm.fasta\n",
       "3   TB1236  TB_Portals_24CI_R1  /n/data1/hms/dbmi/farhat/mm774/Projects/231121.MtbSetV3.151CI.CompleteAndSR.Asms/TB_Portals_24CI_R1/TB1236.LR.Asm.fasta  /n/data1/hms/dbmi/farhat/mm774/Projects/231121.MtbSetV3.151CI.CompleteAndSR.Asms/TB_Portals_24CI_R1/TB1236.SR.Asm.fasta"
      ]
     },
     "execution_count": 22,
     "metadata": {},
     "output_type": "execute_result"
    }
   ],
   "source": [
    "WGA151CI_Asm_Path_DF.head(4)"
   ]
  },
  {
   "cell_type": "code",
   "execution_count": 23,
   "id": "0cd14250-bb78-435a-bdbe-30a84bd7acf3",
   "metadata": {},
   "outputs": [],
   "source": [
    "SampleID_To_LRAsmFA_PATH_Dict = dict(WGA151CI_Asm_Path_DF[['SampleID', 'Genome_ASM_PATH']].values)"
   ]
  },
  {
   "cell_type": "code",
   "execution_count": null,
   "id": "190142d3-a172-4e81-ab9f-6970d524dea1",
   "metadata": {},
   "outputs": [],
   "source": []
  },
  {
   "cell_type": "code",
   "execution_count": null,
   "id": "fff82506-36c3-4516-b7e5-3efce189997d",
   "metadata": {},
   "outputs": [],
   "source": []
  },
  {
   "cell_type": "code",
   "execution_count": null,
   "id": "cb7aef7b-5d99-4329-bb2f-017a4508fb49",
   "metadata": {},
   "outputs": [],
   "source": []
  },
  {
   "cell_type": "markdown",
   "id": "086de698-a252-4b72-bbd8-bef8d444c37a",
   "metadata": {},
   "source": [
    "## Import/parse processed H37rv genome annotations"
   ]
  },
  {
   "cell_type": "code",
   "execution_count": 24,
   "id": "6b105669-861c-4fa0-b4c3-031f6d21bfaf",
   "metadata": {},
   "outputs": [],
   "source": [
    "RepoRef_Dir = \"../../References\"\n",
    "\n",
    "AnnotatedGenes_And_IntergenicRegions_RepoRef_Dir = f\"{RepoRef_Dir}/201027_H37rv_AnnotatedGenes_And_IntergenicRegions\"\n",
    "H37Rv_GenomeAnnotations_Genes_TSV = f\"{AnnotatedGenes_And_IntergenicRegions_RepoRef_Dir}/H37Rv_GenomeAnnotations.Genes.tsv\"\n",
    "\n",
    "## H37Rv Gene Annotations TSV\n",
    "H37Rv_GenomeAnno_Genes_DF = pd.read_csv(H37Rv_GenomeAnnotations_Genes_TSV, sep = \"\\t\")\n",
    "H37Rv_GeneInfo_Subset_DF = H37Rv_GenomeAnno_Genes_DF[[\"H37rv_GeneID\", \"Symbol\", \"Feature\", \"Functional_Category\", \"Is_Pseudogene\", \"Product\", \"PEandPPE_Subfamily\", \"ExcludedGroup_Category\"]]\n",
    "\n",
    "RvID_To_Symbol_Dict = dict(H37Rv_GeneInfo_Subset_DF[['H37rv_GeneID', 'Symbol']].values)\n",
    "Symbol_To_FuncCat_Dict = dict(H37Rv_GeneInfo_Subset_DF[['Symbol', 'Functional_Category']].values)\n"
   ]
  },
  {
   "cell_type": "code",
   "execution_count": 25,
   "id": "67cc462c-cad4-4b6a-9e63-cfd44406f64b",
   "metadata": {},
   "outputs": [
    {
     "data": {
      "text/html": [
       "<div>\n",
       "<style scoped>\n",
       "    .dataframe tbody tr th:only-of-type {\n",
       "        vertical-align: middle;\n",
       "    }\n",
       "\n",
       "    .dataframe tbody tr th {\n",
       "        vertical-align: top;\n",
       "    }\n",
       "\n",
       "    .dataframe thead th {\n",
       "        text-align: right;\n",
       "    }\n",
       "</style>\n",
       "<table border=\"1\" class=\"dataframe\">\n",
       "  <thead>\n",
       "    <tr style=\"text-align: right;\">\n",
       "      <th></th>\n",
       "      <th>Chrom</th>\n",
       "      <th>Start</th>\n",
       "      <th>End</th>\n",
       "      <th>Strand</th>\n",
       "      <th>H37rv_GeneID</th>\n",
       "      <th>Symbol</th>\n",
       "      <th>Feature</th>\n",
       "      <th>Functional_Category</th>\n",
       "      <th>Is_Pseudogene</th>\n",
       "      <th>Product</th>\n",
       "      <th>PEandPPE_Subfamily</th>\n",
       "      <th>ExcludedGroup_Category</th>\n",
       "    </tr>\n",
       "  </thead>\n",
       "  <tbody>\n",
       "    <tr>\n",
       "      <th>0</th>\n",
       "      <td>NC_000962.3</td>\n",
       "      <td>0</td>\n",
       "      <td>1524</td>\n",
       "      <td>+</td>\n",
       "      <td>Rv0001</td>\n",
       "      <td>dnaA</td>\n",
       "      <td>CDS</td>\n",
       "      <td>information pathways</td>\n",
       "      <td>No</td>\n",
       "      <td>Chromosomal replication initiator protein DnaA</td>\n",
       "      <td>NaN</td>\n",
       "      <td>NotExcluded</td>\n",
       "    </tr>\n",
       "    <tr>\n",
       "      <th>1</th>\n",
       "      <td>NC_000962.3</td>\n",
       "      <td>2051</td>\n",
       "      <td>3260</td>\n",
       "      <td>+</td>\n",
       "      <td>Rv0002</td>\n",
       "      <td>dnaN</td>\n",
       "      <td>CDS</td>\n",
       "      <td>information pathways</td>\n",
       "      <td>No</td>\n",
       "      <td>DNA polymerase III (beta chain) DnaN (DNA nucleotidyltransferase)</td>\n",
       "      <td>NaN</td>\n",
       "      <td>NotExcluded</td>\n",
       "    </tr>\n",
       "    <tr>\n",
       "      <th>2</th>\n",
       "      <td>NC_000962.3</td>\n",
       "      <td>3279</td>\n",
       "      <td>4437</td>\n",
       "      <td>+</td>\n",
       "      <td>Rv0003</td>\n",
       "      <td>recF</td>\n",
       "      <td>CDS</td>\n",
       "      <td>information pathways</td>\n",
       "      <td>No</td>\n",
       "      <td>DNA replication and repair protein RecF (single-strand DNA binding protein)</td>\n",
       "      <td>NaN</td>\n",
       "      <td>NotExcluded</td>\n",
       "    </tr>\n",
       "  </tbody>\n",
       "</table>\n",
       "</div>"
      ],
      "text/plain": [
       "         Chrom  Start   End Strand H37rv_GeneID Symbol Feature   Functional_Category Is_Pseudogene                                                                      Product PEandPPE_Subfamily ExcludedGroup_Category\n",
       "0  NC_000962.3      0  1524      +       Rv0001   dnaA     CDS  information pathways            No                               Chromosomal replication initiator protein DnaA                NaN            NotExcluded\n",
       "1  NC_000962.3   2051  3260      +       Rv0002   dnaN     CDS  information pathways            No            DNA polymerase III (beta chain) DnaN (DNA nucleotidyltransferase)                NaN            NotExcluded\n",
       "2  NC_000962.3   3279  4437      +       Rv0003   recF     CDS  information pathways            No  DNA replication and repair protein RecF (single-strand DNA binding protein)                NaN            NotExcluded"
      ]
     },
     "execution_count": 25,
     "metadata": {},
     "output_type": "execute_result"
    }
   ],
   "source": [
    "H37Rv_GenomeAnno_Genes_DF.head(3)"
   ]
  },
  {
   "cell_type": "code",
   "execution_count": null,
   "id": "755e03ab-a9c6-4f64-a1aa-45b9fb66e9c7",
   "metadata": {},
   "outputs": [],
   "source": []
  },
  {
   "cell_type": "markdown",
   "id": "2456d3d2-eecb-46ae-b62e-702960bcda31",
   "metadata": {},
   "source": [
    "# Part 2: Generate reference k-mer sets (ie H37Rv, IS6110, Phages + ISs)  "
   ]
  },
  {
   "cell_type": "markdown",
   "id": "bd05fd3f-f2fb-421c-b4bb-890a4f0c3136",
   "metadata": {},
   "source": [
    "### Define k-mer size for entire analysis"
   ]
  },
  {
   "cell_type": "code",
   "execution_count": 26,
   "id": "67796984-0310-4da9-8657-f3f84ad02a76",
   "metadata": {},
   "outputs": [],
   "source": [
    "k_size = 31"
   ]
  },
  {
   "cell_type": "code",
   "execution_count": null,
   "id": "15368aab-9b77-4d98-af7d-1f07767246e4",
   "metadata": {},
   "outputs": [],
   "source": []
  },
  {
   "cell_type": "markdown",
   "id": "71125c41-58a3-4cce-8d4a-2198e995eb90",
   "metadata": {},
   "source": [
    "## Generate k-mer info for H37Rv and a representative IS6110 sequence "
   ]
  },
  {
   "cell_type": "code",
   "execution_count": 27,
   "id": "34f9b486-b4f1-4768-a193-eeaf3858e7f3",
   "metadata": {},
   "outputs": [],
   "source": [
    "Mtb_RefDir=\"/n/data1/hms/dbmi/farhat/mm774/References\"\n",
    "\n",
    "H37rv_Ref_FA_PATH = f\"{Mtb_RefDir}/GCF_000195955.2_ASM19595v2_genomic.fasta\"\n",
    "IS6110_Example_FA_PATH = f\"{Mtb_RefDir}/IS6110_From_Rv0795_Rv0796.DNA.fasta\""
   ]
  },
  {
   "cell_type": "markdown",
   "id": "d11ad64e-f20f-4584-b7ba-01beca5fdc63",
   "metadata": {},
   "source": [
    "#### H37Rv - k-mer generation & hashing"
   ]
  },
  {
   "cell_type": "code",
   "execution_count": 28,
   "id": "112ab457-70d7-4089-92b3-1f3231eb2408",
   "metadata": {},
   "outputs": [
    {
     "name": "stdout",
     "output_type": "stream",
     "text": [
      "4411502\n"
     ]
    }
   ],
   "source": [
    "H37Rv_kmers = read_kmers_from_file(H37rv_Ref_FA_PATH, k_size)\n",
    "\n",
    "H37Rv_Hashes_Set = hash_kmers_ToSet(H37Rv_kmers)\n",
    "\n",
    "print(len(H37Rv_kmers))"
   ]
  },
  {
   "cell_type": "markdown",
   "id": "3a44cffe-6034-454b-ad5a-a5c9696dd539",
   "metadata": {},
   "source": [
    "#### IS6110 (Rv0795 & Rv0796) - k-mer generation & hashing"
   ]
  },
  {
   "cell_type": "code",
   "execution_count": 29,
   "id": "a9f25a0d-e01d-46dc-9f20-90850d7efb4e",
   "metadata": {},
   "outputs": [
    {
     "name": "stdout",
     "output_type": "stream",
     "text": [
      "1254\n"
     ]
    }
   ],
   "source": [
    "IS6110_Ex1_kmers = read_kmers_from_file(IS6110_Example_FA_PATH, k_size)\n",
    "\n",
    "IS6110_Ex1_Hashes_Set = hash_kmers_ToSet(IS6110_Ex1_kmers)\n",
    "\n",
    "print(len(IS6110_Ex1_kmers))"
   ]
  },
  {
   "cell_type": "code",
   "execution_count": null,
   "id": "3a1b7bd9-c016-4f78-a44e-472789a02bba",
   "metadata": {},
   "outputs": [],
   "source": []
  },
  {
   "cell_type": "markdown",
   "id": "9f468e27-78aa-42e4-92cc-d83538c60c82",
   "metadata": {},
   "source": [
    "## Generate k-mer info for all H37Rv gene DNA sequences (Mycobrowser)"
   ]
  },
  {
   "cell_type": "code",
   "execution_count": 30,
   "id": "5e611572-6a67-4324-9d72-aaeddf4cad0c",
   "metadata": {},
   "outputs": [],
   "source": [
    "O2_RefDir = \"/n/data1/hms/dbmi/farhat/mm774/References\"\n",
    "MycoBrowser_RefFiles_Dir = f\"{O2_RefDir}/190619_Mycobrowser_H37rv_ReferenceFiles\"\n",
    "\n",
    "H37Rv_Genes_MycoBro_FA = f\"{MycoBrowser_RefFiles_Dir}/Mycobacterium_tuberculosis_H37Rv_genes_v3.fasta\"\n"
   ]
  },
  {
   "cell_type": "code",
   "execution_count": 31,
   "id": "c5fd34e8-a708-468f-b557-9d6a87e079b4",
   "metadata": {},
   "outputs": [
    {
     "name": "stdout",
     "output_type": "stream",
     "text": [
      ">Rv0001|dnaA|CDS|1-1524|+|Chromosomal replication initiator protein DnaA\n"
     ]
    }
   ],
   "source": [
    "!grep ^\">\" $H37Rv_Genes_MycoBro_FA | grep \"dnaA\""
   ]
  },
  {
   "cell_type": "markdown",
   "id": "e13f4396-96be-4ddc-bdf0-72a6c9a471f9",
   "metadata": {},
   "source": [
    "### Get 31-mer hashes for all annotated gene DNA sequences"
   ]
  },
  {
   "cell_type": "code",
   "execution_count": 32,
   "id": "e7958a03-d7d9-4f57-b675-96abb9278825",
   "metadata": {},
   "outputs": [
    {
     "name": "stderr",
     "output_type": "stream",
     "text": [
      "4187it [00:27, 154.37it/s]\n"
     ]
    }
   ],
   "source": [
    "dictOf_H37Rv_MycoBrow_GeneSeq = {}\n",
    "dictOf_H37Rv_MycoBrow_Gene_KmerHashes = {}\n",
    "\n",
    "for index, record in tqdm(enumerate(SeqIO.parse(H37Rv_Genes_MycoBro_FA, \"fasta\"))):\n",
    "    \n",
    "    RecordName = record.name\n",
    "    RvID = RecordName.split(\"|\")[0]\n",
    "    GeneID = RecordName.split(\"|\")[1]\n",
    "    S_Seq = str(record.seq).upper()\n",
    "    \n",
    "    dictOf_H37Rv_MycoBrow_GeneSeq[GeneID] = S_Seq\n",
    "\n",
    "    record_Hashes_Set = hash_kmers_ToSet(build_kmers(S_Seq, k_size))\n",
    "\n",
    "    dictOf_H37Rv_MycoBrow_Gene_KmerHashes[GeneID] = record_Hashes_Set\n",
    "    "
   ]
  },
  {
   "cell_type": "code",
   "execution_count": 33,
   "id": "4ed612a2-cd59-46ac-b5b6-c9bc01d02a85",
   "metadata": {},
   "outputs": [
    {
     "data": {
      "text/plain": [
       "1524"
      ]
     },
     "execution_count": 33,
     "metadata": {},
     "output_type": "execute_result"
    }
   ],
   "source": [
    "len(dictOf_H37Rv_MycoBrow_GeneSeq[\"dnaA\"])"
   ]
  },
  {
   "cell_type": "code",
   "execution_count": 34,
   "id": "9fb4c5cf-cb56-4332-b372-4fba3178dde5",
   "metadata": {},
   "outputs": [
    {
     "data": {
      "text/plain": [
       "[13580233940393664509, 5138456728421695490]"
      ]
     },
     "execution_count": 34,
     "metadata": {},
     "output_type": "execute_result"
    }
   ],
   "source": [
    "list(dictOf_H37Rv_MycoBrow_Gene_KmerHashes[\"dnaA\"])[:2]"
   ]
  },
  {
   "cell_type": "markdown",
   "id": "bb8b13fe-9bfe-4dc4-b688-1da1b4dfea8a",
   "metadata": {},
   "source": [
    "## Generate k-mer info for \"Phage Sequences & Insertion Sequences) in H37Rv"
   ]
  },
  {
   "cell_type": "markdown",
   "id": "92eb45df-ed65-4131-be51-7aff00ba1a26",
   "metadata": {},
   "source": [
    "## a) Create DF for only MGEs (Insertion seqs & phages)"
   ]
  },
  {
   "cell_type": "code",
   "execution_count": 35,
   "id": "ef9095a6-a69c-40b5-abe9-385f1630e2fc",
   "metadata": {},
   "outputs": [
    {
     "data": {
      "text/plain": [
       "147"
      ]
     },
     "execution_count": 35,
     "metadata": {},
     "output_type": "execute_result"
    }
   ],
   "source": [
    "H37Rv_Anno_InsSeqAndPhages_DF = H37Rv_GenomeAnno_Genes_DF.query(\"Functional_Category == 'insertion seqs and phages'\")     \n",
    "\n",
    "InsSeqAndPhages_GeneIDs = H37Rv_Anno_InsSeqAndPhages_DF[\"Symbol\"].values\n",
    "len(InsSeqAndPhages_GeneIDs)\n",
    "     "
   ]
  },
  {
   "cell_type": "code",
   "execution_count": 36,
   "id": "da25490b-4d6a-4a11-84c5-c660570df7b2",
   "metadata": {},
   "outputs": [],
   "source": [
    "#### Peak at the first 5 geneIDs"
   ]
  },
  {
   "cell_type": "code",
   "execution_count": 37,
   "id": "54352934-36b0-41d3-a2d7-49cebd8c0bcf",
   "metadata": {},
   "outputs": [
    {
     "data": {
      "text/plain": [
       "array(['Rv0031', 'Rv0094c', 'Rv0095c', 'Rv0336', 'Rv0393'], dtype=object)"
      ]
     },
     "execution_count": 37,
     "metadata": {},
     "output_type": "execute_result"
    }
   ],
   "source": [
    "InsSeqAndPhages_GeneIDs[:5]"
   ]
  },
  {
   "cell_type": "code",
   "execution_count": 38,
   "id": "946a0508-57b2-4362-8d91-8e826b8adc52",
   "metadata": {},
   "outputs": [
    {
     "data": {
      "text/html": [
       "<div>\n",
       "<style scoped>\n",
       "    .dataframe tbody tr th:only-of-type {\n",
       "        vertical-align: middle;\n",
       "    }\n",
       "\n",
       "    .dataframe tbody tr th {\n",
       "        vertical-align: top;\n",
       "    }\n",
       "\n",
       "    .dataframe thead th {\n",
       "        text-align: right;\n",
       "    }\n",
       "</style>\n",
       "<table border=\"1\" class=\"dataframe\">\n",
       "  <thead>\n",
       "    <tr style=\"text-align: right;\">\n",
       "      <th></th>\n",
       "      <th>Chrom</th>\n",
       "      <th>Start</th>\n",
       "      <th>End</th>\n",
       "      <th>Strand</th>\n",
       "      <th>H37rv_GeneID</th>\n",
       "      <th>Symbol</th>\n",
       "      <th>Feature</th>\n",
       "      <th>Functional_Category</th>\n",
       "      <th>Is_Pseudogene</th>\n",
       "      <th>Product</th>\n",
       "      <th>PEandPPE_Subfamily</th>\n",
       "      <th>ExcludedGroup_Category</th>\n",
       "    </tr>\n",
       "  </thead>\n",
       "  <tbody>\n",
       "    <tr>\n",
       "      <th>33</th>\n",
       "      <td>NC_000962.3</td>\n",
       "      <td>33581</td>\n",
       "      <td>33794</td>\n",
       "      <td>+</td>\n",
       "      <td>Rv0031</td>\n",
       "      <td>Rv0031</td>\n",
       "      <td>CDS</td>\n",
       "      <td>insertion seqs and phages</td>\n",
       "      <td>No</td>\n",
       "      <td>Possible remnant of a transposase</td>\n",
       "      <td>NaN</td>\n",
       "      <td>InsertionSeqs_And_Phages</td>\n",
       "    </tr>\n",
       "  </tbody>\n",
       "</table>\n",
       "</div>"
      ],
      "text/plain": [
       "          Chrom  Start    End Strand H37rv_GeneID  Symbol Feature        Functional_Category Is_Pseudogene                            Product PEandPPE_Subfamily    ExcludedGroup_Category\n",
       "33  NC_000962.3  33581  33794      +       Rv0031  Rv0031     CDS  insertion seqs and phages            No  Possible remnant of a transposase                NaN  InsertionSeqs_And_Phages"
      ]
     },
     "execution_count": 38,
     "metadata": {},
     "output_type": "execute_result"
    }
   ],
   "source": [
    "H37Rv_Anno_InsSeqAndPhages_DF.head(1)"
   ]
  },
  {
   "cell_type": "markdown",
   "id": "dc587245-6dac-447c-bbb8-1c22c169346a",
   "metadata": {},
   "source": [
    "## b) Generate union of all 31 bp k-mer hashes for \"Insertion seqs & phages\" genes (N=147)"
   ]
  },
  {
   "cell_type": "code",
   "execution_count": 39,
   "id": "3e07631a-75c9-4e6d-8f90-0348fb264dca",
   "metadata": {},
   "outputs": [],
   "source": [
    "def getAllHashes_InTargetSeqs(dictOfHashes, targetsToKeep):\n",
    "    \n",
    "    all_Hashes_InTarget = set()\n",
    "\n",
    "    for i_SeqID, i_Hashes in dictOfHashes.items():\n",
    "                \n",
    "        if i_SeqID in targetsToKeep:\n",
    "            all_Hashes_InTarget.update(i_Hashes) \n",
    "    \n",
    "    return all_Hashes_InTarget"
   ]
  },
  {
   "cell_type": "code",
   "execution_count": 40,
   "id": "2f515990-ee2e-4306-98f7-64cca6d6c2ca",
   "metadata": {},
   "outputs": [
    {
     "name": "stdout",
     "output_type": "stream",
     "text": [
      "69102\n"
     ]
    }
   ],
   "source": [
    "Rv_MGEs_Hashes_Set = getAllHashes_InTargetSeqs(dictOf_H37Rv_MycoBrow_Gene_KmerHashes,\n",
    "                                                    InsSeqAndPhages_GeneIDs)   \n",
    "\n",
    "print(len(Rv_MGEs_Hashes_Set))"
   ]
  },
  {
   "cell_type": "markdown",
   "id": "2e8129a3-7c3f-49da-b9c8-1ff6a5788765",
   "metadata": {},
   "source": [
    "#### Look at Jaccard Containment between 31-mers of H37Rv and H37Rv's MGEs (ISs + Phages)"
   ]
  },
  {
   "cell_type": "code",
   "execution_count": 41,
   "id": "0b4a464a-41b5-44e7-8640-149d998ec6f8",
   "metadata": {},
   "outputs": [
    {
     "data": {
      "text/plain": [
       "0.01589562466616704"
      ]
     },
     "execution_count": 41,
     "metadata": {},
     "output_type": "execute_result"
    }
   ],
   "source": [
    "jaccard_containment_FromSets(H37Rv_Hashes_Set, Rv_MGEs_Hashes_Set)"
   ]
  },
  {
   "cell_type": "code",
   "execution_count": null,
   "id": "8df73fc2-d07d-460f-835f-ed6077cab817",
   "metadata": {},
   "outputs": [],
   "source": []
  },
  {
   "cell_type": "code",
   "execution_count": null,
   "id": "15c64374-1ec2-442f-8e07-70f963faa786",
   "metadata": {},
   "outputs": [],
   "source": []
  },
  {
   "cell_type": "markdown",
   "id": "63af4265-3d1e-4d7e-bddc-8bec5d7bcf40",
   "metadata": {},
   "source": [
    "# Part 3: Generate k-mer info per node from Pangraph GFA "
   ]
  },
  {
   "cell_type": "markdown",
   "id": "da4ff530-44b4-4945-aa31-9fa417019fb3",
   "metadata": {},
   "source": [
    "## Define output dir of the Mtb-WGA-SMK processing pipeline"
   ]
  },
  {
   "cell_type": "code",
   "execution_count": 42,
   "id": "7fa793fc-97e0-497c-80fe-04acb9c1b14d",
   "metadata": {},
   "outputs": [],
   "source": [
    "WGA_SMK_Outputs_Dir = \"/n/data1/hms/dbmi/farhat/mm774/Projects/Mtb-WGA-SMK-Output\"\n",
    "\n",
    "WGA151CI_SMK_OutputDir = WGA_SMK_Outputs_Dir + \"/231121_MtbSetV3_151CI\"\n",
    "MtbWGA_SMK_Pipeline_OutputDir = WGA151CI_SMK_OutputDir\n"
   ]
  },
  {
   "cell_type": "code",
   "execution_count": 43,
   "id": "5f34458e-5547-4581-a081-f02444562d3b",
   "metadata": {},
   "outputs": [
    {
     "name": "stdout",
     "output_type": "stream",
     "text": [
      "AncRecon\n",
      "AsmAnalysis\n",
      "Asm_MergeSNPs_mpileup\n",
      "Asm_MergeVar_mpileup\n",
      "Busco_Download_Tmp\n",
      "FastANI\n",
      "HomologyMapping\n",
      "Minigraph\n",
      "NucDiversity\n",
      "O2logs\n",
      "PanGenome_Analysis\n",
      "Pangraph_Mtb151CIWiRv_Analysis\n",
      "Phylogenies\n",
      "RecombDetection\n",
      "SourMash\n"
     ]
    }
   ],
   "source": [
    "!ls -1 $MtbWGA_SMK_Pipeline_OutputDir"
   ]
  },
  {
   "cell_type": "code",
   "execution_count": null,
   "id": "8258c414-1f6a-4150-b7a1-e1dc2cfe4b06",
   "metadata": {},
   "outputs": [],
   "source": []
  },
  {
   "cell_type": "code",
   "execution_count": null,
   "id": "93fc7ad6-bc40-460a-a34b-e7c8b2073073",
   "metadata": {},
   "outputs": [],
   "source": []
  },
  {
   "cell_type": "code",
   "execution_count": null,
   "id": "8627fa16-cb43-4f20-849d-90174873fdc1",
   "metadata": {},
   "outputs": [],
   "source": []
  },
  {
   "cell_type": "markdown",
   "id": "6ef73705-1062-4cde-a970-f0c43b4cc72a",
   "metadata": {},
   "source": [
    "## Define PATHS relevant to Pangraph output (Try 1 on Mtb151CI + H37Rv genomes)"
   ]
  },
  {
   "cell_type": "code",
   "execution_count": 44,
   "id": "cab9b0b4-ac36-4752-a3bd-12c8a987a542",
   "metadata": {},
   "outputs": [],
   "source": [
    "target_OutputDir = MtbWGA_SMK_Pipeline_OutputDir\n",
    "\n",
    "# Minigraph_151CI_OutDir = f\"{target_OutputDir}/Minigraph\"\n",
    "\n",
    "Pangraph_151CI_OutDir = f\"{target_OutputDir}/Pangraph_Mtb151CIWiRv_Analysis\"\n",
    "\n",
    "Mtb151CI_Pangraph_FA = f\"{Pangraph_151CI_OutDir}/Pangraph_151CI_V4_WiDup/pangraph.fa\"\n",
    "Mtb151CI_Pangraph_GFA = f\"{Pangraph_151CI_OutDir}/Pangraph_151CI_V4_WiDup/pangraph.CigarMod.gfa\"\n"
   ]
  },
  {
   "cell_type": "code",
   "execution_count": 45,
   "id": "62488b3b-47c9-4a37-8af6-2153289af854",
   "metadata": {},
   "outputs": [
    {
     "name": "stdout",
     "output_type": "stream",
     "text": [
      "OLD_Pangraph_V1\n",
      "Pangraph_151CI_V3_NoDup\n",
      "Pangraph_151CI_V3_WiDup\n",
      "Pangraph_151CI_V4_WiDup\n"
     ]
    }
   ],
   "source": [
    "!ls -1 $Pangraph_151CI_OutDir"
   ]
  },
  {
   "cell_type": "markdown",
   "id": "49655993-e07b-4127-9691-3f65ad5e39d1",
   "metadata": {},
   "source": [
    "#### Test 1: Parse FASTA of node seqs from Pangraph"
   ]
  },
  {
   "cell_type": "code",
   "execution_count": 46,
   "id": "c31da537-53cc-4cde-ac56-0f3c1dec0aef",
   "metadata": {},
   "outputs": [
    {
     "name": "stderr",
     "output_type": "stream",
     "text": [
      "1481it [00:00, 23593.76it/s]\n"
     ]
    }
   ],
   "source": [
    "dictOf_Pangraph_NodesSeqs = {}\n",
    "\n",
    "\n",
    "for index, record in tqdm(enumerate(SeqIO.parse(Mtb151CI_Pangraph_FA, \"fasta\"))):\n",
    "    \n",
    "    RecordName = record.name\n",
    "    S_Seq = str(record.seq).upper()\n",
    "    \n",
    "    dictOf_Pangraph_NodesSeqs[RecordName] = S_Seq"
   ]
  },
  {
   "cell_type": "code",
   "execution_count": 47,
   "id": "621fb5ed-2125-4e14-add8-3639db9232b5",
   "metadata": {},
   "outputs": [
    {
     "data": {
      "text/plain": [
       "1481"
      ]
     },
     "execution_count": 47,
     "metadata": {},
     "output_type": "execute_result"
    }
   ],
   "source": [
    "len(list(dictOf_Pangraph_NodesSeqs.keys()))"
   ]
  },
  {
   "cell_type": "code",
   "execution_count": 48,
   "id": "a7ac6bd8-486e-4e48-89bc-9b59c7468f91",
   "metadata": {},
   "outputs": [
    {
     "data": {
      "text/plain": [
       "'CATCGATTCTTGGCGACGCCGTTGCTGTACCGATAGCGACTGCCCCGTATCGATCCCAGGGAACGTGACCATGGTCGTAGGGATGACTTGACAGTTTCAACGGGGTGCGACCACCGTTGCGCTCAGAAGGCATACGTTGGTGGAACACGTCGGAAAGCTGGGAGGTGAATCTGATGGCTGGCGACCAAGAGCTGGAACTGCGGTTCGACGTTCCTCTTTACACGCTTGCCGAGGCATCGCGGTACCTGGTGGTTCCCCGCGCCACCCTGGCTACGTGGGCTGACGGCTACGAGCGTCGGCCGGCCAACGCACCGGCGGTCCAGGGGCAACCGATCATCACGGCTCTTCCCCACCCGACCGGCAGTCACGCTCGGCTCCCATTCGTCGGAATCGCCGAGGCGTATGTGTTGAACGCCTTCCGCCGAGCGGGCGTCCCTATGCAGCGGATCCGGCCATCCCTCGACTGGCTAATCAAGAATGTCGGGCCACACGCGCTTGCGTCCCAGGATTTGTGCACGGACGGTGCCGAGGTGCTCTGGCGGTTCGCTGAACGGTCCGGGGAGGGCAGTCCTGATGATCTGGTGGTCAGGGGGCTGATTGTCCCGCGATCCGGGCAGTACGTCTTCAAGGAGATCGTCGAGCACTACCTGCAACAAATCAGCTTTGCCGACGACAACCTGGCTTCGATGATTAGGTTGCCGCAGTACGGCGATGCCAACGTCGTCCTCGATCCACGCCGCGGCTATGGGCAACCGGTGTTCGACGGAAGCGGCGTCCGGGTAGCTGACGTGCTCGGCCCATTGCGCGCCGGCGCGACGTTCCAGGCTGTCGCCGACGACTACGGTGTGACCCCGGACCAGCTTCGAGACGCGCTCGACGCCATTGCAGCCTGATCGGAATCTCCTCGCCGACCTCGATCACATCTTTGTCGACCGGAGTTTGGGCGCTGTGCAAGTCCCGCAACTCCTTCGGGATGCCGGATTCCGGCTGACAACGATGCGGGAGCACTACGGCGAGACGCAGGCTCAGAGTGTCAGCGACCACAAGTGGATCGCAATGA'"
      ]
     },
     "execution_count": 48,
     "metadata": {},
     "output_type": "execute_result"
    }
   ],
   "source": [
    "dictOf_Pangraph_NodesSeqs[\"JAICNOQMSG\"]"
   ]
  },
  {
   "cell_type": "code",
   "execution_count": null,
   "id": "377ed489-c63c-4864-8e51-1dc9689900e2",
   "metadata": {},
   "outputs": [],
   "source": []
  },
  {
   "cell_type": "code",
   "execution_count": null,
   "id": "83f167f7-c3e2-4de5-b9d0-f396773cd60d",
   "metadata": {},
   "outputs": [],
   "source": []
  },
  {
   "cell_type": "code",
   "execution_count": null,
   "id": "f8aebfff-a531-43d0-a427-ec8cd0e64b95",
   "metadata": {},
   "outputs": [],
   "source": []
  },
  {
   "cell_type": "markdown",
   "id": "553f9103-7da2-4568-92cc-a2a8fab996b9",
   "metadata": {},
   "source": [
    "#### Test 2: Parse GFA from Pangraph + Add Seq info from FASTA"
   ]
  },
  {
   "cell_type": "code",
   "execution_count": 82,
   "id": "c99c6a49-35a4-444c-b4bd-acde4481f1d1",
   "metadata": {},
   "outputs": [
    {
     "name": "stderr",
     "output_type": "stream",
     "text": [
      "100%|██████████| 3568/3568 [00:37<00:00, 94.89it/s]  \n",
      "100%|██████████| 3568/3568 [00:06<00:00, 571.77it/s]  \n"
     ]
    },
    {
     "data": {
      "text/plain": [
       "1481"
      ]
     },
     "execution_count": 82,
     "metadata": {},
     "output_type": "execute_result"
    }
   ],
   "source": [
    "GFA_GP = gfapy.Gfa.from_file(Mtb151CI_Pangraph_GFA, version = \"gfa1\", vlevel = 0)\n",
    "\n",
    "i_dictOf_NodeInfo = {}\n",
    "\n",
    "i = 0\n",
    "\n",
    "for line in tqdm(GFA_GP.lines):\n",
    "    line_Str = str(line)\n",
    "\n",
    "    if line_Str.startswith(\"S\"):\n",
    "        \n",
    "        line_SplitByTab = line_Str.split(\"\\t\")\n",
    "        \n",
    "        S_Name = line_SplitByTab[1]\n",
    "\n",
    "        S_Seq = dictOf_Pangraph_NodesSeqs[S_Name]\n",
    "        \n",
    "        Len_Seq = len(S_Seq)\n",
    "\n",
    "        # In pangraph GFA RC corresponds to total number of bases across all assemblies)\n",
    "        S_RC = int(line_SplitByTab[4].split(\":i:\")[-1])\n",
    "\n",
    "        # Infer the number of assemblies with Node by dividing RC by length of node\n",
    "        # N_Asms = S_RC/Len_Seq\n",
    "\n",
    "        # if N_Asms == 152:\n",
    "        #     i_Type = \"Core\"\n",
    "        # else:\n",
    "        #      i_Type = \"SV\"\n",
    "        \n",
    "        #record_Kmers = build_kmers(S_Seq, 31)\n",
    "        \n",
    "        record_Kmers = build_kmers(S_Seq, k_size)\n",
    "        record_Hashes = hash_kmers_ToSet(record_Kmers)\n",
    "\n",
    "        i_dictOf_NodeInfo[S_Name] = {}\n",
    "        i_dictOf_NodeInfo[S_Name][\"Len\"] = Len_Seq\n",
    "        #i_dictOf_NodeInfo[S_Name][\"Type\"] = i_Type\n",
    "\n",
    "        i_dictOf_NodeInfo[S_Name][\"N_Asms\"] = 0\n",
    "        i_dictOf_NodeInfo[S_Name][\"N_Occurances\"] = 0\n",
    "        i_dictOf_NodeInfo[S_Name][\"Kmers\"] = record_Kmers\n",
    "        i_dictOf_NodeInfo[S_Name][\"Kmer_Hashes_Set\"] = record_Hashes\n",
    "\n",
    "        #print(S_Name, line_SplitByTab)\n",
    "\n",
    "        i += 1\n",
    "\n",
    "for line in tqdm(GFA_GP.lines):\n",
    "    line_Str = str(line)\n",
    "\n",
    "    if line_Str.startswith(\"P\"):\n",
    "        \n",
    "        line_SplitByTab = line_Str.split(\"\\t\")\n",
    "\n",
    "        i_NodePath_Str = line_SplitByTab[2]\n",
    "        \n",
    "        i_NodePath_List = i_NodePath_Str.split(\",\")\n",
    "\n",
    "        unique_NodeIDs = {i_NodeID[:-1] for i_NodeID in i_NodePath_List}\n",
    "\n",
    "        for i_NodeID in unique_NodeIDs:\n",
    "            i_dictOf_NodeInfo[i_NodeID][\"N_Asms\"] += 1\n",
    "            \n",
    "        for i_NodeID in i_NodePath_List:\n",
    "            i_NodeID = i_NodeID[:-1]\n",
    "\n",
    "            i_dictOf_NodeInfo[i_NodeID][\"N_Occurances\"] += 1\n",
    "\n",
    "\n",
    "PG_dictOf_NodeInfo = i_dictOf_NodeInfo\n",
    "\n",
    "len(list(PG_dictOf_NodeInfo.keys()))"
   ]
  },
  {
   "cell_type": "code",
   "execution_count": null,
   "id": "f1005953-e125-4d77-ad40-dad017a2fdb0",
   "metadata": {},
   "outputs": [],
   "source": [
    "#### Part 3: Classify node of graph into Core or SV Node"
   ]
  },
  {
   "cell_type": "code",
   "execution_count": 83,
   "id": "90d42de2-02f1-49c6-8f15-4421b29492cf",
   "metadata": {},
   "outputs": [
    {
     "data": {
      "text/plain": [
       "1481"
      ]
     },
     "execution_count": 83,
     "metadata": {},
     "output_type": "execute_result"
    }
   ],
   "source": [
    "for i_NodeID in i_dictOf_NodeInfo.keys():\n",
    "    \n",
    "    N_Asms = i_dictOf_NodeInfo[i_NodeID][\"N_Asms\"]\n",
    "\n",
    "\n",
    "    if N_Asms > 152:\n",
    "        print(i_NodeID, N_Asms, \"UUUUHHH ohhh, too many counts\")\n",
    "        \n",
    "    if N_Asms == 152:\n",
    "        i_Type = \"Core\"\n",
    "    else:\n",
    "        i_Type = \"SV\"\n",
    "\n",
    "    i_dictOf_NodeInfo[i_NodeID][\"Type\"] = i_Type\n",
    "\n",
    "\n",
    "PG_dictOf_NodeInfo = i_dictOf_NodeInfo\n",
    "\n",
    "len(list(PG_dictOf_NodeInfo.keys()))"
   ]
  },
  {
   "cell_type": "code",
   "execution_count": null,
   "id": "94821fd8-02d9-4281-a627-ee635ab80f12",
   "metadata": {},
   "outputs": [],
   "source": []
  },
  {
   "cell_type": "code",
   "execution_count": null,
   "id": "e5c5f9ba-98b2-4d95-a476-2c2785bc4d0c",
   "metadata": {},
   "outputs": [],
   "source": []
  },
  {
   "cell_type": "code",
   "execution_count": 101,
   "id": "a5136752-dafc-428b-aab9-f6e9d90914f0",
   "metadata": {},
   "outputs": [],
   "source": [
    "#PG_dictOf_NodeInfo[\"OVSAZPKTEZ\"].keys()"
   ]
  },
  {
   "cell_type": "code",
   "execution_count": 102,
   "id": "e8879ef8-a8ff-428a-8398-279dbb8ed162",
   "metadata": {},
   "outputs": [],
   "source": [
    "#PG_dictOf_NodeInfo[\"OVSAZPKTEZ\"][\"Type\"]"
   ]
  },
  {
   "cell_type": "code",
   "execution_count": 103,
   "id": "ce61889e-1526-4b03-8e03-57c6b5d199e6",
   "metadata": {},
   "outputs": [],
   "source": [
    "#PG_dictOf_NodeInfo[\"OVSAZPKTEZ\"][\"N_Asms\"]"
   ]
  },
  {
   "cell_type": "code",
   "execution_count": 104,
   "id": "e6ba4451-048d-44d2-87cb-a43e18400126",
   "metadata": {},
   "outputs": [],
   "source": [
    "#PG_dictOf_NodeInfo[\"OVSAZPKTEZ\"][\"Len\"]"
   ]
  },
  {
   "cell_type": "code",
   "execution_count": 105,
   "id": "5376077f-cd48-453d-a9e1-a739e90adc6c",
   "metadata": {},
   "outputs": [],
   "source": [
    "#list(PG_dictOf_NodeInfo[\"OVSAZPKTEZ\"][\"Kmer_Hashes_Set\"])[:10]"
   ]
  },
  {
   "cell_type": "code",
   "execution_count": null,
   "id": "8b6c1a59-7ee0-4cfb-a7cf-f286d6416894",
   "metadata": {},
   "outputs": [],
   "source": []
  },
  {
   "cell_type": "markdown",
   "id": "dd412573-6c37-404d-a350-a133d9182364",
   "metadata": {},
   "source": [
    "## Classify all nodes by wheither they are a CORE NODE or a SV NODE within the graph"
   ]
  },
  {
   "cell_type": "code",
   "execution_count": 84,
   "id": "8f6580d7-b23d-45c8-bbdb-9599ff7f0197",
   "metadata": {},
   "outputs": [
    {
     "name": "stdout",
     "output_type": "stream",
     "text": [
      "# of SV Nodes: 957\n",
      "# of Core Nodes: 524\n",
      "# of ALL Nodes: 1481\n"
     ]
    }
   ],
   "source": [
    "All_Nodes_List = list(PG_dictOf_NodeInfo.keys())\n",
    "\n",
    "SV_NodeIDs_All = []\n",
    "Core_NodeIDs = []\n",
    "\n",
    "for NodeID, NodeInfo in PG_dictOf_NodeInfo.items():\n",
    "    \n",
    "    #print(NodeID, NodeInfo.keys(), NodeInfo[\"N_Asms\"] )\n",
    "    \n",
    "    if NodeInfo[\"Type\"] == \"SV\":\n",
    "        SV_NodeIDs_All.append(NodeID)\n",
    "        \n",
    "    if NodeInfo[\"Type\"] == \"Core\":\n",
    "        Core_NodeIDs.append(NodeID)\n",
    "\n",
    "SV_NodeIDs_All = list(set(SV_NodeIDs_All))\n",
    "Core_NodeIDs = list(set(Core_NodeIDs))\n",
    "\n",
    "print(\"# of SV Nodes:\", len(SV_NodeIDs_All))\n",
    "print(\"# of Core Nodes:\", len(Core_NodeIDs))\n",
    "print(\"# of ALL Nodes:\", len(All_Nodes_List))"
   ]
  },
  {
   "cell_type": "code",
   "execution_count": null,
   "id": "7a2befe5-40d3-4fe9-98c1-5c4cd65454fb",
   "metadata": {},
   "outputs": [],
   "source": [
    "905 + 436"
   ]
  },
  {
   "cell_type": "code",
   "execution_count": null,
   "id": "49619c27-dcf0-4c6c-adfc-82b90ad33d48",
   "metadata": {},
   "outputs": [],
   "source": [
    "NodeInfo.keys()"
   ]
  },
  {
   "cell_type": "code",
   "execution_count": null,
   "id": "28e8c1a0-9e58-4193-931a-0195e8c35a85",
   "metadata": {},
   "outputs": [],
   "source": [
    "NodeInfo['N_Asms']"
   ]
  },
  {
   "cell_type": "code",
   "execution_count": null,
   "id": "ae3fbdcb-5fd7-468b-bbe5-1ad309172f98",
   "metadata": {},
   "outputs": [],
   "source": [
    "621 + 498"
   ]
  },
  {
   "cell_type": "code",
   "execution_count": null,
   "id": "c41599a0-5d02-4d95-8c72-77f587f5e7ad",
   "metadata": {},
   "outputs": [],
   "source": [
    "NodeID"
   ]
  },
  {
   "cell_type": "markdown",
   "id": "a7f69a59-ceff-46b7-86f0-89cc3708d43c",
   "metadata": {},
   "source": [
    "# Part 5: Pairwise comparison of k-mer content between all SV Nodes\n",
    "\n",
    "In this section we calculate the **jaccard similarity** and **jaccard containment** between all pairwise combinations of SV nodes within the SV pan-genome graph.\n",
    "\n",
    "This will allow us to identify pairs of nodes that have very similar sequence content (measured through overlap of k-mers)"
   ]
  },
  {
   "cell_type": "markdown",
   "id": "7da29366-ee5f-42da-b042-2129dcb611c4",
   "metadata": {},
   "source": [
    "## Run all vs all k-mer comparison"
   ]
  },
  {
   "cell_type": "code",
   "execution_count": null,
   "id": "a3c708bb-0912-440c-b1fd-da7d08775262",
   "metadata": {},
   "outputs": [],
   "source": [
    "All_Nodes_List = list(PG_dictOf_NodeInfo.keys())\n",
    "len(All_Nodes_List)"
   ]
  },
  {
   "cell_type": "code",
   "execution_count": null,
   "id": "9964e732-7779-43a5-871a-e68ae03989d9",
   "metadata": {
    "scrolled": true
   },
   "outputs": [],
   "source": [
    "listOfTuples = []\n",
    "\n",
    "for record_Name_1 in tqdm( All_Nodes_List ) :\n",
    "    for record_Name_2 in All_Nodes_List:\n",
    "        record_1_Hashes = PG_dictOf_NodeInfo[record_Name_1][\"Kmer_Hashes_Set\"]\n",
    "        record_2_Hashes = PG_dictOf_NodeInfo[record_Name_2][\"Kmer_Hashes_Set\"]\n",
    "        \n",
    "        if (record_1_Hashes) & (record_2_Hashes): # Verify that 31-mer hashes are available for both nodes (\"records\")\n",
    "            \n",
    "            record_1and2_JS = jaccard_similarity_FromSets(record_1_Hashes, record_2_Hashes)\n",
    "\n",
    "            if record_1and2_JS != 0: # If jaccard similarity is 0, don't bother to calculate JC or save info\n",
    "                record_1and2_JC = jaccard_containment_FromSets(record_1_Hashes, record_2_Hashes)\n",
    "                \n",
    "                record_1_SeqLen = PG_dictOf_NodeInfo[record_Name_1][\"Len\"]\n",
    "                record_2_SeqLen = PG_dictOf_NodeInfo[record_Name_2][\"Len\"]\n",
    "                    \n",
    "                i_Tuple = (record_Name_1, record_Name_2, \n",
    "                           record_1_SeqLen, record_2_SeqLen,\n",
    "                           record_1and2_JS, record_1and2_JC)\n",
    "                \n",
    "                listOfTuples.append(i_Tuple)\n",
    "\n",
    "\n",
    "AvA_Nodes_DF = pd.DataFrame(listOfTuples)\n",
    "AvA_Nodes_DF.columns = [\"RecordID_1\", \"RecordID_2\", \"Record1_Len\", \"Record2_Len\", \"JaccardSim\", \"JaccardContain\"]\n",
    "\n",
    "# Exclude comparisons between the same node sequence\n",
    "AvA_Nodes_DF = AvA_Nodes_DF.query(\"RecordID_1 != RecordID_2\")\n"
   ]
  },
  {
   "cell_type": "code",
   "execution_count": null,
   "id": "e423bed1-0298-4291-bf57-c184af52ee4a",
   "metadata": {},
   "outputs": [],
   "source": [
    "len(\"TAGCGCGAACCCCCGCCATACGCCCCAGCTGCGCCCCG\")"
   ]
  },
  {
   "cell_type": "code",
   "execution_count": 115,
   "id": "68e50e41-314b-4989-bbb2-e4ab9159dc49",
   "metadata": {},
   "outputs": [],
   "source": [
    "# record_1_Seq = dictOf_Pangraph_NodesSeqs[\"IKRXJRHUBC\"]\n",
    "# record_2_Seq = dictOf_Pangraph_NodesSeqs[\"SAZOVXDQFH\"]\n",
    "\n",
    "# record_1_Hashes = PG_dictOf_NodeInfo[\"IKRXJRHUBC\"][\"Kmer_Hashes_Set\"]\n",
    "# record_2_Hashes = PG_dictOf_NodeInfo[\"SAZOVXDQFH\"][\"Kmer_Hashes_Set\"]\n",
    "\n",
    "# print(jaccard_similarity_FromSets(record_1_Hashes, record_2_Hashes))\n",
    "# print(jaccard_containment_FromSets(record_1_Hashes, record_2_Hashes))\n",
    "# print(jaccard_containment_FromSets(record_2_Hashes, record_1_Hashes))\n"
   ]
  },
  {
   "cell_type": "code",
   "execution_count": 116,
   "id": "94dd2e87-68dc-4845-bf7b-36f5d9f3e6ae",
   "metadata": {},
   "outputs": [],
   "source": [
    "#record_1_Seq"
   ]
  },
  {
   "cell_type": "code",
   "execution_count": 117,
   "id": "8090f072-ee5a-4531-a7bc-8af846c0d61f",
   "metadata": {},
   "outputs": [],
   "source": [
    "#record_2_Seq"
   ]
  },
  {
   "cell_type": "code",
   "execution_count": null,
   "id": "6f3a170c-2d24-4d14-8a37-2ae8ed624178",
   "metadata": {},
   "outputs": [],
   "source": []
  },
  {
   "cell_type": "code",
   "execution_count": null,
   "id": "691b4e44-13a7-4d70-9039-5489ce4f969a",
   "metadata": {},
   "outputs": [],
   "source": [
    "AvA_Nodes_DF.shape"
   ]
  },
  {
   "cell_type": "markdown",
   "id": "95bb6c18-3cff-4a58-ba00-f184add8cc25",
   "metadata": {},
   "source": [
    "#### Peak at All vs All DF"
   ]
  },
  {
   "cell_type": "code",
   "execution_count": null,
   "id": "266a001c-f9a4-4d94-bced-49478d03de36",
   "metadata": {},
   "outputs": [],
   "source": [
    "AvA_Nodes_DF.head(3)"
   ]
  },
  {
   "cell_type": "markdown",
   "id": "06a2baa3-26eb-4887-9b20-257bd9fdb48a",
   "metadata": {},
   "source": [
    "### Output All vs All Node k-mer comparison to TSV"
   ]
  },
  {
   "cell_type": "code",
   "execution_count": null,
   "id": "63c0424d-e44d-486f-b637-316b0da26f5a",
   "metadata": {},
   "outputs": [],
   "source": [
    "PangenomeAnalysis_Dir = \"../../Data/MtbPangenomeAnalysis_SetV5\"\n",
    "\n",
    "!mkdir $PangenomeAnalysis_Dir\n",
    "\n",
    "MG_AvA_Node_KmerAnalysis_TSV_GZ = f\"{PangenomeAnalysis_Dir}/MtbSVPG.Pangraph.NodeKmerComp.AllVsAll.V1.tsv.gz\"     \n",
    "\n",
    "AvA_Nodes_DF.to_csv(MG_AvA_Node_KmerAnalysis_TSV_GZ, sep = \"\\t\", index = False)\n"
   ]
  },
  {
   "cell_type": "code",
   "execution_count": null,
   "id": "09b34092-33b2-4448-9d52-f6c9ad0cb08d",
   "metadata": {},
   "outputs": [],
   "source": [
    "!du -sh $MG_AvA_Node_KmerAnalysis_TSV_GZ"
   ]
  },
  {
   "cell_type": "code",
   "execution_count": null,
   "id": "2bce6f61-4d32-44a6-bd1a-1585679826af",
   "metadata": {},
   "outputs": [],
   "source": [
    "!ls -1 $PangenomeAnalysis_Dir"
   ]
  },
  {
   "cell_type": "code",
   "execution_count": null,
   "id": "b97fbc21-6122-482a-a702-5b2c007407c2",
   "metadata": {},
   "outputs": [],
   "source": []
  },
  {
   "cell_type": "markdown",
   "id": "e1706179-d5fc-4bae-8938-bd24b71b21e5",
   "metadata": {},
   "source": [
    "# Part 6: Comparison of k-mer content of SV nodes to k-mer profiles of interest"
   ]
  },
  {
   "cell_type": "markdown",
   "id": "a7cb7588-9428-4b5e-ab3e-b60af0e37e0b",
   "metadata": {},
   "source": [
    "### A) Loop over all nodes and evaluate overlap w/ H37Rv, IS6110, annotated phages + insertion sequences, etc"
   ]
  },
  {
   "cell_type": "code",
   "execution_count": null,
   "id": "bdc84268-0d15-42ab-82ac-445a64dedbf5",
   "metadata": {
    "scrolled": true
   },
   "outputs": [],
   "source": [
    "NodeAnalysis_listOfRows = []\n",
    "\n",
    "for NodeID, NodeInfo in tqdm( PG_dictOf_NodeInfo.items() ) :\n",
    "    \n",
    "    record_Hashes_Set = NodeInfo[\"Kmer_Hashes_Set\"] \n",
    "\n",
    "    N_Asms = NodeInfo[\"N_Asms\"]\n",
    "    N_Occurances = NodeInfo[\"N_Asms\"]\n",
    "    \n",
    "    Len_Seq = NodeInfo[\"Len\"]\n",
    "        \n",
    "    if len(record_Hashes_Set) != 0:\n",
    "        Record_Hash_JC_WiH37Rv = jaccard_containment_FromSets( record_Hashes_Set, H37Rv_Hashes_Set)\n",
    "        Record_Hash_JC_WiIS6110 = jaccard_containment_FromSets( record_Hashes_Set, IS6110_Ex1_Hashes_Set)\n",
    "\n",
    "        Record_Hash_JC_WiRv_InsSeqAndPhages = jaccard_containment_FromSets( record_Hashes_Set, Rv_MGEs_Hashes_Set)\n",
    "\n",
    "    else:\n",
    "        Record_Hash_JC_WiH37Rv = 0\n",
    "        Record_Hash_JC_WiIS6110 = 0\n",
    "        Record_Hash_JC_WiRv_InsSeqAndPhages = 0 \n",
    "             \n",
    "        if Len_Seq >= 31:\n",
    "            print(f\"No kmers were produced for segment: {NodeID}\")\n",
    "                \n",
    "    Status_SVNode = (NodeID in SV_NodeIDs_All)\n",
    "    \n",
    "    i_Row = (NodeID,\n",
    "             Len_Seq,\n",
    "             N_Asms,\n",
    "             N_Occurances\n",
    "             Record_Hash_JC_WiH37Rv,\n",
    "             Record_Hash_JC_WiIS6110,\n",
    "             Record_Hash_JC_WiRv_InsSeqAndPhages,\n",
    "             Status_SVNode)\n",
    "    \n",
    "    NodeAnalysis_listOfRows.append(i_Row)\n",
    "\n",
    "    \n",
    "PG_Nodes_KmerComp_DF = pd.DataFrame(NodeAnalysis_listOfRows)\n",
    "\n",
    "PG_Nodes_KmerComp_DF.columns = [\"NodeID\",\n",
    "                              \"SeqLength\",\n",
    "                              \"N_Asms\",\n",
    "                              \"N_Occurances\",\n",
    "                              \"Jaccard_Cont_WiRv\",\n",
    "                              \"Jaccard_Cont_WiIS6110\",\n",
    "                              \"Jaccard_Cont_WiRv_InsSeqAndPhages\",\n",
    "                              \"IsSVNode\"]\n"
   ]
  },
  {
   "cell_type": "code",
   "execution_count": null,
   "id": "fc32b300-6f42-4573-8d57-628dee1d55e7",
   "metadata": {},
   "outputs": [],
   "source": [
    "PG_Nodes_KmerComp_DF.head(10)"
   ]
  },
  {
   "cell_type": "code",
   "execution_count": null,
   "id": "0bdbe487-78b3-4bea-bb28-9271f53fe69e",
   "metadata": {},
   "outputs": [],
   "source": [
    "PG_Nodes_KmerComp_DF.shape"
   ]
  },
  {
   "cell_type": "markdown",
   "id": "612b4a40-9cc5-45dc-9859-56a104a46395",
   "metadata": {},
   "source": [
    "### C) Calculate the highest k-mer jaccard containment relative to another node (for each node)\n",
    "This step uses the all vs all comparison of k-mer content, to identify nodes that have jaccard containment to at least 1 other node within the graph"
   ]
  },
  {
   "cell_type": "code",
   "execution_count": null,
   "id": "331504f4-9312-4da0-8508-614b2e0cfba6",
   "metadata": {},
   "outputs": [],
   "source": [
    "# Step 1: Create a dict that maps NodeID to the maximum k-mer jaccard containment to any other another node\n",
    "Dict_MaxJC_ToOtherNode = AvA_Nodes_DF.groupby(\"RecordID_1\").max()['JaccardContain'].to_dict()\n",
    "\n",
    "# Step 2: Add the Max Jaccard Containment (MaxJC) as a column, \n",
    "PG_Nodes_KmerComp_DF[\"MaxJC_ToOtherNode\"] = PG_Nodes_KmerComp_DF[\"NodeID\"].map(Dict_MaxJC_ToOtherNode).fillna(0)\n",
    "\n",
    "# Step 3: Fill w/ 0 if not in dictionary\n",
    "PG_Nodes_KmerComp_DF[\"MaxJC_ToOtherNode\"] = PG_Nodes_KmerComp_DF[\"MaxJC_ToOtherNode\"].fillna(0)\n",
    "\n"
   ]
  },
  {
   "cell_type": "code",
   "execution_count": null,
   "id": "b267b350-d411-474d-ac9b-ddb6f3dae7dc",
   "metadata": {},
   "outputs": [],
   "source": []
  },
  {
   "cell_type": "markdown",
   "id": "b28ecc50-37d1-4cb6-9e95-4e1ba6cbd824",
   "metadata": {},
   "source": [
    "### Output Minigraph NODE Kmer Analysis to TSV"
   ]
  },
  {
   "cell_type": "code",
   "execution_count": null,
   "id": "a64e1df9-7b6d-4d6c-92eb-e1d0c255c3aa",
   "metadata": {},
   "outputs": [],
   "source": [
    "PangenomeAnalysis_Dir = \"../../Data/MtbPangenomeAnalysis_SetV5\"\n",
    "\n",
    "!mkdir $PangenomeAnalysis_Dir\n",
    "\n",
    "PG_Node_KmerComp_TSV_GZ = f\"{PangenomeAnalysis_Dir}/MtbSVPG.Pangraph.NodeKmerComp.Summary.V1.tsv.gz\" \n",
    "\n",
    "PG_Nodes_KmerComp_DF.to_csv(PG_Node_KmerComp_TSV_GZ, sep = \"\\t\", index = False)\n"
   ]
  },
  {
   "cell_type": "code",
   "execution_count": null,
   "id": "65e6d2e9-46fc-4bc0-b647-f28e9667de29",
   "metadata": {},
   "outputs": [],
   "source": []
  },
  {
   "cell_type": "markdown",
   "id": "0c71af8b-78d0-4bbc-addd-40e525849230",
   "metadata": {},
   "source": [
    "# Test reparsing results "
   ]
  },
  {
   "cell_type": "code",
   "execution_count": null,
   "id": "a188d2e1-9fbb-41af-af95-2e64e35ed1f7",
   "metadata": {},
   "outputs": [],
   "source": []
  },
  {
   "cell_type": "markdown",
   "id": "bc324d7f-56ca-46a4-9c5f-9ddd5aa4bb9d",
   "metadata": {},
   "source": [
    "#### Test read in "
   ]
  },
  {
   "cell_type": "code",
   "execution_count": null,
   "id": "b78c60cc-c78f-475c-98d1-6c5725358b74",
   "metadata": {},
   "outputs": [],
   "source": [
    "PangenomeAnalysis_Dir = \"../../Data/MtbPangenomeAnalysis_SetV5\"\n",
    "\n",
    "MG_AvA_Node_KmerAnalysis_TSV_GZ = f\"{PangenomeAnalysis_Dir}/MtbSVPG.Pangraph.NodeKmerComp.AllVsAll.V1.tsv.gz\"     \n",
    "PG_Node_KmerComp_TSV_GZ = f\"{PangenomeAnalysis_Dir}/MtbSVPG.Pangraph.NodeKmerComp.Summary.V1.tsv.gz\" \n",
    "\n",
    "AvA_Nodes_DF = pd.read_csv(MG_AvA_Node_KmerAnalysis_TSV_GZ, sep = \"\\t\")\n",
    "PG_Nodes_KmerComp_DF = pd.read_csv(PG_Node_KmerComp_TSV_GZ, sep = \"\\t\")"
   ]
  },
  {
   "cell_type": "code",
   "execution_count": null,
   "id": "057ea6a6-ada5-4879-9cfb-f49274b6f36c",
   "metadata": {},
   "outputs": [],
   "source": []
  },
  {
   "cell_type": "code",
   "execution_count": null,
   "id": "fcd2cca1-65ec-4059-9c48-4518b572ec47",
   "metadata": {},
   "outputs": [],
   "source": []
  },
  {
   "cell_type": "markdown",
   "id": "061c47dc-2209-425a-9662-03c2c65d18f1",
   "metadata": {},
   "source": [
    "# Extra exploration"
   ]
  },
  {
   "cell_type": "code",
   "execution_count": null,
   "id": "f1b2c033-bc2c-40ba-bae9-fd21e1d8cbaa",
   "metadata": {},
   "outputs": [],
   "source": [
    "AvA_Nodes_DF.shape"
   ]
  },
  {
   "cell_type": "code",
   "execution_count": null,
   "id": "1dd68fc7-5541-4d94-9de2-bd75a06afd1e",
   "metadata": {},
   "outputs": [],
   "source": [
    "PG_Nodes_KmerComp_DF.shape"
   ]
  },
  {
   "cell_type": "code",
   "execution_count": null,
   "id": "105b77b2-7636-4ff2-81dc-8f8024bf9bcb",
   "metadata": {},
   "outputs": [],
   "source": []
  },
  {
   "cell_type": "code",
   "execution_count": null,
   "id": "d2f35608-c102-40d4-a25e-0d541bb3beef",
   "metadata": {},
   "outputs": [],
   "source": [
    "AvA_Nodes_DF.head()"
   ]
  },
  {
   "cell_type": "code",
   "execution_count": null,
   "id": "64bb800b-24c0-487d-b626-2302e8a25208",
   "metadata": {},
   "outputs": [],
   "source": [
    "PG_Nodes_KmerComp_DF.head()"
   ]
  },
  {
   "cell_type": "code",
   "execution_count": null,
   "id": "3a92641e-4a43-463e-9bfb-d334e5a0b07c",
   "metadata": {},
   "outputs": [],
   "source": [
    "PG_Nodes_KmerComp_DF.query(\"NodeID == 'SAZOVXDQFH'\")"
   ]
  },
  {
   "cell_type": "code",
   "execution_count": null,
   "id": "d5befaf0-5b2f-460b-927d-181deedc846e",
   "metadata": {},
   "outputs": [],
   "source": [
    "PG_Nodes_KmerComp_DF.query(\"NodeID == 'NUDZDLFHWL'\")"
   ]
  },
  {
   "cell_type": "code",
   "execution_count": null,
   "id": "6eb48edd-cc9a-4fc4-8bf3-68a426473b2a",
   "metadata": {},
   "outputs": [],
   "source": [
    "PG_Nodes_KmerComp_DF.query(\"N_Asms > 152\").shape"
   ]
  },
  {
   "cell_type": "code",
   "execution_count": null,
   "id": "7f1b1e28-0884-442f-b11f-e2969aece7e9",
   "metadata": {},
   "outputs": [],
   "source": [
    "PG_Nodes_KmerComp_DF.query(\"N_Asms > 152\").head(10)"
   ]
  },
  {
   "cell_type": "code",
   "execution_count": null,
   "id": "1b091cf1-25b5-44f0-b704-cc72122505aa",
   "metadata": {},
   "outputs": [],
   "source": []
  },
  {
   "cell_type": "code",
   "execution_count": 69,
   "id": "18e35051-1002-48d2-aa83-f1719a72edd5",
   "metadata": {},
   "outputs": [
    {
     "data": {
      "text/html": [
       "<div>\n",
       "<style scoped>\n",
       "    .dataframe tbody tr th:only-of-type {\n",
       "        vertical-align: middle;\n",
       "    }\n",
       "\n",
       "    .dataframe tbody tr th {\n",
       "        vertical-align: top;\n",
       "    }\n",
       "\n",
       "    .dataframe thead th {\n",
       "        text-align: right;\n",
       "    }\n",
       "</style>\n",
       "<table border=\"1\" class=\"dataframe\">\n",
       "  <thead>\n",
       "    <tr style=\"text-align: right;\">\n",
       "      <th></th>\n",
       "      <th>NodeID</th>\n",
       "      <th>SeqLength</th>\n",
       "      <th>N_Asms</th>\n",
       "      <th>Jaccard_Cont_WiRv</th>\n",
       "      <th>Jaccard_Cont_WiIS6110</th>\n",
       "      <th>Jaccard_Cont_WiRv_InsSeqAndPhages</th>\n",
       "      <th>IsSVNode</th>\n",
       "      <th>MaxJC_ToOtherNode</th>\n",
       "    </tr>\n",
       "  </thead>\n",
       "  <tbody>\n",
       "    <tr>\n",
       "      <th>0</th>\n",
       "      <td>FJTMAZPRVD</td>\n",
       "      <td>129</td>\n",
       "      <td>0</td>\n",
       "      <td>1.0000</td>\n",
       "      <td>0.0</td>\n",
       "      <td>0.0</td>\n",
       "      <td>True</td>\n",
       "      <td>0.000000</td>\n",
       "    </tr>\n",
       "    <tr>\n",
       "      <th>1</th>\n",
       "      <td>UTFEASEDAZ</td>\n",
       "      <td>7058</td>\n",
       "      <td>152</td>\n",
       "      <td>1.0000</td>\n",
       "      <td>0.0</td>\n",
       "      <td>0.0</td>\n",
       "      <td>False</td>\n",
       "      <td>0.002561</td>\n",
       "    </tr>\n",
       "    <tr>\n",
       "      <th>2</th>\n",
       "      <td>LGFSHRDBGR</td>\n",
       "      <td>687</td>\n",
       "      <td>152</td>\n",
       "      <td>1.0000</td>\n",
       "      <td>0.0</td>\n",
       "      <td>0.0</td>\n",
       "      <td>False</td>\n",
       "      <td>0.065449</td>\n",
       "    </tr>\n",
       "    <tr>\n",
       "      <th>3</th>\n",
       "      <td>OSJIRAGCXW</td>\n",
       "      <td>574</td>\n",
       "      <td>151</td>\n",
       "      <td>1.0000</td>\n",
       "      <td>0.0</td>\n",
       "      <td>0.0</td>\n",
       "      <td>True</td>\n",
       "      <td>0.000000</td>\n",
       "    </tr>\n",
       "    <tr>\n",
       "      <th>4</th>\n",
       "      <td>ELULSJQAGV</td>\n",
       "      <td>110</td>\n",
       "      <td>0</td>\n",
       "      <td>0.6375</td>\n",
       "      <td>0.0</td>\n",
       "      <td>0.0</td>\n",
       "      <td>True</td>\n",
       "      <td>0.025000</td>\n",
       "    </tr>\n",
       "  </tbody>\n",
       "</table>\n",
       "</div>"
      ],
      "text/plain": [
       "       NodeID  SeqLength  N_Asms  Jaccard_Cont_WiRv  Jaccard_Cont_WiIS6110  Jaccard_Cont_WiRv_InsSeqAndPhages  IsSVNode  MaxJC_ToOtherNode\n",
       "0  FJTMAZPRVD        129       0             1.0000                    0.0                                0.0      True           0.000000\n",
       "1  UTFEASEDAZ       7058     152             1.0000                    0.0                                0.0     False           0.002561\n",
       "2  LGFSHRDBGR        687     152             1.0000                    0.0                                0.0     False           0.065449\n",
       "3  OSJIRAGCXW        574     151             1.0000                    0.0                                0.0      True           0.000000\n",
       "4  ELULSJQAGV        110       0             0.6375                    0.0                                0.0      True           0.025000"
      ]
     },
     "execution_count": 69,
     "metadata": {},
     "output_type": "execute_result"
    }
   ],
   "source": [
    "PG_Nodes_KmerComp_DF.head()"
   ]
  },
  {
   "cell_type": "code",
   "execution_count": null,
   "id": "2edbfa9a-6600-4f51-a75e-62b79d62bab2",
   "metadata": {},
   "outputs": [],
   "source": []
  },
  {
   "cell_type": "code",
   "execution_count": null,
   "id": "afb0772d-0245-4552-86be-d00da5eca5aa",
   "metadata": {},
   "outputs": [],
   "source": []
  },
  {
   "cell_type": "markdown",
   "id": "c0043813-d764-4bd5-bc1b-e9dee3ebba3f",
   "metadata": {},
   "source": [
    "## Part 1: Look at high level stats of the SV Pan-genome graph of 151 Mtb genomes"
   ]
  },
  {
   "cell_type": "markdown",
   "id": "41bf5951-7de5-416d-9b30-ec2bbba6a56b",
   "metadata": {},
   "source": [
    "### How many total nodes are there? "
   ]
  },
  {
   "cell_type": "code",
   "execution_count": 70,
   "id": "93704328-8e4d-4298-b693-bb1d3bf188e8",
   "metadata": {},
   "outputs": [
    {
     "data": {
      "text/plain": [
       "(1481, 8)"
      ]
     },
     "execution_count": 70,
     "metadata": {},
     "output_type": "execute_result"
    }
   ],
   "source": [
    "PG_Nodes_KmerComp_DF.shape"
   ]
  },
  {
   "cell_type": "markdown",
   "id": "a64d162e-0a79-4a74-b3b1-dcc46a4b26d1",
   "metadata": {},
   "source": [
    "### What is the cumlative lenth of the graph?"
   ]
  },
  {
   "cell_type": "code",
   "execution_count": 71,
   "id": "e093a2f9-2537-4523-aac5-02fdc7051a97",
   "metadata": {},
   "outputs": [
    {
     "data": {
      "text/plain": [
       "4433630"
      ]
     },
     "execution_count": 71,
     "metadata": {},
     "output_type": "execute_result"
    }
   ],
   "source": [
    "PG_Nodes_KmerComp_DF[\"SeqLength\"].sum()"
   ]
  },
  {
   "cell_type": "markdown",
   "id": "9902eb47-9f99-47f3-9df1-bc3375af1e11",
   "metadata": {},
   "source": [
    "## How many nodes have length less than 31 bp?\n",
    "#### Nodes w/ length < 31 bp will be excluded from out k-mer based analysis of node sequence content\n",
    "\n",
    "Take aways:\n",
    "- 627 TOTAL nodes have length < 31 bp\n",
    "- 577 SV Nodes have length < 31 bp\n",
    "- 50 Core Nodes have length < 31 bp\n"
   ]
  },
  {
   "cell_type": "code",
   "execution_count": 72,
   "id": "209574d2-4929-43f6-b0a2-77ad5b121e60",
   "metadata": {},
   "outputs": [
    {
     "data": {
      "text/plain": [
       "1"
      ]
     },
     "execution_count": 72,
     "metadata": {},
     "output_type": "execute_result"
    }
   ],
   "source": [
    "PG_Nodes_KmerComp_DF.query(\"SeqLength < 31\").shape[0]"
   ]
  },
  {
   "cell_type": "code",
   "execution_count": 73,
   "id": "3f281e98-eeb9-4e6e-ae1c-61c1f6a75517",
   "metadata": {},
   "outputs": [
    {
     "data": {
      "text/plain": [
       "0"
      ]
     },
     "execution_count": 73,
     "metadata": {},
     "output_type": "execute_result"
    }
   ],
   "source": [
    "PG_Nodes_KmerComp_DF.query(\"IsSVNode == False & SeqLength < 31\").shape[0]"
   ]
  },
  {
   "cell_type": "code",
   "execution_count": 74,
   "id": "3f670104-3da0-4223-b4c9-bfe82860a8a1",
   "metadata": {},
   "outputs": [
    {
     "data": {
      "text/plain": [
       "1"
      ]
     },
     "execution_count": 74,
     "metadata": {},
     "output_type": "execute_result"
    }
   ],
   "source": [
    "PG_Nodes_KmerComp_DF.query(\"IsSVNode == True & SeqLength < 31\").shape[0]"
   ]
  },
  {
   "cell_type": "code",
   "execution_count": 75,
   "id": "6cd8d045-6fe9-45c3-a5ab-54c78c130d93",
   "metadata": {},
   "outputs": [
    {
     "data": {
      "text/plain": [
       "count     1481.000000\n",
       "mean      2993.673194\n",
       "std       7181.243748\n",
       "min         19.000000\n",
       "25%        145.000000\n",
       "50%        376.000000\n",
       "75%       1855.000000\n",
       "max      73572.000000\n",
       "Name: SeqLength, dtype: float64"
      ]
     },
     "execution_count": 75,
     "metadata": {},
     "output_type": "execute_result"
    }
   ],
   "source": [
    "PG_Nodes_KmerComp_DF[\"SeqLength\"].describe()"
   ]
  },
  {
   "cell_type": "code",
   "execution_count": null,
   "id": "352248d7-0973-4eee-9fad-0618291e2648",
   "metadata": {},
   "outputs": [],
   "source": []
  },
  {
   "cell_type": "markdown",
   "id": "ae5e50b5-b6e9-48ef-aebb-7d0bc5ad7e5b",
   "metadata": {},
   "source": [
    "### Filter for CORE-Nodes w/ at least 31 bp of length (N = 2061)"
   ]
  },
  {
   "cell_type": "code",
   "execution_count": 76,
   "id": "da5c5722-c0b7-4fb0-a47e-c296192e3678",
   "metadata": {},
   "outputs": [
    {
     "data": {
      "text/plain": [
       "(458, 8)"
      ]
     },
     "execution_count": 76,
     "metadata": {},
     "output_type": "execute_result"
    }
   ],
   "source": [
    "PG_CoreNodes_All_DF = PG_Nodes_KmerComp_DF.query(\"IsSVNode == False\")\n",
    "PG_CoreNodes_All_DF.shape  "
   ]
  },
  {
   "cell_type": "code",
   "execution_count": 77,
   "id": "4caf84df-079b-4754-a5b6-1a0d3b524574",
   "metadata": {},
   "outputs": [
    {
     "data": {
      "text/plain": [
       "(458, 8)"
      ]
     },
     "execution_count": 77,
     "metadata": {},
     "output_type": "execute_result"
    }
   ],
   "source": [
    "PG_CoreNodes_PASS_DF = PG_Nodes_KmerComp_DF.query(\"IsSVNode == False\").query(\"SeqLength >= 31\")     \n",
    "PG_CoreNodes_PASS_DF.shape"
   ]
  },
  {
   "cell_type": "code",
   "execution_count": 78,
   "id": "6b6d6f28-9a82-431a-bb7e-63708c3a3b9c",
   "metadata": {},
   "outputs": [
    {
     "data": {
      "text/plain": [
       "(0, 8)"
      ]
     },
     "execution_count": 78,
     "metadata": {},
     "output_type": "execute_result"
    }
   ],
   "source": [
    "PG_CoreNodes_Sub31bp_DF = PG_Nodes_KmerComp_DF.query(\"IsSVNode == False\").query(\"SeqLength < 31\")     \n",
    "PG_CoreNodes_Sub31bp_DF.shape"
   ]
  },
  {
   "cell_type": "code",
   "execution_count": null,
   "id": "92f3f90b-92fa-4c5f-a796-667023f49ffb",
   "metadata": {},
   "outputs": [],
   "source": []
  },
  {
   "cell_type": "code",
   "execution_count": 79,
   "id": "4a1cb605-9d7f-4f7e-9eb2-3b20c4d0fd85",
   "metadata": {},
   "outputs": [
    {
     "data": {
      "text/plain": [
       "3921235"
      ]
     },
     "execution_count": 79,
     "metadata": {},
     "output_type": "execute_result"
    }
   ],
   "source": [
    "PG_CoreNodes_All_DF[\"SeqLength\"].sum()"
   ]
  },
  {
   "cell_type": "code",
   "execution_count": 80,
   "id": "366c6e0f-bd13-42a1-b9d8-d8b6a49a5f00",
   "metadata": {},
   "outputs": [
    {
     "data": {
      "text/plain": [
       "0"
      ]
     },
     "execution_count": 80,
     "metadata": {},
     "output_type": "execute_result"
    }
   ],
   "source": [
    "PG_CoreNodes_Sub31bp_DF[\"SeqLength\"].sum()"
   ]
  },
  {
   "cell_type": "code",
   "execution_count": null,
   "id": "9338ba54-c2c1-4831-b90f-465f93c12c64",
   "metadata": {},
   "outputs": [],
   "source": []
  },
  {
   "cell_type": "code",
   "execution_count": null,
   "id": "6f8ce10c-d0b2-4f8e-b4c4-b4ae1d741277",
   "metadata": {},
   "outputs": [],
   "source": []
  },
  {
   "cell_type": "markdown",
   "id": "95577644-56fe-4d5e-b385-2182574677cc",
   "metadata": {},
   "source": [
    "### SV Nodes basic breakdown\n",
    "\n",
    "| Category            | Total Length (bp) | Number of Nodes |\n",
    "|---------------------|-------------------|-----------------|\n",
    "| All SV Nodes        | 1,283,223         | 2,602           |\n",
    "| \"PASS\" SV Nodes     | 1,276,550         | 2,025           |\n",
    "| Non-\"PASS\" SV Nodes (Len < 31 bp) | 6,673             | 577             |\n"
   ]
  },
  {
   "cell_type": "code",
   "execution_count": 146,
   "id": "93d1a831-a696-4d4d-9383-2e095d8e1ad7",
   "metadata": {},
   "outputs": [
    {
     "data": {
      "text/plain": [
       "(1023, 8)"
      ]
     },
     "execution_count": 146,
     "metadata": {},
     "output_type": "execute_result"
    }
   ],
   "source": [
    "PG_SVNodes_All_DF = PG_Nodes_KmerComp_DF.query(\"IsSVNode == True\")\n",
    "PG_SVNodes_All_DF.shape"
   ]
  },
  {
   "cell_type": "code",
   "execution_count": 147,
   "id": "4b991762-c956-428d-ba11-071c04255da3",
   "metadata": {},
   "outputs": [
    {
     "data": {
      "text/plain": [
       "(1022, 8)"
      ]
     },
     "execution_count": 147,
     "metadata": {},
     "output_type": "execute_result"
    }
   ],
   "source": [
    "PG_SVNodes_PASS_DF = PG_Nodes_KmerComp_DF.query(\"IsSVNode == True\").query(\"SeqLength >= 31\")     \n",
    "PG_SVNodes_PASS_DF.shape"
   ]
  },
  {
   "cell_type": "code",
   "execution_count": 148,
   "id": "7d84c819-c8c2-4d07-908f-5225a38d3c30",
   "metadata": {},
   "outputs": [
    {
     "data": {
      "text/plain": [
       "(1, 8)"
      ]
     },
     "execution_count": 148,
     "metadata": {},
     "output_type": "execute_result"
    }
   ],
   "source": [
    "PG_SVNodes_Sub31bp_DF = PG_Nodes_KmerComp_DF.query(\"IsSVNode == True\").query(\"SeqLength < 31\")     \n",
    "PG_SVNodes_Sub31bp_DF.shape"
   ]
  },
  {
   "cell_type": "code",
   "execution_count": null,
   "id": "957bd2e9-4d66-45fd-9102-7519130f83bb",
   "metadata": {},
   "outputs": [],
   "source": []
  },
  {
   "cell_type": "code",
   "execution_count": null,
   "id": "e98cc1dc-6a0a-4a70-ba77-86248d4e95fe",
   "metadata": {},
   "outputs": [],
   "source": []
  },
  {
   "cell_type": "code",
   "execution_count": 149,
   "id": "1db0475c-acb8-470a-a547-1e5c98b9684c",
   "metadata": {},
   "outputs": [
    {
     "data": {
      "text/plain": [
       "3921235"
      ]
     },
     "execution_count": 149,
     "metadata": {},
     "output_type": "execute_result"
    }
   ],
   "source": [
    "PG_CoreNodes_All_DF[\"SeqLength\"].sum()"
   ]
  },
  {
   "cell_type": "code",
   "execution_count": 150,
   "id": "2ac064ab-2ade-43e7-a322-eb8e511eb482",
   "metadata": {},
   "outputs": [
    {
     "data": {
      "text/plain": [
       "512395"
      ]
     },
     "execution_count": 150,
     "metadata": {},
     "output_type": "execute_result"
    }
   ],
   "source": [
    "PG_SVNodes_All_DF[\"SeqLength\"].sum()"
   ]
  },
  {
   "cell_type": "code",
   "execution_count": 151,
   "id": "156711b5-cc04-44b4-a5d0-e174454d2118",
   "metadata": {},
   "outputs": [
    {
     "data": {
      "text/plain": [
       "4433533"
      ]
     },
     "execution_count": 151,
     "metadata": {},
     "output_type": "execute_result"
    }
   ],
   "source": [
    "3930176 + 503357"
   ]
  },
  {
   "cell_type": "code",
   "execution_count": 152,
   "id": "9d21a9e6-aa0e-441e-9dc5-859a29ee56a2",
   "metadata": {},
   "outputs": [
    {
     "data": {
      "text/plain": [
       "3921235"
      ]
     },
     "execution_count": 152,
     "metadata": {},
     "output_type": "execute_result"
    }
   ],
   "source": [
    "PG_CoreNodes_PASS_DF[\"SeqLength\"].sum()"
   ]
  },
  {
   "cell_type": "code",
   "execution_count": 153,
   "id": "8d4580a6-eb53-43bb-969f-bb78dced3452",
   "metadata": {},
   "outputs": [
    {
     "data": {
      "text/plain": [
       "512376"
      ]
     },
     "execution_count": 153,
     "metadata": {},
     "output_type": "execute_result"
    }
   ],
   "source": [
    "PG_SVNodes_PASS_DF[\"SeqLength\"].sum()"
   ]
  },
  {
   "cell_type": "code",
   "execution_count": null,
   "id": "0572a2aa-4cab-4612-ba43-718c27ffcab9",
   "metadata": {},
   "outputs": [],
   "source": []
  },
  {
   "cell_type": "code",
   "execution_count": 154,
   "id": "34355528-fc1a-499e-af58-0197abadea06",
   "metadata": {},
   "outputs": [
    {
     "data": {
      "text/html": [
       "<div>\n",
       "<style scoped>\n",
       "    .dataframe tbody tr th:only-of-type {\n",
       "        vertical-align: middle;\n",
       "    }\n",
       "\n",
       "    .dataframe tbody tr th {\n",
       "        vertical-align: top;\n",
       "    }\n",
       "\n",
       "    .dataframe thead th {\n",
       "        text-align: right;\n",
       "    }\n",
       "</style>\n",
       "<table border=\"1\" class=\"dataframe\">\n",
       "  <thead>\n",
       "    <tr style=\"text-align: right;\">\n",
       "      <th></th>\n",
       "      <th>NodeID</th>\n",
       "      <th>SeqLength</th>\n",
       "      <th>N_Asms</th>\n",
       "      <th>Jaccard_Cont_WiRv</th>\n",
       "      <th>Jaccard_Cont_WiIS6110</th>\n",
       "      <th>Jaccard_Cont_WiRv_InsSeqAndPhages</th>\n",
       "      <th>IsSVNode</th>\n",
       "      <th>MaxJC_ToOtherNode</th>\n",
       "    </tr>\n",
       "  </thead>\n",
       "  <tbody>\n",
       "    <tr>\n",
       "      <th>0</th>\n",
       "      <td>FJTMAZPRVD</td>\n",
       "      <td>129</td>\n",
       "      <td>0</td>\n",
       "      <td>1.0000</td>\n",
       "      <td>0.0</td>\n",
       "      <td>0.0</td>\n",
       "      <td>True</td>\n",
       "      <td>0.000000</td>\n",
       "    </tr>\n",
       "    <tr>\n",
       "      <th>3</th>\n",
       "      <td>OSJIRAGCXW</td>\n",
       "      <td>574</td>\n",
       "      <td>151</td>\n",
       "      <td>1.0000</td>\n",
       "      <td>0.0</td>\n",
       "      <td>0.0</td>\n",
       "      <td>True</td>\n",
       "      <td>0.000000</td>\n",
       "    </tr>\n",
       "    <tr>\n",
       "      <th>4</th>\n",
       "      <td>ELULSJQAGV</td>\n",
       "      <td>110</td>\n",
       "      <td>0</td>\n",
       "      <td>0.6375</td>\n",
       "      <td>0.0</td>\n",
       "      <td>0.0</td>\n",
       "      <td>True</td>\n",
       "      <td>0.025000</td>\n",
       "    </tr>\n",
       "    <tr>\n",
       "      <th>7</th>\n",
       "      <td>RVLKLWMJHG</td>\n",
       "      <td>136</td>\n",
       "      <td>0</td>\n",
       "      <td>1.0000</td>\n",
       "      <td>0.0</td>\n",
       "      <td>0.0</td>\n",
       "      <td>True</td>\n",
       "      <td>0.132075</td>\n",
       "    </tr>\n",
       "    <tr>\n",
       "      <th>9</th>\n",
       "      <td>GAFJQYTNYN</td>\n",
       "      <td>285</td>\n",
       "      <td>83</td>\n",
       "      <td>1.0000</td>\n",
       "      <td>0.0</td>\n",
       "      <td>0.0</td>\n",
       "      <td>True</td>\n",
       "      <td>0.015686</td>\n",
       "    </tr>\n",
       "    <tr>\n",
       "      <th>...</th>\n",
       "      <td>...</td>\n",
       "      <td>...</td>\n",
       "      <td>...</td>\n",
       "      <td>...</td>\n",
       "      <td>...</td>\n",
       "      <td>...</td>\n",
       "      <td>...</td>\n",
       "      <td>...</td>\n",
       "    </tr>\n",
       "    <tr>\n",
       "      <th>1472</th>\n",
       "      <td>ZADAWRRPVZ</td>\n",
       "      <td>102</td>\n",
       "      <td>0</td>\n",
       "      <td>1.0000</td>\n",
       "      <td>0.0</td>\n",
       "      <td>0.0</td>\n",
       "      <td>True</td>\n",
       "      <td>0.000000</td>\n",
       "    </tr>\n",
       "    <tr>\n",
       "      <th>1475</th>\n",
       "      <td>VGLSMFPJUX</td>\n",
       "      <td>169</td>\n",
       "      <td>0</td>\n",
       "      <td>1.0000</td>\n",
       "      <td>0.0</td>\n",
       "      <td>1.0</td>\n",
       "      <td>True</td>\n",
       "      <td>0.043165</td>\n",
       "    </tr>\n",
       "    <tr>\n",
       "      <th>1477</th>\n",
       "      <td>FSMERFSGTG</td>\n",
       "      <td>821</td>\n",
       "      <td>1</td>\n",
       "      <td>0.0000</td>\n",
       "      <td>0.0</td>\n",
       "      <td>0.0</td>\n",
       "      <td>True</td>\n",
       "      <td>0.000000</td>\n",
       "    </tr>\n",
       "    <tr>\n",
       "      <th>1479</th>\n",
       "      <td>AWSKMGTNYT</td>\n",
       "      <td>343</td>\n",
       "      <td>151</td>\n",
       "      <td>1.0000</td>\n",
       "      <td>0.0</td>\n",
       "      <td>0.0</td>\n",
       "      <td>True</td>\n",
       "      <td>0.000000</td>\n",
       "    </tr>\n",
       "    <tr>\n",
       "      <th>1480</th>\n",
       "      <td>FKZYOMGNBF</td>\n",
       "      <td>349</td>\n",
       "      <td>151</td>\n",
       "      <td>1.0000</td>\n",
       "      <td>0.0</td>\n",
       "      <td>0.0</td>\n",
       "      <td>True</td>\n",
       "      <td>0.000000</td>\n",
       "    </tr>\n",
       "  </tbody>\n",
       "</table>\n",
       "<p>1022 rows × 8 columns</p>\n",
       "</div>"
      ],
      "text/plain": [
       "          NodeID  SeqLength  N_Asms  Jaccard_Cont_WiRv  Jaccard_Cont_WiIS6110  Jaccard_Cont_WiRv_InsSeqAndPhages  IsSVNode  MaxJC_ToOtherNode\n",
       "0     FJTMAZPRVD        129       0             1.0000                    0.0                                0.0      True           0.000000\n",
       "3     OSJIRAGCXW        574     151             1.0000                    0.0                                0.0      True           0.000000\n",
       "4     ELULSJQAGV        110       0             0.6375                    0.0                                0.0      True           0.025000\n",
       "7     RVLKLWMJHG        136       0             1.0000                    0.0                                0.0      True           0.132075\n",
       "9     GAFJQYTNYN        285      83             1.0000                    0.0                                0.0      True           0.015686\n",
       "...          ...        ...     ...                ...                    ...                                ...       ...                ...\n",
       "1472  ZADAWRRPVZ        102       0             1.0000                    0.0                                0.0      True           0.000000\n",
       "1475  VGLSMFPJUX        169       0             1.0000                    0.0                                1.0      True           0.043165\n",
       "1477  FSMERFSGTG        821       1             0.0000                    0.0                                0.0      True           0.000000\n",
       "1479  AWSKMGTNYT        343     151             1.0000                    0.0                                0.0      True           0.000000\n",
       "1480  FKZYOMGNBF        349     151             1.0000                    0.0                                0.0      True           0.000000\n",
       "\n",
       "[1022 rows x 8 columns]"
      ]
     },
     "execution_count": 154,
     "metadata": {},
     "output_type": "execute_result"
    }
   ],
   "source": [
    "PG_SVNodes_PASS_DF"
   ]
  },
  {
   "cell_type": "code",
   "execution_count": null,
   "id": "a1df62e4-9c27-4dde-acd7-6ec714a8e998",
   "metadata": {},
   "outputs": [],
   "source": []
  },
  {
   "cell_type": "code",
   "execution_count": null,
   "id": "2cbe5b24-ed04-4b23-9c4f-63118dc0726c",
   "metadata": {},
   "outputs": [],
   "source": []
  },
  {
   "cell_type": "markdown",
   "id": "a69081e9-789c-4acb-a329-6086ca21ba3b",
   "metadata": {},
   "source": [
    "### What is the total length of ALL SV nodes?"
   ]
  },
  {
   "cell_type": "code",
   "execution_count": 155,
   "id": "144e7260-b688-4cba-ab20-6ee611d63564",
   "metadata": {},
   "outputs": [
    {
     "data": {
      "text/plain": [
       "512395"
      ]
     },
     "execution_count": 155,
     "metadata": {},
     "output_type": "execute_result"
    }
   ],
   "source": [
    "PG_SVNodes_All_DF.query(\"IsSVNode == True\")[\"SeqLength\"].sum()"
   ]
  },
  {
   "cell_type": "markdown",
   "id": "bf4536e5-428f-4cf4-aa56-6858da593561",
   "metadata": {},
   "source": [
    "### What is the total length of PASS SV nodes (Len >= 31 bp?)"
   ]
  },
  {
   "cell_type": "code",
   "execution_count": 156,
   "id": "a80ecf14-5c28-4984-b4f7-4081fbe1f41c",
   "metadata": {},
   "outputs": [
    {
     "data": {
      "text/plain": [
       "512376"
      ]
     },
     "execution_count": 156,
     "metadata": {},
     "output_type": "execute_result"
    }
   ],
   "source": [
    "PG_SVNodes_PASS_DF[\"SeqLength\"].sum()"
   ]
  },
  {
   "cell_type": "markdown",
   "id": "4f64e9dc-5e75-4ef0-8279-bc69d84fac41",
   "metadata": {},
   "source": [
    "### What is the total length of sub 31bp SV nodes? (filtered out for k-mer analysis)"
   ]
  },
  {
   "cell_type": "code",
   "execution_count": 157,
   "id": "f0c942ce-fdc1-4aa9-9d2e-f49d672975ba",
   "metadata": {},
   "outputs": [
    {
     "data": {
      "text/plain": [
       "19"
      ]
     },
     "execution_count": 157,
     "metadata": {},
     "output_type": "execute_result"
    }
   ],
   "source": [
    "PG_SVNodes_Sub31bp_DF[\"SeqLength\"].sum()"
   ]
  },
  {
   "cell_type": "code",
   "execution_count": 158,
   "id": "272b7b9d-083a-44b7-9b62-74b24ace410d",
   "metadata": {},
   "outputs": [
    {
     "data": {
      "text/plain": [
       "4433611"
      ]
     },
     "execution_count": 158,
     "metadata": {},
     "output_type": "execute_result"
    }
   ],
   "source": [
    "3921235 + 512376"
   ]
  },
  {
   "cell_type": "code",
   "execution_count": null,
   "id": "2b5745a7-9024-40c0-a422-7eb1bd706ba9",
   "metadata": {},
   "outputs": [],
   "source": []
  },
  {
   "cell_type": "markdown",
   "id": "5c723683-818a-4483-a308-5304509bfd8b",
   "metadata": {},
   "source": [
    "### Look at length distribution of of SV nodes"
   ]
  },
  {
   "cell_type": "code",
   "execution_count": 159,
   "id": "4de1cc01-476a-401e-87e9-3ee42e3cf38a",
   "metadata": {},
   "outputs": [
    {
     "data": {
      "text/plain": [
       "count    1022.000000\n",
       "mean      501.346380\n",
       "std       779.390189\n",
       "min        39.000000\n",
       "25%       124.000000\n",
       "50%       189.000000\n",
       "75%       532.500000\n",
       "max      7546.000000\n",
       "Name: SeqLength, dtype: float64"
      ]
     },
     "execution_count": 159,
     "metadata": {},
     "output_type": "execute_result"
    }
   ],
   "source": [
    "PG_SVNodes_PASS_DF[\"SeqLength\"].describe()"
   ]
  },
  {
   "cell_type": "code",
   "execution_count": 160,
   "id": "af5af958-8652-4cbf-92d1-18494fcca568",
   "metadata": {},
   "outputs": [
    {
     "data": {
      "image/png": "[encoded data removed]",
      "text/plain": [
       "<Figure size 600x400 with 1 Axes>"
      ]
     },
     "metadata": {},
     "output_type": "display_data"
    }
   ],
   "source": [
    "plt.figure(figsize =(6,4) ) \n",
    "sns.set_context(\"paper\", font_scale=2)\n",
    "\n",
    "sns.histplot(PG_SVNodes_PASS_DF[\"SeqLength\"].values, bins = np.arange(0, 40000, 250), color = '#4F4F4F' )  \n",
    "sns.despine()\n",
    "\n",
    "plt.xlim(0, 10000)\n",
    "plt.xlabel(\"SV-Node Length (kb)\")\n",
    "\n",
    "\n",
    "x_tick_loc = [2000, 4000, 6000, 8000, 10000]\n",
    "x_tick_label = [2, 4, 6, 8, 10]\n",
    "\n",
    "plt.xticks(x_tick_loc, x_tick_label )\n",
    "\n",
    "plt.show()"
   ]
  },
  {
   "cell_type": "code",
   "execution_count": null,
   "id": "6772df74-3353-477a-99d0-de7d8f53ba30",
   "metadata": {},
   "outputs": [],
   "source": []
  },
  {
   "cell_type": "code",
   "execution_count": 161,
   "id": "89b39dd7-e64f-4fa3-af9d-15e00a615696",
   "metadata": {},
   "outputs": [
    {
     "data": {
      "image/png": "[encoded data removed]",
      "text/plain": [
       "<Figure size 600x400 with 1 Axes>"
      ]
     },
     "metadata": {},
     "output_type": "display_data"
    }
   ],
   "source": [
    "plt.figure(figsize =(6,4) ) \n",
    "sns.set_context(\"paper\", font_scale=2)\n",
    "\n",
    "sns.histplot(PG_Nodes_KmerComp_DF[\"SeqLength\"].values, bins = np.arange(0, 40000, 250), color = '#4F4F4F' )  \n",
    "sns.despine()\n",
    "\n",
    "plt.xlim(0, 10000)\n",
    "plt.xlabel(\"Node Length (kb)\")\n",
    "\n",
    "\n",
    "x_tick_loc = [2000, 4000, 6000, 8000, 10000]\n",
    "x_tick_label = [2, 4, 6, 8, 10]\n",
    "\n",
    "plt.xticks(x_tick_loc, x_tick_label )\n",
    "\n",
    "plt.show()"
   ]
  },
  {
   "cell_type": "code",
   "execution_count": null,
   "id": "d9795e34-8d1b-4954-b063-51076a7048d0",
   "metadata": {},
   "outputs": [],
   "source": []
  },
  {
   "cell_type": "code",
   "execution_count": null,
   "id": "b8f8be19-4dc2-4551-9d29-6c6b064b9382",
   "metadata": {},
   "outputs": [],
   "source": []
  },
  {
   "cell_type": "code",
   "execution_count": null,
   "id": "630950ed-262c-4bdd-b2c0-b929c759570d",
   "metadata": {},
   "outputs": [],
   "source": []
  },
  {
   "cell_type": "code",
   "execution_count": null,
   "id": "a6102c2b-112f-4cf2-91b3-dc18f04491dc",
   "metadata": {},
   "outputs": [],
   "source": []
  },
  {
   "cell_type": "code",
   "execution_count": null,
   "id": "000d0cce-5840-4a3a-bb74-0bcc45cfa3af",
   "metadata": {},
   "outputs": [],
   "source": []
  },
  {
   "cell_type": "code",
   "execution_count": null,
   "id": "8788d6f5-9846-4457-b7ee-4b52c18dc155",
   "metadata": {},
   "outputs": [],
   "source": []
  },
  {
   "cell_type": "code",
   "execution_count": null,
   "id": "acc04ea8-3c27-434f-9378-457e3122711e",
   "metadata": {},
   "outputs": [],
   "source": []
  },
  {
   "cell_type": "code",
   "execution_count": null,
   "id": "5d5f85f9-1ff3-470c-8a08-e02b4711021f",
   "metadata": {},
   "outputs": [],
   "source": []
  },
  {
   "cell_type": "markdown",
   "id": "16fb0af5-5c7d-4364-88d4-24c1c98d3b46",
   "metadata": {},
   "source": [
    "#### Preparation - Breakdown core and SV nodes"
   ]
  },
  {
   "cell_type": "code",
   "execution_count": 162,
   "id": "bfbf8d6b-2219-44cb-89e3-71a833c6585a",
   "metadata": {},
   "outputs": [],
   "source": [
    "PG_CoreNodes_All_DF = PG_Nodes_KmerComp_DF.query(\"IsSVNode == False\")\n",
    "\n",
    "PG_SVNodes_All_DF = PG_Nodes_KmerComp_DF.query(\"IsSVNode == True\")\n",
    "PG_SVNodes_PASS_DF = PG_Nodes_KmerComp_DF.query(\"IsSVNode == True\").query(\"SeqLength >= 31\")     \n",
    "PG_SVNodes_Sub31bp_DF = PG_Nodes_KmerComp_DF.query(\"IsSVNode == True\").query(\"SeqLength < 31\")     \n"
   ]
  },
  {
   "cell_type": "code",
   "execution_count": 163,
   "id": "fcb00f3e-c498-4e41-9c31-5d9e5d406505",
   "metadata": {},
   "outputs": [
    {
     "data": {
      "text/plain": [
       "(458, 8)"
      ]
     },
     "execution_count": 163,
     "metadata": {},
     "output_type": "execute_result"
    }
   ],
   "source": [
    "PG_CoreNodes_All_DF.shape"
   ]
  },
  {
   "cell_type": "code",
   "execution_count": 164,
   "id": "c723e925-1859-4a91-8d2f-77e241a5846c",
   "metadata": {},
   "outputs": [
    {
     "data": {
      "text/plain": [
       "(1023, 8)"
      ]
     },
     "execution_count": 164,
     "metadata": {},
     "output_type": "execute_result"
    }
   ],
   "source": [
    "PG_SVNodes_All_DF.shape"
   ]
  },
  {
   "cell_type": "code",
   "execution_count": 165,
   "id": "916dae3d-6ee3-4470-9280-cf484a292e34",
   "metadata": {},
   "outputs": [
    {
     "data": {
      "text/plain": [
       "(1022, 8)"
      ]
     },
     "execution_count": 165,
     "metadata": {},
     "output_type": "execute_result"
    }
   ],
   "source": [
    "PG_SVNodes_PASS_DF.shape"
   ]
  },
  {
   "cell_type": "code",
   "execution_count": null,
   "id": "a48d250b-8323-44d6-8ce5-21927e4e7a2f",
   "metadata": {},
   "outputs": [],
   "source": []
  },
  {
   "cell_type": "code",
   "execution_count": 166,
   "id": "7f9328a9-d3dc-4f16-825c-e3c00c67f924",
   "metadata": {},
   "outputs": [
    {
     "data": {
      "text/plain": [
       "3921235"
      ]
     },
     "execution_count": 166,
     "metadata": {},
     "output_type": "execute_result"
    }
   ],
   "source": [
    "PG_CoreNodes_All_DF[\"SeqLength\"].sum()"
   ]
  },
  {
   "cell_type": "code",
   "execution_count": 167,
   "id": "db70cf1c-2d84-46a0-8531-0e65a327b002",
   "metadata": {},
   "outputs": [
    {
     "data": {
      "text/plain": [
       "3917648"
      ]
     },
     "execution_count": 167,
     "metadata": {},
     "output_type": "execute_result"
    }
   ],
   "source": [
    "PG_CoreNodes_All_DF.query(\"MaxJC_ToOtherNode < 0.05\")[\"SeqLength\"].sum()"
   ]
  },
  {
   "cell_type": "code",
   "execution_count": 168,
   "id": "bf897a6e-98f9-4230-9285-4a5cf8bd6033",
   "metadata": {},
   "outputs": [
    {
     "data": {
      "text/plain": [
       "512376"
      ]
     },
     "execution_count": 168,
     "metadata": {},
     "output_type": "execute_result"
    }
   ],
   "source": [
    "PG_SVNodes_PASS_DF[\"SeqLength\"].sum()"
   ]
  },
  {
   "cell_type": "code",
   "execution_count": 169,
   "id": "3a9d1957-9bb0-4626-87a0-dce394c8d95e",
   "metadata": {},
   "outputs": [
    {
     "data": {
      "text/plain": [
       "69058"
      ]
     },
     "execution_count": 169,
     "metadata": {},
     "output_type": "execute_result"
    }
   ],
   "source": [
    "PG_SVNodes_PASS_DF.query(\"Jaccard_Cont_WiRv < 0.05\")[\"SeqLength\"].sum()"
   ]
  },
  {
   "cell_type": "code",
   "execution_count": 170,
   "id": "bad84636-5a3a-459f-8180-142ec5bdc090",
   "metadata": {},
   "outputs": [
    {
     "data": {
      "text/plain": [
       "443318"
      ]
     },
     "execution_count": 170,
     "metadata": {},
     "output_type": "execute_result"
    }
   ],
   "source": [
    "PG_SVNodes_PASS_DF.query(\"Jaccard_Cont_WiRv >= 0.05\")[\"SeqLength\"].sum()"
   ]
  },
  {
   "cell_type": "code",
   "execution_count": 171,
   "id": "e8ae2af2-5b1c-49a5-8f22-351d1e821ef8",
   "metadata": {},
   "outputs": [
    {
     "data": {
      "text/plain": [
       "512376"
      ]
     },
     "execution_count": 171,
     "metadata": {},
     "output_type": "execute_result"
    }
   ],
   "source": [
    "PG_SVNodes_PASS_DF[\"SeqLength\"].sum()"
   ]
  },
  {
   "cell_type": "code",
   "execution_count": 172,
   "id": "867cf766-bdaf-4181-989a-8c4fe6ac7eab",
   "metadata": {},
   "outputs": [
    {
     "data": {
      "text/plain": [
       "460232"
      ]
     },
     "execution_count": 172,
     "metadata": {},
     "output_type": "execute_result"
    }
   ],
   "source": [
    "PG_SVNodes_PASS_DF.query(\"MaxJC_ToOtherNode < 0.05\")[\"SeqLength\"].sum()"
   ]
  },
  {
   "cell_type": "code",
   "execution_count": null,
   "id": "c18b47e8-61c0-4696-b0ad-ac2c8490c420",
   "metadata": {},
   "outputs": [],
   "source": []
  },
  {
   "cell_type": "code",
   "execution_count": 173,
   "id": "7c49f59c-0ed7-4ade-b72d-af2e7987f0fb",
   "metadata": {},
   "outputs": [
    {
     "data": {
      "text/html": [
       "<div>\n",
       "<style scoped>\n",
       "    .dataframe tbody tr th:only-of-type {\n",
       "        vertical-align: middle;\n",
       "    }\n",
       "\n",
       "    .dataframe tbody tr th {\n",
       "        vertical-align: top;\n",
       "    }\n",
       "\n",
       "    .dataframe thead th {\n",
       "        text-align: right;\n",
       "    }\n",
       "</style>\n",
       "<table border=\"1\" class=\"dataframe\">\n",
       "  <thead>\n",
       "    <tr style=\"text-align: right;\">\n",
       "      <th></th>\n",
       "      <th>NodeID</th>\n",
       "      <th>SeqLength</th>\n",
       "      <th>N_Asms</th>\n",
       "      <th>Jaccard_Cont_WiRv</th>\n",
       "      <th>Jaccard_Cont_WiIS6110</th>\n",
       "      <th>Jaccard_Cont_WiRv_InsSeqAndPhages</th>\n",
       "      <th>IsSVNode</th>\n",
       "      <th>MaxJC_ToOtherNode</th>\n",
       "    </tr>\n",
       "  </thead>\n",
       "  <tbody>\n",
       "    <tr>\n",
       "      <th>0</th>\n",
       "      <td>FJTMAZPRVD</td>\n",
       "      <td>129</td>\n",
       "      <td>0</td>\n",
       "      <td>1.000000</td>\n",
       "      <td>0.0</td>\n",
       "      <td>0.0</td>\n",
       "      <td>True</td>\n",
       "      <td>0.000000</td>\n",
       "    </tr>\n",
       "    <tr>\n",
       "      <th>3</th>\n",
       "      <td>OSJIRAGCXW</td>\n",
       "      <td>574</td>\n",
       "      <td>151</td>\n",
       "      <td>1.000000</td>\n",
       "      <td>0.0</td>\n",
       "      <td>0.0</td>\n",
       "      <td>True</td>\n",
       "      <td>0.000000</td>\n",
       "    </tr>\n",
       "    <tr>\n",
       "      <th>4</th>\n",
       "      <td>ELULSJQAGV</td>\n",
       "      <td>110</td>\n",
       "      <td>0</td>\n",
       "      <td>0.637500</td>\n",
       "      <td>0.0</td>\n",
       "      <td>0.0</td>\n",
       "      <td>True</td>\n",
       "      <td>0.025000</td>\n",
       "    </tr>\n",
       "    <tr>\n",
       "      <th>7</th>\n",
       "      <td>RVLKLWMJHG</td>\n",
       "      <td>136</td>\n",
       "      <td>0</td>\n",
       "      <td>1.000000</td>\n",
       "      <td>0.0</td>\n",
       "      <td>0.0</td>\n",
       "      <td>True</td>\n",
       "      <td>0.132075</td>\n",
       "    </tr>\n",
       "    <tr>\n",
       "      <th>9</th>\n",
       "      <td>GAFJQYTNYN</td>\n",
       "      <td>285</td>\n",
       "      <td>83</td>\n",
       "      <td>1.000000</td>\n",
       "      <td>0.0</td>\n",
       "      <td>0.0</td>\n",
       "      <td>True</td>\n",
       "      <td>0.015686</td>\n",
       "    </tr>\n",
       "    <tr>\n",
       "      <th>10</th>\n",
       "      <td>PBCOBFZSJC</td>\n",
       "      <td>499</td>\n",
       "      <td>150</td>\n",
       "      <td>1.000000</td>\n",
       "      <td>0.0</td>\n",
       "      <td>0.0</td>\n",
       "      <td>True</td>\n",
       "      <td>0.000000</td>\n",
       "    </tr>\n",
       "    <tr>\n",
       "      <th>11</th>\n",
       "      <td>LHGNEQTWJP</td>\n",
       "      <td>119</td>\n",
       "      <td>0</td>\n",
       "      <td>0.910112</td>\n",
       "      <td>0.0</td>\n",
       "      <td>0.0</td>\n",
       "      <td>True</td>\n",
       "      <td>0.112360</td>\n",
       "    </tr>\n",
       "    <tr>\n",
       "      <th>13</th>\n",
       "      <td>JHACCKWCAM</td>\n",
       "      <td>138</td>\n",
       "      <td>0</td>\n",
       "      <td>0.000000</td>\n",
       "      <td>0.0</td>\n",
       "      <td>0.0</td>\n",
       "      <td>True</td>\n",
       "      <td>0.000000</td>\n",
       "    </tr>\n",
       "    <tr>\n",
       "      <th>14</th>\n",
       "      <td>UGHNXKUHCM</td>\n",
       "      <td>551</td>\n",
       "      <td>82</td>\n",
       "      <td>1.000000</td>\n",
       "      <td>0.0</td>\n",
       "      <td>0.0</td>\n",
       "      <td>True</td>\n",
       "      <td>0.026871</td>\n",
       "    </tr>\n",
       "    <tr>\n",
       "      <th>15</th>\n",
       "      <td>KJQKUETHZU</td>\n",
       "      <td>108</td>\n",
       "      <td>0</td>\n",
       "      <td>1.000000</td>\n",
       "      <td>0.0</td>\n",
       "      <td>0.0</td>\n",
       "      <td>True</td>\n",
       "      <td>1.000000</td>\n",
       "    </tr>\n",
       "    <tr>\n",
       "      <th>16</th>\n",
       "      <td>AWFTKSIVJF</td>\n",
       "      <td>252</td>\n",
       "      <td>137</td>\n",
       "      <td>1.000000</td>\n",
       "      <td>0.0</td>\n",
       "      <td>0.0</td>\n",
       "      <td>True</td>\n",
       "      <td>0.081081</td>\n",
       "    </tr>\n",
       "    <tr>\n",
       "      <th>17</th>\n",
       "      <td>HOTRKEQZTT</td>\n",
       "      <td>109</td>\n",
       "      <td>0</td>\n",
       "      <td>0.025316</td>\n",
       "      <td>0.0</td>\n",
       "      <td>0.0</td>\n",
       "      <td>True</td>\n",
       "      <td>0.797468</td>\n",
       "    </tr>\n",
       "    <tr>\n",
       "      <th>18</th>\n",
       "      <td>CFFAKFFBKQ</td>\n",
       "      <td>136</td>\n",
       "      <td>0</td>\n",
       "      <td>1.000000</td>\n",
       "      <td>0.0</td>\n",
       "      <td>0.0</td>\n",
       "      <td>True</td>\n",
       "      <td>0.000000</td>\n",
       "    </tr>\n",
       "    <tr>\n",
       "      <th>19</th>\n",
       "      <td>DLZZQXDVFP</td>\n",
       "      <td>109</td>\n",
       "      <td>0</td>\n",
       "      <td>0.784810</td>\n",
       "      <td>0.0</td>\n",
       "      <td>0.0</td>\n",
       "      <td>True</td>\n",
       "      <td>0.784810</td>\n",
       "    </tr>\n",
       "    <tr>\n",
       "      <th>21</th>\n",
       "      <td>XVFXUWTKNJ</td>\n",
       "      <td>115</td>\n",
       "      <td>0</td>\n",
       "      <td>0.941176</td>\n",
       "      <td>0.0</td>\n",
       "      <td>0.0</td>\n",
       "      <td>True</td>\n",
       "      <td>0.400000</td>\n",
       "    </tr>\n",
       "    <tr>\n",
       "      <th>22</th>\n",
       "      <td>SWAXPBZWPX</td>\n",
       "      <td>177</td>\n",
       "      <td>0</td>\n",
       "      <td>0.006803</td>\n",
       "      <td>0.0</td>\n",
       "      <td>0.0</td>\n",
       "      <td>True</td>\n",
       "      <td>0.455782</td>\n",
       "    </tr>\n",
       "    <tr>\n",
       "      <th>24</th>\n",
       "      <td>XSHTQRRQSG</td>\n",
       "      <td>1175</td>\n",
       "      <td>151</td>\n",
       "      <td>1.000000</td>\n",
       "      <td>0.0</td>\n",
       "      <td>0.0</td>\n",
       "      <td>True</td>\n",
       "      <td>0.013100</td>\n",
       "    </tr>\n",
       "    <tr>\n",
       "      <th>26</th>\n",
       "      <td>GAZQSUEUFS</td>\n",
       "      <td>78</td>\n",
       "      <td>0</td>\n",
       "      <td>1.000000</td>\n",
       "      <td>0.0</td>\n",
       "      <td>0.0</td>\n",
       "      <td>True</td>\n",
       "      <td>1.000000</td>\n",
       "    </tr>\n",
       "    <tr>\n",
       "      <th>27</th>\n",
       "      <td>HAFWBMXWTA</td>\n",
       "      <td>152</td>\n",
       "      <td>0</td>\n",
       "      <td>1.000000</td>\n",
       "      <td>0.0</td>\n",
       "      <td>0.0</td>\n",
       "      <td>True</td>\n",
       "      <td>0.000000</td>\n",
       "    </tr>\n",
       "    <tr>\n",
       "      <th>28</th>\n",
       "      <td>JAICNOQMSG</td>\n",
       "      <td>1060</td>\n",
       "      <td>137</td>\n",
       "      <td>1.000000</td>\n",
       "      <td>0.0</td>\n",
       "      <td>0.0</td>\n",
       "      <td>True</td>\n",
       "      <td>0.000000</td>\n",
       "    </tr>\n",
       "  </tbody>\n",
       "</table>\n",
       "</div>"
      ],
      "text/plain": [
       "        NodeID  SeqLength  N_Asms  Jaccard_Cont_WiRv  Jaccard_Cont_WiIS6110  Jaccard_Cont_WiRv_InsSeqAndPhages  IsSVNode  MaxJC_ToOtherNode\n",
       "0   FJTMAZPRVD        129       0           1.000000                    0.0                                0.0      True           0.000000\n",
       "3   OSJIRAGCXW        574     151           1.000000                    0.0                                0.0      True           0.000000\n",
       "4   ELULSJQAGV        110       0           0.637500                    0.0                                0.0      True           0.025000\n",
       "7   RVLKLWMJHG        136       0           1.000000                    0.0                                0.0      True           0.132075\n",
       "9   GAFJQYTNYN        285      83           1.000000                    0.0                                0.0      True           0.015686\n",
       "10  PBCOBFZSJC        499     150           1.000000                    0.0                                0.0      True           0.000000\n",
       "11  LHGNEQTWJP        119       0           0.910112                    0.0                                0.0      True           0.112360\n",
       "13  JHACCKWCAM        138       0           0.000000                    0.0                                0.0      True           0.000000\n",
       "14  UGHNXKUHCM        551      82           1.000000                    0.0                                0.0      True           0.026871\n",
       "15  KJQKUETHZU        108       0           1.000000                    0.0                                0.0      True           1.000000\n",
       "16  AWFTKSIVJF        252     137           1.000000                    0.0                                0.0      True           0.081081\n",
       "17  HOTRKEQZTT        109       0           0.025316                    0.0                                0.0      True           0.797468\n",
       "18  CFFAKFFBKQ        136       0           1.000000                    0.0                                0.0      True           0.000000\n",
       "19  DLZZQXDVFP        109       0           0.784810                    0.0                                0.0      True           0.784810\n",
       "21  XVFXUWTKNJ        115       0           0.941176                    0.0                                0.0      True           0.400000\n",
       "22  SWAXPBZWPX        177       0           0.006803                    0.0                                0.0      True           0.455782\n",
       "24  XSHTQRRQSG       1175     151           1.000000                    0.0                                0.0      True           0.013100\n",
       "26  GAZQSUEUFS         78       0           1.000000                    0.0                                0.0      True           1.000000\n",
       "27  HAFWBMXWTA        152       0           1.000000                    0.0                                0.0      True           0.000000\n",
       "28  JAICNOQMSG       1060     137           1.000000                    0.0                                0.0      True           0.000000"
      ]
     },
     "execution_count": 173,
     "metadata": {},
     "output_type": "execute_result"
    }
   ],
   "source": [
    "PG_SVNodes_PASS_DF.head(20)"
   ]
  },
  {
   "cell_type": "code",
   "execution_count": 174,
   "id": "cf1192b8-e590-454d-b99f-2bdffdc242f0",
   "metadata": {},
   "outputs": [
    {
     "data": {
      "text/plain": [
       "69058"
      ]
     },
     "execution_count": 174,
     "metadata": {},
     "output_type": "execute_result"
    }
   ],
   "source": [
    "PG_SVNodes_PASS_DF.query(\"Jaccard_Cont_WiRv < 0.05\")[\"SeqLength\"].sum() "
   ]
  },
  {
   "cell_type": "code",
   "execution_count": 175,
   "id": "2da1b03c-5c97-4802-bb18-2a412991868a",
   "metadata": {},
   "outputs": [
    {
     "data": {
      "text/plain": [
       "1355"
      ]
     },
     "execution_count": 175,
     "metadata": {},
     "output_type": "execute_result"
    }
   ],
   "source": [
    "PG_SVNodes_PASS_DF.query(\"Jaccard_Cont_WiIS6110 >= 0.05\")[\"SeqLength\"].sum() "
   ]
  },
  {
   "cell_type": "code",
   "execution_count": 176,
   "id": "dbe9d7b8-7bcf-4c0a-8bb4-abebe5e60730",
   "metadata": {},
   "outputs": [
    {
     "data": {
      "text/plain": [
       "443318"
      ]
     },
     "execution_count": 176,
     "metadata": {},
     "output_type": "execute_result"
    }
   ],
   "source": [
    "PG_SVNodes_PASS_DF.query(\"Jaccard_Cont_WiRv >= 0.05\")[\"SeqLength\"].sum()"
   ]
  },
  {
   "cell_type": "code",
   "execution_count": 177,
   "id": "835bd7ff-c436-40d1-87b1-462708e5b169",
   "metadata": {},
   "outputs": [
    {
     "data": {
      "text/plain": [
       "52144"
      ]
     },
     "execution_count": 177,
     "metadata": {},
     "output_type": "execute_result"
    }
   ],
   "source": [
    "PG_SVNodes_PASS_DF.query(\"MaxJC_ToOtherNode >= 0.05\")[\"SeqLength\"].sum()"
   ]
  },
  {
   "cell_type": "code",
   "execution_count": 178,
   "id": "c1a21700-a60a-46da-8f4e-04b5dbacab94",
   "metadata": {},
   "outputs": [
    {
     "data": {
      "text/plain": [
       "512376"
      ]
     },
     "execution_count": 178,
     "metadata": {},
     "output_type": "execute_result"
    }
   ],
   "source": [
    "PG_SVNodes_PASS_DF[\"SeqLength\"].sum()"
   ]
  },
  {
   "cell_type": "code",
   "execution_count": null,
   "id": "f9ad4903-e9dc-484e-8f00-306ee8d62ab1",
   "metadata": {},
   "outputs": [],
   "source": []
  },
  {
   "cell_type": "markdown",
   "id": "6d7780aa-48c8-42f6-b9ac-aa4d51c08f3b",
   "metadata": {},
   "source": [
    "#### Look at IS6110 sequences in SV nodes"
   ]
  },
  {
   "cell_type": "code",
   "execution_count": 179,
   "id": "a18b1c0f-54c4-4fe8-bd10-222ccf90eb7b",
   "metadata": {},
   "outputs": [
    {
     "data": {
      "text/plain": [
       "(5, 8)"
      ]
     },
     "execution_count": 179,
     "metadata": {},
     "output_type": "execute_result"
    }
   ],
   "source": [
    "PG_SVNodes_PASS_DF.query(\"Jaccard_Cont_WiIS6110 > 0.5\").shape"
   ]
  },
  {
   "cell_type": "code",
   "execution_count": 180,
   "id": "65256b9d-cff2-4960-affe-000fe9bb2d5e",
   "metadata": {},
   "outputs": [
    {
     "data": {
      "text/html": [
       "<div>\n",
       "<style scoped>\n",
       "    .dataframe tbody tr th:only-of-type {\n",
       "        vertical-align: middle;\n",
       "    }\n",
       "\n",
       "    .dataframe tbody tr th {\n",
       "        vertical-align: top;\n",
       "    }\n",
       "\n",
       "    .dataframe thead th {\n",
       "        text-align: right;\n",
       "    }\n",
       "</style>\n",
       "<table border=\"1\" class=\"dataframe\">\n",
       "  <thead>\n",
       "    <tr style=\"text-align: right;\">\n",
       "      <th></th>\n",
       "      <th>NodeID</th>\n",
       "      <th>SeqLength</th>\n",
       "      <th>N_Asms</th>\n",
       "      <th>Jaccard_Cont_WiRv</th>\n",
       "      <th>Jaccard_Cont_WiIS6110</th>\n",
       "      <th>Jaccard_Cont_WiRv_InsSeqAndPhages</th>\n",
       "      <th>IsSVNode</th>\n",
       "      <th>MaxJC_ToOtherNode</th>\n",
       "    </tr>\n",
       "  </thead>\n",
       "  <tbody>\n",
       "    <tr>\n",
       "      <th>137</th>\n",
       "      <td>TGVEUNTRMZ</td>\n",
       "      <td>107</td>\n",
       "      <td>0</td>\n",
       "      <td>1.0</td>\n",
       "      <td>1.000000</td>\n",
       "      <td>1.000000</td>\n",
       "      <td>True</td>\n",
       "      <td>0.0</td>\n",
       "    </tr>\n",
       "    <tr>\n",
       "      <th>708</th>\n",
       "      <td>NFYLBYTRHB</td>\n",
       "      <td>618</td>\n",
       "      <td>2076</td>\n",
       "      <td>1.0</td>\n",
       "      <td>1.000000</td>\n",
       "      <td>1.000000</td>\n",
       "      <td>True</td>\n",
       "      <td>0.0</td>\n",
       "    </tr>\n",
       "    <tr>\n",
       "      <th>869</th>\n",
       "      <td>TEGNGWGODO</td>\n",
       "      <td>194</td>\n",
       "      <td>0</td>\n",
       "      <td>1.0</td>\n",
       "      <td>0.743902</td>\n",
       "      <td>0.743902</td>\n",
       "      <td>True</td>\n",
       "      <td>0.0</td>\n",
       "    </tr>\n",
       "    <tr>\n",
       "      <th>1129</th>\n",
       "      <td>EYWNVIFVOM</td>\n",
       "      <td>136</td>\n",
       "      <td>0</td>\n",
       "      <td>1.0</td>\n",
       "      <td>0.518868</td>\n",
       "      <td>0.518868</td>\n",
       "      <td>True</td>\n",
       "      <td>0.0</td>\n",
       "    </tr>\n",
       "    <tr>\n",
       "      <th>1372</th>\n",
       "      <td>CRDCTAWXQU</td>\n",
       "      <td>300</td>\n",
       "      <td>2090</td>\n",
       "      <td>1.0</td>\n",
       "      <td>1.000000</td>\n",
       "      <td>1.000000</td>\n",
       "      <td>True</td>\n",
       "      <td>0.0</td>\n",
       "    </tr>\n",
       "  </tbody>\n",
       "</table>\n",
       "</div>"
      ],
      "text/plain": [
       "          NodeID  SeqLength  N_Asms  Jaccard_Cont_WiRv  Jaccard_Cont_WiIS6110  Jaccard_Cont_WiRv_InsSeqAndPhages  IsSVNode  MaxJC_ToOtherNode\n",
       "137   TGVEUNTRMZ        107       0                1.0               1.000000                           1.000000      True                0.0\n",
       "708   NFYLBYTRHB        618    2076                1.0               1.000000                           1.000000      True                0.0\n",
       "869   TEGNGWGODO        194       0                1.0               0.743902                           0.743902      True                0.0\n",
       "1129  EYWNVIFVOM        136       0                1.0               0.518868                           0.518868      True                0.0\n",
       "1372  CRDCTAWXQU        300    2090                1.0               1.000000                           1.000000      True                0.0"
      ]
     },
     "execution_count": 180,
     "metadata": {},
     "output_type": "execute_result"
    }
   ],
   "source": [
    "PG_SVNodes_PASS_DF.query(\"Jaccard_Cont_WiIS6110 > 0.5\")"
   ]
  },
  {
   "cell_type": "code",
   "execution_count": 181,
   "id": "43f86f29-e1a7-4b99-bc08-c67f8525ecda",
   "metadata": {},
   "outputs": [
    {
     "data": {
      "text/html": [
       "<div>\n",
       "<style scoped>\n",
       "    .dataframe tbody tr th:only-of-type {\n",
       "        vertical-align: middle;\n",
       "    }\n",
       "\n",
       "    .dataframe tbody tr th {\n",
       "        vertical-align: top;\n",
       "    }\n",
       "\n",
       "    .dataframe thead th {\n",
       "        text-align: right;\n",
       "    }\n",
       "</style>\n",
       "<table border=\"1\" class=\"dataframe\">\n",
       "  <thead>\n",
       "    <tr style=\"text-align: right;\">\n",
       "      <th></th>\n",
       "      <th>NodeID</th>\n",
       "      <th>SeqLength</th>\n",
       "      <th>N_Asms</th>\n",
       "      <th>Jaccard_Cont_WiRv</th>\n",
       "      <th>Jaccard_Cont_WiIS6110</th>\n",
       "      <th>Jaccard_Cont_WiRv_InsSeqAndPhages</th>\n",
       "      <th>IsSVNode</th>\n",
       "      <th>MaxJC_ToOtherNode</th>\n",
       "    </tr>\n",
       "  </thead>\n",
       "  <tbody>\n",
       "    <tr>\n",
       "      <th>137</th>\n",
       "      <td>TGVEUNTRMZ</td>\n",
       "      <td>107</td>\n",
       "      <td>0</td>\n",
       "      <td>1.0</td>\n",
       "      <td>1.000000</td>\n",
       "      <td>1.000000</td>\n",
       "      <td>True</td>\n",
       "      <td>0.0</td>\n",
       "    </tr>\n",
       "    <tr>\n",
       "      <th>708</th>\n",
       "      <td>NFYLBYTRHB</td>\n",
       "      <td>618</td>\n",
       "      <td>2076</td>\n",
       "      <td>1.0</td>\n",
       "      <td>1.000000</td>\n",
       "      <td>1.000000</td>\n",
       "      <td>True</td>\n",
       "      <td>0.0</td>\n",
       "    </tr>\n",
       "    <tr>\n",
       "      <th>869</th>\n",
       "      <td>TEGNGWGODO</td>\n",
       "      <td>194</td>\n",
       "      <td>0</td>\n",
       "      <td>1.0</td>\n",
       "      <td>0.743902</td>\n",
       "      <td>0.743902</td>\n",
       "      <td>True</td>\n",
       "      <td>0.0</td>\n",
       "    </tr>\n",
       "    <tr>\n",
       "      <th>1129</th>\n",
       "      <td>EYWNVIFVOM</td>\n",
       "      <td>136</td>\n",
       "      <td>0</td>\n",
       "      <td>1.0</td>\n",
       "      <td>0.518868</td>\n",
       "      <td>0.518868</td>\n",
       "      <td>True</td>\n",
       "      <td>0.0</td>\n",
       "    </tr>\n",
       "    <tr>\n",
       "      <th>1372</th>\n",
       "      <td>CRDCTAWXQU</td>\n",
       "      <td>300</td>\n",
       "      <td>2090</td>\n",
       "      <td>1.0</td>\n",
       "      <td>1.000000</td>\n",
       "      <td>1.000000</td>\n",
       "      <td>True</td>\n",
       "      <td>0.0</td>\n",
       "    </tr>\n",
       "  </tbody>\n",
       "</table>\n",
       "</div>"
      ],
      "text/plain": [
       "          NodeID  SeqLength  N_Asms  Jaccard_Cont_WiRv  Jaccard_Cont_WiIS6110  Jaccard_Cont_WiRv_InsSeqAndPhages  IsSVNode  MaxJC_ToOtherNode\n",
       "137   TGVEUNTRMZ        107       0                1.0               1.000000                           1.000000      True                0.0\n",
       "708   NFYLBYTRHB        618    2076                1.0               1.000000                           1.000000      True                0.0\n",
       "869   TEGNGWGODO        194       0                1.0               0.743902                           0.743902      True                0.0\n",
       "1129  EYWNVIFVOM        136       0                1.0               0.518868                           0.518868      True                0.0\n",
       "1372  CRDCTAWXQU        300    2090                1.0               1.000000                           1.000000      True                0.0"
      ]
     },
     "execution_count": 181,
     "metadata": {},
     "output_type": "execute_result"
    }
   ],
   "source": [
    "PG_Nodes_KmerComp_DF.query(\"Jaccard_Cont_WiIS6110 > 0.5\")"
   ]
  },
  {
   "cell_type": "code",
   "execution_count": null,
   "id": "c4a8e477-bfcf-4e8e-84a7-87c870c3c136",
   "metadata": {},
   "outputs": [],
   "source": []
  },
  {
   "cell_type": "code",
   "execution_count": null,
   "id": "84752e35-5a9b-482f-a613-31f074d88b4a",
   "metadata": {},
   "outputs": [],
   "source": []
  },
  {
   "cell_type": "markdown",
   "id": "dd01710a-52ad-4402-ba14-908b6c8d13e7",
   "metadata": {},
   "source": [
    "#### Question 1: How many Core Nodes are there? What is there cumulative length?"
   ]
  },
  {
   "cell_type": "code",
   "execution_count": 128,
   "id": "371f6859-e410-4a1b-9bc1-491465ea35f8",
   "metadata": {},
   "outputs": [
    {
     "data": {
      "text/plain": [
       "458"
      ]
     },
     "execution_count": 128,
     "metadata": {},
     "output_type": "execute_result"
    }
   ],
   "source": [
    "PG_CoreNodes_All_DF.shape[0] "
   ]
  },
  {
   "cell_type": "code",
   "execution_count": 129,
   "id": "ebafb61f-f579-4d01-a877-d05d8152f4e2",
   "metadata": {},
   "outputs": [
    {
     "data": {
      "text/plain": [
       "3921235"
      ]
     },
     "execution_count": 129,
     "metadata": {},
     "output_type": "execute_result"
    }
   ],
   "source": [
    "PG_CoreNodes_All_DF[\"SeqLength\"].sum()"
   ]
  },
  {
   "cell_type": "code",
   "execution_count": null,
   "id": "4128c365-7346-4b4e-81de-c7adee0d1b66",
   "metadata": {},
   "outputs": [],
   "source": []
  },
  {
   "cell_type": "markdown",
   "id": "b1164abe-97a9-46b6-a904-f0bc31026a26",
   "metadata": {},
   "source": [
    "#### Question 2: How many SV Nodes are there? What is there cumulative length?"
   ]
  },
  {
   "cell_type": "code",
   "execution_count": 130,
   "id": "40792fc1-38ba-4008-b547-25e793562e0a",
   "metadata": {},
   "outputs": [
    {
     "data": {
      "text/plain": [
       "1023"
      ]
     },
     "execution_count": 130,
     "metadata": {},
     "output_type": "execute_result"
    }
   ],
   "source": [
    "PG_SVNodes_All_DF.shape[0]"
   ]
  },
  {
   "cell_type": "code",
   "execution_count": 131,
   "id": "663fe003-1d1d-4692-af0c-b5360ffcdb51",
   "metadata": {},
   "outputs": [
    {
     "data": {
      "text/plain": [
       "512395"
      ]
     },
     "execution_count": 131,
     "metadata": {},
     "output_type": "execute_result"
    }
   ],
   "source": [
    "PG_SVNodes_All_DF[\"SeqLength\"].sum()"
   ]
  },
  {
   "cell_type": "markdown",
   "id": "9ab4da9a-f554-4cb3-a215-fc27544eaa11",
   "metadata": {},
   "source": [
    "#### Question 3: How many SV nodes are too small to be evaluated using k-mer (31-mer) based comparison? (Filtered out for downstream evaluation)\n",
    "\n",
    "Basically, how many have length < 31bp?"
   ]
  },
  {
   "cell_type": "code",
   "execution_count": 132,
   "id": "39bd07ab-70ae-419a-8d7b-f6d0c8cf6b56",
   "metadata": {},
   "outputs": [
    {
     "data": {
      "text/plain": [
       "1"
      ]
     },
     "execution_count": 132,
     "metadata": {},
     "output_type": "execute_result"
    }
   ],
   "source": [
    "PG_SVNodes_Sub31bp_DF.shape[0]"
   ]
  },
  {
   "cell_type": "code",
   "execution_count": 133,
   "id": "848f74f3-f5b0-4cfc-a895-4c7234840dac",
   "metadata": {},
   "outputs": [
    {
     "data": {
      "text/plain": [
       "19"
      ]
     },
     "execution_count": 133,
     "metadata": {},
     "output_type": "execute_result"
    }
   ],
   "source": [
    "PG_SVNodes_Sub31bp_DF[\"SeqLength\"].sum() "
   ]
  },
  {
   "cell_type": "code",
   "execution_count": null,
   "id": "035d03c8-9ed3-4391-844d-d179da3d28de",
   "metadata": {},
   "outputs": [],
   "source": []
  },
  {
   "cell_type": "markdown",
   "id": "69ebe9aa-8b85-47cb-b34f-2c2a4638ea9e",
   "metadata": {},
   "source": [
    "#### Question 4: How many SV nodes are long enough to be evaluated using k-mer (31-mer) based comparison? (\"PASS\" SV Nodes)\n",
    "\n",
    "Basically, how many SV nodes have length >= 31bp?"
   ]
  },
  {
   "cell_type": "code",
   "execution_count": 134,
   "id": "eb8bdc74-9c10-45b2-8941-0fe060c1458e",
   "metadata": {
    "scrolled": true
   },
   "outputs": [
    {
     "data": {
      "text/plain": [
       "1022"
      ]
     },
     "execution_count": 134,
     "metadata": {},
     "output_type": "execute_result"
    }
   ],
   "source": [
    "PG_SVNodes_PASS_DF.shape[0]"
   ]
  },
  {
   "cell_type": "code",
   "execution_count": 135,
   "id": "e8114e69-8a53-4888-afb8-b50e22a6502c",
   "metadata": {},
   "outputs": [
    {
     "data": {
      "text/plain": [
       "512376"
      ]
     },
     "execution_count": 135,
     "metadata": {},
     "output_type": "execute_result"
    }
   ],
   "source": [
    "PG_SVNodes_PASS_DF[\"SeqLength\"].sum() "
   ]
  },
  {
   "cell_type": "code",
   "execution_count": null,
   "id": "8dd059b5-6f51-4560-94f9-4c7d22578fcc",
   "metadata": {},
   "outputs": [],
   "source": []
  },
  {
   "cell_type": "markdown",
   "id": "a13bf758-bfe2-4e21-ad50-7c70fc51436f",
   "metadata": {},
   "source": [
    "#### Question 5: How many SV nodes have \"unique sequence content within the graph\"?"
   ]
  },
  {
   "cell_type": "code",
   "execution_count": 136,
   "id": "8ae3bbe2-6b59-40c0-80e0-3f3f9173bad0",
   "metadata": {},
   "outputs": [],
   "source": [
    "PG_SVNodes_UnqSeq_DF =  PG_SVNodes_PASS_DF.query(\"MaxJC_ToOtherNode < 0.05\")"
   ]
  },
  {
   "cell_type": "code",
   "execution_count": 137,
   "id": "309067ab-fab0-4770-84aa-24a200940872",
   "metadata": {},
   "outputs": [
    {
     "data": {
      "text/plain": [
       "688"
      ]
     },
     "execution_count": 137,
     "metadata": {},
     "output_type": "execute_result"
    }
   ],
   "source": [
    "PG_SVNodes_UnqSeq_DF.shape[0]"
   ]
  },
  {
   "cell_type": "code",
   "execution_count": 138,
   "id": "b84ec808-c5e6-43c2-9c04-141d82dad298",
   "metadata": {},
   "outputs": [
    {
     "data": {
      "text/plain": [
       "460232"
      ]
     },
     "execution_count": 138,
     "metadata": {},
     "output_type": "execute_result"
    }
   ],
   "source": [
    "PG_SVNodes_UnqSeq_DF[\"SeqLength\"].sum()   "
   ]
  },
  {
   "cell_type": "code",
   "execution_count": 2,
   "id": "b5a3fc04-4fd7-474e-b3d6-360ebadf16cd",
   "metadata": {},
   "outputs": [
    {
     "data": {
      "text/plain": [
       "0.8982309866192015"
      ]
     },
     "execution_count": 2,
     "metadata": {},
     "output_type": "execute_result"
    }
   ],
   "source": [
    "460232 / 512376 # len of unique SV nodes / total len of SV nodes"
   ]
  },
  {
   "cell_type": "code",
   "execution_count": 140,
   "id": "c418cbab-b7f0-4a3e-afa2-7602c313d811",
   "metadata": {},
   "outputs": [
    {
     "data": {
      "text/plain": [
       "0.2323076923076923"
      ]
     },
     "execution_count": 140,
     "metadata": {},
     "output_type": "execute_result"
    }
   ],
   "source": [
    "302 / 1300 # 302 kb / 1,300 kb"
   ]
  },
  {
   "cell_type": "code",
   "execution_count": null,
   "id": "32cd4b45-c585-4df2-ad04-6d14eb757a0c",
   "metadata": {},
   "outputs": [],
   "source": []
  },
  {
   "cell_type": "markdown",
   "id": "a1c98bf3-bf14-4232-a85f-ff7c4619febb",
   "metadata": {},
   "source": [
    "#### Question 6: Of \"unique sequence content within the graph\" nodes, how much is **also** \"unique relative to H37Rv\"?"
   ]
  },
  {
   "cell_type": "code",
   "execution_count": 141,
   "id": "e4d82b78-2053-49af-ae84-9919aa861fe3",
   "metadata": {},
   "outputs": [],
   "source": [
    "PG_SVNodes_UnqSeq_UnqToRv_DF = PG_SVNodes_UnqSeq_DF.query(\"Jaccard_Cont_WiRv < 0.05\")"
   ]
  },
  {
   "cell_type": "code",
   "execution_count": 142,
   "id": "67253b6f-8002-46ad-b45d-8fb4f734eac7",
   "metadata": {},
   "outputs": [
    {
     "data": {
      "text/plain": [
       "86"
      ]
     },
     "execution_count": 142,
     "metadata": {},
     "output_type": "execute_result"
    }
   ],
   "source": [
    "PG_SVNodes_UnqSeq_UnqToRv_DF.shape[0]"
   ]
  },
  {
   "cell_type": "code",
   "execution_count": 143,
   "id": "ed07163f-bfb5-4ee6-a09b-87834abecb32",
   "metadata": {},
   "outputs": [
    {
     "data": {
      "text/plain": [
       "65451"
      ]
     },
     "execution_count": 143,
     "metadata": {},
     "output_type": "execute_result"
    }
   ],
   "source": [
    "PG_SVNodes_UnqSeq_UnqToRv_DF[\"SeqLength\"].sum()  "
   ]
  },
  {
   "cell_type": "code",
   "execution_count": null,
   "id": "5b5a437a-c953-4893-b968-37c772bfe994",
   "metadata": {},
   "outputs": [],
   "source": []
  },
  {
   "cell_type": "markdown",
   "id": "ad43757b-ec73-4704-a002-bbcf4e19bd9b",
   "metadata": {},
   "source": [
    "#### Question 7: How many SV nodes have \"non-unique sequence content within the graph\"?"
   ]
  },
  {
   "cell_type": "code",
   "execution_count": 144,
   "id": "cbd64781-cf72-453c-9393-998a31a8e3b6",
   "metadata": {},
   "outputs": [],
   "source": [
    "PG_SVNodes_NoUnqSeq_DF = PG_SVNodes_PASS_DF.query(\"MaxJC_ToOtherNode >= 0.05\")"
   ]
  },
  {
   "cell_type": "code",
   "execution_count": 145,
   "id": "7af7fe1d-0cf5-485d-be2a-32d4220b4bce",
   "metadata": {},
   "outputs": [
    {
     "data": {
      "text/plain": [
       "334"
      ]
     },
     "execution_count": 145,
     "metadata": {},
     "output_type": "execute_result"
    }
   ],
   "source": [
    "PG_SVNodes_NoUnqSeq_DF.shape[0]"
   ]
  },
  {
   "cell_type": "code",
   "execution_count": 1,
   "id": "0bda0b3d-64b2-4e61-a1fd-99a5dfd113e9",
   "metadata": {},
   "outputs": [
    {
     "ename": "NameError",
     "evalue": "name 'PG_SVNodes_NoUnqSeq_DF' is not defined",
     "output_type": "error",
     "traceback": [
      "\u001b[0;31m---------------------------------------------------------------------------\u001b[0m",
      "\u001b[0;31mNameError\u001b[0m                                 Traceback (most recent call last)",
      "Cell \u001b[0;32mIn[1], line 1\u001b[0m\n\u001b[0;32m----> 1\u001b[0m \u001b[43mPG_SVNodes_NoUnqSeq_DF\u001b[49m[\u001b[38;5;124m\"\u001b[39m\u001b[38;5;124mSeqLength\u001b[39m\u001b[38;5;124m\"\u001b[39m]\u001b[38;5;241m.\u001b[39msum()  \n",
      "\u001b[0;31mNameError\u001b[0m: name 'PG_SVNodes_NoUnqSeq_DF' is not defined"
     ]
    }
   ],
   "source": [
    "PG_SVNodes_NoUnqSeq_DF[\"SeqLength\"].sum()  "
   ]
  },
  {
   "cell_type": "code",
   "execution_count": null,
   "id": "3861a676-ff36-44be-8640-6c7304f6d3ce",
   "metadata": {},
   "outputs": [],
   "source": []
  },
  {
   "cell_type": "markdown",
   "id": "a5e9b6e0-11f9-4487-803f-b9c22f6238c4",
   "metadata": {},
   "source": [
    "#### Question 8: Of \"non-unique sequence content within the graph\" nodes, how much is **also** \"unique relative to H37Rv\"?"
   ]
  },
  {
   "cell_type": "code",
   "execution_count": 147,
   "id": "61664a05-1b28-4b36-8153-e08c6ee89997",
   "metadata": {},
   "outputs": [],
   "source": [
    "PG_SVNodes_NoUnqSeq_UnqToRv_DF = PG_SVNodes_NoUnqSeq_DF.query(\"Jaccard_Cont_WiRv < 0.05\")"
   ]
  },
  {
   "cell_type": "code",
   "execution_count": 148,
   "id": "ab6142f5-5744-4ed4-9090-f244da68fc38",
   "metadata": {},
   "outputs": [
    {
     "data": {
      "text/plain": [
       "16"
      ]
     },
     "execution_count": 148,
     "metadata": {},
     "output_type": "execute_result"
    }
   ],
   "source": [
    "PG_SVNodes_NoUnqSeq_UnqToRv_DF.shape[0]"
   ]
  },
  {
   "cell_type": "code",
   "execution_count": 149,
   "id": "5d8e89de-7f56-420e-818d-167aa935ee87",
   "metadata": {},
   "outputs": [
    {
     "data": {
      "text/plain": [
       "3607"
      ]
     },
     "execution_count": 149,
     "metadata": {},
     "output_type": "execute_result"
    }
   ],
   "source": [
    "PG_SVNodes_NoUnqSeq_UnqToRv_DF[\"SeqLength\"].sum()  "
   ]
  },
  {
   "cell_type": "code",
   "execution_count": null,
   "id": "44929662-d428-4c04-b2b3-787f7af7ec73",
   "metadata": {},
   "outputs": [],
   "source": []
  },
  {
   "cell_type": "markdown",
   "id": "7b262f3c-61bf-4a82-b348-06a660cfd6b0",
   "metadata": {},
   "source": [
    "#### Question 9: Of \"non-unique sequence content within the graph\" nodes, how many have k-mer overlap w/ sequences annotated as related to \"phages & insertion sequences\"?"
   ]
  },
  {
   "cell_type": "code",
   "execution_count": 150,
   "id": "302633fe-cac0-4c5b-9c3c-0c47737ccd90",
   "metadata": {},
   "outputs": [],
   "source": [
    "PG_SVNodes_NoUnqSeq_ISandPhages_DF = PG_SVNodes_NoUnqSeq_DF.query(\"Jaccard_Cont_WiRv_InsSeqAndPhages > 0.5\")"
   ]
  },
  {
   "cell_type": "code",
   "execution_count": 151,
   "id": "e4da5ebd-b134-42b4-ac02-501361568ad3",
   "metadata": {},
   "outputs": [
    {
     "data": {
      "text/plain": [
       "4"
      ]
     },
     "execution_count": 151,
     "metadata": {},
     "output_type": "execute_result"
    }
   ],
   "source": [
    "PG_SVNodes_NoUnqSeq_ISandPhages_DF.shape[0] "
   ]
  },
  {
   "cell_type": "code",
   "execution_count": 152,
   "id": "da819420-6618-4cbc-85c6-b223dd76bd8b",
   "metadata": {},
   "outputs": [
    {
     "data": {
      "text/plain": [
       "729"
      ]
     },
     "execution_count": 152,
     "metadata": {},
     "output_type": "execute_result"
    }
   ],
   "source": [
    "PG_SVNodes_NoUnqSeq_ISandPhages_DF[\"SeqLength\"].sum() "
   ]
  },
  {
   "cell_type": "code",
   "execution_count": null,
   "id": "0f1ae5b7-0da6-4223-bbe8-18092399cca1",
   "metadata": {},
   "outputs": [],
   "source": []
  },
  {
   "cell_type": "markdown",
   "id": "0b700de1-9a66-4f38-ade2-06f76b796a49",
   "metadata": {},
   "source": [
    "#### - Question 10: Of the nodes that are classified as i) \"non-unique sequence\" & ii) \"phages & insertion sequences\", how many share k-mer content with the IS6110 element specifically?"
   ]
  },
  {
   "cell_type": "code",
   "execution_count": 153,
   "id": "280dbfac-8c6e-4d5c-9506-58cf8959a681",
   "metadata": {},
   "outputs": [],
   "source": [
    "PG_SVNodes_NoUnqSeq_ISandPhages_IS6110_DF = PG_SVNodes_NoUnqSeq_ISandPhages_DF.query(\"Jaccard_Cont_WiIS6110 > 0.5\")"
   ]
  },
  {
   "cell_type": "code",
   "execution_count": 154,
   "id": "3684ae89-4c3f-4bb6-a637-7d17bc0d4979",
   "metadata": {},
   "outputs": [
    {
     "data": {
      "text/plain": [
       "0"
      ]
     },
     "execution_count": 154,
     "metadata": {},
     "output_type": "execute_result"
    }
   ],
   "source": [
    "PG_SVNodes_NoUnqSeq_ISandPhages_IS6110_DF.shape[0]"
   ]
  },
  {
   "cell_type": "code",
   "execution_count": 155,
   "id": "75b85b9e-812b-4983-86c6-9a1e5f500420",
   "metadata": {},
   "outputs": [
    {
     "data": {
      "text/plain": [
       "0"
      ]
     },
     "execution_count": 155,
     "metadata": {},
     "output_type": "execute_result"
    }
   ],
   "source": [
    "PG_SVNodes_NoUnqSeq_ISandPhages_IS6110_DF[\"SeqLength\"].sum()  "
   ]
  },
  {
   "cell_type": "code",
   "execution_count": null,
   "id": "3517da21-3e4c-466e-b46c-5d45cdbb71c2",
   "metadata": {},
   "outputs": [],
   "source": []
  },
  {
   "cell_type": "markdown",
   "id": "b92fde89-e0e6-4c19-9a57-750eff34bc24",
   "metadata": {},
   "source": [
    "#### Question 11: How many SV nodes (& total length) are unique to H37Rv? (Independent of whether it is unique within the graph)"
   ]
  },
  {
   "cell_type": "code",
   "execution_count": 156,
   "id": "9b7aebf6-4fcc-4284-bbe6-d63f892076ba",
   "metadata": {},
   "outputs": [],
   "source": [
    "PG_SVNodes_UnqToRv_All_DF = PG_SVNodes_PASS_DF.query(\"Jaccard_Cont_WiRv < 0.05 & SeqLength >= 31\")"
   ]
  },
  {
   "cell_type": "code",
   "execution_count": 157,
   "id": "43696411-4e5e-4d17-93eb-bb4723be2a5d",
   "metadata": {},
   "outputs": [
    {
     "data": {
      "text/plain": [
       "102"
      ]
     },
     "execution_count": 157,
     "metadata": {},
     "output_type": "execute_result"
    }
   ],
   "source": [
    "PG_SVNodes_UnqToRv_All_DF.shape[0]"
   ]
  },
  {
   "cell_type": "code",
   "execution_count": 158,
   "id": "b368f728-587c-4e86-8661-4b00cbef0738",
   "metadata": {},
   "outputs": [
    {
     "data": {
      "text/plain": [
       "69058"
      ]
     },
     "execution_count": 158,
     "metadata": {},
     "output_type": "execute_result"
    }
   ],
   "source": [
    "PG_SVNodes_UnqToRv_All_DF[\"SeqLength\"].sum()  "
   ]
  },
  {
   "cell_type": "code",
   "execution_count": 159,
   "id": "360b8981-ee2a-4311-81b4-5d9089648644",
   "metadata": {},
   "outputs": [
    {
     "data": {
      "text/plain": [
       "66621"
      ]
     },
     "execution_count": 159,
     "metadata": {},
     "output_type": "execute_result"
    }
   ],
   "source": [
    "14815 + 51806"
   ]
  },
  {
   "cell_type": "code",
   "execution_count": 160,
   "id": "974e0878-425d-4bb1-8998-da481202b4a1",
   "metadata": {},
   "outputs": [
    {
     "data": {
      "text/plain": [
       "67"
      ]
     },
     "execution_count": 160,
     "metadata": {},
     "output_type": "execute_result"
    }
   ],
   "source": [
    "15 + 52"
   ]
  },
  {
   "cell_type": "code",
   "execution_count": 161,
   "id": "a02f90d5-8be7-4b6d-9c34-a38885c358d9",
   "metadata": {},
   "outputs": [
    {
     "data": {
      "text/plain": [
       "0.05191693104004526"
      ]
     },
     "execution_count": 161,
     "metadata": {},
     "output_type": "execute_result"
    }
   ],
   "source": [
    "66621 / 1283223 # len of \"unique to H37Rv\" SV nodes / total len of SV nodes"
   ]
  },
  {
   "cell_type": "code",
   "execution_count": 162,
   "id": "455876e8-5580-4175-9cb5-ad0d912a3e5a",
   "metadata": {},
   "outputs": [
    {
     "data": {
      "text/plain": [
       "0.05153846153846154"
      ]
     },
     "execution_count": 162,
     "metadata": {},
     "output_type": "execute_result"
    }
   ],
   "source": [
    "67/ 1300 # 67 kb / 1,300 kb"
   ]
  },
  {
   "cell_type": "code",
   "execution_count": 163,
   "id": "602ab4f0-3748-4035-8b08-43c2f1ff1775",
   "metadata": {},
   "outputs": [
    {
     "data": {
      "text/plain": [
       "(102, 8)"
      ]
     },
     "execution_count": 163,
     "metadata": {},
     "output_type": "execute_result"
    }
   ],
   "source": [
    "PG_SVNodes_PASS_DF.query(\"Jaccard_Cont_WiRv < 0.05\").shape"
   ]
  },
  {
   "cell_type": "code",
   "execution_count": null,
   "id": "8d8c3498-ad47-4010-9f6d-b44d9ccccf68",
   "metadata": {},
   "outputs": [],
   "source": []
  },
  {
   "cell_type": "code",
   "execution_count": null,
   "id": "d127178f-d621-44ed-8f44-01a8666b014d",
   "metadata": {},
   "outputs": [],
   "source": []
  },
  {
   "cell_type": "code",
   "execution_count": null,
   "id": "72ce1557-24d9-46f2-b430-c6887350ec81",
   "metadata": {},
   "outputs": [],
   "source": []
  }
 ],
 "metadata": {
  "kernelspec": {
   "display_name": "bfds-v1-miniforge",
   "language": "python",
   "name": "bfds-v1-miniforge"
  },
  "language_info": {
   "codemirror_mode": {
    "name": "ipython",
    "version": 3
   },
   "file_extension": ".py",
   "mimetype": "text/x-python",
   "name": "python",
   "nbconvert_exporter": "python",
   "pygments_lexer": "ipython3",
   "version": "3.10.14"
  }
 },
 "nbformat": 4,
 "nbformat_minor": 5
}
